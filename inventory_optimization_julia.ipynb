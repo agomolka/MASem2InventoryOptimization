{
 "cells": [
  {
   "cell_type": "code",
   "execution_count": 24,
   "metadata": {},
   "outputs": [
    {
     "data": {
      "text/html": [
       "<style>.container { width:100% !important; }</style>"
      ]
     },
     "metadata": {},
     "output_type": "display_data"
    }
   ],
   "source": [
    "display(\"text/html\", \"<style>.container { width:100% !important; }</style>\")"
   ]
  },
  {
   "cell_type": "code",
   "execution_count": 25,
   "metadata": {},
   "outputs": [
    {
     "data": {
      "text/plain": [
       "TaskLocalRNG()"
      ]
     },
     "execution_count": 25,
     "metadata": {},
     "output_type": "execute_result"
    }
   ],
   "source": [
    "using Random, Distributions, Statistics, DataFrames, VegaLite, Plots\n",
    "Random.seed!(10)"
   ]
  },
  {
   "cell_type": "code",
   "execution_count": 27,
   "metadata": {},
   "outputs": [
    {
     "data": {
      "text/plain": [
       "simulateOneRun (generic function with 1 method)"
      ]
     },
     "execution_count": 27,
     "metadata": {},
     "output_type": "execute_result"
    }
   ],
   "source": [
    "using Random\n",
    "using Distributions\n",
    "using Statistics\n",
    "# m - number of days\n",
    "# s - reorder point\n",
    "# S - target warehouse volume\n",
    "function simulateOneRun(m, s, S;\n",
    "    h = 0.1, #storage cost\n",
    "    c = 4.0, #unit profit\n",
    "    p = 0.75, #probability of delivery\n",
    "    K = 100, # fixed order cost\n",
    "    k = 1.0, # variable order cost\n",
    "    init_S = 100, #initial warehouse level\n",
    "    average_demand = 20)\n",
    "    Xⱼ = init_S\n",
    "    local Yj\n",
    "    profit = 0.0\n",
    "    lost_orders = 0.0\n",
    "    warehouse_levels = Int[]\n",
    "    #pois = Distributions.Poisson(average_demand)\n",
    "    normal=Distributions.Normal(average_demand,5)\n",
    "    for day in 1:m\n",
    "        if Xⱼ < s\n",
    "            if rand() < p\n",
    "                profit -= K + (S-Xⱼ)*k\n",
    "                Xⱼ = S\n",
    "            end\n",
    "        end\n",
    "        push!(warehouse_levels, Xⱼ)\n",
    "        #demand = rand(pois)\n",
    "        demand = round.(Int, rand(normal))\n",
    "        sales = min(Xⱼ, demand)\n",
    "        Xⱼ -= sales\n",
    "        @assert Xⱼ >= 0\n",
    "        lost_order = demand - sales # failed to provide  \n",
    "        @assert lost_order >= 0 \n",
    "        profit += sales*c - (Xⱼ-sales)*h  # storage costs\n",
    "        lost_orders += lost_order\n",
    "        #koszt_jednostkowy_Stock_outu to wtedy bez wag \n",
    "        # one_obj = 0.75 * profit + 0.25 * lost_orders * koszt_jednostkowy_Stock_outu \n",
    "        # wtedy kiedy wybieramy jedna opcje np logistyke\n",
    "    end\n",
    "    \n",
    "    (profit=profit, lost_orders=lost_orders,\n",
    "        warehouse_levels=warehouse_levels) #,one_obj\n",
    "end"
   ]
  },
  {
   "cell_type": "code",
   "execution_count": 28,
   "metadata": {},
   "outputs": [
    {
     "data": {
      "text/plain": [
       "run_sims (generic function with 2 methods)"
      ]
     },
     "execution_count": 28,
     "metadata": {},
     "output_type": "execute_result"
    }
   ],
   "source": [
    "function run_sims(m,s,S,N=100)\n",
    "    df = DataFrame(simulateOneRun(m,s,S) for n in 1:N)\n",
    "    (\n",
    "        m=m,\n",
    "        s=s,\n",
    "        S=S,\n",
    "        N=N,\n",
    "        profit_mean = mean(df.profit),\n",
    "        profit_std = std(df.profit),\n",
    "        lost_mean = mean(df.lost_orders),\n",
    "        lost_std = std(df.lost_orders)\n",
    "    )\n",
    "end"
   ]
  },
  {
   "cell_type": "code",
   "execution_count": 29,
   "metadata": {},
   "outputs": [
    {
     "data": {
      "text/html": [
       "<div><div style = \"float: left;\"><span>DataFrameRow (8 columns)</span></div><div style = \"clear: both;\"></div></div><div class = \"data-frame\" style = \"overflow-x: scroll;\"><table class = \"data-frame\" style = \"margin-bottom: 6px;\"><thead><tr class = \"header\"><th class = \"rowLabel\" style = \"font-weight: bold; text-align: right;\">Row</th><th style = \"text-align: left;\">m</th><th style = \"text-align: left;\">s</th><th style = \"text-align: left;\">S</th><th style = \"text-align: left;\">N</th><th style = \"text-align: left;\">profit_mean</th><th style = \"text-align: left;\">profit_std</th><th style = \"text-align: left;\">lost_mean</th><th style = \"text-align: left;\">lost_std</th></tr><tr class = \"subheader headerLastRow\"><th class = \"rowLabel\" style = \"font-weight: bold; text-align: right;\"></th><th title = \"Int64\" style = \"text-align: left;\">Int64</th><th title = \"Int64\" style = \"text-align: left;\">Int64</th><th title = \"Int64\" style = \"text-align: left;\">Int64</th><th title = \"Int64\" style = \"text-align: left;\">Int64</th><th title = \"Float64\" style = \"text-align: left;\">Float64</th><th title = \"Float64\" style = \"text-align: left;\">Float64</th><th title = \"Float64\" style = \"text-align: left;\">Float64</th><th title = \"Float64\" style = \"text-align: left;\">Float64</th></tr></thead><tbody><tr><td class = \"rowLabel\" style = \"font-weight: bold; text-align: right;\">12</td><td style = \"text-align: right;\">30</td><td style = \"text-align: right;\">30</td><td style = \"text-align: right;\">200</td><td style = \"text-align: right;\">1000</td><td style = \"text-align: right;\">1275.55</td><td style = \"text-align: right;\">115.325</td><td style = \"text-align: right;\">7.246</td><td style = \"text-align: right;\">13.9784</td></tr></tbody></table></div>"
      ],
      "text/latex": [
       "\\begin{tabular}{r|cccccccc}\n",
       "\t& m & s & S & N & profit\\_mean & profit\\_std & lost\\_mean & lost\\_std\\\\\n",
       "\t\\hline\n",
       "\t& Int64 & Int64 & Int64 & Int64 & Float64 & Float64 & Float64 & Float64\\\\\n",
       "\t\\hline\n",
       "\t12 & 30 & 30 & 200 & 1000 & 1275.55 & 115.325 & 7.246 & 13.9784 \\\\\n",
       "\\end{tabular}\n"
      ],
      "text/plain": [
       "\u001b[1mDataFrameRow\u001b[0m\n",
       "\u001b[1m Row \u001b[0m│\u001b[1m m     \u001b[0m\u001b[1m s     \u001b[0m\u001b[1m S     \u001b[0m\u001b[1m N     \u001b[0m\u001b[1m profit_mean \u001b[0m\u001b[1m profit_std \u001b[0m\u001b[1m lost_mean \u001b[0m\u001b[1m lost_st\u001b[0m ⋯\n",
       "     │\u001b[90m Int64 \u001b[0m\u001b[90m Int64 \u001b[0m\u001b[90m Int64 \u001b[0m\u001b[90m Int64 \u001b[0m\u001b[90m Float64     \u001b[0m\u001b[90m Float64    \u001b[0m\u001b[90m Float64   \u001b[0m\u001b[90m Float64\u001b[0m ⋯\n",
       "─────┼──────────────────────────────────────────────────────────────────────────\n",
       "  12 │    30     30    200   1000      1275.55     115.325      7.246   13.978 ⋯\n",
       "\u001b[36m                                                                1 column omitted\u001b[0m"
      ]
     },
     "execution_count": 29,
     "metadata": {},
     "output_type": "execute_result"
    }
   ],
   "source": [
    "# Wartości początkowe dla s,S\n",
    "using Random\n",
    "Random.seed!(10)\n",
    "df = DataFrame(run_sims(30,s,S,1000)\n",
    "    for S in 100:100:1000, s in 20:10:50 if S > s )\n",
    "best_row = argmax(df.profit_mean)\n",
    "df[best_row,:]"
   ]
  },
  {
   "cell_type": "code",
   "execution_count": 30,
   "metadata": {},
   "outputs": [
    {
     "data": {
      "application/vnd.vegalite.v4+json": {
       "data": {
        "values": [
         {
          "N": 1000,
          "S": 100,
          "lost_mean": 25.674,
          "lost_std": 24.226817014677405,
          "m": 30,
          "profit_mean": 1152.4156,
          "profit_std": 84.37052175719657,
          "s": 20
         },
         {
          "N": 1000,
          "S": 200,
          "lost_mean": 13.773,
          "lost_std": 18.94741342440903,
          "m": 30,
          "profit_mean": 1257.8688,
          "profit_std": 130.53373595658246,
          "s": 20
         },
         {
          "N": 1000,
          "S": 300,
          "lost_mean": 8.647,
          "lost_std": 14.303740349572484,
          "m": 30,
          "profit_mean": 1209.0417999999995,
          "profit_std": 133.11743493714204,
          "s": 20
         },
         {
          "N": 1000,
          "S": 400,
          "lost_mean": 8.831,
          "lost_std": 15.532987887483616,
          "m": 30,
          "profit_mean": 868.2480000000002,
          "profit_std": 104.3348470853162,
          "s": 20
         },
         {
          "N": 1000,
          "S": 500,
          "lost_mean": 6.311,
          "lost_std": 11.716806841565774,
          "m": 30,
          "profit_mean": 894.7227000000001,
          "profit_std": 242.58731628164475,
          "s": 20
         },
         {
          "N": 1000,
          "S": 600,
          "lost_mean": 5.119,
          "lost_std": 11.223225908792879,
          "m": 30,
          "profit_mean": 873.6416000000002,
          "profit_std": 148.76447922713174,
          "s": 20
         },
         {
          "N": 1000,
          "S": 700,
          "lost_mean": 4.432,
          "lost_std": 10.41680785489902,
          "m": 30,
          "profit_mean": 522.3597,
          "profit_std": 145.451646217213,
          "s": 20
         },
         {
          "N": 1000,
          "S": 800,
          "lost_mean": 4.529,
          "lost_std": 10.734355378195064,
          "m": 30,
          "profit_mean": 167.56319999999997,
          "profit_std": 139.32307621254034,
          "s": 20
         },
         {
          "N": 1000,
          "S": 900,
          "lost_mean": 4.482,
          "lost_std": 11.061013607351818,
          "m": 30,
          "profit_mean": -171.27740000000014,
          "profit_std": 143.70375136856168,
          "s": 20
         },
         {
          "N": 1000,
          "S": 1000,
          "lost_mean": 4.879,
          "lost_std": 11.897390760452767,
          "m": 30,
          "profit_mean": -532.6375,
          "profit_std": 139.7926638010829,
          "s": 20
         },
         {
          "N": 1000,
          "S": 100,
          "lost_mean": 15.098,
          "lost_std": 19.621656540807287,
          "m": 30,
          "profit_mean": 1100.8507000000002,
          "profit_std": 87.9031012804709,
          "s": 30
         },
         {
          "N": 1000,
          "S": 200,
          "lost_mean": 7.246,
          "lost_std": 13.978443435550359,
          "m": 30,
          "profit_mean": 1275.5529,
          "profit_std": 115.32461071873352,
          "s": 30
         },
         {
          "N": 1000,
          "S": 300,
          "lost_mean": 5,
          "lost_std": 11.378817050883518,
          "m": 30,
          "profit_mean": 1232.3284,
          "profit_std": 120.59050519582121,
          "s": 30
         },
         {
          "N": 1000,
          "S": 400,
          "lost_mean": 5.009,
          "lost_std": 11.002998908705981,
          "m": 30,
          "profit_mean": 863.6781999999998,
          "profit_std": 107.77515320521891,
          "s": 30
         },
         {
          "N": 1000,
          "S": 500,
          "lost_mean": 3.874,
          "lost_std": 9.059812592112719,
          "m": 30,
          "profit_mean": 774.0006,
          "profit_std": 232.98199769701284,
          "s": 30
         },
         {
          "N": 1000,
          "S": 600,
          "lost_mean": 2.66,
          "lost_std": 9.013303480946352,
          "m": 30,
          "profit_mean": 891.4326,
          "profit_std": 145.45994600965977,
          "s": 30
         },
         {
          "N": 1000,
          "S": 700,
          "lost_mean": 2.354,
          "lost_std": 7.957638343629851,
          "m": 30,
          "profit_mean": 539.4743,
          "profit_std": 145.12638015097642,
          "s": 30
         },
         {
          "N": 1000,
          "S": 800,
          "lost_mean": 2.847,
          "lost_std": 9.365751881632795,
          "m": 30,
          "profit_mean": 176.33979999999997,
          "profit_std": 145.43708564819994,
          "s": 30
         },
         {
          "N": 1000,
          "S": 900,
          "lost_mean": 2.423,
          "lost_std": 8.268520994678518,
          "m": 30,
          "profit_mean": -178.28880000000007,
          "profit_std": 147.16804247963375,
          "s": 30
         },
         {
          "N": 1000,
          "S": 1000,
          "lost_mean": 2.58,
          "lost_std": 8.434378384844893,
          "m": 30,
          "profit_mean": -537.619,
          "profit_std": 135.06689196211005,
          "s": 30
         },
         {
          "N": 1000,
          "S": 100,
          "lost_mean": 8.692,
          "lost_std": 15.020277785205732,
          "m": 30,
          "profit_mean": 1017.1856000000001,
          "profit_std": 91.48823426894658,
          "s": 40
         },
         {
          "N": 1000,
          "S": 200,
          "lost_mean": 3.588,
          "lost_std": 9.45344506640958,
          "m": 30,
          "profit_mean": 1233.8609000000004,
          "profit_std": 110.23141969092603,
          "s": 40
         },
         {
          "N": 1000,
          "S": 300,
          "lost_mean": 2.51,
          "lost_std": 8.275771165781977,
          "m": 30,
          "profit_mean": 1220.7637,
          "profit_std": 123.61025842663018,
          "s": 40
         },
         {
          "N": 1000,
          "S": 400,
          "lost_mean": 2.404,
          "lost_std": 7.313157065608961,
          "m": 30,
          "profit_mean": 865.0230000000003,
          "profit_std": 115.2119324565836,
          "s": 40
         },
         {
          "N": 1000,
          "S": 500,
          "lost_mean": 2.114,
          "lost_std": 6.862951559212997,
          "m": 30,
          "profit_mean": 667.3463,
          "profit_std": 192.66376720469134,
          "s": 40
         },
         {
          "N": 1000,
          "S": 600,
          "lost_mean": 1.302,
          "lost_std": 6.057349873293393,
          "m": 30,
          "profit_mean": 882.5074999999999,
          "profit_std": 148.6639010965313,
          "s": 40
         },
         {
          "N": 1000,
          "S": 700,
          "lost_mean": 1.016,
          "lost_std": 5.195838790873013,
          "m": 30,
          "profit_mean": 536.3671999999999,
          "profit_std": 145.2963321226255,
          "s": 40
         },
         {
          "N": 1000,
          "S": 800,
          "lost_mean": 1.277,
          "lost_std": 5.875780441421871,
          "m": 30,
          "profit_mean": 176.52659999999995,
          "profit_std": 142.86536341781553,
          "s": 40
         },
         {
          "N": 1000,
          "S": 900,
          "lost_mean": 1.158,
          "lost_std": 5.425907894212402,
          "m": 30,
          "profit_mean": -178.7720000000001,
          "profit_std": 139.94222494416158,
          "s": 40
         },
         {
          "N": 1000,
          "S": 1000,
          "lost_mean": 1.199,
          "lost_std": 5.605070545123927,
          "m": 30,
          "profit_mean": -547.1473000000001,
          "profit_std": 143.98390075416899,
          "s": 40
         },
         {
          "N": 1000,
          "S": 100,
          "lost_mean": 5.959,
          "lost_std": 13.413770843735481,
          "m": 30,
          "profit_mean": 905.9940000000001,
          "profit_std": 95.91926881565628,
          "s": 50
         },
         {
          "N": 1000,
          "S": 200,
          "lost_mean": 2.056,
          "lost_std": 7.718707303845796,
          "m": 30,
          "profit_mean": 1151.7005000000001,
          "profit_std": 110.85177700973593,
          "s": 50
         },
         {
          "N": 1000,
          "S": 300,
          "lost_mean": 1.182,
          "lost_std": 6.000740361395823,
          "m": 30,
          "profit_mean": 1128.5233,
          "profit_std": 145.73656738850474,
          "s": 50
         },
         {
          "N": 1000,
          "S": 400,
          "lost_mean": 1.209,
          "lost_std": 5.932833852175327,
          "m": 30,
          "profit_mean": 870.3723,
          "profit_std": 116.60976829052862,
          "s": 50
         },
         {
          "N": 1000,
          "S": 500,
          "lost_mean": 1.151,
          "lost_std": 5.359937306343044,
          "m": 30,
          "profit_mean": 580.0821000000001,
          "profit_std": 135.9271839218297,
          "s": 50
         },
         {
          "N": 1000,
          "S": 600,
          "lost_mean": 0.657,
          "lost_std": 4.820019043902586,
          "m": 30,
          "profit_mean": 855.2013999999999,
          "profit_std": 175.76591118181472,
          "s": 50
         },
         {
          "N": 1000,
          "S": 700,
          "lost_mean": 0.519,
          "lost_std": 3.7552284538681193,
          "m": 30,
          "profit_mean": 545.6914999999999,
          "profit_std": 145.23859820363924,
          "s": 50
         },
         {
          "N": 1000,
          "S": 800,
          "lost_mean": 0.523,
          "lost_std": 3.5886417137058073,
          "m": 30,
          "profit_mean": 177.64889999999997,
          "profit_std": 147.83226189315528,
          "s": 50
         },
         {
          "N": 1000,
          "S": 900,
          "lost_mean": 0.541,
          "lost_std": 3.8326241673307853,
          "m": 30,
          "profit_mean": -184.6724000000001,
          "profit_std": 146.936454359903,
          "s": 50
         },
         {
          "N": 1000,
          "S": 1000,
          "lost_mean": 0.796,
          "lost_std": 5.042202674209736,
          "m": 30,
          "profit_mean": -560.0185,
          "profit_std": 138.600157616943,
          "s": 50
         }
        ]
       },
       "encoding": {
        "color": {
         "field": "profit_mean",
         "scale": {
          "scheme": "plasma"
         },
         "type": "quantitative"
        },
        "x": {
         "field": "S",
         "type": "quantitative"
        },
        "y": {
         "field": "s",
         "type": "quantitative"
        }
       },
       "mark": "point"
      },
      "image/png": "[encoded data removed]",
      "image/svg+xml": [
       "<?xml version=\"1.0\" encoding=\"utf-8\"?>\n",
       "<!DOCTYPE svg PUBLIC \"-//W3C//DTD SVG 1.1//EN\" \"http://www.w3.org/Graphics/SVG/1.1/DTD/svg11.dtd\">\n",
       "<svg xmlns=\"http://www.w3.org/2000/svg\" xmlns:xlink=\"http://www.w3.org/1999/xlink\" version=\"1.1\" class=\"marks\" width=\"329\" height=\"247\" viewBox=\"0 0 329 247\"><rect width=\"329\" height=\"247\" fill=\"white\"/><g fill=\"none\" stroke-miterlimit=\"10\" transform=\"translate(37,10)\"><g class=\"mark-group role-frame root\" role=\"graphics-object\" aria-roledescription=\"group mark container\"><g transform=\"translate(0,0)\"><path class=\"background\" aria-hidden=\"true\" d=\"M0.5,0.5h200v200h-200Z\" stroke=\"#ddd\"/><g><g class=\"mark-group role-axis\" aria-hidden=\"true\"><g transform=\"translate(0.5,200.5)\"><path class=\"background\" aria-hidden=\"true\" d=\"M0,0h0v0h0Z\" pointer-events=\"none\"/><g><g class=\"mark-rule role-axis-grid\" pointer-events=\"none\"><line transform=\"translate(0,-200)\" x2=\"0\" y2=\"200\" stroke=\"#ddd\" stroke-width=\"1\" opacity=\"1\"/><line transform=\"translate(40,-200)\" x2=\"0\" y2=\"200\" stroke=\"#ddd\" stroke-width=\"1\" opacity=\"1\"/><line transform=\"translate(80,-200)\" x2=\"0\" y2=\"200\" stroke=\"#ddd\" stroke-width=\"1\" opacity=\"1\"/><line transform=\"translate(120,-200)\" x2=\"0\" y2=\"200\" stroke=\"#ddd\" stroke-width=\"1\" opacity=\"1\"/><line transform=\"translate(160,-200)\" x2=\"0\" y2=\"200\" stroke=\"#ddd\" stroke-width=\"1\" opacity=\"1\"/><line transform=\"translate(200,-200)\" x2=\"0\" y2=\"200\" stroke=\"#ddd\" stroke-width=\"1\" opacity=\"1\"/></g></g><path class=\"foreground\" aria-hidden=\"true\" d=\"\" pointer-events=\"none\" display=\"none\"/></g></g><g class=\"mark-group role-axis\" aria-hidden=\"true\"><g transform=\"translate(0.5,0.5)\"><path class=\"background\" aria-hidden=\"true\" d=\"M0,0h0v0h0Z\" pointer-events=\"none\"/><g><g class=\"mark-rule role-axis-grid\" pointer-events=\"none\"><line transform=\"translate(0,200)\" x2=\"200\" y2=\"0\" stroke=\"#ddd\" stroke-width=\"1\" opacity=\"1\"/><line transform=\"translate(0,160)\" x2=\"200\" y2=\"0\" stroke=\"#ddd\" stroke-width=\"1\" opacity=\"1\"/><line transform=\"translate(0,120)\" x2=\"200\" y2=\"0\" stroke=\"#ddd\" stroke-width=\"1\" opacity=\"1\"/><line transform=\"translate(0,80)\" x2=\"200\" y2=\"0\" stroke=\"#ddd\" stroke-width=\"1\" opacity=\"1\"/><line transform=\"translate(0,40)\" x2=\"200\" y2=\"0\" stroke=\"#ddd\" stroke-width=\"1\" opacity=\"1\"/><line transform=\"translate(0,0)\" x2=\"200\" y2=\"0\" stroke=\"#ddd\" stroke-width=\"1\" opacity=\"1\"/></g></g><path class=\"foreground\" aria-hidden=\"true\" d=\"\" pointer-events=\"none\" display=\"none\"/></g></g><g class=\"mark-group role-axis\" role=\"graphics-symbol\" aria-roledescription=\"axis\" aria-label=\"X-axis titled 'S' for a linear scale with values from 0 to 1,000\"><g transform=\"translate(0.5,200.5)\"><path class=\"background\" aria-hidden=\"true\" d=\"M0,0h0v0h0Z\" pointer-events=\"none\"/><g><g class=\"mark-rule role-axis-tick\" pointer-events=\"none\"><line transform=\"translate(0,0)\" x2=\"0\" y2=\"5\" stroke=\"#888\" stroke-width=\"1\" opacity=\"1\"/><line transform=\"translate(40,0)\" x2=\"0\" y2=\"5\" stroke=\"#888\" stroke-width=\"1\" opacity=\"1\"/><line transform=\"translate(80,0)\" x2=\"0\" y2=\"5\" stroke=\"#888\" stroke-width=\"1\" opacity=\"1\"/><line transform=\"translate(120,0)\" x2=\"0\" y2=\"5\" stroke=\"#888\" stroke-width=\"1\" opacity=\"1\"/><line transform=\"translate(160,0)\" x2=\"0\" y2=\"5\" stroke=\"#888\" stroke-width=\"1\" opacity=\"1\"/><line transform=\"translate(200,0)\" x2=\"0\" y2=\"5\" stroke=\"#888\" stroke-width=\"1\" opacity=\"1\"/></g><g class=\"mark-text role-axis-label\" pointer-events=\"none\"><text text-anchor=\"start\" transform=\"translate(0,15)\" font-family=\"sans-serif\" font-size=\"10px\" fill=\"#000\" opacity=\"1\">0</text><text text-anchor=\"middle\" transform=\"translate(40,15)\" font-family=\"sans-serif\" font-size=\"10px\" fill=\"#000\" opacity=\"1\">200</text><text text-anchor=\"middle\" transform=\"translate(80,15)\" font-family=\"sans-serif\" font-size=\"10px\" fill=\"#000\" opacity=\"1\">400</text><text text-anchor=\"middle\" transform=\"translate(120,15)\" font-family=\"sans-serif\" font-size=\"10px\" fill=\"#000\" opacity=\"1\">600</text><text text-anchor=\"middle\" transform=\"translate(160,15)\" font-family=\"sans-serif\" font-size=\"10px\" fill=\"#000\" opacity=\"1\">800</text><text text-anchor=\"end\" transform=\"translate(200,15)\" font-family=\"sans-serif\" font-size=\"10px\" fill=\"#000\" opacity=\"1\">1,000</text></g><g class=\"mark-rule role-axis-domain\" pointer-events=\"none\"><line transform=\"translate(0,0)\" x2=\"200\" y2=\"0\" stroke=\"#888\" stroke-width=\"1\" opacity=\"1\"/></g><g class=\"mark-text role-axis-title\" pointer-events=\"none\"><text text-anchor=\"middle\" transform=\"translate(100,30)\" font-family=\"sans-serif\" font-size=\"11px\" font-weight=\"bold\" fill=\"#000\" opacity=\"1\">S</text></g></g><path class=\"foreground\" aria-hidden=\"true\" d=\"\" pointer-events=\"none\" display=\"none\"/></g></g><g class=\"mark-group role-axis\" role=\"graphics-symbol\" aria-roledescription=\"axis\" aria-label=\"Y-axis titled 's' for a linear scale with values from 0 to 50\"><g transform=\"translate(0.5,0.5)\"><path class=\"background\" aria-hidden=\"true\" d=\"M0,0h0v0h0Z\" pointer-events=\"none\"/><g><g class=\"mark-rule role-axis-tick\" pointer-events=\"none\"><line transform=\"translate(0,200)\" x2=\"-5\" y2=\"0\" stroke=\"#888\" stroke-width=\"1\" opacity=\"1\"/><line transform=\"translate(0,160)\" x2=\"-5\" y2=\"0\" stroke=\"#888\" stroke-width=\"1\" opacity=\"1\"/><line transform=\"translate(0,120)\" x2=\"-5\" y2=\"0\" stroke=\"#888\" stroke-width=\"1\" opacity=\"1\"/><line transform=\"translate(0,80)\" x2=\"-5\" y2=\"0\" stroke=\"#888\" stroke-width=\"1\" opacity=\"1\"/><line transform=\"translate(0,40)\" x2=\"-5\" y2=\"0\" stroke=\"#888\" stroke-width=\"1\" opacity=\"1\"/><line transform=\"translate(0,0)\" x2=\"-5\" y2=\"0\" stroke=\"#888\" stroke-width=\"1\" opacity=\"1\"/></g><g class=\"mark-text role-axis-label\" pointer-events=\"none\"><text text-anchor=\"end\" transform=\"translate(-7,203)\" font-family=\"sans-serif\" font-size=\"10px\" fill=\"#000\" opacity=\"1\">0</text><text text-anchor=\"end\" transform=\"translate(-7,163)\" font-family=\"sans-serif\" font-size=\"10px\" fill=\"#000\" opacity=\"1\">10</text><text text-anchor=\"end\" transform=\"translate(-7,123)\" font-family=\"sans-serif\" font-size=\"10px\" fill=\"#000\" opacity=\"1\">20</text><text text-anchor=\"end\" transform=\"translate(-7,83)\" font-family=\"sans-serif\" font-size=\"10px\" fill=\"#000\" opacity=\"1\">30</text><text text-anchor=\"end\" transform=\"translate(-7,42.99999999999999)\" font-family=\"sans-serif\" font-size=\"10px\" fill=\"#000\" opacity=\"1\">40</text><text text-anchor=\"end\" transform=\"translate(-7,3)\" font-family=\"sans-serif\" font-size=\"10px\" fill=\"#000\" opacity=\"1\">50</text></g><g class=\"mark-rule role-axis-domain\" pointer-events=\"none\"><line transform=\"translate(0,200)\" x2=\"0\" y2=\"-200\" stroke=\"#888\" stroke-width=\"1\" opacity=\"1\"/></g><g class=\"mark-text role-axis-title\" pointer-events=\"none\"><text text-anchor=\"middle\" transform=\"translate(-21,100) rotate(-90) translate(0,-2)\" font-family=\"sans-serif\" font-size=\"11px\" font-weight=\"bold\" fill=\"#000\" opacity=\"1\">s</text></g></g><path class=\"foreground\" aria-hidden=\"true\" d=\"\" pointer-events=\"none\" display=\"none\"/></g></g><g class=\"mark-symbol role-mark marks\" role=\"graphics-object\" aria-roledescription=\"symbol mark container\"><path aria-label=\"S: 100; s: 20; profit_mean: 1152.4156\" role=\"graphics-symbol\" aria-roledescription=\"point\" transform=\"translate(20,120)\" d=\"M2.7386127875258306,0A2.7386127875258306,2.7386127875258306,0,1,1,-2.7386127875258306,0A2.7386127875258306,2.7386127875258306,0,1,1,2.7386127875258306,0\" stroke=\"rgb(249, 220, 36)\" stroke-width=\"2\" opacity=\"0.7\"/><path aria-label=\"S: 200; s: 20; profit_mean: 1257.8688\" role=\"graphics-symbol\" aria-roledescription=\"point\" transform=\"translate(40,120)\" d=\"M2.7386127875258306,0A2.7386127875258306,2.7386127875258306,0,1,1,-2.7386127875258306,0A2.7386127875258306,2.7386127875258306,0,1,1,2.7386127875258306,0\" stroke=\"rgb(241, 245, 35)\" stroke-width=\"2\" opacity=\"0.7\"/><path aria-label=\"S: 300; s: 20; profit_mean: 1209.0418\" role=\"graphics-symbol\" aria-roledescription=\"point\" transform=\"translate(60,120)\" d=\"M2.7386127875258306,0A2.7386127875258306,2.7386127875258306,0,1,1,-2.7386127875258306,0A2.7386127875258306,2.7386127875258306,0,1,1,2.7386127875258306,0\" stroke=\"rgb(245, 233, 39)\" stroke-width=\"2\" opacity=\"0.7\"/><path aria-label=\"S: 400; s: 20; profit_mean: 868.248\" role=\"graphics-symbol\" aria-roledescription=\"point\" transform=\"translate(80,120)\" d=\"M2.7386127875258306,0A2.7386127875258306,2.7386127875258306,0,1,1,-2.7386127875258306,0A2.7386127875258306,2.7386127875258306,0,1,1,2.7386127875258306,0\" stroke=\"rgb(251, 158, 59)\" stroke-width=\"2\" opacity=\"0.7\"/><path aria-label=\"S: 500; s: 20; profit_mean: 894.7227\" role=\"graphics-symbol\" aria-roledescription=\"point\" transform=\"translate(100,120)\" d=\"M2.7386127875258306,0A2.7386127875258306,2.7386127875258306,0,1,1,-2.7386127875258306,0A2.7386127875258306,2.7386127875258306,0,1,1,2.7386127875258306,0\" stroke=\"rgb(252, 163, 56)\" stroke-width=\"2\" opacity=\"0.7\"/><path aria-label=\"S: 600; s: 20; profit_mean: 873.6416\" role=\"graphics-symbol\" aria-roledescription=\"point\" transform=\"translate(120,120)\" d=\"M2.7386127875258306,0A2.7386127875258306,2.7386127875258306,0,1,1,-2.7386127875258306,0A2.7386127875258306,2.7386127875258306,0,1,1,2.7386127875258306,0\" stroke=\"rgb(251, 159, 58)\" stroke-width=\"2\" opacity=\"0.7\"/><path aria-label=\"S: 700; s: 20; profit_mean: 522.3597\" role=\"graphics-symbol\" aria-roledescription=\"point\" transform=\"translate(140,120)\" d=\"M2.7386127875258306,0A2.7386127875258306,2.7386127875258306,0,1,1,-2.7386127875258306,0A2.7386127875258306,2.7386127875258306,0,1,1,2.7386127875258306,0\" stroke=\"rgb(223, 97, 100)\" stroke-width=\"2\" opacity=\"0.7\"/><path aria-label=\"S: 800; s: 20; profit_mean: 167.5632\" role=\"graphics-symbol\" aria-roledescription=\"point\" transform=\"translate(160,120)\" d=\"M2.7386127875258306,0A2.7386127875258306,2.7386127875258306,0,1,1,-2.7386127875258306,0A2.7386127875258306,2.7386127875258306,0,1,1,2.7386127875258306,0\" stroke=\"rgb(176, 41, 145)\" stroke-width=\"2\" opacity=\"0.7\"/><path aria-label=\"S: 900; s: 20; profit_mean: −171.2774\" role=\"graphics-symbol\" aria-roledescription=\"point\" transform=\"translate(180,120)\" d=\"M2.7386127875258306,0A2.7386127875258306,2.7386127875258306,0,1,1,-2.7386127875258306,0A2.7386127875258306,2.7386127875258306,0,1,1,2.7386127875258306,0\" stroke=\"rgb(111, 0, 168)\" stroke-width=\"2\" opacity=\"0.7\"/><path aria-label=\"S: 1000; s: 20; profit_mean: −532.6375\" role=\"graphics-symbol\" aria-roledescription=\"point\" transform=\"translate(200,120)\" d=\"M2.7386127875258306,0A2.7386127875258306,2.7386127875258306,0,1,1,-2.7386127875258306,0A2.7386127875258306,2.7386127875258306,0,1,1,2.7386127875258306,0\" stroke=\"rgb(23, 7, 139)\" stroke-width=\"2\" opacity=\"0.7\"/><path aria-label=\"S: 100; s: 30; profit_mean: 1100.8507\" role=\"graphics-symbol\" aria-roledescription=\"point\" transform=\"translate(20,80)\" d=\"M2.7386127875258306,0A2.7386127875258306,2.7386127875258306,0,1,1,-2.7386127875258306,0A2.7386127875258306,2.7386127875258306,0,1,1,2.7386127875258306,0\" stroke=\"rgb(252, 208, 37)\" stroke-width=\"2\" opacity=\"0.7\"/><path aria-label=\"S: 200; s: 30; profit_mean: 1275.5529\" role=\"graphics-symbol\" aria-roledescription=\"point\" transform=\"translate(40,80)\" d=\"M2.7386127875258306,0A2.7386127875258306,2.7386127875258306,0,1,1,-2.7386127875258306,0A2.7386127875258306,2.7386127875258306,0,1,1,2.7386127875258306,0\" stroke=\"rgb(240, 249, 33)\" stroke-width=\"2\" opacity=\"0.7\"/><path aria-label=\"S: 300; s: 30; profit_mean: 1232.3284\" role=\"graphics-symbol\" aria-roledescription=\"point\" transform=\"translate(60,80)\" d=\"M2.7386127875258306,0A2.7386127875258306,2.7386127875258306,0,1,1,-2.7386127875258306,0A2.7386127875258306,2.7386127875258306,0,1,1,2.7386127875258306,0\" stroke=\"rgb(244, 238, 37)\" stroke-width=\"2\" opacity=\"0.7\"/><path aria-label=\"S: 400; s: 30; profit_mean: 863.6782\" role=\"graphics-symbol\" aria-roledescription=\"point\" transform=\"translate(80,80)\" d=\"M2.7386127875258306,0A2.7386127875258306,2.7386127875258306,0,1,1,-2.7386127875258306,0A2.7386127875258306,2.7386127875258306,0,1,1,2.7386127875258306,0\" stroke=\"rgb(251, 157, 59)\" stroke-width=\"2\" opacity=\"0.7\"/><path aria-label=\"S: 500; s: 30; profit_mean: 774.0006\" role=\"graphics-symbol\" aria-roledescription=\"point\" transform=\"translate(100,80)\" d=\"M2.7386127875258306,0A2.7386127875258306,2.7386127875258306,0,1,1,-2.7386127875258306,0A2.7386127875258306,2.7386127875258306,0,1,1,2.7386127875258306,0\" stroke=\"rgb(245, 141, 70)\" stroke-width=\"2\" opacity=\"0.7\"/><path aria-label=\"S: 600; s: 30; profit_mean: 891.4326\" role=\"graphics-symbol\" aria-roledescription=\"point\" transform=\"translate(120,80)\" d=\"M2.7386127875258306,0A2.7386127875258306,2.7386127875258306,0,1,1,-2.7386127875258306,0A2.7386127875258306,2.7386127875258306,0,1,1,2.7386127875258306,0\" stroke=\"rgb(251, 163, 56)\" stroke-width=\"2\" opacity=\"0.7\"/><path aria-label=\"S: 700; s: 30; profit_mean: 539.4743\" role=\"graphics-symbol\" aria-roledescription=\"point\" transform=\"translate(140,80)\" d=\"M2.7386127875258306,0A2.7386127875258306,2.7386127875258306,0,1,1,-2.7386127875258306,0A2.7386127875258306,2.7386127875258306,0,1,1,2.7386127875258306,0\" stroke=\"rgb(225, 100, 98)\" stroke-width=\"2\" opacity=\"0.7\"/><path aria-label=\"S: 800; s: 30; profit_mean: 176.3398\" role=\"graphics-symbol\" aria-roledescription=\"point\" transform=\"translate(160,80)\" d=\"M2.7386127875258306,0A2.7386127875258306,2.7386127875258306,0,1,1,-2.7386127875258306,0A2.7386127875258306,2.7386127875258306,0,1,1,2.7386127875258306,0\" stroke=\"rgb(177, 42, 144)\" stroke-width=\"2\" opacity=\"0.7\"/><path aria-label=\"S: 900; s: 30; profit_mean: −178.2888\" role=\"graphics-symbol\" aria-roledescription=\"point\" transform=\"translate(180,80)\" d=\"M2.7386127875258306,0A2.7386127875258306,2.7386127875258306,0,1,1,-2.7386127875258306,0A2.7386127875258306,2.7386127875258306,0,1,1,2.7386127875258306,0\" stroke=\"rgb(109, 0, 168)\" stroke-width=\"2\" opacity=\"0.7\"/><path aria-label=\"S: 1000; s: 30; profit_mean: −537.619\" role=\"graphics-symbol\" aria-roledescription=\"point\" transform=\"translate(200,80)\" d=\"M2.7386127875258306,0A2.7386127875258306,2.7386127875258306,0,1,1,-2.7386127875258306,0A2.7386127875258306,2.7386127875258306,0,1,1,2.7386127875258306,0\" stroke=\"rgb(21, 7, 138)\" stroke-width=\"2\" opacity=\"0.7\"/><path aria-label=\"S: 100; s: 40; profit_mean: 1017.1856\" role=\"graphics-symbol\" aria-roledescription=\"point\" transform=\"translate(20,39.99999999999999)\" d=\"M2.7386127875258306,0A2.7386127875258306,2.7386127875258306,0,1,1,-2.7386127875258306,0A2.7386127875258306,2.7386127875258306,0,1,1,2.7386127875258306,0\" stroke=\"rgb(254, 189, 42)\" stroke-width=\"2\" opacity=\"0.7\"/><path aria-label=\"S: 200; s: 40; profit_mean: 1233.8609\" role=\"graphics-symbol\" aria-roledescription=\"point\" transform=\"translate(40,39.99999999999999)\" d=\"M2.7386127875258306,0A2.7386127875258306,2.7386127875258306,0,1,1,-2.7386127875258306,0A2.7386127875258306,2.7386127875258306,0,1,1,2.7386127875258306,0\" stroke=\"rgb(243, 239, 37)\" stroke-width=\"2\" opacity=\"0.7\"/><path aria-label=\"S: 300; s: 40; profit_mean: 1220.7637\" role=\"graphics-symbol\" aria-roledescription=\"point\" transform=\"translate(60,39.99999999999999)\" d=\"M2.7386127875258306,0A2.7386127875258306,2.7386127875258306,0,1,1,-2.7386127875258306,0A2.7386127875258306,2.7386127875258306,0,1,1,2.7386127875258306,0\" stroke=\"rgb(244, 236, 38)\" stroke-width=\"2\" opacity=\"0.7\"/><path aria-label=\"S: 400; s: 40; profit_mean: 865.023\" role=\"graphics-symbol\" aria-roledescription=\"point\" transform=\"translate(80,39.99999999999999)\" d=\"M2.7386127875258306,0A2.7386127875258306,2.7386127875258306,0,1,1,-2.7386127875258306,0A2.7386127875258306,2.7386127875258306,0,1,1,2.7386127875258306,0\" stroke=\"rgb(251, 157, 59)\" stroke-width=\"2\" opacity=\"0.7\"/><path aria-label=\"S: 500; s: 40; profit_mean: 667.3463\" role=\"graphics-symbol\" aria-roledescription=\"point\" transform=\"translate(100,39.99999999999999)\" d=\"M2.7386127875258306,0A2.7386127875258306,2.7386127875258306,0,1,1,-2.7386127875258306,0A2.7386127875258306,2.7386127875258306,0,1,1,2.7386127875258306,0\" stroke=\"rgb(237, 122, 83)\" stroke-width=\"2\" opacity=\"0.7\"/><path aria-label=\"S: 600; s: 40; profit_mean: 882.5075\" role=\"graphics-symbol\" aria-roledescription=\"point\" transform=\"translate(120,39.99999999999999)\" d=\"M2.7386127875258306,0A2.7386127875258306,2.7386127875258306,0,1,1,-2.7386127875258306,0A2.7386127875258306,2.7386127875258306,0,1,1,2.7386127875258306,0\" stroke=\"rgb(251, 161, 57)\" stroke-width=\"2\" opacity=\"0.7\"/><path aria-label=\"S: 700; s: 40; profit_mean: 536.3672\" role=\"graphics-symbol\" aria-roledescription=\"point\" transform=\"translate(140,39.99999999999999)\" d=\"M2.7386127875258306,0A2.7386127875258306,2.7386127875258306,0,1,1,-2.7386127875258306,0A2.7386127875258306,2.7386127875258306,0,1,1,2.7386127875258306,0\" stroke=\"rgb(224, 99, 99)\" stroke-width=\"2\" opacity=\"0.7\"/><path aria-label=\"S: 800; s: 40; profit_mean: 176.5266\" role=\"graphics-symbol\" aria-roledescription=\"point\" transform=\"translate(160,39.99999999999999)\" d=\"M2.7386127875258306,0A2.7386127875258306,2.7386127875258306,0,1,1,-2.7386127875258306,0A2.7386127875258306,2.7386127875258306,0,1,1,2.7386127875258306,0\" stroke=\"rgb(177, 42, 144)\" stroke-width=\"2\" opacity=\"0.7\"/><path aria-label=\"S: 900; s: 40; profit_mean: −178.772\" role=\"graphics-symbol\" aria-roledescription=\"point\" transform=\"translate(180,39.99999999999999)\" d=\"M2.7386127875258306,0A2.7386127875258306,2.7386127875258306,0,1,1,-2.7386127875258306,0A2.7386127875258306,2.7386127875258306,0,1,1,2.7386127875258306,0\" stroke=\"rgb(109, 0, 168)\" stroke-width=\"2\" opacity=\"0.7\"/><path aria-label=\"S: 1000; s: 40; profit_mean: −547.1473\" role=\"graphics-symbol\" aria-roledescription=\"point\" transform=\"translate(200,39.99999999999999)\" d=\"M2.7386127875258306,0A2.7386127875258306,2.7386127875258306,0,1,1,-2.7386127875258306,0A2.7386127875258306,2.7386127875258306,0,1,1,2.7386127875258306,0\" stroke=\"rgb(18, 8, 137)\" stroke-width=\"2\" opacity=\"0.7\"/><path aria-label=\"S: 100; s: 50; profit_mean: 905.994\" role=\"graphics-symbol\" aria-roledescription=\"point\" transform=\"translate(20,0)\" d=\"M2.7386127875258306,0A2.7386127875258306,2.7386127875258306,0,1,1,-2.7386127875258306,0A2.7386127875258306,2.7386127875258306,0,1,1,2.7386127875258306,0\" stroke=\"rgb(252, 166, 54)\" stroke-width=\"2\" opacity=\"0.7\"/><path aria-label=\"S: 200; s: 50; profit_mean: 1151.7005\" role=\"graphics-symbol\" aria-roledescription=\"point\" transform=\"translate(40,0)\" d=\"M2.7386127875258306,0A2.7386127875258306,2.7386127875258306,0,1,1,-2.7386127875258306,0A2.7386127875258306,2.7386127875258306,0,1,1,2.7386127875258306,0\" stroke=\"rgb(249, 220, 36)\" stroke-width=\"2\" opacity=\"0.7\"/><path aria-label=\"S: 300; s: 50; profit_mean: 1128.5233\" role=\"graphics-symbol\" aria-roledescription=\"point\" transform=\"translate(60,0)\" d=\"M2.7386127875258306,0A2.7386127875258306,2.7386127875258306,0,1,1,-2.7386127875258306,0A2.7386127875258306,2.7386127875258306,0,1,1,2.7386127875258306,0\" stroke=\"rgb(250, 214, 36)\" stroke-width=\"2\" opacity=\"0.7\"/><path aria-label=\"S: 400; s: 50; profit_mean: 870.3723\" role=\"graphics-symbol\" aria-roledescription=\"point\" transform=\"translate(80,0)\" d=\"M2.7386127875258306,0A2.7386127875258306,2.7386127875258306,0,1,1,-2.7386127875258306,0A2.7386127875258306,2.7386127875258306,0,1,1,2.7386127875258306,0\" stroke=\"rgb(251, 159, 58)\" stroke-width=\"2\" opacity=\"0.7\"/><path aria-label=\"S: 500; s: 50; profit_mean: 580.0821\" role=\"graphics-symbol\" aria-roledescription=\"point\" transform=\"translate(100,0)\" d=\"M2.7386127875258306,0A2.7386127875258306,2.7386127875258306,0,1,1,-2.7386127875258306,0A2.7386127875258306,2.7386127875258306,0,1,1,2.7386127875258306,0\" stroke=\"rgb(229, 106, 94)\" stroke-width=\"2\" opacity=\"0.7\"/><path aria-label=\"S: 600; s: 50; profit_mean: 855.2014\" role=\"graphics-symbol\" aria-roledescription=\"point\" transform=\"translate(120,0)\" d=\"M2.7386127875258306,0A2.7386127875258306,2.7386127875258306,0,1,1,-2.7386127875258306,0A2.7386127875258306,2.7386127875258306,0,1,1,2.7386127875258306,0\" stroke=\"rgb(250, 156, 60)\" stroke-width=\"2\" opacity=\"0.7\"/><path aria-label=\"S: 700; s: 50; profit_mean: 545.6915\" role=\"graphics-symbol\" aria-roledescription=\"point\" transform=\"translate(140,0)\" d=\"M2.7386127875258306,0A2.7386127875258306,2.7386127875258306,0,1,1,-2.7386127875258306,0A2.7386127875258306,2.7386127875258306,0,1,1,2.7386127875258306,0\" stroke=\"rgb(225, 101, 98)\" stroke-width=\"2\" opacity=\"0.7\"/><path aria-label=\"S: 800; s: 50; profit_mean: 177.6489\" role=\"graphics-symbol\" aria-roledescription=\"point\" transform=\"translate(160,0)\" d=\"M2.7386127875258306,0A2.7386127875258306,2.7386127875258306,0,1,1,-2.7386127875258306,0A2.7386127875258306,2.7386127875258306,0,1,1,2.7386127875258306,0\" stroke=\"rgb(178, 43, 144)\" stroke-width=\"2\" opacity=\"0.7\"/><path aria-label=\"S: 900; s: 50; profit_mean: −184.6724\" role=\"graphics-symbol\" aria-roledescription=\"point\" transform=\"translate(180,0)\" d=\"M2.7386127875258306,0A2.7386127875258306,2.7386127875258306,0,1,1,-2.7386127875258306,0A2.7386127875258306,2.7386127875258306,0,1,1,2.7386127875258306,0\" stroke=\"rgb(108, 0, 168)\" stroke-width=\"2\" opacity=\"0.7\"/><path aria-label=\"S: 1000; s: 50; profit_mean: −560.0185\" role=\"graphics-symbol\" aria-roledescription=\"point\" transform=\"translate(200,0)\" d=\"M2.7386127875258306,0A2.7386127875258306,2.7386127875258306,0,1,1,-2.7386127875258306,0A2.7386127875258306,2.7386127875258306,0,1,1,2.7386127875258306,0\" stroke=\"rgb(13, 8, 135)\" stroke-width=\"2\" opacity=\"0.7\"/></g><g class=\"mark-group role-legend\" role=\"graphics-symbol\" aria-roledescription=\"legend\" aria-label=\"Gradient legend titled 'profit_mean' for stroke color with values from −560 to 1,276\"><g transform=\"translate(218,0)\"><path class=\"background\" aria-hidden=\"true\" d=\"M0,0h69v216h-69Z\" pointer-events=\"none\"/><g><g class=\"mark-group role-legend-entry\"><g transform=\"translate(0,16)\"><path class=\"background\" aria-hidden=\"true\" d=\"M0,0h0v0h0Z\" pointer-events=\"none\"/><g><g class=\"mark-rect role-legend-gradient\" pointer-events=\"none\"><path d=\"M0,0h16v200h-16Z\" fill=\"url(#gradient_0)\" stroke=\"#ddd\" stroke-width=\"0\" opacity=\"0.7\"/></g><g class=\"mark-text role-legend-label\" pointer-events=\"none\"><text text-anchor=\"start\" transform=\"translate(18,196.46051044377788)\" font-family=\"sans-serif\" font-size=\"10px\" fill=\"#000\" opacity=\"1\">−500</text><text text-anchor=\"start\" transform=\"translate(18,141.98156181775332)\" font-family=\"sans-serif\" font-size=\"10px\" fill=\"#000\" opacity=\"1\">0</text><text text-anchor=\"start\" transform=\"translate(18,87.50261319172871)\" font-family=\"sans-serif\" font-size=\"10px\" fill=\"#000\" opacity=\"1\">500</text><text text-anchor=\"start\" transform=\"translate(18,33.02366456570414)\" font-family=\"sans-serif\" font-size=\"10px\" fill=\"#000\" opacity=\"1\">1,000</text></g></g><path class=\"foreground\" aria-hidden=\"true\" d=\"\" pointer-events=\"none\" display=\"none\"/></g></g><g class=\"mark-text role-legend-title\" pointer-events=\"none\"><text text-anchor=\"start\" transform=\"translate(0,9)\" font-family=\"sans-serif\" font-size=\"11px\" font-weight=\"bold\" fill=\"#000\" opacity=\"1\">profit_mean</text></g></g><path class=\"foreground\" aria-hidden=\"true\" d=\"\" pointer-events=\"none\" display=\"none\"/></g></g></g><path class=\"foreground\" aria-hidden=\"true\" d=\"\" display=\"none\"/></g></g></g><defs><linearGradient id=\"gradient_0\" x1=\"0\" x2=\"0\" y1=\"1\" y2=\"0\"><stop offset=\"0\" stop-color=\"rgb(13, 8, 135)\"/><stop offset=\"0.03269744778111057\" stop-color=\"rgb(35, 6, 144)\"/><stop offset=\"0.08717639640713515\" stop-color=\"rgb(60, 4, 155)\"/><stop offset=\"0.1416553450331597\" stop-color=\"rgb(83, 2, 163)\"/><stop offset=\"0.1961342936591843\" stop-color=\"rgb(104, 0, 168)\"/><stop offset=\"0.25061324228520887\" stop-color=\"rgb(126, 3, 167)\"/><stop offset=\"0.30509219091123346\" stop-color=\"rgb(146, 15, 163)\"/><stop offset=\"0.35957113953725806\" stop-color=\"rgb(165, 31, 153)\"/><stop offset=\"0.4140500881632826\" stop-color=\"rgb(181, 46, 141)\"/><stop offset=\"0.4685290367893072\" stop-color=\"rgb(195, 62, 128)\"/><stop offset=\"0.5230079854153318\" stop-color=\"rgb(209, 78, 115)\"/><stop offset=\"0.5774869340413564\" stop-color=\"rgb(220, 93, 103)\"/><stop offset=\"0.631965882667381\" stop-color=\"rgb(231, 110, 91)\"/><stop offset=\"0.6864448312934056\" stop-color=\"rgb(240, 127, 79)\"/><stop offset=\"0.7409237799194301\" stop-color=\"rgb(247, 146, 66)\"/><stop offset=\"0.7954027285454547\" stop-color=\"rgb(252, 164, 55)\"/><stop offset=\"0.8498816771714793\" stop-color=\"rgb(253, 185, 44)\"/><stop offset=\"0.9043606257975039\" stop-color=\"rgb(252, 208, 37)\"/><stop offset=\"0.9588395744235284\" stop-color=\"rgb(246, 231, 38)\"/><stop offset=\"1\" stop-color=\"rgb(240, 249, 33)\"/></linearGradient></defs></svg>\n"
      ],
      "text/plain": [
       "@vlplot(\n",
       "    mark=\"point\",\n",
       "    encoding={\n",
       "        x={\n",
       "            field=\"S\"\n",
       "        },\n",
       "        y={\n",
       "            field=\"s\"\n",
       "        },\n",
       "        color={\n",
       "            scale={\n",
       "                scheme=\"plasma\"\n",
       "            },\n",
       "            field=\"profit_mean\"\n",
       "        }\n",
       "    },\n",
       "    data={\n",
       "        values=...\n",
       "    }\n",
       ")"
      ]
     },
     "execution_count": 30,
     "metadata": {},
     "output_type": "execute_result"
    }
   ],
   "source": [
    "#using VegaLite\n",
    "df |> @vlplot(:point, x=:S, y=:s, color={:profit_mean, scale={scheme=:plasma}})"
   ]
  },
  {
   "cell_type": "code",
   "execution_count": 31,
   "metadata": {},
   "outputs": [
    {
     "data": {
      "text/html": [
       "<div><div style = \"float: left;\"><span>DataFrameRow (8 columns)</span></div><div style = \"clear: both;\"></div></div><div class = \"data-frame\" style = \"overflow-x: scroll;\"><table class = \"data-frame\" style = \"margin-bottom: 6px;\"><thead><tr class = \"header\"><th class = \"rowLabel\" style = \"font-weight: bold; text-align: right;\">Row</th><th style = \"text-align: left;\">m</th><th style = \"text-align: left;\">s</th><th style = \"text-align: left;\">S</th><th style = \"text-align: left;\">N</th><th style = \"text-align: left;\">profit_mean</th><th style = \"text-align: left;\">profit_std</th><th style = \"text-align: left;\">lost_mean</th><th style = \"text-align: left;\">lost_std</th></tr><tr class = \"subheader headerLastRow\"><th class = \"rowLabel\" style = \"font-weight: bold; text-align: right;\"></th><th title = \"Int64\" style = \"text-align: left;\">Int64</th><th title = \"Int64\" style = \"text-align: left;\">Int64</th><th title = \"Int64\" style = \"text-align: left;\">Int64</th><th title = \"Int64\" style = \"text-align: left;\">Int64</th><th title = \"Float64\" style = \"text-align: left;\">Float64</th><th title = \"Float64\" style = \"text-align: left;\">Float64</th><th title = \"Float64\" style = \"text-align: left;\">Float64</th><th title = \"Float64\" style = \"text-align: left;\">Float64</th></tr></thead><tbody><tr><td class = \"rowLabel\" style = \"font-weight: bold; text-align: right;\">61</td><td style = \"text-align: right;\">30</td><td style = \"text-align: right;\">20</td><td style = \"text-align: right;\">180</td><td style = \"text-align: right;\">1000</td><td style = \"text-align: right;\">1308.8</td><td style = \"text-align: right;\">106.534</td><td style = \"text-align: right;\">14.089</td><td style = \"text-align: right;\">18.2738</td></tr></tbody></table></div>"
      ],
      "text/latex": [
       "\\begin{tabular}{r|cccccccc}\n",
       "\t& m & s & S & N & profit\\_mean & profit\\_std & lost\\_mean & lost\\_std\\\\\n",
       "\t\\hline\n",
       "\t& Int64 & Int64 & Int64 & Int64 & Float64 & Float64 & Float64 & Float64\\\\\n",
       "\t\\hline\n",
       "\t61 & 30 & 20 & 180 & 1000 & 1308.8 & 106.534 & 14.089 & 18.2738 \\\\\n",
       "\\end{tabular}\n"
      ],
      "text/plain": [
       "\u001b[1mDataFrameRow\u001b[0m\n",
       "\u001b[1m Row \u001b[0m│\u001b[1m m     \u001b[0m\u001b[1m s     \u001b[0m\u001b[1m S     \u001b[0m\u001b[1m N     \u001b[0m\u001b[1m profit_mean \u001b[0m\u001b[1m profit_std \u001b[0m\u001b[1m lost_mean \u001b[0m\u001b[1m lost_st\u001b[0m ⋯\n",
       "     │\u001b[90m Int64 \u001b[0m\u001b[90m Int64 \u001b[0m\u001b[90m Int64 \u001b[0m\u001b[90m Int64 \u001b[0m\u001b[90m Float64     \u001b[0m\u001b[90m Float64    \u001b[0m\u001b[90m Float64   \u001b[0m\u001b[90m Float64\u001b[0m ⋯\n",
       "─────┼──────────────────────────────────────────────────────────────────────────\n",
       "  61 │    30     20    180   1000       1308.8     106.534     14.089   18.273 ⋯\n",
       "\u001b[36m                                                                1 column omitted\u001b[0m"
      ]
     },
     "execution_count": 31,
     "metadata": {},
     "output_type": "execute_result"
    }
   ],
   "source": [
    "# zaweżenie przedziałów w s i S \n",
    "# using Random\n",
    "Random.seed!(10)\n",
    "df = DataFrame(run_sims(30,s,S,1000)\n",
    "    for S in 100:10:350, s in 10:5:50 if S > s )\n",
    "best_row = argmax(df.profit_mean)\n",
    "df[best_row,:]"
   ]
  },
  {
   "cell_type": "code",
   "execution_count": 32,
   "metadata": {},
   "outputs": [
    {
     "data": {
      "application/vnd.vegalite.v4+json": {
       "data": {
        "values": [
         {
          "N": 1000,
          "S": 100,
          "lost_mean": 49.444,
          "lost_std": 28.077913619662578,
          "m": 30,
          "profit_mean": 1154.4868000000004,
          "profit_std": 95.5768005876456,
          "s": 10
         },
         {
          "N": 1000,
          "S": 110,
          "lost_mean": 45.376,
          "lost_std": 27.0838357356959,
          "m": 30,
          "profit_mean": 1179.084,
          "profit_std": 91.71567733746215,
          "s": 10
         },
         {
          "N": 1000,
          "S": 120,
          "lost_mean": 41.755,
          "lost_std": 25.85949900304893,
          "m": 30,
          "profit_mean": 1221.9755,
          "profit_std": 98.72465399816328,
          "s": 10
         },
         {
          "N": 1000,
          "S": 130,
          "lost_mean": 38.67,
          "lost_std": 26.374964241468437,
          "m": 30,
          "profit_mean": 1237.17,
          "profit_std": 118.01406636439515,
          "s": 10
         },
         {
          "N": 1000,
          "S": 140,
          "lost_mean": 35.878,
          "lost_std": 24.62351383197438,
          "m": 30,
          "profit_mean": 1223.1476,
          "profit_std": 107.96257672088146,
          "s": 10
         },
         {
          "N": 1000,
          "S": 150,
          "lost_mean": 34.555,
          "lost_std": 24.222338794936725,
          "m": 30,
          "profit_mean": 1229.5750999999998,
          "profit_std": 86.6381838734798,
          "s": 10
         },
         {
          "N": 1000,
          "S": 160,
          "lost_mean": 33.068,
          "lost_std": 24.39168568037745,
          "m": 30,
          "profit_mean": 1280.3911,
          "profit_std": 99.09514902026913,
          "s": 10
         },
         {
          "N": 1000,
          "S": 170,
          "lost_mean": 29.252,
          "lost_std": 23.009953367053004,
          "m": 30,
          "profit_mean": 1295.8973,
          "profit_std": 120.65359353265174,
          "s": 10
         },
         {
          "N": 1000,
          "S": 180,
          "lost_mean": 28.374,
          "lost_std": 23.01029329664438,
          "m": 30,
          "profit_mean": 1274.1175000000003,
          "profit_std": 136.4624032151026,
          "s": 10
         },
         {
          "N": 1000,
          "S": 190,
          "lost_mean": 27.625,
          "lost_std": 23.21726548102546,
          "m": 30,
          "profit_mean": 1241.0229000000002,
          "profit_std": 130.9587565667585,
          "s": 10
         },
         {
          "N": 1000,
          "S": 200,
          "lost_mean": 28.884,
          "lost_std": 23.281378107117426,
          "m": 30,
          "profit_mean": 1204.2041000000004,
          "profit_std": 117.80163249211704,
          "s": 10
         },
         {
          "N": 1000,
          "S": 210,
          "lost_mean": 28.085,
          "lost_std": 22.832369392861793,
          "m": 30,
          "profit_mean": 1174.4432999999997,
          "profit_std": 105.01923306911179,
          "s": 10
         },
         {
          "N": 1000,
          "S": 220,
          "lost_mean": 26.413,
          "lost_std": 21.892320678829478,
          "m": 30,
          "profit_mean": 1182.6988000000001,
          "profit_std": 101.58605970351486,
          "s": 10
         },
         {
          "N": 1000,
          "S": 230,
          "lost_mean": 23.733,
          "lost_std": 19.267458211864533,
          "m": 30,
          "profit_mean": 1217.7190999999996,
          "profit_std": 106.66704825940563,
          "s": 10
         },
         {
          "N": 1000,
          "S": 240,
          "lost_mean": 23.413,
          "lost_std": 20.641329789901995,
          "m": 30,
          "profit_mean": 1253.3675,
          "profit_std": 118.15921129121912,
          "s": 10
         },
         {
          "N": 1000,
          "S": 250,
          "lost_mean": 21.379,
          "lost_std": 19.567325807049855,
          "m": 30,
          "profit_mean": 1306.9865999999997,
          "profit_std": 120.282067309122,
          "s": 10
         },
         {
          "N": 1000,
          "S": 260,
          "lost_mean": 20.225,
          "lost_std": 19.709155888211594,
          "m": 30,
          "profit_mean": 1307.8205999999996,
          "profit_std": 126.70780277048024,
          "s": 10
         },
         {
          "N": 1000,
          "S": 270,
          "lost_mean": 18.865,
          "lost_std": 18.857263093338105,
          "m": 30,
          "profit_mean": 1286.4594,
          "profit_std": 139.30093898909382,
          "s": 10
         },
         {
          "N": 1000,
          "S": 280,
          "lost_mean": 19.89,
          "lost_std": 20.009954979916827,
          "m": 30,
          "profit_mean": 1250.5556,
          "profit_std": 134.97709807832456,
          "s": 10
         },
         {
          "N": 1000,
          "S": 290,
          "lost_mean": 17.893,
          "lost_std": 18.206730514730978,
          "m": 30,
          "profit_mean": 1220.7917999999997,
          "profit_std": 140.82819438270553,
          "s": 10
         },
         {
          "N": 1000,
          "S": 300,
          "lost_mean": 19.205,
          "lost_std": 18.781312859135078,
          "m": 30,
          "profit_mean": 1174.6918,
          "profit_std": 135.16037873852213,
          "s": 10
         },
         {
          "N": 1000,
          "S": 310,
          "lost_mean": 18.366,
          "lost_std": 18.684784322147397,
          "m": 30,
          "profit_mean": 1137.8114,
          "profit_std": 132.28892519697095,
          "s": 10
         },
         {
          "N": 1000,
          "S": 320,
          "lost_mean": 18.808,
          "lost_std": 19.337400835455398,
          "m": 30,
          "profit_mean": 1093.2912,
          "profit_std": 130.00179217429476,
          "s": 10
         },
         {
          "N": 1000,
          "S": 330,
          "lost_mean": 18.942,
          "lost_std": 19.848995405778563,
          "m": 30,
          "profit_mean": 1069.8595999999998,
          "profit_std": 130.22499136577514,
          "s": 10
         },
         {
          "N": 1000,
          "S": 340,
          "lost_mean": 18.386,
          "lost_std": 18.749574676524016,
          "m": 30,
          "profit_mean": 1030.8736,
          "profit_std": 118.30610101164088,
          "s": 10
         },
         {
          "N": 1000,
          "S": 350,
          "lost_mean": 19.856,
          "lost_std": 19.75301104757058,
          "m": 30,
          "profit_mean": 984.1202000000004,
          "profit_std": 115.52823128648765,
          "s": 10
         },
         {
          "N": 1000,
          "S": 100,
          "lost_mean": 36.793,
          "lost_std": 27.718413761639773,
          "m": 30,
          "profit_mean": 1161.8948000000003,
          "profit_std": 92.66522636424698,
          "s": 15
         },
         {
          "N": 1000,
          "S": 110,
          "lost_mean": 32.48,
          "lost_std": 25.672098797267367,
          "m": 30,
          "profit_mean": 1191.3926,
          "profit_std": 98.27006681218482,
          "s": 15
         },
         {
          "N": 1000,
          "S": 120,
          "lost_mean": 29.72,
          "lost_std": 22.456533479054507,
          "m": 30,
          "profit_mean": 1220.8081000000002,
          "profit_std": 89.9745928123142,
          "s": 15
         },
         {
          "N": 1000,
          "S": 130,
          "lost_mean": 28.356,
          "lost_std": 24.180197392617494,
          "m": 30,
          "profit_mean": 1253.3124999999998,
          "profit_std": 108.8652347312175,
          "s": 15
         },
         {
          "N": 1000,
          "S": 140,
          "lost_mean": 25.706,
          "lost_std": 23.688662197699482,
          "m": 30,
          "profit_mean": 1245.5914000000002,
          "profit_std": 118.49800995967996,
          "s": 15
         },
         {
          "N": 1000,
          "S": 150,
          "lost_mean": 24.575,
          "lost_std": 22.726215167859692,
          "m": 30,
          "profit_mean": 1237.5475,
          "profit_std": 99.65764586889522,
          "s": 15
         },
         {
          "N": 1000,
          "S": 160,
          "lost_mean": 23.675,
          "lost_std": 21.794319612398258,
          "m": 30,
          "profit_mean": 1259.4145,
          "profit_std": 94.76311924223748,
          "s": 15
         },
         {
          "N": 1000,
          "S": 170,
          "lost_mean": 21.344,
          "lost_std": 21.488914291732783,
          "m": 30,
          "profit_mean": 1305.4484999999997,
          "profit_std": 108.11265542948252,
          "s": 15
         },
         {
          "N": 1000,
          "S": 180,
          "lost_mean": 20.943,
          "lost_std": 21.10756452744561,
          "m": 30,
          "profit_mean": 1305.6570000000004,
          "profit_std": 125.59585737750429,
          "s": 15
         },
         {
          "N": 1000,
          "S": 190,
          "lost_mean": 20.574,
          "lost_std": 21.622813648322232,
          "m": 30,
          "profit_mean": 1267.6961,
          "profit_std": 127.28981401330408,
          "s": 15
         },
         {
          "N": 1000,
          "S": 200,
          "lost_mean": 19.998,
          "lost_std": 22.09584174052263,
          "m": 30,
          "profit_mean": 1227.8697,
          "profit_std": 123.59999162556541,
          "s": 15
         },
         {
          "N": 1000,
          "S": 210,
          "lost_mean": 19.245,
          "lost_std": 21.04157129880567,
          "m": 30,
          "profit_mean": 1197.6106999999997,
          "profit_std": 108.35511850954352,
          "s": 15
         },
         {
          "N": 1000,
          "S": 220,
          "lost_mean": 19.09,
          "lost_std": 19.919706189969133,
          "m": 30,
          "profit_mean": 1177.707,
          "profit_std": 104.85741446539852,
          "s": 15
         },
         {
          "N": 1000,
          "S": 230,
          "lost_mean": 18.473,
          "lost_std": 18.95591194318009,
          "m": 30,
          "profit_mean": 1189.2739,
          "profit_std": 103.37681013488309,
          "s": 15
         },
         {
          "N": 1000,
          "S": 240,
          "lost_mean": 16.778,
          "lost_std": 17.4504221505737,
          "m": 30,
          "profit_mean": 1225.8602,
          "profit_std": 115.7142529003419,
          "s": 15
         },
         {
          "N": 1000,
          "S": 250,
          "lost_mean": 16.507,
          "lost_std": 18.922791100232097,
          "m": 30,
          "profit_mean": 1274.5508,
          "profit_std": 118.55153219231353,
          "s": 15
         },
         {
          "N": 1000,
          "S": 260,
          "lost_mean": 14.833,
          "lost_std": 17.499238107252967,
          "m": 30,
          "profit_mean": 1301.7349999999997,
          "profit_std": 122.84143728283918,
          "s": 15
         },
         {
          "N": 1000,
          "S": 270,
          "lost_mean": 13.069,
          "lost_std": 16.76147923621857,
          "m": 30,
          "profit_mean": 1305.8228000000004,
          "profit_std": 126.716882728895,
          "s": 15
         },
         {
          "N": 1000,
          "S": 280,
          "lost_mean": 13.095,
          "lost_std": 17.96805013978495,
          "m": 30,
          "profit_mean": 1269.2469,
          "profit_std": 138.84348787218838,
          "s": 15
         },
         {
          "N": 1000,
          "S": 290,
          "lost_mean": 13.659,
          "lost_std": 17.766101242347837,
          "m": 30,
          "profit_mean": 1235.7539000000002,
          "profit_std": 134.33806780377353,
          "s": 15
         },
         {
          "N": 1000,
          "S": 300,
          "lost_mean": 12.951,
          "lost_std": 16.971347195365063,
          "m": 30,
          "profit_mean": 1192.0913999999998,
          "profit_std": 137.27133949476374,
          "s": 15
         },
         {
          "N": 1000,
          "S": 310,
          "lost_mean": 13.127,
          "lost_std": 16.48364588255831,
          "m": 30,
          "profit_mean": 1154.4955,
          "profit_std": 129.98821156126,
          "s": 15
         },
         {
          "N": 1000,
          "S": 320,
          "lost_mean": 13.031,
          "lost_std": 17.726146091445123,
          "m": 30,
          "profit_mean": 1124.2578999999998,
          "profit_std": 124.54431694972868,
          "s": 15
         },
         {
          "N": 1000,
          "S": 330,
          "lost_mean": 13.876,
          "lost_std": 19.082210426330455,
          "m": 30,
          "profit_mean": 1083.9723999999999,
          "profit_std": 126.87309628444008,
          "s": 15
         },
         {
          "N": 1000,
          "S": 340,
          "lost_mean": 13.625,
          "lost_std": 18.307034782359555,
          "m": 30,
          "profit_mean": 1044.0282,
          "profit_std": 119.54976784482584,
          "s": 15
         },
         {
          "N": 1000,
          "S": 350,
          "lost_mean": 14.308,
          "lost_std": 18.84181918367094,
          "m": 30,
          "profit_mean": 1009.1302000000002,
          "profit_std": 119.02507667225774,
          "s": 15
         },
         {
          "N": 1000,
          "S": 100,
          "lost_mean": 25.918,
          "lost_std": 23.718681494801768,
          "m": 30,
          "profit_mean": 1147.1941000000002,
          "profit_std": 88.38367863944022,
          "s": 20
         },
         {
          "N": 1000,
          "S": 110,
          "lost_mean": 23.278,
          "lost_std": 22.60486000168317,
          "m": 30,
          "profit_mean": 1194.7183,
          "profit_std": 97.12779933939878,
          "s": 20
         },
         {
          "N": 1000,
          "S": 120,
          "lost_mean": 21.971,
          "lost_std": 23.289451637115835,
          "m": 30,
          "profit_mean": 1205.3444999999997,
          "profit_std": 90.91498338532519,
          "s": 20
         },
         {
          "N": 1000,
          "S": 130,
          "lost_mean": 20.817,
          "lost_std": 21.991524234080234,
          "m": 30,
          "profit_mean": 1237.1716999999999,
          "profit_std": 92.27099493131965,
          "s": 20
         },
         {
          "N": 1000,
          "S": 140,
          "lost_mean": 18.236,
          "lost_std": 21.096952040173605,
          "m": 30,
          "profit_mean": 1257.9718999999998,
          "profit_std": 111.07161015746992,
          "s": 20
         },
         {
          "N": 1000,
          "S": 150,
          "lost_mean": 19.472,
          "lost_std": 21.948233207730887,
          "m": 30,
          "profit_mean": 1234.4948,
          "profit_std": 106.87750527634006,
          "s": 20
         },
         {
          "N": 1000,
          "S": 160,
          "lost_mean": 18.192,
          "lost_std": 18.99926598866672,
          "m": 30,
          "profit_mean": 1236.3881999999999,
          "profit_std": 93.91827566167974,
          "s": 20
         },
         {
          "N": 1000,
          "S": 170,
          "lost_mean": 15.47,
          "lost_std": 17.796792571298507,
          "m": 30,
          "profit_mean": 1273.3798000000002,
          "profit_std": 96.3173382190434,
          "s": 20
         },
         {
          "N": 1000,
          "S": 180,
          "lost_mean": 14.089,
          "lost_std": 18.273834080783704,
          "m": 30,
          "profit_mean": 1308.7955,
          "profit_std": 106.53378580181626,
          "s": 20
         },
         {
          "N": 1000,
          "S": 190,
          "lost_mean": 14.625,
          "lost_std": 19.337639962501093,
          "m": 30,
          "profit_mean": 1289.8327,
          "profit_std": 126.79617577395976,
          "s": 20
         },
         {
          "N": 1000,
          "S": 200,
          "lost_mean": 15.117,
          "lost_std": 19.898675038008644,
          "m": 30,
          "profit_mean": 1247.7578000000003,
          "profit_std": 128.4671357356586,
          "s": 20
         },
         {
          "N": 1000,
          "S": 210,
          "lost_mean": 15.026,
          "lost_std": 19.86237241212232,
          "m": 30,
          "profit_mean": 1211.2131999999997,
          "profit_std": 122.21156169353033,
          "s": 20
         },
         {
          "N": 1000,
          "S": 220,
          "lost_mean": 13.916,
          "lost_std": 18.62153875773175,
          "m": 30,
          "profit_mean": 1184.7586000000001,
          "profit_std": 107.37593332352041,
          "s": 20
         },
         {
          "N": 1000,
          "S": 230,
          "lost_mean": 13.018,
          "lost_std": 16.58881746433015,
          "m": 30,
          "profit_mean": 1176.4448000000002,
          "profit_std": 104.54276475501602,
          "s": 20
         },
         {
          "N": 1000,
          "S": 240,
          "lost_mean": 13.689,
          "lost_std": 16.74439170748384,
          "m": 30,
          "profit_mean": 1195.0647000000004,
          "profit_std": 113.07643097990471,
          "s": 20
         },
         {
          "N": 1000,
          "S": 250,
          "lost_mean": 11.776,
          "lost_std": 16.75358190079085,
          "m": 30,
          "profit_mean": 1231.1456,
          "profit_std": 119.87073602007285,
          "s": 20
         },
         {
          "N": 1000,
          "S": 260,
          "lost_mean": 11.19,
          "lost_std": 15.694400728100902,
          "m": 30,
          "profit_mean": 1275.1824000000001,
          "profit_std": 126.80720222754218,
          "s": 20
         },
         {
          "N": 1000,
          "S": 270,
          "lost_mean": 9.54,
          "lost_std": 14.915927221761471,
          "m": 30,
          "profit_mean": 1300.4864999999998,
          "profit_std": 123.03880084861143,
          "s": 20
         },
         {
          "N": 1000,
          "S": 280,
          "lost_mean": 9.808,
          "lost_std": 15.266440325111814,
          "m": 30,
          "profit_mean": 1276.2403999999997,
          "profit_std": 128.0450192502418,
          "s": 20
         },
         {
          "N": 1000,
          "S": 290,
          "lost_mean": 9.308,
          "lost_std": 15.153638796301331,
          "m": 30,
          "profit_mean": 1244.5542,
          "profit_std": 126.72986633537249,
          "s": 20
         },
         {
          "N": 1000,
          "S": 300,
          "lost_mean": 9.594,
          "lost_std": 15.835400971365512,
          "m": 30,
          "profit_mean": 1217.9494999999997,
          "profit_std": 136.1850192172737,
          "s": 20
         },
         {
          "N": 1000,
          "S": 310,
          "lost_mean": 9.951,
          "lost_std": 16.421579317083584,
          "m": 30,
          "profit_mean": 1171.2522999999999,
          "profit_std": 127.74019810898574,
          "s": 20
         },
         {
          "N": 1000,
          "S": 320,
          "lost_mean": 9.172,
          "lost_std": 15.698434853731657,
          "m": 30,
          "profit_mean": 1133.0195,
          "profit_std": 128.37437006131185,
          "s": 20
         },
         {
          "N": 1000,
          "S": 330,
          "lost_mean": 9.966,
          "lost_std": 15.578238845438388,
          "m": 30,
          "profit_mean": 1095.7121000000002,
          "profit_std": 131.96033545624127,
          "s": 20
         },
         {
          "N": 1000,
          "S": 340,
          "lost_mean": 9.957,
          "lost_std": 17.033122974906224,
          "m": 30,
          "profit_mean": 1058.6271,
          "profit_std": 126.23920394315786,
          "s": 20
         },
         {
          "N": 1000,
          "S": 350,
          "lost_mean": 10.056,
          "lost_std": 16.540327882071942,
          "m": 30,
          "profit_mean": 1028.3720999999998,
          "profit_std": 121.3324520295601,
          "s": 20
         },
         {
          "N": 1000,
          "S": 100,
          "lost_mean": 19.312,
          "lost_std": 21.26906272098113,
          "m": 30,
          "profit_mean": 1131.5505999999998,
          "profit_std": 86.1490057448769,
          "s": 25
         },
         {
          "N": 1000,
          "S": 110,
          "lost_mean": 17.565,
          "lost_std": 20.348361870942604,
          "m": 30,
          "profit_mean": 1173.5402000000001,
          "profit_std": 91.73663463466539,
          "s": 25
         },
         {
          "N": 1000,
          "S": 120,
          "lost_mean": 16.558,
          "lost_std": 21.10872365194576,
          "m": 30,
          "profit_mean": 1194.4519999999998,
          "profit_std": 100.29524710868702,
          "s": 25
         },
         {
          "N": 1000,
          "S": 130,
          "lost_mean": 15.22,
          "lost_std": 18.20849112774447,
          "m": 30,
          "profit_mean": 1211.2060999999999,
          "profit_std": 89.7361093546634,
          "s": 25
         },
         {
          "N": 1000,
          "S": 140,
          "lost_mean": 13.209,
          "lost_std": 17.60543297593872,
          "m": 30,
          "profit_mean": 1254.1981,
          "profit_std": 96.1903448836672,
          "s": 25
         },
         {
          "N": 1000,
          "S": 150,
          "lost_mean": 13.907,
          "lost_std": 20.021368739579373,
          "m": 30,
          "profit_mean": 1246.9987,
          "profit_std": 108.41314679829522,
          "s": 25
         },
         {
          "N": 1000,
          "S": 160,
          "lost_mean": 13.013,
          "lost_std": 17.35084674829684,
          "m": 30,
          "profit_mean": 1229.3961000000004,
          "profit_std": 102.40191769462882,
          "s": 25
         },
         {
          "N": 1000,
          "S": 170,
          "lost_mean": 11.746,
          "lost_std": 16.900743152865182,
          "m": 30,
          "profit_mean": 1242.3199000000002,
          "profit_std": 96.06047120495566,
          "s": 25
         },
         {
          "N": 1000,
          "S": 180,
          "lost_mean": 10.496,
          "lost_std": 15.295749211592868,
          "m": 30,
          "profit_mean": 1279.2454,
          "profit_std": 104.1101210072111,
          "s": 25
         },
         {
          "N": 1000,
          "S": 190,
          "lost_mean": 10.275,
          "lost_std": 15.950730415902616,
          "m": 30,
          "profit_mean": 1298.2658000000001,
          "profit_std": 112.11519284569253,
          "s": 25
         },
         {
          "N": 1000,
          "S": 200,
          "lost_mean": 9.857,
          "lost_std": 14.966848618114556,
          "m": 30,
          "profit_mean": 1270.9656,
          "profit_std": 125.313000861143,
          "s": 25
         },
         {
          "N": 1000,
          "S": 210,
          "lost_mean": 9.563,
          "lost_std": 15.494841758505348,
          "m": 30,
          "profit_mean": 1234.9551999999999,
          "profit_std": 121.11939622166676,
          "s": 25
         },
         {
          "N": 1000,
          "S": 220,
          "lost_mean": 10.068,
          "lost_std": 15.467275539428808,
          "m": 30,
          "profit_mean": 1187.5917,
          "profit_std": 111.50632314452491,
          "s": 25
         },
         {
          "N": 1000,
          "S": 230,
          "lost_mean": 10.474,
          "lost_std": 16.075688220158778,
          "m": 30,
          "profit_mean": 1163.8123999999998,
          "profit_std": 109.21766342604225,
          "s": 25
         },
         {
          "N": 1000,
          "S": 240,
          "lost_mean": 9.374,
          "lost_std": 14.475208311304385,
          "m": 30,
          "profit_mean": 1164.4014000000002,
          "profit_std": 110.6556448165649,
          "s": 25
         },
         {
          "N": 1000,
          "S": 250,
          "lost_mean": 8.381,
          "lost_std": 14.211537805839551,
          "m": 30,
          "profit_mean": 1179.8042,
          "profit_std": 122.23629548662824,
          "s": 25
         },
         {
          "N": 1000,
          "S": 260,
          "lost_mean": 8.421,
          "lost_std": 13.531698558047541,
          "m": 30,
          "profit_mean": 1226.7263,
          "profit_std": 130.35608596247994,
          "s": 25
         },
         {
          "N": 1000,
          "S": 270,
          "lost_mean": 7.097,
          "lost_std": 12.757442664709233,
          "m": 30,
          "profit_mean": 1268.3445,
          "profit_std": 122.40158854618116,
          "s": 25
         },
         {
          "N": 1000,
          "S": 280,
          "lost_mean": 6.838,
          "lost_std": 12.655430293590019,
          "m": 30,
          "profit_mean": 1283.186,
          "profit_std": 120.7157829127751,
          "s": 25
         },
         {
          "N": 1000,
          "S": 290,
          "lost_mean": 6.787,
          "lost_std": 13.239067335122364,
          "m": 30,
          "profit_mean": 1258.1580999999999,
          "profit_std": 129.19212592023473,
          "s": 25
         },
         {
          "N": 1000,
          "S": 300,
          "lost_mean": 6.525,
          "lost_std": 13.784243917617697,
          "m": 30,
          "profit_mean": 1232.1326000000001,
          "profit_std": 127.93300735780277,
          "s": 25
         },
         {
          "N": 1000,
          "S": 310,
          "lost_mean": 7.132,
          "lost_std": 14.402361056576932,
          "m": 30,
          "profit_mean": 1186.056,
          "profit_std": 126.52310168210096,
          "s": 25
         },
         {
          "N": 1000,
          "S": 320,
          "lost_mean": 6.893,
          "lost_std": 13.935557066394967,
          "m": 30,
          "profit_mean": 1144.8724999999997,
          "profit_std": 124.39465681609639,
          "s": 25
         },
         {
          "N": 1000,
          "S": 330,
          "lost_mean": 6.786,
          "lost_std": 12.444962076321529,
          "m": 30,
          "profit_mean": 1109.8701999999998,
          "profit_std": 128.0685201672051,
          "s": 25
         },
         {
          "N": 1000,
          "S": 340,
          "lost_mean": 7.435,
          "lost_std": 14.191094466677411,
          "m": 30,
          "profit_mean": 1068.2060000000001,
          "profit_std": 118.80377822999453,
          "s": 25
         },
         {
          "N": 1000,
          "S": 350,
          "lost_mean": 6.376,
          "lost_std": 13.233811157703503,
          "m": 30,
          "profit_mean": 1031.7739000000004,
          "profit_std": 117.28273346216979,
          "s": 25
         },
         {
          "N": 1000,
          "S": 100,
          "lost_mean": 14.493,
          "lost_std": 16.93004954445136,
          "m": 30,
          "profit_mean": 1098.7679999999996,
          "profit_std": 87.74148120201485,
          "s": 30
         },
         {
          "N": 1000,
          "S": 110,
          "lost_mean": 13.032,
          "lost_std": 17.604115452952495,
          "m": 30,
          "profit_mean": 1146.1675,
          "profit_std": 89.27774823594108,
          "s": 30
         },
         {
          "N": 1000,
          "S": 120,
          "lost_mean": 12.086,
          "lost_std": 17.191513957535914,
          "m": 30,
          "profit_mean": 1186.2892,
          "profit_std": 92.6146289354595,
          "s": 30
         },
         {
          "N": 1000,
          "S": 130,
          "lost_mean": 12.39,
          "lost_std": 17.933474552063508,
          "m": 30,
          "profit_mean": 1191.3265999999999,
          "profit_std": 97.20116109470173,
          "s": 30
         },
         {
          "N": 1000,
          "S": 140,
          "lost_mean": 10.577,
          "lost_std": 16.186849140122515,
          "m": 30,
          "profit_mean": 1228.0586000000003,
          "profit_std": 98.98152134417617,
          "s": 30
         },
         {
          "N": 1000,
          "S": 150,
          "lost_mean": 10.287,
          "lost_std": 15.857682589114248,
          "m": 30,
          "profit_mean": 1249.7449999999997,
          "profit_std": 107.04220994406697,
          "s": 30
         },
         {
          "N": 1000,
          "S": 160,
          "lost_mean": 9.837,
          "lost_std": 15.58709044011705,
          "m": 30,
          "profit_mean": 1225.9841000000001,
          "profit_std": 103.69674813012585,
          "s": 30
         },
         {
          "N": 1000,
          "S": 170,
          "lost_mean": 9.303,
          "lost_std": 14.403702914794431,
          "m": 30,
          "profit_mean": 1210.3669,
          "profit_std": 101.65758200138525,
          "s": 30
         },
         {
          "N": 1000,
          "S": 180,
          "lost_mean": 8.719,
          "lost_std": 15.456096853019844,
          "m": 30,
          "profit_mean": 1242.0267999999999,
          "profit_std": 105.60051908675162,
          "s": 30
         },
         {
          "N": 1000,
          "S": 190,
          "lost_mean": 8.022,
          "lost_std": 14.57394647704992,
          "m": 30,
          "profit_mean": 1280.9768000000001,
          "profit_std": 109.10577350246672,
          "s": 30
         },
         {
          "N": 1000,
          "S": 200,
          "lost_mean": 7.489,
          "lost_std": 14.325260629115693,
          "m": 30,
          "profit_mean": 1280.1108999999997,
          "profit_std": 118.02020191157634,
          "s": 30
         },
         {
          "N": 1000,
          "S": 210,
          "lost_mean": 7.238,
          "lost_std": 13.643148151782691,
          "m": 30,
          "profit_mean": 1245.2436,
          "profit_std": 118.61010992835821,
          "s": 30
         },
         {
          "N": 1000,
          "S": 220,
          "lost_mean": 6.689,
          "lost_std": 12.819228198749393,
          "m": 30,
          "profit_mean": 1197.9664999999998,
          "profit_std": 121.33480268287452,
          "s": 30
         },
         {
          "N": 1000,
          "S": 230,
          "lost_mean": 7.387,
          "lost_std": 14.129291131117222,
          "m": 30,
          "profit_mean": 1162.3125999999995,
          "profit_std": 106.92020403680155,
          "s": 30
         },
         {
          "N": 1000,
          "S": 240,
          "lost_mean": 7.41,
          "lost_std": 13.328899412913266,
          "m": 30,
          "profit_mean": 1141.4990999999998,
          "profit_std": 108.8291590293936,
          "s": 30
         },
         {
          "N": 1000,
          "S": 250,
          "lost_mean": 6.79,
          "lost_std": 12.804212113513577,
          "m": 30,
          "profit_mean": 1143.9334000000001,
          "profit_std": 111.14024689066926,
          "s": 30
         },
         {
          "N": 1000,
          "S": 260,
          "lost_mean": 5.064,
          "lost_std": 10.579689685138872,
          "m": 30,
          "profit_mean": 1170.6026000000002,
          "profit_std": 129.45030581236537,
          "s": 30
         },
         {
          "N": 1000,
          "S": 270,
          "lost_mean": 5.663,
          "lost_std": 12.0167313705863,
          "m": 30,
          "profit_mean": 1217.8612000000003,
          "profit_std": 132.81120921011095,
          "s": 30
         },
         {
          "N": 1000,
          "S": 280,
          "lost_mean": 4.551,
          "lost_std": 10.914509861900605,
          "m": 30,
          "profit_mean": 1252.7332000000001,
          "profit_std": 127.5637649643969,
          "s": 30
         },
         {
          "N": 1000,
          "S": 290,
          "lost_mean": 5.559,
          "lost_std": 12.501792424041193,
          "m": 30,
          "profit_mean": 1258.1283999999998,
          "profit_std": 123.57190793165681,
          "s": 30
         },
         {
          "N": 1000,
          "S": 300,
          "lost_mean": 5.366,
          "lost_std": 12.10043240816065,
          "m": 30,
          "profit_mean": 1239.6995000000004,
          "profit_std": 122.46052682550561,
          "s": 30
         },
         {
          "N": 1000,
          "S": 310,
          "lost_mean": 5.09,
          "lost_std": 11.500180613979683,
          "m": 30,
          "profit_mean": 1200.8056999999994,
          "profit_std": 132.66096362072295,
          "s": 30
         },
         {
          "N": 1000,
          "S": 320,
          "lost_mean": 5.144,
          "lost_std": 11.38256679430553,
          "m": 30,
          "profit_mean": 1154.1499999999999,
          "profit_std": 129.7827008867108,
          "s": 30
         },
         {
          "N": 1000,
          "S": 330,
          "lost_mean": 4.451,
          "lost_std": 10.832125088547212,
          "m": 30,
          "profit_mean": 1121.1037,
          "profit_std": 127.44165367493237,
          "s": 30
         },
         {
          "N": 1000,
          "S": 340,
          "lost_mean": 4.842,
          "lost_std": 11.936226770194573,
          "m": 30,
          "profit_mean": 1087.1087000000002,
          "profit_std": 123.52747212940399,
          "s": 30
         },
         {
          "N": 1000,
          "S": 350,
          "lost_mean": 4.549,
          "lost_std": 10.585066964485522,
          "m": 30,
          "profit_mean": 1043.6373999999998,
          "profit_std": 118.40139395856508,
          "s": 30
         },
         {
          "N": 1000,
          "S": 100,
          "lost_mean": 10.456,
          "lost_std": 15.771455316577562,
          "m": 30,
          "profit_mean": 1064.4193,
          "profit_std": 87.93451208669964,
          "s": 35
         },
         {
          "N": 1000,
          "S": 110,
          "lost_mean": 9.359,
          "lost_std": 14.919742548640636,
          "m": 30,
          "profit_mean": 1113.2359,
          "profit_std": 88.40497520406208,
          "s": 35
         },
         {
          "N": 1000,
          "S": 120,
          "lost_mean": 10.399,
          "lost_std": 16.970851740817515,
          "m": 30,
          "profit_mean": 1151.6631,
          "profit_std": 88.54828845199538,
          "s": 35
         },
         {
          "N": 1000,
          "S": 130,
          "lost_mean": 8.532,
          "lost_std": 14.988583443195473,
          "m": 30,
          "profit_mean": 1186.5961999999997,
          "profit_std": 96.49156983181797,
          "s": 35
         },
         {
          "N": 1000,
          "S": 140,
          "lost_mean": 8.368,
          "lost_std": 14.457856189823087,
          "m": 30,
          "profit_mean": 1193.4414000000004,
          "profit_std": 97.66394397110936,
          "s": 35
         },
         {
          "N": 1000,
          "S": 150,
          "lost_mean": 7.459,
          "lost_std": 14.88441684665089,
          "m": 30,
          "profit_mean": 1222.4188000000001,
          "profit_std": 100.9965856694021,
          "s": 35
         },
         {
          "N": 1000,
          "S": 160,
          "lost_mean": 7.356,
          "lost_std": 14.461064496999743,
          "m": 30,
          "profit_mean": 1225.6929000000005,
          "profit_std": 106.17102168405196,
          "s": 35
         },
         {
          "N": 1000,
          "S": 170,
          "lost_mean": 6.987,
          "lost_std": 13.114298144232343,
          "m": 30,
          "profit_mean": 1209.6692999999998,
          "profit_std": 104.92211653435156,
          "s": 35
         },
         {
          "N": 1000,
          "S": 180,
          "lost_mean": 6.658,
          "lost_std": 12.651604605705122,
          "m": 30,
          "profit_mean": 1207.3799999999994,
          "profit_std": 105.86222901267256,
          "s": 35
         },
         {
          "N": 1000,
          "S": 190,
          "lost_mean": 5.475,
          "lost_std": 11.459786285166997,
          "m": 30,
          "profit_mean": 1243.3835000000001,
          "profit_std": 105.09118704889265,
          "s": 35
         },
         {
          "N": 1000,
          "S": 200,
          "lost_mean": 5.839,
          "lost_std": 12.754519071950797,
          "m": 30,
          "profit_mean": 1266.5751,
          "profit_std": 108.86528611320742,
          "s": 35
         },
         {
          "N": 1000,
          "S": 210,
          "lost_mean": 5.49,
          "lost_std": 12.524726295163848,
          "m": 30,
          "profit_mean": 1241.7917000000002,
          "profit_std": 115.37176120868745,
          "s": 35
         },
         {
          "N": 1000,
          "S": 220,
          "lost_mean": 4.829,
          "lost_std": 11.013221601786194,
          "m": 30,
          "profit_mean": 1211.6935000000003,
          "profit_std": 119.633824814681,
          "s": 35
         },
         {
          "N": 1000,
          "S": 230,
          "lost_mean": 5.09,
          "lost_std": 11.348069381118476,
          "m": 30,
          "profit_mean": 1174.4196000000002,
          "profit_std": 110.27423081491806,
          "s": 35
         },
         {
          "N": 1000,
          "S": 240,
          "lost_mean": 5.173,
          "lost_std": 11.86236851504735,
          "m": 30,
          "profit_mean": 1141.8590000000002,
          "profit_std": 111.34839398861506,
          "s": 35
         },
         {
          "N": 1000,
          "S": 250,
          "lost_mean": 4.685,
          "lost_std": 10.541389656771821,
          "m": 30,
          "profit_mean": 1123.8239,
          "profit_std": 111.03969440034732,
          "s": 35
         },
         {
          "N": 1000,
          "S": 260,
          "lost_mean": 4.678,
          "lost_std": 11.884087998140522,
          "m": 30,
          "profit_mean": 1133.1587000000002,
          "profit_std": 126.83201813869844,
          "s": 35
         },
         {
          "N": 1000,
          "S": 270,
          "lost_mean": 4.311,
          "lost_std": 10.422807391193313,
          "m": 30,
          "profit_mean": 1162.6994000000002,
          "profit_std": 135.33182124497358,
          "s": 35
         },
         {
          "N": 1000,
          "S": 280,
          "lost_mean": 4.032,
          "lost_std": 10.166628562917811,
          "m": 30,
          "profit_mean": 1210.8788999999997,
          "profit_std": 136.2093480319221,
          "s": 35
         },
         {
          "N": 1000,
          "S": 290,
          "lost_mean": 3.827,
          "lost_std": 10.693616059332994,
          "m": 30,
          "profit_mean": 1237.1174,
          "profit_std": 120.85840985414491,
          "s": 35
         },
         {
          "N": 1000,
          "S": 300,
          "lost_mean": 3.148,
          "lost_std": 8.21885914501798,
          "m": 30,
          "profit_mean": 1230.8906,
          "profit_std": 120.89053359445789,
          "s": 35
         },
         {
          "N": 1000,
          "S": 310,
          "lost_mean": 3.259,
          "lost_std": 10.018797098219691,
          "m": 30,
          "profit_mean": 1207.9512000000002,
          "profit_std": 128.7103369173952,
          "s": 35
         },
         {
          "N": 1000,
          "S": 320,
          "lost_mean": 3.665,
          "lost_std": 10.155782338890239,
          "m": 30,
          "profit_mean": 1166.9792999999997,
          "profit_std": 127.60502679900338,
          "s": 35
         },
         {
          "N": 1000,
          "S": 330,
          "lost_mean": 3.559,
          "lost_std": 10.160499729578008,
          "m": 30,
          "profit_mean": 1125.2972000000004,
          "profit_std": 126.2919595667563,
          "s": 35
         },
         {
          "N": 1000,
          "S": 340,
          "lost_mean": 3.205,
          "lost_std": 9.189527867220518,
          "m": 30,
          "profit_mean": 1090.5718,
          "profit_std": 125.370040487398,
          "s": 35
         },
         {
          "N": 1000,
          "S": 350,
          "lost_mean": 4.121,
          "lost_std": 11.053530636839051,
          "m": 30,
          "profit_mean": 1041.8184,
          "profit_std": 120.40641879537455,
          "s": 35
         },
         {
          "N": 1000,
          "S": 100,
          "lost_mean": 8.256,
          "lost_std": 15.043961738344878,
          "m": 30,
          "profit_mean": 1011.5521,
          "profit_std": 88.1933669022538,
          "s": 40
         },
         {
          "N": 1000,
          "S": 110,
          "lost_mean": 8.22,
          "lost_std": 14.402952650239639,
          "m": 30,
          "profit_mean": 1074.2235000000003,
          "profit_std": 90.945487185398,
          "s": 40
         },
         {
          "N": 1000,
          "S": 120,
          "lost_mean": 6.566,
          "lost_std": 13.79245720949954,
          "m": 30,
          "profit_mean": 1112.0640000000005,
          "profit_std": 95.07072865739197,
          "s": 40
         },
         {
          "N": 1000,
          "S": 130,
          "lost_mean": 6.12,
          "lost_std": 13.451339655905594,
          "m": 30,
          "profit_mean": 1158.4193,
          "profit_std": 97.6712174810688,
          "s": 40
         },
         {
          "N": 1000,
          "S": 140,
          "lost_mean": 5.547,
          "lost_std": 12.030399890341197,
          "m": 30,
          "profit_mean": 1171.3737,
          "profit_std": 99.34421952112898,
          "s": 40
         },
         {
          "N": 1000,
          "S": 150,
          "lost_mean": 5.603,
          "lost_std": 11.564044193884683,
          "m": 30,
          "profit_mean": 1187.8304,
          "profit_std": 99.42343987328258,
          "s": 40
         },
         {
          "N": 1000,
          "S": 160,
          "lost_mean": 5.383,
          "lost_std": 12.598215192082804,
          "m": 30,
          "profit_mean": 1213.8401999999999,
          "profit_std": 100.57412947413205,
          "s": 40
         },
         {
          "N": 1000,
          "S": 170,
          "lost_mean": 5.486,
          "lost_std": 12.83052712971788,
          "m": 30,
          "profit_mean": 1204.2852,
          "profit_std": 109.32361397947624,
          "s": 40
         },
         {
          "N": 1000,
          "S": 180,
          "lost_mean": 5.06,
          "lost_std": 11.827437942694452,
          "m": 30,
          "profit_mean": 1183.0405999999996,
          "profit_std": 102.69867501331015,
          "s": 40
         },
         {
          "N": 1000,
          "S": 190,
          "lost_mean": 4.751,
          "lost_std": 12.041677665549809,
          "m": 30,
          "profit_mean": 1195.6945999999998,
          "profit_std": 109.05479190974818,
          "s": 40
         },
         {
          "N": 1000,
          "S": 200,
          "lost_mean": 3.749,
          "lost_std": 9.807149391091134,
          "m": 30,
          "profit_mean": 1231.1434999999997,
          "profit_std": 113.41306627259203,
          "s": 40
         },
         {
          "N": 1000,
          "S": 210,
          "lost_mean": 3.504,
          "lost_std": 10.19440581446069,
          "m": 30,
          "profit_mean": 1246.4604999999997,
          "profit_std": 112.43129032789224,
          "s": 40
         },
         {
          "N": 1000,
          "S": 220,
          "lost_mean": 4.041,
          "lost_std": 10.112149849293898,
          "m": 30,
          "profit_mean": 1223.9846000000005,
          "profit_std": 115.28553490094669,
          "s": 40
         },
         {
          "N": 1000,
          "S": 230,
          "lost_mean": 3.575,
          "lost_std": 9.693210682396899,
          "m": 30,
          "profit_mean": 1191.8185999999998,
          "profit_std": 115.86032707285712,
          "s": 40
         },
         {
          "N": 1000,
          "S": 240,
          "lost_mean": 4.076,
          "lost_std": 10.562660355885434,
          "m": 30,
          "profit_mean": 1141.2654999999997,
          "profit_std": 110.45498623300684,
          "s": 40
         },
         {
          "N": 1000,
          "S": 250,
          "lost_mean": 3.568,
          "lost_std": 10.033845427056072,
          "m": 30,
          "profit_mean": 1121.5017999999998,
          "profit_std": 113.43667253333656,
          "s": 40
         },
         {
          "N": 1000,
          "S": 260,
          "lost_mean": 2.853,
          "lost_std": 7.995080506931263,
          "m": 30,
          "profit_mean": 1096.5067,
          "profit_std": 116.24106085776808,
          "s": 40
         },
         {
          "N": 1000,
          "S": 270,
          "lost_mean": 3.373,
          "lost_std": 9.24853536547309,
          "m": 30,
          "profit_mean": 1117.9872,
          "profit_std": 132.21272541219668,
          "s": 40
         },
         {
          "N": 1000,
          "S": 280,
          "lost_mean": 2.89,
          "lost_std": 9.187181521244932,
          "m": 30,
          "profit_mean": 1151.5143000000003,
          "profit_std": 138.4628465162239,
          "s": 40
         },
         {
          "N": 1000,
          "S": 290,
          "lost_mean": 2.354,
          "lost_std": 8.417573257153128,
          "m": 30,
          "profit_mean": 1198.8379000000004,
          "profit_std": 132.56975187689952,
          "s": 40
         },
         {
          "N": 1000,
          "S": 300,
          "lost_mean": 2.547,
          "lost_std": 8.725475627432864,
          "m": 30,
          "profit_mean": 1220.44,
          "profit_std": 122.26009738018129,
          "s": 40
         },
         {
          "N": 1000,
          "S": 310,
          "lost_mean": 2.779,
          "lost_std": 9.088496011979082,
          "m": 30,
          "profit_mean": 1200.8228000000001,
          "profit_std": 121.02437878551751,
          "s": 40
         },
         {
          "N": 1000,
          "S": 320,
          "lost_mean": 2.596,
          "lost_std": 8.306369831627999,
          "m": 30,
          "profit_mean": 1173.4143000000001,
          "profit_std": 121.81342617423708,
          "s": 40
         },
         {
          "N": 1000,
          "S": 330,
          "lost_mean": 2.098,
          "lost_std": 7.36169753457656,
          "m": 30,
          "profit_mean": 1135.8409,
          "profit_std": 127.08756298653246,
          "s": 40
         },
         {
          "N": 1000,
          "S": 340,
          "lost_mean": 2.451,
          "lost_std": 8.622873822163518,
          "m": 30,
          "profit_mean": 1095.6269,
          "profit_std": 118.5884960600639,
          "s": 40
         },
         {
          "N": 1000,
          "S": 350,
          "lost_mean": 2.65,
          "lost_std": 8.819596662279135,
          "m": 30,
          "profit_mean": 1052.3588,
          "profit_std": 129.20559983835682,
          "s": 40
         },
         {
          "N": 1000,
          "S": 100,
          "lost_mean": 6.852,
          "lost_std": 13.979181432169534,
          "m": 30,
          "profit_mean": 962.8335999999998,
          "profit_std": 94.1271192888937,
          "s": 45
         },
         {
          "N": 1000,
          "S": 110,
          "lost_mean": 5.317,
          "lost_std": 11.935449969145111,
          "m": 30,
          "profit_mean": 1025.3848,
          "profit_std": 95.58566245953327,
          "s": 45
         },
         {
          "N": 1000,
          "S": 120,
          "lost_mean": 5.266,
          "lost_std": 11.564297513337204,
          "m": 30,
          "profit_mean": 1083.3567,
          "profit_std": 94.64787697421283,
          "s": 45
         },
         {
          "N": 1000,
          "S": 130,
          "lost_mean": 5.323,
          "lost_std": 11.83379523693518,
          "m": 30,
          "profit_mean": 1118.7586999999996,
          "profit_std": 97.07716652524716,
          "s": 45
         },
         {
          "N": 1000,
          "S": 140,
          "lost_mean": 4.898,
          "lost_std": 12.312237294139004,
          "m": 30,
          "profit_mean": 1151.4609,
          "profit_std": 98.88349177762754,
          "s": 45
         },
         {
          "N": 1000,
          "S": 150,
          "lost_mean": 4.266,
          "lost_std": 10.535950372427262,
          "m": 30,
          "profit_mean": 1162.1808999999996,
          "profit_std": 103.3380390539007,
          "s": 45
         },
         {
          "N": 1000,
          "S": 160,
          "lost_mean": 3.768,
          "lost_std": 9.78876887029191,
          "m": 30,
          "profit_mean": 1179.6214999999997,
          "profit_std": 101.95326240717097,
          "s": 45
         },
         {
          "N": 1000,
          "S": 170,
          "lost_mean": 4.01,
          "lost_std": 10.998038773202106,
          "m": 30,
          "profit_mean": 1197.8699000000001,
          "profit_std": 102.23891578009761,
          "s": 45
         },
         {
          "N": 1000,
          "S": 180,
          "lost_mean": 3.558,
          "lost_std": 10.045573629691317,
          "m": 30,
          "profit_mean": 1173.481,
          "profit_std": 106.65725727548747,
          "s": 45
         },
         {
          "N": 1000,
          "S": 190,
          "lost_mean": 3.238,
          "lost_std": 9.657049995449677,
          "m": 30,
          "profit_mean": 1169.6976,
          "profit_std": 105.94586221254683,
          "s": 45
         },
         {
          "N": 1000,
          "S": 200,
          "lost_mean": 3.004,
          "lost_std": 8.989927853036574,
          "m": 30,
          "profit_mean": 1191.7688999999998,
          "profit_std": 112.5661771894073,
          "s": 45
         },
         {
          "N": 1000,
          "S": 210,
          "lost_mean": 2.868,
          "lost_std": 8.775510559824179,
          "m": 30,
          "profit_mean": 1220.5394000000001,
          "profit_std": 108.01215382082246,
          "s": 45
         },
         {
          "N": 1000,
          "S": 220,
          "lost_mean": 2.939,
          "lost_std": 9.07500053083385,
          "m": 30,
          "profit_mean": 1223.2257,
          "profit_std": 115.50340915763931,
          "s": 45
         },
         {
          "N": 1000,
          "S": 230,
          "lost_mean": 2.068,
          "lost_std": 7.140894087463306,
          "m": 30,
          "profit_mean": 1190.9651999999999,
          "profit_std": 116.82764453453426,
          "s": 45
         },
         {
          "N": 1000,
          "S": 240,
          "lost_mean": 2.581,
          "lost_std": 8.589716073434687,
          "m": 30,
          "profit_mean": 1144.9629,
          "profit_std": 113.03032118461442,
          "s": 45
         },
         {
          "N": 1000,
          "S": 250,
          "lost_mean": 2.62,
          "lost_std": 8.031818605403767,
          "m": 30,
          "profit_mean": 1106.9587000000001,
          "profit_std": 113.60733255525508,
          "s": 45
         },
         {
          "N": 1000,
          "S": 260,
          "lost_mean": 2.415,
          "lost_std": 8.186195012873128,
          "m": 30,
          "profit_mean": 1083.612,
          "profit_std": 111.62360711635182,
          "s": 45
         },
         {
          "N": 1000,
          "S": 270,
          "lost_mean": 2.294,
          "lost_std": 7.55795519215923,
          "m": 30,
          "profit_mean": 1081.0412,
          "profit_std": 122.80627346908365,
          "s": 45
         },
         {
          "N": 1000,
          "S": 280,
          "lost_mean": 2.483,
          "lost_std": 8.17021807930874,
          "m": 30,
          "profit_mean": 1116.4928,
          "profit_std": 141.34035001620273,
          "s": 45
         },
         {
          "N": 1000,
          "S": 290,
          "lost_mean": 1.55,
          "lost_std": 5.894594663439229,
          "m": 30,
          "profit_mean": 1143.4065999999998,
          "profit_std": 142.85914626691604,
          "s": 45
         },
         {
          "N": 1000,
          "S": 300,
          "lost_mean": 1.937,
          "lost_std": 7.619126070756543,
          "m": 30,
          "profit_mean": 1186.0901000000003,
          "profit_std": 133.9462508250981,
          "s": 45
         },
         {
          "N": 1000,
          "S": 310,
          "lost_mean": 1.867,
          "lost_std": 7.2104994488802445,
          "m": 30,
          "profit_mean": 1190.2935000000002,
          "profit_std": 121.39555901885169,
          "s": 45
         },
         {
          "N": 1000,
          "S": 320,
          "lost_mean": 2.198,
          "lost_std": 8.40734675622931,
          "m": 30,
          "profit_mean": 1171.4760000000003,
          "profit_std": 123.77802116095782,
          "s": 45
         },
         {
          "N": 1000,
          "S": 330,
          "lost_mean": 1.951,
          "lost_std": 7.28200704659276,
          "m": 30,
          "profit_mean": 1146.2992,
          "profit_std": 125.23195839226807,
          "s": 45
         },
         {
          "N": 1000,
          "S": 340,
          "lost_mean": 1.765,
          "lost_std": 6.711692917723649,
          "m": 30,
          "profit_mean": 1093.8299000000002,
          "profit_std": 122.82926803117846,
          "s": 45
         },
         {
          "N": 1000,
          "S": 350,
          "lost_mean": 1.419,
          "lost_std": 6.20579978334388,
          "m": 30,
          "profit_mean": 1063.4941000000001,
          "profit_std": 121.52294211650181,
          "s": 45
         },
         {
          "N": 1000,
          "S": 100,
          "lost_mean": 5.124,
          "lost_std": 12.364849918762195,
          "m": 30,
          "profit_mean": 901.0713,
          "profit_std": 100.33306488999636,
          "s": 50
         },
         {
          "N": 1000,
          "S": 110,
          "lost_mean": 4.01,
          "lost_std": 10.083331471967664,
          "m": 30,
          "profit_mean": 972.9241000000001,
          "profit_std": 95.8143799468253,
          "s": 50
         },
         {
          "N": 1000,
          "S": 120,
          "lost_mean": 4.157,
          "lost_std": 10.527543881655406,
          "m": 30,
          "profit_mean": 1038.5918,
          "profit_std": 91.02257402283095,
          "s": 50
         },
         {
          "N": 1000,
          "S": 130,
          "lost_mean": 3.533,
          "lost_std": 9.982412511991257,
          "m": 30,
          "profit_mean": 1081.9735,
          "profit_std": 96.68534741187084,
          "s": 50
         },
         {
          "N": 1000,
          "S": 140,
          "lost_mean": 3.451,
          "lost_std": 9.7197774189059,
          "m": 30,
          "profit_mean": 1120.6184,
          "profit_std": 94.75451514086059,
          "s": 50
         },
         {
          "N": 1000,
          "S": 150,
          "lost_mean": 2.96,
          "lost_std": 8.79430154928404,
          "m": 30,
          "profit_mean": 1137.6378000000002,
          "profit_std": 100.56391505988702,
          "s": 50
         },
         {
          "N": 1000,
          "S": 160,
          "lost_mean": 2.686,
          "lost_std": 8.455228849350847,
          "m": 30,
          "profit_mean": 1138.9103,
          "profit_std": 103.39070287676427,
          "s": 50
         },
         {
          "N": 1000,
          "S": 170,
          "lost_mean": 2.875,
          "lost_std": 9.650829680059301,
          "m": 30,
          "profit_mean": 1173.9012,
          "profit_std": 101.31499082527682,
          "s": 50
         },
         {
          "N": 1000,
          "S": 180,
          "lost_mean": 2.254,
          "lost_std": 7.323463464585394,
          "m": 30,
          "profit_mean": 1175.3082,
          "profit_std": 105.2025783679053,
          "s": 50
         },
         {
          "N": 1000,
          "S": 190,
          "lost_mean": 2.696,
          "lost_std": 8.96827820788439,
          "m": 30,
          "profit_mean": 1153.6221,
          "profit_std": 106.22469716538559,
          "s": 50
         },
         {
          "N": 1000,
          "S": 200,
          "lost_mean": 2.099,
          "lost_std": 7.757278799577489,
          "m": 30,
          "profit_mean": 1151.3340000000003,
          "profit_std": 110.5502033080512,
          "s": 50
         },
         {
          "N": 1000,
          "S": 210,
          "lost_mean": 2.029,
          "lost_std": 7.417896210124823,
          "m": 30,
          "profit_mean": 1183.2953,
          "profit_std": 113.81536084498556,
          "s": 50
         },
         {
          "N": 1000,
          "S": 220,
          "lost_mean": 1.992,
          "lost_std": 7.584950063610669,
          "m": 30,
          "profit_mean": 1210.9642,
          "profit_std": 111.88685144325889,
          "s": 50
         },
         {
          "N": 1000,
          "S": 230,
          "lost_mean": 2.011,
          "lost_std": 8.755200313672587,
          "m": 30,
          "profit_mean": 1197.1638000000005,
          "profit_std": 120.0058112938882,
          "s": 50
         },
         {
          "N": 1000,
          "S": 240,
          "lost_mean": 1.747,
          "lost_std": 6.829028234428865,
          "m": 30,
          "profit_mean": 1152.4435999999998,
          "profit_std": 117.80224704329049,
          "s": 50
         },
         {
          "N": 1000,
          "S": 250,
          "lost_mean": 1.938,
          "lost_std": 6.945242428626403,
          "m": 30,
          "profit_mean": 1109.5742,
          "profit_std": 106.21813313255964,
          "s": 50
         },
         {
          "N": 1000,
          "S": 260,
          "lost_mean": 1.966,
          "lost_std": 7.594374136064043,
          "m": 30,
          "profit_mean": 1078.0302,
          "profit_std": 108.9768716127716,
          "s": 50
         },
         {
          "N": 1000,
          "S": 270,
          "lost_mean": 1.798,
          "lost_std": 7.229762476421022,
          "m": 30,
          "profit_mean": 1055.8256000000001,
          "profit_std": 113.21077247172039,
          "s": 50
         },
         {
          "N": 1000,
          "S": 280,
          "lost_mean": 2.155,
          "lost_std": 8.163431669133795,
          "m": 30,
          "profit_mean": 1059.101,
          "profit_std": 129.79565505467073,
          "s": 50
         },
         {
          "N": 1000,
          "S": 290,
          "lost_mean": 1.777,
          "lost_std": 7.4911540091222495,
          "m": 30,
          "profit_mean": 1091.0699999999997,
          "profit_std": 148.52870697880863,
          "s": 50
         },
         {
          "N": 1000,
          "S": 300,
          "lost_mean": 1.321,
          "lost_std": 5.989978200197298,
          "m": 30,
          "profit_mean": 1139.2787999999998,
          "profit_std": 140.2783421767018,
          "s": 50
         },
         {
          "N": 1000,
          "S": 310,
          "lost_mean": 1.524,
          "lost_std": 7.583728432435916,
          "m": 30,
          "profit_mean": 1165.1182999999999,
          "profit_std": 130.139553705046,
          "s": 50
         },
         {
          "N": 1000,
          "S": 320,
          "lost_mean": 1.272,
          "lost_std": 6.479660639416392,
          "m": 30,
          "profit_mean": 1169.3793,
          "profit_std": 119.86451010325072,
          "s": 50
         },
         {
          "N": 1000,
          "S": 330,
          "lost_mean": 1.31,
          "lost_std": 5.994984557097692,
          "m": 30,
          "profit_mean": 1141.1592,
          "profit_std": 119.62745296487283,
          "s": 50
         },
         {
          "N": 1000,
          "S": 340,
          "lost_mean": 1.535,
          "lost_std": 6.556963380160728,
          "m": 30,
          "profit_mean": 1098.3847999999996,
          "profit_std": 124.65493597135263,
          "s": 50
         },
         {
          "N": 1000,
          "S": 350,
          "lost_mean": 1.227,
          "lost_std": 6.389859255202834,
          "m": 30,
          "profit_mean": 1067.9732,
          "profit_std": 128.5913059492193,
          "s": 50
         }
        ]
       },
       "encoding": {
        "color": {
         "field": "profit_mean",
         "scale": {
          "scheme": "plasma"
         },
         "type": "quantitative"
        },
        "x": {
         "field": "S",
         "type": "quantitative"
        },
        "y": {
         "field": "s",
         "type": "quantitative"
        }
       },
       "mark": "point"
      },
      "image/png": "[encoded data removed]",
      "image/svg+xml": [
       "<?xml version=\"1.0\" encoding=\"utf-8\"?>\n",
       "<!DOCTYPE svg PUBLIC \"-//W3C//DTD SVG 1.1//EN\" \"http://www.w3.org/Graphics/SVG/1.1/DTD/svg11.dtd\">\n",
       "<svg xmlns=\"http://www.w3.org/2000/svg\" xmlns:xlink=\"http://www.w3.org/1999/xlink\" version=\"1.1\" class=\"marks\" width=\"329\" height=\"247\" viewBox=\"0 0 329 247\"><rect width=\"329\" height=\"247\" fill=\"white\"/><g fill=\"none\" stroke-miterlimit=\"10\" transform=\"translate(37,10)\"><g class=\"mark-group role-frame root\" role=\"graphics-object\" aria-roledescription=\"group mark container\"><g transform=\"translate(0,0)\"><path class=\"background\" aria-hidden=\"true\" d=\"M0.5,0.5h200v200h-200Z\" stroke=\"#ddd\"/><g><g class=\"mark-group role-axis\" aria-hidden=\"true\"><g transform=\"translate(0.5,200.5)\"><path class=\"background\" aria-hidden=\"true\" d=\"M0,0h0v0h0Z\" pointer-events=\"none\"/><g><g class=\"mark-rule role-axis-grid\" pointer-events=\"none\"><line transform=\"translate(0,-200)\" x2=\"0\" y2=\"200\" stroke=\"#ddd\" stroke-width=\"1\" opacity=\"1\"/><line transform=\"translate(29,-200)\" x2=\"0\" y2=\"200\" stroke=\"#ddd\" stroke-width=\"1\" opacity=\"1\"/><line transform=\"translate(57,-200)\" x2=\"0\" y2=\"200\" stroke=\"#ddd\" stroke-width=\"1\" opacity=\"1\"/><line transform=\"translate(86,-200)\" x2=\"0\" y2=\"200\" stroke=\"#ddd\" stroke-width=\"1\" opacity=\"1\"/><line transform=\"translate(114,-200)\" x2=\"0\" y2=\"200\" stroke=\"#ddd\" stroke-width=\"1\" opacity=\"1\"/><line transform=\"translate(143,-200)\" x2=\"0\" y2=\"200\" stroke=\"#ddd\" stroke-width=\"1\" opacity=\"1\"/><line transform=\"translate(171,-200)\" x2=\"0\" y2=\"200\" stroke=\"#ddd\" stroke-width=\"1\" opacity=\"1\"/><line transform=\"translate(200,-200)\" x2=\"0\" y2=\"200\" stroke=\"#ddd\" stroke-width=\"1\" opacity=\"1\"/></g></g><path class=\"foreground\" aria-hidden=\"true\" d=\"\" pointer-events=\"none\" display=\"none\"/></g></g><g class=\"mark-group role-axis\" aria-hidden=\"true\"><g transform=\"translate(0.5,0.5)\"><path class=\"background\" aria-hidden=\"true\" d=\"M0,0h0v0h0Z\" pointer-events=\"none\"/><g><g class=\"mark-rule role-axis-grid\" pointer-events=\"none\"><line transform=\"translate(0,200)\" x2=\"200\" y2=\"0\" stroke=\"#ddd\" stroke-width=\"1\" opacity=\"1\"/><line transform=\"translate(0,160)\" x2=\"200\" y2=\"0\" stroke=\"#ddd\" stroke-width=\"1\" opacity=\"1\"/><line transform=\"translate(0,120)\" x2=\"200\" y2=\"0\" stroke=\"#ddd\" stroke-width=\"1\" opacity=\"1\"/><line transform=\"translate(0,80)\" x2=\"200\" y2=\"0\" stroke=\"#ddd\" stroke-width=\"1\" opacity=\"1\"/><line transform=\"translate(0,40)\" x2=\"200\" y2=\"0\" stroke=\"#ddd\" stroke-width=\"1\" opacity=\"1\"/><line transform=\"translate(0,0)\" x2=\"200\" y2=\"0\" stroke=\"#ddd\" stroke-width=\"1\" opacity=\"1\"/></g></g><path class=\"foreground\" aria-hidden=\"true\" d=\"\" pointer-events=\"none\" display=\"none\"/></g></g><g class=\"mark-group role-axis\" role=\"graphics-symbol\" aria-roledescription=\"axis\" aria-label=\"X-axis titled 'S' for a linear scale with values from 0 to 350\"><g transform=\"translate(0.5,200.5)\"><path class=\"background\" aria-hidden=\"true\" d=\"M0,0h0v0h0Z\" pointer-events=\"none\"/><g><g class=\"mark-rule role-axis-tick\" pointer-events=\"none\"><line transform=\"translate(0,0)\" x2=\"0\" y2=\"5\" stroke=\"#888\" stroke-width=\"1\" opacity=\"1\"/><line transform=\"translate(29,0)\" x2=\"0\" y2=\"5\" stroke=\"#888\" stroke-width=\"1\" opacity=\"1\"/><line transform=\"translate(57,0)\" x2=\"0\" y2=\"5\" stroke=\"#888\" stroke-width=\"1\" opacity=\"1\"/><line transform=\"translate(86,0)\" x2=\"0\" y2=\"5\" stroke=\"#888\" stroke-width=\"1\" opacity=\"1\"/><line transform=\"translate(114,0)\" x2=\"0\" y2=\"5\" stroke=\"#888\" stroke-width=\"1\" opacity=\"1\"/><line transform=\"translate(143,0)\" x2=\"0\" y2=\"5\" stroke=\"#888\" stroke-width=\"1\" opacity=\"1\"/><line transform=\"translate(171,0)\" x2=\"0\" y2=\"5\" stroke=\"#888\" stroke-width=\"1\" opacity=\"1\"/><line transform=\"translate(200,0)\" x2=\"0\" y2=\"5\" stroke=\"#888\" stroke-width=\"1\" opacity=\"1\"/></g><g class=\"mark-text role-axis-label\" pointer-events=\"none\"><text text-anchor=\"start\" transform=\"translate(0,15)\" font-family=\"sans-serif\" font-size=\"10px\" fill=\"#000\" opacity=\"1\">0</text><text text-anchor=\"middle\" transform=\"translate(28.57142857142857,15)\" font-family=\"sans-serif\" font-size=\"10px\" fill=\"#000\" opacity=\"1\">50</text><text text-anchor=\"middle\" transform=\"translate(57.14285714285714,15)\" font-family=\"sans-serif\" font-size=\"10px\" fill=\"#000\" opacity=\"1\">100</text><text text-anchor=\"middle\" transform=\"translate(85.71428571428571,15)\" font-family=\"sans-serif\" font-size=\"10px\" fill=\"#000\" opacity=\"1\">150</text><text text-anchor=\"middle\" transform=\"translate(114.28571428571428,15)\" font-family=\"sans-serif\" font-size=\"10px\" fill=\"#000\" opacity=\"1\">200</text><text text-anchor=\"middle\" transform=\"translate(142.85714285714286,15)\" font-family=\"sans-serif\" font-size=\"10px\" fill=\"#000\" opacity=\"1\">250</text><text text-anchor=\"middle\" transform=\"translate(171.42857142857142,15)\" font-family=\"sans-serif\" font-size=\"10px\" fill=\"#000\" opacity=\"1\">300</text><text text-anchor=\"end\" transform=\"translate(200,15)\" font-family=\"sans-serif\" font-size=\"10px\" fill=\"#000\" opacity=\"1\">350</text></g><g class=\"mark-rule role-axis-domain\" pointer-events=\"none\"><line transform=\"translate(0,0)\" x2=\"200\" y2=\"0\" stroke=\"#888\" stroke-width=\"1\" opacity=\"1\"/></g><g class=\"mark-text role-axis-title\" pointer-events=\"none\"><text text-anchor=\"middle\" transform=\"translate(100,30)\" font-family=\"sans-serif\" font-size=\"11px\" font-weight=\"bold\" fill=\"#000\" opacity=\"1\">S</text></g></g><path class=\"foreground\" aria-hidden=\"true\" d=\"\" pointer-events=\"none\" display=\"none\"/></g></g><g class=\"mark-group role-axis\" role=\"graphics-symbol\" aria-roledescription=\"axis\" aria-label=\"Y-axis titled 's' for a linear scale with values from 0 to 50\"><g transform=\"translate(0.5,0.5)\"><path class=\"background\" aria-hidden=\"true\" d=\"M0,0h0v0h0Z\" pointer-events=\"none\"/><g><g class=\"mark-rule role-axis-tick\" pointer-events=\"none\"><line transform=\"translate(0,200)\" x2=\"-5\" y2=\"0\" stroke=\"#888\" stroke-width=\"1\" opacity=\"1\"/><line transform=\"translate(0,160)\" x2=\"-5\" y2=\"0\" stroke=\"#888\" stroke-width=\"1\" opacity=\"1\"/><line transform=\"translate(0,120)\" x2=\"-5\" y2=\"0\" stroke=\"#888\" stroke-width=\"1\" opacity=\"1\"/><line transform=\"translate(0,80)\" x2=\"-5\" y2=\"0\" stroke=\"#888\" stroke-width=\"1\" opacity=\"1\"/><line transform=\"translate(0,40)\" x2=\"-5\" y2=\"0\" stroke=\"#888\" stroke-width=\"1\" opacity=\"1\"/><line transform=\"translate(0,0)\" x2=\"-5\" y2=\"0\" stroke=\"#888\" stroke-width=\"1\" opacity=\"1\"/></g><g class=\"mark-text role-axis-label\" pointer-events=\"none\"><text text-anchor=\"end\" transform=\"translate(-7,203)\" font-family=\"sans-serif\" font-size=\"10px\" fill=\"#000\" opacity=\"1\">0</text><text text-anchor=\"end\" transform=\"translate(-7,163)\" font-family=\"sans-serif\" font-size=\"10px\" fill=\"#000\" opacity=\"1\">10</text><text text-anchor=\"end\" transform=\"translate(-7,123)\" font-family=\"sans-serif\" font-size=\"10px\" fill=\"#000\" opacity=\"1\">20</text><text text-anchor=\"end\" transform=\"translate(-7,83)\" font-family=\"sans-serif\" font-size=\"10px\" fill=\"#000\" opacity=\"1\">30</text><text text-anchor=\"end\" transform=\"translate(-7,42.99999999999999)\" font-family=\"sans-serif\" font-size=\"10px\" fill=\"#000\" opacity=\"1\">40</text><text text-anchor=\"end\" transform=\"translate(-7,3)\" font-family=\"sans-serif\" font-size=\"10px\" fill=\"#000\" opacity=\"1\">50</text></g><g class=\"mark-rule role-axis-domain\" pointer-events=\"none\"><line transform=\"translate(0,200)\" x2=\"0\" y2=\"-200\" stroke=\"#888\" stroke-width=\"1\" opacity=\"1\"/></g><g class=\"mark-text role-axis-title\" pointer-events=\"none\"><text text-anchor=\"middle\" transform=\"translate(-21,100) rotate(-90) translate(0,-2)\" font-family=\"sans-serif\" font-size=\"11px\" font-weight=\"bold\" fill=\"#000\" opacity=\"1\">s</text></g></g><path class=\"foreground\" aria-hidden=\"true\" d=\"\" pointer-events=\"none\" display=\"none\"/></g></g><g class=\"mark-symbol role-mark marks\" role=\"graphics-object\" aria-roledescription=\"symbol mark container\"><path aria-label=\"S: 100; s: 10; profit_mean: 1154.4868\" role=\"graphics-symbol\" aria-roledescription=\"point\" transform=\"translate(57.14285714285714,160)\" d=\"M2.7386127875258306,0A2.7386127875258306,2.7386127875258306,0,1,1,-2.7386127875258306,0A2.7386127875258306,2.7386127875258306,0,1,1,2.7386127875258306,0\" stroke=\"rgb(229, 106, 93)\" stroke-width=\"2\" opacity=\"0.7\"/><path aria-label=\"S: 110; s: 10; profit_mean: 1179.084\" role=\"graphics-symbol\" aria-roledescription=\"point\" transform=\"translate(62.857142857142854,160)\" d=\"M2.7386127875258306,0A2.7386127875258306,2.7386127875258306,0,1,1,-2.7386127875258306,0A2.7386127875258306,2.7386127875258306,0,1,1,2.7386127875258306,0\" stroke=\"rgb(239, 126, 80)\" stroke-width=\"2\" opacity=\"0.7\"/><path aria-label=\"S: 120; s: 10; profit_mean: 1221.9755\" role=\"graphics-symbol\" aria-roledescription=\"point\" transform=\"translate(68.57142857142857,160)\" d=\"M2.7386127875258306,0A2.7386127875258306,2.7386127875258306,0,1,1,-2.7386127875258306,0A2.7386127875258306,2.7386127875258306,0,1,1,2.7386127875258306,0\" stroke=\"rgb(251, 161, 57)\" stroke-width=\"2\" opacity=\"0.7\"/><path aria-label=\"S: 130; s: 10; profit_mean: 1237.17\" role=\"graphics-symbol\" aria-roledescription=\"point\" transform=\"translate(74.28571428571429,160)\" d=\"M2.7386127875258306,0A2.7386127875258306,2.7386127875258306,0,1,1,-2.7386127875258306,0A2.7386127875258306,2.7386127875258306,0,1,1,2.7386127875258306,0\" stroke=\"rgb(253, 175, 49)\" stroke-width=\"2\" opacity=\"0.7\"/><path aria-label=\"S: 140; s: 10; profit_mean: 1223.1476\" role=\"graphics-symbol\" aria-roledescription=\"point\" transform=\"translate(80,160)\" d=\"M2.7386127875258306,0A2.7386127875258306,2.7386127875258306,0,1,1,-2.7386127875258306,0A2.7386127875258306,2.7386127875258306,0,1,1,2.7386127875258306,0\" stroke=\"rgb(251, 162, 56)\" stroke-width=\"2\" opacity=\"0.7\"/><path aria-label=\"S: 150; s: 10; profit_mean: 1229.5751\" role=\"graphics-symbol\" aria-roledescription=\"point\" transform=\"translate(85.71428571428571,160)\" d=\"M2.7386127875258306,0A2.7386127875258306,2.7386127875258306,0,1,1,-2.7386127875258306,0A2.7386127875258306,2.7386127875258306,0,1,1,2.7386127875258306,0\" stroke=\"rgb(252, 168, 53)\" stroke-width=\"2\" opacity=\"0.7\"/><path aria-label=\"S: 160; s: 10; profit_mean: 1280.3911\" role=\"graphics-symbol\" aria-roledescription=\"point\" transform=\"translate(91.42857142857143,160)\" d=\"M2.7386127875258306,0A2.7386127875258306,2.7386127875258306,0,1,1,-2.7386127875258306,0A2.7386127875258306,2.7386127875258306,0,1,1,2.7386127875258306,0\" stroke=\"rgb(249, 219, 36)\" stroke-width=\"2\" opacity=\"0.7\"/><path aria-label=\"S: 170; s: 10; profit_mean: 1295.8973\" role=\"graphics-symbol\" aria-roledescription=\"point\" transform=\"translate(97.14285714285714,160)\" d=\"M2.7386127875258306,0A2.7386127875258306,2.7386127875258306,0,1,1,-2.7386127875258306,0A2.7386127875258306,2.7386127875258306,0,1,1,2.7386127875258306,0\" stroke=\"rgb(245, 235, 39)\" stroke-width=\"2\" opacity=\"0.7\"/><path aria-label=\"S: 180; s: 10; profit_mean: 1274.1175\" role=\"graphics-symbol\" aria-roledescription=\"point\" transform=\"translate(102.85714285714285,160)\" d=\"M2.7386127875258306,0A2.7386127875258306,2.7386127875258306,0,1,1,-2.7386127875258306,0A2.7386127875258306,2.7386127875258306,0,1,1,2.7386127875258306,0\" stroke=\"rgb(251, 212, 37)\" stroke-width=\"2\" opacity=\"0.7\"/><path aria-label=\"S: 190; s: 10; profit_mean: 1241.0229\" role=\"graphics-symbol\" aria-roledescription=\"point\" transform=\"translate(108.57142857142857,160)\" d=\"M2.7386127875258306,0A2.7386127875258306,2.7386127875258306,0,1,1,-2.7386127875258306,0A2.7386127875258306,2.7386127875258306,0,1,1,2.7386127875258306,0\" stroke=\"rgb(253, 179, 47)\" stroke-width=\"2\" opacity=\"0.7\"/><path aria-label=\"S: 200; s: 10; profit_mean: 1204.2041\" role=\"graphics-symbol\" aria-roledescription=\"point\" transform=\"translate(114.28571428571428,160)\" d=\"M2.7386127875258306,0A2.7386127875258306,2.7386127875258306,0,1,1,-2.7386127875258306,0A2.7386127875258306,2.7386127875258306,0,1,1,2.7386127875258306,0\" stroke=\"rgb(247, 146, 66)\" stroke-width=\"2\" opacity=\"0.7\"/><path aria-label=\"S: 210; s: 10; profit_mean: 1174.4433\" role=\"graphics-symbol\" aria-roledescription=\"point\" transform=\"translate(120,160)\" d=\"M2.7386127875258306,0A2.7386127875258306,2.7386127875258306,0,1,1,-2.7386127875258306,0A2.7386127875258306,2.7386127875258306,0,1,1,2.7386127875258306,0\" stroke=\"rgb(238, 122, 82)\" stroke-width=\"2\" opacity=\"0.7\"/><path aria-label=\"S: 220; s: 10; profit_mean: 1182.6988\" role=\"graphics-symbol\" aria-roledescription=\"point\" transform=\"translate(125.71428571428571,160)\" d=\"M2.7386127875258306,0A2.7386127875258306,2.7386127875258306,0,1,1,-2.7386127875258306,0A2.7386127875258306,2.7386127875258306,0,1,1,2.7386127875258306,0\" stroke=\"rgb(241, 128, 78)\" stroke-width=\"2\" opacity=\"0.7\"/><path aria-label=\"S: 230; s: 10; profit_mean: 1217.7191\" role=\"graphics-symbol\" aria-roledescription=\"point\" transform=\"translate(131.42857142857142,160)\" d=\"M2.7386127875258306,0A2.7386127875258306,2.7386127875258306,0,1,1,-2.7386127875258306,0A2.7386127875258306,2.7386127875258306,0,1,1,2.7386127875258306,0\" stroke=\"rgb(251, 158, 59)\" stroke-width=\"2\" opacity=\"0.7\"/><path aria-label=\"S: 240; s: 10; profit_mean: 1253.3675\" role=\"graphics-symbol\" aria-roledescription=\"point\" transform=\"translate(137.14285714285714,160)\" d=\"M2.7386127875258306,0A2.7386127875258306,2.7386127875258306,0,1,1,-2.7386127875258306,0A2.7386127875258306,2.7386127875258306,0,1,1,2.7386127875258306,0\" stroke=\"rgb(254, 191, 41)\" stroke-width=\"2\" opacity=\"0.7\"/><path aria-label=\"S: 250; s: 10; profit_mean: 1306.9866\" role=\"graphics-symbol\" aria-roledescription=\"point\" transform=\"translate(142.85714285714286,160)\" d=\"M2.7386127875258306,0A2.7386127875258306,2.7386127875258306,0,1,1,-2.7386127875258306,0A2.7386127875258306,2.7386127875258306,0,1,1,2.7386127875258306,0\" stroke=\"rgb(241, 247, 34)\" stroke-width=\"2\" opacity=\"0.7\"/><path aria-label=\"S: 260; s: 10; profit_mean: 1307.8206\" role=\"graphics-symbol\" aria-roledescription=\"point\" transform=\"translate(148.57142857142858,160)\" d=\"M2.7386127875258306,0A2.7386127875258306,2.7386127875258306,0,1,1,-2.7386127875258306,0A2.7386127875258306,2.7386127875258306,0,1,1,2.7386127875258306,0\" stroke=\"rgb(240, 248, 33)\" stroke-width=\"2\" opacity=\"0.7\"/><path aria-label=\"S: 270; s: 10; profit_mean: 1286.4594\" role=\"graphics-symbol\" aria-roledescription=\"point\" transform=\"translate(154.2857142857143,160)\" d=\"M2.7386127875258306,0A2.7386127875258306,2.7386127875258306,0,1,1,-2.7386127875258306,0A2.7386127875258306,2.7386127875258306,0,1,1,2.7386127875258306,0\" stroke=\"rgb(248, 225, 37)\" stroke-width=\"2\" opacity=\"0.7\"/><path aria-label=\"S: 280; s: 10; profit_mean: 1250.5556\" role=\"graphics-symbol\" aria-roledescription=\"point\" transform=\"translate(160,160)\" d=\"M2.7386127875258306,0A2.7386127875258306,2.7386127875258306,0,1,1,-2.7386127875258306,0A2.7386127875258306,2.7386127875258306,0,1,1,2.7386127875258306,0\" stroke=\"rgb(254, 188, 43)\" stroke-width=\"2\" opacity=\"0.7\"/><path aria-label=\"S: 290; s: 10; profit_mean: 1220.7918\" role=\"graphics-symbol\" aria-roledescription=\"point\" transform=\"translate(165.71428571428572,160)\" d=\"M2.7386127875258306,0A2.7386127875258306,2.7386127875258306,0,1,1,-2.7386127875258306,0A2.7386127875258306,2.7386127875258306,0,1,1,2.7386127875258306,0\" stroke=\"rgb(251, 160, 57)\" stroke-width=\"2\" opacity=\"0.7\"/><path aria-label=\"S: 300; s: 10; profit_mean: 1174.6918\" role=\"graphics-symbol\" aria-roledescription=\"point\" transform=\"translate(171.42857142857142,160)\" d=\"M2.7386127875258306,0A2.7386127875258306,2.7386127875258306,0,1,1,-2.7386127875258306,0A2.7386127875258306,2.7386127875258306,0,1,1,2.7386127875258306,0\" stroke=\"rgb(238, 122, 82)\" stroke-width=\"2\" opacity=\"0.7\"/><path aria-label=\"S: 310; s: 10; profit_mean: 1137.8114\" role=\"graphics-symbol\" aria-roledescription=\"point\" transform=\"translate(177.14285714285714,160)\" d=\"M2.7386127875258306,0A2.7386127875258306,2.7386127875258306,0,1,1,-2.7386127875258306,0A2.7386127875258306,2.7386127875258306,0,1,1,2.7386127875258306,0\" stroke=\"rgb(221, 94, 102)\" stroke-width=\"2\" opacity=\"0.7\"/><path aria-label=\"S: 320; s: 10; profit_mean: 1093.2912\" role=\"graphics-symbol\" aria-roledescription=\"point\" transform=\"translate(182.85714285714286,160)\" d=\"M2.7386127875258306,0A2.7386127875258306,2.7386127875258306,0,1,1,-2.7386127875258306,0A2.7386127875258306,2.7386127875258306,0,1,1,2.7386127875258306,0\" stroke=\"rgb(196, 62, 127)\" stroke-width=\"2\" opacity=\"0.7\"/><path aria-label=\"S: 330; s: 10; profit_mean: 1069.8596\" role=\"graphics-symbol\" aria-roledescription=\"point\" transform=\"translate(188.57142857142856,160)\" d=\"M2.7386127875258306,0A2.7386127875258306,2.7386127875258306,0,1,1,-2.7386127875258306,0A2.7386127875258306,2.7386127875258306,0,1,1,2.7386127875258306,0\" stroke=\"rgb(181, 46, 141)\" stroke-width=\"2\" opacity=\"0.7\"/><path aria-label=\"S: 340; s: 10; profit_mean: 1030.8736\" role=\"graphics-symbol\" aria-roledescription=\"point\" transform=\"translate(194.28571428571428,160)\" d=\"M2.7386127875258306,0A2.7386127875258306,2.7386127875258306,0,1,1,-2.7386127875258306,0A2.7386127875258306,2.7386127875258306,0,1,1,2.7386127875258306,0\" stroke=\"rgb(151, 19, 161)\" stroke-width=\"2\" opacity=\"0.7\"/><path aria-label=\"S: 350; s: 10; profit_mean: 984.1202\" role=\"graphics-symbol\" aria-roledescription=\"point\" transform=\"translate(200,160)\" d=\"M2.7386127875258306,0A2.7386127875258306,2.7386127875258306,0,1,1,-2.7386127875258306,0A2.7386127875258306,2.7386127875258306,0,1,1,2.7386127875258306,0\" stroke=\"rgb(108, 0, 168)\" stroke-width=\"2\" opacity=\"0.7\"/><path aria-label=\"S: 100; s: 15; profit_mean: 1161.8948\" role=\"graphics-symbol\" aria-roledescription=\"point\" transform=\"translate(57.14285714285714,140)\" d=\"M2.7386127875258306,0A2.7386127875258306,2.7386127875258306,0,1,1,-2.7386127875258306,0A2.7386127875258306,2.7386127875258306,0,1,1,2.7386127875258306,0\" stroke=\"rgb(232, 112, 89)\" stroke-width=\"2\" opacity=\"0.7\"/><path aria-label=\"S: 110; s: 15; profit_mean: 1191.3926\" role=\"graphics-symbol\" aria-roledescription=\"point\" transform=\"translate(62.857142857142854,140)\" d=\"M2.7386127875258306,0A2.7386127875258306,2.7386127875258306,0,1,1,-2.7386127875258306,0A2.7386127875258306,2.7386127875258306,0,1,1,2.7386127875258306,0\" stroke=\"rgb(243, 135, 73)\" stroke-width=\"2\" opacity=\"0.7\"/><path aria-label=\"S: 120; s: 15; profit_mean: 1220.8081\" role=\"graphics-symbol\" aria-roledescription=\"point\" transform=\"translate(68.57142857142857,140)\" d=\"M2.7386127875258306,0A2.7386127875258306,2.7386127875258306,0,1,1,-2.7386127875258306,0A2.7386127875258306,2.7386127875258306,0,1,1,2.7386127875258306,0\" stroke=\"rgb(251, 160, 57)\" stroke-width=\"2\" opacity=\"0.7\"/><path aria-label=\"S: 130; s: 15; profit_mean: 1253.3125\" role=\"graphics-symbol\" aria-roledescription=\"point\" transform=\"translate(74.28571428571429,140)\" d=\"M2.7386127875258306,0A2.7386127875258306,2.7386127875258306,0,1,1,-2.7386127875258306,0A2.7386127875258306,2.7386127875258306,0,1,1,2.7386127875258306,0\" stroke=\"rgb(254, 191, 41)\" stroke-width=\"2\" opacity=\"0.7\"/><path aria-label=\"S: 140; s: 15; profit_mean: 1245.5914\" role=\"graphics-symbol\" aria-roledescription=\"point\" transform=\"translate(80,140)\" d=\"M2.7386127875258306,0A2.7386127875258306,2.7386127875258306,0,1,1,-2.7386127875258306,0A2.7386127875258306,2.7386127875258306,0,1,1,2.7386127875258306,0\" stroke=\"rgb(253, 184, 45)\" stroke-width=\"2\" opacity=\"0.7\"/><path aria-label=\"S: 150; s: 15; profit_mean: 1237.5475\" role=\"graphics-symbol\" aria-roledescription=\"point\" transform=\"translate(85.71428571428571,140)\" d=\"M2.7386127875258306,0A2.7386127875258306,2.7386127875258306,0,1,1,-2.7386127875258306,0A2.7386127875258306,2.7386127875258306,0,1,1,2.7386127875258306,0\" stroke=\"rgb(253, 176, 49)\" stroke-width=\"2\" opacity=\"0.7\"/><path aria-label=\"S: 160; s: 15; profit_mean: 1259.4145\" role=\"graphics-symbol\" aria-roledescription=\"point\" transform=\"translate(91.42857142857143,140)\" d=\"M2.7386127875258306,0A2.7386127875258306,2.7386127875258306,0,1,1,-2.7386127875258306,0A2.7386127875258306,2.7386127875258306,0,1,1,2.7386127875258306,0\" stroke=\"rgb(253, 197, 40)\" stroke-width=\"2\" opacity=\"0.7\"/><path aria-label=\"S: 170; s: 15; profit_mean: 1305.4485\" role=\"graphics-symbol\" aria-roledescription=\"point\" transform=\"translate(97.14285714285714,140)\" d=\"M2.7386127875258306,0A2.7386127875258306,2.7386127875258306,0,1,1,-2.7386127875258306,0A2.7386127875258306,2.7386127875258306,0,1,1,2.7386127875258306,0\" stroke=\"rgb(241, 245, 34)\" stroke-width=\"2\" opacity=\"0.7\"/><path aria-label=\"S: 180; s: 15; profit_mean: 1305.657\" role=\"graphics-symbol\" aria-roledescription=\"point\" transform=\"translate(102.85714285714285,140)\" d=\"M2.7386127875258306,0A2.7386127875258306,2.7386127875258306,0,1,1,-2.7386127875258306,0A2.7386127875258306,2.7386127875258306,0,1,1,2.7386127875258306,0\" stroke=\"rgb(241, 246, 34)\" stroke-width=\"2\" opacity=\"0.7\"/><path aria-label=\"S: 190; s: 15; profit_mean: 1267.6961\" role=\"graphics-symbol\" aria-roledescription=\"point\" transform=\"translate(108.57142857142857,140)\" d=\"M2.7386127875258306,0A2.7386127875258306,2.7386127875258306,0,1,1,-2.7386127875258306,0A2.7386127875258306,2.7386127875258306,0,1,1,2.7386127875258306,0\" stroke=\"rgb(252, 206, 37)\" stroke-width=\"2\" opacity=\"0.7\"/><path aria-label=\"S: 200; s: 15; profit_mean: 1227.8697\" role=\"graphics-symbol\" aria-roledescription=\"point\" transform=\"translate(114.28571428571428,140)\" d=\"M2.7386127875258306,0A2.7386127875258306,2.7386127875258306,0,1,1,-2.7386127875258306,0A2.7386127875258306,2.7386127875258306,0,1,1,2.7386127875258306,0\" stroke=\"rgb(252, 167, 54)\" stroke-width=\"2\" opacity=\"0.7\"/><path aria-label=\"S: 210; s: 15; profit_mean: 1197.6107\" role=\"graphics-symbol\" aria-roledescription=\"point\" transform=\"translate(120,140)\" d=\"M2.7386127875258306,0A2.7386127875258306,2.7386127875258306,0,1,1,-2.7386127875258306,0A2.7386127875258306,2.7386127875258306,0,1,1,2.7386127875258306,0\" stroke=\"rgb(245, 141, 69)\" stroke-width=\"2\" opacity=\"0.7\"/><path aria-label=\"S: 220; s: 15; profit_mean: 1177.707\" role=\"graphics-symbol\" aria-roledescription=\"point\" transform=\"translate(125.71428571428571,140)\" d=\"M2.7386127875258306,0A2.7386127875258306,2.7386127875258306,0,1,1,-2.7386127875258306,0A2.7386127875258306,2.7386127875258306,0,1,1,2.7386127875258306,0\" stroke=\"rgb(239, 125, 81)\" stroke-width=\"2\" opacity=\"0.7\"/><path aria-label=\"S: 230; s: 15; profit_mean: 1189.2739\" role=\"graphics-symbol\" aria-roledescription=\"point\" transform=\"translate(131.42857142857142,140)\" d=\"M2.7386127875258306,0A2.7386127875258306,2.7386127875258306,0,1,1,-2.7386127875258306,0A2.7386127875258306,2.7386127875258306,0,1,1,2.7386127875258306,0\" stroke=\"rgb(243, 133, 74)\" stroke-width=\"2\" opacity=\"0.7\"/><path aria-label=\"S: 240; s: 15; profit_mean: 1225.8602\" role=\"graphics-symbol\" aria-roledescription=\"point\" transform=\"translate(137.14285714285714,140)\" d=\"M2.7386127875258306,0A2.7386127875258306,2.7386127875258306,0,1,1,-2.7386127875258306,0A2.7386127875258306,2.7386127875258306,0,1,1,2.7386127875258306,0\" stroke=\"rgb(252, 165, 55)\" stroke-width=\"2\" opacity=\"0.7\"/><path aria-label=\"S: 250; s: 15; profit_mean: 1274.5508\" role=\"graphics-symbol\" aria-roledescription=\"point\" transform=\"translate(142.85714285714286,140)\" d=\"M2.7386127875258306,0A2.7386127875258306,2.7386127875258306,0,1,1,-2.7386127875258306,0A2.7386127875258306,2.7386127875258306,0,1,1,2.7386127875258306,0\" stroke=\"rgb(251, 213, 37)\" stroke-width=\"2\" opacity=\"0.7\"/><path aria-label=\"S: 260; s: 15; profit_mean: 1301.735\" role=\"graphics-symbol\" aria-roledescription=\"point\" transform=\"translate(148.57142857142858,140)\" d=\"M2.7386127875258306,0A2.7386127875258306,2.7386127875258306,0,1,1,-2.7386127875258306,0A2.7386127875258306,2.7386127875258306,0,1,1,2.7386127875258306,0\" stroke=\"rgb(243, 241, 36)\" stroke-width=\"2\" opacity=\"0.7\"/><path aria-label=\"S: 270; s: 15; profit_mean: 1305.8228\" role=\"graphics-symbol\" aria-roledescription=\"point\" transform=\"translate(154.2857142857143,140)\" d=\"M2.7386127875258306,0A2.7386127875258306,2.7386127875258306,0,1,1,-2.7386127875258306,0A2.7386127875258306,2.7386127875258306,0,1,1,2.7386127875258306,0\" stroke=\"rgb(241, 246, 34)\" stroke-width=\"2\" opacity=\"0.7\"/><path aria-label=\"S: 280; s: 15; profit_mean: 1269.2469\" role=\"graphics-symbol\" aria-roledescription=\"point\" transform=\"translate(160,140)\" d=\"M2.7386127875258306,0A2.7386127875258306,2.7386127875258306,0,1,1,-2.7386127875258306,0A2.7386127875258306,2.7386127875258306,0,1,1,2.7386127875258306,0\" stroke=\"rgb(252, 207, 37)\" stroke-width=\"2\" opacity=\"0.7\"/><path aria-label=\"S: 290; s: 15; profit_mean: 1235.7539\" role=\"graphics-symbol\" aria-roledescription=\"point\" transform=\"translate(165.71428571428572,140)\" d=\"M2.7386127875258306,0A2.7386127875258306,2.7386127875258306,0,1,1,-2.7386127875258306,0A2.7386127875258306,2.7386127875258306,0,1,1,2.7386127875258306,0\" stroke=\"rgb(253, 174, 50)\" stroke-width=\"2\" opacity=\"0.7\"/><path aria-label=\"S: 300; s: 15; profit_mean: 1192.0914\" role=\"graphics-symbol\" aria-roledescription=\"point\" transform=\"translate(171.42857142857142,140)\" d=\"M2.7386127875258306,0A2.7386127875258306,2.7386127875258306,0,1,1,-2.7386127875258306,0A2.7386127875258306,2.7386127875258306,0,1,1,2.7386127875258306,0\" stroke=\"rgb(244, 136, 73)\" stroke-width=\"2\" opacity=\"0.7\"/><path aria-label=\"S: 310; s: 15; profit_mean: 1154.4955\" role=\"graphics-symbol\" aria-roledescription=\"point\" transform=\"translate(177.14285714285714,140)\" d=\"M2.7386127875258306,0A2.7386127875258306,2.7386127875258306,0,1,1,-2.7386127875258306,0A2.7386127875258306,2.7386127875258306,0,1,1,2.7386127875258306,0\" stroke=\"rgb(229, 106, 93)\" stroke-width=\"2\" opacity=\"0.7\"/><path aria-label=\"S: 320; s: 15; profit_mean: 1124.2579\" role=\"graphics-symbol\" aria-roledescription=\"point\" transform=\"translate(182.85714285714286,140)\" d=\"M2.7386127875258306,0A2.7386127875258306,2.7386127875258306,0,1,1,-2.7386127875258306,0A2.7386127875258306,2.7386127875258306,0,1,1,2.7386127875258306,0\" stroke=\"rgb(214, 85, 110)\" stroke-width=\"2\" opacity=\"0.7\"/><path aria-label=\"S: 330; s: 15; profit_mean: 1083.9724\" role=\"graphics-symbol\" aria-roledescription=\"point\" transform=\"translate(188.57142857142856,140)\" d=\"M2.7386127875258306,0A2.7386127875258306,2.7386127875258306,0,1,1,-2.7386127875258306,0A2.7386127875258306,2.7386127875258306,0,1,1,2.7386127875258306,0\" stroke=\"rgb(190, 56, 132)\" stroke-width=\"2\" opacity=\"0.7\"/><path aria-label=\"S: 340; s: 15; profit_mean: 1044.0282\" role=\"graphics-symbol\" aria-roledescription=\"point\" transform=\"translate(194.28571428571428,140)\" d=\"M2.7386127875258306,0A2.7386127875258306,2.7386127875258306,0,1,1,-2.7386127875258306,0A2.7386127875258306,2.7386127875258306,0,1,1,2.7386127875258306,0\" stroke=\"rgb(162, 28, 155)\" stroke-width=\"2\" opacity=\"0.7\"/><path aria-label=\"S: 350; s: 15; profit_mean: 1009.1302\" role=\"graphics-symbol\" aria-roledescription=\"point\" transform=\"translate(200,140)\" d=\"M2.7386127875258306,0A2.7386127875258306,2.7386127875258306,0,1,1,-2.7386127875258306,0A2.7386127875258306,2.7386127875258306,0,1,1,2.7386127875258306,0\" stroke=\"rgb(131, 5, 167)\" stroke-width=\"2\" opacity=\"0.7\"/><path aria-label=\"S: 100; s: 20; profit_mean: 1147.1941\" role=\"graphics-symbol\" aria-roledescription=\"point\" transform=\"translate(57.14285714285714,120)\" d=\"M2.7386127875258306,0A2.7386127875258306,2.7386127875258306,0,1,1,-2.7386127875258306,0A2.7386127875258306,2.7386127875258306,0,1,1,2.7386127875258306,0\" stroke=\"rgb(226, 101, 97)\" stroke-width=\"2\" opacity=\"0.7\"/><path aria-label=\"S: 110; s: 20; profit_mean: 1194.7183\" role=\"graphics-symbol\" aria-roledescription=\"point\" transform=\"translate(62.857142857142854,120)\" d=\"M2.7386127875258306,0A2.7386127875258306,2.7386127875258306,0,1,1,-2.7386127875258306,0A2.7386127875258306,2.7386127875258306,0,1,1,2.7386127875258306,0\" stroke=\"rgb(244, 138, 71)\" stroke-width=\"2\" opacity=\"0.7\"/><path aria-label=\"S: 120; s: 20; profit_mean: 1205.3445\" role=\"graphics-symbol\" aria-roledescription=\"point\" transform=\"translate(68.57142857142857,120)\" d=\"M2.7386127875258306,0A2.7386127875258306,2.7386127875258306,0,1,1,-2.7386127875258306,0A2.7386127875258306,2.7386127875258306,0,1,1,2.7386127875258306,0\" stroke=\"rgb(248, 147, 65)\" stroke-width=\"2\" opacity=\"0.7\"/><path aria-label=\"S: 130; s: 20; profit_mean: 1237.1717\" role=\"graphics-symbol\" aria-roledescription=\"point\" transform=\"translate(74.28571428571429,120)\" d=\"M2.7386127875258306,0A2.7386127875258306,2.7386127875258306,0,1,1,-2.7386127875258306,0A2.7386127875258306,2.7386127875258306,0,1,1,2.7386127875258306,0\" stroke=\"rgb(253, 175, 49)\" stroke-width=\"2\" opacity=\"0.7\"/><path aria-label=\"S: 140; s: 20; profit_mean: 1257.9719\" role=\"graphics-symbol\" aria-roledescription=\"point\" transform=\"translate(80,120)\" d=\"M2.7386127875258306,0A2.7386127875258306,2.7386127875258306,0,1,1,-2.7386127875258306,0A2.7386127875258306,2.7386127875258306,0,1,1,2.7386127875258306,0\" stroke=\"rgb(253, 196, 40)\" stroke-width=\"2\" opacity=\"0.7\"/><path aria-label=\"S: 150; s: 20; profit_mean: 1234.4948\" role=\"graphics-symbol\" aria-roledescription=\"point\" transform=\"translate(85.71428571428571,120)\" d=\"M2.7386127875258306,0A2.7386127875258306,2.7386127875258306,0,1,1,-2.7386127875258306,0A2.7386127875258306,2.7386127875258306,0,1,1,2.7386127875258306,0\" stroke=\"rgb(253, 173, 50)\" stroke-width=\"2\" opacity=\"0.7\"/><path aria-label=\"S: 160; s: 20; profit_mean: 1236.3882\" role=\"graphics-symbol\" aria-roledescription=\"point\" transform=\"translate(91.42857142857143,120)\" d=\"M2.7386127875258306,0A2.7386127875258306,2.7386127875258306,0,1,1,-2.7386127875258306,0A2.7386127875258306,2.7386127875258306,0,1,1,2.7386127875258306,0\" stroke=\"rgb(253, 175, 49)\" stroke-width=\"2\" opacity=\"0.7\"/><path aria-label=\"S: 170; s: 20; profit_mean: 1273.3798\" role=\"graphics-symbol\" aria-roledescription=\"point\" transform=\"translate(97.14285714285714,120)\" d=\"M2.7386127875258306,0A2.7386127875258306,2.7386127875258306,0,1,1,-2.7386127875258306,0A2.7386127875258306,2.7386127875258306,0,1,1,2.7386127875258306,0\" stroke=\"rgb(251, 212, 37)\" stroke-width=\"2\" opacity=\"0.7\"/><path aria-label=\"S: 180; s: 20; profit_mean: 1308.7955\" role=\"graphics-symbol\" aria-roledescription=\"point\" transform=\"translate(102.85714285714285,120)\" d=\"M2.7386127875258306,0A2.7386127875258306,2.7386127875258306,0,1,1,-2.7386127875258306,0A2.7386127875258306,2.7386127875258306,0,1,1,2.7386127875258306,0\" stroke=\"rgb(240, 249, 33)\" stroke-width=\"2\" opacity=\"0.7\"/><path aria-label=\"S: 190; s: 20; profit_mean: 1289.8327\" role=\"graphics-symbol\" aria-roledescription=\"point\" transform=\"translate(108.57142857142857,120)\" d=\"M2.7386127875258306,0A2.7386127875258306,2.7386127875258306,0,1,1,-2.7386127875258306,0A2.7386127875258306,2.7386127875258306,0,1,1,2.7386127875258306,0\" stroke=\"rgb(247, 228, 38)\" stroke-width=\"2\" opacity=\"0.7\"/><path aria-label=\"S: 200; s: 20; profit_mean: 1247.7578\" role=\"graphics-symbol\" aria-roledescription=\"point\" transform=\"translate(114.28571428571428,120)\" d=\"M2.7386127875258306,0A2.7386127875258306,2.7386127875258306,0,1,1,-2.7386127875258306,0A2.7386127875258306,2.7386127875258306,0,1,1,2.7386127875258306,0\" stroke=\"rgb(254, 186, 44)\" stroke-width=\"2\" opacity=\"0.7\"/><path aria-label=\"S: 210; s: 20; profit_mean: 1211.2132\" role=\"graphics-symbol\" aria-roledescription=\"point\" transform=\"translate(120,120)\" d=\"M2.7386127875258306,0A2.7386127875258306,2.7386127875258306,0,1,1,-2.7386127875258306,0A2.7386127875258306,2.7386127875258306,0,1,1,2.7386127875258306,0\" stroke=\"rgb(249, 152, 62)\" stroke-width=\"2\" opacity=\"0.7\"/><path aria-label=\"S: 220; s: 20; profit_mean: 1184.7586\" role=\"graphics-symbol\" aria-roledescription=\"point\" transform=\"translate(125.71428571428571,120)\" d=\"M2.7386127875258306,0A2.7386127875258306,2.7386127875258306,0,1,1,-2.7386127875258306,0A2.7386127875258306,2.7386127875258306,0,1,1,2.7386127875258306,0\" stroke=\"rgb(241, 130, 77)\" stroke-width=\"2\" opacity=\"0.7\"/><path aria-label=\"S: 230; s: 20; profit_mean: 1176.4448\" role=\"graphics-symbol\" aria-roledescription=\"point\" transform=\"translate(131.42857142857142,120)\" d=\"M2.7386127875258306,0A2.7386127875258306,2.7386127875258306,0,1,1,-2.7386127875258306,0A2.7386127875258306,2.7386127875258306,0,1,1,2.7386127875258306,0\" stroke=\"rgb(238, 124, 81)\" stroke-width=\"2\" opacity=\"0.7\"/><path aria-label=\"S: 240; s: 20; profit_mean: 1195.0647\" role=\"graphics-symbol\" aria-roledescription=\"point\" transform=\"translate(137.14285714285714,120)\" d=\"M2.7386127875258306,0A2.7386127875258306,2.7386127875258306,0,1,1,-2.7386127875258306,0A2.7386127875258306,2.7386127875258306,0,1,1,2.7386127875258306,0\" stroke=\"rgb(245, 139, 71)\" stroke-width=\"2\" opacity=\"0.7\"/><path aria-label=\"S: 250; s: 20; profit_mean: 1231.1456\" role=\"graphics-symbol\" aria-roledescription=\"point\" transform=\"translate(142.85714285714286,120)\" d=\"M2.7386127875258306,0A2.7386127875258306,2.7386127875258306,0,1,1,-2.7386127875258306,0A2.7386127875258306,2.7386127875258306,0,1,1,2.7386127875258306,0\" stroke=\"rgb(252, 170, 52)\" stroke-width=\"2\" opacity=\"0.7\"/><path aria-label=\"S: 260; s: 20; profit_mean: 1275.1824\" role=\"graphics-symbol\" aria-roledescription=\"point\" transform=\"translate(148.57142857142858,120)\" d=\"M2.7386127875258306,0A2.7386127875258306,2.7386127875258306,0,1,1,-2.7386127875258306,0A2.7386127875258306,2.7386127875258306,0,1,1,2.7386127875258306,0\" stroke=\"rgb(250, 213, 36)\" stroke-width=\"2\" opacity=\"0.7\"/><path aria-label=\"S: 270; s: 20; profit_mean: 1300.4865\" role=\"graphics-symbol\" aria-roledescription=\"point\" transform=\"translate(154.2857142857143,120)\" d=\"M2.7386127875258306,0A2.7386127875258306,2.7386127875258306,0,1,1,-2.7386127875258306,0A2.7386127875258306,2.7386127875258306,0,1,1,2.7386127875258306,0\" stroke=\"rgb(243, 240, 37)\" stroke-width=\"2\" opacity=\"0.7\"/><path aria-label=\"S: 280; s: 20; profit_mean: 1276.2404\" role=\"graphics-symbol\" aria-roledescription=\"point\" transform=\"translate(160,120)\" d=\"M2.7386127875258306,0A2.7386127875258306,2.7386127875258306,0,1,1,-2.7386127875258306,0A2.7386127875258306,2.7386127875258306,0,1,1,2.7386127875258306,0\" stroke=\"rgb(250, 214, 36)\" stroke-width=\"2\" opacity=\"0.7\"/><path aria-label=\"S: 290; s: 20; profit_mean: 1244.5542\" role=\"graphics-symbol\" aria-roledescription=\"point\" transform=\"translate(165.71428571428572,120)\" d=\"M2.7386127875258306,0A2.7386127875258306,2.7386127875258306,0,1,1,-2.7386127875258306,0A2.7386127875258306,2.7386127875258306,0,1,1,2.7386127875258306,0\" stroke=\"rgb(253, 183, 45)\" stroke-width=\"2\" opacity=\"0.7\"/><path aria-label=\"S: 300; s: 20; profit_mean: 1217.9495\" role=\"graphics-symbol\" aria-roledescription=\"point\" transform=\"translate(171.42857142857142,120)\" d=\"M2.7386127875258306,0A2.7386127875258306,2.7386127875258306,0,1,1,-2.7386127875258306,0A2.7386127875258306,2.7386127875258306,0,1,1,2.7386127875258306,0\" stroke=\"rgb(251, 158, 59)\" stroke-width=\"2\" opacity=\"0.7\"/><path aria-label=\"S: 310; s: 20; profit_mean: 1171.2523\" role=\"graphics-symbol\" aria-roledescription=\"point\" transform=\"translate(177.14285714285714,120)\" d=\"M2.7386127875258306,0A2.7386127875258306,2.7386127875258306,0,1,1,-2.7386127875258306,0A2.7386127875258306,2.7386127875258306,0,1,1,2.7386127875258306,0\" stroke=\"rgb(236, 120, 84)\" stroke-width=\"2\" opacity=\"0.7\"/><path aria-label=\"S: 320; s: 20; profit_mean: 1133.0195\" role=\"graphics-symbol\" aria-roledescription=\"point\" transform=\"translate(182.85714285714286,120)\" d=\"M2.7386127875258306,0A2.7386127875258306,2.7386127875258306,0,1,1,-2.7386127875258306,0A2.7386127875258306,2.7386127875258306,0,1,1,2.7386127875258306,0\" stroke=\"rgb(218, 91, 105)\" stroke-width=\"2\" opacity=\"0.7\"/><path aria-label=\"S: 330; s: 20; profit_mean: 1095.7121\" role=\"graphics-symbol\" aria-roledescription=\"point\" transform=\"translate(188.57142857142856,120)\" d=\"M2.7386127875258306,0A2.7386127875258306,2.7386127875258306,0,1,1,-2.7386127875258306,0A2.7386127875258306,2.7386127875258306,0,1,1,2.7386127875258306,0\" stroke=\"rgb(198, 64, 126)\" stroke-width=\"2\" opacity=\"0.7\"/><path aria-label=\"S: 340; s: 20; profit_mean: 1058.6271\" role=\"graphics-symbol\" aria-roledescription=\"point\" transform=\"translate(194.28571428571428,120)\" d=\"M2.7386127875258306,0A2.7386127875258306,2.7386127875258306,0,1,1,-2.7386127875258306,0A2.7386127875258306,2.7386127875258306,0,1,1,2.7386127875258306,0\" stroke=\"rgb(173, 38, 147)\" stroke-width=\"2\" opacity=\"0.7\"/><path aria-label=\"S: 350; s: 20; profit_mean: 1028.3721\" role=\"graphics-symbol\" aria-roledescription=\"point\" transform=\"translate(200,120)\" d=\"M2.7386127875258306,0A2.7386127875258306,2.7386127875258306,0,1,1,-2.7386127875258306,0A2.7386127875258306,2.7386127875258306,0,1,1,2.7386127875258306,0\" stroke=\"rgb(148, 17, 162)\" stroke-width=\"2\" opacity=\"0.7\"/><path aria-label=\"S: 100; s: 25; profit_mean: 1131.5506\" role=\"graphics-symbol\" aria-roledescription=\"point\" transform=\"translate(57.14285714285714,100)\" d=\"M2.7386127875258306,0A2.7386127875258306,2.7386127875258306,0,1,1,-2.7386127875258306,0A2.7386127875258306,2.7386127875258306,0,1,1,2.7386127875258306,0\" stroke=\"rgb(218, 90, 105)\" stroke-width=\"2\" opacity=\"0.7\"/><path aria-label=\"S: 110; s: 25; profit_mean: 1173.5402\" role=\"graphics-symbol\" aria-roledescription=\"point\" transform=\"translate(62.857142857142854,100)\" d=\"M2.7386127875258306,0A2.7386127875258306,2.7386127875258306,0,1,1,-2.7386127875258306,0A2.7386127875258306,2.7386127875258306,0,1,1,2.7386127875258306,0\" stroke=\"rgb(237, 121, 83)\" stroke-width=\"2\" opacity=\"0.7\"/><path aria-label=\"S: 120; s: 25; profit_mean: 1194.452\" role=\"graphics-symbol\" aria-roledescription=\"point\" transform=\"translate(68.57142857142857,100)\" d=\"M2.7386127875258306,0A2.7386127875258306,2.7386127875258306,0,1,1,-2.7386127875258306,0A2.7386127875258306,2.7386127875258306,0,1,1,2.7386127875258306,0\" stroke=\"rgb(244, 138, 71)\" stroke-width=\"2\" opacity=\"0.7\"/><path aria-label=\"S: 130; s: 25; profit_mean: 1211.2061\" role=\"graphics-symbol\" aria-roledescription=\"point\" transform=\"translate(74.28571428571429,100)\" d=\"M2.7386127875258306,0A2.7386127875258306,2.7386127875258306,0,1,1,-2.7386127875258306,0A2.7386127875258306,2.7386127875258306,0,1,1,2.7386127875258306,0\" stroke=\"rgb(249, 152, 62)\" stroke-width=\"2\" opacity=\"0.7\"/><path aria-label=\"S: 140; s: 25; profit_mean: 1254.1981\" role=\"graphics-symbol\" aria-roledescription=\"point\" transform=\"translate(80,100)\" d=\"M2.7386127875258306,0A2.7386127875258306,2.7386127875258306,0,1,1,-2.7386127875258306,0A2.7386127875258306,2.7386127875258306,0,1,1,2.7386127875258306,0\" stroke=\"rgb(254, 192, 41)\" stroke-width=\"2\" opacity=\"0.7\"/><path aria-label=\"S: 150; s: 25; profit_mean: 1246.9987\" role=\"graphics-symbol\" aria-roledescription=\"point\" transform=\"translate(85.71428571428571,100)\" d=\"M2.7386127875258306,0A2.7386127875258306,2.7386127875258306,0,1,1,-2.7386127875258306,0A2.7386127875258306,2.7386127875258306,0,1,1,2.7386127875258306,0\" stroke=\"rgb(253, 185, 44)\" stroke-width=\"2\" opacity=\"0.7\"/><path aria-label=\"S: 160; s: 25; profit_mean: 1229.3961\" role=\"graphics-symbol\" aria-roledescription=\"point\" transform=\"translate(91.42857142857143,100)\" d=\"M2.7386127875258306,0A2.7386127875258306,2.7386127875258306,0,1,1,-2.7386127875258306,0A2.7386127875258306,2.7386127875258306,0,1,1,2.7386127875258306,0\" stroke=\"rgb(252, 168, 53)\" stroke-width=\"2\" opacity=\"0.7\"/><path aria-label=\"S: 170; s: 25; profit_mean: 1242.3199\" role=\"graphics-symbol\" aria-roledescription=\"point\" transform=\"translate(97.14285714285714,100)\" d=\"M2.7386127875258306,0A2.7386127875258306,2.7386127875258306,0,1,1,-2.7386127875258306,0A2.7386127875258306,2.7386127875258306,0,1,1,2.7386127875258306,0\" stroke=\"rgb(253, 180, 46)\" stroke-width=\"2\" opacity=\"0.7\"/><path aria-label=\"S: 180; s: 25; profit_mean: 1279.2454\" role=\"graphics-symbol\" aria-roledescription=\"point\" transform=\"translate(102.85714285714285,100)\" d=\"M2.7386127875258306,0A2.7386127875258306,2.7386127875258306,0,1,1,-2.7386127875258306,0A2.7386127875258306,2.7386127875258306,0,1,1,2.7386127875258306,0\" stroke=\"rgb(250, 218, 36)\" stroke-width=\"2\" opacity=\"0.7\"/><path aria-label=\"S: 190; s: 25; profit_mean: 1298.2658\" role=\"graphics-symbol\" aria-roledescription=\"point\" transform=\"translate(108.57142857142857,100)\" d=\"M2.7386127875258306,0A2.7386127875258306,2.7386127875258306,0,1,1,-2.7386127875258306,0A2.7386127875258306,2.7386127875258306,0,1,1,2.7386127875258306,0\" stroke=\"rgb(244, 237, 38)\" stroke-width=\"2\" opacity=\"0.7\"/><path aria-label=\"S: 200; s: 25; profit_mean: 1270.9656\" role=\"graphics-symbol\" aria-roledescription=\"point\" transform=\"translate(114.28571428571428,100)\" d=\"M2.7386127875258306,0A2.7386127875258306,2.7386127875258306,0,1,1,-2.7386127875258306,0A2.7386127875258306,2.7386127875258306,0,1,1,2.7386127875258306,0\" stroke=\"rgb(251, 209, 37)\" stroke-width=\"2\" opacity=\"0.7\"/><path aria-label=\"S: 210; s: 25; profit_mean: 1234.9552\" role=\"graphics-symbol\" aria-roledescription=\"point\" transform=\"translate(120,100)\" d=\"M2.7386127875258306,0A2.7386127875258306,2.7386127875258306,0,1,1,-2.7386127875258306,0A2.7386127875258306,2.7386127875258306,0,1,1,2.7386127875258306,0\" stroke=\"rgb(253, 173, 50)\" stroke-width=\"2\" opacity=\"0.7\"/><path aria-label=\"S: 220; s: 25; profit_mean: 1187.5917\" role=\"graphics-symbol\" aria-roledescription=\"point\" transform=\"translate(125.71428571428571,100)\" d=\"M2.7386127875258306,0A2.7386127875258306,2.7386127875258306,0,1,1,-2.7386127875258306,0A2.7386127875258306,2.7386127875258306,0,1,1,2.7386127875258306,0\" stroke=\"rgb(242, 132, 75)\" stroke-width=\"2\" opacity=\"0.7\"/><path aria-label=\"S: 230; s: 25; profit_mean: 1163.8124\" role=\"graphics-symbol\" aria-roledescription=\"point\" transform=\"translate(131.42857142857142,100)\" d=\"M2.7386127875258306,0A2.7386127875258306,2.7386127875258306,0,1,1,-2.7386127875258306,0A2.7386127875258306,2.7386127875258306,0,1,1,2.7386127875258306,0\" stroke=\"rgb(233, 114, 88)\" stroke-width=\"2\" opacity=\"0.7\"/><path aria-label=\"S: 240; s: 25; profit_mean: 1164.4014\" role=\"graphics-symbol\" aria-roledescription=\"point\" transform=\"translate(137.14285714285714,100)\" d=\"M2.7386127875258306,0A2.7386127875258306,2.7386127875258306,0,1,1,-2.7386127875258306,0A2.7386127875258306,2.7386127875258306,0,1,1,2.7386127875258306,0\" stroke=\"rgb(233, 114, 88)\" stroke-width=\"2\" opacity=\"0.7\"/><path aria-label=\"S: 250; s: 25; profit_mean: 1179.8042\" role=\"graphics-symbol\" aria-roledescription=\"point\" transform=\"translate(142.85714285714286,100)\" d=\"M2.7386127875258306,0A2.7386127875258306,2.7386127875258306,0,1,1,-2.7386127875258306,0A2.7386127875258306,2.7386127875258306,0,1,1,2.7386127875258306,0\" stroke=\"rgb(240, 126, 79)\" stroke-width=\"2\" opacity=\"0.7\"/><path aria-label=\"S: 260; s: 25; profit_mean: 1226.7263\" role=\"graphics-symbol\" aria-roledescription=\"point\" transform=\"translate(148.57142857142858,100)\" d=\"M2.7386127875258306,0A2.7386127875258306,2.7386127875258306,0,1,1,-2.7386127875258306,0A2.7386127875258306,2.7386127875258306,0,1,1,2.7386127875258306,0\" stroke=\"rgb(252, 166, 54)\" stroke-width=\"2\" opacity=\"0.7\"/><path aria-label=\"S: 270; s: 25; profit_mean: 1268.3445\" role=\"graphics-symbol\" aria-roledescription=\"point\" transform=\"translate(154.2857142857143,100)\" d=\"M2.7386127875258306,0A2.7386127875258306,2.7386127875258306,0,1,1,-2.7386127875258306,0A2.7386127875258306,2.7386127875258306,0,1,1,2.7386127875258306,0\" stroke=\"rgb(252, 206, 37)\" stroke-width=\"2\" opacity=\"0.7\"/><path aria-label=\"S: 280; s: 25; profit_mean: 1283.186\" role=\"graphics-symbol\" aria-roledescription=\"point\" transform=\"translate(160,100)\" d=\"M2.7386127875258306,0A2.7386127875258306,2.7386127875258306,0,1,1,-2.7386127875258306,0A2.7386127875258306,2.7386127875258306,0,1,1,2.7386127875258306,0\" stroke=\"rgb(249, 222, 36)\" stroke-width=\"2\" opacity=\"0.7\"/><path aria-label=\"S: 290; s: 25; profit_mean: 1258.1581\" role=\"graphics-symbol\" aria-roledescription=\"point\" transform=\"translate(165.71428571428572,100)\" d=\"M2.7386127875258306,0A2.7386127875258306,2.7386127875258306,0,1,1,-2.7386127875258306,0A2.7386127875258306,2.7386127875258306,0,1,1,2.7386127875258306,0\" stroke=\"rgb(253, 196, 40)\" stroke-width=\"2\" opacity=\"0.7\"/><path aria-label=\"S: 300; s: 25; profit_mean: 1232.1326\" role=\"graphics-symbol\" aria-roledescription=\"point\" transform=\"translate(171.42857142857142,100)\" d=\"M2.7386127875258306,0A2.7386127875258306,2.7386127875258306,0,1,1,-2.7386127875258306,0A2.7386127875258306,2.7386127875258306,0,1,1,2.7386127875258306,0\" stroke=\"rgb(252, 171, 51)\" stroke-width=\"2\" opacity=\"0.7\"/><path aria-label=\"S: 310; s: 25; profit_mean: 1186.056\" role=\"graphics-symbol\" aria-roledescription=\"point\" transform=\"translate(177.14285714285714,100)\" d=\"M2.7386127875258306,0A2.7386127875258306,2.7386127875258306,0,1,1,-2.7386127875258306,0A2.7386127875258306,2.7386127875258306,0,1,1,2.7386127875258306,0\" stroke=\"rgb(242, 131, 76)\" stroke-width=\"2\" opacity=\"0.7\"/><path aria-label=\"S: 320; s: 25; profit_mean: 1144.8725\" role=\"graphics-symbol\" aria-roledescription=\"point\" transform=\"translate(182.85714285714286,100)\" d=\"M2.7386127875258306,0A2.7386127875258306,2.7386127875258306,0,1,1,-2.7386127875258306,0A2.7386127875258306,2.7386127875258306,0,1,1,2.7386127875258306,0\" stroke=\"rgb(225, 99, 98)\" stroke-width=\"2\" opacity=\"0.7\"/><path aria-label=\"S: 330; s: 25; profit_mean: 1109.8702\" role=\"graphics-symbol\" aria-roledescription=\"point\" transform=\"translate(188.57142857142856,100)\" d=\"M2.7386127875258306,0A2.7386127875258306,2.7386127875258306,0,1,1,-2.7386127875258306,0A2.7386127875258306,2.7386127875258306,0,1,1,2.7386127875258306,0\" stroke=\"rgb(206, 75, 118)\" stroke-width=\"2\" opacity=\"0.7\"/><path aria-label=\"S: 340; s: 25; profit_mean: 1068.206\" role=\"graphics-symbol\" aria-roledescription=\"point\" transform=\"translate(194.28571428571428,100)\" d=\"M2.7386127875258306,0A2.7386127875258306,2.7386127875258306,0,1,1,-2.7386127875258306,0A2.7386127875258306,2.7386127875258306,0,1,1,2.7386127875258306,0\" stroke=\"rgb(180, 45, 142)\" stroke-width=\"2\" opacity=\"0.7\"/><path aria-label=\"S: 350; s: 25; profit_mean: 1031.7739\" role=\"graphics-symbol\" aria-roledescription=\"point\" transform=\"translate(200,100)\" d=\"M2.7386127875258306,0A2.7386127875258306,2.7386127875258306,0,1,1,-2.7386127875258306,0A2.7386127875258306,2.7386127875258306,0,1,1,2.7386127875258306,0\" stroke=\"rgb(151, 19, 160)\" stroke-width=\"2\" opacity=\"0.7\"/><path aria-label=\"S: 100; s: 30; profit_mean: 1098.768\" role=\"graphics-symbol\" aria-roledescription=\"point\" transform=\"translate(57.14285714285714,80)\" d=\"M2.7386127875258306,0A2.7386127875258306,2.7386127875258306,0,1,1,-2.7386127875258306,0A2.7386127875258306,2.7386127875258306,0,1,1,2.7386127875258306,0\" stroke=\"rgb(199, 66, 124)\" stroke-width=\"2\" opacity=\"0.7\"/><path aria-label=\"S: 110; s: 30; profit_mean: 1146.1675\" role=\"graphics-symbol\" aria-roledescription=\"point\" transform=\"translate(62.857142857142854,80)\" d=\"M2.7386127875258306,0A2.7386127875258306,2.7386127875258306,0,1,1,-2.7386127875258306,0A2.7386127875258306,2.7386127875258306,0,1,1,2.7386127875258306,0\" stroke=\"rgb(225, 100, 98)\" stroke-width=\"2\" opacity=\"0.7\"/><path aria-label=\"S: 120; s: 30; profit_mean: 1186.2892\" role=\"graphics-symbol\" aria-roledescription=\"point\" transform=\"translate(68.57142857142857,80)\" d=\"M2.7386127875258306,0A2.7386127875258306,2.7386127875258306,0,1,1,-2.7386127875258306,0A2.7386127875258306,2.7386127875258306,0,1,1,2.7386127875258306,0\" stroke=\"rgb(242, 131, 76)\" stroke-width=\"2\" opacity=\"0.7\"/><path aria-label=\"S: 130; s: 30; profit_mean: 1191.3266\" role=\"graphics-symbol\" aria-roledescription=\"point\" transform=\"translate(74.28571428571429,80)\" d=\"M2.7386127875258306,0A2.7386127875258306,2.7386127875258306,0,1,1,-2.7386127875258306,0A2.7386127875258306,2.7386127875258306,0,1,1,2.7386127875258306,0\" stroke=\"rgb(243, 135, 73)\" stroke-width=\"2\" opacity=\"0.7\"/><path aria-label=\"S: 140; s: 30; profit_mean: 1228.0586\" role=\"graphics-symbol\" aria-roledescription=\"point\" transform=\"translate(80,80)\" d=\"M2.7386127875258306,0A2.7386127875258306,2.7386127875258306,0,1,1,-2.7386127875258306,0A2.7386127875258306,2.7386127875258306,0,1,1,2.7386127875258306,0\" stroke=\"rgb(252, 167, 54)\" stroke-width=\"2\" opacity=\"0.7\"/><path aria-label=\"S: 150; s: 30; profit_mean: 1249.745\" role=\"graphics-symbol\" aria-roledescription=\"point\" transform=\"translate(85.71428571428571,80)\" d=\"M2.7386127875258306,0A2.7386127875258306,2.7386127875258306,0,1,1,-2.7386127875258306,0A2.7386127875258306,2.7386127875258306,0,1,1,2.7386127875258306,0\" stroke=\"rgb(254, 188, 43)\" stroke-width=\"2\" opacity=\"0.7\"/><path aria-label=\"S: 160; s: 30; profit_mean: 1225.9841\" role=\"graphics-symbol\" aria-roledescription=\"point\" transform=\"translate(91.42857142857143,80)\" d=\"M2.7386127875258306,0A2.7386127875258306,2.7386127875258306,0,1,1,-2.7386127875258306,0A2.7386127875258306,2.7386127875258306,0,1,1,2.7386127875258306,0\" stroke=\"rgb(252, 165, 55)\" stroke-width=\"2\" opacity=\"0.7\"/><path aria-label=\"S: 170; s: 30; profit_mean: 1210.3669\" role=\"graphics-symbol\" aria-roledescription=\"point\" transform=\"translate(97.14285714285714,80)\" d=\"M2.7386127875258306,0A2.7386127875258306,2.7386127875258306,0,1,1,-2.7386127875258306,0A2.7386127875258306,2.7386127875258306,0,1,1,2.7386127875258306,0\" stroke=\"rgb(249, 151, 63)\" stroke-width=\"2\" opacity=\"0.7\"/><path aria-label=\"S: 180; s: 30; profit_mean: 1242.0268\" role=\"graphics-symbol\" aria-roledescription=\"point\" transform=\"translate(102.85714285714285,80)\" d=\"M2.7386127875258306,0A2.7386127875258306,2.7386127875258306,0,1,1,-2.7386127875258306,0A2.7386127875258306,2.7386127875258306,0,1,1,2.7386127875258306,0\" stroke=\"rgb(253, 180, 46)\" stroke-width=\"2\" opacity=\"0.7\"/><path aria-label=\"S: 190; s: 30; profit_mean: 1280.9768\" role=\"graphics-symbol\" aria-roledescription=\"point\" transform=\"translate(108.57142857142857,80)\" d=\"M2.7386127875258306,0A2.7386127875258306,2.7386127875258306,0,1,1,-2.7386127875258306,0A2.7386127875258306,2.7386127875258306,0,1,1,2.7386127875258306,0\" stroke=\"rgb(249, 219, 36)\" stroke-width=\"2\" opacity=\"0.7\"/><path aria-label=\"S: 200; s: 30; profit_mean: 1280.1109\" role=\"graphics-symbol\" aria-roledescription=\"point\" transform=\"translate(114.28571428571428,80)\" d=\"M2.7386127875258306,0A2.7386127875258306,2.7386127875258306,0,1,1,-2.7386127875258306,0A2.7386127875258306,2.7386127875258306,0,1,1,2.7386127875258306,0\" stroke=\"rgb(249, 218, 36)\" stroke-width=\"2\" opacity=\"0.7\"/><path aria-label=\"S: 210; s: 30; profit_mean: 1245.2436\" role=\"graphics-symbol\" aria-roledescription=\"point\" transform=\"translate(120,80)\" d=\"M2.7386127875258306,0A2.7386127875258306,2.7386127875258306,0,1,1,-2.7386127875258306,0A2.7386127875258306,2.7386127875258306,0,1,1,2.7386127875258306,0\" stroke=\"rgb(253, 183, 45)\" stroke-width=\"2\" opacity=\"0.7\"/><path aria-label=\"S: 220; s: 30; profit_mean: 1197.9665\" role=\"graphics-symbol\" aria-roledescription=\"point\" transform=\"translate(125.71428571428571,80)\" d=\"M2.7386127875258306,0A2.7386127875258306,2.7386127875258306,0,1,1,-2.7386127875258306,0A2.7386127875258306,2.7386127875258306,0,1,1,2.7386127875258306,0\" stroke=\"rgb(245, 141, 69)\" stroke-width=\"2\" opacity=\"0.7\"/><path aria-label=\"S: 230; s: 30; profit_mean: 1162.3126\" role=\"graphics-symbol\" aria-roledescription=\"point\" transform=\"translate(131.42857142857142,80)\" d=\"M2.7386127875258306,0A2.7386127875258306,2.7386127875258306,0,1,1,-2.7386127875258306,0A2.7386127875258306,2.7386127875258306,0,1,1,2.7386127875258306,0\" stroke=\"rgb(232, 112, 89)\" stroke-width=\"2\" opacity=\"0.7\"/><path aria-label=\"S: 240; s: 30; profit_mean: 1141.4991\" role=\"graphics-symbol\" aria-roledescription=\"point\" transform=\"translate(137.14285714285714,80)\" d=\"M2.7386127875258306,0A2.7386127875258306,2.7386127875258306,0,1,1,-2.7386127875258306,0A2.7386127875258306,2.7386127875258306,0,1,1,2.7386127875258306,0\" stroke=\"rgb(223, 97, 100)\" stroke-width=\"2\" opacity=\"0.7\"/><path aria-label=\"S: 250; s: 30; profit_mean: 1143.9334\" role=\"graphics-symbol\" aria-roledescription=\"point\" transform=\"translate(142.85714285714286,80)\" d=\"M2.7386127875258306,0A2.7386127875258306,2.7386127875258306,0,1,1,-2.7386127875258306,0A2.7386127875258306,2.7386127875258306,0,1,1,2.7386127875258306,0\" stroke=\"rgb(224, 99, 99)\" stroke-width=\"2\" opacity=\"0.7\"/><path aria-label=\"S: 260; s: 30; profit_mean: 1170.6026\" role=\"graphics-symbol\" aria-roledescription=\"point\" transform=\"translate(148.57142857142858,80)\" d=\"M2.7386127875258306,0A2.7386127875258306,2.7386127875258306,0,1,1,-2.7386127875258306,0A2.7386127875258306,2.7386127875258306,0,1,1,2.7386127875258306,0\" stroke=\"rgb(236, 119, 84)\" stroke-width=\"2\" opacity=\"0.7\"/><path aria-label=\"S: 270; s: 30; profit_mean: 1217.8612\" role=\"graphics-symbol\" aria-roledescription=\"point\" transform=\"translate(154.2857142857143,80)\" d=\"M2.7386127875258306,0A2.7386127875258306,2.7386127875258306,0,1,1,-2.7386127875258306,0A2.7386127875258306,2.7386127875258306,0,1,1,2.7386127875258306,0\" stroke=\"rgb(251, 158, 59)\" stroke-width=\"2\" opacity=\"0.7\"/><path aria-label=\"S: 280; s: 30; profit_mean: 1252.7332\" role=\"graphics-symbol\" aria-roledescription=\"point\" transform=\"translate(160,80)\" d=\"M2.7386127875258306,0A2.7386127875258306,2.7386127875258306,0,1,1,-2.7386127875258306,0A2.7386127875258306,2.7386127875258306,0,1,1,2.7386127875258306,0\" stroke=\"rgb(254, 190, 42)\" stroke-width=\"2\" opacity=\"0.7\"/><path aria-label=\"S: 290; s: 30; profit_mean: 1258.1284\" role=\"graphics-symbol\" aria-roledescription=\"point\" transform=\"translate(165.71428571428572,80)\" d=\"M2.7386127875258306,0A2.7386127875258306,2.7386127875258306,0,1,1,-2.7386127875258306,0A2.7386127875258306,2.7386127875258306,0,1,1,2.7386127875258306,0\" stroke=\"rgb(253, 196, 40)\" stroke-width=\"2\" opacity=\"0.7\"/><path aria-label=\"S: 300; s: 30; profit_mean: 1239.6995\" role=\"graphics-symbol\" aria-roledescription=\"point\" transform=\"translate(171.42857142857142,80)\" d=\"M2.7386127875258306,0A2.7386127875258306,2.7386127875258306,0,1,1,-2.7386127875258306,0A2.7386127875258306,2.7386127875258306,0,1,1,2.7386127875258306,0\" stroke=\"rgb(253, 178, 48)\" stroke-width=\"2\" opacity=\"0.7\"/><path aria-label=\"S: 310; s: 30; profit_mean: 1200.8057\" role=\"graphics-symbol\" aria-roledescription=\"point\" transform=\"translate(177.14285714285714,80)\" d=\"M2.7386127875258306,0A2.7386127875258306,2.7386127875258306,0,1,1,-2.7386127875258306,0A2.7386127875258306,2.7386127875258306,0,1,1,2.7386127875258306,0\" stroke=\"rgb(246, 144, 68)\" stroke-width=\"2\" opacity=\"0.7\"/><path aria-label=\"S: 320; s: 30; profit_mean: 1154.15\" role=\"graphics-symbol\" aria-roledescription=\"point\" transform=\"translate(182.85714285714286,80)\" d=\"M2.7386127875258306,0A2.7386127875258306,2.7386127875258306,0,1,1,-2.7386127875258306,0A2.7386127875258306,2.7386127875258306,0,1,1,2.7386127875258306,0\" stroke=\"rgb(229, 106, 94)\" stroke-width=\"2\" opacity=\"0.7\"/><path aria-label=\"S: 330; s: 30; profit_mean: 1121.1037\" role=\"graphics-symbol\" aria-roledescription=\"point\" transform=\"translate(188.57142857142856,80)\" d=\"M2.7386127875258306,0A2.7386127875258306,2.7386127875258306,0,1,1,-2.7386127875258306,0A2.7386127875258306,2.7386127875258306,0,1,1,2.7386127875258306,0\" stroke=\"rgb(212, 83, 111)\" stroke-width=\"2\" opacity=\"0.7\"/><path aria-label=\"S: 340; s: 30; profit_mean: 1087.1087\" role=\"graphics-symbol\" aria-roledescription=\"point\" transform=\"translate(194.28571428571428,80)\" d=\"M2.7386127875258306,0A2.7386127875258306,2.7386127875258306,0,1,1,-2.7386127875258306,0A2.7386127875258306,2.7386127875258306,0,1,1,2.7386127875258306,0\" stroke=\"rgb(192, 58, 130)\" stroke-width=\"2\" opacity=\"0.7\"/><path aria-label=\"S: 350; s: 30; profit_mean: 1043.6374\" role=\"graphics-symbol\" aria-roledescription=\"point\" transform=\"translate(200,80)\" d=\"M2.7386127875258306,0A2.7386127875258306,2.7386127875258306,0,1,1,-2.7386127875258306,0A2.7386127875258306,2.7386127875258306,0,1,1,2.7386127875258306,0\" stroke=\"rgb(161, 28, 155)\" stroke-width=\"2\" opacity=\"0.7\"/><path aria-label=\"S: 100; s: 35; profit_mean: 1064.4193\" role=\"graphics-symbol\" aria-roledescription=\"point\" transform=\"translate(57.14285714285714,60.00000000000001)\" d=\"M2.7386127875258306,0A2.7386127875258306,2.7386127875258306,0,1,1,-2.7386127875258306,0A2.7386127875258306,2.7386127875258306,0,1,1,2.7386127875258306,0\" stroke=\"rgb(177, 42, 144)\" stroke-width=\"2\" opacity=\"0.7\"/><path aria-label=\"S: 110; s: 35; profit_mean: 1113.2359\" role=\"graphics-symbol\" aria-roledescription=\"point\" transform=\"translate(62.857142857142854,60.00000000000001)\" d=\"M2.7386127875258306,0A2.7386127875258306,2.7386127875258306,0,1,1,-2.7386127875258306,0A2.7386127875258306,2.7386127875258306,0,1,1,2.7386127875258306,0\" stroke=\"rgb(208, 77, 116)\" stroke-width=\"2\" opacity=\"0.7\"/><path aria-label=\"S: 120; s: 35; profit_mean: 1151.6631\" role=\"graphics-symbol\" aria-roledescription=\"point\" transform=\"translate(68.57142857142857,60.00000000000001)\" d=\"M2.7386127875258306,0A2.7386127875258306,2.7386127875258306,0,1,1,-2.7386127875258306,0A2.7386127875258306,2.7386127875258306,0,1,1,2.7386127875258306,0\" stroke=\"rgb(228, 104, 95)\" stroke-width=\"2\" opacity=\"0.7\"/><path aria-label=\"S: 130; s: 35; profit_mean: 1186.5962\" role=\"graphics-symbol\" aria-roledescription=\"point\" transform=\"translate(74.28571428571429,60.00000000000001)\" d=\"M2.7386127875258306,0A2.7386127875258306,2.7386127875258306,0,1,1,-2.7386127875258306,0A2.7386127875258306,2.7386127875258306,0,1,1,2.7386127875258306,0\" stroke=\"rgb(242, 131, 76)\" stroke-width=\"2\" opacity=\"0.7\"/><path aria-label=\"S: 140; s: 35; profit_mean: 1193.4414\" role=\"graphics-symbol\" aria-roledescription=\"point\" transform=\"translate(80,60.00000000000001)\" d=\"M2.7386127875258306,0A2.7386127875258306,2.7386127875258306,0,1,1,-2.7386127875258306,0A2.7386127875258306,2.7386127875258306,0,1,1,2.7386127875258306,0\" stroke=\"rgb(244, 137, 72)\" stroke-width=\"2\" opacity=\"0.7\"/><path aria-label=\"S: 150; s: 35; profit_mean: 1222.4188\" role=\"graphics-symbol\" aria-roledescription=\"point\" transform=\"translate(85.71428571428571,60.00000000000001)\" d=\"M2.7386127875258306,0A2.7386127875258306,2.7386127875258306,0,1,1,-2.7386127875258306,0A2.7386127875258306,2.7386127875258306,0,1,1,2.7386127875258306,0\" stroke=\"rgb(251, 162, 56)\" stroke-width=\"2\" opacity=\"0.7\"/><path aria-label=\"S: 160; s: 35; profit_mean: 1225.6929\" role=\"graphics-symbol\" aria-roledescription=\"point\" transform=\"translate(91.42857142857143,60.00000000000001)\" d=\"M2.7386127875258306,0A2.7386127875258306,2.7386127875258306,0,1,1,-2.7386127875258306,0A2.7386127875258306,2.7386127875258306,0,1,1,2.7386127875258306,0\" stroke=\"rgb(252, 165, 55)\" stroke-width=\"2\" opacity=\"0.7\"/><path aria-label=\"S: 170; s: 35; profit_mean: 1209.6693\" role=\"graphics-symbol\" aria-roledescription=\"point\" transform=\"translate(97.14285714285714,60.00000000000001)\" d=\"M2.7386127875258306,0A2.7386127875258306,2.7386127875258306,0,1,1,-2.7386127875258306,0A2.7386127875258306,2.7386127875258306,0,1,1,2.7386127875258306,0\" stroke=\"rgb(249, 151, 63)\" stroke-width=\"2\" opacity=\"0.7\"/><path aria-label=\"S: 180; s: 35; profit_mean: 1207.38\" role=\"graphics-symbol\" aria-roledescription=\"point\" transform=\"translate(102.85714285714285,60.00000000000001)\" d=\"M2.7386127875258306,0A2.7386127875258306,2.7386127875258306,0,1,1,-2.7386127875258306,0A2.7386127875258306,2.7386127875258306,0,1,1,2.7386127875258306,0\" stroke=\"rgb(248, 149, 64)\" stroke-width=\"2\" opacity=\"0.7\"/><path aria-label=\"S: 190; s: 35; profit_mean: 1243.3835\" role=\"graphics-symbol\" aria-roledescription=\"point\" transform=\"translate(108.57142857142857,60.00000000000001)\" d=\"M2.7386127875258306,0A2.7386127875258306,2.7386127875258306,0,1,1,-2.7386127875258306,0A2.7386127875258306,2.7386127875258306,0,1,1,2.7386127875258306,0\" stroke=\"rgb(253, 181, 46)\" stroke-width=\"2\" opacity=\"0.7\"/><path aria-label=\"S: 200; s: 35; profit_mean: 1266.5751\" role=\"graphics-symbol\" aria-roledescription=\"point\" transform=\"translate(114.28571428571428,60.00000000000001)\" d=\"M2.7386127875258306,0A2.7386127875258306,2.7386127875258306,0,1,1,-2.7386127875258306,0A2.7386127875258306,2.7386127875258306,0,1,1,2.7386127875258306,0\" stroke=\"rgb(252, 205, 37)\" stroke-width=\"2\" opacity=\"0.7\"/><path aria-label=\"S: 210; s: 35; profit_mean: 1241.7917\" role=\"graphics-symbol\" aria-roledescription=\"point\" transform=\"translate(120,60.00000000000001)\" d=\"M2.7386127875258306,0A2.7386127875258306,2.7386127875258306,0,1,1,-2.7386127875258306,0A2.7386127875258306,2.7386127875258306,0,1,1,2.7386127875258306,0\" stroke=\"rgb(253, 180, 47)\" stroke-width=\"2\" opacity=\"0.7\"/><path aria-label=\"S: 220; s: 35; profit_mean: 1211.6935\" role=\"graphics-symbol\" aria-roledescription=\"point\" transform=\"translate(125.71428571428571,60.00000000000001)\" d=\"M2.7386127875258306,0A2.7386127875258306,2.7386127875258306,0,1,1,-2.7386127875258306,0A2.7386127875258306,2.7386127875258306,0,1,1,2.7386127875258306,0\" stroke=\"rgb(249, 152, 62)\" stroke-width=\"2\" opacity=\"0.7\"/><path aria-label=\"S: 230; s: 35; profit_mean: 1174.4196\" role=\"graphics-symbol\" aria-roledescription=\"point\" transform=\"translate(131.42857142857142,60.00000000000001)\" d=\"M2.7386127875258306,0A2.7386127875258306,2.7386127875258306,0,1,1,-2.7386127875258306,0A2.7386127875258306,2.7386127875258306,0,1,1,2.7386127875258306,0\" stroke=\"rgb(238, 122, 82)\" stroke-width=\"2\" opacity=\"0.7\"/><path aria-label=\"S: 240; s: 35; profit_mean: 1141.859\" role=\"graphics-symbol\" aria-roledescription=\"point\" transform=\"translate(137.14285714285714,60.00000000000001)\" d=\"M2.7386127875258306,0A2.7386127875258306,2.7386127875258306,0,1,1,-2.7386127875258306,0A2.7386127875258306,2.7386127875258306,0,1,1,2.7386127875258306,0\" stroke=\"rgb(223, 97, 100)\" stroke-width=\"2\" opacity=\"0.7\"/><path aria-label=\"S: 250; s: 35; profit_mean: 1123.8239\" role=\"graphics-symbol\" aria-roledescription=\"point\" transform=\"translate(142.85714285714286,60.00000000000001)\" d=\"M2.7386127875258306,0A2.7386127875258306,2.7386127875258306,0,1,1,-2.7386127875258306,0A2.7386127875258306,2.7386127875258306,0,1,1,2.7386127875258306,0\" stroke=\"rgb(214, 85, 110)\" stroke-width=\"2\" opacity=\"0.7\"/><path aria-label=\"S: 260; s: 35; profit_mean: 1133.1587\" role=\"graphics-symbol\" aria-roledescription=\"point\" transform=\"translate(148.57142857142858,60.00000000000001)\" d=\"M2.7386127875258306,0A2.7386127875258306,2.7386127875258306,0,1,1,-2.7386127875258306,0A2.7386127875258306,2.7386127875258306,0,1,1,2.7386127875258306,0\" stroke=\"rgb(219, 91, 104)\" stroke-width=\"2\" opacity=\"0.7\"/><path aria-label=\"S: 270; s: 35; profit_mean: 1162.6994\" role=\"graphics-symbol\" aria-roledescription=\"point\" transform=\"translate(154.2857142857143,60.00000000000001)\" d=\"M2.7386127875258306,0A2.7386127875258306,2.7386127875258306,0,1,1,-2.7386127875258306,0A2.7386127875258306,2.7386127875258306,0,1,1,2.7386127875258306,0\" stroke=\"rgb(233, 113, 89)\" stroke-width=\"2\" opacity=\"0.7\"/><path aria-label=\"S: 280; s: 35; profit_mean: 1210.8789\" role=\"graphics-symbol\" aria-roledescription=\"point\" transform=\"translate(160,60.00000000000001)\" d=\"M2.7386127875258306,0A2.7386127875258306,2.7386127875258306,0,1,1,-2.7386127875258306,0A2.7386127875258306,2.7386127875258306,0,1,1,2.7386127875258306,0\" stroke=\"rgb(249, 152, 62)\" stroke-width=\"2\" opacity=\"0.7\"/><path aria-label=\"S: 290; s: 35; profit_mean: 1237.1174\" role=\"graphics-symbol\" aria-roledescription=\"point\" transform=\"translate(165.71428571428572,60.00000000000001)\" d=\"M2.7386127875258306,0A2.7386127875258306,2.7386127875258306,0,1,1,-2.7386127875258306,0A2.7386127875258306,2.7386127875258306,0,1,1,2.7386127875258306,0\" stroke=\"rgb(253, 175, 49)\" stroke-width=\"2\" opacity=\"0.7\"/><path aria-label=\"S: 300; s: 35; profit_mean: 1230.8906\" role=\"graphics-symbol\" aria-roledescription=\"point\" transform=\"translate(171.42857142857142,60.00000000000001)\" d=\"M2.7386127875258306,0A2.7386127875258306,2.7386127875258306,0,1,1,-2.7386127875258306,0A2.7386127875258306,2.7386127875258306,0,1,1,2.7386127875258306,0\" stroke=\"rgb(252, 169, 52)\" stroke-width=\"2\" opacity=\"0.7\"/><path aria-label=\"S: 310; s: 35; profit_mean: 1207.9512\" role=\"graphics-symbol\" aria-roledescription=\"point\" transform=\"translate(177.14285714285714,60.00000000000001)\" d=\"M2.7386127875258306,0A2.7386127875258306,2.7386127875258306,0,1,1,-2.7386127875258306,0A2.7386127875258306,2.7386127875258306,0,1,1,2.7386127875258306,0\" stroke=\"rgb(248, 149, 64)\" stroke-width=\"2\" opacity=\"0.7\"/><path aria-label=\"S: 320; s: 35; profit_mean: 1166.9793\" role=\"graphics-symbol\" aria-roledescription=\"point\" transform=\"translate(182.85714285714286,60.00000000000001)\" d=\"M2.7386127875258306,0A2.7386127875258306,2.7386127875258306,0,1,1,-2.7386127875258306,0A2.7386127875258306,2.7386127875258306,0,1,1,2.7386127875258306,0\" stroke=\"rgb(234, 116, 86)\" stroke-width=\"2\" opacity=\"0.7\"/><path aria-label=\"S: 330; s: 35; profit_mean: 1125.2972\" role=\"graphics-symbol\" aria-roledescription=\"point\" transform=\"translate(188.57142857142856,60.00000000000001)\" d=\"M2.7386127875258306,0A2.7386127875258306,2.7386127875258306,0,1,1,-2.7386127875258306,0A2.7386127875258306,2.7386127875258306,0,1,1,2.7386127875258306,0\" stroke=\"rgb(214, 85, 109)\" stroke-width=\"2\" opacity=\"0.7\"/><path aria-label=\"S: 340; s: 35; profit_mean: 1090.5718\" role=\"graphics-symbol\" aria-roledescription=\"point\" transform=\"translate(194.28571428571428,60.00000000000001)\" d=\"M2.7386127875258306,0A2.7386127875258306,2.7386127875258306,0,1,1,-2.7386127875258306,0A2.7386127875258306,2.7386127875258306,0,1,1,2.7386127875258306,0\" stroke=\"rgb(194, 60, 128)\" stroke-width=\"2\" opacity=\"0.7\"/><path aria-label=\"S: 350; s: 35; profit_mean: 1041.8184\" role=\"graphics-symbol\" aria-roledescription=\"point\" transform=\"translate(200,60.00000000000001)\" d=\"M2.7386127875258306,0A2.7386127875258306,2.7386127875258306,0,1,1,-2.7386127875258306,0A2.7386127875258306,2.7386127875258306,0,1,1,2.7386127875258306,0\" stroke=\"rgb(160, 27, 156)\" stroke-width=\"2\" opacity=\"0.7\"/><path aria-label=\"S: 100; s: 40; profit_mean: 1011.5521\" role=\"graphics-symbol\" aria-roledescription=\"point\" transform=\"translate(57.14285714285714,39.99999999999999)\" d=\"M2.7386127875258306,0A2.7386127875258306,2.7386127875258306,0,1,1,-2.7386127875258306,0A2.7386127875258306,2.7386127875258306,0,1,1,2.7386127875258306,0\" stroke=\"rgb(134, 6, 167)\" stroke-width=\"2\" opacity=\"0.7\"/><path aria-label=\"S: 110; s: 40; profit_mean: 1074.2235\" role=\"graphics-symbol\" aria-roledescription=\"point\" transform=\"translate(62.857142857142854,39.99999999999999)\" d=\"M2.7386127875258306,0A2.7386127875258306,2.7386127875258306,0,1,1,-2.7386127875258306,0A2.7386127875258306,2.7386127875258306,0,1,1,2.7386127875258306,0\" stroke=\"rgb(184, 49, 138)\" stroke-width=\"2\" opacity=\"0.7\"/><path aria-label=\"S: 120; s: 40; profit_mean: 1112.064\" role=\"graphics-symbol\" aria-roledescription=\"point\" transform=\"translate(68.57142857142857,39.99999999999999)\" d=\"M2.7386127875258306,0A2.7386127875258306,2.7386127875258306,0,1,1,-2.7386127875258306,0A2.7386127875258306,2.7386127875258306,0,1,1,2.7386127875258306,0\" stroke=\"rgb(207, 76, 117)\" stroke-width=\"2\" opacity=\"0.7\"/><path aria-label=\"S: 130; s: 40; profit_mean: 1158.4193\" role=\"graphics-symbol\" aria-roledescription=\"point\" transform=\"translate(74.28571428571429,39.99999999999999)\" d=\"M2.7386127875258306,0A2.7386127875258306,2.7386127875258306,0,1,1,-2.7386127875258306,0A2.7386127875258306,2.7386127875258306,0,1,1,2.7386127875258306,0\" stroke=\"rgb(231, 109, 91)\" stroke-width=\"2\" opacity=\"0.7\"/><path aria-label=\"S: 140; s: 40; profit_mean: 1171.3737\" role=\"graphics-symbol\" aria-roledescription=\"point\" transform=\"translate(80,39.99999999999999)\" d=\"M2.7386127875258306,0A2.7386127875258306,2.7386127875258306,0,1,1,-2.7386127875258306,0A2.7386127875258306,2.7386127875258306,0,1,1,2.7386127875258306,0\" stroke=\"rgb(236, 120, 84)\" stroke-width=\"2\" opacity=\"0.7\"/><path aria-label=\"S: 150; s: 40; profit_mean: 1187.8304\" role=\"graphics-symbol\" aria-roledescription=\"point\" transform=\"translate(85.71428571428571,39.99999999999999)\" d=\"M2.7386127875258306,0A2.7386127875258306,2.7386127875258306,0,1,1,-2.7386127875258306,0A2.7386127875258306,2.7386127875258306,0,1,1,2.7386127875258306,0\" stroke=\"rgb(242, 132, 75)\" stroke-width=\"2\" opacity=\"0.7\"/><path aria-label=\"S: 160; s: 40; profit_mean: 1213.8402\" role=\"graphics-symbol\" aria-roledescription=\"point\" transform=\"translate(91.42857142857143,39.99999999999999)\" d=\"M2.7386127875258306,0A2.7386127875258306,2.7386127875258306,0,1,1,-2.7386127875258306,0A2.7386127875258306,2.7386127875258306,0,1,1,2.7386127875258306,0\" stroke=\"rgb(250, 154, 61)\" stroke-width=\"2\" opacity=\"0.7\"/><path aria-label=\"S: 170; s: 40; profit_mean: 1204.2852\" role=\"graphics-symbol\" aria-roledescription=\"point\" transform=\"translate(97.14285714285714,39.99999999999999)\" d=\"M2.7386127875258306,0A2.7386127875258306,2.7386127875258306,0,1,1,-2.7386127875258306,0A2.7386127875258306,2.7386127875258306,0,1,1,2.7386127875258306,0\" stroke=\"rgb(247, 146, 66)\" stroke-width=\"2\" opacity=\"0.7\"/><path aria-label=\"S: 180; s: 40; profit_mean: 1183.0406\" role=\"graphics-symbol\" aria-roledescription=\"point\" transform=\"translate(102.85714285714285,39.99999999999999)\" d=\"M2.7386127875258306,0A2.7386127875258306,2.7386127875258306,0,1,1,-2.7386127875258306,0A2.7386127875258306,2.7386127875258306,0,1,1,2.7386127875258306,0\" stroke=\"rgb(241, 128, 78)\" stroke-width=\"2\" opacity=\"0.7\"/><path aria-label=\"S: 190; s: 40; profit_mean: 1195.6946\" role=\"graphics-symbol\" aria-roledescription=\"point\" transform=\"translate(108.57142857142857,39.99999999999999)\" d=\"M2.7386127875258306,0A2.7386127875258306,2.7386127875258306,0,1,1,-2.7386127875258306,0A2.7386127875258306,2.7386127875258306,0,1,1,2.7386127875258306,0\" stroke=\"rgb(245, 139, 71)\" stroke-width=\"2\" opacity=\"0.7\"/><path aria-label=\"S: 200; s: 40; profit_mean: 1231.1435\" role=\"graphics-symbol\" aria-roledescription=\"point\" transform=\"translate(114.28571428571428,39.99999999999999)\" d=\"M2.7386127875258306,0A2.7386127875258306,2.7386127875258306,0,1,1,-2.7386127875258306,0A2.7386127875258306,2.7386127875258306,0,1,1,2.7386127875258306,0\" stroke=\"rgb(252, 170, 52)\" stroke-width=\"2\" opacity=\"0.7\"/><path aria-label=\"S: 210; s: 40; profit_mean: 1246.4605\" role=\"graphics-symbol\" aria-roledescription=\"point\" transform=\"translate(120,39.99999999999999)\" d=\"M2.7386127875258306,0A2.7386127875258306,2.7386127875258306,0,1,1,-2.7386127875258306,0A2.7386127875258306,2.7386127875258306,0,1,1,2.7386127875258306,0\" stroke=\"rgb(253, 184, 45)\" stroke-width=\"2\" opacity=\"0.7\"/><path aria-label=\"S: 220; s: 40; profit_mean: 1223.9846\" role=\"graphics-symbol\" aria-roledescription=\"point\" transform=\"translate(125.71428571428571,39.99999999999999)\" d=\"M2.7386127875258306,0A2.7386127875258306,2.7386127875258306,0,1,1,-2.7386127875258306,0A2.7386127875258306,2.7386127875258306,0,1,1,2.7386127875258306,0\" stroke=\"rgb(252, 163, 56)\" stroke-width=\"2\" opacity=\"0.7\"/><path aria-label=\"S: 230; s: 40; profit_mean: 1191.8186\" role=\"graphics-symbol\" aria-roledescription=\"point\" transform=\"translate(131.42857142857142,39.99999999999999)\" d=\"M2.7386127875258306,0A2.7386127875258306,2.7386127875258306,0,1,1,-2.7386127875258306,0A2.7386127875258306,2.7386127875258306,0,1,1,2.7386127875258306,0\" stroke=\"rgb(244, 136, 73)\" stroke-width=\"2\" opacity=\"0.7\"/><path aria-label=\"S: 240; s: 40; profit_mean: 1141.2655\" role=\"graphics-symbol\" aria-roledescription=\"point\" transform=\"translate(137.14285714285714,39.99999999999999)\" d=\"M2.7386127875258306,0A2.7386127875258306,2.7386127875258306,0,1,1,-2.7386127875258306,0A2.7386127875258306,2.7386127875258306,0,1,1,2.7386127875258306,0\" stroke=\"rgb(223, 97, 100)\" stroke-width=\"2\" opacity=\"0.7\"/><path aria-label=\"S: 250; s: 40; profit_mean: 1121.5018\" role=\"graphics-symbol\" aria-roledescription=\"point\" transform=\"translate(142.85714285714286,39.99999999999999)\" d=\"M2.7386127875258306,0A2.7386127875258306,2.7386127875258306,0,1,1,-2.7386127875258306,0A2.7386127875258306,2.7386127875258306,0,1,1,2.7386127875258306,0\" stroke=\"rgb(213, 83, 111)\" stroke-width=\"2\" opacity=\"0.7\"/><path aria-label=\"S: 260; s: 40; profit_mean: 1096.5067\" role=\"graphics-symbol\" aria-roledescription=\"point\" transform=\"translate(148.57142857142858,39.99999999999999)\" d=\"M2.7386127875258306,0A2.7386127875258306,2.7386127875258306,0,1,1,-2.7386127875258306,0A2.7386127875258306,2.7386127875258306,0,1,1,2.7386127875258306,0\" stroke=\"rgb(198, 65, 125)\" stroke-width=\"2\" opacity=\"0.7\"/><path aria-label=\"S: 270; s: 40; profit_mean: 1117.9872\" role=\"graphics-symbol\" aria-roledescription=\"point\" transform=\"translate(154.2857142857143,39.99999999999999)\" d=\"M2.7386127875258306,0A2.7386127875258306,2.7386127875258306,0,1,1,-2.7386127875258306,0A2.7386127875258306,2.7386127875258306,0,1,1,2.7386127875258306,0\" stroke=\"rgb(211, 81, 113)\" stroke-width=\"2\" opacity=\"0.7\"/><path aria-label=\"S: 280; s: 40; profit_mean: 1151.5143\" role=\"graphics-symbol\" aria-roledescription=\"point\" transform=\"translate(160,39.99999999999999)\" d=\"M2.7386127875258306,0A2.7386127875258306,2.7386127875258306,0,1,1,-2.7386127875258306,0A2.7386127875258306,2.7386127875258306,0,1,1,2.7386127875258306,0\" stroke=\"rgb(228, 104, 95)\" stroke-width=\"2\" opacity=\"0.7\"/><path aria-label=\"S: 290; s: 40; profit_mean: 1198.8379\" role=\"graphics-symbol\" aria-roledescription=\"point\" transform=\"translate(165.71428571428572,39.99999999999999)\" d=\"M2.7386127875258306,0A2.7386127875258306,2.7386127875258306,0,1,1,-2.7386127875258306,0A2.7386127875258306,2.7386127875258306,0,1,1,2.7386127875258306,0\" stroke=\"rgb(246, 142, 69)\" stroke-width=\"2\" opacity=\"0.7\"/><path aria-label=\"S: 300; s: 40; profit_mean: 1220.44\" role=\"graphics-symbol\" aria-roledescription=\"point\" transform=\"translate(171.42857142857142,39.99999999999999)\" d=\"M2.7386127875258306,0A2.7386127875258306,2.7386127875258306,0,1,1,-2.7386127875258306,0A2.7386127875258306,2.7386127875258306,0,1,1,2.7386127875258306,0\" stroke=\"rgb(251, 160, 58)\" stroke-width=\"2\" opacity=\"0.7\"/><path aria-label=\"S: 310; s: 40; profit_mean: 1200.8228\" role=\"graphics-symbol\" aria-roledescription=\"point\" transform=\"translate(177.14285714285714,39.99999999999999)\" d=\"M2.7386127875258306,0A2.7386127875258306,2.7386127875258306,0,1,1,-2.7386127875258306,0A2.7386127875258306,2.7386127875258306,0,1,1,2.7386127875258306,0\" stroke=\"rgb(246, 144, 68)\" stroke-width=\"2\" opacity=\"0.7\"/><path aria-label=\"S: 320; s: 40; profit_mean: 1173.4143\" role=\"graphics-symbol\" aria-roledescription=\"point\" transform=\"translate(182.85714285714286,39.99999999999999)\" d=\"M2.7386127875258306,0A2.7386127875258306,2.7386127875258306,0,1,1,-2.7386127875258306,0A2.7386127875258306,2.7386127875258306,0,1,1,2.7386127875258306,0\" stroke=\"rgb(237, 121, 83)\" stroke-width=\"2\" opacity=\"0.7\"/><path aria-label=\"S: 330; s: 40; profit_mean: 1135.8409\" role=\"graphics-symbol\" aria-roledescription=\"point\" transform=\"translate(188.57142857142856,39.99999999999999)\" d=\"M2.7386127875258306,0A2.7386127875258306,2.7386127875258306,0,1,1,-2.7386127875258306,0A2.7386127875258306,2.7386127875258306,0,1,1,2.7386127875258306,0\" stroke=\"rgb(220, 93, 103)\" stroke-width=\"2\" opacity=\"0.7\"/><path aria-label=\"S: 340; s: 40; profit_mean: 1095.6269\" role=\"graphics-symbol\" aria-roledescription=\"point\" transform=\"translate(194.28571428571428,39.99999999999999)\" d=\"M2.7386127875258306,0A2.7386127875258306,2.7386127875258306,0,1,1,-2.7386127875258306,0A2.7386127875258306,2.7386127875258306,0,1,1,2.7386127875258306,0\" stroke=\"rgb(198, 64, 126)\" stroke-width=\"2\" opacity=\"0.7\"/><path aria-label=\"S: 350; s: 40; profit_mean: 1052.3588\" role=\"graphics-symbol\" aria-roledescription=\"point\" transform=\"translate(200,39.99999999999999)\" d=\"M2.7386127875258306,0A2.7386127875258306,2.7386127875258306,0,1,1,-2.7386127875258306,0A2.7386127875258306,2.7386127875258306,0,1,1,2.7386127875258306,0\" stroke=\"rgb(168, 34, 151)\" stroke-width=\"2\" opacity=\"0.7\"/><path aria-label=\"S: 100; s: 45; profit_mean: 962.8336\" role=\"graphics-symbol\" aria-roledescription=\"point\" transform=\"translate(57.14285714285714,19.999999999999996)\" d=\"M2.7386127875258306,0A2.7386127875258306,2.7386127875258306,0,1,1,-2.7386127875258306,0A2.7386127875258306,2.7386127875258306,0,1,1,2.7386127875258306,0\" stroke=\"rgb(87, 1, 164)\" stroke-width=\"2\" opacity=\"0.7\"/><path aria-label=\"S: 110; s: 45; profit_mean: 1025.3848\" role=\"graphics-symbol\" aria-roledescription=\"point\" transform=\"translate(62.857142857142854,19.999999999999996)\" d=\"M2.7386127875258306,0A2.7386127875258306,2.7386127875258306,0,1,1,-2.7386127875258306,0A2.7386127875258306,2.7386127875258306,0,1,1,2.7386127875258306,0\" stroke=\"rgb(146, 14, 163)\" stroke-width=\"2\" opacity=\"0.7\"/><path aria-label=\"S: 120; s: 45; profit_mean: 1083.3567\" role=\"graphics-symbol\" aria-roledescription=\"point\" transform=\"translate(68.57142857142857,19.999999999999996)\" d=\"M2.7386127875258306,0A2.7386127875258306,2.7386127875258306,0,1,1,-2.7386127875258306,0A2.7386127875258306,2.7386127875258306,0,1,1,2.7386127875258306,0\" stroke=\"rgb(190, 56, 133)\" stroke-width=\"2\" opacity=\"0.7\"/><path aria-label=\"S: 130; s: 45; profit_mean: 1118.7587\" role=\"graphics-symbol\" aria-roledescription=\"point\" transform=\"translate(74.28571428571429,19.999999999999996)\" d=\"M2.7386127875258306,0A2.7386127875258306,2.7386127875258306,0,1,1,-2.7386127875258306,0A2.7386127875258306,2.7386127875258306,0,1,1,2.7386127875258306,0\" stroke=\"rgb(211, 81, 113)\" stroke-width=\"2\" opacity=\"0.7\"/><path aria-label=\"S: 140; s: 45; profit_mean: 1151.4609\" role=\"graphics-symbol\" aria-roledescription=\"point\" transform=\"translate(80,19.999999999999996)\" d=\"M2.7386127875258306,0A2.7386127875258306,2.7386127875258306,0,1,1,-2.7386127875258306,0A2.7386127875258306,2.7386127875258306,0,1,1,2.7386127875258306,0\" stroke=\"rgb(228, 104, 95)\" stroke-width=\"2\" opacity=\"0.7\"/><path aria-label=\"S: 150; s: 45; profit_mean: 1162.1809\" role=\"graphics-symbol\" aria-roledescription=\"point\" transform=\"translate(85.71428571428571,19.999999999999996)\" d=\"M2.7386127875258306,0A2.7386127875258306,2.7386127875258306,0,1,1,-2.7386127875258306,0A2.7386127875258306,2.7386127875258306,0,1,1,2.7386127875258306,0\" stroke=\"rgb(232, 112, 89)\" stroke-width=\"2\" opacity=\"0.7\"/><path aria-label=\"S: 160; s: 45; profit_mean: 1179.6215\" role=\"graphics-symbol\" aria-roledescription=\"point\" transform=\"translate(91.42857142857143,19.999999999999996)\" d=\"M2.7386127875258306,0A2.7386127875258306,2.7386127875258306,0,1,1,-2.7386127875258306,0A2.7386127875258306,2.7386127875258306,0,1,1,2.7386127875258306,0\" stroke=\"rgb(239, 126, 80)\" stroke-width=\"2\" opacity=\"0.7\"/><path aria-label=\"S: 170; s: 45; profit_mean: 1197.8699\" role=\"graphics-symbol\" aria-roledescription=\"point\" transform=\"translate(97.14285714285714,19.999999999999996)\" d=\"M2.7386127875258306,0A2.7386127875258306,2.7386127875258306,0,1,1,-2.7386127875258306,0A2.7386127875258306,2.7386127875258306,0,1,1,2.7386127875258306,0\" stroke=\"rgb(245, 141, 69)\" stroke-width=\"2\" opacity=\"0.7\"/><path aria-label=\"S: 180; s: 45; profit_mean: 1173.481\" role=\"graphics-symbol\" aria-roledescription=\"point\" transform=\"translate(102.85714285714285,19.999999999999996)\" d=\"M2.7386127875258306,0A2.7386127875258306,2.7386127875258306,0,1,1,-2.7386127875258306,0A2.7386127875258306,2.7386127875258306,0,1,1,2.7386127875258306,0\" stroke=\"rgb(237, 121, 83)\" stroke-width=\"2\" opacity=\"0.7\"/><path aria-label=\"S: 190; s: 45; profit_mean: 1169.6976\" role=\"graphics-symbol\" aria-roledescription=\"point\" transform=\"translate(108.57142857142857,19.999999999999996)\" d=\"M2.7386127875258306,0A2.7386127875258306,2.7386127875258306,0,1,1,-2.7386127875258306,0A2.7386127875258306,2.7386127875258306,0,1,1,2.7386127875258306,0\" stroke=\"rgb(236, 118, 85)\" stroke-width=\"2\" opacity=\"0.7\"/><path aria-label=\"S: 200; s: 45; profit_mean: 1191.7689\" role=\"graphics-symbol\" aria-roledescription=\"point\" transform=\"translate(114.28571428571428,19.999999999999996)\" d=\"M2.7386127875258306,0A2.7386127875258306,2.7386127875258306,0,1,1,-2.7386127875258306,0A2.7386127875258306,2.7386127875258306,0,1,1,2.7386127875258306,0\" stroke=\"rgb(244, 136, 73)\" stroke-width=\"2\" opacity=\"0.7\"/><path aria-label=\"S: 210; s: 45; profit_mean: 1220.5394\" role=\"graphics-symbol\" aria-roledescription=\"point\" transform=\"translate(120,19.999999999999996)\" d=\"M2.7386127875258306,0A2.7386127875258306,2.7386127875258306,0,1,1,-2.7386127875258306,0A2.7386127875258306,2.7386127875258306,0,1,1,2.7386127875258306,0\" stroke=\"rgb(251, 160, 57)\" stroke-width=\"2\" opacity=\"0.7\"/><path aria-label=\"S: 220; s: 45; profit_mean: 1223.2257\" role=\"graphics-symbol\" aria-roledescription=\"point\" transform=\"translate(125.71428571428571,19.999999999999996)\" d=\"M2.7386127875258306,0A2.7386127875258306,2.7386127875258306,0,1,1,-2.7386127875258306,0A2.7386127875258306,2.7386127875258306,0,1,1,2.7386127875258306,0\" stroke=\"rgb(251, 162, 56)\" stroke-width=\"2\" opacity=\"0.7\"/><path aria-label=\"S: 230; s: 45; profit_mean: 1190.9652\" role=\"graphics-symbol\" aria-roledescription=\"point\" transform=\"translate(131.42857142857142,19.999999999999996)\" d=\"M2.7386127875258306,0A2.7386127875258306,2.7386127875258306,0,1,1,-2.7386127875258306,0A2.7386127875258306,2.7386127875258306,0,1,1,2.7386127875258306,0\" stroke=\"rgb(243, 135, 73)\" stroke-width=\"2\" opacity=\"0.7\"/><path aria-label=\"S: 240; s: 45; profit_mean: 1144.9629\" role=\"graphics-symbol\" aria-roledescription=\"point\" transform=\"translate(137.14285714285714,19.999999999999996)\" d=\"M2.7386127875258306,0A2.7386127875258306,2.7386127875258306,0,1,1,-2.7386127875258306,0A2.7386127875258306,2.7386127875258306,0,1,1,2.7386127875258306,0\" stroke=\"rgb(225, 99, 98)\" stroke-width=\"2\" opacity=\"0.7\"/><path aria-label=\"S: 250; s: 45; profit_mean: 1106.9587\" role=\"graphics-symbol\" aria-roledescription=\"point\" transform=\"translate(142.85714285714286,19.999999999999996)\" d=\"M2.7386127875258306,0A2.7386127875258306,2.7386127875258306,0,1,1,-2.7386127875258306,0A2.7386127875258306,2.7386127875258306,0,1,1,2.7386127875258306,0\" stroke=\"rgb(204, 72, 120)\" stroke-width=\"2\" opacity=\"0.7\"/><path aria-label=\"S: 260; s: 45; profit_mean: 1083.612\" role=\"graphics-symbol\" aria-roledescription=\"point\" transform=\"translate(148.57142857142858,19.999999999999996)\" d=\"M2.7386127875258306,0A2.7386127875258306,2.7386127875258306,0,1,1,-2.7386127875258306,0A2.7386127875258306,2.7386127875258306,0,1,1,2.7386127875258306,0\" stroke=\"rgb(190, 56, 133)\" stroke-width=\"2\" opacity=\"0.7\"/><path aria-label=\"S: 270; s: 45; profit_mean: 1081.0412\" role=\"graphics-symbol\" aria-roledescription=\"point\" transform=\"translate(154.2857142857143,19.999999999999996)\" d=\"M2.7386127875258306,0A2.7386127875258306,2.7386127875258306,0,1,1,-2.7386127875258306,0A2.7386127875258306,2.7386127875258306,0,1,1,2.7386127875258306,0\" stroke=\"rgb(188, 54, 134)\" stroke-width=\"2\" opacity=\"0.7\"/><path aria-label=\"S: 280; s: 45; profit_mean: 1116.4928\" role=\"graphics-symbol\" aria-roledescription=\"point\" transform=\"translate(160,19.999999999999996)\" d=\"M2.7386127875258306,0A2.7386127875258306,2.7386127875258306,0,1,1,-2.7386127875258306,0A2.7386127875258306,2.7386127875258306,0,1,1,2.7386127875258306,0\" stroke=\"rgb(210, 80, 114)\" stroke-width=\"2\" opacity=\"0.7\"/><path aria-label=\"S: 290; s: 45; profit_mean: 1143.4066\" role=\"graphics-symbol\" aria-roledescription=\"point\" transform=\"translate(165.71428571428572,19.999999999999996)\" d=\"M2.7386127875258306,0A2.7386127875258306,2.7386127875258306,0,1,1,-2.7386127875258306,0A2.7386127875258306,2.7386127875258306,0,1,1,2.7386127875258306,0\" stroke=\"rgb(224, 98, 99)\" stroke-width=\"2\" opacity=\"0.7\"/><path aria-label=\"S: 300; s: 45; profit_mean: 1186.0901\" role=\"graphics-symbol\" aria-roledescription=\"point\" transform=\"translate(171.42857142857142,19.999999999999996)\" d=\"M2.7386127875258306,0A2.7386127875258306,2.7386127875258306,0,1,1,-2.7386127875258306,0A2.7386127875258306,2.7386127875258306,0,1,1,2.7386127875258306,0\" stroke=\"rgb(242, 131, 76)\" stroke-width=\"2\" opacity=\"0.7\"/><path aria-label=\"S: 310; s: 45; profit_mean: 1190.2935\" role=\"graphics-symbol\" aria-roledescription=\"point\" transform=\"translate(177.14285714285714,19.999999999999996)\" d=\"M2.7386127875258306,0A2.7386127875258306,2.7386127875258306,0,1,1,-2.7386127875258306,0A2.7386127875258306,2.7386127875258306,0,1,1,2.7386127875258306,0\" stroke=\"rgb(243, 134, 74)\" stroke-width=\"2\" opacity=\"0.7\"/><path aria-label=\"S: 320; s: 45; profit_mean: 1171.476\" role=\"graphics-symbol\" aria-roledescription=\"point\" transform=\"translate(182.85714285714286,19.999999999999996)\" d=\"M2.7386127875258306,0A2.7386127875258306,2.7386127875258306,0,1,1,-2.7386127875258306,0A2.7386127875258306,2.7386127875258306,0,1,1,2.7386127875258306,0\" stroke=\"rgb(236, 120, 84)\" stroke-width=\"2\" opacity=\"0.7\"/><path aria-label=\"S: 330; s: 45; profit_mean: 1146.2992\" role=\"graphics-symbol\" aria-roledescription=\"point\" transform=\"translate(188.57142857142856,19.999999999999996)\" d=\"M2.7386127875258306,0A2.7386127875258306,2.7386127875258306,0,1,1,-2.7386127875258306,0A2.7386127875258306,2.7386127875258306,0,1,1,2.7386127875258306,0\" stroke=\"rgb(225, 100, 98)\" stroke-width=\"2\" opacity=\"0.7\"/><path aria-label=\"S: 340; s: 45; profit_mean: 1093.8299\" role=\"graphics-symbol\" aria-roledescription=\"point\" transform=\"translate(194.28571428571428,19.999999999999996)\" d=\"M2.7386127875258306,0A2.7386127875258306,2.7386127875258306,0,1,1,-2.7386127875258306,0A2.7386127875258306,2.7386127875258306,0,1,1,2.7386127875258306,0\" stroke=\"rgb(196, 63, 127)\" stroke-width=\"2\" opacity=\"0.7\"/><path aria-label=\"S: 350; s: 45; profit_mean: 1063.4941\" role=\"graphics-symbol\" aria-roledescription=\"point\" transform=\"translate(200,19.999999999999996)\" d=\"M2.7386127875258306,0A2.7386127875258306,2.7386127875258306,0,1,1,-2.7386127875258306,0A2.7386127875258306,2.7386127875258306,0,1,1,2.7386127875258306,0\" stroke=\"rgb(177, 42, 144)\" stroke-width=\"2\" opacity=\"0.7\"/><path aria-label=\"S: 100; s: 50; profit_mean: 901.0713\" role=\"graphics-symbol\" aria-roledescription=\"point\" transform=\"translate(57.14285714285714,0)\" d=\"M2.7386127875258306,0A2.7386127875258306,2.7386127875258306,0,1,1,-2.7386127875258306,0A2.7386127875258306,2.7386127875258306,0,1,1,2.7386127875258306,0\" stroke=\"rgb(13, 8, 135)\" stroke-width=\"2\" opacity=\"0.7\"/><path aria-label=\"S: 110; s: 50; profit_mean: 972.9241\" role=\"graphics-symbol\" aria-roledescription=\"point\" transform=\"translate(62.857142857142854,0)\" d=\"M2.7386127875258306,0A2.7386127875258306,2.7386127875258306,0,1,1,-2.7386127875258306,0A2.7386127875258306,2.7386127875258306,0,1,1,2.7386127875258306,0\" stroke=\"rgb(97, 1, 167)\" stroke-width=\"2\" opacity=\"0.7\"/><path aria-label=\"S: 120; s: 50; profit_mean: 1038.5918\" role=\"graphics-symbol\" aria-roledescription=\"point\" transform=\"translate(68.57142857142857,0)\" d=\"M2.7386127875258306,0A2.7386127875258306,2.7386127875258306,0,1,1,-2.7386127875258306,0A2.7386127875258306,2.7386127875258306,0,1,1,2.7386127875258306,0\" stroke=\"rgb(157, 24, 157)\" stroke-width=\"2\" opacity=\"0.7\"/><path aria-label=\"S: 130; s: 50; profit_mean: 1081.9735\" role=\"graphics-symbol\" aria-roledescription=\"point\" transform=\"translate(74.28571428571429,0)\" d=\"M2.7386127875258306,0A2.7386127875258306,2.7386127875258306,0,1,1,-2.7386127875258306,0A2.7386127875258306,2.7386127875258306,0,1,1,2.7386127875258306,0\" stroke=\"rgb(189, 55, 134)\" stroke-width=\"2\" opacity=\"0.7\"/><path aria-label=\"S: 140; s: 50; profit_mean: 1120.6184\" role=\"graphics-symbol\" aria-roledescription=\"point\" transform=\"translate(80,0)\" d=\"M2.7386127875258306,0A2.7386127875258306,2.7386127875258306,0,1,1,-2.7386127875258306,0A2.7386127875258306,2.7386127875258306,0,1,1,2.7386127875258306,0\" stroke=\"rgb(212, 82, 112)\" stroke-width=\"2\" opacity=\"0.7\"/><path aria-label=\"S: 150; s: 50; profit_mean: 1137.6378\" role=\"graphics-symbol\" aria-roledescription=\"point\" transform=\"translate(85.71428571428571,0)\" d=\"M2.7386127875258306,0A2.7386127875258306,2.7386127875258306,0,1,1,-2.7386127875258306,0A2.7386127875258306,2.7386127875258306,0,1,1,2.7386127875258306,0\" stroke=\"rgb(221, 94, 102)\" stroke-width=\"2\" opacity=\"0.7\"/><path aria-label=\"S: 160; s: 50; profit_mean: 1138.9103\" role=\"graphics-symbol\" aria-roledescription=\"point\" transform=\"translate(91.42857142857143,0)\" d=\"M2.7386127875258306,0A2.7386127875258306,2.7386127875258306,0,1,1,-2.7386127875258306,0A2.7386127875258306,2.7386127875258306,0,1,1,2.7386127875258306,0\" stroke=\"rgb(221, 95, 102)\" stroke-width=\"2\" opacity=\"0.7\"/><path aria-label=\"S: 170; s: 50; profit_mean: 1173.9012\" role=\"graphics-symbol\" aria-roledescription=\"point\" transform=\"translate(97.14285714285714,0)\" d=\"M2.7386127875258306,0A2.7386127875258306,2.7386127875258306,0,1,1,-2.7386127875258306,0A2.7386127875258306,2.7386127875258306,0,1,1,2.7386127875258306,0\" stroke=\"rgb(237, 122, 82)\" stroke-width=\"2\" opacity=\"0.7\"/><path aria-label=\"S: 180; s: 50; profit_mean: 1175.3082\" role=\"graphics-symbol\" aria-roledescription=\"point\" transform=\"translate(102.85714285714285,0)\" d=\"M2.7386127875258306,0A2.7386127875258306,2.7386127875258306,0,1,1,-2.7386127875258306,0A2.7386127875258306,2.7386127875258306,0,1,1,2.7386127875258306,0\" stroke=\"rgb(238, 123, 82)\" stroke-width=\"2\" opacity=\"0.7\"/><path aria-label=\"S: 190; s: 50; profit_mean: 1153.6221\" role=\"graphics-symbol\" aria-roledescription=\"point\" transform=\"translate(108.57142857142857,0)\" d=\"M2.7386127875258306,0A2.7386127875258306,2.7386127875258306,0,1,1,-2.7386127875258306,0A2.7386127875258306,2.7386127875258306,0,1,1,2.7386127875258306,0\" stroke=\"rgb(228, 106, 94)\" stroke-width=\"2\" opacity=\"0.7\"/><path aria-label=\"S: 200; s: 50; profit_mean: 1151.334\" role=\"graphics-symbol\" aria-roledescription=\"point\" transform=\"translate(114.28571428571428,0)\" d=\"M2.7386127875258306,0A2.7386127875258306,2.7386127875258306,0,1,1,-2.7386127875258306,0A2.7386127875258306,2.7386127875258306,0,1,1,2.7386127875258306,0\" stroke=\"rgb(227, 104, 95)\" stroke-width=\"2\" opacity=\"0.7\"/><path aria-label=\"S: 210; s: 50; profit_mean: 1183.2953\" role=\"graphics-symbol\" aria-roledescription=\"point\" transform=\"translate(120,0)\" d=\"M2.7386127875258306,0A2.7386127875258306,2.7386127875258306,0,1,1,-2.7386127875258306,0A2.7386127875258306,2.7386127875258306,0,1,1,2.7386127875258306,0\" stroke=\"rgb(241, 129, 78)\" stroke-width=\"2\" opacity=\"0.7\"/><path aria-label=\"S: 220; s: 50; profit_mean: 1210.9642\" role=\"graphics-symbol\" aria-roledescription=\"point\" transform=\"translate(125.71428571428571,0)\" d=\"M2.7386127875258306,0A2.7386127875258306,2.7386127875258306,0,1,1,-2.7386127875258306,0A2.7386127875258306,2.7386127875258306,0,1,1,2.7386127875258306,0\" stroke=\"rgb(249, 152, 62)\" stroke-width=\"2\" opacity=\"0.7\"/><path aria-label=\"S: 230; s: 50; profit_mean: 1197.1638\" role=\"graphics-symbol\" aria-roledescription=\"point\" transform=\"translate(131.42857142857142,0)\" d=\"M2.7386127875258306,0A2.7386127875258306,2.7386127875258306,0,1,1,-2.7386127875258306,0A2.7386127875258306,2.7386127875258306,0,1,1,2.7386127875258306,0\" stroke=\"rgb(245, 140, 70)\" stroke-width=\"2\" opacity=\"0.7\"/><path aria-label=\"S: 240; s: 50; profit_mean: 1152.4436\" role=\"graphics-symbol\" aria-roledescription=\"point\" transform=\"translate(137.14285714285714,0)\" d=\"M2.7386127875258306,0A2.7386127875258306,2.7386127875258306,0,1,1,-2.7386127875258306,0A2.7386127875258306,2.7386127875258306,0,1,1,2.7386127875258306,0\" stroke=\"rgb(228, 105, 95)\" stroke-width=\"2\" opacity=\"0.7\"/><path aria-label=\"S: 250; s: 50; profit_mean: 1109.5742\" role=\"graphics-symbol\" aria-roledescription=\"point\" transform=\"translate(142.85714285714286,0)\" d=\"M2.7386127875258306,0A2.7386127875258306,2.7386127875258306,0,1,1,-2.7386127875258306,0A2.7386127875258306,2.7386127875258306,0,1,1,2.7386127875258306,0\" stroke=\"rgb(206, 74, 118)\" stroke-width=\"2\" opacity=\"0.7\"/><path aria-label=\"S: 260; s: 50; profit_mean: 1078.0302\" role=\"graphics-symbol\" aria-roledescription=\"point\" transform=\"translate(148.57142857142858,0)\" d=\"M2.7386127875258306,0A2.7386127875258306,2.7386127875258306,0,1,1,-2.7386127875258306,0A2.7386127875258306,2.7386127875258306,0,1,1,2.7386127875258306,0\" stroke=\"rgb(186, 52, 136)\" stroke-width=\"2\" opacity=\"0.7\"/><path aria-label=\"S: 270; s: 50; profit_mean: 1055.8256\" role=\"graphics-symbol\" aria-roledescription=\"point\" transform=\"translate(154.2857142857143,0)\" d=\"M2.7386127875258306,0A2.7386127875258306,2.7386127875258306,0,1,1,-2.7386127875258306,0A2.7386127875258306,2.7386127875258306,0,1,1,2.7386127875258306,0\" stroke=\"rgb(171, 36, 149)\" stroke-width=\"2\" opacity=\"0.7\"/><path aria-label=\"S: 280; s: 50; profit_mean: 1059.101\" role=\"graphics-symbol\" aria-roledescription=\"point\" transform=\"translate(160,0)\" d=\"M2.7386127875258306,0A2.7386127875258306,2.7386127875258306,0,1,1,-2.7386127875258306,0A2.7386127875258306,2.7386127875258306,0,1,1,2.7386127875258306,0\" stroke=\"rgb(173, 39, 147)\" stroke-width=\"2\" opacity=\"0.7\"/><path aria-label=\"S: 290; s: 50; profit_mean: 1091.07\" role=\"graphics-symbol\" aria-roledescription=\"point\" transform=\"translate(165.71428571428572,0)\" d=\"M2.7386127875258306,0A2.7386127875258306,2.7386127875258306,0,1,1,-2.7386127875258306,0A2.7386127875258306,2.7386127875258306,0,1,1,2.7386127875258306,0\" stroke=\"rgb(195, 61, 128)\" stroke-width=\"2\" opacity=\"0.7\"/><path aria-label=\"S: 300; s: 50; profit_mean: 1139.2788\" role=\"graphics-symbol\" aria-roledescription=\"point\" transform=\"translate(171.42857142857142,0)\" d=\"M2.7386127875258306,0A2.7386127875258306,2.7386127875258306,0,1,1,-2.7386127875258306,0A2.7386127875258306,2.7386127875258306,0,1,1,2.7386127875258306,0\" stroke=\"rgb(222, 95, 101)\" stroke-width=\"2\" opacity=\"0.7\"/><path aria-label=\"S: 310; s: 50; profit_mean: 1165.1183\" role=\"graphics-symbol\" aria-roledescription=\"point\" transform=\"translate(177.14285714285714,0)\" d=\"M2.7386127875258306,0A2.7386127875258306,2.7386127875258306,0,1,1,-2.7386127875258306,0A2.7386127875258306,2.7386127875258306,0,1,1,2.7386127875258306,0\" stroke=\"rgb(234, 115, 88)\" stroke-width=\"2\" opacity=\"0.7\"/><path aria-label=\"S: 320; s: 50; profit_mean: 1169.3793\" role=\"graphics-symbol\" aria-roledescription=\"point\" transform=\"translate(182.85714285714286,0)\" d=\"M2.7386127875258306,0A2.7386127875258306,2.7386127875258306,0,1,1,-2.7386127875258306,0A2.7386127875258306,2.7386127875258306,0,1,1,2.7386127875258306,0\" stroke=\"rgb(235, 118, 85)\" stroke-width=\"2\" opacity=\"0.7\"/><path aria-label=\"S: 330; s: 50; profit_mean: 1141.1592\" role=\"graphics-symbol\" aria-roledescription=\"point\" transform=\"translate(188.57142857142856,0)\" d=\"M2.7386127875258306,0A2.7386127875258306,2.7386127875258306,0,1,1,-2.7386127875258306,0A2.7386127875258306,2.7386127875258306,0,1,1,2.7386127875258306,0\" stroke=\"rgb(223, 97, 100)\" stroke-width=\"2\" opacity=\"0.7\"/><path aria-label=\"S: 340; s: 50; profit_mean: 1098.3848\" role=\"graphics-symbol\" aria-roledescription=\"point\" transform=\"translate(194.28571428571428,0)\" d=\"M2.7386127875258306,0A2.7386127875258306,2.7386127875258306,0,1,1,-2.7386127875258306,0A2.7386127875258306,2.7386127875258306,0,1,1,2.7386127875258306,0\" stroke=\"rgb(199, 66, 124)\" stroke-width=\"2\" opacity=\"0.7\"/><path aria-label=\"S: 350; s: 50; profit_mean: 1067.9732\" role=\"graphics-symbol\" aria-roledescription=\"point\" transform=\"translate(200,0)\" d=\"M2.7386127875258306,0A2.7386127875258306,2.7386127875258306,0,1,1,-2.7386127875258306,0A2.7386127875258306,2.7386127875258306,0,1,1,2.7386127875258306,0\" stroke=\"rgb(180, 45, 142)\" stroke-width=\"2\" opacity=\"0.7\"/></g><g class=\"mark-group role-legend\" role=\"graphics-symbol\" aria-roledescription=\"legend\" aria-label=\"Gradient legend titled 'profit_mean' for stroke color with values from 901 to 1,309\"><g transform=\"translate(218,0)\"><path class=\"background\" aria-hidden=\"true\" d=\"M0,0h69v216h-69Z\" pointer-events=\"none\"/><g><g class=\"mark-group role-legend-entry\"><g transform=\"translate(0,16)\"><path class=\"background\" aria-hidden=\"true\" d=\"M0,0h0v0h0Z\" pointer-events=\"none\"/><g><g class=\"mark-rect role-legend-gradient\" pointer-events=\"none\"><path d=\"M0,0h16v200h-16Z\" fill=\"url(#gradient_0)\" stroke=\"#ddd\" stroke-width=\"0\" opacity=\"0.7\"/></g><g class=\"mark-text role-legend-label\" pointer-events=\"none\"><text text-anchor=\"start\" transform=\"translate(18,154.47273573655914)\" font-family=\"sans-serif\" font-size=\"10px\" fill=\"#000\" opacity=\"1\">1,000</text><text text-anchor=\"start\" transform=\"translate(18,105.41996918505203)\" font-family=\"sans-serif\" font-size=\"10px\" fill=\"#000\" opacity=\"1\">1,100</text><text text-anchor=\"start\" transform=\"translate(18,56.367202633544906)\" font-family=\"sans-serif\" font-size=\"10px\" fill=\"#000\" opacity=\"1\">1,200</text><text text-anchor=\"start\" transform=\"translate(18,7.314436082037787)\" font-family=\"sans-serif\" font-size=\"10px\" fill=\"#000\" opacity=\"1\">1,300</text></g></g><path class=\"foreground\" aria-hidden=\"true\" d=\"\" pointer-events=\"none\" display=\"none\"/></g></g><g class=\"mark-text role-legend-title\" pointer-events=\"none\"><text text-anchor=\"start\" transform=\"translate(0,9)\" font-family=\"sans-serif\" font-size=\"11px\" font-weight=\"bold\" fill=\"#000\" opacity=\"1\">profit_mean</text></g></g><path class=\"foreground\" aria-hidden=\"true\" d=\"\" pointer-events=\"none\" display=\"none\"/></g></g></g><path class=\"foreground\" aria-hidden=\"true\" d=\"\" display=\"none\"/></g></g></g><defs><linearGradient id=\"gradient_0\" x1=\"0\" x2=\"0\" y1=\"1\" y2=\"0\"><stop offset=\"0\" stop-color=\"rgb(13, 8, 135)\"/><stop offset=\"0.04642525511117576\" stop-color=\"rgb(41, 6, 147)\"/><stop offset=\"0.09547802166268289\" stop-color=\"rgb(64, 3, 156)\"/><stop offset=\"0.14453078821419002\" stop-color=\"rgb(84, 2, 163)\"/><stop offset=\"0.19358355476569714\" stop-color=\"rgb(103, 0, 168)\"/><stop offset=\"0.24263632131720425\" stop-color=\"rgb(123, 2, 168)\"/><stop offset=\"0.2916890878687114\" stop-color=\"rgb(141, 11, 165)\"/><stop offset=\"0.3407418544202185\" stop-color=\"rgb(158, 25, 157)\"/><stop offset=\"0.3897946209717256\" stop-color=\"rgb(174, 39, 146)\"/><stop offset=\"0.43884738752323277\" stop-color=\"rgb(187, 53, 135)\"/><stop offset=\"0.48790015407473986\" stop-color=\"rgb(200, 67, 124)\"/><stop offset=\"0.536952920626247\" stop-color=\"rgb(212, 82, 112)\"/><stop offset=\"0.5860056871777541\" stop-color=\"rgb(222, 96, 101)\"/><stop offset=\"0.6350584537292612\" stop-color=\"rgb(231, 111, 91)\"/><stop offset=\"0.6841112202807683\" stop-color=\"rgb(240, 126, 79)\"/><stop offset=\"0.7331639868322755\" stop-color=\"rgb(246, 143, 68)\"/><stop offset=\"0.7822167533837826\" stop-color=\"rgb(251, 160, 58)\"/><stop offset=\"0.8312695199352897\" stop-color=\"rgb(253, 178, 47)\"/><stop offset=\"0.8803222864867969\" stop-color=\"rgb(253, 198, 39)\"/><stop offset=\"0.9293750530383039\" stop-color=\"rgb(249, 218, 36)\"/><stop offset=\"0.9784278195898111\" stop-color=\"rgb(243, 239, 37)\"/><stop offset=\"1\" stop-color=\"rgb(240, 249, 33)\"/></linearGradient></defs></svg>\n"
      ],
      "text/plain": [
       "@vlplot(\n",
       "    mark=\"point\",\n",
       "    encoding={\n",
       "        x={\n",
       "            field=\"S\"\n",
       "        },\n",
       "        y={\n",
       "            field=\"s\"\n",
       "        },\n",
       "        color={\n",
       "            scale={\n",
       "                scheme=\"plasma\"\n",
       "            },\n",
       "            field=\"profit_mean\"\n",
       "        }\n",
       "    },\n",
       "    data={\n",
       "        values=...\n",
       "    }\n",
       ")"
      ]
     },
     "execution_count": 32,
     "metadata": {},
     "output_type": "execute_result"
    }
   ],
   "source": [
    "# Możemy zaobserowować że jest wiecęj dobrych punktów punktów gdzie posiadamy duże wartości profit_mean.\n",
    "using VegaLite\n",
    "df |> @vlplot(:point, x=:S, y=:s, color={:profit_mean, scale={scheme=:plasma}})"
   ]
  },
  {
   "cell_type": "code",
   "execution_count": 33,
   "metadata": {},
   "outputs": [
    {
     "data": {
      "application/vnd.vegalite.v4+json": {
       "data": {
        "values": [
         {
          "N": 1000,
          "S": 120,
          "lost_mean": 41.755,
          "lost_std": 25.85949900304893,
          "m": 30,
          "profit_mean": 1221.9755,
          "profit_std": 98.72465399816328,
          "s": 10
         },
         {
          "N": 1000,
          "S": 130,
          "lost_mean": 38.67,
          "lost_std": 26.374964241468437,
          "m": 30,
          "profit_mean": 1237.17,
          "profit_std": 118.01406636439515,
          "s": 10
         },
         {
          "N": 1000,
          "S": 140,
          "lost_mean": 35.878,
          "lost_std": 24.62351383197438,
          "m": 30,
          "profit_mean": 1223.1476,
          "profit_std": 107.96257672088146,
          "s": 10
         },
         {
          "N": 1000,
          "S": 150,
          "lost_mean": 34.555,
          "lost_std": 24.222338794936725,
          "m": 30,
          "profit_mean": 1229.5750999999998,
          "profit_std": 86.6381838734798,
          "s": 10
         },
         {
          "N": 1000,
          "S": 160,
          "lost_mean": 33.068,
          "lost_std": 24.39168568037745,
          "m": 30,
          "profit_mean": 1280.3911,
          "profit_std": 99.09514902026913,
          "s": 10
         },
         {
          "N": 1000,
          "S": 170,
          "lost_mean": 29.252,
          "lost_std": 23.009953367053004,
          "m": 30,
          "profit_mean": 1295.8973,
          "profit_std": 120.65359353265174,
          "s": 10
         },
         {
          "N": 1000,
          "S": 180,
          "lost_mean": 28.374,
          "lost_std": 23.01029329664438,
          "m": 30,
          "profit_mean": 1274.1175000000003,
          "profit_std": 136.4624032151026,
          "s": 10
         },
         {
          "N": 1000,
          "S": 190,
          "lost_mean": 27.625,
          "lost_std": 23.21726548102546,
          "m": 30,
          "profit_mean": 1241.0229000000002,
          "profit_std": 130.9587565667585,
          "s": 10
         },
         {
          "N": 1000,
          "S": 200,
          "lost_mean": 28.884,
          "lost_std": 23.281378107117426,
          "m": 30,
          "profit_mean": 1204.2041000000004,
          "profit_std": 117.80163249211704,
          "s": 10
         },
         {
          "N": 1000,
          "S": 230,
          "lost_mean": 23.733,
          "lost_std": 19.267458211864533,
          "m": 30,
          "profit_mean": 1217.7190999999996,
          "profit_std": 106.66704825940563,
          "s": 10
         },
         {
          "N": 1000,
          "S": 240,
          "lost_mean": 23.413,
          "lost_std": 20.641329789901995,
          "m": 30,
          "profit_mean": 1253.3675,
          "profit_std": 118.15921129121912,
          "s": 10
         },
         {
          "N": 1000,
          "S": 250,
          "lost_mean": 21.379,
          "lost_std": 19.567325807049855,
          "m": 30,
          "profit_mean": 1306.9865999999997,
          "profit_std": 120.282067309122,
          "s": 10
         },
         {
          "N": 1000,
          "S": 260,
          "lost_mean": 20.225,
          "lost_std": 19.709155888211594,
          "m": 30,
          "profit_mean": 1307.8205999999996,
          "profit_std": 126.70780277048024,
          "s": 10
         },
         {
          "N": 1000,
          "S": 270,
          "lost_mean": 18.865,
          "lost_std": 18.857263093338105,
          "m": 30,
          "profit_mean": 1286.4594,
          "profit_std": 139.30093898909382,
          "s": 10
         },
         {
          "N": 1000,
          "S": 280,
          "lost_mean": 19.89,
          "lost_std": 20.009954979916827,
          "m": 30,
          "profit_mean": 1250.5556,
          "profit_std": 134.97709807832456,
          "s": 10
         },
         {
          "N": 1000,
          "S": 290,
          "lost_mean": 17.893,
          "lost_std": 18.206730514730978,
          "m": 30,
          "profit_mean": 1220.7917999999997,
          "profit_std": 140.82819438270553,
          "s": 10
         },
         {
          "N": 1000,
          "S": 120,
          "lost_mean": 29.72,
          "lost_std": 22.456533479054507,
          "m": 30,
          "profit_mean": 1220.8081000000002,
          "profit_std": 89.9745928123142,
          "s": 15
         },
         {
          "N": 1000,
          "S": 130,
          "lost_mean": 28.356,
          "lost_std": 24.180197392617494,
          "m": 30,
          "profit_mean": 1253.3124999999998,
          "profit_std": 108.8652347312175,
          "s": 15
         },
         {
          "N": 1000,
          "S": 140,
          "lost_mean": 25.706,
          "lost_std": 23.688662197699482,
          "m": 30,
          "profit_mean": 1245.5914000000002,
          "profit_std": 118.49800995967996,
          "s": 15
         },
         {
          "N": 1000,
          "S": 150,
          "lost_mean": 24.575,
          "lost_std": 22.726215167859692,
          "m": 30,
          "profit_mean": 1237.5475,
          "profit_std": 99.65764586889522,
          "s": 15
         },
         {
          "N": 1000,
          "S": 160,
          "lost_mean": 23.675,
          "lost_std": 21.794319612398258,
          "m": 30,
          "profit_mean": 1259.4145,
          "profit_std": 94.76311924223748,
          "s": 15
         },
         {
          "N": 1000,
          "S": 170,
          "lost_mean": 21.344,
          "lost_std": 21.488914291732783,
          "m": 30,
          "profit_mean": 1305.4484999999997,
          "profit_std": 108.11265542948252,
          "s": 15
         },
         {
          "N": 1000,
          "S": 180,
          "lost_mean": 20.943,
          "lost_std": 21.10756452744561,
          "m": 30,
          "profit_mean": 1305.6570000000004,
          "profit_std": 125.59585737750429,
          "s": 15
         },
         {
          "N": 1000,
          "S": 190,
          "lost_mean": 20.574,
          "lost_std": 21.622813648322232,
          "m": 30,
          "profit_mean": 1267.6961,
          "profit_std": 127.28981401330408,
          "s": 15
         },
         {
          "N": 1000,
          "S": 200,
          "lost_mean": 19.998,
          "lost_std": 22.09584174052263,
          "m": 30,
          "profit_mean": 1227.8697,
          "profit_std": 123.59999162556541,
          "s": 15
         },
         {
          "N": 1000,
          "S": 240,
          "lost_mean": 16.778,
          "lost_std": 17.4504221505737,
          "m": 30,
          "profit_mean": 1225.8602,
          "profit_std": 115.7142529003419,
          "s": 15
         },
         {
          "N": 1000,
          "S": 250,
          "lost_mean": 16.507,
          "lost_std": 18.922791100232097,
          "m": 30,
          "profit_mean": 1274.5508,
          "profit_std": 118.55153219231353,
          "s": 15
         },
         {
          "N": 1000,
          "S": 260,
          "lost_mean": 14.833,
          "lost_std": 17.499238107252967,
          "m": 30,
          "profit_mean": 1301.7349999999997,
          "profit_std": 122.84143728283918,
          "s": 15
         },
         {
          "N": 1000,
          "S": 270,
          "lost_mean": 13.069,
          "lost_std": 16.76147923621857,
          "m": 30,
          "profit_mean": 1305.8228000000004,
          "profit_std": 126.716882728895,
          "s": 15
         },
         {
          "N": 1000,
          "S": 280,
          "lost_mean": 13.095,
          "lost_std": 17.96805013978495,
          "m": 30,
          "profit_mean": 1269.2469,
          "profit_std": 138.84348787218838,
          "s": 15
         },
         {
          "N": 1000,
          "S": 290,
          "lost_mean": 13.659,
          "lost_std": 17.766101242347837,
          "m": 30,
          "profit_mean": 1235.7539000000002,
          "profit_std": 134.33806780377353,
          "s": 15
         },
         {
          "N": 1000,
          "S": 120,
          "lost_mean": 21.971,
          "lost_std": 23.289451637115835,
          "m": 30,
          "profit_mean": 1205.3444999999997,
          "profit_std": 90.91498338532519,
          "s": 20
         },
         {
          "N": 1000,
          "S": 130,
          "lost_mean": 20.817,
          "lost_std": 21.991524234080234,
          "m": 30,
          "profit_mean": 1237.1716999999999,
          "profit_std": 92.27099493131965,
          "s": 20
         },
         {
          "N": 1000,
          "S": 140,
          "lost_mean": 18.236,
          "lost_std": 21.096952040173605,
          "m": 30,
          "profit_mean": 1257.9718999999998,
          "profit_std": 111.07161015746992,
          "s": 20
         },
         {
          "N": 1000,
          "S": 150,
          "lost_mean": 19.472,
          "lost_std": 21.948233207730887,
          "m": 30,
          "profit_mean": 1234.4948,
          "profit_std": 106.87750527634006,
          "s": 20
         },
         {
          "N": 1000,
          "S": 160,
          "lost_mean": 18.192,
          "lost_std": 18.99926598866672,
          "m": 30,
          "profit_mean": 1236.3881999999999,
          "profit_std": 93.91827566167974,
          "s": 20
         },
         {
          "N": 1000,
          "S": 170,
          "lost_mean": 15.47,
          "lost_std": 17.796792571298507,
          "m": 30,
          "profit_mean": 1273.3798000000002,
          "profit_std": 96.3173382190434,
          "s": 20
         },
         {
          "N": 1000,
          "S": 180,
          "lost_mean": 14.089,
          "lost_std": 18.273834080783704,
          "m": 30,
          "profit_mean": 1308.7955,
          "profit_std": 106.53378580181626,
          "s": 20
         },
         {
          "N": 1000,
          "S": 190,
          "lost_mean": 14.625,
          "lost_std": 19.337639962501093,
          "m": 30,
          "profit_mean": 1289.8327,
          "profit_std": 126.79617577395976,
          "s": 20
         },
         {
          "N": 1000,
          "S": 200,
          "lost_mean": 15.117,
          "lost_std": 19.898675038008644,
          "m": 30,
          "profit_mean": 1247.7578000000003,
          "profit_std": 128.4671357356586,
          "s": 20
         },
         {
          "N": 1000,
          "S": 210,
          "lost_mean": 15.026,
          "lost_std": 19.86237241212232,
          "m": 30,
          "profit_mean": 1211.2131999999997,
          "profit_std": 122.21156169353033,
          "s": 20
         },
         {
          "N": 1000,
          "S": 250,
          "lost_mean": 11.776,
          "lost_std": 16.75358190079085,
          "m": 30,
          "profit_mean": 1231.1456,
          "profit_std": 119.87073602007285,
          "s": 20
         },
         {
          "N": 1000,
          "S": 260,
          "lost_mean": 11.19,
          "lost_std": 15.694400728100902,
          "m": 30,
          "profit_mean": 1275.1824000000001,
          "profit_std": 126.80720222754218,
          "s": 20
         },
         {
          "N": 1000,
          "S": 270,
          "lost_mean": 9.54,
          "lost_std": 14.915927221761471,
          "m": 30,
          "profit_mean": 1300.4864999999998,
          "profit_std": 123.03880084861143,
          "s": 20
         },
         {
          "N": 1000,
          "S": 280,
          "lost_mean": 9.808,
          "lost_std": 15.266440325111814,
          "m": 30,
          "profit_mean": 1276.2403999999997,
          "profit_std": 128.0450192502418,
          "s": 20
         },
         {
          "N": 1000,
          "S": 290,
          "lost_mean": 9.308,
          "lost_std": 15.153638796301331,
          "m": 30,
          "profit_mean": 1244.5542,
          "profit_std": 126.72986633537249,
          "s": 20
         },
         {
          "N": 1000,
          "S": 300,
          "lost_mean": 9.594,
          "lost_std": 15.835400971365512,
          "m": 30,
          "profit_mean": 1217.9494999999997,
          "profit_std": 136.1850192172737,
          "s": 20
         },
         {
          "N": 1000,
          "S": 130,
          "lost_mean": 15.22,
          "lost_std": 18.20849112774447,
          "m": 30,
          "profit_mean": 1211.2060999999999,
          "profit_std": 89.7361093546634,
          "s": 25
         },
         {
          "N": 1000,
          "S": 140,
          "lost_mean": 13.209,
          "lost_std": 17.60543297593872,
          "m": 30,
          "profit_mean": 1254.1981,
          "profit_std": 96.1903448836672,
          "s": 25
         },
         {
          "N": 1000,
          "S": 150,
          "lost_mean": 13.907,
          "lost_std": 20.021368739579373,
          "m": 30,
          "profit_mean": 1246.9987,
          "profit_std": 108.41314679829522,
          "s": 25
         },
         {
          "N": 1000,
          "S": 160,
          "lost_mean": 13.013,
          "lost_std": 17.35084674829684,
          "m": 30,
          "profit_mean": 1229.3961000000004,
          "profit_std": 102.40191769462882,
          "s": 25
         },
         {
          "N": 1000,
          "S": 170,
          "lost_mean": 11.746,
          "lost_std": 16.900743152865182,
          "m": 30,
          "profit_mean": 1242.3199000000002,
          "profit_std": 96.06047120495566,
          "s": 25
         },
         {
          "N": 1000,
          "S": 180,
          "lost_mean": 10.496,
          "lost_std": 15.295749211592868,
          "m": 30,
          "profit_mean": 1279.2454,
          "profit_std": 104.1101210072111,
          "s": 25
         },
         {
          "N": 1000,
          "S": 190,
          "lost_mean": 10.275,
          "lost_std": 15.950730415902616,
          "m": 30,
          "profit_mean": 1298.2658000000001,
          "profit_std": 112.11519284569253,
          "s": 25
         },
         {
          "N": 1000,
          "S": 200,
          "lost_mean": 9.857,
          "lost_std": 14.966848618114556,
          "m": 30,
          "profit_mean": 1270.9656,
          "profit_std": 125.313000861143,
          "s": 25
         },
         {
          "N": 1000,
          "S": 210,
          "lost_mean": 9.563,
          "lost_std": 15.494841758505348,
          "m": 30,
          "profit_mean": 1234.9551999999999,
          "profit_std": 121.11939622166676,
          "s": 25
         },
         {
          "N": 1000,
          "S": 260,
          "lost_mean": 8.421,
          "lost_std": 13.531698558047541,
          "m": 30,
          "profit_mean": 1226.7263,
          "profit_std": 130.35608596247994,
          "s": 25
         },
         {
          "N": 1000,
          "S": 270,
          "lost_mean": 7.097,
          "lost_std": 12.757442664709233,
          "m": 30,
          "profit_mean": 1268.3445,
          "profit_std": 122.40158854618116,
          "s": 25
         },
         {
          "N": 1000,
          "S": 280,
          "lost_mean": 6.838,
          "lost_std": 12.655430293590019,
          "m": 30,
          "profit_mean": 1283.186,
          "profit_std": 120.7157829127751,
          "s": 25
         },
         {
          "N": 1000,
          "S": 290,
          "lost_mean": 6.787,
          "lost_std": 13.239067335122364,
          "m": 30,
          "profit_mean": 1258.1580999999999,
          "profit_std": 129.19212592023473,
          "s": 25
         },
         {
          "N": 1000,
          "S": 300,
          "lost_mean": 6.525,
          "lost_std": 13.784243917617697,
          "m": 30,
          "profit_mean": 1232.1326000000001,
          "profit_std": 127.93300735780277,
          "s": 25
         },
         {
          "N": 1000,
          "S": 140,
          "lost_mean": 10.577,
          "lost_std": 16.186849140122515,
          "m": 30,
          "profit_mean": 1228.0586000000003,
          "profit_std": 98.98152134417617,
          "s": 30
         },
         {
          "N": 1000,
          "S": 150,
          "lost_mean": 10.287,
          "lost_std": 15.857682589114248,
          "m": 30,
          "profit_mean": 1249.7449999999997,
          "profit_std": 107.04220994406697,
          "s": 30
         },
         {
          "N": 1000,
          "S": 160,
          "lost_mean": 9.837,
          "lost_std": 15.58709044011705,
          "m": 30,
          "profit_mean": 1225.9841000000001,
          "profit_std": 103.69674813012585,
          "s": 30
         },
         {
          "N": 1000,
          "S": 170,
          "lost_mean": 9.303,
          "lost_std": 14.403702914794431,
          "m": 30,
          "profit_mean": 1210.3669,
          "profit_std": 101.65758200138525,
          "s": 30
         },
         {
          "N": 1000,
          "S": 180,
          "lost_mean": 8.719,
          "lost_std": 15.456096853019844,
          "m": 30,
          "profit_mean": 1242.0267999999999,
          "profit_std": 105.60051908675162,
          "s": 30
         },
         {
          "N": 1000,
          "S": 190,
          "lost_mean": 8.022,
          "lost_std": 14.57394647704992,
          "m": 30,
          "profit_mean": 1280.9768000000001,
          "profit_std": 109.10577350246672,
          "s": 30
         },
         {
          "N": 1000,
          "S": 200,
          "lost_mean": 7.489,
          "lost_std": 14.325260629115693,
          "m": 30,
          "profit_mean": 1280.1108999999997,
          "profit_std": 118.02020191157634,
          "s": 30
         },
         {
          "N": 1000,
          "S": 210,
          "lost_mean": 7.238,
          "lost_std": 13.643148151782691,
          "m": 30,
          "profit_mean": 1245.2436,
          "profit_std": 118.61010992835821,
          "s": 30
         },
         {
          "N": 1000,
          "S": 270,
          "lost_mean": 5.663,
          "lost_std": 12.0167313705863,
          "m": 30,
          "profit_mean": 1217.8612000000003,
          "profit_std": 132.81120921011095,
          "s": 30
         },
         {
          "N": 1000,
          "S": 280,
          "lost_mean": 4.551,
          "lost_std": 10.914509861900605,
          "m": 30,
          "profit_mean": 1252.7332000000001,
          "profit_std": 127.5637649643969,
          "s": 30
         },
         {
          "N": 1000,
          "S": 290,
          "lost_mean": 5.559,
          "lost_std": 12.501792424041193,
          "m": 30,
          "profit_mean": 1258.1283999999998,
          "profit_std": 123.57190793165681,
          "s": 30
         },
         {
          "N": 1000,
          "S": 300,
          "lost_mean": 5.366,
          "lost_std": 12.10043240816065,
          "m": 30,
          "profit_mean": 1239.6995000000004,
          "profit_std": 122.46052682550561,
          "s": 30
         },
         {
          "N": 1000,
          "S": 310,
          "lost_mean": 5.09,
          "lost_std": 11.500180613979683,
          "m": 30,
          "profit_mean": 1200.8056999999994,
          "profit_std": 132.66096362072295,
          "s": 30
         },
         {
          "N": 1000,
          "S": 150,
          "lost_mean": 7.459,
          "lost_std": 14.88441684665089,
          "m": 30,
          "profit_mean": 1222.4188000000001,
          "profit_std": 100.9965856694021,
          "s": 35
         },
         {
          "N": 1000,
          "S": 160,
          "lost_mean": 7.356,
          "lost_std": 14.461064496999743,
          "m": 30,
          "profit_mean": 1225.6929000000005,
          "profit_std": 106.17102168405196,
          "s": 35
         },
         {
          "N": 1000,
          "S": 170,
          "lost_mean": 6.987,
          "lost_std": 13.114298144232343,
          "m": 30,
          "profit_mean": 1209.6692999999998,
          "profit_std": 104.92211653435156,
          "s": 35
         },
         {
          "N": 1000,
          "S": 180,
          "lost_mean": 6.658,
          "lost_std": 12.651604605705122,
          "m": 30,
          "profit_mean": 1207.3799999999994,
          "profit_std": 105.86222901267256,
          "s": 35
         },
         {
          "N": 1000,
          "S": 190,
          "lost_mean": 5.475,
          "lost_std": 11.459786285166997,
          "m": 30,
          "profit_mean": 1243.3835000000001,
          "profit_std": 105.09118704889265,
          "s": 35
         },
         {
          "N": 1000,
          "S": 200,
          "lost_mean": 5.839,
          "lost_std": 12.754519071950797,
          "m": 30,
          "profit_mean": 1266.5751,
          "profit_std": 108.86528611320742,
          "s": 35
         },
         {
          "N": 1000,
          "S": 210,
          "lost_mean": 5.49,
          "lost_std": 12.524726295163848,
          "m": 30,
          "profit_mean": 1241.7917000000002,
          "profit_std": 115.37176120868745,
          "s": 35
         },
         {
          "N": 1000,
          "S": 220,
          "lost_mean": 4.829,
          "lost_std": 11.013221601786194,
          "m": 30,
          "profit_mean": 1211.6935000000003,
          "profit_std": 119.633824814681,
          "s": 35
         },
         {
          "N": 1000,
          "S": 280,
          "lost_mean": 4.032,
          "lost_std": 10.166628562917811,
          "m": 30,
          "profit_mean": 1210.8788999999997,
          "profit_std": 136.2093480319221,
          "s": 35
         },
         {
          "N": 1000,
          "S": 290,
          "lost_mean": 3.827,
          "lost_std": 10.693616059332994,
          "m": 30,
          "profit_mean": 1237.1174,
          "profit_std": 120.85840985414491,
          "s": 35
         },
         {
          "N": 1000,
          "S": 300,
          "lost_mean": 3.148,
          "lost_std": 8.21885914501798,
          "m": 30,
          "profit_mean": 1230.8906,
          "profit_std": 120.89053359445789,
          "s": 35
         },
         {
          "N": 1000,
          "S": 310,
          "lost_mean": 3.259,
          "lost_std": 10.018797098219691,
          "m": 30,
          "profit_mean": 1207.9512000000002,
          "profit_std": 128.7103369173952,
          "s": 35
         },
         {
          "N": 1000,
          "S": 160,
          "lost_mean": 5.383,
          "lost_std": 12.598215192082804,
          "m": 30,
          "profit_mean": 1213.8401999999999,
          "profit_std": 100.57412947413205,
          "s": 40
         },
         {
          "N": 1000,
          "S": 170,
          "lost_mean": 5.486,
          "lost_std": 12.83052712971788,
          "m": 30,
          "profit_mean": 1204.2852,
          "profit_std": 109.32361397947624,
          "s": 40
         },
         {
          "N": 1000,
          "S": 200,
          "lost_mean": 3.749,
          "lost_std": 9.807149391091134,
          "m": 30,
          "profit_mean": 1231.1434999999997,
          "profit_std": 113.41306627259203,
          "s": 40
         },
         {
          "N": 1000,
          "S": 210,
          "lost_mean": 3.504,
          "lost_std": 10.19440581446069,
          "m": 30,
          "profit_mean": 1246.4604999999997,
          "profit_std": 112.43129032789224,
          "s": 40
         },
         {
          "N": 1000,
          "S": 220,
          "lost_mean": 4.041,
          "lost_std": 10.112149849293898,
          "m": 30,
          "profit_mean": 1223.9846000000005,
          "profit_std": 115.28553490094669,
          "s": 40
         },
         {
          "N": 1000,
          "S": 300,
          "lost_mean": 2.547,
          "lost_std": 8.725475627432864,
          "m": 30,
          "profit_mean": 1220.44,
          "profit_std": 122.26009738018129,
          "s": 40
         },
         {
          "N": 1000,
          "S": 310,
          "lost_mean": 2.779,
          "lost_std": 9.088496011979082,
          "m": 30,
          "profit_mean": 1200.8228000000001,
          "profit_std": 121.02437878551751,
          "s": 40
         },
         {
          "N": 1000,
          "S": 210,
          "lost_mean": 2.868,
          "lost_std": 8.775510559824179,
          "m": 30,
          "profit_mean": 1220.5394000000001,
          "profit_std": 108.01215382082246,
          "s": 45
         },
         {
          "N": 1000,
          "S": 220,
          "lost_mean": 2.939,
          "lost_std": 9.07500053083385,
          "m": 30,
          "profit_mean": 1223.2257,
          "profit_std": 115.50340915763931,
          "s": 45
         },
         {
          "N": 1000,
          "S": 220,
          "lost_mean": 1.992,
          "lost_std": 7.584950063610669,
          "m": 30,
          "profit_mean": 1210.9642,
          "profit_std": 111.88685144325889,
          "s": 50
         }
        ]
       },
       "encoding": {
        "color": {
         "field": "profit_mean",
         "scale": {
          "scheme": "plasma"
         },
         "type": "quantitative"
        },
        "x": {
         "field": "S",
         "type": "quantitative"
        },
        "y": {
         "field": "s",
         "type": "quantitative"
        }
       },
       "mark": "point"
      },
      "image/png": "[encoded data removed]",
      "image/svg+xml": [
       "<?xml version=\"1.0\" encoding=\"utf-8\"?>\n",
       "<!DOCTYPE svg PUBLIC \"-//W3C//DTD SVG 1.1//EN\" \"http://www.w3.org/Graphics/SVG/1.1/DTD/svg11.dtd\">\n",
       "<svg xmlns=\"http://www.w3.org/2000/svg\" xmlns:xlink=\"http://www.w3.org/1999/xlink\" version=\"1.1\" class=\"marks\" width=\"329\" height=\"247\" viewBox=\"0 0 329 247\"><rect width=\"329\" height=\"247\" fill=\"white\"/><g fill=\"none\" stroke-miterlimit=\"10\" transform=\"translate(37,10)\"><g class=\"mark-group role-frame root\" role=\"graphics-object\" aria-roledescription=\"group mark container\"><g transform=\"translate(0,0)\"><path class=\"background\" aria-hidden=\"true\" d=\"M0.5,0.5h200v200h-200Z\" stroke=\"#ddd\"/><g><g class=\"mark-group role-axis\" aria-hidden=\"true\"><g transform=\"translate(0.5,200.5)\"><path class=\"background\" aria-hidden=\"true\" d=\"M0,0h0v0h0Z\" pointer-events=\"none\"/><g><g class=\"mark-rule role-axis-grid\" pointer-events=\"none\"><line transform=\"translate(0,-200)\" x2=\"0\" y2=\"200\" stroke=\"#ddd\" stroke-width=\"1\" opacity=\"1\"/><line transform=\"translate(29,-200)\" x2=\"0\" y2=\"200\" stroke=\"#ddd\" stroke-width=\"1\" opacity=\"1\"/><line transform=\"translate(57,-200)\" x2=\"0\" y2=\"200\" stroke=\"#ddd\" stroke-width=\"1\" opacity=\"1\"/><line transform=\"translate(86,-200)\" x2=\"0\" y2=\"200\" stroke=\"#ddd\" stroke-width=\"1\" opacity=\"1\"/><line transform=\"translate(114,-200)\" x2=\"0\" y2=\"200\" stroke=\"#ddd\" stroke-width=\"1\" opacity=\"1\"/><line transform=\"translate(143,-200)\" x2=\"0\" y2=\"200\" stroke=\"#ddd\" stroke-width=\"1\" opacity=\"1\"/><line transform=\"translate(171,-200)\" x2=\"0\" y2=\"200\" stroke=\"#ddd\" stroke-width=\"1\" opacity=\"1\"/><line transform=\"translate(200,-200)\" x2=\"0\" y2=\"200\" stroke=\"#ddd\" stroke-width=\"1\" opacity=\"1\"/></g></g><path class=\"foreground\" aria-hidden=\"true\" d=\"\" pointer-events=\"none\" display=\"none\"/></g></g><g class=\"mark-group role-axis\" aria-hidden=\"true\"><g transform=\"translate(0.5,0.5)\"><path class=\"background\" aria-hidden=\"true\" d=\"M0,0h0v0h0Z\" pointer-events=\"none\"/><g><g class=\"mark-rule role-axis-grid\" pointer-events=\"none\"><line transform=\"translate(0,200)\" x2=\"200\" y2=\"0\" stroke=\"#ddd\" stroke-width=\"1\" opacity=\"1\"/><line transform=\"translate(0,160)\" x2=\"200\" y2=\"0\" stroke=\"#ddd\" stroke-width=\"1\" opacity=\"1\"/><line transform=\"translate(0,120)\" x2=\"200\" y2=\"0\" stroke=\"#ddd\" stroke-width=\"1\" opacity=\"1\"/><line transform=\"translate(0,80)\" x2=\"200\" y2=\"0\" stroke=\"#ddd\" stroke-width=\"1\" opacity=\"1\"/><line transform=\"translate(0,40)\" x2=\"200\" y2=\"0\" stroke=\"#ddd\" stroke-width=\"1\" opacity=\"1\"/><line transform=\"translate(0,0)\" x2=\"200\" y2=\"0\" stroke=\"#ddd\" stroke-width=\"1\" opacity=\"1\"/></g></g><path class=\"foreground\" aria-hidden=\"true\" d=\"\" pointer-events=\"none\" display=\"none\"/></g></g><g class=\"mark-group role-axis\" role=\"graphics-symbol\" aria-roledescription=\"axis\" aria-label=\"X-axis titled 'S' for a linear scale with values from 0 to 350\"><g transform=\"translate(0.5,200.5)\"><path class=\"background\" aria-hidden=\"true\" d=\"M0,0h0v0h0Z\" pointer-events=\"none\"/><g><g class=\"mark-rule role-axis-tick\" pointer-events=\"none\"><line transform=\"translate(0,0)\" x2=\"0\" y2=\"5\" stroke=\"#888\" stroke-width=\"1\" opacity=\"1\"/><line transform=\"translate(29,0)\" x2=\"0\" y2=\"5\" stroke=\"#888\" stroke-width=\"1\" opacity=\"1\"/><line transform=\"translate(57,0)\" x2=\"0\" y2=\"5\" stroke=\"#888\" stroke-width=\"1\" opacity=\"1\"/><line transform=\"translate(86,0)\" x2=\"0\" y2=\"5\" stroke=\"#888\" stroke-width=\"1\" opacity=\"1\"/><line transform=\"translate(114,0)\" x2=\"0\" y2=\"5\" stroke=\"#888\" stroke-width=\"1\" opacity=\"1\"/><line transform=\"translate(143,0)\" x2=\"0\" y2=\"5\" stroke=\"#888\" stroke-width=\"1\" opacity=\"1\"/><line transform=\"translate(171,0)\" x2=\"0\" y2=\"5\" stroke=\"#888\" stroke-width=\"1\" opacity=\"1\"/><line transform=\"translate(200,0)\" x2=\"0\" y2=\"5\" stroke=\"#888\" stroke-width=\"1\" opacity=\"1\"/></g><g class=\"mark-text role-axis-label\" pointer-events=\"none\"><text text-anchor=\"start\" transform=\"translate(0,15)\" font-family=\"sans-serif\" font-size=\"10px\" fill=\"#000\" opacity=\"1\">0</text><text text-anchor=\"middle\" transform=\"translate(28.57142857142857,15)\" font-family=\"sans-serif\" font-size=\"10px\" fill=\"#000\" opacity=\"1\">50</text><text text-anchor=\"middle\" transform=\"translate(57.14285714285714,15)\" font-family=\"sans-serif\" font-size=\"10px\" fill=\"#000\" opacity=\"1\">100</text><text text-anchor=\"middle\" transform=\"translate(85.71428571428571,15)\" font-family=\"sans-serif\" font-size=\"10px\" fill=\"#000\" opacity=\"1\">150</text><text text-anchor=\"middle\" transform=\"translate(114.28571428571428,15)\" font-family=\"sans-serif\" font-size=\"10px\" fill=\"#000\" opacity=\"1\">200</text><text text-anchor=\"middle\" transform=\"translate(142.85714285714286,15)\" font-family=\"sans-serif\" font-size=\"10px\" fill=\"#000\" opacity=\"1\">250</text><text text-anchor=\"middle\" transform=\"translate(171.42857142857142,15)\" font-family=\"sans-serif\" font-size=\"10px\" fill=\"#000\" opacity=\"1\">300</text><text text-anchor=\"end\" transform=\"translate(200,15)\" font-family=\"sans-serif\" font-size=\"10px\" fill=\"#000\" opacity=\"1\">350</text></g><g class=\"mark-rule role-axis-domain\" pointer-events=\"none\"><line transform=\"translate(0,0)\" x2=\"200\" y2=\"0\" stroke=\"#888\" stroke-width=\"1\" opacity=\"1\"/></g><g class=\"mark-text role-axis-title\" pointer-events=\"none\"><text text-anchor=\"middle\" transform=\"translate(100,30)\" font-family=\"sans-serif\" font-size=\"11px\" font-weight=\"bold\" fill=\"#000\" opacity=\"1\">S</text></g></g><path class=\"foreground\" aria-hidden=\"true\" d=\"\" pointer-events=\"none\" display=\"none\"/></g></g><g class=\"mark-group role-axis\" role=\"graphics-symbol\" aria-roledescription=\"axis\" aria-label=\"Y-axis titled 's' for a linear scale with values from 0 to 50\"><g transform=\"translate(0.5,0.5)\"><path class=\"background\" aria-hidden=\"true\" d=\"M0,0h0v0h0Z\" pointer-events=\"none\"/><g><g class=\"mark-rule role-axis-tick\" pointer-events=\"none\"><line transform=\"translate(0,200)\" x2=\"-5\" y2=\"0\" stroke=\"#888\" stroke-width=\"1\" opacity=\"1\"/><line transform=\"translate(0,160)\" x2=\"-5\" y2=\"0\" stroke=\"#888\" stroke-width=\"1\" opacity=\"1\"/><line transform=\"translate(0,120)\" x2=\"-5\" y2=\"0\" stroke=\"#888\" stroke-width=\"1\" opacity=\"1\"/><line transform=\"translate(0,80)\" x2=\"-5\" y2=\"0\" stroke=\"#888\" stroke-width=\"1\" opacity=\"1\"/><line transform=\"translate(0,40)\" x2=\"-5\" y2=\"0\" stroke=\"#888\" stroke-width=\"1\" opacity=\"1\"/><line transform=\"translate(0,0)\" x2=\"-5\" y2=\"0\" stroke=\"#888\" stroke-width=\"1\" opacity=\"1\"/></g><g class=\"mark-text role-axis-label\" pointer-events=\"none\"><text text-anchor=\"end\" transform=\"translate(-7,203)\" font-family=\"sans-serif\" font-size=\"10px\" fill=\"#000\" opacity=\"1\">0</text><text text-anchor=\"end\" transform=\"translate(-7,163)\" font-family=\"sans-serif\" font-size=\"10px\" fill=\"#000\" opacity=\"1\">10</text><text text-anchor=\"end\" transform=\"translate(-7,123)\" font-family=\"sans-serif\" font-size=\"10px\" fill=\"#000\" opacity=\"1\">20</text><text text-anchor=\"end\" transform=\"translate(-7,83)\" font-family=\"sans-serif\" font-size=\"10px\" fill=\"#000\" opacity=\"1\">30</text><text text-anchor=\"end\" transform=\"translate(-7,42.99999999999999)\" font-family=\"sans-serif\" font-size=\"10px\" fill=\"#000\" opacity=\"1\">40</text><text text-anchor=\"end\" transform=\"translate(-7,3)\" font-family=\"sans-serif\" font-size=\"10px\" fill=\"#000\" opacity=\"1\">50</text></g><g class=\"mark-rule role-axis-domain\" pointer-events=\"none\"><line transform=\"translate(0,200)\" x2=\"0\" y2=\"-200\" stroke=\"#888\" stroke-width=\"1\" opacity=\"1\"/></g><g class=\"mark-text role-axis-title\" pointer-events=\"none\"><text text-anchor=\"middle\" transform=\"translate(-21,100) rotate(-90) translate(0,-2)\" font-family=\"sans-serif\" font-size=\"11px\" font-weight=\"bold\" fill=\"#000\" opacity=\"1\">s</text></g></g><path class=\"foreground\" aria-hidden=\"true\" d=\"\" pointer-events=\"none\" display=\"none\"/></g></g><g class=\"mark-symbol role-mark marks\" role=\"graphics-object\" aria-roledescription=\"symbol mark container\"><path aria-label=\"S: 120; s: 10; profit_mean: 1221.9755\" role=\"graphics-symbol\" aria-roledescription=\"point\" transform=\"translate(68.57142857142857,160)\" d=\"M2.7386127875258306,0A2.7386127875258306,2.7386127875258306,0,1,1,-2.7386127875258306,0A2.7386127875258306,2.7386127875258306,0,1,1,2.7386127875258306,0\" stroke=\"rgb(104, 0, 168)\" stroke-width=\"2\" opacity=\"0.7\"/><path aria-label=\"S: 130; s: 10; profit_mean: 1237.17\" role=\"graphics-symbol\" aria-roledescription=\"point\" transform=\"translate(74.28571428571429,160)\" d=\"M2.7386127875258306,0A2.7386127875258306,2.7386127875258306,0,1,1,-2.7386127875258306,0A2.7386127875258306,2.7386127875258306,0,1,1,2.7386127875258306,0\" stroke=\"rgb(157, 24, 157)\" stroke-width=\"2\" opacity=\"0.7\"/><path aria-label=\"S: 140; s: 10; profit_mean: 1223.1476\" role=\"graphics-symbol\" aria-roledescription=\"point\" transform=\"translate(80,160)\" d=\"M2.7386127875258306,0A2.7386127875258306,2.7386127875258306,0,1,1,-2.7386127875258306,0A2.7386127875258306,2.7386127875258306,0,1,1,2.7386127875258306,0\" stroke=\"rgb(109, 0, 168)\" stroke-width=\"2\" opacity=\"0.7\"/><path aria-label=\"S: 150; s: 10; profit_mean: 1229.5751\" role=\"graphics-symbol\" aria-roledescription=\"point\" transform=\"translate(85.71428571428571,160)\" d=\"M2.7386127875258306,0A2.7386127875258306,2.7386127875258306,0,1,1,-2.7386127875258306,0A2.7386127875258306,2.7386127875258306,0,1,1,2.7386127875258306,0\" stroke=\"rgb(132, 5, 167)\" stroke-width=\"2\" opacity=\"0.7\"/><path aria-label=\"S: 160; s: 10; profit_mean: 1280.3911\" role=\"graphics-symbol\" aria-roledescription=\"point\" transform=\"translate(91.42857142857143,160)\" d=\"M2.7386127875258306,0A2.7386127875258306,2.7386127875258306,0,1,1,-2.7386127875258306,0A2.7386127875258306,2.7386127875258306,0,1,1,2.7386127875258306,0\" stroke=\"rgb(246, 144, 67)\" stroke-width=\"2\" opacity=\"0.7\"/><path aria-label=\"S: 170; s: 10; profit_mean: 1295.8973\" role=\"graphics-symbol\" aria-roledescription=\"point\" transform=\"translate(97.14285714285714,160)\" d=\"M2.7386127875258306,0A2.7386127875258306,2.7386127875258306,0,1,1,-2.7386127875258306,0A2.7386127875258306,2.7386127875258306,0,1,1,2.7386127875258306,0\" stroke=\"rgb(253, 198, 39)\" stroke-width=\"2\" opacity=\"0.7\"/><path aria-label=\"S: 180; s: 10; profit_mean: 1274.1175\" role=\"graphics-symbol\" aria-roledescription=\"point\" transform=\"translate(102.85714285714285,160)\" d=\"M2.7386127875258306,0A2.7386127875258306,2.7386127875258306,0,1,1,-2.7386127875258306,0A2.7386127875258306,2.7386127875258306,0,1,1,2.7386127875258306,0\" stroke=\"rgb(239, 125, 80)\" stroke-width=\"2\" opacity=\"0.7\"/><path aria-label=\"S: 190; s: 10; profit_mean: 1241.0229\" role=\"graphics-symbol\" aria-roledescription=\"point\" transform=\"translate(108.57142857142857,160)\" d=\"M2.7386127875258306,0A2.7386127875258306,2.7386127875258306,0,1,1,-2.7386127875258306,0A2.7386127875258306,2.7386127875258306,0,1,1,2.7386127875258306,0\" stroke=\"rgb(169, 35, 151)\" stroke-width=\"2\" opacity=\"0.7\"/><path aria-label=\"S: 200; s: 10; profit_mean: 1204.2041\" role=\"graphics-symbol\" aria-roledescription=\"point\" transform=\"translate(114.28571428571428,160)\" d=\"M2.7386127875258306,0A2.7386127875258306,2.7386127875258306,0,1,1,-2.7386127875258306,0A2.7386127875258306,2.7386127875258306,0,1,1,2.7386127875258306,0\" stroke=\"rgb(34, 6, 143)\" stroke-width=\"2\" opacity=\"0.7\"/><path aria-label=\"S: 230; s: 10; profit_mean: 1217.7191\" role=\"graphics-symbol\" aria-roledescription=\"point\" transform=\"translate(131.42857142857142,160)\" d=\"M2.7386127875258306,0A2.7386127875258306,2.7386127875258306,0,1,1,-2.7386127875258306,0A2.7386127875258306,2.7386127875258306,0,1,1,2.7386127875258306,0\" stroke=\"rgb(89, 1, 165)\" stroke-width=\"2\" opacity=\"0.7\"/><path aria-label=\"S: 240; s: 10; profit_mean: 1253.3675\" role=\"graphics-symbol\" aria-roledescription=\"point\" transform=\"translate(137.14285714285714,160)\" d=\"M2.7386127875258306,0A2.7386127875258306,2.7386127875258306,0,1,1,-2.7386127875258306,0A2.7386127875258306,2.7386127875258306,0,1,1,2.7386127875258306,0\" stroke=\"rgb(200, 67, 124)\" stroke-width=\"2\" opacity=\"0.7\"/><path aria-label=\"S: 250; s: 10; profit_mean: 1306.9866\" role=\"graphics-symbol\" aria-roledescription=\"point\" transform=\"translate(142.85714285714286,160)\" d=\"M2.7386127875258306,0A2.7386127875258306,2.7386127875258306,0,1,1,-2.7386127875258306,0A2.7386127875258306,2.7386127875258306,0,1,1,2.7386127875258306,0\" stroke=\"rgb(243, 241, 36)\" stroke-width=\"2\" opacity=\"0.7\"/><path aria-label=\"S: 260; s: 10; profit_mean: 1307.8206\" role=\"graphics-symbol\" aria-roledescription=\"point\" transform=\"translate(148.57142857142858,160)\" d=\"M2.7386127875258306,0A2.7386127875258306,2.7386127875258306,0,1,1,-2.7386127875258306,0A2.7386127875258306,2.7386127875258306,0,1,1,2.7386127875258306,0\" stroke=\"rgb(241, 245, 35)\" stroke-width=\"2\" opacity=\"0.7\"/><path aria-label=\"S: 270; s: 10; profit_mean: 1286.4594\" role=\"graphics-symbol\" aria-roledescription=\"point\" transform=\"translate(154.2857142857143,160)\" d=\"M2.7386127875258306,0A2.7386127875258306,2.7386127875258306,0,1,1,-2.7386127875258306,0A2.7386127875258306,2.7386127875258306,0,1,1,2.7386127875258306,0\" stroke=\"rgb(252, 164, 55)\" stroke-width=\"2\" opacity=\"0.7\"/><path aria-label=\"S: 280; s: 10; profit_mean: 1250.5556\" role=\"graphics-symbol\" aria-roledescription=\"point\" transform=\"translate(160,160)\" d=\"M2.7386127875258306,0A2.7386127875258306,2.7386127875258306,0,1,1,-2.7386127875258306,0A2.7386127875258306,2.7386127875258306,0,1,1,2.7386127875258306,0\" stroke=\"rgb(193, 59, 129)\" stroke-width=\"2\" opacity=\"0.7\"/><path aria-label=\"S: 290; s: 10; profit_mean: 1220.7918\" role=\"graphics-symbol\" aria-roledescription=\"point\" transform=\"translate(165.71428571428572,160)\" d=\"M2.7386127875258306,0A2.7386127875258306,2.7386127875258306,0,1,1,-2.7386127875258306,0A2.7386127875258306,2.7386127875258306,0,1,1,2.7386127875258306,0\" stroke=\"rgb(100, 0, 167)\" stroke-width=\"2\" opacity=\"0.7\"/><path aria-label=\"S: 120; s: 15; profit_mean: 1220.8081\" role=\"graphics-symbol\" aria-roledescription=\"point\" transform=\"translate(68.57142857142857,140)\" d=\"M2.7386127875258306,0A2.7386127875258306,2.7386127875258306,0,1,1,-2.7386127875258306,0A2.7386127875258306,2.7386127875258306,0,1,1,2.7386127875258306,0\" stroke=\"rgb(100, 0, 167)\" stroke-width=\"2\" opacity=\"0.7\"/><path aria-label=\"S: 130; s: 15; profit_mean: 1253.3125\" role=\"graphics-symbol\" aria-roledescription=\"point\" transform=\"translate(74.28571428571429,140)\" d=\"M2.7386127875258306,0A2.7386127875258306,2.7386127875258306,0,1,1,-2.7386127875258306,0A2.7386127875258306,2.7386127875258306,0,1,1,2.7386127875258306,0\" stroke=\"rgb(200, 67, 124)\" stroke-width=\"2\" opacity=\"0.7\"/><path aria-label=\"S: 140; s: 15; profit_mean: 1245.5914\" role=\"graphics-symbol\" aria-roledescription=\"point\" transform=\"translate(80,140)\" d=\"M2.7386127875258306,0A2.7386127875258306,2.7386127875258306,0,1,1,-2.7386127875258306,0A2.7386127875258306,2.7386127875258306,0,1,1,2.7386127875258306,0\" stroke=\"rgb(181, 46, 140)\" stroke-width=\"2\" opacity=\"0.7\"/><path aria-label=\"S: 150; s: 15; profit_mean: 1237.5475\" role=\"graphics-symbol\" aria-roledescription=\"point\" transform=\"translate(85.71428571428571,140)\" d=\"M2.7386127875258306,0A2.7386127875258306,2.7386127875258306,0,1,1,-2.7386127875258306,0A2.7386127875258306,2.7386127875258306,0,1,1,2.7386127875258306,0\" stroke=\"rgb(158, 25, 157)\" stroke-width=\"2\" opacity=\"0.7\"/><path aria-label=\"S: 160; s: 15; profit_mean: 1259.4145\" role=\"graphics-symbol\" aria-roledescription=\"point\" transform=\"translate(91.42857142857143,140)\" d=\"M2.7386127875258306,0A2.7386127875258306,2.7386127875258306,0,1,1,-2.7386127875258306,0A2.7386127875258306,2.7386127875258306,0,1,1,2.7386127875258306,0\" stroke=\"rgb(213, 84, 111)\" stroke-width=\"2\" opacity=\"0.7\"/><path aria-label=\"S: 170; s: 15; profit_mean: 1305.4485\" role=\"graphics-symbol\" aria-roledescription=\"point\" transform=\"translate(97.14285714285714,140)\" d=\"M2.7386127875258306,0A2.7386127875258306,2.7386127875258306,0,1,1,-2.7386127875258306,0A2.7386127875258306,2.7386127875258306,0,1,1,2.7386127875258306,0\" stroke=\"rgb(245, 235, 39)\" stroke-width=\"2\" opacity=\"0.7\"/><path aria-label=\"S: 180; s: 15; profit_mean: 1305.657\" role=\"graphics-symbol\" aria-roledescription=\"point\" transform=\"translate(102.85714285714285,140)\" d=\"M2.7386127875258306,0A2.7386127875258306,2.7386127875258306,0,1,1,-2.7386127875258306,0A2.7386127875258306,2.7386127875258306,0,1,1,2.7386127875258306,0\" stroke=\"rgb(244, 236, 38)\" stroke-width=\"2\" opacity=\"0.7\"/><path aria-label=\"S: 190; s: 15; profit_mean: 1267.6961\" role=\"graphics-symbol\" aria-roledescription=\"point\" transform=\"translate(108.57142857142857,140)\" d=\"M2.7386127875258306,0A2.7386127875258306,2.7386127875258306,0,1,1,-2.7386127875258306,0A2.7386127875258306,2.7386127875258306,0,1,1,2.7386127875258306,0\" stroke=\"rgb(228, 106, 94)\" stroke-width=\"2\" opacity=\"0.7\"/><path aria-label=\"S: 200; s: 15; profit_mean: 1227.8697\" role=\"graphics-symbol\" aria-roledescription=\"point\" transform=\"translate(114.28571428571428,140)\" d=\"M2.7386127875258306,0A2.7386127875258306,2.7386127875258306,0,1,1,-2.7386127875258306,0A2.7386127875258306,2.7386127875258306,0,1,1,2.7386127875258306,0\" stroke=\"rgb(126, 3, 167)\" stroke-width=\"2\" opacity=\"0.7\"/><path aria-label=\"S: 240; s: 15; profit_mean: 1225.8602\" role=\"graphics-symbol\" aria-roledescription=\"point\" transform=\"translate(137.14285714285714,140)\" d=\"M2.7386127875258306,0A2.7386127875258306,2.7386127875258306,0,1,1,-2.7386127875258306,0A2.7386127875258306,2.7386127875258306,0,1,1,2.7386127875258306,0\" stroke=\"rgb(119, 1, 168)\" stroke-width=\"2\" opacity=\"0.7\"/><path aria-label=\"S: 250; s: 15; profit_mean: 1274.5508\" role=\"graphics-symbol\" aria-roledescription=\"point\" transform=\"translate(142.85714285714286,140)\" d=\"M2.7386127875258306,0A2.7386127875258306,2.7386127875258306,0,1,1,-2.7386127875258306,0A2.7386127875258306,2.7386127875258306,0,1,1,2.7386127875258306,0\" stroke=\"rgb(239, 126, 80)\" stroke-width=\"2\" opacity=\"0.7\"/><path aria-label=\"S: 260; s: 15; profit_mean: 1301.735\" role=\"graphics-symbol\" aria-roledescription=\"point\" transform=\"translate(148.57142857142858,140)\" d=\"M2.7386127875258306,0A2.7386127875258306,2.7386127875258306,0,1,1,-2.7386127875258306,0A2.7386127875258306,2.7386127875258306,0,1,1,2.7386127875258306,0\" stroke=\"rgb(249, 221, 36)\" stroke-width=\"2\" opacity=\"0.7\"/><path aria-label=\"S: 270; s: 15; profit_mean: 1305.8228\" role=\"graphics-symbol\" aria-roledescription=\"point\" transform=\"translate(154.2857142857143,140)\" d=\"M2.7386127875258306,0A2.7386127875258306,2.7386127875258306,0,1,1,-2.7386127875258306,0A2.7386127875258306,2.7386127875258306,0,1,1,2.7386127875258306,0\" stroke=\"rgb(244, 237, 38)\" stroke-width=\"2\" opacity=\"0.7\"/><path aria-label=\"S: 280; s: 15; profit_mean: 1269.2469\" role=\"graphics-symbol\" aria-roledescription=\"point\" transform=\"translate(160,140)\" d=\"M2.7386127875258306,0A2.7386127875258306,2.7386127875258306,0,1,1,-2.7386127875258306,0A2.7386127875258306,2.7386127875258306,0,1,1,2.7386127875258306,0\" stroke=\"rgb(231, 110, 91)\" stroke-width=\"2\" opacity=\"0.7\"/><path aria-label=\"S: 290; s: 15; profit_mean: 1235.7539\" role=\"graphics-symbol\" aria-roledescription=\"point\" transform=\"translate(165.71428571428572,140)\" d=\"M2.7386127875258306,0A2.7386127875258306,2.7386127875258306,0,1,1,-2.7386127875258306,0A2.7386127875258306,2.7386127875258306,0,1,1,2.7386127875258306,0\" stroke=\"rgb(153, 20, 160)\" stroke-width=\"2\" opacity=\"0.7\"/><path aria-label=\"S: 120; s: 20; profit_mean: 1205.3445\" role=\"graphics-symbol\" aria-roledescription=\"point\" transform=\"translate(68.57142857142857,120)\" d=\"M2.7386127875258306,0A2.7386127875258306,2.7386127875258306,0,1,1,-2.7386127875258306,0A2.7386127875258306,2.7386127875258306,0,1,1,2.7386127875258306,0\" stroke=\"rgb(39, 6, 146)\" stroke-width=\"2\" opacity=\"0.7\"/><path aria-label=\"S: 130; s: 20; profit_mean: 1237.1717\" role=\"graphics-symbol\" aria-roledescription=\"point\" transform=\"translate(74.28571428571429,120)\" d=\"M2.7386127875258306,0A2.7386127875258306,2.7386127875258306,0,1,1,-2.7386127875258306,0A2.7386127875258306,2.7386127875258306,0,1,1,2.7386127875258306,0\" stroke=\"rgb(157, 24, 157)\" stroke-width=\"2\" opacity=\"0.7\"/><path aria-label=\"S: 140; s: 20; profit_mean: 1257.9719\" role=\"graphics-symbol\" aria-roledescription=\"point\" transform=\"translate(80,120)\" d=\"M2.7386127875258306,0A2.7386127875258306,2.7386127875258306,0,1,1,-2.7386127875258306,0A2.7386127875258306,2.7386127875258306,0,1,1,2.7386127875258306,0\" stroke=\"rgb(210, 80, 114)\" stroke-width=\"2\" opacity=\"0.7\"/><path aria-label=\"S: 150; s: 20; profit_mean: 1234.4948\" role=\"graphics-symbol\" aria-roledescription=\"point\" transform=\"translate(85.71428571428571,120)\" d=\"M2.7386127875258306,0A2.7386127875258306,2.7386127875258306,0,1,1,-2.7386127875258306,0A2.7386127875258306,2.7386127875258306,0,1,1,2.7386127875258306,0\" stroke=\"rgb(148, 17, 162)\" stroke-width=\"2\" opacity=\"0.7\"/><path aria-label=\"S: 160; s: 20; profit_mean: 1236.3882\" role=\"graphics-symbol\" aria-roledescription=\"point\" transform=\"translate(91.42857142857143,120)\" d=\"M2.7386127875258306,0A2.7386127875258306,2.7386127875258306,0,1,1,-2.7386127875258306,0A2.7386127875258306,2.7386127875258306,0,1,1,2.7386127875258306,0\" stroke=\"rgb(155, 22, 159)\" stroke-width=\"2\" opacity=\"0.7\"/><path aria-label=\"S: 170; s: 20; profit_mean: 1273.3798\" role=\"graphics-symbol\" aria-roledescription=\"point\" transform=\"translate(97.14285714285714,120)\" d=\"M2.7386127875258306,0A2.7386127875258306,2.7386127875258306,0,1,1,-2.7386127875258306,0A2.7386127875258306,2.7386127875258306,0,1,1,2.7386127875258306,0\" stroke=\"rgb(238, 123, 82)\" stroke-width=\"2\" opacity=\"0.7\"/><path aria-label=\"S: 180; s: 20; profit_mean: 1308.7955\" role=\"graphics-symbol\" aria-roledescription=\"point\" transform=\"translate(102.85714285714285,120)\" d=\"M2.7386127875258306,0A2.7386127875258306,2.7386127875258306,0,1,1,-2.7386127875258306,0A2.7386127875258306,2.7386127875258306,0,1,1,2.7386127875258306,0\" stroke=\"rgb(240, 249, 33)\" stroke-width=\"2\" opacity=\"0.7\"/><path aria-label=\"S: 190; s: 20; profit_mean: 1289.8327\" role=\"graphics-symbol\" aria-roledescription=\"point\" transform=\"translate(108.57142857142857,120)\" d=\"M2.7386127875258306,0A2.7386127875258306,2.7386127875258306,0,1,1,-2.7386127875258306,0A2.7386127875258306,2.7386127875258306,0,1,1,2.7386127875258306,0\" stroke=\"rgb(253, 176, 49)\" stroke-width=\"2\" opacity=\"0.7\"/><path aria-label=\"S: 200; s: 20; profit_mean: 1247.7578\" role=\"graphics-symbol\" aria-roledescription=\"point\" transform=\"translate(114.28571428571428,120)\" d=\"M2.7386127875258306,0A2.7386127875258306,2.7386127875258306,0,1,1,-2.7386127875258306,0A2.7386127875258306,2.7386127875258306,0,1,1,2.7386127875258306,0\" stroke=\"rgb(186, 52, 136)\" stroke-width=\"2\" opacity=\"0.7\"/><path aria-label=\"S: 210; s: 20; profit_mean: 1211.2132\" role=\"graphics-symbol\" aria-roledescription=\"point\" transform=\"translate(120,120)\" d=\"M2.7386127875258306,0A2.7386127875258306,2.7386127875258306,0,1,1,-2.7386127875258306,0A2.7386127875258306,2.7386127875258306,0,1,1,2.7386127875258306,0\" stroke=\"rgb(64, 3, 156)\" stroke-width=\"2\" opacity=\"0.7\"/><path aria-label=\"S: 250; s: 20; profit_mean: 1231.1456\" role=\"graphics-symbol\" aria-roledescription=\"point\" transform=\"translate(142.85714285714286,120)\" d=\"M2.7386127875258306,0A2.7386127875258306,2.7386127875258306,0,1,1,-2.7386127875258306,0A2.7386127875258306,2.7386127875258306,0,1,1,2.7386127875258306,0\" stroke=\"rgb(137, 8, 166)\" stroke-width=\"2\" opacity=\"0.7\"/><path aria-label=\"S: 260; s: 20; profit_mean: 1275.1824\" role=\"graphics-symbol\" aria-roledescription=\"point\" transform=\"translate(148.57142857142858,120)\" d=\"M2.7386127875258306,0A2.7386127875258306,2.7386127875258306,0,1,1,-2.7386127875258306,0A2.7386127875258306,2.7386127875258306,0,1,1,2.7386127875258306,0\" stroke=\"rgb(240, 128, 78)\" stroke-width=\"2\" opacity=\"0.7\"/><path aria-label=\"S: 270; s: 20; profit_mean: 1300.4865\" role=\"graphics-symbol\" aria-roledescription=\"point\" transform=\"translate(154.2857142857143,120)\" d=\"M2.7386127875258306,0A2.7386127875258306,2.7386127875258306,0,1,1,-2.7386127875258306,0A2.7386127875258306,2.7386127875258306,0,1,1,2.7386127875258306,0\" stroke=\"rgb(250, 216, 36)\" stroke-width=\"2\" opacity=\"0.7\"/><path aria-label=\"S: 280; s: 20; profit_mean: 1276.2404\" role=\"graphics-symbol\" aria-roledescription=\"point\" transform=\"translate(160,120)\" d=\"M2.7386127875258306,0A2.7386127875258306,2.7386127875258306,0,1,1,-2.7386127875258306,0A2.7386127875258306,2.7386127875258306,0,1,1,2.7386127875258306,0\" stroke=\"rgb(242, 131, 76)\" stroke-width=\"2\" opacity=\"0.7\"/><path aria-label=\"S: 290; s: 20; profit_mean: 1244.5542\" role=\"graphics-symbol\" aria-roledescription=\"point\" transform=\"translate(165.71428571428572,120)\" d=\"M2.7386127875258306,0A2.7386127875258306,2.7386127875258306,0,1,1,-2.7386127875258306,0A2.7386127875258306,2.7386127875258306,0,1,1,2.7386127875258306,0\" stroke=\"rgb(178, 44, 143)\" stroke-width=\"2\" opacity=\"0.7\"/><path aria-label=\"S: 300; s: 20; profit_mean: 1217.9495\" role=\"graphics-symbol\" aria-roledescription=\"point\" transform=\"translate(171.42857142857142,120)\" d=\"M2.7386127875258306,0A2.7386127875258306,2.7386127875258306,0,1,1,-2.7386127875258306,0A2.7386127875258306,2.7386127875258306,0,1,1,2.7386127875258306,0\" stroke=\"rgb(90, 1, 165)\" stroke-width=\"2\" opacity=\"0.7\"/><path aria-label=\"S: 130; s: 25; profit_mean: 1211.2061\" role=\"graphics-symbol\" aria-roledescription=\"point\" transform=\"translate(74.28571428571429,100)\" d=\"M2.7386127875258306,0A2.7386127875258306,2.7386127875258306,0,1,1,-2.7386127875258306,0A2.7386127875258306,2.7386127875258306,0,1,1,2.7386127875258306,0\" stroke=\"rgb(64, 3, 156)\" stroke-width=\"2\" opacity=\"0.7\"/><path aria-label=\"S: 140; s: 25; profit_mean: 1254.1981\" role=\"graphics-symbol\" aria-roledescription=\"point\" transform=\"translate(80,100)\" d=\"M2.7386127875258306,0A2.7386127875258306,2.7386127875258306,0,1,1,-2.7386127875258306,0A2.7386127875258306,2.7386127875258306,0,1,1,2.7386127875258306,0\" stroke=\"rgb(202, 69, 122)\" stroke-width=\"2\" opacity=\"0.7\"/><path aria-label=\"S: 150; s: 25; profit_mean: 1246.9987\" role=\"graphics-symbol\" aria-roledescription=\"point\" transform=\"translate(85.71428571428571,100)\" d=\"M2.7386127875258306,0A2.7386127875258306,2.7386127875258306,0,1,1,-2.7386127875258306,0A2.7386127875258306,2.7386127875258306,0,1,1,2.7386127875258306,0\" stroke=\"rgb(184, 50, 137)\" stroke-width=\"2\" opacity=\"0.7\"/><path aria-label=\"S: 160; s: 25; profit_mean: 1229.3961\" role=\"graphics-symbol\" aria-roledescription=\"point\" transform=\"translate(91.42857142857143,100)\" d=\"M2.7386127875258306,0A2.7386127875258306,2.7386127875258306,0,1,1,-2.7386127875258306,0A2.7386127875258306,2.7386127875258306,0,1,1,2.7386127875258306,0\" stroke=\"rgb(131, 5, 167)\" stroke-width=\"2\" opacity=\"0.7\"/><path aria-label=\"S: 170; s: 25; profit_mean: 1242.3199\" role=\"graphics-symbol\" aria-roledescription=\"point\" transform=\"translate(97.14285714285714,100)\" d=\"M2.7386127875258306,0A2.7386127875258306,2.7386127875258306,0,1,1,-2.7386127875258306,0A2.7386127875258306,2.7386127875258306,0,1,1,2.7386127875258306,0\" stroke=\"rgb(172, 38, 148)\" stroke-width=\"2\" opacity=\"0.7\"/><path aria-label=\"S: 180; s: 25; profit_mean: 1279.2454\" role=\"graphics-symbol\" aria-roledescription=\"point\" transform=\"translate(102.85714285714285,100)\" d=\"M2.7386127875258306,0A2.7386127875258306,2.7386127875258306,0,1,1,-2.7386127875258306,0A2.7386127875258306,2.7386127875258306,0,1,1,2.7386127875258306,0\" stroke=\"rgb(245, 140, 70)\" stroke-width=\"2\" opacity=\"0.7\"/><path aria-label=\"S: 190; s: 25; profit_mean: 1298.2658\" role=\"graphics-symbol\" aria-roledescription=\"point\" transform=\"translate(108.57142857142857,100)\" d=\"M2.7386127875258306,0A2.7386127875258306,2.7386127875258306,0,1,1,-2.7386127875258306,0A2.7386127875258306,2.7386127875258306,0,1,1,2.7386127875258306,0\" stroke=\"rgb(252, 207, 37)\" stroke-width=\"2\" opacity=\"0.7\"/><path aria-label=\"S: 200; s: 25; profit_mean: 1270.9656\" role=\"graphics-symbol\" aria-roledescription=\"point\" transform=\"translate(114.28571428571428,100)\" d=\"M2.7386127875258306,0A2.7386127875258306,2.7386127875258306,0,1,1,-2.7386127875258306,0A2.7386127875258306,2.7386127875258306,0,1,1,2.7386127875258306,0\" stroke=\"rgb(234, 115, 87)\" stroke-width=\"2\" opacity=\"0.7\"/><path aria-label=\"S: 210; s: 25; profit_mean: 1234.9552\" role=\"graphics-symbol\" aria-roledescription=\"point\" transform=\"translate(120,100)\" d=\"M2.7386127875258306,0A2.7386127875258306,2.7386127875258306,0,1,1,-2.7386127875258306,0A2.7386127875258306,2.7386127875258306,0,1,1,2.7386127875258306,0\" stroke=\"rgb(150, 18, 161)\" stroke-width=\"2\" opacity=\"0.7\"/><path aria-label=\"S: 260; s: 25; profit_mean: 1226.7263\" role=\"graphics-symbol\" aria-roledescription=\"point\" transform=\"translate(148.57142857142858,100)\" d=\"M2.7386127875258306,0A2.7386127875258306,2.7386127875258306,0,1,1,-2.7386127875258306,0A2.7386127875258306,2.7386127875258306,0,1,1,2.7386127875258306,0\" stroke=\"rgb(122, 2, 168)\" stroke-width=\"2\" opacity=\"0.7\"/><path aria-label=\"S: 270; s: 25; profit_mean: 1268.3445\" role=\"graphics-symbol\" aria-roledescription=\"point\" transform=\"translate(154.2857142857143,100)\" d=\"M2.7386127875258306,0A2.7386127875258306,2.7386127875258306,0,1,1,-2.7386127875258306,0A2.7386127875258306,2.7386127875258306,0,1,1,2.7386127875258306,0\" stroke=\"rgb(230, 108, 93)\" stroke-width=\"2\" opacity=\"0.7\"/><path aria-label=\"S: 280; s: 25; profit_mean: 1283.186\" role=\"graphics-symbol\" aria-roledescription=\"point\" transform=\"translate(160,100)\" d=\"M2.7386127875258306,0A2.7386127875258306,2.7386127875258306,0,1,1,-2.7386127875258306,0A2.7386127875258306,2.7386127875258306,0,1,1,2.7386127875258306,0\" stroke=\"rgb(250, 153, 62)\" stroke-width=\"2\" opacity=\"0.7\"/><path aria-label=\"S: 290; s: 25; profit_mean: 1258.1581\" role=\"graphics-symbol\" aria-roledescription=\"point\" transform=\"translate(165.71428571428572,100)\" d=\"M2.7386127875258306,0A2.7386127875258306,2.7386127875258306,0,1,1,-2.7386127875258306,0A2.7386127875258306,2.7386127875258306,0,1,1,2.7386127875258306,0\" stroke=\"rgb(210, 80, 114)\" stroke-width=\"2\" opacity=\"0.7\"/><path aria-label=\"S: 300; s: 25; profit_mean: 1232.1326\" role=\"graphics-symbol\" aria-roledescription=\"point\" transform=\"translate(171.42857142857142,100)\" d=\"M2.7386127875258306,0A2.7386127875258306,2.7386127875258306,0,1,1,-2.7386127875258306,0A2.7386127875258306,2.7386127875258306,0,1,1,2.7386127875258306,0\" stroke=\"rgb(140, 11, 165)\" stroke-width=\"2\" opacity=\"0.7\"/><path aria-label=\"S: 140; s: 30; profit_mean: 1228.0586\" role=\"graphics-symbol\" aria-roledescription=\"point\" transform=\"translate(80,80)\" d=\"M2.7386127875258306,0A2.7386127875258306,2.7386127875258306,0,1,1,-2.7386127875258306,0A2.7386127875258306,2.7386127875258306,0,1,1,2.7386127875258306,0\" stroke=\"rgb(127, 3, 167)\" stroke-width=\"2\" opacity=\"0.7\"/><path aria-label=\"S: 150; s: 30; profit_mean: 1249.745\" role=\"graphics-symbol\" aria-roledescription=\"point\" transform=\"translate(85.71428571428571,80)\" d=\"M2.7386127875258306,0A2.7386127875258306,2.7386127875258306,0,1,1,-2.7386127875258306,0A2.7386127875258306,2.7386127875258306,0,1,1,2.7386127875258306,0\" stroke=\"rgb(191, 57, 131)\" stroke-width=\"2\" opacity=\"0.7\"/><path aria-label=\"S: 160; s: 30; profit_mean: 1225.9841\" role=\"graphics-symbol\" aria-roledescription=\"point\" transform=\"translate(91.42857142857143,80)\" d=\"M2.7386127875258306,0A2.7386127875258306,2.7386127875258306,0,1,1,-2.7386127875258306,0A2.7386127875258306,2.7386127875258306,0,1,1,2.7386127875258306,0\" stroke=\"rgb(120, 1, 168)\" stroke-width=\"2\" opacity=\"0.7\"/><path aria-label=\"S: 170; s: 30; profit_mean: 1210.3669\" role=\"graphics-symbol\" aria-roledescription=\"point\" transform=\"translate(97.14285714285714,80)\" d=\"M2.7386127875258306,0A2.7386127875258306,2.7386127875258306,0,1,1,-2.7386127875258306,0A2.7386127875258306,2.7386127875258306,0,1,1,2.7386127875258306,0\" stroke=\"rgb(61, 4, 155)\" stroke-width=\"2\" opacity=\"0.7\"/><path aria-label=\"S: 180; s: 30; profit_mean: 1242.0268\" role=\"graphics-symbol\" aria-roledescription=\"point\" transform=\"translate(102.85714285714285,80)\" d=\"M2.7386127875258306,0A2.7386127875258306,2.7386127875258306,0,1,1,-2.7386127875258306,0A2.7386127875258306,2.7386127875258306,0,1,1,2.7386127875258306,0\" stroke=\"rgb(172, 37, 148)\" stroke-width=\"2\" opacity=\"0.7\"/><path aria-label=\"S: 190; s: 30; profit_mean: 1280.9768\" role=\"graphics-symbol\" aria-roledescription=\"point\" transform=\"translate(108.57142857142857,80)\" d=\"M2.7386127875258306,0A2.7386127875258306,2.7386127875258306,0,1,1,-2.7386127875258306,0A2.7386127875258306,2.7386127875258306,0,1,1,2.7386127875258306,0\" stroke=\"rgb(247, 146, 66)\" stroke-width=\"2\" opacity=\"0.7\"/><path aria-label=\"S: 200; s: 30; profit_mean: 1280.1109\" role=\"graphics-symbol\" aria-roledescription=\"point\" transform=\"translate(114.28571428571428,80)\" d=\"M2.7386127875258306,0A2.7386127875258306,2.7386127875258306,0,1,1,-2.7386127875258306,0A2.7386127875258306,2.7386127875258306,0,1,1,2.7386127875258306,0\" stroke=\"rgb(246, 143, 68)\" stroke-width=\"2\" opacity=\"0.7\"/><path aria-label=\"S: 210; s: 30; profit_mean: 1245.2436\" role=\"graphics-symbol\" aria-roledescription=\"point\" transform=\"translate(120,80)\" d=\"M2.7386127875258306,0A2.7386127875258306,2.7386127875258306,0,1,1,-2.7386127875258306,0A2.7386127875258306,2.7386127875258306,0,1,1,2.7386127875258306,0\" stroke=\"rgb(180, 45, 141)\" stroke-width=\"2\" opacity=\"0.7\"/><path aria-label=\"S: 270; s: 30; profit_mean: 1217.8612\" role=\"graphics-symbol\" aria-roledescription=\"point\" transform=\"translate(154.2857142857143,80)\" d=\"M2.7386127875258306,0A2.7386127875258306,2.7386127875258306,0,1,1,-2.7386127875258306,0A2.7386127875258306,2.7386127875258306,0,1,1,2.7386127875258306,0\" stroke=\"rgb(90, 1, 165)\" stroke-width=\"2\" opacity=\"0.7\"/><path aria-label=\"S: 280; s: 30; profit_mean: 1252.7332\" role=\"graphics-symbol\" aria-roledescription=\"point\" transform=\"translate(160,80)\" d=\"M2.7386127875258306,0A2.7386127875258306,2.7386127875258306,0,1,1,-2.7386127875258306,0A2.7386127875258306,2.7386127875258306,0,1,1,2.7386127875258306,0\" stroke=\"rgb(198, 65, 125)\" stroke-width=\"2\" opacity=\"0.7\"/><path aria-label=\"S: 290; s: 30; profit_mean: 1258.1284\" role=\"graphics-symbol\" aria-roledescription=\"point\" transform=\"translate(165.71428571428572,80)\" d=\"M2.7386127875258306,0A2.7386127875258306,2.7386127875258306,0,1,1,-2.7386127875258306,0A2.7386127875258306,2.7386127875258306,0,1,1,2.7386127875258306,0\" stroke=\"rgb(210, 80, 114)\" stroke-width=\"2\" opacity=\"0.7\"/><path aria-label=\"S: 300; s: 30; profit_mean: 1239.6995\" role=\"graphics-symbol\" aria-roledescription=\"point\" transform=\"translate(171.42857142857142,80)\" d=\"M2.7386127875258306,0A2.7386127875258306,2.7386127875258306,0,1,1,-2.7386127875258306,0A2.7386127875258306,2.7386127875258306,0,1,1,2.7386127875258306,0\" stroke=\"rgb(165, 31, 153)\" stroke-width=\"2\" opacity=\"0.7\"/><path aria-label=\"S: 310; s: 30; profit_mean: 1200.8057\" role=\"graphics-symbol\" aria-roledescription=\"point\" transform=\"translate(177.14285714285714,80)\" d=\"M2.7386127875258306,0A2.7386127875258306,2.7386127875258306,0,1,1,-2.7386127875258306,0A2.7386127875258306,2.7386127875258306,0,1,1,2.7386127875258306,0\" stroke=\"rgb(13, 8, 135)\" stroke-width=\"2\" opacity=\"0.7\"/><path aria-label=\"S: 150; s: 35; profit_mean: 1222.4188\" role=\"graphics-symbol\" aria-roledescription=\"point\" transform=\"translate(85.71428571428571,60.00000000000001)\" d=\"M2.7386127875258306,0A2.7386127875258306,2.7386127875258306,0,1,1,-2.7386127875258306,0A2.7386127875258306,2.7386127875258306,0,1,1,2.7386127875258306,0\" stroke=\"rgb(106, 0, 168)\" stroke-width=\"2\" opacity=\"0.7\"/><path aria-label=\"S: 160; s: 35; profit_mean: 1225.6929\" role=\"graphics-symbol\" aria-roledescription=\"point\" transform=\"translate(91.42857142857143,60.00000000000001)\" d=\"M2.7386127875258306,0A2.7386127875258306,2.7386127875258306,0,1,1,-2.7386127875258306,0A2.7386127875258306,2.7386127875258306,0,1,1,2.7386127875258306,0\" stroke=\"rgb(119, 1, 168)\" stroke-width=\"2\" opacity=\"0.7\"/><path aria-label=\"S: 170; s: 35; profit_mean: 1209.6693\" role=\"graphics-symbol\" aria-roledescription=\"point\" transform=\"translate(97.14285714285714,60.00000000000001)\" d=\"M2.7386127875258306,0A2.7386127875258306,2.7386127875258306,0,1,1,-2.7386127875258306,0A2.7386127875258306,2.7386127875258306,0,1,1,2.7386127875258306,0\" stroke=\"rgb(58, 4, 154)\" stroke-width=\"2\" opacity=\"0.7\"/><path aria-label=\"S: 180; s: 35; profit_mean: 1207.38\" role=\"graphics-symbol\" aria-roledescription=\"point\" transform=\"translate(102.85714285714285,60.00000000000001)\" d=\"M2.7386127875258306,0A2.7386127875258306,2.7386127875258306,0,1,1,-2.7386127875258306,0A2.7386127875258306,2.7386127875258306,0,1,1,2.7386127875258306,0\" stroke=\"rgb(48, 5, 150)\" stroke-width=\"2\" opacity=\"0.7\"/><path aria-label=\"S: 190; s: 35; profit_mean: 1243.3835\" role=\"graphics-symbol\" aria-roledescription=\"point\" transform=\"translate(108.57142857142857,60.00000000000001)\" d=\"M2.7386127875258306,0A2.7386127875258306,2.7386127875258306,0,1,1,-2.7386127875258306,0A2.7386127875258306,2.7386127875258306,0,1,1,2.7386127875258306,0\" stroke=\"rgb(175, 40, 145)\" stroke-width=\"2\" opacity=\"0.7\"/><path aria-label=\"S: 200; s: 35; profit_mean: 1266.5751\" role=\"graphics-symbol\" aria-roledescription=\"point\" transform=\"translate(114.28571428571428,60.00000000000001)\" d=\"M2.7386127875258306,0A2.7386127875258306,2.7386127875258306,0,1,1,-2.7386127875258306,0A2.7386127875258306,2.7386127875258306,0,1,1,2.7386127875258306,0\" stroke=\"rgb(227, 103, 96)\" stroke-width=\"2\" opacity=\"0.7\"/><path aria-label=\"S: 210; s: 35; profit_mean: 1241.7917\" role=\"graphics-symbol\" aria-roledescription=\"point\" transform=\"translate(120,60.00000000000001)\" d=\"M2.7386127875258306,0A2.7386127875258306,2.7386127875258306,0,1,1,-2.7386127875258306,0A2.7386127875258306,2.7386127875258306,0,1,1,2.7386127875258306,0\" stroke=\"rgb(171, 36, 149)\" stroke-width=\"2\" opacity=\"0.7\"/><path aria-label=\"S: 220; s: 35; profit_mean: 1211.6935\" role=\"graphics-symbol\" aria-roledescription=\"point\" transform=\"translate(125.71428571428571,60.00000000000001)\" d=\"M2.7386127875258306,0A2.7386127875258306,2.7386127875258306,0,1,1,-2.7386127875258306,0A2.7386127875258306,2.7386127875258306,0,1,1,2.7386127875258306,0\" stroke=\"rgb(66, 3, 157)\" stroke-width=\"2\" opacity=\"0.7\"/><path aria-label=\"S: 280; s: 35; profit_mean: 1210.8789\" role=\"graphics-symbol\" aria-roledescription=\"point\" transform=\"translate(160,60.00000000000001)\" d=\"M2.7386127875258306,0A2.7386127875258306,2.7386127875258306,0,1,1,-2.7386127875258306,0A2.7386127875258306,2.7386127875258306,0,1,1,2.7386127875258306,0\" stroke=\"rgb(63, 3, 156)\" stroke-width=\"2\" opacity=\"0.7\"/><path aria-label=\"S: 290; s: 35; profit_mean: 1237.1174\" role=\"graphics-symbol\" aria-roledescription=\"point\" transform=\"translate(165.71428571428572,60.00000000000001)\" d=\"M2.7386127875258306,0A2.7386127875258306,2.7386127875258306,0,1,1,-2.7386127875258306,0A2.7386127875258306,2.7386127875258306,0,1,1,2.7386127875258306,0\" stroke=\"rgb(157, 24, 157)\" stroke-width=\"2\" opacity=\"0.7\"/><path aria-label=\"S: 300; s: 35; profit_mean: 1230.8906\" role=\"graphics-symbol\" aria-roledescription=\"point\" transform=\"translate(171.42857142857142,60.00000000000001)\" d=\"M2.7386127875258306,0A2.7386127875258306,2.7386127875258306,0,1,1,-2.7386127875258306,0A2.7386127875258306,2.7386127875258306,0,1,1,2.7386127875258306,0\" stroke=\"rgb(136, 8, 166)\" stroke-width=\"2\" opacity=\"0.7\"/><path aria-label=\"S: 310; s: 35; profit_mean: 1207.9512\" role=\"graphics-symbol\" aria-roledescription=\"point\" transform=\"translate(177.14285714285714,60.00000000000001)\" d=\"M2.7386127875258306,0A2.7386127875258306,2.7386127875258306,0,1,1,-2.7386127875258306,0A2.7386127875258306,2.7386127875258306,0,1,1,2.7386127875258306,0\" stroke=\"rgb(51, 5, 151)\" stroke-width=\"2\" opacity=\"0.7\"/><path aria-label=\"S: 160; s: 40; profit_mean: 1213.8402\" role=\"graphics-symbol\" aria-roledescription=\"point\" transform=\"translate(91.42857142857143,39.99999999999999)\" d=\"M2.7386127875258306,0A2.7386127875258306,2.7386127875258306,0,1,1,-2.7386127875258306,0A2.7386127875258306,2.7386127875258306,0,1,1,2.7386127875258306,0\" stroke=\"rgb(75, 2, 160)\" stroke-width=\"2\" opacity=\"0.7\"/><path aria-label=\"S: 170; s: 40; profit_mean: 1204.2852\" role=\"graphics-symbol\" aria-roledescription=\"point\" transform=\"translate(97.14285714285714,39.99999999999999)\" d=\"M2.7386127875258306,0A2.7386127875258306,2.7386127875258306,0,1,1,-2.7386127875258306,0A2.7386127875258306,2.7386127875258306,0,1,1,2.7386127875258306,0\" stroke=\"rgb(34, 6, 144)\" stroke-width=\"2\" opacity=\"0.7\"/><path aria-label=\"S: 200; s: 40; profit_mean: 1231.1435\" role=\"graphics-symbol\" aria-roledescription=\"point\" transform=\"translate(114.28571428571428,39.99999999999999)\" d=\"M2.7386127875258306,0A2.7386127875258306,2.7386127875258306,0,1,1,-2.7386127875258306,0A2.7386127875258306,2.7386127875258306,0,1,1,2.7386127875258306,0\" stroke=\"rgb(137, 8, 166)\" stroke-width=\"2\" opacity=\"0.7\"/><path aria-label=\"S: 210; s: 40; profit_mean: 1246.4605\" role=\"graphics-symbol\" aria-roledescription=\"point\" transform=\"translate(120,39.99999999999999)\" d=\"M2.7386127875258306,0A2.7386127875258306,2.7386127875258306,0,1,1,-2.7386127875258306,0A2.7386127875258306,2.7386127875258306,0,1,1,2.7386127875258306,0\" stroke=\"rgb(183, 49, 139)\" stroke-width=\"2\" opacity=\"0.7\"/><path aria-label=\"S: 220; s: 40; profit_mean: 1223.9846\" role=\"graphics-symbol\" aria-roledescription=\"point\" transform=\"translate(125.71428571428571,39.99999999999999)\" d=\"M2.7386127875258306,0A2.7386127875258306,2.7386127875258306,0,1,1,-2.7386127875258306,0A2.7386127875258306,2.7386127875258306,0,1,1,2.7386127875258306,0\" stroke=\"rgb(112, 0, 168)\" stroke-width=\"2\" opacity=\"0.7\"/><path aria-label=\"S: 300; s: 40; profit_mean: 1220.44\" role=\"graphics-symbol\" aria-roledescription=\"point\" transform=\"translate(171.42857142857142,39.99999999999999)\" d=\"M2.7386127875258306,0A2.7386127875258306,2.7386127875258306,0,1,1,-2.7386127875258306,0A2.7386127875258306,2.7386127875258306,0,1,1,2.7386127875258306,0\" stroke=\"rgb(99, 1, 167)\" stroke-width=\"2\" opacity=\"0.7\"/><path aria-label=\"S: 310; s: 40; profit_mean: 1200.8228\" role=\"graphics-symbol\" aria-roledescription=\"point\" transform=\"translate(177.14285714285714,39.99999999999999)\" d=\"M2.7386127875258306,0A2.7386127875258306,2.7386127875258306,0,1,1,-2.7386127875258306,0A2.7386127875258306,2.7386127875258306,0,1,1,2.7386127875258306,0\" stroke=\"rgb(13, 8, 135)\" stroke-width=\"2\" opacity=\"0.7\"/><path aria-label=\"S: 210; s: 45; profit_mean: 1220.5394\" role=\"graphics-symbol\" aria-roledescription=\"point\" transform=\"translate(120,19.999999999999996)\" d=\"M2.7386127875258306,0A2.7386127875258306,2.7386127875258306,0,1,1,-2.7386127875258306,0A2.7386127875258306,2.7386127875258306,0,1,1,2.7386127875258306,0\" stroke=\"rgb(99, 1, 167)\" stroke-width=\"2\" opacity=\"0.7\"/><path aria-label=\"S: 220; s: 45; profit_mean: 1223.2257\" role=\"graphics-symbol\" aria-roledescription=\"point\" transform=\"translate(125.71428571428571,19.999999999999996)\" d=\"M2.7386127875258306,0A2.7386127875258306,2.7386127875258306,0,1,1,-2.7386127875258306,0A2.7386127875258306,2.7386127875258306,0,1,1,2.7386127875258306,0\" stroke=\"rgb(109, 0, 168)\" stroke-width=\"2\" opacity=\"0.7\"/><path aria-label=\"S: 220; s: 50; profit_mean: 1210.9642\" role=\"graphics-symbol\" aria-roledescription=\"point\" transform=\"translate(125.71428571428571,0)\" d=\"M2.7386127875258306,0A2.7386127875258306,2.7386127875258306,0,1,1,-2.7386127875258306,0A2.7386127875258306,2.7386127875258306,0,1,1,2.7386127875258306,0\" stroke=\"rgb(63, 3, 156)\" stroke-width=\"2\" opacity=\"0.7\"/></g><g class=\"mark-group role-legend\" role=\"graphics-symbol\" aria-roledescription=\"legend\" aria-label=\"Gradient legend titled 'profit_mean' for stroke color with values from 1,201 to 1,309\"><g transform=\"translate(218,0)\"><path class=\"background\" aria-hidden=\"true\" d=\"M0,0h69v216h-69Z\" pointer-events=\"none\"/><g><g class=\"mark-group role-legend-entry\"><g transform=\"translate(0,16)\"><path class=\"background\" aria-hidden=\"true\" d=\"M0,0h0v0h0Z\" pointer-events=\"none\"/><g><g class=\"mark-rect role-legend-gradient\" pointer-events=\"none\"><path d=\"M0,0h16v200h-16Z\" fill=\"url(#gradient_0)\" stroke=\"#ddd\" stroke-width=\"0\" opacity=\"0.7\"/></g><g class=\"mark-text role-legend-label\" pointer-events=\"none\"><text text-anchor=\"start\" transform=\"translate(18,167.45164265513876)\" font-family=\"sans-serif\" font-size=\"10px\" fill=\"#000\" opacity=\"1\">1,220</text><text text-anchor=\"start\" transform=\"translate(18,130.41110734532265)\" font-family=\"sans-serif\" font-size=\"10px\" fill=\"#000\" opacity=\"1\">1,240</text><text text-anchor=\"start\" transform=\"translate(18,93.37057203550654)\" font-family=\"sans-serif\" font-size=\"10px\" fill=\"#000\" opacity=\"1\">1,260</text><text text-anchor=\"start\" transform=\"translate(18,56.33003672569041)\" font-family=\"sans-serif\" font-size=\"10px\" fill=\"#000\" opacity=\"1\">1,280</text><text text-anchor=\"start\" transform=\"translate(18,19.289501415874284)\" font-family=\"sans-serif\" font-size=\"10px\" fill=\"#000\" opacity=\"1\">1,300</text></g></g><path class=\"foreground\" aria-hidden=\"true\" d=\"\" pointer-events=\"none\" display=\"none\"/></g></g><g class=\"mark-text role-legend-title\" pointer-events=\"none\"><text text-anchor=\"start\" transform=\"translate(0,9)\" font-family=\"sans-serif\" font-size=\"11px\" font-weight=\"bold\" fill=\"#000\" opacity=\"1\">profit_mean</text></g></g><path class=\"foreground\" aria-hidden=\"true\" d=\"\" pointer-events=\"none\" display=\"none\"/></g></g></g><path class=\"foreground\" aria-hidden=\"true\" d=\"\" display=\"none\"/></g></g></g><defs><linearGradient id=\"gradient_0\" x1=\"0\" x2=\"0\" y1=\"1\" y2=\"0\"><stop offset=\"0\" stop-color=\"rgb(13, 8, 135)\"/><stop offset=\"0.08514044844976584\" stop-color=\"rgb(59, 4, 154)\"/><stop offset=\"0.17774178672430616\" stop-color=\"rgb(97, 1, 167)\"/><stop offset=\"0.27034312499884644\" stop-color=\"rgb(133, 6, 167)\"/><stop offset=\"0.36294446327338675\" stop-color=\"rgb(166, 32, 153)\"/><stop offset=\"0.45554580154792707\" stop-color=\"rgb(192, 58, 131)\"/><stop offset=\"0.5481471398224673\" stop-color=\"rgb(214, 85, 109)\"/><stop offset=\"0.6407484780970076\" stop-color=\"rgb(232, 112, 89)\"/><stop offset=\"0.733349816371548\" stop-color=\"rgb(246, 143, 68)\"/><stop offset=\"0.8259511546460883\" stop-color=\"rgb(253, 176, 49)\"/><stop offset=\"0.9185524929206286\" stop-color=\"rgb(250, 214, 36)\"/><stop offset=\"1\" stop-color=\"rgb(240, 249, 33)\"/></linearGradient></defs></svg>\n"
      ],
      "text/plain": [
       "@vlplot(\n",
       "    mark=\"point\",\n",
       "    encoding={\n",
       "        x={\n",
       "            field=\"S\"\n",
       "        },\n",
       "        y={\n",
       "            field=\"s\"\n",
       "        },\n",
       "        color={\n",
       "            scale={\n",
       "                scheme=\"plasma\"\n",
       "            },\n",
       "            field=\"profit_mean\"\n",
       "        }\n",
       "    },\n",
       "    data={\n",
       "        values=...\n",
       "    }\n",
       ")"
      ]
     },
     "execution_count": 33,
     "metadata": {},
     "output_type": "execute_result"
    }
   ],
   "source": [
    "# Sprawdzamy te  wartości które mają wartości profit_mean ponad 1200.\n",
    "filtered_df_1200 = filter(row -> row.profit_mean >= 1200, df)\n",
    "using VegaLite\n",
    "filtered_df_1200 |> @vlplot(:point, x=:S, y=:s, color={:profit_mean, scale={scheme=:plasma}})"
   ]
  },
  {
   "cell_type": "markdown",
   "metadata": {},
   "source": [
    "Możemy zaobserować nasz maksymalny profit_mean=1308 dla parametrów s=20 i S=180 ale rownież posiadamy kilka innych rownie dobrych wartości. Sprawdźmy więc inne punkty:"
   ]
  },
  {
   "cell_type": "code",
   "execution_count": 34,
   "metadata": {},
   "outputs": [
    {
     "data": {
      "text/html": [
       "<div><div style = \"float: left;\"><span>1×8 DataFrame</span></div><div style = \"clear: both;\"></div></div><div class = \"data-frame\" style = \"overflow-x: scroll;\"><table class = \"data-frame\" style = \"margin-bottom: 6px;\"><thead><tr class = \"header\"><th class = \"rowNumber\" style = \"font-weight: bold; text-align: right;\">Row</th><th style = \"text-align: left;\">m</th><th style = \"text-align: left;\">s</th><th style = \"text-align: left;\">S</th><th style = \"text-align: left;\">N</th><th style = \"text-align: left;\">profit_mean</th><th style = \"text-align: left;\">profit_std</th><th style = \"text-align: left;\">lost_mean</th><th style = \"text-align: left;\">lost_std</th></tr><tr class = \"subheader headerLastRow\"><th class = \"rowNumber\" style = \"font-weight: bold; text-align: right;\"></th><th title = \"Int64\" style = \"text-align: left;\">Int64</th><th title = \"Int64\" style = \"text-align: left;\">Int64</th><th title = \"Int64\" style = \"text-align: left;\">Int64</th><th title = \"Int64\" style = \"text-align: left;\">Int64</th><th title = \"Float64\" style = \"text-align: left;\">Float64</th><th title = \"Float64\" style = \"text-align: left;\">Float64</th><th title = \"Float64\" style = \"text-align: left;\">Float64</th><th title = \"Float64\" style = \"text-align: left;\">Float64</th></tr></thead><tbody><tr><td class = \"rowNumber\" style = \"font-weight: bold; text-align: right;\">1</td><td style = \"text-align: right;\">30</td><td style = \"text-align: right;\">15</td><td style = \"text-align: right;\">270</td><td style = \"text-align: right;\">1000</td><td style = \"text-align: right;\">1305.82</td><td style = \"text-align: right;\">126.717</td><td style = \"text-align: right;\">13.069</td><td style = \"text-align: right;\">16.7615</td></tr></tbody></table></div>"
      ],
      "text/latex": [
       "\\begin{tabular}{r|cccccccc}\n",
       "\t& m & s & S & N & profit\\_mean & profit\\_std & lost\\_mean & lost\\_std\\\\\n",
       "\t\\hline\n",
       "\t& Int64 & Int64 & Int64 & Int64 & Float64 & Float64 & Float64 & Float64\\\\\n",
       "\t\\hline\n",
       "\t1 & 30 & 15 & 270 & 1000 & 1305.82 & 126.717 & 13.069 & 16.7615 \\\\\n",
       "\\end{tabular}\n"
      ],
      "text/plain": [
       "\u001b[1m1×8 DataFrame\u001b[0m\n",
       "\u001b[1m Row \u001b[0m│\u001b[1m m     \u001b[0m\u001b[1m s     \u001b[0m\u001b[1m S     \u001b[0m\u001b[1m N     \u001b[0m\u001b[1m profit_mean \u001b[0m\u001b[1m profit_std \u001b[0m\u001b[1m lost_mean \u001b[0m\u001b[1m lost_st\u001b[0m ⋯\n",
       "     │\u001b[90m Int64 \u001b[0m\u001b[90m Int64 \u001b[0m\u001b[90m Int64 \u001b[0m\u001b[90m Int64 \u001b[0m\u001b[90m Float64     \u001b[0m\u001b[90m Float64    \u001b[0m\u001b[90m Float64   \u001b[0m\u001b[90m Float64\u001b[0m ⋯\n",
       "─────┼──────────────────────────────────────────────────────────────────────────\n",
       "   1 │    30     15    270   1000      1305.82     126.717     13.069   16.761 ⋯\n",
       "\u001b[36m                                                                1 column omitted\u001b[0m"
      ]
     },
     "execution_count": 34,
     "metadata": {},
     "output_type": "execute_result"
    }
   ],
   "source": [
    "filtered_df = filter(row -> row.s == 15 && row.S == 270, df)"
   ]
  },
  {
   "cell_type": "code",
   "execution_count": 35,
   "metadata": {},
   "outputs": [
    {
     "data": {
      "text/html": [
       "<div><div style = \"float: left;\"><span>1×8 DataFrame</span></div><div style = \"clear: both;\"></div></div><div class = \"data-frame\" style = \"overflow-x: scroll;\"><table class = \"data-frame\" style = \"margin-bottom: 6px;\"><thead><tr class = \"header\"><th class = \"rowNumber\" style = \"font-weight: bold; text-align: right;\">Row</th><th style = \"text-align: left;\">m</th><th style = \"text-align: left;\">s</th><th style = \"text-align: left;\">S</th><th style = \"text-align: left;\">N</th><th style = \"text-align: left;\">profit_mean</th><th style = \"text-align: left;\">profit_std</th><th style = \"text-align: left;\">lost_mean</th><th style = \"text-align: left;\">lost_std</th></tr><tr class = \"subheader headerLastRow\"><th class = \"rowNumber\" style = \"font-weight: bold; text-align: right;\"></th><th title = \"Int64\" style = \"text-align: left;\">Int64</th><th title = \"Int64\" style = \"text-align: left;\">Int64</th><th title = \"Int64\" style = \"text-align: left;\">Int64</th><th title = \"Int64\" style = \"text-align: left;\">Int64</th><th title = \"Float64\" style = \"text-align: left;\">Float64</th><th title = \"Float64\" style = \"text-align: left;\">Float64</th><th title = \"Float64\" style = \"text-align: left;\">Float64</th><th title = \"Float64\" style = \"text-align: left;\">Float64</th></tr></thead><tbody><tr><td class = \"rowNumber\" style = \"font-weight: bold; text-align: right;\">1</td><td style = \"text-align: right;\">30</td><td style = \"text-align: right;\">10</td><td style = \"text-align: right;\">250</td><td style = \"text-align: right;\">1000</td><td style = \"text-align: right;\">1306.99</td><td style = \"text-align: right;\">120.282</td><td style = \"text-align: right;\">21.379</td><td style = \"text-align: right;\">19.5673</td></tr></tbody></table></div>"
      ],
      "text/latex": [
       "\\begin{tabular}{r|cccccccc}\n",
       "\t& m & s & S & N & profit\\_mean & profit\\_std & lost\\_mean & lost\\_std\\\\\n",
       "\t\\hline\n",
       "\t& Int64 & Int64 & Int64 & Int64 & Float64 & Float64 & Float64 & Float64\\\\\n",
       "\t\\hline\n",
       "\t1 & 30 & 10 & 250 & 1000 & 1306.99 & 120.282 & 21.379 & 19.5673 \\\\\n",
       "\\end{tabular}\n"
      ],
      "text/plain": [
       "\u001b[1m1×8 DataFrame\u001b[0m\n",
       "\u001b[1m Row \u001b[0m│\u001b[1m m     \u001b[0m\u001b[1m s     \u001b[0m\u001b[1m S     \u001b[0m\u001b[1m N     \u001b[0m\u001b[1m profit_mean \u001b[0m\u001b[1m profit_std \u001b[0m\u001b[1m lost_mean \u001b[0m\u001b[1m lost_st\u001b[0m ⋯\n",
       "     │\u001b[90m Int64 \u001b[0m\u001b[90m Int64 \u001b[0m\u001b[90m Int64 \u001b[0m\u001b[90m Int64 \u001b[0m\u001b[90m Float64     \u001b[0m\u001b[90m Float64    \u001b[0m\u001b[90m Float64   \u001b[0m\u001b[90m Float64\u001b[0m ⋯\n",
       "─────┼──────────────────────────────────────────────────────────────────────────\n",
       "   1 │    30     10    250   1000      1306.99     120.282     21.379   19.567 ⋯\n",
       "\u001b[36m                                                                1 column omitted\u001b[0m"
      ]
     },
     "execution_count": 35,
     "metadata": {},
     "output_type": "execute_result"
    }
   ],
   "source": [
    "filtered_df = filter(row -> row.s == 10 && row.S == 250, df)"
   ]
  },
  {
   "cell_type": "markdown",
   "metadata": {},
   "source": [
    "Możemy zaobserwować że wartości s=15 i S=270 generują nam profit_mean=1305 przymniejszym lost_mean=13.06 co może być naszym 2 wyborem. <br />\n",
    "Jeśli zdecydujemy się wybrać trochę mniejszy profit_mean to będziemy mieli rownież mniejszy lost_mean co wydaje się rownież dobrym wynikiem. "
   ]
  },
  {
   "cell_type": "code",
   "execution_count": 36,
   "metadata": {},
   "outputs": [
    {
     "data": {
      "application/vnd.vegalite.v4+json": {
       "data": {
        "values": [
         {
          "N": 1000,
          "S": 250,
          "lost_mean": 21.379,
          "lost_std": 19.567325807049855,
          "m": 30,
          "profit_mean": 1306.9865999999997,
          "profit_std": 120.282067309122,
          "s": 10
         },
         {
          "N": 1000,
          "S": 260,
          "lost_mean": 20.225,
          "lost_std": 19.709155888211594,
          "m": 30,
          "profit_mean": 1307.8205999999996,
          "profit_std": 126.70780277048024,
          "s": 10
         },
         {
          "N": 1000,
          "S": 170,
          "lost_mean": 21.344,
          "lost_std": 21.488914291732783,
          "m": 30,
          "profit_mean": 1305.4484999999997,
          "profit_std": 108.11265542948252,
          "s": 15
         },
         {
          "N": 1000,
          "S": 180,
          "lost_mean": 20.943,
          "lost_std": 21.10756452744561,
          "m": 30,
          "profit_mean": 1305.6570000000004,
          "profit_std": 125.59585737750429,
          "s": 15
         },
         {
          "N": 1000,
          "S": 260,
          "lost_mean": 14.833,
          "lost_std": 17.499238107252967,
          "m": 30,
          "profit_mean": 1301.7349999999997,
          "profit_std": 122.84143728283918,
          "s": 15
         },
         {
          "N": 1000,
          "S": 270,
          "lost_mean": 13.069,
          "lost_std": 16.76147923621857,
          "m": 30,
          "profit_mean": 1305.8228000000004,
          "profit_std": 126.716882728895,
          "s": 15
         },
         {
          "N": 1000,
          "S": 180,
          "lost_mean": 14.089,
          "lost_std": 18.273834080783704,
          "m": 30,
          "profit_mean": 1308.7955,
          "profit_std": 106.53378580181626,
          "s": 20
         },
         {
          "N": 1000,
          "S": 270,
          "lost_mean": 9.54,
          "lost_std": 14.915927221761471,
          "m": 30,
          "profit_mean": 1300.4864999999998,
          "profit_std": 123.03880084861143,
          "s": 20
         }
        ]
       },
       "encoding": {
        "color": {
         "field": "s",
         "scale": {
          "scheme": "plasma"
         },
         "type": "quantitative"
        },
        "x": {
         "field": "lost_mean",
         "type": "quantitative"
        },
        "y": {
         "field": "profit_mean",
         "type": "quantitative"
        }
       },
       "mark": "point"
      },
      "image/png": "[encoded data removed]",
      "image/svg+xml": [
       "<?xml version=\"1.0\" encoding=\"utf-8\"?>\n",
       "<!DOCTYPE svg PUBLIC \"-//W3C//DTD SVG 1.1//EN\" \"http://www.w3.org/Graphics/SVG/1.1/DTD/svg11.dtd\">\n",
       "<svg xmlns=\"http://www.w3.org/2000/svg\" xmlns:xlink=\"http://www.w3.org/1999/xlink\" version=\"1.1\" class=\"marks\" width=\"301\" height=\"247\" viewBox=\"0 0 301 247\"><rect width=\"301\" height=\"247\" fill=\"white\"/><g fill=\"none\" stroke-miterlimit=\"10\" transform=\"translate(50,10)\"><g class=\"mark-group role-frame root\" role=\"graphics-object\" aria-roledescription=\"group mark container\"><g transform=\"translate(0,0)\"><path class=\"background\" aria-hidden=\"true\" d=\"M0.5,0.5h200v200h-200Z\" stroke=\"#ddd\"/><g><g class=\"mark-group role-axis\" aria-hidden=\"true\"><g transform=\"translate(0.5,200.5)\"><path class=\"background\" aria-hidden=\"true\" d=\"M0,0h0v0h0Z\" pointer-events=\"none\"/><g><g class=\"mark-rule role-axis-grid\" pointer-events=\"none\"><line transform=\"translate(0,-200)\" x2=\"0\" y2=\"200\" stroke=\"#ddd\" stroke-width=\"1\" opacity=\"1\"/><line transform=\"translate(45,-200)\" x2=\"0\" y2=\"200\" stroke=\"#ddd\" stroke-width=\"1\" opacity=\"1\"/><line transform=\"translate(91,-200)\" x2=\"0\" y2=\"200\" stroke=\"#ddd\" stroke-width=\"1\" opacity=\"1\"/><line transform=\"translate(136,-200)\" x2=\"0\" y2=\"200\" stroke=\"#ddd\" stroke-width=\"1\" opacity=\"1\"/><line transform=\"translate(182,-200)\" x2=\"0\" y2=\"200\" stroke=\"#ddd\" stroke-width=\"1\" opacity=\"1\"/></g></g><path class=\"foreground\" aria-hidden=\"true\" d=\"\" pointer-events=\"none\" display=\"none\"/></g></g><g class=\"mark-group role-axis\" aria-hidden=\"true\"><g transform=\"translate(0.5,0.5)\"><path class=\"background\" aria-hidden=\"true\" d=\"M0,0h0v0h0Z\" pointer-events=\"none\"/><g><g class=\"mark-rule role-axis-grid\" pointer-events=\"none\"><line transform=\"translate(0,200)\" x2=\"200\" y2=\"0\" stroke=\"#ddd\" stroke-width=\"1\" opacity=\"1\"/><line transform=\"translate(0,171)\" x2=\"200\" y2=\"0\" stroke=\"#ddd\" stroke-width=\"1\" opacity=\"1\"/><line transform=\"translate(0,143)\" x2=\"200\" y2=\"0\" stroke=\"#ddd\" stroke-width=\"1\" opacity=\"1\"/><line transform=\"translate(0,114)\" x2=\"200\" y2=\"0\" stroke=\"#ddd\" stroke-width=\"1\" opacity=\"1\"/><line transform=\"translate(0,86)\" x2=\"200\" y2=\"0\" stroke=\"#ddd\" stroke-width=\"1\" opacity=\"1\"/><line transform=\"translate(0,57)\" x2=\"200\" y2=\"0\" stroke=\"#ddd\" stroke-width=\"1\" opacity=\"1\"/><line transform=\"translate(0,29)\" x2=\"200\" y2=\"0\" stroke=\"#ddd\" stroke-width=\"1\" opacity=\"1\"/><line transform=\"translate(0,0)\" x2=\"200\" y2=\"0\" stroke=\"#ddd\" stroke-width=\"1\" opacity=\"1\"/></g></g><path class=\"foreground\" aria-hidden=\"true\" d=\"\" pointer-events=\"none\" display=\"none\"/></g></g><g class=\"mark-group role-axis\" role=\"graphics-symbol\" aria-roledescription=\"axis\" aria-label=\"X-axis titled 'lost_mean' for a linear scale with values from 0 to 22\"><g transform=\"translate(0.5,200.5)\"><path class=\"background\" aria-hidden=\"true\" d=\"M0,0h0v0h0Z\" pointer-events=\"none\"/><g><g class=\"mark-rule role-axis-tick\" pointer-events=\"none\"><line transform=\"translate(0,0)\" x2=\"0\" y2=\"5\" stroke=\"#888\" stroke-width=\"1\" opacity=\"1\"/><line transform=\"translate(45,0)\" x2=\"0\" y2=\"5\" stroke=\"#888\" stroke-width=\"1\" opacity=\"1\"/><line transform=\"translate(91,0)\" x2=\"0\" y2=\"5\" stroke=\"#888\" stroke-width=\"1\" opacity=\"1\"/><line transform=\"translate(136,0)\" x2=\"0\" y2=\"5\" stroke=\"#888\" stroke-width=\"1\" opacity=\"1\"/><line transform=\"translate(182,0)\" x2=\"0\" y2=\"5\" stroke=\"#888\" stroke-width=\"1\" opacity=\"1\"/></g><g class=\"mark-text role-axis-label\" pointer-events=\"none\"><text text-anchor=\"start\" transform=\"translate(0,15)\" font-family=\"sans-serif\" font-size=\"10px\" fill=\"#000\" opacity=\"1\">0</text><text text-anchor=\"middle\" transform=\"translate(45.45454545454545,15)\" font-family=\"sans-serif\" font-size=\"10px\" fill=\"#000\" opacity=\"1\">5</text><text text-anchor=\"middle\" transform=\"translate(90.9090909090909,15)\" font-family=\"sans-serif\" font-size=\"10px\" fill=\"#000\" opacity=\"1\">10</text><text text-anchor=\"middle\" transform=\"translate(136.36363636363635,15)\" font-family=\"sans-serif\" font-size=\"10px\" fill=\"#000\" opacity=\"1\">15</text><text text-anchor=\"middle\" transform=\"translate(181.8181818181818,15)\" font-family=\"sans-serif\" font-size=\"10px\" fill=\"#000\" opacity=\"1\">20</text></g><g class=\"mark-rule role-axis-domain\" pointer-events=\"none\"><line transform=\"translate(0,0)\" x2=\"200\" y2=\"0\" stroke=\"#888\" stroke-width=\"1\" opacity=\"1\"/></g><g class=\"mark-text role-axis-title\" pointer-events=\"none\"><text text-anchor=\"middle\" transform=\"translate(100,30)\" font-family=\"sans-serif\" font-size=\"11px\" font-weight=\"bold\" fill=\"#000\" opacity=\"1\">lost_mean</text></g></g><path class=\"foreground\" aria-hidden=\"true\" d=\"\" pointer-events=\"none\" display=\"none\"/></g></g><g class=\"mark-group role-axis\" role=\"graphics-symbol\" aria-roledescription=\"axis\" aria-label=\"Y-axis titled 'profit_mean' for a linear scale with values from 0 to 1,400\"><g transform=\"translate(0.5,0.5)\"><path class=\"background\" aria-hidden=\"true\" d=\"M0,0h0v0h0Z\" pointer-events=\"none\"/><g><g class=\"mark-rule role-axis-tick\" pointer-events=\"none\"><line transform=\"translate(0,200)\" x2=\"-5\" y2=\"0\" stroke=\"#888\" stroke-width=\"1\" opacity=\"1\"/><line transform=\"translate(0,171)\" x2=\"-5\" y2=\"0\" stroke=\"#888\" stroke-width=\"1\" opacity=\"1\"/><line transform=\"translate(0,143)\" x2=\"-5\" y2=\"0\" stroke=\"#888\" stroke-width=\"1\" opacity=\"1\"/><line transform=\"translate(0,114)\" x2=\"-5\" y2=\"0\" stroke=\"#888\" stroke-width=\"1\" opacity=\"1\"/><line transform=\"translate(0,86)\" x2=\"-5\" y2=\"0\" stroke=\"#888\" stroke-width=\"1\" opacity=\"1\"/><line transform=\"translate(0,57)\" x2=\"-5\" y2=\"0\" stroke=\"#888\" stroke-width=\"1\" opacity=\"1\"/><line transform=\"translate(0,29)\" x2=\"-5\" y2=\"0\" stroke=\"#888\" stroke-width=\"1\" opacity=\"1\"/><line transform=\"translate(0,0)\" x2=\"-5\" y2=\"0\" stroke=\"#888\" stroke-width=\"1\" opacity=\"1\"/></g><g class=\"mark-text role-axis-label\" pointer-events=\"none\"><text text-anchor=\"end\" transform=\"translate(-7,203)\" font-family=\"sans-serif\" font-size=\"10px\" fill=\"#000\" opacity=\"1\">0</text><text text-anchor=\"end\" transform=\"translate(-7,174.42857142857144)\" font-family=\"sans-serif\" font-size=\"10px\" fill=\"#000\" opacity=\"1\">200</text><text text-anchor=\"end\" transform=\"translate(-7,145.85714285714286)\" font-family=\"sans-serif\" font-size=\"10px\" fill=\"#000\" opacity=\"1\">400</text><text text-anchor=\"end\" transform=\"translate(-7,117.28571428571428)\" font-family=\"sans-serif\" font-size=\"10px\" fill=\"#000\" opacity=\"1\">600</text><text text-anchor=\"end\" transform=\"translate(-7,88.71428571428572)\" font-family=\"sans-serif\" font-size=\"10px\" fill=\"#000\" opacity=\"1\">800</text><text text-anchor=\"end\" transform=\"translate(-7,60.14285714285714)\" font-family=\"sans-serif\" font-size=\"10px\" fill=\"#000\" opacity=\"1\">1,000</text><text text-anchor=\"end\" transform=\"translate(-7,31.57142857142858)\" font-family=\"sans-serif\" font-size=\"10px\" fill=\"#000\" opacity=\"1\">1,200</text><text text-anchor=\"end\" transform=\"translate(-7,3)\" font-family=\"sans-serif\" font-size=\"10px\" fill=\"#000\" opacity=\"1\">1,400</text></g><g class=\"mark-rule role-axis-domain\" pointer-events=\"none\"><line transform=\"translate(0,200)\" x2=\"0\" y2=\"-200\" stroke=\"#888\" stroke-width=\"1\" opacity=\"1\"/></g><g class=\"mark-text role-axis-title\" pointer-events=\"none\"><text text-anchor=\"middle\" transform=\"translate(-34,100) rotate(-90) translate(0,-2)\" font-family=\"sans-serif\" font-size=\"11px\" font-weight=\"bold\" fill=\"#000\" opacity=\"1\">profit_mean</text></g></g><path class=\"foreground\" aria-hidden=\"true\" d=\"\" pointer-events=\"none\" display=\"none\"/></g></g><g class=\"mark-symbol role-mark marks\" role=\"graphics-object\" aria-roledescription=\"symbol mark container\"><path aria-label=\"lost_mean: 21.379; profit_mean: 1306.9866; s: 10\" role=\"graphics-symbol\" aria-roledescription=\"point\" transform=\"translate(194.35454545454547,13.2876285714286)\" d=\"M2.7386127875258306,0A2.7386127875258306,2.7386127875258306,0,1,1,-2.7386127875258306,0A2.7386127875258306,2.7386127875258306,0,1,1,2.7386127875258306,0\" stroke=\"rgb(13, 8, 135)\" stroke-width=\"2\" opacity=\"0.7\"/><path aria-label=\"lost_mean: 20.225; profit_mean: 1307.8206; s: 10\" role=\"graphics-symbol\" aria-roledescription=\"point\" transform=\"translate(183.86363636363637,13.168485714285772)\" d=\"M2.7386127875258306,0A2.7386127875258306,2.7386127875258306,0,1,1,-2.7386127875258306,0A2.7386127875258306,2.7386127875258306,0,1,1,2.7386127875258306,0\" stroke=\"rgb(13, 8, 135)\" stroke-width=\"2\" opacity=\"0.7\"/><path aria-label=\"lost_mean: 21.344; profit_mean: 1305.4485; s: 15\" role=\"graphics-symbol\" aria-roledescription=\"point\" transform=\"translate(194.03636363636366,13.50735714285718)\" d=\"M2.7386127875258306,0A2.7386127875258306,2.7386127875258306,0,1,1,-2.7386127875258306,0A2.7386127875258306,2.7386127875258306,0,1,1,2.7386127875258306,0\" stroke=\"rgb(203, 71, 121)\" stroke-width=\"2\" opacity=\"0.7\"/><path aria-label=\"lost_mean: 20.943; profit_mean: 1305.657; s: 15\" role=\"graphics-symbol\" aria-roledescription=\"point\" transform=\"translate(190.3909090909091,13.477571428571377)\" d=\"M2.7386127875258306,0A2.7386127875258306,2.7386127875258306,0,1,1,-2.7386127875258306,0A2.7386127875258306,2.7386127875258306,0,1,1,2.7386127875258306,0\" stroke=\"rgb(203, 71, 121)\" stroke-width=\"2\" opacity=\"0.7\"/><path aria-label=\"lost_mean: 14.833; profit_mean: 1301.735; s: 15\" role=\"graphics-symbol\" aria-roledescription=\"point\" transform=\"translate(134.84545454545454,14.037857142857192)\" d=\"M2.7386127875258306,0A2.7386127875258306,2.7386127875258306,0,1,1,-2.7386127875258306,0A2.7386127875258306,2.7386127875258306,0,1,1,2.7386127875258306,0\" stroke=\"rgb(203, 71, 121)\" stroke-width=\"2\" opacity=\"0.7\"/><path aria-label=\"lost_mean: 13.069; profit_mean: 1305.8228; s: 15\" role=\"graphics-symbol\" aria-roledescription=\"point\" transform=\"translate(118.80909090909091,13.45388571428565)\" d=\"M2.7386127875258306,0A2.7386127875258306,2.7386127875258306,0,1,1,-2.7386127875258306,0A2.7386127875258306,2.7386127875258306,0,1,1,2.7386127875258306,0\" stroke=\"rgb(203, 71, 121)\" stroke-width=\"2\" opacity=\"0.7\"/><path aria-label=\"lost_mean: 14.089; profit_mean: 1308.7955; s: 20\" role=\"graphics-symbol\" aria-roledescription=\"point\" transform=\"translate(128.0818181818182,13.029214285714286)\" d=\"M2.7386127875258306,0A2.7386127875258306,2.7386127875258306,0,1,1,-2.7386127875258306,0A2.7386127875258306,2.7386127875258306,0,1,1,2.7386127875258306,0\" stroke=\"rgb(240, 249, 33)\" stroke-width=\"2\" opacity=\"0.7\"/><path aria-label=\"lost_mean: 9.54; profit_mean: 1300.4865; s: 20\" role=\"graphics-symbol\" aria-roledescription=\"point\" transform=\"translate(86.72727272727272,14.216214285714312)\" d=\"M2.7386127875258306,0A2.7386127875258306,2.7386127875258306,0,1,1,-2.7386127875258306,0A2.7386127875258306,2.7386127875258306,0,1,1,2.7386127875258306,0\" stroke=\"rgb(240, 249, 33)\" stroke-width=\"2\" opacity=\"0.7\"/></g><g class=\"mark-group role-legend\" role=\"graphics-symbol\" aria-roledescription=\"legend\" aria-label=\"Gradient legend titled 's' for stroke color with values from 10 to 20\"><g transform=\"translate(218,0)\"><path class=\"background\" aria-hidden=\"true\" d=\"M0,0h28v216h-28Z\" pointer-events=\"none\"/><g><g class=\"mark-group role-legend-entry\"><g transform=\"translate(0,16)\"><path class=\"background\" aria-hidden=\"true\" d=\"M0,0h0v0h0Z\" pointer-events=\"none\"/><g><g class=\"mark-rect role-legend-gradient\" pointer-events=\"none\"><path d=\"M0,0h16v200h-16Z\" fill=\"url(#gradient_0)\" stroke=\"#ddd\" stroke-width=\"0\" opacity=\"0.7\"/></g><g class=\"mark-text role-legend-label\" pointer-events=\"none\"><text text-anchor=\"start\" transform=\"translate(18,198)\" font-family=\"sans-serif\" font-size=\"10px\" fill=\"#000\" opacity=\"1\">10</text><text text-anchor=\"start\" transform=\"translate(18,163)\" font-family=\"sans-serif\" font-size=\"10px\" fill=\"#000\" opacity=\"1\">12</text><text text-anchor=\"start\" transform=\"translate(18,123)\" font-family=\"sans-serif\" font-size=\"10px\" fill=\"#000\" opacity=\"1\">14</text><text text-anchor=\"start\" transform=\"translate(18,83)\" font-family=\"sans-serif\" font-size=\"10px\" fill=\"#000\" opacity=\"1\">16</text><text text-anchor=\"start\" transform=\"translate(18,42.99999999999999)\" font-family=\"sans-serif\" font-size=\"10px\" fill=\"#000\" opacity=\"1\">18</text><text text-anchor=\"start\" transform=\"translate(18,8)\" font-family=\"sans-serif\" font-size=\"10px\" fill=\"#000\" opacity=\"1\">20</text></g></g><path class=\"foreground\" aria-hidden=\"true\" d=\"\" pointer-events=\"none\" display=\"none\"/></g></g><g class=\"mark-text role-legend-title\" pointer-events=\"none\"><text text-anchor=\"start\" transform=\"translate(0,9)\" font-family=\"sans-serif\" font-size=\"11px\" font-weight=\"bold\" fill=\"#000\" opacity=\"1\">s</text></g></g><path class=\"foreground\" aria-hidden=\"true\" d=\"\" pointer-events=\"none\" display=\"none\"/></g></g></g><path class=\"foreground\" aria-hidden=\"true\" d=\"\" display=\"none\"/></g></g></g><defs><linearGradient id=\"gradient_0\" x1=\"0\" x2=\"0\" y1=\"1\" y2=\"0\"><stop offset=\"0\" stop-color=\"rgb(13, 8, 135)\"/><stop offset=\"0.05\" stop-color=\"rgb(43, 6, 148)\"/><stop offset=\"0.1\" stop-color=\"rgb(66, 3, 157)\"/><stop offset=\"0.15\" stop-color=\"rgb(87, 1, 164)\"/><stop offset=\"0.2\" stop-color=\"rgb(106, 0, 168)\"/><stop offset=\"0.25\" stop-color=\"rgb(126, 3, 168)\"/><stop offset=\"0.3\" stop-color=\"rgb(144, 13, 164)\"/><stop offset=\"0.35\" stop-color=\"rgb(162, 28, 155)\"/><stop offset=\"0.4\" stop-color=\"rgb(177, 42, 144)\"/><stop offset=\"0.45\" stop-color=\"rgb(191, 57, 132)\"/><stop offset=\"0.5\" stop-color=\"rgb(203, 71, 121)\"/><stop offset=\"0.55\" stop-color=\"rgb(215, 86, 109)\"/><stop offset=\"0.6\" stop-color=\"rgb(225, 100, 98)\"/><stop offset=\"0.65\" stop-color=\"rgb(234, 116, 87)\"/><stop offset=\"0.7\" stop-color=\"rgb(242, 131, 76)\"/><stop offset=\"0.75\" stop-color=\"rgb(248, 149, 65)\"/><stop offset=\"0.8\" stop-color=\"rgb(252, 166, 54)\"/><stop offset=\"0.85\" stop-color=\"rgb(254, 186, 44)\"/><stop offset=\"0.9\" stop-color=\"rgb(252, 206, 37)\"/><stop offset=\"0.95\" stop-color=\"rgb(247, 227, 38)\"/><stop offset=\"1\" stop-color=\"rgb(240, 249, 33)\"/></linearGradient></defs></svg>\n"
      ],
      "text/plain": [
       "@vlplot(\n",
       "    mark=\"point\",\n",
       "    encoding={\n",
       "        x={\n",
       "            field=\"lost_mean\"\n",
       "        },\n",
       "        y={\n",
       "            field=\"profit_mean\"\n",
       "        },\n",
       "        color={\n",
       "            scale={\n",
       "                scheme=\"plasma\"\n",
       "            },\n",
       "            field=\"s\"\n",
       "        }\n",
       "    },\n",
       "    data={\n",
       "        values=...\n",
       "    }\n",
       ")"
      ]
     },
     "execution_count": 36,
     "metadata": {},
     "output_type": "execute_result"
    }
   ],
   "source": [
    "using VegaLite\n",
    "filtered_df_1300 = filter(row -> row.profit_mean >= 1300, df)\n",
    "filtered_df_1300 |> @vlplot(:point, x=:lost_mean, y=:profit_mean, color={:s, scale={scheme=:plasma}})"
   ]
  },
  {
   "cell_type": "code",
   "execution_count": 37,
   "metadata": {},
   "outputs": [
    {
     "data": {
      "text/html": [
       "<div><div style = \"float: left;\"><span>8×8 DataFrame</span></div><div style = \"clear: both;\"></div></div><div class = \"data-frame\" style = \"overflow-x: scroll;\"><table class = \"data-frame\" style = \"margin-bottom: 6px;\"><thead><tr class = \"header\"><th class = \"rowNumber\" style = \"font-weight: bold; text-align: right;\">Row</th><th style = \"text-align: left;\">m</th><th style = \"text-align: left;\">s</th><th style = \"text-align: left;\">S</th><th style = \"text-align: left;\">N</th><th style = \"text-align: left;\">profit_mean</th><th style = \"text-align: left;\">profit_std</th><th style = \"text-align: left;\">lost_mean</th><th style = \"text-align: left;\">lost_std</th></tr><tr class = \"subheader headerLastRow\"><th class = \"rowNumber\" style = \"font-weight: bold; text-align: right;\"></th><th title = \"Int64\" style = \"text-align: left;\">Int64</th><th title = \"Int64\" style = \"text-align: left;\">Int64</th><th title = \"Int64\" style = \"text-align: left;\">Int64</th><th title = \"Int64\" style = \"text-align: left;\">Int64</th><th title = \"Float64\" style = \"text-align: left;\">Float64</th><th title = \"Float64\" style = \"text-align: left;\">Float64</th><th title = \"Float64\" style = \"text-align: left;\">Float64</th><th title = \"Float64\" style = \"text-align: left;\">Float64</th></tr></thead><tbody><tr><td class = \"rowNumber\" style = \"font-weight: bold; text-align: right;\">1</td><td style = \"text-align: right;\">30</td><td style = \"text-align: right;\">20</td><td style = \"text-align: right;\">270</td><td style = \"text-align: right;\">1000</td><td style = \"text-align: right;\">1300.49</td><td style = \"text-align: right;\">123.039</td><td style = \"text-align: right;\">9.54</td><td style = \"text-align: right;\">14.9159</td></tr><tr><td class = \"rowNumber\" style = \"font-weight: bold; text-align: right;\">2</td><td style = \"text-align: right;\">30</td><td style = \"text-align: right;\">15</td><td style = \"text-align: right;\">270</td><td style = \"text-align: right;\">1000</td><td style = \"text-align: right;\">1305.82</td><td style = \"text-align: right;\">126.717</td><td style = \"text-align: right;\">13.069</td><td style = \"text-align: right;\">16.7615</td></tr><tr><td class = \"rowNumber\" style = \"font-weight: bold; text-align: right;\">3</td><td style = \"text-align: right;\">30</td><td style = \"text-align: right;\">20</td><td style = \"text-align: right;\">180</td><td style = \"text-align: right;\">1000</td><td style = \"text-align: right;\">1308.8</td><td style = \"text-align: right;\">106.534</td><td style = \"text-align: right;\">14.089</td><td style = \"text-align: right;\">18.2738</td></tr><tr><td class = \"rowNumber\" style = \"font-weight: bold; text-align: right;\">4</td><td style = \"text-align: right;\">30</td><td style = \"text-align: right;\">15</td><td style = \"text-align: right;\">260</td><td style = \"text-align: right;\">1000</td><td style = \"text-align: right;\">1301.73</td><td style = \"text-align: right;\">122.841</td><td style = \"text-align: right;\">14.833</td><td style = \"text-align: right;\">17.4992</td></tr><tr><td class = \"rowNumber\" style = \"font-weight: bold; text-align: right;\">5</td><td style = \"text-align: right;\">30</td><td style = \"text-align: right;\">10</td><td style = \"text-align: right;\">260</td><td style = \"text-align: right;\">1000</td><td style = \"text-align: right;\">1307.82</td><td style = \"text-align: right;\">126.708</td><td style = \"text-align: right;\">20.225</td><td style = \"text-align: right;\">19.7092</td></tr><tr><td class = \"rowNumber\" style = \"font-weight: bold; text-align: right;\">6</td><td style = \"text-align: right;\">30</td><td style = \"text-align: right;\">15</td><td style = \"text-align: right;\">180</td><td style = \"text-align: right;\">1000</td><td style = \"text-align: right;\">1305.66</td><td style = \"text-align: right;\">125.596</td><td style = \"text-align: right;\">20.943</td><td style = \"text-align: right;\">21.1076</td></tr><tr><td class = \"rowNumber\" style = \"font-weight: bold; text-align: right;\">7</td><td style = \"text-align: right;\">30</td><td style = \"text-align: right;\">15</td><td style = \"text-align: right;\">170</td><td style = \"text-align: right;\">1000</td><td style = \"text-align: right;\">1305.45</td><td style = \"text-align: right;\">108.113</td><td style = \"text-align: right;\">21.344</td><td style = \"text-align: right;\">21.4889</td></tr><tr><td class = \"rowNumber\" style = \"font-weight: bold; text-align: right;\">8</td><td style = \"text-align: right;\">30</td><td style = \"text-align: right;\">10</td><td style = \"text-align: right;\">250</td><td style = \"text-align: right;\">1000</td><td style = \"text-align: right;\">1306.99</td><td style = \"text-align: right;\">120.282</td><td style = \"text-align: right;\">21.379</td><td style = \"text-align: right;\">19.5673</td></tr></tbody></table></div>"
      ],
      "text/latex": [
       "\\begin{tabular}{r|cccccccc}\n",
       "\t& m & s & S & N & profit\\_mean & profit\\_std & lost\\_mean & lost\\_std\\\\\n",
       "\t\\hline\n",
       "\t& Int64 & Int64 & Int64 & Int64 & Float64 & Float64 & Float64 & Float64\\\\\n",
       "\t\\hline\n",
       "\t1 & 30 & 20 & 270 & 1000 & 1300.49 & 123.039 & 9.54 & 14.9159 \\\\\n",
       "\t2 & 30 & 15 & 270 & 1000 & 1305.82 & 126.717 & 13.069 & 16.7615 \\\\\n",
       "\t3 & 30 & 20 & 180 & 1000 & 1308.8 & 106.534 & 14.089 & 18.2738 \\\\\n",
       "\t4 & 30 & 15 & 260 & 1000 & 1301.73 & 122.841 & 14.833 & 17.4992 \\\\\n",
       "\t5 & 30 & 10 & 260 & 1000 & 1307.82 & 126.708 & 20.225 & 19.7092 \\\\\n",
       "\t6 & 30 & 15 & 180 & 1000 & 1305.66 & 125.596 & 20.943 & 21.1076 \\\\\n",
       "\t7 & 30 & 15 & 170 & 1000 & 1305.45 & 108.113 & 21.344 & 21.4889 \\\\\n",
       "\t8 & 30 & 10 & 250 & 1000 & 1306.99 & 120.282 & 21.379 & 19.5673 \\\\\n",
       "\\end{tabular}\n"
      ],
      "text/plain": [
       "\u001b[1m8×8 DataFrame\u001b[0m\n",
       "\u001b[1m Row \u001b[0m│\u001b[1m m     \u001b[0m\u001b[1m s     \u001b[0m\u001b[1m S     \u001b[0m\u001b[1m N     \u001b[0m\u001b[1m profit_mean \u001b[0m\u001b[1m profit_std \u001b[0m\u001b[1m lost_mean \u001b[0m\u001b[1m lost_st\u001b[0m ⋯\n",
       "     │\u001b[90m Int64 \u001b[0m\u001b[90m Int64 \u001b[0m\u001b[90m Int64 \u001b[0m\u001b[90m Int64 \u001b[0m\u001b[90m Float64     \u001b[0m\u001b[90m Float64    \u001b[0m\u001b[90m Float64   \u001b[0m\u001b[90m Float64\u001b[0m ⋯\n",
       "─────┼──────────────────────────────────────────────────────────────────────────\n",
       "   1 │    30     20    270   1000      1300.49     123.039      9.54    14.915 ⋯\n",
       "   2 │    30     15    270   1000      1305.82     126.717     13.069   16.761\n",
       "   3 │    30     20    180   1000      1308.8      106.534     14.089   18.273\n",
       "   4 │    30     15    260   1000      1301.73     122.841     14.833   17.499\n",
       "   5 │    30     10    260   1000      1307.82     126.708     20.225   19.709 ⋯\n",
       "   6 │    30     15    180   1000      1305.66     125.596     20.943   21.107\n",
       "   7 │    30     15    170   1000      1305.45     108.113     21.344   21.488\n",
       "   8 │    30     10    250   1000      1306.99     120.282     21.379   19.567\n",
       "\u001b[36m                                                                1 column omitted\u001b[0m"
      ]
     },
     "execution_count": 37,
     "metadata": {},
     "output_type": "execute_result"
    }
   ],
   "source": [
    "sort!(filtered_df_1300, :lost_mean)"
   ]
  },
  {
   "cell_type": "markdown",
   "metadata": {},
   "source": [
    "W powyższej tabeli możemy zaobserwować wszsytkie najlepsze wyniki.  "
   ]
  },
  {
   "cell_type": "code",
   "execution_count": 38,
   "metadata": {},
   "outputs": [
    {
     "name": "stdout",
     "output_type": "stream",
     "text": [
      "Średni profit roczny = 399.0"
     ]
    }
   ],
   "source": [
    "zysk  = (1308.8 - 1275.55) * 12\n",
    "print(\"Średni profit roczny = \",zysk)"
   ]
  },
  {
   "cell_type": "code",
   "execution_count": 39,
   "metadata": {},
   "outputs": [
    {
     "name": "stdout",
     "output_type": "stream",
     "text": [
      "Średni roczny procent profitu = 2.61%"
     ]
    }
   ],
   "source": [
    "procent = (399 / (1275.55 * 12)) * 100\n",
    "procent = round(procent, digits=2)\n",
    "print(\"Średni roczny procent profitu = \", procent, \"%\")"
   ]
  },
  {
   "cell_type": "markdown",
   "metadata": {},
   "source": [
    "Przeprowadź Analizę wrażliwości: zmiana parametrów a rozwiązanie optymalne (RO)\n",
    "– czy zmiana parametru (np.wzrost ceny produktu o 5%/ wzrost wynagrodzenia godzinowego ) spowoduje zmianę R.O., czy ciągle ono pozostanie takie samo?\n"
   ]
  },
  {
   "cell_type": "code",
   "execution_count": 41,
   "metadata": {},
   "outputs": [
    {
     "data": {
      "text/plain": [
       "simulateOneRun (generic function with 1 method)"
      ]
     },
     "execution_count": 41,
     "metadata": {},
     "output_type": "execute_result"
    }
   ],
   "source": [
    "Random.seed!(10)\n",
    "using Random\n",
    "using Distributions\n",
    "using Statistics\n",
    "\n",
    "function simulateOneRun(m, s, S;\n",
    "    h = 0.1, #storage cost\n",
    "    c = 4.0, #unit profit\n",
    "    p = 0.75, #probability of delivery\n",
    "    K = 100, # fixed order cost\n",
    "    k = 1.0, # variable order cost\n",
    "    init_S = 100, #initial warehouse level\n",
    "    average_demand = 20)\n",
    "    Xⱼ = init_S\n",
    "    local Yj\n",
    "    profit = 0.0\n",
    "    lost_orders = 0.0\n",
    "    warehouse_levels = Int[]\n",
    "    #pois = Distributions.Poisson(average_demand)\n",
    "    normal=Distributions.Normal(average_demand,5)\n",
    "    for day in 1:m\n",
    "        if Xⱼ < s\n",
    "            if rand() < p\n",
    "                profit -= K + (S-Xⱼ)*k\n",
    "                Xⱼ = S\n",
    "            end\n",
    "        end\n",
    "        push!(warehouse_levels, Xⱼ)\n",
    "        #demand = rand(pois)\n",
    "        demand = round.(Int, rand(normal))\n",
    "        sales = min(Xⱼ, demand)\n",
    "        Xⱼ -= sales\n",
    "        @assert Xⱼ >= 0\n",
    "        lost_order = demand - sales # failed to provide  \n",
    "        @assert lost_order >= 0 \n",
    "        profit += sales*c - (Xⱼ-sales)*h\n",
    "        lost_orders += lost_order\n",
    "    end\n",
    "    \n",
    "    (profit=profit, lost_orders=lost_orders,\n",
    "        warehouse_levels=warehouse_levels)\n",
    "end"
   ]
  },
  {
   "cell_type": "code",
   "execution_count": 48,
   "metadata": {},
   "outputs": [
    {
     "data": {
      "image/svg+xml": [
       "<?xml version=\"1.0\" encoding=\"utf-8\"?>\n",
       "<svg xmlns=\"http://www.w3.org/2000/svg\" xmlns:xlink=\"http://www.w3.org/1999/xlink\" width=\"800\" height=\"600\" viewBox=\"0 0 3200 2400\">\n",
       "<defs>\n",
       "  <clipPath id=\"clip160\">\n",
       "    <rect x=\"0\" y=\"0\" width=\"3200\" height=\"2400\"/>\n",
       "  </clipPath>\n",
       "</defs>\n",
       "<path clip-path=\"url(#clip160)\" d=\"M0 2400 L3200 2400 L3200 0 L0 0  Z\" fill=\"#ffffff\" fill-rule=\"evenodd\" fill-opacity=\"1\"/>\n",
       "<defs>\n",
       "  <clipPath id=\"clip161\">\n",
       "    <rect x=\"640\" y=\"0\" width=\"2241\" height=\"2241\"/>\n",
       "  </clipPath>\n",
       "</defs>\n",
       "<path clip-path=\"url(#clip160)\" d=\"M278.227 1004.92 L3152.76 1004.92 L3152.76 131.032 L278.227 131.032  Z\" fill=\"#ffffff\" fill-rule=\"evenodd\" fill-opacity=\"1\"/>\n",
       "<defs>\n",
       "  <clipPath id=\"clip162\">\n",
       "    <rect x=\"278\" y=\"131\" width=\"2876\" height=\"875\"/>\n",
       "  </clipPath>\n",
       "</defs>\n",
       "<polyline clip-path=\"url(#clip162)\" style=\"stroke:#000000; stroke-linecap:round; stroke-linejoin:round; stroke-width:2; stroke-opacity:0.1; fill:none\" points=\"359.582,1004.92 359.582,131.032 \"/>\n",
       "<polyline clip-path=\"url(#clip162)\" style=\"stroke:#000000; stroke-linecap:round; stroke-linejoin:round; stroke-width:2; stroke-opacity:0.1; fill:none\" points=\"1082.73,1004.92 1082.73,131.032 \"/>\n",
       "<polyline clip-path=\"url(#clip162)\" style=\"stroke:#000000; stroke-linecap:round; stroke-linejoin:round; stroke-width:2; stroke-opacity:0.1; fill:none\" points=\"1805.89,1004.92 1805.89,131.032 \"/>\n",
       "<polyline clip-path=\"url(#clip162)\" style=\"stroke:#000000; stroke-linecap:round; stroke-linejoin:round; stroke-width:2; stroke-opacity:0.1; fill:none\" points=\"2529.04,1004.92 2529.04,131.032 \"/>\n",
       "<polyline clip-path=\"url(#clip160)\" style=\"stroke:#000000; stroke-linecap:round; stroke-linejoin:round; stroke-width:4; stroke-opacity:1; fill:none\" points=\"278.227,1004.92 3152.76,1004.92 \"/>\n",
       "<polyline clip-path=\"url(#clip160)\" style=\"stroke:#000000; stroke-linecap:round; stroke-linejoin:round; stroke-width:4; stroke-opacity:1; fill:none\" points=\"359.582,1004.92 359.582,986.022 \"/>\n",
       "<polyline clip-path=\"url(#clip160)\" style=\"stroke:#000000; stroke-linecap:round; stroke-linejoin:round; stroke-width:4; stroke-opacity:1; fill:none\" points=\"1082.73,1004.92 1082.73,986.022 \"/>\n",
       "<polyline clip-path=\"url(#clip160)\" style=\"stroke:#000000; stroke-linecap:round; stroke-linejoin:round; stroke-width:4; stroke-opacity:1; fill:none\" points=\"1805.89,1004.92 1805.89,986.022 \"/>\n",
       "<polyline clip-path=\"url(#clip160)\" style=\"stroke:#000000; stroke-linecap:round; stroke-linejoin:round; stroke-width:4; stroke-opacity:1; fill:none\" points=\"2529.04,1004.92 2529.04,986.022 \"/>\n",
       "<path clip-path=\"url(#clip160)\" d=\"M326.735 1069.78 L334.374 1069.78 L334.374 1043.42 L326.064 1045.09 L326.064 1040.83 L334.327 1039.16 L339.003 1039.16 L339.003 1069.78 L346.642 1069.78 L346.642 1073.72 L326.735 1073.72 L326.735 1069.78 Z\" fill=\"#000000\" fill-rule=\"evenodd\" fill-opacity=\"1\" /><path clip-path=\"url(#clip160)\" d=\"M356.087 1067.84 L360.971 1067.84 L360.971 1073.72 L356.087 1073.72 L356.087 1067.84 Z\" fill=\"#000000\" fill-rule=\"evenodd\" fill-opacity=\"1\" /><path clip-path=\"url(#clip160)\" d=\"M381.156 1042.24 Q377.545 1042.24 375.716 1045.8 Q373.911 1049.34 373.911 1056.47 Q373.911 1063.58 375.716 1067.15 Q377.545 1070.69 381.156 1070.69 Q384.79 1070.69 386.596 1067.15 Q388.424 1063.58 388.424 1056.47 Q388.424 1049.34 386.596 1045.8 Q384.79 1042.24 381.156 1042.24 M381.156 1038.53 Q386.966 1038.53 390.022 1043.14 Q393.1 1047.72 393.1 1056.47 Q393.1 1065.2 390.022 1069.81 Q386.966 1074.39 381.156 1074.39 Q375.346 1074.39 372.267 1069.81 Q369.211 1065.2 369.211 1056.47 Q369.211 1047.72 372.267 1043.14 Q375.346 1038.53 381.156 1038.53 Z\" fill=\"#000000\" fill-rule=\"evenodd\" fill-opacity=\"1\" /><path clip-path=\"url(#clip160)\" d=\"M1050.69 1069.78 L1058.32 1069.78 L1058.32 1043.42 L1050.01 1045.09 L1050.01 1040.83 L1058.28 1039.16 L1062.95 1039.16 L1062.95 1069.78 L1070.59 1069.78 L1070.59 1073.72 L1050.69 1073.72 L1050.69 1069.78 Z\" fill=\"#000000\" fill-rule=\"evenodd\" fill-opacity=\"1\" /><path clip-path=\"url(#clip160)\" d=\"M1080.04 1067.84 L1084.92 1067.84 L1084.92 1073.72 L1080.04 1073.72 L1080.04 1067.84 Z\" fill=\"#000000\" fill-rule=\"evenodd\" fill-opacity=\"1\" /><path clip-path=\"url(#clip160)\" d=\"M1099.13 1069.78 L1115.45 1069.78 L1115.45 1073.72 L1093.51 1073.72 L1093.51 1069.78 Q1096.17 1067.03 1100.75 1062.4 Q1105.36 1057.75 1106.54 1056.41 Q1108.79 1053.88 1109.67 1052.15 Q1110.57 1050.39 1110.57 1048.7 Q1110.57 1045.94 1108.62 1044.21 Q1106.7 1042.47 1103.6 1042.47 Q1101.4 1042.47 1098.95 1043.23 Q1096.52 1044 1093.74 1045.55 L1093.74 1040.83 Q1096.56 1039.69 1099.02 1039.11 Q1101.47 1038.53 1103.51 1038.53 Q1108.88 1038.53 1112.07 1041.22 Q1115.27 1043.91 1115.27 1048.4 Q1115.27 1050.53 1114.46 1052.45 Q1113.67 1054.34 1111.56 1056.94 Q1110.99 1057.61 1107.88 1060.83 Q1104.78 1064.02 1099.13 1069.78 Z\" fill=\"#000000\" fill-rule=\"evenodd\" fill-opacity=\"1\" /><path clip-path=\"url(#clip160)\" d=\"M1772.8 1069.78 L1780.43 1069.78 L1780.43 1043.42 L1772.12 1045.09 L1772.12 1040.83 L1780.39 1039.16 L1785.06 1039.16 L1785.06 1069.78 L1792.7 1069.78 L1792.7 1073.72 L1772.8 1073.72 L1772.8 1069.78 Z\" fill=\"#000000\" fill-rule=\"evenodd\" fill-opacity=\"1\" /><path clip-path=\"url(#clip160)\" d=\"M1802.15 1067.84 L1807.03 1067.84 L1807.03 1073.72 L1802.15 1073.72 L1802.15 1067.84 Z\" fill=\"#000000\" fill-rule=\"evenodd\" fill-opacity=\"1\" /><path clip-path=\"url(#clip160)\" d=\"M1830.06 1043.23 L1818.26 1061.68 L1830.06 1061.68 L1830.06 1043.23 M1828.84 1039.16 L1834.72 1039.16 L1834.72 1061.68 L1839.65 1061.68 L1839.65 1065.57 L1834.72 1065.57 L1834.72 1073.72 L1830.06 1073.72 L1830.06 1065.57 L1814.46 1065.57 L1814.46 1061.06 L1828.84 1039.16 Z\" fill=\"#000000\" fill-rule=\"evenodd\" fill-opacity=\"1\" /><path clip-path=\"url(#clip160)\" d=\"M2496.11 1069.78 L2503.75 1069.78 L2503.75 1043.42 L2495.44 1045.09 L2495.44 1040.83 L2503.7 1039.16 L2508.38 1039.16 L2508.38 1069.78 L2516.02 1069.78 L2516.02 1073.72 L2496.11 1073.72 L2496.11 1069.78 Z\" fill=\"#000000\" fill-rule=\"evenodd\" fill-opacity=\"1\" /><path clip-path=\"url(#clip160)\" d=\"M2525.46 1067.84 L2530.35 1067.84 L2530.35 1073.72 L2525.46 1073.72 L2525.46 1067.84 Z\" fill=\"#000000\" fill-rule=\"evenodd\" fill-opacity=\"1\" /><path clip-path=\"url(#clip160)\" d=\"M2551.11 1054.58 Q2547.96 1054.58 2546.11 1056.73 Q2544.28 1058.88 2544.28 1062.63 Q2544.28 1066.36 2546.11 1068.53 Q2547.96 1070.69 2551.11 1070.69 Q2554.26 1070.69 2556.09 1068.53 Q2557.94 1066.36 2557.94 1062.63 Q2557.94 1058.88 2556.09 1056.73 Q2554.26 1054.58 2551.11 1054.58 M2560.39 1039.92 L2560.39 1044.18 Q2558.63 1043.35 2556.83 1042.91 Q2555.04 1042.47 2553.28 1042.47 Q2548.66 1042.47 2546.2 1045.59 Q2543.77 1048.72 2543.42 1055.04 Q2544.79 1053.03 2546.85 1051.96 Q2548.91 1050.87 2551.39 1050.87 Q2556.6 1050.87 2559.6 1054.04 Q2562.64 1057.19 2562.64 1062.63 Q2562.64 1067.96 2559.49 1071.17 Q2556.34 1074.39 2551.11 1074.39 Q2545.11 1074.39 2541.94 1069.81 Q2538.77 1065.2 2538.77 1056.47 Q2538.77 1048.28 2542.66 1043.42 Q2546.55 1038.53 2553.1 1038.53 Q2554.86 1038.53 2556.64 1038.88 Q2558.45 1039.23 2560.39 1039.92 Z\" fill=\"#000000\" fill-rule=\"evenodd\" fill-opacity=\"1\" /><path clip-path=\"url(#clip160)\" d=\"M1167.55 1114.26 L1204.88 1114.26 L1204.88 1119.17 L1174.84 1156.37 L1205.61 1156.37 L1205.61 1161.78 L1166.82 1161.78 L1166.82 1156.88 L1196.86 1119.67 L1167.55 1119.67 L1167.55 1114.26 Z\" fill=\"#000000\" fill-rule=\"evenodd\" fill-opacity=\"1\" /><path clip-path=\"url(#clip160)\" d=\"M1242.44 1132.98 Q1244.64 1129.03 1247.69 1127.15 Q1250.75 1125.28 1254.88 1125.28 Q1260.45 1125.28 1263.48 1129.19 Q1266.5 1133.07 1266.5 1140.27 L1266.5 1161.78 L1260.61 1161.78 L1260.61 1140.46 Q1260.61 1135.33 1258.8 1132.85 Q1256.99 1130.37 1253.26 1130.37 Q1248.71 1130.37 1246.07 1133.39 Q1243.43 1136.42 1243.43 1141.64 L1243.43 1161.78 L1237.54 1161.78 L1237.54 1140.46 Q1237.54 1135.3 1235.72 1132.85 Q1233.91 1130.37 1230.12 1130.37 Q1225.63 1130.37 1222.99 1133.42 Q1220.35 1136.45 1220.35 1141.64 L1220.35 1161.78 L1214.46 1161.78 L1214.46 1126.14 L1220.35 1126.14 L1220.35 1131.67 Q1222.36 1128.4 1225.16 1126.84 Q1227.96 1125.28 1231.81 1125.28 Q1235.69 1125.28 1238.4 1127.25 Q1241.14 1129.22 1242.44 1132.98 Z\" fill=\"#000000\" fill-rule=\"evenodd\" fill-opacity=\"1\" /><path clip-path=\"url(#clip160)\" d=\"M1278.18 1126.14 L1284.04 1126.14 L1284.04 1161.78 L1278.18 1161.78 L1278.18 1126.14 M1278.18 1112.26 L1284.04 1112.26 L1284.04 1119.67 L1278.18 1119.67 L1278.18 1112.26 Z\" fill=\"#000000\" fill-rule=\"evenodd\" fill-opacity=\"1\" /><path clip-path=\"url(#clip160)\" d=\"M1312.49 1143.86 Q1305.4 1143.86 1302.66 1145.49 Q1299.92 1147.11 1299.92 1151.03 Q1299.92 1154.14 1301.96 1155.99 Q1304.03 1157.81 1307.56 1157.81 Q1312.43 1157.81 1315.36 1154.37 Q1318.32 1150.9 1318.32 1145.17 L1318.32 1143.86 L1312.49 1143.86 M1324.18 1141.45 L1324.18 1161.78 L1318.32 1161.78 L1318.32 1156.37 Q1316.31 1159.62 1313.32 1161.18 Q1310.33 1162.71 1306 1162.71 Q1300.53 1162.71 1297.28 1159.65 Q1294.07 1156.56 1294.07 1151.41 Q1294.07 1145.39 1298.08 1142.34 Q1302.12 1139.28 1310.11 1139.28 L1318.32 1139.28 L1318.32 1138.71 Q1318.32 1134.67 1315.65 1132.47 Q1313 1130.24 1308.2 1130.24 Q1305.14 1130.24 1302.25 1130.97 Q1299.35 1131.71 1296.68 1133.17 L1296.68 1127.76 Q1299.89 1126.52 1302.91 1125.91 Q1305.94 1125.28 1308.8 1125.28 Q1316.54 1125.28 1320.36 1129.29 Q1324.18 1133.3 1324.18 1141.45 Z\" fill=\"#000000\" fill-rule=\"evenodd\" fill-opacity=\"1\" /><path clip-path=\"url(#clip160)\" d=\"M1365.87 1140.27 L1365.87 1161.78 L1360.01 1161.78 L1360.01 1140.46 Q1360.01 1135.4 1358.04 1132.88 Q1356.07 1130.37 1352.12 1130.37 Q1347.38 1130.37 1344.64 1133.39 Q1341.9 1136.42 1341.9 1141.64 L1341.9 1161.78 L1336.02 1161.78 L1336.02 1126.14 L1341.9 1126.14 L1341.9 1131.67 Q1344 1128.46 1346.84 1126.87 Q1349.7 1125.28 1353.43 1125.28 Q1359.57 1125.28 1362.72 1129.1 Q1365.87 1132.88 1365.87 1140.27 Z\" fill=\"#000000\" fill-rule=\"evenodd\" fill-opacity=\"1\" /><path clip-path=\"url(#clip160)\" d=\"M1393.75 1143.86 Q1386.66 1143.86 1383.92 1145.49 Q1381.18 1147.11 1381.18 1151.03 Q1381.18 1154.14 1383.22 1155.99 Q1385.29 1157.81 1388.82 1157.81 Q1393.69 1157.81 1396.62 1154.37 Q1399.58 1150.9 1399.58 1145.17 L1399.58 1143.86 L1393.75 1143.86 M1405.43 1141.45 L1405.43 1161.78 L1399.58 1161.78 L1399.58 1156.37 Q1397.57 1159.62 1394.58 1161.18 Q1391.59 1162.71 1387.26 1162.71 Q1381.79 1162.71 1378.54 1159.65 Q1375.32 1156.56 1375.32 1151.41 Q1375.32 1145.39 1379.33 1142.34 Q1383.38 1139.28 1391.37 1139.28 L1399.58 1139.28 L1399.58 1138.71 Q1399.58 1134.67 1396.9 1132.47 Q1394.26 1130.24 1389.46 1130.24 Q1386.4 1130.24 1383.5 1130.97 Q1380.61 1131.71 1377.93 1133.17 L1377.93 1127.76 Q1381.15 1126.52 1384.17 1125.91 Q1387.2 1125.28 1390.06 1125.28 Q1397.8 1125.28 1401.61 1129.29 Q1405.43 1133.3 1405.43 1141.45 Z\" fill=\"#000000\" fill-rule=\"evenodd\" fill-opacity=\"1\" /><path clip-path=\"url(#clip160)\" d=\"M1435.67 1126.14 L1463.49 1126.14 L1463.49 1131.48 L1441.46 1157.11 L1463.49 1157.11 L1463.49 1161.78 L1434.88 1161.78 L1434.88 1156.44 L1456.9 1130.81 L1435.67 1130.81 L1435.67 1126.14 Z\" fill=\"#000000\" fill-rule=\"evenodd\" fill-opacity=\"1\" /><path clip-path=\"url(#clip160)\" d=\"M1487.27 1165.09 Q1484.78 1171.46 1482.43 1173.4 Q1480.07 1175.34 1476.13 1175.34 L1471.45 1175.34 L1471.45 1170.44 L1474.88 1170.44 Q1477.3 1170.44 1478.64 1169.3 Q1479.98 1168.15 1481.6 1163.88 L1482.65 1161.21 L1468.23 1126.14 L1474.44 1126.14 L1485.58 1154.02 L1496.72 1126.14 L1502.92 1126.14 L1487.27 1165.09 Z\" fill=\"#000000\" fill-rule=\"evenodd\" fill-opacity=\"1\" /><path clip-path=\"url(#clip160)\" d=\"M1533.73 1127.19 L1533.73 1132.72 Q1531.25 1131.45 1528.58 1130.81 Q1525.9 1130.18 1523.04 1130.18 Q1518.68 1130.18 1516.48 1131.51 Q1514.32 1132.85 1514.32 1135.53 Q1514.32 1137.56 1515.88 1138.74 Q1517.44 1139.89 1522.15 1140.94 L1524.15 1141.38 Q1530.39 1142.72 1533 1145.17 Q1535.64 1147.59 1535.64 1151.95 Q1535.64 1156.91 1531.7 1159.81 Q1527.78 1162.71 1520.91 1162.71 Q1518.04 1162.71 1514.92 1162.13 Q1511.84 1161.59 1508.4 1160.48 L1508.4 1154.43 Q1511.65 1156.12 1514.8 1156.98 Q1517.95 1157.81 1521.04 1157.81 Q1525.17 1157.81 1527.4 1156.4 Q1529.63 1154.97 1529.63 1152.39 Q1529.63 1150.01 1528.01 1148.73 Q1526.41 1147.46 1520.97 1146.28 L1518.93 1145.81 Q1513.49 1144.66 1511.07 1142.3 Q1508.65 1139.92 1508.65 1135.78 Q1508.65 1130.75 1512.22 1128.01 Q1515.78 1125.28 1522.34 1125.28 Q1525.59 1125.28 1528.45 1125.75 Q1531.32 1126.23 1533.73 1127.19 Z\" fill=\"#000000\" fill-rule=\"evenodd\" fill-opacity=\"1\" /><path clip-path=\"url(#clip160)\" d=\"M1544.75 1112.26 L1550.64 1112.26 L1550.64 1141.51 L1568.11 1126.14 L1575.59 1126.14 L1556.68 1142.81 L1576.39 1161.78 L1568.75 1161.78 L1550.64 1144.37 L1550.64 1161.78 L1544.75 1161.78 L1544.75 1112.26 Z\" fill=\"#000000\" fill-rule=\"evenodd\" fill-opacity=\"1\" /><path clip-path=\"url(#clip160)\" d=\"M1580.11 1147.72 L1580.11 1126.14 L1585.97 1126.14 L1585.97 1147.49 Q1585.97 1152.55 1587.94 1155.1 Q1589.91 1157.61 1593.86 1157.61 Q1598.6 1157.61 1601.34 1154.59 Q1604.11 1151.57 1604.11 1146.35 L1604.11 1126.14 L1609.96 1126.14 L1609.96 1161.78 L1604.11 1161.78 L1604.11 1156.31 Q1601.98 1159.56 1599.14 1161.15 Q1596.34 1162.71 1592.62 1162.71 Q1586.47 1162.71 1583.29 1158.89 Q1580.11 1155.07 1580.11 1147.72 M1594.85 1125.28 L1594.85 1125.28 Z\" fill=\"#000000\" fill-rule=\"evenodd\" fill-opacity=\"1\" /><path clip-path=\"url(#clip160)\" d=\"M1640.2 1126.14 L1668.02 1126.14 L1668.02 1131.48 L1645.99 1157.11 L1668.02 1157.11 L1668.02 1161.78 L1639.41 1161.78 L1639.41 1156.44 L1661.43 1130.81 L1640.2 1130.81 L1640.2 1126.14 Z\" fill=\"#000000\" fill-rule=\"evenodd\" fill-opacity=\"1\" /><path clip-path=\"url(#clip160)\" d=\"M1707.45 1142.5 L1707.45 1145.36 L1680.53 1145.36 Q1680.91 1151.41 1684.16 1154.59 Q1687.43 1157.74 1693.26 1157.74 Q1696.63 1157.74 1699.78 1156.91 Q1702.97 1156.09 1706.09 1154.43 L1706.09 1159.97 Q1702.94 1161.31 1699.63 1162.01 Q1696.31 1162.71 1692.91 1162.71 Q1684.38 1162.71 1679.38 1157.74 Q1674.42 1152.78 1674.42 1144.31 Q1674.42 1135.56 1679.13 1130.43 Q1683.87 1125.28 1691.89 1125.28 Q1699.08 1125.28 1703.25 1129.92 Q1707.45 1134.54 1707.45 1142.5 M1701.6 1140.78 Q1701.53 1135.97 1698.89 1133.11 Q1696.28 1130.24 1691.95 1130.24 Q1687.05 1130.24 1684.09 1133.01 Q1681.16 1135.78 1680.72 1140.81 L1701.6 1140.78 Z\" fill=\"#000000\" fill-rule=\"evenodd\" fill-opacity=\"1\" /><path clip-path=\"url(#clip160)\" d=\"M1760.51 1127.19 L1760.51 1132.72 Q1758.03 1131.45 1755.36 1130.81 Q1752.68 1130.18 1749.82 1130.18 Q1745.46 1130.18 1743.26 1131.51 Q1741.1 1132.85 1741.1 1135.53 Q1741.1 1137.56 1742.66 1138.74 Q1744.22 1139.89 1748.93 1140.94 L1750.93 1141.38 Q1757.17 1142.72 1759.78 1145.17 Q1762.42 1147.59 1762.42 1151.95 Q1762.42 1156.91 1758.48 1159.81 Q1754.56 1162.71 1747.69 1162.71 Q1744.82 1162.71 1741.7 1162.13 Q1738.62 1161.59 1735.18 1160.48 L1735.18 1154.43 Q1738.42 1156.12 1741.58 1156.98 Q1744.73 1157.81 1747.81 1157.81 Q1751.95 1157.81 1754.18 1156.4 Q1756.41 1154.97 1756.41 1152.39 Q1756.41 1150.01 1754.78 1148.73 Q1753.19 1147.46 1747.75 1146.28 L1745.71 1145.81 Q1740.27 1144.66 1737.85 1142.3 Q1735.43 1139.92 1735.43 1135.78 Q1735.43 1130.75 1739 1128.01 Q1742.56 1125.28 1749.12 1125.28 Q1752.36 1125.28 1755.23 1125.75 Q1758.09 1126.23 1760.51 1127.19 Z\" fill=\"#000000\" fill-rule=\"evenodd\" fill-opacity=\"1\" /><path clip-path=\"url(#clip160)\" d=\"M1777.41 1156.44 L1777.41 1175.34 L1771.53 1175.34 L1771.53 1126.14 L1777.41 1126.14 L1777.41 1131.55 Q1779.26 1128.36 1782.06 1126.84 Q1784.89 1125.28 1788.81 1125.28 Q1795.3 1125.28 1799.34 1130.43 Q1803.42 1135.59 1803.42 1143.99 Q1803.42 1152.39 1799.34 1157.55 Q1795.3 1162.71 1788.81 1162.71 Q1784.89 1162.71 1782.06 1161.18 Q1779.26 1159.62 1777.41 1156.44 M1797.34 1143.99 Q1797.34 1137.53 1794.67 1133.87 Q1792.02 1130.18 1787.38 1130.18 Q1782.73 1130.18 1780.06 1133.87 Q1777.41 1137.53 1777.41 1143.99 Q1777.41 1150.45 1780.06 1154.14 Q1782.73 1157.81 1787.38 1157.81 Q1792.02 1157.81 1794.67 1154.14 Q1797.34 1150.45 1797.34 1143.99 Z\" fill=\"#000000\" fill-rule=\"evenodd\" fill-opacity=\"1\" /><path clip-path=\"url(#clip160)\" d=\"M1833.78 1131.61 Q1832.8 1131.04 1831.62 1130.78 Q1830.47 1130.5 1829.07 1130.5 Q1824.11 1130.5 1821.43 1133.74 Q1818.79 1136.96 1818.79 1143.01 L1818.79 1161.78 L1812.9 1161.78 L1812.9 1126.14 L1818.79 1126.14 L1818.79 1131.67 Q1820.64 1128.43 1823.6 1126.87 Q1826.56 1125.28 1830.79 1125.28 Q1831.4 1125.28 1832.13 1125.37 Q1832.86 1125.44 1833.75 1125.59 L1833.78 1131.61 Z\" fill=\"#000000\" fill-rule=\"evenodd\" fill-opacity=\"1\" /><path clip-path=\"url(#clip160)\" d=\"M1837.38 1126.14 L1865.2 1126.14 L1865.2 1131.48 L1843.17 1157.11 L1865.2 1157.11 L1865.2 1161.78 L1836.58 1161.78 L1836.58 1156.44 L1858.61 1130.81 L1837.38 1130.81 L1837.38 1126.14 Z\" fill=\"#000000\" fill-rule=\"evenodd\" fill-opacity=\"1\" /><path clip-path=\"url(#clip160)\" d=\"M1904.63 1142.5 L1904.63 1145.36 L1877.71 1145.36 Q1878.09 1151.41 1881.33 1154.59 Q1884.61 1157.74 1890.44 1157.74 Q1893.81 1157.74 1896.96 1156.91 Q1900.14 1156.09 1903.26 1154.43 L1903.26 1159.97 Q1900.11 1161.31 1896.8 1162.01 Q1893.49 1162.71 1890.09 1162.71 Q1881.56 1162.71 1876.56 1157.74 Q1871.59 1152.78 1871.59 1144.31 Q1871.59 1135.56 1876.31 1130.43 Q1881.05 1125.28 1889.07 1125.28 Q1896.26 1125.28 1900.43 1129.92 Q1904.63 1134.54 1904.63 1142.5 M1898.78 1140.78 Q1898.71 1135.97 1896.07 1133.11 Q1893.46 1130.24 1889.13 1130.24 Q1884.23 1130.24 1881.27 1133.01 Q1878.34 1135.78 1877.9 1140.81 L1898.78 1140.78 Z\" fill=\"#000000\" fill-rule=\"evenodd\" fill-opacity=\"1\" /><path clip-path=\"url(#clip160)\" d=\"M1937.7 1131.55 L1937.7 1112.26 L1943.56 1112.26 L1943.56 1161.78 L1937.7 1161.78 L1937.7 1156.44 Q1935.86 1159.62 1933.02 1161.18 Q1930.22 1162.71 1926.28 1162.71 Q1919.81 1162.71 1915.74 1157.55 Q1911.7 1152.39 1911.7 1143.99 Q1911.7 1135.59 1915.74 1130.43 Q1919.81 1125.28 1926.28 1125.28 Q1930.22 1125.28 1933.02 1126.84 Q1935.86 1128.36 1937.7 1131.55 M1917.75 1143.99 Q1917.75 1150.45 1920.39 1154.14 Q1923.06 1157.81 1927.71 1157.81 Q1932.36 1157.81 1935.03 1154.14 Q1937.7 1150.45 1937.7 1143.99 Q1937.7 1137.53 1935.03 1133.87 Q1932.36 1130.18 1927.71 1130.18 Q1923.06 1130.18 1920.39 1133.87 Q1917.75 1137.53 1917.75 1143.99 Z\" fill=\"#000000\" fill-rule=\"evenodd\" fill-opacity=\"1\" /><path clip-path=\"url(#clip160)\" d=\"M1971.82 1143.86 Q1964.72 1143.86 1961.99 1145.49 Q1959.25 1147.11 1959.25 1151.03 Q1959.25 1154.14 1961.29 1155.99 Q1963.36 1157.81 1966.89 1157.81 Q1971.76 1157.81 1974.69 1154.37 Q1977.65 1150.9 1977.65 1145.17 L1977.65 1143.86 L1971.82 1143.86 M1983.5 1141.45 L1983.5 1161.78 L1977.65 1161.78 L1977.65 1156.37 Q1975.64 1159.62 1972.65 1161.18 Q1969.66 1162.71 1965.33 1162.71 Q1959.86 1162.71 1956.61 1159.65 Q1953.39 1156.56 1953.39 1151.41 Q1953.39 1145.39 1957.4 1142.34 Q1961.45 1139.28 1969.44 1139.28 L1977.65 1139.28 L1977.65 1138.71 Q1977.65 1134.67 1974.97 1132.47 Q1972.33 1130.24 1967.53 1130.24 Q1964.47 1130.24 1961.57 1130.97 Q1958.68 1131.71 1956 1133.17 L1956 1127.76 Q1959.22 1126.52 1962.24 1125.91 Q1965.27 1125.28 1968.13 1125.28 Q1975.86 1125.28 1979.68 1129.29 Q1983.5 1133.3 1983.5 1141.45 Z\" fill=\"#000000\" fill-rule=\"evenodd\" fill-opacity=\"1\" /><path clip-path=\"url(#clip160)\" d=\"M2003.46 1112.26 L2009.32 1112.26 L2009.32 1119.67 L2003.46 1119.67 L2003.46 1112.26 M2006.45 1125.28 L2006.45 1125.28 M1993.02 1126.14 L2020.84 1126.14 L2020.84 1131.48 L1998.81 1157.11 L2020.84 1157.11 L2020.84 1161.78 L1992.22 1161.78 L1992.22 1156.44 L2014.25 1130.81 L1993.02 1130.81 L1993.02 1126.14 Z\" fill=\"#000000\" fill-rule=\"evenodd\" fill-opacity=\"1\" /><path clip-path=\"url(#clip160)\" d=\"M2044.61 1165.09 Q2042.13 1171.46 2039.78 1173.4 Q2037.42 1175.34 2033.47 1175.34 L2028.8 1175.34 L2028.8 1170.44 L2032.23 1170.44 Q2034.65 1170.44 2035.99 1169.3 Q2037.33 1168.15 2038.95 1163.88 L2040 1161.21 L2025.58 1126.14 L2031.79 1126.14 L2042.93 1154.02 L2054.07 1126.14 L2060.27 1126.14 L2044.61 1165.09 Z\" fill=\"#000000\" fill-rule=\"evenodd\" fill-opacity=\"1\" /><path clip-path=\"url(#clip160)\" d=\"M2085.67 1126.14 L2091.53 1126.14 L2098.85 1153.95 L2106.14 1126.14 L2113.05 1126.14 L2120.37 1153.95 L2127.66 1126.14 L2133.51 1126.14 L2124.19 1161.78 L2117.28 1161.78 L2109.61 1132.57 L2101.91 1161.78 L2095 1161.78 L2085.67 1126.14 Z\" fill=\"#000000\" fill-rule=\"evenodd\" fill-opacity=\"1\" /><path clip-path=\"url(#clip160)\" d=\"M2162.57 1112.26 L2176.07 1112.26 L2176.07 1116.81 L2168.43 1116.81 L2168.43 1165.83 L2176.07 1165.83 L2176.07 1170.38 L2162.57 1170.38 L2162.57 1112.26 Z\" fill=\"#000000\" fill-rule=\"evenodd\" fill-opacity=\"1\" /><path clip-path=\"url(#clip160)\" d=\"M2229.79 1140.87 Q2227.02 1140.87 2225.43 1143.23 Q2223.87 1145.58 2223.87 1149.78 Q2223.87 1153.92 2225.43 1156.31 Q2227.02 1158.66 2229.79 1158.66 Q2232.5 1158.66 2234.06 1156.31 Q2235.65 1153.92 2235.65 1149.78 Q2235.65 1145.61 2234.06 1143.26 Q2232.5 1140.87 2229.79 1140.87 M2229.79 1136.83 Q2234.82 1136.83 2237.78 1140.33 Q2240.74 1143.83 2240.74 1149.78 Q2240.74 1155.74 2237.75 1159.24 Q2234.79 1162.71 2229.79 1162.71 Q2224.7 1162.71 2221.74 1159.24 Q2218.78 1155.74 2218.78 1149.78 Q2218.78 1143.8 2221.74 1140.33 Q2224.73 1136.83 2229.79 1136.83 M2196.95 1117.45 Q2194.21 1117.45 2192.62 1119.83 Q2191.06 1122.19 2191.06 1126.33 Q2191.06 1130.53 2192.62 1132.88 Q2194.18 1135.24 2196.95 1135.24 Q2199.72 1135.24 2201.27 1132.88 Q2202.87 1130.53 2202.87 1126.33 Q2202.87 1122.22 2201.27 1119.83 Q2199.68 1117.45 2196.95 1117.45 M2225.69 1113.4 L2230.78 1113.4 L2201.05 1162.71 L2195.96 1162.71 L2225.69 1113.4 M2196.95 1113.4 Q2201.97 1113.4 2204.97 1116.91 Q2207.96 1120.37 2207.96 1126.33 Q2207.96 1132.34 2204.97 1135.81 Q2202.01 1139.28 2196.95 1139.28 Q2191.89 1139.28 2188.93 1135.81 Q2186 1132.31 2186 1126.33 Q2186 1120.41 2188.96 1116.91 Q2191.92 1113.4 2196.95 1113.4 Z\" fill=\"#000000\" fill-rule=\"evenodd\" fill-opacity=\"1\" /><path clip-path=\"url(#clip160)\" d=\"M2264.17 1112.26 L2264.17 1170.38 L2250.67 1170.38 L2250.67 1165.83 L2258.28 1165.83 L2258.28 1116.81 L2250.67 1116.81 L2250.67 1112.26 L2264.17 1112.26 Z\" fill=\"#000000\" fill-rule=\"evenodd\" fill-opacity=\"1\" /><polyline clip-path=\"url(#clip162)\" style=\"stroke:#000000; stroke-linecap:round; stroke-linejoin:round; stroke-width:2; stroke-opacity:0.1; fill:none\" points=\"278.227,891.698 3152.76,891.698 \"/>\n",
       "<polyline clip-path=\"url(#clip162)\" style=\"stroke:#000000; stroke-linecap:round; stroke-linejoin:round; stroke-width:2; stroke-opacity:0.1; fill:none\" points=\"278.227,656.635 3152.76,656.635 \"/>\n",
       "<polyline clip-path=\"url(#clip162)\" style=\"stroke:#000000; stroke-linecap:round; stroke-linejoin:round; stroke-width:2; stroke-opacity:0.1; fill:none\" points=\"278.227,421.573 3152.76,421.573 \"/>\n",
       "<polyline clip-path=\"url(#clip162)\" style=\"stroke:#000000; stroke-linecap:round; stroke-linejoin:round; stroke-width:2; stroke-opacity:0.1; fill:none\" points=\"278.227,186.51 3152.76,186.51 \"/>\n",
       "<polyline clip-path=\"url(#clip160)\" style=\"stroke:#000000; stroke-linecap:round; stroke-linejoin:round; stroke-width:4; stroke-opacity:1; fill:none\" points=\"278.227,1004.92 278.227,131.032 \"/>\n",
       "<polyline clip-path=\"url(#clip160)\" style=\"stroke:#000000; stroke-linecap:round; stroke-linejoin:round; stroke-width:4; stroke-opacity:1; fill:none\" points=\"278.227,891.698 297.125,891.698 \"/>\n",
       "<polyline clip-path=\"url(#clip160)\" style=\"stroke:#000000; stroke-linecap:round; stroke-linejoin:round; stroke-width:4; stroke-opacity:1; fill:none\" points=\"278.227,656.635 297.125,656.635 \"/>\n",
       "<polyline clip-path=\"url(#clip160)\" style=\"stroke:#000000; stroke-linecap:round; stroke-linejoin:round; stroke-width:4; stroke-opacity:1; fill:none\" points=\"278.227,421.573 297.125,421.573 \"/>\n",
       "<polyline clip-path=\"url(#clip160)\" style=\"stroke:#000000; stroke-linecap:round; stroke-linejoin:round; stroke-width:4; stroke-opacity:1; fill:none\" points=\"278.227,186.51 297.125,186.51 \"/>\n",
       "<path clip-path=\"url(#clip160)\" d=\"M118.608 905.043 L126.246 905.043 L126.246 878.677 L117.936 880.344 L117.936 876.085 L126.2 874.418 L130.876 874.418 L130.876 905.043 L138.515 905.043 L138.515 908.978 L118.608 908.978 L118.608 905.043 Z\" fill=\"#000000\" fill-rule=\"evenodd\" fill-opacity=\"1\" /><path clip-path=\"url(#clip160)\" d=\"M148.006 874.418 L166.362 874.418 L166.362 878.353 L152.288 878.353 L152.288 886.825 Q153.306 886.478 154.325 886.316 Q155.343 886.131 156.362 886.131 Q162.149 886.131 165.529 889.302 Q168.908 892.473 168.908 897.89 Q168.908 903.469 165.436 906.571 Q161.964 909.649 155.644 909.649 Q153.468 909.649 151.2 909.279 Q148.955 908.909 146.547 908.168 L146.547 903.469 Q148.631 904.603 150.853 905.159 Q153.075 905.714 155.552 905.714 Q159.556 905.714 161.894 903.608 Q164.232 901.501 164.232 897.89 Q164.232 894.279 161.894 892.173 Q159.556 890.066 155.552 890.066 Q153.677 890.066 151.802 890.483 Q149.95 890.899 148.006 891.779 L148.006 874.418 Z\" fill=\"#000000\" fill-rule=\"evenodd\" fill-opacity=\"1\" /><path clip-path=\"url(#clip160)\" d=\"M188.121 877.497 Q184.51 877.497 182.681 881.061 Q180.876 884.603 180.876 891.733 Q180.876 898.839 182.681 902.404 Q184.51 905.946 188.121 905.946 Q191.755 905.946 193.561 902.404 Q195.39 898.839 195.39 891.733 Q195.39 884.603 193.561 881.061 Q191.755 877.497 188.121 877.497 M188.121 873.793 Q193.931 873.793 196.987 878.399 Q200.065 882.983 200.065 891.733 Q200.065 900.459 196.987 905.066 Q193.931 909.649 188.121 909.649 Q182.311 909.649 179.232 905.066 Q176.177 900.459 176.177 891.733 Q176.177 882.983 179.232 878.399 Q182.311 873.793 188.121 873.793 Z\" fill=\"#000000\" fill-rule=\"evenodd\" fill-opacity=\"1\" /><path clip-path=\"url(#clip160)\" d=\"M218.283 877.497 Q214.672 877.497 212.843 881.061 Q211.038 884.603 211.038 891.733 Q211.038 898.839 212.843 902.404 Q214.672 905.946 218.283 905.946 Q221.917 905.946 223.723 902.404 Q225.551 898.839 225.551 891.733 Q225.551 884.603 223.723 881.061 Q221.917 877.497 218.283 877.497 M218.283 873.793 Q224.093 873.793 227.149 878.399 Q230.227 882.983 230.227 891.733 Q230.227 900.459 227.149 905.066 Q224.093 909.649 218.283 909.649 Q212.473 909.649 209.394 905.066 Q206.339 900.459 206.339 891.733 Q206.339 882.983 209.394 878.399 Q212.473 873.793 218.283 873.793 Z\" fill=\"#000000\" fill-rule=\"evenodd\" fill-opacity=\"1\" /><path clip-path=\"url(#clip160)\" d=\"M121.825 669.98 L138.144 669.98 L138.144 673.915 L116.2 673.915 L116.2 669.98 Q118.862 667.226 123.445 662.596 Q128.052 657.943 129.232 656.601 Q131.478 654.077 132.357 652.341 Q133.26 650.582 133.26 648.892 Q133.26 646.138 131.316 644.402 Q129.395 642.665 126.293 642.665 Q124.094 642.665 121.64 643.429 Q119.209 644.193 116.432 645.744 L116.432 641.022 Q119.256 639.888 121.709 639.309 Q124.163 638.73 126.2 638.73 Q131.57 638.73 134.765 641.415 Q137.959 644.101 137.959 648.591 Q137.959 650.721 137.149 652.642 Q136.362 654.54 134.256 657.133 Q133.677 657.804 130.575 661.022 Q127.473 664.216 121.825 669.98 Z\" fill=\"#000000\" fill-rule=\"evenodd\" fill-opacity=\"1\" /><path clip-path=\"url(#clip160)\" d=\"M157.959 642.434 Q154.348 642.434 152.519 645.999 Q150.714 649.54 150.714 656.67 Q150.714 663.776 152.519 667.341 Q154.348 670.883 157.959 670.883 Q161.593 670.883 163.399 667.341 Q165.228 663.776 165.228 656.67 Q165.228 649.54 163.399 645.999 Q161.593 642.434 157.959 642.434 M157.959 638.73 Q163.769 638.73 166.825 643.337 Q169.904 647.92 169.904 656.67 Q169.904 665.397 166.825 670.003 Q163.769 674.587 157.959 674.587 Q152.149 674.587 149.07 670.003 Q146.015 665.397 146.015 656.67 Q146.015 647.92 149.07 643.337 Q152.149 638.73 157.959 638.73 Z\" fill=\"#000000\" fill-rule=\"evenodd\" fill-opacity=\"1\" /><path clip-path=\"url(#clip160)\" d=\"M188.121 642.434 Q184.51 642.434 182.681 645.999 Q180.876 649.54 180.876 656.67 Q180.876 663.776 182.681 667.341 Q184.51 670.883 188.121 670.883 Q191.755 670.883 193.561 667.341 Q195.39 663.776 195.39 656.67 Q195.39 649.54 193.561 645.999 Q191.755 642.434 188.121 642.434 M188.121 638.73 Q193.931 638.73 196.987 643.337 Q200.065 647.92 200.065 656.67 Q200.065 665.397 196.987 670.003 Q193.931 674.587 188.121 674.587 Q182.311 674.587 179.232 670.003 Q176.177 665.397 176.177 656.67 Q176.177 647.92 179.232 643.337 Q182.311 638.73 188.121 638.73 Z\" fill=\"#000000\" fill-rule=\"evenodd\" fill-opacity=\"1\" /><path clip-path=\"url(#clip160)\" d=\"M218.283 642.434 Q214.672 642.434 212.843 645.999 Q211.038 649.54 211.038 656.67 Q211.038 663.776 212.843 667.341 Q214.672 670.883 218.283 670.883 Q221.917 670.883 223.723 667.341 Q225.551 663.776 225.551 656.67 Q225.551 649.54 223.723 645.999 Q221.917 642.434 218.283 642.434 M218.283 638.73 Q224.093 638.73 227.149 643.337 Q230.227 647.92 230.227 656.67 Q230.227 665.397 227.149 670.003 Q224.093 674.587 218.283 674.587 Q212.473 674.587 209.394 670.003 Q206.339 665.397 206.339 656.67 Q206.339 647.92 209.394 643.337 Q212.473 638.73 218.283 638.73 Z\" fill=\"#000000\" fill-rule=\"evenodd\" fill-opacity=\"1\" /><path clip-path=\"url(#clip160)\" d=\"M121.825 434.917 L138.144 434.917 L138.144 438.853 L116.2 438.853 L116.2 434.917 Q118.862 432.163 123.445 427.533 Q128.052 422.88 129.232 421.538 Q131.478 419.015 132.357 417.279 Q133.26 415.519 133.26 413.83 Q133.26 411.075 131.316 409.339 Q129.395 407.603 126.293 407.603 Q124.094 407.603 121.64 408.367 Q119.209 409.131 116.432 410.681 L116.432 405.959 Q119.256 404.825 121.709 404.246 Q124.163 403.668 126.2 403.668 Q131.57 403.668 134.765 406.353 Q137.959 409.038 137.959 413.529 Q137.959 415.658 137.149 417.58 Q136.362 419.478 134.256 422.07 Q133.677 422.742 130.575 425.959 Q127.473 429.154 121.825 434.917 Z\" fill=\"#000000\" fill-rule=\"evenodd\" fill-opacity=\"1\" /><path clip-path=\"url(#clip160)\" d=\"M148.006 404.293 L166.362 404.293 L166.362 408.228 L152.288 408.228 L152.288 416.7 Q153.306 416.353 154.325 416.191 Q155.343 416.006 156.362 416.006 Q162.149 416.006 165.529 419.177 Q168.908 422.348 168.908 427.765 Q168.908 433.343 165.436 436.445 Q161.964 439.524 155.644 439.524 Q153.468 439.524 151.2 439.154 Q148.955 438.783 146.547 438.042 L146.547 433.343 Q148.631 434.478 150.853 435.033 Q153.075 435.589 155.552 435.589 Q159.556 435.589 161.894 433.482 Q164.232 431.376 164.232 427.765 Q164.232 424.154 161.894 422.047 Q159.556 419.941 155.552 419.941 Q153.677 419.941 151.802 420.357 Q149.95 420.774 148.006 421.654 L148.006 404.293 Z\" fill=\"#000000\" fill-rule=\"evenodd\" fill-opacity=\"1\" /><path clip-path=\"url(#clip160)\" d=\"M188.121 407.371 Q184.51 407.371 182.681 410.936 Q180.876 414.478 180.876 421.607 Q180.876 428.714 182.681 432.279 Q184.51 435.82 188.121 435.82 Q191.755 435.82 193.561 432.279 Q195.39 428.714 195.39 421.607 Q195.39 414.478 193.561 410.936 Q191.755 407.371 188.121 407.371 M188.121 403.668 Q193.931 403.668 196.987 408.274 Q200.065 412.857 200.065 421.607 Q200.065 430.334 196.987 434.941 Q193.931 439.524 188.121 439.524 Q182.311 439.524 179.232 434.941 Q176.177 430.334 176.177 421.607 Q176.177 412.857 179.232 408.274 Q182.311 403.668 188.121 403.668 Z\" fill=\"#000000\" fill-rule=\"evenodd\" fill-opacity=\"1\" /><path clip-path=\"url(#clip160)\" d=\"M218.283 407.371 Q214.672 407.371 212.843 410.936 Q211.038 414.478 211.038 421.607 Q211.038 428.714 212.843 432.279 Q214.672 435.82 218.283 435.82 Q221.917 435.82 223.723 432.279 Q225.551 428.714 225.551 421.607 Q225.551 414.478 223.723 410.936 Q221.917 407.371 218.283 407.371 M218.283 403.668 Q224.093 403.668 227.149 408.274 Q230.227 412.857 230.227 421.607 Q230.227 430.334 227.149 434.941 Q224.093 439.524 218.283 439.524 Q212.473 439.524 209.394 434.941 Q206.339 430.334 206.339 421.607 Q206.339 412.857 209.394 408.274 Q212.473 403.668 218.283 403.668 Z\" fill=\"#000000\" fill-rule=\"evenodd\" fill-opacity=\"1\" /><path clip-path=\"url(#clip160)\" d=\"M131.964 185.156 Q135.32 185.873 137.195 188.142 Q139.094 190.41 139.094 193.744 Q139.094 198.859 135.575 201.66 Q132.057 204.461 125.575 204.461 Q123.399 204.461 121.084 204.021 Q118.793 203.605 116.339 202.748 L116.339 198.234 Q118.283 199.369 120.598 199.947 Q122.913 200.526 125.436 200.526 Q129.834 200.526 132.126 198.79 Q134.441 197.054 134.441 193.744 Q134.441 190.688 132.288 188.975 Q130.158 187.239 126.339 187.239 L122.311 187.239 L122.311 183.397 L126.524 183.397 Q129.973 183.397 131.802 182.031 Q133.631 180.642 133.631 178.049 Q133.631 175.387 131.732 173.975 Q129.857 172.54 126.339 172.54 Q124.418 172.54 122.219 172.957 Q120.02 173.373 117.381 174.253 L117.381 170.086 Q120.043 169.346 122.358 168.975 Q124.695 168.605 126.756 168.605 Q132.08 168.605 135.182 171.036 Q138.283 173.443 138.283 177.563 Q138.283 180.434 136.64 182.424 Q134.996 184.392 131.964 185.156 Z\" fill=\"#000000\" fill-rule=\"evenodd\" fill-opacity=\"1\" /><path clip-path=\"url(#clip160)\" d=\"M157.959 172.309 Q154.348 172.309 152.519 175.873 Q150.714 179.415 150.714 186.545 Q150.714 193.651 152.519 197.216 Q154.348 200.758 157.959 200.758 Q161.593 200.758 163.399 197.216 Q165.228 193.651 165.228 186.545 Q165.228 179.415 163.399 175.873 Q161.593 172.309 157.959 172.309 M157.959 168.605 Q163.769 168.605 166.825 173.211 Q169.904 177.795 169.904 186.545 Q169.904 195.271 166.825 199.878 Q163.769 204.461 157.959 204.461 Q152.149 204.461 149.07 199.878 Q146.015 195.271 146.015 186.545 Q146.015 177.795 149.07 173.211 Q152.149 168.605 157.959 168.605 Z\" fill=\"#000000\" fill-rule=\"evenodd\" fill-opacity=\"1\" /><path clip-path=\"url(#clip160)\" d=\"M188.121 172.309 Q184.51 172.309 182.681 175.873 Q180.876 179.415 180.876 186.545 Q180.876 193.651 182.681 197.216 Q184.51 200.758 188.121 200.758 Q191.755 200.758 193.561 197.216 Q195.39 193.651 195.39 186.545 Q195.39 179.415 193.561 175.873 Q191.755 172.309 188.121 172.309 M188.121 168.605 Q193.931 168.605 196.987 173.211 Q200.065 177.795 200.065 186.545 Q200.065 195.271 196.987 199.878 Q193.931 204.461 188.121 204.461 Q182.311 204.461 179.232 199.878 Q176.177 195.271 176.177 186.545 Q176.177 177.795 179.232 173.211 Q182.311 168.605 188.121 168.605 Z\" fill=\"#000000\" fill-rule=\"evenodd\" fill-opacity=\"1\" /><path clip-path=\"url(#clip160)\" d=\"M218.283 172.309 Q214.672 172.309 212.843 175.873 Q211.038 179.415 211.038 186.545 Q211.038 193.651 212.843 197.216 Q214.672 200.758 218.283 200.758 Q221.917 200.758 223.723 197.216 Q225.551 193.651 225.551 186.545 Q225.551 179.415 223.723 175.873 Q221.917 172.309 218.283 172.309 M218.283 168.605 Q224.093 168.605 227.149 173.211 Q230.227 177.795 230.227 186.545 Q230.227 195.271 227.149 199.878 Q224.093 204.461 218.283 204.461 Q212.473 204.461 209.394 199.878 Q206.339 195.271 206.339 186.545 Q206.339 177.795 209.394 173.211 Q212.473 168.605 218.283 168.605 Z\" fill=\"#000000\" fill-rule=\"evenodd\" fill-opacity=\"1\" /><path clip-path=\"url(#clip160)\" d=\"M6.42416 859.08 L6.42416 852.587 L46.5918 842.593 L6.42416 832.63 L6.42416 825.405 L46.5918 815.411 L6.42416 805.449 L6.42416 798.924 L53.9442 810.86 L53.9442 818.944 L12.6944 828.97 L53.9442 839.091 L53.9442 847.176 L6.42416 859.08 Z\" fill=\"#000000\" fill-rule=\"evenodd\" fill-opacity=\"1\" /><path clip-path=\"url(#clip160)\" d=\"M57.2543 776.962 Q63.62 779.445 65.5616 781.8 Q67.5031 784.155 67.5031 788.102 L67.5031 792.781 L62.6015 792.781 L62.6015 789.343 Q62.6015 786.924 61.4557 785.588 Q60.3099 784.251 56.0448 782.628 L53.3712 781.577 L18.2962 795.996 L18.2962 789.789 L46.178 778.649 L18.2962 767.509 L18.2962 761.302 L57.2543 776.962 Z\" fill=\"#000000\" fill-rule=\"evenodd\" fill-opacity=\"1\" /><path clip-path=\"url(#clip160)\" d=\"M32.4281 723.586 L53.9442 723.586 L53.9442 729.442 L32.619 729.442 Q27.5583 729.442 25.0438 731.416 Q22.5294 733.389 22.5294 737.336 Q22.5294 742.078 25.5531 744.815 Q28.5768 747.553 33.7967 747.553 L53.9442 747.553 L53.9442 753.441 L18.2962 753.441 L18.2962 747.553 L23.8344 747.553 Q20.6197 745.452 19.0283 742.619 Q17.4368 739.755 17.4368 736.031 Q17.4368 729.888 21.2563 726.737 Q25.0438 723.586 32.4281 723.586 Z\" fill=\"#000000\" fill-rule=\"evenodd\" fill-opacity=\"1\" /><path clip-path=\"url(#clip160)\" d=\"M18.2962 711.905 L18.2962 706.048 L53.9442 706.048 L53.9442 711.905 L18.2962 711.905 M4.41896 711.905 L4.41896 706.048 L11.835 706.048 L11.835 711.905 L4.41896 711.905 Z\" fill=\"#000000\" fill-rule=\"evenodd\" fill-opacity=\"1\" /><path clip-path=\"url(#clip160)\" d=\"M4.41896 694.017 L4.41896 688.129 L33.6694 688.129 L18.2962 670.655 L18.2962 663.175 L34.9744 682.081 L53.9442 662.379 L53.9442 670.018 L36.5339 688.129 L53.9442 688.129 L53.9442 694.017 L4.41896 694.017 Z\" fill=\"#000000\" fill-rule=\"evenodd\" fill-opacity=\"1\" /><path clip-path=\"url(#clip160)\" d=\"M18.2962 656.046 L18.2962 650.189 L53.9442 650.189 L53.9442 656.046 L18.2962 656.046 M4.41896 656.046 L4.41896 650.189 L11.835 650.189 L11.835 656.046 L4.41896 656.046 Z\" fill=\"#000000\" fill-rule=\"evenodd\" fill-opacity=\"1\" /><path clip-path=\"url(#clip160)\" d=\"M6.42416 606.807 L6.42416 601.396 L59.9916 617.947 L59.9916 623.358 L6.42416 606.807 Z\" fill=\"#000000\" fill-rule=\"evenodd\" fill-opacity=\"1\" /><path clip-path=\"url(#clip160)\" d=\"M31.6642 551.743 Q32.3644 549.675 34.6561 547.733 Q36.9477 545.76 40.9581 543.786 L53.9442 537.261 L53.9442 544.168 L41.7538 550.247 Q36.9795 552.603 35.42 554.831 Q33.8604 557.027 33.8604 560.846 L33.8604 567.849 L53.9442 567.849 L53.9442 574.278 L6.42416 574.278 L6.42416 559.764 Q6.42416 551.616 9.82981 547.606 Q13.2355 543.595 20.1104 543.595 Q24.5982 543.595 27.5583 545.696 Q30.5184 547.765 31.6642 551.743 M11.7077 567.849 L28.5768 567.849 L28.5768 559.764 Q28.5768 555.117 26.4443 552.762 Q24.28 550.375 20.1104 550.375 Q15.9409 550.375 13.8402 552.762 Q11.7077 555.117 11.7077 559.764 L11.7077 567.849 Z\" fill=\"#000000\" fill-rule=\"evenodd\" fill-opacity=\"1\" /><path clip-path=\"url(#clip160)\" d=\"M34.6561 501.677 L37.5206 501.677 L37.5206 528.604 Q43.5681 528.222 46.7509 524.976 Q49.9019 521.697 49.9019 515.873 Q49.9019 512.499 49.0744 509.348 Q48.2469 506.165 46.5918 503.046 L52.1299 503.046 Q53.4667 506.197 54.167 509.507 Q54.8672 512.817 54.8672 516.223 Q54.8672 524.753 49.9019 529.75 Q44.9367 534.715 36.4703 534.715 Q27.7174 534.715 22.5931 530.005 Q17.4368 525.262 17.4368 517.241 Q17.4368 510.048 22.0838 505.879 Q26.6989 501.677 34.6561 501.677 M32.9373 507.534 Q28.1312 507.597 25.2666 510.239 Q22.4021 512.849 22.4021 517.178 Q22.4021 522.079 25.1712 525.039 Q27.9402 527.968 32.9692 528.413 L32.9373 507.534 Z\" fill=\"#000000\" fill-rule=\"evenodd\" fill-opacity=\"1\" /><path clip-path=\"url(#clip160)\" d=\"M18.2962 494.611 L18.2962 466.793 L23.6434 466.793 L49.2654 488.818 L49.2654 466.793 L53.9442 466.793 L53.9442 495.407 L48.597 495.407 L22.975 473.382 L22.975 494.611 L18.2962 494.611 Z\" fill=\"#000000\" fill-rule=\"evenodd\" fill-opacity=\"1\" /><path clip-path=\"url(#clip160)\" d=\"M39.8759 458.454 L18.2962 458.454 L18.2962 452.598 L39.6531 452.598 Q44.7139 452.598 47.2602 450.624 Q49.7746 448.651 49.7746 444.704 Q49.7746 439.962 46.7509 437.224 Q43.7272 434.455 38.5073 434.455 L18.2962 434.455 L18.2962 428.599 L53.9442 428.599 L53.9442 434.455 L48.4696 434.455 Q51.7162 436.588 53.3076 439.421 Q54.8672 442.221 54.8672 445.945 Q54.8672 452.088 51.0478 455.271 Q47.2283 458.454 39.8759 458.454 M17.4368 443.717 L17.4368 443.717 Z\" fill=\"#000000\" fill-rule=\"evenodd\" fill-opacity=\"1\" /><path clip-path=\"url(#clip160)\" d=\"M4.41896 416.536 L4.41896 410.679 L53.9442 410.679 L53.9442 416.536 L4.41896 416.536 Z\" fill=\"#000000\" fill-rule=\"evenodd\" fill-opacity=\"1\" /><path clip-path=\"url(#clip160)\" d=\"M8.17473 392.633 L18.2962 392.633 L18.2962 380.57 L22.8477 380.57 L22.8477 392.633 L42.1994 392.633 Q46.5599 392.633 47.8013 391.455 Q49.0426 390.245 49.0426 386.585 L49.0426 380.57 L53.9442 380.57 L53.9442 386.585 Q53.9442 393.365 51.4297 395.943 Q48.8834 398.521 42.1994 398.521 L22.8477 398.521 L22.8477 402.818 L18.2962 402.818 L18.2962 398.521 L8.17473 398.521 L8.17473 392.633 Z\" fill=\"#000000\" fill-rule=\"evenodd\" fill-opacity=\"1\" /><path clip-path=\"url(#clip160)\" d=\"M36.0247 356.666 Q36.0247 363.764 37.6479 366.501 Q39.2712 369.239 43.1861 369.239 Q46.3053 369.239 48.1514 367.202 Q49.9656 365.133 49.9656 361.6 Q49.9656 356.73 46.5281 353.802 Q43.0588 350.842 37.3297 350.842 L36.0247 350.842 L36.0247 356.666 M33.6057 344.985 L53.9442 344.985 L53.9442 350.842 L48.5333 350.842 Q51.7798 352.847 53.3394 355.839 Q54.8672 358.831 54.8672 363.159 Q54.8672 368.634 51.8116 371.88 Q48.7243 375.095 43.5681 375.095 Q37.5525 375.095 34.4969 371.085 Q31.4414 367.042 31.4414 359.053 L31.4414 350.842 L30.8685 350.842 Q26.8262 350.842 24.6301 353.515 Q22.4021 356.157 22.4021 360.963 Q22.4021 364.019 23.1341 366.915 Q23.8662 369.812 25.3303 372.485 L19.9195 372.485 Q18.6781 369.27 18.0734 366.247 Q17.4368 363.223 17.4368 360.358 Q17.4368 352.624 21.4472 348.805 Q25.4576 344.985 33.6057 344.985 Z\" fill=\"#000000\" fill-rule=\"evenodd\" fill-opacity=\"1\" /><path clip-path=\"url(#clip160)\" d=\"M8.17473 327.129 L18.2962 327.129 L18.2962 315.066 L22.8477 315.066 L22.8477 327.129 L42.1994 327.129 Q46.5599 327.129 47.8013 325.952 Q49.0426 324.742 49.0426 321.082 L49.0426 315.066 L53.9442 315.066 L53.9442 321.082 Q53.9442 327.862 51.4297 330.44 Q48.8834 333.018 42.1994 333.018 L22.8477 333.018 L22.8477 337.315 L18.2962 337.315 L18.2962 333.018 L8.17473 333.018 L8.17473 327.129 Z\" fill=\"#000000\" fill-rule=\"evenodd\" fill-opacity=\"1\" /><path clip-path=\"url(#clip160)\" d=\"M57.2543 292.532 Q63.62 295.014 65.5616 297.37 Q67.5031 299.725 67.5031 303.672 L67.5031 308.351 L62.6015 308.351 L62.6015 304.913 Q62.6015 302.494 61.4557 301.157 Q60.3099 299.821 56.0448 298.197 L53.3712 297.147 L18.2962 311.565 L18.2962 305.359 L46.178 294.219 L18.2962 283.079 L18.2962 276.872 L57.2543 292.532 Z\" fill=\"#000000\" fill-rule=\"evenodd\" fill-opacity=\"1\" /><path clip-path=\"url(#clip160)\" d=\"M817.791 12.096 L826.055 12.096 L838.775 63.2184 L851.454 12.096 L860.65 12.096 L873.369 63.2184 L886.049 12.096 L894.353 12.096 L879.162 72.576 L868.873 72.576 L856.113 20.0763 L843.231 72.576 L832.941 72.576 L817.791 12.096 Z\" fill=\"#000000\" fill-rule=\"evenodd\" fill-opacity=\"1\" /><path clip-path=\"url(#clip160)\" d=\"M922.304 76.7889 Q919.145 84.8907 916.147 87.3618 Q913.149 89.8329 908.126 89.8329 L902.171 89.8329 L902.171 83.5945 L906.546 83.5945 Q909.625 83.5945 911.326 82.1361 Q913.028 80.6778 915.094 75.2496 L916.431 71.8468 L898.08 27.2059 L905.979 27.2059 L920.157 62.6918 L934.335 27.2059 L942.235 27.2059 L922.304 76.7889 Z\" fill=\"#000000\" fill-rule=\"evenodd\" fill-opacity=\"1\" /><path clip-path=\"url(#clip160)\" d=\"M952.24 9.54393 L959.735 9.54393 L959.735 46.7717 L981.974 27.2059 L991.494 27.2059 L967.431 48.4326 L992.506 72.576 L982.784 72.576 L959.735 50.4176 L959.735 72.576 L952.24 72.576 L952.24 9.54393 Z\" fill=\"#000000\" fill-rule=\"evenodd\" fill-opacity=\"1\" /><path clip-path=\"url(#clip160)\" d=\"M1026.86 34.1734 Q1025.6 33.4443 1024.1 33.1202 Q1022.65 32.7556 1020.86 32.7556 Q1014.54 32.7556 1011.14 36.8875 Q1007.78 40.9789 1007.78 48.6757 L1007.78 72.576 L1000.28 72.576 L1000.28 27.2059 L1007.78 27.2059 L1007.78 34.2544 Q1010.13 30.1225 1013.9 28.1376 Q1017.66 26.1121 1023.05 26.1121 Q1023.82 26.1121 1024.75 26.2337 Q1025.68 26.3147 1026.82 26.5172 L1026.86 34.1734 Z\" fill=\"#000000\" fill-rule=\"evenodd\" fill-opacity=\"1\" /><path clip-path=\"url(#clip160)\" d=\"M1071.66 48.0275 L1071.66 51.6733 L1037.39 51.6733 Q1037.88 59.3701 1042.01 63.421 Q1046.18 67.4314 1053.59 67.4314 Q1057.89 67.4314 1061.9 66.3781 Q1065.95 65.3249 1069.92 63.2184 L1069.92 70.267 Q1065.91 71.9684 1061.7 72.8596 Q1057.48 73.7508 1053.15 73.7508 Q1042.29 73.7508 1035.93 67.4314 Q1029.61 61.1119 1029.61 50.3365 Q1029.61 39.1965 1035.61 32.6746 Q1041.64 26.1121 1051.85 26.1121 Q1061.01 26.1121 1066.31 32.0264 Q1071.66 37.9003 1071.66 48.0275 M1064.21 45.84 Q1064.13 39.7232 1060.76 36.0774 Q1057.44 32.4315 1051.93 32.4315 Q1045.69 32.4315 1041.93 35.9558 Q1038.2 39.4801 1037.63 45.8805 L1064.21 45.84 Z\" fill=\"#000000\" fill-rule=\"evenodd\" fill-opacity=\"1\" /><path clip-path=\"url(#clip160)\" d=\"M1112.82 28.5427 L1112.82 35.5912 Q1109.66 33.9709 1106.26 33.1607 Q1102.85 32.3505 1099.21 32.3505 Q1093.66 32.3505 1090.86 34.0519 Q1088.11 35.7533 1088.11 39.156 Q1088.11 41.7486 1090.09 43.2475 Q1092.08 44.7058 1098.07 46.0426 L1100.63 46.6097 Q1108.56 48.3111 1111.89 51.4303 Q1115.25 54.509 1115.25 60.0587 Q1115.25 66.3781 1110.23 70.0644 Q1105.24 73.7508 1096.49 73.7508 Q1092.85 73.7508 1088.88 73.0216 Q1084.95 72.3329 1080.57 70.9151 L1080.57 63.2184 Q1084.71 65.3654 1088.72 66.4591 Q1092.73 67.5124 1096.66 67.5124 Q1101.92 67.5124 1104.76 65.73 Q1107.59 63.9071 1107.59 60.6258 Q1107.59 57.5877 1105.53 55.9673 Q1103.5 54.3469 1096.57 52.8481 L1093.98 52.2405 Q1087.05 50.7821 1083.98 47.7845 Q1080.9 44.7463 1080.9 39.4801 Q1080.9 33.0797 1085.43 29.5959 Q1089.97 26.1121 1098.32 26.1121 Q1102.45 26.1121 1106.09 26.7198 Q1109.74 27.3274 1112.82 28.5427 Z\" fill=\"#000000\" fill-rule=\"evenodd\" fill-opacity=\"1\" /><path clip-path=\"url(#clip160)\" d=\"M1150.25 27.2059 L1185.65 27.2059 L1185.65 34.0114 L1157.62 66.6212 L1185.65 66.6212 L1185.65 72.576 L1149.24 72.576 L1149.24 65.7705 L1177.27 33.1607 L1150.25 33.1607 L1150.25 27.2059 Z\" fill=\"#000000\" fill-rule=\"evenodd\" fill-opacity=\"1\" /><path clip-path=\"url(#clip160)\" d=\"M1232.36 35.9153 Q1235.16 30.8922 1239.04 28.5022 Q1242.93 26.1121 1248.2 26.1121 Q1255.29 26.1121 1259.14 31.0947 Q1262.99 36.0368 1262.99 45.1919 L1262.99 72.576 L1255.49 72.576 L1255.49 45.4349 Q1255.49 38.913 1253.18 35.7533 Q1250.87 32.5936 1246.13 32.5936 Q1240.34 32.5936 1236.98 36.4419 Q1233.62 40.2903 1233.62 46.9338 L1233.62 72.576 L1226.12 72.576 L1226.12 45.4349 Q1226.12 38.8725 1223.81 35.7533 Q1221.5 32.5936 1216.68 32.5936 Q1210.97 32.5936 1207.61 36.4824 Q1204.25 40.3308 1204.25 46.9338 L1204.25 72.576 L1196.75 72.576 L1196.75 27.2059 L1204.25 27.2059 L1204.25 34.2544 Q1206.8 30.082 1210.36 28.0971 Q1213.93 26.1121 1218.83 26.1121 Q1223.77 26.1121 1227.22 28.6237 Q1230.7 31.1352 1232.36 35.9153 Z\" fill=\"#000000\" fill-rule=\"evenodd\" fill-opacity=\"1\" /><path clip-path=\"url(#clip160)\" d=\"M1277.85 27.2059 L1285.31 27.2059 L1285.31 72.576 L1277.85 72.576 L1277.85 27.2059 M1277.85 9.54393 L1285.31 9.54393 L1285.31 18.9825 L1277.85 18.9825 L1277.85 9.54393 Z\" fill=\"#000000\" fill-rule=\"evenodd\" fill-opacity=\"1\" /><path clip-path=\"url(#clip160)\" d=\"M1321.52 49.7694 Q1312.49 49.7694 1309 51.8354 Q1305.52 53.9013 1305.52 58.8839 Q1305.52 62.8538 1308.11 65.2034 Q1310.75 67.5124 1315.24 67.5124 Q1321.44 67.5124 1325.17 63.1374 Q1328.93 58.7219 1328.93 51.4303 L1328.93 49.7694 L1321.52 49.7694 M1336.39 46.6907 L1336.39 72.576 L1328.93 72.576 L1328.93 65.6895 Q1326.38 69.8214 1322.57 71.8063 Q1318.77 73.7508 1313.26 73.7508 Q1306.29 73.7508 1302.16 69.8619 Q1298.07 65.9325 1298.07 59.3701 Q1298.07 51.7138 1303.17 47.825 Q1308.31 43.9361 1318.48 43.9361 L1328.93 43.9361 L1328.93 43.2069 Q1328.93 38.0623 1325.53 35.2672 Q1322.17 32.4315 1316.05 32.4315 Q1312.16 32.4315 1308.48 33.3632 Q1304.79 34.295 1301.39 36.1584 L1301.39 29.2718 Q1305.48 27.692 1309.33 26.9223 Q1313.18 26.1121 1316.82 26.1121 Q1326.67 26.1121 1331.53 31.2163 Q1336.39 36.3204 1336.39 46.6907 Z\" fill=\"#000000\" fill-rule=\"evenodd\" fill-opacity=\"1\" /><path clip-path=\"url(#clip160)\" d=\"M1389.45 45.1919 L1389.45 72.576 L1382 72.576 L1382 45.4349 Q1382 38.994 1379.49 35.7938 Q1376.98 32.5936 1371.95 32.5936 Q1365.92 32.5936 1362.44 36.4419 Q1358.95 40.2903 1358.95 46.9338 L1358.95 72.576 L1351.46 72.576 L1351.46 27.2059 L1358.95 27.2059 L1358.95 34.2544 Q1361.62 30.163 1365.23 28.1376 Q1368.88 26.1121 1373.62 26.1121 Q1381.43 26.1121 1385.44 30.9732 Q1389.45 35.7938 1389.45 45.1919 Z\" fill=\"#000000\" fill-rule=\"evenodd\" fill-opacity=\"1\" /><path clip-path=\"url(#clip160)\" d=\"M1423.2 76.7889 Q1420.04 84.8907 1417.04 87.3618 Q1414.04 89.8329 1409.02 89.8329 L1403.07 89.8329 L1403.07 83.5945 L1407.44 83.5945 Q1410.52 83.5945 1412.22 82.1361 Q1413.92 80.6778 1415.99 75.2496 L1417.32 71.8468 L1398.97 27.2059 L1406.87 27.2059 L1421.05 62.6918 L1435.23 27.2059 L1443.13 27.2059 L1423.2 76.7889 Z\" fill=\"#000000\" fill-rule=\"evenodd\" fill-opacity=\"1\" /><path clip-path=\"url(#clip160)\" d=\"M1479.79 27.2059 L1487.24 27.2059 L1487.24 72.576 L1479.79 72.576 L1479.79 27.2059 M1479.79 9.54393 L1487.24 9.54393 L1487.24 18.9825 L1479.79 18.9825 L1479.79 9.54393 Z\" fill=\"#000000\" fill-rule=\"evenodd\" fill-opacity=\"1\" /><path clip-path=\"url(#clip160)\" d=\"M1502.84 9.54393 L1510.29 9.54393 L1510.29 72.576 L1502.84 72.576 L1502.84 9.54393 Z\" fill=\"#000000\" fill-rule=\"evenodd\" fill-opacity=\"1\" /><path clip-path=\"url(#clip160)\" d=\"M1543.47 32.4315 Q1537.47 32.4315 1533.99 37.1306 Q1530.51 41.7891 1530.51 49.9314 Q1530.51 58.0738 1533.95 62.7728 Q1537.43 67.4314 1543.47 67.4314 Q1549.42 67.4314 1552.91 62.7323 Q1556.39 58.0333 1556.39 49.9314 Q1556.39 41.8701 1552.91 37.1711 Q1549.42 32.4315 1543.47 32.4315 M1543.47 26.1121 Q1553.19 26.1121 1558.74 32.4315 Q1564.29 38.7509 1564.29 49.9314 Q1564.29 61.0714 1558.74 67.4314 Q1553.19 73.7508 1543.47 73.7508 Q1533.71 73.7508 1528.16 67.4314 Q1522.65 61.0714 1522.65 49.9314 Q1522.65 38.7509 1528.16 32.4315 Q1533.71 26.1121 1543.47 26.1121 Z\" fill=\"#000000\" fill-rule=\"evenodd\" fill-opacity=\"1\" /><path clip-path=\"url(#clip160)\" d=\"M1597.87 5.93863 L1605.93 5.93863 L1592.73 21.17 L1586.53 21.17 L1597.87 5.93863 M1605.57 28.5427 L1605.57 35.5912 Q1602.41 33.9709 1599.01 33.1607 Q1595.61 32.3505 1591.96 32.3505 Q1586.41 32.3505 1583.61 34.0519 Q1580.86 35.7533 1580.86 39.156 Q1580.86 41.7486 1582.84 43.2475 Q1584.83 44.7058 1590.83 46.0426 L1593.38 46.6097 Q1601.32 48.3111 1604.64 51.4303 Q1608 54.509 1608 60.0587 Q1608 66.3781 1602.98 70.0644 Q1598 73.7508 1589.25 73.7508 Q1585.6 73.7508 1581.63 73.0216 Q1577.7 72.3329 1573.33 70.9151 L1573.33 63.2184 Q1577.46 65.3654 1581.47 66.4591 Q1585.48 67.5124 1589.41 67.5124 Q1594.67 67.5124 1597.51 65.73 Q1600.34 63.9071 1600.34 60.6258 Q1600.34 57.5877 1598.28 55.9673 Q1596.25 54.3469 1589.33 52.8481 L1586.73 52.2405 Q1579.81 50.7821 1576.73 47.7845 Q1573.65 44.7463 1573.65 39.4801 Q1573.65 33.0797 1578.19 29.5959 Q1582.72 26.1121 1591.07 26.1121 Q1595.2 26.1121 1598.85 26.7198 Q1602.49 27.3274 1605.57 28.5427 Z\" fill=\"#000000\" fill-rule=\"evenodd\" fill-opacity=\"1\" /><path clip-path=\"url(#clip160)\" d=\"M1652.52 28.9478 L1652.52 35.9153 Q1649.36 34.1734 1646.16 33.3227 Q1643 32.4315 1639.76 32.4315 Q1632.51 32.4315 1628.5 37.0496 Q1624.49 41.6271 1624.49 49.9314 Q1624.49 58.2358 1628.5 62.8538 Q1632.51 67.4314 1639.76 67.4314 Q1643 67.4314 1646.16 66.5807 Q1649.36 65.6895 1652.52 63.9476 L1652.52 70.8341 Q1649.4 72.2924 1646.04 73.0216 Q1642.72 73.7508 1638.95 73.7508 Q1628.7 73.7508 1622.67 67.3098 Q1616.63 60.8689 1616.63 49.9314 Q1616.63 38.832 1622.71 32.472 Q1628.82 26.1121 1639.44 26.1121 Q1642.88 26.1121 1646.16 26.8413 Q1649.44 27.5299 1652.52 28.9478 Z\" fill=\"#000000\" fill-rule=\"evenodd\" fill-opacity=\"1\" /><path clip-path=\"url(#clip160)\" d=\"M1665.48 27.2059 L1672.94 27.2059 L1672.94 72.576 L1665.48 72.576 L1665.48 27.2059 M1665.48 9.54393 L1672.94 9.54393 L1672.94 18.9825 L1665.48 18.9825 L1665.48 9.54393 Z\" fill=\"#000000\" fill-rule=\"evenodd\" fill-opacity=\"1\" /><path clip-path=\"url(#clip160)\" d=\"M1714.13 54.671 L1714.13 27.2059 L1721.59 27.2059 L1721.59 54.3874 Q1721.59 60.8284 1724.1 64.0691 Q1726.61 67.2693 1731.63 67.2693 Q1737.67 67.2693 1741.15 63.421 Q1744.68 59.5726 1744.68 52.9291 L1744.68 27.2059 L1752.13 27.2059 L1752.13 72.576 L1744.68 72.576 L1744.68 65.6084 Q1741.96 69.7404 1738.36 71.7658 Q1734.79 73.7508 1730.05 73.7508 Q1722.24 73.7508 1718.19 68.8897 Q1714.13 64.0286 1714.13 54.671 M1732.89 26.1121 L1732.89 26.1121 Z\" fill=\"#000000\" fill-rule=\"evenodd\" fill-opacity=\"1\" /><path clip-path=\"url(#clip160)\" d=\"M1774.86 14.324 L1774.86 27.2059 L1790.21 27.2059 L1790.21 32.9987 L1774.86 32.9987 L1774.86 57.6282 Q1774.86 63.1779 1776.36 64.7578 Q1777.9 66.3376 1782.55 66.3376 L1790.21 66.3376 L1790.21 72.576 L1782.55 72.576 Q1773.93 72.576 1770.64 69.3758 Q1767.36 66.1351 1767.36 57.6282 L1767.36 32.9987 L1761.89 32.9987 L1761.89 27.2059 L1767.36 27.2059 L1767.36 14.324 L1774.86 14.324 Z\" fill=\"#000000\" fill-rule=\"evenodd\" fill-opacity=\"1\" /><path clip-path=\"url(#clip160)\" d=\"M1826.3 34.1734 Q1825.05 33.4443 1823.55 33.1202 Q1822.09 32.7556 1820.31 32.7556 Q1813.99 32.7556 1810.59 36.8875 Q1807.22 40.9789 1807.22 48.6757 L1807.22 72.576 L1799.73 72.576 L1799.73 27.2059 L1807.22 27.2059 L1807.22 34.2544 Q1809.57 30.1225 1813.34 28.1376 Q1817.11 26.1121 1822.5 26.1121 Q1823.27 26.1121 1824.2 26.2337 Q1825.13 26.3147 1826.26 26.5172 L1826.3 34.1734 Z\" fill=\"#000000\" fill-rule=\"evenodd\" fill-opacity=\"1\" /><path clip-path=\"url(#clip160)\" d=\"M1854.74 49.7694 Q1845.71 49.7694 1842.22 51.8354 Q1838.74 53.9013 1838.74 58.8839 Q1838.74 62.8538 1841.33 65.2034 Q1843.97 67.5124 1848.46 67.5124 Q1854.66 67.5124 1858.39 63.1374 Q1862.15 58.7219 1862.15 51.4303 L1862.15 49.7694 L1854.74 49.7694 M1869.61 46.6907 L1869.61 72.576 L1862.15 72.576 L1862.15 65.6895 Q1859.6 69.8214 1855.79 71.8063 Q1851.99 73.7508 1846.48 73.7508 Q1839.51 73.7508 1835.38 69.8619 Q1831.29 65.9325 1831.29 59.3701 Q1831.29 51.7138 1836.39 47.825 Q1841.54 43.9361 1851.7 43.9361 L1862.15 43.9361 L1862.15 43.2069 Q1862.15 38.0623 1858.75 35.2672 Q1855.39 32.4315 1849.27 32.4315 Q1845.38 32.4315 1841.7 33.3632 Q1838.01 34.295 1834.61 36.1584 L1834.61 29.2718 Q1838.7 27.692 1842.55 26.9223 Q1846.4 26.1121 1850.04 26.1121 Q1859.89 26.1121 1864.75 31.2163 Q1869.61 36.3204 1869.61 46.6907 Z\" fill=\"#000000\" fill-rule=\"evenodd\" fill-opacity=\"1\" /><path clip-path=\"url(#clip160)\" d=\"M1917.61 28.9478 L1917.61 35.9153 Q1914.45 34.1734 1911.25 33.3227 Q1908.09 32.4315 1904.85 32.4315 Q1897.6 32.4315 1893.59 37.0496 Q1889.58 41.6271 1889.58 49.9314 Q1889.58 58.2358 1893.59 62.8538 Q1897.6 67.4314 1904.85 67.4314 Q1908.09 67.4314 1911.25 66.5807 Q1914.45 65.6895 1917.61 63.9476 L1917.61 70.8341 Q1914.49 72.2924 1911.13 73.0216 Q1907.81 73.7508 1904.04 73.7508 Q1893.79 73.7508 1887.76 67.3098 Q1881.72 60.8689 1881.72 49.9314 Q1881.72 38.832 1887.8 32.472 Q1893.91 26.1121 1904.53 26.1121 Q1907.97 26.1121 1911.25 26.8413 Q1914.53 27.5299 1917.61 28.9478 Z\" fill=\"#000000\" fill-rule=\"evenodd\" fill-opacity=\"1\" /><path clip-path=\"url(#clip160)\" d=\"M1948.16 32.4315 Q1942.16 32.4315 1938.68 37.1306 Q1935.19 41.7891 1935.19 49.9314 Q1935.19 58.0738 1938.64 62.7728 Q1942.12 67.4314 1948.16 67.4314 Q1954.11 67.4314 1957.59 62.7323 Q1961.08 58.0333 1961.08 49.9314 Q1961.08 41.8701 1957.59 37.1711 Q1954.11 32.4315 1948.16 32.4315 M1948.16 26.1121 Q1957.88 26.1121 1963.43 32.4315 Q1968.98 38.7509 1968.98 49.9314 Q1968.98 61.0714 1963.43 67.4314 Q1957.88 73.7508 1948.16 73.7508 Q1938.39 73.7508 1932.84 67.4314 Q1927.33 61.0714 1927.33 49.9314 Q1927.33 38.7509 1932.84 32.4315 Q1938.39 26.1121 1948.16 26.1121 Z\" fill=\"#000000\" fill-rule=\"evenodd\" fill-opacity=\"1\" /><path clip-path=\"url(#clip160)\" d=\"M2019.05 45.1919 L2019.05 72.576 L2011.59 72.576 L2011.59 45.4349 Q2011.59 38.994 2009.08 35.7938 Q2006.57 32.5936 2001.55 32.5936 Q1995.51 32.5936 1992.03 36.4419 Q1988.54 40.2903 1988.54 46.9338 L1988.54 72.576 L1981.05 72.576 L1981.05 27.2059 L1988.54 27.2059 L1988.54 34.2544 Q1991.22 30.163 1994.82 28.1376 Q1998.47 26.1121 2003.21 26.1121 Q2011.03 26.1121 2015.04 30.9732 Q2019.05 35.7938 2019.05 45.1919 Z\" fill=\"#000000\" fill-rule=\"evenodd\" fill-opacity=\"1\" /><path clip-path=\"url(#clip160)\" d=\"M2052.79 76.7889 Q2049.63 84.8907 2046.63 87.3618 Q2043.64 89.8329 2038.61 89.8329 L2032.66 89.8329 L2032.66 83.5945 L2037.03 83.5945 Q2040.11 83.5945 2041.81 82.1361 Q2043.51 80.6778 2045.58 75.2496 L2046.92 71.8468 L2028.57 27.2059 L2036.47 27.2059 L2050.64 62.6918 L2064.82 27.2059 L2072.72 27.2059 L2052.79 76.7889 Z\" fill=\"#000000\" fill-rule=\"evenodd\" fill-opacity=\"1\" /><path clip-path=\"url(#clip160)\" d=\"M2115.66 28.9478 L2115.66 35.9153 Q2112.5 34.1734 2109.3 33.3227 Q2106.14 32.4315 2102.9 32.4315 Q2095.65 32.4315 2091.64 37.0496 Q2087.63 41.6271 2087.63 49.9314 Q2087.63 58.2358 2091.64 62.8538 Q2095.65 67.4314 2102.9 67.4314 Q2106.14 67.4314 2109.3 66.5807 Q2112.5 65.6895 2115.66 63.9476 L2115.66 70.8341 Q2112.54 72.2924 2109.18 73.0216 Q2105.86 73.7508 2102.09 73.7508 Q2091.84 73.7508 2085.81 67.3098 Q2079.77 60.8689 2079.77 49.9314 Q2079.77 38.832 2085.85 32.472 Q2091.96 26.1121 2102.58 26.1121 Q2106.02 26.1121 2109.3 26.8413 Q2112.58 27.5299 2115.66 28.9478 Z\" fill=\"#000000\" fill-rule=\"evenodd\" fill-opacity=\"1\" /><path clip-path=\"url(#clip160)\" d=\"M2166.34 45.1919 L2166.34 72.576 L2158.88 72.576 L2158.88 45.4349 Q2158.88 38.994 2156.37 35.7938 Q2153.86 32.5936 2148.84 32.5936 Q2142.8 32.5936 2139.32 36.4419 Q2135.83 40.2903 2135.83 46.9338 L2135.83 72.576 L2128.34 72.576 L2128.34 9.54393 L2135.83 9.54393 L2135.83 34.2544 Q2138.51 30.163 2142.11 28.1376 Q2145.76 26.1121 2150.5 26.1121 Q2158.32 26.1121 2162.33 30.9732 Q2166.34 35.7938 2166.34 45.1919 Z\" fill=\"#000000\" fill-rule=\"evenodd\" fill-opacity=\"1\" /><path clip-path=\"url(#clip160)\" d=\"M2204.33 27.2059 L2239.74 27.2059 L2239.74 34.0114 L2211.71 66.6212 L2239.74 66.6212 L2239.74 72.576 L2203.32 72.576 L2203.32 65.7705 L2231.35 33.1607 L2204.33 33.1607 L2204.33 27.2059 Z\" fill=\"#000000\" fill-rule=\"evenodd\" fill-opacity=\"1\" /><path clip-path=\"url(#clip160)\" d=\"M2271.74 49.7694 Q2262.71 49.7694 2259.22 51.8354 Q2255.74 53.9013 2255.74 58.8839 Q2255.74 62.8538 2258.33 65.2034 Q2260.97 67.5124 2265.46 67.5124 Q2271.66 67.5124 2275.39 63.1374 Q2279.15 58.7219 2279.15 51.4303 L2279.15 49.7694 L2271.74 49.7694 M2286.61 46.6907 L2286.61 72.576 L2279.15 72.576 L2279.15 65.6895 Q2276.6 69.8214 2272.79 71.8063 Q2268.99 73.7508 2263.48 73.7508 Q2256.51 73.7508 2252.38 69.8619 Q2248.29 65.9325 2248.29 59.3701 Q2248.29 51.7138 2253.39 47.825 Q2258.54 43.9361 2268.7 43.9361 L2279.15 43.9361 L2279.15 43.2069 Q2279.15 38.0623 2275.75 35.2672 Q2272.39 32.4315 2266.27 32.4315 Q2262.38 32.4315 2258.7 33.3632 Q2255.01 34.295 2251.61 36.1584 L2251.61 29.2718 Q2255.7 27.692 2259.55 26.9223 Q2263.4 26.1121 2267.04 26.1121 Q2276.89 26.1121 2281.75 31.2163 Q2286.61 36.3204 2286.61 46.6907 Z\" fill=\"#000000\" fill-rule=\"evenodd\" fill-opacity=\"1\" /><path clip-path=\"url(#clip160)\" d=\"M2337.29 35.9153 Q2340.08 30.8922 2343.97 28.5022 Q2347.86 26.1121 2353.12 26.1121 Q2360.21 26.1121 2364.06 31.0947 Q2367.91 36.0368 2367.91 45.1919 L2367.91 72.576 L2360.42 72.576 L2360.42 45.4349 Q2360.42 38.913 2358.11 35.7533 Q2355.8 32.5936 2351.06 32.5936 Q2345.27 32.5936 2341.9 36.4419 Q2338.54 40.2903 2338.54 46.9338 L2338.54 72.576 L2331.05 72.576 L2331.05 45.4349 Q2331.05 38.8725 2328.74 35.7533 Q2326.43 32.5936 2321.61 32.5936 Q2315.9 32.5936 2312.53 36.4824 Q2309.17 40.3308 2309.17 46.9338 L2309.17 72.576 L2301.68 72.576 L2301.68 27.2059 L2309.17 27.2059 L2309.17 34.2544 Q2311.72 30.082 2315.29 28.0971 Q2318.85 26.1121 2323.76 26.1121 Q2328.7 26.1121 2332.14 28.6237 Q2335.62 31.1352 2337.29 35.9153 Z\" fill=\"#000000\" fill-rule=\"evenodd\" fill-opacity=\"1\" /><path clip-path=\"url(#clip160)\" d=\"M2400.36 32.4315 Q2394.36 32.4315 2390.88 37.1306 Q2387.39 41.7891 2387.39 49.9314 Q2387.39 58.0738 2390.84 62.7728 Q2394.32 67.4314 2400.36 67.4314 Q2406.31 67.4314 2409.8 62.7323 Q2413.28 58.0333 2413.28 49.9314 Q2413.28 41.8701 2409.8 37.1711 Q2406.31 32.4315 2400.36 32.4315 M2400.36 26.1121 Q2410.08 26.1121 2415.63 32.4315 Q2421.18 38.7509 2421.18 49.9314 Q2421.18 61.0714 2415.63 67.4314 Q2410.08 73.7508 2400.36 73.7508 Q2390.6 73.7508 2385.05 67.4314 Q2379.54 61.0714 2379.54 49.9314 Q2379.54 38.7509 2385.05 32.4315 Q2390.6 26.1121 2400.36 26.1121 M2405.99 6.22219 L2414.05 6.22219 L2400.84 21.4536 L2394.65 21.4536 L2405.99 6.22219 Z\" fill=\"#000000\" fill-rule=\"evenodd\" fill-opacity=\"1\" /><path clip-path=\"url(#clip160)\" d=\"M2429.2 27.2059 L2436.65 27.2059 L2445.97 62.6108 L2455.25 27.2059 L2464.04 27.2059 L2473.36 62.6108 L2482.63 27.2059 L2490.09 27.2059 L2478.22 72.576 L2469.43 72.576 L2459.66 35.3887 L2449.86 72.576 L2441.07 72.576 L2429.2 27.2059 Z\" fill=\"#000000\" fill-rule=\"evenodd\" fill-opacity=\"1\" /><path clip-path=\"url(#clip160)\" d=\"M2501.39 27.2059 L2508.84 27.2059 L2508.84 72.576 L2501.39 72.576 L2501.39 27.2059 M2501.39 9.54393 L2508.84 9.54393 L2508.84 18.9825 L2501.39 18.9825 L2501.39 9.54393 Z\" fill=\"#000000\" fill-rule=\"evenodd\" fill-opacity=\"1\" /><path clip-path=\"url(#clip160)\" d=\"M2563.24 48.0275 L2563.24 51.6733 L2528.97 51.6733 Q2529.46 59.3701 2533.59 63.421 Q2537.76 67.4314 2545.18 67.4314 Q2549.47 67.4314 2553.48 66.3781 Q2557.53 65.3249 2561.5 63.2184 L2561.5 70.267 Q2557.49 71.9684 2553.28 72.8596 Q2549.07 73.7508 2544.73 73.7508 Q2533.88 73.7508 2527.52 67.4314 Q2521.2 61.1119 2521.2 50.3365 Q2521.2 39.1965 2527.19 32.6746 Q2533.23 26.1121 2543.44 26.1121 Q2552.59 26.1121 2557.9 32.0264 Q2563.24 37.9003 2563.24 48.0275 M2555.79 45.84 Q2555.71 39.7232 2552.35 36.0774 Q2549.03 32.4315 2543.52 32.4315 Q2537.28 32.4315 2533.51 35.9558 Q2529.78 39.4801 2529.22 45.8805 L2555.79 45.84 Z\" fill=\"#000000\" fill-rule=\"evenodd\" fill-opacity=\"1\" /><path clip-path=\"url(#clip160)\" d=\"M2596.71 5.93863 L2604.77 5.93863 L2591.56 21.17 L2585.36 21.17 L2596.71 5.93863 M2613.19 45.1919 L2613.19 72.576 L2605.74 72.576 L2605.74 45.4349 Q2605.74 38.994 2603.23 35.7938 Q2600.72 32.5936 2595.69 32.5936 Q2589.66 32.5936 2586.17 36.4419 Q2582.69 40.2903 2582.69 46.9338 L2582.69 72.576 L2575.19 72.576 L2575.19 27.2059 L2582.69 27.2059 L2582.69 34.2544 Q2585.36 30.163 2588.97 28.1376 Q2592.61 26.1121 2597.35 26.1121 Q2605.17 26.1121 2609.18 30.9732 Q2613.19 35.7938 2613.19 45.1919 Z\" fill=\"#000000\" fill-rule=\"evenodd\" fill-opacity=\"1\" /><polyline clip-path=\"url(#clip162)\" style=\"stroke:#009af9; stroke-linecap:round; stroke-linejoin:round; stroke-width:4; stroke-opacity:1; fill:none\" points=\"359.582,980.187 540.37,924.747 721.158,876.469 1263.52,710.3 2167.46,431.092 3071.4,155.765 \"/>\n",
       "<path clip-path=\"url(#clip160)\" d=\"M374.045 263.842 L779.368 263.842 L779.368 160.162 L374.045 160.162  Z\" fill=\"#ffffff\" fill-rule=\"evenodd\" fill-opacity=\"1\"/>\n",
       "<polyline clip-path=\"url(#clip160)\" style=\"stroke:#000000; stroke-linecap:round; stroke-linejoin:round; stroke-width:4; stroke-opacity:1; fill:none\" points=\"374.045,263.842 779.368,263.842 779.368,160.162 374.045,160.162 374.045,263.842 \"/>\n",
       "<polyline clip-path=\"url(#clip160)\" style=\"stroke:#009af9; stroke-linecap:round; stroke-linejoin:round; stroke-width:4; stroke-opacity:1; fill:none\" points=\"405.984,212.002 597.619,212.002 \"/>\n",
       "<path clip-path=\"url(#clip160)\" d=\"M634.234 198.564 L634.234 211.55 L640.114 211.55 Q643.378 211.55 645.16 209.861 Q646.943 208.171 646.943 205.046 Q646.943 201.944 645.16 200.254 Q643.378 198.564 640.114 198.564 L634.234 198.564 M629.559 194.722 L640.114 194.722 Q645.924 194.722 648.887 197.361 Q651.873 199.976 651.873 205.046 Q651.873 210.161 648.887 212.777 Q645.924 215.393 640.114 215.393 L634.234 215.393 L634.234 229.282 L629.559 229.282 L629.559 194.722 Z\" fill=\"#000000\" fill-rule=\"evenodd\" fill-opacity=\"1\" /><path clip-path=\"url(#clip160)\" d=\"M672.151 207.337 Q671.433 206.921 670.577 206.736 Q669.744 206.527 668.725 206.527 Q665.114 206.527 663.17 208.888 Q661.248 211.226 661.248 215.624 L661.248 229.282 L656.966 229.282 L656.966 203.356 L661.248 203.356 L661.248 207.384 Q662.591 205.023 664.744 203.888 Q666.896 202.731 669.975 202.731 Q670.415 202.731 670.947 202.8 Q671.48 202.847 672.128 202.962 L672.151 207.337 Z\" fill=\"#000000\" fill-rule=\"evenodd\" fill-opacity=\"1\" /><path clip-path=\"url(#clip160)\" d=\"M685.623 206.342 Q682.197 206.342 680.206 209.027 Q678.216 211.689 678.216 216.342 Q678.216 220.995 680.183 223.68 Q682.174 226.342 685.623 226.342 Q689.026 226.342 691.017 223.657 Q693.007 220.972 693.007 216.342 Q693.007 211.736 691.017 209.05 Q689.026 206.342 685.623 206.342 M685.623 202.731 Q691.179 202.731 694.35 206.342 Q697.521 209.953 697.521 216.342 Q697.521 222.708 694.35 226.342 Q691.179 229.953 685.623 229.953 Q680.044 229.953 676.873 226.342 Q673.725 222.708 673.725 216.342 Q673.725 209.953 676.873 206.342 Q680.044 202.731 685.623 202.731 Z\" fill=\"#000000\" fill-rule=\"evenodd\" fill-opacity=\"1\" /><path clip-path=\"url(#clip160)\" d=\"M717.706 193.263 L717.706 196.805 L713.632 196.805 Q711.341 196.805 710.438 197.731 Q709.558 198.657 709.558 201.064 L709.558 203.356 L716.572 203.356 L716.572 206.666 L709.558 206.666 L709.558 229.282 L705.276 229.282 L705.276 206.666 L701.202 206.666 L701.202 203.356 L705.276 203.356 L705.276 201.55 Q705.276 197.222 707.29 195.254 Q709.304 193.263 713.679 193.263 L717.706 193.263 Z\" fill=\"#000000\" fill-rule=\"evenodd\" fill-opacity=\"1\" /><path clip-path=\"url(#clip160)\" d=\"M721.271 203.356 L725.53 203.356 L725.53 229.282 L721.271 229.282 L721.271 203.356 M721.271 193.263 L725.53 193.263 L725.53 198.657 L721.271 198.657 L721.271 193.263 Z\" fill=\"#000000\" fill-rule=\"evenodd\" fill-opacity=\"1\" /><path clip-path=\"url(#clip160)\" d=\"M738.655 195.995 L738.655 203.356 L747.428 203.356 L747.428 206.666 L738.655 206.666 L738.655 220.74 Q738.655 223.911 739.512 224.814 Q740.391 225.717 743.053 225.717 L747.428 225.717 L747.428 229.282 L743.053 229.282 Q738.123 229.282 736.248 227.453 Q734.373 225.601 734.373 220.74 L734.373 206.666 L731.248 206.666 L731.248 203.356 L734.373 203.356 L734.373 195.995 L738.655 195.995 Z\" fill=\"#000000\" fill-rule=\"evenodd\" fill-opacity=\"1\" /><path clip-path=\"url(#clip160)\" d=\"M278.227 2204.92 L3152.76 2204.92 L3152.76 1331.03 L278.227 1331.03  Z\" fill=\"#ffffff\" fill-rule=\"evenodd\" fill-opacity=\"1\"/>\n",
       "<defs>\n",
       "  <clipPath id=\"clip163\">\n",
       "    <rect x=\"278\" y=\"1331\" width=\"2876\" height=\"875\"/>\n",
       "  </clipPath>\n",
       "</defs>\n",
       "<polyline clip-path=\"url(#clip163)\" style=\"stroke:#000000; stroke-linecap:round; stroke-linejoin:round; stroke-width:2; stroke-opacity:0.1; fill:none\" points=\"359.582,2204.92 359.582,1331.03 \"/>\n",
       "<polyline clip-path=\"url(#clip163)\" style=\"stroke:#000000; stroke-linecap:round; stroke-linejoin:round; stroke-width:2; stroke-opacity:0.1; fill:none\" points=\"1082.73,2204.92 1082.73,1331.03 \"/>\n",
       "<polyline clip-path=\"url(#clip163)\" style=\"stroke:#000000; stroke-linecap:round; stroke-linejoin:round; stroke-width:2; stroke-opacity:0.1; fill:none\" points=\"1805.89,2204.92 1805.89,1331.03 \"/>\n",
       "<polyline clip-path=\"url(#clip163)\" style=\"stroke:#000000; stroke-linecap:round; stroke-linejoin:round; stroke-width:2; stroke-opacity:0.1; fill:none\" points=\"2529.04,2204.92 2529.04,1331.03 \"/>\n",
       "<polyline clip-path=\"url(#clip160)\" style=\"stroke:#000000; stroke-linecap:round; stroke-linejoin:round; stroke-width:4; stroke-opacity:1; fill:none\" points=\"278.227,2204.92 3152.76,2204.92 \"/>\n",
       "<polyline clip-path=\"url(#clip160)\" style=\"stroke:#000000; stroke-linecap:round; stroke-linejoin:round; stroke-width:4; stroke-opacity:1; fill:none\" points=\"359.582,2204.92 359.582,2186.02 \"/>\n",
       "<polyline clip-path=\"url(#clip160)\" style=\"stroke:#000000; stroke-linecap:round; stroke-linejoin:round; stroke-width:4; stroke-opacity:1; fill:none\" points=\"1082.73,2204.92 1082.73,2186.02 \"/>\n",
       "<polyline clip-path=\"url(#clip160)\" style=\"stroke:#000000; stroke-linecap:round; stroke-linejoin:round; stroke-width:4; stroke-opacity:1; fill:none\" points=\"1805.89,2204.92 1805.89,2186.02 \"/>\n",
       "<polyline clip-path=\"url(#clip160)\" style=\"stroke:#000000; stroke-linecap:round; stroke-linejoin:round; stroke-width:4; stroke-opacity:1; fill:none\" points=\"2529.04,2204.92 2529.04,2186.02 \"/>\n",
       "<path clip-path=\"url(#clip160)\" d=\"M326.735 2269.78 L334.374 2269.78 L334.374 2243.42 L326.064 2245.09 L326.064 2240.83 L334.327 2239.16 L339.003 2239.16 L339.003 2269.78 L346.642 2269.78 L346.642 2273.72 L326.735 2273.72 L326.735 2269.78 Z\" fill=\"#000000\" fill-rule=\"evenodd\" fill-opacity=\"1\" /><path clip-path=\"url(#clip160)\" d=\"M356.087 2267.84 L360.971 2267.84 L360.971 2273.72 L356.087 2273.72 L356.087 2267.84 Z\" fill=\"#000000\" fill-rule=\"evenodd\" fill-opacity=\"1\" /><path clip-path=\"url(#clip160)\" d=\"M381.156 2242.24 Q377.545 2242.24 375.716 2245.8 Q373.911 2249.34 373.911 2256.47 Q373.911 2263.58 375.716 2267.15 Q377.545 2270.69 381.156 2270.69 Q384.79 2270.69 386.596 2267.15 Q388.424 2263.58 388.424 2256.47 Q388.424 2249.34 386.596 2245.8 Q384.79 2242.24 381.156 2242.24 M381.156 2238.53 Q386.966 2238.53 390.022 2243.14 Q393.1 2247.72 393.1 2256.47 Q393.1 2265.2 390.022 2269.81 Q386.966 2274.39 381.156 2274.39 Q375.346 2274.39 372.267 2269.81 Q369.211 2265.2 369.211 2256.47 Q369.211 2247.72 372.267 2243.14 Q375.346 2238.53 381.156 2238.53 Z\" fill=\"#000000\" fill-rule=\"evenodd\" fill-opacity=\"1\" /><path clip-path=\"url(#clip160)\" d=\"M1050.69 2269.78 L1058.32 2269.78 L1058.32 2243.42 L1050.01 2245.09 L1050.01 2240.83 L1058.28 2239.16 L1062.95 2239.16 L1062.95 2269.78 L1070.59 2269.78 L1070.59 2273.72 L1050.69 2273.72 L1050.69 2269.78 Z\" fill=\"#000000\" fill-rule=\"evenodd\" fill-opacity=\"1\" /><path clip-path=\"url(#clip160)\" d=\"M1080.04 2267.84 L1084.92 2267.84 L1084.92 2273.72 L1080.04 2273.72 L1080.04 2267.84 Z\" fill=\"#000000\" fill-rule=\"evenodd\" fill-opacity=\"1\" /><path clip-path=\"url(#clip160)\" d=\"M1099.13 2269.78 L1115.45 2269.78 L1115.45 2273.72 L1093.51 2273.72 L1093.51 2269.78 Q1096.17 2267.03 1100.75 2262.4 Q1105.36 2257.75 1106.54 2256.41 Q1108.79 2253.88 1109.67 2252.15 Q1110.57 2250.39 1110.57 2248.7 Q1110.57 2245.94 1108.62 2244.21 Q1106.7 2242.47 1103.6 2242.47 Q1101.4 2242.47 1098.95 2243.23 Q1096.52 2244 1093.74 2245.55 L1093.74 2240.83 Q1096.56 2239.69 1099.02 2239.11 Q1101.47 2238.53 1103.51 2238.53 Q1108.88 2238.53 1112.07 2241.22 Q1115.27 2243.91 1115.27 2248.4 Q1115.27 2250.53 1114.46 2252.45 Q1113.67 2254.34 1111.56 2256.94 Q1110.99 2257.61 1107.88 2260.83 Q1104.78 2264.02 1099.13 2269.78 Z\" fill=\"#000000\" fill-rule=\"evenodd\" fill-opacity=\"1\" /><path clip-path=\"url(#clip160)\" d=\"M1772.8 2269.78 L1780.43 2269.78 L1780.43 2243.42 L1772.12 2245.09 L1772.12 2240.83 L1780.39 2239.16 L1785.06 2239.16 L1785.06 2269.78 L1792.7 2269.78 L1792.7 2273.72 L1772.8 2273.72 L1772.8 2269.78 Z\" fill=\"#000000\" fill-rule=\"evenodd\" fill-opacity=\"1\" /><path clip-path=\"url(#clip160)\" d=\"M1802.15 2267.84 L1807.03 2267.84 L1807.03 2273.72 L1802.15 2273.72 L1802.15 2267.84 Z\" fill=\"#000000\" fill-rule=\"evenodd\" fill-opacity=\"1\" /><path clip-path=\"url(#clip160)\" d=\"M1830.06 2243.23 L1818.26 2261.68 L1830.06 2261.68 L1830.06 2243.23 M1828.84 2239.16 L1834.72 2239.16 L1834.72 2261.68 L1839.65 2261.68 L1839.65 2265.57 L1834.72 2265.57 L1834.72 2273.72 L1830.06 2273.72 L1830.06 2265.57 L1814.46 2265.57 L1814.46 2261.06 L1828.84 2239.16 Z\" fill=\"#000000\" fill-rule=\"evenodd\" fill-opacity=\"1\" /><path clip-path=\"url(#clip160)\" d=\"M2496.11 2269.78 L2503.75 2269.78 L2503.75 2243.42 L2495.44 2245.09 L2495.44 2240.83 L2503.7 2239.16 L2508.38 2239.16 L2508.38 2269.78 L2516.02 2269.78 L2516.02 2273.72 L2496.11 2273.72 L2496.11 2269.78 Z\" fill=\"#000000\" fill-rule=\"evenodd\" fill-opacity=\"1\" /><path clip-path=\"url(#clip160)\" d=\"M2525.46 2267.84 L2530.35 2267.84 L2530.35 2273.72 L2525.46 2273.72 L2525.46 2267.84 Z\" fill=\"#000000\" fill-rule=\"evenodd\" fill-opacity=\"1\" /><path clip-path=\"url(#clip160)\" d=\"M2551.11 2254.58 Q2547.96 2254.58 2546.11 2256.73 Q2544.28 2258.88 2544.28 2262.63 Q2544.28 2266.36 2546.11 2268.53 Q2547.96 2270.69 2551.11 2270.69 Q2554.26 2270.69 2556.09 2268.53 Q2557.94 2266.36 2557.94 2262.63 Q2557.94 2258.88 2556.09 2256.73 Q2554.26 2254.58 2551.11 2254.58 M2560.39 2239.92 L2560.39 2244.18 Q2558.63 2243.35 2556.83 2242.91 Q2555.04 2242.47 2553.28 2242.47 Q2548.66 2242.47 2546.2 2245.59 Q2543.77 2248.72 2543.42 2255.04 Q2544.79 2253.03 2546.85 2251.96 Q2548.91 2250.87 2551.39 2250.87 Q2556.6 2250.87 2559.6 2254.04 Q2562.64 2257.19 2562.64 2262.63 Q2562.64 2267.96 2559.49 2271.17 Q2556.34 2274.39 2551.11 2274.39 Q2545.11 2274.39 2541.94 2269.81 Q2538.77 2265.2 2538.77 2256.47 Q2538.77 2248.28 2542.66 2243.42 Q2546.55 2238.53 2553.1 2238.53 Q2554.86 2238.53 2556.64 2238.88 Q2558.45 2239.23 2560.39 2239.92 Z\" fill=\"#000000\" fill-rule=\"evenodd\" fill-opacity=\"1\" /><path clip-path=\"url(#clip160)\" d=\"M1167.55 2314.26 L1204.88 2314.26 L1204.88 2319.17 L1174.84 2356.37 L1205.61 2356.37 L1205.61 2361.78 L1166.82 2361.78 L1166.82 2356.88 L1196.86 2319.67 L1167.55 2319.67 L1167.55 2314.26 Z\" fill=\"#000000\" fill-rule=\"evenodd\" fill-opacity=\"1\" /><path clip-path=\"url(#clip160)\" d=\"M1242.44 2332.98 Q1244.64 2329.03 1247.69 2327.15 Q1250.75 2325.28 1254.88 2325.28 Q1260.45 2325.28 1263.48 2329.19 Q1266.5 2333.07 1266.5 2340.27 L1266.5 2361.78 L1260.61 2361.78 L1260.61 2340.46 Q1260.61 2335.33 1258.8 2332.85 Q1256.99 2330.37 1253.26 2330.37 Q1248.71 2330.37 1246.07 2333.39 Q1243.43 2336.42 1243.43 2341.64 L1243.43 2361.78 L1237.54 2361.78 L1237.54 2340.46 Q1237.54 2335.3 1235.72 2332.85 Q1233.91 2330.37 1230.12 2330.37 Q1225.63 2330.37 1222.99 2333.42 Q1220.35 2336.45 1220.35 2341.64 L1220.35 2361.78 L1214.46 2361.78 L1214.46 2326.14 L1220.35 2326.14 L1220.35 2331.67 Q1222.36 2328.4 1225.16 2326.84 Q1227.96 2325.28 1231.81 2325.28 Q1235.69 2325.28 1238.4 2327.25 Q1241.14 2329.22 1242.44 2332.98 Z\" fill=\"#000000\" fill-rule=\"evenodd\" fill-opacity=\"1\" /><path clip-path=\"url(#clip160)\" d=\"M1278.18 2326.14 L1284.04 2326.14 L1284.04 2361.78 L1278.18 2361.78 L1278.18 2326.14 M1278.18 2312.26 L1284.04 2312.26 L1284.04 2319.67 L1278.18 2319.67 L1278.18 2312.26 Z\" fill=\"#000000\" fill-rule=\"evenodd\" fill-opacity=\"1\" /><path clip-path=\"url(#clip160)\" d=\"M1312.49 2343.86 Q1305.4 2343.86 1302.66 2345.49 Q1299.92 2347.11 1299.92 2351.03 Q1299.92 2354.14 1301.96 2355.99 Q1304.03 2357.81 1307.56 2357.81 Q1312.43 2357.81 1315.36 2354.37 Q1318.32 2350.9 1318.32 2345.17 L1318.32 2343.86 L1312.49 2343.86 M1324.18 2341.45 L1324.18 2361.78 L1318.32 2361.78 L1318.32 2356.37 Q1316.31 2359.62 1313.32 2361.18 Q1310.33 2362.71 1306 2362.71 Q1300.53 2362.71 1297.28 2359.65 Q1294.07 2356.56 1294.07 2351.41 Q1294.07 2345.39 1298.08 2342.34 Q1302.12 2339.28 1310.11 2339.28 L1318.32 2339.28 L1318.32 2338.71 Q1318.32 2334.67 1315.65 2332.47 Q1313 2330.24 1308.2 2330.24 Q1305.14 2330.24 1302.25 2330.97 Q1299.35 2331.71 1296.68 2333.17 L1296.68 2327.76 Q1299.89 2326.52 1302.91 2325.91 Q1305.94 2325.28 1308.8 2325.28 Q1316.54 2325.28 1320.36 2329.29 Q1324.18 2333.3 1324.18 2341.45 Z\" fill=\"#000000\" fill-rule=\"evenodd\" fill-opacity=\"1\" /><path clip-path=\"url(#clip160)\" d=\"M1365.87 2340.27 L1365.87 2361.78 L1360.01 2361.78 L1360.01 2340.46 Q1360.01 2335.4 1358.04 2332.88 Q1356.07 2330.37 1352.12 2330.37 Q1347.38 2330.37 1344.64 2333.39 Q1341.9 2336.42 1341.9 2341.64 L1341.9 2361.78 L1336.02 2361.78 L1336.02 2326.14 L1341.9 2326.14 L1341.9 2331.67 Q1344 2328.46 1346.84 2326.87 Q1349.7 2325.28 1353.43 2325.28 Q1359.57 2325.28 1362.72 2329.1 Q1365.87 2332.88 1365.87 2340.27 Z\" fill=\"#000000\" fill-rule=\"evenodd\" fill-opacity=\"1\" /><path clip-path=\"url(#clip160)\" d=\"M1393.75 2343.86 Q1386.66 2343.86 1383.92 2345.49 Q1381.18 2347.11 1381.18 2351.03 Q1381.18 2354.14 1383.22 2355.99 Q1385.29 2357.81 1388.82 2357.81 Q1393.69 2357.81 1396.62 2354.37 Q1399.58 2350.9 1399.58 2345.17 L1399.58 2343.86 L1393.75 2343.86 M1405.43 2341.45 L1405.43 2361.78 L1399.58 2361.78 L1399.58 2356.37 Q1397.57 2359.62 1394.58 2361.18 Q1391.59 2362.71 1387.26 2362.71 Q1381.79 2362.71 1378.54 2359.65 Q1375.32 2356.56 1375.32 2351.41 Q1375.32 2345.39 1379.33 2342.34 Q1383.38 2339.28 1391.37 2339.28 L1399.58 2339.28 L1399.58 2338.71 Q1399.58 2334.67 1396.9 2332.47 Q1394.26 2330.24 1389.46 2330.24 Q1386.4 2330.24 1383.5 2330.97 Q1380.61 2331.71 1377.93 2333.17 L1377.93 2327.76 Q1381.15 2326.52 1384.17 2325.91 Q1387.2 2325.28 1390.06 2325.28 Q1397.8 2325.28 1401.61 2329.29 Q1405.43 2333.3 1405.43 2341.45 Z\" fill=\"#000000\" fill-rule=\"evenodd\" fill-opacity=\"1\" /><path clip-path=\"url(#clip160)\" d=\"M1435.67 2326.14 L1463.49 2326.14 L1463.49 2331.48 L1441.46 2357.11 L1463.49 2357.11 L1463.49 2361.78 L1434.88 2361.78 L1434.88 2356.44 L1456.9 2330.81 L1435.67 2330.81 L1435.67 2326.14 Z\" fill=\"#000000\" fill-rule=\"evenodd\" fill-opacity=\"1\" /><path clip-path=\"url(#clip160)\" d=\"M1487.27 2365.09 Q1484.78 2371.46 1482.43 2373.4 Q1480.07 2375.34 1476.13 2375.34 L1471.45 2375.34 L1471.45 2370.44 L1474.88 2370.44 Q1477.3 2370.44 1478.64 2369.3 Q1479.98 2368.15 1481.6 2363.88 L1482.65 2361.21 L1468.23 2326.14 L1474.44 2326.14 L1485.58 2354.02 L1496.72 2326.14 L1502.92 2326.14 L1487.27 2365.09 Z\" fill=\"#000000\" fill-rule=\"evenodd\" fill-opacity=\"1\" /><path clip-path=\"url(#clip160)\" d=\"M1533.73 2327.19 L1533.73 2332.72 Q1531.25 2331.45 1528.58 2330.81 Q1525.9 2330.18 1523.04 2330.18 Q1518.68 2330.18 1516.48 2331.51 Q1514.32 2332.85 1514.32 2335.53 Q1514.32 2337.56 1515.88 2338.74 Q1517.44 2339.89 1522.15 2340.94 L1524.15 2341.38 Q1530.39 2342.72 1533 2345.17 Q1535.64 2347.59 1535.64 2351.95 Q1535.64 2356.91 1531.7 2359.81 Q1527.78 2362.71 1520.91 2362.71 Q1518.04 2362.71 1514.92 2362.13 Q1511.84 2361.59 1508.4 2360.48 L1508.4 2354.43 Q1511.65 2356.12 1514.8 2356.98 Q1517.95 2357.81 1521.04 2357.81 Q1525.17 2357.81 1527.4 2356.4 Q1529.63 2354.97 1529.63 2352.39 Q1529.63 2350.01 1528.01 2348.73 Q1526.41 2347.46 1520.97 2346.28 L1518.93 2345.81 Q1513.49 2344.66 1511.07 2342.3 Q1508.65 2339.92 1508.65 2335.78 Q1508.65 2330.75 1512.22 2328.01 Q1515.78 2325.28 1522.34 2325.28 Q1525.59 2325.28 1528.45 2325.75 Q1531.32 2326.23 1533.73 2327.19 Z\" fill=\"#000000\" fill-rule=\"evenodd\" fill-opacity=\"1\" /><path clip-path=\"url(#clip160)\" d=\"M1544.75 2312.26 L1550.64 2312.26 L1550.64 2341.51 L1568.11 2326.14 L1575.59 2326.14 L1556.68 2342.81 L1576.39 2361.78 L1568.75 2361.78 L1550.64 2344.37 L1550.64 2361.78 L1544.75 2361.78 L1544.75 2312.26 Z\" fill=\"#000000\" fill-rule=\"evenodd\" fill-opacity=\"1\" /><path clip-path=\"url(#clip160)\" d=\"M1580.11 2347.72 L1580.11 2326.14 L1585.97 2326.14 L1585.97 2347.49 Q1585.97 2352.55 1587.94 2355.1 Q1589.91 2357.61 1593.86 2357.61 Q1598.6 2357.61 1601.34 2354.59 Q1604.11 2351.57 1604.11 2346.35 L1604.11 2326.14 L1609.96 2326.14 L1609.96 2361.78 L1604.11 2361.78 L1604.11 2356.31 Q1601.98 2359.56 1599.14 2361.15 Q1596.34 2362.71 1592.62 2362.71 Q1586.47 2362.71 1583.29 2358.89 Q1580.11 2355.07 1580.11 2347.72 M1594.85 2325.28 L1594.85 2325.28 Z\" fill=\"#000000\" fill-rule=\"evenodd\" fill-opacity=\"1\" /><path clip-path=\"url(#clip160)\" d=\"M1640.2 2326.14 L1668.02 2326.14 L1668.02 2331.48 L1645.99 2357.11 L1668.02 2357.11 L1668.02 2361.78 L1639.41 2361.78 L1639.41 2356.44 L1661.43 2330.81 L1640.2 2330.81 L1640.2 2326.14 Z\" fill=\"#000000\" fill-rule=\"evenodd\" fill-opacity=\"1\" /><path clip-path=\"url(#clip160)\" d=\"M1707.45 2342.5 L1707.45 2345.36 L1680.53 2345.36 Q1680.91 2351.41 1684.16 2354.59 Q1687.43 2357.74 1693.26 2357.74 Q1696.63 2357.74 1699.78 2356.91 Q1702.97 2356.09 1706.09 2354.43 L1706.09 2359.97 Q1702.94 2361.31 1699.63 2362.01 Q1696.31 2362.71 1692.91 2362.71 Q1684.38 2362.71 1679.38 2357.74 Q1674.42 2352.78 1674.42 2344.31 Q1674.42 2335.56 1679.13 2330.43 Q1683.87 2325.28 1691.89 2325.28 Q1699.08 2325.28 1703.25 2329.92 Q1707.45 2334.54 1707.45 2342.5 M1701.6 2340.78 Q1701.53 2335.97 1698.89 2333.11 Q1696.28 2330.24 1691.95 2330.24 Q1687.05 2330.24 1684.09 2333.01 Q1681.16 2335.78 1680.72 2340.81 L1701.6 2340.78 Z\" fill=\"#000000\" fill-rule=\"evenodd\" fill-opacity=\"1\" /><path clip-path=\"url(#clip160)\" d=\"M1760.51 2327.19 L1760.51 2332.72 Q1758.03 2331.45 1755.36 2330.81 Q1752.68 2330.18 1749.82 2330.18 Q1745.46 2330.18 1743.26 2331.51 Q1741.1 2332.85 1741.1 2335.53 Q1741.1 2337.56 1742.66 2338.74 Q1744.22 2339.89 1748.93 2340.94 L1750.93 2341.38 Q1757.17 2342.72 1759.78 2345.17 Q1762.42 2347.59 1762.42 2351.95 Q1762.42 2356.91 1758.48 2359.81 Q1754.56 2362.71 1747.69 2362.71 Q1744.82 2362.71 1741.7 2362.13 Q1738.62 2361.59 1735.18 2360.48 L1735.18 2354.43 Q1738.42 2356.12 1741.58 2356.98 Q1744.73 2357.81 1747.81 2357.81 Q1751.95 2357.81 1754.18 2356.4 Q1756.41 2354.97 1756.41 2352.39 Q1756.41 2350.01 1754.78 2348.73 Q1753.19 2347.46 1747.75 2346.28 L1745.71 2345.81 Q1740.27 2344.66 1737.85 2342.3 Q1735.43 2339.92 1735.43 2335.78 Q1735.43 2330.75 1739 2328.01 Q1742.56 2325.28 1749.12 2325.28 Q1752.36 2325.28 1755.23 2325.75 Q1758.09 2326.23 1760.51 2327.19 Z\" fill=\"#000000\" fill-rule=\"evenodd\" fill-opacity=\"1\" /><path clip-path=\"url(#clip160)\" d=\"M1777.41 2356.44 L1777.41 2375.34 L1771.53 2375.34 L1771.53 2326.14 L1777.41 2326.14 L1777.41 2331.55 Q1779.26 2328.36 1782.06 2326.84 Q1784.89 2325.28 1788.81 2325.28 Q1795.3 2325.28 1799.34 2330.43 Q1803.42 2335.59 1803.42 2343.99 Q1803.42 2352.39 1799.34 2357.55 Q1795.3 2362.71 1788.81 2362.71 Q1784.89 2362.71 1782.06 2361.18 Q1779.26 2359.62 1777.41 2356.44 M1797.34 2343.99 Q1797.34 2337.53 1794.67 2333.87 Q1792.02 2330.18 1787.38 2330.18 Q1782.73 2330.18 1780.06 2333.87 Q1777.41 2337.53 1777.41 2343.99 Q1777.41 2350.45 1780.06 2354.14 Q1782.73 2357.81 1787.38 2357.81 Q1792.02 2357.81 1794.67 2354.14 Q1797.34 2350.45 1797.34 2343.99 Z\" fill=\"#000000\" fill-rule=\"evenodd\" fill-opacity=\"1\" /><path clip-path=\"url(#clip160)\" d=\"M1833.78 2331.61 Q1832.8 2331.04 1831.62 2330.78 Q1830.47 2330.5 1829.07 2330.5 Q1824.11 2330.5 1821.43 2333.74 Q1818.79 2336.96 1818.79 2343.01 L1818.79 2361.78 L1812.9 2361.78 L1812.9 2326.14 L1818.79 2326.14 L1818.79 2331.67 Q1820.64 2328.43 1823.6 2326.87 Q1826.56 2325.28 1830.79 2325.28 Q1831.4 2325.28 1832.13 2325.37 Q1832.86 2325.44 1833.75 2325.59 L1833.78 2331.61 Z\" fill=\"#000000\" fill-rule=\"evenodd\" fill-opacity=\"1\" /><path clip-path=\"url(#clip160)\" d=\"M1837.38 2326.14 L1865.2 2326.14 L1865.2 2331.48 L1843.17 2357.11 L1865.2 2357.11 L1865.2 2361.78 L1836.58 2361.78 L1836.58 2356.44 L1858.61 2330.81 L1837.38 2330.81 L1837.38 2326.14 Z\" fill=\"#000000\" fill-rule=\"evenodd\" fill-opacity=\"1\" /><path clip-path=\"url(#clip160)\" d=\"M1904.63 2342.5 L1904.63 2345.36 L1877.71 2345.36 Q1878.09 2351.41 1881.33 2354.59 Q1884.61 2357.74 1890.44 2357.74 Q1893.81 2357.74 1896.96 2356.91 Q1900.14 2356.09 1903.26 2354.43 L1903.26 2359.97 Q1900.11 2361.31 1896.8 2362.01 Q1893.49 2362.71 1890.09 2362.71 Q1881.56 2362.71 1876.56 2357.74 Q1871.59 2352.78 1871.59 2344.31 Q1871.59 2335.56 1876.31 2330.43 Q1881.05 2325.28 1889.07 2325.28 Q1896.26 2325.28 1900.43 2329.92 Q1904.63 2334.54 1904.63 2342.5 M1898.78 2340.78 Q1898.71 2335.97 1896.07 2333.11 Q1893.46 2330.24 1889.13 2330.24 Q1884.23 2330.24 1881.27 2333.01 Q1878.34 2335.78 1877.9 2340.81 L1898.78 2340.78 Z\" fill=\"#000000\" fill-rule=\"evenodd\" fill-opacity=\"1\" /><path clip-path=\"url(#clip160)\" d=\"M1937.7 2331.55 L1937.7 2312.26 L1943.56 2312.26 L1943.56 2361.78 L1937.7 2361.78 L1937.7 2356.44 Q1935.86 2359.62 1933.02 2361.18 Q1930.22 2362.71 1926.28 2362.71 Q1919.81 2362.71 1915.74 2357.55 Q1911.7 2352.39 1911.7 2343.99 Q1911.7 2335.59 1915.74 2330.43 Q1919.81 2325.28 1926.28 2325.28 Q1930.22 2325.28 1933.02 2326.84 Q1935.86 2328.36 1937.7 2331.55 M1917.75 2343.99 Q1917.75 2350.45 1920.39 2354.14 Q1923.06 2357.81 1927.71 2357.81 Q1932.36 2357.81 1935.03 2354.14 Q1937.7 2350.45 1937.7 2343.99 Q1937.7 2337.53 1935.03 2333.87 Q1932.36 2330.18 1927.71 2330.18 Q1923.06 2330.18 1920.39 2333.87 Q1917.75 2337.53 1917.75 2343.99 Z\" fill=\"#000000\" fill-rule=\"evenodd\" fill-opacity=\"1\" /><path clip-path=\"url(#clip160)\" d=\"M1971.82 2343.86 Q1964.72 2343.86 1961.99 2345.49 Q1959.25 2347.11 1959.25 2351.03 Q1959.25 2354.14 1961.29 2355.99 Q1963.36 2357.81 1966.89 2357.81 Q1971.76 2357.81 1974.69 2354.37 Q1977.65 2350.9 1977.65 2345.17 L1977.65 2343.86 L1971.82 2343.86 M1983.5 2341.45 L1983.5 2361.78 L1977.65 2361.78 L1977.65 2356.37 Q1975.64 2359.62 1972.65 2361.18 Q1969.66 2362.71 1965.33 2362.71 Q1959.86 2362.71 1956.61 2359.65 Q1953.39 2356.56 1953.39 2351.41 Q1953.39 2345.39 1957.4 2342.34 Q1961.45 2339.28 1969.44 2339.28 L1977.65 2339.28 L1977.65 2338.71 Q1977.65 2334.67 1974.97 2332.47 Q1972.33 2330.24 1967.53 2330.24 Q1964.47 2330.24 1961.57 2330.97 Q1958.68 2331.71 1956 2333.17 L1956 2327.76 Q1959.22 2326.52 1962.24 2325.91 Q1965.27 2325.28 1968.13 2325.28 Q1975.86 2325.28 1979.68 2329.29 Q1983.5 2333.3 1983.5 2341.45 Z\" fill=\"#000000\" fill-rule=\"evenodd\" fill-opacity=\"1\" /><path clip-path=\"url(#clip160)\" d=\"M2003.46 2312.26 L2009.32 2312.26 L2009.32 2319.67 L2003.46 2319.67 L2003.46 2312.26 M2006.45 2325.28 L2006.45 2325.28 M1993.02 2326.14 L2020.84 2326.14 L2020.84 2331.48 L1998.81 2357.11 L2020.84 2357.11 L2020.84 2361.78 L1992.22 2361.78 L1992.22 2356.44 L2014.25 2330.81 L1993.02 2330.81 L1993.02 2326.14 Z\" fill=\"#000000\" fill-rule=\"evenodd\" fill-opacity=\"1\" /><path clip-path=\"url(#clip160)\" d=\"M2044.61 2365.09 Q2042.13 2371.46 2039.78 2373.4 Q2037.42 2375.34 2033.47 2375.34 L2028.8 2375.34 L2028.8 2370.44 L2032.23 2370.44 Q2034.65 2370.44 2035.99 2369.3 Q2037.33 2368.15 2038.95 2363.88 L2040 2361.21 L2025.58 2326.14 L2031.79 2326.14 L2042.93 2354.02 L2054.07 2326.14 L2060.27 2326.14 L2044.61 2365.09 Z\" fill=\"#000000\" fill-rule=\"evenodd\" fill-opacity=\"1\" /><path clip-path=\"url(#clip160)\" d=\"M2085.67 2326.14 L2091.53 2326.14 L2098.85 2353.95 L2106.14 2326.14 L2113.05 2326.14 L2120.37 2353.95 L2127.66 2326.14 L2133.51 2326.14 L2124.19 2361.78 L2117.28 2361.78 L2109.61 2332.57 L2101.91 2361.78 L2095 2361.78 L2085.67 2326.14 Z\" fill=\"#000000\" fill-rule=\"evenodd\" fill-opacity=\"1\" /><path clip-path=\"url(#clip160)\" d=\"M2162.57 2312.26 L2176.07 2312.26 L2176.07 2316.81 L2168.43 2316.81 L2168.43 2365.83 L2176.07 2365.83 L2176.07 2370.38 L2162.57 2370.38 L2162.57 2312.26 Z\" fill=\"#000000\" fill-rule=\"evenodd\" fill-opacity=\"1\" /><path clip-path=\"url(#clip160)\" d=\"M2229.79 2340.87 Q2227.02 2340.87 2225.43 2343.23 Q2223.87 2345.58 2223.87 2349.78 Q2223.87 2353.92 2225.43 2356.31 Q2227.02 2358.66 2229.79 2358.66 Q2232.5 2358.66 2234.06 2356.31 Q2235.65 2353.92 2235.65 2349.78 Q2235.65 2345.61 2234.06 2343.26 Q2232.5 2340.87 2229.79 2340.87 M2229.79 2336.83 Q2234.82 2336.83 2237.78 2340.33 Q2240.74 2343.83 2240.74 2349.78 Q2240.74 2355.74 2237.75 2359.24 Q2234.79 2362.71 2229.79 2362.71 Q2224.7 2362.71 2221.74 2359.24 Q2218.78 2355.74 2218.78 2349.78 Q2218.78 2343.8 2221.74 2340.33 Q2224.73 2336.83 2229.79 2336.83 M2196.95 2317.45 Q2194.21 2317.45 2192.62 2319.83 Q2191.06 2322.19 2191.06 2326.33 Q2191.06 2330.53 2192.62 2332.88 Q2194.18 2335.24 2196.95 2335.24 Q2199.72 2335.24 2201.27 2332.88 Q2202.87 2330.53 2202.87 2326.33 Q2202.87 2322.22 2201.27 2319.83 Q2199.68 2317.45 2196.95 2317.45 M2225.69 2313.4 L2230.78 2313.4 L2201.05 2362.71 L2195.96 2362.71 L2225.69 2313.4 M2196.95 2313.4 Q2201.97 2313.4 2204.97 2316.91 Q2207.96 2320.37 2207.96 2326.33 Q2207.96 2332.34 2204.97 2335.81 Q2202.01 2339.28 2196.95 2339.28 Q2191.89 2339.28 2188.93 2335.81 Q2186 2332.31 2186 2326.33 Q2186 2320.41 2188.96 2316.91 Q2191.92 2313.4 2196.95 2313.4 Z\" fill=\"#000000\" fill-rule=\"evenodd\" fill-opacity=\"1\" /><path clip-path=\"url(#clip160)\" d=\"M2264.17 2312.26 L2264.17 2370.38 L2250.67 2370.38 L2250.67 2365.83 L2258.28 2365.83 L2258.28 2316.81 L2250.67 2316.81 L2250.67 2312.26 L2264.17 2312.26 Z\" fill=\"#000000\" fill-rule=\"evenodd\" fill-opacity=\"1\" /><polyline clip-path=\"url(#clip163)\" style=\"stroke:#000000; stroke-linecap:round; stroke-linejoin:round; stroke-width:2; stroke-opacity:0.1; fill:none\" points=\"278.227,2090.24 3152.76,2090.24 \"/>\n",
       "<polyline clip-path=\"url(#clip163)\" style=\"stroke:#000000; stroke-linecap:round; stroke-linejoin:round; stroke-width:2; stroke-opacity:0.1; fill:none\" points=\"278.227,1883 3152.76,1883 \"/>\n",
       "<polyline clip-path=\"url(#clip163)\" style=\"stroke:#000000; stroke-linecap:round; stroke-linejoin:round; stroke-width:2; stroke-opacity:0.1; fill:none\" points=\"278.227,1675.75 3152.76,1675.75 \"/>\n",
       "<polyline clip-path=\"url(#clip163)\" style=\"stroke:#000000; stroke-linecap:round; stroke-linejoin:round; stroke-width:2; stroke-opacity:0.1; fill:none\" points=\"278.227,1468.51 3152.76,1468.51 \"/>\n",
       "<polyline clip-path=\"url(#clip160)\" style=\"stroke:#000000; stroke-linecap:round; stroke-linejoin:round; stroke-width:4; stroke-opacity:1; fill:none\" points=\"278.227,2204.92 278.227,1331.03 \"/>\n",
       "<polyline clip-path=\"url(#clip160)\" style=\"stroke:#000000; stroke-linecap:round; stroke-linejoin:round; stroke-width:4; stroke-opacity:1; fill:none\" points=\"278.227,2090.24 297.125,2090.24 \"/>\n",
       "<polyline clip-path=\"url(#clip160)\" style=\"stroke:#000000; stroke-linecap:round; stroke-linejoin:round; stroke-width:4; stroke-opacity:1; fill:none\" points=\"278.227,1883 297.125,1883 \"/>\n",
       "<polyline clip-path=\"url(#clip160)\" style=\"stroke:#000000; stroke-linecap:round; stroke-linejoin:round; stroke-width:4; stroke-opacity:1; fill:none\" points=\"278.227,1675.75 297.125,1675.75 \"/>\n",
       "<polyline clip-path=\"url(#clip160)\" style=\"stroke:#000000; stroke-linecap:round; stroke-linejoin:round; stroke-width:4; stroke-opacity:1; fill:none\" points=\"278.227,1468.51 297.125,1468.51 \"/>\n",
       "<path clip-path=\"url(#clip160)\" d=\"M133.7 2103.59 L141.339 2103.59 L141.339 2077.22 L133.029 2078.89 L133.029 2074.63 L141.293 2072.96 L145.969 2072.96 L145.969 2103.59 L153.607 2103.59 L153.607 2107.52 L133.7 2107.52 L133.7 2103.59 Z\" fill=\"#000000\" fill-rule=\"evenodd\" fill-opacity=\"1\" /><path clip-path=\"url(#clip160)\" d=\"M175.899 2077.04 L164.093 2095.49 L175.899 2095.49 L175.899 2077.04 M174.672 2072.96 L180.552 2072.96 L180.552 2095.49 L185.482 2095.49 L185.482 2099.37 L180.552 2099.37 L180.552 2107.52 L175.899 2107.52 L175.899 2099.37 L160.297 2099.37 L160.297 2094.86 L174.672 2072.96 Z\" fill=\"#000000\" fill-rule=\"evenodd\" fill-opacity=\"1\" /><path clip-path=\"url(#clip160)\" d=\"M193.214 2101.64 L198.098 2101.64 L198.098 2107.52 L193.214 2107.52 L193.214 2101.64 Z\" fill=\"#000000\" fill-rule=\"evenodd\" fill-opacity=\"1\" /><path clip-path=\"url(#clip160)\" d=\"M218.283 2076.04 Q214.672 2076.04 212.843 2079.61 Q211.038 2083.15 211.038 2090.28 Q211.038 2097.38 212.843 2100.95 Q214.672 2104.49 218.283 2104.49 Q221.917 2104.49 223.723 2100.95 Q225.551 2097.38 225.551 2090.28 Q225.551 2083.15 223.723 2079.61 Q221.917 2076.04 218.283 2076.04 M218.283 2072.34 Q224.093 2072.34 227.149 2076.94 Q230.227 2081.53 230.227 2090.28 Q230.227 2099 227.149 2103.61 Q224.093 2108.19 218.283 2108.19 Q212.473 2108.19 209.394 2103.61 Q206.339 2099 206.339 2090.28 Q206.339 2081.53 209.394 2076.94 Q212.473 2072.34 218.283 2072.34 Z\" fill=\"#000000\" fill-rule=\"evenodd\" fill-opacity=\"1\" /><path clip-path=\"url(#clip160)\" d=\"M134.695 1896.34 L142.334 1896.34 L142.334 1869.98 L134.024 1871.64 L134.024 1867.38 L142.288 1865.72 L146.964 1865.72 L146.964 1896.34 L154.603 1896.34 L154.603 1900.28 L134.695 1900.28 L134.695 1896.34 Z\" fill=\"#000000\" fill-rule=\"evenodd\" fill-opacity=\"1\" /><path clip-path=\"url(#clip160)\" d=\"M176.894 1869.79 L165.089 1888.24 L176.894 1888.24 L176.894 1869.79 M175.667 1865.72 L181.547 1865.72 L181.547 1888.24 L186.478 1888.24 L186.478 1892.13 L181.547 1892.13 L181.547 1900.28 L176.894 1900.28 L176.894 1892.13 L161.293 1892.13 L161.293 1887.62 L175.667 1865.72 Z\" fill=\"#000000\" fill-rule=\"evenodd\" fill-opacity=\"1\" /><path clip-path=\"url(#clip160)\" d=\"M194.209 1894.4 L199.093 1894.4 L199.093 1900.28 L194.209 1900.28 L194.209 1894.4 Z\" fill=\"#000000\" fill-rule=\"evenodd\" fill-opacity=\"1\" /><path clip-path=\"url(#clip160)\" d=\"M209.325 1865.72 L227.681 1865.72 L227.681 1869.65 L213.607 1869.65 L213.607 1878.12 Q214.626 1877.78 215.644 1877.62 Q216.663 1877.43 217.681 1877.43 Q223.468 1877.43 226.848 1880.6 Q230.227 1883.77 230.227 1889.19 Q230.227 1894.77 226.755 1897.87 Q223.283 1900.95 216.964 1900.95 Q214.788 1900.95 212.519 1900.58 Q210.274 1900.21 207.866 1899.47 L207.866 1894.77 Q209.95 1895.9 212.172 1896.46 Q214.394 1897.01 216.871 1897.01 Q220.876 1897.01 223.213 1894.91 Q225.551 1892.8 225.551 1889.19 Q225.551 1885.58 223.213 1883.47 Q220.876 1881.37 216.871 1881.37 Q214.996 1881.37 213.121 1881.78 Q211.269 1882.2 209.325 1883.08 L209.325 1865.72 Z\" fill=\"#000000\" fill-rule=\"evenodd\" fill-opacity=\"1\" /><path clip-path=\"url(#clip160)\" d=\"M133.7 1689.1 L141.339 1689.1 L141.339 1662.73 L133.029 1664.4 L133.029 1660.14 L141.293 1658.47 L145.969 1658.47 L145.969 1689.1 L153.607 1689.1 L153.607 1693.03 L133.7 1693.03 L133.7 1689.1 Z\" fill=\"#000000\" fill-rule=\"evenodd\" fill-opacity=\"1\" /><path clip-path=\"url(#clip160)\" d=\"M163.098 1658.47 L181.454 1658.47 L181.454 1662.41 L167.38 1662.41 L167.38 1670.88 Q168.399 1670.53 169.417 1670.37 Q170.436 1670.18 171.454 1670.18 Q177.241 1670.18 180.621 1673.36 Q184.001 1676.53 184.001 1681.94 Q184.001 1687.52 180.529 1690.62 Q177.056 1693.7 170.737 1693.7 Q168.561 1693.7 166.292 1693.33 Q164.047 1692.96 161.64 1692.22 L161.64 1687.52 Q163.723 1688.66 165.945 1689.21 Q168.167 1689.77 170.644 1689.77 Q174.649 1689.77 176.987 1687.66 Q179.325 1685.55 179.325 1681.94 Q179.325 1678.33 176.987 1676.23 Q174.649 1674.12 170.644 1674.12 Q168.769 1674.12 166.894 1674.54 Q165.042 1674.95 163.098 1675.83 L163.098 1658.47 Z\" fill=\"#000000\" fill-rule=\"evenodd\" fill-opacity=\"1\" /><path clip-path=\"url(#clip160)\" d=\"M193.214 1687.15 L198.098 1687.15 L198.098 1693.03 L193.214 1693.03 L193.214 1687.15 Z\" fill=\"#000000\" fill-rule=\"evenodd\" fill-opacity=\"1\" /><path clip-path=\"url(#clip160)\" d=\"M218.283 1661.55 Q214.672 1661.55 212.843 1665.12 Q211.038 1668.66 211.038 1675.79 Q211.038 1682.89 212.843 1686.46 Q214.672 1690 218.283 1690 Q221.917 1690 223.723 1686.46 Q225.551 1682.89 225.551 1675.79 Q225.551 1668.66 223.723 1665.12 Q221.917 1661.55 218.283 1661.55 M218.283 1657.85 Q224.093 1657.85 227.149 1662.45 Q230.227 1667.04 230.227 1675.79 Q230.227 1684.51 227.149 1689.12 Q224.093 1693.7 218.283 1693.7 Q212.473 1693.7 209.394 1689.12 Q206.339 1684.51 206.339 1675.79 Q206.339 1667.04 209.394 1662.45 Q212.473 1657.85 218.283 1657.85 Z\" fill=\"#000000\" fill-rule=\"evenodd\" fill-opacity=\"1\" /><path clip-path=\"url(#clip160)\" d=\"M134.695 1481.85 L142.334 1481.85 L142.334 1455.49 L134.024 1457.15 L134.024 1452.89 L142.288 1451.23 L146.964 1451.23 L146.964 1481.85 L154.603 1481.85 L154.603 1485.79 L134.695 1485.79 L134.695 1481.85 Z\" fill=\"#000000\" fill-rule=\"evenodd\" fill-opacity=\"1\" /><path clip-path=\"url(#clip160)\" d=\"M164.093 1451.23 L182.45 1451.23 L182.45 1455.16 L168.376 1455.16 L168.376 1463.63 Q169.394 1463.29 170.413 1463.12 Q171.431 1462.94 172.45 1462.94 Q178.237 1462.94 181.616 1466.11 Q184.996 1469.28 184.996 1474.7 Q184.996 1480.28 181.524 1483.38 Q178.052 1486.46 171.732 1486.46 Q169.556 1486.46 167.288 1486.09 Q165.042 1485.72 162.635 1484.98 L162.635 1480.28 Q164.718 1481.41 166.941 1481.97 Q169.163 1482.52 171.64 1482.52 Q175.644 1482.52 177.982 1480.42 Q180.32 1478.31 180.32 1474.7 Q180.32 1471.09 177.982 1468.98 Q175.644 1466.87 171.64 1466.87 Q169.765 1466.87 167.89 1467.29 Q166.038 1467.71 164.093 1468.59 L164.093 1451.23 Z\" fill=\"#000000\" fill-rule=\"evenodd\" fill-opacity=\"1\" /><path clip-path=\"url(#clip160)\" d=\"M194.209 1479.91 L199.093 1479.91 L199.093 1485.79 L194.209 1485.79 L194.209 1479.91 Z\" fill=\"#000000\" fill-rule=\"evenodd\" fill-opacity=\"1\" /><path clip-path=\"url(#clip160)\" d=\"M209.325 1451.23 L227.681 1451.23 L227.681 1455.16 L213.607 1455.16 L213.607 1463.63 Q214.626 1463.29 215.644 1463.12 Q216.663 1462.94 217.681 1462.94 Q223.468 1462.94 226.848 1466.11 Q230.227 1469.28 230.227 1474.7 Q230.227 1480.28 226.755 1483.38 Q223.283 1486.46 216.964 1486.46 Q214.788 1486.46 212.519 1486.09 Q210.274 1485.72 207.866 1484.98 L207.866 1480.28 Q209.95 1481.41 212.172 1481.97 Q214.394 1482.52 216.871 1482.52 Q220.876 1482.52 223.213 1480.42 Q225.551 1478.31 225.551 1474.7 Q225.551 1471.09 223.213 1468.98 Q220.876 1466.87 216.871 1466.87 Q214.996 1466.87 213.121 1467.29 Q211.269 1467.71 209.325 1468.59 L209.325 1451.23 Z\" fill=\"#000000\" fill-rule=\"evenodd\" fill-opacity=\"1\" /><path clip-path=\"url(#clip160)\" d=\"M23.2528 2059.08 L23.2528 2052.59 L63.4204 2042.59 L23.2528 2032.63 L23.2528 2025.41 L63.4204 2015.41 L23.2528 2005.45 L23.2528 1998.92 L70.7728 2010.86 L70.7728 2018.94 L29.523 2028.97 L70.7728 2039.09 L70.7728 2047.18 L23.2528 2059.08 Z\" fill=\"#000000\" fill-rule=\"evenodd\" fill-opacity=\"1\" /><path clip-path=\"url(#clip160)\" d=\"M74.0829 1976.96 Q80.4486 1979.44 82.3902 1981.8 Q84.3317 1984.16 84.3317 1988.1 L84.3317 1992.78 L79.4301 1992.78 L79.4301 1989.34 Q79.4301 1986.92 78.2843 1985.59 Q77.1385 1984.25 72.8735 1982.63 L70.1999 1981.58 L35.1248 1996 L35.1248 1989.79 L63.0066 1978.65 L35.1248 1967.51 L35.1248 1961.3 L74.0829 1976.96 Z\" fill=\"#000000\" fill-rule=\"evenodd\" fill-opacity=\"1\" /><path clip-path=\"url(#clip160)\" d=\"M49.2567 1923.59 L70.7728 1923.59 L70.7728 1929.44 L49.4477 1929.44 Q44.3869 1929.44 41.8725 1931.42 Q39.358 1933.39 39.358 1937.34 Q39.358 1942.08 42.3817 1944.82 Q45.4054 1947.55 50.6253 1947.55 L70.7728 1947.55 L70.7728 1953.44 L35.1248 1953.44 L35.1248 1947.55 L40.663 1947.55 Q37.4483 1945.45 35.8569 1942.62 Q34.2654 1939.75 34.2654 1936.03 Q34.2654 1929.89 38.0849 1926.74 Q41.8725 1923.59 49.2567 1923.59 Z\" fill=\"#000000\" fill-rule=\"evenodd\" fill-opacity=\"1\" /><path clip-path=\"url(#clip160)\" d=\"M35.1248 1911.9 L35.1248 1906.05 L70.7728 1906.05 L70.7728 1911.9 L35.1248 1911.9 M21.2476 1911.9 L21.2476 1906.05 L28.6636 1906.05 L28.6636 1911.9 L21.2476 1911.9 Z\" fill=\"#000000\" fill-rule=\"evenodd\" fill-opacity=\"1\" /><path clip-path=\"url(#clip160)\" d=\"M21.2476 1894.02 L21.2476 1888.13 L50.498 1888.13 L35.1248 1870.65 L35.1248 1863.18 L51.803 1882.08 L70.7728 1862.38 L70.7728 1870.02 L53.3626 1888.13 L70.7728 1888.13 L70.7728 1894.02 L21.2476 1894.02 Z\" fill=\"#000000\" fill-rule=\"evenodd\" fill-opacity=\"1\" /><path clip-path=\"url(#clip160)\" d=\"M35.1248 1856.05 L35.1248 1850.19 L70.7728 1850.19 L70.7728 1856.05 L35.1248 1856.05 M21.2476 1856.05 L21.2476 1850.19 L28.6636 1850.19 L28.6636 1856.05 L21.2476 1856.05 Z\" fill=\"#000000\" fill-rule=\"evenodd\" fill-opacity=\"1\" /><path clip-path=\"url(#clip160)\" d=\"M23.2528 1806.81 L23.2528 1801.4 L76.8202 1817.95 L76.8202 1823.36 L23.2528 1806.81 Z\" fill=\"#000000\" fill-rule=\"evenodd\" fill-opacity=\"1\" /><path clip-path=\"url(#clip160)\" d=\"M48.4928 1751.74 Q49.193 1749.67 51.4847 1747.73 Q53.7763 1745.76 57.7867 1743.79 L70.7728 1737.26 L70.7728 1744.17 L58.5824 1750.25 Q53.8082 1752.6 52.2486 1754.83 Q50.689 1757.03 50.689 1760.85 L50.689 1767.85 L70.7728 1767.85 L70.7728 1774.28 L23.2528 1774.28 L23.2528 1759.76 Q23.2528 1751.62 26.6584 1747.61 Q30.0641 1743.6 36.939 1743.6 Q41.4269 1743.6 44.3869 1745.7 Q47.347 1747.76 48.4928 1751.74 M28.5363 1767.85 L45.4054 1767.85 L45.4054 1759.76 Q45.4054 1755.12 43.2729 1752.76 Q41.1086 1750.37 36.939 1750.37 Q32.7695 1750.37 30.6688 1752.76 Q28.5363 1755.12 28.5363 1759.76 L28.5363 1767.85 Z\" fill=\"#000000\" fill-rule=\"evenodd\" fill-opacity=\"1\" /><path clip-path=\"url(#clip160)\" d=\"M51.4847 1701.68 L54.3492 1701.68 L54.3492 1728.6 Q60.3967 1728.22 63.5795 1724.98 Q66.7305 1721.7 66.7305 1715.87 Q66.7305 1712.5 65.903 1709.35 Q65.0755 1706.16 63.4204 1703.05 L68.9585 1703.05 Q70.2953 1706.2 70.9956 1709.51 Q71.6958 1712.82 71.6958 1716.22 Q71.6958 1724.75 66.7305 1729.75 Q61.7653 1734.72 53.2989 1734.72 Q44.5461 1734.72 39.4217 1730 Q34.2654 1725.26 34.2654 1717.24 Q34.2654 1710.05 38.9124 1705.88 Q43.5275 1701.68 51.4847 1701.68 M49.7659 1707.53 Q44.9598 1707.6 42.0953 1710.24 Q39.2307 1712.85 39.2307 1717.18 Q39.2307 1722.08 41.9998 1725.04 Q44.7689 1727.97 49.7978 1728.41 L49.7659 1707.53 Z\" fill=\"#000000\" fill-rule=\"evenodd\" fill-opacity=\"1\" /><path clip-path=\"url(#clip160)\" d=\"M35.1248 1694.61 L35.1248 1666.79 L40.472 1666.79 L66.094 1688.82 L66.094 1666.79 L70.7728 1666.79 L70.7728 1695.41 L65.4256 1695.41 L39.8036 1673.38 L39.8036 1694.61 L35.1248 1694.61 Z\" fill=\"#000000\" fill-rule=\"evenodd\" fill-opacity=\"1\" /><path clip-path=\"url(#clip160)\" d=\"M56.7046 1658.45 L35.1248 1658.45 L35.1248 1652.6 L56.4818 1652.6 Q61.5425 1652.6 64.0888 1650.62 Q66.6032 1648.65 66.6032 1644.7 Q66.6032 1639.96 63.5795 1637.22 Q60.5558 1634.46 55.3359 1634.46 L35.1248 1634.46 L35.1248 1628.6 L70.7728 1628.6 L70.7728 1634.46 L65.2983 1634.46 Q68.5448 1636.59 70.1362 1639.42 Q71.6958 1642.22 71.6958 1645.95 Q71.6958 1652.09 67.8764 1655.27 Q64.057 1658.45 56.7046 1658.45 M34.2654 1643.72 L34.2654 1643.72 Z\" fill=\"#000000\" fill-rule=\"evenodd\" fill-opacity=\"1\" /><path clip-path=\"url(#clip160)\" d=\"M21.2476 1616.54 L21.2476 1610.68 L70.7728 1610.68 L70.7728 1616.54 L21.2476 1616.54 Z\" fill=\"#000000\" fill-rule=\"evenodd\" fill-opacity=\"1\" /><path clip-path=\"url(#clip160)\" d=\"M25.0033 1592.63 L35.1248 1592.63 L35.1248 1580.57 L39.6763 1580.57 L39.6763 1592.63 L59.028 1592.63 Q63.3886 1592.63 64.6299 1591.45 Q65.8712 1590.25 65.8712 1586.59 L65.8712 1580.57 L70.7728 1580.57 L70.7728 1586.59 Q70.7728 1593.36 68.2583 1595.94 Q65.712 1598.52 59.028 1598.52 L39.6763 1598.52 L39.6763 1602.82 L35.1248 1602.82 L35.1248 1598.52 L25.0033 1598.52 L25.0033 1592.63 Z\" fill=\"#000000\" fill-rule=\"evenodd\" fill-opacity=\"1\" /><path clip-path=\"url(#clip160)\" d=\"M52.8533 1556.67 Q52.8533 1563.76 54.4766 1566.5 Q56.0998 1569.24 60.0147 1569.24 Q63.1339 1569.24 64.98 1567.2 Q66.7942 1565.13 66.7942 1561.6 Q66.7942 1556.73 63.3567 1553.8 Q59.8874 1550.84 54.1583 1550.84 L52.8533 1550.84 L52.8533 1556.67 M50.4343 1544.99 L70.7728 1544.99 L70.7728 1550.84 L65.3619 1550.84 Q68.6084 1552.85 70.168 1555.84 Q71.6958 1558.83 71.6958 1563.16 Q71.6958 1568.63 68.6403 1571.88 Q65.5529 1575.1 60.3967 1575.1 Q54.3811 1575.1 51.3255 1571.08 Q48.27 1567.04 48.27 1559.05 L48.27 1550.84 L47.6971 1550.84 Q43.6549 1550.84 41.4587 1553.52 Q39.2307 1556.16 39.2307 1560.96 Q39.2307 1564.02 39.9628 1566.92 Q40.6948 1569.81 42.1589 1572.49 L36.7481 1572.49 Q35.5068 1569.27 34.902 1566.25 Q34.2654 1563.22 34.2654 1560.36 Q34.2654 1552.62 38.2758 1548.8 Q42.2862 1544.99 50.4343 1544.99 Z\" fill=\"#000000\" fill-rule=\"evenodd\" fill-opacity=\"1\" /><path clip-path=\"url(#clip160)\" d=\"M25.0033 1527.13 L35.1248 1527.13 L35.1248 1515.07 L39.6763 1515.07 L39.6763 1527.13 L59.028 1527.13 Q63.3886 1527.13 64.6299 1525.95 Q65.8712 1524.74 65.8712 1521.08 L65.8712 1515.07 L70.7728 1515.07 L70.7728 1521.08 Q70.7728 1527.86 68.2583 1530.44 Q65.712 1533.02 59.028 1533.02 L39.6763 1533.02 L39.6763 1537.31 L35.1248 1537.31 L35.1248 1533.02 L25.0033 1533.02 L25.0033 1527.13 Z\" fill=\"#000000\" fill-rule=\"evenodd\" fill-opacity=\"1\" /><path clip-path=\"url(#clip160)\" d=\"M74.0829 1492.53 Q80.4486 1495.01 82.3902 1497.37 Q84.3317 1499.73 84.3317 1503.67 L84.3317 1508.35 L79.4301 1508.35 L79.4301 1504.91 Q79.4301 1502.49 78.2843 1501.16 Q77.1385 1499.82 72.8735 1498.2 L70.1999 1497.15 L35.1248 1511.57 L35.1248 1505.36 L63.0066 1494.22 L35.1248 1483.08 L35.1248 1476.87 L74.0829 1492.53 Z\" fill=\"#000000\" fill-rule=\"evenodd\" fill-opacity=\"1\" /><path clip-path=\"url(#clip160)\" d=\"M817.791 1212.1 L826.055 1212.1 L838.775 1263.22 L851.454 1212.1 L860.65 1212.1 L873.369 1263.22 L886.049 1212.1 L894.353 1212.1 L879.162 1272.58 L868.873 1272.58 L856.113 1220.08 L843.231 1272.58 L832.941 1272.58 L817.791 1212.1 Z\" fill=\"#000000\" fill-rule=\"evenodd\" fill-opacity=\"1\" /><path clip-path=\"url(#clip160)\" d=\"M922.304 1276.79 Q919.145 1284.89 916.147 1287.36 Q913.149 1289.83 908.126 1289.83 L902.171 1289.83 L902.171 1283.59 L906.546 1283.59 Q909.625 1283.59 911.326 1282.14 Q913.028 1280.68 915.094 1275.25 L916.431 1271.85 L898.08 1227.21 L905.979 1227.21 L920.157 1262.69 L934.335 1227.21 L942.235 1227.21 L922.304 1276.79 Z\" fill=\"#000000\" fill-rule=\"evenodd\" fill-opacity=\"1\" /><path clip-path=\"url(#clip160)\" d=\"M952.24 1209.54 L959.735 1209.54 L959.735 1246.77 L981.974 1227.21 L991.494 1227.21 L967.431 1248.43 L992.506 1272.58 L982.784 1272.58 L959.735 1250.42 L959.735 1272.58 L952.24 1272.58 L952.24 1209.54 Z\" fill=\"#000000\" fill-rule=\"evenodd\" fill-opacity=\"1\" /><path clip-path=\"url(#clip160)\" d=\"M1026.86 1234.17 Q1025.6 1233.44 1024.1 1233.12 Q1022.65 1232.76 1020.86 1232.76 Q1014.54 1232.76 1011.14 1236.89 Q1007.78 1240.98 1007.78 1248.68 L1007.78 1272.58 L1000.28 1272.58 L1000.28 1227.21 L1007.78 1227.21 L1007.78 1234.25 Q1010.13 1230.12 1013.9 1228.14 Q1017.66 1226.11 1023.05 1226.11 Q1023.82 1226.11 1024.75 1226.23 Q1025.68 1226.31 1026.82 1226.52 L1026.86 1234.17 Z\" fill=\"#000000\" fill-rule=\"evenodd\" fill-opacity=\"1\" /><path clip-path=\"url(#clip160)\" d=\"M1071.66 1248.03 L1071.66 1251.67 L1037.39 1251.67 Q1037.88 1259.37 1042.01 1263.42 Q1046.18 1267.43 1053.59 1267.43 Q1057.89 1267.43 1061.9 1266.38 Q1065.95 1265.32 1069.92 1263.22 L1069.92 1270.27 Q1065.91 1271.97 1061.7 1272.86 Q1057.48 1273.75 1053.15 1273.75 Q1042.29 1273.75 1035.93 1267.43 Q1029.61 1261.11 1029.61 1250.34 Q1029.61 1239.2 1035.61 1232.67 Q1041.64 1226.11 1051.85 1226.11 Q1061.01 1226.11 1066.31 1232.03 Q1071.66 1237.9 1071.66 1248.03 M1064.21 1245.84 Q1064.13 1239.72 1060.76 1236.08 Q1057.44 1232.43 1051.93 1232.43 Q1045.69 1232.43 1041.93 1235.96 Q1038.2 1239.48 1037.63 1245.88 L1064.21 1245.84 Z\" fill=\"#000000\" fill-rule=\"evenodd\" fill-opacity=\"1\" /><path clip-path=\"url(#clip160)\" d=\"M1112.82 1228.54 L1112.82 1235.59 Q1109.66 1233.97 1106.26 1233.16 Q1102.85 1232.35 1099.21 1232.35 Q1093.66 1232.35 1090.86 1234.05 Q1088.11 1235.75 1088.11 1239.16 Q1088.11 1241.75 1090.09 1243.25 Q1092.08 1244.71 1098.07 1246.04 L1100.63 1246.61 Q1108.56 1248.31 1111.89 1251.43 Q1115.25 1254.51 1115.25 1260.06 Q1115.25 1266.38 1110.23 1270.06 Q1105.24 1273.75 1096.49 1273.75 Q1092.85 1273.75 1088.88 1273.02 Q1084.95 1272.33 1080.57 1270.92 L1080.57 1263.22 Q1084.71 1265.37 1088.72 1266.46 Q1092.73 1267.51 1096.66 1267.51 Q1101.92 1267.51 1104.76 1265.73 Q1107.59 1263.91 1107.59 1260.63 Q1107.59 1257.59 1105.53 1255.97 Q1103.5 1254.35 1096.57 1252.85 L1093.98 1252.24 Q1087.05 1250.78 1083.98 1247.78 Q1080.9 1244.75 1080.9 1239.48 Q1080.9 1233.08 1085.43 1229.6 Q1089.97 1226.11 1098.32 1226.11 Q1102.45 1226.11 1106.09 1226.72 Q1109.74 1227.33 1112.82 1228.54 Z\" fill=\"#000000\" fill-rule=\"evenodd\" fill-opacity=\"1\" /><path clip-path=\"url(#clip160)\" d=\"M1150.25 1227.21 L1185.65 1227.21 L1185.65 1234.01 L1157.62 1266.62 L1185.65 1266.62 L1185.65 1272.58 L1149.24 1272.58 L1149.24 1265.77 L1177.27 1233.16 L1150.25 1233.16 L1150.25 1227.21 Z\" fill=\"#000000\" fill-rule=\"evenodd\" fill-opacity=\"1\" /><path clip-path=\"url(#clip160)\" d=\"M1232.36 1235.92 Q1235.16 1230.89 1239.04 1228.5 Q1242.93 1226.11 1248.2 1226.11 Q1255.29 1226.11 1259.14 1231.09 Q1262.99 1236.04 1262.99 1245.19 L1262.99 1272.58 L1255.49 1272.58 L1255.49 1245.43 Q1255.49 1238.91 1253.18 1235.75 Q1250.87 1232.59 1246.13 1232.59 Q1240.34 1232.59 1236.98 1236.44 Q1233.62 1240.29 1233.62 1246.93 L1233.62 1272.58 L1226.12 1272.58 L1226.12 1245.43 Q1226.12 1238.87 1223.81 1235.75 Q1221.5 1232.59 1216.68 1232.59 Q1210.97 1232.59 1207.61 1236.48 Q1204.25 1240.33 1204.25 1246.93 L1204.25 1272.58 L1196.75 1272.58 L1196.75 1227.21 L1204.25 1227.21 L1204.25 1234.25 Q1206.8 1230.08 1210.36 1228.1 Q1213.93 1226.11 1218.83 1226.11 Q1223.77 1226.11 1227.22 1228.62 Q1230.7 1231.14 1232.36 1235.92 Z\" fill=\"#000000\" fill-rule=\"evenodd\" fill-opacity=\"1\" /><path clip-path=\"url(#clip160)\" d=\"M1277.85 1227.21 L1285.31 1227.21 L1285.31 1272.58 L1277.85 1272.58 L1277.85 1227.21 M1277.85 1209.54 L1285.31 1209.54 L1285.31 1218.98 L1277.85 1218.98 L1277.85 1209.54 Z\" fill=\"#000000\" fill-rule=\"evenodd\" fill-opacity=\"1\" /><path clip-path=\"url(#clip160)\" d=\"M1321.52 1249.77 Q1312.49 1249.77 1309 1251.84 Q1305.52 1253.9 1305.52 1258.88 Q1305.52 1262.85 1308.11 1265.2 Q1310.75 1267.51 1315.24 1267.51 Q1321.44 1267.51 1325.17 1263.14 Q1328.93 1258.72 1328.93 1251.43 L1328.93 1249.77 L1321.52 1249.77 M1336.39 1246.69 L1336.39 1272.58 L1328.93 1272.58 L1328.93 1265.69 Q1326.38 1269.82 1322.57 1271.81 Q1318.77 1273.75 1313.26 1273.75 Q1306.29 1273.75 1302.16 1269.86 Q1298.07 1265.93 1298.07 1259.37 Q1298.07 1251.71 1303.17 1247.82 Q1308.31 1243.94 1318.48 1243.94 L1328.93 1243.94 L1328.93 1243.21 Q1328.93 1238.06 1325.53 1235.27 Q1322.17 1232.43 1316.05 1232.43 Q1312.16 1232.43 1308.48 1233.36 Q1304.79 1234.29 1301.39 1236.16 L1301.39 1229.27 Q1305.48 1227.69 1309.33 1226.92 Q1313.18 1226.11 1316.82 1226.11 Q1326.67 1226.11 1331.53 1231.22 Q1336.39 1236.32 1336.39 1246.69 Z\" fill=\"#000000\" fill-rule=\"evenodd\" fill-opacity=\"1\" /><path clip-path=\"url(#clip160)\" d=\"M1389.45 1245.19 L1389.45 1272.58 L1382 1272.58 L1382 1245.43 Q1382 1238.99 1379.49 1235.79 Q1376.98 1232.59 1371.95 1232.59 Q1365.92 1232.59 1362.44 1236.44 Q1358.95 1240.29 1358.95 1246.93 L1358.95 1272.58 L1351.46 1272.58 L1351.46 1227.21 L1358.95 1227.21 L1358.95 1234.25 Q1361.62 1230.16 1365.23 1228.14 Q1368.88 1226.11 1373.62 1226.11 Q1381.43 1226.11 1385.44 1230.97 Q1389.45 1235.79 1389.45 1245.19 Z\" fill=\"#000000\" fill-rule=\"evenodd\" fill-opacity=\"1\" /><path clip-path=\"url(#clip160)\" d=\"M1423.2 1276.79 Q1420.04 1284.89 1417.04 1287.36 Q1414.04 1289.83 1409.02 1289.83 L1403.07 1289.83 L1403.07 1283.59 L1407.44 1283.59 Q1410.52 1283.59 1412.22 1282.14 Q1413.92 1280.68 1415.99 1275.25 L1417.32 1271.85 L1398.97 1227.21 L1406.87 1227.21 L1421.05 1262.69 L1435.23 1227.21 L1443.13 1227.21 L1423.2 1276.79 Z\" fill=\"#000000\" fill-rule=\"evenodd\" fill-opacity=\"1\" /><path clip-path=\"url(#clip160)\" d=\"M1479.79 1227.21 L1487.24 1227.21 L1487.24 1272.58 L1479.79 1272.58 L1479.79 1227.21 M1479.79 1209.54 L1487.24 1209.54 L1487.24 1218.98 L1479.79 1218.98 L1479.79 1209.54 Z\" fill=\"#000000\" fill-rule=\"evenodd\" fill-opacity=\"1\" /><path clip-path=\"url(#clip160)\" d=\"M1502.84 1209.54 L1510.29 1209.54 L1510.29 1272.58 L1502.84 1272.58 L1502.84 1209.54 Z\" fill=\"#000000\" fill-rule=\"evenodd\" fill-opacity=\"1\" /><path clip-path=\"url(#clip160)\" d=\"M1543.47 1232.43 Q1537.47 1232.43 1533.99 1237.13 Q1530.51 1241.79 1530.51 1249.93 Q1530.51 1258.07 1533.95 1262.77 Q1537.43 1267.43 1543.47 1267.43 Q1549.42 1267.43 1552.91 1262.73 Q1556.39 1258.03 1556.39 1249.93 Q1556.39 1241.87 1552.91 1237.17 Q1549.42 1232.43 1543.47 1232.43 M1543.47 1226.11 Q1553.19 1226.11 1558.74 1232.43 Q1564.29 1238.75 1564.29 1249.93 Q1564.29 1261.07 1558.74 1267.43 Q1553.19 1273.75 1543.47 1273.75 Q1533.71 1273.75 1528.16 1267.43 Q1522.65 1261.07 1522.65 1249.93 Q1522.65 1238.75 1528.16 1232.43 Q1533.71 1226.11 1543.47 1226.11 Z\" fill=\"#000000\" fill-rule=\"evenodd\" fill-opacity=\"1\" /><path clip-path=\"url(#clip160)\" d=\"M1597.87 1205.94 L1605.93 1205.94 L1592.73 1221.17 L1586.53 1221.17 L1597.87 1205.94 M1605.57 1228.54 L1605.57 1235.59 Q1602.41 1233.97 1599.01 1233.16 Q1595.61 1232.35 1591.96 1232.35 Q1586.41 1232.35 1583.61 1234.05 Q1580.86 1235.75 1580.86 1239.16 Q1580.86 1241.75 1582.84 1243.25 Q1584.83 1244.71 1590.83 1246.04 L1593.38 1246.61 Q1601.32 1248.31 1604.64 1251.43 Q1608 1254.51 1608 1260.06 Q1608 1266.38 1602.98 1270.06 Q1598 1273.75 1589.25 1273.75 Q1585.6 1273.75 1581.63 1273.02 Q1577.7 1272.33 1573.33 1270.92 L1573.33 1263.22 Q1577.46 1265.37 1581.47 1266.46 Q1585.48 1267.51 1589.41 1267.51 Q1594.67 1267.51 1597.51 1265.73 Q1600.34 1263.91 1600.34 1260.63 Q1600.34 1257.59 1598.28 1255.97 Q1596.25 1254.35 1589.33 1252.85 L1586.73 1252.24 Q1579.81 1250.78 1576.73 1247.78 Q1573.65 1244.75 1573.65 1239.48 Q1573.65 1233.08 1578.19 1229.6 Q1582.72 1226.11 1591.07 1226.11 Q1595.2 1226.11 1598.85 1226.72 Q1602.49 1227.33 1605.57 1228.54 Z\" fill=\"#000000\" fill-rule=\"evenodd\" fill-opacity=\"1\" /><path clip-path=\"url(#clip160)\" d=\"M1652.52 1228.95 L1652.52 1235.92 Q1649.36 1234.17 1646.16 1233.32 Q1643 1232.43 1639.76 1232.43 Q1632.51 1232.43 1628.5 1237.05 Q1624.49 1241.63 1624.49 1249.93 Q1624.49 1258.24 1628.5 1262.85 Q1632.51 1267.43 1639.76 1267.43 Q1643 1267.43 1646.16 1266.58 Q1649.36 1265.69 1652.52 1263.95 L1652.52 1270.83 Q1649.4 1272.29 1646.04 1273.02 Q1642.72 1273.75 1638.95 1273.75 Q1628.7 1273.75 1622.67 1267.31 Q1616.63 1260.87 1616.63 1249.93 Q1616.63 1238.83 1622.71 1232.47 Q1628.82 1226.11 1639.44 1226.11 Q1642.88 1226.11 1646.16 1226.84 Q1649.44 1227.53 1652.52 1228.95 Z\" fill=\"#000000\" fill-rule=\"evenodd\" fill-opacity=\"1\" /><path clip-path=\"url(#clip160)\" d=\"M1665.48 1227.21 L1672.94 1227.21 L1672.94 1272.58 L1665.48 1272.58 L1665.48 1227.21 M1665.48 1209.54 L1672.94 1209.54 L1672.94 1218.98 L1665.48 1218.98 L1665.48 1209.54 Z\" fill=\"#000000\" fill-rule=\"evenodd\" fill-opacity=\"1\" /><path clip-path=\"url(#clip160)\" d=\"M1714.13 1254.67 L1714.13 1227.21 L1721.59 1227.21 L1721.59 1254.39 Q1721.59 1260.83 1724.1 1264.07 Q1726.61 1267.27 1731.63 1267.27 Q1737.67 1267.27 1741.15 1263.42 Q1744.68 1259.57 1744.68 1252.93 L1744.68 1227.21 L1752.13 1227.21 L1752.13 1272.58 L1744.68 1272.58 L1744.68 1265.61 Q1741.96 1269.74 1738.36 1271.77 Q1734.79 1273.75 1730.05 1273.75 Q1722.24 1273.75 1718.19 1268.89 Q1714.13 1264.03 1714.13 1254.67 M1732.89 1226.11 L1732.89 1226.11 Z\" fill=\"#000000\" fill-rule=\"evenodd\" fill-opacity=\"1\" /><path clip-path=\"url(#clip160)\" d=\"M1774.86 1214.32 L1774.86 1227.21 L1790.21 1227.21 L1790.21 1233 L1774.86 1233 L1774.86 1257.63 Q1774.86 1263.18 1776.36 1264.76 Q1777.9 1266.34 1782.55 1266.34 L1790.21 1266.34 L1790.21 1272.58 L1782.55 1272.58 Q1773.93 1272.58 1770.64 1269.38 Q1767.36 1266.14 1767.36 1257.63 L1767.36 1233 L1761.89 1233 L1761.89 1227.21 L1767.36 1227.21 L1767.36 1214.32 L1774.86 1214.32 Z\" fill=\"#000000\" fill-rule=\"evenodd\" fill-opacity=\"1\" /><path clip-path=\"url(#clip160)\" d=\"M1826.3 1234.17 Q1825.05 1233.44 1823.55 1233.12 Q1822.09 1232.76 1820.31 1232.76 Q1813.99 1232.76 1810.59 1236.89 Q1807.22 1240.98 1807.22 1248.68 L1807.22 1272.58 L1799.73 1272.58 L1799.73 1227.21 L1807.22 1227.21 L1807.22 1234.25 Q1809.57 1230.12 1813.34 1228.14 Q1817.11 1226.11 1822.5 1226.11 Q1823.27 1226.11 1824.2 1226.23 Q1825.13 1226.31 1826.26 1226.52 L1826.3 1234.17 Z\" fill=\"#000000\" fill-rule=\"evenodd\" fill-opacity=\"1\" /><path clip-path=\"url(#clip160)\" d=\"M1854.74 1249.77 Q1845.71 1249.77 1842.22 1251.84 Q1838.74 1253.9 1838.74 1258.88 Q1838.74 1262.85 1841.33 1265.2 Q1843.97 1267.51 1848.46 1267.51 Q1854.66 1267.51 1858.39 1263.14 Q1862.15 1258.72 1862.15 1251.43 L1862.15 1249.77 L1854.74 1249.77 M1869.61 1246.69 L1869.61 1272.58 L1862.15 1272.58 L1862.15 1265.69 Q1859.6 1269.82 1855.79 1271.81 Q1851.99 1273.75 1846.48 1273.75 Q1839.51 1273.75 1835.38 1269.86 Q1831.29 1265.93 1831.29 1259.37 Q1831.29 1251.71 1836.39 1247.82 Q1841.54 1243.94 1851.7 1243.94 L1862.15 1243.94 L1862.15 1243.21 Q1862.15 1238.06 1858.75 1235.27 Q1855.39 1232.43 1849.27 1232.43 Q1845.38 1232.43 1841.7 1233.36 Q1838.01 1234.29 1834.61 1236.16 L1834.61 1229.27 Q1838.7 1227.69 1842.55 1226.92 Q1846.4 1226.11 1850.04 1226.11 Q1859.89 1226.11 1864.75 1231.22 Q1869.61 1236.32 1869.61 1246.69 Z\" fill=\"#000000\" fill-rule=\"evenodd\" fill-opacity=\"1\" /><path clip-path=\"url(#clip160)\" d=\"M1917.61 1228.95 L1917.61 1235.92 Q1914.45 1234.17 1911.25 1233.32 Q1908.09 1232.43 1904.85 1232.43 Q1897.6 1232.43 1893.59 1237.05 Q1889.58 1241.63 1889.58 1249.93 Q1889.58 1258.24 1893.59 1262.85 Q1897.6 1267.43 1904.85 1267.43 Q1908.09 1267.43 1911.25 1266.58 Q1914.45 1265.69 1917.61 1263.95 L1917.61 1270.83 Q1914.49 1272.29 1911.13 1273.02 Q1907.81 1273.75 1904.04 1273.75 Q1893.79 1273.75 1887.76 1267.31 Q1881.72 1260.87 1881.72 1249.93 Q1881.72 1238.83 1887.8 1232.47 Q1893.91 1226.11 1904.53 1226.11 Q1907.97 1226.11 1911.25 1226.84 Q1914.53 1227.53 1917.61 1228.95 Z\" fill=\"#000000\" fill-rule=\"evenodd\" fill-opacity=\"1\" /><path clip-path=\"url(#clip160)\" d=\"M1948.16 1232.43 Q1942.16 1232.43 1938.68 1237.13 Q1935.19 1241.79 1935.19 1249.93 Q1935.19 1258.07 1938.64 1262.77 Q1942.12 1267.43 1948.16 1267.43 Q1954.11 1267.43 1957.59 1262.73 Q1961.08 1258.03 1961.08 1249.93 Q1961.08 1241.87 1957.59 1237.17 Q1954.11 1232.43 1948.16 1232.43 M1948.16 1226.11 Q1957.88 1226.11 1963.43 1232.43 Q1968.98 1238.75 1968.98 1249.93 Q1968.98 1261.07 1963.43 1267.43 Q1957.88 1273.75 1948.16 1273.75 Q1938.39 1273.75 1932.84 1267.43 Q1927.33 1261.07 1927.33 1249.93 Q1927.33 1238.75 1932.84 1232.43 Q1938.39 1226.11 1948.16 1226.11 Z\" fill=\"#000000\" fill-rule=\"evenodd\" fill-opacity=\"1\" /><path clip-path=\"url(#clip160)\" d=\"M2019.05 1245.19 L2019.05 1272.58 L2011.59 1272.58 L2011.59 1245.43 Q2011.59 1238.99 2009.08 1235.79 Q2006.57 1232.59 2001.55 1232.59 Q1995.51 1232.59 1992.03 1236.44 Q1988.54 1240.29 1988.54 1246.93 L1988.54 1272.58 L1981.05 1272.58 L1981.05 1227.21 L1988.54 1227.21 L1988.54 1234.25 Q1991.22 1230.16 1994.82 1228.14 Q1998.47 1226.11 2003.21 1226.11 Q2011.03 1226.11 2015.04 1230.97 Q2019.05 1235.79 2019.05 1245.19 Z\" fill=\"#000000\" fill-rule=\"evenodd\" fill-opacity=\"1\" /><path clip-path=\"url(#clip160)\" d=\"M2052.79 1276.79 Q2049.63 1284.89 2046.63 1287.36 Q2043.64 1289.83 2038.61 1289.83 L2032.66 1289.83 L2032.66 1283.59 L2037.03 1283.59 Q2040.11 1283.59 2041.81 1282.14 Q2043.51 1280.68 2045.58 1275.25 L2046.92 1271.85 L2028.57 1227.21 L2036.47 1227.21 L2050.64 1262.69 L2064.82 1227.21 L2072.72 1227.21 L2052.79 1276.79 Z\" fill=\"#000000\" fill-rule=\"evenodd\" fill-opacity=\"1\" /><path clip-path=\"url(#clip160)\" d=\"M2115.66 1228.95 L2115.66 1235.92 Q2112.5 1234.17 2109.3 1233.32 Q2106.14 1232.43 2102.9 1232.43 Q2095.65 1232.43 2091.64 1237.05 Q2087.63 1241.63 2087.63 1249.93 Q2087.63 1258.24 2091.64 1262.85 Q2095.65 1267.43 2102.9 1267.43 Q2106.14 1267.43 2109.3 1266.58 Q2112.5 1265.69 2115.66 1263.95 L2115.66 1270.83 Q2112.54 1272.29 2109.18 1273.02 Q2105.86 1273.75 2102.09 1273.75 Q2091.84 1273.75 2085.81 1267.31 Q2079.77 1260.87 2079.77 1249.93 Q2079.77 1238.83 2085.85 1232.47 Q2091.96 1226.11 2102.58 1226.11 Q2106.02 1226.11 2109.3 1226.84 Q2112.58 1227.53 2115.66 1228.95 Z\" fill=\"#000000\" fill-rule=\"evenodd\" fill-opacity=\"1\" /><path clip-path=\"url(#clip160)\" d=\"M2166.34 1245.19 L2166.34 1272.58 L2158.88 1272.58 L2158.88 1245.43 Q2158.88 1238.99 2156.37 1235.79 Q2153.86 1232.59 2148.84 1232.59 Q2142.8 1232.59 2139.32 1236.44 Q2135.83 1240.29 2135.83 1246.93 L2135.83 1272.58 L2128.34 1272.58 L2128.34 1209.54 L2135.83 1209.54 L2135.83 1234.25 Q2138.51 1230.16 2142.11 1228.14 Q2145.76 1226.11 2150.5 1226.11 Q2158.32 1226.11 2162.33 1230.97 Q2166.34 1235.79 2166.34 1245.19 Z\" fill=\"#000000\" fill-rule=\"evenodd\" fill-opacity=\"1\" /><path clip-path=\"url(#clip160)\" d=\"M2204.33 1227.21 L2239.74 1227.21 L2239.74 1234.01 L2211.71 1266.62 L2239.74 1266.62 L2239.74 1272.58 L2203.32 1272.58 L2203.32 1265.77 L2231.35 1233.16 L2204.33 1233.16 L2204.33 1227.21 Z\" fill=\"#000000\" fill-rule=\"evenodd\" fill-opacity=\"1\" /><path clip-path=\"url(#clip160)\" d=\"M2271.74 1249.77 Q2262.71 1249.77 2259.22 1251.84 Q2255.74 1253.9 2255.74 1258.88 Q2255.74 1262.85 2258.33 1265.2 Q2260.97 1267.51 2265.46 1267.51 Q2271.66 1267.51 2275.39 1263.14 Q2279.15 1258.72 2279.15 1251.43 L2279.15 1249.77 L2271.74 1249.77 M2286.61 1246.69 L2286.61 1272.58 L2279.15 1272.58 L2279.15 1265.69 Q2276.6 1269.82 2272.79 1271.81 Q2268.99 1273.75 2263.48 1273.75 Q2256.51 1273.75 2252.38 1269.86 Q2248.29 1265.93 2248.29 1259.37 Q2248.29 1251.71 2253.39 1247.82 Q2258.54 1243.94 2268.7 1243.94 L2279.15 1243.94 L2279.15 1243.21 Q2279.15 1238.06 2275.75 1235.27 Q2272.39 1232.43 2266.27 1232.43 Q2262.38 1232.43 2258.7 1233.36 Q2255.01 1234.29 2251.61 1236.16 L2251.61 1229.27 Q2255.7 1227.69 2259.55 1226.92 Q2263.4 1226.11 2267.04 1226.11 Q2276.89 1226.11 2281.75 1231.22 Q2286.61 1236.32 2286.61 1246.69 Z\" fill=\"#000000\" fill-rule=\"evenodd\" fill-opacity=\"1\" /><path clip-path=\"url(#clip160)\" d=\"M2337.29 1235.92 Q2340.08 1230.89 2343.97 1228.5 Q2347.86 1226.11 2353.12 1226.11 Q2360.21 1226.11 2364.06 1231.09 Q2367.91 1236.04 2367.91 1245.19 L2367.91 1272.58 L2360.42 1272.58 L2360.42 1245.43 Q2360.42 1238.91 2358.11 1235.75 Q2355.8 1232.59 2351.06 1232.59 Q2345.27 1232.59 2341.9 1236.44 Q2338.54 1240.29 2338.54 1246.93 L2338.54 1272.58 L2331.05 1272.58 L2331.05 1245.43 Q2331.05 1238.87 2328.74 1235.75 Q2326.43 1232.59 2321.61 1232.59 Q2315.9 1232.59 2312.53 1236.48 Q2309.17 1240.33 2309.17 1246.93 L2309.17 1272.58 L2301.68 1272.58 L2301.68 1227.21 L2309.17 1227.21 L2309.17 1234.25 Q2311.72 1230.08 2315.29 1228.1 Q2318.85 1226.11 2323.76 1226.11 Q2328.7 1226.11 2332.14 1228.62 Q2335.62 1231.14 2337.29 1235.92 Z\" fill=\"#000000\" fill-rule=\"evenodd\" fill-opacity=\"1\" /><path clip-path=\"url(#clip160)\" d=\"M2400.36 1232.43 Q2394.36 1232.43 2390.88 1237.13 Q2387.39 1241.79 2387.39 1249.93 Q2387.39 1258.07 2390.84 1262.77 Q2394.32 1267.43 2400.36 1267.43 Q2406.31 1267.43 2409.8 1262.73 Q2413.28 1258.03 2413.28 1249.93 Q2413.28 1241.87 2409.8 1237.17 Q2406.31 1232.43 2400.36 1232.43 M2400.36 1226.11 Q2410.08 1226.11 2415.63 1232.43 Q2421.18 1238.75 2421.18 1249.93 Q2421.18 1261.07 2415.63 1267.43 Q2410.08 1273.75 2400.36 1273.75 Q2390.6 1273.75 2385.05 1267.43 Q2379.54 1261.07 2379.54 1249.93 Q2379.54 1238.75 2385.05 1232.43 Q2390.6 1226.11 2400.36 1226.11 M2405.99 1206.22 L2414.05 1206.22 L2400.84 1221.45 L2394.65 1221.45 L2405.99 1206.22 Z\" fill=\"#000000\" fill-rule=\"evenodd\" fill-opacity=\"1\" /><path clip-path=\"url(#clip160)\" d=\"M2429.2 1227.21 L2436.65 1227.21 L2445.97 1262.61 L2455.25 1227.21 L2464.04 1227.21 L2473.36 1262.61 L2482.63 1227.21 L2490.09 1227.21 L2478.22 1272.58 L2469.43 1272.58 L2459.66 1235.39 L2449.86 1272.58 L2441.07 1272.58 L2429.2 1227.21 Z\" fill=\"#000000\" fill-rule=\"evenodd\" fill-opacity=\"1\" /><path clip-path=\"url(#clip160)\" d=\"M2501.39 1227.21 L2508.84 1227.21 L2508.84 1272.58 L2501.39 1272.58 L2501.39 1227.21 M2501.39 1209.54 L2508.84 1209.54 L2508.84 1218.98 L2501.39 1218.98 L2501.39 1209.54 Z\" fill=\"#000000\" fill-rule=\"evenodd\" fill-opacity=\"1\" /><path clip-path=\"url(#clip160)\" d=\"M2563.24 1248.03 L2563.24 1251.67 L2528.97 1251.67 Q2529.46 1259.37 2533.59 1263.42 Q2537.76 1267.43 2545.18 1267.43 Q2549.47 1267.43 2553.48 1266.38 Q2557.53 1265.32 2561.5 1263.22 L2561.5 1270.27 Q2557.49 1271.97 2553.28 1272.86 Q2549.07 1273.75 2544.73 1273.75 Q2533.88 1273.75 2527.52 1267.43 Q2521.2 1261.11 2521.2 1250.34 Q2521.2 1239.2 2527.19 1232.67 Q2533.23 1226.11 2543.44 1226.11 Q2552.59 1226.11 2557.9 1232.03 Q2563.24 1237.9 2563.24 1248.03 M2555.79 1245.84 Q2555.71 1239.72 2552.35 1236.08 Q2549.03 1232.43 2543.52 1232.43 Q2537.28 1232.43 2533.51 1235.96 Q2529.78 1239.48 2529.22 1245.88 L2555.79 1245.84 Z\" fill=\"#000000\" fill-rule=\"evenodd\" fill-opacity=\"1\" /><path clip-path=\"url(#clip160)\" d=\"M2596.71 1205.94 L2604.77 1205.94 L2591.56 1221.17 L2585.36 1221.17 L2596.71 1205.94 M2613.19 1245.19 L2613.19 1272.58 L2605.74 1272.58 L2605.74 1245.43 Q2605.74 1238.99 2603.23 1235.79 Q2600.72 1232.59 2595.69 1232.59 Q2589.66 1232.59 2586.17 1236.44 Q2582.69 1240.29 2582.69 1246.93 L2582.69 1272.58 L2575.19 1272.58 L2575.19 1227.21 L2582.69 1227.21 L2582.69 1234.25 Q2585.36 1230.16 2588.97 1228.14 Q2592.61 1226.11 2597.35 1226.11 Q2605.17 1226.11 2609.18 1230.97 Q2613.19 1235.79 2613.19 1245.19 Z\" fill=\"#000000\" fill-rule=\"evenodd\" fill-opacity=\"1\" /><polyline clip-path=\"url(#clip163)\" style=\"stroke:#ff0000; stroke-linecap:round; stroke-linejoin:round; stroke-width:4; stroke-opacity:1; fill:none\" points=\"359.582,1433.69 540.37,2180.19 721.158,1842.38 1263.52,1355.76 2167.46,1768.6 3071.4,2147.03 \"/>\n",
       "<path clip-path=\"url(#clip160)\" d=\"M2134.37 1463.84 L3056.94 1463.84 L3056.94 1360.16 L2134.37 1360.16  Z\" fill=\"#ffffff\" fill-rule=\"evenodd\" fill-opacity=\"1\"/>\n",
       "<polyline clip-path=\"url(#clip160)\" style=\"stroke:#000000; stroke-linecap:round; stroke-linejoin:round; stroke-width:4; stroke-opacity:1; fill:none\" points=\"2134.37,1463.84 3056.94,1463.84 3056.94,1360.16 2134.37,1360.16 2134.37,1463.84 \"/>\n",
       "<polyline clip-path=\"url(#clip160)\" style=\"stroke:#ff0000; stroke-linecap:round; stroke-linejoin:round; stroke-width:4; stroke-opacity:1; fill:none\" points=\"2166.31,1412 2357.95,1412 \"/>\n",
       "<path clip-path=\"url(#clip160)\" d=\"M2389.89 1394.72 L2394.56 1394.72 L2394.56 1429.28 L2389.89 1429.28 L2389.89 1394.72 Z\" fill=\"#000000\" fill-rule=\"evenodd\" fill-opacity=\"1\" /><path clip-path=\"url(#clip160)\" d=\"M2403.68 1393.26 L2407.94 1393.26 L2407.94 1429.28 L2403.68 1429.28 L2403.68 1393.26 Z\" fill=\"#000000\" fill-rule=\"evenodd\" fill-opacity=\"1\" /><path clip-path=\"url(#clip160)\" d=\"M2426.9 1406.34 Q2423.47 1406.34 2421.48 1409.03 Q2419.49 1411.69 2419.49 1416.34 Q2419.49 1420.99 2421.46 1423.68 Q2423.45 1426.34 2426.9 1426.34 Q2430.3 1426.34 2432.29 1423.66 Q2434.28 1420.97 2434.28 1416.34 Q2434.28 1411.74 2432.29 1409.05 Q2430.3 1406.34 2426.9 1406.34 M2426.9 1402.73 Q2432.46 1402.73 2435.63 1406.34 Q2438.8 1409.95 2438.8 1416.34 Q2438.8 1422.71 2435.63 1426.34 Q2432.46 1429.95 2426.9 1429.95 Q2421.32 1429.95 2418.15 1426.34 Q2415 1422.71 2415 1416.34 Q2415 1409.95 2418.15 1406.34 Q2421.32 1402.73 2426.9 1402.73 Z\" fill=\"#000000\" fill-rule=\"evenodd\" fill-opacity=\"1\" /><path clip-path=\"url(#clip160)\" d=\"M2457.99 1391.2 L2462.59 1391.2 L2455.05 1399.91 L2451.51 1399.91 L2457.99 1391.2 M2462.39 1404.12 L2462.39 1408.15 Q2460.58 1407.22 2458.64 1406.76 Q2456.69 1406.3 2454.61 1406.3 Q2451.44 1406.3 2449.84 1407.27 Q2448.27 1408.24 2448.27 1410.18 Q2448.27 1411.67 2449.4 1412.52 Q2450.53 1413.36 2453.96 1414.12 L2455.42 1414.44 Q2459.96 1415.42 2461.85 1417.2 Q2463.78 1418.96 2463.78 1422.13 Q2463.78 1425.74 2460.9 1427.85 Q2458.06 1429.95 2453.06 1429.95 Q2450.97 1429.95 2448.71 1429.54 Q2446.46 1429.14 2443.96 1428.33 L2443.96 1423.93 Q2446.32 1425.16 2448.61 1425.79 Q2450.9 1426.39 2453.15 1426.39 Q2456.16 1426.39 2457.78 1425.37 Q2459.4 1424.33 2459.4 1422.45 Q2459.4 1420.72 2458.22 1419.79 Q2457.06 1418.87 2453.1 1418.01 L2451.62 1417.66 Q2447.66 1416.83 2445.9 1415.12 Q2444.15 1413.38 2444.15 1410.37 Q2444.15 1406.71 2446.74 1404.72 Q2449.33 1402.73 2454.1 1402.73 Q2456.46 1402.73 2458.54 1403.08 Q2460.63 1403.43 2462.39 1404.12 Z\" fill=\"#000000\" fill-rule=\"evenodd\" fill-opacity=\"1\" /><path clip-path=\"url(#clip160)\" d=\"M2489.21 1404.35 L2489.21 1408.33 Q2487.41 1407.34 2485.58 1406.85 Q2483.78 1406.34 2481.92 1406.34 Q2477.78 1406.34 2475.49 1408.98 Q2473.2 1411.6 2473.2 1416.34 Q2473.2 1421.09 2475.49 1423.73 Q2477.78 1426.34 2481.92 1426.34 Q2483.78 1426.34 2485.58 1425.86 Q2487.41 1425.35 2489.21 1424.35 L2489.21 1428.29 Q2487.43 1429.12 2485.51 1429.54 Q2483.61 1429.95 2481.46 1429.95 Q2475.6 1429.95 2472.15 1426.27 Q2468.71 1422.59 2468.71 1416.34 Q2468.71 1410 2472.18 1406.37 Q2475.67 1402.73 2481.74 1402.73 Q2483.71 1402.73 2485.58 1403.15 Q2487.46 1403.54 2489.21 1404.35 M2484.33 1391.37 L2488.94 1391.37 L2481.39 1400.07 L2477.85 1400.07 L2484.33 1391.37 Z\" fill=\"#000000\" fill-rule=\"evenodd\" fill-opacity=\"1\" /><path clip-path=\"url(#clip160)\" d=\"M2511.25 1419.05 L2511.25 1403.36 L2515.51 1403.36 L2515.51 1418.89 Q2515.51 1422.57 2516.95 1424.42 Q2518.38 1426.25 2521.25 1426.25 Q2524.7 1426.25 2526.69 1424.05 Q2528.71 1421.85 2528.71 1418.05 L2528.71 1403.36 L2532.96 1403.36 L2532.96 1429.28 L2528.71 1429.28 L2528.71 1425.3 Q2527.15 1427.66 2525.09 1428.82 Q2523.06 1429.95 2520.35 1429.95 Q2515.88 1429.95 2513.57 1427.18 Q2511.25 1424.4 2511.25 1419.05 M2521.97 1402.73 L2521.97 1402.73 Z\" fill=\"#000000\" fill-rule=\"evenodd\" fill-opacity=\"1\" /><path clip-path=\"url(#clip160)\" d=\"M2545.95 1395.99 L2545.95 1403.36 L2554.72 1403.36 L2554.72 1406.67 L2545.95 1406.67 L2545.95 1420.74 Q2545.95 1423.91 2546.81 1424.81 Q2547.69 1425.72 2550.35 1425.72 L2554.72 1425.72 L2554.72 1429.28 L2550.35 1429.28 Q2545.42 1429.28 2543.54 1427.45 Q2541.67 1425.6 2541.67 1420.74 L2541.67 1406.67 L2538.54 1406.67 L2538.54 1403.36 L2541.67 1403.36 L2541.67 1395.99 L2545.95 1395.99 Z\" fill=\"#000000\" fill-rule=\"evenodd\" fill-opacity=\"1\" /><path clip-path=\"url(#clip160)\" d=\"M2575.35 1407.34 Q2574.63 1406.92 2573.77 1406.74 Q2572.94 1406.53 2571.92 1406.53 Q2568.31 1406.53 2566.37 1408.89 Q2564.45 1411.23 2564.45 1415.62 L2564.45 1429.28 L2560.16 1429.28 L2560.16 1403.36 L2564.45 1403.36 L2564.45 1407.38 Q2565.79 1405.02 2567.94 1403.89 Q2570.09 1402.73 2573.17 1402.73 Q2573.61 1402.73 2574.15 1402.8 Q2574.68 1402.85 2575.33 1402.96 L2575.35 1407.34 Z\" fill=\"#000000\" fill-rule=\"evenodd\" fill-opacity=\"1\" /><path clip-path=\"url(#clip160)\" d=\"M2591.6 1416.25 Q2586.44 1416.25 2584.45 1417.43 Q2582.46 1418.61 2582.46 1421.46 Q2582.46 1423.73 2583.94 1425.07 Q2585.44 1426.39 2588.01 1426.39 Q2591.55 1426.39 2593.68 1423.89 Q2595.83 1421.37 2595.83 1417.2 L2595.83 1416.25 L2591.6 1416.25 M2600.09 1414.49 L2600.09 1429.28 L2595.83 1429.28 L2595.83 1425.35 Q2594.38 1427.71 2592.2 1428.84 Q2590.02 1429.95 2586.88 1429.95 Q2582.89 1429.95 2580.53 1427.73 Q2578.2 1425.49 2578.2 1421.74 Q2578.2 1417.36 2581.11 1415.14 Q2584.05 1412.92 2589.86 1412.92 L2595.83 1412.92 L2595.83 1412.5 Q2595.83 1409.56 2593.89 1407.96 Q2591.97 1406.34 2588.47 1406.34 Q2586.25 1406.34 2584.14 1406.87 Q2582.04 1407.41 2580.09 1408.47 L2580.09 1404.54 Q2582.43 1403.63 2584.63 1403.19 Q2586.83 1402.73 2588.91 1402.73 Q2594.54 1402.73 2597.32 1405.65 Q2600.09 1408.56 2600.09 1414.49 Z\" fill=\"#000000\" fill-rule=\"evenodd\" fill-opacity=\"1\" /><path clip-path=\"url(#clip160)\" d=\"M2627.52 1404.35 L2627.52 1408.33 Q2625.72 1407.34 2623.89 1406.85 Q2622.08 1406.34 2620.23 1406.34 Q2616.09 1406.34 2613.8 1408.98 Q2611.51 1411.6 2611.51 1416.34 Q2611.51 1421.09 2613.8 1423.73 Q2616.09 1426.34 2620.23 1426.34 Q2622.08 1426.34 2623.89 1425.86 Q2625.72 1425.35 2627.52 1424.35 L2627.52 1428.29 Q2625.74 1429.12 2623.82 1429.54 Q2621.92 1429.95 2619.77 1429.95 Q2613.91 1429.95 2610.46 1426.27 Q2607.02 1422.59 2607.02 1416.34 Q2607.02 1410 2610.49 1406.37 Q2613.98 1402.73 2620.05 1402.73 Q2622.02 1402.73 2623.89 1403.15 Q2625.77 1403.54 2627.52 1404.35 Z\" fill=\"#000000\" fill-rule=\"evenodd\" fill-opacity=\"1\" /><path clip-path=\"url(#clip160)\" d=\"M2644.98 1406.34 Q2641.55 1406.34 2639.56 1409.03 Q2637.57 1411.69 2637.57 1416.34 Q2637.57 1420.99 2639.54 1423.68 Q2641.53 1426.34 2644.98 1426.34 Q2648.38 1426.34 2650.37 1423.66 Q2652.36 1420.97 2652.36 1416.34 Q2652.36 1411.74 2650.37 1409.05 Q2648.38 1406.34 2644.98 1406.34 M2644.98 1402.73 Q2650.53 1402.73 2653.7 1406.34 Q2656.88 1409.95 2656.88 1416.34 Q2656.88 1422.71 2653.7 1426.34 Q2650.53 1429.95 2644.98 1429.95 Q2639.4 1429.95 2636.23 1426.34 Q2633.08 1422.71 2633.08 1416.34 Q2633.08 1409.95 2636.23 1406.34 Q2639.4 1402.73 2644.98 1402.73 Z\" fill=\"#000000\" fill-rule=\"evenodd\" fill-opacity=\"1\" /><path clip-path=\"url(#clip160)\" d=\"M2685.49 1413.63 L2685.49 1429.28 L2681.23 1429.28 L2681.23 1413.77 Q2681.23 1410.09 2679.79 1408.26 Q2678.36 1406.43 2675.49 1406.43 Q2672.04 1406.43 2670.05 1408.63 Q2668.06 1410.83 2668.06 1414.63 L2668.06 1429.28 L2663.77 1429.28 L2663.77 1403.36 L2668.06 1403.36 L2668.06 1407.38 Q2669.58 1405.05 2671.64 1403.89 Q2673.73 1402.73 2676.44 1402.73 Q2680.9 1402.73 2683.2 1405.51 Q2685.49 1408.26 2685.49 1413.63 Z\" fill=\"#000000\" fill-rule=\"evenodd\" fill-opacity=\"1\" /><path clip-path=\"url(#clip160)\" d=\"M2704.77 1431.69 Q2702.96 1436.32 2701.25 1437.73 Q2699.54 1439.14 2696.67 1439.14 L2693.26 1439.14 L2693.26 1435.58 L2695.76 1435.58 Q2697.52 1435.58 2698.5 1434.74 Q2699.47 1433.91 2700.65 1430.81 L2701.41 1428.87 L2690.93 1403.36 L2695.44 1403.36 L2703.54 1423.63 L2711.64 1403.36 L2716.16 1403.36 L2704.77 1431.69 Z\" fill=\"#000000\" fill-rule=\"evenodd\" fill-opacity=\"1\" /><path clip-path=\"url(#clip160)\" d=\"M2740.7 1404.35 L2740.7 1408.33 Q2738.89 1407.34 2737.06 1406.85 Q2735.26 1406.34 2733.4 1406.34 Q2729.26 1406.34 2726.97 1408.98 Q2724.68 1411.6 2724.68 1416.34 Q2724.68 1421.09 2726.97 1423.73 Q2729.26 1426.34 2733.4 1426.34 Q2735.26 1426.34 2737.06 1425.86 Q2738.89 1425.35 2740.7 1424.35 L2740.7 1428.29 Q2738.91 1429.12 2736.99 1429.54 Q2735.09 1429.95 2732.94 1429.95 Q2727.08 1429.95 2723.63 1426.27 Q2720.19 1422.59 2720.19 1416.34 Q2720.19 1410 2723.66 1406.37 Q2727.15 1402.73 2733.22 1402.73 Q2735.19 1402.73 2737.06 1403.15 Q2738.94 1403.54 2740.7 1404.35 Z\" fill=\"#000000\" fill-rule=\"evenodd\" fill-opacity=\"1\" /><path clip-path=\"url(#clip160)\" d=\"M2769.65 1413.63 L2769.65 1429.28 L2765.39 1429.28 L2765.39 1413.77 Q2765.39 1410.09 2763.96 1408.26 Q2762.52 1406.43 2759.65 1406.43 Q2756.2 1406.43 2754.21 1408.63 Q2752.22 1410.83 2752.22 1414.63 L2752.22 1429.28 L2747.94 1429.28 L2747.94 1393.26 L2752.22 1393.26 L2752.22 1407.38 Q2753.75 1405.05 2755.81 1403.89 Q2757.89 1402.73 2760.6 1402.73 Q2765.07 1402.73 2767.36 1405.51 Q2769.65 1408.26 2769.65 1413.63 Z\" fill=\"#000000\" fill-rule=\"evenodd\" fill-opacity=\"1\" /><path clip-path=\"url(#clip160)\" d=\"M2791.37 1403.36 L2811.6 1403.36 L2811.6 1407.24 L2795.58 1425.88 L2811.6 1425.88 L2811.6 1429.28 L2790.79 1429.28 L2790.79 1425.39 L2806.81 1406.76 L2791.37 1406.76 L2791.37 1403.36 Z\" fill=\"#000000\" fill-rule=\"evenodd\" fill-opacity=\"1\" /><path clip-path=\"url(#clip160)\" d=\"M2829.88 1416.25 Q2824.72 1416.25 2822.73 1417.43 Q2820.74 1418.61 2820.74 1421.46 Q2820.74 1423.73 2822.22 1425.07 Q2823.73 1426.39 2826.3 1426.39 Q2829.84 1426.39 2831.97 1423.89 Q2834.12 1421.37 2834.12 1417.2 L2834.12 1416.25 L2829.88 1416.25 M2838.38 1414.49 L2838.38 1429.28 L2834.12 1429.28 L2834.12 1425.35 Q2832.66 1427.71 2830.49 1428.84 Q2828.31 1429.95 2825.16 1429.95 Q2821.18 1429.95 2818.82 1427.73 Q2816.48 1425.49 2816.48 1421.74 Q2816.48 1417.36 2819.4 1415.14 Q2822.34 1412.92 2828.15 1412.92 L2834.12 1412.92 L2834.12 1412.5 Q2834.12 1409.56 2832.18 1407.96 Q2830.25 1406.34 2826.76 1406.34 Q2824.54 1406.34 2822.43 1406.87 Q2820.32 1407.41 2818.38 1408.47 L2818.38 1404.54 Q2820.72 1403.63 2822.92 1403.19 Q2825.12 1402.73 2827.2 1402.73 Q2832.82 1402.73 2835.6 1405.65 Q2838.38 1408.56 2838.38 1414.49 Z\" fill=\"#000000\" fill-rule=\"evenodd\" fill-opacity=\"1\" /><path clip-path=\"url(#clip160)\" d=\"M2867.34 1408.33 Q2868.94 1405.46 2871.16 1404.1 Q2873.38 1402.73 2876.39 1402.73 Q2880.44 1402.73 2882.64 1405.58 Q2884.84 1408.4 2884.84 1413.63 L2884.84 1429.28 L2880.56 1429.28 L2880.56 1413.77 Q2880.56 1410.05 2879.24 1408.24 Q2877.92 1406.43 2875.21 1406.43 Q2871.9 1406.43 2869.98 1408.63 Q2868.06 1410.83 2868.06 1414.63 L2868.06 1429.28 L2863.77 1429.28 L2863.77 1413.77 Q2863.77 1410.02 2862.45 1408.24 Q2861.13 1406.43 2858.38 1406.43 Q2855.12 1406.43 2853.19 1408.66 Q2851.27 1410.86 2851.27 1414.63 L2851.27 1429.28 L2846.99 1429.28 L2846.99 1403.36 L2851.27 1403.36 L2851.27 1407.38 Q2852.73 1405 2854.77 1403.87 Q2856.81 1402.73 2859.61 1402.73 Q2862.43 1402.73 2864.4 1404.17 Q2866.39 1405.6 2867.34 1408.33 Z\" fill=\"#000000\" fill-rule=\"evenodd\" fill-opacity=\"1\" /><path clip-path=\"url(#clip160)\" d=\"M2903.38 1406.34 Q2899.95 1406.34 2897.96 1409.03 Q2895.97 1411.69 2895.97 1416.34 Q2895.97 1420.99 2897.94 1423.68 Q2899.93 1426.34 2903.38 1426.34 Q2906.78 1426.34 2908.77 1423.66 Q2910.76 1420.97 2910.76 1416.34 Q2910.76 1411.74 2908.77 1409.05 Q2906.78 1406.34 2903.38 1406.34 M2903.38 1402.73 Q2908.93 1402.73 2912.11 1406.34 Q2915.28 1409.95 2915.28 1416.34 Q2915.28 1422.71 2912.11 1426.34 Q2908.93 1429.95 2903.38 1429.95 Q2897.8 1429.95 2894.63 1426.34 Q2891.48 1422.71 2891.48 1416.34 Q2891.48 1409.95 2894.63 1406.34 Q2897.8 1402.73 2903.38 1402.73 M2906.6 1391.37 L2911.2 1391.37 L2903.66 1400.07 L2900.12 1400.07 L2906.6 1391.37 Z\" fill=\"#000000\" fill-rule=\"evenodd\" fill-opacity=\"1\" /><path clip-path=\"url(#clip160)\" d=\"M2919.86 1403.36 L2924.12 1403.36 L2929.44 1423.59 L2934.74 1403.36 L2939.77 1403.36 L2945.09 1423.59 L2950.39 1403.36 L2954.65 1403.36 L2947.87 1429.28 L2942.85 1429.28 L2937.27 1408.03 L2931.67 1429.28 L2926.64 1429.28 L2919.86 1403.36 Z\" fill=\"#000000\" fill-rule=\"evenodd\" fill-opacity=\"1\" /><path clip-path=\"url(#clip160)\" d=\"M2961.11 1403.36 L2965.37 1403.36 L2965.37 1429.28 L2961.11 1429.28 L2961.11 1403.36 M2961.11 1393.26 L2965.37 1393.26 L2965.37 1398.66 L2961.11 1398.66 L2961.11 1393.26 Z\" fill=\"#000000\" fill-rule=\"evenodd\" fill-opacity=\"1\" /><path clip-path=\"url(#clip160)\" d=\"M2996.46 1415.25 L2996.46 1417.34 L2976.87 1417.34 Q2977.15 1421.74 2979.51 1424.05 Q2981.9 1426.34 2986.13 1426.34 Q2988.59 1426.34 2990.88 1425.74 Q2993.19 1425.14 2995.46 1423.93 L2995.46 1427.96 Q2993.17 1428.93 2990.76 1429.44 Q2988.36 1429.95 2985.88 1429.95 Q2979.68 1429.95 2976.04 1426.34 Q2972.43 1422.73 2972.43 1416.57 Q2972.43 1410.21 2975.86 1406.48 Q2979.3 1402.73 2985.14 1402.73 Q2990.37 1402.73 2993.4 1406.11 Q2996.46 1409.47 2996.46 1415.25 M2992.2 1414 Q2992.15 1410.51 2990.23 1408.43 Q2988.33 1406.34 2985.18 1406.34 Q2981.62 1406.34 2979.47 1408.36 Q2977.34 1410.37 2977.01 1414.03 L2992.2 1414 Z\" fill=\"#000000\" fill-rule=\"evenodd\" fill-opacity=\"1\" /><path clip-path=\"url(#clip160)\" d=\"M3015.58 1391.2 L3020.18 1391.2 L3012.64 1399.91 L3009.1 1399.91 L3015.58 1391.2 M3025 1413.63 L3025 1429.28 L3020.74 1429.28 L3020.74 1413.77 Q3020.74 1410.09 3019.3 1408.26 Q3017.87 1406.43 3015 1406.43 Q3011.55 1406.43 3009.56 1408.63 Q3007.57 1410.83 3007.57 1414.63 L3007.57 1429.28 L3003.29 1429.28 L3003.29 1403.36 L3007.57 1403.36 L3007.57 1407.38 Q3009.1 1405.05 3011.16 1403.89 Q3013.24 1402.73 3015.95 1402.73 Q3020.42 1402.73 3022.71 1405.51 Q3025 1408.26 3025 1413.63 Z\" fill=\"#000000\" fill-rule=\"evenodd\" fill-opacity=\"1\" /></svg>\n"
      ]
     },
     "execution_count": 48,
     "metadata": {},
     "output_type": "execute_result"
    }
   ],
   "source": [
    "using Plots\n",
    "Plots.gr(size=(800, 600))\n",
    "Random.seed!(10)\n",
    "# Parametry symulacji\n",
    "m = 30\n",
    "s = 20\n",
    "S = 180\n",
    "h = 0.1\n",
    "c = 4.0\n",
    "p = 0.75\n",
    "K = 100\n",
    "k = 1.0\n",
    "init_S = 100\n",
    "average_demand = 20\n",
    "\n",
    "# Inicjalizacja wyników symulacji\n",
    "profit_mean = zeros(Float64, 6)\n",
    "lost_mean = zeros(Float64, 6)\n",
    "\n",
    "\n",
    "# Symulacja i obliczenie wyników\n",
    "for (i, wage) in enumerate([1, 1.05, 1.1, 1.25, 1.5, 1.75])\n",
    "    results = DataFrame(simulateOneRun(m, s, S, h=h, c=c*wage, p=p, K=K, k=k, init_S=init_S, average_demand=average_demand) for n in 1:1000)\n",
    "    profit_mean[i] = mean(results.profit)\n",
    "    lost_mean[i] = mean(results.lost_orders)\n",
    "end\n",
    "pr = plot(layout = (2, 1))\n",
    "plot!(pr[1],[1, 1.05, 1.1, 1.25, 1.5, 1.75], profit_mean, label=\"Profit\")\n",
    "xlabel!(\"Zmiana zysku ze sprzedaży w [%]\")\n",
    "ylabel!(\"Wyniki / Rezultaty\")\n",
    "title!(\"Wykres zmiany profitu w zależności od zmiany zysku ze sprzedaży\")\n",
    "plot!(pr[2],[1, 1.05, 1.1, 1.25, 1.5, 1.75], lost_mean, label=\"Ilość utraconych zamówień\",linecolor = :red)\n",
    "xlabel!(\"Zmiana zysku ze sprzedaży w [%]\")\n",
    "ylabel!(\"Wyniki / Rezultaty\")\n",
    "title!(\"Wykres zmiany ilości utraconych zamówień\")"
   ]
  },
  {
   "cell_type": "code",
   "execution_count": 55,
   "metadata": {},
   "outputs": [
    {
     "data": {
      "image/svg+xml": [
       "<?xml version=\"1.0\" encoding=\"utf-8\"?>\n",
       "<svg xmlns=\"http://www.w3.org/2000/svg\" xmlns:xlink=\"http://www.w3.org/1999/xlink\" width=\"800\" height=\"600\" viewBox=\"0 0 3200 2400\">\n",
       "<defs>\n",
       "  <clipPath id=\"clip360\">\n",
       "    <rect x=\"0\" y=\"0\" width=\"3200\" height=\"2400\"/>\n",
       "  </clipPath>\n",
       "</defs>\n",
       "<path clip-path=\"url(#clip360)\" d=\"M0 2400 L3200 2400 L3200 0 L0 0  Z\" fill=\"#ffffff\" fill-rule=\"evenodd\" fill-opacity=\"1\"/>\n",
       "<defs>\n",
       "  <clipPath id=\"clip361\">\n",
       "    <rect x=\"640\" y=\"0\" width=\"2241\" height=\"2241\"/>\n",
       "  </clipPath>\n",
       "</defs>\n",
       "<path clip-path=\"url(#clip360)\" d=\"M276.491 2204.92 L3152.76 2204.92 L3152.76 131.032 L276.491 131.032  Z\" fill=\"#ffffff\" fill-rule=\"evenodd\" fill-opacity=\"1\"/>\n",
       "<defs>\n",
       "  <clipPath id=\"clip362\">\n",
       "    <rect x=\"276\" y=\"131\" width=\"2877\" height=\"2075\"/>\n",
       "  </clipPath>\n",
       "</defs>\n",
       "<polyline clip-path=\"url(#clip362)\" style=\"stroke:#000000; stroke-linecap:round; stroke-linejoin:round; stroke-width:2; stroke-opacity:0.1; fill:none\" points=\"357.895,2204.92 357.895,131.032 \"/>\n",
       "<polyline clip-path=\"url(#clip362)\" style=\"stroke:#000000; stroke-linecap:round; stroke-linejoin:round; stroke-width:2; stroke-opacity:0.1; fill:none\" points=\"1081.48,2204.92 1081.48,131.032 \"/>\n",
       "<polyline clip-path=\"url(#clip362)\" style=\"stroke:#000000; stroke-linecap:round; stroke-linejoin:round; stroke-width:2; stroke-opacity:0.1; fill:none\" points=\"1805.07,2204.92 1805.07,131.032 \"/>\n",
       "<polyline clip-path=\"url(#clip362)\" style=\"stroke:#000000; stroke-linecap:round; stroke-linejoin:round; stroke-width:2; stroke-opacity:0.1; fill:none\" points=\"2528.66,2204.92 2528.66,131.032 \"/>\n",
       "<polyline clip-path=\"url(#clip360)\" style=\"stroke:#000000; stroke-linecap:round; stroke-linejoin:round; stroke-width:4; stroke-opacity:1; fill:none\" points=\"276.491,2204.92 3152.76,2204.92 \"/>\n",
       "<polyline clip-path=\"url(#clip360)\" style=\"stroke:#000000; stroke-linecap:round; stroke-linejoin:round; stroke-width:4; stroke-opacity:1; fill:none\" points=\"357.895,2204.92 357.895,2186.02 \"/>\n",
       "<polyline clip-path=\"url(#clip360)\" style=\"stroke:#000000; stroke-linecap:round; stroke-linejoin:round; stroke-width:4; stroke-opacity:1; fill:none\" points=\"1081.48,2204.92 1081.48,2186.02 \"/>\n",
       "<polyline clip-path=\"url(#clip360)\" style=\"stroke:#000000; stroke-linecap:round; stroke-linejoin:round; stroke-width:4; stroke-opacity:1; fill:none\" points=\"1805.07,2204.92 1805.07,2186.02 \"/>\n",
       "<polyline clip-path=\"url(#clip360)\" style=\"stroke:#000000; stroke-linecap:round; stroke-linejoin:round; stroke-width:4; stroke-opacity:1; fill:none\" points=\"2528.66,2204.92 2528.66,2186.02 \"/>\n",
       "<path clip-path=\"url(#clip360)\" d=\"M325.048 2269.78 L332.687 2269.78 L332.687 2243.42 L324.377 2245.09 L324.377 2240.83 L332.64 2239.16 L337.316 2239.16 L337.316 2269.78 L344.955 2269.78 L344.955 2273.72 L325.048 2273.72 L325.048 2269.78 Z\" fill=\"#000000\" fill-rule=\"evenodd\" fill-opacity=\"1\" /><path clip-path=\"url(#clip360)\" d=\"M354.4 2267.84 L359.284 2267.84 L359.284 2273.72 L354.4 2273.72 L354.4 2267.84 Z\" fill=\"#000000\" fill-rule=\"evenodd\" fill-opacity=\"1\" /><path clip-path=\"url(#clip360)\" d=\"M379.469 2242.24 Q375.858 2242.24 374.029 2245.8 Q372.224 2249.34 372.224 2256.47 Q372.224 2263.58 374.029 2267.15 Q375.858 2270.69 379.469 2270.69 Q383.103 2270.69 384.909 2267.15 Q386.737 2263.58 386.737 2256.47 Q386.737 2249.34 384.909 2245.8 Q383.103 2242.24 379.469 2242.24 M379.469 2238.53 Q385.279 2238.53 388.335 2243.14 Q391.413 2247.72 391.413 2256.47 Q391.413 2265.2 388.335 2269.81 Q385.279 2274.39 379.469 2274.39 Q373.659 2274.39 370.58 2269.81 Q367.525 2265.2 367.525 2256.47 Q367.525 2247.72 370.58 2243.14 Q373.659 2238.53 379.469 2238.53 Z\" fill=\"#000000\" fill-rule=\"evenodd\" fill-opacity=\"1\" /><path clip-path=\"url(#clip360)\" d=\"M1049.44 2269.78 L1057.07 2269.78 L1057.07 2243.42 L1048.76 2245.09 L1048.76 2240.83 L1057.03 2239.16 L1061.7 2239.16 L1061.7 2269.78 L1069.34 2269.78 L1069.34 2273.72 L1049.44 2273.72 L1049.44 2269.78 Z\" fill=\"#000000\" fill-rule=\"evenodd\" fill-opacity=\"1\" /><path clip-path=\"url(#clip360)\" d=\"M1078.79 2267.84 L1083.67 2267.84 L1083.67 2273.72 L1078.79 2273.72 L1078.79 2267.84 Z\" fill=\"#000000\" fill-rule=\"evenodd\" fill-opacity=\"1\" /><path clip-path=\"url(#clip360)\" d=\"M1097.88 2269.78 L1114.2 2269.78 L1114.2 2273.72 L1092.26 2273.72 L1092.26 2269.78 Q1094.92 2267.03 1099.5 2262.4 Q1104.11 2257.75 1105.29 2256.41 Q1107.54 2253.88 1108.42 2252.15 Q1109.32 2250.39 1109.32 2248.7 Q1109.32 2245.94 1107.37 2244.21 Q1105.45 2242.47 1102.35 2242.47 Q1100.15 2242.47 1097.7 2243.23 Q1095.27 2244 1092.49 2245.55 L1092.49 2240.83 Q1095.31 2239.69 1097.77 2239.11 Q1100.22 2238.53 1102.26 2238.53 Q1107.63 2238.53 1110.82 2241.22 Q1114.02 2243.91 1114.02 2248.4 Q1114.02 2250.53 1113.21 2252.45 Q1112.42 2254.34 1110.31 2256.94 Q1109.74 2257.61 1106.63 2260.83 Q1103.53 2264.02 1097.88 2269.78 Z\" fill=\"#000000\" fill-rule=\"evenodd\" fill-opacity=\"1\" /><path clip-path=\"url(#clip360)\" d=\"M1771.98 2269.78 L1779.62 2269.78 L1779.62 2243.42 L1771.31 2245.09 L1771.31 2240.83 L1779.57 2239.16 L1784.25 2239.16 L1784.25 2269.78 L1791.89 2269.78 L1791.89 2273.72 L1771.98 2273.72 L1771.98 2269.78 Z\" fill=\"#000000\" fill-rule=\"evenodd\" fill-opacity=\"1\" /><path clip-path=\"url(#clip360)\" d=\"M1801.33 2267.84 L1806.22 2267.84 L1806.22 2273.72 L1801.33 2273.72 L1801.33 2267.84 Z\" fill=\"#000000\" fill-rule=\"evenodd\" fill-opacity=\"1\" /><path clip-path=\"url(#clip360)\" d=\"M1829.25 2243.23 L1817.44 2261.68 L1829.25 2261.68 L1829.25 2243.23 M1828.02 2239.16 L1833.9 2239.16 L1833.9 2261.68 L1838.83 2261.68 L1838.83 2265.57 L1833.9 2265.57 L1833.9 2273.72 L1829.25 2273.72 L1829.25 2265.57 L1813.65 2265.57 L1813.65 2261.06 L1828.02 2239.16 Z\" fill=\"#000000\" fill-rule=\"evenodd\" fill-opacity=\"1\" /><path clip-path=\"url(#clip360)\" d=\"M2495.73 2269.78 L2503.37 2269.78 L2503.37 2243.42 L2495.06 2245.09 L2495.06 2240.83 L2503.33 2239.16 L2508 2239.16 L2508 2269.78 L2515.64 2269.78 L2515.64 2273.72 L2495.73 2273.72 L2495.73 2269.78 Z\" fill=\"#000000\" fill-rule=\"evenodd\" fill-opacity=\"1\" /><path clip-path=\"url(#clip360)\" d=\"M2525.08 2267.84 L2529.97 2267.84 L2529.97 2273.72 L2525.08 2273.72 L2525.08 2267.84 Z\" fill=\"#000000\" fill-rule=\"evenodd\" fill-opacity=\"1\" /><path clip-path=\"url(#clip360)\" d=\"M2550.73 2254.58 Q2547.58 2254.58 2545.73 2256.73 Q2543.9 2258.88 2543.9 2262.63 Q2543.9 2266.36 2545.73 2268.53 Q2547.58 2270.69 2550.73 2270.69 Q2553.88 2270.69 2555.71 2268.53 Q2557.56 2266.36 2557.56 2262.63 Q2557.56 2258.88 2555.71 2256.73 Q2553.88 2254.58 2550.73 2254.58 M2560.01 2239.92 L2560.01 2244.18 Q2558.26 2243.35 2556.45 2242.91 Q2554.67 2242.47 2552.91 2242.47 Q2548.28 2242.47 2545.82 2245.59 Q2543.39 2248.72 2543.05 2255.04 Q2544.41 2253.03 2546.47 2251.96 Q2548.53 2250.87 2551.01 2250.87 Q2556.22 2250.87 2559.23 2254.04 Q2562.26 2257.19 2562.26 2262.63 Q2562.26 2267.96 2559.11 2271.17 Q2555.96 2274.39 2550.73 2274.39 Q2544.74 2274.39 2541.57 2269.81 Q2538.39 2265.2 2538.39 2256.47 Q2538.39 2248.28 2542.28 2243.42 Q2546.17 2238.53 2552.72 2238.53 Q2554.48 2238.53 2556.26 2238.88 Q2558.07 2239.23 2560.01 2239.92 Z\" fill=\"#000000\" fill-rule=\"evenodd\" fill-opacity=\"1\" /><path clip-path=\"url(#clip360)\" d=\"M1166.68 2314.26 L1204.01 2314.26 L1204.01 2319.17 L1173.97 2356.37 L1204.75 2356.37 L1204.75 2361.78 L1165.95 2361.78 L1165.95 2356.88 L1195.99 2319.67 L1166.68 2319.67 L1166.68 2314.26 Z\" fill=\"#000000\" fill-rule=\"evenodd\" fill-opacity=\"1\" /><path clip-path=\"url(#clip360)\" d=\"M1241.57 2332.98 Q1243.77 2329.03 1246.82 2327.15 Q1249.88 2325.28 1254.02 2325.28 Q1259.59 2325.28 1262.61 2329.19 Q1265.63 2333.07 1265.63 2340.27 L1265.63 2361.78 L1259.75 2361.78 L1259.75 2340.46 Q1259.75 2335.33 1257.93 2332.85 Q1256.12 2330.37 1252.39 2330.37 Q1247.84 2330.37 1245.2 2333.39 Q1242.56 2336.42 1242.56 2341.64 L1242.56 2361.78 L1236.67 2361.78 L1236.67 2340.46 Q1236.67 2335.3 1234.86 2332.85 Q1233.04 2330.37 1229.25 2330.37 Q1224.77 2330.37 1222.12 2333.42 Q1219.48 2336.45 1219.48 2341.64 L1219.48 2361.78 L1213.59 2361.78 L1213.59 2326.14 L1219.48 2326.14 L1219.48 2331.67 Q1221.49 2328.4 1224.29 2326.84 Q1227.09 2325.28 1230.94 2325.28 Q1234.82 2325.28 1237.53 2327.25 Q1240.27 2329.22 1241.57 2332.98 Z\" fill=\"#000000\" fill-rule=\"evenodd\" fill-opacity=\"1\" /><path clip-path=\"url(#clip360)\" d=\"M1277.32 2326.14 L1283.17 2326.14 L1283.17 2361.78 L1277.32 2361.78 L1277.32 2326.14 M1277.32 2312.26 L1283.17 2312.26 L1283.17 2319.67 L1277.32 2319.67 L1277.32 2312.26 Z\" fill=\"#000000\" fill-rule=\"evenodd\" fill-opacity=\"1\" /><path clip-path=\"url(#clip360)\" d=\"M1311.63 2343.86 Q1304.53 2343.86 1301.79 2345.49 Q1299.05 2347.11 1299.05 2351.03 Q1299.05 2354.14 1301.09 2355.99 Q1303.16 2357.81 1306.69 2357.81 Q1311.56 2357.81 1314.49 2354.37 Q1317.45 2350.9 1317.45 2345.17 L1317.45 2343.86 L1311.63 2343.86 M1323.31 2341.45 L1323.31 2361.78 L1317.45 2361.78 L1317.45 2356.37 Q1315.45 2359.62 1312.45 2361.18 Q1309.46 2362.71 1305.13 2362.71 Q1299.66 2362.71 1296.41 2359.65 Q1293.2 2356.56 1293.2 2351.41 Q1293.2 2345.39 1297.21 2342.34 Q1301.25 2339.28 1309.24 2339.28 L1317.45 2339.28 L1317.45 2338.71 Q1317.45 2334.67 1314.78 2332.47 Q1312.14 2330.24 1307.33 2330.24 Q1304.27 2330.24 1301.38 2330.97 Q1298.48 2331.71 1295.81 2333.17 L1295.81 2327.76 Q1299.02 2326.52 1302.05 2325.91 Q1305.07 2325.28 1307.93 2325.28 Q1315.67 2325.28 1319.49 2329.29 Q1323.31 2333.3 1323.31 2341.45 Z\" fill=\"#000000\" fill-rule=\"evenodd\" fill-opacity=\"1\" /><path clip-path=\"url(#clip360)\" d=\"M1365 2340.27 L1365 2361.78 L1359.15 2361.78 L1359.15 2340.46 Q1359.15 2335.4 1357.17 2332.88 Q1355.2 2330.37 1351.25 2330.37 Q1346.51 2330.37 1343.77 2333.39 Q1341.04 2336.42 1341.04 2341.64 L1341.04 2361.78 L1335.15 2361.78 L1335.15 2326.14 L1341.04 2326.14 L1341.04 2331.67 Q1343.14 2328.46 1345.97 2326.87 Q1348.83 2325.28 1352.56 2325.28 Q1358.7 2325.28 1361.85 2329.1 Q1365 2332.88 1365 2340.27 Z\" fill=\"#000000\" fill-rule=\"evenodd\" fill-opacity=\"1\" /><path clip-path=\"url(#clip360)\" d=\"M1392.88 2343.86 Q1385.79 2343.86 1383.05 2345.49 Q1380.31 2347.11 1380.31 2351.03 Q1380.31 2354.14 1382.35 2355.99 Q1384.42 2357.81 1387.95 2357.81 Q1392.82 2357.81 1395.75 2354.37 Q1398.71 2350.9 1398.71 2345.17 L1398.71 2343.86 L1392.88 2343.86 M1404.57 2341.45 L1404.57 2361.78 L1398.71 2361.78 L1398.71 2356.37 Q1396.7 2359.62 1393.71 2361.18 Q1390.72 2362.71 1386.39 2362.71 Q1380.92 2362.71 1377.67 2359.65 Q1374.46 2356.56 1374.46 2351.41 Q1374.46 2345.39 1378.47 2342.34 Q1382.51 2339.28 1390.5 2339.28 L1398.71 2339.28 L1398.71 2338.71 Q1398.71 2334.67 1396.04 2332.47 Q1393.39 2330.24 1388.59 2330.24 Q1385.53 2330.24 1382.64 2330.97 Q1379.74 2331.71 1377.07 2333.17 L1377.07 2327.76 Q1380.28 2326.52 1383.3 2325.91 Q1386.33 2325.28 1389.19 2325.28 Q1396.93 2325.28 1400.75 2329.29 Q1404.57 2333.3 1404.57 2341.45 Z\" fill=\"#000000\" fill-rule=\"evenodd\" fill-opacity=\"1\" /><path clip-path=\"url(#clip360)\" d=\"M1434.8 2326.14 L1462.62 2326.14 L1462.62 2331.48 L1440.6 2357.11 L1462.62 2357.11 L1462.62 2361.78 L1434.01 2361.78 L1434.01 2356.44 L1456.03 2330.81 L1434.8 2330.81 L1434.8 2326.14 Z\" fill=\"#000000\" fill-rule=\"evenodd\" fill-opacity=\"1\" /><path clip-path=\"url(#clip360)\" d=\"M1486.4 2365.09 Q1483.91 2371.46 1481.56 2373.4 Q1479.2 2375.34 1475.26 2375.34 L1470.58 2375.34 L1470.58 2370.44 L1474.02 2370.44 Q1476.43 2370.44 1477.77 2369.3 Q1479.11 2368.15 1480.73 2363.88 L1481.78 2361.21 L1467.36 2326.14 L1473.57 2326.14 L1484.71 2354.02 L1495.85 2326.14 L1502.06 2326.14 L1486.4 2365.09 Z\" fill=\"#000000\" fill-rule=\"evenodd\" fill-opacity=\"1\" /><path clip-path=\"url(#clip360)\" d=\"M1532.87 2327.19 L1532.87 2332.72 Q1530.38 2331.45 1527.71 2330.81 Q1525.04 2330.18 1522.17 2330.18 Q1517.81 2330.18 1515.62 2331.51 Q1513.45 2332.85 1513.45 2335.53 Q1513.45 2337.56 1515.01 2338.74 Q1516.57 2339.89 1521.28 2340.94 L1523.29 2341.38 Q1529.52 2342.72 1532.13 2345.17 Q1534.78 2347.59 1534.78 2351.95 Q1534.78 2356.91 1530.83 2359.81 Q1526.91 2362.71 1520.04 2362.71 Q1517.18 2362.71 1514.06 2362.13 Q1510.97 2361.59 1507.53 2360.48 L1507.53 2354.43 Q1510.78 2356.12 1513.93 2356.98 Q1517.08 2357.81 1520.17 2357.81 Q1524.3 2357.81 1526.53 2356.4 Q1528.76 2354.97 1528.76 2352.39 Q1528.76 2350.01 1527.14 2348.73 Q1525.55 2347.46 1520.1 2346.28 L1518.07 2345.81 Q1512.62 2344.66 1510.2 2342.3 Q1507.79 2339.92 1507.79 2335.78 Q1507.79 2330.75 1511.35 2328.01 Q1514.92 2325.28 1521.47 2325.28 Q1524.72 2325.28 1527.58 2325.75 Q1530.45 2326.23 1532.87 2327.19 Z\" fill=\"#000000\" fill-rule=\"evenodd\" fill-opacity=\"1\" /><path clip-path=\"url(#clip360)\" d=\"M1543.88 2312.26 L1549.77 2312.26 L1549.77 2341.51 L1567.24 2326.14 L1574.72 2326.14 L1555.82 2342.81 L1575.52 2361.78 L1567.88 2361.78 L1549.77 2344.37 L1549.77 2361.78 L1543.88 2361.78 L1543.88 2312.26 Z\" fill=\"#000000\" fill-rule=\"evenodd\" fill-opacity=\"1\" /><path clip-path=\"url(#clip360)\" d=\"M1579.24 2347.72 L1579.24 2326.14 L1585.1 2326.14 L1585.1 2347.49 Q1585.1 2352.55 1587.07 2355.1 Q1589.04 2357.61 1592.99 2357.61 Q1597.73 2357.61 1600.47 2354.59 Q1603.24 2351.57 1603.24 2346.35 L1603.24 2326.14 L1609.1 2326.14 L1609.1 2361.78 L1603.24 2361.78 L1603.24 2356.31 Q1601.11 2359.56 1598.27 2361.15 Q1595.47 2362.71 1591.75 2362.71 Q1585.61 2362.71 1582.42 2358.89 Q1579.24 2355.07 1579.24 2347.72 M1593.98 2325.28 L1593.98 2325.28 Z\" fill=\"#000000\" fill-rule=\"evenodd\" fill-opacity=\"1\" /><path clip-path=\"url(#clip360)\" d=\"M1639.33 2326.14 L1667.15 2326.14 L1667.15 2331.48 L1645.13 2357.11 L1667.15 2357.11 L1667.15 2361.78 L1638.54 2361.78 L1638.54 2356.44 L1660.56 2330.81 L1639.33 2330.81 L1639.33 2326.14 Z\" fill=\"#000000\" fill-rule=\"evenodd\" fill-opacity=\"1\" /><path clip-path=\"url(#clip360)\" d=\"M1706.59 2342.5 L1706.59 2345.36 L1679.66 2345.36 Q1680.04 2351.41 1683.29 2354.59 Q1686.57 2357.74 1692.39 2357.74 Q1695.77 2357.74 1698.92 2356.91 Q1702.1 2356.09 1705.22 2354.43 L1705.22 2359.97 Q1702.07 2361.31 1698.76 2362.01 Q1695.45 2362.71 1692.04 2362.71 Q1683.51 2362.71 1678.51 2357.74 Q1673.55 2352.78 1673.55 2344.31 Q1673.55 2335.56 1678.26 2330.43 Q1683 2325.28 1691.02 2325.28 Q1698.22 2325.28 1702.39 2329.92 Q1706.59 2334.54 1706.59 2342.5 M1700.73 2340.78 Q1700.67 2335.97 1698.02 2333.11 Q1695.42 2330.24 1691.09 2330.24 Q1686.18 2330.24 1683.22 2333.01 Q1680.3 2335.78 1679.85 2340.81 L1700.73 2340.78 Z\" fill=\"#000000\" fill-rule=\"evenodd\" fill-opacity=\"1\" /><path clip-path=\"url(#clip360)\" d=\"M1759.65 2327.19 L1759.65 2332.72 Q1757.16 2331.45 1754.49 2330.81 Q1751.82 2330.18 1748.95 2330.18 Q1744.59 2330.18 1742.39 2331.51 Q1740.23 2332.85 1740.23 2335.53 Q1740.23 2337.56 1741.79 2338.74 Q1743.35 2339.89 1748.06 2340.94 L1750.06 2341.38 Q1756.3 2342.72 1758.91 2345.17 Q1761.55 2347.59 1761.55 2351.95 Q1761.55 2356.91 1757.61 2359.81 Q1753.69 2362.71 1746.82 2362.71 Q1743.95 2362.71 1740.83 2362.13 Q1737.75 2361.59 1734.31 2360.48 L1734.31 2354.43 Q1737.56 2356.12 1740.71 2356.98 Q1743.86 2357.81 1746.95 2357.81 Q1751.08 2357.81 1753.31 2356.4 Q1755.54 2354.97 1755.54 2352.39 Q1755.54 2350.01 1753.92 2348.73 Q1752.32 2347.46 1746.88 2346.28 L1744.84 2345.81 Q1739.4 2344.66 1736.98 2342.3 Q1734.56 2339.92 1734.56 2335.78 Q1734.56 2330.75 1738.13 2328.01 Q1741.69 2325.28 1748.25 2325.28 Q1751.5 2325.28 1754.36 2325.75 Q1757.23 2326.23 1759.65 2327.19 Z\" fill=\"#000000\" fill-rule=\"evenodd\" fill-opacity=\"1\" /><path clip-path=\"url(#clip360)\" d=\"M1776.55 2356.44 L1776.55 2375.34 L1770.66 2375.34 L1770.66 2326.14 L1776.55 2326.14 L1776.55 2331.55 Q1778.39 2328.36 1781.19 2326.84 Q1784.03 2325.28 1787.94 2325.28 Q1794.43 2325.28 1798.48 2330.43 Q1802.55 2335.59 1802.55 2343.99 Q1802.55 2352.39 1798.48 2357.55 Q1794.43 2362.71 1787.94 2362.71 Q1784.03 2362.71 1781.19 2361.18 Q1778.39 2359.62 1776.55 2356.44 M1796.47 2343.99 Q1796.47 2337.53 1793.8 2333.87 Q1791.16 2330.18 1786.51 2330.18 Q1781.86 2330.18 1779.19 2333.87 Q1776.55 2337.53 1776.55 2343.99 Q1776.55 2350.45 1779.19 2354.14 Q1781.86 2357.81 1786.51 2357.81 Q1791.16 2357.81 1793.8 2354.14 Q1796.47 2350.45 1796.47 2343.99 Z\" fill=\"#000000\" fill-rule=\"evenodd\" fill-opacity=\"1\" /><path clip-path=\"url(#clip360)\" d=\"M1832.91 2331.61 Q1831.93 2331.04 1830.75 2330.78 Q1829.6 2330.5 1828.2 2330.5 Q1823.24 2330.5 1820.56 2333.74 Q1817.92 2336.96 1817.92 2343.01 L1817.92 2361.78 L1812.03 2361.78 L1812.03 2326.14 L1817.92 2326.14 L1817.92 2331.67 Q1819.77 2328.43 1822.73 2326.87 Q1825.69 2325.28 1829.92 2325.28 Q1830.53 2325.28 1831.26 2325.37 Q1831.99 2325.44 1832.88 2325.59 L1832.91 2331.61 Z\" fill=\"#000000\" fill-rule=\"evenodd\" fill-opacity=\"1\" /><path clip-path=\"url(#clip360)\" d=\"M1836.51 2326.14 L1864.33 2326.14 L1864.33 2331.48 L1842.3 2357.11 L1864.33 2357.11 L1864.33 2361.78 L1835.72 2361.78 L1835.72 2356.44 L1857.74 2330.81 L1836.51 2330.81 L1836.51 2326.14 Z\" fill=\"#000000\" fill-rule=\"evenodd\" fill-opacity=\"1\" /><path clip-path=\"url(#clip360)\" d=\"M1903.76 2342.5 L1903.76 2345.36 L1876.84 2345.36 Q1877.22 2351.41 1880.47 2354.59 Q1883.74 2357.74 1889.57 2357.74 Q1892.94 2357.74 1896.09 2356.91 Q1899.28 2356.09 1902.4 2354.43 L1902.4 2359.97 Q1899.24 2361.31 1895.93 2362.01 Q1892.62 2362.71 1889.22 2362.71 Q1880.69 2362.71 1875.69 2357.74 Q1870.73 2352.78 1870.73 2344.31 Q1870.73 2335.56 1875.44 2330.43 Q1880.18 2325.28 1888.2 2325.28 Q1895.39 2325.28 1899.56 2329.92 Q1903.76 2334.54 1903.76 2342.5 M1897.91 2340.78 Q1897.84 2335.97 1895.2 2333.11 Q1892.59 2330.24 1888.26 2330.24 Q1883.36 2330.24 1880.4 2333.01 Q1877.47 2335.78 1877.03 2340.81 L1897.91 2340.78 Z\" fill=\"#000000\" fill-rule=\"evenodd\" fill-opacity=\"1\" /><path clip-path=\"url(#clip360)\" d=\"M1936.83 2331.55 L1936.83 2312.26 L1942.69 2312.26 L1942.69 2361.78 L1936.83 2361.78 L1936.83 2356.44 Q1934.99 2359.62 1932.16 2361.18 Q1929.35 2362.71 1925.41 2362.71 Q1918.95 2362.71 1914.87 2357.55 Q1910.83 2352.39 1910.83 2343.99 Q1910.83 2335.59 1914.87 2330.43 Q1918.95 2325.28 1925.41 2325.28 Q1929.35 2325.28 1932.16 2326.84 Q1934.99 2328.36 1936.83 2331.55 M1916.88 2343.99 Q1916.88 2350.45 1919.52 2354.14 Q1922.19 2357.81 1926.84 2357.81 Q1931.49 2357.81 1934.16 2354.14 Q1936.83 2350.45 1936.83 2343.99 Q1936.83 2337.53 1934.16 2333.87 Q1931.49 2330.18 1926.84 2330.18 Q1922.19 2330.18 1919.52 2333.87 Q1916.88 2337.53 1916.88 2343.99 Z\" fill=\"#000000\" fill-rule=\"evenodd\" fill-opacity=\"1\" /><path clip-path=\"url(#clip360)\" d=\"M1970.95 2343.86 Q1963.86 2343.86 1961.12 2345.49 Q1958.38 2347.11 1958.38 2351.03 Q1958.38 2354.14 1960.42 2355.99 Q1962.49 2357.81 1966.02 2357.81 Q1970.89 2357.81 1973.82 2354.37 Q1976.78 2350.9 1976.78 2345.17 L1976.78 2343.86 L1970.95 2343.86 M1982.64 2341.45 L1982.64 2361.78 L1976.78 2361.78 L1976.78 2356.37 Q1974.77 2359.62 1971.78 2361.18 Q1968.79 2362.71 1964.46 2362.71 Q1958.99 2362.71 1955.74 2359.65 Q1952.53 2356.56 1952.53 2351.41 Q1952.53 2345.39 1956.54 2342.34 Q1960.58 2339.28 1968.57 2339.28 L1976.78 2339.28 L1976.78 2338.71 Q1976.78 2334.67 1974.11 2332.47 Q1971.46 2330.24 1966.66 2330.24 Q1963.6 2330.24 1960.71 2330.97 Q1957.81 2331.71 1955.14 2333.17 L1955.14 2327.76 Q1958.35 2326.52 1961.37 2325.91 Q1964.4 2325.28 1967.26 2325.28 Q1975 2325.28 1978.82 2329.29 Q1982.64 2333.3 1982.64 2341.45 Z\" fill=\"#000000\" fill-rule=\"evenodd\" fill-opacity=\"1\" /><path clip-path=\"url(#clip360)\" d=\"M2002.59 2312.26 L2008.45 2312.26 L2008.45 2319.67 L2002.59 2319.67 L2002.59 2312.26 M2005.58 2325.28 L2005.58 2325.28 M1992.15 2326.14 L2019.97 2326.14 L2019.97 2331.48 L1997.95 2357.11 L2019.97 2357.11 L2019.97 2361.78 L1991.36 2361.78 L1991.36 2356.44 L2013.38 2330.81 L1992.15 2330.81 L1992.15 2326.14 Z\" fill=\"#000000\" fill-rule=\"evenodd\" fill-opacity=\"1\" /><path clip-path=\"url(#clip360)\" d=\"M2043.75 2365.09 Q2041.26 2371.46 2038.91 2373.4 Q2036.55 2375.34 2032.61 2375.34 L2027.93 2375.34 L2027.93 2370.44 L2031.37 2370.44 Q2033.78 2370.44 2035.12 2369.3 Q2036.46 2368.15 2038.08 2363.88 L2039.13 2361.21 L2024.71 2326.14 L2030.92 2326.14 L2042.06 2354.02 L2053.2 2326.14 L2059.41 2326.14 L2043.75 2365.09 Z\" fill=\"#000000\" fill-rule=\"evenodd\" fill-opacity=\"1\" /><path clip-path=\"url(#clip360)\" d=\"M2084.81 2326.14 L2090.66 2326.14 L2097.98 2353.95 L2105.27 2326.14 L2112.18 2326.14 L2119.5 2353.95 L2126.79 2326.14 L2132.64 2326.14 L2123.32 2361.78 L2116.41 2361.78 L2108.74 2332.57 L2101.04 2361.78 L2094.13 2361.78 L2084.81 2326.14 Z\" fill=\"#000000\" fill-rule=\"evenodd\" fill-opacity=\"1\" /><path clip-path=\"url(#clip360)\" d=\"M2161.7 2312.26 L2175.2 2312.26 L2175.2 2316.81 L2167.56 2316.81 L2167.56 2365.83 L2175.2 2365.83 L2175.2 2370.38 L2161.7 2370.38 L2161.7 2312.26 Z\" fill=\"#000000\" fill-rule=\"evenodd\" fill-opacity=\"1\" /><path clip-path=\"url(#clip360)\" d=\"M2228.92 2340.87 Q2226.16 2340.87 2224.56 2343.23 Q2223 2345.58 2223 2349.78 Q2223 2353.92 2224.56 2356.31 Q2226.16 2358.66 2228.92 2358.66 Q2231.63 2358.66 2233.19 2356.31 Q2234.78 2353.92 2234.78 2349.78 Q2234.78 2345.61 2233.19 2343.26 Q2231.63 2340.87 2228.92 2340.87 M2228.92 2336.83 Q2233.95 2336.83 2236.91 2340.33 Q2239.87 2343.83 2239.87 2349.78 Q2239.87 2355.74 2236.88 2359.24 Q2233.92 2362.71 2228.92 2362.71 Q2223.83 2362.71 2220.87 2359.24 Q2217.91 2355.74 2217.91 2349.78 Q2217.91 2343.8 2220.87 2340.33 Q2223.86 2336.83 2228.92 2336.83 M2196.08 2317.45 Q2193.34 2317.45 2191.75 2319.83 Q2190.19 2322.19 2190.19 2326.33 Q2190.19 2330.53 2191.75 2332.88 Q2193.31 2335.24 2196.08 2335.24 Q2198.85 2335.24 2200.41 2332.88 Q2202 2330.53 2202 2326.33 Q2202 2322.22 2200.41 2319.83 Q2198.82 2317.45 2196.08 2317.45 M2224.82 2313.4 L2229.91 2313.4 L2200.18 2362.71 L2195.09 2362.71 L2224.82 2313.4 M2196.08 2313.4 Q2201.11 2313.4 2204.1 2316.91 Q2207.09 2320.37 2207.09 2326.33 Q2207.09 2332.34 2204.1 2335.81 Q2201.14 2339.28 2196.08 2339.28 Q2191.02 2339.28 2188.06 2335.81 Q2185.13 2332.31 2185.13 2326.33 Q2185.13 2320.41 2188.09 2316.91 Q2191.05 2313.4 2196.08 2313.4 Z\" fill=\"#000000\" fill-rule=\"evenodd\" fill-opacity=\"1\" /><path clip-path=\"url(#clip360)\" d=\"M2263.3 2312.26 L2263.3 2370.38 L2249.8 2370.38 L2249.8 2365.83 L2257.41 2365.83 L2257.41 2316.81 L2249.8 2316.81 L2249.8 2312.26 L2263.3 2312.26 Z\" fill=\"#000000\" fill-rule=\"evenodd\" fill-opacity=\"1\" /><polyline clip-path=\"url(#clip362)\" style=\"stroke:#000000; stroke-linecap:round; stroke-linejoin:round; stroke-width:2; stroke-opacity:0.1; fill:none\" points=\"276.491,2159.5 3152.76,2159.5 \"/>\n",
       "<polyline clip-path=\"url(#clip362)\" style=\"stroke:#000000; stroke-linecap:round; stroke-linejoin:round; stroke-width:2; stroke-opacity:0.1; fill:none\" points=\"276.491,1779.81 3152.76,1779.81 \"/>\n",
       "<polyline clip-path=\"url(#clip362)\" style=\"stroke:#000000; stroke-linecap:round; stroke-linejoin:round; stroke-width:2; stroke-opacity:0.1; fill:none\" points=\"276.491,1400.13 3152.76,1400.13 \"/>\n",
       "<polyline clip-path=\"url(#clip362)\" style=\"stroke:#000000; stroke-linecap:round; stroke-linejoin:round; stroke-width:2; stroke-opacity:0.1; fill:none\" points=\"276.491,1020.45 3152.76,1020.45 \"/>\n",
       "<polyline clip-path=\"url(#clip362)\" style=\"stroke:#000000; stroke-linecap:round; stroke-linejoin:round; stroke-width:2; stroke-opacity:0.1; fill:none\" points=\"276.491,640.765 3152.76,640.765 \"/>\n",
       "<polyline clip-path=\"url(#clip362)\" style=\"stroke:#000000; stroke-linecap:round; stroke-linejoin:round; stroke-width:2; stroke-opacity:0.1; fill:none\" points=\"276.491,261.082 3152.76,261.082 \"/>\n",
       "<polyline clip-path=\"url(#clip360)\" style=\"stroke:#000000; stroke-linecap:round; stroke-linejoin:round; stroke-width:4; stroke-opacity:1; fill:none\" points=\"276.491,2204.92 276.491,131.032 \"/>\n",
       "<polyline clip-path=\"url(#clip360)\" style=\"stroke:#000000; stroke-linecap:round; stroke-linejoin:round; stroke-width:4; stroke-opacity:1; fill:none\" points=\"276.491,2159.5 295.389,2159.5 \"/>\n",
       "<polyline clip-path=\"url(#clip360)\" style=\"stroke:#000000; stroke-linecap:round; stroke-linejoin:round; stroke-width:4; stroke-opacity:1; fill:none\" points=\"276.491,1779.81 295.389,1779.81 \"/>\n",
       "<polyline clip-path=\"url(#clip360)\" style=\"stroke:#000000; stroke-linecap:round; stroke-linejoin:round; stroke-width:4; stroke-opacity:1; fill:none\" points=\"276.491,1400.13 295.389,1400.13 \"/>\n",
       "<polyline clip-path=\"url(#clip360)\" style=\"stroke:#000000; stroke-linecap:round; stroke-linejoin:round; stroke-width:4; stroke-opacity:1; fill:none\" points=\"276.491,1020.45 295.389,1020.45 \"/>\n",
       "<polyline clip-path=\"url(#clip360)\" style=\"stroke:#000000; stroke-linecap:round; stroke-linejoin:round; stroke-width:4; stroke-opacity:1; fill:none\" points=\"276.491,640.765 295.389,640.765 \"/>\n",
       "<polyline clip-path=\"url(#clip360)\" style=\"stroke:#000000; stroke-linecap:round; stroke-linejoin:round; stroke-width:4; stroke-opacity:1; fill:none\" points=\"276.491,261.082 295.389,261.082 \"/>\n",
       "<path clip-path=\"url(#clip360)\" d=\"M146.362 2176.06 L146.362 2171.8 Q148.121 2172.63 149.927 2173.07 Q151.732 2173.51 153.468 2173.51 Q158.098 2173.51 160.529 2170.41 Q162.982 2167.29 163.33 2160.94 Q161.987 2162.94 159.927 2164 Q157.867 2165.06 155.367 2165.06 Q150.181 2165.06 147.149 2161.94 Q144.14 2158.79 144.14 2153.35 Q144.14 2148.03 147.288 2144.81 Q150.436 2141.59 155.668 2141.59 Q161.663 2141.59 164.811 2146.2 Q167.982 2150.78 167.982 2159.53 Q167.982 2167.7 164.093 2172.59 Q160.228 2177.45 153.677 2177.45 Q151.918 2177.45 150.112 2177.1 Q148.306 2176.75 146.362 2176.06 M155.668 2161.41 Q158.816 2161.41 160.644 2159.25 Q162.496 2157.1 162.496 2153.35 Q162.496 2149.63 160.644 2147.47 Q158.816 2145.3 155.668 2145.3 Q152.519 2145.3 150.668 2147.47 Q148.839 2149.63 148.839 2153.35 Q148.839 2157.1 150.668 2159.25 Q152.519 2161.41 155.668 2161.41 Z\" fill=\"#000000\" fill-rule=\"evenodd\" fill-opacity=\"1\" /><path clip-path=\"url(#clip360)\" d=\"M186.385 2145.3 Q182.774 2145.3 180.945 2148.86 Q179.14 2152.4 179.14 2159.53 Q179.14 2166.64 180.945 2170.2 Q182.774 2173.75 186.385 2173.75 Q190.019 2173.75 191.825 2170.2 Q193.653 2166.64 193.653 2159.53 Q193.653 2152.4 191.825 2148.86 Q190.019 2145.3 186.385 2145.3 M186.385 2141.59 Q192.195 2141.59 195.251 2146.2 Q198.329 2150.78 198.329 2159.53 Q198.329 2168.26 195.251 2172.87 Q192.195 2177.45 186.385 2177.45 Q180.575 2177.45 177.496 2172.87 Q174.441 2168.26 174.441 2159.53 Q174.441 2150.78 177.496 2146.2 Q180.575 2141.59 186.385 2141.59 Z\" fill=\"#000000\" fill-rule=\"evenodd\" fill-opacity=\"1\" /><path clip-path=\"url(#clip360)\" d=\"M216.547 2145.3 Q212.936 2145.3 211.107 2148.86 Q209.302 2152.4 209.302 2159.53 Q209.302 2166.64 211.107 2170.2 Q212.936 2173.75 216.547 2173.75 Q220.181 2173.75 221.987 2170.2 Q223.815 2166.64 223.815 2159.53 Q223.815 2152.4 221.987 2148.86 Q220.181 2145.3 216.547 2145.3 M216.547 2141.59 Q222.357 2141.59 225.413 2146.2 Q228.491 2150.78 228.491 2159.53 Q228.491 2168.26 225.413 2172.87 Q222.357 2177.45 216.547 2177.45 Q210.737 2177.45 207.658 2172.87 Q204.602 2168.26 204.602 2159.53 Q204.602 2150.78 207.658 2146.2 Q210.737 2141.59 216.547 2141.59 Z\" fill=\"#000000\" fill-rule=\"evenodd\" fill-opacity=\"1\" /><path clip-path=\"url(#clip360)\" d=\"M116.871 1793.16 L124.51 1793.16 L124.51 1766.79 L116.2 1768.46 L116.2 1764.2 L124.464 1762.53 L129.14 1762.53 L129.14 1793.16 L136.779 1793.16 L136.779 1797.09 L116.871 1797.09 L116.871 1793.16 Z\" fill=\"#000000\" fill-rule=\"evenodd\" fill-opacity=\"1\" /><path clip-path=\"url(#clip360)\" d=\"M156.223 1765.61 Q152.612 1765.61 150.783 1769.18 Q148.978 1772.72 148.978 1779.85 Q148.978 1786.96 150.783 1790.52 Q152.612 1794.06 156.223 1794.06 Q159.857 1794.06 161.663 1790.52 Q163.492 1786.96 163.492 1779.85 Q163.492 1772.72 161.663 1769.18 Q159.857 1765.61 156.223 1765.61 M156.223 1761.91 Q162.033 1761.91 165.089 1766.52 Q168.167 1771.1 168.167 1779.85 Q168.167 1788.58 165.089 1793.18 Q162.033 1797.77 156.223 1797.77 Q150.413 1797.77 147.334 1793.18 Q144.279 1788.58 144.279 1779.85 Q144.279 1771.1 147.334 1766.52 Q150.413 1761.91 156.223 1761.91 Z\" fill=\"#000000\" fill-rule=\"evenodd\" fill-opacity=\"1\" /><path clip-path=\"url(#clip360)\" d=\"M186.385 1765.61 Q182.774 1765.61 180.945 1769.18 Q179.14 1772.72 179.14 1779.85 Q179.14 1786.96 180.945 1790.52 Q182.774 1794.06 186.385 1794.06 Q190.019 1794.06 191.825 1790.52 Q193.653 1786.96 193.653 1779.85 Q193.653 1772.72 191.825 1769.18 Q190.019 1765.61 186.385 1765.61 M186.385 1761.91 Q192.195 1761.91 195.251 1766.52 Q198.329 1771.1 198.329 1779.85 Q198.329 1788.58 195.251 1793.18 Q192.195 1797.77 186.385 1797.77 Q180.575 1797.77 177.496 1793.18 Q174.441 1788.58 174.441 1779.85 Q174.441 1771.1 177.496 1766.52 Q180.575 1761.91 186.385 1761.91 Z\" fill=\"#000000\" fill-rule=\"evenodd\" fill-opacity=\"1\" /><path clip-path=\"url(#clip360)\" d=\"M216.547 1765.61 Q212.936 1765.61 211.107 1769.18 Q209.302 1772.72 209.302 1779.85 Q209.302 1786.96 211.107 1790.52 Q212.936 1794.06 216.547 1794.06 Q220.181 1794.06 221.987 1790.52 Q223.815 1786.96 223.815 1779.85 Q223.815 1772.72 221.987 1769.18 Q220.181 1765.61 216.547 1765.61 M216.547 1761.91 Q222.357 1761.91 225.413 1766.52 Q228.491 1771.1 228.491 1779.85 Q228.491 1788.58 225.413 1793.18 Q222.357 1797.77 216.547 1797.77 Q210.737 1797.77 207.658 1793.18 Q204.602 1788.58 204.602 1779.85 Q204.602 1771.1 207.658 1766.52 Q210.737 1761.91 216.547 1761.91 Z\" fill=\"#000000\" fill-rule=\"evenodd\" fill-opacity=\"1\" /><path clip-path=\"url(#clip360)\" d=\"M116.871 1413.48 L124.51 1413.48 L124.51 1387.11 L116.2 1388.78 L116.2 1384.52 L124.464 1382.85 L129.14 1382.85 L129.14 1413.48 L136.779 1413.48 L136.779 1417.41 L116.871 1417.41 L116.871 1413.48 Z\" fill=\"#000000\" fill-rule=\"evenodd\" fill-opacity=\"1\" /><path clip-path=\"url(#clip360)\" d=\"M147.033 1413.48 L154.672 1413.48 L154.672 1387.11 L146.362 1388.78 L146.362 1384.52 L154.626 1382.85 L159.302 1382.85 L159.302 1413.48 L166.941 1413.48 L166.941 1417.41 L147.033 1417.41 L147.033 1413.48 Z\" fill=\"#000000\" fill-rule=\"evenodd\" fill-opacity=\"1\" /><path clip-path=\"url(#clip360)\" d=\"M186.385 1385.93 Q182.774 1385.93 180.945 1389.5 Q179.14 1393.04 179.14 1400.17 Q179.14 1407.27 180.945 1410.84 Q182.774 1414.38 186.385 1414.38 Q190.019 1414.38 191.825 1410.84 Q193.653 1407.27 193.653 1400.17 Q193.653 1393.04 191.825 1389.5 Q190.019 1385.93 186.385 1385.93 M186.385 1382.23 Q192.195 1382.23 195.251 1386.83 Q198.329 1391.42 198.329 1400.17 Q198.329 1408.89 195.251 1413.5 Q192.195 1418.08 186.385 1418.08 Q180.575 1418.08 177.496 1413.5 Q174.441 1408.89 174.441 1400.17 Q174.441 1391.42 177.496 1386.83 Q180.575 1382.23 186.385 1382.23 Z\" fill=\"#000000\" fill-rule=\"evenodd\" fill-opacity=\"1\" /><path clip-path=\"url(#clip360)\" d=\"M216.547 1385.93 Q212.936 1385.93 211.107 1389.5 Q209.302 1393.04 209.302 1400.17 Q209.302 1407.27 211.107 1410.84 Q212.936 1414.38 216.547 1414.38 Q220.181 1414.38 221.987 1410.84 Q223.815 1407.27 223.815 1400.17 Q223.815 1393.04 221.987 1389.5 Q220.181 1385.93 216.547 1385.93 M216.547 1382.23 Q222.357 1382.23 225.413 1386.83 Q228.491 1391.42 228.491 1400.17 Q228.491 1408.89 225.413 1413.5 Q222.357 1418.08 216.547 1418.08 Q210.737 1418.08 207.658 1413.5 Q204.602 1408.89 204.602 1400.17 Q204.602 1391.42 207.658 1386.83 Q210.737 1382.23 216.547 1382.23 Z\" fill=\"#000000\" fill-rule=\"evenodd\" fill-opacity=\"1\" /><path clip-path=\"url(#clip360)\" d=\"M116.871 1033.79 L124.51 1033.79 L124.51 1007.43 L116.2 1009.09 L116.2 1004.84 L124.464 1003.17 L129.14 1003.17 L129.14 1033.79 L136.779 1033.79 L136.779 1037.73 L116.871 1037.73 L116.871 1033.79 Z\" fill=\"#000000\" fill-rule=\"evenodd\" fill-opacity=\"1\" /><path clip-path=\"url(#clip360)\" d=\"M150.251 1033.79 L166.57 1033.79 L166.57 1037.73 L144.626 1037.73 L144.626 1033.79 Q147.288 1031.04 151.871 1026.41 Q156.478 1021.76 157.658 1020.41 Q159.904 1017.89 160.783 1016.15 Q161.686 1014.4 161.686 1012.71 Q161.686 1009.95 159.742 1008.21 Q157.82 1006.48 154.718 1006.48 Q152.519 1006.48 150.066 1007.24 Q147.635 1008.01 144.857 1009.56 L144.857 1004.84 Q147.681 1003.7 150.135 1003.12 Q152.589 1002.54 154.626 1002.54 Q159.996 1002.54 163.191 1005.23 Q166.385 1007.91 166.385 1012.4 Q166.385 1014.53 165.575 1016.46 Q164.788 1018.35 162.681 1020.95 Q162.103 1021.62 159.001 1024.84 Q155.899 1028.03 150.251 1033.79 Z\" fill=\"#000000\" fill-rule=\"evenodd\" fill-opacity=\"1\" /><path clip-path=\"url(#clip360)\" d=\"M186.385 1006.25 Q182.774 1006.25 180.945 1009.81 Q179.14 1013.35 179.14 1020.48 Q179.14 1027.59 180.945 1031.15 Q182.774 1034.7 186.385 1034.7 Q190.019 1034.7 191.825 1031.15 Q193.653 1027.59 193.653 1020.48 Q193.653 1013.35 191.825 1009.81 Q190.019 1006.25 186.385 1006.25 M186.385 1002.54 Q192.195 1002.54 195.251 1007.15 Q198.329 1011.73 198.329 1020.48 Q198.329 1029.21 195.251 1033.82 Q192.195 1038.4 186.385 1038.4 Q180.575 1038.4 177.496 1033.82 Q174.441 1029.21 174.441 1020.48 Q174.441 1011.73 177.496 1007.15 Q180.575 1002.54 186.385 1002.54 Z\" fill=\"#000000\" fill-rule=\"evenodd\" fill-opacity=\"1\" /><path clip-path=\"url(#clip360)\" d=\"M216.547 1006.25 Q212.936 1006.25 211.107 1009.81 Q209.302 1013.35 209.302 1020.48 Q209.302 1027.59 211.107 1031.15 Q212.936 1034.7 216.547 1034.7 Q220.181 1034.7 221.987 1031.15 Q223.815 1027.59 223.815 1020.48 Q223.815 1013.35 221.987 1009.81 Q220.181 1006.25 216.547 1006.25 M216.547 1002.54 Q222.357 1002.54 225.413 1007.15 Q228.491 1011.73 228.491 1020.48 Q228.491 1029.21 225.413 1033.82 Q222.357 1038.4 216.547 1038.4 Q210.737 1038.4 207.658 1033.82 Q204.602 1029.21 204.602 1020.48 Q204.602 1011.73 207.658 1007.15 Q210.737 1002.54 216.547 1002.54 Z\" fill=\"#000000\" fill-rule=\"evenodd\" fill-opacity=\"1\" /><path clip-path=\"url(#clip360)\" d=\"M116.871 654.11 L124.51 654.11 L124.51 627.745 L116.2 629.411 L116.2 625.152 L124.464 623.485 L129.14 623.485 L129.14 654.11 L136.779 654.11 L136.779 658.045 L116.871 658.045 L116.871 654.11 Z\" fill=\"#000000\" fill-rule=\"evenodd\" fill-opacity=\"1\" /><path clip-path=\"url(#clip360)\" d=\"M160.39 639.411 Q163.746 640.129 165.621 642.397 Q167.519 644.666 167.519 647.999 Q167.519 653.115 164.001 655.916 Q160.482 658.717 154.001 658.717 Q151.825 658.717 149.51 658.277 Q147.219 657.86 144.765 657.004 L144.765 652.49 Q146.709 653.624 149.024 654.203 Q151.339 654.782 153.862 654.782 Q158.26 654.782 160.552 653.045 Q162.867 651.309 162.867 647.999 Q162.867 644.944 160.714 643.231 Q158.584 641.495 154.765 641.495 L150.737 641.495 L150.737 637.652 L154.95 637.652 Q158.399 637.652 160.228 636.286 Q162.056 634.897 162.056 632.305 Q162.056 629.643 160.158 628.231 Q158.283 626.796 154.765 626.796 Q152.843 626.796 150.644 627.212 Q148.445 627.629 145.806 628.509 L145.806 624.342 Q148.469 623.601 150.783 623.231 Q153.121 622.86 155.181 622.86 Q160.505 622.86 163.607 625.291 Q166.709 627.698 166.709 631.819 Q166.709 634.689 165.066 636.68 Q163.422 638.647 160.39 639.411 Z\" fill=\"#000000\" fill-rule=\"evenodd\" fill-opacity=\"1\" /><path clip-path=\"url(#clip360)\" d=\"M186.385 626.564 Q182.774 626.564 180.945 630.129 Q179.14 633.671 179.14 640.8 Q179.14 647.907 180.945 651.471 Q182.774 655.013 186.385 655.013 Q190.019 655.013 191.825 651.471 Q193.653 647.907 193.653 640.8 Q193.653 633.671 191.825 630.129 Q190.019 626.564 186.385 626.564 M186.385 622.86 Q192.195 622.86 195.251 627.467 Q198.329 632.05 198.329 640.8 Q198.329 649.527 195.251 654.133 Q192.195 658.717 186.385 658.717 Q180.575 658.717 177.496 654.133 Q174.441 649.527 174.441 640.8 Q174.441 632.05 177.496 627.467 Q180.575 622.86 186.385 622.86 Z\" fill=\"#000000\" fill-rule=\"evenodd\" fill-opacity=\"1\" /><path clip-path=\"url(#clip360)\" d=\"M216.547 626.564 Q212.936 626.564 211.107 630.129 Q209.302 633.671 209.302 640.8 Q209.302 647.907 211.107 651.471 Q212.936 655.013 216.547 655.013 Q220.181 655.013 221.987 651.471 Q223.815 647.907 223.815 640.8 Q223.815 633.671 221.987 630.129 Q220.181 626.564 216.547 626.564 M216.547 622.86 Q222.357 622.86 225.413 627.467 Q228.491 632.05 228.491 640.8 Q228.491 649.527 225.413 654.133 Q222.357 658.717 216.547 658.717 Q210.737 658.717 207.658 654.133 Q204.602 649.527 204.602 640.8 Q204.602 632.05 207.658 627.467 Q210.737 622.86 216.547 622.86 Z\" fill=\"#000000\" fill-rule=\"evenodd\" fill-opacity=\"1\" /><path clip-path=\"url(#clip360)\" d=\"M116.871 274.427 L124.51 274.427 L124.51 248.062 L116.2 249.728 L116.2 245.469 L124.464 243.802 L129.14 243.802 L129.14 274.427 L136.779 274.427 L136.779 278.362 L116.871 278.362 L116.871 274.427 Z\" fill=\"#000000\" fill-rule=\"evenodd\" fill-opacity=\"1\" /><path clip-path=\"url(#clip360)\" d=\"M159.07 247.876 L147.265 266.325 L159.07 266.325 L159.07 247.876 M157.843 243.802 L163.723 243.802 L163.723 266.325 L168.654 266.325 L168.654 270.214 L163.723 270.214 L163.723 278.362 L159.07 278.362 L159.07 270.214 L143.469 270.214 L143.469 265.7 L157.843 243.802 Z\" fill=\"#000000\" fill-rule=\"evenodd\" fill-opacity=\"1\" /><path clip-path=\"url(#clip360)\" d=\"M186.385 246.881 Q182.774 246.881 180.945 250.446 Q179.14 253.988 179.14 261.117 Q179.14 268.224 180.945 271.788 Q182.774 275.33 186.385 275.33 Q190.019 275.33 191.825 271.788 Q193.653 268.224 193.653 261.117 Q193.653 253.988 191.825 250.446 Q190.019 246.881 186.385 246.881 M186.385 243.177 Q192.195 243.177 195.251 247.784 Q198.329 252.367 198.329 261.117 Q198.329 269.844 195.251 274.45 Q192.195 279.034 186.385 279.034 Q180.575 279.034 177.496 274.45 Q174.441 269.844 174.441 261.117 Q174.441 252.367 177.496 247.784 Q180.575 243.177 186.385 243.177 Z\" fill=\"#000000\" fill-rule=\"evenodd\" fill-opacity=\"1\" /><path clip-path=\"url(#clip360)\" d=\"M216.547 246.881 Q212.936 246.881 211.107 250.446 Q209.302 253.988 209.302 261.117 Q209.302 268.224 211.107 271.788 Q212.936 275.33 216.547 275.33 Q220.181 275.33 221.987 271.788 Q223.815 268.224 223.815 261.117 Q223.815 253.988 221.987 250.446 Q220.181 246.881 216.547 246.881 M216.547 243.177 Q222.357 243.177 225.413 247.784 Q228.491 252.367 228.491 261.117 Q228.491 269.844 225.413 274.45 Q222.357 279.034 216.547 279.034 Q210.737 279.034 207.658 274.45 Q204.602 269.844 204.602 261.117 Q204.602 252.367 207.658 247.784 Q210.737 243.177 216.547 243.177 Z\" fill=\"#000000\" fill-rule=\"evenodd\" fill-opacity=\"1\" /><path clip-path=\"url(#clip360)\" d=\"M6.42416 1459.08 L6.42416 1452.59 L46.5918 1442.59 L6.42416 1432.63 L6.42416 1425.41 L46.5918 1415.41 L6.42416 1405.45 L6.42416 1398.92 L53.9442 1410.86 L53.9442 1418.94 L12.6944 1428.97 L53.9442 1439.09 L53.9442 1447.18 L6.42416 1459.08 Z\" fill=\"#000000\" fill-rule=\"evenodd\" fill-opacity=\"1\" /><path clip-path=\"url(#clip360)\" d=\"M57.2543 1376.96 Q63.62 1379.44 65.5616 1381.8 Q67.5031 1384.16 67.5031 1388.1 L67.5031 1392.78 L62.6015 1392.78 L62.6015 1389.34 Q62.6015 1386.92 61.4557 1385.59 Q60.3099 1384.25 56.0448 1382.63 L53.3712 1381.58 L18.2962 1396 L18.2962 1389.79 L46.178 1378.65 L18.2962 1367.51 L18.2962 1361.3 L57.2543 1376.96 Z\" fill=\"#000000\" fill-rule=\"evenodd\" fill-opacity=\"1\" /><path clip-path=\"url(#clip360)\" d=\"M32.4281 1323.59 L53.9442 1323.59 L53.9442 1329.44 L32.619 1329.44 Q27.5583 1329.44 25.0438 1331.42 Q22.5294 1333.39 22.5294 1337.34 Q22.5294 1342.08 25.5531 1344.82 Q28.5768 1347.55 33.7967 1347.55 L53.9442 1347.55 L53.9442 1353.44 L18.2962 1353.44 L18.2962 1347.55 L23.8344 1347.55 Q20.6197 1345.45 19.0283 1342.62 Q17.4368 1339.75 17.4368 1336.03 Q17.4368 1329.89 21.2563 1326.74 Q25.0438 1323.59 32.4281 1323.59 Z\" fill=\"#000000\" fill-rule=\"evenodd\" fill-opacity=\"1\" /><path clip-path=\"url(#clip360)\" d=\"M18.2962 1311.9 L18.2962 1306.05 L53.9442 1306.05 L53.9442 1311.9 L18.2962 1311.9 M4.41896 1311.9 L4.41896 1306.05 L11.835 1306.05 L11.835 1311.9 L4.41896 1311.9 Z\" fill=\"#000000\" fill-rule=\"evenodd\" fill-opacity=\"1\" /><path clip-path=\"url(#clip360)\" d=\"M4.41896 1294.02 L4.41896 1288.13 L33.6694 1288.13 L18.2962 1270.65 L18.2962 1263.18 L34.9744 1282.08 L53.9442 1262.38 L53.9442 1270.02 L36.5339 1288.13 L53.9442 1288.13 L53.9442 1294.02 L4.41896 1294.02 Z\" fill=\"#000000\" fill-rule=\"evenodd\" fill-opacity=\"1\" /><path clip-path=\"url(#clip360)\" d=\"M18.2962 1256.05 L18.2962 1250.19 L53.9442 1250.19 L53.9442 1256.05 L18.2962 1256.05 M4.41896 1256.05 L4.41896 1250.19 L11.835 1250.19 L11.835 1256.05 L4.41896 1256.05 Z\" fill=\"#000000\" fill-rule=\"evenodd\" fill-opacity=\"1\" /><path clip-path=\"url(#clip360)\" d=\"M6.42416 1206.81 L6.42416 1201.4 L59.9916 1217.95 L59.9916 1223.36 L6.42416 1206.81 Z\" fill=\"#000000\" fill-rule=\"evenodd\" fill-opacity=\"1\" /><path clip-path=\"url(#clip360)\" d=\"M31.6642 1151.74 Q32.3644 1149.67 34.6561 1147.73 Q36.9477 1145.76 40.9581 1143.79 L53.9442 1137.26 L53.9442 1144.17 L41.7538 1150.25 Q36.9795 1152.6 35.42 1154.83 Q33.8604 1157.03 33.8604 1160.85 L33.8604 1167.85 L53.9442 1167.85 L53.9442 1174.28 L6.42416 1174.28 L6.42416 1159.76 Q6.42416 1151.62 9.82981 1147.61 Q13.2355 1143.6 20.1104 1143.6 Q24.5982 1143.6 27.5583 1145.7 Q30.5184 1147.76 31.6642 1151.74 M11.7077 1167.85 L28.5768 1167.85 L28.5768 1159.76 Q28.5768 1155.12 26.4443 1152.76 Q24.28 1150.37 20.1104 1150.37 Q15.9409 1150.37 13.8402 1152.76 Q11.7077 1155.12 11.7077 1159.76 L11.7077 1167.85 Z\" fill=\"#000000\" fill-rule=\"evenodd\" fill-opacity=\"1\" /><path clip-path=\"url(#clip360)\" d=\"M34.6561 1101.68 L37.5206 1101.68 L37.5206 1128.6 Q43.5681 1128.22 46.7509 1124.98 Q49.9019 1121.7 49.9019 1115.87 Q49.9019 1112.5 49.0744 1109.35 Q48.2469 1106.16 46.5918 1103.05 L52.1299 1103.05 Q53.4667 1106.2 54.167 1109.51 Q54.8672 1112.82 54.8672 1116.22 Q54.8672 1124.75 49.9019 1129.75 Q44.9367 1134.72 36.4703 1134.72 Q27.7174 1134.72 22.5931 1130 Q17.4368 1125.26 17.4368 1117.24 Q17.4368 1110.05 22.0838 1105.88 Q26.6989 1101.68 34.6561 1101.68 M32.9373 1107.53 Q28.1312 1107.6 25.2666 1110.24 Q22.4021 1112.85 22.4021 1117.18 Q22.4021 1122.08 25.1712 1125.04 Q27.9402 1127.97 32.9692 1128.41 L32.9373 1107.53 Z\" fill=\"#000000\" fill-rule=\"evenodd\" fill-opacity=\"1\" /><path clip-path=\"url(#clip360)\" d=\"M18.2962 1094.61 L18.2962 1066.79 L23.6434 1066.79 L49.2654 1088.82 L49.2654 1066.79 L53.9442 1066.79 L53.9442 1095.41 L48.597 1095.41 L22.975 1073.38 L22.975 1094.61 L18.2962 1094.61 Z\" fill=\"#000000\" fill-rule=\"evenodd\" fill-opacity=\"1\" /><path clip-path=\"url(#clip360)\" d=\"M39.8759 1058.45 L18.2962 1058.45 L18.2962 1052.6 L39.6531 1052.6 Q44.7139 1052.6 47.2602 1050.62 Q49.7746 1048.65 49.7746 1044.7 Q49.7746 1039.96 46.7509 1037.22 Q43.7272 1034.46 38.5073 1034.46 L18.2962 1034.46 L18.2962 1028.6 L53.9442 1028.6 L53.9442 1034.46 L48.4696 1034.46 Q51.7162 1036.59 53.3076 1039.42 Q54.8672 1042.22 54.8672 1045.95 Q54.8672 1052.09 51.0478 1055.27 Q47.2283 1058.45 39.8759 1058.45 M17.4368 1043.72 L17.4368 1043.72 Z\" fill=\"#000000\" fill-rule=\"evenodd\" fill-opacity=\"1\" /><path clip-path=\"url(#clip360)\" d=\"M4.41896 1016.54 L4.41896 1010.68 L53.9442 1010.68 L53.9442 1016.54 L4.41896 1016.54 Z\" fill=\"#000000\" fill-rule=\"evenodd\" fill-opacity=\"1\" /><path clip-path=\"url(#clip360)\" d=\"M8.17473 992.633 L18.2962 992.633 L18.2962 980.57 L22.8477 980.57 L22.8477 992.633 L42.1994 992.633 Q46.5599 992.633 47.8013 991.455 Q49.0426 990.245 49.0426 986.585 L49.0426 980.57 L53.9442 980.57 L53.9442 986.585 Q53.9442 993.365 51.4297 995.943 Q48.8834 998.521 42.1994 998.521 L22.8477 998.521 L22.8477 1002.82 L18.2962 1002.82 L18.2962 998.521 L8.17473 998.521 L8.17473 992.633 Z\" fill=\"#000000\" fill-rule=\"evenodd\" fill-opacity=\"1\" /><path clip-path=\"url(#clip360)\" d=\"M36.0247 956.666 Q36.0247 963.764 37.6479 966.501 Q39.2712 969.239 43.1861 969.239 Q46.3053 969.239 48.1514 967.202 Q49.9656 965.133 49.9656 961.6 Q49.9656 956.73 46.5281 953.802 Q43.0588 950.842 37.3297 950.842 L36.0247 950.842 L36.0247 956.666 M33.6057 944.985 L53.9442 944.985 L53.9442 950.842 L48.5333 950.842 Q51.7798 952.847 53.3394 955.839 Q54.8672 958.831 54.8672 963.159 Q54.8672 968.634 51.8116 971.88 Q48.7243 975.095 43.5681 975.095 Q37.5525 975.095 34.4969 971.085 Q31.4414 967.042 31.4414 959.053 L31.4414 950.842 L30.8685 950.842 Q26.8262 950.842 24.6301 953.515 Q22.4021 956.157 22.4021 960.963 Q22.4021 964.019 23.1341 966.915 Q23.8662 969.812 25.3303 972.485 L19.9195 972.485 Q18.6781 969.27 18.0734 966.247 Q17.4368 963.223 17.4368 960.358 Q17.4368 952.624 21.4472 948.805 Q25.4576 944.985 33.6057 944.985 Z\" fill=\"#000000\" fill-rule=\"evenodd\" fill-opacity=\"1\" /><path clip-path=\"url(#clip360)\" d=\"M8.17473 927.129 L18.2962 927.129 L18.2962 915.066 L22.8477 915.066 L22.8477 927.129 L42.1994 927.129 Q46.5599 927.129 47.8013 925.952 Q49.0426 924.742 49.0426 921.082 L49.0426 915.066 L53.9442 915.066 L53.9442 921.082 Q53.9442 927.862 51.4297 930.44 Q48.8834 933.018 42.1994 933.018 L22.8477 933.018 L22.8477 937.315 L18.2962 937.315 L18.2962 933.018 L8.17473 933.018 L8.17473 927.129 Z\" fill=\"#000000\" fill-rule=\"evenodd\" fill-opacity=\"1\" /><path clip-path=\"url(#clip360)\" d=\"M57.2543 892.532 Q63.62 895.014 65.5616 897.37 Q67.5031 899.725 67.5031 903.672 L67.5031 908.351 L62.6015 908.351 L62.6015 904.913 Q62.6015 902.494 61.4557 901.157 Q60.3099 899.821 56.0448 898.197 L53.3712 897.147 L18.2962 911.565 L18.2962 905.359 L46.178 894.219 L18.2962 883.079 L18.2962 876.872 L57.2543 892.532 Z\" fill=\"#000000\" fill-rule=\"evenodd\" fill-opacity=\"1\" /><path clip-path=\"url(#clip360)\" d=\"M336.081 12.096 L344.344 12.096 L357.064 63.2184 L369.744 12.096 L378.939 12.096 L391.659 63.2184 L404.338 12.096 L412.643 12.096 L397.452 72.576 L387.163 72.576 L374.402 20.0763 L361.52 72.576 L351.231 72.576 L336.081 12.096 Z\" fill=\"#000000\" fill-rule=\"evenodd\" fill-opacity=\"1\" /><path clip-path=\"url(#clip360)\" d=\"M440.594 76.7889 Q437.434 84.8907 434.437 87.3618 Q431.439 89.8329 426.416 89.8329 L420.461 89.8329 L420.461 83.5945 L424.836 83.5945 Q427.915 83.5945 429.616 82.1361 Q431.317 80.6778 433.383 75.2496 L434.72 71.8468 L416.37 27.2059 L424.269 27.2059 L438.447 62.6918 L452.625 27.2059 L460.524 27.2059 L440.594 76.7889 Z\" fill=\"#000000\" fill-rule=\"evenodd\" fill-opacity=\"1\" /><path clip-path=\"url(#clip360)\" d=\"M470.53 9.54393 L478.024 9.54393 L478.024 46.7717 L500.264 27.2059 L509.783 27.2059 L485.721 48.4326 L510.796 72.576 L501.074 72.576 L478.024 50.4176 L478.024 72.576 L470.53 72.576 L470.53 9.54393 Z\" fill=\"#000000\" fill-rule=\"evenodd\" fill-opacity=\"1\" /><path clip-path=\"url(#clip360)\" d=\"M545.148 34.1734 Q543.892 33.4443 542.393 33.1202 Q540.935 32.7556 539.152 32.7556 Q532.833 32.7556 529.43 36.8875 Q526.068 40.9789 526.068 48.6757 L526.068 72.576 L518.574 72.576 L518.574 27.2059 L526.068 27.2059 L526.068 34.2544 Q528.418 30.1225 532.185 28.1376 Q535.952 26.1121 541.34 26.1121 Q542.11 26.1121 543.041 26.2337 Q543.973 26.3147 545.107 26.5172 L545.148 34.1734 Z\" fill=\"#000000\" fill-rule=\"evenodd\" fill-opacity=\"1\" /><path clip-path=\"url(#clip360)\" d=\"M589.951 48.0275 L589.951 51.6733 L555.68 51.6733 Q556.166 59.3701 560.298 63.421 Q564.471 67.4314 571.884 67.4314 Q576.178 67.4314 580.188 66.3781 Q584.239 65.3249 588.209 63.2184 L588.209 70.267 Q584.198 71.9684 579.986 72.8596 Q575.773 73.7508 571.438 73.7508 Q560.582 73.7508 554.222 67.4314 Q547.902 61.1119 547.902 50.3365 Q547.902 39.1965 553.898 32.6746 Q559.934 26.1121 570.142 26.1121 Q579.297 26.1121 584.604 32.0264 Q589.951 37.9003 589.951 48.0275 M582.497 45.84 Q582.416 39.7232 579.054 36.0774 Q575.732 32.4315 570.223 32.4315 Q563.984 32.4315 560.217 35.9558 Q556.49 39.4801 555.923 45.8805 L582.497 45.84 Z\" fill=\"#000000\" fill-rule=\"evenodd\" fill-opacity=\"1\" /><path clip-path=\"url(#clip360)\" d=\"M631.108 28.5427 L631.108 35.5912 Q627.948 33.9709 624.545 33.1607 Q621.143 32.3505 617.497 32.3505 Q611.947 32.3505 609.152 34.0519 Q606.397 35.7533 606.397 39.156 Q606.397 41.7486 608.382 43.2475 Q610.367 44.7058 616.363 46.0426 L618.915 46.6097 Q626.855 48.3111 630.176 51.4303 Q633.539 54.509 633.539 60.0587 Q633.539 66.3781 628.515 70.0644 Q623.533 73.7508 614.783 73.7508 Q611.137 73.7508 607.167 73.0216 Q603.238 72.3329 598.863 70.9151 L598.863 63.2184 Q602.995 65.3654 607.005 66.4591 Q611.015 67.5124 614.945 67.5124 Q620.211 67.5124 623.047 65.73 Q625.882 63.9071 625.882 60.6258 Q625.882 57.5877 623.816 55.9673 Q621.791 54.3469 614.864 52.8481 L612.271 52.2405 Q605.344 50.7821 602.266 47.7845 Q599.187 44.7463 599.187 39.4801 Q599.187 33.0797 603.724 29.5959 Q608.261 26.1121 616.606 26.1121 Q620.738 26.1121 624.383 26.7198 Q628.029 27.3274 631.108 28.5427 Z\" fill=\"#000000\" fill-rule=\"evenodd\" fill-opacity=\"1\" /><path clip-path=\"url(#clip360)\" d=\"M668.538 27.2059 L703.943 27.2059 L703.943 34.0114 L675.911 66.6212 L703.943 66.6212 L703.943 72.576 L667.526 72.576 L667.526 65.7705 L695.558 33.1607 L668.538 33.1607 L668.538 27.2059 Z\" fill=\"#000000\" fill-rule=\"evenodd\" fill-opacity=\"1\" /><path clip-path=\"url(#clip360)\" d=\"M750.65 35.9153 Q753.445 30.8922 757.334 28.5022 Q761.223 26.1121 766.489 26.1121 Q773.578 26.1121 777.427 31.0947 Q781.275 36.0368 781.275 45.1919 L781.275 72.576 L773.781 72.576 L773.781 45.4349 Q773.781 38.913 771.472 35.7533 Q769.163 32.5936 764.423 32.5936 Q758.63 32.5936 755.268 36.4419 Q751.906 40.2903 751.906 46.9338 L751.906 72.576 L744.412 72.576 L744.412 45.4349 Q744.412 38.8725 742.103 35.7533 Q739.794 32.5936 734.973 32.5936 Q729.261 32.5936 725.899 36.4824 Q722.537 40.3308 722.537 46.9338 L722.537 72.576 L715.043 72.576 L715.043 27.2059 L722.537 27.2059 L722.537 34.2544 Q725.089 30.082 728.654 28.0971 Q732.219 26.1121 737.12 26.1121 Q742.062 26.1121 745.505 28.6237 Q748.989 31.1352 750.65 35.9153 Z\" fill=\"#000000\" fill-rule=\"evenodd\" fill-opacity=\"1\" /><path clip-path=\"url(#clip360)\" d=\"M796.142 27.2059 L803.595 27.2059 L803.595 72.576 L796.142 72.576 L796.142 27.2059 M796.142 9.54393 L803.595 9.54393 L803.595 18.9825 L796.142 18.9825 L796.142 9.54393 Z\" fill=\"#000000\" fill-rule=\"evenodd\" fill-opacity=\"1\" /><path clip-path=\"url(#clip360)\" d=\"M839.811 49.7694 Q830.777 49.7694 827.293 51.8354 Q823.809 53.9013 823.809 58.8839 Q823.809 62.8538 826.402 65.2034 Q829.035 67.5124 833.532 67.5124 Q839.73 67.5124 843.456 63.1374 Q847.224 58.7219 847.224 51.4303 L847.224 49.7694 L839.811 49.7694 M854.677 46.6907 L854.677 72.576 L847.224 72.576 L847.224 65.6895 Q844.672 69.8214 840.864 71.8063 Q837.056 73.7508 831.547 73.7508 Q824.579 73.7508 820.447 69.8619 Q816.356 65.9325 816.356 59.3701 Q816.356 51.7138 821.46 47.825 Q826.605 43.9361 836.772 43.9361 L847.224 43.9361 L847.224 43.2069 Q847.224 38.0623 843.821 35.2672 Q840.459 32.4315 834.342 32.4315 Q830.453 32.4315 826.767 33.3632 Q823.08 34.295 819.678 36.1584 L819.678 29.2718 Q823.769 27.692 827.617 26.9223 Q831.466 26.1121 835.111 26.1121 Q844.955 26.1121 849.816 31.2163 Q854.677 36.3204 854.677 46.6907 Z\" fill=\"#000000\" fill-rule=\"evenodd\" fill-opacity=\"1\" /><path clip-path=\"url(#clip360)\" d=\"M907.744 45.1919 L907.744 72.576 L900.291 72.576 L900.291 45.4349 Q900.291 38.994 897.779 35.7938 Q895.267 32.5936 890.244 32.5936 Q884.208 32.5936 880.725 36.4419 Q877.241 40.2903 877.241 46.9338 L877.241 72.576 L869.747 72.576 L869.747 27.2059 L877.241 27.2059 L877.241 34.2544 Q879.914 30.163 883.52 28.1376 Q887.166 26.1121 891.905 26.1121 Q899.723 26.1121 903.734 30.9732 Q907.744 35.7938 907.744 45.1919 Z\" fill=\"#000000\" fill-rule=\"evenodd\" fill-opacity=\"1\" /><path clip-path=\"url(#clip360)\" d=\"M941.488 76.7889 Q938.329 84.8907 935.331 87.3618 Q932.333 89.8329 927.31 89.8329 L921.355 89.8329 L921.355 83.5945 L925.73 83.5945 Q928.809 83.5945 930.51 82.1361 Q932.212 80.6778 934.278 75.2496 L935.614 71.8468 L917.264 27.2059 L925.163 27.2059 L939.341 62.6918 L953.519 27.2059 L961.419 27.2059 L941.488 76.7889 Z\" fill=\"#000000\" fill-rule=\"evenodd\" fill-opacity=\"1\" /><path clip-path=\"url(#clip360)\" d=\"M1005.29 65.7705 L1005.29 89.8329 L997.796 89.8329 L997.796 27.2059 L1005.29 27.2059 L1005.29 34.0924 Q1007.64 30.0415 1011.2 28.0971 Q1014.81 26.1121 1019.79 26.1121 Q1028.06 26.1121 1033.2 32.6746 Q1038.39 39.2371 1038.39 49.9314 Q1038.39 60.6258 1033.2 67.1883 Q1028.06 73.7508 1019.79 73.7508 Q1014.81 73.7508 1011.2 71.8063 Q1007.64 69.8214 1005.29 65.7705 M1030.65 49.9314 Q1030.65 41.7081 1027.25 37.0496 Q1023.88 32.3505 1017.97 32.3505 Q1012.05 32.3505 1008.65 37.0496 Q1005.29 41.7081 1005.29 49.9314 Q1005.29 58.1548 1008.65 62.8538 Q1012.05 67.5124 1017.97 67.5124 Q1023.88 67.5124 1027.25 62.8538 Q1030.65 58.1548 1030.65 49.9314 Z\" fill=\"#000000\" fill-rule=\"evenodd\" fill-opacity=\"1\" /><path clip-path=\"url(#clip360)\" d=\"M1077.03 34.1734 Q1075.78 33.4443 1074.28 33.1202 Q1072.82 32.7556 1071.04 32.7556 Q1064.72 32.7556 1061.31 36.8875 Q1057.95 40.9789 1057.95 48.6757 L1057.95 72.576 L1050.46 72.576 L1050.46 27.2059 L1057.95 27.2059 L1057.95 34.2544 Q1060.3 30.1225 1064.07 28.1376 Q1067.84 26.1121 1073.22 26.1121 Q1073.99 26.1121 1074.93 26.2337 Q1075.86 26.3147 1076.99 26.5172 L1077.03 34.1734 Z\" fill=\"#000000\" fill-rule=\"evenodd\" fill-opacity=\"1\" /><path clip-path=\"url(#clip360)\" d=\"M1100.61 32.4315 Q1094.61 32.4315 1091.13 37.1306 Q1087.64 41.7891 1087.64 49.9314 Q1087.64 58.0738 1091.09 62.7728 Q1094.57 67.4314 1100.61 67.4314 Q1106.56 67.4314 1110.05 62.7323 Q1113.53 58.0333 1113.53 49.9314 Q1113.53 41.8701 1110.05 37.1711 Q1106.56 32.4315 1100.61 32.4315 M1100.61 26.1121 Q1110.33 26.1121 1115.88 32.4315 Q1121.43 38.7509 1121.43 49.9314 Q1121.43 61.0714 1115.88 67.4314 Q1110.33 73.7508 1100.61 73.7508 Q1090.85 73.7508 1085.3 67.4314 Q1079.79 61.0714 1079.79 49.9314 Q1079.79 38.7509 1085.3 32.4315 Q1090.85 26.1121 1100.61 26.1121 Z\" fill=\"#000000\" fill-rule=\"evenodd\" fill-opacity=\"1\" /><path clip-path=\"url(#clip360)\" d=\"M1156.75 9.54393 L1156.75 15.7418 L1149.62 15.7418 Q1145.61 15.7418 1144.03 17.3622 Q1142.49 18.9825 1142.49 23.1955 L1142.49 27.2059 L1154.77 27.2059 L1154.77 32.9987 L1142.49 32.9987 L1142.49 72.576 L1135 72.576 L1135 32.9987 L1127.87 32.9987 L1127.87 27.2059 L1135 27.2059 L1135 24.0462 Q1135 16.471 1138.52 13.0277 Q1142.05 9.54393 1149.7 9.54393 L1156.75 9.54393 Z\" fill=\"#000000\" fill-rule=\"evenodd\" fill-opacity=\"1\" /><path clip-path=\"url(#clip360)\" d=\"M1162.99 27.2059 L1170.45 27.2059 L1170.45 72.576 L1162.99 72.576 L1162.99 27.2059 M1162.99 9.54393 L1170.45 9.54393 L1170.45 18.9825 L1162.99 18.9825 L1162.99 9.54393 Z\" fill=\"#000000\" fill-rule=\"evenodd\" fill-opacity=\"1\" /><path clip-path=\"url(#clip360)\" d=\"M1193.41 14.324 L1193.41 27.2059 L1208.77 27.2059 L1208.77 32.9987 L1193.41 32.9987 L1193.41 57.6282 Q1193.41 63.1779 1194.91 64.7578 Q1196.45 66.3376 1201.11 66.3376 L1208.77 66.3376 L1208.77 72.576 L1201.11 72.576 Q1192.48 72.576 1189.2 69.3758 Q1185.92 66.1351 1185.92 57.6282 L1185.92 32.9987 L1180.45 32.9987 L1180.45 27.2059 L1185.92 27.2059 L1185.92 14.324 L1193.41 14.324 Z\" fill=\"#000000\" fill-rule=\"evenodd\" fill-opacity=\"1\" /><path clip-path=\"url(#clip360)\" d=\"M1217.8 54.671 L1217.8 27.2059 L1225.25 27.2059 L1225.25 54.3874 Q1225.25 60.8284 1227.77 64.0691 Q1230.28 67.2693 1235.3 67.2693 Q1241.34 67.2693 1244.82 63.421 Q1248.34 59.5726 1248.34 52.9291 L1248.34 27.2059 L1255.8 27.2059 L1255.8 72.576 L1248.34 72.576 L1248.34 65.6084 Q1245.63 69.7404 1242.02 71.7658 Q1238.46 73.7508 1233.72 73.7508 Q1225.9 73.7508 1221.85 68.8897 Q1217.8 64.0286 1217.8 54.671 M1236.56 26.1121 L1236.56 26.1121 Z\" fill=\"#000000\" fill-rule=\"evenodd\" fill-opacity=\"1\" /><path clip-path=\"url(#clip360)\" d=\"M1293.19 27.2059 L1300.64 27.2059 L1309.96 62.6108 L1319.24 27.2059 L1328.03 27.2059 L1337.34 62.6108 L1346.62 27.2059 L1354.07 27.2059 L1342.2 72.576 L1333.41 72.576 L1323.65 35.3887 L1313.85 72.576 L1305.06 72.576 L1293.19 27.2059 Z\" fill=\"#000000\" fill-rule=\"evenodd\" fill-opacity=\"1\" /><path clip-path=\"url(#clip360)\" d=\"M1388.51 27.2059 L1423.91 27.2059 L1423.91 34.0114 L1395.88 66.6212 L1423.91 66.6212 L1423.91 72.576 L1387.49 72.576 L1387.49 65.7705 L1415.53 33.1607 L1388.51 33.1607 L1388.51 27.2059 Z\" fill=\"#000000\" fill-rule=\"evenodd\" fill-opacity=\"1\" /><path clip-path=\"url(#clip360)\" d=\"M1455.91 49.7694 Q1446.88 49.7694 1443.4 51.8354 Q1439.91 53.9013 1439.91 58.8839 Q1439.91 62.8538 1442.5 65.2034 Q1445.14 67.5124 1449.63 67.5124 Q1455.83 67.5124 1459.56 63.1374 Q1463.33 58.7219 1463.33 51.4303 L1463.33 49.7694 L1455.91 49.7694 M1470.78 46.6907 L1470.78 72.576 L1463.33 72.576 L1463.33 65.6895 Q1460.77 69.8214 1456.97 71.8063 Q1453.16 73.7508 1447.65 73.7508 Q1440.68 73.7508 1436.55 69.8619 Q1432.46 65.9325 1432.46 59.3701 Q1432.46 51.7138 1437.56 47.825 Q1442.71 43.9361 1452.87 43.9361 L1463.33 43.9361 L1463.33 43.2069 Q1463.33 38.0623 1459.92 35.2672 Q1456.56 32.4315 1450.44 32.4315 Q1446.55 32.4315 1442.87 33.3632 Q1439.18 34.295 1435.78 36.1584 L1435.78 29.2718 Q1439.87 27.692 1443.72 26.9223 Q1447.57 26.1121 1451.21 26.1121 Q1461.06 26.1121 1465.92 31.2163 Q1470.78 36.3204 1470.78 46.6907 Z\" fill=\"#000000\" fill-rule=\"evenodd\" fill-opacity=\"1\" /><path clip-path=\"url(#clip360)\" d=\"M1486.13 9.54393 L1493.59 9.54393 L1493.59 72.576 L1486.13 72.576 L1486.13 9.54393 Z\" fill=\"#000000\" fill-rule=\"evenodd\" fill-opacity=\"1\" /><path clip-path=\"url(#clip360)\" d=\"M1547.99 48.0275 L1547.99 51.6733 L1513.72 51.6733 Q1514.21 59.3701 1518.34 63.421 Q1522.51 67.4314 1529.92 67.4314 Q1534.22 67.4314 1538.23 66.3781 Q1542.28 65.3249 1546.25 63.2184 L1546.25 70.267 Q1542.24 71.9684 1538.02 72.8596 Q1533.81 73.7508 1529.48 73.7508 Q1518.62 73.7508 1512.26 67.4314 Q1505.94 61.1119 1505.94 50.3365 Q1505.94 39.1965 1511.94 32.6746 Q1517.97 26.1121 1528.18 26.1121 Q1537.34 26.1121 1542.64 32.0264 Q1547.99 37.9003 1547.99 48.0275 M1540.54 45.84 Q1540.45 39.7232 1537.09 36.0774 Q1533.77 32.4315 1528.26 32.4315 Q1522.02 32.4315 1518.26 35.9558 Q1514.53 39.4801 1513.96 45.8805 L1540.54 45.84 Z\" fill=\"#000000\" fill-rule=\"evenodd\" fill-opacity=\"1\" /><path clip-path=\"url(#clip360)\" d=\"M1570.27 9.54393 L1577.72 9.54393 L1577.72 18.9825 L1570.27 18.9825 L1570.27 9.54393 M1574.08 26.1121 L1574.08 26.1121 M1556.98 27.2059 L1592.39 27.2059 L1592.39 34.0114 L1564.36 66.6212 L1592.39 66.6212 L1592.39 72.576 L1555.97 72.576 L1555.97 65.7705 L1584 33.1607 L1556.98 33.1607 L1556.98 27.2059 Z\" fill=\"#000000\" fill-rule=\"evenodd\" fill-opacity=\"1\" /><path clip-path=\"url(#clip360)\" d=\"M1641.48 45.1919 L1641.48 72.576 L1634.03 72.576 L1634.03 45.4349 Q1634.03 38.994 1631.52 35.7938 Q1629.01 32.5936 1623.98 32.5936 Q1617.95 32.5936 1614.46 36.4419 Q1610.98 40.2903 1610.98 46.9338 L1610.98 72.576 L1603.49 72.576 L1603.49 27.2059 L1610.98 27.2059 L1610.98 34.2544 Q1613.65 30.163 1617.26 28.1376 Q1620.91 26.1121 1625.65 26.1121 Q1633.46 26.1121 1637.47 30.9732 Q1641.48 35.7938 1641.48 45.1919 Z\" fill=\"#000000\" fill-rule=\"evenodd\" fill-opacity=\"1\" /><path clip-path=\"url(#clip360)\" d=\"M1673.93 32.4315 Q1667.94 32.4315 1664.45 37.1306 Q1660.97 41.7891 1660.97 49.9314 Q1660.97 58.0738 1664.41 62.7728 Q1667.9 67.4314 1673.93 67.4314 Q1679.89 67.4314 1683.37 62.7323 Q1686.85 58.0333 1686.85 49.9314 Q1686.85 41.8701 1683.37 37.1711 Q1679.89 32.4315 1673.93 32.4315 M1673.93 26.1121 Q1683.65 26.1121 1689.2 32.4315 Q1694.75 38.7509 1694.75 49.9314 Q1694.75 61.0714 1689.2 67.4314 Q1683.65 73.7508 1673.93 73.7508 Q1664.17 73.7508 1658.62 67.4314 Q1653.11 61.0714 1653.11 49.9314 Q1653.11 38.7509 1658.62 32.4315 Q1664.17 26.1121 1673.93 26.1121 Z\" fill=\"#000000\" fill-rule=\"evenodd\" fill-opacity=\"1\" /><path clip-path=\"url(#clip360)\" d=\"M1728.34 5.93863 L1736.4 5.93863 L1723.19 21.17 L1716.99 21.17 L1728.34 5.93863 M1736.03 28.5427 L1736.03 35.5912 Q1732.87 33.9709 1729.47 33.1607 Q1726.07 32.3505 1722.42 32.3505 Q1716.87 32.3505 1714.08 34.0519 Q1711.32 35.7533 1711.32 39.156 Q1711.32 41.7486 1713.31 43.2475 Q1715.29 44.7058 1721.29 46.0426 L1723.84 46.6097 Q1731.78 48.3111 1735.1 51.4303 Q1738.46 54.509 1738.46 60.0587 Q1738.46 66.3781 1733.44 70.0644 Q1728.46 73.7508 1719.71 73.7508 Q1716.06 73.7508 1712.09 73.0216 Q1708.16 72.3329 1703.79 70.9151 L1703.79 63.2184 Q1707.92 65.3654 1711.93 66.4591 Q1715.94 67.5124 1719.87 67.5124 Q1725.14 67.5124 1727.97 65.73 Q1730.81 63.9071 1730.81 60.6258 Q1730.81 57.5877 1728.74 55.9673 Q1726.72 54.3469 1719.79 52.8481 L1717.2 52.2405 Q1710.27 50.7821 1707.19 47.7845 Q1704.11 44.7463 1704.11 39.4801 Q1704.11 33.0797 1708.65 29.5959 Q1713.19 26.1121 1721.53 26.1121 Q1725.66 26.1121 1729.31 26.7198 Q1732.95 27.3274 1736.03 28.5427 Z\" fill=\"#000000\" fill-rule=\"evenodd\" fill-opacity=\"1\" /><path clip-path=\"url(#clip360)\" d=\"M1782.98 28.9478 L1782.98 35.9153 Q1779.82 34.1734 1776.62 33.3227 Q1773.46 32.4315 1770.22 32.4315 Q1762.97 32.4315 1758.96 37.0496 Q1754.95 41.6271 1754.95 49.9314 Q1754.95 58.2358 1758.96 62.8538 Q1762.97 67.4314 1770.22 67.4314 Q1773.46 67.4314 1776.62 66.5807 Q1779.82 65.6895 1782.98 63.9476 L1782.98 70.8341 Q1779.86 72.2924 1776.5 73.0216 Q1773.18 73.7508 1769.41 73.7508 Q1759.16 73.7508 1753.13 67.3098 Q1747.09 60.8689 1747.09 49.9314 Q1747.09 38.832 1753.17 32.472 Q1759.28 26.1121 1769.9 26.1121 Q1773.34 26.1121 1776.62 26.8413 Q1779.9 27.5299 1782.98 28.9478 Z\" fill=\"#000000\" fill-rule=\"evenodd\" fill-opacity=\"1\" /><path clip-path=\"url(#clip360)\" d=\"M1795.95 27.2059 L1803.4 27.2059 L1803.4 72.576 L1795.95 72.576 L1795.95 27.2059 M1795.95 9.54393 L1803.4 9.54393 L1803.4 18.9825 L1795.95 18.9825 L1795.95 9.54393 Z\" fill=\"#000000\" fill-rule=\"evenodd\" fill-opacity=\"1\" /><path clip-path=\"url(#clip360)\" d=\"M1862.95 32.4315 Q1856.95 32.4315 1853.47 37.1306 Q1849.98 41.7891 1849.98 49.9314 Q1849.98 58.0738 1853.43 62.7728 Q1856.91 67.4314 1862.95 67.4314 Q1868.9 67.4314 1872.39 62.7323 Q1875.87 58.0333 1875.87 49.9314 Q1875.87 41.8701 1872.39 37.1711 Q1868.9 32.4315 1862.95 32.4315 M1862.95 26.1121 Q1872.67 26.1121 1878.22 32.4315 Q1883.77 38.7509 1883.77 49.9314 Q1883.77 61.0714 1878.22 67.4314 Q1872.67 73.7508 1862.95 73.7508 Q1853.18 73.7508 1847.64 67.4314 Q1842.13 61.0714 1842.13 49.9314 Q1842.13 38.7509 1847.64 32.4315 Q1853.18 26.1121 1862.95 26.1121 Z\" fill=\"#000000\" fill-rule=\"evenodd\" fill-opacity=\"1\" /><path clip-path=\"url(#clip360)\" d=\"M1925.98 34.0924 L1925.98 9.54393 L1933.43 9.54393 L1933.43 72.576 L1925.98 72.576 L1925.98 65.7705 Q1923.63 69.8214 1920.02 71.8063 Q1916.46 73.7508 1911.44 73.7508 Q1903.21 73.7508 1898.03 67.1883 Q1892.88 60.6258 1892.88 49.9314 Q1892.88 39.2371 1898.03 32.6746 Q1903.21 26.1121 1911.44 26.1121 Q1916.46 26.1121 1920.02 28.0971 Q1923.63 30.0415 1925.98 34.0924 M1900.58 49.9314 Q1900.58 58.1548 1903.94 62.8538 Q1907.35 67.5124 1913.26 67.5124 Q1919.17 67.5124 1922.58 62.8538 Q1925.98 58.1548 1925.98 49.9314 Q1925.98 41.7081 1922.58 37.0496 Q1919.17 32.3505 1913.26 32.3505 Q1907.35 32.3505 1903.94 37.0496 Q1900.58 41.7081 1900.58 49.9314 Z\" fill=\"#000000\" fill-rule=\"evenodd\" fill-opacity=\"1\" /><path clip-path=\"url(#clip360)\" d=\"M1971.92 27.2059 L2007.32 27.2059 L2007.32 34.0114 L1979.29 66.6212 L2007.32 66.6212 L2007.32 72.576 L1970.9 72.576 L1970.9 65.7705 L1998.94 33.1607 L1971.92 33.1607 L1971.92 27.2059 Z\" fill=\"#000000\" fill-rule=\"evenodd\" fill-opacity=\"1\" /><path clip-path=\"url(#clip360)\" d=\"M2054.03 35.9153 Q2056.82 30.8922 2060.71 28.5022 Q2064.6 26.1121 2069.87 26.1121 Q2076.96 26.1121 2080.81 31.0947 Q2084.65 36.0368 2084.65 45.1919 L2084.65 72.576 L2077.16 72.576 L2077.16 45.4349 Q2077.16 38.913 2074.85 35.7533 Q2072.54 32.5936 2067.8 32.5936 Q2062.01 32.5936 2058.65 36.4419 Q2055.28 40.2903 2055.28 46.9338 L2055.28 72.576 L2047.79 72.576 L2047.79 45.4349 Q2047.79 38.8725 2045.48 35.7533 Q2043.17 32.5936 2038.35 32.5936 Q2032.64 32.5936 2029.28 36.4824 Q2025.92 40.3308 2025.92 46.9338 L2025.92 72.576 L2018.42 72.576 L2018.42 27.2059 L2025.92 27.2059 L2025.92 34.2544 Q2028.47 30.082 2032.03 28.0971 Q2035.6 26.1121 2040.5 26.1121 Q2045.44 26.1121 2048.88 28.6237 Q2052.37 31.1352 2054.03 35.9153 Z\" fill=\"#000000\" fill-rule=\"evenodd\" fill-opacity=\"1\" /><path clip-path=\"url(#clip360)\" d=\"M2099.52 27.2059 L2106.97 27.2059 L2106.97 72.576 L2099.52 72.576 L2099.52 27.2059 M2099.52 9.54393 L2106.97 9.54393 L2106.97 18.9825 L2099.52 18.9825 L2099.52 9.54393 Z\" fill=\"#000000\" fill-rule=\"evenodd\" fill-opacity=\"1\" /><path clip-path=\"url(#clip360)\" d=\"M2143.19 49.7694 Q2134.16 49.7694 2130.67 51.8354 Q2127.19 53.9013 2127.19 58.8839 Q2127.19 62.8538 2129.78 65.2034 Q2132.41 67.5124 2136.91 67.5124 Q2143.11 67.5124 2146.83 63.1374 Q2150.6 58.7219 2150.6 51.4303 L2150.6 49.7694 L2143.19 49.7694 M2158.06 46.6907 L2158.06 72.576 L2150.6 72.576 L2150.6 65.6895 Q2148.05 69.8214 2144.24 71.8063 Q2140.43 73.7508 2134.93 73.7508 Q2127.96 73.7508 2123.83 69.8619 Q2119.73 65.9325 2119.73 59.3701 Q2119.73 51.7138 2124.84 47.825 Q2129.98 43.9361 2140.15 43.9361 L2150.6 43.9361 L2150.6 43.2069 Q2150.6 38.0623 2147.2 35.2672 Q2143.84 32.4315 2137.72 32.4315 Q2133.83 32.4315 2130.15 33.3632 Q2126.46 34.295 2123.06 36.1584 L2123.06 29.2718 Q2127.15 27.692 2131 26.9223 Q2134.84 26.1121 2138.49 26.1121 Q2148.33 26.1121 2153.19 31.2163 Q2158.06 36.3204 2158.06 46.6907 Z\" fill=\"#000000\" fill-rule=\"evenodd\" fill-opacity=\"1\" /><path clip-path=\"url(#clip360)\" d=\"M2211.12 45.1919 L2211.12 72.576 L2203.67 72.576 L2203.67 45.4349 Q2203.67 38.994 2201.16 35.7938 Q2198.65 32.5936 2193.62 32.5936 Q2187.59 32.5936 2184.1 36.4419 Q2180.62 40.2903 2180.62 46.9338 L2180.62 72.576 L2173.13 72.576 L2173.13 27.2059 L2180.62 27.2059 L2180.62 34.2544 Q2183.29 30.163 2186.9 28.1376 Q2190.54 26.1121 2195.28 26.1121 Q2203.1 26.1121 2207.11 30.9732 Q2211.12 35.7938 2211.12 45.1919 Z\" fill=\"#000000\" fill-rule=\"evenodd\" fill-opacity=\"1\" /><path clip-path=\"url(#clip360)\" d=\"M2244.87 76.7889 Q2241.71 84.8907 2238.71 87.3618 Q2235.71 89.8329 2230.69 89.8329 L2224.73 89.8329 L2224.73 83.5945 L2229.11 83.5945 Q2232.19 83.5945 2233.89 82.1361 Q2235.59 80.6778 2237.66 75.2496 L2238.99 71.8468 L2220.64 27.2059 L2228.54 27.2059 L2242.72 62.6918 L2256.9 27.2059 L2264.8 27.2059 L2244.87 76.7889 Z\" fill=\"#000000\" fill-rule=\"evenodd\" fill-opacity=\"1\" /><path clip-path=\"url(#clip360)\" d=\"M2298.22 27.2059 L2333.62 27.2059 L2333.62 34.0114 L2305.59 66.6212 L2333.62 66.6212 L2333.62 72.576 L2297.2 72.576 L2297.2 65.7705 L2325.24 33.1607 L2298.22 33.1607 L2298.22 27.2059 Z\" fill=\"#000000\" fill-rule=\"evenodd\" fill-opacity=\"1\" /><path clip-path=\"url(#clip360)\" d=\"M2363.88 76.7889 Q2360.72 84.8907 2357.72 87.3618 Q2354.73 89.8329 2349.7 89.8329 L2343.75 89.8329 L2343.75 83.5945 L2348.12 83.5945 Q2351.2 83.5945 2352.9 82.1361 Q2354.61 80.6778 2356.67 75.2496 L2358.01 71.8468 L2339.66 27.2059 L2347.56 27.2059 L2361.74 62.6918 L2375.91 27.2059 L2383.81 27.2059 L2363.88 76.7889 Z\" fill=\"#000000\" fill-rule=\"evenodd\" fill-opacity=\"1\" /><path clip-path=\"url(#clip360)\" d=\"M2423.03 28.5427 L2423.03 35.5912 Q2419.87 33.9709 2416.46 33.1607 Q2413.06 32.3505 2409.41 32.3505 Q2403.86 32.3505 2401.07 34.0519 Q2398.31 35.7533 2398.31 39.156 Q2398.31 41.7486 2400.3 43.2475 Q2402.28 44.7058 2408.28 46.0426 L2410.83 46.6097 Q2418.77 48.3111 2422.09 51.4303 Q2425.46 54.509 2425.46 60.0587 Q2425.46 66.3781 2420.43 70.0644 Q2415.45 73.7508 2406.7 73.7508 Q2403.05 73.7508 2399.08 73.0216 Q2395.16 72.3329 2390.78 70.9151 L2390.78 63.2184 Q2394.91 65.3654 2398.92 66.4591 Q2402.93 67.5124 2406.86 67.5124 Q2412.13 67.5124 2414.96 65.73 Q2417.8 63.9071 2417.8 60.6258 Q2417.8 57.5877 2415.73 55.9673 Q2413.71 54.3469 2406.78 52.8481 L2404.19 52.2405 Q2397.26 50.7821 2394.18 47.7845 Q2391.1 44.7463 2391.1 39.4801 Q2391.1 33.0797 2395.64 29.5959 Q2400.18 26.1121 2408.52 26.1121 Q2412.66 26.1121 2416.3 26.7198 Q2419.95 27.3274 2423.03 28.5427 Z\" fill=\"#000000\" fill-rule=\"evenodd\" fill-opacity=\"1\" /><path clip-path=\"url(#clip360)\" d=\"M2437.04 9.54393 L2444.54 9.54393 L2444.54 46.7717 L2466.78 27.2059 L2476.29 27.2059 L2452.23 48.4326 L2477.31 72.576 L2467.59 72.576 L2444.54 50.4176 L2444.54 72.576 L2437.04 72.576 L2437.04 9.54393 Z\" fill=\"#000000\" fill-rule=\"evenodd\" fill-opacity=\"1\" /><path clip-path=\"url(#clip360)\" d=\"M2482.05 54.671 L2482.05 27.2059 L2489.5 27.2059 L2489.5 54.3874 Q2489.5 60.8284 2492.01 64.0691 Q2494.52 67.2693 2499.55 67.2693 Q2505.58 67.2693 2509.07 63.421 Q2512.59 59.5726 2512.59 52.9291 L2512.59 27.2059 L2520.04 27.2059 L2520.04 72.576 L2512.59 72.576 L2512.59 65.6084 Q2509.88 69.7404 2506.27 71.7658 Q2502.71 73.7508 2497.97 73.7508 Q2490.15 73.7508 2486.1 68.8897 Q2482.05 64.0286 2482.05 54.671 M2500.8 26.1121 L2500.8 26.1121 Z\" fill=\"#000000\" fill-rule=\"evenodd\" fill-opacity=\"1\" /><path clip-path=\"url(#clip360)\" d=\"M2558.53 27.2059 L2593.93 27.2059 L2593.93 34.0114 L2565.9 66.6212 L2593.93 66.6212 L2593.93 72.576 L2557.52 72.576 L2557.52 65.7705 L2585.55 33.1607 L2558.53 33.1607 L2558.53 27.2059 Z\" fill=\"#000000\" fill-rule=\"evenodd\" fill-opacity=\"1\" /><path clip-path=\"url(#clip360)\" d=\"M2644.12 48.0275 L2644.12 51.6733 L2609.85 51.6733 Q2610.34 59.3701 2614.47 63.421 Q2618.64 67.4314 2626.06 67.4314 Q2630.35 67.4314 2634.36 66.3781 Q2638.41 65.3249 2642.38 63.2184 L2642.38 70.267 Q2638.37 71.9684 2634.16 72.8596 Q2629.95 73.7508 2625.61 73.7508 Q2614.75 73.7508 2608.39 67.4314 Q2602.08 61.1119 2602.08 50.3365 Q2602.08 39.1965 2608.07 32.6746 Q2614.11 26.1121 2624.31 26.1121 Q2633.47 26.1121 2638.78 32.0264 Q2644.12 37.9003 2644.12 48.0275 M2636.67 45.84 Q2636.59 39.7232 2633.23 36.0774 Q2629.91 32.4315 2624.4 32.4315 Q2618.16 32.4315 2614.39 35.9558 Q2610.66 39.4801 2610.1 45.8805 L2636.67 45.84 Z\" fill=\"#000000\" fill-rule=\"evenodd\" fill-opacity=\"1\" /><path clip-path=\"url(#clip360)\" d=\"M2711.65 28.5427 L2711.65 35.5912 Q2708.49 33.9709 2705.09 33.1607 Q2701.69 32.3505 2698.04 32.3505 Q2692.49 32.3505 2689.7 34.0519 Q2686.94 35.7533 2686.94 39.156 Q2686.94 41.7486 2688.93 43.2475 Q2690.91 44.7058 2696.91 46.0426 L2699.46 46.6097 Q2707.4 48.3111 2710.72 51.4303 Q2714.08 54.509 2714.08 60.0587 Q2714.08 66.3781 2709.06 70.0644 Q2704.08 73.7508 2695.33 73.7508 Q2691.68 73.7508 2687.71 73.0216 Q2683.78 72.3329 2679.41 70.9151 L2679.41 63.2184 Q2683.54 65.3654 2687.55 66.4591 Q2691.56 67.5124 2695.49 67.5124 Q2700.76 67.5124 2703.59 65.73 Q2706.43 63.9071 2706.43 60.6258 Q2706.43 57.5877 2704.36 55.9673 Q2702.34 54.3469 2695.41 52.8481 L2692.82 52.2405 Q2685.89 50.7821 2682.81 47.7845 Q2679.73 44.7463 2679.73 39.4801 Q2679.73 33.0797 2684.27 29.5959 Q2688.81 26.1121 2697.15 26.1121 Q2701.28 26.1121 2704.93 26.7198 Q2708.57 27.3274 2711.65 28.5427 Z\" fill=\"#000000\" fill-rule=\"evenodd\" fill-opacity=\"1\" /><path clip-path=\"url(#clip360)\" d=\"M2733.16 65.7705 L2733.16 89.8329 L2725.67 89.8329 L2725.67 27.2059 L2733.16 27.2059 L2733.16 34.0924 Q2735.51 30.0415 2739.08 28.0971 Q2742.68 26.1121 2747.66 26.1121 Q2755.93 26.1121 2761.07 32.6746 Q2766.26 39.2371 2766.26 49.9314 Q2766.26 60.6258 2761.07 67.1883 Q2755.93 73.7508 2747.66 73.7508 Q2742.68 73.7508 2739.08 71.8063 Q2735.51 69.8214 2733.16 65.7705 M2758.52 49.9314 Q2758.52 41.7081 2755.12 37.0496 Q2751.76 32.3505 2745.84 32.3505 Q2739.93 32.3505 2736.52 37.0496 Q2733.16 41.7081 2733.16 49.9314 Q2733.16 58.1548 2736.52 62.8538 Q2739.93 67.5124 2745.84 67.5124 Q2751.76 67.5124 2755.12 62.8538 Q2758.52 58.1548 2758.52 49.9314 Z\" fill=\"#000000\" fill-rule=\"evenodd\" fill-opacity=\"1\" /><path clip-path=\"url(#clip360)\" d=\"M2804.9 34.1734 Q2803.65 33.4443 2802.15 33.1202 Q2800.69 32.7556 2798.91 32.7556 Q2792.59 32.7556 2789.19 36.8875 Q2785.82 40.9789 2785.82 48.6757 L2785.82 72.576 L2778.33 72.576 L2778.33 27.2059 L2785.82 27.2059 L2785.82 34.2544 Q2788.17 30.1225 2791.94 28.1376 Q2795.71 26.1121 2801.1 26.1121 Q2801.87 26.1121 2802.8 26.2337 Q2803.73 26.3147 2804.86 26.5172 L2804.9 34.1734 Z\" fill=\"#000000\" fill-rule=\"evenodd\" fill-opacity=\"1\" /><path clip-path=\"url(#clip360)\" d=\"M2809.48 27.2059 L2844.89 27.2059 L2844.89 34.0114 L2816.85 66.6212 L2844.89 66.6212 L2844.89 72.576 L2808.47 72.576 L2808.47 65.7705 L2836.5 33.1607 L2809.48 33.1607 L2809.48 27.2059 Z\" fill=\"#000000\" fill-rule=\"evenodd\" fill-opacity=\"1\" /><path clip-path=\"url(#clip360)\" d=\"M2895.08 48.0275 L2895.08 51.6733 L2860.81 51.6733 Q2861.29 59.3701 2865.42 63.421 Q2869.6 67.4314 2877.01 67.4314 Q2881.3 67.4314 2885.31 66.3781 Q2889.37 65.3249 2893.34 63.2184 L2893.34 70.267 Q2889.33 71.9684 2885.11 72.8596 Q2880.9 73.7508 2876.56 73.7508 Q2865.71 73.7508 2859.35 67.4314 Q2853.03 61.1119 2853.03 50.3365 Q2853.03 39.1965 2859.02 32.6746 Q2865.06 26.1121 2875.27 26.1121 Q2884.42 26.1121 2889.73 32.0264 Q2895.08 37.9003 2895.08 48.0275 M2887.62 45.84 Q2887.54 39.7232 2884.18 36.0774 Q2880.86 32.4315 2875.35 32.4315 Q2869.11 32.4315 2865.34 35.9558 Q2861.62 39.4801 2861.05 45.8805 L2887.62 45.84 Z\" fill=\"#000000\" fill-rule=\"evenodd\" fill-opacity=\"1\" /><path clip-path=\"url(#clip360)\" d=\"M2937.17 34.0924 L2937.17 9.54393 L2944.62 9.54393 L2944.62 72.576 L2937.17 72.576 L2937.17 65.7705 Q2934.82 69.8214 2931.21 71.8063 Q2927.65 73.7508 2922.62 73.7508 Q2914.4 73.7508 2909.21 67.1883 Q2904.07 60.6258 2904.07 49.9314 Q2904.07 39.2371 2909.21 32.6746 Q2914.4 26.1121 2922.62 26.1121 Q2927.65 26.1121 2931.21 28.0971 Q2934.82 30.0415 2937.17 34.0924 M2911.77 49.9314 Q2911.77 58.1548 2915.13 62.8538 Q2918.53 67.5124 2924.45 67.5124 Q2930.36 67.5124 2933.76 62.8538 Q2937.17 58.1548 2937.17 49.9314 Q2937.17 41.7081 2933.76 37.0496 Q2930.36 32.3505 2924.45 32.3505 Q2918.53 32.3505 2915.13 37.0496 Q2911.77 41.7081 2911.77 49.9314 Z\" fill=\"#000000\" fill-rule=\"evenodd\" fill-opacity=\"1\" /><path clip-path=\"url(#clip360)\" d=\"M2980.59 49.7694 Q2971.56 49.7694 2968.07 51.8354 Q2964.59 53.9013 2964.59 58.8839 Q2964.59 62.8538 2967.18 65.2034 Q2969.82 67.5124 2974.31 67.5124 Q2980.51 67.5124 2984.24 63.1374 Q2988.01 58.7219 2988.01 51.4303 L2988.01 49.7694 L2980.59 49.7694 M2995.46 46.6907 L2995.46 72.576 L2988.01 72.576 L2988.01 65.6895 Q2985.45 69.8214 2981.65 71.8063 Q2977.84 73.7508 2972.33 73.7508 Q2965.36 73.7508 2961.23 69.8619 Q2957.14 65.9325 2957.14 59.3701 Q2957.14 51.7138 2962.24 47.825 Q2967.39 43.9361 2977.55 43.9361 L2988.01 43.9361 L2988.01 43.2069 Q2988.01 38.0623 2984.6 35.2672 Q2981.24 32.4315 2975.12 32.4315 Q2971.23 32.4315 2967.55 33.3632 Q2963.86 34.295 2960.46 36.1584 L2960.46 29.2718 Q2964.55 27.692 2968.4 26.9223 Q2972.25 26.1121 2975.89 26.1121 Q2985.74 26.1121 2990.6 31.2163 Q2995.46 36.3204 2995.46 46.6907 Z\" fill=\"#000000\" fill-rule=\"evenodd\" fill-opacity=\"1\" /><path clip-path=\"url(#clip360)\" d=\"M3020.86 9.54393 L3028.31 9.54393 L3028.31 18.9825 L3020.86 18.9825 L3020.86 9.54393 M3024.67 26.1121 L3024.67 26.1121 M3007.57 27.2059 L3042.98 27.2059 L3042.98 34.0114 L3014.94 66.6212 L3042.98 66.6212 L3042.98 72.576 L3006.56 72.576 L3006.56 65.7705 L3034.59 33.1607 L3007.57 33.1607 L3007.57 27.2059 Z\" fill=\"#000000\" fill-rule=\"evenodd\" fill-opacity=\"1\" /><path clip-path=\"url(#clip360)\" d=\"M3073.24 76.7889 Q3070.08 84.8907 3067.08 87.3618 Q3064.08 89.8329 3059.06 89.8329 L3053.1 89.8329 L3053.1 83.5945 L3057.48 83.5945 Q3060.56 83.5945 3062.26 82.1361 Q3063.96 80.6778 3066.03 75.2496 L3067.36 71.8468 L3049.01 27.2059 L3056.91 27.2059 L3071.09 62.6918 L3085.27 27.2059 L3093.17 27.2059 L3073.24 76.7889 Z\" fill=\"#000000\" fill-rule=\"evenodd\" fill-opacity=\"1\" /><polyline clip-path=\"url(#clip362)\" style=\"stroke:#009af9; stroke-linecap:round; stroke-linejoin:round; stroke-width:4; stroke-opacity:1; fill:none\" points=\"357.895,623.122 538.792,715.296 719.689,811.043 1262.38,1151.83 2166.87,1625.04 3071.35,2146.22 \"/>\n",
       "<polyline clip-path=\"url(#clip362)\" style=\"stroke:#e26f46; stroke-linecap:round; stroke-linejoin:round; stroke-width:4; stroke-opacity:1; fill:none\" points=\"357.895,189.727 538.792,289.63 719.689,387.21 1262.38,692.665 2166.87,1211.26 3071.35,1732.71 \"/>\n",
       "<path clip-path=\"url(#clip360)\" d=\"M2053.24 355.682 L3056.88 355.682 L3056.88 200.162 L2053.24 200.162  Z\" fill=\"#ffffff\" fill-rule=\"evenodd\" fill-opacity=\"1\"/>\n",
       "<polyline clip-path=\"url(#clip360)\" style=\"stroke:#000000; stroke-linecap:round; stroke-linejoin:round; stroke-width:4; stroke-opacity:1; fill:none\" points=\"2053.24,355.682 3056.88,355.682 3056.88,200.162 2053.24,200.162 2053.24,355.682 \"/>\n",
       "<polyline clip-path=\"url(#clip360)\" style=\"stroke:#009af9; stroke-linecap:round; stroke-linejoin:round; stroke-width:4; stroke-opacity:1; fill:none\" points=\"2085.2,252.002 2276.95,252.002 \"/>\n",
       "<path clip-path=\"url(#clip360)\" d=\"M2313.58 238.564 L2313.58 251.55 L2319.46 251.55 Q2322.73 251.55 2324.51 249.861 Q2326.29 248.171 2326.29 245.046 Q2326.29 241.944 2324.51 240.254 Q2322.73 238.564 2319.46 238.564 L2313.58 238.564 M2308.91 234.722 L2319.46 234.722 Q2325.27 234.722 2328.24 237.361 Q2331.22 239.976 2331.22 245.046 Q2331.22 250.161 2328.24 252.777 Q2325.27 255.393 2319.46 255.393 L2313.58 255.393 L2313.58 269.282 L2308.91 269.282 L2308.91 234.722 Z\" fill=\"#000000\" fill-rule=\"evenodd\" fill-opacity=\"1\" /><path clip-path=\"url(#clip360)\" d=\"M2351.5 247.337 Q2350.78 246.921 2349.93 246.736 Q2349.09 246.527 2348.07 246.527 Q2344.46 246.527 2342.52 248.888 Q2340.6 251.226 2340.6 255.624 L2340.6 269.282 L2336.31 269.282 L2336.31 243.356 L2340.6 243.356 L2340.6 247.384 Q2341.94 245.023 2344.09 243.888 Q2346.25 242.731 2349.32 242.731 Q2349.76 242.731 2350.3 242.8 Q2350.83 242.847 2351.48 242.962 L2351.5 247.337 Z\" fill=\"#000000\" fill-rule=\"evenodd\" fill-opacity=\"1\" /><path clip-path=\"url(#clip360)\" d=\"M2364.97 246.342 Q2361.55 246.342 2359.56 249.027 Q2357.56 251.689 2357.56 256.342 Q2357.56 260.995 2359.53 263.68 Q2361.52 266.342 2364.97 266.342 Q2368.37 266.342 2370.37 263.657 Q2372.36 260.972 2372.36 256.342 Q2372.36 251.736 2370.37 249.05 Q2368.37 246.342 2364.97 246.342 M2364.97 242.731 Q2370.53 242.731 2373.7 246.342 Q2376.87 249.953 2376.87 256.342 Q2376.87 262.708 2373.7 266.342 Q2370.53 269.953 2364.97 269.953 Q2359.39 269.953 2356.22 266.342 Q2353.07 262.708 2353.07 256.342 Q2353.07 249.953 2356.22 246.342 Q2359.39 242.731 2364.97 242.731 Z\" fill=\"#000000\" fill-rule=\"evenodd\" fill-opacity=\"1\" /><path clip-path=\"url(#clip360)\" d=\"M2397.05 233.263 L2397.05 236.805 L2392.98 236.805 Q2390.69 236.805 2389.79 237.731 Q2388.91 238.657 2388.91 241.064 L2388.91 243.356 L2395.92 243.356 L2395.92 246.666 L2388.91 246.666 L2388.91 269.282 L2384.62 269.282 L2384.62 246.666 L2380.55 246.666 L2380.55 243.356 L2384.62 243.356 L2384.62 241.55 Q2384.62 237.222 2386.64 235.254 Q2388.65 233.263 2393.03 233.263 L2397.05 233.263 Z\" fill=\"#000000\" fill-rule=\"evenodd\" fill-opacity=\"1\" /><path clip-path=\"url(#clip360)\" d=\"M2400.62 243.356 L2404.88 243.356 L2404.88 269.282 L2400.62 269.282 L2400.62 243.356 M2400.62 233.263 L2404.88 233.263 L2404.88 238.657 L2400.62 238.657 L2400.62 233.263 Z\" fill=\"#000000\" fill-rule=\"evenodd\" fill-opacity=\"1\" /><path clip-path=\"url(#clip360)\" d=\"M2418 235.995 L2418 243.356 L2426.78 243.356 L2426.78 246.666 L2418 246.666 L2418 260.74 Q2418 263.911 2418.86 264.814 Q2419.74 265.717 2422.4 265.717 L2426.78 265.717 L2426.78 269.282 L2422.4 269.282 Q2417.47 269.282 2415.6 267.453 Q2413.72 265.601 2413.72 260.74 L2413.72 246.666 L2410.6 246.666 L2410.6 243.356 L2413.72 243.356 L2413.72 235.995 L2418 235.995 Z\" fill=\"#000000\" fill-rule=\"evenodd\" fill-opacity=\"1\" /><path clip-path=\"url(#clip360)\" d=\"M2451.57 265.393 L2451.57 279.143 L2447.29 279.143 L2447.29 243.356 L2451.57 243.356 L2451.57 247.291 Q2452.91 244.976 2454.95 243.865 Q2457.01 242.731 2459.86 242.731 Q2464.58 242.731 2467.52 246.481 Q2470.48 250.231 2470.48 256.342 Q2470.48 262.453 2467.52 266.203 Q2464.58 269.953 2459.86 269.953 Q2457.01 269.953 2454.95 268.842 Q2452.91 267.708 2451.57 265.393 M2466.06 256.342 Q2466.06 251.643 2464.11 248.981 Q2462.19 246.296 2458.81 246.296 Q2455.43 246.296 2453.49 248.981 Q2451.57 251.643 2451.57 256.342 Q2451.57 261.041 2453.49 263.726 Q2455.43 266.388 2458.81 266.388 Q2462.19 266.388 2464.11 263.726 Q2466.06 261.041 2466.06 256.342 Z\" fill=\"#000000\" fill-rule=\"evenodd\" fill-opacity=\"1\" /><path clip-path=\"url(#clip360)\" d=\"M2492.56 247.337 Q2491.85 246.921 2490.99 246.736 Q2490.16 246.527 2489.14 246.527 Q2485.53 246.527 2483.58 248.888 Q2481.66 251.226 2481.66 255.624 L2481.66 269.282 L2477.38 269.282 L2477.38 243.356 L2481.66 243.356 L2481.66 247.384 Q2483 245.023 2485.16 243.888 Q2487.31 242.731 2490.39 242.731 Q2490.83 242.731 2491.36 242.8 Q2491.89 242.847 2492.54 242.962 L2492.56 247.337 Z\" fill=\"#000000\" fill-rule=\"evenodd\" fill-opacity=\"1\" /><path clip-path=\"url(#clip360)\" d=\"M2495.18 243.356 L2515.41 243.356 L2515.41 247.245 L2499.39 265.879 L2515.41 265.879 L2515.41 269.282 L2494.6 269.282 L2494.6 265.393 L2510.62 246.759 L2495.18 246.759 L2495.18 243.356 Z\" fill=\"#000000\" fill-rule=\"evenodd\" fill-opacity=\"1\" /><path clip-path=\"url(#clip360)\" d=\"M2532.7 271.689 Q2530.9 276.319 2529.18 277.731 Q2527.47 279.143 2524.6 279.143 L2521.2 279.143 L2521.2 275.578 L2523.7 275.578 Q2525.46 275.578 2526.43 274.745 Q2527.4 273.911 2528.58 270.809 L2529.35 268.865 L2518.86 243.356 L2523.37 243.356 L2531.48 263.634 L2539.58 243.356 L2544.09 243.356 L2532.7 271.689 Z\" fill=\"#000000\" fill-rule=\"evenodd\" fill-opacity=\"1\" /><path clip-path=\"url(#clip360)\" d=\"M2569.16 265.393 L2569.16 279.143 L2564.88 279.143 L2564.88 243.356 L2569.16 243.356 L2569.16 247.291 Q2570.5 244.976 2572.54 243.865 Q2574.6 242.731 2577.45 242.731 Q2582.17 242.731 2585.11 246.481 Q2588.07 250.231 2588.07 256.342 Q2588.07 262.453 2585.11 266.203 Q2582.17 269.953 2577.45 269.953 Q2574.6 269.953 2572.54 268.842 Q2570.5 267.708 2569.16 265.393 M2583.65 256.342 Q2583.65 251.643 2581.71 248.981 Q2579.79 246.296 2576.41 246.296 Q2573.03 246.296 2571.08 248.981 Q2569.16 251.643 2569.16 256.342 Q2569.16 261.041 2571.08 263.726 Q2573.03 266.388 2576.41 266.388 Q2579.79 266.388 2581.71 263.726 Q2583.65 261.041 2583.65 256.342 Z\" fill=\"#000000\" fill-rule=\"evenodd\" fill-opacity=\"1\" /><path clip-path=\"url(#clip360)\" d=\"M2595.13 243.356 L2599.39 243.356 L2599.39 269.282 L2595.13 269.282 L2595.13 243.356 M2595.13 233.263 L2599.39 233.263 L2599.39 238.657 L2595.13 238.657 L2595.13 233.263 Z\" fill=\"#000000\" fill-rule=\"evenodd\" fill-opacity=\"1\" /><path clip-path=\"url(#clip360)\" d=\"M2630.48 255.254 L2630.48 257.337 L2610.9 257.337 Q2611.17 261.735 2613.54 264.05 Q2615.92 266.342 2620.16 266.342 Q2622.61 266.342 2624.9 265.74 Q2627.22 265.138 2629.48 263.935 L2629.48 267.962 Q2627.19 268.934 2624.79 269.444 Q2622.38 269.953 2619.9 269.953 Q2613.7 269.953 2610.06 266.342 Q2606.45 262.731 2606.45 256.573 Q2606.45 250.208 2609.88 246.481 Q2613.33 242.731 2619.16 242.731 Q2624.39 242.731 2627.42 246.111 Q2630.48 249.467 2630.48 255.254 M2626.22 254.004 Q2626.17 250.509 2624.25 248.425 Q2622.35 246.342 2619.21 246.342 Q2615.64 246.342 2613.49 248.356 Q2611.36 250.37 2611.04 254.027 L2626.22 254.004 Z\" fill=\"#000000\" fill-rule=\"evenodd\" fill-opacity=\"1\" /><path clip-path=\"url(#clip360)\" d=\"M2652.49 247.337 Q2651.78 246.921 2650.92 246.736 Q2650.09 246.527 2649.07 246.527 Q2645.46 246.527 2643.51 248.888 Q2641.59 251.226 2641.59 255.624 L2641.59 269.282 L2637.31 269.282 L2637.31 243.356 L2641.59 243.356 L2641.59 247.384 Q2642.93 245.023 2645.09 243.888 Q2647.24 242.731 2650.32 242.731 Q2650.76 242.731 2651.29 242.8 Q2651.82 242.847 2652.47 242.962 L2652.49 247.337 Z\" fill=\"#000000\" fill-rule=\"evenodd\" fill-opacity=\"1\" /><path clip-path=\"url(#clip360)\" d=\"M2654.48 243.356 L2658.74 243.356 L2664.07 263.587 L2669.37 243.356 L2674.39 243.356 L2679.72 263.587 L2685.02 243.356 L2689.28 243.356 L2682.49 269.282 L2677.47 269.282 L2671.89 248.032 L2666.29 269.282 L2661.27 269.282 L2654.48 243.356 Z\" fill=\"#000000\" fill-rule=\"evenodd\" fill-opacity=\"1\" /><path clip-path=\"url(#clip360)\" d=\"M2705.78 246.342 Q2702.35 246.342 2700.36 249.027 Q2698.37 251.689 2698.37 256.342 Q2698.37 260.995 2700.34 263.68 Q2702.33 266.342 2705.78 266.342 Q2709.18 266.342 2711.17 263.657 Q2713.16 260.972 2713.16 256.342 Q2713.16 251.736 2711.17 249.05 Q2709.18 246.342 2705.78 246.342 M2705.78 242.731 Q2711.34 242.731 2714.51 246.342 Q2717.68 249.953 2717.68 256.342 Q2717.68 262.708 2714.51 266.342 Q2711.34 269.953 2705.78 269.953 Q2700.2 269.953 2697.03 266.342 Q2693.88 262.708 2693.88 256.342 Q2693.88 249.953 2697.03 246.342 Q2700.2 242.731 2705.78 242.731 Z\" fill=\"#000000\" fill-rule=\"evenodd\" fill-opacity=\"1\" /><path clip-path=\"url(#clip360)\" d=\"M2728.95 235.995 L2728.95 243.356 L2737.72 243.356 L2737.72 246.666 L2728.95 246.666 L2728.95 260.74 Q2728.95 263.911 2729.81 264.814 Q2730.69 265.717 2733.35 265.717 L2737.72 265.717 L2737.72 269.282 L2733.35 269.282 Q2728.42 269.282 2726.54 267.453 Q2724.67 265.601 2724.67 260.74 L2724.67 246.666 L2721.54 246.666 L2721.54 243.356 L2724.67 243.356 L2724.67 235.995 L2728.95 235.995 Z\" fill=\"#000000\" fill-rule=\"evenodd\" fill-opacity=\"1\" /><path clip-path=\"url(#clip360)\" d=\"M2764.88 253.634 L2764.88 269.282 L2760.62 269.282 L2760.62 253.773 Q2760.62 250.092 2759.18 248.263 Q2757.75 246.435 2754.88 246.435 Q2751.43 246.435 2749.44 248.634 Q2747.45 250.833 2747.45 254.629 L2747.45 269.282 L2743.16 269.282 L2743.16 243.356 L2747.45 243.356 L2747.45 247.384 Q2748.97 245.046 2751.03 243.888 Q2753.12 242.731 2755.83 242.731 Q2760.29 242.731 2762.59 245.509 Q2764.88 248.263 2764.88 253.634 Z\" fill=\"#000000\" fill-rule=\"evenodd\" fill-opacity=\"1\" /><path clip-path=\"url(#clip360)\" d=\"M2795.55 255.254 L2795.55 257.337 L2775.96 257.337 Q2776.24 261.735 2778.6 264.05 Q2780.99 266.342 2785.22 266.342 Q2787.68 266.342 2789.97 265.74 Q2792.28 265.138 2794.55 263.935 L2794.55 267.962 Q2792.26 268.934 2789.85 269.444 Q2787.45 269.953 2784.97 269.953 Q2778.77 269.953 2775.13 266.342 Q2771.52 262.731 2771.52 256.573 Q2771.52 250.208 2774.95 246.481 Q2778.4 242.731 2784.23 242.731 Q2789.46 242.731 2792.49 246.111 Q2795.55 249.467 2795.55 255.254 M2791.29 254.004 Q2791.24 250.509 2789.32 248.425 Q2787.42 246.342 2784.28 246.342 Q2780.71 246.342 2778.56 248.356 Q2776.43 250.37 2776.1 254.027 L2791.29 254.004 Z\" fill=\"#000000\" fill-rule=\"evenodd\" fill-opacity=\"1\" /><path clip-path=\"url(#clip360)\" d=\"M2802.54 243.356 L2806.8 243.356 L2806.8 269.745 Q2806.8 274.698 2804.9 276.921 Q2803.02 279.143 2798.84 279.143 L2797.21 279.143 L2797.21 275.532 L2798.35 275.532 Q2800.78 275.532 2801.66 274.397 Q2802.54 273.286 2802.54 269.745 L2802.54 243.356 M2802.54 233.263 L2806.8 233.263 L2806.8 238.657 L2802.54 238.657 L2802.54 233.263 Z\" fill=\"#000000\" fill-rule=\"evenodd\" fill-opacity=\"1\" /><path clip-path=\"url(#clip360)\" d=\"M2849.44 244.351 L2849.44 248.333 Q2847.63 247.337 2845.8 246.851 Q2844 246.342 2842.15 246.342 Q2838 246.342 2835.71 248.981 Q2833.42 251.597 2833.42 256.342 Q2833.42 261.087 2835.71 263.726 Q2838 266.342 2842.15 266.342 Q2844 266.342 2845.8 265.856 Q2847.63 265.347 2849.44 264.351 L2849.44 268.286 Q2847.65 269.12 2845.73 269.536 Q2843.83 269.953 2841.68 269.953 Q2835.83 269.953 2832.38 266.272 Q2828.93 262.592 2828.93 256.342 Q2828.93 249.999 2832.4 246.365 Q2835.9 242.731 2841.96 242.731 Q2843.93 242.731 2845.8 243.148 Q2847.68 243.541 2849.44 244.351 Z\" fill=\"#000000\" fill-rule=\"evenodd\" fill-opacity=\"1\" /><path clip-path=\"url(#clip360)\" d=\"M2879.02 255.254 L2879.02 257.337 L2859.44 257.337 Q2859.71 261.735 2862.08 264.05 Q2864.46 266.342 2868.7 266.342 Q2871.15 266.342 2873.44 265.74 Q2875.76 265.138 2878.02 263.935 L2878.02 267.962 Q2875.73 268.934 2873.33 269.444 Q2870.92 269.953 2868.44 269.953 Q2862.24 269.953 2858.6 266.342 Q2854.99 262.731 2854.99 256.573 Q2854.99 250.208 2858.42 246.481 Q2861.87 242.731 2867.7 242.731 Q2872.93 242.731 2875.96 246.111 Q2879.02 249.467 2879.02 255.254 M2874.76 254.004 Q2874.71 250.509 2872.79 248.425 Q2870.89 246.342 2867.75 246.342 Q2864.18 246.342 2862.03 248.356 Q2859.9 250.37 2859.58 254.027 L2874.76 254.004 Z\" fill=\"#000000\" fill-rule=\"evenodd\" fill-opacity=\"1\" /><path clip-path=\"url(#clip360)\" d=\"M2907.56 253.634 L2907.56 269.282 L2903.3 269.282 L2903.3 253.773 Q2903.3 250.092 2901.87 248.263 Q2900.43 246.435 2897.56 246.435 Q2894.11 246.435 2892.12 248.634 Q2890.13 250.833 2890.13 254.629 L2890.13 269.282 L2885.85 269.282 L2885.85 243.356 L2890.13 243.356 L2890.13 247.384 Q2891.66 245.046 2893.72 243.888 Q2895.8 242.731 2898.51 242.731 Q2902.98 242.731 2905.27 245.509 Q2907.56 248.263 2907.56 253.634 Z\" fill=\"#000000\" fill-rule=\"evenodd\" fill-opacity=\"1\" /><path clip-path=\"url(#clip360)\" d=\"M2916.06 243.356 L2920.32 243.356 L2920.32 269.282 L2916.06 269.282 L2916.06 243.356 M2916.06 233.263 L2920.32 233.263 L2920.32 238.657 L2916.06 238.657 L2916.06 233.263 Z\" fill=\"#000000\" fill-rule=\"evenodd\" fill-opacity=\"1\" /><path clip-path=\"url(#clip360)\" d=\"M2951.4 255.254 L2951.4 257.337 L2931.82 257.337 Q2932.1 261.735 2934.46 264.05 Q2936.84 266.342 2941.08 266.342 Q2943.53 266.342 2945.83 265.74 Q2948.14 265.138 2950.41 263.935 L2950.41 267.962 Q2948.12 268.934 2945.71 269.444 Q2943.3 269.953 2940.83 269.953 Q2934.62 269.953 2930.99 266.342 Q2927.38 262.731 2927.38 256.573 Q2927.38 250.208 2930.8 246.481 Q2934.25 242.731 2940.08 242.731 Q2945.32 242.731 2948.35 246.111 Q2951.4 249.467 2951.4 255.254 M2947.14 254.004 Q2947.1 250.509 2945.18 248.425 Q2943.28 246.342 2940.13 246.342 Q2936.57 246.342 2934.41 248.356 Q2932.28 250.37 2931.96 254.027 L2947.14 254.004 Z\" fill=\"#000000\" fill-rule=\"evenodd\" fill-opacity=\"1\" /><polyline clip-path=\"url(#clip360)\" style=\"stroke:#e26f46; stroke-linecap:round; stroke-linejoin:round; stroke-width:4; stroke-opacity:1; fill:none\" points=\"2085.2,303.842 2276.95,303.842 \"/>\n",
       "<path clip-path=\"url(#clip360)\" d=\"M2313.58 290.404 L2313.58 303.39 L2319.46 303.39 Q2322.73 303.39 2324.51 301.701 Q2326.29 300.011 2326.29 296.886 Q2326.29 293.784 2324.51 292.094 Q2322.73 290.404 2319.46 290.404 L2313.58 290.404 M2308.91 286.562 L2319.46 286.562 Q2325.27 286.562 2328.24 289.201 Q2331.22 291.816 2331.22 296.886 Q2331.22 302.001 2328.24 304.617 Q2325.27 307.233 2319.46 307.233 L2313.58 307.233 L2313.58 321.122 L2308.91 321.122 L2308.91 286.562 Z\" fill=\"#000000\" fill-rule=\"evenodd\" fill-opacity=\"1\" /><path clip-path=\"url(#clip360)\" d=\"M2351.5 299.177 Q2350.78 298.761 2349.93 298.576 Q2349.09 298.367 2348.07 298.367 Q2344.46 298.367 2342.52 300.728 Q2340.6 303.066 2340.6 307.464 L2340.6 321.122 L2336.31 321.122 L2336.31 295.196 L2340.6 295.196 L2340.6 299.224 Q2341.94 296.863 2344.09 295.728 Q2346.25 294.571 2349.32 294.571 Q2349.76 294.571 2350.3 294.64 Q2350.83 294.687 2351.48 294.802 L2351.5 299.177 Z\" fill=\"#000000\" fill-rule=\"evenodd\" fill-opacity=\"1\" /><path clip-path=\"url(#clip360)\" d=\"M2364.97 298.182 Q2361.55 298.182 2359.56 300.867 Q2357.56 303.529 2357.56 308.182 Q2357.56 312.835 2359.53 315.52 Q2361.52 318.182 2364.97 318.182 Q2368.37 318.182 2370.37 315.497 Q2372.36 312.812 2372.36 308.182 Q2372.36 303.576 2370.37 300.89 Q2368.37 298.182 2364.97 298.182 M2364.97 294.571 Q2370.53 294.571 2373.7 298.182 Q2376.87 301.793 2376.87 308.182 Q2376.87 314.548 2373.7 318.182 Q2370.53 321.793 2364.97 321.793 Q2359.39 321.793 2356.22 318.182 Q2353.07 314.548 2353.07 308.182 Q2353.07 301.793 2356.22 298.182 Q2359.39 294.571 2364.97 294.571 Z\" fill=\"#000000\" fill-rule=\"evenodd\" fill-opacity=\"1\" /><path clip-path=\"url(#clip360)\" d=\"M2397.05 285.103 L2397.05 288.645 L2392.98 288.645 Q2390.69 288.645 2389.79 289.571 Q2388.91 290.497 2388.91 292.904 L2388.91 295.196 L2395.92 295.196 L2395.92 298.506 L2388.91 298.506 L2388.91 321.122 L2384.62 321.122 L2384.62 298.506 L2380.55 298.506 L2380.55 295.196 L2384.62 295.196 L2384.62 293.39 Q2384.62 289.062 2386.64 287.094 Q2388.65 285.103 2393.03 285.103 L2397.05 285.103 Z\" fill=\"#000000\" fill-rule=\"evenodd\" fill-opacity=\"1\" /><path clip-path=\"url(#clip360)\" d=\"M2400.62 295.196 L2404.88 295.196 L2404.88 321.122 L2400.62 321.122 L2400.62 295.196 M2400.62 285.103 L2404.88 285.103 L2404.88 290.497 L2400.62 290.497 L2400.62 285.103 Z\" fill=\"#000000\" fill-rule=\"evenodd\" fill-opacity=\"1\" /><path clip-path=\"url(#clip360)\" d=\"M2418 287.835 L2418 295.196 L2426.78 295.196 L2426.78 298.506 L2418 298.506 L2418 312.58 Q2418 315.751 2418.86 316.654 Q2419.74 317.557 2422.4 317.557 L2426.78 317.557 L2426.78 321.122 L2422.4 321.122 Q2417.47 321.122 2415.6 319.293 Q2413.72 317.441 2413.72 312.58 L2413.72 298.506 L2410.6 298.506 L2410.6 295.196 L2413.72 295.196 L2413.72 287.835 L2418 287.835 Z\" fill=\"#000000\" fill-rule=\"evenodd\" fill-opacity=\"1\" /><path clip-path=\"url(#clip360)\" d=\"M2451.57 317.233 L2451.57 330.983 L2447.29 330.983 L2447.29 295.196 L2451.57 295.196 L2451.57 299.131 Q2452.91 296.816 2454.95 295.705 Q2457.01 294.571 2459.86 294.571 Q2464.58 294.571 2467.52 298.321 Q2470.48 302.071 2470.48 308.182 Q2470.48 314.293 2467.52 318.043 Q2464.58 321.793 2459.86 321.793 Q2457.01 321.793 2454.95 320.682 Q2452.91 319.548 2451.57 317.233 M2466.06 308.182 Q2466.06 303.483 2464.11 300.821 Q2462.19 298.136 2458.81 298.136 Q2455.43 298.136 2453.49 300.821 Q2451.57 303.483 2451.57 308.182 Q2451.57 312.881 2453.49 315.566 Q2455.43 318.228 2458.81 318.228 Q2462.19 318.228 2464.11 315.566 Q2466.06 312.881 2466.06 308.182 Z\" fill=\"#000000\" fill-rule=\"evenodd\" fill-opacity=\"1\" /><path clip-path=\"url(#clip360)\" d=\"M2492.56 299.177 Q2491.85 298.761 2490.99 298.576 Q2490.16 298.367 2489.14 298.367 Q2485.53 298.367 2483.58 300.728 Q2481.66 303.066 2481.66 307.464 L2481.66 321.122 L2477.38 321.122 L2477.38 295.196 L2481.66 295.196 L2481.66 299.224 Q2483 296.863 2485.16 295.728 Q2487.31 294.571 2490.39 294.571 Q2490.83 294.571 2491.36 294.64 Q2491.89 294.687 2492.54 294.802 L2492.56 299.177 Z\" fill=\"#000000\" fill-rule=\"evenodd\" fill-opacity=\"1\" /><path clip-path=\"url(#clip360)\" d=\"M2495.18 295.196 L2515.41 295.196 L2515.41 299.085 L2499.39 317.719 L2515.41 317.719 L2515.41 321.122 L2494.6 321.122 L2494.6 317.233 L2510.62 298.599 L2495.18 298.599 L2495.18 295.196 Z\" fill=\"#000000\" fill-rule=\"evenodd\" fill-opacity=\"1\" /><path clip-path=\"url(#clip360)\" d=\"M2532.7 323.529 Q2530.9 328.159 2529.18 329.571 Q2527.47 330.983 2524.6 330.983 L2521.2 330.983 L2521.2 327.418 L2523.7 327.418 Q2525.46 327.418 2526.43 326.585 Q2527.4 325.751 2528.58 322.649 L2529.35 320.705 L2518.86 295.196 L2523.37 295.196 L2531.48 315.474 L2539.58 295.196 L2544.09 295.196 L2532.7 323.529 Z\" fill=\"#000000\" fill-rule=\"evenodd\" fill-opacity=\"1\" /><path clip-path=\"url(#clip360)\" d=\"M2562.56 295.196 L2566.82 295.196 L2572.15 315.427 L2577.45 295.196 L2582.47 295.196 L2587.79 315.427 L2593.1 295.196 L2597.35 295.196 L2590.57 321.122 L2585.55 321.122 L2579.97 299.872 L2574.37 321.122 L2569.35 321.122 L2562.56 295.196 Z\" fill=\"#000000\" fill-rule=\"evenodd\" fill-opacity=\"1\" /><path clip-path=\"url(#clip360)\" d=\"M2601.96 295.196 L2622.19 295.196 L2622.19 299.085 L2606.17 317.719 L2622.19 317.719 L2622.19 321.122 L2601.38 321.122 L2601.38 317.233 L2617.4 298.599 L2601.96 298.599 L2601.96 295.196 Z\" fill=\"#000000\" fill-rule=\"evenodd\" fill-opacity=\"1\" /><path clip-path=\"url(#clip360)\" d=\"M2643.72 299.177 Q2643 298.761 2642.15 298.576 Q2641.31 298.367 2640.29 298.367 Q2636.68 298.367 2634.74 300.728 Q2632.82 303.066 2632.82 307.464 L2632.82 321.122 L2628.54 321.122 L2628.54 295.196 L2632.82 295.196 L2632.82 299.224 Q2634.16 296.863 2636.31 295.728 Q2638.47 294.571 2641.54 294.571 Q2641.98 294.571 2642.52 294.64 Q2643.05 294.687 2643.7 294.802 L2643.72 299.177 Z\" fill=\"#000000\" fill-rule=\"evenodd\" fill-opacity=\"1\" /><path clip-path=\"url(#clip360)\" d=\"M2657.19 298.182 Q2653.77 298.182 2651.78 300.867 Q2649.79 303.529 2649.79 308.182 Q2649.79 312.835 2651.75 315.52 Q2653.74 318.182 2657.19 318.182 Q2660.6 318.182 2662.59 315.497 Q2664.58 312.812 2664.58 308.182 Q2664.58 303.576 2662.59 300.89 Q2660.6 298.182 2657.19 298.182 M2657.19 294.571 Q2662.75 294.571 2665.92 298.182 Q2669.09 301.793 2669.09 308.182 Q2669.09 314.548 2665.92 318.182 Q2662.75 321.793 2657.19 321.793 Q2651.61 321.793 2648.44 318.182 Q2645.29 314.548 2645.29 308.182 Q2645.29 301.793 2648.44 298.182 Q2651.61 294.571 2657.19 294.571 Z\" fill=\"#000000\" fill-rule=\"evenodd\" fill-opacity=\"1\" /><path clip-path=\"url(#clip360)\" d=\"M2688.28 283.043 L2692.89 283.043 L2685.34 291.747 L2681.8 291.747 L2688.28 283.043 M2692.68 295.96 L2692.68 299.988 Q2690.87 299.062 2688.93 298.599 Q2686.98 298.136 2684.9 298.136 Q2681.73 298.136 2680.13 299.108 Q2678.56 300.08 2678.56 302.025 Q2678.56 303.506 2679.69 304.363 Q2680.83 305.196 2684.25 305.96 L2685.71 306.284 Q2690.25 307.256 2692.15 309.038 Q2694.07 310.798 2694.07 313.969 Q2694.07 317.58 2691.2 319.687 Q2688.35 321.793 2683.35 321.793 Q2681.27 321.793 2679 321.376 Q2676.75 320.983 2674.25 320.173 L2674.25 315.775 Q2676.61 317.001 2678.91 317.626 Q2681.2 318.228 2683.44 318.228 Q2686.45 318.228 2688.07 317.21 Q2689.69 316.168 2689.69 314.293 Q2689.69 312.557 2688.51 311.631 Q2687.35 310.705 2683.4 309.849 L2681.91 309.501 Q2677.96 308.668 2676.2 306.955 Q2674.44 305.219 2674.44 302.21 Q2674.44 298.552 2677.03 296.562 Q2679.62 294.571 2684.39 294.571 Q2686.75 294.571 2688.84 294.918 Q2690.92 295.265 2692.68 295.96 Z\" fill=\"#000000\" fill-rule=\"evenodd\" fill-opacity=\"1\" /><path clip-path=\"url(#clip360)\" d=\"M2719.51 296.191 L2719.51 300.173 Q2717.7 299.177 2715.87 298.691 Q2714.07 298.182 2712.22 298.182 Q2708.07 298.182 2705.78 300.821 Q2703.49 303.437 2703.49 308.182 Q2703.49 312.927 2705.78 315.566 Q2708.07 318.182 2712.22 318.182 Q2714.07 318.182 2715.87 317.696 Q2717.7 317.187 2719.51 316.191 L2719.51 320.126 Q2717.72 320.96 2715.8 321.376 Q2713.91 321.793 2711.75 321.793 Q2705.9 321.793 2702.45 318.112 Q2699 314.432 2699 308.182 Q2699 301.839 2702.47 298.205 Q2705.97 294.571 2712.03 294.571 Q2714 294.571 2715.87 294.988 Q2717.75 295.381 2719.51 296.191 Z\" fill=\"#000000\" fill-rule=\"evenodd\" fill-opacity=\"1\" /><path clip-path=\"url(#clip360)\" d=\"M2726.91 295.196 L2731.17 295.196 L2731.17 321.122 L2726.91 321.122 L2726.91 295.196 M2726.91 285.103 L2731.17 285.103 L2731.17 290.497 L2726.91 290.497 L2726.91 285.103 Z\" fill=\"#000000\" fill-rule=\"evenodd\" fill-opacity=\"1\" /><path clip-path=\"url(#clip360)\" d=\"M2762.26 307.094 L2762.26 309.177 L2742.68 309.177 Q2742.96 313.575 2745.32 315.89 Q2747.7 318.182 2751.94 318.182 Q2754.39 318.182 2756.68 317.58 Q2759 316.978 2761.27 315.775 L2761.27 319.802 Q2758.97 320.774 2756.57 321.284 Q2754.16 321.793 2751.68 321.793 Q2745.48 321.793 2741.84 318.182 Q2738.23 314.571 2738.23 308.413 Q2738.23 302.048 2741.66 298.321 Q2745.11 294.571 2750.94 294.571 Q2756.17 294.571 2759.21 297.951 Q2762.26 301.307 2762.26 307.094 M2758 305.844 Q2757.96 302.349 2756.03 300.265 Q2754.14 298.182 2750.99 298.182 Q2747.42 298.182 2745.27 300.196 Q2743.14 302.21 2742.82 305.867 L2758 305.844 Z\" fill=\"#000000\" fill-rule=\"evenodd\" fill-opacity=\"1\" /><path clip-path=\"url(#clip360)\" d=\"M2802.98 296.191 L2802.98 300.173 Q2801.17 299.177 2799.34 298.691 Q2797.54 298.182 2795.69 298.182 Q2791.54 298.182 2789.25 300.821 Q2786.96 303.437 2786.96 308.182 Q2786.96 312.927 2789.25 315.566 Q2791.54 318.182 2795.69 318.182 Q2797.54 318.182 2799.34 317.696 Q2801.17 317.187 2802.98 316.191 L2802.98 320.126 Q2801.2 320.96 2799.27 321.376 Q2797.38 321.793 2795.22 321.793 Q2789.37 321.793 2785.92 318.112 Q2782.47 314.432 2782.47 308.182 Q2782.47 301.839 2785.94 298.205 Q2789.44 294.571 2795.5 294.571 Q2797.47 294.571 2799.34 294.988 Q2801.22 295.381 2802.98 296.191 Z\" fill=\"#000000\" fill-rule=\"evenodd\" fill-opacity=\"1\" /><path clip-path=\"url(#clip360)\" d=\"M2832.56 307.094 L2832.56 309.177 L2812.98 309.177 Q2813.26 313.575 2815.62 315.89 Q2818 318.182 2822.24 318.182 Q2824.69 318.182 2826.98 317.58 Q2829.3 316.978 2831.57 315.775 L2831.57 319.802 Q2829.27 320.774 2826.87 321.284 Q2824.46 321.793 2821.98 321.793 Q2815.78 321.793 2812.15 318.182 Q2808.53 314.571 2808.53 308.413 Q2808.53 302.048 2811.96 298.321 Q2815.41 294.571 2821.24 294.571 Q2826.47 294.571 2829.51 297.951 Q2832.56 301.307 2832.56 307.094 M2828.3 305.844 Q2828.26 302.349 2826.34 300.265 Q2824.44 298.182 2821.29 298.182 Q2817.72 298.182 2815.57 300.196 Q2813.44 302.21 2813.12 305.867 L2828.3 305.844 Z\" fill=\"#000000\" fill-rule=\"evenodd\" fill-opacity=\"1\" /><path clip-path=\"url(#clip360)\" d=\"M2861.1 305.474 L2861.1 321.122 L2856.84 321.122 L2856.84 305.613 Q2856.84 301.932 2855.41 300.103 Q2853.97 298.275 2851.1 298.275 Q2847.65 298.275 2845.66 300.474 Q2843.67 302.673 2843.67 306.469 L2843.67 321.122 L2839.39 321.122 L2839.39 295.196 L2843.67 295.196 L2843.67 299.224 Q2845.2 296.886 2847.26 295.728 Q2849.34 294.571 2852.05 294.571 Q2856.52 294.571 2858.81 297.349 Q2861.1 300.103 2861.1 305.474 Z\" fill=\"#000000\" fill-rule=\"evenodd\" fill-opacity=\"1\" /><path clip-path=\"url(#clip360)\" d=\"M2880.39 323.529 Q2878.58 328.159 2876.87 329.571 Q2875.15 330.983 2872.28 330.983 L2868.88 330.983 L2868.88 327.418 L2871.38 327.418 Q2873.14 327.418 2874.11 326.585 Q2875.08 325.751 2876.27 322.649 L2877.03 320.705 L2866.54 295.196 L2871.06 295.196 L2879.16 315.474 L2887.26 295.196 L2891.77 295.196 L2880.39 323.529 Z\" fill=\"#000000\" fill-rule=\"evenodd\" fill-opacity=\"1\" /><path clip-path=\"url(#clip360)\" d=\"M2922.77 298.182 Q2919.34 298.182 2917.35 300.867 Q2915.36 303.529 2915.36 308.182 Q2915.36 312.835 2917.33 315.52 Q2919.32 318.182 2922.77 318.182 Q2926.17 318.182 2928.16 315.497 Q2930.15 312.812 2930.15 308.182 Q2930.15 303.576 2928.16 300.89 Q2926.17 298.182 2922.77 298.182 M2922.77 294.571 Q2928.33 294.571 2931.5 298.182 Q2934.67 301.793 2934.67 308.182 Q2934.67 314.548 2931.5 318.182 Q2928.33 321.793 2922.77 321.793 Q2917.19 321.793 2914.02 318.182 Q2910.87 314.548 2910.87 308.182 Q2910.87 301.793 2914.02 298.182 Q2917.19 294.571 2922.77 294.571 Z\" fill=\"#000000\" fill-rule=\"evenodd\" fill-opacity=\"1\" /><path clip-path=\"url(#clip360)\" d=\"M2957.45 286.562 L2975.8 286.562 L2975.8 290.497 L2961.73 290.497 L2961.73 298.969 Q2962.75 298.622 2963.76 298.46 Q2964.78 298.275 2965.8 298.275 Q2971.59 298.275 2974.97 301.446 Q2978.35 304.617 2978.35 310.034 Q2978.35 315.612 2974.88 318.714 Q2971.4 321.793 2965.08 321.793 Q2962.91 321.793 2960.64 321.423 Q2958.39 321.052 2955.99 320.312 L2955.99 315.612 Q2958.07 316.747 2960.29 317.302 Q2962.51 317.858 2964.99 317.858 Q2969 317.858 2971.33 315.751 Q2973.67 313.645 2973.67 310.034 Q2973.67 306.423 2971.33 304.316 Q2969 302.21 2964.99 302.21 Q2963.12 302.21 2961.24 302.626 Q2959.39 303.043 2957.45 303.923 L2957.45 286.562 Z\" fill=\"#000000\" fill-rule=\"evenodd\" fill-opacity=\"1\" /><path clip-path=\"url(#clip360)\" d=\"M3016.96 305.913 Q3014.95 305.913 3013.79 307.626 Q3012.65 309.339 3012.65 312.395 Q3012.65 315.404 3013.79 317.14 Q3014.95 318.853 3016.96 318.853 Q3018.93 318.853 3020.06 317.14 Q3021.22 315.404 3021.22 312.395 Q3021.22 309.363 3020.06 307.65 Q3018.93 305.913 3016.96 305.913 M3016.96 302.974 Q3020.62 302.974 3022.77 305.52 Q3024.92 308.066 3024.92 312.395 Q3024.92 316.724 3022.75 319.27 Q3020.59 321.793 3016.96 321.793 Q3013.26 321.793 3011.1 319.27 Q3008.95 316.724 3008.95 312.395 Q3008.95 308.043 3011.1 305.52 Q3013.28 302.974 3016.96 302.974 M2993.07 288.877 Q2991.08 288.877 2989.92 290.613 Q2988.79 292.326 2988.79 295.335 Q2988.79 298.39 2989.92 300.103 Q2991.06 301.816 2993.07 301.816 Q2995.08 301.816 2996.22 300.103 Q2997.38 298.39 2997.38 295.335 Q2997.38 292.349 2996.22 290.613 Q2995.06 288.877 2993.07 288.877 M3013.97 285.937 L3017.68 285.937 L2996.06 321.793 L2992.35 321.793 L3013.97 285.937 M2993.07 285.937 Q2996.73 285.937 2998.9 288.483 Q3001.08 291.006 3001.08 295.335 Q3001.08 299.71 2998.9 302.233 Q2996.75 304.756 2993.07 304.756 Q2989.39 304.756 2987.24 302.233 Q2985.11 299.687 2985.11 295.335 Q2985.11 291.029 2987.26 288.483 Q2989.41 285.937 2993.07 285.937 Z\" fill=\"#000000\" fill-rule=\"evenodd\" fill-opacity=\"1\" /></svg>\n"
      ]
     },
     "execution_count": 55,
     "metadata": {},
     "output_type": "execute_result"
    }
   ],
   "source": [
    "# Inicjalizacja wyników symulacji\n",
    "profits_payroll_change_1_00 = zeros(Float64, 6)\n",
    "lost_orders_payroll_change_1_00 = zeros(Float64, 6)\n",
    "\n",
    "# Symulacja i obliczenie wyników\n",
    "for (i, payroll_change) in enumerate([1, 1.05, 1.1, 1.25, 1.5, 1.75])\n",
    "    results = DataFrame(simulateOneRun(m, s, S, h=h, c=c, p=p, K=K, k=k*payroll_change, init_S=init_S, average_demand=average_demand) for n in 1:1000)\n",
    "    profits_payroll_change_1_00[i] = mean(results.profit)\n",
    "    lost_orders_payroll_change_1_00[i] = mean(results.lost_orders)\n",
    "end\n",
    "\n",
    "# Inicjalizacja wyników symulacji\n",
    "profits_payroll_change_1_05 = zeros(Float64, 6)\n",
    "lost_orders_payroll_change_1_05 = zeros(Float64, 6)\n",
    "\n",
    "# Symulacja i obliczenie wyników\n",
    "for (i, payroll_change) in enumerate([1, 1.05, 1.1, 1.25, 1.5, 1.75])\n",
    "    results = DataFrame(simulateOneRun(m, s, S, h=h, c=c*1.05, p=p, K=K, k=k*payroll_change, init_S=init_S, average_demand=average_demand) for n in 1:1000)\n",
    "    profits_payroll_change_1_05[i] = mean(results.profit)\n",
    "    lost_orders_payroll_change_1_05[i] = mean(results.lost_orders)\n",
    "end\n",
    "\n",
    "plot([1, 1.05, 1.1, 1.25, 1.5, 1.75], profits_payroll_change_1_00, label=\"Profit przy pierwotnej cenie\")\n",
    "plot!([1, 1.05, 1.1, 1.25, 1.5, 1.75], profits_payroll_change_1_05, label=\"Profit przy wzroście ceny o 5%\")\n",
    "xlabel!(\"Zmiana zysku ze sprzedaży w [%]\")\n",
    "ylabel!(\"Wyniki / Rezultaty\")\n",
    "title!(\"Wykres zmiany profitu w zależności od zmiany zysku ze sprzedaży\")"
   ]
  },
  {
   "cell_type": "code",
   "execution_count": 50,
   "metadata": {},
   "outputs": [
    {
     "data": {
      "text/plain": [
       "6-element Vector{Float64}:\n",
       " 1305.9432\n",
       " 1282.1131500000001\n",
       " 1251.2165\n",
       " 1177.9995499999998\n",
       " 1027.7781\n",
       "  903.0079499999999"
      ]
     },
     "execution_count": 50,
     "metadata": {},
     "output_type": "execute_result"
    }
   ],
   "source": [
    "profits_payroll_change_1_00"
   ]
  },
  {
   "cell_type": "code",
   "execution_count": 52,
   "metadata": {},
   "outputs": [],
   "source": [
    "Random.seed!(10)\n",
    "\n",
    "# Inicjalizacja wyników symulacji\n",
    "profits_payroll_change_1_10 = zeros(Float64, 6)\n",
    "lost_orders_payroll_change_1_10 = zeros(Float64, 6)\n",
    " \n",
    "# Symulacja i obliczenie wyników\n",
    "for (i, payroll_change) in enumerate([1, 1.05, 1.1, 1.25, 1.5, 1.75])\n",
    "    results = DataFrame(simulateOneRun(m, s, S, h=h, c=c*1.1, p=p, K=K, k=k*payroll_change, init_S=init_S, average_demand=average_demand) for n in 1:1000)\n",
    "    profits_payroll_change_1_10[i] = mean(results.profit)\n",
    "    lost_orders_payroll_change_1_10[i] = mean(results.lost_orders)\n",
    "end\n",
    "\n",
    "# Inicjalizacja wyników symulacji\n",
    "profits_payroll_change_1_20 = zeros(Float64, 6)\n",
    "lost_orders_payroll_change_1_20 = zeros(Float64, 6)\n",
    "\n",
    "# Symulacja i obliczenie wyników\n",
    "for (i, payroll_change) in enumerate([1, 1.05, 1.1, 1.25, 1.5, 1.75])\n",
    "    results = DataFrame(simulateOneRun(m, s, S, h=h, c=c*1.2, p=p, K=K, k=k*payroll_change, init_S=init_S, average_demand=average_demand) for n in 1:1000)\n",
    "    profits_payroll_change_1_20[i] = mean(results.profit)\n",
    "    lost_orders_payroll_change_1_20[i] = mean(results.lost_orders)\n",
    "end\n",
    "\n",
    "# Inicjalizacja wyników symulacji\n",
    "profits_payroll_change_1_50 = zeros(Float64, 6)\n",
    "lost_orders_payroll_change_1_50 = zeros(Float64, 6)\n",
    "\n",
    "# Symulacja i obliczenie wyników\n",
    "for (i, payroll_change) in enumerate([1, 1.05, 1.1, 1.25, 1.5, 1.75])\n",
    "    results = DataFrame(simulateOneRun(m, s, S, h=h, c=c*1.5, p=p, K=K, k=k*payroll_change, init_S=init_S, average_demand=average_demand) for n in 1:1000)\n",
    "    profits_payroll_change_1_50[i] = mean(results.profit)\n",
    "    lost_orders_payroll_change_1_50[i] = mean(results.lost_orders)\n",
    "end"
   ]
  },
  {
   "cell_type": "code",
   "execution_count": 61,
   "metadata": {},
   "outputs": [
    {
     "data": {
      "image/svg+xml": [
       "<?xml version=\"1.0\" encoding=\"utf-8\"?>\n",
       "<svg xmlns=\"http://www.w3.org/2000/svg\" xmlns:xlink=\"http://www.w3.org/1999/xlink\" width=\"800\" height=\"600\" viewBox=\"0 0 3200 2400\">\n",
       "<defs>\n",
       "  <clipPath id=\"clip600\">\n",
       "    <rect x=\"0\" y=\"0\" width=\"3200\" height=\"2400\"/>\n",
       "  </clipPath>\n",
       "</defs>\n",
       "<path clip-path=\"url(#clip600)\" d=\"M0 2400 L3200 2400 L3200 0 L0 0  Z\" fill=\"#ffffff\" fill-rule=\"evenodd\" fill-opacity=\"1\"/>\n",
       "<defs>\n",
       "  <clipPath id=\"clip601\">\n",
       "    <rect x=\"640\" y=\"0\" width=\"2241\" height=\"2241\"/>\n",
       "  </clipPath>\n",
       "</defs>\n",
       "<path clip-path=\"url(#clip600)\" d=\"M278.227 2204.92 L3152.76 2204.92 L3152.76 131.032 L278.227 131.032  Z\" fill=\"#ffffff\" fill-rule=\"evenodd\" fill-opacity=\"1\"/>\n",
       "<defs>\n",
       "  <clipPath id=\"clip602\">\n",
       "    <rect x=\"278\" y=\"131\" width=\"2876\" height=\"2075\"/>\n",
       "  </clipPath>\n",
       "</defs>\n",
       "<polyline clip-path=\"url(#clip602)\" style=\"stroke:#000000; stroke-linecap:round; stroke-linejoin:round; stroke-width:2; stroke-opacity:0.1; fill:none\" points=\"359.582,2204.92 359.582,131.032 \"/>\n",
       "<polyline clip-path=\"url(#clip602)\" style=\"stroke:#000000; stroke-linecap:round; stroke-linejoin:round; stroke-width:2; stroke-opacity:0.1; fill:none\" points=\"1082.73,2204.92 1082.73,131.032 \"/>\n",
       "<polyline clip-path=\"url(#clip602)\" style=\"stroke:#000000; stroke-linecap:round; stroke-linejoin:round; stroke-width:2; stroke-opacity:0.1; fill:none\" points=\"1805.89,2204.92 1805.89,131.032 \"/>\n",
       "<polyline clip-path=\"url(#clip602)\" style=\"stroke:#000000; stroke-linecap:round; stroke-linejoin:round; stroke-width:2; stroke-opacity:0.1; fill:none\" points=\"2529.04,2204.92 2529.04,131.032 \"/>\n",
       "<polyline clip-path=\"url(#clip600)\" style=\"stroke:#000000; stroke-linecap:round; stroke-linejoin:round; stroke-width:4; stroke-opacity:1; fill:none\" points=\"278.227,2204.92 3152.76,2204.92 \"/>\n",
       "<polyline clip-path=\"url(#clip600)\" style=\"stroke:#000000; stroke-linecap:round; stroke-linejoin:round; stroke-width:4; stroke-opacity:1; fill:none\" points=\"359.582,2204.92 359.582,2186.02 \"/>\n",
       "<polyline clip-path=\"url(#clip600)\" style=\"stroke:#000000; stroke-linecap:round; stroke-linejoin:round; stroke-width:4; stroke-opacity:1; fill:none\" points=\"1082.73,2204.92 1082.73,2186.02 \"/>\n",
       "<polyline clip-path=\"url(#clip600)\" style=\"stroke:#000000; stroke-linecap:round; stroke-linejoin:round; stroke-width:4; stroke-opacity:1; fill:none\" points=\"1805.89,2204.92 1805.89,2186.02 \"/>\n",
       "<polyline clip-path=\"url(#clip600)\" style=\"stroke:#000000; stroke-linecap:round; stroke-linejoin:round; stroke-width:4; stroke-opacity:1; fill:none\" points=\"2529.04,2204.92 2529.04,2186.02 \"/>\n",
       "<path clip-path=\"url(#clip600)\" d=\"M326.735 2269.78 L334.374 2269.78 L334.374 2243.42 L326.064 2245.09 L326.064 2240.83 L334.327 2239.16 L339.003 2239.16 L339.003 2269.78 L346.642 2269.78 L346.642 2273.72 L326.735 2273.72 L326.735 2269.78 Z\" fill=\"#000000\" fill-rule=\"evenodd\" fill-opacity=\"1\" /><path clip-path=\"url(#clip600)\" d=\"M356.087 2267.84 L360.971 2267.84 L360.971 2273.72 L356.087 2273.72 L356.087 2267.84 Z\" fill=\"#000000\" fill-rule=\"evenodd\" fill-opacity=\"1\" /><path clip-path=\"url(#clip600)\" d=\"M381.156 2242.24 Q377.545 2242.24 375.716 2245.8 Q373.911 2249.34 373.911 2256.47 Q373.911 2263.58 375.716 2267.15 Q377.545 2270.69 381.156 2270.69 Q384.79 2270.69 386.596 2267.15 Q388.424 2263.58 388.424 2256.47 Q388.424 2249.34 386.596 2245.8 Q384.79 2242.24 381.156 2242.24 M381.156 2238.53 Q386.966 2238.53 390.022 2243.14 Q393.1 2247.72 393.1 2256.47 Q393.1 2265.2 390.022 2269.81 Q386.966 2274.39 381.156 2274.39 Q375.346 2274.39 372.267 2269.81 Q369.211 2265.2 369.211 2256.47 Q369.211 2247.72 372.267 2243.14 Q375.346 2238.53 381.156 2238.53 Z\" fill=\"#000000\" fill-rule=\"evenodd\" fill-opacity=\"1\" /><path clip-path=\"url(#clip600)\" d=\"M1050.69 2269.78 L1058.32 2269.78 L1058.32 2243.42 L1050.01 2245.09 L1050.01 2240.83 L1058.28 2239.16 L1062.95 2239.16 L1062.95 2269.78 L1070.59 2269.78 L1070.59 2273.72 L1050.69 2273.72 L1050.69 2269.78 Z\" fill=\"#000000\" fill-rule=\"evenodd\" fill-opacity=\"1\" /><path clip-path=\"url(#clip600)\" d=\"M1080.04 2267.84 L1084.92 2267.84 L1084.92 2273.72 L1080.04 2273.72 L1080.04 2267.84 Z\" fill=\"#000000\" fill-rule=\"evenodd\" fill-opacity=\"1\" /><path clip-path=\"url(#clip600)\" d=\"M1099.13 2269.78 L1115.45 2269.78 L1115.45 2273.72 L1093.51 2273.72 L1093.51 2269.78 Q1096.17 2267.03 1100.75 2262.4 Q1105.36 2257.75 1106.54 2256.41 Q1108.79 2253.88 1109.67 2252.15 Q1110.57 2250.39 1110.57 2248.7 Q1110.57 2245.94 1108.62 2244.21 Q1106.7 2242.47 1103.6 2242.47 Q1101.4 2242.47 1098.95 2243.23 Q1096.52 2244 1093.74 2245.55 L1093.74 2240.83 Q1096.56 2239.69 1099.02 2239.11 Q1101.47 2238.53 1103.51 2238.53 Q1108.88 2238.53 1112.07 2241.22 Q1115.27 2243.91 1115.27 2248.4 Q1115.27 2250.53 1114.46 2252.45 Q1113.67 2254.34 1111.56 2256.94 Q1110.99 2257.61 1107.88 2260.83 Q1104.78 2264.02 1099.13 2269.78 Z\" fill=\"#000000\" fill-rule=\"evenodd\" fill-opacity=\"1\" /><path clip-path=\"url(#clip600)\" d=\"M1772.8 2269.78 L1780.43 2269.78 L1780.43 2243.42 L1772.12 2245.09 L1772.12 2240.83 L1780.39 2239.16 L1785.06 2239.16 L1785.06 2269.78 L1792.7 2269.78 L1792.7 2273.72 L1772.8 2273.72 L1772.8 2269.78 Z\" fill=\"#000000\" fill-rule=\"evenodd\" fill-opacity=\"1\" /><path clip-path=\"url(#clip600)\" d=\"M1802.15 2267.84 L1807.03 2267.84 L1807.03 2273.72 L1802.15 2273.72 L1802.15 2267.84 Z\" fill=\"#000000\" fill-rule=\"evenodd\" fill-opacity=\"1\" /><path clip-path=\"url(#clip600)\" d=\"M1830.06 2243.23 L1818.26 2261.68 L1830.06 2261.68 L1830.06 2243.23 M1828.84 2239.16 L1834.72 2239.16 L1834.72 2261.68 L1839.65 2261.68 L1839.65 2265.57 L1834.72 2265.57 L1834.72 2273.72 L1830.06 2273.72 L1830.06 2265.57 L1814.46 2265.57 L1814.46 2261.06 L1828.84 2239.16 Z\" fill=\"#000000\" fill-rule=\"evenodd\" fill-opacity=\"1\" /><path clip-path=\"url(#clip600)\" d=\"M2496.11 2269.78 L2503.75 2269.78 L2503.75 2243.42 L2495.44 2245.09 L2495.44 2240.83 L2503.7 2239.16 L2508.38 2239.16 L2508.38 2269.78 L2516.02 2269.78 L2516.02 2273.72 L2496.11 2273.72 L2496.11 2269.78 Z\" fill=\"#000000\" fill-rule=\"evenodd\" fill-opacity=\"1\" /><path clip-path=\"url(#clip600)\" d=\"M2525.46 2267.84 L2530.35 2267.84 L2530.35 2273.72 L2525.46 2273.72 L2525.46 2267.84 Z\" fill=\"#000000\" fill-rule=\"evenodd\" fill-opacity=\"1\" /><path clip-path=\"url(#clip600)\" d=\"M2551.11 2254.58 Q2547.96 2254.58 2546.11 2256.73 Q2544.28 2258.88 2544.28 2262.63 Q2544.28 2266.36 2546.11 2268.53 Q2547.96 2270.69 2551.11 2270.69 Q2554.26 2270.69 2556.09 2268.53 Q2557.94 2266.36 2557.94 2262.63 Q2557.94 2258.88 2556.09 2256.73 Q2554.26 2254.58 2551.11 2254.58 M2560.39 2239.92 L2560.39 2244.18 Q2558.63 2243.35 2556.83 2242.91 Q2555.04 2242.47 2553.28 2242.47 Q2548.66 2242.47 2546.2 2245.59 Q2543.77 2248.72 2543.42 2255.04 Q2544.79 2253.03 2546.85 2251.96 Q2548.91 2250.87 2551.39 2250.87 Q2556.6 2250.87 2559.6 2254.04 Q2562.64 2257.19 2562.64 2262.63 Q2562.64 2267.96 2559.49 2271.17 Q2556.34 2274.39 2551.11 2274.39 Q2545.11 2274.39 2541.94 2269.81 Q2538.77 2265.2 2538.77 2256.47 Q2538.77 2248.28 2542.66 2243.42 Q2546.55 2238.53 2553.1 2238.53 Q2554.86 2238.53 2556.64 2238.88 Q2558.45 2239.23 2560.39 2239.92 Z\" fill=\"#000000\" fill-rule=\"evenodd\" fill-opacity=\"1\" /><path clip-path=\"url(#clip600)\" d=\"M1272.22 2314.26 L1309.55 2314.26 L1309.55 2319.17 L1279.5 2356.37 L1310.28 2356.37 L1310.28 2361.78 L1271.48 2361.78 L1271.48 2356.88 L1301.53 2319.67 L1272.22 2319.67 L1272.22 2314.26 Z\" fill=\"#000000\" fill-rule=\"evenodd\" fill-opacity=\"1\" /><path clip-path=\"url(#clip600)\" d=\"M1347.11 2332.98 Q1349.3 2329.03 1352.36 2327.15 Q1355.42 2325.28 1359.55 2325.28 Q1365.12 2325.28 1368.15 2329.19 Q1371.17 2333.07 1371.17 2340.27 L1371.17 2361.78 L1365.28 2361.78 L1365.28 2340.46 Q1365.28 2335.33 1363.47 2332.85 Q1361.65 2330.37 1357.93 2330.37 Q1353.38 2330.37 1350.74 2333.39 Q1348.09 2336.42 1348.09 2341.64 L1348.09 2361.78 L1342.21 2361.78 L1342.21 2340.46 Q1342.21 2335.3 1340.39 2332.85 Q1338.58 2330.37 1334.79 2330.37 Q1330.3 2330.37 1327.66 2333.42 Q1325.02 2336.45 1325.02 2341.64 L1325.02 2361.78 L1319.13 2361.78 L1319.13 2326.14 L1325.02 2326.14 L1325.02 2331.67 Q1327.02 2328.4 1329.83 2326.84 Q1332.63 2325.28 1336.48 2325.28 Q1340.36 2325.28 1343.07 2327.25 Q1345.8 2329.22 1347.11 2332.98 Z\" fill=\"#000000\" fill-rule=\"evenodd\" fill-opacity=\"1\" /><path clip-path=\"url(#clip600)\" d=\"M1382.85 2326.14 L1388.71 2326.14 L1388.71 2361.78 L1382.85 2361.78 L1382.85 2326.14 M1382.85 2312.26 L1388.71 2312.26 L1388.71 2319.67 L1382.85 2319.67 L1382.85 2312.26 Z\" fill=\"#000000\" fill-rule=\"evenodd\" fill-opacity=\"1\" /><path clip-path=\"url(#clip600)\" d=\"M1417.16 2343.86 Q1410.07 2343.86 1407.33 2345.49 Q1404.59 2347.11 1404.59 2351.03 Q1404.59 2354.14 1406.63 2355.99 Q1408.7 2357.81 1412.23 2357.81 Q1417.1 2357.81 1420.03 2354.37 Q1422.99 2350.9 1422.99 2345.17 L1422.99 2343.86 L1417.16 2343.86 M1428.84 2341.45 L1428.84 2361.78 L1422.99 2361.78 L1422.99 2356.37 Q1420.98 2359.62 1417.99 2361.18 Q1415 2362.71 1410.67 2362.71 Q1405.2 2362.71 1401.95 2359.65 Q1398.73 2356.56 1398.73 2351.41 Q1398.73 2345.39 1402.74 2342.34 Q1406.79 2339.28 1414.78 2339.28 L1422.99 2339.28 L1422.99 2338.71 Q1422.99 2334.67 1420.31 2332.47 Q1417.67 2330.24 1412.87 2330.24 Q1409.81 2330.24 1406.91 2330.97 Q1404.02 2331.71 1401.34 2333.17 L1401.34 2327.76 Q1404.56 2326.52 1407.58 2325.91 Q1410.61 2325.28 1413.47 2325.28 Q1421.2 2325.28 1425.02 2329.29 Q1428.84 2333.3 1428.84 2341.45 Z\" fill=\"#000000\" fill-rule=\"evenodd\" fill-opacity=\"1\" /><path clip-path=\"url(#clip600)\" d=\"M1470.54 2340.27 L1470.54 2361.78 L1464.68 2361.78 L1464.68 2340.46 Q1464.68 2335.4 1462.71 2332.88 Q1460.74 2330.37 1456.79 2330.37 Q1452.05 2330.37 1449.31 2333.39 Q1446.57 2336.42 1446.57 2341.64 L1446.57 2361.78 L1440.68 2361.78 L1440.68 2326.14 L1446.57 2326.14 L1446.57 2331.67 Q1448.67 2328.46 1451.51 2326.87 Q1454.37 2325.28 1458.09 2325.28 Q1464.24 2325.28 1467.39 2329.1 Q1470.54 2332.88 1470.54 2340.27 Z\" fill=\"#000000\" fill-rule=\"evenodd\" fill-opacity=\"1\" /><path clip-path=\"url(#clip600)\" d=\"M1498.42 2343.86 Q1491.32 2343.86 1488.59 2345.49 Q1485.85 2347.11 1485.85 2351.03 Q1485.85 2354.14 1487.89 2355.99 Q1489.95 2357.81 1493.49 2357.81 Q1498.36 2357.81 1501.29 2354.37 Q1504.25 2350.9 1504.25 2345.17 L1504.25 2343.86 L1498.42 2343.86 M1510.1 2341.45 L1510.1 2361.78 L1504.25 2361.78 L1504.25 2356.37 Q1502.24 2359.62 1499.25 2361.18 Q1496.26 2362.71 1491.93 2362.71 Q1486.45 2362.71 1483.21 2359.65 Q1479.99 2356.56 1479.99 2351.41 Q1479.99 2345.39 1484 2342.34 Q1488.04 2339.28 1496.03 2339.28 L1504.25 2339.28 L1504.25 2338.71 Q1504.25 2334.67 1501.57 2332.47 Q1498.93 2330.24 1494.12 2330.24 Q1491.07 2330.24 1488.17 2330.97 Q1485.28 2331.71 1482.6 2333.17 L1482.6 2327.76 Q1485.82 2326.52 1488.84 2325.91 Q1491.86 2325.28 1494.73 2325.28 Q1502.46 2325.28 1506.28 2329.29 Q1510.1 2333.3 1510.1 2341.45 Z\" fill=\"#000000\" fill-rule=\"evenodd\" fill-opacity=\"1\" /><path clip-path=\"url(#clip600)\" d=\"M1539.48 2326.14 L1545.34 2326.14 L1552.66 2353.95 L1559.95 2326.14 L1566.85 2326.14 L1574.17 2353.95 L1581.46 2326.14 L1587.32 2326.14 L1577.99 2361.78 L1571.09 2361.78 L1563.41 2332.57 L1555.71 2361.78 L1548.81 2361.78 L1539.48 2326.14 Z\" fill=\"#000000\" fill-rule=\"evenodd\" fill-opacity=\"1\" /><path clip-path=\"url(#clip600)\" d=\"M1611.03 2365.09 Q1608.55 2371.46 1606.19 2373.4 Q1603.84 2375.34 1599.89 2375.34 L1595.21 2375.34 L1595.21 2370.44 L1598.65 2370.44 Q1601.07 2370.44 1602.4 2369.3 Q1603.74 2368.15 1605.36 2363.88 L1606.42 2361.21 L1592 2326.14 L1598.2 2326.14 L1609.34 2354.02 L1620.48 2326.14 L1626.69 2326.14 L1611.03 2365.09 Z\" fill=\"#000000\" fill-rule=\"evenodd\" fill-opacity=\"1\" /><path clip-path=\"url(#clip600)\" d=\"M1664.41 2340.27 L1664.41 2361.78 L1658.55 2361.78 L1658.55 2340.46 Q1658.55 2335.4 1656.58 2332.88 Q1654.6 2330.37 1650.66 2330.37 Q1645.91 2330.37 1643.18 2333.39 Q1640.44 2336.42 1640.44 2341.64 L1640.44 2361.78 L1634.55 2361.78 L1634.55 2326.14 L1640.44 2326.14 L1640.44 2331.67 Q1642.54 2328.46 1645.37 2326.87 Q1648.24 2325.28 1651.96 2325.28 Q1658.1 2325.28 1661.26 2329.1 Q1664.41 2332.88 1664.41 2340.27 Z\" fill=\"#000000\" fill-rule=\"evenodd\" fill-opacity=\"1\" /><path clip-path=\"url(#clip600)\" d=\"M1692.29 2343.86 Q1685.19 2343.86 1682.45 2345.49 Q1679.72 2347.11 1679.72 2351.03 Q1679.72 2354.14 1681.75 2355.99 Q1683.82 2357.81 1687.36 2357.81 Q1692.22 2357.81 1695.15 2354.37 Q1698.11 2350.9 1698.11 2345.17 L1698.11 2343.86 L1692.29 2343.86 M1703.97 2341.45 L1703.97 2361.78 L1698.11 2361.78 L1698.11 2356.37 Q1696.11 2359.62 1693.12 2361.18 Q1690.12 2362.71 1685.8 2362.71 Q1680.32 2362.71 1677.07 2359.65 Q1673.86 2356.56 1673.86 2351.41 Q1673.86 2345.39 1677.87 2342.34 Q1681.91 2339.28 1689.9 2339.28 L1698.11 2339.28 L1698.11 2338.71 Q1698.11 2334.67 1695.44 2332.47 Q1692.8 2330.24 1687.99 2330.24 Q1684.94 2330.24 1682.04 2330.97 Q1679.14 2331.71 1676.47 2333.17 L1676.47 2327.76 Q1679.68 2326.52 1682.71 2325.91 Q1685.73 2325.28 1688.6 2325.28 Q1696.33 2325.28 1700.15 2329.29 Q1703.97 2333.3 1703.97 2341.45 Z\" fill=\"#000000\" fill-rule=\"evenodd\" fill-opacity=\"1\" /><path clip-path=\"url(#clip600)\" d=\"M1739.49 2343.55 Q1739.49 2337.18 1736.85 2333.68 Q1734.24 2330.18 1729.5 2330.18 Q1724.79 2330.18 1722.14 2333.68 Q1719.53 2337.18 1719.53 2343.55 Q1719.53 2349.88 1722.14 2353.38 Q1724.79 2356.88 1729.5 2356.88 Q1734.24 2356.88 1736.85 2353.38 Q1739.49 2349.88 1739.49 2343.55 M1745.35 2357.36 Q1745.35 2366.46 1741.3 2370.89 Q1737.26 2375.34 1728.92 2375.34 Q1725.84 2375.34 1723.1 2374.87 Q1720.36 2374.42 1717.78 2373.46 L1717.78 2367.77 Q1720.36 2369.17 1722.88 2369.84 Q1725.39 2370.5 1728 2370.5 Q1733.76 2370.5 1736.63 2367.48 Q1739.49 2364.49 1739.49 2358.41 L1739.49 2355.51 Q1737.68 2358.66 1734.84 2360.22 Q1732.01 2361.78 1728.06 2361.78 Q1721.51 2361.78 1717.5 2356.79 Q1713.49 2351.79 1713.49 2343.55 Q1713.49 2335.27 1717.5 2330.27 Q1721.51 2325.28 1728.06 2325.28 Q1732.01 2325.28 1734.84 2326.84 Q1737.68 2328.4 1739.49 2331.55 L1739.49 2326.14 L1745.35 2326.14 L1745.35 2357.36 Z\" fill=\"#000000\" fill-rule=\"evenodd\" fill-opacity=\"1\" /><path clip-path=\"url(#clip600)\" d=\"M1778.07 2331.61 Q1777.08 2331.04 1775.9 2330.78 Q1774.76 2330.5 1773.36 2330.5 Q1768.39 2330.5 1765.72 2333.74 Q1763.08 2336.96 1763.08 2343.01 L1763.08 2361.78 L1757.19 2361.78 L1757.19 2326.14 L1763.08 2326.14 L1763.08 2331.67 Q1764.92 2328.43 1767.88 2326.87 Q1770.84 2325.28 1775.07 2325.28 Q1775.68 2325.28 1776.41 2325.37 Q1777.14 2325.44 1778.03 2325.59 L1778.07 2331.61 Z\" fill=\"#000000\" fill-rule=\"evenodd\" fill-opacity=\"1\" /><path clip-path=\"url(#clip600)\" d=\"M1796.59 2330.24 Q1791.88 2330.24 1789.14 2333.93 Q1786.41 2337.59 1786.41 2343.99 Q1786.41 2350.39 1789.11 2354.08 Q1791.85 2357.74 1796.59 2357.74 Q1801.27 2357.74 1804.01 2354.05 Q1806.74 2350.36 1806.74 2343.99 Q1806.74 2337.66 1804.01 2333.97 Q1801.27 2330.24 1796.59 2330.24 M1796.59 2325.28 Q1804.23 2325.28 1808.59 2330.24 Q1812.95 2335.21 1812.95 2343.99 Q1812.95 2352.74 1808.59 2357.74 Q1804.23 2362.71 1796.59 2362.71 Q1788.92 2362.71 1784.56 2357.74 Q1780.23 2352.74 1780.23 2343.99 Q1780.23 2335.21 1784.56 2330.24 Q1788.92 2325.28 1796.59 2325.28 Z\" fill=\"#000000\" fill-rule=\"evenodd\" fill-opacity=\"1\" /><path clip-path=\"url(#clip600)\" d=\"M1846.12 2331.55 L1846.12 2312.26 L1851.97 2312.26 L1851.97 2361.78 L1846.12 2361.78 L1846.12 2356.44 Q1844.27 2359.62 1841.44 2361.18 Q1838.64 2362.71 1834.69 2362.71 Q1828.23 2362.71 1824.15 2357.55 Q1820.11 2352.39 1820.11 2343.99 Q1820.11 2335.59 1824.15 2330.43 Q1828.23 2325.28 1834.69 2325.28 Q1838.64 2325.28 1841.44 2326.84 Q1844.27 2328.36 1846.12 2331.55 M1826.16 2343.99 Q1826.16 2350.45 1828.8 2354.14 Q1831.47 2357.81 1836.12 2357.81 Q1840.77 2357.81 1843.44 2354.14 Q1846.12 2350.45 1846.12 2343.99 Q1846.12 2337.53 1843.44 2333.87 Q1840.77 2330.18 1836.12 2330.18 Q1831.47 2330.18 1828.8 2333.87 Q1826.16 2337.53 1826.16 2343.99 Z\" fill=\"#000000\" fill-rule=\"evenodd\" fill-opacity=\"1\" /><path clip-path=\"url(#clip600)\" d=\"M1861.49 2326.14 L1889.31 2326.14 L1889.31 2331.48 L1867.28 2357.11 L1889.31 2357.11 L1889.31 2361.78 L1860.69 2361.78 L1860.69 2356.44 L1882.72 2330.81 L1861.49 2330.81 L1861.49 2326.14 Z\" fill=\"#000000\" fill-rule=\"evenodd\" fill-opacity=\"1\" /><path clip-path=\"url(#clip600)\" d=\"M1928.74 2342.5 L1928.74 2345.36 L1901.82 2345.36 Q1902.2 2351.41 1905.44 2354.59 Q1908.72 2357.74 1914.55 2357.74 Q1917.92 2357.74 1921.07 2356.91 Q1924.25 2356.09 1927.37 2354.43 L1927.37 2359.97 Q1924.22 2361.31 1920.91 2362.01 Q1917.6 2362.71 1914.2 2362.71 Q1905.67 2362.71 1900.67 2357.74 Q1895.7 2352.78 1895.7 2344.31 Q1895.7 2335.56 1900.42 2330.43 Q1905.16 2325.28 1913.18 2325.28 Q1920.37 2325.28 1924.54 2329.92 Q1928.74 2334.54 1928.74 2342.5 M1922.89 2340.78 Q1922.82 2335.97 1920.18 2333.11 Q1917.57 2330.24 1913.24 2330.24 Q1908.34 2330.24 1905.38 2333.01 Q1902.45 2335.78 1902.01 2340.81 L1922.89 2340.78 Z\" fill=\"#000000\" fill-rule=\"evenodd\" fill-opacity=\"1\" /><path clip-path=\"url(#clip600)\" d=\"M1967.99 2340.27 L1967.99 2361.78 L1962.13 2361.78 L1962.13 2340.46 Q1962.13 2335.4 1960.16 2332.88 Q1958.18 2330.37 1954.24 2330.37 Q1949.49 2330.37 1946.76 2333.39 Q1944.02 2336.42 1944.02 2341.64 L1944.02 2361.78 L1938.13 2361.78 L1938.13 2326.14 L1944.02 2326.14 L1944.02 2331.67 Q1946.12 2328.46 1948.95 2326.87 Q1951.82 2325.28 1955.54 2325.28 Q1961.69 2325.28 1964.84 2329.1 Q1967.99 2332.88 1967.99 2340.27 Z\" fill=\"#000000\" fill-rule=\"evenodd\" fill-opacity=\"1\" /><path clip-path=\"url(#clip600)\" d=\"M1979.67 2326.14 L1985.52 2326.14 L1985.52 2361.78 L1979.67 2361.78 L1979.67 2326.14 M1979.67 2312.26 L1985.52 2312.26 L1985.52 2319.67 L1979.67 2319.67 L1979.67 2312.26 Z\" fill=\"#000000\" fill-rule=\"evenodd\" fill-opacity=\"1\" /><path clip-path=\"url(#clip600)\" d=\"M2013.98 2343.86 Q2006.88 2343.86 2004.14 2345.49 Q2001.41 2347.11 2001.41 2351.03 Q2001.41 2354.14 2003.44 2355.99 Q2005.51 2357.81 2009.05 2357.81 Q2013.92 2357.81 2016.84 2354.37 Q2019.8 2350.9 2019.8 2345.17 L2019.8 2343.86 L2013.98 2343.86 M2025.66 2341.45 L2025.66 2361.78 L2019.8 2361.78 L2019.8 2356.37 Q2017.8 2359.62 2014.81 2361.18 Q2011.82 2362.71 2007.49 2362.71 Q2002.01 2362.71 1998.77 2359.65 Q1995.55 2356.56 1995.55 2351.41 Q1995.55 2345.39 1999.56 2342.34 Q2003.6 2339.28 2011.59 2339.28 L2019.8 2339.28 L2019.8 2338.71 Q2019.8 2334.67 2017.13 2332.47 Q2014.49 2330.24 2009.68 2330.24 Q2006.63 2330.24 2003.73 2330.97 Q2000.83 2331.71 1998.16 2333.17 L1998.16 2327.76 Q2001.38 2326.52 2004.4 2325.91 Q2007.42 2325.28 2010.29 2325.28 Q2018.02 2325.28 2021.84 2329.29 Q2025.66 2333.3 2025.66 2341.45 Z\" fill=\"#000000\" fill-rule=\"evenodd\" fill-opacity=\"1\" /><path clip-path=\"url(#clip600)\" d=\"M2057.9 2312.26 L2071.4 2312.26 L2071.4 2316.81 L2063.76 2316.81 L2063.76 2365.83 L2071.4 2365.83 L2071.4 2370.38 L2057.9 2370.38 L2057.9 2312.26 Z\" fill=\"#000000\" fill-rule=\"evenodd\" fill-opacity=\"1\" /><path clip-path=\"url(#clip600)\" d=\"M2125.12 2340.87 Q2122.36 2340.87 2120.76 2343.23 Q2119.2 2345.58 2119.2 2349.78 Q2119.2 2353.92 2120.76 2356.31 Q2122.36 2358.66 2125.12 2358.66 Q2127.83 2358.66 2129.39 2356.31 Q2130.98 2353.92 2130.98 2349.78 Q2130.98 2345.61 2129.39 2343.26 Q2127.83 2340.87 2125.12 2340.87 M2125.12 2336.83 Q2130.15 2336.83 2133.11 2340.33 Q2136.07 2343.83 2136.07 2349.78 Q2136.07 2355.74 2133.08 2359.24 Q2130.12 2362.71 2125.12 2362.71 Q2120.03 2362.71 2117.07 2359.24 Q2114.11 2355.74 2114.11 2349.78 Q2114.11 2343.8 2117.07 2340.33 Q2120.06 2336.83 2125.12 2336.83 M2092.28 2317.45 Q2089.54 2317.45 2087.95 2319.83 Q2086.39 2322.19 2086.39 2326.33 Q2086.39 2330.53 2087.95 2332.88 Q2089.51 2335.24 2092.28 2335.24 Q2095.05 2335.24 2096.61 2332.88 Q2098.2 2330.53 2098.2 2326.33 Q2098.2 2322.22 2096.61 2319.83 Q2095.02 2317.45 2092.28 2317.45 M2121.02 2313.4 L2126.11 2313.4 L2096.38 2362.71 L2091.29 2362.71 L2121.02 2313.4 M2092.28 2313.4 Q2097.31 2313.4 2100.3 2316.91 Q2103.29 2320.37 2103.29 2326.33 Q2103.29 2332.34 2100.3 2335.81 Q2097.34 2339.28 2092.28 2339.28 Q2087.22 2339.28 2084.26 2335.81 Q2081.33 2332.31 2081.33 2326.33 Q2081.33 2320.41 2084.29 2316.91 Q2087.25 2313.4 2092.28 2313.4 Z\" fill=\"#000000\" fill-rule=\"evenodd\" fill-opacity=\"1\" /><path clip-path=\"url(#clip600)\" d=\"M2159.5 2312.26 L2159.5 2370.38 L2146 2370.38 L2146 2365.83 L2153.61 2365.83 L2153.61 2316.81 L2146 2316.81 L2146 2312.26 L2159.5 2312.26 Z\" fill=\"#000000\" fill-rule=\"evenodd\" fill-opacity=\"1\" /><polyline clip-path=\"url(#clip602)\" style=\"stroke:#000000; stroke-linecap:round; stroke-linejoin:round; stroke-width:2; stroke-opacity:0.1; fill:none\" points=\"278.227,2025.9 3152.76,2025.9 \"/>\n",
       "<polyline clip-path=\"url(#clip602)\" style=\"stroke:#000000; stroke-linecap:round; stroke-linejoin:round; stroke-width:2; stroke-opacity:0.1; fill:none\" points=\"278.227,1402.47 3152.76,1402.47 \"/>\n",
       "<polyline clip-path=\"url(#clip602)\" style=\"stroke:#000000; stroke-linecap:round; stroke-linejoin:round; stroke-width:2; stroke-opacity:0.1; fill:none\" points=\"278.227,779.044 3152.76,779.044 \"/>\n",
       "<polyline clip-path=\"url(#clip602)\" style=\"stroke:#000000; stroke-linecap:round; stroke-linejoin:round; stroke-width:2; stroke-opacity:0.1; fill:none\" points=\"278.227,155.617 3152.76,155.617 \"/>\n",
       "<polyline clip-path=\"url(#clip600)\" style=\"stroke:#000000; stroke-linecap:round; stroke-linejoin:round; stroke-width:4; stroke-opacity:1; fill:none\" points=\"278.227,2204.92 278.227,131.032 \"/>\n",
       "<polyline clip-path=\"url(#clip600)\" style=\"stroke:#000000; stroke-linecap:round; stroke-linejoin:round; stroke-width:4; stroke-opacity:1; fill:none\" points=\"278.227,2025.9 297.125,2025.9 \"/>\n",
       "<polyline clip-path=\"url(#clip600)\" style=\"stroke:#000000; stroke-linecap:round; stroke-linejoin:round; stroke-width:4; stroke-opacity:1; fill:none\" points=\"278.227,1402.47 297.125,1402.47 \"/>\n",
       "<polyline clip-path=\"url(#clip600)\" style=\"stroke:#000000; stroke-linecap:round; stroke-linejoin:round; stroke-width:4; stroke-opacity:1; fill:none\" points=\"278.227,779.044 297.125,779.044 \"/>\n",
       "<polyline clip-path=\"url(#clip600)\" style=\"stroke:#000000; stroke-linecap:round; stroke-linejoin:round; stroke-width:4; stroke-opacity:1; fill:none\" points=\"278.227,155.617 297.125,155.617 \"/>\n",
       "<path clip-path=\"url(#clip600)\" d=\"M118.608 2039.24 L126.246 2039.24 L126.246 2012.88 L117.936 2014.54 L117.936 2010.28 L126.2 2008.62 L130.876 2008.62 L130.876 2039.24 L138.515 2039.24 L138.515 2043.18 L118.608 2043.18 L118.608 2039.24 Z\" fill=\"#000000\" fill-rule=\"evenodd\" fill-opacity=\"1\" /><path clip-path=\"url(#clip600)\" d=\"M157.959 2011.7 Q154.348 2011.7 152.519 2015.26 Q150.714 2018.8 150.714 2025.93 Q150.714 2033.04 152.519 2036.6 Q154.348 2040.15 157.959 2040.15 Q161.593 2040.15 163.399 2036.6 Q165.228 2033.04 165.228 2025.93 Q165.228 2018.8 163.399 2015.26 Q161.593 2011.7 157.959 2011.7 M157.959 2007.99 Q163.769 2007.99 166.825 2012.6 Q169.904 2017.18 169.904 2025.93 Q169.904 2034.66 166.825 2039.27 Q163.769 2043.85 157.959 2043.85 Q152.149 2043.85 149.07 2039.27 Q146.015 2034.66 146.015 2025.93 Q146.015 2017.18 149.07 2012.6 Q152.149 2007.99 157.959 2007.99 Z\" fill=\"#000000\" fill-rule=\"evenodd\" fill-opacity=\"1\" /><path clip-path=\"url(#clip600)\" d=\"M188.121 2011.7 Q184.51 2011.7 182.681 2015.26 Q180.876 2018.8 180.876 2025.93 Q180.876 2033.04 182.681 2036.6 Q184.51 2040.15 188.121 2040.15 Q191.755 2040.15 193.561 2036.6 Q195.39 2033.04 195.39 2025.93 Q195.39 2018.8 193.561 2015.26 Q191.755 2011.7 188.121 2011.7 M188.121 2007.99 Q193.931 2007.99 196.987 2012.6 Q200.065 2017.18 200.065 2025.93 Q200.065 2034.66 196.987 2039.27 Q193.931 2043.85 188.121 2043.85 Q182.311 2043.85 179.232 2039.27 Q176.177 2034.66 176.177 2025.93 Q176.177 2017.18 179.232 2012.6 Q182.311 2007.99 188.121 2007.99 Z\" fill=\"#000000\" fill-rule=\"evenodd\" fill-opacity=\"1\" /><path clip-path=\"url(#clip600)\" d=\"M218.283 2011.7 Q214.672 2011.7 212.843 2015.26 Q211.038 2018.8 211.038 2025.93 Q211.038 2033.04 212.843 2036.6 Q214.672 2040.15 218.283 2040.15 Q221.917 2040.15 223.723 2036.6 Q225.551 2033.04 225.551 2025.93 Q225.551 2018.8 223.723 2015.26 Q221.917 2011.7 218.283 2011.7 M218.283 2007.99 Q224.093 2007.99 227.149 2012.6 Q230.227 2017.18 230.227 2025.93 Q230.227 2034.66 227.149 2039.27 Q224.093 2043.85 218.283 2043.85 Q212.473 2043.85 209.394 2039.27 Q206.339 2034.66 206.339 2025.93 Q206.339 2017.18 209.394 2012.6 Q212.473 2007.99 218.283 2007.99 Z\" fill=\"#000000\" fill-rule=\"evenodd\" fill-opacity=\"1\" /><path clip-path=\"url(#clip600)\" d=\"M118.608 1415.82 L126.246 1415.82 L126.246 1389.45 L117.936 1391.12 L117.936 1386.86 L126.2 1385.19 L130.876 1385.19 L130.876 1415.82 L138.515 1415.82 L138.515 1419.75 L118.608 1419.75 L118.608 1415.82 Z\" fill=\"#000000\" fill-rule=\"evenodd\" fill-opacity=\"1\" /><path clip-path=\"url(#clip600)\" d=\"M148.006 1385.19 L166.362 1385.19 L166.362 1389.13 L152.288 1389.13 L152.288 1397.6 Q153.306 1397.25 154.325 1397.09 Q155.343 1396.9 156.362 1396.9 Q162.149 1396.9 165.529 1400.08 Q168.908 1403.25 168.908 1408.66 Q168.908 1414.24 165.436 1417.34 Q161.964 1420.42 155.644 1420.42 Q153.468 1420.42 151.2 1420.05 Q148.955 1419.68 146.547 1418.94 L146.547 1414.24 Q148.631 1415.38 150.853 1415.93 Q153.075 1416.49 155.552 1416.49 Q159.556 1416.49 161.894 1414.38 Q164.232 1412.27 164.232 1408.66 Q164.232 1405.05 161.894 1402.95 Q159.556 1400.84 155.552 1400.84 Q153.677 1400.84 151.802 1401.26 Q149.95 1401.67 148.006 1402.55 L148.006 1385.19 Z\" fill=\"#000000\" fill-rule=\"evenodd\" fill-opacity=\"1\" /><path clip-path=\"url(#clip600)\" d=\"M188.121 1388.27 Q184.51 1388.27 182.681 1391.83 Q180.876 1395.38 180.876 1402.51 Q180.876 1409.61 182.681 1413.18 Q184.51 1416.72 188.121 1416.72 Q191.755 1416.72 193.561 1413.18 Q195.39 1409.61 195.39 1402.51 Q195.39 1395.38 193.561 1391.83 Q191.755 1388.27 188.121 1388.27 M188.121 1384.57 Q193.931 1384.57 196.987 1389.17 Q200.065 1393.76 200.065 1402.51 Q200.065 1411.23 196.987 1415.84 Q193.931 1420.42 188.121 1420.42 Q182.311 1420.42 179.232 1415.84 Q176.177 1411.23 176.177 1402.51 Q176.177 1393.76 179.232 1389.17 Q182.311 1384.57 188.121 1384.57 Z\" fill=\"#000000\" fill-rule=\"evenodd\" fill-opacity=\"1\" /><path clip-path=\"url(#clip600)\" d=\"M218.283 1388.27 Q214.672 1388.27 212.843 1391.83 Q211.038 1395.38 211.038 1402.51 Q211.038 1409.61 212.843 1413.18 Q214.672 1416.72 218.283 1416.72 Q221.917 1416.72 223.723 1413.18 Q225.551 1409.61 225.551 1402.51 Q225.551 1395.38 223.723 1391.83 Q221.917 1388.27 218.283 1388.27 M218.283 1384.57 Q224.093 1384.57 227.149 1389.17 Q230.227 1393.76 230.227 1402.51 Q230.227 1411.23 227.149 1415.84 Q224.093 1420.42 218.283 1420.42 Q212.473 1420.42 209.394 1415.84 Q206.339 1411.23 206.339 1402.51 Q206.339 1393.76 209.394 1389.17 Q212.473 1384.57 218.283 1384.57 Z\" fill=\"#000000\" fill-rule=\"evenodd\" fill-opacity=\"1\" /><path clip-path=\"url(#clip600)\" d=\"M121.825 792.389 L138.144 792.389 L138.144 796.324 L116.2 796.324 L116.2 792.389 Q118.862 789.634 123.445 785.004 Q128.052 780.352 129.232 779.009 Q131.478 776.486 132.357 774.75 Q133.26 772.991 133.26 771.301 Q133.26 768.546 131.316 766.81 Q129.395 765.074 126.293 765.074 Q124.094 765.074 121.64 765.838 Q119.209 766.602 116.432 768.153 L116.432 763.43 Q119.256 762.296 121.709 761.718 Q124.163 761.139 126.2 761.139 Q131.57 761.139 134.765 763.824 Q137.959 766.509 137.959 771 Q137.959 773.129 137.149 775.051 Q136.362 776.949 134.256 779.541 Q133.677 780.213 130.575 783.43 Q127.473 786.625 121.825 792.389 Z\" fill=\"#000000\" fill-rule=\"evenodd\" fill-opacity=\"1\" /><path clip-path=\"url(#clip600)\" d=\"M157.959 764.842 Q154.348 764.842 152.519 768.407 Q150.714 771.949 150.714 779.079 Q150.714 786.185 152.519 789.75 Q154.348 793.291 157.959 793.291 Q161.593 793.291 163.399 789.75 Q165.228 786.185 165.228 779.079 Q165.228 771.949 163.399 768.407 Q161.593 764.842 157.959 764.842 M157.959 761.139 Q163.769 761.139 166.825 765.745 Q169.904 770.329 169.904 779.079 Q169.904 787.805 166.825 792.412 Q163.769 796.995 157.959 796.995 Q152.149 796.995 149.07 792.412 Q146.015 787.805 146.015 779.079 Q146.015 770.329 149.07 765.745 Q152.149 761.139 157.959 761.139 Z\" fill=\"#000000\" fill-rule=\"evenodd\" fill-opacity=\"1\" /><path clip-path=\"url(#clip600)\" d=\"M188.121 764.842 Q184.51 764.842 182.681 768.407 Q180.876 771.949 180.876 779.079 Q180.876 786.185 182.681 789.75 Q184.51 793.291 188.121 793.291 Q191.755 793.291 193.561 789.75 Q195.39 786.185 195.39 779.079 Q195.39 771.949 193.561 768.407 Q191.755 764.842 188.121 764.842 M188.121 761.139 Q193.931 761.139 196.987 765.745 Q200.065 770.329 200.065 779.079 Q200.065 787.805 196.987 792.412 Q193.931 796.995 188.121 796.995 Q182.311 796.995 179.232 792.412 Q176.177 787.805 176.177 779.079 Q176.177 770.329 179.232 765.745 Q182.311 761.139 188.121 761.139 Z\" fill=\"#000000\" fill-rule=\"evenodd\" fill-opacity=\"1\" /><path clip-path=\"url(#clip600)\" d=\"M218.283 764.842 Q214.672 764.842 212.843 768.407 Q211.038 771.949 211.038 779.079 Q211.038 786.185 212.843 789.75 Q214.672 793.291 218.283 793.291 Q221.917 793.291 223.723 789.75 Q225.551 786.185 225.551 779.079 Q225.551 771.949 223.723 768.407 Q221.917 764.842 218.283 764.842 M218.283 761.139 Q224.093 761.139 227.149 765.745 Q230.227 770.329 230.227 779.079 Q230.227 787.805 227.149 792.412 Q224.093 796.995 218.283 796.995 Q212.473 796.995 209.394 792.412 Q206.339 787.805 206.339 779.079 Q206.339 770.329 209.394 765.745 Q212.473 761.139 218.283 761.139 Z\" fill=\"#000000\" fill-rule=\"evenodd\" fill-opacity=\"1\" /><path clip-path=\"url(#clip600)\" d=\"M121.825 168.961 L138.144 168.961 L138.144 172.897 L116.2 172.897 L116.2 168.961 Q118.862 166.207 123.445 161.577 Q128.052 156.924 129.232 155.582 Q131.478 153.059 132.357 151.323 Q133.26 149.563 133.26 147.874 Q133.26 145.119 131.316 143.383 Q129.395 141.647 126.293 141.647 Q124.094 141.647 121.64 142.411 Q119.209 143.175 116.432 144.725 L116.432 140.003 Q119.256 138.869 121.709 138.29 Q124.163 137.712 126.2 137.712 Q131.57 137.712 134.765 140.397 Q137.959 143.082 137.959 147.573 Q137.959 149.702 137.149 151.624 Q136.362 153.522 134.256 156.114 Q133.677 156.786 130.575 160.003 Q127.473 163.198 121.825 168.961 Z\" fill=\"#000000\" fill-rule=\"evenodd\" fill-opacity=\"1\" /><path clip-path=\"url(#clip600)\" d=\"M148.006 138.337 L166.362 138.337 L166.362 142.272 L152.288 142.272 L152.288 150.744 Q153.306 150.397 154.325 150.235 Q155.343 150.05 156.362 150.05 Q162.149 150.05 165.529 153.221 Q168.908 156.392 168.908 161.809 Q168.908 167.387 165.436 170.489 Q161.964 173.568 155.644 173.568 Q153.468 173.568 151.2 173.198 Q148.955 172.827 146.547 172.086 L146.547 167.387 Q148.631 168.522 150.853 169.077 Q153.075 169.633 155.552 169.633 Q159.556 169.633 161.894 167.526 Q164.232 165.42 164.232 161.809 Q164.232 158.198 161.894 156.091 Q159.556 153.985 155.552 153.985 Q153.677 153.985 151.802 154.401 Q149.95 154.818 148.006 155.698 L148.006 138.337 Z\" fill=\"#000000\" fill-rule=\"evenodd\" fill-opacity=\"1\" /><path clip-path=\"url(#clip600)\" d=\"M188.121 141.415 Q184.51 141.415 182.681 144.98 Q180.876 148.522 180.876 155.651 Q180.876 162.758 182.681 166.323 Q184.51 169.864 188.121 169.864 Q191.755 169.864 193.561 166.323 Q195.39 162.758 195.39 155.651 Q195.39 148.522 193.561 144.98 Q191.755 141.415 188.121 141.415 M188.121 137.712 Q193.931 137.712 196.987 142.318 Q200.065 146.901 200.065 155.651 Q200.065 164.378 196.987 168.985 Q193.931 173.568 188.121 173.568 Q182.311 173.568 179.232 168.985 Q176.177 164.378 176.177 155.651 Q176.177 146.901 179.232 142.318 Q182.311 137.712 188.121 137.712 Z\" fill=\"#000000\" fill-rule=\"evenodd\" fill-opacity=\"1\" /><path clip-path=\"url(#clip600)\" d=\"M218.283 141.415 Q214.672 141.415 212.843 144.98 Q211.038 148.522 211.038 155.651 Q211.038 162.758 212.843 166.323 Q214.672 169.864 218.283 169.864 Q221.917 169.864 223.723 166.323 Q225.551 162.758 225.551 155.651 Q225.551 148.522 223.723 144.98 Q221.917 141.415 218.283 141.415 M218.283 137.712 Q224.093 137.712 227.149 142.318 Q230.227 146.901 230.227 155.651 Q230.227 164.378 227.149 168.985 Q224.093 173.568 218.283 173.568 Q212.473 173.568 209.394 168.985 Q206.339 164.378 206.339 155.651 Q206.339 146.901 209.394 142.318 Q212.473 137.712 218.283 137.712 Z\" fill=\"#000000\" fill-rule=\"evenodd\" fill-opacity=\"1\" /><path clip-path=\"url(#clip600)\" d=\"M11.7077 1242.58 L29.5635 1242.58 L29.5635 1234.5 Q29.5635 1230.01 27.24 1227.56 Q24.9165 1225.11 20.6197 1225.11 Q16.3547 1225.11 14.0312 1227.56 Q11.7077 1230.01 11.7077 1234.5 L11.7077 1242.58 M6.42416 1249.01 L6.42416 1234.5 Q6.42416 1226.51 10.0526 1222.43 Q13.6492 1218.33 20.6197 1218.33 Q27.6538 1218.33 31.2504 1222.43 Q34.847 1226.51 34.847 1234.5 L34.847 1242.58 L53.9442 1242.58 L53.9442 1249.01 L6.42416 1249.01 Z\" fill=\"#000000\" fill-rule=\"evenodd\" fill-opacity=\"1\" /><path clip-path=\"url(#clip600)\" d=\"M23.7707 1190.45 Q23.1978 1191.43 22.9432 1192.61 Q22.6567 1193.76 22.6567 1195.16 Q22.6567 1200.12 25.9032 1202.8 Q29.1179 1205.44 35.1653 1205.44 L53.9442 1205.44 L53.9442 1211.33 L18.2962 1211.33 L18.2962 1205.44 L23.8344 1205.44 Q20.5879 1203.59 19.0283 1200.63 Q17.4368 1197.67 17.4368 1193.44 Q17.4368 1192.83 17.5323 1192.1 Q17.596 1191.37 17.7551 1190.48 L23.7707 1190.45 Z\" fill=\"#000000\" fill-rule=\"evenodd\" fill-opacity=\"1\" /><path clip-path=\"url(#clip600)\" d=\"M22.4021 1171.92 Q22.4021 1176.63 26.0942 1179.37 Q29.7545 1182.11 36.152 1182.11 Q42.5495 1182.11 46.2417 1179.4 Q49.9019 1176.67 49.9019 1171.92 Q49.9019 1167.24 46.2098 1164.51 Q42.5177 1161.77 36.152 1161.77 Q29.8181 1161.77 26.126 1164.51 Q22.4021 1167.24 22.4021 1171.92 M17.4368 1171.92 Q17.4368 1164.28 22.4021 1159.92 Q27.3673 1155.56 36.152 1155.56 Q44.9049 1155.56 49.9019 1159.92 Q54.8672 1164.28 54.8672 1171.92 Q54.8672 1179.59 49.9019 1183.95 Q44.9049 1188.28 36.152 1188.28 Q27.3673 1188.28 22.4021 1183.95 Q17.4368 1179.59 17.4368 1171.92 Z\" fill=\"#000000\" fill-rule=\"evenodd\" fill-opacity=\"1\" /><path clip-path=\"url(#clip600)\" d=\"M4.41896 1127.81 L9.28873 1127.81 L9.28873 1133.41 Q9.28873 1136.56 10.5619 1137.8 Q11.835 1139.01 15.1452 1139.01 L18.2962 1139.01 L18.2962 1129.37 L22.8477 1129.37 L22.8477 1139.01 L53.9442 1139.01 L53.9442 1144.9 L22.8477 1144.9 L22.8477 1150.5 L18.2962 1150.5 L18.2962 1144.9 L15.8136 1144.9 Q9.86164 1144.9 7.15621 1142.13 Q4.41896 1139.36 4.41896 1133.35 L4.41896 1127.81 Z\" fill=\"#000000\" fill-rule=\"evenodd\" fill-opacity=\"1\" /><path clip-path=\"url(#clip600)\" d=\"M18.2962 1122.91 L18.2962 1117.05 L53.9442 1117.05 L53.9442 1122.91 L18.2962 1122.91 M4.41896 1122.91 L4.41896 1117.05 L11.835 1117.05 L11.835 1122.91 L4.41896 1122.91 Z\" fill=\"#000000\" fill-rule=\"evenodd\" fill-opacity=\"1\" /><path clip-path=\"url(#clip600)\" d=\"M8.17473 1099 L18.2962 1099 L18.2962 1086.94 L22.8477 1086.94 L22.8477 1099 L42.1994 1099 Q46.5599 1099 47.8013 1097.83 Q49.0426 1096.62 49.0426 1092.96 L49.0426 1086.94 L53.9442 1086.94 L53.9442 1092.96 Q53.9442 1099.74 51.4297 1102.31 Q48.8834 1104.89 42.1994 1104.89 L22.8477 1104.89 L22.8477 1109.19 L18.2962 1109.19 L18.2962 1104.89 L8.17473 1104.89 L8.17473 1099 Z\" fill=\"#000000\" fill-rule=\"evenodd\" fill-opacity=\"1\" /><path clip-path=\"url(#clip600)\" d=\"M425.582 12.096 L433.846 12.096 L446.566 63.2184 L459.245 12.096 L468.441 12.096 L481.161 63.2184 L493.84 12.096 L502.145 12.096 L486.954 72.576 L476.664 72.576 L463.904 20.0763 L451.022 72.576 L440.733 72.576 L425.582 12.096 Z\" fill=\"#000000\" fill-rule=\"evenodd\" fill-opacity=\"1\" /><path clip-path=\"url(#clip600)\" d=\"M530.096 76.7889 Q526.936 84.8907 523.938 87.3618 Q520.941 89.8329 515.918 89.8329 L509.963 89.8329 L509.963 83.5945 L514.338 83.5945 Q517.416 83.5945 519.118 82.1361 Q520.819 80.6778 522.885 75.2496 L524.222 71.8468 L505.871 27.2059 L513.771 27.2059 L527.949 62.6918 L542.127 27.2059 L550.026 27.2059 L530.096 76.7889 Z\" fill=\"#000000\" fill-rule=\"evenodd\" fill-opacity=\"1\" /><path clip-path=\"url(#clip600)\" d=\"M560.032 9.54393 L567.526 9.54393 L567.526 46.7717 L589.766 27.2059 L599.285 27.2059 L575.223 48.4326 L600.298 72.576 L590.576 72.576 L567.526 50.4176 L567.526 72.576 L560.032 72.576 L560.032 9.54393 Z\" fill=\"#000000\" fill-rule=\"evenodd\" fill-opacity=\"1\" /><path clip-path=\"url(#clip600)\" d=\"M634.65 34.1734 Q633.394 33.4443 631.895 33.1202 Q630.437 32.7556 628.654 32.7556 Q622.335 32.7556 618.932 36.8875 Q615.57 40.9789 615.57 48.6757 L615.57 72.576 L608.076 72.576 L608.076 27.2059 L615.57 27.2059 L615.57 34.2544 Q617.919 30.1225 621.687 28.1376 Q625.454 26.1121 630.842 26.1121 Q631.611 26.1121 632.543 26.2337 Q633.475 26.3147 634.609 26.5172 L634.65 34.1734 Z\" fill=\"#000000\" fill-rule=\"evenodd\" fill-opacity=\"1\" /><path clip-path=\"url(#clip600)\" d=\"M679.453 48.0275 L679.453 51.6733 L645.182 51.6733 Q645.668 59.3701 649.8 63.421 Q653.972 67.4314 661.386 67.4314 Q665.68 67.4314 669.69 66.3781 Q673.741 65.3249 677.711 63.2184 L677.711 70.267 Q673.7 71.9684 669.487 72.8596 Q665.274 73.7508 660.94 73.7508 Q650.084 73.7508 643.724 67.4314 Q637.404 61.1119 637.404 50.3365 Q637.404 39.1965 643.4 32.6746 Q649.435 26.1121 659.644 26.1121 Q668.799 26.1121 674.105 32.0264 Q679.453 37.9003 679.453 48.0275 M671.999 45.84 Q671.918 39.7232 668.556 36.0774 Q665.234 32.4315 659.725 32.4315 Q653.486 32.4315 649.719 35.9558 Q645.992 39.4801 645.425 45.8805 L671.999 45.84 Z\" fill=\"#000000\" fill-rule=\"evenodd\" fill-opacity=\"1\" /><path clip-path=\"url(#clip600)\" d=\"M720.61 28.5427 L720.61 35.5912 Q717.45 33.9709 714.047 33.1607 Q710.645 32.3505 706.999 32.3505 Q701.449 32.3505 698.654 34.0519 Q695.899 35.7533 695.899 39.156 Q695.899 41.7486 697.884 43.2475 Q699.869 44.7058 705.865 46.0426 L708.417 46.6097 Q716.356 48.3111 719.678 51.4303 Q723.04 54.509 723.04 60.0587 Q723.04 66.3781 718.017 70.0644 Q713.035 73.7508 704.285 73.7508 Q700.639 73.7508 696.669 73.0216 Q692.74 72.3329 688.365 70.9151 L688.365 63.2184 Q692.497 65.3654 696.507 66.4591 Q700.517 67.5124 704.447 67.5124 Q709.713 67.5124 712.548 65.73 Q715.384 63.9071 715.384 60.6258 Q715.384 57.5877 713.318 55.9673 Q711.293 54.3469 704.366 52.8481 L701.773 52.2405 Q694.846 50.7821 691.767 47.7845 Q688.689 44.7463 688.689 39.4801 Q688.689 33.0797 693.226 29.5959 Q697.763 26.1121 706.108 26.1121 Q710.239 26.1121 713.885 26.7198 Q717.531 27.3274 720.61 28.5427 Z\" fill=\"#000000\" fill-rule=\"evenodd\" fill-opacity=\"1\" /><path clip-path=\"url(#clip600)\" d=\"M758.04 27.2059 L793.445 27.2059 L793.445 34.0114 L765.413 66.6212 L793.445 66.6212 L793.445 72.576 L757.027 72.576 L757.027 65.7705 L785.06 33.1607 L758.04 33.1607 L758.04 27.2059 Z\" fill=\"#000000\" fill-rule=\"evenodd\" fill-opacity=\"1\" /><path clip-path=\"url(#clip600)\" d=\"M840.152 35.9153 Q842.947 30.8922 846.836 28.5022 Q850.725 26.1121 855.991 26.1121 Q863.08 26.1121 866.928 31.0947 Q870.777 36.0368 870.777 45.1919 L870.777 72.576 L863.283 72.576 L863.283 45.4349 Q863.283 38.913 860.974 35.7533 Q858.665 32.5936 853.925 32.5936 Q848.132 32.5936 844.77 36.4419 Q841.408 40.2903 841.408 46.9338 L841.408 72.576 L833.914 72.576 L833.914 45.4349 Q833.914 38.8725 831.605 35.7533 Q829.296 32.5936 824.475 32.5936 Q818.763 32.5936 815.401 36.4824 Q812.039 40.3308 812.039 46.9338 L812.039 72.576 L804.545 72.576 L804.545 27.2059 L812.039 27.2059 L812.039 34.2544 Q814.591 30.082 818.156 28.0971 Q821.72 26.1121 826.622 26.1121 Q831.564 26.1121 835.007 28.6237 Q838.491 31.1352 840.152 35.9153 Z\" fill=\"#000000\" fill-rule=\"evenodd\" fill-opacity=\"1\" /><path clip-path=\"url(#clip600)\" d=\"M885.644 27.2059 L893.097 27.2059 L893.097 72.576 L885.644 72.576 L885.644 27.2059 M885.644 9.54393 L893.097 9.54393 L893.097 18.9825 L885.644 18.9825 L885.644 9.54393 Z\" fill=\"#000000\" fill-rule=\"evenodd\" fill-opacity=\"1\" /><path clip-path=\"url(#clip600)\" d=\"M929.312 49.7694 Q920.279 49.7694 916.795 51.8354 Q913.311 53.9013 913.311 58.8839 Q913.311 62.8538 915.904 65.2034 Q918.537 67.5124 923.033 67.5124 Q929.231 67.5124 932.958 63.1374 Q936.726 58.7219 936.726 51.4303 L936.726 49.7694 L929.312 49.7694 M944.179 46.6907 L944.179 72.576 L936.726 72.576 L936.726 65.6895 Q934.173 69.8214 930.366 71.8063 Q926.558 73.7508 921.049 73.7508 Q914.081 73.7508 909.949 69.8619 Q905.858 65.9325 905.858 59.3701 Q905.858 51.7138 910.962 47.825 Q916.106 43.9361 926.274 43.9361 L936.726 43.9361 L936.726 43.2069 Q936.726 38.0623 933.323 35.2672 Q929.961 32.4315 923.844 32.4315 Q919.955 32.4315 916.268 33.3632 Q912.582 34.295 909.179 36.1584 L909.179 29.2718 Q913.271 27.692 917.119 26.9223 Q920.968 26.1121 924.613 26.1121 Q934.457 26.1121 939.318 31.2163 Q944.179 36.3204 944.179 46.6907 Z\" fill=\"#000000\" fill-rule=\"evenodd\" fill-opacity=\"1\" /><path clip-path=\"url(#clip600)\" d=\"M997.246 45.1919 L997.246 72.576 L989.792 72.576 L989.792 45.4349 Q989.792 38.994 987.281 35.7938 Q984.769 32.5936 979.746 32.5936 Q973.71 32.5936 970.227 36.4419 Q966.743 40.2903 966.743 46.9338 L966.743 72.576 L959.249 72.576 L959.249 27.2059 L966.743 27.2059 L966.743 34.2544 Q969.416 30.163 973.022 28.1376 Q976.667 26.1121 981.407 26.1121 Q989.225 26.1121 993.236 30.9732 Q997.246 35.7938 997.246 45.1919 Z\" fill=\"#000000\" fill-rule=\"evenodd\" fill-opacity=\"1\" /><path clip-path=\"url(#clip600)\" d=\"M1030.99 76.7889 Q1027.83 84.8907 1024.83 87.3618 Q1021.84 89.8329 1016.81 89.8329 L1010.86 89.8329 L1010.86 83.5945 L1015.23 83.5945 Q1018.31 83.5945 1020.01 82.1361 Q1021.71 80.6778 1023.78 75.2496 L1025.12 71.8468 L1006.77 27.2059 L1014.66 27.2059 L1028.84 62.6918 L1043.02 27.2059 L1050.92 27.2059 L1030.99 76.7889 Z\" fill=\"#000000\" fill-rule=\"evenodd\" fill-opacity=\"1\" /><path clip-path=\"url(#clip600)\" d=\"M1094.79 65.7705 L1094.79 89.8329 L1087.3 89.8329 L1087.3 27.2059 L1094.79 27.2059 L1094.79 34.0924 Q1097.14 30.0415 1100.71 28.0971 Q1104.31 26.1121 1109.29 26.1121 Q1117.56 26.1121 1122.7 32.6746 Q1127.89 39.2371 1127.89 49.9314 Q1127.89 60.6258 1122.7 67.1883 Q1117.56 73.7508 1109.29 73.7508 Q1104.31 73.7508 1100.71 71.8063 Q1097.14 69.8214 1094.79 65.7705 M1120.15 49.9314 Q1120.15 41.7081 1116.75 37.0496 Q1113.39 32.3505 1107.47 32.3505 Q1101.56 32.3505 1098.15 37.0496 Q1094.79 41.7081 1094.79 49.9314 Q1094.79 58.1548 1098.15 62.8538 Q1101.56 67.5124 1107.47 67.5124 Q1113.39 67.5124 1116.75 62.8538 Q1120.15 58.1548 1120.15 49.9314 Z\" fill=\"#000000\" fill-rule=\"evenodd\" fill-opacity=\"1\" /><path clip-path=\"url(#clip600)\" d=\"M1166.53 34.1734 Q1165.28 33.4443 1163.78 33.1202 Q1162.32 32.7556 1160.54 32.7556 Q1154.22 32.7556 1150.82 36.8875 Q1147.45 40.9789 1147.45 48.6757 L1147.45 72.576 L1139.96 72.576 L1139.96 27.2059 L1147.45 27.2059 L1147.45 34.2544 Q1149.8 30.1225 1153.57 28.1376 Q1157.34 26.1121 1162.73 26.1121 Q1163.5 26.1121 1164.43 26.2337 Q1165.36 26.3147 1166.49 26.5172 L1166.53 34.1734 Z\" fill=\"#000000\" fill-rule=\"evenodd\" fill-opacity=\"1\" /><path clip-path=\"url(#clip600)\" d=\"M1190.11 32.4315 Q1184.11 32.4315 1180.63 37.1306 Q1177.15 41.7891 1177.15 49.9314 Q1177.15 58.0738 1180.59 62.7728 Q1184.07 67.4314 1190.11 67.4314 Q1196.06 67.4314 1199.55 62.7323 Q1203.03 58.0333 1203.03 49.9314 Q1203.03 41.8701 1199.55 37.1711 Q1196.06 32.4315 1190.11 32.4315 M1190.11 26.1121 Q1199.83 26.1121 1205.38 32.4315 Q1210.93 38.7509 1210.93 49.9314 Q1210.93 61.0714 1205.38 67.4314 Q1199.83 73.7508 1190.11 73.7508 Q1180.35 73.7508 1174.8 67.4314 Q1169.29 61.0714 1169.29 49.9314 Q1169.29 38.7509 1174.8 32.4315 Q1180.35 26.1121 1190.11 26.1121 Z\" fill=\"#000000\" fill-rule=\"evenodd\" fill-opacity=\"1\" /><path clip-path=\"url(#clip600)\" d=\"M1246.26 9.54393 L1246.26 15.7418 L1239.13 15.7418 Q1235.12 15.7418 1233.54 17.3622 Q1232 18.9825 1232 23.1955 L1232 27.2059 L1244.27 27.2059 L1244.27 32.9987 L1232 32.9987 L1232 72.576 L1224.5 72.576 L1224.5 32.9987 L1217.37 32.9987 L1217.37 27.2059 L1224.5 27.2059 L1224.5 24.0462 Q1224.5 16.471 1228.03 13.0277 Q1231.55 9.54393 1239.21 9.54393 L1246.26 9.54393 Z\" fill=\"#000000\" fill-rule=\"evenodd\" fill-opacity=\"1\" /><path clip-path=\"url(#clip600)\" d=\"M1252.49 27.2059 L1259.95 27.2059 L1259.95 72.576 L1252.49 72.576 L1252.49 27.2059 M1252.49 9.54393 L1259.95 9.54393 L1259.95 18.9825 L1252.49 18.9825 L1252.49 9.54393 Z\" fill=\"#000000\" fill-rule=\"evenodd\" fill-opacity=\"1\" /><path clip-path=\"url(#clip600)\" d=\"M1282.92 14.324 L1282.92 27.2059 L1298.27 27.2059 L1298.27 32.9987 L1282.92 32.9987 L1282.92 57.6282 Q1282.92 63.1779 1284.41 64.7578 Q1285.95 66.3376 1290.61 66.3376 L1298.27 66.3376 L1298.27 72.576 L1290.61 72.576 Q1281.98 72.576 1278.7 69.3758 Q1275.42 66.1351 1275.42 57.6282 L1275.42 32.9987 L1269.95 32.9987 L1269.95 27.2059 L1275.42 27.2059 L1275.42 14.324 L1282.92 14.324 Z\" fill=\"#000000\" fill-rule=\"evenodd\" fill-opacity=\"1\" /><path clip-path=\"url(#clip600)\" d=\"M1307.3 54.671 L1307.3 27.2059 L1314.76 27.2059 L1314.76 54.3874 Q1314.76 60.8284 1317.27 64.0691 Q1319.78 67.2693 1324.8 67.2693 Q1330.84 67.2693 1334.32 63.421 Q1337.85 59.5726 1337.85 52.9291 L1337.85 27.2059 L1345.3 27.2059 L1345.3 72.576 L1337.85 72.576 L1337.85 65.6084 Q1335.13 69.7404 1331.53 71.7658 Q1327.96 73.7508 1323.22 73.7508 Q1315.4 73.7508 1311.35 68.8897 Q1307.3 64.0286 1307.3 54.671 M1326.06 26.1121 L1326.06 26.1121 Z\" fill=\"#000000\" fill-rule=\"evenodd\" fill-opacity=\"1\" /><path clip-path=\"url(#clip600)\" d=\"M1382.69 27.2059 L1390.14 27.2059 L1399.46 62.6108 L1408.74 27.2059 L1417.53 27.2059 L1426.84 62.6108 L1436.12 27.2059 L1443.57 27.2059 L1431.71 72.576 L1422.92 72.576 L1413.15 35.3887 L1403.35 72.576 L1394.56 72.576 L1382.69 27.2059 Z\" fill=\"#000000\" fill-rule=\"evenodd\" fill-opacity=\"1\" /><path clip-path=\"url(#clip600)\" d=\"M1478.01 27.2059 L1513.41 27.2059 L1513.41 34.0114 L1485.38 66.6212 L1513.41 66.6212 L1513.41 72.576 L1476.99 72.576 L1476.99 65.7705 L1505.03 33.1607 L1478.01 33.1607 L1478.01 27.2059 Z\" fill=\"#000000\" fill-rule=\"evenodd\" fill-opacity=\"1\" /><path clip-path=\"url(#clip600)\" d=\"M1545.41 49.7694 Q1536.38 49.7694 1532.9 51.8354 Q1529.41 53.9013 1529.41 58.8839 Q1529.41 62.8538 1532.01 65.2034 Q1534.64 67.5124 1539.14 67.5124 Q1545.33 67.5124 1549.06 63.1374 Q1552.83 58.7219 1552.83 51.4303 L1552.83 49.7694 L1545.41 49.7694 M1560.28 46.6907 L1560.28 72.576 L1552.83 72.576 L1552.83 65.6895 Q1550.28 69.8214 1546.47 71.8063 Q1542.66 73.7508 1537.15 73.7508 Q1530.18 73.7508 1526.05 69.8619 Q1521.96 65.9325 1521.96 59.3701 Q1521.96 51.7138 1527.06 47.825 Q1532.21 43.9361 1542.38 43.9361 L1552.83 43.9361 L1552.83 43.2069 Q1552.83 38.0623 1549.42 35.2672 Q1546.06 32.4315 1539.95 32.4315 Q1536.06 32.4315 1532.37 33.3632 Q1528.68 34.295 1525.28 36.1584 L1525.28 29.2718 Q1529.37 27.692 1533.22 26.9223 Q1537.07 26.1121 1540.72 26.1121 Q1550.56 26.1121 1555.42 31.2163 Q1560.28 36.3204 1560.28 46.6907 Z\" fill=\"#000000\" fill-rule=\"evenodd\" fill-opacity=\"1\" /><path clip-path=\"url(#clip600)\" d=\"M1575.63 9.54393 L1583.09 9.54393 L1583.09 72.576 L1575.63 72.576 L1575.63 9.54393 Z\" fill=\"#000000\" fill-rule=\"evenodd\" fill-opacity=\"1\" /><path clip-path=\"url(#clip600)\" d=\"M1637.49 48.0275 L1637.49 51.6733 L1603.22 51.6733 Q1603.71 59.3701 1607.84 63.421 Q1612.01 67.4314 1619.42 67.4314 Q1623.72 67.4314 1627.73 66.3781 Q1631.78 65.3249 1635.75 63.2184 L1635.75 70.267 Q1631.74 71.9684 1627.53 72.8596 Q1623.31 73.7508 1618.98 73.7508 Q1608.12 73.7508 1601.76 67.4314 Q1595.44 61.1119 1595.44 50.3365 Q1595.44 39.1965 1601.44 32.6746 Q1607.47 26.1121 1617.68 26.1121 Q1626.84 26.1121 1632.14 32.0264 Q1637.49 37.9003 1637.49 48.0275 M1630.04 45.84 Q1629.96 39.7232 1626.59 36.0774 Q1623.27 32.4315 1617.76 32.4315 Q1611.53 32.4315 1607.76 35.9558 Q1604.03 39.4801 1603.46 45.8805 L1630.04 45.84 Z\" fill=\"#000000\" fill-rule=\"evenodd\" fill-opacity=\"1\" /><path clip-path=\"url(#clip600)\" d=\"M1659.77 9.54393 L1667.23 9.54393 L1667.23 18.9825 L1659.77 18.9825 L1659.77 9.54393 M1663.58 26.1121 L1663.58 26.1121 M1646.48 27.2059 L1681.89 27.2059 L1681.89 34.0114 L1653.86 66.6212 L1681.89 66.6212 L1681.89 72.576 L1645.47 72.576 L1645.47 65.7705 L1673.5 33.1607 L1646.48 33.1607 L1646.48 27.2059 Z\" fill=\"#000000\" fill-rule=\"evenodd\" fill-opacity=\"1\" /><path clip-path=\"url(#clip600)\" d=\"M1730.99 45.1919 L1730.99 72.576 L1723.53 72.576 L1723.53 45.4349 Q1723.53 38.994 1721.02 35.7938 Q1718.51 32.5936 1713.49 32.5936 Q1707.45 32.5936 1703.97 36.4419 Q1700.48 40.2903 1700.48 46.9338 L1700.48 72.576 L1692.99 72.576 L1692.99 27.2059 L1700.48 27.2059 L1700.48 34.2544 Q1703.16 30.163 1706.76 28.1376 Q1710.41 26.1121 1715.15 26.1121 Q1722.97 26.1121 1726.98 30.9732 Q1730.99 35.7938 1730.99 45.1919 Z\" fill=\"#000000\" fill-rule=\"evenodd\" fill-opacity=\"1\" /><path clip-path=\"url(#clip600)\" d=\"M1763.43 32.4315 Q1757.44 32.4315 1753.95 37.1306 Q1750.47 41.7891 1750.47 49.9314 Q1750.47 58.0738 1753.91 62.7728 Q1757.4 67.4314 1763.43 67.4314 Q1769.39 67.4314 1772.87 62.7323 Q1776.36 58.0333 1776.36 49.9314 Q1776.36 41.8701 1772.87 37.1711 Q1769.39 32.4315 1763.43 32.4315 M1763.43 26.1121 Q1773.16 26.1121 1778.71 32.4315 Q1784.26 38.7509 1784.26 49.9314 Q1784.26 61.0714 1778.71 67.4314 Q1773.16 73.7508 1763.43 73.7508 Q1753.67 73.7508 1748.12 67.4314 Q1742.61 61.0714 1742.61 49.9314 Q1742.61 38.7509 1748.12 32.4315 Q1753.67 26.1121 1763.43 26.1121 Z\" fill=\"#000000\" fill-rule=\"evenodd\" fill-opacity=\"1\" /><path clip-path=\"url(#clip600)\" d=\"M1817.84 5.93863 L1825.9 5.93863 L1812.69 21.17 L1806.5 21.17 L1817.84 5.93863 M1825.53 28.5427 L1825.53 35.5912 Q1822.37 33.9709 1818.97 33.1607 Q1815.57 32.3505 1811.92 32.3505 Q1806.37 32.3505 1803.58 34.0519 Q1800.82 35.7533 1800.82 39.156 Q1800.82 41.7486 1802.81 43.2475 Q1804.79 44.7058 1810.79 46.0426 L1813.34 46.6097 Q1821.28 48.3111 1824.6 51.4303 Q1827.96 54.509 1827.96 60.0587 Q1827.96 66.3781 1822.94 70.0644 Q1817.96 73.7508 1809.21 73.7508 Q1805.56 73.7508 1801.59 73.0216 Q1797.66 72.3329 1793.29 70.9151 L1793.29 63.2184 Q1797.42 65.3654 1801.43 66.4591 Q1805.44 67.5124 1809.37 67.5124 Q1814.64 67.5124 1817.47 65.73 Q1820.31 63.9071 1820.31 60.6258 Q1820.31 57.5877 1818.24 55.9673 Q1816.22 54.3469 1809.29 52.8481 L1806.7 52.2405 Q1799.77 50.7821 1796.69 47.7845 Q1793.61 44.7463 1793.61 39.4801 Q1793.61 33.0797 1798.15 29.5959 Q1802.69 26.1121 1811.03 26.1121 Q1815.16 26.1121 1818.81 26.7198 Q1822.46 27.3274 1825.53 28.5427 Z\" fill=\"#000000\" fill-rule=\"evenodd\" fill-opacity=\"1\" /><path clip-path=\"url(#clip600)\" d=\"M1872.48 28.9478 L1872.48 35.9153 Q1869.32 34.1734 1866.12 33.3227 Q1862.96 32.4315 1859.72 32.4315 Q1852.47 32.4315 1848.46 37.0496 Q1844.45 41.6271 1844.45 49.9314 Q1844.45 58.2358 1848.46 62.8538 Q1852.47 67.4314 1859.72 67.4314 Q1862.96 67.4314 1866.12 66.5807 Q1869.32 65.6895 1872.48 63.9476 L1872.48 70.8341 Q1869.37 72.2924 1866 73.0216 Q1862.68 73.7508 1858.91 73.7508 Q1848.67 73.7508 1842.63 67.3098 Q1836.59 60.8689 1836.59 49.9314 Q1836.59 38.832 1842.67 32.472 Q1848.79 26.1121 1859.4 26.1121 Q1862.84 26.1121 1866.12 26.8413 Q1869.41 27.5299 1872.48 28.9478 Z\" fill=\"#000000\" fill-rule=\"evenodd\" fill-opacity=\"1\" /><path clip-path=\"url(#clip600)\" d=\"M1885.45 27.2059 L1892.9 27.2059 L1892.9 72.576 L1885.45 72.576 L1885.45 27.2059 M1885.45 9.54393 L1892.9 9.54393 L1892.9 18.9825 L1885.45 18.9825 L1885.45 9.54393 Z\" fill=\"#000000\" fill-rule=\"evenodd\" fill-opacity=\"1\" /><path clip-path=\"url(#clip600)\" d=\"M1952.45 32.4315 Q1946.45 32.4315 1942.97 37.1306 Q1939.49 41.7891 1939.49 49.9314 Q1939.49 58.0738 1942.93 62.7728 Q1946.41 67.4314 1952.45 67.4314 Q1958.4 67.4314 1961.89 62.7323 Q1965.37 58.0333 1965.37 49.9314 Q1965.37 41.8701 1961.89 37.1711 Q1958.4 32.4315 1952.45 32.4315 M1952.45 26.1121 Q1962.17 26.1121 1967.72 32.4315 Q1973.27 38.7509 1973.27 49.9314 Q1973.27 61.0714 1967.72 67.4314 Q1962.17 73.7508 1952.45 73.7508 Q1942.69 73.7508 1937.14 67.4314 Q1931.63 61.0714 1931.63 49.9314 Q1931.63 38.7509 1937.14 32.4315 Q1942.69 26.1121 1952.45 26.1121 Z\" fill=\"#000000\" fill-rule=\"evenodd\" fill-opacity=\"1\" /><path clip-path=\"url(#clip600)\" d=\"M2015.48 34.0924 L2015.48 9.54393 L2022.93 9.54393 L2022.93 72.576 L2015.48 72.576 L2015.48 65.7705 Q2013.13 69.8214 2009.53 71.8063 Q2005.96 73.7508 2000.94 73.7508 Q1992.72 73.7508 1987.53 67.1883 Q1982.39 60.6258 1982.39 49.9314 Q1982.39 39.2371 1987.53 32.6746 Q1992.72 26.1121 2000.94 26.1121 Q2005.96 26.1121 2009.53 28.0971 Q2013.13 30.0415 2015.48 34.0924 M1990.08 49.9314 Q1990.08 58.1548 1993.44 62.8538 Q1996.85 67.5124 2002.76 67.5124 Q2008.68 67.5124 2012.08 62.8538 Q2015.48 58.1548 2015.48 49.9314 Q2015.48 41.7081 2012.08 37.0496 Q2008.68 32.3505 2002.76 32.3505 Q1996.85 32.3505 1993.44 37.0496 Q1990.08 41.7081 1990.08 49.9314 Z\" fill=\"#000000\" fill-rule=\"evenodd\" fill-opacity=\"1\" /><path clip-path=\"url(#clip600)\" d=\"M2061.42 27.2059 L2096.82 27.2059 L2096.82 34.0114 L2068.79 66.6212 L2096.82 66.6212 L2096.82 72.576 L2060.41 72.576 L2060.41 65.7705 L2088.44 33.1607 L2061.42 33.1607 L2061.42 27.2059 Z\" fill=\"#000000\" fill-rule=\"evenodd\" fill-opacity=\"1\" /><path clip-path=\"url(#clip600)\" d=\"M2143.53 35.9153 Q2146.33 30.8922 2150.21 28.5022 Q2154.1 26.1121 2159.37 26.1121 Q2166.46 26.1121 2170.31 31.0947 Q2174.16 36.0368 2174.16 45.1919 L2174.16 72.576 L2166.66 72.576 L2166.66 45.4349 Q2166.66 38.913 2164.35 35.7533 Q2162.04 32.5936 2157.3 32.5936 Q2151.51 32.5936 2148.15 36.4419 Q2144.79 40.2903 2144.79 46.9338 L2144.79 72.576 L2137.29 72.576 L2137.29 45.4349 Q2137.29 38.8725 2134.98 35.7533 Q2132.67 32.5936 2127.85 32.5936 Q2122.14 32.5936 2118.78 36.4824 Q2115.42 40.3308 2115.42 46.9338 L2115.42 72.576 L2107.92 72.576 L2107.92 27.2059 L2115.42 27.2059 L2115.42 34.2544 Q2117.97 30.082 2121.53 28.0971 Q2125.1 26.1121 2130 26.1121 Q2134.94 26.1121 2138.39 28.6237 Q2141.87 31.1352 2143.53 35.9153 Z\" fill=\"#000000\" fill-rule=\"evenodd\" fill-opacity=\"1\" /><path clip-path=\"url(#clip600)\" d=\"M2189.02 27.2059 L2196.48 27.2059 L2196.48 72.576 L2189.02 72.576 L2189.02 27.2059 M2189.02 9.54393 L2196.48 9.54393 L2196.48 18.9825 L2189.02 18.9825 L2189.02 9.54393 Z\" fill=\"#000000\" fill-rule=\"evenodd\" fill-opacity=\"1\" /><path clip-path=\"url(#clip600)\" d=\"M2232.69 49.7694 Q2223.66 49.7694 2220.17 51.8354 Q2216.69 53.9013 2216.69 58.8839 Q2216.69 62.8538 2219.28 65.2034 Q2221.92 67.5124 2226.41 67.5124 Q2232.61 67.5124 2236.34 63.1374 Q2240.1 58.7219 2240.1 51.4303 L2240.1 49.7694 L2232.69 49.7694 M2247.56 46.6907 L2247.56 72.576 L2240.1 72.576 L2240.1 65.6895 Q2237.55 69.8214 2233.74 71.8063 Q2229.94 73.7508 2224.43 73.7508 Q2217.46 73.7508 2213.33 69.8619 Q2209.24 65.9325 2209.24 59.3701 Q2209.24 51.7138 2214.34 47.825 Q2219.48 43.9361 2229.65 43.9361 L2240.1 43.9361 L2240.1 43.2069 Q2240.1 38.0623 2236.7 35.2672 Q2233.34 32.4315 2227.22 32.4315 Q2223.33 32.4315 2219.65 33.3632 Q2215.96 34.295 2212.56 36.1584 L2212.56 29.2718 Q2216.65 27.692 2220.5 26.9223 Q2224.35 26.1121 2227.99 26.1121 Q2237.84 26.1121 2242.7 31.2163 Q2247.56 36.3204 2247.56 46.6907 Z\" fill=\"#000000\" fill-rule=\"evenodd\" fill-opacity=\"1\" /><path clip-path=\"url(#clip600)\" d=\"M2300.62 45.1919 L2300.62 72.576 L2293.17 72.576 L2293.17 45.4349 Q2293.17 38.994 2290.66 35.7938 Q2288.15 32.5936 2283.12 32.5936 Q2277.09 32.5936 2273.6 36.4419 Q2270.12 40.2903 2270.12 46.9338 L2270.12 72.576 L2262.63 72.576 L2262.63 27.2059 L2270.12 27.2059 L2270.12 34.2544 Q2272.79 30.163 2276.4 28.1376 Q2280.05 26.1121 2284.79 26.1121 Q2292.6 26.1121 2296.61 30.9732 Q2300.62 35.7938 2300.62 45.1919 Z\" fill=\"#000000\" fill-rule=\"evenodd\" fill-opacity=\"1\" /><path clip-path=\"url(#clip600)\" d=\"M2334.37 76.7889 Q2331.21 84.8907 2328.21 87.3618 Q2325.21 89.8329 2320.19 89.8329 L2314.24 89.8329 L2314.24 83.5945 L2318.61 83.5945 Q2321.69 83.5945 2323.39 82.1361 Q2325.09 80.6778 2327.16 75.2496 L2328.49 71.8468 L2310.14 27.2059 L2318.04 27.2059 L2332.22 62.6918 L2346.4 27.2059 L2354.3 27.2059 L2334.37 76.7889 Z\" fill=\"#000000\" fill-rule=\"evenodd\" fill-opacity=\"1\" /><path clip-path=\"url(#clip600)\" d=\"M2386.63 27.2059 L2394.08 27.2059 L2403.4 62.6108 L2412.67 27.2059 L2421.46 27.2059 L2430.78 62.6108 L2440.06 27.2059 L2447.51 27.2059 L2435.64 72.576 L2426.85 72.576 L2417.09 35.3887 L2407.28 72.576 L2398.49 72.576 L2386.63 27.2059 Z\" fill=\"#000000\" fill-rule=\"evenodd\" fill-opacity=\"1\" /><path clip-path=\"url(#clip600)\" d=\"M2477.69 76.7889 Q2474.53 84.8907 2471.53 87.3618 Q2468.53 89.8329 2463.51 89.8329 L2457.56 89.8329 L2457.56 83.5945 L2461.93 83.5945 Q2465.01 83.5945 2466.71 82.1361 Q2468.41 80.6778 2470.48 75.2496 L2471.82 71.8468 L2453.47 27.2059 L2461.36 27.2059 L2475.54 62.6918 L2489.72 27.2059 L2497.62 27.2059 L2477.69 76.7889 Z\" fill=\"#000000\" fill-rule=\"evenodd\" fill-opacity=\"1\" /><path clip-path=\"url(#clip600)\" d=\"M2545.62 45.1919 L2545.62 72.576 L2538.17 72.576 L2538.17 45.4349 Q2538.17 38.994 2535.66 35.7938 Q2533.15 32.5936 2528.12 32.5936 Q2522.09 32.5936 2518.6 36.4419 Q2515.12 40.2903 2515.12 46.9338 L2515.12 72.576 L2507.63 72.576 L2507.63 27.2059 L2515.12 27.2059 L2515.12 34.2544 Q2517.79 30.163 2521.4 28.1376 Q2525.04 26.1121 2529.78 26.1121 Q2537.6 26.1121 2541.61 30.9732 Q2545.62 35.7938 2545.62 45.1919 Z\" fill=\"#000000\" fill-rule=\"evenodd\" fill-opacity=\"1\" /><path clip-path=\"url(#clip600)\" d=\"M2581.11 49.7694 Q2572.08 49.7694 2568.59 51.8354 Q2565.11 53.9013 2565.11 58.8839 Q2565.11 62.8538 2567.7 65.2034 Q2570.33 67.5124 2574.83 67.5124 Q2581.03 67.5124 2584.75 63.1374 Q2588.52 58.7219 2588.52 51.4303 L2588.52 49.7694 L2581.11 49.7694 M2595.98 46.6907 L2595.98 72.576 L2588.52 72.576 L2588.52 65.6895 Q2585.97 69.8214 2582.16 71.8063 Q2578.35 73.7508 2572.85 73.7508 Q2565.88 73.7508 2561.75 69.8619 Q2557.65 65.9325 2557.65 59.3701 Q2557.65 51.7138 2562.76 47.825 Q2567.9 43.9361 2578.07 43.9361 L2588.52 43.9361 L2588.52 43.2069 Q2588.52 38.0623 2585.12 35.2672 Q2581.76 32.4315 2575.64 32.4315 Q2571.75 32.4315 2568.07 33.3632 Q2564.38 34.295 2560.98 36.1584 L2560.98 29.2718 Q2565.07 27.692 2568.92 26.9223 Q2572.76 26.1121 2576.41 26.1121 Q2586.25 26.1121 2591.11 31.2163 Q2595.98 36.3204 2595.98 46.6907 Z\" fill=\"#000000\" fill-rule=\"evenodd\" fill-opacity=\"1\" /><path clip-path=\"url(#clip600)\" d=\"M2641.18 49.3643 Q2641.18 41.2625 2637.82 36.8065 Q2634.5 32.3505 2628.46 32.3505 Q2622.47 32.3505 2619.11 36.8065 Q2615.78 41.2625 2615.78 49.3643 Q2615.78 57.4256 2619.11 61.8816 Q2622.47 66.3376 2628.46 66.3376 Q2634.5 66.3376 2637.82 61.8816 Q2641.18 57.4256 2641.18 49.3643 M2648.64 66.9452 Q2648.64 78.5308 2643.49 84.1616 Q2638.35 89.8329 2627.73 89.8329 Q2623.81 89.8329 2620.32 89.2252 Q2616.84 88.6581 2613.56 87.4428 L2613.56 80.1917 Q2616.84 81.9741 2620.04 82.8248 Q2623.24 83.6755 2626.56 83.6755 Q2633.89 83.6755 2637.54 79.8271 Q2641.18 76.0193 2641.18 68.282 L2641.18 64.5957 Q2638.87 68.6061 2635.27 70.5911 Q2631.66 72.576 2626.64 72.576 Q2618.3 72.576 2613.19 66.2161 Q2608.09 59.8562 2608.09 49.3643 Q2608.09 38.832 2613.19 32.472 Q2618.3 26.1121 2626.64 26.1121 Q2631.66 26.1121 2635.27 28.0971 Q2638.87 30.082 2641.18 34.0924 L2641.18 27.2059 L2648.64 27.2059 L2648.64 66.9452 Z\" fill=\"#000000\" fill-rule=\"evenodd\" fill-opacity=\"1\" /><path clip-path=\"url(#clip600)\" d=\"M2690.28 34.1734 Q2689.03 33.4443 2687.53 33.1202 Q2686.07 32.7556 2684.29 32.7556 Q2677.97 32.7556 2674.56 36.8875 Q2671.2 40.9789 2671.2 48.6757 L2671.2 72.576 L2663.71 72.576 L2663.71 27.2059 L2671.2 27.2059 L2671.2 34.2544 Q2673.55 30.1225 2677.32 28.1376 Q2681.09 26.1121 2686.47 26.1121 Q2687.24 26.1121 2688.17 26.2337 Q2689.11 26.3147 2690.24 26.5172 L2690.28 34.1734 Z\" fill=\"#000000\" fill-rule=\"evenodd\" fill-opacity=\"1\" /><path clip-path=\"url(#clip600)\" d=\"M2713.86 32.4315 Q2707.86 32.4315 2704.38 37.1306 Q2700.89 41.7891 2700.89 49.9314 Q2700.89 58.0738 2704.34 62.7728 Q2707.82 67.4314 2713.86 67.4314 Q2719.81 67.4314 2723.3 62.7323 Q2726.78 58.0333 2726.78 49.9314 Q2726.78 41.8701 2723.3 37.1711 Q2719.81 32.4315 2713.86 32.4315 M2713.86 26.1121 Q2723.58 26.1121 2729.13 32.4315 Q2734.68 38.7509 2734.68 49.9314 Q2734.68 61.0714 2729.13 67.4314 Q2723.58 73.7508 2713.86 73.7508 Q2704.09 73.7508 2698.54 67.4314 Q2693.04 61.0714 2693.04 49.9314 Q2693.04 38.7509 2698.54 32.4315 Q2704.09 26.1121 2713.86 26.1121 Z\" fill=\"#000000\" fill-rule=\"evenodd\" fill-opacity=\"1\" /><path clip-path=\"url(#clip600)\" d=\"M2776.89 34.0924 L2776.89 9.54393 L2784.34 9.54393 L2784.34 72.576 L2776.89 72.576 L2776.89 65.7705 Q2774.54 69.8214 2770.93 71.8063 Q2767.37 73.7508 2762.35 73.7508 Q2754.12 73.7508 2748.94 67.1883 Q2743.79 60.6258 2743.79 49.9314 Q2743.79 39.2371 2748.94 32.6746 Q2754.12 26.1121 2762.35 26.1121 Q2767.37 26.1121 2770.93 28.0971 Q2774.54 30.0415 2776.89 34.0924 M2751.49 49.9314 Q2751.49 58.1548 2754.85 62.8538 Q2758.26 67.5124 2764.17 67.5124 Q2770.08 67.5124 2773.49 62.8538 Q2776.89 58.1548 2776.89 49.9314 Q2776.89 41.7081 2773.49 37.0496 Q2770.08 32.3505 2764.17 32.3505 Q2758.26 32.3505 2754.85 37.0496 Q2751.49 41.7081 2751.49 49.9314 Z\" fill=\"#000000\" fill-rule=\"evenodd\" fill-opacity=\"1\" /><path clip-path=\"url(#clip600)\" d=\"M2796.46 27.2059 L2831.86 27.2059 L2831.86 34.0114 L2803.83 66.6212 L2831.86 66.6212 L2831.86 72.576 L2795.44 72.576 L2795.44 65.7705 L2823.47 33.1607 L2796.46 33.1607 L2796.46 27.2059 Z\" fill=\"#000000\" fill-rule=\"evenodd\" fill-opacity=\"1\" /><path clip-path=\"url(#clip600)\" d=\"M2882.05 48.0275 L2882.05 51.6733 L2847.78 51.6733 Q2848.27 59.3701 2852.4 63.421 Q2856.57 67.4314 2863.98 67.4314 Q2868.28 67.4314 2872.29 66.3781 Q2876.34 65.3249 2880.31 63.2184 L2880.31 70.267 Q2876.3 71.9684 2872.09 72.8596 Q2867.87 73.7508 2863.54 73.7508 Q2852.68 73.7508 2846.32 67.4314 Q2840 61.1119 2840 50.3365 Q2840 39.1965 2846 32.6746 Q2852.03 26.1121 2862.24 26.1121 Q2871.4 26.1121 2876.7 32.0264 Q2882.05 37.9003 2882.05 48.0275 M2874.6 45.84 Q2874.52 39.7232 2871.15 36.0774 Q2867.83 32.4315 2862.32 32.4315 Q2856.08 32.4315 2852.32 35.9558 Q2848.59 39.4801 2848.02 45.8805 L2874.6 45.84 Z\" fill=\"#000000\" fill-rule=\"evenodd\" fill-opacity=\"1\" /><path clip-path=\"url(#clip600)\" d=\"M2932 45.1919 L2932 72.576 L2924.54 72.576 L2924.54 45.4349 Q2924.54 38.994 2922.03 35.7938 Q2919.52 32.5936 2914.5 32.5936 Q2908.46 32.5936 2904.98 36.4419 Q2901.5 40.2903 2901.5 46.9338 L2901.5 72.576 L2894 72.576 L2894 27.2059 L2901.5 27.2059 L2901.5 34.2544 Q2904.17 30.163 2907.77 28.1376 Q2911.42 26.1121 2916.16 26.1121 Q2923.98 26.1121 2927.99 30.9732 Q2932 35.7938 2932 45.1919 Z\" fill=\"#000000\" fill-rule=\"evenodd\" fill-opacity=\"1\" /><path clip-path=\"url(#clip600)\" d=\"M2946.87 27.2059 L2954.32 27.2059 L2954.32 72.576 L2946.87 72.576 L2946.87 27.2059 M2946.87 9.54393 L2954.32 9.54393 L2954.32 18.9825 L2946.87 18.9825 L2946.87 9.54393 Z\" fill=\"#000000\" fill-rule=\"evenodd\" fill-opacity=\"1\" /><path clip-path=\"url(#clip600)\" d=\"M2990.53 49.7694 Q2981.5 49.7694 2978.02 51.8354 Q2974.53 53.9013 2974.53 58.8839 Q2974.53 62.8538 2977.13 65.2034 Q2979.76 67.5124 2984.26 67.5124 Q2990.45 67.5124 2994.18 63.1374 Q2997.95 58.7219 2997.95 51.4303 L2997.95 49.7694 L2990.53 49.7694 M3005.4 46.6907 L3005.4 72.576 L2997.95 72.576 L2997.95 65.6895 Q2995.4 69.8214 2991.59 71.8063 Q2987.78 73.7508 2982.27 73.7508 Q2975.3 73.7508 2971.17 69.8619 Q2967.08 65.9325 2967.08 59.3701 Q2967.08 51.7138 2972.18 47.825 Q2977.33 43.9361 2987.5 43.9361 L2997.95 43.9361 L2997.95 43.2069 Q2997.95 38.0623 2994.54 35.2672 Q2991.18 32.4315 2985.07 32.4315 Q2981.18 32.4315 2977.49 33.3632 Q2973.8 34.295 2970.4 36.1584 L2970.4 29.2718 Q2974.49 27.692 2978.34 26.9223 Q2982.19 26.1121 2985.83 26.1121 Q2995.68 26.1121 3000.54 31.2163 Q3005.4 36.3204 3005.4 46.6907 Z\" fill=\"#000000\" fill-rule=\"evenodd\" fill-opacity=\"1\" /><polyline clip-path=\"url(#clip602)\" style=\"stroke:#009af9; stroke-linecap:round; stroke-linejoin:round; stroke-width:4; stroke-opacity:1; fill:none\" points=\"359.582,1646.05 540.37,1676.32 721.158,1707.76 1263.52,1819.67 2167.46,1975.07 3071.4,2146.22 \"/>\n",
       "<polyline clip-path=\"url(#clip602)\" style=\"stroke:#e26f46; stroke-linecap:round; stroke-linejoin:round; stroke-width:4; stroke-opacity:1; fill:none\" points=\"359.582,1503.72 540.37,1536.53 721.158,1568.58 1263.52,1668.89 2167.46,1839.19 3071.4,2010.43 \"/>\n",
       "<polyline clip-path=\"url(#clip602)\" style=\"stroke:#3da44d; stroke-linecap:round; stroke-linejoin:round; stroke-width:4; stroke-opacity:1; fill:none\" points=\"359.582,1345.36 540.37,1377.6 721.158,1429.9 1263.52,1527.49 2167.46,1691.04 3071.4,1856.52 \"/>\n",
       "<polyline clip-path=\"url(#clip602)\" style=\"stroke:#c271d2; stroke-linecap:round; stroke-linejoin:round; stroke-width:4; stroke-opacity:1; fill:none\" points=\"359.582,1061.12 540.37,1089.86 721.158,1130.71 1263.52,1219.65 2167.46,1408.02 3071.4,1562.93 \"/>\n",
       "<polyline clip-path=\"url(#clip602)\" style=\"stroke:#ac8d18; stroke-linecap:round; stroke-linejoin:round; stroke-width:4; stroke-opacity:1; fill:none\" points=\"359.582,189.727 540.37,222.997 721.158,240.579 1263.52,360.468 2167.46,512.709 3071.4,699.674 \"/>\n",
       "<polyline clip-path=\"url(#clip602)\" style=\"stroke:#ff0000; stroke-linecap:round; stroke-linejoin:round; stroke-width:4; stroke-opacity:1; fill:none\" points=\"359.582,1402.47 3071.4,1402.47 \"/>\n",
       "<polyline clip-path=\"url(#clip602)\" style=\"stroke:#800080; stroke-linecap:round; stroke-linejoin:round; stroke-width:4; stroke-opacity:1; fill:none\" points=\"359.582,1776.53 3071.4,1776.53 \"/>\n",
       "<path clip-path=\"url(#clip600)\" d=\"M2023.31 614.882 L3056.94 614.882 L3056.94 200.162 L2023.31 200.162  Z\" fill=\"#ffffff\" fill-rule=\"evenodd\" fill-opacity=\"1\"/>\n",
       "<polyline clip-path=\"url(#clip600)\" style=\"stroke:#000000; stroke-linecap:round; stroke-linejoin:round; stroke-width:4; stroke-opacity:1; fill:none\" points=\"2023.31,614.882 3056.94,614.882 3056.94,200.162 2023.31,200.162 2023.31,614.882 \"/>\n",
       "<polyline clip-path=\"url(#clip600)\" style=\"stroke:#009af9; stroke-linecap:round; stroke-linejoin:round; stroke-width:4; stroke-opacity:1; fill:none\" points=\"2055.25,252.002 2246.88,252.002 \"/>\n",
       "<path clip-path=\"url(#clip600)\" d=\"M2283.5 238.564 L2283.5 251.55 L2289.38 251.55 Q2292.64 251.55 2294.42 249.861 Q2296.21 248.171 2296.21 245.046 Q2296.21 241.944 2294.42 240.254 Q2292.64 238.564 2289.38 238.564 L2283.5 238.564 M2278.82 234.722 L2289.38 234.722 Q2295.19 234.722 2298.15 237.361 Q2301.14 239.976 2301.14 245.046 Q2301.14 250.161 2298.15 252.777 Q2295.19 255.393 2289.38 255.393 L2283.5 255.393 L2283.5 269.282 L2278.82 269.282 L2278.82 234.722 Z\" fill=\"#000000\" fill-rule=\"evenodd\" fill-opacity=\"1\" /><path clip-path=\"url(#clip600)\" d=\"M2321.41 247.337 Q2320.7 246.921 2319.84 246.736 Q2319.01 246.527 2317.99 246.527 Q2314.38 246.527 2312.43 248.888 Q2310.51 251.226 2310.51 255.624 L2310.51 269.282 L2306.23 269.282 L2306.23 243.356 L2310.51 243.356 L2310.51 247.384 Q2311.85 245.023 2314.01 243.888 Q2316.16 242.731 2319.24 242.731 Q2319.68 242.731 2320.21 242.8 Q2320.74 242.847 2321.39 242.962 L2321.41 247.337 Z\" fill=\"#000000\" fill-rule=\"evenodd\" fill-opacity=\"1\" /><path clip-path=\"url(#clip600)\" d=\"M2334.89 246.342 Q2331.46 246.342 2329.47 249.027 Q2327.48 251.689 2327.48 256.342 Q2327.48 260.995 2329.45 263.68 Q2331.44 266.342 2334.89 266.342 Q2338.29 266.342 2340.28 263.657 Q2342.27 260.972 2342.27 256.342 Q2342.27 251.736 2340.28 249.05 Q2338.29 246.342 2334.89 246.342 M2334.89 242.731 Q2340.44 242.731 2343.61 246.342 Q2346.79 249.953 2346.79 256.342 Q2346.79 262.708 2343.61 266.342 Q2340.44 269.953 2334.89 269.953 Q2329.31 269.953 2326.14 266.342 Q2322.99 262.708 2322.99 256.342 Q2322.99 249.953 2326.14 246.342 Q2329.31 242.731 2334.89 242.731 Z\" fill=\"#000000\" fill-rule=\"evenodd\" fill-opacity=\"1\" /><path clip-path=\"url(#clip600)\" d=\"M2366.97 233.263 L2366.97 236.805 L2362.9 236.805 Q2360.6 236.805 2359.7 237.731 Q2358.82 238.657 2358.82 241.064 L2358.82 243.356 L2365.84 243.356 L2365.84 246.666 L2358.82 246.666 L2358.82 269.282 L2354.54 269.282 L2354.54 246.666 L2350.47 246.666 L2350.47 243.356 L2354.54 243.356 L2354.54 241.55 Q2354.54 237.222 2356.55 235.254 Q2358.57 233.263 2362.94 233.263 L2366.97 233.263 Z\" fill=\"#000000\" fill-rule=\"evenodd\" fill-opacity=\"1\" /><path clip-path=\"url(#clip600)\" d=\"M2370.53 243.356 L2374.79 243.356 L2374.79 269.282 L2370.53 269.282 L2370.53 243.356 M2370.53 233.263 L2374.79 233.263 L2374.79 238.657 L2370.53 238.657 L2370.53 233.263 Z\" fill=\"#000000\" fill-rule=\"evenodd\" fill-opacity=\"1\" /><path clip-path=\"url(#clip600)\" d=\"M2387.92 235.995 L2387.92 243.356 L2396.69 243.356 L2396.69 246.666 L2387.92 246.666 L2387.92 260.74 Q2387.92 263.911 2388.78 264.814 Q2389.66 265.717 2392.32 265.717 L2396.69 265.717 L2396.69 269.282 L2392.32 269.282 Q2387.39 269.282 2385.51 267.453 Q2383.64 265.601 2383.64 260.74 L2383.64 246.666 L2380.51 246.666 L2380.51 243.356 L2383.64 243.356 L2383.64 235.995 L2387.92 235.995 Z\" fill=\"#000000\" fill-rule=\"evenodd\" fill-opacity=\"1\" /><path clip-path=\"url(#clip600)\" d=\"M2421.48 265.393 L2421.48 279.143 L2417.2 279.143 L2417.2 243.356 L2421.48 243.356 L2421.48 247.291 Q2422.83 244.976 2424.86 243.865 Q2426.92 242.731 2429.77 242.731 Q2434.49 242.731 2437.43 246.481 Q2440.4 250.231 2440.4 256.342 Q2440.4 262.453 2437.43 266.203 Q2434.49 269.953 2429.77 269.953 Q2426.92 269.953 2424.86 268.842 Q2422.83 267.708 2421.48 265.393 M2435.97 256.342 Q2435.97 251.643 2434.03 248.981 Q2432.11 246.296 2428.73 246.296 Q2425.35 246.296 2423.41 248.981 Q2421.48 251.643 2421.48 256.342 Q2421.48 261.041 2423.41 263.726 Q2425.35 266.388 2428.73 266.388 Q2432.11 266.388 2434.03 263.726 Q2435.97 261.041 2435.97 256.342 Z\" fill=\"#000000\" fill-rule=\"evenodd\" fill-opacity=\"1\" /><path clip-path=\"url(#clip600)\" d=\"M2462.48 247.337 Q2461.76 246.921 2460.9 246.736 Q2460.07 246.527 2459.05 246.527 Q2455.44 246.527 2453.5 248.888 Q2451.58 251.226 2451.58 255.624 L2451.58 269.282 L2447.29 269.282 L2447.29 243.356 L2451.58 243.356 L2451.58 247.384 Q2452.92 245.023 2455.07 243.888 Q2457.22 242.731 2460.3 242.731 Q2460.74 242.731 2461.28 242.8 Q2461.81 242.847 2462.46 242.962 L2462.48 247.337 Z\" fill=\"#000000\" fill-rule=\"evenodd\" fill-opacity=\"1\" /><path clip-path=\"url(#clip600)\" d=\"M2465.09 243.356 L2485.33 243.356 L2485.33 247.245 L2469.31 265.879 L2485.33 265.879 L2485.33 269.282 L2464.52 269.282 L2464.52 265.393 L2480.53 246.759 L2465.09 246.759 L2465.09 243.356 Z\" fill=\"#000000\" fill-rule=\"evenodd\" fill-opacity=\"1\" /><path clip-path=\"url(#clip600)\" d=\"M2502.62 271.689 Q2500.81 276.319 2499.1 277.731 Q2497.39 279.143 2494.52 279.143 L2491.11 279.143 L2491.11 275.578 L2493.61 275.578 Q2495.37 275.578 2496.34 274.745 Q2497.32 273.911 2498.5 270.809 L2499.26 268.865 L2488.78 243.356 L2493.29 243.356 L2501.39 263.634 L2509.49 243.356 L2514.01 243.356 L2502.62 271.689 Z\" fill=\"#000000\" fill-rule=\"evenodd\" fill-opacity=\"1\" /><path clip-path=\"url(#clip600)\" d=\"M2539.08 265.393 L2539.08 279.143 L2534.79 279.143 L2534.79 243.356 L2539.08 243.356 L2539.08 247.291 Q2540.42 244.976 2542.46 243.865 Q2544.52 242.731 2547.36 242.731 Q2552.08 242.731 2555.02 246.481 Q2557.99 250.231 2557.99 256.342 Q2557.99 262.453 2555.02 266.203 Q2552.08 269.953 2547.36 269.953 Q2544.52 269.953 2542.46 268.842 Q2540.42 267.708 2539.08 265.393 M2553.57 256.342 Q2553.57 251.643 2551.62 248.981 Q2549.7 246.296 2546.32 246.296 Q2542.94 246.296 2541 248.981 Q2539.08 251.643 2539.08 256.342 Q2539.08 261.041 2541 263.726 Q2542.94 266.388 2546.32 266.388 Q2549.7 266.388 2551.62 263.726 Q2553.57 261.041 2553.57 256.342 Z\" fill=\"#000000\" fill-rule=\"evenodd\" fill-opacity=\"1\" /><path clip-path=\"url(#clip600)\" d=\"M2565.05 243.356 L2569.31 243.356 L2569.31 269.282 L2565.05 269.282 L2565.05 243.356 M2565.05 233.263 L2569.31 233.263 L2569.31 238.657 L2565.05 238.657 L2565.05 233.263 Z\" fill=\"#000000\" fill-rule=\"evenodd\" fill-opacity=\"1\" /><path clip-path=\"url(#clip600)\" d=\"M2600.39 255.254 L2600.39 257.337 L2580.81 257.337 Q2581.09 261.735 2583.45 264.05 Q2585.83 266.342 2590.07 266.342 Q2592.52 266.342 2594.82 265.74 Q2597.13 265.138 2599.4 263.935 L2599.4 267.962 Q2597.11 268.934 2594.7 269.444 Q2592.29 269.953 2589.82 269.953 Q2583.61 269.953 2579.98 266.342 Q2576.37 262.731 2576.37 256.573 Q2576.37 250.208 2579.79 246.481 Q2583.24 242.731 2589.08 242.731 Q2594.31 242.731 2597.34 246.111 Q2600.39 249.467 2600.39 255.254 M2596.14 254.004 Q2596.09 250.509 2594.17 248.425 Q2592.27 246.342 2589.12 246.342 Q2585.56 246.342 2583.4 248.356 Q2581.27 250.37 2580.95 254.027 L2596.14 254.004 Z\" fill=\"#000000\" fill-rule=\"evenodd\" fill-opacity=\"1\" /><path clip-path=\"url(#clip600)\" d=\"M2622.41 247.337 Q2621.69 246.921 2620.83 246.736 Q2620 246.527 2618.98 246.527 Q2615.37 246.527 2613.43 248.888 Q2611.51 251.226 2611.51 255.624 L2611.51 269.282 L2607.22 269.282 L2607.22 243.356 L2611.51 243.356 L2611.51 247.384 Q2612.85 245.023 2615 243.888 Q2617.15 242.731 2620.23 242.731 Q2620.67 242.731 2621.2 242.8 Q2621.74 242.847 2622.39 242.962 L2622.41 247.337 Z\" fill=\"#000000\" fill-rule=\"evenodd\" fill-opacity=\"1\" /><path clip-path=\"url(#clip600)\" d=\"M2624.4 243.356 L2628.66 243.356 L2633.98 263.587 L2639.28 243.356 L2644.31 243.356 L2649.63 263.587 L2654.93 243.356 L2659.19 243.356 L2652.41 269.282 L2647.39 269.282 L2641.81 248.032 L2636.2 269.282 L2631.18 269.282 L2624.4 243.356 Z\" fill=\"#000000\" fill-rule=\"evenodd\" fill-opacity=\"1\" /><path clip-path=\"url(#clip600)\" d=\"M2675.7 246.342 Q2672.27 246.342 2670.28 249.027 Q2668.29 251.689 2668.29 256.342 Q2668.29 260.995 2670.26 263.68 Q2672.25 266.342 2675.7 266.342 Q2679.1 266.342 2681.09 263.657 Q2683.08 260.972 2683.08 256.342 Q2683.08 251.736 2681.09 249.05 Q2679.1 246.342 2675.7 246.342 M2675.7 242.731 Q2681.25 242.731 2684.42 246.342 Q2687.59 249.953 2687.59 256.342 Q2687.59 262.708 2684.42 266.342 Q2681.25 269.953 2675.7 269.953 Q2670.12 269.953 2666.95 266.342 Q2663.8 262.708 2663.8 256.342 Q2663.8 249.953 2666.95 246.342 Q2670.12 242.731 2675.7 242.731 Z\" fill=\"#000000\" fill-rule=\"evenodd\" fill-opacity=\"1\" /><path clip-path=\"url(#clip600)\" d=\"M2698.87 235.995 L2698.87 243.356 L2707.64 243.356 L2707.64 246.666 L2698.87 246.666 L2698.87 260.74 Q2698.87 263.911 2699.72 264.814 Q2700.6 265.717 2703.26 265.717 L2707.64 265.717 L2707.64 269.282 L2703.26 269.282 Q2698.33 269.282 2696.46 267.453 Q2694.58 265.601 2694.58 260.74 L2694.58 246.666 L2691.46 246.666 L2691.46 243.356 L2694.58 243.356 L2694.58 235.995 L2698.87 235.995 Z\" fill=\"#000000\" fill-rule=\"evenodd\" fill-opacity=\"1\" /><path clip-path=\"url(#clip600)\" d=\"M2734.79 253.634 L2734.79 269.282 L2730.53 269.282 L2730.53 253.773 Q2730.53 250.092 2729.1 248.263 Q2727.66 246.435 2724.79 246.435 Q2721.34 246.435 2719.35 248.634 Q2717.36 250.833 2717.36 254.629 L2717.36 269.282 L2713.08 269.282 L2713.08 243.356 L2717.36 243.356 L2717.36 247.384 Q2718.89 245.046 2720.95 243.888 Q2723.03 242.731 2725.74 242.731 Q2730.21 242.731 2732.5 245.509 Q2734.79 248.263 2734.79 253.634 Z\" fill=\"#000000\" fill-rule=\"evenodd\" fill-opacity=\"1\" /><path clip-path=\"url(#clip600)\" d=\"M2765.46 255.254 L2765.46 257.337 L2745.88 257.337 Q2746.16 261.735 2748.52 264.05 Q2750.9 266.342 2755.14 266.342 Q2757.59 266.342 2759.88 265.74 Q2762.2 265.138 2764.47 263.935 L2764.47 267.962 Q2762.18 268.934 2759.77 269.444 Q2757.36 269.953 2754.88 269.953 Q2748.68 269.953 2745.05 266.342 Q2741.44 262.731 2741.44 256.573 Q2741.44 250.208 2744.86 246.481 Q2748.31 242.731 2754.14 242.731 Q2759.38 242.731 2762.41 246.111 Q2765.46 249.467 2765.46 255.254 M2761.2 254.004 Q2761.16 250.509 2759.24 248.425 Q2757.34 246.342 2754.19 246.342 Q2750.63 246.342 2748.47 248.356 Q2746.34 250.37 2746.02 254.027 L2761.2 254.004 Z\" fill=\"#000000\" fill-rule=\"evenodd\" fill-opacity=\"1\" /><path clip-path=\"url(#clip600)\" d=\"M2772.45 243.356 L2776.71 243.356 L2776.71 269.745 Q2776.71 274.698 2774.82 276.921 Q2772.94 279.143 2768.75 279.143 L2767.13 279.143 L2767.13 275.532 L2768.26 275.532 Q2770.69 275.532 2771.57 274.397 Q2772.45 273.286 2772.45 269.745 L2772.45 243.356 M2772.45 233.263 L2776.71 233.263 L2776.71 238.657 L2772.45 238.657 L2772.45 233.263 Z\" fill=\"#000000\" fill-rule=\"evenodd\" fill-opacity=\"1\" /><path clip-path=\"url(#clip600)\" d=\"M2819.35 244.351 L2819.35 248.333 Q2817.55 247.337 2815.72 246.851 Q2813.91 246.342 2812.06 246.342 Q2807.92 246.342 2805.63 248.981 Q2803.33 251.597 2803.33 256.342 Q2803.33 261.087 2805.63 263.726 Q2807.92 266.342 2812.06 266.342 Q2813.91 266.342 2815.72 265.856 Q2817.55 265.347 2819.35 264.351 L2819.35 268.286 Q2817.57 269.12 2815.65 269.536 Q2813.75 269.953 2811.6 269.953 Q2805.74 269.953 2802.29 266.272 Q2798.84 262.592 2798.84 256.342 Q2798.84 249.999 2802.32 246.365 Q2805.81 242.731 2811.88 242.731 Q2813.84 242.731 2815.72 243.148 Q2817.59 243.541 2819.35 244.351 Z\" fill=\"#000000\" fill-rule=\"evenodd\" fill-opacity=\"1\" /><path clip-path=\"url(#clip600)\" d=\"M2848.94 255.254 L2848.94 257.337 L2829.35 257.337 Q2829.63 261.735 2831.99 264.05 Q2834.38 266.342 2838.61 266.342 Q2841.06 266.342 2843.36 265.74 Q2845.67 265.138 2847.94 263.935 L2847.94 267.962 Q2845.65 268.934 2843.24 269.444 Q2840.83 269.953 2838.36 269.953 Q2832.15 269.953 2828.52 266.342 Q2824.91 262.731 2824.91 256.573 Q2824.91 250.208 2828.33 246.481 Q2831.78 242.731 2837.62 242.731 Q2842.85 242.731 2845.88 246.111 Q2848.94 249.467 2848.94 255.254 M2844.68 254.004 Q2844.63 250.509 2842.71 248.425 Q2840.81 246.342 2837.66 246.342 Q2834.1 246.342 2831.94 248.356 Q2829.81 250.37 2829.49 254.027 L2844.68 254.004 Z\" fill=\"#000000\" fill-rule=\"evenodd\" fill-opacity=\"1\" /><path clip-path=\"url(#clip600)\" d=\"M2877.48 253.634 L2877.48 269.282 L2873.22 269.282 L2873.22 253.773 Q2873.22 250.092 2871.78 248.263 Q2870.35 246.435 2867.48 246.435 Q2864.03 246.435 2862.04 248.634 Q2860.05 250.833 2860.05 254.629 L2860.05 269.282 L2855.76 269.282 L2855.76 243.356 L2860.05 243.356 L2860.05 247.384 Q2861.57 245.046 2863.63 243.888 Q2865.72 242.731 2868.43 242.731 Q2872.89 242.731 2875.19 245.509 Q2877.48 248.263 2877.48 253.634 Z\" fill=\"#000000\" fill-rule=\"evenodd\" fill-opacity=\"1\" /><path clip-path=\"url(#clip600)\" d=\"M2885.97 243.356 L2890.23 243.356 L2890.23 269.282 L2885.97 269.282 L2885.97 243.356 M2885.97 233.263 L2890.23 233.263 L2890.23 238.657 L2885.97 238.657 L2885.97 233.263 Z\" fill=\"#000000\" fill-rule=\"evenodd\" fill-opacity=\"1\" /><path clip-path=\"url(#clip600)\" d=\"M2921.32 255.254 L2921.32 257.337 L2901.74 257.337 Q2902.01 261.735 2904.37 264.05 Q2906.76 266.342 2911 266.342 Q2913.45 266.342 2915.74 265.74 Q2918.06 265.138 2920.32 263.935 L2920.32 267.962 Q2918.03 268.934 2915.62 269.444 Q2913.22 269.953 2910.74 269.953 Q2904.54 269.953 2900.9 266.342 Q2897.29 262.731 2897.29 256.573 Q2897.29 250.208 2900.72 246.481 Q2904.17 242.731 2910 242.731 Q2915.23 242.731 2918.26 246.111 Q2921.32 249.467 2921.32 255.254 M2917.06 254.004 Q2917.01 250.509 2915.09 248.425 Q2913.19 246.342 2910.05 246.342 Q2906.48 246.342 2904.33 248.356 Q2902.2 250.37 2901.87 254.027 L2917.06 254.004 Z\" fill=\"#000000\" fill-rule=\"evenodd\" fill-opacity=\"1\" /><polyline clip-path=\"url(#clip600)\" style=\"stroke:#e26f46; stroke-linecap:round; stroke-linejoin:round; stroke-width:4; stroke-opacity:1; fill:none\" points=\"2055.25,303.842 2246.88,303.842 \"/>\n",
       "<path clip-path=\"url(#clip600)\" d=\"M2283.5 290.404 L2283.5 303.39 L2289.38 303.39 Q2292.64 303.39 2294.42 301.701 Q2296.21 300.011 2296.21 296.886 Q2296.21 293.784 2294.42 292.094 Q2292.64 290.404 2289.38 290.404 L2283.5 290.404 M2278.82 286.562 L2289.38 286.562 Q2295.19 286.562 2298.15 289.201 Q2301.14 291.816 2301.14 296.886 Q2301.14 302.001 2298.15 304.617 Q2295.19 307.233 2289.38 307.233 L2283.5 307.233 L2283.5 321.122 L2278.82 321.122 L2278.82 286.562 Z\" fill=\"#000000\" fill-rule=\"evenodd\" fill-opacity=\"1\" /><path clip-path=\"url(#clip600)\" d=\"M2321.41 299.177 Q2320.7 298.761 2319.84 298.576 Q2319.01 298.367 2317.99 298.367 Q2314.38 298.367 2312.43 300.728 Q2310.51 303.066 2310.51 307.464 L2310.51 321.122 L2306.23 321.122 L2306.23 295.196 L2310.51 295.196 L2310.51 299.224 Q2311.85 296.863 2314.01 295.728 Q2316.16 294.571 2319.24 294.571 Q2319.68 294.571 2320.21 294.64 Q2320.74 294.687 2321.39 294.802 L2321.41 299.177 Z\" fill=\"#000000\" fill-rule=\"evenodd\" fill-opacity=\"1\" /><path clip-path=\"url(#clip600)\" d=\"M2334.89 298.182 Q2331.46 298.182 2329.47 300.867 Q2327.48 303.529 2327.48 308.182 Q2327.48 312.835 2329.45 315.52 Q2331.44 318.182 2334.89 318.182 Q2338.29 318.182 2340.28 315.497 Q2342.27 312.812 2342.27 308.182 Q2342.27 303.576 2340.28 300.89 Q2338.29 298.182 2334.89 298.182 M2334.89 294.571 Q2340.44 294.571 2343.61 298.182 Q2346.79 301.793 2346.79 308.182 Q2346.79 314.548 2343.61 318.182 Q2340.44 321.793 2334.89 321.793 Q2329.31 321.793 2326.14 318.182 Q2322.99 314.548 2322.99 308.182 Q2322.99 301.793 2326.14 298.182 Q2329.31 294.571 2334.89 294.571 Z\" fill=\"#000000\" fill-rule=\"evenodd\" fill-opacity=\"1\" /><path clip-path=\"url(#clip600)\" d=\"M2366.97 285.103 L2366.97 288.645 L2362.9 288.645 Q2360.6 288.645 2359.7 289.571 Q2358.82 290.497 2358.82 292.904 L2358.82 295.196 L2365.84 295.196 L2365.84 298.506 L2358.82 298.506 L2358.82 321.122 L2354.54 321.122 L2354.54 298.506 L2350.47 298.506 L2350.47 295.196 L2354.54 295.196 L2354.54 293.39 Q2354.54 289.062 2356.55 287.094 Q2358.57 285.103 2362.94 285.103 L2366.97 285.103 Z\" fill=\"#000000\" fill-rule=\"evenodd\" fill-opacity=\"1\" /><path clip-path=\"url(#clip600)\" d=\"M2370.53 295.196 L2374.79 295.196 L2374.79 321.122 L2370.53 321.122 L2370.53 295.196 M2370.53 285.103 L2374.79 285.103 L2374.79 290.497 L2370.53 290.497 L2370.53 285.103 Z\" fill=\"#000000\" fill-rule=\"evenodd\" fill-opacity=\"1\" /><path clip-path=\"url(#clip600)\" d=\"M2387.92 287.835 L2387.92 295.196 L2396.69 295.196 L2396.69 298.506 L2387.92 298.506 L2387.92 312.58 Q2387.92 315.751 2388.78 316.654 Q2389.66 317.557 2392.32 317.557 L2396.69 317.557 L2396.69 321.122 L2392.32 321.122 Q2387.39 321.122 2385.51 319.293 Q2383.64 317.441 2383.64 312.58 L2383.64 298.506 L2380.51 298.506 L2380.51 295.196 L2383.64 295.196 L2383.64 287.835 L2387.92 287.835 Z\" fill=\"#000000\" fill-rule=\"evenodd\" fill-opacity=\"1\" /><path clip-path=\"url(#clip600)\" d=\"M2421.48 317.233 L2421.48 330.983 L2417.2 330.983 L2417.2 295.196 L2421.48 295.196 L2421.48 299.131 Q2422.83 296.816 2424.86 295.705 Q2426.92 294.571 2429.77 294.571 Q2434.49 294.571 2437.43 298.321 Q2440.4 302.071 2440.4 308.182 Q2440.4 314.293 2437.43 318.043 Q2434.49 321.793 2429.77 321.793 Q2426.92 321.793 2424.86 320.682 Q2422.83 319.548 2421.48 317.233 M2435.97 308.182 Q2435.97 303.483 2434.03 300.821 Q2432.11 298.136 2428.73 298.136 Q2425.35 298.136 2423.41 300.821 Q2421.48 303.483 2421.48 308.182 Q2421.48 312.881 2423.41 315.566 Q2425.35 318.228 2428.73 318.228 Q2432.11 318.228 2434.03 315.566 Q2435.97 312.881 2435.97 308.182 Z\" fill=\"#000000\" fill-rule=\"evenodd\" fill-opacity=\"1\" /><path clip-path=\"url(#clip600)\" d=\"M2462.48 299.177 Q2461.76 298.761 2460.9 298.576 Q2460.07 298.367 2459.05 298.367 Q2455.44 298.367 2453.5 300.728 Q2451.58 303.066 2451.58 307.464 L2451.58 321.122 L2447.29 321.122 L2447.29 295.196 L2451.58 295.196 L2451.58 299.224 Q2452.92 296.863 2455.07 295.728 Q2457.22 294.571 2460.3 294.571 Q2460.74 294.571 2461.28 294.64 Q2461.81 294.687 2462.46 294.802 L2462.48 299.177 Z\" fill=\"#000000\" fill-rule=\"evenodd\" fill-opacity=\"1\" /><path clip-path=\"url(#clip600)\" d=\"M2465.09 295.196 L2485.33 295.196 L2485.33 299.085 L2469.31 317.719 L2485.33 317.719 L2485.33 321.122 L2464.52 321.122 L2464.52 317.233 L2480.53 298.599 L2465.09 298.599 L2465.09 295.196 Z\" fill=\"#000000\" fill-rule=\"evenodd\" fill-opacity=\"1\" /><path clip-path=\"url(#clip600)\" d=\"M2502.62 323.529 Q2500.81 328.159 2499.1 329.571 Q2497.39 330.983 2494.52 330.983 L2491.11 330.983 L2491.11 327.418 L2493.61 327.418 Q2495.37 327.418 2496.34 326.585 Q2497.32 325.751 2498.5 322.649 L2499.26 320.705 L2488.78 295.196 L2493.29 295.196 L2501.39 315.474 L2509.49 295.196 L2514.01 295.196 L2502.62 323.529 Z\" fill=\"#000000\" fill-rule=\"evenodd\" fill-opacity=\"1\" /><path clip-path=\"url(#clip600)\" d=\"M2532.48 295.196 L2536.74 295.196 L2542.06 315.427 L2547.36 295.196 L2552.39 295.196 L2557.71 315.427 L2563.01 295.196 L2567.27 295.196 L2560.49 321.122 L2555.46 321.122 L2549.89 299.872 L2544.28 321.122 L2539.26 321.122 L2532.48 295.196 Z\" fill=\"#000000\" fill-rule=\"evenodd\" fill-opacity=\"1\" /><path clip-path=\"url(#clip600)\" d=\"M2571.88 295.196 L2592.11 295.196 L2592.11 299.085 L2576.09 317.719 L2592.11 317.719 L2592.11 321.122 L2571.3 321.122 L2571.3 317.233 L2587.32 298.599 L2571.88 298.599 L2571.88 295.196 Z\" fill=\"#000000\" fill-rule=\"evenodd\" fill-opacity=\"1\" /><path clip-path=\"url(#clip600)\" d=\"M2613.64 299.177 Q2612.92 298.761 2612.06 298.576 Q2611.23 298.367 2610.21 298.367 Q2606.6 298.367 2604.65 300.728 Q2602.73 303.066 2602.73 307.464 L2602.73 321.122 L2598.45 321.122 L2598.45 295.196 L2602.73 295.196 L2602.73 299.224 Q2604.08 296.863 2606.23 295.728 Q2608.38 294.571 2611.46 294.571 Q2611.9 294.571 2612.43 294.64 Q2612.96 294.687 2613.61 294.802 L2613.64 299.177 Z\" fill=\"#000000\" fill-rule=\"evenodd\" fill-opacity=\"1\" /><path clip-path=\"url(#clip600)\" d=\"M2627.11 298.182 Q2623.68 298.182 2621.69 300.867 Q2619.7 303.529 2619.7 308.182 Q2619.7 312.835 2621.67 315.52 Q2623.66 318.182 2627.11 318.182 Q2630.51 318.182 2632.5 315.497 Q2634.49 312.812 2634.49 308.182 Q2634.49 303.576 2632.5 300.89 Q2630.51 298.182 2627.11 298.182 M2627.11 294.571 Q2632.66 294.571 2635.83 298.182 Q2639.01 301.793 2639.01 308.182 Q2639.01 314.548 2635.83 318.182 Q2632.66 321.793 2627.11 321.793 Q2621.53 321.793 2618.36 318.182 Q2615.21 314.548 2615.21 308.182 Q2615.21 301.793 2618.36 298.182 Q2621.53 294.571 2627.11 294.571 Z\" fill=\"#000000\" fill-rule=\"evenodd\" fill-opacity=\"1\" /><path clip-path=\"url(#clip600)\" d=\"M2658.2 283.043 L2662.8 283.043 L2655.26 291.747 L2651.71 291.747 L2658.2 283.043 M2662.59 295.96 L2662.59 299.988 Q2660.79 299.062 2658.84 298.599 Q2656.9 298.136 2654.82 298.136 Q2651.64 298.136 2650.05 299.108 Q2648.47 300.08 2648.47 302.025 Q2648.47 303.506 2649.61 304.363 Q2650.74 305.196 2654.17 305.96 L2655.63 306.284 Q2660.16 307.256 2662.06 309.038 Q2663.98 310.798 2663.98 313.969 Q2663.98 317.58 2661.11 319.687 Q2658.26 321.793 2653.26 321.793 Q2651.18 321.793 2648.91 321.376 Q2646.67 320.983 2644.17 320.173 L2644.17 315.775 Q2646.53 317.001 2648.82 317.626 Q2651.11 318.228 2653.36 318.228 Q2656.37 318.228 2657.99 317.21 Q2659.61 316.168 2659.61 314.293 Q2659.61 312.557 2658.43 311.631 Q2657.27 310.705 2653.31 309.849 L2651.83 309.501 Q2647.87 308.668 2646.11 306.955 Q2644.35 305.219 2644.35 302.21 Q2644.35 298.552 2646.95 296.562 Q2649.54 294.571 2654.31 294.571 Q2656.67 294.571 2658.75 294.918 Q2660.83 295.265 2662.59 295.96 Z\" fill=\"#000000\" fill-rule=\"evenodd\" fill-opacity=\"1\" /><path clip-path=\"url(#clip600)\" d=\"M2689.42 296.191 L2689.42 300.173 Q2687.62 299.177 2685.79 298.691 Q2683.98 298.182 2682.13 298.182 Q2677.99 298.182 2675.7 300.821 Q2673.4 303.437 2673.4 308.182 Q2673.4 312.927 2675.7 315.566 Q2677.99 318.182 2682.13 318.182 Q2683.98 318.182 2685.79 317.696 Q2687.62 317.187 2689.42 316.191 L2689.42 320.126 Q2687.64 320.96 2685.72 321.376 Q2683.82 321.793 2681.67 321.793 Q2675.81 321.793 2672.36 318.112 Q2668.91 314.432 2668.91 308.182 Q2668.91 301.839 2672.39 298.205 Q2675.88 294.571 2681.95 294.571 Q2683.91 294.571 2685.79 294.988 Q2687.66 295.381 2689.42 296.191 Z\" fill=\"#000000\" fill-rule=\"evenodd\" fill-opacity=\"1\" /><path clip-path=\"url(#clip600)\" d=\"M2696.83 295.196 L2701.09 295.196 L2701.09 321.122 L2696.83 321.122 L2696.83 295.196 M2696.83 285.103 L2701.09 285.103 L2701.09 290.497 L2696.83 290.497 L2696.83 285.103 Z\" fill=\"#000000\" fill-rule=\"evenodd\" fill-opacity=\"1\" /><path clip-path=\"url(#clip600)\" d=\"M2732.18 307.094 L2732.18 309.177 L2712.59 309.177 Q2712.87 313.575 2715.23 315.89 Q2717.62 318.182 2721.85 318.182 Q2724.31 318.182 2726.6 317.58 Q2728.91 316.978 2731.18 315.775 L2731.18 319.802 Q2728.89 320.774 2726.48 321.284 Q2724.07 321.793 2721.6 321.793 Q2715.39 321.793 2711.76 318.182 Q2708.15 314.571 2708.15 308.413 Q2708.15 302.048 2711.57 298.321 Q2715.02 294.571 2720.86 294.571 Q2726.09 294.571 2729.12 297.951 Q2732.18 301.307 2732.18 307.094 M2727.92 305.844 Q2727.87 302.349 2725.95 300.265 Q2724.05 298.182 2720.9 298.182 Q2717.34 298.182 2715.19 300.196 Q2713.06 302.21 2712.73 305.867 L2727.92 305.844 Z\" fill=\"#000000\" fill-rule=\"evenodd\" fill-opacity=\"1\" /><path clip-path=\"url(#clip600)\" d=\"M2772.89 296.191 L2772.89 300.173 Q2771.09 299.177 2769.26 298.691 Q2767.45 298.182 2765.6 298.182 Q2761.46 298.182 2759.17 300.821 Q2756.88 303.437 2756.88 308.182 Q2756.88 312.927 2759.17 315.566 Q2761.46 318.182 2765.6 318.182 Q2767.45 318.182 2769.26 317.696 Q2771.09 317.187 2772.89 316.191 L2772.89 320.126 Q2771.11 320.96 2769.19 321.376 Q2767.29 321.793 2765.14 321.793 Q2759.28 321.793 2755.83 318.112 Q2752.38 314.432 2752.38 308.182 Q2752.38 301.839 2755.86 298.205 Q2759.35 294.571 2765.42 294.571 Q2767.38 294.571 2769.26 294.988 Q2771.13 295.381 2772.89 296.191 Z\" fill=\"#000000\" fill-rule=\"evenodd\" fill-opacity=\"1\" /><path clip-path=\"url(#clip600)\" d=\"M2802.48 307.094 L2802.48 309.177 L2782.89 309.177 Q2783.17 313.575 2785.53 315.89 Q2787.92 318.182 2792.15 318.182 Q2794.61 318.182 2796.9 317.58 Q2799.21 316.978 2801.48 315.775 L2801.48 319.802 Q2799.19 320.774 2796.78 321.284 Q2794.38 321.793 2791.9 321.793 Q2785.69 321.793 2782.06 318.182 Q2778.45 314.571 2778.45 308.413 Q2778.45 302.048 2781.88 298.321 Q2785.32 294.571 2791.16 294.571 Q2796.39 294.571 2799.42 297.951 Q2802.48 301.307 2802.48 307.094 M2798.22 305.844 Q2798.17 302.349 2796.25 300.265 Q2794.35 298.182 2791.2 298.182 Q2787.64 298.182 2785.49 300.196 Q2783.36 302.21 2783.03 305.867 L2798.22 305.844 Z\" fill=\"#000000\" fill-rule=\"evenodd\" fill-opacity=\"1\" /><path clip-path=\"url(#clip600)\" d=\"M2831.02 305.474 L2831.02 321.122 L2826.76 321.122 L2826.76 305.613 Q2826.76 301.932 2825.32 300.103 Q2823.89 298.275 2821.02 298.275 Q2817.57 298.275 2815.58 300.474 Q2813.59 302.673 2813.59 306.469 L2813.59 321.122 L2809.31 321.122 L2809.31 295.196 L2813.59 295.196 L2813.59 299.224 Q2815.12 296.886 2817.18 295.728 Q2819.26 294.571 2821.97 294.571 Q2826.44 294.571 2828.73 297.349 Q2831.02 300.103 2831.02 305.474 Z\" fill=\"#000000\" fill-rule=\"evenodd\" fill-opacity=\"1\" /><path clip-path=\"url(#clip600)\" d=\"M2850.3 323.529 Q2848.5 328.159 2846.78 329.571 Q2845.07 330.983 2842.2 330.983 L2838.8 330.983 L2838.8 327.418 L2841.3 327.418 Q2843.06 327.418 2844.03 326.585 Q2845 325.751 2846.18 322.649 L2846.94 320.705 L2836.46 295.196 L2840.97 295.196 L2849.07 315.474 L2857.18 295.196 L2861.69 295.196 L2850.3 323.529 Z\" fill=\"#000000\" fill-rule=\"evenodd\" fill-opacity=\"1\" /><path clip-path=\"url(#clip600)\" d=\"M2892.68 298.182 Q2889.26 298.182 2887.27 300.867 Q2885.28 303.529 2885.28 308.182 Q2885.28 312.835 2887.25 315.52 Q2889.24 318.182 2892.68 318.182 Q2896.09 318.182 2898.08 315.497 Q2900.07 312.812 2900.07 308.182 Q2900.07 303.576 2898.08 300.89 Q2896.09 298.182 2892.68 298.182 M2892.68 294.571 Q2898.24 294.571 2901.41 298.182 Q2904.58 301.793 2904.58 308.182 Q2904.58 314.548 2901.41 318.182 Q2898.24 321.793 2892.68 321.793 Q2887.11 321.793 2883.94 318.182 Q2880.79 314.548 2880.79 308.182 Q2880.79 301.793 2883.94 298.182 Q2887.11 294.571 2892.68 294.571 Z\" fill=\"#000000\" fill-rule=\"evenodd\" fill-opacity=\"1\" /><path clip-path=\"url(#clip600)\" d=\"M2927.36 286.562 L2945.72 286.562 L2945.72 290.497 L2931.64 290.497 L2931.64 298.969 Q2932.66 298.622 2933.68 298.46 Q2934.7 298.275 2935.72 298.275 Q2941.5 298.275 2944.88 301.446 Q2948.26 304.617 2948.26 310.034 Q2948.26 315.612 2944.79 318.714 Q2941.32 321.793 2935 321.793 Q2932.82 321.793 2930.56 321.423 Q2928.31 321.052 2925.9 320.312 L2925.9 315.612 Q2927.99 316.747 2930.21 317.302 Q2932.43 317.858 2934.91 317.858 Q2938.91 317.858 2941.25 315.751 Q2943.59 313.645 2943.59 310.034 Q2943.59 306.423 2941.25 304.316 Q2938.91 302.21 2934.91 302.21 Q2933.03 302.21 2931.16 302.626 Q2929.31 303.043 2927.36 303.923 L2927.36 286.562 Z\" fill=\"#000000\" fill-rule=\"evenodd\" fill-opacity=\"1\" /><path clip-path=\"url(#clip600)\" d=\"M2986.87 305.913 Q2984.86 305.913 2983.7 307.626 Q2982.57 309.339 2982.57 312.395 Q2982.57 315.404 2983.7 317.14 Q2984.86 318.853 2986.87 318.853 Q2988.84 318.853 2989.98 317.14 Q2991.13 315.404 2991.13 312.395 Q2991.13 309.363 2989.98 307.65 Q2988.84 305.913 2986.87 305.913 M2986.87 302.974 Q2990.53 302.974 2992.68 305.52 Q2994.84 308.066 2994.84 312.395 Q2994.84 316.724 2992.66 319.27 Q2990.51 321.793 2986.87 321.793 Q2983.17 321.793 2981.02 319.27 Q2978.87 316.724 2978.87 312.395 Q2978.87 308.043 2981.02 305.52 Q2983.19 302.974 2986.87 302.974 M2962.99 288.877 Q2960.99 288.877 2959.84 290.613 Q2958.7 292.326 2958.7 295.335 Q2958.7 298.39 2959.84 300.103 Q2960.97 301.816 2962.99 301.816 Q2965 301.816 2966.13 300.103 Q2967.29 298.39 2967.29 295.335 Q2967.29 292.349 2966.13 290.613 Q2964.98 288.877 2962.99 288.877 M2983.89 285.937 L2987.59 285.937 L2965.97 321.793 L2962.27 321.793 L2983.89 285.937 M2962.99 285.937 Q2966.64 285.937 2968.82 288.483 Q2970.99 291.006 2970.99 295.335 Q2970.99 299.71 2968.82 302.233 Q2966.67 304.756 2962.99 304.756 Q2959.3 304.756 2957.15 302.233 Q2955.02 299.687 2955.02 295.335 Q2955.02 291.029 2957.18 288.483 Q2959.33 285.937 2962.99 285.937 Z\" fill=\"#000000\" fill-rule=\"evenodd\" fill-opacity=\"1\" /><polyline clip-path=\"url(#clip600)\" style=\"stroke:#3da44d; stroke-linecap:round; stroke-linejoin:round; stroke-width:4; stroke-opacity:1; fill:none\" points=\"2055.25,355.682 2246.88,355.682 \"/>\n",
       "<path clip-path=\"url(#clip600)\" d=\"M2283.5 342.244 L2283.5 355.23 L2289.38 355.23 Q2292.64 355.23 2294.42 353.541 Q2296.21 351.851 2296.21 348.726 Q2296.21 345.624 2294.42 343.934 Q2292.64 342.244 2289.38 342.244 L2283.5 342.244 M2278.82 338.402 L2289.38 338.402 Q2295.19 338.402 2298.15 341.041 Q2301.14 343.656 2301.14 348.726 Q2301.14 353.841 2298.15 356.457 Q2295.19 359.073 2289.38 359.073 L2283.5 359.073 L2283.5 372.962 L2278.82 372.962 L2278.82 338.402 Z\" fill=\"#000000\" fill-rule=\"evenodd\" fill-opacity=\"1\" /><path clip-path=\"url(#clip600)\" d=\"M2321.41 351.017 Q2320.7 350.601 2319.84 350.416 Q2319.01 350.207 2317.99 350.207 Q2314.38 350.207 2312.43 352.568 Q2310.51 354.906 2310.51 359.304 L2310.51 372.962 L2306.23 372.962 L2306.23 347.036 L2310.51 347.036 L2310.51 351.064 Q2311.85 348.703 2314.01 347.568 Q2316.16 346.411 2319.24 346.411 Q2319.68 346.411 2320.21 346.48 Q2320.74 346.527 2321.39 346.642 L2321.41 351.017 Z\" fill=\"#000000\" fill-rule=\"evenodd\" fill-opacity=\"1\" /><path clip-path=\"url(#clip600)\" d=\"M2334.89 350.022 Q2331.46 350.022 2329.47 352.707 Q2327.48 355.369 2327.48 360.022 Q2327.48 364.675 2329.45 367.36 Q2331.44 370.022 2334.89 370.022 Q2338.29 370.022 2340.28 367.337 Q2342.27 364.652 2342.27 360.022 Q2342.27 355.416 2340.28 352.73 Q2338.29 350.022 2334.89 350.022 M2334.89 346.411 Q2340.44 346.411 2343.61 350.022 Q2346.79 353.633 2346.79 360.022 Q2346.79 366.388 2343.61 370.022 Q2340.44 373.633 2334.89 373.633 Q2329.31 373.633 2326.14 370.022 Q2322.99 366.388 2322.99 360.022 Q2322.99 353.633 2326.14 350.022 Q2329.31 346.411 2334.89 346.411 Z\" fill=\"#000000\" fill-rule=\"evenodd\" fill-opacity=\"1\" /><path clip-path=\"url(#clip600)\" d=\"M2366.97 336.943 L2366.97 340.485 L2362.9 340.485 Q2360.6 340.485 2359.7 341.411 Q2358.82 342.337 2358.82 344.744 L2358.82 347.036 L2365.84 347.036 L2365.84 350.346 L2358.82 350.346 L2358.82 372.962 L2354.54 372.962 L2354.54 350.346 L2350.47 350.346 L2350.47 347.036 L2354.54 347.036 L2354.54 345.23 Q2354.54 340.902 2356.55 338.934 Q2358.57 336.943 2362.94 336.943 L2366.97 336.943 Z\" fill=\"#000000\" fill-rule=\"evenodd\" fill-opacity=\"1\" /><path clip-path=\"url(#clip600)\" d=\"M2370.53 347.036 L2374.79 347.036 L2374.79 372.962 L2370.53 372.962 L2370.53 347.036 M2370.53 336.943 L2374.79 336.943 L2374.79 342.337 L2370.53 342.337 L2370.53 336.943 Z\" fill=\"#000000\" fill-rule=\"evenodd\" fill-opacity=\"1\" /><path clip-path=\"url(#clip600)\" d=\"M2387.92 339.675 L2387.92 347.036 L2396.69 347.036 L2396.69 350.346 L2387.92 350.346 L2387.92 364.42 Q2387.92 367.591 2388.78 368.494 Q2389.66 369.397 2392.32 369.397 L2396.69 369.397 L2396.69 372.962 L2392.32 372.962 Q2387.39 372.962 2385.51 371.133 Q2383.64 369.281 2383.64 364.42 L2383.64 350.346 L2380.51 350.346 L2380.51 347.036 L2383.64 347.036 L2383.64 339.675 L2387.92 339.675 Z\" fill=\"#000000\" fill-rule=\"evenodd\" fill-opacity=\"1\" /><path clip-path=\"url(#clip600)\" d=\"M2421.48 369.073 L2421.48 382.823 L2417.2 382.823 L2417.2 347.036 L2421.48 347.036 L2421.48 350.971 Q2422.83 348.656 2424.86 347.545 Q2426.92 346.411 2429.77 346.411 Q2434.49 346.411 2437.43 350.161 Q2440.4 353.911 2440.4 360.022 Q2440.4 366.133 2437.43 369.883 Q2434.49 373.633 2429.77 373.633 Q2426.92 373.633 2424.86 372.522 Q2422.83 371.388 2421.48 369.073 M2435.97 360.022 Q2435.97 355.323 2434.03 352.661 Q2432.11 349.976 2428.73 349.976 Q2425.35 349.976 2423.41 352.661 Q2421.48 355.323 2421.48 360.022 Q2421.48 364.721 2423.41 367.406 Q2425.35 370.068 2428.73 370.068 Q2432.11 370.068 2434.03 367.406 Q2435.97 364.721 2435.97 360.022 Z\" fill=\"#000000\" fill-rule=\"evenodd\" fill-opacity=\"1\" /><path clip-path=\"url(#clip600)\" d=\"M2462.48 351.017 Q2461.76 350.601 2460.9 350.416 Q2460.07 350.207 2459.05 350.207 Q2455.44 350.207 2453.5 352.568 Q2451.58 354.906 2451.58 359.304 L2451.58 372.962 L2447.29 372.962 L2447.29 347.036 L2451.58 347.036 L2451.58 351.064 Q2452.92 348.703 2455.07 347.568 Q2457.22 346.411 2460.3 346.411 Q2460.74 346.411 2461.28 346.48 Q2461.81 346.527 2462.46 346.642 L2462.48 351.017 Z\" fill=\"#000000\" fill-rule=\"evenodd\" fill-opacity=\"1\" /><path clip-path=\"url(#clip600)\" d=\"M2465.09 347.036 L2485.33 347.036 L2485.33 350.925 L2469.31 369.559 L2485.33 369.559 L2485.33 372.962 L2464.52 372.962 L2464.52 369.073 L2480.53 350.439 L2465.09 350.439 L2465.09 347.036 Z\" fill=\"#000000\" fill-rule=\"evenodd\" fill-opacity=\"1\" /><path clip-path=\"url(#clip600)\" d=\"M2502.62 375.369 Q2500.81 379.999 2499.1 381.411 Q2497.39 382.823 2494.52 382.823 L2491.11 382.823 L2491.11 379.258 L2493.61 379.258 Q2495.37 379.258 2496.34 378.425 Q2497.32 377.591 2498.5 374.489 L2499.26 372.545 L2488.78 347.036 L2493.29 347.036 L2501.39 367.314 L2509.49 347.036 L2514.01 347.036 L2502.62 375.369 Z\" fill=\"#000000\" fill-rule=\"evenodd\" fill-opacity=\"1\" /><path clip-path=\"url(#clip600)\" d=\"M2532.48 347.036 L2536.74 347.036 L2542.06 367.267 L2547.36 347.036 L2552.39 347.036 L2557.71 367.267 L2563.01 347.036 L2567.27 347.036 L2560.49 372.962 L2555.46 372.962 L2549.89 351.712 L2544.28 372.962 L2539.26 372.962 L2532.48 347.036 Z\" fill=\"#000000\" fill-rule=\"evenodd\" fill-opacity=\"1\" /><path clip-path=\"url(#clip600)\" d=\"M2571.88 347.036 L2592.11 347.036 L2592.11 350.925 L2576.09 369.559 L2592.11 369.559 L2592.11 372.962 L2571.3 372.962 L2571.3 369.073 L2587.32 350.439 L2571.88 350.439 L2571.88 347.036 Z\" fill=\"#000000\" fill-rule=\"evenodd\" fill-opacity=\"1\" /><path clip-path=\"url(#clip600)\" d=\"M2613.64 351.017 Q2612.92 350.601 2612.06 350.416 Q2611.23 350.207 2610.21 350.207 Q2606.6 350.207 2604.65 352.568 Q2602.73 354.906 2602.73 359.304 L2602.73 372.962 L2598.45 372.962 L2598.45 347.036 L2602.73 347.036 L2602.73 351.064 Q2604.08 348.703 2606.23 347.568 Q2608.38 346.411 2611.46 346.411 Q2611.9 346.411 2612.43 346.48 Q2612.96 346.527 2613.61 346.642 L2613.64 351.017 Z\" fill=\"#000000\" fill-rule=\"evenodd\" fill-opacity=\"1\" /><path clip-path=\"url(#clip600)\" d=\"M2627.11 350.022 Q2623.68 350.022 2621.69 352.707 Q2619.7 355.369 2619.7 360.022 Q2619.7 364.675 2621.67 367.36 Q2623.66 370.022 2627.11 370.022 Q2630.51 370.022 2632.5 367.337 Q2634.49 364.652 2634.49 360.022 Q2634.49 355.416 2632.5 352.73 Q2630.51 350.022 2627.11 350.022 M2627.11 346.411 Q2632.66 346.411 2635.83 350.022 Q2639.01 353.633 2639.01 360.022 Q2639.01 366.388 2635.83 370.022 Q2632.66 373.633 2627.11 373.633 Q2621.53 373.633 2618.36 370.022 Q2615.21 366.388 2615.21 360.022 Q2615.21 353.633 2618.36 350.022 Q2621.53 346.411 2627.11 346.411 Z\" fill=\"#000000\" fill-rule=\"evenodd\" fill-opacity=\"1\" /><path clip-path=\"url(#clip600)\" d=\"M2658.2 334.883 L2662.8 334.883 L2655.26 343.587 L2651.71 343.587 L2658.2 334.883 M2662.59 347.8 L2662.59 351.828 Q2660.79 350.902 2658.84 350.439 Q2656.9 349.976 2654.82 349.976 Q2651.64 349.976 2650.05 350.948 Q2648.47 351.92 2648.47 353.865 Q2648.47 355.346 2649.61 356.203 Q2650.74 357.036 2654.17 357.8 L2655.63 358.124 Q2660.16 359.096 2662.06 360.878 Q2663.98 362.638 2663.98 365.809 Q2663.98 369.42 2661.11 371.527 Q2658.26 373.633 2653.26 373.633 Q2651.18 373.633 2648.91 373.216 Q2646.67 372.823 2644.17 372.013 L2644.17 367.615 Q2646.53 368.841 2648.82 369.466 Q2651.11 370.068 2653.36 370.068 Q2656.37 370.068 2657.99 369.05 Q2659.61 368.008 2659.61 366.133 Q2659.61 364.397 2658.43 363.471 Q2657.27 362.545 2653.31 361.689 L2651.83 361.341 Q2647.87 360.508 2646.11 358.795 Q2644.35 357.059 2644.35 354.05 Q2644.35 350.392 2646.95 348.402 Q2649.54 346.411 2654.31 346.411 Q2656.67 346.411 2658.75 346.758 Q2660.83 347.105 2662.59 347.8 Z\" fill=\"#000000\" fill-rule=\"evenodd\" fill-opacity=\"1\" /><path clip-path=\"url(#clip600)\" d=\"M2689.42 348.031 L2689.42 352.013 Q2687.62 351.017 2685.79 350.531 Q2683.98 350.022 2682.13 350.022 Q2677.99 350.022 2675.7 352.661 Q2673.4 355.277 2673.4 360.022 Q2673.4 364.767 2675.7 367.406 Q2677.99 370.022 2682.13 370.022 Q2683.98 370.022 2685.79 369.536 Q2687.62 369.027 2689.42 368.031 L2689.42 371.966 Q2687.64 372.8 2685.72 373.216 Q2683.82 373.633 2681.67 373.633 Q2675.81 373.633 2672.36 369.952 Q2668.91 366.272 2668.91 360.022 Q2668.91 353.679 2672.39 350.045 Q2675.88 346.411 2681.95 346.411 Q2683.91 346.411 2685.79 346.828 Q2687.66 347.221 2689.42 348.031 Z\" fill=\"#000000\" fill-rule=\"evenodd\" fill-opacity=\"1\" /><path clip-path=\"url(#clip600)\" d=\"M2696.83 347.036 L2701.09 347.036 L2701.09 372.962 L2696.83 372.962 L2696.83 347.036 M2696.83 336.943 L2701.09 336.943 L2701.09 342.337 L2696.83 342.337 L2696.83 336.943 Z\" fill=\"#000000\" fill-rule=\"evenodd\" fill-opacity=\"1\" /><path clip-path=\"url(#clip600)\" d=\"M2732.18 358.934 L2732.18 361.017 L2712.59 361.017 Q2712.87 365.415 2715.23 367.73 Q2717.62 370.022 2721.85 370.022 Q2724.31 370.022 2726.6 369.42 Q2728.91 368.818 2731.18 367.615 L2731.18 371.642 Q2728.89 372.614 2726.48 373.124 Q2724.07 373.633 2721.6 373.633 Q2715.39 373.633 2711.76 370.022 Q2708.15 366.411 2708.15 360.253 Q2708.15 353.888 2711.57 350.161 Q2715.02 346.411 2720.86 346.411 Q2726.09 346.411 2729.12 349.791 Q2732.18 353.147 2732.18 358.934 M2727.92 357.684 Q2727.87 354.189 2725.95 352.105 Q2724.05 350.022 2720.9 350.022 Q2717.34 350.022 2715.19 352.036 Q2713.06 354.05 2712.73 357.707 L2727.92 357.684 Z\" fill=\"#000000\" fill-rule=\"evenodd\" fill-opacity=\"1\" /><path clip-path=\"url(#clip600)\" d=\"M2772.89 348.031 L2772.89 352.013 Q2771.09 351.017 2769.26 350.531 Q2767.45 350.022 2765.6 350.022 Q2761.46 350.022 2759.17 352.661 Q2756.88 355.277 2756.88 360.022 Q2756.88 364.767 2759.17 367.406 Q2761.46 370.022 2765.6 370.022 Q2767.45 370.022 2769.26 369.536 Q2771.09 369.027 2772.89 368.031 L2772.89 371.966 Q2771.11 372.8 2769.19 373.216 Q2767.29 373.633 2765.14 373.633 Q2759.28 373.633 2755.83 369.952 Q2752.38 366.272 2752.38 360.022 Q2752.38 353.679 2755.86 350.045 Q2759.35 346.411 2765.42 346.411 Q2767.38 346.411 2769.26 346.828 Q2771.13 347.221 2772.89 348.031 Z\" fill=\"#000000\" fill-rule=\"evenodd\" fill-opacity=\"1\" /><path clip-path=\"url(#clip600)\" d=\"M2802.48 358.934 L2802.48 361.017 L2782.89 361.017 Q2783.17 365.415 2785.53 367.73 Q2787.92 370.022 2792.15 370.022 Q2794.61 370.022 2796.9 369.42 Q2799.21 368.818 2801.48 367.615 L2801.48 371.642 Q2799.19 372.614 2796.78 373.124 Q2794.38 373.633 2791.9 373.633 Q2785.69 373.633 2782.06 370.022 Q2778.45 366.411 2778.45 360.253 Q2778.45 353.888 2781.88 350.161 Q2785.32 346.411 2791.16 346.411 Q2796.39 346.411 2799.42 349.791 Q2802.48 353.147 2802.48 358.934 M2798.22 357.684 Q2798.17 354.189 2796.25 352.105 Q2794.35 350.022 2791.2 350.022 Q2787.64 350.022 2785.49 352.036 Q2783.36 354.05 2783.03 357.707 L2798.22 357.684 Z\" fill=\"#000000\" fill-rule=\"evenodd\" fill-opacity=\"1\" /><path clip-path=\"url(#clip600)\" d=\"M2831.02 357.314 L2831.02 372.962 L2826.76 372.962 L2826.76 357.453 Q2826.76 353.772 2825.32 351.943 Q2823.89 350.115 2821.02 350.115 Q2817.57 350.115 2815.58 352.314 Q2813.59 354.513 2813.59 358.309 L2813.59 372.962 L2809.31 372.962 L2809.31 347.036 L2813.59 347.036 L2813.59 351.064 Q2815.12 348.726 2817.18 347.568 Q2819.26 346.411 2821.97 346.411 Q2826.44 346.411 2828.73 349.189 Q2831.02 351.943 2831.02 357.314 Z\" fill=\"#000000\" fill-rule=\"evenodd\" fill-opacity=\"1\" /><path clip-path=\"url(#clip600)\" d=\"M2850.3 375.369 Q2848.5 379.999 2846.78 381.411 Q2845.07 382.823 2842.2 382.823 L2838.8 382.823 L2838.8 379.258 L2841.3 379.258 Q2843.06 379.258 2844.03 378.425 Q2845 377.591 2846.18 374.489 L2846.94 372.545 L2836.46 347.036 L2840.97 347.036 L2849.07 367.314 L2857.18 347.036 L2861.69 347.036 L2850.3 375.369 Z\" fill=\"#000000\" fill-rule=\"evenodd\" fill-opacity=\"1\" /><path clip-path=\"url(#clip600)\" d=\"M2892.68 350.022 Q2889.26 350.022 2887.27 352.707 Q2885.28 355.369 2885.28 360.022 Q2885.28 364.675 2887.25 367.36 Q2889.24 370.022 2892.68 370.022 Q2896.09 370.022 2898.08 367.337 Q2900.07 364.652 2900.07 360.022 Q2900.07 355.416 2898.08 352.73 Q2896.09 350.022 2892.68 350.022 M2892.68 346.411 Q2898.24 346.411 2901.41 350.022 Q2904.58 353.633 2904.58 360.022 Q2904.58 366.388 2901.41 370.022 Q2898.24 373.633 2892.68 373.633 Q2887.11 373.633 2883.94 370.022 Q2880.79 366.388 2880.79 360.022 Q2880.79 353.633 2883.94 350.022 Q2887.11 346.411 2892.68 346.411 Z\" fill=\"#000000\" fill-rule=\"evenodd\" fill-opacity=\"1\" /><path clip-path=\"url(#clip600)\" d=\"M2928.12 369.027 L2935.76 369.027 L2935.76 342.661 L2927.45 344.328 L2927.45 340.068 L2935.72 338.402 L2940.39 338.402 L2940.39 369.027 L2948.03 369.027 L2948.03 372.962 L2928.12 372.962 L2928.12 369.027 Z\" fill=\"#000000\" fill-rule=\"evenodd\" fill-opacity=\"1\" /><path clip-path=\"url(#clip600)\" d=\"M2967.48 341.48 Q2963.87 341.48 2962.04 345.045 Q2960.23 348.587 2960.23 355.716 Q2960.23 362.823 2962.04 366.388 Q2963.87 369.929 2967.48 369.929 Q2971.11 369.929 2972.92 366.388 Q2974.74 362.823 2974.74 355.716 Q2974.74 348.587 2972.92 345.045 Q2971.11 341.48 2967.48 341.48 M2967.48 337.777 Q2973.29 337.777 2976.34 342.383 Q2979.42 346.966 2979.42 355.716 Q2979.42 364.443 2976.34 369.05 Q2973.29 373.633 2967.48 373.633 Q2961.67 373.633 2958.59 369.05 Q2955.53 364.443 2955.53 355.716 Q2955.53 346.966 2958.59 342.383 Q2961.67 337.777 2967.48 337.777 Z\" fill=\"#000000\" fill-rule=\"evenodd\" fill-opacity=\"1\" /><path clip-path=\"url(#clip600)\" d=\"M3017.04 357.753 Q3015.02 357.753 3013.86 359.466 Q3012.73 361.179 3012.73 364.235 Q3012.73 367.244 3013.86 368.98 Q3015.02 370.693 3017.04 370.693 Q3019 370.693 3020.14 368.98 Q3021.3 367.244 3021.3 364.235 Q3021.3 361.203 3020.14 359.49 Q3019 357.753 3017.04 357.753 M3017.04 354.814 Q3020.69 354.814 3022.85 357.36 Q3025 359.906 3025 364.235 Q3025 368.564 3022.82 371.11 Q3020.67 373.633 3017.04 373.633 Q3013.33 373.633 3011.18 371.11 Q3009.03 368.564 3009.03 364.235 Q3009.03 359.883 3011.18 357.36 Q3013.36 354.814 3017.04 354.814 M2993.15 340.717 Q2991.16 340.717 2990 342.453 Q2988.87 344.166 2988.87 347.175 Q2988.87 350.23 2990 351.943 Q2991.13 353.656 2993.15 353.656 Q2995.16 353.656 2996.3 351.943 Q2997.45 350.23 2997.45 347.175 Q2997.45 344.189 2996.3 342.453 Q2995.14 340.717 2993.15 340.717 M3014.05 337.777 L3017.75 337.777 L2996.13 373.633 L2992.43 373.633 L3014.05 337.777 M2993.15 337.777 Q2996.8 337.777 2998.98 340.323 Q3001.16 342.846 3001.16 347.175 Q3001.16 351.55 2998.98 354.073 Q2996.83 356.596 2993.15 356.596 Q2989.47 356.596 2987.31 354.073 Q2985.18 351.527 2985.18 347.175 Q2985.18 342.869 2987.34 340.323 Q2989.49 337.777 2993.15 337.777 Z\" fill=\"#000000\" fill-rule=\"evenodd\" fill-opacity=\"1\" /><polyline clip-path=\"url(#clip600)\" style=\"stroke:#c271d2; stroke-linecap:round; stroke-linejoin:round; stroke-width:4; stroke-opacity:1; fill:none\" points=\"2055.25,407.522 2246.88,407.522 \"/>\n",
       "<path clip-path=\"url(#clip600)\" d=\"M2283.5 394.084 L2283.5 407.07 L2289.38 407.07 Q2292.64 407.07 2294.42 405.381 Q2296.21 403.691 2296.21 400.566 Q2296.21 397.464 2294.42 395.774 Q2292.64 394.084 2289.38 394.084 L2283.5 394.084 M2278.82 390.242 L2289.38 390.242 Q2295.19 390.242 2298.15 392.881 Q2301.14 395.496 2301.14 400.566 Q2301.14 405.681 2298.15 408.297 Q2295.19 410.913 2289.38 410.913 L2283.5 410.913 L2283.5 424.802 L2278.82 424.802 L2278.82 390.242 Z\" fill=\"#000000\" fill-rule=\"evenodd\" fill-opacity=\"1\" /><path clip-path=\"url(#clip600)\" d=\"M2321.41 402.857 Q2320.7 402.441 2319.84 402.256 Q2319.01 402.047 2317.99 402.047 Q2314.38 402.047 2312.43 404.408 Q2310.51 406.746 2310.51 411.144 L2310.51 424.802 L2306.23 424.802 L2306.23 398.876 L2310.51 398.876 L2310.51 402.904 Q2311.85 400.543 2314.01 399.408 Q2316.16 398.251 2319.24 398.251 Q2319.68 398.251 2320.21 398.32 Q2320.74 398.367 2321.39 398.482 L2321.41 402.857 Z\" fill=\"#000000\" fill-rule=\"evenodd\" fill-opacity=\"1\" /><path clip-path=\"url(#clip600)\" d=\"M2334.89 401.862 Q2331.46 401.862 2329.47 404.547 Q2327.48 407.209 2327.48 411.862 Q2327.48 416.515 2329.45 419.2 Q2331.44 421.862 2334.89 421.862 Q2338.29 421.862 2340.28 419.177 Q2342.27 416.492 2342.27 411.862 Q2342.27 407.256 2340.28 404.57 Q2338.29 401.862 2334.89 401.862 M2334.89 398.251 Q2340.44 398.251 2343.61 401.862 Q2346.79 405.473 2346.79 411.862 Q2346.79 418.228 2343.61 421.862 Q2340.44 425.473 2334.89 425.473 Q2329.31 425.473 2326.14 421.862 Q2322.99 418.228 2322.99 411.862 Q2322.99 405.473 2326.14 401.862 Q2329.31 398.251 2334.89 398.251 Z\" fill=\"#000000\" fill-rule=\"evenodd\" fill-opacity=\"1\" /><path clip-path=\"url(#clip600)\" d=\"M2366.97 388.783 L2366.97 392.325 L2362.9 392.325 Q2360.6 392.325 2359.7 393.251 Q2358.82 394.177 2358.82 396.584 L2358.82 398.876 L2365.84 398.876 L2365.84 402.186 L2358.82 402.186 L2358.82 424.802 L2354.54 424.802 L2354.54 402.186 L2350.47 402.186 L2350.47 398.876 L2354.54 398.876 L2354.54 397.07 Q2354.54 392.742 2356.55 390.774 Q2358.57 388.783 2362.94 388.783 L2366.97 388.783 Z\" fill=\"#000000\" fill-rule=\"evenodd\" fill-opacity=\"1\" /><path clip-path=\"url(#clip600)\" d=\"M2370.53 398.876 L2374.79 398.876 L2374.79 424.802 L2370.53 424.802 L2370.53 398.876 M2370.53 388.783 L2374.79 388.783 L2374.79 394.177 L2370.53 394.177 L2370.53 388.783 Z\" fill=\"#000000\" fill-rule=\"evenodd\" fill-opacity=\"1\" /><path clip-path=\"url(#clip600)\" d=\"M2387.92 391.515 L2387.92 398.876 L2396.69 398.876 L2396.69 402.186 L2387.92 402.186 L2387.92 416.26 Q2387.92 419.431 2388.78 420.334 Q2389.66 421.237 2392.32 421.237 L2396.69 421.237 L2396.69 424.802 L2392.32 424.802 Q2387.39 424.802 2385.51 422.973 Q2383.64 421.121 2383.64 416.26 L2383.64 402.186 L2380.51 402.186 L2380.51 398.876 L2383.64 398.876 L2383.64 391.515 L2387.92 391.515 Z\" fill=\"#000000\" fill-rule=\"evenodd\" fill-opacity=\"1\" /><path clip-path=\"url(#clip600)\" d=\"M2421.48 420.913 L2421.48 434.663 L2417.2 434.663 L2417.2 398.876 L2421.48 398.876 L2421.48 402.811 Q2422.83 400.496 2424.86 399.385 Q2426.92 398.251 2429.77 398.251 Q2434.49 398.251 2437.43 402.001 Q2440.4 405.751 2440.4 411.862 Q2440.4 417.973 2437.43 421.723 Q2434.49 425.473 2429.77 425.473 Q2426.92 425.473 2424.86 424.362 Q2422.83 423.228 2421.48 420.913 M2435.97 411.862 Q2435.97 407.163 2434.03 404.501 Q2432.11 401.816 2428.73 401.816 Q2425.35 401.816 2423.41 404.501 Q2421.48 407.163 2421.48 411.862 Q2421.48 416.561 2423.41 419.246 Q2425.35 421.908 2428.73 421.908 Q2432.11 421.908 2434.03 419.246 Q2435.97 416.561 2435.97 411.862 Z\" fill=\"#000000\" fill-rule=\"evenodd\" fill-opacity=\"1\" /><path clip-path=\"url(#clip600)\" d=\"M2462.48 402.857 Q2461.76 402.441 2460.9 402.256 Q2460.07 402.047 2459.05 402.047 Q2455.44 402.047 2453.5 404.408 Q2451.58 406.746 2451.58 411.144 L2451.58 424.802 L2447.29 424.802 L2447.29 398.876 L2451.58 398.876 L2451.58 402.904 Q2452.92 400.543 2455.07 399.408 Q2457.22 398.251 2460.3 398.251 Q2460.74 398.251 2461.28 398.32 Q2461.81 398.367 2462.46 398.482 L2462.48 402.857 Z\" fill=\"#000000\" fill-rule=\"evenodd\" fill-opacity=\"1\" /><path clip-path=\"url(#clip600)\" d=\"M2465.09 398.876 L2485.33 398.876 L2485.33 402.765 L2469.31 421.399 L2485.33 421.399 L2485.33 424.802 L2464.52 424.802 L2464.52 420.913 L2480.53 402.279 L2465.09 402.279 L2465.09 398.876 Z\" fill=\"#000000\" fill-rule=\"evenodd\" fill-opacity=\"1\" /><path clip-path=\"url(#clip600)\" d=\"M2502.62 427.209 Q2500.81 431.839 2499.1 433.251 Q2497.39 434.663 2494.52 434.663 L2491.11 434.663 L2491.11 431.098 L2493.61 431.098 Q2495.37 431.098 2496.34 430.265 Q2497.32 429.431 2498.5 426.329 L2499.26 424.385 L2488.78 398.876 L2493.29 398.876 L2501.39 419.154 L2509.49 398.876 L2514.01 398.876 L2502.62 427.209 Z\" fill=\"#000000\" fill-rule=\"evenodd\" fill-opacity=\"1\" /><path clip-path=\"url(#clip600)\" d=\"M2532.48 398.876 L2536.74 398.876 L2542.06 419.107 L2547.36 398.876 L2552.39 398.876 L2557.71 419.107 L2563.01 398.876 L2567.27 398.876 L2560.49 424.802 L2555.46 424.802 L2549.89 403.552 L2544.28 424.802 L2539.26 424.802 L2532.48 398.876 Z\" fill=\"#000000\" fill-rule=\"evenodd\" fill-opacity=\"1\" /><path clip-path=\"url(#clip600)\" d=\"M2571.88 398.876 L2592.11 398.876 L2592.11 402.765 L2576.09 421.399 L2592.11 421.399 L2592.11 424.802 L2571.3 424.802 L2571.3 420.913 L2587.32 402.279 L2571.88 402.279 L2571.88 398.876 Z\" fill=\"#000000\" fill-rule=\"evenodd\" fill-opacity=\"1\" /><path clip-path=\"url(#clip600)\" d=\"M2613.64 402.857 Q2612.92 402.441 2612.06 402.256 Q2611.23 402.047 2610.21 402.047 Q2606.6 402.047 2604.65 404.408 Q2602.73 406.746 2602.73 411.144 L2602.73 424.802 L2598.45 424.802 L2598.45 398.876 L2602.73 398.876 L2602.73 402.904 Q2604.08 400.543 2606.23 399.408 Q2608.38 398.251 2611.46 398.251 Q2611.9 398.251 2612.43 398.32 Q2612.96 398.367 2613.61 398.482 L2613.64 402.857 Z\" fill=\"#000000\" fill-rule=\"evenodd\" fill-opacity=\"1\" /><path clip-path=\"url(#clip600)\" d=\"M2627.11 401.862 Q2623.68 401.862 2621.69 404.547 Q2619.7 407.209 2619.7 411.862 Q2619.7 416.515 2621.67 419.2 Q2623.66 421.862 2627.11 421.862 Q2630.51 421.862 2632.5 419.177 Q2634.49 416.492 2634.49 411.862 Q2634.49 407.256 2632.5 404.57 Q2630.51 401.862 2627.11 401.862 M2627.11 398.251 Q2632.66 398.251 2635.83 401.862 Q2639.01 405.473 2639.01 411.862 Q2639.01 418.228 2635.83 421.862 Q2632.66 425.473 2627.11 425.473 Q2621.53 425.473 2618.36 421.862 Q2615.21 418.228 2615.21 411.862 Q2615.21 405.473 2618.36 401.862 Q2621.53 398.251 2627.11 398.251 Z\" fill=\"#000000\" fill-rule=\"evenodd\" fill-opacity=\"1\" /><path clip-path=\"url(#clip600)\" d=\"M2658.2 386.723 L2662.8 386.723 L2655.26 395.427 L2651.71 395.427 L2658.2 386.723 M2662.59 399.64 L2662.59 403.668 Q2660.79 402.742 2658.84 402.279 Q2656.9 401.816 2654.82 401.816 Q2651.64 401.816 2650.05 402.788 Q2648.47 403.76 2648.47 405.705 Q2648.47 407.186 2649.61 408.043 Q2650.74 408.876 2654.17 409.64 L2655.63 409.964 Q2660.16 410.936 2662.06 412.718 Q2663.98 414.478 2663.98 417.649 Q2663.98 421.26 2661.11 423.367 Q2658.26 425.473 2653.26 425.473 Q2651.18 425.473 2648.91 425.056 Q2646.67 424.663 2644.17 423.853 L2644.17 419.455 Q2646.53 420.681 2648.82 421.306 Q2651.11 421.908 2653.36 421.908 Q2656.37 421.908 2657.99 420.89 Q2659.61 419.848 2659.61 417.973 Q2659.61 416.237 2658.43 415.311 Q2657.27 414.385 2653.31 413.529 L2651.83 413.181 Q2647.87 412.348 2646.11 410.635 Q2644.35 408.899 2644.35 405.89 Q2644.35 402.232 2646.95 400.242 Q2649.54 398.251 2654.31 398.251 Q2656.67 398.251 2658.75 398.598 Q2660.83 398.945 2662.59 399.64 Z\" fill=\"#000000\" fill-rule=\"evenodd\" fill-opacity=\"1\" /><path clip-path=\"url(#clip600)\" d=\"M2689.42 399.871 L2689.42 403.853 Q2687.62 402.857 2685.79 402.371 Q2683.98 401.862 2682.13 401.862 Q2677.99 401.862 2675.7 404.501 Q2673.4 407.117 2673.4 411.862 Q2673.4 416.607 2675.7 419.246 Q2677.99 421.862 2682.13 421.862 Q2683.98 421.862 2685.79 421.376 Q2687.62 420.867 2689.42 419.871 L2689.42 423.806 Q2687.64 424.64 2685.72 425.056 Q2683.82 425.473 2681.67 425.473 Q2675.81 425.473 2672.36 421.792 Q2668.91 418.112 2668.91 411.862 Q2668.91 405.519 2672.39 401.885 Q2675.88 398.251 2681.95 398.251 Q2683.91 398.251 2685.79 398.668 Q2687.66 399.061 2689.42 399.871 Z\" fill=\"#000000\" fill-rule=\"evenodd\" fill-opacity=\"1\" /><path clip-path=\"url(#clip600)\" d=\"M2696.83 398.876 L2701.09 398.876 L2701.09 424.802 L2696.83 424.802 L2696.83 398.876 M2696.83 388.783 L2701.09 388.783 L2701.09 394.177 L2696.83 394.177 L2696.83 388.783 Z\" fill=\"#000000\" fill-rule=\"evenodd\" fill-opacity=\"1\" /><path clip-path=\"url(#clip600)\" d=\"M2732.18 410.774 L2732.18 412.857 L2712.59 412.857 Q2712.87 417.255 2715.23 419.57 Q2717.62 421.862 2721.85 421.862 Q2724.31 421.862 2726.6 421.26 Q2728.91 420.658 2731.18 419.455 L2731.18 423.482 Q2728.89 424.454 2726.48 424.964 Q2724.07 425.473 2721.6 425.473 Q2715.39 425.473 2711.76 421.862 Q2708.15 418.251 2708.15 412.093 Q2708.15 405.728 2711.57 402.001 Q2715.02 398.251 2720.86 398.251 Q2726.09 398.251 2729.12 401.631 Q2732.18 404.987 2732.18 410.774 M2727.92 409.524 Q2727.87 406.029 2725.95 403.945 Q2724.05 401.862 2720.9 401.862 Q2717.34 401.862 2715.19 403.876 Q2713.06 405.89 2712.73 409.547 L2727.92 409.524 Z\" fill=\"#000000\" fill-rule=\"evenodd\" fill-opacity=\"1\" /><path clip-path=\"url(#clip600)\" d=\"M2772.89 399.871 L2772.89 403.853 Q2771.09 402.857 2769.26 402.371 Q2767.45 401.862 2765.6 401.862 Q2761.46 401.862 2759.17 404.501 Q2756.88 407.117 2756.88 411.862 Q2756.88 416.607 2759.17 419.246 Q2761.46 421.862 2765.6 421.862 Q2767.45 421.862 2769.26 421.376 Q2771.09 420.867 2772.89 419.871 L2772.89 423.806 Q2771.11 424.64 2769.19 425.056 Q2767.29 425.473 2765.14 425.473 Q2759.28 425.473 2755.83 421.792 Q2752.38 418.112 2752.38 411.862 Q2752.38 405.519 2755.86 401.885 Q2759.35 398.251 2765.42 398.251 Q2767.38 398.251 2769.26 398.668 Q2771.13 399.061 2772.89 399.871 Z\" fill=\"#000000\" fill-rule=\"evenodd\" fill-opacity=\"1\" /><path clip-path=\"url(#clip600)\" d=\"M2802.48 410.774 L2802.48 412.857 L2782.89 412.857 Q2783.17 417.255 2785.53 419.57 Q2787.92 421.862 2792.15 421.862 Q2794.61 421.862 2796.9 421.26 Q2799.21 420.658 2801.48 419.455 L2801.48 423.482 Q2799.19 424.454 2796.78 424.964 Q2794.38 425.473 2791.9 425.473 Q2785.69 425.473 2782.06 421.862 Q2778.45 418.251 2778.45 412.093 Q2778.45 405.728 2781.88 402.001 Q2785.32 398.251 2791.16 398.251 Q2796.39 398.251 2799.42 401.631 Q2802.48 404.987 2802.48 410.774 M2798.22 409.524 Q2798.17 406.029 2796.25 403.945 Q2794.35 401.862 2791.2 401.862 Q2787.64 401.862 2785.49 403.876 Q2783.36 405.89 2783.03 409.547 L2798.22 409.524 Z\" fill=\"#000000\" fill-rule=\"evenodd\" fill-opacity=\"1\" /><path clip-path=\"url(#clip600)\" d=\"M2831.02 409.154 L2831.02 424.802 L2826.76 424.802 L2826.76 409.293 Q2826.76 405.612 2825.32 403.783 Q2823.89 401.955 2821.02 401.955 Q2817.57 401.955 2815.58 404.154 Q2813.59 406.353 2813.59 410.149 L2813.59 424.802 L2809.31 424.802 L2809.31 398.876 L2813.59 398.876 L2813.59 402.904 Q2815.12 400.566 2817.18 399.408 Q2819.26 398.251 2821.97 398.251 Q2826.44 398.251 2828.73 401.029 Q2831.02 403.783 2831.02 409.154 Z\" fill=\"#000000\" fill-rule=\"evenodd\" fill-opacity=\"1\" /><path clip-path=\"url(#clip600)\" d=\"M2850.3 427.209 Q2848.5 431.839 2846.78 433.251 Q2845.07 434.663 2842.2 434.663 L2838.8 434.663 L2838.8 431.098 L2841.3 431.098 Q2843.06 431.098 2844.03 430.265 Q2845 429.431 2846.18 426.329 L2846.94 424.385 L2836.46 398.876 L2840.97 398.876 L2849.07 419.154 L2857.18 398.876 L2861.69 398.876 L2850.3 427.209 Z\" fill=\"#000000\" fill-rule=\"evenodd\" fill-opacity=\"1\" /><path clip-path=\"url(#clip600)\" d=\"M2892.68 401.862 Q2889.26 401.862 2887.27 404.547 Q2885.28 407.209 2885.28 411.862 Q2885.28 416.515 2887.25 419.2 Q2889.24 421.862 2892.68 421.862 Q2896.09 421.862 2898.08 419.177 Q2900.07 416.492 2900.07 411.862 Q2900.07 407.256 2898.08 404.57 Q2896.09 401.862 2892.68 401.862 M2892.68 398.251 Q2898.24 398.251 2901.41 401.862 Q2904.58 405.473 2904.58 411.862 Q2904.58 418.228 2901.41 421.862 Q2898.24 425.473 2892.68 425.473 Q2887.11 425.473 2883.94 421.862 Q2880.79 418.228 2880.79 411.862 Q2880.79 405.473 2883.94 401.862 Q2887.11 398.251 2892.68 398.251 Z\" fill=\"#000000\" fill-rule=\"evenodd\" fill-opacity=\"1\" /><path clip-path=\"url(#clip600)\" d=\"M2931.34 420.867 L2947.66 420.867 L2947.66 424.802 L2925.72 424.802 L2925.72 420.867 Q2928.38 418.112 2932.96 413.482 Q2937.57 408.83 2938.75 407.487 Q2940.99 404.964 2941.87 403.228 Q2942.78 401.469 2942.78 399.779 Q2942.78 397.024 2940.83 395.288 Q2938.91 393.552 2935.81 393.552 Q2933.61 393.552 2931.16 394.316 Q2928.73 395.08 2925.95 396.631 L2925.95 391.908 Q2928.77 390.774 2931.23 390.195 Q2933.68 389.617 2935.72 389.617 Q2941.09 389.617 2944.28 392.302 Q2947.48 394.987 2947.48 399.478 Q2947.48 401.607 2946.67 403.529 Q2945.88 405.427 2943.77 408.019 Q2943.19 408.691 2940.09 411.908 Q2936.99 415.103 2931.34 420.867 Z\" fill=\"#000000\" fill-rule=\"evenodd\" fill-opacity=\"1\" /><path clip-path=\"url(#clip600)\" d=\"M2967.48 393.32 Q2963.87 393.32 2962.04 396.885 Q2960.23 400.427 2960.23 407.556 Q2960.23 414.663 2962.04 418.228 Q2963.87 421.769 2967.48 421.769 Q2971.11 421.769 2972.92 418.228 Q2974.74 414.663 2974.74 407.556 Q2974.74 400.427 2972.92 396.885 Q2971.11 393.32 2967.48 393.32 M2967.48 389.617 Q2973.29 389.617 2976.34 394.223 Q2979.42 398.806 2979.42 407.556 Q2979.42 416.283 2976.34 420.89 Q2973.29 425.473 2967.48 425.473 Q2961.67 425.473 2958.59 420.89 Q2955.53 416.283 2955.53 407.556 Q2955.53 398.806 2958.59 394.223 Q2961.67 389.617 2967.48 389.617 Z\" fill=\"#000000\" fill-rule=\"evenodd\" fill-opacity=\"1\" /><path clip-path=\"url(#clip600)\" d=\"M3017.04 409.593 Q3015.02 409.593 3013.86 411.306 Q3012.73 413.019 3012.73 416.075 Q3012.73 419.084 3013.86 420.82 Q3015.02 422.533 3017.04 422.533 Q3019 422.533 3020.14 420.82 Q3021.3 419.084 3021.3 416.075 Q3021.3 413.043 3020.14 411.33 Q3019 409.593 3017.04 409.593 M3017.04 406.654 Q3020.69 406.654 3022.85 409.2 Q3025 411.746 3025 416.075 Q3025 420.404 3022.82 422.95 Q3020.67 425.473 3017.04 425.473 Q3013.33 425.473 3011.18 422.95 Q3009.03 420.404 3009.03 416.075 Q3009.03 411.723 3011.18 409.2 Q3013.36 406.654 3017.04 406.654 M2993.15 392.557 Q2991.16 392.557 2990 394.293 Q2988.87 396.006 2988.87 399.015 Q2988.87 402.07 2990 403.783 Q2991.13 405.496 2993.15 405.496 Q2995.16 405.496 2996.3 403.783 Q2997.45 402.07 2997.45 399.015 Q2997.45 396.029 2996.3 394.293 Q2995.14 392.557 2993.15 392.557 M3014.05 389.617 L3017.75 389.617 L2996.13 425.473 L2992.43 425.473 L3014.05 389.617 M2993.15 389.617 Q2996.8 389.617 2998.98 392.163 Q3001.16 394.686 3001.16 399.015 Q3001.16 403.39 2998.98 405.913 Q2996.83 408.436 2993.15 408.436 Q2989.47 408.436 2987.31 405.913 Q2985.18 403.367 2985.18 399.015 Q2985.18 394.709 2987.34 392.163 Q2989.49 389.617 2993.15 389.617 Z\" fill=\"#000000\" fill-rule=\"evenodd\" fill-opacity=\"1\" /><polyline clip-path=\"url(#clip600)\" style=\"stroke:#ac8d18; stroke-linecap:round; stroke-linejoin:round; stroke-width:4; stroke-opacity:1; fill:none\" points=\"2055.25,459.362 2246.88,459.362 \"/>\n",
       "<path clip-path=\"url(#clip600)\" d=\"M2283.5 445.924 L2283.5 458.91 L2289.38 458.91 Q2292.64 458.91 2294.42 457.221 Q2296.21 455.531 2296.21 452.406 Q2296.21 449.304 2294.42 447.614 Q2292.64 445.924 2289.38 445.924 L2283.5 445.924 M2278.82 442.082 L2289.38 442.082 Q2295.19 442.082 2298.15 444.721 Q2301.14 447.336 2301.14 452.406 Q2301.14 457.521 2298.15 460.137 Q2295.19 462.753 2289.38 462.753 L2283.5 462.753 L2283.5 476.642 L2278.82 476.642 L2278.82 442.082 Z\" fill=\"#000000\" fill-rule=\"evenodd\" fill-opacity=\"1\" /><path clip-path=\"url(#clip600)\" d=\"M2321.41 454.697 Q2320.7 454.281 2319.84 454.096 Q2319.01 453.887 2317.99 453.887 Q2314.38 453.887 2312.43 456.248 Q2310.51 458.586 2310.51 462.984 L2310.51 476.642 L2306.23 476.642 L2306.23 450.716 L2310.51 450.716 L2310.51 454.744 Q2311.85 452.383 2314.01 451.248 Q2316.16 450.091 2319.24 450.091 Q2319.68 450.091 2320.21 450.16 Q2320.74 450.207 2321.39 450.322 L2321.41 454.697 Z\" fill=\"#000000\" fill-rule=\"evenodd\" fill-opacity=\"1\" /><path clip-path=\"url(#clip600)\" d=\"M2334.89 453.702 Q2331.46 453.702 2329.47 456.387 Q2327.48 459.049 2327.48 463.702 Q2327.48 468.355 2329.45 471.04 Q2331.44 473.702 2334.89 473.702 Q2338.29 473.702 2340.28 471.017 Q2342.27 468.332 2342.27 463.702 Q2342.27 459.096 2340.28 456.41 Q2338.29 453.702 2334.89 453.702 M2334.89 450.091 Q2340.44 450.091 2343.61 453.702 Q2346.79 457.313 2346.79 463.702 Q2346.79 470.068 2343.61 473.702 Q2340.44 477.313 2334.89 477.313 Q2329.31 477.313 2326.14 473.702 Q2322.99 470.068 2322.99 463.702 Q2322.99 457.313 2326.14 453.702 Q2329.31 450.091 2334.89 450.091 Z\" fill=\"#000000\" fill-rule=\"evenodd\" fill-opacity=\"1\" /><path clip-path=\"url(#clip600)\" d=\"M2366.97 440.623 L2366.97 444.165 L2362.9 444.165 Q2360.6 444.165 2359.7 445.091 Q2358.82 446.017 2358.82 448.424 L2358.82 450.716 L2365.84 450.716 L2365.84 454.026 L2358.82 454.026 L2358.82 476.642 L2354.54 476.642 L2354.54 454.026 L2350.47 454.026 L2350.47 450.716 L2354.54 450.716 L2354.54 448.91 Q2354.54 444.582 2356.55 442.614 Q2358.57 440.623 2362.94 440.623 L2366.97 440.623 Z\" fill=\"#000000\" fill-rule=\"evenodd\" fill-opacity=\"1\" /><path clip-path=\"url(#clip600)\" d=\"M2370.53 450.716 L2374.79 450.716 L2374.79 476.642 L2370.53 476.642 L2370.53 450.716 M2370.53 440.623 L2374.79 440.623 L2374.79 446.017 L2370.53 446.017 L2370.53 440.623 Z\" fill=\"#000000\" fill-rule=\"evenodd\" fill-opacity=\"1\" /><path clip-path=\"url(#clip600)\" d=\"M2387.92 443.355 L2387.92 450.716 L2396.69 450.716 L2396.69 454.026 L2387.92 454.026 L2387.92 468.1 Q2387.92 471.271 2388.78 472.174 Q2389.66 473.077 2392.32 473.077 L2396.69 473.077 L2396.69 476.642 L2392.32 476.642 Q2387.39 476.642 2385.51 474.813 Q2383.64 472.961 2383.64 468.1 L2383.64 454.026 L2380.51 454.026 L2380.51 450.716 L2383.64 450.716 L2383.64 443.355 L2387.92 443.355 Z\" fill=\"#000000\" fill-rule=\"evenodd\" fill-opacity=\"1\" /><path clip-path=\"url(#clip600)\" d=\"M2421.48 472.753 L2421.48 486.503 L2417.2 486.503 L2417.2 450.716 L2421.48 450.716 L2421.48 454.651 Q2422.83 452.336 2424.86 451.225 Q2426.92 450.091 2429.77 450.091 Q2434.49 450.091 2437.43 453.841 Q2440.4 457.591 2440.4 463.702 Q2440.4 469.813 2437.43 473.563 Q2434.49 477.313 2429.77 477.313 Q2426.92 477.313 2424.86 476.202 Q2422.83 475.068 2421.48 472.753 M2435.97 463.702 Q2435.97 459.003 2434.03 456.341 Q2432.11 453.656 2428.73 453.656 Q2425.35 453.656 2423.41 456.341 Q2421.48 459.003 2421.48 463.702 Q2421.48 468.401 2423.41 471.086 Q2425.35 473.748 2428.73 473.748 Q2432.11 473.748 2434.03 471.086 Q2435.97 468.401 2435.97 463.702 Z\" fill=\"#000000\" fill-rule=\"evenodd\" fill-opacity=\"1\" /><path clip-path=\"url(#clip600)\" d=\"M2462.48 454.697 Q2461.76 454.281 2460.9 454.096 Q2460.07 453.887 2459.05 453.887 Q2455.44 453.887 2453.5 456.248 Q2451.58 458.586 2451.58 462.984 L2451.58 476.642 L2447.29 476.642 L2447.29 450.716 L2451.58 450.716 L2451.58 454.744 Q2452.92 452.383 2455.07 451.248 Q2457.22 450.091 2460.3 450.091 Q2460.74 450.091 2461.28 450.16 Q2461.81 450.207 2462.46 450.322 L2462.48 454.697 Z\" fill=\"#000000\" fill-rule=\"evenodd\" fill-opacity=\"1\" /><path clip-path=\"url(#clip600)\" d=\"M2465.09 450.716 L2485.33 450.716 L2485.33 454.605 L2469.31 473.239 L2485.33 473.239 L2485.33 476.642 L2464.52 476.642 L2464.52 472.753 L2480.53 454.119 L2465.09 454.119 L2465.09 450.716 Z\" fill=\"#000000\" fill-rule=\"evenodd\" fill-opacity=\"1\" /><path clip-path=\"url(#clip600)\" d=\"M2502.62 479.049 Q2500.81 483.679 2499.1 485.091 Q2497.39 486.503 2494.52 486.503 L2491.11 486.503 L2491.11 482.938 L2493.61 482.938 Q2495.37 482.938 2496.34 482.105 Q2497.32 481.271 2498.5 478.169 L2499.26 476.225 L2488.78 450.716 L2493.29 450.716 L2501.39 470.994 L2509.49 450.716 L2514.01 450.716 L2502.62 479.049 Z\" fill=\"#000000\" fill-rule=\"evenodd\" fill-opacity=\"1\" /><path clip-path=\"url(#clip600)\" d=\"M2532.48 450.716 L2536.74 450.716 L2542.06 470.947 L2547.36 450.716 L2552.39 450.716 L2557.71 470.947 L2563.01 450.716 L2567.27 450.716 L2560.49 476.642 L2555.46 476.642 L2549.89 455.392 L2544.28 476.642 L2539.26 476.642 L2532.48 450.716 Z\" fill=\"#000000\" fill-rule=\"evenodd\" fill-opacity=\"1\" /><path clip-path=\"url(#clip600)\" d=\"M2571.88 450.716 L2592.11 450.716 L2592.11 454.605 L2576.09 473.239 L2592.11 473.239 L2592.11 476.642 L2571.3 476.642 L2571.3 472.753 L2587.32 454.119 L2571.88 454.119 L2571.88 450.716 Z\" fill=\"#000000\" fill-rule=\"evenodd\" fill-opacity=\"1\" /><path clip-path=\"url(#clip600)\" d=\"M2613.64 454.697 Q2612.92 454.281 2612.06 454.096 Q2611.23 453.887 2610.21 453.887 Q2606.6 453.887 2604.65 456.248 Q2602.73 458.586 2602.73 462.984 L2602.73 476.642 L2598.45 476.642 L2598.45 450.716 L2602.73 450.716 L2602.73 454.744 Q2604.08 452.383 2606.23 451.248 Q2608.38 450.091 2611.46 450.091 Q2611.9 450.091 2612.43 450.16 Q2612.96 450.207 2613.61 450.322 L2613.64 454.697 Z\" fill=\"#000000\" fill-rule=\"evenodd\" fill-opacity=\"1\" /><path clip-path=\"url(#clip600)\" d=\"M2627.11 453.702 Q2623.68 453.702 2621.69 456.387 Q2619.7 459.049 2619.7 463.702 Q2619.7 468.355 2621.67 471.04 Q2623.66 473.702 2627.11 473.702 Q2630.51 473.702 2632.5 471.017 Q2634.49 468.332 2634.49 463.702 Q2634.49 459.096 2632.5 456.41 Q2630.51 453.702 2627.11 453.702 M2627.11 450.091 Q2632.66 450.091 2635.83 453.702 Q2639.01 457.313 2639.01 463.702 Q2639.01 470.068 2635.83 473.702 Q2632.66 477.313 2627.11 477.313 Q2621.53 477.313 2618.36 473.702 Q2615.21 470.068 2615.21 463.702 Q2615.21 457.313 2618.36 453.702 Q2621.53 450.091 2627.11 450.091 Z\" fill=\"#000000\" fill-rule=\"evenodd\" fill-opacity=\"1\" /><path clip-path=\"url(#clip600)\" d=\"M2658.2 438.563 L2662.8 438.563 L2655.26 447.267 L2651.71 447.267 L2658.2 438.563 M2662.59 451.48 L2662.59 455.508 Q2660.79 454.582 2658.84 454.119 Q2656.9 453.656 2654.82 453.656 Q2651.64 453.656 2650.05 454.628 Q2648.47 455.6 2648.47 457.545 Q2648.47 459.026 2649.61 459.883 Q2650.74 460.716 2654.17 461.48 L2655.63 461.804 Q2660.16 462.776 2662.06 464.558 Q2663.98 466.318 2663.98 469.489 Q2663.98 473.1 2661.11 475.207 Q2658.26 477.313 2653.26 477.313 Q2651.18 477.313 2648.91 476.896 Q2646.67 476.503 2644.17 475.693 L2644.17 471.295 Q2646.53 472.521 2648.82 473.146 Q2651.11 473.748 2653.36 473.748 Q2656.37 473.748 2657.99 472.73 Q2659.61 471.688 2659.61 469.813 Q2659.61 468.077 2658.43 467.151 Q2657.27 466.225 2653.31 465.369 L2651.83 465.021 Q2647.87 464.188 2646.11 462.475 Q2644.35 460.739 2644.35 457.73 Q2644.35 454.072 2646.95 452.082 Q2649.54 450.091 2654.31 450.091 Q2656.67 450.091 2658.75 450.438 Q2660.83 450.785 2662.59 451.48 Z\" fill=\"#000000\" fill-rule=\"evenodd\" fill-opacity=\"1\" /><path clip-path=\"url(#clip600)\" d=\"M2689.42 451.711 L2689.42 455.693 Q2687.62 454.697 2685.79 454.211 Q2683.98 453.702 2682.13 453.702 Q2677.99 453.702 2675.7 456.341 Q2673.4 458.957 2673.4 463.702 Q2673.4 468.447 2675.7 471.086 Q2677.99 473.702 2682.13 473.702 Q2683.98 473.702 2685.79 473.216 Q2687.62 472.707 2689.42 471.711 L2689.42 475.646 Q2687.64 476.48 2685.72 476.896 Q2683.82 477.313 2681.67 477.313 Q2675.81 477.313 2672.36 473.632 Q2668.91 469.952 2668.91 463.702 Q2668.91 457.359 2672.39 453.725 Q2675.88 450.091 2681.95 450.091 Q2683.91 450.091 2685.79 450.508 Q2687.66 450.901 2689.42 451.711 Z\" fill=\"#000000\" fill-rule=\"evenodd\" fill-opacity=\"1\" /><path clip-path=\"url(#clip600)\" d=\"M2696.83 450.716 L2701.09 450.716 L2701.09 476.642 L2696.83 476.642 L2696.83 450.716 M2696.83 440.623 L2701.09 440.623 L2701.09 446.017 L2696.83 446.017 L2696.83 440.623 Z\" fill=\"#000000\" fill-rule=\"evenodd\" fill-opacity=\"1\" /><path clip-path=\"url(#clip600)\" d=\"M2732.18 462.614 L2732.18 464.697 L2712.59 464.697 Q2712.87 469.095 2715.23 471.41 Q2717.62 473.702 2721.85 473.702 Q2724.31 473.702 2726.6 473.1 Q2728.91 472.498 2731.18 471.295 L2731.18 475.322 Q2728.89 476.294 2726.48 476.804 Q2724.07 477.313 2721.6 477.313 Q2715.39 477.313 2711.76 473.702 Q2708.15 470.091 2708.15 463.933 Q2708.15 457.568 2711.57 453.841 Q2715.02 450.091 2720.86 450.091 Q2726.09 450.091 2729.12 453.471 Q2732.18 456.827 2732.18 462.614 M2727.92 461.364 Q2727.87 457.869 2725.95 455.785 Q2724.05 453.702 2720.9 453.702 Q2717.34 453.702 2715.19 455.716 Q2713.06 457.73 2712.73 461.387 L2727.92 461.364 Z\" fill=\"#000000\" fill-rule=\"evenodd\" fill-opacity=\"1\" /><path clip-path=\"url(#clip600)\" d=\"M2772.89 451.711 L2772.89 455.693 Q2771.09 454.697 2769.26 454.211 Q2767.45 453.702 2765.6 453.702 Q2761.46 453.702 2759.17 456.341 Q2756.88 458.957 2756.88 463.702 Q2756.88 468.447 2759.17 471.086 Q2761.46 473.702 2765.6 473.702 Q2767.45 473.702 2769.26 473.216 Q2771.09 472.707 2772.89 471.711 L2772.89 475.646 Q2771.11 476.48 2769.19 476.896 Q2767.29 477.313 2765.14 477.313 Q2759.28 477.313 2755.83 473.632 Q2752.38 469.952 2752.38 463.702 Q2752.38 457.359 2755.86 453.725 Q2759.35 450.091 2765.42 450.091 Q2767.38 450.091 2769.26 450.508 Q2771.13 450.901 2772.89 451.711 Z\" fill=\"#000000\" fill-rule=\"evenodd\" fill-opacity=\"1\" /><path clip-path=\"url(#clip600)\" d=\"M2802.48 462.614 L2802.48 464.697 L2782.89 464.697 Q2783.17 469.095 2785.53 471.41 Q2787.92 473.702 2792.15 473.702 Q2794.61 473.702 2796.9 473.1 Q2799.21 472.498 2801.48 471.295 L2801.48 475.322 Q2799.19 476.294 2796.78 476.804 Q2794.38 477.313 2791.9 477.313 Q2785.69 477.313 2782.06 473.702 Q2778.45 470.091 2778.45 463.933 Q2778.45 457.568 2781.88 453.841 Q2785.32 450.091 2791.16 450.091 Q2796.39 450.091 2799.42 453.471 Q2802.48 456.827 2802.48 462.614 M2798.22 461.364 Q2798.17 457.869 2796.25 455.785 Q2794.35 453.702 2791.2 453.702 Q2787.64 453.702 2785.49 455.716 Q2783.36 457.73 2783.03 461.387 L2798.22 461.364 Z\" fill=\"#000000\" fill-rule=\"evenodd\" fill-opacity=\"1\" /><path clip-path=\"url(#clip600)\" d=\"M2831.02 460.994 L2831.02 476.642 L2826.76 476.642 L2826.76 461.133 Q2826.76 457.452 2825.32 455.623 Q2823.89 453.795 2821.02 453.795 Q2817.57 453.795 2815.58 455.994 Q2813.59 458.193 2813.59 461.989 L2813.59 476.642 L2809.31 476.642 L2809.31 450.716 L2813.59 450.716 L2813.59 454.744 Q2815.12 452.406 2817.18 451.248 Q2819.26 450.091 2821.97 450.091 Q2826.44 450.091 2828.73 452.869 Q2831.02 455.623 2831.02 460.994 Z\" fill=\"#000000\" fill-rule=\"evenodd\" fill-opacity=\"1\" /><path clip-path=\"url(#clip600)\" d=\"M2850.3 479.049 Q2848.5 483.679 2846.78 485.091 Q2845.07 486.503 2842.2 486.503 L2838.8 486.503 L2838.8 482.938 L2841.3 482.938 Q2843.06 482.938 2844.03 482.105 Q2845 481.271 2846.18 478.169 L2846.94 476.225 L2836.46 450.716 L2840.97 450.716 L2849.07 470.994 L2857.18 450.716 L2861.69 450.716 L2850.3 479.049 Z\" fill=\"#000000\" fill-rule=\"evenodd\" fill-opacity=\"1\" /><path clip-path=\"url(#clip600)\" d=\"M2892.68 453.702 Q2889.26 453.702 2887.27 456.387 Q2885.28 459.049 2885.28 463.702 Q2885.28 468.355 2887.25 471.04 Q2889.24 473.702 2892.68 473.702 Q2896.09 473.702 2898.08 471.017 Q2900.07 468.332 2900.07 463.702 Q2900.07 459.096 2898.08 456.41 Q2896.09 453.702 2892.68 453.702 M2892.68 450.091 Q2898.24 450.091 2901.41 453.702 Q2904.58 457.313 2904.58 463.702 Q2904.58 470.068 2901.41 473.702 Q2898.24 477.313 2892.68 477.313 Q2887.11 477.313 2883.94 473.702 Q2880.79 470.068 2880.79 463.702 Q2880.79 457.313 2883.94 453.702 Q2887.11 450.091 2892.68 450.091 Z\" fill=\"#000000\" fill-rule=\"evenodd\" fill-opacity=\"1\" /><path clip-path=\"url(#clip600)\" d=\"M2927.36 442.082 L2945.72 442.082 L2945.72 446.017 L2931.64 446.017 L2931.64 454.489 Q2932.66 454.142 2933.68 453.98 Q2934.7 453.795 2935.72 453.795 Q2941.5 453.795 2944.88 456.966 Q2948.26 460.137 2948.26 465.554 Q2948.26 471.132 2944.79 474.234 Q2941.32 477.313 2935 477.313 Q2932.82 477.313 2930.56 476.943 Q2928.31 476.572 2925.9 475.832 L2925.9 471.132 Q2927.99 472.267 2930.21 472.822 Q2932.43 473.378 2934.91 473.378 Q2938.91 473.378 2941.25 471.271 Q2943.59 469.165 2943.59 465.554 Q2943.59 461.943 2941.25 459.836 Q2938.91 457.73 2934.91 457.73 Q2933.03 457.73 2931.16 458.146 Q2929.31 458.563 2927.36 459.443 L2927.36 442.082 Z\" fill=\"#000000\" fill-rule=\"evenodd\" fill-opacity=\"1\" /><path clip-path=\"url(#clip600)\" d=\"M2967.48 445.16 Q2963.87 445.16 2962.04 448.725 Q2960.23 452.267 2960.23 459.396 Q2960.23 466.503 2962.04 470.068 Q2963.87 473.609 2967.48 473.609 Q2971.11 473.609 2972.92 470.068 Q2974.74 466.503 2974.74 459.396 Q2974.74 452.267 2972.92 448.725 Q2971.11 445.16 2967.48 445.16 M2967.48 441.457 Q2973.29 441.457 2976.34 446.063 Q2979.42 450.646 2979.42 459.396 Q2979.42 468.123 2976.34 472.73 Q2973.29 477.313 2967.48 477.313 Q2961.67 477.313 2958.59 472.73 Q2955.53 468.123 2955.53 459.396 Q2955.53 450.646 2958.59 446.063 Q2961.67 441.457 2967.48 441.457 Z\" fill=\"#000000\" fill-rule=\"evenodd\" fill-opacity=\"1\" /><path clip-path=\"url(#clip600)\" d=\"M3017.04 461.433 Q3015.02 461.433 3013.86 463.146 Q3012.73 464.859 3012.73 467.915 Q3012.73 470.924 3013.86 472.66 Q3015.02 474.373 3017.04 474.373 Q3019 474.373 3020.14 472.66 Q3021.3 470.924 3021.3 467.915 Q3021.3 464.883 3020.14 463.17 Q3019 461.433 3017.04 461.433 M3017.04 458.494 Q3020.69 458.494 3022.85 461.04 Q3025 463.586 3025 467.915 Q3025 472.244 3022.82 474.79 Q3020.67 477.313 3017.04 477.313 Q3013.33 477.313 3011.18 474.79 Q3009.03 472.244 3009.03 467.915 Q3009.03 463.563 3011.18 461.04 Q3013.36 458.494 3017.04 458.494 M2993.15 444.397 Q2991.16 444.397 2990 446.133 Q2988.87 447.846 2988.87 450.855 Q2988.87 453.91 2990 455.623 Q2991.13 457.336 2993.15 457.336 Q2995.16 457.336 2996.3 455.623 Q2997.45 453.91 2997.45 450.855 Q2997.45 447.869 2996.3 446.133 Q2995.14 444.397 2993.15 444.397 M3014.05 441.457 L3017.75 441.457 L2996.13 477.313 L2992.43 477.313 L3014.05 441.457 M2993.15 441.457 Q2996.8 441.457 2998.98 444.003 Q3001.16 446.526 3001.16 450.855 Q3001.16 455.23 2998.98 457.753 Q2996.83 460.276 2993.15 460.276 Q2989.47 460.276 2987.31 457.753 Q2985.18 455.207 2985.18 450.855 Q2985.18 446.549 2987.34 444.003 Q2989.49 441.457 2993.15 441.457 Z\" fill=\"#000000\" fill-rule=\"evenodd\" fill-opacity=\"1\" /><polyline clip-path=\"url(#clip600)\" style=\"stroke:#ff0000; stroke-linecap:round; stroke-linejoin:round; stroke-width:4; stroke-opacity:1; fill:none\" points=\"2055.25,511.202 2246.88,511.202 \"/>\n",
       "<path clip-path=\"url(#clip600)\" d=\"M2283.5 497.764 L2283.5 510.75 L2289.38 510.75 Q2292.64 510.75 2294.42 509.061 Q2296.21 507.371 2296.21 504.246 Q2296.21 501.144 2294.42 499.454 Q2292.64 497.764 2289.38 497.764 L2283.5 497.764 M2278.82 493.922 L2289.38 493.922 Q2295.19 493.922 2298.15 496.561 Q2301.14 499.176 2301.14 504.246 Q2301.14 509.361 2298.15 511.977 Q2295.19 514.593 2289.38 514.593 L2283.5 514.593 L2283.5 528.482 L2278.82 528.482 L2278.82 493.922 Z\" fill=\"#000000\" fill-rule=\"evenodd\" fill-opacity=\"1\" /><path clip-path=\"url(#clip600)\" d=\"M2321.41 506.537 Q2320.7 506.121 2319.84 505.936 Q2319.01 505.727 2317.99 505.727 Q2314.38 505.727 2312.43 508.088 Q2310.51 510.426 2310.51 514.824 L2310.51 528.482 L2306.23 528.482 L2306.23 502.556 L2310.51 502.556 L2310.51 506.584 Q2311.85 504.223 2314.01 503.088 Q2316.16 501.931 2319.24 501.931 Q2319.68 501.931 2320.21 502 Q2320.74 502.047 2321.39 502.162 L2321.41 506.537 Z\" fill=\"#000000\" fill-rule=\"evenodd\" fill-opacity=\"1\" /><path clip-path=\"url(#clip600)\" d=\"M2334.89 505.542 Q2331.46 505.542 2329.47 508.227 Q2327.48 510.889 2327.48 515.542 Q2327.48 520.195 2329.45 522.88 Q2331.44 525.542 2334.89 525.542 Q2338.29 525.542 2340.28 522.857 Q2342.27 520.172 2342.27 515.542 Q2342.27 510.936 2340.28 508.25 Q2338.29 505.542 2334.89 505.542 M2334.89 501.931 Q2340.44 501.931 2343.61 505.542 Q2346.79 509.153 2346.79 515.542 Q2346.79 521.908 2343.61 525.542 Q2340.44 529.153 2334.89 529.153 Q2329.31 529.153 2326.14 525.542 Q2322.99 521.908 2322.99 515.542 Q2322.99 509.153 2326.14 505.542 Q2329.31 501.931 2334.89 501.931 Z\" fill=\"#000000\" fill-rule=\"evenodd\" fill-opacity=\"1\" /><path clip-path=\"url(#clip600)\" d=\"M2366.97 492.463 L2366.97 496.005 L2362.9 496.005 Q2360.6 496.005 2359.7 496.931 Q2358.82 497.857 2358.82 500.264 L2358.82 502.556 L2365.84 502.556 L2365.84 505.866 L2358.82 505.866 L2358.82 528.482 L2354.54 528.482 L2354.54 505.866 L2350.47 505.866 L2350.47 502.556 L2354.54 502.556 L2354.54 500.75 Q2354.54 496.422 2356.55 494.454 Q2358.57 492.463 2362.94 492.463 L2366.97 492.463 Z\" fill=\"#000000\" fill-rule=\"evenodd\" fill-opacity=\"1\" /><path clip-path=\"url(#clip600)\" d=\"M2370.53 502.556 L2374.79 502.556 L2374.79 528.482 L2370.53 528.482 L2370.53 502.556 M2370.53 492.463 L2374.79 492.463 L2374.79 497.857 L2370.53 497.857 L2370.53 492.463 Z\" fill=\"#000000\" fill-rule=\"evenodd\" fill-opacity=\"1\" /><path clip-path=\"url(#clip600)\" d=\"M2387.92 495.195 L2387.92 502.556 L2396.69 502.556 L2396.69 505.866 L2387.92 505.866 L2387.92 519.94 Q2387.92 523.111 2388.78 524.014 Q2389.66 524.917 2392.32 524.917 L2396.69 524.917 L2396.69 528.482 L2392.32 528.482 Q2387.39 528.482 2385.51 526.653 Q2383.64 524.801 2383.64 519.94 L2383.64 505.866 L2380.51 505.866 L2380.51 502.556 L2383.64 502.556 L2383.64 495.195 L2387.92 495.195 Z\" fill=\"#000000\" fill-rule=\"evenodd\" fill-opacity=\"1\" /><path clip-path=\"url(#clip600)\" d=\"M2438.91 512.834 L2438.91 528.482 L2434.66 528.482 L2434.66 512.973 Q2434.66 509.292 2433.22 507.463 Q2431.78 505.635 2428.91 505.635 Q2425.47 505.635 2423.47 507.834 Q2421.48 510.033 2421.48 513.829 L2421.48 528.482 L2417.2 528.482 L2417.2 502.556 L2421.48 502.556 L2421.48 506.584 Q2423.01 504.246 2425.07 503.088 Q2427.16 501.931 2429.86 501.931 Q2434.33 501.931 2436.62 504.709 Q2438.91 507.463 2438.91 512.834 Z\" fill=\"#000000\" fill-rule=\"evenodd\" fill-opacity=\"1\" /><path clip-path=\"url(#clip600)\" d=\"M2459.19 515.449 Q2454.03 515.449 2452.04 516.63 Q2450.05 517.81 2450.05 520.658 Q2450.05 522.926 2451.53 524.269 Q2453.03 525.588 2455.6 525.588 Q2459.15 525.588 2461.28 523.088 Q2463.43 520.565 2463.43 516.398 L2463.43 515.449 L2459.19 515.449 M2467.69 513.69 L2467.69 528.482 L2463.43 528.482 L2463.43 524.547 Q2461.97 526.908 2459.79 528.042 Q2457.62 529.153 2454.47 529.153 Q2450.49 529.153 2448.13 526.931 Q2445.79 524.685 2445.79 520.935 Q2445.79 516.56 2448.71 514.338 Q2451.65 512.116 2457.46 512.116 L2463.43 512.116 L2463.43 511.699 Q2463.43 508.76 2461.48 507.162 Q2459.56 505.542 2456.07 505.542 Q2453.84 505.542 2451.74 506.074 Q2449.63 506.607 2447.69 507.672 L2447.69 503.736 Q2450.03 502.834 2452.22 502.394 Q2454.42 501.931 2456.51 501.931 Q2462.13 501.931 2464.91 504.848 Q2467.69 507.764 2467.69 513.69 Z\" fill=\"#000000\" fill-rule=\"evenodd\" fill-opacity=\"1\" /><path clip-path=\"url(#clip600)\" d=\"M2495.65 524.593 L2495.65 538.343 L2491.37 538.343 L2491.37 502.556 L2495.65 502.556 L2495.65 506.491 Q2496.99 504.176 2499.03 503.065 Q2501.09 501.931 2503.94 501.931 Q2508.66 501.931 2511.6 505.681 Q2514.56 509.431 2514.56 515.542 Q2514.56 521.653 2511.6 525.403 Q2508.66 529.153 2503.94 529.153 Q2501.09 529.153 2499.03 528.042 Q2496.99 526.908 2495.65 524.593 M2510.14 515.542 Q2510.14 510.843 2508.2 508.181 Q2506.28 505.496 2502.9 505.496 Q2499.52 505.496 2497.57 508.181 Q2495.65 510.843 2495.65 515.542 Q2495.65 520.241 2497.57 522.926 Q2499.52 525.588 2502.9 525.588 Q2506.28 525.588 2508.2 522.926 Q2510.14 520.241 2510.14 515.542 Z\" fill=\"#000000\" fill-rule=\"evenodd\" fill-opacity=\"1\" /><path clip-path=\"url(#clip600)\" d=\"M2531.67 505.542 Q2528.24 505.542 2526.25 508.227 Q2524.26 510.889 2524.26 515.542 Q2524.26 520.195 2526.23 522.88 Q2528.22 525.542 2531.67 525.542 Q2535.07 525.542 2537.06 522.857 Q2539.05 520.172 2539.05 515.542 Q2539.05 510.936 2537.06 508.25 Q2535.07 505.542 2531.67 505.542 M2531.67 501.931 Q2537.22 501.931 2540.4 505.542 Q2543.57 509.153 2543.57 515.542 Q2543.57 521.908 2540.4 525.542 Q2537.22 529.153 2531.67 529.153 Q2526.09 529.153 2522.92 525.542 Q2519.77 521.908 2519.77 515.542 Q2519.77 509.153 2522.92 505.542 Q2526.09 501.931 2531.67 501.931 Z\" fill=\"#000000\" fill-rule=\"evenodd\" fill-opacity=\"1\" /><path clip-path=\"url(#clip600)\" d=\"M2548.77 502.556 L2569.01 502.556 L2569.01 506.445 L2552.99 525.079 L2569.01 525.079 L2569.01 528.482 L2548.2 528.482 L2548.2 524.593 L2564.21 505.959 L2548.77 505.959 L2548.77 502.556 Z\" fill=\"#000000\" fill-rule=\"evenodd\" fill-opacity=\"1\" /><path clip-path=\"url(#clip600)\" d=\"M2575.51 502.556 L2579.77 502.556 L2579.77 528.482 L2575.51 528.482 L2575.51 502.556 M2575.51 492.463 L2579.77 492.463 L2579.77 497.857 L2575.51 497.857 L2575.51 492.463 Z\" fill=\"#000000\" fill-rule=\"evenodd\" fill-opacity=\"1\" /><path clip-path=\"url(#clip600)\" d=\"M2598.73 505.542 Q2595.3 505.542 2593.31 508.227 Q2591.32 510.889 2591.32 515.542 Q2591.32 520.195 2593.29 522.88 Q2595.28 525.542 2598.73 525.542 Q2602.13 525.542 2604.12 522.857 Q2606.11 520.172 2606.11 515.542 Q2606.11 510.936 2604.12 508.25 Q2602.13 505.542 2598.73 505.542 M2598.73 501.931 Q2604.28 501.931 2607.46 505.542 Q2610.63 509.153 2610.63 515.542 Q2610.63 521.908 2607.46 525.542 Q2604.28 529.153 2598.73 529.153 Q2593.15 529.153 2589.98 525.542 Q2586.83 521.908 2586.83 515.542 Q2586.83 509.153 2589.98 505.542 Q2593.15 501.931 2598.73 501.931 Z\" fill=\"#000000\" fill-rule=\"evenodd\" fill-opacity=\"1\" /><path clip-path=\"url(#clip600)\" d=\"M2637.87 507.533 Q2639.47 504.662 2641.69 503.297 Q2643.91 501.931 2646.92 501.931 Q2650.97 501.931 2653.17 504.778 Q2655.37 507.602 2655.37 512.834 L2655.37 528.482 L2651.09 528.482 L2651.09 512.973 Q2651.09 509.246 2649.77 507.44 Q2648.45 505.635 2645.74 505.635 Q2642.43 505.635 2640.51 507.834 Q2638.59 510.033 2638.59 513.829 L2638.59 528.482 L2634.31 528.482 L2634.31 512.973 Q2634.31 509.223 2632.99 507.44 Q2631.67 505.635 2628.91 505.635 Q2625.65 505.635 2623.73 507.857 Q2621.81 510.056 2621.81 513.829 L2621.81 528.482 L2617.52 528.482 L2617.52 502.556 L2621.81 502.556 L2621.81 506.584 Q2623.27 504.199 2625.3 503.065 Q2627.34 501.931 2630.14 501.931 Q2632.96 501.931 2634.93 503.366 Q2636.92 504.801 2637.87 507.533 Z\" fill=\"#000000\" fill-rule=\"evenodd\" fill-opacity=\"1\" /><path clip-path=\"url(#clip600)\" d=\"M2663.87 502.556 L2668.13 502.556 L2668.13 528.482 L2663.87 528.482 L2663.87 502.556 M2663.87 492.463 L2668.13 492.463 L2668.13 497.857 L2663.87 497.857 L2663.87 492.463 Z\" fill=\"#000000\" fill-rule=\"evenodd\" fill-opacity=\"1\" /><path clip-path=\"url(#clip600)\" d=\"M2699.21 514.454 L2699.21 516.537 L2679.63 516.537 Q2679.91 520.935 2682.27 523.25 Q2684.65 525.542 2688.89 525.542 Q2691.34 525.542 2693.64 524.94 Q2695.95 524.338 2698.22 523.135 L2698.22 527.162 Q2695.93 528.134 2693.52 528.644 Q2691.11 529.153 2688.64 529.153 Q2682.43 529.153 2678.8 525.542 Q2675.19 521.931 2675.19 515.773 Q2675.19 509.408 2678.61 505.681 Q2682.06 501.931 2687.89 501.931 Q2693.13 501.931 2696.16 505.311 Q2699.21 508.667 2699.21 514.454 M2694.95 513.204 Q2694.91 509.709 2692.99 507.625 Q2691.09 505.542 2687.94 505.542 Q2684.38 505.542 2682.22 507.556 Q2680.09 509.57 2679.77 513.227 L2694.95 513.204 Z\" fill=\"#000000\" fill-rule=\"evenodd\" fill-opacity=\"1\" /><path clip-path=\"url(#clip600)\" d=\"M2722.69 524.547 L2730.32 524.547 L2730.32 498.181 L2722.01 499.848 L2722.01 495.588 L2730.28 493.922 L2734.95 493.922 L2734.95 524.547 L2742.59 524.547 L2742.59 528.482 L2722.69 528.482 L2722.69 524.547 Z\" fill=\"#000000\" fill-rule=\"evenodd\" fill-opacity=\"1\" /><path clip-path=\"url(#clip600)\" d=\"M2752.08 493.922 L2770.44 493.922 L2770.44 497.857 L2756.37 497.857 L2756.37 506.329 Q2757.38 505.982 2758.4 505.82 Q2759.42 505.635 2760.44 505.635 Q2766.23 505.635 2769.61 508.806 Q2772.99 511.977 2772.99 517.394 Q2772.99 522.972 2769.51 526.074 Q2766.04 529.153 2759.72 529.153 Q2757.55 529.153 2755.28 528.783 Q2753.03 528.412 2750.63 527.672 L2750.63 522.972 Q2752.71 524.107 2754.93 524.662 Q2757.15 525.218 2759.63 525.218 Q2763.63 525.218 2765.97 523.111 Q2768.31 521.005 2768.31 517.394 Q2768.31 513.783 2765.97 511.676 Q2763.63 509.57 2759.63 509.57 Q2757.76 509.57 2755.88 509.986 Q2754.03 510.403 2752.08 511.283 L2752.08 493.922 Z\" fill=\"#000000\" fill-rule=\"evenodd\" fill-opacity=\"1\" /><path clip-path=\"url(#clip600)\" d=\"M2792.2 497 Q2788.59 497 2786.76 500.565 Q2784.95 504.107 2784.95 511.236 Q2784.95 518.343 2786.76 521.908 Q2788.59 525.449 2792.2 525.449 Q2795.83 525.449 2797.64 521.908 Q2799.47 518.343 2799.47 511.236 Q2799.47 504.107 2797.64 500.565 Q2795.83 497 2792.2 497 M2792.2 493.297 Q2798.01 493.297 2801.07 497.903 Q2804.14 502.486 2804.14 511.236 Q2804.14 519.963 2801.07 524.57 Q2798.01 529.153 2792.2 529.153 Q2786.39 529.153 2783.31 524.57 Q2780.26 519.963 2780.26 511.236 Q2780.26 502.486 2783.31 497.903 Q2786.39 493.297 2792.2 493.297 Z\" fill=\"#000000\" fill-rule=\"evenodd\" fill-opacity=\"1\" /><path clip-path=\"url(#clip600)\" d=\"M2822.36 497 Q2818.75 497 2816.92 500.565 Q2815.12 504.107 2815.12 511.236 Q2815.12 518.343 2816.92 521.908 Q2818.75 525.449 2822.36 525.449 Q2826 525.449 2827.8 521.908 Q2829.63 518.343 2829.63 511.236 Q2829.63 504.107 2827.8 500.565 Q2826 497 2822.36 497 M2822.36 493.297 Q2828.17 493.297 2831.23 497.903 Q2834.31 502.486 2834.31 511.236 Q2834.31 519.963 2831.23 524.57 Q2828.17 529.153 2822.36 529.153 Q2816.55 529.153 2813.47 524.57 Q2810.42 519.963 2810.42 511.236 Q2810.42 502.486 2813.47 497.903 Q2816.55 493.297 2822.36 493.297 Z\" fill=\"#000000\" fill-rule=\"evenodd\" fill-opacity=\"1\" /><polyline clip-path=\"url(#clip600)\" style=\"stroke:#800080; stroke-linecap:round; stroke-linejoin:round; stroke-width:4; stroke-opacity:1; fill:none\" points=\"2055.25,563.042 2246.88,563.042 \"/>\n",
       "<path clip-path=\"url(#clip600)\" d=\"M2283.5 549.604 L2283.5 562.59 L2289.38 562.59 Q2292.64 562.59 2294.42 560.901 Q2296.21 559.211 2296.21 556.086 Q2296.21 552.984 2294.42 551.294 Q2292.64 549.604 2289.38 549.604 L2283.5 549.604 M2278.82 545.762 L2289.38 545.762 Q2295.19 545.762 2298.15 548.401 Q2301.14 551.016 2301.14 556.086 Q2301.14 561.201 2298.15 563.817 Q2295.19 566.433 2289.38 566.433 L2283.5 566.433 L2283.5 580.322 L2278.82 580.322 L2278.82 545.762 Z\" fill=\"#000000\" fill-rule=\"evenodd\" fill-opacity=\"1\" /><path clip-path=\"url(#clip600)\" d=\"M2321.41 558.377 Q2320.7 557.961 2319.84 557.776 Q2319.01 557.567 2317.99 557.567 Q2314.38 557.567 2312.43 559.928 Q2310.51 562.266 2310.51 566.664 L2310.51 580.322 L2306.23 580.322 L2306.23 554.396 L2310.51 554.396 L2310.51 558.424 Q2311.85 556.063 2314.01 554.928 Q2316.16 553.771 2319.24 553.771 Q2319.68 553.771 2320.21 553.84 Q2320.74 553.887 2321.39 554.002 L2321.41 558.377 Z\" fill=\"#000000\" fill-rule=\"evenodd\" fill-opacity=\"1\" /><path clip-path=\"url(#clip600)\" d=\"M2334.89 557.382 Q2331.46 557.382 2329.47 560.067 Q2327.48 562.729 2327.48 567.382 Q2327.48 572.035 2329.45 574.72 Q2331.44 577.382 2334.89 577.382 Q2338.29 577.382 2340.28 574.697 Q2342.27 572.012 2342.27 567.382 Q2342.27 562.776 2340.28 560.09 Q2338.29 557.382 2334.89 557.382 M2334.89 553.771 Q2340.44 553.771 2343.61 557.382 Q2346.79 560.993 2346.79 567.382 Q2346.79 573.748 2343.61 577.382 Q2340.44 580.993 2334.89 580.993 Q2329.31 580.993 2326.14 577.382 Q2322.99 573.748 2322.99 567.382 Q2322.99 560.993 2326.14 557.382 Q2329.31 553.771 2334.89 553.771 Z\" fill=\"#000000\" fill-rule=\"evenodd\" fill-opacity=\"1\" /><path clip-path=\"url(#clip600)\" d=\"M2366.97 544.303 L2366.97 547.845 L2362.9 547.845 Q2360.6 547.845 2359.7 548.771 Q2358.82 549.697 2358.82 552.104 L2358.82 554.396 L2365.84 554.396 L2365.84 557.706 L2358.82 557.706 L2358.82 580.322 L2354.54 580.322 L2354.54 557.706 L2350.47 557.706 L2350.47 554.396 L2354.54 554.396 L2354.54 552.59 Q2354.54 548.262 2356.55 546.294 Q2358.57 544.303 2362.94 544.303 L2366.97 544.303 Z\" fill=\"#000000\" fill-rule=\"evenodd\" fill-opacity=\"1\" /><path clip-path=\"url(#clip600)\" d=\"M2370.53 554.396 L2374.79 554.396 L2374.79 580.322 L2370.53 580.322 L2370.53 554.396 M2370.53 544.303 L2374.79 544.303 L2374.79 549.697 L2370.53 549.697 L2370.53 544.303 Z\" fill=\"#000000\" fill-rule=\"evenodd\" fill-opacity=\"1\" /><path clip-path=\"url(#clip600)\" d=\"M2387.92 547.035 L2387.92 554.396 L2396.69 554.396 L2396.69 557.706 L2387.92 557.706 L2387.92 571.78 Q2387.92 574.951 2388.78 575.854 Q2389.66 576.757 2392.32 576.757 L2396.69 576.757 L2396.69 580.322 L2392.32 580.322 Q2387.39 580.322 2385.51 578.493 Q2383.64 576.641 2383.64 571.78 L2383.64 557.706 L2380.51 557.706 L2380.51 554.396 L2383.64 554.396 L2383.64 547.035 L2387.92 547.035 Z\" fill=\"#000000\" fill-rule=\"evenodd\" fill-opacity=\"1\" /><path clip-path=\"url(#clip600)\" d=\"M2438.91 564.674 L2438.91 580.322 L2434.66 580.322 L2434.66 564.813 Q2434.66 561.132 2433.22 559.303 Q2431.78 557.475 2428.91 557.475 Q2425.47 557.475 2423.47 559.674 Q2421.48 561.873 2421.48 565.669 L2421.48 580.322 L2417.2 580.322 L2417.2 554.396 L2421.48 554.396 L2421.48 558.424 Q2423.01 556.086 2425.07 554.928 Q2427.16 553.771 2429.86 553.771 Q2434.33 553.771 2436.62 556.549 Q2438.91 559.303 2438.91 564.674 Z\" fill=\"#000000\" fill-rule=\"evenodd\" fill-opacity=\"1\" /><path clip-path=\"url(#clip600)\" d=\"M2459.19 567.289 Q2454.03 567.289 2452.04 568.47 Q2450.05 569.65 2450.05 572.498 Q2450.05 574.766 2451.53 576.109 Q2453.03 577.428 2455.6 577.428 Q2459.15 577.428 2461.28 574.928 Q2463.43 572.405 2463.43 568.238 L2463.43 567.289 L2459.19 567.289 M2467.69 565.53 L2467.69 580.322 L2463.43 580.322 L2463.43 576.387 Q2461.97 578.748 2459.79 579.882 Q2457.62 580.993 2454.47 580.993 Q2450.49 580.993 2448.13 578.771 Q2445.79 576.525 2445.79 572.775 Q2445.79 568.4 2448.71 566.178 Q2451.65 563.956 2457.46 563.956 L2463.43 563.956 L2463.43 563.539 Q2463.43 560.6 2461.48 559.002 Q2459.56 557.382 2456.07 557.382 Q2453.84 557.382 2451.74 557.914 Q2449.63 558.447 2447.69 559.512 L2447.69 555.576 Q2450.03 554.674 2452.22 554.234 Q2454.42 553.771 2456.51 553.771 Q2462.13 553.771 2464.91 556.688 Q2467.69 559.604 2467.69 565.53 Z\" fill=\"#000000\" fill-rule=\"evenodd\" fill-opacity=\"1\" /><path clip-path=\"url(#clip600)\" d=\"M2495.65 576.433 L2495.65 590.183 L2491.37 590.183 L2491.37 554.396 L2495.65 554.396 L2495.65 558.331 Q2496.99 556.016 2499.03 554.905 Q2501.09 553.771 2503.94 553.771 Q2508.66 553.771 2511.6 557.521 Q2514.56 561.271 2514.56 567.382 Q2514.56 573.493 2511.6 577.243 Q2508.66 580.993 2503.94 580.993 Q2501.09 580.993 2499.03 579.882 Q2496.99 578.748 2495.65 576.433 M2510.14 567.382 Q2510.14 562.683 2508.2 560.021 Q2506.28 557.336 2502.9 557.336 Q2499.52 557.336 2497.57 560.021 Q2495.65 562.683 2495.65 567.382 Q2495.65 572.081 2497.57 574.766 Q2499.52 577.428 2502.9 577.428 Q2506.28 577.428 2508.2 574.766 Q2510.14 572.081 2510.14 567.382 Z\" fill=\"#000000\" fill-rule=\"evenodd\" fill-opacity=\"1\" /><path clip-path=\"url(#clip600)\" d=\"M2531.67 557.382 Q2528.24 557.382 2526.25 560.067 Q2524.26 562.729 2524.26 567.382 Q2524.26 572.035 2526.23 574.72 Q2528.22 577.382 2531.67 577.382 Q2535.07 577.382 2537.06 574.697 Q2539.05 572.012 2539.05 567.382 Q2539.05 562.776 2537.06 560.09 Q2535.07 557.382 2531.67 557.382 M2531.67 553.771 Q2537.22 553.771 2540.4 557.382 Q2543.57 560.993 2543.57 567.382 Q2543.57 573.748 2540.4 577.382 Q2537.22 580.993 2531.67 580.993 Q2526.09 580.993 2522.92 577.382 Q2519.77 573.748 2519.77 567.382 Q2519.77 560.993 2522.92 557.382 Q2526.09 553.771 2531.67 553.771 Z\" fill=\"#000000\" fill-rule=\"evenodd\" fill-opacity=\"1\" /><path clip-path=\"url(#clip600)\" d=\"M2548.77 554.396 L2569.01 554.396 L2569.01 558.285 L2552.99 576.919 L2569.01 576.919 L2569.01 580.322 L2548.2 580.322 L2548.2 576.433 L2564.21 557.799 L2548.77 557.799 L2548.77 554.396 Z\" fill=\"#000000\" fill-rule=\"evenodd\" fill-opacity=\"1\" /><path clip-path=\"url(#clip600)\" d=\"M2575.51 554.396 L2579.77 554.396 L2579.77 580.322 L2575.51 580.322 L2575.51 554.396 M2575.51 544.303 L2579.77 544.303 L2579.77 549.697 L2575.51 549.697 L2575.51 544.303 Z\" fill=\"#000000\" fill-rule=\"evenodd\" fill-opacity=\"1\" /><path clip-path=\"url(#clip600)\" d=\"M2598.73 557.382 Q2595.3 557.382 2593.31 560.067 Q2591.32 562.729 2591.32 567.382 Q2591.32 572.035 2593.29 574.72 Q2595.28 577.382 2598.73 577.382 Q2602.13 577.382 2604.12 574.697 Q2606.11 572.012 2606.11 567.382 Q2606.11 562.776 2604.12 560.09 Q2602.13 557.382 2598.73 557.382 M2598.73 553.771 Q2604.28 553.771 2607.46 557.382 Q2610.63 560.993 2610.63 567.382 Q2610.63 573.748 2607.46 577.382 Q2604.28 580.993 2598.73 580.993 Q2593.15 580.993 2589.98 577.382 Q2586.83 573.748 2586.83 567.382 Q2586.83 560.993 2589.98 557.382 Q2593.15 553.771 2598.73 553.771 Z\" fill=\"#000000\" fill-rule=\"evenodd\" fill-opacity=\"1\" /><path clip-path=\"url(#clip600)\" d=\"M2637.87 559.373 Q2639.47 556.502 2641.69 555.137 Q2643.91 553.771 2646.92 553.771 Q2650.97 553.771 2653.17 556.618 Q2655.37 559.442 2655.37 564.674 L2655.37 580.322 L2651.09 580.322 L2651.09 564.813 Q2651.09 561.086 2649.77 559.28 Q2648.45 557.475 2645.74 557.475 Q2642.43 557.475 2640.51 559.674 Q2638.59 561.873 2638.59 565.669 L2638.59 580.322 L2634.31 580.322 L2634.31 564.813 Q2634.31 561.063 2632.99 559.28 Q2631.67 557.475 2628.91 557.475 Q2625.65 557.475 2623.73 559.697 Q2621.81 561.896 2621.81 565.669 L2621.81 580.322 L2617.52 580.322 L2617.52 554.396 L2621.81 554.396 L2621.81 558.424 Q2623.27 556.039 2625.3 554.905 Q2627.34 553.771 2630.14 553.771 Q2632.96 553.771 2634.93 555.206 Q2636.92 556.641 2637.87 559.373 Z\" fill=\"#000000\" fill-rule=\"evenodd\" fill-opacity=\"1\" /><path clip-path=\"url(#clip600)\" d=\"M2663.87 554.396 L2668.13 554.396 L2668.13 580.322 L2663.87 580.322 L2663.87 554.396 M2663.87 544.303 L2668.13 544.303 L2668.13 549.697 L2663.87 549.697 L2663.87 544.303 Z\" fill=\"#000000\" fill-rule=\"evenodd\" fill-opacity=\"1\" /><path clip-path=\"url(#clip600)\" d=\"M2699.21 566.294 L2699.21 568.377 L2679.63 568.377 Q2679.91 572.775 2682.27 575.09 Q2684.65 577.382 2688.89 577.382 Q2691.34 577.382 2693.64 576.78 Q2695.95 576.178 2698.22 574.975 L2698.22 579.002 Q2695.93 579.974 2693.52 580.484 Q2691.11 580.993 2688.64 580.993 Q2682.43 580.993 2678.8 577.382 Q2675.19 573.771 2675.19 567.613 Q2675.19 561.248 2678.61 557.521 Q2682.06 553.771 2687.89 553.771 Q2693.13 553.771 2696.16 557.151 Q2699.21 560.507 2699.21 566.294 M2694.95 565.044 Q2694.91 561.549 2692.99 559.465 Q2691.09 557.382 2687.94 557.382 Q2684.38 557.382 2682.22 559.396 Q2680.09 561.41 2679.77 565.067 L2694.95 565.044 Z\" fill=\"#000000\" fill-rule=\"evenodd\" fill-opacity=\"1\" /><path clip-path=\"url(#clip600)\" d=\"M2722.69 576.387 L2730.32 576.387 L2730.32 550.021 L2722.01 551.688 L2722.01 547.428 L2730.28 545.762 L2734.95 545.762 L2734.95 576.387 L2742.59 576.387 L2742.59 580.322 L2722.69 580.322 L2722.69 576.387 Z\" fill=\"#000000\" fill-rule=\"evenodd\" fill-opacity=\"1\" /><path clip-path=\"url(#clip600)\" d=\"M2756.07 576.387 L2772.38 576.387 L2772.38 580.322 L2750.44 580.322 L2750.44 576.387 Q2753.1 573.632 2757.69 569.002 Q2762.29 564.35 2763.47 563.007 Q2765.72 560.484 2766.6 558.748 Q2767.5 556.989 2767.5 555.299 Q2767.5 552.544 2765.56 550.808 Q2763.63 549.072 2760.53 549.072 Q2758.33 549.072 2755.88 549.836 Q2753.45 550.6 2750.67 552.151 L2750.67 547.428 Q2753.5 546.294 2755.95 545.715 Q2758.4 545.137 2760.44 545.137 Q2765.81 545.137 2769.01 547.822 Q2772.2 550.507 2772.2 554.998 Q2772.2 557.127 2771.39 559.049 Q2770.6 560.947 2768.5 563.539 Q2767.92 564.211 2764.82 567.428 Q2761.71 570.623 2756.07 576.387 Z\" fill=\"#000000\" fill-rule=\"evenodd\" fill-opacity=\"1\" /><path clip-path=\"url(#clip600)\" d=\"M2792.2 548.84 Q2788.59 548.84 2786.76 552.405 Q2784.95 555.947 2784.95 563.076 Q2784.95 570.183 2786.76 573.748 Q2788.59 577.289 2792.2 577.289 Q2795.83 577.289 2797.64 573.748 Q2799.47 570.183 2799.47 563.076 Q2799.47 555.947 2797.64 552.405 Q2795.83 548.84 2792.2 548.84 M2792.2 545.137 Q2798.01 545.137 2801.07 549.743 Q2804.14 554.326 2804.14 563.076 Q2804.14 571.803 2801.07 576.41 Q2798.01 580.993 2792.2 580.993 Q2786.39 580.993 2783.31 576.41 Q2780.26 571.803 2780.26 563.076 Q2780.26 554.326 2783.31 549.743 Q2786.39 545.137 2792.2 545.137 Z\" fill=\"#000000\" fill-rule=\"evenodd\" fill-opacity=\"1\" /><path clip-path=\"url(#clip600)\" d=\"M2822.36 548.84 Q2818.75 548.84 2816.92 552.405 Q2815.12 555.947 2815.12 563.076 Q2815.12 570.183 2816.92 573.748 Q2818.75 577.289 2822.36 577.289 Q2826 577.289 2827.8 573.748 Q2829.63 570.183 2829.63 563.076 Q2829.63 555.947 2827.8 552.405 Q2826 548.84 2822.36 548.84 M2822.36 545.137 Q2828.17 545.137 2831.23 549.743 Q2834.31 554.326 2834.31 563.076 Q2834.31 571.803 2831.23 576.41 Q2828.17 580.993 2822.36 580.993 Q2816.55 580.993 2813.47 576.41 Q2810.42 571.803 2810.42 563.076 Q2810.42 554.326 2813.47 549.743 Q2816.55 545.137 2822.36 545.137 Z\" fill=\"#000000\" fill-rule=\"evenodd\" fill-opacity=\"1\" /></svg>\n"
      ]
     },
     "execution_count": 61,
     "metadata": {},
     "output_type": "execute_result"
    }
   ],
   "source": [
    "\n",
    "\n",
    "plot([1, 1.05, 1.1, 1.25, 1.5, 1.75], profits_payroll_change_1_00, label=\"Profit przy pierwotnej cenie\")\n",
    "plot!([1, 1.05, 1.1, 1.25, 1.5, 1.75], profits_payroll_change_1_05, label=\"Profit przy wzroście ceny o 5%\")\n",
    "plot!([1, 1.05, 1.1, 1.25, 1.5, 1.75], profits_payroll_change_1_10, label=\"Profit przy wzroście ceny o 10%\")\n",
    "plot!([1, 1.05, 1.1, 1.25, 1.5, 1.75], profits_payroll_change_1_20, label=\"Profit przy wzroście ceny o 20%\")\n",
    "plot!([1, 1.05, 1.1, 1.25, 1.5, 1.75], profits_payroll_change_1_50, label=\"Profit przy wzroście ceny o 50%\")\n",
    "plot!([1, 1.75], [1500, 1500], linecolor=:red, linewidth=1, label=\"Profit na poziomie 1500\")\n",
    "plot!([1, 1.75], [1200, 1200], linecolor=:purple, linewidth=1, label=\"Profit na poziomie 1200\")\n",
    "xlabel!(\"Zmiana wynagrodzenia [%]\")\n",
    "ylabel!(\"Profit\")\n",
    "title!(\"Wykres zmiany profitu w zależności od zmiany wynagrodzenia\")"
   ]
  },
  {
   "cell_type": "markdown",
   "metadata": {},
   "source": [
    "## Analiza ceteris-paribus dla 3 parametrów"
   ]
  },
  {
   "cell_type": "code",
   "execution_count": null,
   "metadata": {},
   "outputs": [],
   "source": [
    "h = 0.1 storage_cost\n",
    "p = 0.75 prob_of_delivery"
   ]
  },
  {
   "cell_type": "code",
   "execution_count": 71,
   "metadata": {},
   "outputs": [
    {
     "data": {
      "image/svg+xml": [
       "<?xml version=\"1.0\" encoding=\"utf-8\"?>\n",
       "<svg xmlns=\"http://www.w3.org/2000/svg\" xmlns:xlink=\"http://www.w3.org/1999/xlink\" width=\"800\" height=\"600\" viewBox=\"0 0 3200 2400\">\n",
       "<defs>\n",
       "  <clipPath id=\"clip880\">\n",
       "    <rect x=\"0\" y=\"0\" width=\"3200\" height=\"2400\"/>\n",
       "  </clipPath>\n",
       "</defs>\n",
       "<path clip-path=\"url(#clip880)\" d=\"M0 2400 L3200 2400 L3200 0 L0 0  Z\" fill=\"#ffffff\" fill-rule=\"evenodd\" fill-opacity=\"1\"/>\n",
       "<defs>\n",
       "  <clipPath id=\"clip881\">\n",
       "    <rect x=\"640\" y=\"0\" width=\"2241\" height=\"2241\"/>\n",
       "  </clipPath>\n",
       "</defs>\n",
       "<path clip-path=\"url(#clip880)\" d=\"M276.491 2204.92 L3152.76 2204.92 L3152.76 131.032 L276.491 131.032  Z\" fill=\"#ffffff\" fill-rule=\"evenodd\" fill-opacity=\"1\"/>\n",
       "<defs>\n",
       "  <clipPath id=\"clip882\">\n",
       "    <rect x=\"276\" y=\"131\" width=\"2877\" height=\"2075\"/>\n",
       "  </clipPath>\n",
       "</defs>\n",
       "<polyline clip-path=\"url(#clip882)\" style=\"stroke:#000000; stroke-linecap:round; stroke-linejoin:round; stroke-width:2; stroke-opacity:0.1; fill:none\" points=\"357.895,2204.92 357.895,131.032 \"/>\n",
       "<polyline clip-path=\"url(#clip882)\" style=\"stroke:#000000; stroke-linecap:round; stroke-linejoin:round; stroke-width:2; stroke-opacity:0.1; fill:none\" points=\"1081.48,2204.92 1081.48,131.032 \"/>\n",
       "<polyline clip-path=\"url(#clip882)\" style=\"stroke:#000000; stroke-linecap:round; stroke-linejoin:round; stroke-width:2; stroke-opacity:0.1; fill:none\" points=\"1805.07,2204.92 1805.07,131.032 \"/>\n",
       "<polyline clip-path=\"url(#clip882)\" style=\"stroke:#000000; stroke-linecap:round; stroke-linejoin:round; stroke-width:2; stroke-opacity:0.1; fill:none\" points=\"2528.66,2204.92 2528.66,131.032 \"/>\n",
       "<polyline clip-path=\"url(#clip880)\" style=\"stroke:#000000; stroke-linecap:round; stroke-linejoin:round; stroke-width:4; stroke-opacity:1; fill:none\" points=\"276.491,2204.92 3152.76,2204.92 \"/>\n",
       "<polyline clip-path=\"url(#clip880)\" style=\"stroke:#000000; stroke-linecap:round; stroke-linejoin:round; stroke-width:4; stroke-opacity:1; fill:none\" points=\"357.895,2204.92 357.895,2186.02 \"/>\n",
       "<polyline clip-path=\"url(#clip880)\" style=\"stroke:#000000; stroke-linecap:round; stroke-linejoin:round; stroke-width:4; stroke-opacity:1; fill:none\" points=\"1081.48,2204.92 1081.48,2186.02 \"/>\n",
       "<polyline clip-path=\"url(#clip880)\" style=\"stroke:#000000; stroke-linecap:round; stroke-linejoin:round; stroke-width:4; stroke-opacity:1; fill:none\" points=\"1805.07,2204.92 1805.07,2186.02 \"/>\n",
       "<polyline clip-path=\"url(#clip880)\" style=\"stroke:#000000; stroke-linecap:round; stroke-linejoin:round; stroke-width:4; stroke-opacity:1; fill:none\" points=\"2528.66,2204.92 2528.66,2186.02 \"/>\n",
       "<path clip-path=\"url(#clip880)\" d=\"M335.279 2242.24 Q331.668 2242.24 329.84 2245.8 Q328.034 2249.34 328.034 2256.47 Q328.034 2263.58 329.84 2267.15 Q331.668 2270.69 335.279 2270.69 Q338.914 2270.69 340.719 2267.15 Q342.548 2263.58 342.548 2256.47 Q342.548 2249.34 340.719 2245.8 Q338.914 2242.24 335.279 2242.24 M335.279 2238.53 Q341.089 2238.53 344.145 2243.14 Q347.224 2247.72 347.224 2256.47 Q347.224 2265.2 344.145 2269.81 Q341.089 2274.39 335.279 2274.39 Q329.469 2274.39 326.39 2269.81 Q323.335 2265.2 323.335 2256.47 Q323.335 2247.72 326.39 2243.14 Q329.469 2238.53 335.279 2238.53 Z\" fill=\"#000000\" fill-rule=\"evenodd\" fill-opacity=\"1\" /><path clip-path=\"url(#clip880)\" d=\"M355.441 2267.84 L360.325 2267.84 L360.325 2273.72 L355.441 2273.72 L355.441 2267.84 Z\" fill=\"#000000\" fill-rule=\"evenodd\" fill-opacity=\"1\" /><path clip-path=\"url(#clip880)\" d=\"M380.511 2242.24 Q376.899 2242.24 375.071 2245.8 Q373.265 2249.34 373.265 2256.47 Q373.265 2263.58 375.071 2267.15 Q376.899 2270.69 380.511 2270.69 Q384.145 2270.69 385.95 2267.15 Q387.779 2263.58 387.779 2256.47 Q387.779 2249.34 385.95 2245.8 Q384.145 2242.24 380.511 2242.24 M380.511 2238.53 Q386.321 2238.53 389.376 2243.14 Q392.455 2247.72 392.455 2256.47 Q392.455 2265.2 389.376 2269.81 Q386.321 2274.39 380.511 2274.39 Q374.7 2274.39 371.622 2269.81 Q368.566 2265.2 368.566 2256.47 Q368.566 2247.72 371.622 2243.14 Q374.7 2238.53 380.511 2238.53 Z\" fill=\"#000000\" fill-rule=\"evenodd\" fill-opacity=\"1\" /><path clip-path=\"url(#clip880)\" d=\"M1059.67 2242.24 Q1056.06 2242.24 1054.23 2245.8 Q1052.42 2249.34 1052.42 2256.47 Q1052.42 2263.58 1054.23 2267.15 Q1056.06 2270.69 1059.67 2270.69 Q1063.3 2270.69 1065.11 2267.15 Q1066.94 2263.58 1066.94 2256.47 Q1066.94 2249.34 1065.11 2245.8 Q1063.3 2242.24 1059.67 2242.24 M1059.67 2238.53 Q1065.48 2238.53 1068.53 2243.14 Q1071.61 2247.72 1071.61 2256.47 Q1071.61 2265.2 1068.53 2269.81 Q1065.48 2274.39 1059.67 2274.39 Q1053.86 2274.39 1050.78 2269.81 Q1047.72 2265.2 1047.72 2256.47 Q1047.72 2247.72 1050.78 2243.14 Q1053.86 2238.53 1059.67 2238.53 Z\" fill=\"#000000\" fill-rule=\"evenodd\" fill-opacity=\"1\" /><path clip-path=\"url(#clip880)\" d=\"M1079.83 2267.84 L1084.71 2267.84 L1084.71 2273.72 L1079.83 2273.72 L1079.83 2267.84 Z\" fill=\"#000000\" fill-rule=\"evenodd\" fill-opacity=\"1\" /><path clip-path=\"url(#clip880)\" d=\"M1098.93 2269.78 L1115.24 2269.78 L1115.24 2273.72 L1093.3 2273.72 L1093.3 2269.78 Q1095.96 2267.03 1100.55 2262.4 Q1105.15 2257.75 1106.33 2256.41 Q1108.58 2253.88 1109.46 2252.15 Q1110.36 2250.39 1110.36 2248.7 Q1110.36 2245.94 1108.42 2244.21 Q1106.49 2242.47 1103.39 2242.47 Q1101.19 2242.47 1098.74 2243.23 Q1096.31 2244 1093.53 2245.55 L1093.53 2240.83 Q1096.36 2239.69 1098.81 2239.11 Q1101.26 2238.53 1103.3 2238.53 Q1108.67 2238.53 1111.87 2241.22 Q1115.06 2243.91 1115.06 2248.4 Q1115.06 2250.53 1114.25 2252.45 Q1113.46 2254.34 1111.36 2256.94 Q1110.78 2257.61 1107.68 2260.83 Q1104.57 2264.02 1098.93 2269.78 Z\" fill=\"#000000\" fill-rule=\"evenodd\" fill-opacity=\"1\" /><path clip-path=\"url(#clip880)\" d=\"M1782.21 2242.24 Q1778.6 2242.24 1776.77 2245.8 Q1774.97 2249.34 1774.97 2256.47 Q1774.97 2263.58 1776.77 2267.15 Q1778.6 2270.69 1782.21 2270.69 Q1785.85 2270.69 1787.65 2267.15 Q1789.48 2263.58 1789.48 2256.47 Q1789.48 2249.34 1787.65 2245.8 Q1785.85 2242.24 1782.21 2242.24 M1782.21 2238.53 Q1788.02 2238.53 1791.08 2243.14 Q1794.16 2247.72 1794.16 2256.47 Q1794.16 2265.2 1791.08 2269.81 Q1788.02 2274.39 1782.21 2274.39 Q1776.4 2274.39 1773.32 2269.81 Q1770.27 2265.2 1770.27 2256.47 Q1770.27 2247.72 1773.32 2243.14 Q1776.4 2238.53 1782.21 2238.53 Z\" fill=\"#000000\" fill-rule=\"evenodd\" fill-opacity=\"1\" /><path clip-path=\"url(#clip880)\" d=\"M1802.38 2267.84 L1807.26 2267.84 L1807.26 2273.72 L1802.38 2273.72 L1802.38 2267.84 Z\" fill=\"#000000\" fill-rule=\"evenodd\" fill-opacity=\"1\" /><path clip-path=\"url(#clip880)\" d=\"M1830.29 2243.23 L1818.49 2261.68 L1830.29 2261.68 L1830.29 2243.23 M1829.07 2239.16 L1834.94 2239.16 L1834.94 2261.68 L1839.88 2261.68 L1839.88 2265.57 L1834.94 2265.57 L1834.94 2273.72 L1830.29 2273.72 L1830.29 2265.57 L1814.69 2265.57 L1814.69 2261.06 L1829.07 2239.16 Z\" fill=\"#000000\" fill-rule=\"evenodd\" fill-opacity=\"1\" /><path clip-path=\"url(#clip880)\" d=\"M2505.96 2242.24 Q2502.35 2242.24 2500.52 2245.8 Q2498.72 2249.34 2498.72 2256.47 Q2498.72 2263.58 2500.52 2267.15 Q2502.35 2270.69 2505.96 2270.69 Q2509.6 2270.69 2511.4 2267.15 Q2513.23 2263.58 2513.23 2256.47 Q2513.23 2249.34 2511.4 2245.8 Q2509.6 2242.24 2505.96 2242.24 M2505.96 2238.53 Q2511.77 2238.53 2514.83 2243.14 Q2517.91 2247.72 2517.91 2256.47 Q2517.91 2265.2 2514.83 2269.81 Q2511.77 2274.39 2505.96 2274.39 Q2500.15 2274.39 2497.08 2269.81 Q2494.02 2265.2 2494.02 2256.47 Q2494.02 2247.72 2497.08 2243.14 Q2500.15 2238.53 2505.96 2238.53 Z\" fill=\"#000000\" fill-rule=\"evenodd\" fill-opacity=\"1\" /><path clip-path=\"url(#clip880)\" d=\"M2526.13 2267.84 L2531.01 2267.84 L2531.01 2273.72 L2526.13 2273.72 L2526.13 2267.84 Z\" fill=\"#000000\" fill-rule=\"evenodd\" fill-opacity=\"1\" /><path clip-path=\"url(#clip880)\" d=\"M2551.77 2254.58 Q2548.63 2254.58 2546.77 2256.73 Q2544.95 2258.88 2544.95 2262.63 Q2544.95 2266.36 2546.77 2268.53 Q2548.63 2270.69 2551.77 2270.69 Q2554.92 2270.69 2556.75 2268.53 Q2558.6 2266.36 2558.6 2262.63 Q2558.6 2258.88 2556.75 2256.73 Q2554.92 2254.58 2551.77 2254.58 M2561.06 2239.92 L2561.06 2244.18 Q2559.3 2243.35 2557.49 2242.91 Q2555.71 2242.47 2553.95 2242.47 Q2549.32 2242.47 2546.87 2245.59 Q2544.44 2248.72 2544.09 2255.04 Q2545.45 2253.03 2547.51 2251.96 Q2549.57 2250.87 2552.05 2250.87 Q2557.26 2250.87 2560.27 2254.04 Q2563.3 2257.19 2563.3 2262.63 Q2563.3 2267.96 2560.15 2271.17 Q2557.01 2274.39 2551.77 2274.39 Q2545.78 2274.39 2542.61 2269.81 Q2539.44 2265.2 2539.44 2256.47 Q2539.44 2248.28 2543.33 2243.42 Q2547.21 2238.53 2553.76 2238.53 Q2555.52 2238.53 2557.31 2238.88 Q2559.11 2239.23 2561.06 2239.92 Z\" fill=\"#000000\" fill-rule=\"evenodd\" fill-opacity=\"1\" /><path clip-path=\"url(#clip880)\" d=\"M1529.13 2314.26 L1566.46 2314.26 L1566.46 2319.17 L1536.42 2356.37 L1567.19 2356.37 L1567.19 2361.78 L1528.39 2361.78 L1528.39 2356.88 L1558.44 2319.67 L1529.13 2319.67 L1529.13 2314.26 Z\" fill=\"#000000\" fill-rule=\"evenodd\" fill-opacity=\"1\" /><path clip-path=\"url(#clip880)\" d=\"M1604.02 2332.98 Q1606.22 2329.03 1609.27 2327.15 Q1612.33 2325.28 1616.46 2325.28 Q1622.03 2325.28 1625.06 2329.19 Q1628.08 2333.07 1628.08 2340.27 L1628.08 2361.78 L1622.19 2361.78 L1622.19 2340.46 Q1622.19 2335.33 1620.38 2332.85 Q1618.57 2330.37 1614.84 2330.37 Q1610.29 2330.37 1607.65 2333.39 Q1605.01 2336.42 1605.01 2341.64 L1605.01 2361.78 L1599.12 2361.78 L1599.12 2340.46 Q1599.12 2335.3 1597.3 2332.85 Q1595.49 2330.37 1591.7 2330.37 Q1587.21 2330.37 1584.57 2333.42 Q1581.93 2336.45 1581.93 2341.64 L1581.93 2361.78 L1576.04 2361.78 L1576.04 2326.14 L1581.93 2326.14 L1581.93 2331.67 Q1583.94 2328.4 1586.74 2326.84 Q1589.54 2325.28 1593.39 2325.28 Q1597.27 2325.28 1599.98 2327.25 Q1602.71 2329.22 1604.02 2332.98 Z\" fill=\"#000000\" fill-rule=\"evenodd\" fill-opacity=\"1\" /><path clip-path=\"url(#clip880)\" d=\"M1639.76 2326.14 L1645.62 2326.14 L1645.62 2361.78 L1639.76 2361.78 L1639.76 2326.14 M1639.76 2312.26 L1645.62 2312.26 L1645.62 2319.67 L1639.76 2319.67 L1639.76 2312.26 Z\" fill=\"#000000\" fill-rule=\"evenodd\" fill-opacity=\"1\" /><path clip-path=\"url(#clip880)\" d=\"M1674.07 2343.86 Q1666.98 2343.86 1664.24 2345.49 Q1661.5 2347.11 1661.5 2351.03 Q1661.5 2354.14 1663.54 2355.99 Q1665.61 2357.81 1669.14 2357.81 Q1674.01 2357.81 1676.94 2354.37 Q1679.9 2350.9 1679.9 2345.17 L1679.9 2343.86 L1674.07 2343.86 M1685.76 2341.45 L1685.76 2361.78 L1679.9 2361.78 L1679.9 2356.37 Q1677.89 2359.62 1674.9 2361.18 Q1671.91 2362.71 1667.58 2362.71 Q1662.11 2362.71 1658.86 2359.65 Q1655.65 2356.56 1655.65 2351.41 Q1655.65 2345.39 1659.66 2342.34 Q1663.7 2339.28 1671.69 2339.28 L1679.9 2339.28 L1679.9 2338.71 Q1679.9 2334.67 1677.23 2332.47 Q1674.58 2330.24 1669.78 2330.24 Q1666.72 2330.24 1663.83 2330.97 Q1660.93 2331.71 1658.26 2333.17 L1658.26 2327.76 Q1661.47 2326.52 1664.49 2325.91 Q1667.52 2325.28 1670.38 2325.28 Q1678.12 2325.28 1681.94 2329.29 Q1685.76 2333.3 1685.76 2341.45 Z\" fill=\"#000000\" fill-rule=\"evenodd\" fill-opacity=\"1\" /><path clip-path=\"url(#clip880)\" d=\"M1727.45 2340.27 L1727.45 2361.78 L1721.59 2361.78 L1721.59 2340.46 Q1721.59 2335.4 1719.62 2332.88 Q1717.65 2330.37 1713.7 2330.37 Q1708.96 2330.37 1706.22 2333.39 Q1703.48 2336.42 1703.48 2341.64 L1703.48 2361.78 L1697.6 2361.78 L1697.6 2326.14 L1703.48 2326.14 L1703.48 2331.67 Q1705.58 2328.46 1708.42 2326.87 Q1711.28 2325.28 1715.01 2325.28 Q1721.15 2325.28 1724.3 2329.1 Q1727.45 2332.88 1727.45 2340.27 Z\" fill=\"#000000\" fill-rule=\"evenodd\" fill-opacity=\"1\" /><path clip-path=\"url(#clip880)\" d=\"M1755.33 2343.86 Q1748.23 2343.86 1745.5 2345.49 Q1742.76 2347.11 1742.76 2351.03 Q1742.76 2354.14 1744.8 2355.99 Q1746.87 2357.81 1750.4 2357.81 Q1755.27 2357.81 1758.2 2354.37 Q1761.16 2350.9 1761.16 2345.17 L1761.16 2343.86 L1755.33 2343.86 M1767.01 2341.45 L1767.01 2361.78 L1761.16 2361.78 L1761.16 2356.37 Q1759.15 2359.62 1756.16 2361.18 Q1753.17 2362.71 1748.84 2362.71 Q1743.36 2362.71 1740.12 2359.65 Q1736.9 2356.56 1736.9 2351.41 Q1736.9 2345.39 1740.91 2342.34 Q1744.96 2339.28 1752.95 2339.28 L1761.16 2339.28 L1761.16 2338.71 Q1761.16 2334.67 1758.48 2332.47 Q1755.84 2330.24 1751.04 2330.24 Q1747.98 2330.24 1745.08 2330.97 Q1742.19 2331.71 1739.51 2333.17 L1739.51 2327.76 Q1742.73 2326.52 1745.75 2325.91 Q1748.78 2325.28 1751.64 2325.28 Q1759.37 2325.28 1763.19 2329.29 Q1767.01 2333.3 1767.01 2341.45 Z\" fill=\"#000000\" fill-rule=\"evenodd\" fill-opacity=\"1\" /><path clip-path=\"url(#clip880)\" d=\"M1799.26 2312.26 L1812.75 2312.26 L1812.75 2316.81 L1805.11 2316.81 L1805.11 2365.83 L1812.75 2365.83 L1812.75 2370.38 L1799.26 2370.38 L1799.26 2312.26 Z\" fill=\"#000000\" fill-rule=\"evenodd\" fill-opacity=\"1\" /><path clip-path=\"url(#clip880)\" d=\"M1866.48 2340.87 Q1863.71 2340.87 1862.12 2343.23 Q1860.56 2345.58 1860.56 2349.78 Q1860.56 2353.92 1862.12 2356.31 Q1863.71 2358.66 1866.48 2358.66 Q1869.18 2358.66 1870.74 2356.31 Q1872.33 2353.92 1872.33 2349.78 Q1872.33 2345.61 1870.74 2343.26 Q1869.18 2340.87 1866.48 2340.87 M1866.48 2336.83 Q1871.51 2336.83 1874.47 2340.33 Q1877.43 2343.83 1877.43 2349.78 Q1877.43 2355.74 1874.43 2359.24 Q1871.47 2362.71 1866.48 2362.71 Q1861.38 2362.71 1858.42 2359.24 Q1855.46 2355.74 1855.46 2349.78 Q1855.46 2343.8 1858.42 2340.33 Q1861.42 2336.83 1866.48 2336.83 M1833.63 2317.45 Q1830.89 2317.45 1829.3 2319.83 Q1827.74 2322.19 1827.74 2326.33 Q1827.74 2330.53 1829.3 2332.88 Q1830.86 2335.24 1833.63 2335.24 Q1836.4 2335.24 1837.96 2332.88 Q1839.55 2330.53 1839.55 2326.33 Q1839.55 2322.22 1837.96 2319.83 Q1836.37 2317.45 1833.63 2317.45 M1862.37 2313.4 L1867.46 2313.4 L1837.74 2362.71 L1832.64 2362.71 L1862.37 2313.4 M1833.63 2313.4 Q1838.66 2313.4 1841.65 2316.91 Q1844.64 2320.37 1844.64 2326.33 Q1844.64 2332.34 1841.65 2335.81 Q1838.69 2339.28 1833.63 2339.28 Q1828.57 2339.28 1825.61 2335.81 Q1822.68 2332.31 1822.68 2326.33 Q1822.68 2320.41 1825.64 2316.91 Q1828.6 2313.4 1833.63 2313.4 Z\" fill=\"#000000\" fill-rule=\"evenodd\" fill-opacity=\"1\" /><path clip-path=\"url(#clip880)\" d=\"M1900.85 2312.26 L1900.85 2370.38 L1887.36 2370.38 L1887.36 2365.83 L1894.96 2365.83 L1894.96 2316.81 L1887.36 2316.81 L1887.36 2312.26 L1900.85 2312.26 Z\" fill=\"#000000\" fill-rule=\"evenodd\" fill-opacity=\"1\" /><polyline clip-path=\"url(#clip882)\" style=\"stroke:#000000; stroke-linecap:round; stroke-linejoin:round; stroke-width:2; stroke-opacity:0.1; fill:none\" points=\"276.491,2123.84 3152.76,2123.84 \"/>\n",
       "<polyline clip-path=\"url(#clip882)\" style=\"stroke:#000000; stroke-linecap:round; stroke-linejoin:round; stroke-width:2; stroke-opacity:0.1; fill:none\" points=\"276.491,1699.59 3152.76,1699.59 \"/>\n",
       "<polyline clip-path=\"url(#clip882)\" style=\"stroke:#000000; stroke-linecap:round; stroke-linejoin:round; stroke-width:2; stroke-opacity:0.1; fill:none\" points=\"276.491,1275.33 3152.76,1275.33 \"/>\n",
       "<polyline clip-path=\"url(#clip882)\" style=\"stroke:#000000; stroke-linecap:round; stroke-linejoin:round; stroke-width:2; stroke-opacity:0.1; fill:none\" points=\"276.491,851.083 3152.76,851.083 \"/>\n",
       "<polyline clip-path=\"url(#clip882)\" style=\"stroke:#000000; stroke-linecap:round; stroke-linejoin:round; stroke-width:2; stroke-opacity:0.1; fill:none\" points=\"276.491,426.831 3152.76,426.831 \"/>\n",
       "<polyline clip-path=\"url(#clip880)\" style=\"stroke:#000000; stroke-linecap:round; stroke-linejoin:round; stroke-width:4; stroke-opacity:1; fill:none\" points=\"276.491,2204.92 276.491,131.032 \"/>\n",
       "<polyline clip-path=\"url(#clip880)\" style=\"stroke:#000000; stroke-linecap:round; stroke-linejoin:round; stroke-width:4; stroke-opacity:1; fill:none\" points=\"276.491,2123.84 295.389,2123.84 \"/>\n",
       "<polyline clip-path=\"url(#clip880)\" style=\"stroke:#000000; stroke-linecap:round; stroke-linejoin:round; stroke-width:4; stroke-opacity:1; fill:none\" points=\"276.491,1699.59 295.389,1699.59 \"/>\n",
       "<polyline clip-path=\"url(#clip880)\" style=\"stroke:#000000; stroke-linecap:round; stroke-linejoin:round; stroke-width:4; stroke-opacity:1; fill:none\" points=\"276.491,1275.33 295.389,1275.33 \"/>\n",
       "<polyline clip-path=\"url(#clip880)\" style=\"stroke:#000000; stroke-linecap:round; stroke-linejoin:round; stroke-width:4; stroke-opacity:1; fill:none\" points=\"276.491,851.083 295.389,851.083 \"/>\n",
       "<polyline clip-path=\"url(#clip880)\" style=\"stroke:#000000; stroke-linecap:round; stroke-linejoin:round; stroke-width:4; stroke-opacity:1; fill:none\" points=\"276.491,426.831 295.389,426.831 \"/>\n",
       "<path clip-path=\"url(#clip880)\" d=\"M159.07 2110.63 L147.265 2129.08 L159.07 2129.08 L159.07 2110.63 M157.843 2106.56 L163.723 2106.56 L163.723 2129.08 L168.654 2129.08 L168.654 2132.97 L163.723 2132.97 L163.723 2141.12 L159.07 2141.12 L159.07 2132.97 L143.469 2132.97 L143.469 2128.45 L157.843 2106.56 Z\" fill=\"#000000\" fill-rule=\"evenodd\" fill-opacity=\"1\" /><path clip-path=\"url(#clip880)\" d=\"M186.385 2109.64 Q182.774 2109.64 180.945 2113.2 Q179.14 2116.74 179.14 2123.87 Q179.14 2130.98 180.945 2134.54 Q182.774 2138.08 186.385 2138.08 Q190.019 2138.08 191.825 2134.54 Q193.653 2130.98 193.653 2123.87 Q193.653 2116.74 191.825 2113.2 Q190.019 2109.64 186.385 2109.64 M186.385 2105.93 Q192.195 2105.93 195.251 2110.54 Q198.329 2115.12 198.329 2123.87 Q198.329 2132.6 195.251 2137.2 Q192.195 2141.79 186.385 2141.79 Q180.575 2141.79 177.496 2137.2 Q174.441 2132.6 174.441 2123.87 Q174.441 2115.12 177.496 2110.54 Q180.575 2105.93 186.385 2105.93 Z\" fill=\"#000000\" fill-rule=\"evenodd\" fill-opacity=\"1\" /><path clip-path=\"url(#clip880)\" d=\"M216.547 2109.64 Q212.936 2109.64 211.107 2113.2 Q209.302 2116.74 209.302 2123.87 Q209.302 2130.98 211.107 2134.54 Q212.936 2138.08 216.547 2138.08 Q220.181 2138.08 221.987 2134.54 Q223.815 2130.98 223.815 2123.87 Q223.815 2116.74 221.987 2113.2 Q220.181 2109.64 216.547 2109.64 M216.547 2105.93 Q222.357 2105.93 225.413 2110.54 Q228.491 2115.12 228.491 2123.87 Q228.491 2132.6 225.413 2137.2 Q222.357 2141.79 216.547 2141.79 Q210.737 2141.79 207.658 2137.2 Q204.602 2132.6 204.602 2123.87 Q204.602 2115.12 207.658 2110.54 Q210.737 2105.93 216.547 2105.93 Z\" fill=\"#000000\" fill-rule=\"evenodd\" fill-opacity=\"1\" /><path clip-path=\"url(#clip880)\" d=\"M156.802 1697.72 Q153.654 1697.72 151.802 1699.87 Q149.973 1702.03 149.973 1705.78 Q149.973 1709.5 151.802 1711.68 Q153.654 1713.83 156.802 1713.83 Q159.95 1713.83 161.779 1711.68 Q163.63 1709.5 163.63 1705.78 Q163.63 1702.03 161.779 1699.87 Q159.95 1697.72 156.802 1697.72 M166.084 1683.07 L166.084 1687.33 Q164.325 1686.5 162.519 1686.06 Q160.737 1685.62 158.978 1685.62 Q154.348 1685.62 151.894 1688.74 Q149.464 1691.87 149.117 1698.19 Q150.482 1696.17 152.543 1695.11 Q154.603 1694.02 157.08 1694.02 Q162.288 1694.02 165.297 1697.19 Q168.33 1700.34 168.33 1705.78 Q168.33 1711.1 165.181 1714.32 Q162.033 1717.54 156.802 1717.54 Q150.806 1717.54 147.635 1712.95 Q144.464 1708.35 144.464 1699.62 Q144.464 1691.43 148.353 1686.56 Q152.242 1681.68 158.793 1681.68 Q160.552 1681.68 162.334 1682.03 Q164.14 1682.37 166.084 1683.07 Z\" fill=\"#000000\" fill-rule=\"evenodd\" fill-opacity=\"1\" /><path clip-path=\"url(#clip880)\" d=\"M186.385 1685.38 Q182.774 1685.38 180.945 1688.95 Q179.14 1692.49 179.14 1699.62 Q179.14 1706.73 180.945 1710.29 Q182.774 1713.83 186.385 1713.83 Q190.019 1713.83 191.825 1710.29 Q193.653 1706.73 193.653 1699.62 Q193.653 1692.49 191.825 1688.95 Q190.019 1685.38 186.385 1685.38 M186.385 1681.68 Q192.195 1681.68 195.251 1686.29 Q198.329 1690.87 198.329 1699.62 Q198.329 1708.35 195.251 1712.95 Q192.195 1717.54 186.385 1717.54 Q180.575 1717.54 177.496 1712.95 Q174.441 1708.35 174.441 1699.62 Q174.441 1690.87 177.496 1686.29 Q180.575 1681.68 186.385 1681.68 Z\" fill=\"#000000\" fill-rule=\"evenodd\" fill-opacity=\"1\" /><path clip-path=\"url(#clip880)\" d=\"M216.547 1685.38 Q212.936 1685.38 211.107 1688.95 Q209.302 1692.49 209.302 1699.62 Q209.302 1706.73 211.107 1710.29 Q212.936 1713.83 216.547 1713.83 Q220.181 1713.83 221.987 1710.29 Q223.815 1706.73 223.815 1699.62 Q223.815 1692.49 221.987 1688.95 Q220.181 1685.38 216.547 1685.38 M216.547 1681.68 Q222.357 1681.68 225.413 1686.29 Q228.491 1690.87 228.491 1699.62 Q228.491 1708.35 225.413 1712.95 Q222.357 1717.54 216.547 1717.54 Q210.737 1717.54 207.658 1712.95 Q204.602 1708.35 204.602 1699.62 Q204.602 1690.87 207.658 1686.29 Q210.737 1681.68 216.547 1681.68 Z\" fill=\"#000000\" fill-rule=\"evenodd\" fill-opacity=\"1\" /><path clip-path=\"url(#clip880)\" d=\"M156.223 1276.2 Q152.89 1276.2 150.968 1277.98 Q149.07 1279.77 149.07 1282.89 Q149.07 1286.02 150.968 1287.8 Q152.89 1289.58 156.223 1289.58 Q159.556 1289.58 161.478 1287.8 Q163.399 1285.99 163.399 1282.89 Q163.399 1279.77 161.478 1277.98 Q159.58 1276.2 156.223 1276.2 M151.547 1274.21 Q148.538 1273.47 146.848 1271.41 Q145.181 1269.35 145.181 1266.39 Q145.181 1262.24 148.121 1259.84 Q151.084 1257.43 156.223 1257.43 Q161.385 1257.43 164.325 1259.84 Q167.265 1262.24 167.265 1266.39 Q167.265 1269.35 165.575 1271.41 Q163.908 1273.47 160.922 1274.21 Q164.302 1275 166.177 1277.29 Q168.075 1279.58 168.075 1282.89 Q168.075 1287.92 164.996 1290.6 Q161.941 1293.29 156.223 1293.29 Q150.506 1293.29 147.427 1290.6 Q144.371 1287.92 144.371 1282.89 Q144.371 1279.58 146.269 1277.29 Q148.168 1275 151.547 1274.21 M149.834 1266.83 Q149.834 1269.51 151.501 1271.02 Q153.191 1272.52 156.223 1272.52 Q159.232 1272.52 160.922 1271.02 Q162.635 1269.51 162.635 1266.83 Q162.635 1264.14 160.922 1262.64 Q159.232 1261.13 156.223 1261.13 Q153.191 1261.13 151.501 1262.64 Q149.834 1264.14 149.834 1266.83 Z\" fill=\"#000000\" fill-rule=\"evenodd\" fill-opacity=\"1\" /><path clip-path=\"url(#clip880)\" d=\"M186.385 1261.13 Q182.774 1261.13 180.945 1264.7 Q179.14 1268.24 179.14 1275.37 Q179.14 1282.48 180.945 1286.04 Q182.774 1289.58 186.385 1289.58 Q190.019 1289.58 191.825 1286.04 Q193.653 1282.48 193.653 1275.37 Q193.653 1268.24 191.825 1264.7 Q190.019 1261.13 186.385 1261.13 M186.385 1257.43 Q192.195 1257.43 195.251 1262.04 Q198.329 1266.62 198.329 1275.37 Q198.329 1284.1 195.251 1288.7 Q192.195 1293.29 186.385 1293.29 Q180.575 1293.29 177.496 1288.7 Q174.441 1284.1 174.441 1275.37 Q174.441 1266.62 177.496 1262.04 Q180.575 1257.43 186.385 1257.43 Z\" fill=\"#000000\" fill-rule=\"evenodd\" fill-opacity=\"1\" /><path clip-path=\"url(#clip880)\" d=\"M216.547 1261.13 Q212.936 1261.13 211.107 1264.7 Q209.302 1268.24 209.302 1275.37 Q209.302 1282.48 211.107 1286.04 Q212.936 1289.58 216.547 1289.58 Q220.181 1289.58 221.987 1286.04 Q223.815 1282.48 223.815 1275.37 Q223.815 1268.24 221.987 1264.7 Q220.181 1261.13 216.547 1261.13 M216.547 1257.43 Q222.357 1257.43 225.413 1262.04 Q228.491 1266.62 228.491 1275.37 Q228.491 1284.1 225.413 1288.7 Q222.357 1293.29 216.547 1293.29 Q210.737 1293.29 207.658 1288.7 Q204.602 1284.1 204.602 1275.37 Q204.602 1266.62 207.658 1262.04 Q210.737 1257.43 216.547 1257.43 Z\" fill=\"#000000\" fill-rule=\"evenodd\" fill-opacity=\"1\" /><path clip-path=\"url(#clip880)\" d=\"M116.871 864.427 L124.51 864.427 L124.51 838.062 L116.2 839.729 L116.2 835.469 L124.464 833.803 L129.14 833.803 L129.14 864.427 L136.779 864.427 L136.779 868.363 L116.871 868.363 L116.871 864.427 Z\" fill=\"#000000\" fill-rule=\"evenodd\" fill-opacity=\"1\" /><path clip-path=\"url(#clip880)\" d=\"M156.223 836.881 Q152.612 836.881 150.783 840.446 Q148.978 843.988 148.978 851.117 Q148.978 858.224 150.783 861.789 Q152.612 865.33 156.223 865.33 Q159.857 865.33 161.663 861.789 Q163.492 858.224 163.492 851.117 Q163.492 843.988 161.663 840.446 Q159.857 836.881 156.223 836.881 M156.223 833.178 Q162.033 833.178 165.089 837.784 Q168.167 842.367 168.167 851.117 Q168.167 859.844 165.089 864.451 Q162.033 869.034 156.223 869.034 Q150.413 869.034 147.334 864.451 Q144.279 859.844 144.279 851.117 Q144.279 842.367 147.334 837.784 Q150.413 833.178 156.223 833.178 Z\" fill=\"#000000\" fill-rule=\"evenodd\" fill-opacity=\"1\" /><path clip-path=\"url(#clip880)\" d=\"M186.385 836.881 Q182.774 836.881 180.945 840.446 Q179.14 843.988 179.14 851.117 Q179.14 858.224 180.945 861.789 Q182.774 865.33 186.385 865.33 Q190.019 865.33 191.825 861.789 Q193.653 858.224 193.653 851.117 Q193.653 843.988 191.825 840.446 Q190.019 836.881 186.385 836.881 M186.385 833.178 Q192.195 833.178 195.251 837.784 Q198.329 842.367 198.329 851.117 Q198.329 859.844 195.251 864.451 Q192.195 869.034 186.385 869.034 Q180.575 869.034 177.496 864.451 Q174.441 859.844 174.441 851.117 Q174.441 842.367 177.496 837.784 Q180.575 833.178 186.385 833.178 Z\" fill=\"#000000\" fill-rule=\"evenodd\" fill-opacity=\"1\" /><path clip-path=\"url(#clip880)\" d=\"M216.547 836.881 Q212.936 836.881 211.107 840.446 Q209.302 843.988 209.302 851.117 Q209.302 858.224 211.107 861.789 Q212.936 865.33 216.547 865.33 Q220.181 865.33 221.987 861.789 Q223.815 858.224 223.815 851.117 Q223.815 843.988 221.987 840.446 Q220.181 836.881 216.547 836.881 M216.547 833.178 Q222.357 833.178 225.413 837.784 Q228.491 842.367 228.491 851.117 Q228.491 859.844 225.413 864.451 Q222.357 869.034 216.547 869.034 Q210.737 869.034 207.658 864.451 Q204.602 859.844 204.602 851.117 Q204.602 842.367 207.658 837.784 Q210.737 833.178 216.547 833.178 Z\" fill=\"#000000\" fill-rule=\"evenodd\" fill-opacity=\"1\" /><path clip-path=\"url(#clip880)\" d=\"M116.871 440.176 L124.51 440.176 L124.51 413.81 L116.2 415.477 L116.2 411.218 L124.464 409.551 L129.14 409.551 L129.14 440.176 L136.779 440.176 L136.779 444.111 L116.871 444.111 L116.871 440.176 Z\" fill=\"#000000\" fill-rule=\"evenodd\" fill-opacity=\"1\" /><path clip-path=\"url(#clip880)\" d=\"M150.251 440.176 L166.57 440.176 L166.57 444.111 L144.626 444.111 L144.626 440.176 Q147.288 437.421 151.871 432.792 Q156.478 428.139 157.658 426.796 Q159.904 424.273 160.783 422.537 Q161.686 420.778 161.686 419.088 Q161.686 416.334 159.742 414.597 Q157.82 412.861 154.718 412.861 Q152.519 412.861 150.066 413.625 Q147.635 414.389 144.857 415.94 L144.857 411.218 Q147.681 410.084 150.135 409.505 Q152.589 408.926 154.626 408.926 Q159.996 408.926 163.191 411.611 Q166.385 414.297 166.385 418.787 Q166.385 420.917 165.575 422.838 Q164.788 424.736 162.681 427.329 Q162.103 428 159.001 431.218 Q155.899 434.412 150.251 440.176 Z\" fill=\"#000000\" fill-rule=\"evenodd\" fill-opacity=\"1\" /><path clip-path=\"url(#clip880)\" d=\"M186.385 412.63 Q182.774 412.63 180.945 416.195 Q179.14 419.736 179.14 426.866 Q179.14 433.972 180.945 437.537 Q182.774 441.079 186.385 441.079 Q190.019 441.079 191.825 437.537 Q193.653 433.972 193.653 426.866 Q193.653 419.736 191.825 416.195 Q190.019 412.63 186.385 412.63 M186.385 408.926 Q192.195 408.926 195.251 413.533 Q198.329 418.116 198.329 426.866 Q198.329 435.593 195.251 440.199 Q192.195 444.783 186.385 444.783 Q180.575 444.783 177.496 440.199 Q174.441 435.593 174.441 426.866 Q174.441 418.116 177.496 413.533 Q180.575 408.926 186.385 408.926 Z\" fill=\"#000000\" fill-rule=\"evenodd\" fill-opacity=\"1\" /><path clip-path=\"url(#clip880)\" d=\"M216.547 412.63 Q212.936 412.63 211.107 416.195 Q209.302 419.736 209.302 426.866 Q209.302 433.972 211.107 437.537 Q212.936 441.079 216.547 441.079 Q220.181 441.079 221.987 437.537 Q223.815 433.972 223.815 426.866 Q223.815 419.736 221.987 416.195 Q220.181 412.63 216.547 412.63 M216.547 408.926 Q222.357 408.926 225.413 413.533 Q228.491 418.116 228.491 426.866 Q228.491 435.593 225.413 440.199 Q222.357 444.783 216.547 444.783 Q210.737 444.783 207.658 440.199 Q204.602 435.593 204.602 426.866 Q204.602 418.116 207.658 413.533 Q210.737 408.926 216.547 408.926 Z\" fill=\"#000000\" fill-rule=\"evenodd\" fill-opacity=\"1\" /><path clip-path=\"url(#clip880)\" d=\"M11.7077 1242.58 L29.5635 1242.58 L29.5635 1234.5 Q29.5635 1230.01 27.24 1227.56 Q24.9165 1225.11 20.6197 1225.11 Q16.3547 1225.11 14.0312 1227.56 Q11.7077 1230.01 11.7077 1234.5 L11.7077 1242.58 M6.42416 1249.01 L6.42416 1234.5 Q6.42416 1226.51 10.0526 1222.43 Q13.6492 1218.33 20.6197 1218.33 Q27.6538 1218.33 31.2504 1222.43 Q34.847 1226.51 34.847 1234.5 L34.847 1242.58 L53.9442 1242.58 L53.9442 1249.01 L6.42416 1249.01 Z\" fill=\"#000000\" fill-rule=\"evenodd\" fill-opacity=\"1\" /><path clip-path=\"url(#clip880)\" d=\"M23.7707 1190.45 Q23.1978 1191.43 22.9432 1192.61 Q22.6567 1193.76 22.6567 1195.16 Q22.6567 1200.12 25.9032 1202.8 Q29.1179 1205.44 35.1653 1205.44 L53.9442 1205.44 L53.9442 1211.33 L18.2962 1211.33 L18.2962 1205.44 L23.8344 1205.44 Q20.5879 1203.59 19.0283 1200.63 Q17.4368 1197.67 17.4368 1193.44 Q17.4368 1192.83 17.5323 1192.1 Q17.596 1191.37 17.7551 1190.48 L23.7707 1190.45 Z\" fill=\"#000000\" fill-rule=\"evenodd\" fill-opacity=\"1\" /><path clip-path=\"url(#clip880)\" d=\"M22.4021 1171.92 Q22.4021 1176.63 26.0942 1179.37 Q29.7545 1182.11 36.152 1182.11 Q42.5495 1182.11 46.2417 1179.4 Q49.9019 1176.67 49.9019 1171.92 Q49.9019 1167.24 46.2098 1164.51 Q42.5177 1161.77 36.152 1161.77 Q29.8181 1161.77 26.126 1164.51 Q22.4021 1167.24 22.4021 1171.92 M17.4368 1171.92 Q17.4368 1164.28 22.4021 1159.92 Q27.3673 1155.56 36.152 1155.56 Q44.9049 1155.56 49.9019 1159.92 Q54.8672 1164.28 54.8672 1171.92 Q54.8672 1179.59 49.9019 1183.95 Q44.9049 1188.28 36.152 1188.28 Q27.3673 1188.28 22.4021 1183.95 Q17.4368 1179.59 17.4368 1171.92 Z\" fill=\"#000000\" fill-rule=\"evenodd\" fill-opacity=\"1\" /><path clip-path=\"url(#clip880)\" d=\"M4.41896 1127.81 L9.28873 1127.81 L9.28873 1133.41 Q9.28873 1136.56 10.5619 1137.8 Q11.835 1139.01 15.1452 1139.01 L18.2962 1139.01 L18.2962 1129.37 L22.8477 1129.37 L22.8477 1139.01 L53.9442 1139.01 L53.9442 1144.9 L22.8477 1144.9 L22.8477 1150.5 L18.2962 1150.5 L18.2962 1144.9 L15.8136 1144.9 Q9.86164 1144.9 7.15621 1142.13 Q4.41896 1139.36 4.41896 1133.35 L4.41896 1127.81 Z\" fill=\"#000000\" fill-rule=\"evenodd\" fill-opacity=\"1\" /><path clip-path=\"url(#clip880)\" d=\"M18.2962 1122.91 L18.2962 1117.05 L53.9442 1117.05 L53.9442 1122.91 L18.2962 1122.91 M4.41896 1122.91 L4.41896 1117.05 L11.835 1117.05 L11.835 1122.91 L4.41896 1122.91 Z\" fill=\"#000000\" fill-rule=\"evenodd\" fill-opacity=\"1\" /><path clip-path=\"url(#clip880)\" d=\"M8.17473 1099 L18.2962 1099 L18.2962 1086.94 L22.8477 1086.94 L22.8477 1099 L42.1994 1099 Q46.5599 1099 47.8013 1097.83 Q49.0426 1096.62 49.0426 1092.96 L49.0426 1086.94 L53.9442 1086.94 L53.9442 1092.96 Q53.9442 1099.74 51.4297 1102.31 Q48.8834 1104.89 42.1994 1104.89 L22.8477 1104.89 L22.8477 1109.19 L18.2962 1109.19 L18.2962 1104.89 L8.17473 1104.89 L8.17473 1099 Z\" fill=\"#000000\" fill-rule=\"evenodd\" fill-opacity=\"1\" /><path clip-path=\"url(#clip880)\" d=\"M418.192 12.096 L426.456 12.096 L439.176 63.2184 L451.855 12.096 L461.051 12.096 L473.771 63.2184 L486.45 12.096 L494.755 12.096 L479.564 72.576 L469.274 72.576 L456.514 20.0763 L443.632 72.576 L433.343 72.576 L418.192 12.096 Z\" fill=\"#000000\" fill-rule=\"evenodd\" fill-opacity=\"1\" /><path clip-path=\"url(#clip880)\" d=\"M522.706 76.7889 Q519.546 84.8907 516.548 87.3618 Q513.551 89.8329 508.528 89.8329 L502.573 89.8329 L502.573 83.5945 L506.948 83.5945 Q510.026 83.5945 511.728 82.1361 Q513.429 80.6778 515.495 75.2496 L516.832 71.8468 L498.481 27.2059 L506.381 27.2059 L520.559 62.6918 L534.737 27.2059 L542.636 27.2059 L522.706 76.7889 Z\" fill=\"#000000\" fill-rule=\"evenodd\" fill-opacity=\"1\" /><path clip-path=\"url(#clip880)\" d=\"M552.642 9.54393 L560.136 9.54393 L560.136 46.7717 L582.376 27.2059 L591.895 27.2059 L567.833 48.4326 L592.908 72.576 L583.186 72.576 L560.136 50.4176 L560.136 72.576 L552.642 72.576 L552.642 9.54393 Z\" fill=\"#000000\" fill-rule=\"evenodd\" fill-opacity=\"1\" /><path clip-path=\"url(#clip880)\" d=\"M627.26 34.1734 Q626.004 33.4443 624.505 33.1202 Q623.047 32.7556 621.264 32.7556 Q614.945 32.7556 611.542 36.8875 Q608.18 40.9789 608.18 48.6757 L608.18 72.576 L600.686 72.576 L600.686 27.2059 L608.18 27.2059 L608.18 34.2544 Q610.529 30.1225 614.297 28.1376 Q618.064 26.1121 623.452 26.1121 Q624.221 26.1121 625.153 26.2337 Q626.085 26.3147 627.219 26.5172 L627.26 34.1734 Z\" fill=\"#000000\" fill-rule=\"evenodd\" fill-opacity=\"1\" /><path clip-path=\"url(#clip880)\" d=\"M672.063 48.0275 L672.063 51.6733 L637.792 51.6733 Q638.278 59.3701 642.41 63.421 Q646.582 67.4314 653.996 67.4314 Q658.29 67.4314 662.3 66.3781 Q666.351 65.3249 670.321 63.2184 L670.321 70.267 Q666.31 71.9684 662.097 72.8596 Q657.884 73.7508 653.55 73.7508 Q642.694 73.7508 636.334 67.4314 Q630.014 61.1119 630.014 50.3365 Q630.014 39.1965 636.01 32.6746 Q642.045 26.1121 652.254 26.1121 Q661.409 26.1121 666.715 32.0264 Q672.063 37.9003 672.063 48.0275 M664.609 45.84 Q664.528 39.7232 661.166 36.0774 Q657.844 32.4315 652.335 32.4315 Q646.096 32.4315 642.329 35.9558 Q638.602 39.4801 638.035 45.8805 L664.609 45.84 Z\" fill=\"#000000\" fill-rule=\"evenodd\" fill-opacity=\"1\" /><path clip-path=\"url(#clip880)\" d=\"M713.22 28.5427 L713.22 35.5912 Q710.06 33.9709 706.657 33.1607 Q703.255 32.3505 699.609 32.3505 Q694.059 32.3505 691.264 34.0519 Q688.509 35.7533 688.509 39.156 Q688.509 41.7486 690.494 43.2475 Q692.479 44.7058 698.474 46.0426 L701.027 46.6097 Q708.966 48.3111 712.288 51.4303 Q715.65 54.509 715.65 60.0587 Q715.65 66.3781 710.627 70.0644 Q705.645 73.7508 696.895 73.7508 Q693.249 73.7508 689.279 73.0216 Q685.35 72.3329 680.975 70.9151 L680.975 63.2184 Q685.107 65.3654 689.117 66.4591 Q693.127 67.5124 697.057 67.5124 Q702.323 67.5124 705.158 65.73 Q707.994 63.9071 707.994 60.6258 Q707.994 57.5877 705.928 55.9673 Q703.903 54.3469 696.976 52.8481 L694.383 52.2405 Q687.456 50.7821 684.377 47.7845 Q681.299 44.7463 681.299 39.4801 Q681.299 33.0797 685.836 29.5959 Q690.373 26.1121 698.718 26.1121 Q702.849 26.1121 706.495 26.7198 Q710.141 27.3274 713.22 28.5427 Z\" fill=\"#000000\" fill-rule=\"evenodd\" fill-opacity=\"1\" /><path clip-path=\"url(#clip880)\" d=\"M750.65 27.2059 L786.055 27.2059 L786.055 34.0114 L758.023 66.6212 L786.055 66.6212 L786.055 72.576 L749.637 72.576 L749.637 65.7705 L777.67 33.1607 L750.65 33.1607 L750.65 27.2059 Z\" fill=\"#000000\" fill-rule=\"evenodd\" fill-opacity=\"1\" /><path clip-path=\"url(#clip880)\" d=\"M832.762 35.9153 Q835.557 30.8922 839.446 28.5022 Q843.335 26.1121 848.601 26.1121 Q855.69 26.1121 859.538 31.0947 Q863.387 36.0368 863.387 45.1919 L863.387 72.576 L855.893 72.576 L855.893 45.4349 Q855.893 38.913 853.584 35.7533 Q851.275 32.5936 846.535 32.5936 Q840.742 32.5936 837.38 36.4419 Q834.018 40.2903 834.018 46.9338 L834.018 72.576 L826.524 72.576 L826.524 45.4349 Q826.524 38.8725 824.215 35.7533 Q821.906 32.5936 817.085 32.5936 Q811.373 32.5936 808.011 36.4824 Q804.649 40.3308 804.649 46.9338 L804.649 72.576 L797.155 72.576 L797.155 27.2059 L804.649 27.2059 L804.649 34.2544 Q807.201 30.082 810.766 28.0971 Q814.33 26.1121 819.232 26.1121 Q824.174 26.1121 827.617 28.6237 Q831.101 31.1352 832.762 35.9153 Z\" fill=\"#000000\" fill-rule=\"evenodd\" fill-opacity=\"1\" /><path clip-path=\"url(#clip880)\" d=\"M878.254 27.2059 L885.707 27.2059 L885.707 72.576 L878.254 72.576 L878.254 27.2059 M878.254 9.54393 L885.707 9.54393 L885.707 18.9825 L878.254 18.9825 L878.254 9.54393 Z\" fill=\"#000000\" fill-rule=\"evenodd\" fill-opacity=\"1\" /><path clip-path=\"url(#clip880)\" d=\"M921.922 49.7694 Q912.889 49.7694 909.405 51.8354 Q905.921 53.9013 905.921 58.8839 Q905.921 62.8538 908.514 65.2034 Q911.147 67.5124 915.643 67.5124 Q921.841 67.5124 925.568 63.1374 Q929.336 58.7219 929.336 51.4303 L929.336 49.7694 L921.922 49.7694 M936.789 46.6907 L936.789 72.576 L929.336 72.576 L929.336 65.6895 Q926.783 69.8214 922.976 71.8063 Q919.168 73.7508 913.659 73.7508 Q906.691 73.7508 902.559 69.8619 Q898.468 65.9325 898.468 59.3701 Q898.468 51.7138 903.572 47.825 Q908.716 43.9361 918.884 43.9361 L929.336 43.9361 L929.336 43.2069 Q929.336 38.0623 925.933 35.2672 Q922.571 32.4315 916.454 32.4315 Q912.565 32.4315 908.878 33.3632 Q905.192 34.295 901.789 36.1584 L901.789 29.2718 Q905.881 27.692 909.729 26.9223 Q913.578 26.1121 917.223 26.1121 Q927.067 26.1121 931.928 31.2163 Q936.789 36.3204 936.789 46.6907 Z\" fill=\"#000000\" fill-rule=\"evenodd\" fill-opacity=\"1\" /><path clip-path=\"url(#clip880)\" d=\"M989.856 45.1919 L989.856 72.576 L982.402 72.576 L982.402 45.4349 Q982.402 38.994 979.891 35.7938 Q977.379 32.5936 972.356 32.5936 Q966.32 32.5936 962.837 36.4419 Q959.353 40.2903 959.353 46.9338 L959.353 72.576 L951.859 72.576 L951.859 27.2059 L959.353 27.2059 L959.353 34.2544 Q962.026 30.163 965.632 28.1376 Q969.277 26.1121 974.017 26.1121 Q981.835 26.1121 985.846 30.9732 Q989.856 35.7938 989.856 45.1919 Z\" fill=\"#000000\" fill-rule=\"evenodd\" fill-opacity=\"1\" /><path clip-path=\"url(#clip880)\" d=\"M1023.6 76.7889 Q1020.44 84.8907 1017.44 87.3618 Q1014.45 89.8329 1009.42 89.8329 L1003.47 89.8329 L1003.47 83.5945 L1007.84 83.5945 Q1010.92 83.5945 1012.62 82.1361 Q1014.32 80.6778 1016.39 75.2496 L1017.73 71.8468 L999.376 27.2059 L1007.27 27.2059 L1021.45 62.6918 L1035.63 27.2059 L1043.53 27.2059 L1023.6 76.7889 Z\" fill=\"#000000\" fill-rule=\"evenodd\" fill-opacity=\"1\" /><path clip-path=\"url(#clip880)\" d=\"M1087.4 65.7705 L1087.4 89.8329 L1079.91 89.8329 L1079.91 27.2059 L1087.4 27.2059 L1087.4 34.0924 Q1089.75 30.0415 1093.32 28.0971 Q1096.92 26.1121 1101.9 26.1121 Q1110.17 26.1121 1115.31 32.6746 Q1120.5 39.2371 1120.5 49.9314 Q1120.5 60.6258 1115.31 67.1883 Q1110.17 73.7508 1101.9 73.7508 Q1096.92 73.7508 1093.32 71.8063 Q1089.75 69.8214 1087.4 65.7705 M1112.76 49.9314 Q1112.76 41.7081 1109.36 37.0496 Q1106 32.3505 1100.08 32.3505 Q1094.17 32.3505 1090.76 37.0496 Q1087.4 41.7081 1087.4 49.9314 Q1087.4 58.1548 1090.76 62.8538 Q1094.17 67.5124 1100.08 67.5124 Q1106 67.5124 1109.36 62.8538 Q1112.76 58.1548 1112.76 49.9314 Z\" fill=\"#000000\" fill-rule=\"evenodd\" fill-opacity=\"1\" /><path clip-path=\"url(#clip880)\" d=\"M1159.14 34.1734 Q1157.89 33.4443 1156.39 33.1202 Q1154.93 32.7556 1153.15 32.7556 Q1146.83 32.7556 1143.43 36.8875 Q1140.06 40.9789 1140.06 48.6757 L1140.06 72.576 L1132.57 72.576 L1132.57 27.2059 L1140.06 27.2059 L1140.06 34.2544 Q1142.41 30.1225 1146.18 28.1376 Q1149.95 26.1121 1155.34 26.1121 Q1156.11 26.1121 1157.04 26.2337 Q1157.97 26.3147 1159.1 26.5172 L1159.14 34.1734 Z\" fill=\"#000000\" fill-rule=\"evenodd\" fill-opacity=\"1\" /><path clip-path=\"url(#clip880)\" d=\"M1182.72 32.4315 Q1176.72 32.4315 1173.24 37.1306 Q1169.76 41.7891 1169.76 49.9314 Q1169.76 58.0738 1173.2 62.7728 Q1176.68 67.4314 1182.72 67.4314 Q1188.67 67.4314 1192.16 62.7323 Q1195.64 58.0333 1195.64 49.9314 Q1195.64 41.8701 1192.16 37.1711 Q1188.67 32.4315 1182.72 32.4315 M1182.72 26.1121 Q1192.44 26.1121 1197.99 32.4315 Q1203.54 38.7509 1203.54 49.9314 Q1203.54 61.0714 1197.99 67.4314 Q1192.44 73.7508 1182.72 73.7508 Q1172.96 73.7508 1167.41 67.4314 Q1161.9 61.0714 1161.9 49.9314 Q1161.9 38.7509 1167.41 32.4315 Q1172.96 26.1121 1182.72 26.1121 Z\" fill=\"#000000\" fill-rule=\"evenodd\" fill-opacity=\"1\" /><path clip-path=\"url(#clip880)\" d=\"M1238.87 9.54393 L1238.87 15.7418 L1231.74 15.7418 Q1227.73 15.7418 1226.15 17.3622 Q1224.61 18.9825 1224.61 23.1955 L1224.61 27.2059 L1236.88 27.2059 L1236.88 32.9987 L1224.61 32.9987 L1224.61 72.576 L1217.11 72.576 L1217.11 32.9987 L1209.98 32.9987 L1209.98 27.2059 L1217.11 27.2059 L1217.11 24.0462 Q1217.11 16.471 1220.64 13.0277 Q1224.16 9.54393 1231.82 9.54393 L1238.87 9.54393 Z\" fill=\"#000000\" fill-rule=\"evenodd\" fill-opacity=\"1\" /><path clip-path=\"url(#clip880)\" d=\"M1245.1 27.2059 L1252.56 27.2059 L1252.56 72.576 L1245.1 72.576 L1245.1 27.2059 M1245.1 9.54393 L1252.56 9.54393 L1252.56 18.9825 L1245.1 18.9825 L1245.1 9.54393 Z\" fill=\"#000000\" fill-rule=\"evenodd\" fill-opacity=\"1\" /><path clip-path=\"url(#clip880)\" d=\"M1275.53 14.324 L1275.53 27.2059 L1290.88 27.2059 L1290.88 32.9987 L1275.53 32.9987 L1275.53 57.6282 Q1275.53 63.1779 1277.02 64.7578 Q1278.56 66.3376 1283.22 66.3376 L1290.88 66.3376 L1290.88 72.576 L1283.22 72.576 Q1274.59 72.576 1271.31 69.3758 Q1268.03 66.1351 1268.03 57.6282 L1268.03 32.9987 L1262.56 32.9987 L1262.56 27.2059 L1268.03 27.2059 L1268.03 14.324 L1275.53 14.324 Z\" fill=\"#000000\" fill-rule=\"evenodd\" fill-opacity=\"1\" /><path clip-path=\"url(#clip880)\" d=\"M1299.91 54.671 L1299.91 27.2059 L1307.37 27.2059 L1307.37 54.3874 Q1307.37 60.8284 1309.88 64.0691 Q1312.39 67.2693 1317.41 67.2693 Q1323.45 67.2693 1326.93 63.421 Q1330.46 59.5726 1330.46 52.9291 L1330.46 27.2059 L1337.91 27.2059 L1337.91 72.576 L1330.46 72.576 L1330.46 65.6084 Q1327.74 69.7404 1324.14 71.7658 Q1320.57 73.7508 1315.83 73.7508 Q1308.01 73.7508 1303.96 68.8897 Q1299.91 64.0286 1299.91 54.671 M1318.67 26.1121 L1318.67 26.1121 Z\" fill=\"#000000\" fill-rule=\"evenodd\" fill-opacity=\"1\" /><path clip-path=\"url(#clip880)\" d=\"M1375.3 27.2059 L1382.75 27.2059 L1392.07 62.6108 L1401.35 27.2059 L1410.14 27.2059 L1419.45 62.6108 L1428.73 27.2059 L1436.18 27.2059 L1424.32 72.576 L1415.53 72.576 L1405.76 35.3887 L1395.96 72.576 L1387.17 72.576 L1375.3 27.2059 Z\" fill=\"#000000\" fill-rule=\"evenodd\" fill-opacity=\"1\" /><path clip-path=\"url(#clip880)\" d=\"M1470.62 27.2059 L1506.02 27.2059 L1506.02 34.0114 L1477.99 66.6212 L1506.02 66.6212 L1506.02 72.576 L1469.6 72.576 L1469.6 65.7705 L1497.64 33.1607 L1470.62 33.1607 L1470.62 27.2059 Z\" fill=\"#000000\" fill-rule=\"evenodd\" fill-opacity=\"1\" /><path clip-path=\"url(#clip880)\" d=\"M1538.02 49.7694 Q1528.99 49.7694 1525.51 51.8354 Q1522.02 53.9013 1522.02 58.8839 Q1522.02 62.8538 1524.62 65.2034 Q1527.25 67.5124 1531.75 67.5124 Q1537.94 67.5124 1541.67 63.1374 Q1545.44 58.7219 1545.44 51.4303 L1545.44 49.7694 L1538.02 49.7694 M1552.89 46.6907 L1552.89 72.576 L1545.44 72.576 L1545.44 65.6895 Q1542.89 69.8214 1539.08 71.8063 Q1535.27 73.7508 1529.76 73.7508 Q1522.79 73.7508 1518.66 69.8619 Q1514.57 65.9325 1514.57 59.3701 Q1514.57 51.7138 1519.67 47.825 Q1524.82 43.9361 1534.99 43.9361 L1545.44 43.9361 L1545.44 43.2069 Q1545.44 38.0623 1542.03 35.2672 Q1538.67 32.4315 1532.56 32.4315 Q1528.67 32.4315 1524.98 33.3632 Q1521.29 34.295 1517.89 36.1584 L1517.89 29.2718 Q1521.98 27.692 1525.83 26.9223 Q1529.68 26.1121 1533.33 26.1121 Q1543.17 26.1121 1548.03 31.2163 Q1552.89 36.3204 1552.89 46.6907 Z\" fill=\"#000000\" fill-rule=\"evenodd\" fill-opacity=\"1\" /><path clip-path=\"url(#clip880)\" d=\"M1568.24 9.54393 L1575.7 9.54393 L1575.7 72.576 L1568.24 72.576 L1568.24 9.54393 Z\" fill=\"#000000\" fill-rule=\"evenodd\" fill-opacity=\"1\" /><path clip-path=\"url(#clip880)\" d=\"M1630.1 48.0275 L1630.1 51.6733 L1595.83 51.6733 Q1596.32 59.3701 1600.45 63.421 Q1604.62 67.4314 1612.03 67.4314 Q1616.33 67.4314 1620.34 66.3781 Q1624.39 65.3249 1628.36 63.2184 L1628.36 70.267 Q1624.35 71.9684 1620.14 72.8596 Q1615.92 73.7508 1611.59 73.7508 Q1600.73 73.7508 1594.37 67.4314 Q1588.05 61.1119 1588.05 50.3365 Q1588.05 39.1965 1594.05 32.6746 Q1600.08 26.1121 1610.29 26.1121 Q1619.45 26.1121 1624.75 32.0264 Q1630.1 37.9003 1630.1 48.0275 M1622.65 45.84 Q1622.57 39.7232 1619.2 36.0774 Q1615.88 32.4315 1610.37 32.4315 Q1604.14 32.4315 1600.37 35.9558 Q1596.64 39.4801 1596.07 45.8805 L1622.65 45.84 Z\" fill=\"#000000\" fill-rule=\"evenodd\" fill-opacity=\"1\" /><path clip-path=\"url(#clip880)\" d=\"M1652.38 9.54393 L1659.84 9.54393 L1659.84 18.9825 L1652.38 18.9825 L1652.38 9.54393 M1656.19 26.1121 L1656.19 26.1121 M1639.09 27.2059 L1674.5 27.2059 L1674.5 34.0114 L1646.47 66.6212 L1674.5 66.6212 L1674.5 72.576 L1638.08 72.576 L1638.08 65.7705 L1666.11 33.1607 L1639.09 33.1607 L1639.09 27.2059 Z\" fill=\"#000000\" fill-rule=\"evenodd\" fill-opacity=\"1\" /><path clip-path=\"url(#clip880)\" d=\"M1723.6 45.1919 L1723.6 72.576 L1716.14 72.576 L1716.14 45.4349 Q1716.14 38.994 1713.63 35.7938 Q1711.12 32.5936 1706.1 32.5936 Q1700.06 32.5936 1696.58 36.4419 Q1693.09 40.2903 1693.09 46.9338 L1693.09 72.576 L1685.6 72.576 L1685.6 27.2059 L1693.09 27.2059 L1693.09 34.2544 Q1695.77 30.163 1699.37 28.1376 Q1703.02 26.1121 1707.76 26.1121 Q1715.58 26.1121 1719.59 30.9732 Q1723.6 35.7938 1723.6 45.1919 Z\" fill=\"#000000\" fill-rule=\"evenodd\" fill-opacity=\"1\" /><path clip-path=\"url(#clip880)\" d=\"M1756.04 32.4315 Q1750.05 32.4315 1746.56 37.1306 Q1743.08 41.7891 1743.08 49.9314 Q1743.08 58.0738 1746.52 62.7728 Q1750.01 67.4314 1756.04 67.4314 Q1762 67.4314 1765.48 62.7323 Q1768.97 58.0333 1768.97 49.9314 Q1768.97 41.8701 1765.48 37.1711 Q1762 32.4315 1756.04 32.4315 M1756.04 26.1121 Q1765.77 26.1121 1771.32 32.4315 Q1776.87 38.7509 1776.87 49.9314 Q1776.87 61.0714 1771.32 67.4314 Q1765.77 73.7508 1756.04 73.7508 Q1746.28 73.7508 1740.73 67.4314 Q1735.22 61.0714 1735.22 49.9314 Q1735.22 38.7509 1740.73 32.4315 Q1746.28 26.1121 1756.04 26.1121 Z\" fill=\"#000000\" fill-rule=\"evenodd\" fill-opacity=\"1\" /><path clip-path=\"url(#clip880)\" d=\"M1810.45 5.93863 L1818.51 5.93863 L1805.3 21.17 L1799.11 21.17 L1810.45 5.93863 M1818.14 28.5427 L1818.14 35.5912 Q1814.98 33.9709 1811.58 33.1607 Q1808.18 32.3505 1804.53 32.3505 Q1798.98 32.3505 1796.19 34.0519 Q1793.43 35.7533 1793.43 39.156 Q1793.43 41.7486 1795.42 43.2475 Q1797.4 44.7058 1803.4 46.0426 L1805.95 46.6097 Q1813.89 48.3111 1817.21 51.4303 Q1820.57 54.509 1820.57 60.0587 Q1820.57 66.3781 1815.55 70.0644 Q1810.57 73.7508 1801.82 73.7508 Q1798.17 73.7508 1794.2 73.0216 Q1790.27 72.3329 1785.9 70.9151 L1785.9 63.2184 Q1790.03 65.3654 1794.04 66.4591 Q1798.05 67.5124 1801.98 67.5124 Q1807.25 67.5124 1810.08 65.73 Q1812.92 63.9071 1812.92 60.6258 Q1812.92 57.5877 1810.85 55.9673 Q1808.83 54.3469 1801.9 52.8481 L1799.31 52.2405 Q1792.38 50.7821 1789.3 47.7845 Q1786.22 44.7463 1786.22 39.4801 Q1786.22 33.0797 1790.76 29.5959 Q1795.3 26.1121 1803.64 26.1121 Q1807.77 26.1121 1811.42 26.7198 Q1815.07 27.3274 1818.14 28.5427 Z\" fill=\"#000000\" fill-rule=\"evenodd\" fill-opacity=\"1\" /><path clip-path=\"url(#clip880)\" d=\"M1865.09 28.9478 L1865.09 35.9153 Q1861.93 34.1734 1858.73 33.3227 Q1855.57 32.4315 1852.33 32.4315 Q1845.08 32.4315 1841.07 37.0496 Q1837.06 41.6271 1837.06 49.9314 Q1837.06 58.2358 1841.07 62.8538 Q1845.08 67.4314 1852.33 67.4314 Q1855.57 67.4314 1858.73 66.5807 Q1861.93 65.6895 1865.09 63.9476 L1865.09 70.8341 Q1861.98 72.2924 1858.61 73.0216 Q1855.29 73.7508 1851.52 73.7508 Q1841.28 73.7508 1835.24 67.3098 Q1829.2 60.8689 1829.2 49.9314 Q1829.2 38.832 1835.28 32.472 Q1841.4 26.1121 1852.01 26.1121 Q1855.45 26.1121 1858.73 26.8413 Q1862.02 27.5299 1865.09 28.9478 Z\" fill=\"#000000\" fill-rule=\"evenodd\" fill-opacity=\"1\" /><path clip-path=\"url(#clip880)\" d=\"M1878.06 27.2059 L1885.51 27.2059 L1885.51 72.576 L1878.06 72.576 L1878.06 27.2059 M1878.06 9.54393 L1885.51 9.54393 L1885.51 18.9825 L1878.06 18.9825 L1878.06 9.54393 Z\" fill=\"#000000\" fill-rule=\"evenodd\" fill-opacity=\"1\" /><path clip-path=\"url(#clip880)\" d=\"M1945.06 32.4315 Q1939.06 32.4315 1935.58 37.1306 Q1932.1 41.7891 1932.1 49.9314 Q1932.1 58.0738 1935.54 62.7728 Q1939.02 67.4314 1945.06 67.4314 Q1951.01 67.4314 1954.5 62.7323 Q1957.98 58.0333 1957.98 49.9314 Q1957.98 41.8701 1954.5 37.1711 Q1951.01 32.4315 1945.06 32.4315 M1945.06 26.1121 Q1954.78 26.1121 1960.33 32.4315 Q1965.88 38.7509 1965.88 49.9314 Q1965.88 61.0714 1960.33 67.4314 Q1954.78 73.7508 1945.06 73.7508 Q1935.3 73.7508 1929.75 67.4314 Q1924.24 61.0714 1924.24 49.9314 Q1924.24 38.7509 1929.75 32.4315 Q1935.3 26.1121 1945.06 26.1121 Z\" fill=\"#000000\" fill-rule=\"evenodd\" fill-opacity=\"1\" /><path clip-path=\"url(#clip880)\" d=\"M2008.09 34.0924 L2008.09 9.54393 L2015.54 9.54393 L2015.54 72.576 L2008.09 72.576 L2008.09 65.7705 Q2005.74 69.8214 2002.14 71.8063 Q1998.57 73.7508 1993.55 73.7508 Q1985.33 73.7508 1980.14 67.1883 Q1975 60.6258 1975 49.9314 Q1975 39.2371 1980.14 32.6746 Q1985.33 26.1121 1993.55 26.1121 Q1998.57 26.1121 2002.14 28.0971 Q2005.74 30.0415 2008.09 34.0924 M1982.69 49.9314 Q1982.69 58.1548 1986.05 62.8538 Q1989.46 67.5124 1995.37 67.5124 Q2001.29 67.5124 2004.69 62.8538 Q2008.09 58.1548 2008.09 49.9314 Q2008.09 41.7081 2004.69 37.0496 Q2001.29 32.3505 1995.37 32.3505 Q1989.46 32.3505 1986.05 37.0496 Q1982.69 41.7081 1982.69 49.9314 Z\" fill=\"#000000\" fill-rule=\"evenodd\" fill-opacity=\"1\" /><path clip-path=\"url(#clip880)\" d=\"M2064.48 65.7705 L2064.48 89.8329 L2056.99 89.8329 L2056.99 27.2059 L2064.48 27.2059 L2064.48 34.0924 Q2066.83 30.0415 2070.39 28.0971 Q2074 26.1121 2078.98 26.1121 Q2087.25 26.1121 2092.39 32.6746 Q2097.58 39.2371 2097.58 49.9314 Q2097.58 60.6258 2092.39 67.1883 Q2087.25 73.7508 2078.98 73.7508 Q2074 73.7508 2070.39 71.8063 Q2066.83 69.8214 2064.48 65.7705 M2089.84 49.9314 Q2089.84 41.7081 2086.44 37.0496 Q2083.07 32.3505 2077.16 32.3505 Q2071.24 32.3505 2067.84 37.0496 Q2064.48 41.7081 2064.48 49.9314 Q2064.48 58.1548 2067.84 62.8538 Q2071.24 67.5124 2077.16 67.5124 Q2083.07 67.5124 2086.44 62.8538 Q2089.84 58.1548 2089.84 49.9314 Z\" fill=\"#000000\" fill-rule=\"evenodd\" fill-opacity=\"1\" /><path clip-path=\"url(#clip880)\" d=\"M2127.51 32.4315 Q2121.52 32.4315 2118.03 37.1306 Q2114.55 41.7891 2114.55 49.9314 Q2114.55 58.0738 2117.99 62.7728 Q2121.48 67.4314 2127.51 67.4314 Q2133.47 67.4314 2136.95 62.7323 Q2140.43 58.0333 2140.43 49.9314 Q2140.43 41.8701 2136.95 37.1711 Q2133.47 32.4315 2127.51 32.4315 M2127.51 26.1121 Q2137.23 26.1121 2142.78 32.4315 Q2148.33 38.7509 2148.33 49.9314 Q2148.33 61.0714 2142.78 67.4314 Q2137.23 73.7508 2127.51 73.7508 Q2117.75 73.7508 2112.2 67.4314 Q2106.69 61.0714 2106.69 49.9314 Q2106.69 38.7509 2112.2 32.4315 Q2117.75 26.1121 2127.51 26.1121 Z\" fill=\"#000000\" fill-rule=\"evenodd\" fill-opacity=\"1\" /><path clip-path=\"url(#clip880)\" d=\"M2157.45 27.2059 L2192.85 27.2059 L2192.85 34.0114 L2164.82 66.6212 L2192.85 66.6212 L2192.85 72.576 L2156.44 72.576 L2156.44 65.7705 L2184.47 33.1607 L2157.45 33.1607 L2157.45 27.2059 Z\" fill=\"#000000\" fill-rule=\"evenodd\" fill-opacity=\"1\" /><path clip-path=\"url(#clip880)\" d=\"M2204.24 27.2059 L2211.69 27.2059 L2211.69 72.576 L2204.24 72.576 L2204.24 27.2059 M2204.24 9.54393 L2211.69 9.54393 L2211.69 18.9825 L2204.24 18.9825 L2204.24 9.54393 Z\" fill=\"#000000\" fill-rule=\"evenodd\" fill-opacity=\"1\" /><path clip-path=\"url(#clip880)\" d=\"M2244.87 32.4315 Q2238.87 32.4315 2235.39 37.1306 Q2231.9 41.7891 2231.9 49.9314 Q2231.9 58.0738 2235.35 62.7728 Q2238.83 67.4314 2244.87 67.4314 Q2250.82 67.4314 2254.31 62.7323 Q2257.79 58.0333 2257.79 49.9314 Q2257.79 41.8701 2254.31 37.1711 Q2250.82 32.4315 2244.87 32.4315 M2244.87 26.1121 Q2254.59 26.1121 2260.14 32.4315 Q2265.69 38.7509 2265.69 49.9314 Q2265.69 61.0714 2260.14 67.4314 Q2254.59 73.7508 2244.87 73.7508 Q2235.1 73.7508 2229.55 67.4314 Q2224.05 61.0714 2224.05 49.9314 Q2224.05 38.7509 2229.55 32.4315 Q2235.1 26.1121 2244.87 26.1121 Z\" fill=\"#000000\" fill-rule=\"evenodd\" fill-opacity=\"1\" /><path clip-path=\"url(#clip880)\" d=\"M2313.37 35.9153 Q2316.16 30.8922 2320.05 28.5022 Q2323.94 26.1121 2329.21 26.1121 Q2336.3 26.1121 2340.14 31.0947 Q2343.99 36.0368 2343.99 45.1919 L2343.99 72.576 L2336.5 72.576 L2336.5 45.4349 Q2336.5 38.913 2334.19 35.7533 Q2331.88 32.5936 2327.14 32.5936 Q2321.35 32.5936 2317.99 36.4419 Q2314.62 40.2903 2314.62 46.9338 L2314.62 72.576 L2307.13 72.576 L2307.13 45.4349 Q2307.13 38.8725 2304.82 35.7533 Q2302.51 32.5936 2297.69 32.5936 Q2291.98 32.5936 2288.62 36.4824 Q2285.25 40.3308 2285.25 46.9338 L2285.25 72.576 L2277.76 72.576 L2277.76 27.2059 L2285.25 27.2059 L2285.25 34.2544 Q2287.81 30.082 2291.37 28.0971 Q2294.94 26.1121 2299.84 26.1121 Q2304.78 26.1121 2308.22 28.6237 Q2311.71 31.1352 2313.37 35.9153 Z\" fill=\"#000000\" fill-rule=\"evenodd\" fill-opacity=\"1\" /><path clip-path=\"url(#clip880)\" d=\"M2358.09 54.671 L2358.09 27.2059 L2365.54 27.2059 L2365.54 54.3874 Q2365.54 60.8284 2368.05 64.0691 Q2370.57 67.2693 2375.59 67.2693 Q2381.63 67.2693 2385.11 63.421 Q2388.63 59.5726 2388.63 52.9291 L2388.63 27.2059 L2396.09 27.2059 L2396.09 72.576 L2388.63 72.576 L2388.63 65.6084 Q2385.92 69.7404 2382.31 71.7658 Q2378.75 73.7508 2374.01 73.7508 Q2366.19 73.7508 2362.14 68.8897 Q2358.09 64.0286 2358.09 54.671 M2376.85 26.1121 L2376.85 26.1121 Z\" fill=\"#000000\" fill-rule=\"evenodd\" fill-opacity=\"1\" /><path clip-path=\"url(#clip880)\" d=\"M2446.76 35.9153 Q2449.56 30.8922 2453.45 28.5022 Q2457.34 26.1121 2462.6 26.1121 Q2469.69 26.1121 2473.54 31.0947 Q2477.39 36.0368 2477.39 45.1919 L2477.39 72.576 L2469.89 72.576 L2469.89 45.4349 Q2469.89 38.913 2467.59 35.7533 Q2465.28 32.5936 2460.54 32.5936 Q2454.74 32.5936 2451.38 36.4419 Q2448.02 40.2903 2448.02 46.9338 L2448.02 72.576 L2440.53 72.576 L2440.53 45.4349 Q2440.53 38.8725 2438.22 35.7533 Q2435.91 32.5936 2431.09 32.5936 Q2425.37 32.5936 2422.01 36.4824 Q2418.65 40.3308 2418.65 46.9338 L2418.65 72.576 L2411.16 72.576 L2411.16 27.2059 L2418.65 27.2059 L2418.65 34.2544 Q2421.2 30.082 2424.77 28.0971 Q2428.33 26.1121 2433.23 26.1121 Q2438.18 26.1121 2441.62 28.6237 Q2445.1 31.1352 2446.76 35.9153 Z\" fill=\"#000000\" fill-rule=\"evenodd\" fill-opacity=\"1\" /><path clip-path=\"url(#clip880)\" d=\"M2525.84 65.7705 L2525.84 89.8329 L2518.34 89.8329 L2518.34 27.2059 L2525.84 27.2059 L2525.84 34.0924 Q2528.19 30.0415 2531.75 28.0971 Q2535.36 26.1121 2540.34 26.1121 Q2548.6 26.1121 2553.75 32.6746 Q2558.93 39.2371 2558.93 49.9314 Q2558.93 60.6258 2553.75 67.1883 Q2548.6 73.7508 2540.34 73.7508 Q2535.36 73.7508 2531.75 71.8063 Q2528.19 69.8214 2525.84 65.7705 M2551.2 49.9314 Q2551.2 41.7081 2547.79 37.0496 Q2544.43 32.3505 2538.52 32.3505 Q2532.6 32.3505 2529.2 37.0496 Q2525.84 41.7081 2525.84 49.9314 Q2525.84 58.1548 2529.2 62.8538 Q2532.6 67.5124 2538.52 67.5124 Q2544.43 67.5124 2547.79 62.8538 Q2551.2 58.1548 2551.2 49.9314 Z\" fill=\"#000000\" fill-rule=\"evenodd\" fill-opacity=\"1\" /><path clip-path=\"url(#clip880)\" d=\"M2591.91 49.7694 Q2582.87 49.7694 2579.39 51.8354 Q2575.91 53.9013 2575.91 58.8839 Q2575.91 62.8538 2578.5 65.2034 Q2581.13 67.5124 2585.63 67.5124 Q2591.83 67.5124 2595.55 63.1374 Q2599.32 58.7219 2599.32 51.4303 L2599.32 49.7694 L2591.91 49.7694 M2606.77 46.6907 L2606.77 72.576 L2599.32 72.576 L2599.32 65.6895 Q2596.77 69.8214 2592.96 71.8063 Q2589.15 73.7508 2583.64 73.7508 Q2576.68 73.7508 2572.54 69.8619 Q2568.45 65.9325 2568.45 59.3701 Q2568.45 51.7138 2573.56 47.825 Q2578.7 43.9361 2588.87 43.9361 L2599.32 43.9361 L2599.32 43.2069 Q2599.32 38.0623 2595.92 35.2672 Q2592.56 32.4315 2586.44 32.4315 Q2582.55 32.4315 2578.86 33.3632 Q2575.18 34.295 2571.77 36.1584 L2571.77 29.2718 Q2575.87 27.692 2579.71 26.9223 Q2583.56 26.1121 2587.21 26.1121 Q2597.05 26.1121 2601.91 31.2163 Q2606.77 36.3204 2606.77 46.6907 Z\" fill=\"#000000\" fill-rule=\"evenodd\" fill-opacity=\"1\" /><path clip-path=\"url(#clip880)\" d=\"M2648.42 34.1734 Q2647.16 33.4443 2645.66 33.1202 Q2644.2 32.7556 2642.42 32.7556 Q2636.1 32.7556 2632.7 36.8875 Q2629.34 40.9789 2629.34 48.6757 L2629.34 72.576 L2621.84 72.576 L2621.84 27.2059 L2629.34 27.2059 L2629.34 34.2544 Q2631.69 30.1225 2635.45 28.1376 Q2639.22 26.1121 2644.61 26.1121 Q2645.38 26.1121 2646.31 26.2337 Q2647.24 26.3147 2648.38 26.5172 L2648.42 34.1734 Z\" fill=\"#000000\" fill-rule=\"evenodd\" fill-opacity=\"1\" /><path clip-path=\"url(#clip880)\" d=\"M2676.86 49.7694 Q2667.82 49.7694 2664.34 51.8354 Q2660.85 53.9013 2660.85 58.8839 Q2660.85 62.8538 2663.45 65.2034 Q2666.08 67.5124 2670.58 67.5124 Q2676.77 67.5124 2680.5 63.1374 Q2684.27 58.7219 2684.27 51.4303 L2684.27 49.7694 L2676.86 49.7694 M2691.72 46.6907 L2691.72 72.576 L2684.27 72.576 L2684.27 65.6895 Q2681.72 69.8214 2677.91 71.8063 Q2674.1 73.7508 2668.59 73.7508 Q2661.62 73.7508 2657.49 69.8619 Q2653.4 65.9325 2653.4 59.3701 Q2653.4 51.7138 2658.5 47.825 Q2663.65 43.9361 2673.82 43.9361 L2684.27 43.9361 L2684.27 43.2069 Q2684.27 38.0623 2680.87 35.2672 Q2677.5 32.4315 2671.39 32.4315 Q2667.5 32.4315 2663.81 33.3632 Q2660.12 34.295 2656.72 36.1584 L2656.72 29.2718 Q2660.81 27.692 2664.66 26.9223 Q2668.51 26.1121 2672.16 26.1121 Q2682 26.1121 2686.86 31.2163 Q2691.72 36.3204 2691.72 46.6907 Z\" fill=\"#000000\" fill-rule=\"evenodd\" fill-opacity=\"1\" /><path clip-path=\"url(#clip880)\" d=\"M2742.4 35.9153 Q2745.19 30.8922 2749.08 28.5022 Q2752.97 26.1121 2758.24 26.1121 Q2765.33 26.1121 2769.18 31.0947 Q2773.02 36.0368 2773.02 45.1919 L2773.02 72.576 L2765.53 72.576 L2765.53 45.4349 Q2765.53 38.913 2763.22 35.7533 Q2760.91 32.5936 2756.17 32.5936 Q2750.38 32.5936 2747.02 36.4419 Q2743.65 40.2903 2743.65 46.9338 L2743.65 72.576 L2736.16 72.576 L2736.16 45.4349 Q2736.16 38.8725 2733.85 35.7533 Q2731.54 32.5936 2726.72 32.5936 Q2721.01 32.5936 2717.65 36.4824 Q2714.29 40.3308 2714.29 46.9338 L2714.29 72.576 L2706.79 72.576 L2706.79 27.2059 L2714.29 27.2059 L2714.29 34.2544 Q2716.84 30.082 2720.4 28.0971 Q2723.97 26.1121 2728.87 26.1121 Q2733.81 26.1121 2737.25 28.6237 Q2740.74 31.1352 2742.4 35.9153 Z\" fill=\"#000000\" fill-rule=\"evenodd\" fill-opacity=\"1\" /><path clip-path=\"url(#clip880)\" d=\"M2826.7 48.0275 L2826.7 51.6733 L2792.43 51.6733 Q2792.91 59.3701 2797.05 63.421 Q2801.22 67.4314 2808.63 67.4314 Q2812.92 67.4314 2816.94 66.3781 Q2820.99 65.3249 2824.96 63.2184 L2824.96 70.267 Q2820.95 71.9684 2816.73 72.8596 Q2812.52 73.7508 2808.19 73.7508 Q2797.33 73.7508 2790.97 67.4314 Q2784.65 61.1119 2784.65 50.3365 Q2784.65 39.1965 2790.64 32.6746 Q2796.68 26.1121 2806.89 26.1121 Q2816.04 26.1121 2821.35 32.0264 Q2826.7 37.9003 2826.7 48.0275 M2819.24 45.84 Q2819.16 39.7232 2815.8 36.0774 Q2812.48 32.4315 2806.97 32.4315 Q2800.73 32.4315 2796.96 35.9558 Q2793.24 39.4801 2792.67 45.8805 L2819.24 45.84 Z\" fill=\"#000000\" fill-rule=\"evenodd\" fill-opacity=\"1\" /><path clip-path=\"url(#clip880)\" d=\"M2846.3 14.324 L2846.3 27.2059 L2861.66 27.2059 L2861.66 32.9987 L2846.3 32.9987 L2846.3 57.6282 Q2846.3 63.1779 2847.8 64.7578 Q2849.34 66.3376 2854 66.3376 L2861.66 66.3376 L2861.66 72.576 L2854 72.576 Q2845.37 72.576 2842.09 69.3758 Q2838.81 66.1351 2838.81 57.6282 L2838.81 32.9987 L2833.34 32.9987 L2833.34 27.2059 L2838.81 27.2059 L2838.81 14.324 L2846.3 14.324 Z\" fill=\"#000000\" fill-rule=\"evenodd\" fill-opacity=\"1\" /><path clip-path=\"url(#clip880)\" d=\"M2897.75 34.1734 Q2896.5 33.4443 2895 33.1202 Q2893.54 32.7556 2891.76 32.7556 Q2885.44 32.7556 2882.03 36.8875 Q2878.67 40.9789 2878.67 48.6757 L2878.67 72.576 L2871.18 72.576 L2871.18 27.2059 L2878.67 27.2059 L2878.67 34.2544 Q2881.02 30.1225 2884.79 28.1376 Q2888.56 26.1121 2893.94 26.1121 Q2894.71 26.1121 2895.64 26.2337 Q2896.58 26.3147 2897.71 26.5172 L2897.75 34.1734 Z\" fill=\"#000000\" fill-rule=\"evenodd\" fill-opacity=\"1\" /><path clip-path=\"url(#clip880)\" d=\"M2921.33 32.4315 Q2915.33 32.4315 2911.85 37.1306 Q2908.36 41.7891 2908.36 49.9314 Q2908.36 58.0738 2911.81 62.7728 Q2915.29 67.4314 2921.33 67.4314 Q2927.28 67.4314 2930.77 62.7323 Q2934.25 58.0333 2934.25 49.9314 Q2934.25 41.8701 2930.77 37.1711 Q2927.28 32.4315 2921.33 32.4315 M2921.33 26.1121 Q2931.05 26.1121 2936.6 32.4315 Q2942.15 38.7509 2942.15 49.9314 Q2942.15 61.0714 2936.6 67.4314 Q2931.05 73.7508 2921.33 73.7508 Q2911.56 73.7508 2906.01 67.4314 Q2900.51 61.0714 2900.51 49.9314 Q2900.51 38.7509 2906.01 32.4315 Q2911.56 26.1121 2921.33 26.1121 M2926.96 6.22219 L2935.02 6.22219 L2921.81 21.4536 L2915.62 21.4536 L2926.96 6.22219 Z\" fill=\"#000000\" fill-rule=\"evenodd\" fill-opacity=\"1\" /><path clip-path=\"url(#clip880)\" d=\"M2950.17 27.2059 L2957.62 27.2059 L2966.94 62.6108 L2976.22 27.2059 L2985.01 27.2059 L2994.32 62.6108 L3003.6 27.2059 L3011.05 27.2059 L2999.19 72.576 L2990.4 72.576 L2980.63 35.3887 L2970.83 72.576 L2962.04 72.576 L2950.17 27.2059 Z\" fill=\"#000000\" fill-rule=\"evenodd\" fill-opacity=\"1\" /><polyline clip-path=\"url(#clip882)\" style=\"stroke:#009af9; stroke-linecap:round; stroke-linejoin:round; stroke-width:4; stroke-opacity:1; fill:none\" points=\"357.895,189.727 538.792,207.472 719.689,255.53 1262.38,306.124 2166.87,390.25 3071.35,483.014 \"/>\n",
       "<polyline clip-path=\"url(#clip882)\" style=\"stroke:#e26f46; stroke-linecap:round; stroke-linejoin:round; stroke-width:4; stroke-opacity:1; fill:none\" points=\"357.895,2146.22 538.792,1567.63 719.689,1259.4 1262.38,709.123 2166.87,388.448 3071.35,201.653 \"/>\n",
       "<polyline clip-path=\"url(#clip882)\" style=\"stroke:#3da44d; stroke-linecap:round; stroke-linejoin:round; stroke-width:4; stroke-opacity:1; fill:none\" points=\"357.895,207.664 538.792,237.82 719.689,255.378 1262.38,370.396 2166.87,531.088 3071.35,692.192 \"/>\n",
       "<path clip-path=\"url(#clip880)\" d=\"M1679.01 2135.79 L3056.88 2135.79 L3056.88 1928.43 L1679.01 1928.43  Z\" fill=\"#ffffff\" fill-rule=\"evenodd\" fill-opacity=\"1\"/>\n",
       "<polyline clip-path=\"url(#clip880)\" style=\"stroke:#000000; stroke-linecap:round; stroke-linejoin:round; stroke-width:4; stroke-opacity:1; fill:none\" points=\"1679.01,2135.79 3056.88,2135.79 3056.88,1928.43 1679.01,1928.43 1679.01,2135.79 \"/>\n",
       "<polyline clip-path=\"url(#clip880)\" style=\"stroke:#009af9; stroke-linecap:round; stroke-linejoin:round; stroke-width:4; stroke-opacity:1; fill:none\" points=\"1710.96,1980.27 1902.71,1980.27 \"/>\n",
       "<path clip-path=\"url(#clip880)\" d=\"M1935.21 1962.99 L1962.36 1962.99 L1962.36 1966.56 L1940.51 1993.62 L1962.89 1993.62 L1962.89 1997.55 L1934.67 1997.55 L1934.67 1993.99 L1956.52 1966.93 L1935.21 1966.93 L1935.21 1962.99 Z\" fill=\"#000000\" fill-rule=\"evenodd\" fill-opacity=\"1\" /><path clip-path=\"url(#clip880)\" d=\"M1989.67 1976.6 Q1991.27 1973.73 1993.49 1972.37 Q1995.71 1971 1998.72 1971 Q2002.77 1971 2004.97 1973.85 Q2007.17 1976.67 2007.17 1981.9 L2007.17 1997.55 L2002.89 1997.55 L2002.89 1982.04 Q2002.89 1978.31 2001.57 1976.51 Q2000.25 1974.7 1997.54 1974.7 Q1994.23 1974.7 1992.31 1976.9 Q1990.39 1979.1 1990.39 1982.9 L1990.39 1997.55 L1986.11 1997.55 L1986.11 1982.04 Q1986.11 1978.29 1984.79 1976.51 Q1983.47 1974.7 1980.71 1974.7 Q1977.45 1974.7 1975.53 1976.93 Q1973.61 1979.12 1973.61 1982.9 L1973.61 1997.55 L1969.33 1997.55 L1969.33 1971.62 L1973.61 1971.62 L1973.61 1975.65 Q1975.07 1973.27 1977.1 1972.13 Q1979.14 1971 1981.94 1971 Q1984.77 1971 1986.73 1972.43 Q1988.72 1973.87 1989.67 1976.6 Z\" fill=\"#000000\" fill-rule=\"evenodd\" fill-opacity=\"1\" /><path clip-path=\"url(#clip880)\" d=\"M2015.67 1971.62 L2019.93 1971.62 L2019.93 1997.55 L2015.67 1997.55 L2015.67 1971.62 M2015.67 1961.53 L2019.93 1961.53 L2019.93 1966.93 L2015.67 1966.93 L2015.67 1961.53 Z\" fill=\"#000000\" fill-rule=\"evenodd\" fill-opacity=\"1\" /><path clip-path=\"url(#clip880)\" d=\"M2040.62 1984.52 Q2035.46 1984.52 2033.47 1985.7 Q2031.48 1986.88 2031.48 1989.73 Q2031.48 1991.99 2032.96 1993.34 Q2034.46 1994.66 2037.03 1994.66 Q2040.58 1994.66 2042.7 1992.16 Q2044.86 1989.63 2044.86 1985.47 L2044.86 1984.52 L2040.62 1984.52 M2049.12 1982.76 L2049.12 1997.55 L2044.86 1997.55 L2044.86 1993.62 Q2043.4 1995.98 2041.22 1997.11 Q2039.05 1998.22 2035.9 1998.22 Q2031.92 1998.22 2029.56 1996 Q2027.22 1993.75 2027.22 1990 Q2027.22 1985.63 2030.14 1983.41 Q2033.08 1981.18 2038.89 1981.18 L2044.86 1981.18 L2044.86 1980.77 Q2044.86 1977.83 2042.91 1976.23 Q2040.99 1974.61 2037.5 1974.61 Q2035.27 1974.61 2033.17 1975.14 Q2031.06 1975.68 2029.12 1976.74 L2029.12 1972.81 Q2031.46 1971.9 2033.65 1971.46 Q2035.85 1971 2037.94 1971 Q2043.56 1971 2046.34 1973.92 Q2049.12 1976.83 2049.12 1982.76 Z\" fill=\"#000000\" fill-rule=\"evenodd\" fill-opacity=\"1\" /><path clip-path=\"url(#clip880)\" d=\"M2079.44 1981.9 L2079.44 1997.55 L2075.18 1997.55 L2075.18 1982.04 Q2075.18 1978.36 2073.75 1976.53 Q2072.31 1974.7 2069.44 1974.7 Q2065.99 1974.7 2064 1976.9 Q2062.01 1979.1 2062.01 1982.9 L2062.01 1997.55 L2057.73 1997.55 L2057.73 1971.62 L2062.01 1971.62 L2062.01 1975.65 Q2063.54 1973.31 2065.6 1972.16 Q2067.68 1971 2070.39 1971 Q2074.86 1971 2077.15 1973.78 Q2079.44 1976.53 2079.44 1981.9 Z\" fill=\"#000000\" fill-rule=\"evenodd\" fill-opacity=\"1\" /><path clip-path=\"url(#clip880)\" d=\"M2099.72 1984.52 Q2094.56 1984.52 2092.57 1985.7 Q2090.58 1986.88 2090.58 1989.73 Q2090.58 1991.99 2092.06 1993.34 Q2093.56 1994.66 2096.13 1994.66 Q2099.67 1994.66 2101.8 1992.16 Q2103.95 1989.63 2103.95 1985.47 L2103.95 1984.52 L2099.72 1984.52 M2108.21 1982.76 L2108.21 1997.55 L2103.95 1997.55 L2103.95 1993.62 Q2102.5 1995.98 2100.32 1997.11 Q2098.14 1998.22 2095 1998.22 Q2091.01 1998.22 2088.65 1996 Q2086.32 1993.75 2086.32 1990 Q2086.32 1985.63 2089.23 1983.41 Q2092.17 1981.18 2097.98 1981.18 L2103.95 1981.18 L2103.95 1980.77 Q2103.95 1977.83 2102.01 1976.23 Q2100.09 1974.61 2096.59 1974.61 Q2094.37 1974.61 2092.26 1975.14 Q2090.16 1975.68 2088.21 1976.74 L2088.21 1972.81 Q2090.55 1971.9 2092.75 1971.46 Q2094.95 1971 2097.03 1971 Q2102.66 1971 2105.44 1973.92 Q2108.21 1976.83 2108.21 1982.76 Z\" fill=\"#000000\" fill-rule=\"evenodd\" fill-opacity=\"1\" /><path clip-path=\"url(#clip880)\" d=\"M2131.89 1961.53 L2136.18 1961.53 L2136.18 1982.8 L2148.88 1971.62 L2154.32 1971.62 L2140.57 1983.75 L2154.9 1997.55 L2149.35 1997.55 L2136.18 1984.89 L2136.18 1997.55 L2131.89 1997.55 L2131.89 1961.53 Z\" fill=\"#000000\" fill-rule=\"evenodd\" fill-opacity=\"1\" /><path clip-path=\"url(#clip880)\" d=\"M2167.87 1974.61 Q2164.44 1974.61 2162.45 1977.3 Q2160.46 1979.96 2160.46 1984.61 Q2160.46 1989.26 2162.43 1991.95 Q2164.42 1994.61 2167.87 1994.61 Q2171.27 1994.61 2173.26 1991.93 Q2175.25 1989.24 2175.25 1984.61 Q2175.25 1980 2173.26 1977.32 Q2171.27 1974.61 2167.87 1974.61 M2167.87 1971 Q2173.42 1971 2176.59 1974.61 Q2179.76 1978.22 2179.76 1984.61 Q2179.76 1990.98 2176.59 1994.61 Q2173.42 1998.22 2167.87 1998.22 Q2162.29 1998.22 2159.12 1994.61 Q2155.97 1990.98 2155.97 1984.61 Q2155.97 1978.22 2159.12 1974.61 Q2162.29 1971 2167.87 1971 Z\" fill=\"#000000\" fill-rule=\"evenodd\" fill-opacity=\"1\" /><path clip-path=\"url(#clip880)\" d=\"M2203.35 1972.39 L2203.35 1976.42 Q2201.55 1975.49 2199.6 1975.03 Q2197.66 1974.56 2195.57 1974.56 Q2192.4 1974.56 2190.81 1975.54 Q2189.23 1976.51 2189.23 1978.45 Q2189.23 1979.93 2190.37 1980.79 Q2191.5 1981.62 2194.93 1982.39 L2196.38 1982.71 Q2200.92 1983.68 2202.82 1985.47 Q2204.74 1987.23 2204.74 1990.4 Q2204.74 1994.01 2201.87 1996.12 Q2199.02 1998.22 2194.02 1998.22 Q2191.94 1998.22 2189.67 1997.8 Q2187.43 1997.41 2184.93 1996.6 L2184.93 1992.2 Q2187.29 1993.43 2189.58 1994.05 Q2191.87 1994.66 2194.12 1994.66 Q2197.13 1994.66 2198.75 1993.64 Q2200.37 1992.6 2200.37 1990.72 Q2200.37 1988.99 2199.19 1988.06 Q2198.03 1987.13 2194.07 1986.28 L2192.59 1985.93 Q2188.63 1985.1 2186.87 1983.38 Q2185.11 1981.65 2185.11 1978.64 Q2185.11 1974.98 2187.7 1972.99 Q2190.3 1971 2195.07 1971 Q2197.43 1971 2199.51 1971.35 Q2201.59 1971.69 2203.35 1972.39 Z\" fill=\"#000000\" fill-rule=\"evenodd\" fill-opacity=\"1\" /><path clip-path=\"url(#clip880)\" d=\"M2209.67 1971.62 L2229.9 1971.62 L2229.9 1975.51 L2213.88 1994.15 L2229.9 1994.15 L2229.9 1997.55 L2209.09 1997.55 L2209.09 1993.66 L2225.11 1975.03 L2209.67 1975.03 L2209.67 1971.62 Z\" fill=\"#000000\" fill-rule=\"evenodd\" fill-opacity=\"1\" /><path clip-path=\"url(#clip880)\" d=\"M2240.62 1964.26 L2240.62 1971.62 L2249.39 1971.62 L2249.39 1974.93 L2240.62 1974.93 L2240.62 1989.01 Q2240.62 1992.18 2241.48 1993.08 Q2242.36 1993.99 2245.02 1993.99 L2249.39 1993.99 L2249.39 1997.55 L2245.02 1997.55 Q2240.09 1997.55 2238.21 1995.72 Q2236.34 1993.87 2236.34 1989.01 L2236.34 1974.93 L2233.21 1974.93 L2233.21 1971.62 L2236.34 1971.62 L2236.34 1964.26 L2240.62 1964.26 Z\" fill=\"#000000\" fill-rule=\"evenodd\" fill-opacity=\"1\" /><path clip-path=\"url(#clip880)\" d=\"M2265.04 1974.61 Q2261.62 1974.61 2259.63 1977.3 Q2257.63 1979.96 2257.63 1984.61 Q2257.63 1989.26 2259.6 1991.95 Q2261.59 1994.61 2265.04 1994.61 Q2268.44 1994.61 2270.44 1991.93 Q2272.43 1989.24 2272.43 1984.61 Q2272.43 1980 2270.44 1977.32 Q2268.44 1974.61 2265.04 1974.61 M2265.04 1971 Q2270.6 1971 2273.77 1974.61 Q2276.94 1978.22 2276.94 1984.61 Q2276.94 1990.98 2273.77 1994.61 Q2270.6 1998.22 2265.04 1998.22 Q2259.46 1998.22 2256.29 1994.61 Q2253.14 1990.98 2253.14 1984.61 Q2253.14 1978.22 2256.29 1974.61 Q2259.46 1971 2265.04 1971 M2268.26 1959.63 L2272.87 1959.63 L2265.32 1968.34 L2261.78 1968.34 L2268.26 1959.63 Z\" fill=\"#000000\" fill-rule=\"evenodd\" fill-opacity=\"1\" /><path clip-path=\"url(#clip880)\" d=\"M2281.52 1971.62 L2285.78 1971.62 L2291.11 1991.86 L2296.41 1971.62 L2301.43 1971.62 L2306.75 1991.86 L2312.06 1971.62 L2316.31 1971.62 L2309.53 1997.55 L2304.51 1997.55 L2298.93 1976.3 L2293.33 1997.55 L2288.31 1997.55 L2281.52 1971.62 Z\" fill=\"#000000\" fill-rule=\"evenodd\" fill-opacity=\"1\" /><path clip-path=\"url(#clip880)\" d=\"M2341.96 1993.66 L2341.96 2007.41 L2337.68 2007.41 L2337.68 1971.62 L2341.96 1971.62 L2341.96 1975.56 Q2343.31 1973.24 2345.34 1972.13 Q2347.4 1971 2350.25 1971 Q2354.97 1971 2357.91 1974.75 Q2360.87 1978.5 2360.87 1984.61 Q2360.87 1990.72 2357.91 1994.47 Q2354.97 1998.22 2350.25 1998.22 Q2347.4 1998.22 2345.34 1997.11 Q2343.31 1995.98 2341.96 1993.66 M2356.45 1984.61 Q2356.45 1979.91 2354.51 1977.25 Q2352.59 1974.56 2349.21 1974.56 Q2345.83 1974.56 2343.88 1977.25 Q2341.96 1979.91 2341.96 1984.61 Q2341.96 1989.31 2343.88 1991.99 Q2345.83 1994.66 2349.21 1994.66 Q2352.59 1994.66 2354.51 1991.99 Q2356.45 1989.31 2356.45 1984.61 Z\" fill=\"#000000\" fill-rule=\"evenodd\" fill-opacity=\"1\" /><path clip-path=\"url(#clip880)\" d=\"M2382.96 1975.61 Q2382.24 1975.19 2381.38 1975 Q2380.55 1974.8 2379.53 1974.8 Q2375.92 1974.8 2373.98 1977.16 Q2372.06 1979.49 2372.06 1983.89 L2372.06 1997.55 L2367.77 1997.55 L2367.77 1971.62 L2372.06 1971.62 L2372.06 1975.65 Q2373.4 1973.29 2375.55 1972.16 Q2377.7 1971 2380.78 1971 Q2381.22 1971 2381.75 1971.07 Q2382.29 1971.12 2382.93 1971.23 L2382.96 1975.61 Z\" fill=\"#000000\" fill-rule=\"evenodd\" fill-opacity=\"1\" /><path clip-path=\"url(#clip880)\" d=\"M2385.57 1971.62 L2405.8 1971.62 L2405.8 1975.51 L2389.79 1994.15 L2405.8 1994.15 L2405.8 1997.55 L2384.99 1997.55 L2384.99 1993.66 L2401.01 1975.03 L2385.57 1975.03 L2385.57 1971.62 Z\" fill=\"#000000\" fill-rule=\"evenodd\" fill-opacity=\"1\" /><path clip-path=\"url(#clip880)\" d=\"M2434.49 1983.52 L2434.49 1985.61 L2414.9 1985.61 Q2415.18 1990 2417.54 1992.32 Q2419.93 1994.61 2424.16 1994.61 Q2426.61 1994.61 2428.91 1994.01 Q2431.22 1993.41 2433.49 1992.2 L2433.49 1996.23 Q2431.2 1997.2 2428.79 1997.71 Q2426.38 1998.22 2423.91 1998.22 Q2417.7 1998.22 2414.07 1994.61 Q2410.46 1991 2410.46 1984.84 Q2410.46 1978.48 2413.88 1974.75 Q2417.33 1971 2423.17 1971 Q2428.4 1971 2431.43 1974.38 Q2434.49 1977.74 2434.49 1983.52 M2430.23 1982.27 Q2430.18 1978.78 2428.26 1976.69 Q2426.36 1974.61 2423.21 1974.61 Q2419.65 1974.61 2417.49 1976.62 Q2415.37 1978.64 2415.04 1982.3 L2430.23 1982.27 Z\" fill=\"#000000\" fill-rule=\"evenodd\" fill-opacity=\"1\" /><path clip-path=\"url(#clip880)\" d=\"M2460.13 1972.62 L2460.13 1976.6 Q2458.33 1975.61 2456.5 1975.12 Q2454.69 1974.61 2452.84 1974.61 Q2448.7 1974.61 2446.41 1977.25 Q2444.11 1979.87 2444.11 1984.61 Q2444.11 1989.36 2446.41 1991.99 Q2448.7 1994.61 2452.84 1994.61 Q2454.69 1994.61 2456.5 1994.12 Q2458.33 1993.62 2460.13 1992.62 L2460.13 1996.55 Q2458.35 1997.39 2456.43 1997.8 Q2454.53 1998.22 2452.38 1998.22 Q2446.52 1998.22 2443.07 1994.54 Q2439.62 1990.86 2439.62 1984.61 Q2439.62 1978.27 2443.1 1974.63 Q2446.59 1971 2452.66 1971 Q2454.62 1971 2456.5 1971.42 Q2458.37 1971.81 2460.13 1972.62 Z\" fill=\"#000000\" fill-rule=\"evenodd\" fill-opacity=\"1\" /><path clip-path=\"url(#clip880)\" d=\"M2489.09 1981.9 L2489.09 1997.55 L2484.83 1997.55 L2484.83 1982.04 Q2484.83 1978.36 2483.4 1976.53 Q2481.96 1974.7 2479.09 1974.7 Q2475.64 1974.7 2473.65 1976.9 Q2471.66 1979.1 2471.66 1982.9 L2471.66 1997.55 L2467.38 1997.55 L2467.38 1961.53 L2471.66 1961.53 L2471.66 1975.65 Q2473.19 1973.31 2475.25 1972.16 Q2477.33 1971 2480.04 1971 Q2484.51 1971 2486.8 1973.78 Q2489.09 1976.53 2489.09 1981.9 Z\" fill=\"#000000\" fill-rule=\"evenodd\" fill-opacity=\"1\" /><path clip-path=\"url(#clip880)\" d=\"M2507.63 1974.61 Q2504.21 1974.61 2502.22 1977.3 Q2500.23 1979.96 2500.23 1984.61 Q2500.23 1989.26 2502.19 1991.95 Q2504.18 1994.61 2507.63 1994.61 Q2511.04 1994.61 2513.03 1991.93 Q2515.02 1989.24 2515.02 1984.61 Q2515.02 1980 2513.03 1977.32 Q2511.04 1974.61 2507.63 1974.61 M2507.63 1971 Q2513.19 1971 2516.36 1974.61 Q2519.53 1978.22 2519.53 1984.61 Q2519.53 1990.98 2516.36 1994.61 Q2513.19 1998.22 2507.63 1998.22 Q2502.05 1998.22 2498.88 1994.61 Q2495.73 1990.98 2495.73 1984.61 Q2495.73 1978.22 2498.88 1974.61 Q2502.05 1971 2507.63 1971 Z\" fill=\"#000000\" fill-rule=\"evenodd\" fill-opacity=\"1\" /><path clip-path=\"url(#clip880)\" d=\"M2524.11 1971.62 L2528.37 1971.62 L2533.7 1991.86 L2539 1971.62 L2544.02 1971.62 L2549.35 1991.86 L2554.65 1971.62 L2558.91 1971.62 L2552.12 1997.55 L2547.1 1997.55 L2541.52 1976.3 L2535.92 1997.55 L2530.9 1997.55 L2524.11 1971.62 Z\" fill=\"#000000\" fill-rule=\"evenodd\" fill-opacity=\"1\" /><path clip-path=\"url(#clip880)\" d=\"M2576.15 1999.96 Q2574.35 2004.59 2572.63 2006 Q2570.92 2007.41 2568.05 2007.41 L2564.65 2007.41 L2564.65 2003.85 L2567.15 2003.85 Q2568.91 2003.85 2569.88 2003.01 Q2570.85 2002.18 2572.03 1999.08 L2572.79 1997.13 L2562.31 1971.62 L2566.82 1971.62 L2574.92 1991.9 L2583.03 1971.62 L2587.54 1971.62 L2576.15 1999.96 Z\" fill=\"#000000\" fill-rule=\"evenodd\" fill-opacity=\"1\" /><path clip-path=\"url(#clip880)\" d=\"M2590.94 1971.62 L2595.2 1971.62 L2600.53 1991.86 L2605.83 1971.62 L2610.85 1971.62 L2616.17 1991.86 L2621.48 1971.62 L2625.73 1971.62 L2618.95 1997.55 L2613.93 1997.55 L2608.35 1976.3 L2602.75 1997.55 L2597.73 1997.55 L2590.94 1971.62 Z\" fill=\"#000000\" fill-rule=\"evenodd\" fill-opacity=\"1\" /><path clip-path=\"url(#clip880)\" d=\"M2643.97 1984.52 Q2638.81 1984.52 2636.82 1985.7 Q2634.83 1986.88 2634.83 1989.73 Q2634.83 1991.99 2636.31 1993.34 Q2637.82 1994.66 2640.39 1994.66 Q2643.93 1994.66 2646.06 1992.16 Q2648.21 1989.63 2648.21 1985.47 L2648.21 1984.52 L2643.97 1984.52 M2652.47 1982.76 L2652.47 1997.55 L2648.21 1997.55 L2648.21 1993.62 Q2646.75 1995.98 2644.58 1997.11 Q2642.4 1998.22 2639.25 1998.22 Q2635.27 1998.22 2632.91 1996 Q2630.57 1993.75 2630.57 1990 Q2630.57 1985.63 2633.49 1983.41 Q2636.43 1981.18 2642.24 1981.18 L2648.21 1981.18 L2648.21 1980.77 Q2648.21 1977.83 2646.27 1976.23 Q2644.35 1974.61 2640.85 1974.61 Q2638.63 1974.61 2636.52 1975.14 Q2634.41 1975.68 2632.47 1976.74 L2632.47 1972.81 Q2634.81 1971.9 2637.01 1971.46 Q2639.21 1971 2641.29 1971 Q2646.91 1971 2649.69 1973.92 Q2652.47 1976.83 2652.47 1982.76 Z\" fill=\"#000000\" fill-rule=\"evenodd\" fill-opacity=\"1\" /><path clip-path=\"url(#clip880)\" d=\"M2682.79 1981.9 L2682.79 1997.55 L2678.53 1997.55 L2678.53 1982.04 Q2678.53 1978.36 2677.1 1976.53 Q2675.66 1974.7 2672.79 1974.7 Q2669.35 1974.7 2667.35 1976.9 Q2665.36 1979.1 2665.36 1982.9 L2665.36 1997.55 L2661.08 1997.55 L2661.08 1971.62 L2665.36 1971.62 L2665.36 1975.65 Q2666.89 1973.31 2668.95 1972.16 Q2671.03 1971 2673.74 1971 Q2678.21 1971 2680.5 1973.78 Q2682.79 1976.53 2682.79 1981.9 Z\" fill=\"#000000\" fill-rule=\"evenodd\" fill-opacity=\"1\" /><path clip-path=\"url(#clip880)\" d=\"M2691.29 1971.62 L2695.55 1971.62 L2695.55 1997.55 L2691.29 1997.55 L2691.29 1971.62 M2691.29 1961.53 L2695.55 1961.53 L2695.55 1966.93 L2691.29 1966.93 L2691.29 1961.53 Z\" fill=\"#000000\" fill-rule=\"evenodd\" fill-opacity=\"1\" /><path clip-path=\"url(#clip880)\" d=\"M2716.24 1984.52 Q2711.08 1984.52 2709.09 1985.7 Q2707.1 1986.88 2707.1 1989.73 Q2707.1 1991.99 2708.58 1993.34 Q2710.09 1994.66 2712.66 1994.66 Q2716.2 1994.66 2718.33 1992.16 Q2720.48 1989.63 2720.48 1985.47 L2720.48 1984.52 L2716.24 1984.52 M2724.74 1982.76 L2724.74 1997.55 L2720.48 1997.55 L2720.48 1993.62 Q2719.02 1995.98 2716.84 1997.11 Q2714.67 1998.22 2711.52 1998.22 Q2707.54 1998.22 2705.18 1996 Q2702.84 1993.75 2702.84 1990 Q2702.84 1985.63 2705.76 1983.41 Q2708.7 1981.18 2714.51 1981.18 L2720.48 1981.18 L2720.48 1980.77 Q2720.48 1977.83 2718.53 1976.23 Q2716.61 1974.61 2713.12 1974.61 Q2710.9 1974.61 2708.79 1975.14 Q2706.68 1975.68 2704.74 1976.74 L2704.74 1972.81 Q2707.08 1971.9 2709.28 1971.46 Q2711.47 1971 2713.56 1971 Q2719.18 1971 2721.96 1973.92 Q2724.74 1976.83 2724.74 1982.76 Z\" fill=\"#000000\" fill-rule=\"evenodd\" fill-opacity=\"1\" /><polyline clip-path=\"url(#clip880)\" style=\"stroke:#e26f46; stroke-linecap:round; stroke-linejoin:round; stroke-width:4; stroke-opacity:1; fill:none\" points=\"1710.96,2032.11 1902.71,2032.11 \"/>\n",
       "<path clip-path=\"url(#clip880)\" d=\"M1935.21 2014.83 L1962.36 2014.83 L1962.36 2018.4 L1940.51 2045.46 L1962.89 2045.46 L1962.89 2049.39 L1934.67 2049.39 L1934.67 2045.83 L1956.52 2018.77 L1935.21 2018.77 L1935.21 2014.83 Z\" fill=\"#000000\" fill-rule=\"evenodd\" fill-opacity=\"1\" /><path clip-path=\"url(#clip880)\" d=\"M1989.67 2028.44 Q1991.27 2025.57 1993.49 2024.21 Q1995.71 2022.84 1998.72 2022.84 Q2002.77 2022.84 2004.97 2025.69 Q2007.17 2028.51 2007.17 2033.74 L2007.17 2049.39 L2002.89 2049.39 L2002.89 2033.88 Q2002.89 2030.15 2001.57 2028.35 Q2000.25 2026.54 1997.54 2026.54 Q1994.23 2026.54 1992.31 2028.74 Q1990.39 2030.94 1990.39 2034.74 L1990.39 2049.39 L1986.11 2049.39 L1986.11 2033.88 Q1986.11 2030.13 1984.79 2028.35 Q1983.47 2026.54 1980.71 2026.54 Q1977.45 2026.54 1975.53 2028.77 Q1973.61 2030.96 1973.61 2034.74 L1973.61 2049.39 L1969.33 2049.39 L1969.33 2023.46 L1973.61 2023.46 L1973.61 2027.49 Q1975.07 2025.11 1977.1 2023.97 Q1979.14 2022.84 1981.94 2022.84 Q1984.77 2022.84 1986.73 2024.27 Q1988.72 2025.71 1989.67 2028.44 Z\" fill=\"#000000\" fill-rule=\"evenodd\" fill-opacity=\"1\" /><path clip-path=\"url(#clip880)\" d=\"M2015.67 2023.46 L2019.93 2023.46 L2019.93 2049.39 L2015.67 2049.39 L2015.67 2023.46 M2015.67 2013.37 L2019.93 2013.37 L2019.93 2018.77 L2015.67 2018.77 L2015.67 2013.37 Z\" fill=\"#000000\" fill-rule=\"evenodd\" fill-opacity=\"1\" /><path clip-path=\"url(#clip880)\" d=\"M2040.62 2036.36 Q2035.46 2036.36 2033.47 2037.54 Q2031.48 2038.72 2031.48 2041.57 Q2031.48 2043.83 2032.96 2045.18 Q2034.46 2046.5 2037.03 2046.5 Q2040.58 2046.5 2042.7 2044 Q2044.86 2041.47 2044.86 2037.31 L2044.86 2036.36 L2040.62 2036.36 M2049.12 2034.6 L2049.12 2049.39 L2044.86 2049.39 L2044.86 2045.46 Q2043.4 2047.82 2041.22 2048.95 Q2039.05 2050.06 2035.9 2050.06 Q2031.92 2050.06 2029.56 2047.84 Q2027.22 2045.59 2027.22 2041.84 Q2027.22 2037.47 2030.14 2035.25 Q2033.08 2033.02 2038.89 2033.02 L2044.86 2033.02 L2044.86 2032.61 Q2044.86 2029.67 2042.91 2028.07 Q2040.99 2026.45 2037.5 2026.45 Q2035.27 2026.45 2033.17 2026.98 Q2031.06 2027.52 2029.12 2028.58 L2029.12 2024.65 Q2031.46 2023.74 2033.65 2023.3 Q2035.85 2022.84 2037.94 2022.84 Q2043.56 2022.84 2046.34 2025.76 Q2049.12 2028.67 2049.12 2034.6 Z\" fill=\"#000000\" fill-rule=\"evenodd\" fill-opacity=\"1\" /><path clip-path=\"url(#clip880)\" d=\"M2079.44 2033.74 L2079.44 2049.39 L2075.18 2049.39 L2075.18 2033.88 Q2075.18 2030.2 2073.75 2028.37 Q2072.31 2026.54 2069.44 2026.54 Q2065.99 2026.54 2064 2028.74 Q2062.01 2030.94 2062.01 2034.74 L2062.01 2049.39 L2057.73 2049.39 L2057.73 2023.46 L2062.01 2023.46 L2062.01 2027.49 Q2063.54 2025.15 2065.6 2024 Q2067.68 2022.84 2070.39 2022.84 Q2074.86 2022.84 2077.15 2025.62 Q2079.44 2028.37 2079.44 2033.74 Z\" fill=\"#000000\" fill-rule=\"evenodd\" fill-opacity=\"1\" /><path clip-path=\"url(#clip880)\" d=\"M2099.72 2036.36 Q2094.56 2036.36 2092.57 2037.54 Q2090.58 2038.72 2090.58 2041.57 Q2090.58 2043.83 2092.06 2045.18 Q2093.56 2046.5 2096.13 2046.5 Q2099.67 2046.5 2101.8 2044 Q2103.95 2041.47 2103.95 2037.31 L2103.95 2036.36 L2099.72 2036.36 M2108.21 2034.6 L2108.21 2049.39 L2103.95 2049.39 L2103.95 2045.46 Q2102.5 2047.82 2100.32 2048.95 Q2098.14 2050.06 2095 2050.06 Q2091.01 2050.06 2088.65 2047.84 Q2086.32 2045.59 2086.32 2041.84 Q2086.32 2037.47 2089.23 2035.25 Q2092.17 2033.02 2097.98 2033.02 L2103.95 2033.02 L2103.95 2032.61 Q2103.95 2029.67 2102.01 2028.07 Q2100.09 2026.45 2096.59 2026.45 Q2094.37 2026.45 2092.26 2026.98 Q2090.16 2027.52 2088.21 2028.58 L2088.21 2024.65 Q2090.55 2023.74 2092.75 2023.3 Q2094.95 2022.84 2097.03 2022.84 Q2102.66 2022.84 2105.44 2025.76 Q2108.21 2028.67 2108.21 2034.6 Z\" fill=\"#000000\" fill-rule=\"evenodd\" fill-opacity=\"1\" /><path clip-path=\"url(#clip880)\" d=\"M2136.18 2045.5 L2136.18 2059.25 L2131.89 2059.25 L2131.89 2023.46 L2136.18 2023.46 L2136.18 2027.4 Q2137.52 2025.08 2139.56 2023.97 Q2141.62 2022.84 2144.46 2022.84 Q2149.19 2022.84 2152.13 2026.59 Q2155.09 2030.34 2155.09 2036.45 Q2155.09 2042.56 2152.13 2046.31 Q2149.19 2050.06 2144.46 2050.06 Q2141.62 2050.06 2139.56 2048.95 Q2137.52 2047.82 2136.18 2045.5 M2150.67 2036.45 Q2150.67 2031.75 2148.72 2029.09 Q2146.8 2026.4 2143.42 2026.4 Q2140.04 2026.4 2138.1 2029.09 Q2136.18 2031.75 2136.18 2036.45 Q2136.18 2041.15 2138.1 2043.83 Q2140.04 2046.5 2143.42 2046.5 Q2146.8 2046.5 2148.72 2043.83 Q2150.67 2041.15 2150.67 2036.45 Z\" fill=\"#000000\" fill-rule=\"evenodd\" fill-opacity=\"1\" /><path clip-path=\"url(#clip880)\" d=\"M2177.17 2027.45 Q2176.45 2027.03 2175.6 2026.84 Q2174.76 2026.64 2173.75 2026.64 Q2170.13 2026.64 2168.19 2029 Q2166.27 2031.33 2166.27 2035.73 L2166.27 2049.39 L2161.99 2049.39 L2161.99 2023.46 L2166.27 2023.46 L2166.27 2027.49 Q2167.61 2025.13 2169.76 2024 Q2171.92 2022.84 2175 2022.84 Q2175.44 2022.84 2175.97 2022.91 Q2176.5 2022.96 2177.15 2023.07 L2177.17 2027.45 Z\" fill=\"#000000\" fill-rule=\"evenodd\" fill-opacity=\"1\" /><path clip-path=\"url(#clip880)\" d=\"M2193.42 2036.36 Q2188.26 2036.36 2186.27 2037.54 Q2184.28 2038.72 2184.28 2041.57 Q2184.28 2043.83 2185.76 2045.18 Q2187.26 2046.5 2189.83 2046.5 Q2193.38 2046.5 2195.51 2044 Q2197.66 2041.47 2197.66 2037.31 L2197.66 2036.36 L2193.42 2036.36 M2201.92 2034.6 L2201.92 2049.39 L2197.66 2049.39 L2197.66 2045.46 Q2196.2 2047.82 2194.02 2048.95 Q2191.85 2050.06 2188.7 2050.06 Q2184.72 2050.06 2182.36 2047.84 Q2180.02 2045.59 2180.02 2041.84 Q2180.02 2037.47 2182.94 2035.25 Q2185.88 2033.02 2191.69 2033.02 L2197.66 2033.02 L2197.66 2032.61 Q2197.66 2029.67 2195.71 2028.07 Q2193.79 2026.45 2190.3 2026.45 Q2188.07 2026.45 2185.97 2026.98 Q2183.86 2027.52 2181.92 2028.58 L2181.92 2024.65 Q2184.26 2023.74 2186.45 2023.3 Q2188.65 2022.84 2190.74 2022.84 Q2196.36 2022.84 2199.14 2025.76 Q2201.92 2028.67 2201.92 2034.6 Z\" fill=\"#000000\" fill-rule=\"evenodd\" fill-opacity=\"1\" /><path clip-path=\"url(#clip880)\" d=\"M2208.21 2023.46 L2212.47 2023.46 L2217.8 2043.7 L2223.1 2023.46 L2228.12 2023.46 L2233.44 2043.7 L2238.75 2023.46 L2243 2023.46 L2236.22 2049.39 L2231.2 2049.39 L2225.62 2028.14 L2220.02 2049.39 L2215 2049.39 L2208.21 2023.46 Z\" fill=\"#000000\" fill-rule=\"evenodd\" fill-opacity=\"1\" /><path clip-path=\"url(#clip880)\" d=\"M2266.52 2027.4 L2266.52 2013.37 L2270.78 2013.37 L2270.78 2049.39 L2266.52 2049.39 L2266.52 2045.5 Q2265.18 2047.82 2263.12 2048.95 Q2261.08 2050.06 2258.21 2050.06 Q2253.51 2050.06 2250.55 2046.31 Q2247.61 2042.56 2247.61 2036.45 Q2247.61 2030.34 2250.55 2026.59 Q2253.51 2022.84 2258.21 2022.84 Q2261.08 2022.84 2263.12 2023.97 Q2265.18 2025.08 2266.52 2027.4 M2252.01 2036.45 Q2252.01 2041.15 2253.93 2043.83 Q2255.88 2046.5 2259.25 2046.5 Q2262.63 2046.5 2264.58 2043.83 Q2266.52 2041.15 2266.52 2036.45 Q2266.52 2031.75 2264.58 2029.09 Q2262.63 2026.4 2259.25 2026.4 Q2255.88 2026.4 2253.93 2029.09 Q2252.01 2031.75 2252.01 2036.45 Z\" fill=\"#000000\" fill-rule=\"evenodd\" fill-opacity=\"1\" /><path clip-path=\"url(#clip880)\" d=\"M2289.6 2026.45 Q2286.18 2026.45 2284.19 2029.14 Q2282.19 2031.8 2282.19 2036.45 Q2282.19 2041.1 2284.16 2043.79 Q2286.15 2046.45 2289.6 2046.45 Q2293 2046.45 2295 2043.77 Q2296.99 2041.08 2296.99 2036.45 Q2296.99 2031.84 2295 2029.16 Q2293 2026.45 2289.6 2026.45 M2289.6 2022.84 Q2295.16 2022.84 2298.33 2026.45 Q2301.5 2030.06 2301.5 2036.45 Q2301.5 2042.82 2298.33 2046.45 Q2295.16 2050.06 2289.6 2050.06 Q2284.02 2050.06 2280.85 2046.45 Q2277.7 2042.82 2277.7 2036.45 Q2277.7 2030.06 2280.85 2026.45 Q2284.02 2022.84 2289.6 2022.84 Z\" fill=\"#000000\" fill-rule=\"evenodd\" fill-opacity=\"1\" /><path clip-path=\"url(#clip880)\" d=\"M2312.68 2045.5 L2312.68 2059.25 L2308.4 2059.25 L2308.4 2023.46 L2312.68 2023.46 L2312.68 2027.4 Q2314.02 2025.08 2316.06 2023.97 Q2318.12 2022.84 2320.97 2022.84 Q2325.69 2022.84 2328.63 2026.59 Q2331.59 2030.34 2331.59 2036.45 Q2331.59 2042.56 2328.63 2046.31 Q2325.69 2050.06 2320.97 2050.06 Q2318.12 2050.06 2316.06 2048.95 Q2314.02 2047.82 2312.68 2045.5 M2327.17 2036.45 Q2327.17 2031.75 2325.23 2029.09 Q2323.31 2026.4 2319.93 2026.4 Q2316.55 2026.4 2314.6 2029.09 Q2312.68 2031.75 2312.68 2036.45 Q2312.68 2041.15 2314.6 2043.83 Q2316.55 2046.5 2319.93 2046.5 Q2323.31 2046.5 2325.23 2043.83 Q2327.17 2041.15 2327.17 2036.45 Z\" fill=\"#000000\" fill-rule=\"evenodd\" fill-opacity=\"1\" /><path clip-path=\"url(#clip880)\" d=\"M2348.7 2026.45 Q2345.27 2026.45 2343.28 2029.14 Q2341.29 2031.8 2341.29 2036.45 Q2341.29 2041.1 2343.26 2043.79 Q2345.25 2046.45 2348.7 2046.45 Q2352.1 2046.45 2354.09 2043.77 Q2356.08 2041.08 2356.08 2036.45 Q2356.08 2031.84 2354.09 2029.16 Q2352.1 2026.45 2348.7 2026.45 M2348.7 2022.84 Q2354.25 2022.84 2357.43 2026.45 Q2360.6 2030.06 2360.6 2036.45 Q2360.6 2042.82 2357.43 2046.45 Q2354.25 2050.06 2348.7 2050.06 Q2343.12 2050.06 2339.95 2046.45 Q2336.8 2042.82 2336.8 2036.45 Q2336.8 2030.06 2339.95 2026.45 Q2343.12 2022.84 2348.7 2022.84 Z\" fill=\"#000000\" fill-rule=\"evenodd\" fill-opacity=\"1\" /><path clip-path=\"url(#clip880)\" d=\"M2384.72 2027.4 L2384.72 2013.37 L2388.98 2013.37 L2388.98 2049.39 L2384.72 2049.39 L2384.72 2045.5 Q2383.37 2047.82 2381.31 2048.95 Q2379.28 2050.06 2376.41 2050.06 Q2371.71 2050.06 2368.74 2046.31 Q2365.81 2042.56 2365.81 2036.45 Q2365.81 2030.34 2368.74 2026.59 Q2371.71 2022.84 2376.41 2022.84 Q2379.28 2022.84 2381.31 2023.97 Q2383.37 2025.08 2384.72 2027.4 M2370.2 2036.45 Q2370.2 2041.15 2372.12 2043.83 Q2374.07 2046.5 2377.45 2046.5 Q2380.83 2046.5 2382.77 2043.83 Q2384.72 2041.15 2384.72 2036.45 Q2384.72 2031.75 2382.77 2029.09 Q2380.83 2026.4 2377.45 2026.4 Q2374.07 2026.4 2372.12 2029.09 Q2370.2 2031.75 2370.2 2036.45 Z\" fill=\"#000000\" fill-rule=\"evenodd\" fill-opacity=\"1\" /><path clip-path=\"url(#clip880)\" d=\"M2407.8 2026.45 Q2404.37 2026.45 2402.38 2029.14 Q2400.39 2031.8 2400.39 2036.45 Q2400.39 2041.1 2402.36 2043.79 Q2404.35 2046.45 2407.8 2046.45 Q2411.2 2046.45 2413.19 2043.77 Q2415.18 2041.08 2415.18 2036.45 Q2415.18 2031.84 2413.19 2029.16 Q2411.2 2026.45 2407.8 2026.45 M2407.8 2022.84 Q2413.35 2022.84 2416.52 2026.45 Q2419.69 2030.06 2419.69 2036.45 Q2419.69 2042.82 2416.52 2046.45 Q2413.35 2050.06 2407.8 2050.06 Q2402.22 2050.06 2399.05 2046.45 Q2395.9 2042.82 2395.9 2036.45 Q2395.9 2030.06 2399.05 2026.45 Q2402.22 2022.84 2407.8 2022.84 Z\" fill=\"#000000\" fill-rule=\"evenodd\" fill-opacity=\"1\" /><path clip-path=\"url(#clip880)\" d=\"M2445.36 2036.45 Q2445.36 2031.75 2443.42 2029.09 Q2441.5 2026.4 2438.12 2026.4 Q2434.74 2026.4 2432.8 2029.09 Q2430.87 2031.75 2430.87 2036.45 Q2430.87 2041.15 2432.8 2043.83 Q2434.74 2046.5 2438.12 2046.5 Q2441.5 2046.5 2443.42 2043.83 Q2445.36 2041.15 2445.36 2036.45 M2430.87 2027.4 Q2432.22 2025.08 2434.25 2023.97 Q2436.31 2022.84 2439.16 2022.84 Q2443.88 2022.84 2446.82 2026.59 Q2449.79 2030.34 2449.79 2036.45 Q2449.79 2042.56 2446.82 2046.31 Q2443.88 2050.06 2439.16 2050.06 Q2436.31 2050.06 2434.25 2048.95 Q2432.22 2047.82 2430.87 2045.5 L2430.87 2049.39 L2426.59 2049.39 L2426.59 2013.37 L2430.87 2013.37 L2430.87 2027.4 Z\" fill=\"#000000\" fill-rule=\"evenodd\" fill-opacity=\"1\" /><path clip-path=\"url(#clip880)\" d=\"M2456.85 2023.46 L2461.11 2023.46 L2461.11 2049.39 L2456.85 2049.39 L2456.85 2023.46 M2456.85 2013.37 L2461.11 2013.37 L2461.11 2018.77 L2456.85 2018.77 L2456.85 2013.37 Z\" fill=\"#000000\" fill-rule=\"evenodd\" fill-opacity=\"1\" /><path clip-path=\"url(#clip880)\" d=\"M2492.19 2035.36 L2492.19 2037.45 L2472.61 2037.45 Q2472.89 2041.84 2475.25 2044.16 Q2477.63 2046.45 2481.87 2046.45 Q2484.32 2046.45 2486.61 2045.85 Q2488.93 2045.25 2491.2 2044.04 L2491.2 2048.07 Q2488.91 2049.04 2486.5 2049.55 Q2484.09 2050.06 2481.61 2050.06 Q2475.41 2050.06 2471.78 2046.45 Q2468.17 2042.84 2468.17 2036.68 Q2468.17 2030.32 2471.59 2026.59 Q2475.04 2022.84 2480.87 2022.84 Q2486.11 2022.84 2489.14 2026.22 Q2492.19 2029.58 2492.19 2035.36 M2487.93 2034.11 Q2487.89 2030.62 2485.97 2028.53 Q2484.07 2026.45 2480.92 2026.45 Q2477.36 2026.45 2475.2 2028.46 Q2473.07 2030.48 2472.75 2034.14 L2487.93 2034.11 Z\" fill=\"#000000\" fill-rule=\"evenodd\" fill-opacity=\"1\" /><path clip-path=\"url(#clip880)\" d=\"M2511.31 2011.31 L2515.92 2011.31 L2508.37 2020.02 L2504.83 2020.02 L2511.31 2011.31 M2520.73 2033.74 L2520.73 2049.39 L2516.48 2049.39 L2516.48 2033.88 Q2516.48 2030.2 2515.04 2028.37 Q2513.61 2026.54 2510.73 2026.54 Q2507.29 2026.54 2505.3 2028.74 Q2503.3 2030.94 2503.3 2034.74 L2503.3 2049.39 L2499.02 2049.39 L2499.02 2023.46 L2503.3 2023.46 L2503.3 2027.49 Q2504.83 2025.15 2506.89 2024 Q2508.98 2022.84 2511.68 2022.84 Q2516.15 2022.84 2518.44 2025.62 Q2520.73 2028.37 2520.73 2033.74 Z\" fill=\"#000000\" fill-rule=\"evenodd\" fill-opacity=\"1\" /><path clip-path=\"url(#clip880)\" d=\"M2545.76 2024.23 L2545.76 2028.26 Q2543.95 2027.33 2542.01 2026.87 Q2540.06 2026.4 2537.98 2026.4 Q2534.81 2026.4 2533.21 2027.38 Q2531.64 2028.35 2531.64 2030.29 Q2531.64 2031.77 2532.77 2032.63 Q2533.91 2033.46 2537.33 2034.23 L2538.79 2034.55 Q2543.33 2035.52 2545.23 2037.31 Q2547.15 2039.07 2547.15 2042.24 Q2547.15 2045.85 2544.28 2047.96 Q2541.43 2050.06 2536.43 2050.06 Q2534.35 2050.06 2532.08 2049.64 Q2529.83 2049.25 2527.33 2048.44 L2527.33 2044.04 Q2529.69 2045.27 2531.98 2045.89 Q2534.28 2046.5 2536.52 2046.5 Q2539.53 2046.5 2541.15 2045.48 Q2542.77 2044.44 2542.77 2042.56 Q2542.77 2040.83 2541.59 2039.9 Q2540.43 2038.97 2536.48 2038.12 L2534.99 2037.77 Q2531.04 2036.94 2529.28 2035.22 Q2527.52 2033.49 2527.52 2030.48 Q2527.52 2026.82 2530.11 2024.83 Q2532.7 2022.84 2537.47 2022.84 Q2539.83 2022.84 2541.92 2023.19 Q2544 2023.53 2545.76 2024.23 Z\" fill=\"#000000\" fill-rule=\"evenodd\" fill-opacity=\"1\" /><path clip-path=\"url(#clip880)\" d=\"M2558.14 2016.1 L2558.14 2023.46 L2566.92 2023.46 L2566.92 2026.77 L2558.14 2026.77 L2558.14 2040.85 Q2558.14 2044.02 2559 2044.92 Q2559.88 2045.83 2562.54 2045.83 L2566.92 2045.83 L2566.92 2049.39 L2562.54 2049.39 Q2557.61 2049.39 2555.73 2047.56 Q2553.86 2045.71 2553.86 2040.85 L2553.86 2026.77 L2550.73 2026.77 L2550.73 2023.46 L2553.86 2023.46 L2553.86 2016.1 L2558.14 2016.1 Z\" fill=\"#000000\" fill-rule=\"evenodd\" fill-opacity=\"1\" /><path clip-path=\"url(#clip880)\" d=\"M2570.04 2023.46 L2574.3 2023.46 L2579.62 2043.7 L2584.92 2023.46 L2589.95 2023.46 L2595.27 2043.7 L2600.57 2023.46 L2604.83 2023.46 L2598.05 2049.39 L2593.03 2049.39 L2587.45 2028.14 L2581.85 2049.39 L2576.82 2049.39 L2570.04 2023.46 Z\" fill=\"#000000\" fill-rule=\"evenodd\" fill-opacity=\"1\" /><path clip-path=\"url(#clip880)\" d=\"M2623.07 2036.36 Q2617.91 2036.36 2615.92 2037.54 Q2613.93 2038.72 2613.93 2041.57 Q2613.93 2043.83 2615.41 2045.18 Q2616.91 2046.5 2619.48 2046.5 Q2623.03 2046.5 2625.16 2044 Q2627.31 2041.47 2627.31 2037.31 L2627.31 2036.36 L2623.07 2036.36 M2631.57 2034.6 L2631.57 2049.39 L2627.31 2049.39 L2627.31 2045.46 Q2625.85 2047.82 2623.67 2048.95 Q2621.5 2050.06 2618.35 2050.06 Q2614.37 2050.06 2612.01 2047.84 Q2609.67 2045.59 2609.67 2041.84 Q2609.67 2037.47 2612.59 2035.25 Q2615.53 2033.02 2621.34 2033.02 L2627.31 2033.02 L2627.31 2032.61 Q2627.31 2029.67 2625.36 2028.07 Q2623.44 2026.45 2619.95 2026.45 Q2617.73 2026.45 2615.62 2026.98 Q2613.51 2027.52 2611.57 2028.58 L2611.57 2024.65 Q2613.91 2023.74 2616.1 2023.3 Q2618.3 2022.84 2620.39 2022.84 Q2626.01 2022.84 2628.79 2025.76 Q2631.57 2028.67 2631.57 2034.6 Z\" fill=\"#000000\" fill-rule=\"evenodd\" fill-opacity=\"1\" /><path clip-path=\"url(#clip880)\" d=\"M2672.47 2027.4 L2672.47 2013.37 L2676.73 2013.37 L2676.73 2049.39 L2672.47 2049.39 L2672.47 2045.5 Q2671.13 2047.82 2669.07 2048.95 Q2667.03 2050.06 2664.16 2050.06 Q2659.46 2050.06 2656.5 2046.31 Q2653.56 2042.56 2653.56 2036.45 Q2653.56 2030.34 2656.5 2026.59 Q2659.46 2022.84 2664.16 2022.84 Q2667.03 2022.84 2669.07 2023.97 Q2671.13 2025.08 2672.47 2027.4 M2657.96 2036.45 Q2657.96 2041.15 2659.88 2043.83 Q2661.82 2046.5 2665.2 2046.5 Q2668.58 2046.5 2670.53 2043.83 Q2672.47 2041.15 2672.47 2036.45 Q2672.47 2031.75 2670.53 2029.09 Q2668.58 2026.4 2665.2 2026.4 Q2661.82 2026.4 2659.88 2029.09 Q2657.96 2031.75 2657.96 2036.45 Z\" fill=\"#000000\" fill-rule=\"evenodd\" fill-opacity=\"1\" /><path clip-path=\"url(#clip880)\" d=\"M2695.55 2026.45 Q2692.12 2026.45 2690.13 2029.14 Q2688.14 2031.8 2688.14 2036.45 Q2688.14 2041.1 2690.11 2043.79 Q2692.1 2046.45 2695.55 2046.45 Q2698.95 2046.45 2700.94 2043.77 Q2702.93 2041.08 2702.93 2036.45 Q2702.93 2031.84 2700.94 2029.16 Q2698.95 2026.45 2695.55 2026.45 M2695.55 2022.84 Q2701.1 2022.84 2704.28 2026.45 Q2707.45 2030.06 2707.45 2036.45 Q2707.45 2042.82 2704.28 2046.45 Q2701.1 2050.06 2695.55 2050.06 Q2689.97 2050.06 2686.8 2046.45 Q2683.65 2042.82 2683.65 2036.45 Q2683.65 2030.06 2686.8 2026.45 Q2689.97 2022.84 2695.55 2022.84 Z\" fill=\"#000000\" fill-rule=\"evenodd\" fill-opacity=\"1\" /><path clip-path=\"url(#clip880)\" d=\"M2731.03 2024.23 L2731.03 2028.26 Q2729.23 2027.33 2727.28 2026.87 Q2725.34 2026.4 2723.26 2026.4 Q2720.09 2026.4 2718.49 2027.38 Q2716.91 2028.35 2716.91 2030.29 Q2716.91 2031.77 2718.05 2032.63 Q2719.18 2033.46 2722.61 2034.23 L2724.07 2034.55 Q2728.6 2035.52 2730.5 2037.31 Q2732.42 2039.07 2732.42 2042.24 Q2732.42 2045.85 2729.55 2047.96 Q2726.71 2050.06 2721.71 2050.06 Q2719.62 2050.06 2717.35 2049.64 Q2715.11 2049.25 2712.61 2048.44 L2712.61 2044.04 Q2714.97 2045.27 2717.26 2045.89 Q2719.55 2046.5 2721.8 2046.5 Q2724.81 2046.5 2726.43 2045.48 Q2728.05 2044.44 2728.05 2042.56 Q2728.05 2040.83 2726.87 2039.9 Q2725.71 2038.97 2721.75 2038.12 L2720.27 2037.77 Q2716.31 2036.94 2714.55 2035.22 Q2712.79 2033.49 2712.79 2030.48 Q2712.79 2026.82 2715.39 2024.83 Q2717.98 2022.84 2722.75 2022.84 Q2725.11 2022.84 2727.19 2023.19 Q2729.28 2023.53 2731.03 2024.23 Z\" fill=\"#000000\" fill-rule=\"evenodd\" fill-opacity=\"1\" /><path clip-path=\"url(#clip880)\" d=\"M2743.42 2016.1 L2743.42 2023.46 L2752.19 2023.46 L2752.19 2026.77 L2743.42 2026.77 L2743.42 2040.85 Q2743.42 2044.02 2744.28 2044.92 Q2745.15 2045.83 2747.82 2045.83 L2752.19 2045.83 L2752.19 2049.39 L2747.82 2049.39 Q2742.89 2049.39 2741.01 2047.56 Q2739.14 2045.71 2739.14 2040.85 L2739.14 2026.77 L2736.01 2026.77 L2736.01 2023.46 L2739.14 2023.46 L2739.14 2016.1 L2743.42 2016.1 Z\" fill=\"#000000\" fill-rule=\"evenodd\" fill-opacity=\"1\" /><path clip-path=\"url(#clip880)\" d=\"M2769.58 2036.36 Q2764.41 2036.36 2762.42 2037.54 Q2760.43 2038.72 2760.43 2041.57 Q2760.43 2043.83 2761.91 2045.18 Q2763.42 2046.5 2765.99 2046.5 Q2769.53 2046.5 2771.66 2044 Q2773.81 2041.47 2773.81 2037.31 L2773.81 2036.36 L2769.58 2036.36 M2778.07 2034.6 L2778.07 2049.39 L2773.81 2049.39 L2773.81 2045.46 Q2772.35 2047.82 2770.18 2048.95 Q2768 2050.06 2764.85 2050.06 Q2760.87 2050.06 2758.51 2047.84 Q2756.17 2045.59 2756.17 2041.84 Q2756.17 2037.47 2759.09 2035.25 Q2762.03 2033.02 2767.84 2033.02 L2773.81 2033.02 L2773.81 2032.61 Q2773.81 2029.67 2771.87 2028.07 Q2769.95 2026.45 2766.45 2026.45 Q2764.23 2026.45 2762.12 2026.98 Q2760.02 2027.52 2758.07 2028.58 L2758.07 2024.65 Q2760.41 2023.74 2762.61 2023.3 Q2764.81 2022.84 2766.89 2022.84 Q2772.52 2022.84 2775.29 2025.76 Q2778.07 2028.67 2778.07 2034.6 Z\" fill=\"#000000\" fill-rule=\"evenodd\" fill-opacity=\"1\" /><path clip-path=\"url(#clip880)\" d=\"M2784.37 2023.46 L2788.63 2023.46 L2793.95 2043.7 L2799.25 2023.46 L2804.27 2023.46 L2809.6 2043.7 L2814.9 2023.46 L2819.16 2023.46 L2812.38 2049.39 L2807.35 2049.39 L2801.77 2028.14 L2796.17 2049.39 L2791.15 2049.39 L2784.37 2023.46 Z\" fill=\"#000000\" fill-rule=\"evenodd\" fill-opacity=\"1\" /><path clip-path=\"url(#clip880)\" d=\"M2836.4 2051.8 Q2834.6 2056.43 2832.89 2057.84 Q2831.17 2059.25 2828.3 2059.25 L2824.9 2059.25 L2824.9 2055.69 L2827.4 2055.69 Q2829.16 2055.69 2830.13 2054.85 Q2831.1 2054.02 2832.28 2050.92 L2833.05 2048.97 L2822.56 2023.46 L2827.08 2023.46 L2835.18 2043.74 L2843.28 2023.46 L2847.79 2023.46 L2836.4 2051.8 Z\" fill=\"#000000\" fill-rule=\"evenodd\" fill-opacity=\"1\" /><path clip-path=\"url(#clip880)\" d=\"M2872.96 2016.1 L2872.96 2023.46 L2881.73 2023.46 L2881.73 2026.77 L2872.96 2026.77 L2872.96 2040.85 Q2872.96 2044.02 2873.81 2044.92 Q2874.69 2045.83 2877.35 2045.83 L2881.73 2045.83 L2881.73 2049.39 L2877.35 2049.39 Q2872.42 2049.39 2870.55 2047.56 Q2868.67 2045.71 2868.67 2040.85 L2868.67 2026.77 L2865.55 2026.77 L2865.55 2023.46 L2868.67 2023.46 L2868.67 2016.1 L2872.96 2016.1 Z\" fill=\"#000000\" fill-rule=\"evenodd\" fill-opacity=\"1\" /><path clip-path=\"url(#clip880)\" d=\"M2897.38 2026.45 Q2893.95 2026.45 2891.96 2029.14 Q2889.97 2031.8 2889.97 2036.45 Q2889.97 2041.1 2891.94 2043.79 Q2893.93 2046.45 2897.38 2046.45 Q2900.78 2046.45 2902.77 2043.77 Q2904.76 2041.08 2904.76 2036.45 Q2904.76 2031.84 2902.77 2029.16 Q2900.78 2026.45 2897.38 2026.45 M2897.38 2022.84 Q2902.93 2022.84 2906.1 2026.45 Q2909.27 2030.06 2909.27 2036.45 Q2909.27 2042.82 2906.1 2046.45 Q2902.93 2050.06 2897.38 2050.06 Q2891.8 2050.06 2888.63 2046.45 Q2885.48 2042.82 2885.48 2036.45 Q2885.48 2030.06 2888.63 2026.45 Q2891.8 2022.84 2897.38 2022.84 Z\" fill=\"#000000\" fill-rule=\"evenodd\" fill-opacity=\"1\" /><path clip-path=\"url(#clip880)\" d=\"M2913.86 2023.46 L2918.12 2023.46 L2923.44 2043.7 L2928.74 2023.46 L2933.77 2023.46 L2939.09 2043.7 L2944.39 2023.46 L2948.65 2023.46 L2941.87 2049.39 L2936.84 2049.39 L2931.27 2028.14 L2925.66 2049.39 L2920.64 2049.39 L2913.86 2023.46 Z\" fill=\"#000000\" fill-rule=\"evenodd\" fill-opacity=\"1\" /><path clip-path=\"url(#clip880)\" d=\"M2966.89 2036.36 Q2961.73 2036.36 2959.74 2037.54 Q2957.75 2038.72 2957.75 2041.57 Q2957.75 2043.83 2959.23 2045.18 Q2960.73 2046.5 2963.3 2046.5 Q2966.84 2046.5 2968.97 2044 Q2971.13 2041.47 2971.13 2037.31 L2971.13 2036.36 L2966.89 2036.36 M2975.39 2034.6 L2975.39 2049.39 L2971.13 2049.39 L2971.13 2045.46 Q2969.67 2047.82 2967.49 2048.95 Q2965.32 2050.06 2962.17 2050.06 Q2958.19 2050.06 2955.83 2047.84 Q2953.49 2045.59 2953.49 2041.84 Q2953.49 2037.47 2956.4 2035.25 Q2959.34 2033.02 2965.15 2033.02 L2971.13 2033.02 L2971.13 2032.61 Q2971.13 2029.67 2969.18 2028.07 Q2967.26 2026.45 2963.76 2026.45 Q2961.54 2026.45 2959.44 2026.98 Q2957.33 2027.52 2955.39 2028.58 L2955.39 2024.65 Q2957.72 2023.74 2959.92 2023.3 Q2962.12 2022.84 2964.2 2022.84 Q2969.83 2022.84 2972.61 2025.76 Q2975.39 2028.67 2975.39 2034.6 Z\" fill=\"#000000\" fill-rule=\"evenodd\" fill-opacity=\"1\" /><path clip-path=\"url(#clip880)\" d=\"M2999.18 2027.45 Q2998.46 2027.03 2997.61 2026.84 Q2996.77 2026.64 2995.76 2026.64 Q2992.14 2026.64 2990.2 2029 Q2988.28 2031.33 2988.28 2035.73 L2988.28 2049.39 L2984 2049.39 L2984 2023.46 L2988.28 2023.46 L2988.28 2027.49 Q2989.62 2025.13 2991.77 2024 Q2993.93 2022.84 2997.01 2022.84 Q2997.45 2022.84 2997.98 2022.91 Q2998.51 2022.96 2999.16 2023.07 L2999.18 2027.45 Z\" fill=\"#000000\" fill-rule=\"evenodd\" fill-opacity=\"1\" /><path clip-path=\"url(#clip880)\" d=\"M3003.21 2039.16 L3003.21 2023.46 L3007.47 2023.46 L3007.47 2039 Q3007.47 2042.68 3008.9 2044.53 Q3010.34 2046.36 3013.21 2046.36 Q3016.66 2046.36 3018.65 2044.16 Q3020.66 2041.96 3020.66 2038.16 L3020.66 2023.46 L3024.92 2023.46 L3024.92 2049.39 L3020.66 2049.39 L3020.66 2045.41 Q3019.11 2047.77 3017.05 2048.93 Q3015.01 2050.06 3012.31 2050.06 Q3007.84 2050.06 3005.52 2047.28 Q3003.21 2044.51 3003.21 2039.16 M3013.93 2022.84 L3013.93 2022.84 Z\" fill=\"#000000\" fill-rule=\"evenodd\" fill-opacity=\"1\" /><polyline clip-path=\"url(#clip880)\" style=\"stroke:#3da44d; stroke-linecap:round; stroke-linejoin:round; stroke-width:4; stroke-opacity:1; fill:none\" points=\"1710.96,2083.95 1902.71,2083.95 \"/>\n",
       "<path clip-path=\"url(#clip880)\" d=\"M1935.21 2066.67 L1962.36 2066.67 L1962.36 2070.24 L1940.51 2097.3 L1962.89 2097.3 L1962.89 2101.23 L1934.67 2101.23 L1934.67 2097.67 L1956.52 2070.61 L1935.21 2070.61 L1935.21 2066.67 Z\" fill=\"#000000\" fill-rule=\"evenodd\" fill-opacity=\"1\" /><path clip-path=\"url(#clip880)\" d=\"M1989.67 2080.28 Q1991.27 2077.41 1993.49 2076.05 Q1995.71 2074.68 1998.72 2074.68 Q2002.77 2074.68 2004.97 2077.53 Q2007.17 2080.35 2007.17 2085.58 L2007.17 2101.23 L2002.89 2101.23 L2002.89 2085.72 Q2002.89 2081.99 2001.57 2080.19 Q2000.25 2078.38 1997.54 2078.38 Q1994.23 2078.38 1992.31 2080.58 Q1990.39 2082.78 1990.39 2086.58 L1990.39 2101.23 L1986.11 2101.23 L1986.11 2085.72 Q1986.11 2081.97 1984.79 2080.19 Q1983.47 2078.38 1980.71 2078.38 Q1977.45 2078.38 1975.53 2080.61 Q1973.61 2082.8 1973.61 2086.58 L1973.61 2101.23 L1969.33 2101.23 L1969.33 2075.3 L1973.61 2075.3 L1973.61 2079.33 Q1975.07 2076.95 1977.1 2075.81 Q1979.14 2074.68 1981.94 2074.68 Q1984.77 2074.68 1986.73 2076.11 Q1988.72 2077.55 1989.67 2080.28 Z\" fill=\"#000000\" fill-rule=\"evenodd\" fill-opacity=\"1\" /><path clip-path=\"url(#clip880)\" d=\"M2015.67 2075.3 L2019.93 2075.3 L2019.93 2101.23 L2015.67 2101.23 L2015.67 2075.3 M2015.67 2065.21 L2019.93 2065.21 L2019.93 2070.61 L2015.67 2070.61 L2015.67 2065.21 Z\" fill=\"#000000\" fill-rule=\"evenodd\" fill-opacity=\"1\" /><path clip-path=\"url(#clip880)\" d=\"M2040.62 2088.2 Q2035.46 2088.2 2033.47 2089.38 Q2031.48 2090.56 2031.48 2093.41 Q2031.48 2095.67 2032.96 2097.02 Q2034.46 2098.34 2037.03 2098.34 Q2040.58 2098.34 2042.7 2095.84 Q2044.86 2093.31 2044.86 2089.15 L2044.86 2088.2 L2040.62 2088.2 M2049.12 2086.44 L2049.12 2101.23 L2044.86 2101.23 L2044.86 2097.3 Q2043.4 2099.66 2041.22 2100.79 Q2039.05 2101.9 2035.9 2101.9 Q2031.92 2101.9 2029.56 2099.68 Q2027.22 2097.43 2027.22 2093.68 Q2027.22 2089.31 2030.14 2087.09 Q2033.08 2084.86 2038.89 2084.86 L2044.86 2084.86 L2044.86 2084.45 Q2044.86 2081.51 2042.91 2079.91 Q2040.99 2078.29 2037.5 2078.29 Q2035.27 2078.29 2033.17 2078.82 Q2031.06 2079.36 2029.12 2080.42 L2029.12 2076.49 Q2031.46 2075.58 2033.65 2075.14 Q2035.85 2074.68 2037.94 2074.68 Q2043.56 2074.68 2046.34 2077.6 Q2049.12 2080.51 2049.12 2086.44 Z\" fill=\"#000000\" fill-rule=\"evenodd\" fill-opacity=\"1\" /><path clip-path=\"url(#clip880)\" d=\"M2079.44 2085.58 L2079.44 2101.23 L2075.18 2101.23 L2075.18 2085.72 Q2075.18 2082.04 2073.75 2080.21 Q2072.31 2078.38 2069.44 2078.38 Q2065.99 2078.38 2064 2080.58 Q2062.01 2082.78 2062.01 2086.58 L2062.01 2101.23 L2057.73 2101.23 L2057.73 2075.3 L2062.01 2075.3 L2062.01 2079.33 Q2063.54 2076.99 2065.6 2075.84 Q2067.68 2074.68 2070.39 2074.68 Q2074.86 2074.68 2077.15 2077.46 Q2079.44 2080.21 2079.44 2085.58 Z\" fill=\"#000000\" fill-rule=\"evenodd\" fill-opacity=\"1\" /><path clip-path=\"url(#clip880)\" d=\"M2099.72 2088.2 Q2094.56 2088.2 2092.57 2089.38 Q2090.58 2090.56 2090.58 2093.41 Q2090.58 2095.67 2092.06 2097.02 Q2093.56 2098.34 2096.13 2098.34 Q2099.67 2098.34 2101.8 2095.84 Q2103.95 2093.31 2103.95 2089.15 L2103.95 2088.2 L2099.72 2088.2 M2108.21 2086.44 L2108.21 2101.23 L2103.95 2101.23 L2103.95 2097.3 Q2102.5 2099.66 2100.32 2100.79 Q2098.14 2101.9 2095 2101.9 Q2091.01 2101.9 2088.65 2099.68 Q2086.32 2097.43 2086.32 2093.68 Q2086.32 2089.31 2089.23 2087.09 Q2092.17 2084.86 2097.98 2084.86 L2103.95 2084.86 L2103.95 2084.45 Q2103.95 2081.51 2102.01 2079.91 Q2100.09 2078.29 2096.59 2078.29 Q2094.37 2078.29 2092.26 2078.82 Q2090.16 2079.36 2088.21 2080.42 L2088.21 2076.49 Q2090.55 2075.58 2092.75 2075.14 Q2094.95 2074.68 2097.03 2074.68 Q2102.66 2074.68 2105.44 2077.6 Q2108.21 2080.51 2108.21 2086.44 Z\" fill=\"#000000\" fill-rule=\"evenodd\" fill-opacity=\"1\" /><path clip-path=\"url(#clip880)\" d=\"M2131.89 2065.21 L2136.18 2065.21 L2136.18 2086.48 L2148.88 2075.3 L2154.32 2075.3 L2140.57 2087.43 L2154.9 2101.23 L2149.35 2101.23 L2136.18 2088.57 L2136.18 2101.23 L2131.89 2101.23 L2131.89 2065.21 Z\" fill=\"#000000\" fill-rule=\"evenodd\" fill-opacity=\"1\" /><path clip-path=\"url(#clip880)\" d=\"M2167.87 2078.29 Q2164.44 2078.29 2162.45 2080.98 Q2160.46 2083.64 2160.46 2088.29 Q2160.46 2092.94 2162.43 2095.63 Q2164.42 2098.29 2167.87 2098.29 Q2171.27 2098.29 2173.26 2095.61 Q2175.25 2092.92 2175.25 2088.29 Q2175.25 2083.68 2173.26 2081 Q2171.27 2078.29 2167.87 2078.29 M2167.87 2074.68 Q2173.42 2074.68 2176.59 2078.29 Q2179.76 2081.9 2179.76 2088.29 Q2179.76 2094.66 2176.59 2098.29 Q2173.42 2101.9 2167.87 2101.9 Q2162.29 2101.9 2159.12 2098.29 Q2155.97 2094.66 2155.97 2088.29 Q2155.97 2081.9 2159.12 2078.29 Q2162.29 2074.68 2167.87 2074.68 Z\" fill=\"#000000\" fill-rule=\"evenodd\" fill-opacity=\"1\" /><path clip-path=\"url(#clip880)\" d=\"M2203.35 2076.07 L2203.35 2080.1 Q2201.55 2079.17 2199.6 2078.71 Q2197.66 2078.24 2195.57 2078.24 Q2192.4 2078.24 2190.81 2079.22 Q2189.23 2080.19 2189.23 2082.13 Q2189.23 2083.61 2190.37 2084.47 Q2191.5 2085.3 2194.93 2086.07 L2196.38 2086.39 Q2200.92 2087.36 2202.82 2089.15 Q2204.74 2090.91 2204.74 2094.08 Q2204.74 2097.69 2201.87 2099.8 Q2199.02 2101.9 2194.02 2101.9 Q2191.94 2101.9 2189.67 2101.48 Q2187.43 2101.09 2184.93 2100.28 L2184.93 2095.88 Q2187.29 2097.11 2189.58 2097.73 Q2191.87 2098.34 2194.12 2098.34 Q2197.13 2098.34 2198.75 2097.32 Q2200.37 2096.28 2200.37 2094.4 Q2200.37 2092.67 2199.19 2091.74 Q2198.03 2090.81 2194.07 2089.96 L2192.59 2089.61 Q2188.63 2088.78 2186.87 2087.06 Q2185.11 2085.33 2185.11 2082.32 Q2185.11 2078.66 2187.7 2076.67 Q2190.3 2074.68 2195.07 2074.68 Q2197.43 2074.68 2199.51 2075.03 Q2201.59 2075.37 2203.35 2076.07 Z\" fill=\"#000000\" fill-rule=\"evenodd\" fill-opacity=\"1\" /><path clip-path=\"url(#clip880)\" d=\"M2209.67 2075.3 L2229.9 2075.3 L2229.9 2079.19 L2213.88 2097.83 L2229.9 2097.83 L2229.9 2101.23 L2209.09 2101.23 L2209.09 2097.34 L2225.11 2078.71 L2209.67 2078.71 L2209.67 2075.3 Z\" fill=\"#000000\" fill-rule=\"evenodd\" fill-opacity=\"1\" /><path clip-path=\"url(#clip880)\" d=\"M2240.62 2067.94 L2240.62 2075.3 L2249.39 2075.3 L2249.39 2078.61 L2240.62 2078.61 L2240.62 2092.69 Q2240.62 2095.86 2241.48 2096.76 Q2242.36 2097.67 2245.02 2097.67 L2249.39 2097.67 L2249.39 2101.23 L2245.02 2101.23 Q2240.09 2101.23 2238.21 2099.4 Q2236.34 2097.55 2236.34 2092.69 L2236.34 2078.61 L2233.21 2078.61 L2233.21 2075.3 L2236.34 2075.3 L2236.34 2067.94 L2240.62 2067.94 Z\" fill=\"#000000\" fill-rule=\"evenodd\" fill-opacity=\"1\" /><path clip-path=\"url(#clip880)\" d=\"M2265.04 2078.29 Q2261.62 2078.29 2259.63 2080.98 Q2257.63 2083.64 2257.63 2088.29 Q2257.63 2092.94 2259.6 2095.63 Q2261.59 2098.29 2265.04 2098.29 Q2268.44 2098.29 2270.44 2095.61 Q2272.43 2092.92 2272.43 2088.29 Q2272.43 2083.68 2270.44 2081 Q2268.44 2078.29 2265.04 2078.29 M2265.04 2074.68 Q2270.6 2074.68 2273.77 2078.29 Q2276.94 2081.9 2276.94 2088.29 Q2276.94 2094.66 2273.77 2098.29 Q2270.6 2101.9 2265.04 2101.9 Q2259.46 2101.9 2256.29 2098.29 Q2253.14 2094.66 2253.14 2088.29 Q2253.14 2081.9 2256.29 2078.29 Q2259.46 2074.68 2265.04 2074.68 M2268.26 2063.31 L2272.87 2063.31 L2265.32 2072.02 L2261.78 2072.02 L2268.26 2063.31 Z\" fill=\"#000000\" fill-rule=\"evenodd\" fill-opacity=\"1\" /><path clip-path=\"url(#clip880)\" d=\"M2281.52 2075.3 L2285.78 2075.3 L2291.11 2095.54 L2296.41 2075.3 L2301.43 2075.3 L2306.75 2095.54 L2312.06 2075.3 L2316.31 2075.3 L2309.53 2101.23 L2304.51 2101.23 L2298.93 2079.98 L2293.33 2101.23 L2288.31 2101.23 L2281.52 2075.3 Z\" fill=\"#000000\" fill-rule=\"evenodd\" fill-opacity=\"1\" /><path clip-path=\"url(#clip880)\" d=\"M2335.99 2075.3 L2356.22 2075.3 L2356.22 2079.19 L2340.2 2097.83 L2356.22 2097.83 L2356.22 2101.23 L2335.41 2101.23 L2335.41 2097.34 L2351.43 2078.71 L2335.99 2078.71 L2335.99 2075.3 Z\" fill=\"#000000\" fill-rule=\"evenodd\" fill-opacity=\"1\" /><path clip-path=\"url(#clip880)\" d=\"M2374.51 2088.2 Q2369.35 2088.2 2367.36 2089.38 Q2365.37 2090.56 2365.37 2093.41 Q2365.37 2095.67 2366.85 2097.02 Q2368.35 2098.34 2370.92 2098.34 Q2374.46 2098.34 2376.59 2095.84 Q2378.74 2093.31 2378.74 2089.15 L2378.74 2088.2 L2374.51 2088.2 M2383 2086.44 L2383 2101.23 L2378.74 2101.23 L2378.74 2097.3 Q2377.29 2099.66 2375.11 2100.79 Q2372.93 2101.9 2369.79 2101.9 Q2365.81 2101.9 2363.44 2099.68 Q2361.11 2097.43 2361.11 2093.68 Q2361.11 2089.31 2364.02 2087.09 Q2366.96 2084.86 2372.77 2084.86 L2378.74 2084.86 L2378.74 2084.45 Q2378.74 2081.51 2376.8 2079.91 Q2374.88 2078.29 2371.38 2078.29 Q2369.16 2078.29 2367.06 2078.82 Q2364.95 2079.36 2363 2080.42 L2363 2076.49 Q2365.34 2075.58 2367.54 2075.14 Q2369.74 2074.68 2371.82 2074.68 Q2377.45 2074.68 2380.23 2077.6 Q2383 2080.51 2383 2086.44 Z\" fill=\"#000000\" fill-rule=\"evenodd\" fill-opacity=\"1\" /><path clip-path=\"url(#clip880)\" d=\"M2423.91 2079.24 L2423.91 2065.21 L2428.17 2065.21 L2428.17 2101.23 L2423.91 2101.23 L2423.91 2097.34 Q2422.56 2099.66 2420.5 2100.79 Q2418.47 2101.9 2415.6 2101.9 Q2410.9 2101.9 2407.93 2098.15 Q2404.99 2094.4 2404.99 2088.29 Q2404.99 2082.18 2407.93 2078.43 Q2410.9 2074.68 2415.6 2074.68 Q2418.47 2074.68 2420.5 2075.81 Q2422.56 2076.92 2423.91 2079.24 M2409.39 2088.29 Q2409.39 2092.99 2411.31 2095.67 Q2413.26 2098.34 2416.64 2098.34 Q2420.02 2098.34 2421.96 2095.67 Q2423.91 2092.99 2423.91 2088.29 Q2423.91 2083.59 2421.96 2080.93 Q2420.02 2078.24 2416.64 2078.24 Q2413.26 2078.24 2411.31 2080.93 Q2409.39 2083.59 2409.39 2088.29 Z\" fill=\"#000000\" fill-rule=\"evenodd\" fill-opacity=\"1\" /><path clip-path=\"url(#clip880)\" d=\"M2446.99 2078.29 Q2443.56 2078.29 2441.57 2080.98 Q2439.58 2083.64 2439.58 2088.29 Q2439.58 2092.94 2441.55 2095.63 Q2443.54 2098.29 2446.99 2098.29 Q2450.39 2098.29 2452.38 2095.61 Q2454.37 2092.92 2454.37 2088.29 Q2454.37 2083.68 2452.38 2081 Q2450.39 2078.29 2446.99 2078.29 M2446.99 2074.68 Q2452.54 2074.68 2455.71 2078.29 Q2458.88 2081.9 2458.88 2088.29 Q2458.88 2094.66 2455.71 2098.29 Q2452.54 2101.9 2446.99 2101.9 Q2441.41 2101.9 2438.24 2098.29 Q2435.09 2094.66 2435.09 2088.29 Q2435.09 2081.9 2438.24 2078.29 Q2441.41 2074.68 2446.99 2074.68 Z\" fill=\"#000000\" fill-rule=\"evenodd\" fill-opacity=\"1\" /><path clip-path=\"url(#clip880)\" d=\"M2482.47 2076.07 L2482.47 2080.1 Q2480.67 2079.17 2478.72 2078.71 Q2476.78 2078.24 2474.69 2078.24 Q2471.52 2078.24 2469.92 2079.22 Q2468.35 2080.19 2468.35 2082.13 Q2468.35 2083.61 2469.49 2084.47 Q2470.62 2085.3 2474.05 2086.07 L2475.5 2086.39 Q2480.04 2087.36 2481.94 2089.15 Q2483.86 2090.91 2483.86 2094.08 Q2483.86 2097.69 2480.99 2099.8 Q2478.14 2101.9 2473.14 2101.9 Q2471.06 2101.9 2468.79 2101.48 Q2466.55 2101.09 2464.05 2100.28 L2464.05 2095.88 Q2466.41 2097.11 2468.7 2097.73 Q2470.99 2098.34 2473.24 2098.34 Q2476.24 2098.34 2477.86 2097.32 Q2479.49 2096.28 2479.49 2094.4 Q2479.49 2092.67 2478.3 2091.74 Q2477.15 2090.81 2473.19 2089.96 L2471.71 2089.61 Q2467.75 2088.78 2465.99 2087.06 Q2464.23 2085.33 2464.23 2082.32 Q2464.23 2078.66 2466.82 2076.67 Q2469.42 2074.68 2474.18 2074.68 Q2476.55 2074.68 2478.63 2075.03 Q2480.71 2075.37 2482.47 2076.07 Z\" fill=\"#000000\" fill-rule=\"evenodd\" fill-opacity=\"1\" /><path clip-path=\"url(#clip880)\" d=\"M2494.86 2067.94 L2494.86 2075.3 L2503.63 2075.3 L2503.63 2078.61 L2494.86 2078.61 L2494.86 2092.69 Q2494.86 2095.86 2495.71 2096.76 Q2496.59 2097.67 2499.25 2097.67 L2503.63 2097.67 L2503.63 2101.23 L2499.25 2101.23 Q2494.32 2101.23 2492.45 2099.4 Q2490.57 2097.55 2490.57 2092.69 L2490.57 2078.61 L2487.45 2078.61 L2487.45 2075.3 L2490.57 2075.3 L2490.57 2067.94 L2494.86 2067.94 Z\" fill=\"#000000\" fill-rule=\"evenodd\" fill-opacity=\"1\" /><path clip-path=\"url(#clip880)\" d=\"M2521.01 2088.2 Q2515.85 2088.2 2513.86 2089.38 Q2511.87 2090.56 2511.87 2093.41 Q2511.87 2095.67 2513.35 2097.02 Q2514.86 2098.34 2517.42 2098.34 Q2520.97 2098.34 2523.1 2095.84 Q2525.25 2093.31 2525.25 2089.15 L2525.25 2088.2 L2521.01 2088.2 M2529.51 2086.44 L2529.51 2101.23 L2525.25 2101.23 L2525.25 2097.3 Q2523.79 2099.66 2521.61 2100.79 Q2519.44 2101.9 2516.29 2101.9 Q2512.31 2101.9 2509.95 2099.68 Q2507.61 2097.43 2507.61 2093.68 Q2507.61 2089.31 2510.53 2087.09 Q2513.47 2084.86 2519.28 2084.86 L2525.25 2084.86 L2525.25 2084.45 Q2525.25 2081.51 2523.3 2079.91 Q2521.38 2078.29 2517.89 2078.29 Q2515.67 2078.29 2513.56 2078.82 Q2511.45 2079.36 2509.51 2080.42 L2509.51 2076.49 Q2511.85 2075.58 2514.05 2075.14 Q2516.24 2074.68 2518.33 2074.68 Q2523.95 2074.68 2526.73 2077.6 Q2529.51 2080.51 2529.51 2086.44 Z\" fill=\"#000000\" fill-rule=\"evenodd\" fill-opacity=\"1\" /><path clip-path=\"url(#clip880)\" d=\"M2535.8 2075.3 L2540.06 2075.3 L2545.39 2095.54 L2550.69 2075.3 L2555.71 2075.3 L2561.04 2095.54 L2566.34 2075.3 L2570.6 2075.3 L2563.81 2101.23 L2558.79 2101.23 L2553.21 2079.98 L2547.61 2101.23 L2542.59 2101.23 L2535.8 2075.3 Z\" fill=\"#000000\" fill-rule=\"evenodd\" fill-opacity=\"1\" /><path clip-path=\"url(#clip880)\" d=\"M2599.23 2087.2 L2599.23 2089.29 L2579.65 2089.29 Q2579.92 2093.68 2582.29 2096 Q2584.67 2098.29 2588.91 2098.29 Q2591.36 2098.29 2593.65 2097.69 Q2595.97 2097.09 2598.23 2095.88 L2598.23 2099.91 Q2595.94 2100.88 2593.54 2101.39 Q2591.13 2101.9 2588.65 2101.9 Q2582.45 2101.9 2578.81 2098.29 Q2575.2 2094.68 2575.2 2088.52 Q2575.2 2082.16 2578.63 2078.43 Q2582.08 2074.68 2587.91 2074.68 Q2593.14 2074.68 2596.17 2078.06 Q2599.23 2081.42 2599.23 2087.2 M2594.97 2085.95 Q2594.92 2082.46 2593 2080.37 Q2591.1 2078.29 2587.96 2078.29 Q2584.39 2078.29 2582.24 2080.3 Q2580.11 2082.32 2579.79 2085.98 L2594.97 2085.95 M2591.48 2101.23 L2594.23 2101.23 Q2593.19 2102.64 2592.68 2103.66 Q2592.19 2104.68 2592.19 2105.4 Q2592.19 2106.46 2592.82 2106.99 Q2593.47 2107.53 2594.72 2107.53 Q2595.46 2107.53 2596.17 2107.34 Q2596.89 2107.18 2597.61 2106.83 L2597.61 2109.91 Q2596.73 2110.14 2595.94 2110.26 Q2595.16 2110.37 2594.46 2110.37 Q2591.64 2110.37 2590.29 2109.36 Q2588.98 2108.36 2588.98 2106.21 Q2588.98 2105.1 2589.58 2103.87 Q2590.2 2102.67 2591.48 2101.23 Z\" fill=\"#000000\" fill-rule=\"evenodd\" fill-opacity=\"1\" /></svg>\n"
      ]
     },
     "execution_count": 71,
     "metadata": {},
     "output_type": "execute_result"
    }
   ],
   "source": [
    "Random.seed!(10)\n",
    "# Parametry symulacji\n",
    "m = 30\n",
    "s = 20\n",
    "S = 180\n",
    "h = 0.1\n",
    "c = 4.0\n",
    "p = 0.75\n",
    "K = 100\n",
    "k = 1.0\n",
    "init_S = 100\n",
    "average_demand = 20\n",
    "storage_cost_change = zeros(Float64, 6)\n",
    "prob_of_delivery_change = zeros(Float64, 6)\n",
    "fixed_order_cost_change = zeros(Float64, 6)\n",
    "\n",
    "\n",
    "# Symulacja i obliczenie wyników\n",
    "for (i, storage_cost) in enumerate([0, 0.05, 0.1, 0.25, 0.5, 0.75])\n",
    "    results = DataFrame(simulateOneRun(m, s, S, h=h*(storage_cost + 1), c=c, p=p, K=K, k=k, init_S=init_S, average_demand=average_demand) for n in 1:1000)\n",
    "    storage_cost_change[i] = mean(results.profit)\n",
    "end\n",
    "\n",
    "for (i, prob_of_delivery) in enumerate([0, 0.05, 0.1, 0.25, 0.5, 0.75])\n",
    "    results = DataFrame(simulateOneRun(m, s, S, h=h, c=c, p=prob_of_delivery, K=K, k=k, init_S=init_S, average_demand=average_demand) for n in 1:1000)\n",
    "    prob_of_delivery_change[i] = mean(results.profit)\n",
    "end\n",
    "\n",
    "for (i, fixed_order_cost) in enumerate([0, 0.05, 0.1, 0.25, 0.5, 0.75])\n",
    "    results = DataFrame(simulateOneRun(m, s, S, h=h, c=c, p=p, K=K*(1+fixed_order_cost), k=k, init_S=init_S, average_demand=average_demand) for n in 1:1000)\n",
    "    fixed_order_cost_change[i] = mean(results.profit)\n",
    "end\n",
    "\n",
    "\n",
    "\n",
    "plot([0, 0.05, 0.1, 0.25, 0.5, 0.75], storage_cost_change, label=\"Zmiana kosztów przechowywania\")\n",
    "plot!([0, 0.05, 0.1, 0.25, 0.5, 0.75], prob_of_delivery_change, label=\"Zmiana prawdopodobieństwa dostawy towaru\")\n",
    "plot!([0, 0.05, 0.1, 0.25, 0.5, 0.75], fixed_order_cost_change, label=\"Zmiana kosztów za dostawę\")\n",
    "title!(\"Wykres zmiany profitu w zależności od poziomum parametrów\")\n",
    "xlabel!(\"Zmiana [%]\")\n",
    "ylabel!(\"Profit\")"
   ]
  },
  {
   "cell_type": "code",
   "execution_count": 87,
   "metadata": {},
   "outputs": [
    {
     "data": {
      "text/html": [
       "<div><div style = \"float: left;\"><span>6×2 DataFrame</span></div><div style = \"clear: both;\"></div></div><div class = \"data-frame\" style = \"overflow-x: scroll;\"><table class = \"data-frame\" style = \"margin-bottom: 6px;\"><thead><tr class = \"header\"><th class = \"rowNumber\" style = \"font-weight: bold; text-align: right;\">Row</th><th style = \"text-align: left;\">Profit</th><th style = \"text-align: left;\">Koszt_przechowania_jednostki_towaru</th></tr><tr class = \"subheader headerLastRow\"><th class = \"rowNumber\" style = \"font-weight: bold; text-align: right;\"></th><th title = \"Float64\" style = \"text-align: left;\">Float64</th><th title = \"Float64\" style = \"text-align: left;\">Float64</th></tr></thead><tbody><tr><td class = \"rowNumber\" style = \"font-weight: bold; text-align: right;\">1</td><td style = \"text-align: right;\">1311.78</td><td style = \"text-align: right;\">0.1</td></tr><tr><td class = \"rowNumber\" style = \"font-weight: bold; text-align: right;\">2</td><td style = \"text-align: right;\">1303.41</td><td style = \"text-align: right;\">0.105</td></tr><tr><td class = \"rowNumber\" style = \"font-weight: bold; text-align: right;\">3</td><td style = \"text-align: right;\">1280.75</td><td style = \"text-align: right;\">0.11</td></tr><tr><td class = \"rowNumber\" style = \"font-weight: bold; text-align: right;\">4</td><td style = \"text-align: right;\">1256.9</td><td style = \"text-align: right;\">0.125</td></tr><tr><td class = \"rowNumber\" style = \"font-weight: bold; text-align: right;\">5</td><td style = \"text-align: right;\">1217.25</td><td style = \"text-align: right;\">0.15</td></tr><tr><td class = \"rowNumber\" style = \"font-weight: bold; text-align: right;\">6</td><td style = \"text-align: right;\">1173.51</td><td style = \"text-align: right;\">0.175</td></tr></tbody></table></div>"
      ],
      "text/latex": [
       "\\begin{tabular}{r|cc}\n",
       "\t& Profit & Koszt\\_przechowania\\_jednostki\\_towaru\\\\\n",
       "\t\\hline\n",
       "\t& Float64 & Float64\\\\\n",
       "\t\\hline\n",
       "\t1 & 1311.78 & 0.1 \\\\\n",
       "\t2 & 1303.41 & 0.105 \\\\\n",
       "\t3 & 1280.75 & 0.11 \\\\\n",
       "\t4 & 1256.9 & 0.125 \\\\\n",
       "\t5 & 1217.25 & 0.15 \\\\\n",
       "\t6 & 1173.51 & 0.175 \\\\\n",
       "\\end{tabular}\n"
      ],
      "text/plain": [
       "\u001b[1m6×2 DataFrame\u001b[0m\n",
       "\u001b[1m Row \u001b[0m│\u001b[1m Profit  \u001b[0m\u001b[1m Koszt_przechowania_jednostki_towaru \u001b[0m\n",
       "     │\u001b[90m Float64 \u001b[0m\u001b[90m Float64                             \u001b[0m\n",
       "─────┼──────────────────────────────────────────────\n",
       "   1 │ 1311.78                                0.1\n",
       "   2 │ 1303.41                                0.105\n",
       "   3 │ 1280.75                                0.11\n",
       "   4 │ 1256.9                                 0.125\n",
       "   5 │ 1217.25                                0.15\n",
       "   6 │ 1173.51                                0.175"
      ]
     },
     "execution_count": 87,
     "metadata": {},
     "output_type": "execute_result"
    }
   ],
   "source": [
    "using DataFrames\n",
    "Profit = storage_cost_change\n",
    "koszt_przechowania_jednostki_towaru = [1, 1.05, 1.1, 1.25, 1.5, 1.75] .* 0.1\n",
    "df = DataFrame(Profit = Profit, Koszt_przechowania_jednostki_towaru = koszt_przechowania_jednostki_towaru)"
   ]
  },
  {
   "cell_type": "code",
   "execution_count": 88,
   "metadata": {},
   "outputs": [
    {
     "data": {
      "text/html": [
       "<div><div style = \"float: left;\"><span>6×2 DataFrame</span></div><div style = \"clear: both;\"></div></div><div class = \"data-frame\" style = \"overflow-x: scroll;\"><table class = \"data-frame\" style = \"margin-bottom: 6px;\"><thead><tr class = \"header\"><th class = \"rowNumber\" style = \"font-weight: bold; text-align: right;\">Row</th><th style = \"text-align: left;\">Profit</th><th style = \"text-align: left;\">Pradopodobieństwa_dostawy</th></tr><tr class = \"subheader headerLastRow\"><th class = \"rowNumber\" style = \"font-weight: bold; text-align: right;\"></th><th title = \"Float64\" style = \"text-align: left;\">Float64</th><th title = \"Float64\" style = \"text-align: left;\">Float64</th></tr></thead><tbody><tr><td class = \"rowNumber\" style = \"font-weight: bold; text-align: right;\">1</td><td style = \"text-align: right;\">389.446</td><td style = \"text-align: right;\">0.0</td></tr><tr><td class = \"rowNumber\" style = \"font-weight: bold; text-align: right;\">2</td><td style = \"text-align: right;\">662.208</td><td style = \"text-align: right;\">0.05</td></tr><tr><td class = \"rowNumber\" style = \"font-weight: bold; text-align: right;\">3</td><td style = \"text-align: right;\">807.51</td><td style = \"text-align: right;\">0.1</td></tr><tr><td class = \"rowNumber\" style = \"font-weight: bold; text-align: right;\">4</td><td style = \"text-align: right;\">1066.92</td><td style = \"text-align: right;\">0.25</td></tr><tr><td class = \"rowNumber\" style = \"font-weight: bold; text-align: right;\">5</td><td style = \"text-align: right;\">1218.09</td><td style = \"text-align: right;\">0.5</td></tr><tr><td class = \"rowNumber\" style = \"font-weight: bold; text-align: right;\">6</td><td style = \"text-align: right;\">1306.15</td><td style = \"text-align: right;\">0.75</td></tr></tbody></table></div>"
      ],
      "text/latex": [
       "\\begin{tabular}{r|cc}\n",
       "\t& Profit & Pradopodobieństwa\\_dostawy\\\\\n",
       "\t\\hline\n",
       "\t& Float64 & Float64\\\\\n",
       "\t\\hline\n",
       "\t1 & 389.446 & 0.0 \\\\\n",
       "\t2 & 662.208 & 0.05 \\\\\n",
       "\t3 & 807.51 & 0.1 \\\\\n",
       "\t4 & 1066.92 & 0.25 \\\\\n",
       "\t5 & 1218.09 & 0.5 \\\\\n",
       "\t6 & 1306.15 & 0.75 \\\\\n",
       "\\end{tabular}\n"
      ],
      "text/plain": [
       "\u001b[1m6×2 DataFrame\u001b[0m\n",
       "\u001b[1m Row \u001b[0m│\u001b[1m Profit   \u001b[0m\u001b[1m Pradopodobieństwa_dostawy \u001b[0m\n",
       "     │\u001b[90m Float64  \u001b[0m\u001b[90m Float64                   \u001b[0m\n",
       "─────┼─────────────────────────────────────\n",
       "   1 │  389.446                       0.0\n",
       "   2 │  662.208                       0.05\n",
       "   3 │  807.51                        0.1\n",
       "   4 │ 1066.92                        0.25\n",
       "   5 │ 1218.09                        0.5\n",
       "   6 │ 1306.15                        0.75"
      ]
     },
     "execution_count": 88,
     "metadata": {},
     "output_type": "execute_result"
    }
   ],
   "source": [
    "using DataFrames\n",
    "Profit = prob_of_delivery_change\n",
    "Zmiana_pradopodobieństwa_dostawy = [0, 0.05, 0.1, 0.25, 0.5, 0.75]\n",
    "df = DataFrame(Profit = Profit, Pradopodobieństwa_dostawy = Zmiana_pradopodobieństwa_dostawy)"
   ]
  },
  {
   "cell_type": "code",
   "execution_count": 82,
   "metadata": {},
   "outputs": [
    {
     "data": {
      "text/html": [
       "<div><div style = \"float: left;\"><span>6×2 DataFrame</span></div><div style = \"clear: both;\"></div></div><div class = \"data-frame\" style = \"overflow-x: scroll;\"><table class = \"data-frame\" style = \"margin-bottom: 6px;\"><thead><tr class = \"header\"><th class = \"rowNumber\" style = \"font-weight: bold; text-align: right;\">Row</th><th style = \"text-align: left;\">Profit</th><th style = \"text-align: left;\">Zmiana_kosztow_dostawy</th></tr><tr class = \"subheader headerLastRow\"><th class = \"rowNumber\" style = \"font-weight: bold; text-align: right;\"></th><th title = \"Float64\" style = \"text-align: left;\">Float64</th><th title = \"Float64\" style = \"text-align: left;\">Float64</th></tr></thead><tbody><tr><td class = \"rowNumber\" style = \"font-weight: bold; text-align: right;\">1</td><td style = \"text-align: right;\">1303.32</td><td style = \"text-align: right;\">100.0</td></tr><tr><td class = \"rowNumber\" style = \"font-weight: bold; text-align: right;\">2</td><td style = \"text-align: right;\">1289.1</td><td style = \"text-align: right;\">105.0</td></tr><tr><td class = \"rowNumber\" style = \"font-weight: bold; text-align: right;\">3</td><td style = \"text-align: right;\">1280.83</td><td style = \"text-align: right;\">110.0</td></tr><tr><td class = \"rowNumber\" style = \"font-weight: bold; text-align: right;\">4</td><td style = \"text-align: right;\">1226.6</td><td style = \"text-align: right;\">125.0</td></tr><tr><td class = \"rowNumber\" style = \"font-weight: bold; text-align: right;\">5</td><td style = \"text-align: right;\">1150.85</td><td style = \"text-align: right;\">150.0</td></tr><tr><td class = \"rowNumber\" style = \"font-weight: bold; text-align: right;\">6</td><td style = \"text-align: right;\">1074.9</td><td style = \"text-align: right;\">175.0</td></tr></tbody></table></div>"
      ],
      "text/latex": [
       "\\begin{tabular}{r|cc}\n",
       "\t& Profit & Zmiana\\_kosztow\\_dostawy\\\\\n",
       "\t\\hline\n",
       "\t& Float64 & Float64\\\\\n",
       "\t\\hline\n",
       "\t1 & 1303.32 & 100.0 \\\\\n",
       "\t2 & 1289.1 & 105.0 \\\\\n",
       "\t3 & 1280.83 & 110.0 \\\\\n",
       "\t4 & 1226.6 & 125.0 \\\\\n",
       "\t5 & 1150.85 & 150.0 \\\\\n",
       "\t6 & 1074.9 & 175.0 \\\\\n",
       "\\end{tabular}\n"
      ],
      "text/plain": [
       "\u001b[1m6×2 DataFrame\u001b[0m\n",
       "\u001b[1m Row \u001b[0m│\u001b[1m Profit  \u001b[0m\u001b[1m Zmiana_kosztow_dostawy \u001b[0m\n",
       "     │\u001b[90m Float64 \u001b[0m\u001b[90m Float64                \u001b[0m\n",
       "─────┼─────────────────────────────────\n",
       "   1 │ 1303.32                   100.0\n",
       "   2 │ 1289.1                    105.0\n",
       "   3 │ 1280.83                   110.0\n",
       "   4 │ 1226.6                    125.0\n",
       "   5 │ 1150.85                   150.0\n",
       "   6 │ 1074.9                    175.0"
      ]
     },
     "execution_count": 82,
     "metadata": {},
     "output_type": "execute_result"
    }
   ],
   "source": [
    "using DataFrames\n",
    "Profit = fixed_order_cost_change\n",
    "Zmiana_kosztow_dostawy = [1, 1.05, 1.1, 1.25, 1.5, 1.75] .* 100\n",
    "df = DataFrame(Profit = Profit, Zmiana_kosztow_dostawy = Zmiana_kosztow_dostawy)"
   ]
  },
  {
   "cell_type": "code",
   "execution_count": null,
   "metadata": {},
   "outputs": [],
   "source": []
  }
 ],
 "metadata": {
  "kernelspec": {
   "display_name": "Julia 1.8.5",
   "language": "julia",
   "name": "julia-1.8"
  },
  "language_info": {
   "file_extension": ".jl",
   "mimetype": "application/julia",
   "name": "julia",
   "version": "1.8.5"
  }
 },
 "nbformat": 4,
 "nbformat_minor": 2
}
