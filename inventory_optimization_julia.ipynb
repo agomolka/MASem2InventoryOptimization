{
 "cells": [
  {
   "cell_type": "code",
   "execution_count": 1,
   "metadata": {},
   "outputs": [
    {
     "data": {
      "text/plain": [
       "0.0"
      ]
     },
     "execution_count": 1,
     "metadata": {},
     "output_type": "execute_result"
    }
   ],
   "source": [
    "using Random, Distributions, Statistics, DataFrames # w terminalu wpisac julia, potem ] i komenda np. add DataFrames\n",
    "\n",
    "h = 0.1 #storage cost koszt przechowywania (finansowy proporcjonalny to stop procentowy) \n",
    "        #dobry do analizy wrazliwosci\n",
    "c = 2.0 #unit profit  (marza) \n",
    "p = 0.50 #probability of delivery (na 50 za 1 dni 25% za 2 dni  )\n",
    "K = 40 # fixed order cost kierowca chwcyeneie za telefon \n",
    "k = 1.0 # variable order cost liczba przewzoych jednostek \n",
    "average_demand = 20 \n",
    "\n",
    "s = 30 #zmienne decyzycjne  s S je mamy znalezc jesli poziom zapasu spadnie do 30 albo mniej to wtedy dobijamy do 50 \n",
    "S = 50 \n",
    "\n",
    "X = 100  # poczatek dnia pierwszego symulacji\n",
    "profit = 0.0 # ktora kazdnego dnia bedziemy dodawac ( to nie jest parametr zmienna stanu)\n",
    "# wzgledme ktorych robimy analize wrazliwosci \n",
    "# trzeba wybrac na wiecej 2 naraz \n",
    "#bedziemy szukac s S ktore generuja najwiekszy profit "
   ]
  },
  {
   "cell_type": "code",
   "execution_count": 2,
   "metadata": {},
   "outputs": [
    {
     "data": {
      "text/plain": [
       "10-element Vector{Int64}:\n",
       " 15\n",
       " 17\n",
       " 17\n",
       " 15\n",
       " 17\n",
       " 12\n",
       " 22\n",
       " 22\n",
       " 20\n",
       " 17"
      ]
     },
     "execution_count": 2,
     "metadata": {},
     "output_type": "execute_result"
    }
   ],
   "source": [
    "pois = Distributions.Poisson(average_demand)# mozemy wybrac inny rozklad normalny, log wedlugktorego mozna robic analize wraz\n",
    "rand(pois, 10) # rozklad poosiona ma mala wariacje (popyt jest bardziej chaotyczny)"
   ]
  },
  {
   "cell_type": "code",
   "execution_count": 3,
   "metadata": {},
   "outputs": [
    {
     "name": "stdout",
     "output_type": "stream",
     "text": [
      "[16, 15, 21, 23, 22, 12, 17, 11, 28, 17]\n"
     ]
    }
   ],
   "source": [
    "normal=Distributions.Normal(20,5)\n",
    "sprzedaz = round.(Int, rand(normal, 10))\n",
    "println(sprzedaz)"
   ]
  },
  {
   "cell_type": "code",
   "execution_count": 4,
   "metadata": {},
   "outputs": [
    {
     "data": {
      "text/plain": [
       "simulateOneRun (generic function with 1 method)"
      ]
     },
     "execution_count": 4,
     "metadata": {},
     "output_type": "execute_result"
    }
   ],
   "source": [
    "using Random\n",
    "using Distributions\n",
    "using Statistics\n",
    "# m - number of days\n",
    "# s - reorder point\n",
    "# S - target warehouse volume\n",
    "function simulateOneRun(m, s, S;\n",
    "    h = 0.1, #storage cost\n",
    "    c = 4.0, #unit profit\n",
    "    p = 0.50, #probability of delivery\n",
    "    K = 100, # fixed order cost\n",
    "    k = 1.0, # variable order cost\n",
    "    init_S = 100, #initial warehouse level\n",
    "    average_demand = 20)\n",
    "    Xⱼ = init_S\n",
    "    local Yj\n",
    "    profit = 0.0\n",
    "    lost_orders = 0.0\n",
    "    warehouse_levels = Int[]\n",
    "    #pois = Distributions.Poisson(average_demand)\n",
    "    normal=Distributions.Normal(average_demand,5)\n",
    "    for day in 1:m\n",
    "        if Xⱼ < s\n",
    "            if rand() < p\n",
    "                profit -= K + (S-Xⱼ)*k\n",
    "                Xⱼ = S\n",
    "            end\n",
    "        end\n",
    "        push!(warehouse_levels, Xⱼ)\n",
    "        #demand = rand(pois)\n",
    "        demand = round.(Int, rand(normal))\n",
    "        sales = min(Xⱼ, demand) #(stan_magazynu, popyt_w_dniu )\n",
    "        Xⱼ -= sales\n",
    "        @assert Xⱼ >= 0\n",
    "        lost_order = demand - sales # failed to provide  \n",
    "        @assert lost_order >= 0 \n",
    "        profit += sales*c - (Xⱼ-sales)*h  # storage costs\n",
    "        lost_orders += lost_order\n",
    "        #koszt_jednostkowy_Stock_outu to wtedy bez wag \n",
    "        # one_obj = 0.75 * profit + 0.25 * lost_orders * koszt_jednostkowy_Stock_outu \n",
    "        # wtedy kiedy wybieramy jedna opcje np logistyke\n",
    "    end\n",
    "    \n",
    "    (profit=profit, lost_orders=lost_orders,\n",
    "        warehouse_levels=warehouse_levels) #,one_obj\n",
    "end"
   ]
  },
  {
   "cell_type": "code",
   "execution_count": 5,
   "metadata": {},
   "outputs": [
    {
     "data": {
      "text/plain": [
       "(profit = 602.3, lost_orders = 69.0, warehouse_levels = [100, 84, 59, 38, 200, 180, 158, 134, 118, 107, 88, 70, 53, 36, 23, 0, 0, 0, 200, 181])"
      ]
     },
     "execution_count": 5,
     "metadata": {},
     "output_type": "execute_result"
    }
   ],
   "source": [
    "res = simulateOneRun(20,20,200)"
   ]
  },
  {
   "cell_type": "code",
   "execution_count": 6,
   "metadata": {},
   "outputs": [
    {
     "name": "stdout",
     "output_type": "stream",
     "text": [
      "res.profit = 602.3\n",
      "res.lost_orders = 69.0\n",
      "res.warehouse_levels = [100, 84, 59, 38, 200, 180, 158, 134, 118, 107, 88, 70, 53, 36, 23, 0, 0, 0, 200, 181]\n"
     ]
    }
   ],
   "source": [
    "@show res.profit\n",
    "@show res.lost_orders\n",
    "@show res.warehouse_levels;"
   ]
  },
  {
   "cell_type": "code",
   "execution_count": 7,
   "metadata": {},
   "outputs": [
    {
     "data": {
      "image/svg+xml": [
       "<?xml version=\"1.0\" encoding=\"utf-8\"?>\n",
       "<svg xmlns=\"http://www.w3.org/2000/svg\" xmlns:xlink=\"http://www.w3.org/1999/xlink\" width=\"600\" height=\"400\" viewBox=\"0 0 2400 1600\">\n",
       "<defs>\n",
       "  <clipPath id=\"clip710\">\n",
       "    <rect x=\"0\" y=\"0\" width=\"2400\" height=\"1600\"/>\n",
       "  </clipPath>\n",
       "</defs>\n",
       "<path clip-path=\"url(#clip710)\" d=\"M0 1600 L2400 1600 L2400 0 L0 0  Z\" fill=\"#ffffff\" fill-rule=\"evenodd\" fill-opacity=\"1\"/>\n",
       "<defs>\n",
       "  <clipPath id=\"clip711\">\n",
       "    <rect x=\"480\" y=\"0\" width=\"1681\" height=\"1600\"/>\n",
       "  </clipPath>\n",
       "</defs>\n",
       "<path clip-path=\"url(#clip710)\" d=\"M169.121 1486.45 L2352.76 1486.45 L2352.76 47.2441 L169.121 47.2441  Z\" fill=\"#ffffff\" fill-rule=\"evenodd\" fill-opacity=\"1\"/>\n",
       "<defs>\n",
       "  <clipPath id=\"clip712\">\n",
       "    <rect x=\"169\" y=\"47\" width=\"2185\" height=\"1440\"/>\n",
       "  </clipPath>\n",
       "</defs>\n",
       "<polyline clip-path=\"url(#clip712)\" style=\"stroke:#000000; stroke-linecap:round; stroke-linejoin:round; stroke-width:2; stroke-opacity:0.1; fill:none\" points=\"515.065,1486.45 515.065,47.2441 \"/>\n",
       "<polyline clip-path=\"url(#clip712)\" style=\"stroke:#000000; stroke-linecap:round; stroke-linejoin:round; stroke-width:2; stroke-opacity:0.1; fill:none\" points=\"870.243,1486.45 870.243,47.2441 \"/>\n",
       "<polyline clip-path=\"url(#clip712)\" style=\"stroke:#000000; stroke-linecap:round; stroke-linejoin:round; stroke-width:2; stroke-opacity:0.1; fill:none\" points=\"1225.42,1486.45 1225.42,47.2441 \"/>\n",
       "<polyline clip-path=\"url(#clip712)\" style=\"stroke:#000000; stroke-linecap:round; stroke-linejoin:round; stroke-width:2; stroke-opacity:0.1; fill:none\" points=\"1580.6,1486.45 1580.6,47.2441 \"/>\n",
       "<polyline clip-path=\"url(#clip712)\" style=\"stroke:#000000; stroke-linecap:round; stroke-linejoin:round; stroke-width:2; stroke-opacity:0.1; fill:none\" points=\"1935.78,1486.45 1935.78,47.2441 \"/>\n",
       "<polyline clip-path=\"url(#clip712)\" style=\"stroke:#000000; stroke-linecap:round; stroke-linejoin:round; stroke-width:2; stroke-opacity:0.1; fill:none\" points=\"2290.95,1486.45 2290.95,47.2441 \"/>\n",
       "<polyline clip-path=\"url(#clip710)\" style=\"stroke:#000000; stroke-linecap:round; stroke-linejoin:round; stroke-width:4; stroke-opacity:1; fill:none\" points=\"169.121,1486.45 2352.76,1486.45 \"/>\n",
       "<polyline clip-path=\"url(#clip710)\" style=\"stroke:#000000; stroke-linecap:round; stroke-linejoin:round; stroke-width:4; stroke-opacity:1; fill:none\" points=\"515.065,1486.45 515.065,1467.55 \"/>\n",
       "<polyline clip-path=\"url(#clip710)\" style=\"stroke:#000000; stroke-linecap:round; stroke-linejoin:round; stroke-width:4; stroke-opacity:1; fill:none\" points=\"870.243,1486.45 870.243,1467.55 \"/>\n",
       "<polyline clip-path=\"url(#clip710)\" style=\"stroke:#000000; stroke-linecap:round; stroke-linejoin:round; stroke-width:4; stroke-opacity:1; fill:none\" points=\"1225.42,1486.45 1225.42,1467.55 \"/>\n",
       "<polyline clip-path=\"url(#clip710)\" style=\"stroke:#000000; stroke-linecap:round; stroke-linejoin:round; stroke-width:4; stroke-opacity:1; fill:none\" points=\"1580.6,1486.45 1580.6,1467.55 \"/>\n",
       "<polyline clip-path=\"url(#clip710)\" style=\"stroke:#000000; stroke-linecap:round; stroke-linejoin:round; stroke-width:4; stroke-opacity:1; fill:none\" points=\"1935.78,1486.45 1935.78,1467.55 \"/>\n",
       "<polyline clip-path=\"url(#clip710)\" style=\"stroke:#000000; stroke-linecap:round; stroke-linejoin:round; stroke-width:4; stroke-opacity:1; fill:none\" points=\"2290.95,1486.45 2290.95,1467.55 \"/>\n",
       "<path clip-path=\"url(#clip710)\" d=\"M505.343 1514.29 L523.699 1514.29 L523.699 1518.22 L509.625 1518.22 L509.625 1526.7 Q510.643 1526.35 511.662 1526.19 Q512.68 1526 513.699 1526 Q519.486 1526 522.866 1529.17 Q526.245 1532.34 526.245 1537.76 Q526.245 1543.34 522.773 1546.44 Q519.301 1549.52 512.981 1549.52 Q510.805 1549.52 508.537 1549.15 Q506.292 1548.78 503.884 1548.04 L503.884 1543.34 Q505.968 1544.47 508.19 1545.03 Q510.412 1545.58 512.889 1545.58 Q516.893 1545.58 519.231 1543.48 Q521.569 1541.37 521.569 1537.76 Q521.569 1534.15 519.231 1532.04 Q516.893 1529.94 512.889 1529.94 Q511.014 1529.94 509.139 1530.35 Q507.287 1530.77 505.343 1531.65 L505.343 1514.29 Z\" fill=\"#000000\" fill-rule=\"nonzero\" fill-opacity=\"1\" /><path clip-path=\"url(#clip710)\" d=\"M844.93 1544.91 L852.569 1544.91 L852.569 1518.55 L844.259 1520.21 L844.259 1515.95 L852.523 1514.29 L857.199 1514.29 L857.199 1544.91 L864.838 1544.91 L864.838 1548.85 L844.93 1548.85 L844.93 1544.91 Z\" fill=\"#000000\" fill-rule=\"nonzero\" fill-opacity=\"1\" /><path clip-path=\"url(#clip710)\" d=\"M884.282 1517.37 Q880.671 1517.37 878.842 1520.93 Q877.037 1524.47 877.037 1531.6 Q877.037 1538.71 878.842 1542.27 Q880.671 1545.82 884.282 1545.82 Q887.916 1545.82 889.722 1542.27 Q891.551 1538.71 891.551 1531.6 Q891.551 1524.47 889.722 1520.93 Q887.916 1517.37 884.282 1517.37 M884.282 1513.66 Q890.092 1513.66 893.148 1518.27 Q896.226 1522.85 896.226 1531.6 Q896.226 1540.33 893.148 1544.94 Q890.092 1549.52 884.282 1549.52 Q878.472 1549.52 875.393 1544.94 Q872.338 1540.33 872.338 1531.6 Q872.338 1522.85 875.393 1518.27 Q878.472 1513.66 884.282 1513.66 Z\" fill=\"#000000\" fill-rule=\"nonzero\" fill-opacity=\"1\" /><path clip-path=\"url(#clip710)\" d=\"M1200.61 1544.91 L1208.24 1544.91 L1208.24 1518.55 L1199.93 1520.21 L1199.93 1515.95 L1208.2 1514.29 L1212.87 1514.29 L1212.87 1544.91 L1220.51 1544.91 L1220.51 1548.85 L1200.61 1548.85 L1200.61 1544.91 Z\" fill=\"#000000\" fill-rule=\"nonzero\" fill-opacity=\"1\" /><path clip-path=\"url(#clip710)\" d=\"M1230 1514.29 L1248.36 1514.29 L1248.36 1518.22 L1234.29 1518.22 L1234.29 1526.7 Q1235.31 1526.35 1236.32 1526.19 Q1237.34 1526 1238.36 1526 Q1244.15 1526 1247.53 1529.17 Q1250.91 1532.34 1250.91 1537.76 Q1250.91 1543.34 1247.43 1546.44 Q1243.96 1549.52 1237.64 1549.52 Q1235.47 1549.52 1233.2 1549.15 Q1230.95 1548.78 1228.55 1548.04 L1228.55 1543.34 Q1230.63 1544.47 1232.85 1545.03 Q1235.07 1545.58 1237.55 1545.58 Q1241.55 1545.58 1243.89 1543.48 Q1246.23 1541.37 1246.23 1537.76 Q1246.23 1534.15 1243.89 1532.04 Q1241.55 1529.94 1237.55 1529.94 Q1235.68 1529.94 1233.8 1530.35 Q1231.95 1530.77 1230 1531.65 L1230 1514.29 Z\" fill=\"#000000\" fill-rule=\"nonzero\" fill-opacity=\"1\" /><path clip-path=\"url(#clip710)\" d=\"M1559.37 1544.91 L1575.69 1544.91 L1575.69 1548.85 L1553.75 1548.85 L1553.75 1544.91 Q1556.41 1542.16 1560.99 1537.53 Q1565.6 1532.88 1566.78 1531.53 Q1569.02 1529.01 1569.9 1527.27 Q1570.81 1525.51 1570.81 1523.82 Q1570.81 1521.07 1568.86 1519.33 Q1566.94 1517.6 1563.84 1517.6 Q1561.64 1517.6 1559.19 1518.36 Q1556.76 1519.13 1553.98 1520.68 L1553.98 1515.95 Q1556.8 1514.82 1559.26 1514.24 Q1561.71 1513.66 1563.75 1513.66 Q1569.12 1513.66 1572.31 1516.35 Q1575.51 1519.03 1575.51 1523.52 Q1575.51 1525.65 1574.7 1527.57 Q1573.91 1529.47 1571.8 1532.07 Q1571.22 1532.74 1568.12 1535.95 Q1565.02 1539.15 1559.37 1544.91 Z\" fill=\"#000000\" fill-rule=\"nonzero\" fill-opacity=\"1\" /><path clip-path=\"url(#clip710)\" d=\"M1595.51 1517.37 Q1591.9 1517.37 1590.07 1520.93 Q1588.26 1524.47 1588.26 1531.6 Q1588.26 1538.71 1590.07 1542.27 Q1591.9 1545.82 1595.51 1545.82 Q1599.14 1545.82 1600.95 1542.27 Q1602.77 1538.71 1602.77 1531.6 Q1602.77 1524.47 1600.95 1520.93 Q1599.14 1517.37 1595.51 1517.37 M1595.51 1513.66 Q1601.32 1513.66 1604.37 1518.27 Q1607.45 1522.85 1607.45 1531.6 Q1607.45 1540.33 1604.37 1544.94 Q1601.32 1549.52 1595.51 1549.52 Q1589.7 1549.52 1586.62 1544.94 Q1583.56 1540.33 1583.56 1531.6 Q1583.56 1522.85 1586.62 1518.27 Q1589.7 1513.66 1595.51 1513.66 Z\" fill=\"#000000\" fill-rule=\"nonzero\" fill-opacity=\"1\" /><path clip-path=\"url(#clip710)\" d=\"M1915.05 1544.91 L1931.37 1544.91 L1931.37 1548.85 L1909.42 1548.85 L1909.42 1544.91 Q1912.08 1542.16 1916.67 1537.53 Q1921.27 1532.88 1922.46 1531.53 Q1924.7 1529.01 1925.58 1527.27 Q1926.48 1525.51 1926.48 1523.82 Q1926.48 1521.07 1924.54 1519.33 Q1922.62 1517.6 1919.52 1517.6 Q1917.32 1517.6 1914.86 1518.36 Q1912.43 1519.13 1909.65 1520.68 L1909.65 1515.95 Q1912.48 1514.82 1914.93 1514.24 Q1917.39 1513.66 1919.42 1513.66 Q1924.79 1513.66 1927.99 1516.35 Q1931.18 1519.03 1931.18 1523.52 Q1931.18 1525.65 1930.37 1527.57 Q1929.58 1529.47 1927.48 1532.07 Q1926.9 1532.74 1923.8 1535.95 Q1920.7 1539.15 1915.05 1544.91 Z\" fill=\"#000000\" fill-rule=\"nonzero\" fill-opacity=\"1\" /><path clip-path=\"url(#clip710)\" d=\"M1941.23 1514.29 L1959.58 1514.29 L1959.58 1518.22 L1945.51 1518.22 L1945.51 1526.7 Q1946.53 1526.35 1947.55 1526.19 Q1948.57 1526 1949.58 1526 Q1955.37 1526 1958.75 1529.17 Q1962.13 1532.34 1962.13 1537.76 Q1962.13 1543.34 1958.66 1546.44 Q1955.19 1549.52 1948.87 1549.52 Q1946.69 1549.52 1944.42 1549.15 Q1942.18 1548.78 1939.77 1548.04 L1939.77 1543.34 Q1941.85 1544.47 1944.08 1545.03 Q1946.3 1545.58 1948.77 1545.58 Q1952.78 1545.58 1955.12 1543.48 Q1957.46 1541.37 1957.46 1537.76 Q1957.46 1534.15 1955.12 1532.04 Q1952.78 1529.94 1948.77 1529.94 Q1946.9 1529.94 1945.02 1530.35 Q1943.17 1530.77 1941.23 1531.65 L1941.23 1514.29 Z\" fill=\"#000000\" fill-rule=\"nonzero\" fill-opacity=\"1\" /><path clip-path=\"url(#clip710)\" d=\"M2279.8 1530.21 Q2283.15 1530.93 2285.03 1533.2 Q2286.93 1535.47 2286.93 1538.8 Q2286.93 1543.92 2283.41 1546.72 Q2279.89 1549.52 2273.41 1549.52 Q2271.23 1549.52 2268.92 1549.08 Q2266.63 1548.66 2264.17 1547.81 L2264.17 1543.29 Q2266.12 1544.43 2268.43 1545.01 Q2270.75 1545.58 2273.27 1545.58 Q2277.67 1545.58 2279.96 1543.85 Q2282.27 1542.11 2282.27 1538.8 Q2282.27 1535.75 2280.12 1534.03 Q2277.99 1532.3 2274.17 1532.3 L2270.14 1532.3 L2270.14 1528.45 L2274.36 1528.45 Q2277.81 1528.45 2279.64 1527.09 Q2281.46 1525.7 2281.46 1523.11 Q2281.46 1520.45 2279.57 1519.03 Q2277.69 1517.6 2274.17 1517.6 Q2272.25 1517.6 2270.05 1518.01 Q2267.85 1518.43 2265.21 1519.31 L2265.21 1515.14 Q2267.88 1514.4 2270.19 1514.03 Q2272.53 1513.66 2274.59 1513.66 Q2279.91 1513.66 2283.02 1516.09 Q2286.12 1518.5 2286.12 1522.62 Q2286.12 1525.49 2284.47 1527.48 Q2282.83 1529.45 2279.8 1530.21 Z\" fill=\"#000000\" fill-rule=\"nonzero\" fill-opacity=\"1\" /><path clip-path=\"url(#clip710)\" d=\"M2305.79 1517.37 Q2302.18 1517.37 2300.35 1520.93 Q2298.55 1524.47 2298.55 1531.6 Q2298.55 1538.71 2300.35 1542.27 Q2302.18 1545.82 2305.79 1545.82 Q2309.43 1545.82 2311.23 1542.27 Q2313.06 1538.71 2313.06 1531.6 Q2313.06 1524.47 2311.23 1520.93 Q2309.43 1517.37 2305.79 1517.37 M2305.79 1513.66 Q2311.6 1513.66 2314.66 1518.27 Q2317.74 1522.85 2317.74 1531.6 Q2317.74 1540.33 2314.66 1544.94 Q2311.6 1549.52 2305.79 1549.52 Q2299.98 1549.52 2296.9 1544.94 Q2293.85 1540.33 2293.85 1531.6 Q2293.85 1522.85 2296.9 1518.27 Q2299.98 1513.66 2305.79 1513.66 Z\" fill=\"#000000\" fill-rule=\"nonzero\" fill-opacity=\"1\" /><polyline clip-path=\"url(#clip712)\" style=\"stroke:#000000; stroke-linecap:round; stroke-linejoin:round; stroke-width:2; stroke-opacity:0.1; fill:none\" points=\"169.121,1276 2352.76,1276 \"/>\n",
       "<polyline clip-path=\"url(#clip712)\" style=\"stroke:#000000; stroke-linecap:round; stroke-linejoin:round; stroke-width:2; stroke-opacity:0.1; fill:none\" points=\"169.121,1021.42 2352.76,1021.42 \"/>\n",
       "<polyline clip-path=\"url(#clip712)\" style=\"stroke:#000000; stroke-linecap:round; stroke-linejoin:round; stroke-width:2; stroke-opacity:0.1; fill:none\" points=\"169.121,766.846 2352.76,766.846 \"/>\n",
       "<polyline clip-path=\"url(#clip712)\" style=\"stroke:#000000; stroke-linecap:round; stroke-linejoin:round; stroke-width:2; stroke-opacity:0.1; fill:none\" points=\"169.121,512.27 2352.76,512.27 \"/>\n",
       "<polyline clip-path=\"url(#clip712)\" style=\"stroke:#000000; stroke-linecap:round; stroke-linejoin:round; stroke-width:2; stroke-opacity:0.1; fill:none\" points=\"169.121,257.694 2352.76,257.694 \"/>\n",
       "<polyline clip-path=\"url(#clip710)\" style=\"stroke:#000000; stroke-linecap:round; stroke-linejoin:round; stroke-width:4; stroke-opacity:1; fill:none\" points=\"169.121,1486.45 169.121,47.2441 \"/>\n",
       "<polyline clip-path=\"url(#clip710)\" style=\"stroke:#000000; stroke-linecap:round; stroke-linejoin:round; stroke-width:4; stroke-opacity:1; fill:none\" points=\"169.121,1276 188.019,1276 \"/>\n",
       "<polyline clip-path=\"url(#clip710)\" style=\"stroke:#000000; stroke-linecap:round; stroke-linejoin:round; stroke-width:4; stroke-opacity:1; fill:none\" points=\"169.121,1021.42 188.019,1021.42 \"/>\n",
       "<polyline clip-path=\"url(#clip710)\" style=\"stroke:#000000; stroke-linecap:round; stroke-linejoin:round; stroke-width:4; stroke-opacity:1; fill:none\" points=\"169.121,766.846 188.019,766.846 \"/>\n",
       "<polyline clip-path=\"url(#clip710)\" style=\"stroke:#000000; stroke-linecap:round; stroke-linejoin:round; stroke-width:4; stroke-opacity:1; fill:none\" points=\"169.121,512.27 188.019,512.27 \"/>\n",
       "<polyline clip-path=\"url(#clip710)\" style=\"stroke:#000000; stroke-linecap:round; stroke-linejoin:round; stroke-width:4; stroke-opacity:1; fill:none\" points=\"169.121,257.694 188.019,257.694 \"/>\n",
       "<path clip-path=\"url(#clip710)\" d=\"M91.5938 1274.13 Q88.4456 1274.13 86.5938 1276.29 Q84.7651 1278.44 84.7651 1282.19 Q84.7651 1285.92 86.5938 1288.09 Q88.4456 1290.25 91.5938 1290.25 Q94.7419 1290.25 96.5706 1288.09 Q98.4224 1285.92 98.4224 1282.19 Q98.4224 1278.44 96.5706 1276.29 Q94.7419 1274.13 91.5938 1274.13 M100.876 1259.48 L100.876 1263.74 Q99.1169 1262.91 97.3113 1262.47 Q95.5289 1262.03 93.7697 1262.03 Q89.1401 1262.03 86.6864 1265.15 Q84.2558 1268.28 83.9086 1274.6 Q85.2743 1272.58 87.3345 1271.52 Q89.3947 1270.43 91.8715 1270.43 Q97.0798 1270.43 100.089 1273.6 Q103.121 1276.75 103.121 1282.19 Q103.121 1287.51 99.9733 1290.73 Q96.8252 1293.95 91.5938 1293.95 Q85.5984 1293.95 82.4271 1289.37 Q79.2559 1284.76 79.2559 1276.03 Q79.2559 1267.84 83.1447 1262.98 Q87.0336 1258.09 93.5845 1258.09 Q95.3437 1258.09 97.1261 1258.44 Q98.9317 1258.79 100.876 1259.48 Z\" fill=\"#000000\" fill-rule=\"nonzero\" fill-opacity=\"1\" /><path clip-path=\"url(#clip710)\" d=\"M121.177 1261.8 Q117.566 1261.8 115.737 1265.36 Q113.932 1268.9 113.932 1276.03 Q113.932 1283.14 115.737 1286.7 Q117.566 1290.25 121.177 1290.25 Q124.811 1290.25 126.617 1286.7 Q128.445 1283.14 128.445 1276.03 Q128.445 1268.9 126.617 1265.36 Q124.811 1261.8 121.177 1261.8 M121.177 1258.09 Q126.987 1258.09 130.043 1262.7 Q133.121 1267.28 133.121 1276.03 Q133.121 1284.76 130.043 1289.37 Q126.987 1293.95 121.177 1293.95 Q115.367 1293.95 112.288 1289.37 Q109.233 1284.76 109.233 1276.03 Q109.233 1267.28 112.288 1262.7 Q115.367 1258.09 121.177 1258.09 Z\" fill=\"#000000\" fill-rule=\"nonzero\" fill-opacity=\"1\" /><path clip-path=\"url(#clip710)\" d=\"M81.154 1037.98 L81.154 1033.73 Q82.9133 1034.56 84.7188 1035 Q86.5243 1035.44 88.2604 1035.44 Q92.89 1035.44 95.3206 1032.34 Q97.7743 1029.21 98.1215 1022.87 Q96.7789 1024.86 94.7187 1025.92 Q92.6586 1026.99 90.1586 1026.99 Q84.9734 1026.99 81.941 1023.86 Q78.9318 1020.72 78.9318 1015.28 Q78.9318 1009.95 82.0799 1006.73 Q85.2281 1003.52 90.4595 1003.52 Q96.4548 1003.52 99.603 1008.12 Q102.774 1012.71 102.774 1021.46 Q102.774 1029.63 98.8854 1034.51 Q95.0197 1039.37 88.4688 1039.37 Q86.7095 1039.37 84.904 1039.03 Q83.0984 1038.68 81.154 1037.98 M90.4595 1023.33 Q93.6076 1023.33 95.4363 1021.18 Q97.2882 1019.03 97.2882 1015.28 Q97.2882 1011.55 95.4363 1009.4 Q93.6076 1007.22 90.4595 1007.22 Q87.3114 1007.22 85.4595 1009.4 Q83.6308 1011.55 83.6308 1015.28 Q83.6308 1019.03 85.4595 1021.18 Q87.3114 1023.33 90.4595 1023.33 Z\" fill=\"#000000\" fill-rule=\"nonzero\" fill-opacity=\"1\" /><path clip-path=\"url(#clip710)\" d=\"M121.177 1007.22 Q117.566 1007.22 115.737 1010.79 Q113.932 1014.33 113.932 1021.46 Q113.932 1028.56 115.737 1032.13 Q117.566 1035.67 121.177 1035.67 Q124.811 1035.67 126.617 1032.13 Q128.445 1028.56 128.445 1021.46 Q128.445 1014.33 126.617 1010.79 Q124.811 1007.22 121.177 1007.22 M121.177 1003.52 Q126.987 1003.52 130.043 1008.12 Q133.121 1012.71 133.121 1021.46 Q133.121 1030.18 130.043 1034.79 Q126.987 1039.37 121.177 1039.37 Q115.367 1039.37 112.288 1034.79 Q109.233 1030.18 109.233 1021.46 Q109.233 1012.71 112.288 1008.12 Q115.367 1003.52 121.177 1003.52 Z\" fill=\"#000000\" fill-rule=\"nonzero\" fill-opacity=\"1\" /><path clip-path=\"url(#clip710)\" d=\"M51.6634 780.191 L59.3023 780.191 L59.3023 753.825 L50.9921 755.492 L50.9921 751.233 L59.256 749.566 L63.9319 749.566 L63.9319 780.191 L71.5707 780.191 L71.5707 784.126 L51.6634 784.126 L51.6634 780.191 Z\" fill=\"#000000\" fill-rule=\"nonzero\" fill-opacity=\"1\" /><path clip-path=\"url(#clip710)\" d=\"M85.0429 780.191 L101.362 780.191 L101.362 784.126 L79.4179 784.126 L79.4179 780.191 Q82.0799 777.436 86.6632 772.807 Q91.2697 768.154 92.4502 766.811 Q94.6956 764.288 95.5752 762.552 Q96.478 760.793 96.478 759.103 Q96.478 756.348 94.5336 754.612 Q92.6123 752.876 89.5104 752.876 Q87.3114 752.876 84.8577 753.64 Q82.4271 754.404 79.6494 755.955 L79.6494 751.233 Q82.4734 750.098 84.9271 749.52 Q87.3808 748.941 89.4178 748.941 Q94.7882 748.941 97.9826 751.626 Q101.177 754.311 101.177 758.802 Q101.177 760.932 100.367 762.853 Q99.5798 764.751 97.4734 767.344 Q96.8947 768.015 93.7928 771.233 Q90.691 774.427 85.0429 780.191 Z\" fill=\"#000000\" fill-rule=\"nonzero\" fill-opacity=\"1\" /><path clip-path=\"url(#clip710)\" d=\"M121.177 752.645 Q117.566 752.645 115.737 756.209 Q113.932 759.751 113.932 766.881 Q113.932 773.987 115.737 777.552 Q117.566 781.094 121.177 781.094 Q124.811 781.094 126.617 777.552 Q128.445 773.987 128.445 766.881 Q128.445 759.751 126.617 756.209 Q124.811 752.645 121.177 752.645 M121.177 748.941 Q126.987 748.941 130.043 753.547 Q133.121 758.131 133.121 766.881 Q133.121 775.608 130.043 780.214 Q126.987 784.797 121.177 784.797 Q115.367 784.797 112.288 780.214 Q109.233 775.608 109.233 766.881 Q109.233 758.131 112.288 753.547 Q115.367 748.941 121.177 748.941 Z\" fill=\"#000000\" fill-rule=\"nonzero\" fill-opacity=\"1\" /><path clip-path=\"url(#clip710)\" d=\"M51.6634 525.615 L59.3023 525.615 L59.3023 499.249 L50.9921 500.916 L50.9921 496.657 L59.256 494.99 L63.9319 494.99 L63.9319 525.615 L71.5707 525.615 L71.5707 529.55 L51.6634 529.55 L51.6634 525.615 Z\" fill=\"#000000\" fill-rule=\"nonzero\" fill-opacity=\"1\" /><path clip-path=\"url(#clip710)\" d=\"M81.0614 494.99 L99.4178 494.99 L99.4178 498.925 L85.3438 498.925 L85.3438 507.397 Q86.3623 507.05 87.3808 506.888 Q88.3993 506.703 89.4178 506.703 Q95.2049 506.703 98.5845 509.874 Q101.964 513.045 101.964 518.462 Q101.964 524.041 98.4919 527.142 Q95.0197 530.221 88.7003 530.221 Q86.5243 530.221 84.2558 529.851 Q82.0105 529.48 79.6031 528.74 L79.6031 524.041 Q81.6864 525.175 83.9086 525.73 Q86.1308 526.286 88.6077 526.286 Q92.6123 526.286 94.9502 524.18 Q97.2882 522.073 97.2882 518.462 Q97.2882 514.851 94.9502 512.744 Q92.6123 510.638 88.6077 510.638 Q86.7327 510.638 84.8577 511.055 Q83.0058 511.471 81.0614 512.351 L81.0614 494.99 Z\" fill=\"#000000\" fill-rule=\"nonzero\" fill-opacity=\"1\" /><path clip-path=\"url(#clip710)\" d=\"M121.177 498.069 Q117.566 498.069 115.737 501.633 Q113.932 505.175 113.932 512.305 Q113.932 519.411 115.737 522.976 Q117.566 526.517 121.177 526.517 Q124.811 526.517 126.617 522.976 Q128.445 519.411 128.445 512.305 Q128.445 505.175 126.617 501.633 Q124.811 498.069 121.177 498.069 M121.177 494.365 Q126.987 494.365 130.043 498.971 Q133.121 503.555 133.121 512.305 Q133.121 521.031 130.043 525.638 Q126.987 530.221 121.177 530.221 Q115.367 530.221 112.288 525.638 Q109.233 521.031 109.233 512.305 Q109.233 503.555 112.288 498.971 Q115.367 494.365 121.177 494.365 Z\" fill=\"#000000\" fill-rule=\"nonzero\" fill-opacity=\"1\" /><path clip-path=\"url(#clip710)\" d=\"M51.6634 271.039 L59.3023 271.039 L59.3023 244.673 L50.9921 246.34 L50.9921 242.08 L59.256 240.414 L63.9319 240.414 L63.9319 271.039 L71.5707 271.039 L71.5707 274.974 L51.6634 274.974 L51.6634 271.039 Z\" fill=\"#000000\" fill-rule=\"nonzero\" fill-opacity=\"1\" /><path clip-path=\"url(#clip710)\" d=\"M91.0151 258.562 Q87.6817 258.562 85.7605 260.344 Q83.8623 262.127 83.8623 265.252 Q83.8623 268.377 85.7605 270.159 Q87.6817 271.941 91.0151 271.941 Q94.3484 271.941 96.2697 270.159 Q98.1909 268.353 98.1909 265.252 Q98.1909 262.127 96.2697 260.344 Q94.3715 258.562 91.0151 258.562 M86.3392 256.571 Q83.3299 255.83 81.6401 253.77 Q79.9735 251.71 79.9735 248.747 Q79.9735 244.603 82.9133 242.196 Q85.8762 239.789 91.0151 239.789 Q96.1771 239.789 99.1169 242.196 Q102.057 244.603 102.057 248.747 Q102.057 251.71 100.367 253.77 Q98.7002 255.83 95.7141 256.571 Q99.0937 257.358 100.969 259.65 Q102.867 261.941 102.867 265.252 Q102.867 270.275 99.7882 272.96 Q96.7326 275.645 91.0151 275.645 Q85.2975 275.645 82.2188 272.96 Q79.1633 270.275 79.1633 265.252 Q79.1633 261.941 81.0614 259.65 Q82.9595 257.358 86.3392 256.571 M84.6262 249.187 Q84.6262 251.872 86.2929 253.377 Q87.9827 254.881 91.0151 254.881 Q94.0243 254.881 95.7141 253.377 Q97.4271 251.872 97.4271 249.187 Q97.4271 246.502 95.7141 244.997 Q94.0243 243.492 91.0151 243.492 Q87.9827 243.492 86.2929 244.997 Q84.6262 246.502 84.6262 249.187 Z\" fill=\"#000000\" fill-rule=\"nonzero\" fill-opacity=\"1\" /><path clip-path=\"url(#clip710)\" d=\"M121.177 243.492 Q117.566 243.492 115.737 247.057 Q113.932 250.599 113.932 257.728 Q113.932 264.835 115.737 268.4 Q117.566 271.941 121.177 271.941 Q124.811 271.941 126.617 268.4 Q128.445 264.835 128.445 257.728 Q128.445 250.599 126.617 247.057 Q124.811 243.492 121.177 243.492 M121.177 239.789 Q126.987 239.789 130.043 244.395 Q133.121 248.978 133.121 257.728 Q133.121 266.455 130.043 271.062 Q126.987 275.645 121.177 275.645 Q115.367 275.645 112.288 271.062 Q109.233 266.455 109.233 257.728 Q109.233 248.978 112.288 244.395 Q115.367 239.789 121.177 239.789 Z\" fill=\"#000000\" fill-rule=\"nonzero\" fill-opacity=\"1\" /><polyline clip-path=\"url(#clip712)\" style=\"stroke:#009af9; stroke-linecap:round; stroke-linejoin:round; stroke-width:4; stroke-opacity:1; fill:none\" points=\"230.922,936.563 301.958,1123.25 372.994,1292.97 444.029,87.9763 515.065,223.75 586.1,359.524 657.136,597.129 728.172,783.818 799.207,902.62 870.243,1106.28 941.278,1309.94 1012.31,87.9763 1083.35,257.694 1154.39,384.982 1225.42,554.699 1296.46,648.044 1367.49,851.705 1438.53,1004.45 1509.56,1148.71 1580.6,1309.94 1651.63,1445.72 1722.67,87.9763 1793.71,223.75 1864.74,410.439 1935.78,563.185 2006.81,707.445 2077.85,877.162 2148.88,1063.85 2219.92,1174.17 2290.95,1394.8 \"/>\n",
       "<path clip-path=\"url(#clip710)\" d=\"M2009.17 198.898 L2279.97 198.898 L2279.97 95.2176 L2009.17 95.2176  Z\" fill=\"#ffffff\" fill-rule=\"evenodd\" fill-opacity=\"1\"/>\n",
       "<polyline clip-path=\"url(#clip710)\" style=\"stroke:#000000; stroke-linecap:round; stroke-linejoin:round; stroke-width:4; stroke-opacity:1; fill:none\" points=\"2009.17,198.898 2279.97,198.898 2279.97,95.2176 2009.17,95.2176 2009.17,198.898 \"/>\n",
       "<polyline clip-path=\"url(#clip710)\" style=\"stroke:#009af9; stroke-linecap:round; stroke-linejoin:round; stroke-width:4; stroke-opacity:1; fill:none\" points=\"2033.44,147.058 2179.01,147.058 \"/>\n",
       "<path clip-path=\"url(#clip710)\" d=\"M2217.12 166.745 Q2215.31 171.375 2213.6 172.787 Q2211.89 174.199 2209.02 174.199 L2205.61 174.199 L2205.61 170.634 L2208.11 170.634 Q2209.87 170.634 2210.84 169.8 Q2211.82 168.967 2213 165.865 L2213.76 163.921 L2203.28 138.412 L2207.79 138.412 L2215.89 158.689 L2223.99 138.412 L2228.51 138.412 L2217.12 166.745 Z\" fill=\"#000000\" fill-rule=\"nonzero\" fill-opacity=\"1\" /><path clip-path=\"url(#clip710)\" d=\"M2235.8 160.402 L2243.44 160.402 L2243.44 134.037 L2235.13 135.703 L2235.13 131.444 L2243.39 129.778 L2248.07 129.778 L2248.07 160.402 L2255.71 160.402 L2255.71 164.338 L2235.8 164.338 L2235.8 160.402 Z\" fill=\"#000000\" fill-rule=\"nonzero\" fill-opacity=\"1\" /></svg>\n"
      ]
     },
     "execution_count": 7,
     "metadata": {},
     "output_type": "execute_result"
    }
   ],
   "source": [
    "Random.seed!(10)\n",
    "res = simulateOneRun(30,50,200)\n",
    "\n",
    "# using PyPlot\n",
    "# plot(res.warehouse_levels)\n",
    "# show()\n",
    "using Plots\n",
    "plot(res.warehouse_levels)"
   ]
  },
  {
   "cell_type": "code",
   "execution_count": 8,
   "metadata": {},
   "outputs": [
    {
     "data": {
      "text/html": [
       "<div><div style = \"float: left;\"><span>4×3 DataFrame</span></div><div style = \"clear: both;\"></div></div><div class = \"data-frame\" style = \"overflow-x: scroll;\"><table class = \"data-frame\" style = \"margin-bottom: 6px;\"><thead><tr class = \"header\"><th class = \"rowNumber\" style = \"font-weight: bold; text-align: right;\">Row</th><th style = \"text-align: left;\">profit</th><th style = \"text-align: left;\">lost_orders</th><th style = \"text-align: left;\">warehouse_levels</th></tr><tr class = \"subheader headerLastRow\"><th class = \"rowNumber\" style = \"font-weight: bold; text-align: right;\"></th><th title = \"Float64\" style = \"text-align: left;\">Float64</th><th title = \"Float64\" style = \"text-align: left;\">Float64</th><th title = \"Vector{Int64}\" style = \"text-align: left;\">Array…</th></tr></thead><tbody><tr><td class = \"rowNumber\" style = \"font-weight: bold; text-align: right;\">1</td><td style = \"text-align: right;\">312.4</td><td style = \"text-align: right;\">61.0</td><td style = \"text-align: left;\">[100, 81, 68, 44, 29, 10, 0, 0, 0]</td></tr><tr><td class = \"rowNumber\" style = \"font-weight: bold; text-align: right;\">2</td><td style = \"text-align: right;\">180.9</td><td style = \"text-align: right;\">54.0</td><td style = \"text-align: left;\">[100, 78, 58, 38, 15, 10, 10, 10, 0]</td></tr><tr><td class = \"rowNumber\" style = \"font-weight: bold; text-align: right;\">3</td><td style = \"text-align: right;\">323.5</td><td style = \"text-align: right;\">90.0</td><td style = \"text-align: left;\">[100, 72, 56, 34, 13, 10, 0, 0, 0]</td></tr><tr><td class = \"rowNumber\" style = \"font-weight: bold; text-align: right;\">4</td><td style = \"text-align: right;\">319.8</td><td style = \"text-align: right;\">61.0</td><td style = \"text-align: left;\">[100, 74, 59, 39, 30, 10, 0, 10, 0]</td></tr></tbody></table></div>"
      ],
      "text/latex": [
       "\\begin{tabular}{r|ccc}\n",
       "\t& profit & lost\\_orders & warehouse\\_levels\\\\\n",
       "\t\\hline\n",
       "\t& Float64 & Float64 & Array…\\\\\n",
       "\t\\hline\n",
       "\t1 & 312.4 & 61.0 & [100, 81, 68, 44, 29, 10, 0, 0, 0] \\\\\n",
       "\t2 & 180.9 & 54.0 & [100, 78, 58, 38, 15, 10, 10, 10, 0] \\\\\n",
       "\t3 & 323.5 & 90.0 & [100, 72, 56, 34, 13, 10, 0, 0, 0] \\\\\n",
       "\t4 & 319.8 & 61.0 & [100, 74, 59, 39, 30, 10, 0, 10, 0] \\\\\n",
       "\\end{tabular}\n"
      ],
      "text/plain": [
       "\u001b[1m4×3 DataFrame\u001b[0m\n",
       "\u001b[1m Row \u001b[0m│\u001b[1m profit  \u001b[0m\u001b[1m lost_orders \u001b[0m\u001b[1m warehouse_levels                  \u001b[0m\n",
       "     │\u001b[90m Float64 \u001b[0m\u001b[90m Float64     \u001b[0m\u001b[90m Vector{Int64}                     \u001b[0m\n",
       "─────┼─────────────────────────────────────────────────────────\n",
       "   1 │   312.4         61.0  [100, 81, 68, 44, 29, 10, 0, 0, …\n",
       "   2 │   180.9         54.0  [100, 78, 58, 38, 15, 10, 10, 10…\n",
       "   3 │   323.5         90.0  [100, 72, 56, 34, 13, 10, 0, 0, …\n",
       "   4 │   319.8         61.0  [100, 74, 59, 39, 30, 10, 0, 10,…"
      ]
     },
     "execution_count": 8,
     "metadata": {},
     "output_type": "execute_result"
    }
   ],
   "source": [
    "res = DataFrame(simulateOneRun(9,5,10) for n in 1:4)"
   ]
  },
  {
   "cell_type": "code",
   "execution_count": 9,
   "metadata": {},
   "outputs": [
    {
     "data": {
      "text/plain": [
       "run_sims (generic function with 2 methods)"
      ]
     },
     "execution_count": 9,
     "metadata": {},
     "output_type": "execute_result"
    }
   ],
   "source": [
    "\n",
    "function run_sims(m,s,S,N=100)\n",
    "    df = DataFrame(simulateOneRun(m,s,S) for n in 1:N)\n",
    "    (\n",
    "        m=m,\n",
    "        s=s,\n",
    "        S=S,\n",
    "        N=N,\n",
    "        profit_mean = mean(df.profit),\n",
    "        profit_std = std(df.profit),\n",
    "        lost_mean = mean(df.lost_orders),\n",
    "        lost_std = std(df.lost_orders)\n",
    "    )\n",
    "end\n",
    "\n",
    "\n",
    "#run_sims(30,50,100)"
   ]
  },
  {
   "cell_type": "code",
   "execution_count": 10,
   "metadata": {},
   "outputs": [
    {
     "data": {
      "text/html": [
       "<div><div style = \"float: left;\"><span>350×8 DataFrame</span></div><div style = \"float: right;\"><span style = \"font-style: italic;\">325 rows omitted</span></div><div style = \"clear: both;\"></div></div><div class = \"data-frame\" style = \"overflow-x: scroll;\"><table class = \"data-frame\" style = \"margin-bottom: 6px;\"><thead><tr class = \"header\"><th class = \"rowNumber\" style = \"font-weight: bold; text-align: right;\">Row</th><th style = \"text-align: left;\">m</th><th style = \"text-align: left;\">s</th><th style = \"text-align: left;\">S</th><th style = \"text-align: left;\">N</th><th style = \"text-align: left;\">profit_mean</th><th style = \"text-align: left;\">profit_std</th><th style = \"text-align: left;\">lost_mean</th><th style = \"text-align: left;\">lost_std</th></tr><tr class = \"subheader headerLastRow\"><th class = \"rowNumber\" style = \"font-weight: bold; text-align: right;\"></th><th title = \"Int64\" style = \"text-align: left;\">Int64</th><th title = \"Int64\" style = \"text-align: left;\">Int64</th><th title = \"Int64\" style = \"text-align: left;\">Int64</th><th title = \"Int64\" style = \"text-align: left;\">Int64</th><th title = \"Float64\" style = \"text-align: left;\">Float64</th><th title = \"Float64\" style = \"text-align: left;\">Float64</th><th title = \"Float64\" style = \"text-align: left;\">Float64</th><th title = \"Float64\" style = \"text-align: left;\">Float64</th></tr></thead><tbody><tr><td class = \"rowNumber\" style = \"font-weight: bold; text-align: right;\">1</td><td style = \"text-align: right;\">250</td><td style = \"text-align: right;\">5</td><td style = \"text-align: right;\">180</td><td style = \"text-align: right;\">1000</td><td style = \"text-align: right;\">9391.52</td><td style = \"text-align: right;\">331.781</td><td style = \"text-align: right;\">637.637</td><td style = \"text-align: right;\">126.76</td></tr><tr><td class = \"rowNumber\" style = \"font-weight: bold; text-align: right;\">2</td><td style = \"text-align: right;\">250</td><td style = \"text-align: right;\">5</td><td style = \"text-align: right;\">185</td><td style = \"text-align: right;\">1000</td><td style = \"text-align: right;\">9413.35</td><td style = \"text-align: right;\">330.116</td><td style = \"text-align: right;\">627.17</td><td style = \"text-align: right;\">127.088</td></tr><tr><td class = \"rowNumber\" style = \"font-weight: bold; text-align: right;\">3</td><td style = \"text-align: right;\">250</td><td style = \"text-align: right;\">5</td><td style = \"text-align: right;\">190</td><td style = \"text-align: right;\">1000</td><td style = \"text-align: right;\">9468.49</td><td style = \"text-align: right;\">327.992</td><td style = \"text-align: right;\">605.217</td><td style = \"text-align: right;\">120.83</td></tr><tr><td class = \"rowNumber\" style = \"font-weight: bold; text-align: right;\">4</td><td style = \"text-align: right;\">250</td><td style = \"text-align: right;\">5</td><td style = \"text-align: right;\">195</td><td style = \"text-align: right;\">1000</td><td style = \"text-align: right;\">9488.22</td><td style = \"text-align: right;\">330.005</td><td style = \"text-align: right;\">595.627</td><td style = \"text-align: right;\">123.362</td></tr><tr><td class = \"rowNumber\" style = \"font-weight: bold; text-align: right;\">5</td><td style = \"text-align: right;\">250</td><td style = \"text-align: right;\">5</td><td style = \"text-align: right;\">200</td><td style = \"text-align: right;\">1000</td><td style = \"text-align: right;\">9516.57</td><td style = \"text-align: right;\">327.227</td><td style = \"text-align: right;\">582.102</td><td style = \"text-align: right;\">121.781</td></tr><tr><td class = \"rowNumber\" style = \"font-weight: bold; text-align: right;\">6</td><td style = \"text-align: right;\">250</td><td style = \"text-align: right;\">5</td><td style = \"text-align: right;\">205</td><td style = \"text-align: right;\">1000</td><td style = \"text-align: right;\">9536.62</td><td style = \"text-align: right;\">313.142</td><td style = \"text-align: right;\">572.135</td><td style = \"text-align: right;\">115.821</td></tr><tr><td class = \"rowNumber\" style = \"font-weight: bold; text-align: right;\">7</td><td style = \"text-align: right;\">250</td><td style = \"text-align: right;\">5</td><td style = \"text-align: right;\">210</td><td style = \"text-align: right;\">1000</td><td style = \"text-align: right;\">9560.89</td><td style = \"text-align: right;\">328.941</td><td style = \"text-align: right;\">553.099</td><td style = \"text-align: right;\">120.697</td></tr><tr><td class = \"rowNumber\" style = \"font-weight: bold; text-align: right;\">8</td><td style = \"text-align: right;\">250</td><td style = \"text-align: right;\">5</td><td style = \"text-align: right;\">215</td><td style = \"text-align: right;\">1000</td><td style = \"text-align: right;\">9556.5</td><td style = \"text-align: right;\">320.331</td><td style = \"text-align: right;\">549.847</td><td style = \"text-align: right;\">117.835</td></tr><tr><td class = \"rowNumber\" style = \"font-weight: bold; text-align: right;\">9</td><td style = \"text-align: right;\">250</td><td style = \"text-align: right;\">5</td><td style = \"text-align: right;\">220</td><td style = \"text-align: right;\">1000</td><td style = \"text-align: right;\">9562.11</td><td style = \"text-align: right;\">312.991</td><td style = \"text-align: right;\">539.899</td><td style = \"text-align: right;\">117.828</td></tr><tr><td class = \"rowNumber\" style = \"font-weight: bold; text-align: right;\">10</td><td style = \"text-align: right;\">250</td><td style = \"text-align: right;\">5</td><td style = \"text-align: right;\">225</td><td style = \"text-align: right;\">1000</td><td style = \"text-align: right;\">9573.41</td><td style = \"text-align: right;\">341.996</td><td style = \"text-align: right;\">532.72</td><td style = \"text-align: right;\">124.036</td></tr><tr><td class = \"rowNumber\" style = \"font-weight: bold; text-align: right;\">11</td><td style = \"text-align: right;\">250</td><td style = \"text-align: right;\">5</td><td style = \"text-align: right;\">230</td><td style = \"text-align: right;\">1000</td><td style = \"text-align: right;\">9590.59</td><td style = \"text-align: right;\">315.802</td><td style = \"text-align: right;\">517.83</td><td style = \"text-align: right;\">115.915</td></tr><tr><td class = \"rowNumber\" style = \"font-weight: bold; text-align: right;\">12</td><td style = \"text-align: right;\">250</td><td style = \"text-align: right;\">5</td><td style = \"text-align: right;\">235</td><td style = \"text-align: right;\">1000</td><td style = \"text-align: right;\">9577.09</td><td style = \"text-align: right;\">330.785</td><td style = \"text-align: right;\">510.457</td><td style = \"text-align: right;\">120.071</td></tr><tr><td class = \"rowNumber\" style = \"font-weight: bold; text-align: right;\">13</td><td style = \"text-align: right;\">250</td><td style = \"text-align: right;\">5</td><td style = \"text-align: right;\">240</td><td style = \"text-align: right;\">1000</td><td style = \"text-align: right;\">9590.13</td><td style = \"text-align: right;\">328.443</td><td style = \"text-align: right;\">497.065</td><td style = \"text-align: right;\">113.755</td></tr><tr><td style = \"text-align: right;\">&vellip;</td><td style = \"text-align: right;\">&vellip;</td><td style = \"text-align: right;\">&vellip;</td><td style = \"text-align: right;\">&vellip;</td><td style = \"text-align: right;\">&vellip;</td><td style = \"text-align: right;\">&vellip;</td><td style = \"text-align: right;\">&vellip;</td><td style = \"text-align: right;\">&vellip;</td><td style = \"text-align: right;\">&vellip;</td></tr><tr><td class = \"rowNumber\" style = \"font-weight: bold; text-align: right;\">339</td><td style = \"text-align: right;\">250</td><td style = \"text-align: right;\">50</td><td style = \"text-align: right;\">295</td><td style = \"text-align: right;\">1000</td><td style = \"text-align: right;\">9638.26</td><td style = \"text-align: right;\">280.294</td><td style = \"text-align: right;\">105.132</td><td style = \"text-align: right;\">72.0363</td></tr><tr><td class = \"rowNumber\" style = \"font-weight: bold; text-align: right;\">340</td><td style = \"text-align: right;\">250</td><td style = \"text-align: right;\">50</td><td style = \"text-align: right;\">300</td><td style = \"text-align: right;\">1000</td><td style = \"text-align: right;\">9601.91</td><td style = \"text-align: right;\">280.284</td><td style = \"text-align: right;\">106.077</td><td style = \"text-align: right;\">71.1414</td></tr><tr><td class = \"rowNumber\" style = \"font-weight: bold; text-align: right;\">341</td><td style = \"text-align: right;\">250</td><td style = \"text-align: right;\">50</td><td style = \"text-align: right;\">305</td><td style = \"text-align: right;\">1000</td><td style = \"text-align: right;\">9574.74</td><td style = \"text-align: right;\">281.756</td><td style = \"text-align: right;\">100.815</td><td style = \"text-align: right;\">68.843</td></tr><tr><td class = \"rowNumber\" style = \"font-weight: bold; text-align: right;\">342</td><td style = \"text-align: right;\">250</td><td style = \"text-align: right;\">50</td><td style = \"text-align: right;\">310</td><td style = \"text-align: right;\">1000</td><td style = \"text-align: right;\">9550.11</td><td style = \"text-align: right;\">272.573</td><td style = \"text-align: right;\">98.828</td><td style = \"text-align: right;\">70.792</td></tr><tr><td class = \"rowNumber\" style = \"font-weight: bold; text-align: right;\">343</td><td style = \"text-align: right;\">250</td><td style = \"text-align: right;\">50</td><td style = \"text-align: right;\">315</td><td style = \"text-align: right;\">1000</td><td style = \"text-align: right;\">9531.68</td><td style = \"text-align: right;\">266.489</td><td style = \"text-align: right;\">96.054</td><td style = \"text-align: right;\">67.6957</td></tr><tr><td class = \"rowNumber\" style = \"font-weight: bold; text-align: right;\">344</td><td style = \"text-align: right;\">250</td><td style = \"text-align: right;\">50</td><td style = \"text-align: right;\">320</td><td style = \"text-align: right;\">1000</td><td style = \"text-align: right;\">9486.85</td><td style = \"text-align: right;\">283.638</td><td style = \"text-align: right;\">94.767</td><td style = \"text-align: right;\">66.2662</td></tr><tr><td class = \"rowNumber\" style = \"font-weight: bold; text-align: right;\">345</td><td style = \"text-align: right;\">250</td><td style = \"text-align: right;\">50</td><td style = \"text-align: right;\">325</td><td style = \"text-align: right;\">1000</td><td style = \"text-align: right;\">9451.51</td><td style = \"text-align: right;\">285.327</td><td style = \"text-align: right;\">94.52</td><td style = \"text-align: right;\">69.84</td></tr><tr><td class = \"rowNumber\" style = \"font-weight: bold; text-align: right;\">346</td><td style = \"text-align: right;\">250</td><td style = \"text-align: right;\">50</td><td style = \"text-align: right;\">330</td><td style = \"text-align: right;\">1000</td><td style = \"text-align: right;\">9427.66</td><td style = \"text-align: right;\">278.468</td><td style = \"text-align: right;\">93.575</td><td style = \"text-align: right;\">68.6658</td></tr><tr><td class = \"rowNumber\" style = \"font-weight: bold; text-align: right;\">347</td><td style = \"text-align: right;\">250</td><td style = \"text-align: right;\">50</td><td style = \"text-align: right;\">335</td><td style = \"text-align: right;\">1000</td><td style = \"text-align: right;\">9390.44</td><td style = \"text-align: right;\">278.72</td><td style = \"text-align: right;\">89.599</td><td style = \"text-align: right;\">68.5179</td></tr><tr><td class = \"rowNumber\" style = \"font-weight: bold; text-align: right;\">348</td><td style = \"text-align: right;\">250</td><td style = \"text-align: right;\">50</td><td style = \"text-align: right;\">340</td><td style = \"text-align: right;\">1000</td><td style = \"text-align: right;\">9337.15</td><td style = \"text-align: right;\">296.058</td><td style = \"text-align: right;\">88.918</td><td style = \"text-align: right;\">67.794</td></tr><tr><td class = \"rowNumber\" style = \"font-weight: bold; text-align: right;\">349</td><td style = \"text-align: right;\">250</td><td style = \"text-align: right;\">50</td><td style = \"text-align: right;\">345</td><td style = \"text-align: right;\">1000</td><td style = \"text-align: right;\">9313.7</td><td style = \"text-align: right;\">278.902</td><td style = \"text-align: right;\">90.122</td><td style = \"text-align: right;\">67.3804</td></tr><tr><td class = \"rowNumber\" style = \"font-weight: bold; text-align: right;\">350</td><td style = \"text-align: right;\">250</td><td style = \"text-align: right;\">50</td><td style = \"text-align: right;\">350</td><td style = \"text-align: right;\">1000</td><td style = \"text-align: right;\">9260.77</td><td style = \"text-align: right;\">289.952</td><td style = \"text-align: right;\">84.828</td><td style = \"text-align: right;\">64.6009</td></tr></tbody></table></div>"
      ],
      "text/latex": [
       "\\begin{tabular}{r|cccccccc}\n",
       "\t& m & s & S & N & profit\\_mean & profit\\_std & lost\\_mean & lost\\_std\\\\\n",
       "\t\\hline\n",
       "\t& Int64 & Int64 & Int64 & Int64 & Float64 & Float64 & Float64 & Float64\\\\\n",
       "\t\\hline\n",
       "\t1 & 250 & 5 & 180 & 1000 & 9391.52 & 331.781 & 637.637 & 126.76 \\\\\n",
       "\t2 & 250 & 5 & 185 & 1000 & 9413.35 & 330.116 & 627.17 & 127.088 \\\\\n",
       "\t3 & 250 & 5 & 190 & 1000 & 9468.49 & 327.992 & 605.217 & 120.83 \\\\\n",
       "\t4 & 250 & 5 & 195 & 1000 & 9488.22 & 330.005 & 595.627 & 123.362 \\\\\n",
       "\t5 & 250 & 5 & 200 & 1000 & 9516.57 & 327.227 & 582.102 & 121.781 \\\\\n",
       "\t6 & 250 & 5 & 205 & 1000 & 9536.62 & 313.142 & 572.135 & 115.821 \\\\\n",
       "\t7 & 250 & 5 & 210 & 1000 & 9560.89 & 328.941 & 553.099 & 120.697 \\\\\n",
       "\t8 & 250 & 5 & 215 & 1000 & 9556.5 & 320.331 & 549.847 & 117.835 \\\\\n",
       "\t9 & 250 & 5 & 220 & 1000 & 9562.11 & 312.991 & 539.899 & 117.828 \\\\\n",
       "\t10 & 250 & 5 & 225 & 1000 & 9573.41 & 341.996 & 532.72 & 124.036 \\\\\n",
       "\t11 & 250 & 5 & 230 & 1000 & 9590.59 & 315.802 & 517.83 & 115.915 \\\\\n",
       "\t12 & 250 & 5 & 235 & 1000 & 9577.09 & 330.785 & 510.457 & 120.071 \\\\\n",
       "\t13 & 250 & 5 & 240 & 1000 & 9590.13 & 328.443 & 497.065 & 113.755 \\\\\n",
       "\t14 & 250 & 5 & 245 & 1000 & 9591.31 & 327.009 & 486.561 & 117.996 \\\\\n",
       "\t15 & 250 & 5 & 250 & 1000 & 9588.11 & 330.445 & 480.845 & 115.379 \\\\\n",
       "\t16 & 250 & 5 & 255 & 1000 & 9579.34 & 316.332 & 474.559 & 115.6 \\\\\n",
       "\t17 & 250 & 5 & 260 & 1000 & 9582.02 & 310.038 & 461.823 & 108.385 \\\\\n",
       "\t18 & 250 & 5 & 265 & 1000 & 9577.53 & 317.091 & 452.622 & 110.469 \\\\\n",
       "\t19 & 250 & 5 & 270 & 1000 & 9551.69 & 332.154 & 452.187 & 106.962 \\\\\n",
       "\t20 & 250 & 5 & 275 & 1000 & 9539.04 & 319.503 & 437.232 & 113.766 \\\\\n",
       "\t21 & 250 & 5 & 280 & 1000 & 9508.79 & 324.77 & 440.641 & 108.864 \\\\\n",
       "\t22 & 250 & 5 & 285 & 1000 & 9519.52 & 330.482 & 421.726 & 108.624 \\\\\n",
       "\t23 & 250 & 5 & 290 & 1000 & 9492.97 & 335.102 & 419.745 & 109.308 \\\\\n",
       "\t24 & 250 & 5 & 295 & 1000 & 9463.56 & 319.774 & 417.275 & 104.106 \\\\\n",
       "\t25 & 250 & 5 & 300 & 1000 & 9446.99 & 323.427 & 408.154 & 108.314 \\\\\n",
       "\t26 & 250 & 5 & 305 & 1000 & 9436.72 & 322.183 & 401.504 & 106.902 \\\\\n",
       "\t27 & 250 & 5 & 310 & 1000 & 9370.79 & 339.562 & 398.0 & 106.367 \\\\\n",
       "\t28 & 250 & 5 & 315 & 1000 & 9360.76 & 327.184 & 394.746 & 107.9 \\\\\n",
       "\t29 & 250 & 5 & 320 & 1000 & 9342.92 & 316.139 & 388.506 & 102.696 \\\\\n",
       "\t30 & 250 & 5 & 325 & 1000 & 9324.48 & 324.754 & 383.616 & 104.253 \\\\\n",
       "\t$\\dots$ & $\\dots$ & $\\dots$ & $\\dots$ & $\\dots$ & $\\dots$ & $\\dots$ & $\\dots$ & $\\dots$ \\\\\n",
       "\\end{tabular}\n"
      ],
      "text/plain": [
       "\u001b[1m350×8 DataFrame\u001b[0m\n",
       "\u001b[1m Row \u001b[0m│\u001b[1m m     \u001b[0m\u001b[1m s     \u001b[0m\u001b[1m S     \u001b[0m\u001b[1m N     \u001b[0m\u001b[1m profit_mean \u001b[0m\u001b[1m profit_std \u001b[0m\u001b[1m lost_mean \u001b[0m\u001b[1m lost_st\u001b[0m ⋯\n",
       "     │\u001b[90m Int64 \u001b[0m\u001b[90m Int64 \u001b[0m\u001b[90m Int64 \u001b[0m\u001b[90m Int64 \u001b[0m\u001b[90m Float64     \u001b[0m\u001b[90m Float64    \u001b[0m\u001b[90m Float64   \u001b[0m\u001b[90m Float64\u001b[0m ⋯\n",
       "─────┼──────────────────────────────────────────────────────────────────────────\n",
       "   1 │   250      5    180   1000      9391.52     331.781    637.637  126.76  ⋯\n",
       "   2 │   250      5    185   1000      9413.35     330.116    627.17   127.088\n",
       "   3 │   250      5    190   1000      9468.49     327.992    605.217  120.83\n",
       "   4 │   250      5    195   1000      9488.22     330.005    595.627  123.362\n",
       "   5 │   250      5    200   1000      9516.57     327.227    582.102  121.781 ⋯\n",
       "   6 │   250      5    205   1000      9536.62     313.142    572.135  115.821\n",
       "   7 │   250      5    210   1000      9560.89     328.941    553.099  120.697\n",
       "   8 │   250      5    215   1000      9556.5      320.331    549.847  117.835\n",
       "   9 │   250      5    220   1000      9562.11     312.991    539.899  117.828 ⋯\n",
       "  10 │   250      5    225   1000      9573.41     341.996    532.72   124.036\n",
       "  11 │   250      5    230   1000      9590.59     315.802    517.83   115.915\n",
       "  ⋮  │   ⋮      ⋮      ⋮      ⋮         ⋮           ⋮           ⋮         ⋮    ⋱\n",
       " 341 │   250     50    305   1000      9574.74     281.756    100.815   68.843\n",
       " 342 │   250     50    310   1000      9550.11     272.573     98.828   70.792 ⋯\n",
       " 343 │   250     50    315   1000      9531.68     266.489     96.054   67.695\n",
       " 344 │   250     50    320   1000      9486.85     283.638     94.767   66.266\n",
       " 345 │   250     50    325   1000      9451.51     285.327     94.52    69.84\n",
       " 346 │   250     50    330   1000      9427.66     278.468     93.575   68.665 ⋯\n",
       " 347 │   250     50    335   1000      9390.44     278.72      89.599   68.517\n",
       " 348 │   250     50    340   1000      9337.15     296.058     88.918   67.794\n",
       " 349 │   250     50    345   1000      9313.7      278.902     90.122   67.380\n",
       " 350 │   250     50    350   1000      9260.77     289.952     84.828   64.600 ⋯\n",
       "\u001b[36m                                                   1 column and 329 rows omitted\u001b[0m"
      ]
     },
     "execution_count": 10,
     "metadata": {},
     "output_type": "execute_result"
    }
   ],
   "source": [
    "using Random\n",
    "Random.seed!(0)\n",
    "df = DataFrame(run_sims(250,s,S,1000)\n",
    "    for S in 180:5:350, s in 5:5:50 if S > s ) "
   ]
  },
  {
   "cell_type": "code",
   "execution_count": 11,
   "metadata": {},
   "outputs": [
    {
     "data": {
      "text/plain": [
       "350"
      ]
     },
     "execution_count": 11,
     "metadata": {},
     "output_type": "execute_result"
    }
   ],
   "source": [
    "best_row = argmin(df.lost_mean)"
   ]
  },
  {
   "cell_type": "code",
   "execution_count": 12,
   "metadata": {},
   "outputs": [
    {
     "data": {
      "text/html": [
       "<div><div style = \"float: left;\"><span>DataFrameRow (8 columns)</span></div><div style = \"clear: both;\"></div></div><div class = \"data-frame\" style = \"overflow-x: scroll;\"><table class = \"data-frame\" style = \"margin-bottom: 6px;\"><thead><tr class = \"header\"><th class = \"rowLabel\" style = \"font-weight: bold; text-align: right;\">Row</th><th style = \"text-align: left;\">m</th><th style = \"text-align: left;\">s</th><th style = \"text-align: left;\">S</th><th style = \"text-align: left;\">N</th><th style = \"text-align: left;\">profit_mean</th><th style = \"text-align: left;\">profit_std</th><th style = \"text-align: left;\">lost_mean</th><th style = \"text-align: left;\">lost_std</th></tr><tr class = \"subheader headerLastRow\"><th class = \"rowLabel\" style = \"font-weight: bold; text-align: right;\"></th><th title = \"Int64\" style = \"text-align: left;\">Int64</th><th title = \"Int64\" style = \"text-align: left;\">Int64</th><th title = \"Int64\" style = \"text-align: left;\">Int64</th><th title = \"Int64\" style = \"text-align: left;\">Int64</th><th title = \"Float64\" style = \"text-align: left;\">Float64</th><th title = \"Float64\" style = \"text-align: left;\">Float64</th><th title = \"Float64\" style = \"text-align: left;\">Float64</th><th title = \"Float64\" style = \"text-align: left;\">Float64</th></tr></thead><tbody><tr><td class = \"rowLabel\" style = \"font-weight: bold; text-align: right;\">350</td><td style = \"text-align: right;\">250</td><td style = \"text-align: right;\">50</td><td style = \"text-align: right;\">350</td><td style = \"text-align: right;\">1000</td><td style = \"text-align: right;\">9260.77</td><td style = \"text-align: right;\">289.952</td><td style = \"text-align: right;\">84.828</td><td style = \"text-align: right;\">64.6009</td></tr></tbody></table></div>"
      ],
      "text/latex": [
       "\\begin{tabular}{r|cccccccc}\n",
       "\t& m & s & S & N & profit\\_mean & profit\\_std & lost\\_mean & lost\\_std\\\\\n",
       "\t\\hline\n",
       "\t& Int64 & Int64 & Int64 & Int64 & Float64 & Float64 & Float64 & Float64\\\\\n",
       "\t\\hline\n",
       "\t350 & 250 & 50 & 350 & 1000 & 9260.77 & 289.952 & 84.828 & 64.6009 \\\\\n",
       "\\end{tabular}\n"
      ],
      "text/plain": [
       "\u001b[1mDataFrameRow\u001b[0m\n",
       "\u001b[1m Row \u001b[0m│\u001b[1m m     \u001b[0m\u001b[1m s     \u001b[0m\u001b[1m S     \u001b[0m\u001b[1m N     \u001b[0m\u001b[1m profit_mean \u001b[0m\u001b[1m profit_std \u001b[0m\u001b[1m lost_mean \u001b[0m\u001b[1m lost_st\u001b[0m ⋯\n",
       "     │\u001b[90m Int64 \u001b[0m\u001b[90m Int64 \u001b[0m\u001b[90m Int64 \u001b[0m\u001b[90m Int64 \u001b[0m\u001b[90m Float64     \u001b[0m\u001b[90m Float64    \u001b[0m\u001b[90m Float64   \u001b[0m\u001b[90m Float64\u001b[0m ⋯\n",
       "─────┼──────────────────────────────────────────────────────────────────────────\n",
       " 350 │   250     50    350   1000      9260.77     289.952     84.828   64.600 ⋯\n",
       "\u001b[36m                                                                1 column omitted\u001b[0m"
      ]
     },
     "execution_count": 12,
     "metadata": {},
     "output_type": "execute_result"
    }
   ],
   "source": [
    "df[best_row,:]"
   ]
  },
  {
   "cell_type": "code",
   "execution_count": 13,
   "metadata": {},
   "outputs": [
    {
     "data": {
      "text/plain": [
       "221"
      ]
     },
     "execution_count": 13,
     "metadata": {},
     "output_type": "execute_result"
    }
   ],
   "source": [
    "best_row = argmax(df.profit_mean)"
   ]
  },
  {
   "cell_type": "code",
   "execution_count": 14,
   "metadata": {},
   "outputs": [
    {
     "data": {
      "text/html": [
       "<div><div style = \"float: left;\"><span>DataFrameRow (8 columns)</span></div><div style = \"clear: both;\"></div></div><div class = \"data-frame\" style = \"overflow-x: scroll;\"><table class = \"data-frame\" style = \"margin-bottom: 6px;\"><thead><tr class = \"header\"><th class = \"rowLabel\" style = \"font-weight: bold; text-align: right;\">Row</th><th style = \"text-align: left;\">m</th><th style = \"text-align: left;\">s</th><th style = \"text-align: left;\">S</th><th style = \"text-align: left;\">N</th><th style = \"text-align: left;\">profit_mean</th><th style = \"text-align: left;\">profit_std</th><th style = \"text-align: left;\">lost_mean</th><th style = \"text-align: left;\">lost_std</th></tr><tr class = \"subheader headerLastRow\"><th class = \"rowLabel\" style = \"font-weight: bold; text-align: right;\"></th><th title = \"Int64\" style = \"text-align: left;\">Int64</th><th title = \"Int64\" style = \"text-align: left;\">Int64</th><th title = \"Int64\" style = \"text-align: left;\">Int64</th><th title = \"Int64\" style = \"text-align: left;\">Int64</th><th title = \"Float64\" style = \"text-align: left;\">Float64</th><th title = \"Float64\" style = \"text-align: left;\">Float64</th><th title = \"Float64\" style = \"text-align: left;\">Float64</th><th title = \"Float64\" style = \"text-align: left;\">Float64</th></tr></thead><tbody><tr><td class = \"rowLabel\" style = \"font-weight: bold; text-align: right;\">221</td><td style = \"text-align: right;\">250</td><td style = \"text-align: right;\">35</td><td style = \"text-align: right;\">230</td><td style = \"text-align: right;\">1000</td><td style = \"text-align: right;\">9967.95</td><td style = \"text-align: right;\">293.758</td><td style = \"text-align: right;\">206.157</td><td style = \"text-align: right;\">94.4846</td></tr></tbody></table></div>"
      ],
      "text/latex": [
       "\\begin{tabular}{r|cccccccc}\n",
       "\t& m & s & S & N & profit\\_mean & profit\\_std & lost\\_mean & lost\\_std\\\\\n",
       "\t\\hline\n",
       "\t& Int64 & Int64 & Int64 & Int64 & Float64 & Float64 & Float64 & Float64\\\\\n",
       "\t\\hline\n",
       "\t221 & 250 & 35 & 230 & 1000 & 9967.95 & 293.758 & 206.157 & 94.4846 \\\\\n",
       "\\end{tabular}\n"
      ],
      "text/plain": [
       "\u001b[1mDataFrameRow\u001b[0m\n",
       "\u001b[1m Row \u001b[0m│\u001b[1m m     \u001b[0m\u001b[1m s     \u001b[0m\u001b[1m S     \u001b[0m\u001b[1m N     \u001b[0m\u001b[1m profit_mean \u001b[0m\u001b[1m profit_std \u001b[0m\u001b[1m lost_mean \u001b[0m\u001b[1m lost_st\u001b[0m ⋯\n",
       "     │\u001b[90m Int64 \u001b[0m\u001b[90m Int64 \u001b[0m\u001b[90m Int64 \u001b[0m\u001b[90m Int64 \u001b[0m\u001b[90m Float64     \u001b[0m\u001b[90m Float64    \u001b[0m\u001b[90m Float64   \u001b[0m\u001b[90m Float64\u001b[0m ⋯\n",
       "─────┼──────────────────────────────────────────────────────────────────────────\n",
       " 221 │   250     35    230   1000      9967.95     293.758    206.157   94.484 ⋯\n",
       "\u001b[36m                                                                1 column omitted\u001b[0m"
      ]
     },
     "execution_count": 14,
     "metadata": {},
     "output_type": "execute_result"
    }
   ],
   "source": [
    "df[best_row,:]"
   ]
  },
  {
   "cell_type": "code",
   "execution_count": 15,
   "metadata": {},
   "outputs": [
    {
     "data": {
      "text/html": [
       "<div><div style = \"float: left;\"><span>DataFrameRow (8 columns)</span></div><div style = \"clear: both;\"></div></div><div class = \"data-frame\" style = \"overflow-x: scroll;\"><table class = \"data-frame\" style = \"margin-bottom: 6px;\"><thead><tr class = \"header\"><th class = \"rowLabel\" style = \"font-weight: bold; text-align: right;\">Row</th><th style = \"text-align: left;\">m</th><th style = \"text-align: left;\">s</th><th style = \"text-align: left;\">S</th><th style = \"text-align: left;\">N</th><th style = \"text-align: left;\">profit_mean</th><th style = \"text-align: left;\">profit_std</th><th style = \"text-align: left;\">lost_mean</th><th style = \"text-align: left;\">lost_std</th></tr><tr class = \"subheader headerLastRow\"><th class = \"rowLabel\" style = \"font-weight: bold; text-align: right;\"></th><th title = \"Int64\" style = \"text-align: left;\">Int64</th><th title = \"Int64\" style = \"text-align: left;\">Int64</th><th title = \"Int64\" style = \"text-align: left;\">Int64</th><th title = \"Int64\" style = \"text-align: left;\">Int64</th><th title = \"Float64\" style = \"text-align: left;\">Float64</th><th title = \"Float64\" style = \"text-align: left;\">Float64</th><th title = \"Float64\" style = \"text-align: left;\">Float64</th><th title = \"Float64\" style = \"text-align: left;\">Float64</th></tr></thead><tbody><tr><td class = \"rowLabel\" style = \"font-weight: bold; text-align: right;\">221</td><td style = \"text-align: right;\">250</td><td style = \"text-align: right;\">35</td><td style = \"text-align: right;\">230</td><td style = \"text-align: right;\">1000</td><td style = \"text-align: right;\">9967.95</td><td style = \"text-align: right;\">293.758</td><td style = \"text-align: right;\">206.157</td><td style = \"text-align: right;\">94.4846</td></tr></tbody></table></div>"
      ],
      "text/latex": [
       "\\begin{tabular}{r|cccccccc}\n",
       "\t& m & s & S & N & profit\\_mean & profit\\_std & lost\\_mean & lost\\_std\\\\\n",
       "\t\\hline\n",
       "\t& Int64 & Int64 & Int64 & Int64 & Float64 & Float64 & Float64 & Float64\\\\\n",
       "\t\\hline\n",
       "\t221 & 250 & 35 & 230 & 1000 & 9967.95 & 293.758 & 206.157 & 94.4846 \\\\\n",
       "\\end{tabular}\n"
      ],
      "text/plain": [
       "\u001b[1mDataFrameRow\u001b[0m\n",
       "\u001b[1m Row \u001b[0m│\u001b[1m m     \u001b[0m\u001b[1m s     \u001b[0m\u001b[1m S     \u001b[0m\u001b[1m N     \u001b[0m\u001b[1m profit_mean \u001b[0m\u001b[1m profit_std \u001b[0m\u001b[1m lost_mean \u001b[0m\u001b[1m lost_st\u001b[0m ⋯\n",
       "     │\u001b[90m Int64 \u001b[0m\u001b[90m Int64 \u001b[0m\u001b[90m Int64 \u001b[0m\u001b[90m Int64 \u001b[0m\u001b[90m Float64     \u001b[0m\u001b[90m Float64    \u001b[0m\u001b[90m Float64   \u001b[0m\u001b[90m Float64\u001b[0m ⋯\n",
       "─────┼──────────────────────────────────────────────────────────────────────────\n",
       " 221 │   250     35    230   1000      9967.95     293.758    206.157   94.484 ⋯\n",
       "\u001b[36m                                                                1 column omitted\u001b[0m"
      ]
     },
     "execution_count": 15,
     "metadata": {},
     "output_type": "execute_result"
    }
   ],
   "source": [
    "df[best_row,:]"
   ]
  },
  {
   "cell_type": "markdown",
   "metadata": {},
   "source": [
    "Zwiekszenie ceny o 5% \n",
    "1) podejscie "
   ]
  },
  {
   "cell_type": "code",
   "execution_count": 16,
   "metadata": {},
   "outputs": [
    {
     "data": {
      "text/plain": [
       "simulateOneRun (generic function with 1 method)"
      ]
     },
     "execution_count": 16,
     "metadata": {},
     "output_type": "execute_result"
    }
   ],
   "source": [
    "using Random\n",
    "using Distributions\n",
    "using Statistics\n",
    "# m - number of days\n",
    "# s - reorder point\n",
    "# S - target warehouse volume\n",
    "function simulateOneRun(m, s, S;\n",
    "    h = 0.1, #storage cost\n",
    "    c = 4.0, #unit profit\n",
    "    p = 0.50, #probability of delivery\n",
    "    K = 100, # fixed order cost\n",
    "    k = 1.0, # variable order cost\n",
    "    init_S = 100, #initial warehouse level\n",
    "    average_demand = 20,\n",
    "    price_increase = 0.05)\n",
    "    \n",
    "    # Calculate new price\n",
    "    new_c = c * (1 + price_increase)\n",
    "    \n",
    "    Xⱼ = init_S\n",
    "    local Yj\n",
    "    profit = 0.0\n",
    "    lost_orders = 0.0\n",
    "    warehouse_levels = Int[]\n",
    "    #pois = Distributions.Poisson(average_demand)\n",
    "    normal=Distributions.Normal(20,5)\n",
    "    for day in 1:m\n",
    "        if Xⱼ < s  # reorder point  #100 < 5 \n",
    "            if rand() < p\n",
    "                profit -= K + (S-Xⱼ)*k\n",
    "                Xⱼ = S\n",
    "            end\n",
    "        end\n",
    "        push!(warehouse_levels, Xⱼ)\n",
    "        #demand = rand(pois)\n",
    "        demand = round.(Int, rand(normal))\n",
    "        sales = min(Xⱼ, demand) #(stan_magazynu, popyt_w_dniu )\n",
    "        Xⱼ -= sales\n",
    "        @assert Xⱼ >= 0\n",
    "        lost_order = demand - sales # failed to provide  \n",
    "        @assert lost_order >= 0 \n",
    "        profit += sales*new_c - (Xⱼ-sales)*h  # storage costs\n",
    "        lost_orders += lost_order\n",
    "        #koszt_jednostkowy_Stock_outu to wtedy bez wag \n",
    "        # one_obj = 0.75 * profit + 0.25 * lost_orders * koszt_jednostkowy_Stock_outu \n",
    "        # wtedy kiedy wybieramy jedna opcje np logistyke\n",
    "    end\n",
    "    \n",
    "    (profit=profit, lost_orders=lost_orders,\n",
    "        warehouse_levels=warehouse_levels) #,one_obj\n",
    "end"
   ]
  },
  {
   "cell_type": "code",
   "execution_count": 17,
   "metadata": {},
   "outputs": [
    {
     "data": {
      "text/plain": [
       "run_sims (generic function with 2 methods)"
      ]
     },
     "execution_count": 17,
     "metadata": {},
     "output_type": "execute_result"
    }
   ],
   "source": [
    "\n",
    "function run_sims(m,s,S,N=100)\n",
    "    df = DataFrame(simulateOneRun(m,s,S,price_increase=0.05) for n in 1:N)\n",
    "    (\n",
    "        m=m,\n",
    "        s=s,\n",
    "        S=S,\n",
    "        N=N,\n",
    "        profit_mean = mean(df.profit),\n",
    "        profit_std = std(df.profit),\n",
    "        lost_mean = mean(df.lost_orders),\n",
    "        lost_std = std(df.lost_orders)\n",
    "    )\n",
    "end\n",
    "\n",
    "\n",
    "#run_sims(30,50,100)"
   ]
  },
  {
   "cell_type": "code",
   "execution_count": 18,
   "metadata": {},
   "outputs": [
    {
     "data": {
      "text/html": [
       "<div><div style = \"float: left;\"><span>350×8 DataFrame</span></div><div style = \"float: right;\"><span style = \"font-style: italic;\">325 rows omitted</span></div><div style = \"clear: both;\"></div></div><div class = \"data-frame\" style = \"overflow-x: scroll;\"><table class = \"data-frame\" style = \"margin-bottom: 6px;\"><thead><tr class = \"header\"><th class = \"rowNumber\" style = \"font-weight: bold; text-align: right;\">Row</th><th style = \"text-align: left;\">m</th><th style = \"text-align: left;\">s</th><th style = \"text-align: left;\">S</th><th style = \"text-align: left;\">N</th><th style = \"text-align: left;\">profit_mean</th><th style = \"text-align: left;\">profit_std</th><th style = \"text-align: left;\">lost_mean</th><th style = \"text-align: left;\">lost_std</th></tr><tr class = \"subheader headerLastRow\"><th class = \"rowNumber\" style = \"font-weight: bold; text-align: right;\"></th><th title = \"Int64\" style = \"text-align: left;\">Int64</th><th title = \"Int64\" style = \"text-align: left;\">Int64</th><th title = \"Int64\" style = \"text-align: left;\">Int64</th><th title = \"Int64\" style = \"text-align: left;\">Int64</th><th title = \"Float64\" style = \"text-align: left;\">Float64</th><th title = \"Float64\" style = \"text-align: left;\">Float64</th><th title = \"Float64\" style = \"text-align: left;\">Float64</th><th title = \"Float64\" style = \"text-align: left;\">Float64</th></tr></thead><tbody><tr><td class = \"rowNumber\" style = \"font-weight: bold; text-align: right;\">1</td><td style = \"text-align: right;\">250</td><td style = \"text-align: right;\">5</td><td style = \"text-align: right;\">180</td><td style = \"text-align: right;\">1000</td><td style = \"text-align: right;\">10264.2</td><td style = \"text-align: right;\">358.547</td><td style = \"text-align: right;\">637.637</td><td style = \"text-align: right;\">126.76</td></tr><tr><td class = \"rowNumber\" style = \"font-weight: bold; text-align: right;\">2</td><td style = \"text-align: right;\">250</td><td style = \"text-align: right;\">5</td><td style = \"text-align: right;\">185</td><td style = \"text-align: right;\">1000</td><td style = \"text-align: right;\">10287.6</td><td style = \"text-align: right;\">356.933</td><td style = \"text-align: right;\">627.17</td><td style = \"text-align: right;\">127.088</td></tr><tr><td class = \"rowNumber\" style = \"font-weight: bold; text-align: right;\">3</td><td style = \"text-align: right;\">250</td><td style = \"text-align: right;\">5</td><td style = \"text-align: right;\">190</td><td style = \"text-align: right;\">1000</td><td style = \"text-align: right;\">10347.4</td><td style = \"text-align: right;\">353.714</td><td style = \"text-align: right;\">605.217</td><td style = \"text-align: right;\">120.83</td></tr><tr><td class = \"rowNumber\" style = \"font-weight: bold; text-align: right;\">4</td><td style = \"text-align: right;\">250</td><td style = \"text-align: right;\">5</td><td style = \"text-align: right;\">195</td><td style = \"text-align: right;\">1000</td><td style = \"text-align: right;\">10369.1</td><td style = \"text-align: right;\">356.029</td><td style = \"text-align: right;\">595.627</td><td style = \"text-align: right;\">123.362</td></tr><tr><td class = \"rowNumber\" style = \"font-weight: bold; text-align: right;\">5</td><td style = \"text-align: right;\">250</td><td style = \"text-align: right;\">5</td><td style = \"text-align: right;\">200</td><td style = \"text-align: right;\">1000</td><td style = \"text-align: right;\">10400.5</td><td style = \"text-align: right;\">352.975</td><td style = \"text-align: right;\">582.102</td><td style = \"text-align: right;\">121.781</td></tr><tr><td class = \"rowNumber\" style = \"font-weight: bold; text-align: right;\">6</td><td style = \"text-align: right;\">250</td><td style = \"text-align: right;\">5</td><td style = \"text-align: right;\">205</td><td style = \"text-align: right;\">1000</td><td style = \"text-align: right;\">10422.6</td><td style = \"text-align: right;\">337.583</td><td style = \"text-align: right;\">572.135</td><td style = \"text-align: right;\">115.821</td></tr><tr><td class = \"rowNumber\" style = \"font-weight: bold; text-align: right;\">7</td><td style = \"text-align: right;\">250</td><td style = \"text-align: right;\">5</td><td style = \"text-align: right;\">210</td><td style = \"text-align: right;\">1000</td><td style = \"text-align: right;\">10449.9</td><td style = \"text-align: right;\">354.982</td><td style = \"text-align: right;\">553.099</td><td style = \"text-align: right;\">120.697</td></tr><tr><td class = \"rowNumber\" style = \"font-weight: bold; text-align: right;\">8</td><td style = \"text-align: right;\">250</td><td style = \"text-align: right;\">5</td><td style = \"text-align: right;\">215</td><td style = \"text-align: right;\">1000</td><td style = \"text-align: right;\">10446.1</td><td style = \"text-align: right;\">345.089</td><td style = \"text-align: right;\">549.847</td><td style = \"text-align: right;\">117.835</td></tr><tr><td class = \"rowNumber\" style = \"font-weight: bold; text-align: right;\">9</td><td style = \"text-align: right;\">250</td><td style = \"text-align: right;\">5</td><td style = \"text-align: right;\">220</td><td style = \"text-align: right;\">1000</td><td style = \"text-align: right;\">10453.7</td><td style = \"text-align: right;\">337.018</td><td style = \"text-align: right;\">539.899</td><td style = \"text-align: right;\">117.828</td></tr><tr><td class = \"rowNumber\" style = \"font-weight: bold; text-align: right;\">10</td><td style = \"text-align: right;\">250</td><td style = \"text-align: right;\">5</td><td style = \"text-align: right;\">225</td><td style = \"text-align: right;\">1000</td><td style = \"text-align: right;\">10467.0</td><td style = \"text-align: right;\">368.176</td><td style = \"text-align: right;\">532.72</td><td style = \"text-align: right;\">124.036</td></tr><tr><td class = \"rowNumber\" style = \"font-weight: bold; text-align: right;\">11</td><td style = \"text-align: right;\">250</td><td style = \"text-align: right;\">5</td><td style = \"text-align: right;\">230</td><td style = \"text-align: right;\">1000</td><td style = \"text-align: right;\">10486.9</td><td style = \"text-align: right;\">339.733</td><td style = \"text-align: right;\">517.83</td><td style = \"text-align: right;\">115.915</td></tr><tr><td class = \"rowNumber\" style = \"font-weight: bold; text-align: right;\">12</td><td style = \"text-align: right;\">250</td><td style = \"text-align: right;\">5</td><td style = \"text-align: right;\">235</td><td style = \"text-align: right;\">1000</td><td style = \"text-align: right;\">10474.1</td><td style = \"text-align: right;\">355.416</td><td style = \"text-align: right;\">510.457</td><td style = \"text-align: right;\">120.071</td></tr><tr><td class = \"rowNumber\" style = \"font-weight: bold; text-align: right;\">13</td><td style = \"text-align: right;\">250</td><td style = \"text-align: right;\">5</td><td style = \"text-align: right;\">240</td><td style = \"text-align: right;\">1000</td><td style = \"text-align: right;\">10490.4</td><td style = \"text-align: right;\">353.052</td><td style = \"text-align: right;\">497.065</td><td style = \"text-align: right;\">113.755</td></tr><tr><td style = \"text-align: right;\">&vellip;</td><td style = \"text-align: right;\">&vellip;</td><td style = \"text-align: right;\">&vellip;</td><td style = \"text-align: right;\">&vellip;</td><td style = \"text-align: right;\">&vellip;</td><td style = \"text-align: right;\">&vellip;</td><td style = \"text-align: right;\">&vellip;</td><td style = \"text-align: right;\">&vellip;</td><td style = \"text-align: right;\">&vellip;</td></tr><tr><td class = \"rowNumber\" style = \"font-weight: bold; text-align: right;\">339</td><td style = \"text-align: right;\">250</td><td style = \"text-align: right;\">50</td><td style = \"text-align: right;\">295</td><td style = \"text-align: right;\">1000</td><td style = \"text-align: right;\">10617.2</td><td style = \"text-align: right;\">297.369</td><td style = \"text-align: right;\">105.132</td><td style = \"text-align: right;\">72.0363</td></tr><tr><td class = \"rowNumber\" style = \"font-weight: bold; text-align: right;\">340</td><td style = \"text-align: right;\">250</td><td style = \"text-align: right;\">50</td><td style = \"text-align: right;\">300</td><td style = \"text-align: right;\">1000</td><td style = \"text-align: right;\">10580.8</td><td style = \"text-align: right;\">297.9</td><td style = \"text-align: right;\">106.077</td><td style = \"text-align: right;\">71.1414</td></tr><tr><td class = \"rowNumber\" style = \"font-weight: bold; text-align: right;\">341</td><td style = \"text-align: right;\">250</td><td style = \"text-align: right;\">50</td><td style = \"text-align: right;\">305</td><td style = \"text-align: right;\">1000</td><td style = \"text-align: right;\">10553.9</td><td style = \"text-align: right;\">299.061</td><td style = \"text-align: right;\">100.815</td><td style = \"text-align: right;\">68.843</td></tr><tr><td class = \"rowNumber\" style = \"font-weight: bold; text-align: right;\">342</td><td style = \"text-align: right;\">250</td><td style = \"text-align: right;\">50</td><td style = \"text-align: right;\">310</td><td style = \"text-align: right;\">1000</td><td style = \"text-align: right;\">10530.2</td><td style = \"text-align: right;\">289.396</td><td style = \"text-align: right;\">98.828</td><td style = \"text-align: right;\">70.792</td></tr><tr><td class = \"rowNumber\" style = \"font-weight: bold; text-align: right;\">343</td><td style = \"text-align: right;\">250</td><td style = \"text-align: right;\">50</td><td style = \"text-align: right;\">315</td><td style = \"text-align: right;\">1000</td><td style = \"text-align: right;\">10513.0</td><td style = \"text-align: right;\">282.179</td><td style = \"text-align: right;\">96.054</td><td style = \"text-align: right;\">67.6957</td></tr><tr><td class = \"rowNumber\" style = \"font-weight: bold; text-align: right;\">344</td><td style = \"text-align: right;\">250</td><td style = \"text-align: right;\">50</td><td style = \"text-align: right;\">320</td><td style = \"text-align: right;\">1000</td><td style = \"text-align: right;\">10467.9</td><td style = \"text-align: right;\">299.776</td><td style = \"text-align: right;\">94.767</td><td style = \"text-align: right;\">66.2662</td></tr><tr><td class = \"rowNumber\" style = \"font-weight: bold; text-align: right;\">345</td><td style = \"text-align: right;\">250</td><td style = \"text-align: right;\">50</td><td style = \"text-align: right;\">325</td><td style = \"text-align: right;\">1000</td><td style = \"text-align: right;\">10432.3</td><td style = \"text-align: right;\">302.21</td><td style = \"text-align: right;\">94.52</td><td style = \"text-align: right;\">69.84</td></tr><tr><td class = \"rowNumber\" style = \"font-weight: bold; text-align: right;\">346</td><td style = \"text-align: right;\">250</td><td style = \"text-align: right;\">50</td><td style = \"text-align: right;\">330</td><td style = \"text-align: right;\">1000</td><td style = \"text-align: right;\">10409.3</td><td style = \"text-align: right;\">294.572</td><td style = \"text-align: right;\">93.575</td><td style = \"text-align: right;\">68.6658</td></tr><tr><td class = \"rowNumber\" style = \"font-weight: bold; text-align: right;\">347</td><td style = \"text-align: right;\">250</td><td style = \"text-align: right;\">50</td><td style = \"text-align: right;\">335</td><td style = \"text-align: right;\">1000</td><td style = \"text-align: right;\">10372.9</td><td style = \"text-align: right;\">295.212</td><td style = \"text-align: right;\">89.599</td><td style = \"text-align: right;\">68.5179</td></tr><tr><td class = \"rowNumber\" style = \"font-weight: bold; text-align: right;\">348</td><td style = \"text-align: right;\">250</td><td style = \"text-align: right;\">50</td><td style = \"text-align: right;\">340</td><td style = \"text-align: right;\">1000</td><td style = \"text-align: right;\">10319.6</td><td style = \"text-align: right;\">312.939</td><td style = \"text-align: right;\">88.918</td><td style = \"text-align: right;\">67.794</td></tr><tr><td class = \"rowNumber\" style = \"font-weight: bold; text-align: right;\">349</td><td style = \"text-align: right;\">250</td><td style = \"text-align: right;\">50</td><td style = \"text-align: right;\">345</td><td style = \"text-align: right;\">1000</td><td style = \"text-align: right;\">10296.6</td><td style = \"text-align: right;\">294.432</td><td style = \"text-align: right;\">90.122</td><td style = \"text-align: right;\">67.3804</td></tr><tr><td class = \"rowNumber\" style = \"font-weight: bold; text-align: right;\">350</td><td style = \"text-align: right;\">250</td><td style = \"text-align: right;\">50</td><td style = \"text-align: right;\">350</td><td style = \"text-align: right;\">1000</td><td style = \"text-align: right;\">10243.2</td><td style = \"text-align: right;\">306.62</td><td style = \"text-align: right;\">84.828</td><td style = \"text-align: right;\">64.6009</td></tr></tbody></table></div>"
      ],
      "text/latex": [
       "\\begin{tabular}{r|cccccccc}\n",
       "\t& m & s & S & N & profit\\_mean & profit\\_std & lost\\_mean & lost\\_std\\\\\n",
       "\t\\hline\n",
       "\t& Int64 & Int64 & Int64 & Int64 & Float64 & Float64 & Float64 & Float64\\\\\n",
       "\t\\hline\n",
       "\t1 & 250 & 5 & 180 & 1000 & 10264.2 & 358.547 & 637.637 & 126.76 \\\\\n",
       "\t2 & 250 & 5 & 185 & 1000 & 10287.6 & 356.933 & 627.17 & 127.088 \\\\\n",
       "\t3 & 250 & 5 & 190 & 1000 & 10347.4 & 353.714 & 605.217 & 120.83 \\\\\n",
       "\t4 & 250 & 5 & 195 & 1000 & 10369.1 & 356.029 & 595.627 & 123.362 \\\\\n",
       "\t5 & 250 & 5 & 200 & 1000 & 10400.5 & 352.975 & 582.102 & 121.781 \\\\\n",
       "\t6 & 250 & 5 & 205 & 1000 & 10422.6 & 337.583 & 572.135 & 115.821 \\\\\n",
       "\t7 & 250 & 5 & 210 & 1000 & 10449.9 & 354.982 & 553.099 & 120.697 \\\\\n",
       "\t8 & 250 & 5 & 215 & 1000 & 10446.1 & 345.089 & 549.847 & 117.835 \\\\\n",
       "\t9 & 250 & 5 & 220 & 1000 & 10453.7 & 337.018 & 539.899 & 117.828 \\\\\n",
       "\t10 & 250 & 5 & 225 & 1000 & 10467.0 & 368.176 & 532.72 & 124.036 \\\\\n",
       "\t11 & 250 & 5 & 230 & 1000 & 10486.9 & 339.733 & 517.83 & 115.915 \\\\\n",
       "\t12 & 250 & 5 & 235 & 1000 & 10474.1 & 355.416 & 510.457 & 120.071 \\\\\n",
       "\t13 & 250 & 5 & 240 & 1000 & 10490.4 & 353.052 & 497.065 & 113.755 \\\\\n",
       "\t14 & 250 & 5 & 245 & 1000 & 10493.7 & 351.871 & 486.561 & 117.996 \\\\\n",
       "\t15 & 250 & 5 & 250 & 1000 & 10491.9 & 355.209 & 480.845 & 115.379 \\\\\n",
       "\t16 & 250 & 5 & 255 & 1000 & 10484.3 & 339.684 & 474.559 & 115.6 \\\\\n",
       "\t17 & 250 & 5 & 260 & 1000 & 10490.3 & 332.743 & 461.823 & 108.385 \\\\\n",
       "\t18 & 250 & 5 & 265 & 1000 & 10487.3 & 340.173 & 452.622 & 110.469 \\\\\n",
       "\t19 & 250 & 5 & 270 & 1000 & 10461.5 & 355.352 & 452.187 & 106.962 \\\\\n",
       "\t20 & 250 & 5 & 275 & 1000 & 10451.5 & 343.028 & 437.232 & 113.766 \\\\\n",
       "\t21 & 250 & 5 & 280 & 1000 & 10420.9 & 348.31 & 440.641 & 108.864 \\\\\n",
       "\t22 & 250 & 5 & 285 & 1000 & 10434.9 & 353.863 & 421.726 & 108.624 \\\\\n",
       "\t23 & 250 & 5 & 290 & 1000 & 10409.4 & 358.597 & 419.745 & 109.308 \\\\\n",
       "\t24 & 250 & 5 & 295 & 1000 & 10380.4 & 342.358 & 417.275 & 104.106 \\\\\n",
       "\t25 & 250 & 5 & 300 & 1000 & 10365.3 & 346.507 & 408.154 & 108.314 \\\\\n",
       "\t26 & 250 & 5 & 305 & 1000 & 10356.6 & 344.667 & 401.504 & 106.902 \\\\\n",
       "\t27 & 250 & 5 & 310 & 1000 & 10289.9 & 362.737 & 398.0 & 106.367 \\\\\n",
       "\t28 & 250 & 5 & 315 & 1000 & 10282.1 & 349.846 & 394.746 & 107.9 \\\\\n",
       "\t29 & 250 & 5 & 320 & 1000 & 10266.2 & 337.808 & 388.506 & 102.696 \\\\\n",
       "\t30 & 250 & 5 & 325 & 1000 & 10248.1 & 347.183 & 383.616 & 104.253 \\\\\n",
       "\t$\\dots$ & $\\dots$ & $\\dots$ & $\\dots$ & $\\dots$ & $\\dots$ & $\\dots$ & $\\dots$ & $\\dots$ \\\\\n",
       "\\end{tabular}\n"
      ],
      "text/plain": [
       "\u001b[1m350×8 DataFrame\u001b[0m\n",
       "\u001b[1m Row \u001b[0m│\u001b[1m m     \u001b[0m\u001b[1m s     \u001b[0m\u001b[1m S     \u001b[0m\u001b[1m N     \u001b[0m\u001b[1m profit_mean \u001b[0m\u001b[1m profit_std \u001b[0m\u001b[1m lost_mean \u001b[0m\u001b[1m lost_st\u001b[0m ⋯\n",
       "     │\u001b[90m Int64 \u001b[0m\u001b[90m Int64 \u001b[0m\u001b[90m Int64 \u001b[0m\u001b[90m Int64 \u001b[0m\u001b[90m Float64     \u001b[0m\u001b[90m Float64    \u001b[0m\u001b[90m Float64   \u001b[0m\u001b[90m Float64\u001b[0m ⋯\n",
       "─────┼──────────────────────────────────────────────────────────────────────────\n",
       "   1 │   250      5    180   1000      10264.2     358.547    637.637  126.76  ⋯\n",
       "   2 │   250      5    185   1000      10287.6     356.933    627.17   127.088\n",
       "   3 │   250      5    190   1000      10347.4     353.714    605.217  120.83\n",
       "   4 │   250      5    195   1000      10369.1     356.029    595.627  123.362\n",
       "   5 │   250      5    200   1000      10400.5     352.975    582.102  121.781 ⋯\n",
       "   6 │   250      5    205   1000      10422.6     337.583    572.135  115.821\n",
       "   7 │   250      5    210   1000      10449.9     354.982    553.099  120.697\n",
       "   8 │   250      5    215   1000      10446.1     345.089    549.847  117.835\n",
       "   9 │   250      5    220   1000      10453.7     337.018    539.899  117.828 ⋯\n",
       "  10 │   250      5    225   1000      10467.0     368.176    532.72   124.036\n",
       "  11 │   250      5    230   1000      10486.9     339.733    517.83   115.915\n",
       "  ⋮  │   ⋮      ⋮      ⋮      ⋮         ⋮           ⋮           ⋮         ⋮    ⋱\n",
       " 341 │   250     50    305   1000      10553.9     299.061    100.815   68.843\n",
       " 342 │   250     50    310   1000      10530.2     289.396     98.828   70.792 ⋯\n",
       " 343 │   250     50    315   1000      10513.0     282.179     96.054   67.695\n",
       " 344 │   250     50    320   1000      10467.9     299.776     94.767   66.266\n",
       " 345 │   250     50    325   1000      10432.3     302.21      94.52    69.84\n",
       " 346 │   250     50    330   1000      10409.3     294.572     93.575   68.665 ⋯\n",
       " 347 │   250     50    335   1000      10372.9     295.212     89.599   68.517\n",
       " 348 │   250     50    340   1000      10319.6     312.939     88.918   67.794\n",
       " 349 │   250     50    345   1000      10296.6     294.432     90.122   67.380\n",
       " 350 │   250     50    350   1000      10243.2     306.62      84.828   64.600 ⋯\n",
       "\u001b[36m                                                   1 column and 329 rows omitted\u001b[0m"
      ]
     },
     "execution_count": 18,
     "metadata": {},
     "output_type": "execute_result"
    }
   ],
   "source": [
    "using Random\n",
    "Random.seed!(0)\n",
    "df = DataFrame(run_sims(250,s,S,1000)\n",
    "    for S in 180:5:350, s in 5:5:50 if S > s )"
   ]
  },
  {
   "cell_type": "code",
   "execution_count": 19,
   "metadata": {},
   "outputs": [
    {
     "data": {
      "text/html": [
       "<div><div style = \"float: left;\"><span>DataFrameRow (8 columns)</span></div><div style = \"clear: both;\"></div></div><div class = \"data-frame\" style = \"overflow-x: scroll;\"><table class = \"data-frame\" style = \"margin-bottom: 6px;\"><thead><tr class = \"header\"><th class = \"rowLabel\" style = \"font-weight: bold; text-align: right;\">Row</th><th style = \"text-align: left;\">m</th><th style = \"text-align: left;\">s</th><th style = \"text-align: left;\">S</th><th style = \"text-align: left;\">N</th><th style = \"text-align: left;\">profit_mean</th><th style = \"text-align: left;\">profit_std</th><th style = \"text-align: left;\">lost_mean</th><th style = \"text-align: left;\">lost_std</th></tr><tr class = \"subheader headerLastRow\"><th class = \"rowLabel\" style = \"font-weight: bold; text-align: right;\"></th><th title = \"Int64\" style = \"text-align: left;\">Int64</th><th title = \"Int64\" style = \"text-align: left;\">Int64</th><th title = \"Int64\" style = \"text-align: left;\">Int64</th><th title = \"Int64\" style = \"text-align: left;\">Int64</th><th title = \"Float64\" style = \"text-align: left;\">Float64</th><th title = \"Float64\" style = \"text-align: left;\">Float64</th><th title = \"Float64\" style = \"text-align: left;\">Float64</th><th title = \"Float64\" style = \"text-align: left;\">Float64</th></tr></thead><tbody><tr><td class = \"rowLabel\" style = \"font-weight: bold; text-align: right;\">221</td><td style = \"text-align: right;\">250</td><td style = \"text-align: right;\">35</td><td style = \"text-align: right;\">230</td><td style = \"text-align: right;\">1000</td><td style = \"text-align: right;\">10927.1</td><td style = \"text-align: right;\">315.016</td><td style = \"text-align: right;\">206.157</td><td style = \"text-align: right;\">94.4846</td></tr></tbody></table></div>"
      ],
      "text/latex": [
       "\\begin{tabular}{r|cccccccc}\n",
       "\t& m & s & S & N & profit\\_mean & profit\\_std & lost\\_mean & lost\\_std\\\\\n",
       "\t\\hline\n",
       "\t& Int64 & Int64 & Int64 & Int64 & Float64 & Float64 & Float64 & Float64\\\\\n",
       "\t\\hline\n",
       "\t221 & 250 & 35 & 230 & 1000 & 10927.1 & 315.016 & 206.157 & 94.4846 \\\\\n",
       "\\end{tabular}\n"
      ],
      "text/plain": [
       "\u001b[1mDataFrameRow\u001b[0m\n",
       "\u001b[1m Row \u001b[0m│\u001b[1m m     \u001b[0m\u001b[1m s     \u001b[0m\u001b[1m S     \u001b[0m\u001b[1m N     \u001b[0m\u001b[1m profit_mean \u001b[0m\u001b[1m profit_std \u001b[0m\u001b[1m lost_mean \u001b[0m\u001b[1m lost_st\u001b[0m ⋯\n",
       "     │\u001b[90m Int64 \u001b[0m\u001b[90m Int64 \u001b[0m\u001b[90m Int64 \u001b[0m\u001b[90m Int64 \u001b[0m\u001b[90m Float64     \u001b[0m\u001b[90m Float64    \u001b[0m\u001b[90m Float64   \u001b[0m\u001b[90m Float64\u001b[0m ⋯\n",
       "─────┼──────────────────────────────────────────────────────────────────────────\n",
       " 221 │   250     35    230   1000      10927.1     315.016    206.157   94.484 ⋯\n",
       "\u001b[36m                                                                1 column omitted\u001b[0m"
      ]
     },
     "execution_count": 19,
     "metadata": {},
     "output_type": "execute_result"
    }
   ],
   "source": [
    "best_row = argmax(df.profit_mean)\n",
    "df[best_row,:]"
   ]
  },
  {
   "cell_type": "code",
   "execution_count": 20,
   "metadata": {},
   "outputs": [],
   "source": [
    "# tutaj symulacja zwiekszona o te 5% "
   ]
  },
  {
   "cell_type": "code",
   "execution_count": 21,
   "metadata": {},
   "outputs": [
    {
     "data": {
      "text/html": [
       "<div><div style = \"float: left;\"><span>350×8 DataFrame</span></div><div style = \"float: right;\"><span style = \"font-style: italic;\">325 rows omitted</span></div><div style = \"clear: both;\"></div></div><div class = \"data-frame\" style = \"overflow-x: scroll;\"><table class = \"data-frame\" style = \"margin-bottom: 6px;\"><thead><tr class = \"header\"><th class = \"rowNumber\" style = \"font-weight: bold; text-align: right;\">Row</th><th style = \"text-align: left;\">m</th><th style = \"text-align: left;\">s</th><th style = \"text-align: left;\">S</th><th style = \"text-align: left;\">N</th><th style = \"text-align: left;\">profit_mean</th><th style = \"text-align: left;\">profit_std</th><th style = \"text-align: left;\">lost_mean</th><th style = \"text-align: left;\">lost_std</th></tr><tr class = \"subheader headerLastRow\"><th class = \"rowNumber\" style = \"font-weight: bold; text-align: right;\"></th><th title = \"Int64\" style = \"text-align: left;\">Int64</th><th title = \"Int64\" style = \"text-align: left;\">Int64</th><th title = \"Int64\" style = \"text-align: left;\">Int64</th><th title = \"Int64\" style = \"text-align: left;\">Int64</th><th title = \"Float64\" style = \"text-align: left;\">Float64</th><th title = \"Float64\" style = \"text-align: left;\">Float64</th><th title = \"Float64\" style = \"text-align: left;\">Float64</th><th title = \"Float64\" style = \"text-align: left;\">Float64</th></tr></thead><tbody><tr><td class = \"rowNumber\" style = \"font-weight: bold; text-align: right;\">1</td><td style = \"text-align: right;\">250</td><td style = \"text-align: right;\">5</td><td style = \"text-align: right;\">180</td><td style = \"text-align: right;\">1000</td><td style = \"text-align: right;\">10264.2</td><td style = \"text-align: right;\">358.547</td><td style = \"text-align: right;\">637.637</td><td style = \"text-align: right;\">126.76</td></tr><tr><td class = \"rowNumber\" style = \"font-weight: bold; text-align: right;\">2</td><td style = \"text-align: right;\">250</td><td style = \"text-align: right;\">5</td><td style = \"text-align: right;\">185</td><td style = \"text-align: right;\">1000</td><td style = \"text-align: right;\">10287.6</td><td style = \"text-align: right;\">356.933</td><td style = \"text-align: right;\">627.17</td><td style = \"text-align: right;\">127.088</td></tr><tr><td class = \"rowNumber\" style = \"font-weight: bold; text-align: right;\">3</td><td style = \"text-align: right;\">250</td><td style = \"text-align: right;\">5</td><td style = \"text-align: right;\">190</td><td style = \"text-align: right;\">1000</td><td style = \"text-align: right;\">10347.4</td><td style = \"text-align: right;\">353.714</td><td style = \"text-align: right;\">605.217</td><td style = \"text-align: right;\">120.83</td></tr><tr><td class = \"rowNumber\" style = \"font-weight: bold; text-align: right;\">4</td><td style = \"text-align: right;\">250</td><td style = \"text-align: right;\">5</td><td style = \"text-align: right;\">195</td><td style = \"text-align: right;\">1000</td><td style = \"text-align: right;\">10369.1</td><td style = \"text-align: right;\">356.029</td><td style = \"text-align: right;\">595.627</td><td style = \"text-align: right;\">123.362</td></tr><tr><td class = \"rowNumber\" style = \"font-weight: bold; text-align: right;\">5</td><td style = \"text-align: right;\">250</td><td style = \"text-align: right;\">5</td><td style = \"text-align: right;\">200</td><td style = \"text-align: right;\">1000</td><td style = \"text-align: right;\">10400.5</td><td style = \"text-align: right;\">352.975</td><td style = \"text-align: right;\">582.102</td><td style = \"text-align: right;\">121.781</td></tr><tr><td class = \"rowNumber\" style = \"font-weight: bold; text-align: right;\">6</td><td style = \"text-align: right;\">250</td><td style = \"text-align: right;\">5</td><td style = \"text-align: right;\">205</td><td style = \"text-align: right;\">1000</td><td style = \"text-align: right;\">10422.6</td><td style = \"text-align: right;\">337.583</td><td style = \"text-align: right;\">572.135</td><td style = \"text-align: right;\">115.821</td></tr><tr><td class = \"rowNumber\" style = \"font-weight: bold; text-align: right;\">7</td><td style = \"text-align: right;\">250</td><td style = \"text-align: right;\">5</td><td style = \"text-align: right;\">210</td><td style = \"text-align: right;\">1000</td><td style = \"text-align: right;\">10449.9</td><td style = \"text-align: right;\">354.982</td><td style = \"text-align: right;\">553.099</td><td style = \"text-align: right;\">120.697</td></tr><tr><td class = \"rowNumber\" style = \"font-weight: bold; text-align: right;\">8</td><td style = \"text-align: right;\">250</td><td style = \"text-align: right;\">5</td><td style = \"text-align: right;\">215</td><td style = \"text-align: right;\">1000</td><td style = \"text-align: right;\">10446.1</td><td style = \"text-align: right;\">345.089</td><td style = \"text-align: right;\">549.847</td><td style = \"text-align: right;\">117.835</td></tr><tr><td class = \"rowNumber\" style = \"font-weight: bold; text-align: right;\">9</td><td style = \"text-align: right;\">250</td><td style = \"text-align: right;\">5</td><td style = \"text-align: right;\">220</td><td style = \"text-align: right;\">1000</td><td style = \"text-align: right;\">10453.7</td><td style = \"text-align: right;\">337.018</td><td style = \"text-align: right;\">539.899</td><td style = \"text-align: right;\">117.828</td></tr><tr><td class = \"rowNumber\" style = \"font-weight: bold; text-align: right;\">10</td><td style = \"text-align: right;\">250</td><td style = \"text-align: right;\">5</td><td style = \"text-align: right;\">225</td><td style = \"text-align: right;\">1000</td><td style = \"text-align: right;\">10467.0</td><td style = \"text-align: right;\">368.176</td><td style = \"text-align: right;\">532.72</td><td style = \"text-align: right;\">124.036</td></tr><tr><td class = \"rowNumber\" style = \"font-weight: bold; text-align: right;\">11</td><td style = \"text-align: right;\">250</td><td style = \"text-align: right;\">5</td><td style = \"text-align: right;\">230</td><td style = \"text-align: right;\">1000</td><td style = \"text-align: right;\">10486.9</td><td style = \"text-align: right;\">339.733</td><td style = \"text-align: right;\">517.83</td><td style = \"text-align: right;\">115.915</td></tr><tr><td class = \"rowNumber\" style = \"font-weight: bold; text-align: right;\">12</td><td style = \"text-align: right;\">250</td><td style = \"text-align: right;\">5</td><td style = \"text-align: right;\">235</td><td style = \"text-align: right;\">1000</td><td style = \"text-align: right;\">10474.1</td><td style = \"text-align: right;\">355.416</td><td style = \"text-align: right;\">510.457</td><td style = \"text-align: right;\">120.071</td></tr><tr><td class = \"rowNumber\" style = \"font-weight: bold; text-align: right;\">13</td><td style = \"text-align: right;\">250</td><td style = \"text-align: right;\">5</td><td style = \"text-align: right;\">240</td><td style = \"text-align: right;\">1000</td><td style = \"text-align: right;\">10490.4</td><td style = \"text-align: right;\">353.052</td><td style = \"text-align: right;\">497.065</td><td style = \"text-align: right;\">113.755</td></tr><tr><td style = \"text-align: right;\">&vellip;</td><td style = \"text-align: right;\">&vellip;</td><td style = \"text-align: right;\">&vellip;</td><td style = \"text-align: right;\">&vellip;</td><td style = \"text-align: right;\">&vellip;</td><td style = \"text-align: right;\">&vellip;</td><td style = \"text-align: right;\">&vellip;</td><td style = \"text-align: right;\">&vellip;</td><td style = \"text-align: right;\">&vellip;</td></tr><tr><td class = \"rowNumber\" style = \"font-weight: bold; text-align: right;\">339</td><td style = \"text-align: right;\">250</td><td style = \"text-align: right;\">50</td><td style = \"text-align: right;\">295</td><td style = \"text-align: right;\">1000</td><td style = \"text-align: right;\">10617.2</td><td style = \"text-align: right;\">297.369</td><td style = \"text-align: right;\">105.132</td><td style = \"text-align: right;\">72.0363</td></tr><tr><td class = \"rowNumber\" style = \"font-weight: bold; text-align: right;\">340</td><td style = \"text-align: right;\">250</td><td style = \"text-align: right;\">50</td><td style = \"text-align: right;\">300</td><td style = \"text-align: right;\">1000</td><td style = \"text-align: right;\">10580.8</td><td style = \"text-align: right;\">297.9</td><td style = \"text-align: right;\">106.077</td><td style = \"text-align: right;\">71.1414</td></tr><tr><td class = \"rowNumber\" style = \"font-weight: bold; text-align: right;\">341</td><td style = \"text-align: right;\">250</td><td style = \"text-align: right;\">50</td><td style = \"text-align: right;\">305</td><td style = \"text-align: right;\">1000</td><td style = \"text-align: right;\">10553.9</td><td style = \"text-align: right;\">299.061</td><td style = \"text-align: right;\">100.815</td><td style = \"text-align: right;\">68.843</td></tr><tr><td class = \"rowNumber\" style = \"font-weight: bold; text-align: right;\">342</td><td style = \"text-align: right;\">250</td><td style = \"text-align: right;\">50</td><td style = \"text-align: right;\">310</td><td style = \"text-align: right;\">1000</td><td style = \"text-align: right;\">10530.2</td><td style = \"text-align: right;\">289.396</td><td style = \"text-align: right;\">98.828</td><td style = \"text-align: right;\">70.792</td></tr><tr><td class = \"rowNumber\" style = \"font-weight: bold; text-align: right;\">343</td><td style = \"text-align: right;\">250</td><td style = \"text-align: right;\">50</td><td style = \"text-align: right;\">315</td><td style = \"text-align: right;\">1000</td><td style = \"text-align: right;\">10513.0</td><td style = \"text-align: right;\">282.179</td><td style = \"text-align: right;\">96.054</td><td style = \"text-align: right;\">67.6957</td></tr><tr><td class = \"rowNumber\" style = \"font-weight: bold; text-align: right;\">344</td><td style = \"text-align: right;\">250</td><td style = \"text-align: right;\">50</td><td style = \"text-align: right;\">320</td><td style = \"text-align: right;\">1000</td><td style = \"text-align: right;\">10467.9</td><td style = \"text-align: right;\">299.776</td><td style = \"text-align: right;\">94.767</td><td style = \"text-align: right;\">66.2662</td></tr><tr><td class = \"rowNumber\" style = \"font-weight: bold; text-align: right;\">345</td><td style = \"text-align: right;\">250</td><td style = \"text-align: right;\">50</td><td style = \"text-align: right;\">325</td><td style = \"text-align: right;\">1000</td><td style = \"text-align: right;\">10432.3</td><td style = \"text-align: right;\">302.21</td><td style = \"text-align: right;\">94.52</td><td style = \"text-align: right;\">69.84</td></tr><tr><td class = \"rowNumber\" style = \"font-weight: bold; text-align: right;\">346</td><td style = \"text-align: right;\">250</td><td style = \"text-align: right;\">50</td><td style = \"text-align: right;\">330</td><td style = \"text-align: right;\">1000</td><td style = \"text-align: right;\">10409.3</td><td style = \"text-align: right;\">294.572</td><td style = \"text-align: right;\">93.575</td><td style = \"text-align: right;\">68.6658</td></tr><tr><td class = \"rowNumber\" style = \"font-weight: bold; text-align: right;\">347</td><td style = \"text-align: right;\">250</td><td style = \"text-align: right;\">50</td><td style = \"text-align: right;\">335</td><td style = \"text-align: right;\">1000</td><td style = \"text-align: right;\">10372.9</td><td style = \"text-align: right;\">295.212</td><td style = \"text-align: right;\">89.599</td><td style = \"text-align: right;\">68.5179</td></tr><tr><td class = \"rowNumber\" style = \"font-weight: bold; text-align: right;\">348</td><td style = \"text-align: right;\">250</td><td style = \"text-align: right;\">50</td><td style = \"text-align: right;\">340</td><td style = \"text-align: right;\">1000</td><td style = \"text-align: right;\">10319.6</td><td style = \"text-align: right;\">312.939</td><td style = \"text-align: right;\">88.918</td><td style = \"text-align: right;\">67.794</td></tr><tr><td class = \"rowNumber\" style = \"font-weight: bold; text-align: right;\">349</td><td style = \"text-align: right;\">250</td><td style = \"text-align: right;\">50</td><td style = \"text-align: right;\">345</td><td style = \"text-align: right;\">1000</td><td style = \"text-align: right;\">10296.6</td><td style = \"text-align: right;\">294.432</td><td style = \"text-align: right;\">90.122</td><td style = \"text-align: right;\">67.3804</td></tr><tr><td class = \"rowNumber\" style = \"font-weight: bold; text-align: right;\">350</td><td style = \"text-align: right;\">250</td><td style = \"text-align: right;\">50</td><td style = \"text-align: right;\">350</td><td style = \"text-align: right;\">1000</td><td style = \"text-align: right;\">10243.2</td><td style = \"text-align: right;\">306.62</td><td style = \"text-align: right;\">84.828</td><td style = \"text-align: right;\">64.6009</td></tr></tbody></table></div>"
      ],
      "text/latex": [
       "\\begin{tabular}{r|cccccccc}\n",
       "\t& m & s & S & N & profit\\_mean & profit\\_std & lost\\_mean & lost\\_std\\\\\n",
       "\t\\hline\n",
       "\t& Int64 & Int64 & Int64 & Int64 & Float64 & Float64 & Float64 & Float64\\\\\n",
       "\t\\hline\n",
       "\t1 & 250 & 5 & 180 & 1000 & 10264.2 & 358.547 & 637.637 & 126.76 \\\\\n",
       "\t2 & 250 & 5 & 185 & 1000 & 10287.6 & 356.933 & 627.17 & 127.088 \\\\\n",
       "\t3 & 250 & 5 & 190 & 1000 & 10347.4 & 353.714 & 605.217 & 120.83 \\\\\n",
       "\t4 & 250 & 5 & 195 & 1000 & 10369.1 & 356.029 & 595.627 & 123.362 \\\\\n",
       "\t5 & 250 & 5 & 200 & 1000 & 10400.5 & 352.975 & 582.102 & 121.781 \\\\\n",
       "\t6 & 250 & 5 & 205 & 1000 & 10422.6 & 337.583 & 572.135 & 115.821 \\\\\n",
       "\t7 & 250 & 5 & 210 & 1000 & 10449.9 & 354.982 & 553.099 & 120.697 \\\\\n",
       "\t8 & 250 & 5 & 215 & 1000 & 10446.1 & 345.089 & 549.847 & 117.835 \\\\\n",
       "\t9 & 250 & 5 & 220 & 1000 & 10453.7 & 337.018 & 539.899 & 117.828 \\\\\n",
       "\t10 & 250 & 5 & 225 & 1000 & 10467.0 & 368.176 & 532.72 & 124.036 \\\\\n",
       "\t11 & 250 & 5 & 230 & 1000 & 10486.9 & 339.733 & 517.83 & 115.915 \\\\\n",
       "\t12 & 250 & 5 & 235 & 1000 & 10474.1 & 355.416 & 510.457 & 120.071 \\\\\n",
       "\t13 & 250 & 5 & 240 & 1000 & 10490.4 & 353.052 & 497.065 & 113.755 \\\\\n",
       "\t14 & 250 & 5 & 245 & 1000 & 10493.7 & 351.871 & 486.561 & 117.996 \\\\\n",
       "\t15 & 250 & 5 & 250 & 1000 & 10491.9 & 355.209 & 480.845 & 115.379 \\\\\n",
       "\t16 & 250 & 5 & 255 & 1000 & 10484.3 & 339.684 & 474.559 & 115.6 \\\\\n",
       "\t17 & 250 & 5 & 260 & 1000 & 10490.3 & 332.743 & 461.823 & 108.385 \\\\\n",
       "\t18 & 250 & 5 & 265 & 1000 & 10487.3 & 340.173 & 452.622 & 110.469 \\\\\n",
       "\t19 & 250 & 5 & 270 & 1000 & 10461.5 & 355.352 & 452.187 & 106.962 \\\\\n",
       "\t20 & 250 & 5 & 275 & 1000 & 10451.5 & 343.028 & 437.232 & 113.766 \\\\\n",
       "\t21 & 250 & 5 & 280 & 1000 & 10420.9 & 348.31 & 440.641 & 108.864 \\\\\n",
       "\t22 & 250 & 5 & 285 & 1000 & 10434.9 & 353.863 & 421.726 & 108.624 \\\\\n",
       "\t23 & 250 & 5 & 290 & 1000 & 10409.4 & 358.597 & 419.745 & 109.308 \\\\\n",
       "\t24 & 250 & 5 & 295 & 1000 & 10380.4 & 342.358 & 417.275 & 104.106 \\\\\n",
       "\t25 & 250 & 5 & 300 & 1000 & 10365.3 & 346.507 & 408.154 & 108.314 \\\\\n",
       "\t26 & 250 & 5 & 305 & 1000 & 10356.6 & 344.667 & 401.504 & 106.902 \\\\\n",
       "\t27 & 250 & 5 & 310 & 1000 & 10289.9 & 362.737 & 398.0 & 106.367 \\\\\n",
       "\t28 & 250 & 5 & 315 & 1000 & 10282.1 & 349.846 & 394.746 & 107.9 \\\\\n",
       "\t29 & 250 & 5 & 320 & 1000 & 10266.2 & 337.808 & 388.506 & 102.696 \\\\\n",
       "\t30 & 250 & 5 & 325 & 1000 & 10248.1 & 347.183 & 383.616 & 104.253 \\\\\n",
       "\t$\\dots$ & $\\dots$ & $\\dots$ & $\\dots$ & $\\dots$ & $\\dots$ & $\\dots$ & $\\dots$ & $\\dots$ \\\\\n",
       "\\end{tabular}\n"
      ],
      "text/plain": [
       "\u001b[1m350×8 DataFrame\u001b[0m\n",
       "\u001b[1m Row \u001b[0m│\u001b[1m m     \u001b[0m\u001b[1m s     \u001b[0m\u001b[1m S     \u001b[0m\u001b[1m N     \u001b[0m\u001b[1m profit_mean \u001b[0m\u001b[1m profit_std \u001b[0m\u001b[1m lost_mean \u001b[0m\u001b[1m lost_st\u001b[0m ⋯\n",
       "     │\u001b[90m Int64 \u001b[0m\u001b[90m Int64 \u001b[0m\u001b[90m Int64 \u001b[0m\u001b[90m Int64 \u001b[0m\u001b[90m Float64     \u001b[0m\u001b[90m Float64    \u001b[0m\u001b[90m Float64   \u001b[0m\u001b[90m Float64\u001b[0m ⋯\n",
       "─────┼──────────────────────────────────────────────────────────────────────────\n",
       "   1 │   250      5    180   1000      10264.2     358.547    637.637  126.76  ⋯\n",
       "   2 │   250      5    185   1000      10287.6     356.933    627.17   127.088\n",
       "   3 │   250      5    190   1000      10347.4     353.714    605.217  120.83\n",
       "   4 │   250      5    195   1000      10369.1     356.029    595.627  123.362\n",
       "   5 │   250      5    200   1000      10400.5     352.975    582.102  121.781 ⋯\n",
       "   6 │   250      5    205   1000      10422.6     337.583    572.135  115.821\n",
       "   7 │   250      5    210   1000      10449.9     354.982    553.099  120.697\n",
       "   8 │   250      5    215   1000      10446.1     345.089    549.847  117.835\n",
       "   9 │   250      5    220   1000      10453.7     337.018    539.899  117.828 ⋯\n",
       "  10 │   250      5    225   1000      10467.0     368.176    532.72   124.036\n",
       "  11 │   250      5    230   1000      10486.9     339.733    517.83   115.915\n",
       "  ⋮  │   ⋮      ⋮      ⋮      ⋮         ⋮           ⋮           ⋮         ⋮    ⋱\n",
       " 341 │   250     50    305   1000      10553.9     299.061    100.815   68.843\n",
       " 342 │   250     50    310   1000      10530.2     289.396     98.828   70.792 ⋯\n",
       " 343 │   250     50    315   1000      10513.0     282.179     96.054   67.695\n",
       " 344 │   250     50    320   1000      10467.9     299.776     94.767   66.266\n",
       " 345 │   250     50    325   1000      10432.3     302.21      94.52    69.84\n",
       " 346 │   250     50    330   1000      10409.3     294.572     93.575   68.665 ⋯\n",
       " 347 │   250     50    335   1000      10372.9     295.212     89.599   68.517\n",
       " 348 │   250     50    340   1000      10319.6     312.939     88.918   67.794\n",
       " 349 │   250     50    345   1000      10296.6     294.432     90.122   67.380\n",
       " 350 │   250     50    350   1000      10243.2     306.62      84.828   64.600 ⋯\n",
       "\u001b[36m                                                   1 column and 329 rows omitted\u001b[0m"
      ]
     },
     "execution_count": 21,
     "metadata": {},
     "output_type": "execute_result"
    }
   ],
   "source": [
    "using Random\n",
    "Random.seed!(0)\n",
    "df = DataFrame(run_sims(250,s,S,1000)\n",
    "    for S in 180:5:350, s in 5:5:50 if S > s )"
   ]
  },
  {
   "cell_type": "code",
   "execution_count": 22,
   "metadata": {},
   "outputs": [
    {
     "data": {
      "text/html": [
       "<div><div style = \"float: left;\"><span>DataFrameRow (8 columns)</span></div><div style = \"clear: both;\"></div></div><div class = \"data-frame\" style = \"overflow-x: scroll;\"><table class = \"data-frame\" style = \"margin-bottom: 6px;\"><thead><tr class = \"header\"><th class = \"rowLabel\" style = \"font-weight: bold; text-align: right;\">Row</th><th style = \"text-align: left;\">m</th><th style = \"text-align: left;\">s</th><th style = \"text-align: left;\">S</th><th style = \"text-align: left;\">N</th><th style = \"text-align: left;\">profit_mean</th><th style = \"text-align: left;\">profit_std</th><th style = \"text-align: left;\">lost_mean</th><th style = \"text-align: left;\">lost_std</th></tr><tr class = \"subheader headerLastRow\"><th class = \"rowLabel\" style = \"font-weight: bold; text-align: right;\"></th><th title = \"Int64\" style = \"text-align: left;\">Int64</th><th title = \"Int64\" style = \"text-align: left;\">Int64</th><th title = \"Int64\" style = \"text-align: left;\">Int64</th><th title = \"Int64\" style = \"text-align: left;\">Int64</th><th title = \"Float64\" style = \"text-align: left;\">Float64</th><th title = \"Float64\" style = \"text-align: left;\">Float64</th><th title = \"Float64\" style = \"text-align: left;\">Float64</th><th title = \"Float64\" style = \"text-align: left;\">Float64</th></tr></thead><tbody><tr><td class = \"rowLabel\" style = \"font-weight: bold; text-align: right;\">221</td><td style = \"text-align: right;\">250</td><td style = \"text-align: right;\">35</td><td style = \"text-align: right;\">230</td><td style = \"text-align: right;\">1000</td><td style = \"text-align: right;\">10927.1</td><td style = \"text-align: right;\">315.016</td><td style = \"text-align: right;\">206.157</td><td style = \"text-align: right;\">94.4846</td></tr></tbody></table></div>"
      ],
      "text/latex": [
       "\\begin{tabular}{r|cccccccc}\n",
       "\t& m & s & S & N & profit\\_mean & profit\\_std & lost\\_mean & lost\\_std\\\\\n",
       "\t\\hline\n",
       "\t& Int64 & Int64 & Int64 & Int64 & Float64 & Float64 & Float64 & Float64\\\\\n",
       "\t\\hline\n",
       "\t221 & 250 & 35 & 230 & 1000 & 10927.1 & 315.016 & 206.157 & 94.4846 \\\\\n",
       "\\end{tabular}\n"
      ],
      "text/plain": [
       "\u001b[1mDataFrameRow\u001b[0m\n",
       "\u001b[1m Row \u001b[0m│\u001b[1m m     \u001b[0m\u001b[1m s     \u001b[0m\u001b[1m S     \u001b[0m\u001b[1m N     \u001b[0m\u001b[1m profit_mean \u001b[0m\u001b[1m profit_std \u001b[0m\u001b[1m lost_mean \u001b[0m\u001b[1m lost_st\u001b[0m ⋯\n",
       "     │\u001b[90m Int64 \u001b[0m\u001b[90m Int64 \u001b[0m\u001b[90m Int64 \u001b[0m\u001b[90m Int64 \u001b[0m\u001b[90m Float64     \u001b[0m\u001b[90m Float64    \u001b[0m\u001b[90m Float64   \u001b[0m\u001b[90m Float64\u001b[0m ⋯\n",
       "─────┼──────────────────────────────────────────────────────────────────────────\n",
       " 221 │   250     35    230   1000      10927.1     315.016    206.157   94.484 ⋯\n",
       "\u001b[36m                                                                1 column omitted\u001b[0m"
      ]
     },
     "execution_count": 22,
     "metadata": {},
     "output_type": "execute_result"
    }
   ],
   "source": [
    "best_row = argmax(df.profit_mean)\n",
    "df[best_row,:]"
   ]
  },
  {
   "cell_type": "markdown",
   "metadata": {},
   "source": [
    "o ile musi zmienić się parametr (np. cena produktu)"
   ]
  },
  {
   "cell_type": "code",
   "execution_count": 23,
   "metadata": {},
   "outputs": [
    {
     "data": {
      "text/plain": [
       "simulateOneRun (generic function with 2 methods)"
      ]
     },
     "execution_count": 23,
     "metadata": {},
     "output_type": "execute_result"
    }
   ],
   "source": [
    "using Random\n",
    "using Distributions\n",
    "using Statistics\n",
    "# m - number of days\n",
    "# s - reorder point\n",
    "# S - target warehouse volume\n",
    "function simulateOneRun(pr, m, s, S;\n",
    "    h = 0.1, #storage cost\n",
    "    c = 4.0, #unit profit\n",
    "    p = 0.50, #probability of delivery\n",
    "    K = 100, # fixed order cost\n",
    "    k = 1.0, # variable order cost\n",
    "    init_S = 100, #initial warehouse level\n",
    "    average_demand = 20)\n",
    "    price_increase = pr\n",
    "    # Calculate new price\n",
    "    new_c = c * (1 + price_increase)\n",
    "    \n",
    "    Xⱼ = init_S\n",
    "    local Yj\n",
    "    profit = 0.0\n",
    "    lost_orders = 0.0\n",
    "    warehouse_levels = Int[]\n",
    "    #pois = Distributions.Poisson(average_demand)\n",
    "    normal=Distributions.Normal(20,5)\n",
    "    for day in 1:m\n",
    "        if Xⱼ < s  # reorder point  #100 < 5 \n",
    "            if rand() < p\n",
    "                profit -= K + (S-Xⱼ)*k\n",
    "                Xⱼ = S\n",
    "            end\n",
    "        end\n",
    "        push!(warehouse_levels, Xⱼ)\n",
    "        #demand = rand(pois)\n",
    "        demand = round.(Int, rand(normal))\n",
    "        sales = min(Xⱼ, demand) #(stan_magazynu, popyt_w_dniu )\n",
    "        Xⱼ -= sales\n",
    "        @assert Xⱼ >= 0\n",
    "        lost_order = demand - sales # failed to provide  \n",
    "        @assert lost_order >= 0 \n",
    "        profit += sales*new_c - (Xⱼ-sales)*h  # storage costs\n",
    "        lost_orders += lost_order\n",
    "        #koszt_jednostkowy_Stock_outu to wtedy bez wag \n",
    "        # one_obj = 0.75 * profit + 0.25 * lost_orders * koszt_jednostkowy_Stock_outu \n",
    "        # wtedy kiedy wybieramy jedna opcje np logistyke\n",
    "    end\n",
    "    \n",
    "    (profit=profit, lost_orders=lost_orders,\n",
    "        warehouse_levels=warehouse_levels) #,one_obj\n",
    "end"
   ]
  },
  {
   "cell_type": "code",
   "execution_count": 24,
   "metadata": {},
   "outputs": [
    {
     "data": {
      "text/plain": [
       "run_sims (generic function with 3 methods)"
      ]
     },
     "execution_count": 24,
     "metadata": {},
     "output_type": "execute_result"
    }
   ],
   "source": [
    "function run_sims(pr,m,s,S,N=100)\n",
    "    df = DataFrame(simulateOneRun(pr,m,s,S) for n in 1:N)\n",
    "    (\n",
    "        m=m,\n",
    "        s=s,\n",
    "        S=S,\n",
    "        N=N,\n",
    "        p=pr,\n",
    "        profit_mean = mean(df.profit),\n",
    "        profit_std = std(df.profit),\n",
    "        lost_mean = mean(df.lost_orders),\n",
    "        lost_std = std(df.lost_orders)\n",
    "    )\n",
    "end"
   ]
  },
  {
   "cell_type": "code",
   "execution_count": 25,
   "metadata": {},
   "outputs": [
    {
     "data": {
      "text/html": [
       "<div><div style = \"float: left;\"><span>101×9 DataFrame</span></div><div style = \"float: right;\"><span style = \"font-style: italic;\">76 rows omitted</span></div><div style = \"clear: both;\"></div></div><div class = \"data-frame\" style = \"overflow-x: scroll;\"><table class = \"data-frame\" style = \"margin-bottom: 6px;\"><thead><tr class = \"header\"><th class = \"rowNumber\" style = \"font-weight: bold; text-align: right;\">Row</th><th style = \"text-align: left;\">m</th><th style = \"text-align: left;\">s</th><th style = \"text-align: left;\">S</th><th style = \"text-align: left;\">N</th><th style = \"text-align: left;\">p</th><th style = \"text-align: left;\">profit_mean</th><th style = \"text-align: left;\">profit_std</th><th style = \"text-align: left;\">lost_mean</th><th style = \"text-align: left;\">lost_std</th></tr><tr class = \"subheader headerLastRow\"><th class = \"rowNumber\" style = \"font-weight: bold; text-align: right;\"></th><th title = \"Int64\" style = \"text-align: left;\">Int64</th><th title = \"Int64\" style = \"text-align: left;\">Int64</th><th title = \"Int64\" style = \"text-align: left;\">Int64</th><th title = \"Int64\" style = \"text-align: left;\">Int64</th><th title = \"Float64\" style = \"text-align: left;\">Float64</th><th title = \"Float64\" style = \"text-align: left;\">Float64</th><th title = \"Float64\" style = \"text-align: left;\">Float64</th><th title = \"Float64\" style = \"text-align: left;\">Float64</th><th title = \"Float64\" style = \"text-align: left;\">Float64</th></tr></thead><tbody><tr><td class = \"rowNumber\" style = \"font-weight: bold; text-align: right;\">1</td><td style = \"text-align: right;\">250</td><td style = \"text-align: right;\">35</td><td style = \"text-align: right;\">230</td><td style = \"text-align: right;\">1000</td><td style = \"text-align: right;\">0.0</td><td style = \"text-align: right;\">9951.18</td><td style = \"text-align: right;\">287.875</td><td style = \"text-align: right;\">209.203</td><td style = \"text-align: right;\">94.6796</td></tr><tr><td class = \"rowNumber\" style = \"font-weight: bold; text-align: right;\">2</td><td style = \"text-align: right;\">250</td><td style = \"text-align: right;\">35</td><td style = \"text-align: right;\">230</td><td style = \"text-align: right;\">1000</td><td style = \"text-align: right;\">0.01</td><td style = \"text-align: right;\">10150.8</td><td style = \"text-align: right;\">294.569</td><td style = \"text-align: right;\">204.686</td><td style = \"text-align: right;\">94.7049</td></tr><tr><td class = \"rowNumber\" style = \"font-weight: bold; text-align: right;\">3</td><td style = \"text-align: right;\">250</td><td style = \"text-align: right;\">35</td><td style = \"text-align: right;\">230</td><td style = \"text-align: right;\">1000</td><td style = \"text-align: right;\">0.02</td><td style = \"text-align: right;\">10335.1</td><td style = \"text-align: right;\">291.758</td><td style = \"text-align: right;\">212.174</td><td style = \"text-align: right;\">95.8451</td></tr><tr><td class = \"rowNumber\" style = \"font-weight: bold; text-align: right;\">4</td><td style = \"text-align: right;\">250</td><td style = \"text-align: right;\">35</td><td style = \"text-align: right;\">230</td><td style = \"text-align: right;\">1000</td><td style = \"text-align: right;\">0.03</td><td style = \"text-align: right;\">10532.7</td><td style = \"text-align: right;\">312.785</td><td style = \"text-align: right;\">209.304</td><td style = \"text-align: right;\">98.434</td></tr><tr><td class = \"rowNumber\" style = \"font-weight: bold; text-align: right;\">5</td><td style = \"text-align: right;\">250</td><td style = \"text-align: right;\">35</td><td style = \"text-align: right;\">230</td><td style = \"text-align: right;\">1000</td><td style = \"text-align: right;\">0.04</td><td style = \"text-align: right;\">10717.0</td><td style = \"text-align: right;\">300.275</td><td style = \"text-align: right;\">210.436</td><td style = \"text-align: right;\">94.4456</td></tr><tr><td class = \"rowNumber\" style = \"font-weight: bold; text-align: right;\">6</td><td style = \"text-align: right;\">250</td><td style = \"text-align: right;\">35</td><td style = \"text-align: right;\">230</td><td style = \"text-align: right;\">1000</td><td style = \"text-align: right;\">0.05</td><td style = \"text-align: right;\">10911.4</td><td style = \"text-align: right;\">312.332</td><td style = \"text-align: right;\">209.943</td><td style = \"text-align: right;\">95.8899</td></tr><tr><td class = \"rowNumber\" style = \"font-weight: bold; text-align: right;\">7</td><td style = \"text-align: right;\">250</td><td style = \"text-align: right;\">35</td><td style = \"text-align: right;\">230</td><td style = \"text-align: right;\">1000</td><td style = \"text-align: right;\">0.06</td><td style = \"text-align: right;\">11086.4</td><td style = \"text-align: right;\">317.76</td><td style = \"text-align: right;\">211.403</td><td style = \"text-align: right;\">96.7998</td></tr><tr><td class = \"rowNumber\" style = \"font-weight: bold; text-align: right;\">8</td><td style = \"text-align: right;\">250</td><td style = \"text-align: right;\">35</td><td style = \"text-align: right;\">230</td><td style = \"text-align: right;\">1000</td><td style = \"text-align: right;\">0.07</td><td style = \"text-align: right;\">11275.1</td><td style = \"text-align: right;\">323.315</td><td style = \"text-align: right;\">212.381</td><td style = \"text-align: right;\">98.4993</td></tr><tr><td class = \"rowNumber\" style = \"font-weight: bold; text-align: right;\">9</td><td style = \"text-align: right;\">250</td><td style = \"text-align: right;\">35</td><td style = \"text-align: right;\">230</td><td style = \"text-align: right;\">1000</td><td style = \"text-align: right;\">0.08</td><td style = \"text-align: right;\">11492.7</td><td style = \"text-align: right;\">320.628</td><td style = \"text-align: right;\">205.078</td><td style = \"text-align: right;\">99.5512</td></tr><tr><td class = \"rowNumber\" style = \"font-weight: bold; text-align: right;\">10</td><td style = \"text-align: right;\">250</td><td style = \"text-align: right;\">35</td><td style = \"text-align: right;\">230</td><td style = \"text-align: right;\">1000</td><td style = \"text-align: right;\">0.09</td><td style = \"text-align: right;\">11685.4</td><td style = \"text-align: right;\">326.714</td><td style = \"text-align: right;\">208.672</td><td style = \"text-align: right;\">95.9398</td></tr><tr><td class = \"rowNumber\" style = \"font-weight: bold; text-align: right;\">11</td><td style = \"text-align: right;\">250</td><td style = \"text-align: right;\">35</td><td style = \"text-align: right;\">230</td><td style = \"text-align: right;\">1000</td><td style = \"text-align: right;\">0.1</td><td style = \"text-align: right;\">11851.6</td><td style = \"text-align: right;\">341.769</td><td style = \"text-align: right;\">213.137</td><td style = \"text-align: right;\">99.8549</td></tr><tr><td class = \"rowNumber\" style = \"font-weight: bold; text-align: right;\">12</td><td style = \"text-align: right;\">250</td><td style = \"text-align: right;\">35</td><td style = \"text-align: right;\">230</td><td style = \"text-align: right;\">1000</td><td style = \"text-align: right;\">0.11</td><td style = \"text-align: right;\">12052.0</td><td style = \"text-align: right;\">335.747</td><td style = \"text-align: right;\">209.323</td><td style = \"text-align: right;\">95.9502</td></tr><tr><td class = \"rowNumber\" style = \"font-weight: bold; text-align: right;\">13</td><td style = \"text-align: right;\">250</td><td style = \"text-align: right;\">35</td><td style = \"text-align: right;\">230</td><td style = \"text-align: right;\">1000</td><td style = \"text-align: right;\">0.12</td><td style = \"text-align: right;\">12247.3</td><td style = \"text-align: right;\">338.434</td><td style = \"text-align: right;\">211.184</td><td style = \"text-align: right;\">93.083</td></tr><tr><td style = \"text-align: right;\">&vellip;</td><td style = \"text-align: right;\">&vellip;</td><td style = \"text-align: right;\">&vellip;</td><td style = \"text-align: right;\">&vellip;</td><td style = \"text-align: right;\">&vellip;</td><td style = \"text-align: right;\">&vellip;</td><td style = \"text-align: right;\">&vellip;</td><td style = \"text-align: right;\">&vellip;</td><td style = \"text-align: right;\">&vellip;</td><td style = \"text-align: right;\">&vellip;</td></tr><tr><td class = \"rowNumber\" style = \"font-weight: bold; text-align: right;\">90</td><td style = \"text-align: right;\">250</td><td style = \"text-align: right;\">35</td><td style = \"text-align: right;\">230</td><td style = \"text-align: right;\">1000</td><td style = \"text-align: right;\">0.89</td><td style = \"text-align: right;\">26986.2</td><td style = \"text-align: right;\">702.371</td><td style = \"text-align: right;\">208.06</td><td style = \"text-align: right;\">98.825</td></tr><tr><td class = \"rowNumber\" style = \"font-weight: bold; text-align: right;\">91</td><td style = \"text-align: right;\">250</td><td style = \"text-align: right;\">35</td><td style = \"text-align: right;\">230</td><td style = \"text-align: right;\">1000</td><td style = \"text-align: right;\">0.9</td><td style = \"text-align: right;\">27211.0</td><td style = \"text-align: right;\">702.428</td><td style = \"text-align: right;\">211.373</td><td style = \"text-align: right;\">96.9622</td></tr><tr><td class = \"rowNumber\" style = \"font-weight: bold; text-align: right;\">92</td><td style = \"text-align: right;\">250</td><td style = \"text-align: right;\">35</td><td style = \"text-align: right;\">230</td><td style = \"text-align: right;\">1000</td><td style = \"text-align: right;\">0.91</td><td style = \"text-align: right;\">27379.3</td><td style = \"text-align: right;\">689.075</td><td style = \"text-align: right;\">209.007</td><td style = \"text-align: right;\">96.7367</td></tr><tr><td class = \"rowNumber\" style = \"font-weight: bold; text-align: right;\">93</td><td style = \"text-align: right;\">250</td><td style = \"text-align: right;\">35</td><td style = \"text-align: right;\">230</td><td style = \"text-align: right;\">1000</td><td style = \"text-align: right;\">0.92</td><td style = \"text-align: right;\">27577.6</td><td style = \"text-align: right;\">681.346</td><td style = \"text-align: right;\">209.649</td><td style = \"text-align: right;\">92.2496</td></tr><tr><td class = \"rowNumber\" style = \"font-weight: bold; text-align: right;\">94</td><td style = \"text-align: right;\">250</td><td style = \"text-align: right;\">35</td><td style = \"text-align: right;\">230</td><td style = \"text-align: right;\">1000</td><td style = \"text-align: right;\">0.93</td><td style = \"text-align: right;\">27737.1</td><td style = \"text-align: right;\">703.749</td><td style = \"text-align: right;\">214.797</td><td style = \"text-align: right;\">100.219</td></tr><tr><td class = \"rowNumber\" style = \"font-weight: bold; text-align: right;\">95</td><td style = \"text-align: right;\">250</td><td style = \"text-align: right;\">35</td><td style = \"text-align: right;\">230</td><td style = \"text-align: right;\">1000</td><td style = \"text-align: right;\">0.94</td><td style = \"text-align: right;\">27960.0</td><td style = \"text-align: right;\">707.961</td><td style = \"text-align: right;\">206.251</td><td style = \"text-align: right;\">93.588</td></tr><tr><td class = \"rowNumber\" style = \"font-weight: bold; text-align: right;\">96</td><td style = \"text-align: right;\">250</td><td style = \"text-align: right;\">35</td><td style = \"text-align: right;\">230</td><td style = \"text-align: right;\">1000</td><td style = \"text-align: right;\">0.95</td><td style = \"text-align: right;\">28142.2</td><td style = \"text-align: right;\">712.985</td><td style = \"text-align: right;\">210.033</td><td style = \"text-align: right;\">97.3587</td></tr><tr><td class = \"rowNumber\" style = \"font-weight: bold; text-align: right;\">97</td><td style = \"text-align: right;\">250</td><td style = \"text-align: right;\">35</td><td style = \"text-align: right;\">230</td><td style = \"text-align: right;\">1000</td><td style = \"text-align: right;\">0.96</td><td style = \"text-align: right;\">28348.2</td><td style = \"text-align: right;\">703.203</td><td style = \"text-align: right;\">212.303</td><td style = \"text-align: right;\">97.5807</td></tr><tr><td class = \"rowNumber\" style = \"font-weight: bold; text-align: right;\">98</td><td style = \"text-align: right;\">250</td><td style = \"text-align: right;\">35</td><td style = \"text-align: right;\">230</td><td style = \"text-align: right;\">1000</td><td style = \"text-align: right;\">0.97</td><td style = \"text-align: right;\">28522.2</td><td style = \"text-align: right;\">724.032</td><td style = \"text-align: right;\">213.015</td><td style = \"text-align: right;\">98.1346</td></tr><tr><td class = \"rowNumber\" style = \"font-weight: bold; text-align: right;\">99</td><td style = \"text-align: right;\">250</td><td style = \"text-align: right;\">35</td><td style = \"text-align: right;\">230</td><td style = \"text-align: right;\">1000</td><td style = \"text-align: right;\">0.98</td><td style = \"text-align: right;\">28751.3</td><td style = \"text-align: right;\">734.922</td><td style = \"text-align: right;\">211.821</td><td style = \"text-align: right;\">98.4541</td></tr><tr><td class = \"rowNumber\" style = \"font-weight: bold; text-align: right;\">100</td><td style = \"text-align: right;\">250</td><td style = \"text-align: right;\">35</td><td style = \"text-align: right;\">230</td><td style = \"text-align: right;\">1000</td><td style = \"text-align: right;\">0.99</td><td style = \"text-align: right;\">28915.4</td><td style = \"text-align: right;\">727.948</td><td style = \"text-align: right;\">214.842</td><td style = \"text-align: right;\">94.9908</td></tr><tr><td class = \"rowNumber\" style = \"font-weight: bold; text-align: right;\">101</td><td style = \"text-align: right;\">250</td><td style = \"text-align: right;\">35</td><td style = \"text-align: right;\">230</td><td style = \"text-align: right;\">1000</td><td style = \"text-align: right;\">1.0</td><td style = \"text-align: right;\">29121.1</td><td style = \"text-align: right;\">745.179</td><td style = \"text-align: right;\">210.381</td><td style = \"text-align: right;\">96.4999</td></tr></tbody></table></div>"
      ],
      "text/latex": [
       "\\begin{tabular}{r|ccccccccc}\n",
       "\t& m & s & S & N & p & profit\\_mean & profit\\_std & lost\\_mean & lost\\_std\\\\\n",
       "\t\\hline\n",
       "\t& Int64 & Int64 & Int64 & Int64 & Float64 & Float64 & Float64 & Float64 & Float64\\\\\n",
       "\t\\hline\n",
       "\t1 & 250 & 35 & 230 & 1000 & 0.0 & 9951.18 & 287.875 & 209.203 & 94.6796 \\\\\n",
       "\t2 & 250 & 35 & 230 & 1000 & 0.01 & 10150.8 & 294.569 & 204.686 & 94.7049 \\\\\n",
       "\t3 & 250 & 35 & 230 & 1000 & 0.02 & 10335.1 & 291.758 & 212.174 & 95.8451 \\\\\n",
       "\t4 & 250 & 35 & 230 & 1000 & 0.03 & 10532.7 & 312.785 & 209.304 & 98.434 \\\\\n",
       "\t5 & 250 & 35 & 230 & 1000 & 0.04 & 10717.0 & 300.275 & 210.436 & 94.4456 \\\\\n",
       "\t6 & 250 & 35 & 230 & 1000 & 0.05 & 10911.4 & 312.332 & 209.943 & 95.8899 \\\\\n",
       "\t7 & 250 & 35 & 230 & 1000 & 0.06 & 11086.4 & 317.76 & 211.403 & 96.7998 \\\\\n",
       "\t8 & 250 & 35 & 230 & 1000 & 0.07 & 11275.1 & 323.315 & 212.381 & 98.4993 \\\\\n",
       "\t9 & 250 & 35 & 230 & 1000 & 0.08 & 11492.7 & 320.628 & 205.078 & 99.5512 \\\\\n",
       "\t10 & 250 & 35 & 230 & 1000 & 0.09 & 11685.4 & 326.714 & 208.672 & 95.9398 \\\\\n",
       "\t11 & 250 & 35 & 230 & 1000 & 0.1 & 11851.6 & 341.769 & 213.137 & 99.8549 \\\\\n",
       "\t12 & 250 & 35 & 230 & 1000 & 0.11 & 12052.0 & 335.747 & 209.323 & 95.9502 \\\\\n",
       "\t13 & 250 & 35 & 230 & 1000 & 0.12 & 12247.3 & 338.434 & 211.184 & 93.083 \\\\\n",
       "\t14 & 250 & 35 & 230 & 1000 & 0.13 & 12442.4 & 353.821 & 207.645 & 95.0384 \\\\\n",
       "\t15 & 250 & 35 & 230 & 1000 & 0.14 & 12636.5 & 347.197 & 211.245 & 96.7485 \\\\\n",
       "\t16 & 250 & 35 & 230 & 1000 & 0.15 & 12834.3 & 341.086 & 204.311 & 96.0863 \\\\\n",
       "\t17 & 250 & 35 & 230 & 1000 & 0.16 & 13015.8 & 362.67 & 212.598 & 96.6405 \\\\\n",
       "\t18 & 250 & 35 & 230 & 1000 & 0.17 & 13212.4 & 356.742 & 209.28 & 95.1668 \\\\\n",
       "\t19 & 250 & 35 & 230 & 1000 & 0.18 & 13408.7 & 367.718 & 208.769 & 93.3078 \\\\\n",
       "\t20 & 250 & 35 & 230 & 1000 & 0.19 & 13600.7 & 368.812 & 204.466 & 98.9195 \\\\\n",
       "\t21 & 250 & 35 & 230 & 1000 & 0.2 & 13797.1 & 371.822 & 204.002 & 92.9332 \\\\\n",
       "\t22 & 250 & 35 & 230 & 1000 & 0.21 & 13968.7 & 378.868 & 213.745 & 97.715 \\\\\n",
       "\t23 & 250 & 35 & 230 & 1000 & 0.22 & 14168.4 & 379.009 & 207.038 & 98.357 \\\\\n",
       "\t24 & 250 & 35 & 230 & 1000 & 0.23 & 14381.0 & 384.2 & 206.546 & 94.8491 \\\\\n",
       "\t25 & 250 & 35 & 230 & 1000 & 0.24 & 14558.0 & 392.125 & 206.788 & 95.2982 \\\\\n",
       "\t26 & 250 & 35 & 230 & 1000 & 0.25 & 14739.5 & 398.204 & 212.219 & 101.924 \\\\\n",
       "\t27 & 250 & 35 & 230 & 1000 & 0.26 & 14923.8 & 401.08 & 208.471 & 95.6645 \\\\\n",
       "\t28 & 250 & 35 & 230 & 1000 & 0.27 & 15127.7 & 398.684 & 210.839 & 93.4768 \\\\\n",
       "\t29 & 250 & 35 & 230 & 1000 & 0.28 & 15317.7 & 425.84 & 211.479 & 100.723 \\\\\n",
       "\t30 & 250 & 35 & 230 & 1000 & 0.29 & 15516.5 & 419.142 & 206.755 & 98.6141 \\\\\n",
       "\t$\\dots$ & $\\dots$ & $\\dots$ & $\\dots$ & $\\dots$ & $\\dots$ & $\\dots$ & $\\dots$ & $\\dots$ & $\\dots$ \\\\\n",
       "\\end{tabular}\n"
      ],
      "text/plain": [
       "\u001b[1m101×9 DataFrame\u001b[0m\n",
       "\u001b[1m Row \u001b[0m│\u001b[1m m     \u001b[0m\u001b[1m s     \u001b[0m\u001b[1m S     \u001b[0m\u001b[1m N     \u001b[0m\u001b[1m p       \u001b[0m\u001b[1m profit_mean \u001b[0m\u001b[1m profit_std \u001b[0m\u001b[1m lost_mean\u001b[0m ⋯\n",
       "     │\u001b[90m Int64 \u001b[0m\u001b[90m Int64 \u001b[0m\u001b[90m Int64 \u001b[0m\u001b[90m Int64 \u001b[0m\u001b[90m Float64 \u001b[0m\u001b[90m Float64     \u001b[0m\u001b[90m Float64    \u001b[0m\u001b[90m Float64  \u001b[0m ⋯\n",
       "─────┼──────────────────────────────────────────────────────────────────────────\n",
       "   1 │   250     35    230   1000     0.0       9951.18     287.875    209.203 ⋯\n",
       "   2 │   250     35    230   1000     0.01     10150.8      294.569    204.686\n",
       "   3 │   250     35    230   1000     0.02     10335.1      291.758    212.174\n",
       "   4 │   250     35    230   1000     0.03     10532.7      312.785    209.304\n",
       "   5 │   250     35    230   1000     0.04     10717.0      300.275    210.436 ⋯\n",
       "   6 │   250     35    230   1000     0.05     10911.4      312.332    209.943\n",
       "   7 │   250     35    230   1000     0.06     11086.4      317.76     211.403\n",
       "   8 │   250     35    230   1000     0.07     11275.1      323.315    212.381\n",
       "   9 │   250     35    230   1000     0.08     11492.7      320.628    205.078 ⋯\n",
       "  10 │   250     35    230   1000     0.09     11685.4      326.714    208.672\n",
       "  11 │   250     35    230   1000     0.1      11851.6      341.769    213.137\n",
       "  ⋮  │   ⋮      ⋮      ⋮      ⋮       ⋮          ⋮           ⋮           ⋮     ⋱\n",
       "  92 │   250     35    230   1000     0.91     27379.3      689.075    209.007\n",
       "  93 │   250     35    230   1000     0.92     27577.6      681.346    209.649 ⋯\n",
       "  94 │   250     35    230   1000     0.93     27737.1      703.749    214.797\n",
       "  95 │   250     35    230   1000     0.94     27960.0      707.961    206.251\n",
       "  96 │   250     35    230   1000     0.95     28142.2      712.985    210.033\n",
       "  97 │   250     35    230   1000     0.96     28348.2      703.203    212.303 ⋯\n",
       "  98 │   250     35    230   1000     0.97     28522.2      724.032    213.015\n",
       "  99 │   250     35    230   1000     0.98     28751.3      734.922    211.821\n",
       " 100 │   250     35    230   1000     0.99     28915.4      727.948    214.842\n",
       " 101 │   250     35    230   1000     1.0      29121.1      745.179    210.381 ⋯\n",
       "\u001b[36m                                                    1 column and 80 rows omitted\u001b[0m"
      ]
     },
     "execution_count": 25,
     "metadata": {},
     "output_type": "execute_result"
    }
   ],
   "source": [
    "# wybralem 35,230 to byly najlepsze parametry (najwiekszy profit)\n",
    "using Random\n",
    "Random.seed!(0)\n",
    "df = DataFrame(run_sims(pr,250,35,230,1000)\n",
    "    for pr in 0.00:0.01:1.0)"
   ]
  },
  {
   "cell_type": "code",
   "execution_count": 26,
   "metadata": {},
   "outputs": [
    {
     "data": {
      "image/svg+xml": [
       "<?xml version=\"1.0\" encoding=\"utf-8\"?>\n",
       "<svg xmlns=\"http://www.w3.org/2000/svg\" xmlns:xlink=\"http://www.w3.org/1999/xlink\" width=\"600\" height=\"400\" viewBox=\"0 0 2400 1600\">\n",
       "<defs>\n",
       "  <clipPath id=\"clip750\">\n",
       "    <rect x=\"0\" y=\"0\" width=\"2400\" height=\"1600\"/>\n",
       "  </clipPath>\n",
       "</defs>\n",
       "<path clip-path=\"url(#clip750)\" d=\"M0 1600 L2400 1600 L2400 0 L0 0  Z\" fill=\"#ffffff\" fill-rule=\"evenodd\" fill-opacity=\"1\"/>\n",
       "<defs>\n",
       "  <clipPath id=\"clip751\">\n",
       "    <rect x=\"480\" y=\"0\" width=\"1681\" height=\"1600\"/>\n",
       "  </clipPath>\n",
       "</defs>\n",
       "<path clip-path=\"url(#clip750)\" d=\"M369.703 1423.18 L2352.76 1423.18 L2352.76 123.472 L369.703 123.472  Z\" fill=\"#ffffff\" fill-rule=\"evenodd\" fill-opacity=\"1\"/>\n",
       "<defs>\n",
       "  <clipPath id=\"clip752\">\n",
       "    <rect x=\"369\" y=\"123\" width=\"1984\" height=\"1301\"/>\n",
       "  </clipPath>\n",
       "</defs>\n",
       "<polyline clip-path=\"url(#clip752)\" style=\"stroke:#000000; stroke-linecap:round; stroke-linejoin:round; stroke-width:2; stroke-opacity:0.1; fill:none\" points=\"425.828,1423.18 425.828,123.472 \"/>\n",
       "<polyline clip-path=\"url(#clip752)\" style=\"stroke:#000000; stroke-linecap:round; stroke-linejoin:round; stroke-width:2; stroke-opacity:0.1; fill:none\" points=\"893.529,1423.18 893.529,123.472 \"/>\n",
       "<polyline clip-path=\"url(#clip752)\" style=\"stroke:#000000; stroke-linecap:round; stroke-linejoin:round; stroke-width:2; stroke-opacity:0.1; fill:none\" points=\"1361.23,1423.18 1361.23,123.472 \"/>\n",
       "<polyline clip-path=\"url(#clip752)\" style=\"stroke:#000000; stroke-linecap:round; stroke-linejoin:round; stroke-width:2; stroke-opacity:0.1; fill:none\" points=\"1828.93,1423.18 1828.93,123.472 \"/>\n",
       "<polyline clip-path=\"url(#clip752)\" style=\"stroke:#000000; stroke-linecap:round; stroke-linejoin:round; stroke-width:2; stroke-opacity:0.1; fill:none\" points=\"2296.63,1423.18 2296.63,123.472 \"/>\n",
       "<polyline clip-path=\"url(#clip750)\" style=\"stroke:#000000; stroke-linecap:round; stroke-linejoin:round; stroke-width:4; stroke-opacity:1; fill:none\" points=\"369.703,1423.18 2352.76,1423.18 \"/>\n",
       "<polyline clip-path=\"url(#clip750)\" style=\"stroke:#000000; stroke-linecap:round; stroke-linejoin:round; stroke-width:4; stroke-opacity:1; fill:none\" points=\"425.828,1423.18 425.828,1404.28 \"/>\n",
       "<polyline clip-path=\"url(#clip750)\" style=\"stroke:#000000; stroke-linecap:round; stroke-linejoin:round; stroke-width:4; stroke-opacity:1; fill:none\" points=\"893.529,1423.18 893.529,1404.28 \"/>\n",
       "<polyline clip-path=\"url(#clip750)\" style=\"stroke:#000000; stroke-linecap:round; stroke-linejoin:round; stroke-width:4; stroke-opacity:1; fill:none\" points=\"1361.23,1423.18 1361.23,1404.28 \"/>\n",
       "<polyline clip-path=\"url(#clip750)\" style=\"stroke:#000000; stroke-linecap:round; stroke-linejoin:round; stroke-width:4; stroke-opacity:1; fill:none\" points=\"1828.93,1423.18 1828.93,1404.28 \"/>\n",
       "<polyline clip-path=\"url(#clip750)\" style=\"stroke:#000000; stroke-linecap:round; stroke-linejoin:round; stroke-width:4; stroke-opacity:1; fill:none\" points=\"2296.63,1423.18 2296.63,1404.28 \"/>\n",
       "<path clip-path=\"url(#clip750)\" d=\"M388.131 1454.1 Q384.52 1454.1 382.691 1457.66 Q380.886 1461.2 380.886 1468.33 Q380.886 1475.44 382.691 1479.01 Q384.52 1482.55 388.131 1482.55 Q391.765 1482.55 393.571 1479.01 Q395.399 1475.44 395.399 1468.33 Q395.399 1461.2 393.571 1457.66 Q391.765 1454.1 388.131 1454.1 M388.131 1450.39 Q393.941 1450.39 396.997 1455 Q400.075 1459.58 400.075 1468.33 Q400.075 1477.06 396.997 1481.67 Q393.941 1486.25 388.131 1486.25 Q382.321 1486.25 379.242 1481.67 Q376.187 1477.06 376.187 1468.33 Q376.187 1459.58 379.242 1455 Q382.321 1450.39 388.131 1450.39 Z\" fill=\"#000000\" fill-rule=\"nonzero\" fill-opacity=\"1\" /><path clip-path=\"url(#clip750)\" d=\"M408.293 1479.7 L413.177 1479.7 L413.177 1485.58 L408.293 1485.58 L408.293 1479.7 Z\" fill=\"#000000\" fill-rule=\"nonzero\" fill-opacity=\"1\" /><path clip-path=\"url(#clip750)\" d=\"M433.362 1454.1 Q429.751 1454.1 427.922 1457.66 Q426.117 1461.2 426.117 1468.33 Q426.117 1475.44 427.922 1479.01 Q429.751 1482.55 433.362 1482.55 Q436.996 1482.55 438.802 1479.01 Q440.631 1475.44 440.631 1468.33 Q440.631 1461.2 438.802 1457.66 Q436.996 1454.1 433.362 1454.1 M433.362 1450.39 Q439.172 1450.39 442.228 1455 Q445.307 1459.58 445.307 1468.33 Q445.307 1477.06 442.228 1481.67 Q439.172 1486.25 433.362 1486.25 Q427.552 1486.25 424.473 1481.67 Q421.418 1477.06 421.418 1468.33 Q421.418 1459.58 424.473 1455 Q427.552 1450.39 433.362 1450.39 Z\" fill=\"#000000\" fill-rule=\"nonzero\" fill-opacity=\"1\" /><path clip-path=\"url(#clip750)\" d=\"M463.524 1454.1 Q459.913 1454.1 458.084 1457.66 Q456.279 1461.2 456.279 1468.33 Q456.279 1475.44 458.084 1479.01 Q459.913 1482.55 463.524 1482.55 Q467.158 1482.55 468.964 1479.01 Q470.793 1475.44 470.793 1468.33 Q470.793 1461.2 468.964 1457.66 Q467.158 1454.1 463.524 1454.1 M463.524 1450.39 Q469.334 1450.39 472.39 1455 Q475.468 1459.58 475.468 1468.33 Q475.468 1477.06 472.39 1481.67 Q469.334 1486.25 463.524 1486.25 Q457.714 1486.25 454.635 1481.67 Q451.58 1477.06 451.58 1468.33 Q451.58 1459.58 454.635 1455 Q457.714 1450.39 463.524 1450.39 Z\" fill=\"#000000\" fill-rule=\"nonzero\" fill-opacity=\"1\" /><path clip-path=\"url(#clip750)\" d=\"M856.33 1454.1 Q852.719 1454.1 850.89 1457.66 Q849.084 1461.2 849.084 1468.33 Q849.084 1475.44 850.89 1479.01 Q852.719 1482.55 856.33 1482.55 Q859.964 1482.55 861.77 1479.01 Q863.598 1475.44 863.598 1468.33 Q863.598 1461.2 861.77 1457.66 Q859.964 1454.1 856.33 1454.1 M856.33 1450.39 Q862.14 1450.39 865.195 1455 Q868.274 1459.58 868.274 1468.33 Q868.274 1477.06 865.195 1481.67 Q862.14 1486.25 856.33 1486.25 Q850.52 1486.25 847.441 1481.67 Q844.385 1477.06 844.385 1468.33 Q844.385 1459.58 847.441 1455 Q850.52 1450.39 856.33 1450.39 Z\" fill=\"#000000\" fill-rule=\"nonzero\" fill-opacity=\"1\" /><path clip-path=\"url(#clip750)\" d=\"M876.492 1479.7 L881.376 1479.7 L881.376 1485.58 L876.492 1485.58 L876.492 1479.7 Z\" fill=\"#000000\" fill-rule=\"nonzero\" fill-opacity=\"1\" /><path clip-path=\"url(#clip750)\" d=\"M895.589 1481.64 L911.908 1481.64 L911.908 1485.58 L889.964 1485.58 L889.964 1481.64 Q892.626 1478.89 897.209 1474.26 Q901.816 1469.61 902.996 1468.27 Q905.242 1465.74 906.121 1464.01 Q907.024 1462.25 907.024 1460.56 Q907.024 1457.8 905.079 1456.07 Q903.158 1454.33 900.056 1454.33 Q897.857 1454.33 895.404 1455.09 Q892.973 1455.86 890.195 1457.41 L890.195 1452.69 Q893.019 1451.55 895.473 1450.97 Q897.927 1450.39 899.964 1450.39 Q905.334 1450.39 908.529 1453.08 Q911.723 1455.77 911.723 1460.26 Q911.723 1462.39 910.913 1464.31 Q910.126 1466.2 908.019 1468.8 Q907.441 1469.47 904.339 1472.69 Q901.237 1475.88 895.589 1481.64 Z\" fill=\"#000000\" fill-rule=\"nonzero\" fill-opacity=\"1\" /><path clip-path=\"url(#clip750)\" d=\"M921.769 1451.02 L940.126 1451.02 L940.126 1454.96 L926.052 1454.96 L926.052 1463.43 Q927.07 1463.08 928.089 1462.92 Q929.107 1462.73 930.126 1462.73 Q935.913 1462.73 939.292 1465.9 Q942.672 1469.08 942.672 1474.49 Q942.672 1480.07 939.2 1483.17 Q935.727 1486.25 929.408 1486.25 Q927.232 1486.25 924.964 1485.88 Q922.718 1485.51 920.311 1484.77 L920.311 1480.07 Q922.394 1481.2 924.616 1481.76 Q926.839 1482.32 929.315 1482.32 Q933.32 1482.32 935.658 1480.21 Q937.996 1478.1 937.996 1474.49 Q937.996 1470.88 935.658 1468.77 Q933.32 1466.67 929.315 1466.67 Q927.44 1466.67 925.565 1467.08 Q923.714 1467.5 921.769 1468.38 L921.769 1451.02 Z\" fill=\"#000000\" fill-rule=\"nonzero\" fill-opacity=\"1\" /><path clip-path=\"url(#clip750)\" d=\"M1323.53 1454.1 Q1319.92 1454.1 1318.09 1457.66 Q1316.29 1461.2 1316.29 1468.33 Q1316.29 1475.44 1318.09 1479.01 Q1319.92 1482.55 1323.53 1482.55 Q1327.17 1482.55 1328.97 1479.01 Q1330.8 1475.44 1330.8 1468.33 Q1330.8 1461.2 1328.97 1457.66 Q1327.17 1454.1 1323.53 1454.1 M1323.53 1450.39 Q1329.34 1450.39 1332.4 1455 Q1335.48 1459.58 1335.48 1468.33 Q1335.48 1477.06 1332.4 1481.67 Q1329.34 1486.25 1323.53 1486.25 Q1317.72 1486.25 1314.64 1481.67 Q1311.59 1477.06 1311.59 1468.33 Q1311.59 1459.58 1314.64 1455 Q1317.72 1450.39 1323.53 1450.39 Z\" fill=\"#000000\" fill-rule=\"nonzero\" fill-opacity=\"1\" /><path clip-path=\"url(#clip750)\" d=\"M1343.7 1479.7 L1348.58 1479.7 L1348.58 1485.58 L1343.7 1485.58 L1343.7 1479.7 Z\" fill=\"#000000\" fill-rule=\"nonzero\" fill-opacity=\"1\" /><path clip-path=\"url(#clip750)\" d=\"M1358.81 1451.02 L1377.17 1451.02 L1377.17 1454.96 L1363.09 1454.96 L1363.09 1463.43 Q1364.11 1463.08 1365.13 1462.92 Q1366.15 1462.73 1367.17 1462.73 Q1372.95 1462.73 1376.33 1465.9 Q1379.71 1469.08 1379.71 1474.49 Q1379.71 1480.07 1376.24 1483.17 Q1372.77 1486.25 1366.45 1486.25 Q1364.27 1486.25 1362.01 1485.88 Q1359.76 1485.51 1357.35 1484.77 L1357.35 1480.07 Q1359.44 1481.2 1361.66 1481.76 Q1363.88 1482.32 1366.36 1482.32 Q1370.36 1482.32 1372.7 1480.21 Q1375.04 1478.1 1375.04 1474.49 Q1375.04 1470.88 1372.7 1468.77 Q1370.36 1466.67 1366.36 1466.67 Q1364.48 1466.67 1362.61 1467.08 Q1360.76 1467.5 1358.81 1468.38 L1358.81 1451.02 Z\" fill=\"#000000\" fill-rule=\"nonzero\" fill-opacity=\"1\" /><path clip-path=\"url(#clip750)\" d=\"M1398.93 1454.1 Q1395.32 1454.1 1393.49 1457.66 Q1391.68 1461.2 1391.68 1468.33 Q1391.68 1475.44 1393.49 1479.01 Q1395.32 1482.55 1398.93 1482.55 Q1402.56 1482.55 1404.37 1479.01 Q1406.19 1475.44 1406.19 1468.33 Q1406.19 1461.2 1404.37 1457.66 Q1402.56 1454.1 1398.93 1454.1 M1398.93 1450.39 Q1404.74 1450.39 1407.79 1455 Q1410.87 1459.58 1410.87 1468.33 Q1410.87 1477.06 1407.79 1481.67 Q1404.74 1486.25 1398.93 1486.25 Q1393.12 1486.25 1390.04 1481.67 Q1386.98 1477.06 1386.98 1468.33 Q1386.98 1459.58 1390.04 1455 Q1393.12 1450.39 1398.93 1450.39 Z\" fill=\"#000000\" fill-rule=\"nonzero\" fill-opacity=\"1\" /><path clip-path=\"url(#clip750)\" d=\"M1791.73 1454.1 Q1788.12 1454.1 1786.29 1457.66 Q1784.49 1461.2 1784.49 1468.33 Q1784.49 1475.44 1786.29 1479.01 Q1788.12 1482.55 1791.73 1482.55 Q1795.37 1482.55 1797.17 1479.01 Q1799 1475.44 1799 1468.33 Q1799 1461.2 1797.17 1457.66 Q1795.37 1454.1 1791.73 1454.1 M1791.73 1450.39 Q1797.54 1450.39 1800.6 1455 Q1803.68 1459.58 1803.68 1468.33 Q1803.68 1477.06 1800.6 1481.67 Q1797.54 1486.25 1791.73 1486.25 Q1785.92 1486.25 1782.84 1481.67 Q1779.79 1477.06 1779.79 1468.33 Q1779.79 1459.58 1782.84 1455 Q1785.92 1450.39 1791.73 1450.39 Z\" fill=\"#000000\" fill-rule=\"nonzero\" fill-opacity=\"1\" /><path clip-path=\"url(#clip750)\" d=\"M1811.89 1479.7 L1816.78 1479.7 L1816.78 1485.58 L1811.89 1485.58 L1811.89 1479.7 Z\" fill=\"#000000\" fill-rule=\"nonzero\" fill-opacity=\"1\" /><path clip-path=\"url(#clip750)\" d=\"M1825.78 1451.02 L1848 1451.02 L1848 1453.01 L1835.46 1485.58 L1830.57 1485.58 L1842.38 1454.96 L1825.78 1454.96 L1825.78 1451.02 Z\" fill=\"#000000\" fill-rule=\"nonzero\" fill-opacity=\"1\" /><path clip-path=\"url(#clip750)\" d=\"M1857.17 1451.02 L1875.53 1451.02 L1875.53 1454.96 L1861.45 1454.96 L1861.45 1463.43 Q1862.47 1463.08 1863.49 1462.92 Q1864.51 1462.73 1865.53 1462.73 Q1871.31 1462.73 1874.69 1465.9 Q1878.07 1469.08 1878.07 1474.49 Q1878.07 1480.07 1874.6 1483.17 Q1871.13 1486.25 1864.81 1486.25 Q1862.63 1486.25 1860.37 1485.88 Q1858.12 1485.51 1855.71 1484.77 L1855.71 1480.07 Q1857.8 1481.2 1860.02 1481.76 Q1862.24 1482.32 1864.72 1482.32 Q1868.72 1482.32 1871.06 1480.21 Q1873.4 1478.1 1873.4 1474.49 Q1873.4 1470.88 1871.06 1468.77 Q1868.72 1466.67 1864.72 1466.67 Q1862.84 1466.67 1860.97 1467.08 Q1859.12 1467.5 1857.17 1468.38 L1857.17 1451.02 Z\" fill=\"#000000\" fill-rule=\"nonzero\" fill-opacity=\"1\" /><path clip-path=\"url(#clip750)\" d=\"M2248.7 1481.64 L2256.34 1481.64 L2256.34 1455.28 L2248.03 1456.95 L2248.03 1452.69 L2256.3 1451.02 L2260.97 1451.02 L2260.97 1481.64 L2268.61 1481.64 L2268.61 1485.58 L2248.7 1485.58 L2248.7 1481.64 Z\" fill=\"#000000\" fill-rule=\"nonzero\" fill-opacity=\"1\" /><path clip-path=\"url(#clip750)\" d=\"M2278.06 1479.7 L2282.94 1479.7 L2282.94 1485.58 L2278.06 1485.58 L2278.06 1479.7 Z\" fill=\"#000000\" fill-rule=\"nonzero\" fill-opacity=\"1\" /><path clip-path=\"url(#clip750)\" d=\"M2303.12 1454.1 Q2299.51 1454.1 2297.69 1457.66 Q2295.88 1461.2 2295.88 1468.33 Q2295.88 1475.44 2297.69 1479.01 Q2299.51 1482.55 2303.12 1482.55 Q2306.76 1482.55 2308.56 1479.01 Q2310.39 1475.44 2310.39 1468.33 Q2310.39 1461.2 2308.56 1457.66 Q2306.76 1454.1 2303.12 1454.1 M2303.12 1450.39 Q2308.93 1450.39 2311.99 1455 Q2315.07 1459.58 2315.07 1468.33 Q2315.07 1477.06 2311.99 1481.67 Q2308.93 1486.25 2303.12 1486.25 Q2297.31 1486.25 2294.24 1481.67 Q2291.18 1477.06 2291.18 1468.33 Q2291.18 1459.58 2294.24 1455 Q2297.31 1450.39 2303.12 1450.39 Z\" fill=\"#000000\" fill-rule=\"nonzero\" fill-opacity=\"1\" /><path clip-path=\"url(#clip750)\" d=\"M2333.29 1454.1 Q2329.68 1454.1 2327.85 1457.66 Q2326.04 1461.2 2326.04 1468.33 Q2326.04 1475.44 2327.85 1479.01 Q2329.68 1482.55 2333.29 1482.55 Q2336.92 1482.55 2338.73 1479.01 Q2340.56 1475.44 2340.56 1468.33 Q2340.56 1461.2 2338.73 1457.66 Q2336.92 1454.1 2333.29 1454.1 M2333.29 1450.39 Q2339.1 1450.39 2342.15 1455 Q2345.23 1459.58 2345.23 1468.33 Q2345.23 1477.06 2342.15 1481.67 Q2339.1 1486.25 2333.29 1486.25 Q2327.48 1486.25 2324.4 1481.67 Q2321.34 1477.06 2321.34 1468.33 Q2321.34 1459.58 2324.4 1455 Q2327.48 1450.39 2333.29 1450.39 Z\" fill=\"#000000\" fill-rule=\"nonzero\" fill-opacity=\"1\" /><path clip-path=\"url(#clip750)\" d=\"M1351.17 1562.7 L1351.17 1581.6 L1345.28 1581.6 L1345.28 1532.4 L1351.17 1532.4 L1351.17 1537.81 Q1353.02 1534.62 1355.82 1533.1 Q1358.65 1531.54 1362.57 1531.54 Q1369.06 1531.54 1373.1 1536.69 Q1377.18 1541.85 1377.18 1550.25 Q1377.18 1558.65 1373.1 1563.81 Q1369.06 1568.97 1362.57 1568.97 Q1358.65 1568.97 1355.82 1567.44 Q1353.02 1565.88 1351.17 1562.7 M1371.1 1550.25 Q1371.1 1543.79 1368.42 1540.13 Q1365.78 1536.44 1361.13 1536.44 Q1356.49 1536.44 1353.81 1540.13 Q1351.17 1543.79 1351.17 1550.25 Q1351.17 1556.71 1353.81 1560.4 Q1356.49 1564.07 1361.13 1564.07 Q1365.78 1564.07 1368.42 1560.4 Q1371.1 1556.71 1371.1 1550.25 Z\" fill=\"#000000\" fill-rule=\"nonzero\" fill-opacity=\"1\" /><polyline clip-path=\"url(#clip752)\" style=\"stroke:#000000; stroke-linecap:round; stroke-linejoin:round; stroke-width:2; stroke-opacity:0.1; fill:none\" points=\"369.703,1383.27 2352.76,1383.27 \"/>\n",
       "<polyline clip-path=\"url(#clip752)\" style=\"stroke:#000000; stroke-linecap:round; stroke-linejoin:round; stroke-width:2; stroke-opacity:0.1; fill:none\" points=\"369.703,1063.46 2352.76,1063.46 \"/>\n",
       "<polyline clip-path=\"url(#clip752)\" style=\"stroke:#000000; stroke-linecap:round; stroke-linejoin:round; stroke-width:2; stroke-opacity:0.1; fill:none\" points=\"369.703,743.656 2352.76,743.656 \"/>\n",
       "<polyline clip-path=\"url(#clip752)\" style=\"stroke:#000000; stroke-linecap:round; stroke-linejoin:round; stroke-width:2; stroke-opacity:0.1; fill:none\" points=\"369.703,423.848 2352.76,423.848 \"/>\n",
       "<polyline clip-path=\"url(#clip750)\" style=\"stroke:#000000; stroke-linecap:round; stroke-linejoin:round; stroke-width:4; stroke-opacity:1; fill:none\" points=\"369.703,1423.18 369.703,123.472 \"/>\n",
       "<polyline clip-path=\"url(#clip750)\" style=\"stroke:#000000; stroke-linecap:round; stroke-linejoin:round; stroke-width:4; stroke-opacity:1; fill:none\" points=\"369.703,1383.27 388.601,1383.27 \"/>\n",
       "<polyline clip-path=\"url(#clip750)\" style=\"stroke:#000000; stroke-linecap:round; stroke-linejoin:round; stroke-width:4; stroke-opacity:1; fill:none\" points=\"369.703,1063.46 388.601,1063.46 \"/>\n",
       "<polyline clip-path=\"url(#clip750)\" style=\"stroke:#000000; stroke-linecap:round; stroke-linejoin:round; stroke-width:4; stroke-opacity:1; fill:none\" points=\"369.703,743.656 388.601,743.656 \"/>\n",
       "<polyline clip-path=\"url(#clip750)\" style=\"stroke:#000000; stroke-linecap:round; stroke-linejoin:round; stroke-width:4; stroke-opacity:1; fill:none\" points=\"369.703,423.848 388.601,423.848 \"/>\n",
       "<path clip-path=\"url(#clip750)\" d=\"M116.668 1403.07 L124.306 1403.07 L124.306 1376.7 L115.996 1378.37 L115.996 1374.11 L124.26 1372.44 L128.936 1372.44 L128.936 1403.07 L136.575 1403.07 L136.575 1407 L116.668 1407 L116.668 1403.07 Z\" fill=\"#000000\" fill-rule=\"nonzero\" fill-opacity=\"1\" /><path clip-path=\"url(#clip750)\" d=\"M146.019 1401.12 L150.903 1401.12 L150.903 1407 L146.019 1407 L146.019 1401.12 Z\" fill=\"#000000\" fill-rule=\"nonzero\" fill-opacity=\"1\" /><path clip-path=\"url(#clip750)\" d=\"M171.089 1375.52 Q167.477 1375.52 165.649 1379.08 Q163.843 1382.63 163.843 1389.76 Q163.843 1396.86 165.649 1400.43 Q167.477 1403.97 171.089 1403.97 Q174.723 1403.97 176.528 1400.43 Q178.357 1396.86 178.357 1389.76 Q178.357 1382.63 176.528 1379.08 Q174.723 1375.52 171.089 1375.52 M171.089 1371.82 Q176.899 1371.82 179.954 1376.42 Q183.033 1381.01 183.033 1389.76 Q183.033 1398.48 179.954 1403.09 Q176.899 1407.67 171.089 1407.67 Q165.278 1407.67 162.2 1403.09 Q159.144 1398.48 159.144 1389.76 Q159.144 1381.01 162.2 1376.42 Q165.278 1371.82 171.089 1371.82 Z\" fill=\"#000000\" fill-rule=\"nonzero\" fill-opacity=\"1\" /><path clip-path=\"url(#clip750)\" d=\"M201.25 1375.52 Q197.639 1375.52 195.811 1379.08 Q194.005 1382.63 194.005 1389.76 Q194.005 1396.86 195.811 1400.43 Q197.639 1403.97 201.25 1403.97 Q204.885 1403.97 206.69 1400.43 Q208.519 1396.86 208.519 1389.76 Q208.519 1382.63 206.69 1379.08 Q204.885 1375.52 201.25 1375.52 M201.25 1371.82 Q207.061 1371.82 210.116 1376.42 Q213.195 1381.01 213.195 1389.76 Q213.195 1398.48 210.116 1403.09 Q207.061 1407.67 201.25 1407.67 Q195.44 1407.67 192.362 1403.09 Q189.306 1398.48 189.306 1389.76 Q189.306 1381.01 192.362 1376.42 Q195.44 1371.82 201.25 1371.82 Z\" fill=\"#000000\" fill-rule=\"nonzero\" fill-opacity=\"1\" /><path clip-path=\"url(#clip750)\" d=\"M249.584 1381.54 L239.005 1392.16 L249.584 1402.74 L246.829 1405.54 L236.204 1394.92 L225.579 1405.54 L222.848 1402.74 L233.403 1392.16 L222.848 1381.54 L225.579 1378.74 L236.204 1389.36 L246.829 1378.74 L249.584 1381.54 Z\" fill=\"#000000\" fill-rule=\"nonzero\" fill-opacity=\"1\" /><path clip-path=\"url(#clip750)\" d=\"M261.945 1403.07 L269.583 1403.07 L269.583 1376.7 L261.273 1378.37 L261.273 1374.11 L269.537 1372.44 L274.213 1372.44 L274.213 1403.07 L281.852 1403.07 L281.852 1407 L261.945 1407 L261.945 1403.07 Z\" fill=\"#000000\" fill-rule=\"nonzero\" fill-opacity=\"1\" /><path clip-path=\"url(#clip750)\" d=\"M301.296 1375.52 Q297.685 1375.52 295.856 1379.08 Q294.051 1382.63 294.051 1389.76 Q294.051 1396.86 295.856 1400.43 Q297.685 1403.97 301.296 1403.97 Q304.93 1403.97 306.736 1400.43 Q308.565 1396.86 308.565 1389.76 Q308.565 1382.63 306.736 1379.08 Q304.93 1375.52 301.296 1375.52 M301.296 1371.82 Q307.106 1371.82 310.162 1376.42 Q313.241 1381.01 313.241 1389.76 Q313.241 1398.48 310.162 1403.09 Q307.106 1407.67 301.296 1407.67 Q295.486 1407.67 292.407 1403.09 Q289.352 1398.48 289.352 1389.76 Q289.352 1381.01 292.407 1376.42 Q295.486 1371.82 301.296 1371.82 Z\" fill=\"#000000\" fill-rule=\"nonzero\" fill-opacity=\"1\" /><path clip-path=\"url(#clip750)\" d=\"M325.917 1354.82 L316.325 1369.81 L325.917 1369.81 L325.917 1354.82 M324.92 1351.51 L329.697 1351.51 L329.697 1369.81 L333.703 1369.81 L333.703 1372.97 L329.697 1372.97 L329.697 1379.59 L325.917 1379.59 L325.917 1372.97 L313.241 1372.97 L313.241 1369.3 L324.92 1351.51 Z\" fill=\"#000000\" fill-rule=\"nonzero\" fill-opacity=\"1\" /><path clip-path=\"url(#clip750)\" d=\"M116.668 1083.26 L124.306 1083.26 L124.306 1056.89 L115.996 1058.56 L115.996 1054.3 L124.26 1052.63 L128.936 1052.63 L128.936 1083.26 L136.575 1083.26 L136.575 1087.19 L116.668 1087.19 L116.668 1083.26 Z\" fill=\"#000000\" fill-rule=\"nonzero\" fill-opacity=\"1\" /><path clip-path=\"url(#clip750)\" d=\"M146.019 1081.31 L150.903 1081.31 L150.903 1087.19 L146.019 1087.19 L146.019 1081.31 Z\" fill=\"#000000\" fill-rule=\"nonzero\" fill-opacity=\"1\" /><path clip-path=\"url(#clip750)\" d=\"M161.135 1052.63 L179.491 1052.63 L179.491 1056.57 L165.417 1056.57 L165.417 1065.04 Q166.436 1064.69 167.454 1064.53 Q168.473 1064.35 169.491 1064.35 Q175.278 1064.35 178.658 1067.52 Q182.038 1070.69 182.038 1076.1 Q182.038 1081.68 178.565 1084.79 Q175.093 1087.86 168.774 1087.86 Q166.598 1087.86 164.329 1087.49 Q162.084 1087.12 159.677 1086.38 L159.677 1081.68 Q161.76 1082.82 163.982 1083.37 Q166.204 1083.93 168.681 1083.93 Q172.686 1083.93 175.024 1081.82 Q177.362 1079.72 177.362 1076.1 Q177.362 1072.49 175.024 1070.39 Q172.686 1068.28 168.681 1068.28 Q166.806 1068.28 164.931 1068.7 Q163.079 1069.11 161.135 1069.99 L161.135 1052.63 Z\" fill=\"#000000\" fill-rule=\"nonzero\" fill-opacity=\"1\" /><path clip-path=\"url(#clip750)\" d=\"M201.25 1055.71 Q197.639 1055.71 195.811 1059.28 Q194.005 1062.82 194.005 1069.95 Q194.005 1077.05 195.811 1080.62 Q197.639 1084.16 201.25 1084.16 Q204.885 1084.16 206.69 1080.62 Q208.519 1077.05 208.519 1069.95 Q208.519 1062.82 206.69 1059.28 Q204.885 1055.71 201.25 1055.71 M201.25 1052.01 Q207.061 1052.01 210.116 1056.61 Q213.195 1061.2 213.195 1069.95 Q213.195 1078.67 210.116 1083.28 Q207.061 1087.86 201.25 1087.86 Q195.44 1087.86 192.362 1083.28 Q189.306 1078.67 189.306 1069.95 Q189.306 1061.2 192.362 1056.61 Q195.44 1052.01 201.25 1052.01 Z\" fill=\"#000000\" fill-rule=\"nonzero\" fill-opacity=\"1\" /><path clip-path=\"url(#clip750)\" d=\"M249.584 1061.73 L239.005 1072.35 L249.584 1082.93 L246.829 1085.73 L236.204 1075.11 L225.579 1085.73 L222.848 1082.93 L233.403 1072.35 L222.848 1061.73 L225.579 1058.93 L236.204 1069.55 L246.829 1058.93 L249.584 1061.73 Z\" fill=\"#000000\" fill-rule=\"nonzero\" fill-opacity=\"1\" /><path clip-path=\"url(#clip750)\" d=\"M261.945 1083.26 L269.583 1083.26 L269.583 1056.89 L261.273 1058.56 L261.273 1054.3 L269.537 1052.63 L274.213 1052.63 L274.213 1083.26 L281.852 1083.26 L281.852 1087.19 L261.945 1087.19 L261.945 1083.26 Z\" fill=\"#000000\" fill-rule=\"nonzero\" fill-opacity=\"1\" /><path clip-path=\"url(#clip750)\" d=\"M301.296 1055.71 Q297.685 1055.71 295.856 1059.28 Q294.051 1062.82 294.051 1069.95 Q294.051 1077.05 295.856 1080.62 Q297.685 1084.16 301.296 1084.16 Q304.93 1084.16 306.736 1080.62 Q308.565 1077.05 308.565 1069.95 Q308.565 1062.82 306.736 1059.28 Q304.93 1055.71 301.296 1055.71 M301.296 1052.01 Q307.106 1052.01 310.162 1056.61 Q313.241 1061.2 313.241 1069.95 Q313.241 1078.67 310.162 1083.28 Q307.106 1087.86 301.296 1087.86 Q295.486 1087.86 292.407 1083.28 Q289.352 1078.67 289.352 1069.95 Q289.352 1061.2 292.407 1056.61 Q295.486 1052.01 301.296 1052.01 Z\" fill=\"#000000\" fill-rule=\"nonzero\" fill-opacity=\"1\" /><path clip-path=\"url(#clip750)\" d=\"M325.917 1035.01 L316.325 1050 L325.917 1050 L325.917 1035.01 M324.92 1031.7 L329.697 1031.7 L329.697 1050 L333.703 1050 L333.703 1053.16 L329.697 1053.16 L329.697 1059.78 L325.917 1059.78 L325.917 1053.16 L313.241 1053.16 L313.241 1049.49 L324.92 1031.7 Z\" fill=\"#000000\" fill-rule=\"nonzero\" fill-opacity=\"1\" /><path clip-path=\"url(#clip750)\" d=\"M119.885 763.449 L136.204 763.449 L136.204 767.384 L114.26 767.384 L114.26 763.449 Q116.922 760.694 121.505 756.065 Q126.112 751.412 127.292 750.069 Q129.538 747.546 130.417 745.81 Q131.32 744.051 131.32 742.361 Q131.32 739.606 129.376 737.87 Q127.455 736.134 124.353 736.134 Q122.154 736.134 119.7 736.898 Q117.269 737.662 114.492 739.213 L114.492 734.491 Q117.316 733.356 119.769 732.778 Q122.223 732.199 124.26 732.199 Q129.63 732.199 132.825 734.884 Q136.019 737.569 136.019 742.06 Q136.019 744.19 135.209 746.111 Q134.422 748.009 132.316 750.602 Q131.737 751.273 128.635 754.491 Q125.533 757.685 119.885 763.449 Z\" fill=\"#000000\" fill-rule=\"nonzero\" fill-opacity=\"1\" /><path clip-path=\"url(#clip750)\" d=\"M146.019 761.504 L150.903 761.504 L150.903 767.384 L146.019 767.384 L146.019 761.504 Z\" fill=\"#000000\" fill-rule=\"nonzero\" fill-opacity=\"1\" /><path clip-path=\"url(#clip750)\" d=\"M171.089 735.903 Q167.477 735.903 165.649 739.467 Q163.843 743.009 163.843 750.139 Q163.843 757.245 165.649 760.81 Q167.477 764.352 171.089 764.352 Q174.723 764.352 176.528 760.81 Q178.357 757.245 178.357 750.139 Q178.357 743.009 176.528 739.467 Q174.723 735.903 171.089 735.903 M171.089 732.199 Q176.899 732.199 179.954 736.805 Q183.033 741.389 183.033 750.139 Q183.033 758.865 179.954 763.472 Q176.899 768.055 171.089 768.055 Q165.278 768.055 162.2 763.472 Q159.144 758.865 159.144 750.139 Q159.144 741.389 162.2 736.805 Q165.278 732.199 171.089 732.199 Z\" fill=\"#000000\" fill-rule=\"nonzero\" fill-opacity=\"1\" /><path clip-path=\"url(#clip750)\" d=\"M201.25 735.903 Q197.639 735.903 195.811 739.467 Q194.005 743.009 194.005 750.139 Q194.005 757.245 195.811 760.81 Q197.639 764.352 201.25 764.352 Q204.885 764.352 206.69 760.81 Q208.519 757.245 208.519 750.139 Q208.519 743.009 206.69 739.467 Q204.885 735.903 201.25 735.903 M201.25 732.199 Q207.061 732.199 210.116 736.805 Q213.195 741.389 213.195 750.139 Q213.195 758.865 210.116 763.472 Q207.061 768.055 201.25 768.055 Q195.44 768.055 192.362 763.472 Q189.306 758.865 189.306 750.139 Q189.306 741.389 192.362 736.805 Q195.44 732.199 201.25 732.199 Z\" fill=\"#000000\" fill-rule=\"nonzero\" fill-opacity=\"1\" /><path clip-path=\"url(#clip750)\" d=\"M249.584 741.921 L239.005 752.546 L249.584 763.125 L246.829 765.926 L236.204 755.301 L225.579 765.926 L222.848 763.125 L233.403 752.546 L222.848 741.921 L225.579 739.12 L236.204 749.745 L246.829 739.12 L249.584 741.921 Z\" fill=\"#000000\" fill-rule=\"nonzero\" fill-opacity=\"1\" /><path clip-path=\"url(#clip750)\" d=\"M261.945 763.449 L269.583 763.449 L269.583 737.083 L261.273 738.75 L261.273 734.491 L269.537 732.824 L274.213 732.824 L274.213 763.449 L281.852 763.449 L281.852 767.384 L261.945 767.384 L261.945 763.449 Z\" fill=\"#000000\" fill-rule=\"nonzero\" fill-opacity=\"1\" /><path clip-path=\"url(#clip750)\" d=\"M301.296 735.903 Q297.685 735.903 295.856 739.467 Q294.051 743.009 294.051 750.139 Q294.051 757.245 295.856 760.81 Q297.685 764.352 301.296 764.352 Q304.93 764.352 306.736 760.81 Q308.565 757.245 308.565 750.139 Q308.565 743.009 306.736 739.467 Q304.93 735.903 301.296 735.903 M301.296 732.199 Q307.106 732.199 310.162 736.805 Q313.241 741.389 313.241 750.139 Q313.241 758.865 310.162 763.472 Q307.106 768.055 301.296 768.055 Q295.486 768.055 292.407 763.472 Q289.352 758.865 289.352 750.139 Q289.352 741.389 292.407 736.805 Q295.486 732.199 301.296 732.199 Z\" fill=\"#000000\" fill-rule=\"nonzero\" fill-opacity=\"1\" /><path clip-path=\"url(#clip750)\" d=\"M325.917 715.204 L316.325 730.194 L325.917 730.194 L325.917 715.204 M324.92 711.894 L329.697 711.894 L329.697 730.194 L333.703 730.194 L333.703 733.353 L329.697 733.353 L329.697 739.974 L325.917 739.974 L325.917 733.353 L313.241 733.353 L313.241 729.686 L324.92 711.894 Z\" fill=\"#000000\" fill-rule=\"nonzero\" fill-opacity=\"1\" /><path clip-path=\"url(#clip750)\" d=\"M119.885 443.64 L136.204 443.64 L136.204 447.576 L114.26 447.576 L114.26 443.64 Q116.922 440.886 121.505 436.256 Q126.112 431.603 127.292 430.261 Q129.538 427.738 130.417 426.002 Q131.32 424.242 131.32 422.553 Q131.32 419.798 129.376 418.062 Q127.455 416.326 124.353 416.326 Q122.154 416.326 119.7 417.09 Q117.269 417.853 114.492 419.404 L114.492 414.682 Q117.316 413.548 119.769 412.969 Q122.223 412.391 124.26 412.391 Q129.63 412.391 132.825 415.076 Q136.019 417.761 136.019 422.252 Q136.019 424.381 135.209 426.302 Q134.422 428.201 132.316 430.793 Q131.737 431.465 128.635 434.682 Q125.533 437.877 119.885 443.64 Z\" fill=\"#000000\" fill-rule=\"nonzero\" fill-opacity=\"1\" /><path clip-path=\"url(#clip750)\" d=\"M146.019 441.696 L150.903 441.696 L150.903 447.576 L146.019 447.576 L146.019 441.696 Z\" fill=\"#000000\" fill-rule=\"nonzero\" fill-opacity=\"1\" /><path clip-path=\"url(#clip750)\" d=\"M161.135 413.016 L179.491 413.016 L179.491 416.951 L165.417 416.951 L165.417 425.423 Q166.436 425.076 167.454 424.914 Q168.473 424.728 169.491 424.728 Q175.278 424.728 178.658 427.9 Q182.038 431.071 182.038 436.488 Q182.038 442.066 178.565 445.168 Q175.093 448.247 168.774 448.247 Q166.598 448.247 164.329 447.876 Q162.084 447.506 159.677 446.765 L159.677 442.066 Q161.76 443.201 163.982 443.756 Q166.204 444.312 168.681 444.312 Q172.686 444.312 175.024 442.205 Q177.362 440.099 177.362 436.488 Q177.362 432.877 175.024 430.77 Q172.686 428.664 168.681 428.664 Q166.806 428.664 164.931 429.08 Q163.079 429.497 161.135 430.377 L161.135 413.016 Z\" fill=\"#000000\" fill-rule=\"nonzero\" fill-opacity=\"1\" /><path clip-path=\"url(#clip750)\" d=\"M201.25 416.094 Q197.639 416.094 195.811 419.659 Q194.005 423.201 194.005 430.33 Q194.005 437.437 195.811 441.001 Q197.639 444.543 201.25 444.543 Q204.885 444.543 206.69 441.001 Q208.519 437.437 208.519 430.33 Q208.519 423.201 206.69 419.659 Q204.885 416.094 201.25 416.094 M201.25 412.391 Q207.061 412.391 210.116 416.997 Q213.195 421.58 213.195 430.33 Q213.195 439.057 210.116 443.664 Q207.061 448.247 201.25 448.247 Q195.44 448.247 192.362 443.664 Q189.306 439.057 189.306 430.33 Q189.306 421.58 192.362 416.997 Q195.44 412.391 201.25 412.391 Z\" fill=\"#000000\" fill-rule=\"nonzero\" fill-opacity=\"1\" /><path clip-path=\"url(#clip750)\" d=\"M249.584 422.113 L239.005 432.738 L249.584 443.316 L246.829 446.117 L236.204 435.492 L225.579 446.117 L222.848 443.316 L233.403 432.738 L222.848 422.113 L225.579 419.312 L236.204 429.937 L246.829 419.312 L249.584 422.113 Z\" fill=\"#000000\" fill-rule=\"nonzero\" fill-opacity=\"1\" /><path clip-path=\"url(#clip750)\" d=\"M261.945 443.64 L269.583 443.64 L269.583 417.275 L261.273 418.941 L261.273 414.682 L269.537 413.016 L274.213 413.016 L274.213 443.64 L281.852 443.64 L281.852 447.576 L261.945 447.576 L261.945 443.64 Z\" fill=\"#000000\" fill-rule=\"nonzero\" fill-opacity=\"1\" /><path clip-path=\"url(#clip750)\" d=\"M301.296 416.094 Q297.685 416.094 295.856 419.659 Q294.051 423.201 294.051 430.33 Q294.051 437.437 295.856 441.001 Q297.685 444.543 301.296 444.543 Q304.93 444.543 306.736 441.001 Q308.565 437.437 308.565 430.33 Q308.565 423.201 306.736 419.659 Q304.93 416.094 301.296 416.094 M301.296 412.391 Q307.106 412.391 310.162 416.997 Q313.241 421.58 313.241 430.33 Q313.241 439.057 310.162 443.664 Q307.106 448.247 301.296 448.247 Q295.486 448.247 292.407 443.664 Q289.352 439.057 289.352 430.33 Q289.352 421.58 292.407 416.997 Q295.486 412.391 301.296 412.391 Z\" fill=\"#000000\" fill-rule=\"nonzero\" fill-opacity=\"1\" /><path clip-path=\"url(#clip750)\" d=\"M325.917 395.395 L316.325 410.385 L325.917 410.385 L325.917 395.395 M324.92 392.085 L329.697 392.085 L329.697 410.385 L333.703 410.385 L333.703 413.545 L329.697 413.545 L329.697 420.165 L325.917 420.165 L325.917 413.545 L313.241 413.545 L313.241 409.877 L324.92 392.085 Z\" fill=\"#000000\" fill-rule=\"nonzero\" fill-opacity=\"1\" /><path clip-path=\"url(#clip750)\" d=\"M58.657 957.056 L77.5631 957.056 L77.5631 962.944 L28.3562 962.944 L28.3562 957.056 L33.7671 957.056 Q30.5842 955.21 29.0564 952.409 Q27.4968 949.576 27.4968 945.662 Q27.4968 939.169 32.6531 935.126 Q37.8093 931.052 46.212 931.052 Q54.6147 931.052 59.771 935.126 Q64.9272 939.169 64.9272 945.662 Q64.9272 949.576 63.3994 952.409 Q61.8398 955.21 58.657 957.056 M46.212 937.132 Q39.7508 937.132 36.0905 939.805 Q32.3984 942.447 32.3984 947.094 Q32.3984 951.741 36.0905 954.414 Q39.7508 957.056 46.212 957.056 Q52.6732 957.056 56.3653 954.414 Q60.0256 951.741 60.0256 947.094 Q60.0256 942.447 56.3653 939.805 Q52.6732 937.132 46.212 937.132 Z\" fill=\"#000000\" fill-rule=\"nonzero\" fill-opacity=\"1\" /><path clip-path=\"url(#clip750)\" d=\"M33.8307 900.688 Q33.2578 901.675 33.0032 902.852 Q32.7167 903.998 32.7167 905.398 Q32.7167 910.364 35.9632 913.037 Q39.1779 915.679 45.2253 915.679 L64.0042 915.679 L64.0042 921.567 L28.3562 921.567 L28.3562 915.679 L33.8944 915.679 Q30.6479 913.833 29.0883 910.873 Q27.4968 907.913 27.4968 903.68 Q27.4968 903.075 27.5923 902.343 Q27.656 901.611 27.8151 900.72 L33.8307 900.688 Z\" fill=\"#000000\" fill-rule=\"nonzero\" fill-opacity=\"1\" /><path clip-path=\"url(#clip750)\" d=\"M32.4621 882.164 Q32.4621 886.874 36.1542 889.612 Q39.8145 892.349 46.212 892.349 Q52.6095 892.349 56.3017 889.643 Q59.9619 886.906 59.9619 882.164 Q59.9619 877.485 56.2698 874.748 Q52.5777 872.01 46.212 872.01 Q39.8781 872.01 36.186 874.748 Q32.4621 877.485 32.4621 882.164 M27.4968 882.164 Q27.4968 874.525 32.4621 870.164 Q37.4273 865.804 46.212 865.804 Q54.9649 865.804 59.9619 870.164 Q64.9272 874.525 64.9272 882.164 Q64.9272 889.834 59.9619 894.195 Q54.9649 898.524 46.212 898.524 Q37.4273 898.524 32.4621 894.195 Q27.4968 889.834 27.4968 882.164 Z\" fill=\"#000000\" fill-rule=\"nonzero\" fill-opacity=\"1\" /><path clip-path=\"url(#clip750)\" d=\"M14.479 838.049 L19.3487 838.049 L19.3487 843.651 Q19.3487 846.802 20.6219 848.043 Q21.895 849.253 25.2052 849.253 L28.3562 849.253 L28.3562 839.609 L32.9077 839.609 L32.9077 849.253 L64.0042 849.253 L64.0042 855.141 L32.9077 855.141 L32.9077 860.743 L28.3562 860.743 L28.3562 855.141 L25.8736 855.141 Q19.9216 855.141 17.2162 852.372 Q14.479 849.603 14.479 843.587 L14.479 838.049 Z\" fill=\"#000000\" fill-rule=\"nonzero\" fill-opacity=\"1\" /><path clip-path=\"url(#clip750)\" d=\"M28.3562 833.148 L28.3562 827.291 L64.0042 827.291 L64.0042 833.148 L28.3562 833.148 M14.479 833.148 L14.479 827.291 L21.895 827.291 L21.895 833.148 L14.479 833.148 Z\" fill=\"#000000\" fill-rule=\"nonzero\" fill-opacity=\"1\" /><path clip-path=\"url(#clip750)\" d=\"M18.2347 809.244 L28.3562 809.244 L28.3562 797.181 L32.9077 797.181 L32.9077 809.244 L52.2594 809.244 Q56.6199 809.244 57.8613 808.067 Q59.1026 806.857 59.1026 803.197 L59.1026 797.181 L64.0042 797.181 L64.0042 803.197 Q64.0042 809.977 61.4897 812.555 Q58.9434 815.133 52.2594 815.133 L32.9077 815.133 L32.9077 819.43 L28.3562 819.43 L28.3562 815.133 L18.2347 815.133 L18.2347 809.244 Z\" fill=\"#000000\" fill-rule=\"nonzero\" fill-opacity=\"1\" /><path clip-path=\"url(#clip750)\" d=\"M74.8259 762.393 L79.3773 762.393 L79.3773 796.258 L74.8259 796.258 L74.8259 762.393 Z\" fill=\"#000000\" fill-rule=\"nonzero\" fill-opacity=\"1\" /><path clip-path=\"url(#clip750)\" d=\"M35.1993 729.132 Q31.2526 726.936 29.3747 723.88 Q27.4968 720.825 27.4968 716.687 Q27.4968 711.117 31.4117 708.093 Q35.2948 705.07 42.4881 705.07 L64.0042 705.07 L64.0042 710.958 L42.679 710.958 Q37.5546 710.958 35.072 712.772 Q32.5894 714.586 32.5894 718.31 Q32.5894 722.862 35.6131 725.504 Q38.6368 728.145 43.8567 728.145 L64.0042 728.145 L64.0042 734.034 L42.679 734.034 Q37.5228 734.034 35.072 735.848 Q32.5894 737.662 32.5894 741.45 Q32.5894 745.938 35.6449 748.579 Q38.6686 751.221 43.8567 751.221 L64.0042 751.221 L64.0042 757.109 L28.3562 757.109 L28.3562 751.221 L33.8944 751.221 Q30.616 749.216 29.0564 746.415 Q27.4968 743.614 27.4968 739.763 Q27.4968 735.88 29.4702 733.174 Q31.4436 730.437 35.1993 729.132 Z\" fill=\"#000000\" fill-rule=\"nonzero\" fill-opacity=\"1\" /><path clip-path=\"url(#clip750)\" d=\"M44.7161 662.897 L47.5806 662.897 L47.5806 689.824 Q53.6281 689.442 56.8109 686.195 Q59.9619 682.917 59.9619 677.092 Q59.9619 673.719 59.1344 670.568 Q58.3069 667.385 56.6518 664.266 L62.1899 664.266 Q63.5267 667.417 64.227 670.727 Q64.9272 674.037 64.9272 677.443 Q64.9272 685.973 59.9619 690.97 Q54.9967 695.935 46.5303 695.935 Q37.7774 695.935 32.6531 691.224 Q27.4968 686.482 27.4968 678.461 Q27.4968 671.268 32.1438 667.098 Q36.7589 662.897 44.7161 662.897 M42.9973 668.753 Q38.1912 668.817 35.3266 671.459 Q32.4621 674.069 32.4621 678.397 Q32.4621 683.299 35.2312 686.259 Q38.0002 689.187 43.0292 689.633 L42.9973 668.753 Z\" fill=\"#000000\" fill-rule=\"nonzero\" fill-opacity=\"1\" /><path clip-path=\"url(#clip750)\" d=\"M46.0847 637.084 Q46.0847 644.182 47.7079 646.919 Q49.3312 649.656 53.2461 649.656 Q56.3653 649.656 58.2114 647.619 Q60.0256 645.55 60.0256 642.017 Q60.0256 637.148 56.5881 634.219 Q53.1188 631.259 47.3897 631.259 L46.0847 631.259 L46.0847 637.084 M43.6657 625.403 L64.0042 625.403 L64.0042 631.259 L58.5933 631.259 Q61.8398 633.265 63.3994 636.256 Q64.9272 639.248 64.9272 643.577 Q64.9272 649.051 61.8716 652.298 Q58.7843 655.513 53.6281 655.513 Q47.6125 655.513 44.5569 651.502 Q41.5014 647.46 41.5014 639.471 L41.5014 631.259 L40.9285 631.259 Q36.8862 631.259 34.6901 633.933 Q32.4621 636.575 32.4621 641.381 Q32.4621 644.436 33.1941 647.333 Q33.9262 650.229 35.3903 652.903 L29.9795 652.903 Q28.7381 649.688 28.1334 646.664 Q27.4968 643.641 27.4968 640.776 Q27.4968 633.042 31.5072 629.222 Q35.5176 625.403 43.6657 625.403 Z\" fill=\"#000000\" fill-rule=\"nonzero\" fill-opacity=\"1\" /><path clip-path=\"url(#clip750)\" d=\"M42.4881 583.707 L64.0042 583.707 L64.0042 589.564 L42.679 589.564 Q37.6183 589.564 35.1038 591.537 Q32.5894 593.511 32.5894 597.457 Q32.5894 602.2 35.6131 604.937 Q38.6368 607.674 43.8567 607.674 L64.0042 607.674 L64.0042 613.563 L28.3562 613.563 L28.3562 607.674 L33.8944 607.674 Q30.6797 605.574 29.0883 602.741 Q27.4968 599.876 27.4968 596.152 Q27.4968 590.01 31.3163 586.859 Q35.1038 583.707 42.4881 583.707 Z\" fill=\"#000000\" fill-rule=\"nonzero\" fill-opacity=\"1\" /><path clip-path=\"url(#clip750)\" d=\"M1053.81 12.096 L1062.07 12.096 L1074.79 63.2184 L1087.47 12.096 L1096.67 12.096 L1109.38 63.2184 L1122.06 12.096 L1130.37 12.096 L1115.18 72.576 L1104.89 72.576 L1092.13 20.0763 L1079.25 72.576 L1068.96 72.576 L1053.81 12.096 Z\" fill=\"#000000\" fill-rule=\"nonzero\" fill-opacity=\"1\" /><path clip-path=\"url(#clip750)\" d=\"M1158.32 76.7889 Q1155.16 84.8907 1152.16 87.3618 Q1149.16 89.8329 1144.14 89.8329 L1138.19 89.8329 L1138.19 83.5945 L1142.56 83.5945 Q1145.64 83.5945 1147.34 82.1361 Q1149.04 80.6778 1151.11 75.2496 L1152.45 71.8468 L1134.1 27.2059 L1141.99 27.2059 L1156.17 62.6918 L1170.35 27.2059 L1178.25 27.2059 L1158.32 76.7889 Z\" fill=\"#000000\" fill-rule=\"nonzero\" fill-opacity=\"1\" /><path clip-path=\"url(#clip750)\" d=\"M1188.26 9.54393 L1195.75 9.54393 L1195.75 46.7717 L1217.99 27.2059 L1227.51 27.2059 L1203.45 48.4326 L1228.52 72.576 L1218.8 72.576 L1195.75 50.4176 L1195.75 72.576 L1188.26 72.576 L1188.26 9.54393 Z\" fill=\"#000000\" fill-rule=\"nonzero\" fill-opacity=\"1\" /><path clip-path=\"url(#clip750)\" d=\"M1262.87 34.1734 Q1261.62 33.4443 1260.12 33.1202 Q1258.66 32.7556 1256.88 32.7556 Q1250.56 32.7556 1247.16 36.8875 Q1243.79 40.9789 1243.79 48.6757 L1243.79 72.576 L1236.3 72.576 L1236.3 27.2059 L1243.79 27.2059 L1243.79 34.2544 Q1246.14 30.1225 1249.91 28.1376 Q1253.68 26.1121 1259.07 26.1121 Q1259.84 26.1121 1260.77 26.2337 Q1261.7 26.3147 1262.83 26.5172 L1262.87 34.1734 Z\" fill=\"#000000\" fill-rule=\"nonzero\" fill-opacity=\"1\" /><path clip-path=\"url(#clip750)\" d=\"M1307.68 48.0275 L1307.68 51.6733 L1273.41 51.6733 Q1273.89 59.3701 1278.02 63.421 Q1282.2 67.4314 1289.61 67.4314 Q1293.9 67.4314 1297.91 66.3781 Q1301.96 65.3249 1305.93 63.2184 L1305.93 70.267 Q1301.92 71.9684 1297.71 72.8596 Q1293.5 73.7508 1289.16 73.7508 Q1278.31 73.7508 1271.95 67.4314 Q1265.63 61.1119 1265.63 50.3365 Q1265.63 39.1965 1271.62 32.6746 Q1277.66 26.1121 1287.87 26.1121 Q1297.02 26.1121 1302.33 32.0264 Q1307.68 37.9003 1307.68 48.0275 M1300.22 45.84 Q1300.14 39.7232 1296.78 36.0774 Q1293.46 32.4315 1287.95 32.4315 Q1281.71 32.4315 1277.94 35.9558 Q1274.22 39.4801 1273.65 45.8805 L1300.22 45.84 Z\" fill=\"#000000\" fill-rule=\"nonzero\" fill-opacity=\"1\" /><path clip-path=\"url(#clip750)\" d=\"M1348.83 28.5427 L1348.83 35.5912 Q1345.67 33.9709 1342.27 33.1607 Q1338.87 32.3505 1335.22 32.3505 Q1329.67 32.3505 1326.88 34.0519 Q1324.12 35.7533 1324.12 39.156 Q1324.12 41.7486 1326.11 43.2475 Q1328.09 44.7058 1334.09 46.0426 L1336.64 46.6097 Q1344.58 48.3111 1347.9 51.4303 Q1351.26 54.509 1351.26 60.0587 Q1351.26 66.3781 1346.24 70.0644 Q1341.26 73.7508 1332.51 73.7508 Q1328.86 73.7508 1324.89 73.0216 Q1320.96 72.3329 1316.59 70.9151 L1316.59 63.2184 Q1320.72 65.3654 1324.73 66.4591 Q1328.74 67.5124 1332.67 67.5124 Q1337.94 67.5124 1340.77 65.73 Q1343.61 63.9071 1343.61 60.6258 Q1343.61 57.5877 1341.54 55.9673 Q1339.52 54.3469 1332.59 52.8481 L1330 52.2405 Q1323.07 50.7821 1319.99 47.7845 Q1316.91 44.7463 1316.91 39.4801 Q1316.91 33.0797 1321.45 29.5959 Q1325.99 26.1121 1334.33 26.1121 Q1338.46 26.1121 1342.11 26.7198 Q1345.76 27.3274 1348.83 28.5427 Z\" fill=\"#000000\" fill-rule=\"nonzero\" fill-opacity=\"1\" /><path clip-path=\"url(#clip750)\" d=\"M1389.5 9.54393 L1396.96 9.54393 L1396.96 72.576 L1389.5 72.576 L1389.5 9.54393 Z\" fill=\"#000000\" fill-rule=\"nonzero\" fill-opacity=\"1\" /><path clip-path=\"url(#clip750)\" d=\"M1412.55 27.2059 L1420.01 27.2059 L1420.01 72.576 L1412.55 72.576 L1412.55 27.2059 M1412.55 9.54393 L1420.01 9.54393 L1420.01 18.9825 L1412.55 18.9825 L1412.55 9.54393 Z\" fill=\"#000000\" fill-rule=\"nonzero\" fill-opacity=\"1\" /><path clip-path=\"url(#clip750)\" d=\"M1473.32 45.1919 L1473.32 72.576 L1465.86 72.576 L1465.86 45.4349 Q1465.86 38.994 1463.35 35.7938 Q1460.84 32.5936 1455.82 32.5936 Q1449.78 32.5936 1446.3 36.4419 Q1442.81 40.2903 1442.81 46.9338 L1442.81 72.576 L1435.32 72.576 L1435.32 27.2059 L1442.81 27.2059 L1442.81 34.2544 Q1445.49 30.163 1449.09 28.1376 Q1452.74 26.1121 1457.48 26.1121 Q1465.3 26.1121 1469.31 30.9732 Q1473.32 35.7938 1473.32 45.1919 Z\" fill=\"#000000\" fill-rule=\"nonzero\" fill-opacity=\"1\" /><path clip-path=\"url(#clip750)\" d=\"M1488.19 27.2059 L1495.64 27.2059 L1495.64 72.576 L1488.19 72.576 L1488.19 27.2059 M1488.19 9.54393 L1495.64 9.54393 L1495.64 18.9825 L1488.19 18.9825 L1488.19 9.54393 Z\" fill=\"#000000\" fill-rule=\"nonzero\" fill-opacity=\"1\" /><path clip-path=\"url(#clip750)\" d=\"M1528.82 32.4315 Q1522.82 32.4315 1519.34 37.1306 Q1515.85 41.7891 1515.85 49.9314 Q1515.85 58.0738 1519.3 62.7728 Q1522.78 67.4314 1528.82 67.4314 Q1534.77 67.4314 1538.25 62.7323 Q1541.74 58.0333 1541.74 49.9314 Q1541.74 41.8701 1538.25 37.1711 Q1534.77 32.4315 1528.82 32.4315 M1528.82 26.1121 Q1538.54 26.1121 1544.09 32.4315 Q1549.64 38.7509 1549.64 49.9314 Q1549.64 61.0714 1544.09 67.4314 Q1538.54 73.7508 1528.82 73.7508 Q1519.05 73.7508 1513.5 67.4314 Q1507.99 61.0714 1507.99 49.9314 Q1507.99 38.7509 1513.5 32.4315 Q1519.05 26.1121 1528.82 26.1121 Z\" fill=\"#000000\" fill-rule=\"nonzero\" fill-opacity=\"1\" /><path clip-path=\"url(#clip750)\" d=\"M1557.66 27.2059 L1565.11 27.2059 L1574.43 62.6108 L1583.71 27.2059 L1592.5 27.2059 L1601.81 62.6108 L1611.09 27.2059 L1618.54 27.2059 L1606.67 72.576 L1597.88 72.576 L1588.12 35.3887 L1578.32 72.576 L1569.53 72.576 L1557.66 27.2059 Z\" fill=\"#000000\" fill-rule=\"nonzero\" fill-opacity=\"1\" /><path clip-path=\"url(#clip750)\" d=\"M1648.72 76.7889 Q1645.56 84.8907 1642.56 87.3618 Q1639.57 89.8329 1634.54 89.8329 L1628.59 89.8329 L1628.59 83.5945 L1632.96 83.5945 Q1636.04 83.5945 1637.74 82.1361 Q1639.45 80.6778 1641.51 75.2496 L1642.85 71.8468 L1624.5 27.2059 L1632.4 27.2059 L1646.58 62.6918 L1660.75 27.2059 L1668.65 27.2059 L1648.72 76.7889 Z\" fill=\"#000000\" fill-rule=\"nonzero\" fill-opacity=\"1\" /><polyline clip-path=\"url(#clip752)\" style=\"stroke:#009af9; stroke-linecap:round; stroke-linejoin:round; stroke-width:4; stroke-opacity:1; fill:none\" points=\"425.828,1386.4 444.536,1373.63 463.244,1361.84 481.952,1349.2 500.66,1337.41 519.368,1324.98 538.076,1313.78 556.784,1301.71 575.492,1287.8 594.2,1275.47 612.908,1264.84 631.616,1252.02 650.324,1239.53 669.032,1227.05 687.74,1214.64 706.448,1201.99 725.156,1190.38 743.864,1177.8 762.572,1165.25 781.28,1152.97 799.988,1140.41 818.696,1129.43 837.404,1116.65 856.113,1103.05 874.821,1091.74 893.529,1080.13 912.237,1068.34 930.945,1055.3 949.653,1043.15 968.361,1030.43 987.069,1017.33 1005.78,1005.21 1024.48,995.008 1043.19,981.042 1061.9,970.249 1080.61,956.211 1099.32,944.212 1118.03,932.737 1136.73,921.081 1155.44,907.252 1174.15,894.903 1192.86,884.026 1211.57,872.808 1230.27,860.342 1248.98,846.534 1267.69,833.749 1286.4,822.174 1305.11,811.824 1323.81,798.507 1342.52,785.745 1361.23,771.976 1379.94,761.287 1398.65,748.762 1417.35,737.626 1436.06,724.536 1454.77,711.542 1473.48,697.67 1492.19,688.345 1510.89,674.805 1529.6,662.869 1548.31,651.384 1567.02,638.859 1585.73,628.692 1604.43,615.164 1623.14,601.479 1641.85,591.255 1660.56,577.105 1679.27,563.321 1697.97,552.224 1716.68,541.723 1735.39,527.951 1754.1,519.05 1772.81,503.554 1791.51,492.202 1810.22,479.273 1828.93,467.757 1847.64,454.982 1866.35,441.52 1885.05,430.676 1903.76,419.212 1922.47,404.348 1941.18,392.217 1959.89,380.611 1978.6,368.813 1997.3,356.993 2016.01,343.834 2034.72,331.904 2053.43,319.427 2072.14,305.539 2090.84,296.807 2109.55,282.431 2128.26,271.664 2146.97,258.983 2165.68,248.777 2184.38,234.52 2203.09,222.869 2221.8,209.694 2240.51,198.562 2259.22,183.908 2277.92,173.412 2296.63,160.256 \"/>\n",
       "<path clip-path=\"url(#clip750)\" d=\"M435.805 270.476 L686.541 270.476 L686.541 166.796 L435.805 166.796  Z\" fill=\"#ffffff\" fill-rule=\"evenodd\" fill-opacity=\"1\"/>\n",
       "<polyline clip-path=\"url(#clip750)\" style=\"stroke:#000000; stroke-linecap:round; stroke-linejoin:round; stroke-width:4; stroke-opacity:1; fill:none\" points=\"435.805,270.476 686.541,270.476 686.541,166.796 435.805,166.796 435.805,270.476 \"/>\n",
       "<polyline clip-path=\"url(#clip750)\" style=\"stroke:#009af9; stroke-linecap:round; stroke-linejoin:round; stroke-width:4; stroke-opacity:1; fill:none\" points=\"457.839,218.636 590.043,218.636 \"/>\n",
       "<path clip-path=\"url(#clip750)\" d=\"M625.919 238.323 Q624.113 242.953 622.401 244.365 Q620.688 245.777 617.817 245.777 L614.414 245.777 L614.414 242.212 L616.914 242.212 Q618.674 242.212 619.646 241.379 Q620.618 240.545 621.799 237.443 L622.563 235.499 L612.077 209.99 L616.59 209.99 L624.692 230.268 L632.794 209.99 L637.308 209.99 L625.919 238.323 Z\" fill=\"#000000\" fill-rule=\"nonzero\" fill-opacity=\"1\" /><path clip-path=\"url(#clip750)\" d=\"M644.599 231.981 L652.238 231.981 L652.238 205.615 L643.928 207.282 L643.928 203.022 L652.192 201.356 L656.868 201.356 L656.868 231.981 L664.507 231.981 L664.507 235.916 L644.599 235.916 L644.599 231.981 Z\" fill=\"#000000\" fill-rule=\"nonzero\" fill-opacity=\"1\" /></svg>\n"
      ]
     },
     "execution_count": 26,
     "metadata": {},
     "output_type": "execute_result"
    }
   ],
   "source": [
    "using Plots\n",
    "\n",
    "plot(df[:, \"p\"], df[:, \"profit_mean\"], xlabel=\"p\", ylabel=\"profit_mean\", title=\"Wykres liniowy\")\n"
   ]
  },
  {
   "cell_type": "code",
   "execution_count": 27,
   "metadata": {},
   "outputs": [
    {
     "data": {
      "text/html": [
       "<div><div style = \"float: left;\"><span>DataFrameRow (9 columns)</span></div><div style = \"clear: both;\"></div></div><div class = \"data-frame\" style = \"overflow-x: scroll;\"><table class = \"data-frame\" style = \"margin-bottom: 6px;\"><thead><tr class = \"header\"><th class = \"rowLabel\" style = \"font-weight: bold; text-align: right;\">Row</th><th style = \"text-align: left;\">m</th><th style = \"text-align: left;\">s</th><th style = \"text-align: left;\">S</th><th style = \"text-align: left;\">N</th><th style = \"text-align: left;\">p</th><th style = \"text-align: left;\">profit_mean</th><th style = \"text-align: left;\">profit_std</th><th style = \"text-align: left;\">lost_mean</th><th style = \"text-align: left;\">lost_std</th></tr><tr class = \"subheader headerLastRow\"><th class = \"rowLabel\" style = \"font-weight: bold; text-align: right;\"></th><th title = \"Int64\" style = \"text-align: left;\">Int64</th><th title = \"Int64\" style = \"text-align: left;\">Int64</th><th title = \"Int64\" style = \"text-align: left;\">Int64</th><th title = \"Int64\" style = \"text-align: left;\">Int64</th><th title = \"Float64\" style = \"text-align: left;\">Float64</th><th title = \"Float64\" style = \"text-align: left;\">Float64</th><th title = \"Float64\" style = \"text-align: left;\">Float64</th><th title = \"Float64\" style = \"text-align: left;\">Float64</th><th title = \"Float64\" style = \"text-align: left;\">Float64</th></tr></thead><tbody><tr><td class = \"rowLabel\" style = \"font-weight: bold; text-align: right;\">101</td><td style = \"text-align: right;\">250</td><td style = \"text-align: right;\">35</td><td style = \"text-align: right;\">230</td><td style = \"text-align: right;\">1000</td><td style = \"text-align: right;\">1.0</td><td style = \"text-align: right;\">29121.1</td><td style = \"text-align: right;\">745.179</td><td style = \"text-align: right;\">210.381</td><td style = \"text-align: right;\">96.4999</td></tr></tbody></table></div>"
      ],
      "text/latex": [
       "\\begin{tabular}{r|ccccccccc}\n",
       "\t& m & s & S & N & p & profit\\_mean & profit\\_std & lost\\_mean & lost\\_std\\\\\n",
       "\t\\hline\n",
       "\t& Int64 & Int64 & Int64 & Int64 & Float64 & Float64 & Float64 & Float64 & Float64\\\\\n",
       "\t\\hline\n",
       "\t101 & 250 & 35 & 230 & 1000 & 1.0 & 29121.1 & 745.179 & 210.381 & 96.4999 \\\\\n",
       "\\end{tabular}\n"
      ],
      "text/plain": [
       "\u001b[1mDataFrameRow\u001b[0m\n",
       "\u001b[1m Row \u001b[0m│\u001b[1m m     \u001b[0m\u001b[1m s     \u001b[0m\u001b[1m S     \u001b[0m\u001b[1m N     \u001b[0m\u001b[1m p       \u001b[0m\u001b[1m profit_mean \u001b[0m\u001b[1m profit_std \u001b[0m\u001b[1m lost_mean\u001b[0m ⋯\n",
       "     │\u001b[90m Int64 \u001b[0m\u001b[90m Int64 \u001b[0m\u001b[90m Int64 \u001b[0m\u001b[90m Int64 \u001b[0m\u001b[90m Float64 \u001b[0m\u001b[90m Float64     \u001b[0m\u001b[90m Float64    \u001b[0m\u001b[90m Float64  \u001b[0m ⋯\n",
       "─────┼──────────────────────────────────────────────────────────────────────────\n",
       " 101 │   250     35    230   1000      1.0      29121.1     745.179    210.381 ⋯\n",
       "\u001b[36m                                                                1 column omitted\u001b[0m"
      ]
     },
     "execution_count": 27,
     "metadata": {},
     "output_type": "execute_result"
    }
   ],
   "source": [
    "best_row = argmax(df.profit_mean)\n",
    "df[best_row,:]"
   ]
  },
  {
   "cell_type": "code",
   "execution_count": 28,
   "metadata": {},
   "outputs": [
    {
     "data": {
      "text/plain": [
       "simulateOneRun (generic function with 2 methods)"
      ]
     },
     "execution_count": 28,
     "metadata": {},
     "output_type": "execute_result"
    }
   ],
   "source": [
    "using Random\n",
    "using Distributions\n",
    "using Statistics\n",
    "# m - number of days\n",
    "# s - reorder point\n",
    "# S - target warehouse volume\n",
    "function simulateOneRun(m, s, S;\n",
    "    h = 0.1, #storage cost\n",
    "    c = 4.0, #unit profit\n",
    "    p = 0.50, #probability of delivery\n",
    "    K = 100, # fixed order cost\n",
    "    k = 1.0, # variable order cost\n",
    "    init_S = 100, #initial warehouse level\n",
    "    average_demand = 20)\n",
    "    Xⱼ = init_S\n",
    "    local Yj\n",
    "    profit = 0.0\n",
    "    lost_orders = 0.0\n",
    "    warehouse_levels = Int[]\n",
    "    #pois = Distributions.Poisson(average_demand)\n",
    "    normal=Distributions.Normal(20,5)\n",
    "    for day in 1:m\n",
    "        if Xⱼ < s  # reorder point  #100 < 5 \n",
    "            if rand() < p\n",
    "                profit -= K + (S-Xⱼ)*k\n",
    "                Xⱼ = S\n",
    "            end\n",
    "        end\n",
    "        push!(warehouse_levels, Xⱼ)\n",
    "        #demand = rand(pois)\n",
    "        demand = round.(Int, rand(normal))\n",
    "        sales = min(Xⱼ, demand) #(stan_magazynu, popyt_w_dniu )\n",
    "        Xⱼ -= sales\n",
    "        @assert Xⱼ >= 0\n",
    "        lost_order = demand - sales # failed to provide  \n",
    "        @assert lost_order >= 0 \n",
    "        profit += sales*c - (Xⱼ-sales)*h  # storage costs\n",
    "        lost_orders += lost_order\n",
    "        #koszt_jednostkowy_Stock_outu to wtedy bez wag \n",
    "        # one_obj = 0.75 * profit + 0.25 * lost_orders * koszt_jednostkowy_Stock_outu \n",
    "        # wtedy kiedy wybieramy jedna opcje np logistyke\n",
    "    end\n",
    "    \n",
    "    (profit=profit, lost_orders=lost_orders,\n",
    "        warehouse_levels=warehouse_levels) #,one_obj\n",
    "end"
   ]
  },
  {
   "cell_type": "code",
   "execution_count": 29,
   "metadata": {},
   "outputs": [
    {
     "data": {
      "text/plain": [
       "run_sims (generic function with 3 methods)"
      ]
     },
     "execution_count": 29,
     "metadata": {},
     "output_type": "execute_result"
    }
   ],
   "source": [
    "function run_sims(m,s,S,N)\n",
    "    df = DataFrame(simulateOneRun(m,s,S) for n in 1:N)\n",
    "    (\n",
    "        m=m,\n",
    "        s=s,\n",
    "        S=S,\n",
    "        N=N,\n",
    "        profit_mean = mean(df.profit),\n",
    "        profit_std = std(df.profit),\n",
    "        lost_mean = mean(df.lost_orders),\n",
    "        lost_std = std(df.lost_orders)\n",
    "    )\n",
    "end"
   ]
  },
  {
   "cell_type": "code",
   "execution_count": 30,
   "metadata": {},
   "outputs": [
    {
     "ename": "LoadError",
     "evalue": "ArgumentError: 'NamedTuple{(:m, :s, :S, :N, :profit_mean, :profit_std, :lost_mean, :lost_std), Tuple{Int64, Int64, Int64, Int64, Float64, Float64, Float64, Float64}}' iterates 'Int64' values, which doesn't satisfy the Tables.jl `AbstractRow` interface",
     "output_type": "error",
     "traceback": [
      "ArgumentError: 'NamedTuple{(:m, :s, :S, :N, :profit_mean, :profit_std, :lost_mean, :lost_std), Tuple{Int64, Int64, Int64, Int64, Float64, Float64, Float64, Float64}}' iterates 'Int64' values, which doesn't satisfy the Tables.jl `AbstractRow` interface",
      "",
      "Stacktrace:",
      " [1] invalidtable(#unused#::NamedTuple{(:m, :s, :S, :N, :profit_mean, :profit_std, :lost_mean, :lost_std), Tuple{Int64, Int64, Int64, Int64, Float64, Float64, Float64, Float64}}, #unused#::Int64)",
      "   @ Tables ~/.julia/packages/Tables/AcRIE/src/tofromdatavalues.jl:41",
      " [2] iterate",
      "   @ ~/.julia/packages/Tables/AcRIE/src/tofromdatavalues.jl:47 [inlined]",
      " [3] buildcolumns",
      "   @ ~/.julia/packages/Tables/AcRIE/src/fallbacks.jl:209 [inlined]",
      " [4] _columns",
      "   @ ~/.julia/packages/Tables/AcRIE/src/fallbacks.jl:274 [inlined]",
      " [5] columns",
      "   @ ~/.julia/packages/Tables/AcRIE/src/fallbacks.jl:258 [inlined]",
      " [6] DataFrame(x::NamedTuple{(:m, :s, :S, :N, :profit_mean, :profit_std, :lost_mean, :lost_std), Tuple{Int64, Int64, Int64, Int64, Float64, Float64, Float64, Float64}}; copycols::Nothing)",
      "   @ DataFrames ~/.julia/packages/DataFrames/LteEl/src/other/tables.jl:57",
      " [7] DataFrame(x::NamedTuple{(:m, :s, :S, :N, :profit_mean, :profit_std, :lost_mean, :lost_std), Tuple{Int64, Int64, Int64, Int64, Float64, Float64, Float64, Float64}})",
      "   @ DataFrames ~/.julia/packages/DataFrames/LteEl/src/other/tables.jl:48",
      " [8] top-level scope",
      "   @ In[30]:3"
     ]
    }
   ],
   "source": [
    "using Random\n",
    "Random.seed!(0)\n",
    "df = DataFrame(run_sims(250,30,250,1000))"
   ]
  },
  {
   "cell_type": "code",
   "execution_count": 31,
   "metadata": {},
   "outputs": [
    {
     "ename": "LoadError",
     "evalue": "ArgumentError: 'NamedTuple{(:m, :s, :S, :N, :profit_mean, :profit_std, :lost_mean, :lost_std), Tuple{Int64, Int64, Int64, Int64, Float64, Float64, Float64, Float64}}' iterates 'Int64' values, which doesn't satisfy the Tables.jl `AbstractRow` interface",
     "output_type": "error",
     "traceback": [
      "ArgumentError: 'NamedTuple{(:m, :s, :S, :N, :profit_mean, :profit_std, :lost_mean, :lost_std), Tuple{Int64, Int64, Int64, Int64, Float64, Float64, Float64, Float64}}' iterates 'Int64' values, which doesn't satisfy the Tables.jl `AbstractRow` interface",
      "",
      "Stacktrace:",
      " [1] invalidtable(#unused#::NamedTuple{(:m, :s, :S, :N, :profit_mean, :profit_std, :lost_mean, :lost_std), Tuple{Int64, Int64, Int64, Int64, Float64, Float64, Float64, Float64}}, #unused#::Int64)",
      "   @ Tables ~/.julia/packages/Tables/AcRIE/src/tofromdatavalues.jl:41",
      " [2] iterate",
      "   @ ~/.julia/packages/Tables/AcRIE/src/tofromdatavalues.jl:47 [inlined]",
      " [3] buildcolumns",
      "   @ ~/.julia/packages/Tables/AcRIE/src/fallbacks.jl:209 [inlined]",
      " [4] _columns",
      "   @ ~/.julia/packages/Tables/AcRIE/src/fallbacks.jl:274 [inlined]",
      " [5] columns",
      "   @ ~/.julia/packages/Tables/AcRIE/src/fallbacks.jl:258 [inlined]",
      " [6] DataFrame(x::NamedTuple{(:m, :s, :S, :N, :profit_mean, :profit_std, :lost_mean, :lost_std), Tuple{Int64, Int64, Int64, Int64, Float64, Float64, Float64, Float64}}; copycols::Nothing)",
      "   @ DataFrames ~/.julia/packages/DataFrames/LteEl/src/other/tables.jl:57",
      " [7] DataFrame(x::NamedTuple{(:m, :s, :S, :N, :profit_mean, :profit_std, :lost_mean, :lost_std), Tuple{Int64, Int64, Int64, Int64, Float64, Float64, Float64, Float64}})",
      "   @ DataFrames ~/.julia/packages/DataFrames/LteEl/src/other/tables.jl:48",
      " [8] top-level scope",
      "   @ In[31]:5"
     ]
    }
   ],
   "source": [
    "\n",
    "Random.seed!(0)\n",
    "\n",
    "# Base simulation\n",
    "df_base = DataFrame(run_sims(250, 30, 250, 1000))\n",
    "\n",
    "# # Simulation with 5% increase in unit profit\n",
    "# df_inc_c = DataFrame(run_sims(250,30,250,1000,c=4.2))\n",
    "\n",
    "# # Simulation with 5% increase in hourly wage\n",
    "# df_inc_wage = DataFrame(run_sims(250,30,250,1000,h=0.105))\n",
    "\n",
    "# # Check R.O. for base simulation\n",
    "# ro_base = round"
   ]
  },
  {
   "cell_type": "code",
   "execution_count": 32,
   "metadata": {},
   "outputs": [
    {
     "data": {
      "text/plain": [
       "Int64[]"
      ]
     },
     "execution_count": 32,
     "metadata": {},
     "output_type": "execute_result"
    }
   ],
   "source": [
    "findall(<=(0), df.profit_mean)\n"
   ]
  },
  {
   "cell_type": "code",
   "execution_count": 33,
   "metadata": {},
   "outputs": [
    {
     "data": {
      "text/html": [
       "<div><div style = \"float: left;\"><span>DataFrameRow (9 columns)</span></div><div style = \"clear: both;\"></div></div><div class = \"data-frame\" style = \"overflow-x: scroll;\"><table class = \"data-frame\" style = \"margin-bottom: 6px;\"><thead><tr class = \"header\"><th class = \"rowLabel\" style = \"font-weight: bold; text-align: right;\">Row</th><th style = \"text-align: left;\">m</th><th style = \"text-align: left;\">s</th><th style = \"text-align: left;\">S</th><th style = \"text-align: left;\">N</th><th style = \"text-align: left;\">p</th><th style = \"text-align: left;\">profit_mean</th><th style = \"text-align: left;\">profit_std</th><th style = \"text-align: left;\">lost_mean</th><th style = \"text-align: left;\">lost_std</th></tr><tr class = \"subheader headerLastRow\"><th class = \"rowLabel\" style = \"font-weight: bold; text-align: right;\"></th><th title = \"Int64\" style = \"text-align: left;\">Int64</th><th title = \"Int64\" style = \"text-align: left;\">Int64</th><th title = \"Int64\" style = \"text-align: left;\">Int64</th><th title = \"Int64\" style = \"text-align: left;\">Int64</th><th title = \"Float64\" style = \"text-align: left;\">Float64</th><th title = \"Float64\" style = \"text-align: left;\">Float64</th><th title = \"Float64\" style = \"text-align: left;\">Float64</th><th title = \"Float64\" style = \"text-align: left;\">Float64</th><th title = \"Float64\" style = \"text-align: left;\">Float64</th></tr></thead><tbody><tr><td class = \"rowLabel\" style = \"font-weight: bold; text-align: right;\">66</td><td style = \"text-align: right;\">250</td><td style = \"text-align: right;\">35</td><td style = \"text-align: right;\">230</td><td style = \"text-align: right;\">1000</td><td style = \"text-align: right;\">0.65</td><td style = \"text-align: right;\">22382.7</td><td style = \"text-align: right;\">579.939</td><td style = \"text-align: right;\">214.513</td><td style = \"text-align: right;\">97.1942</td></tr></tbody></table></div>"
      ],
      "text/latex": [
       "\\begin{tabular}{r|ccccccccc}\n",
       "\t& m & s & S & N & p & profit\\_mean & profit\\_std & lost\\_mean & lost\\_std\\\\\n",
       "\t\\hline\n",
       "\t& Int64 & Int64 & Int64 & Int64 & Float64 & Float64 & Float64 & Float64 & Float64\\\\\n",
       "\t\\hline\n",
       "\t66 & 250 & 35 & 230 & 1000 & 0.65 & 22382.7 & 579.939 & 214.513 & 97.1942 \\\\\n",
       "\\end{tabular}\n"
      ],
      "text/plain": [
       "\u001b[1mDataFrameRow\u001b[0m\n",
       "\u001b[1m Row \u001b[0m│\u001b[1m m     \u001b[0m\u001b[1m s     \u001b[0m\u001b[1m S     \u001b[0m\u001b[1m N     \u001b[0m\u001b[1m p       \u001b[0m\u001b[1m profit_mean \u001b[0m\u001b[1m profit_std \u001b[0m\u001b[1m lost_mean\u001b[0m ⋯\n",
       "     │\u001b[90m Int64 \u001b[0m\u001b[90m Int64 \u001b[0m\u001b[90m Int64 \u001b[0m\u001b[90m Int64 \u001b[0m\u001b[90m Float64 \u001b[0m\u001b[90m Float64     \u001b[0m\u001b[90m Float64    \u001b[0m\u001b[90m Float64  \u001b[0m ⋯\n",
       "─────┼──────────────────────────────────────────────────────────────────────────\n",
       "  66 │   250     35    230   1000     0.65      22382.7     579.939    214.513 ⋯\n",
       "\u001b[36m                                                                1 column omitted\u001b[0m"
      ]
     },
     "execution_count": 33,
     "metadata": {},
     "output_type": "execute_result"
    }
   ],
   "source": [
    "df[66,:]"
   ]
  },
  {
   "cell_type": "code",
   "execution_count": 34,
   "metadata": {},
   "outputs": [
    {
     "data": {
      "text/html": [
       "<div><div style = \"float: left;\"><span>4×9 DataFrame</span></div><div style = \"clear: both;\"></div></div><div class = \"data-frame\" style = \"overflow-x: scroll;\"><table class = \"data-frame\" style = \"margin-bottom: 6px;\"><thead><tr class = \"header\"><th class = \"rowNumber\" style = \"font-weight: bold; text-align: right;\">Row</th><th style = \"text-align: left;\">m</th><th style = \"text-align: left;\">s</th><th style = \"text-align: left;\">S</th><th style = \"text-align: left;\">N</th><th style = \"text-align: left;\">p</th><th style = \"text-align: left;\">profit_mean</th><th style = \"text-align: left;\">profit_std</th><th style = \"text-align: left;\">lost_mean</th><th style = \"text-align: left;\">lost_std</th></tr><tr class = \"subheader headerLastRow\"><th class = \"rowNumber\" style = \"font-weight: bold; text-align: right;\"></th><th title = \"Int64\" style = \"text-align: left;\">Int64</th><th title = \"Int64\" style = \"text-align: left;\">Int64</th><th title = \"Int64\" style = \"text-align: left;\">Int64</th><th title = \"Int64\" style = \"text-align: left;\">Int64</th><th title = \"Float64\" style = \"text-align: left;\">Float64</th><th title = \"Float64\" style = \"text-align: left;\">Float64</th><th title = \"Float64\" style = \"text-align: left;\">Float64</th><th title = \"Float64\" style = \"text-align: left;\">Float64</th><th title = \"Float64\" style = \"text-align: left;\">Float64</th></tr></thead><tbody><tr><td class = \"rowNumber\" style = \"font-weight: bold; text-align: right;\">1</td><td style = \"text-align: right;\">250</td><td style = \"text-align: right;\">35</td><td style = \"text-align: right;\">230</td><td style = \"text-align: right;\">1000</td><td style = \"text-align: right;\">0.65</td><td style = \"text-align: right;\">22382.7</td><td style = \"text-align: right;\">579.939</td><td style = \"text-align: right;\">214.513</td><td style = \"text-align: right;\">97.1942</td></tr><tr><td class = \"rowNumber\" style = \"font-weight: bold; text-align: right;\">2</td><td style = \"text-align: right;\">250</td><td style = \"text-align: right;\">35</td><td style = \"text-align: right;\">230</td><td style = \"text-align: right;\">1000</td><td style = \"text-align: right;\">0.73</td><td style = \"text-align: right;\">23931.3</td><td style = \"text-align: right;\">648.672</td><td style = \"text-align: right;\">212.922</td><td style = \"text-align: right;\">98.323</td></tr><tr><td class = \"rowNumber\" style = \"font-weight: bold; text-align: right;\">3</td><td style = \"text-align: right;\">250</td><td style = \"text-align: right;\">35</td><td style = \"text-align: right;\">230</td><td style = \"text-align: right;\">1000</td><td style = \"text-align: right;\">0.81</td><td style = \"text-align: right;\">25494.5</td><td style = \"text-align: right;\">627.214</td><td style = \"text-align: right;\">207.375</td><td style = \"text-align: right;\">96.3676</td></tr><tr><td class = \"rowNumber\" style = \"font-weight: bold; text-align: right;\">4</td><td style = \"text-align: right;\">250</td><td style = \"text-align: right;\">35</td><td style = \"text-align: right;\">230</td><td style = \"text-align: right;\">1000</td><td style = \"text-align: right;\">0.89</td><td style = \"text-align: right;\">26986.2</td><td style = \"text-align: right;\">702.371</td><td style = \"text-align: right;\">208.06</td><td style = \"text-align: right;\">98.825</td></tr></tbody></table></div>"
      ],
      "text/latex": [
       "\\begin{tabular}{r|ccccccccc}\n",
       "\t& m & s & S & N & p & profit\\_mean & profit\\_std & lost\\_mean & lost\\_std\\\\\n",
       "\t\\hline\n",
       "\t& Int64 & Int64 & Int64 & Int64 & Float64 & Float64 & Float64 & Float64 & Float64\\\\\n",
       "\t\\hline\n",
       "\t1 & 250 & 35 & 230 & 1000 & 0.65 & 22382.7 & 579.939 & 214.513 & 97.1942 \\\\\n",
       "\t2 & 250 & 35 & 230 & 1000 & 0.73 & 23931.3 & 648.672 & 212.922 & 98.323 \\\\\n",
       "\t3 & 250 & 35 & 230 & 1000 & 0.81 & 25494.5 & 627.214 & 207.375 & 96.3676 \\\\\n",
       "\t4 & 250 & 35 & 230 & 1000 & 0.89 & 26986.2 & 702.371 & 208.06 & 98.825 \\\\\n",
       "\\end{tabular}\n"
      ],
      "text/plain": [
       "\u001b[1m4×9 DataFrame\u001b[0m\n",
       "\u001b[1m Row \u001b[0m│\u001b[1m m     \u001b[0m\u001b[1m s     \u001b[0m\u001b[1m S     \u001b[0m\u001b[1m N     \u001b[0m\u001b[1m p       \u001b[0m\u001b[1m profit_mean \u001b[0m\u001b[1m profit_std \u001b[0m\u001b[1m lost_mean\u001b[0m ⋯\n",
       "     │\u001b[90m Int64 \u001b[0m\u001b[90m Int64 \u001b[0m\u001b[90m Int64 \u001b[0m\u001b[90m Int64 \u001b[0m\u001b[90m Float64 \u001b[0m\u001b[90m Float64     \u001b[0m\u001b[90m Float64    \u001b[0m\u001b[90m Float64  \u001b[0m ⋯\n",
       "─────┼──────────────────────────────────────────────────────────────────────────\n",
       "   1 │   250     35    230   1000     0.65      22382.7     579.939    214.513 ⋯\n",
       "   2 │   250     35    230   1000     0.73      23931.3     648.672    212.922\n",
       "   3 │   250     35    230   1000     0.81      25494.5     627.214    207.375\n",
       "   4 │   250     35    230   1000     0.89      26986.2     702.371    208.06\n",
       "\u001b[36m                                                                1 column omitted\u001b[0m"
      ]
     },
     "execution_count": 34,
     "metadata": {},
     "output_type": "execute_result"
    }
   ],
   "source": [
    "df[[66, 74,82,90],:]"
   ]
  },
  {
   "cell_type": "code",
   "execution_count": 35,
   "metadata": {},
   "outputs": [
    {
     "data": {
      "text/html": [
       "<div><div style = \"float: left;\"><span>0×9 DataFrame</span></div><div style = \"clear: both;\"></div></div><div class = \"data-frame\" style = \"overflow-x: scroll;\"><table class = \"data-frame\" style = \"margin-bottom: 6px;\"><thead><tr class = \"header\"><th class = \"rowNumber\" style = \"font-weight: bold; text-align: right;\">Row</th><th style = \"text-align: left;\">m</th><th style = \"text-align: left;\">s</th><th style = \"text-align: left;\">S</th><th style = \"text-align: left;\">N</th><th style = \"text-align: left;\">p</th><th style = \"text-align: left;\">profit_mean</th><th style = \"text-align: left;\">profit_std</th><th style = \"text-align: left;\">lost_mean</th><th style = \"text-align: left;\">lost_std</th></tr><tr class = \"subheader headerLastRow\"><th class = \"rowNumber\" style = \"font-weight: bold; text-align: right;\"></th><th title = \"Int64\" style = \"text-align: left;\">Int64</th><th title = \"Int64\" style = \"text-align: left;\">Int64</th><th title = \"Int64\" style = \"text-align: left;\">Int64</th><th title = \"Int64\" style = \"text-align: left;\">Int64</th><th title = \"Float64\" style = \"text-align: left;\">Float64</th><th title = \"Float64\" style = \"text-align: left;\">Float64</th><th title = \"Float64\" style = \"text-align: left;\">Float64</th><th title = \"Float64\" style = \"text-align: left;\">Float64</th><th title = \"Float64\" style = \"text-align: left;\">Float64</th></tr></thead><tbody></tbody></table></div>"
      ],
      "text/latex": [
       "\\begin{tabular}{r|ccccccccc}\n",
       "\t& m & s & S & N & p & profit\\_mean & profit\\_std & lost\\_mean & lost\\_std\\\\\n",
       "\t\\hline\n",
       "\t& Int64 & Int64 & Int64 & Int64 & Float64 & Float64 & Float64 & Float64 & Float64\\\\\n",
       "\t\\hline\n",
       "\\end{tabular}\n"
      ],
      "text/plain": [
       "\u001b[1m0×9 DataFrame\u001b[0m\n",
       "\u001b[1m Row \u001b[0m│\u001b[1m m     \u001b[0m\u001b[1m s     \u001b[0m\u001b[1m S     \u001b[0m\u001b[1m N     \u001b[0m\u001b[1m p       \u001b[0m\u001b[1m profit_mean \u001b[0m\u001b[1m profit_std \u001b[0m\u001b[1m lost_mean\u001b[0m ⋯\n",
       "     │\u001b[90m Int64 \u001b[0m\u001b[90m Int64 \u001b[0m\u001b[90m Int64 \u001b[0m\u001b[90m Int64 \u001b[0m\u001b[90m Float64 \u001b[0m\u001b[90m Float64     \u001b[0m\u001b[90m Float64    \u001b[0m\u001b[90m Float64  \u001b[0m ⋯\n",
       "─────┴──────────────────────────────────────────────────────────────────────────\n",
       "\u001b[36m                                                                1 column omitted\u001b[0m"
      ]
     },
     "execution_count": 35,
     "metadata": {},
     "output_type": "execute_result"
    }
   ],
   "source": [
    "df[findall(<=(-500), df.profit_mean),:]"
   ]
  },
  {
   "cell_type": "code",
   "execution_count": 36,
   "metadata": {},
   "outputs": [
    {
     "data": {
      "text/plain": [
       "101-element Vector{Int64}:\n",
       "   1\n",
       "   2\n",
       "   3\n",
       "   4\n",
       "   5\n",
       "   6\n",
       "   7\n",
       "   8\n",
       "   9\n",
       "  10\n",
       "  11\n",
       "  12\n",
       "  13\n",
       "   ⋮\n",
       "  90\n",
       "  91\n",
       "  92\n",
       "  93\n",
       "  94\n",
       "  95\n",
       "  96\n",
       "  97\n",
       "  98\n",
       "  99\n",
       " 100\n",
       " 101"
      ]
     },
     "execution_count": 36,
     "metadata": {},
     "output_type": "execute_result"
    }
   ],
   "source": [
    "more500 = findall(>(-500), df.profit_mean)"
   ]
  },
  {
   "cell_type": "code",
   "execution_count": 37,
   "metadata": {},
   "outputs": [
    {
     "data": {
      "application/vnd.vegalite.v4+json": {
       "data": {
        "values": [
         {
          "N": 1000,
          "S": 230,
          "lost_mean": 209.203,
          "lost_std": 94.67962834223117,
          "m": 250,
          "p": 0,
          "profit_mean": 9951.182999999997,
          "profit_std": 287.8753016156131,
          "s": 35
         },
         {
          "N": 1000,
          "S": 230,
          "lost_mean": 204.686,
          "lost_std": 94.70490178666793,
          "m": 250,
          "p": 0.01,
          "profit_mean": 10150.79686,
          "profit_std": 294.5694377211931,
          "s": 35
         },
         {
          "N": 1000,
          "S": 230,
          "lost_mean": 212.174,
          "lost_std": 95.84513557825466,
          "m": 250,
          "p": 0.02,
          "profit_mean": 10335.136739999998,
          "profit_std": 291.757917757079,
          "s": 35
         },
         {
          "N": 1000,
          "S": 230,
          "lost_mean": 209.304,
          "lost_std": 98.43403295020906,
          "m": 250,
          "p": 0.03,
          "profit_mean": 10532.661240000001,
          "profit_std": 312.7849776480716,
          "s": 35
         },
         {
          "N": 1000,
          "S": 230,
          "lost_mean": 210.436,
          "lost_std": 94.4455921357576,
          "m": 250,
          "p": 0.04,
          "profit_mean": 10717.045340000002,
          "profit_std": 300.2750931666837,
          "s": 35
         },
         {
          "N": 1000,
          "S": 230,
          "lost_mean": 209.943,
          "lost_std": 95.88991932225007,
          "m": 250,
          "p": 0.05,
          "profit_mean": 10911.384599999996,
          "profit_std": 312.332194374007,
          "s": 35
         },
         {
          "N": 1000,
          "S": 230,
          "lost_mean": 211.403,
          "lost_std": 96.79979747805153,
          "m": 250,
          "p": 0.06,
          "profit_mean": 11086.432420000003,
          "profit_std": 317.7599218965588,
          "s": 35
         },
         {
          "N": 1000,
          "S": 230,
          "lost_mean": 212.381,
          "lost_std": 98.49925859082872,
          "m": 250,
          "p": 0.07,
          "profit_mean": 11275.142600000001,
          "profit_std": 323.31495962599394,
          "s": 35
         },
         {
          "N": 1000,
          "S": 230,
          "lost_mean": 205.078,
          "lost_std": 99.55121476084739,
          "m": 250,
          "p": 0.08,
          "profit_mean": 11492.73186,
          "profit_std": 320.62758795134243,
          "s": 35
         },
         {
          "N": 1000,
          "S": 230,
          "lost_mean": 208.672,
          "lost_std": 95.93979810725507,
          "m": 250,
          "p": 0.09,
          "profit_mean": 11685.381899999998,
          "profit_std": 326.71427975248366,
          "s": 35
         },
         {
          "N": 1000,
          "S": 230,
          "lost_mean": 213.137,
          "lost_std": 99.85490089240605,
          "m": 250,
          "p": 0.1,
          "profit_mean": 11851.555,
          "profit_std": 341.76943353772964,
          "s": 35
         },
         {
          "N": 1000,
          "S": 230,
          "lost_mean": 209.323,
          "lost_std": 95.95015947930521,
          "m": 250,
          "p": 0.11,
          "profit_mean": 12052.02818,
          "profit_std": 335.7474905468336,
          "s": 35
         },
         {
          "N": 1000,
          "S": 230,
          "lost_mean": 211.184,
          "lost_std": 93.08298763247014,
          "m": 250,
          "p": 0.12,
          "profit_mean": 12247.288040000003,
          "profit_std": 338.43354696286883,
          "s": 35
         },
         {
          "N": 1000,
          "S": 230,
          "lost_mean": 207.645,
          "lost_std": 95.03839893575791,
          "m": 250,
          "p": 0.13,
          "profit_mean": 12442.448179999996,
          "profit_std": 353.82065867327685,
          "s": 35
         },
         {
          "N": 1000,
          "S": 230,
          "lost_mean": 211.245,
          "lost_std": 96.74845341522642,
          "m": 250,
          "p": 0.14,
          "profit_mean": 12636.472619999999,
          "profit_std": 347.1972056511219,
          "s": 35
         },
         {
          "N": 1000,
          "S": 230,
          "lost_mean": 204.311,
          "lost_std": 96.08633025494241,
          "m": 250,
          "p": 0.15,
          "profit_mean": 12834.318100000002,
          "profit_std": 341.085610068478,
          "s": 35
         },
         {
          "N": 1000,
          "S": 230,
          "lost_mean": 212.598,
          "lost_std": 96.64052870192602,
          "m": 250,
          "p": 0.16,
          "profit_mean": 13015.817939999997,
          "profit_std": 362.66969529537784,
          "s": 35
         },
         {
          "N": 1000,
          "S": 230,
          "lost_mean": 209.28,
          "lost_std": 95.16680261688063,
          "m": 250,
          "p": 0.17,
          "profit_mean": 13212.403299999996,
          "profit_std": 356.7423999726527,
          "s": 35
         },
         {
          "N": 1000,
          "S": 230,
          "lost_mean": 208.769,
          "lost_std": 93.3077594682081,
          "m": 250,
          "p": 0.18,
          "profit_mean": 13408.679979999995,
          "profit_std": 367.71799408183864,
          "s": 35
         },
         {
          "N": 1000,
          "S": 230,
          "lost_mean": 204.466,
          "lost_std": 98.91951230123362,
          "m": 250,
          "p": 0.19,
          "profit_mean": 13600.674579999999,
          "profit_std": 368.81220843583105,
          "s": 35
         },
         {
          "N": 1000,
          "S": 230,
          "lost_mean": 204.002,
          "lost_std": 92.93320491932137,
          "m": 250,
          "p": 0.2,
          "profit_mean": 13797.083299999997,
          "profit_std": 371.8217251942609,
          "s": 35
         },
         {
          "N": 1000,
          "S": 230,
          "lost_mean": 213.745,
          "lost_std": 97.71497424239126,
          "m": 250,
          "p": 0.21,
          "profit_mean": 13968.720440000003,
          "profit_std": 378.86779502659584,
          "s": 35
         },
         {
          "N": 1000,
          "S": 230,
          "lost_mean": 207.038,
          "lost_std": 98.35704684802542,
          "m": 250,
          "p": 0.22,
          "profit_mean": 14168.449540000007,
          "profit_std": 379.0086890758353,
          "s": 35
         },
         {
          "N": 1000,
          "S": 230,
          "lost_mean": 206.546,
          "lost_std": 94.84908134627467,
          "m": 250,
          "p": 0.23,
          "profit_mean": 14381.039180000003,
          "profit_std": 384.2001878928543,
          "s": 35
         },
         {
          "N": 1000,
          "S": 230,
          "lost_mean": 206.788,
          "lost_std": 95.29819936810351,
          "m": 250,
          "p": 0.24,
          "profit_mean": 14558.0107,
          "profit_std": 392.1245185171825,
          "s": 35
         },
         {
          "N": 1000,
          "S": 230,
          "lost_mean": 212.219,
          "lost_std": 101.92394973964919,
          "m": 250,
          "p": 0.25,
          "profit_mean": 14739.464899999997,
          "profit_std": 398.2037534318795,
          "s": 35
         },
         {
          "N": 1000,
          "S": 230,
          "lost_mean": 208.471,
          "lost_std": 95.66445969035652,
          "m": 250,
          "p": 0.26,
          "profit_mean": 14923.84748,
          "profit_std": 401.07982078120983,
          "s": 35
         },
         {
          "N": 1000,
          "S": 230,
          "lost_mean": 210.839,
          "lost_std": 93.47682598374848,
          "m": 250,
          "p": 0.27,
          "profit_mean": 15127.723460000003,
          "profit_std": 398.68410088179377,
          "s": 35
         },
         {
          "N": 1000,
          "S": 230,
          "lost_mean": 211.479,
          "lost_std": 100.72313889921078,
          "m": 250,
          "p": 0.28,
          "profit_mean": 15317.681020000004,
          "profit_std": 425.8404148766319,
          "s": 35
         },
         {
          "N": 1000,
          "S": 230,
          "lost_mean": 206.755,
          "lost_std": 98.61411521034256,
          "m": 250,
          "p": 0.29,
          "profit_mean": 15516.495879999997,
          "profit_std": 419.14158762678744,
          "s": 35
         },
         {
          "N": 1000,
          "S": 230,
          "lost_mean": 209.136,
          "lost_std": 99.70900355228403,
          "m": 250,
          "p": 0.3,
          "profit_mean": 15721.332399999998,
          "profit_std": 433.1722118226602,
          "s": 35
         },
         {
          "N": 1000,
          "S": 230,
          "lost_mean": 203.336,
          "lost_std": 95.03585069286704,
          "m": 250,
          "p": 0.31,
          "profit_mean": 15910.764480000003,
          "profit_std": 412.75039851828893,
          "s": 35
         },
         {
          "N": 1000,
          "S": 230,
          "lost_mean": 208.547,
          "lost_std": 95.27964106251136,
          "m": 250,
          "p": 0.32,
          "profit_mean": 16070.278620000003,
          "profit_std": 428.84033471208306,
          "s": 35
         },
         {
          "N": 1000,
          "S": 230,
          "lost_mean": 206.398,
          "lost_std": 95.53006641675485,
          "m": 250,
          "p": 0.33,
          "profit_mean": 16288.631300000003,
          "profit_std": 422.48867176017353,
          "s": 35
         },
         {
          "N": 1000,
          "S": 230,
          "lost_mean": 212.058,
          "lost_std": 96.74174694309382,
          "m": 250,
          "p": 0.34,
          "profit_mean": 16457.374319999995,
          "profit_std": 456.15330292995964,
          "s": 35
         },
         {
          "N": 1000,
          "S": 230,
          "lost_mean": 207.693,
          "lost_std": 94.81148648222413,
          "m": 250,
          "p": 0.35,
          "profit_mean": 16676.84340000001,
          "profit_std": 431.63798257850806,
          "s": 35
         },
         {
          "N": 1000,
          "S": 230,
          "lost_mean": 211.012,
          "lost_std": 102.60485179372178,
          "m": 250,
          "p": 0.36,
          "profit_mean": 16864.446620000006,
          "profit_std": 457.6404269154147,
          "s": 35
         },
         {
          "N": 1000,
          "S": 230,
          "lost_mean": 213.446,
          "lost_std": 100.22171159721569,
          "m": 250,
          "p": 0.37,
          "profit_mean": 17043.841099999998,
          "profit_std": 472.21917366151456,
          "s": 35
         },
         {
          "N": 1000,
          "S": 230,
          "lost_mean": 209.051,
          "lost_std": 96.21301025507071,
          "m": 250,
          "p": 0.38,
          "profit_mean": 17226.07372,
          "profit_std": 447.90966805651806,
          "s": 35
         },
         {
          "N": 1000,
          "S": 230,
          "lost_mean": 206.864,
          "lost_std": 99.9160183089514,
          "m": 250,
          "p": 0.39,
          "profit_mean": 17442.28089999999,
          "profit_std": 472.5728699299017,
          "s": 35
         },
         {
          "N": 1000,
          "S": 230,
          "lost_mean": 208.451,
          "lost_std": 95.44429376454212,
          "m": 250,
          "p": 0.4,
          "profit_mean": 17635.363100000002,
          "profit_std": 464.3338872053137,
          "s": 35
         },
         {
          "N": 1000,
          "S": 230,
          "lost_mean": 214.676,
          "lost_std": 98.97607431741919,
          "m": 250,
          "p": 0.41,
          "profit_mean": 17805.405979999996,
          "profit_std": 454.10976192603044,
          "s": 35
         },
         {
          "N": 1000,
          "S": 230,
          "lost_mean": 211.919,
          "lost_std": 99.67186624077989,
          "m": 250,
          "p": 0.42,
          "profit_mean": 17980.802800000005,
          "profit_std": 479.10536914096406,
          "s": 35
         },
         {
          "N": 1000,
          "S": 230,
          "lost_mean": 212.654,
          "lost_std": 97.7412688665317,
          "m": 250,
          "p": 0.43,
          "profit_mean": 18175.695659999998,
          "profit_std": 465.51663213031924,
          "s": 35
         },
         {
          "N": 1000,
          "S": 230,
          "lost_mean": 207.781,
          "lost_std": 95.11077277626389,
          "m": 250,
          "p": 0.44,
          "profit_mean": 18391.573640000002,
          "profit_std": 474.22508687475835,
          "s": 35
         },
         {
          "N": 1000,
          "S": 230,
          "lost_mean": 206.054,
          "lost_std": 94.75562100325085,
          "m": 250,
          "p": 0.45,
          "profit_mean": 18591.453900000008,
          "profit_std": 494.76625773650386,
          "s": 35
         },
         {
          "N": 1000,
          "S": 230,
          "lost_mean": 212.695,
          "lost_std": 94.27700742561322,
          "m": 250,
          "p": 0.46,
          "profit_mean": 18772.434759999996,
          "profit_std": 482.9532887205851,
          "s": 35
         },
         {
          "N": 1000,
          "S": 230,
          "lost_mean": 212.921,
          "lost_std": 98.57663065408104,
          "m": 250,
          "p": 0.47,
          "profit_mean": 18934.243399999996,
          "profit_std": 505.603153522297,
          "s": 35
         },
         {
          "N": 1000,
          "S": 230,
          "lost_mean": 210.917,
          "lost_std": 94.74988998754908,
          "m": 250,
          "p": 0.48,
          "profit_mean": 19142.441460000005,
          "profit_std": 483.3864734128865,
          "s": 35
         },
         {
          "N": 1000,
          "S": 230,
          "lost_mean": 206.595,
          "lost_std": 94.63100973255544,
          "m": 250,
          "p": 0.49,
          "profit_mean": 19341.964020000007,
          "profit_std": 487.6584922304586,
          "s": 35
         },
         {
          "N": 1000,
          "S": 230,
          "lost_mean": 204.025,
          "lost_std": 93.54120125020492,
          "m": 250,
          "p": 0.5,
          "profit_mean": 19557.246799999997,
          "profit_std": 498.8584293186419,
          "s": 35
         },
         {
          "N": 1000,
          "S": 230,
          "lost_mean": 207.003,
          "lost_std": 96.1169780239915,
          "m": 250,
          "p": 0.51,
          "profit_mean": 19724.361120000005,
          "profit_std": 502.1554196328188,
          "s": 35
         },
         {
          "N": 1000,
          "S": 230,
          "lost_mean": 207.98,
          "lost_std": 93.34242555455909,
          "m": 250,
          "p": 0.52,
          "profit_mean": 19920.180780000002,
          "profit_std": 510.7580386384781,
          "s": 35
         },
         {
          "N": 1000,
          "S": 230,
          "lost_mean": 209.973,
          "lost_std": 97.44822434209577,
          "m": 250,
          "p": 0.53,
          "profit_mean": 20094.274660000003,
          "profit_std": 540.5160838828202,
          "s": 35
         },
         {
          "N": 1000,
          "S": 230,
          "lost_mean": 212.62,
          "lost_std": 102.59550398256951,
          "m": 250,
          "p": 0.54,
          "profit_mean": 20298.93554,
          "profit_std": 546.127328599799,
          "s": 35
         },
         {
          "N": 1000,
          "S": 230,
          "lost_mean": 207.474,
          "lost_std": 95.08331168065276,
          "m": 250,
          "p": 0.55,
          "profit_mean": 20502.088099999997,
          "profit_std": 511.3977433468886,
          "s": 35
         },
         {
          "N": 1000,
          "S": 230,
          "lost_mean": 205.334,
          "lost_std": 91.45223866016597,
          "m": 250,
          "p": 0.56,
          "profit_mean": 20718.972599999997,
          "profit_std": 528.7247023903439,
          "s": 35
         },
         {
          "N": 1000,
          "S": 230,
          "lost_mean": 210.997,
          "lost_std": 95.46601883262838,
          "m": 250,
          "p": 0.57,
          "profit_mean": 20864.76466,
          "profit_std": 536.8129883689157,
          "s": 35
         },
         {
          "N": 1000,
          "S": 230,
          "lost_mean": 207.618,
          "lost_std": 92.92263821423008,
          "m": 250,
          "p": 0.58,
          "profit_mean": 21076.443079999994,
          "profit_std": 540.123563474075,
          "s": 35
         },
         {
          "N": 1000,
          "S": 230,
          "lost_mean": 210.574,
          "lost_std": 93.73469323957227,
          "m": 250,
          "p": 0.59,
          "profit_mean": 21263.058139999997,
          "profit_std": 544.0582580234066,
          "s": 35
         },
         {
          "N": 1000,
          "S": 230,
          "lost_mean": 212.114,
          "lost_std": 97.74161051684396,
          "m": 250,
          "p": 0.6,
          "profit_mean": 21442.624299999992,
          "profit_std": 555.9103393217965,
          "s": 35
         },
         {
          "N": 1000,
          "S": 230,
          "lost_mean": 210.061,
          "lost_std": 93.1368979554331,
          "m": 250,
          "p": 0.61,
          "profit_mean": 21638.432579999993,
          "profit_std": 517.9774961844357,
          "s": 35
         },
         {
          "N": 1000,
          "S": 230,
          "lost_mean": 216.841,
          "lost_std": 101.01023109460637,
          "m": 250,
          "p": 0.62,
          "profit_mean": 21797.397760000007,
          "profit_std": 579.5856567290713,
          "s": 35
         },
         {
          "N": 1000,
          "S": 230,
          "lost_mean": 206.437,
          "lost_std": 93.55756007960046,
          "m": 250,
          "p": 0.63,
          "profit_mean": 22008.900719999998,
          "profit_std": 563.3918774123536,
          "s": 35
         },
         {
          "N": 1000,
          "S": 230,
          "lost_mean": 206.505,
          "lost_std": 93.30579803499323,
          "m": 250,
          "p": 0.64,
          "profit_mean": 22222.851459999994,
          "profit_std": 549.9755154570709,
          "s": 35
         },
         {
          "N": 1000,
          "S": 230,
          "lost_mean": 214.513,
          "lost_std": 97.19418985485468,
          "m": 250,
          "p": 0.65,
          "profit_mean": 22382.692300000013,
          "profit_std": 579.938849707545,
          "s": 35
         },
         {
          "N": 1000,
          "S": 230,
          "lost_mean": 210.633,
          "lost_std": 94.85728340625835,
          "m": 250,
          "p": 0.66,
          "profit_mean": 22603.92198,
          "profit_std": 566.5442801132216,
          "s": 35
         },
         {
          "N": 1000,
          "S": 230,
          "lost_mean": 207.158,
          "lost_std": 91.72355338868115,
          "m": 250,
          "p": 0.67,
          "profit_mean": 22819.43056,
          "profit_std": 593.9904255138199,
          "s": 35
         },
         {
          "N": 1000,
          "S": 230,
          "lost_mean": 207.661,
          "lost_std": 98.76266573530276,
          "m": 250,
          "p": 0.68,
          "profit_mean": 22992.92800000001,
          "profit_std": 591.1917794137928,
          "s": 35
         },
         {
          "N": 1000,
          "S": 230,
          "lost_mean": 214.584,
          "lost_std": 96.77512267296989,
          "m": 250,
          "p": 0.69,
          "profit_mean": 23157.096719999998,
          "profit_std": 585.7499433941312,
          "s": 35
         },
         {
          "N": 1000,
          "S": 230,
          "lost_mean": 212.61,
          "lost_std": 98.90855778345373,
          "m": 250,
          "p": 0.7,
          "profit_mean": 23372.411899999996,
          "profit_std": 620.6134443562319,
          "s": 35
         },
         {
          "N": 1000,
          "S": 230,
          "lost_mean": 214.898,
          "lost_std": 98.96501235118232,
          "m": 250,
          "p": 0.71,
          "profit_mean": 23511.572359999995,
          "profit_std": 624.6370382319334,
          "s": 35
         },
         {
          "N": 1000,
          "S": 230,
          "lost_mean": 204.557,
          "lost_std": 94.52350736427655,
          "m": 250,
          "p": 0.72,
          "profit_mean": 23753.85134,
          "profit_std": 611.8187390091994,
          "s": 35
         },
         {
          "N": 1000,
          "S": 230,
          "lost_mean": 212.922,
          "lost_std": 98.32301526769474,
          "m": 250,
          "p": 0.73,
          "profit_mean": 23931.33494,
          "profit_std": 648.6723151009104,
          "s": 35
         },
         {
          "N": 1000,
          "S": 230,
          "lost_mean": 204.658,
          "lost_std": 97.43681526491393,
          "m": 250,
          "p": 0.74,
          "profit_mean": 24133.45710000001,
          "profit_std": 593.7001171031033,
          "s": 35
         },
         {
          "N": 1000,
          "S": 230,
          "lost_mean": 208.909,
          "lost_std": 96.83343137797209,
          "m": 250,
          "p": 0.75,
          "profit_mean": 24313.50960000001,
          "profit_std": 619.702039811058,
          "s": 35
         },
         {
          "N": 1000,
          "S": 230,
          "lost_mean": 210.338,
          "lost_std": 95.29613375740439,
          "m": 250,
          "p": 0.76,
          "profit_mean": 24513.23324,
          "profit_std": 616.363198883289,
          "s": 35
         },
         {
          "N": 1000,
          "S": 230,
          "lost_mean": 205.362,
          "lost_std": 90.91849717812723,
          "m": 250,
          "p": 0.77,
          "profit_mean": 24723.71622,
          "profit_std": 628.9877455249283,
          "s": 35
         },
         {
          "N": 1000,
          "S": 230,
          "lost_mean": 209.068,
          "lost_std": 97.32068995179131,
          "m": 250,
          "p": 0.78,
          "profit_mean": 24893.25202,
          "profit_std": 648.2650890819608,
          "s": 35
         },
         {
          "N": 1000,
          "S": 230,
          "lost_mean": 203.513,
          "lost_std": 90.22127082184505,
          "m": 250,
          "p": 0.79,
          "profit_mean": 25072.484739999996,
          "profit_std": 636.4735424755717,
          "s": 35
         },
         {
          "N": 1000,
          "S": 230,
          "lost_mean": 209.582,
          "lost_std": 94.83733123298755,
          "m": 250,
          "p": 0.8,
          "profit_mean": 25304.86600000001,
          "profit_std": 660.0920988793936,
          "s": 35
         },
         {
          "N": 1000,
          "S": 230,
          "lost_mean": 207.375,
          "lost_std": 96.3675935576275,
          "m": 250,
          "p": 0.81,
          "profit_mean": 25494.531039999998,
          "profit_std": 627.2142325537873,
          "s": 35
         },
         {
          "N": 1000,
          "S": 230,
          "lost_mean": 213.617,
          "lost_std": 97.5458738671632,
          "m": 250,
          "p": 0.82,
          "profit_mean": 25675.98876000001,
          "profit_std": 666.9850740574919,
          "s": 35
         },
         {
          "N": 1000,
          "S": 230,
          "lost_mean": 211.105,
          "lost_std": 99.8997193636145,
          "m": 250,
          "p": 0.83,
          "profit_mean": 25860.431399999983,
          "profit_std": 674.0373157719777,
          "s": 35
         },
         {
          "N": 1000,
          "S": 230,
          "lost_mean": 211.899,
          "lost_std": 97.92390867858009,
          "m": 250,
          "p": 0.84,
          "profit_mean": 26045.22736000001,
          "profit_std": 663.5388854696918,
          "s": 35
         },
         {
          "N": 1000,
          "S": 230,
          "lost_mean": 209.897,
          "lost_std": 98.65942465407485,
          "m": 250,
          "p": 0.85,
          "profit_mean": 26250.962199999994,
          "profit_std": 650.526442570664,
          "s": 35
         },
         {
          "N": 1000,
          "S": 230,
          "lost_mean": 207.112,
          "lost_std": 96.58690639256693,
          "m": 250,
          "p": 0.86,
          "profit_mean": 26437.492099999996,
          "profit_std": 682.4361890724621,
          "s": 35
         },
         {
          "N": 1000,
          "S": 230,
          "lost_mean": 211.603,
          "lost_std": 95.35846384892969,
          "m": 250,
          "p": 0.87,
          "profit_mean": 26632.550740000002,
          "profit_std": 676.7963529005984,
          "s": 35
         },
         {
          "N": 1000,
          "S": 230,
          "lost_mean": 207.462,
          "lost_std": 95.76070524316674,
          "m": 250,
          "p": 0.88,
          "profit_mean": 26849.68821999999,
          "profit_std": 692.1884104366197,
          "s": 35
         },
         {
          "N": 1000,
          "S": 230,
          "lost_mean": 208.06,
          "lost_std": 98.8250413042605,
          "m": 250,
          "p": 0.89,
          "profit_mean": 26986.201520000006,
          "profit_std": 702.3708544793925,
          "s": 35
         },
         {
          "N": 1000,
          "S": 230,
          "lost_mean": 211.373,
          "lost_std": 96.96223773483439,
          "m": 250,
          "p": 0.9,
          "profit_mean": 27210.9626,
          "profit_std": 702.4283672605853,
          "s": 35
         },
         {
          "N": 1000,
          "S": 230,
          "lost_mean": 209.007,
          "lost_std": 96.73668868603026,
          "m": 250,
          "p": 0.91,
          "profit_mean": 27379.30342,
          "profit_std": 689.0751682615023,
          "s": 35
         },
         {
          "N": 1000,
          "S": 230,
          "lost_mean": 209.649,
          "lost_std": 92.24961675145751,
          "m": 250,
          "p": 0.92,
          "profit_mean": 27577.56424000001,
          "profit_std": 681.3460410123668,
          "s": 35
         },
         {
          "N": 1000,
          "S": 230,
          "lost_mean": 214.797,
          "lost_std": 100.21870873534832,
          "m": 250,
          "p": 0.93,
          "profit_mean": 27737.124999999996,
          "profit_std": 703.7485483346184,
          "s": 35
         },
         {
          "N": 1000,
          "S": 230,
          "lost_mean": 206.251,
          "lost_std": 93.58797309327575,
          "m": 250,
          "p": 0.94,
          "profit_mean": 27960.022800000013,
          "profit_std": 707.9608612478647,
          "s": 35
         },
         {
          "N": 1000,
          "S": 230,
          "lost_mean": 210.033,
          "lost_std": 97.35865970533705,
          "m": 250,
          "p": 0.95,
          "profit_mean": 28142.175099999997,
          "profit_std": 712.9853927678254,
          "s": 35
         },
         {
          "N": 1000,
          "S": 230,
          "lost_mean": 212.303,
          "lost_std": 97.5807213961251,
          "m": 250,
          "p": 0.96,
          "profit_mean": 28348.163080000006,
          "profit_std": 703.2032069306503,
          "s": 35
         },
         {
          "N": 1000,
          "S": 230,
          "lost_mean": 213.015,
          "lost_std": 98.13458703317689,
          "m": 250,
          "p": 0.97,
          "profit_mean": 28522.194419999993,
          "profit_std": 724.0322973011627,
          "s": 35
         },
         {
          "N": 1000,
          "S": 230,
          "lost_mean": 211.821,
          "lost_std": 98.45413234179244,
          "m": 250,
          "p": 0.98,
          "profit_mean": 28751.304440000004,
          "profit_std": 734.9215044661662,
          "s": 35
         },
         {
          "N": 1000,
          "S": 230,
          "lost_mean": 214.842,
          "lost_std": 94.99076945831251,
          "m": 250,
          "p": 0.99,
          "profit_mean": 28915.401379999996,
          "profit_std": 727.9481146676212,
          "s": 35
         },
         {
          "N": 1000,
          "S": 230,
          "lost_mean": 210.381,
          "lost_std": 96.49985523854978,
          "m": 250,
          "p": 1,
          "profit_mean": 29121.0862,
          "profit_std": 745.1793722496523,
          "s": 35
         }
        ]
       },
       "encoding": {
        "color": {
         "field": "profit_mean",
         "scale": {
          "scheme": "plasma"
         },
         "type": "quantitative"
        },
        "x": {
         "field": "S",
         "type": "quantitative"
        },
        "y": {
         "field": "s",
         "type": "quantitative"
        }
       },
       "mark": "point"
      },
      "image/png": "[encoded data removed]",
      "image/svg+xml": [
       "<?xml version=\"1.0\" encoding=\"utf-8\"?>\n",
       "<!DOCTYPE svg PUBLIC \"-//W3C//DTD SVG 1.1//EN\" \"http://www.w3.org/Graphics/SVG/1.1/DTD/svg11.dtd\">\n",
       "<svg xmlns=\"http://www.w3.org/2000/svg\" xmlns:xlink=\"http://www.w3.org/1999/xlink\" version=\"1.1\" class=\"marks\" width=\"326\" height=\"247\" viewBox=\"0 0 326 247\"><rect width=\"326\" height=\"247\" fill=\"white\"/><g fill=\"none\" stroke-miterlimit=\"10\" transform=\"translate(39,10)\"><g class=\"mark-group role-frame root\" role=\"graphics-object\" aria-roledescription=\"group mark container\"><g transform=\"translate(0,0)\"><path class=\"background\" aria-hidden=\"true\" d=\"M0.5,0.5h200v200h-200Z\" stroke=\"#ddd\"/><g><g class=\"mark-group role-axis\" aria-hidden=\"true\"><g transform=\"translate(0.5,200.5)\"><path class=\"background\" aria-hidden=\"true\" d=\"M0,0h0v0h0Z\" pointer-events=\"none\"/><g><g class=\"mark-rule role-axis-grid\" pointer-events=\"none\"><line transform=\"translate(0,-200)\" x2=\"0\" y2=\"200\" stroke=\"#ddd\" stroke-width=\"1\" opacity=\"1\"/><line transform=\"translate(42,-200)\" x2=\"0\" y2=\"200\" stroke=\"#ddd\" stroke-width=\"1\" opacity=\"1\"/><line transform=\"translate(83,-200)\" x2=\"0\" y2=\"200\" stroke=\"#ddd\" stroke-width=\"1\" opacity=\"1\"/><line transform=\"translate(125,-200)\" x2=\"0\" y2=\"200\" stroke=\"#ddd\" stroke-width=\"1\" opacity=\"1\"/><line transform=\"translate(167,-200)\" x2=\"0\" y2=\"200\" stroke=\"#ddd\" stroke-width=\"1\" opacity=\"1\"/></g></g><path class=\"foreground\" aria-hidden=\"true\" d=\"\" pointer-events=\"none\" display=\"none\"/></g></g><g class=\"mark-group role-axis\" aria-hidden=\"true\"><g transform=\"translate(0.5,0.5)\"><path class=\"background\" aria-hidden=\"true\" d=\"M0,0h0v0h0Z\" pointer-events=\"none\"/><g><g class=\"mark-rule role-axis-grid\" pointer-events=\"none\"><line transform=\"translate(0,200)\" x2=\"200\" y2=\"0\" stroke=\"#ddd\" stroke-width=\"1\" opacity=\"1\"/><line transform=\"translate(0,171)\" x2=\"200\" y2=\"0\" stroke=\"#ddd\" stroke-width=\"1\" opacity=\"1\"/><line transform=\"translate(0,143)\" x2=\"200\" y2=\"0\" stroke=\"#ddd\" stroke-width=\"1\" opacity=\"1\"/><line transform=\"translate(0,114)\" x2=\"200\" y2=\"0\" stroke=\"#ddd\" stroke-width=\"1\" opacity=\"1\"/><line transform=\"translate(0,86)\" x2=\"200\" y2=\"0\" stroke=\"#ddd\" stroke-width=\"1\" opacity=\"1\"/><line transform=\"translate(0,57)\" x2=\"200\" y2=\"0\" stroke=\"#ddd\" stroke-width=\"1\" opacity=\"1\"/><line transform=\"translate(0,29)\" x2=\"200\" y2=\"0\" stroke=\"#ddd\" stroke-width=\"1\" opacity=\"1\"/><line transform=\"translate(0,0)\" x2=\"200\" y2=\"0\" stroke=\"#ddd\" stroke-width=\"1\" opacity=\"1\"/></g></g><path class=\"foreground\" aria-hidden=\"true\" d=\"\" pointer-events=\"none\" display=\"none\"/></g></g><g class=\"mark-group role-axis\" role=\"graphics-symbol\" aria-roledescription=\"axis\" aria-label=\"X-axis titled 'S' for a linear scale with values from 0 to 240\"><g transform=\"translate(0.5,200.5)\"><path class=\"background\" aria-hidden=\"true\" d=\"M0,0h0v0h0Z\" pointer-events=\"none\"/><g><g class=\"mark-rule role-axis-tick\" pointer-events=\"none\"><line transform=\"translate(0,0)\" x2=\"0\" y2=\"5\" stroke=\"#888\" stroke-width=\"1\" opacity=\"1\"/><line transform=\"translate(42,0)\" x2=\"0\" y2=\"5\" stroke=\"#888\" stroke-width=\"1\" opacity=\"1\"/><line transform=\"translate(83,0)\" x2=\"0\" y2=\"5\" stroke=\"#888\" stroke-width=\"1\" opacity=\"1\"/><line transform=\"translate(125,0)\" x2=\"0\" y2=\"5\" stroke=\"#888\" stroke-width=\"1\" opacity=\"1\"/><line transform=\"translate(167,0)\" x2=\"0\" y2=\"5\" stroke=\"#888\" stroke-width=\"1\" opacity=\"1\"/></g><g class=\"mark-text role-axis-label\" pointer-events=\"none\"><text text-anchor=\"start\" transform=\"translate(0,15)\" font-family=\"sans-serif\" font-size=\"10px\" fill=\"#000\" opacity=\"1\">0</text><text text-anchor=\"middle\" transform=\"translate(41.66666666666667,15)\" font-family=\"sans-serif\" font-size=\"10px\" fill=\"#000\" opacity=\"1\">50</text><text text-anchor=\"middle\" transform=\"translate(83.33333333333334,15)\" font-family=\"sans-serif\" font-size=\"10px\" fill=\"#000\" opacity=\"1\">100</text><text text-anchor=\"middle\" transform=\"translate(125,15)\" font-family=\"sans-serif\" font-size=\"10px\" fill=\"#000\" opacity=\"1\">150</text><text text-anchor=\"middle\" transform=\"translate(166.66666666666669,15)\" font-family=\"sans-serif\" font-size=\"10px\" fill=\"#000\" opacity=\"1\">200</text></g><g class=\"mark-rule role-axis-domain\" pointer-events=\"none\"><line transform=\"translate(0,0)\" x2=\"200\" y2=\"0\" stroke=\"#888\" stroke-width=\"1\" opacity=\"1\"/></g><g class=\"mark-text role-axis-title\" pointer-events=\"none\"><text text-anchor=\"middle\" transform=\"translate(100,30)\" font-family=\"sans-serif\" font-size=\"11px\" font-weight=\"bold\" fill=\"#000\" opacity=\"1\">S</text></g></g><path class=\"foreground\" aria-hidden=\"true\" d=\"\" pointer-events=\"none\" display=\"none\"/></g></g><g class=\"mark-group role-axis\" role=\"graphics-symbol\" aria-roledescription=\"axis\" aria-label=\"Y-axis titled 's' for a linear scale with values from 0 to 35\"><g transform=\"translate(0.5,0.5)\"><path class=\"background\" aria-hidden=\"true\" d=\"M0,0h0v0h0Z\" pointer-events=\"none\"/><g><g class=\"mark-rule role-axis-tick\" pointer-events=\"none\"><line transform=\"translate(0,200)\" x2=\"-5\" y2=\"0\" stroke=\"#888\" stroke-width=\"1\" opacity=\"1\"/><line transform=\"translate(0,171)\" x2=\"-5\" y2=\"0\" stroke=\"#888\" stroke-width=\"1\" opacity=\"1\"/><line transform=\"translate(0,143)\" x2=\"-5\" y2=\"0\" stroke=\"#888\" stroke-width=\"1\" opacity=\"1\"/><line transform=\"translate(0,114)\" x2=\"-5\" y2=\"0\" stroke=\"#888\" stroke-width=\"1\" opacity=\"1\"/><line transform=\"translate(0,86)\" x2=\"-5\" y2=\"0\" stroke=\"#888\" stroke-width=\"1\" opacity=\"1\"/><line transform=\"translate(0,57)\" x2=\"-5\" y2=\"0\" stroke=\"#888\" stroke-width=\"1\" opacity=\"1\"/><line transform=\"translate(0,29)\" x2=\"-5\" y2=\"0\" stroke=\"#888\" stroke-width=\"1\" opacity=\"1\"/><line transform=\"translate(0,0)\" x2=\"-5\" y2=\"0\" stroke=\"#888\" stroke-width=\"1\" opacity=\"1\"/></g><g class=\"mark-text role-axis-label\" pointer-events=\"none\"><text text-anchor=\"end\" transform=\"translate(-7,203)\" font-family=\"sans-serif\" font-size=\"10px\" fill=\"#000\" opacity=\"1\">0</text><text text-anchor=\"end\" transform=\"translate(-7,174.42857142857144)\" font-family=\"sans-serif\" font-size=\"10px\" fill=\"#000\" opacity=\"1\">5</text><text text-anchor=\"end\" transform=\"translate(-7,145.85714285714286)\" font-family=\"sans-serif\" font-size=\"10px\" fill=\"#000\" opacity=\"1\">10</text><text text-anchor=\"end\" transform=\"translate(-7,117.28571428571428)\" font-family=\"sans-serif\" font-size=\"10px\" fill=\"#000\" opacity=\"1\">15</text><text text-anchor=\"end\" transform=\"translate(-7,88.71428571428572)\" font-family=\"sans-serif\" font-size=\"10px\" fill=\"#000\" opacity=\"1\">20</text><text text-anchor=\"end\" transform=\"translate(-7,60.14285714285714)\" font-family=\"sans-serif\" font-size=\"10px\" fill=\"#000\" opacity=\"1\">25</text><text text-anchor=\"end\" transform=\"translate(-7,31.57142857142858)\" font-family=\"sans-serif\" font-size=\"10px\" fill=\"#000\" opacity=\"1\">30</text><text text-anchor=\"end\" transform=\"translate(-7,3)\" font-family=\"sans-serif\" font-size=\"10px\" fill=\"#000\" opacity=\"1\">35</text></g><g class=\"mark-rule role-axis-domain\" pointer-events=\"none\"><line transform=\"translate(0,200)\" x2=\"0\" y2=\"-200\" stroke=\"#888\" stroke-width=\"1\" opacity=\"1\"/></g><g class=\"mark-text role-axis-title\" pointer-events=\"none\"><text text-anchor=\"middle\" transform=\"translate(-23,100) rotate(-90) translate(0,-2)\" font-family=\"sans-serif\" font-size=\"11px\" font-weight=\"bold\" fill=\"#000\" opacity=\"1\">s</text></g></g><path class=\"foreground\" aria-hidden=\"true\" d=\"\" pointer-events=\"none\" display=\"none\"/></g></g><g class=\"mark-symbol role-mark marks\" role=\"graphics-object\" aria-roledescription=\"symbol mark container\"><path aria-label=\"S: 230; s: 35; profit_mean: 9951.183\" role=\"graphics-symbol\" aria-roledescription=\"point\" transform=\"translate(191.66666666666669,0)\" d=\"M2.7386127875258306,0A2.7386127875258306,2.7386127875258306,0,1,1,-2.7386127875258306,0A2.7386127875258306,2.7386127875258306,0,1,1,2.7386127875258306,0\" stroke=\"rgb(13, 8, 135)\" stroke-width=\"2\" opacity=\"0.7\"/><path aria-label=\"S: 230; s: 35; profit_mean: 10150.79686\" role=\"graphics-symbol\" aria-roledescription=\"point\" transform=\"translate(191.66666666666669,0)\" d=\"M2.7386127875258306,0A2.7386127875258306,2.7386127875258306,0,1,1,-2.7386127875258306,0A2.7386127875258306,2.7386127875258306,0,1,1,2.7386127875258306,0\" stroke=\"rgb(20, 7, 138)\" stroke-width=\"2\" opacity=\"0.7\"/><path aria-label=\"S: 230; s: 35; profit_mean: 10335.13674\" role=\"graphics-symbol\" aria-roledescription=\"point\" transform=\"translate(191.66666666666669,0)\" d=\"M2.7386127875258306,0A2.7386127875258306,2.7386127875258306,0,1,1,-2.7386127875258306,0A2.7386127875258306,2.7386127875258306,0,1,1,2.7386127875258306,0\" stroke=\"rgb(26, 7, 140)\" stroke-width=\"2\" opacity=\"0.7\"/><path aria-label=\"S: 230; s: 35; profit_mean: 10532.66124\" role=\"graphics-symbol\" aria-roledescription=\"point\" transform=\"translate(191.66666666666669,0)\" d=\"M2.7386127875258306,0A2.7386127875258306,2.7386127875258306,0,1,1,-2.7386127875258306,0A2.7386127875258306,2.7386127875258306,0,1,1,2.7386127875258306,0\" stroke=\"rgb(33, 6, 143)\" stroke-width=\"2\" opacity=\"0.7\"/><path aria-label=\"S: 230; s: 35; profit_mean: 10717.04534\" role=\"graphics-symbol\" aria-roledescription=\"point\" transform=\"translate(191.66666666666669,0)\" d=\"M2.7386127875258306,0A2.7386127875258306,2.7386127875258306,0,1,1,-2.7386127875258306,0A2.7386127875258306,2.7386127875258306,0,1,1,2.7386127875258306,0\" stroke=\"rgb(38, 6, 145)\" stroke-width=\"2\" opacity=\"0.7\"/><path aria-label=\"S: 230; s: 35; profit_mean: 10911.3846\" role=\"graphics-symbol\" aria-roledescription=\"point\" transform=\"translate(191.66666666666669,0)\" d=\"M2.7386127875258306,0A2.7386127875258306,2.7386127875258306,0,1,1,-2.7386127875258306,0A2.7386127875258306,2.7386127875258306,0,1,1,2.7386127875258306,0\" stroke=\"rgb(43, 5, 148)\" stroke-width=\"2\" opacity=\"0.7\"/><path aria-label=\"S: 230; s: 35; profit_mean: 11086.43242\" role=\"graphics-symbol\" aria-roledescription=\"point\" transform=\"translate(191.66666666666669,0)\" d=\"M2.7386127875258306,0A2.7386127875258306,2.7386127875258306,0,1,1,-2.7386127875258306,0A2.7386127875258306,2.7386127875258306,0,1,1,2.7386127875258306,0\" stroke=\"rgb(47, 5, 149)\" stroke-width=\"2\" opacity=\"0.7\"/><path aria-label=\"S: 230; s: 35; profit_mean: 11275.1426\" role=\"graphics-symbol\" aria-roledescription=\"point\" transform=\"translate(191.66666666666669,0)\" d=\"M2.7386127875258306,0A2.7386127875258306,2.7386127875258306,0,1,1,-2.7386127875258306,0A2.7386127875258306,2.7386127875258306,0,1,1,2.7386127875258306,0\" stroke=\"rgb(52, 5, 151)\" stroke-width=\"2\" opacity=\"0.7\"/><path aria-label=\"S: 230; s: 35; profit_mean: 11492.73186\" role=\"graphics-symbol\" aria-roledescription=\"point\" transform=\"translate(191.66666666666669,0)\" d=\"M2.7386127875258306,0A2.7386127875258306,2.7386127875258306,0,1,1,-2.7386127875258306,0A2.7386127875258306,2.7386127875258306,0,1,1,2.7386127875258306,0\" stroke=\"rgb(57, 4, 153)\" stroke-width=\"2\" opacity=\"0.7\"/><path aria-label=\"S: 230; s: 35; profit_mean: 11685.3819\" role=\"graphics-symbol\" aria-roledescription=\"point\" transform=\"translate(191.66666666666669,0)\" d=\"M2.7386127875258306,0A2.7386127875258306,2.7386127875258306,0,1,1,-2.7386127875258306,0A2.7386127875258306,2.7386127875258306,0,1,1,2.7386127875258306,0\" stroke=\"rgb(62, 4, 155)\" stroke-width=\"2\" opacity=\"0.7\"/><path aria-label=\"S: 230; s: 35; profit_mean: 11851.555\" role=\"graphics-symbol\" aria-roledescription=\"point\" transform=\"translate(191.66666666666669,0)\" d=\"M2.7386127875258306,0A2.7386127875258306,2.7386127875258306,0,1,1,-2.7386127875258306,0A2.7386127875258306,2.7386127875258306,0,1,1,2.7386127875258306,0\" stroke=\"rgb(66, 3, 157)\" stroke-width=\"2\" opacity=\"0.7\"/><path aria-label=\"S: 230; s: 35; profit_mean: 12052.02818\" role=\"graphics-symbol\" aria-roledescription=\"point\" transform=\"translate(191.66666666666669,0)\" d=\"M2.7386127875258306,0A2.7386127875258306,2.7386127875258306,0,1,1,-2.7386127875258306,0A2.7386127875258306,2.7386127875258306,0,1,1,2.7386127875258306,0\" stroke=\"rgb(70, 3, 158)\" stroke-width=\"2\" opacity=\"0.7\"/><path aria-label=\"S: 230; s: 35; profit_mean: 12247.28804\" role=\"graphics-symbol\" aria-roledescription=\"point\" transform=\"translate(191.66666666666669,0)\" d=\"M2.7386127875258306,0A2.7386127875258306,2.7386127875258306,0,1,1,-2.7386127875258306,0A2.7386127875258306,2.7386127875258306,0,1,1,2.7386127875258306,0\" stroke=\"rgb(74, 2, 160)\" stroke-width=\"2\" opacity=\"0.7\"/><path aria-label=\"S: 230; s: 35; profit_mean: 12442.44818\" role=\"graphics-symbol\" aria-roledescription=\"point\" transform=\"translate(191.66666666666669,0)\" d=\"M2.7386127875258306,0A2.7386127875258306,2.7386127875258306,0,1,1,-2.7386127875258306,0A2.7386127875258306,2.7386127875258306,0,1,1,2.7386127875258306,0\" stroke=\"rgb(79, 2, 161)\" stroke-width=\"2\" opacity=\"0.7\"/><path aria-label=\"S: 230; s: 35; profit_mean: 12636.47262\" role=\"graphics-symbol\" aria-roledescription=\"point\" transform=\"translate(191.66666666666669,0)\" d=\"M2.7386127875258306,0A2.7386127875258306,2.7386127875258306,0,1,1,-2.7386127875258306,0A2.7386127875258306,2.7386127875258306,0,1,1,2.7386127875258306,0\" stroke=\"rgb(83, 2, 163)\" stroke-width=\"2\" opacity=\"0.7\"/><path aria-label=\"S: 230; s: 35; profit_mean: 12834.3181\" role=\"graphics-symbol\" aria-roledescription=\"point\" transform=\"translate(191.66666666666669,0)\" d=\"M2.7386127875258306,0A2.7386127875258306,2.7386127875258306,0,1,1,-2.7386127875258306,0A2.7386127875258306,2.7386127875258306,0,1,1,2.7386127875258306,0\" stroke=\"rgb(87, 1, 164)\" stroke-width=\"2\" opacity=\"0.7\"/><path aria-label=\"S: 230; s: 35; profit_mean: 13015.81794\" role=\"graphics-symbol\" aria-roledescription=\"point\" transform=\"translate(191.66666666666669,0)\" d=\"M2.7386127875258306,0A2.7386127875258306,2.7386127875258306,0,1,1,-2.7386127875258306,0A2.7386127875258306,2.7386127875258306,0,1,1,2.7386127875258306,0\" stroke=\"rgb(90, 1, 165)\" stroke-width=\"2\" opacity=\"0.7\"/><path aria-label=\"S: 230; s: 35; profit_mean: 13212.4033\" role=\"graphics-symbol\" aria-roledescription=\"point\" transform=\"translate(191.66666666666669,0)\" d=\"M2.7386127875258306,0A2.7386127875258306,2.7386127875258306,0,1,1,-2.7386127875258306,0A2.7386127875258306,2.7386127875258306,0,1,1,2.7386127875258306,0\" stroke=\"rgb(94, 1, 166)\" stroke-width=\"2\" opacity=\"0.7\"/><path aria-label=\"S: 230; s: 35; profit_mean: 13408.67998\" role=\"graphics-symbol\" aria-roledescription=\"point\" transform=\"translate(191.66666666666669,0)\" d=\"M2.7386127875258306,0A2.7386127875258306,2.7386127875258306,0,1,1,-2.7386127875258306,0A2.7386127875258306,2.7386127875258306,0,1,1,2.7386127875258306,0\" stroke=\"rgb(98, 1, 167)\" stroke-width=\"2\" opacity=\"0.7\"/><path aria-label=\"S: 230; s: 35; profit_mean: 13600.67458\" role=\"graphics-symbol\" aria-roledescription=\"point\" transform=\"translate(191.66666666666669,0)\" d=\"M2.7386127875258306,0A2.7386127875258306,2.7386127875258306,0,1,1,-2.7386127875258306,0A2.7386127875258306,2.7386127875258306,0,1,1,2.7386127875258306,0\" stroke=\"rgb(102, 0, 167)\" stroke-width=\"2\" opacity=\"0.7\"/><path aria-label=\"S: 230; s: 35; profit_mean: 13797.0833\" role=\"graphics-symbol\" aria-roledescription=\"point\" transform=\"translate(191.66666666666669,0)\" d=\"M2.7386127875258306,0A2.7386127875258306,2.7386127875258306,0,1,1,-2.7386127875258306,0A2.7386127875258306,2.7386127875258306,0,1,1,2.7386127875258306,0\" stroke=\"rgb(106, 0, 168)\" stroke-width=\"2\" opacity=\"0.7\"/><path aria-label=\"S: 230; s: 35; profit_mean: 13968.72044\" role=\"graphics-symbol\" aria-roledescription=\"point\" transform=\"translate(191.66666666666669,0)\" d=\"M2.7386127875258306,0A2.7386127875258306,2.7386127875258306,0,1,1,-2.7386127875258306,0A2.7386127875258306,2.7386127875258306,0,1,1,2.7386127875258306,0\" stroke=\"rgb(110, 0, 168)\" stroke-width=\"2\" opacity=\"0.7\"/><path aria-label=\"S: 230; s: 35; profit_mean: 14168.44954\" role=\"graphics-symbol\" aria-roledescription=\"point\" transform=\"translate(191.66666666666669,0)\" d=\"M2.7386127875258306,0A2.7386127875258306,2.7386127875258306,0,1,1,-2.7386127875258306,0A2.7386127875258306,2.7386127875258306,0,1,1,2.7386127875258306,0\" stroke=\"rgb(114, 1, 168)\" stroke-width=\"2\" opacity=\"0.7\"/><path aria-label=\"S: 230; s: 35; profit_mean: 14381.03918\" role=\"graphics-symbol\" aria-roledescription=\"point\" transform=\"translate(191.66666666666669,0)\" d=\"M2.7386127875258306,0A2.7386127875258306,2.7386127875258306,0,1,1,-2.7386127875258306,0A2.7386127875258306,2.7386127875258306,0,1,1,2.7386127875258306,0\" stroke=\"rgb(119, 1, 168)\" stroke-width=\"2\" opacity=\"0.7\"/><path aria-label=\"S: 230; s: 35; profit_mean: 14558.0107\" role=\"graphics-symbol\" aria-roledescription=\"point\" transform=\"translate(191.66666666666669,0)\" d=\"M2.7386127875258306,0A2.7386127875258306,2.7386127875258306,0,1,1,-2.7386127875258306,0A2.7386127875258306,2.7386127875258306,0,1,1,2.7386127875258306,0\" stroke=\"rgb(123, 2, 168)\" stroke-width=\"2\" opacity=\"0.7\"/><path aria-label=\"S: 230; s: 35; profit_mean: 14739.4649\" role=\"graphics-symbol\" aria-roledescription=\"point\" transform=\"translate(191.66666666666669,0)\" d=\"M2.7386127875258306,0A2.7386127875258306,2.7386127875258306,0,1,1,-2.7386127875258306,0A2.7386127875258306,2.7386127875258306,0,1,1,2.7386127875258306,0\" stroke=\"rgb(126, 3, 168)\" stroke-width=\"2\" opacity=\"0.7\"/><path aria-label=\"S: 230; s: 35; profit_mean: 14923.84748\" role=\"graphics-symbol\" aria-roledescription=\"point\" transform=\"translate(191.66666666666669,0)\" d=\"M2.7386127875258306,0A2.7386127875258306,2.7386127875258306,0,1,1,-2.7386127875258306,0A2.7386127875258306,2.7386127875258306,0,1,1,2.7386127875258306,0\" stroke=\"rgb(129, 4, 167)\" stroke-width=\"2\" opacity=\"0.7\"/><path aria-label=\"S: 230; s: 35; profit_mean: 15127.72346\" role=\"graphics-symbol\" aria-roledescription=\"point\" transform=\"translate(191.66666666666669,0)\" d=\"M2.7386127875258306,0A2.7386127875258306,2.7386127875258306,0,1,1,-2.7386127875258306,0A2.7386127875258306,2.7386127875258306,0,1,1,2.7386127875258306,0\" stroke=\"rgb(133, 6, 167)\" stroke-width=\"2\" opacity=\"0.7\"/><path aria-label=\"S: 230; s: 35; profit_mean: 15317.68102\" role=\"graphics-symbol\" aria-roledescription=\"point\" transform=\"translate(191.66666666666669,0)\" d=\"M2.7386127875258306,0A2.7386127875258306,2.7386127875258306,0,1,1,-2.7386127875258306,0A2.7386127875258306,2.7386127875258306,0,1,1,2.7386127875258306,0\" stroke=\"rgb(137, 8, 166)\" stroke-width=\"2\" opacity=\"0.7\"/><path aria-label=\"S: 230; s: 35; profit_mean: 15516.49588\" role=\"graphics-symbol\" aria-roledescription=\"point\" transform=\"translate(191.66666666666669,0)\" d=\"M2.7386127875258306,0A2.7386127875258306,2.7386127875258306,0,1,1,-2.7386127875258306,0A2.7386127875258306,2.7386127875258306,0,1,1,2.7386127875258306,0\" stroke=\"rgb(141, 11, 165)\" stroke-width=\"2\" opacity=\"0.7\"/><path aria-label=\"S: 230; s: 35; profit_mean: 15721.3324\" role=\"graphics-symbol\" aria-roledescription=\"point\" transform=\"translate(191.66666666666669,0)\" d=\"M2.7386127875258306,0A2.7386127875258306,2.7386127875258306,0,1,1,-2.7386127875258306,0A2.7386127875258306,2.7386127875258306,0,1,1,2.7386127875258306,0\" stroke=\"rgb(144, 13, 164)\" stroke-width=\"2\" opacity=\"0.7\"/><path aria-label=\"S: 230; s: 35; profit_mean: 15910.76448\" role=\"graphics-symbol\" aria-roledescription=\"point\" transform=\"translate(191.66666666666669,0)\" d=\"M2.7386127875258306,0A2.7386127875258306,2.7386127875258306,0,1,1,-2.7386127875258306,0A2.7386127875258306,2.7386127875258306,0,1,1,2.7386127875258306,0\" stroke=\"rgb(148, 16, 162)\" stroke-width=\"2\" opacity=\"0.7\"/><path aria-label=\"S: 230; s: 35; profit_mean: 16070.27862\" role=\"graphics-symbol\" aria-roledescription=\"point\" transform=\"translate(191.66666666666669,0)\" d=\"M2.7386127875258306,0A2.7386127875258306,2.7386127875258306,0,1,1,-2.7386127875258306,0A2.7386127875258306,2.7386127875258306,0,1,1,2.7386127875258306,0\" stroke=\"rgb(151, 19, 161)\" stroke-width=\"2\" opacity=\"0.7\"/><path aria-label=\"S: 230; s: 35; profit_mean: 16288.6313\" role=\"graphics-symbol\" aria-roledescription=\"point\" transform=\"translate(191.66666666666669,0)\" d=\"M2.7386127875258306,0A2.7386127875258306,2.7386127875258306,0,1,1,-2.7386127875258306,0A2.7386127875258306,2.7386127875258306,0,1,1,2.7386127875258306,0\" stroke=\"rgb(155, 22, 158)\" stroke-width=\"2\" opacity=\"0.7\"/><path aria-label=\"S: 230; s: 35; profit_mean: 16457.37432\" role=\"graphics-symbol\" aria-roledescription=\"point\" transform=\"translate(191.66666666666669,0)\" d=\"M2.7386127875258306,0A2.7386127875258306,2.7386127875258306,0,1,1,-2.7386127875258306,0A2.7386127875258306,2.7386127875258306,0,1,1,2.7386127875258306,0\" stroke=\"rgb(158, 25, 157)\" stroke-width=\"2\" opacity=\"0.7\"/><path aria-label=\"S: 230; s: 35; profit_mean: 16676.8434\" role=\"graphics-symbol\" aria-roledescription=\"point\" transform=\"translate(191.66666666666669,0)\" d=\"M2.7386127875258306,0A2.7386127875258306,2.7386127875258306,0,1,1,-2.7386127875258306,0A2.7386127875258306,2.7386127875258306,0,1,1,2.7386127875258306,0\" stroke=\"rgb(162, 28, 155)\" stroke-width=\"2\" opacity=\"0.7\"/><path aria-label=\"S: 230; s: 35; profit_mean: 16864.44662\" role=\"graphics-symbol\" aria-roledescription=\"point\" transform=\"translate(191.66666666666669,0)\" d=\"M2.7386127875258306,0A2.7386127875258306,2.7386127875258306,0,1,1,-2.7386127875258306,0A2.7386127875258306,2.7386127875258306,0,1,1,2.7386127875258306,0\" stroke=\"rgb(165, 31, 153)\" stroke-width=\"2\" opacity=\"0.7\"/><path aria-label=\"S: 230; s: 35; profit_mean: 17043.8411\" role=\"graphics-symbol\" aria-roledescription=\"point\" transform=\"translate(191.66666666666669,0)\" d=\"M2.7386127875258306,0A2.7386127875258306,2.7386127875258306,0,1,1,-2.7386127875258306,0A2.7386127875258306,2.7386127875258306,0,1,1,2.7386127875258306,0\" stroke=\"rgb(168, 34, 151)\" stroke-width=\"2\" opacity=\"0.7\"/><path aria-label=\"S: 230; s: 35; profit_mean: 17226.07372\" role=\"graphics-symbol\" aria-roledescription=\"point\" transform=\"translate(191.66666666666669,0)\" d=\"M2.7386127875258306,0A2.7386127875258306,2.7386127875258306,0,1,1,-2.7386127875258306,0A2.7386127875258306,2.7386127875258306,0,1,1,2.7386127875258306,0\" stroke=\"rgb(171, 36, 149)\" stroke-width=\"2\" opacity=\"0.7\"/><path aria-label=\"S: 230; s: 35; profit_mean: 17442.2809\" role=\"graphics-symbol\" aria-roledescription=\"point\" transform=\"translate(191.66666666666669,0)\" d=\"M2.7386127875258306,0A2.7386127875258306,2.7386127875258306,0,1,1,-2.7386127875258306,0A2.7386127875258306,2.7386127875258306,0,1,1,2.7386127875258306,0\" stroke=\"rgb(174, 40, 146)\" stroke-width=\"2\" opacity=\"0.7\"/><path aria-label=\"S: 230; s: 35; profit_mean: 17635.3631\" role=\"graphics-symbol\" aria-roledescription=\"point\" transform=\"translate(191.66666666666669,0)\" d=\"M2.7386127875258306,0A2.7386127875258306,2.7386127875258306,0,1,1,-2.7386127875258306,0A2.7386127875258306,2.7386127875258306,0,1,1,2.7386127875258306,0\" stroke=\"rgb(177, 42, 144)\" stroke-width=\"2\" opacity=\"0.7\"/><path aria-label=\"S: 230; s: 35; profit_mean: 17805.40598\" role=\"graphics-symbol\" aria-roledescription=\"point\" transform=\"translate(191.66666666666669,0)\" d=\"M2.7386127875258306,0A2.7386127875258306,2.7386127875258306,0,1,1,-2.7386127875258306,0A2.7386127875258306,2.7386127875258306,0,1,1,2.7386127875258306,0\" stroke=\"rgb(180, 45, 142)\" stroke-width=\"2\" opacity=\"0.7\"/><path aria-label=\"S: 230; s: 35; profit_mean: 17980.8028\" role=\"graphics-symbol\" aria-roledescription=\"point\" transform=\"translate(191.66666666666669,0)\" d=\"M2.7386127875258306,0A2.7386127875258306,2.7386127875258306,0,1,1,-2.7386127875258306,0A2.7386127875258306,2.7386127875258306,0,1,1,2.7386127875258306,0\" stroke=\"rgb(182, 48, 139)\" stroke-width=\"2\" opacity=\"0.7\"/><path aria-label=\"S: 230; s: 35; profit_mean: 18175.69566\" role=\"graphics-symbol\" aria-roledescription=\"point\" transform=\"translate(191.66666666666669,0)\" d=\"M2.7386127875258306,0A2.7386127875258306,2.7386127875258306,0,1,1,-2.7386127875258306,0A2.7386127875258306,2.7386127875258306,0,1,1,2.7386127875258306,0\" stroke=\"rgb(185, 51, 137)\" stroke-width=\"2\" opacity=\"0.7\"/><path aria-label=\"S: 230; s: 35; profit_mean: 18391.57364\" role=\"graphics-symbol\" aria-roledescription=\"point\" transform=\"translate(191.66666666666669,0)\" d=\"M2.7386127875258306,0A2.7386127875258306,2.7386127875258306,0,1,1,-2.7386127875258306,0A2.7386127875258306,2.7386127875258306,0,1,1,2.7386127875258306,0\" stroke=\"rgb(188, 54, 134)\" stroke-width=\"2\" opacity=\"0.7\"/><path aria-label=\"S: 230; s: 35; profit_mean: 18591.4539\" role=\"graphics-symbol\" aria-roledescription=\"point\" transform=\"translate(191.66666666666669,0)\" d=\"M2.7386127875258306,0A2.7386127875258306,2.7386127875258306,0,1,1,-2.7386127875258306,0A2.7386127875258306,2.7386127875258306,0,1,1,2.7386127875258306,0\" stroke=\"rgb(191, 57, 132)\" stroke-width=\"2\" opacity=\"0.7\"/><path aria-label=\"S: 230; s: 35; profit_mean: 18772.43476\" role=\"graphics-symbol\" aria-roledescription=\"point\" transform=\"translate(191.66666666666669,0)\" d=\"M2.7386127875258306,0A2.7386127875258306,2.7386127875258306,0,1,1,-2.7386127875258306,0A2.7386127875258306,2.7386127875258306,0,1,1,2.7386127875258306,0\" stroke=\"rgb(193, 59, 130)\" stroke-width=\"2\" opacity=\"0.7\"/><path aria-label=\"S: 230; s: 35; profit_mean: 18934.2434\" role=\"graphics-symbol\" aria-roledescription=\"point\" transform=\"translate(191.66666666666669,0)\" d=\"M2.7386127875258306,0A2.7386127875258306,2.7386127875258306,0,1,1,-2.7386127875258306,0A2.7386127875258306,2.7386127875258306,0,1,1,2.7386127875258306,0\" stroke=\"rgb(195, 62, 128)\" stroke-width=\"2\" opacity=\"0.7\"/><path aria-label=\"S: 230; s: 35; profit_mean: 19142.44146\" role=\"graphics-symbol\" aria-roledescription=\"point\" transform=\"translate(191.66666666666669,0)\" d=\"M2.7386127875258306,0A2.7386127875258306,2.7386127875258306,0,1,1,-2.7386127875258306,0A2.7386127875258306,2.7386127875258306,0,1,1,2.7386127875258306,0\" stroke=\"rgb(198, 65, 125)\" stroke-width=\"2\" opacity=\"0.7\"/><path aria-label=\"S: 230; s: 35; profit_mean: 19341.96402\" role=\"graphics-symbol\" aria-roledescription=\"point\" transform=\"translate(191.66666666666669,0)\" d=\"M2.7386127875258306,0A2.7386127875258306,2.7386127875258306,0,1,1,-2.7386127875258306,0A2.7386127875258306,2.7386127875258306,0,1,1,2.7386127875258306,0\" stroke=\"rgb(201, 68, 123)\" stroke-width=\"2\" opacity=\"0.7\"/><path aria-label=\"S: 230; s: 35; profit_mean: 19557.2468\" role=\"graphics-symbol\" aria-roledescription=\"point\" transform=\"translate(191.66666666666669,0)\" d=\"M2.7386127875258306,0A2.7386127875258306,2.7386127875258306,0,1,1,-2.7386127875258306,0A2.7386127875258306,2.7386127875258306,0,1,1,2.7386127875258306,0\" stroke=\"rgb(203, 71, 121)\" stroke-width=\"2\" opacity=\"0.7\"/><path aria-label=\"S: 230; s: 35; profit_mean: 19724.36112\" role=\"graphics-symbol\" aria-roledescription=\"point\" transform=\"translate(191.66666666666669,0)\" d=\"M2.7386127875258306,0A2.7386127875258306,2.7386127875258306,0,1,1,-2.7386127875258306,0A2.7386127875258306,2.7386127875258306,0,1,1,2.7386127875258306,0\" stroke=\"rgb(205, 74, 119)\" stroke-width=\"2\" opacity=\"0.7\"/><path aria-label=\"S: 230; s: 35; profit_mean: 19920.18078\" role=\"graphics-symbol\" aria-roledescription=\"point\" transform=\"translate(191.66666666666669,0)\" d=\"M2.7386127875258306,0A2.7386127875258306,2.7386127875258306,0,1,1,-2.7386127875258306,0A2.7386127875258306,2.7386127875258306,0,1,1,2.7386127875258306,0\" stroke=\"rgb(208, 77, 116)\" stroke-width=\"2\" opacity=\"0.7\"/><path aria-label=\"S: 230; s: 35; profit_mean: 20094.27466\" role=\"graphics-symbol\" aria-roledescription=\"point\" transform=\"translate(191.66666666666669,0)\" d=\"M2.7386127875258306,0A2.7386127875258306,2.7386127875258306,0,1,1,-2.7386127875258306,0A2.7386127875258306,2.7386127875258306,0,1,1,2.7386127875258306,0\" stroke=\"rgb(210, 80, 114)\" stroke-width=\"2\" opacity=\"0.7\"/><path aria-label=\"S: 230; s: 35; profit_mean: 20298.93554\" role=\"graphics-symbol\" aria-roledescription=\"point\" transform=\"translate(191.66666666666669,0)\" d=\"M2.7386127875258306,0A2.7386127875258306,2.7386127875258306,0,1,1,-2.7386127875258306,0A2.7386127875258306,2.7386127875258306,0,1,1,2.7386127875258306,0\" stroke=\"rgb(212, 83, 111)\" stroke-width=\"2\" opacity=\"0.7\"/><path aria-label=\"S: 230; s: 35; profit_mean: 20502.0881\" role=\"graphics-symbol\" aria-roledescription=\"point\" transform=\"translate(191.66666666666669,0)\" d=\"M2.7386127875258306,0A2.7386127875258306,2.7386127875258306,0,1,1,-2.7386127875258306,0A2.7386127875258306,2.7386127875258306,0,1,1,2.7386127875258306,0\" stroke=\"rgb(215, 86, 109)\" stroke-width=\"2\" opacity=\"0.7\"/><path aria-label=\"S: 230; s: 35; profit_mean: 20718.9726\" role=\"graphics-symbol\" aria-roledescription=\"point\" transform=\"translate(191.66666666666669,0)\" d=\"M2.7386127875258306,0A2.7386127875258306,2.7386127875258306,0,1,1,-2.7386127875258306,0A2.7386127875258306,2.7386127875258306,0,1,1,2.7386127875258306,0\" stroke=\"rgb(217, 89, 106)\" stroke-width=\"2\" opacity=\"0.7\"/><path aria-label=\"S: 230; s: 35; profit_mean: 20864.76466\" role=\"graphics-symbol\" aria-roledescription=\"point\" transform=\"translate(191.66666666666669,0)\" d=\"M2.7386127875258306,0A2.7386127875258306,2.7386127875258306,0,1,1,-2.7386127875258306,0A2.7386127875258306,2.7386127875258306,0,1,1,2.7386127875258306,0\" stroke=\"rgb(219, 91, 104)\" stroke-width=\"2\" opacity=\"0.7\"/><path aria-label=\"S: 230; s: 35; profit_mean: 21076.44308\" role=\"graphics-symbol\" aria-roledescription=\"point\" transform=\"translate(191.66666666666669,0)\" d=\"M2.7386127875258306,0A2.7386127875258306,2.7386127875258306,0,1,1,-2.7386127875258306,0A2.7386127875258306,2.7386127875258306,0,1,1,2.7386127875258306,0\" stroke=\"rgb(221, 94, 102)\" stroke-width=\"2\" opacity=\"0.7\"/><path aria-label=\"S: 230; s: 35; profit_mean: 21263.05814\" role=\"graphics-symbol\" aria-roledescription=\"point\" transform=\"translate(191.66666666666669,0)\" d=\"M2.7386127875258306,0A2.7386127875258306,2.7386127875258306,0,1,1,-2.7386127875258306,0A2.7386127875258306,2.7386127875258306,0,1,1,2.7386127875258306,0\" stroke=\"rgb(223, 97, 100)\" stroke-width=\"2\" opacity=\"0.7\"/><path aria-label=\"S: 230; s: 35; profit_mean: 21442.6243\" role=\"graphics-symbol\" aria-roledescription=\"point\" transform=\"translate(191.66666666666669,0)\" d=\"M2.7386127875258306,0A2.7386127875258306,2.7386127875258306,0,1,1,-2.7386127875258306,0A2.7386127875258306,2.7386127875258306,0,1,1,2.7386127875258306,0\" stroke=\"rgb(225, 100, 98)\" stroke-width=\"2\" opacity=\"0.7\"/><path aria-label=\"S: 230; s: 35; profit_mean: 21638.43258\" role=\"graphics-symbol\" aria-roledescription=\"point\" transform=\"translate(191.66666666666669,0)\" d=\"M2.7386127875258306,0A2.7386127875258306,2.7386127875258306,0,1,1,-2.7386127875258306,0A2.7386127875258306,2.7386127875258306,0,1,1,2.7386127875258306,0\" stroke=\"rgb(227, 103, 96)\" stroke-width=\"2\" opacity=\"0.7\"/><path aria-label=\"S: 230; s: 35; profit_mean: 21797.39776\" role=\"graphics-symbol\" aria-roledescription=\"point\" transform=\"translate(191.66666666666669,0)\" d=\"M2.7386127875258306,0A2.7386127875258306,2.7386127875258306,0,1,1,-2.7386127875258306,0A2.7386127875258306,2.7386127875258306,0,1,1,2.7386127875258306,0\" stroke=\"rgb(228, 105, 94)\" stroke-width=\"2\" opacity=\"0.7\"/><path aria-label=\"S: 230; s: 35; profit_mean: 22008.90072\" role=\"graphics-symbol\" aria-roledescription=\"point\" transform=\"translate(191.66666666666669,0)\" d=\"M2.7386127875258306,0A2.7386127875258306,2.7386127875258306,0,1,1,-2.7386127875258306,0A2.7386127875258306,2.7386127875258306,0,1,1,2.7386127875258306,0\" stroke=\"rgb(230, 109, 92)\" stroke-width=\"2\" opacity=\"0.7\"/><path aria-label=\"S: 230; s: 35; profit_mean: 22222.85146\" role=\"graphics-symbol\" aria-roledescription=\"point\" transform=\"translate(191.66666666666669,0)\" d=\"M2.7386127875258306,0A2.7386127875258306,2.7386127875258306,0,1,1,-2.7386127875258306,0A2.7386127875258306,2.7386127875258306,0,1,1,2.7386127875258306,0\" stroke=\"rgb(232, 112, 89)\" stroke-width=\"2\" opacity=\"0.7\"/><path aria-label=\"S: 230; s: 35; profit_mean: 22382.6923\" role=\"graphics-symbol\" aria-roledescription=\"point\" transform=\"translate(191.66666666666669,0)\" d=\"M2.7386127875258306,0A2.7386127875258306,2.7386127875258306,0,1,1,-2.7386127875258306,0A2.7386127875258306,2.7386127875258306,0,1,1,2.7386127875258306,0\" stroke=\"rgb(234, 115, 87)\" stroke-width=\"2\" opacity=\"0.7\"/><path aria-label=\"S: 230; s: 35; profit_mean: 22603.92198\" role=\"graphics-symbol\" aria-roledescription=\"point\" transform=\"translate(191.66666666666669,0)\" d=\"M2.7386127875258306,0A2.7386127875258306,2.7386127875258306,0,1,1,-2.7386127875258306,0A2.7386127875258306,2.7386127875258306,0,1,1,2.7386127875258306,0\" stroke=\"rgb(236, 119, 85)\" stroke-width=\"2\" opacity=\"0.7\"/><path aria-label=\"S: 230; s: 35; profit_mean: 22819.43056\" role=\"graphics-symbol\" aria-roledescription=\"point\" transform=\"translate(191.66666666666669,0)\" d=\"M2.7386127875258306,0A2.7386127875258306,2.7386127875258306,0,1,1,-2.7386127875258306,0A2.7386127875258306,2.7386127875258306,0,1,1,2.7386127875258306,0\" stroke=\"rgb(238, 122, 82)\" stroke-width=\"2\" opacity=\"0.7\"/><path aria-label=\"S: 230; s: 35; profit_mean: 22992.928\" role=\"graphics-symbol\" aria-roledescription=\"point\" transform=\"translate(191.66666666666669,0)\" d=\"M2.7386127875258306,0A2.7386127875258306,2.7386127875258306,0,1,1,-2.7386127875258306,0A2.7386127875258306,2.7386127875258306,0,1,1,2.7386127875258306,0\" stroke=\"rgb(239, 125, 80)\" stroke-width=\"2\" opacity=\"0.7\"/><path aria-label=\"S: 230; s: 35; profit_mean: 23157.09672\" role=\"graphics-symbol\" aria-roledescription=\"point\" transform=\"translate(191.66666666666669,0)\" d=\"M2.7386127875258306,0A2.7386127875258306,2.7386127875258306,0,1,1,-2.7386127875258306,0A2.7386127875258306,2.7386127875258306,0,1,1,2.7386127875258306,0\" stroke=\"rgb(240, 128, 78)\" stroke-width=\"2\" opacity=\"0.7\"/><path aria-label=\"S: 230; s: 35; profit_mean: 23372.4119\" role=\"graphics-symbol\" aria-roledescription=\"point\" transform=\"translate(191.66666666666669,0)\" d=\"M2.7386127875258306,0A2.7386127875258306,2.7386127875258306,0,1,1,-2.7386127875258306,0A2.7386127875258306,2.7386127875258306,0,1,1,2.7386127875258306,0\" stroke=\"rgb(242, 131, 76)\" stroke-width=\"2\" opacity=\"0.7\"/><path aria-label=\"S: 230; s: 35; profit_mean: 23511.57236\" role=\"graphics-symbol\" aria-roledescription=\"point\" transform=\"translate(191.66666666666669,0)\" d=\"M2.7386127875258306,0A2.7386127875258306,2.7386127875258306,0,1,1,-2.7386127875258306,0A2.7386127875258306,2.7386127875258306,0,1,1,2.7386127875258306,0\" stroke=\"rgb(243, 134, 74)\" stroke-width=\"2\" opacity=\"0.7\"/><path aria-label=\"S: 230; s: 35; profit_mean: 23753.85134\" role=\"graphics-symbol\" aria-roledescription=\"point\" transform=\"translate(191.66666666666669,0)\" d=\"M2.7386127875258306,0A2.7386127875258306,2.7386127875258306,0,1,1,-2.7386127875258306,0A2.7386127875258306,2.7386127875258306,0,1,1,2.7386127875258306,0\" stroke=\"rgb(244, 138, 71)\" stroke-width=\"2\" opacity=\"0.7\"/><path aria-label=\"S: 230; s: 35; profit_mean: 23931.33494\" role=\"graphics-symbol\" aria-roledescription=\"point\" transform=\"translate(191.66666666666669,0)\" d=\"M2.7386127875258306,0A2.7386127875258306,2.7386127875258306,0,1,1,-2.7386127875258306,0A2.7386127875258306,2.7386127875258306,0,1,1,2.7386127875258306,0\" stroke=\"rgb(246, 142, 69)\" stroke-width=\"2\" opacity=\"0.7\"/><path aria-label=\"S: 230; s: 35; profit_mean: 24133.4571\" role=\"graphics-symbol\" aria-roledescription=\"point\" transform=\"translate(191.66666666666669,0)\" d=\"M2.7386127875258306,0A2.7386127875258306,2.7386127875258306,0,1,1,-2.7386127875258306,0A2.7386127875258306,2.7386127875258306,0,1,1,2.7386127875258306,0\" stroke=\"rgb(247, 145, 67)\" stroke-width=\"2\" opacity=\"0.7\"/><path aria-label=\"S: 230; s: 35; profit_mean: 24313.5096\" role=\"graphics-symbol\" aria-roledescription=\"point\" transform=\"translate(191.66666666666669,0)\" d=\"M2.7386127875258306,0A2.7386127875258306,2.7386127875258306,0,1,1,-2.7386127875258306,0A2.7386127875258306,2.7386127875258306,0,1,1,2.7386127875258306,0\" stroke=\"rgb(248, 148, 65)\" stroke-width=\"2\" opacity=\"0.7\"/><path aria-label=\"S: 230; s: 35; profit_mean: 24513.23324\" role=\"graphics-symbol\" aria-roledescription=\"point\" transform=\"translate(191.66666666666669,0)\" d=\"M2.7386127875258306,0A2.7386127875258306,2.7386127875258306,0,1,1,-2.7386127875258306,0A2.7386127875258306,2.7386127875258306,0,1,1,2.7386127875258306,0\" stroke=\"rgb(249, 152, 62)\" stroke-width=\"2\" opacity=\"0.7\"/><path aria-label=\"S: 230; s: 35; profit_mean: 24723.71622\" role=\"graphics-symbol\" aria-roledescription=\"point\" transform=\"translate(191.66666666666669,0)\" d=\"M2.7386127875258306,0A2.7386127875258306,2.7386127875258306,0,1,1,-2.7386127875258306,0A2.7386127875258306,2.7386127875258306,0,1,1,2.7386127875258306,0\" stroke=\"rgb(250, 155, 60)\" stroke-width=\"2\" opacity=\"0.7\"/><path aria-label=\"S: 230; s: 35; profit_mean: 24893.25202\" role=\"graphics-symbol\" aria-roledescription=\"point\" transform=\"translate(191.66666666666669,0)\" d=\"M2.7386127875258306,0A2.7386127875258306,2.7386127875258306,0,1,1,-2.7386127875258306,0A2.7386127875258306,2.7386127875258306,0,1,1,2.7386127875258306,0\" stroke=\"rgb(251, 159, 58)\" stroke-width=\"2\" opacity=\"0.7\"/><path aria-label=\"S: 230; s: 35; profit_mean: 25072.48474\" role=\"graphics-symbol\" aria-roledescription=\"point\" transform=\"translate(191.66666666666669,0)\" d=\"M2.7386127875258306,0A2.7386127875258306,2.7386127875258306,0,1,1,-2.7386127875258306,0A2.7386127875258306,2.7386127875258306,0,1,1,2.7386127875258306,0\" stroke=\"rgb(251, 162, 56)\" stroke-width=\"2\" opacity=\"0.7\"/><path aria-label=\"S: 230; s: 35; profit_mean: 25304.866\" role=\"graphics-symbol\" aria-roledescription=\"point\" transform=\"translate(191.66666666666669,0)\" d=\"M2.7386127875258306,0A2.7386127875258306,2.7386127875258306,0,1,1,-2.7386127875258306,0A2.7386127875258306,2.7386127875258306,0,1,1,2.7386127875258306,0\" stroke=\"rgb(252, 166, 54)\" stroke-width=\"2\" opacity=\"0.7\"/><path aria-label=\"S: 230; s: 35; profit_mean: 25494.53104\" role=\"graphics-symbol\" aria-roledescription=\"point\" transform=\"translate(191.66666666666669,0)\" d=\"M2.7386127875258306,0A2.7386127875258306,2.7386127875258306,0,1,1,-2.7386127875258306,0A2.7386127875258306,2.7386127875258306,0,1,1,2.7386127875258306,0\" stroke=\"rgb(252, 170, 52)\" stroke-width=\"2\" opacity=\"0.7\"/><path aria-label=\"S: 230; s: 35; profit_mean: 25675.98876\" role=\"graphics-symbol\" aria-roledescription=\"point\" transform=\"translate(191.66666666666669,0)\" d=\"M2.7386127875258306,0A2.7386127875258306,2.7386127875258306,0,1,1,-2.7386127875258306,0A2.7386127875258306,2.7386127875258306,0,1,1,2.7386127875258306,0\" stroke=\"rgb(253, 174, 50)\" stroke-width=\"2\" opacity=\"0.7\"/><path aria-label=\"S: 230; s: 35; profit_mean: 25860.4314\" role=\"graphics-symbol\" aria-roledescription=\"point\" transform=\"translate(191.66666666666669,0)\" d=\"M2.7386127875258306,0A2.7386127875258306,2.7386127875258306,0,1,1,-2.7386127875258306,0A2.7386127875258306,2.7386127875258306,0,1,1,2.7386127875258306,0\" stroke=\"rgb(253, 178, 48)\" stroke-width=\"2\" opacity=\"0.7\"/><path aria-label=\"S: 230; s: 35; profit_mean: 26045.22736\" role=\"graphics-symbol\" aria-roledescription=\"point\" transform=\"translate(191.66666666666669,0)\" d=\"M2.7386127875258306,0A2.7386127875258306,2.7386127875258306,0,1,1,-2.7386127875258306,0A2.7386127875258306,2.7386127875258306,0,1,1,2.7386127875258306,0\" stroke=\"rgb(253, 181, 46)\" stroke-width=\"2\" opacity=\"0.7\"/><path aria-label=\"S: 230; s: 35; profit_mean: 26250.9622\" role=\"graphics-symbol\" aria-roledescription=\"point\" transform=\"translate(191.66666666666669,0)\" d=\"M2.7386127875258306,0A2.7386127875258306,2.7386127875258306,0,1,1,-2.7386127875258306,0A2.7386127875258306,2.7386127875258306,0,1,1,2.7386127875258306,0\" stroke=\"rgb(254, 186, 44)\" stroke-width=\"2\" opacity=\"0.7\"/><path aria-label=\"S: 230; s: 35; profit_mean: 26437.4921\" role=\"graphics-symbol\" aria-roledescription=\"point\" transform=\"translate(191.66666666666669,0)\" d=\"M2.7386127875258306,0A2.7386127875258306,2.7386127875258306,0,1,1,-2.7386127875258306,0A2.7386127875258306,2.7386127875258306,0,1,1,2.7386127875258306,0\" stroke=\"rgb(254, 189, 42)\" stroke-width=\"2\" opacity=\"0.7\"/><path aria-label=\"S: 230; s: 35; profit_mean: 26632.55074\" role=\"graphics-symbol\" aria-roledescription=\"point\" transform=\"translate(191.66666666666669,0)\" d=\"M2.7386127875258306,0A2.7386127875258306,2.7386127875258306,0,1,1,-2.7386127875258306,0A2.7386127875258306,2.7386127875258306,0,1,1,2.7386127875258306,0\" stroke=\"rgb(254, 193, 41)\" stroke-width=\"2\" opacity=\"0.7\"/><path aria-label=\"S: 230; s: 35; profit_mean: 26849.68822\" role=\"graphics-symbol\" aria-roledescription=\"point\" transform=\"translate(191.66666666666669,0)\" d=\"M2.7386127875258306,0A2.7386127875258306,2.7386127875258306,0,1,1,-2.7386127875258306,0A2.7386127875258306,2.7386127875258306,0,1,1,2.7386127875258306,0\" stroke=\"rgb(253, 198, 39)\" stroke-width=\"2\" opacity=\"0.7\"/><path aria-label=\"S: 230; s: 35; profit_mean: 26986.20152\" role=\"graphics-symbol\" aria-roledescription=\"point\" transform=\"translate(191.66666666666669,0)\" d=\"M2.7386127875258306,0A2.7386127875258306,2.7386127875258306,0,1,1,-2.7386127875258306,0A2.7386127875258306,2.7386127875258306,0,1,1,2.7386127875258306,0\" stroke=\"rgb(253, 201, 38)\" stroke-width=\"2\" opacity=\"0.7\"/><path aria-label=\"S: 230; s: 35; profit_mean: 27210.9626\" role=\"graphics-symbol\" aria-roledescription=\"point\" transform=\"translate(191.66666666666669,0)\" d=\"M2.7386127875258306,0A2.7386127875258306,2.7386127875258306,0,1,1,-2.7386127875258306,0A2.7386127875258306,2.7386127875258306,0,1,1,2.7386127875258306,0\" stroke=\"rgb(252, 206, 37)\" stroke-width=\"2\" opacity=\"0.7\"/><path aria-label=\"S: 230; s: 35; profit_mean: 27379.30342\" role=\"graphics-symbol\" aria-roledescription=\"point\" transform=\"translate(191.66666666666669,0)\" d=\"M2.7386127875258306,0A2.7386127875258306,2.7386127875258306,0,1,1,-2.7386127875258306,0A2.7386127875258306,2.7386127875258306,0,1,1,2.7386127875258306,0\" stroke=\"rgb(251, 210, 37)\" stroke-width=\"2\" opacity=\"0.7\"/><path aria-label=\"S: 230; s: 35; profit_mean: 27577.56424\" role=\"graphics-symbol\" aria-roledescription=\"point\" transform=\"translate(191.66666666666669,0)\" d=\"M2.7386127875258306,0A2.7386127875258306,2.7386127875258306,0,1,1,-2.7386127875258306,0A2.7386127875258306,2.7386127875258306,0,1,1,2.7386127875258306,0\" stroke=\"rgb(250, 214, 36)\" stroke-width=\"2\" opacity=\"0.7\"/><path aria-label=\"S: 230; s: 35; profit_mean: 27737.125\" role=\"graphics-symbol\" aria-roledescription=\"point\" transform=\"translate(191.66666666666669,0)\" d=\"M2.7386127875258306,0A2.7386127875258306,2.7386127875258306,0,1,1,-2.7386127875258306,0A2.7386127875258306,2.7386127875258306,0,1,1,2.7386127875258306,0\" stroke=\"rgb(249, 218, 36)\" stroke-width=\"2\" opacity=\"0.7\"/><path aria-label=\"S: 230; s: 35; profit_mean: 27960.0228\" role=\"graphics-symbol\" aria-roledescription=\"point\" transform=\"translate(191.66666666666669,0)\" d=\"M2.7386127875258306,0A2.7386127875258306,2.7386127875258306,0,1,1,-2.7386127875258306,0A2.7386127875258306,2.7386127875258306,0,1,1,2.7386127875258306,0\" stroke=\"rgb(248, 223, 37)\" stroke-width=\"2\" opacity=\"0.7\"/><path aria-label=\"S: 230; s: 35; profit_mean: 28142.1751\" role=\"graphics-symbol\" aria-roledescription=\"point\" transform=\"translate(191.66666666666669,0)\" d=\"M2.7386127875258306,0A2.7386127875258306,2.7386127875258306,0,1,1,-2.7386127875258306,0A2.7386127875258306,2.7386127875258306,0,1,1,2.7386127875258306,0\" stroke=\"rgb(247, 227, 37)\" stroke-width=\"2\" opacity=\"0.7\"/><path aria-label=\"S: 230; s: 35; profit_mean: 28348.16308\" role=\"graphics-symbol\" aria-roledescription=\"point\" transform=\"translate(191.66666666666669,0)\" d=\"M2.7386127875258306,0A2.7386127875258306,2.7386127875258306,0,1,1,-2.7386127875258306,0A2.7386127875258306,2.7386127875258306,0,1,1,2.7386127875258306,0\" stroke=\"rgb(246, 231, 38)\" stroke-width=\"2\" opacity=\"0.7\"/><path aria-label=\"S: 230; s: 35; profit_mean: 28522.19442\" role=\"graphics-symbol\" aria-roledescription=\"point\" transform=\"translate(191.66666666666669,0)\" d=\"M2.7386127875258306,0A2.7386127875258306,2.7386127875258306,0,1,1,-2.7386127875258306,0A2.7386127875258306,2.7386127875258306,0,1,1,2.7386127875258306,0\" stroke=\"rgb(245, 235, 39)\" stroke-width=\"2\" opacity=\"0.7\"/><path aria-label=\"S: 230; s: 35; profit_mean: 28751.30444\" role=\"graphics-symbol\" aria-roledescription=\"point\" transform=\"translate(191.66666666666669,0)\" d=\"M2.7386127875258306,0A2.7386127875258306,2.7386127875258306,0,1,1,-2.7386127875258306,0A2.7386127875258306,2.7386127875258306,0,1,1,2.7386127875258306,0\" stroke=\"rgb(243, 240, 36)\" stroke-width=\"2\" opacity=\"0.7\"/><path aria-label=\"S: 230; s: 35; profit_mean: 28915.40138\" role=\"graphics-symbol\" aria-roledescription=\"point\" transform=\"translate(191.66666666666669,0)\" d=\"M2.7386127875258306,0A2.7386127875258306,2.7386127875258306,0,1,1,-2.7386127875258306,0A2.7386127875258306,2.7386127875258306,0,1,1,2.7386127875258306,0\" stroke=\"rgb(242, 244, 35)\" stroke-width=\"2\" opacity=\"0.7\"/><path aria-label=\"S: 230; s: 35; profit_mean: 29121.0862\" role=\"graphics-symbol\" aria-roledescription=\"point\" transform=\"translate(191.66666666666669,0)\" d=\"M2.7386127875258306,0A2.7386127875258306,2.7386127875258306,0,1,1,-2.7386127875258306,0A2.7386127875258306,2.7386127875258306,0,1,1,2.7386127875258306,0\" stroke=\"rgb(240, 249, 33)\" stroke-width=\"2\" opacity=\"0.7\"/></g><g class=\"mark-group role-legend\" role=\"graphics-symbol\" aria-roledescription=\"legend\" aria-label=\"Gradient legend titled 'profit_mean' for stroke color with values from 9,951 to 29,121\"><g transform=\"translate(218,0)\"><path class=\"background\" aria-hidden=\"true\" d=\"M0,0h64v221h-64Z\" pointer-events=\"none\"/><g><g class=\"mark-group role-legend-entry\"><g transform=\"translate(0,16)\"><path class=\"background\" aria-hidden=\"true\" d=\"M0,0h0v0h0Z\" pointer-events=\"none\"/><g><g class=\"mark-rect role-legend-gradient\" pointer-events=\"none\"><path d=\"M0,0h16v200h-16Z\" fill=\"url(#gradient_0)\" stroke=\"#ddd\" stroke-width=\"0\" opacity=\"0.7\"/></g><g class=\"mark-text role-legend-label\" pointer-events=\"none\"><text text-anchor=\"start\" transform=\"translate(18,202.49069122060038)\" font-family=\"sans-serif\" font-size=\"10px\" fill=\"#000\" opacity=\"1\">10,000</text><text text-anchor=\"start\" transform=\"translate(18,150.32558691271845)\" font-family=\"sans-serif\" font-size=\"10px\" fill=\"#000\" opacity=\"1\">15,000</text><text text-anchor=\"start\" transform=\"translate(18,98.16048260483652)\" font-family=\"sans-serif\" font-size=\"10px\" fill=\"#000\" opacity=\"1\">20,000</text><text text-anchor=\"start\" transform=\"translate(18,45.99537829695459)\" font-family=\"sans-serif\" font-size=\"10px\" fill=\"#000\" opacity=\"1\">25,000</text></g></g><path class=\"foreground\" aria-hidden=\"true\" d=\"\" pointer-events=\"none\" display=\"none\"/></g></g><g class=\"mark-text role-legend-title\" pointer-events=\"none\"><text text-anchor=\"start\" transform=\"translate(0,9)\" font-family=\"sans-serif\" font-size=\"11px\" font-weight=\"bold\" fill=\"#000\" opacity=\"1\">profit_mean</text></g></g><path class=\"foreground\" aria-hidden=\"true\" d=\"\" pointer-events=\"none\" display=\"none\"/></g></g></g><path class=\"foreground\" aria-hidden=\"true\" d=\"\" display=\"none\"/></g></g></g><defs><linearGradient id=\"gradient_0\" x1=\"0\" x2=\"0\" y1=\"1\" y2=\"0\"><stop offset=\"0\" stop-color=\"rgb(13, 8, 135)\"/><stop offset=\"0.0025465438969980154\" stop-color=\"rgb(15, 8, 136)\"/><stop offset=\"0.054711648204879955\" stop-color=\"rgb(45, 5, 148)\"/><stop offset=\"0.1068767525127619\" stop-color=\"rgb(69, 3, 158)\"/><stop offset=\"0.15904185682064384\" stop-color=\"rgb(90, 1, 165)\"/><stop offset=\"0.21120696112852577\" stop-color=\"rgb(111, 0, 168)\"/><stop offset=\"0.26337206543640773\" stop-color=\"rgb(131, 5, 167)\"/><stop offset=\"0.31553716974428964\" stop-color=\"rgb(150, 18, 161)\"/><stop offset=\"0.3677022740521716\" stop-color=\"rgb(167, 33, 152)\"/><stop offset=\"0.41986737836005356\" stop-color=\"rgb(182, 48, 139)\"/><stop offset=\"0.47203248266793546\" stop-color=\"rgb(196, 63, 127)\"/><stop offset=\"0.5241975869758174\" stop-color=\"rgb(209, 78, 115)\"/><stop offset=\"0.5763626912836993\" stop-color=\"rgb(220, 93, 103)\"/><stop offset=\"0.6285277955915813\" stop-color=\"rgb(230, 109, 92)\"/><stop offset=\"0.6806928998994632\" stop-color=\"rgb(239, 125, 80)\"/><stop offset=\"0.7328580042073451\" stop-color=\"rgb(246, 143, 68)\"/><stop offset=\"0.785023108515227\" stop-color=\"rgb(251, 161, 57)\"/><stop offset=\"0.8371882128231091\" stop-color=\"rgb(253, 181, 46)\"/><stop offset=\"0.889353317130991\" stop-color=\"rgb(253, 202, 38)\"/><stop offset=\"0.9415184214388729\" stop-color=\"rgb(248, 223, 37)\"/><stop offset=\"0.9936835257467549\" stop-color=\"rgb(241, 246, 34)\"/><stop offset=\"1\" stop-color=\"rgb(240, 249, 33)\"/></linearGradient></defs></svg>\n"
      ],
      "text/plain": [
       "@vlplot(\n",
       "    mark=\"point\",\n",
       "    encoding={\n",
       "        x={\n",
       "            field=\"S\"\n",
       "        },\n",
       "        y={\n",
       "            field=\"s\"\n",
       "        },\n",
       "        color={\n",
       "            scale={\n",
       "                scheme=\"plasma\"\n",
       "            },\n",
       "            field=\"profit_mean\"\n",
       "        }\n",
       "    },\n",
       "    data={\n",
       "        values=...\n",
       "    }\n",
       ")"
      ]
     },
     "execution_count": 37,
     "metadata": {},
     "output_type": "execute_result"
    }
   ],
   "source": [
    "# using PyPlot\n",
    "# using PyCall \n",
    "\n",
    "using VegaLite\n",
    "df |> @vlplot(:point, x=:S, y=:s, color={:profit_mean, scale={scheme=:plasma}})\n",
    "\n",
    "# scatter(df.S[more500],\n",
    "#         df.s[more500], \n",
    "#         c=df.profit_mean[more500] )\n",
    "# xlabel(\"S - target wharehouse stock \")\n",
    "# ylabel(\"s - reorder point\")\n",
    "# colorbar()\n",
    "# title(\"Profits\")\n",
    "\n",
    "# scatter(df.S[Not(more500)],\n",
    "#         df.s[Not(more500)], \n",
    "#         c=\"gray\")\n",
    "# show()"
   ]
  },
  {
   "cell_type": "code",
   "execution_count": 38,
   "metadata": {},
   "outputs": [
    {
     "data": {
      "application/vnd.vegalite.v4+json": {
       "data": {
        "values": [
         {
          "N": 1000,
          "S": 230,
          "lost_mean": 209.203,
          "lost_std": 94.67962834223117,
          "m": 250,
          "p": 0,
          "profit_mean": 9951.182999999997,
          "profit_std": 287.8753016156131,
          "s": 35
         },
         {
          "N": 1000,
          "S": 230,
          "lost_mean": 204.686,
          "lost_std": 94.70490178666793,
          "m": 250,
          "p": 0.01,
          "profit_mean": 10150.79686,
          "profit_std": 294.5694377211931,
          "s": 35
         },
         {
          "N": 1000,
          "S": 230,
          "lost_mean": 212.174,
          "lost_std": 95.84513557825466,
          "m": 250,
          "p": 0.02,
          "profit_mean": 10335.136739999998,
          "profit_std": 291.757917757079,
          "s": 35
         },
         {
          "N": 1000,
          "S": 230,
          "lost_mean": 209.304,
          "lost_std": 98.43403295020906,
          "m": 250,
          "p": 0.03,
          "profit_mean": 10532.661240000001,
          "profit_std": 312.7849776480716,
          "s": 35
         },
         {
          "N": 1000,
          "S": 230,
          "lost_mean": 210.436,
          "lost_std": 94.4455921357576,
          "m": 250,
          "p": 0.04,
          "profit_mean": 10717.045340000002,
          "profit_std": 300.2750931666837,
          "s": 35
         },
         {
          "N": 1000,
          "S": 230,
          "lost_mean": 209.943,
          "lost_std": 95.88991932225007,
          "m": 250,
          "p": 0.05,
          "profit_mean": 10911.384599999996,
          "profit_std": 312.332194374007,
          "s": 35
         },
         {
          "N": 1000,
          "S": 230,
          "lost_mean": 211.403,
          "lost_std": 96.79979747805153,
          "m": 250,
          "p": 0.06,
          "profit_mean": 11086.432420000003,
          "profit_std": 317.7599218965588,
          "s": 35
         },
         {
          "N": 1000,
          "S": 230,
          "lost_mean": 212.381,
          "lost_std": 98.49925859082872,
          "m": 250,
          "p": 0.07,
          "profit_mean": 11275.142600000001,
          "profit_std": 323.31495962599394,
          "s": 35
         },
         {
          "N": 1000,
          "S": 230,
          "lost_mean": 205.078,
          "lost_std": 99.55121476084739,
          "m": 250,
          "p": 0.08,
          "profit_mean": 11492.73186,
          "profit_std": 320.62758795134243,
          "s": 35
         },
         {
          "N": 1000,
          "S": 230,
          "lost_mean": 208.672,
          "lost_std": 95.93979810725507,
          "m": 250,
          "p": 0.09,
          "profit_mean": 11685.381899999998,
          "profit_std": 326.71427975248366,
          "s": 35
         },
         {
          "N": 1000,
          "S": 230,
          "lost_mean": 213.137,
          "lost_std": 99.85490089240605,
          "m": 250,
          "p": 0.1,
          "profit_mean": 11851.555,
          "profit_std": 341.76943353772964,
          "s": 35
         },
         {
          "N": 1000,
          "S": 230,
          "lost_mean": 209.323,
          "lost_std": 95.95015947930521,
          "m": 250,
          "p": 0.11,
          "profit_mean": 12052.02818,
          "profit_std": 335.7474905468336,
          "s": 35
         },
         {
          "N": 1000,
          "S": 230,
          "lost_mean": 211.184,
          "lost_std": 93.08298763247014,
          "m": 250,
          "p": 0.12,
          "profit_mean": 12247.288040000003,
          "profit_std": 338.43354696286883,
          "s": 35
         },
         {
          "N": 1000,
          "S": 230,
          "lost_mean": 207.645,
          "lost_std": 95.03839893575791,
          "m": 250,
          "p": 0.13,
          "profit_mean": 12442.448179999996,
          "profit_std": 353.82065867327685,
          "s": 35
         },
         {
          "N": 1000,
          "S": 230,
          "lost_mean": 211.245,
          "lost_std": 96.74845341522642,
          "m": 250,
          "p": 0.14,
          "profit_mean": 12636.472619999999,
          "profit_std": 347.1972056511219,
          "s": 35
         },
         {
          "N": 1000,
          "S": 230,
          "lost_mean": 204.311,
          "lost_std": 96.08633025494241,
          "m": 250,
          "p": 0.15,
          "profit_mean": 12834.318100000002,
          "profit_std": 341.085610068478,
          "s": 35
         },
         {
          "N": 1000,
          "S": 230,
          "lost_mean": 212.598,
          "lost_std": 96.64052870192602,
          "m": 250,
          "p": 0.16,
          "profit_mean": 13015.817939999997,
          "profit_std": 362.66969529537784,
          "s": 35
         },
         {
          "N": 1000,
          "S": 230,
          "lost_mean": 209.28,
          "lost_std": 95.16680261688063,
          "m": 250,
          "p": 0.17,
          "profit_mean": 13212.403299999996,
          "profit_std": 356.7423999726527,
          "s": 35
         },
         {
          "N": 1000,
          "S": 230,
          "lost_mean": 208.769,
          "lost_std": 93.3077594682081,
          "m": 250,
          "p": 0.18,
          "profit_mean": 13408.679979999995,
          "profit_std": 367.71799408183864,
          "s": 35
         },
         {
          "N": 1000,
          "S": 230,
          "lost_mean": 204.466,
          "lost_std": 98.91951230123362,
          "m": 250,
          "p": 0.19,
          "profit_mean": 13600.674579999999,
          "profit_std": 368.81220843583105,
          "s": 35
         },
         {
          "N": 1000,
          "S": 230,
          "lost_mean": 204.002,
          "lost_std": 92.93320491932137,
          "m": 250,
          "p": 0.2,
          "profit_mean": 13797.083299999997,
          "profit_std": 371.8217251942609,
          "s": 35
         },
         {
          "N": 1000,
          "S": 230,
          "lost_mean": 213.745,
          "lost_std": 97.71497424239126,
          "m": 250,
          "p": 0.21,
          "profit_mean": 13968.720440000003,
          "profit_std": 378.86779502659584,
          "s": 35
         },
         {
          "N": 1000,
          "S": 230,
          "lost_mean": 207.038,
          "lost_std": 98.35704684802542,
          "m": 250,
          "p": 0.22,
          "profit_mean": 14168.449540000007,
          "profit_std": 379.0086890758353,
          "s": 35
         },
         {
          "N": 1000,
          "S": 230,
          "lost_mean": 206.546,
          "lost_std": 94.84908134627467,
          "m": 250,
          "p": 0.23,
          "profit_mean": 14381.039180000003,
          "profit_std": 384.2001878928543,
          "s": 35
         },
         {
          "N": 1000,
          "S": 230,
          "lost_mean": 206.788,
          "lost_std": 95.29819936810351,
          "m": 250,
          "p": 0.24,
          "profit_mean": 14558.0107,
          "profit_std": 392.1245185171825,
          "s": 35
         },
         {
          "N": 1000,
          "S": 230,
          "lost_mean": 212.219,
          "lost_std": 101.92394973964919,
          "m": 250,
          "p": 0.25,
          "profit_mean": 14739.464899999997,
          "profit_std": 398.2037534318795,
          "s": 35
         },
         {
          "N": 1000,
          "S": 230,
          "lost_mean": 208.471,
          "lost_std": 95.66445969035652,
          "m": 250,
          "p": 0.26,
          "profit_mean": 14923.84748,
          "profit_std": 401.07982078120983,
          "s": 35
         },
         {
          "N": 1000,
          "S": 230,
          "lost_mean": 210.839,
          "lost_std": 93.47682598374848,
          "m": 250,
          "p": 0.27,
          "profit_mean": 15127.723460000003,
          "profit_std": 398.68410088179377,
          "s": 35
         },
         {
          "N": 1000,
          "S": 230,
          "lost_mean": 211.479,
          "lost_std": 100.72313889921078,
          "m": 250,
          "p": 0.28,
          "profit_mean": 15317.681020000004,
          "profit_std": 425.8404148766319,
          "s": 35
         },
         {
          "N": 1000,
          "S": 230,
          "lost_mean": 206.755,
          "lost_std": 98.61411521034256,
          "m": 250,
          "p": 0.29,
          "profit_mean": 15516.495879999997,
          "profit_std": 419.14158762678744,
          "s": 35
         },
         {
          "N": 1000,
          "S": 230,
          "lost_mean": 209.136,
          "lost_std": 99.70900355228403,
          "m": 250,
          "p": 0.3,
          "profit_mean": 15721.332399999998,
          "profit_std": 433.1722118226602,
          "s": 35
         },
         {
          "N": 1000,
          "S": 230,
          "lost_mean": 203.336,
          "lost_std": 95.03585069286704,
          "m": 250,
          "p": 0.31,
          "profit_mean": 15910.764480000003,
          "profit_std": 412.75039851828893,
          "s": 35
         },
         {
          "N": 1000,
          "S": 230,
          "lost_mean": 208.547,
          "lost_std": 95.27964106251136,
          "m": 250,
          "p": 0.32,
          "profit_mean": 16070.278620000003,
          "profit_std": 428.84033471208306,
          "s": 35
         },
         {
          "N": 1000,
          "S": 230,
          "lost_mean": 206.398,
          "lost_std": 95.53006641675485,
          "m": 250,
          "p": 0.33,
          "profit_mean": 16288.631300000003,
          "profit_std": 422.48867176017353,
          "s": 35
         },
         {
          "N": 1000,
          "S": 230,
          "lost_mean": 212.058,
          "lost_std": 96.74174694309382,
          "m": 250,
          "p": 0.34,
          "profit_mean": 16457.374319999995,
          "profit_std": 456.15330292995964,
          "s": 35
         },
         {
          "N": 1000,
          "S": 230,
          "lost_mean": 207.693,
          "lost_std": 94.81148648222413,
          "m": 250,
          "p": 0.35,
          "profit_mean": 16676.84340000001,
          "profit_std": 431.63798257850806,
          "s": 35
         },
         {
          "N": 1000,
          "S": 230,
          "lost_mean": 211.012,
          "lost_std": 102.60485179372178,
          "m": 250,
          "p": 0.36,
          "profit_mean": 16864.446620000006,
          "profit_std": 457.6404269154147,
          "s": 35
         },
         {
          "N": 1000,
          "S": 230,
          "lost_mean": 213.446,
          "lost_std": 100.22171159721569,
          "m": 250,
          "p": 0.37,
          "profit_mean": 17043.841099999998,
          "profit_std": 472.21917366151456,
          "s": 35
         },
         {
          "N": 1000,
          "S": 230,
          "lost_mean": 209.051,
          "lost_std": 96.21301025507071,
          "m": 250,
          "p": 0.38,
          "profit_mean": 17226.07372,
          "profit_std": 447.90966805651806,
          "s": 35
         },
         {
          "N": 1000,
          "S": 230,
          "lost_mean": 206.864,
          "lost_std": 99.9160183089514,
          "m": 250,
          "p": 0.39,
          "profit_mean": 17442.28089999999,
          "profit_std": 472.5728699299017,
          "s": 35
         },
         {
          "N": 1000,
          "S": 230,
          "lost_mean": 208.451,
          "lost_std": 95.44429376454212,
          "m": 250,
          "p": 0.4,
          "profit_mean": 17635.363100000002,
          "profit_std": 464.3338872053137,
          "s": 35
         },
         {
          "N": 1000,
          "S": 230,
          "lost_mean": 214.676,
          "lost_std": 98.97607431741919,
          "m": 250,
          "p": 0.41,
          "profit_mean": 17805.405979999996,
          "profit_std": 454.10976192603044,
          "s": 35
         },
         {
          "N": 1000,
          "S": 230,
          "lost_mean": 211.919,
          "lost_std": 99.67186624077989,
          "m": 250,
          "p": 0.42,
          "profit_mean": 17980.802800000005,
          "profit_std": 479.10536914096406,
          "s": 35
         },
         {
          "N": 1000,
          "S": 230,
          "lost_mean": 212.654,
          "lost_std": 97.7412688665317,
          "m": 250,
          "p": 0.43,
          "profit_mean": 18175.695659999998,
          "profit_std": 465.51663213031924,
          "s": 35
         },
         {
          "N": 1000,
          "S": 230,
          "lost_mean": 207.781,
          "lost_std": 95.11077277626389,
          "m": 250,
          "p": 0.44,
          "profit_mean": 18391.573640000002,
          "profit_std": 474.22508687475835,
          "s": 35
         },
         {
          "N": 1000,
          "S": 230,
          "lost_mean": 206.054,
          "lost_std": 94.75562100325085,
          "m": 250,
          "p": 0.45,
          "profit_mean": 18591.453900000008,
          "profit_std": 494.76625773650386,
          "s": 35
         },
         {
          "N": 1000,
          "S": 230,
          "lost_mean": 212.695,
          "lost_std": 94.27700742561322,
          "m": 250,
          "p": 0.46,
          "profit_mean": 18772.434759999996,
          "profit_std": 482.9532887205851,
          "s": 35
         },
         {
          "N": 1000,
          "S": 230,
          "lost_mean": 212.921,
          "lost_std": 98.57663065408104,
          "m": 250,
          "p": 0.47,
          "profit_mean": 18934.243399999996,
          "profit_std": 505.603153522297,
          "s": 35
         },
         {
          "N": 1000,
          "S": 230,
          "lost_mean": 210.917,
          "lost_std": 94.74988998754908,
          "m": 250,
          "p": 0.48,
          "profit_mean": 19142.441460000005,
          "profit_std": 483.3864734128865,
          "s": 35
         },
         {
          "N": 1000,
          "S": 230,
          "lost_mean": 206.595,
          "lost_std": 94.63100973255544,
          "m": 250,
          "p": 0.49,
          "profit_mean": 19341.964020000007,
          "profit_std": 487.6584922304586,
          "s": 35
         },
         {
          "N": 1000,
          "S": 230,
          "lost_mean": 204.025,
          "lost_std": 93.54120125020492,
          "m": 250,
          "p": 0.5,
          "profit_mean": 19557.246799999997,
          "profit_std": 498.8584293186419,
          "s": 35
         },
         {
          "N": 1000,
          "S": 230,
          "lost_mean": 207.003,
          "lost_std": 96.1169780239915,
          "m": 250,
          "p": 0.51,
          "profit_mean": 19724.361120000005,
          "profit_std": 502.1554196328188,
          "s": 35
         },
         {
          "N": 1000,
          "S": 230,
          "lost_mean": 207.98,
          "lost_std": 93.34242555455909,
          "m": 250,
          "p": 0.52,
          "profit_mean": 19920.180780000002,
          "profit_std": 510.7580386384781,
          "s": 35
         },
         {
          "N": 1000,
          "S": 230,
          "lost_mean": 209.973,
          "lost_std": 97.44822434209577,
          "m": 250,
          "p": 0.53,
          "profit_mean": 20094.274660000003,
          "profit_std": 540.5160838828202,
          "s": 35
         },
         {
          "N": 1000,
          "S": 230,
          "lost_mean": 212.62,
          "lost_std": 102.59550398256951,
          "m": 250,
          "p": 0.54,
          "profit_mean": 20298.93554,
          "profit_std": 546.127328599799,
          "s": 35
         },
         {
          "N": 1000,
          "S": 230,
          "lost_mean": 207.474,
          "lost_std": 95.08331168065276,
          "m": 250,
          "p": 0.55,
          "profit_mean": 20502.088099999997,
          "profit_std": 511.3977433468886,
          "s": 35
         },
         {
          "N": 1000,
          "S": 230,
          "lost_mean": 205.334,
          "lost_std": 91.45223866016597,
          "m": 250,
          "p": 0.56,
          "profit_mean": 20718.972599999997,
          "profit_std": 528.7247023903439,
          "s": 35
         },
         {
          "N": 1000,
          "S": 230,
          "lost_mean": 210.997,
          "lost_std": 95.46601883262838,
          "m": 250,
          "p": 0.57,
          "profit_mean": 20864.76466,
          "profit_std": 536.8129883689157,
          "s": 35
         },
         {
          "N": 1000,
          "S": 230,
          "lost_mean": 207.618,
          "lost_std": 92.92263821423008,
          "m": 250,
          "p": 0.58,
          "profit_mean": 21076.443079999994,
          "profit_std": 540.123563474075,
          "s": 35
         },
         {
          "N": 1000,
          "S": 230,
          "lost_mean": 210.574,
          "lost_std": 93.73469323957227,
          "m": 250,
          "p": 0.59,
          "profit_mean": 21263.058139999997,
          "profit_std": 544.0582580234066,
          "s": 35
         },
         {
          "N": 1000,
          "S": 230,
          "lost_mean": 212.114,
          "lost_std": 97.74161051684396,
          "m": 250,
          "p": 0.6,
          "profit_mean": 21442.624299999992,
          "profit_std": 555.9103393217965,
          "s": 35
         },
         {
          "N": 1000,
          "S": 230,
          "lost_mean": 210.061,
          "lost_std": 93.1368979554331,
          "m": 250,
          "p": 0.61,
          "profit_mean": 21638.432579999993,
          "profit_std": 517.9774961844357,
          "s": 35
         },
         {
          "N": 1000,
          "S": 230,
          "lost_mean": 216.841,
          "lost_std": 101.01023109460637,
          "m": 250,
          "p": 0.62,
          "profit_mean": 21797.397760000007,
          "profit_std": 579.5856567290713,
          "s": 35
         },
         {
          "N": 1000,
          "S": 230,
          "lost_mean": 206.437,
          "lost_std": 93.55756007960046,
          "m": 250,
          "p": 0.63,
          "profit_mean": 22008.900719999998,
          "profit_std": 563.3918774123536,
          "s": 35
         },
         {
          "N": 1000,
          "S": 230,
          "lost_mean": 206.505,
          "lost_std": 93.30579803499323,
          "m": 250,
          "p": 0.64,
          "profit_mean": 22222.851459999994,
          "profit_std": 549.9755154570709,
          "s": 35
         },
         {
          "N": 1000,
          "S": 230,
          "lost_mean": 214.513,
          "lost_std": 97.19418985485468,
          "m": 250,
          "p": 0.65,
          "profit_mean": 22382.692300000013,
          "profit_std": 579.938849707545,
          "s": 35
         },
         {
          "N": 1000,
          "S": 230,
          "lost_mean": 210.633,
          "lost_std": 94.85728340625835,
          "m": 250,
          "p": 0.66,
          "profit_mean": 22603.92198,
          "profit_std": 566.5442801132216,
          "s": 35
         },
         {
          "N": 1000,
          "S": 230,
          "lost_mean": 207.158,
          "lost_std": 91.72355338868115,
          "m": 250,
          "p": 0.67,
          "profit_mean": 22819.43056,
          "profit_std": 593.9904255138199,
          "s": 35
         },
         {
          "N": 1000,
          "S": 230,
          "lost_mean": 207.661,
          "lost_std": 98.76266573530276,
          "m": 250,
          "p": 0.68,
          "profit_mean": 22992.92800000001,
          "profit_std": 591.1917794137928,
          "s": 35
         },
         {
          "N": 1000,
          "S": 230,
          "lost_mean": 214.584,
          "lost_std": 96.77512267296989,
          "m": 250,
          "p": 0.69,
          "profit_mean": 23157.096719999998,
          "profit_std": 585.7499433941312,
          "s": 35
         },
         {
          "N": 1000,
          "S": 230,
          "lost_mean": 212.61,
          "lost_std": 98.90855778345373,
          "m": 250,
          "p": 0.7,
          "profit_mean": 23372.411899999996,
          "profit_std": 620.6134443562319,
          "s": 35
         },
         {
          "N": 1000,
          "S": 230,
          "lost_mean": 214.898,
          "lost_std": 98.96501235118232,
          "m": 250,
          "p": 0.71,
          "profit_mean": 23511.572359999995,
          "profit_std": 624.6370382319334,
          "s": 35
         },
         {
          "N": 1000,
          "S": 230,
          "lost_mean": 204.557,
          "lost_std": 94.52350736427655,
          "m": 250,
          "p": 0.72,
          "profit_mean": 23753.85134,
          "profit_std": 611.8187390091994,
          "s": 35
         },
         {
          "N": 1000,
          "S": 230,
          "lost_mean": 212.922,
          "lost_std": 98.32301526769474,
          "m": 250,
          "p": 0.73,
          "profit_mean": 23931.33494,
          "profit_std": 648.6723151009104,
          "s": 35
         },
         {
          "N": 1000,
          "S": 230,
          "lost_mean": 204.658,
          "lost_std": 97.43681526491393,
          "m": 250,
          "p": 0.74,
          "profit_mean": 24133.45710000001,
          "profit_std": 593.7001171031033,
          "s": 35
         },
         {
          "N": 1000,
          "S": 230,
          "lost_mean": 208.909,
          "lost_std": 96.83343137797209,
          "m": 250,
          "p": 0.75,
          "profit_mean": 24313.50960000001,
          "profit_std": 619.702039811058,
          "s": 35
         },
         {
          "N": 1000,
          "S": 230,
          "lost_mean": 210.338,
          "lost_std": 95.29613375740439,
          "m": 250,
          "p": 0.76,
          "profit_mean": 24513.23324,
          "profit_std": 616.363198883289,
          "s": 35
         },
         {
          "N": 1000,
          "S": 230,
          "lost_mean": 205.362,
          "lost_std": 90.91849717812723,
          "m": 250,
          "p": 0.77,
          "profit_mean": 24723.71622,
          "profit_std": 628.9877455249283,
          "s": 35
         },
         {
          "N": 1000,
          "S": 230,
          "lost_mean": 209.068,
          "lost_std": 97.32068995179131,
          "m": 250,
          "p": 0.78,
          "profit_mean": 24893.25202,
          "profit_std": 648.2650890819608,
          "s": 35
         },
         {
          "N": 1000,
          "S": 230,
          "lost_mean": 203.513,
          "lost_std": 90.22127082184505,
          "m": 250,
          "p": 0.79,
          "profit_mean": 25072.484739999996,
          "profit_std": 636.4735424755717,
          "s": 35
         },
         {
          "N": 1000,
          "S": 230,
          "lost_mean": 209.582,
          "lost_std": 94.83733123298755,
          "m": 250,
          "p": 0.8,
          "profit_mean": 25304.86600000001,
          "profit_std": 660.0920988793936,
          "s": 35
         },
         {
          "N": 1000,
          "S": 230,
          "lost_mean": 207.375,
          "lost_std": 96.3675935576275,
          "m": 250,
          "p": 0.81,
          "profit_mean": 25494.531039999998,
          "profit_std": 627.2142325537873,
          "s": 35
         },
         {
          "N": 1000,
          "S": 230,
          "lost_mean": 213.617,
          "lost_std": 97.5458738671632,
          "m": 250,
          "p": 0.82,
          "profit_mean": 25675.98876000001,
          "profit_std": 666.9850740574919,
          "s": 35
         },
         {
          "N": 1000,
          "S": 230,
          "lost_mean": 211.105,
          "lost_std": 99.8997193636145,
          "m": 250,
          "p": 0.83,
          "profit_mean": 25860.431399999983,
          "profit_std": 674.0373157719777,
          "s": 35
         },
         {
          "N": 1000,
          "S": 230,
          "lost_mean": 211.899,
          "lost_std": 97.92390867858009,
          "m": 250,
          "p": 0.84,
          "profit_mean": 26045.22736000001,
          "profit_std": 663.5388854696918,
          "s": 35
         },
         {
          "N": 1000,
          "S": 230,
          "lost_mean": 209.897,
          "lost_std": 98.65942465407485,
          "m": 250,
          "p": 0.85,
          "profit_mean": 26250.962199999994,
          "profit_std": 650.526442570664,
          "s": 35
         },
         {
          "N": 1000,
          "S": 230,
          "lost_mean": 207.112,
          "lost_std": 96.58690639256693,
          "m": 250,
          "p": 0.86,
          "profit_mean": 26437.492099999996,
          "profit_std": 682.4361890724621,
          "s": 35
         },
         {
          "N": 1000,
          "S": 230,
          "lost_mean": 211.603,
          "lost_std": 95.35846384892969,
          "m": 250,
          "p": 0.87,
          "profit_mean": 26632.550740000002,
          "profit_std": 676.7963529005984,
          "s": 35
         },
         {
          "N": 1000,
          "S": 230,
          "lost_mean": 207.462,
          "lost_std": 95.76070524316674,
          "m": 250,
          "p": 0.88,
          "profit_mean": 26849.68821999999,
          "profit_std": 692.1884104366197,
          "s": 35
         },
         {
          "N": 1000,
          "S": 230,
          "lost_mean": 208.06,
          "lost_std": 98.8250413042605,
          "m": 250,
          "p": 0.89,
          "profit_mean": 26986.201520000006,
          "profit_std": 702.3708544793925,
          "s": 35
         },
         {
          "N": 1000,
          "S": 230,
          "lost_mean": 211.373,
          "lost_std": 96.96223773483439,
          "m": 250,
          "p": 0.9,
          "profit_mean": 27210.9626,
          "profit_std": 702.4283672605853,
          "s": 35
         },
         {
          "N": 1000,
          "S": 230,
          "lost_mean": 209.007,
          "lost_std": 96.73668868603026,
          "m": 250,
          "p": 0.91,
          "profit_mean": 27379.30342,
          "profit_std": 689.0751682615023,
          "s": 35
         },
         {
          "N": 1000,
          "S": 230,
          "lost_mean": 209.649,
          "lost_std": 92.24961675145751,
          "m": 250,
          "p": 0.92,
          "profit_mean": 27577.56424000001,
          "profit_std": 681.3460410123668,
          "s": 35
         },
         {
          "N": 1000,
          "S": 230,
          "lost_mean": 214.797,
          "lost_std": 100.21870873534832,
          "m": 250,
          "p": 0.93,
          "profit_mean": 27737.124999999996,
          "profit_std": 703.7485483346184,
          "s": 35
         },
         {
          "N": 1000,
          "S": 230,
          "lost_mean": 206.251,
          "lost_std": 93.58797309327575,
          "m": 250,
          "p": 0.94,
          "profit_mean": 27960.022800000013,
          "profit_std": 707.9608612478647,
          "s": 35
         },
         {
          "N": 1000,
          "S": 230,
          "lost_mean": 210.033,
          "lost_std": 97.35865970533705,
          "m": 250,
          "p": 0.95,
          "profit_mean": 28142.175099999997,
          "profit_std": 712.9853927678254,
          "s": 35
         },
         {
          "N": 1000,
          "S": 230,
          "lost_mean": 212.303,
          "lost_std": 97.5807213961251,
          "m": 250,
          "p": 0.96,
          "profit_mean": 28348.163080000006,
          "profit_std": 703.2032069306503,
          "s": 35
         },
         {
          "N": 1000,
          "S": 230,
          "lost_mean": 213.015,
          "lost_std": 98.13458703317689,
          "m": 250,
          "p": 0.97,
          "profit_mean": 28522.194419999993,
          "profit_std": 724.0322973011627,
          "s": 35
         },
         {
          "N": 1000,
          "S": 230,
          "lost_mean": 211.821,
          "lost_std": 98.45413234179244,
          "m": 250,
          "p": 0.98,
          "profit_mean": 28751.304440000004,
          "profit_std": 734.9215044661662,
          "s": 35
         },
         {
          "N": 1000,
          "S": 230,
          "lost_mean": 214.842,
          "lost_std": 94.99076945831251,
          "m": 250,
          "p": 0.99,
          "profit_mean": 28915.401379999996,
          "profit_std": 727.9481146676212,
          "s": 35
         },
         {
          "N": 1000,
          "S": 230,
          "lost_mean": 210.381,
          "lost_std": 96.49985523854978,
          "m": 250,
          "p": 1,
          "profit_mean": 29121.0862,
          "profit_std": 745.1793722496523,
          "s": 35
         }
        ]
       },
       "encoding": {
        "color": {
         "field": "lost_mean",
         "scale": {
          "scheme": "plasma"
         },
         "type": "quantitative"
        },
        "x": {
         "field": "S",
         "type": "quantitative"
        },
        "y": {
         "field": "s",
         "type": "quantitative"
        }
       },
       "mark": "point"
      },
      "image/png": "[encoded data removed]",
      "image/svg+xml": [
       "<?xml version=\"1.0\" encoding=\"utf-8\"?>\n",
       "<!DOCTYPE svg PUBLIC \"-//W3C//DTD SVG 1.1//EN\" \"http://www.w3.org/Graphics/SVG/1.1/DTD/svg11.dtd\">\n",
       "<svg xmlns=\"http://www.w3.org/2000/svg\" xmlns:xlink=\"http://www.w3.org/1999/xlink\" version=\"1.1\" class=\"marks\" width=\"317\" height=\"247\" viewBox=\"0 0 317 247\"><rect width=\"317\" height=\"247\" fill=\"white\"/><g fill=\"none\" stroke-miterlimit=\"10\" transform=\"translate(39,10)\"><g class=\"mark-group role-frame root\" role=\"graphics-object\" aria-roledescription=\"group mark container\"><g transform=\"translate(0,0)\"><path class=\"background\" aria-hidden=\"true\" d=\"M0.5,0.5h200v200h-200Z\" stroke=\"#ddd\"/><g><g class=\"mark-group role-axis\" aria-hidden=\"true\"><g transform=\"translate(0.5,200.5)\"><path class=\"background\" aria-hidden=\"true\" d=\"M0,0h0v0h0Z\" pointer-events=\"none\"/><g><g class=\"mark-rule role-axis-grid\" pointer-events=\"none\"><line transform=\"translate(0,-200)\" x2=\"0\" y2=\"200\" stroke=\"#ddd\" stroke-width=\"1\" opacity=\"1\"/><line transform=\"translate(42,-200)\" x2=\"0\" y2=\"200\" stroke=\"#ddd\" stroke-width=\"1\" opacity=\"1\"/><line transform=\"translate(83,-200)\" x2=\"0\" y2=\"200\" stroke=\"#ddd\" stroke-width=\"1\" opacity=\"1\"/><line transform=\"translate(125,-200)\" x2=\"0\" y2=\"200\" stroke=\"#ddd\" stroke-width=\"1\" opacity=\"1\"/><line transform=\"translate(167,-200)\" x2=\"0\" y2=\"200\" stroke=\"#ddd\" stroke-width=\"1\" opacity=\"1\"/></g></g><path class=\"foreground\" aria-hidden=\"true\" d=\"\" pointer-events=\"none\" display=\"none\"/></g></g><g class=\"mark-group role-axis\" aria-hidden=\"true\"><g transform=\"translate(0.5,0.5)\"><path class=\"background\" aria-hidden=\"true\" d=\"M0,0h0v0h0Z\" pointer-events=\"none\"/><g><g class=\"mark-rule role-axis-grid\" pointer-events=\"none\"><line transform=\"translate(0,200)\" x2=\"200\" y2=\"0\" stroke=\"#ddd\" stroke-width=\"1\" opacity=\"1\"/><line transform=\"translate(0,171)\" x2=\"200\" y2=\"0\" stroke=\"#ddd\" stroke-width=\"1\" opacity=\"1\"/><line transform=\"translate(0,143)\" x2=\"200\" y2=\"0\" stroke=\"#ddd\" stroke-width=\"1\" opacity=\"1\"/><line transform=\"translate(0,114)\" x2=\"200\" y2=\"0\" stroke=\"#ddd\" stroke-width=\"1\" opacity=\"1\"/><line transform=\"translate(0,86)\" x2=\"200\" y2=\"0\" stroke=\"#ddd\" stroke-width=\"1\" opacity=\"1\"/><line transform=\"translate(0,57)\" x2=\"200\" y2=\"0\" stroke=\"#ddd\" stroke-width=\"1\" opacity=\"1\"/><line transform=\"translate(0,29)\" x2=\"200\" y2=\"0\" stroke=\"#ddd\" stroke-width=\"1\" opacity=\"1\"/><line transform=\"translate(0,0)\" x2=\"200\" y2=\"0\" stroke=\"#ddd\" stroke-width=\"1\" opacity=\"1\"/></g></g><path class=\"foreground\" aria-hidden=\"true\" d=\"\" pointer-events=\"none\" display=\"none\"/></g></g><g class=\"mark-group role-axis\" role=\"graphics-symbol\" aria-roledescription=\"axis\" aria-label=\"X-axis titled 'S' for a linear scale with values from 0 to 240\"><g transform=\"translate(0.5,200.5)\"><path class=\"background\" aria-hidden=\"true\" d=\"M0,0h0v0h0Z\" pointer-events=\"none\"/><g><g class=\"mark-rule role-axis-tick\" pointer-events=\"none\"><line transform=\"translate(0,0)\" x2=\"0\" y2=\"5\" stroke=\"#888\" stroke-width=\"1\" opacity=\"1\"/><line transform=\"translate(42,0)\" x2=\"0\" y2=\"5\" stroke=\"#888\" stroke-width=\"1\" opacity=\"1\"/><line transform=\"translate(83,0)\" x2=\"0\" y2=\"5\" stroke=\"#888\" stroke-width=\"1\" opacity=\"1\"/><line transform=\"translate(125,0)\" x2=\"0\" y2=\"5\" stroke=\"#888\" stroke-width=\"1\" opacity=\"1\"/><line transform=\"translate(167,0)\" x2=\"0\" y2=\"5\" stroke=\"#888\" stroke-width=\"1\" opacity=\"1\"/></g><g class=\"mark-text role-axis-label\" pointer-events=\"none\"><text text-anchor=\"start\" transform=\"translate(0,15)\" font-family=\"sans-serif\" font-size=\"10px\" fill=\"#000\" opacity=\"1\">0</text><text text-anchor=\"middle\" transform=\"translate(41.66666666666667,15)\" font-family=\"sans-serif\" font-size=\"10px\" fill=\"#000\" opacity=\"1\">50</text><text text-anchor=\"middle\" transform=\"translate(83.33333333333334,15)\" font-family=\"sans-serif\" font-size=\"10px\" fill=\"#000\" opacity=\"1\">100</text><text text-anchor=\"middle\" transform=\"translate(125,15)\" font-family=\"sans-serif\" font-size=\"10px\" fill=\"#000\" opacity=\"1\">150</text><text text-anchor=\"middle\" transform=\"translate(166.66666666666669,15)\" font-family=\"sans-serif\" font-size=\"10px\" fill=\"#000\" opacity=\"1\">200</text></g><g class=\"mark-rule role-axis-domain\" pointer-events=\"none\"><line transform=\"translate(0,0)\" x2=\"200\" y2=\"0\" stroke=\"#888\" stroke-width=\"1\" opacity=\"1\"/></g><g class=\"mark-text role-axis-title\" pointer-events=\"none\"><text text-anchor=\"middle\" transform=\"translate(100,30)\" font-family=\"sans-serif\" font-size=\"11px\" font-weight=\"bold\" fill=\"#000\" opacity=\"1\">S</text></g></g><path class=\"foreground\" aria-hidden=\"true\" d=\"\" pointer-events=\"none\" display=\"none\"/></g></g><g class=\"mark-group role-axis\" role=\"graphics-symbol\" aria-roledescription=\"axis\" aria-label=\"Y-axis titled 's' for a linear scale with values from 0 to 35\"><g transform=\"translate(0.5,0.5)\"><path class=\"background\" aria-hidden=\"true\" d=\"M0,0h0v0h0Z\" pointer-events=\"none\"/><g><g class=\"mark-rule role-axis-tick\" pointer-events=\"none\"><line transform=\"translate(0,200)\" x2=\"-5\" y2=\"0\" stroke=\"#888\" stroke-width=\"1\" opacity=\"1\"/><line transform=\"translate(0,171)\" x2=\"-5\" y2=\"0\" stroke=\"#888\" stroke-width=\"1\" opacity=\"1\"/><line transform=\"translate(0,143)\" x2=\"-5\" y2=\"0\" stroke=\"#888\" stroke-width=\"1\" opacity=\"1\"/><line transform=\"translate(0,114)\" x2=\"-5\" y2=\"0\" stroke=\"#888\" stroke-width=\"1\" opacity=\"1\"/><line transform=\"translate(0,86)\" x2=\"-5\" y2=\"0\" stroke=\"#888\" stroke-width=\"1\" opacity=\"1\"/><line transform=\"translate(0,57)\" x2=\"-5\" y2=\"0\" stroke=\"#888\" stroke-width=\"1\" opacity=\"1\"/><line transform=\"translate(0,29)\" x2=\"-5\" y2=\"0\" stroke=\"#888\" stroke-width=\"1\" opacity=\"1\"/><line transform=\"translate(0,0)\" x2=\"-5\" y2=\"0\" stroke=\"#888\" stroke-width=\"1\" opacity=\"1\"/></g><g class=\"mark-text role-axis-label\" pointer-events=\"none\"><text text-anchor=\"end\" transform=\"translate(-7,203)\" font-family=\"sans-serif\" font-size=\"10px\" fill=\"#000\" opacity=\"1\">0</text><text text-anchor=\"end\" transform=\"translate(-7,174.42857142857144)\" font-family=\"sans-serif\" font-size=\"10px\" fill=\"#000\" opacity=\"1\">5</text><text text-anchor=\"end\" transform=\"translate(-7,145.85714285714286)\" font-family=\"sans-serif\" font-size=\"10px\" fill=\"#000\" opacity=\"1\">10</text><text text-anchor=\"end\" transform=\"translate(-7,117.28571428571428)\" font-family=\"sans-serif\" font-size=\"10px\" fill=\"#000\" opacity=\"1\">15</text><text text-anchor=\"end\" transform=\"translate(-7,88.71428571428572)\" font-family=\"sans-serif\" font-size=\"10px\" fill=\"#000\" opacity=\"1\">20</text><text text-anchor=\"end\" transform=\"translate(-7,60.14285714285714)\" font-family=\"sans-serif\" font-size=\"10px\" fill=\"#000\" opacity=\"1\">25</text><text text-anchor=\"end\" transform=\"translate(-7,31.57142857142858)\" font-family=\"sans-serif\" font-size=\"10px\" fill=\"#000\" opacity=\"1\">30</text><text text-anchor=\"end\" transform=\"translate(-7,3)\" font-family=\"sans-serif\" font-size=\"10px\" fill=\"#000\" opacity=\"1\">35</text></g><g class=\"mark-rule role-axis-domain\" pointer-events=\"none\"><line transform=\"translate(0,200)\" x2=\"0\" y2=\"-200\" stroke=\"#888\" stroke-width=\"1\" opacity=\"1\"/></g><g class=\"mark-text role-axis-title\" pointer-events=\"none\"><text text-anchor=\"middle\" transform=\"translate(-23,100) rotate(-90) translate(0,-2)\" font-family=\"sans-serif\" font-size=\"11px\" font-weight=\"bold\" fill=\"#000\" opacity=\"1\">s</text></g></g><path class=\"foreground\" aria-hidden=\"true\" d=\"\" pointer-events=\"none\" display=\"none\"/></g></g><g class=\"mark-symbol role-mark marks\" role=\"graphics-object\" aria-roledescription=\"symbol mark container\"><path aria-label=\"S: 230; s: 35; lost_mean: 209.203\" role=\"graphics-symbol\" aria-roledescription=\"point\" transform=\"translate(191.66666666666669,0)\" d=\"M2.7386127875258306,0A2.7386127875258306,2.7386127875258306,0,1,1,-2.7386127875258306,0A2.7386127875258306,2.7386127875258306,0,1,1,2.7386127875258306,0\" stroke=\"rgb(186, 52, 136)\" stroke-width=\"2\" opacity=\"0.7\"/><path aria-label=\"S: 230; s: 35; lost_mean: 204.686\" role=\"graphics-symbol\" aria-roledescription=\"point\" transform=\"translate(191.66666666666669,0)\" d=\"M2.7386127875258306,0A2.7386127875258306,2.7386127875258306,0,1,1,-2.7386127875258306,0A2.7386127875258306,2.7386127875258306,0,1,1,2.7386127875258306,0\" stroke=\"rgb(66, 3, 157)\" stroke-width=\"2\" opacity=\"0.7\"/><path aria-label=\"S: 230; s: 35; lost_mean: 212.174\" role=\"graphics-symbol\" aria-roledescription=\"point\" transform=\"translate(191.66666666666669,0)\" d=\"M2.7386127875258306,0A2.7386127875258306,2.7386127875258306,0,1,1,-2.7386127875258306,0A2.7386127875258306,2.7386127875258306,0,1,1,2.7386127875258306,0\" stroke=\"rgb(235, 117, 86)\" stroke-width=\"2\" opacity=\"0.7\"/><path aria-label=\"S: 230; s: 35; lost_mean: 209.304\" role=\"graphics-symbol\" aria-roledescription=\"point\" transform=\"translate(191.66666666666669,0)\" d=\"M2.7386127875258306,0A2.7386127875258306,2.7386127875258306,0,1,1,-2.7386127875258306,0A2.7386127875258306,2.7386127875258306,0,1,1,2.7386127875258306,0\" stroke=\"rgb(188, 54, 134)\" stroke-width=\"2\" opacity=\"0.7\"/><path aria-label=\"S: 230; s: 35; lost_mean: 210.436\" role=\"graphics-symbol\" aria-roledescription=\"point\" transform=\"translate(191.66666666666669,0)\" d=\"M2.7386127875258306,0A2.7386127875258306,2.7386127875258306,0,1,1,-2.7386127875258306,0A2.7386127875258306,2.7386127875258306,0,1,1,2.7386127875258306,0\" stroke=\"rgb(209, 79, 115)\" stroke-width=\"2\" opacity=\"0.7\"/><path aria-label=\"S: 230; s: 35; lost_mean: 209.943\" role=\"graphics-symbol\" aria-roledescription=\"point\" transform=\"translate(191.66666666666669,0)\" d=\"M2.7386127875258306,0A2.7386127875258306,2.7386127875258306,0,1,1,-2.7386127875258306,0A2.7386127875258306,2.7386127875258306,0,1,1,2.7386127875258306,0\" stroke=\"rgb(200, 68, 123)\" stroke-width=\"2\" opacity=\"0.7\"/><path aria-label=\"S: 230; s: 35; lost_mean: 211.403\" role=\"graphics-symbol\" aria-roledescription=\"point\" transform=\"translate(191.66666666666669,0)\" d=\"M2.7386127875258306,0A2.7386127875258306,2.7386127875258306,0,1,1,-2.7386127875258306,0A2.7386127875258306,2.7386127875258306,0,1,1,2.7386127875258306,0\" stroke=\"rgb(224, 99, 99)\" stroke-width=\"2\" opacity=\"0.7\"/><path aria-label=\"S: 230; s: 35; lost_mean: 212.381\" role=\"graphics-symbol\" aria-roledescription=\"point\" transform=\"translate(191.66666666666669,0)\" d=\"M2.7386127875258306,0A2.7386127875258306,2.7386127875258306,0,1,1,-2.7386127875258306,0A2.7386127875258306,2.7386127875258306,0,1,1,2.7386127875258306,0\" stroke=\"rgb(237, 122, 82)\" stroke-width=\"2\" opacity=\"0.7\"/><path aria-label=\"S: 230; s: 35; lost_mean: 205.078\" role=\"graphics-symbol\" aria-roledescription=\"point\" transform=\"translate(191.66666666666669,0)\" d=\"M2.7386127875258306,0A2.7386127875258306,2.7386127875258306,0,1,1,-2.7386127875258306,0A2.7386127875258306,2.7386127875258306,0,1,1,2.7386127875258306,0\" stroke=\"rgb(78, 2, 161)\" stroke-width=\"2\" opacity=\"0.7\"/><path aria-label=\"S: 230; s: 35; lost_mean: 208.672\" role=\"graphics-symbol\" aria-roledescription=\"point\" transform=\"translate(191.66666666666669,0)\" d=\"M2.7386127875258306,0A2.7386127875258306,2.7386127875258306,0,1,1,-2.7386127875258306,0A2.7386127875258306,2.7386127875258306,0,1,1,2.7386127875258306,0\" stroke=\"rgb(176, 41, 145)\" stroke-width=\"2\" opacity=\"0.7\"/><path aria-label=\"S: 230; s: 35; lost_mean: 213.137\" role=\"graphics-symbol\" aria-roledescription=\"point\" transform=\"translate(191.66666666666669,0)\" d=\"M2.7386127875258306,0A2.7386127875258306,2.7386127875258306,0,1,1,-2.7386127875258306,0A2.7386127875258306,2.7386127875258306,0,1,1,2.7386127875258306,0\" stroke=\"rgb(245, 140, 70)\" stroke-width=\"2\" opacity=\"0.7\"/><path aria-label=\"S: 230; s: 35; lost_mean: 209.323\" role=\"graphics-symbol\" aria-roledescription=\"point\" transform=\"translate(191.66666666666669,0)\" d=\"M2.7386127875258306,0A2.7386127875258306,2.7386127875258306,0,1,1,-2.7386127875258306,0A2.7386127875258306,2.7386127875258306,0,1,1,2.7386127875258306,0\" stroke=\"rgb(189, 55, 134)\" stroke-width=\"2\" opacity=\"0.7\"/><path aria-label=\"S: 230; s: 35; lost_mean: 211.184\" role=\"graphics-symbol\" aria-roledescription=\"point\" transform=\"translate(191.66666666666669,0)\" d=\"M2.7386127875258306,0A2.7386127875258306,2.7386127875258306,0,1,1,-2.7386127875258306,0A2.7386127875258306,2.7386127875258306,0,1,1,2.7386127875258306,0\" stroke=\"rgb(221, 94, 102)\" stroke-width=\"2\" opacity=\"0.7\"/><path aria-label=\"S: 230; s: 35; lost_mean: 207.645\" role=\"graphics-symbol\" aria-roledescription=\"point\" transform=\"translate(191.66666666666669,0)\" d=\"M2.7386127875258306,0A2.7386127875258306,2.7386127875258306,0,1,1,-2.7386127875258306,0A2.7386127875258306,2.7386127875258306,0,1,1,2.7386127875258306,0\" stroke=\"rgb(151, 19, 161)\" stroke-width=\"2\" opacity=\"0.7\"/><path aria-label=\"S: 230; s: 35; lost_mean: 211.245\" role=\"graphics-symbol\" aria-roledescription=\"point\" transform=\"translate(191.66666666666669,0)\" d=\"M2.7386127875258306,0A2.7386127875258306,2.7386127875258306,0,1,1,-2.7386127875258306,0A2.7386127875258306,2.7386127875258306,0,1,1,2.7386127875258306,0\" stroke=\"rgb(222, 96, 101)\" stroke-width=\"2\" opacity=\"0.7\"/><path aria-label=\"S: 230; s: 35; lost_mean: 204.311\" role=\"graphics-symbol\" aria-roledescription=\"point\" transform=\"translate(191.66666666666669,0)\" d=\"M2.7386127875258306,0A2.7386127875258306,2.7386127875258306,0,1,1,-2.7386127875258306,0A2.7386127875258306,2.7386127875258306,0,1,1,2.7386127875258306,0\" stroke=\"rgb(53, 5, 152)\" stroke-width=\"2\" opacity=\"0.7\"/><path aria-label=\"S: 230; s: 35; lost_mean: 212.598\" role=\"graphics-symbol\" aria-roledescription=\"point\" transform=\"translate(191.66666666666669,0)\" d=\"M2.7386127875258306,0A2.7386127875258306,2.7386127875258306,0,1,1,-2.7386127875258306,0A2.7386127875258306,2.7386127875258306,0,1,1,2.7386127875258306,0\" stroke=\"rgb(240, 127, 79)\" stroke-width=\"2\" opacity=\"0.7\"/><path aria-label=\"S: 230; s: 35; lost_mean: 209.28\" role=\"graphics-symbol\" aria-roledescription=\"point\" transform=\"translate(191.66666666666669,0)\" d=\"M2.7386127875258306,0A2.7386127875258306,2.7386127875258306,0,1,1,-2.7386127875258306,0A2.7386127875258306,2.7386127875258306,0,1,1,2.7386127875258306,0\" stroke=\"rgb(188, 54, 134)\" stroke-width=\"2\" opacity=\"0.7\"/><path aria-label=\"S: 230; s: 35; lost_mean: 208.769\" role=\"graphics-symbol\" aria-roledescription=\"point\" transform=\"translate(191.66666666666669,0)\" d=\"M2.7386127875258306,0A2.7386127875258306,2.7386127875258306,0,1,1,-2.7386127875258306,0A2.7386127875258306,2.7386127875258306,0,1,1,2.7386127875258306,0\" stroke=\"rgb(178, 43, 143)\" stroke-width=\"2\" opacity=\"0.7\"/><path aria-label=\"S: 230; s: 35; lost_mean: 204.466\" role=\"graphics-symbol\" aria-roledescription=\"point\" transform=\"translate(191.66666666666669,0)\" d=\"M2.7386127875258306,0A2.7386127875258306,2.7386127875258306,0,1,1,-2.7386127875258306,0A2.7386127875258306,2.7386127875258306,0,1,1,2.7386127875258306,0\" stroke=\"rgb(59, 4, 154)\" stroke-width=\"2\" opacity=\"0.7\"/><path aria-label=\"S: 230; s: 35; lost_mean: 204.002\" role=\"graphics-symbol\" aria-roledescription=\"point\" transform=\"translate(191.66666666666669,0)\" d=\"M2.7386127875258306,0A2.7386127875258306,2.7386127875258306,0,1,1,-2.7386127875258306,0A2.7386127875258306,2.7386127875258306,0,1,1,2.7386127875258306,0\" stroke=\"rgb(43, 6, 147)\" stroke-width=\"2\" opacity=\"0.7\"/><path aria-label=\"S: 230; s: 35; lost_mean: 213.745\" role=\"graphics-symbol\" aria-roledescription=\"point\" transform=\"translate(191.66666666666669,0)\" d=\"M2.7386127875258306,0A2.7386127875258306,2.7386127875258306,0,1,1,-2.7386127875258306,0A2.7386127875258306,2.7386127875258306,0,1,1,2.7386127875258306,0\" stroke=\"rgb(250, 155, 60)\" stroke-width=\"2\" opacity=\"0.7\"/><path aria-label=\"S: 230; s: 35; lost_mean: 207.038\" role=\"graphics-symbol\" aria-roledescription=\"point\" transform=\"translate(191.66666666666669,0)\" d=\"M2.7386127875258306,0A2.7386127875258306,2.7386127875258306,0,1,1,-2.7386127875258306,0A2.7386127875258306,2.7386127875258306,0,1,1,2.7386127875258306,0\" stroke=\"rgb(135, 7, 166)\" stroke-width=\"2\" opacity=\"0.7\"/><path aria-label=\"S: 230; s: 35; lost_mean: 206.546\" role=\"graphics-symbol\" aria-roledescription=\"point\" transform=\"translate(191.66666666666669,0)\" d=\"M2.7386127875258306,0A2.7386127875258306,2.7386127875258306,0,1,1,-2.7386127875258306,0A2.7386127875258306,2.7386127875258306,0,1,1,2.7386127875258306,0\" stroke=\"rgb(122, 2, 168)\" stroke-width=\"2\" opacity=\"0.7\"/><path aria-label=\"S: 230; s: 35; lost_mean: 206.788\" role=\"graphics-symbol\" aria-roledescription=\"point\" transform=\"translate(191.66666666666669,0)\" d=\"M2.7386127875258306,0A2.7386127875258306,2.7386127875258306,0,1,1,-2.7386127875258306,0A2.7386127875258306,2.7386127875258306,0,1,1,2.7386127875258306,0\" stroke=\"rgb(128, 4, 167)\" stroke-width=\"2\" opacity=\"0.7\"/><path aria-label=\"S: 230; s: 35; lost_mean: 212.219\" role=\"graphics-symbol\" aria-roledescription=\"point\" transform=\"translate(191.66666666666669,0)\" d=\"M2.7386127875258306,0A2.7386127875258306,2.7386127875258306,0,1,1,-2.7386127875258306,0A2.7386127875258306,2.7386127875258306,0,1,1,2.7386127875258306,0\" stroke=\"rgb(235, 118, 85)\" stroke-width=\"2\" opacity=\"0.7\"/><path aria-label=\"S: 230; s: 35; lost_mean: 208.471\" role=\"graphics-symbol\" aria-roledescription=\"point\" transform=\"translate(191.66666666666669,0)\" d=\"M2.7386127875258306,0A2.7386127875258306,2.7386127875258306,0,1,1,-2.7386127875258306,0A2.7386127875258306,2.7386127875258306,0,1,1,2.7386127875258306,0\" stroke=\"rgb(171, 37, 149)\" stroke-width=\"2\" opacity=\"0.7\"/><path aria-label=\"S: 230; s: 35; lost_mean: 210.839\" role=\"graphics-symbol\" aria-roledescription=\"point\" transform=\"translate(191.66666666666669,0)\" d=\"M2.7386127875258306,0A2.7386127875258306,2.7386127875258306,0,1,1,-2.7386127875258306,0A2.7386127875258306,2.7386127875258306,0,1,1,2.7386127875258306,0\" stroke=\"rgb(216, 87, 108)\" stroke-width=\"2\" opacity=\"0.7\"/><path aria-label=\"S: 230; s: 35; lost_mean: 211.479\" role=\"graphics-symbol\" aria-roledescription=\"point\" transform=\"translate(191.66666666666669,0)\" d=\"M2.7386127875258306,0A2.7386127875258306,2.7386127875258306,0,1,1,-2.7386127875258306,0A2.7386127875258306,2.7386127875258306,0,1,1,2.7386127875258306,0\" stroke=\"rgb(226, 101, 97)\" stroke-width=\"2\" opacity=\"0.7\"/><path aria-label=\"S: 230; s: 35; lost_mean: 206.755\" role=\"graphics-symbol\" aria-roledescription=\"point\" transform=\"translate(191.66666666666669,0)\" d=\"M2.7386127875258306,0A2.7386127875258306,2.7386127875258306,0,1,1,-2.7386127875258306,0A2.7386127875258306,2.7386127875258306,0,1,1,2.7386127875258306,0\" stroke=\"rgb(127, 3, 167)\" stroke-width=\"2\" opacity=\"0.7\"/><path aria-label=\"S: 230; s: 35; lost_mean: 209.136\" role=\"graphics-symbol\" aria-roledescription=\"point\" transform=\"translate(191.66666666666669,0)\" d=\"M2.7386127875258306,0A2.7386127875258306,2.7386127875258306,0,1,1,-2.7386127875258306,0A2.7386127875258306,2.7386127875258306,0,1,1,2.7386127875258306,0\" stroke=\"rgb(185, 51, 137)\" stroke-width=\"2\" opacity=\"0.7\"/><path aria-label=\"S: 230; s: 35; lost_mean: 203.336\" role=\"graphics-symbol\" aria-roledescription=\"point\" transform=\"translate(191.66666666666669,0)\" d=\"M2.7386127875258306,0A2.7386127875258306,2.7386127875258306,0,1,1,-2.7386127875258306,0A2.7386127875258306,2.7386127875258306,0,1,1,2.7386127875258306,0\" stroke=\"rgb(13, 8, 135)\" stroke-width=\"2\" opacity=\"0.7\"/><path aria-label=\"S: 230; s: 35; lost_mean: 208.547\" role=\"graphics-symbol\" aria-roledescription=\"point\" transform=\"translate(191.66666666666669,0)\" d=\"M2.7386127875258306,0A2.7386127875258306,2.7386127875258306,0,1,1,-2.7386127875258306,0A2.7386127875258306,2.7386127875258306,0,1,1,2.7386127875258306,0\" stroke=\"rgb(173, 38, 147)\" stroke-width=\"2\" opacity=\"0.7\"/><path aria-label=\"S: 230; s: 35; lost_mean: 206.398\" role=\"graphics-symbol\" aria-roledescription=\"point\" transform=\"translate(191.66666666666669,0)\" d=\"M2.7386127875258306,0A2.7386127875258306,2.7386127875258306,0,1,1,-2.7386127875258306,0A2.7386127875258306,2.7386127875258306,0,1,1,2.7386127875258306,0\" stroke=\"rgb(117, 1, 168)\" stroke-width=\"2\" opacity=\"0.7\"/><path aria-label=\"S: 230; s: 35; lost_mean: 212.058\" role=\"graphics-symbol\" aria-roledescription=\"point\" transform=\"translate(191.66666666666669,0)\" d=\"M2.7386127875258306,0A2.7386127875258306,2.7386127875258306,0,1,1,-2.7386127875258306,0A2.7386127875258306,2.7386127875258306,0,1,1,2.7386127875258306,0\" stroke=\"rgb(233, 114, 88)\" stroke-width=\"2\" opacity=\"0.7\"/><path aria-label=\"S: 230; s: 35; lost_mean: 207.693\" role=\"graphics-symbol\" aria-roledescription=\"point\" transform=\"translate(191.66666666666669,0)\" d=\"M2.7386127875258306,0A2.7386127875258306,2.7386127875258306,0,1,1,-2.7386127875258306,0A2.7386127875258306,2.7386127875258306,0,1,1,2.7386127875258306,0\" stroke=\"rgb(152, 20, 160)\" stroke-width=\"2\" opacity=\"0.7\"/><path aria-label=\"S: 230; s: 35; lost_mean: 211.012\" role=\"graphics-symbol\" aria-roledescription=\"point\" transform=\"translate(191.66666666666669,0)\" d=\"M2.7386127875258306,0A2.7386127875258306,2.7386127875258306,0,1,1,-2.7386127875258306,0A2.7386127875258306,2.7386127875258306,0,1,1,2.7386127875258306,0\" stroke=\"rgb(218, 91, 105)\" stroke-width=\"2\" opacity=\"0.7\"/><path aria-label=\"S: 230; s: 35; lost_mean: 213.446\" role=\"graphics-symbol\" aria-roledescription=\"point\" transform=\"translate(191.66666666666669,0)\" d=\"M2.7386127875258306,0A2.7386127875258306,2.7386127875258306,0,1,1,-2.7386127875258306,0A2.7386127875258306,2.7386127875258306,0,1,1,2.7386127875258306,0\" stroke=\"rgb(248, 148, 65)\" stroke-width=\"2\" opacity=\"0.7\"/><path aria-label=\"S: 230; s: 35; lost_mean: 209.051\" role=\"graphics-symbol\" aria-roledescription=\"point\" transform=\"translate(191.66666666666669,0)\" d=\"M2.7386127875258306,0A2.7386127875258306,2.7386127875258306,0,1,1,-2.7386127875258306,0A2.7386127875258306,2.7386127875258306,0,1,1,2.7386127875258306,0\" stroke=\"rgb(183, 49, 138)\" stroke-width=\"2\" opacity=\"0.7\"/><path aria-label=\"S: 230; s: 35; lost_mean: 206.864\" role=\"graphics-symbol\" aria-roledescription=\"point\" transform=\"translate(191.66666666666669,0)\" d=\"M2.7386127875258306,0A2.7386127875258306,2.7386127875258306,0,1,1,-2.7386127875258306,0A2.7386127875258306,2.7386127875258306,0,1,1,2.7386127875258306,0\" stroke=\"rgb(130, 4, 167)\" stroke-width=\"2\" opacity=\"0.7\"/><path aria-label=\"S: 230; s: 35; lost_mean: 208.451\" role=\"graphics-symbol\" aria-roledescription=\"point\" transform=\"translate(191.66666666666669,0)\" d=\"M2.7386127875258306,0A2.7386127875258306,2.7386127875258306,0,1,1,-2.7386127875258306,0A2.7386127875258306,2.7386127875258306,0,1,1,2.7386127875258306,0\" stroke=\"rgb(171, 36, 149)\" stroke-width=\"2\" opacity=\"0.7\"/><path aria-label=\"S: 230; s: 35; lost_mean: 214.676\" role=\"graphics-symbol\" aria-roledescription=\"point\" transform=\"translate(191.66666666666669,0)\" d=\"M2.7386127875258306,0A2.7386127875258306,2.7386127875258306,0,1,1,-2.7386127875258306,0A2.7386127875258306,2.7386127875258306,0,1,1,2.7386127875258306,0\" stroke=\"rgb(253, 181, 46)\" stroke-width=\"2\" opacity=\"0.7\"/><path aria-label=\"S: 230; s: 35; lost_mean: 211.919\" role=\"graphics-symbol\" aria-roledescription=\"point\" transform=\"translate(191.66666666666669,0)\" d=\"M2.7386127875258306,0A2.7386127875258306,2.7386127875258306,0,1,1,-2.7386127875258306,0A2.7386127875258306,2.7386127875258306,0,1,1,2.7386127875258306,0\" stroke=\"rgb(231, 111, 90)\" stroke-width=\"2\" opacity=\"0.7\"/><path aria-label=\"S: 230; s: 35; lost_mean: 212.654\" role=\"graphics-symbol\" aria-roledescription=\"point\" transform=\"translate(191.66666666666669,0)\" d=\"M2.7386127875258306,0A2.7386127875258306,2.7386127875258306,0,1,1,-2.7386127875258306,0A2.7386127875258306,2.7386127875258306,0,1,1,2.7386127875258306,0\" stroke=\"rgb(240, 128, 78)\" stroke-width=\"2\" opacity=\"0.7\"/><path aria-label=\"S: 230; s: 35; lost_mean: 207.781\" role=\"graphics-symbol\" aria-roledescription=\"point\" transform=\"translate(191.66666666666669,0)\" d=\"M2.7386127875258306,0A2.7386127875258306,2.7386127875258306,0,1,1,-2.7386127875258306,0A2.7386127875258306,2.7386127875258306,0,1,1,2.7386127875258306,0\" stroke=\"rgb(154, 22, 159)\" stroke-width=\"2\" opacity=\"0.7\"/><path aria-label=\"S: 230; s: 35; lost_mean: 206.054\" role=\"graphics-symbol\" aria-roledescription=\"point\" transform=\"translate(191.66666666666669,0)\" d=\"M2.7386127875258306,0A2.7386127875258306,2.7386127875258306,0,1,1,-2.7386127875258306,0A2.7386127875258306,2.7386127875258306,0,1,1,2.7386127875258306,0\" stroke=\"rgb(107, 0, 168)\" stroke-width=\"2\" opacity=\"0.7\"/><path aria-label=\"S: 230; s: 35; lost_mean: 212.695\" role=\"graphics-symbol\" aria-roledescription=\"point\" transform=\"translate(191.66666666666669,0)\" d=\"M2.7386127875258306,0A2.7386127875258306,2.7386127875258306,0,1,1,-2.7386127875258306,0A2.7386127875258306,2.7386127875258306,0,1,1,2.7386127875258306,0\" stroke=\"rgb(241, 129, 77)\" stroke-width=\"2\" opacity=\"0.7\"/><path aria-label=\"S: 230; s: 35; lost_mean: 212.921\" role=\"graphics-symbol\" aria-roledescription=\"point\" transform=\"translate(191.66666666666669,0)\" d=\"M2.7386127875258306,0A2.7386127875258306,2.7386127875258306,0,1,1,-2.7386127875258306,0A2.7386127875258306,2.7386127875258306,0,1,1,2.7386127875258306,0\" stroke=\"rgb(243, 135, 74)\" stroke-width=\"2\" opacity=\"0.7\"/><path aria-label=\"S: 230; s: 35; lost_mean: 210.917\" role=\"graphics-symbol\" aria-roledescription=\"point\" transform=\"translate(191.66666666666669,0)\" d=\"M2.7386127875258306,0A2.7386127875258306,2.7386127875258306,0,1,1,-2.7386127875258306,0A2.7386127875258306,2.7386127875258306,0,1,1,2.7386127875258306,0\" stroke=\"rgb(217, 89, 106)\" stroke-width=\"2\" opacity=\"0.7\"/><path aria-label=\"S: 230; s: 35; lost_mean: 206.595\" role=\"graphics-symbol\" aria-roledescription=\"point\" transform=\"translate(191.66666666666669,0)\" d=\"M2.7386127875258306,0A2.7386127875258306,2.7386127875258306,0,1,1,-2.7386127875258306,0A2.7386127875258306,2.7386127875258306,0,1,1,2.7386127875258306,0\" stroke=\"rgb(123, 2, 168)\" stroke-width=\"2\" opacity=\"0.7\"/><path aria-label=\"S: 230; s: 35; lost_mean: 204.025\" role=\"graphics-symbol\" aria-roledescription=\"point\" transform=\"translate(191.66666666666669,0)\" d=\"M2.7386127875258306,0A2.7386127875258306,2.7386127875258306,0,1,1,-2.7386127875258306,0A2.7386127875258306,2.7386127875258306,0,1,1,2.7386127875258306,0\" stroke=\"rgb(43, 5, 148)\" stroke-width=\"2\" opacity=\"0.7\"/><path aria-label=\"S: 230; s: 35; lost_mean: 207.003\" role=\"graphics-symbol\" aria-roledescription=\"point\" transform=\"translate(191.66666666666669,0)\" d=\"M2.7386127875258306,0A2.7386127875258306,2.7386127875258306,0,1,1,-2.7386127875258306,0A2.7386127875258306,2.7386127875258306,0,1,1,2.7386127875258306,0\" stroke=\"rgb(134, 6, 167)\" stroke-width=\"2\" opacity=\"0.7\"/><path aria-label=\"S: 230; s: 35; lost_mean: 207.98\" role=\"graphics-symbol\" aria-roledescription=\"point\" transform=\"translate(191.66666666666669,0)\" d=\"M2.7386127875258306,0A2.7386127875258306,2.7386127875258306,0,1,1,-2.7386127875258306,0A2.7386127875258306,2.7386127875258306,0,1,1,2.7386127875258306,0\" stroke=\"rgb(159, 26, 156)\" stroke-width=\"2\" opacity=\"0.7\"/><path aria-label=\"S: 230; s: 35; lost_mean: 209.973\" role=\"graphics-symbol\" aria-roledescription=\"point\" transform=\"translate(191.66666666666669,0)\" d=\"M2.7386127875258306,0A2.7386127875258306,2.7386127875258306,0,1,1,-2.7386127875258306,0A2.7386127875258306,2.7386127875258306,0,1,1,2.7386127875258306,0\" stroke=\"rgb(201, 68, 123)\" stroke-width=\"2\" opacity=\"0.7\"/><path aria-label=\"S: 230; s: 35; lost_mean: 212.62\" role=\"graphics-symbol\" aria-roledescription=\"point\" transform=\"translate(191.66666666666669,0)\" d=\"M2.7386127875258306,0A2.7386127875258306,2.7386127875258306,0,1,1,-2.7386127875258306,0A2.7386127875258306,2.7386127875258306,0,1,1,2.7386127875258306,0\" stroke=\"rgb(240, 127, 79)\" stroke-width=\"2\" opacity=\"0.7\"/><path aria-label=\"S: 230; s: 35; lost_mean: 207.474\" role=\"graphics-symbol\" aria-roledescription=\"point\" transform=\"translate(191.66666666666669,0)\" d=\"M2.7386127875258306,0A2.7386127875258306,2.7386127875258306,0,1,1,-2.7386127875258306,0A2.7386127875258306,2.7386127875258306,0,1,1,2.7386127875258306,0\" stroke=\"rgb(146, 15, 163)\" stroke-width=\"2\" opacity=\"0.7\"/><path aria-label=\"S: 230; s: 35; lost_mean: 205.334\" role=\"graphics-symbol\" aria-roledescription=\"point\" transform=\"translate(191.66666666666669,0)\" d=\"M2.7386127875258306,0A2.7386127875258306,2.7386127875258306,0,1,1,-2.7386127875258306,0A2.7386127875258306,2.7386127875258306,0,1,1,2.7386127875258306,0\" stroke=\"rgb(86, 2, 164)\" stroke-width=\"2\" opacity=\"0.7\"/><path aria-label=\"S: 230; s: 35; lost_mean: 210.997\" role=\"graphics-symbol\" aria-roledescription=\"point\" transform=\"translate(191.66666666666669,0)\" d=\"M2.7386127875258306,0A2.7386127875258306,2.7386127875258306,0,1,1,-2.7386127875258306,0A2.7386127875258306,2.7386127875258306,0,1,1,2.7386127875258306,0\" stroke=\"rgb(218, 90, 105)\" stroke-width=\"2\" opacity=\"0.7\"/><path aria-label=\"S: 230; s: 35; lost_mean: 207.618\" role=\"graphics-symbol\" aria-roledescription=\"point\" transform=\"translate(191.66666666666669,0)\" d=\"M2.7386127875258306,0A2.7386127875258306,2.7386127875258306,0,1,1,-2.7386127875258306,0A2.7386127875258306,2.7386127875258306,0,1,1,2.7386127875258306,0\" stroke=\"rgb(150, 18, 161)\" stroke-width=\"2\" opacity=\"0.7\"/><path aria-label=\"S: 230; s: 35; lost_mean: 210.574\" role=\"graphics-symbol\" aria-roledescription=\"point\" transform=\"translate(191.66666666666669,0)\" d=\"M2.7386127875258306,0A2.7386127875258306,2.7386127875258306,0,1,1,-2.7386127875258306,0A2.7386127875258306,2.7386127875258306,0,1,1,2.7386127875258306,0\" stroke=\"rgb(212, 82, 112)\" stroke-width=\"2\" opacity=\"0.7\"/><path aria-label=\"S: 230; s: 35; lost_mean: 212.114\" role=\"graphics-symbol\" aria-roledescription=\"point\" transform=\"translate(191.66666666666669,0)\" d=\"M2.7386127875258306,0A2.7386127875258306,2.7386127875258306,0,1,1,-2.7386127875258306,0A2.7386127875258306,2.7386127875258306,0,1,1,2.7386127875258306,0\" stroke=\"rgb(234, 115, 87)\" stroke-width=\"2\" opacity=\"0.7\"/><path aria-label=\"S: 230; s: 35; lost_mean: 210.061\" role=\"graphics-symbol\" aria-roledescription=\"point\" transform=\"translate(191.66666666666669,0)\" d=\"M2.7386127875258306,0A2.7386127875258306,2.7386127875258306,0,1,1,-2.7386127875258306,0A2.7386127875258306,2.7386127875258306,0,1,1,2.7386127875258306,0\" stroke=\"rgb(203, 70, 121)\" stroke-width=\"2\" opacity=\"0.7\"/><path aria-label=\"S: 230; s: 35; lost_mean: 216.841\" role=\"graphics-symbol\" aria-roledescription=\"point\" transform=\"translate(191.66666666666669,0)\" d=\"M2.7386127875258306,0A2.7386127875258306,2.7386127875258306,0,1,1,-2.7386127875258306,0A2.7386127875258306,2.7386127875258306,0,1,1,2.7386127875258306,0\" stroke=\"rgb(240, 249, 33)\" stroke-width=\"2\" opacity=\"0.7\"/><path aria-label=\"S: 230; s: 35; lost_mean: 206.437\" role=\"graphics-symbol\" aria-roledescription=\"point\" transform=\"translate(191.66666666666669,0)\" d=\"M2.7386127875258306,0A2.7386127875258306,2.7386127875258306,0,1,1,-2.7386127875258306,0A2.7386127875258306,2.7386127875258306,0,1,1,2.7386127875258306,0\" stroke=\"rgb(118, 1, 168)\" stroke-width=\"2\" opacity=\"0.7\"/><path aria-label=\"S: 230; s: 35; lost_mean: 206.505\" role=\"graphics-symbol\" aria-roledescription=\"point\" transform=\"translate(191.66666666666669,0)\" d=\"M2.7386127875258306,0A2.7386127875258306,2.7386127875258306,0,1,1,-2.7386127875258306,0A2.7386127875258306,2.7386127875258306,0,1,1,2.7386127875258306,0\" stroke=\"rgb(120, 1, 168)\" stroke-width=\"2\" opacity=\"0.7\"/><path aria-label=\"S: 230; s: 35; lost_mean: 214.513\" role=\"graphics-symbol\" aria-roledescription=\"point\" transform=\"translate(191.66666666666669,0)\" d=\"M2.7386127875258306,0A2.7386127875258306,2.7386127875258306,0,1,1,-2.7386127875258306,0A2.7386127875258306,2.7386127875258306,0,1,1,2.7386127875258306,0\" stroke=\"rgb(253, 177, 48)\" stroke-width=\"2\" opacity=\"0.7\"/><path aria-label=\"S: 230; s: 35; lost_mean: 210.633\" role=\"graphics-symbol\" aria-roledescription=\"point\" transform=\"translate(191.66666666666669,0)\" d=\"M2.7386127875258306,0A2.7386127875258306,2.7386127875258306,0,1,1,-2.7386127875258306,0A2.7386127875258306,2.7386127875258306,0,1,1,2.7386127875258306,0\" stroke=\"rgb(212, 83, 111)\" stroke-width=\"2\" opacity=\"0.7\"/><path aria-label=\"S: 230; s: 35; lost_mean: 207.158\" role=\"graphics-symbol\" aria-roledescription=\"point\" transform=\"translate(191.66666666666669,0)\" d=\"M2.7386127875258306,0A2.7386127875258306,2.7386127875258306,0,1,1,-2.7386127875258306,0A2.7386127875258306,2.7386127875258306,0,1,1,2.7386127875258306,0\" stroke=\"rgb(138, 9, 166)\" stroke-width=\"2\" opacity=\"0.7\"/><path aria-label=\"S: 230; s: 35; lost_mean: 207.661\" role=\"graphics-symbol\" aria-roledescription=\"point\" transform=\"translate(191.66666666666669,0)\" d=\"M2.7386127875258306,0A2.7386127875258306,2.7386127875258306,0,1,1,-2.7386127875258306,0A2.7386127875258306,2.7386127875258306,0,1,1,2.7386127875258306,0\" stroke=\"rgb(151, 19, 160)\" stroke-width=\"2\" opacity=\"0.7\"/><path aria-label=\"S: 230; s: 35; lost_mean: 214.584\" role=\"graphics-symbol\" aria-roledescription=\"point\" transform=\"translate(191.66666666666669,0)\" d=\"M2.7386127875258306,0A2.7386127875258306,2.7386127875258306,0,1,1,-2.7386127875258306,0A2.7386127875258306,2.7386127875258306,0,1,1,2.7386127875258306,0\" stroke=\"rgb(253, 179, 47)\" stroke-width=\"2\" opacity=\"0.7\"/><path aria-label=\"S: 230; s: 35; lost_mean: 212.61\" role=\"graphics-symbol\" aria-roledescription=\"point\" transform=\"translate(191.66666666666669,0)\" d=\"M2.7386127875258306,0A2.7386127875258306,2.7386127875258306,0,1,1,-2.7386127875258306,0A2.7386127875258306,2.7386127875258306,0,1,1,2.7386127875258306,0\" stroke=\"rgb(240, 127, 79)\" stroke-width=\"2\" opacity=\"0.7\"/><path aria-label=\"S: 230; s: 35; lost_mean: 214.898\" role=\"graphics-symbol\" aria-roledescription=\"point\" transform=\"translate(191.66666666666669,0)\" d=\"M2.7386127875258306,0A2.7386127875258306,2.7386127875258306,0,1,1,-2.7386127875258306,0A2.7386127875258306,2.7386127875258306,0,1,1,2.7386127875258306,0\" stroke=\"rgb(254, 188, 43)\" stroke-width=\"2\" opacity=\"0.7\"/><path aria-label=\"S: 230; s: 35; lost_mean: 204.557\" role=\"graphics-symbol\" aria-roledescription=\"point\" transform=\"translate(191.66666666666669,0)\" d=\"M2.7386127875258306,0A2.7386127875258306,2.7386127875258306,0,1,1,-2.7386127875258306,0A2.7386127875258306,2.7386127875258306,0,1,1,2.7386127875258306,0\" stroke=\"rgb(62, 4, 155)\" stroke-width=\"2\" opacity=\"0.7\"/><path aria-label=\"S: 230; s: 35; lost_mean: 212.922\" role=\"graphics-symbol\" aria-roledescription=\"point\" transform=\"translate(191.66666666666669,0)\" d=\"M2.7386127875258306,0A2.7386127875258306,2.7386127875258306,0,1,1,-2.7386127875258306,0A2.7386127875258306,2.7386127875258306,0,1,1,2.7386127875258306,0\" stroke=\"rgb(243, 135, 74)\" stroke-width=\"2\" opacity=\"0.7\"/><path aria-label=\"S: 230; s: 35; lost_mean: 204.658\" role=\"graphics-symbol\" aria-roledescription=\"point\" transform=\"translate(191.66666666666669,0)\" d=\"M2.7386127875258306,0A2.7386127875258306,2.7386127875258306,0,1,1,-2.7386127875258306,0A2.7386127875258306,2.7386127875258306,0,1,1,2.7386127875258306,0\" stroke=\"rgb(65, 3, 157)\" stroke-width=\"2\" opacity=\"0.7\"/><path aria-label=\"S: 230; s: 35; lost_mean: 208.909\" role=\"graphics-symbol\" aria-roledescription=\"point\" transform=\"translate(191.66666666666669,0)\" d=\"M2.7386127875258306,0A2.7386127875258306,2.7386127875258306,0,1,1,-2.7386127875258306,0A2.7386127875258306,2.7386127875258306,0,1,1,2.7386127875258306,0\" stroke=\"rgb(180, 46, 141)\" stroke-width=\"2\" opacity=\"0.7\"/><path aria-label=\"S: 230; s: 35; lost_mean: 210.338\" role=\"graphics-symbol\" aria-roledescription=\"point\" transform=\"translate(191.66666666666669,0)\" d=\"M2.7386127875258306,0A2.7386127875258306,2.7386127875258306,0,1,1,-2.7386127875258306,0A2.7386127875258306,2.7386127875258306,0,1,1,2.7386127875258306,0\" stroke=\"rgb(207, 77, 117)\" stroke-width=\"2\" opacity=\"0.7\"/><path aria-label=\"S: 230; s: 35; lost_mean: 205.362\" role=\"graphics-symbol\" aria-roledescription=\"point\" transform=\"translate(191.66666666666669,0)\" d=\"M2.7386127875258306,0A2.7386127875258306,2.7386127875258306,0,1,1,-2.7386127875258306,0A2.7386127875258306,2.7386127875258306,0,1,1,2.7386127875258306,0\" stroke=\"rgb(87, 1, 164)\" stroke-width=\"2\" opacity=\"0.7\"/><path aria-label=\"S: 230; s: 35; lost_mean: 209.068\" role=\"graphics-symbol\" aria-roledescription=\"point\" transform=\"translate(191.66666666666669,0)\" d=\"M2.7386127875258306,0A2.7386127875258306,2.7386127875258306,0,1,1,-2.7386127875258306,0A2.7386127875258306,2.7386127875258306,0,1,1,2.7386127875258306,0\" stroke=\"rgb(184, 49, 138)\" stroke-width=\"2\" opacity=\"0.7\"/><path aria-label=\"S: 230; s: 35; lost_mean: 203.513\" role=\"graphics-symbol\" aria-roledescription=\"point\" transform=\"translate(191.66666666666669,0)\" d=\"M2.7386127875258306,0A2.7386127875258306,2.7386127875258306,0,1,1,-2.7386127875258306,0A2.7386127875258306,2.7386127875258306,0,1,1,2.7386127875258306,0\" stroke=\"rgb(22, 7, 139)\" stroke-width=\"2\" opacity=\"0.7\"/><path aria-label=\"S: 230; s: 35; lost_mean: 209.582\" role=\"graphics-symbol\" aria-roledescription=\"point\" transform=\"translate(191.66666666666669,0)\" d=\"M2.7386127875258306,0A2.7386127875258306,2.7386127875258306,0,1,1,-2.7386127875258306,0A2.7386127875258306,2.7386127875258306,0,1,1,2.7386127875258306,0\" stroke=\"rgb(194, 60, 129)\" stroke-width=\"2\" opacity=\"0.7\"/><path aria-label=\"S: 230; s: 35; lost_mean: 207.375\" role=\"graphics-symbol\" aria-roledescription=\"point\" transform=\"translate(191.66666666666669,0)\" d=\"M2.7386127875258306,0A2.7386127875258306,2.7386127875258306,0,1,1,-2.7386127875258306,0A2.7386127875258306,2.7386127875258306,0,1,1,2.7386127875258306,0\" stroke=\"rgb(144, 13, 164)\" stroke-width=\"2\" opacity=\"0.7\"/><path aria-label=\"S: 230; s: 35; lost_mean: 213.617\" role=\"graphics-symbol\" aria-roledescription=\"point\" transform=\"translate(191.66666666666669,0)\" d=\"M2.7386127875258306,0A2.7386127875258306,2.7386127875258306,0,1,1,-2.7386127875258306,0A2.7386127875258306,2.7386127875258306,0,1,1,2.7386127875258306,0\" stroke=\"rgb(249, 152, 62)\" stroke-width=\"2\" opacity=\"0.7\"/><path aria-label=\"S: 230; s: 35; lost_mean: 211.105\" role=\"graphics-symbol\" aria-roledescription=\"point\" transform=\"translate(191.66666666666669,0)\" d=\"M2.7386127875258306,0A2.7386127875258306,2.7386127875258306,0,1,1,-2.7386127875258306,0A2.7386127875258306,2.7386127875258306,0,1,1,2.7386127875258306,0\" stroke=\"rgb(220, 93, 103)\" stroke-width=\"2\" opacity=\"0.7\"/><path aria-label=\"S: 230; s: 35; lost_mean: 211.899\" role=\"graphics-symbol\" aria-roledescription=\"point\" transform=\"translate(191.66666666666669,0)\" d=\"M2.7386127875258306,0A2.7386127875258306,2.7386127875258306,0,1,1,-2.7386127875258306,0A2.7386127875258306,2.7386127875258306,0,1,1,2.7386127875258306,0\" stroke=\"rgb(231, 110, 91)\" stroke-width=\"2\" opacity=\"0.7\"/><path aria-label=\"S: 230; s: 35; lost_mean: 209.897\" role=\"graphics-symbol\" aria-roledescription=\"point\" transform=\"translate(191.66666666666669,0)\" d=\"M2.7386127875258306,0A2.7386127875258306,2.7386127875258306,0,1,1,-2.7386127875258306,0A2.7386127875258306,2.7386127875258306,0,1,1,2.7386127875258306,0\" stroke=\"rgb(200, 67, 124)\" stroke-width=\"2\" opacity=\"0.7\"/><path aria-label=\"S: 230; s: 35; lost_mean: 207.112\" role=\"graphics-symbol\" aria-roledescription=\"point\" transform=\"translate(191.66666666666669,0)\" d=\"M2.7386127875258306,0A2.7386127875258306,2.7386127875258306,0,1,1,-2.7386127875258306,0A2.7386127875258306,2.7386127875258306,0,1,1,2.7386127875258306,0\" stroke=\"rgb(137, 8, 166)\" stroke-width=\"2\" opacity=\"0.7\"/><path aria-label=\"S: 230; s: 35; lost_mean: 211.603\" role=\"graphics-symbol\" aria-roledescription=\"point\" transform=\"translate(191.66666666666669,0)\" d=\"M2.7386127875258306,0A2.7386127875258306,2.7386127875258306,0,1,1,-2.7386127875258306,0A2.7386127875258306,2.7386127875258306,0,1,1,2.7386127875258306,0\" stroke=\"rgb(227, 104, 95)\" stroke-width=\"2\" opacity=\"0.7\"/><path aria-label=\"S: 230; s: 35; lost_mean: 207.462\" role=\"graphics-symbol\" aria-roledescription=\"point\" transform=\"translate(191.66666666666669,0)\" d=\"M2.7386127875258306,0A2.7386127875258306,2.7386127875258306,0,1,1,-2.7386127875258306,0A2.7386127875258306,2.7386127875258306,0,1,1,2.7386127875258306,0\" stroke=\"rgb(146, 15, 163)\" stroke-width=\"2\" opacity=\"0.7\"/><path aria-label=\"S: 230; s: 35; lost_mean: 208.06\" role=\"graphics-symbol\" aria-roledescription=\"point\" transform=\"translate(191.66666666666669,0)\" d=\"M2.7386127875258306,0A2.7386127875258306,2.7386127875258306,0,1,1,-2.7386127875258306,0A2.7386127875258306,2.7386127875258306,0,1,1,2.7386127875258306,0\" stroke=\"rgb(161, 28, 155)\" stroke-width=\"2\" opacity=\"0.7\"/><path aria-label=\"S: 230; s: 35; lost_mean: 211.373\" role=\"graphics-symbol\" aria-roledescription=\"point\" transform=\"translate(191.66666666666669,0)\" d=\"M2.7386127875258306,0A2.7386127875258306,2.7386127875258306,0,1,1,-2.7386127875258306,0A2.7386127875258306,2.7386127875258306,0,1,1,2.7386127875258306,0\" stroke=\"rgb(224, 99, 99)\" stroke-width=\"2\" opacity=\"0.7\"/><path aria-label=\"S: 230; s: 35; lost_mean: 209.007\" role=\"graphics-symbol\" aria-roledescription=\"point\" transform=\"translate(191.66666666666669,0)\" d=\"M2.7386127875258306,0A2.7386127875258306,2.7386127875258306,0,1,1,-2.7386127875258306,0A2.7386127875258306,2.7386127875258306,0,1,1,2.7386127875258306,0\" stroke=\"rgb(182, 48, 139)\" stroke-width=\"2\" opacity=\"0.7\"/><path aria-label=\"S: 230; s: 35; lost_mean: 209.649\" role=\"graphics-symbol\" aria-roledescription=\"point\" transform=\"translate(191.66666666666669,0)\" d=\"M2.7386127875258306,0A2.7386127875258306,2.7386127875258306,0,1,1,-2.7386127875258306,0A2.7386127875258306,2.7386127875258306,0,1,1,2.7386127875258306,0\" stroke=\"rgb(195, 61, 128)\" stroke-width=\"2\" opacity=\"0.7\"/><path aria-label=\"S: 230; s: 35; lost_mean: 214.797\" role=\"graphics-symbol\" aria-roledescription=\"point\" transform=\"translate(191.66666666666669,0)\" d=\"M2.7386127875258306,0A2.7386127875258306,2.7386127875258306,0,1,1,-2.7386127875258306,0A2.7386127875258306,2.7386127875258306,0,1,1,2.7386127875258306,0\" stroke=\"rgb(253, 185, 44)\" stroke-width=\"2\" opacity=\"0.7\"/><path aria-label=\"S: 230; s: 35; lost_mean: 206.251\" role=\"graphics-symbol\" aria-roledescription=\"point\" transform=\"translate(191.66666666666669,0)\" d=\"M2.7386127875258306,0A2.7386127875258306,2.7386127875258306,0,1,1,-2.7386127875258306,0A2.7386127875258306,2.7386127875258306,0,1,1,2.7386127875258306,0\" stroke=\"rgb(113, 0, 168)\" stroke-width=\"2\" opacity=\"0.7\"/><path aria-label=\"S: 230; s: 35; lost_mean: 210.033\" role=\"graphics-symbol\" aria-roledescription=\"point\" transform=\"translate(191.66666666666669,0)\" d=\"M2.7386127875258306,0A2.7386127875258306,2.7386127875258306,0,1,1,-2.7386127875258306,0A2.7386127875258306,2.7386127875258306,0,1,1,2.7386127875258306,0\" stroke=\"rgb(202, 70, 122)\" stroke-width=\"2\" opacity=\"0.7\"/><path aria-label=\"S: 230; s: 35; lost_mean: 212.303\" role=\"graphics-symbol\" aria-roledescription=\"point\" transform=\"translate(191.66666666666669,0)\" d=\"M2.7386127875258306,0A2.7386127875258306,2.7386127875258306,0,1,1,-2.7386127875258306,0A2.7386127875258306,2.7386127875258306,0,1,1,2.7386127875258306,0\" stroke=\"rgb(237, 120, 84)\" stroke-width=\"2\" opacity=\"0.7\"/><path aria-label=\"S: 230; s: 35; lost_mean: 213.015\" role=\"graphics-symbol\" aria-roledescription=\"point\" transform=\"translate(191.66666666666669,0)\" d=\"M2.7386127875258306,0A2.7386127875258306,2.7386127875258306,0,1,1,-2.7386127875258306,0A2.7386127875258306,2.7386127875258306,0,1,1,2.7386127875258306,0\" stroke=\"rgb(244, 137, 72)\" stroke-width=\"2\" opacity=\"0.7\"/><path aria-label=\"S: 230; s: 35; lost_mean: 211.821\" role=\"graphics-symbol\" aria-roledescription=\"point\" transform=\"translate(191.66666666666669,0)\" d=\"M2.7386127875258306,0A2.7386127875258306,2.7386127875258306,0,1,1,-2.7386127875258306,0A2.7386127875258306,2.7386127875258306,0,1,1,2.7386127875258306,0\" stroke=\"rgb(230, 108, 92)\" stroke-width=\"2\" opacity=\"0.7\"/><path aria-label=\"S: 230; s: 35; lost_mean: 214.842\" role=\"graphics-symbol\" aria-roledescription=\"point\" transform=\"translate(191.66666666666669,0)\" d=\"M2.7386127875258306,0A2.7386127875258306,2.7386127875258306,0,1,1,-2.7386127875258306,0A2.7386127875258306,2.7386127875258306,0,1,1,2.7386127875258306,0\" stroke=\"rgb(254, 186, 44)\" stroke-width=\"2\" opacity=\"0.7\"/><path aria-label=\"S: 230; s: 35; lost_mean: 210.381\" role=\"graphics-symbol\" aria-roledescription=\"point\" transform=\"translate(191.66666666666669,0)\" d=\"M2.7386127875258306,0A2.7386127875258306,2.7386127875258306,0,1,1,-2.7386127875258306,0A2.7386127875258306,2.7386127875258306,0,1,1,2.7386127875258306,0\" stroke=\"rgb(208, 77, 116)\" stroke-width=\"2\" opacity=\"0.7\"/></g><g class=\"mark-group role-legend\" role=\"graphics-symbol\" aria-roledescription=\"legend\" aria-label=\"Gradient legend titled 'lost_mean' for stroke color with values from 203 to 217\"><g transform=\"translate(218,0)\"><path class=\"background\" aria-hidden=\"true\" d=\"M0,0h55v216h-55Z\" pointer-events=\"none\"/><g><g class=\"mark-group role-legend-entry\"><g transform=\"translate(0,16)\"><path class=\"background\" aria-hidden=\"true\" d=\"M0,0h0v0h0Z\" pointer-events=\"none\"/><g><g class=\"mark-rect role-legend-gradient\" pointer-events=\"none\"><path d=\"M0,0h16v200h-16Z\" fill=\"url(#gradient_0)\" stroke=\"#ddd\" stroke-width=\"0\" opacity=\"0.7\"/></g><g class=\"mark-text role-legend-label\" pointer-events=\"none\"><text text-anchor=\"start\" transform=\"translate(18,178.35727508330265)\" font-family=\"sans-serif\" font-size=\"10px\" fill=\"#000\" opacity=\"1\">205</text><text text-anchor=\"start\" transform=\"translate(18,104.3106256941875)\" font-family=\"sans-serif\" font-size=\"10px\" fill=\"#000\" opacity=\"1\">210</text><text text-anchor=\"start\" transform=\"translate(18,30.263976305072333)\" font-family=\"sans-serif\" font-size=\"10px\" fill=\"#000\" opacity=\"1\">215</text></g></g><path class=\"foreground\" aria-hidden=\"true\" d=\"\" pointer-events=\"none\" display=\"none\"/></g></g><g class=\"mark-text role-legend-title\" pointer-events=\"none\"><text text-anchor=\"start\" transform=\"translate(0,9)\" font-family=\"sans-serif\" font-size=\"11px\" font-weight=\"bold\" fill=\"#000\" opacity=\"1\">lost_mean</text></g></g><path class=\"foreground\" aria-hidden=\"true\" d=\"\" pointer-events=\"none\" display=\"none\"/></g></g></g><path class=\"foreground\" aria-hidden=\"true\" d=\"\" display=\"none\"/></g></g></g><defs><linearGradient id=\"gradient_0\" x1=\"0\" x2=\"0\" y1=\"1\" y2=\"0\"><stop offset=\"0\" stop-color=\"rgb(13, 8, 135)\"/><stop offset=\"0.04916697519437153\" stop-color=\"rgb(43, 6, 147)\"/><stop offset=\"0.1232136245834867\" stop-color=\"rgb(76, 2, 160)\"/><stop offset=\"0.19726027397260187\" stop-color=\"rgb(105, 0, 168)\"/><stop offset=\"0.271306923361717\" stop-color=\"rgb(134, 6, 167)\"/><stop offset=\"0.34535357275083217\" stop-color=\"rgb(160, 27, 156)\"/><stop offset=\"0.4194002221399474\" stop-color=\"rgb(182, 48, 139)\"/><stop offset=\"0.4934468715290625\" stop-color=\"rgb(201, 69, 122)\"/><stop offset=\"0.5674935209181777\" stop-color=\"rgb(218, 90, 105)\"/><stop offset=\"0.6415401703072928\" stop-color=\"rgb(232, 113, 89)\"/><stop offset=\"0.715586819696408\" stop-color=\"rgb(244, 137, 72)\"/><stop offset=\"0.7896334690855232\" stop-color=\"rgb(251, 162, 56)\"/><stop offset=\"0.8636801184746383\" stop-color=\"rgb(254, 191, 42)\"/><stop offset=\"0.9377267678637535\" stop-color=\"rgb(248, 222, 36)\"/><stop offset=\"1\" stop-color=\"rgb(240, 249, 33)\"/></linearGradient></defs></svg>\n"
      ],
      "text/plain": [
       "@vlplot(\n",
       "    mark=\"point\",\n",
       "    encoding={\n",
       "        x={\n",
       "            field=\"S\"\n",
       "        },\n",
       "        y={\n",
       "            field=\"s\"\n",
       "        },\n",
       "        color={\n",
       "            scale={\n",
       "                scheme=\"plasma\"\n",
       "            },\n",
       "            field=\"lost_mean\"\n",
       "        }\n",
       "    },\n",
       "    data={\n",
       "        values=...\n",
       "    }\n",
       ")"
      ]
     },
     "execution_count": 38,
     "metadata": {},
     "output_type": "execute_result"
    }
   ],
   "source": [
    "# using PyPlot\n",
    "# using PyCall \n",
    "\n",
    "using VegaLite\n",
    "df |> @vlplot(:point, x=:S, y=:s, color={:lost_mean, scale={scheme=:plasma}})\n",
    "\n",
    "        # scatter(df.S[more500],\n",
    "#         df.s[more500], \n",
    "#         c=df.lost_mean[more500] )\n",
    "# xlabel(\"S - target wharehouse stock \")\n",
    "# ylabel(\"s - reorder point\")\n",
    "# colorbar()\n",
    "# title(\"Lost orders\")\n",
    "\n",
    "# scatter(df.S[Not(more500)],\n",
    "#         df.s[Not(more500)], \n",
    "#         c=\"gray\")\n",
    "# show()\n",
    "# savefig(raw\"c:\\temp\\lost_orders.png\")"
   ]
  },
  {
   "cell_type": "code",
   "execution_count": 39,
   "metadata": {
    "scrolled": true
   },
   "outputs": [
    {
     "data": {
      "application/vnd.vegalite.v4+json": {
       "data": {
        "values": [
         {
          "N": 1000,
          "S": 230,
          "lost_mean": 209.203,
          "lost_std": 94.67962834223117,
          "m": 250,
          "p": 0,
          "profit_mean": 9951.182999999997,
          "profit_std": 287.8753016156131,
          "s": 35
         },
         {
          "N": 1000,
          "S": 230,
          "lost_mean": 204.686,
          "lost_std": 94.70490178666793,
          "m": 250,
          "p": 0.01,
          "profit_mean": 10150.79686,
          "profit_std": 294.5694377211931,
          "s": 35
         },
         {
          "N": 1000,
          "S": 230,
          "lost_mean": 212.174,
          "lost_std": 95.84513557825466,
          "m": 250,
          "p": 0.02,
          "profit_mean": 10335.136739999998,
          "profit_std": 291.757917757079,
          "s": 35
         },
         {
          "N": 1000,
          "S": 230,
          "lost_mean": 209.304,
          "lost_std": 98.43403295020906,
          "m": 250,
          "p": 0.03,
          "profit_mean": 10532.661240000001,
          "profit_std": 312.7849776480716,
          "s": 35
         },
         {
          "N": 1000,
          "S": 230,
          "lost_mean": 210.436,
          "lost_std": 94.4455921357576,
          "m": 250,
          "p": 0.04,
          "profit_mean": 10717.045340000002,
          "profit_std": 300.2750931666837,
          "s": 35
         },
         {
          "N": 1000,
          "S": 230,
          "lost_mean": 209.943,
          "lost_std": 95.88991932225007,
          "m": 250,
          "p": 0.05,
          "profit_mean": 10911.384599999996,
          "profit_std": 312.332194374007,
          "s": 35
         },
         {
          "N": 1000,
          "S": 230,
          "lost_mean": 211.403,
          "lost_std": 96.79979747805153,
          "m": 250,
          "p": 0.06,
          "profit_mean": 11086.432420000003,
          "profit_std": 317.7599218965588,
          "s": 35
         },
         {
          "N": 1000,
          "S": 230,
          "lost_mean": 212.381,
          "lost_std": 98.49925859082872,
          "m": 250,
          "p": 0.07,
          "profit_mean": 11275.142600000001,
          "profit_std": 323.31495962599394,
          "s": 35
         },
         {
          "N": 1000,
          "S": 230,
          "lost_mean": 205.078,
          "lost_std": 99.55121476084739,
          "m": 250,
          "p": 0.08,
          "profit_mean": 11492.73186,
          "profit_std": 320.62758795134243,
          "s": 35
         },
         {
          "N": 1000,
          "S": 230,
          "lost_mean": 208.672,
          "lost_std": 95.93979810725507,
          "m": 250,
          "p": 0.09,
          "profit_mean": 11685.381899999998,
          "profit_std": 326.71427975248366,
          "s": 35
         },
         {
          "N": 1000,
          "S": 230,
          "lost_mean": 213.137,
          "lost_std": 99.85490089240605,
          "m": 250,
          "p": 0.1,
          "profit_mean": 11851.555,
          "profit_std": 341.76943353772964,
          "s": 35
         },
         {
          "N": 1000,
          "S": 230,
          "lost_mean": 209.323,
          "lost_std": 95.95015947930521,
          "m": 250,
          "p": 0.11,
          "profit_mean": 12052.02818,
          "profit_std": 335.7474905468336,
          "s": 35
         },
         {
          "N": 1000,
          "S": 230,
          "lost_mean": 211.184,
          "lost_std": 93.08298763247014,
          "m": 250,
          "p": 0.12,
          "profit_mean": 12247.288040000003,
          "profit_std": 338.43354696286883,
          "s": 35
         },
         {
          "N": 1000,
          "S": 230,
          "lost_mean": 207.645,
          "lost_std": 95.03839893575791,
          "m": 250,
          "p": 0.13,
          "profit_mean": 12442.448179999996,
          "profit_std": 353.82065867327685,
          "s": 35
         },
         {
          "N": 1000,
          "S": 230,
          "lost_mean": 211.245,
          "lost_std": 96.74845341522642,
          "m": 250,
          "p": 0.14,
          "profit_mean": 12636.472619999999,
          "profit_std": 347.1972056511219,
          "s": 35
         },
         {
          "N": 1000,
          "S": 230,
          "lost_mean": 204.311,
          "lost_std": 96.08633025494241,
          "m": 250,
          "p": 0.15,
          "profit_mean": 12834.318100000002,
          "profit_std": 341.085610068478,
          "s": 35
         },
         {
          "N": 1000,
          "S": 230,
          "lost_mean": 212.598,
          "lost_std": 96.64052870192602,
          "m": 250,
          "p": 0.16,
          "profit_mean": 13015.817939999997,
          "profit_std": 362.66969529537784,
          "s": 35
         },
         {
          "N": 1000,
          "S": 230,
          "lost_mean": 209.28,
          "lost_std": 95.16680261688063,
          "m": 250,
          "p": 0.17,
          "profit_mean": 13212.403299999996,
          "profit_std": 356.7423999726527,
          "s": 35
         },
         {
          "N": 1000,
          "S": 230,
          "lost_mean": 208.769,
          "lost_std": 93.3077594682081,
          "m": 250,
          "p": 0.18,
          "profit_mean": 13408.679979999995,
          "profit_std": 367.71799408183864,
          "s": 35
         },
         {
          "N": 1000,
          "S": 230,
          "lost_mean": 204.466,
          "lost_std": 98.91951230123362,
          "m": 250,
          "p": 0.19,
          "profit_mean": 13600.674579999999,
          "profit_std": 368.81220843583105,
          "s": 35
         },
         {
          "N": 1000,
          "S": 230,
          "lost_mean": 204.002,
          "lost_std": 92.93320491932137,
          "m": 250,
          "p": 0.2,
          "profit_mean": 13797.083299999997,
          "profit_std": 371.8217251942609,
          "s": 35
         },
         {
          "N": 1000,
          "S": 230,
          "lost_mean": 213.745,
          "lost_std": 97.71497424239126,
          "m": 250,
          "p": 0.21,
          "profit_mean": 13968.720440000003,
          "profit_std": 378.86779502659584,
          "s": 35
         },
         {
          "N": 1000,
          "S": 230,
          "lost_mean": 207.038,
          "lost_std": 98.35704684802542,
          "m": 250,
          "p": 0.22,
          "profit_mean": 14168.449540000007,
          "profit_std": 379.0086890758353,
          "s": 35
         },
         {
          "N": 1000,
          "S": 230,
          "lost_mean": 206.546,
          "lost_std": 94.84908134627467,
          "m": 250,
          "p": 0.23,
          "profit_mean": 14381.039180000003,
          "profit_std": 384.2001878928543,
          "s": 35
         },
         {
          "N": 1000,
          "S": 230,
          "lost_mean": 206.788,
          "lost_std": 95.29819936810351,
          "m": 250,
          "p": 0.24,
          "profit_mean": 14558.0107,
          "profit_std": 392.1245185171825,
          "s": 35
         },
         {
          "N": 1000,
          "S": 230,
          "lost_mean": 212.219,
          "lost_std": 101.92394973964919,
          "m": 250,
          "p": 0.25,
          "profit_mean": 14739.464899999997,
          "profit_std": 398.2037534318795,
          "s": 35
         },
         {
          "N": 1000,
          "S": 230,
          "lost_mean": 208.471,
          "lost_std": 95.66445969035652,
          "m": 250,
          "p": 0.26,
          "profit_mean": 14923.84748,
          "profit_std": 401.07982078120983,
          "s": 35
         },
         {
          "N": 1000,
          "S": 230,
          "lost_mean": 210.839,
          "lost_std": 93.47682598374848,
          "m": 250,
          "p": 0.27,
          "profit_mean": 15127.723460000003,
          "profit_std": 398.68410088179377,
          "s": 35
         },
         {
          "N": 1000,
          "S": 230,
          "lost_mean": 211.479,
          "lost_std": 100.72313889921078,
          "m": 250,
          "p": 0.28,
          "profit_mean": 15317.681020000004,
          "profit_std": 425.8404148766319,
          "s": 35
         },
         {
          "N": 1000,
          "S": 230,
          "lost_mean": 206.755,
          "lost_std": 98.61411521034256,
          "m": 250,
          "p": 0.29,
          "profit_mean": 15516.495879999997,
          "profit_std": 419.14158762678744,
          "s": 35
         },
         {
          "N": 1000,
          "S": 230,
          "lost_mean": 209.136,
          "lost_std": 99.70900355228403,
          "m": 250,
          "p": 0.3,
          "profit_mean": 15721.332399999998,
          "profit_std": 433.1722118226602,
          "s": 35
         },
         {
          "N": 1000,
          "S": 230,
          "lost_mean": 203.336,
          "lost_std": 95.03585069286704,
          "m": 250,
          "p": 0.31,
          "profit_mean": 15910.764480000003,
          "profit_std": 412.75039851828893,
          "s": 35
         },
         {
          "N": 1000,
          "S": 230,
          "lost_mean": 208.547,
          "lost_std": 95.27964106251136,
          "m": 250,
          "p": 0.32,
          "profit_mean": 16070.278620000003,
          "profit_std": 428.84033471208306,
          "s": 35
         },
         {
          "N": 1000,
          "S": 230,
          "lost_mean": 206.398,
          "lost_std": 95.53006641675485,
          "m": 250,
          "p": 0.33,
          "profit_mean": 16288.631300000003,
          "profit_std": 422.48867176017353,
          "s": 35
         },
         {
          "N": 1000,
          "S": 230,
          "lost_mean": 212.058,
          "lost_std": 96.74174694309382,
          "m": 250,
          "p": 0.34,
          "profit_mean": 16457.374319999995,
          "profit_std": 456.15330292995964,
          "s": 35
         },
         {
          "N": 1000,
          "S": 230,
          "lost_mean": 207.693,
          "lost_std": 94.81148648222413,
          "m": 250,
          "p": 0.35,
          "profit_mean": 16676.84340000001,
          "profit_std": 431.63798257850806,
          "s": 35
         },
         {
          "N": 1000,
          "S": 230,
          "lost_mean": 211.012,
          "lost_std": 102.60485179372178,
          "m": 250,
          "p": 0.36,
          "profit_mean": 16864.446620000006,
          "profit_std": 457.6404269154147,
          "s": 35
         },
         {
          "N": 1000,
          "S": 230,
          "lost_mean": 213.446,
          "lost_std": 100.22171159721569,
          "m": 250,
          "p": 0.37,
          "profit_mean": 17043.841099999998,
          "profit_std": 472.21917366151456,
          "s": 35
         },
         {
          "N": 1000,
          "S": 230,
          "lost_mean": 209.051,
          "lost_std": 96.21301025507071,
          "m": 250,
          "p": 0.38,
          "profit_mean": 17226.07372,
          "profit_std": 447.90966805651806,
          "s": 35
         },
         {
          "N": 1000,
          "S": 230,
          "lost_mean": 206.864,
          "lost_std": 99.9160183089514,
          "m": 250,
          "p": 0.39,
          "profit_mean": 17442.28089999999,
          "profit_std": 472.5728699299017,
          "s": 35
         },
         {
          "N": 1000,
          "S": 230,
          "lost_mean": 208.451,
          "lost_std": 95.44429376454212,
          "m": 250,
          "p": 0.4,
          "profit_mean": 17635.363100000002,
          "profit_std": 464.3338872053137,
          "s": 35
         },
         {
          "N": 1000,
          "S": 230,
          "lost_mean": 214.676,
          "lost_std": 98.97607431741919,
          "m": 250,
          "p": 0.41,
          "profit_mean": 17805.405979999996,
          "profit_std": 454.10976192603044,
          "s": 35
         },
         {
          "N": 1000,
          "S": 230,
          "lost_mean": 211.919,
          "lost_std": 99.67186624077989,
          "m": 250,
          "p": 0.42,
          "profit_mean": 17980.802800000005,
          "profit_std": 479.10536914096406,
          "s": 35
         },
         {
          "N": 1000,
          "S": 230,
          "lost_mean": 212.654,
          "lost_std": 97.7412688665317,
          "m": 250,
          "p": 0.43,
          "profit_mean": 18175.695659999998,
          "profit_std": 465.51663213031924,
          "s": 35
         },
         {
          "N": 1000,
          "S": 230,
          "lost_mean": 207.781,
          "lost_std": 95.11077277626389,
          "m": 250,
          "p": 0.44,
          "profit_mean": 18391.573640000002,
          "profit_std": 474.22508687475835,
          "s": 35
         },
         {
          "N": 1000,
          "S": 230,
          "lost_mean": 206.054,
          "lost_std": 94.75562100325085,
          "m": 250,
          "p": 0.45,
          "profit_mean": 18591.453900000008,
          "profit_std": 494.76625773650386,
          "s": 35
         },
         {
          "N": 1000,
          "S": 230,
          "lost_mean": 212.695,
          "lost_std": 94.27700742561322,
          "m": 250,
          "p": 0.46,
          "profit_mean": 18772.434759999996,
          "profit_std": 482.9532887205851,
          "s": 35
         },
         {
          "N": 1000,
          "S": 230,
          "lost_mean": 212.921,
          "lost_std": 98.57663065408104,
          "m": 250,
          "p": 0.47,
          "profit_mean": 18934.243399999996,
          "profit_std": 505.603153522297,
          "s": 35
         },
         {
          "N": 1000,
          "S": 230,
          "lost_mean": 210.917,
          "lost_std": 94.74988998754908,
          "m": 250,
          "p": 0.48,
          "profit_mean": 19142.441460000005,
          "profit_std": 483.3864734128865,
          "s": 35
         },
         {
          "N": 1000,
          "S": 230,
          "lost_mean": 206.595,
          "lost_std": 94.63100973255544,
          "m": 250,
          "p": 0.49,
          "profit_mean": 19341.964020000007,
          "profit_std": 487.6584922304586,
          "s": 35
         },
         {
          "N": 1000,
          "S": 230,
          "lost_mean": 204.025,
          "lost_std": 93.54120125020492,
          "m": 250,
          "p": 0.5,
          "profit_mean": 19557.246799999997,
          "profit_std": 498.8584293186419,
          "s": 35
         },
         {
          "N": 1000,
          "S": 230,
          "lost_mean": 207.003,
          "lost_std": 96.1169780239915,
          "m": 250,
          "p": 0.51,
          "profit_mean": 19724.361120000005,
          "profit_std": 502.1554196328188,
          "s": 35
         },
         {
          "N": 1000,
          "S": 230,
          "lost_mean": 207.98,
          "lost_std": 93.34242555455909,
          "m": 250,
          "p": 0.52,
          "profit_mean": 19920.180780000002,
          "profit_std": 510.7580386384781,
          "s": 35
         },
         {
          "N": 1000,
          "S": 230,
          "lost_mean": 209.973,
          "lost_std": 97.44822434209577,
          "m": 250,
          "p": 0.53,
          "profit_mean": 20094.274660000003,
          "profit_std": 540.5160838828202,
          "s": 35
         },
         {
          "N": 1000,
          "S": 230,
          "lost_mean": 212.62,
          "lost_std": 102.59550398256951,
          "m": 250,
          "p": 0.54,
          "profit_mean": 20298.93554,
          "profit_std": 546.127328599799,
          "s": 35
         },
         {
          "N": 1000,
          "S": 230,
          "lost_mean": 207.474,
          "lost_std": 95.08331168065276,
          "m": 250,
          "p": 0.55,
          "profit_mean": 20502.088099999997,
          "profit_std": 511.3977433468886,
          "s": 35
         },
         {
          "N": 1000,
          "S": 230,
          "lost_mean": 205.334,
          "lost_std": 91.45223866016597,
          "m": 250,
          "p": 0.56,
          "profit_mean": 20718.972599999997,
          "profit_std": 528.7247023903439,
          "s": 35
         },
         {
          "N": 1000,
          "S": 230,
          "lost_mean": 210.997,
          "lost_std": 95.46601883262838,
          "m": 250,
          "p": 0.57,
          "profit_mean": 20864.76466,
          "profit_std": 536.8129883689157,
          "s": 35
         },
         {
          "N": 1000,
          "S": 230,
          "lost_mean": 207.618,
          "lost_std": 92.92263821423008,
          "m": 250,
          "p": 0.58,
          "profit_mean": 21076.443079999994,
          "profit_std": 540.123563474075,
          "s": 35
         },
         {
          "N": 1000,
          "S": 230,
          "lost_mean": 210.574,
          "lost_std": 93.73469323957227,
          "m": 250,
          "p": 0.59,
          "profit_mean": 21263.058139999997,
          "profit_std": 544.0582580234066,
          "s": 35
         },
         {
          "N": 1000,
          "S": 230,
          "lost_mean": 212.114,
          "lost_std": 97.74161051684396,
          "m": 250,
          "p": 0.6,
          "profit_mean": 21442.624299999992,
          "profit_std": 555.9103393217965,
          "s": 35
         },
         {
          "N": 1000,
          "S": 230,
          "lost_mean": 210.061,
          "lost_std": 93.1368979554331,
          "m": 250,
          "p": 0.61,
          "profit_mean": 21638.432579999993,
          "profit_std": 517.9774961844357,
          "s": 35
         },
         {
          "N": 1000,
          "S": 230,
          "lost_mean": 216.841,
          "lost_std": 101.01023109460637,
          "m": 250,
          "p": 0.62,
          "profit_mean": 21797.397760000007,
          "profit_std": 579.5856567290713,
          "s": 35
         },
         {
          "N": 1000,
          "S": 230,
          "lost_mean": 206.437,
          "lost_std": 93.55756007960046,
          "m": 250,
          "p": 0.63,
          "profit_mean": 22008.900719999998,
          "profit_std": 563.3918774123536,
          "s": 35
         },
         {
          "N": 1000,
          "S": 230,
          "lost_mean": 206.505,
          "lost_std": 93.30579803499323,
          "m": 250,
          "p": 0.64,
          "profit_mean": 22222.851459999994,
          "profit_std": 549.9755154570709,
          "s": 35
         },
         {
          "N": 1000,
          "S": 230,
          "lost_mean": 214.513,
          "lost_std": 97.19418985485468,
          "m": 250,
          "p": 0.65,
          "profit_mean": 22382.692300000013,
          "profit_std": 579.938849707545,
          "s": 35
         },
         {
          "N": 1000,
          "S": 230,
          "lost_mean": 210.633,
          "lost_std": 94.85728340625835,
          "m": 250,
          "p": 0.66,
          "profit_mean": 22603.92198,
          "profit_std": 566.5442801132216,
          "s": 35
         },
         {
          "N": 1000,
          "S": 230,
          "lost_mean": 207.158,
          "lost_std": 91.72355338868115,
          "m": 250,
          "p": 0.67,
          "profit_mean": 22819.43056,
          "profit_std": 593.9904255138199,
          "s": 35
         },
         {
          "N": 1000,
          "S": 230,
          "lost_mean": 207.661,
          "lost_std": 98.76266573530276,
          "m": 250,
          "p": 0.68,
          "profit_mean": 22992.92800000001,
          "profit_std": 591.1917794137928,
          "s": 35
         },
         {
          "N": 1000,
          "S": 230,
          "lost_mean": 214.584,
          "lost_std": 96.77512267296989,
          "m": 250,
          "p": 0.69,
          "profit_mean": 23157.096719999998,
          "profit_std": 585.7499433941312,
          "s": 35
         },
         {
          "N": 1000,
          "S": 230,
          "lost_mean": 212.61,
          "lost_std": 98.90855778345373,
          "m": 250,
          "p": 0.7,
          "profit_mean": 23372.411899999996,
          "profit_std": 620.6134443562319,
          "s": 35
         },
         {
          "N": 1000,
          "S": 230,
          "lost_mean": 214.898,
          "lost_std": 98.96501235118232,
          "m": 250,
          "p": 0.71,
          "profit_mean": 23511.572359999995,
          "profit_std": 624.6370382319334,
          "s": 35
         },
         {
          "N": 1000,
          "S": 230,
          "lost_mean": 204.557,
          "lost_std": 94.52350736427655,
          "m": 250,
          "p": 0.72,
          "profit_mean": 23753.85134,
          "profit_std": 611.8187390091994,
          "s": 35
         },
         {
          "N": 1000,
          "S": 230,
          "lost_mean": 212.922,
          "lost_std": 98.32301526769474,
          "m": 250,
          "p": 0.73,
          "profit_mean": 23931.33494,
          "profit_std": 648.6723151009104,
          "s": 35
         },
         {
          "N": 1000,
          "S": 230,
          "lost_mean": 204.658,
          "lost_std": 97.43681526491393,
          "m": 250,
          "p": 0.74,
          "profit_mean": 24133.45710000001,
          "profit_std": 593.7001171031033,
          "s": 35
         },
         {
          "N": 1000,
          "S": 230,
          "lost_mean": 208.909,
          "lost_std": 96.83343137797209,
          "m": 250,
          "p": 0.75,
          "profit_mean": 24313.50960000001,
          "profit_std": 619.702039811058,
          "s": 35
         },
         {
          "N": 1000,
          "S": 230,
          "lost_mean": 210.338,
          "lost_std": 95.29613375740439,
          "m": 250,
          "p": 0.76,
          "profit_mean": 24513.23324,
          "profit_std": 616.363198883289,
          "s": 35
         },
         {
          "N": 1000,
          "S": 230,
          "lost_mean": 205.362,
          "lost_std": 90.91849717812723,
          "m": 250,
          "p": 0.77,
          "profit_mean": 24723.71622,
          "profit_std": 628.9877455249283,
          "s": 35
         },
         {
          "N": 1000,
          "S": 230,
          "lost_mean": 209.068,
          "lost_std": 97.32068995179131,
          "m": 250,
          "p": 0.78,
          "profit_mean": 24893.25202,
          "profit_std": 648.2650890819608,
          "s": 35
         },
         {
          "N": 1000,
          "S": 230,
          "lost_mean": 203.513,
          "lost_std": 90.22127082184505,
          "m": 250,
          "p": 0.79,
          "profit_mean": 25072.484739999996,
          "profit_std": 636.4735424755717,
          "s": 35
         },
         {
          "N": 1000,
          "S": 230,
          "lost_mean": 209.582,
          "lost_std": 94.83733123298755,
          "m": 250,
          "p": 0.8,
          "profit_mean": 25304.86600000001,
          "profit_std": 660.0920988793936,
          "s": 35
         },
         {
          "N": 1000,
          "S": 230,
          "lost_mean": 207.375,
          "lost_std": 96.3675935576275,
          "m": 250,
          "p": 0.81,
          "profit_mean": 25494.531039999998,
          "profit_std": 627.2142325537873,
          "s": 35
         },
         {
          "N": 1000,
          "S": 230,
          "lost_mean": 213.617,
          "lost_std": 97.5458738671632,
          "m": 250,
          "p": 0.82,
          "profit_mean": 25675.98876000001,
          "profit_std": 666.9850740574919,
          "s": 35
         },
         {
          "N": 1000,
          "S": 230,
          "lost_mean": 211.105,
          "lost_std": 99.8997193636145,
          "m": 250,
          "p": 0.83,
          "profit_mean": 25860.431399999983,
          "profit_std": 674.0373157719777,
          "s": 35
         },
         {
          "N": 1000,
          "S": 230,
          "lost_mean": 211.899,
          "lost_std": 97.92390867858009,
          "m": 250,
          "p": 0.84,
          "profit_mean": 26045.22736000001,
          "profit_std": 663.5388854696918,
          "s": 35
         },
         {
          "N": 1000,
          "S": 230,
          "lost_mean": 209.897,
          "lost_std": 98.65942465407485,
          "m": 250,
          "p": 0.85,
          "profit_mean": 26250.962199999994,
          "profit_std": 650.526442570664,
          "s": 35
         },
         {
          "N": 1000,
          "S": 230,
          "lost_mean": 207.112,
          "lost_std": 96.58690639256693,
          "m": 250,
          "p": 0.86,
          "profit_mean": 26437.492099999996,
          "profit_std": 682.4361890724621,
          "s": 35
         },
         {
          "N": 1000,
          "S": 230,
          "lost_mean": 211.603,
          "lost_std": 95.35846384892969,
          "m": 250,
          "p": 0.87,
          "profit_mean": 26632.550740000002,
          "profit_std": 676.7963529005984,
          "s": 35
         },
         {
          "N": 1000,
          "S": 230,
          "lost_mean": 207.462,
          "lost_std": 95.76070524316674,
          "m": 250,
          "p": 0.88,
          "profit_mean": 26849.68821999999,
          "profit_std": 692.1884104366197,
          "s": 35
         },
         {
          "N": 1000,
          "S": 230,
          "lost_mean": 208.06,
          "lost_std": 98.8250413042605,
          "m": 250,
          "p": 0.89,
          "profit_mean": 26986.201520000006,
          "profit_std": 702.3708544793925,
          "s": 35
         },
         {
          "N": 1000,
          "S": 230,
          "lost_mean": 211.373,
          "lost_std": 96.96223773483439,
          "m": 250,
          "p": 0.9,
          "profit_mean": 27210.9626,
          "profit_std": 702.4283672605853,
          "s": 35
         },
         {
          "N": 1000,
          "S": 230,
          "lost_mean": 209.007,
          "lost_std": 96.73668868603026,
          "m": 250,
          "p": 0.91,
          "profit_mean": 27379.30342,
          "profit_std": 689.0751682615023,
          "s": 35
         },
         {
          "N": 1000,
          "S": 230,
          "lost_mean": 209.649,
          "lost_std": 92.24961675145751,
          "m": 250,
          "p": 0.92,
          "profit_mean": 27577.56424000001,
          "profit_std": 681.3460410123668,
          "s": 35
         },
         {
          "N": 1000,
          "S": 230,
          "lost_mean": 214.797,
          "lost_std": 100.21870873534832,
          "m": 250,
          "p": 0.93,
          "profit_mean": 27737.124999999996,
          "profit_std": 703.7485483346184,
          "s": 35
         },
         {
          "N": 1000,
          "S": 230,
          "lost_mean": 206.251,
          "lost_std": 93.58797309327575,
          "m": 250,
          "p": 0.94,
          "profit_mean": 27960.022800000013,
          "profit_std": 707.9608612478647,
          "s": 35
         },
         {
          "N": 1000,
          "S": 230,
          "lost_mean": 210.033,
          "lost_std": 97.35865970533705,
          "m": 250,
          "p": 0.95,
          "profit_mean": 28142.175099999997,
          "profit_std": 712.9853927678254,
          "s": 35
         },
         {
          "N": 1000,
          "S": 230,
          "lost_mean": 212.303,
          "lost_std": 97.5807213961251,
          "m": 250,
          "p": 0.96,
          "profit_mean": 28348.163080000006,
          "profit_std": 703.2032069306503,
          "s": 35
         },
         {
          "N": 1000,
          "S": 230,
          "lost_mean": 213.015,
          "lost_std": 98.13458703317689,
          "m": 250,
          "p": 0.97,
          "profit_mean": 28522.194419999993,
          "profit_std": 724.0322973011627,
          "s": 35
         },
         {
          "N": 1000,
          "S": 230,
          "lost_mean": 211.821,
          "lost_std": 98.45413234179244,
          "m": 250,
          "p": 0.98,
          "profit_mean": 28751.304440000004,
          "profit_std": 734.9215044661662,
          "s": 35
         },
         {
          "N": 1000,
          "S": 230,
          "lost_mean": 214.842,
          "lost_std": 94.99076945831251,
          "m": 250,
          "p": 0.99,
          "profit_mean": 28915.401379999996,
          "profit_std": 727.9481146676212,
          "s": 35
         },
         {
          "N": 1000,
          "S": 230,
          "lost_mean": 210.381,
          "lost_std": 96.49985523854978,
          "m": 250,
          "p": 1,
          "profit_mean": 29121.0862,
          "profit_std": 745.1793722496523,
          "s": 35
         }
        ]
       },
       "encoding": {
        "color": {
         "field": "s",
         "scale": {
          "scheme": "plasma"
         },
         "type": "quantitative"
        },
        "x": {
         "field": "lost_mean",
         "type": "quantitative"
        },
        "y": {
         "field": "profit_mean",
         "type": "quantitative"
        }
       },
       "mark": "point"
      },
      "image/png": "[encoded data removed]",
      "image/svg+xml": [
       "<?xml version=\"1.0\" encoding=\"utf-8\"?>\n",
       "<!DOCTYPE svg PUBLIC \"-//W3C//DTD SVG 1.1//EN\" \"http://www.w3.org/Graphics/SVG/1.1/DTD/svg11.dtd\">\n",
       "<svg xmlns=\"http://www.w3.org/2000/svg\" xmlns:xlink=\"http://www.w3.org/1999/xlink\" version=\"1.1\" class=\"marks\" width=\"313\" height=\"247\" viewBox=\"0 0 313 247\"><rect width=\"313\" height=\"247\" fill=\"white\"/><g fill=\"none\" stroke-miterlimit=\"10\" transform=\"translate(60,10)\"><g class=\"mark-group role-frame root\" role=\"graphics-object\" aria-roledescription=\"group mark container\"><g transform=\"translate(0,0)\"><path class=\"background\" aria-hidden=\"true\" d=\"M0.5,0.5h200v200h-200Z\" stroke=\"#ddd\"/><g><g class=\"mark-group role-axis\" aria-hidden=\"true\"><g transform=\"translate(0.5,200.5)\"><path class=\"background\" aria-hidden=\"true\" d=\"M0,0h0v0h0Z\" pointer-events=\"none\"/><g><g class=\"mark-rule role-axis-grid\" pointer-events=\"none\"><line transform=\"translate(0,-200)\" x2=\"0\" y2=\"200\" stroke=\"#ddd\" stroke-width=\"1\" opacity=\"1\"/><line transform=\"translate(45,-200)\" x2=\"0\" y2=\"200\" stroke=\"#ddd\" stroke-width=\"1\" opacity=\"1\"/><line transform=\"translate(91,-200)\" x2=\"0\" y2=\"200\" stroke=\"#ddd\" stroke-width=\"1\" opacity=\"1\"/><line transform=\"translate(136,-200)\" x2=\"0\" y2=\"200\" stroke=\"#ddd\" stroke-width=\"1\" opacity=\"1\"/><line transform=\"translate(182,-200)\" x2=\"0\" y2=\"200\" stroke=\"#ddd\" stroke-width=\"1\" opacity=\"1\"/></g></g><path class=\"foreground\" aria-hidden=\"true\" d=\"\" pointer-events=\"none\" display=\"none\"/></g></g><g class=\"mark-group role-axis\" aria-hidden=\"true\"><g transform=\"translate(0.5,0.5)\"><path class=\"background\" aria-hidden=\"true\" d=\"M0,0h0v0h0Z\" pointer-events=\"none\"/><g><g class=\"mark-rule role-axis-grid\" pointer-events=\"none\"><line transform=\"translate(0,200)\" x2=\"200\" y2=\"0\" stroke=\"#ddd\" stroke-width=\"1\" opacity=\"1\"/><line transform=\"translate(0,167)\" x2=\"200\" y2=\"0\" stroke=\"#ddd\" stroke-width=\"1\" opacity=\"1\"/><line transform=\"translate(0,133)\" x2=\"200\" y2=\"0\" stroke=\"#ddd\" stroke-width=\"1\" opacity=\"1\"/><line transform=\"translate(0,100)\" x2=\"200\" y2=\"0\" stroke=\"#ddd\" stroke-width=\"1\" opacity=\"1\"/><line transform=\"translate(0,67)\" x2=\"200\" y2=\"0\" stroke=\"#ddd\" stroke-width=\"1\" opacity=\"1\"/><line transform=\"translate(0,33)\" x2=\"200\" y2=\"0\" stroke=\"#ddd\" stroke-width=\"1\" opacity=\"1\"/><line transform=\"translate(0,0)\" x2=\"200\" y2=\"0\" stroke=\"#ddd\" stroke-width=\"1\" opacity=\"1\"/></g></g><path class=\"foreground\" aria-hidden=\"true\" d=\"\" pointer-events=\"none\" display=\"none\"/></g></g><g class=\"mark-group role-axis\" role=\"graphics-symbol\" aria-roledescription=\"axis\" aria-label=\"X-axis titled 'lost_mean' for a linear scale with values from 0 to 220\"><g transform=\"translate(0.5,200.5)\"><path class=\"background\" aria-hidden=\"true\" d=\"M0,0h0v0h0Z\" pointer-events=\"none\"/><g><g class=\"mark-rule role-axis-tick\" pointer-events=\"none\"><line transform=\"translate(0,0)\" x2=\"0\" y2=\"5\" stroke=\"#888\" stroke-width=\"1\" opacity=\"1\"/><line transform=\"translate(45,0)\" x2=\"0\" y2=\"5\" stroke=\"#888\" stroke-width=\"1\" opacity=\"1\"/><line transform=\"translate(91,0)\" x2=\"0\" y2=\"5\" stroke=\"#888\" stroke-width=\"1\" opacity=\"1\"/><line transform=\"translate(136,0)\" x2=\"0\" y2=\"5\" stroke=\"#888\" stroke-width=\"1\" opacity=\"1\"/><line transform=\"translate(182,0)\" x2=\"0\" y2=\"5\" stroke=\"#888\" stroke-width=\"1\" opacity=\"1\"/></g><g class=\"mark-text role-axis-label\" pointer-events=\"none\"><text text-anchor=\"start\" transform=\"translate(0,15)\" font-family=\"sans-serif\" font-size=\"10px\" fill=\"#000\" opacity=\"1\">0</text><text text-anchor=\"middle\" transform=\"translate(45.45454545454545,15)\" font-family=\"sans-serif\" font-size=\"10px\" fill=\"#000\" opacity=\"1\">50</text><text text-anchor=\"middle\" transform=\"translate(90.9090909090909,15)\" font-family=\"sans-serif\" font-size=\"10px\" fill=\"#000\" opacity=\"1\">100</text><text text-anchor=\"middle\" transform=\"translate(136.36363636363635,15)\" font-family=\"sans-serif\" font-size=\"10px\" fill=\"#000\" opacity=\"1\">150</text><text text-anchor=\"middle\" transform=\"translate(181.8181818181818,15)\" font-family=\"sans-serif\" font-size=\"10px\" fill=\"#000\" opacity=\"1\">200</text></g><g class=\"mark-rule role-axis-domain\" pointer-events=\"none\"><line transform=\"translate(0,0)\" x2=\"200\" y2=\"0\" stroke=\"#888\" stroke-width=\"1\" opacity=\"1\"/></g><g class=\"mark-text role-axis-title\" pointer-events=\"none\"><text text-anchor=\"middle\" transform=\"translate(100,30)\" font-family=\"sans-serif\" font-size=\"11px\" font-weight=\"bold\" fill=\"#000\" opacity=\"1\">lost_mean</text></g></g><path class=\"foreground\" aria-hidden=\"true\" d=\"\" pointer-events=\"none\" display=\"none\"/></g></g><g class=\"mark-group role-axis\" role=\"graphics-symbol\" aria-roledescription=\"axis\" aria-label=\"Y-axis titled 'profit_mean' for a linear scale with values from 0 to 30,000\"><g transform=\"translate(0.5,0.5)\"><path class=\"background\" aria-hidden=\"true\" d=\"M0,0h0v0h0Z\" pointer-events=\"none\"/><g><g class=\"mark-rule role-axis-tick\" pointer-events=\"none\"><line transform=\"translate(0,200)\" x2=\"-5\" y2=\"0\" stroke=\"#888\" stroke-width=\"1\" opacity=\"1\"/><line transform=\"translate(0,167)\" x2=\"-5\" y2=\"0\" stroke=\"#888\" stroke-width=\"1\" opacity=\"1\"/><line transform=\"translate(0,133)\" x2=\"-5\" y2=\"0\" stroke=\"#888\" stroke-width=\"1\" opacity=\"1\"/><line transform=\"translate(0,100)\" x2=\"-5\" y2=\"0\" stroke=\"#888\" stroke-width=\"1\" opacity=\"1\"/><line transform=\"translate(0,67)\" x2=\"-5\" y2=\"0\" stroke=\"#888\" stroke-width=\"1\" opacity=\"1\"/><line transform=\"translate(0,33)\" x2=\"-5\" y2=\"0\" stroke=\"#888\" stroke-width=\"1\" opacity=\"1\"/><line transform=\"translate(0,0)\" x2=\"-5\" y2=\"0\" stroke=\"#888\" stroke-width=\"1\" opacity=\"1\"/></g><g class=\"mark-text role-axis-label\" pointer-events=\"none\"><text text-anchor=\"end\" transform=\"translate(-7,203)\" font-family=\"sans-serif\" font-size=\"10px\" fill=\"#000\" opacity=\"1\">0</text><text text-anchor=\"end\" transform=\"translate(-7,169.66666666666669)\" font-family=\"sans-serif\" font-size=\"10px\" fill=\"#000\" opacity=\"1\">5,000</text><text text-anchor=\"end\" transform=\"translate(-7,136.33333333333334)\" font-family=\"sans-serif\" font-size=\"10px\" fill=\"#000\" opacity=\"1\">10,000</text><text text-anchor=\"end\" transform=\"translate(-7,103)\" font-family=\"sans-serif\" font-size=\"10px\" fill=\"#000\" opacity=\"1\">15,000</text><text text-anchor=\"end\" transform=\"translate(-7,69.66666666666667)\" font-family=\"sans-serif\" font-size=\"10px\" fill=\"#000\" opacity=\"1\">20,000</text><text text-anchor=\"end\" transform=\"translate(-7,36.33333333333333)\" font-family=\"sans-serif\" font-size=\"10px\" fill=\"#000\" opacity=\"1\">25,000</text><text text-anchor=\"end\" transform=\"translate(-7,3)\" font-family=\"sans-serif\" font-size=\"10px\" fill=\"#000\" opacity=\"1\">30,000</text></g><g class=\"mark-rule role-axis-domain\" pointer-events=\"none\"><line transform=\"translate(0,200)\" x2=\"0\" y2=\"-200\" stroke=\"#888\" stroke-width=\"1\" opacity=\"1\"/></g><g class=\"mark-text role-axis-title\" pointer-events=\"none\"><text text-anchor=\"middle\" transform=\"translate(-44,100) rotate(-90) translate(0,-2)\" font-family=\"sans-serif\" font-size=\"11px\" font-weight=\"bold\" fill=\"#000\" opacity=\"1\">profit_mean</text></g></g><path class=\"foreground\" aria-hidden=\"true\" d=\"\" pointer-events=\"none\" display=\"none\"/></g></g><g class=\"mark-symbol role-mark marks\" role=\"graphics-object\" aria-roledescription=\"symbol mark container\"><path aria-label=\"lost_mean: 209.203; profit_mean: 9951.183; s: 35\" role=\"graphics-symbol\" aria-roledescription=\"point\" transform=\"translate(190.18454545454546,133.65878000000004)\" d=\"M2.7386127875258306,0A2.7386127875258306,2.7386127875258306,0,1,1,-2.7386127875258306,0A2.7386127875258306,2.7386127875258306,0,1,1,2.7386127875258306,0\" stroke=\"rgb(203, 71, 121)\" stroke-width=\"2\" opacity=\"0.7\"/><path aria-label=\"lost_mean: 204.686; profit_mean: 10150.79686; s: 35\" role=\"graphics-symbol\" aria-roledescription=\"point\" transform=\"translate(186.07818181818183,132.32802093333333)\" d=\"M2.7386127875258306,0A2.7386127875258306,2.7386127875258306,0,1,1,-2.7386127875258306,0A2.7386127875258306,2.7386127875258306,0,1,1,2.7386127875258306,0\" stroke=\"rgb(203, 71, 121)\" stroke-width=\"2\" opacity=\"0.7\"/><path aria-label=\"lost_mean: 212.174; profit_mean: 10335.13674; s: 35\" role=\"graphics-symbol\" aria-roledescription=\"point\" transform=\"translate(192.88545454545456,131.09908840000003)\" d=\"M2.7386127875258306,0A2.7386127875258306,2.7386127875258306,0,1,1,-2.7386127875258306,0A2.7386127875258306,2.7386127875258306,0,1,1,2.7386127875258306,0\" stroke=\"rgb(203, 71, 121)\" stroke-width=\"2\" opacity=\"0.7\"/><path aria-label=\"lost_mean: 209.304; profit_mean: 10532.66124; s: 35\" role=\"graphics-symbol\" aria-roledescription=\"point\" transform=\"translate(190.27636363636364,129.7822584)\" d=\"M2.7386127875258306,0A2.7386127875258306,2.7386127875258306,0,1,1,-2.7386127875258306,0A2.7386127875258306,2.7386127875258306,0,1,1,2.7386127875258306,0\" stroke=\"rgb(203, 71, 121)\" stroke-width=\"2\" opacity=\"0.7\"/><path aria-label=\"lost_mean: 210.436; profit_mean: 10717.04534; s: 35\" role=\"graphics-symbol\" aria-roledescription=\"point\" transform=\"translate(191.30545454545455,128.55303106666665)\" d=\"M2.7386127875258306,0A2.7386127875258306,2.7386127875258306,0,1,1,-2.7386127875258306,0A2.7386127875258306,2.7386127875258306,0,1,1,2.7386127875258306,0\" stroke=\"rgb(203, 71, 121)\" stroke-width=\"2\" opacity=\"0.7\"/><path aria-label=\"lost_mean: 209.943; profit_mean: 10911.3846; s: 35\" role=\"graphics-symbol\" aria-roledescription=\"point\" transform=\"translate(190.85727272727274,127.25743600000001)\" d=\"M2.7386127875258306,0A2.7386127875258306,2.7386127875258306,0,1,1,-2.7386127875258306,0A2.7386127875258306,2.7386127875258306,0,1,1,2.7386127875258306,0\" stroke=\"rgb(203, 71, 121)\" stroke-width=\"2\" opacity=\"0.7\"/><path aria-label=\"lost_mean: 211.403; profit_mean: 11086.43242; s: 35\" role=\"graphics-symbol\" aria-roledescription=\"point\" transform=\"translate(192.18454545454543,126.0904505333333)\" d=\"M2.7386127875258306,0A2.7386127875258306,2.7386127875258306,0,1,1,-2.7386127875258306,0A2.7386127875258306,2.7386127875258306,0,1,1,2.7386127875258306,0\" stroke=\"rgb(203, 71, 121)\" stroke-width=\"2\" opacity=\"0.7\"/><path aria-label=\"lost_mean: 212.381; profit_mean: 11275.1426; s: 35\" role=\"graphics-symbol\" aria-roledescription=\"point\" transform=\"translate(193.07363636363638,124.83238266666667)\" d=\"M2.7386127875258306,0A2.7386127875258306,2.7386127875258306,0,1,1,-2.7386127875258306,0A2.7386127875258306,2.7386127875258306,0,1,1,2.7386127875258306,0\" stroke=\"rgb(203, 71, 121)\" stroke-width=\"2\" opacity=\"0.7\"/><path aria-label=\"lost_mean: 205.078; profit_mean: 11492.73186; s: 35\" role=\"graphics-symbol\" aria-roledescription=\"point\" transform=\"translate(186.43454545454546,123.38178760000001)\" d=\"M2.7386127875258306,0A2.7386127875258306,2.7386127875258306,0,1,1,-2.7386127875258306,0A2.7386127875258306,2.7386127875258306,0,1,1,2.7386127875258306,0\" stroke=\"rgb(203, 71, 121)\" stroke-width=\"2\" opacity=\"0.7\"/><path aria-label=\"lost_mean: 208.672; profit_mean: 11685.3819; s: 35\" role=\"graphics-symbol\" aria-roledescription=\"point\" transform=\"translate(189.70181818181817,122.097454)\" d=\"M2.7386127875258306,0A2.7386127875258306,2.7386127875258306,0,1,1,-2.7386127875258306,0A2.7386127875258306,2.7386127875258306,0,1,1,2.7386127875258306,0\" stroke=\"rgb(203, 71, 121)\" stroke-width=\"2\" opacity=\"0.7\"/><path aria-label=\"lost_mean: 213.137; profit_mean: 11851.555; s: 35\" role=\"graphics-symbol\" aria-roledescription=\"point\" transform=\"translate(193.76090909090908,120.98963333333334)\" d=\"M2.7386127875258306,0A2.7386127875258306,2.7386127875258306,0,1,1,-2.7386127875258306,0A2.7386127875258306,2.7386127875258306,0,1,1,2.7386127875258306,0\" stroke=\"rgb(203, 71, 121)\" stroke-width=\"2\" opacity=\"0.7\"/><path aria-label=\"lost_mean: 209.323; profit_mean: 12052.02818; s: 35\" role=\"graphics-symbol\" aria-roledescription=\"point\" transform=\"translate(190.29363636363635,119.65314546666667)\" d=\"M2.7386127875258306,0A2.7386127875258306,2.7386127875258306,0,1,1,-2.7386127875258306,0A2.7386127875258306,2.7386127875258306,0,1,1,2.7386127875258306,0\" stroke=\"rgb(203, 71, 121)\" stroke-width=\"2\" opacity=\"0.7\"/><path aria-label=\"lost_mean: 211.184; profit_mean: 12247.28804; s: 35\" role=\"graphics-symbol\" aria-roledescription=\"point\" transform=\"translate(191.98545454545456,118.35141306666665)\" d=\"M2.7386127875258306,0A2.7386127875258306,2.7386127875258306,0,1,1,-2.7386127875258306,0A2.7386127875258306,2.7386127875258306,0,1,1,2.7386127875258306,0\" stroke=\"rgb(203, 71, 121)\" stroke-width=\"2\" opacity=\"0.7\"/><path aria-label=\"lost_mean: 207.645; profit_mean: 12442.44818; s: 35\" role=\"graphics-symbol\" aria-roledescription=\"point\" transform=\"translate(188.76818181818183,117.0503454666667)\" d=\"M2.7386127875258306,0A2.7386127875258306,2.7386127875258306,0,1,1,-2.7386127875258306,0A2.7386127875258306,2.7386127875258306,0,1,1,2.7386127875258306,0\" stroke=\"rgb(203, 71, 121)\" stroke-width=\"2\" opacity=\"0.7\"/><path aria-label=\"lost_mean: 211.245; profit_mean: 12636.47262; s: 35\" role=\"graphics-symbol\" aria-roledescription=\"point\" transform=\"translate(192.04090909090908,115.75684920000002)\" d=\"M2.7386127875258306,0A2.7386127875258306,2.7386127875258306,0,1,1,-2.7386127875258306,0A2.7386127875258306,2.7386127875258306,0,1,1,2.7386127875258306,0\" stroke=\"rgb(203, 71, 121)\" stroke-width=\"2\" opacity=\"0.7\"/><path aria-label=\"lost_mean: 204.311; profit_mean: 12834.3181; s: 35\" role=\"graphics-symbol\" aria-roledescription=\"point\" transform=\"translate(185.73727272727274,114.43787933333331)\" d=\"M2.7386127875258306,0A2.7386127875258306,2.7386127875258306,0,1,1,-2.7386127875258306,0A2.7386127875258306,2.7386127875258306,0,1,1,2.7386127875258306,0\" stroke=\"rgb(203, 71, 121)\" stroke-width=\"2\" opacity=\"0.7\"/><path aria-label=\"lost_mean: 212.598; profit_mean: 13015.81794; s: 35\" role=\"graphics-symbol\" aria-roledescription=\"point\" transform=\"translate(193.2709090909091,113.22788040000003)\" d=\"M2.7386127875258306,0A2.7386127875258306,2.7386127875258306,0,1,1,-2.7386127875258306,0A2.7386127875258306,2.7386127875258306,0,1,1,2.7386127875258306,0\" stroke=\"rgb(203, 71, 121)\" stroke-width=\"2\" opacity=\"0.7\"/><path aria-label=\"lost_mean: 209.28; profit_mean: 13212.4033; s: 35\" role=\"graphics-symbol\" aria-roledescription=\"point\" transform=\"translate(190.25454545454545,111.91731133333336)\" d=\"M2.7386127875258306,0A2.7386127875258306,2.7386127875258306,0,1,1,-2.7386127875258306,0A2.7386127875258306,2.7386127875258306,0,1,1,2.7386127875258306,0\" stroke=\"rgb(203, 71, 121)\" stroke-width=\"2\" opacity=\"0.7\"/><path aria-label=\"lost_mean: 208.769; profit_mean: 13408.67998; s: 35\" role=\"graphics-symbol\" aria-roledescription=\"point\" transform=\"translate(189.79000000000002,110.60880013333336)\" d=\"M2.7386127875258306,0A2.7386127875258306,2.7386127875258306,0,1,1,-2.7386127875258306,0A2.7386127875258306,2.7386127875258306,0,1,1,2.7386127875258306,0\" stroke=\"rgb(203, 71, 121)\" stroke-width=\"2\" opacity=\"0.7\"/><path aria-label=\"lost_mean: 204.466; profit_mean: 13600.67458; s: 35\" role=\"graphics-symbol\" aria-roledescription=\"point\" transform=\"translate(185.87818181818184,109.32883613333333)\" d=\"M2.7386127875258306,0A2.7386127875258306,2.7386127875258306,0,1,1,-2.7386127875258306,0A2.7386127875258306,2.7386127875258306,0,1,1,2.7386127875258306,0\" stroke=\"rgb(203, 71, 121)\" stroke-width=\"2\" opacity=\"0.7\"/><path aria-label=\"lost_mean: 204.002; profit_mean: 13797.0833; s: 35\" role=\"graphics-symbol\" aria-roledescription=\"point\" transform=\"translate(185.45636363636365,108.01944466666669)\" d=\"M2.7386127875258306,0A2.7386127875258306,2.7386127875258306,0,1,1,-2.7386127875258306,0A2.7386127875258306,2.7386127875258306,0,1,1,2.7386127875258306,0\" stroke=\"rgb(203, 71, 121)\" stroke-width=\"2\" opacity=\"0.7\"/><path aria-label=\"lost_mean: 213.745; profit_mean: 13968.72044; s: 35\" role=\"graphics-symbol\" aria-roledescription=\"point\" transform=\"translate(194.31363636363636,106.87519706666664)\" d=\"M2.7386127875258306,0A2.7386127875258306,2.7386127875258306,0,1,1,-2.7386127875258306,0A2.7386127875258306,2.7386127875258306,0,1,1,2.7386127875258306,0\" stroke=\"rgb(203, 71, 121)\" stroke-width=\"2\" opacity=\"0.7\"/><path aria-label=\"lost_mean: 207.038; profit_mean: 14168.44954; s: 35\" role=\"graphics-symbol\" aria-roledescription=\"point\" transform=\"translate(188.21636363636364,105.54366973333329)\" d=\"M2.7386127875258306,0A2.7386127875258306,2.7386127875258306,0,1,1,-2.7386127875258306,0A2.7386127875258306,2.7386127875258306,0,1,1,2.7386127875258306,0\" stroke=\"rgb(203, 71, 121)\" stroke-width=\"2\" opacity=\"0.7\"/><path aria-label=\"lost_mean: 206.546; profit_mean: 14381.03918; s: 35\" role=\"graphics-symbol\" aria-roledescription=\"point\" transform=\"translate(187.76909090909092,104.12640546666665)\" d=\"M2.7386127875258306,0A2.7386127875258306,2.7386127875258306,0,1,1,-2.7386127875258306,0A2.7386127875258306,2.7386127875258306,0,1,1,2.7386127875258306,0\" stroke=\"rgb(203, 71, 121)\" stroke-width=\"2\" opacity=\"0.7\"/><path aria-label=\"lost_mean: 206.788; profit_mean: 14558.0107; s: 35\" role=\"graphics-symbol\" aria-roledescription=\"point\" transform=\"translate(187.98909090909092,102.94659533333332)\" d=\"M2.7386127875258306,0A2.7386127875258306,2.7386127875258306,0,1,1,-2.7386127875258306,0A2.7386127875258306,2.7386127875258306,0,1,1,2.7386127875258306,0\" stroke=\"rgb(203, 71, 121)\" stroke-width=\"2\" opacity=\"0.7\"/><path aria-label=\"lost_mean: 212.219; profit_mean: 14739.4649; s: 35\" role=\"graphics-symbol\" aria-roledescription=\"point\" transform=\"translate(192.92636363636365,101.73690066666667)\" d=\"M2.7386127875258306,0A2.7386127875258306,2.7386127875258306,0,1,1,-2.7386127875258306,0A2.7386127875258306,2.7386127875258306,0,1,1,2.7386127875258306,0\" stroke=\"rgb(203, 71, 121)\" stroke-width=\"2\" opacity=\"0.7\"/><path aria-label=\"lost_mean: 208.471; profit_mean: 14923.84748; s: 35\" role=\"graphics-symbol\" aria-roledescription=\"point\" transform=\"translate(189.51909090909092,100.50768346666668)\" d=\"M2.7386127875258306,0A2.7386127875258306,2.7386127875258306,0,1,1,-2.7386127875258306,0A2.7386127875258306,2.7386127875258306,0,1,1,2.7386127875258306,0\" stroke=\"rgb(203, 71, 121)\" stroke-width=\"2\" opacity=\"0.7\"/><path aria-label=\"lost_mean: 210.839; profit_mean: 15127.72346; s: 35\" role=\"graphics-symbol\" aria-roledescription=\"point\" transform=\"translate(191.67181818181817,99.14851026666665)\" d=\"M2.7386127875258306,0A2.7386127875258306,2.7386127875258306,0,1,1,-2.7386127875258306,0A2.7386127875258306,2.7386127875258306,0,1,1,2.7386127875258306,0\" stroke=\"rgb(203, 71, 121)\" stroke-width=\"2\" opacity=\"0.7\"/><path aria-label=\"lost_mean: 211.479; profit_mean: 15317.68102; s: 35\" role=\"graphics-symbol\" aria-roledescription=\"point\" transform=\"translate(192.25363636363636,97.8821265333333)\" d=\"M2.7386127875258306,0A2.7386127875258306,2.7386127875258306,0,1,1,-2.7386127875258306,0A2.7386127875258306,2.7386127875258306,0,1,1,2.7386127875258306,0\" stroke=\"rgb(203, 71, 121)\" stroke-width=\"2\" opacity=\"0.7\"/><path aria-label=\"lost_mean: 206.755; profit_mean: 15516.49588; s: 35\" role=\"graphics-symbol\" aria-roledescription=\"point\" transform=\"translate(187.95909090909092,96.55669413333337)\" d=\"M2.7386127875258306,0A2.7386127875258306,2.7386127875258306,0,1,1,-2.7386127875258306,0A2.7386127875258306,2.7386127875258306,0,1,1,2.7386127875258306,0\" stroke=\"rgb(203, 71, 121)\" stroke-width=\"2\" opacity=\"0.7\"/><path aria-label=\"lost_mean: 209.136; profit_mean: 15721.3324; s: 35\" role=\"graphics-symbol\" aria-roledescription=\"point\" transform=\"translate(190.12363636363636,95.19111733333334)\" d=\"M2.7386127875258306,0A2.7386127875258306,2.7386127875258306,0,1,1,-2.7386127875258306,0A2.7386127875258306,2.7386127875258306,0,1,1,2.7386127875258306,0\" stroke=\"rgb(203, 71, 121)\" stroke-width=\"2\" opacity=\"0.7\"/><path aria-label=\"lost_mean: 203.336; profit_mean: 15910.76448; s: 35\" role=\"graphics-symbol\" aria-roledescription=\"point\" transform=\"translate(184.8509090909091,93.92823679999998)\" d=\"M2.7386127875258306,0A2.7386127875258306,2.7386127875258306,0,1,1,-2.7386127875258306,0A2.7386127875258306,2.7386127875258306,0,1,1,2.7386127875258306,0\" stroke=\"rgb(203, 71, 121)\" stroke-width=\"2\" opacity=\"0.7\"/><path aria-label=\"lost_mean: 208.547; profit_mean: 16070.27862; s: 35\" role=\"graphics-symbol\" aria-roledescription=\"point\" transform=\"translate(189.58818181818182,92.86480919999998)\" d=\"M2.7386127875258306,0A2.7386127875258306,2.7386127875258306,0,1,1,-2.7386127875258306,0A2.7386127875258306,2.7386127875258306,0,1,1,2.7386127875258306,0\" stroke=\"rgb(203, 71, 121)\" stroke-width=\"2\" opacity=\"0.7\"/><path aria-label=\"lost_mean: 206.398; profit_mean: 16288.6313; s: 35\" role=\"graphics-symbol\" aria-roledescription=\"point\" transform=\"translate(187.63454545454545,91.40912466666664)\" d=\"M2.7386127875258306,0A2.7386127875258306,2.7386127875258306,0,1,1,-2.7386127875258306,0A2.7386127875258306,2.7386127875258306,0,1,1,2.7386127875258306,0\" stroke=\"rgb(203, 71, 121)\" stroke-width=\"2\" opacity=\"0.7\"/><path aria-label=\"lost_mean: 212.058; profit_mean: 16457.37432; s: 35\" role=\"graphics-symbol\" aria-roledescription=\"point\" transform=\"translate(192.78,90.28417120000003)\" d=\"M2.7386127875258306,0A2.7386127875258306,2.7386127875258306,0,1,1,-2.7386127875258306,0A2.7386127875258306,2.7386127875258306,0,1,1,2.7386127875258306,0\" stroke=\"rgb(203, 71, 121)\" stroke-width=\"2\" opacity=\"0.7\"/><path aria-label=\"lost_mean: 207.693; profit_mean: 16676.8434; s: 35\" role=\"graphics-symbol\" aria-roledescription=\"point\" transform=\"translate(188.8118181818182,88.82104399999994)\" d=\"M2.7386127875258306,0A2.7386127875258306,2.7386127875258306,0,1,1,-2.7386127875258306,0A2.7386127875258306,2.7386127875258306,0,1,1,2.7386127875258306,0\" stroke=\"rgb(203, 71, 121)\" stroke-width=\"2\" opacity=\"0.7\"/><path aria-label=\"lost_mean: 211.012; profit_mean: 16864.44662; s: 35\" role=\"graphics-symbol\" aria-roledescription=\"point\" transform=\"translate(191.8290909090909,87.57035586666662)\" d=\"M2.7386127875258306,0A2.7386127875258306,2.7386127875258306,0,1,1,-2.7386127875258306,0A2.7386127875258306,2.7386127875258306,0,1,1,2.7386127875258306,0\" stroke=\"rgb(203, 71, 121)\" stroke-width=\"2\" opacity=\"0.7\"/><path aria-label=\"lost_mean: 213.446; profit_mean: 17043.8411; s: 35\" role=\"graphics-symbol\" aria-roledescription=\"point\" transform=\"translate(194.04181818181817,86.3743926666667)\" d=\"M2.7386127875258306,0A2.7386127875258306,2.7386127875258306,0,1,1,-2.7386127875258306,0A2.7386127875258306,2.7386127875258306,0,1,1,2.7386127875258306,0\" stroke=\"rgb(203, 71, 121)\" stroke-width=\"2\" opacity=\"0.7\"/><path aria-label=\"lost_mean: 209.051; profit_mean: 17226.07372; s: 35\" role=\"graphics-symbol\" aria-roledescription=\"point\" transform=\"translate(190.04636363636362,85.15950853333334)\" d=\"M2.7386127875258306,0A2.7386127875258306,2.7386127875258306,0,1,1,-2.7386127875258306,0A2.7386127875258306,2.7386127875258306,0,1,1,2.7386127875258306,0\" stroke=\"rgb(203, 71, 121)\" stroke-width=\"2\" opacity=\"0.7\"/><path aria-label=\"lost_mean: 206.864; profit_mean: 17442.2809; s: 35\" role=\"graphics-symbol\" aria-roledescription=\"point\" transform=\"translate(188.05818181818182,83.7181273333334)\" d=\"M2.7386127875258306,0A2.7386127875258306,2.7386127875258306,0,1,1,-2.7386127875258306,0A2.7386127875258306,2.7386127875258306,0,1,1,2.7386127875258306,0\" stroke=\"rgb(203, 71, 121)\" stroke-width=\"2\" opacity=\"0.7\"/><path aria-label=\"lost_mean: 208.451; profit_mean: 17635.3631; s: 35\" role=\"graphics-symbol\" aria-roledescription=\"point\" transform=\"translate(189.5009090909091,82.43091266666664)\" d=\"M2.7386127875258306,0A2.7386127875258306,2.7386127875258306,0,1,1,-2.7386127875258306,0A2.7386127875258306,2.7386127875258306,0,1,1,2.7386127875258306,0\" stroke=\"rgb(203, 71, 121)\" stroke-width=\"2\" opacity=\"0.7\"/><path aria-label=\"lost_mean: 214.676; profit_mean: 17805.40598; s: 35\" role=\"graphics-symbol\" aria-roledescription=\"point\" transform=\"translate(195.15999999999997,81.2972934666667)\" d=\"M2.7386127875258306,0A2.7386127875258306,2.7386127875258306,0,1,1,-2.7386127875258306,0A2.7386127875258306,2.7386127875258306,0,1,1,2.7386127875258306,0\" stroke=\"rgb(203, 71, 121)\" stroke-width=\"2\" opacity=\"0.7\"/><path aria-label=\"lost_mean: 211.919; profit_mean: 17980.8028; s: 35\" role=\"graphics-symbol\" aria-roledescription=\"point\" transform=\"translate(192.65363636363637,80.1279813333333)\" d=\"M2.7386127875258306,0A2.7386127875258306,2.7386127875258306,0,1,1,-2.7386127875258306,0A2.7386127875258306,2.7386127875258306,0,1,1,2.7386127875258306,0\" stroke=\"rgb(203, 71, 121)\" stroke-width=\"2\" opacity=\"0.7\"/><path aria-label=\"lost_mean: 212.654; profit_mean: 18175.69566; s: 35\" role=\"graphics-symbol\" aria-roledescription=\"point\" transform=\"translate(193.32181818181817,78.8286956)\" d=\"M2.7386127875258306,0A2.7386127875258306,2.7386127875258306,0,1,1,-2.7386127875258306,0A2.7386127875258306,2.7386127875258306,0,1,1,2.7386127875258306,0\" stroke=\"rgb(203, 71, 121)\" stroke-width=\"2\" opacity=\"0.7\"/><path aria-label=\"lost_mean: 207.781; profit_mean: 18391.57364; s: 35\" role=\"graphics-symbol\" aria-roledescription=\"point\" transform=\"translate(188.8918181818182,77.38950906666666)\" d=\"M2.7386127875258306,0A2.7386127875258306,2.7386127875258306,0,1,1,-2.7386127875258306,0A2.7386127875258306,2.7386127875258306,0,1,1,2.7386127875258306,0\" stroke=\"rgb(203, 71, 121)\" stroke-width=\"2\" opacity=\"0.7\"/><path aria-label=\"lost_mean: 206.054; profit_mean: 18591.4539; s: 35\" role=\"graphics-symbol\" aria-roledescription=\"point\" transform=\"translate(187.3218181818182,76.05697399999995)\" d=\"M2.7386127875258306,0A2.7386127875258306,2.7386127875258306,0,1,1,-2.7386127875258306,0A2.7386127875258306,2.7386127875258306,0,1,1,2.7386127875258306,0\" stroke=\"rgb(203, 71, 121)\" stroke-width=\"2\" opacity=\"0.7\"/><path aria-label=\"lost_mean: 212.695; profit_mean: 18772.43476; s: 35\" role=\"graphics-symbol\" aria-roledescription=\"point\" transform=\"translate(193.35909090909092,74.85043493333336)\" d=\"M2.7386127875258306,0A2.7386127875258306,2.7386127875258306,0,1,1,-2.7386127875258306,0A2.7386127875258306,2.7386127875258306,0,1,1,2.7386127875258306,0\" stroke=\"rgb(203, 71, 121)\" stroke-width=\"2\" opacity=\"0.7\"/><path aria-label=\"lost_mean: 212.921; profit_mean: 18934.2434; s: 35\" role=\"graphics-symbol\" aria-roledescription=\"point\" transform=\"translate(193.56454545454545,73.7717106666667)\" d=\"M2.7386127875258306,0A2.7386127875258306,2.7386127875258306,0,1,1,-2.7386127875258306,0A2.7386127875258306,2.7386127875258306,0,1,1,2.7386127875258306,0\" stroke=\"rgb(203, 71, 121)\" stroke-width=\"2\" opacity=\"0.7\"/><path aria-label=\"lost_mean: 210.917; profit_mean: 19142.44146; s: 35\" role=\"graphics-symbol\" aria-roledescription=\"point\" transform=\"translate(191.74272727272728,72.38372359999997)\" d=\"M2.7386127875258306,0A2.7386127875258306,2.7386127875258306,0,1,1,-2.7386127875258306,0A2.7386127875258306,2.7386127875258306,0,1,1,2.7386127875258306,0\" stroke=\"rgb(203, 71, 121)\" stroke-width=\"2\" opacity=\"0.7\"/><path aria-label=\"lost_mean: 206.595; profit_mean: 19341.96402; s: 35\" role=\"graphics-symbol\" aria-roledescription=\"point\" transform=\"translate(187.81363636363636,71.05357319999996)\" d=\"M2.7386127875258306,0A2.7386127875258306,2.7386127875258306,0,1,1,-2.7386127875258306,0A2.7386127875258306,2.7386127875258306,0,1,1,2.7386127875258306,0\" stroke=\"rgb(203, 71, 121)\" stroke-width=\"2\" opacity=\"0.7\"/><path aria-label=\"lost_mean: 204.025; profit_mean: 19557.2468; s: 35\" role=\"graphics-symbol\" aria-roledescription=\"point\" transform=\"translate(185.47727272727272,69.61835466666668)\" d=\"M2.7386127875258306,0A2.7386127875258306,2.7386127875258306,0,1,1,-2.7386127875258306,0A2.7386127875258306,2.7386127875258306,0,1,1,2.7386127875258306,0\" stroke=\"rgb(203, 71, 121)\" stroke-width=\"2\" opacity=\"0.7\"/><path aria-label=\"lost_mean: 207.003; profit_mean: 19724.36112; s: 35\" role=\"graphics-symbol\" aria-roledescription=\"point\" transform=\"translate(188.18454545454543,68.50425919999996)\" d=\"M2.7386127875258306,0A2.7386127875258306,2.7386127875258306,0,1,1,-2.7386127875258306,0A2.7386127875258306,2.7386127875258306,0,1,1,2.7386127875258306,0\" stroke=\"rgb(203, 71, 121)\" stroke-width=\"2\" opacity=\"0.7\"/><path aria-label=\"lost_mean: 207.98; profit_mean: 19920.18078; s: 35\" role=\"graphics-symbol\" aria-roledescription=\"point\" transform=\"translate(189.07272727272726,67.1987948)\" d=\"M2.7386127875258306,0A2.7386127875258306,2.7386127875258306,0,1,1,-2.7386127875258306,0A2.7386127875258306,2.7386127875258306,0,1,1,2.7386127875258306,0\" stroke=\"rgb(203, 71, 121)\" stroke-width=\"2\" opacity=\"0.7\"/><path aria-label=\"lost_mean: 209.973; profit_mean: 20094.27466; s: 35\" role=\"graphics-symbol\" aria-roledescription=\"point\" transform=\"translate(190.88454545454547,66.03816893333332)\" d=\"M2.7386127875258306,0A2.7386127875258306,2.7386127875258306,0,1,1,-2.7386127875258306,0A2.7386127875258306,2.7386127875258306,0,1,1,2.7386127875258306,0\" stroke=\"rgb(203, 71, 121)\" stroke-width=\"2\" opacity=\"0.7\"/><path aria-label=\"lost_mean: 212.62; profit_mean: 20298.93554; s: 35\" role=\"graphics-symbol\" aria-roledescription=\"point\" transform=\"translate(193.29090909090908,64.67376306666668)\" d=\"M2.7386127875258306,0A2.7386127875258306,2.7386127875258306,0,1,1,-2.7386127875258306,0A2.7386127875258306,2.7386127875258306,0,1,1,2.7386127875258306,0\" stroke=\"rgb(203, 71, 121)\" stroke-width=\"2\" opacity=\"0.7\"/><path aria-label=\"lost_mean: 207.474; profit_mean: 20502.0881; s: 35\" role=\"graphics-symbol\" aria-roledescription=\"point\" transform=\"translate(188.61272727272726,63.31941266666667)\" d=\"M2.7386127875258306,0A2.7386127875258306,2.7386127875258306,0,1,1,-2.7386127875258306,0A2.7386127875258306,2.7386127875258306,0,1,1,2.7386127875258306,0\" stroke=\"rgb(203, 71, 121)\" stroke-width=\"2\" opacity=\"0.7\"/><path aria-label=\"lost_mean: 205.334; profit_mean: 20718.9726; s: 35\" role=\"graphics-symbol\" aria-roledescription=\"point\" transform=\"translate(186.66727272727272,61.873516000000016)\" d=\"M2.7386127875258306,0A2.7386127875258306,2.7386127875258306,0,1,1,-2.7386127875258306,0A2.7386127875258306,2.7386127875258306,0,1,1,2.7386127875258306,0\" stroke=\"rgb(203, 71, 121)\" stroke-width=\"2\" opacity=\"0.7\"/><path aria-label=\"lost_mean: 210.997; profit_mean: 20864.76466; s: 35\" role=\"graphics-symbol\" aria-roledescription=\"point\" transform=\"translate(191.81545454545457,60.90156893333334)\" d=\"M2.7386127875258306,0A2.7386127875258306,2.7386127875258306,0,1,1,-2.7386127875258306,0A2.7386127875258306,2.7386127875258306,0,1,1,2.7386127875258306,0\" stroke=\"rgb(203, 71, 121)\" stroke-width=\"2\" opacity=\"0.7\"/><path aria-label=\"lost_mean: 207.618; profit_mean: 21076.44308; s: 35\" role=\"graphics-symbol\" aria-roledescription=\"point\" transform=\"translate(188.74363636363637,59.49037946666671)\" d=\"M2.7386127875258306,0A2.7386127875258306,2.7386127875258306,0,1,1,-2.7386127875258306,0A2.7386127875258306,2.7386127875258306,0,1,1,2.7386127875258306,0\" stroke=\"rgb(203, 71, 121)\" stroke-width=\"2\" opacity=\"0.7\"/><path aria-label=\"lost_mean: 210.574; profit_mean: 21263.05814; s: 35\" role=\"graphics-symbol\" aria-roledescription=\"point\" transform=\"translate(191.4309090909091,58.24627906666669)\" d=\"M2.7386127875258306,0A2.7386127875258306,2.7386127875258306,0,1,1,-2.7386127875258306,0A2.7386127875258306,2.7386127875258306,0,1,1,2.7386127875258306,0\" stroke=\"rgb(203, 71, 121)\" stroke-width=\"2\" opacity=\"0.7\"/><path aria-label=\"lost_mean: 212.114; profit_mean: 21442.6243; s: 35\" role=\"graphics-symbol\" aria-roledescription=\"point\" transform=\"translate(192.8309090909091,57.04917133333338)\" d=\"M2.7386127875258306,0A2.7386127875258306,2.7386127875258306,0,1,1,-2.7386127875258306,0A2.7386127875258306,2.7386127875258306,0,1,1,2.7386127875258306,0\" stroke=\"rgb(203, 71, 121)\" stroke-width=\"2\" opacity=\"0.7\"/><path aria-label=\"lost_mean: 210.061; profit_mean: 21638.43258; s: 35\" role=\"graphics-symbol\" aria-roledescription=\"point\" transform=\"translate(190.96454545454546,55.743782800000055)\" d=\"M2.7386127875258306,0A2.7386127875258306,2.7386127875258306,0,1,1,-2.7386127875258306,0A2.7386127875258306,2.7386127875258306,0,1,1,2.7386127875258306,0\" stroke=\"rgb(203, 71, 121)\" stroke-width=\"2\" opacity=\"0.7\"/><path aria-label=\"lost_mean: 216.841; profit_mean: 21797.39776; s: 35\" role=\"graphics-symbol\" aria-roledescription=\"point\" transform=\"translate(197.12818181818184,54.68401493333328)\" d=\"M2.7386127875258306,0A2.7386127875258306,2.7386127875258306,0,1,1,-2.7386127875258306,0A2.7386127875258306,2.7386127875258306,0,1,1,2.7386127875258306,0\" stroke=\"rgb(203, 71, 121)\" stroke-width=\"2\" opacity=\"0.7\"/><path aria-label=\"lost_mean: 206.437; profit_mean: 22008.90072; s: 35\" role=\"graphics-symbol\" aria-roledescription=\"point\" transform=\"translate(187.67000000000002,53.27399520000002)\" d=\"M2.7386127875258306,0A2.7386127875258306,2.7386127875258306,0,1,1,-2.7386127875258306,0A2.7386127875258306,2.7386127875258306,0,1,1,2.7386127875258306,0\" stroke=\"rgb(203, 71, 121)\" stroke-width=\"2\" opacity=\"0.7\"/><path aria-label=\"lost_mean: 206.505; profit_mean: 22222.85146; s: 35\" role=\"graphics-symbol\" aria-roledescription=\"point\" transform=\"translate(187.7318181818182,51.847656933333376)\" d=\"M2.7386127875258306,0A2.7386127875258306,2.7386127875258306,0,1,1,-2.7386127875258306,0A2.7386127875258306,2.7386127875258306,0,1,1,2.7386127875258306,0\" stroke=\"rgb(203, 71, 121)\" stroke-width=\"2\" opacity=\"0.7\"/><path aria-label=\"lost_mean: 214.513; profit_mean: 22382.6923; s: 35\" role=\"graphics-symbol\" aria-roledescription=\"point\" transform=\"translate(195.0118181818182,50.78205133333324)\" d=\"M2.7386127875258306,0A2.7386127875258306,2.7386127875258306,0,1,1,-2.7386127875258306,0A2.7386127875258306,2.7386127875258306,0,1,1,2.7386127875258306,0\" stroke=\"rgb(203, 71, 121)\" stroke-width=\"2\" opacity=\"0.7\"/><path aria-label=\"lost_mean: 210.633; profit_mean: 22603.92198; s: 35\" role=\"graphics-symbol\" aria-roledescription=\"point\" transform=\"translate(191.48454545454547,49.30718680000001)\" d=\"M2.7386127875258306,0A2.7386127875258306,2.7386127875258306,0,1,1,-2.7386127875258306,0A2.7386127875258306,2.7386127875258306,0,1,1,2.7386127875258306,0\" stroke=\"rgb(203, 71, 121)\" stroke-width=\"2\" opacity=\"0.7\"/><path aria-label=\"lost_mean: 207.158; profit_mean: 22819.43056; s: 35\" role=\"graphics-symbol\" aria-roledescription=\"point\" transform=\"translate(188.32545454545453,47.87046293333332)\" d=\"M2.7386127875258306,0A2.7386127875258306,2.7386127875258306,0,1,1,-2.7386127875258306,0A2.7386127875258306,2.7386127875258306,0,1,1,2.7386127875258306,0\" stroke=\"rgb(203, 71, 121)\" stroke-width=\"2\" opacity=\"0.7\"/><path aria-label=\"lost_mean: 207.661; profit_mean: 22992.928; s: 35\" role=\"graphics-symbol\" aria-roledescription=\"point\" transform=\"translate(188.78272727272727,46.71381333333326)\" d=\"M2.7386127875258306,0A2.7386127875258306,2.7386127875258306,0,1,1,-2.7386127875258306,0A2.7386127875258306,2.7386127875258306,0,1,1,2.7386127875258306,0\" stroke=\"rgb(203, 71, 121)\" stroke-width=\"2\" opacity=\"0.7\"/><path aria-label=\"lost_mean: 214.584; profit_mean: 23157.09672; s: 35\" role=\"graphics-symbol\" aria-roledescription=\"point\" transform=\"translate(195.07636363636365,45.61935520000002)\" d=\"M2.7386127875258306,0A2.7386127875258306,2.7386127875258306,0,1,1,-2.7386127875258306,0A2.7386127875258306,2.7386127875258306,0,1,1,2.7386127875258306,0\" stroke=\"rgb(203, 71, 121)\" stroke-width=\"2\" opacity=\"0.7\"/><path aria-label=\"lost_mean: 212.61; profit_mean: 23372.4119; s: 35\" role=\"graphics-symbol\" aria-roledescription=\"point\" transform=\"translate(193.2818181818182,44.1839206666667)\" d=\"M2.7386127875258306,0A2.7386127875258306,2.7386127875258306,0,1,1,-2.7386127875258306,0A2.7386127875258306,2.7386127875258306,0,1,1,2.7386127875258306,0\" stroke=\"rgb(203, 71, 121)\" stroke-width=\"2\" opacity=\"0.7\"/><path aria-label=\"lost_mean: 214.898; profit_mean: 23511.57236; s: 35\" role=\"graphics-symbol\" aria-roledescription=\"point\" transform=\"translate(195.36181818181817,43.25618426666671)\" d=\"M2.7386127875258306,0A2.7386127875258306,2.7386127875258306,0,1,1,-2.7386127875258306,0A2.7386127875258306,2.7386127875258306,0,1,1,2.7386127875258306,0\" stroke=\"rgb(203, 71, 121)\" stroke-width=\"2\" opacity=\"0.7\"/><path aria-label=\"lost_mean: 204.557; profit_mean: 23753.85134; s: 35\" role=\"graphics-symbol\" aria-roledescription=\"point\" transform=\"translate(185.96090909090907,41.64099106666666)\" d=\"M2.7386127875258306,0A2.7386127875258306,2.7386127875258306,0,1,1,-2.7386127875258306,0A2.7386127875258306,2.7386127875258306,0,1,1,2.7386127875258306,0\" stroke=\"rgb(203, 71, 121)\" stroke-width=\"2\" opacity=\"0.7\"/><path aria-label=\"lost_mean: 212.922; profit_mean: 23931.33494; s: 35\" role=\"graphics-symbol\" aria-roledescription=\"point\" transform=\"translate(193.56545454545454,40.45776706666666)\" d=\"M2.7386127875258306,0A2.7386127875258306,2.7386127875258306,0,1,1,-2.7386127875258306,0A2.7386127875258306,2.7386127875258306,0,1,1,2.7386127875258306,0\" stroke=\"rgb(203, 71, 121)\" stroke-width=\"2\" opacity=\"0.7\"/><path aria-label=\"lost_mean: 204.658; profit_mean: 24133.4571; s: 35\" role=\"graphics-symbol\" aria-roledescription=\"point\" transform=\"translate(186.05272727272725,39.11028599999993)\" d=\"M2.7386127875258306,0A2.7386127875258306,2.7386127875258306,0,1,1,-2.7386127875258306,0A2.7386127875258306,2.7386127875258306,0,1,1,2.7386127875258306,0\" stroke=\"rgb(203, 71, 121)\" stroke-width=\"2\" opacity=\"0.7\"/><path aria-label=\"lost_mean: 208.909; profit_mean: 24313.5096; s: 35\" role=\"graphics-symbol\" aria-roledescription=\"point\" transform=\"translate(189.91727272727272,37.909935999999945)\" d=\"M2.7386127875258306,0A2.7386127875258306,2.7386127875258306,0,1,1,-2.7386127875258306,0A2.7386127875258306,2.7386127875258306,0,1,1,2.7386127875258306,0\" stroke=\"rgb(203, 71, 121)\" stroke-width=\"2\" opacity=\"0.7\"/><path aria-label=\"lost_mean: 210.338; profit_mean: 24513.23324; s: 35\" role=\"graphics-symbol\" aria-roledescription=\"point\" transform=\"translate(191.21636363636364,36.57844506666665)\" d=\"M2.7386127875258306,0A2.7386127875258306,2.7386127875258306,0,1,1,-2.7386127875258306,0A2.7386127875258306,2.7386127875258306,0,1,1,2.7386127875258306,0\" stroke=\"rgb(203, 71, 121)\" stroke-width=\"2\" opacity=\"0.7\"/><path aria-label=\"lost_mean: 205.362; profit_mean: 24723.71622; s: 35\" role=\"graphics-symbol\" aria-roledescription=\"point\" transform=\"translate(186.69272727272727,35.17522520000001)\" d=\"M2.7386127875258306,0A2.7386127875258306,2.7386127875258306,0,1,1,-2.7386127875258306,0A2.7386127875258306,2.7386127875258306,0,1,1,2.7386127875258306,0\" stroke=\"rgb(203, 71, 121)\" stroke-width=\"2\" opacity=\"0.7\"/><path aria-label=\"lost_mean: 209.068; profit_mean: 24893.25202; s: 35\" role=\"graphics-symbol\" aria-roledescription=\"point\" transform=\"translate(190.0618181818182,34.04498653333334)\" d=\"M2.7386127875258306,0A2.7386127875258306,2.7386127875258306,0,1,1,-2.7386127875258306,0A2.7386127875258306,2.7386127875258306,0,1,1,2.7386127875258306,0\" stroke=\"rgb(203, 71, 121)\" stroke-width=\"2\" opacity=\"0.7\"/><path aria-label=\"lost_mean: 203.513; profit_mean: 25072.48474; s: 35\" role=\"graphics-symbol\" aria-roledescription=\"point\" transform=\"translate(185.01181818181817,32.85010173333336)\" d=\"M2.7386127875258306,0A2.7386127875258306,2.7386127875258306,0,1,1,-2.7386127875258306,0A2.7386127875258306,2.7386127875258306,0,1,1,2.7386127875258306,0\" stroke=\"rgb(203, 71, 121)\" stroke-width=\"2\" opacity=\"0.7\"/><path aria-label=\"lost_mean: 209.582; profit_mean: 25304.866; s: 35\" role=\"graphics-symbol\" aria-roledescription=\"point\" transform=\"translate(190.52909090909088,31.300893333333278)\" d=\"M2.7386127875258306,0A2.7386127875258306,2.7386127875258306,0,1,1,-2.7386127875258306,0A2.7386127875258306,2.7386127875258306,0,1,1,2.7386127875258306,0\" stroke=\"rgb(203, 71, 121)\" stroke-width=\"2\" opacity=\"0.7\"/><path aria-label=\"lost_mean: 207.375; profit_mean: 25494.53104; s: 35\" role=\"graphics-symbol\" aria-roledescription=\"point\" transform=\"translate(188.52272727272728,30.036459733333352)\" d=\"M2.7386127875258306,0A2.7386127875258306,2.7386127875258306,0,1,1,-2.7386127875258306,0A2.7386127875258306,2.7386127875258306,0,1,1,2.7386127875258306,0\" stroke=\"rgb(203, 71, 121)\" stroke-width=\"2\" opacity=\"0.7\"/><path aria-label=\"lost_mean: 213.617; profit_mean: 25675.98876; s: 35\" role=\"graphics-symbol\" aria-roledescription=\"point\" transform=\"translate(194.19727272727272,28.826741599999917)\" d=\"M2.7386127875258306,0A2.7386127875258306,2.7386127875258306,0,1,1,-2.7386127875258306,0A2.7386127875258306,2.7386127875258306,0,1,1,2.7386127875258306,0\" stroke=\"rgb(203, 71, 121)\" stroke-width=\"2\" opacity=\"0.7\"/><path aria-label=\"lost_mean: 211.105; profit_mean: 25860.4314; s: 35\" role=\"graphics-symbol\" aria-roledescription=\"point\" transform=\"translate(191.91363636363636,27.597124000000118)\" d=\"M2.7386127875258306,0A2.7386127875258306,2.7386127875258306,0,1,1,-2.7386127875258306,0A2.7386127875258306,2.7386127875258306,0,1,1,2.7386127875258306,0\" stroke=\"rgb(203, 71, 121)\" stroke-width=\"2\" opacity=\"0.7\"/><path aria-label=\"lost_mean: 211.899; profit_mean: 26045.22736; s: 35\" role=\"graphics-symbol\" aria-roledescription=\"point\" transform=\"translate(192.63545454545454,26.365150933333247)\" d=\"M2.7386127875258306,0A2.7386127875258306,2.7386127875258306,0,1,1,-2.7386127875258306,0A2.7386127875258306,2.7386127875258306,0,1,1,2.7386127875258306,0\" stroke=\"rgb(203, 71, 121)\" stroke-width=\"2\" opacity=\"0.7\"/><path aria-label=\"lost_mean: 209.897; profit_mean: 26250.9622; s: 35\" role=\"graphics-symbol\" aria-roledescription=\"point\" transform=\"translate(190.81545454545454,24.993585333333378)\" d=\"M2.7386127875258306,0A2.7386127875258306,2.7386127875258306,0,1,1,-2.7386127875258306,0A2.7386127875258306,2.7386127875258306,0,1,1,2.7386127875258306,0\" stroke=\"rgb(203, 71, 121)\" stroke-width=\"2\" opacity=\"0.7\"/><path aria-label=\"lost_mean: 207.112; profit_mean: 26437.4921; s: 35\" role=\"graphics-symbol\" aria-roledescription=\"point\" transform=\"translate(188.28363636363636,23.750052666666697)\" d=\"M2.7386127875258306,0A2.7386127875258306,2.7386127875258306,0,1,1,-2.7386127875258306,0A2.7386127875258306,2.7386127875258306,0,1,1,2.7386127875258306,0\" stroke=\"rgb(203, 71, 121)\" stroke-width=\"2\" opacity=\"0.7\"/><path aria-label=\"lost_mean: 211.603; profit_mean: 26632.55074; s: 35\" role=\"graphics-symbol\" aria-roledescription=\"point\" transform=\"translate(192.36636363636364,22.449661733333315)\" d=\"M2.7386127875258306,0A2.7386127875258306,2.7386127875258306,0,1,1,-2.7386127875258306,0A2.7386127875258306,2.7386127875258306,0,1,1,2.7386127875258306,0\" stroke=\"rgb(203, 71, 121)\" stroke-width=\"2\" opacity=\"0.7\"/><path aria-label=\"lost_mean: 207.462; profit_mean: 26849.68822; s: 35\" role=\"graphics-symbol\" aria-roledescription=\"point\" transform=\"translate(188.60181818181817,21.002078533333403)\" d=\"M2.7386127875258306,0A2.7386127875258306,2.7386127875258306,0,1,1,-2.7386127875258306,0A2.7386127875258306,2.7386127875258306,0,1,1,2.7386127875258306,0\" stroke=\"rgb(203, 71, 121)\" stroke-width=\"2\" opacity=\"0.7\"/><path aria-label=\"lost_mean: 208.06; profit_mean: 26986.20152; s: 35\" role=\"graphics-symbol\" aria-roledescription=\"point\" transform=\"translate(189.14545454545456,20.091989866666626)\" d=\"M2.7386127875258306,0A2.7386127875258306,2.7386127875258306,0,1,1,-2.7386127875258306,0A2.7386127875258306,2.7386127875258306,0,1,1,2.7386127875258306,0\" stroke=\"rgb(203, 71, 121)\" stroke-width=\"2\" opacity=\"0.7\"/><path aria-label=\"lost_mean: 211.373; profit_mean: 27210.9626; s: 35\" role=\"graphics-symbol\" aria-roledescription=\"point\" transform=\"translate(192.15727272727273,18.593582666666663)\" d=\"M2.7386127875258306,0A2.7386127875258306,2.7386127875258306,0,1,1,-2.7386127875258306,0A2.7386127875258306,2.7386127875258306,0,1,1,2.7386127875258306,0\" stroke=\"rgb(203, 71, 121)\" stroke-width=\"2\" opacity=\"0.7\"/><path aria-label=\"lost_mean: 209.007; profit_mean: 27379.30342; s: 35\" role=\"graphics-symbol\" aria-roledescription=\"point\" transform=\"translate(190.00636363636366,17.47131053333333)\" d=\"M2.7386127875258306,0A2.7386127875258306,2.7386127875258306,0,1,1,-2.7386127875258306,0A2.7386127875258306,2.7386127875258306,0,1,1,2.7386127875258306,0\" stroke=\"rgb(203, 71, 121)\" stroke-width=\"2\" opacity=\"0.7\"/><path aria-label=\"lost_mean: 209.649; profit_mean: 27577.56424; s: 35\" role=\"graphics-symbol\" aria-roledescription=\"point\" transform=\"translate(190.59,16.149571733333268)\" d=\"M2.7386127875258306,0A2.7386127875258306,2.7386127875258306,0,1,1,-2.7386127875258306,0A2.7386127875258306,2.7386127875258306,0,1,1,2.7386127875258306,0\" stroke=\"rgb(203, 71, 121)\" stroke-width=\"2\" opacity=\"0.7\"/><path aria-label=\"lost_mean: 214.797; profit_mean: 27737.125; s: 35\" role=\"graphics-symbol\" aria-roledescription=\"point\" transform=\"translate(195.26999999999998,15.085833333333355)\" d=\"M2.7386127875258306,0A2.7386127875258306,2.7386127875258306,0,1,1,-2.7386127875258306,0A2.7386127875258306,2.7386127875258306,0,1,1,2.7386127875258306,0\" stroke=\"rgb(203, 71, 121)\" stroke-width=\"2\" opacity=\"0.7\"/><path aria-label=\"lost_mean: 206.251; profit_mean: 27960.0228; s: 35\" role=\"graphics-symbol\" aria-roledescription=\"point\" transform=\"translate(187.5009090909091,13.599847999999914)\" d=\"M2.7386127875258306,0A2.7386127875258306,2.7386127875258306,0,1,1,-2.7386127875258306,0A2.7386127875258306,2.7386127875258306,0,1,1,2.7386127875258306,0\" stroke=\"rgb(203, 71, 121)\" stroke-width=\"2\" opacity=\"0.7\"/><path aria-label=\"lost_mean: 210.033; profit_mean: 28142.1751; s: 35\" role=\"graphics-symbol\" aria-roledescription=\"point\" transform=\"translate(190.93909090909088,12.38549933333335)\" d=\"M2.7386127875258306,0A2.7386127875258306,2.7386127875258306,0,1,1,-2.7386127875258306,0A2.7386127875258306,2.7386127875258306,0,1,1,2.7386127875258306,0\" stroke=\"rgb(203, 71, 121)\" stroke-width=\"2\" opacity=\"0.7\"/><path aria-label=\"lost_mean: 212.303; profit_mean: 28348.16308; s: 35\" role=\"graphics-symbol\" aria-roledescription=\"point\" transform=\"translate(193.00272727272727,11.012246133333292)\" d=\"M2.7386127875258306,0A2.7386127875258306,2.7386127875258306,0,1,1,-2.7386127875258306,0A2.7386127875258306,2.7386127875258306,0,1,1,2.7386127875258306,0\" stroke=\"rgb(203, 71, 121)\" stroke-width=\"2\" opacity=\"0.7\"/><path aria-label=\"lost_mean: 213.015; profit_mean: 28522.19442; s: 35\" role=\"graphics-symbol\" aria-roledescription=\"point\" transform=\"translate(193.64999999999998,9.852037200000051)\" d=\"M2.7386127875258306,0A2.7386127875258306,2.7386127875258306,0,1,1,-2.7386127875258306,0A2.7386127875258306,2.7386127875258306,0,1,1,2.7386127875258306,0\" stroke=\"rgb(203, 71, 121)\" stroke-width=\"2\" opacity=\"0.7\"/><path aria-label=\"lost_mean: 211.821; profit_mean: 28751.30444; s: 35\" role=\"graphics-symbol\" aria-roledescription=\"point\" transform=\"translate(192.56454545454545,8.32463706666664)\" d=\"M2.7386127875258306,0A2.7386127875258306,2.7386127875258306,0,1,1,-2.7386127875258306,0A2.7386127875258306,2.7386127875258306,0,1,1,2.7386127875258306,0\" stroke=\"rgb(203, 71, 121)\" stroke-width=\"2\" opacity=\"0.7\"/><path aria-label=\"lost_mean: 214.842; profit_mean: 28915.40138; s: 35\" role=\"graphics-symbol\" aria-roledescription=\"point\" transform=\"translate(195.31090909090912,7.23065746666669)\" d=\"M2.7386127875258306,0A2.7386127875258306,2.7386127875258306,0,1,1,-2.7386127875258306,0A2.7386127875258306,2.7386127875258306,0,1,1,2.7386127875258306,0\" stroke=\"rgb(203, 71, 121)\" stroke-width=\"2\" opacity=\"0.7\"/><path aria-label=\"lost_mean: 210.381; profit_mean: 29121.0862; s: 35\" role=\"graphics-symbol\" aria-roledescription=\"point\" transform=\"translate(191.25545454545454,5.8594253333333235)\" d=\"M2.7386127875258306,0A2.7386127875258306,2.7386127875258306,0,1,1,-2.7386127875258306,0A2.7386127875258306,2.7386127875258306,0,1,1,2.7386127875258306,0\" stroke=\"rgb(203, 71, 121)\" stroke-width=\"2\" opacity=\"0.7\"/></g><g class=\"mark-group role-legend\" role=\"graphics-symbol\" aria-roledescription=\"legend\" aria-label=\"Gradient legend titled 's' for stroke color with values from 35 to 35\"><g transform=\"translate(218,0)\"><path class=\"background\" aria-hidden=\"true\" d=\"M0,0h30v216h-30Z\" pointer-events=\"none\"/><g><g class=\"mark-group role-legend-entry\"><g transform=\"translate(0,16)\"><path class=\"background\" aria-hidden=\"true\" d=\"M0,0h0v0h0Z\" pointer-events=\"none\"/><g><g class=\"mark-rect role-legend-gradient\" pointer-events=\"none\"><path d=\"M0,0h16v200h-16Z\" fill=\"url(#gradient_0)\" stroke=\"#ddd\" stroke-width=\"0\" opacity=\"0.7\"/></g><g class=\"mark-text role-legend-label\" pointer-events=\"none\"><text text-anchor=\"start\" transform=\"translate(18,103)\" font-family=\"sans-serif\" font-size=\"10px\" fill=\"#000\" opacity=\"1\">35</text></g></g><path class=\"foreground\" aria-hidden=\"true\" d=\"\" pointer-events=\"none\" display=\"none\"/></g></g><g class=\"mark-text role-legend-title\" pointer-events=\"none\"><text text-anchor=\"start\" transform=\"translate(0,9)\" font-family=\"sans-serif\" font-size=\"11px\" font-weight=\"bold\" fill=\"#000\" opacity=\"1\">s</text></g></g><path class=\"foreground\" aria-hidden=\"true\" d=\"\" pointer-events=\"none\" display=\"none\"/></g></g></g><path class=\"foreground\" aria-hidden=\"true\" d=\"\" display=\"none\"/></g></g></g><defs><linearGradient id=\"gradient_0\" x1=\"0\" x2=\"0\" y1=\"1\" y2=\"0\"><stop offset=\"0\" stop-color=\"rgb(13, 8, 135)\"/><stop offset=\"0.05\" stop-color=\"rgb(43, 6, 148)\"/><stop offset=\"0.1\" stop-color=\"rgb(66, 3, 157)\"/><stop offset=\"0.15\" stop-color=\"rgb(87, 2, 164)\"/><stop offset=\"0.2\" stop-color=\"rgb(106, 0, 168)\"/><stop offset=\"0.25\" stop-color=\"rgb(126, 3, 168)\"/><stop offset=\"0.3\" stop-color=\"rgb(144, 13, 164)\"/><stop offset=\"0.35\" stop-color=\"rgb(162, 28, 155)\"/><stop offset=\"0.4\" stop-color=\"rgb(177, 42, 144)\"/><stop offset=\"0.45\" stop-color=\"rgb(191, 57, 132)\"/><stop offset=\"0.5\" stop-color=\"rgb(203, 71, 121)\"/><stop offset=\"0.55\" stop-color=\"rgb(215, 86, 109)\"/><stop offset=\"0.6\" stop-color=\"rgb(225, 100, 98)\"/><stop offset=\"0.65\" stop-color=\"rgb(234, 116, 87)\"/><stop offset=\"0.7\" stop-color=\"rgb(242, 131, 76)\"/><stop offset=\"0.75\" stop-color=\"rgb(248, 149, 65)\"/><stop offset=\"0.8\" stop-color=\"rgb(252, 166, 54)\"/><stop offset=\"0.85\" stop-color=\"rgb(254, 186, 44)\"/><stop offset=\"0.9\" stop-color=\"rgb(252, 206, 37)\"/><stop offset=\"0.95\" stop-color=\"rgb(247, 227, 38)\"/><stop offset=\"1\" stop-color=\"rgb(240, 249, 33)\"/></linearGradient></defs></svg>\n"
      ],
      "text/plain": [
       "@vlplot(\n",
       "    mark=\"point\",\n",
       "    encoding={\n",
       "        x={\n",
       "            field=\"lost_mean\"\n",
       "        },\n",
       "        y={\n",
       "            field=\"profit_mean\"\n",
       "        },\n",
       "        color={\n",
       "            scale={\n",
       "                scheme=\"plasma\"\n",
       "            },\n",
       "            field=\"s\"\n",
       "        }\n",
       "    },\n",
       "    data={\n",
       "        values=...\n",
       "    }\n",
       ")"
      ]
     },
     "execution_count": 39,
     "metadata": {},
     "output_type": "execute_result"
    }
   ],
   "source": [
    "# w zaleznosci od wagi ktora kropka (lewy gorny rog) dla 1 wagi ta blizej lewej\n",
    "using VegaLite\n",
    "df |> @vlplot(:point, x=:lost_mean, y=:profit_mean, color={:s, scale={scheme=:plasma}})"
   ]
  },
  {
   "cell_type": "code",
   "execution_count": 40,
   "metadata": {},
   "outputs": [
    {
     "data": {
      "application/vnd.vegalite.v4+json": {
       "data": {
        "values": [
         {
          "N": 1000,
          "S": 230,
          "lost_mean": 209.203,
          "lost_std": 94.67962834223117,
          "m": 250,
          "p": 0,
          "profit_mean": 9951.182999999997,
          "profit_std": 287.8753016156131,
          "s": 35
         },
         {
          "N": 1000,
          "S": 230,
          "lost_mean": 204.686,
          "lost_std": 94.70490178666793,
          "m": 250,
          "p": 0.01,
          "profit_mean": 10150.79686,
          "profit_std": 294.5694377211931,
          "s": 35
         },
         {
          "N": 1000,
          "S": 230,
          "lost_mean": 212.174,
          "lost_std": 95.84513557825466,
          "m": 250,
          "p": 0.02,
          "profit_mean": 10335.136739999998,
          "profit_std": 291.757917757079,
          "s": 35
         },
         {
          "N": 1000,
          "S": 230,
          "lost_mean": 209.304,
          "lost_std": 98.43403295020906,
          "m": 250,
          "p": 0.03,
          "profit_mean": 10532.661240000001,
          "profit_std": 312.7849776480716,
          "s": 35
         },
         {
          "N": 1000,
          "S": 230,
          "lost_mean": 210.436,
          "lost_std": 94.4455921357576,
          "m": 250,
          "p": 0.04,
          "profit_mean": 10717.045340000002,
          "profit_std": 300.2750931666837,
          "s": 35
         },
         {
          "N": 1000,
          "S": 230,
          "lost_mean": 209.943,
          "lost_std": 95.88991932225007,
          "m": 250,
          "p": 0.05,
          "profit_mean": 10911.384599999996,
          "profit_std": 312.332194374007,
          "s": 35
         },
         {
          "N": 1000,
          "S": 230,
          "lost_mean": 211.403,
          "lost_std": 96.79979747805153,
          "m": 250,
          "p": 0.06,
          "profit_mean": 11086.432420000003,
          "profit_std": 317.7599218965588,
          "s": 35
         },
         {
          "N": 1000,
          "S": 230,
          "lost_mean": 212.381,
          "lost_std": 98.49925859082872,
          "m": 250,
          "p": 0.07,
          "profit_mean": 11275.142600000001,
          "profit_std": 323.31495962599394,
          "s": 35
         },
         {
          "N": 1000,
          "S": 230,
          "lost_mean": 205.078,
          "lost_std": 99.55121476084739,
          "m": 250,
          "p": 0.08,
          "profit_mean": 11492.73186,
          "profit_std": 320.62758795134243,
          "s": 35
         },
         {
          "N": 1000,
          "S": 230,
          "lost_mean": 208.672,
          "lost_std": 95.93979810725507,
          "m": 250,
          "p": 0.09,
          "profit_mean": 11685.381899999998,
          "profit_std": 326.71427975248366,
          "s": 35
         },
         {
          "N": 1000,
          "S": 230,
          "lost_mean": 213.137,
          "lost_std": 99.85490089240605,
          "m": 250,
          "p": 0.1,
          "profit_mean": 11851.555,
          "profit_std": 341.76943353772964,
          "s": 35
         },
         {
          "N": 1000,
          "S": 230,
          "lost_mean": 209.323,
          "lost_std": 95.95015947930521,
          "m": 250,
          "p": 0.11,
          "profit_mean": 12052.02818,
          "profit_std": 335.7474905468336,
          "s": 35
         },
         {
          "N": 1000,
          "S": 230,
          "lost_mean": 211.184,
          "lost_std": 93.08298763247014,
          "m": 250,
          "p": 0.12,
          "profit_mean": 12247.288040000003,
          "profit_std": 338.43354696286883,
          "s": 35
         },
         {
          "N": 1000,
          "S": 230,
          "lost_mean": 207.645,
          "lost_std": 95.03839893575791,
          "m": 250,
          "p": 0.13,
          "profit_mean": 12442.448179999996,
          "profit_std": 353.82065867327685,
          "s": 35
         },
         {
          "N": 1000,
          "S": 230,
          "lost_mean": 211.245,
          "lost_std": 96.74845341522642,
          "m": 250,
          "p": 0.14,
          "profit_mean": 12636.472619999999,
          "profit_std": 347.1972056511219,
          "s": 35
         },
         {
          "N": 1000,
          "S": 230,
          "lost_mean": 204.311,
          "lost_std": 96.08633025494241,
          "m": 250,
          "p": 0.15,
          "profit_mean": 12834.318100000002,
          "profit_std": 341.085610068478,
          "s": 35
         },
         {
          "N": 1000,
          "S": 230,
          "lost_mean": 212.598,
          "lost_std": 96.64052870192602,
          "m": 250,
          "p": 0.16,
          "profit_mean": 13015.817939999997,
          "profit_std": 362.66969529537784,
          "s": 35
         },
         {
          "N": 1000,
          "S": 230,
          "lost_mean": 209.28,
          "lost_std": 95.16680261688063,
          "m": 250,
          "p": 0.17,
          "profit_mean": 13212.403299999996,
          "profit_std": 356.7423999726527,
          "s": 35
         },
         {
          "N": 1000,
          "S": 230,
          "lost_mean": 208.769,
          "lost_std": 93.3077594682081,
          "m": 250,
          "p": 0.18,
          "profit_mean": 13408.679979999995,
          "profit_std": 367.71799408183864,
          "s": 35
         },
         {
          "N": 1000,
          "S": 230,
          "lost_mean": 204.466,
          "lost_std": 98.91951230123362,
          "m": 250,
          "p": 0.19,
          "profit_mean": 13600.674579999999,
          "profit_std": 368.81220843583105,
          "s": 35
         },
         {
          "N": 1000,
          "S": 230,
          "lost_mean": 204.002,
          "lost_std": 92.93320491932137,
          "m": 250,
          "p": 0.2,
          "profit_mean": 13797.083299999997,
          "profit_std": 371.8217251942609,
          "s": 35
         },
         {
          "N": 1000,
          "S": 230,
          "lost_mean": 213.745,
          "lost_std": 97.71497424239126,
          "m": 250,
          "p": 0.21,
          "profit_mean": 13968.720440000003,
          "profit_std": 378.86779502659584,
          "s": 35
         },
         {
          "N": 1000,
          "S": 230,
          "lost_mean": 207.038,
          "lost_std": 98.35704684802542,
          "m": 250,
          "p": 0.22,
          "profit_mean": 14168.449540000007,
          "profit_std": 379.0086890758353,
          "s": 35
         },
         {
          "N": 1000,
          "S": 230,
          "lost_mean": 206.546,
          "lost_std": 94.84908134627467,
          "m": 250,
          "p": 0.23,
          "profit_mean": 14381.039180000003,
          "profit_std": 384.2001878928543,
          "s": 35
         },
         {
          "N": 1000,
          "S": 230,
          "lost_mean": 206.788,
          "lost_std": 95.29819936810351,
          "m": 250,
          "p": 0.24,
          "profit_mean": 14558.0107,
          "profit_std": 392.1245185171825,
          "s": 35
         },
         {
          "N": 1000,
          "S": 230,
          "lost_mean": 212.219,
          "lost_std": 101.92394973964919,
          "m": 250,
          "p": 0.25,
          "profit_mean": 14739.464899999997,
          "profit_std": 398.2037534318795,
          "s": 35
         },
         {
          "N": 1000,
          "S": 230,
          "lost_mean": 208.471,
          "lost_std": 95.66445969035652,
          "m": 250,
          "p": 0.26,
          "profit_mean": 14923.84748,
          "profit_std": 401.07982078120983,
          "s": 35
         },
         {
          "N": 1000,
          "S": 230,
          "lost_mean": 210.839,
          "lost_std": 93.47682598374848,
          "m": 250,
          "p": 0.27,
          "profit_mean": 15127.723460000003,
          "profit_std": 398.68410088179377,
          "s": 35
         },
         {
          "N": 1000,
          "S": 230,
          "lost_mean": 211.479,
          "lost_std": 100.72313889921078,
          "m": 250,
          "p": 0.28,
          "profit_mean": 15317.681020000004,
          "profit_std": 425.8404148766319,
          "s": 35
         },
         {
          "N": 1000,
          "S": 230,
          "lost_mean": 206.755,
          "lost_std": 98.61411521034256,
          "m": 250,
          "p": 0.29,
          "profit_mean": 15516.495879999997,
          "profit_std": 419.14158762678744,
          "s": 35
         },
         {
          "N": 1000,
          "S": 230,
          "lost_mean": 209.136,
          "lost_std": 99.70900355228403,
          "m": 250,
          "p": 0.3,
          "profit_mean": 15721.332399999998,
          "profit_std": 433.1722118226602,
          "s": 35
         },
         {
          "N": 1000,
          "S": 230,
          "lost_mean": 203.336,
          "lost_std": 95.03585069286704,
          "m": 250,
          "p": 0.31,
          "profit_mean": 15910.764480000003,
          "profit_std": 412.75039851828893,
          "s": 35
         },
         {
          "N": 1000,
          "S": 230,
          "lost_mean": 208.547,
          "lost_std": 95.27964106251136,
          "m": 250,
          "p": 0.32,
          "profit_mean": 16070.278620000003,
          "profit_std": 428.84033471208306,
          "s": 35
         },
         {
          "N": 1000,
          "S": 230,
          "lost_mean": 206.398,
          "lost_std": 95.53006641675485,
          "m": 250,
          "p": 0.33,
          "profit_mean": 16288.631300000003,
          "profit_std": 422.48867176017353,
          "s": 35
         },
         {
          "N": 1000,
          "S": 230,
          "lost_mean": 212.058,
          "lost_std": 96.74174694309382,
          "m": 250,
          "p": 0.34,
          "profit_mean": 16457.374319999995,
          "profit_std": 456.15330292995964,
          "s": 35
         },
         {
          "N": 1000,
          "S": 230,
          "lost_mean": 207.693,
          "lost_std": 94.81148648222413,
          "m": 250,
          "p": 0.35,
          "profit_mean": 16676.84340000001,
          "profit_std": 431.63798257850806,
          "s": 35
         },
         {
          "N": 1000,
          "S": 230,
          "lost_mean": 211.012,
          "lost_std": 102.60485179372178,
          "m": 250,
          "p": 0.36,
          "profit_mean": 16864.446620000006,
          "profit_std": 457.6404269154147,
          "s": 35
         },
         {
          "N": 1000,
          "S": 230,
          "lost_mean": 213.446,
          "lost_std": 100.22171159721569,
          "m": 250,
          "p": 0.37,
          "profit_mean": 17043.841099999998,
          "profit_std": 472.21917366151456,
          "s": 35
         },
         {
          "N": 1000,
          "S": 230,
          "lost_mean": 209.051,
          "lost_std": 96.21301025507071,
          "m": 250,
          "p": 0.38,
          "profit_mean": 17226.07372,
          "profit_std": 447.90966805651806,
          "s": 35
         },
         {
          "N": 1000,
          "S": 230,
          "lost_mean": 206.864,
          "lost_std": 99.9160183089514,
          "m": 250,
          "p": 0.39,
          "profit_mean": 17442.28089999999,
          "profit_std": 472.5728699299017,
          "s": 35
         },
         {
          "N": 1000,
          "S": 230,
          "lost_mean": 208.451,
          "lost_std": 95.44429376454212,
          "m": 250,
          "p": 0.4,
          "profit_mean": 17635.363100000002,
          "profit_std": 464.3338872053137,
          "s": 35
         },
         {
          "N": 1000,
          "S": 230,
          "lost_mean": 214.676,
          "lost_std": 98.97607431741919,
          "m": 250,
          "p": 0.41,
          "profit_mean": 17805.405979999996,
          "profit_std": 454.10976192603044,
          "s": 35
         },
         {
          "N": 1000,
          "S": 230,
          "lost_mean": 211.919,
          "lost_std": 99.67186624077989,
          "m": 250,
          "p": 0.42,
          "profit_mean": 17980.802800000005,
          "profit_std": 479.10536914096406,
          "s": 35
         },
         {
          "N": 1000,
          "S": 230,
          "lost_mean": 212.654,
          "lost_std": 97.7412688665317,
          "m": 250,
          "p": 0.43,
          "profit_mean": 18175.695659999998,
          "profit_std": 465.51663213031924,
          "s": 35
         },
         {
          "N": 1000,
          "S": 230,
          "lost_mean": 207.781,
          "lost_std": 95.11077277626389,
          "m": 250,
          "p": 0.44,
          "profit_mean": 18391.573640000002,
          "profit_std": 474.22508687475835,
          "s": 35
         },
         {
          "N": 1000,
          "S": 230,
          "lost_mean": 206.054,
          "lost_std": 94.75562100325085,
          "m": 250,
          "p": 0.45,
          "profit_mean": 18591.453900000008,
          "profit_std": 494.76625773650386,
          "s": 35
         },
         {
          "N": 1000,
          "S": 230,
          "lost_mean": 212.695,
          "lost_std": 94.27700742561322,
          "m": 250,
          "p": 0.46,
          "profit_mean": 18772.434759999996,
          "profit_std": 482.9532887205851,
          "s": 35
         },
         {
          "N": 1000,
          "S": 230,
          "lost_mean": 212.921,
          "lost_std": 98.57663065408104,
          "m": 250,
          "p": 0.47,
          "profit_mean": 18934.243399999996,
          "profit_std": 505.603153522297,
          "s": 35
         },
         {
          "N": 1000,
          "S": 230,
          "lost_mean": 210.917,
          "lost_std": 94.74988998754908,
          "m": 250,
          "p": 0.48,
          "profit_mean": 19142.441460000005,
          "profit_std": 483.3864734128865,
          "s": 35
         },
         {
          "N": 1000,
          "S": 230,
          "lost_mean": 206.595,
          "lost_std": 94.63100973255544,
          "m": 250,
          "p": 0.49,
          "profit_mean": 19341.964020000007,
          "profit_std": 487.6584922304586,
          "s": 35
         },
         {
          "N": 1000,
          "S": 230,
          "lost_mean": 204.025,
          "lost_std": 93.54120125020492,
          "m": 250,
          "p": 0.5,
          "profit_mean": 19557.246799999997,
          "profit_std": 498.8584293186419,
          "s": 35
         },
         {
          "N": 1000,
          "S": 230,
          "lost_mean": 207.003,
          "lost_std": 96.1169780239915,
          "m": 250,
          "p": 0.51,
          "profit_mean": 19724.361120000005,
          "profit_std": 502.1554196328188,
          "s": 35
         },
         {
          "N": 1000,
          "S": 230,
          "lost_mean": 207.98,
          "lost_std": 93.34242555455909,
          "m": 250,
          "p": 0.52,
          "profit_mean": 19920.180780000002,
          "profit_std": 510.7580386384781,
          "s": 35
         },
         {
          "N": 1000,
          "S": 230,
          "lost_mean": 209.973,
          "lost_std": 97.44822434209577,
          "m": 250,
          "p": 0.53,
          "profit_mean": 20094.274660000003,
          "profit_std": 540.5160838828202,
          "s": 35
         },
         {
          "N": 1000,
          "S": 230,
          "lost_mean": 212.62,
          "lost_std": 102.59550398256951,
          "m": 250,
          "p": 0.54,
          "profit_mean": 20298.93554,
          "profit_std": 546.127328599799,
          "s": 35
         },
         {
          "N": 1000,
          "S": 230,
          "lost_mean": 207.474,
          "lost_std": 95.08331168065276,
          "m": 250,
          "p": 0.55,
          "profit_mean": 20502.088099999997,
          "profit_std": 511.3977433468886,
          "s": 35
         },
         {
          "N": 1000,
          "S": 230,
          "lost_mean": 205.334,
          "lost_std": 91.45223866016597,
          "m": 250,
          "p": 0.56,
          "profit_mean": 20718.972599999997,
          "profit_std": 528.7247023903439,
          "s": 35
         },
         {
          "N": 1000,
          "S": 230,
          "lost_mean": 210.997,
          "lost_std": 95.46601883262838,
          "m": 250,
          "p": 0.57,
          "profit_mean": 20864.76466,
          "profit_std": 536.8129883689157,
          "s": 35
         },
         {
          "N": 1000,
          "S": 230,
          "lost_mean": 207.618,
          "lost_std": 92.92263821423008,
          "m": 250,
          "p": 0.58,
          "profit_mean": 21076.443079999994,
          "profit_std": 540.123563474075,
          "s": 35
         },
         {
          "N": 1000,
          "S": 230,
          "lost_mean": 210.574,
          "lost_std": 93.73469323957227,
          "m": 250,
          "p": 0.59,
          "profit_mean": 21263.058139999997,
          "profit_std": 544.0582580234066,
          "s": 35
         },
         {
          "N": 1000,
          "S": 230,
          "lost_mean": 212.114,
          "lost_std": 97.74161051684396,
          "m": 250,
          "p": 0.6,
          "profit_mean": 21442.624299999992,
          "profit_std": 555.9103393217965,
          "s": 35
         },
         {
          "N": 1000,
          "S": 230,
          "lost_mean": 210.061,
          "lost_std": 93.1368979554331,
          "m": 250,
          "p": 0.61,
          "profit_mean": 21638.432579999993,
          "profit_std": 517.9774961844357,
          "s": 35
         },
         {
          "N": 1000,
          "S": 230,
          "lost_mean": 216.841,
          "lost_std": 101.01023109460637,
          "m": 250,
          "p": 0.62,
          "profit_mean": 21797.397760000007,
          "profit_std": 579.5856567290713,
          "s": 35
         },
         {
          "N": 1000,
          "S": 230,
          "lost_mean": 206.437,
          "lost_std": 93.55756007960046,
          "m": 250,
          "p": 0.63,
          "profit_mean": 22008.900719999998,
          "profit_std": 563.3918774123536,
          "s": 35
         },
         {
          "N": 1000,
          "S": 230,
          "lost_mean": 206.505,
          "lost_std": 93.30579803499323,
          "m": 250,
          "p": 0.64,
          "profit_mean": 22222.851459999994,
          "profit_std": 549.9755154570709,
          "s": 35
         },
         {
          "N": 1000,
          "S": 230,
          "lost_mean": 214.513,
          "lost_std": 97.19418985485468,
          "m": 250,
          "p": 0.65,
          "profit_mean": 22382.692300000013,
          "profit_std": 579.938849707545,
          "s": 35
         },
         {
          "N": 1000,
          "S": 230,
          "lost_mean": 210.633,
          "lost_std": 94.85728340625835,
          "m": 250,
          "p": 0.66,
          "profit_mean": 22603.92198,
          "profit_std": 566.5442801132216,
          "s": 35
         },
         {
          "N": 1000,
          "S": 230,
          "lost_mean": 207.158,
          "lost_std": 91.72355338868115,
          "m": 250,
          "p": 0.67,
          "profit_mean": 22819.43056,
          "profit_std": 593.9904255138199,
          "s": 35
         },
         {
          "N": 1000,
          "S": 230,
          "lost_mean": 207.661,
          "lost_std": 98.76266573530276,
          "m": 250,
          "p": 0.68,
          "profit_mean": 22992.92800000001,
          "profit_std": 591.1917794137928,
          "s": 35
         },
         {
          "N": 1000,
          "S": 230,
          "lost_mean": 214.584,
          "lost_std": 96.77512267296989,
          "m": 250,
          "p": 0.69,
          "profit_mean": 23157.096719999998,
          "profit_std": 585.7499433941312,
          "s": 35
         },
         {
          "N": 1000,
          "S": 230,
          "lost_mean": 212.61,
          "lost_std": 98.90855778345373,
          "m": 250,
          "p": 0.7,
          "profit_mean": 23372.411899999996,
          "profit_std": 620.6134443562319,
          "s": 35
         },
         {
          "N": 1000,
          "S": 230,
          "lost_mean": 214.898,
          "lost_std": 98.96501235118232,
          "m": 250,
          "p": 0.71,
          "profit_mean": 23511.572359999995,
          "profit_std": 624.6370382319334,
          "s": 35
         },
         {
          "N": 1000,
          "S": 230,
          "lost_mean": 204.557,
          "lost_std": 94.52350736427655,
          "m": 250,
          "p": 0.72,
          "profit_mean": 23753.85134,
          "profit_std": 611.8187390091994,
          "s": 35
         },
         {
          "N": 1000,
          "S": 230,
          "lost_mean": 212.922,
          "lost_std": 98.32301526769474,
          "m": 250,
          "p": 0.73,
          "profit_mean": 23931.33494,
          "profit_std": 648.6723151009104,
          "s": 35
         },
         {
          "N": 1000,
          "S": 230,
          "lost_mean": 204.658,
          "lost_std": 97.43681526491393,
          "m": 250,
          "p": 0.74,
          "profit_mean": 24133.45710000001,
          "profit_std": 593.7001171031033,
          "s": 35
         },
         {
          "N": 1000,
          "S": 230,
          "lost_mean": 208.909,
          "lost_std": 96.83343137797209,
          "m": 250,
          "p": 0.75,
          "profit_mean": 24313.50960000001,
          "profit_std": 619.702039811058,
          "s": 35
         },
         {
          "N": 1000,
          "S": 230,
          "lost_mean": 210.338,
          "lost_std": 95.29613375740439,
          "m": 250,
          "p": 0.76,
          "profit_mean": 24513.23324,
          "profit_std": 616.363198883289,
          "s": 35
         },
         {
          "N": 1000,
          "S": 230,
          "lost_mean": 205.362,
          "lost_std": 90.91849717812723,
          "m": 250,
          "p": 0.77,
          "profit_mean": 24723.71622,
          "profit_std": 628.9877455249283,
          "s": 35
         },
         {
          "N": 1000,
          "S": 230,
          "lost_mean": 209.068,
          "lost_std": 97.32068995179131,
          "m": 250,
          "p": 0.78,
          "profit_mean": 24893.25202,
          "profit_std": 648.2650890819608,
          "s": 35
         },
         {
          "N": 1000,
          "S": 230,
          "lost_mean": 203.513,
          "lost_std": 90.22127082184505,
          "m": 250,
          "p": 0.79,
          "profit_mean": 25072.484739999996,
          "profit_std": 636.4735424755717,
          "s": 35
         },
         {
          "N": 1000,
          "S": 230,
          "lost_mean": 209.582,
          "lost_std": 94.83733123298755,
          "m": 250,
          "p": 0.8,
          "profit_mean": 25304.86600000001,
          "profit_std": 660.0920988793936,
          "s": 35
         },
         {
          "N": 1000,
          "S": 230,
          "lost_mean": 207.375,
          "lost_std": 96.3675935576275,
          "m": 250,
          "p": 0.81,
          "profit_mean": 25494.531039999998,
          "profit_std": 627.2142325537873,
          "s": 35
         },
         {
          "N": 1000,
          "S": 230,
          "lost_mean": 213.617,
          "lost_std": 97.5458738671632,
          "m": 250,
          "p": 0.82,
          "profit_mean": 25675.98876000001,
          "profit_std": 666.9850740574919,
          "s": 35
         },
         {
          "N": 1000,
          "S": 230,
          "lost_mean": 211.105,
          "lost_std": 99.8997193636145,
          "m": 250,
          "p": 0.83,
          "profit_mean": 25860.431399999983,
          "profit_std": 674.0373157719777,
          "s": 35
         },
         {
          "N": 1000,
          "S": 230,
          "lost_mean": 211.899,
          "lost_std": 97.92390867858009,
          "m": 250,
          "p": 0.84,
          "profit_mean": 26045.22736000001,
          "profit_std": 663.5388854696918,
          "s": 35
         },
         {
          "N": 1000,
          "S": 230,
          "lost_mean": 209.897,
          "lost_std": 98.65942465407485,
          "m": 250,
          "p": 0.85,
          "profit_mean": 26250.962199999994,
          "profit_std": 650.526442570664,
          "s": 35
         },
         {
          "N": 1000,
          "S": 230,
          "lost_mean": 207.112,
          "lost_std": 96.58690639256693,
          "m": 250,
          "p": 0.86,
          "profit_mean": 26437.492099999996,
          "profit_std": 682.4361890724621,
          "s": 35
         },
         {
          "N": 1000,
          "S": 230,
          "lost_mean": 211.603,
          "lost_std": 95.35846384892969,
          "m": 250,
          "p": 0.87,
          "profit_mean": 26632.550740000002,
          "profit_std": 676.7963529005984,
          "s": 35
         },
         {
          "N": 1000,
          "S": 230,
          "lost_mean": 207.462,
          "lost_std": 95.76070524316674,
          "m": 250,
          "p": 0.88,
          "profit_mean": 26849.68821999999,
          "profit_std": 692.1884104366197,
          "s": 35
         },
         {
          "N": 1000,
          "S": 230,
          "lost_mean": 208.06,
          "lost_std": 98.8250413042605,
          "m": 250,
          "p": 0.89,
          "profit_mean": 26986.201520000006,
          "profit_std": 702.3708544793925,
          "s": 35
         },
         {
          "N": 1000,
          "S": 230,
          "lost_mean": 211.373,
          "lost_std": 96.96223773483439,
          "m": 250,
          "p": 0.9,
          "profit_mean": 27210.9626,
          "profit_std": 702.4283672605853,
          "s": 35
         },
         {
          "N": 1000,
          "S": 230,
          "lost_mean": 209.007,
          "lost_std": 96.73668868603026,
          "m": 250,
          "p": 0.91,
          "profit_mean": 27379.30342,
          "profit_std": 689.0751682615023,
          "s": 35
         },
         {
          "N": 1000,
          "S": 230,
          "lost_mean": 209.649,
          "lost_std": 92.24961675145751,
          "m": 250,
          "p": 0.92,
          "profit_mean": 27577.56424000001,
          "profit_std": 681.3460410123668,
          "s": 35
         },
         {
          "N": 1000,
          "S": 230,
          "lost_mean": 214.797,
          "lost_std": 100.21870873534832,
          "m": 250,
          "p": 0.93,
          "profit_mean": 27737.124999999996,
          "profit_std": 703.7485483346184,
          "s": 35
         },
         {
          "N": 1000,
          "S": 230,
          "lost_mean": 206.251,
          "lost_std": 93.58797309327575,
          "m": 250,
          "p": 0.94,
          "profit_mean": 27960.022800000013,
          "profit_std": 707.9608612478647,
          "s": 35
         },
         {
          "N": 1000,
          "S": 230,
          "lost_mean": 210.033,
          "lost_std": 97.35865970533705,
          "m": 250,
          "p": 0.95,
          "profit_mean": 28142.175099999997,
          "profit_std": 712.9853927678254,
          "s": 35
         },
         {
          "N": 1000,
          "S": 230,
          "lost_mean": 212.303,
          "lost_std": 97.5807213961251,
          "m": 250,
          "p": 0.96,
          "profit_mean": 28348.163080000006,
          "profit_std": 703.2032069306503,
          "s": 35
         },
         {
          "N": 1000,
          "S": 230,
          "lost_mean": 213.015,
          "lost_std": 98.13458703317689,
          "m": 250,
          "p": 0.97,
          "profit_mean": 28522.194419999993,
          "profit_std": 724.0322973011627,
          "s": 35
         },
         {
          "N": 1000,
          "S": 230,
          "lost_mean": 211.821,
          "lost_std": 98.45413234179244,
          "m": 250,
          "p": 0.98,
          "profit_mean": 28751.304440000004,
          "profit_std": 734.9215044661662,
          "s": 35
         },
         {
          "N": 1000,
          "S": 230,
          "lost_mean": 214.842,
          "lost_std": 94.99076945831251,
          "m": 250,
          "p": 0.99,
          "profit_mean": 28915.401379999996,
          "profit_std": 727.9481146676212,
          "s": 35
         },
         {
          "N": 1000,
          "S": 230,
          "lost_mean": 210.381,
          "lost_std": 96.49985523854978,
          "m": 250,
          "p": 1,
          "profit_mean": 29121.0862,
          "profit_std": 745.1793722496523,
          "s": 35
         }
        ]
       },
       "encoding": {
        "color": {
         "field": "S",
         "scale": {
          "scheme": "plasma"
         },
         "type": "quantitative"
        },
        "x": {
         "field": "lost_mean",
         "type": "quantitative"
        },
        "y": {
         "field": "profit_mean",
         "type": "quantitative"
        }
       },
       "mark": "point"
      },
      "image/png": "[encoded data removed]",
      "image/svg+xml": [
       "<?xml version=\"1.0\" encoding=\"utf-8\"?>\n",
       "<!DOCTYPE svg PUBLIC \"-//W3C//DTD SVG 1.1//EN\" \"http://www.w3.org/Graphics/SVG/1.1/DTD/svg11.dtd\">\n",
       "<svg xmlns=\"http://www.w3.org/2000/svg\" xmlns:xlink=\"http://www.w3.org/1999/xlink\" version=\"1.1\" class=\"marks\" width=\"319\" height=\"247\" viewBox=\"0 0 319 247\"><rect width=\"319\" height=\"247\" fill=\"white\"/><g fill=\"none\" stroke-miterlimit=\"10\" transform=\"translate(60,10)\"><g class=\"mark-group role-frame root\" role=\"graphics-object\" aria-roledescription=\"group mark container\"><g transform=\"translate(0,0)\"><path class=\"background\" aria-hidden=\"true\" d=\"M0.5,0.5h200v200h-200Z\" stroke=\"#ddd\"/><g><g class=\"mark-group role-axis\" aria-hidden=\"true\"><g transform=\"translate(0.5,200.5)\"><path class=\"background\" aria-hidden=\"true\" d=\"M0,0h0v0h0Z\" pointer-events=\"none\"/><g><g class=\"mark-rule role-axis-grid\" pointer-events=\"none\"><line transform=\"translate(0,-200)\" x2=\"0\" y2=\"200\" stroke=\"#ddd\" stroke-width=\"1\" opacity=\"1\"/><line transform=\"translate(45,-200)\" x2=\"0\" y2=\"200\" stroke=\"#ddd\" stroke-width=\"1\" opacity=\"1\"/><line transform=\"translate(91,-200)\" x2=\"0\" y2=\"200\" stroke=\"#ddd\" stroke-width=\"1\" opacity=\"1\"/><line transform=\"translate(136,-200)\" x2=\"0\" y2=\"200\" stroke=\"#ddd\" stroke-width=\"1\" opacity=\"1\"/><line transform=\"translate(182,-200)\" x2=\"0\" y2=\"200\" stroke=\"#ddd\" stroke-width=\"1\" opacity=\"1\"/></g></g><path class=\"foreground\" aria-hidden=\"true\" d=\"\" pointer-events=\"none\" display=\"none\"/></g></g><g class=\"mark-group role-axis\" aria-hidden=\"true\"><g transform=\"translate(0.5,0.5)\"><path class=\"background\" aria-hidden=\"true\" d=\"M0,0h0v0h0Z\" pointer-events=\"none\"/><g><g class=\"mark-rule role-axis-grid\" pointer-events=\"none\"><line transform=\"translate(0,200)\" x2=\"200\" y2=\"0\" stroke=\"#ddd\" stroke-width=\"1\" opacity=\"1\"/><line transform=\"translate(0,167)\" x2=\"200\" y2=\"0\" stroke=\"#ddd\" stroke-width=\"1\" opacity=\"1\"/><line transform=\"translate(0,133)\" x2=\"200\" y2=\"0\" stroke=\"#ddd\" stroke-width=\"1\" opacity=\"1\"/><line transform=\"translate(0,100)\" x2=\"200\" y2=\"0\" stroke=\"#ddd\" stroke-width=\"1\" opacity=\"1\"/><line transform=\"translate(0,67)\" x2=\"200\" y2=\"0\" stroke=\"#ddd\" stroke-width=\"1\" opacity=\"1\"/><line transform=\"translate(0,33)\" x2=\"200\" y2=\"0\" stroke=\"#ddd\" stroke-width=\"1\" opacity=\"1\"/><line transform=\"translate(0,0)\" x2=\"200\" y2=\"0\" stroke=\"#ddd\" stroke-width=\"1\" opacity=\"1\"/></g></g><path class=\"foreground\" aria-hidden=\"true\" d=\"\" pointer-events=\"none\" display=\"none\"/></g></g><g class=\"mark-group role-axis\" role=\"graphics-symbol\" aria-roledescription=\"axis\" aria-label=\"X-axis titled 'lost_mean' for a linear scale with values from 0 to 220\"><g transform=\"translate(0.5,200.5)\"><path class=\"background\" aria-hidden=\"true\" d=\"M0,0h0v0h0Z\" pointer-events=\"none\"/><g><g class=\"mark-rule role-axis-tick\" pointer-events=\"none\"><line transform=\"translate(0,0)\" x2=\"0\" y2=\"5\" stroke=\"#888\" stroke-width=\"1\" opacity=\"1\"/><line transform=\"translate(45,0)\" x2=\"0\" y2=\"5\" stroke=\"#888\" stroke-width=\"1\" opacity=\"1\"/><line transform=\"translate(91,0)\" x2=\"0\" y2=\"5\" stroke=\"#888\" stroke-width=\"1\" opacity=\"1\"/><line transform=\"translate(136,0)\" x2=\"0\" y2=\"5\" stroke=\"#888\" stroke-width=\"1\" opacity=\"1\"/><line transform=\"translate(182,0)\" x2=\"0\" y2=\"5\" stroke=\"#888\" stroke-width=\"1\" opacity=\"1\"/></g><g class=\"mark-text role-axis-label\" pointer-events=\"none\"><text text-anchor=\"start\" transform=\"translate(0,15)\" font-family=\"sans-serif\" font-size=\"10px\" fill=\"#000\" opacity=\"1\">0</text><text text-anchor=\"middle\" transform=\"translate(45.45454545454545,15)\" font-family=\"sans-serif\" font-size=\"10px\" fill=\"#000\" opacity=\"1\">50</text><text text-anchor=\"middle\" transform=\"translate(90.9090909090909,15)\" font-family=\"sans-serif\" font-size=\"10px\" fill=\"#000\" opacity=\"1\">100</text><text text-anchor=\"middle\" transform=\"translate(136.36363636363635,15)\" font-family=\"sans-serif\" font-size=\"10px\" fill=\"#000\" opacity=\"1\">150</text><text text-anchor=\"middle\" transform=\"translate(181.8181818181818,15)\" font-family=\"sans-serif\" font-size=\"10px\" fill=\"#000\" opacity=\"1\">200</text></g><g class=\"mark-rule role-axis-domain\" pointer-events=\"none\"><line transform=\"translate(0,0)\" x2=\"200\" y2=\"0\" stroke=\"#888\" stroke-width=\"1\" opacity=\"1\"/></g><g class=\"mark-text role-axis-title\" pointer-events=\"none\"><text text-anchor=\"middle\" transform=\"translate(100,30)\" font-family=\"sans-serif\" font-size=\"11px\" font-weight=\"bold\" fill=\"#000\" opacity=\"1\">lost_mean</text></g></g><path class=\"foreground\" aria-hidden=\"true\" d=\"\" pointer-events=\"none\" display=\"none\"/></g></g><g class=\"mark-group role-axis\" role=\"graphics-symbol\" aria-roledescription=\"axis\" aria-label=\"Y-axis titled 'profit_mean' for a linear scale with values from 0 to 30,000\"><g transform=\"translate(0.5,0.5)\"><path class=\"background\" aria-hidden=\"true\" d=\"M0,0h0v0h0Z\" pointer-events=\"none\"/><g><g class=\"mark-rule role-axis-tick\" pointer-events=\"none\"><line transform=\"translate(0,200)\" x2=\"-5\" y2=\"0\" stroke=\"#888\" stroke-width=\"1\" opacity=\"1\"/><line transform=\"translate(0,167)\" x2=\"-5\" y2=\"0\" stroke=\"#888\" stroke-width=\"1\" opacity=\"1\"/><line transform=\"translate(0,133)\" x2=\"-5\" y2=\"0\" stroke=\"#888\" stroke-width=\"1\" opacity=\"1\"/><line transform=\"translate(0,100)\" x2=\"-5\" y2=\"0\" stroke=\"#888\" stroke-width=\"1\" opacity=\"1\"/><line transform=\"translate(0,67)\" x2=\"-5\" y2=\"0\" stroke=\"#888\" stroke-width=\"1\" opacity=\"1\"/><line transform=\"translate(0,33)\" x2=\"-5\" y2=\"0\" stroke=\"#888\" stroke-width=\"1\" opacity=\"1\"/><line transform=\"translate(0,0)\" x2=\"-5\" y2=\"0\" stroke=\"#888\" stroke-width=\"1\" opacity=\"1\"/></g><g class=\"mark-text role-axis-label\" pointer-events=\"none\"><text text-anchor=\"end\" transform=\"translate(-7,203)\" font-family=\"sans-serif\" font-size=\"10px\" fill=\"#000\" opacity=\"1\">0</text><text text-anchor=\"end\" transform=\"translate(-7,169.66666666666669)\" font-family=\"sans-serif\" font-size=\"10px\" fill=\"#000\" opacity=\"1\">5,000</text><text text-anchor=\"end\" transform=\"translate(-7,136.33333333333334)\" font-family=\"sans-serif\" font-size=\"10px\" fill=\"#000\" opacity=\"1\">10,000</text><text text-anchor=\"end\" transform=\"translate(-7,103)\" font-family=\"sans-serif\" font-size=\"10px\" fill=\"#000\" opacity=\"1\">15,000</text><text text-anchor=\"end\" transform=\"translate(-7,69.66666666666667)\" font-family=\"sans-serif\" font-size=\"10px\" fill=\"#000\" opacity=\"1\">20,000</text><text text-anchor=\"end\" transform=\"translate(-7,36.33333333333333)\" font-family=\"sans-serif\" font-size=\"10px\" fill=\"#000\" opacity=\"1\">25,000</text><text text-anchor=\"end\" transform=\"translate(-7,3)\" font-family=\"sans-serif\" font-size=\"10px\" fill=\"#000\" opacity=\"1\">30,000</text></g><g class=\"mark-rule role-axis-domain\" pointer-events=\"none\"><line transform=\"translate(0,200)\" x2=\"0\" y2=\"-200\" stroke=\"#888\" stroke-width=\"1\" opacity=\"1\"/></g><g class=\"mark-text role-axis-title\" pointer-events=\"none\"><text text-anchor=\"middle\" transform=\"translate(-44,100) rotate(-90) translate(0,-2)\" font-family=\"sans-serif\" font-size=\"11px\" font-weight=\"bold\" fill=\"#000\" opacity=\"1\">profit_mean</text></g></g><path class=\"foreground\" aria-hidden=\"true\" d=\"\" pointer-events=\"none\" display=\"none\"/></g></g><g class=\"mark-symbol role-mark marks\" role=\"graphics-object\" aria-roledescription=\"symbol mark container\"><path aria-label=\"lost_mean: 209.203; profit_mean: 9951.183; S: 230\" role=\"graphics-symbol\" aria-roledescription=\"point\" transform=\"translate(190.18454545454546,133.65878000000004)\" d=\"M2.7386127875258306,0A2.7386127875258306,2.7386127875258306,0,1,1,-2.7386127875258306,0A2.7386127875258306,2.7386127875258306,0,1,1,2.7386127875258306,0\" stroke=\"rgb(203, 71, 121)\" stroke-width=\"2\" opacity=\"0.7\"/><path aria-label=\"lost_mean: 204.686; profit_mean: 10150.79686; S: 230\" role=\"graphics-symbol\" aria-roledescription=\"point\" transform=\"translate(186.07818181818183,132.32802093333333)\" d=\"M2.7386127875258306,0A2.7386127875258306,2.7386127875258306,0,1,1,-2.7386127875258306,0A2.7386127875258306,2.7386127875258306,0,1,1,2.7386127875258306,0\" stroke=\"rgb(203, 71, 121)\" stroke-width=\"2\" opacity=\"0.7\"/><path aria-label=\"lost_mean: 212.174; profit_mean: 10335.13674; S: 230\" role=\"graphics-symbol\" aria-roledescription=\"point\" transform=\"translate(192.88545454545456,131.09908840000003)\" d=\"M2.7386127875258306,0A2.7386127875258306,2.7386127875258306,0,1,1,-2.7386127875258306,0A2.7386127875258306,2.7386127875258306,0,1,1,2.7386127875258306,0\" stroke=\"rgb(203, 71, 121)\" stroke-width=\"2\" opacity=\"0.7\"/><path aria-label=\"lost_mean: 209.304; profit_mean: 10532.66124; S: 230\" role=\"graphics-symbol\" aria-roledescription=\"point\" transform=\"translate(190.27636363636364,129.7822584)\" d=\"M2.7386127875258306,0A2.7386127875258306,2.7386127875258306,0,1,1,-2.7386127875258306,0A2.7386127875258306,2.7386127875258306,0,1,1,2.7386127875258306,0\" stroke=\"rgb(203, 71, 121)\" stroke-width=\"2\" opacity=\"0.7\"/><path aria-label=\"lost_mean: 210.436; profit_mean: 10717.04534; S: 230\" role=\"graphics-symbol\" aria-roledescription=\"point\" transform=\"translate(191.30545454545455,128.55303106666665)\" d=\"M2.7386127875258306,0A2.7386127875258306,2.7386127875258306,0,1,1,-2.7386127875258306,0A2.7386127875258306,2.7386127875258306,0,1,1,2.7386127875258306,0\" stroke=\"rgb(203, 71, 121)\" stroke-width=\"2\" opacity=\"0.7\"/><path aria-label=\"lost_mean: 209.943; profit_mean: 10911.3846; S: 230\" role=\"graphics-symbol\" aria-roledescription=\"point\" transform=\"translate(190.85727272727274,127.25743600000001)\" d=\"M2.7386127875258306,0A2.7386127875258306,2.7386127875258306,0,1,1,-2.7386127875258306,0A2.7386127875258306,2.7386127875258306,0,1,1,2.7386127875258306,0\" stroke=\"rgb(203, 71, 121)\" stroke-width=\"2\" opacity=\"0.7\"/><path aria-label=\"lost_mean: 211.403; profit_mean: 11086.43242; S: 230\" role=\"graphics-symbol\" aria-roledescription=\"point\" transform=\"translate(192.18454545454543,126.0904505333333)\" d=\"M2.7386127875258306,0A2.7386127875258306,2.7386127875258306,0,1,1,-2.7386127875258306,0A2.7386127875258306,2.7386127875258306,0,1,1,2.7386127875258306,0\" stroke=\"rgb(203, 71, 121)\" stroke-width=\"2\" opacity=\"0.7\"/><path aria-label=\"lost_mean: 212.381; profit_mean: 11275.1426; S: 230\" role=\"graphics-symbol\" aria-roledescription=\"point\" transform=\"translate(193.07363636363638,124.83238266666667)\" d=\"M2.7386127875258306,0A2.7386127875258306,2.7386127875258306,0,1,1,-2.7386127875258306,0A2.7386127875258306,2.7386127875258306,0,1,1,2.7386127875258306,0\" stroke=\"rgb(203, 71, 121)\" stroke-width=\"2\" opacity=\"0.7\"/><path aria-label=\"lost_mean: 205.078; profit_mean: 11492.73186; S: 230\" role=\"graphics-symbol\" aria-roledescription=\"point\" transform=\"translate(186.43454545454546,123.38178760000001)\" d=\"M2.7386127875258306,0A2.7386127875258306,2.7386127875258306,0,1,1,-2.7386127875258306,0A2.7386127875258306,2.7386127875258306,0,1,1,2.7386127875258306,0\" stroke=\"rgb(203, 71, 121)\" stroke-width=\"2\" opacity=\"0.7\"/><path aria-label=\"lost_mean: 208.672; profit_mean: 11685.3819; S: 230\" role=\"graphics-symbol\" aria-roledescription=\"point\" transform=\"translate(189.70181818181817,122.097454)\" d=\"M2.7386127875258306,0A2.7386127875258306,2.7386127875258306,0,1,1,-2.7386127875258306,0A2.7386127875258306,2.7386127875258306,0,1,1,2.7386127875258306,0\" stroke=\"rgb(203, 71, 121)\" stroke-width=\"2\" opacity=\"0.7\"/><path aria-label=\"lost_mean: 213.137; profit_mean: 11851.555; S: 230\" role=\"graphics-symbol\" aria-roledescription=\"point\" transform=\"translate(193.76090909090908,120.98963333333334)\" d=\"M2.7386127875258306,0A2.7386127875258306,2.7386127875258306,0,1,1,-2.7386127875258306,0A2.7386127875258306,2.7386127875258306,0,1,1,2.7386127875258306,0\" stroke=\"rgb(203, 71, 121)\" stroke-width=\"2\" opacity=\"0.7\"/><path aria-label=\"lost_mean: 209.323; profit_mean: 12052.02818; S: 230\" role=\"graphics-symbol\" aria-roledescription=\"point\" transform=\"translate(190.29363636363635,119.65314546666667)\" d=\"M2.7386127875258306,0A2.7386127875258306,2.7386127875258306,0,1,1,-2.7386127875258306,0A2.7386127875258306,2.7386127875258306,0,1,1,2.7386127875258306,0\" stroke=\"rgb(203, 71, 121)\" stroke-width=\"2\" opacity=\"0.7\"/><path aria-label=\"lost_mean: 211.184; profit_mean: 12247.28804; S: 230\" role=\"graphics-symbol\" aria-roledescription=\"point\" transform=\"translate(191.98545454545456,118.35141306666665)\" d=\"M2.7386127875258306,0A2.7386127875258306,2.7386127875258306,0,1,1,-2.7386127875258306,0A2.7386127875258306,2.7386127875258306,0,1,1,2.7386127875258306,0\" stroke=\"rgb(203, 71, 121)\" stroke-width=\"2\" opacity=\"0.7\"/><path aria-label=\"lost_mean: 207.645; profit_mean: 12442.44818; S: 230\" role=\"graphics-symbol\" aria-roledescription=\"point\" transform=\"translate(188.76818181818183,117.0503454666667)\" d=\"M2.7386127875258306,0A2.7386127875258306,2.7386127875258306,0,1,1,-2.7386127875258306,0A2.7386127875258306,2.7386127875258306,0,1,1,2.7386127875258306,0\" stroke=\"rgb(203, 71, 121)\" stroke-width=\"2\" opacity=\"0.7\"/><path aria-label=\"lost_mean: 211.245; profit_mean: 12636.47262; S: 230\" role=\"graphics-symbol\" aria-roledescription=\"point\" transform=\"translate(192.04090909090908,115.75684920000002)\" d=\"M2.7386127875258306,0A2.7386127875258306,2.7386127875258306,0,1,1,-2.7386127875258306,0A2.7386127875258306,2.7386127875258306,0,1,1,2.7386127875258306,0\" stroke=\"rgb(203, 71, 121)\" stroke-width=\"2\" opacity=\"0.7\"/><path aria-label=\"lost_mean: 204.311; profit_mean: 12834.3181; S: 230\" role=\"graphics-symbol\" aria-roledescription=\"point\" transform=\"translate(185.73727272727274,114.43787933333331)\" d=\"M2.7386127875258306,0A2.7386127875258306,2.7386127875258306,0,1,1,-2.7386127875258306,0A2.7386127875258306,2.7386127875258306,0,1,1,2.7386127875258306,0\" stroke=\"rgb(203, 71, 121)\" stroke-width=\"2\" opacity=\"0.7\"/><path aria-label=\"lost_mean: 212.598; profit_mean: 13015.81794; S: 230\" role=\"graphics-symbol\" aria-roledescription=\"point\" transform=\"translate(193.2709090909091,113.22788040000003)\" d=\"M2.7386127875258306,0A2.7386127875258306,2.7386127875258306,0,1,1,-2.7386127875258306,0A2.7386127875258306,2.7386127875258306,0,1,1,2.7386127875258306,0\" stroke=\"rgb(203, 71, 121)\" stroke-width=\"2\" opacity=\"0.7\"/><path aria-label=\"lost_mean: 209.28; profit_mean: 13212.4033; S: 230\" role=\"graphics-symbol\" aria-roledescription=\"point\" transform=\"translate(190.25454545454545,111.91731133333336)\" d=\"M2.7386127875258306,0A2.7386127875258306,2.7386127875258306,0,1,1,-2.7386127875258306,0A2.7386127875258306,2.7386127875258306,0,1,1,2.7386127875258306,0\" stroke=\"rgb(203, 71, 121)\" stroke-width=\"2\" opacity=\"0.7\"/><path aria-label=\"lost_mean: 208.769; profit_mean: 13408.67998; S: 230\" role=\"graphics-symbol\" aria-roledescription=\"point\" transform=\"translate(189.79000000000002,110.60880013333336)\" d=\"M2.7386127875258306,0A2.7386127875258306,2.7386127875258306,0,1,1,-2.7386127875258306,0A2.7386127875258306,2.7386127875258306,0,1,1,2.7386127875258306,0\" stroke=\"rgb(203, 71, 121)\" stroke-width=\"2\" opacity=\"0.7\"/><path aria-label=\"lost_mean: 204.466; profit_mean: 13600.67458; S: 230\" role=\"graphics-symbol\" aria-roledescription=\"point\" transform=\"translate(185.87818181818184,109.32883613333333)\" d=\"M2.7386127875258306,0A2.7386127875258306,2.7386127875258306,0,1,1,-2.7386127875258306,0A2.7386127875258306,2.7386127875258306,0,1,1,2.7386127875258306,0\" stroke=\"rgb(203, 71, 121)\" stroke-width=\"2\" opacity=\"0.7\"/><path aria-label=\"lost_mean: 204.002; profit_mean: 13797.0833; S: 230\" role=\"graphics-symbol\" aria-roledescription=\"point\" transform=\"translate(185.45636363636365,108.01944466666669)\" d=\"M2.7386127875258306,0A2.7386127875258306,2.7386127875258306,0,1,1,-2.7386127875258306,0A2.7386127875258306,2.7386127875258306,0,1,1,2.7386127875258306,0\" stroke=\"rgb(203, 71, 121)\" stroke-width=\"2\" opacity=\"0.7\"/><path aria-label=\"lost_mean: 213.745; profit_mean: 13968.72044; S: 230\" role=\"graphics-symbol\" aria-roledescription=\"point\" transform=\"translate(194.31363636363636,106.87519706666664)\" d=\"M2.7386127875258306,0A2.7386127875258306,2.7386127875258306,0,1,1,-2.7386127875258306,0A2.7386127875258306,2.7386127875258306,0,1,1,2.7386127875258306,0\" stroke=\"rgb(203, 71, 121)\" stroke-width=\"2\" opacity=\"0.7\"/><path aria-label=\"lost_mean: 207.038; profit_mean: 14168.44954; S: 230\" role=\"graphics-symbol\" aria-roledescription=\"point\" transform=\"translate(188.21636363636364,105.54366973333329)\" d=\"M2.7386127875258306,0A2.7386127875258306,2.7386127875258306,0,1,1,-2.7386127875258306,0A2.7386127875258306,2.7386127875258306,0,1,1,2.7386127875258306,0\" stroke=\"rgb(203, 71, 121)\" stroke-width=\"2\" opacity=\"0.7\"/><path aria-label=\"lost_mean: 206.546; profit_mean: 14381.03918; S: 230\" role=\"graphics-symbol\" aria-roledescription=\"point\" transform=\"translate(187.76909090909092,104.12640546666665)\" d=\"M2.7386127875258306,0A2.7386127875258306,2.7386127875258306,0,1,1,-2.7386127875258306,0A2.7386127875258306,2.7386127875258306,0,1,1,2.7386127875258306,0\" stroke=\"rgb(203, 71, 121)\" stroke-width=\"2\" opacity=\"0.7\"/><path aria-label=\"lost_mean: 206.788; profit_mean: 14558.0107; S: 230\" role=\"graphics-symbol\" aria-roledescription=\"point\" transform=\"translate(187.98909090909092,102.94659533333332)\" d=\"M2.7386127875258306,0A2.7386127875258306,2.7386127875258306,0,1,1,-2.7386127875258306,0A2.7386127875258306,2.7386127875258306,0,1,1,2.7386127875258306,0\" stroke=\"rgb(203, 71, 121)\" stroke-width=\"2\" opacity=\"0.7\"/><path aria-label=\"lost_mean: 212.219; profit_mean: 14739.4649; S: 230\" role=\"graphics-symbol\" aria-roledescription=\"point\" transform=\"translate(192.92636363636365,101.73690066666667)\" d=\"M2.7386127875258306,0A2.7386127875258306,2.7386127875258306,0,1,1,-2.7386127875258306,0A2.7386127875258306,2.7386127875258306,0,1,1,2.7386127875258306,0\" stroke=\"rgb(203, 71, 121)\" stroke-width=\"2\" opacity=\"0.7\"/><path aria-label=\"lost_mean: 208.471; profit_mean: 14923.84748; S: 230\" role=\"graphics-symbol\" aria-roledescription=\"point\" transform=\"translate(189.51909090909092,100.50768346666668)\" d=\"M2.7386127875258306,0A2.7386127875258306,2.7386127875258306,0,1,1,-2.7386127875258306,0A2.7386127875258306,2.7386127875258306,0,1,1,2.7386127875258306,0\" stroke=\"rgb(203, 71, 121)\" stroke-width=\"2\" opacity=\"0.7\"/><path aria-label=\"lost_mean: 210.839; profit_mean: 15127.72346; S: 230\" role=\"graphics-symbol\" aria-roledescription=\"point\" transform=\"translate(191.67181818181817,99.14851026666665)\" d=\"M2.7386127875258306,0A2.7386127875258306,2.7386127875258306,0,1,1,-2.7386127875258306,0A2.7386127875258306,2.7386127875258306,0,1,1,2.7386127875258306,0\" stroke=\"rgb(203, 71, 121)\" stroke-width=\"2\" opacity=\"0.7\"/><path aria-label=\"lost_mean: 211.479; profit_mean: 15317.68102; S: 230\" role=\"graphics-symbol\" aria-roledescription=\"point\" transform=\"translate(192.25363636363636,97.8821265333333)\" d=\"M2.7386127875258306,0A2.7386127875258306,2.7386127875258306,0,1,1,-2.7386127875258306,0A2.7386127875258306,2.7386127875258306,0,1,1,2.7386127875258306,0\" stroke=\"rgb(203, 71, 121)\" stroke-width=\"2\" opacity=\"0.7\"/><path aria-label=\"lost_mean: 206.755; profit_mean: 15516.49588; S: 230\" role=\"graphics-symbol\" aria-roledescription=\"point\" transform=\"translate(187.95909090909092,96.55669413333337)\" d=\"M2.7386127875258306,0A2.7386127875258306,2.7386127875258306,0,1,1,-2.7386127875258306,0A2.7386127875258306,2.7386127875258306,0,1,1,2.7386127875258306,0\" stroke=\"rgb(203, 71, 121)\" stroke-width=\"2\" opacity=\"0.7\"/><path aria-label=\"lost_mean: 209.136; profit_mean: 15721.3324; S: 230\" role=\"graphics-symbol\" aria-roledescription=\"point\" transform=\"translate(190.12363636363636,95.19111733333334)\" d=\"M2.7386127875258306,0A2.7386127875258306,2.7386127875258306,0,1,1,-2.7386127875258306,0A2.7386127875258306,2.7386127875258306,0,1,1,2.7386127875258306,0\" stroke=\"rgb(203, 71, 121)\" stroke-width=\"2\" opacity=\"0.7\"/><path aria-label=\"lost_mean: 203.336; profit_mean: 15910.76448; S: 230\" role=\"graphics-symbol\" aria-roledescription=\"point\" transform=\"translate(184.8509090909091,93.92823679999998)\" d=\"M2.7386127875258306,0A2.7386127875258306,2.7386127875258306,0,1,1,-2.7386127875258306,0A2.7386127875258306,2.7386127875258306,0,1,1,2.7386127875258306,0\" stroke=\"rgb(203, 71, 121)\" stroke-width=\"2\" opacity=\"0.7\"/><path aria-label=\"lost_mean: 208.547; profit_mean: 16070.27862; S: 230\" role=\"graphics-symbol\" aria-roledescription=\"point\" transform=\"translate(189.58818181818182,92.86480919999998)\" d=\"M2.7386127875258306,0A2.7386127875258306,2.7386127875258306,0,1,1,-2.7386127875258306,0A2.7386127875258306,2.7386127875258306,0,1,1,2.7386127875258306,0\" stroke=\"rgb(203, 71, 121)\" stroke-width=\"2\" opacity=\"0.7\"/><path aria-label=\"lost_mean: 206.398; profit_mean: 16288.6313; S: 230\" role=\"graphics-symbol\" aria-roledescription=\"point\" transform=\"translate(187.63454545454545,91.40912466666664)\" d=\"M2.7386127875258306,0A2.7386127875258306,2.7386127875258306,0,1,1,-2.7386127875258306,0A2.7386127875258306,2.7386127875258306,0,1,1,2.7386127875258306,0\" stroke=\"rgb(203, 71, 121)\" stroke-width=\"2\" opacity=\"0.7\"/><path aria-label=\"lost_mean: 212.058; profit_mean: 16457.37432; S: 230\" role=\"graphics-symbol\" aria-roledescription=\"point\" transform=\"translate(192.78,90.28417120000003)\" d=\"M2.7386127875258306,0A2.7386127875258306,2.7386127875258306,0,1,1,-2.7386127875258306,0A2.7386127875258306,2.7386127875258306,0,1,1,2.7386127875258306,0\" stroke=\"rgb(203, 71, 121)\" stroke-width=\"2\" opacity=\"0.7\"/><path aria-label=\"lost_mean: 207.693; profit_mean: 16676.8434; S: 230\" role=\"graphics-symbol\" aria-roledescription=\"point\" transform=\"translate(188.8118181818182,88.82104399999994)\" d=\"M2.7386127875258306,0A2.7386127875258306,2.7386127875258306,0,1,1,-2.7386127875258306,0A2.7386127875258306,2.7386127875258306,0,1,1,2.7386127875258306,0\" stroke=\"rgb(203, 71, 121)\" stroke-width=\"2\" opacity=\"0.7\"/><path aria-label=\"lost_mean: 211.012; profit_mean: 16864.44662; S: 230\" role=\"graphics-symbol\" aria-roledescription=\"point\" transform=\"translate(191.8290909090909,87.57035586666662)\" d=\"M2.7386127875258306,0A2.7386127875258306,2.7386127875258306,0,1,1,-2.7386127875258306,0A2.7386127875258306,2.7386127875258306,0,1,1,2.7386127875258306,0\" stroke=\"rgb(203, 71, 121)\" stroke-width=\"2\" opacity=\"0.7\"/><path aria-label=\"lost_mean: 213.446; profit_mean: 17043.8411; S: 230\" role=\"graphics-symbol\" aria-roledescription=\"point\" transform=\"translate(194.04181818181817,86.3743926666667)\" d=\"M2.7386127875258306,0A2.7386127875258306,2.7386127875258306,0,1,1,-2.7386127875258306,0A2.7386127875258306,2.7386127875258306,0,1,1,2.7386127875258306,0\" stroke=\"rgb(203, 71, 121)\" stroke-width=\"2\" opacity=\"0.7\"/><path aria-label=\"lost_mean: 209.051; profit_mean: 17226.07372; S: 230\" role=\"graphics-symbol\" aria-roledescription=\"point\" transform=\"translate(190.04636363636362,85.15950853333334)\" d=\"M2.7386127875258306,0A2.7386127875258306,2.7386127875258306,0,1,1,-2.7386127875258306,0A2.7386127875258306,2.7386127875258306,0,1,1,2.7386127875258306,0\" stroke=\"rgb(203, 71, 121)\" stroke-width=\"2\" opacity=\"0.7\"/><path aria-label=\"lost_mean: 206.864; profit_mean: 17442.2809; S: 230\" role=\"graphics-symbol\" aria-roledescription=\"point\" transform=\"translate(188.05818181818182,83.7181273333334)\" d=\"M2.7386127875258306,0A2.7386127875258306,2.7386127875258306,0,1,1,-2.7386127875258306,0A2.7386127875258306,2.7386127875258306,0,1,1,2.7386127875258306,0\" stroke=\"rgb(203, 71, 121)\" stroke-width=\"2\" opacity=\"0.7\"/><path aria-label=\"lost_mean: 208.451; profit_mean: 17635.3631; S: 230\" role=\"graphics-symbol\" aria-roledescription=\"point\" transform=\"translate(189.5009090909091,82.43091266666664)\" d=\"M2.7386127875258306,0A2.7386127875258306,2.7386127875258306,0,1,1,-2.7386127875258306,0A2.7386127875258306,2.7386127875258306,0,1,1,2.7386127875258306,0\" stroke=\"rgb(203, 71, 121)\" stroke-width=\"2\" opacity=\"0.7\"/><path aria-label=\"lost_mean: 214.676; profit_mean: 17805.40598; S: 230\" role=\"graphics-symbol\" aria-roledescription=\"point\" transform=\"translate(195.15999999999997,81.2972934666667)\" d=\"M2.7386127875258306,0A2.7386127875258306,2.7386127875258306,0,1,1,-2.7386127875258306,0A2.7386127875258306,2.7386127875258306,0,1,1,2.7386127875258306,0\" stroke=\"rgb(203, 71, 121)\" stroke-width=\"2\" opacity=\"0.7\"/><path aria-label=\"lost_mean: 211.919; profit_mean: 17980.8028; S: 230\" role=\"graphics-symbol\" aria-roledescription=\"point\" transform=\"translate(192.65363636363637,80.1279813333333)\" d=\"M2.7386127875258306,0A2.7386127875258306,2.7386127875258306,0,1,1,-2.7386127875258306,0A2.7386127875258306,2.7386127875258306,0,1,1,2.7386127875258306,0\" stroke=\"rgb(203, 71, 121)\" stroke-width=\"2\" opacity=\"0.7\"/><path aria-label=\"lost_mean: 212.654; profit_mean: 18175.69566; S: 230\" role=\"graphics-symbol\" aria-roledescription=\"point\" transform=\"translate(193.32181818181817,78.8286956)\" d=\"M2.7386127875258306,0A2.7386127875258306,2.7386127875258306,0,1,1,-2.7386127875258306,0A2.7386127875258306,2.7386127875258306,0,1,1,2.7386127875258306,0\" stroke=\"rgb(203, 71, 121)\" stroke-width=\"2\" opacity=\"0.7\"/><path aria-label=\"lost_mean: 207.781; profit_mean: 18391.57364; S: 230\" role=\"graphics-symbol\" aria-roledescription=\"point\" transform=\"translate(188.8918181818182,77.38950906666666)\" d=\"M2.7386127875258306,0A2.7386127875258306,2.7386127875258306,0,1,1,-2.7386127875258306,0A2.7386127875258306,2.7386127875258306,0,1,1,2.7386127875258306,0\" stroke=\"rgb(203, 71, 121)\" stroke-width=\"2\" opacity=\"0.7\"/><path aria-label=\"lost_mean: 206.054; profit_mean: 18591.4539; S: 230\" role=\"graphics-symbol\" aria-roledescription=\"point\" transform=\"translate(187.3218181818182,76.05697399999995)\" d=\"M2.7386127875258306,0A2.7386127875258306,2.7386127875258306,0,1,1,-2.7386127875258306,0A2.7386127875258306,2.7386127875258306,0,1,1,2.7386127875258306,0\" stroke=\"rgb(203, 71, 121)\" stroke-width=\"2\" opacity=\"0.7\"/><path aria-label=\"lost_mean: 212.695; profit_mean: 18772.43476; S: 230\" role=\"graphics-symbol\" aria-roledescription=\"point\" transform=\"translate(193.35909090909092,74.85043493333336)\" d=\"M2.7386127875258306,0A2.7386127875258306,2.7386127875258306,0,1,1,-2.7386127875258306,0A2.7386127875258306,2.7386127875258306,0,1,1,2.7386127875258306,0\" stroke=\"rgb(203, 71, 121)\" stroke-width=\"2\" opacity=\"0.7\"/><path aria-label=\"lost_mean: 212.921; profit_mean: 18934.2434; S: 230\" role=\"graphics-symbol\" aria-roledescription=\"point\" transform=\"translate(193.56454545454545,73.7717106666667)\" d=\"M2.7386127875258306,0A2.7386127875258306,2.7386127875258306,0,1,1,-2.7386127875258306,0A2.7386127875258306,2.7386127875258306,0,1,1,2.7386127875258306,0\" stroke=\"rgb(203, 71, 121)\" stroke-width=\"2\" opacity=\"0.7\"/><path aria-label=\"lost_mean: 210.917; profit_mean: 19142.44146; S: 230\" role=\"graphics-symbol\" aria-roledescription=\"point\" transform=\"translate(191.74272727272728,72.38372359999997)\" d=\"M2.7386127875258306,0A2.7386127875258306,2.7386127875258306,0,1,1,-2.7386127875258306,0A2.7386127875258306,2.7386127875258306,0,1,1,2.7386127875258306,0\" stroke=\"rgb(203, 71, 121)\" stroke-width=\"2\" opacity=\"0.7\"/><path aria-label=\"lost_mean: 206.595; profit_mean: 19341.96402; S: 230\" role=\"graphics-symbol\" aria-roledescription=\"point\" transform=\"translate(187.81363636363636,71.05357319999996)\" d=\"M2.7386127875258306,0A2.7386127875258306,2.7386127875258306,0,1,1,-2.7386127875258306,0A2.7386127875258306,2.7386127875258306,0,1,1,2.7386127875258306,0\" stroke=\"rgb(203, 71, 121)\" stroke-width=\"2\" opacity=\"0.7\"/><path aria-label=\"lost_mean: 204.025; profit_mean: 19557.2468; S: 230\" role=\"graphics-symbol\" aria-roledescription=\"point\" transform=\"translate(185.47727272727272,69.61835466666668)\" d=\"M2.7386127875258306,0A2.7386127875258306,2.7386127875258306,0,1,1,-2.7386127875258306,0A2.7386127875258306,2.7386127875258306,0,1,1,2.7386127875258306,0\" stroke=\"rgb(203, 71, 121)\" stroke-width=\"2\" opacity=\"0.7\"/><path aria-label=\"lost_mean: 207.003; profit_mean: 19724.36112; S: 230\" role=\"graphics-symbol\" aria-roledescription=\"point\" transform=\"translate(188.18454545454543,68.50425919999996)\" d=\"M2.7386127875258306,0A2.7386127875258306,2.7386127875258306,0,1,1,-2.7386127875258306,0A2.7386127875258306,2.7386127875258306,0,1,1,2.7386127875258306,0\" stroke=\"rgb(203, 71, 121)\" stroke-width=\"2\" opacity=\"0.7\"/><path aria-label=\"lost_mean: 207.98; profit_mean: 19920.18078; S: 230\" role=\"graphics-symbol\" aria-roledescription=\"point\" transform=\"translate(189.07272727272726,67.1987948)\" d=\"M2.7386127875258306,0A2.7386127875258306,2.7386127875258306,0,1,1,-2.7386127875258306,0A2.7386127875258306,2.7386127875258306,0,1,1,2.7386127875258306,0\" stroke=\"rgb(203, 71, 121)\" stroke-width=\"2\" opacity=\"0.7\"/><path aria-label=\"lost_mean: 209.973; profit_mean: 20094.27466; S: 230\" role=\"graphics-symbol\" aria-roledescription=\"point\" transform=\"translate(190.88454545454547,66.03816893333332)\" d=\"M2.7386127875258306,0A2.7386127875258306,2.7386127875258306,0,1,1,-2.7386127875258306,0A2.7386127875258306,2.7386127875258306,0,1,1,2.7386127875258306,0\" stroke=\"rgb(203, 71, 121)\" stroke-width=\"2\" opacity=\"0.7\"/><path aria-label=\"lost_mean: 212.62; profit_mean: 20298.93554; S: 230\" role=\"graphics-symbol\" aria-roledescription=\"point\" transform=\"translate(193.29090909090908,64.67376306666668)\" d=\"M2.7386127875258306,0A2.7386127875258306,2.7386127875258306,0,1,1,-2.7386127875258306,0A2.7386127875258306,2.7386127875258306,0,1,1,2.7386127875258306,0\" stroke=\"rgb(203, 71, 121)\" stroke-width=\"2\" opacity=\"0.7\"/><path aria-label=\"lost_mean: 207.474; profit_mean: 20502.0881; S: 230\" role=\"graphics-symbol\" aria-roledescription=\"point\" transform=\"translate(188.61272727272726,63.31941266666667)\" d=\"M2.7386127875258306,0A2.7386127875258306,2.7386127875258306,0,1,1,-2.7386127875258306,0A2.7386127875258306,2.7386127875258306,0,1,1,2.7386127875258306,0\" stroke=\"rgb(203, 71, 121)\" stroke-width=\"2\" opacity=\"0.7\"/><path aria-label=\"lost_mean: 205.334; profit_mean: 20718.9726; S: 230\" role=\"graphics-symbol\" aria-roledescription=\"point\" transform=\"translate(186.66727272727272,61.873516000000016)\" d=\"M2.7386127875258306,0A2.7386127875258306,2.7386127875258306,0,1,1,-2.7386127875258306,0A2.7386127875258306,2.7386127875258306,0,1,1,2.7386127875258306,0\" stroke=\"rgb(203, 71, 121)\" stroke-width=\"2\" opacity=\"0.7\"/><path aria-label=\"lost_mean: 210.997; profit_mean: 20864.76466; S: 230\" role=\"graphics-symbol\" aria-roledescription=\"point\" transform=\"translate(191.81545454545457,60.90156893333334)\" d=\"M2.7386127875258306,0A2.7386127875258306,2.7386127875258306,0,1,1,-2.7386127875258306,0A2.7386127875258306,2.7386127875258306,0,1,1,2.7386127875258306,0\" stroke=\"rgb(203, 71, 121)\" stroke-width=\"2\" opacity=\"0.7\"/><path aria-label=\"lost_mean: 207.618; profit_mean: 21076.44308; S: 230\" role=\"graphics-symbol\" aria-roledescription=\"point\" transform=\"translate(188.74363636363637,59.49037946666671)\" d=\"M2.7386127875258306,0A2.7386127875258306,2.7386127875258306,0,1,1,-2.7386127875258306,0A2.7386127875258306,2.7386127875258306,0,1,1,2.7386127875258306,0\" stroke=\"rgb(203, 71, 121)\" stroke-width=\"2\" opacity=\"0.7\"/><path aria-label=\"lost_mean: 210.574; profit_mean: 21263.05814; S: 230\" role=\"graphics-symbol\" aria-roledescription=\"point\" transform=\"translate(191.4309090909091,58.24627906666669)\" d=\"M2.7386127875258306,0A2.7386127875258306,2.7386127875258306,0,1,1,-2.7386127875258306,0A2.7386127875258306,2.7386127875258306,0,1,1,2.7386127875258306,0\" stroke=\"rgb(203, 71, 121)\" stroke-width=\"2\" opacity=\"0.7\"/><path aria-label=\"lost_mean: 212.114; profit_mean: 21442.6243; S: 230\" role=\"graphics-symbol\" aria-roledescription=\"point\" transform=\"translate(192.8309090909091,57.04917133333338)\" d=\"M2.7386127875258306,0A2.7386127875258306,2.7386127875258306,0,1,1,-2.7386127875258306,0A2.7386127875258306,2.7386127875258306,0,1,1,2.7386127875258306,0\" stroke=\"rgb(203, 71, 121)\" stroke-width=\"2\" opacity=\"0.7\"/><path aria-label=\"lost_mean: 210.061; profit_mean: 21638.43258; S: 230\" role=\"graphics-symbol\" aria-roledescription=\"point\" transform=\"translate(190.96454545454546,55.743782800000055)\" d=\"M2.7386127875258306,0A2.7386127875258306,2.7386127875258306,0,1,1,-2.7386127875258306,0A2.7386127875258306,2.7386127875258306,0,1,1,2.7386127875258306,0\" stroke=\"rgb(203, 71, 121)\" stroke-width=\"2\" opacity=\"0.7\"/><path aria-label=\"lost_mean: 216.841; profit_mean: 21797.39776; S: 230\" role=\"graphics-symbol\" aria-roledescription=\"point\" transform=\"translate(197.12818181818184,54.68401493333328)\" d=\"M2.7386127875258306,0A2.7386127875258306,2.7386127875258306,0,1,1,-2.7386127875258306,0A2.7386127875258306,2.7386127875258306,0,1,1,2.7386127875258306,0\" stroke=\"rgb(203, 71, 121)\" stroke-width=\"2\" opacity=\"0.7\"/><path aria-label=\"lost_mean: 206.437; profit_mean: 22008.90072; S: 230\" role=\"graphics-symbol\" aria-roledescription=\"point\" transform=\"translate(187.67000000000002,53.27399520000002)\" d=\"M2.7386127875258306,0A2.7386127875258306,2.7386127875258306,0,1,1,-2.7386127875258306,0A2.7386127875258306,2.7386127875258306,0,1,1,2.7386127875258306,0\" stroke=\"rgb(203, 71, 121)\" stroke-width=\"2\" opacity=\"0.7\"/><path aria-label=\"lost_mean: 206.505; profit_mean: 22222.85146; S: 230\" role=\"graphics-symbol\" aria-roledescription=\"point\" transform=\"translate(187.7318181818182,51.847656933333376)\" d=\"M2.7386127875258306,0A2.7386127875258306,2.7386127875258306,0,1,1,-2.7386127875258306,0A2.7386127875258306,2.7386127875258306,0,1,1,2.7386127875258306,0\" stroke=\"rgb(203, 71, 121)\" stroke-width=\"2\" opacity=\"0.7\"/><path aria-label=\"lost_mean: 214.513; profit_mean: 22382.6923; S: 230\" role=\"graphics-symbol\" aria-roledescription=\"point\" transform=\"translate(195.0118181818182,50.78205133333324)\" d=\"M2.7386127875258306,0A2.7386127875258306,2.7386127875258306,0,1,1,-2.7386127875258306,0A2.7386127875258306,2.7386127875258306,0,1,1,2.7386127875258306,0\" stroke=\"rgb(203, 71, 121)\" stroke-width=\"2\" opacity=\"0.7\"/><path aria-label=\"lost_mean: 210.633; profit_mean: 22603.92198; S: 230\" role=\"graphics-symbol\" aria-roledescription=\"point\" transform=\"translate(191.48454545454547,49.30718680000001)\" d=\"M2.7386127875258306,0A2.7386127875258306,2.7386127875258306,0,1,1,-2.7386127875258306,0A2.7386127875258306,2.7386127875258306,0,1,1,2.7386127875258306,0\" stroke=\"rgb(203, 71, 121)\" stroke-width=\"2\" opacity=\"0.7\"/><path aria-label=\"lost_mean: 207.158; profit_mean: 22819.43056; S: 230\" role=\"graphics-symbol\" aria-roledescription=\"point\" transform=\"translate(188.32545454545453,47.87046293333332)\" d=\"M2.7386127875258306,0A2.7386127875258306,2.7386127875258306,0,1,1,-2.7386127875258306,0A2.7386127875258306,2.7386127875258306,0,1,1,2.7386127875258306,0\" stroke=\"rgb(203, 71, 121)\" stroke-width=\"2\" opacity=\"0.7\"/><path aria-label=\"lost_mean: 207.661; profit_mean: 22992.928; S: 230\" role=\"graphics-symbol\" aria-roledescription=\"point\" transform=\"translate(188.78272727272727,46.71381333333326)\" d=\"M2.7386127875258306,0A2.7386127875258306,2.7386127875258306,0,1,1,-2.7386127875258306,0A2.7386127875258306,2.7386127875258306,0,1,1,2.7386127875258306,0\" stroke=\"rgb(203, 71, 121)\" stroke-width=\"2\" opacity=\"0.7\"/><path aria-label=\"lost_mean: 214.584; profit_mean: 23157.09672; S: 230\" role=\"graphics-symbol\" aria-roledescription=\"point\" transform=\"translate(195.07636363636365,45.61935520000002)\" d=\"M2.7386127875258306,0A2.7386127875258306,2.7386127875258306,0,1,1,-2.7386127875258306,0A2.7386127875258306,2.7386127875258306,0,1,1,2.7386127875258306,0\" stroke=\"rgb(203, 71, 121)\" stroke-width=\"2\" opacity=\"0.7\"/><path aria-label=\"lost_mean: 212.61; profit_mean: 23372.4119; S: 230\" role=\"graphics-symbol\" aria-roledescription=\"point\" transform=\"translate(193.2818181818182,44.1839206666667)\" d=\"M2.7386127875258306,0A2.7386127875258306,2.7386127875258306,0,1,1,-2.7386127875258306,0A2.7386127875258306,2.7386127875258306,0,1,1,2.7386127875258306,0\" stroke=\"rgb(203, 71, 121)\" stroke-width=\"2\" opacity=\"0.7\"/><path aria-label=\"lost_mean: 214.898; profit_mean: 23511.57236; S: 230\" role=\"graphics-symbol\" aria-roledescription=\"point\" transform=\"translate(195.36181818181817,43.25618426666671)\" d=\"M2.7386127875258306,0A2.7386127875258306,2.7386127875258306,0,1,1,-2.7386127875258306,0A2.7386127875258306,2.7386127875258306,0,1,1,2.7386127875258306,0\" stroke=\"rgb(203, 71, 121)\" stroke-width=\"2\" opacity=\"0.7\"/><path aria-label=\"lost_mean: 204.557; profit_mean: 23753.85134; S: 230\" role=\"graphics-symbol\" aria-roledescription=\"point\" transform=\"translate(185.96090909090907,41.64099106666666)\" d=\"M2.7386127875258306,0A2.7386127875258306,2.7386127875258306,0,1,1,-2.7386127875258306,0A2.7386127875258306,2.7386127875258306,0,1,1,2.7386127875258306,0\" stroke=\"rgb(203, 71, 121)\" stroke-width=\"2\" opacity=\"0.7\"/><path aria-label=\"lost_mean: 212.922; profit_mean: 23931.33494; S: 230\" role=\"graphics-symbol\" aria-roledescription=\"point\" transform=\"translate(193.56545454545454,40.45776706666666)\" d=\"M2.7386127875258306,0A2.7386127875258306,2.7386127875258306,0,1,1,-2.7386127875258306,0A2.7386127875258306,2.7386127875258306,0,1,1,2.7386127875258306,0\" stroke=\"rgb(203, 71, 121)\" stroke-width=\"2\" opacity=\"0.7\"/><path aria-label=\"lost_mean: 204.658; profit_mean: 24133.4571; S: 230\" role=\"graphics-symbol\" aria-roledescription=\"point\" transform=\"translate(186.05272727272725,39.11028599999993)\" d=\"M2.7386127875258306,0A2.7386127875258306,2.7386127875258306,0,1,1,-2.7386127875258306,0A2.7386127875258306,2.7386127875258306,0,1,1,2.7386127875258306,0\" stroke=\"rgb(203, 71, 121)\" stroke-width=\"2\" opacity=\"0.7\"/><path aria-label=\"lost_mean: 208.909; profit_mean: 24313.5096; S: 230\" role=\"graphics-symbol\" aria-roledescription=\"point\" transform=\"translate(189.91727272727272,37.909935999999945)\" d=\"M2.7386127875258306,0A2.7386127875258306,2.7386127875258306,0,1,1,-2.7386127875258306,0A2.7386127875258306,2.7386127875258306,0,1,1,2.7386127875258306,0\" stroke=\"rgb(203, 71, 121)\" stroke-width=\"2\" opacity=\"0.7\"/><path aria-label=\"lost_mean: 210.338; profit_mean: 24513.23324; S: 230\" role=\"graphics-symbol\" aria-roledescription=\"point\" transform=\"translate(191.21636363636364,36.57844506666665)\" d=\"M2.7386127875258306,0A2.7386127875258306,2.7386127875258306,0,1,1,-2.7386127875258306,0A2.7386127875258306,2.7386127875258306,0,1,1,2.7386127875258306,0\" stroke=\"rgb(203, 71, 121)\" stroke-width=\"2\" opacity=\"0.7\"/><path aria-label=\"lost_mean: 205.362; profit_mean: 24723.71622; S: 230\" role=\"graphics-symbol\" aria-roledescription=\"point\" transform=\"translate(186.69272727272727,35.17522520000001)\" d=\"M2.7386127875258306,0A2.7386127875258306,2.7386127875258306,0,1,1,-2.7386127875258306,0A2.7386127875258306,2.7386127875258306,0,1,1,2.7386127875258306,0\" stroke=\"rgb(203, 71, 121)\" stroke-width=\"2\" opacity=\"0.7\"/><path aria-label=\"lost_mean: 209.068; profit_mean: 24893.25202; S: 230\" role=\"graphics-symbol\" aria-roledescription=\"point\" transform=\"translate(190.0618181818182,34.04498653333334)\" d=\"M2.7386127875258306,0A2.7386127875258306,2.7386127875258306,0,1,1,-2.7386127875258306,0A2.7386127875258306,2.7386127875258306,0,1,1,2.7386127875258306,0\" stroke=\"rgb(203, 71, 121)\" stroke-width=\"2\" opacity=\"0.7\"/><path aria-label=\"lost_mean: 203.513; profit_mean: 25072.48474; S: 230\" role=\"graphics-symbol\" aria-roledescription=\"point\" transform=\"translate(185.01181818181817,32.85010173333336)\" d=\"M2.7386127875258306,0A2.7386127875258306,2.7386127875258306,0,1,1,-2.7386127875258306,0A2.7386127875258306,2.7386127875258306,0,1,1,2.7386127875258306,0\" stroke=\"rgb(203, 71, 121)\" stroke-width=\"2\" opacity=\"0.7\"/><path aria-label=\"lost_mean: 209.582; profit_mean: 25304.866; S: 230\" role=\"graphics-symbol\" aria-roledescription=\"point\" transform=\"translate(190.52909090909088,31.300893333333278)\" d=\"M2.7386127875258306,0A2.7386127875258306,2.7386127875258306,0,1,1,-2.7386127875258306,0A2.7386127875258306,2.7386127875258306,0,1,1,2.7386127875258306,0\" stroke=\"rgb(203, 71, 121)\" stroke-width=\"2\" opacity=\"0.7\"/><path aria-label=\"lost_mean: 207.375; profit_mean: 25494.53104; S: 230\" role=\"graphics-symbol\" aria-roledescription=\"point\" transform=\"translate(188.52272727272728,30.036459733333352)\" d=\"M2.7386127875258306,0A2.7386127875258306,2.7386127875258306,0,1,1,-2.7386127875258306,0A2.7386127875258306,2.7386127875258306,0,1,1,2.7386127875258306,0\" stroke=\"rgb(203, 71, 121)\" stroke-width=\"2\" opacity=\"0.7\"/><path aria-label=\"lost_mean: 213.617; profit_mean: 25675.98876; S: 230\" role=\"graphics-symbol\" aria-roledescription=\"point\" transform=\"translate(194.19727272727272,28.826741599999917)\" d=\"M2.7386127875258306,0A2.7386127875258306,2.7386127875258306,0,1,1,-2.7386127875258306,0A2.7386127875258306,2.7386127875258306,0,1,1,2.7386127875258306,0\" stroke=\"rgb(203, 71, 121)\" stroke-width=\"2\" opacity=\"0.7\"/><path aria-label=\"lost_mean: 211.105; profit_mean: 25860.4314; S: 230\" role=\"graphics-symbol\" aria-roledescription=\"point\" transform=\"translate(191.91363636363636,27.597124000000118)\" d=\"M2.7386127875258306,0A2.7386127875258306,2.7386127875258306,0,1,1,-2.7386127875258306,0A2.7386127875258306,2.7386127875258306,0,1,1,2.7386127875258306,0\" stroke=\"rgb(203, 71, 121)\" stroke-width=\"2\" opacity=\"0.7\"/><path aria-label=\"lost_mean: 211.899; profit_mean: 26045.22736; S: 230\" role=\"graphics-symbol\" aria-roledescription=\"point\" transform=\"translate(192.63545454545454,26.365150933333247)\" d=\"M2.7386127875258306,0A2.7386127875258306,2.7386127875258306,0,1,1,-2.7386127875258306,0A2.7386127875258306,2.7386127875258306,0,1,1,2.7386127875258306,0\" stroke=\"rgb(203, 71, 121)\" stroke-width=\"2\" opacity=\"0.7\"/><path aria-label=\"lost_mean: 209.897; profit_mean: 26250.9622; S: 230\" role=\"graphics-symbol\" aria-roledescription=\"point\" transform=\"translate(190.81545454545454,24.993585333333378)\" d=\"M2.7386127875258306,0A2.7386127875258306,2.7386127875258306,0,1,1,-2.7386127875258306,0A2.7386127875258306,2.7386127875258306,0,1,1,2.7386127875258306,0\" stroke=\"rgb(203, 71, 121)\" stroke-width=\"2\" opacity=\"0.7\"/><path aria-label=\"lost_mean: 207.112; profit_mean: 26437.4921; S: 230\" role=\"graphics-symbol\" aria-roledescription=\"point\" transform=\"translate(188.28363636363636,23.750052666666697)\" d=\"M2.7386127875258306,0A2.7386127875258306,2.7386127875258306,0,1,1,-2.7386127875258306,0A2.7386127875258306,2.7386127875258306,0,1,1,2.7386127875258306,0\" stroke=\"rgb(203, 71, 121)\" stroke-width=\"2\" opacity=\"0.7\"/><path aria-label=\"lost_mean: 211.603; profit_mean: 26632.55074; S: 230\" role=\"graphics-symbol\" aria-roledescription=\"point\" transform=\"translate(192.36636363636364,22.449661733333315)\" d=\"M2.7386127875258306,0A2.7386127875258306,2.7386127875258306,0,1,1,-2.7386127875258306,0A2.7386127875258306,2.7386127875258306,0,1,1,2.7386127875258306,0\" stroke=\"rgb(203, 71, 121)\" stroke-width=\"2\" opacity=\"0.7\"/><path aria-label=\"lost_mean: 207.462; profit_mean: 26849.68822; S: 230\" role=\"graphics-symbol\" aria-roledescription=\"point\" transform=\"translate(188.60181818181817,21.002078533333403)\" d=\"M2.7386127875258306,0A2.7386127875258306,2.7386127875258306,0,1,1,-2.7386127875258306,0A2.7386127875258306,2.7386127875258306,0,1,1,2.7386127875258306,0\" stroke=\"rgb(203, 71, 121)\" stroke-width=\"2\" opacity=\"0.7\"/><path aria-label=\"lost_mean: 208.06; profit_mean: 26986.20152; S: 230\" role=\"graphics-symbol\" aria-roledescription=\"point\" transform=\"translate(189.14545454545456,20.091989866666626)\" d=\"M2.7386127875258306,0A2.7386127875258306,2.7386127875258306,0,1,1,-2.7386127875258306,0A2.7386127875258306,2.7386127875258306,0,1,1,2.7386127875258306,0\" stroke=\"rgb(203, 71, 121)\" stroke-width=\"2\" opacity=\"0.7\"/><path aria-label=\"lost_mean: 211.373; profit_mean: 27210.9626; S: 230\" role=\"graphics-symbol\" aria-roledescription=\"point\" transform=\"translate(192.15727272727273,18.593582666666663)\" d=\"M2.7386127875258306,0A2.7386127875258306,2.7386127875258306,0,1,1,-2.7386127875258306,0A2.7386127875258306,2.7386127875258306,0,1,1,2.7386127875258306,0\" stroke=\"rgb(203, 71, 121)\" stroke-width=\"2\" opacity=\"0.7\"/><path aria-label=\"lost_mean: 209.007; profit_mean: 27379.30342; S: 230\" role=\"graphics-symbol\" aria-roledescription=\"point\" transform=\"translate(190.00636363636366,17.47131053333333)\" d=\"M2.7386127875258306,0A2.7386127875258306,2.7386127875258306,0,1,1,-2.7386127875258306,0A2.7386127875258306,2.7386127875258306,0,1,1,2.7386127875258306,0\" stroke=\"rgb(203, 71, 121)\" stroke-width=\"2\" opacity=\"0.7\"/><path aria-label=\"lost_mean: 209.649; profit_mean: 27577.56424; S: 230\" role=\"graphics-symbol\" aria-roledescription=\"point\" transform=\"translate(190.59,16.149571733333268)\" d=\"M2.7386127875258306,0A2.7386127875258306,2.7386127875258306,0,1,1,-2.7386127875258306,0A2.7386127875258306,2.7386127875258306,0,1,1,2.7386127875258306,0\" stroke=\"rgb(203, 71, 121)\" stroke-width=\"2\" opacity=\"0.7\"/><path aria-label=\"lost_mean: 214.797; profit_mean: 27737.125; S: 230\" role=\"graphics-symbol\" aria-roledescription=\"point\" transform=\"translate(195.26999999999998,15.085833333333355)\" d=\"M2.7386127875258306,0A2.7386127875258306,2.7386127875258306,0,1,1,-2.7386127875258306,0A2.7386127875258306,2.7386127875258306,0,1,1,2.7386127875258306,0\" stroke=\"rgb(203, 71, 121)\" stroke-width=\"2\" opacity=\"0.7\"/><path aria-label=\"lost_mean: 206.251; profit_mean: 27960.0228; S: 230\" role=\"graphics-symbol\" aria-roledescription=\"point\" transform=\"translate(187.5009090909091,13.599847999999914)\" d=\"M2.7386127875258306,0A2.7386127875258306,2.7386127875258306,0,1,1,-2.7386127875258306,0A2.7386127875258306,2.7386127875258306,0,1,1,2.7386127875258306,0\" stroke=\"rgb(203, 71, 121)\" stroke-width=\"2\" opacity=\"0.7\"/><path aria-label=\"lost_mean: 210.033; profit_mean: 28142.1751; S: 230\" role=\"graphics-symbol\" aria-roledescription=\"point\" transform=\"translate(190.93909090909088,12.38549933333335)\" d=\"M2.7386127875258306,0A2.7386127875258306,2.7386127875258306,0,1,1,-2.7386127875258306,0A2.7386127875258306,2.7386127875258306,0,1,1,2.7386127875258306,0\" stroke=\"rgb(203, 71, 121)\" stroke-width=\"2\" opacity=\"0.7\"/><path aria-label=\"lost_mean: 212.303; profit_mean: 28348.16308; S: 230\" role=\"graphics-symbol\" aria-roledescription=\"point\" transform=\"translate(193.00272727272727,11.012246133333292)\" d=\"M2.7386127875258306,0A2.7386127875258306,2.7386127875258306,0,1,1,-2.7386127875258306,0A2.7386127875258306,2.7386127875258306,0,1,1,2.7386127875258306,0\" stroke=\"rgb(203, 71, 121)\" stroke-width=\"2\" opacity=\"0.7\"/><path aria-label=\"lost_mean: 213.015; profit_mean: 28522.19442; S: 230\" role=\"graphics-symbol\" aria-roledescription=\"point\" transform=\"translate(193.64999999999998,9.852037200000051)\" d=\"M2.7386127875258306,0A2.7386127875258306,2.7386127875258306,0,1,1,-2.7386127875258306,0A2.7386127875258306,2.7386127875258306,0,1,1,2.7386127875258306,0\" stroke=\"rgb(203, 71, 121)\" stroke-width=\"2\" opacity=\"0.7\"/><path aria-label=\"lost_mean: 211.821; profit_mean: 28751.30444; S: 230\" role=\"graphics-symbol\" aria-roledescription=\"point\" transform=\"translate(192.56454545454545,8.32463706666664)\" d=\"M2.7386127875258306,0A2.7386127875258306,2.7386127875258306,0,1,1,-2.7386127875258306,0A2.7386127875258306,2.7386127875258306,0,1,1,2.7386127875258306,0\" stroke=\"rgb(203, 71, 121)\" stroke-width=\"2\" opacity=\"0.7\"/><path aria-label=\"lost_mean: 214.842; profit_mean: 28915.40138; S: 230\" role=\"graphics-symbol\" aria-roledescription=\"point\" transform=\"translate(195.31090909090912,7.23065746666669)\" d=\"M2.7386127875258306,0A2.7386127875258306,2.7386127875258306,0,1,1,-2.7386127875258306,0A2.7386127875258306,2.7386127875258306,0,1,1,2.7386127875258306,0\" stroke=\"rgb(203, 71, 121)\" stroke-width=\"2\" opacity=\"0.7\"/><path aria-label=\"lost_mean: 210.381; profit_mean: 29121.0862; S: 230\" role=\"graphics-symbol\" aria-roledescription=\"point\" transform=\"translate(191.25545454545454,5.8594253333333235)\" d=\"M2.7386127875258306,0A2.7386127875258306,2.7386127875258306,0,1,1,-2.7386127875258306,0A2.7386127875258306,2.7386127875258306,0,1,1,2.7386127875258306,0\" stroke=\"rgb(203, 71, 121)\" stroke-width=\"2\" opacity=\"0.7\"/></g><g class=\"mark-group role-legend\" role=\"graphics-symbol\" aria-roledescription=\"legend\" aria-label=\"Gradient legend titled 'S' for stroke color with values from 230 to 230\"><g transform=\"translate(218,0)\"><path class=\"background\" aria-hidden=\"true\" d=\"M0,0h36v216h-36Z\" pointer-events=\"none\"/><g><g class=\"mark-group role-legend-entry\"><g transform=\"translate(0,16)\"><path class=\"background\" aria-hidden=\"true\" d=\"M0,0h0v0h0Z\" pointer-events=\"none\"/><g><g class=\"mark-rect role-legend-gradient\" pointer-events=\"none\"><path d=\"M0,0h16v200h-16Z\" fill=\"url(#gradient_0)\" stroke=\"#ddd\" stroke-width=\"0\" opacity=\"0.7\"/></g><g class=\"mark-text role-legend-label\" pointer-events=\"none\"><text text-anchor=\"start\" transform=\"translate(18,103)\" font-family=\"sans-serif\" font-size=\"10px\" fill=\"#000\" opacity=\"1\">230</text></g></g><path class=\"foreground\" aria-hidden=\"true\" d=\"\" pointer-events=\"none\" display=\"none\"/></g></g><g class=\"mark-text role-legend-title\" pointer-events=\"none\"><text text-anchor=\"start\" transform=\"translate(0,9)\" font-family=\"sans-serif\" font-size=\"11px\" font-weight=\"bold\" fill=\"#000\" opacity=\"1\">S</text></g></g><path class=\"foreground\" aria-hidden=\"true\" d=\"\" pointer-events=\"none\" display=\"none\"/></g></g></g><path class=\"foreground\" aria-hidden=\"true\" d=\"\" display=\"none\"/></g></g></g><defs><linearGradient id=\"gradient_0\" x1=\"0\" x2=\"0\" y1=\"1\" y2=\"0\"><stop offset=\"0\" stop-color=\"rgb(13, 8, 135)\"/><stop offset=\"0.05\" stop-color=\"rgb(43, 6, 148)\"/><stop offset=\"0.1\" stop-color=\"rgb(66, 3, 157)\"/><stop offset=\"0.15\" stop-color=\"rgb(87, 2, 164)\"/><stop offset=\"0.2\" stop-color=\"rgb(106, 0, 168)\"/><stop offset=\"0.25\" stop-color=\"rgb(126, 3, 168)\"/><stop offset=\"0.3\" stop-color=\"rgb(144, 13, 164)\"/><stop offset=\"0.35\" stop-color=\"rgb(162, 28, 155)\"/><stop offset=\"0.4\" stop-color=\"rgb(177, 42, 144)\"/><stop offset=\"0.45\" stop-color=\"rgb(191, 57, 132)\"/><stop offset=\"0.5\" stop-color=\"rgb(203, 71, 121)\"/><stop offset=\"0.55\" stop-color=\"rgb(215, 86, 109)\"/><stop offset=\"0.6\" stop-color=\"rgb(225, 100, 98)\"/><stop offset=\"0.65\" stop-color=\"rgb(234, 116, 87)\"/><stop offset=\"0.7\" stop-color=\"rgb(242, 131, 76)\"/><stop offset=\"0.75\" stop-color=\"rgb(248, 149, 65)\"/><stop offset=\"0.8\" stop-color=\"rgb(252, 166, 54)\"/><stop offset=\"0.85\" stop-color=\"rgb(254, 186, 44)\"/><stop offset=\"0.9\" stop-color=\"rgb(252, 206, 37)\"/><stop offset=\"0.95\" stop-color=\"rgb(247, 227, 38)\"/><stop offset=\"1\" stop-color=\"rgb(240, 249, 33)\"/></linearGradient></defs></svg>\n"
      ],
      "text/plain": [
       "@vlplot(\n",
       "    mark=\"point\",\n",
       "    encoding={\n",
       "        x={\n",
       "            field=\"lost_mean\"\n",
       "        },\n",
       "        y={\n",
       "            field=\"profit_mean\"\n",
       "        },\n",
       "        color={\n",
       "            scale={\n",
       "                scheme=\"plasma\"\n",
       "            },\n",
       "            field=\"S\"\n",
       "        }\n",
       "    },\n",
       "    data={\n",
       "        values=...\n",
       "    }\n",
       ")"
      ]
     },
     "execution_count": 40,
     "metadata": {},
     "output_type": "execute_result"
    }
   ],
   "source": [
    "using VegaLite\n",
    "df |> @vlplot(:point, x=:lost_mean, y=:profit_mean, color={:S, scale={scheme=:plasma}})"
   ]
  },
  {
   "cell_type": "code",
   "execution_count": null,
   "metadata": {},
   "outputs": [],
   "source": []
  },
  {
   "cell_type": "code",
   "execution_count": 41,
   "metadata": {},
   "outputs": [
    {
     "ename": "LoadError",
     "evalue": "ArgumentError: Package Polynomials not found in current path.\n- Run `import Pkg; Pkg.add(\"Polynomials\")` to install the Polynomials package.",
     "output_type": "error",
     "traceback": [
      "ArgumentError: Package Polynomials not found in current path.\n- Run `import Pkg; Pkg.add(\"Polynomials\")` to install the Polynomials package.",
      "",
      "Stacktrace:",
      " [1] macro expansion",
      "   @ ./loading.jl:1163 [inlined]",
      " [2] macro expansion",
      "   @ ./lock.jl:223 [inlined]",
      " [3] require(into::Module, mod::Symbol)",
      "   @ Base ./loading.jl:1144"
     ]
    }
   ],
   "source": [
    "using Polynomials\n",
    "# s_range - przedział wartości dla parametru s\n",
    "# S_range - przedział wartości dla parametru S\n",
    "# n_runs - liczba powtórzeń dla każdej kombinacji s i S\n",
    "function simulateMultiRuns(m, s_range, S_range, n_runs;\n",
    "    h = 0.1,\n",
    "    c = 4.0,\n",
    "    p = 0.50,\n",
    "    K = 100,\n",
    "    k = 1.0,\n",
    "    init_S = 100,\n",
    "    average_demand = 20)\n",
    "    \n",
    "    results = Dict{Tuple{Float64,Float64}, Vector{NamedTuple{(:profit, :lost_orders, :warehouse_levels), Tuple{Float64, Float64, Vector{Int64}}}}}()\n",
    "    \n",
    "    for s in s_range\n",
    "        for S in S_range\n",
    "            runs = Vector{NamedTuple{(:profit, :lost_orders, :warehouse_levels), Tuple{Float64, Float64, Vector{Int64}}}}(undef, n_runs)\n",
    "            for i in 1:n_runs\n",
    "                runs[i] = simulateOneRun(m, s, S; h=h, c=c, p=p, K=K, k=k, init_S=init_S, average_demand=average_demand)\n",
    "            end\n",
    "            results[(s,S)] = runs\n",
    "        end\n",
    "    end\n",
    "    \n",
    "    return results\n",
    "end\n",
    "\n",
    "# Funkcja do obliczenia współczynników kierunkowych regresji liniowej dla każdej pary parametrów s i S.\n",
    "# results - wyniki z funkcji simulateMultiRuns()\n",
    "function linearRegression(results)\n",
    "    s_range, S_range = keys(results)\n",
    "    n_runs = length(results[(s_range, S_range)])\n",
    "    profits = zeros(length(keys(results)), n_runs)\n",
    "    \n",
    "    for (i, (s, S)) in enumerate(keys(results))\n",
    "        for j in 1:n_runs\n",
    "            profits[i,j] = results[(s, S)][j].profit\n",
    "        end\n",
    "    end\n",
    "    coeffs = zeros(length(s_range), length(S_range))\n",
    "    for i in 1:length(s_range)\n",
    "        coeffs[i,:] = polyfit(S_range, profits[i,:], 1)[1]\n",
    "    end\n",
    "    return coeffs\n",
    "end\n"
   ]
  },
  {
   "cell_type": "code",
   "execution_count": 42,
   "metadata": {},
   "outputs": [
    {
     "ename": "LoadError",
     "evalue": "ArgumentError: Package Polynomials not found in current path.\n- Run `import Pkg; Pkg.add(\"Polynomials\")` to install the Polynomials package.",
     "output_type": "error",
     "traceback": [
      "ArgumentError: Package Polynomials not found in current path.\n- Run `import Pkg; Pkg.add(\"Polynomials\")` to install the Polynomials package.",
      "",
      "Stacktrace:",
      " [1] macro expansion",
      "   @ ./loading.jl:1163 [inlined]",
      " [2] macro expansion",
      "   @ ./lock.jl:223 [inlined]",
      " [3] require(into::Module, mod::Symbol)",
      "   @ Base ./loading.jl:1144"
     ]
    }
   ],
   "source": [
    "using Polynomials\n",
    "s_range = 1:10\n",
    "S_range = 100:110\n",
    "results = simulateMultiRuns(30, s_range, S_range, 5)\n",
    "print(results)\n",
    "# print(\"---\")\n",
    "# print(keys(results))\n",
    "# coeffs = linearRegression(results)\n",
    "# using Plots\n",
    "# heatmap(S_range, s_range, coeffs', xlabel=\"S\", ylabel=\"s\", title=\"Współczynniki kierunkowe regresji\")\n"
   ]
  },
  {
   "cell_type": "markdown",
   "metadata": {},
   "source": [
    "Przeprowadź Analizę wrażliwości: zmiana parametrów a rozwiązanie optymalne (RO)\n",
    "– czy zmiana parametru (np.wzrost ceny produktu o 5%/ wzrost wynagrodzenia godzinowego ) spowoduje zmianę R.O., czy ciągle ono pozostanie takie samo? (5+)\n"
   ]
  },
  {
   "cell_type": "code",
   "execution_count": null,
   "metadata": {},
   "outputs": [],
   "source": []
  },
  {
   "cell_type": "code",
   "execution_count": null,
   "metadata": {},
   "outputs": [],
   "source": []
  },
  {
   "cell_type": "code",
   "execution_count": null,
   "metadata": {},
   "outputs": [],
   "source": []
  },
  {
   "cell_type": "code",
   "execution_count": null,
   "metadata": {},
   "outputs": [],
   "source": []
  },
  {
   "cell_type": "code",
   "execution_count": null,
   "metadata": {},
   "outputs": [],
   "source": []
  }
 ],
 "metadata": {
  "kernelspec": {
   "display_name": "Julia 1.8.5",
   "language": "julia",
   "name": "julia-1.8"
  },
  "language_info": {
   "file_extension": ".jl",
   "mimetype": "application/julia",
   "name": "julia",
   "version": "1.8.5"
  }
 },
 "nbformat": 4,
 "nbformat_minor": 2
}
