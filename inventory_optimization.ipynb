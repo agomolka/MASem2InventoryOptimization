{
 "cells": [
  {
   "cell_type": "code",
   "execution_count": 89,
   "metadata": {},
   "outputs": [],
   "source": [
    "# in the terminal, enter julia, then ] and the command, e.g. add DataFrames\n",
    "using Random, Distributions, Statistics, DataFrames \n",
    "using Random\n",
    "using Distributions\n",
    "using Statistics"
   ]
  },
  {
   "cell_type": "code",
   "execution_count": 49,
   "metadata": {},
   "outputs": [
    {
     "data": {
      "text/plain": [
       "0.0"
      ]
     },
     "execution_count": 49,
     "metadata": {},
     "output_type": "execute_result"
    }
   ],
   "source": [
    "# We can change these variables or use it as follows\n",
    "h = 0.1 #storage cost\n",
    "c = 2.0 #unit profit\n",
    "p = 0.50 #probability of delivery\n",
    "K = 40 # fixed order cost\n",
    "k = 1.0 # variable order cost\n",
    "\n",
    "average_demand = 20\n",
    "\n",
    "s = 30 # we will use such s that provide profit sharing\n",
    "S = 50 \n",
    "\n",
    "X = 100  # the beginning of the first day of the simulation\n",
    "profit = 0.0 "
   ]
  },
  {
   "cell_type": "code",
   "execution_count": 50,
   "metadata": {},
   "outputs": [
    {
     "data": {
      "text/plain": [
       "Poisson{Float64}(λ=20.0)"
      ]
     },
     "execution_count": 50,
     "metadata": {},
     "output_type": "execute_result"
    }
   ],
   "source": [
    "pois = Distributions.Poisson(average_demand)\n",
    "#the disadvantage of Poisson distribution is low variance, in reality the demand is more chaotic\n",
    "#you can choose a different distribution to make it real, e.g. normal...."
   ]
  },
  {
   "cell_type": "code",
   "execution_count": 51,
   "metadata": {},
   "outputs": [
    {
     "data": {
      "text/plain": [
       "5-element Vector{Int64}:\n",
       " 15\n",
       " 19\n",
       " 30\n",
       " 14\n",
       " 21"
      ]
     },
     "execution_count": 51,
     "metadata": {},
     "output_type": "execute_result"
    }
   ],
   "source": [
    "rand(pois, 5)"
   ]
  },
  {
   "cell_type": "code",
   "execution_count": 52,
   "metadata": {},
   "outputs": [
    {
     "data": {
      "text/plain": [
       "simulateOneRun (generic function with 1 method)"
      ]
     },
     "execution_count": 52,
     "metadata": {},
     "output_type": "execute_result"
    }
   ],
   "source": [
    "# m - number of days\n",
    "# s - reorder point\n",
    "# S - target warehouse volume\n",
    "## we're going to iterate over these functions over s, S, and 'm' - is the number of days\n",
    "function simulateOneRun(m, s, S;\n",
    "    h = 0.1, #storage cost\n",
    "    c = 4.0, #unit profit\n",
    "    p = 0.50, #probability of delivery\n",
    "    K = 100, # fixed order cost\n",
    "    k = 1.0, # variable order cost\n",
    "    init_S = 100, #initial warehouse level\n",
    "    average_demand = 20)\n",
    "    Xⱼ = init_S\n",
    "    local Yj\n",
    "    profit = 0.0\n",
    "    lost_orders = 0.0\n",
    "    warehouse_levels = Int[]\n",
    "    pois = Distributions.Poisson(average_demand)\n",
    "    for day in 1:m\n",
    "        if Xⱼ < s  # reorder point\n",
    "            if rand() < p\n",
    "                profit -= K + (S-Xⱼ)*k\n",
    "                Xⱼ = S\n",
    "            end\n",
    "        end\n",
    "        push!(warehouse_levels, Xⱼ)\n",
    "        demand = rand(pois)\n",
    "        sales = min(Xⱼ, demand)\n",
    "        Xⱼ -= sales\n",
    "        @assert Xⱼ >= 0\n",
    "        lost_order = demand - sales # failed to provide\n",
    "        @assert lost_order >= 0 \n",
    "        profit += sales*c - (Xⱼ-sales)*h  # storage costs\n",
    "        lost_orders += lost_order\n",
    "        # can add one_objective = 0.75 * profit + 0.01 * lost_orders\n",
    "         ## or you can multiply by the 'unit cost of stockout' parameter/ k_unit_stockout\n",
    "         ## k_unit_stockout = k_jedn_stockout\n",
    "         ## one_objective = 0.75 * profit + 0.01 *lost_orders * k_unit_stockout\n",
    "    end\n",
    "    \n",
    "    (profit=profit, lost_orders=lost_orders,\n",
    "        warehouse_levels=warehouse_levels)\n",
    "    ## then ....(profit=profit, lost_orders=lost_orders,\n",
    "    ##    warehouse_levels=warehouse_levels, one_objective=one_objective)\n",
    "    \n",
    "end"
   ]
  },
  {
   "cell_type": "code",
   "execution_count": 53,
   "metadata": {},
   "outputs": [
    {
     "data": {
      "text/plain": [
       "(profit = 769.6, lost_orders = 14.0, warehouse_levels = [100, 83, 62, 45, 25, 4, 200, 175, 158, 138, 114, 86, 70, 52, 35, 25, 200, 178, 161, 143])"
      ]
     },
     "execution_count": 53,
     "metadata": {},
     "output_type": "execute_result"
    }
   ],
   "source": [
    "res = simulateOneRun(20,20,200)\n",
    "## exemplary execution of the function\n",
    "## how the warehouse warehouse_levels developed every day - we look at the state of the warehouse and its deliveries\n",
    "## it may not be '200' here -> possible error"
   ]
  },
  {
   "cell_type": "code",
   "execution_count": 54,
   "metadata": {},
   "outputs": [
    {
     "name": "stdout",
     "output_type": "stream",
     "text": [
      "Day 1: 100\n",
      "Day 2: 86\n",
      "Day 3: 62\n",
      "Day 4: 35\n",
      "Day 5: 18\n",
      "Day 6: 6\n",
      "Day 7: 0\n",
      "Day 8: 200\n",
      "Day 9: 177\n",
      "Day 10: 165\n",
      "Day 11: 147\n",
      "Day 12: 120\n",
      "Day 13: 110\n",
      "Day 14: 88\n",
      "Day 15: 73\n",
      "Day 16: 58\n",
      "Day 17: 39\n",
      "Day 18: 26\n",
      "Day 19: 10\n",
      "Day 20: 200\n"
     ]
    }
   ],
   "source": [
    "res = simulateOneRun(20, 20, 200)\n",
    "for (day, level) in enumerate(res.warehouse_levels)\n",
    "    println(\"Day $day: $level\")\n",
    "end"
   ]
  },
  {
   "cell_type": "code",
   "execution_count": 55,
   "metadata": {},
   "outputs": [
    {
     "name": "stdout",
     "output_type": "stream",
     "text": [
      "res.profit = 576.2000000000003\n",
      "res.lost_orders = 43.0\n",
      "res.warehouse_levels = [100, 86, 62, 35, 18, 6, 0, 200, 177, 165, 147, 120, 110, 88, 73, 58, 39, 26, 10, 200]\n"
     ]
    }
   ],
   "source": [
    "@show res.profit\n",
    "@show res.lost_orders\n",
    "@show res.warehouse_levels;"
   ]
  },
  {
   "cell_type": "code",
   "execution_count": 56,
   "metadata": {},
   "outputs": [
    {
     "data": {
      "image/svg+xml": [
       "<?xml version=\"1.0\" encoding=\"utf-8\"?>\n",
       "<svg xmlns=\"http://www.w3.org/2000/svg\" xmlns:xlink=\"http://www.w3.org/1999/xlink\" width=\"600\" height=\"400\" viewBox=\"0 0 2400 1600\">\n",
       "<defs>\n",
       "  <clipPath id=\"clip190\">\n",
       "    <rect x=\"0\" y=\"0\" width=\"2400\" height=\"1600\"/>\n",
       "  </clipPath>\n",
       "</defs>\n",
       "<path clip-path=\"url(#clip190)\" d=\"M0 1600 L2400 1600 L2400 0 L0 0  Z\" fill=\"#ffffff\" fill-rule=\"evenodd\" fill-opacity=\"1\"/>\n",
       "<defs>\n",
       "  <clipPath id=\"clip191\">\n",
       "    <rect x=\"480\" y=\"0\" width=\"1681\" height=\"1600\"/>\n",
       "  </clipPath>\n",
       "</defs>\n",
       "<path clip-path=\"url(#clip190)\" d=\"M170.857 1486.45 L2352.76 1486.45 L2352.76 47.2441 L170.857 47.2441  Z\" fill=\"#ffffff\" fill-rule=\"evenodd\" fill-opacity=\"1\"/>\n",
       "<defs>\n",
       "  <clipPath id=\"clip192\">\n",
       "    <rect x=\"170\" y=\"47\" width=\"2183\" height=\"1440\"/>\n",
       "  </clipPath>\n",
       "</defs>\n",
       "<polyline clip-path=\"url(#clip192)\" style=\"stroke:#000000; stroke-linecap:round; stroke-linejoin:round; stroke-width:2; stroke-opacity:0.1; fill:none\" points=\"516.526,1486.45 516.526,47.2441 \"/>\n",
       "<polyline clip-path=\"url(#clip192)\" style=\"stroke:#000000; stroke-linecap:round; stroke-linejoin:round; stroke-width:2; stroke-opacity:0.1; fill:none\" points=\"871.421,1486.45 871.421,47.2441 \"/>\n",
       "<polyline clip-path=\"url(#clip192)\" style=\"stroke:#000000; stroke-linecap:round; stroke-linejoin:round; stroke-width:2; stroke-opacity:0.1; fill:none\" points=\"1226.32,1486.45 1226.32,47.2441 \"/>\n",
       "<polyline clip-path=\"url(#clip192)\" style=\"stroke:#000000; stroke-linecap:round; stroke-linejoin:round; stroke-width:2; stroke-opacity:0.1; fill:none\" points=\"1581.21,1486.45 1581.21,47.2441 \"/>\n",
       "<polyline clip-path=\"url(#clip192)\" style=\"stroke:#000000; stroke-linecap:round; stroke-linejoin:round; stroke-width:2; stroke-opacity:0.1; fill:none\" points=\"1936.11,1486.45 1936.11,47.2441 \"/>\n",
       "<polyline clip-path=\"url(#clip192)\" style=\"stroke:#000000; stroke-linecap:round; stroke-linejoin:round; stroke-width:2; stroke-opacity:0.1; fill:none\" points=\"2291,1486.45 2291,47.2441 \"/>\n",
       "<polyline clip-path=\"url(#clip190)\" style=\"stroke:#000000; stroke-linecap:round; stroke-linejoin:round; stroke-width:4; stroke-opacity:1; fill:none\" points=\"170.857,1486.45 2352.76,1486.45 \"/>\n",
       "<polyline clip-path=\"url(#clip190)\" style=\"stroke:#000000; stroke-linecap:round; stroke-linejoin:round; stroke-width:4; stroke-opacity:1; fill:none\" points=\"516.526,1486.45 516.526,1467.55 \"/>\n",
       "<polyline clip-path=\"url(#clip190)\" style=\"stroke:#000000; stroke-linecap:round; stroke-linejoin:round; stroke-width:4; stroke-opacity:1; fill:none\" points=\"871.421,1486.45 871.421,1467.55 \"/>\n",
       "<polyline clip-path=\"url(#clip190)\" style=\"stroke:#000000; stroke-linecap:round; stroke-linejoin:round; stroke-width:4; stroke-opacity:1; fill:none\" points=\"1226.32,1486.45 1226.32,1467.55 \"/>\n",
       "<polyline clip-path=\"url(#clip190)\" style=\"stroke:#000000; stroke-linecap:round; stroke-linejoin:round; stroke-width:4; stroke-opacity:1; fill:none\" points=\"1581.21,1486.45 1581.21,1467.55 \"/>\n",
       "<polyline clip-path=\"url(#clip190)\" style=\"stroke:#000000; stroke-linecap:round; stroke-linejoin:round; stroke-width:4; stroke-opacity:1; fill:none\" points=\"1936.11,1486.45 1936.11,1467.55 \"/>\n",
       "<polyline clip-path=\"url(#clip190)\" style=\"stroke:#000000; stroke-linecap:round; stroke-linejoin:round; stroke-width:4; stroke-opacity:1; fill:none\" points=\"2291,1486.45 2291,1467.55 \"/>\n",
       "<path clip-path=\"url(#clip190)\" d=\"M506.804 1514.29 L525.16 1514.29 L525.16 1518.22 L511.086 1518.22 L511.086 1526.7 Q512.105 1526.35 513.123 1526.19 Q514.142 1526 515.16 1526 Q520.947 1526 524.327 1529.17 Q527.706 1532.34 527.706 1537.76 Q527.706 1543.34 524.234 1546.44 Q520.762 1549.52 514.442 1549.52 Q512.267 1549.52 509.998 1549.15 Q507.753 1548.78 505.345 1548.04 L505.345 1543.34 Q507.429 1544.47 509.651 1545.03 Q511.873 1545.58 514.35 1545.58 Q518.354 1545.58 520.692 1543.48 Q523.03 1541.37 523.03 1537.76 Q523.03 1534.15 520.692 1532.04 Q518.354 1529.94 514.35 1529.94 Q512.475 1529.94 510.6 1530.35 Q508.748 1530.77 506.804 1531.65 L506.804 1514.29 Z\" fill=\"#000000\" fill-rule=\"evenodd\" fill-opacity=\"1\" /><path clip-path=\"url(#clip190)\" d=\"M846.109 1544.91 L853.748 1544.91 L853.748 1518.55 L845.438 1520.21 L845.438 1515.95 L853.702 1514.29 L858.378 1514.29 L858.378 1544.91 L866.016 1544.91 L866.016 1548.85 L846.109 1548.85 L846.109 1544.91 Z\" fill=\"#000000\" fill-rule=\"evenodd\" fill-opacity=\"1\" /><path clip-path=\"url(#clip190)\" d=\"M885.461 1517.37 Q881.85 1517.37 880.021 1520.93 Q878.215 1524.47 878.215 1531.6 Q878.215 1538.71 880.021 1542.27 Q881.85 1545.82 885.461 1545.82 Q889.095 1545.82 890.901 1542.27 Q892.729 1538.71 892.729 1531.6 Q892.729 1524.47 890.901 1520.93 Q889.095 1517.37 885.461 1517.37 M885.461 1513.66 Q891.271 1513.66 894.326 1518.27 Q897.405 1522.85 897.405 1531.6 Q897.405 1540.33 894.326 1544.94 Q891.271 1549.52 885.461 1549.52 Q879.651 1549.52 876.572 1544.94 Q873.516 1540.33 873.516 1531.6 Q873.516 1522.85 876.572 1518.27 Q879.651 1513.66 885.461 1513.66 Z\" fill=\"#000000\" fill-rule=\"evenodd\" fill-opacity=\"1\" /><path clip-path=\"url(#clip190)\" d=\"M1201.5 1544.91 L1209.14 1544.91 L1209.14 1518.55 L1200.83 1520.21 L1200.83 1515.95 L1209.09 1514.29 L1213.77 1514.29 L1213.77 1544.91 L1221.41 1544.91 L1221.41 1548.85 L1201.5 1548.85 L1201.5 1544.91 Z\" fill=\"#000000\" fill-rule=\"evenodd\" fill-opacity=\"1\" /><path clip-path=\"url(#clip190)\" d=\"M1230.9 1514.29 L1249.26 1514.29 L1249.26 1518.22 L1235.18 1518.22 L1235.18 1526.7 Q1236.2 1526.35 1237.22 1526.19 Q1238.24 1526 1239.26 1526 Q1245.04 1526 1248.42 1529.17 Q1251.8 1532.34 1251.8 1537.76 Q1251.8 1543.34 1248.33 1546.44 Q1244.86 1549.52 1238.54 1549.52 Q1236.36 1549.52 1234.09 1549.15 Q1231.85 1548.78 1229.44 1548.04 L1229.44 1543.34 Q1231.53 1544.47 1233.75 1545.03 Q1235.97 1545.58 1238.45 1545.58 Q1242.45 1545.58 1244.79 1543.48 Q1247.13 1541.37 1247.13 1537.76 Q1247.13 1534.15 1244.79 1532.04 Q1242.45 1529.94 1238.45 1529.94 Q1236.57 1529.94 1234.7 1530.35 Q1232.84 1530.77 1230.9 1531.65 L1230.9 1514.29 Z\" fill=\"#000000\" fill-rule=\"evenodd\" fill-opacity=\"1\" /><path clip-path=\"url(#clip190)\" d=\"M1559.99 1544.91 L1576.31 1544.91 L1576.31 1548.85 L1554.36 1548.85 L1554.36 1544.91 Q1557.02 1542.16 1561.61 1537.53 Q1566.21 1532.88 1567.39 1531.53 Q1569.64 1529.01 1570.52 1527.27 Q1571.42 1525.51 1571.42 1523.82 Q1571.42 1521.07 1569.48 1519.33 Q1567.56 1517.6 1564.45 1517.6 Q1562.25 1517.6 1559.8 1518.36 Q1557.37 1519.13 1554.59 1520.68 L1554.59 1515.95 Q1557.42 1514.82 1559.87 1514.24 Q1562.32 1513.66 1564.36 1513.66 Q1569.73 1513.66 1572.93 1516.35 Q1576.12 1519.03 1576.12 1523.52 Q1576.12 1525.65 1575.31 1527.57 Q1574.52 1529.47 1572.42 1532.07 Q1571.84 1532.74 1568.74 1535.95 Q1565.63 1539.15 1559.99 1544.91 Z\" fill=\"#000000\" fill-rule=\"evenodd\" fill-opacity=\"1\" /><path clip-path=\"url(#clip190)\" d=\"M1596.12 1517.37 Q1592.51 1517.37 1590.68 1520.93 Q1588.87 1524.47 1588.87 1531.6 Q1588.87 1538.71 1590.68 1542.27 Q1592.51 1545.82 1596.12 1545.82 Q1599.75 1545.82 1601.56 1542.27 Q1603.39 1538.71 1603.39 1531.6 Q1603.39 1524.47 1601.56 1520.93 Q1599.75 1517.37 1596.12 1517.37 M1596.12 1513.66 Q1601.93 1513.66 1604.99 1518.27 Q1608.06 1522.85 1608.06 1531.6 Q1608.06 1540.33 1604.99 1544.94 Q1601.93 1549.52 1596.12 1549.52 Q1590.31 1549.52 1587.23 1544.94 Q1584.18 1540.33 1584.18 1531.6 Q1584.18 1522.85 1587.23 1518.27 Q1590.31 1513.66 1596.12 1513.66 Z\" fill=\"#000000\" fill-rule=\"evenodd\" fill-opacity=\"1\" /><path clip-path=\"url(#clip190)\" d=\"M1915.38 1544.91 L1931.7 1544.91 L1931.7 1548.85 L1909.75 1548.85 L1909.75 1544.91 Q1912.42 1542.16 1917 1537.53 Q1921.61 1532.88 1922.79 1531.53 Q1925.03 1529.01 1925.91 1527.27 Q1926.81 1525.51 1926.81 1523.82 Q1926.81 1521.07 1924.87 1519.33 Q1922.95 1517.6 1919.85 1517.6 Q1917.65 1517.6 1915.19 1518.36 Q1912.76 1519.13 1909.99 1520.68 L1909.99 1515.95 Q1912.81 1514.82 1915.26 1514.24 Q1917.72 1513.66 1919.75 1513.66 Q1925.12 1513.66 1928.32 1516.35 Q1931.51 1519.03 1931.51 1523.52 Q1931.51 1525.65 1930.7 1527.57 Q1929.92 1529.47 1927.81 1532.07 Q1927.23 1532.74 1924.13 1535.95 Q1921.03 1539.15 1915.38 1544.91 Z\" fill=\"#000000\" fill-rule=\"evenodd\" fill-opacity=\"1\" /><path clip-path=\"url(#clip190)\" d=\"M1941.56 1514.29 L1959.92 1514.29 L1959.92 1518.22 L1945.84 1518.22 L1945.84 1526.7 Q1946.86 1526.35 1947.88 1526.19 Q1948.9 1526 1949.92 1526 Q1955.7 1526 1959.08 1529.17 Q1962.46 1532.34 1962.46 1537.76 Q1962.46 1543.34 1958.99 1546.44 Q1955.52 1549.52 1949.2 1549.52 Q1947.02 1549.52 1944.75 1549.15 Q1942.51 1548.78 1940.1 1548.04 L1940.1 1543.34 Q1942.18 1544.47 1944.41 1545.03 Q1946.63 1545.58 1949.11 1545.58 Q1953.11 1545.58 1955.45 1543.48 Q1957.79 1541.37 1957.79 1537.76 Q1957.79 1534.15 1955.45 1532.04 Q1953.11 1529.94 1949.11 1529.94 Q1947.23 1529.94 1945.36 1530.35 Q1943.5 1530.77 1941.56 1531.65 L1941.56 1514.29 Z\" fill=\"#000000\" fill-rule=\"evenodd\" fill-opacity=\"1\" /><path clip-path=\"url(#clip190)\" d=\"M2279.85 1530.21 Q2283.2 1530.93 2285.08 1533.2 Q2286.98 1535.47 2286.98 1538.8 Q2286.98 1543.92 2283.46 1546.72 Q2279.94 1549.52 2273.46 1549.52 Q2271.28 1549.52 2268.97 1549.08 Q2266.68 1548.66 2264.22 1547.81 L2264.22 1543.29 Q2266.17 1544.43 2268.48 1545.01 Q2270.8 1545.58 2273.32 1545.58 Q2277.72 1545.58 2280.01 1543.85 Q2282.32 1542.11 2282.32 1538.8 Q2282.32 1535.75 2280.17 1534.03 Q2278.04 1532.3 2274.22 1532.3 L2270.19 1532.3 L2270.19 1528.45 L2274.41 1528.45 Q2277.86 1528.45 2279.68 1527.09 Q2281.51 1525.7 2281.51 1523.11 Q2281.51 1520.45 2279.62 1519.03 Q2277.74 1517.6 2274.22 1517.6 Q2272.3 1517.6 2270.1 1518.01 Q2267.9 1518.43 2265.26 1519.31 L2265.26 1515.14 Q2267.93 1514.4 2270.24 1514.03 Q2272.58 1513.66 2274.64 1513.66 Q2279.96 1513.66 2283.06 1516.09 Q2286.17 1518.5 2286.17 1522.62 Q2286.17 1525.49 2284.52 1527.48 Q2282.88 1529.45 2279.85 1530.21 Z\" fill=\"#000000\" fill-rule=\"evenodd\" fill-opacity=\"1\" /><path clip-path=\"url(#clip190)\" d=\"M2305.84 1517.37 Q2302.23 1517.37 2300.4 1520.93 Q2298.6 1524.47 2298.6 1531.6 Q2298.6 1538.71 2300.4 1542.27 Q2302.23 1545.82 2305.84 1545.82 Q2309.48 1545.82 2311.28 1542.27 Q2313.11 1538.71 2313.11 1531.6 Q2313.11 1524.47 2311.28 1520.93 Q2309.48 1517.37 2305.84 1517.37 M2305.84 1513.66 Q2311.65 1513.66 2314.71 1518.27 Q2317.79 1522.85 2317.79 1531.6 Q2317.79 1540.33 2314.71 1544.94 Q2311.65 1549.52 2305.84 1549.52 Q2300.03 1549.52 2296.95 1544.94 Q2293.9 1540.33 2293.9 1531.6 Q2293.9 1522.85 2296.95 1518.27 Q2300.03 1513.66 2305.84 1513.66 Z\" fill=\"#000000\" fill-rule=\"evenodd\" fill-opacity=\"1\" /><polyline clip-path=\"url(#clip192)\" style=\"stroke:#000000; stroke-linecap:round; stroke-linejoin:round; stroke-width:2; stroke-opacity:0.1; fill:none\" points=\"170.857,1225.75 2352.76,1225.75 \"/>\n",
       "<polyline clip-path=\"url(#clip192)\" style=\"stroke:#000000; stroke-linecap:round; stroke-linejoin:round; stroke-width:2; stroke-opacity:0.1; fill:none\" points=\"170.857,846.49 2352.76,846.49 \"/>\n",
       "<polyline clip-path=\"url(#clip192)\" style=\"stroke:#000000; stroke-linecap:round; stroke-linejoin:round; stroke-width:2; stroke-opacity:0.1; fill:none\" points=\"170.857,467.233 2352.76,467.233 \"/>\n",
       "<polyline clip-path=\"url(#clip192)\" style=\"stroke:#000000; stroke-linecap:round; stroke-linejoin:round; stroke-width:2; stroke-opacity:0.1; fill:none\" points=\"170.857,87.9763 2352.76,87.9763 \"/>\n",
       "<polyline clip-path=\"url(#clip190)\" style=\"stroke:#000000; stroke-linecap:round; stroke-linejoin:round; stroke-width:4; stroke-opacity:1; fill:none\" points=\"170.857,1486.45 170.857,47.2441 \"/>\n",
       "<polyline clip-path=\"url(#clip190)\" style=\"stroke:#000000; stroke-linecap:round; stroke-linejoin:round; stroke-width:4; stroke-opacity:1; fill:none\" points=\"170.857,1225.75 189.755,1225.75 \"/>\n",
       "<polyline clip-path=\"url(#clip190)\" style=\"stroke:#000000; stroke-linecap:round; stroke-linejoin:round; stroke-width:4; stroke-opacity:1; fill:none\" points=\"170.857,846.49 189.755,846.49 \"/>\n",
       "<polyline clip-path=\"url(#clip190)\" style=\"stroke:#000000; stroke-linecap:round; stroke-linejoin:round; stroke-width:4; stroke-opacity:1; fill:none\" points=\"170.857,467.233 189.755,467.233 \"/>\n",
       "<polyline clip-path=\"url(#clip190)\" style=\"stroke:#000000; stroke-linecap:round; stroke-linejoin:round; stroke-width:4; stroke-opacity:1; fill:none\" points=\"170.857,87.9763 189.755,87.9763 \"/>\n",
       "<path clip-path=\"url(#clip190)\" d=\"M82.7975 1208.47 L101.154 1208.47 L101.154 1212.4 L87.0799 1212.4 L87.0799 1220.87 Q88.0984 1220.53 89.1169 1220.36 Q90.1354 1220.18 91.1539 1220.18 Q96.941 1220.18 100.321 1223.35 Q103.7 1226.52 103.7 1231.94 Q103.7 1237.52 100.228 1240.62 Q96.7558 1243.7 90.4364 1243.7 Q88.2604 1243.7 85.9919 1243.33 Q83.7466 1242.96 81.3392 1242.22 L81.3392 1237.52 Q83.4225 1238.65 85.6447 1239.21 Q87.8669 1239.76 90.3438 1239.76 Q94.3484 1239.76 96.6863 1237.66 Q99.0243 1235.55 99.0243 1231.94 Q99.0243 1228.33 96.6863 1226.22 Q94.3484 1224.11 90.3438 1224.11 Q88.4688 1224.11 86.5938 1224.53 Q84.7419 1224.95 82.7975 1225.83 L82.7975 1208.47 Z\" fill=\"#000000\" fill-rule=\"evenodd\" fill-opacity=\"1\" /><path clip-path=\"url(#clip190)\" d=\"M122.913 1211.55 Q119.302 1211.55 117.473 1215.11 Q115.668 1218.65 115.668 1225.78 Q115.668 1232.89 117.473 1236.45 Q119.302 1239.99 122.913 1239.99 Q126.547 1239.99 128.353 1236.45 Q130.182 1232.89 130.182 1225.78 Q130.182 1218.65 128.353 1215.11 Q126.547 1211.55 122.913 1211.55 M122.913 1207.84 Q128.723 1207.84 131.779 1212.45 Q134.857 1217.03 134.857 1225.78 Q134.857 1234.51 131.779 1239.11 Q128.723 1243.7 122.913 1243.7 Q117.103 1243.7 114.024 1239.11 Q110.969 1234.51 110.969 1225.78 Q110.969 1217.03 114.024 1212.45 Q117.103 1207.84 122.913 1207.84 Z\" fill=\"#000000\" fill-rule=\"evenodd\" fill-opacity=\"1\" /><path clip-path=\"url(#clip190)\" d=\"M53.3995 859.835 L61.0384 859.835 L61.0384 833.469 L52.7282 835.136 L52.7282 830.877 L60.9921 829.21 L65.668 829.21 L65.668 859.835 L73.3068 859.835 L73.3068 863.77 L53.3995 863.77 L53.3995 859.835 Z\" fill=\"#000000\" fill-rule=\"evenodd\" fill-opacity=\"1\" /><path clip-path=\"url(#clip190)\" d=\"M92.7512 832.289 Q89.1401 832.289 87.3114 835.853 Q85.5058 839.395 85.5058 846.525 Q85.5058 853.631 87.3114 857.196 Q89.1401 860.738 92.7512 860.738 Q96.3854 860.738 98.1909 857.196 Q100.02 853.631 100.02 846.525 Q100.02 839.395 98.1909 835.853 Q96.3854 832.289 92.7512 832.289 M92.7512 828.585 Q98.5613 828.585 101.617 833.191 Q104.696 837.775 104.696 846.525 Q104.696 855.251 101.617 859.858 Q98.5613 864.441 92.7512 864.441 Q86.941 864.441 83.8623 859.858 Q80.8068 855.251 80.8068 846.525 Q80.8068 837.775 83.8623 833.191 Q86.941 828.585 92.7512 828.585 Z\" fill=\"#000000\" fill-rule=\"evenodd\" fill-opacity=\"1\" /><path clip-path=\"url(#clip190)\" d=\"M122.913 832.289 Q119.302 832.289 117.473 835.853 Q115.668 839.395 115.668 846.525 Q115.668 853.631 117.473 857.196 Q119.302 860.738 122.913 860.738 Q126.547 860.738 128.353 857.196 Q130.182 853.631 130.182 846.525 Q130.182 839.395 128.353 835.853 Q126.547 832.289 122.913 832.289 M122.913 828.585 Q128.723 828.585 131.779 833.191 Q134.857 837.775 134.857 846.525 Q134.857 855.251 131.779 859.858 Q128.723 864.441 122.913 864.441 Q117.103 864.441 114.024 859.858 Q110.969 855.251 110.969 846.525 Q110.969 837.775 114.024 833.191 Q117.103 828.585 122.913 828.585 Z\" fill=\"#000000\" fill-rule=\"evenodd\" fill-opacity=\"1\" /><path clip-path=\"url(#clip190)\" d=\"M53.3995 480.578 L61.0384 480.578 L61.0384 454.212 L52.7282 455.879 L52.7282 451.62 L60.9921 449.953 L65.668 449.953 L65.668 480.578 L73.3068 480.578 L73.3068 484.513 L53.3995 484.513 L53.3995 480.578 Z\" fill=\"#000000\" fill-rule=\"evenodd\" fill-opacity=\"1\" /><path clip-path=\"url(#clip190)\" d=\"M82.7975 449.953 L101.154 449.953 L101.154 453.888 L87.0799 453.888 L87.0799 462.36 Q88.0984 462.013 89.1169 461.851 Q90.1354 461.666 91.1539 461.666 Q96.941 461.666 100.321 464.837 Q103.7 468.009 103.7 473.425 Q103.7 479.004 100.228 482.106 Q96.7558 485.184 90.4364 485.184 Q88.2604 485.184 85.9919 484.814 Q83.7466 484.444 81.3392 483.703 L81.3392 479.004 Q83.4225 480.138 85.6447 480.694 Q87.8669 481.249 90.3438 481.249 Q94.3484 481.249 96.6863 479.143 Q99.0243 477.036 99.0243 473.425 Q99.0243 469.814 96.6863 467.708 Q94.3484 465.601 90.3438 465.601 Q88.4688 465.601 86.5938 466.018 Q84.7419 466.434 82.7975 467.314 L82.7975 449.953 Z\" fill=\"#000000\" fill-rule=\"evenodd\" fill-opacity=\"1\" /><path clip-path=\"url(#clip190)\" d=\"M122.913 453.032 Q119.302 453.032 117.473 456.597 Q115.668 460.138 115.668 467.268 Q115.668 474.374 117.473 477.939 Q119.302 481.481 122.913 481.481 Q126.547 481.481 128.353 477.939 Q130.182 474.374 130.182 467.268 Q130.182 460.138 128.353 456.597 Q126.547 453.032 122.913 453.032 M122.913 449.328 Q128.723 449.328 131.779 453.935 Q134.857 458.518 134.857 467.268 Q134.857 475.995 131.779 480.601 Q128.723 485.184 122.913 485.184 Q117.103 485.184 114.024 480.601 Q110.969 475.995 110.969 467.268 Q110.969 458.518 114.024 453.935 Q117.103 449.328 122.913 449.328 Z\" fill=\"#000000\" fill-rule=\"evenodd\" fill-opacity=\"1\" /><path clip-path=\"url(#clip190)\" d=\"M56.6171 101.321 L72.9365 101.321 L72.9365 105.256 L50.9921 105.256 L50.9921 101.321 Q53.6541 98.5665 58.2375 93.9369 Q62.8439 89.2841 64.0245 87.9416 Q66.2698 85.4184 67.1494 83.6823 Q68.0522 81.9231 68.0522 80.2333 Q68.0522 77.4786 66.1078 75.7425 Q64.1865 74.0064 61.0847 74.0064 Q58.8856 74.0064 56.4319 74.7703 Q54.0014 75.5342 51.2236 77.0851 L51.2236 72.3629 Q54.0477 71.2287 56.5014 70.65 Q58.955 70.0713 60.9921 70.0713 Q66.3624 70.0713 69.5568 72.7565 Q72.7513 75.4416 72.7513 79.9323 Q72.7513 82.062 71.9411 83.9832 Q71.1541 85.8814 69.0476 88.474 Q68.4689 89.1453 65.367 92.3628 Q62.2652 95.5573 56.6171 101.321 Z\" fill=\"#000000\" fill-rule=\"evenodd\" fill-opacity=\"1\" /><path clip-path=\"url(#clip190)\" d=\"M92.7512 73.775 Q89.1401 73.775 87.3114 77.3398 Q85.5058 80.8814 85.5058 88.011 Q85.5058 95.1174 87.3114 98.6822 Q89.1401 102.224 92.7512 102.224 Q96.3854 102.224 98.1909 98.6822 Q100.02 95.1174 100.02 88.011 Q100.02 80.8814 98.1909 77.3398 Q96.3854 73.775 92.7512 73.775 M92.7512 70.0713 Q98.5613 70.0713 101.617 74.6777 Q104.696 79.261 104.696 88.011 Q104.696 96.7378 101.617 101.344 Q98.5613 105.928 92.7512 105.928 Q86.941 105.928 83.8623 101.344 Q80.8068 96.7378 80.8068 88.011 Q80.8068 79.261 83.8623 74.6777 Q86.941 70.0713 92.7512 70.0713 Z\" fill=\"#000000\" fill-rule=\"evenodd\" fill-opacity=\"1\" /><path clip-path=\"url(#clip190)\" d=\"M122.913 73.775 Q119.302 73.775 117.473 77.3398 Q115.668 80.8814 115.668 88.011 Q115.668 95.1174 117.473 98.6822 Q119.302 102.224 122.913 102.224 Q126.547 102.224 128.353 98.6822 Q130.182 95.1174 130.182 88.011 Q130.182 80.8814 128.353 77.3398 Q126.547 73.775 122.913 73.775 M122.913 70.0713 Q128.723 70.0713 131.779 74.6777 Q134.857 79.261 134.857 88.011 Q134.857 96.7378 131.779 101.344 Q128.723 105.928 122.913 105.928 Q117.103 105.928 114.024 101.344 Q110.969 96.7378 110.969 88.011 Q110.969 79.261 114.024 74.6777 Q117.103 70.0713 122.913 70.0713 Z\" fill=\"#000000\" fill-rule=\"evenodd\" fill-opacity=\"1\" /><polyline clip-path=\"url(#clip192)\" style=\"stroke:#009af9; stroke-linecap:round; stroke-linejoin:round; stroke-width:4; stroke-opacity:1; fill:none\" points=\"232.609,846.49 303.588,1005.78 374.568,1149.9 445.547,87.9763 516.526,209.338 587.505,406.552 658.484,573.425 729.463,679.617 800.442,854.075 871.421,998.193 942.401,1149.9 1013.38,1294.01 1084.36,1445.72 1155.34,87.9763 1226.32,209.338 1297.3,330.701 1368.28,527.914 1439.25,679.617 1510.23,846.49 1581.21,945.097 1652.19,1066.46 1723.17,1202.99 1794.15,87.9763 1865.13,277.605 1936.11,429.307 2007.09,520.329 2078.07,679.617 2149.05,846.49 2220.02,967.852 2291,1119.55 \"/>\n",
       "<path clip-path=\"url(#clip190)\" d=\"M2009.41 1438.47 L2280.03 1438.47 L2280.03 1334.79 L2009.41 1334.79  Z\" fill=\"#ffffff\" fill-rule=\"evenodd\" fill-opacity=\"1\"/>\n",
       "<polyline clip-path=\"url(#clip190)\" style=\"stroke:#000000; stroke-linecap:round; stroke-linejoin:round; stroke-width:4; stroke-opacity:1; fill:none\" points=\"2009.41,1438.47 2280.03,1438.47 2280.03,1334.79 2009.41,1334.79 2009.41,1438.47 \"/>\n",
       "<polyline clip-path=\"url(#clip190)\" style=\"stroke:#009af9; stroke-linecap:round; stroke-linejoin:round; stroke-width:4; stroke-opacity:1; fill:none\" points=\"2033.65,1386.63 2179.11,1386.63 \"/>\n",
       "<path clip-path=\"url(#clip190)\" d=\"M2217.19 1406.32 Q2215.39 1410.95 2213.68 1412.36 Q2211.96 1413.78 2209.09 1413.78 L2205.69 1413.78 L2205.69 1410.21 L2208.19 1410.21 Q2209.95 1410.21 2210.92 1409.38 Q2211.89 1408.54 2213.07 1405.44 L2213.84 1403.5 L2203.35 1377.99 L2207.87 1377.99 L2215.97 1398.27 L2224.07 1377.99 L2228.58 1377.99 L2217.19 1406.32 Z\" fill=\"#000000\" fill-rule=\"evenodd\" fill-opacity=\"1\" /><path clip-path=\"url(#clip190)\" d=\"M2235.88 1399.98 L2243.51 1399.98 L2243.51 1373.61 L2235.2 1375.28 L2235.2 1371.02 L2243.47 1369.35 L2248.14 1369.35 L2248.14 1399.98 L2255.78 1399.98 L2255.78 1403.91 L2235.88 1403.91 L2235.88 1399.98 Z\" fill=\"#000000\" fill-rule=\"evenodd\" fill-opacity=\"1\" /></svg>\n"
      ]
     },
     "execution_count": 56,
     "metadata": {},
     "output_type": "execute_result"
    }
   ],
   "source": [
    "Random.seed!(10)\n",
    "res = simulateOneRun(30,50,200)\n",
    "\n",
    "# using PyPlot\n",
    "# plot(res.warehouse_levels)\n",
    "# show()\n",
    "using Plots\n",
    "plot(res.warehouse_levels)"
   ]
  },
  {
   "cell_type": "code",
   "execution_count": 74,
   "metadata": {},
   "outputs": [
    {
     "data": {
      "text/html": [
       "<div><div style = \"float: left;\"><span>4×3 DataFrame</span></div><div style = \"clear: both;\"></div></div><div class = \"data-frame\" style = \"overflow-x: scroll;\"><table class = \"data-frame\" style = \"margin-bottom: 6px;\"><thead><tr class = \"header\"><th class = \"rowNumber\" style = \"font-weight: bold; text-align: right;\">Row</th><th style = \"text-align: left;\">profit</th><th style = \"text-align: left;\">lost_orders</th><th style = \"text-align: left;\">warehouse_levels</th></tr><tr class = \"subheader headerLastRow\"><th class = \"rowNumber\" style = \"font-weight: bold; text-align: right;\"></th><th title = \"Float64\" style = \"text-align: left;\">Float64</th><th title = \"Float64\" style = \"text-align: left;\">Float64</th><th title = \"Vector{Int64}\" style = \"text-align: left;\">Array…</th></tr></thead><tbody><tr><td class = \"rowNumber\" style = \"font-weight: bold; text-align: right;\">1</td><td style = \"text-align: right;\">255.0</td><td style = \"text-align: right;\">95.0</td><td style = \"text-align: left;\">[100, 80, 57, 26, 7, 10, 10, 0, 0, 0]</td></tr><tr><td class = \"rowNumber\" style = \"font-weight: bold; text-align: right;\">2</td><td style = \"text-align: right;\">317.9</td><td style = \"text-align: right;\">63.0</td><td style = \"text-align: left;\">[100, 85, 66, 47, 27, 6, 0, 0, 0, 10]</td></tr><tr><td class = \"rowNumber\" style = \"font-weight: bold; text-align: right;\">3</td><td style = \"text-align: right;\">238.3</td><td style = \"text-align: right;\">73.0</td><td style = \"text-align: left;\">[100, 81, 60, 43, 25, 10, 0, 0, 0, 10]</td></tr><tr><td class = \"rowNumber\" style = \"font-weight: bold; text-align: right;\">4</td><td style = \"text-align: right;\">252.5</td><td style = \"text-align: right;\">81.0</td><td style = \"text-align: left;\">[100, 80, 62, 40, 13, 0, 0, 0, 10, 10]</td></tr></tbody></table></div>"
      ],
      "text/latex": [
       "\\begin{tabular}{r|ccc}\n",
       "\t& profit & lost\\_orders & warehouse\\_levels\\\\\n",
       "\t\\hline\n",
       "\t& Float64 & Float64 & Array…\\\\\n",
       "\t\\hline\n",
       "\t1 & 255.0 & 95.0 & [100, 80, 57, 26, 7, 10, 10, 0, 0, 0] \\\\\n",
       "\t2 & 317.9 & 63.0 & [100, 85, 66, 47, 27, 6, 0, 0, 0, 10] \\\\\n",
       "\t3 & 238.3 & 73.0 & [100, 81, 60, 43, 25, 10, 0, 0, 0, 10] \\\\\n",
       "\t4 & 252.5 & 81.0 & [100, 80, 62, 40, 13, 0, 0, 0, 10, 10] \\\\\n",
       "\\end{tabular}\n"
      ],
      "text/plain": [
       "\u001b[1m4×3 DataFrame\u001b[0m\n",
       "\u001b[1m Row \u001b[0m│\u001b[1m profit  \u001b[0m\u001b[1m lost_orders \u001b[0m\u001b[1m warehouse_levels                  \u001b[0m\n",
       "     │\u001b[90m Float64 \u001b[0m\u001b[90m Float64     \u001b[0m\u001b[90m Vector{Int64}                     \u001b[0m\n",
       "─────┼─────────────────────────────────────────────────────────\n",
       "   1 │   255.0         95.0  [100, 80, 57, 26, 7, 10, 10, 0, …\n",
       "   2 │   317.9         63.0  [100, 85, 66, 47, 27, 6, 0, 0, 0…\n",
       "   3 │   238.3         73.0  [100, 81, 60, 43, 25, 10, 0, 0, …\n",
       "   4 │   252.5         81.0  [100, 80, 62, 40, 13, 0, 0, 0, 1…"
      ]
     },
     "execution_count": 74,
     "metadata": {},
     "output_type": "execute_result"
    }
   ],
   "source": [
    "using DataFrames\n",
    "res = DataFrame(simulateOneRun(10,5,10) for n in 1:4)"
   ]
  },
  {
   "cell_type": "code",
   "execution_count": 75,
   "metadata": {},
   "outputs": [
    {
     "data": {
      "text/plain": [
       "(m = 30, s = 50, S = 100, N = 100, profit_mean = 949.6369999999998, profit_std = 108.61257963769921, lost_mean = 34.73, lost_std = 34.93742024439317)"
      ]
     },
     "execution_count": 75,
     "metadata": {},
     "output_type": "execute_result"
    }
   ],
   "source": [
    "## average stockouts lost_mean\n",
    "## \n",
    "function run_sims(m,s,S,N=100)\n",
    "    df = DataFrame(simulateOneRun(m,s,S) for n in 1:N)\n",
    "    (\n",
    "        m=m,\n",
    "        s=s,\n",
    "        S=S,\n",
    "        N=N,\n",
    "        profit_mean = mean(df.profit),\n",
    "        profit_std = std(df.profit),\n",
    "        lost_mean = mean(df.lost_orders),\n",
    "        lost_std = std(df.lost_orders)\n",
    "    )\n",
    "end\n",
    "\n",
    "\n",
    "run_sims(30,50,100)"
   ]
  },
  {
   "cell_type": "code",
   "execution_count": 76,
   "metadata": {},
   "outputs": [
    {
     "data": {
      "text/html": [
       "<div><div style = \"float: left;\"><span>90×8 DataFrame</span></div><div style = \"float: right;\"><span style = \"font-style: italic;\">65 rows omitted</span></div><div style = \"clear: both;\"></div></div><div class = \"data-frame\" style = \"overflow-x: scroll;\"><table class = \"data-frame\" style = \"margin-bottom: 6px;\"><thead><tr class = \"header\"><th class = \"rowNumber\" style = \"font-weight: bold; text-align: right;\">Row</th><th style = \"text-align: left;\">m</th><th style = \"text-align: left;\">s</th><th style = \"text-align: left;\">S</th><th style = \"text-align: left;\">N</th><th style = \"text-align: left;\">profit_mean</th><th style = \"text-align: left;\">profit_std</th><th style = \"text-align: left;\">lost_mean</th><th style = \"text-align: left;\">lost_std</th></tr><tr class = \"subheader headerLastRow\"><th class = \"rowNumber\" style = \"font-weight: bold; text-align: right;\"></th><th title = \"Int64\" style = \"text-align: left;\">Int64</th><th title = \"Int64\" style = \"text-align: left;\">Int64</th><th title = \"Int64\" style = \"text-align: left;\">Int64</th><th title = \"Int64\" style = \"text-align: left;\">Int64</th><th title = \"Float64\" style = \"text-align: left;\">Float64</th><th title = \"Float64\" style = \"text-align: left;\">Float64</th><th title = \"Float64\" style = \"text-align: left;\">Float64</th><th title = \"Float64\" style = \"text-align: left;\">Float64</th></tr></thead><tbody><tr><td class = \"rowNumber\" style = \"font-weight: bold; text-align: right;\">1</td><td style = \"text-align: right;\">90</td><td style = \"text-align: right;\">25</td><td style = \"text-align: right;\">100</td><td style = \"text-align: right;\">100</td><td style = \"text-align: right;\">2971.25</td><td style = \"text-align: right;\">187.955</td><td style = \"text-align: right;\">216.66</td><td style = \"text-align: right;\">86.947</td></tr><tr><td class = \"rowNumber\" style = \"font-weight: bold; text-align: right;\">2</td><td style = \"text-align: right;\">90</td><td style = \"text-align: right;\">25</td><td style = \"text-align: right;\">200</td><td style = \"text-align: right;\">100</td><td style = \"text-align: right;\">3579.8</td><td style = \"text-align: right;\">143.172</td><td style = \"text-align: right;\">118.92</td><td style = \"text-align: right;\">62.0491</td></tr><tr><td class = \"rowNumber\" style = \"font-weight: bold; text-align: right;\">3</td><td style = \"text-align: right;\">90</td><td style = \"text-align: right;\">25</td><td style = \"text-align: right;\">300</td><td style = \"text-align: right;\">100</td><td style = \"text-align: right;\">3488.41</td><td style = \"text-align: right;\">233.743</td><td style = \"text-align: right;\">81.2</td><td style = \"text-align: right;\">61.1899</td></tr><tr><td class = \"rowNumber\" style = \"font-weight: bold; text-align: right;\">4</td><td style = \"text-align: right;\">90</td><td style = \"text-align: right;\">25</td><td style = \"text-align: right;\">400</td><td style = \"text-align: right;\">100</td><td style = \"text-align: right;\">3081.23</td><td style = \"text-align: right;\">179.821</td><td style = \"text-align: right;\">60.11</td><td style = \"text-align: right;\">45.8938</td></tr><tr><td class = \"rowNumber\" style = \"font-weight: bold; text-align: right;\">5</td><td style = \"text-align: right;\">90</td><td style = \"text-align: right;\">25</td><td style = \"text-align: right;\">500</td><td style = \"text-align: right;\">100</td><td style = \"text-align: right;\">2630.79</td><td style = \"text-align: right;\">167.024</td><td style = \"text-align: right;\">50.72</td><td style = \"text-align: right;\">46.5774</td></tr><tr><td class = \"rowNumber\" style = \"font-weight: bold; text-align: right;\">6</td><td style = \"text-align: right;\">90</td><td style = \"text-align: right;\">25</td><td style = \"text-align: right;\">600</td><td style = \"text-align: right;\">100</td><td style = \"text-align: right;\">2546.72</td><td style = \"text-align: right;\">258.47</td><td style = \"text-align: right;\">34.57</td><td style = \"text-align: right;\">38.6717</td></tr><tr><td class = \"rowNumber\" style = \"font-weight: bold; text-align: right;\">7</td><td style = \"text-align: right;\">90</td><td style = \"text-align: right;\">25</td><td style = \"text-align: right;\">700</td><td style = \"text-align: right;\">100</td><td style = \"text-align: right;\">1683.64</td><td style = \"text-align: right;\">168.939</td><td style = \"text-align: right;\">33.52</td><td style = \"text-align: right;\">31.9461</td></tr><tr><td class = \"rowNumber\" style = \"font-weight: bold; text-align: right;\">8</td><td style = \"text-align: right;\">90</td><td style = \"text-align: right;\">25</td><td style = \"text-align: right;\">800</td><td style = \"text-align: right;\">100</td><td style = \"text-align: right;\">1200.97</td><td style = \"text-align: right;\">281.166</td><td style = \"text-align: right;\">32.05</td><td style = \"text-align: right;\">34.9673</td></tr><tr><td class = \"rowNumber\" style = \"font-weight: bold; text-align: right;\">9</td><td style = \"text-align: right;\">90</td><td style = \"text-align: right;\">25</td><td style = \"text-align: right;\">900</td><td style = \"text-align: right;\">100</td><td style = \"text-align: right;\">1367.4</td><td style = \"text-align: right;\">302.588</td><td style = \"text-align: right;\">30.45</td><td style = \"text-align: right;\">37.8336</td></tr><tr><td class = \"rowNumber\" style = \"font-weight: bold; text-align: right;\">10</td><td style = \"text-align: right;\">90</td><td style = \"text-align: right;\">25</td><td style = \"text-align: right;\">1000</td><td style = \"text-align: right;\">100</td><td style = \"text-align: right;\">419.791</td><td style = \"text-align: right;\">221.17</td><td style = \"text-align: right;\">24.22</td><td style = \"text-align: right;\">28.7952</td></tr><tr><td class = \"rowNumber\" style = \"font-weight: bold; text-align: right;\">11</td><td style = \"text-align: right;\">90</td><td style = \"text-align: right;\">50</td><td style = \"text-align: right;\">100</td><td style = \"text-align: right;\">100</td><td style = \"text-align: right;\">2661.4</td><td style = \"text-align: right;\">141.737</td><td style = \"text-align: right;\">118.74</td><td style = \"text-align: right;\">73.5476</td></tr><tr><td class = \"rowNumber\" style = \"font-weight: bold; text-align: right;\">12</td><td style = \"text-align: right;\">90</td><td style = \"text-align: right;\">50</td><td style = \"text-align: right;\">200</td><td style = \"text-align: right;\">100</td><td style = \"text-align: right;\">3534.32</td><td style = \"text-align: right;\">159.418</td><td style = \"text-align: right;\">49.21</td><td style = \"text-align: right;\">49.326</td></tr><tr><td class = \"rowNumber\" style = \"font-weight: bold; text-align: right;\">13</td><td style = \"text-align: right;\">90</td><td style = \"text-align: right;\">50</td><td style = \"text-align: right;\">300</td><td style = \"text-align: right;\">100</td><td style = \"text-align: right;\">3394.56</td><td style = \"text-align: right;\">188.263</td><td style = \"text-align: right;\">44.28</td><td style = \"text-align: right;\">55.6025</td></tr><tr><td style = \"text-align: right;\">&vellip;</td><td style = \"text-align: right;\">&vellip;</td><td style = \"text-align: right;\">&vellip;</td><td style = \"text-align: right;\">&vellip;</td><td style = \"text-align: right;\">&vellip;</td><td style = \"text-align: right;\">&vellip;</td><td style = \"text-align: right;\">&vellip;</td><td style = \"text-align: right;\">&vellip;</td><td style = \"text-align: right;\">&vellip;</td></tr><tr><td class = \"rowNumber\" style = \"font-weight: bold; text-align: right;\">79</td><td style = \"text-align: right;\">90</td><td style = \"text-align: right;\">225</td><td style = \"text-align: right;\">700</td><td style = \"text-align: right;\">100</td><td style = \"text-align: right;\">808.23</td><td style = \"text-align: right;\">207.025</td><td style = \"text-align: right;\">0.93</td><td style = \"text-align: right;\">6.2446</td></tr><tr><td class = \"rowNumber\" style = \"font-weight: bold; text-align: right;\">80</td><td style = \"text-align: right;\">90</td><td style = \"text-align: right;\">225</td><td style = \"text-align: right;\">800</td><td style = \"text-align: right;\">100</td><td style = \"text-align: right;\">534.7</td><td style = \"text-align: right;\">304.107</td><td style = \"text-align: right;\">0.1</td><td style = \"text-align: right;\">1.0</td></tr><tr><td class = \"rowNumber\" style = \"font-weight: bold; text-align: right;\">81</td><td style = \"text-align: right;\">90</td><td style = \"text-align: right;\">225</td><td style = \"text-align: right;\">900</td><td style = \"text-align: right;\">100</td><td style = \"text-align: right;\">-243.113</td><td style = \"text-align: right;\">201.205</td><td style = \"text-align: right;\">0.48</td><td style = \"text-align: right;\">4.07128</td></tr><tr><td class = \"rowNumber\" style = \"font-weight: bold; text-align: right;\">82</td><td style = \"text-align: right;\">90</td><td style = \"text-align: right;\">225</td><td style = \"text-align: right;\">1000</td><td style = \"text-align: right;\">100</td><td style = \"text-align: right;\">-954.18</td><td style = \"text-align: right;\">197.85</td><td style = \"text-align: right;\">1.32</td><td style = \"text-align: right;\">7.08517</td></tr><tr><td class = \"rowNumber\" style = \"font-weight: bold; text-align: right;\">83</td><td style = \"text-align: right;\">90</td><td style = \"text-align: right;\">250</td><td style = \"text-align: right;\">300</td><td style = \"text-align: right;\">100</td><td style = \"text-align: right;\">1026.94</td><td style = \"text-align: right;\">254.714</td><td style = \"text-align: right;\">0.4</td><td style = \"text-align: right;\">2.81411</td></tr><tr><td class = \"rowNumber\" style = \"font-weight: bold; text-align: right;\">84</td><td style = \"text-align: right;\">90</td><td style = \"text-align: right;\">250</td><td style = \"text-align: right;\">400</td><td style = \"text-align: right;\">100</td><td style = \"text-align: right;\">1651.14</td><td style = \"text-align: right;\">172.608</td><td style = \"text-align: right;\">0.1</td><td style = \"text-align: right;\">1.0</td></tr><tr><td class = \"rowNumber\" style = \"font-weight: bold; text-align: right;\">85</td><td style = \"text-align: right;\">90</td><td style = \"text-align: right;\">250</td><td style = \"text-align: right;\">500</td><td style = \"text-align: right;\">100</td><td style = \"text-align: right;\">1488.85</td><td style = \"text-align: right;\">226.597</td><td style = \"text-align: right;\">0.21</td><td style = \"text-align: right;\">1.67148</td></tr><tr><td class = \"rowNumber\" style = \"font-weight: bold; text-align: right;\">86</td><td style = \"text-align: right;\">90</td><td style = \"text-align: right;\">250</td><td style = \"text-align: right;\">600</td><td style = \"text-align: right;\">100</td><td style = \"text-align: right;\">1213.38</td><td style = \"text-align: right;\">196.798</td><td style = \"text-align: right;\">2.18</td><td style = \"text-align: right;\">13.8326</td></tr><tr><td class = \"rowNumber\" style = \"font-weight: bold; text-align: right;\">87</td><td style = \"text-align: right;\">90</td><td style = \"text-align: right;\">250</td><td style = \"text-align: right;\">700</td><td style = \"text-align: right;\">100</td><td style = \"text-align: right;\">799.033</td><td style = \"text-align: right;\">176.642</td><td style = \"text-align: right;\">1.76</td><td style = \"text-align: right;\">15.1158</td></tr><tr><td class = \"rowNumber\" style = \"font-weight: bold; text-align: right;\">88</td><td style = \"text-align: right;\">90</td><td style = \"text-align: right;\">250</td><td style = \"text-align: right;\">800</td><td style = \"text-align: right;\">100</td><td style = \"text-align: right;\">168.525</td><td style = \"text-align: right;\">342.23</td><td style = \"text-align: right;\">0.03</td><td style = \"text-align: right;\">0.3</td></tr><tr><td class = \"rowNumber\" style = \"font-weight: bold; text-align: right;\">89</td><td style = \"text-align: right;\">90</td><td style = \"text-align: right;\">250</td><td style = \"text-align: right;\">900</td><td style = \"text-align: right;\">100</td><td style = \"text-align: right;\">-275.165</td><td style = \"text-align: right;\">195.892</td><td style = \"text-align: right;\">0.96</td><td style = \"text-align: right;\">7.12645</td></tr><tr><td class = \"rowNumber\" style = \"font-weight: bold; text-align: right;\">90</td><td style = \"text-align: right;\">90</td><td style = \"text-align: right;\">250</td><td style = \"text-align: right;\">1000</td><td style = \"text-align: right;\">100</td><td style = \"text-align: right;\">-1019.13</td><td style = \"text-align: right;\">171.746</td><td style = \"text-align: right;\">0.0</td><td style = \"text-align: right;\">0.0</td></tr></tbody></table></div>"
      ],
      "text/latex": [
       "\\begin{tabular}{r|cccccccc}\n",
       "\t& m & s & S & N & profit\\_mean & profit\\_std & lost\\_mean & lost\\_std\\\\\n",
       "\t\\hline\n",
       "\t& Int64 & Int64 & Int64 & Int64 & Float64 & Float64 & Float64 & Float64\\\\\n",
       "\t\\hline\n",
       "\t1 & 90 & 25 & 100 & 100 & 2971.25 & 187.955 & 216.66 & 86.947 \\\\\n",
       "\t2 & 90 & 25 & 200 & 100 & 3579.8 & 143.172 & 118.92 & 62.0491 \\\\\n",
       "\t3 & 90 & 25 & 300 & 100 & 3488.41 & 233.743 & 81.2 & 61.1899 \\\\\n",
       "\t4 & 90 & 25 & 400 & 100 & 3081.23 & 179.821 & 60.11 & 45.8938 \\\\\n",
       "\t5 & 90 & 25 & 500 & 100 & 2630.79 & 167.024 & 50.72 & 46.5774 \\\\\n",
       "\t6 & 90 & 25 & 600 & 100 & 2546.72 & 258.47 & 34.57 & 38.6717 \\\\\n",
       "\t7 & 90 & 25 & 700 & 100 & 1683.64 & 168.939 & 33.52 & 31.9461 \\\\\n",
       "\t8 & 90 & 25 & 800 & 100 & 1200.97 & 281.166 & 32.05 & 34.9673 \\\\\n",
       "\t9 & 90 & 25 & 900 & 100 & 1367.4 & 302.588 & 30.45 & 37.8336 \\\\\n",
       "\t10 & 90 & 25 & 1000 & 100 & 419.791 & 221.17 & 24.22 & 28.7952 \\\\\n",
       "\t11 & 90 & 50 & 100 & 100 & 2661.4 & 141.737 & 118.74 & 73.5476 \\\\\n",
       "\t12 & 90 & 50 & 200 & 100 & 3534.32 & 159.418 & 49.21 & 49.326 \\\\\n",
       "\t13 & 90 & 50 & 300 & 100 & 3394.56 & 188.263 & 44.28 & 55.6025 \\\\\n",
       "\t14 & 90 & 50 & 400 & 100 & 3061.3 & 190.877 & 37.86 & 48.1783 \\\\\n",
       "\t15 & 90 & 50 & 500 & 100 & 2721.59 & 214.694 & 21.04 & 31.8712 \\\\\n",
       "\t16 & 90 & 50 & 600 & 100 & 2407.25 & 282.075 & 16.11 & 27.8252 \\\\\n",
       "\t17 & 90 & 50 & 700 & 100 & 1642.6 & 171.263 & 20.11 & 29.2675 \\\\\n",
       "\t18 & 90 & 50 & 800 & 100 & 1014.09 & 189.31 & 18.19 & 32.8248 \\\\\n",
       "\t19 & 90 & 50 & 900 & 100 & 1231.52 & 324.828 & 13.63 & 25.3559 \\\\\n",
       "\t20 & 90 & 50 & 1000 & 100 & 435.771 & 259.244 & 9.96 & 26.4987 \\\\\n",
       "\t21 & 90 & 75 & 100 & 100 & 1855.16 & 251.112 & 74.03 & 56.1464 \\\\\n",
       "\t22 & 90 & 75 & 200 & 100 & 3346.44 & 164.152 & 24.44 & 32.9295 \\\\\n",
       "\t23 & 90 & 75 & 300 & 100 & 3300.2 & 171.811 & 14.97 & 26.3579 \\\\\n",
       "\t24 & 90 & 75 & 400 & 100 & 3035.65 & 209.696 & 6.17 & 14.5914 \\\\\n",
       "\t25 & 90 & 75 & 500 & 100 & 2687.47 & 239.629 & 7.34 & 24.4913 \\\\\n",
       "\t26 & 90 & 75 & 600 & 100 & 2028.08 & 263.902 & 9.68 & 26.7358 \\\\\n",
       "\t27 & 90 & 75 & 700 & 100 & 1678.7 & 207.227 & 7.85 & 21.5418 \\\\\n",
       "\t28 & 90 & 75 & 800 & 100 & 914.724 & 153.534 & 11.43 & 24.3904 \\\\\n",
       "\t29 & 90 & 75 & 900 & 100 & 682.48 & 435.957 & 4.52 & 15.2723 \\\\\n",
       "\t30 & 90 & 75 & 1000 & 100 & 439.681 & 268.444 & 3.27 & 14.6879 \\\\\n",
       "\t$\\dots$ & $\\dots$ & $\\dots$ & $\\dots$ & $\\dots$ & $\\dots$ & $\\dots$ & $\\dots$ & $\\dots$ \\\\\n",
       "\\end{tabular}\n"
      ],
      "text/plain": [
       "\u001b[1m90×8 DataFrame\u001b[0m\n",
       "\u001b[1m Row \u001b[0m│\u001b[1m m     \u001b[0m\u001b[1m s     \u001b[0m\u001b[1m S     \u001b[0m\u001b[1m N     \u001b[0m\u001b[1m profit_mean \u001b[0m\u001b[1m profit_std \u001b[0m\u001b[1m lost_mean \u001b[0m\u001b[1m lost_st\u001b[0m ⋯\n",
       "     │\u001b[90m Int64 \u001b[0m\u001b[90m Int64 \u001b[0m\u001b[90m Int64 \u001b[0m\u001b[90m Int64 \u001b[0m\u001b[90m Float64     \u001b[0m\u001b[90m Float64    \u001b[0m\u001b[90m Float64   \u001b[0m\u001b[90m Float64\u001b[0m ⋯\n",
       "─────┼──────────────────────────────────────────────────────────────────────────\n",
       "   1 │    90     25    100    100     2971.25      187.955     216.66  86.947  ⋯\n",
       "   2 │    90     25    200    100     3579.8       143.172     118.92  62.0491\n",
       "   3 │    90     25    300    100     3488.41      233.743      81.2   61.1899\n",
       "   4 │    90     25    400    100     3081.23      179.821      60.11  45.8938\n",
       "   5 │    90     25    500    100     2630.79      167.024      50.72  46.5774 ⋯\n",
       "   6 │    90     25    600    100     2546.72      258.47       34.57  38.6717\n",
       "   7 │    90     25    700    100     1683.64      168.939      33.52  31.9461\n",
       "   8 │    90     25    800    100     1200.97      281.166      32.05  34.9673\n",
       "   9 │    90     25    900    100     1367.4       302.588      30.45  37.8336 ⋯\n",
       "  10 │    90     25   1000    100      419.791     221.17       24.22  28.7952\n",
       "  11 │    90     50    100    100     2661.4       141.737     118.74  73.5476\n",
       "  ⋮  │   ⋮      ⋮      ⋮      ⋮         ⋮           ⋮           ⋮         ⋮    ⋱\n",
       "  81 │    90    225    900    100     -243.113     201.205       0.48   4.0712\n",
       "  82 │    90    225   1000    100     -954.18      197.85        1.32   7.0851 ⋯\n",
       "  83 │    90    250    300    100     1026.94      254.714       0.4    2.8141\n",
       "  84 │    90    250    400    100     1651.14      172.608       0.1    1.0\n",
       "  85 │    90    250    500    100     1488.85      226.597       0.21   1.6714\n",
       "  86 │    90    250    600    100     1213.38      196.798       2.18  13.8326 ⋯\n",
       "  87 │    90    250    700    100      799.033     176.642       1.76  15.1158\n",
       "  88 │    90    250    800    100      168.525     342.23        0.03   0.3\n",
       "  89 │    90    250    900    100     -275.165     195.892       0.96   7.1264\n",
       "  90 │    90    250   1000    100    -1019.13      171.746       0.0    0.0    ⋯\n",
       "\u001b[36m                                                    1 column and 69 rows omitted\u001b[0m"
      ]
     },
     "execution_count": 76,
     "metadata": {},
     "output_type": "execute_result"
    }
   ],
   "source": [
    "using Random\n",
    "Random.seed!(0)\n",
    "df = DataFrame(run_sims(90,s,S,100) \n",
    "    for S in 100:100:1000, s in 25:25:250 if S > s )"
   ]
  },
  {
   "cell_type": "code",
   "execution_count": 77,
   "metadata": {},
   "outputs": [
    {
     "data": {
      "text/plain": [
       "2"
      ]
     },
     "execution_count": 77,
     "metadata": {},
     "output_type": "execute_result"
    }
   ],
   "source": [
    "best_row = argmax(df.profit_mean)"
   ]
  },
  {
   "cell_type": "code",
   "execution_count": 78,
   "metadata": {},
   "outputs": [
    {
     "data": {
      "text/html": [
       "<div><div style = \"float: left;\"><span>DataFrameRow (8 columns)</span></div><div style = \"clear: both;\"></div></div><div class = \"data-frame\" style = \"overflow-x: scroll;\"><table class = \"data-frame\" style = \"margin-bottom: 6px;\"><thead><tr class = \"header\"><th class = \"rowLabel\" style = \"font-weight: bold; text-align: right;\">Row</th><th style = \"text-align: left;\">m</th><th style = \"text-align: left;\">s</th><th style = \"text-align: left;\">S</th><th style = \"text-align: left;\">N</th><th style = \"text-align: left;\">profit_mean</th><th style = \"text-align: left;\">profit_std</th><th style = \"text-align: left;\">lost_mean</th><th style = \"text-align: left;\">lost_std</th></tr><tr class = \"subheader headerLastRow\"><th class = \"rowLabel\" style = \"font-weight: bold; text-align: right;\"></th><th title = \"Int64\" style = \"text-align: left;\">Int64</th><th title = \"Int64\" style = \"text-align: left;\">Int64</th><th title = \"Int64\" style = \"text-align: left;\">Int64</th><th title = \"Int64\" style = \"text-align: left;\">Int64</th><th title = \"Float64\" style = \"text-align: left;\">Float64</th><th title = \"Float64\" style = \"text-align: left;\">Float64</th><th title = \"Float64\" style = \"text-align: left;\">Float64</th><th title = \"Float64\" style = \"text-align: left;\">Float64</th></tr></thead><tbody><tr><td class = \"rowLabel\" style = \"font-weight: bold; text-align: right;\">2</td><td style = \"text-align: right;\">90</td><td style = \"text-align: right;\">25</td><td style = \"text-align: right;\">200</td><td style = \"text-align: right;\">100</td><td style = \"text-align: right;\">3579.8</td><td style = \"text-align: right;\">143.172</td><td style = \"text-align: right;\">118.92</td><td style = \"text-align: right;\">62.0491</td></tr></tbody></table></div>"
      ],
      "text/latex": [
       "\\begin{tabular}{r|cccccccc}\n",
       "\t& m & s & S & N & profit\\_mean & profit\\_std & lost\\_mean & lost\\_std\\\\\n",
       "\t\\hline\n",
       "\t& Int64 & Int64 & Int64 & Int64 & Float64 & Float64 & Float64 & Float64\\\\\n",
       "\t\\hline\n",
       "\t2 & 90 & 25 & 200 & 100 & 3579.8 & 143.172 & 118.92 & 62.0491 \\\\\n",
       "\\end{tabular}\n"
      ],
      "text/plain": [
       "\u001b[1mDataFrameRow\u001b[0m\n",
       "\u001b[1m Row \u001b[0m│\u001b[1m m     \u001b[0m\u001b[1m s     \u001b[0m\u001b[1m S     \u001b[0m\u001b[1m N     \u001b[0m\u001b[1m profit_mean \u001b[0m\u001b[1m profit_std \u001b[0m\u001b[1m lost_mean \u001b[0m\u001b[1m lost_st\u001b[0m ⋯\n",
       "     │\u001b[90m Int64 \u001b[0m\u001b[90m Int64 \u001b[0m\u001b[90m Int64 \u001b[0m\u001b[90m Int64 \u001b[0m\u001b[90m Float64     \u001b[0m\u001b[90m Float64    \u001b[0m\u001b[90m Float64   \u001b[0m\u001b[90m Float64\u001b[0m ⋯\n",
       "─────┼──────────────────────────────────────────────────────────────────────────\n",
       "   2 │    90     25    200    100       3579.8     143.172     118.92   62.049 ⋯\n",
       "\u001b[36m                                                                1 column omitted\u001b[0m"
      ]
     },
     "execution_count": 78,
     "metadata": {},
     "output_type": "execute_result"
    }
   ],
   "source": [
    "df[best_row,:]"
   ]
  },
  {
   "cell_type": "code",
   "execution_count": 79,
   "metadata": {},
   "outputs": [
    {
     "data": {
      "text/plain": [
       "1×4 adjoint(::Vector{Int64}) with eltype Int64:\n",
       " 66  74  82  90"
      ]
     },
     "execution_count": 79,
     "metadata": {},
     "output_type": "execute_result"
    }
   ],
   "source": [
    "findall(<=(-500), df.profit_mean)'\n"
   ]
  },
  {
   "cell_type": "code",
   "execution_count": 80,
   "metadata": {},
   "outputs": [
    {
     "data": {
      "text/html": [
       "<div><div style = \"float: left;\"><span>DataFrameRow (8 columns)</span></div><div style = \"clear: both;\"></div></div><div class = \"data-frame\" style = \"overflow-x: scroll;\"><table class = \"data-frame\" style = \"margin-bottom: 6px;\"><thead><tr class = \"header\"><th class = \"rowLabel\" style = \"font-weight: bold; text-align: right;\">Row</th><th style = \"text-align: left;\">m</th><th style = \"text-align: left;\">s</th><th style = \"text-align: left;\">S</th><th style = \"text-align: left;\">N</th><th style = \"text-align: left;\">profit_mean</th><th style = \"text-align: left;\">profit_std</th><th style = \"text-align: left;\">lost_mean</th><th style = \"text-align: left;\">lost_std</th></tr><tr class = \"subheader headerLastRow\"><th class = \"rowLabel\" style = \"font-weight: bold; text-align: right;\"></th><th title = \"Int64\" style = \"text-align: left;\">Int64</th><th title = \"Int64\" style = \"text-align: left;\">Int64</th><th title = \"Int64\" style = \"text-align: left;\">Int64</th><th title = \"Int64\" style = \"text-align: left;\">Int64</th><th title = \"Float64\" style = \"text-align: left;\">Float64</th><th title = \"Float64\" style = \"text-align: left;\">Float64</th><th title = \"Float64\" style = \"text-align: left;\">Float64</th><th title = \"Float64\" style = \"text-align: left;\">Float64</th></tr></thead><tbody><tr><td class = \"rowLabel\" style = \"font-weight: bold; text-align: right;\">66</td><td style = \"text-align: right;\">90</td><td style = \"text-align: right;\">175</td><td style = \"text-align: right;\">1000</td><td style = \"text-align: right;\">100</td><td style = \"text-align: right;\">-507.847</td><td style = \"text-align: right;\">446.965</td><td style = \"text-align: right;\">1.49</td><td style = \"text-align: right;\">9.63002</td></tr></tbody></table></div>"
      ],
      "text/latex": [
       "\\begin{tabular}{r|cccccccc}\n",
       "\t& m & s & S & N & profit\\_mean & profit\\_std & lost\\_mean & lost\\_std\\\\\n",
       "\t\\hline\n",
       "\t& Int64 & Int64 & Int64 & Int64 & Float64 & Float64 & Float64 & Float64\\\\\n",
       "\t\\hline\n",
       "\t66 & 90 & 175 & 1000 & 100 & -507.847 & 446.965 & 1.49 & 9.63002 \\\\\n",
       "\\end{tabular}\n"
      ],
      "text/plain": [
       "\u001b[1mDataFrameRow\u001b[0m\n",
       "\u001b[1m Row \u001b[0m│\u001b[1m m     \u001b[0m\u001b[1m s     \u001b[0m\u001b[1m S     \u001b[0m\u001b[1m N     \u001b[0m\u001b[1m profit_mean \u001b[0m\u001b[1m profit_std \u001b[0m\u001b[1m lost_mean \u001b[0m\u001b[1m lost_st\u001b[0m ⋯\n",
       "     │\u001b[90m Int64 \u001b[0m\u001b[90m Int64 \u001b[0m\u001b[90m Int64 \u001b[0m\u001b[90m Int64 \u001b[0m\u001b[90m Float64     \u001b[0m\u001b[90m Float64    \u001b[0m\u001b[90m Float64   \u001b[0m\u001b[90m Float64\u001b[0m ⋯\n",
       "─────┼──────────────────────────────────────────────────────────────────────────\n",
       "  66 │    90    175   1000    100     -507.847     446.965       1.49   9.6300 ⋯\n",
       "\u001b[36m                                                                1 column omitted\u001b[0m"
      ]
     },
     "execution_count": 80,
     "metadata": {},
     "output_type": "execute_result"
    }
   ],
   "source": [
    "df[66,:]"
   ]
  },
  {
   "cell_type": "code",
   "execution_count": 81,
   "metadata": {},
   "outputs": [
    {
     "data": {
      "text/html": [
       "<div><div style = \"float: left;\"><span>4×8 DataFrame</span></div><div style = \"clear: both;\"></div></div><div class = \"data-frame\" style = \"overflow-x: scroll;\"><table class = \"data-frame\" style = \"margin-bottom: 6px;\"><thead><tr class = \"header\"><th class = \"rowNumber\" style = \"font-weight: bold; text-align: right;\">Row</th><th style = \"text-align: left;\">m</th><th style = \"text-align: left;\">s</th><th style = \"text-align: left;\">S</th><th style = \"text-align: left;\">N</th><th style = \"text-align: left;\">profit_mean</th><th style = \"text-align: left;\">profit_std</th><th style = \"text-align: left;\">lost_mean</th><th style = \"text-align: left;\">lost_std</th></tr><tr class = \"subheader headerLastRow\"><th class = \"rowNumber\" style = \"font-weight: bold; text-align: right;\"></th><th title = \"Int64\" style = \"text-align: left;\">Int64</th><th title = \"Int64\" style = \"text-align: left;\">Int64</th><th title = \"Int64\" style = \"text-align: left;\">Int64</th><th title = \"Int64\" style = \"text-align: left;\">Int64</th><th title = \"Float64\" style = \"text-align: left;\">Float64</th><th title = \"Float64\" style = \"text-align: left;\">Float64</th><th title = \"Float64\" style = \"text-align: left;\">Float64</th><th title = \"Float64\" style = \"text-align: left;\">Float64</th></tr></thead><tbody><tr><td class = \"rowNumber\" style = \"font-weight: bold; text-align: right;\">1</td><td style = \"text-align: right;\">90</td><td style = \"text-align: right;\">175</td><td style = \"text-align: right;\">1000</td><td style = \"text-align: right;\">100</td><td style = \"text-align: right;\">-507.847</td><td style = \"text-align: right;\">446.965</td><td style = \"text-align: right;\">1.49</td><td style = \"text-align: right;\">9.63002</td></tr><tr><td class = \"rowNumber\" style = \"font-weight: bold; text-align: right;\">2</td><td style = \"text-align: right;\">90</td><td style = \"text-align: right;\">200</td><td style = \"text-align: right;\">1000</td><td style = \"text-align: right;\">100</td><td style = \"text-align: right;\">-772.374</td><td style = \"text-align: right;\">332.434</td><td style = \"text-align: right;\">0.52</td><td style = \"text-align: right;\">5.2</td></tr><tr><td class = \"rowNumber\" style = \"font-weight: bold; text-align: right;\">3</td><td style = \"text-align: right;\">90</td><td style = \"text-align: right;\">225</td><td style = \"text-align: right;\">1000</td><td style = \"text-align: right;\">100</td><td style = \"text-align: right;\">-954.18</td><td style = \"text-align: right;\">197.85</td><td style = \"text-align: right;\">1.32</td><td style = \"text-align: right;\">7.08517</td></tr><tr><td class = \"rowNumber\" style = \"font-weight: bold; text-align: right;\">4</td><td style = \"text-align: right;\">90</td><td style = \"text-align: right;\">250</td><td style = \"text-align: right;\">1000</td><td style = \"text-align: right;\">100</td><td style = \"text-align: right;\">-1019.13</td><td style = \"text-align: right;\">171.746</td><td style = \"text-align: right;\">0.0</td><td style = \"text-align: right;\">0.0</td></tr></tbody></table></div>"
      ],
      "text/latex": [
       "\\begin{tabular}{r|cccccccc}\n",
       "\t& m & s & S & N & profit\\_mean & profit\\_std & lost\\_mean & lost\\_std\\\\\n",
       "\t\\hline\n",
       "\t& Int64 & Int64 & Int64 & Int64 & Float64 & Float64 & Float64 & Float64\\\\\n",
       "\t\\hline\n",
       "\t1 & 90 & 175 & 1000 & 100 & -507.847 & 446.965 & 1.49 & 9.63002 \\\\\n",
       "\t2 & 90 & 200 & 1000 & 100 & -772.374 & 332.434 & 0.52 & 5.2 \\\\\n",
       "\t3 & 90 & 225 & 1000 & 100 & -954.18 & 197.85 & 1.32 & 7.08517 \\\\\n",
       "\t4 & 90 & 250 & 1000 & 100 & -1019.13 & 171.746 & 0.0 & 0.0 \\\\\n",
       "\\end{tabular}\n"
      ],
      "text/plain": [
       "\u001b[1m4×8 DataFrame\u001b[0m\n",
       "\u001b[1m Row \u001b[0m│\u001b[1m m     \u001b[0m\u001b[1m s     \u001b[0m\u001b[1m S     \u001b[0m\u001b[1m N     \u001b[0m\u001b[1m profit_mean \u001b[0m\u001b[1m profit_std \u001b[0m\u001b[1m lost_mean \u001b[0m\u001b[1m lost_st\u001b[0m ⋯\n",
       "     │\u001b[90m Int64 \u001b[0m\u001b[90m Int64 \u001b[0m\u001b[90m Int64 \u001b[0m\u001b[90m Int64 \u001b[0m\u001b[90m Float64     \u001b[0m\u001b[90m Float64    \u001b[0m\u001b[90m Float64   \u001b[0m\u001b[90m Float64\u001b[0m ⋯\n",
       "─────┼──────────────────────────────────────────────────────────────────────────\n",
       "   1 │    90    175   1000    100     -507.847     446.965       1.49   9.6300 ⋯\n",
       "   2 │    90    200   1000    100     -772.374     332.434       0.52   5.2\n",
       "   3 │    90    225   1000    100     -954.18      197.85        1.32   7.0851\n",
       "   4 │    90    250   1000    100    -1019.13      171.746       0.0    0.0\n",
       "\u001b[36m                                                                1 column omitted\u001b[0m"
      ]
     },
     "execution_count": 81,
     "metadata": {},
     "output_type": "execute_result"
    }
   ],
   "source": [
    "df[[66, 74,82,90],:]"
   ]
  },
  {
   "cell_type": "code",
   "execution_count": 82,
   "metadata": {},
   "outputs": [
    {
     "data": {
      "text/html": [
       "<div><div style = \"float: left;\"><span>4×8 DataFrame</span></div><div style = \"clear: both;\"></div></div><div class = \"data-frame\" style = \"overflow-x: scroll;\"><table class = \"data-frame\" style = \"margin-bottom: 6px;\"><thead><tr class = \"header\"><th class = \"rowNumber\" style = \"font-weight: bold; text-align: right;\">Row</th><th style = \"text-align: left;\">m</th><th style = \"text-align: left;\">s</th><th style = \"text-align: left;\">S</th><th style = \"text-align: left;\">N</th><th style = \"text-align: left;\">profit_mean</th><th style = \"text-align: left;\">profit_std</th><th style = \"text-align: left;\">lost_mean</th><th style = \"text-align: left;\">lost_std</th></tr><tr class = \"subheader headerLastRow\"><th class = \"rowNumber\" style = \"font-weight: bold; text-align: right;\"></th><th title = \"Int64\" style = \"text-align: left;\">Int64</th><th title = \"Int64\" style = \"text-align: left;\">Int64</th><th title = \"Int64\" style = \"text-align: left;\">Int64</th><th title = \"Int64\" style = \"text-align: left;\">Int64</th><th title = \"Float64\" style = \"text-align: left;\">Float64</th><th title = \"Float64\" style = \"text-align: left;\">Float64</th><th title = \"Float64\" style = \"text-align: left;\">Float64</th><th title = \"Float64\" style = \"text-align: left;\">Float64</th></tr></thead><tbody><tr><td class = \"rowNumber\" style = \"font-weight: bold; text-align: right;\">1</td><td style = \"text-align: right;\">90</td><td style = \"text-align: right;\">175</td><td style = \"text-align: right;\">1000</td><td style = \"text-align: right;\">100</td><td style = \"text-align: right;\">-507.847</td><td style = \"text-align: right;\">446.965</td><td style = \"text-align: right;\">1.49</td><td style = \"text-align: right;\">9.63002</td></tr><tr><td class = \"rowNumber\" style = \"font-weight: bold; text-align: right;\">2</td><td style = \"text-align: right;\">90</td><td style = \"text-align: right;\">200</td><td style = \"text-align: right;\">1000</td><td style = \"text-align: right;\">100</td><td style = \"text-align: right;\">-772.374</td><td style = \"text-align: right;\">332.434</td><td style = \"text-align: right;\">0.52</td><td style = \"text-align: right;\">5.2</td></tr><tr><td class = \"rowNumber\" style = \"font-weight: bold; text-align: right;\">3</td><td style = \"text-align: right;\">90</td><td style = \"text-align: right;\">225</td><td style = \"text-align: right;\">1000</td><td style = \"text-align: right;\">100</td><td style = \"text-align: right;\">-954.18</td><td style = \"text-align: right;\">197.85</td><td style = \"text-align: right;\">1.32</td><td style = \"text-align: right;\">7.08517</td></tr><tr><td class = \"rowNumber\" style = \"font-weight: bold; text-align: right;\">4</td><td style = \"text-align: right;\">90</td><td style = \"text-align: right;\">250</td><td style = \"text-align: right;\">1000</td><td style = \"text-align: right;\">100</td><td style = \"text-align: right;\">-1019.13</td><td style = \"text-align: right;\">171.746</td><td style = \"text-align: right;\">0.0</td><td style = \"text-align: right;\">0.0</td></tr></tbody></table></div>"
      ],
      "text/latex": [
       "\\begin{tabular}{r|cccccccc}\n",
       "\t& m & s & S & N & profit\\_mean & profit\\_std & lost\\_mean & lost\\_std\\\\\n",
       "\t\\hline\n",
       "\t& Int64 & Int64 & Int64 & Int64 & Float64 & Float64 & Float64 & Float64\\\\\n",
       "\t\\hline\n",
       "\t1 & 90 & 175 & 1000 & 100 & -507.847 & 446.965 & 1.49 & 9.63002 \\\\\n",
       "\t2 & 90 & 200 & 1000 & 100 & -772.374 & 332.434 & 0.52 & 5.2 \\\\\n",
       "\t3 & 90 & 225 & 1000 & 100 & -954.18 & 197.85 & 1.32 & 7.08517 \\\\\n",
       "\t4 & 90 & 250 & 1000 & 100 & -1019.13 & 171.746 & 0.0 & 0.0 \\\\\n",
       "\\end{tabular}\n"
      ],
      "text/plain": [
       "\u001b[1m4×8 DataFrame\u001b[0m\n",
       "\u001b[1m Row \u001b[0m│\u001b[1m m     \u001b[0m\u001b[1m s     \u001b[0m\u001b[1m S     \u001b[0m\u001b[1m N     \u001b[0m\u001b[1m profit_mean \u001b[0m\u001b[1m profit_std \u001b[0m\u001b[1m lost_mean \u001b[0m\u001b[1m lost_st\u001b[0m ⋯\n",
       "     │\u001b[90m Int64 \u001b[0m\u001b[90m Int64 \u001b[0m\u001b[90m Int64 \u001b[0m\u001b[90m Int64 \u001b[0m\u001b[90m Float64     \u001b[0m\u001b[90m Float64    \u001b[0m\u001b[90m Float64   \u001b[0m\u001b[90m Float64\u001b[0m ⋯\n",
       "─────┼──────────────────────────────────────────────────────────────────────────\n",
       "   1 │    90    175   1000    100     -507.847     446.965       1.49   9.6300 ⋯\n",
       "   2 │    90    200   1000    100     -772.374     332.434       0.52   5.2\n",
       "   3 │    90    225   1000    100     -954.18      197.85        1.32   7.0851\n",
       "   4 │    90    250   1000    100    -1019.13      171.746       0.0    0.0\n",
       "\u001b[36m                                                                1 column omitted\u001b[0m"
      ]
     },
     "execution_count": 82,
     "metadata": {},
     "output_type": "execute_result"
    }
   ],
   "source": [
    "df[findall(<=(-500), df.profit_mean),:]"
   ]
  },
  {
   "cell_type": "code",
   "execution_count": 83,
   "metadata": {},
   "outputs": [
    {
     "data": {
      "text/plain": [
       "1×86 adjoint(::Vector{Int64}) with eltype Int64:\n",
       " 1  2  3  4  5  6  7  8  9  10  11  12  …  80  81  83  84  85  86  87  88  89"
      ]
     },
     "execution_count": 83,
     "metadata": {},
     "output_type": "execute_result"
    }
   ],
   "source": [
    "more500 = findall(>(-500), df.profit_mean)'"
   ]
  },
  {
   "cell_type": "code",
   "execution_count": 84,
   "metadata": {},
   "outputs": [
    {
     "data": {
      "application/vnd.vegalite.v4+json": {
       "data": {
        "values": [
         {
          "N": 100,
          "S": 100,
          "lost_mean": 216.66,
          "lost_std": 86.9470081269173,
          "m": 90,
          "profit_mean": 2971.249,
          "profit_std": 187.95520554621308,
          "s": 25
         },
         {
          "N": 100,
          "S": 200,
          "lost_mean": 118.92,
          "lost_std": 62.04913009426116,
          "m": 90,
          "profit_mean": 3579.7960000000003,
          "profit_std": 143.17221100493074,
          "s": 25
         },
         {
          "N": 100,
          "S": 300,
          "lost_mean": 81.2,
          "lost_std": 61.18988495006359,
          "m": 90,
          "profit_mean": 3488.4050000000007,
          "profit_std": 233.74275784168026,
          "s": 25
         },
         {
          "N": 100,
          "S": 400,
          "lost_mean": 60.11,
          "lost_std": 45.893793731073295,
          "m": 90,
          "profit_mean": 3081.231,
          "profit_std": 179.82085119429956,
          "s": 25
         },
         {
          "N": 100,
          "S": 500,
          "lost_mean": 50.72,
          "lost_std": 46.57742115678112,
          "m": 90,
          "profit_mean": 2630.7940000000003,
          "profit_std": 167.02355959141173,
          "s": 25
         },
         {
          "N": 100,
          "S": 600,
          "lost_mean": 34.57,
          "lost_std": 38.67169638133426,
          "m": 90,
          "profit_mean": 2546.72,
          "profit_std": 258.4702663477147,
          "s": 25
         },
         {
          "N": 100,
          "S": 700,
          "lost_mean": 33.52,
          "lost_std": 31.946128897178628,
          "m": 90,
          "profit_mean": 1683.641,
          "profit_std": 168.93935442559678,
          "s": 25
         },
         {
          "N": 100,
          "S": 800,
          "lost_mean": 32.05,
          "lost_std": 34.9673368511908,
          "m": 90,
          "profit_mean": 1200.9729999999995,
          "profit_std": 281.1663826245624,
          "s": 25
         },
         {
          "N": 100,
          "S": 900,
          "lost_mean": 30.45,
          "lost_std": 37.83360031944242,
          "m": 90,
          "profit_mean": 1367.398,
          "profit_std": 302.58799637711195,
          "s": 25
         },
         {
          "N": 100,
          "S": 1000,
          "lost_mean": 24.22,
          "lost_std": 28.795194604711952,
          "m": 90,
          "profit_mean": 419.79099999999994,
          "profit_std": 221.17033158800362,
          "s": 25
         },
         {
          "N": 100,
          "S": 100,
          "lost_mean": 118.74,
          "lost_std": 73.54756861028683,
          "m": 90,
          "profit_mean": 2661.4039999999995,
          "profit_std": 141.7369971019379,
          "s": 50
         },
         {
          "N": 100,
          "S": 200,
          "lost_mean": 49.21,
          "lost_std": 49.32602218552054,
          "m": 90,
          "profit_mean": 3534.3150000000005,
          "profit_std": 159.41803592055612,
          "s": 50
         },
         {
          "N": 100,
          "S": 300,
          "lost_mean": 44.28,
          "lost_std": 55.60249976213282,
          "m": 90,
          "profit_mean": 3394.5560000000005,
          "profit_std": 188.26334141625162,
          "s": 50
         },
         {
          "N": 100,
          "S": 400,
          "lost_mean": 37.86,
          "lost_std": 48.17833454149198,
          "m": 90,
          "profit_mean": 3061.301,
          "profit_std": 190.8767143996355,
          "s": 50
         },
         {
          "N": 100,
          "S": 500,
          "lost_mean": 21.04,
          "lost_std": 31.871243490271315,
          "m": 90,
          "profit_mean": 2721.5890000000004,
          "profit_std": 214.69375882823894,
          "s": 50
         },
         {
          "N": 100,
          "S": 600,
          "lost_mean": 16.11,
          "lost_std": 27.825173908356856,
          "m": 90,
          "profit_mean": 2407.2490000000003,
          "profit_std": 282.0750023817901,
          "s": 50
         },
         {
          "N": 100,
          "S": 700,
          "lost_mean": 20.11,
          "lost_std": 29.26745184285331,
          "m": 90,
          "profit_mean": 1642.6039999999996,
          "profit_std": 171.262618893625,
          "s": 50
         },
         {
          "N": 100,
          "S": 800,
          "lost_mean": 18.19,
          "lost_std": 32.82481661576475,
          "m": 90,
          "profit_mean": 1014.0949999999997,
          "profit_std": 189.3099048538073,
          "s": 50
         },
         {
          "N": 100,
          "S": 900,
          "lost_mean": 13.63,
          "lost_std": 25.355912983608448,
          "m": 90,
          "profit_mean": 1231.521,
          "profit_std": 324.8279520660658,
          "s": 50
         },
         {
          "N": 100,
          "S": 1000,
          "lost_mean": 9.96,
          "lost_std": 26.49868302425994,
          "m": 90,
          "profit_mean": 435.7709999999998,
          "profit_std": 259.2438944840799,
          "s": 50
         },
         {
          "N": 100,
          "S": 100,
          "lost_mean": 74.03,
          "lost_std": 56.146355467859465,
          "m": 90,
          "profit_mean": 1855.157,
          "profit_std": 251.1118521172137,
          "s": 75
         },
         {
          "N": 100,
          "S": 200,
          "lost_mean": 24.44,
          "lost_std": 32.929468550067725,
          "m": 90,
          "profit_mean": 3346.4440000000004,
          "profit_std": 164.15197769694447,
          "s": 75
         },
         {
          "N": 100,
          "S": 300,
          "lost_mean": 14.97,
          "lost_std": 26.357853946147905,
          "m": 90,
          "profit_mean": 3300.2020000000007,
          "profit_std": 171.81134943285713,
          "s": 75
         },
         {
          "N": 100,
          "S": 400,
          "lost_mean": 6.17,
          "lost_std": 14.591442766916574,
          "m": 90,
          "profit_mean": 3035.6479999999997,
          "profit_std": 209.69590559723002,
          "s": 75
         },
         {
          "N": 100,
          "S": 500,
          "lost_mean": 7.34,
          "lost_std": 24.491276533954412,
          "m": 90,
          "profit_mean": 2687.4680000000003,
          "profit_std": 239.6288636600147,
          "s": 75
         },
         {
          "N": 100,
          "S": 600,
          "lost_mean": 9.68,
          "lost_std": 26.735849651089385,
          "m": 90,
          "profit_mean": 2028.0840000000003,
          "profit_std": 263.90170986313603,
          "s": 75
         },
         {
          "N": 100,
          "S": 700,
          "lost_mean": 7.85,
          "lost_std": 21.5417729028504,
          "m": 90,
          "profit_mean": 1678.705,
          "profit_std": 207.2270415327696,
          "s": 75
         },
         {
          "N": 100,
          "S": 800,
          "lost_mean": 11.43,
          "lost_std": 24.390449778633442,
          "m": 90,
          "profit_mean": 914.724,
          "profit_std": 153.53444592288884,
          "s": 75
         },
         {
          "N": 100,
          "S": 900,
          "lost_mean": 4.52,
          "lost_std": 15.272263100209486,
          "m": 90,
          "profit_mean": 682.4799999999997,
          "profit_std": 435.9574175294989,
          "s": 75
         },
         {
          "N": 100,
          "S": 1000,
          "lost_mean": 3.27,
          "lost_std": 14.687901294754278,
          "m": 90,
          "profit_mean": 439.6809999999997,
          "profit_std": 268.44414639988645,
          "s": 75
         },
         {
          "N": 100,
          "S": 200,
          "lost_mean": 20.08,
          "lost_std": 32.71909213133809,
          "m": 90,
          "profit_mean": 3020.23,
          "profit_std": 160.12806900992885,
          "s": 100
         },
         {
          "N": 100,
          "S": 300,
          "lost_mean": 5.76,
          "lost_std": 15.6276884555793,
          "m": 90,
          "profit_mean": 3120.251,
          "profit_std": 168.18128836635097,
          "s": 100
         },
         {
          "N": 100,
          "S": 400,
          "lost_mean": 6.26,
          "lost_std": 17.33486007262169,
          "m": 90,
          "profit_mean": 2795.2369999999996,
          "profit_std": 187.47999362894984,
          "s": 100
         },
         {
          "N": 100,
          "S": 500,
          "lost_mean": 5.26,
          "lost_std": 26.617993458515535,
          "m": 90,
          "profit_mean": 2386.138,
          "profit_std": 263.08043889520366,
          "s": 100
         },
         {
          "N": 100,
          "S": 600,
          "lost_mean": 2.97,
          "lost_std": 13.148303266500925,
          "m": 90,
          "profit_mean": 1828.5710000000001,
          "profit_std": 170.44090969001425,
          "s": 100
         },
         {
          "N": 100,
          "S": 700,
          "lost_mean": 0.49,
          "lost_std": 2.7135834893246518,
          "m": 90,
          "profit_mean": 1683.693,
          "profit_std": 251.01191378019482,
          "s": 100
         },
         {
          "N": 100,
          "S": 800,
          "lost_mean": 5.79,
          "lost_std": 19.27802695382292,
          "m": 90,
          "profit_mean": 814.0609999999998,
          "profit_std": 186.53830266898606,
          "s": 100
         },
         {
          "N": 100,
          "S": 900,
          "lost_mean": 2.51,
          "lost_std": 7.848946400374996,
          "m": 90,
          "profit_mean": 293.36999999999983,
          "profit_std": 355.2029320392681,
          "s": 100
         },
         {
          "N": 100,
          "S": 1000,
          "lost_mean": 2.53,
          "lost_std": 12.014683777054906,
          "m": 90,
          "profit_mean": 428.6849999999998,
          "profit_std": 255.33067344725794,
          "s": 100
         },
         {
          "N": 100,
          "S": 200,
          "lost_mean": 9.32,
          "lost_std": 21.774268940168533,
          "m": 90,
          "profit_mean": 2615.4799999999996,
          "profit_std": 187.355158870941,
          "s": 125
         },
         {
          "N": 100,
          "S": 300,
          "lost_mean": 2.89,
          "lost_std": 12.867541970541087,
          "m": 90,
          "profit_mean": 2913.112,
          "profit_std": 175.10721811034347,
          "s": 125
         },
         {
          "N": 100,
          "S": 400,
          "lost_mean": 4.37,
          "lost_std": 18.413683427650682,
          "m": 90,
          "profit_mean": 2680.0350000000008,
          "profit_std": 174.42341978268527,
          "s": 125
         },
         {
          "N": 100,
          "S": 500,
          "lost_mean": 3.27,
          "lost_std": 18.34619658929144,
          "m": 90,
          "profit_mean": 2227.969,
          "profit_std": 205.2709747375331,
          "s": 125
         },
         {
          "N": 100,
          "S": 600,
          "lost_mean": 0.92,
          "lost_std": 5.364831231400866,
          "m": 90,
          "profit_mean": 1771.845,
          "profit_std": 161.99935613726643,
          "s": 125
         },
         {
          "N": 100,
          "S": 700,
          "lost_mean": 0.75,
          "lost_std": 6.1272285164607085,
          "m": 90,
          "profit_mean": 1545.7620000000002,
          "profit_std": 273.75956743762646,
          "s": 125
         },
         {
          "N": 100,
          "S": 800,
          "lost_mean": 2.17,
          "lost_std": 11.349413725791825,
          "m": 90,
          "profit_mean": 722.4939999999998,
          "profit_std": 207.39437171288384,
          "s": 125
         },
         {
          "N": 100,
          "S": 900,
          "lost_mean": 1.94,
          "lost_std": 8.282658042103648,
          "m": 90,
          "profit_mean": 59.789999999999836,
          "profit_std": 220.4234160048163,
          "s": 125
         },
         {
          "N": 100,
          "S": 1000,
          "lost_mean": 1.12,
          "lost_std": 8.359691647689191,
          "m": 90,
          "profit_mean": 268.1569999999998,
          "profit_std": 409.5952826963107,
          "s": 125
         },
         {
          "N": 100,
          "S": 200,
          "lost_mean": 1.83,
          "lost_std": 7.363649457526704,
          "m": 90,
          "profit_mean": 1970.987,
          "profit_std": 248.1636767042137,
          "s": 150
         },
         {
          "N": 100,
          "S": 300,
          "lost_mean": 2.02,
          "lost_std": 8.678290573190507,
          "m": 90,
          "profit_mean": 2671.952,
          "profit_std": 166.81307961701663,
          "s": 150
         },
         {
          "N": 100,
          "S": 400,
          "lost_mean": 1.22,
          "lost_std": 6.331865858696413,
          "m": 90,
          "profit_mean": 2497.744,
          "profit_std": 185.28499223486705,
          "s": 150
         },
         {
          "N": 100,
          "S": 500,
          "lost_mean": 0.56,
          "lost_std": 3.30386978489703,
          "m": 90,
          "profit_mean": 2149.314,
          "profit_std": 210.26386982440738,
          "s": 150
         },
         {
          "N": 100,
          "S": 600,
          "lost_mean": 1.99,
          "lost_std": 10.519337652460095,
          "m": 90,
          "profit_mean": 1814.606,
          "profit_std": 190.31460281450927,
          "s": 150
         },
         {
          "N": 100,
          "S": 700,
          "lost_mean": 0.28,
          "lost_std": 1.9698741179080554,
          "m": 90,
          "profit_mean": 1134.7029999999995,
          "profit_std": 327.16855769224566,
          "s": 150
         },
         {
          "N": 100,
          "S": 800,
          "lost_mean": 1.81,
          "lost_std": 10.048061273376836,
          "m": 90,
          "profit_mean": 737.2569999999998,
          "profit_std": 205.53083833347395,
          "s": 150
         },
         {
          "N": 100,
          "S": 900,
          "lost_mean": 0.44,
          "lost_std": 3.2108402248469083,
          "m": 90,
          "profit_mean": -37.010000000000225,
          "profit_std": 181.72357657395006,
          "s": 150
         },
         {
          "N": 100,
          "S": 1000,
          "lost_mean": 1.6,
          "lost_std": 8.836334538755771,
          "m": 90,
          "profit_mean": -236.9160000000002,
          "profit_std": 504.6193942713135,
          "s": 150
         },
         {
          "N": 100,
          "S": 200,
          "lost_mean": 3.27,
          "lost_std": 12.657775986692645,
          "m": 90,
          "profit_mean": 1034.612,
          "profit_std": 341.1812309899212,
          "s": 175
         },
         {
          "N": 100,
          "S": 300,
          "lost_mean": 0.71,
          "lost_std": 3.7180830294846046,
          "m": 90,
          "profit_mean": 2395.3160000000003,
          "profit_std": 204.57018391118135,
          "s": 175
         },
         {
          "N": 100,
          "S": 400,
          "lost_mean": 1.75,
          "lost_std": 12.90632528348919,
          "m": 90,
          "profit_mean": 2297.704,
          "profit_std": 193.6575880206604,
          "s": 175
         },
         {
          "N": 100,
          "S": 500,
          "lost_mean": 0.36,
          "lost_std": 3.5999999999999996,
          "m": 90,
          "profit_mean": 1958.382,
          "profit_std": 253.70202213692272,
          "s": 175
         },
         {
          "N": 100,
          "S": 600,
          "lost_mean": 0.67,
          "lost_std": 4.290122552462986,
          "m": 90,
          "profit_mean": 1649.5899999999997,
          "profit_std": 249.80461192983236,
          "s": 175
         },
         {
          "N": 100,
          "S": 700,
          "lost_mean": 0.02,
          "lost_std": 0.19999999999999998,
          "m": 90,
          "profit_mean": 917.8089999999997,
          "profit_std": 235.50629625287615,
          "s": 175
         },
         {
          "N": 100,
          "S": 800,
          "lost_mean": 1.83,
          "lost_std": 11.84159336125563,
          "m": 90,
          "profit_mean": 725.9579999999999,
          "profit_std": 225.62798745552894,
          "s": 175
         },
         {
          "N": 100,
          "S": 900,
          "lost_mean": 1.06,
          "lost_std": 10.600000000000003,
          "m": 90,
          "profit_mean": -147.6150000000002,
          "profit_std": 192.0369200482453,
          "s": 175
         },
         {
          "N": 100,
          "S": 1000,
          "lost_mean": 1.49,
          "lost_std": 9.630019352383082,
          "m": 90,
          "profit_mean": -507.8470000000002,
          "profit_std": 446.96536585482477,
          "s": 175
         },
         {
          "N": 100,
          "S": 300,
          "lost_mean": 0.68,
          "lost_std": 6.5007847234162455,
          "m": 90,
          "profit_mean": 2051.976,
          "profit_std": 166.18719645829125,
          "s": 200
         },
         {
          "N": 100,
          "S": 400,
          "lost_mean": 0.82,
          "lost_std": 5.341622346528188,
          "m": 90,
          "profit_mean": 2142.9079999999994,
          "profit_std": 205.21167277332017,
          "s": 200
         },
         {
          "N": 100,
          "S": 500,
          "lost_mean": 0.79,
          "lost_std": 4.759456296933951,
          "m": 90,
          "profit_mean": 1773.4129999999998,
          "profit_std": 192.5260631208359,
          "s": 200
         },
         {
          "N": 100,
          "S": 600,
          "lost_mean": 1.25,
          "lost_std": 7.629521345379143,
          "m": 90,
          "profit_mean": 1365.214,
          "profit_std": 268.5887686979988,
          "s": 200
         },
         {
          "N": 100,
          "S": 700,
          "lost_mean": 0.72,
          "lost_std": 4.9991514431466415,
          "m": 90,
          "profit_mean": 807.732,
          "profit_std": 167.06069294502737,
          "s": 200
         },
         {
          "N": 100,
          "S": 800,
          "lost_mean": 0.33,
          "lost_std": 2.074642478631298,
          "m": 90,
          "profit_mean": 690.9069999999998,
          "profit_std": 228.549274688427,
          "s": 200
         },
         {
          "N": 100,
          "S": 900,
          "lost_mean": 0.38,
          "lost_std": 2.643001049083135,
          "m": 90,
          "profit_mean": -141.55000000000027,
          "profit_std": 207.4540837599657,
          "s": 200
         },
         {
          "N": 100,
          "S": 1000,
          "lost_mean": 0.52,
          "lost_std": 5.199999999999998,
          "m": 90,
          "profit_mean": -772.3740000000003,
          "profit_std": 332.43444546149686,
          "s": 200
         },
         {
          "N": 100,
          "S": 300,
          "lost_mean": 1.5,
          "lost_std": 7.6785152184257575,
          "m": 90,
          "profit_mean": 1663.1519999999998,
          "profit_std": 212.2201855801581,
          "s": 225
         },
         {
          "N": 100,
          "S": 400,
          "lost_mean": 0.7,
          "lost_std": 4.924685294770139,
          "m": 90,
          "profit_mean": 1930.973,
          "profit_std": 173.7541569039836,
          "s": 225
         },
         {
          "N": 100,
          "S": 500,
          "lost_mean": 1.65,
          "lost_std": 13.0580483328339,
          "m": 90,
          "profit_mean": 1677.326,
          "profit_std": 206.8589431169819,
          "s": 225
         },
         {
          "N": 100,
          "S": 600,
          "lost_mean": 2.13,
          "lost_std": 12.449214003017588,
          "m": 90,
          "profit_mean": 1233.0069999999998,
          "profit_std": 224.07148492065085,
          "s": 225
         },
         {
          "N": 100,
          "S": 700,
          "lost_mean": 0.93,
          "lost_std": 6.244601709080452,
          "m": 90,
          "profit_mean": 808.2299999999999,
          "profit_std": 207.0249545783837,
          "s": 225
         },
         {
          "N": 100,
          "S": 800,
          "lost_mean": 0.1,
          "lost_std": 1.0000000000000007,
          "m": 90,
          "profit_mean": 534.6999999999999,
          "profit_std": 304.10735478170074,
          "s": 225
         },
         {
          "N": 100,
          "S": 900,
          "lost_mean": 0.48,
          "lost_std": 4.071284015559898,
          "m": 90,
          "profit_mean": -243.1130000000002,
          "profit_std": 201.20523400977746,
          "s": 225
         },
         {
          "N": 100,
          "S": 1000,
          "lost_mean": 1.32,
          "lost_std": 7.085167320508104,
          "m": 90,
          "profit_mean": -954.1800000000002,
          "profit_std": 197.84985992086783,
          "s": 225
         },
         {
          "N": 100,
          "S": 300,
          "lost_mean": 0.4,
          "lost_std": 2.8141058827257948,
          "m": 90,
          "profit_mean": 1026.938,
          "profit_std": 254.7140614235278,
          "s": 250
         },
         {
          "N": 100,
          "S": 400,
          "lost_mean": 0.1,
          "lost_std": 1.0000000000000007,
          "m": 90,
          "profit_mean": 1651.1429999999998,
          "profit_std": 172.60763601622932,
          "s": 250
         },
         {
          "N": 100,
          "S": 500,
          "lost_mean": 0.21,
          "lost_std": 1.6714779040832046,
          "m": 90,
          "profit_mean": 1488.8509999999997,
          "profit_std": 226.5972819360552,
          "s": 250
         },
         {
          "N": 100,
          "S": 600,
          "lost_mean": 2.18,
          "lost_std": 13.832606771719133,
          "m": 90,
          "profit_mean": 1213.382,
          "profit_std": 196.7978249756625,
          "s": 250
         },
         {
          "N": 100,
          "S": 700,
          "lost_mean": 1.76,
          "lost_std": 15.115795471204054,
          "m": 90,
          "profit_mean": 799.0329999999999,
          "profit_std": 176.64162204127808,
          "s": 250
         },
         {
          "N": 100,
          "S": 800,
          "lost_mean": 0.03,
          "lost_std": 0.2999999999999999,
          "m": 90,
          "profit_mean": 168.5249999999998,
          "profit_std": 342.22972507107306,
          "s": 250
         },
         {
          "N": 100,
          "S": 900,
          "lost_mean": 0.96,
          "lost_std": 7.126448107315638,
          "m": 90,
          "profit_mean": -275.16500000000025,
          "profit_std": 195.89202672994028,
          "s": 250
         },
         {
          "N": 100,
          "S": 1000,
          "lost_mean": 0,
          "lost_std": 0,
          "m": 90,
          "profit_mean": -1019.1280000000002,
          "profit_std": 171.74590291380093,
          "s": 250
         }
        ]
       },
       "encoding": {
        "color": {
         "field": "profit_mean",
         "scale": {
          "scheme": "plasma"
         },
         "type": "quantitative"
        },
        "x": {
         "field": "S",
         "type": "quantitative"
        },
        "y": {
         "field": "s",
         "type": "quantitative"
        }
       },
       "mark": "point"
      },
      "image/png": "[encoded data removed]",
      "image/svg+xml": [
       "<?xml version=\"1.0\" encoding=\"utf-8\"?>\n",
       "<!DOCTYPE svg PUBLIC \"-//W3C//DTD SVG 1.1//EN\" \"http://www.w3.org/Graphics/SVG/1.1/DTD/svg11.dtd\">\n",
       "<svg xmlns=\"http://www.w3.org/2000/svg\" xmlns:xlink=\"http://www.w3.org/1999/xlink\" version=\"1.1\" class=\"marks\" width=\"332\" height=\"242\" viewBox=\"0 0 332 242\"><rect width=\"332\" height=\"242\" fill=\"white\"/><g fill=\"none\" stroke-miterlimit=\"10\" transform=\"translate(45,5)\"><g class=\"mark-group role-frame root\" role=\"graphics-object\" aria-roledescription=\"group mark container\"><g transform=\"translate(0,0)\"><path class=\"background\" aria-hidden=\"true\" d=\"M0.5,0.5h200v200h-200Z\" stroke=\"#ddd\"/><g><g class=\"mark-group role-axis\" aria-hidden=\"true\"><g transform=\"translate(0.5,200.5)\"><path class=\"background\" aria-hidden=\"true\" d=\"M0,0h0v0h0Z\" pointer-events=\"none\"/><g><g class=\"mark-rule role-axis-grid\" pointer-events=\"none\"><line transform=\"translate(0,-200)\" x2=\"0\" y2=\"200\" stroke=\"#ddd\" stroke-width=\"1\" opacity=\"1\"/><line transform=\"translate(40,-200)\" x2=\"0\" y2=\"200\" stroke=\"#ddd\" stroke-width=\"1\" opacity=\"1\"/><line transform=\"translate(80,-200)\" x2=\"0\" y2=\"200\" stroke=\"#ddd\" stroke-width=\"1\" opacity=\"1\"/><line transform=\"translate(120,-200)\" x2=\"0\" y2=\"200\" stroke=\"#ddd\" stroke-width=\"1\" opacity=\"1\"/><line transform=\"translate(160,-200)\" x2=\"0\" y2=\"200\" stroke=\"#ddd\" stroke-width=\"1\" opacity=\"1\"/><line transform=\"translate(200,-200)\" x2=\"0\" y2=\"200\" stroke=\"#ddd\" stroke-width=\"1\" opacity=\"1\"/></g></g><path class=\"foreground\" aria-hidden=\"true\" d=\"\" pointer-events=\"none\" display=\"none\"/></g></g><g class=\"mark-group role-axis\" aria-hidden=\"true\"><g transform=\"translate(0.5,0.5)\"><path class=\"background\" aria-hidden=\"true\" d=\"M0,0h0v0h0Z\" pointer-events=\"none\"/><g><g class=\"mark-rule role-axis-grid\" pointer-events=\"none\"><line transform=\"translate(0,200)\" x2=\"200\" y2=\"0\" stroke=\"#ddd\" stroke-width=\"1\" opacity=\"1\"/><line transform=\"translate(0,162)\" x2=\"200\" y2=\"0\" stroke=\"#ddd\" stroke-width=\"1\" opacity=\"1\"/><line transform=\"translate(0,123)\" x2=\"200\" y2=\"0\" stroke=\"#ddd\" stroke-width=\"1\" opacity=\"1\"/><line transform=\"translate(0,85)\" x2=\"200\" y2=\"0\" stroke=\"#ddd\" stroke-width=\"1\" opacity=\"1\"/><line transform=\"translate(0,46)\" x2=\"200\" y2=\"0\" stroke=\"#ddd\" stroke-width=\"1\" opacity=\"1\"/><line transform=\"translate(0,8)\" x2=\"200\" y2=\"0\" stroke=\"#ddd\" stroke-width=\"1\" opacity=\"1\"/></g></g><path class=\"foreground\" aria-hidden=\"true\" d=\"\" pointer-events=\"none\" display=\"none\"/></g></g><g class=\"mark-group role-axis\" role=\"graphics-symbol\" aria-roledescription=\"axis\" aria-label=\"X-axis titled 'S' for a linear scale with values from 0 to 1,000\"><g transform=\"translate(0.5,200.5)\"><path class=\"background\" aria-hidden=\"true\" d=\"M0,0h0v0h0Z\" pointer-events=\"none\"/><g><g class=\"mark-rule role-axis-tick\" pointer-events=\"none\"><line transform=\"translate(0,0)\" x2=\"0\" y2=\"5\" stroke=\"#888\" stroke-width=\"1\" opacity=\"1\"/><line transform=\"translate(40,0)\" x2=\"0\" y2=\"5\" stroke=\"#888\" stroke-width=\"1\" opacity=\"1\"/><line transform=\"translate(80,0)\" x2=\"0\" y2=\"5\" stroke=\"#888\" stroke-width=\"1\" opacity=\"1\"/><line transform=\"translate(120,0)\" x2=\"0\" y2=\"5\" stroke=\"#888\" stroke-width=\"1\" opacity=\"1\"/><line transform=\"translate(160,0)\" x2=\"0\" y2=\"5\" stroke=\"#888\" stroke-width=\"1\" opacity=\"1\"/><line transform=\"translate(200,0)\" x2=\"0\" y2=\"5\" stroke=\"#888\" stroke-width=\"1\" opacity=\"1\"/></g><g class=\"mark-text role-axis-label\" pointer-events=\"none\"><text text-anchor=\"start\" transform=\"translate(0,15)\" font-family=\"sans-serif\" font-size=\"10px\" fill=\"#000\" opacity=\"1\">0</text><text text-anchor=\"middle\" transform=\"translate(40,15)\" font-family=\"sans-serif\" font-size=\"10px\" fill=\"#000\" opacity=\"1\">200</text><text text-anchor=\"middle\" transform=\"translate(80,15)\" font-family=\"sans-serif\" font-size=\"10px\" fill=\"#000\" opacity=\"1\">400</text><text text-anchor=\"middle\" transform=\"translate(120,15)\" font-family=\"sans-serif\" font-size=\"10px\" fill=\"#000\" opacity=\"1\">600</text><text text-anchor=\"middle\" transform=\"translate(160,15)\" font-family=\"sans-serif\" font-size=\"10px\" fill=\"#000\" opacity=\"1\">800</text><text text-anchor=\"end\" transform=\"translate(200,15)\" font-family=\"sans-serif\" font-size=\"10px\" fill=\"#000\" opacity=\"1\">1,000</text></g><g class=\"mark-rule role-axis-domain\" pointer-events=\"none\"><line transform=\"translate(0,0)\" x2=\"200\" y2=\"0\" stroke=\"#888\" stroke-width=\"1\" opacity=\"1\"/></g><g class=\"mark-text role-axis-title\" pointer-events=\"none\"><text text-anchor=\"middle\" transform=\"translate(100,30)\" font-family=\"sans-serif\" font-size=\"11px\" font-weight=\"bold\" fill=\"#000\" opacity=\"1\">S</text></g></g><path class=\"foreground\" aria-hidden=\"true\" d=\"\" pointer-events=\"none\" display=\"none\"/></g></g><g class=\"mark-group role-axis\" role=\"graphics-symbol\" aria-roledescription=\"axis\" aria-label=\"Y-axis titled 's' for a linear scale with values from 0 to 260\"><g transform=\"translate(0.5,0.5)\"><path class=\"background\" aria-hidden=\"true\" d=\"M0,0h0v0h0Z\" pointer-events=\"none\"/><g><g class=\"mark-rule role-axis-tick\" pointer-events=\"none\"><line transform=\"translate(0,200)\" x2=\"-5\" y2=\"0\" stroke=\"#888\" stroke-width=\"1\" opacity=\"1\"/><line transform=\"translate(0,162)\" x2=\"-5\" y2=\"0\" stroke=\"#888\" stroke-width=\"1\" opacity=\"1\"/><line transform=\"translate(0,123)\" x2=\"-5\" y2=\"0\" stroke=\"#888\" stroke-width=\"1\" opacity=\"1\"/><line transform=\"translate(0,85)\" x2=\"-5\" y2=\"0\" stroke=\"#888\" stroke-width=\"1\" opacity=\"1\"/><line transform=\"translate(0,46)\" x2=\"-5\" y2=\"0\" stroke=\"#888\" stroke-width=\"1\" opacity=\"1\"/><line transform=\"translate(0,8)\" x2=\"-5\" y2=\"0\" stroke=\"#888\" stroke-width=\"1\" opacity=\"1\"/></g><g class=\"mark-text role-axis-label\" pointer-events=\"none\"><text text-anchor=\"end\" transform=\"translate(-7,203)\" font-family=\"sans-serif\" font-size=\"10px\" fill=\"#000\" opacity=\"1\">0</text><text text-anchor=\"end\" transform=\"translate(-7,164.53846153846155)\" font-family=\"sans-serif\" font-size=\"10px\" fill=\"#000\" opacity=\"1\">50</text><text text-anchor=\"end\" transform=\"translate(-7,126.07692307692308)\" font-family=\"sans-serif\" font-size=\"10px\" fill=\"#000\" opacity=\"1\">100</text><text text-anchor=\"end\" transform=\"translate(-7,87.61538461538463)\" font-family=\"sans-serif\" font-size=\"10px\" fill=\"#000\" opacity=\"1\">150</text><text text-anchor=\"end\" transform=\"translate(-7,49.153846153846146)\" font-family=\"sans-serif\" font-size=\"10px\" fill=\"#000\" opacity=\"1\">200</text><text text-anchor=\"end\" transform=\"translate(-7,10.692307692307686)\" font-family=\"sans-serif\" font-size=\"10px\" fill=\"#000\" opacity=\"1\">250</text></g><g class=\"mark-rule role-axis-domain\" pointer-events=\"none\"><line transform=\"translate(0,200)\" x2=\"0\" y2=\"-200\" stroke=\"#888\" stroke-width=\"1\" opacity=\"1\"/></g><g class=\"mark-text role-axis-title\" pointer-events=\"none\"><text text-anchor=\"middle\" transform=\"translate(-29,100) rotate(-90) translate(0,-2)\" font-family=\"sans-serif\" font-size=\"11px\" font-weight=\"bold\" fill=\"#000\" opacity=\"1\">s</text></g></g><path class=\"foreground\" aria-hidden=\"true\" d=\"\" pointer-events=\"none\" display=\"none\"/></g></g><g class=\"mark-symbol role-mark marks\" role=\"graphics-object\" aria-roledescription=\"symbol mark container\"><path aria-label=\"S: 100; s: 25; profit_mean: 2971.249\" role=\"graphics-symbol\" aria-roledescription=\"point\" transform=\"translate(20,180.76923076923077)\" d=\"M2.7386127875258306,0A2.7386127875258306,2.7386127875258306,0,1,1,-2.7386127875258306,0A2.7386127875258306,2.7386127875258306,0,1,1,2.7386127875258306,0\" stroke=\"rgb(254, 192, 41)\" stroke-width=\"2\" opacity=\"0.7\"/><path aria-label=\"S: 200; s: 25; profit_mean: 3579.796\" role=\"graphics-symbol\" aria-roledescription=\"point\" transform=\"translate(40,180.76923076923077)\" d=\"M2.7386127875258306,0A2.7386127875258306,2.7386127875258306,0,1,1,-2.7386127875258306,0A2.7386127875258306,2.7386127875258306,0,1,1,2.7386127875258306,0\" stroke=\"rgb(240, 249, 33)\" stroke-width=\"2\" opacity=\"0.7\"/><path aria-label=\"S: 300; s: 25; profit_mean: 3488.405\" role=\"graphics-symbol\" aria-roledescription=\"point\" transform=\"translate(60,180.76923076923077)\" d=\"M2.7386127875258306,0A2.7386127875258306,2.7386127875258306,0,1,1,-2.7386127875258306,0A2.7386127875258306,2.7386127875258306,0,1,1,2.7386127875258306,0\" stroke=\"rgb(243, 240, 37)\" stroke-width=\"2\" opacity=\"0.7\"/><path aria-label=\"S: 400; s: 25; profit_mean: 3081.231\" role=\"graphics-symbol\" aria-roledescription=\"point\" transform=\"translate(80,180.76923076923077)\" d=\"M2.7386127875258306,0A2.7386127875258306,2.7386127875258306,0,1,1,-2.7386127875258306,0A2.7386127875258306,2.7386127875258306,0,1,1,2.7386127875258306,0\" stroke=\"rgb(253, 202, 38)\" stroke-width=\"2\" opacity=\"0.7\"/><path aria-label=\"S: 500; s: 25; profit_mean: 2630.794\" role=\"graphics-symbol\" aria-roledescription=\"point\" transform=\"translate(100,180.76923076923077)\" d=\"M2.7386127875258306,0A2.7386127875258306,2.7386127875258306,0,1,1,-2.7386127875258306,0A2.7386127875258306,2.7386127875258306,0,1,1,2.7386127875258306,0\" stroke=\"rgb(252, 164, 55)\" stroke-width=\"2\" opacity=\"0.7\"/><path aria-label=\"S: 600; s: 25; profit_mean: 2546.72\" role=\"graphics-symbol\" aria-roledescription=\"point\" transform=\"translate(120,180.76923076923077)\" d=\"M2.7386127875258306,0A2.7386127875258306,2.7386127875258306,0,1,1,-2.7386127875258306,0A2.7386127875258306,2.7386127875258306,0,1,1,2.7386127875258306,0\" stroke=\"rgb(251, 157, 59)\" stroke-width=\"2\" opacity=\"0.7\"/><path aria-label=\"S: 700; s: 25; profit_mean: 1683.641\" role=\"graphics-symbol\" aria-roledescription=\"point\" transform=\"translate(140,180.76923076923077)\" d=\"M2.7386127875258306,0A2.7386127875258306,2.7386127875258306,0,1,1,-2.7386127875258306,0A2.7386127875258306,2.7386127875258306,0,1,1,2.7386127875258306,0\" stroke=\"rgb(222, 96, 101)\" stroke-width=\"2\" opacity=\"0.7\"/><path aria-label=\"S: 800; s: 25; profit_mean: 1200.973\" role=\"graphics-symbol\" aria-roledescription=\"point\" transform=\"translate(160,180.76923076923077)\" d=\"M2.7386127875258306,0A2.7386127875258306,2.7386127875258306,0,1,1,-2.7386127875258306,0A2.7386127875258306,2.7386127875258306,0,1,1,2.7386127875258306,0\" stroke=\"rgb(199, 66, 125)\" stroke-width=\"2\" opacity=\"0.7\"/><path aria-label=\"S: 900; s: 25; profit_mean: 1367.398\" role=\"graphics-symbol\" aria-roledescription=\"point\" transform=\"translate(180,180.76923076923077)\" d=\"M2.7386127875258306,0A2.7386127875258306,2.7386127875258306,0,1,1,-2.7386127875258306,0A2.7386127875258306,2.7386127875258306,0,1,1,2.7386127875258306,0\" stroke=\"rgb(208, 77, 116)\" stroke-width=\"2\" opacity=\"0.7\"/><path aria-label=\"S: 1000; s: 25; profit_mean: 419.791\" role=\"graphics-symbol\" aria-roledescription=\"point\" transform=\"translate(200,180.76923076923077)\" d=\"M2.7386127875258306,0A2.7386127875258306,2.7386127875258306,0,1,1,-2.7386127875258306,0A2.7386127875258306,2.7386127875258306,0,1,1,2.7386127875258306,0\" stroke=\"rgb(149, 17, 162)\" stroke-width=\"2\" opacity=\"0.7\"/><path aria-label=\"S: 100; s: 50; profit_mean: 2661.404\" role=\"graphics-symbol\" aria-roledescription=\"point\" transform=\"translate(20,161.53846153846155)\" d=\"M2.7386127875258306,0A2.7386127875258306,2.7386127875258306,0,1,1,-2.7386127875258306,0A2.7386127875258306,2.7386127875258306,0,1,1,2.7386127875258306,0\" stroke=\"rgb(252, 166, 54)\" stroke-width=\"2\" opacity=\"0.7\"/><path aria-label=\"S: 200; s: 50; profit_mean: 3534.315\" role=\"graphics-symbol\" aria-roledescription=\"point\" transform=\"translate(40,161.53846153846155)\" d=\"M2.7386127875258306,0A2.7386127875258306,2.7386127875258306,0,1,1,-2.7386127875258306,0A2.7386127875258306,2.7386127875258306,0,1,1,2.7386127875258306,0\" stroke=\"rgb(241, 245, 35)\" stroke-width=\"2\" opacity=\"0.7\"/><path aria-label=\"S: 300; s: 50; profit_mean: 3394.556\" role=\"graphics-symbol\" aria-roledescription=\"point\" transform=\"translate(60,161.53846153846155)\" d=\"M2.7386127875258306,0A2.7386127875258306,2.7386127875258306,0,1,1,-2.7386127875258306,0A2.7386127875258306,2.7386127875258306,0,1,1,2.7386127875258306,0\" stroke=\"rgb(246, 231, 38)\" stroke-width=\"2\" opacity=\"0.7\"/><path aria-label=\"S: 400; s: 50; profit_mean: 3061.301\" role=\"graphics-symbol\" aria-roledescription=\"point\" transform=\"translate(80,161.53846153846155)\" d=\"M2.7386127875258306,0A2.7386127875258306,2.7386127875258306,0,1,1,-2.7386127875258306,0A2.7386127875258306,2.7386127875258306,0,1,1,2.7386127875258306,0\" stroke=\"rgb(253, 201, 39)\" stroke-width=\"2\" opacity=\"0.7\"/><path aria-label=\"S: 500; s: 50; profit_mean: 2721.589\" role=\"graphics-symbol\" aria-roledescription=\"point\" transform=\"translate(100,161.53846153846155)\" d=\"M2.7386127875258306,0A2.7386127875258306,2.7386127875258306,0,1,1,-2.7386127875258306,0A2.7386127875258306,2.7386127875258306,0,1,1,2.7386127875258306,0\" stroke=\"rgb(252, 171, 51)\" stroke-width=\"2\" opacity=\"0.7\"/><path aria-label=\"S: 600; s: 50; profit_mean: 2407.249\" role=\"graphics-symbol\" aria-roledescription=\"point\" transform=\"translate(120,161.53846153846155)\" d=\"M2.7386127875258306,0A2.7386127875258306,2.7386127875258306,0,1,1,-2.7386127875258306,0A2.7386127875258306,2.7386127875258306,0,1,1,2.7386127875258306,0\" stroke=\"rgb(247, 147, 66)\" stroke-width=\"2\" opacity=\"0.7\"/><path aria-label=\"S: 700; s: 50; profit_mean: 1642.604\" role=\"graphics-symbol\" aria-roledescription=\"point\" transform=\"translate(140,161.53846153846155)\" d=\"M2.7386127875258306,0A2.7386127875258306,2.7386127875258306,0,1,1,-2.7386127875258306,0A2.7386127875258306,2.7386127875258306,0,1,1,2.7386127875258306,0\" stroke=\"rgb(221, 94, 102)\" stroke-width=\"2\" opacity=\"0.7\"/><path aria-label=\"S: 800; s: 50; profit_mean: 1014.095\" role=\"graphics-symbol\" aria-roledescription=\"point\" transform=\"translate(160,161.53846153846155)\" d=\"M2.7386127875258306,0A2.7386127875258306,2.7386127875258306,0,1,1,-2.7386127875258306,0A2.7386127875258306,2.7386127875258306,0,1,1,2.7386127875258306,0\" stroke=\"rgb(188, 54, 134)\" stroke-width=\"2\" opacity=\"0.7\"/><path aria-label=\"S: 900; s: 50; profit_mean: 1231.521\" role=\"graphics-symbol\" aria-roledescription=\"point\" transform=\"translate(180,161.53846153846155)\" d=\"M2.7386127875258306,0A2.7386127875258306,2.7386127875258306,0,1,1,-2.7386127875258306,0A2.7386127875258306,2.7386127875258306,0,1,1,2.7386127875258306,0\" stroke=\"rgb(200, 68, 123)\" stroke-width=\"2\" opacity=\"0.7\"/><path aria-label=\"S: 1000; s: 50; profit_mean: 435.771\" role=\"graphics-symbol\" aria-roledescription=\"point\" transform=\"translate(200,161.53846153846155)\" d=\"M2.7386127875258306,0A2.7386127875258306,2.7386127875258306,0,1,1,-2.7386127875258306,0A2.7386127875258306,2.7386127875258306,0,1,1,2.7386127875258306,0\" stroke=\"rgb(150, 18, 161)\" stroke-width=\"2\" opacity=\"0.7\"/><path aria-label=\"S: 100; s: 75; profit_mean: 1855.157\" role=\"graphics-symbol\" aria-roledescription=\"point\" transform=\"translate(20,142.30769230769232)\" d=\"M2.7386127875258306,0A2.7386127875258306,2.7386127875258306,0,1,1,-2.7386127875258306,0A2.7386127875258306,2.7386127875258306,0,1,1,2.7386127875258306,0\" stroke=\"rgb(229, 107, 93)\" stroke-width=\"2\" opacity=\"0.7\"/><path aria-label=\"S: 200; s: 75; profit_mean: 3346.444\" role=\"graphics-symbol\" aria-roledescription=\"point\" transform=\"translate(40,142.30769230769232)\" d=\"M2.7386127875258306,0A2.7386127875258306,2.7386127875258306,0,1,1,-2.7386127875258306,0A2.7386127875258306,2.7386127875258306,0,1,1,2.7386127875258306,0\" stroke=\"rgb(247, 227, 37)\" stroke-width=\"2\" opacity=\"0.7\"/><path aria-label=\"S: 300; s: 75; profit_mean: 3300.202\" role=\"graphics-symbol\" aria-roledescription=\"point\" transform=\"translate(60,142.30769230769232)\" d=\"M2.7386127875258306,0A2.7386127875258306,2.7386127875258306,0,1,1,-2.7386127875258306,0A2.7386127875258306,2.7386127875258306,0,1,1,2.7386127875258306,0\" stroke=\"rgb(248, 222, 37)\" stroke-width=\"2\" opacity=\"0.7\"/><path aria-label=\"S: 400; s: 75; profit_mean: 3035.648\" role=\"graphics-symbol\" aria-roledescription=\"point\" transform=\"translate(80,142.30769230769232)\" d=\"M2.7386127875258306,0A2.7386127875258306,2.7386127875258306,0,1,1,-2.7386127875258306,0A2.7386127875258306,2.7386127875258306,0,1,1,2.7386127875258306,0\" stroke=\"rgb(253, 198, 39)\" stroke-width=\"2\" opacity=\"0.7\"/><path aria-label=\"S: 500; s: 75; profit_mean: 2687.468\" role=\"graphics-symbol\" aria-roledescription=\"point\" transform=\"translate(100,142.30769230769232)\" d=\"M2.7386127875258306,0A2.7386127875258306,2.7386127875258306,0,1,1,-2.7386127875258306,0A2.7386127875258306,2.7386127875258306,0,1,1,2.7386127875258306,0\" stroke=\"rgb(252, 168, 53)\" stroke-width=\"2\" opacity=\"0.7\"/><path aria-label=\"S: 600; s: 75; profit_mean: 2028.084\" role=\"graphics-symbol\" aria-roledescription=\"point\" transform=\"translate(120,142.30769230769232)\" d=\"M2.7386127875258306,0A2.7386127875258306,2.7386127875258306,0,1,1,-2.7386127875258306,0A2.7386127875258306,2.7386127875258306,0,1,1,2.7386127875258306,0\" stroke=\"rgb(236, 120, 84)\" stroke-width=\"2\" opacity=\"0.7\"/><path aria-label=\"S: 700; s: 75; profit_mean: 1678.705\" role=\"graphics-symbol\" aria-roledescription=\"point\" transform=\"translate(140,142.30769230769232)\" d=\"M2.7386127875258306,0A2.7386127875258306,2.7386127875258306,0,1,1,-2.7386127875258306,0A2.7386127875258306,2.7386127875258306,0,1,1,2.7386127875258306,0\" stroke=\"rgb(222, 96, 101)\" stroke-width=\"2\" opacity=\"0.7\"/><path aria-label=\"S: 800; s: 75; profit_mean: 914.724\" role=\"graphics-symbol\" aria-roledescription=\"point\" transform=\"translate(160,142.30769230769232)\" d=\"M2.7386127875258306,0A2.7386127875258306,2.7386127875258306,0,1,1,-2.7386127875258306,0A2.7386127875258306,2.7386127875258306,0,1,1,2.7386127875258306,0\" stroke=\"rgb(183, 48, 139)\" stroke-width=\"2\" opacity=\"0.7\"/><path aria-label=\"S: 900; s: 75; profit_mean: 682.48\" role=\"graphics-symbol\" aria-roledescription=\"point\" transform=\"translate(180,142.30769230769232)\" d=\"M2.7386127875258306,0A2.7386127875258306,2.7386127875258306,0,1,1,-2.7386127875258306,0A2.7386127875258306,2.7386127875258306,0,1,1,2.7386127875258306,0\" stroke=\"rgb(168, 34, 151)\" stroke-width=\"2\" opacity=\"0.7\"/><path aria-label=\"S: 1000; s: 75; profit_mean: 439.681\" role=\"graphics-symbol\" aria-roledescription=\"point\" transform=\"translate(200,142.30769230769232)\" d=\"M2.7386127875258306,0A2.7386127875258306,2.7386127875258306,0,1,1,-2.7386127875258306,0A2.7386127875258306,2.7386127875258306,0,1,1,2.7386127875258306,0\" stroke=\"rgb(150, 18, 161)\" stroke-width=\"2\" opacity=\"0.7\"/><path aria-label=\"S: 200; s: 100; profit_mean: 3020.23\" role=\"graphics-symbol\" aria-roledescription=\"point\" transform=\"translate(40,123.07692307692308)\" d=\"M2.7386127875258306,0A2.7386127875258306,2.7386127875258306,0,1,1,-2.7386127875258306,0A2.7386127875258306,2.7386127875258306,0,1,1,2.7386127875258306,0\" stroke=\"rgb(253, 197, 40)\" stroke-width=\"2\" opacity=\"0.7\"/><path aria-label=\"S: 300; s: 100; profit_mean: 3120.251\" role=\"graphics-symbol\" aria-roledescription=\"point\" transform=\"translate(60,123.07692307692308)\" d=\"M2.7386127875258306,0A2.7386127875258306,2.7386127875258306,0,1,1,-2.7386127875258306,0A2.7386127875258306,2.7386127875258306,0,1,1,2.7386127875258306,0\" stroke=\"rgb(252, 206, 37)\" stroke-width=\"2\" opacity=\"0.7\"/><path aria-label=\"S: 400; s: 100; profit_mean: 2795.237\" role=\"graphics-symbol\" aria-roledescription=\"point\" transform=\"translate(80,123.07692307692308)\" d=\"M2.7386127875258306,0A2.7386127875258306,2.7386127875258306,0,1,1,-2.7386127875258306,0A2.7386127875258306,2.7386127875258306,0,1,1,2.7386127875258306,0\" stroke=\"rgb(253, 177, 48)\" stroke-width=\"2\" opacity=\"0.7\"/><path aria-label=\"S: 500; s: 100; profit_mean: 2386.138\" role=\"graphics-symbol\" aria-roledescription=\"point\" transform=\"translate(100,123.07692307692308)\" d=\"M2.7386127875258306,0A2.7386127875258306,2.7386127875258306,0,1,1,-2.7386127875258306,0A2.7386127875258306,2.7386127875258306,0,1,1,2.7386127875258306,0\" stroke=\"rgb(247, 145, 67)\" stroke-width=\"2\" opacity=\"0.7\"/><path aria-label=\"S: 600; s: 100; profit_mean: 1828.571\" role=\"graphics-symbol\" aria-roledescription=\"point\" transform=\"translate(120,123.07692307692308)\" d=\"M2.7386127875258306,0A2.7386127875258306,2.7386127875258306,0,1,1,-2.7386127875258306,0A2.7386127875258306,2.7386127875258306,0,1,1,2.7386127875258306,0\" stroke=\"rgb(228, 106, 94)\" stroke-width=\"2\" opacity=\"0.7\"/><path aria-label=\"S: 700; s: 100; profit_mean: 1683.693\" role=\"graphics-symbol\" aria-roledescription=\"point\" transform=\"translate(140,123.07692307692308)\" d=\"M2.7386127875258306,0A2.7386127875258306,2.7386127875258306,0,1,1,-2.7386127875258306,0A2.7386127875258306,2.7386127875258306,0,1,1,2.7386127875258306,0\" stroke=\"rgb(222, 96, 101)\" stroke-width=\"2\" opacity=\"0.7\"/><path aria-label=\"S: 800; s: 100; profit_mean: 814.061\" role=\"graphics-symbol\" aria-roledescription=\"point\" transform=\"translate(160,123.07692307692308)\" d=\"M2.7386127875258306,0A2.7386127875258306,2.7386127875258306,0,1,1,-2.7386127875258306,0A2.7386127875258306,2.7386127875258306,0,1,1,2.7386127875258306,0\" stroke=\"rgb(177, 42, 144)\" stroke-width=\"2\" opacity=\"0.7\"/><path aria-label=\"S: 900; s: 100; profit_mean: 293.37\" role=\"graphics-symbol\" aria-roledescription=\"point\" transform=\"translate(180,123.07692307692308)\" d=\"M2.7386127875258306,0A2.7386127875258306,2.7386127875258306,0,1,1,-2.7386127875258306,0A2.7386127875258306,2.7386127875258306,0,1,1,2.7386127875258306,0\" stroke=\"rgb(139, 9, 165)\" stroke-width=\"2\" opacity=\"0.7\"/><path aria-label=\"S: 1000; s: 100; profit_mean: 428.685\" role=\"graphics-symbol\" aria-roledescription=\"point\" transform=\"translate(200,123.07692307692308)\" d=\"M2.7386127875258306,0A2.7386127875258306,2.7386127875258306,0,1,1,-2.7386127875258306,0A2.7386127875258306,2.7386127875258306,0,1,1,2.7386127875258306,0\" stroke=\"rgb(149, 17, 161)\" stroke-width=\"2\" opacity=\"0.7\"/><path aria-label=\"S: 200; s: 125; profit_mean: 2615.48\" role=\"graphics-symbol\" aria-roledescription=\"point\" transform=\"translate(40,103.84615384615384)\" d=\"M2.7386127875258306,0A2.7386127875258306,2.7386127875258306,0,1,1,-2.7386127875258306,0A2.7386127875258306,2.7386127875258306,0,1,1,2.7386127875258306,0\" stroke=\"rgb(251, 163, 56)\" stroke-width=\"2\" opacity=\"0.7\"/><path aria-label=\"S: 300; s: 125; profit_mean: 2913.112\" role=\"graphics-symbol\" aria-roledescription=\"point\" transform=\"translate(60,103.84615384615384)\" d=\"M2.7386127875258306,0A2.7386127875258306,2.7386127875258306,0,1,1,-2.7386127875258306,0A2.7386127875258306,2.7386127875258306,0,1,1,2.7386127875258306,0\" stroke=\"rgb(254, 187, 43)\" stroke-width=\"2\" opacity=\"0.7\"/><path aria-label=\"S: 400; s: 125; profit_mean: 2680.035\" role=\"graphics-symbol\" aria-roledescription=\"point\" transform=\"translate(80,103.84615384615384)\" d=\"M2.7386127875258306,0A2.7386127875258306,2.7386127875258306,0,1,1,-2.7386127875258306,0A2.7386127875258306,2.7386127875258306,0,1,1,2.7386127875258306,0\" stroke=\"rgb(252, 168, 53)\" stroke-width=\"2\" opacity=\"0.7\"/><path aria-label=\"S: 500; s: 125; profit_mean: 2227.969\" role=\"graphics-symbol\" aria-roledescription=\"point\" transform=\"translate(100,103.84615384615384)\" d=\"M2.7386127875258306,0A2.7386127875258306,2.7386127875258306,0,1,1,-2.7386127875258306,0A2.7386127875258306,2.7386127875258306,0,1,1,2.7386127875258306,0\" stroke=\"rgb(243, 133, 75)\" stroke-width=\"2\" opacity=\"0.7\"/><path aria-label=\"S: 600; s: 125; profit_mean: 1771.845\" role=\"graphics-symbol\" aria-roledescription=\"point\" transform=\"translate(120,103.84615384615384)\" d=\"M2.7386127875258306,0A2.7386127875258306,2.7386127875258306,0,1,1,-2.7386127875258306,0A2.7386127875258306,2.7386127875258306,0,1,1,2.7386127875258306,0\" stroke=\"rgb(226, 102, 97)\" stroke-width=\"2\" opacity=\"0.7\"/><path aria-label=\"S: 700; s: 125; profit_mean: 1545.762\" role=\"graphics-symbol\" aria-roledescription=\"point\" transform=\"translate(140,103.84615384615384)\" d=\"M2.7386127875258306,0A2.7386127875258306,2.7386127875258306,0,1,1,-2.7386127875258306,0A2.7386127875258306,2.7386127875258306,0,1,1,2.7386127875258306,0\" stroke=\"rgb(216, 88, 107)\" stroke-width=\"2\" opacity=\"0.7\"/><path aria-label=\"S: 800; s: 125; profit_mean: 722.494\" role=\"graphics-symbol\" aria-roledescription=\"point\" transform=\"translate(160,103.84615384615384)\" d=\"M2.7386127875258306,0A2.7386127875258306,2.7386127875258306,0,1,1,-2.7386127875258306,0A2.7386127875258306,2.7386127875258306,0,1,1,2.7386127875258306,0\" stroke=\"rgb(171, 36, 149)\" stroke-width=\"2\" opacity=\"0.7\"/><path aria-label=\"S: 900; s: 125; profit_mean: 59.79\" role=\"graphics-symbol\" aria-roledescription=\"point\" transform=\"translate(180,103.84615384615384)\" d=\"M2.7386127875258306,0A2.7386127875258306,2.7386127875258306,0,1,1,-2.7386127875258306,0A2.7386127875258306,2.7386127875258306,0,1,1,2.7386127875258306,0\" stroke=\"rgb(120, 1, 168)\" stroke-width=\"2\" opacity=\"0.7\"/><path aria-label=\"S: 1000; s: 125; profit_mean: 268.157\" role=\"graphics-symbol\" aria-roledescription=\"point\" transform=\"translate(200,103.84615384615384)\" d=\"M2.7386127875258306,0A2.7386127875258306,2.7386127875258306,0,1,1,-2.7386127875258306,0A2.7386127875258306,2.7386127875258306,0,1,1,2.7386127875258306,0\" stroke=\"rgb(137, 8, 166)\" stroke-width=\"2\" opacity=\"0.7\"/><path aria-label=\"S: 200; s: 150; profit_mean: 1970.987\" role=\"graphics-symbol\" aria-roledescription=\"point\" transform=\"translate(40,84.61538461538463)\" d=\"M2.7386127875258306,0A2.7386127875258306,2.7386127875258306,0,1,1,-2.7386127875258306,0A2.7386127875258306,2.7386127875258306,0,1,1,2.7386127875258306,0\" stroke=\"rgb(234, 116, 87)\" stroke-width=\"2\" opacity=\"0.7\"/><path aria-label=\"S: 300; s: 150; profit_mean: 2671.952\" role=\"graphics-symbol\" aria-roledescription=\"point\" transform=\"translate(60,84.61538461538463)\" d=\"M2.7386127875258306,0A2.7386127875258306,2.7386127875258306,0,1,1,-2.7386127875258306,0A2.7386127875258306,2.7386127875258306,0,1,1,2.7386127875258306,0\" stroke=\"rgb(252, 167, 53)\" stroke-width=\"2\" opacity=\"0.7\"/><path aria-label=\"S: 400; s: 150; profit_mean: 2497.744\" role=\"graphics-symbol\" aria-roledescription=\"point\" transform=\"translate(80,84.61538461538463)\" d=\"M2.7386127875258306,0A2.7386127875258306,2.7386127875258306,0,1,1,-2.7386127875258306,0A2.7386127875258306,2.7386127875258306,0,1,1,2.7386127875258306,0\" stroke=\"rgb(250, 153, 61)\" stroke-width=\"2\" opacity=\"0.7\"/><path aria-label=\"S: 500; s: 150; profit_mean: 2149.314\" role=\"graphics-symbol\" aria-roledescription=\"point\" transform=\"translate(100,84.61538461538463)\" d=\"M2.7386127875258306,0A2.7386127875258306,2.7386127875258306,0,1,1,-2.7386127875258306,0A2.7386127875258306,2.7386127875258306,0,1,1,2.7386127875258306,0\" stroke=\"rgb(240, 128, 78)\" stroke-width=\"2\" opacity=\"0.7\"/><path aria-label=\"S: 600; s: 150; profit_mean: 1814.606\" role=\"graphics-symbol\" aria-roledescription=\"point\" transform=\"translate(120,84.61538461538463)\" d=\"M2.7386127875258306,0A2.7386127875258306,2.7386127875258306,0,1,1,-2.7386127875258306,0A2.7386127875258306,2.7386127875258306,0,1,1,2.7386127875258306,0\" stroke=\"rgb(228, 105, 95)\" stroke-width=\"2\" opacity=\"0.7\"/><path aria-label=\"S: 700; s: 150; profit_mean: 1134.703\" role=\"graphics-symbol\" aria-roledescription=\"point\" transform=\"translate(140,84.61538461538463)\" d=\"M2.7386127875258306,0A2.7386127875258306,2.7386127875258306,0,1,1,-2.7386127875258306,0A2.7386127875258306,2.7386127875258306,0,1,1,2.7386127875258306,0\" stroke=\"rgb(195, 62, 128)\" stroke-width=\"2\" opacity=\"0.7\"/><path aria-label=\"S: 800; s: 150; profit_mean: 737.257\" role=\"graphics-symbol\" aria-roledescription=\"point\" transform=\"translate(160,84.61538461538463)\" d=\"M2.7386127875258306,0A2.7386127875258306,2.7386127875258306,0,1,1,-2.7386127875258306,0A2.7386127875258306,2.7386127875258306,0,1,1,2.7386127875258306,0\" stroke=\"rgb(172, 37, 148)\" stroke-width=\"2\" opacity=\"0.7\"/><path aria-label=\"S: 900; s: 150; profit_mean: −37.01\" role=\"graphics-symbol\" aria-roledescription=\"point\" transform=\"translate(180,84.61538461538463)\" d=\"M2.7386127875258306,0A2.7386127875258306,2.7386127875258306,0,1,1,-2.7386127875258306,0A2.7386127875258306,2.7386127875258306,0,1,1,2.7386127875258306,0\" stroke=\"rgb(112, 0, 168)\" stroke-width=\"2\" opacity=\"0.7\"/><path aria-label=\"S: 1000; s: 150; profit_mean: −236.916\" role=\"graphics-symbol\" aria-roledescription=\"point\" transform=\"translate(200,84.61538461538463)\" d=\"M2.7386127875258306,0A2.7386127875258306,2.7386127875258306,0,1,1,-2.7386127875258306,0A2.7386127875258306,2.7386127875258306,0,1,1,2.7386127875258306,0\" stroke=\"rgb(94, 1, 166)\" stroke-width=\"2\" opacity=\"0.7\"/><path aria-label=\"S: 200; s: 175; profit_mean: 1034.612\" role=\"graphics-symbol\" aria-roledescription=\"point\" transform=\"translate(40,65.38461538461537)\" d=\"M2.7386127875258306,0A2.7386127875258306,2.7386127875258306,0,1,1,-2.7386127875258306,0A2.7386127875258306,2.7386127875258306,0,1,1,2.7386127875258306,0\" stroke=\"rgb(190, 56, 133)\" stroke-width=\"2\" opacity=\"0.7\"/><path aria-label=\"S: 300; s: 175; profit_mean: 2395.316\" role=\"graphics-symbol\" aria-roledescription=\"point\" transform=\"translate(60,65.38461538461537)\" d=\"M2.7386127875258306,0A2.7386127875258306,2.7386127875258306,0,1,1,-2.7386127875258306,0A2.7386127875258306,2.7386127875258306,0,1,1,2.7386127875258306,0\" stroke=\"rgb(247, 146, 66)\" stroke-width=\"2\" opacity=\"0.7\"/><path aria-label=\"S: 400; s: 175; profit_mean: 2297.704\" role=\"graphics-symbol\" aria-roledescription=\"point\" transform=\"translate(80,65.38461538461537)\" d=\"M2.7386127875258306,0A2.7386127875258306,2.7386127875258306,0,1,1,-2.7386127875258306,0A2.7386127875258306,2.7386127875258306,0,1,1,2.7386127875258306,0\" stroke=\"rgb(245, 139, 71)\" stroke-width=\"2\" opacity=\"0.7\"/><path aria-label=\"S: 500; s: 175; profit_mean: 1958.382\" role=\"graphics-symbol\" aria-roledescription=\"point\" transform=\"translate(100,65.38461538461537)\" d=\"M2.7386127875258306,0A2.7386127875258306,2.7386127875258306,0,1,1,-2.7386127875258306,0A2.7386127875258306,2.7386127875258306,0,1,1,2.7386127875258306,0\" stroke=\"rgb(234, 115, 88)\" stroke-width=\"2\" opacity=\"0.7\"/><path aria-label=\"S: 600; s: 175; profit_mean: 1649.59\" role=\"graphics-symbol\" aria-roledescription=\"point\" transform=\"translate(120,65.38461538461537)\" d=\"M2.7386127875258306,0A2.7386127875258306,2.7386127875258306,0,1,1,-2.7386127875258306,0A2.7386127875258306,2.7386127875258306,0,1,1,2.7386127875258306,0\" stroke=\"rgb(221, 94, 102)\" stroke-width=\"2\" opacity=\"0.7\"/><path aria-label=\"S: 700; s: 175; profit_mean: 917.809\" role=\"graphics-symbol\" aria-roledescription=\"point\" transform=\"translate(140,65.38461538461537)\" d=\"M2.7386127875258306,0A2.7386127875258306,2.7386127875258306,0,1,1,-2.7386127875258306,0A2.7386127875258306,2.7386127875258306,0,1,1,2.7386127875258306,0\" stroke=\"rgb(183, 48, 139)\" stroke-width=\"2\" opacity=\"0.7\"/><path aria-label=\"S: 800; s: 175; profit_mean: 725.958\" role=\"graphics-symbol\" aria-roledescription=\"point\" transform=\"translate(160,65.38461538461537)\" d=\"M2.7386127875258306,0A2.7386127875258306,2.7386127875258306,0,1,1,-2.7386127875258306,0A2.7386127875258306,2.7386127875258306,0,1,1,2.7386127875258306,0\" stroke=\"rgb(171, 36, 149)\" stroke-width=\"2\" opacity=\"0.7\"/><path aria-label=\"S: 900; s: 175; profit_mean: −147.615\" role=\"graphics-symbol\" aria-roledescription=\"point\" transform=\"translate(180,65.38461538461537)\" d=\"M2.7386127875258306,0A2.7386127875258306,2.7386127875258306,0,1,1,-2.7386127875258306,0A2.7386127875258306,2.7386127875258306,0,1,1,2.7386127875258306,0\" stroke=\"rgb(102, 0, 167)\" stroke-width=\"2\" opacity=\"0.7\"/><path aria-label=\"S: 1000; s: 175; profit_mean: −507.847\" role=\"graphics-symbol\" aria-roledescription=\"point\" transform=\"translate(200,65.38461538461537)\" d=\"M2.7386127875258306,0A2.7386127875258306,2.7386127875258306,0,1,1,-2.7386127875258306,0A2.7386127875258306,2.7386127875258306,0,1,1,2.7386127875258306,0\" stroke=\"rgb(71, 3, 159)\" stroke-width=\"2\" opacity=\"0.7\"/><path aria-label=\"S: 300; s: 200; profit_mean: 2051.976\" role=\"graphics-symbol\" aria-roledescription=\"point\" transform=\"translate(60,46.153846153846146)\" d=\"M2.7386127875258306,0A2.7386127875258306,2.7386127875258306,0,1,1,-2.7386127875258306,0A2.7386127875258306,2.7386127875258306,0,1,1,2.7386127875258306,0\" stroke=\"rgb(237, 121, 83)\" stroke-width=\"2\" opacity=\"0.7\"/><path aria-label=\"S: 400; s: 200; profit_mean: 2142.908\" role=\"graphics-symbol\" aria-roledescription=\"point\" transform=\"translate(80,46.153846153846146)\" d=\"M2.7386127875258306,0A2.7386127875258306,2.7386127875258306,0,1,1,-2.7386127875258306,0A2.7386127875258306,2.7386127875258306,0,1,1,2.7386127875258306,0\" stroke=\"rgb(240, 127, 79)\" stroke-width=\"2\" opacity=\"0.7\"/><path aria-label=\"S: 500; s: 200; profit_mean: 1773.413\" role=\"graphics-symbol\" aria-roledescription=\"point\" transform=\"translate(100,46.153846153846146)\" d=\"M2.7386127875258306,0A2.7386127875258306,2.7386127875258306,0,1,1,-2.7386127875258306,0A2.7386127875258306,2.7386127875258306,0,1,1,2.7386127875258306,0\" stroke=\"rgb(226, 102, 96)\" stroke-width=\"2\" opacity=\"0.7\"/><path aria-label=\"S: 600; s: 200; profit_mean: 1365.214\" role=\"graphics-symbol\" aria-roledescription=\"point\" transform=\"translate(120,46.153846153846146)\" d=\"M2.7386127875258306,0A2.7386127875258306,2.7386127875258306,0,1,1,-2.7386127875258306,0A2.7386127875258306,2.7386127875258306,0,1,1,2.7386127875258306,0\" stroke=\"rgb(207, 77, 117)\" stroke-width=\"2\" opacity=\"0.7\"/><path aria-label=\"S: 700; s: 200; profit_mean: 807.732\" role=\"graphics-symbol\" aria-roledescription=\"point\" transform=\"translate(140,46.153846153846146)\" d=\"M2.7386127875258306,0A2.7386127875258306,2.7386127875258306,0,1,1,-2.7386127875258306,0A2.7386127875258306,2.7386127875258306,0,1,1,2.7386127875258306,0\" stroke=\"rgb(176, 41, 145)\" stroke-width=\"2\" opacity=\"0.7\"/><path aria-label=\"S: 800; s: 200; profit_mean: 690.907\" role=\"graphics-symbol\" aria-roledescription=\"point\" transform=\"translate(160,46.153846153846146)\" d=\"M2.7386127875258306,0A2.7386127875258306,2.7386127875258306,0,1,1,-2.7386127875258306,0A2.7386127875258306,2.7386127875258306,0,1,1,2.7386127875258306,0\" stroke=\"rgb(169, 34, 151)\" stroke-width=\"2\" opacity=\"0.7\"/><path aria-label=\"S: 900; s: 200; profit_mean: −141.55\" role=\"graphics-symbol\" aria-roledescription=\"point\" transform=\"translate(180,46.153846153846146)\" d=\"M2.7386127875258306,0A2.7386127875258306,2.7386127875258306,0,1,1,-2.7386127875258306,0A2.7386127875258306,2.7386127875258306,0,1,1,2.7386127875258306,0\" stroke=\"rgb(102, 0, 167)\" stroke-width=\"2\" opacity=\"0.7\"/><path aria-label=\"S: 1000; s: 200; profit_mean: −772.374\" role=\"graphics-symbol\" aria-roledescription=\"point\" transform=\"translate(200,46.153846153846146)\" d=\"M2.7386127875258306,0A2.7386127875258306,2.7386127875258306,0,1,1,-2.7386127875258306,0A2.7386127875258306,2.7386127875258306,0,1,1,2.7386127875258306,0\" stroke=\"rgb(45, 5, 148)\" stroke-width=\"2\" opacity=\"0.7\"/><path aria-label=\"S: 300; s: 225; profit_mean: 1663.152\" role=\"graphics-symbol\" aria-roledescription=\"point\" transform=\"translate(60,26.923076923076916)\" d=\"M2.7386127875258306,0A2.7386127875258306,2.7386127875258306,0,1,1,-2.7386127875258306,0A2.7386127875258306,2.7386127875258306,0,1,1,2.7386127875258306,0\" stroke=\"rgb(221, 95, 102)\" stroke-width=\"2\" opacity=\"0.7\"/><path aria-label=\"S: 400; s: 225; profit_mean: 1930.973\" role=\"graphics-symbol\" aria-roledescription=\"point\" transform=\"translate(80,26.923076923076916)\" d=\"M2.7386127875258306,0A2.7386127875258306,2.7386127875258306,0,1,1,-2.7386127875258306,0A2.7386127875258306,2.7386127875258306,0,1,1,2.7386127875258306,0\" stroke=\"rgb(232, 113, 89)\" stroke-width=\"2\" opacity=\"0.7\"/><path aria-label=\"S: 500; s: 225; profit_mean: 1677.326\" role=\"graphics-symbol\" aria-roledescription=\"point\" transform=\"translate(100,26.923076923076916)\" d=\"M2.7386127875258306,0A2.7386127875258306,2.7386127875258306,0,1,1,-2.7386127875258306,0A2.7386127875258306,2.7386127875258306,0,1,1,2.7386127875258306,0\" stroke=\"rgb(222, 96, 101)\" stroke-width=\"2\" opacity=\"0.7\"/><path aria-label=\"S: 600; s: 225; profit_mean: 1233.007\" role=\"graphics-symbol\" aria-roledescription=\"point\" transform=\"translate(120,26.923076923076916)\" d=\"M2.7386127875258306,0A2.7386127875258306,2.7386127875258306,0,1,1,-2.7386127875258306,0A2.7386127875258306,2.7386127875258306,0,1,1,2.7386127875258306,0\" stroke=\"rgb(201, 68, 123)\" stroke-width=\"2\" opacity=\"0.7\"/><path aria-label=\"S: 700; s: 225; profit_mean: 808.23\" role=\"graphics-symbol\" aria-roledescription=\"point\" transform=\"translate(140,26.923076923076916)\" d=\"M2.7386127875258306,0A2.7386127875258306,2.7386127875258306,0,1,1,-2.7386127875258306,0A2.7386127875258306,2.7386127875258306,0,1,1,2.7386127875258306,0\" stroke=\"rgb(176, 41, 145)\" stroke-width=\"2\" opacity=\"0.7\"/><path aria-label=\"S: 800; s: 225; profit_mean: 534.7\" role=\"graphics-symbol\" aria-roledescription=\"point\" transform=\"translate(160,26.923076923076916)\" d=\"M2.7386127875258306,0A2.7386127875258306,2.7386127875258306,0,1,1,-2.7386127875258306,0A2.7386127875258306,2.7386127875258306,0,1,1,2.7386127875258306,0\" stroke=\"rgb(157, 24, 157)\" stroke-width=\"2\" opacity=\"0.7\"/><path aria-label=\"S: 900; s: 225; profit_mean: −243.113\" role=\"graphics-symbol\" aria-roledescription=\"point\" transform=\"translate(180,26.923076923076916)\" d=\"M2.7386127875258306,0A2.7386127875258306,2.7386127875258306,0,1,1,-2.7386127875258306,0A2.7386127875258306,2.7386127875258306,0,1,1,2.7386127875258306,0\" stroke=\"rgb(94, 1, 166)\" stroke-width=\"2\" opacity=\"0.7\"/><path aria-label=\"S: 1000; s: 225; profit_mean: −954.18\" role=\"graphics-symbol\" aria-roledescription=\"point\" transform=\"translate(200,26.923076923076916)\" d=\"M2.7386127875258306,0A2.7386127875258306,2.7386127875258306,0,1,1,-2.7386127875258306,0A2.7386127875258306,2.7386127875258306,0,1,1,2.7386127875258306,0\" stroke=\"rgb(22, 7, 139)\" stroke-width=\"2\" opacity=\"0.7\"/><path aria-label=\"S: 300; s: 250; profit_mean: 1026.938\" role=\"graphics-symbol\" aria-roledescription=\"point\" transform=\"translate(60,7.692307692307687)\" d=\"M2.7386127875258306,0A2.7386127875258306,2.7386127875258306,0,1,1,-2.7386127875258306,0A2.7386127875258306,2.7386127875258306,0,1,1,2.7386127875258306,0\" stroke=\"rgb(189, 55, 133)\" stroke-width=\"2\" opacity=\"0.7\"/><path aria-label=\"S: 400; s: 250; profit_mean: 1651.143\" role=\"graphics-symbol\" aria-roledescription=\"point\" transform=\"translate(80,7.692307692307687)\" d=\"M2.7386127875258306,0A2.7386127875258306,2.7386127875258306,0,1,1,-2.7386127875258306,0A2.7386127875258306,2.7386127875258306,0,1,1,2.7386127875258306,0\" stroke=\"rgb(221, 94, 102)\" stroke-width=\"2\" opacity=\"0.7\"/><path aria-label=\"S: 500; s: 250; profit_mean: 1488.851\" role=\"graphics-symbol\" aria-roledescription=\"point\" transform=\"translate(100,7.692307692307687)\" d=\"M2.7386127875258306,0A2.7386127875258306,2.7386127875258306,0,1,1,-2.7386127875258306,0A2.7386127875258306,2.7386127875258306,0,1,1,2.7386127875258306,0\" stroke=\"rgb(214, 84, 110)\" stroke-width=\"2\" opacity=\"0.7\"/><path aria-label=\"S: 600; s: 250; profit_mean: 1213.382\" role=\"graphics-symbol\" aria-roledescription=\"point\" transform=\"translate(120,7.692307692307687)\" d=\"M2.7386127875258306,0A2.7386127875258306,2.7386127875258306,0,1,1,-2.7386127875258306,0A2.7386127875258306,2.7386127875258306,0,1,1,2.7386127875258306,0\" stroke=\"rgb(200, 67, 124)\" stroke-width=\"2\" opacity=\"0.7\"/><path aria-label=\"S: 700; s: 250; profit_mean: 799.033\" role=\"graphics-symbol\" aria-roledescription=\"point\" transform=\"translate(140,7.692307692307687)\" d=\"M2.7386127875258306,0A2.7386127875258306,2.7386127875258306,0,1,1,-2.7386127875258306,0A2.7386127875258306,2.7386127875258306,0,1,1,2.7386127875258306,0\" stroke=\"rgb(176, 41, 145)\" stroke-width=\"2\" opacity=\"0.7\"/><path aria-label=\"S: 800; s: 250; profit_mean: 168.525\" role=\"graphics-symbol\" aria-roledescription=\"point\" transform=\"translate(160,7.692307692307687)\" d=\"M2.7386127875258306,0A2.7386127875258306,2.7386127875258306,0,1,1,-2.7386127875258306,0A2.7386127875258306,2.7386127875258306,0,1,1,2.7386127875258306,0\" stroke=\"rgb(129, 4, 167)\" stroke-width=\"2\" opacity=\"0.7\"/><path aria-label=\"S: 900; s: 250; profit_mean: −275.165\" role=\"graphics-symbol\" aria-roledescription=\"point\" transform=\"translate(180,7.692307692307687)\" d=\"M2.7386127875258306,0A2.7386127875258306,2.7386127875258306,0,1,1,-2.7386127875258306,0A2.7386127875258306,2.7386127875258306,0,1,1,2.7386127875258306,0\" stroke=\"rgb(91, 1, 165)\" stroke-width=\"2\" opacity=\"0.7\"/><path aria-label=\"S: 1000; s: 250; profit_mean: −1019.128\" role=\"graphics-symbol\" aria-roledescription=\"point\" transform=\"translate(200,7.692307692307687)\" d=\"M2.7386127875258306,0A2.7386127875258306,2.7386127875258306,0,1,1,-2.7386127875258306,0A2.7386127875258306,2.7386127875258306,0,1,1,2.7386127875258306,0\" stroke=\"rgb(13, 8, 135)\" stroke-width=\"2\" opacity=\"0.7\"/></g><g class=\"mark-group role-legend\" role=\"graphics-symbol\" aria-roledescription=\"legend\" aria-label=\"Gradient legend titled 'profit_mean' for stroke color with values from −1,019 to 3,580\"><g transform=\"translate(218,0)\"><path class=\"background\" aria-hidden=\"true\" d=\"M0,0h64v221h-64Z\" pointer-events=\"none\"/><g><g class=\"mark-group role-legend-entry\"><g transform=\"translate(0,16)\"><path class=\"background\" aria-hidden=\"true\" d=\"M0,0h0v0h0Z\" pointer-events=\"none\"/><g><g class=\"mark-rect role-legend-gradient\" pointer-events=\"none\"><path d=\"M0,0h16v200h-16Z\" fill=\"url(#gradient_0)\" stroke=\"#ddd\" stroke-width=\"0\" opacity=\"0.7\"/></g><g class=\"mark-text role-legend-label\" pointer-events=\"none\"><text text-anchor=\"start\" transform=\"translate(18,202.16815324628107)\" font-family=\"sans-serif\" font-size=\"10px\" fill=\"#000\" opacity=\"1\">−1,000</text><text text-anchor=\"start\" transform=\"translate(18,158.67971986490755)\" font-family=\"sans-serif\" font-size=\"10px\" fill=\"#000\" opacity=\"1\">0</text><text text-anchor=\"start\" transform=\"translate(18,115.19128648353399)\" font-family=\"sans-serif\" font-size=\"10px\" fill=\"#000\" opacity=\"1\">1,000</text><text text-anchor=\"start\" transform=\"translate(18,71.70285310216045)\" font-family=\"sans-serif\" font-size=\"10px\" fill=\"#000\" opacity=\"1\">2,000</text><text text-anchor=\"start\" transform=\"translate(18,28.214419720786886)\" font-family=\"sans-serif\" font-size=\"10px\" fill=\"#000\" opacity=\"1\">3,000</text></g></g><path class=\"foreground\" aria-hidden=\"true\" d=\"\" pointer-events=\"none\" display=\"none\"/></g></g><g class=\"mark-text role-legend-title\" pointer-events=\"none\"><text text-anchor=\"start\" transform=\"translate(0,9)\" font-family=\"sans-serif\" font-size=\"11px\" font-weight=\"bold\" fill=\"#000\" opacity=\"1\">profit_mean</text></g></g><path class=\"foreground\" aria-hidden=\"true\" d=\"\" pointer-events=\"none\" display=\"none\"/></g></g></g><path class=\"foreground\" aria-hidden=\"true\" d=\"\" display=\"none\"/></g></g></g><defs><linearGradient id=\"gradient_0\" x1=\"0\" x2=\"0\" y1=\"1\" y2=\"0\"><stop offset=\"0\" stop-color=\"rgb(13, 8, 135)\"/><stop offset=\"0.0041592337685946\" stop-color=\"rgb(16, 8, 136)\"/><stop offset=\"0.04764766714996815\" stop-color=\"rgb(42, 6, 147)\"/><stop offset=\"0.09113610053134169\" stop-color=\"rgb(62, 4, 155)\"/><stop offset=\"0.13462453391271526\" stop-color=\"rgb(81, 2, 162)\"/><stop offset=\"0.1781129672940888\" stop-color=\"rgb(97, 1, 167)\"/><stop offset=\"0.22160140067546233\" stop-color=\"rgb(115, 1, 168)\"/><stop offset=\"0.2650898340568359\" stop-color=\"rgb(131, 5, 167)\"/><stop offset=\"0.30857826743820943\" stop-color=\"rgb(147, 16, 162)\"/><stop offset=\"0.35206670081958297\" stop-color=\"rgb(162, 29, 155)\"/><stop offset=\"0.3955551342009565\" stop-color=\"rgb(176, 41, 145)\"/><stop offset=\"0.4390435675823301\" stop-color=\"rgb(188, 54, 135)\"/><stop offset=\"0.48253200096370363\" stop-color=\"rgb(199, 66, 125)\"/><stop offset=\"0.5260204343450772\" stop-color=\"rgb(209, 79, 115)\"/><stop offset=\"0.5695088677264507\" stop-color=\"rgb(219, 91, 104)\"/><stop offset=\"0.6129973011078242\" stop-color=\"rgb(227, 104, 95)\"/><stop offset=\"0.6564857344891978\" stop-color=\"rgb(235, 118, 85)\"/><stop offset=\"0.6999741678705713\" stop-color=\"rgb(242, 131, 76)\"/><stop offset=\"0.743462601251945\" stop-color=\"rgb(247, 146, 66)\"/><stop offset=\"0.7869510346333185\" stop-color=\"rgb(251, 161, 57)\"/><stop offset=\"0.830439468014692\" stop-color=\"rgb(253, 178, 48)\"/><stop offset=\"0.8739279013960656\" stop-color=\"rgb(254, 195, 40)\"/><stop offset=\"0.9174163347774392\" stop-color=\"rgb(250, 213, 36)\"/><stop offset=\"0.9609047681588128\" stop-color=\"rgb(246, 232, 38)\"/><stop offset=\"1\" stop-color=\"rgb(240, 249, 33)\"/></linearGradient></defs></svg>\n"
      ],
      "text/plain": [
       "@vlplot(\n",
       "    mark=\"point\",\n",
       "    encoding={\n",
       "        x={\n",
       "            field=\"S\"\n",
       "        },\n",
       "        y={\n",
       "            field=\"s\"\n",
       "        },\n",
       "        color={\n",
       "            scale={\n",
       "                scheme=\"plasma\"\n",
       "            },\n",
       "            field=\"profit_mean\"\n",
       "        }\n",
       "    },\n",
       "    data={\n",
       "        values=...\n",
       "    }\n",
       ")"
      ]
     },
     "execution_count": 84,
     "metadata": {},
     "output_type": "execute_result"
    }
   ],
   "source": [
    "# using PyPlot\n",
    "# using PyCall \n",
    "\n",
    "using VegaLite\n",
    "df |> @vlplot(:point, x=:S, y=:s, color={:profit_mean, scale={scheme=:plasma}})\n",
    "\n",
    "# scatter(df.S[more500],\n",
    "#         df.s[more500], \n",
    "#         c=df.profit_mean[more500] )\n",
    "# xlabel(\"S - target wharehouse stock \")\n",
    "# ylabel(\"s - reorder point\")\n",
    "# colorbar()\n",
    "# title(\"Profits\")\n",
    "\n",
    "# scatter(df.S[Not(more500)],\n",
    "#         df.s[Not(more500)], \n",
    "#         c=\"gray\")\n",
    "# show()"
   ]
  },
  {
   "cell_type": "code",
   "execution_count": 85,
   "metadata": {},
   "outputs": [
    {
     "data": {
      "application/vnd.vegalite.v4+json": {
       "data": {
        "values": [
         {
          "N": 100,
          "S": 100,
          "lost_mean": 216.66,
          "lost_std": 86.9470081269173,
          "m": 90,
          "profit_mean": 2971.249,
          "profit_std": 187.95520554621308,
          "s": 25
         },
         {
          "N": 100,
          "S": 200,
          "lost_mean": 118.92,
          "lost_std": 62.04913009426116,
          "m": 90,
          "profit_mean": 3579.7960000000003,
          "profit_std": 143.17221100493074,
          "s": 25
         },
         {
          "N": 100,
          "S": 300,
          "lost_mean": 81.2,
          "lost_std": 61.18988495006359,
          "m": 90,
          "profit_mean": 3488.4050000000007,
          "profit_std": 233.74275784168026,
          "s": 25
         },
         {
          "N": 100,
          "S": 400,
          "lost_mean": 60.11,
          "lost_std": 45.893793731073295,
          "m": 90,
          "profit_mean": 3081.231,
          "profit_std": 179.82085119429956,
          "s": 25
         },
         {
          "N": 100,
          "S": 500,
          "lost_mean": 50.72,
          "lost_std": 46.57742115678112,
          "m": 90,
          "profit_mean": 2630.7940000000003,
          "profit_std": 167.02355959141173,
          "s": 25
         },
         {
          "N": 100,
          "S": 600,
          "lost_mean": 34.57,
          "lost_std": 38.67169638133426,
          "m": 90,
          "profit_mean": 2546.72,
          "profit_std": 258.4702663477147,
          "s": 25
         },
         {
          "N": 100,
          "S": 700,
          "lost_mean": 33.52,
          "lost_std": 31.946128897178628,
          "m": 90,
          "profit_mean": 1683.641,
          "profit_std": 168.93935442559678,
          "s": 25
         },
         {
          "N": 100,
          "S": 800,
          "lost_mean": 32.05,
          "lost_std": 34.9673368511908,
          "m": 90,
          "profit_mean": 1200.9729999999995,
          "profit_std": 281.1663826245624,
          "s": 25
         },
         {
          "N": 100,
          "S": 900,
          "lost_mean": 30.45,
          "lost_std": 37.83360031944242,
          "m": 90,
          "profit_mean": 1367.398,
          "profit_std": 302.58799637711195,
          "s": 25
         },
         {
          "N": 100,
          "S": 1000,
          "lost_mean": 24.22,
          "lost_std": 28.795194604711952,
          "m": 90,
          "profit_mean": 419.79099999999994,
          "profit_std": 221.17033158800362,
          "s": 25
         },
         {
          "N": 100,
          "S": 100,
          "lost_mean": 118.74,
          "lost_std": 73.54756861028683,
          "m": 90,
          "profit_mean": 2661.4039999999995,
          "profit_std": 141.7369971019379,
          "s": 50
         },
         {
          "N": 100,
          "S": 200,
          "lost_mean": 49.21,
          "lost_std": 49.32602218552054,
          "m": 90,
          "profit_mean": 3534.3150000000005,
          "profit_std": 159.41803592055612,
          "s": 50
         },
         {
          "N": 100,
          "S": 300,
          "lost_mean": 44.28,
          "lost_std": 55.60249976213282,
          "m": 90,
          "profit_mean": 3394.5560000000005,
          "profit_std": 188.26334141625162,
          "s": 50
         },
         {
          "N": 100,
          "S": 400,
          "lost_mean": 37.86,
          "lost_std": 48.17833454149198,
          "m": 90,
          "profit_mean": 3061.301,
          "profit_std": 190.8767143996355,
          "s": 50
         },
         {
          "N": 100,
          "S": 500,
          "lost_mean": 21.04,
          "lost_std": 31.871243490271315,
          "m": 90,
          "profit_mean": 2721.5890000000004,
          "profit_std": 214.69375882823894,
          "s": 50
         },
         {
          "N": 100,
          "S": 600,
          "lost_mean": 16.11,
          "lost_std": 27.825173908356856,
          "m": 90,
          "profit_mean": 2407.2490000000003,
          "profit_std": 282.0750023817901,
          "s": 50
         },
         {
          "N": 100,
          "S": 700,
          "lost_mean": 20.11,
          "lost_std": 29.26745184285331,
          "m": 90,
          "profit_mean": 1642.6039999999996,
          "profit_std": 171.262618893625,
          "s": 50
         },
         {
          "N": 100,
          "S": 800,
          "lost_mean": 18.19,
          "lost_std": 32.82481661576475,
          "m": 90,
          "profit_mean": 1014.0949999999997,
          "profit_std": 189.3099048538073,
          "s": 50
         },
         {
          "N": 100,
          "S": 900,
          "lost_mean": 13.63,
          "lost_std": 25.355912983608448,
          "m": 90,
          "profit_mean": 1231.521,
          "profit_std": 324.8279520660658,
          "s": 50
         },
         {
          "N": 100,
          "S": 1000,
          "lost_mean": 9.96,
          "lost_std": 26.49868302425994,
          "m": 90,
          "profit_mean": 435.7709999999998,
          "profit_std": 259.2438944840799,
          "s": 50
         },
         {
          "N": 100,
          "S": 100,
          "lost_mean": 74.03,
          "lost_std": 56.146355467859465,
          "m": 90,
          "profit_mean": 1855.157,
          "profit_std": 251.1118521172137,
          "s": 75
         },
         {
          "N": 100,
          "S": 200,
          "lost_mean": 24.44,
          "lost_std": 32.929468550067725,
          "m": 90,
          "profit_mean": 3346.4440000000004,
          "profit_std": 164.15197769694447,
          "s": 75
         },
         {
          "N": 100,
          "S": 300,
          "lost_mean": 14.97,
          "lost_std": 26.357853946147905,
          "m": 90,
          "profit_mean": 3300.2020000000007,
          "profit_std": 171.81134943285713,
          "s": 75
         },
         {
          "N": 100,
          "S": 400,
          "lost_mean": 6.17,
          "lost_std": 14.591442766916574,
          "m": 90,
          "profit_mean": 3035.6479999999997,
          "profit_std": 209.69590559723002,
          "s": 75
         },
         {
          "N": 100,
          "S": 500,
          "lost_mean": 7.34,
          "lost_std": 24.491276533954412,
          "m": 90,
          "profit_mean": 2687.4680000000003,
          "profit_std": 239.6288636600147,
          "s": 75
         },
         {
          "N": 100,
          "S": 600,
          "lost_mean": 9.68,
          "lost_std": 26.735849651089385,
          "m": 90,
          "profit_mean": 2028.0840000000003,
          "profit_std": 263.90170986313603,
          "s": 75
         },
         {
          "N": 100,
          "S": 700,
          "lost_mean": 7.85,
          "lost_std": 21.5417729028504,
          "m": 90,
          "profit_mean": 1678.705,
          "profit_std": 207.2270415327696,
          "s": 75
         },
         {
          "N": 100,
          "S": 800,
          "lost_mean": 11.43,
          "lost_std": 24.390449778633442,
          "m": 90,
          "profit_mean": 914.724,
          "profit_std": 153.53444592288884,
          "s": 75
         },
         {
          "N": 100,
          "S": 900,
          "lost_mean": 4.52,
          "lost_std": 15.272263100209486,
          "m": 90,
          "profit_mean": 682.4799999999997,
          "profit_std": 435.9574175294989,
          "s": 75
         },
         {
          "N": 100,
          "S": 1000,
          "lost_mean": 3.27,
          "lost_std": 14.687901294754278,
          "m": 90,
          "profit_mean": 439.6809999999997,
          "profit_std": 268.44414639988645,
          "s": 75
         },
         {
          "N": 100,
          "S": 200,
          "lost_mean": 20.08,
          "lost_std": 32.71909213133809,
          "m": 90,
          "profit_mean": 3020.23,
          "profit_std": 160.12806900992885,
          "s": 100
         },
         {
          "N": 100,
          "S": 300,
          "lost_mean": 5.76,
          "lost_std": 15.6276884555793,
          "m": 90,
          "profit_mean": 3120.251,
          "profit_std": 168.18128836635097,
          "s": 100
         },
         {
          "N": 100,
          "S": 400,
          "lost_mean": 6.26,
          "lost_std": 17.33486007262169,
          "m": 90,
          "profit_mean": 2795.2369999999996,
          "profit_std": 187.47999362894984,
          "s": 100
         },
         {
          "N": 100,
          "S": 500,
          "lost_mean": 5.26,
          "lost_std": 26.617993458515535,
          "m": 90,
          "profit_mean": 2386.138,
          "profit_std": 263.08043889520366,
          "s": 100
         },
         {
          "N": 100,
          "S": 600,
          "lost_mean": 2.97,
          "lost_std": 13.148303266500925,
          "m": 90,
          "profit_mean": 1828.5710000000001,
          "profit_std": 170.44090969001425,
          "s": 100
         },
         {
          "N": 100,
          "S": 700,
          "lost_mean": 0.49,
          "lost_std": 2.7135834893246518,
          "m": 90,
          "profit_mean": 1683.693,
          "profit_std": 251.01191378019482,
          "s": 100
         },
         {
          "N": 100,
          "S": 800,
          "lost_mean": 5.79,
          "lost_std": 19.27802695382292,
          "m": 90,
          "profit_mean": 814.0609999999998,
          "profit_std": 186.53830266898606,
          "s": 100
         },
         {
          "N": 100,
          "S": 900,
          "lost_mean": 2.51,
          "lost_std": 7.848946400374996,
          "m": 90,
          "profit_mean": 293.36999999999983,
          "profit_std": 355.2029320392681,
          "s": 100
         },
         {
          "N": 100,
          "S": 1000,
          "lost_mean": 2.53,
          "lost_std": 12.014683777054906,
          "m": 90,
          "profit_mean": 428.6849999999998,
          "profit_std": 255.33067344725794,
          "s": 100
         },
         {
          "N": 100,
          "S": 200,
          "lost_mean": 9.32,
          "lost_std": 21.774268940168533,
          "m": 90,
          "profit_mean": 2615.4799999999996,
          "profit_std": 187.355158870941,
          "s": 125
         },
         {
          "N": 100,
          "S": 300,
          "lost_mean": 2.89,
          "lost_std": 12.867541970541087,
          "m": 90,
          "profit_mean": 2913.112,
          "profit_std": 175.10721811034347,
          "s": 125
         },
         {
          "N": 100,
          "S": 400,
          "lost_mean": 4.37,
          "lost_std": 18.413683427650682,
          "m": 90,
          "profit_mean": 2680.0350000000008,
          "profit_std": 174.42341978268527,
          "s": 125
         },
         {
          "N": 100,
          "S": 500,
          "lost_mean": 3.27,
          "lost_std": 18.34619658929144,
          "m": 90,
          "profit_mean": 2227.969,
          "profit_std": 205.2709747375331,
          "s": 125
         },
         {
          "N": 100,
          "S": 600,
          "lost_mean": 0.92,
          "lost_std": 5.364831231400866,
          "m": 90,
          "profit_mean": 1771.845,
          "profit_std": 161.99935613726643,
          "s": 125
         },
         {
          "N": 100,
          "S": 700,
          "lost_mean": 0.75,
          "lost_std": 6.1272285164607085,
          "m": 90,
          "profit_mean": 1545.7620000000002,
          "profit_std": 273.75956743762646,
          "s": 125
         },
         {
          "N": 100,
          "S": 800,
          "lost_mean": 2.17,
          "lost_std": 11.349413725791825,
          "m": 90,
          "profit_mean": 722.4939999999998,
          "profit_std": 207.39437171288384,
          "s": 125
         },
         {
          "N": 100,
          "S": 900,
          "lost_mean": 1.94,
          "lost_std": 8.282658042103648,
          "m": 90,
          "profit_mean": 59.789999999999836,
          "profit_std": 220.4234160048163,
          "s": 125
         },
         {
          "N": 100,
          "S": 1000,
          "lost_mean": 1.12,
          "lost_std": 8.359691647689191,
          "m": 90,
          "profit_mean": 268.1569999999998,
          "profit_std": 409.5952826963107,
          "s": 125
         },
         {
          "N": 100,
          "S": 200,
          "lost_mean": 1.83,
          "lost_std": 7.363649457526704,
          "m": 90,
          "profit_mean": 1970.987,
          "profit_std": 248.1636767042137,
          "s": 150
         },
         {
          "N": 100,
          "S": 300,
          "lost_mean": 2.02,
          "lost_std": 8.678290573190507,
          "m": 90,
          "profit_mean": 2671.952,
          "profit_std": 166.81307961701663,
          "s": 150
         },
         {
          "N": 100,
          "S": 400,
          "lost_mean": 1.22,
          "lost_std": 6.331865858696413,
          "m": 90,
          "profit_mean": 2497.744,
          "profit_std": 185.28499223486705,
          "s": 150
         },
         {
          "N": 100,
          "S": 500,
          "lost_mean": 0.56,
          "lost_std": 3.30386978489703,
          "m": 90,
          "profit_mean": 2149.314,
          "profit_std": 210.26386982440738,
          "s": 150
         },
         {
          "N": 100,
          "S": 600,
          "lost_mean": 1.99,
          "lost_std": 10.519337652460095,
          "m": 90,
          "profit_mean": 1814.606,
          "profit_std": 190.31460281450927,
          "s": 150
         },
         {
          "N": 100,
          "S": 700,
          "lost_mean": 0.28,
          "lost_std": 1.9698741179080554,
          "m": 90,
          "profit_mean": 1134.7029999999995,
          "profit_std": 327.16855769224566,
          "s": 150
         },
         {
          "N": 100,
          "S": 800,
          "lost_mean": 1.81,
          "lost_std": 10.048061273376836,
          "m": 90,
          "profit_mean": 737.2569999999998,
          "profit_std": 205.53083833347395,
          "s": 150
         },
         {
          "N": 100,
          "S": 900,
          "lost_mean": 0.44,
          "lost_std": 3.2108402248469083,
          "m": 90,
          "profit_mean": -37.010000000000225,
          "profit_std": 181.72357657395006,
          "s": 150
         },
         {
          "N": 100,
          "S": 1000,
          "lost_mean": 1.6,
          "lost_std": 8.836334538755771,
          "m": 90,
          "profit_mean": -236.9160000000002,
          "profit_std": 504.6193942713135,
          "s": 150
         },
         {
          "N": 100,
          "S": 200,
          "lost_mean": 3.27,
          "lost_std": 12.657775986692645,
          "m": 90,
          "profit_mean": 1034.612,
          "profit_std": 341.1812309899212,
          "s": 175
         },
         {
          "N": 100,
          "S": 300,
          "lost_mean": 0.71,
          "lost_std": 3.7180830294846046,
          "m": 90,
          "profit_mean": 2395.3160000000003,
          "profit_std": 204.57018391118135,
          "s": 175
         },
         {
          "N": 100,
          "S": 400,
          "lost_mean": 1.75,
          "lost_std": 12.90632528348919,
          "m": 90,
          "profit_mean": 2297.704,
          "profit_std": 193.6575880206604,
          "s": 175
         },
         {
          "N": 100,
          "S": 500,
          "lost_mean": 0.36,
          "lost_std": 3.5999999999999996,
          "m": 90,
          "profit_mean": 1958.382,
          "profit_std": 253.70202213692272,
          "s": 175
         },
         {
          "N": 100,
          "S": 600,
          "lost_mean": 0.67,
          "lost_std": 4.290122552462986,
          "m": 90,
          "profit_mean": 1649.5899999999997,
          "profit_std": 249.80461192983236,
          "s": 175
         },
         {
          "N": 100,
          "S": 700,
          "lost_mean": 0.02,
          "lost_std": 0.19999999999999998,
          "m": 90,
          "profit_mean": 917.8089999999997,
          "profit_std": 235.50629625287615,
          "s": 175
         },
         {
          "N": 100,
          "S": 800,
          "lost_mean": 1.83,
          "lost_std": 11.84159336125563,
          "m": 90,
          "profit_mean": 725.9579999999999,
          "profit_std": 225.62798745552894,
          "s": 175
         },
         {
          "N": 100,
          "S": 900,
          "lost_mean": 1.06,
          "lost_std": 10.600000000000003,
          "m": 90,
          "profit_mean": -147.6150000000002,
          "profit_std": 192.0369200482453,
          "s": 175
         },
         {
          "N": 100,
          "S": 1000,
          "lost_mean": 1.49,
          "lost_std": 9.630019352383082,
          "m": 90,
          "profit_mean": -507.8470000000002,
          "profit_std": 446.96536585482477,
          "s": 175
         },
         {
          "N": 100,
          "S": 300,
          "lost_mean": 0.68,
          "lost_std": 6.5007847234162455,
          "m": 90,
          "profit_mean": 2051.976,
          "profit_std": 166.18719645829125,
          "s": 200
         },
         {
          "N": 100,
          "S": 400,
          "lost_mean": 0.82,
          "lost_std": 5.341622346528188,
          "m": 90,
          "profit_mean": 2142.9079999999994,
          "profit_std": 205.21167277332017,
          "s": 200
         },
         {
          "N": 100,
          "S": 500,
          "lost_mean": 0.79,
          "lost_std": 4.759456296933951,
          "m": 90,
          "profit_mean": 1773.4129999999998,
          "profit_std": 192.5260631208359,
          "s": 200
         },
         {
          "N": 100,
          "S": 600,
          "lost_mean": 1.25,
          "lost_std": 7.629521345379143,
          "m": 90,
          "profit_mean": 1365.214,
          "profit_std": 268.5887686979988,
          "s": 200
         },
         {
          "N": 100,
          "S": 700,
          "lost_mean": 0.72,
          "lost_std": 4.9991514431466415,
          "m": 90,
          "profit_mean": 807.732,
          "profit_std": 167.06069294502737,
          "s": 200
         },
         {
          "N": 100,
          "S": 800,
          "lost_mean": 0.33,
          "lost_std": 2.074642478631298,
          "m": 90,
          "profit_mean": 690.9069999999998,
          "profit_std": 228.549274688427,
          "s": 200
         },
         {
          "N": 100,
          "S": 900,
          "lost_mean": 0.38,
          "lost_std": 2.643001049083135,
          "m": 90,
          "profit_mean": -141.55000000000027,
          "profit_std": 207.4540837599657,
          "s": 200
         },
         {
          "N": 100,
          "S": 1000,
          "lost_mean": 0.52,
          "lost_std": 5.199999999999998,
          "m": 90,
          "profit_mean": -772.3740000000003,
          "profit_std": 332.43444546149686,
          "s": 200
         },
         {
          "N": 100,
          "S": 300,
          "lost_mean": 1.5,
          "lost_std": 7.6785152184257575,
          "m": 90,
          "profit_mean": 1663.1519999999998,
          "profit_std": 212.2201855801581,
          "s": 225
         },
         {
          "N": 100,
          "S": 400,
          "lost_mean": 0.7,
          "lost_std": 4.924685294770139,
          "m": 90,
          "profit_mean": 1930.973,
          "profit_std": 173.7541569039836,
          "s": 225
         },
         {
          "N": 100,
          "S": 500,
          "lost_mean": 1.65,
          "lost_std": 13.0580483328339,
          "m": 90,
          "profit_mean": 1677.326,
          "profit_std": 206.8589431169819,
          "s": 225
         },
         {
          "N": 100,
          "S": 600,
          "lost_mean": 2.13,
          "lost_std": 12.449214003017588,
          "m": 90,
          "profit_mean": 1233.0069999999998,
          "profit_std": 224.07148492065085,
          "s": 225
         },
         {
          "N": 100,
          "S": 700,
          "lost_mean": 0.93,
          "lost_std": 6.244601709080452,
          "m": 90,
          "profit_mean": 808.2299999999999,
          "profit_std": 207.0249545783837,
          "s": 225
         },
         {
          "N": 100,
          "S": 800,
          "lost_mean": 0.1,
          "lost_std": 1.0000000000000007,
          "m": 90,
          "profit_mean": 534.6999999999999,
          "profit_std": 304.10735478170074,
          "s": 225
         },
         {
          "N": 100,
          "S": 900,
          "lost_mean": 0.48,
          "lost_std": 4.071284015559898,
          "m": 90,
          "profit_mean": -243.1130000000002,
          "profit_std": 201.20523400977746,
          "s": 225
         },
         {
          "N": 100,
          "S": 1000,
          "lost_mean": 1.32,
          "lost_std": 7.085167320508104,
          "m": 90,
          "profit_mean": -954.1800000000002,
          "profit_std": 197.84985992086783,
          "s": 225
         },
         {
          "N": 100,
          "S": 300,
          "lost_mean": 0.4,
          "lost_std": 2.8141058827257948,
          "m": 90,
          "profit_mean": 1026.938,
          "profit_std": 254.7140614235278,
          "s": 250
         },
         {
          "N": 100,
          "S": 400,
          "lost_mean": 0.1,
          "lost_std": 1.0000000000000007,
          "m": 90,
          "profit_mean": 1651.1429999999998,
          "profit_std": 172.60763601622932,
          "s": 250
         },
         {
          "N": 100,
          "S": 500,
          "lost_mean": 0.21,
          "lost_std": 1.6714779040832046,
          "m": 90,
          "profit_mean": 1488.8509999999997,
          "profit_std": 226.5972819360552,
          "s": 250
         },
         {
          "N": 100,
          "S": 600,
          "lost_mean": 2.18,
          "lost_std": 13.832606771719133,
          "m": 90,
          "profit_mean": 1213.382,
          "profit_std": 196.7978249756625,
          "s": 250
         },
         {
          "N": 100,
          "S": 700,
          "lost_mean": 1.76,
          "lost_std": 15.115795471204054,
          "m": 90,
          "profit_mean": 799.0329999999999,
          "profit_std": 176.64162204127808,
          "s": 250
         },
         {
          "N": 100,
          "S": 800,
          "lost_mean": 0.03,
          "lost_std": 0.2999999999999999,
          "m": 90,
          "profit_mean": 168.5249999999998,
          "profit_std": 342.22972507107306,
          "s": 250
         },
         {
          "N": 100,
          "S": 900,
          "lost_mean": 0.96,
          "lost_std": 7.126448107315638,
          "m": 90,
          "profit_mean": -275.16500000000025,
          "profit_std": 195.89202672994028,
          "s": 250
         },
         {
          "N": 100,
          "S": 1000,
          "lost_mean": 0,
          "lost_std": 0,
          "m": 90,
          "profit_mean": -1019.1280000000002,
          "profit_std": 171.74590291380093,
          "s": 250
         }
        ]
       },
       "encoding": {
        "color": {
         "field": "lost_mean",
         "scale": {
          "scheme": "plasma"
         },
         "type": "quantitative"
        },
        "x": {
         "field": "S",
         "type": "quantitative"
        },
        "y": {
         "field": "s",
         "type": "quantitative"
        }
       },
       "mark": "point"
      },
      "image/png": "[encoded data removed]",
      "image/svg+xml": [
       "<?xml version=\"1.0\" encoding=\"utf-8\"?>\n",
       "<!DOCTYPE svg PUBLIC \"-//W3C//DTD SVG 1.1//EN\" \"http://www.w3.org/Graphics/SVG/1.1/DTD/svg11.dtd\">\n",
       "<svg xmlns=\"http://www.w3.org/2000/svg\" xmlns:xlink=\"http://www.w3.org/1999/xlink\" version=\"1.1\" class=\"marks\" width=\"323\" height=\"242\" viewBox=\"0 0 323 242\"><rect width=\"323\" height=\"242\" fill=\"white\"/><g fill=\"none\" stroke-miterlimit=\"10\" transform=\"translate(45,5)\"><g class=\"mark-group role-frame root\" role=\"graphics-object\" aria-roledescription=\"group mark container\"><g transform=\"translate(0,0)\"><path class=\"background\" aria-hidden=\"true\" d=\"M0.5,0.5h200v200h-200Z\" stroke=\"#ddd\"/><g><g class=\"mark-group role-axis\" aria-hidden=\"true\"><g transform=\"translate(0.5,200.5)\"><path class=\"background\" aria-hidden=\"true\" d=\"M0,0h0v0h0Z\" pointer-events=\"none\"/><g><g class=\"mark-rule role-axis-grid\" pointer-events=\"none\"><line transform=\"translate(0,-200)\" x2=\"0\" y2=\"200\" stroke=\"#ddd\" stroke-width=\"1\" opacity=\"1\"/><line transform=\"translate(40,-200)\" x2=\"0\" y2=\"200\" stroke=\"#ddd\" stroke-width=\"1\" opacity=\"1\"/><line transform=\"translate(80,-200)\" x2=\"0\" y2=\"200\" stroke=\"#ddd\" stroke-width=\"1\" opacity=\"1\"/><line transform=\"translate(120,-200)\" x2=\"0\" y2=\"200\" stroke=\"#ddd\" stroke-width=\"1\" opacity=\"1\"/><line transform=\"translate(160,-200)\" x2=\"0\" y2=\"200\" stroke=\"#ddd\" stroke-width=\"1\" opacity=\"1\"/><line transform=\"translate(200,-200)\" x2=\"0\" y2=\"200\" stroke=\"#ddd\" stroke-width=\"1\" opacity=\"1\"/></g></g><path class=\"foreground\" aria-hidden=\"true\" d=\"\" pointer-events=\"none\" display=\"none\"/></g></g><g class=\"mark-group role-axis\" aria-hidden=\"true\"><g transform=\"translate(0.5,0.5)\"><path class=\"background\" aria-hidden=\"true\" d=\"M0,0h0v0h0Z\" pointer-events=\"none\"/><g><g class=\"mark-rule role-axis-grid\" pointer-events=\"none\"><line transform=\"translate(0,200)\" x2=\"200\" y2=\"0\" stroke=\"#ddd\" stroke-width=\"1\" opacity=\"1\"/><line transform=\"translate(0,162)\" x2=\"200\" y2=\"0\" stroke=\"#ddd\" stroke-width=\"1\" opacity=\"1\"/><line transform=\"translate(0,123)\" x2=\"200\" y2=\"0\" stroke=\"#ddd\" stroke-width=\"1\" opacity=\"1\"/><line transform=\"translate(0,85)\" x2=\"200\" y2=\"0\" stroke=\"#ddd\" stroke-width=\"1\" opacity=\"1\"/><line transform=\"translate(0,46)\" x2=\"200\" y2=\"0\" stroke=\"#ddd\" stroke-width=\"1\" opacity=\"1\"/><line transform=\"translate(0,8)\" x2=\"200\" y2=\"0\" stroke=\"#ddd\" stroke-width=\"1\" opacity=\"1\"/></g></g><path class=\"foreground\" aria-hidden=\"true\" d=\"\" pointer-events=\"none\" display=\"none\"/></g></g><g class=\"mark-group role-axis\" role=\"graphics-symbol\" aria-roledescription=\"axis\" aria-label=\"X-axis titled 'S' for a linear scale with values from 0 to 1,000\"><g transform=\"translate(0.5,200.5)\"><path class=\"background\" aria-hidden=\"true\" d=\"M0,0h0v0h0Z\" pointer-events=\"none\"/><g><g class=\"mark-rule role-axis-tick\" pointer-events=\"none\"><line transform=\"translate(0,0)\" x2=\"0\" y2=\"5\" stroke=\"#888\" stroke-width=\"1\" opacity=\"1\"/><line transform=\"translate(40,0)\" x2=\"0\" y2=\"5\" stroke=\"#888\" stroke-width=\"1\" opacity=\"1\"/><line transform=\"translate(80,0)\" x2=\"0\" y2=\"5\" stroke=\"#888\" stroke-width=\"1\" opacity=\"1\"/><line transform=\"translate(120,0)\" x2=\"0\" y2=\"5\" stroke=\"#888\" stroke-width=\"1\" opacity=\"1\"/><line transform=\"translate(160,0)\" x2=\"0\" y2=\"5\" stroke=\"#888\" stroke-width=\"1\" opacity=\"1\"/><line transform=\"translate(200,0)\" x2=\"0\" y2=\"5\" stroke=\"#888\" stroke-width=\"1\" opacity=\"1\"/></g><g class=\"mark-text role-axis-label\" pointer-events=\"none\"><text text-anchor=\"start\" transform=\"translate(0,15)\" font-family=\"sans-serif\" font-size=\"10px\" fill=\"#000\" opacity=\"1\">0</text><text text-anchor=\"middle\" transform=\"translate(40,15)\" font-family=\"sans-serif\" font-size=\"10px\" fill=\"#000\" opacity=\"1\">200</text><text text-anchor=\"middle\" transform=\"translate(80,15)\" font-family=\"sans-serif\" font-size=\"10px\" fill=\"#000\" opacity=\"1\">400</text><text text-anchor=\"middle\" transform=\"translate(120,15)\" font-family=\"sans-serif\" font-size=\"10px\" fill=\"#000\" opacity=\"1\">600</text><text text-anchor=\"middle\" transform=\"translate(160,15)\" font-family=\"sans-serif\" font-size=\"10px\" fill=\"#000\" opacity=\"1\">800</text><text text-anchor=\"end\" transform=\"translate(200,15)\" font-family=\"sans-serif\" font-size=\"10px\" fill=\"#000\" opacity=\"1\">1,000</text></g><g class=\"mark-rule role-axis-domain\" pointer-events=\"none\"><line transform=\"translate(0,0)\" x2=\"200\" y2=\"0\" stroke=\"#888\" stroke-width=\"1\" opacity=\"1\"/></g><g class=\"mark-text role-axis-title\" pointer-events=\"none\"><text text-anchor=\"middle\" transform=\"translate(100,30)\" font-family=\"sans-serif\" font-size=\"11px\" font-weight=\"bold\" fill=\"#000\" opacity=\"1\">S</text></g></g><path class=\"foreground\" aria-hidden=\"true\" d=\"\" pointer-events=\"none\" display=\"none\"/></g></g><g class=\"mark-group role-axis\" role=\"graphics-symbol\" aria-roledescription=\"axis\" aria-label=\"Y-axis titled 's' for a linear scale with values from 0 to 260\"><g transform=\"translate(0.5,0.5)\"><path class=\"background\" aria-hidden=\"true\" d=\"M0,0h0v0h0Z\" pointer-events=\"none\"/><g><g class=\"mark-rule role-axis-tick\" pointer-events=\"none\"><line transform=\"translate(0,200)\" x2=\"-5\" y2=\"0\" stroke=\"#888\" stroke-width=\"1\" opacity=\"1\"/><line transform=\"translate(0,162)\" x2=\"-5\" y2=\"0\" stroke=\"#888\" stroke-width=\"1\" opacity=\"1\"/><line transform=\"translate(0,123)\" x2=\"-5\" y2=\"0\" stroke=\"#888\" stroke-width=\"1\" opacity=\"1\"/><line transform=\"translate(0,85)\" x2=\"-5\" y2=\"0\" stroke=\"#888\" stroke-width=\"1\" opacity=\"1\"/><line transform=\"translate(0,46)\" x2=\"-5\" y2=\"0\" stroke=\"#888\" stroke-width=\"1\" opacity=\"1\"/><line transform=\"translate(0,8)\" x2=\"-5\" y2=\"0\" stroke=\"#888\" stroke-width=\"1\" opacity=\"1\"/></g><g class=\"mark-text role-axis-label\" pointer-events=\"none\"><text text-anchor=\"end\" transform=\"translate(-7,203)\" font-family=\"sans-serif\" font-size=\"10px\" fill=\"#000\" opacity=\"1\">0</text><text text-anchor=\"end\" transform=\"translate(-7,164.53846153846155)\" font-family=\"sans-serif\" font-size=\"10px\" fill=\"#000\" opacity=\"1\">50</text><text text-anchor=\"end\" transform=\"translate(-7,126.07692307692308)\" font-family=\"sans-serif\" font-size=\"10px\" fill=\"#000\" opacity=\"1\">100</text><text text-anchor=\"end\" transform=\"translate(-7,87.61538461538463)\" font-family=\"sans-serif\" font-size=\"10px\" fill=\"#000\" opacity=\"1\">150</text><text text-anchor=\"end\" transform=\"translate(-7,49.153846153846146)\" font-family=\"sans-serif\" font-size=\"10px\" fill=\"#000\" opacity=\"1\">200</text><text text-anchor=\"end\" transform=\"translate(-7,10.692307692307686)\" font-family=\"sans-serif\" font-size=\"10px\" fill=\"#000\" opacity=\"1\">250</text></g><g class=\"mark-rule role-axis-domain\" pointer-events=\"none\"><line transform=\"translate(0,200)\" x2=\"0\" y2=\"-200\" stroke=\"#888\" stroke-width=\"1\" opacity=\"1\"/></g><g class=\"mark-text role-axis-title\" pointer-events=\"none\"><text text-anchor=\"middle\" transform=\"translate(-29,100) rotate(-90) translate(0,-2)\" font-family=\"sans-serif\" font-size=\"11px\" font-weight=\"bold\" fill=\"#000\" opacity=\"1\">s</text></g></g><path class=\"foreground\" aria-hidden=\"true\" d=\"\" pointer-events=\"none\" display=\"none\"/></g></g><g class=\"mark-symbol role-mark marks\" role=\"graphics-object\" aria-roledescription=\"symbol mark container\"><path aria-label=\"S: 100; s: 25; lost_mean: 216.66\" role=\"graphics-symbol\" aria-roledescription=\"point\" transform=\"translate(20,180.76923076923077)\" d=\"M2.7386127875258306,0A2.7386127875258306,2.7386127875258306,0,1,1,-2.7386127875258306,0A2.7386127875258306,2.7386127875258306,0,1,1,2.7386127875258306,0\" stroke=\"rgb(240, 249, 33)\" stroke-width=\"2\" opacity=\"0.7\"/><path aria-label=\"S: 200; s: 25; lost_mean: 118.92\" role=\"graphics-symbol\" aria-roledescription=\"point\" transform=\"translate(40,180.76923076923077)\" d=\"M2.7386127875258306,0A2.7386127875258306,2.7386127875258306,0,1,1,-2.7386127875258306,0A2.7386127875258306,2.7386127875258306,0,1,1,2.7386127875258306,0\" stroke=\"rgb(214, 85, 109)\" stroke-width=\"2\" opacity=\"0.7\"/><path aria-label=\"S: 300; s: 25; lost_mean: 81.2\" role=\"graphics-symbol\" aria-roledescription=\"point\" transform=\"translate(60,180.76923076923077)\" d=\"M2.7386127875258306,0A2.7386127875258306,2.7386127875258306,0,1,1,-2.7386127875258306,0A2.7386127875258306,2.7386127875258306,0,1,1,2.7386127875258306,0\" stroke=\"rgb(169, 35, 150)\" stroke-width=\"2\" opacity=\"0.7\"/><path aria-label=\"S: 400; s: 25; lost_mean: 60.11\" role=\"graphics-symbol\" aria-roledescription=\"point\" transform=\"translate(80,180.76923076923077)\" d=\"M2.7386127875258306,0A2.7386127875258306,2.7386127875258306,0,1,1,-2.7386127875258306,0A2.7386127875258306,2.7386127875258306,0,1,1,2.7386127875258306,0\" stroke=\"rgb(136, 8, 166)\" stroke-width=\"2\" opacity=\"0.7\"/><path aria-label=\"S: 500; s: 25; lost_mean: 50.72\" role=\"graphics-symbol\" aria-roledescription=\"point\" transform=\"translate(100,180.76923076923077)\" d=\"M2.7386127875258306,0A2.7386127875258306,2.7386127875258306,0,1,1,-2.7386127875258306,0A2.7386127875258306,2.7386127875258306,0,1,1,2.7386127875258306,0\" stroke=\"rgb(120, 1, 168)\" stroke-width=\"2\" opacity=\"0.7\"/><path aria-label=\"S: 600; s: 25; lost_mean: 34.57\" role=\"graphics-symbol\" aria-roledescription=\"point\" transform=\"translate(120,180.76923076923077)\" d=\"M2.7386127875258306,0A2.7386127875258306,2.7386127875258306,0,1,1,-2.7386127875258306,0A2.7386127875258306,2.7386127875258306,0,1,1,2.7386127875258306,0\" stroke=\"rgb(90, 1, 165)\" stroke-width=\"2\" opacity=\"0.7\"/><path aria-label=\"S: 700; s: 25; lost_mean: 33.52\" role=\"graphics-symbol\" aria-roledescription=\"point\" transform=\"translate(140,180.76923076923077)\" d=\"M2.7386127875258306,0A2.7386127875258306,2.7386127875258306,0,1,1,-2.7386127875258306,0A2.7386127875258306,2.7386127875258306,0,1,1,2.7386127875258306,0\" stroke=\"rgb(88, 1, 165)\" stroke-width=\"2\" opacity=\"0.7\"/><path aria-label=\"S: 800; s: 25; lost_mean: 32.05\" role=\"graphics-symbol\" aria-roledescription=\"point\" transform=\"translate(160,180.76923076923077)\" d=\"M2.7386127875258306,0A2.7386127875258306,2.7386127875258306,0,1,1,-2.7386127875258306,0A2.7386127875258306,2.7386127875258306,0,1,1,2.7386127875258306,0\" stroke=\"rgb(86, 2, 164)\" stroke-width=\"2\" opacity=\"0.7\"/><path aria-label=\"S: 900; s: 25; lost_mean: 30.45\" role=\"graphics-symbol\" aria-roledescription=\"point\" transform=\"translate(180,180.76923076923077)\" d=\"M2.7386127875258306,0A2.7386127875258306,2.7386127875258306,0,1,1,-2.7386127875258306,0A2.7386127875258306,2.7386127875258306,0,1,1,2.7386127875258306,0\" stroke=\"rgb(83, 2, 163)\" stroke-width=\"2\" opacity=\"0.7\"/><path aria-label=\"S: 1000; s: 25; lost_mean: 24.22\" role=\"graphics-symbol\" aria-roledescription=\"point\" transform=\"translate(200,180.76923076923077)\" d=\"M2.7386127875258306,0A2.7386127875258306,2.7386127875258306,0,1,1,-2.7386127875258306,0A2.7386127875258306,2.7386127875258306,0,1,1,2.7386127875258306,0\" stroke=\"rgb(71, 3, 159)\" stroke-width=\"2\" opacity=\"0.7\"/><path aria-label=\"S: 100; s: 50; lost_mean: 118.74\" role=\"graphics-symbol\" aria-roledescription=\"point\" transform=\"translate(20,161.53846153846155)\" d=\"M2.7386127875258306,0A2.7386127875258306,2.7386127875258306,0,1,1,-2.7386127875258306,0A2.7386127875258306,2.7386127875258306,0,1,1,2.7386127875258306,0\" stroke=\"rgb(214, 85, 109)\" stroke-width=\"2\" opacity=\"0.7\"/><path aria-label=\"S: 200; s: 50; lost_mean: 49.21\" role=\"graphics-symbol\" aria-roledescription=\"point\" transform=\"translate(40,161.53846153846155)\" d=\"M2.7386127875258306,0A2.7386127875258306,2.7386127875258306,0,1,1,-2.7386127875258306,0A2.7386127875258306,2.7386127875258306,0,1,1,2.7386127875258306,0\" stroke=\"rgb(117, 1, 168)\" stroke-width=\"2\" opacity=\"0.7\"/><path aria-label=\"S: 300; s: 50; lost_mean: 44.28\" role=\"graphics-symbol\" aria-roledescription=\"point\" transform=\"translate(60,161.53846153846155)\" d=\"M2.7386127875258306,0A2.7386127875258306,2.7386127875258306,0,1,1,-2.7386127875258306,0A2.7386127875258306,2.7386127875258306,0,1,1,2.7386127875258306,0\" stroke=\"rgb(108, 0, 168)\" stroke-width=\"2\" opacity=\"0.7\"/><path aria-label=\"S: 400; s: 50; lost_mean: 37.86\" role=\"graphics-symbol\" aria-roledescription=\"point\" transform=\"translate(80,161.53846153846155)\" d=\"M2.7386127875258306,0A2.7386127875258306,2.7386127875258306,0,1,1,-2.7386127875258306,0A2.7386127875258306,2.7386127875258306,0,1,1,2.7386127875258306,0\" stroke=\"rgb(96, 1, 166)\" stroke-width=\"2\" opacity=\"0.7\"/><path aria-label=\"S: 500; s: 50; lost_mean: 21.04\" role=\"graphics-symbol\" aria-roledescription=\"point\" transform=\"translate(100,161.53846153846155)\" d=\"M2.7386127875258306,0A2.7386127875258306,2.7386127875258306,0,1,1,-2.7386127875258306,0A2.7386127875258306,2.7386127875258306,0,1,1,2.7386127875258306,0\" stroke=\"rgb(65, 3, 156)\" stroke-width=\"2\" opacity=\"0.7\"/><path aria-label=\"S: 600; s: 50; lost_mean: 16.11\" role=\"graphics-symbol\" aria-roledescription=\"point\" transform=\"translate(120,161.53846153846155)\" d=\"M2.7386127875258306,0A2.7386127875258306,2.7386127875258306,0,1,1,-2.7386127875258306,0A2.7386127875258306,2.7386127875258306,0,1,1,2.7386127875258306,0\" stroke=\"rgb(54, 5, 152)\" stroke-width=\"2\" opacity=\"0.7\"/><path aria-label=\"S: 700; s: 50; lost_mean: 20.11\" role=\"graphics-symbol\" aria-roledescription=\"point\" transform=\"translate(140,161.53846153846155)\" d=\"M2.7386127875258306,0A2.7386127875258306,2.7386127875258306,0,1,1,-2.7386127875258306,0A2.7386127875258306,2.7386127875258306,0,1,1,2.7386127875258306,0\" stroke=\"rgb(63, 3, 156)\" stroke-width=\"2\" opacity=\"0.7\"/><path aria-label=\"S: 800; s: 50; lost_mean: 18.19\" role=\"graphics-symbol\" aria-roledescription=\"point\" transform=\"translate(160,161.53846153846155)\" d=\"M2.7386127875258306,0A2.7386127875258306,2.7386127875258306,0,1,1,-2.7386127875258306,0A2.7386127875258306,2.7386127875258306,0,1,1,2.7386127875258306,0\" stroke=\"rgb(59, 4, 154)\" stroke-width=\"2\" opacity=\"0.7\"/><path aria-label=\"S: 900; s: 50; lost_mean: 13.63\" role=\"graphics-symbol\" aria-roledescription=\"point\" transform=\"translate(180,161.53846153846155)\" d=\"M2.7386127875258306,0A2.7386127875258306,2.7386127875258306,0,1,1,-2.7386127875258306,0A2.7386127875258306,2.7386127875258306,0,1,1,2.7386127875258306,0\" stroke=\"rgb(49, 5, 150)\" stroke-width=\"2\" opacity=\"0.7\"/><path aria-label=\"S: 1000; s: 50; lost_mean: 9.96\" role=\"graphics-symbol\" aria-roledescription=\"point\" transform=\"translate(200,161.53846153846155)\" d=\"M2.7386127875258306,0A2.7386127875258306,2.7386127875258306,0,1,1,-2.7386127875258306,0A2.7386127875258306,2.7386127875258306,0,1,1,2.7386127875258306,0\" stroke=\"rgb(41, 6, 147)\" stroke-width=\"2\" opacity=\"0.7\"/><path aria-label=\"S: 100; s: 75; lost_mean: 74.03\" role=\"graphics-symbol\" aria-roledescription=\"point\" transform=\"translate(20,142.30769230769232)\" d=\"M2.7386127875258306,0A2.7386127875258306,2.7386127875258306,0,1,1,-2.7386127875258306,0A2.7386127875258306,2.7386127875258306,0,1,1,2.7386127875258306,0\" stroke=\"rgb(159, 26, 156)\" stroke-width=\"2\" opacity=\"0.7\"/><path aria-label=\"S: 200; s: 75; lost_mean: 24.44\" role=\"graphics-symbol\" aria-roledescription=\"point\" transform=\"translate(40,142.30769230769232)\" d=\"M2.7386127875258306,0A2.7386127875258306,2.7386127875258306,0,1,1,-2.7386127875258306,0A2.7386127875258306,2.7386127875258306,0,1,1,2.7386127875258306,0\" stroke=\"rgb(71, 3, 159)\" stroke-width=\"2\" opacity=\"0.7\"/><path aria-label=\"S: 300; s: 75; lost_mean: 14.97\" role=\"graphics-symbol\" aria-roledescription=\"point\" transform=\"translate(60,142.30769230769232)\" d=\"M2.7386127875258306,0A2.7386127875258306,2.7386127875258306,0,1,1,-2.7386127875258306,0A2.7386127875258306,2.7386127875258306,0,1,1,2.7386127875258306,0\" stroke=\"rgb(52, 5, 151)\" stroke-width=\"2\" opacity=\"0.7\"/><path aria-label=\"S: 400; s: 75; lost_mean: 6.17\" role=\"graphics-symbol\" aria-roledescription=\"point\" transform=\"translate(80,142.30769230769232)\" d=\"M2.7386127875258306,0A2.7386127875258306,2.7386127875258306,0,1,1,-2.7386127875258306,0A2.7386127875258306,2.7386127875258306,0,1,1,2.7386127875258306,0\" stroke=\"rgb(32, 6, 143)\" stroke-width=\"2\" opacity=\"0.7\"/><path aria-label=\"S: 500; s: 75; lost_mean: 7.34\" role=\"graphics-symbol\" aria-roledescription=\"point\" transform=\"translate(100,142.30769230769232)\" d=\"M2.7386127875258306,0A2.7386127875258306,2.7386127875258306,0,1,1,-2.7386127875258306,0A2.7386127875258306,2.7386127875258306,0,1,1,2.7386127875258306,0\" stroke=\"rgb(35, 6, 144)\" stroke-width=\"2\" opacity=\"0.7\"/><path aria-label=\"S: 600; s: 75; lost_mean: 9.68\" role=\"graphics-symbol\" aria-roledescription=\"point\" transform=\"translate(120,142.30769230769232)\" d=\"M2.7386127875258306,0A2.7386127875258306,2.7386127875258306,0,1,1,-2.7386127875258306,0A2.7386127875258306,2.7386127875258306,0,1,1,2.7386127875258306,0\" stroke=\"rgb(40, 6, 146)\" stroke-width=\"2\" opacity=\"0.7\"/><path aria-label=\"S: 700; s: 75; lost_mean: 7.85\" role=\"graphics-symbol\" aria-roledescription=\"point\" transform=\"translate(140,142.30769230769232)\" d=\"M2.7386127875258306,0A2.7386127875258306,2.7386127875258306,0,1,1,-2.7386127875258306,0A2.7386127875258306,2.7386127875258306,0,1,1,2.7386127875258306,0\" stroke=\"rgb(36, 6, 145)\" stroke-width=\"2\" opacity=\"0.7\"/><path aria-label=\"S: 800; s: 75; lost_mean: 11.43\" role=\"graphics-symbol\" aria-roledescription=\"point\" transform=\"translate(160,142.30769230769232)\" d=\"M2.7386127875258306,0A2.7386127875258306,2.7386127875258306,0,1,1,-2.7386127875258306,0A2.7386127875258306,2.7386127875258306,0,1,1,2.7386127875258306,0\" stroke=\"rgb(44, 5, 148)\" stroke-width=\"2\" opacity=\"0.7\"/><path aria-label=\"S: 900; s: 75; lost_mean: 4.52\" role=\"graphics-symbol\" aria-roledescription=\"point\" transform=\"translate(180,142.30769230769232)\" d=\"M2.7386127875258306,0A2.7386127875258306,2.7386127875258306,0,1,1,-2.7386127875258306,0A2.7386127875258306,2.7386127875258306,0,1,1,2.7386127875258306,0\" stroke=\"rgb(27, 7, 141)\" stroke-width=\"2\" opacity=\"0.7\"/><path aria-label=\"S: 1000; s: 75; lost_mean: 3.27\" role=\"graphics-symbol\" aria-roledescription=\"point\" transform=\"translate(200,142.30769230769232)\" d=\"M2.7386127875258306,0A2.7386127875258306,2.7386127875258306,0,1,1,-2.7386127875258306,0A2.7386127875258306,2.7386127875258306,0,1,1,2.7386127875258306,0\" stroke=\"rgb(23, 7, 139)\" stroke-width=\"2\" opacity=\"0.7\"/><path aria-label=\"S: 200; s: 100; lost_mean: 20.08\" role=\"graphics-symbol\" aria-roledescription=\"point\" transform=\"translate(40,123.07692307692308)\" d=\"M2.7386127875258306,0A2.7386127875258306,2.7386127875258306,0,1,1,-2.7386127875258306,0A2.7386127875258306,2.7386127875258306,0,1,1,2.7386127875258306,0\" stroke=\"rgb(63, 3, 156)\" stroke-width=\"2\" opacity=\"0.7\"/><path aria-label=\"S: 300; s: 100; lost_mean: 5.76\" role=\"graphics-symbol\" aria-roledescription=\"point\" transform=\"translate(60,123.07692307692308)\" d=\"M2.7386127875258306,0A2.7386127875258306,2.7386127875258306,0,1,1,-2.7386127875258306,0A2.7386127875258306,2.7386127875258306,0,1,1,2.7386127875258306,0\" stroke=\"rgb(31, 6, 142)\" stroke-width=\"2\" opacity=\"0.7\"/><path aria-label=\"S: 400; s: 100; lost_mean: 6.26\" role=\"graphics-symbol\" aria-roledescription=\"point\" transform=\"translate(80,123.07692307692308)\" d=\"M2.7386127875258306,0A2.7386127875258306,2.7386127875258306,0,1,1,-2.7386127875258306,0A2.7386127875258306,2.7386127875258306,0,1,1,2.7386127875258306,0\" stroke=\"rgb(32, 6, 143)\" stroke-width=\"2\" opacity=\"0.7\"/><path aria-label=\"S: 500; s: 100; lost_mean: 5.26\" role=\"graphics-symbol\" aria-roledescription=\"point\" transform=\"translate(100,123.07692307692308)\" d=\"M2.7386127875258306,0A2.7386127875258306,2.7386127875258306,0,1,1,-2.7386127875258306,0A2.7386127875258306,2.7386127875258306,0,1,1,2.7386127875258306,0\" stroke=\"rgb(29, 7, 142)\" stroke-width=\"2\" opacity=\"0.7\"/><path aria-label=\"S: 600; s: 100; lost_mean: 2.97\" role=\"graphics-symbol\" aria-roledescription=\"point\" transform=\"translate(120,123.07692307692308)\" d=\"M2.7386127875258306,0A2.7386127875258306,2.7386127875258306,0,1,1,-2.7386127875258306,0A2.7386127875258306,2.7386127875258306,0,1,1,2.7386127875258306,0\" stroke=\"rgb(22, 7, 139)\" stroke-width=\"2\" opacity=\"0.7\"/><path aria-label=\"S: 700; s: 100; lost_mean: 0.49\" role=\"graphics-symbol\" aria-roledescription=\"point\" transform=\"translate(140,123.07692307692308)\" d=\"M2.7386127875258306,0A2.7386127875258306,2.7386127875258306,0,1,1,-2.7386127875258306,0A2.7386127875258306,2.7386127875258306,0,1,1,2.7386127875258306,0\" stroke=\"rgb(14, 8, 136)\" stroke-width=\"2\" opacity=\"0.7\"/><path aria-label=\"S: 800; s: 100; lost_mean: 5.79\" role=\"graphics-symbol\" aria-roledescription=\"point\" transform=\"translate(160,123.07692307692308)\" d=\"M2.7386127875258306,0A2.7386127875258306,2.7386127875258306,0,1,1,-2.7386127875258306,0A2.7386127875258306,2.7386127875258306,0,1,1,2.7386127875258306,0\" stroke=\"rgb(31, 6, 142)\" stroke-width=\"2\" opacity=\"0.7\"/><path aria-label=\"S: 900; s: 100; lost_mean: 2.51\" role=\"graphics-symbol\" aria-roledescription=\"point\" transform=\"translate(180,123.07692307692308)\" d=\"M2.7386127875258306,0A2.7386127875258306,2.7386127875258306,0,1,1,-2.7386127875258306,0A2.7386127875258306,2.7386127875258306,0,1,1,2.7386127875258306,0\" stroke=\"rgb(21, 7, 138)\" stroke-width=\"2\" opacity=\"0.7\"/><path aria-label=\"S: 1000; s: 100; lost_mean: 2.53\" role=\"graphics-symbol\" aria-roledescription=\"point\" transform=\"translate(200,123.07692307692308)\" d=\"M2.7386127875258306,0A2.7386127875258306,2.7386127875258306,0,1,1,-2.7386127875258306,0A2.7386127875258306,2.7386127875258306,0,1,1,2.7386127875258306,0\" stroke=\"rgb(21, 7, 138)\" stroke-width=\"2\" opacity=\"0.7\"/><path aria-label=\"S: 200; s: 125; lost_mean: 9.32\" role=\"graphics-symbol\" aria-roledescription=\"point\" transform=\"translate(40,103.84615384615384)\" d=\"M2.7386127875258306,0A2.7386127875258306,2.7386127875258306,0,1,1,-2.7386127875258306,0A2.7386127875258306,2.7386127875258306,0,1,1,2.7386127875258306,0\" stroke=\"rgb(40, 6, 146)\" stroke-width=\"2\" opacity=\"0.7\"/><path aria-label=\"S: 300; s: 125; lost_mean: 2.89\" role=\"graphics-symbol\" aria-roledescription=\"point\" transform=\"translate(60,103.84615384615384)\" d=\"M2.7386127875258306,0A2.7386127875258306,2.7386127875258306,0,1,1,-2.7386127875258306,0A2.7386127875258306,2.7386127875258306,0,1,1,2.7386127875258306,0\" stroke=\"rgb(22, 7, 139)\" stroke-width=\"2\" opacity=\"0.7\"/><path aria-label=\"S: 400; s: 125; lost_mean: 4.37\" role=\"graphics-symbol\" aria-roledescription=\"point\" transform=\"translate(80,103.84615384615384)\" d=\"M2.7386127875258306,0A2.7386127875258306,2.7386127875258306,0,1,1,-2.7386127875258306,0A2.7386127875258306,2.7386127875258306,0,1,1,2.7386127875258306,0\" stroke=\"rgb(26, 7, 140)\" stroke-width=\"2\" opacity=\"0.7\"/><path aria-label=\"S: 500; s: 125; lost_mean: 3.27\" role=\"graphics-symbol\" aria-roledescription=\"point\" transform=\"translate(100,103.84615384615384)\" d=\"M2.7386127875258306,0A2.7386127875258306,2.7386127875258306,0,1,1,-2.7386127875258306,0A2.7386127875258306,2.7386127875258306,0,1,1,2.7386127875258306,0\" stroke=\"rgb(23, 7, 139)\" stroke-width=\"2\" opacity=\"0.7\"/><path aria-label=\"S: 600; s: 125; lost_mean: 0.92\" role=\"graphics-symbol\" aria-roledescription=\"point\" transform=\"translate(120,103.84615384615384)\" d=\"M2.7386127875258306,0A2.7386127875258306,2.7386127875258306,0,1,1,-2.7386127875258306,0A2.7386127875258306,2.7386127875258306,0,1,1,2.7386127875258306,0\" stroke=\"rgb(16, 8, 136)\" stroke-width=\"2\" opacity=\"0.7\"/><path aria-label=\"S: 700; s: 125; lost_mean: 0.75\" role=\"graphics-symbol\" aria-roledescription=\"point\" transform=\"translate(140,103.84615384615384)\" d=\"M2.7386127875258306,0A2.7386127875258306,2.7386127875258306,0,1,1,-2.7386127875258306,0A2.7386127875258306,2.7386127875258306,0,1,1,2.7386127875258306,0\" stroke=\"rgb(15, 8, 136)\" stroke-width=\"2\" opacity=\"0.7\"/><path aria-label=\"S: 800; s: 125; lost_mean: 2.17\" role=\"graphics-symbol\" aria-roledescription=\"point\" transform=\"translate(160,103.84615384615384)\" d=\"M2.7386127875258306,0A2.7386127875258306,2.7386127875258306,0,1,1,-2.7386127875258306,0A2.7386127875258306,2.7386127875258306,0,1,1,2.7386127875258306,0\" stroke=\"rgb(20, 7, 138)\" stroke-width=\"2\" opacity=\"0.7\"/><path aria-label=\"S: 900; s: 125; lost_mean: 1.94\" role=\"graphics-symbol\" aria-roledescription=\"point\" transform=\"translate(180,103.84615384615384)\" d=\"M2.7386127875258306,0A2.7386127875258306,2.7386127875258306,0,1,1,-2.7386127875258306,0A2.7386127875258306,2.7386127875258306,0,1,1,2.7386127875258306,0\" stroke=\"rgb(19, 7, 137)\" stroke-width=\"2\" opacity=\"0.7\"/><path aria-label=\"S: 1000; s: 125; lost_mean: 1.12\" role=\"graphics-symbol\" aria-roledescription=\"point\" transform=\"translate(200,103.84615384615384)\" d=\"M2.7386127875258306,0A2.7386127875258306,2.7386127875258306,0,1,1,-2.7386127875258306,0A2.7386127875258306,2.7386127875258306,0,1,1,2.7386127875258306,0\" stroke=\"rgb(16, 8, 136)\" stroke-width=\"2\" opacity=\"0.7\"/><path aria-label=\"S: 200; s: 150; lost_mean: 1.83\" role=\"graphics-symbol\" aria-roledescription=\"point\" transform=\"translate(40,84.61538461538463)\" d=\"M2.7386127875258306,0A2.7386127875258306,2.7386127875258306,0,1,1,-2.7386127875258306,0A2.7386127875258306,2.7386127875258306,0,1,1,2.7386127875258306,0\" stroke=\"rgb(19, 7, 137)\" stroke-width=\"2\" opacity=\"0.7\"/><path aria-label=\"S: 300; s: 150; lost_mean: 2.02\" role=\"graphics-symbol\" aria-roledescription=\"point\" transform=\"translate(60,84.61538461538463)\" d=\"M2.7386127875258306,0A2.7386127875258306,2.7386127875258306,0,1,1,-2.7386127875258306,0A2.7386127875258306,2.7386127875258306,0,1,1,2.7386127875258306,0\" stroke=\"rgb(19, 7, 138)\" stroke-width=\"2\" opacity=\"0.7\"/><path aria-label=\"S: 400; s: 150; lost_mean: 1.22\" role=\"graphics-symbol\" aria-roledescription=\"point\" transform=\"translate(80,84.61538461538463)\" d=\"M2.7386127875258306,0A2.7386127875258306,2.7386127875258306,0,1,1,-2.7386127875258306,0A2.7386127875258306,2.7386127875258306,0,1,1,2.7386127875258306,0\" stroke=\"rgb(17, 8, 137)\" stroke-width=\"2\" opacity=\"0.7\"/><path aria-label=\"S: 500; s: 150; lost_mean: 0.56\" role=\"graphics-symbol\" aria-roledescription=\"point\" transform=\"translate(100,84.61538461538463)\" d=\"M2.7386127875258306,0A2.7386127875258306,2.7386127875258306,0,1,1,-2.7386127875258306,0A2.7386127875258306,2.7386127875258306,0,1,1,2.7386127875258306,0\" stroke=\"rgb(15, 8, 136)\" stroke-width=\"2\" opacity=\"0.7\"/><path aria-label=\"S: 600; s: 150; lost_mean: 1.99\" role=\"graphics-symbol\" aria-roledescription=\"point\" transform=\"translate(120,84.61538461538463)\" d=\"M2.7386127875258306,0A2.7386127875258306,2.7386127875258306,0,1,1,-2.7386127875258306,0A2.7386127875258306,2.7386127875258306,0,1,1,2.7386127875258306,0\" stroke=\"rgb(19, 7, 137)\" stroke-width=\"2\" opacity=\"0.7\"/><path aria-label=\"S: 700; s: 150; lost_mean: 0.28\" role=\"graphics-symbol\" aria-roledescription=\"point\" transform=\"translate(140,84.61538461538463)\" d=\"M2.7386127875258306,0A2.7386127875258306,2.7386127875258306,0,1,1,-2.7386127875258306,0A2.7386127875258306,2.7386127875258306,0,1,1,2.7386127875258306,0\" stroke=\"rgb(14, 8, 135)\" stroke-width=\"2\" opacity=\"0.7\"/><path aria-label=\"S: 800; s: 150; lost_mean: 1.81\" role=\"graphics-symbol\" aria-roledescription=\"point\" transform=\"translate(160,84.61538461538463)\" d=\"M2.7386127875258306,0A2.7386127875258306,2.7386127875258306,0,1,1,-2.7386127875258306,0A2.7386127875258306,2.7386127875258306,0,1,1,2.7386127875258306,0\" stroke=\"rgb(19, 7, 137)\" stroke-width=\"2\" opacity=\"0.7\"/><path aria-label=\"S: 900; s: 150; lost_mean: 0.44\" role=\"graphics-symbol\" aria-roledescription=\"point\" transform=\"translate(180,84.61538461538463)\" d=\"M2.7386127875258306,0A2.7386127875258306,2.7386127875258306,0,1,1,-2.7386127875258306,0A2.7386127875258306,2.7386127875258306,0,1,1,2.7386127875258306,0\" stroke=\"rgb(14, 8, 136)\" stroke-width=\"2\" opacity=\"0.7\"/><path aria-label=\"S: 1000; s: 150; lost_mean: 1.6\" role=\"graphics-symbol\" aria-roledescription=\"point\" transform=\"translate(200,84.61538461538463)\" d=\"M2.7386127875258306,0A2.7386127875258306,2.7386127875258306,0,1,1,-2.7386127875258306,0A2.7386127875258306,2.7386127875258306,0,1,1,2.7386127875258306,0\" stroke=\"rgb(18, 8, 137)\" stroke-width=\"2\" opacity=\"0.7\"/><path aria-label=\"S: 200; s: 175; lost_mean: 3.27\" role=\"graphics-symbol\" aria-roledescription=\"point\" transform=\"translate(40,65.38461538461537)\" d=\"M2.7386127875258306,0A2.7386127875258306,2.7386127875258306,0,1,1,-2.7386127875258306,0A2.7386127875258306,2.7386127875258306,0,1,1,2.7386127875258306,0\" stroke=\"rgb(23, 7, 139)\" stroke-width=\"2\" opacity=\"0.7\"/><path aria-label=\"S: 300; s: 175; lost_mean: 0.71\" role=\"graphics-symbol\" aria-roledescription=\"point\" transform=\"translate(60,65.38461538461537)\" d=\"M2.7386127875258306,0A2.7386127875258306,2.7386127875258306,0,1,1,-2.7386127875258306,0A2.7386127875258306,2.7386127875258306,0,1,1,2.7386127875258306,0\" stroke=\"rgb(15, 8, 136)\" stroke-width=\"2\" opacity=\"0.7\"/><path aria-label=\"S: 400; s: 175; lost_mean: 1.75\" role=\"graphics-symbol\" aria-roledescription=\"point\" transform=\"translate(80,65.38461538461537)\" d=\"M2.7386127875258306,0A2.7386127875258306,2.7386127875258306,0,1,1,-2.7386127875258306,0A2.7386127875258306,2.7386127875258306,0,1,1,2.7386127875258306,0\" stroke=\"rgb(18, 8, 137)\" stroke-width=\"2\" opacity=\"0.7\"/><path aria-label=\"S: 500; s: 175; lost_mean: 0.36\" role=\"graphics-symbol\" aria-roledescription=\"point\" transform=\"translate(100,65.38461538461537)\" d=\"M2.7386127875258306,0A2.7386127875258306,2.7386127875258306,0,1,1,-2.7386127875258306,0A2.7386127875258306,2.7386127875258306,0,1,1,2.7386127875258306,0\" stroke=\"rgb(14, 8, 135)\" stroke-width=\"2\" opacity=\"0.7\"/><path aria-label=\"S: 600; s: 175; lost_mean: 0.67\" role=\"graphics-symbol\" aria-roledescription=\"point\" transform=\"translate(120,65.38461538461537)\" d=\"M2.7386127875258306,0A2.7386127875258306,2.7386127875258306,0,1,1,-2.7386127875258306,0A2.7386127875258306,2.7386127875258306,0,1,1,2.7386127875258306,0\" stroke=\"rgb(15, 8, 136)\" stroke-width=\"2\" opacity=\"0.7\"/><path aria-label=\"S: 700; s: 175; lost_mean: 0.02\" role=\"graphics-symbol\" aria-roledescription=\"point\" transform=\"translate(140,65.38461538461537)\" d=\"M2.7386127875258306,0A2.7386127875258306,2.7386127875258306,0,1,1,-2.7386127875258306,0A2.7386127875258306,2.7386127875258306,0,1,1,2.7386127875258306,0\" stroke=\"rgb(13, 8, 135)\" stroke-width=\"2\" opacity=\"0.7\"/><path aria-label=\"S: 800; s: 175; lost_mean: 1.83\" role=\"graphics-symbol\" aria-roledescription=\"point\" transform=\"translate(160,65.38461538461537)\" d=\"M2.7386127875258306,0A2.7386127875258306,2.7386127875258306,0,1,1,-2.7386127875258306,0A2.7386127875258306,2.7386127875258306,0,1,1,2.7386127875258306,0\" stroke=\"rgb(19, 7, 137)\" stroke-width=\"2\" opacity=\"0.7\"/><path aria-label=\"S: 900; s: 175; lost_mean: 1.06\" role=\"graphics-symbol\" aria-roledescription=\"point\" transform=\"translate(180,65.38461538461537)\" d=\"M2.7386127875258306,0A2.7386127875258306,2.7386127875258306,0,1,1,-2.7386127875258306,0A2.7386127875258306,2.7386127875258306,0,1,1,2.7386127875258306,0\" stroke=\"rgb(16, 8, 136)\" stroke-width=\"2\" opacity=\"0.7\"/><path aria-label=\"S: 1000; s: 175; lost_mean: 1.49\" role=\"graphics-symbol\" aria-roledescription=\"point\" transform=\"translate(200,65.38461538461537)\" d=\"M2.7386127875258306,0A2.7386127875258306,2.7386127875258306,0,1,1,-2.7386127875258306,0A2.7386127875258306,2.7386127875258306,0,1,1,2.7386127875258306,0\" stroke=\"rgb(18, 8, 137)\" stroke-width=\"2\" opacity=\"0.7\"/><path aria-label=\"S: 300; s: 200; lost_mean: 0.68\" role=\"graphics-symbol\" aria-roledescription=\"point\" transform=\"translate(60,46.153846153846146)\" d=\"M2.7386127875258306,0A2.7386127875258306,2.7386127875258306,0,1,1,-2.7386127875258306,0A2.7386127875258306,2.7386127875258306,0,1,1,2.7386127875258306,0\" stroke=\"rgb(15, 8, 136)\" stroke-width=\"2\" opacity=\"0.7\"/><path aria-label=\"S: 400; s: 200; lost_mean: 0.82\" role=\"graphics-symbol\" aria-roledescription=\"point\" transform=\"translate(80,46.153846153846146)\" d=\"M2.7386127875258306,0A2.7386127875258306,2.7386127875258306,0,1,1,-2.7386127875258306,0A2.7386127875258306,2.7386127875258306,0,1,1,2.7386127875258306,0\" stroke=\"rgb(15, 8, 136)\" stroke-width=\"2\" opacity=\"0.7\"/><path aria-label=\"S: 500; s: 200; lost_mean: 0.79\" role=\"graphics-symbol\" aria-roledescription=\"point\" transform=\"translate(100,46.153846153846146)\" d=\"M2.7386127875258306,0A2.7386127875258306,2.7386127875258306,0,1,1,-2.7386127875258306,0A2.7386127875258306,2.7386127875258306,0,1,1,2.7386127875258306,0\" stroke=\"rgb(15, 8, 136)\" stroke-width=\"2\" opacity=\"0.7\"/><path aria-label=\"S: 600; s: 200; lost_mean: 1.25\" role=\"graphics-symbol\" aria-roledescription=\"point\" transform=\"translate(120,46.153846153846146)\" d=\"M2.7386127875258306,0A2.7386127875258306,2.7386127875258306,0,1,1,-2.7386127875258306,0A2.7386127875258306,2.7386127875258306,0,1,1,2.7386127875258306,0\" stroke=\"rgb(17, 8, 137)\" stroke-width=\"2\" opacity=\"0.7\"/><path aria-label=\"S: 700; s: 200; lost_mean: 0.72\" role=\"graphics-symbol\" aria-roledescription=\"point\" transform=\"translate(140,46.153846153846146)\" d=\"M2.7386127875258306,0A2.7386127875258306,2.7386127875258306,0,1,1,-2.7386127875258306,0A2.7386127875258306,2.7386127875258306,0,1,1,2.7386127875258306,0\" stroke=\"rgb(15, 8, 136)\" stroke-width=\"2\" opacity=\"0.7\"/><path aria-label=\"S: 800; s: 200; lost_mean: 0.33\" role=\"graphics-symbol\" aria-roledescription=\"point\" transform=\"translate(160,46.153846153846146)\" d=\"M2.7386127875258306,0A2.7386127875258306,2.7386127875258306,0,1,1,-2.7386127875258306,0A2.7386127875258306,2.7386127875258306,0,1,1,2.7386127875258306,0\" stroke=\"rgb(14, 8, 135)\" stroke-width=\"2\" opacity=\"0.7\"/><path aria-label=\"S: 900; s: 200; lost_mean: 0.38\" role=\"graphics-symbol\" aria-roledescription=\"point\" transform=\"translate(180,46.153846153846146)\" d=\"M2.7386127875258306,0A2.7386127875258306,2.7386127875258306,0,1,1,-2.7386127875258306,0A2.7386127875258306,2.7386127875258306,0,1,1,2.7386127875258306,0\" stroke=\"rgb(14, 8, 135)\" stroke-width=\"2\" opacity=\"0.7\"/><path aria-label=\"S: 1000; s: 200; lost_mean: 0.52\" role=\"graphics-symbol\" aria-roledescription=\"point\" transform=\"translate(200,46.153846153846146)\" d=\"M2.7386127875258306,0A2.7386127875258306,2.7386127875258306,0,1,1,-2.7386127875258306,0A2.7386127875258306,2.7386127875258306,0,1,1,2.7386127875258306,0\" stroke=\"rgb(15, 8, 136)\" stroke-width=\"2\" opacity=\"0.7\"/><path aria-label=\"S: 300; s: 225; lost_mean: 1.5\" role=\"graphics-symbol\" aria-roledescription=\"point\" transform=\"translate(60,26.923076923076916)\" d=\"M2.7386127875258306,0A2.7386127875258306,2.7386127875258306,0,1,1,-2.7386127875258306,0A2.7386127875258306,2.7386127875258306,0,1,1,2.7386127875258306,0\" stroke=\"rgb(18, 8, 137)\" stroke-width=\"2\" opacity=\"0.7\"/><path aria-label=\"S: 400; s: 225; lost_mean: 0.7\" role=\"graphics-symbol\" aria-roledescription=\"point\" transform=\"translate(80,26.923076923076916)\" d=\"M2.7386127875258306,0A2.7386127875258306,2.7386127875258306,0,1,1,-2.7386127875258306,0A2.7386127875258306,2.7386127875258306,0,1,1,2.7386127875258306,0\" stroke=\"rgb(15, 8, 136)\" stroke-width=\"2\" opacity=\"0.7\"/><path aria-label=\"S: 500; s: 225; lost_mean: 1.65\" role=\"graphics-symbol\" aria-roledescription=\"point\" transform=\"translate(100,26.923076923076916)\" d=\"M2.7386127875258306,0A2.7386127875258306,2.7386127875258306,0,1,1,-2.7386127875258306,0A2.7386127875258306,2.7386127875258306,0,1,1,2.7386127875258306,0\" stroke=\"rgb(18, 8, 137)\" stroke-width=\"2\" opacity=\"0.7\"/><path aria-label=\"S: 600; s: 225; lost_mean: 2.13\" role=\"graphics-symbol\" aria-roledescription=\"point\" transform=\"translate(120,26.923076923076916)\" d=\"M2.7386127875258306,0A2.7386127875258306,2.7386127875258306,0,1,1,-2.7386127875258306,0A2.7386127875258306,2.7386127875258306,0,1,1,2.7386127875258306,0\" stroke=\"rgb(19, 7, 138)\" stroke-width=\"2\" opacity=\"0.7\"/><path aria-label=\"S: 700; s: 225; lost_mean: 0.93\" role=\"graphics-symbol\" aria-roledescription=\"point\" transform=\"translate(140,26.923076923076916)\" d=\"M2.7386127875258306,0A2.7386127875258306,2.7386127875258306,0,1,1,-2.7386127875258306,0A2.7386127875258306,2.7386127875258306,0,1,1,2.7386127875258306,0\" stroke=\"rgb(16, 8, 136)\" stroke-width=\"2\" opacity=\"0.7\"/><path aria-label=\"S: 800; s: 225; lost_mean: 0.1\" role=\"graphics-symbol\" aria-roledescription=\"point\" transform=\"translate(160,26.923076923076916)\" d=\"M2.7386127875258306,0A2.7386127875258306,2.7386127875258306,0,1,1,-2.7386127875258306,0A2.7386127875258306,2.7386127875258306,0,1,1,2.7386127875258306,0\" stroke=\"rgb(13, 8, 135)\" stroke-width=\"2\" opacity=\"0.7\"/><path aria-label=\"S: 900; s: 225; lost_mean: 0.48\" role=\"graphics-symbol\" aria-roledescription=\"point\" transform=\"translate(180,26.923076923076916)\" d=\"M2.7386127875258306,0A2.7386127875258306,2.7386127875258306,0,1,1,-2.7386127875258306,0A2.7386127875258306,2.7386127875258306,0,1,1,2.7386127875258306,0\" stroke=\"rgb(14, 8, 136)\" stroke-width=\"2\" opacity=\"0.7\"/><path aria-label=\"S: 1000; s: 225; lost_mean: 1.32\" role=\"graphics-symbol\" aria-roledescription=\"point\" transform=\"translate(200,26.923076923076916)\" d=\"M2.7386127875258306,0A2.7386127875258306,2.7386127875258306,0,1,1,-2.7386127875258306,0A2.7386127875258306,2.7386127875258306,0,1,1,2.7386127875258306,0\" stroke=\"rgb(17, 8, 137)\" stroke-width=\"2\" opacity=\"0.7\"/><path aria-label=\"S: 300; s: 250; lost_mean: 0.4\" role=\"graphics-symbol\" aria-roledescription=\"point\" transform=\"translate(60,7.692307692307687)\" d=\"M2.7386127875258306,0A2.7386127875258306,2.7386127875258306,0,1,1,-2.7386127875258306,0A2.7386127875258306,2.7386127875258306,0,1,1,2.7386127875258306,0\" stroke=\"rgb(14, 8, 135)\" stroke-width=\"2\" opacity=\"0.7\"/><path aria-label=\"S: 400; s: 250; lost_mean: 0.1\" role=\"graphics-symbol\" aria-roledescription=\"point\" transform=\"translate(80,7.692307692307687)\" d=\"M2.7386127875258306,0A2.7386127875258306,2.7386127875258306,0,1,1,-2.7386127875258306,0A2.7386127875258306,2.7386127875258306,0,1,1,2.7386127875258306,0\" stroke=\"rgb(13, 8, 135)\" stroke-width=\"2\" opacity=\"0.7\"/><path aria-label=\"S: 500; s: 250; lost_mean: 0.21\" role=\"graphics-symbol\" aria-roledescription=\"point\" transform=\"translate(100,7.692307692307687)\" d=\"M2.7386127875258306,0A2.7386127875258306,2.7386127875258306,0,1,1,-2.7386127875258306,0A2.7386127875258306,2.7386127875258306,0,1,1,2.7386127875258306,0\" stroke=\"rgb(14, 8, 135)\" stroke-width=\"2\" opacity=\"0.7\"/><path aria-label=\"S: 600; s: 250; lost_mean: 2.18\" role=\"graphics-symbol\" aria-roledescription=\"point\" transform=\"translate(120,7.692307692307687)\" d=\"M2.7386127875258306,0A2.7386127875258306,2.7386127875258306,0,1,1,-2.7386127875258306,0A2.7386127875258306,2.7386127875258306,0,1,1,2.7386127875258306,0\" stroke=\"rgb(20, 7, 138)\" stroke-width=\"2\" opacity=\"0.7\"/><path aria-label=\"S: 700; s: 250; lost_mean: 1.76\" role=\"graphics-symbol\" aria-roledescription=\"point\" transform=\"translate(140,7.692307692307687)\" d=\"M2.7386127875258306,0A2.7386127875258306,2.7386127875258306,0,1,1,-2.7386127875258306,0A2.7386127875258306,2.7386127875258306,0,1,1,2.7386127875258306,0\" stroke=\"rgb(18, 8, 137)\" stroke-width=\"2\" opacity=\"0.7\"/><path aria-label=\"S: 800; s: 250; lost_mean: 0.03\" role=\"graphics-symbol\" aria-roledescription=\"point\" transform=\"translate(160,7.692307692307687)\" d=\"M2.7386127875258306,0A2.7386127875258306,2.7386127875258306,0,1,1,-2.7386127875258306,0A2.7386127875258306,2.7386127875258306,0,1,1,2.7386127875258306,0\" stroke=\"rgb(13, 8, 135)\" stroke-width=\"2\" opacity=\"0.7\"/><path aria-label=\"S: 900; s: 250; lost_mean: 0.96\" role=\"graphics-symbol\" aria-roledescription=\"point\" transform=\"translate(180,7.692307692307687)\" d=\"M2.7386127875258306,0A2.7386127875258306,2.7386127875258306,0,1,1,-2.7386127875258306,0A2.7386127875258306,2.7386127875258306,0,1,1,2.7386127875258306,0\" stroke=\"rgb(16, 8, 136)\" stroke-width=\"2\" opacity=\"0.7\"/><path aria-label=\"S: 1000; s: 250; lost_mean: 0\" role=\"graphics-symbol\" aria-roledescription=\"point\" transform=\"translate(200,7.692307692307687)\" d=\"M2.7386127875258306,0A2.7386127875258306,2.7386127875258306,0,1,1,-2.7386127875258306,0A2.7386127875258306,2.7386127875258306,0,1,1,2.7386127875258306,0\" stroke=\"rgb(13, 8, 135)\" stroke-width=\"2\" opacity=\"0.7\"/></g><g class=\"mark-group role-legend\" role=\"graphics-symbol\" aria-roledescription=\"legend\" aria-label=\"Gradient legend titled 'lost_mean' for stroke color with values from 0 to 217\"><g transform=\"translate(218,0)\"><path class=\"background\" aria-hidden=\"true\" d=\"M0,0h55v216h-55Z\" pointer-events=\"none\"/><g><g class=\"mark-group role-legend-entry\"><g transform=\"translate(0,16)\"><path class=\"background\" aria-hidden=\"true\" d=\"M0,0h0v0h0Z\" pointer-events=\"none\"/><g><g class=\"mark-rect role-legend-gradient\" pointer-events=\"none\"><path d=\"M0,0h16v200h-16Z\" fill=\"url(#gradient_0)\" stroke=\"#ddd\" stroke-width=\"0\" opacity=\"0.7\"/></g><g class=\"mark-text role-legend-label\" pointer-events=\"none\"><text text-anchor=\"start\" transform=\"translate(18,198)\" font-family=\"sans-serif\" font-size=\"10px\" fill=\"#000\" opacity=\"1\">0</text><text text-anchor=\"start\" transform=\"translate(18,156.84473368411335)\" font-family=\"sans-serif\" font-size=\"10px\" fill=\"#000\" opacity=\"1\">50</text><text text-anchor=\"start\" transform=\"translate(18,110.68946736822672)\" font-family=\"sans-serif\" font-size=\"10px\" fill=\"#000\" opacity=\"1\">100</text><text text-anchor=\"start\" transform=\"translate(18,64.53420105234007)\" font-family=\"sans-serif\" font-size=\"10px\" fill=\"#000\" opacity=\"1\">150</text><text text-anchor=\"start\" transform=\"translate(18,18.37893473645342)\" font-family=\"sans-serif\" font-size=\"10px\" fill=\"#000\" opacity=\"1\">200</text></g></g><path class=\"foreground\" aria-hidden=\"true\" d=\"\" pointer-events=\"none\" display=\"none\"/></g></g><g class=\"mark-text role-legend-title\" pointer-events=\"none\"><text text-anchor=\"start\" transform=\"translate(0,9)\" font-family=\"sans-serif\" font-size=\"11px\" font-weight=\"bold\" fill=\"#000\" opacity=\"1\">lost_mean</text></g></g><path class=\"foreground\" aria-hidden=\"true\" d=\"\" pointer-events=\"none\" display=\"none\"/></g></g></g><path class=\"foreground\" aria-hidden=\"true\" d=\"\" display=\"none\"/></g></g></g><defs><linearGradient id=\"gradient_0\" x1=\"0\" x2=\"0\" y1=\"1\" y2=\"0\"><stop offset=\"0\" stop-color=\"rgb(13, 8, 135)\"/><stop offset=\"0.09231053263177329\" stop-color=\"rgb(63, 3, 156)\"/><stop offset=\"0.18462106526354657\" stop-color=\"rgb(100, 0, 167)\"/><stop offset=\"0.27693159789531985\" stop-color=\"rgb(136, 7, 166)\"/><stop offset=\"0.36924213052709315\" stop-color=\"rgb(168, 34, 151)\"/><stop offset=\"0.46155266315886645\" stop-color=\"rgb(194, 60, 129)\"/><stop offset=\"0.5538631957906397\" stop-color=\"rgb(215, 87, 108)\"/><stop offset=\"0.646173728422413\" stop-color=\"rgb(233, 114, 88)\"/><stop offset=\"0.7384842610541863\" stop-color=\"rgb(247, 145, 67)\"/><stop offset=\"0.8307947936859595\" stop-color=\"rgb(253, 178, 48)\"/><stop offset=\"0.9231053263177329\" stop-color=\"rgb(250, 216, 36)\"/><stop offset=\"1\" stop-color=\"rgb(240, 249, 33)\"/></linearGradient></defs></svg>\n"
      ],
      "text/plain": [
       "@vlplot(\n",
       "    mark=\"point\",\n",
       "    encoding={\n",
       "        x={\n",
       "            field=\"S\"\n",
       "        },\n",
       "        y={\n",
       "            field=\"s\"\n",
       "        },\n",
       "        color={\n",
       "            scale={\n",
       "                scheme=\"plasma\"\n",
       "            },\n",
       "            field=\"lost_mean\"\n",
       "        }\n",
       "    },\n",
       "    data={\n",
       "        values=...\n",
       "    }\n",
       ")"
      ]
     },
     "execution_count": 85,
     "metadata": {},
     "output_type": "execute_result"
    }
   ],
   "source": [
    "# using PyPlot\n",
    "# using PyCall \n",
    "\n",
    "using VegaLite\n",
    "df |> @vlplot(:point, x=:S, y=:s, color={:lost_mean, scale={scheme=:plasma}})\n",
    "\n",
    "        # scatter(df.S[more500],\n",
    "#         df.s[more500], \n",
    "#         c=df.lost_mean[more500] )\n",
    "# xlabel(\"S - target wharehouse stock \")\n",
    "# ylabel(\"s - reorder point\")\n",
    "# colorbar()\n",
    "# title(\"Lost orders\")\n",
    "\n",
    "# scatter(df.S[Not(more500)],\n",
    "#         df.s[Not(more500)], \n",
    "#         c=\"gray\")\n",
    "# show()\n",
    "# savefig(raw\"c:\\temp\\lost_orders.png\")"
   ]
  },
  {
   "cell_type": "code",
   "execution_count": 86,
   "metadata": {
    "scrolled": true
   },
   "outputs": [
    {
     "data": {
      "application/vnd.vegalite.v4+json": {
       "data": {
        "values": [
         {
          "N": 100,
          "S": 100,
          "lost_mean": 216.66,
          "lost_std": 86.9470081269173,
          "m": 90,
          "profit_mean": 2971.249,
          "profit_std": 187.95520554621308,
          "s": 25
         },
         {
          "N": 100,
          "S": 200,
          "lost_mean": 118.92,
          "lost_std": 62.04913009426116,
          "m": 90,
          "profit_mean": 3579.7960000000003,
          "profit_std": 143.17221100493074,
          "s": 25
         },
         {
          "N": 100,
          "S": 300,
          "lost_mean": 81.2,
          "lost_std": 61.18988495006359,
          "m": 90,
          "profit_mean": 3488.4050000000007,
          "profit_std": 233.74275784168026,
          "s": 25
         },
         {
          "N": 100,
          "S": 400,
          "lost_mean": 60.11,
          "lost_std": 45.893793731073295,
          "m": 90,
          "profit_mean": 3081.231,
          "profit_std": 179.82085119429956,
          "s": 25
         },
         {
          "N": 100,
          "S": 500,
          "lost_mean": 50.72,
          "lost_std": 46.57742115678112,
          "m": 90,
          "profit_mean": 2630.7940000000003,
          "profit_std": 167.02355959141173,
          "s": 25
         },
         {
          "N": 100,
          "S": 600,
          "lost_mean": 34.57,
          "lost_std": 38.67169638133426,
          "m": 90,
          "profit_mean": 2546.72,
          "profit_std": 258.4702663477147,
          "s": 25
         },
         {
          "N": 100,
          "S": 700,
          "lost_mean": 33.52,
          "lost_std": 31.946128897178628,
          "m": 90,
          "profit_mean": 1683.641,
          "profit_std": 168.93935442559678,
          "s": 25
         },
         {
          "N": 100,
          "S": 800,
          "lost_mean": 32.05,
          "lost_std": 34.9673368511908,
          "m": 90,
          "profit_mean": 1200.9729999999995,
          "profit_std": 281.1663826245624,
          "s": 25
         },
         {
          "N": 100,
          "S": 900,
          "lost_mean": 30.45,
          "lost_std": 37.83360031944242,
          "m": 90,
          "profit_mean": 1367.398,
          "profit_std": 302.58799637711195,
          "s": 25
         },
         {
          "N": 100,
          "S": 1000,
          "lost_mean": 24.22,
          "lost_std": 28.795194604711952,
          "m": 90,
          "profit_mean": 419.79099999999994,
          "profit_std": 221.17033158800362,
          "s": 25
         },
         {
          "N": 100,
          "S": 100,
          "lost_mean": 118.74,
          "lost_std": 73.54756861028683,
          "m": 90,
          "profit_mean": 2661.4039999999995,
          "profit_std": 141.7369971019379,
          "s": 50
         },
         {
          "N": 100,
          "S": 200,
          "lost_mean": 49.21,
          "lost_std": 49.32602218552054,
          "m": 90,
          "profit_mean": 3534.3150000000005,
          "profit_std": 159.41803592055612,
          "s": 50
         },
         {
          "N": 100,
          "S": 300,
          "lost_mean": 44.28,
          "lost_std": 55.60249976213282,
          "m": 90,
          "profit_mean": 3394.5560000000005,
          "profit_std": 188.26334141625162,
          "s": 50
         },
         {
          "N": 100,
          "S": 400,
          "lost_mean": 37.86,
          "lost_std": 48.17833454149198,
          "m": 90,
          "profit_mean": 3061.301,
          "profit_std": 190.8767143996355,
          "s": 50
         },
         {
          "N": 100,
          "S": 500,
          "lost_mean": 21.04,
          "lost_std": 31.871243490271315,
          "m": 90,
          "profit_mean": 2721.5890000000004,
          "profit_std": 214.69375882823894,
          "s": 50
         },
         {
          "N": 100,
          "S": 600,
          "lost_mean": 16.11,
          "lost_std": 27.825173908356856,
          "m": 90,
          "profit_mean": 2407.2490000000003,
          "profit_std": 282.0750023817901,
          "s": 50
         },
         {
          "N": 100,
          "S": 700,
          "lost_mean": 20.11,
          "lost_std": 29.26745184285331,
          "m": 90,
          "profit_mean": 1642.6039999999996,
          "profit_std": 171.262618893625,
          "s": 50
         },
         {
          "N": 100,
          "S": 800,
          "lost_mean": 18.19,
          "lost_std": 32.82481661576475,
          "m": 90,
          "profit_mean": 1014.0949999999997,
          "profit_std": 189.3099048538073,
          "s": 50
         },
         {
          "N": 100,
          "S": 900,
          "lost_mean": 13.63,
          "lost_std": 25.355912983608448,
          "m": 90,
          "profit_mean": 1231.521,
          "profit_std": 324.8279520660658,
          "s": 50
         },
         {
          "N": 100,
          "S": 1000,
          "lost_mean": 9.96,
          "lost_std": 26.49868302425994,
          "m": 90,
          "profit_mean": 435.7709999999998,
          "profit_std": 259.2438944840799,
          "s": 50
         },
         {
          "N": 100,
          "S": 100,
          "lost_mean": 74.03,
          "lost_std": 56.146355467859465,
          "m": 90,
          "profit_mean": 1855.157,
          "profit_std": 251.1118521172137,
          "s": 75
         },
         {
          "N": 100,
          "S": 200,
          "lost_mean": 24.44,
          "lost_std": 32.929468550067725,
          "m": 90,
          "profit_mean": 3346.4440000000004,
          "profit_std": 164.15197769694447,
          "s": 75
         },
         {
          "N": 100,
          "S": 300,
          "lost_mean": 14.97,
          "lost_std": 26.357853946147905,
          "m": 90,
          "profit_mean": 3300.2020000000007,
          "profit_std": 171.81134943285713,
          "s": 75
         },
         {
          "N": 100,
          "S": 400,
          "lost_mean": 6.17,
          "lost_std": 14.591442766916574,
          "m": 90,
          "profit_mean": 3035.6479999999997,
          "profit_std": 209.69590559723002,
          "s": 75
         },
         {
          "N": 100,
          "S": 500,
          "lost_mean": 7.34,
          "lost_std": 24.491276533954412,
          "m": 90,
          "profit_mean": 2687.4680000000003,
          "profit_std": 239.6288636600147,
          "s": 75
         },
         {
          "N": 100,
          "S": 600,
          "lost_mean": 9.68,
          "lost_std": 26.735849651089385,
          "m": 90,
          "profit_mean": 2028.0840000000003,
          "profit_std": 263.90170986313603,
          "s": 75
         },
         {
          "N": 100,
          "S": 700,
          "lost_mean": 7.85,
          "lost_std": 21.5417729028504,
          "m": 90,
          "profit_mean": 1678.705,
          "profit_std": 207.2270415327696,
          "s": 75
         },
         {
          "N": 100,
          "S": 800,
          "lost_mean": 11.43,
          "lost_std": 24.390449778633442,
          "m": 90,
          "profit_mean": 914.724,
          "profit_std": 153.53444592288884,
          "s": 75
         },
         {
          "N": 100,
          "S": 900,
          "lost_mean": 4.52,
          "lost_std": 15.272263100209486,
          "m": 90,
          "profit_mean": 682.4799999999997,
          "profit_std": 435.9574175294989,
          "s": 75
         },
         {
          "N": 100,
          "S": 1000,
          "lost_mean": 3.27,
          "lost_std": 14.687901294754278,
          "m": 90,
          "profit_mean": 439.6809999999997,
          "profit_std": 268.44414639988645,
          "s": 75
         },
         {
          "N": 100,
          "S": 200,
          "lost_mean": 20.08,
          "lost_std": 32.71909213133809,
          "m": 90,
          "profit_mean": 3020.23,
          "profit_std": 160.12806900992885,
          "s": 100
         },
         {
          "N": 100,
          "S": 300,
          "lost_mean": 5.76,
          "lost_std": 15.6276884555793,
          "m": 90,
          "profit_mean": 3120.251,
          "profit_std": 168.18128836635097,
          "s": 100
         },
         {
          "N": 100,
          "S": 400,
          "lost_mean": 6.26,
          "lost_std": 17.33486007262169,
          "m": 90,
          "profit_mean": 2795.2369999999996,
          "profit_std": 187.47999362894984,
          "s": 100
         },
         {
          "N": 100,
          "S": 500,
          "lost_mean": 5.26,
          "lost_std": 26.617993458515535,
          "m": 90,
          "profit_mean": 2386.138,
          "profit_std": 263.08043889520366,
          "s": 100
         },
         {
          "N": 100,
          "S": 600,
          "lost_mean": 2.97,
          "lost_std": 13.148303266500925,
          "m": 90,
          "profit_mean": 1828.5710000000001,
          "profit_std": 170.44090969001425,
          "s": 100
         },
         {
          "N": 100,
          "S": 700,
          "lost_mean": 0.49,
          "lost_std": 2.7135834893246518,
          "m": 90,
          "profit_mean": 1683.693,
          "profit_std": 251.01191378019482,
          "s": 100
         },
         {
          "N": 100,
          "S": 800,
          "lost_mean": 5.79,
          "lost_std": 19.27802695382292,
          "m": 90,
          "profit_mean": 814.0609999999998,
          "profit_std": 186.53830266898606,
          "s": 100
         },
         {
          "N": 100,
          "S": 900,
          "lost_mean": 2.51,
          "lost_std": 7.848946400374996,
          "m": 90,
          "profit_mean": 293.36999999999983,
          "profit_std": 355.2029320392681,
          "s": 100
         },
         {
          "N": 100,
          "S": 1000,
          "lost_mean": 2.53,
          "lost_std": 12.014683777054906,
          "m": 90,
          "profit_mean": 428.6849999999998,
          "profit_std": 255.33067344725794,
          "s": 100
         },
         {
          "N": 100,
          "S": 200,
          "lost_mean": 9.32,
          "lost_std": 21.774268940168533,
          "m": 90,
          "profit_mean": 2615.4799999999996,
          "profit_std": 187.355158870941,
          "s": 125
         },
         {
          "N": 100,
          "S": 300,
          "lost_mean": 2.89,
          "lost_std": 12.867541970541087,
          "m": 90,
          "profit_mean": 2913.112,
          "profit_std": 175.10721811034347,
          "s": 125
         },
         {
          "N": 100,
          "S": 400,
          "lost_mean": 4.37,
          "lost_std": 18.413683427650682,
          "m": 90,
          "profit_mean": 2680.0350000000008,
          "profit_std": 174.42341978268527,
          "s": 125
         },
         {
          "N": 100,
          "S": 500,
          "lost_mean": 3.27,
          "lost_std": 18.34619658929144,
          "m": 90,
          "profit_mean": 2227.969,
          "profit_std": 205.2709747375331,
          "s": 125
         },
         {
          "N": 100,
          "S": 600,
          "lost_mean": 0.92,
          "lost_std": 5.364831231400866,
          "m": 90,
          "profit_mean": 1771.845,
          "profit_std": 161.99935613726643,
          "s": 125
         },
         {
          "N": 100,
          "S": 700,
          "lost_mean": 0.75,
          "lost_std": 6.1272285164607085,
          "m": 90,
          "profit_mean": 1545.7620000000002,
          "profit_std": 273.75956743762646,
          "s": 125
         },
         {
          "N": 100,
          "S": 800,
          "lost_mean": 2.17,
          "lost_std": 11.349413725791825,
          "m": 90,
          "profit_mean": 722.4939999999998,
          "profit_std": 207.39437171288384,
          "s": 125
         },
         {
          "N": 100,
          "S": 900,
          "lost_mean": 1.94,
          "lost_std": 8.282658042103648,
          "m": 90,
          "profit_mean": 59.789999999999836,
          "profit_std": 220.4234160048163,
          "s": 125
         },
         {
          "N": 100,
          "S": 1000,
          "lost_mean": 1.12,
          "lost_std": 8.359691647689191,
          "m": 90,
          "profit_mean": 268.1569999999998,
          "profit_std": 409.5952826963107,
          "s": 125
         },
         {
          "N": 100,
          "S": 200,
          "lost_mean": 1.83,
          "lost_std": 7.363649457526704,
          "m": 90,
          "profit_mean": 1970.987,
          "profit_std": 248.1636767042137,
          "s": 150
         },
         {
          "N": 100,
          "S": 300,
          "lost_mean": 2.02,
          "lost_std": 8.678290573190507,
          "m": 90,
          "profit_mean": 2671.952,
          "profit_std": 166.81307961701663,
          "s": 150
         },
         {
          "N": 100,
          "S": 400,
          "lost_mean": 1.22,
          "lost_std": 6.331865858696413,
          "m": 90,
          "profit_mean": 2497.744,
          "profit_std": 185.28499223486705,
          "s": 150
         },
         {
          "N": 100,
          "S": 500,
          "lost_mean": 0.56,
          "lost_std": 3.30386978489703,
          "m": 90,
          "profit_mean": 2149.314,
          "profit_std": 210.26386982440738,
          "s": 150
         },
         {
          "N": 100,
          "S": 600,
          "lost_mean": 1.99,
          "lost_std": 10.519337652460095,
          "m": 90,
          "profit_mean": 1814.606,
          "profit_std": 190.31460281450927,
          "s": 150
         },
         {
          "N": 100,
          "S": 700,
          "lost_mean": 0.28,
          "lost_std": 1.9698741179080554,
          "m": 90,
          "profit_mean": 1134.7029999999995,
          "profit_std": 327.16855769224566,
          "s": 150
         },
         {
          "N": 100,
          "S": 800,
          "lost_mean": 1.81,
          "lost_std": 10.048061273376836,
          "m": 90,
          "profit_mean": 737.2569999999998,
          "profit_std": 205.53083833347395,
          "s": 150
         },
         {
          "N": 100,
          "S": 900,
          "lost_mean": 0.44,
          "lost_std": 3.2108402248469083,
          "m": 90,
          "profit_mean": -37.010000000000225,
          "profit_std": 181.72357657395006,
          "s": 150
         },
         {
          "N": 100,
          "S": 1000,
          "lost_mean": 1.6,
          "lost_std": 8.836334538755771,
          "m": 90,
          "profit_mean": -236.9160000000002,
          "profit_std": 504.6193942713135,
          "s": 150
         },
         {
          "N": 100,
          "S": 200,
          "lost_mean": 3.27,
          "lost_std": 12.657775986692645,
          "m": 90,
          "profit_mean": 1034.612,
          "profit_std": 341.1812309899212,
          "s": 175
         },
         {
          "N": 100,
          "S": 300,
          "lost_mean": 0.71,
          "lost_std": 3.7180830294846046,
          "m": 90,
          "profit_mean": 2395.3160000000003,
          "profit_std": 204.57018391118135,
          "s": 175
         },
         {
          "N": 100,
          "S": 400,
          "lost_mean": 1.75,
          "lost_std": 12.90632528348919,
          "m": 90,
          "profit_mean": 2297.704,
          "profit_std": 193.6575880206604,
          "s": 175
         },
         {
          "N": 100,
          "S": 500,
          "lost_mean": 0.36,
          "lost_std": 3.5999999999999996,
          "m": 90,
          "profit_mean": 1958.382,
          "profit_std": 253.70202213692272,
          "s": 175
         },
         {
          "N": 100,
          "S": 600,
          "lost_mean": 0.67,
          "lost_std": 4.290122552462986,
          "m": 90,
          "profit_mean": 1649.5899999999997,
          "profit_std": 249.80461192983236,
          "s": 175
         },
         {
          "N": 100,
          "S": 700,
          "lost_mean": 0.02,
          "lost_std": 0.19999999999999998,
          "m": 90,
          "profit_mean": 917.8089999999997,
          "profit_std": 235.50629625287615,
          "s": 175
         },
         {
          "N": 100,
          "S": 800,
          "lost_mean": 1.83,
          "lost_std": 11.84159336125563,
          "m": 90,
          "profit_mean": 725.9579999999999,
          "profit_std": 225.62798745552894,
          "s": 175
         },
         {
          "N": 100,
          "S": 900,
          "lost_mean": 1.06,
          "lost_std": 10.600000000000003,
          "m": 90,
          "profit_mean": -147.6150000000002,
          "profit_std": 192.0369200482453,
          "s": 175
         },
         {
          "N": 100,
          "S": 1000,
          "lost_mean": 1.49,
          "lost_std": 9.630019352383082,
          "m": 90,
          "profit_mean": -507.8470000000002,
          "profit_std": 446.96536585482477,
          "s": 175
         },
         {
          "N": 100,
          "S": 300,
          "lost_mean": 0.68,
          "lost_std": 6.5007847234162455,
          "m": 90,
          "profit_mean": 2051.976,
          "profit_std": 166.18719645829125,
          "s": 200
         },
         {
          "N": 100,
          "S": 400,
          "lost_mean": 0.82,
          "lost_std": 5.341622346528188,
          "m": 90,
          "profit_mean": 2142.9079999999994,
          "profit_std": 205.21167277332017,
          "s": 200
         },
         {
          "N": 100,
          "S": 500,
          "lost_mean": 0.79,
          "lost_std": 4.759456296933951,
          "m": 90,
          "profit_mean": 1773.4129999999998,
          "profit_std": 192.5260631208359,
          "s": 200
         },
         {
          "N": 100,
          "S": 600,
          "lost_mean": 1.25,
          "lost_std": 7.629521345379143,
          "m": 90,
          "profit_mean": 1365.214,
          "profit_std": 268.5887686979988,
          "s": 200
         },
         {
          "N": 100,
          "S": 700,
          "lost_mean": 0.72,
          "lost_std": 4.9991514431466415,
          "m": 90,
          "profit_mean": 807.732,
          "profit_std": 167.06069294502737,
          "s": 200
         },
         {
          "N": 100,
          "S": 800,
          "lost_mean": 0.33,
          "lost_std": 2.074642478631298,
          "m": 90,
          "profit_mean": 690.9069999999998,
          "profit_std": 228.549274688427,
          "s": 200
         },
         {
          "N": 100,
          "S": 900,
          "lost_mean": 0.38,
          "lost_std": 2.643001049083135,
          "m": 90,
          "profit_mean": -141.55000000000027,
          "profit_std": 207.4540837599657,
          "s": 200
         },
         {
          "N": 100,
          "S": 1000,
          "lost_mean": 0.52,
          "lost_std": 5.199999999999998,
          "m": 90,
          "profit_mean": -772.3740000000003,
          "profit_std": 332.43444546149686,
          "s": 200
         },
         {
          "N": 100,
          "S": 300,
          "lost_mean": 1.5,
          "lost_std": 7.6785152184257575,
          "m": 90,
          "profit_mean": 1663.1519999999998,
          "profit_std": 212.2201855801581,
          "s": 225
         },
         {
          "N": 100,
          "S": 400,
          "lost_mean": 0.7,
          "lost_std": 4.924685294770139,
          "m": 90,
          "profit_mean": 1930.973,
          "profit_std": 173.7541569039836,
          "s": 225
         },
         {
          "N": 100,
          "S": 500,
          "lost_mean": 1.65,
          "lost_std": 13.0580483328339,
          "m": 90,
          "profit_mean": 1677.326,
          "profit_std": 206.8589431169819,
          "s": 225
         },
         {
          "N": 100,
          "S": 600,
          "lost_mean": 2.13,
          "lost_std": 12.449214003017588,
          "m": 90,
          "profit_mean": 1233.0069999999998,
          "profit_std": 224.07148492065085,
          "s": 225
         },
         {
          "N": 100,
          "S": 700,
          "lost_mean": 0.93,
          "lost_std": 6.244601709080452,
          "m": 90,
          "profit_mean": 808.2299999999999,
          "profit_std": 207.0249545783837,
          "s": 225
         },
         {
          "N": 100,
          "S": 800,
          "lost_mean": 0.1,
          "lost_std": 1.0000000000000007,
          "m": 90,
          "profit_mean": 534.6999999999999,
          "profit_std": 304.10735478170074,
          "s": 225
         },
         {
          "N": 100,
          "S": 900,
          "lost_mean": 0.48,
          "lost_std": 4.071284015559898,
          "m": 90,
          "profit_mean": -243.1130000000002,
          "profit_std": 201.20523400977746,
          "s": 225
         },
         {
          "N": 100,
          "S": 1000,
          "lost_mean": 1.32,
          "lost_std": 7.085167320508104,
          "m": 90,
          "profit_mean": -954.1800000000002,
          "profit_std": 197.84985992086783,
          "s": 225
         },
         {
          "N": 100,
          "S": 300,
          "lost_mean": 0.4,
          "lost_std": 2.8141058827257948,
          "m": 90,
          "profit_mean": 1026.938,
          "profit_std": 254.7140614235278,
          "s": 250
         },
         {
          "N": 100,
          "S": 400,
          "lost_mean": 0.1,
          "lost_std": 1.0000000000000007,
          "m": 90,
          "profit_mean": 1651.1429999999998,
          "profit_std": 172.60763601622932,
          "s": 250
         },
         {
          "N": 100,
          "S": 500,
          "lost_mean": 0.21,
          "lost_std": 1.6714779040832046,
          "m": 90,
          "profit_mean": 1488.8509999999997,
          "profit_std": 226.5972819360552,
          "s": 250
         },
         {
          "N": 100,
          "S": 600,
          "lost_mean": 2.18,
          "lost_std": 13.832606771719133,
          "m": 90,
          "profit_mean": 1213.382,
          "profit_std": 196.7978249756625,
          "s": 250
         },
         {
          "N": 100,
          "S": 700,
          "lost_mean": 1.76,
          "lost_std": 15.115795471204054,
          "m": 90,
          "profit_mean": 799.0329999999999,
          "profit_std": 176.64162204127808,
          "s": 250
         },
         {
          "N": 100,
          "S": 800,
          "lost_mean": 0.03,
          "lost_std": 0.2999999999999999,
          "m": 90,
          "profit_mean": 168.5249999999998,
          "profit_std": 342.22972507107306,
          "s": 250
         },
         {
          "N": 100,
          "S": 900,
          "lost_mean": 0.96,
          "lost_std": 7.126448107315638,
          "m": 90,
          "profit_mean": -275.16500000000025,
          "profit_std": 195.89202672994028,
          "s": 250
         },
         {
          "N": 100,
          "S": 1000,
          "lost_mean": 0,
          "lost_std": 0,
          "m": 90,
          "profit_mean": -1019.1280000000002,
          "profit_std": 171.74590291380093,
          "s": 250
         }
        ]
       },
       "encoding": {
        "color": {
         "field": "s",
         "scale": {
          "scheme": "plasma"
         },
         "type": "quantitative"
        },
        "x": {
         "field": "lost_mean",
         "type": "quantitative"
        },
        "y": {
         "field": "profit_mean",
         "type": "quantitative"
        }
       },
       "mark": "point"
      },
      "image/png": "[encoded data removed]",
      "image/svg+xml": [
       "<?xml version=\"1.0\" encoding=\"utf-8\"?>\n",
       "<!DOCTYPE svg PUBLIC \"-//W3C//DTD SVG 1.1//EN\" \"http://www.w3.org/Graphics/SVG/1.1/DTD/svg11.dtd\">\n",
       "<svg xmlns=\"http://www.w3.org/2000/svg\" xmlns:xlink=\"http://www.w3.org/1999/xlink\" version=\"1.1\" class=\"marks\" width=\"319\" height=\"247\" viewBox=\"0 0 319 247\"><rect width=\"319\" height=\"247\" fill=\"white\"/><g fill=\"none\" stroke-miterlimit=\"10\" transform=\"translate(60,10)\"><g class=\"mark-group role-frame root\" role=\"graphics-object\" aria-roledescription=\"group mark container\"><g transform=\"translate(0,0)\"><path class=\"background\" aria-hidden=\"true\" d=\"M0.5,0.5h200v200h-200Z\" stroke=\"#ddd\"/><g><g class=\"mark-group role-axis\" aria-hidden=\"true\"><g transform=\"translate(0.5,200.5)\"><path class=\"background\" aria-hidden=\"true\" d=\"M0,0h0v0h0Z\" pointer-events=\"none\"/><g><g class=\"mark-rule role-axis-grid\" pointer-events=\"none\"><line transform=\"translate(0,-200)\" x2=\"0\" y2=\"200\" stroke=\"#ddd\" stroke-width=\"1\" opacity=\"1\"/><line transform=\"translate(45,-200)\" x2=\"0\" y2=\"200\" stroke=\"#ddd\" stroke-width=\"1\" opacity=\"1\"/><line transform=\"translate(91,-200)\" x2=\"0\" y2=\"200\" stroke=\"#ddd\" stroke-width=\"1\" opacity=\"1\"/><line transform=\"translate(136,-200)\" x2=\"0\" y2=\"200\" stroke=\"#ddd\" stroke-width=\"1\" opacity=\"1\"/><line transform=\"translate(182,-200)\" x2=\"0\" y2=\"200\" stroke=\"#ddd\" stroke-width=\"1\" opacity=\"1\"/></g></g><path class=\"foreground\" aria-hidden=\"true\" d=\"\" pointer-events=\"none\" display=\"none\"/></g></g><g class=\"mark-group role-axis\" aria-hidden=\"true\"><g transform=\"translate(0.5,0.5)\"><path class=\"background\" aria-hidden=\"true\" d=\"M0,0h0v0h0Z\" pointer-events=\"none\"/><g><g class=\"mark-rule role-axis-grid\" pointer-events=\"none\"><line transform=\"translate(0,182)\" x2=\"200\" y2=\"0\" stroke=\"#ddd\" stroke-width=\"1\" opacity=\"1\"/><line transform=\"translate(0,145)\" x2=\"200\" y2=\"0\" stroke=\"#ddd\" stroke-width=\"1\" opacity=\"1\"/><line transform=\"translate(0,109)\" x2=\"200\" y2=\"0\" stroke=\"#ddd\" stroke-width=\"1\" opacity=\"1\"/><line transform=\"translate(0,73)\" x2=\"200\" y2=\"0\" stroke=\"#ddd\" stroke-width=\"1\" opacity=\"1\"/><line transform=\"translate(0,36)\" x2=\"200\" y2=\"0\" stroke=\"#ddd\" stroke-width=\"1\" opacity=\"1\"/><line transform=\"translate(0,0)\" x2=\"200\" y2=\"0\" stroke=\"#ddd\" stroke-width=\"1\" opacity=\"1\"/></g></g><path class=\"foreground\" aria-hidden=\"true\" d=\"\" pointer-events=\"none\" display=\"none\"/></g></g><g class=\"mark-group role-axis\" role=\"graphics-symbol\" aria-roledescription=\"axis\" aria-label=\"X-axis titled 'lost_mean' for a linear scale with values from 0 to 220\"><g transform=\"translate(0.5,200.5)\"><path class=\"background\" aria-hidden=\"true\" d=\"M0,0h0v0h0Z\" pointer-events=\"none\"/><g><g class=\"mark-rule role-axis-tick\" pointer-events=\"none\"><line transform=\"translate(0,0)\" x2=\"0\" y2=\"5\" stroke=\"#888\" stroke-width=\"1\" opacity=\"1\"/><line transform=\"translate(45,0)\" x2=\"0\" y2=\"5\" stroke=\"#888\" stroke-width=\"1\" opacity=\"1\"/><line transform=\"translate(91,0)\" x2=\"0\" y2=\"5\" stroke=\"#888\" stroke-width=\"1\" opacity=\"1\"/><line transform=\"translate(136,0)\" x2=\"0\" y2=\"5\" stroke=\"#888\" stroke-width=\"1\" opacity=\"1\"/><line transform=\"translate(182,0)\" x2=\"0\" y2=\"5\" stroke=\"#888\" stroke-width=\"1\" opacity=\"1\"/></g><g class=\"mark-text role-axis-label\" pointer-events=\"none\"><text text-anchor=\"start\" transform=\"translate(0,15)\" font-family=\"sans-serif\" font-size=\"10px\" fill=\"#000\" opacity=\"1\">0</text><text text-anchor=\"middle\" transform=\"translate(45.45454545454545,15)\" font-family=\"sans-serif\" font-size=\"10px\" fill=\"#000\" opacity=\"1\">50</text><text text-anchor=\"middle\" transform=\"translate(90.9090909090909,15)\" font-family=\"sans-serif\" font-size=\"10px\" fill=\"#000\" opacity=\"1\">100</text><text text-anchor=\"middle\" transform=\"translate(136.36363636363635,15)\" font-family=\"sans-serif\" font-size=\"10px\" fill=\"#000\" opacity=\"1\">150</text><text text-anchor=\"middle\" transform=\"translate(181.8181818181818,15)\" font-family=\"sans-serif\" font-size=\"10px\" fill=\"#000\" opacity=\"1\">200</text></g><g class=\"mark-rule role-axis-domain\" pointer-events=\"none\"><line transform=\"translate(0,0)\" x2=\"200\" y2=\"0\" stroke=\"#888\" stroke-width=\"1\" opacity=\"1\"/></g><g class=\"mark-text role-axis-title\" pointer-events=\"none\"><text text-anchor=\"middle\" transform=\"translate(100,30)\" font-family=\"sans-serif\" font-size=\"11px\" font-weight=\"bold\" fill=\"#000\" opacity=\"1\">lost_mean</text></g></g><path class=\"foreground\" aria-hidden=\"true\" d=\"\" pointer-events=\"none\" display=\"none\"/></g></g><g class=\"mark-group role-axis\" role=\"graphics-symbol\" aria-roledescription=\"axis\" aria-label=\"Y-axis titled 'profit_mean' for a linear scale with values from −1,500 to 4,000\"><g transform=\"translate(0.5,0.5)\"><path class=\"background\" aria-hidden=\"true\" d=\"M0,0h0v0h0Z\" pointer-events=\"none\"/><g><g class=\"mark-rule role-axis-tick\" pointer-events=\"none\"><line transform=\"translate(0,182)\" x2=\"-5\" y2=\"0\" stroke=\"#888\" stroke-width=\"1\" opacity=\"1\"/><line transform=\"translate(0,145)\" x2=\"-5\" y2=\"0\" stroke=\"#888\" stroke-width=\"1\" opacity=\"1\"/><line transform=\"translate(0,109)\" x2=\"-5\" y2=\"0\" stroke=\"#888\" stroke-width=\"1\" opacity=\"1\"/><line transform=\"translate(0,73)\" x2=\"-5\" y2=\"0\" stroke=\"#888\" stroke-width=\"1\" opacity=\"1\"/><line transform=\"translate(0,36)\" x2=\"-5\" y2=\"0\" stroke=\"#888\" stroke-width=\"1\" opacity=\"1\"/><line transform=\"translate(0,0)\" x2=\"-5\" y2=\"0\" stroke=\"#888\" stroke-width=\"1\" opacity=\"1\"/></g><g class=\"mark-text role-axis-label\" pointer-events=\"none\"><text text-anchor=\"end\" transform=\"translate(-7,184.8181818181818)\" font-family=\"sans-serif\" font-size=\"10px\" fill=\"#000\" opacity=\"1\">−1,000</text><text text-anchor=\"end\" transform=\"translate(-7,148.45454545454547)\" font-family=\"sans-serif\" font-size=\"10px\" fill=\"#000\" opacity=\"1\">0</text><text text-anchor=\"end\" transform=\"translate(-7,112.09090909090908)\" font-family=\"sans-serif\" font-size=\"10px\" fill=\"#000\" opacity=\"1\">1,000</text><text text-anchor=\"end\" transform=\"translate(-7,75.72727272727273)\" font-family=\"sans-serif\" font-size=\"10px\" fill=\"#000\" opacity=\"1\">2,000</text><text text-anchor=\"end\" transform=\"translate(-7,39.36363636363635)\" font-family=\"sans-serif\" font-size=\"10px\" fill=\"#000\" opacity=\"1\">3,000</text><text text-anchor=\"end\" transform=\"translate(-7,3)\" font-family=\"sans-serif\" font-size=\"10px\" fill=\"#000\" opacity=\"1\">4,000</text></g><g class=\"mark-rule role-axis-domain\" pointer-events=\"none\"><line transform=\"translate(0,200)\" x2=\"0\" y2=\"-200\" stroke=\"#888\" stroke-width=\"1\" opacity=\"1\"/></g><g class=\"mark-text role-axis-title\" pointer-events=\"none\"><text text-anchor=\"middle\" transform=\"translate(-44,100) rotate(-90) translate(0,-2)\" font-family=\"sans-serif\" font-size=\"11px\" font-weight=\"bold\" fill=\"#000\" opacity=\"1\">profit_mean</text></g></g><path class=\"foreground\" aria-hidden=\"true\" d=\"\" pointer-events=\"none\" display=\"none\"/></g></g><g class=\"mark-symbol role-mark marks\" role=\"graphics-object\" aria-roledescription=\"symbol mark container\"><path aria-label=\"lost_mean: 216.66; profit_mean: 2971.249; s: 25\" role=\"graphics-symbol\" aria-roledescription=\"point\" transform=\"translate(196.96363636363637,37.409127272727275)\" d=\"M2.7386127875258306,0A2.7386127875258306,2.7386127875258306,0,1,1,-2.7386127875258306,0A2.7386127875258306,2.7386127875258306,0,1,1,2.7386127875258306,0\" stroke=\"rgb(13, 8, 135)\" stroke-width=\"2\" opacity=\"0.7\"/><path aria-label=\"lost_mean: 118.92; profit_mean: 3579.796; s: 25\" role=\"graphics-symbol\" aria-roledescription=\"point\" transform=\"translate(108.10909090909091,15.280145454545435)\" d=\"M2.7386127875258306,0A2.7386127875258306,2.7386127875258306,0,1,1,-2.7386127875258306,0A2.7386127875258306,2.7386127875258306,0,1,1,2.7386127875258306,0\" stroke=\"rgb(13, 8, 135)\" stroke-width=\"2\" opacity=\"0.7\"/><path aria-label=\"lost_mean: 81.2; profit_mean: 3488.405; s: 25\" role=\"graphics-symbol\" aria-roledescription=\"point\" transform=\"translate(73.81818181818181,18.60345454545451)\" d=\"M2.7386127875258306,0A2.7386127875258306,2.7386127875258306,0,1,1,-2.7386127875258306,0A2.7386127875258306,2.7386127875258306,0,1,1,2.7386127875258306,0\" stroke=\"rgb(13, 8, 135)\" stroke-width=\"2\" opacity=\"0.7\"/><path aria-label=\"lost_mean: 60.11; profit_mean: 3081.231; s: 25\" role=\"graphics-symbol\" aria-roledescription=\"point\" transform=\"translate(54.64545454545454,33.40978181818181)\" d=\"M2.7386127875258306,0A2.7386127875258306,2.7386127875258306,0,1,1,-2.7386127875258306,0A2.7386127875258306,2.7386127875258306,0,1,1,2.7386127875258306,0\" stroke=\"rgb(13, 8, 135)\" stroke-width=\"2\" opacity=\"0.7\"/><path aria-label=\"lost_mean: 50.72; profit_mean: 2630.794; s: 25\" role=\"graphics-symbol\" aria-roledescription=\"point\" transform=\"translate(46.10909090909091,49.78930909090911)\" d=\"M2.7386127875258306,0A2.7386127875258306,2.7386127875258306,0,1,1,-2.7386127875258306,0A2.7386127875258306,2.7386127875258306,0,1,1,2.7386127875258306,0\" stroke=\"rgb(13, 8, 135)\" stroke-width=\"2\" opacity=\"0.7\"/><path aria-label=\"lost_mean: 34.57; profit_mean: 2546.72; s: 25\" role=\"graphics-symbol\" aria-roledescription=\"point\" transform=\"translate(31.427272727272726,52.846545454545456)\" d=\"M2.7386127875258306,0A2.7386127875258306,2.7386127875258306,0,1,1,-2.7386127875258306,0A2.7386127875258306,2.7386127875258306,0,1,1,2.7386127875258306,0\" stroke=\"rgb(13, 8, 135)\" stroke-width=\"2\" opacity=\"0.7\"/><path aria-label=\"lost_mean: 33.52; profit_mean: 1683.641; s: 25\" role=\"graphics-symbol\" aria-roledescription=\"point\" transform=\"translate(30.472727272727273,84.23123636363637)\" d=\"M2.7386127875258306,0A2.7386127875258306,2.7386127875258306,0,1,1,-2.7386127875258306,0A2.7386127875258306,2.7386127875258306,0,1,1,2.7386127875258306,0\" stroke=\"rgb(13, 8, 135)\" stroke-width=\"2\" opacity=\"0.7\"/><path aria-label=\"lost_mean: 32.05; profit_mean: 1200.973; s: 25\" role=\"graphics-symbol\" aria-roledescription=\"point\" transform=\"translate(29.136363636363633,101.78280000000002)\" d=\"M2.7386127875258306,0A2.7386127875258306,2.7386127875258306,0,1,1,-2.7386127875258306,0A2.7386127875258306,2.7386127875258306,0,1,1,2.7386127875258306,0\" stroke=\"rgb(13, 8, 135)\" stroke-width=\"2\" opacity=\"0.7\"/><path aria-label=\"lost_mean: 30.45; profit_mean: 1367.398; s: 25\" role=\"graphics-symbol\" aria-roledescription=\"point\" transform=\"translate(27.68181818181818,95.7309818181818)\" d=\"M2.7386127875258306,0A2.7386127875258306,2.7386127875258306,0,1,1,-2.7386127875258306,0A2.7386127875258306,2.7386127875258306,0,1,1,2.7386127875258306,0\" stroke=\"rgb(13, 8, 135)\" stroke-width=\"2\" opacity=\"0.7\"/><path aria-label=\"lost_mean: 24.22; profit_mean: 419.791; s: 25\" role=\"graphics-symbol\" aria-roledescription=\"point\" transform=\"translate(22.018181818181816,130.18941818181818)\" d=\"M2.7386127875258306,0A2.7386127875258306,2.7386127875258306,0,1,1,-2.7386127875258306,0A2.7386127875258306,2.7386127875258306,0,1,1,2.7386127875258306,0\" stroke=\"rgb(13, 8, 135)\" stroke-width=\"2\" opacity=\"0.7\"/><path aria-label=\"lost_mean: 118.74; profit_mean: 2661.404; s: 50\" role=\"graphics-symbol\" aria-roledescription=\"point\" transform=\"translate(107.94545454545454,48.6762181818182)\" d=\"M2.7386127875258306,0A2.7386127875258306,2.7386127875258306,0,1,1,-2.7386127875258306,0A2.7386127875258306,2.7386127875258306,0,1,1,2.7386127875258306,0\" stroke=\"rgb(71, 3, 159)\" stroke-width=\"2\" opacity=\"0.7\"/><path aria-label=\"lost_mean: 49.21; profit_mean: 3534.315; s: 50\" role=\"graphics-symbol\" aria-roledescription=\"point\" transform=\"translate(44.736363636363635,16.933999999999983)\" d=\"M2.7386127875258306,0A2.7386127875258306,2.7386127875258306,0,1,1,-2.7386127875258306,0A2.7386127875258306,2.7386127875258306,0,1,1,2.7386127875258306,0\" stroke=\"rgb(71, 3, 159)\" stroke-width=\"2\" opacity=\"0.7\"/><path aria-label=\"lost_mean: 44.28; profit_mean: 3394.556; s: 50\" role=\"graphics-symbol\" aria-roledescription=\"point\" transform=\"translate(40.25454545454545,22.016145454545445)\" d=\"M2.7386127875258306,0A2.7386127875258306,2.7386127875258306,0,1,1,-2.7386127875258306,0A2.7386127875258306,2.7386127875258306,0,1,1,2.7386127875258306,0\" stroke=\"rgb(71, 3, 159)\" stroke-width=\"2\" opacity=\"0.7\"/><path aria-label=\"lost_mean: 37.86; profit_mean: 3061.301; s: 50\" role=\"graphics-symbol\" aria-roledescription=\"point\" transform=\"translate(34.41818181818182,34.13450909090911)\" d=\"M2.7386127875258306,0A2.7386127875258306,2.7386127875258306,0,1,1,-2.7386127875258306,0A2.7386127875258306,2.7386127875258306,0,1,1,2.7386127875258306,0\" stroke=\"rgb(71, 3, 159)\" stroke-width=\"2\" opacity=\"0.7\"/><path aria-label=\"lost_mean: 21.04; profit_mean: 2721.589; s: 50\" role=\"graphics-symbol\" aria-roledescription=\"point\" transform=\"translate(19.127272727272725,46.487672727272724)\" d=\"M2.7386127875258306,0A2.7386127875258306,2.7386127875258306,0,1,1,-2.7386127875258306,0A2.7386127875258306,2.7386127875258306,0,1,1,2.7386127875258306,0\" stroke=\"rgb(71, 3, 159)\" stroke-width=\"2\" opacity=\"0.7\"/><path aria-label=\"lost_mean: 16.11; profit_mean: 2407.249; s: 50\" role=\"graphics-symbol\" aria-roledescription=\"point\" transform=\"translate(14.645454545454545,57.91821818181817)\" d=\"M2.7386127875258306,0A2.7386127875258306,2.7386127875258306,0,1,1,-2.7386127875258306,0A2.7386127875258306,2.7386127875258306,0,1,1,2.7386127875258306,0\" stroke=\"rgb(71, 3, 159)\" stroke-width=\"2\" opacity=\"0.7\"/><path aria-label=\"lost_mean: 20.11; profit_mean: 1642.604; s: 50\" role=\"graphics-symbol\" aria-roledescription=\"point\" transform=\"translate(18.28181818181818,85.72349090909093)\" d=\"M2.7386127875258306,0A2.7386127875258306,2.7386127875258306,0,1,1,-2.7386127875258306,0A2.7386127875258306,2.7386127875258306,0,1,1,2.7386127875258306,0\" stroke=\"rgb(71, 3, 159)\" stroke-width=\"2\" opacity=\"0.7\"/><path aria-label=\"lost_mean: 18.19; profit_mean: 1014.095; s: 50\" role=\"graphics-symbol\" aria-roledescription=\"point\" transform=\"translate(16.53636363636364,108.57836363636363)\" d=\"M2.7386127875258306,0A2.7386127875258306,2.7386127875258306,0,1,1,-2.7386127875258306,0A2.7386127875258306,2.7386127875258306,0,1,1,2.7386127875258306,0\" stroke=\"rgb(71, 3, 159)\" stroke-width=\"2\" opacity=\"0.7\"/><path aria-label=\"lost_mean: 13.63; profit_mean: 1231.521; s: 50\" role=\"graphics-symbol\" aria-roledescription=\"point\" transform=\"translate(12.39090909090909,100.67196363636364)\" d=\"M2.7386127875258306,0A2.7386127875258306,2.7386127875258306,0,1,1,-2.7386127875258306,0A2.7386127875258306,2.7386127875258306,0,1,1,2.7386127875258306,0\" stroke=\"rgb(71, 3, 159)\" stroke-width=\"2\" opacity=\"0.7\"/><path aria-label=\"lost_mean: 9.96; profit_mean: 435.771; s: 50\" role=\"graphics-symbol\" aria-roledescription=\"point\" transform=\"translate(9.054545454545455,129.60832727272728)\" d=\"M2.7386127875258306,0A2.7386127875258306,2.7386127875258306,0,1,1,-2.7386127875258306,0A2.7386127875258306,2.7386127875258306,0,1,1,2.7386127875258306,0\" stroke=\"rgb(71, 3, 159)\" stroke-width=\"2\" opacity=\"0.7\"/><path aria-label=\"lost_mean: 74.03; profit_mean: 1855.157; s: 75\" role=\"graphics-symbol\" aria-roledescription=\"point\" transform=\"translate(67.30000000000001,77.9942909090909)\" d=\"M2.7386127875258306,0A2.7386127875258306,2.7386127875258306,0,1,1,-2.7386127875258306,0A2.7386127875258306,2.7386127875258306,0,1,1,2.7386127875258306,0\" stroke=\"rgb(115, 1, 168)\" stroke-width=\"2\" opacity=\"0.7\"/><path aria-label=\"lost_mean: 24.44; profit_mean: 3346.444; s: 75\" role=\"graphics-symbol\" aria-roledescription=\"point\" transform=\"translate(22.21818181818182,23.7656727272727)\" d=\"M2.7386127875258306,0A2.7386127875258306,2.7386127875258306,0,1,1,-2.7386127875258306,0A2.7386127875258306,2.7386127875258306,0,1,1,2.7386127875258306,0\" stroke=\"rgb(115, 1, 168)\" stroke-width=\"2\" opacity=\"0.7\"/><path aria-label=\"lost_mean: 14.97; profit_mean: 3300.202; s: 75\" role=\"graphics-symbol\" aria-roledescription=\"point\" transform=\"translate(13.60909090909091,25.44719999999996)\" d=\"M2.7386127875258306,0A2.7386127875258306,2.7386127875258306,0,1,1,-2.7386127875258306,0A2.7386127875258306,2.7386127875258306,0,1,1,2.7386127875258306,0\" stroke=\"rgb(115, 1, 168)\" stroke-width=\"2\" opacity=\"0.7\"/><path aria-label=\"lost_mean: 6.17; profit_mean: 3035.648; s: 75\" role=\"graphics-symbol\" aria-roledescription=\"point\" transform=\"translate(5.6090909090909085,35.06734545454548)\" d=\"M2.7386127875258306,0A2.7386127875258306,2.7386127875258306,0,1,1,-2.7386127875258306,0A2.7386127875258306,2.7386127875258306,0,1,1,2.7386127875258306,0\" stroke=\"rgb(115, 1, 168)\" stroke-width=\"2\" opacity=\"0.7\"/><path aria-label=\"lost_mean: 7.34; profit_mean: 2687.468; s: 75\" role=\"graphics-symbol\" aria-roledescription=\"point\" transform=\"translate(6.672727272727273,47.72843636363633)\" d=\"M2.7386127875258306,0A2.7386127875258306,2.7386127875258306,0,1,1,-2.7386127875258306,0A2.7386127875258306,2.7386127875258306,0,1,1,2.7386127875258306,0\" stroke=\"rgb(115, 1, 168)\" stroke-width=\"2\" opacity=\"0.7\"/><path aria-label=\"lost_mean: 9.68; profit_mean: 2028.084; s: 75\" role=\"graphics-symbol\" aria-roledescription=\"point\" transform=\"translate(8.799999999999999,71.70603636363634)\" d=\"M2.7386127875258306,0A2.7386127875258306,2.7386127875258306,0,1,1,-2.7386127875258306,0A2.7386127875258306,2.7386127875258306,0,1,1,2.7386127875258306,0\" stroke=\"rgb(115, 1, 168)\" stroke-width=\"2\" opacity=\"0.7\"/><path aria-label=\"lost_mean: 7.85; profit_mean: 1678.705; s: 75\" role=\"graphics-symbol\" aria-roledescription=\"point\" transform=\"translate(7.136363636363637,84.41072727272727)\" d=\"M2.7386127875258306,0A2.7386127875258306,2.7386127875258306,0,1,1,-2.7386127875258306,0A2.7386127875258306,2.7386127875258306,0,1,1,2.7386127875258306,0\" stroke=\"rgb(115, 1, 168)\" stroke-width=\"2\" opacity=\"0.7\"/><path aria-label=\"lost_mean: 11.43; profit_mean: 914.724; s: 75\" role=\"graphics-symbol\" aria-roledescription=\"point\" transform=\"translate(10.39090909090909,112.19185454545455)\" d=\"M2.7386127875258306,0A2.7386127875258306,2.7386127875258306,0,1,1,-2.7386127875258306,0A2.7386127875258306,2.7386127875258306,0,1,1,2.7386127875258306,0\" stroke=\"rgb(115, 1, 168)\" stroke-width=\"2\" opacity=\"0.7\"/><path aria-label=\"lost_mean: 4.52; profit_mean: 682.48; s: 75\" role=\"graphics-symbol\" aria-roledescription=\"point\" transform=\"translate(4.1090909090909085,120.63709090909094)\" d=\"M2.7386127875258306,0A2.7386127875258306,2.7386127875258306,0,1,1,-2.7386127875258306,0A2.7386127875258306,2.7386127875258306,0,1,1,2.7386127875258306,0\" stroke=\"rgb(115, 1, 168)\" stroke-width=\"2\" opacity=\"0.7\"/><path aria-label=\"lost_mean: 3.27; profit_mean: 439.681; s: 75\" role=\"graphics-symbol\" aria-roledescription=\"point\" transform=\"translate(2.9727272727272727,129.46614545454545)\" d=\"M2.7386127875258306,0A2.7386127875258306,2.7386127875258306,0,1,1,-2.7386127875258306,0A2.7386127875258306,2.7386127875258306,0,1,1,2.7386127875258306,0\" stroke=\"rgb(115, 1, 168)\" stroke-width=\"2\" opacity=\"0.7\"/><path aria-label=\"lost_mean: 20.08; profit_mean: 3020.23; s: 100\" role=\"graphics-symbol\" aria-roledescription=\"point\" transform=\"translate(18.254545454545454,35.628000000000014)\" d=\"M2.7386127875258306,0A2.7386127875258306,2.7386127875258306,0,1,1,-2.7386127875258306,0A2.7386127875258306,2.7386127875258306,0,1,1,2.7386127875258306,0\" stroke=\"rgb(156, 23, 158)\" stroke-width=\"2\" opacity=\"0.7\"/><path aria-label=\"lost_mean: 5.76; profit_mean: 3120.251; s: 100\" role=\"graphics-symbol\" aria-roledescription=\"point\" transform=\"translate(5.236363636363636,31.990872727272723)\" d=\"M2.7386127875258306,0A2.7386127875258306,2.7386127875258306,0,1,1,-2.7386127875258306,0A2.7386127875258306,2.7386127875258306,0,1,1,2.7386127875258306,0\" stroke=\"rgb(156, 23, 158)\" stroke-width=\"2\" opacity=\"0.7\"/><path aria-label=\"lost_mean: 6.26; profit_mean: 2795.237; s: 100\" role=\"graphics-symbol\" aria-roledescription=\"point\" transform=\"translate(5.690909090909091,43.809563636363656)\" d=\"M2.7386127875258306,0A2.7386127875258306,2.7386127875258306,0,1,1,-2.7386127875258306,0A2.7386127875258306,2.7386127875258306,0,1,1,2.7386127875258306,0\" stroke=\"rgb(156, 23, 158)\" stroke-width=\"2\" opacity=\"0.7\"/><path aria-label=\"lost_mean: 5.26; profit_mean: 2386.138; s: 100\" role=\"graphics-symbol\" aria-roledescription=\"point\" transform=\"translate(4.781818181818181,58.68589090909091)\" d=\"M2.7386127875258306,0A2.7386127875258306,2.7386127875258306,0,1,1,-2.7386127875258306,0A2.7386127875258306,2.7386127875258306,0,1,1,2.7386127875258306,0\" stroke=\"rgb(156, 23, 158)\" stroke-width=\"2\" opacity=\"0.7\"/><path aria-label=\"lost_mean: 2.97; profit_mean: 1828.571; s: 100\" role=\"graphics-symbol\" aria-roledescription=\"point\" transform=\"translate(2.7,78.96105454545454)\" d=\"M2.7386127875258306,0A2.7386127875258306,2.7386127875258306,0,1,1,-2.7386127875258306,0A2.7386127875258306,2.7386127875258306,0,1,1,2.7386127875258306,0\" stroke=\"rgb(156, 23, 158)\" stroke-width=\"2\" opacity=\"0.7\"/><path aria-label=\"lost_mean: 0.49; profit_mean: 1683.693; s: 100\" role=\"graphics-symbol\" aria-roledescription=\"point\" transform=\"translate(0.44545454545454544,84.22934545454545)\" d=\"M2.7386127875258306,0A2.7386127875258306,2.7386127875258306,0,1,1,-2.7386127875258306,0A2.7386127875258306,2.7386127875258306,0,1,1,2.7386127875258306,0\" stroke=\"rgb(156, 23, 158)\" stroke-width=\"2\" opacity=\"0.7\"/><path aria-label=\"lost_mean: 5.79; profit_mean: 814.061; s: 100\" role=\"graphics-symbol\" aria-roledescription=\"point\" transform=\"translate(5.263636363636364,115.8523272727273)\" d=\"M2.7386127875258306,0A2.7386127875258306,2.7386127875258306,0,1,1,-2.7386127875258306,0A2.7386127875258306,2.7386127875258306,0,1,1,2.7386127875258306,0\" stroke=\"rgb(156, 23, 158)\" stroke-width=\"2\" opacity=\"0.7\"/><path aria-label=\"lost_mean: 2.51; profit_mean: 293.37; s: 100\" role=\"graphics-symbol\" aria-roledescription=\"point\" transform=\"translate(2.2818181818181817,134.78654545454546)\" d=\"M2.7386127875258306,0A2.7386127875258306,2.7386127875258306,0,1,1,-2.7386127875258306,0A2.7386127875258306,2.7386127875258306,0,1,1,2.7386127875258306,0\" stroke=\"rgb(156, 23, 158)\" stroke-width=\"2\" opacity=\"0.7\"/><path aria-label=\"lost_mean: 2.53; profit_mean: 428.685; s: 100\" role=\"graphics-symbol\" aria-roledescription=\"point\" transform=\"translate(2.3,129.866)\" d=\"M2.7386127875258306,0A2.7386127875258306,2.7386127875258306,0,1,1,-2.7386127875258306,0A2.7386127875258306,2.7386127875258306,0,1,1,2.7386127875258306,0\" stroke=\"rgb(156, 23, 158)\" stroke-width=\"2\" opacity=\"0.7\"/><path aria-label=\"lost_mean: 9.32; profit_mean: 2615.48; s: 125\" role=\"graphics-symbol\" aria-roledescription=\"point\" transform=\"translate(8.472727272727273,50.346181818181826)\" d=\"M2.7386127875258306,0A2.7386127875258306,2.7386127875258306,0,1,1,-2.7386127875258306,0A2.7386127875258306,2.7386127875258306,0,1,1,2.7386127875258306,0\" stroke=\"rgb(189, 55, 133)\" stroke-width=\"2\" opacity=\"0.7\"/><path aria-label=\"lost_mean: 2.89; profit_mean: 2913.112; s: 125\" role=\"graphics-symbol\" aria-roledescription=\"point\" transform=\"translate(2.6272727272727274,39.5232)\" d=\"M2.7386127875258306,0A2.7386127875258306,2.7386127875258306,0,1,1,-2.7386127875258306,0A2.7386127875258306,2.7386127875258306,0,1,1,2.7386127875258306,0\" stroke=\"rgb(189, 55, 133)\" stroke-width=\"2\" opacity=\"0.7\"/><path aria-label=\"lost_mean: 4.37; profit_mean: 2680.035; s: 125\" role=\"graphics-symbol\" aria-roledescription=\"point\" transform=\"translate(3.972727272727273,47.99872727272725)\" d=\"M2.7386127875258306,0A2.7386127875258306,2.7386127875258306,0,1,1,-2.7386127875258306,0A2.7386127875258306,2.7386127875258306,0,1,1,2.7386127875258306,0\" stroke=\"rgb(189, 55, 133)\" stroke-width=\"2\" opacity=\"0.7\"/><path aria-label=\"lost_mean: 3.27; profit_mean: 2227.969; s: 125\" role=\"graphics-symbol\" aria-roledescription=\"point\" transform=\"translate(2.9727272727272727,64.4374909090909)\" d=\"M2.7386127875258306,0A2.7386127875258306,2.7386127875258306,0,1,1,-2.7386127875258306,0A2.7386127875258306,2.7386127875258306,0,1,1,2.7386127875258306,0\" stroke=\"rgb(189, 55, 133)\" stroke-width=\"2\" opacity=\"0.7\"/><path aria-label=\"lost_mean: 0.92; profit_mean: 1771.845; s: 125\" role=\"graphics-symbol\" aria-roledescription=\"point\" transform=\"translate(0.8363636363636364,81.02381818181816)\" d=\"M2.7386127875258306,0A2.7386127875258306,2.7386127875258306,0,1,1,-2.7386127875258306,0A2.7386127875258306,2.7386127875258306,0,1,1,2.7386127875258306,0\" stroke=\"rgb(189, 55, 133)\" stroke-width=\"2\" opacity=\"0.7\"/><path aria-label=\"lost_mean: 0.75; profit_mean: 1545.762; s: 125\" role=\"graphics-symbol\" aria-roledescription=\"point\" transform=\"translate(0.6818181818181818,89.24501818181818)\" d=\"M2.7386127875258306,0A2.7386127875258306,2.7386127875258306,0,1,1,-2.7386127875258306,0A2.7386127875258306,2.7386127875258306,0,1,1,2.7386127875258306,0\" stroke=\"rgb(189, 55, 133)\" stroke-width=\"2\" opacity=\"0.7\"/><path aria-label=\"lost_mean: 2.17; profit_mean: 722.494; s: 125\" role=\"graphics-symbol\" aria-roledescription=\"point\" transform=\"translate(1.9727272727272724,119.18203636363639)\" d=\"M2.7386127875258306,0A2.7386127875258306,2.7386127875258306,0,1,1,-2.7386127875258306,0A2.7386127875258306,2.7386127875258306,0,1,1,2.7386127875258306,0\" stroke=\"rgb(189, 55, 133)\" stroke-width=\"2\" opacity=\"0.7\"/><path aria-label=\"lost_mean: 1.94; profit_mean: 59.79; s: 125\" role=\"graphics-symbol\" aria-roledescription=\"point\" transform=\"translate(1.7636363636363637,143.28036363636366)\" d=\"M2.7386127875258306,0A2.7386127875258306,2.7386127875258306,0,1,1,-2.7386127875258306,0A2.7386127875258306,2.7386127875258306,0,1,1,2.7386127875258306,0\" stroke=\"rgb(189, 55, 133)\" stroke-width=\"2\" opacity=\"0.7\"/><path aria-label=\"lost_mean: 1.12; profit_mean: 268.157; s: 125\" role=\"graphics-symbol\" aria-roledescription=\"point\" transform=\"translate(1.0181818181818183,135.7033818181818)\" d=\"M2.7386127875258306,0A2.7386127875258306,2.7386127875258306,0,1,1,-2.7386127875258306,0A2.7386127875258306,2.7386127875258306,0,1,1,2.7386127875258306,0\" stroke=\"rgb(189, 55, 133)\" stroke-width=\"2\" opacity=\"0.7\"/><path aria-label=\"lost_mean: 1.83; profit_mean: 1970.987; s: 150\" role=\"graphics-symbol\" aria-roledescription=\"point\" transform=\"translate(1.6636363636363636,73.7822909090909)\" d=\"M2.7386127875258306,0A2.7386127875258306,2.7386127875258306,0,1,1,-2.7386127875258306,0A2.7386127875258306,2.7386127875258306,0,1,1,2.7386127875258306,0\" stroke=\"rgb(216, 87, 108)\" stroke-width=\"2\" opacity=\"0.7\"/><path aria-label=\"lost_mean: 2.02; profit_mean: 2671.952; s: 150\" role=\"graphics-symbol\" aria-roledescription=\"point\" transform=\"translate(1.8363636363636364,48.292654545454525)\" d=\"M2.7386127875258306,0A2.7386127875258306,2.7386127875258306,0,1,1,-2.7386127875258306,0A2.7386127875258306,2.7386127875258306,0,1,1,2.7386127875258306,0\" stroke=\"rgb(216, 87, 108)\" stroke-width=\"2\" opacity=\"0.7\"/><path aria-label=\"lost_mean: 1.22; profit_mean: 2497.744; s: 150\" role=\"graphics-symbol\" aria-roledescription=\"point\" transform=\"translate(1.1090909090909091,54.627490909090916)\" d=\"M2.7386127875258306,0A2.7386127875258306,2.7386127875258306,0,1,1,-2.7386127875258306,0A2.7386127875258306,2.7386127875258306,0,1,1,2.7386127875258306,0\" stroke=\"rgb(216, 87, 108)\" stroke-width=\"2\" opacity=\"0.7\"/><path aria-label=\"lost_mean: 0.56; profit_mean: 2149.314; s: 150\" role=\"graphics-symbol\" aria-roledescription=\"point\" transform=\"translate(0.5090909090909091,67.29767272727274)\" d=\"M2.7386127875258306,0A2.7386127875258306,2.7386127875258306,0,1,1,-2.7386127875258306,0A2.7386127875258306,2.7386127875258306,0,1,1,2.7386127875258306,0\" stroke=\"rgb(216, 87, 108)\" stroke-width=\"2\" opacity=\"0.7\"/><path aria-label=\"lost_mean: 1.99; profit_mean: 1814.606; s: 150\" role=\"graphics-symbol\" aria-roledescription=\"point\" transform=\"translate(1.809090909090909,79.46887272727274)\" d=\"M2.7386127875258306,0A2.7386127875258306,2.7386127875258306,0,1,1,-2.7386127875258306,0A2.7386127875258306,2.7386127875258306,0,1,1,2.7386127875258306,0\" stroke=\"rgb(216, 87, 108)\" stroke-width=\"2\" opacity=\"0.7\"/><path aria-label=\"lost_mean: 0.28; profit_mean: 1134.703; s: 150\" role=\"graphics-symbol\" aria-roledescription=\"point\" transform=\"translate(0.2545454545454546,104.1926181818182)\" d=\"M2.7386127875258306,0A2.7386127875258306,2.7386127875258306,0,1,1,-2.7386127875258306,0A2.7386127875258306,2.7386127875258306,0,1,1,2.7386127875258306,0\" stroke=\"rgb(216, 87, 108)\" stroke-width=\"2\" opacity=\"0.7\"/><path aria-label=\"lost_mean: 1.81; profit_mean: 737.257; s: 150\" role=\"graphics-symbol\" aria-roledescription=\"point\" transform=\"translate(1.6454545454545455,118.6452)\" d=\"M2.7386127875258306,0A2.7386127875258306,2.7386127875258306,0,1,1,-2.7386127875258306,0A2.7386127875258306,2.7386127875258306,0,1,1,2.7386127875258306,0\" stroke=\"rgb(216, 87, 108)\" stroke-width=\"2\" opacity=\"0.7\"/><path aria-label=\"lost_mean: 0.44; profit_mean: −37.01; s: 150\" role=\"graphics-symbol\" aria-roledescription=\"point\" transform=\"translate(0.4,146.80036363636364)\" d=\"M2.7386127875258306,0A2.7386127875258306,2.7386127875258306,0,1,1,-2.7386127875258306,0A2.7386127875258306,2.7386127875258306,0,1,1,2.7386127875258306,0\" stroke=\"rgb(216, 87, 108)\" stroke-width=\"2\" opacity=\"0.7\"/><path aria-label=\"lost_mean: 1.6; profit_mean: −236.916; s: 150\" role=\"graphics-symbol\" aria-roledescription=\"point\" transform=\"translate(1.4545454545454546,154.06967272727275)\" d=\"M2.7386127875258306,0A2.7386127875258306,2.7386127875258306,0,1,1,-2.7386127875258306,0A2.7386127875258306,2.7386127875258306,0,1,1,2.7386127875258306,0\" stroke=\"rgb(216, 87, 108)\" stroke-width=\"2\" opacity=\"0.7\"/><path aria-label=\"lost_mean: 3.27; profit_mean: 1034.612; s: 175\" role=\"graphics-symbol\" aria-roledescription=\"point\" transform=\"translate(2.9727272727272727,107.83229090909091)\" d=\"M2.7386127875258306,0A2.7386127875258306,2.7386127875258306,0,1,1,-2.7386127875258306,0A2.7386127875258306,2.7386127875258306,0,1,1,2.7386127875258306,0\" stroke=\"rgb(237, 121, 83)\" stroke-width=\"2\" opacity=\"0.7\"/><path aria-label=\"lost_mean: 0.71; profit_mean: 2395.316; s: 175\" role=\"graphics-symbol\" aria-roledescription=\"point\" transform=\"translate(0.6454545454545454,58.352145454545436)\" d=\"M2.7386127875258306,0A2.7386127875258306,2.7386127875258306,0,1,1,-2.7386127875258306,0A2.7386127875258306,2.7386127875258306,0,1,1,2.7386127875258306,0\" stroke=\"rgb(237, 121, 83)\" stroke-width=\"2\" opacity=\"0.7\"/><path aria-label=\"lost_mean: 1.75; profit_mean: 2297.704; s: 175\" role=\"graphics-symbol\" aria-roledescription=\"point\" transform=\"translate(1.5909090909090908,61.90167272727272)\" d=\"M2.7386127875258306,0A2.7386127875258306,2.7386127875258306,0,1,1,-2.7386127875258306,0A2.7386127875258306,2.7386127875258306,0,1,1,2.7386127875258306,0\" stroke=\"rgb(237, 121, 83)\" stroke-width=\"2\" opacity=\"0.7\"/><path aria-label=\"lost_mean: 0.36; profit_mean: 1958.382; s: 175\" role=\"graphics-symbol\" aria-roledescription=\"point\" transform=\"translate(0.32727272727272727,74.24065454545455)\" d=\"M2.7386127875258306,0A2.7386127875258306,2.7386127875258306,0,1,1,-2.7386127875258306,0A2.7386127875258306,2.7386127875258306,0,1,1,2.7386127875258306,0\" stroke=\"rgb(237, 121, 83)\" stroke-width=\"2\" opacity=\"0.7\"/><path aria-label=\"lost_mean: 0.67; profit_mean: 1649.59; s: 175\" role=\"graphics-symbol\" aria-roledescription=\"point\" transform=\"translate(0.6090909090909091,85.46945454545455)\" d=\"M2.7386127875258306,0A2.7386127875258306,2.7386127875258306,0,1,1,-2.7386127875258306,0A2.7386127875258306,2.7386127875258306,0,1,1,2.7386127875258306,0\" stroke=\"rgb(237, 121, 83)\" stroke-width=\"2\" opacity=\"0.7\"/><path aria-label=\"lost_mean: 0.02; profit_mean: 917.809; s: 175\" role=\"graphics-symbol\" aria-roledescription=\"point\" transform=\"translate(0.018181818181818184,112.07967272727272)\" d=\"M2.7386127875258306,0A2.7386127875258306,2.7386127875258306,0,1,1,-2.7386127875258306,0A2.7386127875258306,2.7386127875258306,0,1,1,2.7386127875258306,0\" stroke=\"rgb(237, 121, 83)\" stroke-width=\"2\" opacity=\"0.7\"/><path aria-label=\"lost_mean: 1.83; profit_mean: 725.958; s: 175\" role=\"graphics-symbol\" aria-roledescription=\"point\" transform=\"translate(1.6636363636363636,119.05607272727275)\" d=\"M2.7386127875258306,0A2.7386127875258306,2.7386127875258306,0,1,1,-2.7386127875258306,0A2.7386127875258306,2.7386127875258306,0,1,1,2.7386127875258306,0\" stroke=\"rgb(237, 121, 83)\" stroke-width=\"2\" opacity=\"0.7\"/><path aria-label=\"lost_mean: 1.06; profit_mean: −147.615; s: 175\" role=\"graphics-symbol\" aria-roledescription=\"point\" transform=\"translate(0.9636363636363637,150.82236363636366)\" d=\"M2.7386127875258306,0A2.7386127875258306,2.7386127875258306,0,1,1,-2.7386127875258306,0A2.7386127875258306,2.7386127875258306,0,1,1,2.7386127875258306,0\" stroke=\"rgb(237, 121, 83)\" stroke-width=\"2\" opacity=\"0.7\"/><path aria-label=\"lost_mean: 1.49; profit_mean: −507.847; s: 175\" role=\"graphics-symbol\" aria-roledescription=\"point\" transform=\"translate(1.3545454545454545,163.92170909090908)\" d=\"M2.7386127875258306,0A2.7386127875258306,2.7386127875258306,0,1,1,-2.7386127875258306,0A2.7386127875258306,2.7386127875258306,0,1,1,2.7386127875258306,0\" stroke=\"rgb(237, 121, 83)\" stroke-width=\"2\" opacity=\"0.7\"/><path aria-label=\"lost_mean: 0.68; profit_mean: 2051.976; s: 200\" role=\"graphics-symbol\" aria-roledescription=\"point\" transform=\"translate(0.6181818181818183,70.83723636363636)\" d=\"M2.7386127875258306,0A2.7386127875258306,2.7386127875258306,0,1,1,-2.7386127875258306,0A2.7386127875258306,2.7386127875258306,0,1,1,2.7386127875258306,0\" stroke=\"rgb(251, 158, 59)\" stroke-width=\"2\" opacity=\"0.7\"/><path aria-label=\"lost_mean: 0.82; profit_mean: 2142.908; s: 200\" role=\"graphics-symbol\" aria-roledescription=\"point\" transform=\"translate(0.7454545454545454,67.5306181818182)\" d=\"M2.7386127875258306,0A2.7386127875258306,2.7386127875258306,0,1,1,-2.7386127875258306,0A2.7386127875258306,2.7386127875258306,0,1,1,2.7386127875258306,0\" stroke=\"rgb(251, 158, 59)\" stroke-width=\"2\" opacity=\"0.7\"/><path aria-label=\"lost_mean: 0.79; profit_mean: 1773.413; s: 200\" role=\"graphics-symbol\" aria-roledescription=\"point\" transform=\"translate(0.7181818181818183,80.9668)\" d=\"M2.7386127875258306,0A2.7386127875258306,2.7386127875258306,0,1,1,-2.7386127875258306,0A2.7386127875258306,2.7386127875258306,0,1,1,2.7386127875258306,0\" stroke=\"rgb(251, 158, 59)\" stroke-width=\"2\" opacity=\"0.7\"/><path aria-label=\"lost_mean: 1.25; profit_mean: 1365.214; s: 200\" role=\"graphics-symbol\" aria-roledescription=\"point\" transform=\"translate(1.1363636363636365,95.8104)\" d=\"M2.7386127875258306,0A2.7386127875258306,2.7386127875258306,0,1,1,-2.7386127875258306,0A2.7386127875258306,2.7386127875258306,0,1,1,2.7386127875258306,0\" stroke=\"rgb(251, 158, 59)\" stroke-width=\"2\" opacity=\"0.7\"/><path aria-label=\"lost_mean: 0.72; profit_mean: 807.732; s: 200\" role=\"graphics-symbol\" aria-roledescription=\"point\" transform=\"translate(0.6545454545454545,116.08247272727272)\" d=\"M2.7386127875258306,0A2.7386127875258306,2.7386127875258306,0,1,1,-2.7386127875258306,0A2.7386127875258306,2.7386127875258306,0,1,1,2.7386127875258306,0\" stroke=\"rgb(251, 158, 59)\" stroke-width=\"2\" opacity=\"0.7\"/><path aria-label=\"lost_mean: 0.33; profit_mean: 690.907; s: 200\" role=\"graphics-symbol\" aria-roledescription=\"point\" transform=\"translate(0.3,120.33065454545455)\" d=\"M2.7386127875258306,0A2.7386127875258306,2.7386127875258306,0,1,1,-2.7386127875258306,0A2.7386127875258306,2.7386127875258306,0,1,1,2.7386127875258306,0\" stroke=\"rgb(251, 158, 59)\" stroke-width=\"2\" opacity=\"0.7\"/><path aria-label=\"lost_mean: 0.38; profit_mean: −141.55; s: 200\" role=\"graphics-symbol\" aria-roledescription=\"point\" transform=\"translate(0.34545454545454546,150.6018181818182)\" d=\"M2.7386127875258306,0A2.7386127875258306,2.7386127875258306,0,1,1,-2.7386127875258306,0A2.7386127875258306,2.7386127875258306,0,1,1,2.7386127875258306,0\" stroke=\"rgb(251, 158, 59)\" stroke-width=\"2\" opacity=\"0.7\"/><path aria-label=\"lost_mean: 0.52; profit_mean: −772.374; s: 200\" role=\"graphics-symbol\" aria-roledescription=\"point\" transform=\"translate(0.4727272727272728,173.54087272727276)\" d=\"M2.7386127875258306,0A2.7386127875258306,2.7386127875258306,0,1,1,-2.7386127875258306,0A2.7386127875258306,2.7386127875258306,0,1,1,2.7386127875258306,0\" stroke=\"rgb(251, 158, 59)\" stroke-width=\"2\" opacity=\"0.7\"/><path aria-label=\"lost_mean: 1.5; profit_mean: 1663.152; s: 225\" role=\"graphics-symbol\" aria-roledescription=\"point\" transform=\"translate(1.3636363636363635,84.9762909090909)\" d=\"M2.7386127875258306,0A2.7386127875258306,2.7386127875258306,0,1,1,-2.7386127875258306,0A2.7386127875258306,2.7386127875258306,0,1,1,2.7386127875258306,0\" stroke=\"rgb(253, 201, 38)\" stroke-width=\"2\" opacity=\"0.7\"/><path aria-label=\"lost_mean: 0.7; profit_mean: 1930.973; s: 225\" role=\"graphics-symbol\" aria-roledescription=\"point\" transform=\"translate(0.6363636363636362,75.23734545454546)\" d=\"M2.7386127875258306,0A2.7386127875258306,2.7386127875258306,0,1,1,-2.7386127875258306,0A2.7386127875258306,2.7386127875258306,0,1,1,2.7386127875258306,0\" stroke=\"rgb(253, 201, 38)\" stroke-width=\"2\" opacity=\"0.7\"/><path aria-label=\"lost_mean: 1.65; profit_mean: 1677.326; s: 225\" role=\"graphics-symbol\" aria-roledescription=\"point\" transform=\"translate(1.5,84.46087272727272)\" d=\"M2.7386127875258306,0A2.7386127875258306,2.7386127875258306,0,1,1,-2.7386127875258306,0A2.7386127875258306,2.7386127875258306,0,1,1,2.7386127875258306,0\" stroke=\"rgb(253, 201, 38)\" stroke-width=\"2\" opacity=\"0.7\"/><path aria-label=\"lost_mean: 2.13; profit_mean: 1233.007; s: 225\" role=\"graphics-symbol\" aria-roledescription=\"point\" transform=\"translate(1.9363636363636365,100.61792727272729)\" d=\"M2.7386127875258306,0A2.7386127875258306,2.7386127875258306,0,1,1,-2.7386127875258306,0A2.7386127875258306,2.7386127875258306,0,1,1,2.7386127875258306,0\" stroke=\"rgb(253, 201, 38)\" stroke-width=\"2\" opacity=\"0.7\"/><path aria-label=\"lost_mean: 0.93; profit_mean: 808.23; s: 225\" role=\"graphics-symbol\" aria-roledescription=\"point\" transform=\"translate(0.8454545454545455,116.06436363636364)\" d=\"M2.7386127875258306,0A2.7386127875258306,2.7386127875258306,0,1,1,-2.7386127875258306,0A2.7386127875258306,2.7386127875258306,0,1,1,2.7386127875258306,0\" stroke=\"rgb(253, 201, 38)\" stroke-width=\"2\" opacity=\"0.7\"/><path aria-label=\"lost_mean: 0.1; profit_mean: 534.7; s: 225\" role=\"graphics-symbol\" aria-roledescription=\"point\" transform=\"translate(0.09090909090909091,126.01090909090908)\" d=\"M2.7386127875258306,0A2.7386127875258306,2.7386127875258306,0,1,1,-2.7386127875258306,0A2.7386127875258306,2.7386127875258306,0,1,1,2.7386127875258306,0\" stroke=\"rgb(253, 201, 38)\" stroke-width=\"2\" opacity=\"0.7\"/><path aria-label=\"lost_mean: 0.48; profit_mean: −243.113; s: 225\" role=\"graphics-symbol\" aria-roledescription=\"point\" transform=\"translate(0.4363636363636364,154.2950181818182)\" d=\"M2.7386127875258306,0A2.7386127875258306,2.7386127875258306,0,1,1,-2.7386127875258306,0A2.7386127875258306,2.7386127875258306,0,1,1,2.7386127875258306,0\" stroke=\"rgb(253, 201, 38)\" stroke-width=\"2\" opacity=\"0.7\"/><path aria-label=\"lost_mean: 1.32; profit_mean: −954.18; s: 225\" role=\"graphics-symbol\" aria-roledescription=\"point\" transform=\"translate(1.2,180.152)\" d=\"M2.7386127875258306,0A2.7386127875258306,2.7386127875258306,0,1,1,-2.7386127875258306,0A2.7386127875258306,2.7386127875258306,0,1,1,2.7386127875258306,0\" stroke=\"rgb(253, 201, 38)\" stroke-width=\"2\" opacity=\"0.7\"/><path aria-label=\"lost_mean: 0.4; profit_mean: 1026.938; s: 250\" role=\"graphics-symbol\" aria-roledescription=\"point\" transform=\"translate(0.36363636363636365,108.11134545454544)\" d=\"M2.7386127875258306,0A2.7386127875258306,2.7386127875258306,0,1,1,-2.7386127875258306,0A2.7386127875258306,2.7386127875258306,0,1,1,2.7386127875258306,0\" stroke=\"rgb(240, 249, 33)\" stroke-width=\"2\" opacity=\"0.7\"/><path aria-label=\"lost_mean: 0.1; profit_mean: 1651.143; s: 250\" role=\"graphics-symbol\" aria-roledescription=\"point\" transform=\"translate(0.09090909090909091,85.41298181818182)\" d=\"M2.7386127875258306,0A2.7386127875258306,2.7386127875258306,0,1,1,-2.7386127875258306,0A2.7386127875258306,2.7386127875258306,0,1,1,2.7386127875258306,0\" stroke=\"rgb(240, 249, 33)\" stroke-width=\"2\" opacity=\"0.7\"/><path aria-label=\"lost_mean: 0.21; profit_mean: 1488.851; s: 250\" role=\"graphics-symbol\" aria-roledescription=\"point\" transform=\"translate(0.19090909090909092,91.3145090909091)\" d=\"M2.7386127875258306,0A2.7386127875258306,2.7386127875258306,0,1,1,-2.7386127875258306,0A2.7386127875258306,2.7386127875258306,0,1,1,2.7386127875258306,0\" stroke=\"rgb(240, 249, 33)\" stroke-width=\"2\" opacity=\"0.7\"/><path aria-label=\"lost_mean: 2.18; profit_mean: 1213.382; s: 250\" role=\"graphics-symbol\" aria-roledescription=\"point\" transform=\"translate(1.981818181818182,101.33156363636364)\" d=\"M2.7386127875258306,0A2.7386127875258306,2.7386127875258306,0,1,1,-2.7386127875258306,0A2.7386127875258306,2.7386127875258306,0,1,1,2.7386127875258306,0\" stroke=\"rgb(240, 249, 33)\" stroke-width=\"2\" opacity=\"0.7\"/><path aria-label=\"lost_mean: 1.76; profit_mean: 799.033; s: 250\" role=\"graphics-symbol\" aria-roledescription=\"point\" transform=\"translate(1.6,116.39880000000001)\" d=\"M2.7386127875258306,0A2.7386127875258306,2.7386127875258306,0,1,1,-2.7386127875258306,0A2.7386127875258306,2.7386127875258306,0,1,1,2.7386127875258306,0\" stroke=\"rgb(240, 249, 33)\" stroke-width=\"2\" opacity=\"0.7\"/><path aria-label=\"lost_mean: 0.03; profit_mean: 168.525; s: 250\" role=\"graphics-symbol\" aria-roledescription=\"point\" transform=\"translate(0.027272727272727275,139.32636363636362)\" d=\"M2.7386127875258306,0A2.7386127875258306,2.7386127875258306,0,1,1,-2.7386127875258306,0A2.7386127875258306,2.7386127875258306,0,1,1,2.7386127875258306,0\" stroke=\"rgb(240, 249, 33)\" stroke-width=\"2\" opacity=\"0.7\"/><path aria-label=\"lost_mean: 0.96; profit_mean: −275.165; s: 250\" role=\"graphics-symbol\" aria-roledescription=\"point\" transform=\"translate(0.8727272727272728,155.46054545454547)\" d=\"M2.7386127875258306,0A2.7386127875258306,2.7386127875258306,0,1,1,-2.7386127875258306,0A2.7386127875258306,2.7386127875258306,0,1,1,2.7386127875258306,0\" stroke=\"rgb(240, 249, 33)\" stroke-width=\"2\" opacity=\"0.7\"/><path aria-label=\"lost_mean: 0; profit_mean: −1019.128; s: 250\" role=\"graphics-symbol\" aria-roledescription=\"point\" transform=\"translate(0,182.51374545454547)\" d=\"M2.7386127875258306,0A2.7386127875258306,2.7386127875258306,0,1,1,-2.7386127875258306,0A2.7386127875258306,2.7386127875258306,0,1,1,2.7386127875258306,0\" stroke=\"rgb(240, 249, 33)\" stroke-width=\"2\" opacity=\"0.7\"/></g><g class=\"mark-group role-legend\" role=\"graphics-symbol\" aria-roledescription=\"legend\" aria-label=\"Gradient legend titled 's' for stroke color with values from 25 to 250\"><g transform=\"translate(218,0)\"><path class=\"background\" aria-hidden=\"true\" d=\"M0,0h36v216h-36Z\" pointer-events=\"none\"/><g><g class=\"mark-group role-legend-entry\"><g transform=\"translate(0,16)\"><path class=\"background\" aria-hidden=\"true\" d=\"M0,0h0v0h0Z\" pointer-events=\"none\"/><g><g class=\"mark-rect role-legend-gradient\" pointer-events=\"none\"><path d=\"M0,0h16v200h-16Z\" fill=\"url(#gradient_0)\" stroke=\"#ddd\" stroke-width=\"0\" opacity=\"0.7\"/></g><g class=\"mark-text role-legend-label\" pointer-events=\"none\"><text text-anchor=\"start\" transform=\"translate(18,180.77777777777777)\" font-family=\"sans-serif\" font-size=\"10px\" fill=\"#000\" opacity=\"1\">50</text><text text-anchor=\"start\" transform=\"translate(18,136.33333333333334)\" font-family=\"sans-serif\" font-size=\"10px\" fill=\"#000\" opacity=\"1\">100</text><text text-anchor=\"start\" transform=\"translate(18,91.88888888888889)\" font-family=\"sans-serif\" font-size=\"10px\" fill=\"#000\" opacity=\"1\">150</text><text text-anchor=\"start\" transform=\"translate(18,47.44444444444444)\" font-family=\"sans-serif\" font-size=\"10px\" fill=\"#000\" opacity=\"1\">200</text><text text-anchor=\"start\" transform=\"translate(18,8)\" font-family=\"sans-serif\" font-size=\"10px\" fill=\"#000\" opacity=\"1\">250</text></g></g><path class=\"foreground\" aria-hidden=\"true\" d=\"\" pointer-events=\"none\" display=\"none\"/></g></g><g class=\"mark-text role-legend-title\" pointer-events=\"none\"><text text-anchor=\"start\" transform=\"translate(0,9)\" font-family=\"sans-serif\" font-size=\"11px\" font-weight=\"bold\" fill=\"#000\" opacity=\"1\">s</text></g></g><path class=\"foreground\" aria-hidden=\"true\" d=\"\" pointer-events=\"none\" display=\"none\"/></g></g></g><path class=\"foreground\" aria-hidden=\"true\" d=\"\" display=\"none\"/></g></g></g><defs><linearGradient id=\"gradient_0\" x1=\"0\" x2=\"0\" y1=\"1\" y2=\"0\"><stop offset=\"0\" stop-color=\"rgb(13, 8, 135)\"/><stop offset=\"0.06666666666666667\" stop-color=\"rgb(51, 5, 151)\"/><stop offset=\"0.15555555555555556\" stop-color=\"rgb(89, 1, 165)\"/><stop offset=\"0.24444444444444444\" stop-color=\"rgb(124, 2, 168)\"/><stop offset=\"0.3333333333333333\" stop-color=\"rgb(156, 23, 158)\"/><stop offset=\"0.4222222222222222\" stop-color=\"rgb(183, 49, 139)\"/><stop offset=\"0.5111111111111111\" stop-color=\"rgb(206, 74, 118)\"/><stop offset=\"0.6\" stop-color=\"rgb(225, 100, 98)\"/><stop offset=\"0.6888888888888889\" stop-color=\"rgb(240, 128, 78)\"/><stop offset=\"0.7777777777777778\" stop-color=\"rgb(251, 158, 59)\"/><stop offset=\"0.8666666666666667\" stop-color=\"rgb(254, 192, 41)\"/><stop offset=\"0.9555555555555556\" stop-color=\"rgb(246, 229, 38)\"/><stop offset=\"1\" stop-color=\"rgb(240, 249, 33)\"/></linearGradient></defs></svg>\n"
      ],
      "text/plain": [
       "@vlplot(\n",
       "    mark=\"point\",\n",
       "    encoding={\n",
       "        x={\n",
       "            field=\"lost_mean\"\n",
       "        },\n",
       "        y={\n",
       "            field=\"profit_mean\"\n",
       "        },\n",
       "        color={\n",
       "            scale={\n",
       "                scheme=\"plasma\"\n",
       "            },\n",
       "            field=\"s\"\n",
       "        }\n",
       "    },\n",
       "    data={\n",
       "        values=...\n",
       "    }\n",
       ")"
      ]
     },
     "execution_count": 86,
     "metadata": {},
     "output_type": "execute_result"
    }
   ],
   "source": [
    "using VegaLite\n",
    "df |> @vlplot(:point, x=:lost_mean, y=:profit_mean, color={:s, scale={scheme=:plasma}})"
   ]
  },
  {
   "cell_type": "code",
   "execution_count": 87,
   "metadata": {},
   "outputs": [
    {
     "data": {
      "application/vnd.vegalite.v4+json": {
       "data": {
        "values": [
         {
          "N": 100,
          "S": 100,
          "lost_mean": 216.66,
          "lost_std": 86.9470081269173,
          "m": 90,
          "profit_mean": 2971.249,
          "profit_std": 187.95520554621308,
          "s": 25
         },
         {
          "N": 100,
          "S": 200,
          "lost_mean": 118.92,
          "lost_std": 62.04913009426116,
          "m": 90,
          "profit_mean": 3579.7960000000003,
          "profit_std": 143.17221100493074,
          "s": 25
         },
         {
          "N": 100,
          "S": 300,
          "lost_mean": 81.2,
          "lost_std": 61.18988495006359,
          "m": 90,
          "profit_mean": 3488.4050000000007,
          "profit_std": 233.74275784168026,
          "s": 25
         },
         {
          "N": 100,
          "S": 400,
          "lost_mean": 60.11,
          "lost_std": 45.893793731073295,
          "m": 90,
          "profit_mean": 3081.231,
          "profit_std": 179.82085119429956,
          "s": 25
         },
         {
          "N": 100,
          "S": 500,
          "lost_mean": 50.72,
          "lost_std": 46.57742115678112,
          "m": 90,
          "profit_mean": 2630.7940000000003,
          "profit_std": 167.02355959141173,
          "s": 25
         },
         {
          "N": 100,
          "S": 600,
          "lost_mean": 34.57,
          "lost_std": 38.67169638133426,
          "m": 90,
          "profit_mean": 2546.72,
          "profit_std": 258.4702663477147,
          "s": 25
         },
         {
          "N": 100,
          "S": 700,
          "lost_mean": 33.52,
          "lost_std": 31.946128897178628,
          "m": 90,
          "profit_mean": 1683.641,
          "profit_std": 168.93935442559678,
          "s": 25
         },
         {
          "N": 100,
          "S": 800,
          "lost_mean": 32.05,
          "lost_std": 34.9673368511908,
          "m": 90,
          "profit_mean": 1200.9729999999995,
          "profit_std": 281.1663826245624,
          "s": 25
         },
         {
          "N": 100,
          "S": 900,
          "lost_mean": 30.45,
          "lost_std": 37.83360031944242,
          "m": 90,
          "profit_mean": 1367.398,
          "profit_std": 302.58799637711195,
          "s": 25
         },
         {
          "N": 100,
          "S": 1000,
          "lost_mean": 24.22,
          "lost_std": 28.795194604711952,
          "m": 90,
          "profit_mean": 419.79099999999994,
          "profit_std": 221.17033158800362,
          "s": 25
         },
         {
          "N": 100,
          "S": 100,
          "lost_mean": 118.74,
          "lost_std": 73.54756861028683,
          "m": 90,
          "profit_mean": 2661.4039999999995,
          "profit_std": 141.7369971019379,
          "s": 50
         },
         {
          "N": 100,
          "S": 200,
          "lost_mean": 49.21,
          "lost_std": 49.32602218552054,
          "m": 90,
          "profit_mean": 3534.3150000000005,
          "profit_std": 159.41803592055612,
          "s": 50
         },
         {
          "N": 100,
          "S": 300,
          "lost_mean": 44.28,
          "lost_std": 55.60249976213282,
          "m": 90,
          "profit_mean": 3394.5560000000005,
          "profit_std": 188.26334141625162,
          "s": 50
         },
         {
          "N": 100,
          "S": 400,
          "lost_mean": 37.86,
          "lost_std": 48.17833454149198,
          "m": 90,
          "profit_mean": 3061.301,
          "profit_std": 190.8767143996355,
          "s": 50
         },
         {
          "N": 100,
          "S": 500,
          "lost_mean": 21.04,
          "lost_std": 31.871243490271315,
          "m": 90,
          "profit_mean": 2721.5890000000004,
          "profit_std": 214.69375882823894,
          "s": 50
         },
         {
          "N": 100,
          "S": 600,
          "lost_mean": 16.11,
          "lost_std": 27.825173908356856,
          "m": 90,
          "profit_mean": 2407.2490000000003,
          "profit_std": 282.0750023817901,
          "s": 50
         },
         {
          "N": 100,
          "S": 700,
          "lost_mean": 20.11,
          "lost_std": 29.26745184285331,
          "m": 90,
          "profit_mean": 1642.6039999999996,
          "profit_std": 171.262618893625,
          "s": 50
         },
         {
          "N": 100,
          "S": 800,
          "lost_mean": 18.19,
          "lost_std": 32.82481661576475,
          "m": 90,
          "profit_mean": 1014.0949999999997,
          "profit_std": 189.3099048538073,
          "s": 50
         },
         {
          "N": 100,
          "S": 900,
          "lost_mean": 13.63,
          "lost_std": 25.355912983608448,
          "m": 90,
          "profit_mean": 1231.521,
          "profit_std": 324.8279520660658,
          "s": 50
         },
         {
          "N": 100,
          "S": 1000,
          "lost_mean": 9.96,
          "lost_std": 26.49868302425994,
          "m": 90,
          "profit_mean": 435.7709999999998,
          "profit_std": 259.2438944840799,
          "s": 50
         },
         {
          "N": 100,
          "S": 100,
          "lost_mean": 74.03,
          "lost_std": 56.146355467859465,
          "m": 90,
          "profit_mean": 1855.157,
          "profit_std": 251.1118521172137,
          "s": 75
         },
         {
          "N": 100,
          "S": 200,
          "lost_mean": 24.44,
          "lost_std": 32.929468550067725,
          "m": 90,
          "profit_mean": 3346.4440000000004,
          "profit_std": 164.15197769694447,
          "s": 75
         },
         {
          "N": 100,
          "S": 300,
          "lost_mean": 14.97,
          "lost_std": 26.357853946147905,
          "m": 90,
          "profit_mean": 3300.2020000000007,
          "profit_std": 171.81134943285713,
          "s": 75
         },
         {
          "N": 100,
          "S": 400,
          "lost_mean": 6.17,
          "lost_std": 14.591442766916574,
          "m": 90,
          "profit_mean": 3035.6479999999997,
          "profit_std": 209.69590559723002,
          "s": 75
         },
         {
          "N": 100,
          "S": 500,
          "lost_mean": 7.34,
          "lost_std": 24.491276533954412,
          "m": 90,
          "profit_mean": 2687.4680000000003,
          "profit_std": 239.6288636600147,
          "s": 75
         },
         {
          "N": 100,
          "S": 600,
          "lost_mean": 9.68,
          "lost_std": 26.735849651089385,
          "m": 90,
          "profit_mean": 2028.0840000000003,
          "profit_std": 263.90170986313603,
          "s": 75
         },
         {
          "N": 100,
          "S": 700,
          "lost_mean": 7.85,
          "lost_std": 21.5417729028504,
          "m": 90,
          "profit_mean": 1678.705,
          "profit_std": 207.2270415327696,
          "s": 75
         },
         {
          "N": 100,
          "S": 800,
          "lost_mean": 11.43,
          "lost_std": 24.390449778633442,
          "m": 90,
          "profit_mean": 914.724,
          "profit_std": 153.53444592288884,
          "s": 75
         },
         {
          "N": 100,
          "S": 900,
          "lost_mean": 4.52,
          "lost_std": 15.272263100209486,
          "m": 90,
          "profit_mean": 682.4799999999997,
          "profit_std": 435.9574175294989,
          "s": 75
         },
         {
          "N": 100,
          "S": 1000,
          "lost_mean": 3.27,
          "lost_std": 14.687901294754278,
          "m": 90,
          "profit_mean": 439.6809999999997,
          "profit_std": 268.44414639988645,
          "s": 75
         },
         {
          "N": 100,
          "S": 200,
          "lost_mean": 20.08,
          "lost_std": 32.71909213133809,
          "m": 90,
          "profit_mean": 3020.23,
          "profit_std": 160.12806900992885,
          "s": 100
         },
         {
          "N": 100,
          "S": 300,
          "lost_mean": 5.76,
          "lost_std": 15.6276884555793,
          "m": 90,
          "profit_mean": 3120.251,
          "profit_std": 168.18128836635097,
          "s": 100
         },
         {
          "N": 100,
          "S": 400,
          "lost_mean": 6.26,
          "lost_std": 17.33486007262169,
          "m": 90,
          "profit_mean": 2795.2369999999996,
          "profit_std": 187.47999362894984,
          "s": 100
         },
         {
          "N": 100,
          "S": 500,
          "lost_mean": 5.26,
          "lost_std": 26.617993458515535,
          "m": 90,
          "profit_mean": 2386.138,
          "profit_std": 263.08043889520366,
          "s": 100
         },
         {
          "N": 100,
          "S": 600,
          "lost_mean": 2.97,
          "lost_std": 13.148303266500925,
          "m": 90,
          "profit_mean": 1828.5710000000001,
          "profit_std": 170.44090969001425,
          "s": 100
         },
         {
          "N": 100,
          "S": 700,
          "lost_mean": 0.49,
          "lost_std": 2.7135834893246518,
          "m": 90,
          "profit_mean": 1683.693,
          "profit_std": 251.01191378019482,
          "s": 100
         },
         {
          "N": 100,
          "S": 800,
          "lost_mean": 5.79,
          "lost_std": 19.27802695382292,
          "m": 90,
          "profit_mean": 814.0609999999998,
          "profit_std": 186.53830266898606,
          "s": 100
         },
         {
          "N": 100,
          "S": 900,
          "lost_mean": 2.51,
          "lost_std": 7.848946400374996,
          "m": 90,
          "profit_mean": 293.36999999999983,
          "profit_std": 355.2029320392681,
          "s": 100
         },
         {
          "N": 100,
          "S": 1000,
          "lost_mean": 2.53,
          "lost_std": 12.014683777054906,
          "m": 90,
          "profit_mean": 428.6849999999998,
          "profit_std": 255.33067344725794,
          "s": 100
         },
         {
          "N": 100,
          "S": 200,
          "lost_mean": 9.32,
          "lost_std": 21.774268940168533,
          "m": 90,
          "profit_mean": 2615.4799999999996,
          "profit_std": 187.355158870941,
          "s": 125
         },
         {
          "N": 100,
          "S": 300,
          "lost_mean": 2.89,
          "lost_std": 12.867541970541087,
          "m": 90,
          "profit_mean": 2913.112,
          "profit_std": 175.10721811034347,
          "s": 125
         },
         {
          "N": 100,
          "S": 400,
          "lost_mean": 4.37,
          "lost_std": 18.413683427650682,
          "m": 90,
          "profit_mean": 2680.0350000000008,
          "profit_std": 174.42341978268527,
          "s": 125
         },
         {
          "N": 100,
          "S": 500,
          "lost_mean": 3.27,
          "lost_std": 18.34619658929144,
          "m": 90,
          "profit_mean": 2227.969,
          "profit_std": 205.2709747375331,
          "s": 125
         },
         {
          "N": 100,
          "S": 600,
          "lost_mean": 0.92,
          "lost_std": 5.364831231400866,
          "m": 90,
          "profit_mean": 1771.845,
          "profit_std": 161.99935613726643,
          "s": 125
         },
         {
          "N": 100,
          "S": 700,
          "lost_mean": 0.75,
          "lost_std": 6.1272285164607085,
          "m": 90,
          "profit_mean": 1545.7620000000002,
          "profit_std": 273.75956743762646,
          "s": 125
         },
         {
          "N": 100,
          "S": 800,
          "lost_mean": 2.17,
          "lost_std": 11.349413725791825,
          "m": 90,
          "profit_mean": 722.4939999999998,
          "profit_std": 207.39437171288384,
          "s": 125
         },
         {
          "N": 100,
          "S": 900,
          "lost_mean": 1.94,
          "lost_std": 8.282658042103648,
          "m": 90,
          "profit_mean": 59.789999999999836,
          "profit_std": 220.4234160048163,
          "s": 125
         },
         {
          "N": 100,
          "S": 1000,
          "lost_mean": 1.12,
          "lost_std": 8.359691647689191,
          "m": 90,
          "profit_mean": 268.1569999999998,
          "profit_std": 409.5952826963107,
          "s": 125
         },
         {
          "N": 100,
          "S": 200,
          "lost_mean": 1.83,
          "lost_std": 7.363649457526704,
          "m": 90,
          "profit_mean": 1970.987,
          "profit_std": 248.1636767042137,
          "s": 150
         },
         {
          "N": 100,
          "S": 300,
          "lost_mean": 2.02,
          "lost_std": 8.678290573190507,
          "m": 90,
          "profit_mean": 2671.952,
          "profit_std": 166.81307961701663,
          "s": 150
         },
         {
          "N": 100,
          "S": 400,
          "lost_mean": 1.22,
          "lost_std": 6.331865858696413,
          "m": 90,
          "profit_mean": 2497.744,
          "profit_std": 185.28499223486705,
          "s": 150
         },
         {
          "N": 100,
          "S": 500,
          "lost_mean": 0.56,
          "lost_std": 3.30386978489703,
          "m": 90,
          "profit_mean": 2149.314,
          "profit_std": 210.26386982440738,
          "s": 150
         },
         {
          "N": 100,
          "S": 600,
          "lost_mean": 1.99,
          "lost_std": 10.519337652460095,
          "m": 90,
          "profit_mean": 1814.606,
          "profit_std": 190.31460281450927,
          "s": 150
         },
         {
          "N": 100,
          "S": 700,
          "lost_mean": 0.28,
          "lost_std": 1.9698741179080554,
          "m": 90,
          "profit_mean": 1134.7029999999995,
          "profit_std": 327.16855769224566,
          "s": 150
         },
         {
          "N": 100,
          "S": 800,
          "lost_mean": 1.81,
          "lost_std": 10.048061273376836,
          "m": 90,
          "profit_mean": 737.2569999999998,
          "profit_std": 205.53083833347395,
          "s": 150
         },
         {
          "N": 100,
          "S": 900,
          "lost_mean": 0.44,
          "lost_std": 3.2108402248469083,
          "m": 90,
          "profit_mean": -37.010000000000225,
          "profit_std": 181.72357657395006,
          "s": 150
         },
         {
          "N": 100,
          "S": 1000,
          "lost_mean": 1.6,
          "lost_std": 8.836334538755771,
          "m": 90,
          "profit_mean": -236.9160000000002,
          "profit_std": 504.6193942713135,
          "s": 150
         },
         {
          "N": 100,
          "S": 200,
          "lost_mean": 3.27,
          "lost_std": 12.657775986692645,
          "m": 90,
          "profit_mean": 1034.612,
          "profit_std": 341.1812309899212,
          "s": 175
         },
         {
          "N": 100,
          "S": 300,
          "lost_mean": 0.71,
          "lost_std": 3.7180830294846046,
          "m": 90,
          "profit_mean": 2395.3160000000003,
          "profit_std": 204.57018391118135,
          "s": 175
         },
         {
          "N": 100,
          "S": 400,
          "lost_mean": 1.75,
          "lost_std": 12.90632528348919,
          "m": 90,
          "profit_mean": 2297.704,
          "profit_std": 193.6575880206604,
          "s": 175
         },
         {
          "N": 100,
          "S": 500,
          "lost_mean": 0.36,
          "lost_std": 3.5999999999999996,
          "m": 90,
          "profit_mean": 1958.382,
          "profit_std": 253.70202213692272,
          "s": 175
         },
         {
          "N": 100,
          "S": 600,
          "lost_mean": 0.67,
          "lost_std": 4.290122552462986,
          "m": 90,
          "profit_mean": 1649.5899999999997,
          "profit_std": 249.80461192983236,
          "s": 175
         },
         {
          "N": 100,
          "S": 700,
          "lost_mean": 0.02,
          "lost_std": 0.19999999999999998,
          "m": 90,
          "profit_mean": 917.8089999999997,
          "profit_std": 235.50629625287615,
          "s": 175
         },
         {
          "N": 100,
          "S": 800,
          "lost_mean": 1.83,
          "lost_std": 11.84159336125563,
          "m": 90,
          "profit_mean": 725.9579999999999,
          "profit_std": 225.62798745552894,
          "s": 175
         },
         {
          "N": 100,
          "S": 900,
          "lost_mean": 1.06,
          "lost_std": 10.600000000000003,
          "m": 90,
          "profit_mean": -147.6150000000002,
          "profit_std": 192.0369200482453,
          "s": 175
         },
         {
          "N": 100,
          "S": 1000,
          "lost_mean": 1.49,
          "lost_std": 9.630019352383082,
          "m": 90,
          "profit_mean": -507.8470000000002,
          "profit_std": 446.96536585482477,
          "s": 175
         },
         {
          "N": 100,
          "S": 300,
          "lost_mean": 0.68,
          "lost_std": 6.5007847234162455,
          "m": 90,
          "profit_mean": 2051.976,
          "profit_std": 166.18719645829125,
          "s": 200
         },
         {
          "N": 100,
          "S": 400,
          "lost_mean": 0.82,
          "lost_std": 5.341622346528188,
          "m": 90,
          "profit_mean": 2142.9079999999994,
          "profit_std": 205.21167277332017,
          "s": 200
         },
         {
          "N": 100,
          "S": 500,
          "lost_mean": 0.79,
          "lost_std": 4.759456296933951,
          "m": 90,
          "profit_mean": 1773.4129999999998,
          "profit_std": 192.5260631208359,
          "s": 200
         },
         {
          "N": 100,
          "S": 600,
          "lost_mean": 1.25,
          "lost_std": 7.629521345379143,
          "m": 90,
          "profit_mean": 1365.214,
          "profit_std": 268.5887686979988,
          "s": 200
         },
         {
          "N": 100,
          "S": 700,
          "lost_mean": 0.72,
          "lost_std": 4.9991514431466415,
          "m": 90,
          "profit_mean": 807.732,
          "profit_std": 167.06069294502737,
          "s": 200
         },
         {
          "N": 100,
          "S": 800,
          "lost_mean": 0.33,
          "lost_std": 2.074642478631298,
          "m": 90,
          "profit_mean": 690.9069999999998,
          "profit_std": 228.549274688427,
          "s": 200
         },
         {
          "N": 100,
          "S": 900,
          "lost_mean": 0.38,
          "lost_std": 2.643001049083135,
          "m": 90,
          "profit_mean": -141.55000000000027,
          "profit_std": 207.4540837599657,
          "s": 200
         },
         {
          "N": 100,
          "S": 1000,
          "lost_mean": 0.52,
          "lost_std": 5.199999999999998,
          "m": 90,
          "profit_mean": -772.3740000000003,
          "profit_std": 332.43444546149686,
          "s": 200
         },
         {
          "N": 100,
          "S": 300,
          "lost_mean": 1.5,
          "lost_std": 7.6785152184257575,
          "m": 90,
          "profit_mean": 1663.1519999999998,
          "profit_std": 212.2201855801581,
          "s": 225
         },
         {
          "N": 100,
          "S": 400,
          "lost_mean": 0.7,
          "lost_std": 4.924685294770139,
          "m": 90,
          "profit_mean": 1930.973,
          "profit_std": 173.7541569039836,
          "s": 225
         },
         {
          "N": 100,
          "S": 500,
          "lost_mean": 1.65,
          "lost_std": 13.0580483328339,
          "m": 90,
          "profit_mean": 1677.326,
          "profit_std": 206.8589431169819,
          "s": 225
         },
         {
          "N": 100,
          "S": 600,
          "lost_mean": 2.13,
          "lost_std": 12.449214003017588,
          "m": 90,
          "profit_mean": 1233.0069999999998,
          "profit_std": 224.07148492065085,
          "s": 225
         },
         {
          "N": 100,
          "S": 700,
          "lost_mean": 0.93,
          "lost_std": 6.244601709080452,
          "m": 90,
          "profit_mean": 808.2299999999999,
          "profit_std": 207.0249545783837,
          "s": 225
         },
         {
          "N": 100,
          "S": 800,
          "lost_mean": 0.1,
          "lost_std": 1.0000000000000007,
          "m": 90,
          "profit_mean": 534.6999999999999,
          "profit_std": 304.10735478170074,
          "s": 225
         },
         {
          "N": 100,
          "S": 900,
          "lost_mean": 0.48,
          "lost_std": 4.071284015559898,
          "m": 90,
          "profit_mean": -243.1130000000002,
          "profit_std": 201.20523400977746,
          "s": 225
         },
         {
          "N": 100,
          "S": 1000,
          "lost_mean": 1.32,
          "lost_std": 7.085167320508104,
          "m": 90,
          "profit_mean": -954.1800000000002,
          "profit_std": 197.84985992086783,
          "s": 225
         },
         {
          "N": 100,
          "S": 300,
          "lost_mean": 0.4,
          "lost_std": 2.8141058827257948,
          "m": 90,
          "profit_mean": 1026.938,
          "profit_std": 254.7140614235278,
          "s": 250
         },
         {
          "N": 100,
          "S": 400,
          "lost_mean": 0.1,
          "lost_std": 1.0000000000000007,
          "m": 90,
          "profit_mean": 1651.1429999999998,
          "profit_std": 172.60763601622932,
          "s": 250
         },
         {
          "N": 100,
          "S": 500,
          "lost_mean": 0.21,
          "lost_std": 1.6714779040832046,
          "m": 90,
          "profit_mean": 1488.8509999999997,
          "profit_std": 226.5972819360552,
          "s": 250
         },
         {
          "N": 100,
          "S": 600,
          "lost_mean": 2.18,
          "lost_std": 13.832606771719133,
          "m": 90,
          "profit_mean": 1213.382,
          "profit_std": 196.7978249756625,
          "s": 250
         },
         {
          "N": 100,
          "S": 700,
          "lost_mean": 1.76,
          "lost_std": 15.115795471204054,
          "m": 90,
          "profit_mean": 799.0329999999999,
          "profit_std": 176.64162204127808,
          "s": 250
         },
         {
          "N": 100,
          "S": 800,
          "lost_mean": 0.03,
          "lost_std": 0.2999999999999999,
          "m": 90,
          "profit_mean": 168.5249999999998,
          "profit_std": 342.22972507107306,
          "s": 250
         },
         {
          "N": 100,
          "S": 900,
          "lost_mean": 0.96,
          "lost_std": 7.126448107315638,
          "m": 90,
          "profit_mean": -275.16500000000025,
          "profit_std": 195.89202672994028,
          "s": 250
         },
         {
          "N": 100,
          "S": 1000,
          "lost_mean": 0,
          "lost_std": 0,
          "m": 90,
          "profit_mean": -1019.1280000000002,
          "profit_std": 171.74590291380093,
          "s": 250
         }
        ]
       },
       "encoding": {
        "color": {
         "field": "S",
         "scale": {
          "scheme": "plasma"
         },
         "type": "quantitative"
        },
        "x": {
         "field": "lost_mean",
         "type": "quantitative"
        },
        "y": {
         "field": "profit_mean",
         "type": "quantitative"
        }
       },
       "mark": "point"
      },
      "image/png": "[encoded data removed]",
      "image/svg+xml": [
       "<?xml version=\"1.0\" encoding=\"utf-8\"?>\n",
       "<!DOCTYPE svg PUBLIC \"-//W3C//DTD SVG 1.1//EN\" \"http://www.w3.org/Graphics/SVG/1.1/DTD/svg11.dtd\">\n",
       "<svg xmlns=\"http://www.w3.org/2000/svg\" xmlns:xlink=\"http://www.w3.org/1999/xlink\" version=\"1.1\" class=\"marks\" width=\"328\" height=\"247\" viewBox=\"0 0 328 247\"><rect width=\"328\" height=\"247\" fill=\"white\"/><g fill=\"none\" stroke-miterlimit=\"10\" transform=\"translate(60,10)\"><g class=\"mark-group role-frame root\" role=\"graphics-object\" aria-roledescription=\"group mark container\"><g transform=\"translate(0,0)\"><path class=\"background\" aria-hidden=\"true\" d=\"M0.5,0.5h200v200h-200Z\" stroke=\"#ddd\"/><g><g class=\"mark-group role-axis\" aria-hidden=\"true\"><g transform=\"translate(0.5,200.5)\"><path class=\"background\" aria-hidden=\"true\" d=\"M0,0h0v0h0Z\" pointer-events=\"none\"/><g><g class=\"mark-rule role-axis-grid\" pointer-events=\"none\"><line transform=\"translate(0,-200)\" x2=\"0\" y2=\"200\" stroke=\"#ddd\" stroke-width=\"1\" opacity=\"1\"/><line transform=\"translate(45,-200)\" x2=\"0\" y2=\"200\" stroke=\"#ddd\" stroke-width=\"1\" opacity=\"1\"/><line transform=\"translate(91,-200)\" x2=\"0\" y2=\"200\" stroke=\"#ddd\" stroke-width=\"1\" opacity=\"1\"/><line transform=\"translate(136,-200)\" x2=\"0\" y2=\"200\" stroke=\"#ddd\" stroke-width=\"1\" opacity=\"1\"/><line transform=\"translate(182,-200)\" x2=\"0\" y2=\"200\" stroke=\"#ddd\" stroke-width=\"1\" opacity=\"1\"/></g></g><path class=\"foreground\" aria-hidden=\"true\" d=\"\" pointer-events=\"none\" display=\"none\"/></g></g><g class=\"mark-group role-axis\" aria-hidden=\"true\"><g transform=\"translate(0.5,0.5)\"><path class=\"background\" aria-hidden=\"true\" d=\"M0,0h0v0h0Z\" pointer-events=\"none\"/><g><g class=\"mark-rule role-axis-grid\" pointer-events=\"none\"><line transform=\"translate(0,182)\" x2=\"200\" y2=\"0\" stroke=\"#ddd\" stroke-width=\"1\" opacity=\"1\"/><line transform=\"translate(0,145)\" x2=\"200\" y2=\"0\" stroke=\"#ddd\" stroke-width=\"1\" opacity=\"1\"/><line transform=\"translate(0,109)\" x2=\"200\" y2=\"0\" stroke=\"#ddd\" stroke-width=\"1\" opacity=\"1\"/><line transform=\"translate(0,73)\" x2=\"200\" y2=\"0\" stroke=\"#ddd\" stroke-width=\"1\" opacity=\"1\"/><line transform=\"translate(0,36)\" x2=\"200\" y2=\"0\" stroke=\"#ddd\" stroke-width=\"1\" opacity=\"1\"/><line transform=\"translate(0,0)\" x2=\"200\" y2=\"0\" stroke=\"#ddd\" stroke-width=\"1\" opacity=\"1\"/></g></g><path class=\"foreground\" aria-hidden=\"true\" d=\"\" pointer-events=\"none\" display=\"none\"/></g></g><g class=\"mark-group role-axis\" role=\"graphics-symbol\" aria-roledescription=\"axis\" aria-label=\"X-axis titled 'lost_mean' for a linear scale with values from 0 to 220\"><g transform=\"translate(0.5,200.5)\"><path class=\"background\" aria-hidden=\"true\" d=\"M0,0h0v0h0Z\" pointer-events=\"none\"/><g><g class=\"mark-rule role-axis-tick\" pointer-events=\"none\"><line transform=\"translate(0,0)\" x2=\"0\" y2=\"5\" stroke=\"#888\" stroke-width=\"1\" opacity=\"1\"/><line transform=\"translate(45,0)\" x2=\"0\" y2=\"5\" stroke=\"#888\" stroke-width=\"1\" opacity=\"1\"/><line transform=\"translate(91,0)\" x2=\"0\" y2=\"5\" stroke=\"#888\" stroke-width=\"1\" opacity=\"1\"/><line transform=\"translate(136,0)\" x2=\"0\" y2=\"5\" stroke=\"#888\" stroke-width=\"1\" opacity=\"1\"/><line transform=\"translate(182,0)\" x2=\"0\" y2=\"5\" stroke=\"#888\" stroke-width=\"1\" opacity=\"1\"/></g><g class=\"mark-text role-axis-label\" pointer-events=\"none\"><text text-anchor=\"start\" transform=\"translate(0,15)\" font-family=\"sans-serif\" font-size=\"10px\" fill=\"#000\" opacity=\"1\">0</text><text text-anchor=\"middle\" transform=\"translate(45.45454545454545,15)\" font-family=\"sans-serif\" font-size=\"10px\" fill=\"#000\" opacity=\"1\">50</text><text text-anchor=\"middle\" transform=\"translate(90.9090909090909,15)\" font-family=\"sans-serif\" font-size=\"10px\" fill=\"#000\" opacity=\"1\">100</text><text text-anchor=\"middle\" transform=\"translate(136.36363636363635,15)\" font-family=\"sans-serif\" font-size=\"10px\" fill=\"#000\" opacity=\"1\">150</text><text text-anchor=\"middle\" transform=\"translate(181.8181818181818,15)\" font-family=\"sans-serif\" font-size=\"10px\" fill=\"#000\" opacity=\"1\">200</text></g><g class=\"mark-rule role-axis-domain\" pointer-events=\"none\"><line transform=\"translate(0,0)\" x2=\"200\" y2=\"0\" stroke=\"#888\" stroke-width=\"1\" opacity=\"1\"/></g><g class=\"mark-text role-axis-title\" pointer-events=\"none\"><text text-anchor=\"middle\" transform=\"translate(100,30)\" font-family=\"sans-serif\" font-size=\"11px\" font-weight=\"bold\" fill=\"#000\" opacity=\"1\">lost_mean</text></g></g><path class=\"foreground\" aria-hidden=\"true\" d=\"\" pointer-events=\"none\" display=\"none\"/></g></g><g class=\"mark-group role-axis\" role=\"graphics-symbol\" aria-roledescription=\"axis\" aria-label=\"Y-axis titled 'profit_mean' for a linear scale with values from −1,500 to 4,000\"><g transform=\"translate(0.5,0.5)\"><path class=\"background\" aria-hidden=\"true\" d=\"M0,0h0v0h0Z\" pointer-events=\"none\"/><g><g class=\"mark-rule role-axis-tick\" pointer-events=\"none\"><line transform=\"translate(0,182)\" x2=\"-5\" y2=\"0\" stroke=\"#888\" stroke-width=\"1\" opacity=\"1\"/><line transform=\"translate(0,145)\" x2=\"-5\" y2=\"0\" stroke=\"#888\" stroke-width=\"1\" opacity=\"1\"/><line transform=\"translate(0,109)\" x2=\"-5\" y2=\"0\" stroke=\"#888\" stroke-width=\"1\" opacity=\"1\"/><line transform=\"translate(0,73)\" x2=\"-5\" y2=\"0\" stroke=\"#888\" stroke-width=\"1\" opacity=\"1\"/><line transform=\"translate(0,36)\" x2=\"-5\" y2=\"0\" stroke=\"#888\" stroke-width=\"1\" opacity=\"1\"/><line transform=\"translate(0,0)\" x2=\"-5\" y2=\"0\" stroke=\"#888\" stroke-width=\"1\" opacity=\"1\"/></g><g class=\"mark-text role-axis-label\" pointer-events=\"none\"><text text-anchor=\"end\" transform=\"translate(-7,184.8181818181818)\" font-family=\"sans-serif\" font-size=\"10px\" fill=\"#000\" opacity=\"1\">−1,000</text><text text-anchor=\"end\" transform=\"translate(-7,148.45454545454547)\" font-family=\"sans-serif\" font-size=\"10px\" fill=\"#000\" opacity=\"1\">0</text><text text-anchor=\"end\" transform=\"translate(-7,112.09090909090908)\" font-family=\"sans-serif\" font-size=\"10px\" fill=\"#000\" opacity=\"1\">1,000</text><text text-anchor=\"end\" transform=\"translate(-7,75.72727272727273)\" font-family=\"sans-serif\" font-size=\"10px\" fill=\"#000\" opacity=\"1\">2,000</text><text text-anchor=\"end\" transform=\"translate(-7,39.36363636363635)\" font-family=\"sans-serif\" font-size=\"10px\" fill=\"#000\" opacity=\"1\">3,000</text><text text-anchor=\"end\" transform=\"translate(-7,3)\" font-family=\"sans-serif\" font-size=\"10px\" fill=\"#000\" opacity=\"1\">4,000</text></g><g class=\"mark-rule role-axis-domain\" pointer-events=\"none\"><line transform=\"translate(0,200)\" x2=\"0\" y2=\"-200\" stroke=\"#888\" stroke-width=\"1\" opacity=\"1\"/></g><g class=\"mark-text role-axis-title\" pointer-events=\"none\"><text text-anchor=\"middle\" transform=\"translate(-44,100) rotate(-90) translate(0,-2)\" font-family=\"sans-serif\" font-size=\"11px\" font-weight=\"bold\" fill=\"#000\" opacity=\"1\">profit_mean</text></g></g><path class=\"foreground\" aria-hidden=\"true\" d=\"\" pointer-events=\"none\" display=\"none\"/></g></g><g class=\"mark-symbol role-mark marks\" role=\"graphics-object\" aria-roledescription=\"symbol mark container\"><path aria-label=\"lost_mean: 216.66; profit_mean: 2971.249; S: 100\" role=\"graphics-symbol\" aria-roledescription=\"point\" transform=\"translate(196.96363636363637,37.409127272727275)\" d=\"M2.7386127875258306,0A2.7386127875258306,2.7386127875258306,0,1,1,-2.7386127875258306,0A2.7386127875258306,2.7386127875258306,0,1,1,2.7386127875258306,0\" stroke=\"rgb(13, 8, 135)\" stroke-width=\"2\" opacity=\"0.7\"/><path aria-label=\"lost_mean: 118.92; profit_mean: 3579.796; S: 200\" role=\"graphics-symbol\" aria-roledescription=\"point\" transform=\"translate(108.10909090909091,15.280145454545435)\" d=\"M2.7386127875258306,0A2.7386127875258306,2.7386127875258306,0,1,1,-2.7386127875258306,0A2.7386127875258306,2.7386127875258306,0,1,1,2.7386127875258306,0\" stroke=\"rgb(71, 3, 159)\" stroke-width=\"2\" opacity=\"0.7\"/><path aria-label=\"lost_mean: 81.2; profit_mean: 3488.405; S: 300\" role=\"graphics-symbol\" aria-roledescription=\"point\" transform=\"translate(73.81818181818181,18.60345454545451)\" d=\"M2.7386127875258306,0A2.7386127875258306,2.7386127875258306,0,1,1,-2.7386127875258306,0A2.7386127875258306,2.7386127875258306,0,1,1,2.7386127875258306,0\" stroke=\"rgb(115, 1, 168)\" stroke-width=\"2\" opacity=\"0.7\"/><path aria-label=\"lost_mean: 60.11; profit_mean: 3081.231; S: 400\" role=\"graphics-symbol\" aria-roledescription=\"point\" transform=\"translate(54.64545454545454,33.40978181818181)\" d=\"M2.7386127875258306,0A2.7386127875258306,2.7386127875258306,0,1,1,-2.7386127875258306,0A2.7386127875258306,2.7386127875258306,0,1,1,2.7386127875258306,0\" stroke=\"rgb(156, 23, 158)\" stroke-width=\"2\" opacity=\"0.7\"/><path aria-label=\"lost_mean: 50.72; profit_mean: 2630.794; S: 500\" role=\"graphics-symbol\" aria-roledescription=\"point\" transform=\"translate(46.10909090909091,49.78930909090911)\" d=\"M2.7386127875258306,0A2.7386127875258306,2.7386127875258306,0,1,1,-2.7386127875258306,0A2.7386127875258306,2.7386127875258306,0,1,1,2.7386127875258306,0\" stroke=\"rgb(189, 55, 133)\" stroke-width=\"2\" opacity=\"0.7\"/><path aria-label=\"lost_mean: 34.57; profit_mean: 2546.72; S: 600\" role=\"graphics-symbol\" aria-roledescription=\"point\" transform=\"translate(31.427272727272726,52.846545454545456)\" d=\"M2.7386127875258306,0A2.7386127875258306,2.7386127875258306,0,1,1,-2.7386127875258306,0A2.7386127875258306,2.7386127875258306,0,1,1,2.7386127875258306,0\" stroke=\"rgb(216, 87, 108)\" stroke-width=\"2\" opacity=\"0.7\"/><path aria-label=\"lost_mean: 33.52; profit_mean: 1683.641; S: 700\" role=\"graphics-symbol\" aria-roledescription=\"point\" transform=\"translate(30.472727272727273,84.23123636363637)\" d=\"M2.7386127875258306,0A2.7386127875258306,2.7386127875258306,0,1,1,-2.7386127875258306,0A2.7386127875258306,2.7386127875258306,0,1,1,2.7386127875258306,0\" stroke=\"rgb(237, 121, 83)\" stroke-width=\"2\" opacity=\"0.7\"/><path aria-label=\"lost_mean: 32.05; profit_mean: 1200.973; S: 800\" role=\"graphics-symbol\" aria-roledescription=\"point\" transform=\"translate(29.136363636363633,101.78280000000002)\" d=\"M2.7386127875258306,0A2.7386127875258306,2.7386127875258306,0,1,1,-2.7386127875258306,0A2.7386127875258306,2.7386127875258306,0,1,1,2.7386127875258306,0\" stroke=\"rgb(251, 158, 59)\" stroke-width=\"2\" opacity=\"0.7\"/><path aria-label=\"lost_mean: 30.45; profit_mean: 1367.398; S: 900\" role=\"graphics-symbol\" aria-roledescription=\"point\" transform=\"translate(27.68181818181818,95.7309818181818)\" d=\"M2.7386127875258306,0A2.7386127875258306,2.7386127875258306,0,1,1,-2.7386127875258306,0A2.7386127875258306,2.7386127875258306,0,1,1,2.7386127875258306,0\" stroke=\"rgb(253, 201, 38)\" stroke-width=\"2\" opacity=\"0.7\"/><path aria-label=\"lost_mean: 24.22; profit_mean: 419.791; S: 1000\" role=\"graphics-symbol\" aria-roledescription=\"point\" transform=\"translate(22.018181818181816,130.18941818181818)\" d=\"M2.7386127875258306,0A2.7386127875258306,2.7386127875258306,0,1,1,-2.7386127875258306,0A2.7386127875258306,2.7386127875258306,0,1,1,2.7386127875258306,0\" stroke=\"rgb(240, 249, 33)\" stroke-width=\"2\" opacity=\"0.7\"/><path aria-label=\"lost_mean: 118.74; profit_mean: 2661.404; S: 100\" role=\"graphics-symbol\" aria-roledescription=\"point\" transform=\"translate(107.94545454545454,48.6762181818182)\" d=\"M2.7386127875258306,0A2.7386127875258306,2.7386127875258306,0,1,1,-2.7386127875258306,0A2.7386127875258306,2.7386127875258306,0,1,1,2.7386127875258306,0\" stroke=\"rgb(13, 8, 135)\" stroke-width=\"2\" opacity=\"0.7\"/><path aria-label=\"lost_mean: 49.21; profit_mean: 3534.315; S: 200\" role=\"graphics-symbol\" aria-roledescription=\"point\" transform=\"translate(44.736363636363635,16.933999999999983)\" d=\"M2.7386127875258306,0A2.7386127875258306,2.7386127875258306,0,1,1,-2.7386127875258306,0A2.7386127875258306,2.7386127875258306,0,1,1,2.7386127875258306,0\" stroke=\"rgb(71, 3, 159)\" stroke-width=\"2\" opacity=\"0.7\"/><path aria-label=\"lost_mean: 44.28; profit_mean: 3394.556; S: 300\" role=\"graphics-symbol\" aria-roledescription=\"point\" transform=\"translate(40.25454545454545,22.016145454545445)\" d=\"M2.7386127875258306,0A2.7386127875258306,2.7386127875258306,0,1,1,-2.7386127875258306,0A2.7386127875258306,2.7386127875258306,0,1,1,2.7386127875258306,0\" stroke=\"rgb(115, 1, 168)\" stroke-width=\"2\" opacity=\"0.7\"/><path aria-label=\"lost_mean: 37.86; profit_mean: 3061.301; S: 400\" role=\"graphics-symbol\" aria-roledescription=\"point\" transform=\"translate(34.41818181818182,34.13450909090911)\" d=\"M2.7386127875258306,0A2.7386127875258306,2.7386127875258306,0,1,1,-2.7386127875258306,0A2.7386127875258306,2.7386127875258306,0,1,1,2.7386127875258306,0\" stroke=\"rgb(156, 23, 158)\" stroke-width=\"2\" opacity=\"0.7\"/><path aria-label=\"lost_mean: 21.04; profit_mean: 2721.589; S: 500\" role=\"graphics-symbol\" aria-roledescription=\"point\" transform=\"translate(19.127272727272725,46.487672727272724)\" d=\"M2.7386127875258306,0A2.7386127875258306,2.7386127875258306,0,1,1,-2.7386127875258306,0A2.7386127875258306,2.7386127875258306,0,1,1,2.7386127875258306,0\" stroke=\"rgb(189, 55, 133)\" stroke-width=\"2\" opacity=\"0.7\"/><path aria-label=\"lost_mean: 16.11; profit_mean: 2407.249; S: 600\" role=\"graphics-symbol\" aria-roledescription=\"point\" transform=\"translate(14.645454545454545,57.91821818181817)\" d=\"M2.7386127875258306,0A2.7386127875258306,2.7386127875258306,0,1,1,-2.7386127875258306,0A2.7386127875258306,2.7386127875258306,0,1,1,2.7386127875258306,0\" stroke=\"rgb(216, 87, 108)\" stroke-width=\"2\" opacity=\"0.7\"/><path aria-label=\"lost_mean: 20.11; profit_mean: 1642.604; S: 700\" role=\"graphics-symbol\" aria-roledescription=\"point\" transform=\"translate(18.28181818181818,85.72349090909093)\" d=\"M2.7386127875258306,0A2.7386127875258306,2.7386127875258306,0,1,1,-2.7386127875258306,0A2.7386127875258306,2.7386127875258306,0,1,1,2.7386127875258306,0\" stroke=\"rgb(237, 121, 83)\" stroke-width=\"2\" opacity=\"0.7\"/><path aria-label=\"lost_mean: 18.19; profit_mean: 1014.095; S: 800\" role=\"graphics-symbol\" aria-roledescription=\"point\" transform=\"translate(16.53636363636364,108.57836363636363)\" d=\"M2.7386127875258306,0A2.7386127875258306,2.7386127875258306,0,1,1,-2.7386127875258306,0A2.7386127875258306,2.7386127875258306,0,1,1,2.7386127875258306,0\" stroke=\"rgb(251, 158, 59)\" stroke-width=\"2\" opacity=\"0.7\"/><path aria-label=\"lost_mean: 13.63; profit_mean: 1231.521; S: 900\" role=\"graphics-symbol\" aria-roledescription=\"point\" transform=\"translate(12.39090909090909,100.67196363636364)\" d=\"M2.7386127875258306,0A2.7386127875258306,2.7386127875258306,0,1,1,-2.7386127875258306,0A2.7386127875258306,2.7386127875258306,0,1,1,2.7386127875258306,0\" stroke=\"rgb(253, 201, 38)\" stroke-width=\"2\" opacity=\"0.7\"/><path aria-label=\"lost_mean: 9.96; profit_mean: 435.771; S: 1000\" role=\"graphics-symbol\" aria-roledescription=\"point\" transform=\"translate(9.054545454545455,129.60832727272728)\" d=\"M2.7386127875258306,0A2.7386127875258306,2.7386127875258306,0,1,1,-2.7386127875258306,0A2.7386127875258306,2.7386127875258306,0,1,1,2.7386127875258306,0\" stroke=\"rgb(240, 249, 33)\" stroke-width=\"2\" opacity=\"0.7\"/><path aria-label=\"lost_mean: 74.03; profit_mean: 1855.157; S: 100\" role=\"graphics-symbol\" aria-roledescription=\"point\" transform=\"translate(67.30000000000001,77.9942909090909)\" d=\"M2.7386127875258306,0A2.7386127875258306,2.7386127875258306,0,1,1,-2.7386127875258306,0A2.7386127875258306,2.7386127875258306,0,1,1,2.7386127875258306,0\" stroke=\"rgb(13, 8, 135)\" stroke-width=\"2\" opacity=\"0.7\"/><path aria-label=\"lost_mean: 24.44; profit_mean: 3346.444; S: 200\" role=\"graphics-symbol\" aria-roledescription=\"point\" transform=\"translate(22.21818181818182,23.7656727272727)\" d=\"M2.7386127875258306,0A2.7386127875258306,2.7386127875258306,0,1,1,-2.7386127875258306,0A2.7386127875258306,2.7386127875258306,0,1,1,2.7386127875258306,0\" stroke=\"rgb(71, 3, 159)\" stroke-width=\"2\" opacity=\"0.7\"/><path aria-label=\"lost_mean: 14.97; profit_mean: 3300.202; S: 300\" role=\"graphics-symbol\" aria-roledescription=\"point\" transform=\"translate(13.60909090909091,25.44719999999996)\" d=\"M2.7386127875258306,0A2.7386127875258306,2.7386127875258306,0,1,1,-2.7386127875258306,0A2.7386127875258306,2.7386127875258306,0,1,1,2.7386127875258306,0\" stroke=\"rgb(115, 1, 168)\" stroke-width=\"2\" opacity=\"0.7\"/><path aria-label=\"lost_mean: 6.17; profit_mean: 3035.648; S: 400\" role=\"graphics-symbol\" aria-roledescription=\"point\" transform=\"translate(5.6090909090909085,35.06734545454548)\" d=\"M2.7386127875258306,0A2.7386127875258306,2.7386127875258306,0,1,1,-2.7386127875258306,0A2.7386127875258306,2.7386127875258306,0,1,1,2.7386127875258306,0\" stroke=\"rgb(156, 23, 158)\" stroke-width=\"2\" opacity=\"0.7\"/><path aria-label=\"lost_mean: 7.34; profit_mean: 2687.468; S: 500\" role=\"graphics-symbol\" aria-roledescription=\"point\" transform=\"translate(6.672727272727273,47.72843636363633)\" d=\"M2.7386127875258306,0A2.7386127875258306,2.7386127875258306,0,1,1,-2.7386127875258306,0A2.7386127875258306,2.7386127875258306,0,1,1,2.7386127875258306,0\" stroke=\"rgb(189, 55, 133)\" stroke-width=\"2\" opacity=\"0.7\"/><path aria-label=\"lost_mean: 9.68; profit_mean: 2028.084; S: 600\" role=\"graphics-symbol\" aria-roledescription=\"point\" transform=\"translate(8.799999999999999,71.70603636363634)\" d=\"M2.7386127875258306,0A2.7386127875258306,2.7386127875258306,0,1,1,-2.7386127875258306,0A2.7386127875258306,2.7386127875258306,0,1,1,2.7386127875258306,0\" stroke=\"rgb(216, 87, 108)\" stroke-width=\"2\" opacity=\"0.7\"/><path aria-label=\"lost_mean: 7.85; profit_mean: 1678.705; S: 700\" role=\"graphics-symbol\" aria-roledescription=\"point\" transform=\"translate(7.136363636363637,84.41072727272727)\" d=\"M2.7386127875258306,0A2.7386127875258306,2.7386127875258306,0,1,1,-2.7386127875258306,0A2.7386127875258306,2.7386127875258306,0,1,1,2.7386127875258306,0\" stroke=\"rgb(237, 121, 83)\" stroke-width=\"2\" opacity=\"0.7\"/><path aria-label=\"lost_mean: 11.43; profit_mean: 914.724; S: 800\" role=\"graphics-symbol\" aria-roledescription=\"point\" transform=\"translate(10.39090909090909,112.19185454545455)\" d=\"M2.7386127875258306,0A2.7386127875258306,2.7386127875258306,0,1,1,-2.7386127875258306,0A2.7386127875258306,2.7386127875258306,0,1,1,2.7386127875258306,0\" stroke=\"rgb(251, 158, 59)\" stroke-width=\"2\" opacity=\"0.7\"/><path aria-label=\"lost_mean: 4.52; profit_mean: 682.48; S: 900\" role=\"graphics-symbol\" aria-roledescription=\"point\" transform=\"translate(4.1090909090909085,120.63709090909094)\" d=\"M2.7386127875258306,0A2.7386127875258306,2.7386127875258306,0,1,1,-2.7386127875258306,0A2.7386127875258306,2.7386127875258306,0,1,1,2.7386127875258306,0\" stroke=\"rgb(253, 201, 38)\" stroke-width=\"2\" opacity=\"0.7\"/><path aria-label=\"lost_mean: 3.27; profit_mean: 439.681; S: 1000\" role=\"graphics-symbol\" aria-roledescription=\"point\" transform=\"translate(2.9727272727272727,129.46614545454545)\" d=\"M2.7386127875258306,0A2.7386127875258306,2.7386127875258306,0,1,1,-2.7386127875258306,0A2.7386127875258306,2.7386127875258306,0,1,1,2.7386127875258306,0\" stroke=\"rgb(240, 249, 33)\" stroke-width=\"2\" opacity=\"0.7\"/><path aria-label=\"lost_mean: 20.08; profit_mean: 3020.23; S: 200\" role=\"graphics-symbol\" aria-roledescription=\"point\" transform=\"translate(18.254545454545454,35.628000000000014)\" d=\"M2.7386127875258306,0A2.7386127875258306,2.7386127875258306,0,1,1,-2.7386127875258306,0A2.7386127875258306,2.7386127875258306,0,1,1,2.7386127875258306,0\" stroke=\"rgb(71, 3, 159)\" stroke-width=\"2\" opacity=\"0.7\"/><path aria-label=\"lost_mean: 5.76; profit_mean: 3120.251; S: 300\" role=\"graphics-symbol\" aria-roledescription=\"point\" transform=\"translate(5.236363636363636,31.990872727272723)\" d=\"M2.7386127875258306,0A2.7386127875258306,2.7386127875258306,0,1,1,-2.7386127875258306,0A2.7386127875258306,2.7386127875258306,0,1,1,2.7386127875258306,0\" stroke=\"rgb(115, 1, 168)\" stroke-width=\"2\" opacity=\"0.7\"/><path aria-label=\"lost_mean: 6.26; profit_mean: 2795.237; S: 400\" role=\"graphics-symbol\" aria-roledescription=\"point\" transform=\"translate(5.690909090909091,43.809563636363656)\" d=\"M2.7386127875258306,0A2.7386127875258306,2.7386127875258306,0,1,1,-2.7386127875258306,0A2.7386127875258306,2.7386127875258306,0,1,1,2.7386127875258306,0\" stroke=\"rgb(156, 23, 158)\" stroke-width=\"2\" opacity=\"0.7\"/><path aria-label=\"lost_mean: 5.26; profit_mean: 2386.138; S: 500\" role=\"graphics-symbol\" aria-roledescription=\"point\" transform=\"translate(4.781818181818181,58.68589090909091)\" d=\"M2.7386127875258306,0A2.7386127875258306,2.7386127875258306,0,1,1,-2.7386127875258306,0A2.7386127875258306,2.7386127875258306,0,1,1,2.7386127875258306,0\" stroke=\"rgb(189, 55, 133)\" stroke-width=\"2\" opacity=\"0.7\"/><path aria-label=\"lost_mean: 2.97; profit_mean: 1828.571; S: 600\" role=\"graphics-symbol\" aria-roledescription=\"point\" transform=\"translate(2.7,78.96105454545454)\" d=\"M2.7386127875258306,0A2.7386127875258306,2.7386127875258306,0,1,1,-2.7386127875258306,0A2.7386127875258306,2.7386127875258306,0,1,1,2.7386127875258306,0\" stroke=\"rgb(216, 87, 108)\" stroke-width=\"2\" opacity=\"0.7\"/><path aria-label=\"lost_mean: 0.49; profit_mean: 1683.693; S: 700\" role=\"graphics-symbol\" aria-roledescription=\"point\" transform=\"translate(0.44545454545454544,84.22934545454545)\" d=\"M2.7386127875258306,0A2.7386127875258306,2.7386127875258306,0,1,1,-2.7386127875258306,0A2.7386127875258306,2.7386127875258306,0,1,1,2.7386127875258306,0\" stroke=\"rgb(237, 121, 83)\" stroke-width=\"2\" opacity=\"0.7\"/><path aria-label=\"lost_mean: 5.79; profit_mean: 814.061; S: 800\" role=\"graphics-symbol\" aria-roledescription=\"point\" transform=\"translate(5.263636363636364,115.8523272727273)\" d=\"M2.7386127875258306,0A2.7386127875258306,2.7386127875258306,0,1,1,-2.7386127875258306,0A2.7386127875258306,2.7386127875258306,0,1,1,2.7386127875258306,0\" stroke=\"rgb(251, 158, 59)\" stroke-width=\"2\" opacity=\"0.7\"/><path aria-label=\"lost_mean: 2.51; profit_mean: 293.37; S: 900\" role=\"graphics-symbol\" aria-roledescription=\"point\" transform=\"translate(2.2818181818181817,134.78654545454546)\" d=\"M2.7386127875258306,0A2.7386127875258306,2.7386127875258306,0,1,1,-2.7386127875258306,0A2.7386127875258306,2.7386127875258306,0,1,1,2.7386127875258306,0\" stroke=\"rgb(253, 201, 38)\" stroke-width=\"2\" opacity=\"0.7\"/><path aria-label=\"lost_mean: 2.53; profit_mean: 428.685; S: 1000\" role=\"graphics-symbol\" aria-roledescription=\"point\" transform=\"translate(2.3,129.866)\" d=\"M2.7386127875258306,0A2.7386127875258306,2.7386127875258306,0,1,1,-2.7386127875258306,0A2.7386127875258306,2.7386127875258306,0,1,1,2.7386127875258306,0\" stroke=\"rgb(240, 249, 33)\" stroke-width=\"2\" opacity=\"0.7\"/><path aria-label=\"lost_mean: 9.32; profit_mean: 2615.48; S: 200\" role=\"graphics-symbol\" aria-roledescription=\"point\" transform=\"translate(8.472727272727273,50.346181818181826)\" d=\"M2.7386127875258306,0A2.7386127875258306,2.7386127875258306,0,1,1,-2.7386127875258306,0A2.7386127875258306,2.7386127875258306,0,1,1,2.7386127875258306,0\" stroke=\"rgb(71, 3, 159)\" stroke-width=\"2\" opacity=\"0.7\"/><path aria-label=\"lost_mean: 2.89; profit_mean: 2913.112; S: 300\" role=\"graphics-symbol\" aria-roledescription=\"point\" transform=\"translate(2.6272727272727274,39.5232)\" d=\"M2.7386127875258306,0A2.7386127875258306,2.7386127875258306,0,1,1,-2.7386127875258306,0A2.7386127875258306,2.7386127875258306,0,1,1,2.7386127875258306,0\" stroke=\"rgb(115, 1, 168)\" stroke-width=\"2\" opacity=\"0.7\"/><path aria-label=\"lost_mean: 4.37; profit_mean: 2680.035; S: 400\" role=\"graphics-symbol\" aria-roledescription=\"point\" transform=\"translate(3.972727272727273,47.99872727272725)\" d=\"M2.7386127875258306,0A2.7386127875258306,2.7386127875258306,0,1,1,-2.7386127875258306,0A2.7386127875258306,2.7386127875258306,0,1,1,2.7386127875258306,0\" stroke=\"rgb(156, 23, 158)\" stroke-width=\"2\" opacity=\"0.7\"/><path aria-label=\"lost_mean: 3.27; profit_mean: 2227.969; S: 500\" role=\"graphics-symbol\" aria-roledescription=\"point\" transform=\"translate(2.9727272727272727,64.4374909090909)\" d=\"M2.7386127875258306,0A2.7386127875258306,2.7386127875258306,0,1,1,-2.7386127875258306,0A2.7386127875258306,2.7386127875258306,0,1,1,2.7386127875258306,0\" stroke=\"rgb(189, 55, 133)\" stroke-width=\"2\" opacity=\"0.7\"/><path aria-label=\"lost_mean: 0.92; profit_mean: 1771.845; S: 600\" role=\"graphics-symbol\" aria-roledescription=\"point\" transform=\"translate(0.8363636363636364,81.02381818181816)\" d=\"M2.7386127875258306,0A2.7386127875258306,2.7386127875258306,0,1,1,-2.7386127875258306,0A2.7386127875258306,2.7386127875258306,0,1,1,2.7386127875258306,0\" stroke=\"rgb(216, 87, 108)\" stroke-width=\"2\" opacity=\"0.7\"/><path aria-label=\"lost_mean: 0.75; profit_mean: 1545.762; S: 700\" role=\"graphics-symbol\" aria-roledescription=\"point\" transform=\"translate(0.6818181818181818,89.24501818181818)\" d=\"M2.7386127875258306,0A2.7386127875258306,2.7386127875258306,0,1,1,-2.7386127875258306,0A2.7386127875258306,2.7386127875258306,0,1,1,2.7386127875258306,0\" stroke=\"rgb(237, 121, 83)\" stroke-width=\"2\" opacity=\"0.7\"/><path aria-label=\"lost_mean: 2.17; profit_mean: 722.494; S: 800\" role=\"graphics-symbol\" aria-roledescription=\"point\" transform=\"translate(1.9727272727272724,119.18203636363639)\" d=\"M2.7386127875258306,0A2.7386127875258306,2.7386127875258306,0,1,1,-2.7386127875258306,0A2.7386127875258306,2.7386127875258306,0,1,1,2.7386127875258306,0\" stroke=\"rgb(251, 158, 59)\" stroke-width=\"2\" opacity=\"0.7\"/><path aria-label=\"lost_mean: 1.94; profit_mean: 59.79; S: 900\" role=\"graphics-symbol\" aria-roledescription=\"point\" transform=\"translate(1.7636363636363637,143.28036363636366)\" d=\"M2.7386127875258306,0A2.7386127875258306,2.7386127875258306,0,1,1,-2.7386127875258306,0A2.7386127875258306,2.7386127875258306,0,1,1,2.7386127875258306,0\" stroke=\"rgb(253, 201, 38)\" stroke-width=\"2\" opacity=\"0.7\"/><path aria-label=\"lost_mean: 1.12; profit_mean: 268.157; S: 1000\" role=\"graphics-symbol\" aria-roledescription=\"point\" transform=\"translate(1.0181818181818183,135.7033818181818)\" d=\"M2.7386127875258306,0A2.7386127875258306,2.7386127875258306,0,1,1,-2.7386127875258306,0A2.7386127875258306,2.7386127875258306,0,1,1,2.7386127875258306,0\" stroke=\"rgb(240, 249, 33)\" stroke-width=\"2\" opacity=\"0.7\"/><path aria-label=\"lost_mean: 1.83; profit_mean: 1970.987; S: 200\" role=\"graphics-symbol\" aria-roledescription=\"point\" transform=\"translate(1.6636363636363636,73.7822909090909)\" d=\"M2.7386127875258306,0A2.7386127875258306,2.7386127875258306,0,1,1,-2.7386127875258306,0A2.7386127875258306,2.7386127875258306,0,1,1,2.7386127875258306,0\" stroke=\"rgb(71, 3, 159)\" stroke-width=\"2\" opacity=\"0.7\"/><path aria-label=\"lost_mean: 2.02; profit_mean: 2671.952; S: 300\" role=\"graphics-symbol\" aria-roledescription=\"point\" transform=\"translate(1.8363636363636364,48.292654545454525)\" d=\"M2.7386127875258306,0A2.7386127875258306,2.7386127875258306,0,1,1,-2.7386127875258306,0A2.7386127875258306,2.7386127875258306,0,1,1,2.7386127875258306,0\" stroke=\"rgb(115, 1, 168)\" stroke-width=\"2\" opacity=\"0.7\"/><path aria-label=\"lost_mean: 1.22; profit_mean: 2497.744; S: 400\" role=\"graphics-symbol\" aria-roledescription=\"point\" transform=\"translate(1.1090909090909091,54.627490909090916)\" d=\"M2.7386127875258306,0A2.7386127875258306,2.7386127875258306,0,1,1,-2.7386127875258306,0A2.7386127875258306,2.7386127875258306,0,1,1,2.7386127875258306,0\" stroke=\"rgb(156, 23, 158)\" stroke-width=\"2\" opacity=\"0.7\"/><path aria-label=\"lost_mean: 0.56; profit_mean: 2149.314; S: 500\" role=\"graphics-symbol\" aria-roledescription=\"point\" transform=\"translate(0.5090909090909091,67.29767272727274)\" d=\"M2.7386127875258306,0A2.7386127875258306,2.7386127875258306,0,1,1,-2.7386127875258306,0A2.7386127875258306,2.7386127875258306,0,1,1,2.7386127875258306,0\" stroke=\"rgb(189, 55, 133)\" stroke-width=\"2\" opacity=\"0.7\"/><path aria-label=\"lost_mean: 1.99; profit_mean: 1814.606; S: 600\" role=\"graphics-symbol\" aria-roledescription=\"point\" transform=\"translate(1.809090909090909,79.46887272727274)\" d=\"M2.7386127875258306,0A2.7386127875258306,2.7386127875258306,0,1,1,-2.7386127875258306,0A2.7386127875258306,2.7386127875258306,0,1,1,2.7386127875258306,0\" stroke=\"rgb(216, 87, 108)\" stroke-width=\"2\" opacity=\"0.7\"/><path aria-label=\"lost_mean: 0.28; profit_mean: 1134.703; S: 700\" role=\"graphics-symbol\" aria-roledescription=\"point\" transform=\"translate(0.2545454545454546,104.1926181818182)\" d=\"M2.7386127875258306,0A2.7386127875258306,2.7386127875258306,0,1,1,-2.7386127875258306,0A2.7386127875258306,2.7386127875258306,0,1,1,2.7386127875258306,0\" stroke=\"rgb(237, 121, 83)\" stroke-width=\"2\" opacity=\"0.7\"/><path aria-label=\"lost_mean: 1.81; profit_mean: 737.257; S: 800\" role=\"graphics-symbol\" aria-roledescription=\"point\" transform=\"translate(1.6454545454545455,118.6452)\" d=\"M2.7386127875258306,0A2.7386127875258306,2.7386127875258306,0,1,1,-2.7386127875258306,0A2.7386127875258306,2.7386127875258306,0,1,1,2.7386127875258306,0\" stroke=\"rgb(251, 158, 59)\" stroke-width=\"2\" opacity=\"0.7\"/><path aria-label=\"lost_mean: 0.44; profit_mean: −37.01; S: 900\" role=\"graphics-symbol\" aria-roledescription=\"point\" transform=\"translate(0.4,146.80036363636364)\" d=\"M2.7386127875258306,0A2.7386127875258306,2.7386127875258306,0,1,1,-2.7386127875258306,0A2.7386127875258306,2.7386127875258306,0,1,1,2.7386127875258306,0\" stroke=\"rgb(253, 201, 38)\" stroke-width=\"2\" opacity=\"0.7\"/><path aria-label=\"lost_mean: 1.6; profit_mean: −236.916; S: 1000\" role=\"graphics-symbol\" aria-roledescription=\"point\" transform=\"translate(1.4545454545454546,154.06967272727275)\" d=\"M2.7386127875258306,0A2.7386127875258306,2.7386127875258306,0,1,1,-2.7386127875258306,0A2.7386127875258306,2.7386127875258306,0,1,1,2.7386127875258306,0\" stroke=\"rgb(240, 249, 33)\" stroke-width=\"2\" opacity=\"0.7\"/><path aria-label=\"lost_mean: 3.27; profit_mean: 1034.612; S: 200\" role=\"graphics-symbol\" aria-roledescription=\"point\" transform=\"translate(2.9727272727272727,107.83229090909091)\" d=\"M2.7386127875258306,0A2.7386127875258306,2.7386127875258306,0,1,1,-2.7386127875258306,0A2.7386127875258306,2.7386127875258306,0,1,1,2.7386127875258306,0\" stroke=\"rgb(71, 3, 159)\" stroke-width=\"2\" opacity=\"0.7\"/><path aria-label=\"lost_mean: 0.71; profit_mean: 2395.316; S: 300\" role=\"graphics-symbol\" aria-roledescription=\"point\" transform=\"translate(0.6454545454545454,58.352145454545436)\" d=\"M2.7386127875258306,0A2.7386127875258306,2.7386127875258306,0,1,1,-2.7386127875258306,0A2.7386127875258306,2.7386127875258306,0,1,1,2.7386127875258306,0\" stroke=\"rgb(115, 1, 168)\" stroke-width=\"2\" opacity=\"0.7\"/><path aria-label=\"lost_mean: 1.75; profit_mean: 2297.704; S: 400\" role=\"graphics-symbol\" aria-roledescription=\"point\" transform=\"translate(1.5909090909090908,61.90167272727272)\" d=\"M2.7386127875258306,0A2.7386127875258306,2.7386127875258306,0,1,1,-2.7386127875258306,0A2.7386127875258306,2.7386127875258306,0,1,1,2.7386127875258306,0\" stroke=\"rgb(156, 23, 158)\" stroke-width=\"2\" opacity=\"0.7\"/><path aria-label=\"lost_mean: 0.36; profit_mean: 1958.382; S: 500\" role=\"graphics-symbol\" aria-roledescription=\"point\" transform=\"translate(0.32727272727272727,74.24065454545455)\" d=\"M2.7386127875258306,0A2.7386127875258306,2.7386127875258306,0,1,1,-2.7386127875258306,0A2.7386127875258306,2.7386127875258306,0,1,1,2.7386127875258306,0\" stroke=\"rgb(189, 55, 133)\" stroke-width=\"2\" opacity=\"0.7\"/><path aria-label=\"lost_mean: 0.67; profit_mean: 1649.59; S: 600\" role=\"graphics-symbol\" aria-roledescription=\"point\" transform=\"translate(0.6090909090909091,85.46945454545455)\" d=\"M2.7386127875258306,0A2.7386127875258306,2.7386127875258306,0,1,1,-2.7386127875258306,0A2.7386127875258306,2.7386127875258306,0,1,1,2.7386127875258306,0\" stroke=\"rgb(216, 87, 108)\" stroke-width=\"2\" opacity=\"0.7\"/><path aria-label=\"lost_mean: 0.02; profit_mean: 917.809; S: 700\" role=\"graphics-symbol\" aria-roledescription=\"point\" transform=\"translate(0.018181818181818184,112.07967272727272)\" d=\"M2.7386127875258306,0A2.7386127875258306,2.7386127875258306,0,1,1,-2.7386127875258306,0A2.7386127875258306,2.7386127875258306,0,1,1,2.7386127875258306,0\" stroke=\"rgb(237, 121, 83)\" stroke-width=\"2\" opacity=\"0.7\"/><path aria-label=\"lost_mean: 1.83; profit_mean: 725.958; S: 800\" role=\"graphics-symbol\" aria-roledescription=\"point\" transform=\"translate(1.6636363636363636,119.05607272727275)\" d=\"M2.7386127875258306,0A2.7386127875258306,2.7386127875258306,0,1,1,-2.7386127875258306,0A2.7386127875258306,2.7386127875258306,0,1,1,2.7386127875258306,0\" stroke=\"rgb(251, 158, 59)\" stroke-width=\"2\" opacity=\"0.7\"/><path aria-label=\"lost_mean: 1.06; profit_mean: −147.615; S: 900\" role=\"graphics-symbol\" aria-roledescription=\"point\" transform=\"translate(0.9636363636363637,150.82236363636366)\" d=\"M2.7386127875258306,0A2.7386127875258306,2.7386127875258306,0,1,1,-2.7386127875258306,0A2.7386127875258306,2.7386127875258306,0,1,1,2.7386127875258306,0\" stroke=\"rgb(253, 201, 38)\" stroke-width=\"2\" opacity=\"0.7\"/><path aria-label=\"lost_mean: 1.49; profit_mean: −507.847; S: 1000\" role=\"graphics-symbol\" aria-roledescription=\"point\" transform=\"translate(1.3545454545454545,163.92170909090908)\" d=\"M2.7386127875258306,0A2.7386127875258306,2.7386127875258306,0,1,1,-2.7386127875258306,0A2.7386127875258306,2.7386127875258306,0,1,1,2.7386127875258306,0\" stroke=\"rgb(240, 249, 33)\" stroke-width=\"2\" opacity=\"0.7\"/><path aria-label=\"lost_mean: 0.68; profit_mean: 2051.976; S: 300\" role=\"graphics-symbol\" aria-roledescription=\"point\" transform=\"translate(0.6181818181818183,70.83723636363636)\" d=\"M2.7386127875258306,0A2.7386127875258306,2.7386127875258306,0,1,1,-2.7386127875258306,0A2.7386127875258306,2.7386127875258306,0,1,1,2.7386127875258306,0\" stroke=\"rgb(115, 1, 168)\" stroke-width=\"2\" opacity=\"0.7\"/><path aria-label=\"lost_mean: 0.82; profit_mean: 2142.908; S: 400\" role=\"graphics-symbol\" aria-roledescription=\"point\" transform=\"translate(0.7454545454545454,67.5306181818182)\" d=\"M2.7386127875258306,0A2.7386127875258306,2.7386127875258306,0,1,1,-2.7386127875258306,0A2.7386127875258306,2.7386127875258306,0,1,1,2.7386127875258306,0\" stroke=\"rgb(156, 23, 158)\" stroke-width=\"2\" opacity=\"0.7\"/><path aria-label=\"lost_mean: 0.79; profit_mean: 1773.413; S: 500\" role=\"graphics-symbol\" aria-roledescription=\"point\" transform=\"translate(0.7181818181818183,80.9668)\" d=\"M2.7386127875258306,0A2.7386127875258306,2.7386127875258306,0,1,1,-2.7386127875258306,0A2.7386127875258306,2.7386127875258306,0,1,1,2.7386127875258306,0\" stroke=\"rgb(189, 55, 133)\" stroke-width=\"2\" opacity=\"0.7\"/><path aria-label=\"lost_mean: 1.25; profit_mean: 1365.214; S: 600\" role=\"graphics-symbol\" aria-roledescription=\"point\" transform=\"translate(1.1363636363636365,95.8104)\" d=\"M2.7386127875258306,0A2.7386127875258306,2.7386127875258306,0,1,1,-2.7386127875258306,0A2.7386127875258306,2.7386127875258306,0,1,1,2.7386127875258306,0\" stroke=\"rgb(216, 87, 108)\" stroke-width=\"2\" opacity=\"0.7\"/><path aria-label=\"lost_mean: 0.72; profit_mean: 807.732; S: 700\" role=\"graphics-symbol\" aria-roledescription=\"point\" transform=\"translate(0.6545454545454545,116.08247272727272)\" d=\"M2.7386127875258306,0A2.7386127875258306,2.7386127875258306,0,1,1,-2.7386127875258306,0A2.7386127875258306,2.7386127875258306,0,1,1,2.7386127875258306,0\" stroke=\"rgb(237, 121, 83)\" stroke-width=\"2\" opacity=\"0.7\"/><path aria-label=\"lost_mean: 0.33; profit_mean: 690.907; S: 800\" role=\"graphics-symbol\" aria-roledescription=\"point\" transform=\"translate(0.3,120.33065454545455)\" d=\"M2.7386127875258306,0A2.7386127875258306,2.7386127875258306,0,1,1,-2.7386127875258306,0A2.7386127875258306,2.7386127875258306,0,1,1,2.7386127875258306,0\" stroke=\"rgb(251, 158, 59)\" stroke-width=\"2\" opacity=\"0.7\"/><path aria-label=\"lost_mean: 0.38; profit_mean: −141.55; S: 900\" role=\"graphics-symbol\" aria-roledescription=\"point\" transform=\"translate(0.34545454545454546,150.6018181818182)\" d=\"M2.7386127875258306,0A2.7386127875258306,2.7386127875258306,0,1,1,-2.7386127875258306,0A2.7386127875258306,2.7386127875258306,0,1,1,2.7386127875258306,0\" stroke=\"rgb(253, 201, 38)\" stroke-width=\"2\" opacity=\"0.7\"/><path aria-label=\"lost_mean: 0.52; profit_mean: −772.374; S: 1000\" role=\"graphics-symbol\" aria-roledescription=\"point\" transform=\"translate(0.4727272727272728,173.54087272727276)\" d=\"M2.7386127875258306,0A2.7386127875258306,2.7386127875258306,0,1,1,-2.7386127875258306,0A2.7386127875258306,2.7386127875258306,0,1,1,2.7386127875258306,0\" stroke=\"rgb(240, 249, 33)\" stroke-width=\"2\" opacity=\"0.7\"/><path aria-label=\"lost_mean: 1.5; profit_mean: 1663.152; S: 300\" role=\"graphics-symbol\" aria-roledescription=\"point\" transform=\"translate(1.3636363636363635,84.9762909090909)\" d=\"M2.7386127875258306,0A2.7386127875258306,2.7386127875258306,0,1,1,-2.7386127875258306,0A2.7386127875258306,2.7386127875258306,0,1,1,2.7386127875258306,0\" stroke=\"rgb(115, 1, 168)\" stroke-width=\"2\" opacity=\"0.7\"/><path aria-label=\"lost_mean: 0.7; profit_mean: 1930.973; S: 400\" role=\"graphics-symbol\" aria-roledescription=\"point\" transform=\"translate(0.6363636363636362,75.23734545454546)\" d=\"M2.7386127875258306,0A2.7386127875258306,2.7386127875258306,0,1,1,-2.7386127875258306,0A2.7386127875258306,2.7386127875258306,0,1,1,2.7386127875258306,0\" stroke=\"rgb(156, 23, 158)\" stroke-width=\"2\" opacity=\"0.7\"/><path aria-label=\"lost_mean: 1.65; profit_mean: 1677.326; S: 500\" role=\"graphics-symbol\" aria-roledescription=\"point\" transform=\"translate(1.5,84.46087272727272)\" d=\"M2.7386127875258306,0A2.7386127875258306,2.7386127875258306,0,1,1,-2.7386127875258306,0A2.7386127875258306,2.7386127875258306,0,1,1,2.7386127875258306,0\" stroke=\"rgb(189, 55, 133)\" stroke-width=\"2\" opacity=\"0.7\"/><path aria-label=\"lost_mean: 2.13; profit_mean: 1233.007; S: 600\" role=\"graphics-symbol\" aria-roledescription=\"point\" transform=\"translate(1.9363636363636365,100.61792727272729)\" d=\"M2.7386127875258306,0A2.7386127875258306,2.7386127875258306,0,1,1,-2.7386127875258306,0A2.7386127875258306,2.7386127875258306,0,1,1,2.7386127875258306,0\" stroke=\"rgb(216, 87, 108)\" stroke-width=\"2\" opacity=\"0.7\"/><path aria-label=\"lost_mean: 0.93; profit_mean: 808.23; S: 700\" role=\"graphics-symbol\" aria-roledescription=\"point\" transform=\"translate(0.8454545454545455,116.06436363636364)\" d=\"M2.7386127875258306,0A2.7386127875258306,2.7386127875258306,0,1,1,-2.7386127875258306,0A2.7386127875258306,2.7386127875258306,0,1,1,2.7386127875258306,0\" stroke=\"rgb(237, 121, 83)\" stroke-width=\"2\" opacity=\"0.7\"/><path aria-label=\"lost_mean: 0.1; profit_mean: 534.7; S: 800\" role=\"graphics-symbol\" aria-roledescription=\"point\" transform=\"translate(0.09090909090909091,126.01090909090908)\" d=\"M2.7386127875258306,0A2.7386127875258306,2.7386127875258306,0,1,1,-2.7386127875258306,0A2.7386127875258306,2.7386127875258306,0,1,1,2.7386127875258306,0\" stroke=\"rgb(251, 158, 59)\" stroke-width=\"2\" opacity=\"0.7\"/><path aria-label=\"lost_mean: 0.48; profit_mean: −243.113; S: 900\" role=\"graphics-symbol\" aria-roledescription=\"point\" transform=\"translate(0.4363636363636364,154.2950181818182)\" d=\"M2.7386127875258306,0A2.7386127875258306,2.7386127875258306,0,1,1,-2.7386127875258306,0A2.7386127875258306,2.7386127875258306,0,1,1,2.7386127875258306,0\" stroke=\"rgb(253, 201, 38)\" stroke-width=\"2\" opacity=\"0.7\"/><path aria-label=\"lost_mean: 1.32; profit_mean: −954.18; S: 1000\" role=\"graphics-symbol\" aria-roledescription=\"point\" transform=\"translate(1.2,180.152)\" d=\"M2.7386127875258306,0A2.7386127875258306,2.7386127875258306,0,1,1,-2.7386127875258306,0A2.7386127875258306,2.7386127875258306,0,1,1,2.7386127875258306,0\" stroke=\"rgb(240, 249, 33)\" stroke-width=\"2\" opacity=\"0.7\"/><path aria-label=\"lost_mean: 0.4; profit_mean: 1026.938; S: 300\" role=\"graphics-symbol\" aria-roledescription=\"point\" transform=\"translate(0.36363636363636365,108.11134545454544)\" d=\"M2.7386127875258306,0A2.7386127875258306,2.7386127875258306,0,1,1,-2.7386127875258306,0A2.7386127875258306,2.7386127875258306,0,1,1,2.7386127875258306,0\" stroke=\"rgb(115, 1, 168)\" stroke-width=\"2\" opacity=\"0.7\"/><path aria-label=\"lost_mean: 0.1; profit_mean: 1651.143; S: 400\" role=\"graphics-symbol\" aria-roledescription=\"point\" transform=\"translate(0.09090909090909091,85.41298181818182)\" d=\"M2.7386127875258306,0A2.7386127875258306,2.7386127875258306,0,1,1,-2.7386127875258306,0A2.7386127875258306,2.7386127875258306,0,1,1,2.7386127875258306,0\" stroke=\"rgb(156, 23, 158)\" stroke-width=\"2\" opacity=\"0.7\"/><path aria-label=\"lost_mean: 0.21; profit_mean: 1488.851; S: 500\" role=\"graphics-symbol\" aria-roledescription=\"point\" transform=\"translate(0.19090909090909092,91.3145090909091)\" d=\"M2.7386127875258306,0A2.7386127875258306,2.7386127875258306,0,1,1,-2.7386127875258306,0A2.7386127875258306,2.7386127875258306,0,1,1,2.7386127875258306,0\" stroke=\"rgb(189, 55, 133)\" stroke-width=\"2\" opacity=\"0.7\"/><path aria-label=\"lost_mean: 2.18; profit_mean: 1213.382; S: 600\" role=\"graphics-symbol\" aria-roledescription=\"point\" transform=\"translate(1.981818181818182,101.33156363636364)\" d=\"M2.7386127875258306,0A2.7386127875258306,2.7386127875258306,0,1,1,-2.7386127875258306,0A2.7386127875258306,2.7386127875258306,0,1,1,2.7386127875258306,0\" stroke=\"rgb(216, 87, 108)\" stroke-width=\"2\" opacity=\"0.7\"/><path aria-label=\"lost_mean: 1.76; profit_mean: 799.033; S: 700\" role=\"graphics-symbol\" aria-roledescription=\"point\" transform=\"translate(1.6,116.39880000000001)\" d=\"M2.7386127875258306,0A2.7386127875258306,2.7386127875258306,0,1,1,-2.7386127875258306,0A2.7386127875258306,2.7386127875258306,0,1,1,2.7386127875258306,0\" stroke=\"rgb(237, 121, 83)\" stroke-width=\"2\" opacity=\"0.7\"/><path aria-label=\"lost_mean: 0.03; profit_mean: 168.525; S: 800\" role=\"graphics-symbol\" aria-roledescription=\"point\" transform=\"translate(0.027272727272727275,139.32636363636362)\" d=\"M2.7386127875258306,0A2.7386127875258306,2.7386127875258306,0,1,1,-2.7386127875258306,0A2.7386127875258306,2.7386127875258306,0,1,1,2.7386127875258306,0\" stroke=\"rgb(251, 158, 59)\" stroke-width=\"2\" opacity=\"0.7\"/><path aria-label=\"lost_mean: 0.96; profit_mean: −275.165; S: 900\" role=\"graphics-symbol\" aria-roledescription=\"point\" transform=\"translate(0.8727272727272728,155.46054545454547)\" d=\"M2.7386127875258306,0A2.7386127875258306,2.7386127875258306,0,1,1,-2.7386127875258306,0A2.7386127875258306,2.7386127875258306,0,1,1,2.7386127875258306,0\" stroke=\"rgb(253, 201, 38)\" stroke-width=\"2\" opacity=\"0.7\"/><path aria-label=\"lost_mean: 0; profit_mean: −1019.128; S: 1000\" role=\"graphics-symbol\" aria-roledescription=\"point\" transform=\"translate(0,182.51374545454547)\" d=\"M2.7386127875258306,0A2.7386127875258306,2.7386127875258306,0,1,1,-2.7386127875258306,0A2.7386127875258306,2.7386127875258306,0,1,1,2.7386127875258306,0\" stroke=\"rgb(240, 249, 33)\" stroke-width=\"2\" opacity=\"0.7\"/></g><g class=\"mark-group role-legend\" role=\"graphics-symbol\" aria-roledescription=\"legend\" aria-label=\"Gradient legend titled 'S' for stroke color with values from 100 to 1,000\"><g transform=\"translate(218,0)\"><path class=\"background\" aria-hidden=\"true\" d=\"M0,0h45v216h-45Z\" pointer-events=\"none\"/><g><g class=\"mark-group role-legend-entry\"><g transform=\"translate(0,16)\"><path class=\"background\" aria-hidden=\"true\" d=\"M0,0h0v0h0Z\" pointer-events=\"none\"/><g><g class=\"mark-rect role-legend-gradient\" pointer-events=\"none\"><path d=\"M0,0h16v200h-16Z\" fill=\"url(#gradient_0)\" stroke=\"#ddd\" stroke-width=\"0\" opacity=\"0.7\"/></g><g class=\"mark-text role-legend-label\" pointer-events=\"none\"><text text-anchor=\"start\" transform=\"translate(18,180.77777777777777)\" font-family=\"sans-serif\" font-size=\"10px\" fill=\"#000\" opacity=\"1\">200</text><text text-anchor=\"start\" transform=\"translate(18,136.33333333333334)\" font-family=\"sans-serif\" font-size=\"10px\" fill=\"#000\" opacity=\"1\">400</text><text text-anchor=\"start\" transform=\"translate(18,91.88888888888889)\" font-family=\"sans-serif\" font-size=\"10px\" fill=\"#000\" opacity=\"1\">600</text><text text-anchor=\"start\" transform=\"translate(18,47.44444444444444)\" font-family=\"sans-serif\" font-size=\"10px\" fill=\"#000\" opacity=\"1\">800</text><text text-anchor=\"start\" transform=\"translate(18,8)\" font-family=\"sans-serif\" font-size=\"10px\" fill=\"#000\" opacity=\"1\">1,000</text></g></g><path class=\"foreground\" aria-hidden=\"true\" d=\"\" pointer-events=\"none\" display=\"none\"/></g></g><g class=\"mark-text role-legend-title\" pointer-events=\"none\"><text text-anchor=\"start\" transform=\"translate(0,9)\" font-family=\"sans-serif\" font-size=\"11px\" font-weight=\"bold\" fill=\"#000\" opacity=\"1\">S</text></g></g><path class=\"foreground\" aria-hidden=\"true\" d=\"\" pointer-events=\"none\" display=\"none\"/></g></g></g><path class=\"foreground\" aria-hidden=\"true\" d=\"\" display=\"none\"/></g></g></g><defs><linearGradient id=\"gradient_0\" x1=\"0\" x2=\"0\" y1=\"1\" y2=\"0\"><stop offset=\"0\" stop-color=\"rgb(13, 8, 135)\"/><stop offset=\"0.05555555555555555\" stop-color=\"rgb(46, 5, 149)\"/><stop offset=\"0.1111111111111111\" stop-color=\"rgb(71, 3, 159)\"/><stop offset=\"0.16666666666666666\" stop-color=\"rgb(93, 1, 166)\"/><stop offset=\"0.2222222222222222\" stop-color=\"rgb(115, 1, 168)\"/><stop offset=\"0.2777777777777778\" stop-color=\"rgb(136, 8, 166)\"/><stop offset=\"0.3333333333333333\" stop-color=\"rgb(156, 23, 158)\"/><stop offset=\"0.3888888888888889\" stop-color=\"rgb(174, 39, 147)\"/><stop offset=\"0.4444444444444444\" stop-color=\"rgb(189, 55, 133)\"/><stop offset=\"0.5\" stop-color=\"rgb(203, 71, 121)\"/><stop offset=\"0.5555555555555556\" stop-color=\"rgb(216, 87, 108)\"/><stop offset=\"0.6111111111111112\" stop-color=\"rgb(227, 103, 96)\"/><stop offset=\"0.6666666666666666\" stop-color=\"rgb(237, 121, 83)\"/><stop offset=\"0.7222222222222222\" stop-color=\"rgb(245, 139, 71)\"/><stop offset=\"0.7777777777777778\" stop-color=\"rgb(251, 158, 59)\"/><stop offset=\"0.8333333333333334\" stop-color=\"rgb(253, 179, 47)\"/><stop offset=\"0.8888888888888888\" stop-color=\"rgb(253, 201, 38)\"/><stop offset=\"0.9444444444444444\" stop-color=\"rgb(248, 225, 37)\"/><stop offset=\"1\" stop-color=\"rgb(240, 249, 33)\"/></linearGradient></defs></svg>\n"
      ],
      "text/plain": [
       "@vlplot(\n",
       "    mark=\"point\",\n",
       "    encoding={\n",
       "        x={\n",
       "            field=\"lost_mean\"\n",
       "        },\n",
       "        y={\n",
       "            field=\"profit_mean\"\n",
       "        },\n",
       "        color={\n",
       "            scale={\n",
       "                scheme=\"plasma\"\n",
       "            },\n",
       "            field=\"S\"\n",
       "        }\n",
       "    },\n",
       "    data={\n",
       "        values=...\n",
       "    }\n",
       ")"
      ]
     },
     "execution_count": 87,
     "metadata": {},
     "output_type": "execute_result"
    }
   ],
   "source": [
    "using VegaLite\n",
    "df |> @vlplot(:point, x=:lost_mean, y=:profit_mean, color={:S, scale={scheme=:plasma}})"
   ]
  },
  {
   "cell_type": "markdown",
   "metadata": {},
   "source": [
    "# SIMULATION approach"
   ]
  },
  {
   "cell_type": "code",
   "execution_count": null,
   "metadata": {},
   "outputs": [],
   "source": [
    "# code which simulates the operation of the warehouse system and optimizes the level of the minimum and maximum order:"
   ]
  },
  {
   "cell_type": "code",
   "execution_count": 24,
   "metadata": {},
   "outputs": [
    {
     "data": {
      "text/plain": [
       "simulateOneRun (generic function with 1 method)"
      ]
     },
     "execution_count": 24,
     "metadata": {},
     "output_type": "execute_result"
    }
   ],
   "source": [
    "using Distributions\n",
    "\n",
    "function simulateOneRun(m, s, S;\n",
    "    h = 0.1, #koszt przechowywania jednostki towaru\n",
    "    c = 2.0, #jednostkowy zysk ze sprzedaży\n",
    "    p = 0.50, #prawdopodobieństwo dostawy\n",
    "    K = 40, #koszt stałego zamówienia\n",
    "    k = 1.0, #koszt zmiennej ilości zamówionego towaru\n",
    "    init_S = 100, #początkowa ilość towaru w magazynie\n",
    "    average_demand = 20) #średnie dzienne zapotrzebowanie\n",
    "    \n",
    "    Xⱼ = init_S #ilość towaru w magazynie\n",
    "    profit = 0.0 #początkowy zysk\n",
    "    lost_orders = 0.0 #ilość utraconych zamówień\n",
    "    warehouse_levels = Int[] #historia stanu magazynu\n",
    "    pois = Distributions.Poisson(average_demand) #rozkład Poissona dla dziennej liczby sprzedaży\n",
    "    for day in 1:m #iterujemy po dniach\n",
    "        if Xⱼ < s #jeśli ilość towaru w magazynie jest mniejsza niż minimalny poziom zamówienia s\n",
    "            if rand() < p #jeśli dostawa zostanie dostarczona\n",
    "                profit -= K + (S-Xⱼ)*k #koszt zamówienia\n",
    "                Xⱼ = S #dodajemy ilość towaru odpowiadającą docelowemu poziomowi magazynu S\n",
    "            end\n",
    "        end\n",
    "        push!(warehouse_levels, Xⱼ) #zapisujemy aktualny stan magazynu\n",
    "        demand = rand(pois) #losujemy dzienne zapotrzebowanie na towar\n",
    "        sales = min(Xⱼ, demand) #sprzedajemy towar, który jest dostępny w magazynie\n",
    "        Xⱼ -= sales #zmniejszamy stan magazynu o sprzedaną ilość\n",
    "        @assert Xⱼ >= 0 #sprawdzamy, czy ilość towaru w magazynie nie jest ujemna\n",
    "        lost_order = demand - sales #liczymy ilość utraconych zamówień\n",
    "        @assert lost_order >= 0 #sprawdzamy, czy ilość utraconych zamówień nie jest ujemna\n",
    "        profit += sales*c - (Xⱼ-sales)*h #dodajemy zysk ze sprzedaży i koszty przechowywania\n",
    "        lost_orders += lost_order #dodajemy ilość utraconych zamówień\n",
    "    end\n",
    "    \n",
    "    (profit=profit, lost_orders=lost_orders, warehouse_levels=warehouse_levels)\n",
    "end\n"
   ]
  },
  {
   "cell_type": "code",
   "execution_count": 25,
   "metadata": {},
   "outputs": [
    {
     "data": {
      "text/plain": [
       "simulateManyRuns (generic function with 1 method)"
      ]
     },
     "execution_count": 25,
     "metadata": {},
     "output_type": "execute_result"
    }
   ],
   "source": [
    "#The simulateManyRuns function takes in the same arguments as simulateOneRun, but also takes additional arguments:\n",
    "\n",
    "#n: number of runs to simulate for each combination of s and S\n",
    "#s_min and s_max: range of values for s to simulate over\n",
    "#S_min and S_max: range of values for S to simulate over\n",
    "#It then iterates over all combinations of s and S within the given ranges, \n",
    "#and simulates n runs for each combination using the simulateOneRun function. \n",
    "#The results for each run are stored in separate vectors, which are returned as a tuple.\n",
    "function simulateManyRuns(n, m, s_range, S_range; kwargs...)\n",
    "    profits = Float64[]\n",
    "    lost_orders = Float64[]\n",
    "    s_values = Int[]\n",
    "    S_values = Int[]\n",
    "    warehouse_levels = Vector{Int}[]\n",
    "    \n",
    "    for s in s_range\n",
    "        for S in S_range\n",
    "            for run in 1:n\n",
    "                res = simulateOneRun(m, s, S; kwargs...)\n",
    "                push!(profits, res.profit)\n",
    "                push!(lost_orders, res.lost_orders)\n",
    "                push!(warehouse_levels, res.warehouse_levels)\n",
    "                push!(s_values, s)\n",
    "                push!(S_values, S)\n",
    "            end\n",
    "        end\n",
    "    end\n",
    "    \n",
    "    return (profits=profits,\n",
    "            lost_orders=lost_orders,\n",
    "            s_values=s_values,\n",
    "            S_values=S_values,\n",
    "            warehouse_levels=warehouse_levels)\n",
    "end\n"
   ]
  },
  {
   "cell_type": "code",
   "execution_count": 30,
   "metadata": {},
   "outputs": [
    {
     "data": {
      "text/plain": [
       "(profits = [1008.8, 1250.8999999999999, 1136.7, 1115.5, 1204.7, 1194.9000000000003, 1150.6, 1023.9000000000001, 1049.2, 1054.3999999999999  …  1235.9, 1094.0, 975.0000000000002, 1230.3000000000002, 1182.0000000000002, 1139.2, 1182.9, 1242.5000000000002, 1252.6000000000001, 1374.8999999999999], lost_orders = [107.0, 41.0, 23.0, 122.0, 42.0, 33.0, 86.0, 75.0, 69.0, 123.0  …  0.0, 0.0, 0.0, 0.0, 11.0, 0.0, 0.0, 29.0, 0.0, 0.0], s_values = [20, 20, 20, 20, 20, 20, 20, 20, 20, 20  …  50, 50, 50, 50, 50, 50, 50, 50, 50, 50], S_values = [100, 100, 100, 100, 100, 100, 100, 100, 100, 100  …  300, 300, 300, 300, 300, 300, 300, 300, 300, 300], warehouse_levels = [[100, 79, 60, 38, 20, 4, 0, 0, 100, 81  …  32, 14, 100, 75, 55, 43, 22, 100, 74, 54], [100, 81, 62, 39, 12, 100, 74, 63, 48, 27  …  56, 32, 16, 0, 100, 77, 52, 27, 100, 76], [100, 82, 52, 34, 12, 0, 100, 82, 60, 42  …  23, 100, 86, 67, 42, 21, 100, 74, 58, 38], [100, 78, 51, 36, 17, 100, 72, 50, 26, 100  …  48, 27, 6, 0, 0, 100, 85, 65, 45, 21], [100, 81, 66, 47, 35, 100, 75, 60, 39, 22  …  10, 100, 69, 50, 33, 9, 100, 76, 59, 38], [100, 81, 67, 45, 19, 100, 87, 65, 43, 100  …  49, 35, 10, 100, 87, 71, 53, 32, 10, 0], [100, 81, 60, 32, 100, 78, 57, 35, 13, 0  …  46, 20, 100, 70, 44, 26, 100, 83, 70, 50], [100, 78, 55, 34, 100, 84, 60, 40, 24, 7  …  26, 11, 0, 100, 84, 75, 50, 31, 100, 83], [100, 68, 43, 22, 100, 75, 61, 43, 100, 82  …  36, 22, 2, 0, 0, 100, 84, 62, 39, 100], [100, 86, 68, 46, 24, 100, 84, 64, 38, 100  …  0, 0, 0, 100, 85, 61, 47, 35, 17, 0]  …  [100, 81, 54, 300, 287, 272, 249, 231, 210, 194  …  252, 242, 223, 208, 179, 151, 131, 114, 93, 78], [100, 74, 51, 31, 300, 278, 248, 230, 207, 190  …  207, 187, 164, 149, 128, 116, 94, 71, 300, 276], [100, 78, 300, 288, 268, 252, 233, 215, 196, 179  …  244, 222, 200, 172, 153, 128, 109, 94, 73, 300], [100, 79, 61, 300, 279, 261, 239, 218, 205, 189  …  242, 223, 207, 190, 168, 146, 131, 114, 90, 74], [100, 87, 69, 54, 300, 284, 269, 241, 217, 198  …  282, 265, 249, 225, 209, 189, 165, 144, 125, 101], [100, 84, 69, 46, 300, 279, 263, 250, 232, 215  …  275, 255, 240, 225, 207, 189, 168, 146, 124, 102], [100, 84, 62, 44, 300, 280, 258, 237, 226, 208  …  246, 230, 208, 189, 170, 149, 136, 112, 93, 73], [100, 76, 52, 37, 17, 0, 300, 273, 247, 228  …  300, 282, 257, 236, 214, 200, 182, 163, 142, 124], [100, 74, 50, 33, 300, 290, 269, 252, 237, 211  …  278, 265, 244, 227, 206, 186, 164, 138, 119, 106], [100, 81, 54, 33, 300, 282, 263, 241, 220, 201  …  250, 234, 201, 184, 163, 148, 129, 110, 87, 55]])"
      ]
     },
     "execution_count": 30,
     "metadata": {},
     "output_type": "execute_result"
    }
   ],
   "source": [
    "# parametry symulacji\n",
    "m = 30 # liczba dni\n",
    "n = 10 # liczba powtórzeń dla każdej kombinacji s i S\n",
    "s_range = 20:5:50 # zakres poziomu minimalnego zamówienia\n",
    "S_range = 100:50:300 # zakres poziomu maksymalnego zamówienia\n",
    "kwargs = Dict(\n",
    "    :h => 0.1,\n",
    "    :c => 4.0,\n",
    "    :p => 0.50,\n",
    "    :K => 100,\n",
    "    :k => 1.0,\n",
    "    :init_S => 100,\n",
    "    :average_demand => 20\n",
    ")\n",
    "\n",
    "# wykonanie symulacji\n",
    "Random.seed!(10)\n",
    "avg_payoffs = simulateManyRuns(n, m, s_range, S_range; kwargs...)"
   ]
  },
  {
   "cell_type": "code",
   "execution_count": 35,
   "metadata": {},
   "outputs": [
    {
     "data": {
      "image/svg+xml": [
       "<?xml version=\"1.0\" encoding=\"utf-8\"?>\n",
       "<svg xmlns=\"http://www.w3.org/2000/svg\" xmlns:xlink=\"http://www.w3.org/1999/xlink\" width=\"600\" height=\"400\" viewBox=\"0 0 2400 1600\">\n",
       "<defs>\n",
       "  <clipPath id=\"clip030\">\n",
       "    <rect x=\"0\" y=\"0\" width=\"2400\" height=\"1600\"/>\n",
       "  </clipPath>\n",
       "</defs>\n",
       "<path clip-path=\"url(#clip030)\" d=\"M0 1600 L2400 1600 L2400 0 L0 0  Z\" fill=\"#ffffff\" fill-rule=\"evenodd\" fill-opacity=\"1\"/>\n",
       "<defs>\n",
       "  <clipPath id=\"clip031\">\n",
       "    <rect x=\"480\" y=\"0\" width=\"1681\" height=\"1600\"/>\n",
       "  </clipPath>\n",
       "</defs>\n",
       "<path clip-path=\"url(#clip030)\" d=\"M199.283 1486.45 L2352.76 1486.45 L2352.76 47.2441 L199.283 47.2441  Z\" fill=\"#ffffff\" fill-rule=\"evenodd\" fill-opacity=\"1\"/>\n",
       "<defs>\n",
       "  <clipPath id=\"clip032\">\n",
       "    <rect x=\"199\" y=\"47\" width=\"2154\" height=\"1440\"/>\n",
       "  </clipPath>\n",
       "</defs>\n",
       "<polyline clip-path=\"url(#clip032)\" style=\"stroke:#000000; stroke-linecap:round; stroke-linejoin:round; stroke-width:2; stroke-opacity:0.1; fill:none\" points=\"254.409,1486.45 254.409,47.2441 \"/>\n",
       "<polyline clip-path=\"url(#clip032)\" style=\"stroke:#000000; stroke-linecap:round; stroke-linejoin:round; stroke-width:2; stroke-opacity:0.1; fill:none\" points=\"836.523,1486.45 836.523,47.2441 \"/>\n",
       "<polyline clip-path=\"url(#clip032)\" style=\"stroke:#000000; stroke-linecap:round; stroke-linejoin:round; stroke-width:2; stroke-opacity:0.1; fill:none\" points=\"1418.64,1486.45 1418.64,47.2441 \"/>\n",
       "<polyline clip-path=\"url(#clip032)\" style=\"stroke:#000000; stroke-linecap:round; stroke-linejoin:round; stroke-width:2; stroke-opacity:0.1; fill:none\" points=\"2000.75,1486.45 2000.75,47.2441 \"/>\n",
       "<polyline clip-path=\"url(#clip030)\" style=\"stroke:#000000; stroke-linecap:round; stroke-linejoin:round; stroke-width:4; stroke-opacity:1; fill:none\" points=\"199.283,1486.45 2352.76,1486.45 \"/>\n",
       "<polyline clip-path=\"url(#clip030)\" style=\"stroke:#000000; stroke-linecap:round; stroke-linejoin:round; stroke-width:4; stroke-opacity:1; fill:none\" points=\"254.409,1486.45 254.409,1467.55 \"/>\n",
       "<polyline clip-path=\"url(#clip030)\" style=\"stroke:#000000; stroke-linecap:round; stroke-linejoin:round; stroke-width:4; stroke-opacity:1; fill:none\" points=\"836.523,1486.45 836.523,1467.55 \"/>\n",
       "<polyline clip-path=\"url(#clip030)\" style=\"stroke:#000000; stroke-linecap:round; stroke-linejoin:round; stroke-width:4; stroke-opacity:1; fill:none\" points=\"1418.64,1486.45 1418.64,1467.55 \"/>\n",
       "<polyline clip-path=\"url(#clip030)\" style=\"stroke:#000000; stroke-linecap:round; stroke-linejoin:round; stroke-width:4; stroke-opacity:1; fill:none\" points=\"2000.75,1486.45 2000.75,1467.55 \"/>\n",
       "<path clip-path=\"url(#clip030)\" d=\"M254.409 1517.37 Q250.798 1517.37 248.97 1520.93 Q247.164 1524.47 247.164 1531.6 Q247.164 1538.71 248.97 1542.27 Q250.798 1545.82 254.409 1545.82 Q258.044 1545.82 259.849 1542.27 Q261.678 1538.71 261.678 1531.6 Q261.678 1524.47 259.849 1520.93 Q258.044 1517.37 254.409 1517.37 M254.409 1513.66 Q260.22 1513.66 263.275 1518.27 Q266.354 1522.85 266.354 1531.6 Q266.354 1540.33 263.275 1544.94 Q260.22 1549.52 254.409 1549.52 Q248.599 1549.52 245.521 1544.94 Q242.465 1540.33 242.465 1531.6 Q242.465 1522.85 245.521 1518.27 Q248.599 1513.66 254.409 1513.66 Z\" fill=\"#000000\" fill-rule=\"evenodd\" fill-opacity=\"1\" /><path clip-path=\"url(#clip030)\" d=\"M796.13 1544.91 L803.769 1544.91 L803.769 1518.55 L795.459 1520.21 L795.459 1515.95 L803.723 1514.29 L808.399 1514.29 L808.399 1544.91 L816.037 1544.91 L816.037 1548.85 L796.13 1548.85 L796.13 1544.91 Z\" fill=\"#000000\" fill-rule=\"evenodd\" fill-opacity=\"1\" /><path clip-path=\"url(#clip030)\" d=\"M835.482 1517.37 Q831.871 1517.37 830.042 1520.93 Q828.236 1524.47 828.236 1531.6 Q828.236 1538.71 830.042 1542.27 Q831.871 1545.82 835.482 1545.82 Q839.116 1545.82 840.922 1542.27 Q842.75 1538.71 842.75 1531.6 Q842.75 1524.47 840.922 1520.93 Q839.116 1517.37 835.482 1517.37 M835.482 1513.66 Q841.292 1513.66 844.347 1518.27 Q847.426 1522.85 847.426 1531.6 Q847.426 1540.33 844.347 1544.94 Q841.292 1549.52 835.482 1549.52 Q829.672 1549.52 826.593 1544.94 Q823.537 1540.33 823.537 1531.6 Q823.537 1522.85 826.593 1518.27 Q829.672 1513.66 835.482 1513.66 Z\" fill=\"#000000\" fill-rule=\"evenodd\" fill-opacity=\"1\" /><path clip-path=\"url(#clip030)\" d=\"M865.644 1517.37 Q862.033 1517.37 860.204 1520.93 Q858.398 1524.47 858.398 1531.6 Q858.398 1538.71 860.204 1542.27 Q862.033 1545.82 865.644 1545.82 Q869.278 1545.82 871.083 1542.27 Q872.912 1538.71 872.912 1531.6 Q872.912 1524.47 871.083 1520.93 Q869.278 1517.37 865.644 1517.37 M865.644 1513.66 Q871.454 1513.66 874.509 1518.27 Q877.588 1522.85 877.588 1531.6 Q877.588 1540.33 874.509 1544.94 Q871.454 1549.52 865.644 1549.52 Q859.834 1549.52 856.755 1544.94 Q853.699 1540.33 853.699 1531.6 Q853.699 1522.85 856.755 1518.27 Q859.834 1513.66 865.644 1513.66 Z\" fill=\"#000000\" fill-rule=\"evenodd\" fill-opacity=\"1\" /><path clip-path=\"url(#clip030)\" d=\"M1382.33 1544.91 L1398.65 1544.91 L1398.65 1548.85 L1376.7 1548.85 L1376.7 1544.91 Q1379.37 1542.16 1383.95 1537.53 Q1388.56 1532.88 1389.74 1531.53 Q1391.98 1529.01 1392.86 1527.27 Q1393.76 1525.51 1393.76 1523.82 Q1393.76 1521.07 1391.82 1519.33 Q1389.9 1517.6 1386.8 1517.6 Q1384.6 1517.6 1382.14 1518.36 Q1379.71 1519.13 1376.94 1520.68 L1376.94 1515.95 Q1379.76 1514.82 1382.21 1514.24 Q1384.67 1513.66 1386.7 1513.66 Q1392.08 1513.66 1395.27 1516.35 Q1398.46 1519.03 1398.46 1523.52 Q1398.46 1525.65 1397.65 1527.57 Q1396.87 1529.47 1394.76 1532.07 Q1394.18 1532.74 1391.08 1535.95 Q1387.98 1539.15 1382.33 1544.91 Z\" fill=\"#000000\" fill-rule=\"evenodd\" fill-opacity=\"1\" /><path clip-path=\"url(#clip030)\" d=\"M1418.46 1517.37 Q1414.85 1517.37 1413.02 1520.93 Q1411.22 1524.47 1411.22 1531.6 Q1411.22 1538.71 1413.02 1542.27 Q1414.85 1545.82 1418.46 1545.82 Q1422.1 1545.82 1423.9 1542.27 Q1425.73 1538.71 1425.73 1531.6 Q1425.73 1524.47 1423.9 1520.93 Q1422.1 1517.37 1418.46 1517.37 M1418.46 1513.66 Q1424.27 1513.66 1427.33 1518.27 Q1430.41 1522.85 1430.41 1531.6 Q1430.41 1540.33 1427.33 1544.94 Q1424.27 1549.52 1418.46 1549.52 Q1412.65 1549.52 1409.58 1544.94 Q1406.52 1540.33 1406.52 1531.6 Q1406.52 1522.85 1409.58 1518.27 Q1412.65 1513.66 1418.46 1513.66 Z\" fill=\"#000000\" fill-rule=\"evenodd\" fill-opacity=\"1\" /><path clip-path=\"url(#clip030)\" d=\"M1448.63 1517.37 Q1445.01 1517.37 1443.19 1520.93 Q1441.38 1524.47 1441.38 1531.6 Q1441.38 1538.71 1443.19 1542.27 Q1445.01 1545.82 1448.63 1545.82 Q1452.26 1545.82 1454.07 1542.27 Q1455.89 1538.71 1455.89 1531.6 Q1455.89 1524.47 1454.07 1520.93 Q1452.26 1517.37 1448.63 1517.37 M1448.63 1513.66 Q1454.44 1513.66 1457.49 1518.27 Q1460.57 1522.85 1460.57 1531.6 Q1460.57 1540.33 1457.49 1544.94 Q1454.44 1549.52 1448.63 1549.52 Q1442.82 1549.52 1439.74 1544.94 Q1436.68 1540.33 1436.68 1531.6 Q1436.68 1522.85 1439.74 1518.27 Q1442.82 1513.66 1448.63 1513.66 Z\" fill=\"#000000\" fill-rule=\"evenodd\" fill-opacity=\"1\" /><path clip-path=\"url(#clip030)\" d=\"M1974.51 1530.21 Q1977.87 1530.93 1979.74 1533.2 Q1981.64 1535.47 1981.64 1538.8 Q1981.64 1543.92 1978.12 1546.72 Q1974.61 1549.52 1968.12 1549.52 Q1965.95 1549.52 1963.63 1549.08 Q1961.34 1548.66 1958.89 1547.81 L1958.89 1543.29 Q1960.83 1544.43 1963.15 1545.01 Q1965.46 1545.58 1967.99 1545.58 Q1972.38 1545.58 1974.68 1543.85 Q1976.99 1542.11 1976.99 1538.8 Q1976.99 1535.75 1974.84 1534.03 Q1972.71 1532.3 1968.89 1532.3 L1964.86 1532.3 L1964.86 1528.45 L1969.07 1528.45 Q1972.52 1528.45 1974.35 1527.09 Q1976.18 1525.7 1976.18 1523.11 Q1976.18 1520.45 1974.28 1519.03 Q1972.41 1517.6 1968.89 1517.6 Q1966.97 1517.6 1964.77 1518.01 Q1962.57 1518.43 1959.93 1519.31 L1959.93 1515.14 Q1962.59 1514.4 1964.91 1514.03 Q1967.24 1513.66 1969.3 1513.66 Q1974.63 1513.66 1977.73 1516.09 Q1980.83 1518.5 1980.83 1522.62 Q1980.83 1525.49 1979.19 1527.48 Q1977.55 1529.45 1974.51 1530.21 Z\" fill=\"#000000\" fill-rule=\"evenodd\" fill-opacity=\"1\" /><path clip-path=\"url(#clip030)\" d=\"M2000.51 1517.37 Q1996.9 1517.37 1995.07 1520.93 Q1993.26 1524.47 1993.26 1531.6 Q1993.26 1538.71 1995.07 1542.27 Q1996.9 1545.82 2000.51 1545.82 Q2004.14 1545.82 2005.95 1542.27 Q2007.78 1538.71 2007.78 1531.6 Q2007.78 1524.47 2005.95 1520.93 Q2004.14 1517.37 2000.51 1517.37 M2000.51 1513.66 Q2006.32 1513.66 2009.37 1518.27 Q2012.45 1522.85 2012.45 1531.6 Q2012.45 1540.33 2009.37 1544.94 Q2006.32 1549.52 2000.51 1549.52 Q1994.7 1549.52 1991.62 1544.94 Q1988.56 1540.33 1988.56 1531.6 Q1988.56 1522.85 1991.62 1518.27 Q1994.7 1513.66 2000.51 1513.66 Z\" fill=\"#000000\" fill-rule=\"evenodd\" fill-opacity=\"1\" /><path clip-path=\"url(#clip030)\" d=\"M2030.67 1517.37 Q2027.06 1517.37 2025.23 1520.93 Q2023.43 1524.47 2023.43 1531.6 Q2023.43 1538.71 2025.23 1542.27 Q2027.06 1545.82 2030.67 1545.82 Q2034.3 1545.82 2036.11 1542.27 Q2037.94 1538.71 2037.94 1531.6 Q2037.94 1524.47 2036.11 1520.93 Q2034.3 1517.37 2030.67 1517.37 M2030.67 1513.66 Q2036.48 1513.66 2039.54 1518.27 Q2042.61 1522.85 2042.61 1531.6 Q2042.61 1540.33 2039.54 1544.94 Q2036.48 1549.52 2030.67 1549.52 Q2024.86 1549.52 2021.78 1544.94 Q2018.73 1540.33 2018.73 1531.6 Q2018.73 1522.85 2021.78 1518.27 Q2024.86 1513.66 2030.67 1513.66 Z\" fill=\"#000000\" fill-rule=\"evenodd\" fill-opacity=\"1\" /><polyline clip-path=\"url(#clip032)\" style=\"stroke:#000000; stroke-linecap:round; stroke-linejoin:round; stroke-width:2; stroke-opacity:0.1; fill:none\" points=\"199.283,1311.89 2352.76,1311.89 \"/>\n",
       "<polyline clip-path=\"url(#clip032)\" style=\"stroke:#000000; stroke-linecap:round; stroke-linejoin:round; stroke-width:2; stroke-opacity:0.1; fill:none\" points=\"199.283,1128.06 2352.76,1128.06 \"/>\n",
       "<polyline clip-path=\"url(#clip032)\" style=\"stroke:#000000; stroke-linecap:round; stroke-linejoin:round; stroke-width:2; stroke-opacity:0.1; fill:none\" points=\"199.283,944.238 2352.76,944.238 \"/>\n",
       "<polyline clip-path=\"url(#clip032)\" style=\"stroke:#000000; stroke-linecap:round; stroke-linejoin:round; stroke-width:2; stroke-opacity:0.1; fill:none\" points=\"199.283,760.412 2352.76,760.412 \"/>\n",
       "<polyline clip-path=\"url(#clip032)\" style=\"stroke:#000000; stroke-linecap:round; stroke-linejoin:round; stroke-width:2; stroke-opacity:0.1; fill:none\" points=\"199.283,576.586 2352.76,576.586 \"/>\n",
       "<polyline clip-path=\"url(#clip032)\" style=\"stroke:#000000; stroke-linecap:round; stroke-linejoin:round; stroke-width:2; stroke-opacity:0.1; fill:none\" points=\"199.283,392.76 2352.76,392.76 \"/>\n",
       "<polyline clip-path=\"url(#clip032)\" style=\"stroke:#000000; stroke-linecap:round; stroke-linejoin:round; stroke-width:2; stroke-opacity:0.1; fill:none\" points=\"199.283,208.934 2352.76,208.934 \"/>\n",
       "<polyline clip-path=\"url(#clip030)\" style=\"stroke:#000000; stroke-linecap:round; stroke-linejoin:round; stroke-width:4; stroke-opacity:1; fill:none\" points=\"199.283,1486.45 199.283,47.2441 \"/>\n",
       "<polyline clip-path=\"url(#clip030)\" style=\"stroke:#000000; stroke-linecap:round; stroke-linejoin:round; stroke-width:4; stroke-opacity:1; fill:none\" points=\"199.283,1311.89 218.181,1311.89 \"/>\n",
       "<polyline clip-path=\"url(#clip030)\" style=\"stroke:#000000; stroke-linecap:round; stroke-linejoin:round; stroke-width:4; stroke-opacity:1; fill:none\" points=\"199.283,1128.06 218.181,1128.06 \"/>\n",
       "<polyline clip-path=\"url(#clip030)\" style=\"stroke:#000000; stroke-linecap:round; stroke-linejoin:round; stroke-width:4; stroke-opacity:1; fill:none\" points=\"199.283,944.238 218.181,944.238 \"/>\n",
       "<polyline clip-path=\"url(#clip030)\" style=\"stroke:#000000; stroke-linecap:round; stroke-linejoin:round; stroke-width:4; stroke-opacity:1; fill:none\" points=\"199.283,760.412 218.181,760.412 \"/>\n",
       "<polyline clip-path=\"url(#clip030)\" style=\"stroke:#000000; stroke-linecap:round; stroke-linejoin:round; stroke-width:4; stroke-opacity:1; fill:none\" points=\"199.283,576.586 218.181,576.586 \"/>\n",
       "<polyline clip-path=\"url(#clip030)\" style=\"stroke:#000000; stroke-linecap:round; stroke-linejoin:round; stroke-width:4; stroke-opacity:1; fill:none\" points=\"199.283,392.76 218.181,392.76 \"/>\n",
       "<polyline clip-path=\"url(#clip030)\" style=\"stroke:#000000; stroke-linecap:round; stroke-linejoin:round; stroke-width:4; stroke-opacity:1; fill:none\" points=\"199.283,208.934 218.181,208.934 \"/>\n",
       "<path clip-path=\"url(#clip030)\" d=\"M91.0151 1312.76 Q87.6817 1312.76 85.7605 1314.54 Q83.8623 1316.32 83.8623 1319.45 Q83.8623 1322.57 85.7605 1324.36 Q87.6817 1326.14 91.0151 1326.14 Q94.3484 1326.14 96.2697 1324.36 Q98.1909 1322.55 98.1909 1319.45 Q98.1909 1316.32 96.2697 1314.54 Q94.3715 1312.76 91.0151 1312.76 M86.3392 1310.77 Q83.3299 1310.03 81.6401 1307.97 Q79.9735 1305.91 79.9735 1302.94 Q79.9735 1298.8 82.9133 1296.39 Q85.8762 1293.99 91.0151 1293.99 Q96.1771 1293.99 99.1169 1296.39 Q102.057 1298.8 102.057 1302.94 Q102.057 1305.91 100.367 1307.97 Q98.7002 1310.03 95.7141 1310.77 Q99.0937 1311.55 100.969 1313.85 Q102.867 1316.14 102.867 1319.45 Q102.867 1324.47 99.7882 1327.16 Q96.7326 1329.84 91.0151 1329.84 Q85.2975 1329.84 82.2188 1327.16 Q79.1633 1324.47 79.1633 1319.45 Q79.1633 1316.14 81.0614 1313.85 Q82.9595 1311.55 86.3392 1310.77 M84.6262 1303.38 Q84.6262 1306.07 86.2929 1307.57 Q87.9827 1309.08 91.0151 1309.08 Q94.0243 1309.08 95.7141 1307.57 Q97.4271 1306.07 97.4271 1303.38 Q97.4271 1300.7 95.7141 1299.19 Q94.0243 1297.69 91.0151 1297.69 Q87.9827 1297.69 86.2929 1299.19 Q84.6262 1300.7 84.6262 1303.38 Z\" fill=\"#000000\" fill-rule=\"evenodd\" fill-opacity=\"1\" /><path clip-path=\"url(#clip030)\" d=\"M121.177 1297.69 Q117.566 1297.69 115.737 1301.25 Q113.932 1304.8 113.932 1311.93 Q113.932 1319.03 115.737 1322.6 Q117.566 1326.14 121.177 1326.14 Q124.811 1326.14 126.617 1322.6 Q128.445 1319.03 128.445 1311.93 Q128.445 1304.8 126.617 1301.25 Q124.811 1297.69 121.177 1297.69 M121.177 1293.99 Q126.987 1293.99 130.043 1298.59 Q133.121 1303.18 133.121 1311.93 Q133.121 1320.65 130.043 1325.26 Q126.987 1329.84 121.177 1329.84 Q115.367 1329.84 112.288 1325.26 Q109.233 1320.65 109.233 1311.93 Q109.233 1303.18 112.288 1298.59 Q115.367 1293.99 121.177 1293.99 Z\" fill=\"#000000\" fill-rule=\"evenodd\" fill-opacity=\"1\" /><path clip-path=\"url(#clip030)\" d=\"M151.339 1297.69 Q147.728 1297.69 145.899 1301.25 Q144.093 1304.8 144.093 1311.93 Q144.093 1319.03 145.899 1322.6 Q147.728 1326.14 151.339 1326.14 Q154.973 1326.14 156.779 1322.6 Q158.607 1319.03 158.607 1311.93 Q158.607 1304.8 156.779 1301.25 Q154.973 1297.69 151.339 1297.69 M151.339 1293.99 Q157.149 1293.99 160.205 1298.59 Q163.283 1303.18 163.283 1311.93 Q163.283 1320.65 160.205 1325.26 Q157.149 1329.84 151.339 1329.84 Q145.529 1329.84 142.45 1325.26 Q139.394 1320.65 139.394 1311.93 Q139.394 1303.18 142.45 1298.59 Q145.529 1293.99 151.339 1293.99 Z\" fill=\"#000000\" fill-rule=\"evenodd\" fill-opacity=\"1\" /><path clip-path=\"url(#clip030)\" d=\"M81.154 1144.63 L81.154 1140.37 Q82.9133 1141.2 84.7188 1141.64 Q86.5243 1142.08 88.2604 1142.08 Q92.89 1142.08 95.3206 1138.98 Q97.7743 1135.85 98.1215 1129.51 Q96.7789 1131.5 94.7187 1132.57 Q92.6586 1133.63 90.1586 1133.63 Q84.9734 1133.63 81.941 1130.51 Q78.9318 1127.36 78.9318 1121.92 Q78.9318 1116.59 82.0799 1113.38 Q85.2281 1110.16 90.4595 1110.16 Q96.4548 1110.16 99.603 1114.77 Q102.774 1119.35 102.774 1128.1 Q102.774 1136.27 98.8854 1141.15 Q95.0197 1146.02 88.4688 1146.02 Q86.7095 1146.02 84.904 1145.67 Q83.0984 1145.32 81.154 1144.63 M90.4595 1129.97 Q93.6076 1129.97 95.4363 1127.82 Q97.2882 1125.67 97.2882 1121.92 Q97.2882 1118.19 95.4363 1116.04 Q93.6076 1113.86 90.4595 1113.86 Q87.3114 1113.86 85.4595 1116.04 Q83.6308 1118.19 83.6308 1121.92 Q83.6308 1125.67 85.4595 1127.82 Q87.3114 1129.97 90.4595 1129.97 Z\" fill=\"#000000\" fill-rule=\"evenodd\" fill-opacity=\"1\" /><path clip-path=\"url(#clip030)\" d=\"M121.177 1113.86 Q117.566 1113.86 115.737 1117.43 Q113.932 1120.97 113.932 1128.1 Q113.932 1135.21 115.737 1138.77 Q117.566 1142.31 121.177 1142.31 Q124.811 1142.31 126.617 1138.77 Q128.445 1135.21 128.445 1128.1 Q128.445 1120.97 126.617 1117.43 Q124.811 1113.86 121.177 1113.86 M121.177 1110.16 Q126.987 1110.16 130.043 1114.77 Q133.121 1119.35 133.121 1128.1 Q133.121 1136.83 130.043 1141.43 Q126.987 1146.02 121.177 1146.02 Q115.367 1146.02 112.288 1141.43 Q109.233 1136.83 109.233 1128.1 Q109.233 1119.35 112.288 1114.77 Q115.367 1110.16 121.177 1110.16 Z\" fill=\"#000000\" fill-rule=\"evenodd\" fill-opacity=\"1\" /><path clip-path=\"url(#clip030)\" d=\"M151.339 1113.86 Q147.728 1113.86 145.899 1117.43 Q144.093 1120.97 144.093 1128.1 Q144.093 1135.21 145.899 1138.77 Q147.728 1142.31 151.339 1142.31 Q154.973 1142.31 156.779 1138.77 Q158.607 1135.21 158.607 1128.1 Q158.607 1120.97 156.779 1117.43 Q154.973 1113.86 151.339 1113.86 M151.339 1110.16 Q157.149 1110.16 160.205 1114.77 Q163.283 1119.35 163.283 1128.1 Q163.283 1136.83 160.205 1141.43 Q157.149 1146.02 151.339 1146.02 Q145.529 1146.02 142.45 1141.43 Q139.394 1136.83 139.394 1128.1 Q139.394 1119.35 142.45 1114.77 Q145.529 1110.16 151.339 1110.16 Z\" fill=\"#000000\" fill-rule=\"evenodd\" fill-opacity=\"1\" /><path clip-path=\"url(#clip030)\" d=\"M51.6634 957.583 L59.3023 957.583 L59.3023 931.217 L50.9921 932.884 L50.9921 928.625 L59.256 926.958 L63.9319 926.958 L63.9319 957.583 L71.5707 957.583 L71.5707 961.518 L51.6634 961.518 L51.6634 957.583 Z\" fill=\"#000000\" fill-rule=\"evenodd\" fill-opacity=\"1\" /><path clip-path=\"url(#clip030)\" d=\"M91.0151 930.037 Q87.404 930.037 85.5753 933.602 Q83.7697 937.143 83.7697 944.273 Q83.7697 951.379 85.5753 954.944 Q87.404 958.486 91.0151 958.486 Q94.6493 958.486 96.4548 954.944 Q98.2835 951.379 98.2835 944.273 Q98.2835 937.143 96.4548 933.602 Q94.6493 930.037 91.0151 930.037 M91.0151 926.333 Q96.8252 926.333 99.8808 930.94 Q102.959 935.523 102.959 944.273 Q102.959 953 99.8808 957.606 Q96.8252 962.189 91.0151 962.189 Q85.2049 962.189 82.1262 957.606 Q79.0707 953 79.0707 944.273 Q79.0707 935.523 82.1262 930.94 Q85.2049 926.333 91.0151 926.333 Z\" fill=\"#000000\" fill-rule=\"evenodd\" fill-opacity=\"1\" /><path clip-path=\"url(#clip030)\" d=\"M121.177 930.037 Q117.566 930.037 115.737 933.602 Q113.932 937.143 113.932 944.273 Q113.932 951.379 115.737 954.944 Q117.566 958.486 121.177 958.486 Q124.811 958.486 126.617 954.944 Q128.445 951.379 128.445 944.273 Q128.445 937.143 126.617 933.602 Q124.811 930.037 121.177 930.037 M121.177 926.333 Q126.987 926.333 130.043 930.94 Q133.121 935.523 133.121 944.273 Q133.121 953 130.043 957.606 Q126.987 962.189 121.177 962.189 Q115.367 962.189 112.288 957.606 Q109.233 953 109.233 944.273 Q109.233 935.523 112.288 930.94 Q115.367 926.333 121.177 926.333 Z\" fill=\"#000000\" fill-rule=\"evenodd\" fill-opacity=\"1\" /><path clip-path=\"url(#clip030)\" d=\"M151.339 930.037 Q147.728 930.037 145.899 933.602 Q144.093 937.143 144.093 944.273 Q144.093 951.379 145.899 954.944 Q147.728 958.486 151.339 958.486 Q154.973 958.486 156.779 954.944 Q158.607 951.379 158.607 944.273 Q158.607 937.143 156.779 933.602 Q154.973 930.037 151.339 930.037 M151.339 926.333 Q157.149 926.333 160.205 930.94 Q163.283 935.523 163.283 944.273 Q163.283 953 160.205 957.606 Q157.149 962.189 151.339 962.189 Q145.529 962.189 142.45 957.606 Q139.394 953 139.394 944.273 Q139.394 935.523 142.45 930.94 Q145.529 926.333 151.339 926.333 Z\" fill=\"#000000\" fill-rule=\"evenodd\" fill-opacity=\"1\" /><path clip-path=\"url(#clip030)\" d=\"M51.6634 773.757 L59.3023 773.757 L59.3023 747.391 L50.9921 749.058 L50.9921 744.799 L59.256 743.132 L63.9319 743.132 L63.9319 773.757 L71.5707 773.757 L71.5707 777.692 L51.6634 777.692 L51.6634 773.757 Z\" fill=\"#000000\" fill-rule=\"evenodd\" fill-opacity=\"1\" /><path clip-path=\"url(#clip030)\" d=\"M81.8253 773.757 L89.4641 773.757 L89.4641 747.391 L81.154 749.058 L81.154 744.799 L89.4178 743.132 L94.0937 743.132 L94.0937 773.757 L101.733 773.757 L101.733 777.692 L81.8253 777.692 L81.8253 773.757 Z\" fill=\"#000000\" fill-rule=\"evenodd\" fill-opacity=\"1\" /><path clip-path=\"url(#clip030)\" d=\"M121.177 746.211 Q117.566 746.211 115.737 749.776 Q113.932 753.317 113.932 760.447 Q113.932 767.553 115.737 771.118 Q117.566 774.66 121.177 774.66 Q124.811 774.66 126.617 771.118 Q128.445 767.553 128.445 760.447 Q128.445 753.317 126.617 749.776 Q124.811 746.211 121.177 746.211 M121.177 742.507 Q126.987 742.507 130.043 747.114 Q133.121 751.697 133.121 760.447 Q133.121 769.174 130.043 773.78 Q126.987 778.363 121.177 778.363 Q115.367 778.363 112.288 773.78 Q109.233 769.174 109.233 760.447 Q109.233 751.697 112.288 747.114 Q115.367 742.507 121.177 742.507 Z\" fill=\"#000000\" fill-rule=\"evenodd\" fill-opacity=\"1\" /><path clip-path=\"url(#clip030)\" d=\"M151.339 746.211 Q147.728 746.211 145.899 749.776 Q144.093 753.317 144.093 760.447 Q144.093 767.553 145.899 771.118 Q147.728 774.66 151.339 774.66 Q154.973 774.66 156.779 771.118 Q158.607 767.553 158.607 760.447 Q158.607 753.317 156.779 749.776 Q154.973 746.211 151.339 746.211 M151.339 742.507 Q157.149 742.507 160.205 747.114 Q163.283 751.697 163.283 760.447 Q163.283 769.174 160.205 773.78 Q157.149 778.363 151.339 778.363 Q145.529 778.363 142.45 773.78 Q139.394 769.174 139.394 760.447 Q139.394 751.697 142.45 747.114 Q145.529 742.507 151.339 742.507 Z\" fill=\"#000000\" fill-rule=\"evenodd\" fill-opacity=\"1\" /><path clip-path=\"url(#clip030)\" d=\"M51.6634 589.931 L59.3023 589.931 L59.3023 563.565 L50.9921 565.232 L50.9921 560.973 L59.256 559.306 L63.9319 559.306 L63.9319 589.931 L71.5707 589.931 L71.5707 593.866 L51.6634 593.866 L51.6634 589.931 Z\" fill=\"#000000\" fill-rule=\"evenodd\" fill-opacity=\"1\" /><path clip-path=\"url(#clip030)\" d=\"M85.0429 589.931 L101.362 589.931 L101.362 593.866 L79.4179 593.866 L79.4179 589.931 Q82.0799 587.176 86.6632 582.547 Q91.2697 577.894 92.4502 576.551 Q94.6956 574.028 95.5752 572.292 Q96.478 570.533 96.478 568.843 Q96.478 566.088 94.5336 564.352 Q92.6123 562.616 89.5104 562.616 Q87.3114 562.616 84.8577 563.38 Q82.4271 564.144 79.6494 565.695 L79.6494 560.973 Q82.4734 559.838 84.9271 559.26 Q87.3808 558.681 89.4178 558.681 Q94.7882 558.681 97.9826 561.366 Q101.177 564.051 101.177 568.542 Q101.177 570.672 100.367 572.593 Q99.5798 574.491 97.4734 577.084 Q96.8947 577.755 93.7928 580.973 Q90.691 584.167 85.0429 589.931 Z\" fill=\"#000000\" fill-rule=\"evenodd\" fill-opacity=\"1\" /><path clip-path=\"url(#clip030)\" d=\"M121.177 562.385 Q117.566 562.385 115.737 565.949 Q113.932 569.491 113.932 576.621 Q113.932 583.727 115.737 587.292 Q117.566 590.834 121.177 590.834 Q124.811 590.834 126.617 587.292 Q128.445 583.727 128.445 576.621 Q128.445 569.491 126.617 565.949 Q124.811 562.385 121.177 562.385 M121.177 558.681 Q126.987 558.681 130.043 563.287 Q133.121 567.871 133.121 576.621 Q133.121 585.348 130.043 589.954 Q126.987 594.537 121.177 594.537 Q115.367 594.537 112.288 589.954 Q109.233 585.348 109.233 576.621 Q109.233 567.871 112.288 563.287 Q115.367 558.681 121.177 558.681 Z\" fill=\"#000000\" fill-rule=\"evenodd\" fill-opacity=\"1\" /><path clip-path=\"url(#clip030)\" d=\"M151.339 562.385 Q147.728 562.385 145.899 565.949 Q144.093 569.491 144.093 576.621 Q144.093 583.727 145.899 587.292 Q147.728 590.834 151.339 590.834 Q154.973 590.834 156.779 587.292 Q158.607 583.727 158.607 576.621 Q158.607 569.491 156.779 565.949 Q154.973 562.385 151.339 562.385 M151.339 558.681 Q157.149 558.681 160.205 563.287 Q163.283 567.871 163.283 576.621 Q163.283 585.348 160.205 589.954 Q157.149 594.537 151.339 594.537 Q145.529 594.537 142.45 589.954 Q139.394 585.348 139.394 576.621 Q139.394 567.871 142.45 563.287 Q145.529 558.681 151.339 558.681 Z\" fill=\"#000000\" fill-rule=\"evenodd\" fill-opacity=\"1\" /><path clip-path=\"url(#clip030)\" d=\"M51.6634 406.105 L59.3023 406.105 L59.3023 379.739 L50.9921 381.406 L50.9921 377.147 L59.256 375.48 L63.9319 375.48 L63.9319 406.105 L71.5707 406.105 L71.5707 410.04 L51.6634 410.04 L51.6634 406.105 Z\" fill=\"#000000\" fill-rule=\"evenodd\" fill-opacity=\"1\" /><path clip-path=\"url(#clip030)\" d=\"M95.1817 391.406 Q98.5382 392.123 100.413 394.392 Q102.311 396.66 102.311 399.994 Q102.311 405.109 98.7928 407.91 Q95.2743 410.711 88.7928 410.711 Q86.6169 410.711 84.3021 410.271 Q82.0105 409.855 79.5568 408.998 L79.5568 404.484 Q81.5012 405.619 83.816 406.197 Q86.1308 406.776 88.654 406.776 Q93.0521 406.776 95.3437 405.04 Q97.6585 403.304 97.6585 399.994 Q97.6585 396.938 95.5058 395.225 Q93.3762 393.489 89.5567 393.489 L85.529 393.489 L85.529 389.647 L89.7419 389.647 Q93.191 389.647 95.0197 388.281 Q96.8484 386.892 96.8484 384.299 Q96.8484 381.637 94.9502 380.225 Q93.0752 378.79 89.5567 378.79 Q87.6354 378.79 85.4364 379.207 Q83.2373 379.623 80.5984 380.503 L80.5984 376.336 Q83.2605 375.596 85.5753 375.225 Q87.9132 374.855 89.9734 374.855 Q95.2974 374.855 98.3993 377.285 Q101.501 379.693 101.501 383.813 Q101.501 386.684 99.8576 388.674 Q98.2141 390.642 95.1817 391.406 Z\" fill=\"#000000\" fill-rule=\"evenodd\" fill-opacity=\"1\" /><path clip-path=\"url(#clip030)\" d=\"M121.177 378.559 Q117.566 378.559 115.737 382.123 Q113.932 385.665 113.932 392.795 Q113.932 399.901 115.737 403.466 Q117.566 407.008 121.177 407.008 Q124.811 407.008 126.617 403.466 Q128.445 399.901 128.445 392.795 Q128.445 385.665 126.617 382.123 Q124.811 378.559 121.177 378.559 M121.177 374.855 Q126.987 374.855 130.043 379.461 Q133.121 384.045 133.121 392.795 Q133.121 401.521 130.043 406.128 Q126.987 410.711 121.177 410.711 Q115.367 410.711 112.288 406.128 Q109.233 401.521 109.233 392.795 Q109.233 384.045 112.288 379.461 Q115.367 374.855 121.177 374.855 Z\" fill=\"#000000\" fill-rule=\"evenodd\" fill-opacity=\"1\" /><path clip-path=\"url(#clip030)\" d=\"M151.339 378.559 Q147.728 378.559 145.899 382.123 Q144.093 385.665 144.093 392.795 Q144.093 399.901 145.899 403.466 Q147.728 407.008 151.339 407.008 Q154.973 407.008 156.779 403.466 Q158.607 399.901 158.607 392.795 Q158.607 385.665 156.779 382.123 Q154.973 378.559 151.339 378.559 M151.339 374.855 Q157.149 374.855 160.205 379.461 Q163.283 384.045 163.283 392.795 Q163.283 401.521 160.205 406.128 Q157.149 410.711 151.339 410.711 Q145.529 410.711 142.45 406.128 Q139.394 401.521 139.394 392.795 Q139.394 384.045 142.45 379.461 Q145.529 374.855 151.339 374.855 Z\" fill=\"#000000\" fill-rule=\"evenodd\" fill-opacity=\"1\" /><path clip-path=\"url(#clip030)\" d=\"M51.6634 222.279 L59.3023 222.279 L59.3023 195.913 L50.9921 197.58 L50.9921 193.32 L59.256 191.654 L63.9319 191.654 L63.9319 222.279 L71.5707 222.279 L71.5707 226.214 L51.6634 226.214 L51.6634 222.279 Z\" fill=\"#000000\" fill-rule=\"evenodd\" fill-opacity=\"1\" /><path clip-path=\"url(#clip030)\" d=\"M93.8623 195.728 L82.0568 214.177 L93.8623 214.177 L93.8623 195.728 M92.6354 191.654 L98.515 191.654 L98.515 214.177 L103.446 214.177 L103.446 218.066 L98.515 218.066 L98.515 226.214 L93.8623 226.214 L93.8623 218.066 L78.2605 218.066 L78.2605 213.552 L92.6354 191.654 Z\" fill=\"#000000\" fill-rule=\"evenodd\" fill-opacity=\"1\" /><path clip-path=\"url(#clip030)\" d=\"M121.177 194.733 Q117.566 194.733 115.737 198.297 Q113.932 201.839 113.932 208.969 Q113.932 216.075 115.737 219.64 Q117.566 223.181 121.177 223.181 Q124.811 223.181 126.617 219.64 Q128.445 216.075 128.445 208.969 Q128.445 201.839 126.617 198.297 Q124.811 194.733 121.177 194.733 M121.177 191.029 Q126.987 191.029 130.043 195.635 Q133.121 200.219 133.121 208.969 Q133.121 217.695 130.043 222.302 Q126.987 226.885 121.177 226.885 Q115.367 226.885 112.288 222.302 Q109.233 217.695 109.233 208.969 Q109.233 200.219 112.288 195.635 Q115.367 191.029 121.177 191.029 Z\" fill=\"#000000\" fill-rule=\"evenodd\" fill-opacity=\"1\" /><path clip-path=\"url(#clip030)\" d=\"M151.339 194.733 Q147.728 194.733 145.899 198.297 Q144.093 201.839 144.093 208.969 Q144.093 216.075 145.899 219.64 Q147.728 223.181 151.339 223.181 Q154.973 223.181 156.779 219.64 Q158.607 216.075 158.607 208.969 Q158.607 201.839 156.779 198.297 Q154.973 194.733 151.339 194.733 M151.339 191.029 Q157.149 191.029 160.205 195.635 Q163.283 200.219 163.283 208.969 Q163.283 217.695 160.205 222.302 Q157.149 226.885 151.339 226.885 Q145.529 226.885 142.45 222.302 Q139.394 217.695 139.394 208.969 Q139.394 200.219 142.45 195.635 Q145.529 191.029 151.339 191.029 Z\" fill=\"#000000\" fill-rule=\"evenodd\" fill-opacity=\"1\" /><polyline clip-path=\"url(#clip032)\" style=\"stroke:#009af9; stroke-linecap:round; stroke-linejoin:round; stroke-width:4; stroke-opacity:1; fill:none\" points=\"260.231,928.061 266.052,483.019 271.873,692.948 277.694,731.919 283.515,567.946 289.336,585.961 295.157,667.396 300.979,900.304 306.8,853.796 312.621,844.237 318.442,719.603 324.263,299.376 330.084,468.496 335.905,738.353 341.726,1074.2 347.548,484.305 353.369,421.804 359.19,474.563 365.011,342.575 370.832,479.71 376.653,548.093 382.474,381.73 388.296,893.135 394.117,787.802 399.938,659.308 405.759,1082.29 411.58,331.178 417.401,1026.78 423.222,587.616 429.044,955.268 434.865,660.778 440.686,458.202 446.507,534.306 452.328,109.668 458.149,841.847 463.97,340.002 469.792,405.076 475.613,976.04 481.434,447.908 487.255,334.119 493.076,885.23 498.897,127.315 504.718,1116.48 510.54,597.91 516.361,291.104 522.182,654.712 528.003,517.762 533.824,720.154 539.645,467.209 545.466,377.87 551.288,1156.74 557.109,673.646 562.93,692.58 568.751,748.463 574.572,863.722 580.393,430.628 586.214,754.162 592.036,831.553 597.857,1343.88 603.678,848.281 609.499,484.121 615.32,412.245 621.141,621.44 626.962,582.285 632.784,374.929 638.605,616.292 644.426,597.726 650.247,445.15 656.068,410.407 661.889,435.775 667.71,1086.15 673.532,146.801 679.353,364.267 685.174,619.05 690.995,971.444 696.816,721.625 702.637,683.94 708.458,658.94 714.279,646.072 720.101,87.9763 725.922,599.564 731.743,643.315 737.564,813.905 743.385,636.881 749.206,341.84 755.027,203.971 760.849,371.62 766.67,887.62 772.491,430.444 778.312,522.909 784.133,596.623 789.954,660.595 795.775,499.563 801.597,926.407 807.418,727.507 813.239,975.489 819.06,449.378 824.881,626.403 830.702,512.615 836.523,815.928 842.345,1033.21 848.166,820.891 853.987,569.417 859.808,1158.03 865.629,442.577 871.45,873.833 877.271,591.476 883.093,1345.53 888.914,636.513 894.735,741.478 900.556,534.122 906.377,889.274 912.198,1062.81 918.019,801.957 923.841,444.783 929.662,860.597 935.483,669.786 941.304,922.73 947.125,486.327 952.946,542.946 958.767,311.325 964.589,683.021 970.41,649.013 976.231,635.594 982.052,495.151 987.873,449.011 993.694,338.899 999.515,985.967 1005.34,272.538 1011.16,757.655 1016.98,874.017 1022.8,599.564 1028.62,651.036 1034.44,206.912 1040.26,426.4 1046.08,583.388 1051.91,842.399 1057.73,625.484 1063.55,569.601 1069.37,492.394 1075.19,382.649 1081.01,155.257 1086.83,729.529 1092.65,480.996 1098.47,513.35 1104.3,186.691 1110.12,697.911 1115.94,701.404 1121.76,1007.11 1127.58,928.981 1133.4,750.485 1139.22,728.426 1145.04,410.407 1150.87,589.821 1156.69,931.922 1162.51,621.807 1168.33,1044.61 1174.15,782.655 1179.97,1344.43 1185.79,1007.11 1191.61,712.433 1197.43,513.534 1203.26,496.254 1209.08,665.006 1214.9,417.76 1220.72,677.323 1226.54,499.011 1232.36,402.87 1238.18,741.478 1244,356.362 1249.82,549.747 1255.65,877.325 1261.47,890.193 1267.29,409.856 1273.11,445.886 1278.93,906.554 1284.75,114.263 1290.57,380.811 1296.39,577.137 1302.21,611.513 1308.04,568.13 1313.86,177.5 1319.68,312.06 1325.5,450.665 1331.32,344.046 1337.14,674.014 1342.96,515.004 1348.78,753.978 1354.6,524.196 1360.43,432.65 1366.25,687.985 1372.07,542.946 1377.89,542.211 1383.71,525.482 1389.53,735.779 1395.35,596.807 1401.17,1036.89 1407,301.215 1412.82,455.996 1418.64,363.532 1424.46,945.341 1430.28,546.99 1436.1,901.59 1441.92,592.211 1447.74,792.214 1453.56,933.944 1459.39,1309.13 1465.21,914.091 1471.03,918.319 1476.85,1220.34 1482.67,911.333 1488.49,684.308 1494.31,444.415 1500.13,575.299 1505.95,639.455 1511.78,426.216 1517.6,638.168 1523.42,547.358 1529.24,107.646 1535.06,912.988 1540.88,313.163 1546.7,860.23 1552.52,373.091 1558.34,559.49 1564.17,232.647 1569.99,611.329 1575.81,789.273 1581.63,539.637 1587.45,424.01 1593.27,244.412 1599.09,787.251 1604.91,421.437 1610.74,986.15 1616.56,839.641 1622.38,462.246 1628.2,819.42 1634.02,578.424 1639.84,937.988 1645.66,618.866 1651.48,382.282 1657.3,737.801 1663.13,269.964 1668.95,374.929 1674.77,684.676 1680.59,627.138 1686.41,336.877 1692.23,627.138 1698.05,434.488 1703.87,1445.72 1709.69,503.423 1715.52,869.053 1721.34,883.392 1727.16,978.981 1732.98,893.686 1738.8,654.344 1744.62,988.356 1750.44,1223.47 1756.26,1244.24 1762.08,1188.18 1767.91,1090.75 1773.73,433.753 1779.55,613.719 1785.37,916.664 1791.19,843.318 1797.01,843.318 1802.83,461.879 1808.65,508.938 1814.48,385.958 1820.3,654.896 1826.12,840.376 1831.94,347.723 1837.76,607.101 1843.58,398.091 1849.4,651.587 1855.22,915.01 1861.04,475.482 1866.87,603.792 1872.69,494.967 1878.51,819.053 1884.33,660.411 1890.15,918.686 1895.97,730.632 1901.79,835.045 1907.61,248.456 1913.43,970.341 1919.26,375.664 1925.08,760.964 1930.9,842.582 1936.72,740.927 1942.54,856.921 1948.36,661.881 1954.18,451.217 1960,322.722 1965.82,672.911 1971.65,331.362 1977.47,212.794 1983.29,204.706 1989.11,458.202 1994.93,595.888 2000.75,899.385 2006.57,1091.85 2012.39,1266.12 2018.21,1234.32 2024.04,1045.34 2029.86,895.524 2035.68,1095.71 2041.5,965.194 2047.32,734.493 2053.14,948.65 2058.96,1088.36 2064.78,908.208 2070.61,641.109 2076.43,658.572 2082.25,534.122 2088.07,780.449 2093.89,683.021 2099.71,503.239 2105.53,294.964 2111.35,805.082 2117.17,879.164 2123,665.006 2128.82,329.156 2134.64,433.202 2140.46,976.775 2146.28,530.446 2152.1,1010.05 2157.92,668.499 2163.74,364.083 2169.56,283.567 2175.39,582.652 2181.21,911.149 2187.03,914.826 2192.85,881.737 2198.67,962.069 2204.49,593.498 2210.31,1001.41 2216.13,782.287 2221.95,1036.52 2227.78,989.276 2233.6,994.974 2239.42,510.592 2245.24,771.442 2251.06,990.195 2256.88,520.887 2262.7,609.675 2268.52,688.352 2274.35,608.02 2280.17,498.46 2285.99,479.893 2291.81,255.074 \"/>\n",
       "<path clip-path=\"url(#clip030)\" d=\"M271.066 1438.47 L538.843 1438.47 L538.843 1334.79 L271.066 1334.79  Z\" fill=\"#ffffff\" fill-rule=\"evenodd\" fill-opacity=\"1\"/>\n",
       "<polyline clip-path=\"url(#clip030)\" style=\"stroke:#000000; stroke-linecap:round; stroke-linejoin:round; stroke-width:4; stroke-opacity:1; fill:none\" points=\"271.066,1438.47 538.843,1438.47 538.843,1334.79 271.066,1334.79 271.066,1438.47 \"/>\n",
       "<polyline clip-path=\"url(#clip030)\" style=\"stroke:#009af9; stroke-linecap:round; stroke-linejoin:round; stroke-width:4; stroke-opacity:1; fill:none\" points=\"294.993,1386.63 438.558,1386.63 \"/>\n",
       "<path clip-path=\"url(#clip030)\" d=\"M476.328 1406.32 Q474.522 1410.95 472.809 1412.36 Q471.096 1413.78 468.226 1413.78 L464.823 1413.78 L464.823 1410.21 L467.323 1410.21 Q469.083 1410.21 470.055 1409.38 Q471.027 1408.54 472.208 1405.44 L472.971 1403.5 L462.485 1377.99 L466.999 1377.99 L475.101 1398.27 L483.203 1377.99 L487.717 1377.99 L476.328 1406.32 Z\" fill=\"#000000\" fill-rule=\"evenodd\" fill-opacity=\"1\" /><path clip-path=\"url(#clip030)\" d=\"M495.008 1399.98 L502.647 1399.98 L502.647 1373.61 L494.337 1375.28 L494.337 1371.02 L502.601 1369.35 L507.277 1369.35 L507.277 1399.98 L514.916 1399.98 L514.916 1403.91 L495.008 1403.91 L495.008 1399.98 Z\" fill=\"#000000\" fill-rule=\"evenodd\" fill-opacity=\"1\" /></svg>\n"
      ]
     },
     "execution_count": 35,
     "metadata": {},
     "output_type": "execute_result"
    }
   ],
   "source": [
    "plot(avg_payoffs.profits)"
   ]
  },
  {
   "cell_type": "code",
   "execution_count": 36,
   "metadata": {},
   "outputs": [
    {
     "data": {
      "image/svg+xml": [
       "<?xml version=\"1.0\" encoding=\"utf-8\"?>\n",
       "<svg xmlns=\"http://www.w3.org/2000/svg\" xmlns:xlink=\"http://www.w3.org/1999/xlink\" width=\"600\" height=\"400\" viewBox=\"0 0 2400 1600\">\n",
       "<defs>\n",
       "  <clipPath id=\"clip070\">\n",
       "    <rect x=\"0\" y=\"0\" width=\"2400\" height=\"1600\"/>\n",
       "  </clipPath>\n",
       "</defs>\n",
       "<path clip-path=\"url(#clip070)\" d=\"M0 1600 L2400 1600 L2400 0 L0 0  Z\" fill=\"#ffffff\" fill-rule=\"evenodd\" fill-opacity=\"1\"/>\n",
       "<defs>\n",
       "  <clipPath id=\"clip071\">\n",
       "    <rect x=\"480\" y=\"0\" width=\"1681\" height=\"1600\"/>\n",
       "  </clipPath>\n",
       "</defs>\n",
       "<path clip-path=\"url(#clip070)\" d=\"M170.857 1486.45 L2352.76 1486.45 L2352.76 47.2441 L170.857 47.2441  Z\" fill=\"#ffffff\" fill-rule=\"evenodd\" fill-opacity=\"1\"/>\n",
       "<defs>\n",
       "  <clipPath id=\"clip072\">\n",
       "    <rect x=\"170\" y=\"47\" width=\"2183\" height=\"1440\"/>\n",
       "  </clipPath>\n",
       "</defs>\n",
       "<polyline clip-path=\"url(#clip072)\" style=\"stroke:#000000; stroke-linecap:round; stroke-linejoin:round; stroke-width:2; stroke-opacity:0.1; fill:none\" points=\"226.711,1486.45 226.711,47.2441 \"/>\n",
       "<polyline clip-path=\"url(#clip072)\" style=\"stroke:#000000; stroke-linecap:round; stroke-linejoin:round; stroke-width:2; stroke-opacity:0.1; fill:none\" points=\"816.509,1486.45 816.509,47.2441 \"/>\n",
       "<polyline clip-path=\"url(#clip072)\" style=\"stroke:#000000; stroke-linecap:round; stroke-linejoin:round; stroke-width:2; stroke-opacity:0.1; fill:none\" points=\"1406.31,1486.45 1406.31,47.2441 \"/>\n",
       "<polyline clip-path=\"url(#clip072)\" style=\"stroke:#000000; stroke-linecap:round; stroke-linejoin:round; stroke-width:2; stroke-opacity:0.1; fill:none\" points=\"1996.11,1486.45 1996.11,47.2441 \"/>\n",
       "<polyline clip-path=\"url(#clip070)\" style=\"stroke:#000000; stroke-linecap:round; stroke-linejoin:round; stroke-width:4; stroke-opacity:1; fill:none\" points=\"170.857,1486.45 2352.76,1486.45 \"/>\n",
       "<polyline clip-path=\"url(#clip070)\" style=\"stroke:#000000; stroke-linecap:round; stroke-linejoin:round; stroke-width:4; stroke-opacity:1; fill:none\" points=\"226.711,1486.45 226.711,1467.55 \"/>\n",
       "<polyline clip-path=\"url(#clip070)\" style=\"stroke:#000000; stroke-linecap:round; stroke-linejoin:round; stroke-width:4; stroke-opacity:1; fill:none\" points=\"816.509,1486.45 816.509,1467.55 \"/>\n",
       "<polyline clip-path=\"url(#clip070)\" style=\"stroke:#000000; stroke-linecap:round; stroke-linejoin:round; stroke-width:4; stroke-opacity:1; fill:none\" points=\"1406.31,1486.45 1406.31,1467.55 \"/>\n",
       "<polyline clip-path=\"url(#clip070)\" style=\"stroke:#000000; stroke-linecap:round; stroke-linejoin:round; stroke-width:4; stroke-opacity:1; fill:none\" points=\"1996.11,1486.45 1996.11,1467.55 \"/>\n",
       "<path clip-path=\"url(#clip070)\" d=\"M226.711 1517.37 Q223.1 1517.37 221.271 1520.93 Q219.466 1524.47 219.466 1531.6 Q219.466 1538.71 221.271 1542.27 Q223.1 1545.82 226.711 1545.82 Q230.346 1545.82 232.151 1542.27 Q233.98 1538.71 233.98 1531.6 Q233.98 1524.47 232.151 1520.93 Q230.346 1517.37 226.711 1517.37 M226.711 1513.66 Q232.521 1513.66 235.577 1518.27 Q238.656 1522.85 238.656 1531.6 Q238.656 1540.33 235.577 1544.94 Q232.521 1549.52 226.711 1549.52 Q220.901 1549.52 217.822 1544.94 Q214.767 1540.33 214.767 1531.6 Q214.767 1522.85 217.822 1518.27 Q220.901 1513.66 226.711 1513.66 Z\" fill=\"#000000\" fill-rule=\"evenodd\" fill-opacity=\"1\" /><path clip-path=\"url(#clip070)\" d=\"M776.116 1544.91 L783.755 1544.91 L783.755 1518.55 L775.445 1520.21 L775.445 1515.95 L783.708 1514.29 L788.384 1514.29 L788.384 1544.91 L796.023 1544.91 L796.023 1548.85 L776.116 1548.85 L776.116 1544.91 Z\" fill=\"#000000\" fill-rule=\"evenodd\" fill-opacity=\"1\" /><path clip-path=\"url(#clip070)\" d=\"M815.468 1517.37 Q811.856 1517.37 810.028 1520.93 Q808.222 1524.47 808.222 1531.6 Q808.222 1538.71 810.028 1542.27 Q811.856 1545.82 815.468 1545.82 Q819.102 1545.82 820.907 1542.27 Q822.736 1538.71 822.736 1531.6 Q822.736 1524.47 820.907 1520.93 Q819.102 1517.37 815.468 1517.37 M815.468 1513.66 Q821.278 1513.66 824.333 1518.27 Q827.412 1522.85 827.412 1531.6 Q827.412 1540.33 824.333 1544.94 Q821.278 1549.52 815.468 1549.52 Q809.657 1549.52 806.579 1544.94 Q803.523 1540.33 803.523 1531.6 Q803.523 1522.85 806.579 1518.27 Q809.657 1513.66 815.468 1513.66 Z\" fill=\"#000000\" fill-rule=\"evenodd\" fill-opacity=\"1\" /><path clip-path=\"url(#clip070)\" d=\"M845.629 1517.37 Q842.018 1517.37 840.19 1520.93 Q838.384 1524.47 838.384 1531.6 Q838.384 1538.71 840.19 1542.27 Q842.018 1545.82 845.629 1545.82 Q849.264 1545.82 851.069 1542.27 Q852.898 1538.71 852.898 1531.6 Q852.898 1524.47 851.069 1520.93 Q849.264 1517.37 845.629 1517.37 M845.629 1513.66 Q851.44 1513.66 854.495 1518.27 Q857.574 1522.85 857.574 1531.6 Q857.574 1540.33 854.495 1544.94 Q851.44 1549.52 845.629 1549.52 Q839.819 1549.52 836.741 1544.94 Q833.685 1540.33 833.685 1531.6 Q833.685 1522.85 836.741 1518.27 Q839.819 1513.66 845.629 1513.66 Z\" fill=\"#000000\" fill-rule=\"evenodd\" fill-opacity=\"1\" /><path clip-path=\"url(#clip070)\" d=\"M1370 1544.91 L1386.32 1544.91 L1386.32 1548.85 L1364.37 1548.85 L1364.37 1544.91 Q1367.04 1542.16 1371.62 1537.53 Q1376.23 1532.88 1377.41 1531.53 Q1379.65 1529.01 1380.53 1527.27 Q1381.43 1525.51 1381.43 1523.82 Q1381.43 1521.07 1379.49 1519.33 Q1377.57 1517.6 1374.47 1517.6 Q1372.27 1517.6 1369.81 1518.36 Q1367.38 1519.13 1364.61 1520.68 L1364.61 1515.95 Q1367.43 1514.82 1369.88 1514.24 Q1372.34 1513.66 1374.37 1513.66 Q1379.74 1513.66 1382.94 1516.35 Q1386.13 1519.03 1386.13 1523.52 Q1386.13 1525.65 1385.32 1527.57 Q1384.54 1529.47 1382.43 1532.07 Q1381.85 1532.74 1378.75 1535.95 Q1375.65 1539.15 1370 1544.91 Z\" fill=\"#000000\" fill-rule=\"evenodd\" fill-opacity=\"1\" /><path clip-path=\"url(#clip070)\" d=\"M1406.13 1517.37 Q1402.52 1517.37 1400.69 1520.93 Q1398.89 1524.47 1398.89 1531.6 Q1398.89 1538.71 1400.69 1542.27 Q1402.52 1545.82 1406.13 1545.82 Q1409.77 1545.82 1411.57 1542.27 Q1413.4 1538.71 1413.4 1531.6 Q1413.4 1524.47 1411.57 1520.93 Q1409.77 1517.37 1406.13 1517.37 M1406.13 1513.66 Q1411.94 1513.66 1415 1518.27 Q1418.08 1522.85 1418.08 1531.6 Q1418.08 1540.33 1415 1544.94 Q1411.94 1549.52 1406.13 1549.52 Q1400.32 1549.52 1397.24 1544.94 Q1394.19 1540.33 1394.19 1531.6 Q1394.19 1522.85 1397.24 1518.27 Q1400.32 1513.66 1406.13 1513.66 Z\" fill=\"#000000\" fill-rule=\"evenodd\" fill-opacity=\"1\" /><path clip-path=\"url(#clip070)\" d=\"M1436.3 1517.37 Q1432.68 1517.37 1430.86 1520.93 Q1429.05 1524.47 1429.05 1531.6 Q1429.05 1538.71 1430.86 1542.27 Q1432.68 1545.82 1436.3 1545.82 Q1439.93 1545.82 1441.74 1542.27 Q1443.56 1538.71 1443.56 1531.6 Q1443.56 1524.47 1441.74 1520.93 Q1439.93 1517.37 1436.3 1517.37 M1436.3 1513.66 Q1442.11 1513.66 1445.16 1518.27 Q1448.24 1522.85 1448.24 1531.6 Q1448.24 1540.33 1445.16 1544.94 Q1442.11 1549.52 1436.3 1549.52 Q1430.49 1549.52 1427.41 1544.94 Q1424.35 1540.33 1424.35 1531.6 Q1424.35 1522.85 1427.41 1518.27 Q1430.49 1513.66 1436.3 1513.66 Z\" fill=\"#000000\" fill-rule=\"evenodd\" fill-opacity=\"1\" /><path clip-path=\"url(#clip070)\" d=\"M1969.87 1530.21 Q1973.22 1530.93 1975.1 1533.2 Q1977 1535.47 1977 1538.8 Q1977 1543.92 1973.48 1546.72 Q1969.96 1549.52 1963.48 1549.52 Q1961.3 1549.52 1958.99 1549.08 Q1956.7 1548.66 1954.24 1547.81 L1954.24 1543.29 Q1956.19 1544.43 1958.5 1545.01 Q1960.82 1545.58 1963.34 1545.58 Q1967.74 1545.58 1970.03 1543.85 Q1972.34 1542.11 1972.34 1538.8 Q1972.34 1535.75 1970.19 1534.03 Q1968.06 1532.3 1964.24 1532.3 L1960.21 1532.3 L1960.21 1528.45 L1964.43 1528.45 Q1967.88 1528.45 1969.7 1527.09 Q1971.53 1525.7 1971.53 1523.11 Q1971.53 1520.45 1969.64 1519.03 Q1967.76 1517.6 1964.24 1517.6 Q1962.32 1517.6 1960.12 1518.01 Q1957.92 1518.43 1955.28 1519.31 L1955.28 1515.14 Q1957.95 1514.4 1960.26 1514.03 Q1962.6 1513.66 1964.66 1513.66 Q1969.98 1513.66 1973.08 1516.09 Q1976.19 1518.5 1976.19 1522.62 Q1976.19 1525.49 1974.54 1527.48 Q1972.9 1529.45 1969.87 1530.21 Z\" fill=\"#000000\" fill-rule=\"evenodd\" fill-opacity=\"1\" /><path clip-path=\"url(#clip070)\" d=\"M1995.86 1517.37 Q1992.25 1517.37 1990.42 1520.93 Q1988.62 1524.47 1988.62 1531.6 Q1988.62 1538.71 1990.42 1542.27 Q1992.25 1545.82 1995.86 1545.82 Q1999.5 1545.82 2001.3 1542.27 Q2003.13 1538.71 2003.13 1531.6 Q2003.13 1524.47 2001.3 1520.93 Q1999.5 1517.37 1995.86 1517.37 M1995.86 1513.66 Q2001.67 1513.66 2004.73 1518.27 Q2007.81 1522.85 2007.81 1531.6 Q2007.81 1540.33 2004.73 1544.94 Q2001.67 1549.52 1995.86 1549.52 Q1990.05 1549.52 1986.97 1544.94 Q1983.92 1540.33 1983.92 1531.6 Q1983.92 1522.85 1986.97 1518.27 Q1990.05 1513.66 1995.86 1513.66 Z\" fill=\"#000000\" fill-rule=\"evenodd\" fill-opacity=\"1\" /><path clip-path=\"url(#clip070)\" d=\"M2026.02 1517.37 Q2022.41 1517.37 2020.58 1520.93 Q2018.78 1524.47 2018.78 1531.6 Q2018.78 1538.71 2020.58 1542.27 Q2022.41 1545.82 2026.02 1545.82 Q2029.66 1545.82 2031.46 1542.27 Q2033.29 1538.71 2033.29 1531.6 Q2033.29 1524.47 2031.46 1520.93 Q2029.66 1517.37 2026.02 1517.37 M2026.02 1513.66 Q2031.83 1513.66 2034.89 1518.27 Q2037.97 1522.85 2037.97 1531.6 Q2037.97 1540.33 2034.89 1544.94 Q2031.83 1549.52 2026.02 1549.52 Q2020.21 1549.52 2017.14 1544.94 Q2014.08 1540.33 2014.08 1531.6 Q2014.08 1522.85 2017.14 1518.27 Q2020.21 1513.66 2026.02 1513.66 Z\" fill=\"#000000\" fill-rule=\"evenodd\" fill-opacity=\"1\" /><polyline clip-path=\"url(#clip072)\" style=\"stroke:#000000; stroke-linecap:round; stroke-linejoin:round; stroke-width:2; stroke-opacity:0.1; fill:none\" points=\"170.857,1445.72 2352.76,1445.72 \"/>\n",
       "<polyline clip-path=\"url(#clip072)\" style=\"stroke:#000000; stroke-linecap:round; stroke-linejoin:round; stroke-width:2; stroke-opacity:0.1; fill:none\" points=\"170.857,1153.1 2352.76,1153.1 \"/>\n",
       "<polyline clip-path=\"url(#clip072)\" style=\"stroke:#000000; stroke-linecap:round; stroke-linejoin:round; stroke-width:2; stroke-opacity:0.1; fill:none\" points=\"170.857,860.483 2352.76,860.483 \"/>\n",
       "<polyline clip-path=\"url(#clip072)\" style=\"stroke:#000000; stroke-linecap:round; stroke-linejoin:round; stroke-width:2; stroke-opacity:0.1; fill:none\" points=\"170.857,567.867 2352.76,567.867 \"/>\n",
       "<polyline clip-path=\"url(#clip072)\" style=\"stroke:#000000; stroke-linecap:round; stroke-linejoin:round; stroke-width:2; stroke-opacity:0.1; fill:none\" points=\"170.857,275.251 2352.76,275.251 \"/>\n",
       "<polyline clip-path=\"url(#clip070)\" style=\"stroke:#000000; stroke-linecap:round; stroke-linejoin:round; stroke-width:4; stroke-opacity:1; fill:none\" points=\"170.857,1486.45 170.857,47.2441 \"/>\n",
       "<polyline clip-path=\"url(#clip070)\" style=\"stroke:#000000; stroke-linecap:round; stroke-linejoin:round; stroke-width:4; stroke-opacity:1; fill:none\" points=\"170.857,1445.72 189.755,1445.72 \"/>\n",
       "<polyline clip-path=\"url(#clip070)\" style=\"stroke:#000000; stroke-linecap:round; stroke-linejoin:round; stroke-width:4; stroke-opacity:1; fill:none\" points=\"170.857,1153.1 189.755,1153.1 \"/>\n",
       "<polyline clip-path=\"url(#clip070)\" style=\"stroke:#000000; stroke-linecap:round; stroke-linejoin:round; stroke-width:4; stroke-opacity:1; fill:none\" points=\"170.857,860.483 189.755,860.483 \"/>\n",
       "<polyline clip-path=\"url(#clip070)\" style=\"stroke:#000000; stroke-linecap:round; stroke-linejoin:round; stroke-width:4; stroke-opacity:1; fill:none\" points=\"170.857,567.867 189.755,567.867 \"/>\n",
       "<polyline clip-path=\"url(#clip070)\" style=\"stroke:#000000; stroke-linecap:round; stroke-linejoin:round; stroke-width:4; stroke-opacity:1; fill:none\" points=\"170.857,275.251 189.755,275.251 \"/>\n",
       "<path clip-path=\"url(#clip070)\" d=\"M122.913 1431.51 Q119.302 1431.51 117.473 1435.08 Q115.668 1438.62 115.668 1445.75 Q115.668 1452.86 117.473 1456.42 Q119.302 1459.96 122.913 1459.96 Q126.547 1459.96 128.353 1456.42 Q130.182 1452.86 130.182 1445.75 Q130.182 1438.62 128.353 1435.08 Q126.547 1431.51 122.913 1431.51 M122.913 1427.81 Q128.723 1427.81 131.779 1432.42 Q134.857 1437 134.857 1445.75 Q134.857 1454.48 131.779 1459.08 Q128.723 1463.67 122.913 1463.67 Q117.103 1463.67 114.024 1459.08 Q110.969 1454.48 110.969 1445.75 Q110.969 1437 114.024 1432.42 Q117.103 1427.81 122.913 1427.81 Z\" fill=\"#000000\" fill-rule=\"evenodd\" fill-opacity=\"1\" /><path clip-path=\"url(#clip070)\" d=\"M82.7975 1135.82 L101.154 1135.82 L101.154 1139.75 L87.0799 1139.75 L87.0799 1148.23 Q88.0984 1147.88 89.1169 1147.72 Q90.1354 1147.53 91.1539 1147.53 Q96.941 1147.53 100.321 1150.7 Q103.7 1153.87 103.7 1159.29 Q103.7 1164.87 100.228 1167.97 Q96.7558 1171.05 90.4364 1171.05 Q88.2604 1171.05 85.9919 1170.68 Q83.7466 1170.31 81.3392 1169.57 L81.3392 1164.87 Q83.4225 1166 85.6447 1166.56 Q87.8669 1167.12 90.3438 1167.12 Q94.3484 1167.12 96.6863 1165.01 Q99.0243 1162.9 99.0243 1159.29 Q99.0243 1155.68 96.6863 1153.57 Q94.3484 1151.47 90.3438 1151.47 Q88.4688 1151.47 86.5938 1151.88 Q84.7419 1152.3 82.7975 1153.18 L82.7975 1135.82 Z\" fill=\"#000000\" fill-rule=\"evenodd\" fill-opacity=\"1\" /><path clip-path=\"url(#clip070)\" d=\"M122.913 1138.9 Q119.302 1138.9 117.473 1142.46 Q115.668 1146 115.668 1153.13 Q115.668 1160.24 117.473 1163.81 Q119.302 1167.35 122.913 1167.35 Q126.547 1167.35 128.353 1163.81 Q130.182 1160.24 130.182 1153.13 Q130.182 1146 128.353 1142.46 Q126.547 1138.9 122.913 1138.9 M122.913 1135.19 Q128.723 1135.19 131.779 1139.8 Q134.857 1144.38 134.857 1153.13 Q134.857 1161.86 131.779 1166.47 Q128.723 1171.05 122.913 1171.05 Q117.103 1171.05 114.024 1166.47 Q110.969 1161.86 110.969 1153.13 Q110.969 1144.38 114.024 1139.8 Q117.103 1135.19 122.913 1135.19 Z\" fill=\"#000000\" fill-rule=\"evenodd\" fill-opacity=\"1\" /><path clip-path=\"url(#clip070)\" d=\"M53.3995 873.828 L61.0384 873.828 L61.0384 847.462 L52.7282 849.129 L52.7282 844.87 L60.9921 843.203 L65.668 843.203 L65.668 873.828 L73.3068 873.828 L73.3068 877.763 L53.3995 877.763 L53.3995 873.828 Z\" fill=\"#000000\" fill-rule=\"evenodd\" fill-opacity=\"1\" /><path clip-path=\"url(#clip070)\" d=\"M92.7512 846.282 Q89.1401 846.282 87.3114 849.847 Q85.5058 853.388 85.5058 860.518 Q85.5058 867.624 87.3114 871.189 Q89.1401 874.731 92.7512 874.731 Q96.3854 874.731 98.1909 871.189 Q100.02 867.624 100.02 860.518 Q100.02 853.388 98.1909 849.847 Q96.3854 846.282 92.7512 846.282 M92.7512 842.578 Q98.5613 842.578 101.617 847.185 Q104.696 851.768 104.696 860.518 Q104.696 869.245 101.617 873.851 Q98.5613 878.434 92.7512 878.434 Q86.941 878.434 83.8623 873.851 Q80.8068 869.245 80.8068 860.518 Q80.8068 851.768 83.8623 847.185 Q86.941 842.578 92.7512 842.578 Z\" fill=\"#000000\" fill-rule=\"evenodd\" fill-opacity=\"1\" /><path clip-path=\"url(#clip070)\" d=\"M122.913 846.282 Q119.302 846.282 117.473 849.847 Q115.668 853.388 115.668 860.518 Q115.668 867.624 117.473 871.189 Q119.302 874.731 122.913 874.731 Q126.547 874.731 128.353 871.189 Q130.182 867.624 130.182 860.518 Q130.182 853.388 128.353 849.847 Q126.547 846.282 122.913 846.282 M122.913 842.578 Q128.723 842.578 131.779 847.185 Q134.857 851.768 134.857 860.518 Q134.857 869.245 131.779 873.851 Q128.723 878.434 122.913 878.434 Q117.103 878.434 114.024 873.851 Q110.969 869.245 110.969 860.518 Q110.969 851.768 114.024 847.185 Q117.103 842.578 122.913 842.578 Z\" fill=\"#000000\" fill-rule=\"evenodd\" fill-opacity=\"1\" /><path clip-path=\"url(#clip070)\" d=\"M53.3995 581.212 L61.0384 581.212 L61.0384 554.846 L52.7282 556.513 L52.7282 552.254 L60.9921 550.587 L65.668 550.587 L65.668 581.212 L73.3068 581.212 L73.3068 585.147 L53.3995 585.147 L53.3995 581.212 Z\" fill=\"#000000\" fill-rule=\"evenodd\" fill-opacity=\"1\" /><path clip-path=\"url(#clip070)\" d=\"M82.7975 550.587 L101.154 550.587 L101.154 554.522 L87.0799 554.522 L87.0799 562.994 Q88.0984 562.647 89.1169 562.485 Q90.1354 562.3 91.1539 562.3 Q96.941 562.3 100.321 565.471 Q103.7 568.642 103.7 574.059 Q103.7 579.638 100.228 582.74 Q96.7558 585.818 90.4364 585.818 Q88.2604 585.818 85.9919 585.448 Q83.7466 585.077 81.3392 584.337 L81.3392 579.638 Q83.4225 580.772 85.6447 581.328 Q87.8669 581.883 90.3438 581.883 Q94.3484 581.883 96.6863 579.777 Q99.0243 577.67 99.0243 574.059 Q99.0243 570.448 96.6863 568.341 Q94.3484 566.235 90.3438 566.235 Q88.4688 566.235 86.5938 566.652 Q84.7419 567.068 82.7975 567.948 L82.7975 550.587 Z\" fill=\"#000000\" fill-rule=\"evenodd\" fill-opacity=\"1\" /><path clip-path=\"url(#clip070)\" d=\"M122.913 553.666 Q119.302 553.666 117.473 557.23 Q115.668 560.772 115.668 567.902 Q115.668 575.008 117.473 578.573 Q119.302 582.115 122.913 582.115 Q126.547 582.115 128.353 578.573 Q130.182 575.008 130.182 567.902 Q130.182 560.772 128.353 557.23 Q126.547 553.666 122.913 553.666 M122.913 549.962 Q128.723 549.962 131.779 554.568 Q134.857 559.152 134.857 567.902 Q134.857 576.628 131.779 581.235 Q128.723 585.818 122.913 585.818 Q117.103 585.818 114.024 581.235 Q110.969 576.628 110.969 567.902 Q110.969 559.152 114.024 554.568 Q117.103 549.962 122.913 549.962 Z\" fill=\"#000000\" fill-rule=\"evenodd\" fill-opacity=\"1\" /><path clip-path=\"url(#clip070)\" d=\"M56.6171 288.596 L72.9365 288.596 L72.9365 292.531 L50.9921 292.531 L50.9921 288.596 Q53.6541 285.841 58.2375 281.211 Q62.8439 276.559 64.0245 275.216 Q66.2698 272.693 67.1494 270.957 Q68.0522 269.197 68.0522 267.508 Q68.0522 264.753 66.1078 263.017 Q64.1865 261.281 61.0847 261.281 Q58.8856 261.281 56.4319 262.045 Q54.0014 262.809 51.2236 264.36 L51.2236 259.637 Q54.0477 258.503 56.5014 257.924 Q58.955 257.346 60.9921 257.346 Q66.3624 257.346 69.5568 260.031 Q72.7513 262.716 72.7513 267.207 Q72.7513 269.336 71.9411 271.258 Q71.1541 273.156 69.0476 275.748 Q68.4689 276.42 65.367 279.637 Q62.2652 282.832 56.6171 288.596 Z\" fill=\"#000000\" fill-rule=\"evenodd\" fill-opacity=\"1\" /><path clip-path=\"url(#clip070)\" d=\"M92.7512 261.049 Q89.1401 261.049 87.3114 264.614 Q85.5058 268.156 85.5058 275.285 Q85.5058 282.392 87.3114 285.957 Q89.1401 289.498 92.7512 289.498 Q96.3854 289.498 98.1909 285.957 Q100.02 282.392 100.02 275.285 Q100.02 268.156 98.1909 264.614 Q96.3854 261.049 92.7512 261.049 M92.7512 257.346 Q98.5613 257.346 101.617 261.952 Q104.696 266.535 104.696 275.285 Q104.696 284.012 101.617 288.619 Q98.5613 293.202 92.7512 293.202 Q86.941 293.202 83.8623 288.619 Q80.8068 284.012 80.8068 275.285 Q80.8068 266.535 83.8623 261.952 Q86.941 257.346 92.7512 257.346 Z\" fill=\"#000000\" fill-rule=\"evenodd\" fill-opacity=\"1\" /><path clip-path=\"url(#clip070)\" d=\"M122.913 261.049 Q119.302 261.049 117.473 264.614 Q115.668 268.156 115.668 275.285 Q115.668 282.392 117.473 285.957 Q119.302 289.498 122.913 289.498 Q126.547 289.498 128.353 285.957 Q130.182 282.392 130.182 275.285 Q130.182 268.156 128.353 264.614 Q126.547 261.049 122.913 261.049 M122.913 257.346 Q128.723 257.346 131.779 261.952 Q134.857 266.535 134.857 275.285 Q134.857 284.012 131.779 288.619 Q128.723 293.202 122.913 293.202 Q117.103 293.202 114.024 288.619 Q110.969 284.012 110.969 275.285 Q110.969 266.535 114.024 261.952 Q117.103 257.346 122.913 257.346 Z\" fill=\"#000000\" fill-rule=\"evenodd\" fill-opacity=\"1\" /><polyline clip-path=\"url(#clip072)\" style=\"stroke:#009af9; stroke-linecap:round; stroke-linejoin:round; stroke-width:4; stroke-opacity:1; fill:none\" points=\"232.609,819.517 238.507,1205.77 244.405,1311.11 250.303,731.732 256.201,1199.92 262.099,1252.59 267.997,942.416 273.895,1006.79 279.793,1041.91 285.691,725.88 291.589,1369.64 297.487,1445.72 303.385,1422.31 309.283,1340.37 315.181,509.344 321.079,1305.26 326.977,1223.33 332.875,1147.25 338.773,1000.94 344.671,1188.21 350.569,1445.72 356.467,1445.72 362.365,971.677 368.263,1012.64 374.161,1334.52 380.059,1158.95 385.957,1381.34 391.855,1182.36 397.753,778.551 403.651,883.892 409.549,1346.23 415.447,1445.72 421.345,1246.74 427.243,1246.74 433.141,1088.72 439.039,1369.64 444.937,995.087 450.834,796.108 456.732,1369.64 462.63,1434.01 468.528,1416.45 474.426,1445.72 480.324,1211.62 486.222,1194.07 492.12,1445.72 498.018,1012.64 503.916,1270.15 509.814,1445.72 515.712,1387.19 521.61,1445.72 527.508,930.711 533.406,1346.23 539.304,1018.5 545.202,632.243 551.1,889.745 556.998,1270.15 562.896,1445.72 568.794,643.947 574.692,497.639 580.59,772.698 586.488,1305.26 592.386,1305.26 598.284,1445.72 604.182,1410.6 610.08,1276 615.978,1176.51 621.876,1299.41 627.774,1428.16 633.672,1100.43 639.57,1135.54 645.468,983.382 651.366,1375.49 657.264,1357.93 663.162,1369.64 669.06,1036.05 674.958,977.53 680.856,1176.51 686.754,1135.54 692.652,1182.36 698.55,1369.64 704.448,1369.64 710.346,1305.26 716.244,1404.75 722.142,1445.72 728.04,1112.13 733.938,1240.88 739.835,1328.67 745.733,1346.23 751.631,1445.72 757.529,1018.5 763.427,1445.72 769.325,1258.44 775.223,1252.59 781.121,1240.88 787.019,1357.93 792.917,1006.79 798.815,1410.6 804.713,1363.78 810.611,1170.66 816.509,895.597 822.407,1445.72 828.305,743.437 834.203,1428.16 840.101,439.116 845.999,1088.72 851.897,977.53 857.795,1445.72 863.693,368.888 869.591,1199.92 875.489,1088.72 881.387,1164.8 887.285,942.416 893.183,608.833 899.081,1287.7 904.979,1416.45 910.877,1047.76 916.775,878.04 922.673,760.994 928.571,1000.94 934.469,737.584 940.367,1363.78 946.265,1445.72 952.163,1170.66 958.061,1410.6 963.959,1305.26 969.857,1322.82 975.755,1428.16 981.653,842.926 987.551,1445.72 993.449,1340.37 999.347,1445.72 1005.24,1158.95 1011.14,1434.01 1017.04,1357.93 1022.94,1164.8 1028.84,1077.02 1034.73,1047.76 1040.63,1141.39 1046.53,731.732 1052.43,1147.25 1058.33,1393.04 1064.22,1445.72 1070.12,1428.16 1076.02,1445.72 1081.92,1369.64 1087.82,1287.7 1093.71,1387.19 1099.61,1422.31 1105.51,1445.72 1111.41,1117.99 1117.31,1393.04 1123.2,1182.36 1129.1,1439.86 1135,1357.93 1140.9,1030.2 1146.8,1164.8 1152.69,1071.17 1158.59,995.087 1164.49,439.116 1170.39,1217.48 1176.29,1445.72 1182.18,1158.95 1188.08,1445.72 1193.98,1369.64 1199.88,1445.72 1205.78,1287.7 1211.67,1352.08 1217.57,883.892 1223.47,1071.17 1229.37,1445.72 1235.27,1422.31 1241.16,1188.21 1247.06,919.006 1252.96,1445.72 1258.86,1445.72 1264.76,690.766 1270.65,1445.72 1276.55,1434.01 1282.45,696.618 1288.35,1445.72 1294.25,1199.92 1300.14,1393.04 1306.04,1246.74 1311.94,1334.52 1317.84,1445.72 1323.74,1445.72 1329.63,1445.72 1335.53,1439.86 1341.43,1445.72 1347.33,1205.77 1353.23,1445.72 1359.12,1387.19 1365.02,1445.72 1370.92,1445.72 1376.82,1316.96 1382.72,1445.72 1388.61,1381.34 1394.51,1445.72 1400.41,1410.6 1406.31,1445.72 1412.21,1077.02 1418.1,1053.61 1424,1445.72 1429.9,1410.6 1435.8,1445.72 1441.7,1036.05 1447.59,983.382 1453.49,1293.56 1459.39,1217.48 1465.29,87.9763 1471.18,1088.72 1477.08,1445.72 1482.98,1445.72 1488.88,1357.93 1494.78,1445.72 1500.67,1293.56 1506.57,1445.72 1512.47,1123.84 1518.37,1316.96 1524.27,1065.31 1530.16,1404.75 1536.06,1445.72 1541.96,1439.86 1547.86,1229.18 1553.76,1434.01 1559.65,1445.72 1565.55,1071.17 1571.45,1445.72 1577.35,1357.93 1583.25,1445.72 1589.14,1445.72 1595.04,1445.72 1600.94,1445.72 1606.84,1445.72 1612.74,1281.85 1618.63,1445.72 1624.53,1352.08 1630.43,1240.88 1636.33,1445.72 1642.23,1117.99 1648.12,1316.96 1654.02,1334.52 1659.92,1445.72 1665.82,1287.7 1671.72,1416.45 1677.61,1445.72 1683.51,1357.93 1689.41,1363.78 1695.31,433.263 1701.21,1322.82 1707.1,1123.84 1713,1112.13 1718.9,1264.29 1724.8,1235.03 1730.7,1340.37 1736.59,1404.75 1742.49,1281.85 1748.39,790.255 1754.29,1369.64 1760.19,1252.59 1766.08,1305.26 1771.98,913.154 1777.88,1445.72 1783.78,1334.52 1789.68,1252.59 1795.57,1445.72 1801.47,1281.85 1807.37,889.745 1813.27,1445.72 1819.17,1153.1 1825.06,1357.93 1830.96,1416.45 1836.86,1416.45 1842.76,1217.48 1848.66,1445.72 1854.55,1387.19 1860.45,1445.72 1866.35,1270.15 1872.25,1445.72 1878.15,1445.72 1884.04,1445.72 1889.94,1445.72 1895.84,1445.72 1901.74,1258.44 1907.64,1305.26 1913.53,1381.34 1919.43,1445.72 1925.33,1445.72 1931.23,1445.72 1937.13,1445.72 1943.02,1445.72 1948.92,1445.72 1954.82,1445.72 1960.72,1199.92 1966.62,1410.6 1972.51,1445.72 1978.41,1445.72 1984.31,1445.72 1990.21,1445.72 1996.11,1445.72 2002,1281.85 2007.9,1270.15 2013.8,1445.72 2019.7,1404.75 2025.59,919.006 2031.49,1071.17 2037.39,1340.37 2043.29,1410.6 2049.19,948.268 2055.08,1322.82 2060.98,1445.72 2066.88,1428.16 2072.78,1328.67 2078.68,1445.72 2084.57,1445.72 2090.47,1445.72 2096.37,1445.72 2102.27,1352.08 2108.17,1276 2114.06,1445.72 2119.96,1445.72 2125.86,1445.72 2131.76,1393.04 2137.66,1270.15 2143.55,1194.07 2149.45,901.449 2155.35,1322.82 2161.25,1445.72 2167.15,1334.52 2173.04,1445.72 2178.94,1445.72 2184.84,1217.48 2190.74,1176.51 2196.64,1445.72 2202.53,1445.72 2208.43,1445.72 2214.33,1164.8 2220.23,1445.72 2226.13,1445.72 2232.02,1363.78 2237.92,1445.72 2243.82,1445.72 2249.72,1445.72 2255.62,1445.72 2261.51,1381.34 2267.41,1445.72 2273.31,1445.72 2279.21,1276 2285.11,1445.72 2291,1445.72 \"/>\n",
       "<path clip-path=\"url(#clip070)\" d=\"M2009.41 198.898 L2280.03 198.898 L2280.03 95.2176 L2009.41 95.2176  Z\" fill=\"#ffffff\" fill-rule=\"evenodd\" fill-opacity=\"1\"/>\n",
       "<polyline clip-path=\"url(#clip070)\" style=\"stroke:#000000; stroke-linecap:round; stroke-linejoin:round; stroke-width:4; stroke-opacity:1; fill:none\" points=\"2009.41,198.898 2280.03,198.898 2280.03,95.2176 2009.41,95.2176 2009.41,198.898 \"/>\n",
       "<polyline clip-path=\"url(#clip070)\" style=\"stroke:#009af9; stroke-linecap:round; stroke-linejoin:round; stroke-width:4; stroke-opacity:1; fill:none\" points=\"2033.65,147.058 2179.11,147.058 \"/>\n",
       "<path clip-path=\"url(#clip070)\" d=\"M2217.19 166.745 Q2215.39 171.375 2213.68 172.787 Q2211.96 174.199 2209.09 174.199 L2205.69 174.199 L2205.69 170.634 L2208.19 170.634 Q2209.95 170.634 2210.92 169.8 Q2211.89 168.967 2213.07 165.865 L2213.84 163.921 L2203.35 138.412 L2207.87 138.412 L2215.97 158.689 L2224.07 138.412 L2228.58 138.412 L2217.19 166.745 Z\" fill=\"#000000\" fill-rule=\"evenodd\" fill-opacity=\"1\" /><path clip-path=\"url(#clip070)\" d=\"M2235.88 160.402 L2243.51 160.402 L2243.51 134.037 L2235.2 135.703 L2235.2 131.444 L2243.47 129.778 L2248.14 129.778 L2248.14 160.402 L2255.78 160.402 L2255.78 164.338 L2235.88 164.338 L2235.88 160.402 Z\" fill=\"#000000\" fill-rule=\"evenodd\" fill-opacity=\"1\" /></svg>\n"
      ]
     },
     "execution_count": 36,
     "metadata": {},
     "output_type": "execute_result"
    }
   ],
   "source": [
    "plot(avg_payoffs.lost_orders)"
   ]
  },
  {
   "cell_type": "code",
   "execution_count": 37,
   "metadata": {},
   "outputs": [
    {
     "data": {
      "image/svg+xml": [
       "<?xml version=\"1.0\" encoding=\"utf-8\"?>\n",
       "<svg xmlns=\"http://www.w3.org/2000/svg\" xmlns:xlink=\"http://www.w3.org/1999/xlink\" width=\"600\" height=\"400\" viewBox=\"0 0 2400 1600\">\n",
       "<defs>\n",
       "  <clipPath id=\"clip110\">\n",
       "    <rect x=\"0\" y=\"0\" width=\"2400\" height=\"1600\"/>\n",
       "  </clipPath>\n",
       "</defs>\n",
       "<path clip-path=\"url(#clip110)\" d=\"M0 1600 L2400 1600 L2400 0 L0 0  Z\" fill=\"#ffffff\" fill-rule=\"evenodd\" fill-opacity=\"1\"/>\n",
       "<defs>\n",
       "  <clipPath id=\"clip111\">\n",
       "    <rect x=\"480\" y=\"0\" width=\"1681\" height=\"1600\"/>\n",
       "  </clipPath>\n",
       "</defs>\n",
       "<path clip-path=\"url(#clip110)\" d=\"M141.853 1486.45 L2352.76 1486.45 L2352.76 47.2441 L141.853 47.2441  Z\" fill=\"#ffffff\" fill-rule=\"evenodd\" fill-opacity=\"1\"/>\n",
       "<defs>\n",
       "  <clipPath id=\"clip112\">\n",
       "    <rect x=\"141\" y=\"47\" width=\"2212\" height=\"1440\"/>\n",
       "  </clipPath>\n",
       "</defs>\n",
       "<polyline clip-path=\"url(#clip112)\" style=\"stroke:#000000; stroke-linecap:round; stroke-linejoin:round; stroke-width:2; stroke-opacity:0.1; fill:none\" points=\"198.449,1486.45 198.449,47.2441 \"/>\n",
       "<polyline clip-path=\"url(#clip112)\" style=\"stroke:#000000; stroke-linecap:round; stroke-linejoin:round; stroke-width:2; stroke-opacity:0.1; fill:none\" points=\"796.088,1486.45 796.088,47.2441 \"/>\n",
       "<polyline clip-path=\"url(#clip112)\" style=\"stroke:#000000; stroke-linecap:round; stroke-linejoin:round; stroke-width:2; stroke-opacity:0.1; fill:none\" points=\"1393.73,1486.45 1393.73,47.2441 \"/>\n",
       "<polyline clip-path=\"url(#clip112)\" style=\"stroke:#000000; stroke-linecap:round; stroke-linejoin:round; stroke-width:2; stroke-opacity:0.1; fill:none\" points=\"1991.36,1486.45 1991.36,47.2441 \"/>\n",
       "<polyline clip-path=\"url(#clip110)\" style=\"stroke:#000000; stroke-linecap:round; stroke-linejoin:round; stroke-width:4; stroke-opacity:1; fill:none\" points=\"141.853,1486.45 2352.76,1486.45 \"/>\n",
       "<polyline clip-path=\"url(#clip110)\" style=\"stroke:#000000; stroke-linecap:round; stroke-linejoin:round; stroke-width:4; stroke-opacity:1; fill:none\" points=\"198.449,1486.45 198.449,1467.55 \"/>\n",
       "<polyline clip-path=\"url(#clip110)\" style=\"stroke:#000000; stroke-linecap:round; stroke-linejoin:round; stroke-width:4; stroke-opacity:1; fill:none\" points=\"796.088,1486.45 796.088,1467.55 \"/>\n",
       "<polyline clip-path=\"url(#clip110)\" style=\"stroke:#000000; stroke-linecap:round; stroke-linejoin:round; stroke-width:4; stroke-opacity:1; fill:none\" points=\"1393.73,1486.45 1393.73,1467.55 \"/>\n",
       "<polyline clip-path=\"url(#clip110)\" style=\"stroke:#000000; stroke-linecap:round; stroke-linejoin:round; stroke-width:4; stroke-opacity:1; fill:none\" points=\"1991.36,1486.45 1991.36,1467.55 \"/>\n",
       "<path clip-path=\"url(#clip110)\" d=\"M198.449 1517.37 Q194.838 1517.37 193.01 1520.93 Q191.204 1524.47 191.204 1531.6 Q191.204 1538.71 193.01 1542.27 Q194.838 1545.82 198.449 1545.82 Q202.084 1545.82 203.889 1542.27 Q205.718 1538.71 205.718 1531.6 Q205.718 1524.47 203.889 1520.93 Q202.084 1517.37 198.449 1517.37 M198.449 1513.66 Q204.259 1513.66 207.315 1518.27 Q210.394 1522.85 210.394 1531.6 Q210.394 1540.33 207.315 1544.94 Q204.259 1549.52 198.449 1549.52 Q192.639 1549.52 189.56 1544.94 Q186.505 1540.33 186.505 1531.6 Q186.505 1522.85 189.56 1518.27 Q192.639 1513.66 198.449 1513.66 Z\" fill=\"#000000\" fill-rule=\"evenodd\" fill-opacity=\"1\" /><path clip-path=\"url(#clip110)\" d=\"M755.694 1544.91 L763.333 1544.91 L763.333 1518.55 L755.023 1520.21 L755.023 1515.95 L763.287 1514.29 L767.963 1514.29 L767.963 1544.91 L775.602 1544.91 L775.602 1548.85 L755.694 1548.85 L755.694 1544.91 Z\" fill=\"#000000\" fill-rule=\"evenodd\" fill-opacity=\"1\" /><path clip-path=\"url(#clip110)\" d=\"M795.046 1517.37 Q791.435 1517.37 789.606 1520.93 Q787.801 1524.47 787.801 1531.6 Q787.801 1538.71 789.606 1542.27 Q791.435 1545.82 795.046 1545.82 Q798.68 1545.82 800.486 1542.27 Q802.314 1538.71 802.314 1531.6 Q802.314 1524.47 800.486 1520.93 Q798.68 1517.37 795.046 1517.37 M795.046 1513.66 Q800.856 1513.66 803.912 1518.27 Q806.99 1522.85 806.99 1531.6 Q806.99 1540.33 803.912 1544.94 Q800.856 1549.52 795.046 1549.52 Q789.236 1549.52 786.157 1544.94 Q783.101 1540.33 783.101 1531.6 Q783.101 1522.85 786.157 1518.27 Q789.236 1513.66 795.046 1513.66 Z\" fill=\"#000000\" fill-rule=\"evenodd\" fill-opacity=\"1\" /><path clip-path=\"url(#clip110)\" d=\"M825.208 1517.37 Q821.597 1517.37 819.768 1520.93 Q817.962 1524.47 817.962 1531.6 Q817.962 1538.71 819.768 1542.27 Q821.597 1545.82 825.208 1545.82 Q828.842 1545.82 830.648 1542.27 Q832.476 1538.71 832.476 1531.6 Q832.476 1524.47 830.648 1520.93 Q828.842 1517.37 825.208 1517.37 M825.208 1513.66 Q831.018 1513.66 834.073 1518.27 Q837.152 1522.85 837.152 1531.6 Q837.152 1540.33 834.073 1544.94 Q831.018 1549.52 825.208 1549.52 Q819.398 1549.52 816.319 1544.94 Q813.263 1540.33 813.263 1531.6 Q813.263 1522.85 816.319 1518.27 Q819.398 1513.66 825.208 1513.66 Z\" fill=\"#000000\" fill-rule=\"evenodd\" fill-opacity=\"1\" /><path clip-path=\"url(#clip110)\" d=\"M1357.42 1544.91 L1373.74 1544.91 L1373.74 1548.85 L1351.79 1548.85 L1351.79 1544.91 Q1354.46 1542.16 1359.04 1537.53 Q1363.64 1532.88 1364.83 1531.53 Q1367.07 1529.01 1367.95 1527.27 Q1368.85 1525.51 1368.85 1523.82 Q1368.85 1521.07 1366.91 1519.33 Q1364.99 1517.6 1361.89 1517.6 Q1359.69 1517.6 1357.23 1518.36 Q1354.8 1519.13 1352.02 1520.68 L1352.02 1515.95 Q1354.85 1514.82 1357.3 1514.24 Q1359.76 1513.66 1361.79 1513.66 Q1367.16 1513.66 1370.36 1516.35 Q1373.55 1519.03 1373.55 1523.52 Q1373.55 1525.65 1372.74 1527.57 Q1371.96 1529.47 1369.85 1532.07 Q1369.27 1532.74 1366.17 1535.95 Q1363.07 1539.15 1357.42 1544.91 Z\" fill=\"#000000\" fill-rule=\"evenodd\" fill-opacity=\"1\" /><path clip-path=\"url(#clip110)\" d=\"M1393.55 1517.37 Q1389.94 1517.37 1388.11 1520.93 Q1386.31 1524.47 1386.31 1531.6 Q1386.31 1538.71 1388.11 1542.27 Q1389.94 1545.82 1393.55 1545.82 Q1397.19 1545.82 1398.99 1542.27 Q1400.82 1538.71 1400.82 1531.6 Q1400.82 1524.47 1398.99 1520.93 Q1397.19 1517.37 1393.55 1517.37 M1393.55 1513.66 Q1399.36 1513.66 1402.42 1518.27 Q1405.5 1522.85 1405.5 1531.6 Q1405.5 1540.33 1402.42 1544.94 Q1399.36 1549.52 1393.55 1549.52 Q1387.74 1549.52 1384.66 1544.94 Q1381.61 1540.33 1381.61 1531.6 Q1381.61 1522.85 1384.66 1518.27 Q1387.74 1513.66 1393.55 1513.66 Z\" fill=\"#000000\" fill-rule=\"evenodd\" fill-opacity=\"1\" /><path clip-path=\"url(#clip110)\" d=\"M1423.71 1517.37 Q1420.1 1517.37 1418.27 1520.93 Q1416.47 1524.47 1416.47 1531.6 Q1416.47 1538.71 1418.27 1542.27 Q1420.1 1545.82 1423.71 1545.82 Q1427.35 1545.82 1429.15 1542.27 Q1430.98 1538.71 1430.98 1531.6 Q1430.98 1524.47 1429.15 1520.93 Q1427.35 1517.37 1423.71 1517.37 M1423.71 1513.66 Q1429.52 1513.66 1432.58 1518.27 Q1435.66 1522.85 1435.66 1531.6 Q1435.66 1540.33 1432.58 1544.94 Q1429.52 1549.52 1423.71 1549.52 Q1417.9 1549.52 1414.83 1544.94 Q1411.77 1540.33 1411.77 1531.6 Q1411.77 1522.85 1414.83 1518.27 Q1417.9 1513.66 1423.71 1513.66 Z\" fill=\"#000000\" fill-rule=\"evenodd\" fill-opacity=\"1\" /><path clip-path=\"url(#clip110)\" d=\"M1965.13 1530.21 Q1968.48 1530.93 1970.36 1533.2 Q1972.26 1535.47 1972.26 1538.8 Q1972.26 1543.92 1968.74 1546.72 Q1965.22 1549.52 1958.74 1549.52 Q1956.56 1549.52 1954.25 1549.08 Q1951.95 1548.66 1949.5 1547.81 L1949.5 1543.29 Q1951.45 1544.43 1953.76 1545.01 Q1956.07 1545.58 1958.6 1545.58 Q1963 1545.58 1965.29 1543.85 Q1967.6 1542.11 1967.6 1538.8 Q1967.6 1535.75 1965.45 1534.03 Q1963.32 1532.3 1959.5 1532.3 L1955.47 1532.3 L1955.47 1528.45 L1959.69 1528.45 Q1963.14 1528.45 1964.96 1527.09 Q1966.79 1525.7 1966.79 1523.11 Q1966.79 1520.45 1964.89 1519.03 Q1963.02 1517.6 1959.5 1517.6 Q1957.58 1517.6 1955.38 1518.01 Q1953.18 1518.43 1950.54 1519.31 L1950.54 1515.14 Q1953.2 1514.4 1955.52 1514.03 Q1957.86 1513.66 1959.92 1513.66 Q1965.24 1513.66 1968.34 1516.09 Q1971.45 1518.5 1971.45 1522.62 Q1971.45 1525.49 1969.8 1527.48 Q1968.16 1529.45 1965.13 1530.21 Z\" fill=\"#000000\" fill-rule=\"evenodd\" fill-opacity=\"1\" /><path clip-path=\"url(#clip110)\" d=\"M1991.12 1517.37 Q1987.51 1517.37 1985.68 1520.93 Q1983.88 1524.47 1983.88 1531.6 Q1983.88 1538.71 1985.68 1542.27 Q1987.51 1545.82 1991.12 1545.82 Q1994.76 1545.82 1996.56 1542.27 Q1998.39 1538.71 1998.39 1531.6 Q1998.39 1524.47 1996.56 1520.93 Q1994.76 1517.37 1991.12 1517.37 M1991.12 1513.66 Q1996.93 1513.66 1999.99 1518.27 Q2003.07 1522.85 2003.07 1531.6 Q2003.07 1540.33 1999.99 1544.94 Q1996.93 1549.52 1991.12 1549.52 Q1985.31 1549.52 1982.23 1544.94 Q1979.18 1540.33 1979.18 1531.6 Q1979.18 1522.85 1982.23 1518.27 Q1985.31 1513.66 1991.12 1513.66 Z\" fill=\"#000000\" fill-rule=\"evenodd\" fill-opacity=\"1\" /><path clip-path=\"url(#clip110)\" d=\"M2021.28 1517.37 Q2017.67 1517.37 2015.84 1520.93 Q2014.04 1524.47 2014.04 1531.6 Q2014.04 1538.71 2015.84 1542.27 Q2017.67 1545.82 2021.28 1545.82 Q2024.92 1545.82 2026.72 1542.27 Q2028.55 1538.71 2028.55 1531.6 Q2028.55 1524.47 2026.72 1520.93 Q2024.92 1517.37 2021.28 1517.37 M2021.28 1513.66 Q2027.09 1513.66 2030.15 1518.27 Q2033.23 1522.85 2033.23 1531.6 Q2033.23 1540.33 2030.15 1544.94 Q2027.09 1549.52 2021.28 1549.52 Q2015.47 1549.52 2012.39 1544.94 Q2009.34 1540.33 2009.34 1531.6 Q2009.34 1522.85 2012.39 1518.27 Q2015.47 1513.66 2021.28 1513.66 Z\" fill=\"#000000\" fill-rule=\"evenodd\" fill-opacity=\"1\" /><polyline clip-path=\"url(#clip112)\" style=\"stroke:#000000; stroke-linecap:round; stroke-linejoin:round; stroke-width:2; stroke-opacity:0.1; fill:none\" points=\"141.853,1445.72 2352.76,1445.72 \"/>\n",
       "<polyline clip-path=\"url(#clip112)\" style=\"stroke:#000000; stroke-linecap:round; stroke-linejoin:round; stroke-width:2; stroke-opacity:0.1; fill:none\" points=\"141.853,993.136 2352.76,993.136 \"/>\n",
       "<polyline clip-path=\"url(#clip112)\" style=\"stroke:#000000; stroke-linecap:round; stroke-linejoin:round; stroke-width:2; stroke-opacity:0.1; fill:none\" points=\"141.853,540.556 2352.76,540.556 \"/>\n",
       "<polyline clip-path=\"url(#clip112)\" style=\"stroke:#000000; stroke-linecap:round; stroke-linejoin:round; stroke-width:2; stroke-opacity:0.1; fill:none\" points=\"141.853,87.9763 2352.76,87.9763 \"/>\n",
       "<polyline clip-path=\"url(#clip110)\" style=\"stroke:#000000; stroke-linecap:round; stroke-linejoin:round; stroke-width:4; stroke-opacity:1; fill:none\" points=\"141.853,1486.45 141.853,47.2441 \"/>\n",
       "<polyline clip-path=\"url(#clip110)\" style=\"stroke:#000000; stroke-linecap:round; stroke-linejoin:round; stroke-width:4; stroke-opacity:1; fill:none\" points=\"141.853,1445.72 160.751,1445.72 \"/>\n",
       "<polyline clip-path=\"url(#clip110)\" style=\"stroke:#000000; stroke-linecap:round; stroke-linejoin:round; stroke-width:4; stroke-opacity:1; fill:none\" points=\"141.853,993.136 160.751,993.136 \"/>\n",
       "<polyline clip-path=\"url(#clip110)\" style=\"stroke:#000000; stroke-linecap:round; stroke-linejoin:round; stroke-width:4; stroke-opacity:1; fill:none\" points=\"141.853,540.556 160.751,540.556 \"/>\n",
       "<polyline clip-path=\"url(#clip110)\" style=\"stroke:#000000; stroke-linecap:round; stroke-linejoin:round; stroke-width:4; stroke-opacity:1; fill:none\" points=\"141.853,87.9763 160.751,87.9763 \"/>\n",
       "<path clip-path=\"url(#clip110)\" d=\"M57.7745 1459.06 L74.0939 1459.06 L74.0939 1463 L52.1495 1463 L52.1495 1459.06 Q54.8115 1456.31 59.3949 1451.68 Q64.0013 1447.02 65.1819 1445.68 Q67.4272 1443.16 68.3068 1441.42 Q69.2096 1439.66 69.2096 1437.97 Q69.2096 1435.22 67.2652 1433.48 Q65.3439 1431.75 62.2421 1431.75 Q60.043 1431.75 57.5893 1432.51 Q55.1588 1433.27 52.381 1434.82 L52.381 1430.1 Q55.2051 1428.97 57.6588 1428.39 Q60.1124 1427.81 62.1495 1427.81 Q67.5198 1427.81 70.7142 1430.5 Q73.9087 1433.18 73.9087 1437.67 Q73.9087 1439.8 73.0985 1441.72 Q72.3115 1443.62 70.205 1446.21 Q69.6263 1446.88 66.5245 1450.1 Q63.4226 1453.3 57.7745 1459.06 Z\" fill=\"#000000\" fill-rule=\"evenodd\" fill-opacity=\"1\" /><path clip-path=\"url(#clip110)\" d=\"M93.9086 1431.51 Q90.2975 1431.51 88.4688 1435.08 Q86.6632 1438.62 86.6632 1445.75 Q86.6632 1452.86 88.4688 1456.42 Q90.2975 1459.96 93.9086 1459.96 Q97.5428 1459.96 99.3483 1456.42 Q101.177 1452.86 101.177 1445.75 Q101.177 1438.62 99.3483 1435.08 Q97.5428 1431.51 93.9086 1431.51 M93.9086 1427.81 Q99.7187 1427.81 102.774 1432.42 Q105.853 1437 105.853 1445.75 Q105.853 1454.48 102.774 1459.08 Q99.7187 1463.67 93.9086 1463.67 Q88.0984 1463.67 85.0197 1459.08 Q81.9642 1454.48 81.9642 1445.75 Q81.9642 1437 85.0197 1432.42 Q88.0984 1427.81 93.9086 1427.81 Z\" fill=\"#000000\" fill-rule=\"evenodd\" fill-opacity=\"1\" /><path clip-path=\"url(#clip110)\" d=\"M67.9133 991.782 Q71.2698 992.499 73.1448 994.768 Q75.0429 997.036 75.0429 1000.37 Q75.0429 1005.49 71.5244 1008.29 Q68.0059 1011.09 61.5245 1011.09 Q59.3486 1011.09 57.0338 1010.65 Q54.7421 1010.23 52.2884 1009.37 L52.2884 1004.86 Q54.2328 1005.99 56.5477 1006.57 Q58.8625 1007.15 61.3856 1007.15 Q65.7837 1007.15 68.0754 1005.42 Q70.3902 1003.68 70.3902 1000.37 Q70.3902 997.314 68.2374 995.601 Q66.1078 993.865 62.2884 993.865 L58.2606 993.865 L58.2606 990.022 L62.4735 990.022 Q65.9226 990.022 67.7513 988.657 Q69.58 987.268 69.58 984.675 Q69.58 982.013 67.6819 980.601 Q65.8069 979.166 62.2884 979.166 Q60.3671 979.166 58.168 979.583 Q55.969 979.999 53.3301 980.879 L53.3301 976.712 Q55.9921 975.972 58.3069 975.601 Q60.6449 975.231 62.705 975.231 Q68.0291 975.231 71.1309 977.661 Q74.2327 980.069 74.2327 984.189 Q74.2327 987.06 72.5892 989.05 Q70.9457 991.018 67.9133 991.782 Z\" fill=\"#000000\" fill-rule=\"evenodd\" fill-opacity=\"1\" /><path clip-path=\"url(#clip110)\" d=\"M93.9086 978.935 Q90.2975 978.935 88.4688 982.499 Q86.6632 986.041 86.6632 993.171 Q86.6632 1000.28 88.4688 1003.84 Q90.2975 1007.38 93.9086 1007.38 Q97.5428 1007.38 99.3483 1003.84 Q101.177 1000.28 101.177 993.171 Q101.177 986.041 99.3483 982.499 Q97.5428 978.935 93.9086 978.935 M93.9086 975.231 Q99.7187 975.231 102.774 979.837 Q105.853 984.421 105.853 993.171 Q105.853 1001.9 102.774 1006.5 Q99.7187 1011.09 93.9086 1011.09 Q88.0984 1011.09 85.0197 1006.5 Q81.9642 1001.9 81.9642 993.171 Q81.9642 984.421 85.0197 979.837 Q88.0984 975.231 93.9086 975.231 Z\" fill=\"#000000\" fill-rule=\"evenodd\" fill-opacity=\"1\" /><path clip-path=\"url(#clip110)\" d=\"M66.5939 527.35 L54.7884 545.799 L66.5939 545.799 L66.5939 527.35 M65.367 523.276 L71.2466 523.276 L71.2466 545.799 L76.1772 545.799 L76.1772 549.688 L71.2466 549.688 L71.2466 557.836 L66.5939 557.836 L66.5939 549.688 L50.9921 549.688 L50.9921 545.174 L65.367 523.276 Z\" fill=\"#000000\" fill-rule=\"evenodd\" fill-opacity=\"1\" /><path clip-path=\"url(#clip110)\" d=\"M93.9086 526.355 Q90.2975 526.355 88.4688 529.92 Q86.6632 533.461 86.6632 540.591 Q86.6632 547.697 88.4688 551.262 Q90.2975 554.804 93.9086 554.804 Q97.5428 554.804 99.3483 551.262 Q101.177 547.697 101.177 540.591 Q101.177 533.461 99.3483 529.92 Q97.5428 526.355 93.9086 526.355 M93.9086 522.651 Q99.7187 522.651 102.774 527.258 Q105.853 531.841 105.853 540.591 Q105.853 549.318 102.774 553.924 Q99.7187 558.507 93.9086 558.507 Q88.0984 558.507 85.0197 553.924 Q81.9642 549.318 81.9642 540.591 Q81.9642 531.841 85.0197 527.258 Q88.0984 522.651 93.9086 522.651 Z\" fill=\"#000000\" fill-rule=\"evenodd\" fill-opacity=\"1\" /><path clip-path=\"url(#clip110)\" d=\"M53.793 70.6963 L72.1494 70.6963 L72.1494 74.6314 L58.0754 74.6314 L58.0754 83.1036 Q59.0939 82.7564 60.1124 82.5944 Q61.131 82.4092 62.1495 82.4092 Q67.9365 82.4092 71.3161 85.5805 Q74.6957 88.7517 74.6957 94.1684 Q74.6957 99.747 71.2235 102.849 Q67.7513 105.928 61.4319 105.928 Q59.256 105.928 56.9875 105.557 Q54.7421 105.187 52.3347 104.446 L52.3347 99.747 Q54.418 100.881 56.6402 101.437 Q58.8625 101.992 61.3393 101.992 Q65.3439 101.992 67.6819 99.8859 Q70.0198 97.7795 70.0198 94.1684 Q70.0198 90.5573 67.6819 88.4508 Q65.3439 86.3443 61.3393 86.3443 Q59.4643 86.3443 57.5893 86.761 Q55.7375 87.1777 53.793 88.0573 L53.793 70.6963 Z\" fill=\"#000000\" fill-rule=\"evenodd\" fill-opacity=\"1\" /><path clip-path=\"url(#clip110)\" d=\"M93.9086 73.775 Q90.2975 73.775 88.4688 77.3398 Q86.6632 80.8814 86.6632 88.011 Q86.6632 95.1174 88.4688 98.6822 Q90.2975 102.224 93.9086 102.224 Q97.5428 102.224 99.3483 98.6822 Q101.177 95.1174 101.177 88.011 Q101.177 80.8814 99.3483 77.3398 Q97.5428 73.775 93.9086 73.775 M93.9086 70.0713 Q99.7187 70.0713 102.774 74.6777 Q105.853 79.261 105.853 88.011 Q105.853 96.7378 102.774 101.344 Q99.7187 105.928 93.9086 105.928 Q88.0984 105.928 85.0197 101.344 Q81.9642 96.7378 81.9642 88.011 Q81.9642 79.261 85.0197 74.6777 Q88.0984 70.0713 93.9086 70.0713 Z\" fill=\"#000000\" fill-rule=\"evenodd\" fill-opacity=\"1\" /><polyline clip-path=\"url(#clip112)\" style=\"stroke:#009af9; stroke-linecap:round; stroke-linejoin:round; stroke-width:4; stroke-opacity:1; fill:none\" points=\"204.426,1445.72 210.402,1445.72 216.378,1445.72 222.355,1445.72 228.331,1445.72 234.308,1445.72 240.284,1445.72 246.26,1445.72 252.237,1445.72 258.213,1445.72 264.189,1445.72 270.166,1445.72 276.142,1445.72 282.119,1445.72 288.095,1445.72 294.071,1445.72 300.048,1445.72 306.024,1445.72 312.001,1445.72 317.977,1445.72 323.953,1445.72 329.93,1445.72 335.906,1445.72 341.882,1445.72 347.859,1445.72 353.835,1445.72 359.812,1445.72 365.788,1445.72 371.764,1445.72 377.741,1445.72 383.717,1445.72 389.694,1445.72 395.67,1445.72 401.646,1445.72 407.623,1445.72 413.599,1445.72 419.575,1445.72 425.552,1445.72 431.528,1445.72 437.505,1445.72 443.481,1445.72 449.457,1445.72 455.434,1445.72 461.41,1445.72 467.387,1445.72 473.363,1445.72 479.339,1445.72 485.316,1445.72 491.292,1445.72 497.268,1445.72 503.245,1219.43 509.221,1219.43 515.198,1219.43 521.174,1219.43 527.15,1219.43 533.127,1219.43 539.103,1219.43 545.079,1219.43 551.056,1219.43 557.032,1219.43 563.009,1219.43 568.985,1219.43 574.961,1219.43 580.938,1219.43 586.914,1219.43 592.891,1219.43 598.867,1219.43 604.843,1219.43 610.82,1219.43 616.796,1219.43 622.772,1219.43 628.749,1219.43 634.725,1219.43 640.702,1219.43 646.678,1219.43 652.654,1219.43 658.631,1219.43 664.607,1219.43 670.584,1219.43 676.56,1219.43 682.536,1219.43 688.513,1219.43 694.489,1219.43 700.465,1219.43 706.442,1219.43 712.418,1219.43 718.395,1219.43 724.371,1219.43 730.347,1219.43 736.324,1219.43 742.3,1219.43 748.276,1219.43 754.253,1219.43 760.229,1219.43 766.206,1219.43 772.182,1219.43 778.158,1219.43 784.135,1219.43 790.111,1219.43 796.088,1219.43 802.064,993.136 808.04,993.136 814.017,993.136 819.993,993.136 825.969,993.136 831.946,993.136 837.922,993.136 843.899,993.136 849.875,993.136 855.851,993.136 861.828,993.136 867.804,993.136 873.781,993.136 879.757,993.136 885.733,993.136 891.71,993.136 897.686,993.136 903.662,993.136 909.639,993.136 915.615,993.136 921.592,993.136 927.568,993.136 933.544,993.136 939.521,993.136 945.497,993.136 951.473,993.136 957.45,993.136 963.426,993.136 969.403,993.136 975.379,993.136 981.355,993.136 987.332,993.136 993.308,993.136 999.285,993.136 1005.26,993.136 1011.24,993.136 1017.21,993.136 1023.19,993.136 1029.17,993.136 1035.14,993.136 1041.12,993.136 1047.1,993.136 1053.07,993.136 1059.05,993.136 1065.02,993.136 1071,993.136 1076.98,993.136 1082.95,993.136 1088.93,993.136 1094.91,993.136 1100.88,766.846 1106.86,766.846 1112.84,766.846 1118.81,766.846 1124.79,766.846 1130.76,766.846 1136.74,766.846 1142.72,766.846 1148.69,766.846 1154.67,766.846 1160.65,766.846 1166.62,766.846 1172.6,766.846 1178.58,766.846 1184.55,766.846 1190.53,766.846 1196.51,766.846 1202.48,766.846 1208.46,766.846 1214.43,766.846 1220.41,766.846 1226.39,766.846 1232.36,766.846 1238.34,766.846 1244.32,766.846 1250.29,766.846 1256.27,766.846 1262.25,766.846 1268.22,766.846 1274.2,766.846 1280.17,766.846 1286.15,766.846 1292.13,766.846 1298.1,766.846 1304.08,766.846 1310.06,766.846 1316.03,766.846 1322.01,766.846 1327.99,766.846 1333.96,766.846 1339.94,766.846 1345.91,766.846 1351.89,766.846 1357.87,766.846 1363.84,766.846 1369.82,766.846 1375.8,766.846 1381.77,766.846 1387.75,766.846 1393.73,766.846 1399.7,540.556 1405.68,540.556 1411.65,540.556 1417.63,540.556 1423.61,540.556 1429.58,540.556 1435.56,540.556 1441.54,540.556 1447.51,540.556 1453.49,540.556 1459.47,540.556 1465.44,540.556 1471.42,540.556 1477.4,540.556 1483.37,540.556 1489.35,540.556 1495.32,540.556 1501.3,540.556 1507.28,540.556 1513.25,540.556 1519.23,540.556 1525.21,540.556 1531.18,540.556 1537.16,540.556 1543.14,540.556 1549.11,540.556 1555.09,540.556 1561.06,540.556 1567.04,540.556 1573.02,540.556 1578.99,540.556 1584.97,540.556 1590.95,540.556 1596.92,540.556 1602.9,540.556 1608.88,540.556 1614.85,540.556 1620.83,540.556 1626.8,540.556 1632.78,540.556 1638.76,540.556 1644.73,540.556 1650.71,540.556 1656.69,540.556 1662.66,540.556 1668.64,540.556 1674.62,540.556 1680.59,540.556 1686.57,540.556 1692.54,540.556 1698.52,314.266 1704.5,314.266 1710.47,314.266 1716.45,314.266 1722.43,314.266 1728.4,314.266 1734.38,314.266 1740.36,314.266 1746.33,314.266 1752.31,314.266 1758.29,314.266 1764.26,314.266 1770.24,314.266 1776.21,314.266 1782.19,314.266 1788.17,314.266 1794.14,314.266 1800.12,314.266 1806.1,314.266 1812.07,314.266 1818.05,314.266 1824.03,314.266 1830,314.266 1835.98,314.266 1841.95,314.266 1847.93,314.266 1853.91,314.266 1859.88,314.266 1865.86,314.266 1871.84,314.266 1877.81,314.266 1883.79,314.266 1889.77,314.266 1895.74,314.266 1901.72,314.266 1907.69,314.266 1913.67,314.266 1919.65,314.266 1925.62,314.266 1931.6,314.266 1937.58,314.266 1943.55,314.266 1949.53,314.266 1955.51,314.266 1961.48,314.266 1967.46,314.266 1973.43,314.266 1979.41,314.266 1985.39,314.266 1991.36,314.266 1997.34,87.9763 2003.32,87.9763 2009.29,87.9763 2015.27,87.9763 2021.25,87.9763 2027.22,87.9763 2033.2,87.9763 2039.18,87.9763 2045.15,87.9763 2051.13,87.9763 2057.1,87.9763 2063.08,87.9763 2069.06,87.9763 2075.03,87.9763 2081.01,87.9763 2086.99,87.9763 2092.96,87.9763 2098.94,87.9763 2104.92,87.9763 2110.89,87.9763 2116.87,87.9763 2122.84,87.9763 2128.82,87.9763 2134.8,87.9763 2140.77,87.9763 2146.75,87.9763 2152.73,87.9763 2158.7,87.9763 2164.68,87.9763 2170.66,87.9763 2176.63,87.9763 2182.61,87.9763 2188.58,87.9763 2194.56,87.9763 2200.54,87.9763 2206.51,87.9763 2212.49,87.9763 2218.47,87.9763 2224.44,87.9763 2230.42,87.9763 2236.4,87.9763 2242.37,87.9763 2248.35,87.9763 2254.32,87.9763 2260.3,87.9763 2266.28,87.9763 2272.25,87.9763 2278.23,87.9763 2284.21,87.9763 2290.18,87.9763 \"/>\n",
       "<path clip-path=\"url(#clip110)\" d=\"M215.55 198.898 L489.07 198.898 L489.07 95.2176 L215.55 95.2176  Z\" fill=\"#ffffff\" fill-rule=\"evenodd\" fill-opacity=\"1\"/>\n",
       "<polyline clip-path=\"url(#clip110)\" style=\"stroke:#000000; stroke-linecap:round; stroke-linejoin:round; stroke-width:4; stroke-opacity:1; fill:none\" points=\"215.55,198.898 489.07,198.898 489.07,95.2176 215.55,95.2176 215.55,198.898 \"/>\n",
       "<polyline clip-path=\"url(#clip110)\" style=\"stroke:#009af9; stroke-linecap:round; stroke-linejoin:round; stroke-width:4; stroke-opacity:1; fill:none\" points=\"240.115,147.058 387.509,147.058 \"/>\n",
       "<path clip-path=\"url(#clip110)\" d=\"M425.917 166.745 Q424.111 171.375 422.398 172.787 Q420.685 174.199 417.815 174.199 L414.412 174.199 L414.412 170.634 L416.912 170.634 Q418.672 170.634 419.644 169.8 Q420.616 168.967 421.797 165.865 L422.56 163.921 L412.074 138.412 L416.588 138.412 L424.69 158.689 L432.792 138.412 L437.306 138.412 L425.917 166.745 Z\" fill=\"#000000\" fill-rule=\"evenodd\" fill-opacity=\"1\" /><path clip-path=\"url(#clip110)\" d=\"M444.597 160.402 L452.236 160.402 L452.236 134.037 L443.926 135.703 L443.926 131.444 L452.19 129.778 L456.866 129.778 L456.866 160.402 L464.505 160.402 L464.505 164.338 L444.597 164.338 L444.597 160.402 Z\" fill=\"#000000\" fill-rule=\"evenodd\" fill-opacity=\"1\" /></svg>\n"
      ]
     },
     "execution_count": 37,
     "metadata": {},
     "output_type": "execute_result"
    }
   ],
   "source": [
    "plot(avg_payoffs.s_values)"
   ]
  },
  {
   "cell_type": "code",
   "execution_count": 38,
   "metadata": {},
   "outputs": [
    {
     "data": {
      "image/svg+xml": [
       "<?xml version=\"1.0\" encoding=\"utf-8\"?>\n",
       "<svg xmlns=\"http://www.w3.org/2000/svg\" xmlns:xlink=\"http://www.w3.org/1999/xlink\" width=\"600\" height=\"400\" viewBox=\"0 0 2400 1600\">\n",
       "<defs>\n",
       "  <clipPath id=\"clip150\">\n",
       "    <rect x=\"0\" y=\"0\" width=\"2400\" height=\"1600\"/>\n",
       "  </clipPath>\n",
       "</defs>\n",
       "<path clip-path=\"url(#clip150)\" d=\"M0 1600 L2400 1600 L2400 0 L0 0  Z\" fill=\"#ffffff\" fill-rule=\"evenodd\" fill-opacity=\"1\"/>\n",
       "<defs>\n",
       "  <clipPath id=\"clip151\">\n",
       "    <rect x=\"480\" y=\"0\" width=\"1681\" height=\"1600\"/>\n",
       "  </clipPath>\n",
       "</defs>\n",
       "<path clip-path=\"url(#clip150)\" d=\"M170.857 1486.45 L2352.76 1486.45 L2352.76 47.2441 L170.857 47.2441  Z\" fill=\"#ffffff\" fill-rule=\"evenodd\" fill-opacity=\"1\"/>\n",
       "<defs>\n",
       "  <clipPath id=\"clip152\">\n",
       "    <rect x=\"170\" y=\"47\" width=\"2183\" height=\"1440\"/>\n",
       "  </clipPath>\n",
       "</defs>\n",
       "<polyline clip-path=\"url(#clip152)\" style=\"stroke:#000000; stroke-linecap:round; stroke-linejoin:round; stroke-width:2; stroke-opacity:0.1; fill:none\" points=\"226.711,1486.45 226.711,47.2441 \"/>\n",
       "<polyline clip-path=\"url(#clip152)\" style=\"stroke:#000000; stroke-linecap:round; stroke-linejoin:round; stroke-width:2; stroke-opacity:0.1; fill:none\" points=\"816.509,1486.45 816.509,47.2441 \"/>\n",
       "<polyline clip-path=\"url(#clip152)\" style=\"stroke:#000000; stroke-linecap:round; stroke-linejoin:round; stroke-width:2; stroke-opacity:0.1; fill:none\" points=\"1406.31,1486.45 1406.31,47.2441 \"/>\n",
       "<polyline clip-path=\"url(#clip152)\" style=\"stroke:#000000; stroke-linecap:round; stroke-linejoin:round; stroke-width:2; stroke-opacity:0.1; fill:none\" points=\"1996.11,1486.45 1996.11,47.2441 \"/>\n",
       "<polyline clip-path=\"url(#clip150)\" style=\"stroke:#000000; stroke-linecap:round; stroke-linejoin:round; stroke-width:4; stroke-opacity:1; fill:none\" points=\"170.857,1486.45 2352.76,1486.45 \"/>\n",
       "<polyline clip-path=\"url(#clip150)\" style=\"stroke:#000000; stroke-linecap:round; stroke-linejoin:round; stroke-width:4; stroke-opacity:1; fill:none\" points=\"226.711,1486.45 226.711,1467.55 \"/>\n",
       "<polyline clip-path=\"url(#clip150)\" style=\"stroke:#000000; stroke-linecap:round; stroke-linejoin:round; stroke-width:4; stroke-opacity:1; fill:none\" points=\"816.509,1486.45 816.509,1467.55 \"/>\n",
       "<polyline clip-path=\"url(#clip150)\" style=\"stroke:#000000; stroke-linecap:round; stroke-linejoin:round; stroke-width:4; stroke-opacity:1; fill:none\" points=\"1406.31,1486.45 1406.31,1467.55 \"/>\n",
       "<polyline clip-path=\"url(#clip150)\" style=\"stroke:#000000; stroke-linecap:round; stroke-linejoin:round; stroke-width:4; stroke-opacity:1; fill:none\" points=\"1996.11,1486.45 1996.11,1467.55 \"/>\n",
       "<path clip-path=\"url(#clip150)\" d=\"M226.711 1517.37 Q223.1 1517.37 221.271 1520.93 Q219.466 1524.47 219.466 1531.6 Q219.466 1538.71 221.271 1542.27 Q223.1 1545.82 226.711 1545.82 Q230.346 1545.82 232.151 1542.27 Q233.98 1538.71 233.98 1531.6 Q233.98 1524.47 232.151 1520.93 Q230.346 1517.37 226.711 1517.37 M226.711 1513.66 Q232.521 1513.66 235.577 1518.27 Q238.656 1522.85 238.656 1531.6 Q238.656 1540.33 235.577 1544.94 Q232.521 1549.52 226.711 1549.52 Q220.901 1549.52 217.822 1544.94 Q214.767 1540.33 214.767 1531.6 Q214.767 1522.85 217.822 1518.27 Q220.901 1513.66 226.711 1513.66 Z\" fill=\"#000000\" fill-rule=\"evenodd\" fill-opacity=\"1\" /><path clip-path=\"url(#clip150)\" d=\"M776.116 1544.91 L783.755 1544.91 L783.755 1518.55 L775.445 1520.21 L775.445 1515.95 L783.708 1514.29 L788.384 1514.29 L788.384 1544.91 L796.023 1544.91 L796.023 1548.85 L776.116 1548.85 L776.116 1544.91 Z\" fill=\"#000000\" fill-rule=\"evenodd\" fill-opacity=\"1\" /><path clip-path=\"url(#clip150)\" d=\"M815.468 1517.37 Q811.856 1517.37 810.028 1520.93 Q808.222 1524.47 808.222 1531.6 Q808.222 1538.71 810.028 1542.27 Q811.856 1545.82 815.468 1545.82 Q819.102 1545.82 820.907 1542.27 Q822.736 1538.71 822.736 1531.6 Q822.736 1524.47 820.907 1520.93 Q819.102 1517.37 815.468 1517.37 M815.468 1513.66 Q821.278 1513.66 824.333 1518.27 Q827.412 1522.85 827.412 1531.6 Q827.412 1540.33 824.333 1544.94 Q821.278 1549.52 815.468 1549.52 Q809.657 1549.52 806.579 1544.94 Q803.523 1540.33 803.523 1531.6 Q803.523 1522.85 806.579 1518.27 Q809.657 1513.66 815.468 1513.66 Z\" fill=\"#000000\" fill-rule=\"evenodd\" fill-opacity=\"1\" /><path clip-path=\"url(#clip150)\" d=\"M845.629 1517.37 Q842.018 1517.37 840.19 1520.93 Q838.384 1524.47 838.384 1531.6 Q838.384 1538.71 840.19 1542.27 Q842.018 1545.82 845.629 1545.82 Q849.264 1545.82 851.069 1542.27 Q852.898 1538.71 852.898 1531.6 Q852.898 1524.47 851.069 1520.93 Q849.264 1517.37 845.629 1517.37 M845.629 1513.66 Q851.44 1513.66 854.495 1518.27 Q857.574 1522.85 857.574 1531.6 Q857.574 1540.33 854.495 1544.94 Q851.44 1549.52 845.629 1549.52 Q839.819 1549.52 836.741 1544.94 Q833.685 1540.33 833.685 1531.6 Q833.685 1522.85 836.741 1518.27 Q839.819 1513.66 845.629 1513.66 Z\" fill=\"#000000\" fill-rule=\"evenodd\" fill-opacity=\"1\" /><path clip-path=\"url(#clip150)\" d=\"M1370 1544.91 L1386.32 1544.91 L1386.32 1548.85 L1364.37 1548.85 L1364.37 1544.91 Q1367.04 1542.16 1371.62 1537.53 Q1376.23 1532.88 1377.41 1531.53 Q1379.65 1529.01 1380.53 1527.27 Q1381.43 1525.51 1381.43 1523.82 Q1381.43 1521.07 1379.49 1519.33 Q1377.57 1517.6 1374.47 1517.6 Q1372.27 1517.6 1369.81 1518.36 Q1367.38 1519.13 1364.61 1520.68 L1364.61 1515.95 Q1367.43 1514.82 1369.88 1514.24 Q1372.34 1513.66 1374.37 1513.66 Q1379.74 1513.66 1382.94 1516.35 Q1386.13 1519.03 1386.13 1523.52 Q1386.13 1525.65 1385.32 1527.57 Q1384.54 1529.47 1382.43 1532.07 Q1381.85 1532.74 1378.75 1535.95 Q1375.65 1539.15 1370 1544.91 Z\" fill=\"#000000\" fill-rule=\"evenodd\" fill-opacity=\"1\" /><path clip-path=\"url(#clip150)\" d=\"M1406.13 1517.37 Q1402.52 1517.37 1400.69 1520.93 Q1398.89 1524.47 1398.89 1531.6 Q1398.89 1538.71 1400.69 1542.27 Q1402.52 1545.82 1406.13 1545.82 Q1409.77 1545.82 1411.57 1542.27 Q1413.4 1538.71 1413.4 1531.6 Q1413.4 1524.47 1411.57 1520.93 Q1409.77 1517.37 1406.13 1517.37 M1406.13 1513.66 Q1411.94 1513.66 1415 1518.27 Q1418.08 1522.85 1418.08 1531.6 Q1418.08 1540.33 1415 1544.94 Q1411.94 1549.52 1406.13 1549.52 Q1400.32 1549.52 1397.24 1544.94 Q1394.19 1540.33 1394.19 1531.6 Q1394.19 1522.85 1397.24 1518.27 Q1400.32 1513.66 1406.13 1513.66 Z\" fill=\"#000000\" fill-rule=\"evenodd\" fill-opacity=\"1\" /><path clip-path=\"url(#clip150)\" d=\"M1436.3 1517.37 Q1432.68 1517.37 1430.86 1520.93 Q1429.05 1524.47 1429.05 1531.6 Q1429.05 1538.71 1430.86 1542.27 Q1432.68 1545.82 1436.3 1545.82 Q1439.93 1545.82 1441.74 1542.27 Q1443.56 1538.71 1443.56 1531.6 Q1443.56 1524.47 1441.74 1520.93 Q1439.93 1517.37 1436.3 1517.37 M1436.3 1513.66 Q1442.11 1513.66 1445.16 1518.27 Q1448.24 1522.85 1448.24 1531.6 Q1448.24 1540.33 1445.16 1544.94 Q1442.11 1549.52 1436.3 1549.52 Q1430.49 1549.52 1427.41 1544.94 Q1424.35 1540.33 1424.35 1531.6 Q1424.35 1522.85 1427.41 1518.27 Q1430.49 1513.66 1436.3 1513.66 Z\" fill=\"#000000\" fill-rule=\"evenodd\" fill-opacity=\"1\" /><path clip-path=\"url(#clip150)\" d=\"M1969.87 1530.21 Q1973.22 1530.93 1975.1 1533.2 Q1977 1535.47 1977 1538.8 Q1977 1543.92 1973.48 1546.72 Q1969.96 1549.52 1963.48 1549.52 Q1961.3 1549.52 1958.99 1549.08 Q1956.7 1548.66 1954.24 1547.81 L1954.24 1543.29 Q1956.19 1544.43 1958.5 1545.01 Q1960.82 1545.58 1963.34 1545.58 Q1967.74 1545.58 1970.03 1543.85 Q1972.34 1542.11 1972.34 1538.8 Q1972.34 1535.75 1970.19 1534.03 Q1968.06 1532.3 1964.24 1532.3 L1960.21 1532.3 L1960.21 1528.45 L1964.43 1528.45 Q1967.88 1528.45 1969.7 1527.09 Q1971.53 1525.7 1971.53 1523.11 Q1971.53 1520.45 1969.64 1519.03 Q1967.76 1517.6 1964.24 1517.6 Q1962.32 1517.6 1960.12 1518.01 Q1957.92 1518.43 1955.28 1519.31 L1955.28 1515.14 Q1957.95 1514.4 1960.26 1514.03 Q1962.6 1513.66 1964.66 1513.66 Q1969.98 1513.66 1973.08 1516.09 Q1976.19 1518.5 1976.19 1522.62 Q1976.19 1525.49 1974.54 1527.48 Q1972.9 1529.45 1969.87 1530.21 Z\" fill=\"#000000\" fill-rule=\"evenodd\" fill-opacity=\"1\" /><path clip-path=\"url(#clip150)\" d=\"M1995.86 1517.37 Q1992.25 1517.37 1990.42 1520.93 Q1988.62 1524.47 1988.62 1531.6 Q1988.62 1538.71 1990.42 1542.27 Q1992.25 1545.82 1995.86 1545.82 Q1999.5 1545.82 2001.3 1542.27 Q2003.13 1538.71 2003.13 1531.6 Q2003.13 1524.47 2001.3 1520.93 Q1999.5 1517.37 1995.86 1517.37 M1995.86 1513.66 Q2001.67 1513.66 2004.73 1518.27 Q2007.81 1522.85 2007.81 1531.6 Q2007.81 1540.33 2004.73 1544.94 Q2001.67 1549.52 1995.86 1549.52 Q1990.05 1549.52 1986.97 1544.94 Q1983.92 1540.33 1983.92 1531.6 Q1983.92 1522.85 1986.97 1518.27 Q1990.05 1513.66 1995.86 1513.66 Z\" fill=\"#000000\" fill-rule=\"evenodd\" fill-opacity=\"1\" /><path clip-path=\"url(#clip150)\" d=\"M2026.02 1517.37 Q2022.41 1517.37 2020.58 1520.93 Q2018.78 1524.47 2018.78 1531.6 Q2018.78 1538.71 2020.58 1542.27 Q2022.41 1545.82 2026.02 1545.82 Q2029.66 1545.82 2031.46 1542.27 Q2033.29 1538.71 2033.29 1531.6 Q2033.29 1524.47 2031.46 1520.93 Q2029.66 1517.37 2026.02 1517.37 M2026.02 1513.66 Q2031.83 1513.66 2034.89 1518.27 Q2037.97 1522.85 2037.97 1531.6 Q2037.97 1540.33 2034.89 1544.94 Q2031.83 1549.52 2026.02 1549.52 Q2020.21 1549.52 2017.14 1544.94 Q2014.08 1540.33 2014.08 1531.6 Q2014.08 1522.85 2017.14 1518.27 Q2020.21 1513.66 2026.02 1513.66 Z\" fill=\"#000000\" fill-rule=\"evenodd\" fill-opacity=\"1\" /><polyline clip-path=\"url(#clip152)\" style=\"stroke:#000000; stroke-linecap:round; stroke-linejoin:round; stroke-width:2; stroke-opacity:0.1; fill:none\" points=\"170.857,1445.72 2352.76,1445.72 \"/>\n",
       "<polyline clip-path=\"url(#clip152)\" style=\"stroke:#000000; stroke-linecap:round; stroke-linejoin:round; stroke-width:2; stroke-opacity:0.1; fill:none\" points=\"170.857,1106.28 2352.76,1106.28 \"/>\n",
       "<polyline clip-path=\"url(#clip152)\" style=\"stroke:#000000; stroke-linecap:round; stroke-linejoin:round; stroke-width:2; stroke-opacity:0.1; fill:none\" points=\"170.857,766.846 2352.76,766.846 \"/>\n",
       "<polyline clip-path=\"url(#clip152)\" style=\"stroke:#000000; stroke-linecap:round; stroke-linejoin:round; stroke-width:2; stroke-opacity:0.1; fill:none\" points=\"170.857,427.411 2352.76,427.411 \"/>\n",
       "<polyline clip-path=\"url(#clip152)\" style=\"stroke:#000000; stroke-linecap:round; stroke-linejoin:round; stroke-width:2; stroke-opacity:0.1; fill:none\" points=\"170.857,87.9763 2352.76,87.9763 \"/>\n",
       "<polyline clip-path=\"url(#clip150)\" style=\"stroke:#000000; stroke-linecap:round; stroke-linejoin:round; stroke-width:4; stroke-opacity:1; fill:none\" points=\"170.857,1486.45 170.857,47.2441 \"/>\n",
       "<polyline clip-path=\"url(#clip150)\" style=\"stroke:#000000; stroke-linecap:round; stroke-linejoin:round; stroke-width:4; stroke-opacity:1; fill:none\" points=\"170.857,1445.72 189.755,1445.72 \"/>\n",
       "<polyline clip-path=\"url(#clip150)\" style=\"stroke:#000000; stroke-linecap:round; stroke-linejoin:round; stroke-width:4; stroke-opacity:1; fill:none\" points=\"170.857,1106.28 189.755,1106.28 \"/>\n",
       "<polyline clip-path=\"url(#clip150)\" style=\"stroke:#000000; stroke-linecap:round; stroke-linejoin:round; stroke-width:4; stroke-opacity:1; fill:none\" points=\"170.857,766.846 189.755,766.846 \"/>\n",
       "<polyline clip-path=\"url(#clip150)\" style=\"stroke:#000000; stroke-linecap:round; stroke-linejoin:round; stroke-width:4; stroke-opacity:1; fill:none\" points=\"170.857,427.411 189.755,427.411 \"/>\n",
       "<polyline clip-path=\"url(#clip150)\" style=\"stroke:#000000; stroke-linecap:round; stroke-linejoin:round; stroke-width:4; stroke-opacity:1; fill:none\" points=\"170.857,87.9763 189.755,87.9763 \"/>\n",
       "<path clip-path=\"url(#clip150)\" d=\"M53.3995 1459.06 L61.0384 1459.06 L61.0384 1432.69 L52.7282 1434.36 L52.7282 1430.1 L60.9921 1428.44 L65.668 1428.44 L65.668 1459.06 L73.3068 1459.06 L73.3068 1463 L53.3995 1463 L53.3995 1459.06 Z\" fill=\"#000000\" fill-rule=\"evenodd\" fill-opacity=\"1\" /><path clip-path=\"url(#clip150)\" d=\"M92.7512 1431.51 Q89.1401 1431.51 87.3114 1435.08 Q85.5058 1438.62 85.5058 1445.75 Q85.5058 1452.86 87.3114 1456.42 Q89.1401 1459.96 92.7512 1459.96 Q96.3854 1459.96 98.1909 1456.42 Q100.02 1452.86 100.02 1445.75 Q100.02 1438.62 98.1909 1435.08 Q96.3854 1431.51 92.7512 1431.51 M92.7512 1427.81 Q98.5613 1427.81 101.617 1432.42 Q104.696 1437 104.696 1445.75 Q104.696 1454.48 101.617 1459.08 Q98.5613 1463.67 92.7512 1463.67 Q86.941 1463.67 83.8623 1459.08 Q80.8068 1454.48 80.8068 1445.75 Q80.8068 1437 83.8623 1432.42 Q86.941 1427.81 92.7512 1427.81 Z\" fill=\"#000000\" fill-rule=\"evenodd\" fill-opacity=\"1\" /><path clip-path=\"url(#clip150)\" d=\"M122.913 1431.51 Q119.302 1431.51 117.473 1435.08 Q115.668 1438.62 115.668 1445.75 Q115.668 1452.86 117.473 1456.42 Q119.302 1459.96 122.913 1459.96 Q126.547 1459.96 128.353 1456.42 Q130.182 1452.86 130.182 1445.75 Q130.182 1438.62 128.353 1435.08 Q126.547 1431.51 122.913 1431.51 M122.913 1427.81 Q128.723 1427.81 131.779 1432.42 Q134.857 1437 134.857 1445.75 Q134.857 1454.48 131.779 1459.08 Q128.723 1463.67 122.913 1463.67 Q117.103 1463.67 114.024 1459.08 Q110.969 1454.48 110.969 1445.75 Q110.969 1437 114.024 1432.42 Q117.103 1427.81 122.913 1427.81 Z\" fill=\"#000000\" fill-rule=\"evenodd\" fill-opacity=\"1\" /><path clip-path=\"url(#clip150)\" d=\"M53.3995 1119.63 L61.0384 1119.63 L61.0384 1093.26 L52.7282 1094.93 L52.7282 1090.67 L60.9921 1089 L65.668 1089 L65.668 1119.63 L73.3068 1119.63 L73.3068 1123.56 L53.3995 1123.56 L53.3995 1119.63 Z\" fill=\"#000000\" fill-rule=\"evenodd\" fill-opacity=\"1\" /><path clip-path=\"url(#clip150)\" d=\"M82.7975 1089 L101.154 1089 L101.154 1092.94 L87.0799 1092.94 L87.0799 1101.41 Q88.0984 1101.06 89.1169 1100.9 Q90.1354 1100.71 91.1539 1100.71 Q96.941 1100.71 100.321 1103.89 Q103.7 1107.06 103.7 1112.47 Q103.7 1118.05 100.228 1121.15 Q96.7558 1124.23 90.4364 1124.23 Q88.2604 1124.23 85.9919 1123.86 Q83.7466 1123.49 81.3392 1122.75 L81.3392 1118.05 Q83.4225 1119.19 85.6447 1119.74 Q87.8669 1120.3 90.3438 1120.3 Q94.3484 1120.3 96.6863 1118.19 Q99.0243 1116.08 99.0243 1112.47 Q99.0243 1108.86 96.6863 1106.76 Q94.3484 1104.65 90.3438 1104.65 Q88.4688 1104.65 86.5938 1105.07 Q84.7419 1105.48 82.7975 1106.36 L82.7975 1089 Z\" fill=\"#000000\" fill-rule=\"evenodd\" fill-opacity=\"1\" /><path clip-path=\"url(#clip150)\" d=\"M122.913 1092.08 Q119.302 1092.08 117.473 1095.64 Q115.668 1099.19 115.668 1106.32 Q115.668 1113.42 117.473 1116.99 Q119.302 1120.53 122.913 1120.53 Q126.547 1120.53 128.353 1116.99 Q130.182 1113.42 130.182 1106.32 Q130.182 1099.19 128.353 1095.64 Q126.547 1092.08 122.913 1092.08 M122.913 1088.38 Q128.723 1088.38 131.779 1092.98 Q134.857 1097.57 134.857 1106.32 Q134.857 1115.04 131.779 1119.65 Q128.723 1124.23 122.913 1124.23 Q117.103 1124.23 114.024 1119.65 Q110.969 1115.04 110.969 1106.32 Q110.969 1097.57 114.024 1092.98 Q117.103 1088.38 122.913 1088.38 Z\" fill=\"#000000\" fill-rule=\"evenodd\" fill-opacity=\"1\" /><path clip-path=\"url(#clip150)\" d=\"M56.6171 780.191 L72.9365 780.191 L72.9365 784.126 L50.9921 784.126 L50.9921 780.191 Q53.6541 777.436 58.2375 772.807 Q62.8439 768.154 64.0245 766.811 Q66.2698 764.288 67.1494 762.552 Q68.0522 760.793 68.0522 759.103 Q68.0522 756.348 66.1078 754.612 Q64.1865 752.876 61.0847 752.876 Q58.8856 752.876 56.4319 753.64 Q54.0014 754.404 51.2236 755.955 L51.2236 751.233 Q54.0477 750.098 56.5014 749.52 Q58.955 748.941 60.9921 748.941 Q66.3624 748.941 69.5568 751.626 Q72.7513 754.311 72.7513 758.802 Q72.7513 760.932 71.9411 762.853 Q71.1541 764.751 69.0476 767.344 Q68.4689 768.015 65.367 771.233 Q62.2652 774.427 56.6171 780.191 Z\" fill=\"#000000\" fill-rule=\"evenodd\" fill-opacity=\"1\" /><path clip-path=\"url(#clip150)\" d=\"M92.7512 752.645 Q89.1401 752.645 87.3114 756.209 Q85.5058 759.751 85.5058 766.881 Q85.5058 773.987 87.3114 777.552 Q89.1401 781.094 92.7512 781.094 Q96.3854 781.094 98.1909 777.552 Q100.02 773.987 100.02 766.881 Q100.02 759.751 98.1909 756.209 Q96.3854 752.645 92.7512 752.645 M92.7512 748.941 Q98.5613 748.941 101.617 753.547 Q104.696 758.131 104.696 766.881 Q104.696 775.608 101.617 780.214 Q98.5613 784.797 92.7512 784.797 Q86.941 784.797 83.8623 780.214 Q80.8068 775.608 80.8068 766.881 Q80.8068 758.131 83.8623 753.547 Q86.941 748.941 92.7512 748.941 Z\" fill=\"#000000\" fill-rule=\"evenodd\" fill-opacity=\"1\" /><path clip-path=\"url(#clip150)\" d=\"M122.913 752.645 Q119.302 752.645 117.473 756.209 Q115.668 759.751 115.668 766.881 Q115.668 773.987 117.473 777.552 Q119.302 781.094 122.913 781.094 Q126.547 781.094 128.353 777.552 Q130.182 773.987 130.182 766.881 Q130.182 759.751 128.353 756.209 Q126.547 752.645 122.913 752.645 M122.913 748.941 Q128.723 748.941 131.779 753.547 Q134.857 758.131 134.857 766.881 Q134.857 775.608 131.779 780.214 Q128.723 784.797 122.913 784.797 Q117.103 784.797 114.024 780.214 Q110.969 775.608 110.969 766.881 Q110.969 758.131 114.024 753.547 Q117.103 748.941 122.913 748.941 Z\" fill=\"#000000\" fill-rule=\"evenodd\" fill-opacity=\"1\" /><path clip-path=\"url(#clip150)\" d=\"M56.6171 440.756 L72.9365 440.756 L72.9365 444.691 L50.9921 444.691 L50.9921 440.756 Q53.6541 438.001 58.2375 433.372 Q62.8439 428.719 64.0245 427.376 Q66.2698 424.853 67.1494 423.117 Q68.0522 421.358 68.0522 419.668 Q68.0522 416.914 66.1078 415.177 Q64.1865 413.441 61.0847 413.441 Q58.8856 413.441 56.4319 414.205 Q54.0014 414.969 51.2236 416.52 L51.2236 411.798 Q54.0477 410.664 56.5014 410.085 Q58.955 409.506 60.9921 409.506 Q66.3624 409.506 69.5568 412.191 Q72.7513 414.876 72.7513 419.367 Q72.7513 421.497 71.9411 423.418 Q71.1541 425.316 69.0476 427.909 Q68.4689 428.58 65.367 431.798 Q62.2652 434.992 56.6171 440.756 Z\" fill=\"#000000\" fill-rule=\"evenodd\" fill-opacity=\"1\" /><path clip-path=\"url(#clip150)\" d=\"M82.7975 410.131 L101.154 410.131 L101.154 414.066 L87.0799 414.066 L87.0799 422.538 Q88.0984 422.191 89.1169 422.029 Q90.1354 421.844 91.1539 421.844 Q96.941 421.844 100.321 425.015 Q103.7 428.187 103.7 433.603 Q103.7 439.182 100.228 442.284 Q96.7558 445.362 90.4364 445.362 Q88.2604 445.362 85.9919 444.992 Q83.7466 444.622 81.3392 443.881 L81.3392 439.182 Q83.4225 440.316 85.6447 440.872 Q87.8669 441.427 90.3438 441.427 Q94.3484 441.427 96.6863 439.321 Q99.0243 437.214 99.0243 433.603 Q99.0243 429.992 96.6863 427.886 Q94.3484 425.779 90.3438 425.779 Q88.4688 425.779 86.5938 426.196 Q84.7419 426.613 82.7975 427.492 L82.7975 410.131 Z\" fill=\"#000000\" fill-rule=\"evenodd\" fill-opacity=\"1\" /><path clip-path=\"url(#clip150)\" d=\"M122.913 413.21 Q119.302 413.21 117.473 416.775 Q115.668 420.316 115.668 427.446 Q115.668 434.552 117.473 438.117 Q119.302 441.659 122.913 441.659 Q126.547 441.659 128.353 438.117 Q130.182 434.552 130.182 427.446 Q130.182 420.316 128.353 416.775 Q126.547 413.21 122.913 413.21 M122.913 409.506 Q128.723 409.506 131.779 414.113 Q134.857 418.696 134.857 427.446 Q134.857 436.173 131.779 440.779 Q128.723 445.362 122.913 445.362 Q117.103 445.362 114.024 440.779 Q110.969 436.173 110.969 427.446 Q110.969 418.696 114.024 414.113 Q117.103 409.506 122.913 409.506 Z\" fill=\"#000000\" fill-rule=\"evenodd\" fill-opacity=\"1\" /><path clip-path=\"url(#clip150)\" d=\"M66.7559 86.6221 Q70.1124 87.3397 71.9874 89.6082 Q73.8855 91.8767 73.8855 95.21 Q73.8855 100.326 70.367 103.127 Q66.8485 105.928 60.3671 105.928 Q58.1912 105.928 55.8764 105.488 Q53.5847 105.071 51.131 104.215 L51.131 99.7008 Q53.0754 100.835 55.3903 101.414 Q57.7051 101.992 60.2282 101.992 Q64.6263 101.992 66.918 100.256 Q69.2328 98.5202 69.2328 95.21 Q69.2328 92.1545 67.08 90.4415 Q64.9504 88.7054 61.131 88.7054 L57.1032 88.7054 L57.1032 84.8629 L61.3161 84.8629 Q64.7652 84.8629 66.5939 83.4971 Q68.4226 82.1083 68.4226 79.5157 Q68.4226 76.8537 66.5245 75.4416 Q64.6495 74.0064 61.131 74.0064 Q59.2097 74.0064 57.0106 74.4231 Q54.8115 74.8398 52.1727 75.7194 L52.1727 71.5528 Q54.8347 70.812 57.1495 70.4416 Q59.4875 70.0713 61.5476 70.0713 Q66.8717 70.0713 69.9735 72.5018 Q73.0753 74.9092 73.0753 79.0296 Q73.0753 81.8999 71.4318 83.8907 Q69.7883 85.8582 66.7559 86.6221 Z\" fill=\"#000000\" fill-rule=\"evenodd\" fill-opacity=\"1\" /><path clip-path=\"url(#clip150)\" d=\"M92.7512 73.775 Q89.1401 73.775 87.3114 77.3398 Q85.5058 80.8814 85.5058 88.011 Q85.5058 95.1174 87.3114 98.6822 Q89.1401 102.224 92.7512 102.224 Q96.3854 102.224 98.1909 98.6822 Q100.02 95.1174 100.02 88.011 Q100.02 80.8814 98.1909 77.3398 Q96.3854 73.775 92.7512 73.775 M92.7512 70.0713 Q98.5613 70.0713 101.617 74.6777 Q104.696 79.261 104.696 88.011 Q104.696 96.7378 101.617 101.344 Q98.5613 105.928 92.7512 105.928 Q86.941 105.928 83.8623 101.344 Q80.8068 96.7378 80.8068 88.011 Q80.8068 79.261 83.8623 74.6777 Q86.941 70.0713 92.7512 70.0713 Z\" fill=\"#000000\" fill-rule=\"evenodd\" fill-opacity=\"1\" /><path clip-path=\"url(#clip150)\" d=\"M122.913 73.775 Q119.302 73.775 117.473 77.3398 Q115.668 80.8814 115.668 88.011 Q115.668 95.1174 117.473 98.6822 Q119.302 102.224 122.913 102.224 Q126.547 102.224 128.353 98.6822 Q130.182 95.1174 130.182 88.011 Q130.182 80.8814 128.353 77.3398 Q126.547 73.775 122.913 73.775 M122.913 70.0713 Q128.723 70.0713 131.779 74.6777 Q134.857 79.261 134.857 88.011 Q134.857 96.7378 131.779 101.344 Q128.723 105.928 122.913 105.928 Q117.103 105.928 114.024 101.344 Q110.969 96.7378 110.969 88.011 Q110.969 79.261 114.024 74.6777 Q117.103 70.0713 122.913 70.0713 Z\" fill=\"#000000\" fill-rule=\"evenodd\" fill-opacity=\"1\" /><polyline clip-path=\"url(#clip152)\" style=\"stroke:#009af9; stroke-linecap:round; stroke-linejoin:round; stroke-width:4; stroke-opacity:1; fill:none\" points=\"232.609,1445.72 238.507,1445.72 244.405,1445.72 250.303,1445.72 256.201,1445.72 262.099,1445.72 267.997,1445.72 273.895,1445.72 279.793,1445.72 285.691,1445.72 291.589,1106.28 297.487,1106.28 303.385,1106.28 309.283,1106.28 315.181,1106.28 321.079,1106.28 326.977,1106.28 332.875,1106.28 338.773,1106.28 344.671,1106.28 350.569,766.846 356.467,766.846 362.365,766.846 368.263,766.846 374.161,766.846 380.059,766.846 385.957,766.846 391.855,766.846 397.753,766.846 403.651,766.846 409.549,427.411 415.447,427.411 421.345,427.411 427.243,427.411 433.141,427.411 439.039,427.411 444.937,427.411 450.834,427.411 456.732,427.411 462.63,427.411 468.528,87.9763 474.426,87.9763 480.324,87.9763 486.222,87.9763 492.12,87.9763 498.018,87.9763 503.916,87.9763 509.814,87.9763 515.712,87.9763 521.61,87.9763 527.508,1445.72 533.406,1445.72 539.304,1445.72 545.202,1445.72 551.1,1445.72 556.998,1445.72 562.896,1445.72 568.794,1445.72 574.692,1445.72 580.59,1445.72 586.488,1106.28 592.386,1106.28 598.284,1106.28 604.182,1106.28 610.08,1106.28 615.978,1106.28 621.876,1106.28 627.774,1106.28 633.672,1106.28 639.57,1106.28 645.468,766.846 651.366,766.846 657.264,766.846 663.162,766.846 669.06,766.846 674.958,766.846 680.856,766.846 686.754,766.846 692.652,766.846 698.55,766.846 704.448,427.411 710.346,427.411 716.244,427.411 722.142,427.411 728.04,427.411 733.938,427.411 739.835,427.411 745.733,427.411 751.631,427.411 757.529,427.411 763.427,87.9763 769.325,87.9763 775.223,87.9763 781.121,87.9763 787.019,87.9763 792.917,87.9763 798.815,87.9763 804.713,87.9763 810.611,87.9763 816.509,87.9763 822.407,1445.72 828.305,1445.72 834.203,1445.72 840.101,1445.72 845.999,1445.72 851.897,1445.72 857.795,1445.72 863.693,1445.72 869.591,1445.72 875.489,1445.72 881.387,1106.28 887.285,1106.28 893.183,1106.28 899.081,1106.28 904.979,1106.28 910.877,1106.28 916.775,1106.28 922.673,1106.28 928.571,1106.28 934.469,1106.28 940.367,766.846 946.265,766.846 952.163,766.846 958.061,766.846 963.959,766.846 969.857,766.846 975.755,766.846 981.653,766.846 987.551,766.846 993.449,766.846 999.347,427.411 1005.24,427.411 1011.14,427.411 1017.04,427.411 1022.94,427.411 1028.84,427.411 1034.73,427.411 1040.63,427.411 1046.53,427.411 1052.43,427.411 1058.33,87.9763 1064.22,87.9763 1070.12,87.9763 1076.02,87.9763 1081.92,87.9763 1087.82,87.9763 1093.71,87.9763 1099.61,87.9763 1105.51,87.9763 1111.41,87.9763 1117.31,1445.72 1123.2,1445.72 1129.1,1445.72 1135,1445.72 1140.9,1445.72 1146.8,1445.72 1152.69,1445.72 1158.59,1445.72 1164.49,1445.72 1170.39,1445.72 1176.29,1106.28 1182.18,1106.28 1188.08,1106.28 1193.98,1106.28 1199.88,1106.28 1205.78,1106.28 1211.67,1106.28 1217.57,1106.28 1223.47,1106.28 1229.37,1106.28 1235.27,766.846 1241.16,766.846 1247.06,766.846 1252.96,766.846 1258.86,766.846 1264.76,766.846 1270.65,766.846 1276.55,766.846 1282.45,766.846 1288.35,766.846 1294.25,427.411 1300.14,427.411 1306.04,427.411 1311.94,427.411 1317.84,427.411 1323.74,427.411 1329.63,427.411 1335.53,427.411 1341.43,427.411 1347.33,427.411 1353.23,87.9763 1359.12,87.9763 1365.02,87.9763 1370.92,87.9763 1376.82,87.9763 1382.72,87.9763 1388.61,87.9763 1394.51,87.9763 1400.41,87.9763 1406.31,87.9763 1412.21,1445.72 1418.1,1445.72 1424,1445.72 1429.9,1445.72 1435.8,1445.72 1441.7,1445.72 1447.59,1445.72 1453.49,1445.72 1459.39,1445.72 1465.29,1445.72 1471.18,1106.28 1477.08,1106.28 1482.98,1106.28 1488.88,1106.28 1494.78,1106.28 1500.67,1106.28 1506.57,1106.28 1512.47,1106.28 1518.37,1106.28 1524.27,1106.28 1530.16,766.846 1536.06,766.846 1541.96,766.846 1547.86,766.846 1553.76,766.846 1559.65,766.846 1565.55,766.846 1571.45,766.846 1577.35,766.846 1583.25,766.846 1589.14,427.411 1595.04,427.411 1600.94,427.411 1606.84,427.411 1612.74,427.411 1618.63,427.411 1624.53,427.411 1630.43,427.411 1636.33,427.411 1642.23,427.411 1648.12,87.9763 1654.02,87.9763 1659.92,87.9763 1665.82,87.9763 1671.72,87.9763 1677.61,87.9763 1683.51,87.9763 1689.41,87.9763 1695.31,87.9763 1701.21,87.9763 1707.1,1445.72 1713,1445.72 1718.9,1445.72 1724.8,1445.72 1730.7,1445.72 1736.59,1445.72 1742.49,1445.72 1748.39,1445.72 1754.29,1445.72 1760.19,1445.72 1766.08,1106.28 1771.98,1106.28 1777.88,1106.28 1783.78,1106.28 1789.68,1106.28 1795.57,1106.28 1801.47,1106.28 1807.37,1106.28 1813.27,1106.28 1819.17,1106.28 1825.06,766.846 1830.96,766.846 1836.86,766.846 1842.76,766.846 1848.66,766.846 1854.55,766.846 1860.45,766.846 1866.35,766.846 1872.25,766.846 1878.15,766.846 1884.04,427.411 1889.94,427.411 1895.84,427.411 1901.74,427.411 1907.64,427.411 1913.53,427.411 1919.43,427.411 1925.33,427.411 1931.23,427.411 1937.13,427.411 1943.02,87.9763 1948.92,87.9763 1954.82,87.9763 1960.72,87.9763 1966.62,87.9763 1972.51,87.9763 1978.41,87.9763 1984.31,87.9763 1990.21,87.9763 1996.11,87.9763 2002,1445.72 2007.9,1445.72 2013.8,1445.72 2019.7,1445.72 2025.59,1445.72 2031.49,1445.72 2037.39,1445.72 2043.29,1445.72 2049.19,1445.72 2055.08,1445.72 2060.98,1106.28 2066.88,1106.28 2072.78,1106.28 2078.68,1106.28 2084.57,1106.28 2090.47,1106.28 2096.37,1106.28 2102.27,1106.28 2108.17,1106.28 2114.06,1106.28 2119.96,766.846 2125.86,766.846 2131.76,766.846 2137.66,766.846 2143.55,766.846 2149.45,766.846 2155.35,766.846 2161.25,766.846 2167.15,766.846 2173.04,766.846 2178.94,427.411 2184.84,427.411 2190.74,427.411 2196.64,427.411 2202.53,427.411 2208.43,427.411 2214.33,427.411 2220.23,427.411 2226.13,427.411 2232.02,427.411 2237.92,87.9763 2243.82,87.9763 2249.72,87.9763 2255.62,87.9763 2261.51,87.9763 2267.41,87.9763 2273.31,87.9763 2279.21,87.9763 2285.11,87.9763 2291,87.9763 \"/>\n",
       "<path clip-path=\"url(#clip150)\" d=\"M243.587 198.898 L514.207 198.898 L514.207 95.2176 L243.587 95.2176  Z\" fill=\"#ffffff\" fill-rule=\"evenodd\" fill-opacity=\"1\"/>\n",
       "<polyline clip-path=\"url(#clip150)\" style=\"stroke:#000000; stroke-linecap:round; stroke-linejoin:round; stroke-width:4; stroke-opacity:1; fill:none\" points=\"243.587,198.898 514.207,198.898 514.207,95.2176 243.587,95.2176 243.587,198.898 \"/>\n",
       "<polyline clip-path=\"url(#clip150)\" style=\"stroke:#009af9; stroke-linecap:round; stroke-linejoin:round; stroke-width:4; stroke-opacity:1; fill:none\" points=\"267.831,147.058 413.291,147.058 \"/>\n",
       "<path clip-path=\"url(#clip150)\" d=\"M451.376 166.745 Q449.571 171.375 447.858 172.787 Q446.145 174.199 443.275 174.199 L439.872 174.199 L439.872 170.634 L442.372 170.634 Q444.131 170.634 445.103 169.8 Q446.076 168.967 447.256 165.865 L448.02 163.921 L437.534 138.412 L442.048 138.412 L450.15 158.689 L458.251 138.412 L462.765 138.412 L451.376 166.745 Z\" fill=\"#000000\" fill-rule=\"evenodd\" fill-opacity=\"1\" /><path clip-path=\"url(#clip150)\" d=\"M470.057 160.402 L477.696 160.402 L477.696 134.037 L469.386 135.703 L469.386 131.444 L477.649 129.778 L482.325 129.778 L482.325 160.402 L489.964 160.402 L489.964 164.338 L470.057 164.338 L470.057 160.402 Z\" fill=\"#000000\" fill-rule=\"evenodd\" fill-opacity=\"1\" /></svg>\n"
      ]
     },
     "execution_count": 38,
     "metadata": {},
     "output_type": "execute_result"
    }
   ],
   "source": [
    "plot(avg_payoffs.S_values)"
   ]
  },
  {
   "cell_type": "code",
   "execution_count": 91,
   "metadata": {},
   "outputs": [
    {
     "data": {
      "image/svg+xml": [
       "<?xml version=\"1.0\" encoding=\"utf-8\"?>\n",
       "<svg xmlns=\"http://www.w3.org/2000/svg\" xmlns:xlink=\"http://www.w3.org/1999/xlink\" width=\"1200\" height=\"600\" viewBox=\"0 0 4800 2400\">\n",
       "<defs>\n",
       "  <clipPath id=\"clip230\">\n",
       "    <rect x=\"0\" y=\"0\" width=\"4800\" height=\"2400\"/>\n",
       "  </clipPath>\n",
       "</defs>\n",
       "<path clip-path=\"url(#clip230)\" d=\"M0 2400 L4800 2400 L4800 0 L0 0  Z\" fill=\"#ffffff\" fill-rule=\"evenodd\" fill-opacity=\"1\"/>\n",
       "<defs>\n",
       "  <clipPath id=\"clip231\">\n",
       "    <rect x=\"960\" y=\"0\" width=\"3361\" height=\"2400\"/>\n",
       "  </clipPath>\n",
       "</defs>\n",
       "<path clip-path=\"url(#clip230)\" d=\"M246.245 2235.7 L4752.76 2235.7 L4752.76 47.2441 L246.245 47.2441  Z\" fill=\"#ffffff\" fill-rule=\"evenodd\" fill-opacity=\"1\"/>\n",
       "<defs>\n",
       "  <clipPath id=\"clip232\">\n",
       "    <rect x=\"246\" y=\"47\" width=\"4508\" height=\"2189\"/>\n",
       "  </clipPath>\n",
       "</defs>\n",
       "<polyline clip-path=\"url(#clip232)\" style=\"stroke:#000000; stroke-linecap:round; stroke-linejoin:round; stroke-width:2; stroke-opacity:0.1; fill:none\" points=\"960.192,2235.7 960.192,47.2441 \"/>\n",
       "<polyline clip-path=\"url(#clip232)\" style=\"stroke:#000000; stroke-linecap:round; stroke-linejoin:round; stroke-width:2; stroke-opacity:0.1; fill:none\" points=\"1693.2,2235.7 1693.2,47.2441 \"/>\n",
       "<polyline clip-path=\"url(#clip232)\" style=\"stroke:#000000; stroke-linecap:round; stroke-linejoin:round; stroke-width:2; stroke-opacity:0.1; fill:none\" points=\"2426.2,2235.7 2426.2,47.2441 \"/>\n",
       "<polyline clip-path=\"url(#clip232)\" style=\"stroke:#000000; stroke-linecap:round; stroke-linejoin:round; stroke-width:2; stroke-opacity:0.1; fill:none\" points=\"3159.2,2235.7 3159.2,47.2441 \"/>\n",
       "<polyline clip-path=\"url(#clip232)\" style=\"stroke:#000000; stroke-linecap:round; stroke-linejoin:round; stroke-width:2; stroke-opacity:0.1; fill:none\" points=\"3892.21,2235.7 3892.21,47.2441 \"/>\n",
       "<polyline clip-path=\"url(#clip232)\" style=\"stroke:#000000; stroke-linecap:round; stroke-linejoin:round; stroke-width:2; stroke-opacity:0.1; fill:none\" points=\"4625.21,2235.7 4625.21,47.2441 \"/>\n",
       "<polyline clip-path=\"url(#clip230)\" style=\"stroke:#000000; stroke-linecap:round; stroke-linejoin:round; stroke-width:4; stroke-opacity:1; fill:none\" points=\"246.245,2235.7 4752.76,2235.7 \"/>\n",
       "<polyline clip-path=\"url(#clip230)\" style=\"stroke:#000000; stroke-linecap:round; stroke-linejoin:round; stroke-width:4; stroke-opacity:1; fill:none\" points=\"960.192,2235.7 960.192,2216.8 \"/>\n",
       "<polyline clip-path=\"url(#clip230)\" style=\"stroke:#000000; stroke-linecap:round; stroke-linejoin:round; stroke-width:4; stroke-opacity:1; fill:none\" points=\"1693.2,2235.7 1693.2,2216.8 \"/>\n",
       "<polyline clip-path=\"url(#clip230)\" style=\"stroke:#000000; stroke-linecap:round; stroke-linejoin:round; stroke-width:4; stroke-opacity:1; fill:none\" points=\"2426.2,2235.7 2426.2,2216.8 \"/>\n",
       "<polyline clip-path=\"url(#clip230)\" style=\"stroke:#000000; stroke-linecap:round; stroke-linejoin:round; stroke-width:4; stroke-opacity:1; fill:none\" points=\"3159.2,2235.7 3159.2,2216.8 \"/>\n",
       "<polyline clip-path=\"url(#clip230)\" style=\"stroke:#000000; stroke-linecap:round; stroke-linejoin:round; stroke-width:4; stroke-opacity:1; fill:none\" points=\"3892.21,2235.7 3892.21,2216.8 \"/>\n",
       "<polyline clip-path=\"url(#clip230)\" style=\"stroke:#000000; stroke-linecap:round; stroke-linejoin:round; stroke-width:4; stroke-opacity:1; fill:none\" points=\"4625.21,2235.7 4625.21,2216.8 \"/>\n",
       "<path clip-path=\"url(#clip230)\" d=\"M950.469 2282.74 L968.826 2282.74 L968.826 2286.68 L954.752 2286.68 L954.752 2295.15 Q955.77 2294.8 956.789 2294.64 Q957.807 2294.45 958.826 2294.45 Q964.613 2294.45 967.993 2297.62 Q971.372 2300.8 971.372 2306.21 Q971.372 2311.79 967.9 2314.89 Q964.428 2317.97 958.108 2317.97 Q955.932 2317.97 953.664 2317.6 Q951.419 2317.23 949.011 2316.49 L949.011 2311.79 Q951.094 2312.92 953.317 2313.48 Q955.539 2314.04 958.016 2314.04 Q962.02 2314.04 964.358 2311.93 Q966.696 2309.82 966.696 2306.21 Q966.696 2302.6 964.358 2300.49 Q962.02 2298.39 958.016 2298.39 Q956.141 2298.39 954.266 2298.8 Q952.414 2299.22 950.469 2300.1 L950.469 2282.74 Z\" fill=\"#000000\" fill-rule=\"evenodd\" fill-opacity=\"1\" /><path clip-path=\"url(#clip230)\" d=\"M1667.88 2313.36 L1675.52 2313.36 L1675.52 2287 L1667.21 2288.67 L1667.21 2284.41 L1675.48 2282.74 L1680.15 2282.74 L1680.15 2313.36 L1687.79 2313.36 L1687.79 2317.3 L1667.88 2317.3 L1667.88 2313.36 Z\" fill=\"#000000\" fill-rule=\"evenodd\" fill-opacity=\"1\" /><path clip-path=\"url(#clip230)\" d=\"M1707.24 2285.82 Q1703.62 2285.82 1701.8 2289.38 Q1699.99 2292.92 1699.99 2300.05 Q1699.99 2307.16 1701.8 2310.73 Q1703.62 2314.27 1707.24 2314.27 Q1710.87 2314.27 1712.68 2310.73 Q1714.5 2307.16 1714.5 2300.05 Q1714.5 2292.92 1712.68 2289.38 Q1710.87 2285.82 1707.24 2285.82 M1707.24 2282.11 Q1713.05 2282.11 1716.1 2286.72 Q1719.18 2291.3 1719.18 2300.05 Q1719.18 2308.78 1716.1 2313.39 Q1713.05 2317.97 1707.24 2317.97 Q1701.43 2317.97 1698.35 2313.39 Q1695.29 2308.78 1695.29 2300.05 Q1695.29 2291.3 1698.35 2286.72 Q1701.43 2282.11 1707.24 2282.11 Z\" fill=\"#000000\" fill-rule=\"evenodd\" fill-opacity=\"1\" /><path clip-path=\"url(#clip230)\" d=\"M2401.39 2313.36 L2409.02 2313.36 L2409.02 2287 L2400.71 2288.67 L2400.71 2284.41 L2408.98 2282.74 L2413.65 2282.74 L2413.65 2313.36 L2421.29 2313.36 L2421.29 2317.3 L2401.39 2317.3 L2401.39 2313.36 Z\" fill=\"#000000\" fill-rule=\"evenodd\" fill-opacity=\"1\" /><path clip-path=\"url(#clip230)\" d=\"M2430.78 2282.74 L2449.14 2282.74 L2449.14 2286.68 L2435.07 2286.68 L2435.07 2295.15 Q2436.08 2294.8 2437.1 2294.64 Q2438.12 2294.45 2439.14 2294.45 Q2444.93 2294.45 2448.31 2297.62 Q2451.69 2300.8 2451.69 2306.21 Q2451.69 2311.79 2448.21 2314.89 Q2444.74 2317.97 2438.42 2317.97 Q2436.25 2317.97 2433.98 2317.6 Q2431.73 2317.23 2429.33 2316.49 L2429.33 2311.79 Q2431.41 2312.92 2433.63 2313.48 Q2435.85 2314.04 2438.33 2314.04 Q2442.33 2314.04 2444.67 2311.93 Q2447.01 2309.82 2447.01 2306.21 Q2447.01 2302.6 2444.67 2300.49 Q2442.33 2298.39 2438.33 2298.39 Q2436.45 2298.39 2434.58 2298.8 Q2432.73 2299.22 2430.78 2300.1 L2430.78 2282.74 Z\" fill=\"#000000\" fill-rule=\"evenodd\" fill-opacity=\"1\" /><path clip-path=\"url(#clip230)\" d=\"M3137.98 2313.36 L3154.3 2313.36 L3154.3 2317.3 L3132.35 2317.3 L3132.35 2313.36 Q3135.01 2310.61 3139.6 2305.98 Q3144.2 2301.33 3145.39 2299.99 Q3147.63 2297.46 3148.51 2295.73 Q3149.41 2293.97 3149.41 2292.28 Q3149.41 2289.52 3147.47 2287.79 Q3145.55 2286.05 3142.45 2286.05 Q3140.25 2286.05 3137.79 2286.81 Q3135.36 2287.58 3132.58 2289.13 L3132.58 2284.41 Q3135.41 2283.27 3137.86 2282.69 Q3140.32 2282.11 3142.35 2282.11 Q3147.72 2282.11 3150.92 2284.8 Q3154.11 2287.49 3154.11 2291.98 Q3154.11 2294.11 3153.3 2296.03 Q3152.51 2297.92 3150.41 2300.52 Q3149.83 2301.19 3146.73 2304.41 Q3143.63 2307.6 3137.98 2313.36 Z\" fill=\"#000000\" fill-rule=\"evenodd\" fill-opacity=\"1\" /><path clip-path=\"url(#clip230)\" d=\"M3174.11 2285.82 Q3170.5 2285.82 3168.67 2289.38 Q3166.87 2292.92 3166.87 2300.05 Q3166.87 2307.16 3168.67 2310.73 Q3170.5 2314.27 3174.11 2314.27 Q3177.75 2314.27 3179.55 2310.73 Q3181.38 2307.16 3181.38 2300.05 Q3181.38 2292.92 3179.55 2289.38 Q3177.75 2285.82 3174.11 2285.82 M3174.11 2282.11 Q3179.92 2282.11 3182.98 2286.72 Q3186.06 2291.3 3186.06 2300.05 Q3186.06 2308.78 3182.98 2313.39 Q3179.92 2317.97 3174.11 2317.97 Q3168.3 2317.97 3165.22 2313.39 Q3162.17 2308.78 3162.17 2300.05 Q3162.17 2291.3 3165.22 2286.72 Q3168.3 2282.11 3174.11 2282.11 Z\" fill=\"#000000\" fill-rule=\"evenodd\" fill-opacity=\"1\" /><path clip-path=\"url(#clip230)\" d=\"M3871.48 2313.36 L3887.8 2313.36 L3887.8 2317.3 L3865.85 2317.3 L3865.85 2313.36 Q3868.52 2310.61 3873.1 2305.98 Q3877.71 2301.33 3878.89 2299.99 Q3881.13 2297.46 3882.01 2295.73 Q3882.91 2293.97 3882.91 2292.28 Q3882.91 2289.52 3880.97 2287.79 Q3879.05 2286.05 3875.95 2286.05 Q3873.75 2286.05 3871.29 2286.81 Q3868.86 2287.58 3866.09 2289.13 L3866.09 2284.41 Q3868.91 2283.27 3871.36 2282.69 Q3873.82 2282.11 3875.85 2282.11 Q3881.23 2282.11 3884.42 2284.8 Q3887.61 2287.49 3887.61 2291.98 Q3887.61 2294.11 3886.8 2296.03 Q3886.02 2297.92 3883.91 2300.52 Q3883.33 2301.19 3880.23 2304.41 Q3877.13 2307.6 3871.48 2313.36 Z\" fill=\"#000000\" fill-rule=\"evenodd\" fill-opacity=\"1\" /><path clip-path=\"url(#clip230)\" d=\"M3897.66 2282.74 L3916.02 2282.74 L3916.02 2286.68 L3901.94 2286.68 L3901.94 2295.15 Q3902.96 2294.8 3903.98 2294.64 Q3905 2294.45 3906.02 2294.45 Q3911.8 2294.45 3915.18 2297.62 Q3918.56 2300.8 3918.56 2306.21 Q3918.56 2311.79 3915.09 2314.89 Q3911.62 2317.97 3905.3 2317.97 Q3903.12 2317.97 3900.85 2317.6 Q3898.61 2317.23 3896.2 2316.49 L3896.2 2311.79 Q3898.29 2312.92 3900.51 2313.48 Q3902.73 2314.04 3905.21 2314.04 Q3909.21 2314.04 3911.55 2311.93 Q3913.89 2309.82 3913.89 2306.21 Q3913.89 2302.6 3911.55 2300.49 Q3909.21 2298.39 3905.21 2298.39 Q3903.33 2298.39 3901.46 2298.8 Q3899.6 2299.22 3897.66 2300.1 L3897.66 2282.74 Z\" fill=\"#000000\" fill-rule=\"evenodd\" fill-opacity=\"1\" /><path clip-path=\"url(#clip230)\" d=\"M4614.06 2298.67 Q4617.41 2299.38 4619.29 2301.65 Q4621.19 2303.92 4621.19 2307.25 Q4621.19 2312.37 4617.67 2315.17 Q4614.15 2317.97 4607.67 2317.97 Q4605.49 2317.97 4603.18 2317.53 Q4600.88 2317.11 4598.43 2316.26 L4598.43 2311.74 Q4600.38 2312.88 4602.69 2313.46 Q4605 2314.04 4607.53 2314.04 Q4611.93 2314.04 4614.22 2312.3 Q4616.53 2310.56 4616.53 2307.25 Q4616.53 2304.2 4614.38 2302.49 Q4612.25 2300.75 4608.43 2300.75 L4604.4 2300.75 L4604.4 2296.91 L4608.62 2296.91 Q4612.07 2296.91 4613.89 2295.54 Q4615.72 2294.15 4615.72 2291.56 Q4615.72 2288.9 4613.82 2287.49 Q4611.95 2286.05 4608.43 2286.05 Q4606.51 2286.05 4604.31 2286.47 Q4602.11 2286.88 4599.47 2287.76 L4599.47 2283.6 Q4602.13 2282.86 4604.45 2282.49 Q4606.79 2282.11 4608.85 2282.11 Q4614.17 2282.11 4617.27 2284.55 Q4620.38 2286.95 4620.38 2291.07 Q4620.38 2293.94 4618.73 2295.93 Q4617.09 2297.9 4614.06 2298.67 Z\" fill=\"#000000\" fill-rule=\"evenodd\" fill-opacity=\"1\" /><path clip-path=\"url(#clip230)\" d=\"M4640.05 2285.82 Q4636.44 2285.82 4634.61 2289.38 Q4632.81 2292.92 4632.81 2300.05 Q4632.81 2307.16 4634.61 2310.73 Q4636.44 2314.27 4640.05 2314.27 Q4643.69 2314.27 4645.49 2310.73 Q4647.32 2307.16 4647.32 2300.05 Q4647.32 2292.92 4645.49 2289.38 Q4643.69 2285.82 4640.05 2285.82 M4640.05 2282.11 Q4645.86 2282.11 4648.92 2286.72 Q4652 2291.3 4652 2300.05 Q4652 2308.78 4648.92 2313.39 Q4645.86 2317.97 4640.05 2317.97 Q4634.24 2317.97 4631.16 2313.39 Q4628.11 2308.78 4628.11 2300.05 Q4628.11 2291.3 4631.16 2286.72 Q4634.24 2282.11 4640.05 2282.11 Z\" fill=\"#000000\" fill-rule=\"evenodd\" fill-opacity=\"1\" /><path clip-path=\"url(#clip230)\" d=\"M2493.5 2395.05 L2493.5 2416.56 L2487.64 2416.56 L2487.64 2395.24 Q2487.64 2390.18 2485.67 2387.66 Q2483.7 2385.15 2479.75 2385.15 Q2475.01 2385.15 2472.27 2388.17 Q2469.53 2391.2 2469.53 2396.42 L2469.53 2416.56 L2463.65 2416.56 L2463.65 2380.92 L2469.53 2380.92 L2469.53 2386.45 Q2471.63 2383.24 2474.47 2381.65 Q2477.33 2380.06 2481.06 2380.06 Q2487.2 2380.06 2490.35 2383.88 Q2493.5 2387.66 2493.5 2395.05 Z\" fill=\"#000000\" fill-rule=\"evenodd\" fill-opacity=\"1\" /><path clip-path=\"url(#clip230)\" d=\"M2519 2385.02 Q2514.29 2385.02 2511.55 2388.71 Q2508.81 2392.37 2508.81 2398.77 Q2508.81 2405.17 2511.52 2408.86 Q2514.25 2412.52 2519 2412.52 Q2523.67 2412.52 2526.41 2408.83 Q2529.15 2405.14 2529.15 2398.77 Q2529.15 2392.44 2526.41 2388.75 Q2523.67 2385.02 2519 2385.02 M2519 2380.06 Q2526.63 2380.06 2531 2385.02 Q2535.36 2389.99 2535.36 2398.77 Q2535.36 2407.52 2531 2412.52 Q2526.63 2417.49 2519 2417.49 Q2511.32 2417.49 2506.96 2412.52 Q2502.64 2407.52 2502.64 2398.77 Q2502.64 2389.99 2506.96 2385.02 Q2511.32 2380.06 2519 2380.06 Z\" fill=\"#000000\" fill-rule=\"evenodd\" fill-opacity=\"1\" /><polyline clip-path=\"url(#clip232)\" style=\"stroke:#000000; stroke-linecap:round; stroke-linejoin:round; stroke-width:2; stroke-opacity:0.1; fill:none\" points=\"246.245,2173.76 4752.76,2173.76 \"/>\n",
       "<polyline clip-path=\"url(#clip232)\" style=\"stroke:#000000; stroke-linecap:round; stroke-linejoin:round; stroke-width:2; stroke-opacity:0.1; fill:none\" points=\"246.245,1485.57 4752.76,1485.57 \"/>\n",
       "<polyline clip-path=\"url(#clip232)\" style=\"stroke:#000000; stroke-linecap:round; stroke-linejoin:round; stroke-width:2; stroke-opacity:0.1; fill:none\" points=\"246.245,797.375 4752.76,797.375 \"/>\n",
       "<polyline clip-path=\"url(#clip232)\" style=\"stroke:#000000; stroke-linecap:round; stroke-linejoin:round; stroke-width:2; stroke-opacity:0.1; fill:none\" points=\"246.245,109.182 4752.76,109.182 \"/>\n",
       "<polyline clip-path=\"url(#clip230)\" style=\"stroke:#000000; stroke-linecap:round; stroke-linejoin:round; stroke-width:4; stroke-opacity:1; fill:none\" points=\"246.245,2235.7 246.245,47.2441 \"/>\n",
       "<polyline clip-path=\"url(#clip230)\" style=\"stroke:#000000; stroke-linecap:round; stroke-linejoin:round; stroke-width:4; stroke-opacity:1; fill:none\" points=\"246.245,2173.76 265.143,2173.76 \"/>\n",
       "<polyline clip-path=\"url(#clip230)\" style=\"stroke:#000000; stroke-linecap:round; stroke-linejoin:round; stroke-width:4; stroke-opacity:1; fill:none\" points=\"246.245,1485.57 265.143,1485.57 \"/>\n",
       "<polyline clip-path=\"url(#clip230)\" style=\"stroke:#000000; stroke-linecap:round; stroke-linejoin:round; stroke-width:4; stroke-opacity:1; fill:none\" points=\"246.245,797.375 265.143,797.375 \"/>\n",
       "<polyline clip-path=\"url(#clip230)\" style=\"stroke:#000000; stroke-linecap:round; stroke-linejoin:round; stroke-width:4; stroke-opacity:1; fill:none\" points=\"246.245,109.182 265.143,109.182 \"/>\n",
       "<path clip-path=\"url(#clip230)\" d=\"M162.301 2159.56 Q158.69 2159.56 156.861 2163.13 Q155.056 2166.67 155.056 2173.8 Q155.056 2180.9 156.861 2184.47 Q158.69 2188.01 162.301 2188.01 Q165.935 2188.01 167.741 2184.47 Q169.57 2180.9 169.57 2173.8 Q169.57 2166.67 167.741 2163.13 Q165.935 2159.56 162.301 2159.56 M162.301 2155.86 Q168.111 2155.86 171.167 2160.46 Q174.245 2165.05 174.245 2173.8 Q174.245 2182.52 171.167 2187.13 Q168.111 2191.71 162.301 2191.71 Q156.491 2191.71 153.412 2187.13 Q150.357 2182.52 150.357 2173.8 Q150.357 2165.05 153.412 2160.46 Q156.491 2155.86 162.301 2155.86 Z\" fill=\"#000000\" fill-rule=\"evenodd\" fill-opacity=\"1\" /><path clip-path=\"url(#clip230)\" d=\"M92.7876 1498.91 L100.426 1498.91 L100.426 1472.55 L92.1163 1474.21 L92.1163 1469.96 L100.38 1468.29 L105.056 1468.29 L105.056 1498.91 L112.695 1498.91 L112.695 1502.85 L92.7876 1502.85 L92.7876 1498.91 Z\" fill=\"#000000\" fill-rule=\"evenodd\" fill-opacity=\"1\" /><path clip-path=\"url(#clip230)\" d=\"M132.139 1471.37 Q128.528 1471.37 126.699 1474.93 Q124.894 1478.47 124.894 1485.6 Q124.894 1492.71 126.699 1496.27 Q128.528 1499.82 132.139 1499.82 Q135.773 1499.82 137.579 1496.27 Q139.408 1492.71 139.408 1485.6 Q139.408 1478.47 137.579 1474.93 Q135.773 1471.37 132.139 1471.37 M132.139 1467.66 Q137.949 1467.66 141.005 1472.27 Q144.084 1476.85 144.084 1485.6 Q144.084 1494.33 141.005 1498.94 Q137.949 1503.52 132.139 1503.52 Q126.329 1503.52 123.25 1498.94 Q120.195 1494.33 120.195 1485.6 Q120.195 1476.85 123.25 1472.27 Q126.329 1467.66 132.139 1467.66 Z\" fill=\"#000000\" fill-rule=\"evenodd\" fill-opacity=\"1\" /><path clip-path=\"url(#clip230)\" d=\"M162.301 1471.37 Q158.69 1471.37 156.861 1474.93 Q155.056 1478.47 155.056 1485.6 Q155.056 1492.71 156.861 1496.27 Q158.69 1499.82 162.301 1499.82 Q165.935 1499.82 167.741 1496.27 Q169.57 1492.71 169.57 1485.6 Q169.57 1478.47 167.741 1474.93 Q165.935 1471.37 162.301 1471.37 M162.301 1467.66 Q168.111 1467.66 171.167 1472.27 Q174.245 1476.85 174.245 1485.6 Q174.245 1494.33 171.167 1498.94 Q168.111 1503.52 162.301 1503.52 Q156.491 1503.52 153.412 1498.94 Q150.357 1494.33 150.357 1485.6 Q150.357 1476.85 153.412 1472.27 Q156.491 1467.66 162.301 1467.66 Z\" fill=\"#000000\" fill-rule=\"evenodd\" fill-opacity=\"1\" /><path clip-path=\"url(#clip230)\" d=\"M96.0051 810.72 L112.324 810.72 L112.324 814.655 L90.3802 814.655 L90.3802 810.72 Q93.0422 807.965 97.6255 803.336 Q102.232 798.683 103.412 797.34 Q105.658 794.817 106.537 793.081 Q107.44 791.322 107.44 789.632 Q107.44 786.878 105.496 785.141 Q103.575 783.405 100.473 783.405 Q98.2736 783.405 95.8199 784.169 Q93.3894 784.933 90.6116 786.484 L90.6116 781.762 Q93.4357 780.628 95.8894 780.049 Q98.3431 779.47 100.38 779.47 Q105.75 779.47 108.945 782.155 Q112.139 784.84 112.139 789.331 Q112.139 791.461 111.329 793.382 Q110.542 795.28 108.436 797.873 Q107.857 798.544 104.755 801.762 Q101.653 804.956 96.0051 810.72 Z\" fill=\"#000000\" fill-rule=\"evenodd\" fill-opacity=\"1\" /><path clip-path=\"url(#clip230)\" d=\"M132.139 783.174 Q128.528 783.174 126.699 786.739 Q124.894 790.28 124.894 797.41 Q124.894 804.516 126.699 808.081 Q128.528 811.623 132.139 811.623 Q135.773 811.623 137.579 808.081 Q139.408 804.516 139.408 797.41 Q139.408 790.28 137.579 786.739 Q135.773 783.174 132.139 783.174 M132.139 779.47 Q137.949 779.47 141.005 784.077 Q144.084 788.66 144.084 797.41 Q144.084 806.137 141.005 810.743 Q137.949 815.326 132.139 815.326 Q126.329 815.326 123.25 810.743 Q120.195 806.137 120.195 797.41 Q120.195 788.66 123.25 784.077 Q126.329 779.47 132.139 779.47 Z\" fill=\"#000000\" fill-rule=\"evenodd\" fill-opacity=\"1\" /><path clip-path=\"url(#clip230)\" d=\"M162.301 783.174 Q158.69 783.174 156.861 786.739 Q155.056 790.28 155.056 797.41 Q155.056 804.516 156.861 808.081 Q158.69 811.623 162.301 811.623 Q165.935 811.623 167.741 808.081 Q169.57 804.516 169.57 797.41 Q169.57 790.28 167.741 786.739 Q165.935 783.174 162.301 783.174 M162.301 779.47 Q168.111 779.47 171.167 784.077 Q174.245 788.66 174.245 797.41 Q174.245 806.137 171.167 810.743 Q168.111 815.326 162.301 815.326 Q156.491 815.326 153.412 810.743 Q150.357 806.137 150.357 797.41 Q150.357 788.66 153.412 784.077 Q156.491 779.47 162.301 779.47 Z\" fill=\"#000000\" fill-rule=\"evenodd\" fill-opacity=\"1\" /><path clip-path=\"url(#clip230)\" d=\"M106.144 107.827 Q109.5 108.545 111.375 110.813 Q113.274 113.082 113.274 116.415 Q113.274 121.531 109.755 124.332 Q106.237 127.133 99.7551 127.133 Q97.5792 127.133 95.2644 126.693 Q92.9727 126.276 90.519 125.42 L90.519 120.906 Q92.4635 122.04 94.7783 122.619 Q97.0931 123.198 99.6162 123.198 Q104.014 123.198 106.306 121.462 Q108.621 119.725 108.621 116.415 Q108.621 113.36 106.468 111.647 Q104.338 109.911 100.519 109.911 L96.4912 109.911 L96.4912 106.068 L100.704 106.068 Q104.153 106.068 105.982 104.702 Q107.811 103.313 107.811 100.721 Q107.811 98.0589 105.912 96.6469 Q104.037 95.2117 100.519 95.2117 Q98.5977 95.2117 96.3986 95.6284 Q94.1996 96.045 91.5607 96.9246 L91.5607 92.758 Q94.2227 92.0173 96.5375 91.6469 Q98.8755 91.2765 100.936 91.2765 Q106.26 91.2765 109.362 93.7071 Q112.463 96.1145 112.463 100.235 Q112.463 103.105 110.82 105.096 Q109.176 107.063 106.144 107.827 Z\" fill=\"#000000\" fill-rule=\"evenodd\" fill-opacity=\"1\" /><path clip-path=\"url(#clip230)\" d=\"M132.139 94.9802 Q128.528 94.9802 126.699 98.545 Q124.894 102.087 124.894 109.216 Q124.894 116.323 126.699 119.887 Q128.528 123.429 132.139 123.429 Q135.773 123.429 137.579 119.887 Q139.408 116.323 139.408 109.216 Q139.408 102.087 137.579 98.545 Q135.773 94.9802 132.139 94.9802 M132.139 91.2765 Q137.949 91.2765 141.005 95.883 Q144.084 100.466 144.084 109.216 Q144.084 117.943 141.005 122.55 Q137.949 127.133 132.139 127.133 Q126.329 127.133 123.25 122.55 Q120.195 117.943 120.195 109.216 Q120.195 100.466 123.25 95.883 Q126.329 91.2765 132.139 91.2765 Z\" fill=\"#000000\" fill-rule=\"evenodd\" fill-opacity=\"1\" /><path clip-path=\"url(#clip230)\" d=\"M162.301 94.9802 Q158.69 94.9802 156.861 98.545 Q155.056 102.087 155.056 109.216 Q155.056 116.323 156.861 119.887 Q158.69 123.429 162.301 123.429 Q165.935 123.429 167.741 119.887 Q169.57 116.323 169.57 109.216 Q169.57 102.087 167.741 98.545 Q165.935 94.9802 162.301 94.9802 M162.301 91.2765 Q168.111 91.2765 171.167 95.883 Q174.245 100.466 174.245 109.216 Q174.245 117.943 171.167 122.55 Q168.111 127.133 162.301 127.133 Q156.491 127.133 153.412 122.55 Q150.357 117.943 150.357 109.216 Q150.357 100.466 153.412 95.883 Q156.491 91.2765 162.301 91.2765 Z\" fill=\"#000000\" fill-rule=\"evenodd\" fill-opacity=\"1\" /><path clip-path=\"url(#clip230)\" d=\"M-31.5238 1408.5 L-31.5238 1402.64 L-3.70566 1395.32 L-31.5238 1388.03 L-31.5238 1381.12 L-3.70566 1373.8 L-31.5238 1366.52 L-31.5238 1360.66 L4.12416 1369.98 L4.12416 1376.89 L-25.0944 1384.56 L4.12416 1392.26 L4.12416 1399.17 L-31.5238 1408.5 Z\" fill=\"#000000\" fill-rule=\"evenodd\" fill-opacity=\"1\" /><path clip-path=\"url(#clip230)\" d=\"M-13.7953 1335.58 Q-13.7953 1342.68 -12.1721 1345.41 Q-10.5488 1348.15 -6.63389 1348.15 Q-3.51469 1348.15 -1.66864 1346.11 Q0.145591 1344.04 0.145591 1340.51 Q0.145591 1335.64 -3.29189 1332.71 Q-6.7612 1329.75 -12.4903 1329.75 L-13.7953 1329.75 L-13.7953 1335.58 M-16.2143 1323.9 L4.12416 1323.9 L4.12416 1329.75 L-1.28669 1329.75 Q1.95982 1331.76 3.51942 1334.75 Q5.04718 1337.74 5.04718 1342.07 Q5.04718 1347.55 1.99165 1350.79 Q-1.09572 1354.01 -6.25194 1354.01 Q-12.2675 1354.01 -15.3231 1350 Q-18.3786 1345.95 -18.3786 1337.97 L-18.3786 1329.75 L-18.9515 1329.75 Q-22.9938 1329.75 -25.1899 1332.43 Q-27.4179 1335.07 -27.4179 1339.88 Q-27.4179 1342.93 -26.6859 1345.83 Q-25.9538 1348.72 -24.4897 1351.4 L-29.9005 1351.4 Q-31.1419 1348.18 -31.7466 1345.16 Q-32.3832 1342.13 -32.3832 1339.27 Q-32.3832 1331.54 -28.3728 1327.72 Q-24.3624 1323.9 -16.2143 1323.9 Z\" fill=\"#000000\" fill-rule=\"evenodd\" fill-opacity=\"1\" /><path clip-path=\"url(#clip230)\" d=\"M-26.0493 1291.18 Q-26.6222 1292.16 -26.8768 1293.34 Q-27.1633 1294.49 -27.1633 1295.89 Q-27.1633 1300.85 -23.9168 1303.53 Q-20.7021 1306.17 -14.6547 1306.17 L4.12416 1306.17 L4.12416 1312.06 L-31.5238 1312.06 L-31.5238 1306.17 L-25.9856 1306.17 Q-29.2321 1304.32 -30.7917 1301.36 Q-32.3832 1298.4 -32.3832 1294.17 Q-32.3832 1293.56 -32.2877 1292.83 Q-32.224 1292.1 -32.0649 1291.21 L-26.0493 1291.18 Z\" fill=\"#000000\" fill-rule=\"evenodd\" fill-opacity=\"1\" /><path clip-path=\"url(#clip230)\" d=\"M-15.1639 1255.98 L-12.2994 1255.98 L-12.2994 1282.9 Q-6.25194 1282.52 -3.06909 1279.27 Q0.0819338 1276 0.0819338 1270.17 Q0.0819338 1266.8 -0.745608 1263.65 Q-1.57315 1260.46 -3.22823 1257.34 L2.30993 1257.34 Q3.64673 1260.49 4.34696 1263.8 Q5.04718 1267.12 5.04718 1270.52 Q5.04718 1279.05 0.0819338 1284.05 Q-4.88332 1289.01 -13.3497 1289.01 Q-22.1026 1289.01 -27.2269 1284.3 Q-32.3832 1279.56 -32.3832 1271.54 Q-32.3832 1264.35 -27.7362 1260.18 Q-23.1211 1255.98 -15.1639 1255.98 M-16.8827 1261.83 Q-21.6888 1261.9 -24.5534 1264.54 Q-27.4179 1267.15 -27.4179 1271.48 Q-27.4179 1276.38 -24.6488 1279.34 Q-21.8798 1282.27 -16.8508 1282.71 L-16.8827 1261.83 Z\" fill=\"#000000\" fill-rule=\"evenodd\" fill-opacity=\"1\" /><path clip-path=\"url(#clip230)\" d=\"M-17.3919 1216.73 L4.12416 1216.73 L4.12416 1222.59 L-17.201 1222.59 Q-22.2617 1222.59 -24.7762 1224.56 Q-27.2906 1226.53 -27.2906 1230.48 Q-27.2906 1235.22 -24.2669 1237.96 Q-21.2432 1240.7 -16.0233 1240.7 L4.12416 1240.7 L4.12416 1246.59 L-45.401 1246.59 L-45.401 1240.7 L-25.9856 1240.7 Q-29.2003 1238.6 -30.7917 1235.76 Q-32.3832 1232.9 -32.3832 1229.18 Q-32.3832 1223.03 -28.5637 1219.88 Q-24.7762 1216.73 -17.3919 1216.73 Z\" fill=\"#000000\" fill-rule=\"evenodd\" fill-opacity=\"1\" /><path clip-path=\"url(#clip230)\" d=\"M-27.4179 1191.24 Q-27.4179 1195.95 -23.7258 1198.68 Q-20.0655 1201.42 -13.668 1201.42 Q-7.27046 1201.42 -3.57835 1198.72 Q0.0819338 1195.98 0.0819338 1191.24 Q0.0819338 1186.56 -3.61018 1183.82 Q-7.30229 1181.08 -13.668 1181.08 Q-20.0019 1181.08 -23.694 1183.82 Q-27.4179 1186.56 -27.4179 1191.24 M-32.3832 1191.24 Q-32.3832 1183.6 -27.4179 1179.24 Q-22.4527 1174.88 -13.668 1174.88 Q-4.91515 1174.88 0.0819338 1179.24 Q5.04718 1183.6 5.04718 1191.24 Q5.04718 1198.91 0.0819338 1203.27 Q-4.91515 1207.6 -13.668 1207.6 Q-22.4527 1207.6 -27.4179 1203.27 Q-32.3832 1198.91 -32.3832 1191.24 Z\" fill=\"#000000\" fill-rule=\"evenodd\" fill-opacity=\"1\" /><path clip-path=\"url(#clip230)\" d=\"M-9.94405 1165.77 L-31.5238 1165.77 L-31.5238 1159.92 L-10.1669 1159.92 Q-5.10612 1159.92 -2.55983 1157.94 Q-0.0453804 1155.97 -0.0453804 1152.02 Q-0.0453804 1147.28 -3.06909 1144.54 Q-6.0928 1141.77 -11.3127 1141.77 L-31.5238 1141.77 L-31.5238 1135.92 L4.12416 1135.92 L4.12416 1141.77 L-1.35035 1141.77 Q1.89616 1143.91 3.48759 1146.74 Q5.04718 1149.54 5.04718 1153.26 Q5.04718 1159.41 1.22776 1162.59 Q-2.59166 1165.77 -9.94405 1165.77 M-32.3832 1151.04 L-32.3832 1151.04 Z\" fill=\"#000000\" fill-rule=\"evenodd\" fill-opacity=\"1\" /><path clip-path=\"url(#clip230)\" d=\"M-30.4735 1101.13 L-24.9353 1101.13 Q-26.2084 1103.61 -26.845 1106.29 Q-27.4816 1108.96 -27.4816 1111.82 Q-27.4816 1116.18 -26.1448 1118.38 Q-24.808 1120.54 -22.1344 1120.54 Q-20.0974 1120.54 -18.9197 1118.99 Q-17.7739 1117.43 -16.7235 1112.71 L-16.2779 1110.71 Q-14.9411 1104.47 -12.4903 1101.86 Q-10.0714 1099.22 -5.71086 1099.22 Q-0.745608 1099.22 2.15079 1103.17 Q5.04718 1107.08 5.04718 1113.96 Q5.04718 1116.82 4.47427 1119.94 Q3.93319 1123.03 2.81919 1126.46 L-3.22823 1126.46 Q-1.54132 1123.22 -0.681951 1120.07 Q0.145591 1116.92 0.145591 1113.83 Q0.145591 1109.69 -1.25486 1107.46 Q-2.68715 1105.24 -5.26526 1105.24 Q-7.6524 1105.24 -8.92554 1106.86 Q-10.1987 1108.45 -11.3763 1113.89 L-11.8538 1115.93 Q-12.9996 1121.37 -15.3549 1123.79 Q-17.742 1126.21 -21.8798 1126.21 Q-26.9087 1126.21 -29.6459 1122.65 Q-32.3832 1119.08 -32.3832 1112.52 Q-32.3832 1109.28 -31.9057 1106.41 Q-31.4283 1103.55 -30.4735 1101.13 Z\" fill=\"#000000\" fill-rule=\"evenodd\" fill-opacity=\"1\" /><path clip-path=\"url(#clip230)\" d=\"M-15.1639 1059.4 L-12.2994 1059.4 L-12.2994 1086.33 Q-6.25194 1085.95 -3.06909 1082.7 Q0.0819338 1079.42 0.0819338 1073.6 Q0.0819338 1070.22 -0.745608 1067.07 Q-1.57315 1063.89 -3.22823 1060.77 L2.30993 1060.77 Q3.64673 1063.92 4.34696 1067.23 Q5.04718 1070.54 5.04718 1073.95 Q5.04718 1082.48 0.0819338 1087.47 Q-4.88332 1092.44 -13.3497 1092.44 Q-22.1026 1092.44 -27.2269 1087.73 Q-32.3832 1082.99 -32.3832 1074.97 Q-32.3832 1067.77 -27.7362 1063.6 Q-23.1211 1059.4 -15.1639 1059.4 M-16.8827 1065.26 Q-21.6888 1065.32 -24.5534 1067.96 Q-27.4179 1070.57 -27.4179 1074.9 Q-27.4179 1079.8 -24.6488 1082.76 Q-21.8798 1085.69 -16.8508 1086.14 L-16.8827 1065.26 Z\" fill=\"#000000\" fill-rule=\"evenodd\" fill-opacity=\"1\" /><path clip-path=\"url(#clip230)\" d=\"M14.9459 1022.7 L19.4973 1022.7 L19.4973 1056.57 L14.9459 1056.57 L14.9459 1022.7 Z\" fill=\"#000000\" fill-rule=\"evenodd\" fill-opacity=\"1\" /><path clip-path=\"url(#clip230)\" d=\"M-45.401 1017.2 L-45.401 1011.34 L4.12416 1011.34 L4.12416 1017.2 L-45.401 1017.2 Z\" fill=\"#000000\" fill-rule=\"evenodd\" fill-opacity=\"1\" /><path clip-path=\"url(#clip230)\" d=\"M-15.1639 968.595 L-12.2994 968.595 L-12.2994 995.522 Q-6.25194 995.14 -3.06909 991.894 Q0.0819338 988.615 0.0819338 982.791 Q0.0819338 979.417 -0.745608 976.266 Q-1.57315 973.083 -3.22823 969.964 L2.30993 969.964 Q3.64673 973.115 4.34696 976.425 Q5.04718 979.735 5.04718 983.141 Q5.04718 991.671 0.0819338 996.668 Q-4.88332 1001.63 -13.3497 1001.63 Q-22.1026 1001.63 -27.2269 996.923 Q-32.3832 992.18 -32.3832 984.159 Q-32.3832 976.966 -27.7362 972.797 Q-23.1211 968.595 -15.1639 968.595 M-16.8827 974.452 Q-21.6888 974.515 -24.5534 977.157 Q-27.4179 979.767 -27.4179 984.096 Q-27.4179 988.997 -24.6488 991.957 Q-21.8798 994.886 -16.8508 995.331 L-16.8827 974.452 Z\" fill=\"#000000\" fill-rule=\"evenodd\" fill-opacity=\"1\" /><path clip-path=\"url(#clip230)\" d=\"M-31.5238 963.184 L-31.5238 956.978 L-1.60498 945.838 L-31.5238 934.698 L-31.5238 928.491 L4.12416 941.859 L4.12416 949.816 L-31.5238 963.184 Z\" fill=\"#000000\" fill-rule=\"evenodd\" fill-opacity=\"1\" /><path clip-path=\"url(#clip230)\" d=\"M-15.1639 889.915 L-12.2994 889.915 L-12.2994 916.842 Q-6.25194 916.46 -3.06909 913.214 Q0.0819338 909.935 0.0819338 904.111 Q0.0819338 900.737 -0.745608 897.586 Q-1.57315 894.403 -3.22823 891.284 L2.30993 891.284 Q3.64673 894.435 4.34696 897.745 Q5.04718 901.055 5.04718 904.461 Q5.04718 912.991 0.0819338 917.988 Q-4.88332 922.953 -13.3497 922.953 Q-22.1026 922.953 -27.2269 918.243 Q-32.3832 913.5 -32.3832 905.479 Q-32.3832 898.286 -27.7362 894.117 Q-23.1211 889.915 -15.1639 889.915 M-16.8827 895.772 Q-21.6888 895.835 -24.5534 898.477 Q-27.4179 901.087 -27.4179 905.416 Q-27.4179 910.317 -24.6488 913.277 Q-21.8798 916.206 -16.8508 916.651 L-16.8827 895.772 Z\" fill=\"#000000\" fill-rule=\"evenodd\" fill-opacity=\"1\" /><path clip-path=\"url(#clip230)\" d=\"M-45.401 880.303 L-45.401 874.446 L4.12416 874.446 L4.12416 880.303 L-45.401 880.303 Z\" fill=\"#000000\" fill-rule=\"evenodd\" fill-opacity=\"1\" /><polyline clip-path=\"url(#clip232)\" style=\"stroke:#009af9; stroke-linecap:round; stroke-linejoin:round; stroke-width:4; stroke-opacity:1; fill:none\" points=\"373.788,1485.57 520.389,1630.09 666.99,1760.85 813.591,1912.25 960.192,2036.12 1106.79,2146.23 1253.39,2173.76 1399.99,2173.76 1546.6,1485.57 1693.2,1616.33 1839.8,1719.55 1986.4,1795.26 2133,1912.25 2279.6,2036.12 2426.2,2146.23 2572.8,2173.76 2719.4,1485.57 2866,1602.56 3012.6,1753.96 3159.2,1843.43 3305.81,1953.54 3452.41,2077.42 3599.01,1485.57 3745.61,1657.62 3892.21,1795.26 4038.81,1877.84 4185.41,2022.36 4332.01,1485.57 4478.61,1664.5 4625.21,1802.14 \"/>\n",
       "<polyline clip-path=\"url(#clip232)\" style=\"stroke:#e26f46; stroke-linecap:round; stroke-linejoin:round; stroke-width:4; stroke-opacity:1; fill:none\" points=\"373.788,1485.57 520.389,1616.33 666.99,1747.08 813.591,1905.37 960.192,2091.18 1106.79,1485.57 1253.39,1664.5 1399.99,1740.2 1546.6,1843.43 1693.2,1987.95 1839.8,1485.57 1986.4,1616.33 2133,1774.61 2279.6,1946.66 2426.2,1485.57 2572.8,1609.44 2719.4,1747.08 2866,1919.13 3012.6,1485.57 3159.2,1623.21 3305.81,1788.37 3452.41,1953.54 3599.01,2063.65 3745.61,2173.76 3892.21,1485.57 4038.81,1643.85 4185.41,1815.9 4332.01,1987.95 4478.61,1485.57 4625.21,1650.74 \"/>\n",
       "<polyline clip-path=\"url(#clip232)\" style=\"stroke:#3da44d; stroke-linecap:round; stroke-linejoin:round; stroke-width:4; stroke-opacity:1; fill:none\" points=\"373.788,1485.57 520.389,1609.44 666.99,1815.9 813.591,1939.78 960.192,2091.18 1106.79,2173.76 1253.39,1485.57 1399.99,1609.44 1546.6,1760.85 1693.2,1884.72 1839.8,1987.95 1986.4,1485.57 2133,1602.56 2279.6,1753.96 2426.2,1829.67 2572.8,1974.19 2719.4,1485.57 2866,1588.8 3012.6,1726.44 3159.2,1843.43 3305.81,2015.48 3452.41,1485.57 3599.01,1581.92 3745.61,1712.67 3892.21,1884.72 4038.81,2029.24 4185.41,1485.57 4332.01,1664.5 4478.61,1774.61 4625.21,1912.25 \"/>\n",
       "<polyline clip-path=\"url(#clip232)\" style=\"stroke:#c271d2; stroke-linecap:round; stroke-linejoin:round; stroke-width:4; stroke-opacity:1; fill:none\" points=\"373.788,1485.57 520.389,1636.97 666.99,1822.78 813.591,1926.01 960.192,2056.77 1106.79,1485.57 1253.39,1678.26 1399.99,1829.67 1546.6,1994.83 1693.2,1485.57 1839.8,1623.21 1986.4,1774.61 2133,1960.42 2279.6,2118.71 2426.2,2173.76 2572.8,2173.76 2719.4,2173.76 2866,1485.57 3012.6,1602.56 3159.2,1719.55 3305.81,1843.43 3452.41,1987.95 3599.01,2132.47 3745.61,2173.76 3892.21,2173.76 4038.81,1485.57 4185.41,1588.8 4332.01,1726.44 4478.61,1864.08 4625.21,2029.24 \"/>\n",
       "<polyline clip-path=\"url(#clip232)\" style=\"stroke:#ac8d18; stroke-linecap:round; stroke-linejoin:round; stroke-width:4; stroke-opacity:1; fill:none\" points=\"373.788,1485.57 520.389,1616.33 666.99,1719.55 813.591,1850.31 960.192,1932.89 1106.79,1485.57 1253.39,1657.62 1399.99,1760.85 1546.6,1905.37 1693.2,2022.36 1839.8,1485.57 1986.4,1595.68 2133,1760.85 2279.6,1919.13 2426.2,2063.65 2572.8,2173.76 2719.4,1485.57 2866,1623.21 3012.6,1760.85 3159.2,1932.89 3305.81,2104.94 3452.41,1485.57 3599.01,1698.91 3745.61,1829.67 3892.21,1946.66 4038.81,2111.82 4185.41,1485.57 4332.01,1650.74 4478.61,1767.73 4625.21,1912.25 \"/>\n",
       "<polyline clip-path=\"url(#clip232)\" style=\"stroke:#00a9ad; stroke-linecap:round; stroke-linejoin:round; stroke-width:4; stroke-opacity:1; fill:none\" points=\"373.788,1485.57 520.389,1616.33 666.99,1712.67 813.591,1864.08 960.192,2043.01 1106.79,1485.57 1253.39,1575.03 1399.99,1726.44 1546.6,1877.84 1693.2,1485.57 1839.8,1643.85 1986.4,1843.43 2133,1981.07 2279.6,1485.57 2426.2,1609.44 2572.8,1726.44 2719.4,1884.72 2866,1485.57 3012.6,1602.56 3159.2,1733.32 3305.81,1836.55 3452.41,1932.89 3599.01,2104.94 3745.61,1485.57 3892.21,1575.03 4038.81,1685.14 4185.41,1809.02 4332.01,1953.54 4478.61,2104.94 4625.21,2173.76 \"/>\n",
       "<polyline clip-path=\"url(#clip232)\" style=\"stroke:#ed5d92; stroke-linecap:round; stroke-linejoin:round; stroke-width:4; stroke-opacity:1; fill:none\" points=\"373.788,1485.57 520.389,1616.33 666.99,1760.85 813.591,1953.54 960.192,1485.57 1106.79,1636.97 1253.39,1781.49 1399.99,1932.89 1546.6,2084.3 1693.2,2173.76 1839.8,1485.57 1986.4,1636.97 2133,1795.26 2279.6,1960.42 2426.2,2104.94 2572.8,2173.76 2719.4,2173.76 2866,1485.57 3012.6,1561.27 3159.2,1678.26 3305.81,1857.19 3452.41,2036.12 3599.01,1485.57 3745.61,1692.03 3892.21,1870.96 4038.81,1994.83 4185.41,1485.57 4332.01,1602.56 4478.61,1692.03 4625.21,1829.67 \"/>\n",
       "<polyline clip-path=\"url(#clip232)\" style=\"stroke:#c68125; stroke-linecap:round; stroke-linejoin:round; stroke-width:4; stroke-opacity:1; fill:none\" points=\"373.788,1485.57 520.389,1636.97 666.99,1795.26 813.591,1939.78 960.192,1485.57 1106.79,1595.68 1253.39,1760.85 1399.99,1898.48 1546.6,2008.6 1693.2,2125.59 1839.8,1485.57 1986.4,1678.26 2133,1829.67 2279.6,1946.66 2426.2,2043.01 2572.8,2173.76 2719.4,2173.76 2866,1485.57 3012.6,1698.91 3159.2,1829.67 3305.81,1994.83 3452.41,2098.06 3599.01,2173.76 3745.61,1485.57 3892.21,1595.68 4038.81,1657.62 4185.41,1829.67 4332.01,1960.42 4478.61,1485.57 4625.21,1602.56 \"/>\n",
       "<polyline clip-path=\"url(#clip232)\" style=\"stroke:#00a98d; stroke-linecap:round; stroke-linejoin:round; stroke-width:4; stroke-opacity:1; fill:none\" points=\"373.788,1485.57 520.389,1705.79 666.99,1877.84 813.591,2022.36 960.192,1485.57 1106.79,1657.62 1253.39,1753.96 1399.99,1877.84 1546.6,1485.57 1693.2,1609.44 1839.8,1767.73 1986.4,1919.13 2133,1485.57 2279.6,1602.56 2426.2,1760.85 2572.8,1884.72 2719.4,1981.07 2866,1485.57 3012.6,1671.38 3159.2,1781.49 3305.81,1926.01 3452.41,2022.36 3599.01,2160 3745.61,2173.76 3892.21,2173.76 4038.81,1485.57 4185.41,1595.68 4332.01,1747.08 4478.61,1905.37 4625.21,1485.57 \"/>\n",
       "<polyline clip-path=\"url(#clip232)\" style=\"stroke:#8e971d; stroke-linecap:round; stroke-linejoin:round; stroke-width:4; stroke-opacity:1; fill:none\" points=\"373.788,1485.57 520.389,1581.92 666.99,1705.79 813.591,1857.19 960.192,2008.6 1106.79,1485.57 1253.39,1595.68 1399.99,1733.32 1546.6,1912.25 1693.2,1485.57 1839.8,1595.68 1986.4,1712.67 2133,1870.96 2279.6,2029.24 2426.2,1485.57 2572.8,1609.44 2719.4,1712.67 2866,1870.96 3012.6,1981.07 3159.2,2173.76 3305.81,2173.76 3452.41,2173.76 3599.01,2173.76 3745.61,1485.57 3892.21,1588.8 4038.81,1753.96 4185.41,1850.31 4332.01,1932.89 4478.61,2056.77 4625.21,2173.76 \"/>\n",
       "<polyline clip-path=\"url(#clip232)\" style=\"stroke:#00a8cb; stroke-linecap:round; stroke-linejoin:round; stroke-width:4; stroke-opacity:1; fill:none\" points=\"373.788,1485.57 520.389,1602.56 666.99,1719.55 813.591,1864.08 960.192,1987.95 1106.79,1141.47 1253.39,1251.58 1399.99,1409.87 1546.6,1519.98 1693.2,1623.21 1839.8,1698.91 1986.4,1836.55 2133,1939.78 2279.6,2118.71 2426.2,1141.47 2572.8,1299.76 2719.4,1402.99 2866,1513.1 3012.6,1609.44 3159.2,1774.61 3305.81,1939.78 3452.41,1141.47 3599.01,1217.17 3745.61,1375.46 3892.21,1547.51 4038.81,1643.85 4185.41,1829.67 4332.01,1932.89 4478.61,1141.47 4625.21,1265.35 \"/>\n",
       "<polyline clip-path=\"url(#clip232)\" style=\"stroke:#9b7fe8; stroke-linecap:round; stroke-linejoin:round; stroke-width:4; stroke-opacity:1; fill:none\" points=\"373.788,1485.57 520.389,1705.79 666.99,1836.55 813.591,2008.6 960.192,1141.47 1106.79,1327.28 1253.39,1423.63 1399.99,1554.39 1546.6,1698.91 1693.2,1836.55 1839.8,1141.47 1986.4,1292.87 2133,1458.04 2279.6,1602.56 2426.2,1712.67 2572.8,1829.67 2719.4,1953.54 2866,1141.47 3012.6,1251.58 3159.2,1341.05 3305.81,1464.92 3452.41,1636.97 3599.01,1747.08 3745.61,1870.96 3892.21,1141.47 4038.81,1306.64 4185.41,1396.1 4332.01,1540.62 4478.61,1664.5 4625.21,1774.61 \"/>\n",
       "<polyline clip-path=\"url(#clip232)\" style=\"stroke:#608cf6; stroke-linecap:round; stroke-linejoin:round; stroke-width:4; stroke-opacity:1; fill:none\" points=\"373.788,1485.57 520.389,1630.09 666.99,1733.32 813.591,1864.08 960.192,2070.53 1106.79,1141.47 1253.39,1306.64 1399.99,1396.1 1546.6,1588.8 1693.2,1747.08 1839.8,1836.55 1986.4,1987.95 2133,1141.47 2279.6,1299.76 2426.2,1464.92 2572.8,1602.56 2719.4,1788.37 2866,1877.84 3012.6,1141.47 3159.2,1272.23 3305.81,1382.34 3452.41,1561.27 3599.01,1671.38 3745.61,1795.26 3892.21,1905.37 4038.81,1141.47 4185.41,1265.35 4332.01,1361.69 4478.61,1478.69 4625.21,1581.92 \"/>\n",
       "<polyline clip-path=\"url(#clip232)\" style=\"stroke:#f05f73; stroke-linecap:round; stroke-linejoin:round; stroke-width:4; stroke-opacity:1; fill:none\" points=\"373.788,1485.57 520.389,1657.62 666.99,1781.49 813.591,1905.37 960.192,2049.89 1106.79,1141.47 1253.39,1230.94 1399.99,1389.22 1546.6,1568.15 1693.2,1664.5 1839.8,1802.14 1986.4,1932.89 2133,2049.89 2279.6,2173.76 2426.2,1141.47 2572.8,1217.17 2719.4,1361.69 2866,1458.04 3012.6,1581.92 3159.2,1719.55 3305.81,1870.96 3452.41,2008.6 3599.01,1141.47 3745.61,1292.87 3892.21,1430.51 4038.81,1575.03 4185.41,1685.14 4332.01,1809.02 4478.61,1960.42 4625.21,1141.47 \"/>\n",
       "<polyline clip-path=\"url(#clip232)\" style=\"stroke:#dd64b5; stroke-linecap:round; stroke-linejoin:round; stroke-width:4; stroke-opacity:1; fill:none\" points=\"373.788,1485.57 520.389,1602.56 666.99,1705.79 813.591,1822.78 960.192,1932.89 1106.79,2008.6 1253.39,1141.47 1399.99,1244.7 1546.6,1396.1 1693.2,1554.39 1839.8,1712.67 1986.4,1809.02 2133,1919.13 2279.6,2063.65 2426.2,2173.76 2572.8,2173.76 2719.4,2173.76 2866,2173.76 3012.6,2173.76 3159.2,2173.76 3305.81,2173.76 3452.41,2173.76 3599.01,1141.47 3745.61,1251.58 3892.21,1375.46 4038.81,1526.86 4185.41,1609.44 4332.01,1719.55 4478.61,1836.55 4625.21,1939.78 \"/>\n",
       "<polyline clip-path=\"url(#clip232)\" style=\"stroke:#6b9e32; stroke-linecap:round; stroke-linejoin:round; stroke-width:4; stroke-opacity:1; fill:none\" points=\"373.788,1485.57 520.389,1630.09 666.99,1774.61 813.591,1898.48 960.192,1141.47 1106.79,1320.4 1253.39,1513.1 1399.99,1650.74 1546.6,1781.49 1693.2,1932.89 1839.8,2001.71 1986.4,2111.82 2133,1141.47 2279.6,1265.35 2426.2,1396.1 2572.8,1554.39 2719.4,1671.38 2866,1857.19 3012.6,2022.36 3159.2,1141.47 3305.81,1244.7 3452.41,1396.1 3599.01,1499.33 3745.61,1664.5 3892.21,1809.02 4038.81,1926.01 4185.41,2070.53 4332.01,1141.47 4478.61,1265.35 4625.21,1396.1 \"/>\n",
       "<polyline clip-path=\"url(#clip232)\" style=\"stroke:#009af9; stroke-linecap:round; stroke-linejoin:round; stroke-width:4; stroke-opacity:1; fill:none\" points=\"373.788,1485.57 520.389,1616.33 666.99,1719.55 813.591,1850.31 960.192,1960.42 1106.79,1141.47 1253.39,1244.7 1399.99,1382.34 1546.6,1568.15 1693.2,1698.91 1839.8,1815.9 1986.4,1932.89 2133,1141.47 2279.6,1258.46 2426.2,1409.87 2572.8,1588.8 2719.4,1705.79 2866,1815.9 3012.6,1946.66 3159.2,2077.42 3305.81,2173.76 3452.41,1141.47 3599.01,1258.46 3745.61,1375.46 3892.21,1513.1 4038.81,1616.33 4185.41,1795.26 4332.01,1919.13 4478.61,2015.48 4625.21,2146.23 \"/>\n",
       "<polyline clip-path=\"url(#clip232)\" style=\"stroke:#e26f46; stroke-linecap:round; stroke-linejoin:round; stroke-width:4; stroke-opacity:1; fill:none\" points=\"373.788,1485.57 520.389,1636.97 666.99,1726.44 813.591,1836.55 960.192,1994.83 1106.79,1141.47 1253.39,1251.58 1399.99,1430.51 1546.6,1540.62 1693.2,1685.14 1839.8,1760.85 1986.4,1939.78 2133,1141.47 2279.6,1272.23 2426.2,1471.8 2572.8,1643.85 2719.4,1747.08 2866,1884.72 3012.6,1987.95 3159.2,1141.47 3305.81,1258.46 3452.41,1409.87 3599.01,1526.86 3745.61,1636.97 3892.21,1774.61 4038.81,1898.48 4185.41,2029.24 4332.01,2160 4478.61,2173.76 4625.21,2173.76 \"/>\n",
       "<polyline clip-path=\"url(#clip232)\" style=\"stroke:#3da44d; stroke-linecap:round; stroke-linejoin:round; stroke-width:4; stroke-opacity:1; fill:none\" points=\"373.788,1485.57 520.389,1636.97 666.99,1747.08 813.591,1891.6 960.192,2049.89 1106.79,2173.76 1253.39,2173.76 1399.99,1141.47 1546.6,1299.76 1693.2,1451.16 1839.8,1643.85 1986.4,1740.2 2133,1912.25 2279.6,2084.3 2426.2,1141.47 2572.8,1285.99 2719.4,1444.28 2866,1561.27 3012.6,1685.14 3159.2,1809.02 3305.81,1960.42 3452.41,1141.47 3599.01,1313.52 3745.61,1444.28 3892.21,1588.8 4038.81,1719.55 4185.41,1905.37 4332.01,2001.71 4478.61,2132.47 4625.21,2173.76 \"/>\n",
       "<polyline clip-path=\"url(#clip232)\" style=\"stroke:#c271d2; stroke-linecap:round; stroke-linejoin:round; stroke-width:4; stroke-opacity:1; fill:none\" points=\"373.788,1485.57 520.389,1595.68 666.99,1747.08 813.591,1912.25 960.192,1141.47 1106.79,1299.76 1253.39,1402.99 1399.99,1568.15 1546.6,1657.62 1693.2,1760.85 1839.8,1870.96 1986.4,1981.07 2133,1141.47 2279.6,1279.11 2426.2,1416.75 2572.8,1540.62 2719.4,1671.38 2866,1795.26 3012.6,1953.54 3159.2,2049.89 3305.81,2173.76 3452.41,2173.76 3599.01,1141.47 3745.61,1237.82 3892.21,1375.46 4038.81,1506.21 4185.41,1657.62 4332.01,1795.26 4478.61,1932.89 4625.21,2084.3 \"/>\n",
       "<polyline clip-path=\"url(#clip232)\" style=\"stroke:#ac8d18; stroke-linecap:round; stroke-linejoin:round; stroke-width:4; stroke-opacity:1; fill:none\" points=\"373.788,1485.57 520.389,1623.21 666.99,1774.61 813.591,1926.01 960.192,797.375 1106.79,859.313 1253.39,996.951 1399.99,1127.71 1546.6,1272.23 1693.2,1396.1 1839.8,1568.15 1986.4,1685.14 2133,1802.14 2279.6,1960.42 2426.2,797.375 2572.8,928.132 2719.4,1072.65 2866,1217.17 3012.6,1375.46 3159.2,1519.98 3305.81,1650.74 3452.41,1788.37 3599.01,1912.25 3745.61,2029.24 3892.21,797.375 4038.81,935.014 4185.41,1024.48 4332.01,1217.17 4478.61,1375.46 4625.21,1492.45 \"/>\n",
       "<polyline clip-path=\"url(#clip232)\" style=\"stroke:#00a9ad; stroke-linecap:round; stroke-linejoin:round; stroke-width:4; stroke-opacity:1; fill:none\" points=\"373.788,1485.57 520.389,1609.44 666.99,1692.03 813.591,1884.72 960.192,797.375 1106.79,873.076 1253.39,1031.36 1399.99,1169 1546.6,1279.11 1693.2,1389.22 1839.8,1547.51 1986.4,1671.38 2133,1864.08 2279.6,2015.48 2426.2,797.375 2572.8,935.014 2719.4,1038.24 2866,1182.76 3012.6,1272.23 3159.2,1409.87 3305.81,1499.33 3452.41,1650.74 3599.01,1781.49 3745.61,1898.48 3892.21,797.375 4038.81,948.778 4185.41,1079.53 4332.01,1292.87 4478.61,1458.04 4625.21,1636.97 \"/>\n",
       "<polyline clip-path=\"url(#clip232)\" style=\"stroke:#ed5d92; stroke-linecap:round; stroke-linejoin:round; stroke-width:4; stroke-opacity:1; fill:none\" points=\"373.788,1485.57 520.389,1595.68 666.99,1733.32 813.591,1864.08 960.192,2029.24 1106.79,797.375 1253.39,914.368 1399.99,1024.48 1546.6,1141.47 1693.2,1306.64 1839.8,1430.51 1986.4,1588.8 2133,1685.14 2279.6,1788.37 2426.2,1912.25 2572.8,2008.6 2719.4,797.375 2866,941.896 3012.6,1100.18 3159.2,1292.87 3305.81,1471.8 3452.41,1575.03 3599.01,1692.03 3745.61,1795.26 3892.21,1994.83 4038.81,2153.12 4185.41,2173.76 4332.01,2173.76 4478.61,2173.76 4625.21,797.375 \"/>\n",
       "<polyline clip-path=\"url(#clip232)\" style=\"stroke:#c68125; stroke-linecap:round; stroke-linejoin:round; stroke-width:4; stroke-opacity:1; fill:none\" points=\"373.788,1485.57 520.389,1630.09 666.99,1809.02 813.591,1981.07 960.192,797.375 1106.79,907.486 1253.39,1072.65 1399.99,1182.76 1546.6,1347.93 1693.2,1423.63 1839.8,1561.27 1986.4,1719.55 2133,1884.72 2279.6,2063.65 2426.2,2173.76 2572.8,2173.76 2719.4,797.375 2866,893.722 3012.6,990.069 3159.2,1113.94 3305.81,1237.82 3452.41,1361.69 3599.01,1513.1 3745.61,1692.03 3892.21,1802.14 4038.81,1939.78 4185.41,2049.89 4332.01,2153.12 4478.61,797.375 4625.21,990.069 \"/>\n",
       "<polyline clip-path=\"url(#clip232)\" style=\"stroke:#00a98d; stroke-linecap:round; stroke-linejoin:round; stroke-width:4; stroke-opacity:1; fill:none\" points=\"373.788,1485.57 520.389,1595.68 666.99,1698.91 813.591,1836.55 960.192,1981.07 1106.79,797.375 1253.39,948.778 1399.99,1065.77 1546.6,1258.46 1693.2,1347.93 1839.8,1519.98 1986.4,1698.91 2133,1877.84 2279.6,2029.24 2426.2,2153.12 2572.8,797.375 2719.4,921.25 2866,1031.36 3012.6,1100.18 3159.2,1258.46 3305.81,1402.99 3452.41,1519.98 3599.01,1623.21 3745.61,1753.96 3892.21,1932.89 4038.81,2036.12 4185.41,797.375 4332.01,935.014 4478.61,1093.3 4625.21,1196.53 \"/>\n",
       "<polyline clip-path=\"url(#clip232)\" style=\"stroke:#8e971d; stroke-linecap:round; stroke-linejoin:round; stroke-width:4; stroke-opacity:1; fill:none\" points=\"373.788,1485.57 520.389,1623.21 666.99,1829.67 813.591,1967.3 960.192,2104.94 1106.79,2173.76 1253.39,797.375 1399.99,900.604 1546.6,1024.48 1693.2,1141.47 1839.8,1258.46 1986.4,1396.1 2133,1547.51 2279.6,1685.14 2426.2,1781.49 2572.8,1877.84 2719.4,1953.54 2866,2056.77 3012.6,2166.88 3159.2,797.375 3305.81,1010.72 3452.41,1120.83 3599.01,1196.53 3745.61,1313.52 3892.21,1492.45 4038.81,1602.56 4185.41,1712.67 4332.01,1836.55 4478.61,1953.54 4625.21,797.375 \"/>\n",
       "<polyline clip-path=\"url(#clip232)\" style=\"stroke:#00a8cb; stroke-linecap:round; stroke-linejoin:round; stroke-width:4; stroke-opacity:1; fill:none\" points=\"373.788,1485.57 520.389,1643.85 666.99,1822.78 813.591,1987.95 960.192,2104.94 1106.79,797.375 1253.39,935.014 1399.99,1072.65 1546.6,1230.94 1693.2,1354.81 1839.8,1499.33 1986.4,1643.85 2133,1733.32 2279.6,1953.54 2426.2,797.375 2572.8,907.486 2719.4,1024.48 2866,1162.12 3012.6,1334.17 3159.2,1492.45 3305.81,1692.03 3452.41,1836.55 3599.01,1953.54 3745.61,2098.06 3892.21,797.375 4038.81,886.84 4185.41,1052.01 4332.01,1224.06 4478.61,1347.93 4625.21,1499.33 \"/>\n",
       "<polyline clip-path=\"url(#clip232)\" style=\"stroke:#9b7fe8; stroke-linecap:round; stroke-linejoin:round; stroke-width:4; stroke-opacity:1; fill:none\" points=\"373.788,1485.57 520.389,1568.15 666.99,1705.79 813.591,1822.78 960.192,1967.3 1106.79,797.375 1253.39,976.305 1399.99,1134.59 1546.6,1279.11 1693.2,1416.75 1839.8,1506.21 1986.4,1575.03 2133,1705.79 2279.6,1829.67 2426.2,1946.66 2572.8,2049.89 2719.4,797.375 2866,879.958 3012.6,1065.77 3159.2,1224.06 3305.81,1292.87 3452.41,1402.99 3599.01,1554.39 3745.61,1636.97 3892.21,1760.85 4038.81,1912.25 4185.41,2015.48 4332.01,2146.23 4478.61,2173.76 4625.21,797.375 \"/>\n",
       "<polyline clip-path=\"url(#clip232)\" style=\"stroke:#608cf6; stroke-linecap:round; stroke-linejoin:round; stroke-width:4; stroke-opacity:1; fill:none\" points=\"373.788,1485.57 520.389,1588.8 666.99,1726.44 813.591,1884.72 960.192,1987.95 1106.79,2153.12 1253.39,797.375 1399.99,955.66 1546.6,1045.12 1693.2,1155.24 1839.8,1285.99 1986.4,1444.28 2133,1609.44 2279.6,1698.91 2426.2,1864.08 2572.8,2049.89 2719.4,2173.76 2866,2173.76 3012.6,2173.76 3159.2,2173.76 3305.81,2173.76 3452.41,797.375 3599.01,879.958 3745.61,1031.36 3892.21,1169 4038.81,1299.76 4185.41,1492.45 4332.01,1643.85 4478.61,1774.61 4625.21,1932.89 \"/>\n",
       "<polyline clip-path=\"url(#clip232)\" style=\"stroke:#f05f73; stroke-linecap:round; stroke-linejoin:round; stroke-width:4; stroke-opacity:1; fill:none\" points=\"373.788,1485.57 520.389,1678.26 666.99,1870.96 813.591,2008.6 960.192,797.375 1106.79,962.542 1253.39,1072.65 1399.99,1169 1546.6,1251.58 1693.2,1389.22 1839.8,1499.33 1986.4,1602.56 2133,1705.79 2279.6,1836.55 2426.2,1987.95 2572.8,2153.12 2719.4,2173.76 2866,797.375 3012.6,935.014 3159.2,1045.12 3305.81,1189.65 3452.41,1375.46 3599.01,1533.74 3745.61,1692.03 3892.21,1850.31 4038.81,2029.24 4185.41,2173.76 4332.01,2173.76 4478.61,2173.76 4625.21,797.375 \"/>\n",
       "<polyline clip-path=\"url(#clip232)\" style=\"stroke:#dd64b5; stroke-linecap:round; stroke-linejoin:round; stroke-width:4; stroke-opacity:1; fill:none\" points=\"373.788,1485.57 520.389,1630.09 666.99,1795.26 813.591,1967.3 960.192,2091.18 1106.79,453.278 1253.39,632.209 1399.99,742.32 1546.6,818.021 1693.2,948.778 1839.8,1093.3 1986.4,1272.23 2133,1389.22 2279.6,1554.39 2426.2,1685.14 2572.8,1829.67 2719.4,1994.83 2866,453.278 3012.6,639.091 3159.2,824.903 3305.81,983.187 3452.41,1134.59 3599.01,1299.76 3745.61,1423.63 3892.21,1554.39 4038.81,1685.14 4185.41,1843.43 4332.01,2001.71 4478.61,2125.59 4625.21,453.278 \"/>\n",
       "<polyline clip-path=\"url(#clip232)\" style=\"stroke:#6b9e32; stroke-linecap:round; stroke-linejoin:round; stroke-width:4; stroke-opacity:1; fill:none\" points=\"373.788,1485.57 520.389,1602.56 666.99,1705.79 813.591,1815.9 960.192,1939.78 1106.79,453.278 1253.39,604.681 1399.99,769.847 1546.6,921.25 1693.2,1024.48 1839.8,1162.12 1986.4,1313.52 2133,1430.51 2279.6,1554.39 2426.2,1712.67 2572.8,1843.43 2719.4,1932.89 2866,453.278 3012.6,590.917 3159.2,707.91 3305.81,818.021 3452.41,928.132 3599.01,1058.89 3745.61,1258.46 3892.21,1382.34 4038.81,1513.1 4185.41,1595.68 4332.01,1692.03 4478.61,1802.14 4625.21,1932.89 \"/>\n",
       "<polyline clip-path=\"url(#clip232)\" style=\"stroke:#009af9; stroke-linecap:round; stroke-linejoin:round; stroke-width:4; stroke-opacity:1; fill:none\" points=\"373.788,1485.57 520.389,1630.09 666.99,1753.96 813.591,1898.48 960.192,2077.42 1106.79,453.278 1253.39,563.389 1399.99,714.792 1546.6,859.313 1693.2,990.069 1839.8,1107.06 1986.4,1217.17 2133,1354.81 2279.6,1513.1 2426.2,1616.33 2572.8,1740.2 2719.4,1877.84 2866,1946.66 3012.6,2022.36 3159.2,2173.76 3305.81,453.278 3452.41,584.035 3599.01,714.792 3745.61,852.431 3892.21,955.66 4038.81,1113.94 4185.41,1230.94 4332.01,1382.34 4478.61,1506.21 4625.21,1657.62 \"/>\n",
       "<polyline clip-path=\"url(#clip232)\" style=\"stroke:#e26f46; stroke-linecap:round; stroke-linejoin:round; stroke-width:4; stroke-opacity:1; fill:none\" points=\"373.788,1485.57 520.389,1650.74 666.99,1829.67 813.591,1939.78 960.192,2091.18 1106.79,2173.76 1253.39,453.278 1399.99,611.563 1546.6,694.146 1693.2,790.493 1839.8,935.014 1986.4,1079.53 2133,1237.82 2279.6,1368.58 2426.2,1492.45 2572.8,1602.56 2719.4,1747.08 2866,1946.66 3012.6,453.278 3159.2,618.445 3305.81,804.257 3452.41,983.187 3599.01,1155.24 3745.61,1299.76 3892.21,1444.28 4038.81,1595.68 4185.41,1712.67 4332.01,1815.9 4478.61,1987.95 4625.21,2125.59 \"/>\n",
       "<polyline clip-path=\"url(#clip232)\" style=\"stroke:#3da44d; stroke-linecap:round; stroke-linejoin:round; stroke-width:4; stroke-opacity:1; fill:none\" points=\"373.788,1485.57 520.389,1588.8 666.99,1685.14 813.591,1809.02 960.192,1905.37 1106.79,2043.01 1253.39,2173.76 1399.99,2173.76 1546.6,2173.76 1693.2,453.278 1839.8,597.799 1986.4,742.32 2133,879.958 2279.6,996.951 2426.2,1120.83 2572.8,1230.94 2719.4,1361.69 2866,1492.45 3012.6,1664.5 3159.2,1788.37 3305.81,1974.19 3452.41,453.278 3599.01,597.799 3745.61,728.556 3892.21,838.667 4038.81,955.66 4185.41,1072.65 4332.01,1189.65 4478.61,1327.28 4625.21,1458.04 \"/>\n",
       "<polyline clip-path=\"url(#clip232)\" style=\"stroke:#c271d2; stroke-linecap:round; stroke-linejoin:round; stroke-width:4; stroke-opacity:1; fill:none\" points=\"373.788,1485.57 520.389,1650.74 666.99,1781.49 813.591,1932.89 960.192,453.278 1106.79,570.271 1253.39,687.264 1399.99,804.257 1546.6,935.014 1693.2,1058.89 1839.8,1155.24 1986.4,1292.87 2133,1409.87 2279.6,1526.86 2426.2,1678.26 2572.8,1795.26 2719.4,1912.25 2866,453.278 3012.6,570.271 3159.2,714.792 3305.81,852.431 3452.41,1065.77 3599.01,1196.53 3745.61,1354.81 3892.21,1458.04 4038.81,1561.27 4185.41,1719.55 4332.01,1877.84 4478.61,1994.83 4625.21,2160 \"/>\n",
       "<polyline clip-path=\"url(#clip232)\" style=\"stroke:#ac8d18; stroke-linecap:round; stroke-linejoin:round; stroke-width:4; stroke-opacity:1; fill:none\" points=\"373.788,1485.57 520.389,1616.33 666.99,1719.55 813.591,1815.9 960.192,1953.54 1106.79,2111.82 1253.39,2173.76 1399.99,2173.76 1546.6,453.278 1693.2,645.973 1839.8,735.438 1986.4,914.368 2133,1107.06 2279.6,1279.11 2426.2,1416.75 2572.8,1513.1 2719.4,1602.56 2866,1705.79 3012.6,1836.55 3159.2,1953.54 3305.81,2091.18 3452.41,453.278 3599.01,577.153 3745.61,762.965 3892.21,886.84 4038.81,1045.12 4185.41,1162.12 4332.01,1368.58 4478.61,1499.33 4625.21,1623.21 \"/>\n",
       "<polyline clip-path=\"url(#clip232)\" style=\"stroke:#00a9ad; stroke-linecap:round; stroke-linejoin:round; stroke-width:4; stroke-opacity:1; fill:none\" points=\"373.788,1485.57 520.389,1568.15 666.99,1726.44 813.591,1877.84 960.192,1974.19 1106.79,2173.76 1253.39,2173.76 1399.99,453.278 1546.6,570.271 1693.2,673.5 1839.8,797.375 1986.4,928.132 2133,1093.3 2279.6,1224.06 2426.2,1368.58 2572.8,1499.33 2719.4,1595.68 2866,1753.96 3012.6,1919.13 3159.2,2036.12 3305.81,2173.76 3452.41,2173.76 3599.01,2173.76 3745.61,453.278 3892.21,604.681 4038.81,707.91 4185.41,859.313 4332.01,1010.72 4478.61,1113.94 4625.21,1244.7 \"/>\n",
       "<polyline clip-path=\"url(#clip232)\" style=\"stroke:#ed5d92; stroke-linecap:round; stroke-linejoin:round; stroke-width:4; stroke-opacity:1; fill:none\" points=\"373.788,1485.57 520.389,1657.62 666.99,1795.26 813.591,1946.66 960.192,2132.47 1106.79,453.278 1253.39,528.98 1399.99,749.202 1546.6,907.486 1693.2,1058.89 1839.8,1169 1986.4,1285.99 2133,1409.87 2279.6,1533.74 2426.2,1685.14 2572.8,1815.9 2719.4,1939.78 2866,453.278 3012.6,652.854 3159.2,790.493 3305.81,983.187 3452.41,1120.83 3599.01,1244.7 3745.61,1430.51 3892.21,1581.92 4038.81,1788.37 4185.41,1932.89 4332.01,453.278 4478.61,590.917 4625.21,735.438 \"/>\n",
       "<polyline clip-path=\"url(#clip232)\" style=\"stroke:#c68125; stroke-linecap:round; stroke-linejoin:round; stroke-width:4; stroke-opacity:1; fill:none\" points=\"373.788,1485.57 520.389,1616.33 666.99,1747.08 813.591,1815.9 960.192,1898.48 1106.79,2049.89 1253.39,453.278 1399.99,556.507 1546.6,652.854 1693.2,776.729 1839.8,921.25 1986.4,1058.89 2133,1134.59 2279.6,1285.99 2426.2,1416.75 2572.8,1547.51 2719.4,1636.97 2866,1760.85 3012.6,1912.25 3159.2,453.278 3305.81,577.153 3452.41,701.028 3599.01,879.958 3745.61,1038.24 3892.21,1196.53 4038.81,1368.58 4185.41,1499.33 4332.01,1636.97 4478.61,1781.49 4625.21,1960.42 \"/>\n",
       "<polyline clip-path=\"url(#clip232)\" style=\"stroke:#00a98d; stroke-linecap:round; stroke-linejoin:round; stroke-width:4; stroke-opacity:1; fill:none\" points=\"373.788,1485.57 520.389,1636.97 666.99,1740.2 813.591,1843.43 960.192,1987.95 1106.79,2070.53 1253.39,109.182 1399.99,205.529 1546.6,336.285 1693.2,453.278 1839.8,604.681 1986.4,694.146 2133,845.549 2279.6,996.951 2426.2,1155.24 2572.8,1279.11 2719.4,1402.99 2866,1533.74 3012.6,1685.14 3159.2,1843.43 3305.81,1994.83 3452.41,109.182 3599.01,233.056 3745.61,356.931 3892.21,487.688 4038.81,577.153 4185.41,687.264 4332.01,859.313 4478.61,1003.83 4625.21,1113.94 \"/>\n",
       "<polyline clip-path=\"url(#clip232)\" style=\"stroke:#8e971d; stroke-linecap:round; stroke-linejoin:round; stroke-width:4; stroke-opacity:1; fill:none\" points=\"373.788,1485.57 520.389,1664.5 666.99,1809.02 813.591,1987.95 960.192,109.182 1106.79,226.174 1253.39,356.931 1399.99,528.98 1546.6,673.5 1693.2,824.903 1839.8,962.542 1986.4,1134.59 2133,1285.99 2279.6,1458.04 2426.2,1581.92 2572.8,1712.67 2719.4,1870.96 2866,109.182 3012.6,260.584 3159.2,391.341 3305.81,535.862 3452.41,687.264 3599.01,818.021 3745.61,941.896 3892.21,1113.94 4038.81,1251.58 4185.41,1396.1 4332.01,1506.21 4478.61,1671.38 4625.21,1822.78 \"/>\n",
       "<polyline clip-path=\"url(#clip232)\" style=\"stroke:#00a8cb; stroke-linecap:round; stroke-linejoin:round; stroke-width:4; stroke-opacity:1; fill:none\" points=\"373.788,1485.57 520.389,1581.92 666.99,1712.67 813.591,1815.9 960.192,1987.95 1106.79,109.182 1253.39,219.293 1399.99,405.105 1546.6,487.688 1693.2,611.563 1839.8,756.084 1986.4,859.313 2133,962.542 2279.6,1058.89 2426.2,1224.06 2572.8,1292.87 2719.4,1444.28 2866,1581.92 3012.6,1747.08 3159.2,1864.08 3305.81,1967.3 3452.41,2049.89 3599.01,2173.76 3745.61,2173.76 3892.21,109.182 4038.81,226.174 4185.41,391.341 4332.01,570.271 4478.61,707.91 4625.21,824.903 \"/>\n",
       "<polyline clip-path=\"url(#clip232)\" style=\"stroke:#9b7fe8; stroke-linecap:round; stroke-linejoin:round; stroke-width:4; stroke-opacity:1; fill:none\" points=\"373.788,1485.57 520.389,1698.91 666.99,1843.43 813.591,1974.19 960.192,2084.3 1106.79,109.182 1253.39,219.293 1399.99,329.403 1546.6,425.751 1693.2,570.271 1839.8,735.438 1986.4,914.368 2133,1058.89 2279.6,1210.29 2426.2,1361.69 2572.8,1526.86 2719.4,1664.5 2866,1809.02 3012.6,1912.25 3159.2,2084.3 3305.81,2173.76 3452.41,109.182 3599.01,253.702 3745.61,439.514 3892.21,584.035 4038.81,728.556 4185.41,859.313 4332.01,1010.72 4478.61,1120.83 4625.21,1244.7 \"/>\n",
       "<polyline clip-path=\"url(#clip232)\" style=\"stroke:#608cf6; stroke-linecap:round; stroke-linejoin:round; stroke-width:4; stroke-opacity:1; fill:none\" points=\"373.788,1485.57 520.389,1602.56 666.99,1767.73 813.591,1912.25 960.192,2036.12 1106.79,109.182 1253.39,253.702 1399.99,425.751 1546.6,570.271 1693.2,701.028 1839.8,886.84 1986.4,969.424 2133,1113.94 2279.6,1265.35 2426.2,1402.99 2572.8,1519.98 2719.4,1698.91 2866,1857.19 3012.6,1939.78 3159.2,109.182 3305.81,246.82 3452.41,425.751 3599.01,563.389 3745.61,776.729 3892.21,928.132 4038.81,1113.94 4185.41,1244.7 4332.01,1389.22 4478.61,1506.21 4625.21,1575.03 \"/>\n",
       "<polyline clip-path=\"url(#clip232)\" style=\"stroke:#f05f73; stroke-linecap:round; stroke-linejoin:round; stroke-width:4; stroke-opacity:1; fill:none\" points=\"373.788,1485.57 520.389,1588.8 666.99,1726.44 813.591,1919.13 960.192,2063.65 1106.79,2173.76 1253.39,2173.76 1399.99,109.182 1546.6,274.348 1693.2,446.396 1839.8,577.153 1986.4,728.556 2133,879.958 2279.6,1010.72 2426.2,1127.71 2572.8,1285.99 2719.4,1451.16 2866,1616.33 3012.6,1836.55 3159.2,2008.6 3305.81,2160 3452.41,109.182 3599.01,260.584 3745.61,425.751 3892.21,597.799 4038.81,639.091 4185.41,762.965 4332.01,873.076 4478.61,1058.89 4625.21,1224.06 \"/>\n",
       "<polyline clip-path=\"url(#clip232)\" style=\"stroke:#dd64b5; stroke-linecap:round; stroke-linejoin:round; stroke-width:4; stroke-opacity:1; fill:none\" points=\"373.788,1485.57 520.389,1623.21 666.99,1733.32 813.591,1864.08 960.192,1953.54 1106.79,2173.76 1253.39,109.182 1399.99,274.348 1546.6,425.751 1693.2,556.507 1839.8,673.5 1986.4,838.667 2133,983.187 2279.6,1120.83 2426.2,1279.11 2572.8,1444.28 2719.4,1602.56 2866,1815.9 3012.6,109.182 3159.2,281.23 3305.81,391.341 3452.41,542.744 3599.01,652.854 3745.61,783.611 3892.21,907.486 4038.81,955.66 4185.41,1079.53 4332.01,1237.82 4478.61,1389.22 4625.21,1478.69 \"/>\n",
       "<polyline clip-path=\"url(#clip232)\" style=\"stroke:#6b9e32; stroke-linecap:round; stroke-linejoin:round; stroke-width:4; stroke-opacity:1; fill:none\" points=\"373.788,1485.57 520.389,1685.14 666.99,1815.9 813.591,1960.42 960.192,2070.53 1106.79,109.182 1253.39,219.293 1399.99,301.876 1546.6,398.223 1693.2,535.862 1839.8,673.5 1986.4,824.903 2133,941.896 2279.6,1093.3 2426.2,1217.17 2572.8,1327.28 2719.4,1437.4 2866,1561.27 3012.6,1698.91 3159.2,1843.43 3305.81,1960.42 3452.41,109.182 3599.01,212.411 3745.61,336.285 3892.21,453.278 4038.81,584.035 4185.41,721.674 4332.01,859.313 4478.61,1065.77 4625.21,1224.06 \"/>\n",
       "<polyline clip-path=\"url(#clip232)\" style=\"stroke:#009af9; stroke-linecap:round; stroke-linejoin:round; stroke-width:4; stroke-opacity:1; fill:none\" points=\"373.788,1485.57 520.389,1623.21 666.99,1767.73 813.591,1926.01 960.192,2084.3 1106.79,109.182 1253.39,205.529 1399.99,336.285 1546.6,473.924 1693.2,604.681 1839.8,756.084 1986.4,907.486 2133,1045.12 2279.6,1196.53 2426.2,1347.93 2572.8,1506.21 2719.4,1643.85 2866,1809.02 3012.6,1967.3 3159.2,109.182 3305.81,281.23 3452.41,425.751 3599.01,549.625 3745.61,618.445 3892.21,701.028 4038.81,818.021 4185.41,928.132 4332.01,1079.53 4478.61,1258.46 4625.21,1451.16 \"/>\n",
       "<polyline clip-path=\"url(#clip232)\" style=\"stroke:#e26f46; stroke-linecap:round; stroke-linejoin:round; stroke-width:4; stroke-opacity:1; fill:none\" points=\"373.788,1485.57 520.389,1630.09 666.99,1822.78 813.591,1974.19 960.192,109.182 1106.79,267.466 1253.39,384.459 1399.99,494.57 1546.6,556.507 1693.2,707.91 1839.8,859.313 1986.4,1052.01 2133,1120.83 2279.6,1279.11 2426.2,1368.58 2572.8,1506.21 2719.4,1623.21 2866,1740.2 3012.6,1891.6 3159.2,109.182 3305.81,288.112 3452.41,446.396 3599.01,590.917 3745.61,749.202 3892.21,845.549 4038.81,969.424 4185.41,1127.71 4332.01,1251.58 4478.61,1375.46 4625.21,1526.86 \"/>\n",
       "<polyline clip-path=\"url(#clip232)\" style=\"stroke:#3da44d; stroke-linecap:round; stroke-linejoin:round; stroke-width:4; stroke-opacity:1; fill:none\" points=\"373.788,1485.57 520.389,1630.09 666.99,1712.67 813.591,1836.55 960.192,1974.19 1106.79,2077.42 1253.39,2173.76 1399.99,2173.76 1546.6,2173.76 1693.2,1485.57 1839.8,1636.97 1986.4,1788.37 2133,1891.6 2279.6,1485.57 2426.2,1602.56 2572.8,1767.73 2719.4,1884.72 2866,1485.57 3012.6,1616.33 3159.2,1760.85 3305.81,1981.07 3452.41,2125.59 3599.01,2173.76 3745.61,1485.57 3892.21,1609.44 4038.81,1733.32 4185.41,1809.02 4332.01,1898.48 4478.61,1485.57 4625.21,1595.68 \"/>\n",
       "<polyline clip-path=\"url(#clip232)\" style=\"stroke:#c271d2; stroke-linecap:round; stroke-linejoin:round; stroke-width:4; stroke-opacity:1; fill:none\" points=\"373.788,1485.57 520.389,1616.33 666.99,1712.67 813.591,1864.08 960.192,1994.83 1106.79,1485.57 1253.39,1609.44 1399.99,1747.08 1546.6,1870.96 1693.2,1485.57 1839.8,1643.85 1986.4,1781.49 2133,1932.89 2279.6,2153.12 2426.2,1485.57 2572.8,1588.8 2719.4,1692.03 2866,1822.78 3012.6,1946.66 3159.2,2022.36 3305.81,1485.57 3452.41,1588.8 3599.01,1705.79 3745.61,1877.84 3892.21,2049.89 4038.81,1485.57 4185.41,1581.92 4332.01,1740.2 4478.61,1946.66 4625.21,1485.57 \"/>\n",
       "<polyline clip-path=\"url(#clip232)\" style=\"stroke:#ac8d18; stroke-linecap:round; stroke-linejoin:round; stroke-width:4; stroke-opacity:1; fill:none\" points=\"373.788,1485.57 520.389,1588.8 666.99,1740.2 813.591,1870.96 960.192,1946.66 1106.79,1485.57 1253.39,1602.56 1399.99,1733.32 1546.6,1884.72 1693.2,1485.57 1839.8,1630.09 1986.4,1760.85 2133,1905.37 2279.6,1994.83 2426.2,2173.76 2572.8,2173.76 2719.4,2173.76 2866,1485.57 3012.6,1616.33 3159.2,1753.96 3305.81,1870.96 3452.41,2036.12 3599.01,1485.57 3745.61,1602.56 3892.21,1753.96 4038.81,1974.19 4185.41,2104.94 4332.01,1485.57 4478.61,1657.62 4625.21,1781.49 \"/>\n",
       "<polyline clip-path=\"url(#clip232)\" style=\"stroke:#00a9ad; stroke-linecap:round; stroke-linejoin:round; stroke-width:4; stroke-opacity:1; fill:none\" points=\"373.788,1485.57 520.389,1561.27 666.99,1705.79 813.591,1850.31 960.192,1960.42 1106.79,2166.88 1253.39,2173.76 1399.99,2173.76 1546.6,2173.76 1693.2,1485.57 1839.8,1630.09 1986.4,1829.67 2133,1946.66 2279.6,2070.53 2426.2,1485.57 2572.8,1609.44 2719.4,1809.02 2866,1953.54 3012.6,1485.57 3159.2,1602.56 3305.81,1733.32 3452.41,1905.37 3599.01,2043.01 3745.61,2173.76 3892.21,2173.76 4038.81,1485.57 4185.41,1581.92 4332.01,1726.44 4478.61,1905.37 4625.21,2091.18 \"/>\n",
       "<polyline clip-path=\"url(#clip232)\" style=\"stroke:#ed5d92; stroke-linecap:round; stroke-linejoin:round; stroke-width:4; stroke-opacity:1; fill:none\" points=\"373.788,1485.57 520.389,1671.38 666.99,1809.02 813.591,1946.66 960.192,2063.65 1106.79,2173.76 1253.39,2173.76 1399.99,1485.57 1546.6,1602.56 1693.2,1712.67 1839.8,1836.55 1986.4,1953.54 2133,1485.57 2279.6,1657.62 2426.2,1781.49 2572.8,1912.25 2719.4,1981.07 2866,1485.57 3012.6,1623.21 3159.2,1788.37 3305.81,1926.01 3452.41,2049.89 3599.01,2146.23 3745.61,1485.57 3892.21,1685.14 4038.81,1850.31 4185.41,1974.19 4332.01,2173.76 4478.61,1485.57 4625.21,1657.62 \"/>\n",
       "<polyline clip-path=\"url(#clip232)\" style=\"stroke:#c68125; stroke-linecap:round; stroke-linejoin:round; stroke-width:4; stroke-opacity:1; fill:none\" points=\"373.788,1485.57 520.389,1616.33 666.99,1719.55 813.591,1836.55 960.192,1994.83 1106.79,1485.57 1253.39,1588.8 1399.99,1678.26 1546.6,1884.72 1693.2,2008.6 1839.8,1485.57 1986.4,1650.74 2133,1781.49 2279.6,1926.01 2426.2,1485.57 2572.8,1630.09 2719.4,1781.49 2866,1953.54 3012.6,2084.3 3159.2,1485.57 3305.81,1595.68 3452.41,1767.73 3599.01,1891.6 3745.61,1987.95 3892.21,1485.57 4038.81,1623.21 4185.41,1767.73 4332.01,1926.01 4478.61,2056.77 4625.21,2173.76 \"/>\n",
       "<polyline clip-path=\"url(#clip232)\" style=\"stroke:#00a98d; stroke-linecap:round; stroke-linejoin:round; stroke-width:4; stroke-opacity:1; fill:none\" points=\"373.788,1485.57 520.389,1698.91 666.99,1829.67 813.591,1946.66 960.192,1485.57 1106.79,1602.56 1253.39,1726.44 1399.99,1884.72 1546.6,1485.57 1693.2,1636.97 1839.8,1747.08 1986.4,1891.6 2133,1987.95 2279.6,1485.57 2426.2,1623.21 2572.8,1698.91 2719.4,1850.31 2866,1485.57 3012.6,1575.03 3159.2,1705.79 3305.81,1836.55 3452.41,1987.95 3599.01,1485.57 3745.61,1630.09 3892.21,1774.61 4038.81,1939.78 4185.41,2036.12 4332.01,1485.57 4478.61,1602.56 4625.21,1767.73 \"/>\n",
       "<polyline clip-path=\"url(#clip232)\" style=\"stroke:#8e971d; stroke-linecap:round; stroke-linejoin:round; stroke-width:4; stroke-opacity:1; fill:none\" points=\"373.788,1485.57 520.389,1657.62 666.99,1774.61 813.591,1884.72 960.192,2036.12 1106.79,2173.76 1253.39,2173.76 1399.99,2173.76 1546.6,2173.76 1693.2,2173.76 1839.8,1485.57 1986.4,1602.56 2133,1760.85 2279.6,1912.25 2426.2,2091.18 2572.8,2173.76 2719.4,1485.57 2866,1657.62 3012.6,1829.67 3159.2,1953.54 3305.81,2091.18 3452.41,1485.57 3599.01,1636.97 3745.61,1857.19 3892.21,1485.57 4038.81,1623.21 4185.41,1726.44 4332.01,1815.9 4478.61,1912.25 4625.21,1987.95 \"/>\n",
       "<polyline clip-path=\"url(#clip232)\" style=\"stroke:#00a8cb; stroke-linecap:round; stroke-linejoin:round; stroke-width:4; stroke-opacity:1; fill:none\" points=\"373.788,1485.57 520.389,1616.33 666.99,1774.61 813.591,1891.6 960.192,2043.01 1106.79,2146.23 1253.39,2173.76 1399.99,2173.76 1546.6,2173.76 1693.2,2173.76 1839.8,2173.76 1986.4,1485.57 2133,1609.44 2279.6,1698.91 2426.2,1850.31 2572.8,1912.25 2719.4,1485.57 2866,1609.44 3012.6,1726.44 3159.2,1795.26 3305.81,1946.66 3452.41,2118.71 3599.01,2173.76 3745.61,2173.76 3892.21,1485.57 4038.81,1643.85 4185.41,1822.78 4332.01,1939.78 4478.61,1485.57 4625.21,1568.15 \"/>\n",
       "<polyline clip-path=\"url(#clip232)\" style=\"stroke:#9b7fe8; stroke-linecap:round; stroke-linejoin:round; stroke-width:4; stroke-opacity:1; fill:none\" points=\"373.788,1485.57 520.389,1636.97 666.99,1788.37 813.591,1967.3 960.192,2084.3 1106.79,2173.76 1253.39,2173.76 1399.99,1485.57 1546.6,1609.44 1693.2,1705.79 1839.8,1864.08 1986.4,2022.36 2133,1485.57 2279.6,1575.03 2426.2,1753.96 2572.8,1974.19 2719.4,2091.18 2866,1485.57 3012.6,1643.85 3159.2,1795.26 3305.81,1960.42 3452.41,2098.06 3599.01,2173.76 3745.61,2173.76 3892.21,2173.76 4038.81,1485.57 4185.41,1636.97 4332.01,1747.08 4478.61,1857.19 4625.21,1946.66 \"/>\n",
       "<polyline clip-path=\"url(#clip232)\" style=\"stroke:#608cf6; stroke-linecap:round; stroke-linejoin:round; stroke-width:4; stroke-opacity:1; fill:none\" points=\"373.788,1485.57 520.389,1609.44 666.99,1815.9 813.591,1919.13 960.192,1141.47 1106.79,1258.46 1253.39,1464.92 1399.99,1554.39 1546.6,1698.91 1693.2,1843.43 1839.8,1981.07 1986.4,2111.82 2133,1141.47 2279.6,1265.35 2426.2,1382.34 2572.8,1499.33 2719.4,1719.55 2866,1822.78 3012.6,2001.71 3159.2,1141.47 3305.81,1320.4 3452.41,1423.63 3599.01,1554.39 3745.61,1740.2 3892.21,1898.48 4038.81,1987.95 4185.41,2146.23 4332.01,1141.47 4478.61,1299.76 4625.21,1396.1 \"/>\n",
       "<polyline clip-path=\"url(#clip232)\" style=\"stroke:#f05f73; stroke-linecap:round; stroke-linejoin:round; stroke-width:4; stroke-opacity:1; fill:none\" points=\"373.788,1485.57 520.389,1616.33 666.99,1733.32 813.591,1877.84 960.192,2008.6 1106.79,2166.88 1253.39,1141.47 1399.99,1265.35 1546.6,1347.93 1693.2,1478.69 1839.8,1575.03 1986.4,1705.79 2133,1829.67 2279.6,1919.13 2426.2,2084.3 2572.8,1141.47 2719.4,1272.23 2866,1368.58 3012.6,1540.62 3159.2,1657.62 3305.81,1788.37 3452.41,1939.78 3599.01,1141.47 3745.61,1285.99 3892.21,1409.87 4038.81,1547.51 4185.41,1678.26 4332.01,1795.26 4478.61,1898.48 4625.21,2008.6 \"/>\n",
       "<polyline clip-path=\"url(#clip232)\" style=\"stroke:#dd64b5; stroke-linecap:round; stroke-linejoin:round; stroke-width:4; stroke-opacity:1; fill:none\" points=\"373.788,1485.57 520.389,1595.68 666.99,1678.26 813.591,1829.67 960.192,1141.47 1106.79,1258.46 1253.39,1416.75 1399.99,1554.39 1546.6,1685.14 1693.2,1857.19 1839.8,1141.47 1986.4,1285.99 2133,1423.63 2279.6,1513.1 2426.2,1588.8 2572.8,1740.2 2719.4,1877.84 2866,2001.71 3012.6,1141.47 3159.2,1196.53 3305.81,1292.87 3452.41,1471.8 3599.01,1623.21 3745.61,1719.55 3892.21,1843.43 4038.81,1987.95 4185.41,1141.47 4332.01,1285.99 4478.61,1437.4 4625.21,1533.74 \"/>\n",
       "<polyline clip-path=\"url(#clip232)\" style=\"stroke:#6b9e32; stroke-linecap:round; stroke-linejoin:round; stroke-width:4; stroke-opacity:1; fill:none\" points=\"373.788,1485.57 520.389,1657.62 666.99,1753.96 813.591,1953.54 960.192,2104.94 1106.79,1141.47 1253.39,1258.46 1399.99,1334.17 1546.6,1458.04 1693.2,1595.68 1839.8,1726.44 1986.4,1870.96 2133,1141.47 2279.6,1258.46 2426.2,1389.22 2572.8,1568.15 2719.4,1705.79 2866,1822.78 3012.6,1946.66 3159.2,1141.47 3305.81,1320.4 3452.41,1444.28 3599.01,1554.39 3745.61,1705.79 3892.21,1795.26 4038.81,1953.54 4185.41,1141.47 4332.01,1244.7 4478.61,1375.46 4625.21,1540.62 \"/>\n",
       "<polyline clip-path=\"url(#clip232)\" style=\"stroke:#009af9; stroke-linecap:round; stroke-linejoin:round; stroke-width:4; stroke-opacity:1; fill:none\" points=\"373.788,1485.57 520.389,1602.56 666.99,1795.26 813.591,1891.6 960.192,1141.47 1106.79,1251.58 1253.39,1402.99 1399.99,1519.98 1546.6,1602.56 1693.2,1698.91 1839.8,1843.43 1986.4,1141.47 2133,1347.93 2279.6,1540.62 2426.2,1664.5 2572.8,1767.73 2719.4,1946.66 2866,2049.89 3012.6,1141.47 3159.2,1320.4 3305.81,1478.69 3452.41,1595.68 3599.01,1685.14 3745.61,1829.67 3892.21,1960.42 4038.81,2166.88 4185.41,1141.47 4332.01,1272.23 4478.61,1416.75 4625.21,1623.21 \"/>\n",
       "<polyline clip-path=\"url(#clip232)\" style=\"stroke:#e26f46; stroke-linecap:round; stroke-linejoin:round; stroke-width:4; stroke-opacity:1; fill:none\" points=\"373.788,1485.57 520.389,1643.85 666.99,1753.96 813.591,1850.31 960.192,1953.54 1106.79,1141.47 1253.39,1230.94 1399.99,1402.99 1546.6,1492.45 1693.2,1643.85 1839.8,1767.73 1986.4,1953.54 2133,2029.24 2279.6,1141.47 2426.2,1320.4 2572.8,1540.62 2719.4,1712.67 2866,1877.84 3012.6,1141.47 3159.2,1292.87 3305.81,1451.16 3452.41,1588.8 3599.01,1733.32 3745.61,1864.08 3892.21,2001.71 4038.81,2132.47 4185.41,2173.76 4332.01,1141.47 4478.61,1258.46 4625.21,1354.81 \"/>\n",
       "<polyline clip-path=\"url(#clip232)\" style=\"stroke:#3da44d; stroke-linecap:round; stroke-linejoin:round; stroke-width:4; stroke-opacity:1; fill:none\" points=\"373.788,1485.57 520.389,1623.21 666.99,1767.73 813.591,1939.78 960.192,2091.18 1106.79,1141.47 1253.39,1334.17 1399.99,1444.28 1546.6,1554.39 1693.2,1671.38 1839.8,1795.26 1986.4,1905.37 2133,2022.36 2279.6,1141.47 2426.2,1237.82 2572.8,1375.46 2719.4,1485.57 2866,1609.44 3012.6,1747.08 3159.2,1946.66 3305.81,2077.42 3452.41,1141.47 3599.01,1279.11 3745.61,1402.99 3892.21,1519.98 4038.81,1650.74 4185.41,1822.78 4332.01,1974.19 4478.61,1141.47 4625.21,1285.99 \"/>\n",
       "<polyline clip-path=\"url(#clip232)\" style=\"stroke:#c271d2; stroke-linecap:round; stroke-linejoin:round; stroke-width:4; stroke-opacity:1; fill:none\" points=\"373.788,1485.57 520.389,1561.27 666.99,1692.03 813.591,1822.78 960.192,1987.95 1106.79,1141.47 1253.39,1272.23 1399.99,1444.28 1546.6,1533.74 1693.2,1657.62 1839.8,1802.14 1986.4,1939.78 2133,1141.47 2279.6,1258.46 2426.2,1375.46 2572.8,1526.86 2719.4,1692.03 2866,1843.43 3012.6,1932.89 3159.2,2070.53 3305.81,1141.47 3452.41,1313.52 3599.01,1458.04 3745.61,1533.74 3892.21,1657.62 4038.81,1815.9 4185.41,1905.37 4332.01,1141.47 4478.61,1347.93 4625.21,1499.33 \"/>\n",
       "<polyline clip-path=\"url(#clip232)\" style=\"stroke:#ac8d18; stroke-linecap:round; stroke-linejoin:round; stroke-width:4; stroke-opacity:1; fill:none\" points=\"373.788,1485.57 520.389,1581.92 666.99,1733.32 813.591,1884.72 960.192,2036.12 1106.79,2153.12 1253.39,2173.76 1399.99,1141.47 1546.6,1258.46 1693.2,1382.34 1839.8,1547.51 1986.4,1650.74 2133,1781.49 2279.6,1898.48 2426.2,2049.89 2572.8,1141.47 2719.4,1265.35 2866,1444.28 3012.6,1595.68 3159.2,1760.85 3305.81,1857.19 3452.41,1939.78 3599.01,1141.47 3745.61,1224.06 3892.21,1444.28 4038.81,1581.92 4185.41,1678.26 4332.01,1850.31 4478.61,1960.42 4625.21,2098.06 \"/>\n",
       "<polyline clip-path=\"url(#clip232)\" style=\"stroke:#00a9ad; stroke-linecap:round; stroke-linejoin:round; stroke-width:4; stroke-opacity:1; fill:none\" points=\"373.788,1485.57 520.389,1636.97 666.99,1788.37 813.591,1919.13 960.192,2091.18 1106.79,2173.76 1253.39,1141.47 1399.99,1272.23 1546.6,1430.51 1693.2,1561.27 1839.8,1671.38 1986.4,1774.61 2133,1967.3 2279.6,2091.18 2426.2,1141.47 2572.8,1265.35 2719.4,1375.46 2866,1540.62 3012.6,1657.62 3159.2,1767.73 3305.81,1919.13 3452.41,2049.89 3599.01,2173.76 3745.61,1141.47 3892.21,1251.58 4038.81,1375.46 4185.41,1478.69 4332.01,1609.44 4478.61,1760.85 4625.21,1953.54 \"/>\n",
       "<polyline clip-path=\"url(#clip232)\" style=\"stroke:#ed5d92; stroke-linecap:round; stroke-linejoin:round; stroke-width:4; stroke-opacity:1; fill:none\" points=\"373.788,1485.57 520.389,1609.44 666.99,1747.08 813.591,1877.84 960.192,797.375 1106.79,983.187 1253.39,1079.53 1399.99,1285.99 1546.6,1396.1 1693.2,1533.74 1839.8,1602.56 1986.4,1760.85 2133,1926.01 2279.6,797.375 2426.2,935.014 2572.8,1058.89 2719.4,1196.53 2866,1285.99 3012.6,1430.51 3159.2,1623.21 3305.81,1747.08 3452.41,1850.31 3599.01,1960.42 3745.61,2049.89 3892.21,2160 4038.81,2173.76 4185.41,2173.76 4332.01,2173.76 4478.61,797.375 4625.21,879.958 \"/>\n",
       "<polyline clip-path=\"url(#clip232)\" style=\"stroke:#c68125; stroke-linecap:round; stroke-linejoin:round; stroke-width:4; stroke-opacity:1; fill:none\" points=\"373.788,1485.57 520.389,1643.85 666.99,1795.26 813.591,1919.13 960.192,2043.01 1106.79,797.375 1253.39,962.542 1399.99,1134.59 1546.6,1244.7 1693.2,1361.69 1839.8,1492.45 1986.4,1664.5 2133,1774.61 2279.6,1919.13 2426.2,797.375 2572.8,948.778 2719.4,1100.18 2866,1237.82 3012.6,1409.87 3159.2,1547.51 3305.81,1650.74 3452.41,1788.37 3599.01,1926.01 3745.61,2036.12 3892.21,797.375 4038.81,969.424 4185.41,1093.3 4332.01,1347.93 4478.61,1492.45 4625.21,1602.56 \"/>\n",
       "<polyline clip-path=\"url(#clip232)\" style=\"stroke:#00a98d; stroke-linecap:round; stroke-linejoin:round; stroke-width:4; stroke-opacity:1; fill:none\" points=\"373.788,1485.57 520.389,1650.74 666.99,1795.26 813.591,1946.66 960.192,797.375 1106.79,914.368 1253.39,1079.53 1399.99,1258.46 1546.6,1354.81 1693.2,1471.8 1839.8,1616.33 1986.4,1788.37 2133,1946.66 2279.6,797.375 2426.2,935.014 2572.8,1038.24 2719.4,1217.17 2866,1327.28 3012.6,1444.28 3159.2,1575.03 3305.81,1685.14 3452.41,1829.67 3599.01,1974.19 3745.61,2118.71 3892.21,797.375 4038.81,941.896 4185.41,1072.65 4332.01,1230.94 4478.61,1382.34 4625.21,1554.39 \"/>\n",
       "<polyline clip-path=\"url(#clip232)\" style=\"stroke:#8e971d; stroke-linecap:round; stroke-linejoin:round; stroke-width:4; stroke-opacity:1; fill:none\" points=\"373.788,1485.57 520.389,1623.21 666.99,1774.61 813.591,1884.72 960.192,2001.71 1106.79,2125.59 1253.39,797.375 1399.99,928.132 1546.6,1003.83 1693.2,1127.71 1839.8,1279.11 1986.4,1402.99 2133,1533.74 2279.6,1678.26 2426.2,1753.96 2572.8,1870.96 2719.4,1994.83 2866,797.375 3012.6,928.132 3159.2,1052.01 3305.81,1224.06 3452.41,1347.93 3599.01,1464.92 3745.61,1595.68 3892.21,1753.96 4038.81,1905.37 4185.41,797.375 4332.01,1010.72 4478.61,1127.71 4625.21,1279.11 \"/>\n",
       "<polyline clip-path=\"url(#clip232)\" style=\"stroke:#00a8cb; stroke-linecap:round; stroke-linejoin:round; stroke-width:4; stroke-opacity:1; fill:none\" points=\"373.788,1485.57 520.389,1657.62 666.99,1802.14 813.591,1919.13 960.192,2015.48 1106.79,2173.76 1253.39,2173.76 1399.99,2173.76 1546.6,797.375 1693.2,900.604 1839.8,1017.6 1986.4,1182.76 2133,1327.28 2279.6,1430.51 2426.2,1616.33 2572.8,1719.55 2719.4,1843.43 2866,1994.83 3012.6,797.375 3159.2,879.958 3305.81,955.66 3452.41,1107.06 3599.01,1237.82 3745.61,1361.69 3892.21,1478.69 4038.81,1616.33 4185.41,1788.37 4332.01,1960.42 4478.61,2111.82 4625.21,797.375 \"/>\n",
       "<polyline clip-path=\"url(#clip232)\" style=\"stroke:#9b7fe8; stroke-linecap:round; stroke-linejoin:round; stroke-width:4; stroke-opacity:1; fill:none\" points=\"373.788,1485.57 520.389,1609.44 666.99,1726.44 813.591,1877.84 960.192,1994.83 1106.79,2139.35 1253.39,2173.76 1399.99,797.375 1546.6,914.368 1693.2,1086.42 1839.8,1265.35 1986.4,1423.63 2133,1547.51 2279.6,1712.67 2426.2,1877.84 2572.8,797.375 2719.4,921.25 2866,1031.36 3012.6,1182.76 3159.2,1327.28 3305.81,1430.51 3452.41,1588.8 3599.01,1747.08 3745.61,1898.48 3892.21,1981.07 4038.81,2153.12 4185.41,2173.76 4332.01,797.375 4478.61,948.778 4625.21,1072.65 \"/>\n",
       "<polyline clip-path=\"url(#clip232)\" style=\"stroke:#608cf6; stroke-linecap:round; stroke-linejoin:round; stroke-width:4; stroke-opacity:1; fill:none\" points=\"373.788,1485.57 520.389,1657.62 666.99,1753.96 813.591,1946.66 960.192,2063.65 1106.79,2173.76 1253.39,2173.76 1399.99,797.375 1546.6,900.604 1693.2,1038.24 1839.8,1182.76 1986.4,1313.52 2133,1423.63 2279.6,1526.86 2426.2,1664.5 2572.8,1740.2 2719.4,1864.08 2866,797.375 3012.6,900.604 3159.2,1072.65 3305.81,1210.29 3452.41,1382.34 3599.01,1540.62 3745.61,1678.26 3892.21,1795.26 4038.81,1912.25 4185.41,797.375 4332.01,948.778 4478.61,1141.47 4625.21,1320.4 \"/>\n",
       "<polyline clip-path=\"url(#clip232)\" style=\"stroke:#f05f73; stroke-linecap:round; stroke-linejoin:round; stroke-width:4; stroke-opacity:1; fill:none\" points=\"373.788,1485.57 520.389,1623.21 666.99,1753.96 813.591,1926.01 960.192,2084.3 1106.79,2173.76 1253.39,797.375 1399.99,990.069 1546.6,1079.53 1693.2,1210.29 1839.8,1361.69 1986.4,1513.1 2133,1643.85 2279.6,1802.14 2426.2,1974.19 2572.8,797.375 2719.4,928.132 2866,1086.42 3012.6,1203.41 3159.2,1306.64 3305.81,1471.8 3452.41,1671.38 3599.01,1802.14 3745.61,1926.01 3892.21,2043.01 4038.81,2173.76 4185.41,797.375 4332.01,893.722 4478.61,1045.12 4625.21,1189.65 \"/>\n",
       "<polyline clip-path=\"url(#clip232)\" style=\"stroke:#dd64b5; stroke-linecap:round; stroke-linejoin:round; stroke-width:4; stroke-opacity:1; fill:none\" points=\"373.788,1485.57 520.389,1636.97 666.99,1740.2 813.591,1898.48 960.192,1960.42 1106.79,2111.82 1253.39,797.375 1399.99,921.25 1546.6,1017.6 1693.2,1182.76 1839.8,1341.05 1986.4,1492.45 2133,1581.92 2279.6,1726.44 2426.2,1843.43 2572.8,1994.83 2719.4,2125.59 2866,2173.76 3012.6,797.375 3159.2,1003.83 3305.81,1134.59 3452.41,1299.76 3599.01,1409.87 3745.61,1554.39 3892.21,1698.91 4038.81,1905.37 4185.41,797.375 4332.01,941.896 4478.61,1086.42 4625.21,1217.17 \"/>\n",
       "<polyline clip-path=\"url(#clip232)\" style=\"stroke:#6b9e32; stroke-linecap:round; stroke-linejoin:round; stroke-width:4; stroke-opacity:1; fill:none\" points=\"373.788,1485.57 520.389,1664.5 666.99,1781.49 813.591,1946.66 960.192,2111.82 1106.79,797.375 1253.39,948.778 1399.99,1107.06 1546.6,1251.58 1693.2,1416.75 1839.8,1540.62 1986.4,1678.26 2133,1767.73 2279.6,1926.01 2426.2,797.375 2572.8,928.132 2719.4,1113.94 2866,1292.87 3012.6,1416.75 3159.2,1568.15 3305.81,1733.32 3452.41,1857.19 3599.01,2015.48 3745.61,797.375 3892.21,962.542 4038.81,1113.94 4185.41,1244.7 4332.01,1402.99 4478.61,1588.8 4625.21,1698.91 \"/>\n",
       "<polyline clip-path=\"url(#clip232)\" style=\"stroke:#009af9; stroke-linecap:round; stroke-linejoin:round; stroke-width:4; stroke-opacity:1; fill:none\" points=\"373.788,1485.57 520.389,1595.68 666.99,1753.96 813.591,1912.25 960.192,453.278 1106.79,570.271 1253.39,728.556 1399.99,873.076 1546.6,1058.89 1693.2,1217.17 1839.8,1354.81 1986.4,1499.33 2133,1643.85 2279.6,1815.9 2426.2,1919.13 2572.8,2063.65 2719.4,453.278 2866,590.917 3012.6,783.611 3159.2,886.84 3305.81,1079.53 3452.41,1230.94 3599.01,1368.58 3745.61,1519.98 3892.21,1636.97 4038.81,1822.78 4185.41,2015.48 4332.01,2139.35 4478.61,453.278 4625.21,604.681 \"/>\n",
       "<polyline clip-path=\"url(#clip232)\" style=\"stroke:#e26f46; stroke-linecap:round; stroke-linejoin:round; stroke-width:4; stroke-opacity:1; fill:none\" points=\"373.788,1485.57 520.389,1657.62 666.99,1767.73 813.591,1926.01 960.192,2063.65 1106.79,2173.76 1253.39,453.278 1399.99,597.799 1546.6,769.847 1693.2,948.778 1839.8,1120.83 1986.4,1258.46 2133,1382.34 2279.6,1506.21 2426.2,1657.62 2572.8,1815.9 2719.4,1939.78 2866,453.278 3012.6,597.799 3159.2,680.382 3305.81,831.785 3452.41,1017.6 3599.01,1169 3745.61,1299.76 3892.21,1430.51 4038.81,1650.74 4185.41,1781.49 4332.01,1939.78 4478.61,453.278 4625.21,645.973 \"/>\n",
       "<polyline clip-path=\"url(#clip232)\" style=\"stroke:#3da44d; stroke-linecap:round; stroke-linejoin:round; stroke-width:4; stroke-opacity:1; fill:none\" points=\"373.788,1485.57 520.389,1595.68 666.99,1767.73 813.591,1939.78 960.192,2056.77 1106.79,453.278 1253.39,563.389 1399.99,742.32 1546.6,859.313 1693.2,990.069 1839.8,1107.06 1986.4,1272.23 2133,1402.99 2279.6,1513.1 2426.2,1685.14 2572.8,1815.9 2719.4,453.278 2866,542.744 3012.6,673.5 3159.2,776.729 3305.81,900.604 3452.41,1058.89 3599.01,1196.53 3745.61,1334.17 3892.21,1471.8 4038.81,1609.44 4185.41,1795.26 4332.01,1926.01 4478.61,453.278 4625.21,556.507 \"/>\n",
       "<polyline clip-path=\"url(#clip232)\" style=\"stroke:#c271d2; stroke-linecap:round; stroke-linejoin:round; stroke-width:4; stroke-opacity:1; fill:none\" points=\"373.788,1485.57 520.389,1616.33 666.99,1802.14 813.591,1919.13 960.192,453.278 1106.79,556.507 1253.39,783.611 1399.99,928.132 1546.6,1031.36 1693.2,1217.17 1839.8,1334.17 1986.4,1451.16 2133,1547.51 2279.6,1705.79 2426.2,1788.37 2572.8,1981.07 2719.4,453.278 2866,625.327 3012.6,804.257 3159.2,1003.83 3305.81,1141.47 3452.41,1230.94 3599.01,1396.1 3745.61,1526.86 3892.21,1636.97 4038.81,1753.96 4185.41,1857.19 4332.01,1981.07 4478.61,453.278 4625.21,632.209 \"/>\n",
       "<polyline clip-path=\"url(#clip232)\" style=\"stroke:#ac8d18; stroke-linecap:round; stroke-linejoin:round; stroke-width:4; stroke-opacity:1; fill:none\" points=\"373.788,1485.57 520.389,1643.85 666.99,1795.26 813.591,1939.78 960.192,453.278 1106.79,611.563 1253.39,728.556 1399.99,879.958 1546.6,996.951 1693.2,1155.24 1839.8,1258.46 1986.4,1382.34 2133,1547.51 2279.6,1733.32 2426.2,1884.72 2572.8,2022.36 2719.4,2104.94 2866,2173.76 3012.6,2173.76 3159.2,453.278 3305.81,618.445 3452.41,762.965 3599.01,907.486 3745.61,1003.83 3892.21,1141.47 4038.81,1258.46 4185.41,1402.99 4332.01,1506.21 4478.61,1664.5 4625.21,1850.31 \"/>\n",
       "<polyline clip-path=\"url(#clip232)\" style=\"stroke:#00a9ad; stroke-linecap:round; stroke-linejoin:round; stroke-width:4; stroke-opacity:1; fill:none\" points=\"373.788,1485.57 520.389,1671.38 666.99,1767.73 813.591,1891.6 960.192,2022.36 1106.79,2173.76 1253.39,453.278 1399.99,625.327 1546.6,804.257 1693.2,893.722 1839.8,1031.36 1986.4,1196.53 2133,1396.1 2279.6,1554.39 2426.2,1664.5 2572.8,1781.49 2719.4,1877.84 2866,2015.48 3012.6,2139.35 3159.2,453.278 3305.81,590.917 3452.41,728.556 3599.01,907.486 3745.61,1038.24 3892.21,1182.76 4038.81,1292.87 4185.41,1458.04 4332.01,1636.97 4478.61,1774.61 4625.21,1898.48 \"/>\n",
       "<polyline clip-path=\"url(#clip232)\" style=\"stroke:#ed5d92; stroke-linecap:round; stroke-linejoin:round; stroke-width:4; stroke-opacity:1; fill:none\" points=\"373.788,1485.57 520.389,1630.09 666.99,1753.96 813.591,1829.67 960.192,1960.42 1106.79,453.278 1253.39,584.035 1399.99,728.556 1546.6,900.604 1693.2,1079.53 1839.8,1224.06 1986.4,1341.05 2133,1458.04 2279.6,1609.44 2426.2,1726.44 2572.8,1836.55 2719.4,2001.71 2866,2146.23 3012.6,453.278 3159.2,577.153 3305.81,735.438 3452.41,886.84 3599.01,1031.36 3745.61,1155.24 3892.21,1244.7 4038.81,1389.22 4185.41,1506.21 4332.01,1602.56 4478.61,1747.08 4625.21,1870.96 \"/>\n",
       "<polyline clip-path=\"url(#clip232)\" style=\"stroke:#c68125; stroke-linecap:round; stroke-linejoin:round; stroke-width:4; stroke-opacity:1; fill:none\" points=\"373.788,1485.57 520.389,1595.68 666.99,1719.55 813.591,1877.84 960.192,453.278 1106.79,528.98 1253.39,687.264 1399.99,824.903 1546.6,983.187 1693.2,1100.18 1839.8,1196.53 1986.4,1313.52 2133,1478.69 2279.6,1630.09 2426.2,1829.67 2572.8,1981.07 2719.4,2098.06 2866,453.278 3012.6,590.917 3159.2,742.32 3305.81,886.84 3452.41,1058.89 3599.01,1175.88 3745.61,1292.87 3892.21,1444.28 4038.81,1616.33 4185.41,1760.85 4332.01,1822.78 4478.61,1919.13 4625.21,453.278 \"/>\n",
       "<polyline clip-path=\"url(#clip232)\" style=\"stroke:#00a98d; stroke-linecap:round; stroke-linejoin:round; stroke-width:4; stroke-opacity:1; fill:none\" points=\"373.788,1485.57 520.389,1664.5 666.99,1788.37 813.591,1877.84 960.192,1953.54 1106.79,453.278 1253.39,549.625 1399.99,687.264 1546.6,845.549 1693.2,996.951 1839.8,1134.59 1986.4,1251.58 2133,1361.69 2279.6,1540.62 2426.2,1636.97 2572.8,1781.49 2719.4,1974.19 2866,453.278 3012.6,570.271 3159.2,714.792 3305.81,824.903 3452.41,935.014 3599.01,1058.89 3745.61,1203.41 3892.21,1272.23 4038.81,1416.75 4185.41,1540.62 4332.01,1678.26 4478.61,1802.14 4625.21,1912.25 \"/>\n",
       "<polyline clip-path=\"url(#clip232)\" style=\"stroke:#8e971d; stroke-linecap:round; stroke-linejoin:round; stroke-width:4; stroke-opacity:1; fill:none\" points=\"373.788,1485.57 520.389,1623.21 666.99,1767.73 813.591,1891.6 960.192,453.278 1106.79,611.563 1253.39,728.556 1399.99,886.84 1546.6,1052.01 1693.2,1134.59 1839.8,1327.28 1986.4,1533.74 2133,1705.79 2279.6,1815.9 2426.2,1994.83 2572.8,2160 2719.4,453.278 2866,652.854 3012.6,831.785 3159.2,948.778 3305.81,1100.18 3452.41,1320.4 3599.01,1540.62 3745.61,1678.26 3892.21,1829.67 4038.81,1987.95 4185.41,2153.12 4332.01,2173.76 4478.61,453.278 4625.21,590.917 \"/>\n",
       "<polyline clip-path=\"url(#clip232)\" style=\"stroke:#00a8cb; stroke-linecap:round; stroke-linejoin:round; stroke-width:4; stroke-opacity:1; fill:none\" points=\"373.788,1485.57 520.389,1630.09 666.99,1753.96 813.591,1919.13 960.192,109.182 1106.79,233.056 1253.39,405.105 1399.99,515.216 1546.6,611.563 1693.2,694.146 1839.8,811.139 1986.4,962.542 2133,1120.83 2279.6,1306.64 2426.2,1416.75 2572.8,1588.8 2719.4,1698.91 2866,1822.78 3012.6,1926.01 3159.2,109.182 3305.81,239.938 3452.41,411.987 3599.01,535.862 3745.61,611.563 3892.21,790.493 4038.81,941.896 4185.41,1141.47 4332.01,1210.29 4478.61,1368.58 4625.21,1533.74 \"/>\n",
       "<polyline clip-path=\"url(#clip232)\" style=\"stroke:#9b7fe8; stroke-linecap:round; stroke-linejoin:round; stroke-width:4; stroke-opacity:1; fill:none\" points=\"373.788,1485.57 520.389,1636.97 666.99,1753.96 813.591,1864.08 960.192,2022.36 1106.79,2173.76 1253.39,109.182 1399.99,267.466 1546.6,398.223 1693.2,535.862 1839.8,673.5 1986.4,804.257 2133,921.25 2279.6,1079.53 2426.2,1189.65 2572.8,1299.76 2719.4,1437.4 2866,1643.85 3012.6,1760.85 3159.2,1974.19 3305.81,2056.77 3452.41,109.182 3599.01,274.348 3745.61,439.514 3892.21,542.744 4038.81,680.382 4185.41,838.667 4332.01,948.778 4478.61,1079.53 4625.21,1217.17 \"/>\n",
       "<polyline clip-path=\"url(#clip232)\" style=\"stroke:#608cf6; stroke-linecap:round; stroke-linejoin:round; stroke-width:4; stroke-opacity:1; fill:none\" points=\"373.788,1485.57 520.389,1595.68 666.99,1705.79 813.591,1877.84 960.192,1953.54 1106.79,2084.3 1253.39,109.182 1399.99,308.758 1546.6,467.042 1693.2,570.271 1839.8,639.091 1986.4,783.611 2133,886.84 2279.6,1010.72 2426.2,1169 2572.8,1327.28 2719.4,1458.04 2866,1616.33 3012.6,1767.73 3159.2,1926.01 3305.81,2070.53 3452.41,2173.76 3599.01,109.182 3745.61,294.994 3892.21,418.869 4038.81,611.563 4185.41,804.257 4332.01,990.069 4478.61,1134.59 4625.21,1272.23 \"/>\n",
       "<polyline clip-path=\"url(#clip232)\" style=\"stroke:#f05f73; stroke-linecap:round; stroke-linejoin:round; stroke-width:4; stroke-opacity:1; fill:none\" points=\"373.788,1485.57 520.389,1616.33 666.99,1712.67 813.591,1836.55 960.192,1939.78 1106.79,109.182 1253.39,178.001 1399.99,294.994 1546.6,432.633 1693.2,549.625 1839.8,742.32 1986.4,818.021 2133,928.132 2279.6,1079.53 2426.2,1189.65 2572.8,1327.28 2719.4,1471.8 2866,1602.56 3012.6,1767.73 3159.2,1905.37 3305.81,2084.3 3452.41,2173.76 3599.01,109.182 3745.61,274.348 3892.21,384.459 4038.81,528.98 4185.41,666.618 4332.01,769.847 4478.61,886.84 4625.21,1031.36 \"/>\n",
       "<polyline clip-path=\"url(#clip232)\" style=\"stroke:#dd64b5; stroke-linecap:round; stroke-linejoin:round; stroke-width:4; stroke-opacity:1; fill:none\" points=\"373.788,1485.57 520.389,1650.74 666.99,1822.78 813.591,1946.66 960.192,109.182 1106.79,233.056 1253.39,363.813 1399.99,501.452 1546.6,632.209 1693.2,762.965 1839.8,948.778 1986.4,1052.01 2133,1189.65 2279.6,1327.28 2426.2,1430.51 2572.8,1575.03 2719.4,1760.85 2866,1857.19 3012.6,2043.01 3159.2,2173.76 3305.81,109.182 3452.41,239.938 3599.01,308.758 3745.61,425.751 3892.21,522.098 4038.81,639.091 4185.41,776.729 4332.01,900.604 4478.61,1031.36 4625.21,1224.06 \"/>\n",
       "<polyline clip-path=\"url(#clip232)\" style=\"stroke:#6b9e32; stroke-linecap:round; stroke-linejoin:round; stroke-width:4; stroke-opacity:1; fill:none\" points=\"373.788,1485.57 520.389,1609.44 666.99,1767.73 813.591,1939.78 960.192,109.182 1106.79,281.23 1253.39,453.278 1399.99,584.035 1546.6,721.674 1693.2,818.021 1839.8,948.778 1986.4,1065.77 2133,1230.94 2279.6,1375.46 2426.2,1464.92 2572.8,1588.8 2719.4,1698.91 2866,1864.08 3012.6,1987.95 3159.2,2132.47 3305.81,2173.76 3452.41,2173.76 3599.01,2173.76 3745.61,109.182 3892.21,212.411 4038.81,356.931 4185.41,508.334 4332.01,680.382 4478.61,818.021 4625.21,969.424 \"/>\n",
       "<polyline clip-path=\"url(#clip232)\" style=\"stroke:#009af9; stroke-linecap:round; stroke-linejoin:round; stroke-width:4; stroke-opacity:1; fill:none\" points=\"373.788,1485.57 520.389,1636.97 666.99,1788.37 813.591,2029.24 960.192,109.182 1106.79,260.584 1253.39,377.577 1399.99,549.625 1546.6,687.264 1693.2,811.139 1839.8,948.778 1986.4,1031.36 2133,1189.65 2279.6,1285.99 2426.2,1416.75 2572.8,1568.15 2719.4,1657.62 2866,1788.37 3012.6,1905.37 3159.2,109.182 3305.81,226.174 3452.41,398.223 3599.01,563.389 3745.61,728.556 3892.21,845.549 4038.81,948.778 4185.41,1107.06 4332.01,1230.94 4478.61,1334.17 4625.21,1499.33 \"/>\n",
       "<polyline clip-path=\"url(#clip232)\" style=\"stroke:#e26f46; stroke-linecap:round; stroke-linejoin:round; stroke-width:4; stroke-opacity:1; fill:none\" points=\"373.788,1485.57 520.389,1581.92 666.99,1712.67 813.591,1850.31 960.192,109.182 1106.79,191.765 1253.39,308.758 1399.99,446.396 1546.6,549.625 1693.2,694.146 1839.8,824.903 1986.4,983.187 2133,1079.53 2279.6,1182.76 2426.2,1361.69 2572.8,1499.33 2719.4,1650.74 2866,1802.14 3012.6,1926.01 3159.2,2098.06 3305.81,109.182 3452.41,253.702 3599.01,384.459 3745.61,535.862 3892.21,645.973 4038.81,783.611 4185.41,948.778 4332.01,1072.65 4478.61,1217.17 4625.21,1368.58 \"/>\n",
       "<polyline clip-path=\"url(#clip232)\" style=\"stroke:#3da44d; stroke-linecap:round; stroke-linejoin:round; stroke-width:4; stroke-opacity:1; fill:none\" points=\"373.788,1485.57 520.389,1636.97 666.99,1788.37 813.591,1953.54 960.192,2084.3 1106.79,2173.76 1253.39,2173.76 1399.99,109.182 1546.6,260.584 1693.2,398.223 1839.8,549.625 1986.4,694.146 2133,838.667 2279.6,1003.83 2426.2,1113.94 2572.8,1244.7 2719.4,1361.69 2866,1464.92 3012.6,1609.44 3159.2,1767.73 3305.81,1919.13 3452.41,109.182 3599.01,239.938 3745.61,377.577 3892.21,549.625 4038.81,756.084 4185.41,886.84 4332.01,1024.48 4478.61,1107.06 4625.21,1272.23 \"/>\n",
       "<polyline clip-path=\"url(#clip232)\" style=\"stroke:#c271d2; stroke-linecap:round; stroke-linejoin:round; stroke-width:4; stroke-opacity:1; fill:none\" points=\"373.788,1485.57 520.389,1636.97 666.99,1843.43 813.591,2029.24 960.192,109.182 1106.79,308.758 1253.39,391.341 1399.99,570.271 1546.6,680.382 1693.2,831.785 1839.8,941.896 1986.4,1107.06 2133,1237.82 2279.6,1430.51 2426.2,1513.1 2572.8,1698.91 2719.4,1802.14 2866,1953.54 3012.6,2111.82 3159.2,2173.76 3305.81,2173.76 3452.41,2173.76 3599.01,2173.76 3745.61,109.182 3892.21,281.23 4038.81,439.514 4185.41,625.327 4332.01,790.493 4478.61,928.132 4625.21,1058.89 \"/>\n",
       "<polyline clip-path=\"url(#clip232)\" style=\"stroke:#ac8d18; stroke-linecap:round; stroke-linejoin:round; stroke-width:4; stroke-opacity:1; fill:none\" points=\"373.788,1485.57 520.389,1623.21 666.99,1705.79 813.591,1795.26 960.192,1919.13 1106.79,1485.57 1253.39,1588.8 1399.99,1671.38 1546.6,1733.32 1693.2,1877.84 1839.8,2015.48 1986.4,1485.57 2133,1609.44 2279.6,1753.96 2426.2,1898.48 2572.8,1485.57 2719.4,1616.33 2866,1740.2 3012.6,1857.19 3159.2,2029.24 3305.81,1485.57 3452.41,1664.5 3599.01,1781.49 3745.61,1926.01 3892.21,1485.57 4038.81,1609.44 4185.41,1747.08 4332.01,1864.08 4478.61,1485.57 4625.21,1595.68 \"/>\n",
       "<polyline clip-path=\"url(#clip232)\" style=\"stroke:#00a9ad; stroke-linecap:round; stroke-linejoin:round; stroke-width:4; stroke-opacity:1; fill:none\" points=\"373.788,1485.57 520.389,1650.74 666.99,1802.14 813.591,1884.72 960.192,1485.57 1106.79,1623.21 1253.39,1767.73 1399.99,1960.42 1546.6,2077.42 1693.2,2173.76 1839.8,2173.76 1986.4,2173.76 2133,2173.76 2279.6,2173.76 2426.2,1485.57 2572.8,1609.44 2719.4,1753.96 2866,1864.08 3012.6,1485.57 3159.2,1636.97 3305.81,1753.96 3452.41,1870.96 3599.01,2015.48 3745.61,1485.57 3892.21,1616.33 4038.81,1692.03 4185.41,1795.26 4332.01,1987.95 4478.61,2077.42 4625.21,2173.76 \"/>\n",
       "<polyline clip-path=\"url(#clip232)\" style=\"stroke:#ed5d92; stroke-linecap:round; stroke-linejoin:round; stroke-width:4; stroke-opacity:1; fill:none\" points=\"373.788,1485.57 520.389,1671.38 666.99,1829.67 813.591,2008.6 960.192,1485.57 1106.79,1650.74 1253.39,1822.78 1399.99,1960.42 1546.6,1485.57 1693.2,1609.44 1839.8,1740.2 1986.4,1864.08 2133,1953.54 2279.6,1485.57 2426.2,1636.97 2572.8,1774.61 2719.4,1877.84 2866,1485.57 3012.6,1657.62 3159.2,1760.85 3305.81,1891.6 3452.41,1485.57 3599.01,1533.74 3745.61,1685.14 3892.21,1815.9 4038.81,1485.57 4185.41,1581.92 4332.01,1740.2 4478.61,1829.67 4625.21,1967.3 \"/>\n",
       "<polyline clip-path=\"url(#clip232)\" style=\"stroke:#c68125; stroke-linecap:round; stroke-linejoin:round; stroke-width:4; stroke-opacity:1; fill:none\" points=\"373.788,1485.57 520.389,1664.5 666.99,1822.78 813.591,1946.66 960.192,2118.71 1106.79,1485.57 1253.39,1678.26 1399.99,1802.14 1546.6,1912.25 1693.2,2146.23 1839.8,1485.57 1986.4,1650.74 2133,1815.9 2279.6,1939.78 2426.2,2029.24 2572.8,2139.35 2719.4,2173.76 2866,2173.76 3012.6,1485.57 3159.2,1595.68 3305.81,1712.67 3452.41,1829.67 3599.01,1946.66 3745.61,2098.06 3892.21,2173.76 4038.81,2173.76 4185.41,2173.76 4332.01,2173.76 4478.61,1485.57 4625.21,1609.44 \"/>\n",
       "<polyline clip-path=\"url(#clip232)\" style=\"stroke:#00a98d; stroke-linecap:round; stroke-linejoin:round; stroke-width:4; stroke-opacity:1; fill:none\" points=\"373.788,1485.57 520.389,1595.68 666.99,1740.2 813.591,1864.08 960.192,2022.36 1106.79,2153.12 1253.39,2173.76 1399.99,1485.57 1546.6,1602.56 1693.2,1774.61 1839.8,1912.25 1986.4,1485.57 2133,1609.44 2279.6,1747.08 2426.2,1850.31 2572.8,2008.6 2719.4,1485.57 2866,1630.09 3012.6,1726.44 3159.2,1967.3 3305.81,1485.57 3452.41,1650.74 3599.01,1795.26 3745.61,1939.78 3892.21,1485.57 4038.81,1643.85 4185.41,1781.49 4332.01,1919.13 4478.61,2077.42 4625.21,2173.76 \"/>\n",
       "<polyline clip-path=\"url(#clip232)\" style=\"stroke:#8e971d; stroke-linecap:round; stroke-linejoin:round; stroke-width:4; stroke-opacity:1; fill:none\" points=\"373.788,1485.57 520.389,1643.85 666.99,1774.61 813.591,1926.01 960.192,2070.53 1106.79,2173.76 1253.39,2173.76 1399.99,1485.57 1546.6,1616.33 1693.2,1692.03 1839.8,1795.26 1986.4,1905.37 2133,2091.18 2279.6,2153.12 2426.2,2173.76 2572.8,1485.57 2719.4,1588.8 2866,1705.79 3012.6,1836.55 3159.2,1960.42 3305.81,2125.59 3452.41,1485.57 3599.01,1609.44 3745.61,1740.2 3892.21,1857.19 4038.81,1981.07 4185.41,1485.57 4332.01,1602.56 4478.61,1774.61 4625.21,1919.13 \"/>\n",
       "<polyline clip-path=\"url(#clip232)\" style=\"stroke:#00a8cb; stroke-linecap:round; stroke-linejoin:round; stroke-width:4; stroke-opacity:1; fill:none\" points=\"373.788,1485.57 520.389,1595.68 666.99,1753.96 813.591,1884.72 960.192,1485.57 1106.79,1623.21 1253.39,1774.61 1399.99,1974.19 1546.6,1485.57 1693.2,1657.62 1839.8,1781.49 1986.4,1919.13 2133,1485.57 2279.6,1616.33 2426.2,1781.49 2572.8,1884.72 2719.4,2022.36 2866,1485.57 3012.6,1568.15 3159.2,1712.67 3305.81,1857.19 3452.41,2008.6 3599.01,1485.57 3745.61,1630.09 3892.21,1712.67 4038.81,1850.31 4185.41,2049.89 4332.01,1485.57 4478.61,1623.21 4625.21,1788.37 \"/>\n",
       "<polyline clip-path=\"url(#clip232)\" style=\"stroke:#9b7fe8; stroke-linecap:round; stroke-linejoin:round; stroke-width:4; stroke-opacity:1; fill:none\" points=\"373.788,1485.57 520.389,1588.8 666.99,1726.44 813.591,1919.13 960.192,1994.83 1106.79,1485.57 1253.39,1643.85 1399.99,1809.02 1546.6,1953.54 1693.2,2111.82 1839.8,2173.76 1986.4,2173.76 2133,2173.76 2279.6,2173.76 2426.2,2173.76 2572.8,2173.76 2719.4,1485.57 2866,1636.97 3012.6,1753.96 3159.2,1850.31 3305.81,2001.71 3452.41,2091.18 3599.01,2173.76 3745.61,1485.57 3892.21,1643.85 4038.81,1857.19 4185.41,1967.3 4332.01,2098.06 4478.61,2173.76 4625.21,1485.57 \"/>\n",
       "<polyline clip-path=\"url(#clip232)\" style=\"stroke:#608cf6; stroke-linecap:round; stroke-linejoin:round; stroke-width:4; stroke-opacity:1; fill:none\" points=\"373.788,1485.57 520.389,1630.09 666.99,1781.49 813.591,1926.01 960.192,2056.77 1106.79,2173.76 1253.39,1485.57 1399.99,1643.85 1546.6,1740.2 1693.2,1870.96 1839.8,1974.19 1986.4,1485.57 2133,1588.8 2279.6,1712.67 2426.2,1877.84 2572.8,2001.71 2719.4,1485.57 2866,1685.14 3012.6,1822.78 3159.2,1877.84 3305.81,1485.57 3452.41,1588.8 3599.01,1747.08 3745.61,1884.72 3892.21,1485.57 4038.81,1643.85 4185.41,1788.37 4332.01,1905.37 4478.61,2049.89 4625.21,2173.76 \"/>\n",
       "<polyline clip-path=\"url(#clip232)\" style=\"stroke:#f05f73; stroke-linecap:round; stroke-linejoin:round; stroke-width:4; stroke-opacity:1; fill:none\" points=\"373.788,1485.57 520.389,1609.44 666.99,1753.96 813.591,1877.84 960.192,1946.66 1106.79,2049.89 1253.39,1485.57 1399.99,1595.68 1546.6,1712.67 1693.2,1843.43 1839.8,1981.07 1986.4,2160 2133,2173.76 2279.6,1485.57 2426.2,1643.85 2572.8,1815.9 2719.4,1953.54 2866,1485.57 3012.6,1685.14 3159.2,1822.78 3305.81,1932.89 3452.41,2043.01 3599.01,1485.57 3745.61,1657.62 3892.21,1788.37 4038.81,1926.01 4185.41,1485.57 4332.01,1664.5 4478.61,1740.2 4625.21,1898.48 \"/>\n",
       "<polyline clip-path=\"url(#clip232)\" style=\"stroke:#dd64b5; stroke-linecap:round; stroke-linejoin:round; stroke-width:4; stroke-opacity:1; fill:none\" points=\"373.788,1485.57 520.389,1650.74 666.99,1822.78 813.591,1141.47 960.192,1237.82 1106.79,1347.93 1253.39,1519.98 1399.99,1636.97 1546.6,1809.02 1693.2,1912.25 1839.8,2056.77 1986.4,2173.76 2133,2173.76 2279.6,1141.47 2426.2,1320.4 2572.8,1423.63 2719.4,1540.62 2866,1705.79 3012.6,1767.73 3159.2,1912.25 3305.81,1141.47 3452.41,1327.28 3599.01,1464.92 3745.61,1609.44 3892.21,1753.96 4038.81,1884.72 4185.41,1141.47 4332.01,1279.11 4478.61,1451.16 4625.21,1602.56 \"/>\n",
       "<polyline clip-path=\"url(#clip232)\" style=\"stroke:#6b9e32; stroke-linecap:round; stroke-linejoin:round; stroke-width:4; stroke-opacity:1; fill:none\" points=\"373.788,1485.57 520.389,1609.44 666.99,1740.2 813.591,1870.96 960.192,2022.36 1106.79,2173.76 1253.39,1141.47 1399.99,1258.46 1546.6,1409.87 1693.2,1526.86 1839.8,1602.56 1986.4,1678.26 2133,1815.9 2279.6,1953.54 2426.2,2153.12 2572.8,2173.76 2719.4,2173.76 2866,1141.47 3012.6,1347.93 3159.2,1430.51 3305.81,1533.74 3452.41,1671.38 3599.01,1815.9 3745.61,1141.47 3892.21,1285.99 4038.81,1451.16 4185.41,1602.56 4332.01,1733.32 4478.61,1836.55 4625.21,1141.47 \"/>\n",
       "<polyline clip-path=\"url(#clip232)\" style=\"stroke:#009af9; stroke-linecap:round; stroke-linejoin:round; stroke-width:4; stroke-opacity:1; fill:none\" points=\"373.788,1485.57 520.389,1609.44 666.99,1747.08 813.591,1870.96 960.192,2001.71 1106.79,2146.23 1253.39,2173.76 1399.99,2173.76 1546.6,2173.76 1693.2,2173.76 1839.8,1141.47 1986.4,1285.99 2133,1416.75 2279.6,1533.74 2426.2,1705.79 2572.8,1802.14 2719.4,1946.66 2866,1141.47 3012.6,1272.23 3159.2,1361.69 3305.81,1464.92 3452.41,1664.5 3599.01,1781.49 3745.61,1905.37 3892.21,2063.65 4038.81,2173.76 4185.41,2173.76 4332.01,1141.47 4478.61,1244.7 4625.21,1416.75 \"/>\n",
       "<polyline clip-path=\"url(#clip232)\" style=\"stroke:#e26f46; stroke-linecap:round; stroke-linejoin:round; stroke-width:4; stroke-opacity:1; fill:none\" points=\"373.788,1485.57 520.389,1636.97 666.99,1733.32 813.591,1884.72 960.192,2022.36 1106.79,1141.47 1253.39,1258.46 1399.99,1382.34 1546.6,1519.98 1693.2,1671.38 1839.8,1843.43 1986.4,1141.47 2133,1244.7 2279.6,1347.93 2426.2,1458.04 2572.8,1581.92 2719.4,1726.44 2866,1877.84 3012.6,1141.47 3159.2,1279.11 3305.81,1471.8 3452.41,1588.8 3599.01,1712.67 3745.61,1795.26 3892.21,1905.37 4038.81,2056.77 4185.41,2173.76 4332.01,1141.47 4478.61,1265.35 4625.21,1375.46 \"/>\n",
       "<polyline clip-path=\"url(#clip232)\" style=\"stroke:#3da44d; stroke-linecap:round; stroke-linejoin:round; stroke-width:4; stroke-opacity:1; fill:none\" points=\"373.788,1485.57 520.389,1588.8 666.99,1747.08 813.591,1857.19 960.192,1939.78 1106.79,2070.53 1253.39,1141.47 1399.99,1265.35 1546.6,1375.46 1693.2,1533.74 1839.8,1747.08 1986.4,1877.84 2133,1141.47 2279.6,1272.23 2426.2,1464.92 2572.8,1581.92 2719.4,1719.55 2866,1809.02 3012.6,1960.42 3159.2,1141.47 3305.81,1285.99 3452.41,1396.1 3599.01,1526.86 3745.61,1650.74 3892.21,1822.78 4038.81,1967.3 4185.41,1141.47 4332.01,1285.99 4478.61,1437.4 4625.21,1568.15 \"/>\n",
       "<polyline clip-path=\"url(#clip232)\" style=\"stroke:#c271d2; stroke-linecap:round; stroke-linejoin:round; stroke-width:4; stroke-opacity:1; fill:none\" points=\"373.788,1485.57 520.389,1623.21 666.99,1795.26 813.591,1891.6 960.192,2008.6 1106.79,2132.47 1253.39,1141.47 1399.99,1279.11 1546.6,1382.34 1693.2,1492.45 1839.8,1602.56 1986.4,1698.91 2133,1829.67 2279.6,1960.42 2426.2,2084.3 2572.8,2173.76 2719.4,2173.76 2866,1141.47 3012.6,1265.35 3159.2,1416.75 3305.81,1561.27 3452.41,1698.91 3599.01,1843.43 3745.61,1974.19 3892.21,2077.42 4038.81,1141.47 4185.41,1265.35 4332.01,1320.4 4478.61,1437.4 4625.21,1561.27 \"/>\n",
       "<polyline clip-path=\"url(#clip232)\" style=\"stroke:#ac8d18; stroke-linecap:round; stroke-linejoin:round; stroke-width:4; stroke-opacity:1; fill:none\" points=\"373.788,1485.57 520.389,1616.33 666.99,1760.85 813.591,1912.25 960.192,1141.47 1106.79,1258.46 1253.39,1451.16 1399.99,1513.1 1546.6,1650.74 1693.2,1864.08 1839.8,1987.95 1986.4,2104.94 2133,2173.76 2279.6,2173.76 2426.2,2173.76 2572.8,1141.47 2719.4,1230.94 2866,1382.34 3012.6,1533.74 3159.2,1609.44 3305.81,1781.49 3452.41,1926.01 3599.01,2015.48 3745.61,2173.76 3892.21,1141.47 4038.81,1272.23 4185.41,1402.99 4332.01,1568.15 4478.61,1685.14 4625.21,1822.78 \"/>\n",
       "<polyline clip-path=\"url(#clip232)\" style=\"stroke:#00a9ad; stroke-linecap:round; stroke-linejoin:round; stroke-width:4; stroke-opacity:1; fill:none\" points=\"373.788,1485.57 520.389,1664.5 666.99,1850.31 813.591,1994.83 960.192,2173.76 1106.79,2173.76 1253.39,2173.76 1399.99,1141.47 1546.6,1272.23 1693.2,1416.75 1839.8,1581.92 1986.4,1733.32 2133,1843.43 2279.6,1981.07 2426.2,2118.71 2572.8,2173.76 2719.4,2173.76 2866,1141.47 3012.6,1299.76 3159.2,1402.99 3305.81,1581.92 3452.41,1705.79 3599.01,1822.78 3745.61,1141.47 3892.21,1292.87 4038.81,1416.75 4185.41,1588.8 4332.01,1747.08 4478.61,1884.72 4625.21,1141.47 \"/>\n",
       "<polyline clip-path=\"url(#clip232)\" style=\"stroke:#ed5d92; stroke-linecap:round; stroke-linejoin:round; stroke-width:4; stroke-opacity:1; fill:none\" points=\"373.788,1485.57 520.389,1630.09 666.99,1767.73 813.591,1926.01 960.192,2001.71 1106.79,1141.47 1253.39,1313.52 1399.99,1451.16 1546.6,1609.44 1693.2,1712.67 1839.8,1815.9 1986.4,1932.89 2133,2022.36 2279.6,2139.35 2426.2,2173.76 2572.8,2173.76 2719.4,1141.47 2866,1244.7 3012.6,1382.34 3159.2,1547.51 3305.81,1719.55 3452.41,1864.08 3599.01,2022.36 3745.61,1141.47 3892.21,1320.4 4038.81,1478.69 4185.41,1623.21 4332.01,1733.32 4478.61,1822.78 4625.21,1932.89 \"/>\n",
       "<polyline clip-path=\"url(#clip232)\" style=\"stroke:#c68125; stroke-linecap:round; stroke-linejoin:round; stroke-width:4; stroke-opacity:1; fill:none\" points=\"373.788,1485.57 520.389,1630.09 666.99,1760.85 813.591,1926.01 960.192,1141.47 1106.79,1292.87 1253.39,1471.8 1399.99,1623.21 1546.6,1760.85 1693.2,1905.37 1839.8,1141.47 1986.4,1285.99 2133,1389.22 2279.6,1533.74 2426.2,1712.67 2572.8,1877.84 2719.4,2015.48 2866,2146.23 3012.6,2173.76 3159.2,2173.76 3305.81,2173.76 3452.41,2173.76 3599.01,1141.47 3745.61,1341.05 3892.21,1451.16 4038.81,1657.62 4185.41,1767.73 4332.01,1864.08 4478.61,2029.24 4625.21,2118.71 \"/>\n",
       "<polyline clip-path=\"url(#clip232)\" style=\"stroke:#00a98d; stroke-linecap:round; stroke-linejoin:round; stroke-width:4; stroke-opacity:1; fill:none\" points=\"373.788,1485.57 520.389,1671.38 666.99,1884.72 813.591,2049.89 960.192,797.375 1106.79,969.424 1253.39,1120.83 1399.99,1285.99 1546.6,1437.4 1693.2,1526.86 1839.8,1630.09 1986.4,1767.73 2133,1953.54 2279.6,2084.3 2426.2,797.375 2572.8,914.368 2719.4,1107.06 2866,1189.65 3012.6,1334.17 3159.2,1437.4 3305.81,1609.44 3452.41,1815.9 3599.01,1926.01 3745.61,797.375 3892.21,921.25 4038.81,1017.6 4185.41,1148.35 4332.01,1313.52 4478.61,1423.63 4625.21,1554.39 \"/>\n",
       "<polyline clip-path=\"url(#clip232)\" style=\"stroke:#8e971d; stroke-linecap:round; stroke-linejoin:round; stroke-width:4; stroke-opacity:1; fill:none\" points=\"373.788,1485.57 520.389,1581.92 666.99,1685.14 813.591,1809.02 960.192,1898.48 1106.79,797.375 1253.39,900.604 1399.99,1079.53 1546.6,1258.46 1693.2,1382.34 1839.8,1478.69 1986.4,1602.56 2133,1712.67 2279.6,1829.67 2426.2,1967.3 2572.8,797.375 2719.4,921.25 2866,1045.12 3012.6,1169 3159.2,1292.87 3305.81,1485.57 3452.41,1616.33 3599.01,1726.44 3745.61,1802.14 3892.21,1864.08 4038.81,797.375 4185.41,955.66 4332.01,1093.3 4478.61,1258.46 4625.21,1389.22 \"/>\n",
       "<polyline clip-path=\"url(#clip232)\" style=\"stroke:#00a8cb; stroke-linecap:round; stroke-linejoin:round; stroke-width:4; stroke-opacity:1; fill:none\" points=\"373.788,1485.57 520.389,1568.15 666.99,1733.32 813.591,1905.37 960.192,2118.71 1106.79,2173.76 1253.39,797.375 1399.99,907.486 1546.6,996.951 1693.2,1113.94 1839.8,1251.58 1986.4,1451.16 2133,1602.56 2279.6,1760.85 2426.2,1884.72 2572.8,797.375 2719.4,955.66 2866,1086.42 3012.6,1224.06 3159.2,1368.58 3305.81,1506.21 3452.41,1643.85 3599.01,1760.85 3745.61,1932.89 3892.21,2070.53 4038.81,797.375 4185.41,941.896 4332.01,1079.53 4478.61,1189.65 4625.21,1327.28 \"/>\n",
       "<polyline clip-path=\"url(#clip232)\" style=\"stroke:#9b7fe8; stroke-linecap:round; stroke-linejoin:round; stroke-width:4; stroke-opacity:1; fill:none\" points=\"373.788,1485.57 520.389,1643.85 666.99,1747.08 813.591,1905.37 960.192,2077.42 1106.79,797.375 1253.39,990.069 1399.99,1086.42 1546.6,1251.58 1693.2,1409.87 1839.8,1588.8 1986.4,1733.32 2133,1843.43 2279.6,1974.19 2426.2,797.375 2572.8,900.604 2719.4,1065.77 2866,1210.29 3012.6,1299.76 3159.2,1396.1 3305.81,1478.69 3452.41,1623.21 3599.01,1719.55 3745.61,1932.89 3892.21,2036.12 4038.81,797.375 4185.41,866.195 4332.01,983.187 4478.61,1141.47 4625.21,1217.17 \"/>\n",
       "<polyline clip-path=\"url(#clip232)\" style=\"stroke:#608cf6; stroke-linecap:round; stroke-linejoin:round; stroke-width:4; stroke-opacity:1; fill:none\" points=\"373.788,1485.57 520.389,1568.15 666.99,1698.91 813.591,1857.19 960.192,797.375 1106.79,969.424 1253.39,1127.71 1399.99,1299.76 1546.6,1423.63 1693.2,1568.15 1839.8,1698.91 1986.4,1815.9 2133,797.375 2279.6,907.486 2426.2,1038.24 2572.8,1196.53 2719.4,1320.4 2866,1444.28 3012.6,1513.1 3159.2,1616.33 3305.81,1760.85 3452.41,1898.48 3599.01,2084.3 3745.61,2173.76 3892.21,797.375 4038.81,907.486 4185.41,1045.12 4332.01,1182.76 4478.61,1347.93 4625.21,1506.21 \"/>\n",
       "<polyline clip-path=\"url(#clip232)\" style=\"stroke:#f05f73; stroke-linecap:round; stroke-linejoin:round; stroke-width:4; stroke-opacity:1; fill:none\" points=\"373.788,1485.57 520.389,1664.5 666.99,1829.67 813.591,2036.12 960.192,2173.76 1106.79,797.375 1253.39,969.424 1399.99,1065.77 1546.6,1258.46 1693.2,1402.99 1839.8,1526.86 1986.4,1685.14 2133,1822.78 2279.6,1967.3 2426.2,797.375 2572.8,955.66 2719.4,1148.35 2866,1265.35 3012.6,1347.93 3159.2,1519.98 3305.81,1643.85 3452.41,1767.73 3599.01,1891.6 3745.61,797.375 3892.21,969.424 4038.81,1079.53 4185.41,1196.53 4332.01,1285.99 4478.61,1396.1 4625.21,1575.03 \"/>\n",
       "<polyline clip-path=\"url(#clip232)\" style=\"stroke:#dd64b5; stroke-linecap:round; stroke-linejoin:round; stroke-width:4; stroke-opacity:1; fill:none\" points=\"373.788,1485.57 520.389,1671.38 666.99,1815.9 813.591,797.375 960.192,941.896 1106.79,1079.53 1253.39,1210.29 1399.99,1306.64 1546.6,1458.04 1693.2,1595.68 1839.8,1774.61 1986.4,1870.96 2133,1987.95 2279.6,797.375 2426.2,941.896 2572.8,1038.24 2719.4,1217.17 2866,1347.93 3012.6,1458.04 3159.2,1595.68 3305.81,1774.61 3452.41,1974.19 3599.01,2063.65 3745.61,797.375 3892.21,983.187 4038.81,1100.18 4185.41,1203.41 4332.01,1361.69 4478.61,1499.33 4625.21,1630.09 \"/>\n",
       "<polyline clip-path=\"url(#clip232)\" style=\"stroke:#6b9e32; stroke-linecap:round; stroke-linejoin:round; stroke-width:4; stroke-opacity:1; fill:none\" points=\"373.788,1485.57 520.389,1643.85 666.99,1747.08 813.591,1877.84 960.192,1987.95 1106.79,797.375 1253.39,900.604 1399.99,1079.53 1546.6,1230.94 1693.2,1375.46 1839.8,1478.69 1986.4,1657.62 2133,1815.9 2279.6,1932.89 2426.2,2043.01 2572.8,2139.35 2719.4,797.375 2866,935.014 3012.6,1079.53 3159.2,1182.76 3305.81,1361.69 3452.41,1519.98 3599.01,1657.62 3745.61,1781.49 3892.21,1967.3 4038.81,2077.42 4185.41,2173.76 4332.01,2173.76 4478.61,2173.76 4625.21,797.375 \"/>\n",
       "<polyline clip-path=\"url(#clip232)\" style=\"stroke:#009af9; stroke-linecap:round; stroke-linejoin:round; stroke-width:4; stroke-opacity:1; fill:none\" points=\"373.788,1485.57 520.389,1650.74 666.99,1802.14 813.591,1946.66 960.192,797.375 1106.79,928.132 1253.39,1072.65 1399.99,1182.76 1546.6,1306.64 1693.2,1423.63 1839.8,1547.51 1986.4,1705.79 2133,1884.72 2279.6,797.375 2426.2,900.604 2572.8,1017.6 2719.4,1107.06 2866,1285.99 3012.6,1451.16 3159.2,1554.39 3305.81,1705.79 3452.41,1857.19 3599.01,797.375 3745.61,928.132 3892.21,1086.42 4038.81,1210.29 4185.41,1327.28 4332.01,1478.69 4478.61,1630.09 4625.21,1747.08 \"/>\n",
       "<polyline clip-path=\"url(#clip232)\" style=\"stroke:#e26f46; stroke-linecap:round; stroke-linejoin:round; stroke-width:4; stroke-opacity:1; fill:none\" points=\"373.788,1485.57 520.389,1609.44 666.99,1767.73 813.591,1905.37 960.192,797.375 1106.79,921.25 1253.39,1079.53 1399.99,1196.53 1546.6,1320.4 1693.2,1519.98 1839.8,1657.62 1986.4,1767.73 2133,1919.13 2279.6,2063.65 2426.2,797.375 2572.8,928.132 2719.4,1031.36 2866,1148.35 3012.6,1272.23 3159.2,1389.22 3305.81,1492.45 3452.41,1609.44 3599.01,1733.32 3745.61,1884.72 3892.21,2036.12 4038.81,2153.12 4185.41,797.375 4332.01,900.604 4478.61,1031.36 4625.21,1169 \"/>\n",
       "<polyline clip-path=\"url(#clip232)\" style=\"stroke:#3da44d; stroke-linecap:round; stroke-linejoin:round; stroke-width:4; stroke-opacity:1; fill:none\" points=\"373.788,1485.57 520.389,1602.56 666.99,1747.08 813.591,1850.31 960.192,1953.54 1106.79,453.278 1253.39,556.507 1399.99,701.028 1546.6,818.021 1693.2,969.424 1839.8,1107.06 1986.4,1230.94 2133,1375.46 2279.6,1533.74 2426.2,1664.5 2572.8,1795.26 2719.4,1946.66 2866,453.278 3012.6,590.917 3159.2,714.792 3305.81,900.604 3452.41,1003.83 3599.01,1141.47 3745.61,1285.99 3892.21,1409.87 4038.81,1588.8 4185.41,1678.26 4332.01,1822.78 4478.61,1946.66 4625.21,453.278 \"/>\n",
       "<polyline clip-path=\"url(#clip232)\" style=\"stroke:#c271d2; stroke-linecap:round; stroke-linejoin:round; stroke-width:4; stroke-opacity:1; fill:none\" points=\"373.788,1485.57 520.389,1643.85 666.99,1747.08 813.591,1898.48 960.192,2001.71 1106.79,2173.76 1253.39,453.278 1399.99,618.445 1546.6,783.611 1693.2,935.014 1839.8,1052.01 1986.4,1175.88 2133,1306.64 2279.6,1464.92 2426.2,1581.92 2572.8,1678.26 2719.4,1822.78 2866,1967.3 3012.6,2111.82 3159.2,2173.76 3305.81,453.278 3452.41,604.681 3599.01,728.556 3745.61,818.021 3892.21,928.132 4038.81,1065.77 4185.41,1162.12 4332.01,1313.52 4478.61,1451.16 4625.21,1581.92 \"/>\n",
       "<polyline clip-path=\"url(#clip232)\" style=\"stroke:#ac8d18; stroke-linecap:round; stroke-linejoin:round; stroke-width:4; stroke-opacity:1; fill:none\" points=\"373.788,1485.57 520.389,1685.14 666.99,1836.55 813.591,1967.3 960.192,453.278 1106.79,563.389 1253.39,687.264 1399.99,797.375 1546.6,962.542 1693.2,1086.42 1839.8,1196.53 1986.4,1341.05 2133,1492.45 2279.6,1602.56 2426.2,1781.49 2572.8,1919.13 2719.4,453.278 2866,584.035 3012.6,735.438 3159.2,866.195 3305.81,1072.65 3452.41,1189.65 3599.01,1313.52 3745.61,1471.8 3892.21,1588.8 4038.81,1726.44 4185.41,1905.37 4332.01,2036.12 4478.61,453.278 4625.21,611.563 \"/>\n",
       "<polyline clip-path=\"url(#clip232)\" style=\"stroke:#00a9ad; stroke-linecap:round; stroke-linejoin:round; stroke-width:4; stroke-opacity:1; fill:none\" points=\"373.788,1485.57 520.389,1636.97 666.99,1802.14 813.591,1919.13 960.192,2070.53 1106.79,453.278 1253.39,563.389 1399.99,721.674 1546.6,879.958 1693.2,983.187 1839.8,1169 1986.4,1354.81 2133,1506.21 2279.6,1623.21 2426.2,1740.2 2572.8,1870.96 2719.4,1967.3 2866,2091.18 3012.6,453.278 3159.2,604.681 3305.81,714.792 3452.41,818.021 3599.01,928.132 3745.61,1031.36 3892.21,1175.88 4038.81,1368.58 4185.41,1513.1 4332.01,1657.62 4478.61,1788.37 4625.21,1960.42 \"/>\n",
       "<polyline clip-path=\"url(#clip232)\" style=\"stroke:#ed5d92; stroke-linecap:round; stroke-linejoin:round; stroke-width:4; stroke-opacity:1; fill:none\" points=\"373.788,1485.57 520.389,1623.21 666.99,1767.73 813.591,1898.48 960.192,2077.42 1106.79,2173.76 1253.39,453.278 1399.99,590.917 1546.6,742.32 1693.2,852.431 1839.8,1017.6 1986.4,1189.65 2133,1327.28 2279.6,1464.92 2426.2,1623.21 2572.8,1712.67 2719.4,1919.13 2866,2015.48 3012.6,2132.47 3159.2,453.278 3305.81,549.625 3452.41,680.382 3599.01,804.257 3745.61,900.604 3892.21,1017.6 4038.81,1120.83 4185.41,1237.82 4332.01,1423.63 4478.61,1519.98 4625.21,1664.5 \"/>\n",
       "<polyline clip-path=\"url(#clip232)\" style=\"stroke:#c68125; stroke-linecap:round; stroke-linejoin:round; stroke-width:4; stroke-opacity:1; fill:none\" points=\"373.788,1485.57 520.389,1595.68 666.99,1767.73 813.591,1864.08 960.192,2029.24 1106.79,2173.76 1253.39,453.278 1399.99,542.744 1546.6,666.618 1693.2,790.493 1839.8,935.014 1986.4,1065.77 2133,1210.29 2279.6,1375.46 2426.2,1595.68 2572.8,1747.08 2719.4,1891.6 2866,2036.12 3012.6,2125.59 3159.2,2173.76 3305.81,2173.76 3452.41,453.278 3599.01,597.799 3745.61,776.729 3892.21,921.25 4038.81,1079.53 4185.41,1210.29 4332.01,1320.4 4478.61,1430.51 4625.21,1588.8 \"/>\n",
       "<polyline clip-path=\"url(#clip232)\" style=\"stroke:#00a98d; stroke-linecap:round; stroke-linejoin:round; stroke-width:4; stroke-opacity:1; fill:none\" points=\"373.788,1485.57 520.389,1602.56 666.99,1719.55 813.591,1850.31 960.192,2008.6 1106.79,2146.23 1253.39,2173.76 1399.99,2173.76 1546.6,2173.76 1693.2,453.278 1839.8,659.736 1986.4,762.965 2133,879.958 2279.6,1003.83 2426.2,1169 2572.8,1272.23 2719.4,1402.99 2866,1581.92 3012.6,1733.32 3159.2,1864.08 3305.81,453.278 3452.41,522.098 3599.01,632.209 3745.61,790.493 3892.21,928.132 4038.81,1017.6 4185.41,1155.24 4332.01,1306.64 4478.61,1409.87 4625.21,1526.86 \"/>\n",
       "<polyline clip-path=\"url(#clip232)\" style=\"stroke:#8e971d; stroke-linecap:round; stroke-linejoin:round; stroke-width:4; stroke-opacity:1; fill:none\" points=\"373.788,1485.57 520.389,1671.38 666.99,1815.9 813.591,2015.48 960.192,2160 1106.79,453.278 1253.39,604.681 1399.99,776.729 1546.6,879.958 1693.2,1038.24 1839.8,1217.17 1986.4,1382.34 2133,1513.1 2279.6,1609.44 2426.2,1781.49 2572.8,2015.48 2719.4,2173.76 2866,453.278 3012.6,618.445 3159.2,783.611 3305.81,886.84 3452.41,1045.12 3599.01,1210.29 3745.61,1347.93 3892.21,1499.33 4038.81,1664.5 4185.41,1795.26 4332.01,1953.54 4478.61,2160 4625.21,453.278 \"/>\n",
       "<polyline clip-path=\"url(#clip232)\" style=\"stroke:#00a8cb; stroke-linecap:round; stroke-linejoin:round; stroke-width:4; stroke-opacity:1; fill:none\" points=\"373.788,1485.57 520.389,1602.56 666.99,1767.73 813.591,1939.78 960.192,2043.01 1106.79,2173.76 1253.39,2173.76 1399.99,2173.76 1546.6,453.278 1693.2,570.271 1839.8,728.556 1986.4,879.958 2133,1045.12 2279.6,1196.53 2426.2,1306.64 2572.8,1451.16 2719.4,1561.27 2866,1678.26 3012.6,1822.78 3159.2,1919.13 3305.81,2077.42 3452.41,2173.76 3599.01,453.278 3745.61,673.5 3892.21,797.375 4038.81,962.542 4185.41,1113.94 4332.01,1230.94 4478.61,1423.63 4625.21,1581.92 \"/>\n",
       "<polyline clip-path=\"url(#clip232)\" style=\"stroke:#9b7fe8; stroke-linecap:round; stroke-linejoin:round; stroke-width:4; stroke-opacity:1; fill:none\" points=\"373.788,1485.57 520.389,1643.85 666.99,1815.9 813.591,1919.13 960.192,2118.71 1106.79,453.278 1253.39,611.563 1399.99,776.729 1546.6,928.132 1693.2,1086.42 1839.8,1230.94 1986.4,1292.87 2133,1430.51 2279.6,1568.15 2426.2,1705.79 2572.8,1822.78 2719.4,1953.54 2866,2146.23 3012.6,2173.76 3159.2,453.278 3305.81,528.98 3452.41,632.209 3599.01,769.847 3745.61,914.368 3892.21,1031.36 4038.81,1175.88 4185.41,1272.23 4332.01,1402.99 4478.61,1554.39 4625.21,1671.38 \"/>\n",
       "<polyline clip-path=\"url(#clip232)\" style=\"stroke:#608cf6; stroke-linecap:round; stroke-linejoin:round; stroke-width:4; stroke-opacity:1; fill:none\" points=\"373.788,1485.57 520.389,1650.74 666.99,1781.49 813.591,1891.6 960.192,109.182 1106.79,212.411 1253.39,363.813 1399.99,508.334 1546.6,673.5 1693.2,818.021 1839.8,1017.6 1986.4,1155.24 2133,1320.4 2279.6,1485.57 2426.2,1616.33 2572.8,1698.91 2719.4,1850.31 2866,1960.42 3012.6,2070.53 3159.2,109.182 3305.81,253.702 3452.41,418.869 3599.01,570.271 3745.61,742.32 3892.21,900.604 4038.81,1072.65 4185.41,1182.76 4332.01,1327.28 4478.61,1464.92 4625.21,1575.03 \"/>\n",
       "<polyline clip-path=\"url(#clip232)\" style=\"stroke:#f05f73; stroke-linecap:round; stroke-linejoin:round; stroke-width:4; stroke-opacity:1; fill:none\" points=\"373.788,1485.57 520.389,1602.56 666.99,1740.2 813.591,1864.08 960.192,2022.36 1106.79,109.182 1253.39,267.466 1399.99,370.695 1546.6,528.98 1693.2,749.202 1839.8,893.722 1986.4,1017.6 2133,1148.35 2279.6,1299.76 2426.2,1402.99 2572.8,1595.68 2719.4,1753.96 2866,1912.25 3012.6,109.182 3159.2,267.466 3305.81,384.459 3452.41,535.862 3599.01,666.618 3745.61,797.375 3892.21,1003.83 4038.81,1169 4185.41,1347.93 4332.01,1458.04 4478.61,1616.33 4625.21,1705.79 \"/>\n",
       "<polyline clip-path=\"url(#clip232)\" style=\"stroke:#dd64b5; stroke-linecap:round; stroke-linejoin:round; stroke-width:4; stroke-opacity:1; fill:none\" points=\"373.788,1485.57 520.389,1671.38 666.99,1829.67 813.591,1967.3 960.192,2070.53 1106.79,109.182 1253.39,253.702 1399.99,350.049 1546.6,453.278 1693.2,584.035 1839.8,701.028 1986.4,824.903 2133,969.424 2279.6,1100.18 2426.2,1251.58 2572.8,1409.87 2719.4,1568.15 2866,1643.85 3012.6,1733.32 3159.2,1884.72 3305.81,1960.42 3452.41,109.182 3599.01,288.112 3745.61,432.633 3892.21,556.507 4038.81,687.264 4185.41,831.785 4332.01,962.542 4478.61,1086.42 4625.21,1210.29 \"/>\n",
       "<polyline clip-path=\"url(#clip232)\" style=\"stroke:#6b9e32; stroke-linecap:round; stroke-linejoin:round; stroke-width:4; stroke-opacity:1; fill:none\" points=\"373.788,1485.57 520.389,1643.85 666.99,1747.08 813.591,1857.19 960.192,109.182 1106.79,253.702 1253.39,398.223 1399.99,528.98 1546.6,666.618 1693.2,783.611 1839.8,914.368 1986.4,1052.01 2133,1217.17 2279.6,1306.64 2426.2,1492.45 2572.8,1636.97 2719.4,1788.37 2866,1932.89 3012.6,109.182 3159.2,288.112 3305.81,411.987 3452.41,528.98 3599.01,659.736 3745.61,818.021 3892.21,990.069 4038.81,1169 4185.41,1279.11 4332.01,1409.87 4478.61,1526.86 4625.21,1623.21 \"/>\n",
       "<polyline clip-path=\"url(#clip232)\" style=\"stroke:#009af9; stroke-linecap:round; stroke-linejoin:round; stroke-width:4; stroke-opacity:1; fill:none\" points=\"373.788,1485.57 520.389,1623.21 666.99,1740.2 813.591,1905.37 960.192,2056.77 1106.79,109.182 1253.39,219.293 1399.99,308.758 1546.6,432.633 1693.2,590.917 1839.8,735.438 1986.4,886.84 2133,976.305 2279.6,1148.35 2426.2,1279.11 2572.8,1458.04 2719.4,1623.21 2866,1767.73 3012.6,1960.42 3159.2,2029.24 3305.81,2160 3452.41,109.182 3599.01,281.23 3745.61,425.751 3892.21,570.271 4038.81,680.382 4185.41,818.021 4332.01,1031.36 4478.61,1169 4625.21,1382.34 \"/>\n",
       "<polyline clip-path=\"url(#clip232)\" style=\"stroke:#e26f46; stroke-linecap:round; stroke-linejoin:round; stroke-width:4; stroke-opacity:1; fill:none\" points=\"373.788,1485.57 520.389,1664.5 666.99,1829.67 813.591,1932.89 960.192,2118.71 1106.79,109.182 1253.39,260.584 1399.99,446.396 1546.6,659.736 1693.2,824.903 1839.8,990.069 1986.4,1155.24 2133,1251.58 2279.6,1396.1 2426.2,1575.03 2572.8,1733.32 2719.4,1815.9 2866,1898.48 3012.6,2111.82 3159.2,109.182 3305.81,246.82 3452.41,405.105 3599.01,549.625 3745.61,687.264 3892.21,866.195 4038.81,1024.48 4185.41,1148.35 4332.01,1251.58 4478.61,1396.1 4625.21,1540.62 \"/>\n",
       "<polyline clip-path=\"url(#clip232)\" style=\"stroke:#3da44d; stroke-linecap:round; stroke-linejoin:round; stroke-width:4; stroke-opacity:1; fill:none\" points=\"373.788,1485.57 520.389,1602.56 666.99,1733.32 813.591,1870.96 960.192,2015.48 1106.79,2139.35 1253.39,109.182 1399.99,294.994 1546.6,398.223 1693.2,556.507 1839.8,680.382 1986.4,831.785 2133,955.66 2279.6,1058.89 2426.2,1182.76 2572.8,1341.05 2719.4,1471.8 2866,1616.33 3012.6,1719.55 3159.2,1815.9 3305.81,109.182 3452.41,260.584 3599.01,336.285 3745.61,480.806 3892.21,611.563 4038.81,749.202 4185.41,921.25 4332.01,1024.48 4478.61,1169 4625.21,1306.64 \"/>\n",
       "<polyline clip-path=\"url(#clip232)\" style=\"stroke:#c271d2; stroke-linecap:round; stroke-linejoin:round; stroke-width:4; stroke-opacity:1; fill:none\" points=\"373.788,1485.57 520.389,1575.03 666.99,1733.32 813.591,1884.72 960.192,2070.53 1106.79,109.182 1253.39,288.112 1399.99,439.514 1546.6,556.507 1693.2,652.854 1839.8,790.493 1986.4,928.132 2133,1052.01 2279.6,1217.17 2426.2,1361.69 2572.8,1478.69 2719.4,1630.09 2866,1733.32 3012.6,1864.08 3159.2,109.182 3305.81,178.001 3452.41,281.23 3599.01,418.869 3745.61,528.98 3892.21,604.681 4038.81,728.556 4185.41,859.313 4332.01,1024.48 4478.61,1169 4625.21,1368.58 \"/>\n",
       "<polyline clip-path=\"url(#clip232)\" style=\"stroke:#ac8d18; stroke-linecap:round; stroke-linejoin:round; stroke-width:4; stroke-opacity:1; fill:none\" points=\"373.788,1485.57 520.389,1595.68 666.99,1692.03 813.591,1864.08 960.192,1994.83 1106.79,109.182 1253.39,260.584 1399.99,363.813 1546.6,501.452 1693.2,597.799 1839.8,728.556 1986.4,845.549 2133,955.66 2279.6,1038.24 2426.2,1210.29 2572.8,1375.46 2719.4,1485.57 2866,1623.21 3012.6,1760.85 3159.2,1870.96 3305.81,109.182 3452.41,233.056 3599.01,363.813 3745.61,467.042 3892.21,584.035 4038.81,701.028 4185.41,811.139 4332.01,941.896 4478.61,1045.12 4625.21,1141.47 \"/>\n",
       "<polyline clip-path=\"url(#clip232)\" style=\"stroke:#00a9ad; stroke-linecap:round; stroke-linejoin:round; stroke-width:4; stroke-opacity:1; fill:none\" points=\"373.788,1485.57 520.389,1602.56 666.99,1733.32 813.591,1850.31 960.192,1932.89 1106.79,2043.01 1253.39,2173.76 1399.99,2173.76 1546.6,2173.76 1693.2,109.182 1839.8,233.056 1986.4,370.695 2133,528.98 2279.6,639.091 2426.2,756.084 2572.8,879.958 2719.4,1045.12 2866,1169 3012.6,1347.93 3159.2,1471.8 3305.81,1664.5 3452.41,1795.26 3599.01,1926.01 3745.61,109.182 3892.21,281.23 4038.81,411.987 4185.41,584.035 4332.01,735.438 4478.61,873.076 4625.21,990.069 \"/>\n",
       "<polyline clip-path=\"url(#clip232)\" style=\"stroke:#ed5d92; stroke-linecap:round; stroke-linejoin:round; stroke-width:4; stroke-opacity:1; fill:none\" points=\"373.788,1485.57 520.389,1643.85 666.99,1809.02 813.591,1485.57 960.192,1678.26 1106.79,1815.9 1253.39,1485.57 1399.99,1609.44 1546.6,1719.55 1693.2,1891.6 1839.8,2029.24 1986.4,1485.57 2133,1602.56 2279.6,1747.08 2426.2,1953.54 2572.8,1485.57 2719.4,1623.21 2866,1733.32 3012.6,1891.6 3159.2,1485.57 3305.81,1616.33 3452.41,1740.2 3599.01,1891.6 3745.61,2049.89 3892.21,1485.57 4038.81,1609.44 4185.41,1753.96 4332.01,1932.89 4478.61,1485.57 4625.21,1602.56 \"/>\n",
       "<polyline clip-path=\"url(#clip232)\" style=\"stroke:#c68125; stroke-linecap:round; stroke-linejoin:round; stroke-width:4; stroke-opacity:1; fill:none\" points=\"373.788,1485.57 520.389,1581.92 666.99,1733.32 813.591,1809.02 960.192,1485.57 1106.79,1588.8 1253.39,1774.61 1399.99,1857.19 1546.6,2022.36 1693.2,2132.47 1839.8,1485.57 1986.4,1568.15 2133,1650.74 2279.6,1802.14 2426.2,1981.07 2572.8,1485.57 2719.4,1616.33 2866,1760.85 3012.6,1939.78 3159.2,2070.53 3305.81,2173.76 3452.41,1485.57 3599.01,1609.44 3745.61,1726.44 3892.21,1829.67 4038.81,1485.57 4185.41,1623.21 4332.01,1747.08 4478.61,1884.72 4625.21,2070.53 \"/>\n",
       "<polyline clip-path=\"url(#clip232)\" style=\"stroke:#00a98d; stroke-linecap:round; stroke-linejoin:round; stroke-width:4; stroke-opacity:1; fill:none\" points=\"373.788,1485.57 520.389,1616.33 666.99,1747.08 813.591,1884.72 960.192,2056.77 1106.79,1485.57 1253.39,1609.44 1399.99,1774.61 1546.6,1939.78 1693.2,1485.57 1839.8,1664.5 1986.4,1781.49 2133,1912.25 2279.6,1485.57 2426.2,1595.68 2572.8,1747.08 2719.4,1905.37 2866,1485.57 3012.6,1685.14 3159.2,1795.26 3305.81,1485.57 3452.41,1630.09 3599.01,1815.9 3745.61,1905.37 3892.21,2008.6 4038.81,1485.57 4185.41,1609.44 4332.01,1726.44 4478.61,1864.08 4625.21,1994.83 \"/>\n",
       "<polyline clip-path=\"url(#clip232)\" style=\"stroke:#8e971d; stroke-linecap:round; stroke-linejoin:round; stroke-width:4; stroke-opacity:1; fill:none\" points=\"373.788,1485.57 520.389,1636.97 666.99,1795.26 813.591,1960.42 960.192,1485.57 1106.79,1609.44 1253.39,1747.08 1399.99,1905.37 1546.6,2049.89 1693.2,1485.57 1839.8,1616.33 1986.4,1740.2 2133,1870.96 2279.6,1994.83 2426.2,2146.23 2572.8,1485.57 2719.4,1636.97 2866,1788.37 3012.6,1919.13 3159.2,2029.24 3305.81,1485.57 3452.41,1671.38 3599.01,1767.73 3745.61,1870.96 3892.21,1485.57 4038.81,1657.62 4185.41,1774.61 4332.01,1485.57 4478.61,1623.21 4625.21,1788.37 \"/>\n",
       "<polyline clip-path=\"url(#clip232)\" style=\"stroke:#00a8cb; stroke-linecap:round; stroke-linejoin:round; stroke-width:4; stroke-opacity:1; fill:none\" points=\"373.788,1485.57 520.389,1595.68 666.99,1740.2 813.591,1864.08 960.192,2063.65 1106.79,2173.76 1253.39,2173.76 1399.99,1485.57 1546.6,1581.92 1693.2,1698.91 1839.8,1802.14 1986.4,1926.01 2133,2049.89 2279.6,1485.57 2426.2,1678.26 2572.8,1795.26 2719.4,1932.89 2866,2084.3 3012.6,2166.88 3159.2,1485.57 3305.81,1588.8 3452.41,1753.96 3599.01,1864.08 3745.61,1485.57 3892.21,1588.8 4038.81,1733.32 4185.41,1912.25 4332.01,1485.57 4478.61,1609.44 4625.21,1719.55 \"/>\n",
       "<polyline clip-path=\"url(#clip232)\" style=\"stroke:#9b7fe8; stroke-linecap:round; stroke-linejoin:round; stroke-width:4; stroke-opacity:1; fill:none\" points=\"373.788,1485.57 520.389,1650.74 666.99,1809.02 813.591,1485.57 960.192,1636.97 1106.79,1822.78 1253.39,1485.57 1399.99,1664.5 1546.6,1836.55 1693.2,1981.07 1839.8,1485.57 1986.4,1643.85 2133,1788.37 2279.6,1946.66 2426.2,1485.57 2572.8,1636.97 2719.4,1760.85 2866,1857.19 3012.6,1967.3 3159.2,2063.65 3305.81,2173.76 3452.41,2173.76 3599.01,1485.57 3745.61,1588.8 3892.21,1733.32 4038.81,1857.19 4185.41,1485.57 4332.01,1588.8 4478.61,1747.08 4625.21,1905.37 \"/>\n",
       "<polyline clip-path=\"url(#clip232)\" style=\"stroke:#608cf6; stroke-linecap:round; stroke-linejoin:round; stroke-width:4; stroke-opacity:1; fill:none\" points=\"373.788,1485.57 520.389,1595.68 666.99,1774.61 813.591,1939.78 960.192,2091.18 1106.79,1485.57 1253.39,1575.03 1399.99,1650.74 1546.6,1802.14 1693.2,1485.57 1839.8,1602.56 1986.4,1733.32 2133,1905.37 2279.6,1485.57 2426.2,1595.68 2572.8,1740.2 2719.4,1946.66 2866,2091.18 3012.6,2173.76 3159.2,2173.76 3305.81,2173.76 3452.41,1485.57 3599.01,1636.97 3745.61,1774.61 3892.21,1485.57 4038.81,1623.21 4185.41,1760.85 4332.01,1912.25 4478.61,1485.57 4625.21,1616.33 \"/>\n",
       "<polyline clip-path=\"url(#clip232)\" style=\"stroke:#f05f73; stroke-linecap:round; stroke-linejoin:round; stroke-width:4; stroke-opacity:1; fill:none\" points=\"373.788,1485.57 520.389,1636.97 666.99,1788.37 813.591,1960.42 960.192,2091.18 1106.79,1485.57 1253.39,1657.62 1399.99,1774.61 1546.6,1912.25 1693.2,1485.57 1839.8,1581.92 1986.4,1726.44 2133,1822.78 2279.6,1485.57 2426.2,1685.14 2572.8,1822.78 2719.4,1898.48 2866,2043.01 3012.6,2173.76 3159.2,1485.57 3305.81,1623.21 3452.41,1685.14 3599.01,1857.19 3745.61,1987.95 3892.21,2173.76 4038.81,2173.76 4185.41,1485.57 4332.01,1588.8 4478.61,1692.03 4625.21,1836.55 \"/>\n",
       "<polyline clip-path=\"url(#clip232)\" style=\"stroke:#dd64b5; stroke-linecap:round; stroke-linejoin:round; stroke-width:4; stroke-opacity:1; fill:none\" points=\"373.788,1485.57 520.389,1643.85 666.99,1795.26 813.591,1891.6 960.192,1485.57 1106.79,1623.21 1253.39,1753.96 1399.99,1905.37 1546.6,1485.57 1693.2,1636.97 1839.8,1733.32 1986.4,1870.96 2133,1485.57 2279.6,1671.38 2426.2,1795.26 2572.8,1898.48 2719.4,1485.57 2866,1616.33 3012.6,1733.32 3159.2,1898.48 3305.81,2022.36 3452.41,2173.76 3599.01,2173.76 3745.61,2173.76 3892.21,2173.76 4038.81,2173.76 4185.41,2173.76 4332.01,2173.76 4478.61,1485.57 4625.21,1616.33 \"/>\n",
       "<polyline clip-path=\"url(#clip232)\" style=\"stroke:#6b9e32; stroke-linecap:round; stroke-linejoin:round; stroke-width:4; stroke-opacity:1; fill:none\" points=\"373.788,1485.57 520.389,1643.85 666.99,1740.2 813.591,1870.96 960.192,1485.57 1106.79,1630.09 1253.39,1726.44 1399.99,1870.96 1546.6,1485.57 1693.2,1636.97 1839.8,1774.61 1986.4,1898.48 2133,2091.18 2279.6,2173.76 2426.2,1485.57 2572.8,1575.03 2719.4,1678.26 2866,1802.14 3012.6,1926.01 3159.2,2049.89 3305.81,1485.57 3452.41,1609.44 3599.01,1692.03 3745.61,1788.37 3892.21,1919.13 4038.81,2008.6 4185.41,2070.53 4332.01,1485.57 4478.61,1588.8 4625.21,1692.03 \"/>\n",
       "<polyline clip-path=\"url(#clip232)\" style=\"stroke:#009af9; stroke-linecap:round; stroke-linejoin:round; stroke-width:4; stroke-opacity:1; fill:none\" points=\"373.788,1485.57 520.389,1575.03 666.99,1698.91 813.591,1877.84 960.192,1141.47 1106.79,1265.35 1253.39,1430.51 1399.99,1595.68 1546.6,1712.67 1693.2,1864.08 1839.8,1141.47 1986.4,1299.76 2133,1430.51 2279.6,1568.15 2426.2,1767.73 2572.8,1898.48 2719.4,1141.47 2866,1237.82 3012.6,1402.99 3159.2,1540.62 3305.81,1657.62 3452.41,1815.9 3599.01,1141.47 3745.61,1306.64 3892.21,1423.63 4038.81,1568.15 4185.41,1712.67 4332.01,1822.78 4478.61,1926.01 4625.21,1141.47 \"/>\n",
       "<polyline clip-path=\"url(#clip232)\" style=\"stroke:#e26f46; stroke-linecap:round; stroke-linejoin:round; stroke-width:4; stroke-opacity:1; fill:none\" points=\"373.788,1485.57 520.389,1609.44 666.99,1685.14 813.591,1836.55 960.192,2070.53 1106.79,2166.88 1253.39,2173.76 1399.99,1141.47 1546.6,1251.58 1693.2,1347.93 1839.8,1451.16 1986.4,1602.56 2133,1753.96 2279.6,1905.37 2426.2,1141.47 2572.8,1272.23 2719.4,1368.58 2866,1513.1 3012.6,1678.26 3159.2,1822.78 3305.81,1953.54 3452.41,2104.94 3599.01,1141.47 3745.61,1251.58 3892.21,1409.87 4038.81,1547.51 4185.41,1657.62 4332.01,1809.02 4478.61,1926.01 4625.21,2008.6 \"/>\n",
       "<polyline clip-path=\"url(#clip232)\" style=\"stroke:#3da44d; stroke-linecap:round; stroke-linejoin:round; stroke-width:4; stroke-opacity:1; fill:none\" points=\"373.788,1485.57 520.389,1657.62 666.99,1843.43 813.591,1141.47 960.192,1320.4 1106.79,1485.57 1253.39,1575.03 1399.99,1733.32 1546.6,1815.9 1693.2,1141.47 1839.8,1272.23 1986.4,1416.75 2133,1561.27 2279.6,1685.14 2426.2,1788.37 2572.8,1926.01 2719.4,1141.47 2866,1306.64 3012.6,1389.22 3159.2,1464.92 3305.81,1643.85 3452.41,1733.32 3599.01,1877.84 3745.61,1141.47 3892.21,1224.06 4038.81,1327.28 4185.41,1402.99 4332.01,1561.27 4478.61,1719.55 4625.21,1891.6 \"/>\n",
       "<polyline clip-path=\"url(#clip232)\" style=\"stroke:#c271d2; stroke-linecap:round; stroke-linejoin:round; stroke-width:4; stroke-opacity:1; fill:none\" points=\"373.788,1485.57 520.389,1595.68 666.99,1733.32 813.591,1829.67 960.192,1960.42 1106.79,1141.47 1253.39,1320.4 1399.99,1485.57 1546.6,1657.62 1693.2,1809.02 1839.8,1946.66 1986.4,2118.71 2133,1141.47 2279.6,1251.58 2426.2,1375.46 2572.8,1540.62 2719.4,1643.85 2866,1753.96 3012.6,1877.84 3159.2,1953.54 3305.81,1141.47 3452.41,1265.35 3599.01,1389.22 3745.61,1506.21 3892.21,1671.38 4038.81,1809.02 4185.41,1884.72 4332.01,1141.47 4478.61,1285.99 4625.21,1375.46 \"/>\n",
       "<polyline clip-path=\"url(#clip232)\" style=\"stroke:#ac8d18; stroke-linecap:round; stroke-linejoin:round; stroke-width:4; stroke-opacity:1; fill:none\" points=\"373.788,1485.57 520.389,1609.44 666.99,1760.85 813.591,1905.37 960.192,1141.47 1106.79,1299.76 1253.39,1416.75 1399.99,1547.51 1546.6,1643.85 1693.2,1815.9 1839.8,1141.47 1986.4,1299.76 2133,1478.69 2279.6,1602.56 2426.2,1705.79 2572.8,1829.67 2719.4,1932.89 2866,1141.47 3012.6,1285.99 3159.2,1444.28 3305.81,1519.98 3452.41,1712.67 3599.01,1926.01 3745.61,1141.47 3892.21,1251.58 4038.81,1361.69 4185.41,1444.28 4332.01,1561.27 4478.61,1692.03 4625.21,1815.9 \"/>\n",
       "<polyline clip-path=\"url(#clip232)\" style=\"stroke:#00a9ad; stroke-linecap:round; stroke-linejoin:round; stroke-width:4; stroke-opacity:1; fill:none\" points=\"373.788,1485.57 520.389,1678.26 666.99,1822.78 813.591,1912.25 960.192,2077.42 1106.79,2173.76 1253.39,1141.47 1399.99,1258.46 1546.6,1416.75 1693.2,1533.74 1839.8,1650.74 1986.4,1726.44 2133,1864.08 2279.6,1141.47 2426.2,1313.52 2572.8,1423.63 2719.4,1581.92 2866,1671.38 3012.6,1788.37 3159.2,1141.47 3305.81,1251.58 3452.41,1409.87 3599.01,1581.92 3745.61,1719.55 3892.21,1857.19 4038.81,1141.47 4185.41,1265.35 4332.01,1354.81 4478.61,1533.74 4625.21,1657.62 \"/>\n",
       "<polyline clip-path=\"url(#clip232)\" style=\"stroke:#ed5d92; stroke-linecap:round; stroke-linejoin:round; stroke-width:4; stroke-opacity:1; fill:none\" points=\"373.788,1485.57 520.389,1609.44 666.99,1719.55 813.591,1809.02 960.192,1981.07 1106.79,1141.47 1253.39,1244.7 1399.99,1409.87 1546.6,1526.86 1693.2,1671.38 1839.8,1802.14 1986.4,1141.47 2133,1299.76 2279.6,1409.87 2426.2,1533.74 2572.8,1685.14 2719.4,1822.78 2866,1967.3 3012.6,2132.47 3159.2,1141.47 3305.81,1272.23 3452.41,1471.8 3599.01,1650.74 3745.61,1802.14 3892.21,1857.19 4038.81,1994.83 4185.41,1141.47 4332.01,1258.46 4478.61,1361.69 4625.21,1533.74 \"/>\n",
       "<polyline clip-path=\"url(#clip232)\" style=\"stroke:#c68125; stroke-linecap:round; stroke-linejoin:round; stroke-width:4; stroke-opacity:1; fill:none\" points=\"373.788,1485.57 520.389,1623.21 666.99,1781.49 813.591,1932.89 960.192,2056.77 1106.79,1141.47 1253.39,1292.87 1399.99,1423.63 1546.6,1492.45 1693.2,1664.5 1839.8,1774.61 1986.4,1891.6 2133,2043.01 2279.6,2139.35 2426.2,1141.47 2572.8,1272.23 2719.4,1416.75 2866,1568.15 3012.6,1753.96 3159.2,1939.78 3305.81,1141.47 3452.41,1237.82 3599.01,1396.1 3745.61,1554.39 3892.21,1747.08 4038.81,1919.13 4185.41,2111.82 4332.01,2173.76 4478.61,2173.76 4625.21,2173.76 \"/>\n",
       "<polyline clip-path=\"url(#clip232)\" style=\"stroke:#00a98d; stroke-linecap:round; stroke-linejoin:round; stroke-width:4; stroke-opacity:1; fill:none\" points=\"373.788,1485.57 520.389,1643.85 666.99,1753.96 813.591,1864.08 960.192,2001.71 1106.79,2173.76 1253.39,1141.47 1399.99,1306.64 1546.6,1437.4 1693.2,1595.68 1839.8,1726.44 1986.4,1857.19 2133,1141.47 2279.6,1279.11 2426.2,1471.8 2572.8,1609.44 2719.4,1795.26 2866,1932.89 3012.6,1141.47 3159.2,1244.7 3305.81,1382.34 3452.41,1499.33 3599.01,1636.97 3745.61,1767.73 3892.21,1898.48 4038.81,2022.36 4185.41,2132.47 4332.01,2173.76 4478.61,1141.47 4625.21,1320.4 \"/>\n",
       "<polyline clip-path=\"url(#clip232)\" style=\"stroke:#8e971d; stroke-linecap:round; stroke-linejoin:round; stroke-width:4; stroke-opacity:1; fill:none\" points=\"373.788,1485.57 520.389,1650.74 666.99,1781.49 813.591,1905.37 960.192,1141.47 1106.79,1279.11 1253.39,1464.92 1399.99,1616.33 1546.6,1767.73 1693.2,1141.47 1839.8,1265.35 1986.4,1375.46 2133,1492.45 2279.6,1575.03 2426.2,1698.91 2572.8,1815.9 2719.4,1141.47 2866,1313.52 3012.6,1485.57 3159.2,1623.21 3305.81,1788.37 3452.41,1912.25 3599.01,1141.47 3745.61,1285.99 3892.21,1437.4 4038.81,1609.44 4185.41,1671.38 4332.01,1740.2 4478.61,1932.89 4625.21,2022.36 \"/>\n",
       "<polyline clip-path=\"url(#clip232)\" style=\"stroke:#00a8cb; stroke-linecap:round; stroke-linejoin:round; stroke-width:4; stroke-opacity:1; fill:none\" points=\"373.788,1485.57 520.389,1609.44 666.99,1733.32 813.591,1870.96 960.192,797.375 1106.79,907.486 1253.39,1058.89 1399.99,1217.17 1546.6,1347.93 1693.2,1471.8 1839.8,1547.51 1986.4,1685.14 2133,1898.48 2279.6,2049.89 2426.2,797.375 2572.8,900.604 2719.4,1058.89 2866,1237.82 3012.6,1375.46 3159.2,1540.62 3305.81,1643.85 3452.41,1788.37 3599.01,1898.48 3745.61,2056.77 3892.21,797.375 4038.81,900.604 4185.41,1003.83 4332.01,1120.83 4478.61,1265.35 4625.21,1389.22 \"/>\n",
       "<polyline clip-path=\"url(#clip232)\" style=\"stroke:#9b7fe8; stroke-linecap:round; stroke-linejoin:round; stroke-width:4; stroke-opacity:1; fill:none\" points=\"373.788,1485.57 520.389,1609.44 666.99,1698.91 813.591,1836.55 960.192,1939.78 1106.79,2063.65 1253.39,797.375 1399.99,948.778 1546.6,1079.53 1693.2,1217.17 1839.8,1347.93 1986.4,1513.1 2133,1630.09 2279.6,1698.91 2426.2,1802.14 2572.8,1974.19 2719.4,797.375 2866,976.305 3012.6,1107.06 3159.2,1237.82 3305.81,1409.87 3452.41,1533.74 3599.01,1657.62 3745.61,1767.73 3892.21,1912.25 4038.81,2104.94 4185.41,2173.76 4332.01,2173.76 4478.61,797.375 4625.21,976.305 \"/>\n",
       "<polyline clip-path=\"url(#clip232)\" style=\"stroke:#608cf6; stroke-linecap:round; stroke-linejoin:round; stroke-width:4; stroke-opacity:1; fill:none\" points=\"373.788,1485.57 520.389,1657.62 666.99,1795.26 813.591,1987.95 960.192,2118.71 1106.79,2173.76 1253.39,2173.76 1399.99,2173.76 1546.6,2173.76 1693.2,797.375 1839.8,976.305 1986.4,1107.06 2133,1203.41 2279.6,1354.81 2426.2,1499.33 2572.8,1685.14 2719.4,1877.84 2866,797.375 3012.6,893.722 3159.2,1038.24 3305.81,1162.12 3452.41,1368.58 3599.01,1506.21 3745.61,1643.85 3892.21,1760.85 4038.81,1912.25 4185.41,2015.48 4332.01,2098.06 4478.61,797.375 4625.21,955.66 \"/>\n",
       "<polyline clip-path=\"url(#clip232)\" style=\"stroke:#f05f73; stroke-linecap:round; stroke-linejoin:round; stroke-width:4; stroke-opacity:1; fill:none\" points=\"373.788,1485.57 520.389,1588.8 666.99,1760.85 813.591,1898.48 960.192,797.375 1106.79,921.25 1253.39,1141.47 1399.99,1230.94 1546.6,1389.22 1693.2,1561.27 1839.8,1692.03 1986.4,1815.9 2133,1932.89 2279.6,797.375 2426.2,893.722 2572.8,1024.48 2719.4,1155.24 2866,1285.99 3012.6,1444.28 3159.2,1575.03 3305.81,1726.44 3452.41,1864.08 3599.01,797.375 3745.61,948.778 3892.21,1107.06 4038.81,1210.29 4185.41,1354.81 4332.01,1506.21 4478.61,1609.44 4625.21,1712.67 \"/>\n",
       "<polyline clip-path=\"url(#clip232)\" style=\"stroke:#dd64b5; stroke-linecap:round; stroke-linejoin:round; stroke-width:4; stroke-opacity:1; fill:none\" points=\"373.788,1485.57 520.389,1588.8 666.99,1705.79 813.591,1850.31 960.192,2036.12 1106.79,797.375 1253.39,907.486 1399.99,1058.89 1546.6,1251.58 1693.2,1361.69 1839.8,1458.04 1986.4,1630.09 2133,1774.61 2279.6,1919.13 2426.2,2015.48 2572.8,797.375 2719.4,935.014 2866,1065.77 3012.6,1175.88 3159.2,1299.76 3305.81,1471.8 3452.41,1616.33 3599.01,1829.67 3745.61,1967.3 3892.21,797.375 4038.81,893.722 4185.41,1045.12 4332.01,1162.12 4478.61,1334.17 4625.21,1464.92 \"/>\n",
       "<polyline clip-path=\"url(#clip232)\" style=\"stroke:#6b9e32; stroke-linecap:round; stroke-linejoin:round; stroke-width:4; stroke-opacity:1; fill:none\" points=\"373.788,1485.57 520.389,1609.44 666.99,1740.2 813.591,1829.67 960.192,1981.07 1106.79,2098.06 1253.39,2173.76 1399.99,2173.76 1546.6,797.375 1693.2,941.896 1839.8,1031.36 1986.4,1148.35 2133,1334.17 2279.6,1506.21 2426.2,1685.14 2572.8,1850.31 2719.4,2001.71 2866,2173.76 3012.6,2173.76 3159.2,2173.76 3305.81,797.375 3452.41,962.542 3599.01,1189.65 3745.61,1341.05 3892.21,1485.57 4038.81,1575.03 4185.41,1733.32 4332.01,1864.08 4478.61,797.375 4625.21,914.368 \"/>\n",
       "<polyline clip-path=\"url(#clip232)\" style=\"stroke:#009af9; stroke-linecap:round; stroke-linejoin:round; stroke-width:4; stroke-opacity:1; fill:none\" points=\"373.788,1485.57 520.389,1664.5 666.99,1788.37 813.591,1919.13 960.192,797.375 1106.79,948.778 1253.39,1107.06 1399.99,1313.52 1546.6,1423.63 1693.2,1595.68 1839.8,1774.61 1986.4,1891.6 2133,797.375 2279.6,935.014 2426.2,1031.36 2572.8,1134.59 2719.4,1347.93 2866,1499.33 3012.6,1650.74 3159.2,1829.67 3305.81,797.375 3452.41,935.014 3599.01,1072.65 3745.61,1162.12 3892.21,1279.11 4038.81,1423.63 4185.41,1568.15 4332.01,1698.91 4478.61,1864.08 4625.21,2029.24 \"/>\n",
       "<polyline clip-path=\"url(#clip232)\" style=\"stroke:#e26f46; stroke-linecap:round; stroke-linejoin:round; stroke-width:4; stroke-opacity:1; fill:none\" points=\"373.788,1485.57 520.389,1623.21 666.99,1760.85 813.591,1898.48 960.192,797.375 1106.79,955.66 1253.39,1065.77 1399.99,1299.76 1546.6,1430.51 1693.2,1568.15 1839.8,1678.26 1986.4,1822.78 2133,797.375 2279.6,873.076 2426.2,955.66 2572.8,1107.06 2719.4,1189.65 2866,1361.69 3012.6,1533.74 3159.2,1630.09 3305.81,1774.61 3452.41,1905.37 3599.01,2049.89 3745.61,797.375 3892.21,969.424 4038.81,1175.88 4185.41,1292.87 4332.01,1423.63 4478.61,1526.86 4625.21,1671.38 \"/>\n",
       "<polyline clip-path=\"url(#clip232)\" style=\"stroke:#3da44d; stroke-linecap:round; stroke-linejoin:round; stroke-width:4; stroke-opacity:1; fill:none\" points=\"373.788,1485.57 520.389,1636.97 666.99,1733.32 813.591,1864.08 960.192,1981.07 1106.79,2139.35 1253.39,2173.76 1399.99,2173.76 1546.6,2173.76 1693.2,2173.76 1839.8,797.375 1986.4,921.25 2133,1079.53 2279.6,1251.58 2426.2,1430.51 2572.8,1581.92 2719.4,1719.55 2866,1850.31 3012.6,2008.6 3159.2,2166.88 3305.81,797.375 3452.41,921.25 3599.01,1072.65 3745.61,1203.41 3892.21,1347.93 4038.81,1499.33 4185.41,1609.44 4332.01,1698.91 4478.61,1843.43 4625.21,1967.3 \"/>\n",
       "<polyline clip-path=\"url(#clip232)\" style=\"stroke:#c271d2; stroke-linecap:round; stroke-linejoin:round; stroke-width:4; stroke-opacity:1; fill:none\" points=\"373.788,1485.57 520.389,1623.21 666.99,1760.85 813.591,1877.84 960.192,797.375 1106.79,996.951 1253.39,1120.83 1399.99,1272.23 1546.6,1375.46 1693.2,1492.45 1839.8,1575.03 1986.4,1712.67 2133,1795.26 2279.6,1939.78 2426.2,797.375 2572.8,941.896 2719.4,1065.77 2866,1127.71 3012.6,1265.35 3159.2,1382.34 3305.81,1526.86 3452.41,1636.97 3599.01,1781.49 3745.61,1974.19 3892.21,797.375 4038.81,955.66 4185.41,1093.3 4332.01,1210.29 4478.61,1341.05 4625.21,1499.33 \"/>\n",
       "<polyline clip-path=\"url(#clip232)\" style=\"stroke:#ac8d18; stroke-linecap:round; stroke-linejoin:round; stroke-width:4; stroke-opacity:1; fill:none\" points=\"373.788,1485.57 520.389,1657.62 666.99,1802.14 813.591,453.278 960.192,584.035 1106.79,707.91 1253.39,845.549 1399.99,976.305 1546.6,1065.77 1693.2,1189.65 1839.8,1265.35 1986.4,1375.46 2133,1513.1 2279.6,1616.33 2426.2,1767.73 2572.8,1919.13 2719.4,2063.65 2866,2173.76 3012.6,2173.76 3159.2,453.278 3305.81,597.799 3452.41,749.202 3599.01,893.722 3745.61,1003.83 3892.21,1169 4038.81,1313.52 4185.41,1409.87 4332.01,1519.98 4478.61,1650.74 4625.21,1747.08 \"/>\n",
       "<polyline clip-path=\"url(#clip232)\" style=\"stroke:#00a9ad; stroke-linecap:round; stroke-linejoin:round; stroke-width:4; stroke-opacity:1; fill:none\" points=\"373.788,1485.57 520.389,1581.92 666.99,1712.67 813.591,1822.78 960.192,1939.78 1106.79,2098.06 1253.39,453.278 1399.99,542.744 1546.6,652.854 1693.2,756.084 1839.8,859.313 1986.4,1017.6 2133,1210.29 2279.6,1396.1 2426.2,1554.39 2572.8,1733.32 2719.4,1864.08 2866,1974.19 3012.6,453.278 3159.2,639.091 3305.81,845.549 3452.41,948.778 3599.01,1072.65 3745.61,1203.41 3892.21,1299.76 4038.81,1526.86 4185.41,1630.09 4332.01,1733.32 4478.61,1877.84 4625.21,2022.36 \"/>\n",
       "<polyline clip-path=\"url(#clip232)\" style=\"stroke:#ed5d92; stroke-linecap:round; stroke-linejoin:round; stroke-width:4; stroke-opacity:1; fill:none\" points=\"373.788,1485.57 520.389,1630.09 666.99,1719.55 813.591,1864.08 960.192,2001.71 1106.79,2153.12 1253.39,2173.76 1399.99,453.278 1546.6,597.799 1693.2,756.084 1839.8,831.785 1986.4,962.542 2133,1189.65 2279.6,1389.22 2426.2,1506.21 2572.8,1581.92 2719.4,1733.32 2866,1939.78 3012.6,453.278 3159.2,625.327 3305.81,776.729 3452.41,907.486 3599.01,1045.12 3745.61,1175.88 3892.21,1272.23 4038.81,1375.46 4185.41,1485.57 4332.01,1595.68 4478.61,1726.44 4625.21,1843.43 \"/>\n",
       "<polyline clip-path=\"url(#clip232)\" style=\"stroke:#c68125; stroke-linecap:round; stroke-linejoin:round; stroke-width:4; stroke-opacity:1; fill:none\" points=\"373.788,1485.57 520.389,1616.33 666.99,1788.37 813.591,1877.84 960.192,2015.48 1106.79,453.278 1253.39,556.507 1399.99,680.382 1546.6,845.549 1693.2,990.069 1839.8,1107.06 1986.4,1182.76 2133,1347.93 2279.6,1451.16 2426.2,1581.92 2572.8,1740.2 2719.4,1905.37 2866,2049.89 3012.6,2166.88 3159.2,453.278 3305.81,597.799 3452.41,749.202 3599.01,873.076 3745.61,969.424 3892.21,1093.3 4038.81,1279.11 4185.41,1396.1 4332.01,1540.62 4478.61,1630.09 4625.21,1767.73 \"/>\n",
       "<polyline clip-path=\"url(#clip232)\" style=\"stroke:#00a98d; stroke-linecap:round; stroke-linejoin:round; stroke-width:4; stroke-opacity:1; fill:none\" points=\"373.788,1485.57 520.389,1623.21 666.99,1753.96 813.591,1884.72 960.192,2022.36 1106.79,453.278 1253.39,563.389 1399.99,735.438 1546.6,838.667 1693.2,948.778 1839.8,1134.59 1986.4,1258.46 2133,1389.22 2279.6,1526.86 2426.2,1671.38 2572.8,1836.55 2719.4,1974.19 2866,453.278 3012.6,556.507 3159.2,687.264 3305.81,797.375 3452.41,969.424 3599.01,1120.83 3745.61,1265.35 3892.21,1389.22 4038.81,1499.33 4185.41,1588.8 4332.01,1712.67 4478.61,1864.08 4625.21,1953.54 \"/>\n",
       "<polyline clip-path=\"url(#clip232)\" style=\"stroke:#8e971d; stroke-linecap:round; stroke-linejoin:round; stroke-width:4; stroke-opacity:1; fill:none\" points=\"373.788,1485.57 520.389,1595.68 666.99,1760.85 813.591,1912.25 960.192,2070.53 1106.79,453.278 1253.39,611.563 1399.99,769.847 1546.6,962.542 1693.2,1093.3 1839.8,1189.65 1986.4,1368.58 2133,1492.45 2279.6,1630.09 2426.2,1760.85 2572.8,1960.42 2719.4,453.278 2866,625.327 3012.6,756.084 3159.2,873.076 3305.81,976.305 3452.41,1113.94 3599.01,1272.23 3745.61,1361.69 3892.21,1526.86 4038.81,1616.33 4185.41,1781.49 4332.01,1898.48 4478.61,453.278 4625.21,611.563 \"/>\n",
       "<polyline clip-path=\"url(#clip232)\" style=\"stroke:#00a8cb; stroke-linecap:round; stroke-linejoin:round; stroke-width:4; stroke-opacity:1; fill:none\" points=\"373.788,1485.57 520.389,1616.33 666.99,1740.2 813.591,1843.43 960.192,2043.01 1106.79,453.278 1253.39,639.091 1399.99,769.847 1546.6,845.549 1693.2,976.305 1839.8,1182.76 1986.4,1299.76 2133,1492.45 2279.6,1609.44 2426.2,1733.32 2572.8,453.278 2719.4,597.799 2866,783.611 3012.6,900.604 3159.2,1045.12 3305.81,1230.94 3452.41,1361.69 3599.01,1554.39 3745.61,1740.2 3892.21,1843.43 4038.81,1960.42 4185.41,453.278 4332.01,577.153 4478.61,735.438 4625.21,948.778 \"/>\n",
       "<polyline clip-path=\"url(#clip232)\" style=\"stroke:#9b7fe8; stroke-linecap:round; stroke-linejoin:round; stroke-width:4; stroke-opacity:1; fill:none\" points=\"373.788,1485.57 520.389,1636.97 666.99,1747.08 813.591,1884.72 960.192,453.278 1106.79,577.153 1253.39,721.674 1399.99,845.549 1546.6,1045.12 1693.2,1148.35 1839.8,1292.87 1986.4,1526.86 2133,1664.5 2279.6,1747.08 2426.2,1919.13 2572.8,2008.6 2719.4,453.278 2866,604.681 3012.6,769.847 3159.2,900.604 3305.81,1024.48 3452.41,1134.59 3599.01,1258.46 3745.61,1416.75 3892.21,1513.1 4038.81,1692.03 4185.41,1795.26 4332.01,1974.19 4478.61,453.278 4625.21,584.035 \"/>\n",
       "<polyline clip-path=\"url(#clip232)\" style=\"stroke:#608cf6; stroke-linecap:round; stroke-linejoin:round; stroke-width:4; stroke-opacity:1; fill:none\" points=\"373.788,1485.57 520.389,1643.85 666.99,1836.55 813.591,1932.89 960.192,453.278 1106.79,618.445 1253.39,804.257 1399.99,935.014 1546.6,1072.65 1693.2,1162.12 1839.8,1347.93 1986.4,1506.21 2133,1623.21 2279.6,1719.55 2426.2,1870.96 2572.8,453.278 2719.4,625.327 2866,811.139 3012.6,1038.24 3159.2,1120.83 3305.81,1237.82 3452.41,1354.81 3599.01,1451.16 3745.61,1602.56 3892.21,1767.73 4038.81,1960.42 4185.41,453.278 4332.01,577.153 4478.61,749.202 4625.21,921.25 \"/>\n",
       "<polyline clip-path=\"url(#clip232)\" style=\"stroke:#f05f73; stroke-linecap:round; stroke-linejoin:round; stroke-width:4; stroke-opacity:1; fill:none\" points=\"373.788,1485.57 520.389,1664.5 666.99,1795.26 813.591,453.278 960.192,577.153 1106.79,721.674 1253.39,852.431 1399.99,1010.72 1546.6,1189.65 1693.2,1299.76 1839.8,1416.75 1986.4,1506.21 2133,1630.09 2279.6,1726.44 2426.2,1864.08 2572.8,2001.71 2719.4,2166.88 2866,2173.76 3012.6,453.278 3159.2,577.153 3305.81,659.736 3452.41,790.493 3599.01,948.778 3745.61,1086.42 3892.21,1175.88 4038.81,1327.28 4185.41,1451.16 4332.01,1581.92 4478.61,1767.73 4625.21,1891.6 \"/>\n",
       "<polyline clip-path=\"url(#clip232)\" style=\"stroke:#dd64b5; stroke-linecap:round; stroke-linejoin:round; stroke-width:4; stroke-opacity:1; fill:none\" points=\"373.788,1485.57 520.389,1623.21 666.99,1733.32 813.591,1843.43 960.192,109.182 1106.79,233.056 1253.39,350.049 1399.99,425.751 1546.6,570.271 1693.2,659.736 1839.8,790.493 1986.4,928.132 2133,1031.36 2279.6,1210.29 2426.2,1354.81 2572.8,1533.74 2719.4,1664.5 2866,1815.9 3012.6,109.182 3159.2,246.82 3305.81,336.285 3452.41,542.744 3599.01,687.264 3745.61,818.021 3892.21,962.542 4038.81,1079.53 4185.41,1169 4332.01,1279.11 4478.61,1430.51 4625.21,1540.62 \"/>\n",
       "<polyline clip-path=\"url(#clip232)\" style=\"stroke:#6b9e32; stroke-linecap:round; stroke-linejoin:round; stroke-width:4; stroke-opacity:1; fill:none\" points=\"373.788,1485.57 520.389,1630.09 666.99,1767.73 813.591,1870.96 960.192,1974.19 1106.79,2125.59 1253.39,109.182 1399.99,267.466 1546.6,411.987 1693.2,501.452 1839.8,577.153 1986.4,735.438 2133,873.076 2279.6,1024.48 2426.2,1169 2572.8,1299.76 2719.4,1444.28 2866,1575.03 3012.6,1740.2 3159.2,1864.08 3305.81,2022.36 3452.41,109.182 3599.01,246.82 3745.61,391.341 3892.21,597.799 4038.81,714.792 4185.41,859.313 4332.01,996.951 4478.61,1141.47 4625.21,1334.17 \"/>\n",
       "<polyline clip-path=\"url(#clip232)\" style=\"stroke:#009af9; stroke-linecap:round; stroke-linejoin:round; stroke-width:4; stroke-opacity:1; fill:none\" points=\"373.788,1485.57 520.389,1595.68 666.99,1712.67 813.591,1884.72 960.192,109.182 1106.79,260.584 1253.39,418.869 1399.99,577.153 1546.6,714.792 1693.2,831.785 1839.8,948.778 1986.4,1058.89 2133,1162.12 2279.6,1313.52 2426.2,1478.69 2572.8,1561.27 2719.4,1753.96 2866,1926.01 3012.6,109.182 3159.2,239.938 3305.81,350.049 3452.41,508.334 3599.01,590.917 3745.61,707.91 3892.21,900.604 4038.81,1024.48 4185.41,1113.94 4332.01,1272.23 4478.61,1402.99 4625.21,1547.51 \"/>\n",
       "<polyline clip-path=\"url(#clip232)\" style=\"stroke:#e26f46; stroke-linecap:round; stroke-linejoin:round; stroke-width:4; stroke-opacity:1; fill:none\" points=\"373.788,1485.57 520.389,1609.44 666.99,1685.14 813.591,1829.67 960.192,1953.54 1106.79,109.182 1253.39,233.056 1399.99,377.577 1546.6,556.507 1693.2,714.792 1839.8,914.368 1986.4,1072.65 2133,1169 2279.6,1258.46 2426.2,1423.63 2572.8,1609.44 2719.4,1740.2 2866,1905.37 3012.6,109.182 3159.2,212.411 3305.81,322.522 3452.41,411.987 3599.01,522.098 3745.61,659.736 3892.21,818.021 4038.81,955.66 4185.41,1100.18 4332.01,1237.82 4478.61,1396.1 4625.21,1547.51 \"/>\n",
       "<polyline clip-path=\"url(#clip232)\" style=\"stroke:#3da44d; stroke-linecap:round; stroke-linejoin:round; stroke-width:4; stroke-opacity:1; fill:none\" points=\"373.788,1485.57 520.389,1636.97 666.99,1802.14 813.591,1953.54 960.192,2056.77 1106.79,2153.12 1253.39,109.182 1399.99,239.938 1546.6,411.987 1693.2,542.744 1839.8,666.618 1986.4,762.965 2133,907.486 2279.6,1065.77 2426.2,1210.29 2572.8,1341.05 2719.4,1437.4 2866,1575.03 3012.6,1705.79 3159.2,1877.84 3305.81,109.182 3452.41,246.82 3599.01,370.695 3745.61,487.688 3892.21,604.681 4038.81,735.438 4185.41,886.84 4332.01,1017.6 4478.61,1120.83 4625.21,1244.7 \"/>\n",
       "<polyline clip-path=\"url(#clip232)\" style=\"stroke:#c271d2; stroke-linecap:round; stroke-linejoin:round; stroke-width:4; stroke-opacity:1; fill:none\" points=\"373.788,1485.57 520.389,1643.85 666.99,1795.26 813.591,1919.13 960.192,109.182 1106.79,191.765 1253.39,288.112 1399.99,522.098 1546.6,645.973 1693.2,776.729 1839.8,941.896 1986.4,1141.47 2133,1210.29 2279.6,1334.17 2426.2,1430.51 2572.8,1526.86 2719.4,1685.14 2866,1809.02 3012.6,109.182 3159.2,212.411 3305.81,370.695 3452.41,487.688 3599.01,639.091 3745.61,804.257 3892.21,948.778 4038.81,1045.12 4185.41,1175.88 4332.01,1299.76 4478.61,1451.16 4625.21,1581.92 \"/>\n",
       "<polyline clip-path=\"url(#clip232)\" style=\"stroke:#ac8d18; stroke-linecap:round; stroke-linejoin:round; stroke-width:4; stroke-opacity:1; fill:none\" points=\"373.788,1485.57 520.389,1630.09 666.99,1726.44 813.591,1822.78 960.192,1919.13 1106.79,2029.24 1253.39,2146.23 1399.99,109.182 1546.6,233.056 1693.2,343.167 1839.8,418.869 1986.4,604.681 2133,735.438 2279.6,900.604 2426.2,1003.83 2572.8,1141.47 2719.4,1313.52 2866,1437.4 3012.6,1588.8 3159.2,1698.91 3305.81,1822.78 3452.41,109.182 3599.01,205.529 3745.61,322.522 3892.21,453.278 4038.81,604.681 4185.41,701.028 4332.01,804.257 4478.61,907.486 4625.21,1093.3 \"/>\n",
       "<polyline clip-path=\"url(#clip232)\" style=\"stroke:#00a9ad; stroke-linecap:round; stroke-linejoin:round; stroke-width:4; stroke-opacity:1; fill:none\" points=\"373.788,1485.57 520.389,1636.97 666.99,1747.08 813.591,1891.6 960.192,109.182 1106.79,246.82 1253.39,391.341 1399.99,542.744 1546.6,645.973 1693.2,769.847 1839.8,886.84 1986.4,962.542 2133,1058.89 2279.6,1189.65 2426.2,1341.05 2572.8,1519.98 2719.4,1650.74 2866,1809.02 3012.6,109.182 3159.2,288.112 3305.81,405.105 3452.41,542.744 3599.01,707.91 3745.61,845.549 3892.21,1003.83 4038.81,1169 4185.41,1292.87 4332.01,1485.57 4478.61,1692.03 4625.21,1829.67 \"/>\n",
       "<polyline clip-path=\"url(#clip232)\" style=\"stroke:#ed5d92; stroke-linecap:round; stroke-linejoin:round; stroke-width:4; stroke-opacity:1; fill:none\" points=\"373.788,1485.57 520.389,1630.09 666.99,1753.96 813.591,1932.89 960.192,2049.89 1106.79,109.182 1253.39,246.82 1399.99,391.341 1546.6,522.098 1693.2,652.854 1839.8,776.729 1986.4,859.313 2133,996.951 2279.6,1134.59 2426.2,1272.23 2572.8,1402.99 2719.4,1506.21 2866,1671.38 3012.6,1815.9 3159.2,109.182 3305.81,246.82 3452.41,411.987 3599.01,549.625 3745.61,680.382 3892.21,818.021 4038.81,928.132 4185.41,1100.18 4332.01,1210.29 4478.61,1416.75 4625.21,1547.51 \"/>\n",
       "<polyline clip-path=\"url(#clip232)\" style=\"stroke:#c68125; stroke-linecap:round; stroke-linejoin:round; stroke-width:4; stroke-opacity:1; fill:none\" points=\"373.788,1485.57 520.389,1602.56 666.99,1795.26 813.591,1926.01 960.192,109.182 1106.79,233.056 1253.39,391.341 1399.99,522.098 1546.6,680.382 1693.2,811.139 1839.8,928.132 1986.4,1065.77 2133,1210.29 2279.6,1327.28 2426.2,1513.1 2572.8,1685.14 2719.4,1781.49 2866,1905.37 3012.6,2029.24 3159.2,109.182 3305.81,301.876 3452.41,405.105 3599.01,535.862 3745.61,707.91 3892.21,879.958 4038.81,976.305 4185.41,1086.42 4332.01,1237.82 4478.61,1409.87 4625.21,1519.98 \"/>\n",
       "<polyline clip-path=\"url(#clip232)\" style=\"stroke:#00a98d; stroke-linecap:round; stroke-linejoin:round; stroke-width:4; stroke-opacity:1; fill:none\" points=\"373.788,1485.57 520.389,1643.85 666.99,1774.61 813.591,1485.57 960.192,1616.33 1106.79,1753.96 1253.39,1877.84 1399.99,2001.71 1546.6,2166.88 1693.2,2173.76 1839.8,1485.57 1986.4,1581.92 2133,1692.03 2279.6,1795.26 2426.2,1960.42 2572.8,1485.57 2719.4,1636.97 2866,1767.73 3012.6,1905.37 3159.2,2036.12 3305.81,2160 3452.41,1485.57 3599.01,1595.68 3745.61,1781.49 3892.21,1905.37 4038.81,1485.57 4185.41,1630.09 4332.01,1795.26 4478.61,1485.57 4625.21,1623.21 \"/>\n",
       "<polyline clip-path=\"url(#clip232)\" style=\"stroke:#8e971d; stroke-linecap:round; stroke-linejoin:round; stroke-width:4; stroke-opacity:1; fill:none\" points=\"373.788,1485.57 520.389,1602.56 666.99,1712.67 813.591,1912.25 960.192,2077.42 1106.79,1485.57 1253.39,1630.09 1399.99,1760.85 1546.6,1877.84 1693.2,1485.57 1839.8,1581.92 1986.4,1692.03 2133,1843.43 2279.6,1485.57 2426.2,1650.74 2572.8,1747.08 2719.4,1898.48 2866,2022.36 3012.6,2146.23 3159.2,2173.76 3305.81,1485.57 3452.41,1671.38 3599.01,1822.78 3745.61,1994.83 3892.21,2166.88 4038.81,1485.57 4185.41,1630.09 4332.01,1795.26 4478.61,1932.89 4625.21,2070.53 \"/>\n",
       "<polyline clip-path=\"url(#clip232)\" style=\"stroke:#00a8cb; stroke-linecap:round; stroke-linejoin:round; stroke-width:4; stroke-opacity:1; fill:none\" points=\"373.788,1485.57 520.389,1616.33 666.99,1795.26 813.591,1485.57 960.192,1650.74 1106.79,1829.67 1253.39,1485.57 1399.99,1616.33 1546.6,1747.08 1693.2,1836.55 1839.8,1974.19 1986.4,1485.57 2133,1630.09 2279.6,1747.08 2426.2,1485.57 2572.8,1602.56 2719.4,1740.2 2866,1870.96 3012.6,1994.83 3159.2,1485.57 3305.81,1636.97 3452.41,1767.73 3599.01,1850.31 3745.61,1485.57 3892.21,1643.85 4038.81,1740.2 4185.41,1877.84 4332.01,1485.57 4478.61,1595.68 4625.21,1740.2 \"/>\n",
       "<polyline clip-path=\"url(#clip232)\" style=\"stroke:#9b7fe8; stroke-linecap:round; stroke-linejoin:round; stroke-width:4; stroke-opacity:1; fill:none\" points=\"373.788,1485.57 520.389,1698.91 666.99,1822.78 813.591,1919.13 960.192,1485.57 1106.79,1609.44 1253.39,1733.32 1399.99,1829.67 1546.6,1485.57 1693.2,1602.56 1839.8,1719.55 1986.4,1884.72 2133,1987.95 2279.6,1485.57 2426.2,1671.38 2572.8,1788.37 2719.4,1850.31 2866,1485.57 3012.6,1602.56 3159.2,1719.55 3305.81,1843.43 3452.41,1485.57 3599.01,1588.8 3745.61,1712.67 3892.21,1843.43 4038.81,1485.57 4185.41,1630.09 4332.01,1767.73 4478.61,1932.89 4625.21,2091.18 \"/>\n",
       "<polyline clip-path=\"url(#clip232)\" style=\"stroke:#608cf6; stroke-linecap:round; stroke-linejoin:round; stroke-width:4; stroke-opacity:1; fill:none\" points=\"373.788,1485.57 520.389,1657.62 666.99,1802.14 813.591,1485.57 960.192,1616.33 1106.79,1815.9 1253.39,1939.78 1399.99,1485.57 1546.6,1664.5 1693.2,1795.26 1839.8,1485.57 1986.4,1657.62 2133,1815.9 2279.6,1485.57 2426.2,1643.85 2572.8,1712.67 2719.4,1829.67 2866,1946.66 3012.6,1485.57 3159.2,1630.09 3305.81,1795.26 3452.41,1485.57 3599.01,1623.21 3745.61,1815.9 3892.21,1485.57 4038.81,1630.09 4185.41,1788.37 4332.01,1884.72 4478.61,1485.57 4625.21,1630.09 \"/>\n",
       "<polyline clip-path=\"url(#clip232)\" style=\"stroke:#f05f73; stroke-linecap:round; stroke-linejoin:round; stroke-width:4; stroke-opacity:1; fill:none\" points=\"373.788,1485.57 520.389,1595.68 666.99,1753.96 813.591,1864.08 960.192,2001.71 1106.79,2166.88 1253.39,1485.57 1399.99,1554.39 1546.6,1630.09 1693.2,1767.73 1839.8,1884.72 1986.4,2001.71 2133,1485.57 2279.6,1602.56 2426.2,1753.96 2572.8,1884.72 2719.4,1485.57 2866,1602.56 3012.6,1726.44 3159.2,1877.84 3305.81,2043.01 3452.41,2160 3599.01,2173.76 3745.61,1485.57 3892.21,1636.97 4038.81,1760.85 4185.41,1946.66 4332.01,2118.71 4478.61,1485.57 4625.21,1595.68 \"/>\n",
       "<polyline clip-path=\"url(#clip232)\" style=\"stroke:#dd64b5; stroke-linecap:round; stroke-linejoin:round; stroke-width:4; stroke-opacity:1; fill:none\" points=\"373.788,1485.57 520.389,1643.85 666.99,1781.49 813.591,1926.01 960.192,1485.57 1106.79,1657.62 1253.39,1802.14 1399.99,1974.19 1546.6,1485.57 1693.2,1650.74 1839.8,1795.26 1986.4,1485.57 2133,1636.97 2279.6,1822.78 2426.2,1485.57 2572.8,1602.56 2719.4,1760.85 2866,1829.67 3012.6,1919.13 3159.2,1485.57 3305.81,1602.56 3452.41,1692.03 3599.01,1815.9 3745.61,1967.3 3892.21,2118.71 4038.81,2173.76 4185.41,2173.76 4332.01,2173.76 4478.61,2173.76 4625.21,1485.57 \"/>\n",
       "<polyline clip-path=\"url(#clip232)\" style=\"stroke:#6b9e32; stroke-linecap:round; stroke-linejoin:round; stroke-width:4; stroke-opacity:1; fill:none\" points=\"373.788,1485.57 520.389,1588.8 666.99,1678.26 813.591,1788.37 960.192,1932.89 1106.79,2125.59 1253.39,1485.57 1399.99,1664.5 1546.6,1822.78 1693.2,2029.24 1839.8,2153.12 1986.4,1485.57 2133,1595.68 2279.6,1767.73 2426.2,1891.6 2572.8,1485.57 2719.4,1616.33 2866,1795.26 3012.6,1485.57 3159.2,1568.15 3305.81,1692.03 3452.41,1802.14 3599.01,1485.57 3745.61,1602.56 3892.21,1747.08 4038.81,1946.66 4185.41,1485.57 4332.01,1575.03 4478.61,1733.32 4625.21,1864.08 \"/>\n",
       "<polyline clip-path=\"url(#clip232)\" style=\"stroke:#009af9; stroke-linecap:round; stroke-linejoin:round; stroke-width:4; stroke-opacity:1; fill:none\" points=\"373.788,1485.57 520.389,1657.62 666.99,1857.19 813.591,1485.57 960.192,1657.62 1106.79,1767.73 1253.39,1870.96 1399.99,1485.57 1546.6,1664.5 1693.2,1829.67 1839.8,1485.57 1986.4,1561.27 2133,1719.55 2279.6,1843.43 2426.2,2001.71 2572.8,1485.57 2719.4,1664.5 2866,1767.73 3012.6,1891.6 3159.2,1994.83 3305.81,2173.76 3452.41,2173.76 3599.01,1485.57 3745.61,1650.74 3892.21,1795.26 4038.81,1485.57 4185.41,1595.68 4332.01,1705.79 4478.61,1850.31 4625.21,1485.57 \"/>\n",
       "<polyline clip-path=\"url(#clip232)\" style=\"stroke:#e26f46; stroke-linecap:round; stroke-linejoin:round; stroke-width:4; stroke-opacity:1; fill:none\" points=\"373.788,1485.57 520.389,1678.26 666.99,1802.14 813.591,1953.54 960.192,2111.82 1106.79,2173.76 1253.39,2173.76 1399.99,2173.76 1546.6,2173.76 1693.2,2173.76 1839.8,2173.76 1986.4,1485.57 2133,1678.26 2279.6,1884.72 2426.2,2036.12 2572.8,2173.76 2719.4,2173.76 2866,2173.76 3012.6,2173.76 3159.2,1485.57 3305.81,1678.26 3452.41,1829.67 3599.01,1485.57 3745.61,1650.74 3892.21,1781.49 4038.81,1932.89 4185.41,1485.57 4332.01,1595.68 4478.61,1664.5 4625.21,1781.49 \"/>\n",
       "<polyline clip-path=\"url(#clip232)\" style=\"stroke:#3da44d; stroke-linecap:round; stroke-linejoin:round; stroke-width:4; stroke-opacity:1; fill:none\" points=\"373.788,1485.57 520.389,1568.15 666.99,1719.55 813.591,1836.55 960.192,1141.47 1106.79,1334.17 1253.39,1451.16 1399.99,1561.27 1546.6,1664.5 1693.2,1891.6 1839.8,2022.36 1986.4,2173.76 2133,1141.47 2279.6,1265.35 2426.2,1423.63 2572.8,1588.8 2719.4,1698.91 2866,1857.19 3012.6,1141.47 3159.2,1272.23 3305.81,1402.99 3452.41,1540.62 3599.01,1630.09 3745.61,1781.49 3892.21,1926.01 4038.81,2070.53 4185.41,2173.76 4332.01,2173.76 4478.61,1141.47 4625.21,1279.11 \"/>\n",
       "<polyline clip-path=\"url(#clip232)\" style=\"stroke:#c271d2; stroke-linecap:round; stroke-linejoin:round; stroke-width:4; stroke-opacity:1; fill:none\" points=\"373.788,1485.57 520.389,1623.21 666.99,1774.61 813.591,1141.47 960.192,1292.87 1106.79,1471.8 1253.39,1568.15 1399.99,1733.32 1546.6,1870.96 1693.2,1141.47 1839.8,1292.87 1986.4,1464.92 2133,1568.15 2279.6,1733.32 2426.2,1857.19 2572.8,1953.54 2719.4,1141.47 2866,1265.35 3012.6,1361.69 3159.2,1458.04 3305.81,1609.44 3452.41,1692.03 3599.01,1795.26 3745.61,1141.47 3892.21,1327.28 4038.81,1513.1 4185.41,1692.03 4332.01,1809.02 4478.61,1141.47 4625.21,1251.58 \"/>\n",
       "<polyline clip-path=\"url(#clip232)\" style=\"stroke:#ac8d18; stroke-linecap:round; stroke-linejoin:round; stroke-width:4; stroke-opacity:1; fill:none\" points=\"373.788,1485.57 520.389,1636.97 666.99,1733.32 813.591,1829.67 960.192,1141.47 1106.79,1285.99 1253.39,1402.99 1399.99,1554.39 1546.6,1733.32 1693.2,1870.96 1839.8,1981.07 1986.4,1141.47 2133,1320.4 2279.6,1464.92 2426.2,1636.97 2572.8,1747.08 2719.4,1870.96 2866,1967.3 3012.6,1141.47 3159.2,1299.76 3305.81,1444.28 3452.41,1609.44 3599.01,1781.49 3745.61,1891.6 3892.21,1141.47 4038.81,1292.87 4185.41,1416.75 4332.01,1526.86 4478.61,1657.62 4625.21,1822.78 \"/>\n",
       "<polyline clip-path=\"url(#clip232)\" style=\"stroke:#00a9ad; stroke-linecap:round; stroke-linejoin:round; stroke-width:4; stroke-opacity:1; fill:none\" points=\"373.788,1485.57 520.389,1609.44 666.99,1774.61 813.591,1857.19 960.192,1974.19 1106.79,1141.47 1253.39,1320.4 1399.99,1478.69 1546.6,1602.56 1693.2,1795.26 1839.8,1141.47 1986.4,1258.46 2133,1389.22 2279.6,1568.15 2426.2,1740.2 2572.8,1884.72 2719.4,2029.24 2866,1141.47 3012.6,1244.7 3159.2,1375.46 3305.81,1437.4 3452.41,1547.51 3599.01,1664.5 3745.61,1788.37 3892.21,1877.84 4038.81,2049.89 4185.41,2146.23 4332.01,1141.47 4478.61,1334.17 4625.21,1499.33 \"/>\n",
       "<polyline clip-path=\"url(#clip232)\" style=\"stroke:#ed5d92; stroke-linecap:round; stroke-linejoin:round; stroke-width:4; stroke-opacity:1; fill:none\" points=\"373.788,1485.57 520.389,1657.62 666.99,1822.78 813.591,2029.24 960.192,1141.47 1106.79,1327.28 1253.39,1409.87 1399.99,1513.1 1546.6,1671.38 1693.2,1864.08 1839.8,1141.47 1986.4,1292.87 2133,1451.16 2279.6,1595.68 2426.2,1726.44 2572.8,1857.19 2719.4,1141.47 2866,1285.99 3012.6,1430.51 3159.2,1547.51 3305.81,1705.79 3452.41,1870.96 3599.01,1141.47 3745.61,1279.11 3892.21,1396.1 4038.81,1547.51 4185.41,1685.14 4332.01,1788.37 4478.61,1953.54 4625.21,1141.47 \"/>\n",
       "<polyline clip-path=\"url(#clip232)\" style=\"stroke:#c68125; stroke-linecap:round; stroke-linejoin:round; stroke-width:4; stroke-opacity:1; fill:none\" points=\"373.788,1485.57 520.389,1595.68 666.99,1760.85 813.591,1891.6 960.192,1141.47 1106.79,1258.46 1253.39,1382.34 1399.99,1451.16 1546.6,1575.03 1693.2,1747.08 1839.8,1912.25 1986.4,2084.3 2133,2173.76 2279.6,1141.47 2426.2,1285.99 2572.8,1430.51 2719.4,1588.8 2866,1698.91 3012.6,1884.72 3159.2,1141.47 3305.81,1244.7 3452.41,1444.28 3599.01,1575.03 3745.61,1740.2 3892.21,1141.47 4038.81,1306.64 4185.41,1471.8 4332.01,1547.51 4478.61,1678.26 4625.21,1781.49 \"/>\n",
       "<polyline clip-path=\"url(#clip232)\" style=\"stroke:#00a98d; stroke-linecap:round; stroke-linejoin:round; stroke-width:4; stroke-opacity:1; fill:none\" points=\"373.788,1485.57 520.389,1568.15 666.99,1692.03 813.591,1802.14 960.192,1946.66 1106.79,1141.47 1253.39,1265.35 1399.99,1306.64 1546.6,1444.28 1693.2,1616.33 1839.8,1733.32 1986.4,1836.55 2133,1141.47 2279.6,1230.94 2426.2,1354.81 2572.8,1519.98 2719.4,1616.33 2866,1712.67 3012.6,1815.9 3159.2,1141.47 3305.81,1265.35 3452.41,1471.8 3599.01,1588.8 3745.61,1719.55 3892.21,1141.47 4038.81,1244.7 4185.41,1382.34 4332.01,1519.98 4478.61,1671.38 4625.21,1815.9 \"/>\n",
       "<polyline clip-path=\"url(#clip232)\" style=\"stroke:#8e971d; stroke-linecap:round; stroke-linejoin:round; stroke-width:4; stroke-opacity:1; fill:none\" points=\"373.788,1485.57 520.389,1609.44 666.99,1781.49 813.591,1905.37 960.192,2029.24 1106.79,2173.76 1253.39,2173.76 1399.99,1141.47 1546.6,1251.58 1693.2,1430.51 1839.8,1602.56 1986.4,1712.67 2133,1829.67 2279.6,1141.47 2426.2,1265.35 2572.8,1375.46 2719.4,1478.69 2866,1616.33 3012.6,1760.85 3159.2,1912.25 3305.81,2022.36 3452.41,1141.47 3599.01,1230.94 3745.61,1347.93 3892.21,1464.92 4038.81,1623.21 4185.41,1802.14 4332.01,1926.01 4478.61,2049.89 4625.21,2173.76 \"/>\n",
       "<polyline clip-path=\"url(#clip232)\" style=\"stroke:#00a8cb; stroke-linecap:round; stroke-linejoin:round; stroke-width:4; stroke-opacity:1; fill:none\" points=\"373.788,1485.57 520.389,1588.8 666.99,1733.32 813.591,1898.48 960.192,2098.06 1106.79,1141.47 1253.39,1285.99 1399.99,1382.34 1546.6,1581.92 1693.2,1664.5 1839.8,1843.43 1986.4,1974.19 2133,1141.47 2279.6,1299.76 2426.2,1382.34 2572.8,1561.27 2719.4,1753.96 2866,1141.47 3012.6,1258.46 3159.2,1334.17 3305.81,1533.74 3452.41,1664.5 3599.01,1781.49 3745.61,1141.47 3892.21,1361.69 4038.81,1513.1 4185.41,1595.68 4332.01,1726.44 4478.61,1891.6 4625.21,2056.77 \"/>\n",
       "<polyline clip-path=\"url(#clip232)\" style=\"stroke:#9b7fe8; stroke-linecap:round; stroke-linejoin:round; stroke-width:4; stroke-opacity:1; fill:none\" points=\"373.788,1485.57 520.389,1630.09 666.99,1747.08 813.591,1870.96 960.192,2015.48 1106.79,2125.59 1253.39,1141.47 1399.99,1299.76 1546.6,1464.92 1693.2,1630.09 1839.8,1747.08 1986.4,1870.96 2133,1141.47 2279.6,1272.23 2426.2,1416.75 2572.8,1533.74 2719.4,1657.62 2866,1802.14 3012.6,1141.47 3159.2,1320.4 3305.81,1458.04 3452.41,1575.03 3599.01,1760.85 3745.61,1919.13 3892.21,2022.36 4038.81,2146.23 4185.41,2173.76 4332.01,2173.76 4478.61,1141.47 4625.21,1272.23 \"/>\n",
       "<polyline clip-path=\"url(#clip232)\" style=\"stroke:#608cf6; stroke-linecap:round; stroke-linejoin:round; stroke-width:4; stroke-opacity:1; fill:none\" points=\"373.788,1485.57 520.389,1616.33 666.99,1760.85 813.591,1864.08 960.192,797.375 1106.79,914.368 1253.39,1065.77 1399.99,1203.41 1546.6,1341.05 1693.2,1478.69 1839.8,1650.74 1986.4,1747.08 2133,1912.25 2279.6,2070.53 2426.2,797.375 2572.8,1010.72 2719.4,1134.59 2866,1327.28 3012.6,1409.87 3159.2,1540.62 3305.81,1719.55 3452.41,1829.67 3599.01,797.375 3745.61,928.132 3892.21,1065.77 4038.81,1175.88 4185.41,1292.87 4332.01,1430.51 4478.61,1561.27 4625.21,1712.67 \"/>\n",
       "<polyline clip-path=\"url(#clip232)\" style=\"stroke:#f05f73; stroke-linecap:round; stroke-linejoin:round; stroke-width:4; stroke-opacity:1; fill:none\" points=\"373.788,1485.57 520.389,1630.09 666.99,1781.49 813.591,797.375 960.192,914.368 1106.79,1045.12 1253.39,1196.53 1399.99,1354.81 1546.6,1506.21 1693.2,1671.38 1839.8,1836.55 1986.4,797.375 2133,928.132 2279.6,1107.06 2426.2,1203.41 2572.8,1368.58 2719.4,1540.62 2866,1685.14 3012.6,1809.02 3159.2,797.375 3305.81,900.604 3452.41,1003.83 3599.01,1141.47 3745.61,1258.46 3892.21,1396.1 4038.81,1547.51 4185.41,1616.33 4332.01,1698.91 4478.61,1829.67 4625.21,797.375 \"/>\n",
       "<polyline clip-path=\"url(#clip232)\" style=\"stroke:#dd64b5; stroke-linecap:round; stroke-linejoin:round; stroke-width:4; stroke-opacity:1; fill:none\" points=\"373.788,1485.57 520.389,1609.44 666.99,1726.44 813.591,1877.84 960.192,797.375 1106.79,941.896 1253.39,1086.42 1399.99,1203.41 1546.6,1347.93 1693.2,1499.33 1839.8,1650.74 1986.4,1726.44 2133,1932.89 2279.6,797.375 2426.2,907.486 2572.8,1038.24 2719.4,1203.41 2866,1320.4 3012.6,1451.16 3159.2,1575.03 3305.81,1698.91 3452.41,1829.67 3599.01,2022.36 3745.61,797.375 3892.21,948.778 4038.81,1141.47 4185.41,1237.82 4332.01,1382.34 4478.61,1533.74 4625.21,1623.21 \"/>\n",
       "<polyline clip-path=\"url(#clip232)\" style=\"stroke:#6b9e32; stroke-linecap:round; stroke-linejoin:round; stroke-width:4; stroke-opacity:1; fill:none\" points=\"373.788,1485.57 520.389,1602.56 666.99,1719.55 813.591,797.375 960.192,900.604 1106.79,1031.36 1253.39,1148.35 1399.99,1320.4 1546.6,1444.28 1693.2,1547.51 1839.8,1643.85 1986.4,1809.02 2133,797.375 2279.6,990.069 2426.2,1196.53 2572.8,1375.46 2719.4,1513.1 2866,1636.97 3012.6,1781.49 3159.2,1932.89 3305.81,2049.89 3452.41,2173.76 3599.01,2173.76 3745.61,797.375 3892.21,962.542 4038.81,1079.53 4185.41,1162.12 4332.01,1285.99 4478.61,1430.51 4625.21,1595.68 \"/>\n",
       "<polyline clip-path=\"url(#clip232)\" style=\"stroke:#009af9; stroke-linecap:round; stroke-linejoin:round; stroke-width:4; stroke-opacity:1; fill:none\" points=\"373.788,1485.57 520.389,1561.27 666.99,1650.74 813.591,1774.61 960.192,1946.66 1106.79,2056.77 1253.39,797.375 1399.99,969.424 1546.6,1127.71 1693.2,1210.29 1839.8,1396.1 1986.4,1554.39 2133,1685.14 2279.6,1822.78 2426.2,797.375 2572.8,1003.83 2719.4,1100.18 2866,1224.06 3012.6,1396.1 3159.2,1554.39 3305.81,1698.91 3452.41,1864.08 3599.01,797.375 3745.61,928.132 3892.21,1100.18 4038.81,1224.06 4185.41,1409.87 4332.01,1526.86 4478.61,1643.85 4625.21,1788.37 \"/>\n",
       "<polyline clip-path=\"url(#clip232)\" style=\"stroke:#e26f46; stroke-linecap:round; stroke-linejoin:round; stroke-width:4; stroke-opacity:1; fill:none\" points=\"373.788,1485.57 520.389,1650.74 666.99,1781.49 813.591,1884.72 960.192,797.375 1106.79,935.014 1253.39,1107.06 1399.99,1292.87 1546.6,1437.4 1693.2,1602.56 1839.8,1712.67 1986.4,797.375 2133,928.132 2279.6,1052.01 2426.2,1189.65 2572.8,1327.28 2719.4,1464.92 2866,1623.21 3012.6,1850.31 3159.2,1981.07 3305.81,797.375 3452.41,955.66 3599.01,1127.71 3745.61,1237.82 3892.21,1354.81 4038.81,1471.8 4185.41,1609.44 4332.01,1740.2 4478.61,1864.08 4625.21,797.375 \"/>\n",
       "<polyline clip-path=\"url(#clip232)\" style=\"stroke:#3da44d; stroke-linecap:round; stroke-linejoin:round; stroke-width:4; stroke-opacity:1; fill:none\" points=\"373.788,1485.57 520.389,1630.09 666.99,1760.85 813.591,1898.48 960.192,797.375 1106.79,900.604 1253.39,1065.77 1399.99,1141.47 1546.6,1285.99 1693.2,1423.63 1839.8,1513.1 1986.4,1650.74 2133,1843.43 2279.6,1967.3 2426.2,2084.3 2572.8,2173.76 2719.4,797.375 2866,996.951 3012.6,1217.17 3159.2,1354.81 3305.81,1471.8 3452.41,1616.33 3599.01,1726.44 3745.61,1864.08 3892.21,2001.71 4038.81,2125.59 4185.41,2173.76 4332.01,797.375 4478.61,907.486 4625.21,1052.01 \"/>\n",
       "<polyline clip-path=\"url(#clip232)\" style=\"stroke:#c271d2; stroke-linecap:round; stroke-linejoin:round; stroke-width:4; stroke-opacity:1; fill:none\" points=\"373.788,1485.57 520.389,1657.62 666.99,1836.55 813.591,1994.83 960.192,797.375 1106.79,941.896 1253.39,1065.77 1399.99,1210.29 1546.6,1382.34 1693.2,1554.39 1839.8,1740.2 1986.4,1870.96 2133,797.375 2279.6,859.313 2426.2,976.305 2572.8,1107.06 2719.4,1327.28 2866,1471.8 3012.6,1623.21 3159.2,1781.49 3305.81,797.375 3452.41,914.368 3599.01,1065.77 3745.61,1155.24 3892.21,1292.87 4038.81,1458.04 4185.41,1575.03 4332.01,1747.08 4478.61,1898.48 4625.21,797.375 \"/>\n",
       "<polyline clip-path=\"url(#clip232)\" style=\"stroke:#ac8d18; stroke-linecap:round; stroke-linejoin:round; stroke-width:4; stroke-opacity:1; fill:none\" points=\"373.788,1485.57 520.389,1616.33 666.99,1733.32 813.591,1870.96 960.192,797.375 1106.79,893.722 1253.39,1024.48 1399.99,1155.24 1546.6,1292.87 1693.2,1430.51 1839.8,1616.33 1986.4,1795.26 2133,1912.25 2279.6,2063.65 2426.2,797.375 2572.8,948.778 2719.4,1024.48 2866,1120.83 3012.6,1299.76 3159.2,1402.99 3305.81,1568.15 3452.41,1671.38 3599.01,1815.9 3745.61,1939.78 3892.21,2111.82 4038.81,797.375 4185.41,941.896 4332.01,1086.42 4478.61,1265.35 4625.21,1444.28 \"/>\n",
       "<polyline clip-path=\"url(#clip232)\" style=\"stroke:#00a9ad; stroke-linecap:round; stroke-linejoin:round; stroke-width:4; stroke-opacity:1; fill:none\" points=\"373.788,1485.57 520.389,1664.5 666.99,1795.26 813.591,797.375 960.192,928.132 1106.79,1024.48 1253.39,1141.47 1399.99,1306.64 1546.6,1416.75 1693.2,1540.62 1839.8,1678.26 1986.4,1815.9 2133,1960.42 2279.6,797.375 2426.2,921.25 2572.8,1058.89 2719.4,1244.7 2866,1430.51 3012.6,1609.44 3159.2,1733.32 3305.81,1898.48 3452.41,797.375 3599.01,907.486 3745.61,1017.6 3892.21,1127.71 4038.81,1279.11 4185.41,1444.28 4332.01,1519.98 4478.61,1595.68 4625.21,1753.96 \"/>\n",
       "<polyline clip-path=\"url(#clip232)\" style=\"stroke:#ed5d92; stroke-linecap:round; stroke-linejoin:round; stroke-width:4; stroke-opacity:1; fill:none\" points=\"373.788,1485.57 520.389,1657.62 666.99,1781.49 813.591,1919.13 960.192,453.278 1106.79,522.098 1253.39,639.091 1399.99,756.084 1546.6,921.25 1693.2,1072.65 1839.8,1224.06 1986.4,1409.87 2133,1540.62 2279.6,1712.67 2426.2,1822.78 2572.8,453.278 2719.4,556.507 2866,701.028 3012.6,776.729 3159.2,928.132 3305.81,1045.12 3452.41,1189.65 3599.01,1368.58 3745.61,1499.33 3892.21,1733.32 4038.81,1857.19 4185.41,2001.71 4332.01,453.278 4478.61,611.563 4625.21,769.847 \"/>\n",
       "<polyline clip-path=\"url(#clip232)\" style=\"stroke:#c68125; stroke-linecap:round; stroke-linejoin:round; stroke-width:4; stroke-opacity:1; fill:none\" points=\"373.788,1485.57 520.389,1595.68 666.99,1760.85 813.591,1939.78 960.192,453.278 1106.79,584.035 1253.39,714.792 1399.99,783.611 1546.6,873.076 1693.2,1010.72 1839.8,1162.12 1986.4,1320.4 2133,1430.51 2279.6,1540.62 2426.2,1671.38 2572.8,1795.26 2719.4,1946.66 2866,453.278 3012.6,597.799 3159.2,687.264 3305.81,852.431 3452.41,948.778 3599.01,1072.65 3745.61,1217.17 3892.21,1382.34 4038.81,1485.57 4185.41,1636.97 4332.01,1712.67 4478.61,1877.84 4625.21,2008.6 \"/>\n",
       "<polyline clip-path=\"url(#clip232)\" style=\"stroke:#00a98d; stroke-linecap:round; stroke-linejoin:round; stroke-width:4; stroke-opacity:1; fill:none\" points=\"373.788,1485.57 520.389,1568.15 666.99,1747.08 813.591,1850.31 960.192,453.278 1106.79,590.917 1253.39,707.91 1399.99,818.021 1546.6,1017.6 1693.2,1148.35 1839.8,1251.58 1986.4,1389.22 2133,1506.21 2279.6,1602.56 2426.2,1726.44 2572.8,1870.96 2719.4,453.278 2866,604.681 3012.6,776.729 3159.2,866.195 3305.81,969.424 3452.41,1058.89 3599.01,1148.35 3745.61,1313.52 3892.21,1416.75 4038.81,1623.21 4185.41,1767.73 4332.01,1891.6 4478.61,453.278 4625.21,584.035 \"/>\n",
       "<polyline clip-path=\"url(#clip232)\" style=\"stroke:#8e971d; stroke-linecap:round; stroke-linejoin:round; stroke-width:4; stroke-opacity:1; fill:none\" points=\"373.788,1485.57 520.389,1609.44 666.99,1747.08 813.591,1864.08 960.192,453.278 1106.79,604.681 1253.39,735.438 1399.99,879.958 1546.6,1024.48 1693.2,1148.35 1839.8,1265.35 1986.4,1375.46 2133,1485.57 2279.6,1602.56 2426.2,1781.49 2572.8,453.278 2719.4,611.563 2866,728.556 3012.6,893.722 3159.2,1079.53 3305.81,1175.88 3452.41,1299.76 3599.01,1471.8 3745.61,1636.97 3892.21,1719.55 4038.81,1809.02 4185.41,453.278 4332.01,611.563 4478.61,742.32 4625.21,845.549 \"/>\n",
       "<polyline clip-path=\"url(#clip232)\" style=\"stroke:#00a8cb; stroke-linecap:round; stroke-linejoin:round; stroke-width:4; stroke-opacity:1; fill:none\" points=\"373.788,1485.57 520.389,1630.09 666.99,1705.79 813.591,1857.19 960.192,1946.66 1106.79,453.278 1253.39,549.625 1399.99,701.028 1546.6,859.313 1693.2,962.542 1839.8,1120.83 1986.4,1237.82 2133,1354.81 2279.6,1478.69 2426.2,1623.21 2572.8,1788.37 2719.4,1967.3 2866,2077.42 3012.6,2173.76 3159.2,453.278 3305.81,556.507 3452.41,687.264 3599.01,838.667 3745.61,962.542 3892.21,1086.42 4038.81,1265.35 4185.41,1396.1 4332.01,1513.1 4478.61,1657.62 4625.21,1836.55 \"/>\n",
       "<polyline clip-path=\"url(#clip232)\" style=\"stroke:#9b7fe8; stroke-linecap:round; stroke-linejoin:round; stroke-width:4; stroke-opacity:1; fill:none\" points=\"373.788,1485.57 520.389,1623.21 666.99,1753.96 813.591,1864.08 960.192,453.278 1106.79,570.271 1253.39,721.674 1399.99,818.021 1546.6,935.014 1693.2,1093.3 1839.8,1224.06 1986.4,1354.81 2133,1513.1 2279.6,1616.33 2426.2,1760.85 2572.8,1870.96 2719.4,453.278 2866,556.507 3012.6,728.556 3159.2,845.549 3305.81,962.542 3452.41,1107.06 3599.01,1251.58 3745.61,1402.99 3892.21,1575.03 4038.81,1692.03 4185.41,1815.9 4332.01,1905.37 4478.61,453.278 4625.21,590.917 \"/>\n",
       "<polyline clip-path=\"url(#clip232)\" style=\"stroke:#608cf6; stroke-linecap:round; stroke-linejoin:round; stroke-width:4; stroke-opacity:1; fill:none\" points=\"373.788,1485.57 520.389,1685.14 666.99,1815.9 813.591,453.278 960.192,563.389 1106.79,659.736 1253.39,735.438 1399.99,900.604 1546.6,1058.89 1693.2,1265.35 1839.8,1396.1 1986.4,1540.62 2133,1705.79 2279.6,1809.02 2426.2,453.278 2572.8,618.445 2719.4,783.611 2866,948.778 3012.6,1065.77 3159.2,1217.17 3305.81,1402.99 3452.41,1568.15 3599.01,1747.08 3745.61,1919.13 3892.21,2132.47 4038.81,453.278 4185.41,563.389 4332.01,735.438 4478.61,907.486 4625.21,996.951 \"/>\n",
       "<polyline clip-path=\"url(#clip232)\" style=\"stroke:#f05f73; stroke-linecap:round; stroke-linejoin:round; stroke-width:4; stroke-opacity:1; fill:none\" points=\"373.788,1485.57 520.389,1602.56 666.99,1685.14 813.591,1836.55 960.192,1912.25 1106.79,453.278 1253.39,556.507 1399.99,618.445 1546.6,742.32 1693.2,914.368 1839.8,1086.42 1986.4,1203.41 2133,1313.52 2279.6,1492.45 2426.2,1602.56 2572.8,1747.08 2719.4,453.278 2866,652.854 3012.6,756.084 3159.2,928.132 3305.81,1113.94 3452.41,1265.35 3599.01,1361.69 3745.61,1444.28 3892.21,1630.09 4038.81,1767.73 4185.41,1926.01 4332.01,2098.06 4478.61,2173.76 4625.21,453.278 \"/>\n",
       "<polyline clip-path=\"url(#clip232)\" style=\"stroke:#dd64b5; stroke-linecap:round; stroke-linejoin:round; stroke-width:4; stroke-opacity:1; fill:none\" points=\"373.788,1485.57 520.389,1630.09 666.99,1774.61 813.591,1822.78 960.192,1912.25 1106.79,453.278 1253.39,625.327 1399.99,804.257 1546.6,948.778 1693.2,1141.47 1839.8,1299.76 1986.4,1478.69 2133,1616.33 2279.6,1781.49 2426.2,1926.01 2572.8,453.278 2719.4,597.799 2866,790.493 3012.6,886.84 3159.2,1024.48 3305.81,1162.12 3452.41,1230.94 3599.01,1327.28 3745.61,1485.57 3892.21,1678.26 4038.81,1809.02 4185.41,453.278 4332.01,597.799 4478.61,756.084 4625.21,928.132 \"/>\n",
       "<polyline clip-path=\"url(#clip232)\" style=\"stroke:#6b9e32; stroke-linecap:round; stroke-linejoin:round; stroke-width:4; stroke-opacity:1; fill:none\" points=\"373.788,1485.57 520.389,1568.15 666.99,1712.67 813.591,1781.49 960.192,1905.37 1106.79,2098.06 1253.39,453.278 1399.99,563.389 1546.6,714.792 1693.2,866.195 1839.8,1052.01 1986.4,1244.7 2133,1354.81 2279.6,1499.33 2426.2,1643.85 2572.8,1788.37 2719.4,1912.25 2866,2049.89 3012.6,2173.76 3159.2,2173.76 3305.81,453.278 3452.41,570.271 3599.01,687.264 3745.61,886.84 3892.21,1017.6 4038.81,1162.12 4185.41,1279.11 4332.01,1368.58 4478.61,1575.03 4625.21,1760.85 \"/>\n",
       "<polyline clip-path=\"url(#clip232)\" style=\"stroke:#009af9; stroke-linecap:round; stroke-linejoin:round; stroke-width:4; stroke-opacity:1; fill:none\" points=\"373.788,1485.57 520.389,1609.44 666.99,1747.08 813.591,1843.43 960.192,1967.3 1106.79,109.182 1253.39,274.348 1399.99,439.514 1546.6,618.445 1693.2,714.792 1839.8,824.903 1986.4,990.069 2133,1107.06 2279.6,1224.06 2426.2,1402.99 2572.8,1519.98 2719.4,1636.97 2866,1850.31 3012.6,1987.95 3159.2,2146.23 3305.81,109.182 3452.41,260.584 3599.01,391.341 3745.61,508.334 3892.21,618.445 4038.81,707.91 4185.41,831.785 4332.01,948.778 4478.61,1086.42 4625.21,1210.29 \"/>\n",
       "<polyline clip-path=\"url(#clip232)\" style=\"stroke:#e26f46; stroke-linecap:round; stroke-linejoin:round; stroke-width:4; stroke-opacity:1; fill:none\" points=\"373.788,1485.57 520.389,1643.85 666.99,1795.26 813.591,1994.83 960.192,2132.47 1106.79,109.182 1253.39,205.529 1399.99,363.813 1546.6,501.452 1693.2,618.445 1839.8,804.257 1986.4,900.604 2133,1058.89 2279.6,1251.58 2426.2,1409.87 2572.8,1554.39 2719.4,1698.91 2866,1850.31 3012.6,109.182 3159.2,226.174 3305.81,398.223 3452.41,556.507 3599.01,701.028 3745.61,859.313 3892.21,948.778 4038.81,1113.94 4185.41,1258.46 4332.01,1437.4 4478.61,1554.39 4625.21,1705.79 \"/>\n",
       "<polyline clip-path=\"url(#clip232)\" style=\"stroke:#3da44d; stroke-linecap:round; stroke-linejoin:round; stroke-width:4; stroke-opacity:1; fill:none\" points=\"373.788,1485.57 520.389,1623.21 666.99,1788.37 813.591,1884.72 960.192,109.182 1106.79,239.938 1253.39,384.459 1399.99,542.744 1546.6,659.736 1693.2,804.257 1839.8,976.305 1986.4,1120.83 2133,1251.58 2279.6,1347.93 2426.2,1526.86 2572.8,1623.21 2719.4,1760.85 2866,109.182 3012.6,260.584 3159.2,391.341 3305.81,542.744 3452.41,707.91 3599.01,824.903 3745.61,941.896 3892.21,1058.89 4038.81,1210.29 4185.41,1389.22 4332.01,1554.39 4478.61,1650.74 4625.21,1753.96 \"/>\n",
       "<polyline clip-path=\"url(#clip232)\" style=\"stroke:#c271d2; stroke-linecap:round; stroke-linejoin:round; stroke-width:4; stroke-opacity:1; fill:none\" points=\"373.788,1485.57 520.389,1609.44 666.99,1760.85 813.591,1884.72 960.192,2091.18 1106.79,2173.76 1253.39,109.182 1399.99,233.056 1546.6,370.695 1693.2,487.688 1839.8,625.327 1986.4,756.084 2133,921.25 2279.6,1113.94 2426.2,1265.35 2572.8,1389.22 2719.4,1547.51 2866,1650.74 3012.6,1767.73 3159.2,1891.6 3305.81,1981.07 3452.41,2077.42 3599.01,109.182 3745.61,267.466 3892.21,411.987 4038.81,590.917 4185.41,762.965 4332.01,886.84 4478.61,996.951 4625.21,1120.83 \"/>\n",
       "<polyline clip-path=\"url(#clip232)\" style=\"stroke:#ac8d18; stroke-linecap:round; stroke-linejoin:round; stroke-width:4; stroke-opacity:1; fill:none\" points=\"373.788,1485.57 520.389,1650.74 666.99,1774.61 813.591,1864.08 960.192,109.182 1106.79,212.411 1253.39,363.813 1399.99,453.278 1546.6,611.563 1693.2,735.438 1839.8,928.132 1986.4,1045.12 2133,1162.12 2279.6,1272.23 2426.2,1409.87 2572.8,1540.62 2719.4,1705.79 2866,1829.67 3012.6,1946.66 3159.2,2056.77 3305.81,109.182 3452.41,246.82 3599.01,418.869 3745.61,563.389 3892.21,714.792 4038.81,838.667 4185.41,941.896 4332.01,1120.83 4478.61,1244.7 4625.21,1389.22 \"/>\n",
       "<polyline clip-path=\"url(#clip232)\" style=\"stroke:#00a9ad; stroke-linecap:round; stroke-linejoin:round; stroke-width:4; stroke-opacity:1; fill:none\" points=\"373.788,1485.57 520.389,1616.33 666.99,1733.32 813.591,1870.96 960.192,109.182 1106.79,219.293 1253.39,336.285 1399.99,563.389 1546.6,735.438 1693.2,914.368 1839.8,1038.24 1986.4,1182.76 2133,1375.46 2279.6,1526.86 2426.2,1630.09 2572.8,1767.73 2719.4,1877.84 2866,2015.48 3012.6,109.182 3159.2,288.112 3305.81,384.459 3452.41,501.452 3599.01,611.563 3745.61,742.32 3892.21,866.195 4038.81,1038.24 4185.41,1244.7 4332.01,1361.69 4478.61,1478.69 4625.21,1636.97 \"/>\n",
       "<polyline clip-path=\"url(#clip232)\" style=\"stroke:#ed5d92; stroke-linecap:round; stroke-linejoin:round; stroke-width:4; stroke-opacity:1; fill:none\" points=\"373.788,1485.57 520.389,1595.68 666.99,1692.03 813.591,1870.96 960.192,109.182 1106.79,226.174 1253.39,370.695 1399.99,508.334 1546.6,625.327 1693.2,831.785 1839.8,1010.72 1986.4,1141.47 2133,1292.87 2279.6,1416.75 2426.2,1561.27 2572.8,1650.74 2719.4,1767.73 2866,2001.71 3012.6,2146.23 3159.2,109.182 3305.81,219.293 3452.41,336.285 3599.01,473.924 3745.61,618.445 3892.21,728.556 4038.81,838.667 4185.41,962.542 4332.01,1100.18 4478.61,1237.82 4625.21,1375.46 \"/>\n",
       "<polyline clip-path=\"url(#clip232)\" style=\"stroke:#c68125; stroke-linecap:round; stroke-linejoin:round; stroke-width:4; stroke-opacity:1; fill:none\" points=\"373.788,1485.57 520.389,1602.56 666.99,1733.32 813.591,1850.31 960.192,109.182 1106.79,260.584 1253.39,363.813 1399.99,480.806 1546.6,652.854 1693.2,797.375 1839.8,928.132 1986.4,1093.3 2133,1230.94 2279.6,1361.69 2426.2,1506.21 2572.8,1671.38 2719.4,1740.2 2866,1919.13 3012.6,2091.18 3159.2,109.182 3305.81,281.23 3452.41,446.396 3599.01,611.563 3745.61,776.729 3892.21,941.896 4038.81,1086.42 4185.41,1203.41 4332.01,1313.52 4478.61,1409.87 4625.21,1554.39 \"/>\n",
       "<polyline clip-path=\"url(#clip232)\" style=\"stroke:#00a98d; stroke-linecap:round; stroke-linejoin:round; stroke-width:4; stroke-opacity:1; fill:none\" points=\"373.788,1485.57 520.389,1643.85 666.99,1767.73 813.591,1946.66 960.192,2111.82 1106.79,2173.76 1253.39,2173.76 1399.99,2173.76 1546.6,2173.76 1693.2,2173.76 1839.8,2173.76 1986.4,109.182 2133,219.293 2279.6,308.758 2426.2,425.751 2572.8,611.563 2719.4,776.729 2866,886.84 3012.6,1038.24 3159.2,1162.12 3305.81,1265.35 3452.41,1430.51 3599.01,1554.39 3745.61,1698.91 3892.21,1829.67 4038.81,1974.19 4185.41,2098.06 4332.01,2173.76 4478.61,109.182 4625.21,308.758 \"/>\n",
       "<polyline clip-path=\"url(#clip232)\" style=\"stroke:#8e971d; stroke-linecap:round; stroke-linejoin:round; stroke-width:4; stroke-opacity:1; fill:none\" points=\"373.788,1485.57 520.389,1623.21 666.99,1774.61 813.591,1953.54 960.192,2111.82 1106.79,2173.76 1253.39,109.182 1399.99,274.348 1546.6,432.633 1693.2,584.035 1839.8,749.202 1986.4,893.722 2133,1017.6 2279.6,1127.71 2426.2,1265.35 2572.8,1396.1 2719.4,1540.62 2866,1650.74 3012.6,1788.37 3159.2,109.182 3305.81,226.174 3452.41,356.931 3599.01,473.924 3745.61,659.736 3892.21,790.493 4038.81,962.542 4185.41,1127.71 4332.01,1237.82 4478.61,1402.99 4625.21,1485.57 \"/>\n",
       "<polyline clip-path=\"url(#clip232)\" style=\"stroke:#00a8cb; stroke-linecap:round; stroke-linejoin:round; stroke-width:4; stroke-opacity:1; fill:none\" points=\"373.788,1485.57 520.389,1636.97 666.99,1774.61 813.591,1485.57 960.192,1643.85 1106.79,1802.14 1253.39,1485.57 1399.99,1650.74 1546.6,1753.96 1693.2,1912.25 1839.8,2056.77 1986.4,2173.76 2133,2173.76 2279.6,1485.57 2426.2,1643.85 2572.8,1774.61 2719.4,1485.57 2866,1643.85 3012.6,1760.85 3159.2,1905.37 3305.81,1485.57 3452.41,1636.97 3599.01,1795.26 3745.61,1864.08 3892.21,1485.57 4038.81,1595.68 4185.41,1733.32 4332.01,1857.19 4478.61,2008.6 4625.21,2139.35 \"/>\n",
       "<polyline clip-path=\"url(#clip232)\" style=\"stroke:#9b7fe8; stroke-linecap:round; stroke-linejoin:round; stroke-width:4; stroke-opacity:1; fill:none\" points=\"373.788,1485.57 520.389,1671.38 666.99,1822.78 813.591,1960.42 960.192,1485.57 1106.79,1630.09 1253.39,1733.32 1399.99,1857.19 1546.6,1981.07 1693.2,2098.06 1839.8,2173.76 1986.4,1485.57 2133,1595.68 2279.6,1753.96 2426.2,1932.89 2572.8,1485.57 2719.4,1581.92 2866,1712.67 3012.6,1864.08 3159.2,1485.57 3305.81,1602.56 3452.41,1774.61 3599.01,1485.57 3745.61,1623.21 3892.21,1733.32 4038.81,1898.48 4185.41,2043.01 4332.01,2173.76 4478.61,1485.57 4625.21,1664.5 \"/>\n",
       "<polyline clip-path=\"url(#clip232)\" style=\"stroke:#608cf6; stroke-linecap:round; stroke-linejoin:round; stroke-width:4; stroke-opacity:1; fill:none\" points=\"373.788,1485.57 520.389,1595.68 666.99,1809.02 813.591,1485.57 960.192,1630.09 1106.79,1747.08 1253.39,1485.57 1399.99,1609.44 1546.6,1726.44 1693.2,1870.96 1839.8,1485.57 1986.4,1602.56 2133,1705.79 2279.6,1857.19 2426.2,1987.95 2572.8,1485.57 2719.4,1595.68 2866,1726.44 3012.6,1857.19 3159.2,1987.95 3305.81,1485.57 3452.41,1595.68 3599.01,1712.67 3745.61,1485.57 3892.21,1602.56 4038.81,1815.9 4185.41,1939.78 4332.01,2118.71 4478.61,2173.76 4625.21,1485.57 \"/>\n",
       "<polyline clip-path=\"url(#clip232)\" style=\"stroke:#f05f73; stroke-linecap:round; stroke-linejoin:round; stroke-width:4; stroke-opacity:1; fill:none\" points=\"373.788,1485.57 520.389,1595.68 666.99,1719.55 813.591,1850.31 960.192,2001.71 1106.79,1485.57 1253.39,1602.56 1399.99,1712.67 1546.6,1485.57 1693.2,1643.85 1839.8,1747.08 1986.4,1485.57 2133,1692.03 2279.6,1857.19 2426.2,1485.57 2572.8,1650.74 2719.4,1740.2 2866,1829.67 3012.6,1485.57 3159.2,1609.44 3305.81,1753.96 3452.41,1485.57 3599.01,1588.8 3745.61,1733.32 3892.21,1485.57 4038.81,1671.38 4185.41,1781.49 4332.01,1926.01 4478.61,2043.01 4625.21,2173.76 \"/>\n",
       "<polyline clip-path=\"url(#clip232)\" style=\"stroke:#dd64b5; stroke-linecap:round; stroke-linejoin:round; stroke-width:4; stroke-opacity:1; fill:none\" points=\"373.788,1485.57 520.389,1588.8 666.99,1788.37 813.591,1912.25 960.192,1485.57 1106.79,1581.92 1253.39,1705.79 1399.99,1485.57 1546.6,1588.8 1693.2,1698.91 1839.8,1802.14 1986.4,1485.57 2133,1643.85 2279.6,1829.67 2426.2,2001.71 2572.8,2153.12 2719.4,1485.57 2866,1623.21 3012.6,1795.26 3159.2,1953.54 3305.81,2056.77 3452.41,1485.57 3599.01,1630.09 3745.61,1788.37 3892.21,1905.37 4038.81,2049.89 4185.41,1485.57 4332.01,1636.97 4478.61,1781.49 4625.21,1926.01 \"/>\n",
       "<polyline clip-path=\"url(#clip232)\" style=\"stroke:#6b9e32; stroke-linecap:round; stroke-linejoin:round; stroke-width:4; stroke-opacity:1; fill:none\" points=\"373.788,1485.57 520.389,1609.44 666.99,1753.96 813.591,1850.31 960.192,2049.89 1106.79,1485.57 1253.39,1623.21 1399.99,1705.79 1546.6,1843.43 1693.2,2015.48 1839.8,2111.82 1986.4,1485.57 2133,1602.56 2279.6,1685.14 2426.2,1802.14 2572.8,1485.57 2719.4,1643.85 2866,1760.85 3012.6,1850.31 3159.2,1485.57 3305.81,1588.8 3452.41,1733.32 3599.01,1485.57 3745.61,1636.97 3892.21,1733.32 4038.81,1898.48 4185.41,1485.57 4332.01,1588.8 4478.61,1719.55 4625.21,1815.9 \"/>\n",
       "<polyline clip-path=\"url(#clip232)\" style=\"stroke:#009af9; stroke-linecap:round; stroke-linejoin:round; stroke-width:4; stroke-opacity:1; fill:none\" points=\"373.788,1485.57 520.389,1664.5 666.99,1850.31 813.591,1967.3 960.192,2063.65 1106.79,2173.76 1253.39,1485.57 1399.99,1575.03 1546.6,1685.14 1693.2,1788.37 1839.8,1912.25 1986.4,1485.57 2133,1636.97 2279.6,1726.44 2426.2,1836.55 2572.8,1485.57 2719.4,1561.27 2866,1678.26 3012.6,1815.9 3159.2,1485.57 3305.81,1588.8 3452.41,1733.32 3599.01,1485.57 3745.61,1643.85 3892.21,1774.61 4038.81,1485.57 4185.41,1623.21 4332.01,1781.49 4478.61,1898.48 4625.21,1485.57 \"/>\n",
       "<polyline clip-path=\"url(#clip232)\" style=\"stroke:#e26f46; stroke-linecap:round; stroke-linejoin:round; stroke-width:4; stroke-opacity:1; fill:none\" points=\"373.788,1485.57 520.389,1636.97 666.99,1774.61 813.591,1939.78 960.192,1485.57 1106.79,1588.8 1253.39,1733.32 1399.99,1857.19 1546.6,1974.19 1693.2,2132.47 1839.8,1485.57 1986.4,1643.85 2133,1788.37 2279.6,1485.57 2426.2,1650.74 2572.8,1809.02 2719.4,1485.57 2866,1630.09 3012.6,1733.32 3159.2,1485.57 3305.81,1616.33 3452.41,1767.73 3599.01,1870.96 3745.61,2015.48 3892.21,2146.23 4038.81,2173.76 4185.41,2173.76 4332.01,2173.76 4478.61,2173.76 4625.21,1485.57 \"/>\n",
       "<polyline clip-path=\"url(#clip232)\" style=\"stroke:#3da44d; stroke-linecap:round; stroke-linejoin:round; stroke-width:4; stroke-opacity:1; fill:none\" points=\"373.788,1485.57 520.389,1698.91 666.99,1850.31 813.591,1987.95 960.192,2104.94 1106.79,1485.57 1253.39,1623.21 1399.99,1781.49 1546.6,1485.57 1693.2,1636.97 1839.8,1774.61 1986.4,1485.57 2133,1623.21 2279.6,1767.73 2426.2,1912.25 2572.8,1485.57 2719.4,1581.92 2866,1733.32 3012.6,1946.66 3159.2,1485.57 3305.81,1602.56 3452.41,1747.08 3599.01,1485.57 3745.61,1650.74 3892.21,1781.49 4038.81,1485.57 4185.41,1588.8 4332.01,1685.14 4478.61,1836.55 4625.21,1485.57 \"/>\n",
       "<polyline clip-path=\"url(#clip232)\" style=\"stroke:#c271d2; stroke-linecap:round; stroke-linejoin:round; stroke-width:4; stroke-opacity:1; fill:none\" points=\"373.788,1485.57 520.389,1643.85 666.99,1850.31 813.591,2056.77 960.192,1485.57 1106.79,1588.8 1253.39,1733.32 1399.99,1836.55 1546.6,1960.42 1693.2,2166.88 1839.8,2173.76 1986.4,1485.57 2133,1671.38 2279.6,1788.37 2426.2,1485.57 2572.8,1616.33 2719.4,1753.96 2866,1485.57 3012.6,1616.33 3159.2,1774.61 3305.81,1485.57 3452.41,1588.8 3599.01,1726.44 3745.61,1857.19 3892.21,1485.57 4038.81,1671.38 4185.41,1774.61 4332.01,1864.08 4478.61,1485.57 4625.21,1595.68 \"/>\n",
       "<polyline clip-path=\"url(#clip232)\" style=\"stroke:#ac8d18; stroke-linecap:round; stroke-linejoin:round; stroke-width:4; stroke-opacity:1; fill:none\" points=\"373.788,1485.57 520.389,1623.21 666.99,1747.08 813.591,1891.6 960.192,2036.12 1106.79,2173.76 1253.39,1141.47 1399.99,1299.76 1546.6,1444.28 1693.2,1616.33 1839.8,1774.61 1986.4,1141.47 2133,1306.64 2279.6,1458.04 2426.2,1630.09 2572.8,1836.55 2719.4,1953.54 2866,1141.47 3012.6,1320.4 3159.2,1458.04 3305.81,1568.15 3452.41,1712.67 3599.01,1877.84 3745.61,1994.83 3892.21,1141.47 4038.81,1313.52 4185.41,1513.1 4332.01,1671.38 4478.61,1802.14 4625.21,1141.47 \"/>\n",
       "<polyline clip-path=\"url(#clip232)\" style=\"stroke:#00a9ad; stroke-linecap:round; stroke-linejoin:round; stroke-width:4; stroke-opacity:1; fill:none\" points=\"373.788,1485.57 520.389,1575.03 666.99,1719.55 813.591,1843.43 960.192,1939.78 1106.79,2077.42 1253.39,2173.76 1399.99,2173.76 1546.6,2173.76 1693.2,2173.76 1839.8,1141.47 1986.4,1313.52 2133,1513.1 2279.6,1664.5 2426.2,1822.78 2572.8,1141.47 2719.4,1285.99 2866,1389.22 3012.6,1506.21 3159.2,1657.62 3305.81,1788.37 3452.41,1912.25 3599.01,2056.77 3745.61,1141.47 3892.21,1285.99 4038.81,1464.92 4185.41,1595.68 4332.01,1726.44 4478.61,1864.08 4625.21,2015.48 \"/>\n",
       "<polyline clip-path=\"url(#clip232)\" style=\"stroke:#ed5d92; stroke-linecap:round; stroke-linejoin:round; stroke-width:4; stroke-opacity:1; fill:none\" points=\"373.788,1485.57 520.389,1616.33 666.99,1726.44 813.591,1141.47 960.192,1251.58 1106.79,1341.05 1253.39,1499.33 1399.99,1623.21 1546.6,1774.61 1693.2,1850.31 1839.8,1141.47 1986.4,1313.52 2133,1485.57 2279.6,1664.5 2426.2,1815.9 2572.8,1141.47 2719.4,1279.11 2866,1347.93 3012.6,1485.57 3159.2,1609.44 3305.81,1760.85 3452.41,1884.72 3599.01,1141.47 3745.61,1306.64 3892.21,1416.75 4038.81,1554.39 4185.41,1740.2 4332.01,1870.96 4478.61,1141.47 4625.21,1251.58 \"/>\n",
       "<polyline clip-path=\"url(#clip232)\" style=\"stroke:#c68125; stroke-linecap:round; stroke-linejoin:round; stroke-width:4; stroke-opacity:1; fill:none\" points=\"373.788,1485.57 520.389,1568.15 666.99,1685.14 813.591,1815.9 960.192,1141.47 1106.79,1292.87 1253.39,1485.57 1399.99,1588.8 1546.6,1705.79 1693.2,1836.55 1839.8,1141.47 1986.4,1279.11 2133,1430.51 2279.6,1581.92 2426.2,1747.08 2572.8,1141.47 2719.4,1285.99 2866,1423.63 3012.6,1554.39 3159.2,1705.79 3305.81,1822.78 3452.41,1981.07 3599.01,2146.23 3745.61,1141.47 3892.21,1341.05 4038.81,1499.33 4185.41,1650.74 4332.01,1740.2 4478.61,1864.08 4625.21,1141.47 \"/>\n",
       "<polyline clip-path=\"url(#clip232)\" style=\"stroke:#00a98d; stroke-linecap:round; stroke-linejoin:round; stroke-width:4; stroke-opacity:1; fill:none\" points=\"373.788,1485.57 520.389,1623.21 666.99,1795.26 813.591,1946.66 960.192,2070.53 1106.79,2173.76 1253.39,1141.47 1399.99,1265.35 1546.6,1409.87 1693.2,1526.86 1839.8,1664.5 1986.4,1795.26 2133,1141.47 2279.6,1244.7 2426.2,1341.05 2572.8,1458.04 2719.4,1609.44 2866,1698.91 3012.6,1802.14 3159.2,1141.47 3305.81,1258.46 3452.41,1375.46 3599.01,1485.57 3745.61,1657.62 3892.21,1809.02 4038.81,1141.47 4185.41,1230.94 4332.01,1375.46 4478.61,1540.62 4625.21,1630.09 \"/>\n",
       "<polyline clip-path=\"url(#clip232)\" style=\"stroke:#8e971d; stroke-linecap:round; stroke-linejoin:round; stroke-width:4; stroke-opacity:1; fill:none\" points=\"373.788,1485.57 520.389,1685.14 666.99,1836.55 813.591,1141.47 960.192,1244.7 1106.79,1361.69 1253.39,1464.92 1399.99,1609.44 1546.6,1760.85 1693.2,1877.84 1839.8,1141.47 1986.4,1279.11 2133,1416.75 2279.6,1554.39 2426.2,1657.62 2572.8,1809.02 2719.4,1141.47 2866,1327.28 3012.6,1519.98 3159.2,1657.62 3305.81,1836.55 3452.41,1141.47 3599.01,1327.28 3745.61,1492.45 3892.21,1630.09 4038.81,1760.85 4185.41,1953.54 4332.01,1141.47 4478.61,1279.11 4625.21,1444.28 \"/>\n",
       "<polyline clip-path=\"url(#clip232)\" style=\"stroke:#00a8cb; stroke-linecap:round; stroke-linejoin:round; stroke-width:4; stroke-opacity:1; fill:none\" points=\"373.788,1485.57 520.389,1623.21 666.99,1726.44 813.591,1809.02 960.192,1141.47 1106.79,1217.17 1253.39,1375.46 1399.99,1526.86 1546.6,1650.74 1693.2,1829.67 1839.8,1946.66 1986.4,2063.65 2133,2173.76 2279.6,1141.47 2426.2,1265.35 2572.8,1416.75 2719.4,1554.39 2866,1685.14 3012.6,1877.84 3159.2,1141.47 3305.81,1299.76 3452.41,1464.92 3599.01,1636.97 3745.61,1753.96 3892.21,1960.42 4038.81,1141.47 4185.41,1279.11 4332.01,1437.4 4478.61,1588.8 4625.21,1678.26 \"/>\n",
       "<polyline clip-path=\"url(#clip232)\" style=\"stroke:#9b7fe8; stroke-linecap:round; stroke-linejoin:round; stroke-width:4; stroke-opacity:1; fill:none\" points=\"373.788,1485.57 520.389,1636.97 666.99,1767.73 813.591,1905.37 960.192,2029.24 1106.79,1141.47 1253.39,1327.28 1399.99,1471.8 1546.6,1650.74 1693.2,1802.14 1839.8,1932.89 1986.4,1141.47 2133,1279.11 2279.6,1416.75 2426.2,1506.21 2572.8,1685.14 2719.4,1802.14 2866,1953.54 3012.6,2125.59 3159.2,2173.76 3305.81,2173.76 3452.41,2173.76 3599.01,1141.47 3745.61,1306.64 3892.21,1471.8 4038.81,1602.56 4185.41,1692.03 4332.01,1774.61 4478.61,1981.07 4625.21,2104.94 \"/>\n",
       "<polyline clip-path=\"url(#clip232)\" style=\"stroke:#608cf6; stroke-linecap:round; stroke-linejoin:round; stroke-width:4; stroke-opacity:1; fill:none\" points=\"373.788,1485.57 520.389,1650.74 666.99,1767.73 813.591,1953.54 960.192,1141.47 1106.79,1299.76 1253.39,1409.87 1399.99,1526.86 1546.6,1643.85 1693.2,1753.96 1839.8,1850.31 1986.4,1141.47 2133,1313.52 2279.6,1471.8 2426.2,1609.44 2572.8,1747.08 2719.4,1141.47 2866,1320.4 3012.6,1444.28 3159.2,1588.8 3305.81,1726.44 3452.41,1141.47 3599.01,1230.94 3745.61,1368.58 3892.21,1485.57 4038.81,1630.09 4185.41,1788.37 4332.01,1141.47 4478.61,1279.11 4625.21,1416.75 \"/>\n",
       "<polyline clip-path=\"url(#clip232)\" style=\"stroke:#f05f73; stroke-linecap:round; stroke-linejoin:round; stroke-width:4; stroke-opacity:1; fill:none\" points=\"373.788,1485.57 520.389,1636.97 666.99,1774.61 813.591,1926.01 960.192,2049.89 1106.79,2173.76 1253.39,2173.76 1399.99,1141.47 1546.6,1237.82 1693.2,1382.34 1839.8,1499.33 1986.4,1630.09 2133,1740.2 2279.6,1809.02 2426.2,1141.47 2572.8,1265.35 2719.4,1389.22 2866,1492.45 3012.6,1602.56 3159.2,1829.67 3305.81,1141.47 3452.41,1265.35 3599.01,1430.51 3745.61,1568.15 3892.21,1705.79 4038.81,1843.43 4185.41,1141.47 4332.01,1279.11 4478.61,1430.51 4625.21,1547.51 \"/>\n",
       "<polyline clip-path=\"url(#clip232)\" style=\"stroke:#dd64b5; stroke-linecap:round; stroke-linejoin:round; stroke-width:4; stroke-opacity:1; fill:none\" points=\"373.788,1485.57 520.389,1588.8 666.99,1712.67 813.591,1850.31 960.192,797.375 1106.79,921.25 1253.39,1100.18 1399.99,1217.17 1546.6,1375.46 1693.2,1492.45 1839.8,1609.44 1986.4,1733.32 2133,1829.67 2279.6,1967.3 2426.2,2146.23 2572.8,797.375 2719.4,962.542 2866,1065.77 3012.6,1244.7 3159.2,1444.28 3305.81,1623.21 3452.41,1747.08 3599.01,1857.19 3745.61,797.375 3892.21,941.896 4038.81,1100.18 4185.41,1237.82 4332.01,1361.69 4478.61,1540.62 4625.21,1657.62 \"/>\n",
       "<polyline clip-path=\"url(#clip232)\" style=\"stroke:#6b9e32; stroke-linecap:round; stroke-linejoin:round; stroke-width:4; stroke-opacity:1; fill:none\" points=\"373.788,1485.57 520.389,1602.56 666.99,1767.73 813.591,797.375 960.192,976.305 1106.79,1052.01 1253.39,1134.59 1399.99,1251.58 1546.6,1327.28 1693.2,1444.28 1839.8,1616.33 1986.4,1733.32 2133,1857.19 2279.6,1981.07 2426.2,2104.94 2572.8,797.375 2719.4,962.542 2866,1079.53 3012.6,1265.35 3159.2,1416.75 3305.81,1554.39 3452.41,1657.62 3599.01,1809.02 3745.61,797.375 3892.21,886.84 4038.81,983.187 4185.41,1100.18 4332.01,1244.7 4478.61,1396.1 4625.21,1561.27 \"/>\n",
       "<polyline clip-path=\"url(#clip232)\" style=\"stroke:#009af9; stroke-linecap:round; stroke-linejoin:round; stroke-width:4; stroke-opacity:1; fill:none\" points=\"373.788,1485.57 520.389,1671.38 666.99,1809.02 813.591,797.375 960.192,879.958 1106.79,1031.36 1253.39,1162.12 1399.99,1279.11 1546.6,1430.51 1693.2,1595.68 1839.8,1678.26 1986.4,1877.84 2133,2098.06 2279.6,797.375 2426.2,969.424 2572.8,1155.24 2719.4,1306.64 2866,1375.46 3012.6,1554.39 3159.2,1630.09 3305.81,1760.85 3452.41,1905.37 3599.01,2022.36 3745.61,797.375 3892.21,907.486 4038.81,1024.48 4185.41,1182.76 4332.01,1313.52 4478.61,1389.22 4625.21,1547.51 \"/>\n",
       "<polyline clip-path=\"url(#clip232)\" style=\"stroke:#e26f46; stroke-linecap:round; stroke-linejoin:round; stroke-width:4; stroke-opacity:1; fill:none\" points=\"373.788,1485.57 520.389,1588.8 666.99,1747.08 813.591,1884.72 960.192,797.375 1106.79,948.778 1253.39,1024.48 1399.99,1120.83 1546.6,1230.94 1693.2,1327.28 1839.8,1471.8 1986.4,1650.74 2133,1774.61 2279.6,1912.25 2426.2,797.375 2572.8,928.132 2719.4,1072.65 2866,1196.53 3012.6,1382.34 3159.2,1506.21 3305.81,1698.91 3452.41,1864.08 3599.01,2001.71 3745.61,2166.88 3892.21,2173.76 4038.81,797.375 4185.41,928.132 4332.01,1058.89 4478.61,1196.53 4625.21,1368.58 \"/>\n",
       "<polyline clip-path=\"url(#clip232)\" style=\"stroke:#3da44d; stroke-linecap:round; stroke-linejoin:round; stroke-width:4; stroke-opacity:1; fill:none\" points=\"373.788,1485.57 520.389,1671.38 666.99,1836.55 813.591,797.375 960.192,962.542 1106.79,1065.77 1253.39,1182.76 1399.99,1341.05 1546.6,1451.16 1693.2,1602.56 1839.8,1740.2 1986.4,797.375 2133,948.778 2279.6,1100.18 2426.2,1224.06 2572.8,1423.63 2719.4,1540.62 2866,1636.97 3012.6,1781.49 3159.2,797.375 3305.81,928.132 3452.41,1045.12 3599.01,1148.35 3745.61,1258.46 3892.21,1396.1 4038.81,1561.27 4185.41,1636.97 4332.01,1802.14 4478.61,797.375 4625.21,900.604 \"/>\n",
       "<polyline clip-path=\"url(#clip232)\" style=\"stroke:#c271d2; stroke-linecap:round; stroke-linejoin:round; stroke-width:4; stroke-opacity:1; fill:none\" points=\"373.788,1485.57 520.389,1636.97 666.99,1802.14 813.591,1898.48 960.192,797.375 1106.79,907.486 1253.39,1072.65 1399.99,1210.29 1546.6,1334.17 1693.2,1471.8 1839.8,1575.03 1986.4,1685.14 2133,1802.14 2279.6,797.375 2426.2,914.368 2572.8,1093.3 2719.4,1272.23 2866,1416.75 3012.6,1657.62 3159.2,1781.49 3305.81,1891.6 3452.41,2008.6 3599.01,2153.12 3745.61,797.375 3892.21,935.014 4038.81,1086.42 4185.41,1224.06 4332.01,1341.05 4478.61,1499.33 4625.21,1581.92 \"/>\n",
       "<polyline clip-path=\"url(#clip232)\" style=\"stroke:#ac8d18; stroke-linecap:round; stroke-linejoin:round; stroke-width:4; stroke-opacity:1; fill:none\" points=\"373.788,1485.57 520.389,1602.56 666.99,1760.85 813.591,1864.08 960.192,2029.24 1106.79,797.375 1253.39,900.604 1399.99,1058.89 1546.6,1203.41 1693.2,1341.05 1839.8,1485.57 1986.4,1588.8 2133,1781.49 2279.6,797.375 2426.2,907.486 2572.8,996.951 2719.4,1148.35 2866,1224.06 3012.6,1327.28 3159.2,1451.16 3305.81,1581.92 3452.41,1698.91 3599.01,1850.31 3745.61,2001.71 3892.21,797.375 4038.81,928.132 4185.41,1093.3 4332.01,1230.94 4478.61,1347.93 4625.21,1513.1 \"/>\n",
       "<polyline clip-path=\"url(#clip232)\" style=\"stroke:#00a9ad; stroke-linecap:round; stroke-linejoin:round; stroke-width:4; stroke-opacity:1; fill:none\" points=\"373.788,1485.57 520.389,1636.97 666.99,1760.85 813.591,1836.55 960.192,797.375 1106.79,983.187 1253.39,1079.53 1399.99,1251.58 1546.6,1437.4 1693.2,1561.27 1839.8,1692.03 1986.4,1809.02 2133,1960.42 2279.6,797.375 2426.2,928.132 2572.8,1058.89 2719.4,1224.06 2866,1402.99 3012.6,1547.51 3159.2,1664.5 3305.81,1809.02 3452.41,1981.07 3599.01,2091.18 3745.61,2173.76 3892.21,797.375 4038.81,879.958 4185.41,1045.12 4332.01,1175.88 4478.61,1347.93 4625.21,1451.16 \"/>\n",
       "<polyline clip-path=\"url(#clip232)\" style=\"stroke:#ed5d92; stroke-linecap:round; stroke-linejoin:round; stroke-width:4; stroke-opacity:1; fill:none\" points=\"373.788,1485.57 520.389,1630.09 666.99,1733.32 813.591,1850.31 960.192,797.375 1106.79,948.778 1253.39,1113.94 1399.99,1217.17 1546.6,1347.93 1693.2,1575.03 1839.8,1698.91 1986.4,1822.78 2133,797.375 2279.6,941.896 2426.2,1065.77 2572.8,1210.29 2719.4,1354.81 2866,1513.1 3012.6,1643.85 3159.2,1747.08 3305.81,1864.08 3452.41,797.375 3599.01,928.132 3745.61,1072.65 3892.21,1237.82 4038.81,1396.1 4185.41,1540.62 4332.01,1678.26 4478.61,1843.43 4625.21,797.375 \"/>\n",
       "<polyline clip-path=\"url(#clip232)\" style=\"stroke:#c68125; stroke-linecap:round; stroke-linejoin:round; stroke-width:4; stroke-opacity:1; fill:none\" points=\"373.788,1485.57 520.389,1630.09 666.99,1719.55 813.591,1870.96 960.192,1994.83 1106.79,797.375 1253.39,948.778 1399.99,1120.83 1546.6,1279.11 1693.2,1396.1 1839.8,1581.92 1986.4,1719.55 2133,1822.78 2279.6,1960.42 2426.2,797.375 2572.8,928.132 2719.4,1072.65 2866,1230.94 3012.6,1437.4 3159.2,1616.33 3305.81,1740.2 3452.41,797.375 3599.01,941.896 3745.61,1058.89 3892.21,1189.65 4038.81,1299.76 4185.41,1423.63 4332.01,1561.27 4478.61,1712.67 4625.21,797.375 \"/>\n",
       "<polyline clip-path=\"url(#clip232)\" style=\"stroke:#00a98d; stroke-linecap:round; stroke-linejoin:round; stroke-width:4; stroke-opacity:1; fill:none\" points=\"373.788,1485.57 520.389,1616.33 666.99,1719.55 813.591,1829.67 960.192,453.278 1106.79,611.563 1253.39,804.257 1399.99,948.778 1546.6,1038.24 1693.2,1189.65 1839.8,1279.11 1986.4,1402.99 2133,1568.15 2279.6,1726.44 2426.2,1822.78 2572.8,453.278 2719.4,563.389 2866,652.854 3012.6,852.431 3159.2,990.069 3305.81,1120.83 3452.41,1189.65 3599.01,1313.52 3745.61,1451.16 3892.21,1616.33 4038.81,1774.61 4185.41,453.278 4332.01,535.862 4478.61,735.438 4625.21,804.257 \"/>\n",
       "<polyline clip-path=\"url(#clip232)\" style=\"stroke:#8e971d; stroke-linecap:round; stroke-linejoin:round; stroke-width:4; stroke-opacity:1; fill:none\" points=\"373.788,1485.57 520.389,1595.68 666.99,1740.2 813.591,453.278 960.192,577.153 1106.79,749.202 1253.39,893.722 1399.99,1017.6 1546.6,1134.59 1693.2,1313.52 1839.8,1423.63 1986.4,1540.62 2133,1698.91 2279.6,1843.43 2426.2,1981.07 2572.8,453.278 2719.4,577.153 2866,769.847 3012.6,941.896 3159.2,1072.65 3305.81,1162.12 3452.41,1306.64 3599.01,1430.51 3745.61,1526.86 3892.21,1636.97 4038.81,1740.2 4185.41,1850.31 4332.01,1994.83 4478.61,453.278 4625.21,618.445 \"/>\n",
       "<polyline clip-path=\"url(#clip232)\" style=\"stroke:#00a8cb; stroke-linecap:round; stroke-linejoin:round; stroke-width:4; stroke-opacity:1; fill:none\" points=\"373.788,1485.57 520.389,1636.97 666.99,1774.61 813.591,1932.89 960.192,453.278 1106.79,618.445 1253.39,756.084 1399.99,907.486 1546.6,969.424 1693.2,1079.53 1839.8,1169 1986.4,1368.58 2133,1533.74 2279.6,1650.74 2426.2,1733.32 2572.8,1815.9 2719.4,453.278 2866,611.563 3012.6,742.32 3159.2,859.313 3305.81,955.66 3452.41,1079.53 3599.01,1313.52 3745.61,1416.75 3892.21,1533.74 4038.81,1678.26 4185.41,1795.26 4332.01,453.278 4478.61,549.625 4625.21,728.556 \"/>\n",
       "<polyline clip-path=\"url(#clip232)\" style=\"stroke:#9b7fe8; stroke-linecap:round; stroke-linejoin:round; stroke-width:4; stroke-opacity:1; fill:none\" points=\"373.788,1485.57 520.389,1664.5 666.99,1843.43 813.591,1981.07 960.192,2146.23 1106.79,453.278 1253.39,556.507 1399.99,659.736 1546.6,804.257 1693.2,928.132 1839.8,1107.06 1986.4,1237.82 2133,1451.16 2279.6,1526.86 2426.2,1636.97 2572.8,1781.49 2719.4,1884.72 2866,453.278 3012.6,597.799 3159.2,728.556 3305.81,866.195 3452.41,1003.83 3599.01,1169 3745.61,1299.76 3892.21,1402.99 4038.81,1547.51 4185.41,1733.32 4332.01,1802.14 4478.61,1987.95 4625.21,2153.12 \"/>\n",
       "<polyline clip-path=\"url(#clip232)\" style=\"stroke:#608cf6; stroke-linecap:round; stroke-linejoin:round; stroke-width:4; stroke-opacity:1; fill:none\" points=\"373.788,1485.57 520.389,1685.14 666.99,1822.78 813.591,1946.66 960.192,2070.53 1106.79,2173.76 1253.39,453.278 1399.99,625.327 1546.6,742.32 1693.2,914.368 1839.8,1003.83 1986.4,1093.3 2133,1217.17 2279.6,1396.1 2426.2,1540.62 2572.8,1692.03 2719.4,1829.67 2866,453.278 3012.6,611.563 3159.2,742.32 3305.81,831.785 3452.41,935.014 3599.01,1058.89 3745.61,1210.29 3892.21,1354.81 4038.81,1478.69 4185.41,1616.33 4332.01,1733.32 4478.61,1843.43 4625.21,453.278 \"/>\n",
       "<polyline clip-path=\"url(#clip232)\" style=\"stroke:#f05f73; stroke-linecap:round; stroke-linejoin:round; stroke-width:4; stroke-opacity:1; fill:none\" points=\"373.788,1485.57 520.389,1636.97 666.99,1747.08 813.591,1836.55 960.192,1960.42 1106.79,453.278 1253.39,563.389 1399.99,687.264 1546.6,797.375 1693.2,928.132 1839.8,1086.42 1986.4,1189.65 2133,1347.93 2279.6,1423.63 2426.2,1526.86 2572.8,1692.03 2719.4,1829.67 2866,453.278 3012.6,584.035 3159.2,673.5 3305.81,859.313 3452.41,1031.36 3599.01,1169 3745.61,1313.52 3892.21,1451.16 4038.81,1554.39 4185.41,1692.03 4332.01,1822.78 4478.61,1987.95 4625.21,2091.18 \"/>\n",
       "<polyline clip-path=\"url(#clip232)\" style=\"stroke:#dd64b5; stroke-linecap:round; stroke-linejoin:round; stroke-width:4; stroke-opacity:1; fill:none\" points=\"373.788,1485.57 520.389,1623.21 666.99,1753.96 813.591,1857.19 960.192,453.278 1106.79,618.445 1253.39,762.965 1399.99,886.84 1546.6,1024.48 1693.2,1155.24 1839.8,1354.81 1986.4,1451.16 2133,1575.03 2279.6,1719.55 2426.2,1836.55 2572.8,453.278 2719.4,590.917 2866,721.674 3012.6,900.604 3159.2,1052.01 3305.81,1162.12 3452.41,1279.11 3599.01,1368.58 3745.61,1499.33 3892.21,1581.92 4038.81,1733.32 4185.41,453.278 4332.01,570.271 4478.61,783.611 4625.21,914.368 \"/>\n",
       "<polyline clip-path=\"url(#clip232)\" style=\"stroke:#6b9e32; stroke-linecap:round; stroke-linejoin:round; stroke-width:4; stroke-opacity:1; fill:none\" points=\"373.788,1485.57 520.389,1561.27 666.99,1685.14 813.591,1795.26 960.192,453.278 1106.79,584.035 1253.39,728.556 1399.99,893.722 1546.6,1065.77 1693.2,1189.65 1839.8,1313.52 1986.4,1396.1 2133,1568.15 2279.6,1747.08 2426.2,1850.31 2572.8,1946.66 2719.4,453.278 2866,577.153 3012.6,687.264 3159.2,859.313 3305.81,962.542 3452.41,1107.06 3599.01,1313.52 3745.61,1437.4 3892.21,1595.68 4038.81,1760.85 4185.41,1857.19 4332.01,453.278 4478.61,632.209 4625.21,776.729 \"/>\n",
       "<polyline clip-path=\"url(#clip232)\" style=\"stroke:#009af9; stroke-linecap:round; stroke-linejoin:round; stroke-width:4; stroke-opacity:1; fill:none\" points=\"373.788,1485.57 520.389,1575.03 666.99,1650.74 813.591,1822.78 960.192,453.278 1106.79,604.681 1253.39,694.146 1399.99,873.076 1546.6,996.951 1693.2,1127.71 1839.8,1196.53 1986.4,1354.81 2133,1519.98 2279.6,1692.03 2426.2,1857.19 2572.8,453.278 2719.4,632.209 2866,797.375 3012.6,969.424 3159.2,1065.77 3305.81,1175.88 3452.41,1320.4 3599.01,1513.1 3745.61,1678.26 3892.21,1836.55 4038.81,453.278 4185.41,556.507 4332.01,687.264 4478.61,831.785 4625.21,969.424 \"/>\n",
       "<polyline clip-path=\"url(#clip232)\" style=\"stroke:#e26f46; stroke-linecap:round; stroke-linejoin:round; stroke-width:4; stroke-opacity:1; fill:none\" points=\"373.788,1485.57 520.389,1678.26 666.99,1795.26 813.591,453.278 960.192,577.153 1106.79,728.556 1253.39,845.549 1399.99,976.305 1546.6,1162.12 1693.2,1313.52 1839.8,1458.04 1986.4,1650.74 2133,1760.85 2279.6,1870.96 2426.2,2008.6 2572.8,453.278 2719.4,590.917 2866,721.674 3012.6,831.785 3159.2,928.132 3305.81,1017.6 3452.41,1127.71 3599.01,1299.76 3745.61,1430.51 3892.21,1581.92 4038.81,1753.96 4185.41,453.278 4332.01,577.153 4478.61,707.91 4625.21,804.257 \"/>\n",
       "<polyline clip-path=\"url(#clip232)\" style=\"stroke:#3da44d; stroke-linecap:round; stroke-linejoin:round; stroke-width:4; stroke-opacity:1; fill:none\" points=\"373.788,1485.57 520.389,1643.85 666.99,1795.26 813.591,1905.37 960.192,109.182 1106.79,205.529 1253.39,336.285 1399.99,467.042 1546.6,584.035 1693.2,721.674 1839.8,866.195 1986.4,1017.6 2133,1155.24 2279.6,1258.46 2426.2,1402.99 2572.8,1547.51 2719.4,1678.26 2866,1857.19 3012.6,109.182 3159.2,253.702 3305.81,398.223 3452.41,542.744 3599.01,707.91 3745.61,824.903 3892.21,900.604 4038.81,1003.83 4185.41,1113.94 4332.01,1237.82 4478.61,1334.17 4625.21,1458.04 \"/>\n",
       "<polyline clip-path=\"url(#clip232)\" style=\"stroke:#c271d2; stroke-linecap:round; stroke-linejoin:round; stroke-width:4; stroke-opacity:1; fill:none\" points=\"373.788,1485.57 520.389,1575.03 666.99,1671.38 813.591,1843.43 960.192,2015.48 1106.79,109.182 1253.39,205.529 1399.99,329.403 1546.6,425.751 1693.2,549.625 1839.8,659.736 1986.4,790.493 2133,948.778 2279.6,1120.83 2426.2,1265.35 2572.8,1382.34 2719.4,1485.57 2866,1643.85 3012.6,1822.78 3159.2,109.182 3305.81,212.411 3452.41,356.931 3599.01,508.334 3745.61,632.209 3892.21,790.493 4038.81,1003.83 4185.41,1182.76 4332.01,1354.81 4478.61,1513.1 4625.21,1657.62 \"/>\n",
       "<polyline clip-path=\"url(#clip232)\" style=\"stroke:#ac8d18; stroke-linecap:round; stroke-linejoin:round; stroke-width:4; stroke-opacity:1; fill:none\" points=\"373.788,1485.57 520.389,1609.44 666.99,1733.32 813.591,109.182 960.192,260.584 1106.79,405.105 1253.39,528.98 1399.99,701.028 1546.6,852.431 1693.2,1017.6 1839.8,1127.71 1986.4,1279.11 2133,1430.51 2279.6,1547.51 2426.2,1650.74 2572.8,1740.2 2719.4,1850.31 2866,1939.78 3012.6,109.182 3159.2,233.056 3305.81,343.167 3452.41,473.924 3599.01,625.327 3745.61,790.493 3892.21,948.778 4038.81,1100.18 4185.41,1230.94 4332.01,1389.22 4478.61,1533.74 4625.21,1671.38 \"/>\n",
       "<polyline clip-path=\"url(#clip232)\" style=\"stroke:#00a9ad; stroke-linecap:round; stroke-linejoin:round; stroke-width:4; stroke-opacity:1; fill:none\" points=\"373.788,1485.57 520.389,1595.68 666.99,1719.55 813.591,1843.43 960.192,2022.36 1106.79,109.182 1253.39,329.403 1399.99,480.806 1546.6,611.563 1693.2,728.556 1839.8,873.076 1986.4,1052.01 2133,1169 2279.6,1299.76 2426.2,1458.04 2572.8,1581.92 2719.4,1719.55 2866,1836.55 3012.6,2036.12 3159.2,2146.23 3305.81,2173.76 3452.41,109.182 3599.01,246.82 3745.61,350.049 3892.21,515.216 4038.81,645.973 4185.41,714.792 4332.01,838.667 4478.61,996.951 4625.21,1169 \"/>\n",
       "<polyline clip-path=\"url(#clip232)\" style=\"stroke:#ed5d92; stroke-linecap:round; stroke-linejoin:round; stroke-width:4; stroke-opacity:1; fill:none\" points=\"373.788,1485.57 520.389,1678.26 666.99,1809.02 813.591,1905.37 960.192,2049.89 1106.79,109.182 1253.39,253.702 1399.99,480.806 1546.6,584.035 1693.2,735.438 1839.8,893.722 1986.4,1031.36 2133,1203.41 2279.6,1361.69 2426.2,1533.74 2572.8,1657.62 2719.4,1747.08 2866,1864.08 3012.6,109.182 3159.2,233.056 3305.81,377.577 3452.41,501.452 3599.01,687.264 3745.61,811.139 3892.21,976.305 4038.81,1079.53 4185.41,1189.65 4332.01,1320.4 4478.61,1437.4 4625.21,1581.92 \"/>\n",
       "<polyline clip-path=\"url(#clip232)\" style=\"stroke:#c68125; stroke-linecap:round; stroke-linejoin:round; stroke-width:4; stroke-opacity:1; fill:none\" points=\"373.788,1485.57 520.389,1650.74 666.99,1726.44 813.591,1905.37 960.192,2022.36 1106.79,109.182 1253.39,233.056 1399.99,363.813 1546.6,501.452 1693.2,639.091 1839.8,783.611 1986.4,907.486 2133,1038.24 2279.6,1189.65 2426.2,1354.81 2572.8,1478.69 2719.4,1602.56 2866,1705.79 3012.6,109.182 3159.2,343.167 3305.81,473.924 3452.41,590.917 3599.01,749.202 3745.61,886.84 3892.21,1052.01 4038.81,1189.65 4185.41,1320.4 4332.01,1492.45 4478.61,1643.85 4625.21,1815.9 \"/>\n",
       "<polyline clip-path=\"url(#clip232)\" style=\"stroke:#00a98d; stroke-linecap:round; stroke-linejoin:round; stroke-width:4; stroke-opacity:1; fill:none\" points=\"373.788,1485.57 520.389,1602.56 666.99,1712.67 813.591,1932.89 960.192,109.182 1106.79,205.529 1253.39,315.64 1399.99,535.862 1546.6,680.382 1693.2,831.785 1839.8,983.187 1986.4,1189.65 2133,1285.99 2279.6,1423.63 2426.2,1561.27 2572.8,1705.79 2719.4,1836.55 2866,109.182 3012.6,294.994 3159.2,480.806 3305.81,577.153 3452.41,735.438 3599.01,831.785 3745.61,1003.83 3892.21,1162.12 4038.81,1299.76 4185.41,1437.4 4332.01,1575.03 4478.61,1760.85 4625.21,1850.31 \"/>\n",
       "<polyline clip-path=\"url(#clip232)\" style=\"stroke:#8e971d; stroke-linecap:round; stroke-linejoin:round; stroke-width:4; stroke-opacity:1; fill:none\" points=\"373.788,1485.57 520.389,1636.97 666.99,1692.03 813.591,1843.43 960.192,109.182 1106.79,260.584 1253.39,418.869 1399.99,577.153 1546.6,783.611 1693.2,928.132 1839.8,1086.42 1986.4,1217.17 2133,1334.17 2279.6,1485.57 2426.2,1664.5 2572.8,1857.19 2719.4,109.182 2866,205.529 3012.6,322.522 3159.2,425.751 3305.81,528.98 3452.41,680.382 3599.01,762.965 3745.61,955.66 3892.21,1072.65 4038.81,1189.65 4185.41,1402.99 4332.01,1519.98 4478.61,1657.62 4625.21,1767.73 \"/>\n",
       "<polyline clip-path=\"url(#clip232)\" style=\"stroke:#00a8cb; stroke-linecap:round; stroke-linejoin:round; stroke-width:4; stroke-opacity:1; fill:none\" points=\"373.788,1485.57 520.389,1609.44 666.99,1753.96 813.591,109.182 960.192,267.466 1106.79,425.751 1253.39,584.035 1399.99,721.674 1546.6,879.958 1693.2,983.187 1839.8,1113.94 1986.4,1230.94 2133,1375.46 2279.6,1499.33 2426.2,1623.21 2572.8,1767.73 2719.4,109.182 2866,219.293 3012.6,343.167 3159.2,453.278 3305.81,570.271 3452.41,714.792 3599.01,886.84 3745.61,1031.36 3892.21,1148.35 4038.81,1196.53 4185.41,1327.28 4332.01,1451.16 4478.61,1630.09 4625.21,1760.85 \"/>\n",
       "<polyline clip-path=\"url(#clip232)\" style=\"stroke:#9b7fe8; stroke-linecap:round; stroke-linejoin:round; stroke-width:4; stroke-opacity:1; fill:none\" points=\"373.788,1485.57 520.389,1568.15 666.99,1664.5 813.591,1774.61 960.192,1891.6 1106.79,2001.71 1253.39,109.182 1399.99,246.82 1546.6,377.577 1693.2,556.507 1839.8,673.5 1986.4,859.313 2133,996.951 2279.6,1148.35 2426.2,1347.93 2572.8,1519.98 2719.4,1602.56 2866,1760.85 3012.6,109.182 3159.2,329.403 3305.81,494.57 3452.41,645.973 3599.01,797.375 3745.61,983.187 3892.21,1162.12 4038.81,1265.35 4185.41,1402.99 4332.01,1568.15 4478.61,1726.44 4625.21,109.182 \"/>\n",
       "<polyline clip-path=\"url(#clip232)\" style=\"stroke:#608cf6; stroke-linecap:round; stroke-linejoin:round; stroke-width:4; stroke-opacity:1; fill:none\" points=\"373.788,1485.57 520.389,1602.56 666.99,1781.49 813.591,1898.48 960.192,1485.57 1106.79,1664.5 1253.39,1795.26 1399.99,1905.37 1546.6,1485.57 1693.2,1588.8 1839.8,1692.03 1986.4,1485.57 2133,1671.38 2279.6,1809.02 2426.2,1946.66 2572.8,1485.57 2719.4,1643.85 2866,1822.78 3012.6,1974.19 3159.2,1485.57 3305.81,1664.5 3452.41,1843.43 3599.01,2015.48 3745.61,2160 3892.21,2173.76 4038.81,1485.57 4185.41,1595.68 4332.01,1733.32 4478.61,1485.57 4625.21,1575.03 \"/>\n",
       "<polyline clip-path=\"url(#clip232)\" style=\"stroke:#f05f73; stroke-linecap:round; stroke-linejoin:round; stroke-width:4; stroke-opacity:1; fill:none\" points=\"373.788,1485.57 520.389,1671.38 666.99,1829.67 813.591,1485.57 960.192,1664.5 1106.79,1781.49 1253.39,1926.01 1399.99,2015.48 1546.6,2125.59 1693.2,2173.76 1839.8,1485.57 1986.4,1664.5 2133,1774.61 2279.6,1485.57 2426.2,1616.33 2572.8,1774.61 2719.4,1485.57 2866,1671.38 3012.6,1822.78 3159.2,1485.57 3305.81,1588.8 3452.41,1678.26 3599.01,1795.26 3745.61,1485.57 3892.21,1595.68 4038.81,1753.96 4185.41,1485.57 4332.01,1588.8 4478.61,1678.26 4625.21,1485.57 \"/>\n",
       "<polyline clip-path=\"url(#clip232)\" style=\"stroke:#dd64b5; stroke-linecap:round; stroke-linejoin:round; stroke-width:4; stroke-opacity:1; fill:none\" points=\"373.788,1485.57 520.389,1630.09 666.99,1767.73 813.591,1485.57 960.192,1568.15 1106.79,1685.14 1253.39,1485.57 1399.99,1609.44 1546.6,1760.85 1693.2,1485.57 1839.8,1623.21 1986.4,1740.2 2133,1864.08 2279.6,1485.57 2426.2,1609.44 2572.8,1767.73 2719.4,1485.57 2866,1581.92 3012.6,1692.03 3159.2,1788.37 3305.81,1485.57 3452.41,1657.62 3599.01,1760.85 3745.61,1485.57 3892.21,1643.85 4038.81,1809.02 4185.41,1485.57 4332.01,1581.92 4478.61,1636.97 4625.21,1822.78 \"/>\n",
       "<polyline clip-path=\"url(#clip232)\" style=\"stroke:#6b9e32; stroke-linecap:round; stroke-linejoin:round; stroke-width:4; stroke-opacity:1; fill:none\" points=\"373.788,1485.57 520.389,1623.21 666.99,1733.32 813.591,1870.96 960.192,1485.57 1106.79,1636.97 1253.39,1767.73 1399.99,1926.01 1546.6,1485.57 1693.2,1636.97 1839.8,1760.85 1986.4,1485.57 2133,1630.09 2279.6,1815.9 2426.2,1485.57 2572.8,1616.33 2719.4,1767.73 2866,1485.57 3012.6,1602.56 3159.2,1712.67 3305.81,1485.57 3452.41,1650.74 3599.01,1795.26 3745.61,1932.89 3892.21,2043.01 4038.81,2132.47 4185.41,1485.57 4332.01,1623.21 4478.61,1850.31 4625.21,1485.57 \"/>\n",
       "<polyline clip-path=\"url(#clip232)\" style=\"stroke:#009af9; stroke-linecap:round; stroke-linejoin:round; stroke-width:4; stroke-opacity:1; fill:none\" points=\"373.788,1485.57 520.389,1609.44 666.99,1753.96 813.591,1485.57 960.192,1630.09 1106.79,1774.61 1253.39,1912.25 1399.99,2029.24 1546.6,2173.76 1693.2,1485.57 1839.8,1588.8 1986.4,1726.44 2133,1485.57 2279.6,1657.62 2426.2,1857.19 2572.8,1960.42 2719.4,2077.42 2866,2173.76 3012.6,1485.57 3159.2,1657.62 3305.81,1815.9 3452.41,1960.42 3599.01,2111.82 3745.61,2173.76 3892.21,1485.57 4038.81,1616.33 4185.41,1781.49 4332.01,1946.66 4478.61,1485.57 4625.21,1636.97 \"/>\n",
       "<polyline clip-path=\"url(#clip232)\" style=\"stroke:#e26f46; stroke-linecap:round; stroke-linejoin:round; stroke-width:4; stroke-opacity:1; fill:none\" points=\"373.788,1485.57 520.389,1609.44 666.99,1767.73 813.591,1912.25 960.192,2056.77 1106.79,2173.76 1253.39,2173.76 1399.99,1485.57 1546.6,1616.33 1693.2,1795.26 1839.8,1905.37 1986.4,2036.12 2133,1485.57 2279.6,1588.8 2426.2,1753.96 2572.8,1485.57 2719.4,1630.09 2866,1809.02 3012.6,1932.89 3159.2,2125.59 3305.81,1485.57 3452.41,1616.33 3599.01,1795.26 3745.61,1485.57 3892.21,1602.56 4038.81,1705.79 4185.41,1485.57 4332.01,1643.85 4478.61,1767.73 4625.21,1485.57 \"/>\n",
       "<polyline clip-path=\"url(#clip232)\" style=\"stroke:#3da44d; stroke-linecap:round; stroke-linejoin:round; stroke-width:4; stroke-opacity:1; fill:none\" points=\"373.788,1485.57 520.389,1623.21 666.99,1712.67 813.591,1485.57 960.192,1643.85 1106.79,1774.61 1253.39,1485.57 1399.99,1636.97 1546.6,1726.44 1693.2,1822.78 1839.8,1485.57 1986.4,1630.09 2133,1774.61 2279.6,1485.57 2426.2,1643.85 2572.8,1788.37 2719.4,1898.48 2866,1485.57 3012.6,1650.74 3159.2,1485.57 3305.81,1671.38 3452.41,1802.14 3599.01,1981.07 3745.61,2132.47 3892.21,1485.57 4038.81,1616.33 4185.41,1767.73 4332.01,1485.57 4478.61,1630.09 4625.21,1774.61 \"/>\n",
       "<polyline clip-path=\"url(#clip232)\" style=\"stroke:#c271d2; stroke-linecap:round; stroke-linejoin:round; stroke-width:4; stroke-opacity:1; fill:none\" points=\"373.788,1485.57 520.389,1630.09 666.99,1781.49 813.591,1891.6 960.192,1485.57 1106.79,1630.09 1253.39,1802.14 1399.99,1485.57 1546.6,1636.97 1693.2,1767.73 1839.8,1898.48 1986.4,1485.57 2133,1636.97 2279.6,1485.57 2426.2,1630.09 2572.8,1760.85 2719.4,1864.08 2866,1981.07 3012.6,1485.57 3159.2,1650.74 3305.81,1788.37 3452.41,1932.89 3599.01,2091.18 3745.61,1485.57 3892.21,1657.62 4038.81,1809.02 4185.41,1981.07 4332.01,1485.57 4478.61,1616.33 4625.21,1747.08 \"/>\n",
       "<polyline clip-path=\"url(#clip232)\" style=\"stroke:#ac8d18; stroke-linecap:round; stroke-linejoin:round; stroke-width:4; stroke-opacity:1; fill:none\" points=\"373.788,1485.57 520.389,1643.85 666.99,1767.73 813.591,1932.89 960.192,2043.01 1106.79,1485.57 1253.39,1657.62 1399.99,1774.61 1546.6,1905.37 1693.2,2022.36 1839.8,2125.59 1986.4,2173.76 2133,1485.57 2279.6,1609.44 2426.2,1747.08 2572.8,1485.57 2719.4,1609.44 2866,1719.55 3012.6,1485.57 3159.2,1616.33 3305.81,1767.73 3452.41,1884.72 3599.01,1974.19 3745.61,2077.42 3892.21,2173.76 4038.81,2173.76 4185.41,1485.57 4332.01,1595.68 4478.61,1747.08 4625.21,1870.96 \"/>\n",
       "<polyline clip-path=\"url(#clip232)\" style=\"stroke:#00a9ad; stroke-linecap:round; stroke-linejoin:round; stroke-width:4; stroke-opacity:1; fill:none\" points=\"373.788,1485.57 520.389,1609.44 666.99,1788.37 813.591,1953.54 960.192,2043.01 1106.79,2160 1253.39,1485.57 1399.99,1616.33 1546.6,1740.2 1693.2,1857.19 1839.8,1485.57 1986.4,1616.33 2133,1767.73 2279.6,1485.57 2426.2,1602.56 2572.8,1726.44 2719.4,1850.31 2866,2063.65 3012.6,1485.57 3159.2,1664.5 3305.81,1829.67 3452.41,1485.57 3599.01,1636.97 3745.61,1760.85 3892.21,1485.57 4038.81,1595.68 4185.41,1705.79 4332.01,1781.49 4478.61,1960.42 4625.21,1485.57 \"/>\n",
       "<polyline clip-path=\"url(#clip232)\" style=\"stroke:#ed5d92; stroke-linecap:round; stroke-linejoin:round; stroke-width:4; stroke-opacity:1; fill:none\" points=\"373.788,1485.57 520.389,1602.56 666.99,1726.44 813.591,1829.67 960.192,1141.47 1106.79,1306.64 1253.39,1485.57 1399.99,1568.15 1546.6,1664.5 1693.2,1815.9 1839.8,1141.47 1986.4,1313.52 2133,1430.51 2279.6,1533.74 2426.2,1678.26 2572.8,1795.26 2719.4,1141.47 2866,1237.82 3012.6,1354.81 3159.2,1451.16 3305.81,1616.33 3452.41,1726.44 3599.01,1141.47 3745.61,1327.28 3892.21,1499.33 4038.81,1657.62 4185.41,1815.9 4332.01,1141.47 4478.61,1251.58 4625.21,1382.34 \"/>\n",
       "<polyline clip-path=\"url(#clip232)\" style=\"stroke:#c68125; stroke-linecap:round; stroke-linejoin:round; stroke-width:4; stroke-opacity:1; fill:none\" points=\"373.788,1485.57 520.389,1623.21 666.99,1719.55 813.591,1141.47 960.192,1347.93 1106.79,1464.92 1253.39,1636.97 1399.99,1809.02 1546.6,1912.25 1693.2,2063.65 1839.8,1141.47 1986.4,1320.4 2133,1554.39 2279.6,1650.74 2426.2,1733.32 2572.8,1141.47 2719.4,1258.46 2866,1409.87 3012.6,1519.98 3159.2,1630.09 3305.81,1767.73 3452.41,1141.47 3599.01,1306.64 3745.61,1492.45 3892.21,1609.44 4038.81,1712.67 4185.41,1829.67 4332.01,1912.25 4478.61,1141.47 4625.21,1334.17 \"/>\n",
       "<polyline clip-path=\"url(#clip232)\" style=\"stroke:#00a98d; stroke-linecap:round; stroke-linejoin:round; stroke-width:4; stroke-opacity:1; fill:none\" points=\"373.788,1485.57 520.389,1588.8 666.99,1705.79 813.591,1864.08 960.192,2001.71 1106.79,1141.47 1253.39,1279.11 1399.99,1416.75 1546.6,1581.92 1693.2,1712.67 1839.8,1815.9 1986.4,1974.19 2133,2132.47 2279.6,1141.47 2426.2,1272.23 2572.8,1409.87 2719.4,1588.8 2866,1788.37 3012.6,1926.01 3159.2,1141.47 3305.81,1224.06 3452.41,1327.28 3599.01,1402.99 3745.61,1526.86 3892.21,1671.38 4038.81,1809.02 4185.41,1905.37 4332.01,2043.01 4478.61,1141.47 4625.21,1327.28 \"/>\n",
       "<polyline clip-path=\"url(#clip232)\" style=\"stroke:#8e971d; stroke-linecap:round; stroke-linejoin:round; stroke-width:4; stroke-opacity:1; fill:none\" points=\"373.788,1485.57 520.389,1643.85 666.99,1781.49 813.591,1919.13 960.192,1141.47 1106.79,1306.64 1253.39,1464.92 1399.99,1581.92 1546.6,1712.67 1693.2,1809.02 1839.8,1141.47 1986.4,1334.17 2133,1513.1 2279.6,1657.62 2426.2,1767.73 2572.8,1141.47 2719.4,1299.76 2866,1458.04 3012.6,1568.15 3159.2,1685.14 3305.81,1829.67 3452.41,1141.47 3599.01,1265.35 3745.61,1382.34 3892.21,1547.51 4038.81,1726.44 4185.41,1857.19 4332.01,2015.48 4478.61,1141.47 4625.21,1285.99 \"/>\n",
       "<polyline clip-path=\"url(#clip232)\" style=\"stroke:#00a8cb; stroke-linecap:round; stroke-linejoin:round; stroke-width:4; stroke-opacity:1; fill:none\" points=\"373.788,1485.57 520.389,1643.85 666.99,1760.85 813.591,1870.96 960.192,1141.47 1106.79,1230.94 1253.39,1327.28 1399.99,1430.51 1546.6,1595.68 1693.2,1733.32 1839.8,1891.6 1986.4,1141.47 2133,1272.23 2279.6,1409.87 2426.2,1602.56 2572.8,1753.96 2719.4,1141.47 2866,1292.87 3012.6,1402.99 3159.2,1513.1 3305.81,1630.09 3452.41,1760.85 3599.01,1141.47 3745.61,1279.11 3892.21,1437.4 4038.81,1561.27 4185.41,1698.91 4332.01,1141.47 4478.61,1320.4 4625.21,1423.63 \"/>\n",
       "<polyline clip-path=\"url(#clip232)\" style=\"stroke:#9b7fe8; stroke-linecap:round; stroke-linejoin:round; stroke-width:4; stroke-opacity:1; fill:none\" points=\"373.788,1485.57 520.389,1581.92 666.99,1733.32 813.591,1141.47 960.192,1306.64 1106.79,1464.92 1253.39,1588.8 1399.99,1705.79 1546.6,1850.31 1693.2,1141.47 1839.8,1237.82 1986.4,1347.93 2133,1458.04 2279.6,1595.68 2426.2,1692.03 2572.8,1843.43 2719.4,2001.71 2866,1141.47 3012.6,1313.52 3159.2,1492.45 3305.81,1609.44 3452.41,1719.55 3599.01,1141.47 3745.61,1230.94 3892.21,1382.34 4038.81,1513.1 4185.41,1685.14 4332.01,1788.37 4478.61,1141.47 4625.21,1292.87 \"/>\n",
       "<polyline clip-path=\"url(#clip232)\" style=\"stroke:#608cf6; stroke-linecap:round; stroke-linejoin:round; stroke-width:4; stroke-opacity:1; fill:none\" points=\"373.788,1485.57 520.389,1609.44 666.99,1740.2 813.591,1891.6 960.192,1141.47 1106.79,1299.76 1253.39,1430.51 1399.99,1595.68 1546.6,1719.55 1693.2,1141.47 1839.8,1313.52 1986.4,1437.4 2133,1540.62 2279.6,1726.44 2426.2,1815.9 2572.8,1141.47 2719.4,1265.35 2866,1478.69 3012.6,1595.68 3159.2,1705.79 3305.81,1141.47 3452.41,1285.99 3599.01,1437.4 3745.61,1623.21 3892.21,1747.08 4038.81,1141.47 4185.41,1272.23 4332.01,1409.87 4478.61,1561.27 4625.21,1685.14 \"/>\n",
       "<polyline clip-path=\"url(#clip232)\" style=\"stroke:#f05f73; stroke-linecap:round; stroke-linejoin:round; stroke-width:4; stroke-opacity:1; fill:none\" points=\"373.788,1485.57 520.389,1623.21 666.99,1781.49 813.591,1884.72 960.192,2063.65 1106.79,2146.23 1253.39,1141.47 1399.99,1299.76 1546.6,1409.87 1693.2,1533.74 1839.8,1664.5 1986.4,1822.78 2133,1939.78 2279.6,1141.47 2426.2,1210.29 2572.8,1389.22 2719.4,1499.33 2866,1657.62 3012.6,1795.26 3159.2,1953.54 3305.81,1141.47 3452.41,1279.11 3599.01,1458.04 3745.61,1657.62 3892.21,1829.67 4038.81,1994.83 4185.41,1141.47 4332.01,1334.17 4478.61,1485.57 4625.21,1636.97 \"/>\n",
       "<polyline clip-path=\"url(#clip232)\" style=\"stroke:#dd64b5; stroke-linecap:round; stroke-linejoin:round; stroke-width:4; stroke-opacity:1; fill:none\" points=\"373.788,1485.57 520.389,1623.21 666.99,1753.96 813.591,1870.96 960.192,2001.71 1106.79,2132.47 1253.39,2173.76 1399.99,1141.47 1546.6,1251.58 1693.2,1402.99 1839.8,1540.62 1986.4,1636.97 2133,1753.96 2279.6,1891.6 2426.2,1141.47 2572.8,1258.46 2719.4,1334.17 2866,1485.57 3012.6,1636.97 3159.2,1781.49 3305.81,1141.47 3452.41,1244.7 3599.01,1361.69 3745.61,1547.51 3892.21,1719.55 4038.81,1802.14 4185.41,1946.66 4332.01,1141.47 4478.61,1272.23 4625.21,1368.58 \"/>\n",
       "<polyline clip-path=\"url(#clip232)\" style=\"stroke:#6b9e32; stroke-linecap:round; stroke-linejoin:round; stroke-width:4; stroke-opacity:1; fill:none\" points=\"373.788,1485.57 520.389,1623.21 666.99,1795.26 813.591,1141.47 960.192,1265.35 1106.79,1375.46 1253.39,1478.69 1399.99,1636.97 1546.6,1788.37 1693.2,1141.47 1839.8,1258.46 1986.4,1382.34 2133,1485.57 2279.6,1602.56 2426.2,1678.26 2572.8,1829.67 2719.4,1141.47 2866,1265.35 3012.6,1375.46 3159.2,1499.33 3305.81,1623.21 3452.41,1781.49 3599.01,1141.47 3745.61,1224.06 3892.21,1341.05 4038.81,1485.57 4185.41,1616.33 4332.01,1788.37 4478.61,1939.78 4625.21,1141.47 \"/>\n",
       "<polyline clip-path=\"url(#clip232)\" style=\"stroke:#009af9; stroke-linecap:round; stroke-linejoin:round; stroke-width:4; stroke-opacity:1; fill:none\" points=\"373.788,1485.57 520.389,1664.5 666.99,1822.78 813.591,797.375 960.192,921.25 1106.79,1045.12 1253.39,1182.76 1399.99,1341.05 1546.6,1499.33 1693.2,1636.97 1839.8,1802.14 1986.4,797.375 2133,928.132 2279.6,1024.48 2426.2,1182.76 2572.8,1361.69 2719.4,1506.21 2866,1616.33 3012.6,1747.08 3159.2,797.375 3305.81,935.014 3452.41,1093.3 3599.01,1203.41 3745.61,1354.81 3892.21,1458.04 4038.81,1609.44 4185.41,1774.61 4332.01,797.375 4478.61,928.132 4625.21,1052.01 \"/>\n",
       "<polyline clip-path=\"url(#clip232)\" style=\"stroke:#e26f46; stroke-linecap:round; stroke-linejoin:round; stroke-width:4; stroke-opacity:1; fill:none\" points=\"373.788,1485.57 520.389,1609.44 666.99,1753.96 813.591,797.375 960.192,976.305 1106.79,1120.83 1253.39,1258.46 1399.99,1402.99 1546.6,1526.86 1693.2,1692.03 1839.8,1809.02 1986.4,797.375 2133,969.424 2279.6,1141.47 2426.2,1285.99 2572.8,1416.75 2719.4,1575.03 2866,1719.55 3012.6,1843.43 3159.2,1939.78 3305.81,797.375 3452.41,976.305 3599.01,1093.3 3745.61,1196.53 3892.21,1320.4 4038.81,1430.51 4185.41,1526.86 4332.01,1657.62 4478.61,1809.02 4625.21,2008.6 \"/>\n",
       "<polyline clip-path=\"url(#clip232)\" style=\"stroke:#3da44d; stroke-linecap:round; stroke-linejoin:round; stroke-width:4; stroke-opacity:1; fill:none\" points=\"373.788,1485.57 520.389,1692.03 666.99,1829.67 813.591,1987.95 960.192,797.375 1106.79,948.778 1253.39,1093.3 1399.99,1251.58 1546.6,1327.28 1693.2,1458.04 1839.8,1609.44 1986.4,1753.96 2133,1864.08 2279.6,2022.36 2426.2,2160 2572.8,797.375 2719.4,928.132 2866,1038.24 3012.6,1148.35 3159.2,1285.99 3305.81,1430.51 3452.41,1581.92 3599.01,1753.96 3745.61,797.375 3892.21,914.368 4038.81,1086.42 4185.41,1244.7 4332.01,1396.1 4478.61,1519.98 4625.21,1636.97 \"/>\n",
       "<polyline clip-path=\"url(#clip232)\" style=\"stroke:#c271d2; stroke-linecap:round; stroke-linejoin:round; stroke-width:4; stroke-opacity:1; fill:none\" points=\"373.788,1485.57 520.389,1630.09 666.99,1740.2 813.591,1850.31 960.192,797.375 1106.79,900.604 1253.39,1038.24 1399.99,1134.59 1546.6,1313.52 1693.2,1402.99 1839.8,1568.15 1986.4,1657.62 2133,1788.37 2279.6,1932.89 2426.2,2091.18 2572.8,2173.76 2719.4,2173.76 2866,797.375 3012.6,914.368 3159.2,1072.65 3305.81,1203.41 3452.41,1347.93 3599.01,1499.33 3745.61,1630.09 3892.21,1767.73 4038.81,1898.48 4185.41,2029.24 4332.01,797.375 4478.61,900.604 4625.21,1003.83 \"/>\n",
       "<polyline clip-path=\"url(#clip232)\" style=\"stroke:#ac8d18; stroke-linecap:round; stroke-linejoin:round; stroke-width:4; stroke-opacity:1; fill:none\" points=\"373.788,1485.57 520.389,1616.33 666.99,1767.73 813.591,1926.01 960.192,2043.01 1106.79,2146.23 1253.39,2173.76 1399.99,797.375 1546.6,962.542 1693.2,1086.42 1839.8,1230.94 1986.4,1430.51 2133,1547.51 2279.6,1678.26 2426.2,1829.67 2572.8,797.375 2719.4,907.486 2866,1031.36 3012.6,1127.71 3159.2,1272.23 3305.81,1471.8 3452.41,1623.21 3599.01,1767.73 3745.61,797.375 3892.21,955.66 4038.81,1086.42 4185.41,1230.94 4332.01,1368.58 4478.61,1513.1 4625.21,1685.14 \"/>\n",
       "<polyline clip-path=\"url(#clip232)\" style=\"stroke:#00a9ad; stroke-linecap:round; stroke-linejoin:round; stroke-width:4; stroke-opacity:1; fill:none\" points=\"373.788,1485.57 520.389,1636.97 666.99,1747.08 813.591,797.375 960.192,907.486 1106.79,1045.12 1253.39,1196.53 1399.99,1341.05 1546.6,1478.69 1693.2,1636.97 1839.8,1753.96 1986.4,797.375 2133,983.187 2279.6,1058.89 2426.2,1182.76 2572.8,1292.87 2719.4,1451.16 2866,1547.51 3012.6,1719.55 3159.2,1822.78 3305.81,1981.07 3452.41,2139.35 3599.01,2173.76 3745.61,2173.76 3892.21,2173.76 4038.81,2173.76 4185.41,797.375 4332.01,962.542 4478.61,1058.89 4625.21,1169 \"/>\n",
       "<polyline clip-path=\"url(#clip232)\" style=\"stroke:#ed5d92; stroke-linecap:round; stroke-linejoin:round; stroke-width:4; stroke-opacity:1; fill:none\" points=\"373.788,1485.57 520.389,1602.56 666.99,1692.03 813.591,1843.43 960.192,1946.66 1106.79,2070.53 1253.39,2146.23 1399.99,797.375 1546.6,921.25 1693.2,1010.72 1839.8,1141.47 1986.4,1299.76 2133,1458.04 2279.6,1643.85 2426.2,1774.61 2572.8,1953.54 2719.4,2070.53 2866,797.375 3012.6,941.896 3159.2,1079.53 3305.81,1203.41 3452.41,1354.81 3599.01,1437.4 3745.61,1588.8 3892.21,1760.85 4038.81,1877.84 4185.41,797.375 4332.01,914.368 4478.61,1052.01 4625.21,1182.76 \"/>\n",
       "<polyline clip-path=\"url(#clip232)\" style=\"stroke:#c68125; stroke-linecap:round; stroke-linejoin:round; stroke-width:4; stroke-opacity:1; fill:none\" points=\"373.788,1485.57 520.389,1623.21 666.99,1753.96 813.591,797.375 960.192,907.486 1106.79,1065.77 1253.39,1162.12 1399.99,1320.4 1546.6,1416.75 1693.2,1533.74 1839.8,1671.38 1986.4,1822.78 2133,797.375 2279.6,976.305 2426.2,1086.42 2572.8,1224.06 2719.4,1334.17 2866,1499.33 3012.6,1623.21 3159.2,1760.85 3305.81,1843.43 3452.41,2043.01 3599.01,797.375 3745.61,907.486 3892.21,1038.24 4038.81,1113.94 4185.41,1265.35 4332.01,1423.63 4478.61,1657.62 4625.21,1774.61 \"/>\n",
       "<polyline clip-path=\"url(#clip232)\" style=\"stroke:#00a98d; stroke-linecap:round; stroke-linejoin:round; stroke-width:4; stroke-opacity:1; fill:none\" points=\"373.788,1485.57 520.389,1616.33 666.99,1747.08 813.591,797.375 960.192,983.187 1106.79,1093.3 1253.39,1272.23 1399.99,1464.92 1546.6,1581.92 1693.2,1685.14 1839.8,1788.37 1986.4,797.375 2133,935.014 2279.6,1127.71 2426.2,1258.46 2572.8,1409.87 2719.4,1540.62 2866,1698.91 3012.6,1850.31 3159.2,797.375 3305.81,962.542 3452.41,1052.01 3599.01,1196.53 3745.61,1361.69 3892.21,1526.86 4038.81,1657.62 4185.41,1788.37 4332.01,1939.78 4478.61,2022.36 4625.21,2160 \"/>\n",
       "<polyline clip-path=\"url(#clip232)\" style=\"stroke:#8e971d; stroke-linecap:round; stroke-linejoin:round; stroke-width:4; stroke-opacity:1; fill:none\" points=\"373.788,1485.57 520.389,1650.74 666.99,1767.73 813.591,797.375 960.192,928.132 1106.79,1120.83 1253.39,1237.82 1399.99,1416.75 1546.6,1568.15 1693.2,1747.08 1839.8,797.375 1986.4,921.25 2133,1127.71 2279.6,1224.06 2426.2,1292.87 2572.8,1416.75 2719.4,1588.8 2866,1733.32 3012.6,797.375 3159.2,976.305 3305.81,1127.71 3452.41,1279.11 3599.01,1416.75 3745.61,1519.98 3892.21,1698.91 4038.81,1822.78 4185.41,797.375 4332.01,948.778 4478.61,1107.06 4625.21,1244.7 \"/>\n",
       "<polyline clip-path=\"url(#clip232)\" style=\"stroke:#00a8cb; stroke-linecap:round; stroke-linejoin:round; stroke-width:4; stroke-opacity:1; fill:none\" points=\"373.788,1485.57 520.389,1588.8 666.99,1692.03 813.591,1857.19 960.192,453.278 1106.79,542.744 1253.39,625.327 1399.99,783.611 1546.6,935.014 1693.2,1058.89 1839.8,1237.82 1986.4,1361.69 2133,1499.33 2279.6,1643.85 2426.2,1747.08 2572.8,1836.55 2719.4,1967.3 2866,453.278 3012.6,652.854 3159.2,818.021 3305.81,935.014 3452.41,1058.89 3599.01,1141.47 3745.61,1292.87 3892.21,1485.57 4038.81,1643.85 4185.41,1760.85 4332.01,453.278 4478.61,604.681 4625.21,701.028 \"/>\n",
       "<polyline clip-path=\"url(#clip232)\" style=\"stroke:#9b7fe8; stroke-linecap:round; stroke-linejoin:round; stroke-width:4; stroke-opacity:1; fill:none\" points=\"373.788,1485.57 520.389,1643.85 666.99,1795.26 813.591,1960.42 960.192,2098.06 1106.79,2173.76 1253.39,453.278 1399.99,542.744 1546.6,728.556 1693.2,852.431 1839.8,983.187 1986.4,1107.06 2133,1210.29 2279.6,1375.46 2426.2,1464.92 2572.8,1616.33 2719.4,1726.44 2866,1843.43 3012.6,453.278 3159.2,597.799 3305.81,756.084 3452.41,886.84 3599.01,1079.53 3745.61,1203.41 3892.21,1409.87 4038.81,1540.62 4185.41,1609.44 4332.01,1788.37 4478.61,453.278 4625.21,570.271 \"/>\n",
       "<polyline clip-path=\"url(#clip232)\" style=\"stroke:#608cf6; stroke-linecap:round; stroke-linejoin:round; stroke-width:4; stroke-opacity:1; fill:none\" points=\"373.788,1485.57 520.389,1630.09 666.99,1753.96 813.591,1884.72 960.192,453.278 1106.79,597.799 1253.39,776.729 1399.99,921.25 1546.6,1045.12 1693.2,1203.41 1839.8,1354.81 1986.4,1478.69 2133,1630.09 2279.6,1747.08 2426.2,453.278 2572.8,584.035 2719.4,721.674 2866,886.84 3012.6,990.069 3159.2,1189.65 3305.81,1320.4 3452.41,1492.45 3599.01,1678.26 3745.61,1760.85 3892.21,1864.08 4038.81,2036.12 4185.41,2173.76 4332.01,2173.76 4478.61,453.278 4625.21,577.153 \"/>\n",
       "<polyline clip-path=\"url(#clip232)\" style=\"stroke:#f05f73; stroke-linecap:round; stroke-linejoin:round; stroke-width:4; stroke-opacity:1; fill:none\" points=\"373.788,1485.57 520.389,1630.09 666.99,1719.55 813.591,453.278 960.192,584.035 1106.79,735.438 1253.39,948.778 1399.99,1031.36 1546.6,1120.83 1693.2,1265.35 1839.8,1354.81 1986.4,1464.92 2133,1581.92 2279.6,1760.85 2426.2,453.278 2572.8,535.862 2719.4,701.028 2866,907.486 3012.6,1079.53 3159.2,1210.29 3305.81,1299.76 3452.41,1382.34 3599.01,1609.44 3745.61,1802.14 3892.21,453.278 4038.81,563.389 4185.41,707.91 4332.01,790.493 4478.61,852.431 4625.21,990.069 \"/>\n",
       "<polyline clip-path=\"url(#clip232)\" style=\"stroke:#dd64b5; stroke-linecap:round; stroke-linejoin:round; stroke-width:4; stroke-opacity:1; fill:none\" points=\"373.788,1485.57 520.389,1636.97 666.99,1753.96 813.591,453.278 960.192,611.563 1106.79,749.202 1253.39,955.66 1399.99,1107.06 1546.6,1251.58 1693.2,1423.63 1839.8,1602.56 1986.4,1726.44 2133,453.278 2279.6,584.035 2426.2,687.264 2572.8,838.667 2719.4,976.305 2866,1175.88 3012.6,1327.28 3159.2,1478.69 3305.81,1575.03 3452.41,1692.03 3599.01,1795.26 3745.61,453.278 3892.21,590.917 4038.81,756.084 4185.41,893.722 4332.01,996.951 4478.61,1148.35 4625.21,1237.82 \"/>\n",
       "<polyline clip-path=\"url(#clip232)\" style=\"stroke:#6b9e32; stroke-linecap:round; stroke-linejoin:round; stroke-width:4; stroke-opacity:1; fill:none\" points=\"373.788,1485.57 520.389,1623.21 666.99,1719.55 813.591,1809.02 960.192,453.278 1106.79,549.625 1253.39,666.618 1399.99,797.375 1546.6,983.187 1693.2,1100.18 1839.8,1285.99 1986.4,1409.87 2133,1533.74 2279.6,1698.91 2426.2,453.278 2572.8,570.271 2719.4,735.438 2866,838.667 3012.6,962.542 3159.2,1065.77 3305.81,1182.76 3452.41,1279.11 3599.01,1368.58 3745.61,1458.04 3892.21,1575.03 4038.81,1705.79 4185.41,1857.19 4332.01,453.278 4478.61,597.799 4625.21,756.084 \"/>\n",
       "<polyline clip-path=\"url(#clip232)\" style=\"stroke:#009af9; stroke-linecap:round; stroke-linejoin:round; stroke-width:4; stroke-opacity:1; fill:none\" points=\"373.788,1485.57 520.389,1616.33 666.99,1760.85 813.591,1926.01 960.192,2098.06 1106.79,2173.76 1253.39,453.278 1399.99,639.091 1546.6,845.549 1693.2,962.542 1839.8,1052.01 1986.4,1182.76 2133,1375.46 2279.6,1519.98 2426.2,1671.38 2572.8,1802.14 2719.4,453.278 2866,563.389 3012.6,694.146 3159.2,811.139 3305.81,996.951 3452.41,1189.65 3599.01,1334.17 3745.61,1499.33 3892.21,1671.38 4038.81,1809.02 4185.41,1981.07 4332.01,2111.82 4478.61,453.278 4625.21,577.153 \"/>\n",
       "<polyline clip-path=\"url(#clip232)\" style=\"stroke:#e26f46; stroke-linecap:round; stroke-linejoin:round; stroke-width:4; stroke-opacity:1; fill:none\" points=\"373.788,1485.57 520.389,1657.62 666.99,1781.49 813.591,453.278 960.192,577.153 1106.79,639.091 1253.39,769.847 1399.99,907.486 1546.6,1038.24 1693.2,1134.59 1839.8,1272.23 1986.4,1437.4 2133,1561.27 2279.6,1698.91 2426.2,1788.37 2572.8,453.278 2719.4,563.389 2866,666.618 3012.6,797.375 3159.2,928.132 3305.81,1072.65 3452.41,1196.53 3599.01,1320.4 3745.61,1464.92 3892.21,1609.44 4038.81,1795.26 4185.41,1905.37 4332.01,453.278 4478.61,590.917 4625.21,714.792 \"/>\n",
       "<polyline clip-path=\"url(#clip232)\" style=\"stroke:#3da44d; stroke-linecap:round; stroke-linejoin:round; stroke-width:4; stroke-opacity:1; fill:none\" points=\"373.788,1485.57 520.389,1664.5 666.99,1815.9 813.591,453.278 960.192,618.445 1106.79,762.965 1253.39,797.375 1399.99,935.014 1546.6,1052.01 1693.2,1210.29 1839.8,1327.28 1986.4,1437.4 2133,1561.27 2279.6,1657.62 2426.2,1822.78 2572.8,453.278 2719.4,618.445 2866,687.264 3012.6,811.139 3159.2,990.069 3305.81,1120.83 3452.41,1272.23 3599.01,1409.87 3745.61,1588.8 3892.21,1712.67 4038.81,1822.78 4185.41,453.278 4332.01,584.035 4478.61,742.32 4625.21,845.549 \"/>\n",
       "<polyline clip-path=\"url(#clip232)\" style=\"stroke:#c271d2; stroke-linecap:round; stroke-linejoin:round; stroke-width:4; stroke-opacity:1; fill:none\" points=\"373.788,1485.57 520.389,1595.68 666.99,1719.55 813.591,453.278 960.192,590.917 1106.79,728.556 1253.39,907.486 1399.99,1052.01 1546.6,1189.65 1693.2,1279.11 1839.8,1430.51 1986.4,1554.39 2133,1698.91 2279.6,1795.26 2426.2,1912.25 2572.8,453.278 2719.4,577.153 2866,714.792 3012.6,859.313 3159.2,1003.83 3305.81,1175.88 3452.41,1327.28 3599.01,1464.92 3745.61,1581.92 3892.21,1747.08 4038.81,1857.19 4185.41,1994.83 4332.01,2166.88 4478.61,453.278 4625.21,584.035 \"/>\n",
       "<polyline clip-path=\"url(#clip232)\" style=\"stroke:#ac8d18; stroke-linecap:round; stroke-linejoin:round; stroke-width:4; stroke-opacity:1; fill:none\" points=\"373.788,1485.57 520.389,1616.33 666.99,1802.14 813.591,109.182 960.192,198.647 1106.79,301.876 1253.39,460.16 1399.99,584.035 1546.6,728.556 1693.2,838.667 1839.8,990.069 1986.4,1134.59 2133,1292.87 2279.6,1402.99 2426.2,1533.74 2572.8,1636.97 2719.4,1802.14 2866,1953.54 3012.6,109.182 3159.2,260.584 3305.81,439.514 3452.41,508.334 3599.01,639.091 3745.61,742.32 3892.21,941.896 4038.81,1134.59 4185.41,1272.23 4332.01,1389.22 4478.61,1533.74 4625.21,1636.97 \"/>\n",
       "<polyline clip-path=\"url(#clip232)\" style=\"stroke:#00a9ad; stroke-linecap:round; stroke-linejoin:round; stroke-width:4; stroke-opacity:1; fill:none\" points=\"373.788,1485.57 520.389,1664.5 666.99,1822.78 813.591,1960.42 960.192,109.182 1106.79,260.584 1253.39,467.042 1399.99,590.917 1546.6,749.202 1693.2,866.195 1839.8,1003.83 1986.4,1134.59 2133,1313.52 2279.6,1402.99 2426.2,1533.74 2572.8,1698.91 2719.4,109.182 2866,260.584 3012.6,411.987 3159.2,625.327 3305.81,749.202 3452.41,886.84 3599.01,1045.12 3745.61,1148.35 3892.21,1292.87 4038.81,1375.46 4185.41,1526.86 4332.01,1685.14 4478.61,109.182 4625.21,274.348 \"/>\n",
       "<polyline clip-path=\"url(#clip232)\" style=\"stroke:#ed5d92; stroke-linecap:round; stroke-linejoin:round; stroke-width:4; stroke-opacity:1; fill:none\" points=\"373.788,1485.57 520.389,1636.97 666.99,109.182 813.591,191.765 960.192,329.403 1106.79,439.514 1253.39,570.271 1399.99,694.146 1546.6,824.903 1693.2,941.896 1839.8,1107.06 1986.4,1251.58 2133,1389.22 2279.6,1540.62 2426.2,1671.38 2572.8,1809.02 2719.4,1981.07 2866,109.182 3012.6,239.938 3159.2,343.167 3305.81,494.57 3452.41,645.973 3599.01,797.375 3745.61,990.069 3892.21,1120.83 4038.81,1292.87 4185.41,1423.63 4332.01,1526.86 4478.61,1671.38 4625.21,109.182 \"/>\n",
       "<polyline clip-path=\"url(#clip232)\" style=\"stroke:#c68125; stroke-linecap:round; stroke-linejoin:round; stroke-width:4; stroke-opacity:1; fill:none\" points=\"373.788,1485.57 520.389,1630.09 666.99,1753.96 813.591,109.182 960.192,253.702 1106.79,377.577 1253.39,528.98 1399.99,673.5 1546.6,762.965 1693.2,873.076 1839.8,1031.36 1986.4,1182.76 2133,1265.35 2279.6,1423.63 2426.2,1602.56 2572.8,1774.61 2719.4,1912.25 2866,109.182 3012.6,233.056 3159.2,363.813 3305.81,508.334 3452.41,639.091 3599.01,749.202 3745.61,866.195 3892.21,1017.6 4038.81,1169 4185.41,1272.23 4332.01,1389.22 4478.61,1554.39 4625.21,1664.5 \"/>\n",
       "<polyline clip-path=\"url(#clip232)\" style=\"stroke:#00a98d; stroke-linecap:round; stroke-linejoin:round; stroke-width:4; stroke-opacity:1; fill:none\" points=\"373.788,1485.57 520.389,1575.03 666.99,1698.91 813.591,1802.14 960.192,109.182 1106.79,219.293 1253.39,322.522 1399.99,515.216 1546.6,680.382 1693.2,811.139 1839.8,921.25 1986.4,1086.42 2133,1224.06 2279.6,1368.58 2426.2,1540.62 2572.8,1698.91 2719.4,1809.02 2866,1994.83 3012.6,2091.18 3159.2,109.182 3305.81,233.056 3452.41,350.049 3599.01,460.16 3745.61,625.327 3892.21,735.438 4038.81,873.076 4185.41,1038.24 4332.01,1182.76 4478.61,1313.52 4625.21,1478.69 \"/>\n",
       "<polyline clip-path=\"url(#clip232)\" style=\"stroke:#8e971d; stroke-linecap:round; stroke-linejoin:round; stroke-width:4; stroke-opacity:1; fill:none\" points=\"373.788,1485.57 520.389,1595.68 666.99,1698.91 813.591,1857.19 960.192,109.182 1106.79,253.702 1253.39,363.813 1399.99,453.278 1546.6,577.153 1693.2,694.146 1839.8,838.667 1986.4,996.951 2133,1196.53 2279.6,1327.28 2426.2,1492.45 2572.8,1630.09 2719.4,1726.44 2866,1870.96 3012.6,1994.83 3159.2,109.182 3305.81,281.23 3452.41,418.869 3599.01,522.098 3745.61,625.327 3892.21,749.202 4038.81,873.076 4185.41,1017.6 4332.01,1169 4478.61,1320.4 4625.21,1471.8 \"/>\n",
       "<polyline clip-path=\"url(#clip232)\" style=\"stroke:#00a8cb; stroke-linecap:round; stroke-linejoin:round; stroke-width:4; stroke-opacity:1; fill:none\" points=\"373.788,1485.57 520.389,1595.68 666.99,1747.08 813.591,1870.96 960.192,109.182 1106.79,246.82 1253.39,398.223 1399.99,542.744 1546.6,618.445 1693.2,742.32 1839.8,879.958 1986.4,1038.24 2133,1182.76 2279.6,1382.34 2426.2,1471.8 2572.8,1554.39 2719.4,1671.38 2866,109.182 3012.6,212.411 3159.2,343.167 3305.81,480.806 3452.41,590.917 3599.01,742.32 3745.61,873.076 3892.21,1003.83 4038.81,1148.35 4185.41,1237.82 4332.01,1402.99 4478.61,1533.74 4625.21,1671.38 \"/>\n",
       "<polyline clip-path=\"url(#clip232)\" style=\"stroke:#9b7fe8; stroke-linecap:round; stroke-linejoin:round; stroke-width:4; stroke-opacity:1; fill:none\" points=\"373.788,1485.57 520.389,1650.74 666.99,1815.9 813.591,1919.13 960.192,2056.77 1106.79,2173.76 1253.39,109.182 1399.99,294.994 1546.6,473.924 1693.2,604.681 1839.8,790.493 1986.4,976.305 2133,1038.24 2279.6,1175.88 2426.2,1354.81 2572.8,1478.69 2719.4,1636.97 2866,1795.26 3012.6,1919.13 3159.2,2049.89 3305.81,109.182 3452.41,233.056 3599.01,405.105 3745.61,549.625 3892.21,701.028 4038.81,797.375 4185.41,921.25 4332.01,1052.01 4478.61,1196.53 4625.21,1320.4 \"/>\n",
       "<polyline clip-path=\"url(#clip232)\" style=\"stroke:#608cf6; stroke-linecap:round; stroke-linejoin:round; stroke-width:4; stroke-opacity:1; fill:none\" points=\"373.788,1485.57 520.389,1664.5 666.99,1829.67 813.591,1946.66 960.192,109.182 1106.79,178.001 1253.39,322.522 1399.99,439.514 1546.6,542.744 1693.2,721.674 1839.8,824.903 1986.4,983.187 2133,1113.94 2279.6,1313.52 2426.2,1423.63 2572.8,1547.51 2719.4,1671.38 2866,1809.02 3012.6,1946.66 3159.2,109.182 3305.81,260.584 3452.41,350.049 3599.01,494.57 3745.61,611.563 3892.21,756.084 4038.81,893.722 4185.41,1045.12 4332.01,1224.06 4478.61,1354.81 4625.21,1444.28 \"/>\n",
       "<polyline clip-path=\"url(#clip232)\" style=\"stroke:#f05f73; stroke-linecap:round; stroke-linejoin:round; stroke-width:4; stroke-opacity:1; fill:none\" points=\"373.788,1485.57 520.389,1616.33 666.99,1802.14 813.591,1946.66 960.192,109.182 1106.79,233.056 1253.39,363.813 1399.99,515.216 1546.6,659.736 1693.2,790.493 1839.8,935.014 1986.4,1058.89 2133,1175.88 2279.6,1299.76 2426.2,1471.8 2572.8,1616.33 2719.4,1726.44 2866,1877.84 3012.6,109.182 3159.2,274.348 3305.81,453.278 3452.41,563.389 3599.01,790.493 3745.61,907.486 3892.21,1052.01 4038.81,1155.24 4185.41,1285.99 4332.01,1416.75 4478.61,1575.03 4625.21,1795.26 \"/>\n",
       "</svg>\n"
      ]
     },
     "execution_count": 91,
     "metadata": {},
     "output_type": "execute_result"
    }
   ],
   "source": [
    "using Plots\n",
    "p=plot(size=(1200,600)) # set size to 1200x600 pixels\n",
    "i=0\n",
    "for warehouse_level in avg_payoffs.warehouse_levels\n",
    "    plot!(warehouse_level, label=\"lvl $i\", legend=false)\n",
    "    i+=1\n",
    "end\n",
    "\n",
    "xlabel!(\"no\")\n",
    "ylabel!(\"warehouse_level\")"
   ]
  },
  {
   "cell_type": "markdown",
   "metadata": {},
   "source": [
    "# OPTIMIZATION approach"
   ]
  },
  {
   "cell_type": "markdown",
   "metadata": {},
   "source": [
    "### profit maximization "
   ]
  },
  {
   "cell_type": "code",
   "execution_count": 88,
   "metadata": {},
   "outputs": [
    {
     "data": {
      "text/plain": [
       "20"
      ]
     },
     "execution_count": 88,
     "metadata": {},
     "output_type": "execute_result"
    }
   ],
   "source": [
    "#assumptions\n",
    "h = 0.1 #koszt przechowywania jednostki towaru    \n",
    "c = 2.0 #jednostkowy zysk ze sprzedaży\n",
    "p = 0.50 #prawdopodobieństwo dostawy\n",
    "K = 40 #koszt stałego zamówienia\n",
    "k = 1.0 #koszt zmiennej ilości zamówionego towaru\n",
    "init_S = 100 #początkowa ilość towaru w magazynie\n",
    "average_demand = 20 #średnie dzienne zapotrzebowanie"
   ]
  },
  {
   "cell_type": "code",
   "execution_count": null,
   "metadata": {},
   "outputs": [],
   "source": [
    "using Optim\n",
    "\n",
    "# Define the objective function to be maximized\n",
    "function objective_function(x)\n",
    "    s = x[1]\n",
    "    S = x[2]\n",
    "    results = simulateManyRuns(100, 365, s:s+10, S:S+50, init_S = S, s_min = s, s_max = s+10, S_min = S, S_max = S+50)\n",
    "    return -mean(results.profits)\n",
    "end\n",
    "\n",
    "# Set up the optimization problem\n",
    "initial_guess = [20, 100] # initial guess for s and S\n",
    "lower_bounds = [0, 0] # lower bounds for s and S\n",
    "upper_bounds = [100, 500] # upper bounds for s and S\n",
    "opt = optimize(objective_function, lower_bounds, upper_bounds, initial_guess)\n",
    "\n",
    "# Print the optimal values of s and S, as well as the maximum profit\n",
    "println(\"Optimal s: \", opt.minimizer[1])\n",
    "println(\"Optimal S: \", opt.minimizer[2])\n",
    "println(\"Maximum profit: \", -opt.minimum)\n"
   ]
  },
  {
   "cell_type": "code",
   "execution_count": null,
   "metadata": {},
   "outputs": [],
   "source": []
  },
  {
   "cell_type": "markdown",
   "metadata": {},
   "source": [
    "### cost minimization"
   ]
  },
  {
   "cell_type": "code",
   "execution_count": null,
   "metadata": {},
   "outputs": [],
   "source": []
  },
  {
   "cell_type": "code",
   "execution_count": null,
   "metadata": {},
   "outputs": [],
   "source": []
  },
  {
   "cell_type": "code",
   "execution_count": null,
   "metadata": {},
   "outputs": [],
   "source": []
  }
 ],
 "metadata": {
  "kernelspec": {
   "display_name": "Julia 1.8.5",
   "language": "julia",
   "name": "julia-1.8"
  },
  "language_info": {
   "file_extension": ".jl",
   "mimetype": "application/julia",
   "name": "julia",
   "version": "1.8.5"
  }
 },
 "nbformat": 4,
 "nbformat_minor": 2
}
