{
 "cells": [
  {
   "cell_type": "code",
   "execution_count": 13,
   "metadata": {},
   "outputs": [
    {
     "ename": "LoadError",
     "evalue": "ArgumentError: Package DataFrames not found in current path.\n- Run `import Pkg; Pkg.add(\"DataFrames\")` to install the DataFrames package.",
     "output_type": "error",
     "traceback": [
      "ArgumentError: Package DataFrames not found in current path.\n- Run `import Pkg; Pkg.add(\"DataFrames\")` to install the DataFrames package.",
      "",
      "Stacktrace:",
      " [1] macro expansion",
      "   @ ./loading.jl:1163 [inlined]",
      " [2] macro expansion",
      "   @ ./lock.jl:223 [inlined]",
      " [3] require(into::Module, mod::Symbol)",
      "   @ Base ./loading.jl:1144"
     ]
    }
   ],
   "source": [
    "# in the terminal, enter julia, then ] and the command, e.g. add DataFrames\n",
    "using Random, Distributions, Statistics, DataFrames \n",
    "using Random\n",
    "using Distributions\n",
    "using Statistics"
   ]
  },
  {
   "cell_type": "code",
   "execution_count": 14,
   "metadata": {},
   "outputs": [
    {
     "data": {
      "text/plain": [
       "0.0"
      ]
     },
     "execution_count": 14,
     "metadata": {},
     "output_type": "execute_result"
    }
   ],
   "source": [
    "# We can change these variables or use it as follows\n",
    "h = 0.1 #storage cost\n",
    "c = 2.0 #unit profit\n",
    "p = 0.50 #probability of delivery\n",
    "K = 40 # fixed order cost\n",
    "k = 1.0 # variable order cost\n",
    "\n",
    "average_demand = 20\n",
    "\n",
    "s = 30 # we will use such s that provide profit sharing\n",
    "S = 50 \n",
    "\n",
    "X = 100  # the beginning of the first day of the simulation\n",
    "profit = 0.0 "
   ]
  },
  {
   "cell_type": "code",
   "execution_count": 15,
   "metadata": {},
   "outputs": [
    {
     "data": {
      "text/plain": [
       "Poisson{Float64}(λ=20.0)"
      ]
     },
     "execution_count": 15,
     "metadata": {},
     "output_type": "execute_result"
    }
   ],
   "source": [
    "pois = Distributions.Poisson(average_demand)\n",
    "#the disadvantage of Poisson distribution is low variance, in reality the demand is more chaotic\n",
    "#you can choose a different distribution to make it real, e.g. normal...."
   ]
  },
  {
   "cell_type": "code",
   "execution_count": 16,
   "metadata": {},
   "outputs": [
    {
     "data": {
      "text/plain": [
       "5-element Vector{Int64}:\n",
       " 19\n",
       " 19\n",
       " 23\n",
       " 27\n",
       " 25"
      ]
     },
     "execution_count": 16,
     "metadata": {},
     "output_type": "execute_result"
    }
   ],
   "source": [
    "rand(pois, 5)"
   ]
  },
  {
   "cell_type": "code",
   "execution_count": 17,
   "metadata": {},
   "outputs": [
    {
     "data": {
      "text/plain": [
       "simulateOneRun (generic function with 1 method)"
      ]
     },
     "execution_count": 17,
     "metadata": {},
     "output_type": "execute_result"
    }
   ],
   "source": [
    "# m - number of days\n",
    "# s - reorder point\n",
    "# S - target warehouse volume\n",
    "## we're going to iterate over these functions over s, S, and 'm' - is the number of days\n",
    "function simulateOneRun(m, s, S;\n",
    "    h = 0.1, #storage cost\n",
    "    c = 4.0, #unit profit\n",
    "    p = 0.50, #probability of delivery\n",
    "    K = 100, # fixed order cost\n",
    "    k = 1.0, # variable order cost\n",
    "    init_S = 100, #initial warehouse level\n",
    "    average_demand = 20)\n",
    "    Xⱼ = init_S\n",
    "    local Yj\n",
    "    profit = 0.0\n",
    "    lost_orders = 0.0\n",
    "    warehouse_levels = Int[]\n",
    "    pois = Distributions.Poisson(average_demand)\n",
    "    for day in 1:m\n",
    "        if Xⱼ < s  # reorder point\n",
    "            if rand() < p\n",
    "                profit -= K + (S-Xⱼ)*k\n",
    "                Xⱼ = S\n",
    "            end\n",
    "        end\n",
    "        push!(warehouse_levels, Xⱼ)\n",
    "        demand = rand(pois)\n",
    "        sales = min(Xⱼ, demand)\n",
    "        Xⱼ -= sales\n",
    "        @assert Xⱼ >= 0\n",
    "        lost_order = demand - sales # failed to provide\n",
    "        @assert lost_order >= 0 \n",
    "        profit += sales*c - (Xⱼ-sales)*h  # storage costs\n",
    "        lost_orders += lost_order\n",
    "        # can add one_objective = 0.75 * profit + 0.01 * lost_orders\n",
    "         ## or you can multiply by the 'unit cost of stockout' parameter/ k_unit_stockout\n",
    "         ## k_unit_stockout = k_jedn_stockout\n",
    "         ## one_objective = 0.75 * profit + 0.01 *lost_orders * k_unit_stockout\n",
    "    end\n",
    "    \n",
    "    (profit=profit, lost_orders=lost_orders,\n",
    "        warehouse_levels=warehouse_levels)\n",
    "    ## then ....(profit=profit, lost_orders=lost_orders,\n",
    "    ##    warehouse_levels=warehouse_levels, one_objective=one_objective)\n",
    "    \n",
    "end"
   ]
  },
  {
   "cell_type": "code",
   "execution_count": 18,
   "metadata": {},
   "outputs": [
    {
     "data": {
      "text/plain": [
       "(profit = 837.5000000000001, lost_orders = 24.0, warehouse_levels = [100, 82, 62, 36, 25, 200, 176, 156, 137, 114, 89, 65, 45, 27, 7, 200, 180, 156, 132, 116])"
      ]
     },
     "execution_count": 18,
     "metadata": {},
     "output_type": "execute_result"
    }
   ],
   "source": [
    "res = simulateOneRun(20,20,200)\n",
    "## exemplary execution of the function\n",
    "## how the warehouse warehouse_levels developed every day - we look at the state of the warehouse and its deliveries\n",
    "## it may not be '200' here -> possible error"
   ]
  },
  {
   "cell_type": "code",
   "execution_count": 19,
   "metadata": {},
   "outputs": [
    {
     "name": "stdout",
     "output_type": "stream",
     "text": [
      "Day 1: 100\n",
      "Day 2: 85\n",
      "Day 3: 63\n",
      "Day 4: 40\n",
      "Day 5: 15\n",
      "Day 6: 200\n",
      "Day 7: 176\n",
      "Day 8: 152\n",
      "Day 9: 134\n",
      "Day 10: 104\n",
      "Day 11: 86\n",
      "Day 12: 64\n",
      "Day 13: 36\n",
      "Day 14: 14\n",
      "Day 15: 200\n",
      "Day 16: 182\n",
      "Day 17: 160\n",
      "Day 18: 142\n",
      "Day 19: 127\n",
      "Day 20: 107\n"
     ]
    }
   ],
   "source": [
    "res = simulateOneRun(20, 20, 200)\n",
    "for (day, level) in enumerate(res.warehouse_levels)\n",
    "    println(\"Day $day: $level\")\n",
    "end"
   ]
  },
  {
   "cell_type": "code",
   "execution_count": 20,
   "metadata": {},
   "outputs": [
    {
     "name": "stdout",
     "output_type": "stream",
     "text": [
      "res.profit = 921.1\n",
      "res.lost_orders = 4.0\n",
      "res.warehouse_levels = [100, 85, 63, 40, 15, 200, 176, 152, 134, 104, 86, 64, 36, 14, 200, 182, 160, 142, 127, 107]\n"
     ]
    }
   ],
   "source": [
    "@show res.profit\n",
    "@show res.lost_orders\n",
    "@show res.warehouse_levels;"
   ]
  },
  {
   "cell_type": "code",
   "execution_count": 21,
   "metadata": {},
   "outputs": [
    {
     "data": {
      "image/svg+xml": [
       "<?xml version=\"1.0\" encoding=\"utf-8\"?>\n",
       "<svg xmlns=\"http://www.w3.org/2000/svg\" xmlns:xlink=\"http://www.w3.org/1999/xlink\" width=\"600\" height=\"400\" viewBox=\"0 0 2400 1600\">\n",
       "<defs>\n",
       "  <clipPath id=\"clip330\">\n",
       "    <rect x=\"0\" y=\"0\" width=\"2400\" height=\"1600\"/>\n",
       "  </clipPath>\n",
       "</defs>\n",
       "<path clip-path=\"url(#clip330)\" d=\"M0 1600 L2400 1600 L2400 0 L0 0  Z\" fill=\"#ffffff\" fill-rule=\"evenodd\" fill-opacity=\"1\"/>\n",
       "<defs>\n",
       "  <clipPath id=\"clip331\">\n",
       "    <rect x=\"480\" y=\"0\" width=\"1681\" height=\"1600\"/>\n",
       "  </clipPath>\n",
       "</defs>\n",
       "<path clip-path=\"url(#clip330)\" d=\"M170.857 1486.45 L2352.76 1486.45 L2352.76 47.2441 L170.857 47.2441  Z\" fill=\"#ffffff\" fill-rule=\"evenodd\" fill-opacity=\"1\"/>\n",
       "<defs>\n",
       "  <clipPath id=\"clip332\">\n",
       "    <rect x=\"170\" y=\"47\" width=\"2183\" height=\"1440\"/>\n",
       "  </clipPath>\n",
       "</defs>\n",
       "<polyline clip-path=\"url(#clip332)\" style=\"stroke:#000000; stroke-linecap:round; stroke-linejoin:round; stroke-width:2; stroke-opacity:0.1; fill:none\" points=\"516.526,1486.45 516.526,47.2441 \"/>\n",
       "<polyline clip-path=\"url(#clip332)\" style=\"stroke:#000000; stroke-linecap:round; stroke-linejoin:round; stroke-width:2; stroke-opacity:0.1; fill:none\" points=\"871.421,1486.45 871.421,47.2441 \"/>\n",
       "<polyline clip-path=\"url(#clip332)\" style=\"stroke:#000000; stroke-linecap:round; stroke-linejoin:round; stroke-width:2; stroke-opacity:0.1; fill:none\" points=\"1226.32,1486.45 1226.32,47.2441 \"/>\n",
       "<polyline clip-path=\"url(#clip332)\" style=\"stroke:#000000; stroke-linecap:round; stroke-linejoin:round; stroke-width:2; stroke-opacity:0.1; fill:none\" points=\"1581.21,1486.45 1581.21,47.2441 \"/>\n",
       "<polyline clip-path=\"url(#clip332)\" style=\"stroke:#000000; stroke-linecap:round; stroke-linejoin:round; stroke-width:2; stroke-opacity:0.1; fill:none\" points=\"1936.11,1486.45 1936.11,47.2441 \"/>\n",
       "<polyline clip-path=\"url(#clip332)\" style=\"stroke:#000000; stroke-linecap:round; stroke-linejoin:round; stroke-width:2; stroke-opacity:0.1; fill:none\" points=\"2291,1486.45 2291,47.2441 \"/>\n",
       "<polyline clip-path=\"url(#clip330)\" style=\"stroke:#000000; stroke-linecap:round; stroke-linejoin:round; stroke-width:4; stroke-opacity:1; fill:none\" points=\"170.857,1486.45 2352.76,1486.45 \"/>\n",
       "<polyline clip-path=\"url(#clip330)\" style=\"stroke:#000000; stroke-linecap:round; stroke-linejoin:round; stroke-width:4; stroke-opacity:1; fill:none\" points=\"516.526,1486.45 516.526,1467.55 \"/>\n",
       "<polyline clip-path=\"url(#clip330)\" style=\"stroke:#000000; stroke-linecap:round; stroke-linejoin:round; stroke-width:4; stroke-opacity:1; fill:none\" points=\"871.421,1486.45 871.421,1467.55 \"/>\n",
       "<polyline clip-path=\"url(#clip330)\" style=\"stroke:#000000; stroke-linecap:round; stroke-linejoin:round; stroke-width:4; stroke-opacity:1; fill:none\" points=\"1226.32,1486.45 1226.32,1467.55 \"/>\n",
       "<polyline clip-path=\"url(#clip330)\" style=\"stroke:#000000; stroke-linecap:round; stroke-linejoin:round; stroke-width:4; stroke-opacity:1; fill:none\" points=\"1581.21,1486.45 1581.21,1467.55 \"/>\n",
       "<polyline clip-path=\"url(#clip330)\" style=\"stroke:#000000; stroke-linecap:round; stroke-linejoin:round; stroke-width:4; stroke-opacity:1; fill:none\" points=\"1936.11,1486.45 1936.11,1467.55 \"/>\n",
       "<polyline clip-path=\"url(#clip330)\" style=\"stroke:#000000; stroke-linecap:round; stroke-linejoin:round; stroke-width:4; stroke-opacity:1; fill:none\" points=\"2291,1486.45 2291,1467.55 \"/>\n",
       "<path clip-path=\"url(#clip330)\" d=\"M506.804 1514.29 L525.16 1514.29 L525.16 1518.22 L511.086 1518.22 L511.086 1526.7 Q512.105 1526.35 513.123 1526.19 Q514.142 1526 515.16 1526 Q520.947 1526 524.327 1529.17 Q527.706 1532.34 527.706 1537.76 Q527.706 1543.34 524.234 1546.44 Q520.762 1549.52 514.442 1549.52 Q512.267 1549.52 509.998 1549.15 Q507.753 1548.78 505.345 1548.04 L505.345 1543.34 Q507.429 1544.47 509.651 1545.03 Q511.873 1545.58 514.35 1545.58 Q518.354 1545.58 520.692 1543.48 Q523.03 1541.37 523.03 1537.76 Q523.03 1534.15 520.692 1532.04 Q518.354 1529.94 514.35 1529.94 Q512.475 1529.94 510.6 1530.35 Q508.748 1530.77 506.804 1531.65 L506.804 1514.29 Z\" fill=\"#000000\" fill-rule=\"evenodd\" fill-opacity=\"1\" /><path clip-path=\"url(#clip330)\" d=\"M846.109 1544.91 L853.748 1544.91 L853.748 1518.55 L845.438 1520.21 L845.438 1515.95 L853.702 1514.29 L858.378 1514.29 L858.378 1544.91 L866.016 1544.91 L866.016 1548.85 L846.109 1548.85 L846.109 1544.91 Z\" fill=\"#000000\" fill-rule=\"evenodd\" fill-opacity=\"1\" /><path clip-path=\"url(#clip330)\" d=\"M885.461 1517.37 Q881.85 1517.37 880.021 1520.93 Q878.215 1524.47 878.215 1531.6 Q878.215 1538.71 880.021 1542.27 Q881.85 1545.82 885.461 1545.82 Q889.095 1545.82 890.901 1542.27 Q892.729 1538.71 892.729 1531.6 Q892.729 1524.47 890.901 1520.93 Q889.095 1517.37 885.461 1517.37 M885.461 1513.66 Q891.271 1513.66 894.326 1518.27 Q897.405 1522.85 897.405 1531.6 Q897.405 1540.33 894.326 1544.94 Q891.271 1549.52 885.461 1549.52 Q879.651 1549.52 876.572 1544.94 Q873.516 1540.33 873.516 1531.6 Q873.516 1522.85 876.572 1518.27 Q879.651 1513.66 885.461 1513.66 Z\" fill=\"#000000\" fill-rule=\"evenodd\" fill-opacity=\"1\" /><path clip-path=\"url(#clip330)\" d=\"M1201.5 1544.91 L1209.14 1544.91 L1209.14 1518.55 L1200.83 1520.21 L1200.83 1515.95 L1209.09 1514.29 L1213.77 1514.29 L1213.77 1544.91 L1221.41 1544.91 L1221.41 1548.85 L1201.5 1548.85 L1201.5 1544.91 Z\" fill=\"#000000\" fill-rule=\"evenodd\" fill-opacity=\"1\" /><path clip-path=\"url(#clip330)\" d=\"M1230.9 1514.29 L1249.26 1514.29 L1249.26 1518.22 L1235.18 1518.22 L1235.18 1526.7 Q1236.2 1526.35 1237.22 1526.19 Q1238.24 1526 1239.26 1526 Q1245.04 1526 1248.42 1529.17 Q1251.8 1532.34 1251.8 1537.76 Q1251.8 1543.34 1248.33 1546.44 Q1244.86 1549.52 1238.54 1549.52 Q1236.36 1549.52 1234.09 1549.15 Q1231.85 1548.78 1229.44 1548.04 L1229.44 1543.34 Q1231.53 1544.47 1233.75 1545.03 Q1235.97 1545.58 1238.45 1545.58 Q1242.45 1545.58 1244.79 1543.48 Q1247.13 1541.37 1247.13 1537.76 Q1247.13 1534.15 1244.79 1532.04 Q1242.45 1529.94 1238.45 1529.94 Q1236.57 1529.94 1234.7 1530.35 Q1232.84 1530.77 1230.9 1531.65 L1230.9 1514.29 Z\" fill=\"#000000\" fill-rule=\"evenodd\" fill-opacity=\"1\" /><path clip-path=\"url(#clip330)\" d=\"M1559.99 1544.91 L1576.31 1544.91 L1576.31 1548.85 L1554.36 1548.85 L1554.36 1544.91 Q1557.02 1542.16 1561.61 1537.53 Q1566.21 1532.88 1567.39 1531.53 Q1569.64 1529.01 1570.52 1527.27 Q1571.42 1525.51 1571.42 1523.82 Q1571.42 1521.07 1569.48 1519.33 Q1567.56 1517.6 1564.45 1517.6 Q1562.25 1517.6 1559.8 1518.36 Q1557.37 1519.13 1554.59 1520.68 L1554.59 1515.95 Q1557.42 1514.82 1559.87 1514.24 Q1562.32 1513.66 1564.36 1513.66 Q1569.73 1513.66 1572.93 1516.35 Q1576.12 1519.03 1576.12 1523.52 Q1576.12 1525.65 1575.31 1527.57 Q1574.52 1529.47 1572.42 1532.07 Q1571.84 1532.74 1568.74 1535.95 Q1565.63 1539.15 1559.99 1544.91 Z\" fill=\"#000000\" fill-rule=\"evenodd\" fill-opacity=\"1\" /><path clip-path=\"url(#clip330)\" d=\"M1596.12 1517.37 Q1592.51 1517.37 1590.68 1520.93 Q1588.87 1524.47 1588.87 1531.6 Q1588.87 1538.71 1590.68 1542.27 Q1592.51 1545.82 1596.12 1545.82 Q1599.75 1545.82 1601.56 1542.27 Q1603.39 1538.71 1603.39 1531.6 Q1603.39 1524.47 1601.56 1520.93 Q1599.75 1517.37 1596.12 1517.37 M1596.12 1513.66 Q1601.93 1513.66 1604.99 1518.27 Q1608.06 1522.85 1608.06 1531.6 Q1608.06 1540.33 1604.99 1544.94 Q1601.93 1549.52 1596.12 1549.52 Q1590.31 1549.52 1587.23 1544.94 Q1584.18 1540.33 1584.18 1531.6 Q1584.18 1522.85 1587.23 1518.27 Q1590.31 1513.66 1596.12 1513.66 Z\" fill=\"#000000\" fill-rule=\"evenodd\" fill-opacity=\"1\" /><path clip-path=\"url(#clip330)\" d=\"M1915.38 1544.91 L1931.7 1544.91 L1931.7 1548.85 L1909.75 1548.85 L1909.75 1544.91 Q1912.42 1542.16 1917 1537.53 Q1921.61 1532.88 1922.79 1531.53 Q1925.03 1529.01 1925.91 1527.27 Q1926.81 1525.51 1926.81 1523.82 Q1926.81 1521.07 1924.87 1519.33 Q1922.95 1517.6 1919.85 1517.6 Q1917.65 1517.6 1915.19 1518.36 Q1912.76 1519.13 1909.99 1520.68 L1909.99 1515.95 Q1912.81 1514.82 1915.26 1514.24 Q1917.72 1513.66 1919.75 1513.66 Q1925.12 1513.66 1928.32 1516.35 Q1931.51 1519.03 1931.51 1523.52 Q1931.51 1525.65 1930.7 1527.57 Q1929.92 1529.47 1927.81 1532.07 Q1927.23 1532.74 1924.13 1535.95 Q1921.03 1539.15 1915.38 1544.91 Z\" fill=\"#000000\" fill-rule=\"evenodd\" fill-opacity=\"1\" /><path clip-path=\"url(#clip330)\" d=\"M1941.56 1514.29 L1959.92 1514.29 L1959.92 1518.22 L1945.84 1518.22 L1945.84 1526.7 Q1946.86 1526.35 1947.88 1526.19 Q1948.9 1526 1949.92 1526 Q1955.7 1526 1959.08 1529.17 Q1962.46 1532.34 1962.46 1537.76 Q1962.46 1543.34 1958.99 1546.44 Q1955.52 1549.52 1949.2 1549.52 Q1947.02 1549.52 1944.75 1549.15 Q1942.51 1548.78 1940.1 1548.04 L1940.1 1543.34 Q1942.18 1544.47 1944.41 1545.03 Q1946.63 1545.58 1949.11 1545.58 Q1953.11 1545.58 1955.45 1543.48 Q1957.79 1541.37 1957.79 1537.76 Q1957.79 1534.15 1955.45 1532.04 Q1953.11 1529.94 1949.11 1529.94 Q1947.23 1529.94 1945.36 1530.35 Q1943.5 1530.77 1941.56 1531.65 L1941.56 1514.29 Z\" fill=\"#000000\" fill-rule=\"evenodd\" fill-opacity=\"1\" /><path clip-path=\"url(#clip330)\" d=\"M2279.85 1530.21 Q2283.2 1530.93 2285.08 1533.2 Q2286.98 1535.47 2286.98 1538.8 Q2286.98 1543.92 2283.46 1546.72 Q2279.94 1549.52 2273.46 1549.52 Q2271.28 1549.52 2268.97 1549.08 Q2266.68 1548.66 2264.22 1547.81 L2264.22 1543.29 Q2266.17 1544.43 2268.48 1545.01 Q2270.8 1545.58 2273.32 1545.58 Q2277.72 1545.58 2280.01 1543.85 Q2282.32 1542.11 2282.32 1538.8 Q2282.32 1535.75 2280.17 1534.03 Q2278.04 1532.3 2274.22 1532.3 L2270.19 1532.3 L2270.19 1528.45 L2274.41 1528.45 Q2277.86 1528.45 2279.68 1527.09 Q2281.51 1525.7 2281.51 1523.11 Q2281.51 1520.45 2279.62 1519.03 Q2277.74 1517.6 2274.22 1517.6 Q2272.3 1517.6 2270.1 1518.01 Q2267.9 1518.43 2265.26 1519.31 L2265.26 1515.14 Q2267.93 1514.4 2270.24 1514.03 Q2272.58 1513.66 2274.64 1513.66 Q2279.96 1513.66 2283.06 1516.09 Q2286.17 1518.5 2286.17 1522.62 Q2286.17 1525.49 2284.52 1527.48 Q2282.88 1529.45 2279.85 1530.21 Z\" fill=\"#000000\" fill-rule=\"evenodd\" fill-opacity=\"1\" /><path clip-path=\"url(#clip330)\" d=\"M2305.84 1517.37 Q2302.23 1517.37 2300.4 1520.93 Q2298.6 1524.47 2298.6 1531.6 Q2298.6 1538.71 2300.4 1542.27 Q2302.23 1545.82 2305.84 1545.82 Q2309.48 1545.82 2311.28 1542.27 Q2313.11 1538.71 2313.11 1531.6 Q2313.11 1524.47 2311.28 1520.93 Q2309.48 1517.37 2305.84 1517.37 M2305.84 1513.66 Q2311.65 1513.66 2314.71 1518.27 Q2317.79 1522.85 2317.79 1531.6 Q2317.79 1540.33 2314.71 1544.94 Q2311.65 1549.52 2305.84 1549.52 Q2300.03 1549.52 2296.95 1544.94 Q2293.9 1540.33 2293.9 1531.6 Q2293.9 1522.85 2296.95 1518.27 Q2300.03 1513.66 2305.84 1513.66 Z\" fill=\"#000000\" fill-rule=\"evenodd\" fill-opacity=\"1\" /><polyline clip-path=\"url(#clip332)\" style=\"stroke:#000000; stroke-linecap:round; stroke-linejoin:round; stroke-width:2; stroke-opacity:0.1; fill:none\" points=\"170.857,1225.75 2352.76,1225.75 \"/>\n",
       "<polyline clip-path=\"url(#clip332)\" style=\"stroke:#000000; stroke-linecap:round; stroke-linejoin:round; stroke-width:2; stroke-opacity:0.1; fill:none\" points=\"170.857,846.49 2352.76,846.49 \"/>\n",
       "<polyline clip-path=\"url(#clip332)\" style=\"stroke:#000000; stroke-linecap:round; stroke-linejoin:round; stroke-width:2; stroke-opacity:0.1; fill:none\" points=\"170.857,467.233 2352.76,467.233 \"/>\n",
       "<polyline clip-path=\"url(#clip332)\" style=\"stroke:#000000; stroke-linecap:round; stroke-linejoin:round; stroke-width:2; stroke-opacity:0.1; fill:none\" points=\"170.857,87.9763 2352.76,87.9763 \"/>\n",
       "<polyline clip-path=\"url(#clip330)\" style=\"stroke:#000000; stroke-linecap:round; stroke-linejoin:round; stroke-width:4; stroke-opacity:1; fill:none\" points=\"170.857,1486.45 170.857,47.2441 \"/>\n",
       "<polyline clip-path=\"url(#clip330)\" style=\"stroke:#000000; stroke-linecap:round; stroke-linejoin:round; stroke-width:4; stroke-opacity:1; fill:none\" points=\"170.857,1225.75 189.755,1225.75 \"/>\n",
       "<polyline clip-path=\"url(#clip330)\" style=\"stroke:#000000; stroke-linecap:round; stroke-linejoin:round; stroke-width:4; stroke-opacity:1; fill:none\" points=\"170.857,846.49 189.755,846.49 \"/>\n",
       "<polyline clip-path=\"url(#clip330)\" style=\"stroke:#000000; stroke-linecap:round; stroke-linejoin:round; stroke-width:4; stroke-opacity:1; fill:none\" points=\"170.857,467.233 189.755,467.233 \"/>\n",
       "<polyline clip-path=\"url(#clip330)\" style=\"stroke:#000000; stroke-linecap:round; stroke-linejoin:round; stroke-width:4; stroke-opacity:1; fill:none\" points=\"170.857,87.9763 189.755,87.9763 \"/>\n",
       "<path clip-path=\"url(#clip330)\" d=\"M82.7975 1208.47 L101.154 1208.47 L101.154 1212.4 L87.0799 1212.4 L87.0799 1220.87 Q88.0984 1220.53 89.1169 1220.36 Q90.1354 1220.18 91.1539 1220.18 Q96.941 1220.18 100.321 1223.35 Q103.7 1226.52 103.7 1231.94 Q103.7 1237.52 100.228 1240.62 Q96.7558 1243.7 90.4364 1243.7 Q88.2604 1243.7 85.9919 1243.33 Q83.7466 1242.96 81.3392 1242.22 L81.3392 1237.52 Q83.4225 1238.65 85.6447 1239.21 Q87.8669 1239.76 90.3438 1239.76 Q94.3484 1239.76 96.6863 1237.66 Q99.0243 1235.55 99.0243 1231.94 Q99.0243 1228.33 96.6863 1226.22 Q94.3484 1224.11 90.3438 1224.11 Q88.4688 1224.11 86.5938 1224.53 Q84.7419 1224.95 82.7975 1225.83 L82.7975 1208.47 Z\" fill=\"#000000\" fill-rule=\"evenodd\" fill-opacity=\"1\" /><path clip-path=\"url(#clip330)\" d=\"M122.913 1211.55 Q119.302 1211.55 117.473 1215.11 Q115.668 1218.65 115.668 1225.78 Q115.668 1232.89 117.473 1236.45 Q119.302 1239.99 122.913 1239.99 Q126.547 1239.99 128.353 1236.45 Q130.182 1232.89 130.182 1225.78 Q130.182 1218.65 128.353 1215.11 Q126.547 1211.55 122.913 1211.55 M122.913 1207.84 Q128.723 1207.84 131.779 1212.45 Q134.857 1217.03 134.857 1225.78 Q134.857 1234.51 131.779 1239.11 Q128.723 1243.7 122.913 1243.7 Q117.103 1243.7 114.024 1239.11 Q110.969 1234.51 110.969 1225.78 Q110.969 1217.03 114.024 1212.45 Q117.103 1207.84 122.913 1207.84 Z\" fill=\"#000000\" fill-rule=\"evenodd\" fill-opacity=\"1\" /><path clip-path=\"url(#clip330)\" d=\"M53.3995 859.835 L61.0384 859.835 L61.0384 833.469 L52.7282 835.136 L52.7282 830.877 L60.9921 829.21 L65.668 829.21 L65.668 859.835 L73.3068 859.835 L73.3068 863.77 L53.3995 863.77 L53.3995 859.835 Z\" fill=\"#000000\" fill-rule=\"evenodd\" fill-opacity=\"1\" /><path clip-path=\"url(#clip330)\" d=\"M92.7512 832.289 Q89.1401 832.289 87.3114 835.853 Q85.5058 839.395 85.5058 846.525 Q85.5058 853.631 87.3114 857.196 Q89.1401 860.738 92.7512 860.738 Q96.3854 860.738 98.1909 857.196 Q100.02 853.631 100.02 846.525 Q100.02 839.395 98.1909 835.853 Q96.3854 832.289 92.7512 832.289 M92.7512 828.585 Q98.5613 828.585 101.617 833.191 Q104.696 837.775 104.696 846.525 Q104.696 855.251 101.617 859.858 Q98.5613 864.441 92.7512 864.441 Q86.941 864.441 83.8623 859.858 Q80.8068 855.251 80.8068 846.525 Q80.8068 837.775 83.8623 833.191 Q86.941 828.585 92.7512 828.585 Z\" fill=\"#000000\" fill-rule=\"evenodd\" fill-opacity=\"1\" /><path clip-path=\"url(#clip330)\" d=\"M122.913 832.289 Q119.302 832.289 117.473 835.853 Q115.668 839.395 115.668 846.525 Q115.668 853.631 117.473 857.196 Q119.302 860.738 122.913 860.738 Q126.547 860.738 128.353 857.196 Q130.182 853.631 130.182 846.525 Q130.182 839.395 128.353 835.853 Q126.547 832.289 122.913 832.289 M122.913 828.585 Q128.723 828.585 131.779 833.191 Q134.857 837.775 134.857 846.525 Q134.857 855.251 131.779 859.858 Q128.723 864.441 122.913 864.441 Q117.103 864.441 114.024 859.858 Q110.969 855.251 110.969 846.525 Q110.969 837.775 114.024 833.191 Q117.103 828.585 122.913 828.585 Z\" fill=\"#000000\" fill-rule=\"evenodd\" fill-opacity=\"1\" /><path clip-path=\"url(#clip330)\" d=\"M53.3995 480.578 L61.0384 480.578 L61.0384 454.212 L52.7282 455.879 L52.7282 451.62 L60.9921 449.953 L65.668 449.953 L65.668 480.578 L73.3068 480.578 L73.3068 484.513 L53.3995 484.513 L53.3995 480.578 Z\" fill=\"#000000\" fill-rule=\"evenodd\" fill-opacity=\"1\" /><path clip-path=\"url(#clip330)\" d=\"M82.7975 449.953 L101.154 449.953 L101.154 453.888 L87.0799 453.888 L87.0799 462.36 Q88.0984 462.013 89.1169 461.851 Q90.1354 461.666 91.1539 461.666 Q96.941 461.666 100.321 464.837 Q103.7 468.009 103.7 473.425 Q103.7 479.004 100.228 482.106 Q96.7558 485.184 90.4364 485.184 Q88.2604 485.184 85.9919 484.814 Q83.7466 484.444 81.3392 483.703 L81.3392 479.004 Q83.4225 480.138 85.6447 480.694 Q87.8669 481.249 90.3438 481.249 Q94.3484 481.249 96.6863 479.143 Q99.0243 477.036 99.0243 473.425 Q99.0243 469.814 96.6863 467.708 Q94.3484 465.601 90.3438 465.601 Q88.4688 465.601 86.5938 466.018 Q84.7419 466.434 82.7975 467.314 L82.7975 449.953 Z\" fill=\"#000000\" fill-rule=\"evenodd\" fill-opacity=\"1\" /><path clip-path=\"url(#clip330)\" d=\"M122.913 453.032 Q119.302 453.032 117.473 456.597 Q115.668 460.138 115.668 467.268 Q115.668 474.374 117.473 477.939 Q119.302 481.481 122.913 481.481 Q126.547 481.481 128.353 477.939 Q130.182 474.374 130.182 467.268 Q130.182 460.138 128.353 456.597 Q126.547 453.032 122.913 453.032 M122.913 449.328 Q128.723 449.328 131.779 453.935 Q134.857 458.518 134.857 467.268 Q134.857 475.995 131.779 480.601 Q128.723 485.184 122.913 485.184 Q117.103 485.184 114.024 480.601 Q110.969 475.995 110.969 467.268 Q110.969 458.518 114.024 453.935 Q117.103 449.328 122.913 449.328 Z\" fill=\"#000000\" fill-rule=\"evenodd\" fill-opacity=\"1\" /><path clip-path=\"url(#clip330)\" d=\"M56.6171 101.321 L72.9365 101.321 L72.9365 105.256 L50.9921 105.256 L50.9921 101.321 Q53.6541 98.5665 58.2375 93.9369 Q62.8439 89.2841 64.0245 87.9416 Q66.2698 85.4184 67.1494 83.6823 Q68.0522 81.9231 68.0522 80.2333 Q68.0522 77.4786 66.1078 75.7425 Q64.1865 74.0064 61.0847 74.0064 Q58.8856 74.0064 56.4319 74.7703 Q54.0014 75.5342 51.2236 77.0851 L51.2236 72.3629 Q54.0477 71.2287 56.5014 70.65 Q58.955 70.0713 60.9921 70.0713 Q66.3624 70.0713 69.5568 72.7565 Q72.7513 75.4416 72.7513 79.9323 Q72.7513 82.062 71.9411 83.9832 Q71.1541 85.8814 69.0476 88.474 Q68.4689 89.1453 65.367 92.3628 Q62.2652 95.5573 56.6171 101.321 Z\" fill=\"#000000\" fill-rule=\"evenodd\" fill-opacity=\"1\" /><path clip-path=\"url(#clip330)\" d=\"M92.7512 73.775 Q89.1401 73.775 87.3114 77.3398 Q85.5058 80.8814 85.5058 88.011 Q85.5058 95.1174 87.3114 98.6822 Q89.1401 102.224 92.7512 102.224 Q96.3854 102.224 98.1909 98.6822 Q100.02 95.1174 100.02 88.011 Q100.02 80.8814 98.1909 77.3398 Q96.3854 73.775 92.7512 73.775 M92.7512 70.0713 Q98.5613 70.0713 101.617 74.6777 Q104.696 79.261 104.696 88.011 Q104.696 96.7378 101.617 101.344 Q98.5613 105.928 92.7512 105.928 Q86.941 105.928 83.8623 101.344 Q80.8068 96.7378 80.8068 88.011 Q80.8068 79.261 83.8623 74.6777 Q86.941 70.0713 92.7512 70.0713 Z\" fill=\"#000000\" fill-rule=\"evenodd\" fill-opacity=\"1\" /><path clip-path=\"url(#clip330)\" d=\"M122.913 73.775 Q119.302 73.775 117.473 77.3398 Q115.668 80.8814 115.668 88.011 Q115.668 95.1174 117.473 98.6822 Q119.302 102.224 122.913 102.224 Q126.547 102.224 128.353 98.6822 Q130.182 95.1174 130.182 88.011 Q130.182 80.8814 128.353 77.3398 Q126.547 73.775 122.913 73.775 M122.913 70.0713 Q128.723 70.0713 131.779 74.6777 Q134.857 79.261 134.857 88.011 Q134.857 96.7378 131.779 101.344 Q128.723 105.928 122.913 105.928 Q117.103 105.928 114.024 101.344 Q110.969 96.7378 110.969 88.011 Q110.969 79.261 114.024 74.6777 Q117.103 70.0713 122.913 70.0713 Z\" fill=\"#000000\" fill-rule=\"evenodd\" fill-opacity=\"1\" /><polyline clip-path=\"url(#clip332)\" style=\"stroke:#009af9; stroke-linecap:round; stroke-linejoin:round; stroke-width:4; stroke-opacity:1; fill:none\" points=\"232.609,846.49 303.588,1005.78 374.568,1149.9 445.547,87.9763 516.526,209.338 587.505,406.552 658.484,573.425 729.463,679.617 800.442,854.075 871.421,998.193 942.401,1149.9 1013.38,1294.01 1084.36,1445.72 1155.34,87.9763 1226.32,209.338 1297.3,330.701 1368.28,527.914 1439.25,679.617 1510.23,846.49 1581.21,945.097 1652.19,1066.46 1723.17,1202.99 1794.15,87.9763 1865.13,277.605 1936.11,429.307 2007.09,520.329 2078.07,679.617 2149.05,846.49 2220.02,967.852 2291,1119.55 \"/>\n",
       "<path clip-path=\"url(#clip330)\" d=\"M2009.41 1438.47 L2280.03 1438.47 L2280.03 1334.79 L2009.41 1334.79  Z\" fill=\"#ffffff\" fill-rule=\"evenodd\" fill-opacity=\"1\"/>\n",
       "<polyline clip-path=\"url(#clip330)\" style=\"stroke:#000000; stroke-linecap:round; stroke-linejoin:round; stroke-width:4; stroke-opacity:1; fill:none\" points=\"2009.41,1438.47 2280.03,1438.47 2280.03,1334.79 2009.41,1334.79 2009.41,1438.47 \"/>\n",
       "<polyline clip-path=\"url(#clip330)\" style=\"stroke:#009af9; stroke-linecap:round; stroke-linejoin:round; stroke-width:4; stroke-opacity:1; fill:none\" points=\"2033.65,1386.63 2179.11,1386.63 \"/>\n",
       "<path clip-path=\"url(#clip330)\" d=\"M2217.19 1406.32 Q2215.39 1410.95 2213.68 1412.36 Q2211.96 1413.78 2209.09 1413.78 L2205.69 1413.78 L2205.69 1410.21 L2208.19 1410.21 Q2209.95 1410.21 2210.92 1409.38 Q2211.89 1408.54 2213.07 1405.44 L2213.84 1403.5 L2203.35 1377.99 L2207.87 1377.99 L2215.97 1398.27 L2224.07 1377.99 L2228.58 1377.99 L2217.19 1406.32 Z\" fill=\"#000000\" fill-rule=\"evenodd\" fill-opacity=\"1\" /><path clip-path=\"url(#clip330)\" d=\"M2235.88 1399.98 L2243.51 1399.98 L2243.51 1373.61 L2235.2 1375.28 L2235.2 1371.02 L2243.47 1369.35 L2248.14 1369.35 L2248.14 1399.98 L2255.78 1399.98 L2255.78 1403.91 L2235.88 1403.91 L2235.88 1399.98 Z\" fill=\"#000000\" fill-rule=\"evenodd\" fill-opacity=\"1\" /></svg>\n"
      ]
     },
     "execution_count": 21,
     "metadata": {},
     "output_type": "execute_result"
    }
   ],
   "source": [
    "Random.seed!(10)\n",
    "res = simulateOneRun(30,50,200)\n",
    "\n",
    "# using PyPlot\n",
    "# plot(res.warehouse_levels)\n",
    "# show()\n",
    "using Plots\n",
    "plot(res.warehouse_levels)"
   ]
  },
  {
   "cell_type": "code",
   "execution_count": 22,
   "metadata": {},
   "outputs": [
    {
     "ename": "LoadError",
     "evalue": "UndefVarError: DataFrame not defined",
     "output_type": "error",
     "traceback": [
      "UndefVarError: DataFrame not defined",
      "",
      "Stacktrace:",
      " [1] top-level scope",
      "   @ In[22]:1"
     ]
    }
   ],
   "source": [
    "res = DataFrame(simulateOneRun(10,5,10) for n in 1:4)"
   ]
  },
  {
   "cell_type": "code",
   "execution_count": 23,
   "metadata": {},
   "outputs": [
    {
     "ename": "LoadError",
     "evalue": "UndefVarError: DataFrame not defined",
     "output_type": "error",
     "traceback": [
      "UndefVarError: DataFrame not defined",
      "",
      "Stacktrace:",
      " [1] run_sims(m::Int64, s::Int64, S::Int64, N::Int64) (repeats 2 times)",
      "   @ Main ./In[23]:5",
      " [2] top-level scope",
      "   @ In[23]:19"
     ]
    }
   ],
   "source": [
    "\n",
    "## average stockouts lost_mean\n",
    "## \n",
    "function run_sims(m,s,S,N=100)\n",
    "    df = DataFrame(simulateOneRun(m,s,S) for n in 1:N)\n",
    "    (\n",
    "        m=m,\n",
    "        s=s,\n",
    "        S=S,\n",
    "        N=N,\n",
    "        profit_mean = mean(df.profit),\n",
    "        profit_std = std(df.profit),\n",
    "        lost_mean = mean(df.lost_orders),\n",
    "        lost_std = std(df.lost_orders)\n",
    "    )\n",
    "end\n",
    "\n",
    "\n",
    "run_sims(30,50,100)"
   ]
  },
  {
   "cell_type": "code",
   "execution_count": 24,
   "metadata": {},
   "outputs": [
    {
     "ename": "LoadError",
     "evalue": "UndefVarError: DataFrame not defined",
     "output_type": "error",
     "traceback": [
      "UndefVarError: DataFrame not defined",
      "",
      "Stacktrace:",
      " [1] top-level scope",
      "   @ In[24]:3"
     ]
    }
   ],
   "source": [
    "using Random\n",
    "Random.seed!(0)\n",
    "df = DataFrame(run_sims(90,s,S,100) \n",
    "    for S in 100:100:1000, s in 25:25:250 if S > s )"
   ]
  },
  {
   "cell_type": "code",
   "execution_count": 25,
   "metadata": {},
   "outputs": [
    {
     "ename": "LoadError",
     "evalue": "UndefVarError: df not defined",
     "output_type": "error",
     "traceback": [
      "UndefVarError: df not defined",
      "",
      "Stacktrace:",
      " [1] top-level scope",
      "   @ In[25]:1"
     ]
    }
   ],
   "source": [
    "best_row = argmax(df.profit_mean)"
   ]
  },
  {
   "cell_type": "code",
   "execution_count": 26,
   "metadata": {},
   "outputs": [
    {
     "ename": "LoadError",
     "evalue": "UndefVarError: df not defined",
     "output_type": "error",
     "traceback": [
      "UndefVarError: df not defined",
      "",
      "Stacktrace:",
      " [1] top-level scope",
      "   @ In[26]:1"
     ]
    }
   ],
   "source": [
    "df[best_row,:]"
   ]
  },
  {
   "cell_type": "code",
   "execution_count": 27,
   "metadata": {},
   "outputs": [
    {
     "ename": "LoadError",
     "evalue": "UndefVarError: df not defined",
     "output_type": "error",
     "traceback": [
      "UndefVarError: df not defined",
      "",
      "Stacktrace:",
      " [1] top-level scope",
      "   @ In[27]:1"
     ]
    }
   ],
   "source": [
    "findall(<=(-500), df.profit_mean)'\n"
   ]
  },
  {
   "cell_type": "code",
   "execution_count": 28,
   "metadata": {},
   "outputs": [
    {
     "ename": "LoadError",
     "evalue": "UndefVarError: df not defined",
     "output_type": "error",
     "traceback": [
      "UndefVarError: df not defined",
      "",
      "Stacktrace:",
      " [1] top-level scope",
      "   @ In[28]:1"
     ]
    }
   ],
   "source": [
    "df[66,:]"
   ]
  },
  {
   "cell_type": "code",
   "execution_count": 29,
   "metadata": {},
   "outputs": [
    {
     "ename": "LoadError",
     "evalue": "UndefVarError: df not defined",
     "output_type": "error",
     "traceback": [
      "UndefVarError: df not defined",
      "",
      "Stacktrace:",
      " [1] top-level scope",
      "   @ In[29]:1"
     ]
    }
   ],
   "source": [
    "df[[66, 74,82,90],:]"
   ]
  },
  {
   "cell_type": "code",
   "execution_count": 30,
   "metadata": {},
   "outputs": [
    {
     "ename": "LoadError",
     "evalue": "UndefVarError: df not defined",
     "output_type": "error",
     "traceback": [
      "UndefVarError: df not defined",
      "",
      "Stacktrace:",
      " [1] top-level scope",
      "   @ In[30]:1"
     ]
    }
   ],
   "source": [
    "df[findall(<=(-500), df.profit_mean),:]"
   ]
  },
  {
   "cell_type": "code",
   "execution_count": 31,
   "metadata": {},
   "outputs": [
    {
     "ename": "LoadError",
     "evalue": "UndefVarError: df not defined",
     "output_type": "error",
     "traceback": [
      "UndefVarError: df not defined",
      "",
      "Stacktrace:",
      " [1] top-level scope",
      "   @ In[31]:1"
     ]
    }
   ],
   "source": [
    "more500 = findall(>(-500), df.profit_mean)'"
   ]
  },
  {
   "cell_type": "code",
   "execution_count": 32,
   "metadata": {},
   "outputs": [
    {
     "ename": "LoadError",
     "evalue": "ArgumentError: Package VegaLite not found in current path.\n- Run `import Pkg; Pkg.add(\"VegaLite\")` to install the VegaLite package.",
     "output_type": "error",
     "traceback": [
      "ArgumentError: Package VegaLite not found in current path.\n- Run `import Pkg; Pkg.add(\"VegaLite\")` to install the VegaLite package.",
      "",
      "Stacktrace:",
      " [1] macro expansion",
      "   @ ./loading.jl:1163 [inlined]",
      " [2] macro expansion",
      "   @ ./lock.jl:223 [inlined]",
      " [3] require(into::Module, mod::Symbol)",
      "   @ Base ./loading.jl:1144"
     ]
    }
   ],
   "source": [
    "# using PyPlot\n",
    "# using PyCall \n",
    "\n",
    "using VegaLite\n",
    "df |> @vlplot(:point, x=:S, y=:s, color={:profit_mean, scale={scheme=:plasma}})\n",
    "\n",
    "# scatter(df.S[more500],\n",
    "#         df.s[more500], \n",
    "#         c=df.profit_mean[more500] )\n",
    "# xlabel(\"S - target wharehouse stock \")\n",
    "# ylabel(\"s - reorder point\")\n",
    "# colorbar()\n",
    "# title(\"Profits\")\n",
    "\n",
    "# scatter(df.S[Not(more500)],\n",
    "#         df.s[Not(more500)], \n",
    "#         c=\"gray\")\n",
    "# show()"
   ]
  },
  {
   "cell_type": "code",
   "execution_count": 33,
   "metadata": {},
   "outputs": [
    {
     "ename": "LoadError",
     "evalue": "ArgumentError: Package VegaLite not found in current path.\n- Run `import Pkg; Pkg.add(\"VegaLite\")` to install the VegaLite package.",
     "output_type": "error",
     "traceback": [
      "ArgumentError: Package VegaLite not found in current path.\n- Run `import Pkg; Pkg.add(\"VegaLite\")` to install the VegaLite package.",
      "",
      "Stacktrace:",
      " [1] macro expansion",
      "   @ ./loading.jl:1163 [inlined]",
      " [2] macro expansion",
      "   @ ./lock.jl:223 [inlined]",
      " [3] require(into::Module, mod::Symbol)",
      "   @ Base ./loading.jl:1144"
     ]
    }
   ],
   "source": [
    "# using PyPlot\n",
    "# using PyCall \n",
    "\n",
    "using VegaLite\n",
    "df |> @vlplot(:point, x=:S, y=:s, color={:lost_mean, scale={scheme=:plasma}})\n",
    "\n",
    "        # scatter(df.S[more500],\n",
    "#         df.s[more500], \n",
    "#         c=df.lost_mean[more500] )\n",
    "# xlabel(\"S - target wharehouse stock \")\n",
    "# ylabel(\"s - reorder point\")\n",
    "# colorbar()\n",
    "# title(\"Lost orders\")\n",
    "\n",
    "# scatter(df.S[Not(more500)],\n",
    "#         df.s[Not(more500)], \n",
    "#         c=\"gray\")\n",
    "# show()\n",
    "# savefig(raw\"c:\\temp\\lost_orders.png\")"
   ]
  },
  {
   "cell_type": "code",
   "execution_count": 34,
   "metadata": {
    "scrolled": true
   },
   "outputs": [
    {
     "ename": "LoadError",
     "evalue": "ArgumentError: Package VegaLite not found in current path.\n- Run `import Pkg; Pkg.add(\"VegaLite\")` to install the VegaLite package.",
     "output_type": "error",
     "traceback": [
      "ArgumentError: Package VegaLite not found in current path.\n- Run `import Pkg; Pkg.add(\"VegaLite\")` to install the VegaLite package.",
      "",
      "Stacktrace:",
      " [1] macro expansion",
      "   @ ./loading.jl:1163 [inlined]",
      " [2] macro expansion",
      "   @ ./lock.jl:223 [inlined]",
      " [3] require(into::Module, mod::Symbol)",
      "   @ Base ./loading.jl:1144"
     ]
    }
   ],
   "source": [
    "using VegaLite\n",
    "df |> @vlplot(:point, x=:lost_mean, y=:profit_mean, color={:s, scale={scheme=:plasma}})"
   ]
  },
  {
   "cell_type": "code",
   "execution_count": 35,
   "metadata": {},
   "outputs": [
    {
     "ename": "LoadError",
     "evalue": "ArgumentError: Package VegaLite not found in current path.\n- Run `import Pkg; Pkg.add(\"VegaLite\")` to install the VegaLite package.",
     "output_type": "error",
     "traceback": [
      "ArgumentError: Package VegaLite not found in current path.\n- Run `import Pkg; Pkg.add(\"VegaLite\")` to install the VegaLite package.",
      "",
      "Stacktrace:",
      " [1] macro expansion",
      "   @ ./loading.jl:1163 [inlined]",
      " [2] macro expansion",
      "   @ ./lock.jl:223 [inlined]",
      " [3] require(into::Module, mod::Symbol)",
      "   @ Base ./loading.jl:1144"
     ]
    }
   ],
   "source": [
    "using VegaLite\n",
    "df |> @vlplot(:point, x=:lost_mean, y=:profit_mean, color={:S, scale={scheme=:plasma}})"
   ]
  },
  {
   "cell_type": "markdown",
   "metadata": {},
   "source": [
    "# SIMULATION-OPTIMIZATION approach"
   ]
  },
  {
   "cell_type": "code",
   "execution_count": 37,
   "metadata": {},
   "outputs": [],
   "source": [
    "# code which simulates the operation of the warehouse system and optimizes the level of the minimum and maximum order:"
   ]
  },
  {
   "cell_type": "code",
   "execution_count": 38,
   "metadata": {},
   "outputs": [
    {
     "data": {
      "text/plain": [
       "simulateOneRun (generic function with 1 method)"
      ]
     },
     "execution_count": 38,
     "metadata": {},
     "output_type": "execute_result"
    }
   ],
   "source": [
    "using Distributions\n",
    "\n",
    "function simulateOneRun(m, s, S;\n",
    "    h = 0.1, #koszt przechowywania jednostki towaru\n",
    "    c = 2.0, #jednostkowy zysk ze sprzedaży\n",
    "    p = 0.50, #prawdopodobieństwo dostawy\n",
    "    K = 40, #koszt stałego zamówienia\n",
    "    k = 1.0, #koszt zmiennej ilości zamówionego towaru\n",
    "    init_S = 100, #początkowa ilość towaru w magazynie\n",
    "    average_demand = 20) #średnie dzienne zapotrzebowanie\n",
    "    \n",
    "    Xⱼ = init_S #ilość towaru w magazynie\n",
    "    profit = 0.0 #początkowy zysk\n",
    "    lost_orders = 0.0 #ilość utraconych zamówień\n",
    "    warehouse_levels = Int[] #historia stanu magazynu\n",
    "    pois = Distributions.Poisson(average_demand) #rozkład Poissona dla dziennej liczby sprzedaży\n",
    "    for day in 1:m #iterujemy po dniach\n",
    "        if Xⱼ < s #jeśli ilość towaru w magazynie jest mniejsza niż minimalny poziom zamówienia s\n",
    "            if rand() < p #jeśli dostawa zostanie dostarczona\n",
    "                profit -= K + (S-Xⱼ)*k #koszt zamówienia\n",
    "                Xⱼ = S #dodajemy ilość towaru odpowiadającą docelowemu poziomowi magazynu S\n",
    "            end\n",
    "        end\n",
    "        push!(warehouse_levels, Xⱼ) #zapisujemy aktualny stan magazynu\n",
    "        demand = rand(pois) #losujemy dzienne zapotrzebowanie na towar\n",
    "        sales = min(Xⱼ, demand) #sprzedajemy towar, który jest dostępny w magazynie\n",
    "        Xⱼ -= sales #zmniejszamy stan magazynu o sprzedaną ilość\n",
    "        @assert Xⱼ >= 0 #sprawdzamy, czy ilość towaru w magazynie nie jest ujemna\n",
    "        lost_order = demand - sales #liczymy ilość utraconych zamówień\n",
    "        @assert lost_order >= 0 #sprawdzamy, czy ilość utraconych zamówień nie jest ujemna\n",
    "        profit += sales*c - (Xⱼ-sales)*h #dodajemy zysk ze sprzedaży i koszty przechowywania\n",
    "        lost_orders += lost_order #dodajemy ilość utraconych zamówień\n",
    "    end\n",
    "    \n",
    "    (profit=profit, lost_orders=lost_orders, warehouse_levels=warehouse_levels)\n",
    "end\n"
   ]
  },
  {
   "cell_type": "code",
   "execution_count": 65,
   "metadata": {},
   "outputs": [
    {
     "data": {
      "text/plain": [
       "simulateManyRuns (generic function with 2 methods)"
      ]
     },
     "execution_count": 65,
     "metadata": {},
     "output_type": "execute_result"
    }
   ],
   "source": [
    "#The simulateManyRuns function takes in the same arguments as simulateOneRun, but also takes additional arguments:\n",
    "\n",
    "#n: number of runs to simulate for each combination of s and S\n",
    "#s_min and s_max: range of values for s to simulate over\n",
    "#S_min and S_max: range of values for S to simulate over\n",
    "#It then iterates over all combinations of s and S within the given ranges, \n",
    "#and simulates n runs for each combination using the simulateOneRun function. \n",
    "#The results for each run are stored in separate vectors, which are returned as a tuple.\n",
    "function simulateManyRuns(n, m, s_range, S_range; kwargs...)\n",
    "    profits = Float64[]\n",
    "    lost_orders = Float64[]\n",
    "    s_values = Int[]\n",
    "    S_values = Int[]\n",
    "    warehouse_levels = Vector{Int}[]\n",
    "    \n",
    "    for s in s_range\n",
    "        for S in S_range\n",
    "            for run in 1:n\n",
    "                res = simulateOneRun(m, s, S; kwargs...)\n",
    "                push!(profits, res.profit)\n",
    "                push!(lost_orders, res.lost_orders)\n",
    "                push!(warehouse_levels, res.warehouse_levels)\n",
    "                push!(s_values, s)\n",
    "                push!(S_values, S)\n",
    "            end\n",
    "        end\n",
    "    end\n",
    "    \n",
    "    return (profits=profits,\n",
    "            lost_orders=lost_orders,\n",
    "            s_values=s_values,\n",
    "            S_values=S_values,\n",
    "            warehouse_levels=warehouse_levels)\n",
    "end\n"
   ]
  },
  {
   "cell_type": "code",
   "execution_count": 66,
   "metadata": {},
   "outputs": [
    {
     "data": {
      "text/plain": [
       "(profits = [1008.8, 1250.8999999999999, 1136.7, 1115.5, 1204.7, 1194.9000000000003, 1150.6, 1023.9000000000001, 1049.2, 1054.3999999999999  …  1235.9, 1094.0, 975.0000000000002, 1230.3000000000002, 1182.0000000000002, 1139.2, 1182.9, 1242.5000000000002, 1252.6000000000001, 1374.8999999999999], lost_orders = [107.0, 41.0, 23.0, 122.0, 42.0, 33.0, 86.0, 75.0, 69.0, 123.0  …  0.0, 0.0, 0.0, 0.0, 11.0, 0.0, 0.0, 29.0, 0.0, 0.0], s_values = [20, 20, 20, 20, 20, 20, 20, 20, 20, 20  …  50, 50, 50, 50, 50, 50, 50, 50, 50, 50], S_values = [100, 100, 100, 100, 100, 100, 100, 100, 100, 100  …  300, 300, 300, 300, 300, 300, 300, 300, 300, 300], warehouse_levels = [[100, 79, 60, 38, 20, 4, 0, 0, 100, 81  …  32, 14, 100, 75, 55, 43, 22, 100, 74, 54], [100, 81, 62, 39, 12, 100, 74, 63, 48, 27  …  56, 32, 16, 0, 100, 77, 52, 27, 100, 76], [100, 82, 52, 34, 12, 0, 100, 82, 60, 42  …  23, 100, 86, 67, 42, 21, 100, 74, 58, 38], [100, 78, 51, 36, 17, 100, 72, 50, 26, 100  …  48, 27, 6, 0, 0, 100, 85, 65, 45, 21], [100, 81, 66, 47, 35, 100, 75, 60, 39, 22  …  10, 100, 69, 50, 33, 9, 100, 76, 59, 38], [100, 81, 67, 45, 19, 100, 87, 65, 43, 100  …  49, 35, 10, 100, 87, 71, 53, 32, 10, 0], [100, 81, 60, 32, 100, 78, 57, 35, 13, 0  …  46, 20, 100, 70, 44, 26, 100, 83, 70, 50], [100, 78, 55, 34, 100, 84, 60, 40, 24, 7  …  26, 11, 0, 100, 84, 75, 50, 31, 100, 83], [100, 68, 43, 22, 100, 75, 61, 43, 100, 82  …  36, 22, 2, 0, 0, 100, 84, 62, 39, 100], [100, 86, 68, 46, 24, 100, 84, 64, 38, 100  …  0, 0, 0, 100, 85, 61, 47, 35, 17, 0]  …  [100, 81, 54, 300, 287, 272, 249, 231, 210, 194  …  252, 242, 223, 208, 179, 151, 131, 114, 93, 78], [100, 74, 51, 31, 300, 278, 248, 230, 207, 190  …  207, 187, 164, 149, 128, 116, 94, 71, 300, 276], [100, 78, 300, 288, 268, 252, 233, 215, 196, 179  …  244, 222, 200, 172, 153, 128, 109, 94, 73, 300], [100, 79, 61, 300, 279, 261, 239, 218, 205, 189  …  242, 223, 207, 190, 168, 146, 131, 114, 90, 74], [100, 87, 69, 54, 300, 284, 269, 241, 217, 198  …  282, 265, 249, 225, 209, 189, 165, 144, 125, 101], [100, 84, 69, 46, 300, 279, 263, 250, 232, 215  …  275, 255, 240, 225, 207, 189, 168, 146, 124, 102], [100, 84, 62, 44, 300, 280, 258, 237, 226, 208  …  246, 230, 208, 189, 170, 149, 136, 112, 93, 73], [100, 76, 52, 37, 17, 0, 300, 273, 247, 228  …  300, 282, 257, 236, 214, 200, 182, 163, 142, 124], [100, 74, 50, 33, 300, 290, 269, 252, 237, 211  …  278, 265, 244, 227, 206, 186, 164, 138, 119, 106], [100, 81, 54, 33, 300, 282, 263, 241, 220, 201  …  250, 234, 201, 184, 163, 148, 129, 110, 87, 55]])"
      ]
     },
     "execution_count": 66,
     "metadata": {},
     "output_type": "execute_result"
    }
   ],
   "source": [
    "# parametry symulacji\n",
    "m = 30 # liczba dni\n",
    "n = 10 # liczba powtórzeń dla każdej kombinacji s i S\n",
    "s_range = 20:5:50 # zakres poziomu minimalnego zamówienia\n",
    "S_range = 100:50:300 # zakres poziomu maksymalnego zamówienia\n",
    "kwargs = Dict(\n",
    "    :h => 0.1,\n",
    "    :c => 4.0,\n",
    "    :p => 0.50,\n",
    "    :K => 100,\n",
    "    :k => 1.0,\n",
    "    :init_S => 100,\n",
    "    :average_demand => 20\n",
    ")\n",
    "\n",
    "# wykonanie symulacji\n",
    "Random.seed!(10)\n",
    "results = simulateManyRuns(n, m, s_range, S_range; kwargs...)\n"
   ]
  },
  {
   "cell_type": "code",
   "execution_count": null,
   "metadata": {},
   "outputs": [],
   "source": []
  },
  {
   "cell_type": "code",
   "execution_count": null,
   "metadata": {},
   "outputs": [],
   "source": []
  }
 ],
 "metadata": {
  "kernelspec": {
   "display_name": "Julia 1.8.5",
   "language": "julia",
   "name": "julia-1.8"
  },
  "language_info": {
   "file_extension": ".jl",
   "mimetype": "application/julia",
   "name": "julia",
   "version": "1.8.5"
  }
 },
 "nbformat": 4,
 "nbformat_minor": 2
}
