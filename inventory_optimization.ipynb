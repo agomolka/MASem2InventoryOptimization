{
 "cells": [
  {
   "cell_type": "code",
   "execution_count": 1,
   "metadata": {},
   "outputs": [
    {
     "data": {
      "text/plain": [
       "0.0"
      ]
     },
     "metadata": {},
     "output_type": "display_data"
    }
   ],
   "source": [
    "using Random, Distributions, Statistics, DataFrames # w terminalu wpisac julia, potem ] i komenda np. add DataFrames\n",
    "\n",
    "h = 0.1 #storage cost\n",
    "c = 2.0 #unit profit\n",
    "p = 0.50 #probability of delivery\n",
    "K = 40 # fixed order cost\n",
    "k = 1.0 # variable order cost\n",
    "##można zostawić to albo zmienić na wybrane \n",
    "average_demand = 20\n",
    "\n",
    "s = 30\n",
    "S = 50 \n",
    "#będziemy szukać takich s, które dają największy profit\n",
    "\n",
    "X = 100  # poczatek dnia pierwszego symulacji\n",
    "profit = 0.0 "
   ]
  },
  {
   "cell_type": "code",
   "execution_count": 2,
   "metadata": {},
   "outputs": [
    {
     "data": {
      "text/plain": [
       "Poisson{Float64}(λ=20.0)"
      ]
     },
     "metadata": {},
     "output_type": "display_data"
    }
   ],
   "source": [
    "pois = Distributions.Poisson(average_demand)\n",
    "##wadą jest mała wariancja, w rzeczywistości popoyt jest bardziej chaotyczny\n",
    "##można wybrac inny rozkład, żeby to urealnić, np normalny...."
   ]
  },
  {
   "cell_type": "code",
   "execution_count": 3,
   "metadata": {},
   "outputs": [
    {
     "data": {
      "text/plain": [
       "5-element Vector{Int64}:\n",
       " 20\n",
       " 25\n",
       " 24\n",
       " 20\n",
       " 23"
      ]
     },
     "metadata": {},
     "output_type": "display_data"
    }
   ],
   "source": [
    "rand(pois, 5)"
   ]
  },
  {
   "cell_type": "code",
   "execution_count": 4,
   "metadata": {},
   "outputs": [
    {
     "data": {
      "text/plain": [
       "simulateOneRun (generic function with 1 method)"
      ]
     },
     "metadata": {},
     "output_type": "display_data"
    }
   ],
   "source": [
    "using Random\n",
    "using Distributions\n",
    "using Statistics\n",
    "# m - number of days\n",
    "# s - reorder point\n",
    "# S - target warehouse volume\n",
    "## będziemy iterować te funkjce przez s, S, a 'm' to liczba dni\n",
    "## \n",
    "function simulateOneRun(m, s, S;\n",
    "    h = 0.1, #storage cost\n",
    "    c = 4.0, #unit profit\n",
    "    p = 0.50, #probability of delivery\n",
    "    K = 100, # fixed order cost\n",
    "    k = 1.0, # variable order cost\n",
    "    init_S = 100, #initial warehouse level\n",
    "    average_demand = 20)\n",
    "    Xⱼ = init_S\n",
    "    local Yj\n",
    "    profit = 0.0\n",
    "    lost_orders = 0.0\n",
    "    warehouse_levels = Int[]\n",
    "    pois = Distributions.Poisson(average_demand)\n",
    "    for day in 1:m\n",
    "        if Xⱼ < s  # reorder point\n",
    "            if rand() < p\n",
    "                profit -= K + (S-Xⱼ)*k\n",
    "                Xⱼ = S\n",
    "            end\n",
    "        end\n",
    "        push!(warehouse_levels, Xⱼ)\n",
    "        demand = rand(pois)\n",
    "        sales = min(Xⱼ, demand)\n",
    "        Xⱼ -= sales\n",
    "        @assert Xⱼ >= 0\n",
    "        lost_order = demand - sales # failed to provide\n",
    "        @assert lost_order >= 0 \n",
    "        profit += sales*c - (Xⱼ-sales)*h  # storage costs\n",
    "        lost_orders += lost_order\n",
    "        ## mozna dodac one_objective = 0.75 * profit + 0.01 *lost_orders\n",
    "        ## albo można przemnozyc przez paramter koszst jednostkowy stckoutu\n",
    "        ## k_jedn_stockout = \n",
    "        ## ne_objective = 0.75 * profit + 0.01 *lost_orders * k_jedn_stockout\n",
    "    end\n",
    "    \n",
    "    (profit=profit, lost_orders=lost_orders,\n",
    "        warehouse_levels=warehouse_levels)\n",
    "    ## wtedy ....(profit=profit, lost_orders=lost_orders,\n",
    "    ##    warehouse_levels=warehouse_levels one_objective=one_objective)\n",
    "    \n",
    "end"
   ]
  },
  {
   "cell_type": "code",
   "execution_count": 5,
   "metadata": {},
   "outputs": [
    {
     "data": {
      "text/plain": [
       "(profit = 848.1000000000001, lost_orders = 24.0, warehouse_levels = [100, 84, 68, 36, 22, 7, 200, 175, 156, 136, 122, 99, 78, 61, 37, 16, 200, 181, 155, 134])"
      ]
     },
     "metadata": {},
     "output_type": "display_data"
    }
   ],
   "source": [
    "res = simulateOneRun(20,20,200)\n",
    "## przykładowe wykonanie funkjci\n",
    "## jak każdego dnia kształtował się warehouse warehouse_levels - patrzymy jak wyglądał stan magazynu i dostawy do niego\n",
    "## możwe że tu nie powinno być '200' -> możliwy błąd"
   ]
  },
  {
   "cell_type": "code",
   "execution_count": 6,
   "metadata": {},
   "outputs": [
    {
     "name": "stdout",
     "output_type": "stream",
     "text": [
      "res.profit = 848.1000000000001\n",
      "res.lost_orders = 24.0\n",
      "res.warehouse_levels = [100, 84, 68, 36, 22, 7, 200, 175, 156, 136, 122, 99, 78, 61, 37, 16, 200, 181, 155, 134]\n"
     ]
    }
   ],
   "source": [
    "@show res.profit\n",
    "@show res.lost_orders\n",
    "@show res.warehouse_levels;"
   ]
  },
  {
   "cell_type": "code",
   "execution_count": 8,
   "metadata": {},
   "outputs": [
    {
     "data": {
      "image/png": "[encoded data removed]",
      "image/svg+xml": [
       "<?xml version=\"1.0\" encoding=\"utf-8\"?>\n",
       "<svg xmlns=\"http://www.w3.org/2000/svg\" xmlns:xlink=\"http://www.w3.org/1999/xlink\" width=\"600\" height=\"400\" viewBox=\"0 0 2400 1600\">\n",
       "<defs>\n",
       "  <clipPath id=\"clip970\">\n",
       "    <rect x=\"0\" y=\"0\" width=\"2400\" height=\"1600\"/>\n",
       "  </clipPath>\n",
       "</defs>\n",
       "<path clip-path=\"url(#clip970)\" d=\"\n",
       "M0 1600 L2400 1600 L2400 0 L0 0  Z\n",
       "  \" fill=\"#ffffff\" fill-rule=\"evenodd\" fill-opacity=\"1\"/>\n",
       "<defs>\n",
       "  <clipPath id=\"clip971\">\n",
       "    <rect x=\"480\" y=\"0\" width=\"1681\" height=\"1600\"/>\n",
       "  </clipPath>\n",
       "</defs>\n",
       "<path clip-path=\"url(#clip970)\" d=\"\n",
       "M170.857 1486.45 L2352.76 1486.45 L2352.76 47.2441 L170.857 47.2441  Z\n",
       "  \" fill=\"#ffffff\" fill-rule=\"evenodd\" fill-opacity=\"1\"/>\n",
       "<defs>\n",
       "  <clipPath id=\"clip972\">\n",
       "    <rect x=\"170\" y=\"47\" width=\"2183\" height=\"1440\"/>\n",
       "  </clipPath>\n",
       "</defs>\n",
       "<polyline clip-path=\"url(#clip972)\" style=\"stroke:#000000; stroke-linecap:round; stroke-linejoin:round; stroke-width:2; stroke-opacity:0.1; fill:none\" points=\"\n",
       "  516.526,1486.45 516.526,47.2441 \n",
       "  \"/>\n",
       "<polyline clip-path=\"url(#clip972)\" style=\"stroke:#000000; stroke-linecap:round; stroke-linejoin:round; stroke-width:2; stroke-opacity:0.1; fill:none\" points=\"\n",
       "  871.421,1486.45 871.421,47.2441 \n",
       "  \"/>\n",
       "<polyline clip-path=\"url(#clip972)\" style=\"stroke:#000000; stroke-linecap:round; stroke-linejoin:round; stroke-width:2; stroke-opacity:0.1; fill:none\" points=\"\n",
       "  1226.32,1486.45 1226.32,47.2441 \n",
       "  \"/>\n",
       "<polyline clip-path=\"url(#clip972)\" style=\"stroke:#000000; stroke-linecap:round; stroke-linejoin:round; stroke-width:2; stroke-opacity:0.1; fill:none\" points=\"\n",
       "  1581.21,1486.45 1581.21,47.2441 \n",
       "  \"/>\n",
       "<polyline clip-path=\"url(#clip972)\" style=\"stroke:#000000; stroke-linecap:round; stroke-linejoin:round; stroke-width:2; stroke-opacity:0.1; fill:none\" points=\"\n",
       "  1936.11,1486.45 1936.11,47.2441 \n",
       "  \"/>\n",
       "<polyline clip-path=\"url(#clip972)\" style=\"stroke:#000000; stroke-linecap:round; stroke-linejoin:round; stroke-width:2; stroke-opacity:0.1; fill:none\" points=\"\n",
       "  2291,1486.45 2291,47.2441 \n",
       "  \"/>\n",
       "<polyline clip-path=\"url(#clip970)\" style=\"stroke:#000000; stroke-linecap:round; stroke-linejoin:round; stroke-width:4; stroke-opacity:1; fill:none\" points=\"\n",
       "  170.857,1486.45 2352.76,1486.45 \n",
       "  \"/>\n",
       "<polyline clip-path=\"url(#clip970)\" style=\"stroke:#000000; stroke-linecap:round; stroke-linejoin:round; stroke-width:4; stroke-opacity:1; fill:none\" points=\"\n",
       "  516.526,1486.45 516.526,1467.55 \n",
       "  \"/>\n",
       "<polyline clip-path=\"url(#clip970)\" style=\"stroke:#000000; stroke-linecap:round; stroke-linejoin:round; stroke-width:4; stroke-opacity:1; fill:none\" points=\"\n",
       "  871.421,1486.45 871.421,1467.55 \n",
       "  \"/>\n",
       "<polyline clip-path=\"url(#clip970)\" style=\"stroke:#000000; stroke-linecap:round; stroke-linejoin:round; stroke-width:4; stroke-opacity:1; fill:none\" points=\"\n",
       "  1226.32,1486.45 1226.32,1467.55 \n",
       "  \"/>\n",
       "<polyline clip-path=\"url(#clip970)\" style=\"stroke:#000000; stroke-linecap:round; stroke-linejoin:round; stroke-width:4; stroke-opacity:1; fill:none\" points=\"\n",
       "  1581.21,1486.45 1581.21,1467.55 \n",
       "  \"/>\n",
       "<polyline clip-path=\"url(#clip970)\" style=\"stroke:#000000; stroke-linecap:round; stroke-linejoin:round; stroke-width:4; stroke-opacity:1; fill:none\" points=\"\n",
       "  1936.11,1486.45 1936.11,1467.55 \n",
       "  \"/>\n",
       "<polyline clip-path=\"url(#clip970)\" style=\"stroke:#000000; stroke-linecap:round; stroke-linejoin:round; stroke-width:4; stroke-opacity:1; fill:none\" points=\"\n",
       "  2291,1486.45 2291,1467.55 \n",
       "  \"/>\n",
       "<path clip-path=\"url(#clip970)\" d=\"M506.804 1514.29 L525.16 1514.29 L525.16 1518.22 L511.086 1518.22 L511.086 1526.7 Q512.105 1526.35 513.123 1526.19 Q514.142 1526 515.16 1526 Q520.947 1526 524.327 1529.17 Q527.706 1532.34 527.706 1537.76 Q527.706 1543.34 524.234 1546.44 Q520.762 1549.52 514.442 1549.52 Q512.267 1549.52 509.998 1549.15 Q507.753 1548.78 505.345 1548.04 L505.345 1543.34 Q507.429 1544.47 509.651 1545.03 Q511.873 1545.58 514.35 1545.58 Q518.354 1545.58 520.692 1543.48 Q523.03 1541.37 523.03 1537.76 Q523.03 1534.15 520.692 1532.04 Q518.354 1529.94 514.35 1529.94 Q512.475 1529.94 510.6 1530.35 Q508.748 1530.77 506.804 1531.65 L506.804 1514.29 Z\" fill=\"#000000\" fill-rule=\"evenodd\" fill-opacity=\"1\" /><path clip-path=\"url(#clip970)\" d=\"M846.109 1544.91 L853.748 1544.91 L853.748 1518.55 L845.438 1520.21 L845.438 1515.95 L853.702 1514.29 L858.378 1514.29 L858.378 1544.91 L866.016 1544.91 L866.016 1548.85 L846.109 1548.85 L846.109 1544.91 Z\" fill=\"#000000\" fill-rule=\"evenodd\" fill-opacity=\"1\" /><path clip-path=\"url(#clip970)\" d=\"M885.461 1517.37 Q881.85 1517.37 880.021 1520.93 Q878.215 1524.47 878.215 1531.6 Q878.215 1538.71 880.021 1542.27 Q881.85 1545.82 885.461 1545.82 Q889.095 1545.82 890.901 1542.27 Q892.729 1538.71 892.729 1531.6 Q892.729 1524.47 890.901 1520.93 Q889.095 1517.37 885.461 1517.37 M885.461 1513.66 Q891.271 1513.66 894.326 1518.27 Q897.405 1522.85 897.405 1531.6 Q897.405 1540.33 894.326 1544.94 Q891.271 1549.52 885.461 1549.52 Q879.651 1549.52 876.572 1544.94 Q873.516 1540.33 873.516 1531.6 Q873.516 1522.85 876.572 1518.27 Q879.651 1513.66 885.461 1513.66 Z\" fill=\"#000000\" fill-rule=\"evenodd\" fill-opacity=\"1\" /><path clip-path=\"url(#clip970)\" d=\"M1201.5 1544.91 L1209.14 1544.91 L1209.14 1518.55 L1200.83 1520.21 L1200.83 1515.95 L1209.09 1514.29 L1213.77 1514.29 L1213.77 1544.91 L1221.41 1544.91 L1221.41 1548.85 L1201.5 1548.85 L1201.5 1544.91 Z\" fill=\"#000000\" fill-rule=\"evenodd\" fill-opacity=\"1\" /><path clip-path=\"url(#clip970)\" d=\"M1230.9 1514.29 L1249.26 1514.29 L1249.26 1518.22 L1235.18 1518.22 L1235.18 1526.7 Q1236.2 1526.35 1237.22 1526.19 Q1238.24 1526 1239.26 1526 Q1245.04 1526 1248.42 1529.17 Q1251.8 1532.34 1251.8 1537.76 Q1251.8 1543.34 1248.33 1546.44 Q1244.86 1549.52 1238.54 1549.52 Q1236.36 1549.52 1234.09 1549.15 Q1231.85 1548.78 1229.44 1548.04 L1229.44 1543.34 Q1231.53 1544.47 1233.75 1545.03 Q1235.97 1545.58 1238.45 1545.58 Q1242.45 1545.58 1244.79 1543.48 Q1247.13 1541.37 1247.13 1537.76 Q1247.13 1534.15 1244.79 1532.04 Q1242.45 1529.94 1238.45 1529.94 Q1236.57 1529.94 1234.7 1530.35 Q1232.84 1530.77 1230.9 1531.65 L1230.9 1514.29 Z\" fill=\"#000000\" fill-rule=\"evenodd\" fill-opacity=\"1\" /><path clip-path=\"url(#clip970)\" d=\"M1559.99 1544.91 L1576.31 1544.91 L1576.31 1548.85 L1554.36 1548.85 L1554.36 1544.91 Q1557.02 1542.16 1561.61 1537.53 Q1566.21 1532.88 1567.39 1531.53 Q1569.64 1529.01 1570.52 1527.27 Q1571.42 1525.51 1571.42 1523.82 Q1571.42 1521.07 1569.48 1519.33 Q1567.56 1517.6 1564.45 1517.6 Q1562.25 1517.6 1559.8 1518.36 Q1557.37 1519.13 1554.59 1520.68 L1554.59 1515.95 Q1557.42 1514.82 1559.87 1514.24 Q1562.32 1513.66 1564.36 1513.66 Q1569.73 1513.66 1572.93 1516.35 Q1576.12 1519.03 1576.12 1523.52 Q1576.12 1525.65 1575.31 1527.57 Q1574.52 1529.47 1572.42 1532.07 Q1571.84 1532.74 1568.74 1535.95 Q1565.63 1539.15 1559.99 1544.91 Z\" fill=\"#000000\" fill-rule=\"evenodd\" fill-opacity=\"1\" /><path clip-path=\"url(#clip970)\" d=\"M1596.12 1517.37 Q1592.51 1517.37 1590.68 1520.93 Q1588.87 1524.47 1588.87 1531.6 Q1588.87 1538.71 1590.68 1542.27 Q1592.51 1545.82 1596.12 1545.82 Q1599.75 1545.82 1601.56 1542.27 Q1603.39 1538.71 1603.39 1531.6 Q1603.39 1524.47 1601.56 1520.93 Q1599.75 1517.37 1596.12 1517.37 M1596.12 1513.66 Q1601.93 1513.66 1604.99 1518.27 Q1608.06 1522.85 1608.06 1531.6 Q1608.06 1540.33 1604.99 1544.94 Q1601.93 1549.52 1596.12 1549.52 Q1590.31 1549.52 1587.23 1544.94 Q1584.18 1540.33 1584.18 1531.6 Q1584.18 1522.85 1587.23 1518.27 Q1590.31 1513.66 1596.12 1513.66 Z\" fill=\"#000000\" fill-rule=\"evenodd\" fill-opacity=\"1\" /><path clip-path=\"url(#clip970)\" d=\"M1915.38 1544.91 L1931.7 1544.91 L1931.7 1548.85 L1909.75 1548.85 L1909.75 1544.91 Q1912.42 1542.16 1917 1537.53 Q1921.61 1532.88 1922.79 1531.53 Q1925.03 1529.01 1925.91 1527.27 Q1926.81 1525.51 1926.81 1523.82 Q1926.81 1521.07 1924.87 1519.33 Q1922.95 1517.6 1919.85 1517.6 Q1917.65 1517.6 1915.19 1518.36 Q1912.76 1519.13 1909.99 1520.68 L1909.99 1515.95 Q1912.81 1514.82 1915.26 1514.24 Q1917.72 1513.66 1919.75 1513.66 Q1925.12 1513.66 1928.32 1516.35 Q1931.51 1519.03 1931.51 1523.52 Q1931.51 1525.65 1930.7 1527.57 Q1929.92 1529.47 1927.81 1532.07 Q1927.23 1532.74 1924.13 1535.95 Q1921.03 1539.15 1915.38 1544.91 Z\" fill=\"#000000\" fill-rule=\"evenodd\" fill-opacity=\"1\" /><path clip-path=\"url(#clip970)\" d=\"M1941.56 1514.29 L1959.92 1514.29 L1959.92 1518.22 L1945.84 1518.22 L1945.84 1526.7 Q1946.86 1526.35 1947.88 1526.19 Q1948.9 1526 1949.92 1526 Q1955.7 1526 1959.08 1529.17 Q1962.46 1532.34 1962.46 1537.76 Q1962.46 1543.34 1958.99 1546.44 Q1955.52 1549.52 1949.2 1549.52 Q1947.02 1549.52 1944.75 1549.15 Q1942.51 1548.78 1940.1 1548.04 L1940.1 1543.34 Q1942.18 1544.47 1944.41 1545.03 Q1946.63 1545.58 1949.11 1545.58 Q1953.11 1545.58 1955.45 1543.48 Q1957.79 1541.37 1957.79 1537.76 Q1957.79 1534.15 1955.45 1532.04 Q1953.11 1529.94 1949.11 1529.94 Q1947.23 1529.94 1945.36 1530.35 Q1943.5 1530.77 1941.56 1531.65 L1941.56 1514.29 Z\" fill=\"#000000\" fill-rule=\"evenodd\" fill-opacity=\"1\" /><path clip-path=\"url(#clip970)\" d=\"M2279.85 1530.21 Q2283.2 1530.93 2285.08 1533.2 Q2286.98 1535.47 2286.98 1538.8 Q2286.98 1543.92 2283.46 1546.72 Q2279.94 1549.52 2273.46 1549.52 Q2271.28 1549.52 2268.97 1549.08 Q2266.68 1548.66 2264.22 1547.81 L2264.22 1543.29 Q2266.17 1544.43 2268.48 1545.01 Q2270.8 1545.58 2273.32 1545.58 Q2277.72 1545.58 2280.01 1543.85 Q2282.32 1542.11 2282.32 1538.8 Q2282.32 1535.75 2280.17 1534.03 Q2278.04 1532.3 2274.22 1532.3 L2270.19 1532.3 L2270.19 1528.45 L2274.41 1528.45 Q2277.86 1528.45 2279.68 1527.09 Q2281.51 1525.7 2281.51 1523.11 Q2281.51 1520.45 2279.62 1519.03 Q2277.74 1517.6 2274.22 1517.6 Q2272.3 1517.6 2270.1 1518.01 Q2267.9 1518.43 2265.26 1519.31 L2265.26 1515.14 Q2267.93 1514.4 2270.24 1514.03 Q2272.58 1513.66 2274.64 1513.66 Q2279.96 1513.66 2283.06 1516.09 Q2286.17 1518.5 2286.17 1522.62 Q2286.17 1525.49 2284.52 1527.48 Q2282.88 1529.45 2279.85 1530.21 Z\" fill=\"#000000\" fill-rule=\"evenodd\" fill-opacity=\"1\" /><path clip-path=\"url(#clip970)\" d=\"M2305.84 1517.37 Q2302.23 1517.37 2300.4 1520.93 Q2298.6 1524.47 2298.6 1531.6 Q2298.6 1538.71 2300.4 1542.27 Q2302.23 1545.82 2305.84 1545.82 Q2309.48 1545.82 2311.28 1542.27 Q2313.11 1538.71 2313.11 1531.6 Q2313.11 1524.47 2311.28 1520.93 Q2309.48 1517.37 2305.84 1517.37 M2305.84 1513.66 Q2311.65 1513.66 2314.71 1518.27 Q2317.79 1522.85 2317.79 1531.6 Q2317.79 1540.33 2314.71 1544.94 Q2311.65 1549.52 2305.84 1549.52 Q2300.03 1549.52 2296.95 1544.94 Q2293.9 1540.33 2293.9 1531.6 Q2293.9 1522.85 2296.95 1518.27 Q2300.03 1513.66 2305.84 1513.66 Z\" fill=\"#000000\" fill-rule=\"evenodd\" fill-opacity=\"1\" /><polyline clip-path=\"url(#clip972)\" style=\"stroke:#000000; stroke-linecap:round; stroke-linejoin:round; stroke-width:2; stroke-opacity:0.1; fill:none\" points=\"\n",
       "  170.857,1225.75 2352.76,1225.75 \n",
       "  \"/>\n",
       "<polyline clip-path=\"url(#clip972)\" style=\"stroke:#000000; stroke-linecap:round; stroke-linejoin:round; stroke-width:2; stroke-opacity:0.1; fill:none\" points=\"\n",
       "  170.857,846.49 2352.76,846.49 \n",
       "  \"/>\n",
       "<polyline clip-path=\"url(#clip972)\" style=\"stroke:#000000; stroke-linecap:round; stroke-linejoin:round; stroke-width:2; stroke-opacity:0.1; fill:none\" points=\"\n",
       "  170.857,467.233 2352.76,467.233 \n",
       "  \"/>\n",
       "<polyline clip-path=\"url(#clip972)\" style=\"stroke:#000000; stroke-linecap:round; stroke-linejoin:round; stroke-width:2; stroke-opacity:0.1; fill:none\" points=\"\n",
       "  170.857,87.9763 2352.76,87.9763 \n",
       "  \"/>\n",
       "<polyline clip-path=\"url(#clip970)\" style=\"stroke:#000000; stroke-linecap:round; stroke-linejoin:round; stroke-width:4; stroke-opacity:1; fill:none\" points=\"\n",
       "  170.857,1486.45 170.857,47.2441 \n",
       "  \"/>\n",
       "<polyline clip-path=\"url(#clip970)\" style=\"stroke:#000000; stroke-linecap:round; stroke-linejoin:round; stroke-width:4; stroke-opacity:1; fill:none\" points=\"\n",
       "  170.857,1225.75 189.755,1225.75 \n",
       "  \"/>\n",
       "<polyline clip-path=\"url(#clip970)\" style=\"stroke:#000000; stroke-linecap:round; stroke-linejoin:round; stroke-width:4; stroke-opacity:1; fill:none\" points=\"\n",
       "  170.857,846.49 189.755,846.49 \n",
       "  \"/>\n",
       "<polyline clip-path=\"url(#clip970)\" style=\"stroke:#000000; stroke-linecap:round; stroke-linejoin:round; stroke-width:4; stroke-opacity:1; fill:none\" points=\"\n",
       "  170.857,467.233 189.755,467.233 \n",
       "  \"/>\n",
       "<polyline clip-path=\"url(#clip970)\" style=\"stroke:#000000; stroke-linecap:round; stroke-linejoin:round; stroke-width:4; stroke-opacity:1; fill:none\" points=\"\n",
       "  170.857,87.9763 189.755,87.9763 \n",
       "  \"/>\n",
       "<path clip-path=\"url(#clip970)\" d=\"M82.7975 1208.47 L101.154 1208.47 L101.154 1212.4 L87.0799 1212.4 L87.0799 1220.87 Q88.0984 1220.53 89.1169 1220.36 Q90.1354 1220.18 91.1539 1220.18 Q96.941 1220.18 100.321 1223.35 Q103.7 1226.52 103.7 1231.94 Q103.7 1237.52 100.228 1240.62 Q96.7558 1243.7 90.4364 1243.7 Q88.2604 1243.7 85.9919 1243.33 Q83.7466 1242.96 81.3392 1242.22 L81.3392 1237.52 Q83.4225 1238.65 85.6447 1239.21 Q87.8669 1239.76 90.3438 1239.76 Q94.3484 1239.76 96.6863 1237.66 Q99.0243 1235.55 99.0243 1231.94 Q99.0243 1228.33 96.6863 1226.22 Q94.3484 1224.11 90.3438 1224.11 Q88.4688 1224.11 86.5938 1224.53 Q84.7419 1224.95 82.7975 1225.83 L82.7975 1208.47 Z\" fill=\"#000000\" fill-rule=\"evenodd\" fill-opacity=\"1\" /><path clip-path=\"url(#clip970)\" d=\"M122.913 1211.55 Q119.302 1211.55 117.473 1215.11 Q115.668 1218.65 115.668 1225.78 Q115.668 1232.89 117.473 1236.45 Q119.302 1239.99 122.913 1239.99 Q126.547 1239.99 128.353 1236.45 Q130.182 1232.89 130.182 1225.78 Q130.182 1218.65 128.353 1215.11 Q126.547 1211.55 122.913 1211.55 M122.913 1207.84 Q128.723 1207.84 131.779 1212.45 Q134.857 1217.03 134.857 1225.78 Q134.857 1234.51 131.779 1239.11 Q128.723 1243.7 122.913 1243.7 Q117.103 1243.7 114.024 1239.11 Q110.969 1234.51 110.969 1225.78 Q110.969 1217.03 114.024 1212.45 Q117.103 1207.84 122.913 1207.84 Z\" fill=\"#000000\" fill-rule=\"evenodd\" fill-opacity=\"1\" /><path clip-path=\"url(#clip970)\" d=\"M53.3995 859.835 L61.0384 859.835 L61.0384 833.469 L52.7282 835.136 L52.7282 830.877 L60.9921 829.21 L65.668 829.21 L65.668 859.835 L73.3068 859.835 L73.3068 863.77 L53.3995 863.77 L53.3995 859.835 Z\" fill=\"#000000\" fill-rule=\"evenodd\" fill-opacity=\"1\" /><path clip-path=\"url(#clip970)\" d=\"M92.7512 832.289 Q89.1401 832.289 87.3114 835.853 Q85.5058 839.395 85.5058 846.525 Q85.5058 853.631 87.3114 857.196 Q89.1401 860.738 92.7512 860.738 Q96.3854 860.738 98.1909 857.196 Q100.02 853.631 100.02 846.525 Q100.02 839.395 98.1909 835.853 Q96.3854 832.289 92.7512 832.289 M92.7512 828.585 Q98.5613 828.585 101.617 833.191 Q104.696 837.775 104.696 846.525 Q104.696 855.251 101.617 859.858 Q98.5613 864.441 92.7512 864.441 Q86.941 864.441 83.8623 859.858 Q80.8068 855.251 80.8068 846.525 Q80.8068 837.775 83.8623 833.191 Q86.941 828.585 92.7512 828.585 Z\" fill=\"#000000\" fill-rule=\"evenodd\" fill-opacity=\"1\" /><path clip-path=\"url(#clip970)\" d=\"M122.913 832.289 Q119.302 832.289 117.473 835.853 Q115.668 839.395 115.668 846.525 Q115.668 853.631 117.473 857.196 Q119.302 860.738 122.913 860.738 Q126.547 860.738 128.353 857.196 Q130.182 853.631 130.182 846.525 Q130.182 839.395 128.353 835.853 Q126.547 832.289 122.913 832.289 M122.913 828.585 Q128.723 828.585 131.779 833.191 Q134.857 837.775 134.857 846.525 Q134.857 855.251 131.779 859.858 Q128.723 864.441 122.913 864.441 Q117.103 864.441 114.024 859.858 Q110.969 855.251 110.969 846.525 Q110.969 837.775 114.024 833.191 Q117.103 828.585 122.913 828.585 Z\" fill=\"#000000\" fill-rule=\"evenodd\" fill-opacity=\"1\" /><path clip-path=\"url(#clip970)\" d=\"M53.3995 480.578 L61.0384 480.578 L61.0384 454.212 L52.7282 455.879 L52.7282 451.62 L60.9921 449.953 L65.668 449.953 L65.668 480.578 L73.3068 480.578 L73.3068 484.513 L53.3995 484.513 L53.3995 480.578 Z\" fill=\"#000000\" fill-rule=\"evenodd\" fill-opacity=\"1\" /><path clip-path=\"url(#clip970)\" d=\"M82.7975 449.953 L101.154 449.953 L101.154 453.888 L87.0799 453.888 L87.0799 462.36 Q88.0984 462.013 89.1169 461.851 Q90.1354 461.666 91.1539 461.666 Q96.941 461.666 100.321 464.837 Q103.7 468.009 103.7 473.425 Q103.7 479.004 100.228 482.106 Q96.7558 485.184 90.4364 485.184 Q88.2604 485.184 85.9919 484.814 Q83.7466 484.444 81.3392 483.703 L81.3392 479.004 Q83.4225 480.138 85.6447 480.694 Q87.8669 481.249 90.3438 481.249 Q94.3484 481.249 96.6863 479.143 Q99.0243 477.036 99.0243 473.425 Q99.0243 469.814 96.6863 467.708 Q94.3484 465.601 90.3438 465.601 Q88.4688 465.601 86.5938 466.018 Q84.7419 466.434 82.7975 467.314 L82.7975 449.953 Z\" fill=\"#000000\" fill-rule=\"evenodd\" fill-opacity=\"1\" /><path clip-path=\"url(#clip970)\" d=\"M122.913 453.032 Q119.302 453.032 117.473 456.597 Q115.668 460.138 115.668 467.268 Q115.668 474.374 117.473 477.939 Q119.302 481.481 122.913 481.481 Q126.547 481.481 128.353 477.939 Q130.182 474.374 130.182 467.268 Q130.182 460.138 128.353 456.597 Q126.547 453.032 122.913 453.032 M122.913 449.328 Q128.723 449.328 131.779 453.935 Q134.857 458.518 134.857 467.268 Q134.857 475.995 131.779 480.601 Q128.723 485.184 122.913 485.184 Q117.103 485.184 114.024 480.601 Q110.969 475.995 110.969 467.268 Q110.969 458.518 114.024 453.935 Q117.103 449.328 122.913 449.328 Z\" fill=\"#000000\" fill-rule=\"evenodd\" fill-opacity=\"1\" /><path clip-path=\"url(#clip970)\" d=\"M56.6171 101.321 L72.9365 101.321 L72.9365 105.256 L50.9921 105.256 L50.9921 101.321 Q53.6541 98.5665 58.2375 93.9369 Q62.8439 89.2841 64.0245 87.9416 Q66.2698 85.4184 67.1494 83.6823 Q68.0522 81.9231 68.0522 80.2333 Q68.0522 77.4786 66.1078 75.7425 Q64.1865 74.0064 61.0847 74.0064 Q58.8856 74.0064 56.4319 74.7703 Q54.0014 75.5342 51.2236 77.0851 L51.2236 72.3629 Q54.0477 71.2287 56.5014 70.65 Q58.955 70.0713 60.9921 70.0713 Q66.3624 70.0713 69.5568 72.7565 Q72.7513 75.4416 72.7513 79.9323 Q72.7513 82.062 71.9411 83.9832 Q71.1541 85.8814 69.0476 88.474 Q68.4689 89.1453 65.367 92.3628 Q62.2652 95.5573 56.6171 101.321 Z\" fill=\"#000000\" fill-rule=\"evenodd\" fill-opacity=\"1\" /><path clip-path=\"url(#clip970)\" d=\"M92.7512 73.775 Q89.1401 73.775 87.3114 77.3398 Q85.5058 80.8814 85.5058 88.011 Q85.5058 95.1174 87.3114 98.6822 Q89.1401 102.224 92.7512 102.224 Q96.3854 102.224 98.1909 98.6822 Q100.02 95.1174 100.02 88.011 Q100.02 80.8814 98.1909 77.3398 Q96.3854 73.775 92.7512 73.775 M92.7512 70.0713 Q98.5613 70.0713 101.617 74.6777 Q104.696 79.261 104.696 88.011 Q104.696 96.7378 101.617 101.344 Q98.5613 105.928 92.7512 105.928 Q86.941 105.928 83.8623 101.344 Q80.8068 96.7378 80.8068 88.011 Q80.8068 79.261 83.8623 74.6777 Q86.941 70.0713 92.7512 70.0713 Z\" fill=\"#000000\" fill-rule=\"evenodd\" fill-opacity=\"1\" /><path clip-path=\"url(#clip970)\" d=\"M122.913 73.775 Q119.302 73.775 117.473 77.3398 Q115.668 80.8814 115.668 88.011 Q115.668 95.1174 117.473 98.6822 Q119.302 102.224 122.913 102.224 Q126.547 102.224 128.353 98.6822 Q130.182 95.1174 130.182 88.011 Q130.182 80.8814 128.353 77.3398 Q126.547 73.775 122.913 73.775 M122.913 70.0713 Q128.723 70.0713 131.779 74.6777 Q134.857 79.261 134.857 88.011 Q134.857 96.7378 131.779 101.344 Q128.723 105.928 122.913 105.928 Q117.103 105.928 114.024 101.344 Q110.969 96.7378 110.969 88.011 Q110.969 79.261 114.024 74.6777 Q117.103 70.0713 122.913 70.0713 Z\" fill=\"#000000\" fill-rule=\"evenodd\" fill-opacity=\"1\" /><polyline clip-path=\"url(#clip972)\" style=\"stroke:#009af9; stroke-linecap:round; stroke-linejoin:round; stroke-width:4; stroke-opacity:1; fill:none\" points=\"\n",
       "  232.609,846.49 303.588,1005.78 374.568,1149.9 445.547,87.9763 516.526,209.338 587.505,406.552 658.484,573.425 729.463,679.617 800.442,854.075 871.421,998.193 \n",
       "  942.401,1149.9 1013.38,1294.01 1084.36,1445.72 1155.34,87.9763 1226.32,209.338 1297.3,330.701 1368.28,527.914 1439.25,679.617 1510.23,846.49 1581.21,945.097 \n",
       "  1652.19,1066.46 1723.17,1202.99 1794.15,87.9763 1865.13,277.605 1936.11,429.307 2007.09,520.329 2078.07,679.617 2149.05,846.49 2220.02,967.852 2291,1119.55 \n",
       "  \n",
       "  \"/>\n",
       "<path clip-path=\"url(#clip970)\" d=\"\n",
       "M1985.16 198.898 L2280.03 198.898 L2280.03 95.2176 L1985.16 95.2176  Z\n",
       "  \" fill=\"#ffffff\" fill-rule=\"evenodd\" fill-opacity=\"1\"/>\n",
       "<polyline clip-path=\"url(#clip970)\" style=\"stroke:#000000; stroke-linecap:round; stroke-linejoin:round; stroke-width:4; stroke-opacity:1; fill:none\" points=\"\n",
       "  1985.16,198.898 2280.03,198.898 2280.03,95.2176 1985.16,95.2176 1985.16,198.898 \n",
       "  \"/>\n",
       "<polyline clip-path=\"url(#clip970)\" style=\"stroke:#009af9; stroke-linecap:round; stroke-linejoin:round; stroke-width:4; stroke-opacity:1; fill:none\" points=\"\n",
       "  2009.41,147.058 2154.87,147.058 \n",
       "  \"/>\n",
       "<path clip-path=\"url(#clip970)\" d=\"M2192.95 166.745 Q2191.15 171.375 2189.43 172.787 Q2187.72 174.199 2184.85 174.199 L2181.45 174.199 L2181.45 170.634 L2183.95 170.634 Q2185.71 170.634 2186.68 169.8 Q2187.65 168.967 2188.83 165.865 L2189.6 163.921 L2179.11 138.412 L2183.62 138.412 L2191.72 158.689 L2199.83 138.412 L2204.34 138.412 L2192.95 166.745 Z\" fill=\"#000000\" fill-rule=\"evenodd\" fill-opacity=\"1\" /><path clip-path=\"url(#clip970)\" d=\"M2211.63 160.402 L2219.27 160.402 L2219.27 134.037 L2210.96 135.703 L2210.96 131.444 L2219.22 129.778 L2223.9 129.778 L2223.9 160.402 L2231.54 160.402 L2231.54 164.338 L2211.63 164.338 L2211.63 160.402 Z\" fill=\"#000000\" fill-rule=\"evenodd\" fill-opacity=\"1\" /></svg>\n"
      ],
      "text/html": [
       "<?xml version=\"1.0\" encoding=\"utf-8\"?>\n",
       "<svg xmlns=\"http://www.w3.org/2000/svg\" xmlns:xlink=\"http://www.w3.org/1999/xlink\" width=\"600\" height=\"400\" viewBox=\"0 0 2400 1600\">\n",
       "<defs>\n",
       "  <clipPath id=\"clip020\">\n",
       "    <rect x=\"0\" y=\"0\" width=\"2400\" height=\"1600\"/>\n",
       "  </clipPath>\n",
       "</defs>\n",
       "<path clip-path=\"url(#clip020)\" d=\"\n",
       "M0 1600 L2400 1600 L2400 0 L0 0  Z\n",
       "  \" fill=\"#ffffff\" fill-rule=\"evenodd\" fill-opacity=\"1\"/>\n",
       "<defs>\n",
       "  <clipPath id=\"clip021\">\n",
       "    <rect x=\"480\" y=\"0\" width=\"1681\" height=\"1600\"/>\n",
       "  </clipPath>\n",
       "</defs>\n",
       "<path clip-path=\"url(#clip020)\" d=\"\n",
       "M170.857 1486.45 L2352.76 1486.45 L2352.76 47.2441 L170.857 47.2441  Z\n",
       "  \" fill=\"#ffffff\" fill-rule=\"evenodd\" fill-opacity=\"1\"/>\n",
       "<defs>\n",
       "  <clipPath id=\"clip022\">\n",
       "    <rect x=\"170\" y=\"47\" width=\"2183\" height=\"1440\"/>\n",
       "  </clipPath>\n",
       "</defs>\n",
       "<polyline clip-path=\"url(#clip022)\" style=\"stroke:#000000; stroke-linecap:round; stroke-linejoin:round; stroke-width:2; stroke-opacity:0.1; fill:none\" points=\"\n",
       "  516.526,1486.45 516.526,47.2441 \n",
       "  \"/>\n",
       "<polyline clip-path=\"url(#clip022)\" style=\"stroke:#000000; stroke-linecap:round; stroke-linejoin:round; stroke-width:2; stroke-opacity:0.1; fill:none\" points=\"\n",
       "  871.421,1486.45 871.421,47.2441 \n",
       "  \"/>\n",
       "<polyline clip-path=\"url(#clip022)\" style=\"stroke:#000000; stroke-linecap:round; stroke-linejoin:round; stroke-width:2; stroke-opacity:0.1; fill:none\" points=\"\n",
       "  1226.32,1486.45 1226.32,47.2441 \n",
       "  \"/>\n",
       "<polyline clip-path=\"url(#clip022)\" style=\"stroke:#000000; stroke-linecap:round; stroke-linejoin:round; stroke-width:2; stroke-opacity:0.1; fill:none\" points=\"\n",
       "  1581.21,1486.45 1581.21,47.2441 \n",
       "  \"/>\n",
       "<polyline clip-path=\"url(#clip022)\" style=\"stroke:#000000; stroke-linecap:round; stroke-linejoin:round; stroke-width:2; stroke-opacity:0.1; fill:none\" points=\"\n",
       "  1936.11,1486.45 1936.11,47.2441 \n",
       "  \"/>\n",
       "<polyline clip-path=\"url(#clip022)\" style=\"stroke:#000000; stroke-linecap:round; stroke-linejoin:round; stroke-width:2; stroke-opacity:0.1; fill:none\" points=\"\n",
       "  2291,1486.45 2291,47.2441 \n",
       "  \"/>\n",
       "<polyline clip-path=\"url(#clip020)\" style=\"stroke:#000000; stroke-linecap:round; stroke-linejoin:round; stroke-width:4; stroke-opacity:1; fill:none\" points=\"\n",
       "  170.857,1486.45 2352.76,1486.45 \n",
       "  \"/>\n",
       "<polyline clip-path=\"url(#clip020)\" style=\"stroke:#000000; stroke-linecap:round; stroke-linejoin:round; stroke-width:4; stroke-opacity:1; fill:none\" points=\"\n",
       "  516.526,1486.45 516.526,1467.55 \n",
       "  \"/>\n",
       "<polyline clip-path=\"url(#clip020)\" style=\"stroke:#000000; stroke-linecap:round; stroke-linejoin:round; stroke-width:4; stroke-opacity:1; fill:none\" points=\"\n",
       "  871.421,1486.45 871.421,1467.55 \n",
       "  \"/>\n",
       "<polyline clip-path=\"url(#clip020)\" style=\"stroke:#000000; stroke-linecap:round; stroke-linejoin:round; stroke-width:4; stroke-opacity:1; fill:none\" points=\"\n",
       "  1226.32,1486.45 1226.32,1467.55 \n",
       "  \"/>\n",
       "<polyline clip-path=\"url(#clip020)\" style=\"stroke:#000000; stroke-linecap:round; stroke-linejoin:round; stroke-width:4; stroke-opacity:1; fill:none\" points=\"\n",
       "  1581.21,1486.45 1581.21,1467.55 \n",
       "  \"/>\n",
       "<polyline clip-path=\"url(#clip020)\" style=\"stroke:#000000; stroke-linecap:round; stroke-linejoin:round; stroke-width:4; stroke-opacity:1; fill:none\" points=\"\n",
       "  1936.11,1486.45 1936.11,1467.55 \n",
       "  \"/>\n",
       "<polyline clip-path=\"url(#clip020)\" style=\"stroke:#000000; stroke-linecap:round; stroke-linejoin:round; stroke-width:4; stroke-opacity:1; fill:none\" points=\"\n",
       "  2291,1486.45 2291,1467.55 \n",
       "  \"/>\n",
       "<path clip-path=\"url(#clip020)\" d=\"M506.804 1514.29 L525.16 1514.29 L525.16 1518.22 L511.086 1518.22 L511.086 1526.7 Q512.105 1526.35 513.123 1526.19 Q514.142 1526 515.16 1526 Q520.947 1526 524.327 1529.17 Q527.706 1532.34 527.706 1537.76 Q527.706 1543.34 524.234 1546.44 Q520.762 1549.52 514.442 1549.52 Q512.267 1549.52 509.998 1549.15 Q507.753 1548.78 505.345 1548.04 L505.345 1543.34 Q507.429 1544.47 509.651 1545.03 Q511.873 1545.58 514.35 1545.58 Q518.354 1545.58 520.692 1543.48 Q523.03 1541.37 523.03 1537.76 Q523.03 1534.15 520.692 1532.04 Q518.354 1529.94 514.35 1529.94 Q512.475 1529.94 510.6 1530.35 Q508.748 1530.77 506.804 1531.65 L506.804 1514.29 Z\" fill=\"#000000\" fill-rule=\"evenodd\" fill-opacity=\"1\" /><path clip-path=\"url(#clip020)\" d=\"M846.109 1544.91 L853.748 1544.91 L853.748 1518.55 L845.438 1520.21 L845.438 1515.95 L853.702 1514.29 L858.378 1514.29 L858.378 1544.91 L866.016 1544.91 L866.016 1548.85 L846.109 1548.85 L846.109 1544.91 Z\" fill=\"#000000\" fill-rule=\"evenodd\" fill-opacity=\"1\" /><path clip-path=\"url(#clip020)\" d=\"M885.461 1517.37 Q881.85 1517.37 880.021 1520.93 Q878.215 1524.47 878.215 1531.6 Q878.215 1538.71 880.021 1542.27 Q881.85 1545.82 885.461 1545.82 Q889.095 1545.82 890.901 1542.27 Q892.729 1538.71 892.729 1531.6 Q892.729 1524.47 890.901 1520.93 Q889.095 1517.37 885.461 1517.37 M885.461 1513.66 Q891.271 1513.66 894.326 1518.27 Q897.405 1522.85 897.405 1531.6 Q897.405 1540.33 894.326 1544.94 Q891.271 1549.52 885.461 1549.52 Q879.651 1549.52 876.572 1544.94 Q873.516 1540.33 873.516 1531.6 Q873.516 1522.85 876.572 1518.27 Q879.651 1513.66 885.461 1513.66 Z\" fill=\"#000000\" fill-rule=\"evenodd\" fill-opacity=\"1\" /><path clip-path=\"url(#clip020)\" d=\"M1201.5 1544.91 L1209.14 1544.91 L1209.14 1518.55 L1200.83 1520.21 L1200.83 1515.95 L1209.09 1514.29 L1213.77 1514.29 L1213.77 1544.91 L1221.41 1544.91 L1221.41 1548.85 L1201.5 1548.85 L1201.5 1544.91 Z\" fill=\"#000000\" fill-rule=\"evenodd\" fill-opacity=\"1\" /><path clip-path=\"url(#clip020)\" d=\"M1230.9 1514.29 L1249.26 1514.29 L1249.26 1518.22 L1235.18 1518.22 L1235.18 1526.7 Q1236.2 1526.35 1237.22 1526.19 Q1238.24 1526 1239.26 1526 Q1245.04 1526 1248.42 1529.17 Q1251.8 1532.34 1251.8 1537.76 Q1251.8 1543.34 1248.33 1546.44 Q1244.86 1549.52 1238.54 1549.52 Q1236.36 1549.52 1234.09 1549.15 Q1231.85 1548.78 1229.44 1548.04 L1229.44 1543.34 Q1231.53 1544.47 1233.75 1545.03 Q1235.97 1545.58 1238.45 1545.58 Q1242.45 1545.58 1244.79 1543.48 Q1247.13 1541.37 1247.13 1537.76 Q1247.13 1534.15 1244.79 1532.04 Q1242.45 1529.94 1238.45 1529.94 Q1236.57 1529.94 1234.7 1530.35 Q1232.84 1530.77 1230.9 1531.65 L1230.9 1514.29 Z\" fill=\"#000000\" fill-rule=\"evenodd\" fill-opacity=\"1\" /><path clip-path=\"url(#clip020)\" d=\"M1559.99 1544.91 L1576.31 1544.91 L1576.31 1548.85 L1554.36 1548.85 L1554.36 1544.91 Q1557.02 1542.16 1561.61 1537.53 Q1566.21 1532.88 1567.39 1531.53 Q1569.64 1529.01 1570.52 1527.27 Q1571.42 1525.51 1571.42 1523.82 Q1571.42 1521.07 1569.48 1519.33 Q1567.56 1517.6 1564.45 1517.6 Q1562.25 1517.6 1559.8 1518.36 Q1557.37 1519.13 1554.59 1520.68 L1554.59 1515.95 Q1557.42 1514.82 1559.87 1514.24 Q1562.32 1513.66 1564.36 1513.66 Q1569.73 1513.66 1572.93 1516.35 Q1576.12 1519.03 1576.12 1523.52 Q1576.12 1525.65 1575.31 1527.57 Q1574.52 1529.47 1572.42 1532.07 Q1571.84 1532.74 1568.74 1535.95 Q1565.63 1539.15 1559.99 1544.91 Z\" fill=\"#000000\" fill-rule=\"evenodd\" fill-opacity=\"1\" /><path clip-path=\"url(#clip020)\" d=\"M1596.12 1517.37 Q1592.51 1517.37 1590.68 1520.93 Q1588.87 1524.47 1588.87 1531.6 Q1588.87 1538.71 1590.68 1542.27 Q1592.51 1545.82 1596.12 1545.82 Q1599.75 1545.82 1601.56 1542.27 Q1603.39 1538.71 1603.39 1531.6 Q1603.39 1524.47 1601.56 1520.93 Q1599.75 1517.37 1596.12 1517.37 M1596.12 1513.66 Q1601.93 1513.66 1604.99 1518.27 Q1608.06 1522.85 1608.06 1531.6 Q1608.06 1540.33 1604.99 1544.94 Q1601.93 1549.52 1596.12 1549.52 Q1590.31 1549.52 1587.23 1544.94 Q1584.18 1540.33 1584.18 1531.6 Q1584.18 1522.85 1587.23 1518.27 Q1590.31 1513.66 1596.12 1513.66 Z\" fill=\"#000000\" fill-rule=\"evenodd\" fill-opacity=\"1\" /><path clip-path=\"url(#clip020)\" d=\"M1915.38 1544.91 L1931.7 1544.91 L1931.7 1548.85 L1909.75 1548.85 L1909.75 1544.91 Q1912.42 1542.16 1917 1537.53 Q1921.61 1532.88 1922.79 1531.53 Q1925.03 1529.01 1925.91 1527.27 Q1926.81 1525.51 1926.81 1523.82 Q1926.81 1521.07 1924.87 1519.33 Q1922.95 1517.6 1919.85 1517.6 Q1917.65 1517.6 1915.19 1518.36 Q1912.76 1519.13 1909.99 1520.68 L1909.99 1515.95 Q1912.81 1514.82 1915.26 1514.24 Q1917.72 1513.66 1919.75 1513.66 Q1925.12 1513.66 1928.32 1516.35 Q1931.51 1519.03 1931.51 1523.52 Q1931.51 1525.65 1930.7 1527.57 Q1929.92 1529.47 1927.81 1532.07 Q1927.23 1532.74 1924.13 1535.95 Q1921.03 1539.15 1915.38 1544.91 Z\" fill=\"#000000\" fill-rule=\"evenodd\" fill-opacity=\"1\" /><path clip-path=\"url(#clip020)\" d=\"M1941.56 1514.29 L1959.92 1514.29 L1959.92 1518.22 L1945.84 1518.22 L1945.84 1526.7 Q1946.86 1526.35 1947.88 1526.19 Q1948.9 1526 1949.92 1526 Q1955.7 1526 1959.08 1529.17 Q1962.46 1532.34 1962.46 1537.76 Q1962.46 1543.34 1958.99 1546.44 Q1955.52 1549.52 1949.2 1549.52 Q1947.02 1549.52 1944.75 1549.15 Q1942.51 1548.78 1940.1 1548.04 L1940.1 1543.34 Q1942.18 1544.47 1944.41 1545.03 Q1946.63 1545.58 1949.11 1545.58 Q1953.11 1545.58 1955.45 1543.48 Q1957.79 1541.37 1957.79 1537.76 Q1957.79 1534.15 1955.45 1532.04 Q1953.11 1529.94 1949.11 1529.94 Q1947.23 1529.94 1945.36 1530.35 Q1943.5 1530.77 1941.56 1531.65 L1941.56 1514.29 Z\" fill=\"#000000\" fill-rule=\"evenodd\" fill-opacity=\"1\" /><path clip-path=\"url(#clip020)\" d=\"M2279.85 1530.21 Q2283.2 1530.93 2285.08 1533.2 Q2286.98 1535.47 2286.98 1538.8 Q2286.98 1543.92 2283.46 1546.72 Q2279.94 1549.52 2273.46 1549.52 Q2271.28 1549.52 2268.97 1549.08 Q2266.68 1548.66 2264.22 1547.81 L2264.22 1543.29 Q2266.17 1544.43 2268.48 1545.01 Q2270.8 1545.58 2273.32 1545.58 Q2277.72 1545.58 2280.01 1543.85 Q2282.32 1542.11 2282.32 1538.8 Q2282.32 1535.75 2280.17 1534.03 Q2278.04 1532.3 2274.22 1532.3 L2270.19 1532.3 L2270.19 1528.45 L2274.41 1528.45 Q2277.86 1528.45 2279.68 1527.09 Q2281.51 1525.7 2281.51 1523.11 Q2281.51 1520.45 2279.62 1519.03 Q2277.74 1517.6 2274.22 1517.6 Q2272.3 1517.6 2270.1 1518.01 Q2267.9 1518.43 2265.26 1519.31 L2265.26 1515.14 Q2267.93 1514.4 2270.24 1514.03 Q2272.58 1513.66 2274.64 1513.66 Q2279.96 1513.66 2283.06 1516.09 Q2286.17 1518.5 2286.17 1522.62 Q2286.17 1525.49 2284.52 1527.48 Q2282.88 1529.45 2279.85 1530.21 Z\" fill=\"#000000\" fill-rule=\"evenodd\" fill-opacity=\"1\" /><path clip-path=\"url(#clip020)\" d=\"M2305.84 1517.37 Q2302.23 1517.37 2300.4 1520.93 Q2298.6 1524.47 2298.6 1531.6 Q2298.6 1538.71 2300.4 1542.27 Q2302.23 1545.82 2305.84 1545.82 Q2309.48 1545.82 2311.28 1542.27 Q2313.11 1538.71 2313.11 1531.6 Q2313.11 1524.47 2311.28 1520.93 Q2309.48 1517.37 2305.84 1517.37 M2305.84 1513.66 Q2311.65 1513.66 2314.71 1518.27 Q2317.79 1522.85 2317.79 1531.6 Q2317.79 1540.33 2314.71 1544.94 Q2311.65 1549.52 2305.84 1549.52 Q2300.03 1549.52 2296.95 1544.94 Q2293.9 1540.33 2293.9 1531.6 Q2293.9 1522.85 2296.95 1518.27 Q2300.03 1513.66 2305.84 1513.66 Z\" fill=\"#000000\" fill-rule=\"evenodd\" fill-opacity=\"1\" /><polyline clip-path=\"url(#clip022)\" style=\"stroke:#000000; stroke-linecap:round; stroke-linejoin:round; stroke-width:2; stroke-opacity:0.1; fill:none\" points=\"\n",
       "  170.857,1225.75 2352.76,1225.75 \n",
       "  \"/>\n",
       "<polyline clip-path=\"url(#clip022)\" style=\"stroke:#000000; stroke-linecap:round; stroke-linejoin:round; stroke-width:2; stroke-opacity:0.1; fill:none\" points=\"\n",
       "  170.857,846.49 2352.76,846.49 \n",
       "  \"/>\n",
       "<polyline clip-path=\"url(#clip022)\" style=\"stroke:#000000; stroke-linecap:round; stroke-linejoin:round; stroke-width:2; stroke-opacity:0.1; fill:none\" points=\"\n",
       "  170.857,467.233 2352.76,467.233 \n",
       "  \"/>\n",
       "<polyline clip-path=\"url(#clip022)\" style=\"stroke:#000000; stroke-linecap:round; stroke-linejoin:round; stroke-width:2; stroke-opacity:0.1; fill:none\" points=\"\n",
       "  170.857,87.9763 2352.76,87.9763 \n",
       "  \"/>\n",
       "<polyline clip-path=\"url(#clip020)\" style=\"stroke:#000000; stroke-linecap:round; stroke-linejoin:round; stroke-width:4; stroke-opacity:1; fill:none\" points=\"\n",
       "  170.857,1486.45 170.857,47.2441 \n",
       "  \"/>\n",
       "<polyline clip-path=\"url(#clip020)\" style=\"stroke:#000000; stroke-linecap:round; stroke-linejoin:round; stroke-width:4; stroke-opacity:1; fill:none\" points=\"\n",
       "  170.857,1225.75 189.755,1225.75 \n",
       "  \"/>\n",
       "<polyline clip-path=\"url(#clip020)\" style=\"stroke:#000000; stroke-linecap:round; stroke-linejoin:round; stroke-width:4; stroke-opacity:1; fill:none\" points=\"\n",
       "  170.857,846.49 189.755,846.49 \n",
       "  \"/>\n",
       "<polyline clip-path=\"url(#clip020)\" style=\"stroke:#000000; stroke-linecap:round; stroke-linejoin:round; stroke-width:4; stroke-opacity:1; fill:none\" points=\"\n",
       "  170.857,467.233 189.755,467.233 \n",
       "  \"/>\n",
       "<polyline clip-path=\"url(#clip020)\" style=\"stroke:#000000; stroke-linecap:round; stroke-linejoin:round; stroke-width:4; stroke-opacity:1; fill:none\" points=\"\n",
       "  170.857,87.9763 189.755,87.9763 \n",
       "  \"/>\n",
       "<path clip-path=\"url(#clip020)\" d=\"M82.7975 1208.47 L101.154 1208.47 L101.154 1212.4 L87.0799 1212.4 L87.0799 1220.87 Q88.0984 1220.53 89.1169 1220.36 Q90.1354 1220.18 91.1539 1220.18 Q96.941 1220.18 100.321 1223.35 Q103.7 1226.52 103.7 1231.94 Q103.7 1237.52 100.228 1240.62 Q96.7558 1243.7 90.4364 1243.7 Q88.2604 1243.7 85.9919 1243.33 Q83.7466 1242.96 81.3392 1242.22 L81.3392 1237.52 Q83.4225 1238.65 85.6447 1239.21 Q87.8669 1239.76 90.3438 1239.76 Q94.3484 1239.76 96.6863 1237.66 Q99.0243 1235.55 99.0243 1231.94 Q99.0243 1228.33 96.6863 1226.22 Q94.3484 1224.11 90.3438 1224.11 Q88.4688 1224.11 86.5938 1224.53 Q84.7419 1224.95 82.7975 1225.83 L82.7975 1208.47 Z\" fill=\"#000000\" fill-rule=\"evenodd\" fill-opacity=\"1\" /><path clip-path=\"url(#clip020)\" d=\"M122.913 1211.55 Q119.302 1211.55 117.473 1215.11 Q115.668 1218.65 115.668 1225.78 Q115.668 1232.89 117.473 1236.45 Q119.302 1239.99 122.913 1239.99 Q126.547 1239.99 128.353 1236.45 Q130.182 1232.89 130.182 1225.78 Q130.182 1218.65 128.353 1215.11 Q126.547 1211.55 122.913 1211.55 M122.913 1207.84 Q128.723 1207.84 131.779 1212.45 Q134.857 1217.03 134.857 1225.78 Q134.857 1234.51 131.779 1239.11 Q128.723 1243.7 122.913 1243.7 Q117.103 1243.7 114.024 1239.11 Q110.969 1234.51 110.969 1225.78 Q110.969 1217.03 114.024 1212.45 Q117.103 1207.84 122.913 1207.84 Z\" fill=\"#000000\" fill-rule=\"evenodd\" fill-opacity=\"1\" /><path clip-path=\"url(#clip020)\" d=\"M53.3995 859.835 L61.0384 859.835 L61.0384 833.469 L52.7282 835.136 L52.7282 830.877 L60.9921 829.21 L65.668 829.21 L65.668 859.835 L73.3068 859.835 L73.3068 863.77 L53.3995 863.77 L53.3995 859.835 Z\" fill=\"#000000\" fill-rule=\"evenodd\" fill-opacity=\"1\" /><path clip-path=\"url(#clip020)\" d=\"M92.7512 832.289 Q89.1401 832.289 87.3114 835.853 Q85.5058 839.395 85.5058 846.525 Q85.5058 853.631 87.3114 857.196 Q89.1401 860.738 92.7512 860.738 Q96.3854 860.738 98.1909 857.196 Q100.02 853.631 100.02 846.525 Q100.02 839.395 98.1909 835.853 Q96.3854 832.289 92.7512 832.289 M92.7512 828.585 Q98.5613 828.585 101.617 833.191 Q104.696 837.775 104.696 846.525 Q104.696 855.251 101.617 859.858 Q98.5613 864.441 92.7512 864.441 Q86.941 864.441 83.8623 859.858 Q80.8068 855.251 80.8068 846.525 Q80.8068 837.775 83.8623 833.191 Q86.941 828.585 92.7512 828.585 Z\" fill=\"#000000\" fill-rule=\"evenodd\" fill-opacity=\"1\" /><path clip-path=\"url(#clip020)\" d=\"M122.913 832.289 Q119.302 832.289 117.473 835.853 Q115.668 839.395 115.668 846.525 Q115.668 853.631 117.473 857.196 Q119.302 860.738 122.913 860.738 Q126.547 860.738 128.353 857.196 Q130.182 853.631 130.182 846.525 Q130.182 839.395 128.353 835.853 Q126.547 832.289 122.913 832.289 M122.913 828.585 Q128.723 828.585 131.779 833.191 Q134.857 837.775 134.857 846.525 Q134.857 855.251 131.779 859.858 Q128.723 864.441 122.913 864.441 Q117.103 864.441 114.024 859.858 Q110.969 855.251 110.969 846.525 Q110.969 837.775 114.024 833.191 Q117.103 828.585 122.913 828.585 Z\" fill=\"#000000\" fill-rule=\"evenodd\" fill-opacity=\"1\" /><path clip-path=\"url(#clip020)\" d=\"M53.3995 480.578 L61.0384 480.578 L61.0384 454.212 L52.7282 455.879 L52.7282 451.62 L60.9921 449.953 L65.668 449.953 L65.668 480.578 L73.3068 480.578 L73.3068 484.513 L53.3995 484.513 L53.3995 480.578 Z\" fill=\"#000000\" fill-rule=\"evenodd\" fill-opacity=\"1\" /><path clip-path=\"url(#clip020)\" d=\"M82.7975 449.953 L101.154 449.953 L101.154 453.888 L87.0799 453.888 L87.0799 462.36 Q88.0984 462.013 89.1169 461.851 Q90.1354 461.666 91.1539 461.666 Q96.941 461.666 100.321 464.837 Q103.7 468.009 103.7 473.425 Q103.7 479.004 100.228 482.106 Q96.7558 485.184 90.4364 485.184 Q88.2604 485.184 85.9919 484.814 Q83.7466 484.444 81.3392 483.703 L81.3392 479.004 Q83.4225 480.138 85.6447 480.694 Q87.8669 481.249 90.3438 481.249 Q94.3484 481.249 96.6863 479.143 Q99.0243 477.036 99.0243 473.425 Q99.0243 469.814 96.6863 467.708 Q94.3484 465.601 90.3438 465.601 Q88.4688 465.601 86.5938 466.018 Q84.7419 466.434 82.7975 467.314 L82.7975 449.953 Z\" fill=\"#000000\" fill-rule=\"evenodd\" fill-opacity=\"1\" /><path clip-path=\"url(#clip020)\" d=\"M122.913 453.032 Q119.302 453.032 117.473 456.597 Q115.668 460.138 115.668 467.268 Q115.668 474.374 117.473 477.939 Q119.302 481.481 122.913 481.481 Q126.547 481.481 128.353 477.939 Q130.182 474.374 130.182 467.268 Q130.182 460.138 128.353 456.597 Q126.547 453.032 122.913 453.032 M122.913 449.328 Q128.723 449.328 131.779 453.935 Q134.857 458.518 134.857 467.268 Q134.857 475.995 131.779 480.601 Q128.723 485.184 122.913 485.184 Q117.103 485.184 114.024 480.601 Q110.969 475.995 110.969 467.268 Q110.969 458.518 114.024 453.935 Q117.103 449.328 122.913 449.328 Z\" fill=\"#000000\" fill-rule=\"evenodd\" fill-opacity=\"1\" /><path clip-path=\"url(#clip020)\" d=\"M56.6171 101.321 L72.9365 101.321 L72.9365 105.256 L50.9921 105.256 L50.9921 101.321 Q53.6541 98.5665 58.2375 93.9369 Q62.8439 89.2841 64.0245 87.9416 Q66.2698 85.4184 67.1494 83.6823 Q68.0522 81.9231 68.0522 80.2333 Q68.0522 77.4786 66.1078 75.7425 Q64.1865 74.0064 61.0847 74.0064 Q58.8856 74.0064 56.4319 74.7703 Q54.0014 75.5342 51.2236 77.0851 L51.2236 72.3629 Q54.0477 71.2287 56.5014 70.65 Q58.955 70.0713 60.9921 70.0713 Q66.3624 70.0713 69.5568 72.7565 Q72.7513 75.4416 72.7513 79.9323 Q72.7513 82.062 71.9411 83.9832 Q71.1541 85.8814 69.0476 88.474 Q68.4689 89.1453 65.367 92.3628 Q62.2652 95.5573 56.6171 101.321 Z\" fill=\"#000000\" fill-rule=\"evenodd\" fill-opacity=\"1\" /><path clip-path=\"url(#clip020)\" d=\"M92.7512 73.775 Q89.1401 73.775 87.3114 77.3398 Q85.5058 80.8814 85.5058 88.011 Q85.5058 95.1174 87.3114 98.6822 Q89.1401 102.224 92.7512 102.224 Q96.3854 102.224 98.1909 98.6822 Q100.02 95.1174 100.02 88.011 Q100.02 80.8814 98.1909 77.3398 Q96.3854 73.775 92.7512 73.775 M92.7512 70.0713 Q98.5613 70.0713 101.617 74.6777 Q104.696 79.261 104.696 88.011 Q104.696 96.7378 101.617 101.344 Q98.5613 105.928 92.7512 105.928 Q86.941 105.928 83.8623 101.344 Q80.8068 96.7378 80.8068 88.011 Q80.8068 79.261 83.8623 74.6777 Q86.941 70.0713 92.7512 70.0713 Z\" fill=\"#000000\" fill-rule=\"evenodd\" fill-opacity=\"1\" /><path clip-path=\"url(#clip020)\" d=\"M122.913 73.775 Q119.302 73.775 117.473 77.3398 Q115.668 80.8814 115.668 88.011 Q115.668 95.1174 117.473 98.6822 Q119.302 102.224 122.913 102.224 Q126.547 102.224 128.353 98.6822 Q130.182 95.1174 130.182 88.011 Q130.182 80.8814 128.353 77.3398 Q126.547 73.775 122.913 73.775 M122.913 70.0713 Q128.723 70.0713 131.779 74.6777 Q134.857 79.261 134.857 88.011 Q134.857 96.7378 131.779 101.344 Q128.723 105.928 122.913 105.928 Q117.103 105.928 114.024 101.344 Q110.969 96.7378 110.969 88.011 Q110.969 79.261 114.024 74.6777 Q117.103 70.0713 122.913 70.0713 Z\" fill=\"#000000\" fill-rule=\"evenodd\" fill-opacity=\"1\" /><polyline clip-path=\"url(#clip022)\" style=\"stroke:#009af9; stroke-linecap:round; stroke-linejoin:round; stroke-width:4; stroke-opacity:1; fill:none\" points=\"\n",
       "  232.609,846.49 303.588,1005.78 374.568,1149.9 445.547,87.9763 516.526,209.338 587.505,406.552 658.484,573.425 729.463,679.617 800.442,854.075 871.421,998.193 \n",
       "  942.401,1149.9 1013.38,1294.01 1084.36,1445.72 1155.34,87.9763 1226.32,209.338 1297.3,330.701 1368.28,527.914 1439.25,679.617 1510.23,846.49 1581.21,945.097 \n",
       "  1652.19,1066.46 1723.17,1202.99 1794.15,87.9763 1865.13,277.605 1936.11,429.307 2007.09,520.329 2078.07,679.617 2149.05,846.49 2220.02,967.852 2291,1119.55 \n",
       "  \n",
       "  \"/>\n",
       "<path clip-path=\"url(#clip020)\" d=\"\n",
       "M1985.16 198.898 L2280.03 198.898 L2280.03 95.2176 L1985.16 95.2176  Z\n",
       "  \" fill=\"#ffffff\" fill-rule=\"evenodd\" fill-opacity=\"1\"/>\n",
       "<polyline clip-path=\"url(#clip020)\" style=\"stroke:#000000; stroke-linecap:round; stroke-linejoin:round; stroke-width:4; stroke-opacity:1; fill:none\" points=\"\n",
       "  1985.16,198.898 2280.03,198.898 2280.03,95.2176 1985.16,95.2176 1985.16,198.898 \n",
       "  \"/>\n",
       "<polyline clip-path=\"url(#clip020)\" style=\"stroke:#009af9; stroke-linecap:round; stroke-linejoin:round; stroke-width:4; stroke-opacity:1; fill:none\" points=\"\n",
       "  2009.41,147.058 2154.87,147.058 \n",
       "  \"/>\n",
       "<path clip-path=\"url(#clip020)\" d=\"M2192.95 166.745 Q2191.15 171.375 2189.43 172.787 Q2187.72 174.199 2184.85 174.199 L2181.45 174.199 L2181.45 170.634 L2183.95 170.634 Q2185.71 170.634 2186.68 169.8 Q2187.65 168.967 2188.83 165.865 L2189.6 163.921 L2179.11 138.412 L2183.62 138.412 L2191.72 158.689 L2199.83 138.412 L2204.34 138.412 L2192.95 166.745 Z\" fill=\"#000000\" fill-rule=\"evenodd\" fill-opacity=\"1\" /><path clip-path=\"url(#clip020)\" d=\"M2211.63 160.402 L2219.27 160.402 L2219.27 134.037 L2210.96 135.703 L2210.96 131.444 L2219.22 129.778 L2223.9 129.778 L2223.9 160.402 L2231.54 160.402 L2231.54 164.338 L2211.63 164.338 L2211.63 160.402 Z\" fill=\"#000000\" fill-rule=\"evenodd\" fill-opacity=\"1\" /></svg>\n"
      ]
     },
     "metadata": {},
     "output_type": "display_data"
    }
   ],
   "source": [
    "Random.seed!(10)\n",
    "res = simulateOneRun(30,50,200)\n",
    "\n",
    "# using PyPlot\n",
    "# plot(res.warehouse_levels)\n",
    "# show()\n",
    "using Plots\n",
    "plot(res.warehouse_levels)"
   ]
  },
  {
   "cell_type": "code",
   "execution_count": 9,
   "metadata": {},
   "outputs": [
    {
     "data": {
      "text/html": [
       "<div class=\"data-frame\"><p>4 rows × 3 columns</p><table class=\"data-frame\"><thead><tr><th></th><th>profit</th><th>lost_orders</th><th>warehouse_levels</th></tr><tr><th></th><th title=\"Float64\">Float64</th><th title=\"Float64\">Float64</th><th title=\"Vector{Int64}\">Array…</th></tr></thead><tbody><tr><th>1</th><td>114.6</td><td>68.0</td><td>[100, 81, 62, 39, 12, 10, 0, 10, 10, 10]</td></tr><tr><th>2</th><td>186.5</td><td>88.0</td><td>[100, 77, 52, 28, 8, 10, 0, 0, 10, 10]</td></tr><tr><th>3</th><td>322.1</td><td>93.0</td><td>[100, 76, 52, 36, 20, 5, 0, 0, 10, 0]</td></tr><tr><th>4</th><td>49.6</td><td>55.0</td><td>[100, 70, 52, 30, 2, 10, 10, 10, 10, 10]</td></tr></tbody></table></div>"
      ],
      "text/latex": [
       "\\begin{tabular}{r|ccc}\n",
       "\t& profit & lost\\_orders & warehouse\\_levels\\\\\n",
       "\t\\hline\n",
       "\t& Float64 & Float64 & Array…\\\\\n",
       "\t\\hline\n",
       "\t1 & 114.6 & 68.0 & [100, 81, 62, 39, 12, 10, 0, 10, 10, 10] \\\\\n",
       "\t2 & 186.5 & 88.0 & [100, 77, 52, 28, 8, 10, 0, 0, 10, 10] \\\\\n",
       "\t3 & 322.1 & 93.0 & [100, 76, 52, 36, 20, 5, 0, 0, 10, 0] \\\\\n",
       "\t4 & 49.6 & 55.0 & [100, 70, 52, 30, 2, 10, 10, 10, 10, 10] \\\\\n",
       "\\end{tabular}\n"
      ],
      "text/plain": [
       "\u001b[1m4×3 DataFrame\u001b[0m\n",
       "\u001b[1m Row \u001b[0m│\u001b[1m profit  \u001b[0m\u001b[1m lost_orders \u001b[0m\u001b[1m warehouse_levels                  \u001b[0m\n",
       "\u001b[1m     \u001b[0m│\u001b[90m Float64 \u001b[0m\u001b[90m Float64     \u001b[0m\u001b[90m Vector{Int64}                     \u001b[0m\n",
       "─────┼─────────────────────────────────────────────────────────\n",
       "   1 │   114.6         68.0  [100, 81, 62, 39, 12, 10, 0, 10,…\n",
       "   2 │   186.5         88.0  [100, 77, 52, 28, 8, 10, 0, 0, 1…\n",
       "   3 │   322.1         93.0  [100, 76, 52, 36, 20, 5, 0, 0, 1…\n",
       "   4 │    49.6         55.0  [100, 70, 52, 30, 2, 10, 10, 10,…"
      ]
     },
     "metadata": {},
     "output_type": "display_data"
    }
   ],
   "source": [
    "res = DataFrame(simulateOneRun(10,5,10) for n in 1:4)"
   ]
  },
  {
   "cell_type": "code",
   "execution_count": 10,
   "metadata": {},
   "outputs": [
    {
     "data": {
      "text/plain": [
       "(m = 30, s = 50, S = 100, N = 100, profit_mean = 965.1360000000001, profit_std = 109.34252688619642, lost_mean = 40.29, lost_std = 39.1596821625343)"
      ]
     },
     "metadata": {},
     "output_type": "display_data"
    }
   ],
   "source": [
    "\n",
    "## srednie stockouty lost_mean\n",
    "## \n",
    "function run_sims(m,s,S,N=100)\n",
    "    df = DataFrame(simulateOneRun(m,s,S) for n in 1:N)\n",
    "    (\n",
    "        m=m,\n",
    "        s=s,\n",
    "        S=S,\n",
    "        N=N,\n",
    "        profit_mean = mean(df.profit),\n",
    "        profit_std = std(df.profit),\n",
    "        lost_mean = mean(df.lost_orders),\n",
    "        lost_std = std(df.lost_orders)\n",
    "    )\n",
    "end\n",
    "\n",
    "\n",
    "run_sims(30,50,100)"
   ]
  },
  {
   "cell_type": "code",
   "execution_count": 11,
   "metadata": {},
   "outputs": [
    {
     "data": {
      "text/html": [
       "<div class=\"data-frame\"><p>90 rows × 8 columns</p><table class=\"data-frame\"><thead><tr><th></th><th>m</th><th>s</th><th>S</th><th>N</th><th>profit_mean</th><th>profit_std</th><th>lost_mean</th><th>lost_std</th></tr><tr><th></th><th title=\"Int64\">Int64</th><th title=\"Int64\">Int64</th><th title=\"Int64\">Int64</th><th title=\"Int64\">Int64</th><th title=\"Float64\">Float64</th><th title=\"Float64\">Float64</th><th title=\"Float64\">Float64</th><th title=\"Float64\">Float64</th></tr></thead><tbody><tr><th>1</th><td>90</td><td>25</td><td>100</td><td>100</td><td>2971.25</td><td>187.955</td><td>216.66</td><td>86.947</td></tr><tr><th>2</th><td>90</td><td>25</td><td>200</td><td>100</td><td>3579.8</td><td>143.172</td><td>118.92</td><td>62.0491</td></tr><tr><th>3</th><td>90</td><td>25</td><td>300</td><td>100</td><td>3488.41</td><td>233.743</td><td>81.2</td><td>61.1899</td></tr><tr><th>4</th><td>90</td><td>25</td><td>400</td><td>100</td><td>3081.23</td><td>179.821</td><td>60.11</td><td>45.8938</td></tr><tr><th>5</th><td>90</td><td>25</td><td>500</td><td>100</td><td>2630.79</td><td>167.024</td><td>50.72</td><td>46.5774</td></tr><tr><th>6</th><td>90</td><td>25</td><td>600</td><td>100</td><td>2546.72</td><td>258.47</td><td>34.57</td><td>38.6717</td></tr><tr><th>7</th><td>90</td><td>25</td><td>700</td><td>100</td><td>1683.64</td><td>168.939</td><td>33.52</td><td>31.9461</td></tr><tr><th>8</th><td>90</td><td>25</td><td>800</td><td>100</td><td>1200.97</td><td>281.166</td><td>32.05</td><td>34.9673</td></tr><tr><th>9</th><td>90</td><td>25</td><td>900</td><td>100</td><td>1367.4</td><td>302.588</td><td>30.45</td><td>37.8336</td></tr><tr><th>10</th><td>90</td><td>25</td><td>1000</td><td>100</td><td>419.791</td><td>221.17</td><td>24.22</td><td>28.7952</td></tr><tr><th>11</th><td>90</td><td>50</td><td>100</td><td>100</td><td>2661.4</td><td>141.737</td><td>118.74</td><td>73.5476</td></tr><tr><th>12</th><td>90</td><td>50</td><td>200</td><td>100</td><td>3534.32</td><td>159.418</td><td>49.21</td><td>49.326</td></tr><tr><th>13</th><td>90</td><td>50</td><td>300</td><td>100</td><td>3394.56</td><td>188.263</td><td>44.28</td><td>55.6025</td></tr><tr><th>14</th><td>90</td><td>50</td><td>400</td><td>100</td><td>3061.3</td><td>190.877</td><td>37.86</td><td>48.1783</td></tr><tr><th>15</th><td>90</td><td>50</td><td>500</td><td>100</td><td>2721.59</td><td>214.694</td><td>21.04</td><td>31.8712</td></tr><tr><th>16</th><td>90</td><td>50</td><td>600</td><td>100</td><td>2407.25</td><td>282.075</td><td>16.11</td><td>27.8252</td></tr><tr><th>17</th><td>90</td><td>50</td><td>700</td><td>100</td><td>1642.6</td><td>171.263</td><td>20.11</td><td>29.2675</td></tr><tr><th>18</th><td>90</td><td>50</td><td>800</td><td>100</td><td>1014.09</td><td>189.31</td><td>18.19</td><td>32.8248</td></tr><tr><th>19</th><td>90</td><td>50</td><td>900</td><td>100</td><td>1231.52</td><td>324.828</td><td>13.63</td><td>25.3559</td></tr><tr><th>20</th><td>90</td><td>50</td><td>1000</td><td>100</td><td>435.771</td><td>259.244</td><td>9.96</td><td>26.4987</td></tr><tr><th>21</th><td>90</td><td>75</td><td>100</td><td>100</td><td>1855.16</td><td>251.112</td><td>74.03</td><td>56.1464</td></tr><tr><th>22</th><td>90</td><td>75</td><td>200</td><td>100</td><td>3346.44</td><td>164.152</td><td>24.44</td><td>32.9295</td></tr><tr><th>23</th><td>90</td><td>75</td><td>300</td><td>100</td><td>3300.2</td><td>171.811</td><td>14.97</td><td>26.3579</td></tr><tr><th>24</th><td>90</td><td>75</td><td>400</td><td>100</td><td>3035.65</td><td>209.696</td><td>6.17</td><td>14.5914</td></tr><tr><th>&vellip;</th><td>&vellip;</td><td>&vellip;</td><td>&vellip;</td><td>&vellip;</td><td>&vellip;</td><td>&vellip;</td><td>&vellip;</td><td>&vellip;</td></tr></tbody></table></div>"
      ],
      "text/latex": [
       "\\begin{tabular}{r|cccccccc}\n",
       "\t& m & s & S & N & profit\\_mean & profit\\_std & lost\\_mean & lost\\_std\\\\\n",
       "\t\\hline\n",
       "\t& Int64 & Int64 & Int64 & Int64 & Float64 & Float64 & Float64 & Float64\\\\\n",
       "\t\\hline\n",
       "\t1 & 90 & 25 & 100 & 100 & 2971.25 & 187.955 & 216.66 & 86.947 \\\\\n",
       "\t2 & 90 & 25 & 200 & 100 & 3579.8 & 143.172 & 118.92 & 62.0491 \\\\\n",
       "\t3 & 90 & 25 & 300 & 100 & 3488.41 & 233.743 & 81.2 & 61.1899 \\\\\n",
       "\t4 & 90 & 25 & 400 & 100 & 3081.23 & 179.821 & 60.11 & 45.8938 \\\\\n",
       "\t5 & 90 & 25 & 500 & 100 & 2630.79 & 167.024 & 50.72 & 46.5774 \\\\\n",
       "\t6 & 90 & 25 & 600 & 100 & 2546.72 & 258.47 & 34.57 & 38.6717 \\\\\n",
       "\t7 & 90 & 25 & 700 & 100 & 1683.64 & 168.939 & 33.52 & 31.9461 \\\\\n",
       "\t8 & 90 & 25 & 800 & 100 & 1200.97 & 281.166 & 32.05 & 34.9673 \\\\\n",
       "\t9 & 90 & 25 & 900 & 100 & 1367.4 & 302.588 & 30.45 & 37.8336 \\\\\n",
       "\t10 & 90 & 25 & 1000 & 100 & 419.791 & 221.17 & 24.22 & 28.7952 \\\\\n",
       "\t11 & 90 & 50 & 100 & 100 & 2661.4 & 141.737 & 118.74 & 73.5476 \\\\\n",
       "\t12 & 90 & 50 & 200 & 100 & 3534.32 & 159.418 & 49.21 & 49.326 \\\\\n",
       "\t13 & 90 & 50 & 300 & 100 & 3394.56 & 188.263 & 44.28 & 55.6025 \\\\\n",
       "\t14 & 90 & 50 & 400 & 100 & 3061.3 & 190.877 & 37.86 & 48.1783 \\\\\n",
       "\t15 & 90 & 50 & 500 & 100 & 2721.59 & 214.694 & 21.04 & 31.8712 \\\\\n",
       "\t16 & 90 & 50 & 600 & 100 & 2407.25 & 282.075 & 16.11 & 27.8252 \\\\\n",
       "\t17 & 90 & 50 & 700 & 100 & 1642.6 & 171.263 & 20.11 & 29.2675 \\\\\n",
       "\t18 & 90 & 50 & 800 & 100 & 1014.09 & 189.31 & 18.19 & 32.8248 \\\\\n",
       "\t19 & 90 & 50 & 900 & 100 & 1231.52 & 324.828 & 13.63 & 25.3559 \\\\\n",
       "\t20 & 90 & 50 & 1000 & 100 & 435.771 & 259.244 & 9.96 & 26.4987 \\\\\n",
       "\t21 & 90 & 75 & 100 & 100 & 1855.16 & 251.112 & 74.03 & 56.1464 \\\\\n",
       "\t22 & 90 & 75 & 200 & 100 & 3346.44 & 164.152 & 24.44 & 32.9295 \\\\\n",
       "\t23 & 90 & 75 & 300 & 100 & 3300.2 & 171.811 & 14.97 & 26.3579 \\\\\n",
       "\t24 & 90 & 75 & 400 & 100 & 3035.65 & 209.696 & 6.17 & 14.5914 \\\\\n",
       "\t$\\dots$ & $\\dots$ & $\\dots$ & $\\dots$ & $\\dots$ & $\\dots$ & $\\dots$ & $\\dots$ & $\\dots$ \\\\\n",
       "\\end{tabular}\n"
      ],
      "text/plain": [
       "\u001b[1m90×8 DataFrame\u001b[0m\n",
       "\u001b[1m Row \u001b[0m│\u001b[1m m     \u001b[0m\u001b[1m s     \u001b[0m\u001b[1m S     \u001b[0m\u001b[1m N     \u001b[0m\u001b[1m profit_mean \u001b[0m\u001b[1m profit_std \u001b[0m\u001b[1m lost_mean \u001b[0m\u001b[1m lost_st\u001b[0m ⋯\n",
       "\u001b[1m     \u001b[0m│\u001b[90m Int64 \u001b[0m\u001b[90m Int64 \u001b[0m\u001b[90m Int64 \u001b[0m\u001b[90m Int64 \u001b[0m\u001b[90m Float64     \u001b[0m\u001b[90m Float64    \u001b[0m\u001b[90m Float64   \u001b[0m\u001b[90m Float64\u001b[0m ⋯\n",
       "─────┼──────────────────────────────────────────────────────────────────────────\n",
       "   1 │    90     25    100    100     2971.25      187.955     216.66  86.947  ⋯\n",
       "   2 │    90     25    200    100     3579.8       143.172     118.92  62.0491\n",
       "   3 │    90     25    300    100     3488.41      233.743      81.2   61.1899\n",
       "   4 │    90     25    400    100     3081.23      179.821      60.11  45.8938\n",
       "   5 │    90     25    500    100     2630.79      167.024      50.72  46.5774 ⋯\n",
       "   6 │    90     25    600    100     2546.72      258.47       34.57  38.6717\n",
       "   7 │    90     25    700    100     1683.64      168.939      33.52  31.9461\n",
       "   8 │    90     25    800    100     1200.97      281.166      32.05  34.9673\n",
       "  ⋮  │   ⋮      ⋮      ⋮      ⋮         ⋮           ⋮           ⋮         ⋮    ⋱\n",
       "  84 │    90    250    400    100     1651.14      172.608       0.1    1.0    ⋯\n",
       "  85 │    90    250    500    100     1488.85      226.597       0.21   1.6714\n",
       "  86 │    90    250    600    100     1213.38      196.798       2.18  13.8326\n",
       "  87 │    90    250    700    100      799.033     176.642       1.76  15.1158\n",
       "  88 │    90    250    800    100      168.525     342.23        0.03   0.3    ⋯\n",
       "  89 │    90    250    900    100     -275.165     195.892       0.96   7.1264\n",
       "  90 │    90    250   1000    100    -1019.13      171.746       0.0    0.0\n",
       "\u001b[36m                                                    1 column and 75 rows omitted\u001b[0m"
      ]
     },
     "metadata": {},
     "output_type": "display_data"
    }
   ],
   "source": [
    "using Random\n",
    "Random.seed!(0)\n",
    "df = DataFrame(run_sims(90,s,S,100) \n",
    "    for S in 100:100:1000, s in 25:25:250 if S > s )"
   ]
  },
  {
   "cell_type": "code",
   "execution_count": 12,
   "metadata": {},
   "outputs": [
    {
     "data": {
      "text/plain": [
       "2"
      ]
     },
     "metadata": {},
     "output_type": "display_data"
    }
   ],
   "source": [
    "best_row = argmax(df.profit_mean)"
   ]
  },
  {
   "cell_type": "code",
   "execution_count": 13,
   "metadata": {},
   "outputs": [
    {
     "data": {
      "text/html": [
       "<p>DataFrameRow (8 columns)</p><div class=\"data-frame\"><table class=\"data-frame\"><thead><tr><th></th><th>m</th><th>s</th><th>S</th><th>N</th><th>profit_mean</th><th>profit_std</th><th>lost_mean</th><th>lost_std</th></tr><tr><th></th><th title=\"Int64\">Int64</th><th title=\"Int64\">Int64</th><th title=\"Int64\">Int64</th><th title=\"Int64\">Int64</th><th title=\"Float64\">Float64</th><th title=\"Float64\">Float64</th><th title=\"Float64\">Float64</th><th title=\"Float64\">Float64</th></tr></thead><tbody><tr><th>2</th><td>90</td><td>25</td><td>200</td><td>100</td><td>3579.8</td><td>143.172</td><td>118.92</td><td>62.0491</td></tr></tbody></table></div>"
      ],
      "text/latex": [
       "\\begin{tabular}{r|cccccccc}\n",
       "\t& m & s & S & N & profit\\_mean & profit\\_std & lost\\_mean & lost\\_std\\\\\n",
       "\t\\hline\n",
       "\t& Int64 & Int64 & Int64 & Int64 & Float64 & Float64 & Float64 & Float64\\\\\n",
       "\t\\hline\n",
       "\t2 & 90 & 25 & 200 & 100 & 3579.8 & 143.172 & 118.92 & 62.0491 \\\\\n",
       "\\end{tabular}\n"
      ],
      "text/plain": [
       "\u001b[1mDataFrameRow\u001b[0m\n",
       "\u001b[1m Row \u001b[0m│\u001b[1m m     \u001b[0m\u001b[1m s     \u001b[0m\u001b[1m S     \u001b[0m\u001b[1m N     \u001b[0m\u001b[1m profit_mean \u001b[0m\u001b[1m profit_std \u001b[0m\u001b[1m lost_mean \u001b[0m\u001b[1m lost_st\u001b[0m ⋯\n",
       "\u001b[1m     \u001b[0m│\u001b[90m Int64 \u001b[0m\u001b[90m Int64 \u001b[0m\u001b[90m Int64 \u001b[0m\u001b[90m Int64 \u001b[0m\u001b[90m Float64     \u001b[0m\u001b[90m Float64    \u001b[0m\u001b[90m Float64   \u001b[0m\u001b[90m Float64\u001b[0m ⋯\n",
       "─────┼──────────────────────────────────────────────────────────────────────────\n",
       "   2 │    90     25    200    100       3579.8     143.172     118.92   62.049 ⋯\n",
       "\u001b[36m                                                                1 column omitted\u001b[0m"
      ]
     },
     "metadata": {},
     "output_type": "display_data"
    }
   ],
   "source": [
    "df[best_row,:]"
   ]
  },
  {
   "cell_type": "code",
   "execution_count": 14,
   "metadata": {},
   "outputs": [
    {
     "data": {
      "text/plain": [
       "1×4 adjoint(::Vector{Int64}) with eltype Int64:\n",
       " 66  74  82  90"
      ]
     },
     "metadata": {},
     "output_type": "display_data"
    }
   ],
   "source": [
    "findall(<=(-500), df.profit_mean)'\n"
   ]
  },
  {
   "cell_type": "code",
   "execution_count": 15,
   "metadata": {},
   "outputs": [
    {
     "data": {
      "text/html": [
       "<p>DataFrameRow (8 columns)</p><div class=\"data-frame\"><table class=\"data-frame\"><thead><tr><th></th><th>m</th><th>s</th><th>S</th><th>N</th><th>profit_mean</th><th>profit_std</th><th>lost_mean</th><th>lost_std</th></tr><tr><th></th><th title=\"Int64\">Int64</th><th title=\"Int64\">Int64</th><th title=\"Int64\">Int64</th><th title=\"Int64\">Int64</th><th title=\"Float64\">Float64</th><th title=\"Float64\">Float64</th><th title=\"Float64\">Float64</th><th title=\"Float64\">Float64</th></tr></thead><tbody><tr><th>66</th><td>90</td><td>175</td><td>1000</td><td>100</td><td>-507.847</td><td>446.965</td><td>1.49</td><td>9.63002</td></tr></tbody></table></div>"
      ],
      "text/latex": [
       "\\begin{tabular}{r|cccccccc}\n",
       "\t& m & s & S & N & profit\\_mean & profit\\_std & lost\\_mean & lost\\_std\\\\\n",
       "\t\\hline\n",
       "\t& Int64 & Int64 & Int64 & Int64 & Float64 & Float64 & Float64 & Float64\\\\\n",
       "\t\\hline\n",
       "\t66 & 90 & 175 & 1000 & 100 & -507.847 & 446.965 & 1.49 & 9.63002 \\\\\n",
       "\\end{tabular}\n"
      ],
      "text/plain": [
       "\u001b[1mDataFrameRow\u001b[0m\n",
       "\u001b[1m Row \u001b[0m│\u001b[1m m     \u001b[0m\u001b[1m s     \u001b[0m\u001b[1m S     \u001b[0m\u001b[1m N     \u001b[0m\u001b[1m profit_mean \u001b[0m\u001b[1m profit_std \u001b[0m\u001b[1m lost_mean \u001b[0m\u001b[1m lost_st\u001b[0m ⋯\n",
       "\u001b[1m     \u001b[0m│\u001b[90m Int64 \u001b[0m\u001b[90m Int64 \u001b[0m\u001b[90m Int64 \u001b[0m\u001b[90m Int64 \u001b[0m\u001b[90m Float64     \u001b[0m\u001b[90m Float64    \u001b[0m\u001b[90m Float64   \u001b[0m\u001b[90m Float64\u001b[0m ⋯\n",
       "─────┼──────────────────────────────────────────────────────────────────────────\n",
       "  66 │    90    175   1000    100     -507.847     446.965       1.49   9.6300 ⋯\n",
       "\u001b[36m                                                                1 column omitted\u001b[0m"
      ]
     },
     "metadata": {},
     "output_type": "display_data"
    }
   ],
   "source": [
    "df[66,:]"
   ]
  },
  {
   "cell_type": "code",
   "execution_count": 16,
   "metadata": {},
   "outputs": [
    {
     "data": {
      "text/html": [
       "<div class=\"data-frame\"><p>4 rows × 8 columns</p><table class=\"data-frame\"><thead><tr><th></th><th>m</th><th>s</th><th>S</th><th>N</th><th>profit_mean</th><th>profit_std</th><th>lost_mean</th><th>lost_std</th></tr><tr><th></th><th title=\"Int64\">Int64</th><th title=\"Int64\">Int64</th><th title=\"Int64\">Int64</th><th title=\"Int64\">Int64</th><th title=\"Float64\">Float64</th><th title=\"Float64\">Float64</th><th title=\"Float64\">Float64</th><th title=\"Float64\">Float64</th></tr></thead><tbody><tr><th>1</th><td>90</td><td>175</td><td>1000</td><td>100</td><td>-507.847</td><td>446.965</td><td>1.49</td><td>9.63002</td></tr><tr><th>2</th><td>90</td><td>200</td><td>1000</td><td>100</td><td>-772.374</td><td>332.434</td><td>0.52</td><td>5.2</td></tr><tr><th>3</th><td>90</td><td>225</td><td>1000</td><td>100</td><td>-954.18</td><td>197.85</td><td>1.32</td><td>7.08517</td></tr><tr><th>4</th><td>90</td><td>250</td><td>1000</td><td>100</td><td>-1019.13</td><td>171.746</td><td>0.0</td><td>0.0</td></tr></tbody></table></div>"
      ],
      "text/latex": [
       "\\begin{tabular}{r|cccccccc}\n",
       "\t& m & s & S & N & profit\\_mean & profit\\_std & lost\\_mean & lost\\_std\\\\\n",
       "\t\\hline\n",
       "\t& Int64 & Int64 & Int64 & Int64 & Float64 & Float64 & Float64 & Float64\\\\\n",
       "\t\\hline\n",
       "\t1 & 90 & 175 & 1000 & 100 & -507.847 & 446.965 & 1.49 & 9.63002 \\\\\n",
       "\t2 & 90 & 200 & 1000 & 100 & -772.374 & 332.434 & 0.52 & 5.2 \\\\\n",
       "\t3 & 90 & 225 & 1000 & 100 & -954.18 & 197.85 & 1.32 & 7.08517 \\\\\n",
       "\t4 & 90 & 250 & 1000 & 100 & -1019.13 & 171.746 & 0.0 & 0.0 \\\\\n",
       "\\end{tabular}\n"
      ],
      "text/plain": [
       "\u001b[1m4×8 DataFrame\u001b[0m\n",
       "\u001b[1m Row \u001b[0m│\u001b[1m m     \u001b[0m\u001b[1m s     \u001b[0m\u001b[1m S     \u001b[0m\u001b[1m N     \u001b[0m\u001b[1m profit_mean \u001b[0m\u001b[1m profit_std \u001b[0m\u001b[1m lost_mean \u001b[0m\u001b[1m lost_st\u001b[0m ⋯\n",
       "\u001b[1m     \u001b[0m│\u001b[90m Int64 \u001b[0m\u001b[90m Int64 \u001b[0m\u001b[90m Int64 \u001b[0m\u001b[90m Int64 \u001b[0m\u001b[90m Float64     \u001b[0m\u001b[90m Float64    \u001b[0m\u001b[90m Float64   \u001b[0m\u001b[90m Float64\u001b[0m ⋯\n",
       "─────┼──────────────────────────────────────────────────────────────────────────\n",
       "   1 │    90    175   1000    100     -507.847     446.965       1.49   9.6300 ⋯\n",
       "   2 │    90    200   1000    100     -772.374     332.434       0.52   5.2\n",
       "   3 │    90    225   1000    100     -954.18      197.85        1.32   7.0851\n",
       "   4 │    90    250   1000    100    -1019.13      171.746       0.0    0.0\n",
       "\u001b[36m                                                                1 column omitted\u001b[0m"
      ]
     },
     "metadata": {},
     "output_type": "display_data"
    }
   ],
   "source": [
    "df[[66, 74,82,90],:]"
   ]
  },
  {
   "cell_type": "code",
   "execution_count": 17,
   "metadata": {},
   "outputs": [
    {
     "data": {
      "text/html": [
       "<div class=\"data-frame\"><p>4 rows × 8 columns</p><table class=\"data-frame\"><thead><tr><th></th><th>m</th><th>s</th><th>S</th><th>N</th><th>profit_mean</th><th>profit_std</th><th>lost_mean</th><th>lost_std</th></tr><tr><th></th><th title=\"Int64\">Int64</th><th title=\"Int64\">Int64</th><th title=\"Int64\">Int64</th><th title=\"Int64\">Int64</th><th title=\"Float64\">Float64</th><th title=\"Float64\">Float64</th><th title=\"Float64\">Float64</th><th title=\"Float64\">Float64</th></tr></thead><tbody><tr><th>1</th><td>90</td><td>175</td><td>1000</td><td>100</td><td>-507.847</td><td>446.965</td><td>1.49</td><td>9.63002</td></tr><tr><th>2</th><td>90</td><td>200</td><td>1000</td><td>100</td><td>-772.374</td><td>332.434</td><td>0.52</td><td>5.2</td></tr><tr><th>3</th><td>90</td><td>225</td><td>1000</td><td>100</td><td>-954.18</td><td>197.85</td><td>1.32</td><td>7.08517</td></tr><tr><th>4</th><td>90</td><td>250</td><td>1000</td><td>100</td><td>-1019.13</td><td>171.746</td><td>0.0</td><td>0.0</td></tr></tbody></table></div>"
      ],
      "text/latex": [
       "\\begin{tabular}{r|cccccccc}\n",
       "\t& m & s & S & N & profit\\_mean & profit\\_std & lost\\_mean & lost\\_std\\\\\n",
       "\t\\hline\n",
       "\t& Int64 & Int64 & Int64 & Int64 & Float64 & Float64 & Float64 & Float64\\\\\n",
       "\t\\hline\n",
       "\t1 & 90 & 175 & 1000 & 100 & -507.847 & 446.965 & 1.49 & 9.63002 \\\\\n",
       "\t2 & 90 & 200 & 1000 & 100 & -772.374 & 332.434 & 0.52 & 5.2 \\\\\n",
       "\t3 & 90 & 225 & 1000 & 100 & -954.18 & 197.85 & 1.32 & 7.08517 \\\\\n",
       "\t4 & 90 & 250 & 1000 & 100 & -1019.13 & 171.746 & 0.0 & 0.0 \\\\\n",
       "\\end{tabular}\n"
      ],
      "text/plain": [
       "\u001b[1m4×8 DataFrame\u001b[0m\n",
       "\u001b[1m Row \u001b[0m│\u001b[1m m     \u001b[0m\u001b[1m s     \u001b[0m\u001b[1m S     \u001b[0m\u001b[1m N     \u001b[0m\u001b[1m profit_mean \u001b[0m\u001b[1m profit_std \u001b[0m\u001b[1m lost_mean \u001b[0m\u001b[1m lost_st\u001b[0m ⋯\n",
       "\u001b[1m     \u001b[0m│\u001b[90m Int64 \u001b[0m\u001b[90m Int64 \u001b[0m\u001b[90m Int64 \u001b[0m\u001b[90m Int64 \u001b[0m\u001b[90m Float64     \u001b[0m\u001b[90m Float64    \u001b[0m\u001b[90m Float64   \u001b[0m\u001b[90m Float64\u001b[0m ⋯\n",
       "─────┼──────────────────────────────────────────────────────────────────────────\n",
       "   1 │    90    175   1000    100     -507.847     446.965       1.49   9.6300 ⋯\n",
       "   2 │    90    200   1000    100     -772.374     332.434       0.52   5.2\n",
       "   3 │    90    225   1000    100     -954.18      197.85        1.32   7.0851\n",
       "   4 │    90    250   1000    100    -1019.13      171.746       0.0    0.0\n",
       "\u001b[36m                                                                1 column omitted\u001b[0m"
      ]
     },
     "metadata": {},
     "output_type": "display_data"
    }
   ],
   "source": [
    "df[findall(<=(-500), df.profit_mean),:]"
   ]
  },
  {
   "cell_type": "code",
   "execution_count": 18,
   "metadata": {},
   "outputs": [
    {
     "data": {
      "text/plain": [
       "1×86 adjoint(::Vector{Int64}) with eltype Int64:\n",
       " 1  2  3  4  5  6  7  8  9  10  11  12  …  80  81  83  84  85  86  87  88  89"
      ]
     },
     "metadata": {},
     "output_type": "display_data"
    }
   ],
   "source": [
    "more500 = findall(>(-500), df.profit_mean)'"
   ]
  },
  {
   "cell_type": "code",
   "execution_count": 19,
   "metadata": {},
   "outputs": [
    {
     "data": {
      "application/vnd.vegalite.v4+json": {
       "data": {
        "values": [
         {
          "N": 100,
          "S": 100,
          "lost_mean": 216.66,
          "lost_std": 86.9470081269173,
          "m": 90,
          "profit_mean": 2971.249,
          "profit_std": 187.95520554621308,
          "s": 25
         },
         {
          "N": 100,
          "S": 200,
          "lost_mean": 118.92,
          "lost_std": 62.04913009426116,
          "m": 90,
          "profit_mean": 3579.7960000000003,
          "profit_std": 143.17221100493074,
          "s": 25
         },
         {
          "N": 100,
          "S": 300,
          "lost_mean": 81.2,
          "lost_std": 61.18988495006359,
          "m": 90,
          "profit_mean": 3488.4050000000007,
          "profit_std": 233.74275784168026,
          "s": 25
         },
         {
          "N": 100,
          "S": 400,
          "lost_mean": 60.11,
          "lost_std": 45.893793731073295,
          "m": 90,
          "profit_mean": 3081.231,
          "profit_std": 179.82085119429956,
          "s": 25
         },
         {
          "N": 100,
          "S": 500,
          "lost_mean": 50.72,
          "lost_std": 46.57742115678112,
          "m": 90,
          "profit_mean": 2630.7940000000003,
          "profit_std": 167.02355959141173,
          "s": 25
         },
         {
          "N": 100,
          "S": 600,
          "lost_mean": 34.57,
          "lost_std": 38.67169638133426,
          "m": 90,
          "profit_mean": 2546.72,
          "profit_std": 258.4702663477147,
          "s": 25
         },
         {
          "N": 100,
          "S": 700,
          "lost_mean": 33.52,
          "lost_std": 31.946128897178628,
          "m": 90,
          "profit_mean": 1683.641,
          "profit_std": 168.93935442559678,
          "s": 25
         },
         {
          "N": 100,
          "S": 800,
          "lost_mean": 32.05,
          "lost_std": 34.9673368511908,
          "m": 90,
          "profit_mean": 1200.9729999999995,
          "profit_std": 281.1663826245624,
          "s": 25
         },
         {
          "N": 100,
          "S": 900,
          "lost_mean": 30.45,
          "lost_std": 37.83360031944242,
          "m": 90,
          "profit_mean": 1367.398,
          "profit_std": 302.58799637711195,
          "s": 25
         },
         {
          "N": 100,
          "S": 1000,
          "lost_mean": 24.22,
          "lost_std": 28.795194604711952,
          "m": 90,
          "profit_mean": 419.79099999999994,
          "profit_std": 221.17033158800362,
          "s": 25
         },
         {
          "N": 100,
          "S": 100,
          "lost_mean": 118.74,
          "lost_std": 73.54756861028683,
          "m": 90,
          "profit_mean": 2661.4039999999995,
          "profit_std": 141.7369971019379,
          "s": 50
         },
         {
          "N": 100,
          "S": 200,
          "lost_mean": 49.21,
          "lost_std": 49.32602218552054,
          "m": 90,
          "profit_mean": 3534.3150000000005,
          "profit_std": 159.41803592055612,
          "s": 50
         },
         {
          "N": 100,
          "S": 300,
          "lost_mean": 44.28,
          "lost_std": 55.60249976213282,
          "m": 90,
          "profit_mean": 3394.5560000000005,
          "profit_std": 188.26334141625162,
          "s": 50
         },
         {
          "N": 100,
          "S": 400,
          "lost_mean": 37.86,
          "lost_std": 48.17833454149198,
          "m": 90,
          "profit_mean": 3061.301,
          "profit_std": 190.8767143996355,
          "s": 50
         },
         {
          "N": 100,
          "S": 500,
          "lost_mean": 21.04,
          "lost_std": 31.871243490271315,
          "m": 90,
          "profit_mean": 2721.5890000000004,
          "profit_std": 214.69375882823894,
          "s": 50
         },
         {
          "N": 100,
          "S": 600,
          "lost_mean": 16.11,
          "lost_std": 27.825173908356856,
          "m": 90,
          "profit_mean": 2407.2490000000003,
          "profit_std": 282.0750023817901,
          "s": 50
         },
         {
          "N": 100,
          "S": 700,
          "lost_mean": 20.11,
          "lost_std": 29.26745184285331,
          "m": 90,
          "profit_mean": 1642.6039999999996,
          "profit_std": 171.262618893625,
          "s": 50
         },
         {
          "N": 100,
          "S": 800,
          "lost_mean": 18.19,
          "lost_std": 32.82481661576475,
          "m": 90,
          "profit_mean": 1014.0949999999997,
          "profit_std": 189.3099048538073,
          "s": 50
         },
         {
          "N": 100,
          "S": 900,
          "lost_mean": 13.63,
          "lost_std": 25.355912983608448,
          "m": 90,
          "profit_mean": 1231.521,
          "profit_std": 324.8279520660658,
          "s": 50
         },
         {
          "N": 100,
          "S": 1000,
          "lost_mean": 9.96,
          "lost_std": 26.49868302425994,
          "m": 90,
          "profit_mean": 435.7709999999998,
          "profit_std": 259.2438944840799,
          "s": 50
         },
         {
          "N": 100,
          "S": 100,
          "lost_mean": 74.03,
          "lost_std": 56.146355467859465,
          "m": 90,
          "profit_mean": 1855.157,
          "profit_std": 251.1118521172137,
          "s": 75
         },
         {
          "N": 100,
          "S": 200,
          "lost_mean": 24.44,
          "lost_std": 32.929468550067725,
          "m": 90,
          "profit_mean": 3346.4440000000004,
          "profit_std": 164.15197769694447,
          "s": 75
         },
         {
          "N": 100,
          "S": 300,
          "lost_mean": 14.97,
          "lost_std": 26.357853946147905,
          "m": 90,
          "profit_mean": 3300.2020000000007,
          "profit_std": 171.81134943285713,
          "s": 75
         },
         {
          "N": 100,
          "S": 400,
          "lost_mean": 6.17,
          "lost_std": 14.591442766916574,
          "m": 90,
          "profit_mean": 3035.6479999999997,
          "profit_std": 209.69590559723002,
          "s": 75
         },
         {
          "N": 100,
          "S": 500,
          "lost_mean": 7.34,
          "lost_std": 24.491276533954412,
          "m": 90,
          "profit_mean": 2687.4680000000003,
          "profit_std": 239.6288636600147,
          "s": 75
         },
         {
          "N": 100,
          "S": 600,
          "lost_mean": 9.68,
          "lost_std": 26.735849651089385,
          "m": 90,
          "profit_mean": 2028.0840000000003,
          "profit_std": 263.90170986313603,
          "s": 75
         },
         {
          "N": 100,
          "S": 700,
          "lost_mean": 7.85,
          "lost_std": 21.5417729028504,
          "m": 90,
          "profit_mean": 1678.705,
          "profit_std": 207.2270415327696,
          "s": 75
         },
         {
          "N": 100,
          "S": 800,
          "lost_mean": 11.43,
          "lost_std": 24.390449778633442,
          "m": 90,
          "profit_mean": 914.724,
          "profit_std": 153.53444592288884,
          "s": 75
         },
         {
          "N": 100,
          "S": 900,
          "lost_mean": 4.52,
          "lost_std": 15.272263100209486,
          "m": 90,
          "profit_mean": 682.4799999999997,
          "profit_std": 435.9574175294989,
          "s": 75
         },
         {
          "N": 100,
          "S": 1000,
          "lost_mean": 3.27,
          "lost_std": 14.687901294754278,
          "m": 90,
          "profit_mean": 439.6809999999997,
          "profit_std": 268.44414639988645,
          "s": 75
         },
         {
          "N": 100,
          "S": 200,
          "lost_mean": 20.08,
          "lost_std": 32.71909213133809,
          "m": 90,
          "profit_mean": 3020.23,
          "profit_std": 160.12806900992885,
          "s": 100
         },
         {
          "N": 100,
          "S": 300,
          "lost_mean": 5.76,
          "lost_std": 15.6276884555793,
          "m": 90,
          "profit_mean": 3120.251,
          "profit_std": 168.18128836635097,
          "s": 100
         },
         {
          "N": 100,
          "S": 400,
          "lost_mean": 6.26,
          "lost_std": 17.33486007262169,
          "m": 90,
          "profit_mean": 2795.2369999999996,
          "profit_std": 187.47999362894984,
          "s": 100
         },
         {
          "N": 100,
          "S": 500,
          "lost_mean": 5.26,
          "lost_std": 26.617993458515535,
          "m": 90,
          "profit_mean": 2386.138,
          "profit_std": 263.08043889520366,
          "s": 100
         },
         {
          "N": 100,
          "S": 600,
          "lost_mean": 2.97,
          "lost_std": 13.148303266500925,
          "m": 90,
          "profit_mean": 1828.5710000000001,
          "profit_std": 170.44090969001425,
          "s": 100
         },
         {
          "N": 100,
          "S": 700,
          "lost_mean": 0.49,
          "lost_std": 2.7135834893246518,
          "m": 90,
          "profit_mean": 1683.693,
          "profit_std": 251.01191378019482,
          "s": 100
         },
         {
          "N": 100,
          "S": 800,
          "lost_mean": 5.79,
          "lost_std": 19.27802695382292,
          "m": 90,
          "profit_mean": 814.0609999999998,
          "profit_std": 186.53830266898606,
          "s": 100
         },
         {
          "N": 100,
          "S": 900,
          "lost_mean": 2.51,
          "lost_std": 7.848946400374996,
          "m": 90,
          "profit_mean": 293.36999999999983,
          "profit_std": 355.2029320392681,
          "s": 100
         },
         {
          "N": 100,
          "S": 1000,
          "lost_mean": 2.53,
          "lost_std": 12.014683777054906,
          "m": 90,
          "profit_mean": 428.6849999999998,
          "profit_std": 255.33067344725794,
          "s": 100
         },
         {
          "N": 100,
          "S": 200,
          "lost_mean": 9.32,
          "lost_std": 21.774268940168533,
          "m": 90,
          "profit_mean": 2615.4799999999996,
          "profit_std": 187.355158870941,
          "s": 125
         },
         {
          "N": 100,
          "S": 300,
          "lost_mean": 2.89,
          "lost_std": 12.867541970541087,
          "m": 90,
          "profit_mean": 2913.112,
          "profit_std": 175.10721811034347,
          "s": 125
         },
         {
          "N": 100,
          "S": 400,
          "lost_mean": 4.37,
          "lost_std": 18.413683427650682,
          "m": 90,
          "profit_mean": 2680.0350000000008,
          "profit_std": 174.42341978268527,
          "s": 125
         },
         {
          "N": 100,
          "S": 500,
          "lost_mean": 3.27,
          "lost_std": 18.34619658929144,
          "m": 90,
          "profit_mean": 2227.969,
          "profit_std": 205.2709747375331,
          "s": 125
         },
         {
          "N": 100,
          "S": 600,
          "lost_mean": 0.92,
          "lost_std": 5.364831231400866,
          "m": 90,
          "profit_mean": 1771.845,
          "profit_std": 161.99935613726643,
          "s": 125
         },
         {
          "N": 100,
          "S": 700,
          "lost_mean": 0.75,
          "lost_std": 6.1272285164607085,
          "m": 90,
          "profit_mean": 1545.7620000000002,
          "profit_std": 273.75956743762646,
          "s": 125
         },
         {
          "N": 100,
          "S": 800,
          "lost_mean": 2.17,
          "lost_std": 11.349413725791825,
          "m": 90,
          "profit_mean": 722.4939999999998,
          "profit_std": 207.39437171288384,
          "s": 125
         },
         {
          "N": 100,
          "S": 900,
          "lost_mean": 1.94,
          "lost_std": 8.282658042103648,
          "m": 90,
          "profit_mean": 59.789999999999836,
          "profit_std": 220.4234160048163,
          "s": 125
         },
         {
          "N": 100,
          "S": 1000,
          "lost_mean": 1.12,
          "lost_std": 8.359691647689191,
          "m": 90,
          "profit_mean": 268.1569999999998,
          "profit_std": 409.5952826963107,
          "s": 125
         },
         {
          "N": 100,
          "S": 200,
          "lost_mean": 1.83,
          "lost_std": 7.363649457526704,
          "m": 90,
          "profit_mean": 1970.987,
          "profit_std": 248.1636767042137,
          "s": 150
         },
         {
          "N": 100,
          "S": 300,
          "lost_mean": 2.02,
          "lost_std": 8.678290573190507,
          "m": 90,
          "profit_mean": 2671.952,
          "profit_std": 166.81307961701663,
          "s": 150
         },
         {
          "N": 100,
          "S": 400,
          "lost_mean": 1.22,
          "lost_std": 6.331865858696413,
          "m": 90,
          "profit_mean": 2497.744,
          "profit_std": 185.28499223486705,
          "s": 150
         },
         {
          "N": 100,
          "S": 500,
          "lost_mean": 0.56,
          "lost_std": 3.30386978489703,
          "m": 90,
          "profit_mean": 2149.314,
          "profit_std": 210.26386982440738,
          "s": 150
         },
         {
          "N": 100,
          "S": 600,
          "lost_mean": 1.99,
          "lost_std": 10.519337652460095,
          "m": 90,
          "profit_mean": 1814.606,
          "profit_std": 190.31460281450927,
          "s": 150
         },
         {
          "N": 100,
          "S": 700,
          "lost_mean": 0.28,
          "lost_std": 1.9698741179080554,
          "m": 90,
          "profit_mean": 1134.7029999999995,
          "profit_std": 327.16855769224566,
          "s": 150
         },
         {
          "N": 100,
          "S": 800,
          "lost_mean": 1.81,
          "lost_std": 10.048061273376836,
          "m": 90,
          "profit_mean": 737.2569999999998,
          "profit_std": 205.53083833347395,
          "s": 150
         },
         {
          "N": 100,
          "S": 900,
          "lost_mean": 0.44,
          "lost_std": 3.2108402248469083,
          "m": 90,
          "profit_mean": -37.010000000000225,
          "profit_std": 181.72357657395006,
          "s": 150
         },
         {
          "N": 100,
          "S": 1000,
          "lost_mean": 1.6,
          "lost_std": 8.836334538755771,
          "m": 90,
          "profit_mean": -236.9160000000002,
          "profit_std": 504.6193942713135,
          "s": 150
         },
         {
          "N": 100,
          "S": 200,
          "lost_mean": 3.27,
          "lost_std": 12.657775986692645,
          "m": 90,
          "profit_mean": 1034.612,
          "profit_std": 341.1812309899212,
          "s": 175
         },
         {
          "N": 100,
          "S": 300,
          "lost_mean": 0.71,
          "lost_std": 3.7180830294846046,
          "m": 90,
          "profit_mean": 2395.3160000000003,
          "profit_std": 204.57018391118135,
          "s": 175
         },
         {
          "N": 100,
          "S": 400,
          "lost_mean": 1.75,
          "lost_std": 12.90632528348919,
          "m": 90,
          "profit_mean": 2297.704,
          "profit_std": 193.6575880206604,
          "s": 175
         },
         {
          "N": 100,
          "S": 500,
          "lost_mean": 0.36,
          "lost_std": 3.5999999999999996,
          "m": 90,
          "profit_mean": 1958.382,
          "profit_std": 253.70202213692272,
          "s": 175
         },
         {
          "N": 100,
          "S": 600,
          "lost_mean": 0.67,
          "lost_std": 4.290122552462986,
          "m": 90,
          "profit_mean": 1649.5899999999997,
          "profit_std": 249.80461192983236,
          "s": 175
         },
         {
          "N": 100,
          "S": 700,
          "lost_mean": 0.02,
          "lost_std": 0.19999999999999998,
          "m": 90,
          "profit_mean": 917.8089999999997,
          "profit_std": 235.50629625287615,
          "s": 175
         },
         {
          "N": 100,
          "S": 800,
          "lost_mean": 1.83,
          "lost_std": 11.84159336125563,
          "m": 90,
          "profit_mean": 725.9579999999999,
          "profit_std": 225.62798745552894,
          "s": 175
         },
         {
          "N": 100,
          "S": 900,
          "lost_mean": 1.06,
          "lost_std": 10.600000000000003,
          "m": 90,
          "profit_mean": -147.6150000000002,
          "profit_std": 192.0369200482453,
          "s": 175
         },
         {
          "N": 100,
          "S": 1000,
          "lost_mean": 1.49,
          "lost_std": 9.630019352383082,
          "m": 90,
          "profit_mean": -507.8470000000002,
          "profit_std": 446.96536585482477,
          "s": 175
         },
         {
          "N": 100,
          "S": 300,
          "lost_mean": 0.68,
          "lost_std": 6.5007847234162455,
          "m": 90,
          "profit_mean": 2051.976,
          "profit_std": 166.18719645829125,
          "s": 200
         },
         {
          "N": 100,
          "S": 400,
          "lost_mean": 0.82,
          "lost_std": 5.341622346528188,
          "m": 90,
          "profit_mean": 2142.9079999999994,
          "profit_std": 205.21167277332017,
          "s": 200
         },
         {
          "N": 100,
          "S": 500,
          "lost_mean": 0.79,
          "lost_std": 4.759456296933951,
          "m": 90,
          "profit_mean": 1773.4129999999998,
          "profit_std": 192.5260631208359,
          "s": 200
         },
         {
          "N": 100,
          "S": 600,
          "lost_mean": 1.25,
          "lost_std": 7.629521345379143,
          "m": 90,
          "profit_mean": 1365.214,
          "profit_std": 268.5887686979988,
          "s": 200
         },
         {
          "N": 100,
          "S": 700,
          "lost_mean": 0.72,
          "lost_std": 4.9991514431466415,
          "m": 90,
          "profit_mean": 807.732,
          "profit_std": 167.06069294502737,
          "s": 200
         },
         {
          "N": 100,
          "S": 800,
          "lost_mean": 0.33,
          "lost_std": 2.074642478631298,
          "m": 90,
          "profit_mean": 690.9069999999998,
          "profit_std": 228.549274688427,
          "s": 200
         },
         {
          "N": 100,
          "S": 900,
          "lost_mean": 0.38,
          "lost_std": 2.643001049083135,
          "m": 90,
          "profit_mean": -141.55000000000027,
          "profit_std": 207.4540837599657,
          "s": 200
         },
         {
          "N": 100,
          "S": 1000,
          "lost_mean": 0.52,
          "lost_std": 5.199999999999998,
          "m": 90,
          "profit_mean": -772.3740000000003,
          "profit_std": 332.43444546149686,
          "s": 200
         },
         {
          "N": 100,
          "S": 300,
          "lost_mean": 1.5,
          "lost_std": 7.6785152184257575,
          "m": 90,
          "profit_mean": 1663.1519999999998,
          "profit_std": 212.2201855801581,
          "s": 225
         },
         {
          "N": 100,
          "S": 400,
          "lost_mean": 0.7,
          "lost_std": 4.924685294770139,
          "m": 90,
          "profit_mean": 1930.973,
          "profit_std": 173.7541569039836,
          "s": 225
         },
         {
          "N": 100,
          "S": 500,
          "lost_mean": 1.65,
          "lost_std": 13.0580483328339,
          "m": 90,
          "profit_mean": 1677.326,
          "profit_std": 206.8589431169819,
          "s": 225
         },
         {
          "N": 100,
          "S": 600,
          "lost_mean": 2.13,
          "lost_std": 12.449214003017588,
          "m": 90,
          "profit_mean": 1233.0069999999998,
          "profit_std": 224.07148492065085,
          "s": 225
         },
         {
          "N": 100,
          "S": 700,
          "lost_mean": 0.93,
          "lost_std": 6.244601709080452,
          "m": 90,
          "profit_mean": 808.2299999999999,
          "profit_std": 207.0249545783837,
          "s": 225
         },
         {
          "N": 100,
          "S": 800,
          "lost_mean": 0.1,
          "lost_std": 1.0000000000000007,
          "m": 90,
          "profit_mean": 534.6999999999999,
          "profit_std": 304.10735478170074,
          "s": 225
         },
         {
          "N": 100,
          "S": 900,
          "lost_mean": 0.48,
          "lost_std": 4.071284015559898,
          "m": 90,
          "profit_mean": -243.1130000000002,
          "profit_std": 201.20523400977746,
          "s": 225
         },
         {
          "N": 100,
          "S": 1000,
          "lost_mean": 1.32,
          "lost_std": 7.085167320508104,
          "m": 90,
          "profit_mean": -954.1800000000002,
          "profit_std": 197.84985992086783,
          "s": 225
         },
         {
          "N": 100,
          "S": 300,
          "lost_mean": 0.4,
          "lost_std": 2.8141058827257948,
          "m": 90,
          "profit_mean": 1026.938,
          "profit_std": 254.7140614235278,
          "s": 250
         },
         {
          "N": 100,
          "S": 400,
          "lost_mean": 0.1,
          "lost_std": 1.0000000000000007,
          "m": 90,
          "profit_mean": 1651.1429999999998,
          "profit_std": 172.60763601622932,
          "s": 250
         },
         {
          "N": 100,
          "S": 500,
          "lost_mean": 0.21,
          "lost_std": 1.6714779040832046,
          "m": 90,
          "profit_mean": 1488.8509999999997,
          "profit_std": 226.5972819360552,
          "s": 250
         },
         {
          "N": 100,
          "S": 600,
          "lost_mean": 2.18,
          "lost_std": 13.832606771719133,
          "m": 90,
          "profit_mean": 1213.382,
          "profit_std": 196.7978249756625,
          "s": 250
         },
         {
          "N": 100,
          "S": 700,
          "lost_mean": 1.76,
          "lost_std": 15.115795471204054,
          "m": 90,
          "profit_mean": 799.0329999999999,
          "profit_std": 176.64162204127808,
          "s": 250
         },
         {
          "N": 100,
          "S": 800,
          "lost_mean": 0.03,
          "lost_std": 0.2999999999999999,
          "m": 90,
          "profit_mean": 168.5249999999998,
          "profit_std": 342.22972507107306,
          "s": 250
         },
         {
          "N": 100,
          "S": 900,
          "lost_mean": 0.96,
          "lost_std": 7.126448107315638,
          "m": 90,
          "profit_mean": -275.16500000000025,
          "profit_std": 195.89202672994028,
          "s": 250
         },
         {
          "N": 100,
          "S": 1000,
          "lost_mean": 0,
          "lost_std": 0,
          "m": 90,
          "profit_mean": -1019.1280000000002,
          "profit_std": 171.74590291380093,
          "s": 250
         }
        ]
       },
       "encoding": {
        "color": {
         "field": "profit_mean",
         "scale": {
          "scheme": "plasma"
         },
         "type": "quantitative"
        },
        "x": {
         "field": "S",
         "type": "quantitative"
        },
        "y": {
         "field": "s",
         "type": "quantitative"
        }
       },
       "mark": "point"
      },
      "image/png": "[encoded data removed]",
      "image/svg+xml": [
       "<?xml version=\"1.0\" encoding=\"utf-8\"?>\n",
       "<!DOCTYPE svg PUBLIC \"-//W3C//DTD SVG 1.1//EN\" \"http://www.w3.org/Graphics/SVG/1.1/DTD/svg11.dtd\">\n",
       "<svg xmlns=\"http://www.w3.org/2000/svg\" xmlns:xlink=\"http://www.w3.org/1999/xlink\" version=\"1.1\" class=\"marks\" width=\"332\" height=\"242\" viewBox=\"0 0 332 242\"><rect width=\"332\" height=\"242\" fill=\"white\"/><g fill=\"none\" stroke-miterlimit=\"10\" transform=\"translate(45,5)\"><g class=\"mark-group role-frame root\" role=\"graphics-object\" aria-roledescription=\"group mark container\"><g transform=\"translate(0,0)\"><path class=\"background\" aria-hidden=\"true\" d=\"M0.5,0.5h200v200h-200Z\" stroke=\"#ddd\"/><g><g class=\"mark-group role-axis\" aria-hidden=\"true\"><g transform=\"translate(0.5,200.5)\"><path class=\"background\" aria-hidden=\"true\" d=\"M0,0h0v0h0Z\" pointer-events=\"none\"/><g><g class=\"mark-rule role-axis-grid\" pointer-events=\"none\"><line transform=\"translate(0,-200)\" x2=\"0\" y2=\"200\" stroke=\"#ddd\" stroke-width=\"1\" opacity=\"1\"/><line transform=\"translate(40,-200)\" x2=\"0\" y2=\"200\" stroke=\"#ddd\" stroke-width=\"1\" opacity=\"1\"/><line transform=\"translate(80,-200)\" x2=\"0\" y2=\"200\" stroke=\"#ddd\" stroke-width=\"1\" opacity=\"1\"/><line transform=\"translate(120,-200)\" x2=\"0\" y2=\"200\" stroke=\"#ddd\" stroke-width=\"1\" opacity=\"1\"/><line transform=\"translate(160,-200)\" x2=\"0\" y2=\"200\" stroke=\"#ddd\" stroke-width=\"1\" opacity=\"1\"/><line transform=\"translate(200,-200)\" x2=\"0\" y2=\"200\" stroke=\"#ddd\" stroke-width=\"1\" opacity=\"1\"/></g></g><path class=\"foreground\" aria-hidden=\"true\" d=\"\" pointer-events=\"none\" display=\"none\"/></g></g><g class=\"mark-group role-axis\" aria-hidden=\"true\"><g transform=\"translate(0.5,0.5)\"><path class=\"background\" aria-hidden=\"true\" d=\"M0,0h0v0h0Z\" pointer-events=\"none\"/><g><g class=\"mark-rule role-axis-grid\" pointer-events=\"none\"><line transform=\"translate(0,200)\" x2=\"200\" y2=\"0\" stroke=\"#ddd\" stroke-width=\"1\" opacity=\"1\"/><line transform=\"translate(0,162)\" x2=\"200\" y2=\"0\" stroke=\"#ddd\" stroke-width=\"1\" opacity=\"1\"/><line transform=\"translate(0,123)\" x2=\"200\" y2=\"0\" stroke=\"#ddd\" stroke-width=\"1\" opacity=\"1\"/><line transform=\"translate(0,85)\" x2=\"200\" y2=\"0\" stroke=\"#ddd\" stroke-width=\"1\" opacity=\"1\"/><line transform=\"translate(0,46)\" x2=\"200\" y2=\"0\" stroke=\"#ddd\" stroke-width=\"1\" opacity=\"1\"/><line transform=\"translate(0,8)\" x2=\"200\" y2=\"0\" stroke=\"#ddd\" stroke-width=\"1\" opacity=\"1\"/></g></g><path class=\"foreground\" aria-hidden=\"true\" d=\"\" pointer-events=\"none\" display=\"none\"/></g></g><g class=\"mark-group role-axis\" role=\"graphics-symbol\" aria-roledescription=\"axis\" aria-label=\"X-axis titled 'S' for a linear scale with values from 0 to 1,000\"><g transform=\"translate(0.5,200.5)\"><path class=\"background\" aria-hidden=\"true\" d=\"M0,0h0v0h0Z\" pointer-events=\"none\"/><g><g class=\"mark-rule role-axis-tick\" pointer-events=\"none\"><line transform=\"translate(0,0)\" x2=\"0\" y2=\"5\" stroke=\"#888\" stroke-width=\"1\" opacity=\"1\"/><line transform=\"translate(40,0)\" x2=\"0\" y2=\"5\" stroke=\"#888\" stroke-width=\"1\" opacity=\"1\"/><line transform=\"translate(80,0)\" x2=\"0\" y2=\"5\" stroke=\"#888\" stroke-width=\"1\" opacity=\"1\"/><line transform=\"translate(120,0)\" x2=\"0\" y2=\"5\" stroke=\"#888\" stroke-width=\"1\" opacity=\"1\"/><line transform=\"translate(160,0)\" x2=\"0\" y2=\"5\" stroke=\"#888\" stroke-width=\"1\" opacity=\"1\"/><line transform=\"translate(200,0)\" x2=\"0\" y2=\"5\" stroke=\"#888\" stroke-width=\"1\" opacity=\"1\"/></g><g class=\"mark-text role-axis-label\" pointer-events=\"none\"><text text-anchor=\"start\" transform=\"translate(0,15)\" font-family=\"sans-serif\" font-size=\"10px\" fill=\"#000\" opacity=\"1\">0</text><text text-anchor=\"middle\" transform=\"translate(40,15)\" font-family=\"sans-serif\" font-size=\"10px\" fill=\"#000\" opacity=\"1\">200</text><text text-anchor=\"middle\" transform=\"translate(80,15)\" font-family=\"sans-serif\" font-size=\"10px\" fill=\"#000\" opacity=\"1\">400</text><text text-anchor=\"middle\" transform=\"translate(120,15)\" font-family=\"sans-serif\" font-size=\"10px\" fill=\"#000\" opacity=\"1\">600</text><text text-anchor=\"middle\" transform=\"translate(160,15)\" font-family=\"sans-serif\" font-size=\"10px\" fill=\"#000\" opacity=\"1\">800</text><text text-anchor=\"end\" transform=\"translate(200,15)\" font-family=\"sans-serif\" font-size=\"10px\" fill=\"#000\" opacity=\"1\">1,000</text></g><g class=\"mark-rule role-axis-domain\" pointer-events=\"none\"><line transform=\"translate(0,0)\" x2=\"200\" y2=\"0\" stroke=\"#888\" stroke-width=\"1\" opacity=\"1\"/></g><g class=\"mark-text role-axis-title\" pointer-events=\"none\"><text text-anchor=\"middle\" transform=\"translate(100,30)\" font-family=\"sans-serif\" font-size=\"11px\" font-weight=\"bold\" fill=\"#000\" opacity=\"1\">S</text></g></g><path class=\"foreground\" aria-hidden=\"true\" d=\"\" pointer-events=\"none\" display=\"none\"/></g></g><g class=\"mark-group role-axis\" role=\"graphics-symbol\" aria-roledescription=\"axis\" aria-label=\"Y-axis titled 's' for a linear scale with values from 0 to 260\"><g transform=\"translate(0.5,0.5)\"><path class=\"background\" aria-hidden=\"true\" d=\"M0,0h0v0h0Z\" pointer-events=\"none\"/><g><g class=\"mark-rule role-axis-tick\" pointer-events=\"none\"><line transform=\"translate(0,200)\" x2=\"-5\" y2=\"0\" stroke=\"#888\" stroke-width=\"1\" opacity=\"1\"/><line transform=\"translate(0,162)\" x2=\"-5\" y2=\"0\" stroke=\"#888\" stroke-width=\"1\" opacity=\"1\"/><line transform=\"translate(0,123)\" x2=\"-5\" y2=\"0\" stroke=\"#888\" stroke-width=\"1\" opacity=\"1\"/><line transform=\"translate(0,85)\" x2=\"-5\" y2=\"0\" stroke=\"#888\" stroke-width=\"1\" opacity=\"1\"/><line transform=\"translate(0,46)\" x2=\"-5\" y2=\"0\" stroke=\"#888\" stroke-width=\"1\" opacity=\"1\"/><line transform=\"translate(0,8)\" x2=\"-5\" y2=\"0\" stroke=\"#888\" stroke-width=\"1\" opacity=\"1\"/></g><g class=\"mark-text role-axis-label\" pointer-events=\"none\"><text text-anchor=\"end\" transform=\"translate(-7,203)\" font-family=\"sans-serif\" font-size=\"10px\" fill=\"#000\" opacity=\"1\">0</text><text text-anchor=\"end\" transform=\"translate(-7,164.53846153846155)\" font-family=\"sans-serif\" font-size=\"10px\" fill=\"#000\" opacity=\"1\">50</text><text text-anchor=\"end\" transform=\"translate(-7,126.07692307692308)\" font-family=\"sans-serif\" font-size=\"10px\" fill=\"#000\" opacity=\"1\">100</text><text text-anchor=\"end\" transform=\"translate(-7,87.61538461538463)\" font-family=\"sans-serif\" font-size=\"10px\" fill=\"#000\" opacity=\"1\">150</text><text text-anchor=\"end\" transform=\"translate(-7,49.153846153846146)\" font-family=\"sans-serif\" font-size=\"10px\" fill=\"#000\" opacity=\"1\">200</text><text text-anchor=\"end\" transform=\"translate(-7,10.692307692307686)\" font-family=\"sans-serif\" font-size=\"10px\" fill=\"#000\" opacity=\"1\">250</text></g><g class=\"mark-rule role-axis-domain\" pointer-events=\"none\"><line transform=\"translate(0,200)\" x2=\"0\" y2=\"-200\" stroke=\"#888\" stroke-width=\"1\" opacity=\"1\"/></g><g class=\"mark-text role-axis-title\" pointer-events=\"none\"><text text-anchor=\"middle\" transform=\"translate(-29,100) rotate(-90) translate(0,-2)\" font-family=\"sans-serif\" font-size=\"11px\" font-weight=\"bold\" fill=\"#000\" opacity=\"1\">s</text></g></g><path class=\"foreground\" aria-hidden=\"true\" d=\"\" pointer-events=\"none\" display=\"none\"/></g></g><g class=\"mark-symbol role-mark marks\" role=\"graphics-object\" aria-roledescription=\"symbol mark container\"><path aria-label=\"S: 100; s: 25; profit_mean: 2971.249\" role=\"graphics-symbol\" aria-roledescription=\"point\" transform=\"translate(20,180.76923076923077)\" d=\"M2.7386127875258306,0A2.7386127875258306,2.7386127875258306,0,1,1,-2.7386127875258306,0A2.7386127875258306,2.7386127875258306,0,1,1,2.7386127875258306,0\" stroke=\"rgb(254, 192, 41)\" stroke-width=\"2\" opacity=\"0.7\"/><path aria-label=\"S: 200; s: 25; profit_mean: 3579.796\" role=\"graphics-symbol\" aria-roledescription=\"point\" transform=\"translate(40,180.76923076923077)\" d=\"M2.7386127875258306,0A2.7386127875258306,2.7386127875258306,0,1,1,-2.7386127875258306,0A2.7386127875258306,2.7386127875258306,0,1,1,2.7386127875258306,0\" stroke=\"rgb(240, 249, 33)\" stroke-width=\"2\" opacity=\"0.7\"/><path aria-label=\"S: 300; s: 25; profit_mean: 3488.405\" role=\"graphics-symbol\" aria-roledescription=\"point\" transform=\"translate(60,180.76923076923077)\" d=\"M2.7386127875258306,0A2.7386127875258306,2.7386127875258306,0,1,1,-2.7386127875258306,0A2.7386127875258306,2.7386127875258306,0,1,1,2.7386127875258306,0\" stroke=\"rgb(243, 240, 37)\" stroke-width=\"2\" opacity=\"0.7\"/><path aria-label=\"S: 400; s: 25; profit_mean: 3081.231\" role=\"graphics-symbol\" aria-roledescription=\"point\" transform=\"translate(80,180.76923076923077)\" d=\"M2.7386127875258306,0A2.7386127875258306,2.7386127875258306,0,1,1,-2.7386127875258306,0A2.7386127875258306,2.7386127875258306,0,1,1,2.7386127875258306,0\" stroke=\"rgb(253, 202, 38)\" stroke-width=\"2\" opacity=\"0.7\"/><path aria-label=\"S: 500; s: 25; profit_mean: 2630.794\" role=\"graphics-symbol\" aria-roledescription=\"point\" transform=\"translate(100,180.76923076923077)\" d=\"M2.7386127875258306,0A2.7386127875258306,2.7386127875258306,0,1,1,-2.7386127875258306,0A2.7386127875258306,2.7386127875258306,0,1,1,2.7386127875258306,0\" stroke=\"rgb(252, 164, 55)\" stroke-width=\"2\" opacity=\"0.7\"/><path aria-label=\"S: 600; s: 25; profit_mean: 2546.72\" role=\"graphics-symbol\" aria-roledescription=\"point\" transform=\"translate(120,180.76923076923077)\" d=\"M2.7386127875258306,0A2.7386127875258306,2.7386127875258306,0,1,1,-2.7386127875258306,0A2.7386127875258306,2.7386127875258306,0,1,1,2.7386127875258306,0\" stroke=\"rgb(251, 157, 59)\" stroke-width=\"2\" opacity=\"0.7\"/><path aria-label=\"S: 700; s: 25; profit_mean: 1683.641\" role=\"graphics-symbol\" aria-roledescription=\"point\" transform=\"translate(140,180.76923076923077)\" d=\"M2.7386127875258306,0A2.7386127875258306,2.7386127875258306,0,1,1,-2.7386127875258306,0A2.7386127875258306,2.7386127875258306,0,1,1,2.7386127875258306,0\" stroke=\"rgb(222, 96, 101)\" stroke-width=\"2\" opacity=\"0.7\"/><path aria-label=\"S: 800; s: 25; profit_mean: 1200.973\" role=\"graphics-symbol\" aria-roledescription=\"point\" transform=\"translate(160,180.76923076923077)\" d=\"M2.7386127875258306,0A2.7386127875258306,2.7386127875258306,0,1,1,-2.7386127875258306,0A2.7386127875258306,2.7386127875258306,0,1,1,2.7386127875258306,0\" stroke=\"rgb(199, 66, 125)\" stroke-width=\"2\" opacity=\"0.7\"/><path aria-label=\"S: 900; s: 25; profit_mean: 1367.398\" role=\"graphics-symbol\" aria-roledescription=\"point\" transform=\"translate(180,180.76923076923077)\" d=\"M2.7386127875258306,0A2.7386127875258306,2.7386127875258306,0,1,1,-2.7386127875258306,0A2.7386127875258306,2.7386127875258306,0,1,1,2.7386127875258306,0\" stroke=\"rgb(208, 77, 116)\" stroke-width=\"2\" opacity=\"0.7\"/><path aria-label=\"S: 1000; s: 25; profit_mean: 419.791\" role=\"graphics-symbol\" aria-roledescription=\"point\" transform=\"translate(200,180.76923076923077)\" d=\"M2.7386127875258306,0A2.7386127875258306,2.7386127875258306,0,1,1,-2.7386127875258306,0A2.7386127875258306,2.7386127875258306,0,1,1,2.7386127875258306,0\" stroke=\"rgb(149, 17, 162)\" stroke-width=\"2\" opacity=\"0.7\"/><path aria-label=\"S: 100; s: 50; profit_mean: 2661.404\" role=\"graphics-symbol\" aria-roledescription=\"point\" transform=\"translate(20,161.53846153846155)\" d=\"M2.7386127875258306,0A2.7386127875258306,2.7386127875258306,0,1,1,-2.7386127875258306,0A2.7386127875258306,2.7386127875258306,0,1,1,2.7386127875258306,0\" stroke=\"rgb(252, 166, 54)\" stroke-width=\"2\" opacity=\"0.7\"/><path aria-label=\"S: 200; s: 50; profit_mean: 3534.315\" role=\"graphics-symbol\" aria-roledescription=\"point\" transform=\"translate(40,161.53846153846155)\" d=\"M2.7386127875258306,0A2.7386127875258306,2.7386127875258306,0,1,1,-2.7386127875258306,0A2.7386127875258306,2.7386127875258306,0,1,1,2.7386127875258306,0\" stroke=\"rgb(241, 245, 35)\" stroke-width=\"2\" opacity=\"0.7\"/><path aria-label=\"S: 300; s: 50; profit_mean: 3394.556\" role=\"graphics-symbol\" aria-roledescription=\"point\" transform=\"translate(60,161.53846153846155)\" d=\"M2.7386127875258306,0A2.7386127875258306,2.7386127875258306,0,1,1,-2.7386127875258306,0A2.7386127875258306,2.7386127875258306,0,1,1,2.7386127875258306,0\" stroke=\"rgb(246, 231, 38)\" stroke-width=\"2\" opacity=\"0.7\"/><path aria-label=\"S: 400; s: 50; profit_mean: 3061.301\" role=\"graphics-symbol\" aria-roledescription=\"point\" transform=\"translate(80,161.53846153846155)\" d=\"M2.7386127875258306,0A2.7386127875258306,2.7386127875258306,0,1,1,-2.7386127875258306,0A2.7386127875258306,2.7386127875258306,0,1,1,2.7386127875258306,0\" stroke=\"rgb(253, 201, 39)\" stroke-width=\"2\" opacity=\"0.7\"/><path aria-label=\"S: 500; s: 50; profit_mean: 2721.589\" role=\"graphics-symbol\" aria-roledescription=\"point\" transform=\"translate(100,161.53846153846155)\" d=\"M2.7386127875258306,0A2.7386127875258306,2.7386127875258306,0,1,1,-2.7386127875258306,0A2.7386127875258306,2.7386127875258306,0,1,1,2.7386127875258306,0\" stroke=\"rgb(252, 171, 51)\" stroke-width=\"2\" opacity=\"0.7\"/><path aria-label=\"S: 600; s: 50; profit_mean: 2407.249\" role=\"graphics-symbol\" aria-roledescription=\"point\" transform=\"translate(120,161.53846153846155)\" d=\"M2.7386127875258306,0A2.7386127875258306,2.7386127875258306,0,1,1,-2.7386127875258306,0A2.7386127875258306,2.7386127875258306,0,1,1,2.7386127875258306,0\" stroke=\"rgb(247, 147, 66)\" stroke-width=\"2\" opacity=\"0.7\"/><path aria-label=\"S: 700; s: 50; profit_mean: 1642.604\" role=\"graphics-symbol\" aria-roledescription=\"point\" transform=\"translate(140,161.53846153846155)\" d=\"M2.7386127875258306,0A2.7386127875258306,2.7386127875258306,0,1,1,-2.7386127875258306,0A2.7386127875258306,2.7386127875258306,0,1,1,2.7386127875258306,0\" stroke=\"rgb(221, 94, 102)\" stroke-width=\"2\" opacity=\"0.7\"/><path aria-label=\"S: 800; s: 50; profit_mean: 1014.095\" role=\"graphics-symbol\" aria-roledescription=\"point\" transform=\"translate(160,161.53846153846155)\" d=\"M2.7386127875258306,0A2.7386127875258306,2.7386127875258306,0,1,1,-2.7386127875258306,0A2.7386127875258306,2.7386127875258306,0,1,1,2.7386127875258306,0\" stroke=\"rgb(188, 54, 134)\" stroke-width=\"2\" opacity=\"0.7\"/><path aria-label=\"S: 900; s: 50; profit_mean: 1231.521\" role=\"graphics-symbol\" aria-roledescription=\"point\" transform=\"translate(180,161.53846153846155)\" d=\"M2.7386127875258306,0A2.7386127875258306,2.7386127875258306,0,1,1,-2.7386127875258306,0A2.7386127875258306,2.7386127875258306,0,1,1,2.7386127875258306,0\" stroke=\"rgb(200, 68, 123)\" stroke-width=\"2\" opacity=\"0.7\"/><path aria-label=\"S: 1000; s: 50; profit_mean: 435.771\" role=\"graphics-symbol\" aria-roledescription=\"point\" transform=\"translate(200,161.53846153846155)\" d=\"M2.7386127875258306,0A2.7386127875258306,2.7386127875258306,0,1,1,-2.7386127875258306,0A2.7386127875258306,2.7386127875258306,0,1,1,2.7386127875258306,0\" stroke=\"rgb(150, 18, 161)\" stroke-width=\"2\" opacity=\"0.7\"/><path aria-label=\"S: 100; s: 75; profit_mean: 1855.157\" role=\"graphics-symbol\" aria-roledescription=\"point\" transform=\"translate(20,142.30769230769232)\" d=\"M2.7386127875258306,0A2.7386127875258306,2.7386127875258306,0,1,1,-2.7386127875258306,0A2.7386127875258306,2.7386127875258306,0,1,1,2.7386127875258306,0\" stroke=\"rgb(229, 107, 93)\" stroke-width=\"2\" opacity=\"0.7\"/><path aria-label=\"S: 200; s: 75; profit_mean: 3346.444\" role=\"graphics-symbol\" aria-roledescription=\"point\" transform=\"translate(40,142.30769230769232)\" d=\"M2.7386127875258306,0A2.7386127875258306,2.7386127875258306,0,1,1,-2.7386127875258306,0A2.7386127875258306,2.7386127875258306,0,1,1,2.7386127875258306,0\" stroke=\"rgb(247, 227, 37)\" stroke-width=\"2\" opacity=\"0.7\"/><path aria-label=\"S: 300; s: 75; profit_mean: 3300.202\" role=\"graphics-symbol\" aria-roledescription=\"point\" transform=\"translate(60,142.30769230769232)\" d=\"M2.7386127875258306,0A2.7386127875258306,2.7386127875258306,0,1,1,-2.7386127875258306,0A2.7386127875258306,2.7386127875258306,0,1,1,2.7386127875258306,0\" stroke=\"rgb(248, 222, 37)\" stroke-width=\"2\" opacity=\"0.7\"/><path aria-label=\"S: 400; s: 75; profit_mean: 3035.648\" role=\"graphics-symbol\" aria-roledescription=\"point\" transform=\"translate(80,142.30769230769232)\" d=\"M2.7386127875258306,0A2.7386127875258306,2.7386127875258306,0,1,1,-2.7386127875258306,0A2.7386127875258306,2.7386127875258306,0,1,1,2.7386127875258306,0\" stroke=\"rgb(253, 198, 39)\" stroke-width=\"2\" opacity=\"0.7\"/><path aria-label=\"S: 500; s: 75; profit_mean: 2687.468\" role=\"graphics-symbol\" aria-roledescription=\"point\" transform=\"translate(100,142.30769230769232)\" d=\"M2.7386127875258306,0A2.7386127875258306,2.7386127875258306,0,1,1,-2.7386127875258306,0A2.7386127875258306,2.7386127875258306,0,1,1,2.7386127875258306,0\" stroke=\"rgb(252, 168, 53)\" stroke-width=\"2\" opacity=\"0.7\"/><path aria-label=\"S: 600; s: 75; profit_mean: 2028.084\" role=\"graphics-symbol\" aria-roledescription=\"point\" transform=\"translate(120,142.30769230769232)\" d=\"M2.7386127875258306,0A2.7386127875258306,2.7386127875258306,0,1,1,-2.7386127875258306,0A2.7386127875258306,2.7386127875258306,0,1,1,2.7386127875258306,0\" stroke=\"rgb(236, 120, 84)\" stroke-width=\"2\" opacity=\"0.7\"/><path aria-label=\"S: 700; s: 75; profit_mean: 1678.705\" role=\"graphics-symbol\" aria-roledescription=\"point\" transform=\"translate(140,142.30769230769232)\" d=\"M2.7386127875258306,0A2.7386127875258306,2.7386127875258306,0,1,1,-2.7386127875258306,0A2.7386127875258306,2.7386127875258306,0,1,1,2.7386127875258306,0\" stroke=\"rgb(222, 96, 101)\" stroke-width=\"2\" opacity=\"0.7\"/><path aria-label=\"S: 800; s: 75; profit_mean: 914.724\" role=\"graphics-symbol\" aria-roledescription=\"point\" transform=\"translate(160,142.30769230769232)\" d=\"M2.7386127875258306,0A2.7386127875258306,2.7386127875258306,0,1,1,-2.7386127875258306,0A2.7386127875258306,2.7386127875258306,0,1,1,2.7386127875258306,0\" stroke=\"rgb(183, 48, 139)\" stroke-width=\"2\" opacity=\"0.7\"/><path aria-label=\"S: 900; s: 75; profit_mean: 682.48\" role=\"graphics-symbol\" aria-roledescription=\"point\" transform=\"translate(180,142.30769230769232)\" d=\"M2.7386127875258306,0A2.7386127875258306,2.7386127875258306,0,1,1,-2.7386127875258306,0A2.7386127875258306,2.7386127875258306,0,1,1,2.7386127875258306,0\" stroke=\"rgb(168, 34, 151)\" stroke-width=\"2\" opacity=\"0.7\"/><path aria-label=\"S: 1000; s: 75; profit_mean: 439.681\" role=\"graphics-symbol\" aria-roledescription=\"point\" transform=\"translate(200,142.30769230769232)\" d=\"M2.7386127875258306,0A2.7386127875258306,2.7386127875258306,0,1,1,-2.7386127875258306,0A2.7386127875258306,2.7386127875258306,0,1,1,2.7386127875258306,0\" stroke=\"rgb(150, 18, 161)\" stroke-width=\"2\" opacity=\"0.7\"/><path aria-label=\"S: 200; s: 100; profit_mean: 3020.23\" role=\"graphics-symbol\" aria-roledescription=\"point\" transform=\"translate(40,123.07692307692308)\" d=\"M2.7386127875258306,0A2.7386127875258306,2.7386127875258306,0,1,1,-2.7386127875258306,0A2.7386127875258306,2.7386127875258306,0,1,1,2.7386127875258306,0\" stroke=\"rgb(253, 197, 40)\" stroke-width=\"2\" opacity=\"0.7\"/><path aria-label=\"S: 300; s: 100; profit_mean: 3120.251\" role=\"graphics-symbol\" aria-roledescription=\"point\" transform=\"translate(60,123.07692307692308)\" d=\"M2.7386127875258306,0A2.7386127875258306,2.7386127875258306,0,1,1,-2.7386127875258306,0A2.7386127875258306,2.7386127875258306,0,1,1,2.7386127875258306,0\" stroke=\"rgb(252, 206, 37)\" stroke-width=\"2\" opacity=\"0.7\"/><path aria-label=\"S: 400; s: 100; profit_mean: 2795.237\" role=\"graphics-symbol\" aria-roledescription=\"point\" transform=\"translate(80,123.07692307692308)\" d=\"M2.7386127875258306,0A2.7386127875258306,2.7386127875258306,0,1,1,-2.7386127875258306,0A2.7386127875258306,2.7386127875258306,0,1,1,2.7386127875258306,0\" stroke=\"rgb(253, 177, 48)\" stroke-width=\"2\" opacity=\"0.7\"/><path aria-label=\"S: 500; s: 100; profit_mean: 2386.138\" role=\"graphics-symbol\" aria-roledescription=\"point\" transform=\"translate(100,123.07692307692308)\" d=\"M2.7386127875258306,0A2.7386127875258306,2.7386127875258306,0,1,1,-2.7386127875258306,0A2.7386127875258306,2.7386127875258306,0,1,1,2.7386127875258306,0\" stroke=\"rgb(247, 145, 67)\" stroke-width=\"2\" opacity=\"0.7\"/><path aria-label=\"S: 600; s: 100; profit_mean: 1828.571\" role=\"graphics-symbol\" aria-roledescription=\"point\" transform=\"translate(120,123.07692307692308)\" d=\"M2.7386127875258306,0A2.7386127875258306,2.7386127875258306,0,1,1,-2.7386127875258306,0A2.7386127875258306,2.7386127875258306,0,1,1,2.7386127875258306,0\" stroke=\"rgb(228, 106, 94)\" stroke-width=\"2\" opacity=\"0.7\"/><path aria-label=\"S: 700; s: 100; profit_mean: 1683.693\" role=\"graphics-symbol\" aria-roledescription=\"point\" transform=\"translate(140,123.07692307692308)\" d=\"M2.7386127875258306,0A2.7386127875258306,2.7386127875258306,0,1,1,-2.7386127875258306,0A2.7386127875258306,2.7386127875258306,0,1,1,2.7386127875258306,0\" stroke=\"rgb(222, 96, 101)\" stroke-width=\"2\" opacity=\"0.7\"/><path aria-label=\"S: 800; s: 100; profit_mean: 814.061\" role=\"graphics-symbol\" aria-roledescription=\"point\" transform=\"translate(160,123.07692307692308)\" d=\"M2.7386127875258306,0A2.7386127875258306,2.7386127875258306,0,1,1,-2.7386127875258306,0A2.7386127875258306,2.7386127875258306,0,1,1,2.7386127875258306,0\" stroke=\"rgb(177, 42, 144)\" stroke-width=\"2\" opacity=\"0.7\"/><path aria-label=\"S: 900; s: 100; profit_mean: 293.37\" role=\"graphics-symbol\" aria-roledescription=\"point\" transform=\"translate(180,123.07692307692308)\" d=\"M2.7386127875258306,0A2.7386127875258306,2.7386127875258306,0,1,1,-2.7386127875258306,0A2.7386127875258306,2.7386127875258306,0,1,1,2.7386127875258306,0\" stroke=\"rgb(139, 9, 165)\" stroke-width=\"2\" opacity=\"0.7\"/><path aria-label=\"S: 1000; s: 100; profit_mean: 428.685\" role=\"graphics-symbol\" aria-roledescription=\"point\" transform=\"translate(200,123.07692307692308)\" d=\"M2.7386127875258306,0A2.7386127875258306,2.7386127875258306,0,1,1,-2.7386127875258306,0A2.7386127875258306,2.7386127875258306,0,1,1,2.7386127875258306,0\" stroke=\"rgb(149, 17, 161)\" stroke-width=\"2\" opacity=\"0.7\"/><path aria-label=\"S: 200; s: 125; profit_mean: 2615.48\" role=\"graphics-symbol\" aria-roledescription=\"point\" transform=\"translate(40,103.84615384615384)\" d=\"M2.7386127875258306,0A2.7386127875258306,2.7386127875258306,0,1,1,-2.7386127875258306,0A2.7386127875258306,2.7386127875258306,0,1,1,2.7386127875258306,0\" stroke=\"rgb(251, 163, 56)\" stroke-width=\"2\" opacity=\"0.7\"/><path aria-label=\"S: 300; s: 125; profit_mean: 2913.112\" role=\"graphics-symbol\" aria-roledescription=\"point\" transform=\"translate(60,103.84615384615384)\" d=\"M2.7386127875258306,0A2.7386127875258306,2.7386127875258306,0,1,1,-2.7386127875258306,0A2.7386127875258306,2.7386127875258306,0,1,1,2.7386127875258306,0\" stroke=\"rgb(254, 187, 43)\" stroke-width=\"2\" opacity=\"0.7\"/><path aria-label=\"S: 400; s: 125; profit_mean: 2680.035\" role=\"graphics-symbol\" aria-roledescription=\"point\" transform=\"translate(80,103.84615384615384)\" d=\"M2.7386127875258306,0A2.7386127875258306,2.7386127875258306,0,1,1,-2.7386127875258306,0A2.7386127875258306,2.7386127875258306,0,1,1,2.7386127875258306,0\" stroke=\"rgb(252, 168, 53)\" stroke-width=\"2\" opacity=\"0.7\"/><path aria-label=\"S: 500; s: 125; profit_mean: 2227.969\" role=\"graphics-symbol\" aria-roledescription=\"point\" transform=\"translate(100,103.84615384615384)\" d=\"M2.7386127875258306,0A2.7386127875258306,2.7386127875258306,0,1,1,-2.7386127875258306,0A2.7386127875258306,2.7386127875258306,0,1,1,2.7386127875258306,0\" stroke=\"rgb(243, 133, 75)\" stroke-width=\"2\" opacity=\"0.7\"/><path aria-label=\"S: 600; s: 125; profit_mean: 1771.845\" role=\"graphics-symbol\" aria-roledescription=\"point\" transform=\"translate(120,103.84615384615384)\" d=\"M2.7386127875258306,0A2.7386127875258306,2.7386127875258306,0,1,1,-2.7386127875258306,0A2.7386127875258306,2.7386127875258306,0,1,1,2.7386127875258306,0\" stroke=\"rgb(226, 102, 97)\" stroke-width=\"2\" opacity=\"0.7\"/><path aria-label=\"S: 700; s: 125; profit_mean: 1545.762\" role=\"graphics-symbol\" aria-roledescription=\"point\" transform=\"translate(140,103.84615384615384)\" d=\"M2.7386127875258306,0A2.7386127875258306,2.7386127875258306,0,1,1,-2.7386127875258306,0A2.7386127875258306,2.7386127875258306,0,1,1,2.7386127875258306,0\" stroke=\"rgb(216, 88, 107)\" stroke-width=\"2\" opacity=\"0.7\"/><path aria-label=\"S: 800; s: 125; profit_mean: 722.494\" role=\"graphics-symbol\" aria-roledescription=\"point\" transform=\"translate(160,103.84615384615384)\" d=\"M2.7386127875258306,0A2.7386127875258306,2.7386127875258306,0,1,1,-2.7386127875258306,0A2.7386127875258306,2.7386127875258306,0,1,1,2.7386127875258306,0\" stroke=\"rgb(171, 36, 149)\" stroke-width=\"2\" opacity=\"0.7\"/><path aria-label=\"S: 900; s: 125; profit_mean: 59.79\" role=\"graphics-symbol\" aria-roledescription=\"point\" transform=\"translate(180,103.84615384615384)\" d=\"M2.7386127875258306,0A2.7386127875258306,2.7386127875258306,0,1,1,-2.7386127875258306,0A2.7386127875258306,2.7386127875258306,0,1,1,2.7386127875258306,0\" stroke=\"rgb(120, 1, 168)\" stroke-width=\"2\" opacity=\"0.7\"/><path aria-label=\"S: 1000; s: 125; profit_mean: 268.157\" role=\"graphics-symbol\" aria-roledescription=\"point\" transform=\"translate(200,103.84615384615384)\" d=\"M2.7386127875258306,0A2.7386127875258306,2.7386127875258306,0,1,1,-2.7386127875258306,0A2.7386127875258306,2.7386127875258306,0,1,1,2.7386127875258306,0\" stroke=\"rgb(137, 8, 166)\" stroke-width=\"2\" opacity=\"0.7\"/><path aria-label=\"S: 200; s: 150; profit_mean: 1970.987\" role=\"graphics-symbol\" aria-roledescription=\"point\" transform=\"translate(40,84.61538461538463)\" d=\"M2.7386127875258306,0A2.7386127875258306,2.7386127875258306,0,1,1,-2.7386127875258306,0A2.7386127875258306,2.7386127875258306,0,1,1,2.7386127875258306,0\" stroke=\"rgb(234, 116, 87)\" stroke-width=\"2\" opacity=\"0.7\"/><path aria-label=\"S: 300; s: 150; profit_mean: 2671.952\" role=\"graphics-symbol\" aria-roledescription=\"point\" transform=\"translate(60,84.61538461538463)\" d=\"M2.7386127875258306,0A2.7386127875258306,2.7386127875258306,0,1,1,-2.7386127875258306,0A2.7386127875258306,2.7386127875258306,0,1,1,2.7386127875258306,0\" stroke=\"rgb(252, 167, 53)\" stroke-width=\"2\" opacity=\"0.7\"/><path aria-label=\"S: 400; s: 150; profit_mean: 2497.744\" role=\"graphics-symbol\" aria-roledescription=\"point\" transform=\"translate(80,84.61538461538463)\" d=\"M2.7386127875258306,0A2.7386127875258306,2.7386127875258306,0,1,1,-2.7386127875258306,0A2.7386127875258306,2.7386127875258306,0,1,1,2.7386127875258306,0\" stroke=\"rgb(250, 153, 61)\" stroke-width=\"2\" opacity=\"0.7\"/><path aria-label=\"S: 500; s: 150; profit_mean: 2149.314\" role=\"graphics-symbol\" aria-roledescription=\"point\" transform=\"translate(100,84.61538461538463)\" d=\"M2.7386127875258306,0A2.7386127875258306,2.7386127875258306,0,1,1,-2.7386127875258306,0A2.7386127875258306,2.7386127875258306,0,1,1,2.7386127875258306,0\" stroke=\"rgb(240, 128, 78)\" stroke-width=\"2\" opacity=\"0.7\"/><path aria-label=\"S: 600; s: 150; profit_mean: 1814.606\" role=\"graphics-symbol\" aria-roledescription=\"point\" transform=\"translate(120,84.61538461538463)\" d=\"M2.7386127875258306,0A2.7386127875258306,2.7386127875258306,0,1,1,-2.7386127875258306,0A2.7386127875258306,2.7386127875258306,0,1,1,2.7386127875258306,0\" stroke=\"rgb(228, 105, 95)\" stroke-width=\"2\" opacity=\"0.7\"/><path aria-label=\"S: 700; s: 150; profit_mean: 1134.703\" role=\"graphics-symbol\" aria-roledescription=\"point\" transform=\"translate(140,84.61538461538463)\" d=\"M2.7386127875258306,0A2.7386127875258306,2.7386127875258306,0,1,1,-2.7386127875258306,0A2.7386127875258306,2.7386127875258306,0,1,1,2.7386127875258306,0\" stroke=\"rgb(195, 62, 128)\" stroke-width=\"2\" opacity=\"0.7\"/><path aria-label=\"S: 800; s: 150; profit_mean: 737.257\" role=\"graphics-symbol\" aria-roledescription=\"point\" transform=\"translate(160,84.61538461538463)\" d=\"M2.7386127875258306,0A2.7386127875258306,2.7386127875258306,0,1,1,-2.7386127875258306,0A2.7386127875258306,2.7386127875258306,0,1,1,2.7386127875258306,0\" stroke=\"rgb(172, 37, 148)\" stroke-width=\"2\" opacity=\"0.7\"/><path aria-label=\"S: 900; s: 150; profit_mean: −37.01\" role=\"graphics-symbol\" aria-roledescription=\"point\" transform=\"translate(180,84.61538461538463)\" d=\"M2.7386127875258306,0A2.7386127875258306,2.7386127875258306,0,1,1,-2.7386127875258306,0A2.7386127875258306,2.7386127875258306,0,1,1,2.7386127875258306,0\" stroke=\"rgb(112, 0, 168)\" stroke-width=\"2\" opacity=\"0.7\"/><path aria-label=\"S: 1000; s: 150; profit_mean: −236.916\" role=\"graphics-symbol\" aria-roledescription=\"point\" transform=\"translate(200,84.61538461538463)\" d=\"M2.7386127875258306,0A2.7386127875258306,2.7386127875258306,0,1,1,-2.7386127875258306,0A2.7386127875258306,2.7386127875258306,0,1,1,2.7386127875258306,0\" stroke=\"rgb(94, 1, 166)\" stroke-width=\"2\" opacity=\"0.7\"/><path aria-label=\"S: 200; s: 175; profit_mean: 1034.612\" role=\"graphics-symbol\" aria-roledescription=\"point\" transform=\"translate(40,65.38461538461537)\" d=\"M2.7386127875258306,0A2.7386127875258306,2.7386127875258306,0,1,1,-2.7386127875258306,0A2.7386127875258306,2.7386127875258306,0,1,1,2.7386127875258306,0\" stroke=\"rgb(190, 56, 133)\" stroke-width=\"2\" opacity=\"0.7\"/><path aria-label=\"S: 300; s: 175; profit_mean: 2395.316\" role=\"graphics-symbol\" aria-roledescription=\"point\" transform=\"translate(60,65.38461538461537)\" d=\"M2.7386127875258306,0A2.7386127875258306,2.7386127875258306,0,1,1,-2.7386127875258306,0A2.7386127875258306,2.7386127875258306,0,1,1,2.7386127875258306,0\" stroke=\"rgb(247, 146, 66)\" stroke-width=\"2\" opacity=\"0.7\"/><path aria-label=\"S: 400; s: 175; profit_mean: 2297.704\" role=\"graphics-symbol\" aria-roledescription=\"point\" transform=\"translate(80,65.38461538461537)\" d=\"M2.7386127875258306,0A2.7386127875258306,2.7386127875258306,0,1,1,-2.7386127875258306,0A2.7386127875258306,2.7386127875258306,0,1,1,2.7386127875258306,0\" stroke=\"rgb(245, 139, 71)\" stroke-width=\"2\" opacity=\"0.7\"/><path aria-label=\"S: 500; s: 175; profit_mean: 1958.382\" role=\"graphics-symbol\" aria-roledescription=\"point\" transform=\"translate(100,65.38461538461537)\" d=\"M2.7386127875258306,0A2.7386127875258306,2.7386127875258306,0,1,1,-2.7386127875258306,0A2.7386127875258306,2.7386127875258306,0,1,1,2.7386127875258306,0\" stroke=\"rgb(234, 115, 88)\" stroke-width=\"2\" opacity=\"0.7\"/><path aria-label=\"S: 600; s: 175; profit_mean: 1649.59\" role=\"graphics-symbol\" aria-roledescription=\"point\" transform=\"translate(120,65.38461538461537)\" d=\"M2.7386127875258306,0A2.7386127875258306,2.7386127875258306,0,1,1,-2.7386127875258306,0A2.7386127875258306,2.7386127875258306,0,1,1,2.7386127875258306,0\" stroke=\"rgb(221, 94, 102)\" stroke-width=\"2\" opacity=\"0.7\"/><path aria-label=\"S: 700; s: 175; profit_mean: 917.809\" role=\"graphics-symbol\" aria-roledescription=\"point\" transform=\"translate(140,65.38461538461537)\" d=\"M2.7386127875258306,0A2.7386127875258306,2.7386127875258306,0,1,1,-2.7386127875258306,0A2.7386127875258306,2.7386127875258306,0,1,1,2.7386127875258306,0\" stroke=\"rgb(183, 48, 139)\" stroke-width=\"2\" opacity=\"0.7\"/><path aria-label=\"S: 800; s: 175; profit_mean: 725.958\" role=\"graphics-symbol\" aria-roledescription=\"point\" transform=\"translate(160,65.38461538461537)\" d=\"M2.7386127875258306,0A2.7386127875258306,2.7386127875258306,0,1,1,-2.7386127875258306,0A2.7386127875258306,2.7386127875258306,0,1,1,2.7386127875258306,0\" stroke=\"rgb(171, 36, 149)\" stroke-width=\"2\" opacity=\"0.7\"/><path aria-label=\"S: 900; s: 175; profit_mean: −147.615\" role=\"graphics-symbol\" aria-roledescription=\"point\" transform=\"translate(180,65.38461538461537)\" d=\"M2.7386127875258306,0A2.7386127875258306,2.7386127875258306,0,1,1,-2.7386127875258306,0A2.7386127875258306,2.7386127875258306,0,1,1,2.7386127875258306,0\" stroke=\"rgb(102, 0, 167)\" stroke-width=\"2\" opacity=\"0.7\"/><path aria-label=\"S: 1000; s: 175; profit_mean: −507.847\" role=\"graphics-symbol\" aria-roledescription=\"point\" transform=\"translate(200,65.38461538461537)\" d=\"M2.7386127875258306,0A2.7386127875258306,2.7386127875258306,0,1,1,-2.7386127875258306,0A2.7386127875258306,2.7386127875258306,0,1,1,2.7386127875258306,0\" stroke=\"rgb(71, 3, 159)\" stroke-width=\"2\" opacity=\"0.7\"/><path aria-label=\"S: 300; s: 200; profit_mean: 2051.976\" role=\"graphics-symbol\" aria-roledescription=\"point\" transform=\"translate(60,46.153846153846146)\" d=\"M2.7386127875258306,0A2.7386127875258306,2.7386127875258306,0,1,1,-2.7386127875258306,0A2.7386127875258306,2.7386127875258306,0,1,1,2.7386127875258306,0\" stroke=\"rgb(237, 121, 83)\" stroke-width=\"2\" opacity=\"0.7\"/><path aria-label=\"S: 400; s: 200; profit_mean: 2142.908\" role=\"graphics-symbol\" aria-roledescription=\"point\" transform=\"translate(80,46.153846153846146)\" d=\"M2.7386127875258306,0A2.7386127875258306,2.7386127875258306,0,1,1,-2.7386127875258306,0A2.7386127875258306,2.7386127875258306,0,1,1,2.7386127875258306,0\" stroke=\"rgb(240, 127, 79)\" stroke-width=\"2\" opacity=\"0.7\"/><path aria-label=\"S: 500; s: 200; profit_mean: 1773.413\" role=\"graphics-symbol\" aria-roledescription=\"point\" transform=\"translate(100,46.153846153846146)\" d=\"M2.7386127875258306,0A2.7386127875258306,2.7386127875258306,0,1,1,-2.7386127875258306,0A2.7386127875258306,2.7386127875258306,0,1,1,2.7386127875258306,0\" stroke=\"rgb(226, 102, 96)\" stroke-width=\"2\" opacity=\"0.7\"/><path aria-label=\"S: 600; s: 200; profit_mean: 1365.214\" role=\"graphics-symbol\" aria-roledescription=\"point\" transform=\"translate(120,46.153846153846146)\" d=\"M2.7386127875258306,0A2.7386127875258306,2.7386127875258306,0,1,1,-2.7386127875258306,0A2.7386127875258306,2.7386127875258306,0,1,1,2.7386127875258306,0\" stroke=\"rgb(207, 77, 117)\" stroke-width=\"2\" opacity=\"0.7\"/><path aria-label=\"S: 700; s: 200; profit_mean: 807.732\" role=\"graphics-symbol\" aria-roledescription=\"point\" transform=\"translate(140,46.153846153846146)\" d=\"M2.7386127875258306,0A2.7386127875258306,2.7386127875258306,0,1,1,-2.7386127875258306,0A2.7386127875258306,2.7386127875258306,0,1,1,2.7386127875258306,0\" stroke=\"rgb(176, 41, 145)\" stroke-width=\"2\" opacity=\"0.7\"/><path aria-label=\"S: 800; s: 200; profit_mean: 690.907\" role=\"graphics-symbol\" aria-roledescription=\"point\" transform=\"translate(160,46.153846153846146)\" d=\"M2.7386127875258306,0A2.7386127875258306,2.7386127875258306,0,1,1,-2.7386127875258306,0A2.7386127875258306,2.7386127875258306,0,1,1,2.7386127875258306,0\" stroke=\"rgb(169, 34, 151)\" stroke-width=\"2\" opacity=\"0.7\"/><path aria-label=\"S: 900; s: 200; profit_mean: −141.55\" role=\"graphics-symbol\" aria-roledescription=\"point\" transform=\"translate(180,46.153846153846146)\" d=\"M2.7386127875258306,0A2.7386127875258306,2.7386127875258306,0,1,1,-2.7386127875258306,0A2.7386127875258306,2.7386127875258306,0,1,1,2.7386127875258306,0\" stroke=\"rgb(102, 0, 167)\" stroke-width=\"2\" opacity=\"0.7\"/><path aria-label=\"S: 1000; s: 200; profit_mean: −772.374\" role=\"graphics-symbol\" aria-roledescription=\"point\" transform=\"translate(200,46.153846153846146)\" d=\"M2.7386127875258306,0A2.7386127875258306,2.7386127875258306,0,1,1,-2.7386127875258306,0A2.7386127875258306,2.7386127875258306,0,1,1,2.7386127875258306,0\" stroke=\"rgb(45, 5, 148)\" stroke-width=\"2\" opacity=\"0.7\"/><path aria-label=\"S: 300; s: 225; profit_mean: 1663.152\" role=\"graphics-symbol\" aria-roledescription=\"point\" transform=\"translate(60,26.923076923076916)\" d=\"M2.7386127875258306,0A2.7386127875258306,2.7386127875258306,0,1,1,-2.7386127875258306,0A2.7386127875258306,2.7386127875258306,0,1,1,2.7386127875258306,0\" stroke=\"rgb(221, 95, 102)\" stroke-width=\"2\" opacity=\"0.7\"/><path aria-label=\"S: 400; s: 225; profit_mean: 1930.973\" role=\"graphics-symbol\" aria-roledescription=\"point\" transform=\"translate(80,26.923076923076916)\" d=\"M2.7386127875258306,0A2.7386127875258306,2.7386127875258306,0,1,1,-2.7386127875258306,0A2.7386127875258306,2.7386127875258306,0,1,1,2.7386127875258306,0\" stroke=\"rgb(232, 113, 89)\" stroke-width=\"2\" opacity=\"0.7\"/><path aria-label=\"S: 500; s: 225; profit_mean: 1677.326\" role=\"graphics-symbol\" aria-roledescription=\"point\" transform=\"translate(100,26.923076923076916)\" d=\"M2.7386127875258306,0A2.7386127875258306,2.7386127875258306,0,1,1,-2.7386127875258306,0A2.7386127875258306,2.7386127875258306,0,1,1,2.7386127875258306,0\" stroke=\"rgb(222, 96, 101)\" stroke-width=\"2\" opacity=\"0.7\"/><path aria-label=\"S: 600; s: 225; profit_mean: 1233.007\" role=\"graphics-symbol\" aria-roledescription=\"point\" transform=\"translate(120,26.923076923076916)\" d=\"M2.7386127875258306,0A2.7386127875258306,2.7386127875258306,0,1,1,-2.7386127875258306,0A2.7386127875258306,2.7386127875258306,0,1,1,2.7386127875258306,0\" stroke=\"rgb(201, 68, 123)\" stroke-width=\"2\" opacity=\"0.7\"/><path aria-label=\"S: 700; s: 225; profit_mean: 808.23\" role=\"graphics-symbol\" aria-roledescription=\"point\" transform=\"translate(140,26.923076923076916)\" d=\"M2.7386127875258306,0A2.7386127875258306,2.7386127875258306,0,1,1,-2.7386127875258306,0A2.7386127875258306,2.7386127875258306,0,1,1,2.7386127875258306,0\" stroke=\"rgb(176, 41, 145)\" stroke-width=\"2\" opacity=\"0.7\"/><path aria-label=\"S: 800; s: 225; profit_mean: 534.7\" role=\"graphics-symbol\" aria-roledescription=\"point\" transform=\"translate(160,26.923076923076916)\" d=\"M2.7386127875258306,0A2.7386127875258306,2.7386127875258306,0,1,1,-2.7386127875258306,0A2.7386127875258306,2.7386127875258306,0,1,1,2.7386127875258306,0\" stroke=\"rgb(157, 24, 157)\" stroke-width=\"2\" opacity=\"0.7\"/><path aria-label=\"S: 900; s: 225; profit_mean: −243.113\" role=\"graphics-symbol\" aria-roledescription=\"point\" transform=\"translate(180,26.923076923076916)\" d=\"M2.7386127875258306,0A2.7386127875258306,2.7386127875258306,0,1,1,-2.7386127875258306,0A2.7386127875258306,2.7386127875258306,0,1,1,2.7386127875258306,0\" stroke=\"rgb(94, 1, 166)\" stroke-width=\"2\" opacity=\"0.7\"/><path aria-label=\"S: 1000; s: 225; profit_mean: −954.18\" role=\"graphics-symbol\" aria-roledescription=\"point\" transform=\"translate(200,26.923076923076916)\" d=\"M2.7386127875258306,0A2.7386127875258306,2.7386127875258306,0,1,1,-2.7386127875258306,0A2.7386127875258306,2.7386127875258306,0,1,1,2.7386127875258306,0\" stroke=\"rgb(22, 7, 139)\" stroke-width=\"2\" opacity=\"0.7\"/><path aria-label=\"S: 300; s: 250; profit_mean: 1026.938\" role=\"graphics-symbol\" aria-roledescription=\"point\" transform=\"translate(60,7.692307692307687)\" d=\"M2.7386127875258306,0A2.7386127875258306,2.7386127875258306,0,1,1,-2.7386127875258306,0A2.7386127875258306,2.7386127875258306,0,1,1,2.7386127875258306,0\" stroke=\"rgb(189, 55, 133)\" stroke-width=\"2\" opacity=\"0.7\"/><path aria-label=\"S: 400; s: 250; profit_mean: 1651.143\" role=\"graphics-symbol\" aria-roledescription=\"point\" transform=\"translate(80,7.692307692307687)\" d=\"M2.7386127875258306,0A2.7386127875258306,2.7386127875258306,0,1,1,-2.7386127875258306,0A2.7386127875258306,2.7386127875258306,0,1,1,2.7386127875258306,0\" stroke=\"rgb(221, 94, 102)\" stroke-width=\"2\" opacity=\"0.7\"/><path aria-label=\"S: 500; s: 250; profit_mean: 1488.851\" role=\"graphics-symbol\" aria-roledescription=\"point\" transform=\"translate(100,7.692307692307687)\" d=\"M2.7386127875258306,0A2.7386127875258306,2.7386127875258306,0,1,1,-2.7386127875258306,0A2.7386127875258306,2.7386127875258306,0,1,1,2.7386127875258306,0\" stroke=\"rgb(214, 84, 110)\" stroke-width=\"2\" opacity=\"0.7\"/><path aria-label=\"S: 600; s: 250; profit_mean: 1213.382\" role=\"graphics-symbol\" aria-roledescription=\"point\" transform=\"translate(120,7.692307692307687)\" d=\"M2.7386127875258306,0A2.7386127875258306,2.7386127875258306,0,1,1,-2.7386127875258306,0A2.7386127875258306,2.7386127875258306,0,1,1,2.7386127875258306,0\" stroke=\"rgb(200, 67, 124)\" stroke-width=\"2\" opacity=\"0.7\"/><path aria-label=\"S: 700; s: 250; profit_mean: 799.033\" role=\"graphics-symbol\" aria-roledescription=\"point\" transform=\"translate(140,7.692307692307687)\" d=\"M2.7386127875258306,0A2.7386127875258306,2.7386127875258306,0,1,1,-2.7386127875258306,0A2.7386127875258306,2.7386127875258306,0,1,1,2.7386127875258306,0\" stroke=\"rgb(176, 41, 145)\" stroke-width=\"2\" opacity=\"0.7\"/><path aria-label=\"S: 800; s: 250; profit_mean: 168.525\" role=\"graphics-symbol\" aria-roledescription=\"point\" transform=\"translate(160,7.692307692307687)\" d=\"M2.7386127875258306,0A2.7386127875258306,2.7386127875258306,0,1,1,-2.7386127875258306,0A2.7386127875258306,2.7386127875258306,0,1,1,2.7386127875258306,0\" stroke=\"rgb(129, 4, 167)\" stroke-width=\"2\" opacity=\"0.7\"/><path aria-label=\"S: 900; s: 250; profit_mean: −275.165\" role=\"graphics-symbol\" aria-roledescription=\"point\" transform=\"translate(180,7.692307692307687)\" d=\"M2.7386127875258306,0A2.7386127875258306,2.7386127875258306,0,1,1,-2.7386127875258306,0A2.7386127875258306,2.7386127875258306,0,1,1,2.7386127875258306,0\" stroke=\"rgb(91, 1, 165)\" stroke-width=\"2\" opacity=\"0.7\"/><path aria-label=\"S: 1000; s: 250; profit_mean: −1019.128\" role=\"graphics-symbol\" aria-roledescription=\"point\" transform=\"translate(200,7.692307692307687)\" d=\"M2.7386127875258306,0A2.7386127875258306,2.7386127875258306,0,1,1,-2.7386127875258306,0A2.7386127875258306,2.7386127875258306,0,1,1,2.7386127875258306,0\" stroke=\"rgb(13, 8, 135)\" stroke-width=\"2\" opacity=\"0.7\"/></g><g class=\"mark-group role-legend\" role=\"graphics-symbol\" aria-roledescription=\"legend\" aria-label=\"Gradient legend titled 'profit_mean' for stroke color with values from −1,019 to 3,580\"><g transform=\"translate(218,0)\"><path class=\"background\" aria-hidden=\"true\" d=\"M0,0h64v221h-64Z\" pointer-events=\"none\"/><g><g class=\"mark-group role-legend-entry\"><g transform=\"translate(0,16)\"><path class=\"background\" aria-hidden=\"true\" d=\"M0,0h0v0h0Z\" pointer-events=\"none\"/><g><g class=\"mark-rect role-legend-gradient\" pointer-events=\"none\"><path d=\"M0,0h16v200h-16Z\" fill=\"url(#gradient_0)\" stroke=\"#ddd\" stroke-width=\"0\" opacity=\"0.7\"/></g><g class=\"mark-text role-legend-label\" pointer-events=\"none\"><text text-anchor=\"start\" transform=\"translate(18,202.16815324628107)\" font-family=\"sans-serif\" font-size=\"10px\" fill=\"#000\" opacity=\"1\">−1,000</text><text text-anchor=\"start\" transform=\"translate(18,158.67971986490755)\" font-family=\"sans-serif\" font-size=\"10px\" fill=\"#000\" opacity=\"1\">0</text><text text-anchor=\"start\" transform=\"translate(18,115.19128648353399)\" font-family=\"sans-serif\" font-size=\"10px\" fill=\"#000\" opacity=\"1\">1,000</text><text text-anchor=\"start\" transform=\"translate(18,71.70285310216045)\" font-family=\"sans-serif\" font-size=\"10px\" fill=\"#000\" opacity=\"1\">2,000</text><text text-anchor=\"start\" transform=\"translate(18,28.214419720786886)\" font-family=\"sans-serif\" font-size=\"10px\" fill=\"#000\" opacity=\"1\">3,000</text></g></g><path class=\"foreground\" aria-hidden=\"true\" d=\"\" pointer-events=\"none\" display=\"none\"/></g></g><g class=\"mark-text role-legend-title\" pointer-events=\"none\"><text text-anchor=\"start\" transform=\"translate(0,9)\" font-family=\"sans-serif\" font-size=\"11px\" font-weight=\"bold\" fill=\"#000\" opacity=\"1\">profit_mean</text></g></g><path class=\"foreground\" aria-hidden=\"true\" d=\"\" pointer-events=\"none\" display=\"none\"/></g></g></g><path class=\"foreground\" aria-hidden=\"true\" d=\"\" display=\"none\"/></g></g></g><defs><linearGradient id=\"gradient_0\" x1=\"0\" x2=\"0\" y1=\"1\" y2=\"0\"><stop offset=\"0\" stop-color=\"rgb(13, 8, 135)\"/><stop offset=\"0.0041592337685946\" stop-color=\"rgb(16, 8, 136)\"/><stop offset=\"0.04764766714996815\" stop-color=\"rgb(42, 6, 147)\"/><stop offset=\"0.09113610053134169\" stop-color=\"rgb(62, 4, 155)\"/><stop offset=\"0.13462453391271526\" stop-color=\"rgb(81, 2, 162)\"/><stop offset=\"0.1781129672940888\" stop-color=\"rgb(97, 1, 167)\"/><stop offset=\"0.22160140067546233\" stop-color=\"rgb(115, 1, 168)\"/><stop offset=\"0.2650898340568359\" stop-color=\"rgb(131, 5, 167)\"/><stop offset=\"0.30857826743820943\" stop-color=\"rgb(147, 16, 162)\"/><stop offset=\"0.35206670081958297\" stop-color=\"rgb(162, 29, 155)\"/><stop offset=\"0.3955551342009565\" stop-color=\"rgb(176, 41, 145)\"/><stop offset=\"0.4390435675823301\" stop-color=\"rgb(188, 54, 135)\"/><stop offset=\"0.48253200096370363\" stop-color=\"rgb(199, 66, 125)\"/><stop offset=\"0.5260204343450772\" stop-color=\"rgb(209, 79, 115)\"/><stop offset=\"0.5695088677264507\" stop-color=\"rgb(219, 91, 104)\"/><stop offset=\"0.6129973011078242\" stop-color=\"rgb(227, 104, 95)\"/><stop offset=\"0.6564857344891978\" stop-color=\"rgb(235, 118, 85)\"/><stop offset=\"0.6999741678705713\" stop-color=\"rgb(242, 131, 76)\"/><stop offset=\"0.743462601251945\" stop-color=\"rgb(247, 146, 66)\"/><stop offset=\"0.7869510346333185\" stop-color=\"rgb(251, 161, 57)\"/><stop offset=\"0.830439468014692\" stop-color=\"rgb(253, 178, 48)\"/><stop offset=\"0.8739279013960656\" stop-color=\"rgb(254, 195, 40)\"/><stop offset=\"0.9174163347774392\" stop-color=\"rgb(250, 213, 36)\"/><stop offset=\"0.9609047681588128\" stop-color=\"rgb(246, 232, 38)\"/><stop offset=\"1\" stop-color=\"rgb(240, 249, 33)\"/></linearGradient></defs></svg>\n"
      ],
      "text/plain": [
       "@vlplot(\n",
       "    mark=\"point\",\n",
       "    encoding={\n",
       "        x={\n",
       "            field=\"S\"\n",
       "        },\n",
       "        y={\n",
       "            field=\"s\"\n",
       "        },\n",
       "        color={\n",
       "            scale={\n",
       "                scheme=\"plasma\"\n",
       "            },\n",
       "            field=\"profit_mean\"\n",
       "        }\n",
       "    },\n",
       "    data={\n",
       "        values=...\n",
       "    }\n",
       ")"
      ]
     },
     "metadata": {},
     "output_type": "display_data"
    }
   ],
   "source": [
    "# using PyPlot\n",
    "# using PyCall \n",
    "\n",
    "using VegaLite\n",
    "df |> @vlplot(:point, x=:S, y=:s, color={:profit_mean, scale={scheme=:plasma}})\n",
    "\n",
    "# scatter(df.S[more500],\n",
    "#         df.s[more500], \n",
    "#         c=df.profit_mean[more500] )\n",
    "# xlabel(\"S - target wharehouse stock \")\n",
    "# ylabel(\"s - reorder point\")\n",
    "# colorbar()\n",
    "# title(\"Profits\")\n",
    "\n",
    "# scatter(df.S[Not(more500)],\n",
    "#         df.s[Not(more500)], \n",
    "#         c=\"gray\")\n",
    "# show()"
   ]
  },
  {
   "cell_type": "code",
   "execution_count": 20,
   "metadata": {},
   "outputs": [
    {
     "data": {
      "application/vnd.vegalite.v4+json": {
       "data": {
        "values": [
         {
          "N": 100,
          "S": 100,
          "lost_mean": 216.66,
          "lost_std": 86.9470081269173,
          "m": 90,
          "profit_mean": 2971.249,
          "profit_std": 187.95520554621308,
          "s": 25
         },
         {
          "N": 100,
          "S": 200,
          "lost_mean": 118.92,
          "lost_std": 62.04913009426116,
          "m": 90,
          "profit_mean": 3579.7960000000003,
          "profit_std": 143.17221100493074,
          "s": 25
         },
         {
          "N": 100,
          "S": 300,
          "lost_mean": 81.2,
          "lost_std": 61.18988495006359,
          "m": 90,
          "profit_mean": 3488.4050000000007,
          "profit_std": 233.74275784168026,
          "s": 25
         },
         {
          "N": 100,
          "S": 400,
          "lost_mean": 60.11,
          "lost_std": 45.893793731073295,
          "m": 90,
          "profit_mean": 3081.231,
          "profit_std": 179.82085119429956,
          "s": 25
         },
         {
          "N": 100,
          "S": 500,
          "lost_mean": 50.72,
          "lost_std": 46.57742115678112,
          "m": 90,
          "profit_mean": 2630.7940000000003,
          "profit_std": 167.02355959141173,
          "s": 25
         },
         {
          "N": 100,
          "S": 600,
          "lost_mean": 34.57,
          "lost_std": 38.67169638133426,
          "m": 90,
          "profit_mean": 2546.72,
          "profit_std": 258.4702663477147,
          "s": 25
         },
         {
          "N": 100,
          "S": 700,
          "lost_mean": 33.52,
          "lost_std": 31.946128897178628,
          "m": 90,
          "profit_mean": 1683.641,
          "profit_std": 168.93935442559678,
          "s": 25
         },
         {
          "N": 100,
          "S": 800,
          "lost_mean": 32.05,
          "lost_std": 34.9673368511908,
          "m": 90,
          "profit_mean": 1200.9729999999995,
          "profit_std": 281.1663826245624,
          "s": 25
         },
         {
          "N": 100,
          "S": 900,
          "lost_mean": 30.45,
          "lost_std": 37.83360031944242,
          "m": 90,
          "profit_mean": 1367.398,
          "profit_std": 302.58799637711195,
          "s": 25
         },
         {
          "N": 100,
          "S": 1000,
          "lost_mean": 24.22,
          "lost_std": 28.795194604711952,
          "m": 90,
          "profit_mean": 419.79099999999994,
          "profit_std": 221.17033158800362,
          "s": 25
         },
         {
          "N": 100,
          "S": 100,
          "lost_mean": 118.74,
          "lost_std": 73.54756861028683,
          "m": 90,
          "profit_mean": 2661.4039999999995,
          "profit_std": 141.7369971019379,
          "s": 50
         },
         {
          "N": 100,
          "S": 200,
          "lost_mean": 49.21,
          "lost_std": 49.32602218552054,
          "m": 90,
          "profit_mean": 3534.3150000000005,
          "profit_std": 159.41803592055612,
          "s": 50
         },
         {
          "N": 100,
          "S": 300,
          "lost_mean": 44.28,
          "lost_std": 55.60249976213282,
          "m": 90,
          "profit_mean": 3394.5560000000005,
          "profit_std": 188.26334141625162,
          "s": 50
         },
         {
          "N": 100,
          "S": 400,
          "lost_mean": 37.86,
          "lost_std": 48.17833454149198,
          "m": 90,
          "profit_mean": 3061.301,
          "profit_std": 190.8767143996355,
          "s": 50
         },
         {
          "N": 100,
          "S": 500,
          "lost_mean": 21.04,
          "lost_std": 31.871243490271315,
          "m": 90,
          "profit_mean": 2721.5890000000004,
          "profit_std": 214.69375882823894,
          "s": 50
         },
         {
          "N": 100,
          "S": 600,
          "lost_mean": 16.11,
          "lost_std": 27.825173908356856,
          "m": 90,
          "profit_mean": 2407.2490000000003,
          "profit_std": 282.0750023817901,
          "s": 50
         },
         {
          "N": 100,
          "S": 700,
          "lost_mean": 20.11,
          "lost_std": 29.26745184285331,
          "m": 90,
          "profit_mean": 1642.6039999999996,
          "profit_std": 171.262618893625,
          "s": 50
         },
         {
          "N": 100,
          "S": 800,
          "lost_mean": 18.19,
          "lost_std": 32.82481661576475,
          "m": 90,
          "profit_mean": 1014.0949999999997,
          "profit_std": 189.3099048538073,
          "s": 50
         },
         {
          "N": 100,
          "S": 900,
          "lost_mean": 13.63,
          "lost_std": 25.355912983608448,
          "m": 90,
          "profit_mean": 1231.521,
          "profit_std": 324.8279520660658,
          "s": 50
         },
         {
          "N": 100,
          "S": 1000,
          "lost_mean": 9.96,
          "lost_std": 26.49868302425994,
          "m": 90,
          "profit_mean": 435.7709999999998,
          "profit_std": 259.2438944840799,
          "s": 50
         },
         {
          "N": 100,
          "S": 100,
          "lost_mean": 74.03,
          "lost_std": 56.146355467859465,
          "m": 90,
          "profit_mean": 1855.157,
          "profit_std": 251.1118521172137,
          "s": 75
         },
         {
          "N": 100,
          "S": 200,
          "lost_mean": 24.44,
          "lost_std": 32.929468550067725,
          "m": 90,
          "profit_mean": 3346.4440000000004,
          "profit_std": 164.15197769694447,
          "s": 75
         },
         {
          "N": 100,
          "S": 300,
          "lost_mean": 14.97,
          "lost_std": 26.357853946147905,
          "m": 90,
          "profit_mean": 3300.2020000000007,
          "profit_std": 171.81134943285713,
          "s": 75
         },
         {
          "N": 100,
          "S": 400,
          "lost_mean": 6.17,
          "lost_std": 14.591442766916574,
          "m": 90,
          "profit_mean": 3035.6479999999997,
          "profit_std": 209.69590559723002,
          "s": 75
         },
         {
          "N": 100,
          "S": 500,
          "lost_mean": 7.34,
          "lost_std": 24.491276533954412,
          "m": 90,
          "profit_mean": 2687.4680000000003,
          "profit_std": 239.6288636600147,
          "s": 75
         },
         {
          "N": 100,
          "S": 600,
          "lost_mean": 9.68,
          "lost_std": 26.735849651089385,
          "m": 90,
          "profit_mean": 2028.0840000000003,
          "profit_std": 263.90170986313603,
          "s": 75
         },
         {
          "N": 100,
          "S": 700,
          "lost_mean": 7.85,
          "lost_std": 21.5417729028504,
          "m": 90,
          "profit_mean": 1678.705,
          "profit_std": 207.2270415327696,
          "s": 75
         },
         {
          "N": 100,
          "S": 800,
          "lost_mean": 11.43,
          "lost_std": 24.390449778633442,
          "m": 90,
          "profit_mean": 914.724,
          "profit_std": 153.53444592288884,
          "s": 75
         },
         {
          "N": 100,
          "S": 900,
          "lost_mean": 4.52,
          "lost_std": 15.272263100209486,
          "m": 90,
          "profit_mean": 682.4799999999997,
          "profit_std": 435.9574175294989,
          "s": 75
         },
         {
          "N": 100,
          "S": 1000,
          "lost_mean": 3.27,
          "lost_std": 14.687901294754278,
          "m": 90,
          "profit_mean": 439.6809999999997,
          "profit_std": 268.44414639988645,
          "s": 75
         },
         {
          "N": 100,
          "S": 200,
          "lost_mean": 20.08,
          "lost_std": 32.71909213133809,
          "m": 90,
          "profit_mean": 3020.23,
          "profit_std": 160.12806900992885,
          "s": 100
         },
         {
          "N": 100,
          "S": 300,
          "lost_mean": 5.76,
          "lost_std": 15.6276884555793,
          "m": 90,
          "profit_mean": 3120.251,
          "profit_std": 168.18128836635097,
          "s": 100
         },
         {
          "N": 100,
          "S": 400,
          "lost_mean": 6.26,
          "lost_std": 17.33486007262169,
          "m": 90,
          "profit_mean": 2795.2369999999996,
          "profit_std": 187.47999362894984,
          "s": 100
         },
         {
          "N": 100,
          "S": 500,
          "lost_mean": 5.26,
          "lost_std": 26.617993458515535,
          "m": 90,
          "profit_mean": 2386.138,
          "profit_std": 263.08043889520366,
          "s": 100
         },
         {
          "N": 100,
          "S": 600,
          "lost_mean": 2.97,
          "lost_std": 13.148303266500925,
          "m": 90,
          "profit_mean": 1828.5710000000001,
          "profit_std": 170.44090969001425,
          "s": 100
         },
         {
          "N": 100,
          "S": 700,
          "lost_mean": 0.49,
          "lost_std": 2.7135834893246518,
          "m": 90,
          "profit_mean": 1683.693,
          "profit_std": 251.01191378019482,
          "s": 100
         },
         {
          "N": 100,
          "S": 800,
          "lost_mean": 5.79,
          "lost_std": 19.27802695382292,
          "m": 90,
          "profit_mean": 814.0609999999998,
          "profit_std": 186.53830266898606,
          "s": 100
         },
         {
          "N": 100,
          "S": 900,
          "lost_mean": 2.51,
          "lost_std": 7.848946400374996,
          "m": 90,
          "profit_mean": 293.36999999999983,
          "profit_std": 355.2029320392681,
          "s": 100
         },
         {
          "N": 100,
          "S": 1000,
          "lost_mean": 2.53,
          "lost_std": 12.014683777054906,
          "m": 90,
          "profit_mean": 428.6849999999998,
          "profit_std": 255.33067344725794,
          "s": 100
         },
         {
          "N": 100,
          "S": 200,
          "lost_mean": 9.32,
          "lost_std": 21.774268940168533,
          "m": 90,
          "profit_mean": 2615.4799999999996,
          "profit_std": 187.355158870941,
          "s": 125
         },
         {
          "N": 100,
          "S": 300,
          "lost_mean": 2.89,
          "lost_std": 12.867541970541087,
          "m": 90,
          "profit_mean": 2913.112,
          "profit_std": 175.10721811034347,
          "s": 125
         },
         {
          "N": 100,
          "S": 400,
          "lost_mean": 4.37,
          "lost_std": 18.413683427650682,
          "m": 90,
          "profit_mean": 2680.0350000000008,
          "profit_std": 174.42341978268527,
          "s": 125
         },
         {
          "N": 100,
          "S": 500,
          "lost_mean": 3.27,
          "lost_std": 18.34619658929144,
          "m": 90,
          "profit_mean": 2227.969,
          "profit_std": 205.2709747375331,
          "s": 125
         },
         {
          "N": 100,
          "S": 600,
          "lost_mean": 0.92,
          "lost_std": 5.364831231400866,
          "m": 90,
          "profit_mean": 1771.845,
          "profit_std": 161.99935613726643,
          "s": 125
         },
         {
          "N": 100,
          "S": 700,
          "lost_mean": 0.75,
          "lost_std": 6.1272285164607085,
          "m": 90,
          "profit_mean": 1545.7620000000002,
          "profit_std": 273.75956743762646,
          "s": 125
         },
         {
          "N": 100,
          "S": 800,
          "lost_mean": 2.17,
          "lost_std": 11.349413725791825,
          "m": 90,
          "profit_mean": 722.4939999999998,
          "profit_std": 207.39437171288384,
          "s": 125
         },
         {
          "N": 100,
          "S": 900,
          "lost_mean": 1.94,
          "lost_std": 8.282658042103648,
          "m": 90,
          "profit_mean": 59.789999999999836,
          "profit_std": 220.4234160048163,
          "s": 125
         },
         {
          "N": 100,
          "S": 1000,
          "lost_mean": 1.12,
          "lost_std": 8.359691647689191,
          "m": 90,
          "profit_mean": 268.1569999999998,
          "profit_std": 409.5952826963107,
          "s": 125
         },
         {
          "N": 100,
          "S": 200,
          "lost_mean": 1.83,
          "lost_std": 7.363649457526704,
          "m": 90,
          "profit_mean": 1970.987,
          "profit_std": 248.1636767042137,
          "s": 150
         },
         {
          "N": 100,
          "S": 300,
          "lost_mean": 2.02,
          "lost_std": 8.678290573190507,
          "m": 90,
          "profit_mean": 2671.952,
          "profit_std": 166.81307961701663,
          "s": 150
         },
         {
          "N": 100,
          "S": 400,
          "lost_mean": 1.22,
          "lost_std": 6.331865858696413,
          "m": 90,
          "profit_mean": 2497.744,
          "profit_std": 185.28499223486705,
          "s": 150
         },
         {
          "N": 100,
          "S": 500,
          "lost_mean": 0.56,
          "lost_std": 3.30386978489703,
          "m": 90,
          "profit_mean": 2149.314,
          "profit_std": 210.26386982440738,
          "s": 150
         },
         {
          "N": 100,
          "S": 600,
          "lost_mean": 1.99,
          "lost_std": 10.519337652460095,
          "m": 90,
          "profit_mean": 1814.606,
          "profit_std": 190.31460281450927,
          "s": 150
         },
         {
          "N": 100,
          "S": 700,
          "lost_mean": 0.28,
          "lost_std": 1.9698741179080554,
          "m": 90,
          "profit_mean": 1134.7029999999995,
          "profit_std": 327.16855769224566,
          "s": 150
         },
         {
          "N": 100,
          "S": 800,
          "lost_mean": 1.81,
          "lost_std": 10.048061273376836,
          "m": 90,
          "profit_mean": 737.2569999999998,
          "profit_std": 205.53083833347395,
          "s": 150
         },
         {
          "N": 100,
          "S": 900,
          "lost_mean": 0.44,
          "lost_std": 3.2108402248469083,
          "m": 90,
          "profit_mean": -37.010000000000225,
          "profit_std": 181.72357657395006,
          "s": 150
         },
         {
          "N": 100,
          "S": 1000,
          "lost_mean": 1.6,
          "lost_std": 8.836334538755771,
          "m": 90,
          "profit_mean": -236.9160000000002,
          "profit_std": 504.6193942713135,
          "s": 150
         },
         {
          "N": 100,
          "S": 200,
          "lost_mean": 3.27,
          "lost_std": 12.657775986692645,
          "m": 90,
          "profit_mean": 1034.612,
          "profit_std": 341.1812309899212,
          "s": 175
         },
         {
          "N": 100,
          "S": 300,
          "lost_mean": 0.71,
          "lost_std": 3.7180830294846046,
          "m": 90,
          "profit_mean": 2395.3160000000003,
          "profit_std": 204.57018391118135,
          "s": 175
         },
         {
          "N": 100,
          "S": 400,
          "lost_mean": 1.75,
          "lost_std": 12.90632528348919,
          "m": 90,
          "profit_mean": 2297.704,
          "profit_std": 193.6575880206604,
          "s": 175
         },
         {
          "N": 100,
          "S": 500,
          "lost_mean": 0.36,
          "lost_std": 3.5999999999999996,
          "m": 90,
          "profit_mean": 1958.382,
          "profit_std": 253.70202213692272,
          "s": 175
         },
         {
          "N": 100,
          "S": 600,
          "lost_mean": 0.67,
          "lost_std": 4.290122552462986,
          "m": 90,
          "profit_mean": 1649.5899999999997,
          "profit_std": 249.80461192983236,
          "s": 175
         },
         {
          "N": 100,
          "S": 700,
          "lost_mean": 0.02,
          "lost_std": 0.19999999999999998,
          "m": 90,
          "profit_mean": 917.8089999999997,
          "profit_std": 235.50629625287615,
          "s": 175
         },
         {
          "N": 100,
          "S": 800,
          "lost_mean": 1.83,
          "lost_std": 11.84159336125563,
          "m": 90,
          "profit_mean": 725.9579999999999,
          "profit_std": 225.62798745552894,
          "s": 175
         },
         {
          "N": 100,
          "S": 900,
          "lost_mean": 1.06,
          "lost_std": 10.600000000000003,
          "m": 90,
          "profit_mean": -147.6150000000002,
          "profit_std": 192.0369200482453,
          "s": 175
         },
         {
          "N": 100,
          "S": 1000,
          "lost_mean": 1.49,
          "lost_std": 9.630019352383082,
          "m": 90,
          "profit_mean": -507.8470000000002,
          "profit_std": 446.96536585482477,
          "s": 175
         },
         {
          "N": 100,
          "S": 300,
          "lost_mean": 0.68,
          "lost_std": 6.5007847234162455,
          "m": 90,
          "profit_mean": 2051.976,
          "profit_std": 166.18719645829125,
          "s": 200
         },
         {
          "N": 100,
          "S": 400,
          "lost_mean": 0.82,
          "lost_std": 5.341622346528188,
          "m": 90,
          "profit_mean": 2142.9079999999994,
          "profit_std": 205.21167277332017,
          "s": 200
         },
         {
          "N": 100,
          "S": 500,
          "lost_mean": 0.79,
          "lost_std": 4.759456296933951,
          "m": 90,
          "profit_mean": 1773.4129999999998,
          "profit_std": 192.5260631208359,
          "s": 200
         },
         {
          "N": 100,
          "S": 600,
          "lost_mean": 1.25,
          "lost_std": 7.629521345379143,
          "m": 90,
          "profit_mean": 1365.214,
          "profit_std": 268.5887686979988,
          "s": 200
         },
         {
          "N": 100,
          "S": 700,
          "lost_mean": 0.72,
          "lost_std": 4.9991514431466415,
          "m": 90,
          "profit_mean": 807.732,
          "profit_std": 167.06069294502737,
          "s": 200
         },
         {
          "N": 100,
          "S": 800,
          "lost_mean": 0.33,
          "lost_std": 2.074642478631298,
          "m": 90,
          "profit_mean": 690.9069999999998,
          "profit_std": 228.549274688427,
          "s": 200
         },
         {
          "N": 100,
          "S": 900,
          "lost_mean": 0.38,
          "lost_std": 2.643001049083135,
          "m": 90,
          "profit_mean": -141.55000000000027,
          "profit_std": 207.4540837599657,
          "s": 200
         },
         {
          "N": 100,
          "S": 1000,
          "lost_mean": 0.52,
          "lost_std": 5.199999999999998,
          "m": 90,
          "profit_mean": -772.3740000000003,
          "profit_std": 332.43444546149686,
          "s": 200
         },
         {
          "N": 100,
          "S": 300,
          "lost_mean": 1.5,
          "lost_std": 7.6785152184257575,
          "m": 90,
          "profit_mean": 1663.1519999999998,
          "profit_std": 212.2201855801581,
          "s": 225
         },
         {
          "N": 100,
          "S": 400,
          "lost_mean": 0.7,
          "lost_std": 4.924685294770139,
          "m": 90,
          "profit_mean": 1930.973,
          "profit_std": 173.7541569039836,
          "s": 225
         },
         {
          "N": 100,
          "S": 500,
          "lost_mean": 1.65,
          "lost_std": 13.0580483328339,
          "m": 90,
          "profit_mean": 1677.326,
          "profit_std": 206.8589431169819,
          "s": 225
         },
         {
          "N": 100,
          "S": 600,
          "lost_mean": 2.13,
          "lost_std": 12.449214003017588,
          "m": 90,
          "profit_mean": 1233.0069999999998,
          "profit_std": 224.07148492065085,
          "s": 225
         },
         {
          "N": 100,
          "S": 700,
          "lost_mean": 0.93,
          "lost_std": 6.244601709080452,
          "m": 90,
          "profit_mean": 808.2299999999999,
          "profit_std": 207.0249545783837,
          "s": 225
         },
         {
          "N": 100,
          "S": 800,
          "lost_mean": 0.1,
          "lost_std": 1.0000000000000007,
          "m": 90,
          "profit_mean": 534.6999999999999,
          "profit_std": 304.10735478170074,
          "s": 225
         },
         {
          "N": 100,
          "S": 900,
          "lost_mean": 0.48,
          "lost_std": 4.071284015559898,
          "m": 90,
          "profit_mean": -243.1130000000002,
          "profit_std": 201.20523400977746,
          "s": 225
         },
         {
          "N": 100,
          "S": 1000,
          "lost_mean": 1.32,
          "lost_std": 7.085167320508104,
          "m": 90,
          "profit_mean": -954.1800000000002,
          "profit_std": 197.84985992086783,
          "s": 225
         },
         {
          "N": 100,
          "S": 300,
          "lost_mean": 0.4,
          "lost_std": 2.8141058827257948,
          "m": 90,
          "profit_mean": 1026.938,
          "profit_std": 254.7140614235278,
          "s": 250
         },
         {
          "N": 100,
          "S": 400,
          "lost_mean": 0.1,
          "lost_std": 1.0000000000000007,
          "m": 90,
          "profit_mean": 1651.1429999999998,
          "profit_std": 172.60763601622932,
          "s": 250
         },
         {
          "N": 100,
          "S": 500,
          "lost_mean": 0.21,
          "lost_std": 1.6714779040832046,
          "m": 90,
          "profit_mean": 1488.8509999999997,
          "profit_std": 226.5972819360552,
          "s": 250
         },
         {
          "N": 100,
          "S": 600,
          "lost_mean": 2.18,
          "lost_std": 13.832606771719133,
          "m": 90,
          "profit_mean": 1213.382,
          "profit_std": 196.7978249756625,
          "s": 250
         },
         {
          "N": 100,
          "S": 700,
          "lost_mean": 1.76,
          "lost_std": 15.115795471204054,
          "m": 90,
          "profit_mean": 799.0329999999999,
          "profit_std": 176.64162204127808,
          "s": 250
         },
         {
          "N": 100,
          "S": 800,
          "lost_mean": 0.03,
          "lost_std": 0.2999999999999999,
          "m": 90,
          "profit_mean": 168.5249999999998,
          "profit_std": 342.22972507107306,
          "s": 250
         },
         {
          "N": 100,
          "S": 900,
          "lost_mean": 0.96,
          "lost_std": 7.126448107315638,
          "m": 90,
          "profit_mean": -275.16500000000025,
          "profit_std": 195.89202672994028,
          "s": 250
         },
         {
          "N": 100,
          "S": 1000,
          "lost_mean": 0,
          "lost_std": 0,
          "m": 90,
          "profit_mean": -1019.1280000000002,
          "profit_std": 171.74590291380093,
          "s": 250
         }
        ]
       },
       "encoding": {
        "color": {
         "field": "lost_mean",
         "scale": {
          "scheme": "plasma"
         },
         "type": "quantitative"
        },
        "x": {
         "field": "S",
         "type": "quantitative"
        },
        "y": {
         "field": "s",
         "type": "quantitative"
        }
       },
       "mark": "point"
      },
      "image/png": "[encoded data removed]",
      "image/svg+xml": [
       "<?xml version=\"1.0\" encoding=\"utf-8\"?>\n",
       "<!DOCTYPE svg PUBLIC \"-//W3C//DTD SVG 1.1//EN\" \"http://www.w3.org/Graphics/SVG/1.1/DTD/svg11.dtd\">\n",
       "<svg xmlns=\"http://www.w3.org/2000/svg\" xmlns:xlink=\"http://www.w3.org/1999/xlink\" version=\"1.1\" class=\"marks\" width=\"323\" height=\"242\" viewBox=\"0 0 323 242\"><rect width=\"323\" height=\"242\" fill=\"white\"/><g fill=\"none\" stroke-miterlimit=\"10\" transform=\"translate(45,5)\"><g class=\"mark-group role-frame root\" role=\"graphics-object\" aria-roledescription=\"group mark container\"><g transform=\"translate(0,0)\"><path class=\"background\" aria-hidden=\"true\" d=\"M0.5,0.5h200v200h-200Z\" stroke=\"#ddd\"/><g><g class=\"mark-group role-axis\" aria-hidden=\"true\"><g transform=\"translate(0.5,200.5)\"><path class=\"background\" aria-hidden=\"true\" d=\"M0,0h0v0h0Z\" pointer-events=\"none\"/><g><g class=\"mark-rule role-axis-grid\" pointer-events=\"none\"><line transform=\"translate(0,-200)\" x2=\"0\" y2=\"200\" stroke=\"#ddd\" stroke-width=\"1\" opacity=\"1\"/><line transform=\"translate(40,-200)\" x2=\"0\" y2=\"200\" stroke=\"#ddd\" stroke-width=\"1\" opacity=\"1\"/><line transform=\"translate(80,-200)\" x2=\"0\" y2=\"200\" stroke=\"#ddd\" stroke-width=\"1\" opacity=\"1\"/><line transform=\"translate(120,-200)\" x2=\"0\" y2=\"200\" stroke=\"#ddd\" stroke-width=\"1\" opacity=\"1\"/><line transform=\"translate(160,-200)\" x2=\"0\" y2=\"200\" stroke=\"#ddd\" stroke-width=\"1\" opacity=\"1\"/><line transform=\"translate(200,-200)\" x2=\"0\" y2=\"200\" stroke=\"#ddd\" stroke-width=\"1\" opacity=\"1\"/></g></g><path class=\"foreground\" aria-hidden=\"true\" d=\"\" pointer-events=\"none\" display=\"none\"/></g></g><g class=\"mark-group role-axis\" aria-hidden=\"true\"><g transform=\"translate(0.5,0.5)\"><path class=\"background\" aria-hidden=\"true\" d=\"M0,0h0v0h0Z\" pointer-events=\"none\"/><g><g class=\"mark-rule role-axis-grid\" pointer-events=\"none\"><line transform=\"translate(0,200)\" x2=\"200\" y2=\"0\" stroke=\"#ddd\" stroke-width=\"1\" opacity=\"1\"/><line transform=\"translate(0,162)\" x2=\"200\" y2=\"0\" stroke=\"#ddd\" stroke-width=\"1\" opacity=\"1\"/><line transform=\"translate(0,123)\" x2=\"200\" y2=\"0\" stroke=\"#ddd\" stroke-width=\"1\" opacity=\"1\"/><line transform=\"translate(0,85)\" x2=\"200\" y2=\"0\" stroke=\"#ddd\" stroke-width=\"1\" opacity=\"1\"/><line transform=\"translate(0,46)\" x2=\"200\" y2=\"0\" stroke=\"#ddd\" stroke-width=\"1\" opacity=\"1\"/><line transform=\"translate(0,8)\" x2=\"200\" y2=\"0\" stroke=\"#ddd\" stroke-width=\"1\" opacity=\"1\"/></g></g><path class=\"foreground\" aria-hidden=\"true\" d=\"\" pointer-events=\"none\" display=\"none\"/></g></g><g class=\"mark-group role-axis\" role=\"graphics-symbol\" aria-roledescription=\"axis\" aria-label=\"X-axis titled 'S' for a linear scale with values from 0 to 1,000\"><g transform=\"translate(0.5,200.5)\"><path class=\"background\" aria-hidden=\"true\" d=\"M0,0h0v0h0Z\" pointer-events=\"none\"/><g><g class=\"mark-rule role-axis-tick\" pointer-events=\"none\"><line transform=\"translate(0,0)\" x2=\"0\" y2=\"5\" stroke=\"#888\" stroke-width=\"1\" opacity=\"1\"/><line transform=\"translate(40,0)\" x2=\"0\" y2=\"5\" stroke=\"#888\" stroke-width=\"1\" opacity=\"1\"/><line transform=\"translate(80,0)\" x2=\"0\" y2=\"5\" stroke=\"#888\" stroke-width=\"1\" opacity=\"1\"/><line transform=\"translate(120,0)\" x2=\"0\" y2=\"5\" stroke=\"#888\" stroke-width=\"1\" opacity=\"1\"/><line transform=\"translate(160,0)\" x2=\"0\" y2=\"5\" stroke=\"#888\" stroke-width=\"1\" opacity=\"1\"/><line transform=\"translate(200,0)\" x2=\"0\" y2=\"5\" stroke=\"#888\" stroke-width=\"1\" opacity=\"1\"/></g><g class=\"mark-text role-axis-label\" pointer-events=\"none\"><text text-anchor=\"start\" transform=\"translate(0,15)\" font-family=\"sans-serif\" font-size=\"10px\" fill=\"#000\" opacity=\"1\">0</text><text text-anchor=\"middle\" transform=\"translate(40,15)\" font-family=\"sans-serif\" font-size=\"10px\" fill=\"#000\" opacity=\"1\">200</text><text text-anchor=\"middle\" transform=\"translate(80,15)\" font-family=\"sans-serif\" font-size=\"10px\" fill=\"#000\" opacity=\"1\">400</text><text text-anchor=\"middle\" transform=\"translate(120,15)\" font-family=\"sans-serif\" font-size=\"10px\" fill=\"#000\" opacity=\"1\">600</text><text text-anchor=\"middle\" transform=\"translate(160,15)\" font-family=\"sans-serif\" font-size=\"10px\" fill=\"#000\" opacity=\"1\">800</text><text text-anchor=\"end\" transform=\"translate(200,15)\" font-family=\"sans-serif\" font-size=\"10px\" fill=\"#000\" opacity=\"1\">1,000</text></g><g class=\"mark-rule role-axis-domain\" pointer-events=\"none\"><line transform=\"translate(0,0)\" x2=\"200\" y2=\"0\" stroke=\"#888\" stroke-width=\"1\" opacity=\"1\"/></g><g class=\"mark-text role-axis-title\" pointer-events=\"none\"><text text-anchor=\"middle\" transform=\"translate(100,30)\" font-family=\"sans-serif\" font-size=\"11px\" font-weight=\"bold\" fill=\"#000\" opacity=\"1\">S</text></g></g><path class=\"foreground\" aria-hidden=\"true\" d=\"\" pointer-events=\"none\" display=\"none\"/></g></g><g class=\"mark-group role-axis\" role=\"graphics-symbol\" aria-roledescription=\"axis\" aria-label=\"Y-axis titled 's' for a linear scale with values from 0 to 260\"><g transform=\"translate(0.5,0.5)\"><path class=\"background\" aria-hidden=\"true\" d=\"M0,0h0v0h0Z\" pointer-events=\"none\"/><g><g class=\"mark-rule role-axis-tick\" pointer-events=\"none\"><line transform=\"translate(0,200)\" x2=\"-5\" y2=\"0\" stroke=\"#888\" stroke-width=\"1\" opacity=\"1\"/><line transform=\"translate(0,162)\" x2=\"-5\" y2=\"0\" stroke=\"#888\" stroke-width=\"1\" opacity=\"1\"/><line transform=\"translate(0,123)\" x2=\"-5\" y2=\"0\" stroke=\"#888\" stroke-width=\"1\" opacity=\"1\"/><line transform=\"translate(0,85)\" x2=\"-5\" y2=\"0\" stroke=\"#888\" stroke-width=\"1\" opacity=\"1\"/><line transform=\"translate(0,46)\" x2=\"-5\" y2=\"0\" stroke=\"#888\" stroke-width=\"1\" opacity=\"1\"/><line transform=\"translate(0,8)\" x2=\"-5\" y2=\"0\" stroke=\"#888\" stroke-width=\"1\" opacity=\"1\"/></g><g class=\"mark-text role-axis-label\" pointer-events=\"none\"><text text-anchor=\"end\" transform=\"translate(-7,203)\" font-family=\"sans-serif\" font-size=\"10px\" fill=\"#000\" opacity=\"1\">0</text><text text-anchor=\"end\" transform=\"translate(-7,164.53846153846155)\" font-family=\"sans-serif\" font-size=\"10px\" fill=\"#000\" opacity=\"1\">50</text><text text-anchor=\"end\" transform=\"translate(-7,126.07692307692308)\" font-family=\"sans-serif\" font-size=\"10px\" fill=\"#000\" opacity=\"1\">100</text><text text-anchor=\"end\" transform=\"translate(-7,87.61538461538463)\" font-family=\"sans-serif\" font-size=\"10px\" fill=\"#000\" opacity=\"1\">150</text><text text-anchor=\"end\" transform=\"translate(-7,49.153846153846146)\" font-family=\"sans-serif\" font-size=\"10px\" fill=\"#000\" opacity=\"1\">200</text><text text-anchor=\"end\" transform=\"translate(-7,10.692307692307686)\" font-family=\"sans-serif\" font-size=\"10px\" fill=\"#000\" opacity=\"1\">250</text></g><g class=\"mark-rule role-axis-domain\" pointer-events=\"none\"><line transform=\"translate(0,200)\" x2=\"0\" y2=\"-200\" stroke=\"#888\" stroke-width=\"1\" opacity=\"1\"/></g><g class=\"mark-text role-axis-title\" pointer-events=\"none\"><text text-anchor=\"middle\" transform=\"translate(-29,100) rotate(-90) translate(0,-2)\" font-family=\"sans-serif\" font-size=\"11px\" font-weight=\"bold\" fill=\"#000\" opacity=\"1\">s</text></g></g><path class=\"foreground\" aria-hidden=\"true\" d=\"\" pointer-events=\"none\" display=\"none\"/></g></g><g class=\"mark-symbol role-mark marks\" role=\"graphics-object\" aria-roledescription=\"symbol mark container\"><path aria-label=\"S: 100; s: 25; lost_mean: 216.66\" role=\"graphics-symbol\" aria-roledescription=\"point\" transform=\"translate(20,180.76923076923077)\" d=\"M2.7386127875258306,0A2.7386127875258306,2.7386127875258306,0,1,1,-2.7386127875258306,0A2.7386127875258306,2.7386127875258306,0,1,1,2.7386127875258306,0\" stroke=\"rgb(240, 249, 33)\" stroke-width=\"2\" opacity=\"0.7\"/><path aria-label=\"S: 200; s: 25; lost_mean: 118.92\" role=\"graphics-symbol\" aria-roledescription=\"point\" transform=\"translate(40,180.76923076923077)\" d=\"M2.7386127875258306,0A2.7386127875258306,2.7386127875258306,0,1,1,-2.7386127875258306,0A2.7386127875258306,2.7386127875258306,0,1,1,2.7386127875258306,0\" stroke=\"rgb(214, 85, 109)\" stroke-width=\"2\" opacity=\"0.7\"/><path aria-label=\"S: 300; s: 25; lost_mean: 81.2\" role=\"graphics-symbol\" aria-roledescription=\"point\" transform=\"translate(60,180.76923076923077)\" d=\"M2.7386127875258306,0A2.7386127875258306,2.7386127875258306,0,1,1,-2.7386127875258306,0A2.7386127875258306,2.7386127875258306,0,1,1,2.7386127875258306,0\" stroke=\"rgb(169, 35, 150)\" stroke-width=\"2\" opacity=\"0.7\"/><path aria-label=\"S: 400; s: 25; lost_mean: 60.11\" role=\"graphics-symbol\" aria-roledescription=\"point\" transform=\"translate(80,180.76923076923077)\" d=\"M2.7386127875258306,0A2.7386127875258306,2.7386127875258306,0,1,1,-2.7386127875258306,0A2.7386127875258306,2.7386127875258306,0,1,1,2.7386127875258306,0\" stroke=\"rgb(136, 8, 166)\" stroke-width=\"2\" opacity=\"0.7\"/><path aria-label=\"S: 500; s: 25; lost_mean: 50.72\" role=\"graphics-symbol\" aria-roledescription=\"point\" transform=\"translate(100,180.76923076923077)\" d=\"M2.7386127875258306,0A2.7386127875258306,2.7386127875258306,0,1,1,-2.7386127875258306,0A2.7386127875258306,2.7386127875258306,0,1,1,2.7386127875258306,0\" stroke=\"rgb(120, 1, 168)\" stroke-width=\"2\" opacity=\"0.7\"/><path aria-label=\"S: 600; s: 25; lost_mean: 34.57\" role=\"graphics-symbol\" aria-roledescription=\"point\" transform=\"translate(120,180.76923076923077)\" d=\"M2.7386127875258306,0A2.7386127875258306,2.7386127875258306,0,1,1,-2.7386127875258306,0A2.7386127875258306,2.7386127875258306,0,1,1,2.7386127875258306,0\" stroke=\"rgb(90, 1, 165)\" stroke-width=\"2\" opacity=\"0.7\"/><path aria-label=\"S: 700; s: 25; lost_mean: 33.52\" role=\"graphics-symbol\" aria-roledescription=\"point\" transform=\"translate(140,180.76923076923077)\" d=\"M2.7386127875258306,0A2.7386127875258306,2.7386127875258306,0,1,1,-2.7386127875258306,0A2.7386127875258306,2.7386127875258306,0,1,1,2.7386127875258306,0\" stroke=\"rgb(88, 1, 165)\" stroke-width=\"2\" opacity=\"0.7\"/><path aria-label=\"S: 800; s: 25; lost_mean: 32.05\" role=\"graphics-symbol\" aria-roledescription=\"point\" transform=\"translate(160,180.76923076923077)\" d=\"M2.7386127875258306,0A2.7386127875258306,2.7386127875258306,0,1,1,-2.7386127875258306,0A2.7386127875258306,2.7386127875258306,0,1,1,2.7386127875258306,0\" stroke=\"rgb(86, 2, 164)\" stroke-width=\"2\" opacity=\"0.7\"/><path aria-label=\"S: 900; s: 25; lost_mean: 30.45\" role=\"graphics-symbol\" aria-roledescription=\"point\" transform=\"translate(180,180.76923076923077)\" d=\"M2.7386127875258306,0A2.7386127875258306,2.7386127875258306,0,1,1,-2.7386127875258306,0A2.7386127875258306,2.7386127875258306,0,1,1,2.7386127875258306,0\" stroke=\"rgb(83, 2, 163)\" stroke-width=\"2\" opacity=\"0.7\"/><path aria-label=\"S: 1000; s: 25; lost_mean: 24.22\" role=\"graphics-symbol\" aria-roledescription=\"point\" transform=\"translate(200,180.76923076923077)\" d=\"M2.7386127875258306,0A2.7386127875258306,2.7386127875258306,0,1,1,-2.7386127875258306,0A2.7386127875258306,2.7386127875258306,0,1,1,2.7386127875258306,0\" stroke=\"rgb(71, 3, 159)\" stroke-width=\"2\" opacity=\"0.7\"/><path aria-label=\"S: 100; s: 50; lost_mean: 118.74\" role=\"graphics-symbol\" aria-roledescription=\"point\" transform=\"translate(20,161.53846153846155)\" d=\"M2.7386127875258306,0A2.7386127875258306,2.7386127875258306,0,1,1,-2.7386127875258306,0A2.7386127875258306,2.7386127875258306,0,1,1,2.7386127875258306,0\" stroke=\"rgb(214, 85, 109)\" stroke-width=\"2\" opacity=\"0.7\"/><path aria-label=\"S: 200; s: 50; lost_mean: 49.21\" role=\"graphics-symbol\" aria-roledescription=\"point\" transform=\"translate(40,161.53846153846155)\" d=\"M2.7386127875258306,0A2.7386127875258306,2.7386127875258306,0,1,1,-2.7386127875258306,0A2.7386127875258306,2.7386127875258306,0,1,1,2.7386127875258306,0\" stroke=\"rgb(117, 1, 168)\" stroke-width=\"2\" opacity=\"0.7\"/><path aria-label=\"S: 300; s: 50; lost_mean: 44.28\" role=\"graphics-symbol\" aria-roledescription=\"point\" transform=\"translate(60,161.53846153846155)\" d=\"M2.7386127875258306,0A2.7386127875258306,2.7386127875258306,0,1,1,-2.7386127875258306,0A2.7386127875258306,2.7386127875258306,0,1,1,2.7386127875258306,0\" stroke=\"rgb(108, 0, 168)\" stroke-width=\"2\" opacity=\"0.7\"/><path aria-label=\"S: 400; s: 50; lost_mean: 37.86\" role=\"graphics-symbol\" aria-roledescription=\"point\" transform=\"translate(80,161.53846153846155)\" d=\"M2.7386127875258306,0A2.7386127875258306,2.7386127875258306,0,1,1,-2.7386127875258306,0A2.7386127875258306,2.7386127875258306,0,1,1,2.7386127875258306,0\" stroke=\"rgb(96, 1, 166)\" stroke-width=\"2\" opacity=\"0.7\"/><path aria-label=\"S: 500; s: 50; lost_mean: 21.04\" role=\"graphics-symbol\" aria-roledescription=\"point\" transform=\"translate(100,161.53846153846155)\" d=\"M2.7386127875258306,0A2.7386127875258306,2.7386127875258306,0,1,1,-2.7386127875258306,0A2.7386127875258306,2.7386127875258306,0,1,1,2.7386127875258306,0\" stroke=\"rgb(65, 3, 156)\" stroke-width=\"2\" opacity=\"0.7\"/><path aria-label=\"S: 600; s: 50; lost_mean: 16.11\" role=\"graphics-symbol\" aria-roledescription=\"point\" transform=\"translate(120,161.53846153846155)\" d=\"M2.7386127875258306,0A2.7386127875258306,2.7386127875258306,0,1,1,-2.7386127875258306,0A2.7386127875258306,2.7386127875258306,0,1,1,2.7386127875258306,0\" stroke=\"rgb(54, 5, 152)\" stroke-width=\"2\" opacity=\"0.7\"/><path aria-label=\"S: 700; s: 50; lost_mean: 20.11\" role=\"graphics-symbol\" aria-roledescription=\"point\" transform=\"translate(140,161.53846153846155)\" d=\"M2.7386127875258306,0A2.7386127875258306,2.7386127875258306,0,1,1,-2.7386127875258306,0A2.7386127875258306,2.7386127875258306,0,1,1,2.7386127875258306,0\" stroke=\"rgb(63, 3, 156)\" stroke-width=\"2\" opacity=\"0.7\"/><path aria-label=\"S: 800; s: 50; lost_mean: 18.19\" role=\"graphics-symbol\" aria-roledescription=\"point\" transform=\"translate(160,161.53846153846155)\" d=\"M2.7386127875258306,0A2.7386127875258306,2.7386127875258306,0,1,1,-2.7386127875258306,0A2.7386127875258306,2.7386127875258306,0,1,1,2.7386127875258306,0\" stroke=\"rgb(59, 4, 154)\" stroke-width=\"2\" opacity=\"0.7\"/><path aria-label=\"S: 900; s: 50; lost_mean: 13.63\" role=\"graphics-symbol\" aria-roledescription=\"point\" transform=\"translate(180,161.53846153846155)\" d=\"M2.7386127875258306,0A2.7386127875258306,2.7386127875258306,0,1,1,-2.7386127875258306,0A2.7386127875258306,2.7386127875258306,0,1,1,2.7386127875258306,0\" stroke=\"rgb(49, 5, 150)\" stroke-width=\"2\" opacity=\"0.7\"/><path aria-label=\"S: 1000; s: 50; lost_mean: 9.96\" role=\"graphics-symbol\" aria-roledescription=\"point\" transform=\"translate(200,161.53846153846155)\" d=\"M2.7386127875258306,0A2.7386127875258306,2.7386127875258306,0,1,1,-2.7386127875258306,0A2.7386127875258306,2.7386127875258306,0,1,1,2.7386127875258306,0\" stroke=\"rgb(41, 6, 147)\" stroke-width=\"2\" opacity=\"0.7\"/><path aria-label=\"S: 100; s: 75; lost_mean: 74.03\" role=\"graphics-symbol\" aria-roledescription=\"point\" transform=\"translate(20,142.30769230769232)\" d=\"M2.7386127875258306,0A2.7386127875258306,2.7386127875258306,0,1,1,-2.7386127875258306,0A2.7386127875258306,2.7386127875258306,0,1,1,2.7386127875258306,0\" stroke=\"rgb(159, 26, 156)\" stroke-width=\"2\" opacity=\"0.7\"/><path aria-label=\"S: 200; s: 75; lost_mean: 24.44\" role=\"graphics-symbol\" aria-roledescription=\"point\" transform=\"translate(40,142.30769230769232)\" d=\"M2.7386127875258306,0A2.7386127875258306,2.7386127875258306,0,1,1,-2.7386127875258306,0A2.7386127875258306,2.7386127875258306,0,1,1,2.7386127875258306,0\" stroke=\"rgb(71, 3, 159)\" stroke-width=\"2\" opacity=\"0.7\"/><path aria-label=\"S: 300; s: 75; lost_mean: 14.97\" role=\"graphics-symbol\" aria-roledescription=\"point\" transform=\"translate(60,142.30769230769232)\" d=\"M2.7386127875258306,0A2.7386127875258306,2.7386127875258306,0,1,1,-2.7386127875258306,0A2.7386127875258306,2.7386127875258306,0,1,1,2.7386127875258306,0\" stroke=\"rgb(52, 5, 151)\" stroke-width=\"2\" opacity=\"0.7\"/><path aria-label=\"S: 400; s: 75; lost_mean: 6.17\" role=\"graphics-symbol\" aria-roledescription=\"point\" transform=\"translate(80,142.30769230769232)\" d=\"M2.7386127875258306,0A2.7386127875258306,2.7386127875258306,0,1,1,-2.7386127875258306,0A2.7386127875258306,2.7386127875258306,0,1,1,2.7386127875258306,0\" stroke=\"rgb(32, 6, 143)\" stroke-width=\"2\" opacity=\"0.7\"/><path aria-label=\"S: 500; s: 75; lost_mean: 7.34\" role=\"graphics-symbol\" aria-roledescription=\"point\" transform=\"translate(100,142.30769230769232)\" d=\"M2.7386127875258306,0A2.7386127875258306,2.7386127875258306,0,1,1,-2.7386127875258306,0A2.7386127875258306,2.7386127875258306,0,1,1,2.7386127875258306,0\" stroke=\"rgb(35, 6, 144)\" stroke-width=\"2\" opacity=\"0.7\"/><path aria-label=\"S: 600; s: 75; lost_mean: 9.68\" role=\"graphics-symbol\" aria-roledescription=\"point\" transform=\"translate(120,142.30769230769232)\" d=\"M2.7386127875258306,0A2.7386127875258306,2.7386127875258306,0,1,1,-2.7386127875258306,0A2.7386127875258306,2.7386127875258306,0,1,1,2.7386127875258306,0\" stroke=\"rgb(40, 6, 146)\" stroke-width=\"2\" opacity=\"0.7\"/><path aria-label=\"S: 700; s: 75; lost_mean: 7.85\" role=\"graphics-symbol\" aria-roledescription=\"point\" transform=\"translate(140,142.30769230769232)\" d=\"M2.7386127875258306,0A2.7386127875258306,2.7386127875258306,0,1,1,-2.7386127875258306,0A2.7386127875258306,2.7386127875258306,0,1,1,2.7386127875258306,0\" stroke=\"rgb(36, 6, 145)\" stroke-width=\"2\" opacity=\"0.7\"/><path aria-label=\"S: 800; s: 75; lost_mean: 11.43\" role=\"graphics-symbol\" aria-roledescription=\"point\" transform=\"translate(160,142.30769230769232)\" d=\"M2.7386127875258306,0A2.7386127875258306,2.7386127875258306,0,1,1,-2.7386127875258306,0A2.7386127875258306,2.7386127875258306,0,1,1,2.7386127875258306,0\" stroke=\"rgb(44, 5, 148)\" stroke-width=\"2\" opacity=\"0.7\"/><path aria-label=\"S: 900; s: 75; lost_mean: 4.52\" role=\"graphics-symbol\" aria-roledescription=\"point\" transform=\"translate(180,142.30769230769232)\" d=\"M2.7386127875258306,0A2.7386127875258306,2.7386127875258306,0,1,1,-2.7386127875258306,0A2.7386127875258306,2.7386127875258306,0,1,1,2.7386127875258306,0\" stroke=\"rgb(27, 7, 141)\" stroke-width=\"2\" opacity=\"0.7\"/><path aria-label=\"S: 1000; s: 75; lost_mean: 3.27\" role=\"graphics-symbol\" aria-roledescription=\"point\" transform=\"translate(200,142.30769230769232)\" d=\"M2.7386127875258306,0A2.7386127875258306,2.7386127875258306,0,1,1,-2.7386127875258306,0A2.7386127875258306,2.7386127875258306,0,1,1,2.7386127875258306,0\" stroke=\"rgb(23, 7, 139)\" stroke-width=\"2\" opacity=\"0.7\"/><path aria-label=\"S: 200; s: 100; lost_mean: 20.08\" role=\"graphics-symbol\" aria-roledescription=\"point\" transform=\"translate(40,123.07692307692308)\" d=\"M2.7386127875258306,0A2.7386127875258306,2.7386127875258306,0,1,1,-2.7386127875258306,0A2.7386127875258306,2.7386127875258306,0,1,1,2.7386127875258306,0\" stroke=\"rgb(63, 3, 156)\" stroke-width=\"2\" opacity=\"0.7\"/><path aria-label=\"S: 300; s: 100; lost_mean: 5.76\" role=\"graphics-symbol\" aria-roledescription=\"point\" transform=\"translate(60,123.07692307692308)\" d=\"M2.7386127875258306,0A2.7386127875258306,2.7386127875258306,0,1,1,-2.7386127875258306,0A2.7386127875258306,2.7386127875258306,0,1,1,2.7386127875258306,0\" stroke=\"rgb(31, 6, 142)\" stroke-width=\"2\" opacity=\"0.7\"/><path aria-label=\"S: 400; s: 100; lost_mean: 6.26\" role=\"graphics-symbol\" aria-roledescription=\"point\" transform=\"translate(80,123.07692307692308)\" d=\"M2.7386127875258306,0A2.7386127875258306,2.7386127875258306,0,1,1,-2.7386127875258306,0A2.7386127875258306,2.7386127875258306,0,1,1,2.7386127875258306,0\" stroke=\"rgb(32, 6, 143)\" stroke-width=\"2\" opacity=\"0.7\"/><path aria-label=\"S: 500; s: 100; lost_mean: 5.26\" role=\"graphics-symbol\" aria-roledescription=\"point\" transform=\"translate(100,123.07692307692308)\" d=\"M2.7386127875258306,0A2.7386127875258306,2.7386127875258306,0,1,1,-2.7386127875258306,0A2.7386127875258306,2.7386127875258306,0,1,1,2.7386127875258306,0\" stroke=\"rgb(29, 7, 142)\" stroke-width=\"2\" opacity=\"0.7\"/><path aria-label=\"S: 600; s: 100; lost_mean: 2.97\" role=\"graphics-symbol\" aria-roledescription=\"point\" transform=\"translate(120,123.07692307692308)\" d=\"M2.7386127875258306,0A2.7386127875258306,2.7386127875258306,0,1,1,-2.7386127875258306,0A2.7386127875258306,2.7386127875258306,0,1,1,2.7386127875258306,0\" stroke=\"rgb(22, 7, 139)\" stroke-width=\"2\" opacity=\"0.7\"/><path aria-label=\"S: 700; s: 100; lost_mean: 0.49\" role=\"graphics-symbol\" aria-roledescription=\"point\" transform=\"translate(140,123.07692307692308)\" d=\"M2.7386127875258306,0A2.7386127875258306,2.7386127875258306,0,1,1,-2.7386127875258306,0A2.7386127875258306,2.7386127875258306,0,1,1,2.7386127875258306,0\" stroke=\"rgb(14, 8, 136)\" stroke-width=\"2\" opacity=\"0.7\"/><path aria-label=\"S: 800; s: 100; lost_mean: 5.79\" role=\"graphics-symbol\" aria-roledescription=\"point\" transform=\"translate(160,123.07692307692308)\" d=\"M2.7386127875258306,0A2.7386127875258306,2.7386127875258306,0,1,1,-2.7386127875258306,0A2.7386127875258306,2.7386127875258306,0,1,1,2.7386127875258306,0\" stroke=\"rgb(31, 6, 142)\" stroke-width=\"2\" opacity=\"0.7\"/><path aria-label=\"S: 900; s: 100; lost_mean: 2.51\" role=\"graphics-symbol\" aria-roledescription=\"point\" transform=\"translate(180,123.07692307692308)\" d=\"M2.7386127875258306,0A2.7386127875258306,2.7386127875258306,0,1,1,-2.7386127875258306,0A2.7386127875258306,2.7386127875258306,0,1,1,2.7386127875258306,0\" stroke=\"rgb(21, 7, 138)\" stroke-width=\"2\" opacity=\"0.7\"/><path aria-label=\"S: 1000; s: 100; lost_mean: 2.53\" role=\"graphics-symbol\" aria-roledescription=\"point\" transform=\"translate(200,123.07692307692308)\" d=\"M2.7386127875258306,0A2.7386127875258306,2.7386127875258306,0,1,1,-2.7386127875258306,0A2.7386127875258306,2.7386127875258306,0,1,1,2.7386127875258306,0\" stroke=\"rgb(21, 7, 138)\" stroke-width=\"2\" opacity=\"0.7\"/><path aria-label=\"S: 200; s: 125; lost_mean: 9.32\" role=\"graphics-symbol\" aria-roledescription=\"point\" transform=\"translate(40,103.84615384615384)\" d=\"M2.7386127875258306,0A2.7386127875258306,2.7386127875258306,0,1,1,-2.7386127875258306,0A2.7386127875258306,2.7386127875258306,0,1,1,2.7386127875258306,0\" stroke=\"rgb(40, 6, 146)\" stroke-width=\"2\" opacity=\"0.7\"/><path aria-label=\"S: 300; s: 125; lost_mean: 2.89\" role=\"graphics-symbol\" aria-roledescription=\"point\" transform=\"translate(60,103.84615384615384)\" d=\"M2.7386127875258306,0A2.7386127875258306,2.7386127875258306,0,1,1,-2.7386127875258306,0A2.7386127875258306,2.7386127875258306,0,1,1,2.7386127875258306,0\" stroke=\"rgb(22, 7, 139)\" stroke-width=\"2\" opacity=\"0.7\"/><path aria-label=\"S: 400; s: 125; lost_mean: 4.37\" role=\"graphics-symbol\" aria-roledescription=\"point\" transform=\"translate(80,103.84615384615384)\" d=\"M2.7386127875258306,0A2.7386127875258306,2.7386127875258306,0,1,1,-2.7386127875258306,0A2.7386127875258306,2.7386127875258306,0,1,1,2.7386127875258306,0\" stroke=\"rgb(26, 7, 140)\" stroke-width=\"2\" opacity=\"0.7\"/><path aria-label=\"S: 500; s: 125; lost_mean: 3.27\" role=\"graphics-symbol\" aria-roledescription=\"point\" transform=\"translate(100,103.84615384615384)\" d=\"M2.7386127875258306,0A2.7386127875258306,2.7386127875258306,0,1,1,-2.7386127875258306,0A2.7386127875258306,2.7386127875258306,0,1,1,2.7386127875258306,0\" stroke=\"rgb(23, 7, 139)\" stroke-width=\"2\" opacity=\"0.7\"/><path aria-label=\"S: 600; s: 125; lost_mean: 0.92\" role=\"graphics-symbol\" aria-roledescription=\"point\" transform=\"translate(120,103.84615384615384)\" d=\"M2.7386127875258306,0A2.7386127875258306,2.7386127875258306,0,1,1,-2.7386127875258306,0A2.7386127875258306,2.7386127875258306,0,1,1,2.7386127875258306,0\" stroke=\"rgb(16, 8, 136)\" stroke-width=\"2\" opacity=\"0.7\"/><path aria-label=\"S: 700; s: 125; lost_mean: 0.75\" role=\"graphics-symbol\" aria-roledescription=\"point\" transform=\"translate(140,103.84615384615384)\" d=\"M2.7386127875258306,0A2.7386127875258306,2.7386127875258306,0,1,1,-2.7386127875258306,0A2.7386127875258306,2.7386127875258306,0,1,1,2.7386127875258306,0\" stroke=\"rgb(15, 8, 136)\" stroke-width=\"2\" opacity=\"0.7\"/><path aria-label=\"S: 800; s: 125; lost_mean: 2.17\" role=\"graphics-symbol\" aria-roledescription=\"point\" transform=\"translate(160,103.84615384615384)\" d=\"M2.7386127875258306,0A2.7386127875258306,2.7386127875258306,0,1,1,-2.7386127875258306,0A2.7386127875258306,2.7386127875258306,0,1,1,2.7386127875258306,0\" stroke=\"rgb(20, 7, 138)\" stroke-width=\"2\" opacity=\"0.7\"/><path aria-label=\"S: 900; s: 125; lost_mean: 1.94\" role=\"graphics-symbol\" aria-roledescription=\"point\" transform=\"translate(180,103.84615384615384)\" d=\"M2.7386127875258306,0A2.7386127875258306,2.7386127875258306,0,1,1,-2.7386127875258306,0A2.7386127875258306,2.7386127875258306,0,1,1,2.7386127875258306,0\" stroke=\"rgb(19, 7, 137)\" stroke-width=\"2\" opacity=\"0.7\"/><path aria-label=\"S: 1000; s: 125; lost_mean: 1.12\" role=\"graphics-symbol\" aria-roledescription=\"point\" transform=\"translate(200,103.84615384615384)\" d=\"M2.7386127875258306,0A2.7386127875258306,2.7386127875258306,0,1,1,-2.7386127875258306,0A2.7386127875258306,2.7386127875258306,0,1,1,2.7386127875258306,0\" stroke=\"rgb(16, 8, 136)\" stroke-width=\"2\" opacity=\"0.7\"/><path aria-label=\"S: 200; s: 150; lost_mean: 1.83\" role=\"graphics-symbol\" aria-roledescription=\"point\" transform=\"translate(40,84.61538461538463)\" d=\"M2.7386127875258306,0A2.7386127875258306,2.7386127875258306,0,1,1,-2.7386127875258306,0A2.7386127875258306,2.7386127875258306,0,1,1,2.7386127875258306,0\" stroke=\"rgb(19, 7, 137)\" stroke-width=\"2\" opacity=\"0.7\"/><path aria-label=\"S: 300; s: 150; lost_mean: 2.02\" role=\"graphics-symbol\" aria-roledescription=\"point\" transform=\"translate(60,84.61538461538463)\" d=\"M2.7386127875258306,0A2.7386127875258306,2.7386127875258306,0,1,1,-2.7386127875258306,0A2.7386127875258306,2.7386127875258306,0,1,1,2.7386127875258306,0\" stroke=\"rgb(19, 7, 138)\" stroke-width=\"2\" opacity=\"0.7\"/><path aria-label=\"S: 400; s: 150; lost_mean: 1.22\" role=\"graphics-symbol\" aria-roledescription=\"point\" transform=\"translate(80,84.61538461538463)\" d=\"M2.7386127875258306,0A2.7386127875258306,2.7386127875258306,0,1,1,-2.7386127875258306,0A2.7386127875258306,2.7386127875258306,0,1,1,2.7386127875258306,0\" stroke=\"rgb(17, 8, 137)\" stroke-width=\"2\" opacity=\"0.7\"/><path aria-label=\"S: 500; s: 150; lost_mean: 0.56\" role=\"graphics-symbol\" aria-roledescription=\"point\" transform=\"translate(100,84.61538461538463)\" d=\"M2.7386127875258306,0A2.7386127875258306,2.7386127875258306,0,1,1,-2.7386127875258306,0A2.7386127875258306,2.7386127875258306,0,1,1,2.7386127875258306,0\" stroke=\"rgb(15, 8, 136)\" stroke-width=\"2\" opacity=\"0.7\"/><path aria-label=\"S: 600; s: 150; lost_mean: 1.99\" role=\"graphics-symbol\" aria-roledescription=\"point\" transform=\"translate(120,84.61538461538463)\" d=\"M2.7386127875258306,0A2.7386127875258306,2.7386127875258306,0,1,1,-2.7386127875258306,0A2.7386127875258306,2.7386127875258306,0,1,1,2.7386127875258306,0\" stroke=\"rgb(19, 7, 137)\" stroke-width=\"2\" opacity=\"0.7\"/><path aria-label=\"S: 700; s: 150; lost_mean: 0.28\" role=\"graphics-symbol\" aria-roledescription=\"point\" transform=\"translate(140,84.61538461538463)\" d=\"M2.7386127875258306,0A2.7386127875258306,2.7386127875258306,0,1,1,-2.7386127875258306,0A2.7386127875258306,2.7386127875258306,0,1,1,2.7386127875258306,0\" stroke=\"rgb(14, 8, 135)\" stroke-width=\"2\" opacity=\"0.7\"/><path aria-label=\"S: 800; s: 150; lost_mean: 1.81\" role=\"graphics-symbol\" aria-roledescription=\"point\" transform=\"translate(160,84.61538461538463)\" d=\"M2.7386127875258306,0A2.7386127875258306,2.7386127875258306,0,1,1,-2.7386127875258306,0A2.7386127875258306,2.7386127875258306,0,1,1,2.7386127875258306,0\" stroke=\"rgb(19, 7, 137)\" stroke-width=\"2\" opacity=\"0.7\"/><path aria-label=\"S: 900; s: 150; lost_mean: 0.44\" role=\"graphics-symbol\" aria-roledescription=\"point\" transform=\"translate(180,84.61538461538463)\" d=\"M2.7386127875258306,0A2.7386127875258306,2.7386127875258306,0,1,1,-2.7386127875258306,0A2.7386127875258306,2.7386127875258306,0,1,1,2.7386127875258306,0\" stroke=\"rgb(14, 8, 136)\" stroke-width=\"2\" opacity=\"0.7\"/><path aria-label=\"S: 1000; s: 150; lost_mean: 1.6\" role=\"graphics-symbol\" aria-roledescription=\"point\" transform=\"translate(200,84.61538461538463)\" d=\"M2.7386127875258306,0A2.7386127875258306,2.7386127875258306,0,1,1,-2.7386127875258306,0A2.7386127875258306,2.7386127875258306,0,1,1,2.7386127875258306,0\" stroke=\"rgb(18, 8, 137)\" stroke-width=\"2\" opacity=\"0.7\"/><path aria-label=\"S: 200; s: 175; lost_mean: 3.27\" role=\"graphics-symbol\" aria-roledescription=\"point\" transform=\"translate(40,65.38461538461537)\" d=\"M2.7386127875258306,0A2.7386127875258306,2.7386127875258306,0,1,1,-2.7386127875258306,0A2.7386127875258306,2.7386127875258306,0,1,1,2.7386127875258306,0\" stroke=\"rgb(23, 7, 139)\" stroke-width=\"2\" opacity=\"0.7\"/><path aria-label=\"S: 300; s: 175; lost_mean: 0.71\" role=\"graphics-symbol\" aria-roledescription=\"point\" transform=\"translate(60,65.38461538461537)\" d=\"M2.7386127875258306,0A2.7386127875258306,2.7386127875258306,0,1,1,-2.7386127875258306,0A2.7386127875258306,2.7386127875258306,0,1,1,2.7386127875258306,0\" stroke=\"rgb(15, 8, 136)\" stroke-width=\"2\" opacity=\"0.7\"/><path aria-label=\"S: 400; s: 175; lost_mean: 1.75\" role=\"graphics-symbol\" aria-roledescription=\"point\" transform=\"translate(80,65.38461538461537)\" d=\"M2.7386127875258306,0A2.7386127875258306,2.7386127875258306,0,1,1,-2.7386127875258306,0A2.7386127875258306,2.7386127875258306,0,1,1,2.7386127875258306,0\" stroke=\"rgb(18, 8, 137)\" stroke-width=\"2\" opacity=\"0.7\"/><path aria-label=\"S: 500; s: 175; lost_mean: 0.36\" role=\"graphics-symbol\" aria-roledescription=\"point\" transform=\"translate(100,65.38461538461537)\" d=\"M2.7386127875258306,0A2.7386127875258306,2.7386127875258306,0,1,1,-2.7386127875258306,0A2.7386127875258306,2.7386127875258306,0,1,1,2.7386127875258306,0\" stroke=\"rgb(14, 8, 135)\" stroke-width=\"2\" opacity=\"0.7\"/><path aria-label=\"S: 600; s: 175; lost_mean: 0.67\" role=\"graphics-symbol\" aria-roledescription=\"point\" transform=\"translate(120,65.38461538461537)\" d=\"M2.7386127875258306,0A2.7386127875258306,2.7386127875258306,0,1,1,-2.7386127875258306,0A2.7386127875258306,2.7386127875258306,0,1,1,2.7386127875258306,0\" stroke=\"rgb(15, 8, 136)\" stroke-width=\"2\" opacity=\"0.7\"/><path aria-label=\"S: 700; s: 175; lost_mean: 0.02\" role=\"graphics-symbol\" aria-roledescription=\"point\" transform=\"translate(140,65.38461538461537)\" d=\"M2.7386127875258306,0A2.7386127875258306,2.7386127875258306,0,1,1,-2.7386127875258306,0A2.7386127875258306,2.7386127875258306,0,1,1,2.7386127875258306,0\" stroke=\"rgb(13, 8, 135)\" stroke-width=\"2\" opacity=\"0.7\"/><path aria-label=\"S: 800; s: 175; lost_mean: 1.83\" role=\"graphics-symbol\" aria-roledescription=\"point\" transform=\"translate(160,65.38461538461537)\" d=\"M2.7386127875258306,0A2.7386127875258306,2.7386127875258306,0,1,1,-2.7386127875258306,0A2.7386127875258306,2.7386127875258306,0,1,1,2.7386127875258306,0\" stroke=\"rgb(19, 7, 137)\" stroke-width=\"2\" opacity=\"0.7\"/><path aria-label=\"S: 900; s: 175; lost_mean: 1.06\" role=\"graphics-symbol\" aria-roledescription=\"point\" transform=\"translate(180,65.38461538461537)\" d=\"M2.7386127875258306,0A2.7386127875258306,2.7386127875258306,0,1,1,-2.7386127875258306,0A2.7386127875258306,2.7386127875258306,0,1,1,2.7386127875258306,0\" stroke=\"rgb(16, 8, 136)\" stroke-width=\"2\" opacity=\"0.7\"/><path aria-label=\"S: 1000; s: 175; lost_mean: 1.49\" role=\"graphics-symbol\" aria-roledescription=\"point\" transform=\"translate(200,65.38461538461537)\" d=\"M2.7386127875258306,0A2.7386127875258306,2.7386127875258306,0,1,1,-2.7386127875258306,0A2.7386127875258306,2.7386127875258306,0,1,1,2.7386127875258306,0\" stroke=\"rgb(18, 8, 137)\" stroke-width=\"2\" opacity=\"0.7\"/><path aria-label=\"S: 300; s: 200; lost_mean: 0.68\" role=\"graphics-symbol\" aria-roledescription=\"point\" transform=\"translate(60,46.153846153846146)\" d=\"M2.7386127875258306,0A2.7386127875258306,2.7386127875258306,0,1,1,-2.7386127875258306,0A2.7386127875258306,2.7386127875258306,0,1,1,2.7386127875258306,0\" stroke=\"rgb(15, 8, 136)\" stroke-width=\"2\" opacity=\"0.7\"/><path aria-label=\"S: 400; s: 200; lost_mean: 0.82\" role=\"graphics-symbol\" aria-roledescription=\"point\" transform=\"translate(80,46.153846153846146)\" d=\"M2.7386127875258306,0A2.7386127875258306,2.7386127875258306,0,1,1,-2.7386127875258306,0A2.7386127875258306,2.7386127875258306,0,1,1,2.7386127875258306,0\" stroke=\"rgb(15, 8, 136)\" stroke-width=\"2\" opacity=\"0.7\"/><path aria-label=\"S: 500; s: 200; lost_mean: 0.79\" role=\"graphics-symbol\" aria-roledescription=\"point\" transform=\"translate(100,46.153846153846146)\" d=\"M2.7386127875258306,0A2.7386127875258306,2.7386127875258306,0,1,1,-2.7386127875258306,0A2.7386127875258306,2.7386127875258306,0,1,1,2.7386127875258306,0\" stroke=\"rgb(15, 8, 136)\" stroke-width=\"2\" opacity=\"0.7\"/><path aria-label=\"S: 600; s: 200; lost_mean: 1.25\" role=\"graphics-symbol\" aria-roledescription=\"point\" transform=\"translate(120,46.153846153846146)\" d=\"M2.7386127875258306,0A2.7386127875258306,2.7386127875258306,0,1,1,-2.7386127875258306,0A2.7386127875258306,2.7386127875258306,0,1,1,2.7386127875258306,0\" stroke=\"rgb(17, 8, 137)\" stroke-width=\"2\" opacity=\"0.7\"/><path aria-label=\"S: 700; s: 200; lost_mean: 0.72\" role=\"graphics-symbol\" aria-roledescription=\"point\" transform=\"translate(140,46.153846153846146)\" d=\"M2.7386127875258306,0A2.7386127875258306,2.7386127875258306,0,1,1,-2.7386127875258306,0A2.7386127875258306,2.7386127875258306,0,1,1,2.7386127875258306,0\" stroke=\"rgb(15, 8, 136)\" stroke-width=\"2\" opacity=\"0.7\"/><path aria-label=\"S: 800; s: 200; lost_mean: 0.33\" role=\"graphics-symbol\" aria-roledescription=\"point\" transform=\"translate(160,46.153846153846146)\" d=\"M2.7386127875258306,0A2.7386127875258306,2.7386127875258306,0,1,1,-2.7386127875258306,0A2.7386127875258306,2.7386127875258306,0,1,1,2.7386127875258306,0\" stroke=\"rgb(14, 8, 135)\" stroke-width=\"2\" opacity=\"0.7\"/><path aria-label=\"S: 900; s: 200; lost_mean: 0.38\" role=\"graphics-symbol\" aria-roledescription=\"point\" transform=\"translate(180,46.153846153846146)\" d=\"M2.7386127875258306,0A2.7386127875258306,2.7386127875258306,0,1,1,-2.7386127875258306,0A2.7386127875258306,2.7386127875258306,0,1,1,2.7386127875258306,0\" stroke=\"rgb(14, 8, 135)\" stroke-width=\"2\" opacity=\"0.7\"/><path aria-label=\"S: 1000; s: 200; lost_mean: 0.52\" role=\"graphics-symbol\" aria-roledescription=\"point\" transform=\"translate(200,46.153846153846146)\" d=\"M2.7386127875258306,0A2.7386127875258306,2.7386127875258306,0,1,1,-2.7386127875258306,0A2.7386127875258306,2.7386127875258306,0,1,1,2.7386127875258306,0\" stroke=\"rgb(15, 8, 136)\" stroke-width=\"2\" opacity=\"0.7\"/><path aria-label=\"S: 300; s: 225; lost_mean: 1.5\" role=\"graphics-symbol\" aria-roledescription=\"point\" transform=\"translate(60,26.923076923076916)\" d=\"M2.7386127875258306,0A2.7386127875258306,2.7386127875258306,0,1,1,-2.7386127875258306,0A2.7386127875258306,2.7386127875258306,0,1,1,2.7386127875258306,0\" stroke=\"rgb(18, 8, 137)\" stroke-width=\"2\" opacity=\"0.7\"/><path aria-label=\"S: 400; s: 225; lost_mean: 0.7\" role=\"graphics-symbol\" aria-roledescription=\"point\" transform=\"translate(80,26.923076923076916)\" d=\"M2.7386127875258306,0A2.7386127875258306,2.7386127875258306,0,1,1,-2.7386127875258306,0A2.7386127875258306,2.7386127875258306,0,1,1,2.7386127875258306,0\" stroke=\"rgb(15, 8, 136)\" stroke-width=\"2\" opacity=\"0.7\"/><path aria-label=\"S: 500; s: 225; lost_mean: 1.65\" role=\"graphics-symbol\" aria-roledescription=\"point\" transform=\"translate(100,26.923076923076916)\" d=\"M2.7386127875258306,0A2.7386127875258306,2.7386127875258306,0,1,1,-2.7386127875258306,0A2.7386127875258306,2.7386127875258306,0,1,1,2.7386127875258306,0\" stroke=\"rgb(18, 8, 137)\" stroke-width=\"2\" opacity=\"0.7\"/><path aria-label=\"S: 600; s: 225; lost_mean: 2.13\" role=\"graphics-symbol\" aria-roledescription=\"point\" transform=\"translate(120,26.923076923076916)\" d=\"M2.7386127875258306,0A2.7386127875258306,2.7386127875258306,0,1,1,-2.7386127875258306,0A2.7386127875258306,2.7386127875258306,0,1,1,2.7386127875258306,0\" stroke=\"rgb(19, 7, 138)\" stroke-width=\"2\" opacity=\"0.7\"/><path aria-label=\"S: 700; s: 225; lost_mean: 0.93\" role=\"graphics-symbol\" aria-roledescription=\"point\" transform=\"translate(140,26.923076923076916)\" d=\"M2.7386127875258306,0A2.7386127875258306,2.7386127875258306,0,1,1,-2.7386127875258306,0A2.7386127875258306,2.7386127875258306,0,1,1,2.7386127875258306,0\" stroke=\"rgb(16, 8, 136)\" stroke-width=\"2\" opacity=\"0.7\"/><path aria-label=\"S: 800; s: 225; lost_mean: 0.1\" role=\"graphics-symbol\" aria-roledescription=\"point\" transform=\"translate(160,26.923076923076916)\" d=\"M2.7386127875258306,0A2.7386127875258306,2.7386127875258306,0,1,1,-2.7386127875258306,0A2.7386127875258306,2.7386127875258306,0,1,1,2.7386127875258306,0\" stroke=\"rgb(13, 8, 135)\" stroke-width=\"2\" opacity=\"0.7\"/><path aria-label=\"S: 900; s: 225; lost_mean: 0.48\" role=\"graphics-symbol\" aria-roledescription=\"point\" transform=\"translate(180,26.923076923076916)\" d=\"M2.7386127875258306,0A2.7386127875258306,2.7386127875258306,0,1,1,-2.7386127875258306,0A2.7386127875258306,2.7386127875258306,0,1,1,2.7386127875258306,0\" stroke=\"rgb(14, 8, 136)\" stroke-width=\"2\" opacity=\"0.7\"/><path aria-label=\"S: 1000; s: 225; lost_mean: 1.32\" role=\"graphics-symbol\" aria-roledescription=\"point\" transform=\"translate(200,26.923076923076916)\" d=\"M2.7386127875258306,0A2.7386127875258306,2.7386127875258306,0,1,1,-2.7386127875258306,0A2.7386127875258306,2.7386127875258306,0,1,1,2.7386127875258306,0\" stroke=\"rgb(17, 8, 137)\" stroke-width=\"2\" opacity=\"0.7\"/><path aria-label=\"S: 300; s: 250; lost_mean: 0.4\" role=\"graphics-symbol\" aria-roledescription=\"point\" transform=\"translate(60,7.692307692307687)\" d=\"M2.7386127875258306,0A2.7386127875258306,2.7386127875258306,0,1,1,-2.7386127875258306,0A2.7386127875258306,2.7386127875258306,0,1,1,2.7386127875258306,0\" stroke=\"rgb(14, 8, 135)\" stroke-width=\"2\" opacity=\"0.7\"/><path aria-label=\"S: 400; s: 250; lost_mean: 0.1\" role=\"graphics-symbol\" aria-roledescription=\"point\" transform=\"translate(80,7.692307692307687)\" d=\"M2.7386127875258306,0A2.7386127875258306,2.7386127875258306,0,1,1,-2.7386127875258306,0A2.7386127875258306,2.7386127875258306,0,1,1,2.7386127875258306,0\" stroke=\"rgb(13, 8, 135)\" stroke-width=\"2\" opacity=\"0.7\"/><path aria-label=\"S: 500; s: 250; lost_mean: 0.21\" role=\"graphics-symbol\" aria-roledescription=\"point\" transform=\"translate(100,7.692307692307687)\" d=\"M2.7386127875258306,0A2.7386127875258306,2.7386127875258306,0,1,1,-2.7386127875258306,0A2.7386127875258306,2.7386127875258306,0,1,1,2.7386127875258306,0\" stroke=\"rgb(14, 8, 135)\" stroke-width=\"2\" opacity=\"0.7\"/><path aria-label=\"S: 600; s: 250; lost_mean: 2.18\" role=\"graphics-symbol\" aria-roledescription=\"point\" transform=\"translate(120,7.692307692307687)\" d=\"M2.7386127875258306,0A2.7386127875258306,2.7386127875258306,0,1,1,-2.7386127875258306,0A2.7386127875258306,2.7386127875258306,0,1,1,2.7386127875258306,0\" stroke=\"rgb(20, 7, 138)\" stroke-width=\"2\" opacity=\"0.7\"/><path aria-label=\"S: 700; s: 250; lost_mean: 1.76\" role=\"graphics-symbol\" aria-roledescription=\"point\" transform=\"translate(140,7.692307692307687)\" d=\"M2.7386127875258306,0A2.7386127875258306,2.7386127875258306,0,1,1,-2.7386127875258306,0A2.7386127875258306,2.7386127875258306,0,1,1,2.7386127875258306,0\" stroke=\"rgb(18, 8, 137)\" stroke-width=\"2\" opacity=\"0.7\"/><path aria-label=\"S: 800; s: 250; lost_mean: 0.03\" role=\"graphics-symbol\" aria-roledescription=\"point\" transform=\"translate(160,7.692307692307687)\" d=\"M2.7386127875258306,0A2.7386127875258306,2.7386127875258306,0,1,1,-2.7386127875258306,0A2.7386127875258306,2.7386127875258306,0,1,1,2.7386127875258306,0\" stroke=\"rgb(13, 8, 135)\" stroke-width=\"2\" opacity=\"0.7\"/><path aria-label=\"S: 900; s: 250; lost_mean: 0.96\" role=\"graphics-symbol\" aria-roledescription=\"point\" transform=\"translate(180,7.692307692307687)\" d=\"M2.7386127875258306,0A2.7386127875258306,2.7386127875258306,0,1,1,-2.7386127875258306,0A2.7386127875258306,2.7386127875258306,0,1,1,2.7386127875258306,0\" stroke=\"rgb(16, 8, 136)\" stroke-width=\"2\" opacity=\"0.7\"/><path aria-label=\"S: 1000; s: 250; lost_mean: 0\" role=\"graphics-symbol\" aria-roledescription=\"point\" transform=\"translate(200,7.692307692307687)\" d=\"M2.7386127875258306,0A2.7386127875258306,2.7386127875258306,0,1,1,-2.7386127875258306,0A2.7386127875258306,2.7386127875258306,0,1,1,2.7386127875258306,0\" stroke=\"rgb(13, 8, 135)\" stroke-width=\"2\" opacity=\"0.7\"/></g><g class=\"mark-group role-legend\" role=\"graphics-symbol\" aria-roledescription=\"legend\" aria-label=\"Gradient legend titled 'lost_mean' for stroke color with values from 0 to 217\"><g transform=\"translate(218,0)\"><path class=\"background\" aria-hidden=\"true\" d=\"M0,0h55v216h-55Z\" pointer-events=\"none\"/><g><g class=\"mark-group role-legend-entry\"><g transform=\"translate(0,16)\"><path class=\"background\" aria-hidden=\"true\" d=\"M0,0h0v0h0Z\" pointer-events=\"none\"/><g><g class=\"mark-rect role-legend-gradient\" pointer-events=\"none\"><path d=\"M0,0h16v200h-16Z\" fill=\"url(#gradient_0)\" stroke=\"#ddd\" stroke-width=\"0\" opacity=\"0.7\"/></g><g class=\"mark-text role-legend-label\" pointer-events=\"none\"><text text-anchor=\"start\" transform=\"translate(18,198)\" font-family=\"sans-serif\" font-size=\"10px\" fill=\"#000\" opacity=\"1\">0</text><text text-anchor=\"start\" transform=\"translate(18,156.84473368411335)\" font-family=\"sans-serif\" font-size=\"10px\" fill=\"#000\" opacity=\"1\">50</text><text text-anchor=\"start\" transform=\"translate(18,110.68946736822672)\" font-family=\"sans-serif\" font-size=\"10px\" fill=\"#000\" opacity=\"1\">100</text><text text-anchor=\"start\" transform=\"translate(18,64.53420105234007)\" font-family=\"sans-serif\" font-size=\"10px\" fill=\"#000\" opacity=\"1\">150</text><text text-anchor=\"start\" transform=\"translate(18,18.37893473645342)\" font-family=\"sans-serif\" font-size=\"10px\" fill=\"#000\" opacity=\"1\">200</text></g></g><path class=\"foreground\" aria-hidden=\"true\" d=\"\" pointer-events=\"none\" display=\"none\"/></g></g><g class=\"mark-text role-legend-title\" pointer-events=\"none\"><text text-anchor=\"start\" transform=\"translate(0,9)\" font-family=\"sans-serif\" font-size=\"11px\" font-weight=\"bold\" fill=\"#000\" opacity=\"1\">lost_mean</text></g></g><path class=\"foreground\" aria-hidden=\"true\" d=\"\" pointer-events=\"none\" display=\"none\"/></g></g></g><path class=\"foreground\" aria-hidden=\"true\" d=\"\" display=\"none\"/></g></g></g><defs><linearGradient id=\"gradient_0\" x1=\"0\" x2=\"0\" y1=\"1\" y2=\"0\"><stop offset=\"0\" stop-color=\"rgb(13, 8, 135)\"/><stop offset=\"0.09231053263177329\" stop-color=\"rgb(63, 3, 156)\"/><stop offset=\"0.18462106526354657\" stop-color=\"rgb(100, 0, 167)\"/><stop offset=\"0.27693159789531985\" stop-color=\"rgb(136, 7, 166)\"/><stop offset=\"0.36924213052709315\" stop-color=\"rgb(168, 34, 151)\"/><stop offset=\"0.46155266315886645\" stop-color=\"rgb(194, 60, 129)\"/><stop offset=\"0.5538631957906397\" stop-color=\"rgb(215, 87, 108)\"/><stop offset=\"0.646173728422413\" stop-color=\"rgb(233, 114, 88)\"/><stop offset=\"0.7384842610541863\" stop-color=\"rgb(247, 145, 67)\"/><stop offset=\"0.8307947936859595\" stop-color=\"rgb(253, 178, 48)\"/><stop offset=\"0.9231053263177329\" stop-color=\"rgb(250, 216, 36)\"/><stop offset=\"1\" stop-color=\"rgb(240, 249, 33)\"/></linearGradient></defs></svg>\n"
      ],
      "text/plain": [
       "@vlplot(\n",
       "    mark=\"point\",\n",
       "    encoding={\n",
       "        x={\n",
       "            field=\"S\"\n",
       "        },\n",
       "        y={\n",
       "            field=\"s\"\n",
       "        },\n",
       "        color={\n",
       "            scale={\n",
       "                scheme=\"plasma\"\n",
       "            },\n",
       "            field=\"lost_mean\"\n",
       "        }\n",
       "    },\n",
       "    data={\n",
       "        values=...\n",
       "    }\n",
       ")"
      ]
     },
     "metadata": {},
     "output_type": "display_data"
    }
   ],
   "source": [
    "# using PyPlot\n",
    "# using PyCall \n",
    "\n",
    "using VegaLite\n",
    "df |> @vlplot(:point, x=:S, y=:s, color={:lost_mean, scale={scheme=:plasma}})\n",
    "\n",
    "        # scatter(df.S[more500],\n",
    "#         df.s[more500], \n",
    "#         c=df.lost_mean[more500] )\n",
    "# xlabel(\"S - target wharehouse stock \")\n",
    "# ylabel(\"s - reorder point\")\n",
    "# colorbar()\n",
    "# title(\"Lost orders\")\n",
    "\n",
    "# scatter(df.S[Not(more500)],\n",
    "#         df.s[Not(more500)], \n",
    "#         c=\"gray\")\n",
    "# show()\n",
    "# savefig(raw\"c:\\temp\\lost_orders.png\")"
   ]
  },
  {
   "cell_type": "code",
   "execution_count": 21,
   "metadata": {
    "scrolled": true
   },
   "outputs": [
    {
     "data": {
      "application/vnd.vegalite.v4+json": {
       "data": {
        "values": [
         {
          "N": 100,
          "S": 100,
          "lost_mean": 216.66,
          "lost_std": 86.9470081269173,
          "m": 90,
          "profit_mean": 2971.249,
          "profit_std": 187.95520554621308,
          "s": 25
         },
         {
          "N": 100,
          "S": 200,
          "lost_mean": 118.92,
          "lost_std": 62.04913009426116,
          "m": 90,
          "profit_mean": 3579.7960000000003,
          "profit_std": 143.17221100493074,
          "s": 25
         },
         {
          "N": 100,
          "S": 300,
          "lost_mean": 81.2,
          "lost_std": 61.18988495006359,
          "m": 90,
          "profit_mean": 3488.4050000000007,
          "profit_std": 233.74275784168026,
          "s": 25
         },
         {
          "N": 100,
          "S": 400,
          "lost_mean": 60.11,
          "lost_std": 45.893793731073295,
          "m": 90,
          "profit_mean": 3081.231,
          "profit_std": 179.82085119429956,
          "s": 25
         },
         {
          "N": 100,
          "S": 500,
          "lost_mean": 50.72,
          "lost_std": 46.57742115678112,
          "m": 90,
          "profit_mean": 2630.7940000000003,
          "profit_std": 167.02355959141173,
          "s": 25
         },
         {
          "N": 100,
          "S": 600,
          "lost_mean": 34.57,
          "lost_std": 38.67169638133426,
          "m": 90,
          "profit_mean": 2546.72,
          "profit_std": 258.4702663477147,
          "s": 25
         },
         {
          "N": 100,
          "S": 700,
          "lost_mean": 33.52,
          "lost_std": 31.946128897178628,
          "m": 90,
          "profit_mean": 1683.641,
          "profit_std": 168.93935442559678,
          "s": 25
         },
         {
          "N": 100,
          "S": 800,
          "lost_mean": 32.05,
          "lost_std": 34.9673368511908,
          "m": 90,
          "profit_mean": 1200.9729999999995,
          "profit_std": 281.1663826245624,
          "s": 25
         },
         {
          "N": 100,
          "S": 900,
          "lost_mean": 30.45,
          "lost_std": 37.83360031944242,
          "m": 90,
          "profit_mean": 1367.398,
          "profit_std": 302.58799637711195,
          "s": 25
         },
         {
          "N": 100,
          "S": 1000,
          "lost_mean": 24.22,
          "lost_std": 28.795194604711952,
          "m": 90,
          "profit_mean": 419.79099999999994,
          "profit_std": 221.17033158800362,
          "s": 25
         },
         {
          "N": 100,
          "S": 100,
          "lost_mean": 118.74,
          "lost_std": 73.54756861028683,
          "m": 90,
          "profit_mean": 2661.4039999999995,
          "profit_std": 141.7369971019379,
          "s": 50
         },
         {
          "N": 100,
          "S": 200,
          "lost_mean": 49.21,
          "lost_std": 49.32602218552054,
          "m": 90,
          "profit_mean": 3534.3150000000005,
          "profit_std": 159.41803592055612,
          "s": 50
         },
         {
          "N": 100,
          "S": 300,
          "lost_mean": 44.28,
          "lost_std": 55.60249976213282,
          "m": 90,
          "profit_mean": 3394.5560000000005,
          "profit_std": 188.26334141625162,
          "s": 50
         },
         {
          "N": 100,
          "S": 400,
          "lost_mean": 37.86,
          "lost_std": 48.17833454149198,
          "m": 90,
          "profit_mean": 3061.301,
          "profit_std": 190.8767143996355,
          "s": 50
         },
         {
          "N": 100,
          "S": 500,
          "lost_mean": 21.04,
          "lost_std": 31.871243490271315,
          "m": 90,
          "profit_mean": 2721.5890000000004,
          "profit_std": 214.69375882823894,
          "s": 50
         },
         {
          "N": 100,
          "S": 600,
          "lost_mean": 16.11,
          "lost_std": 27.825173908356856,
          "m": 90,
          "profit_mean": 2407.2490000000003,
          "profit_std": 282.0750023817901,
          "s": 50
         },
         {
          "N": 100,
          "S": 700,
          "lost_mean": 20.11,
          "lost_std": 29.26745184285331,
          "m": 90,
          "profit_mean": 1642.6039999999996,
          "profit_std": 171.262618893625,
          "s": 50
         },
         {
          "N": 100,
          "S": 800,
          "lost_mean": 18.19,
          "lost_std": 32.82481661576475,
          "m": 90,
          "profit_mean": 1014.0949999999997,
          "profit_std": 189.3099048538073,
          "s": 50
         },
         {
          "N": 100,
          "S": 900,
          "lost_mean": 13.63,
          "lost_std": 25.355912983608448,
          "m": 90,
          "profit_mean": 1231.521,
          "profit_std": 324.8279520660658,
          "s": 50
         },
         {
          "N": 100,
          "S": 1000,
          "lost_mean": 9.96,
          "lost_std": 26.49868302425994,
          "m": 90,
          "profit_mean": 435.7709999999998,
          "profit_std": 259.2438944840799,
          "s": 50
         },
         {
          "N": 100,
          "S": 100,
          "lost_mean": 74.03,
          "lost_std": 56.146355467859465,
          "m": 90,
          "profit_mean": 1855.157,
          "profit_std": 251.1118521172137,
          "s": 75
         },
         {
          "N": 100,
          "S": 200,
          "lost_mean": 24.44,
          "lost_std": 32.929468550067725,
          "m": 90,
          "profit_mean": 3346.4440000000004,
          "profit_std": 164.15197769694447,
          "s": 75
         },
         {
          "N": 100,
          "S": 300,
          "lost_mean": 14.97,
          "lost_std": 26.357853946147905,
          "m": 90,
          "profit_mean": 3300.2020000000007,
          "profit_std": 171.81134943285713,
          "s": 75
         },
         {
          "N": 100,
          "S": 400,
          "lost_mean": 6.17,
          "lost_std": 14.591442766916574,
          "m": 90,
          "profit_mean": 3035.6479999999997,
          "profit_std": 209.69590559723002,
          "s": 75
         },
         {
          "N": 100,
          "S": 500,
          "lost_mean": 7.34,
          "lost_std": 24.491276533954412,
          "m": 90,
          "profit_mean": 2687.4680000000003,
          "profit_std": 239.6288636600147,
          "s": 75
         },
         {
          "N": 100,
          "S": 600,
          "lost_mean": 9.68,
          "lost_std": 26.735849651089385,
          "m": 90,
          "profit_mean": 2028.0840000000003,
          "profit_std": 263.90170986313603,
          "s": 75
         },
         {
          "N": 100,
          "S": 700,
          "lost_mean": 7.85,
          "lost_std": 21.5417729028504,
          "m": 90,
          "profit_mean": 1678.705,
          "profit_std": 207.2270415327696,
          "s": 75
         },
         {
          "N": 100,
          "S": 800,
          "lost_mean": 11.43,
          "lost_std": 24.390449778633442,
          "m": 90,
          "profit_mean": 914.724,
          "profit_std": 153.53444592288884,
          "s": 75
         },
         {
          "N": 100,
          "S": 900,
          "lost_mean": 4.52,
          "lost_std": 15.272263100209486,
          "m": 90,
          "profit_mean": 682.4799999999997,
          "profit_std": 435.9574175294989,
          "s": 75
         },
         {
          "N": 100,
          "S": 1000,
          "lost_mean": 3.27,
          "lost_std": 14.687901294754278,
          "m": 90,
          "profit_mean": 439.6809999999997,
          "profit_std": 268.44414639988645,
          "s": 75
         },
         {
          "N": 100,
          "S": 200,
          "lost_mean": 20.08,
          "lost_std": 32.71909213133809,
          "m": 90,
          "profit_mean": 3020.23,
          "profit_std": 160.12806900992885,
          "s": 100
         },
         {
          "N": 100,
          "S": 300,
          "lost_mean": 5.76,
          "lost_std": 15.6276884555793,
          "m": 90,
          "profit_mean": 3120.251,
          "profit_std": 168.18128836635097,
          "s": 100
         },
         {
          "N": 100,
          "S": 400,
          "lost_mean": 6.26,
          "lost_std": 17.33486007262169,
          "m": 90,
          "profit_mean": 2795.2369999999996,
          "profit_std": 187.47999362894984,
          "s": 100
         },
         {
          "N": 100,
          "S": 500,
          "lost_mean": 5.26,
          "lost_std": 26.617993458515535,
          "m": 90,
          "profit_mean": 2386.138,
          "profit_std": 263.08043889520366,
          "s": 100
         },
         {
          "N": 100,
          "S": 600,
          "lost_mean": 2.97,
          "lost_std": 13.148303266500925,
          "m": 90,
          "profit_mean": 1828.5710000000001,
          "profit_std": 170.44090969001425,
          "s": 100
         },
         {
          "N": 100,
          "S": 700,
          "lost_mean": 0.49,
          "lost_std": 2.7135834893246518,
          "m": 90,
          "profit_mean": 1683.693,
          "profit_std": 251.01191378019482,
          "s": 100
         },
         {
          "N": 100,
          "S": 800,
          "lost_mean": 5.79,
          "lost_std": 19.27802695382292,
          "m": 90,
          "profit_mean": 814.0609999999998,
          "profit_std": 186.53830266898606,
          "s": 100
         },
         {
          "N": 100,
          "S": 900,
          "lost_mean": 2.51,
          "lost_std": 7.848946400374996,
          "m": 90,
          "profit_mean": 293.36999999999983,
          "profit_std": 355.2029320392681,
          "s": 100
         },
         {
          "N": 100,
          "S": 1000,
          "lost_mean": 2.53,
          "lost_std": 12.014683777054906,
          "m": 90,
          "profit_mean": 428.6849999999998,
          "profit_std": 255.33067344725794,
          "s": 100
         },
         {
          "N": 100,
          "S": 200,
          "lost_mean": 9.32,
          "lost_std": 21.774268940168533,
          "m": 90,
          "profit_mean": 2615.4799999999996,
          "profit_std": 187.355158870941,
          "s": 125
         },
         {
          "N": 100,
          "S": 300,
          "lost_mean": 2.89,
          "lost_std": 12.867541970541087,
          "m": 90,
          "profit_mean": 2913.112,
          "profit_std": 175.10721811034347,
          "s": 125
         },
         {
          "N": 100,
          "S": 400,
          "lost_mean": 4.37,
          "lost_std": 18.413683427650682,
          "m": 90,
          "profit_mean": 2680.0350000000008,
          "profit_std": 174.42341978268527,
          "s": 125
         },
         {
          "N": 100,
          "S": 500,
          "lost_mean": 3.27,
          "lost_std": 18.34619658929144,
          "m": 90,
          "profit_mean": 2227.969,
          "profit_std": 205.2709747375331,
          "s": 125
         },
         {
          "N": 100,
          "S": 600,
          "lost_mean": 0.92,
          "lost_std": 5.364831231400866,
          "m": 90,
          "profit_mean": 1771.845,
          "profit_std": 161.99935613726643,
          "s": 125
         },
         {
          "N": 100,
          "S": 700,
          "lost_mean": 0.75,
          "lost_std": 6.1272285164607085,
          "m": 90,
          "profit_mean": 1545.7620000000002,
          "profit_std": 273.75956743762646,
          "s": 125
         },
         {
          "N": 100,
          "S": 800,
          "lost_mean": 2.17,
          "lost_std": 11.349413725791825,
          "m": 90,
          "profit_mean": 722.4939999999998,
          "profit_std": 207.39437171288384,
          "s": 125
         },
         {
          "N": 100,
          "S": 900,
          "lost_mean": 1.94,
          "lost_std": 8.282658042103648,
          "m": 90,
          "profit_mean": 59.789999999999836,
          "profit_std": 220.4234160048163,
          "s": 125
         },
         {
          "N": 100,
          "S": 1000,
          "lost_mean": 1.12,
          "lost_std": 8.359691647689191,
          "m": 90,
          "profit_mean": 268.1569999999998,
          "profit_std": 409.5952826963107,
          "s": 125
         },
         {
          "N": 100,
          "S": 200,
          "lost_mean": 1.83,
          "lost_std": 7.363649457526704,
          "m": 90,
          "profit_mean": 1970.987,
          "profit_std": 248.1636767042137,
          "s": 150
         },
         {
          "N": 100,
          "S": 300,
          "lost_mean": 2.02,
          "lost_std": 8.678290573190507,
          "m": 90,
          "profit_mean": 2671.952,
          "profit_std": 166.81307961701663,
          "s": 150
         },
         {
          "N": 100,
          "S": 400,
          "lost_mean": 1.22,
          "lost_std": 6.331865858696413,
          "m": 90,
          "profit_mean": 2497.744,
          "profit_std": 185.28499223486705,
          "s": 150
         },
         {
          "N": 100,
          "S": 500,
          "lost_mean": 0.56,
          "lost_std": 3.30386978489703,
          "m": 90,
          "profit_mean": 2149.314,
          "profit_std": 210.26386982440738,
          "s": 150
         },
         {
          "N": 100,
          "S": 600,
          "lost_mean": 1.99,
          "lost_std": 10.519337652460095,
          "m": 90,
          "profit_mean": 1814.606,
          "profit_std": 190.31460281450927,
          "s": 150
         },
         {
          "N": 100,
          "S": 700,
          "lost_mean": 0.28,
          "lost_std": 1.9698741179080554,
          "m": 90,
          "profit_mean": 1134.7029999999995,
          "profit_std": 327.16855769224566,
          "s": 150
         },
         {
          "N": 100,
          "S": 800,
          "lost_mean": 1.81,
          "lost_std": 10.048061273376836,
          "m": 90,
          "profit_mean": 737.2569999999998,
          "profit_std": 205.53083833347395,
          "s": 150
         },
         {
          "N": 100,
          "S": 900,
          "lost_mean": 0.44,
          "lost_std": 3.2108402248469083,
          "m": 90,
          "profit_mean": -37.010000000000225,
          "profit_std": 181.72357657395006,
          "s": 150
         },
         {
          "N": 100,
          "S": 1000,
          "lost_mean": 1.6,
          "lost_std": 8.836334538755771,
          "m": 90,
          "profit_mean": -236.9160000000002,
          "profit_std": 504.6193942713135,
          "s": 150
         },
         {
          "N": 100,
          "S": 200,
          "lost_mean": 3.27,
          "lost_std": 12.657775986692645,
          "m": 90,
          "profit_mean": 1034.612,
          "profit_std": 341.1812309899212,
          "s": 175
         },
         {
          "N": 100,
          "S": 300,
          "lost_mean": 0.71,
          "lost_std": 3.7180830294846046,
          "m": 90,
          "profit_mean": 2395.3160000000003,
          "profit_std": 204.57018391118135,
          "s": 175
         },
         {
          "N": 100,
          "S": 400,
          "lost_mean": 1.75,
          "lost_std": 12.90632528348919,
          "m": 90,
          "profit_mean": 2297.704,
          "profit_std": 193.6575880206604,
          "s": 175
         },
         {
          "N": 100,
          "S": 500,
          "lost_mean": 0.36,
          "lost_std": 3.5999999999999996,
          "m": 90,
          "profit_mean": 1958.382,
          "profit_std": 253.70202213692272,
          "s": 175
         },
         {
          "N": 100,
          "S": 600,
          "lost_mean": 0.67,
          "lost_std": 4.290122552462986,
          "m": 90,
          "profit_mean": 1649.5899999999997,
          "profit_std": 249.80461192983236,
          "s": 175
         },
         {
          "N": 100,
          "S": 700,
          "lost_mean": 0.02,
          "lost_std": 0.19999999999999998,
          "m": 90,
          "profit_mean": 917.8089999999997,
          "profit_std": 235.50629625287615,
          "s": 175
         },
         {
          "N": 100,
          "S": 800,
          "lost_mean": 1.83,
          "lost_std": 11.84159336125563,
          "m": 90,
          "profit_mean": 725.9579999999999,
          "profit_std": 225.62798745552894,
          "s": 175
         },
         {
          "N": 100,
          "S": 900,
          "lost_mean": 1.06,
          "lost_std": 10.600000000000003,
          "m": 90,
          "profit_mean": -147.6150000000002,
          "profit_std": 192.0369200482453,
          "s": 175
         },
         {
          "N": 100,
          "S": 1000,
          "lost_mean": 1.49,
          "lost_std": 9.630019352383082,
          "m": 90,
          "profit_mean": -507.8470000000002,
          "profit_std": 446.96536585482477,
          "s": 175
         },
         {
          "N": 100,
          "S": 300,
          "lost_mean": 0.68,
          "lost_std": 6.5007847234162455,
          "m": 90,
          "profit_mean": 2051.976,
          "profit_std": 166.18719645829125,
          "s": 200
         },
         {
          "N": 100,
          "S": 400,
          "lost_mean": 0.82,
          "lost_std": 5.341622346528188,
          "m": 90,
          "profit_mean": 2142.9079999999994,
          "profit_std": 205.21167277332017,
          "s": 200
         },
         {
          "N": 100,
          "S": 500,
          "lost_mean": 0.79,
          "lost_std": 4.759456296933951,
          "m": 90,
          "profit_mean": 1773.4129999999998,
          "profit_std": 192.5260631208359,
          "s": 200
         },
         {
          "N": 100,
          "S": 600,
          "lost_mean": 1.25,
          "lost_std": 7.629521345379143,
          "m": 90,
          "profit_mean": 1365.214,
          "profit_std": 268.5887686979988,
          "s": 200
         },
         {
          "N": 100,
          "S": 700,
          "lost_mean": 0.72,
          "lost_std": 4.9991514431466415,
          "m": 90,
          "profit_mean": 807.732,
          "profit_std": 167.06069294502737,
          "s": 200
         },
         {
          "N": 100,
          "S": 800,
          "lost_mean": 0.33,
          "lost_std": 2.074642478631298,
          "m": 90,
          "profit_mean": 690.9069999999998,
          "profit_std": 228.549274688427,
          "s": 200
         },
         {
          "N": 100,
          "S": 900,
          "lost_mean": 0.38,
          "lost_std": 2.643001049083135,
          "m": 90,
          "profit_mean": -141.55000000000027,
          "profit_std": 207.4540837599657,
          "s": 200
         },
         {
          "N": 100,
          "S": 1000,
          "lost_mean": 0.52,
          "lost_std": 5.199999999999998,
          "m": 90,
          "profit_mean": -772.3740000000003,
          "profit_std": 332.43444546149686,
          "s": 200
         },
         {
          "N": 100,
          "S": 300,
          "lost_mean": 1.5,
          "lost_std": 7.6785152184257575,
          "m": 90,
          "profit_mean": 1663.1519999999998,
          "profit_std": 212.2201855801581,
          "s": 225
         },
         {
          "N": 100,
          "S": 400,
          "lost_mean": 0.7,
          "lost_std": 4.924685294770139,
          "m": 90,
          "profit_mean": 1930.973,
          "profit_std": 173.7541569039836,
          "s": 225
         },
         {
          "N": 100,
          "S": 500,
          "lost_mean": 1.65,
          "lost_std": 13.0580483328339,
          "m": 90,
          "profit_mean": 1677.326,
          "profit_std": 206.8589431169819,
          "s": 225
         },
         {
          "N": 100,
          "S": 600,
          "lost_mean": 2.13,
          "lost_std": 12.449214003017588,
          "m": 90,
          "profit_mean": 1233.0069999999998,
          "profit_std": 224.07148492065085,
          "s": 225
         },
         {
          "N": 100,
          "S": 700,
          "lost_mean": 0.93,
          "lost_std": 6.244601709080452,
          "m": 90,
          "profit_mean": 808.2299999999999,
          "profit_std": 207.0249545783837,
          "s": 225
         },
         {
          "N": 100,
          "S": 800,
          "lost_mean": 0.1,
          "lost_std": 1.0000000000000007,
          "m": 90,
          "profit_mean": 534.6999999999999,
          "profit_std": 304.10735478170074,
          "s": 225
         },
         {
          "N": 100,
          "S": 900,
          "lost_mean": 0.48,
          "lost_std": 4.071284015559898,
          "m": 90,
          "profit_mean": -243.1130000000002,
          "profit_std": 201.20523400977746,
          "s": 225
         },
         {
          "N": 100,
          "S": 1000,
          "lost_mean": 1.32,
          "lost_std": 7.085167320508104,
          "m": 90,
          "profit_mean": -954.1800000000002,
          "profit_std": 197.84985992086783,
          "s": 225
         },
         {
          "N": 100,
          "S": 300,
          "lost_mean": 0.4,
          "lost_std": 2.8141058827257948,
          "m": 90,
          "profit_mean": 1026.938,
          "profit_std": 254.7140614235278,
          "s": 250
         },
         {
          "N": 100,
          "S": 400,
          "lost_mean": 0.1,
          "lost_std": 1.0000000000000007,
          "m": 90,
          "profit_mean": 1651.1429999999998,
          "profit_std": 172.60763601622932,
          "s": 250
         },
         {
          "N": 100,
          "S": 500,
          "lost_mean": 0.21,
          "lost_std": 1.6714779040832046,
          "m": 90,
          "profit_mean": 1488.8509999999997,
          "profit_std": 226.5972819360552,
          "s": 250
         },
         {
          "N": 100,
          "S": 600,
          "lost_mean": 2.18,
          "lost_std": 13.832606771719133,
          "m": 90,
          "profit_mean": 1213.382,
          "profit_std": 196.7978249756625,
          "s": 250
         },
         {
          "N": 100,
          "S": 700,
          "lost_mean": 1.76,
          "lost_std": 15.115795471204054,
          "m": 90,
          "profit_mean": 799.0329999999999,
          "profit_std": 176.64162204127808,
          "s": 250
         },
         {
          "N": 100,
          "S": 800,
          "lost_mean": 0.03,
          "lost_std": 0.2999999999999999,
          "m": 90,
          "profit_mean": 168.5249999999998,
          "profit_std": 342.22972507107306,
          "s": 250
         },
         {
          "N": 100,
          "S": 900,
          "lost_mean": 0.96,
          "lost_std": 7.126448107315638,
          "m": 90,
          "profit_mean": -275.16500000000025,
          "profit_std": 195.89202672994028,
          "s": 250
         },
         {
          "N": 100,
          "S": 1000,
          "lost_mean": 0,
          "lost_std": 0,
          "m": 90,
          "profit_mean": -1019.1280000000002,
          "profit_std": 171.74590291380093,
          "s": 250
         }
        ]
       },
       "encoding": {
        "color": {
         "field": "s",
         "scale": {
          "scheme": "plasma"
         },
         "type": "quantitative"
        },
        "x": {
         "field": "lost_mean",
         "type": "quantitative"
        },
        "y": {
         "field": "profit_mean",
         "type": "quantitative"
        }
       },
       "mark": "point"
      },
      "image/png": "[encoded data removed]",
      "image/svg+xml": [
       "<?xml version=\"1.0\" encoding=\"utf-8\"?>\n",
       "<!DOCTYPE svg PUBLIC \"-//W3C//DTD SVG 1.1//EN\" \"http://www.w3.org/Graphics/SVG/1.1/DTD/svg11.dtd\">\n",
       "<svg xmlns=\"http://www.w3.org/2000/svg\" xmlns:xlink=\"http://www.w3.org/1999/xlink\" version=\"1.1\" class=\"marks\" width=\"319\" height=\"247\" viewBox=\"0 0 319 247\"><rect width=\"319\" height=\"247\" fill=\"white\"/><g fill=\"none\" stroke-miterlimit=\"10\" transform=\"translate(60,10)\"><g class=\"mark-group role-frame root\" role=\"graphics-object\" aria-roledescription=\"group mark container\"><g transform=\"translate(0,0)\"><path class=\"background\" aria-hidden=\"true\" d=\"M0.5,0.5h200v200h-200Z\" stroke=\"#ddd\"/><g><g class=\"mark-group role-axis\" aria-hidden=\"true\"><g transform=\"translate(0.5,200.5)\"><path class=\"background\" aria-hidden=\"true\" d=\"M0,0h0v0h0Z\" pointer-events=\"none\"/><g><g class=\"mark-rule role-axis-grid\" pointer-events=\"none\"><line transform=\"translate(0,-200)\" x2=\"0\" y2=\"200\" stroke=\"#ddd\" stroke-width=\"1\" opacity=\"1\"/><line transform=\"translate(45,-200)\" x2=\"0\" y2=\"200\" stroke=\"#ddd\" stroke-width=\"1\" opacity=\"1\"/><line transform=\"translate(91,-200)\" x2=\"0\" y2=\"200\" stroke=\"#ddd\" stroke-width=\"1\" opacity=\"1\"/><line transform=\"translate(136,-200)\" x2=\"0\" y2=\"200\" stroke=\"#ddd\" stroke-width=\"1\" opacity=\"1\"/><line transform=\"translate(182,-200)\" x2=\"0\" y2=\"200\" stroke=\"#ddd\" stroke-width=\"1\" opacity=\"1\"/></g></g><path class=\"foreground\" aria-hidden=\"true\" d=\"\" pointer-events=\"none\" display=\"none\"/></g></g><g class=\"mark-group role-axis\" aria-hidden=\"true\"><g transform=\"translate(0.5,0.5)\"><path class=\"background\" aria-hidden=\"true\" d=\"M0,0h0v0h0Z\" pointer-events=\"none\"/><g><g class=\"mark-rule role-axis-grid\" pointer-events=\"none\"><line transform=\"translate(0,182)\" x2=\"200\" y2=\"0\" stroke=\"#ddd\" stroke-width=\"1\" opacity=\"1\"/><line transform=\"translate(0,145)\" x2=\"200\" y2=\"0\" stroke=\"#ddd\" stroke-width=\"1\" opacity=\"1\"/><line transform=\"translate(0,109)\" x2=\"200\" y2=\"0\" stroke=\"#ddd\" stroke-width=\"1\" opacity=\"1\"/><line transform=\"translate(0,73)\" x2=\"200\" y2=\"0\" stroke=\"#ddd\" stroke-width=\"1\" opacity=\"1\"/><line transform=\"translate(0,36)\" x2=\"200\" y2=\"0\" stroke=\"#ddd\" stroke-width=\"1\" opacity=\"1\"/><line transform=\"translate(0,0)\" x2=\"200\" y2=\"0\" stroke=\"#ddd\" stroke-width=\"1\" opacity=\"1\"/></g></g><path class=\"foreground\" aria-hidden=\"true\" d=\"\" pointer-events=\"none\" display=\"none\"/></g></g><g class=\"mark-group role-axis\" role=\"graphics-symbol\" aria-roledescription=\"axis\" aria-label=\"X-axis titled 'lost_mean' for a linear scale with values from 0 to 220\"><g transform=\"translate(0.5,200.5)\"><path class=\"background\" aria-hidden=\"true\" d=\"M0,0h0v0h0Z\" pointer-events=\"none\"/><g><g class=\"mark-rule role-axis-tick\" pointer-events=\"none\"><line transform=\"translate(0,0)\" x2=\"0\" y2=\"5\" stroke=\"#888\" stroke-width=\"1\" opacity=\"1\"/><line transform=\"translate(45,0)\" x2=\"0\" y2=\"5\" stroke=\"#888\" stroke-width=\"1\" opacity=\"1\"/><line transform=\"translate(91,0)\" x2=\"0\" y2=\"5\" stroke=\"#888\" stroke-width=\"1\" opacity=\"1\"/><line transform=\"translate(136,0)\" x2=\"0\" y2=\"5\" stroke=\"#888\" stroke-width=\"1\" opacity=\"1\"/><line transform=\"translate(182,0)\" x2=\"0\" y2=\"5\" stroke=\"#888\" stroke-width=\"1\" opacity=\"1\"/></g><g class=\"mark-text role-axis-label\" pointer-events=\"none\"><text text-anchor=\"start\" transform=\"translate(0,15)\" font-family=\"sans-serif\" font-size=\"10px\" fill=\"#000\" opacity=\"1\">0</text><text text-anchor=\"middle\" transform=\"translate(45.45454545454545,15)\" font-family=\"sans-serif\" font-size=\"10px\" fill=\"#000\" opacity=\"1\">50</text><text text-anchor=\"middle\" transform=\"translate(90.9090909090909,15)\" font-family=\"sans-serif\" font-size=\"10px\" fill=\"#000\" opacity=\"1\">100</text><text text-anchor=\"middle\" transform=\"translate(136.36363636363635,15)\" font-family=\"sans-serif\" font-size=\"10px\" fill=\"#000\" opacity=\"1\">150</text><text text-anchor=\"middle\" transform=\"translate(181.8181818181818,15)\" font-family=\"sans-serif\" font-size=\"10px\" fill=\"#000\" opacity=\"1\">200</text></g><g class=\"mark-rule role-axis-domain\" pointer-events=\"none\"><line transform=\"translate(0,0)\" x2=\"200\" y2=\"0\" stroke=\"#888\" stroke-width=\"1\" opacity=\"1\"/></g><g class=\"mark-text role-axis-title\" pointer-events=\"none\"><text text-anchor=\"middle\" transform=\"translate(100,30)\" font-family=\"sans-serif\" font-size=\"11px\" font-weight=\"bold\" fill=\"#000\" opacity=\"1\">lost_mean</text></g></g><path class=\"foreground\" aria-hidden=\"true\" d=\"\" pointer-events=\"none\" display=\"none\"/></g></g><g class=\"mark-group role-axis\" role=\"graphics-symbol\" aria-roledescription=\"axis\" aria-label=\"Y-axis titled 'profit_mean' for a linear scale with values from −1,500 to 4,000\"><g transform=\"translate(0.5,0.5)\"><path class=\"background\" aria-hidden=\"true\" d=\"M0,0h0v0h0Z\" pointer-events=\"none\"/><g><g class=\"mark-rule role-axis-tick\" pointer-events=\"none\"><line transform=\"translate(0,182)\" x2=\"-5\" y2=\"0\" stroke=\"#888\" stroke-width=\"1\" opacity=\"1\"/><line transform=\"translate(0,145)\" x2=\"-5\" y2=\"0\" stroke=\"#888\" stroke-width=\"1\" opacity=\"1\"/><line transform=\"translate(0,109)\" x2=\"-5\" y2=\"0\" stroke=\"#888\" stroke-width=\"1\" opacity=\"1\"/><line transform=\"translate(0,73)\" x2=\"-5\" y2=\"0\" stroke=\"#888\" stroke-width=\"1\" opacity=\"1\"/><line transform=\"translate(0,36)\" x2=\"-5\" y2=\"0\" stroke=\"#888\" stroke-width=\"1\" opacity=\"1\"/><line transform=\"translate(0,0)\" x2=\"-5\" y2=\"0\" stroke=\"#888\" stroke-width=\"1\" opacity=\"1\"/></g><g class=\"mark-text role-axis-label\" pointer-events=\"none\"><text text-anchor=\"end\" transform=\"translate(-7,184.8181818181818)\" font-family=\"sans-serif\" font-size=\"10px\" fill=\"#000\" opacity=\"1\">−1,000</text><text text-anchor=\"end\" transform=\"translate(-7,148.45454545454547)\" font-family=\"sans-serif\" font-size=\"10px\" fill=\"#000\" opacity=\"1\">0</text><text text-anchor=\"end\" transform=\"translate(-7,112.09090909090908)\" font-family=\"sans-serif\" font-size=\"10px\" fill=\"#000\" opacity=\"1\">1,000</text><text text-anchor=\"end\" transform=\"translate(-7,75.72727272727273)\" font-family=\"sans-serif\" font-size=\"10px\" fill=\"#000\" opacity=\"1\">2,000</text><text text-anchor=\"end\" transform=\"translate(-7,39.36363636363635)\" font-family=\"sans-serif\" font-size=\"10px\" fill=\"#000\" opacity=\"1\">3,000</text><text text-anchor=\"end\" transform=\"translate(-7,3)\" font-family=\"sans-serif\" font-size=\"10px\" fill=\"#000\" opacity=\"1\">4,000</text></g><g class=\"mark-rule role-axis-domain\" pointer-events=\"none\"><line transform=\"translate(0,200)\" x2=\"0\" y2=\"-200\" stroke=\"#888\" stroke-width=\"1\" opacity=\"1\"/></g><g class=\"mark-text role-axis-title\" pointer-events=\"none\"><text text-anchor=\"middle\" transform=\"translate(-44,100) rotate(-90) translate(0,-2)\" font-family=\"sans-serif\" font-size=\"11px\" font-weight=\"bold\" fill=\"#000\" opacity=\"1\">profit_mean</text></g></g><path class=\"foreground\" aria-hidden=\"true\" d=\"\" pointer-events=\"none\" display=\"none\"/></g></g><g class=\"mark-symbol role-mark marks\" role=\"graphics-object\" aria-roledescription=\"symbol mark container\"><path aria-label=\"lost_mean: 216.66; profit_mean: 2971.249; s: 25\" role=\"graphics-symbol\" aria-roledescription=\"point\" transform=\"translate(196.96363636363637,37.409127272727275)\" d=\"M2.7386127875258306,0A2.7386127875258306,2.7386127875258306,0,1,1,-2.7386127875258306,0A2.7386127875258306,2.7386127875258306,0,1,1,2.7386127875258306,0\" stroke=\"rgb(13, 8, 135)\" stroke-width=\"2\" opacity=\"0.7\"/><path aria-label=\"lost_mean: 118.92; profit_mean: 3579.796; s: 25\" role=\"graphics-symbol\" aria-roledescription=\"point\" transform=\"translate(108.10909090909091,15.280145454545435)\" d=\"M2.7386127875258306,0A2.7386127875258306,2.7386127875258306,0,1,1,-2.7386127875258306,0A2.7386127875258306,2.7386127875258306,0,1,1,2.7386127875258306,0\" stroke=\"rgb(13, 8, 135)\" stroke-width=\"2\" opacity=\"0.7\"/><path aria-label=\"lost_mean: 81.2; profit_mean: 3488.405; s: 25\" role=\"graphics-symbol\" aria-roledescription=\"point\" transform=\"translate(73.81818181818181,18.60345454545451)\" d=\"M2.7386127875258306,0A2.7386127875258306,2.7386127875258306,0,1,1,-2.7386127875258306,0A2.7386127875258306,2.7386127875258306,0,1,1,2.7386127875258306,0\" stroke=\"rgb(13, 8, 135)\" stroke-width=\"2\" opacity=\"0.7\"/><path aria-label=\"lost_mean: 60.11; profit_mean: 3081.231; s: 25\" role=\"graphics-symbol\" aria-roledescription=\"point\" transform=\"translate(54.64545454545454,33.40978181818181)\" d=\"M2.7386127875258306,0A2.7386127875258306,2.7386127875258306,0,1,1,-2.7386127875258306,0A2.7386127875258306,2.7386127875258306,0,1,1,2.7386127875258306,0\" stroke=\"rgb(13, 8, 135)\" stroke-width=\"2\" opacity=\"0.7\"/><path aria-label=\"lost_mean: 50.72; profit_mean: 2630.794; s: 25\" role=\"graphics-symbol\" aria-roledescription=\"point\" transform=\"translate(46.10909090909091,49.78930909090911)\" d=\"M2.7386127875258306,0A2.7386127875258306,2.7386127875258306,0,1,1,-2.7386127875258306,0A2.7386127875258306,2.7386127875258306,0,1,1,2.7386127875258306,0\" stroke=\"rgb(13, 8, 135)\" stroke-width=\"2\" opacity=\"0.7\"/><path aria-label=\"lost_mean: 34.57; profit_mean: 2546.72; s: 25\" role=\"graphics-symbol\" aria-roledescription=\"point\" transform=\"translate(31.427272727272726,52.846545454545456)\" d=\"M2.7386127875258306,0A2.7386127875258306,2.7386127875258306,0,1,1,-2.7386127875258306,0A2.7386127875258306,2.7386127875258306,0,1,1,2.7386127875258306,0\" stroke=\"rgb(13, 8, 135)\" stroke-width=\"2\" opacity=\"0.7\"/><path aria-label=\"lost_mean: 33.52; profit_mean: 1683.641; s: 25\" role=\"graphics-symbol\" aria-roledescription=\"point\" transform=\"translate(30.472727272727273,84.23123636363637)\" d=\"M2.7386127875258306,0A2.7386127875258306,2.7386127875258306,0,1,1,-2.7386127875258306,0A2.7386127875258306,2.7386127875258306,0,1,1,2.7386127875258306,0\" stroke=\"rgb(13, 8, 135)\" stroke-width=\"2\" opacity=\"0.7\"/><path aria-label=\"lost_mean: 32.05; profit_mean: 1200.973; s: 25\" role=\"graphics-symbol\" aria-roledescription=\"point\" transform=\"translate(29.136363636363633,101.78280000000002)\" d=\"M2.7386127875258306,0A2.7386127875258306,2.7386127875258306,0,1,1,-2.7386127875258306,0A2.7386127875258306,2.7386127875258306,0,1,1,2.7386127875258306,0\" stroke=\"rgb(13, 8, 135)\" stroke-width=\"2\" opacity=\"0.7\"/><path aria-label=\"lost_mean: 30.45; profit_mean: 1367.398; s: 25\" role=\"graphics-symbol\" aria-roledescription=\"point\" transform=\"translate(27.68181818181818,95.7309818181818)\" d=\"M2.7386127875258306,0A2.7386127875258306,2.7386127875258306,0,1,1,-2.7386127875258306,0A2.7386127875258306,2.7386127875258306,0,1,1,2.7386127875258306,0\" stroke=\"rgb(13, 8, 135)\" stroke-width=\"2\" opacity=\"0.7\"/><path aria-label=\"lost_mean: 24.22; profit_mean: 419.791; s: 25\" role=\"graphics-symbol\" aria-roledescription=\"point\" transform=\"translate(22.018181818181816,130.18941818181818)\" d=\"M2.7386127875258306,0A2.7386127875258306,2.7386127875258306,0,1,1,-2.7386127875258306,0A2.7386127875258306,2.7386127875258306,0,1,1,2.7386127875258306,0\" stroke=\"rgb(13, 8, 135)\" stroke-width=\"2\" opacity=\"0.7\"/><path aria-label=\"lost_mean: 118.74; profit_mean: 2661.404; s: 50\" role=\"graphics-symbol\" aria-roledescription=\"point\" transform=\"translate(107.94545454545454,48.6762181818182)\" d=\"M2.7386127875258306,0A2.7386127875258306,2.7386127875258306,0,1,1,-2.7386127875258306,0A2.7386127875258306,2.7386127875258306,0,1,1,2.7386127875258306,0\" stroke=\"rgb(71, 3, 159)\" stroke-width=\"2\" opacity=\"0.7\"/><path aria-label=\"lost_mean: 49.21; profit_mean: 3534.315; s: 50\" role=\"graphics-symbol\" aria-roledescription=\"point\" transform=\"translate(44.736363636363635,16.933999999999983)\" d=\"M2.7386127875258306,0A2.7386127875258306,2.7386127875258306,0,1,1,-2.7386127875258306,0A2.7386127875258306,2.7386127875258306,0,1,1,2.7386127875258306,0\" stroke=\"rgb(71, 3, 159)\" stroke-width=\"2\" opacity=\"0.7\"/><path aria-label=\"lost_mean: 44.28; profit_mean: 3394.556; s: 50\" role=\"graphics-symbol\" aria-roledescription=\"point\" transform=\"translate(40.25454545454545,22.016145454545445)\" d=\"M2.7386127875258306,0A2.7386127875258306,2.7386127875258306,0,1,1,-2.7386127875258306,0A2.7386127875258306,2.7386127875258306,0,1,1,2.7386127875258306,0\" stroke=\"rgb(71, 3, 159)\" stroke-width=\"2\" opacity=\"0.7\"/><path aria-label=\"lost_mean: 37.86; profit_mean: 3061.301; s: 50\" role=\"graphics-symbol\" aria-roledescription=\"point\" transform=\"translate(34.41818181818182,34.13450909090911)\" d=\"M2.7386127875258306,0A2.7386127875258306,2.7386127875258306,0,1,1,-2.7386127875258306,0A2.7386127875258306,2.7386127875258306,0,1,1,2.7386127875258306,0\" stroke=\"rgb(71, 3, 159)\" stroke-width=\"2\" opacity=\"0.7\"/><path aria-label=\"lost_mean: 21.04; profit_mean: 2721.589; s: 50\" role=\"graphics-symbol\" aria-roledescription=\"point\" transform=\"translate(19.127272727272725,46.487672727272724)\" d=\"M2.7386127875258306,0A2.7386127875258306,2.7386127875258306,0,1,1,-2.7386127875258306,0A2.7386127875258306,2.7386127875258306,0,1,1,2.7386127875258306,0\" stroke=\"rgb(71, 3, 159)\" stroke-width=\"2\" opacity=\"0.7\"/><path aria-label=\"lost_mean: 16.11; profit_mean: 2407.249; s: 50\" role=\"graphics-symbol\" aria-roledescription=\"point\" transform=\"translate(14.645454545454545,57.91821818181817)\" d=\"M2.7386127875258306,0A2.7386127875258306,2.7386127875258306,0,1,1,-2.7386127875258306,0A2.7386127875258306,2.7386127875258306,0,1,1,2.7386127875258306,0\" stroke=\"rgb(71, 3, 159)\" stroke-width=\"2\" opacity=\"0.7\"/><path aria-label=\"lost_mean: 20.11; profit_mean: 1642.604; s: 50\" role=\"graphics-symbol\" aria-roledescription=\"point\" transform=\"translate(18.28181818181818,85.72349090909093)\" d=\"M2.7386127875258306,0A2.7386127875258306,2.7386127875258306,0,1,1,-2.7386127875258306,0A2.7386127875258306,2.7386127875258306,0,1,1,2.7386127875258306,0\" stroke=\"rgb(71, 3, 159)\" stroke-width=\"2\" opacity=\"0.7\"/><path aria-label=\"lost_mean: 18.19; profit_mean: 1014.095; s: 50\" role=\"graphics-symbol\" aria-roledescription=\"point\" transform=\"translate(16.53636363636364,108.57836363636363)\" d=\"M2.7386127875258306,0A2.7386127875258306,2.7386127875258306,0,1,1,-2.7386127875258306,0A2.7386127875258306,2.7386127875258306,0,1,1,2.7386127875258306,0\" stroke=\"rgb(71, 3, 159)\" stroke-width=\"2\" opacity=\"0.7\"/><path aria-label=\"lost_mean: 13.63; profit_mean: 1231.521; s: 50\" role=\"graphics-symbol\" aria-roledescription=\"point\" transform=\"translate(12.39090909090909,100.67196363636364)\" d=\"M2.7386127875258306,0A2.7386127875258306,2.7386127875258306,0,1,1,-2.7386127875258306,0A2.7386127875258306,2.7386127875258306,0,1,1,2.7386127875258306,0\" stroke=\"rgb(71, 3, 159)\" stroke-width=\"2\" opacity=\"0.7\"/><path aria-label=\"lost_mean: 9.96; profit_mean: 435.771; s: 50\" role=\"graphics-symbol\" aria-roledescription=\"point\" transform=\"translate(9.054545454545455,129.60832727272728)\" d=\"M2.7386127875258306,0A2.7386127875258306,2.7386127875258306,0,1,1,-2.7386127875258306,0A2.7386127875258306,2.7386127875258306,0,1,1,2.7386127875258306,0\" stroke=\"rgb(71, 3, 159)\" stroke-width=\"2\" opacity=\"0.7\"/><path aria-label=\"lost_mean: 74.03; profit_mean: 1855.157; s: 75\" role=\"graphics-symbol\" aria-roledescription=\"point\" transform=\"translate(67.30000000000001,77.9942909090909)\" d=\"M2.7386127875258306,0A2.7386127875258306,2.7386127875258306,0,1,1,-2.7386127875258306,0A2.7386127875258306,2.7386127875258306,0,1,1,2.7386127875258306,0\" stroke=\"rgb(115, 1, 168)\" stroke-width=\"2\" opacity=\"0.7\"/><path aria-label=\"lost_mean: 24.44; profit_mean: 3346.444; s: 75\" role=\"graphics-symbol\" aria-roledescription=\"point\" transform=\"translate(22.21818181818182,23.7656727272727)\" d=\"M2.7386127875258306,0A2.7386127875258306,2.7386127875258306,0,1,1,-2.7386127875258306,0A2.7386127875258306,2.7386127875258306,0,1,1,2.7386127875258306,0\" stroke=\"rgb(115, 1, 168)\" stroke-width=\"2\" opacity=\"0.7\"/><path aria-label=\"lost_mean: 14.97; profit_mean: 3300.202; s: 75\" role=\"graphics-symbol\" aria-roledescription=\"point\" transform=\"translate(13.60909090909091,25.44719999999996)\" d=\"M2.7386127875258306,0A2.7386127875258306,2.7386127875258306,0,1,1,-2.7386127875258306,0A2.7386127875258306,2.7386127875258306,0,1,1,2.7386127875258306,0\" stroke=\"rgb(115, 1, 168)\" stroke-width=\"2\" opacity=\"0.7\"/><path aria-label=\"lost_mean: 6.17; profit_mean: 3035.648; s: 75\" role=\"graphics-symbol\" aria-roledescription=\"point\" transform=\"translate(5.6090909090909085,35.06734545454548)\" d=\"M2.7386127875258306,0A2.7386127875258306,2.7386127875258306,0,1,1,-2.7386127875258306,0A2.7386127875258306,2.7386127875258306,0,1,1,2.7386127875258306,0\" stroke=\"rgb(115, 1, 168)\" stroke-width=\"2\" opacity=\"0.7\"/><path aria-label=\"lost_mean: 7.34; profit_mean: 2687.468; s: 75\" role=\"graphics-symbol\" aria-roledescription=\"point\" transform=\"translate(6.672727272727273,47.72843636363633)\" d=\"M2.7386127875258306,0A2.7386127875258306,2.7386127875258306,0,1,1,-2.7386127875258306,0A2.7386127875258306,2.7386127875258306,0,1,1,2.7386127875258306,0\" stroke=\"rgb(115, 1, 168)\" stroke-width=\"2\" opacity=\"0.7\"/><path aria-label=\"lost_mean: 9.68; profit_mean: 2028.084; s: 75\" role=\"graphics-symbol\" aria-roledescription=\"point\" transform=\"translate(8.799999999999999,71.70603636363634)\" d=\"M2.7386127875258306,0A2.7386127875258306,2.7386127875258306,0,1,1,-2.7386127875258306,0A2.7386127875258306,2.7386127875258306,0,1,1,2.7386127875258306,0\" stroke=\"rgb(115, 1, 168)\" stroke-width=\"2\" opacity=\"0.7\"/><path aria-label=\"lost_mean: 7.85; profit_mean: 1678.705; s: 75\" role=\"graphics-symbol\" aria-roledescription=\"point\" transform=\"translate(7.136363636363637,84.41072727272727)\" d=\"M2.7386127875258306,0A2.7386127875258306,2.7386127875258306,0,1,1,-2.7386127875258306,0A2.7386127875258306,2.7386127875258306,0,1,1,2.7386127875258306,0\" stroke=\"rgb(115, 1, 168)\" stroke-width=\"2\" opacity=\"0.7\"/><path aria-label=\"lost_mean: 11.43; profit_mean: 914.724; s: 75\" role=\"graphics-symbol\" aria-roledescription=\"point\" transform=\"translate(10.39090909090909,112.19185454545455)\" d=\"M2.7386127875258306,0A2.7386127875258306,2.7386127875258306,0,1,1,-2.7386127875258306,0A2.7386127875258306,2.7386127875258306,0,1,1,2.7386127875258306,0\" stroke=\"rgb(115, 1, 168)\" stroke-width=\"2\" opacity=\"0.7\"/><path aria-label=\"lost_mean: 4.52; profit_mean: 682.48; s: 75\" role=\"graphics-symbol\" aria-roledescription=\"point\" transform=\"translate(4.1090909090909085,120.63709090909094)\" d=\"M2.7386127875258306,0A2.7386127875258306,2.7386127875258306,0,1,1,-2.7386127875258306,0A2.7386127875258306,2.7386127875258306,0,1,1,2.7386127875258306,0\" stroke=\"rgb(115, 1, 168)\" stroke-width=\"2\" opacity=\"0.7\"/><path aria-label=\"lost_mean: 3.27; profit_mean: 439.681; s: 75\" role=\"graphics-symbol\" aria-roledescription=\"point\" transform=\"translate(2.9727272727272727,129.46614545454545)\" d=\"M2.7386127875258306,0A2.7386127875258306,2.7386127875258306,0,1,1,-2.7386127875258306,0A2.7386127875258306,2.7386127875258306,0,1,1,2.7386127875258306,0\" stroke=\"rgb(115, 1, 168)\" stroke-width=\"2\" opacity=\"0.7\"/><path aria-label=\"lost_mean: 20.08; profit_mean: 3020.23; s: 100\" role=\"graphics-symbol\" aria-roledescription=\"point\" transform=\"translate(18.254545454545454,35.628000000000014)\" d=\"M2.7386127875258306,0A2.7386127875258306,2.7386127875258306,0,1,1,-2.7386127875258306,0A2.7386127875258306,2.7386127875258306,0,1,1,2.7386127875258306,0\" stroke=\"rgb(156, 23, 158)\" stroke-width=\"2\" opacity=\"0.7\"/><path aria-label=\"lost_mean: 5.76; profit_mean: 3120.251; s: 100\" role=\"graphics-symbol\" aria-roledescription=\"point\" transform=\"translate(5.236363636363636,31.990872727272723)\" d=\"M2.7386127875258306,0A2.7386127875258306,2.7386127875258306,0,1,1,-2.7386127875258306,0A2.7386127875258306,2.7386127875258306,0,1,1,2.7386127875258306,0\" stroke=\"rgb(156, 23, 158)\" stroke-width=\"2\" opacity=\"0.7\"/><path aria-label=\"lost_mean: 6.26; profit_mean: 2795.237; s: 100\" role=\"graphics-symbol\" aria-roledescription=\"point\" transform=\"translate(5.690909090909091,43.809563636363656)\" d=\"M2.7386127875258306,0A2.7386127875258306,2.7386127875258306,0,1,1,-2.7386127875258306,0A2.7386127875258306,2.7386127875258306,0,1,1,2.7386127875258306,0\" stroke=\"rgb(156, 23, 158)\" stroke-width=\"2\" opacity=\"0.7\"/><path aria-label=\"lost_mean: 5.26; profit_mean: 2386.138; s: 100\" role=\"graphics-symbol\" aria-roledescription=\"point\" transform=\"translate(4.781818181818181,58.68589090909091)\" d=\"M2.7386127875258306,0A2.7386127875258306,2.7386127875258306,0,1,1,-2.7386127875258306,0A2.7386127875258306,2.7386127875258306,0,1,1,2.7386127875258306,0\" stroke=\"rgb(156, 23, 158)\" stroke-width=\"2\" opacity=\"0.7\"/><path aria-label=\"lost_mean: 2.97; profit_mean: 1828.571; s: 100\" role=\"graphics-symbol\" aria-roledescription=\"point\" transform=\"translate(2.7,78.96105454545454)\" d=\"M2.7386127875258306,0A2.7386127875258306,2.7386127875258306,0,1,1,-2.7386127875258306,0A2.7386127875258306,2.7386127875258306,0,1,1,2.7386127875258306,0\" stroke=\"rgb(156, 23, 158)\" stroke-width=\"2\" opacity=\"0.7\"/><path aria-label=\"lost_mean: 0.49; profit_mean: 1683.693; s: 100\" role=\"graphics-symbol\" aria-roledescription=\"point\" transform=\"translate(0.44545454545454544,84.22934545454545)\" d=\"M2.7386127875258306,0A2.7386127875258306,2.7386127875258306,0,1,1,-2.7386127875258306,0A2.7386127875258306,2.7386127875258306,0,1,1,2.7386127875258306,0\" stroke=\"rgb(156, 23, 158)\" stroke-width=\"2\" opacity=\"0.7\"/><path aria-label=\"lost_mean: 5.79; profit_mean: 814.061; s: 100\" role=\"graphics-symbol\" aria-roledescription=\"point\" transform=\"translate(5.263636363636364,115.8523272727273)\" d=\"M2.7386127875258306,0A2.7386127875258306,2.7386127875258306,0,1,1,-2.7386127875258306,0A2.7386127875258306,2.7386127875258306,0,1,1,2.7386127875258306,0\" stroke=\"rgb(156, 23, 158)\" stroke-width=\"2\" opacity=\"0.7\"/><path aria-label=\"lost_mean: 2.51; profit_mean: 293.37; s: 100\" role=\"graphics-symbol\" aria-roledescription=\"point\" transform=\"translate(2.2818181818181817,134.78654545454546)\" d=\"M2.7386127875258306,0A2.7386127875258306,2.7386127875258306,0,1,1,-2.7386127875258306,0A2.7386127875258306,2.7386127875258306,0,1,1,2.7386127875258306,0\" stroke=\"rgb(156, 23, 158)\" stroke-width=\"2\" opacity=\"0.7\"/><path aria-label=\"lost_mean: 2.53; profit_mean: 428.685; s: 100\" role=\"graphics-symbol\" aria-roledescription=\"point\" transform=\"translate(2.3,129.866)\" d=\"M2.7386127875258306,0A2.7386127875258306,2.7386127875258306,0,1,1,-2.7386127875258306,0A2.7386127875258306,2.7386127875258306,0,1,1,2.7386127875258306,0\" stroke=\"rgb(156, 23, 158)\" stroke-width=\"2\" opacity=\"0.7\"/><path aria-label=\"lost_mean: 9.32; profit_mean: 2615.48; s: 125\" role=\"graphics-symbol\" aria-roledescription=\"point\" transform=\"translate(8.472727272727273,50.346181818181826)\" d=\"M2.7386127875258306,0A2.7386127875258306,2.7386127875258306,0,1,1,-2.7386127875258306,0A2.7386127875258306,2.7386127875258306,0,1,1,2.7386127875258306,0\" stroke=\"rgb(189, 55, 133)\" stroke-width=\"2\" opacity=\"0.7\"/><path aria-label=\"lost_mean: 2.89; profit_mean: 2913.112; s: 125\" role=\"graphics-symbol\" aria-roledescription=\"point\" transform=\"translate(2.6272727272727274,39.5232)\" d=\"M2.7386127875258306,0A2.7386127875258306,2.7386127875258306,0,1,1,-2.7386127875258306,0A2.7386127875258306,2.7386127875258306,0,1,1,2.7386127875258306,0\" stroke=\"rgb(189, 55, 133)\" stroke-width=\"2\" opacity=\"0.7\"/><path aria-label=\"lost_mean: 4.37; profit_mean: 2680.035; s: 125\" role=\"graphics-symbol\" aria-roledescription=\"point\" transform=\"translate(3.972727272727273,47.99872727272725)\" d=\"M2.7386127875258306,0A2.7386127875258306,2.7386127875258306,0,1,1,-2.7386127875258306,0A2.7386127875258306,2.7386127875258306,0,1,1,2.7386127875258306,0\" stroke=\"rgb(189, 55, 133)\" stroke-width=\"2\" opacity=\"0.7\"/><path aria-label=\"lost_mean: 3.27; profit_mean: 2227.969; s: 125\" role=\"graphics-symbol\" aria-roledescription=\"point\" transform=\"translate(2.9727272727272727,64.4374909090909)\" d=\"M2.7386127875258306,0A2.7386127875258306,2.7386127875258306,0,1,1,-2.7386127875258306,0A2.7386127875258306,2.7386127875258306,0,1,1,2.7386127875258306,0\" stroke=\"rgb(189, 55, 133)\" stroke-width=\"2\" opacity=\"0.7\"/><path aria-label=\"lost_mean: 0.92; profit_mean: 1771.845; s: 125\" role=\"graphics-symbol\" aria-roledescription=\"point\" transform=\"translate(0.8363636363636364,81.02381818181816)\" d=\"M2.7386127875258306,0A2.7386127875258306,2.7386127875258306,0,1,1,-2.7386127875258306,0A2.7386127875258306,2.7386127875258306,0,1,1,2.7386127875258306,0\" stroke=\"rgb(189, 55, 133)\" stroke-width=\"2\" opacity=\"0.7\"/><path aria-label=\"lost_mean: 0.75; profit_mean: 1545.762; s: 125\" role=\"graphics-symbol\" aria-roledescription=\"point\" transform=\"translate(0.6818181818181818,89.24501818181818)\" d=\"M2.7386127875258306,0A2.7386127875258306,2.7386127875258306,0,1,1,-2.7386127875258306,0A2.7386127875258306,2.7386127875258306,0,1,1,2.7386127875258306,0\" stroke=\"rgb(189, 55, 133)\" stroke-width=\"2\" opacity=\"0.7\"/><path aria-label=\"lost_mean: 2.17; profit_mean: 722.494; s: 125\" role=\"graphics-symbol\" aria-roledescription=\"point\" transform=\"translate(1.9727272727272724,119.18203636363639)\" d=\"M2.7386127875258306,0A2.7386127875258306,2.7386127875258306,0,1,1,-2.7386127875258306,0A2.7386127875258306,2.7386127875258306,0,1,1,2.7386127875258306,0\" stroke=\"rgb(189, 55, 133)\" stroke-width=\"2\" opacity=\"0.7\"/><path aria-label=\"lost_mean: 1.94; profit_mean: 59.79; s: 125\" role=\"graphics-symbol\" aria-roledescription=\"point\" transform=\"translate(1.7636363636363637,143.28036363636366)\" d=\"M2.7386127875258306,0A2.7386127875258306,2.7386127875258306,0,1,1,-2.7386127875258306,0A2.7386127875258306,2.7386127875258306,0,1,1,2.7386127875258306,0\" stroke=\"rgb(189, 55, 133)\" stroke-width=\"2\" opacity=\"0.7\"/><path aria-label=\"lost_mean: 1.12; profit_mean: 268.157; s: 125\" role=\"graphics-symbol\" aria-roledescription=\"point\" transform=\"translate(1.0181818181818183,135.7033818181818)\" d=\"M2.7386127875258306,0A2.7386127875258306,2.7386127875258306,0,1,1,-2.7386127875258306,0A2.7386127875258306,2.7386127875258306,0,1,1,2.7386127875258306,0\" stroke=\"rgb(189, 55, 133)\" stroke-width=\"2\" opacity=\"0.7\"/><path aria-label=\"lost_mean: 1.83; profit_mean: 1970.987; s: 150\" role=\"graphics-symbol\" aria-roledescription=\"point\" transform=\"translate(1.6636363636363636,73.7822909090909)\" d=\"M2.7386127875258306,0A2.7386127875258306,2.7386127875258306,0,1,1,-2.7386127875258306,0A2.7386127875258306,2.7386127875258306,0,1,1,2.7386127875258306,0\" stroke=\"rgb(216, 87, 108)\" stroke-width=\"2\" opacity=\"0.7\"/><path aria-label=\"lost_mean: 2.02; profit_mean: 2671.952; s: 150\" role=\"graphics-symbol\" aria-roledescription=\"point\" transform=\"translate(1.8363636363636364,48.292654545454525)\" d=\"M2.7386127875258306,0A2.7386127875258306,2.7386127875258306,0,1,1,-2.7386127875258306,0A2.7386127875258306,2.7386127875258306,0,1,1,2.7386127875258306,0\" stroke=\"rgb(216, 87, 108)\" stroke-width=\"2\" opacity=\"0.7\"/><path aria-label=\"lost_mean: 1.22; profit_mean: 2497.744; s: 150\" role=\"graphics-symbol\" aria-roledescription=\"point\" transform=\"translate(1.1090909090909091,54.627490909090916)\" d=\"M2.7386127875258306,0A2.7386127875258306,2.7386127875258306,0,1,1,-2.7386127875258306,0A2.7386127875258306,2.7386127875258306,0,1,1,2.7386127875258306,0\" stroke=\"rgb(216, 87, 108)\" stroke-width=\"2\" opacity=\"0.7\"/><path aria-label=\"lost_mean: 0.56; profit_mean: 2149.314; s: 150\" role=\"graphics-symbol\" aria-roledescription=\"point\" transform=\"translate(0.5090909090909091,67.29767272727274)\" d=\"M2.7386127875258306,0A2.7386127875258306,2.7386127875258306,0,1,1,-2.7386127875258306,0A2.7386127875258306,2.7386127875258306,0,1,1,2.7386127875258306,0\" stroke=\"rgb(216, 87, 108)\" stroke-width=\"2\" opacity=\"0.7\"/><path aria-label=\"lost_mean: 1.99; profit_mean: 1814.606; s: 150\" role=\"graphics-symbol\" aria-roledescription=\"point\" transform=\"translate(1.809090909090909,79.46887272727274)\" d=\"M2.7386127875258306,0A2.7386127875258306,2.7386127875258306,0,1,1,-2.7386127875258306,0A2.7386127875258306,2.7386127875258306,0,1,1,2.7386127875258306,0\" stroke=\"rgb(216, 87, 108)\" stroke-width=\"2\" opacity=\"0.7\"/><path aria-label=\"lost_mean: 0.28; profit_mean: 1134.703; s: 150\" role=\"graphics-symbol\" aria-roledescription=\"point\" transform=\"translate(0.2545454545454546,104.1926181818182)\" d=\"M2.7386127875258306,0A2.7386127875258306,2.7386127875258306,0,1,1,-2.7386127875258306,0A2.7386127875258306,2.7386127875258306,0,1,1,2.7386127875258306,0\" stroke=\"rgb(216, 87, 108)\" stroke-width=\"2\" opacity=\"0.7\"/><path aria-label=\"lost_mean: 1.81; profit_mean: 737.257; s: 150\" role=\"graphics-symbol\" aria-roledescription=\"point\" transform=\"translate(1.6454545454545455,118.6452)\" d=\"M2.7386127875258306,0A2.7386127875258306,2.7386127875258306,0,1,1,-2.7386127875258306,0A2.7386127875258306,2.7386127875258306,0,1,1,2.7386127875258306,0\" stroke=\"rgb(216, 87, 108)\" stroke-width=\"2\" opacity=\"0.7\"/><path aria-label=\"lost_mean: 0.44; profit_mean: −37.01; s: 150\" role=\"graphics-symbol\" aria-roledescription=\"point\" transform=\"translate(0.4,146.80036363636364)\" d=\"M2.7386127875258306,0A2.7386127875258306,2.7386127875258306,0,1,1,-2.7386127875258306,0A2.7386127875258306,2.7386127875258306,0,1,1,2.7386127875258306,0\" stroke=\"rgb(216, 87, 108)\" stroke-width=\"2\" opacity=\"0.7\"/><path aria-label=\"lost_mean: 1.6; profit_mean: −236.916; s: 150\" role=\"graphics-symbol\" aria-roledescription=\"point\" transform=\"translate(1.4545454545454546,154.06967272727275)\" d=\"M2.7386127875258306,0A2.7386127875258306,2.7386127875258306,0,1,1,-2.7386127875258306,0A2.7386127875258306,2.7386127875258306,0,1,1,2.7386127875258306,0\" stroke=\"rgb(216, 87, 108)\" stroke-width=\"2\" opacity=\"0.7\"/><path aria-label=\"lost_mean: 3.27; profit_mean: 1034.612; s: 175\" role=\"graphics-symbol\" aria-roledescription=\"point\" transform=\"translate(2.9727272727272727,107.83229090909091)\" d=\"M2.7386127875258306,0A2.7386127875258306,2.7386127875258306,0,1,1,-2.7386127875258306,0A2.7386127875258306,2.7386127875258306,0,1,1,2.7386127875258306,0\" stroke=\"rgb(237, 121, 83)\" stroke-width=\"2\" opacity=\"0.7\"/><path aria-label=\"lost_mean: 0.71; profit_mean: 2395.316; s: 175\" role=\"graphics-symbol\" aria-roledescription=\"point\" transform=\"translate(0.6454545454545454,58.352145454545436)\" d=\"M2.7386127875258306,0A2.7386127875258306,2.7386127875258306,0,1,1,-2.7386127875258306,0A2.7386127875258306,2.7386127875258306,0,1,1,2.7386127875258306,0\" stroke=\"rgb(237, 121, 83)\" stroke-width=\"2\" opacity=\"0.7\"/><path aria-label=\"lost_mean: 1.75; profit_mean: 2297.704; s: 175\" role=\"graphics-symbol\" aria-roledescription=\"point\" transform=\"translate(1.5909090909090908,61.90167272727272)\" d=\"M2.7386127875258306,0A2.7386127875258306,2.7386127875258306,0,1,1,-2.7386127875258306,0A2.7386127875258306,2.7386127875258306,0,1,1,2.7386127875258306,0\" stroke=\"rgb(237, 121, 83)\" stroke-width=\"2\" opacity=\"0.7\"/><path aria-label=\"lost_mean: 0.36; profit_mean: 1958.382; s: 175\" role=\"graphics-symbol\" aria-roledescription=\"point\" transform=\"translate(0.32727272727272727,74.24065454545455)\" d=\"M2.7386127875258306,0A2.7386127875258306,2.7386127875258306,0,1,1,-2.7386127875258306,0A2.7386127875258306,2.7386127875258306,0,1,1,2.7386127875258306,0\" stroke=\"rgb(237, 121, 83)\" stroke-width=\"2\" opacity=\"0.7\"/><path aria-label=\"lost_mean: 0.67; profit_mean: 1649.59; s: 175\" role=\"graphics-symbol\" aria-roledescription=\"point\" transform=\"translate(0.6090909090909091,85.46945454545455)\" d=\"M2.7386127875258306,0A2.7386127875258306,2.7386127875258306,0,1,1,-2.7386127875258306,0A2.7386127875258306,2.7386127875258306,0,1,1,2.7386127875258306,0\" stroke=\"rgb(237, 121, 83)\" stroke-width=\"2\" opacity=\"0.7\"/><path aria-label=\"lost_mean: 0.02; profit_mean: 917.809; s: 175\" role=\"graphics-symbol\" aria-roledescription=\"point\" transform=\"translate(0.018181818181818184,112.07967272727272)\" d=\"M2.7386127875258306,0A2.7386127875258306,2.7386127875258306,0,1,1,-2.7386127875258306,0A2.7386127875258306,2.7386127875258306,0,1,1,2.7386127875258306,0\" stroke=\"rgb(237, 121, 83)\" stroke-width=\"2\" opacity=\"0.7\"/><path aria-label=\"lost_mean: 1.83; profit_mean: 725.958; s: 175\" role=\"graphics-symbol\" aria-roledescription=\"point\" transform=\"translate(1.6636363636363636,119.05607272727275)\" d=\"M2.7386127875258306,0A2.7386127875258306,2.7386127875258306,0,1,1,-2.7386127875258306,0A2.7386127875258306,2.7386127875258306,0,1,1,2.7386127875258306,0\" stroke=\"rgb(237, 121, 83)\" stroke-width=\"2\" opacity=\"0.7\"/><path aria-label=\"lost_mean: 1.06; profit_mean: −147.615; s: 175\" role=\"graphics-symbol\" aria-roledescription=\"point\" transform=\"translate(0.9636363636363637,150.82236363636366)\" d=\"M2.7386127875258306,0A2.7386127875258306,2.7386127875258306,0,1,1,-2.7386127875258306,0A2.7386127875258306,2.7386127875258306,0,1,1,2.7386127875258306,0\" stroke=\"rgb(237, 121, 83)\" stroke-width=\"2\" opacity=\"0.7\"/><path aria-label=\"lost_mean: 1.49; profit_mean: −507.847; s: 175\" role=\"graphics-symbol\" aria-roledescription=\"point\" transform=\"translate(1.3545454545454545,163.92170909090908)\" d=\"M2.7386127875258306,0A2.7386127875258306,2.7386127875258306,0,1,1,-2.7386127875258306,0A2.7386127875258306,2.7386127875258306,0,1,1,2.7386127875258306,0\" stroke=\"rgb(237, 121, 83)\" stroke-width=\"2\" opacity=\"0.7\"/><path aria-label=\"lost_mean: 0.68; profit_mean: 2051.976; s: 200\" role=\"graphics-symbol\" aria-roledescription=\"point\" transform=\"translate(0.6181818181818183,70.83723636363636)\" d=\"M2.7386127875258306,0A2.7386127875258306,2.7386127875258306,0,1,1,-2.7386127875258306,0A2.7386127875258306,2.7386127875258306,0,1,1,2.7386127875258306,0\" stroke=\"rgb(251, 158, 59)\" stroke-width=\"2\" opacity=\"0.7\"/><path aria-label=\"lost_mean: 0.82; profit_mean: 2142.908; s: 200\" role=\"graphics-symbol\" aria-roledescription=\"point\" transform=\"translate(0.7454545454545454,67.5306181818182)\" d=\"M2.7386127875258306,0A2.7386127875258306,2.7386127875258306,0,1,1,-2.7386127875258306,0A2.7386127875258306,2.7386127875258306,0,1,1,2.7386127875258306,0\" stroke=\"rgb(251, 158, 59)\" stroke-width=\"2\" opacity=\"0.7\"/><path aria-label=\"lost_mean: 0.79; profit_mean: 1773.413; s: 200\" role=\"graphics-symbol\" aria-roledescription=\"point\" transform=\"translate(0.7181818181818183,80.9668)\" d=\"M2.7386127875258306,0A2.7386127875258306,2.7386127875258306,0,1,1,-2.7386127875258306,0A2.7386127875258306,2.7386127875258306,0,1,1,2.7386127875258306,0\" stroke=\"rgb(251, 158, 59)\" stroke-width=\"2\" opacity=\"0.7\"/><path aria-label=\"lost_mean: 1.25; profit_mean: 1365.214; s: 200\" role=\"graphics-symbol\" aria-roledescription=\"point\" transform=\"translate(1.1363636363636365,95.8104)\" d=\"M2.7386127875258306,0A2.7386127875258306,2.7386127875258306,0,1,1,-2.7386127875258306,0A2.7386127875258306,2.7386127875258306,0,1,1,2.7386127875258306,0\" stroke=\"rgb(251, 158, 59)\" stroke-width=\"2\" opacity=\"0.7\"/><path aria-label=\"lost_mean: 0.72; profit_mean: 807.732; s: 200\" role=\"graphics-symbol\" aria-roledescription=\"point\" transform=\"translate(0.6545454545454545,116.08247272727272)\" d=\"M2.7386127875258306,0A2.7386127875258306,2.7386127875258306,0,1,1,-2.7386127875258306,0A2.7386127875258306,2.7386127875258306,0,1,1,2.7386127875258306,0\" stroke=\"rgb(251, 158, 59)\" stroke-width=\"2\" opacity=\"0.7\"/><path aria-label=\"lost_mean: 0.33; profit_mean: 690.907; s: 200\" role=\"graphics-symbol\" aria-roledescription=\"point\" transform=\"translate(0.3,120.33065454545455)\" d=\"M2.7386127875258306,0A2.7386127875258306,2.7386127875258306,0,1,1,-2.7386127875258306,0A2.7386127875258306,2.7386127875258306,0,1,1,2.7386127875258306,0\" stroke=\"rgb(251, 158, 59)\" stroke-width=\"2\" opacity=\"0.7\"/><path aria-label=\"lost_mean: 0.38; profit_mean: −141.55; s: 200\" role=\"graphics-symbol\" aria-roledescription=\"point\" transform=\"translate(0.34545454545454546,150.6018181818182)\" d=\"M2.7386127875258306,0A2.7386127875258306,2.7386127875258306,0,1,1,-2.7386127875258306,0A2.7386127875258306,2.7386127875258306,0,1,1,2.7386127875258306,0\" stroke=\"rgb(251, 158, 59)\" stroke-width=\"2\" opacity=\"0.7\"/><path aria-label=\"lost_mean: 0.52; profit_mean: −772.374; s: 200\" role=\"graphics-symbol\" aria-roledescription=\"point\" transform=\"translate(0.4727272727272728,173.54087272727276)\" d=\"M2.7386127875258306,0A2.7386127875258306,2.7386127875258306,0,1,1,-2.7386127875258306,0A2.7386127875258306,2.7386127875258306,0,1,1,2.7386127875258306,0\" stroke=\"rgb(251, 158, 59)\" stroke-width=\"2\" opacity=\"0.7\"/><path aria-label=\"lost_mean: 1.5; profit_mean: 1663.152; s: 225\" role=\"graphics-symbol\" aria-roledescription=\"point\" transform=\"translate(1.3636363636363635,84.9762909090909)\" d=\"M2.7386127875258306,0A2.7386127875258306,2.7386127875258306,0,1,1,-2.7386127875258306,0A2.7386127875258306,2.7386127875258306,0,1,1,2.7386127875258306,0\" stroke=\"rgb(253, 201, 38)\" stroke-width=\"2\" opacity=\"0.7\"/><path aria-label=\"lost_mean: 0.7; profit_mean: 1930.973; s: 225\" role=\"graphics-symbol\" aria-roledescription=\"point\" transform=\"translate(0.6363636363636362,75.23734545454546)\" d=\"M2.7386127875258306,0A2.7386127875258306,2.7386127875258306,0,1,1,-2.7386127875258306,0A2.7386127875258306,2.7386127875258306,0,1,1,2.7386127875258306,0\" stroke=\"rgb(253, 201, 38)\" stroke-width=\"2\" opacity=\"0.7\"/><path aria-label=\"lost_mean: 1.65; profit_mean: 1677.326; s: 225\" role=\"graphics-symbol\" aria-roledescription=\"point\" transform=\"translate(1.5,84.46087272727272)\" d=\"M2.7386127875258306,0A2.7386127875258306,2.7386127875258306,0,1,1,-2.7386127875258306,0A2.7386127875258306,2.7386127875258306,0,1,1,2.7386127875258306,0\" stroke=\"rgb(253, 201, 38)\" stroke-width=\"2\" opacity=\"0.7\"/><path aria-label=\"lost_mean: 2.13; profit_mean: 1233.007; s: 225\" role=\"graphics-symbol\" aria-roledescription=\"point\" transform=\"translate(1.9363636363636365,100.61792727272729)\" d=\"M2.7386127875258306,0A2.7386127875258306,2.7386127875258306,0,1,1,-2.7386127875258306,0A2.7386127875258306,2.7386127875258306,0,1,1,2.7386127875258306,0\" stroke=\"rgb(253, 201, 38)\" stroke-width=\"2\" opacity=\"0.7\"/><path aria-label=\"lost_mean: 0.93; profit_mean: 808.23; s: 225\" role=\"graphics-symbol\" aria-roledescription=\"point\" transform=\"translate(0.8454545454545455,116.06436363636364)\" d=\"M2.7386127875258306,0A2.7386127875258306,2.7386127875258306,0,1,1,-2.7386127875258306,0A2.7386127875258306,2.7386127875258306,0,1,1,2.7386127875258306,0\" stroke=\"rgb(253, 201, 38)\" stroke-width=\"2\" opacity=\"0.7\"/><path aria-label=\"lost_mean: 0.1; profit_mean: 534.7; s: 225\" role=\"graphics-symbol\" aria-roledescription=\"point\" transform=\"translate(0.09090909090909091,126.01090909090908)\" d=\"M2.7386127875258306,0A2.7386127875258306,2.7386127875258306,0,1,1,-2.7386127875258306,0A2.7386127875258306,2.7386127875258306,0,1,1,2.7386127875258306,0\" stroke=\"rgb(253, 201, 38)\" stroke-width=\"2\" opacity=\"0.7\"/><path aria-label=\"lost_mean: 0.48; profit_mean: −243.113; s: 225\" role=\"graphics-symbol\" aria-roledescription=\"point\" transform=\"translate(0.4363636363636364,154.2950181818182)\" d=\"M2.7386127875258306,0A2.7386127875258306,2.7386127875258306,0,1,1,-2.7386127875258306,0A2.7386127875258306,2.7386127875258306,0,1,1,2.7386127875258306,0\" stroke=\"rgb(253, 201, 38)\" stroke-width=\"2\" opacity=\"0.7\"/><path aria-label=\"lost_mean: 1.32; profit_mean: −954.18; s: 225\" role=\"graphics-symbol\" aria-roledescription=\"point\" transform=\"translate(1.2,180.152)\" d=\"M2.7386127875258306,0A2.7386127875258306,2.7386127875258306,0,1,1,-2.7386127875258306,0A2.7386127875258306,2.7386127875258306,0,1,1,2.7386127875258306,0\" stroke=\"rgb(253, 201, 38)\" stroke-width=\"2\" opacity=\"0.7\"/><path aria-label=\"lost_mean: 0.4; profit_mean: 1026.938; s: 250\" role=\"graphics-symbol\" aria-roledescription=\"point\" transform=\"translate(0.36363636363636365,108.11134545454544)\" d=\"M2.7386127875258306,0A2.7386127875258306,2.7386127875258306,0,1,1,-2.7386127875258306,0A2.7386127875258306,2.7386127875258306,0,1,1,2.7386127875258306,0\" stroke=\"rgb(240, 249, 33)\" stroke-width=\"2\" opacity=\"0.7\"/><path aria-label=\"lost_mean: 0.1; profit_mean: 1651.143; s: 250\" role=\"graphics-symbol\" aria-roledescription=\"point\" transform=\"translate(0.09090909090909091,85.41298181818182)\" d=\"M2.7386127875258306,0A2.7386127875258306,2.7386127875258306,0,1,1,-2.7386127875258306,0A2.7386127875258306,2.7386127875258306,0,1,1,2.7386127875258306,0\" stroke=\"rgb(240, 249, 33)\" stroke-width=\"2\" opacity=\"0.7\"/><path aria-label=\"lost_mean: 0.21; profit_mean: 1488.851; s: 250\" role=\"graphics-symbol\" aria-roledescription=\"point\" transform=\"translate(0.19090909090909092,91.3145090909091)\" d=\"M2.7386127875258306,0A2.7386127875258306,2.7386127875258306,0,1,1,-2.7386127875258306,0A2.7386127875258306,2.7386127875258306,0,1,1,2.7386127875258306,0\" stroke=\"rgb(240, 249, 33)\" stroke-width=\"2\" opacity=\"0.7\"/><path aria-label=\"lost_mean: 2.18; profit_mean: 1213.382; s: 250\" role=\"graphics-symbol\" aria-roledescription=\"point\" transform=\"translate(1.981818181818182,101.33156363636364)\" d=\"M2.7386127875258306,0A2.7386127875258306,2.7386127875258306,0,1,1,-2.7386127875258306,0A2.7386127875258306,2.7386127875258306,0,1,1,2.7386127875258306,0\" stroke=\"rgb(240, 249, 33)\" stroke-width=\"2\" opacity=\"0.7\"/><path aria-label=\"lost_mean: 1.76; profit_mean: 799.033; s: 250\" role=\"graphics-symbol\" aria-roledescription=\"point\" transform=\"translate(1.6,116.39880000000001)\" d=\"M2.7386127875258306,0A2.7386127875258306,2.7386127875258306,0,1,1,-2.7386127875258306,0A2.7386127875258306,2.7386127875258306,0,1,1,2.7386127875258306,0\" stroke=\"rgb(240, 249, 33)\" stroke-width=\"2\" opacity=\"0.7\"/><path aria-label=\"lost_mean: 0.03; profit_mean: 168.525; s: 250\" role=\"graphics-symbol\" aria-roledescription=\"point\" transform=\"translate(0.027272727272727275,139.32636363636362)\" d=\"M2.7386127875258306,0A2.7386127875258306,2.7386127875258306,0,1,1,-2.7386127875258306,0A2.7386127875258306,2.7386127875258306,0,1,1,2.7386127875258306,0\" stroke=\"rgb(240, 249, 33)\" stroke-width=\"2\" opacity=\"0.7\"/><path aria-label=\"lost_mean: 0.96; profit_mean: −275.165; s: 250\" role=\"graphics-symbol\" aria-roledescription=\"point\" transform=\"translate(0.8727272727272728,155.46054545454547)\" d=\"M2.7386127875258306,0A2.7386127875258306,2.7386127875258306,0,1,1,-2.7386127875258306,0A2.7386127875258306,2.7386127875258306,0,1,1,2.7386127875258306,0\" stroke=\"rgb(240, 249, 33)\" stroke-width=\"2\" opacity=\"0.7\"/><path aria-label=\"lost_mean: 0; profit_mean: −1019.128; s: 250\" role=\"graphics-symbol\" aria-roledescription=\"point\" transform=\"translate(0,182.51374545454547)\" d=\"M2.7386127875258306,0A2.7386127875258306,2.7386127875258306,0,1,1,-2.7386127875258306,0A2.7386127875258306,2.7386127875258306,0,1,1,2.7386127875258306,0\" stroke=\"rgb(240, 249, 33)\" stroke-width=\"2\" opacity=\"0.7\"/></g><g class=\"mark-group role-legend\" role=\"graphics-symbol\" aria-roledescription=\"legend\" aria-label=\"Gradient legend titled 's' for stroke color with values from 25 to 250\"><g transform=\"translate(218,0)\"><path class=\"background\" aria-hidden=\"true\" d=\"M0,0h36v216h-36Z\" pointer-events=\"none\"/><g><g class=\"mark-group role-legend-entry\"><g transform=\"translate(0,16)\"><path class=\"background\" aria-hidden=\"true\" d=\"M0,0h0v0h0Z\" pointer-events=\"none\"/><g><g class=\"mark-rect role-legend-gradient\" pointer-events=\"none\"><path d=\"M0,0h16v200h-16Z\" fill=\"url(#gradient_0)\" stroke=\"#ddd\" stroke-width=\"0\" opacity=\"0.7\"/></g><g class=\"mark-text role-legend-label\" pointer-events=\"none\"><text text-anchor=\"start\" transform=\"translate(18,180.77777777777777)\" font-family=\"sans-serif\" font-size=\"10px\" fill=\"#000\" opacity=\"1\">50</text><text text-anchor=\"start\" transform=\"translate(18,136.33333333333334)\" font-family=\"sans-serif\" font-size=\"10px\" fill=\"#000\" opacity=\"1\">100</text><text text-anchor=\"start\" transform=\"translate(18,91.88888888888889)\" font-family=\"sans-serif\" font-size=\"10px\" fill=\"#000\" opacity=\"1\">150</text><text text-anchor=\"start\" transform=\"translate(18,47.44444444444444)\" font-family=\"sans-serif\" font-size=\"10px\" fill=\"#000\" opacity=\"1\">200</text><text text-anchor=\"start\" transform=\"translate(18,8)\" font-family=\"sans-serif\" font-size=\"10px\" fill=\"#000\" opacity=\"1\">250</text></g></g><path class=\"foreground\" aria-hidden=\"true\" d=\"\" pointer-events=\"none\" display=\"none\"/></g></g><g class=\"mark-text role-legend-title\" pointer-events=\"none\"><text text-anchor=\"start\" transform=\"translate(0,9)\" font-family=\"sans-serif\" font-size=\"11px\" font-weight=\"bold\" fill=\"#000\" opacity=\"1\">s</text></g></g><path class=\"foreground\" aria-hidden=\"true\" d=\"\" pointer-events=\"none\" display=\"none\"/></g></g></g><path class=\"foreground\" aria-hidden=\"true\" d=\"\" display=\"none\"/></g></g></g><defs><linearGradient id=\"gradient_0\" x1=\"0\" x2=\"0\" y1=\"1\" y2=\"0\"><stop offset=\"0\" stop-color=\"rgb(13, 8, 135)\"/><stop offset=\"0.06666666666666667\" stop-color=\"rgb(51, 5, 151)\"/><stop offset=\"0.15555555555555556\" stop-color=\"rgb(89, 1, 165)\"/><stop offset=\"0.24444444444444444\" stop-color=\"rgb(124, 2, 168)\"/><stop offset=\"0.3333333333333333\" stop-color=\"rgb(156, 23, 158)\"/><stop offset=\"0.4222222222222222\" stop-color=\"rgb(183, 49, 139)\"/><stop offset=\"0.5111111111111111\" stop-color=\"rgb(206, 74, 118)\"/><stop offset=\"0.6\" stop-color=\"rgb(225, 100, 98)\"/><stop offset=\"0.6888888888888889\" stop-color=\"rgb(240, 128, 78)\"/><stop offset=\"0.7777777777777778\" stop-color=\"rgb(251, 158, 59)\"/><stop offset=\"0.8666666666666667\" stop-color=\"rgb(254, 192, 41)\"/><stop offset=\"0.9555555555555556\" stop-color=\"rgb(246, 229, 38)\"/><stop offset=\"1\" stop-color=\"rgb(240, 249, 33)\"/></linearGradient></defs></svg>\n"
      ],
      "text/plain": [
       "@vlplot(\n",
       "    mark=\"point\",\n",
       "    encoding={\n",
       "        x={\n",
       "            field=\"lost_mean\"\n",
       "        },\n",
       "        y={\n",
       "            field=\"profit_mean\"\n",
       "        },\n",
       "        color={\n",
       "            scale={\n",
       "                scheme=\"plasma\"\n",
       "            },\n",
       "            field=\"s\"\n",
       "        }\n",
       "    },\n",
       "    data={\n",
       "        values=...\n",
       "    }\n",
       ")"
      ]
     },
     "metadata": {},
     "output_type": "display_data"
    }
   ],
   "source": [
    "using VegaLite\n",
    "df |> @vlplot(:point, x=:lost_mean, y=:profit_mean, color={:s, scale={scheme=:plasma}})"
   ]
  },
  {
   "cell_type": "code",
   "execution_count": 22,
   "metadata": {},
   "outputs": [
    {
     "data": {
      "application/vnd.vegalite.v4+json": {
       "data": {
        "values": [
         {
          "N": 100,
          "S": 100,
          "lost_mean": 216.66,
          "lost_std": 86.9470081269173,
          "m": 90,
          "profit_mean": 2971.249,
          "profit_std": 187.95520554621308,
          "s": 25
         },
         {
          "N": 100,
          "S": 200,
          "lost_mean": 118.92,
          "lost_std": 62.04913009426116,
          "m": 90,
          "profit_mean": 3579.7960000000003,
          "profit_std": 143.17221100493074,
          "s": 25
         },
         {
          "N": 100,
          "S": 300,
          "lost_mean": 81.2,
          "lost_std": 61.18988495006359,
          "m": 90,
          "profit_mean": 3488.4050000000007,
          "profit_std": 233.74275784168026,
          "s": 25
         },
         {
          "N": 100,
          "S": 400,
          "lost_mean": 60.11,
          "lost_std": 45.893793731073295,
          "m": 90,
          "profit_mean": 3081.231,
          "profit_std": 179.82085119429956,
          "s": 25
         },
         {
          "N": 100,
          "S": 500,
          "lost_mean": 50.72,
          "lost_std": 46.57742115678112,
          "m": 90,
          "profit_mean": 2630.7940000000003,
          "profit_std": 167.02355959141173,
          "s": 25
         },
         {
          "N": 100,
          "S": 600,
          "lost_mean": 34.57,
          "lost_std": 38.67169638133426,
          "m": 90,
          "profit_mean": 2546.72,
          "profit_std": 258.4702663477147,
          "s": 25
         },
         {
          "N": 100,
          "S": 700,
          "lost_mean": 33.52,
          "lost_std": 31.946128897178628,
          "m": 90,
          "profit_mean": 1683.641,
          "profit_std": 168.93935442559678,
          "s": 25
         },
         {
          "N": 100,
          "S": 800,
          "lost_mean": 32.05,
          "lost_std": 34.9673368511908,
          "m": 90,
          "profit_mean": 1200.9729999999995,
          "profit_std": 281.1663826245624,
          "s": 25
         },
         {
          "N": 100,
          "S": 900,
          "lost_mean": 30.45,
          "lost_std": 37.83360031944242,
          "m": 90,
          "profit_mean": 1367.398,
          "profit_std": 302.58799637711195,
          "s": 25
         },
         {
          "N": 100,
          "S": 1000,
          "lost_mean": 24.22,
          "lost_std": 28.795194604711952,
          "m": 90,
          "profit_mean": 419.79099999999994,
          "profit_std": 221.17033158800362,
          "s": 25
         },
         {
          "N": 100,
          "S": 100,
          "lost_mean": 118.74,
          "lost_std": 73.54756861028683,
          "m": 90,
          "profit_mean": 2661.4039999999995,
          "profit_std": 141.7369971019379,
          "s": 50
         },
         {
          "N": 100,
          "S": 200,
          "lost_mean": 49.21,
          "lost_std": 49.32602218552054,
          "m": 90,
          "profit_mean": 3534.3150000000005,
          "profit_std": 159.41803592055612,
          "s": 50
         },
         {
          "N": 100,
          "S": 300,
          "lost_mean": 44.28,
          "lost_std": 55.60249976213282,
          "m": 90,
          "profit_mean": 3394.5560000000005,
          "profit_std": 188.26334141625162,
          "s": 50
         },
         {
          "N": 100,
          "S": 400,
          "lost_mean": 37.86,
          "lost_std": 48.17833454149198,
          "m": 90,
          "profit_mean": 3061.301,
          "profit_std": 190.8767143996355,
          "s": 50
         },
         {
          "N": 100,
          "S": 500,
          "lost_mean": 21.04,
          "lost_std": 31.871243490271315,
          "m": 90,
          "profit_mean": 2721.5890000000004,
          "profit_std": 214.69375882823894,
          "s": 50
         },
         {
          "N": 100,
          "S": 600,
          "lost_mean": 16.11,
          "lost_std": 27.825173908356856,
          "m": 90,
          "profit_mean": 2407.2490000000003,
          "profit_std": 282.0750023817901,
          "s": 50
         },
         {
          "N": 100,
          "S": 700,
          "lost_mean": 20.11,
          "lost_std": 29.26745184285331,
          "m": 90,
          "profit_mean": 1642.6039999999996,
          "profit_std": 171.262618893625,
          "s": 50
         },
         {
          "N": 100,
          "S": 800,
          "lost_mean": 18.19,
          "lost_std": 32.82481661576475,
          "m": 90,
          "profit_mean": 1014.0949999999997,
          "profit_std": 189.3099048538073,
          "s": 50
         },
         {
          "N": 100,
          "S": 900,
          "lost_mean": 13.63,
          "lost_std": 25.355912983608448,
          "m": 90,
          "profit_mean": 1231.521,
          "profit_std": 324.8279520660658,
          "s": 50
         },
         {
          "N": 100,
          "S": 1000,
          "lost_mean": 9.96,
          "lost_std": 26.49868302425994,
          "m": 90,
          "profit_mean": 435.7709999999998,
          "profit_std": 259.2438944840799,
          "s": 50
         },
         {
          "N": 100,
          "S": 100,
          "lost_mean": 74.03,
          "lost_std": 56.146355467859465,
          "m": 90,
          "profit_mean": 1855.157,
          "profit_std": 251.1118521172137,
          "s": 75
         },
         {
          "N": 100,
          "S": 200,
          "lost_mean": 24.44,
          "lost_std": 32.929468550067725,
          "m": 90,
          "profit_mean": 3346.4440000000004,
          "profit_std": 164.15197769694447,
          "s": 75
         },
         {
          "N": 100,
          "S": 300,
          "lost_mean": 14.97,
          "lost_std": 26.357853946147905,
          "m": 90,
          "profit_mean": 3300.2020000000007,
          "profit_std": 171.81134943285713,
          "s": 75
         },
         {
          "N": 100,
          "S": 400,
          "lost_mean": 6.17,
          "lost_std": 14.591442766916574,
          "m": 90,
          "profit_mean": 3035.6479999999997,
          "profit_std": 209.69590559723002,
          "s": 75
         },
         {
          "N": 100,
          "S": 500,
          "lost_mean": 7.34,
          "lost_std": 24.491276533954412,
          "m": 90,
          "profit_mean": 2687.4680000000003,
          "profit_std": 239.6288636600147,
          "s": 75
         },
         {
          "N": 100,
          "S": 600,
          "lost_mean": 9.68,
          "lost_std": 26.735849651089385,
          "m": 90,
          "profit_mean": 2028.0840000000003,
          "profit_std": 263.90170986313603,
          "s": 75
         },
         {
          "N": 100,
          "S": 700,
          "lost_mean": 7.85,
          "lost_std": 21.5417729028504,
          "m": 90,
          "profit_mean": 1678.705,
          "profit_std": 207.2270415327696,
          "s": 75
         },
         {
          "N": 100,
          "S": 800,
          "lost_mean": 11.43,
          "lost_std": 24.390449778633442,
          "m": 90,
          "profit_mean": 914.724,
          "profit_std": 153.53444592288884,
          "s": 75
         },
         {
          "N": 100,
          "S": 900,
          "lost_mean": 4.52,
          "lost_std": 15.272263100209486,
          "m": 90,
          "profit_mean": 682.4799999999997,
          "profit_std": 435.9574175294989,
          "s": 75
         },
         {
          "N": 100,
          "S": 1000,
          "lost_mean": 3.27,
          "lost_std": 14.687901294754278,
          "m": 90,
          "profit_mean": 439.6809999999997,
          "profit_std": 268.44414639988645,
          "s": 75
         },
         {
          "N": 100,
          "S": 200,
          "lost_mean": 20.08,
          "lost_std": 32.71909213133809,
          "m": 90,
          "profit_mean": 3020.23,
          "profit_std": 160.12806900992885,
          "s": 100
         },
         {
          "N": 100,
          "S": 300,
          "lost_mean": 5.76,
          "lost_std": 15.6276884555793,
          "m": 90,
          "profit_mean": 3120.251,
          "profit_std": 168.18128836635097,
          "s": 100
         },
         {
          "N": 100,
          "S": 400,
          "lost_mean": 6.26,
          "lost_std": 17.33486007262169,
          "m": 90,
          "profit_mean": 2795.2369999999996,
          "profit_std": 187.47999362894984,
          "s": 100
         },
         {
          "N": 100,
          "S": 500,
          "lost_mean": 5.26,
          "lost_std": 26.617993458515535,
          "m": 90,
          "profit_mean": 2386.138,
          "profit_std": 263.08043889520366,
          "s": 100
         },
         {
          "N": 100,
          "S": 600,
          "lost_mean": 2.97,
          "lost_std": 13.148303266500925,
          "m": 90,
          "profit_mean": 1828.5710000000001,
          "profit_std": 170.44090969001425,
          "s": 100
         },
         {
          "N": 100,
          "S": 700,
          "lost_mean": 0.49,
          "lost_std": 2.7135834893246518,
          "m": 90,
          "profit_mean": 1683.693,
          "profit_std": 251.01191378019482,
          "s": 100
         },
         {
          "N": 100,
          "S": 800,
          "lost_mean": 5.79,
          "lost_std": 19.27802695382292,
          "m": 90,
          "profit_mean": 814.0609999999998,
          "profit_std": 186.53830266898606,
          "s": 100
         },
         {
          "N": 100,
          "S": 900,
          "lost_mean": 2.51,
          "lost_std": 7.848946400374996,
          "m": 90,
          "profit_mean": 293.36999999999983,
          "profit_std": 355.2029320392681,
          "s": 100
         },
         {
          "N": 100,
          "S": 1000,
          "lost_mean": 2.53,
          "lost_std": 12.014683777054906,
          "m": 90,
          "profit_mean": 428.6849999999998,
          "profit_std": 255.33067344725794,
          "s": 100
         },
         {
          "N": 100,
          "S": 200,
          "lost_mean": 9.32,
          "lost_std": 21.774268940168533,
          "m": 90,
          "profit_mean": 2615.4799999999996,
          "profit_std": 187.355158870941,
          "s": 125
         },
         {
          "N": 100,
          "S": 300,
          "lost_mean": 2.89,
          "lost_std": 12.867541970541087,
          "m": 90,
          "profit_mean": 2913.112,
          "profit_std": 175.10721811034347,
          "s": 125
         },
         {
          "N": 100,
          "S": 400,
          "lost_mean": 4.37,
          "lost_std": 18.413683427650682,
          "m": 90,
          "profit_mean": 2680.0350000000008,
          "profit_std": 174.42341978268527,
          "s": 125
         },
         {
          "N": 100,
          "S": 500,
          "lost_mean": 3.27,
          "lost_std": 18.34619658929144,
          "m": 90,
          "profit_mean": 2227.969,
          "profit_std": 205.2709747375331,
          "s": 125
         },
         {
          "N": 100,
          "S": 600,
          "lost_mean": 0.92,
          "lost_std": 5.364831231400866,
          "m": 90,
          "profit_mean": 1771.845,
          "profit_std": 161.99935613726643,
          "s": 125
         },
         {
          "N": 100,
          "S": 700,
          "lost_mean": 0.75,
          "lost_std": 6.1272285164607085,
          "m": 90,
          "profit_mean": 1545.7620000000002,
          "profit_std": 273.75956743762646,
          "s": 125
         },
         {
          "N": 100,
          "S": 800,
          "lost_mean": 2.17,
          "lost_std": 11.349413725791825,
          "m": 90,
          "profit_mean": 722.4939999999998,
          "profit_std": 207.39437171288384,
          "s": 125
         },
         {
          "N": 100,
          "S": 900,
          "lost_mean": 1.94,
          "lost_std": 8.282658042103648,
          "m": 90,
          "profit_mean": 59.789999999999836,
          "profit_std": 220.4234160048163,
          "s": 125
         },
         {
          "N": 100,
          "S": 1000,
          "lost_mean": 1.12,
          "lost_std": 8.359691647689191,
          "m": 90,
          "profit_mean": 268.1569999999998,
          "profit_std": 409.5952826963107,
          "s": 125
         },
         {
          "N": 100,
          "S": 200,
          "lost_mean": 1.83,
          "lost_std": 7.363649457526704,
          "m": 90,
          "profit_mean": 1970.987,
          "profit_std": 248.1636767042137,
          "s": 150
         },
         {
          "N": 100,
          "S": 300,
          "lost_mean": 2.02,
          "lost_std": 8.678290573190507,
          "m": 90,
          "profit_mean": 2671.952,
          "profit_std": 166.81307961701663,
          "s": 150
         },
         {
          "N": 100,
          "S": 400,
          "lost_mean": 1.22,
          "lost_std": 6.331865858696413,
          "m": 90,
          "profit_mean": 2497.744,
          "profit_std": 185.28499223486705,
          "s": 150
         },
         {
          "N": 100,
          "S": 500,
          "lost_mean": 0.56,
          "lost_std": 3.30386978489703,
          "m": 90,
          "profit_mean": 2149.314,
          "profit_std": 210.26386982440738,
          "s": 150
         },
         {
          "N": 100,
          "S": 600,
          "lost_mean": 1.99,
          "lost_std": 10.519337652460095,
          "m": 90,
          "profit_mean": 1814.606,
          "profit_std": 190.31460281450927,
          "s": 150
         },
         {
          "N": 100,
          "S": 700,
          "lost_mean": 0.28,
          "lost_std": 1.9698741179080554,
          "m": 90,
          "profit_mean": 1134.7029999999995,
          "profit_std": 327.16855769224566,
          "s": 150
         },
         {
          "N": 100,
          "S": 800,
          "lost_mean": 1.81,
          "lost_std": 10.048061273376836,
          "m": 90,
          "profit_mean": 737.2569999999998,
          "profit_std": 205.53083833347395,
          "s": 150
         },
         {
          "N": 100,
          "S": 900,
          "lost_mean": 0.44,
          "lost_std": 3.2108402248469083,
          "m": 90,
          "profit_mean": -37.010000000000225,
          "profit_std": 181.72357657395006,
          "s": 150
         },
         {
          "N": 100,
          "S": 1000,
          "lost_mean": 1.6,
          "lost_std": 8.836334538755771,
          "m": 90,
          "profit_mean": -236.9160000000002,
          "profit_std": 504.6193942713135,
          "s": 150
         },
         {
          "N": 100,
          "S": 200,
          "lost_mean": 3.27,
          "lost_std": 12.657775986692645,
          "m": 90,
          "profit_mean": 1034.612,
          "profit_std": 341.1812309899212,
          "s": 175
         },
         {
          "N": 100,
          "S": 300,
          "lost_mean": 0.71,
          "lost_std": 3.7180830294846046,
          "m": 90,
          "profit_mean": 2395.3160000000003,
          "profit_std": 204.57018391118135,
          "s": 175
         },
         {
          "N": 100,
          "S": 400,
          "lost_mean": 1.75,
          "lost_std": 12.90632528348919,
          "m": 90,
          "profit_mean": 2297.704,
          "profit_std": 193.6575880206604,
          "s": 175
         },
         {
          "N": 100,
          "S": 500,
          "lost_mean": 0.36,
          "lost_std": 3.5999999999999996,
          "m": 90,
          "profit_mean": 1958.382,
          "profit_std": 253.70202213692272,
          "s": 175
         },
         {
          "N": 100,
          "S": 600,
          "lost_mean": 0.67,
          "lost_std": 4.290122552462986,
          "m": 90,
          "profit_mean": 1649.5899999999997,
          "profit_std": 249.80461192983236,
          "s": 175
         },
         {
          "N": 100,
          "S": 700,
          "lost_mean": 0.02,
          "lost_std": 0.19999999999999998,
          "m": 90,
          "profit_mean": 917.8089999999997,
          "profit_std": 235.50629625287615,
          "s": 175
         },
         {
          "N": 100,
          "S": 800,
          "lost_mean": 1.83,
          "lost_std": 11.84159336125563,
          "m": 90,
          "profit_mean": 725.9579999999999,
          "profit_std": 225.62798745552894,
          "s": 175
         },
         {
          "N": 100,
          "S": 900,
          "lost_mean": 1.06,
          "lost_std": 10.600000000000003,
          "m": 90,
          "profit_mean": -147.6150000000002,
          "profit_std": 192.0369200482453,
          "s": 175
         },
         {
          "N": 100,
          "S": 1000,
          "lost_mean": 1.49,
          "lost_std": 9.630019352383082,
          "m": 90,
          "profit_mean": -507.8470000000002,
          "profit_std": 446.96536585482477,
          "s": 175
         },
         {
          "N": 100,
          "S": 300,
          "lost_mean": 0.68,
          "lost_std": 6.5007847234162455,
          "m": 90,
          "profit_mean": 2051.976,
          "profit_std": 166.18719645829125,
          "s": 200
         },
         {
          "N": 100,
          "S": 400,
          "lost_mean": 0.82,
          "lost_std": 5.341622346528188,
          "m": 90,
          "profit_mean": 2142.9079999999994,
          "profit_std": 205.21167277332017,
          "s": 200
         },
         {
          "N": 100,
          "S": 500,
          "lost_mean": 0.79,
          "lost_std": 4.759456296933951,
          "m": 90,
          "profit_mean": 1773.4129999999998,
          "profit_std": 192.5260631208359,
          "s": 200
         },
         {
          "N": 100,
          "S": 600,
          "lost_mean": 1.25,
          "lost_std": 7.629521345379143,
          "m": 90,
          "profit_mean": 1365.214,
          "profit_std": 268.5887686979988,
          "s": 200
         },
         {
          "N": 100,
          "S": 700,
          "lost_mean": 0.72,
          "lost_std": 4.9991514431466415,
          "m": 90,
          "profit_mean": 807.732,
          "profit_std": 167.06069294502737,
          "s": 200
         },
         {
          "N": 100,
          "S": 800,
          "lost_mean": 0.33,
          "lost_std": 2.074642478631298,
          "m": 90,
          "profit_mean": 690.9069999999998,
          "profit_std": 228.549274688427,
          "s": 200
         },
         {
          "N": 100,
          "S": 900,
          "lost_mean": 0.38,
          "lost_std": 2.643001049083135,
          "m": 90,
          "profit_mean": -141.55000000000027,
          "profit_std": 207.4540837599657,
          "s": 200
         },
         {
          "N": 100,
          "S": 1000,
          "lost_mean": 0.52,
          "lost_std": 5.199999999999998,
          "m": 90,
          "profit_mean": -772.3740000000003,
          "profit_std": 332.43444546149686,
          "s": 200
         },
         {
          "N": 100,
          "S": 300,
          "lost_mean": 1.5,
          "lost_std": 7.6785152184257575,
          "m": 90,
          "profit_mean": 1663.1519999999998,
          "profit_std": 212.2201855801581,
          "s": 225
         },
         {
          "N": 100,
          "S": 400,
          "lost_mean": 0.7,
          "lost_std": 4.924685294770139,
          "m": 90,
          "profit_mean": 1930.973,
          "profit_std": 173.7541569039836,
          "s": 225
         },
         {
          "N": 100,
          "S": 500,
          "lost_mean": 1.65,
          "lost_std": 13.0580483328339,
          "m": 90,
          "profit_mean": 1677.326,
          "profit_std": 206.8589431169819,
          "s": 225
         },
         {
          "N": 100,
          "S": 600,
          "lost_mean": 2.13,
          "lost_std": 12.449214003017588,
          "m": 90,
          "profit_mean": 1233.0069999999998,
          "profit_std": 224.07148492065085,
          "s": 225
         },
         {
          "N": 100,
          "S": 700,
          "lost_mean": 0.93,
          "lost_std": 6.244601709080452,
          "m": 90,
          "profit_mean": 808.2299999999999,
          "profit_std": 207.0249545783837,
          "s": 225
         },
         {
          "N": 100,
          "S": 800,
          "lost_mean": 0.1,
          "lost_std": 1.0000000000000007,
          "m": 90,
          "profit_mean": 534.6999999999999,
          "profit_std": 304.10735478170074,
          "s": 225
         },
         {
          "N": 100,
          "S": 900,
          "lost_mean": 0.48,
          "lost_std": 4.071284015559898,
          "m": 90,
          "profit_mean": -243.1130000000002,
          "profit_std": 201.20523400977746,
          "s": 225
         },
         {
          "N": 100,
          "S": 1000,
          "lost_mean": 1.32,
          "lost_std": 7.085167320508104,
          "m": 90,
          "profit_mean": -954.1800000000002,
          "profit_std": 197.84985992086783,
          "s": 225
         },
         {
          "N": 100,
          "S": 300,
          "lost_mean": 0.4,
          "lost_std": 2.8141058827257948,
          "m": 90,
          "profit_mean": 1026.938,
          "profit_std": 254.7140614235278,
          "s": 250
         },
         {
          "N": 100,
          "S": 400,
          "lost_mean": 0.1,
          "lost_std": 1.0000000000000007,
          "m": 90,
          "profit_mean": 1651.1429999999998,
          "profit_std": 172.60763601622932,
          "s": 250
         },
         {
          "N": 100,
          "S": 500,
          "lost_mean": 0.21,
          "lost_std": 1.6714779040832046,
          "m": 90,
          "profit_mean": 1488.8509999999997,
          "profit_std": 226.5972819360552,
          "s": 250
         },
         {
          "N": 100,
          "S": 600,
          "lost_mean": 2.18,
          "lost_std": 13.832606771719133,
          "m": 90,
          "profit_mean": 1213.382,
          "profit_std": 196.7978249756625,
          "s": 250
         },
         {
          "N": 100,
          "S": 700,
          "lost_mean": 1.76,
          "lost_std": 15.115795471204054,
          "m": 90,
          "profit_mean": 799.0329999999999,
          "profit_std": 176.64162204127808,
          "s": 250
         },
         {
          "N": 100,
          "S": 800,
          "lost_mean": 0.03,
          "lost_std": 0.2999999999999999,
          "m": 90,
          "profit_mean": 168.5249999999998,
          "profit_std": 342.22972507107306,
          "s": 250
         },
         {
          "N": 100,
          "S": 900,
          "lost_mean": 0.96,
          "lost_std": 7.126448107315638,
          "m": 90,
          "profit_mean": -275.16500000000025,
          "profit_std": 195.89202672994028,
          "s": 250
         },
         {
          "N": 100,
          "S": 1000,
          "lost_mean": 0,
          "lost_std": 0,
          "m": 90,
          "profit_mean": -1019.1280000000002,
          "profit_std": 171.74590291380093,
          "s": 250
         }
        ]
       },
       "encoding": {
        "color": {
         "field": "S",
         "scale": {
          "scheme": "plasma"
         },
         "type": "quantitative"
        },
        "x": {
         "field": "lost_mean",
         "type": "quantitative"
        },
        "y": {
         "field": "profit_mean",
         "type": "quantitative"
        }
       },
       "mark": "point"
      },
      "image/png": "[encoded data removed]",
      "image/svg+xml": [
       "<?xml version=\"1.0\" encoding=\"utf-8\"?>\n",
       "<!DOCTYPE svg PUBLIC \"-//W3C//DTD SVG 1.1//EN\" \"http://www.w3.org/Graphics/SVG/1.1/DTD/svg11.dtd\">\n",
       "<svg xmlns=\"http://www.w3.org/2000/svg\" xmlns:xlink=\"http://www.w3.org/1999/xlink\" version=\"1.1\" class=\"marks\" width=\"328\" height=\"247\" viewBox=\"0 0 328 247\"><rect width=\"328\" height=\"247\" fill=\"white\"/><g fill=\"none\" stroke-miterlimit=\"10\" transform=\"translate(60,10)\"><g class=\"mark-group role-frame root\" role=\"graphics-object\" aria-roledescription=\"group mark container\"><g transform=\"translate(0,0)\"><path class=\"background\" aria-hidden=\"true\" d=\"M0.5,0.5h200v200h-200Z\" stroke=\"#ddd\"/><g><g class=\"mark-group role-axis\" aria-hidden=\"true\"><g transform=\"translate(0.5,200.5)\"><path class=\"background\" aria-hidden=\"true\" d=\"M0,0h0v0h0Z\" pointer-events=\"none\"/><g><g class=\"mark-rule role-axis-grid\" pointer-events=\"none\"><line transform=\"translate(0,-200)\" x2=\"0\" y2=\"200\" stroke=\"#ddd\" stroke-width=\"1\" opacity=\"1\"/><line transform=\"translate(45,-200)\" x2=\"0\" y2=\"200\" stroke=\"#ddd\" stroke-width=\"1\" opacity=\"1\"/><line transform=\"translate(91,-200)\" x2=\"0\" y2=\"200\" stroke=\"#ddd\" stroke-width=\"1\" opacity=\"1\"/><line transform=\"translate(136,-200)\" x2=\"0\" y2=\"200\" stroke=\"#ddd\" stroke-width=\"1\" opacity=\"1\"/><line transform=\"translate(182,-200)\" x2=\"0\" y2=\"200\" stroke=\"#ddd\" stroke-width=\"1\" opacity=\"1\"/></g></g><path class=\"foreground\" aria-hidden=\"true\" d=\"\" pointer-events=\"none\" display=\"none\"/></g></g><g class=\"mark-group role-axis\" aria-hidden=\"true\"><g transform=\"translate(0.5,0.5)\"><path class=\"background\" aria-hidden=\"true\" d=\"M0,0h0v0h0Z\" pointer-events=\"none\"/><g><g class=\"mark-rule role-axis-grid\" pointer-events=\"none\"><line transform=\"translate(0,182)\" x2=\"200\" y2=\"0\" stroke=\"#ddd\" stroke-width=\"1\" opacity=\"1\"/><line transform=\"translate(0,145)\" x2=\"200\" y2=\"0\" stroke=\"#ddd\" stroke-width=\"1\" opacity=\"1\"/><line transform=\"translate(0,109)\" x2=\"200\" y2=\"0\" stroke=\"#ddd\" stroke-width=\"1\" opacity=\"1\"/><line transform=\"translate(0,73)\" x2=\"200\" y2=\"0\" stroke=\"#ddd\" stroke-width=\"1\" opacity=\"1\"/><line transform=\"translate(0,36)\" x2=\"200\" y2=\"0\" stroke=\"#ddd\" stroke-width=\"1\" opacity=\"1\"/><line transform=\"translate(0,0)\" x2=\"200\" y2=\"0\" stroke=\"#ddd\" stroke-width=\"1\" opacity=\"1\"/></g></g><path class=\"foreground\" aria-hidden=\"true\" d=\"\" pointer-events=\"none\" display=\"none\"/></g></g><g class=\"mark-group role-axis\" role=\"graphics-symbol\" aria-roledescription=\"axis\" aria-label=\"X-axis titled 'lost_mean' for a linear scale with values from 0 to 220\"><g transform=\"translate(0.5,200.5)\"><path class=\"background\" aria-hidden=\"true\" d=\"M0,0h0v0h0Z\" pointer-events=\"none\"/><g><g class=\"mark-rule role-axis-tick\" pointer-events=\"none\"><line transform=\"translate(0,0)\" x2=\"0\" y2=\"5\" stroke=\"#888\" stroke-width=\"1\" opacity=\"1\"/><line transform=\"translate(45,0)\" x2=\"0\" y2=\"5\" stroke=\"#888\" stroke-width=\"1\" opacity=\"1\"/><line transform=\"translate(91,0)\" x2=\"0\" y2=\"5\" stroke=\"#888\" stroke-width=\"1\" opacity=\"1\"/><line transform=\"translate(136,0)\" x2=\"0\" y2=\"5\" stroke=\"#888\" stroke-width=\"1\" opacity=\"1\"/><line transform=\"translate(182,0)\" x2=\"0\" y2=\"5\" stroke=\"#888\" stroke-width=\"1\" opacity=\"1\"/></g><g class=\"mark-text role-axis-label\" pointer-events=\"none\"><text text-anchor=\"start\" transform=\"translate(0,15)\" font-family=\"sans-serif\" font-size=\"10px\" fill=\"#000\" opacity=\"1\">0</text><text text-anchor=\"middle\" transform=\"translate(45.45454545454545,15)\" font-family=\"sans-serif\" font-size=\"10px\" fill=\"#000\" opacity=\"1\">50</text><text text-anchor=\"middle\" transform=\"translate(90.9090909090909,15)\" font-family=\"sans-serif\" font-size=\"10px\" fill=\"#000\" opacity=\"1\">100</text><text text-anchor=\"middle\" transform=\"translate(136.36363636363635,15)\" font-family=\"sans-serif\" font-size=\"10px\" fill=\"#000\" opacity=\"1\">150</text><text text-anchor=\"middle\" transform=\"translate(181.8181818181818,15)\" font-family=\"sans-serif\" font-size=\"10px\" fill=\"#000\" opacity=\"1\">200</text></g><g class=\"mark-rule role-axis-domain\" pointer-events=\"none\"><line transform=\"translate(0,0)\" x2=\"200\" y2=\"0\" stroke=\"#888\" stroke-width=\"1\" opacity=\"1\"/></g><g class=\"mark-text role-axis-title\" pointer-events=\"none\"><text text-anchor=\"middle\" transform=\"translate(100,30)\" font-family=\"sans-serif\" font-size=\"11px\" font-weight=\"bold\" fill=\"#000\" opacity=\"1\">lost_mean</text></g></g><path class=\"foreground\" aria-hidden=\"true\" d=\"\" pointer-events=\"none\" display=\"none\"/></g></g><g class=\"mark-group role-axis\" role=\"graphics-symbol\" aria-roledescription=\"axis\" aria-label=\"Y-axis titled 'profit_mean' for a linear scale with values from −1,500 to 4,000\"><g transform=\"translate(0.5,0.5)\"><path class=\"background\" aria-hidden=\"true\" d=\"M0,0h0v0h0Z\" pointer-events=\"none\"/><g><g class=\"mark-rule role-axis-tick\" pointer-events=\"none\"><line transform=\"translate(0,182)\" x2=\"-5\" y2=\"0\" stroke=\"#888\" stroke-width=\"1\" opacity=\"1\"/><line transform=\"translate(0,145)\" x2=\"-5\" y2=\"0\" stroke=\"#888\" stroke-width=\"1\" opacity=\"1\"/><line transform=\"translate(0,109)\" x2=\"-5\" y2=\"0\" stroke=\"#888\" stroke-width=\"1\" opacity=\"1\"/><line transform=\"translate(0,73)\" x2=\"-5\" y2=\"0\" stroke=\"#888\" stroke-width=\"1\" opacity=\"1\"/><line transform=\"translate(0,36)\" x2=\"-5\" y2=\"0\" stroke=\"#888\" stroke-width=\"1\" opacity=\"1\"/><line transform=\"translate(0,0)\" x2=\"-5\" y2=\"0\" stroke=\"#888\" stroke-width=\"1\" opacity=\"1\"/></g><g class=\"mark-text role-axis-label\" pointer-events=\"none\"><text text-anchor=\"end\" transform=\"translate(-7,184.8181818181818)\" font-family=\"sans-serif\" font-size=\"10px\" fill=\"#000\" opacity=\"1\">−1,000</text><text text-anchor=\"end\" transform=\"translate(-7,148.45454545454547)\" font-family=\"sans-serif\" font-size=\"10px\" fill=\"#000\" opacity=\"1\">0</text><text text-anchor=\"end\" transform=\"translate(-7,112.09090909090908)\" font-family=\"sans-serif\" font-size=\"10px\" fill=\"#000\" opacity=\"1\">1,000</text><text text-anchor=\"end\" transform=\"translate(-7,75.72727272727273)\" font-family=\"sans-serif\" font-size=\"10px\" fill=\"#000\" opacity=\"1\">2,000</text><text text-anchor=\"end\" transform=\"translate(-7,39.36363636363635)\" font-family=\"sans-serif\" font-size=\"10px\" fill=\"#000\" opacity=\"1\">3,000</text><text text-anchor=\"end\" transform=\"translate(-7,3)\" font-family=\"sans-serif\" font-size=\"10px\" fill=\"#000\" opacity=\"1\">4,000</text></g><g class=\"mark-rule role-axis-domain\" pointer-events=\"none\"><line transform=\"translate(0,200)\" x2=\"0\" y2=\"-200\" stroke=\"#888\" stroke-width=\"1\" opacity=\"1\"/></g><g class=\"mark-text role-axis-title\" pointer-events=\"none\"><text text-anchor=\"middle\" transform=\"translate(-44,100) rotate(-90) translate(0,-2)\" font-family=\"sans-serif\" font-size=\"11px\" font-weight=\"bold\" fill=\"#000\" opacity=\"1\">profit_mean</text></g></g><path class=\"foreground\" aria-hidden=\"true\" d=\"\" pointer-events=\"none\" display=\"none\"/></g></g><g class=\"mark-symbol role-mark marks\" role=\"graphics-object\" aria-roledescription=\"symbol mark container\"><path aria-label=\"lost_mean: 216.66; profit_mean: 2971.249; S: 100\" role=\"graphics-symbol\" aria-roledescription=\"point\" transform=\"translate(196.96363636363637,37.409127272727275)\" d=\"M2.7386127875258306,0A2.7386127875258306,2.7386127875258306,0,1,1,-2.7386127875258306,0A2.7386127875258306,2.7386127875258306,0,1,1,2.7386127875258306,0\" stroke=\"rgb(13, 8, 135)\" stroke-width=\"2\" opacity=\"0.7\"/><path aria-label=\"lost_mean: 118.92; profit_mean: 3579.796; S: 200\" role=\"graphics-symbol\" aria-roledescription=\"point\" transform=\"translate(108.10909090909091,15.280145454545435)\" d=\"M2.7386127875258306,0A2.7386127875258306,2.7386127875258306,0,1,1,-2.7386127875258306,0A2.7386127875258306,2.7386127875258306,0,1,1,2.7386127875258306,0\" stroke=\"rgb(71, 3, 159)\" stroke-width=\"2\" opacity=\"0.7\"/><path aria-label=\"lost_mean: 81.2; profit_mean: 3488.405; S: 300\" role=\"graphics-symbol\" aria-roledescription=\"point\" transform=\"translate(73.81818181818181,18.60345454545451)\" d=\"M2.7386127875258306,0A2.7386127875258306,2.7386127875258306,0,1,1,-2.7386127875258306,0A2.7386127875258306,2.7386127875258306,0,1,1,2.7386127875258306,0\" stroke=\"rgb(115, 1, 168)\" stroke-width=\"2\" opacity=\"0.7\"/><path aria-label=\"lost_mean: 60.11; profit_mean: 3081.231; S: 400\" role=\"graphics-symbol\" aria-roledescription=\"point\" transform=\"translate(54.64545454545454,33.40978181818181)\" d=\"M2.7386127875258306,0A2.7386127875258306,2.7386127875258306,0,1,1,-2.7386127875258306,0A2.7386127875258306,2.7386127875258306,0,1,1,2.7386127875258306,0\" stroke=\"rgb(156, 23, 158)\" stroke-width=\"2\" opacity=\"0.7\"/><path aria-label=\"lost_mean: 50.72; profit_mean: 2630.794; S: 500\" role=\"graphics-symbol\" aria-roledescription=\"point\" transform=\"translate(46.10909090909091,49.78930909090911)\" d=\"M2.7386127875258306,0A2.7386127875258306,2.7386127875258306,0,1,1,-2.7386127875258306,0A2.7386127875258306,2.7386127875258306,0,1,1,2.7386127875258306,0\" stroke=\"rgb(189, 55, 133)\" stroke-width=\"2\" opacity=\"0.7\"/><path aria-label=\"lost_mean: 34.57; profit_mean: 2546.72; S: 600\" role=\"graphics-symbol\" aria-roledescription=\"point\" transform=\"translate(31.427272727272726,52.846545454545456)\" d=\"M2.7386127875258306,0A2.7386127875258306,2.7386127875258306,0,1,1,-2.7386127875258306,0A2.7386127875258306,2.7386127875258306,0,1,1,2.7386127875258306,0\" stroke=\"rgb(216, 87, 108)\" stroke-width=\"2\" opacity=\"0.7\"/><path aria-label=\"lost_mean: 33.52; profit_mean: 1683.641; S: 700\" role=\"graphics-symbol\" aria-roledescription=\"point\" transform=\"translate(30.472727272727273,84.23123636363637)\" d=\"M2.7386127875258306,0A2.7386127875258306,2.7386127875258306,0,1,1,-2.7386127875258306,0A2.7386127875258306,2.7386127875258306,0,1,1,2.7386127875258306,0\" stroke=\"rgb(237, 121, 83)\" stroke-width=\"2\" opacity=\"0.7\"/><path aria-label=\"lost_mean: 32.05; profit_mean: 1200.973; S: 800\" role=\"graphics-symbol\" aria-roledescription=\"point\" transform=\"translate(29.136363636363633,101.78280000000002)\" d=\"M2.7386127875258306,0A2.7386127875258306,2.7386127875258306,0,1,1,-2.7386127875258306,0A2.7386127875258306,2.7386127875258306,0,1,1,2.7386127875258306,0\" stroke=\"rgb(251, 158, 59)\" stroke-width=\"2\" opacity=\"0.7\"/><path aria-label=\"lost_mean: 30.45; profit_mean: 1367.398; S: 900\" role=\"graphics-symbol\" aria-roledescription=\"point\" transform=\"translate(27.68181818181818,95.7309818181818)\" d=\"M2.7386127875258306,0A2.7386127875258306,2.7386127875258306,0,1,1,-2.7386127875258306,0A2.7386127875258306,2.7386127875258306,0,1,1,2.7386127875258306,0\" stroke=\"rgb(253, 201, 38)\" stroke-width=\"2\" opacity=\"0.7\"/><path aria-label=\"lost_mean: 24.22; profit_mean: 419.791; S: 1000\" role=\"graphics-symbol\" aria-roledescription=\"point\" transform=\"translate(22.018181818181816,130.18941818181818)\" d=\"M2.7386127875258306,0A2.7386127875258306,2.7386127875258306,0,1,1,-2.7386127875258306,0A2.7386127875258306,2.7386127875258306,0,1,1,2.7386127875258306,0\" stroke=\"rgb(240, 249, 33)\" stroke-width=\"2\" opacity=\"0.7\"/><path aria-label=\"lost_mean: 118.74; profit_mean: 2661.404; S: 100\" role=\"graphics-symbol\" aria-roledescription=\"point\" transform=\"translate(107.94545454545454,48.6762181818182)\" d=\"M2.7386127875258306,0A2.7386127875258306,2.7386127875258306,0,1,1,-2.7386127875258306,0A2.7386127875258306,2.7386127875258306,0,1,1,2.7386127875258306,0\" stroke=\"rgb(13, 8, 135)\" stroke-width=\"2\" opacity=\"0.7\"/><path aria-label=\"lost_mean: 49.21; profit_mean: 3534.315; S: 200\" role=\"graphics-symbol\" aria-roledescription=\"point\" transform=\"translate(44.736363636363635,16.933999999999983)\" d=\"M2.7386127875258306,0A2.7386127875258306,2.7386127875258306,0,1,1,-2.7386127875258306,0A2.7386127875258306,2.7386127875258306,0,1,1,2.7386127875258306,0\" stroke=\"rgb(71, 3, 159)\" stroke-width=\"2\" opacity=\"0.7\"/><path aria-label=\"lost_mean: 44.28; profit_mean: 3394.556; S: 300\" role=\"graphics-symbol\" aria-roledescription=\"point\" transform=\"translate(40.25454545454545,22.016145454545445)\" d=\"M2.7386127875258306,0A2.7386127875258306,2.7386127875258306,0,1,1,-2.7386127875258306,0A2.7386127875258306,2.7386127875258306,0,1,1,2.7386127875258306,0\" stroke=\"rgb(115, 1, 168)\" stroke-width=\"2\" opacity=\"0.7\"/><path aria-label=\"lost_mean: 37.86; profit_mean: 3061.301; S: 400\" role=\"graphics-symbol\" aria-roledescription=\"point\" transform=\"translate(34.41818181818182,34.13450909090911)\" d=\"M2.7386127875258306,0A2.7386127875258306,2.7386127875258306,0,1,1,-2.7386127875258306,0A2.7386127875258306,2.7386127875258306,0,1,1,2.7386127875258306,0\" stroke=\"rgb(156, 23, 158)\" stroke-width=\"2\" opacity=\"0.7\"/><path aria-label=\"lost_mean: 21.04; profit_mean: 2721.589; S: 500\" role=\"graphics-symbol\" aria-roledescription=\"point\" transform=\"translate(19.127272727272725,46.487672727272724)\" d=\"M2.7386127875258306,0A2.7386127875258306,2.7386127875258306,0,1,1,-2.7386127875258306,0A2.7386127875258306,2.7386127875258306,0,1,1,2.7386127875258306,0\" stroke=\"rgb(189, 55, 133)\" stroke-width=\"2\" opacity=\"0.7\"/><path aria-label=\"lost_mean: 16.11; profit_mean: 2407.249; S: 600\" role=\"graphics-symbol\" aria-roledescription=\"point\" transform=\"translate(14.645454545454545,57.91821818181817)\" d=\"M2.7386127875258306,0A2.7386127875258306,2.7386127875258306,0,1,1,-2.7386127875258306,0A2.7386127875258306,2.7386127875258306,0,1,1,2.7386127875258306,0\" stroke=\"rgb(216, 87, 108)\" stroke-width=\"2\" opacity=\"0.7\"/><path aria-label=\"lost_mean: 20.11; profit_mean: 1642.604; S: 700\" role=\"graphics-symbol\" aria-roledescription=\"point\" transform=\"translate(18.28181818181818,85.72349090909093)\" d=\"M2.7386127875258306,0A2.7386127875258306,2.7386127875258306,0,1,1,-2.7386127875258306,0A2.7386127875258306,2.7386127875258306,0,1,1,2.7386127875258306,0\" stroke=\"rgb(237, 121, 83)\" stroke-width=\"2\" opacity=\"0.7\"/><path aria-label=\"lost_mean: 18.19; profit_mean: 1014.095; S: 800\" role=\"graphics-symbol\" aria-roledescription=\"point\" transform=\"translate(16.53636363636364,108.57836363636363)\" d=\"M2.7386127875258306,0A2.7386127875258306,2.7386127875258306,0,1,1,-2.7386127875258306,0A2.7386127875258306,2.7386127875258306,0,1,1,2.7386127875258306,0\" stroke=\"rgb(251, 158, 59)\" stroke-width=\"2\" opacity=\"0.7\"/><path aria-label=\"lost_mean: 13.63; profit_mean: 1231.521; S: 900\" role=\"graphics-symbol\" aria-roledescription=\"point\" transform=\"translate(12.39090909090909,100.67196363636364)\" d=\"M2.7386127875258306,0A2.7386127875258306,2.7386127875258306,0,1,1,-2.7386127875258306,0A2.7386127875258306,2.7386127875258306,0,1,1,2.7386127875258306,0\" stroke=\"rgb(253, 201, 38)\" stroke-width=\"2\" opacity=\"0.7\"/><path aria-label=\"lost_mean: 9.96; profit_mean: 435.771; S: 1000\" role=\"graphics-symbol\" aria-roledescription=\"point\" transform=\"translate(9.054545454545455,129.60832727272728)\" d=\"M2.7386127875258306,0A2.7386127875258306,2.7386127875258306,0,1,1,-2.7386127875258306,0A2.7386127875258306,2.7386127875258306,0,1,1,2.7386127875258306,0\" stroke=\"rgb(240, 249, 33)\" stroke-width=\"2\" opacity=\"0.7\"/><path aria-label=\"lost_mean: 74.03; profit_mean: 1855.157; S: 100\" role=\"graphics-symbol\" aria-roledescription=\"point\" transform=\"translate(67.30000000000001,77.9942909090909)\" d=\"M2.7386127875258306,0A2.7386127875258306,2.7386127875258306,0,1,1,-2.7386127875258306,0A2.7386127875258306,2.7386127875258306,0,1,1,2.7386127875258306,0\" stroke=\"rgb(13, 8, 135)\" stroke-width=\"2\" opacity=\"0.7\"/><path aria-label=\"lost_mean: 24.44; profit_mean: 3346.444; S: 200\" role=\"graphics-symbol\" aria-roledescription=\"point\" transform=\"translate(22.21818181818182,23.7656727272727)\" d=\"M2.7386127875258306,0A2.7386127875258306,2.7386127875258306,0,1,1,-2.7386127875258306,0A2.7386127875258306,2.7386127875258306,0,1,1,2.7386127875258306,0\" stroke=\"rgb(71, 3, 159)\" stroke-width=\"2\" opacity=\"0.7\"/><path aria-label=\"lost_mean: 14.97; profit_mean: 3300.202; S: 300\" role=\"graphics-symbol\" aria-roledescription=\"point\" transform=\"translate(13.60909090909091,25.44719999999996)\" d=\"M2.7386127875258306,0A2.7386127875258306,2.7386127875258306,0,1,1,-2.7386127875258306,0A2.7386127875258306,2.7386127875258306,0,1,1,2.7386127875258306,0\" stroke=\"rgb(115, 1, 168)\" stroke-width=\"2\" opacity=\"0.7\"/><path aria-label=\"lost_mean: 6.17; profit_mean: 3035.648; S: 400\" role=\"graphics-symbol\" aria-roledescription=\"point\" transform=\"translate(5.6090909090909085,35.06734545454548)\" d=\"M2.7386127875258306,0A2.7386127875258306,2.7386127875258306,0,1,1,-2.7386127875258306,0A2.7386127875258306,2.7386127875258306,0,1,1,2.7386127875258306,0\" stroke=\"rgb(156, 23, 158)\" stroke-width=\"2\" opacity=\"0.7\"/><path aria-label=\"lost_mean: 7.34; profit_mean: 2687.468; S: 500\" role=\"graphics-symbol\" aria-roledescription=\"point\" transform=\"translate(6.672727272727273,47.72843636363633)\" d=\"M2.7386127875258306,0A2.7386127875258306,2.7386127875258306,0,1,1,-2.7386127875258306,0A2.7386127875258306,2.7386127875258306,0,1,1,2.7386127875258306,0\" stroke=\"rgb(189, 55, 133)\" stroke-width=\"2\" opacity=\"0.7\"/><path aria-label=\"lost_mean: 9.68; profit_mean: 2028.084; S: 600\" role=\"graphics-symbol\" aria-roledescription=\"point\" transform=\"translate(8.799999999999999,71.70603636363634)\" d=\"M2.7386127875258306,0A2.7386127875258306,2.7386127875258306,0,1,1,-2.7386127875258306,0A2.7386127875258306,2.7386127875258306,0,1,1,2.7386127875258306,0\" stroke=\"rgb(216, 87, 108)\" stroke-width=\"2\" opacity=\"0.7\"/><path aria-label=\"lost_mean: 7.85; profit_mean: 1678.705; S: 700\" role=\"graphics-symbol\" aria-roledescription=\"point\" transform=\"translate(7.136363636363637,84.41072727272727)\" d=\"M2.7386127875258306,0A2.7386127875258306,2.7386127875258306,0,1,1,-2.7386127875258306,0A2.7386127875258306,2.7386127875258306,0,1,1,2.7386127875258306,0\" stroke=\"rgb(237, 121, 83)\" stroke-width=\"2\" opacity=\"0.7\"/><path aria-label=\"lost_mean: 11.43; profit_mean: 914.724; S: 800\" role=\"graphics-symbol\" aria-roledescription=\"point\" transform=\"translate(10.39090909090909,112.19185454545455)\" d=\"M2.7386127875258306,0A2.7386127875258306,2.7386127875258306,0,1,1,-2.7386127875258306,0A2.7386127875258306,2.7386127875258306,0,1,1,2.7386127875258306,0\" stroke=\"rgb(251, 158, 59)\" stroke-width=\"2\" opacity=\"0.7\"/><path aria-label=\"lost_mean: 4.52; profit_mean: 682.48; S: 900\" role=\"graphics-symbol\" aria-roledescription=\"point\" transform=\"translate(4.1090909090909085,120.63709090909094)\" d=\"M2.7386127875258306,0A2.7386127875258306,2.7386127875258306,0,1,1,-2.7386127875258306,0A2.7386127875258306,2.7386127875258306,0,1,1,2.7386127875258306,0\" stroke=\"rgb(253, 201, 38)\" stroke-width=\"2\" opacity=\"0.7\"/><path aria-label=\"lost_mean: 3.27; profit_mean: 439.681; S: 1000\" role=\"graphics-symbol\" aria-roledescription=\"point\" transform=\"translate(2.9727272727272727,129.46614545454545)\" d=\"M2.7386127875258306,0A2.7386127875258306,2.7386127875258306,0,1,1,-2.7386127875258306,0A2.7386127875258306,2.7386127875258306,0,1,1,2.7386127875258306,0\" stroke=\"rgb(240, 249, 33)\" stroke-width=\"2\" opacity=\"0.7\"/><path aria-label=\"lost_mean: 20.08; profit_mean: 3020.23; S: 200\" role=\"graphics-symbol\" aria-roledescription=\"point\" transform=\"translate(18.254545454545454,35.628000000000014)\" d=\"M2.7386127875258306,0A2.7386127875258306,2.7386127875258306,0,1,1,-2.7386127875258306,0A2.7386127875258306,2.7386127875258306,0,1,1,2.7386127875258306,0\" stroke=\"rgb(71, 3, 159)\" stroke-width=\"2\" opacity=\"0.7\"/><path aria-label=\"lost_mean: 5.76; profit_mean: 3120.251; S: 300\" role=\"graphics-symbol\" aria-roledescription=\"point\" transform=\"translate(5.236363636363636,31.990872727272723)\" d=\"M2.7386127875258306,0A2.7386127875258306,2.7386127875258306,0,1,1,-2.7386127875258306,0A2.7386127875258306,2.7386127875258306,0,1,1,2.7386127875258306,0\" stroke=\"rgb(115, 1, 168)\" stroke-width=\"2\" opacity=\"0.7\"/><path aria-label=\"lost_mean: 6.26; profit_mean: 2795.237; S: 400\" role=\"graphics-symbol\" aria-roledescription=\"point\" transform=\"translate(5.690909090909091,43.809563636363656)\" d=\"M2.7386127875258306,0A2.7386127875258306,2.7386127875258306,0,1,1,-2.7386127875258306,0A2.7386127875258306,2.7386127875258306,0,1,1,2.7386127875258306,0\" stroke=\"rgb(156, 23, 158)\" stroke-width=\"2\" opacity=\"0.7\"/><path aria-label=\"lost_mean: 5.26; profit_mean: 2386.138; S: 500\" role=\"graphics-symbol\" aria-roledescription=\"point\" transform=\"translate(4.781818181818181,58.68589090909091)\" d=\"M2.7386127875258306,0A2.7386127875258306,2.7386127875258306,0,1,1,-2.7386127875258306,0A2.7386127875258306,2.7386127875258306,0,1,1,2.7386127875258306,0\" stroke=\"rgb(189, 55, 133)\" stroke-width=\"2\" opacity=\"0.7\"/><path aria-label=\"lost_mean: 2.97; profit_mean: 1828.571; S: 600\" role=\"graphics-symbol\" aria-roledescription=\"point\" transform=\"translate(2.7,78.96105454545454)\" d=\"M2.7386127875258306,0A2.7386127875258306,2.7386127875258306,0,1,1,-2.7386127875258306,0A2.7386127875258306,2.7386127875258306,0,1,1,2.7386127875258306,0\" stroke=\"rgb(216, 87, 108)\" stroke-width=\"2\" opacity=\"0.7\"/><path aria-label=\"lost_mean: 0.49; profit_mean: 1683.693; S: 700\" role=\"graphics-symbol\" aria-roledescription=\"point\" transform=\"translate(0.44545454545454544,84.22934545454545)\" d=\"M2.7386127875258306,0A2.7386127875258306,2.7386127875258306,0,1,1,-2.7386127875258306,0A2.7386127875258306,2.7386127875258306,0,1,1,2.7386127875258306,0\" stroke=\"rgb(237, 121, 83)\" stroke-width=\"2\" opacity=\"0.7\"/><path aria-label=\"lost_mean: 5.79; profit_mean: 814.061; S: 800\" role=\"graphics-symbol\" aria-roledescription=\"point\" transform=\"translate(5.263636363636364,115.8523272727273)\" d=\"M2.7386127875258306,0A2.7386127875258306,2.7386127875258306,0,1,1,-2.7386127875258306,0A2.7386127875258306,2.7386127875258306,0,1,1,2.7386127875258306,0\" stroke=\"rgb(251, 158, 59)\" stroke-width=\"2\" opacity=\"0.7\"/><path aria-label=\"lost_mean: 2.51; profit_mean: 293.37; S: 900\" role=\"graphics-symbol\" aria-roledescription=\"point\" transform=\"translate(2.2818181818181817,134.78654545454546)\" d=\"M2.7386127875258306,0A2.7386127875258306,2.7386127875258306,0,1,1,-2.7386127875258306,0A2.7386127875258306,2.7386127875258306,0,1,1,2.7386127875258306,0\" stroke=\"rgb(253, 201, 38)\" stroke-width=\"2\" opacity=\"0.7\"/><path aria-label=\"lost_mean: 2.53; profit_mean: 428.685; S: 1000\" role=\"graphics-symbol\" aria-roledescription=\"point\" transform=\"translate(2.3,129.866)\" d=\"M2.7386127875258306,0A2.7386127875258306,2.7386127875258306,0,1,1,-2.7386127875258306,0A2.7386127875258306,2.7386127875258306,0,1,1,2.7386127875258306,0\" stroke=\"rgb(240, 249, 33)\" stroke-width=\"2\" opacity=\"0.7\"/><path aria-label=\"lost_mean: 9.32; profit_mean: 2615.48; S: 200\" role=\"graphics-symbol\" aria-roledescription=\"point\" transform=\"translate(8.472727272727273,50.346181818181826)\" d=\"M2.7386127875258306,0A2.7386127875258306,2.7386127875258306,0,1,1,-2.7386127875258306,0A2.7386127875258306,2.7386127875258306,0,1,1,2.7386127875258306,0\" stroke=\"rgb(71, 3, 159)\" stroke-width=\"2\" opacity=\"0.7\"/><path aria-label=\"lost_mean: 2.89; profit_mean: 2913.112; S: 300\" role=\"graphics-symbol\" aria-roledescription=\"point\" transform=\"translate(2.6272727272727274,39.5232)\" d=\"M2.7386127875258306,0A2.7386127875258306,2.7386127875258306,0,1,1,-2.7386127875258306,0A2.7386127875258306,2.7386127875258306,0,1,1,2.7386127875258306,0\" stroke=\"rgb(115, 1, 168)\" stroke-width=\"2\" opacity=\"0.7\"/><path aria-label=\"lost_mean: 4.37; profit_mean: 2680.035; S: 400\" role=\"graphics-symbol\" aria-roledescription=\"point\" transform=\"translate(3.972727272727273,47.99872727272725)\" d=\"M2.7386127875258306,0A2.7386127875258306,2.7386127875258306,0,1,1,-2.7386127875258306,0A2.7386127875258306,2.7386127875258306,0,1,1,2.7386127875258306,0\" stroke=\"rgb(156, 23, 158)\" stroke-width=\"2\" opacity=\"0.7\"/><path aria-label=\"lost_mean: 3.27; profit_mean: 2227.969; S: 500\" role=\"graphics-symbol\" aria-roledescription=\"point\" transform=\"translate(2.9727272727272727,64.4374909090909)\" d=\"M2.7386127875258306,0A2.7386127875258306,2.7386127875258306,0,1,1,-2.7386127875258306,0A2.7386127875258306,2.7386127875258306,0,1,1,2.7386127875258306,0\" stroke=\"rgb(189, 55, 133)\" stroke-width=\"2\" opacity=\"0.7\"/><path aria-label=\"lost_mean: 0.92; profit_mean: 1771.845; S: 600\" role=\"graphics-symbol\" aria-roledescription=\"point\" transform=\"translate(0.8363636363636364,81.02381818181816)\" d=\"M2.7386127875258306,0A2.7386127875258306,2.7386127875258306,0,1,1,-2.7386127875258306,0A2.7386127875258306,2.7386127875258306,0,1,1,2.7386127875258306,0\" stroke=\"rgb(216, 87, 108)\" stroke-width=\"2\" opacity=\"0.7\"/><path aria-label=\"lost_mean: 0.75; profit_mean: 1545.762; S: 700\" role=\"graphics-symbol\" aria-roledescription=\"point\" transform=\"translate(0.6818181818181818,89.24501818181818)\" d=\"M2.7386127875258306,0A2.7386127875258306,2.7386127875258306,0,1,1,-2.7386127875258306,0A2.7386127875258306,2.7386127875258306,0,1,1,2.7386127875258306,0\" stroke=\"rgb(237, 121, 83)\" stroke-width=\"2\" opacity=\"0.7\"/><path aria-label=\"lost_mean: 2.17; profit_mean: 722.494; S: 800\" role=\"graphics-symbol\" aria-roledescription=\"point\" transform=\"translate(1.9727272727272724,119.18203636363639)\" d=\"M2.7386127875258306,0A2.7386127875258306,2.7386127875258306,0,1,1,-2.7386127875258306,0A2.7386127875258306,2.7386127875258306,0,1,1,2.7386127875258306,0\" stroke=\"rgb(251, 158, 59)\" stroke-width=\"2\" opacity=\"0.7\"/><path aria-label=\"lost_mean: 1.94; profit_mean: 59.79; S: 900\" role=\"graphics-symbol\" aria-roledescription=\"point\" transform=\"translate(1.7636363636363637,143.28036363636366)\" d=\"M2.7386127875258306,0A2.7386127875258306,2.7386127875258306,0,1,1,-2.7386127875258306,0A2.7386127875258306,2.7386127875258306,0,1,1,2.7386127875258306,0\" stroke=\"rgb(253, 201, 38)\" stroke-width=\"2\" opacity=\"0.7\"/><path aria-label=\"lost_mean: 1.12; profit_mean: 268.157; S: 1000\" role=\"graphics-symbol\" aria-roledescription=\"point\" transform=\"translate(1.0181818181818183,135.7033818181818)\" d=\"M2.7386127875258306,0A2.7386127875258306,2.7386127875258306,0,1,1,-2.7386127875258306,0A2.7386127875258306,2.7386127875258306,0,1,1,2.7386127875258306,0\" stroke=\"rgb(240, 249, 33)\" stroke-width=\"2\" opacity=\"0.7\"/><path aria-label=\"lost_mean: 1.83; profit_mean: 1970.987; S: 200\" role=\"graphics-symbol\" aria-roledescription=\"point\" transform=\"translate(1.6636363636363636,73.7822909090909)\" d=\"M2.7386127875258306,0A2.7386127875258306,2.7386127875258306,0,1,1,-2.7386127875258306,0A2.7386127875258306,2.7386127875258306,0,1,1,2.7386127875258306,0\" stroke=\"rgb(71, 3, 159)\" stroke-width=\"2\" opacity=\"0.7\"/><path aria-label=\"lost_mean: 2.02; profit_mean: 2671.952; S: 300\" role=\"graphics-symbol\" aria-roledescription=\"point\" transform=\"translate(1.8363636363636364,48.292654545454525)\" d=\"M2.7386127875258306,0A2.7386127875258306,2.7386127875258306,0,1,1,-2.7386127875258306,0A2.7386127875258306,2.7386127875258306,0,1,1,2.7386127875258306,0\" stroke=\"rgb(115, 1, 168)\" stroke-width=\"2\" opacity=\"0.7\"/><path aria-label=\"lost_mean: 1.22; profit_mean: 2497.744; S: 400\" role=\"graphics-symbol\" aria-roledescription=\"point\" transform=\"translate(1.1090909090909091,54.627490909090916)\" d=\"M2.7386127875258306,0A2.7386127875258306,2.7386127875258306,0,1,1,-2.7386127875258306,0A2.7386127875258306,2.7386127875258306,0,1,1,2.7386127875258306,0\" stroke=\"rgb(156, 23, 158)\" stroke-width=\"2\" opacity=\"0.7\"/><path aria-label=\"lost_mean: 0.56; profit_mean: 2149.314; S: 500\" role=\"graphics-symbol\" aria-roledescription=\"point\" transform=\"translate(0.5090909090909091,67.29767272727274)\" d=\"M2.7386127875258306,0A2.7386127875258306,2.7386127875258306,0,1,1,-2.7386127875258306,0A2.7386127875258306,2.7386127875258306,0,1,1,2.7386127875258306,0\" stroke=\"rgb(189, 55, 133)\" stroke-width=\"2\" opacity=\"0.7\"/><path aria-label=\"lost_mean: 1.99; profit_mean: 1814.606; S: 600\" role=\"graphics-symbol\" aria-roledescription=\"point\" transform=\"translate(1.809090909090909,79.46887272727274)\" d=\"M2.7386127875258306,0A2.7386127875258306,2.7386127875258306,0,1,1,-2.7386127875258306,0A2.7386127875258306,2.7386127875258306,0,1,1,2.7386127875258306,0\" stroke=\"rgb(216, 87, 108)\" stroke-width=\"2\" opacity=\"0.7\"/><path aria-label=\"lost_mean: 0.28; profit_mean: 1134.703; S: 700\" role=\"graphics-symbol\" aria-roledescription=\"point\" transform=\"translate(0.2545454545454546,104.1926181818182)\" d=\"M2.7386127875258306,0A2.7386127875258306,2.7386127875258306,0,1,1,-2.7386127875258306,0A2.7386127875258306,2.7386127875258306,0,1,1,2.7386127875258306,0\" stroke=\"rgb(237, 121, 83)\" stroke-width=\"2\" opacity=\"0.7\"/><path aria-label=\"lost_mean: 1.81; profit_mean: 737.257; S: 800\" role=\"graphics-symbol\" aria-roledescription=\"point\" transform=\"translate(1.6454545454545455,118.6452)\" d=\"M2.7386127875258306,0A2.7386127875258306,2.7386127875258306,0,1,1,-2.7386127875258306,0A2.7386127875258306,2.7386127875258306,0,1,1,2.7386127875258306,0\" stroke=\"rgb(251, 158, 59)\" stroke-width=\"2\" opacity=\"0.7\"/><path aria-label=\"lost_mean: 0.44; profit_mean: −37.01; S: 900\" role=\"graphics-symbol\" aria-roledescription=\"point\" transform=\"translate(0.4,146.80036363636364)\" d=\"M2.7386127875258306,0A2.7386127875258306,2.7386127875258306,0,1,1,-2.7386127875258306,0A2.7386127875258306,2.7386127875258306,0,1,1,2.7386127875258306,0\" stroke=\"rgb(253, 201, 38)\" stroke-width=\"2\" opacity=\"0.7\"/><path aria-label=\"lost_mean: 1.6; profit_mean: −236.916; S: 1000\" role=\"graphics-symbol\" aria-roledescription=\"point\" transform=\"translate(1.4545454545454546,154.06967272727275)\" d=\"M2.7386127875258306,0A2.7386127875258306,2.7386127875258306,0,1,1,-2.7386127875258306,0A2.7386127875258306,2.7386127875258306,0,1,1,2.7386127875258306,0\" stroke=\"rgb(240, 249, 33)\" stroke-width=\"2\" opacity=\"0.7\"/><path aria-label=\"lost_mean: 3.27; profit_mean: 1034.612; S: 200\" role=\"graphics-symbol\" aria-roledescription=\"point\" transform=\"translate(2.9727272727272727,107.83229090909091)\" d=\"M2.7386127875258306,0A2.7386127875258306,2.7386127875258306,0,1,1,-2.7386127875258306,0A2.7386127875258306,2.7386127875258306,0,1,1,2.7386127875258306,0\" stroke=\"rgb(71, 3, 159)\" stroke-width=\"2\" opacity=\"0.7\"/><path aria-label=\"lost_mean: 0.71; profit_mean: 2395.316; S: 300\" role=\"graphics-symbol\" aria-roledescription=\"point\" transform=\"translate(0.6454545454545454,58.352145454545436)\" d=\"M2.7386127875258306,0A2.7386127875258306,2.7386127875258306,0,1,1,-2.7386127875258306,0A2.7386127875258306,2.7386127875258306,0,1,1,2.7386127875258306,0\" stroke=\"rgb(115, 1, 168)\" stroke-width=\"2\" opacity=\"0.7\"/><path aria-label=\"lost_mean: 1.75; profit_mean: 2297.704; S: 400\" role=\"graphics-symbol\" aria-roledescription=\"point\" transform=\"translate(1.5909090909090908,61.90167272727272)\" d=\"M2.7386127875258306,0A2.7386127875258306,2.7386127875258306,0,1,1,-2.7386127875258306,0A2.7386127875258306,2.7386127875258306,0,1,1,2.7386127875258306,0\" stroke=\"rgb(156, 23, 158)\" stroke-width=\"2\" opacity=\"0.7\"/><path aria-label=\"lost_mean: 0.36; profit_mean: 1958.382; S: 500\" role=\"graphics-symbol\" aria-roledescription=\"point\" transform=\"translate(0.32727272727272727,74.24065454545455)\" d=\"M2.7386127875258306,0A2.7386127875258306,2.7386127875258306,0,1,1,-2.7386127875258306,0A2.7386127875258306,2.7386127875258306,0,1,1,2.7386127875258306,0\" stroke=\"rgb(189, 55, 133)\" stroke-width=\"2\" opacity=\"0.7\"/><path aria-label=\"lost_mean: 0.67; profit_mean: 1649.59; S: 600\" role=\"graphics-symbol\" aria-roledescription=\"point\" transform=\"translate(0.6090909090909091,85.46945454545455)\" d=\"M2.7386127875258306,0A2.7386127875258306,2.7386127875258306,0,1,1,-2.7386127875258306,0A2.7386127875258306,2.7386127875258306,0,1,1,2.7386127875258306,0\" stroke=\"rgb(216, 87, 108)\" stroke-width=\"2\" opacity=\"0.7\"/><path aria-label=\"lost_mean: 0.02; profit_mean: 917.809; S: 700\" role=\"graphics-symbol\" aria-roledescription=\"point\" transform=\"translate(0.018181818181818184,112.07967272727272)\" d=\"M2.7386127875258306,0A2.7386127875258306,2.7386127875258306,0,1,1,-2.7386127875258306,0A2.7386127875258306,2.7386127875258306,0,1,1,2.7386127875258306,0\" stroke=\"rgb(237, 121, 83)\" stroke-width=\"2\" opacity=\"0.7\"/><path aria-label=\"lost_mean: 1.83; profit_mean: 725.958; S: 800\" role=\"graphics-symbol\" aria-roledescription=\"point\" transform=\"translate(1.6636363636363636,119.05607272727275)\" d=\"M2.7386127875258306,0A2.7386127875258306,2.7386127875258306,0,1,1,-2.7386127875258306,0A2.7386127875258306,2.7386127875258306,0,1,1,2.7386127875258306,0\" stroke=\"rgb(251, 158, 59)\" stroke-width=\"2\" opacity=\"0.7\"/><path aria-label=\"lost_mean: 1.06; profit_mean: −147.615; S: 900\" role=\"graphics-symbol\" aria-roledescription=\"point\" transform=\"translate(0.9636363636363637,150.82236363636366)\" d=\"M2.7386127875258306,0A2.7386127875258306,2.7386127875258306,0,1,1,-2.7386127875258306,0A2.7386127875258306,2.7386127875258306,0,1,1,2.7386127875258306,0\" stroke=\"rgb(253, 201, 38)\" stroke-width=\"2\" opacity=\"0.7\"/><path aria-label=\"lost_mean: 1.49; profit_mean: −507.847; S: 1000\" role=\"graphics-symbol\" aria-roledescription=\"point\" transform=\"translate(1.3545454545454545,163.92170909090908)\" d=\"M2.7386127875258306,0A2.7386127875258306,2.7386127875258306,0,1,1,-2.7386127875258306,0A2.7386127875258306,2.7386127875258306,0,1,1,2.7386127875258306,0\" stroke=\"rgb(240, 249, 33)\" stroke-width=\"2\" opacity=\"0.7\"/><path aria-label=\"lost_mean: 0.68; profit_mean: 2051.976; S: 300\" role=\"graphics-symbol\" aria-roledescription=\"point\" transform=\"translate(0.6181818181818183,70.83723636363636)\" d=\"M2.7386127875258306,0A2.7386127875258306,2.7386127875258306,0,1,1,-2.7386127875258306,0A2.7386127875258306,2.7386127875258306,0,1,1,2.7386127875258306,0\" stroke=\"rgb(115, 1, 168)\" stroke-width=\"2\" opacity=\"0.7\"/><path aria-label=\"lost_mean: 0.82; profit_mean: 2142.908; S: 400\" role=\"graphics-symbol\" aria-roledescription=\"point\" transform=\"translate(0.7454545454545454,67.5306181818182)\" d=\"M2.7386127875258306,0A2.7386127875258306,2.7386127875258306,0,1,1,-2.7386127875258306,0A2.7386127875258306,2.7386127875258306,0,1,1,2.7386127875258306,0\" stroke=\"rgb(156, 23, 158)\" stroke-width=\"2\" opacity=\"0.7\"/><path aria-label=\"lost_mean: 0.79; profit_mean: 1773.413; S: 500\" role=\"graphics-symbol\" aria-roledescription=\"point\" transform=\"translate(0.7181818181818183,80.9668)\" d=\"M2.7386127875258306,0A2.7386127875258306,2.7386127875258306,0,1,1,-2.7386127875258306,0A2.7386127875258306,2.7386127875258306,0,1,1,2.7386127875258306,0\" stroke=\"rgb(189, 55, 133)\" stroke-width=\"2\" opacity=\"0.7\"/><path aria-label=\"lost_mean: 1.25; profit_mean: 1365.214; S: 600\" role=\"graphics-symbol\" aria-roledescription=\"point\" transform=\"translate(1.1363636363636365,95.8104)\" d=\"M2.7386127875258306,0A2.7386127875258306,2.7386127875258306,0,1,1,-2.7386127875258306,0A2.7386127875258306,2.7386127875258306,0,1,1,2.7386127875258306,0\" stroke=\"rgb(216, 87, 108)\" stroke-width=\"2\" opacity=\"0.7\"/><path aria-label=\"lost_mean: 0.72; profit_mean: 807.732; S: 700\" role=\"graphics-symbol\" aria-roledescription=\"point\" transform=\"translate(0.6545454545454545,116.08247272727272)\" d=\"M2.7386127875258306,0A2.7386127875258306,2.7386127875258306,0,1,1,-2.7386127875258306,0A2.7386127875258306,2.7386127875258306,0,1,1,2.7386127875258306,0\" stroke=\"rgb(237, 121, 83)\" stroke-width=\"2\" opacity=\"0.7\"/><path aria-label=\"lost_mean: 0.33; profit_mean: 690.907; S: 800\" role=\"graphics-symbol\" aria-roledescription=\"point\" transform=\"translate(0.3,120.33065454545455)\" d=\"M2.7386127875258306,0A2.7386127875258306,2.7386127875258306,0,1,1,-2.7386127875258306,0A2.7386127875258306,2.7386127875258306,0,1,1,2.7386127875258306,0\" stroke=\"rgb(251, 158, 59)\" stroke-width=\"2\" opacity=\"0.7\"/><path aria-label=\"lost_mean: 0.38; profit_mean: −141.55; S: 900\" role=\"graphics-symbol\" aria-roledescription=\"point\" transform=\"translate(0.34545454545454546,150.6018181818182)\" d=\"M2.7386127875258306,0A2.7386127875258306,2.7386127875258306,0,1,1,-2.7386127875258306,0A2.7386127875258306,2.7386127875258306,0,1,1,2.7386127875258306,0\" stroke=\"rgb(253, 201, 38)\" stroke-width=\"2\" opacity=\"0.7\"/><path aria-label=\"lost_mean: 0.52; profit_mean: −772.374; S: 1000\" role=\"graphics-symbol\" aria-roledescription=\"point\" transform=\"translate(0.4727272727272728,173.54087272727276)\" d=\"M2.7386127875258306,0A2.7386127875258306,2.7386127875258306,0,1,1,-2.7386127875258306,0A2.7386127875258306,2.7386127875258306,0,1,1,2.7386127875258306,0\" stroke=\"rgb(240, 249, 33)\" stroke-width=\"2\" opacity=\"0.7\"/><path aria-label=\"lost_mean: 1.5; profit_mean: 1663.152; S: 300\" role=\"graphics-symbol\" aria-roledescription=\"point\" transform=\"translate(1.3636363636363635,84.9762909090909)\" d=\"M2.7386127875258306,0A2.7386127875258306,2.7386127875258306,0,1,1,-2.7386127875258306,0A2.7386127875258306,2.7386127875258306,0,1,1,2.7386127875258306,0\" stroke=\"rgb(115, 1, 168)\" stroke-width=\"2\" opacity=\"0.7\"/><path aria-label=\"lost_mean: 0.7; profit_mean: 1930.973; S: 400\" role=\"graphics-symbol\" aria-roledescription=\"point\" transform=\"translate(0.6363636363636362,75.23734545454546)\" d=\"M2.7386127875258306,0A2.7386127875258306,2.7386127875258306,0,1,1,-2.7386127875258306,0A2.7386127875258306,2.7386127875258306,0,1,1,2.7386127875258306,0\" stroke=\"rgb(156, 23, 158)\" stroke-width=\"2\" opacity=\"0.7\"/><path aria-label=\"lost_mean: 1.65; profit_mean: 1677.326; S: 500\" role=\"graphics-symbol\" aria-roledescription=\"point\" transform=\"translate(1.5,84.46087272727272)\" d=\"M2.7386127875258306,0A2.7386127875258306,2.7386127875258306,0,1,1,-2.7386127875258306,0A2.7386127875258306,2.7386127875258306,0,1,1,2.7386127875258306,0\" stroke=\"rgb(189, 55, 133)\" stroke-width=\"2\" opacity=\"0.7\"/><path aria-label=\"lost_mean: 2.13; profit_mean: 1233.007; S: 600\" role=\"graphics-symbol\" aria-roledescription=\"point\" transform=\"translate(1.9363636363636365,100.61792727272729)\" d=\"M2.7386127875258306,0A2.7386127875258306,2.7386127875258306,0,1,1,-2.7386127875258306,0A2.7386127875258306,2.7386127875258306,0,1,1,2.7386127875258306,0\" stroke=\"rgb(216, 87, 108)\" stroke-width=\"2\" opacity=\"0.7\"/><path aria-label=\"lost_mean: 0.93; profit_mean: 808.23; S: 700\" role=\"graphics-symbol\" aria-roledescription=\"point\" transform=\"translate(0.8454545454545455,116.06436363636364)\" d=\"M2.7386127875258306,0A2.7386127875258306,2.7386127875258306,0,1,1,-2.7386127875258306,0A2.7386127875258306,2.7386127875258306,0,1,1,2.7386127875258306,0\" stroke=\"rgb(237, 121, 83)\" stroke-width=\"2\" opacity=\"0.7\"/><path aria-label=\"lost_mean: 0.1; profit_mean: 534.7; S: 800\" role=\"graphics-symbol\" aria-roledescription=\"point\" transform=\"translate(0.09090909090909091,126.01090909090908)\" d=\"M2.7386127875258306,0A2.7386127875258306,2.7386127875258306,0,1,1,-2.7386127875258306,0A2.7386127875258306,2.7386127875258306,0,1,1,2.7386127875258306,0\" stroke=\"rgb(251, 158, 59)\" stroke-width=\"2\" opacity=\"0.7\"/><path aria-label=\"lost_mean: 0.48; profit_mean: −243.113; S: 900\" role=\"graphics-symbol\" aria-roledescription=\"point\" transform=\"translate(0.4363636363636364,154.2950181818182)\" d=\"M2.7386127875258306,0A2.7386127875258306,2.7386127875258306,0,1,1,-2.7386127875258306,0A2.7386127875258306,2.7386127875258306,0,1,1,2.7386127875258306,0\" stroke=\"rgb(253, 201, 38)\" stroke-width=\"2\" opacity=\"0.7\"/><path aria-label=\"lost_mean: 1.32; profit_mean: −954.18; S: 1000\" role=\"graphics-symbol\" aria-roledescription=\"point\" transform=\"translate(1.2,180.152)\" d=\"M2.7386127875258306,0A2.7386127875258306,2.7386127875258306,0,1,1,-2.7386127875258306,0A2.7386127875258306,2.7386127875258306,0,1,1,2.7386127875258306,0\" stroke=\"rgb(240, 249, 33)\" stroke-width=\"2\" opacity=\"0.7\"/><path aria-label=\"lost_mean: 0.4; profit_mean: 1026.938; S: 300\" role=\"graphics-symbol\" aria-roledescription=\"point\" transform=\"translate(0.36363636363636365,108.11134545454544)\" d=\"M2.7386127875258306,0A2.7386127875258306,2.7386127875258306,0,1,1,-2.7386127875258306,0A2.7386127875258306,2.7386127875258306,0,1,1,2.7386127875258306,0\" stroke=\"rgb(115, 1, 168)\" stroke-width=\"2\" opacity=\"0.7\"/><path aria-label=\"lost_mean: 0.1; profit_mean: 1651.143; S: 400\" role=\"graphics-symbol\" aria-roledescription=\"point\" transform=\"translate(0.09090909090909091,85.41298181818182)\" d=\"M2.7386127875258306,0A2.7386127875258306,2.7386127875258306,0,1,1,-2.7386127875258306,0A2.7386127875258306,2.7386127875258306,0,1,1,2.7386127875258306,0\" stroke=\"rgb(156, 23, 158)\" stroke-width=\"2\" opacity=\"0.7\"/><path aria-label=\"lost_mean: 0.21; profit_mean: 1488.851; S: 500\" role=\"graphics-symbol\" aria-roledescription=\"point\" transform=\"translate(0.19090909090909092,91.3145090909091)\" d=\"M2.7386127875258306,0A2.7386127875258306,2.7386127875258306,0,1,1,-2.7386127875258306,0A2.7386127875258306,2.7386127875258306,0,1,1,2.7386127875258306,0\" stroke=\"rgb(189, 55, 133)\" stroke-width=\"2\" opacity=\"0.7\"/><path aria-label=\"lost_mean: 2.18; profit_mean: 1213.382; S: 600\" role=\"graphics-symbol\" aria-roledescription=\"point\" transform=\"translate(1.981818181818182,101.33156363636364)\" d=\"M2.7386127875258306,0A2.7386127875258306,2.7386127875258306,0,1,1,-2.7386127875258306,0A2.7386127875258306,2.7386127875258306,0,1,1,2.7386127875258306,0\" stroke=\"rgb(216, 87, 108)\" stroke-width=\"2\" opacity=\"0.7\"/><path aria-label=\"lost_mean: 1.76; profit_mean: 799.033; S: 700\" role=\"graphics-symbol\" aria-roledescription=\"point\" transform=\"translate(1.6,116.39880000000001)\" d=\"M2.7386127875258306,0A2.7386127875258306,2.7386127875258306,0,1,1,-2.7386127875258306,0A2.7386127875258306,2.7386127875258306,0,1,1,2.7386127875258306,0\" stroke=\"rgb(237, 121, 83)\" stroke-width=\"2\" opacity=\"0.7\"/><path aria-label=\"lost_mean: 0.03; profit_mean: 168.525; S: 800\" role=\"graphics-symbol\" aria-roledescription=\"point\" transform=\"translate(0.027272727272727275,139.32636363636362)\" d=\"M2.7386127875258306,0A2.7386127875258306,2.7386127875258306,0,1,1,-2.7386127875258306,0A2.7386127875258306,2.7386127875258306,0,1,1,2.7386127875258306,0\" stroke=\"rgb(251, 158, 59)\" stroke-width=\"2\" opacity=\"0.7\"/><path aria-label=\"lost_mean: 0.96; profit_mean: −275.165; S: 900\" role=\"graphics-symbol\" aria-roledescription=\"point\" transform=\"translate(0.8727272727272728,155.46054545454547)\" d=\"M2.7386127875258306,0A2.7386127875258306,2.7386127875258306,0,1,1,-2.7386127875258306,0A2.7386127875258306,2.7386127875258306,0,1,1,2.7386127875258306,0\" stroke=\"rgb(253, 201, 38)\" stroke-width=\"2\" opacity=\"0.7\"/><path aria-label=\"lost_mean: 0; profit_mean: −1019.128; S: 1000\" role=\"graphics-symbol\" aria-roledescription=\"point\" transform=\"translate(0,182.51374545454547)\" d=\"M2.7386127875258306,0A2.7386127875258306,2.7386127875258306,0,1,1,-2.7386127875258306,0A2.7386127875258306,2.7386127875258306,0,1,1,2.7386127875258306,0\" stroke=\"rgb(240, 249, 33)\" stroke-width=\"2\" opacity=\"0.7\"/></g><g class=\"mark-group role-legend\" role=\"graphics-symbol\" aria-roledescription=\"legend\" aria-label=\"Gradient legend titled 'S' for stroke color with values from 100 to 1,000\"><g transform=\"translate(218,0)\"><path class=\"background\" aria-hidden=\"true\" d=\"M0,0h45v216h-45Z\" pointer-events=\"none\"/><g><g class=\"mark-group role-legend-entry\"><g transform=\"translate(0,16)\"><path class=\"background\" aria-hidden=\"true\" d=\"M0,0h0v0h0Z\" pointer-events=\"none\"/><g><g class=\"mark-rect role-legend-gradient\" pointer-events=\"none\"><path d=\"M0,0h16v200h-16Z\" fill=\"url(#gradient_0)\" stroke=\"#ddd\" stroke-width=\"0\" opacity=\"0.7\"/></g><g class=\"mark-text role-legend-label\" pointer-events=\"none\"><text text-anchor=\"start\" transform=\"translate(18,180.77777777777777)\" font-family=\"sans-serif\" font-size=\"10px\" fill=\"#000\" opacity=\"1\">200</text><text text-anchor=\"start\" transform=\"translate(18,136.33333333333334)\" font-family=\"sans-serif\" font-size=\"10px\" fill=\"#000\" opacity=\"1\">400</text><text text-anchor=\"start\" transform=\"translate(18,91.88888888888889)\" font-family=\"sans-serif\" font-size=\"10px\" fill=\"#000\" opacity=\"1\">600</text><text text-anchor=\"start\" transform=\"translate(18,47.44444444444444)\" font-family=\"sans-serif\" font-size=\"10px\" fill=\"#000\" opacity=\"1\">800</text><text text-anchor=\"start\" transform=\"translate(18,8)\" font-family=\"sans-serif\" font-size=\"10px\" fill=\"#000\" opacity=\"1\">1,000</text></g></g><path class=\"foreground\" aria-hidden=\"true\" d=\"\" pointer-events=\"none\" display=\"none\"/></g></g><g class=\"mark-text role-legend-title\" pointer-events=\"none\"><text text-anchor=\"start\" transform=\"translate(0,9)\" font-family=\"sans-serif\" font-size=\"11px\" font-weight=\"bold\" fill=\"#000\" opacity=\"1\">S</text></g></g><path class=\"foreground\" aria-hidden=\"true\" d=\"\" pointer-events=\"none\" display=\"none\"/></g></g></g><path class=\"foreground\" aria-hidden=\"true\" d=\"\" display=\"none\"/></g></g></g><defs><linearGradient id=\"gradient_0\" x1=\"0\" x2=\"0\" y1=\"1\" y2=\"0\"><stop offset=\"0\" stop-color=\"rgb(13, 8, 135)\"/><stop offset=\"0.05555555555555555\" stop-color=\"rgb(46, 5, 149)\"/><stop offset=\"0.1111111111111111\" stop-color=\"rgb(71, 3, 159)\"/><stop offset=\"0.16666666666666666\" stop-color=\"rgb(93, 1, 166)\"/><stop offset=\"0.2222222222222222\" stop-color=\"rgb(115, 1, 168)\"/><stop offset=\"0.2777777777777778\" stop-color=\"rgb(136, 8, 166)\"/><stop offset=\"0.3333333333333333\" stop-color=\"rgb(156, 23, 158)\"/><stop offset=\"0.3888888888888889\" stop-color=\"rgb(174, 39, 147)\"/><stop offset=\"0.4444444444444444\" stop-color=\"rgb(189, 55, 133)\"/><stop offset=\"0.5\" stop-color=\"rgb(203, 71, 121)\"/><stop offset=\"0.5555555555555556\" stop-color=\"rgb(216, 87, 108)\"/><stop offset=\"0.6111111111111112\" stop-color=\"rgb(227, 103, 96)\"/><stop offset=\"0.6666666666666666\" stop-color=\"rgb(237, 121, 83)\"/><stop offset=\"0.7222222222222222\" stop-color=\"rgb(245, 139, 71)\"/><stop offset=\"0.7777777777777778\" stop-color=\"rgb(251, 158, 59)\"/><stop offset=\"0.8333333333333334\" stop-color=\"rgb(253, 179, 47)\"/><stop offset=\"0.8888888888888888\" stop-color=\"rgb(253, 201, 38)\"/><stop offset=\"0.9444444444444444\" stop-color=\"rgb(248, 225, 37)\"/><stop offset=\"1\" stop-color=\"rgb(240, 249, 33)\"/></linearGradient></defs></svg>\n"
      ],
      "text/plain": [
       "@vlplot(\n",
       "    mark=\"point\",\n",
       "    encoding={\n",
       "        x={\n",
       "            field=\"lost_mean\"\n",
       "        },\n",
       "        y={\n",
       "            field=\"profit_mean\"\n",
       "        },\n",
       "        color={\n",
       "            scale={\n",
       "                scheme=\"plasma\"\n",
       "            },\n",
       "            field=\"S\"\n",
       "        }\n",
       "    },\n",
       "    data={\n",
       "        values=...\n",
       "    }\n",
       ")"
      ]
     },
     "metadata": {},
     "output_type": "display_data"
    }
   ],
   "source": [
    "using VegaLite\n",
    "df |> @vlplot(:point, x=:lost_mean, y=:profit_mean, color={:S, scale={scheme=:plasma}})"
   ]
  },
  {
   "cell_type": "code",
   "execution_count": null,
   "metadata": {},
   "outputs": [],
   "source": []
  }
 ],
 "metadata": {
  "kernelspec": {
   "display_name": "Julia 1.8.5",
   "language": "julia",
   "name": "julia-1.8"
  },
  "language_info": {
   "file_extension": ".jl",
   "mimetype": "application/julia",
   "name": "julia",
   "version": "1.8.5"
  }
 },
 "nbformat": 4,
 "nbformat_minor": 2
}
