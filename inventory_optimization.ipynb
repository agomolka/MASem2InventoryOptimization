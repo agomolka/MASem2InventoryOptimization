{
 "cells": [
  {
   "cell_type": "code",
   "execution_count": 89,
   "metadata": {},
   "outputs": [],
   "source": [
    "# in the terminal, enter julia, then ] and the command, e.g. add DataFrames\n",
    "using Random, Distributions, Statistics, DataFrames \n",
    "using Random\n",
    "using Distributions\n",
    "using Statistics"
   ]
  },
  {
   "cell_type": "code",
   "execution_count": 49,
   "metadata": {},
   "outputs": [
    {
     "data": {
      "text/plain": [
       "0.0"
      ]
     },
     "execution_count": 49,
     "metadata": {},
     "output_type": "execute_result"
    }
   ],
   "source": [
    "# We can change these variables or use it as follows\n",
    "h = 0.1 #storage cost\n",
    "c = 2.0 #unit profit\n",
    "p = 0.50 #probability of delivery\n",
    "K = 40 # fixed order cost\n",
    "k = 1.0 # variable order cost\n",
    "\n",
    "average_demand = 20\n",
    "\n",
    "s = 30 # we will use such s that provide profit sharing\n",
    "S = 50 \n",
    "\n",
    "X = 100  # the beginning of the first day of the simulation\n",
    "profit = 0.0 "
   ]
  },
  {
   "cell_type": "code",
   "execution_count": 50,
   "metadata": {},
   "outputs": [
    {
     "data": {
      "text/plain": [
       "Poisson{Float64}(λ=20.0)"
      ]
     },
     "execution_count": 50,
     "metadata": {},
     "output_type": "execute_result"
    }
   ],
   "source": [
    "pois = Distributions.Poisson(average_demand)\n",
    "#the disadvantage of Poisson distribution is low variance, in reality the demand is more chaotic\n",
    "#you can choose a different distribution to make it real, e.g. normal...."
   ]
  },
  {
   "cell_type": "code",
   "execution_count": 51,
   "metadata": {},
   "outputs": [
    {
     "data": {
      "text/plain": [
       "5-element Vector{Int64}:\n",
       " 15\n",
       " 19\n",
       " 30\n",
       " 14\n",
       " 21"
      ]
     },
     "execution_count": 51,
     "metadata": {},
     "output_type": "execute_result"
    }
   ],
   "source": [
    "rand(pois, 5)"
   ]
  },
  {
   "cell_type": "code",
   "execution_count": 52,
   "metadata": {},
   "outputs": [
    {
     "data": {
      "text/plain": [
       "simulateOneRun (generic function with 1 method)"
      ]
     },
     "execution_count": 52,
     "metadata": {},
     "output_type": "execute_result"
    }
   ],
   "source": [
    "# m - number of days\n",
    "# s - reorder point\n",
    "# S - target warehouse volume\n",
    "## we're going to iterate over these functions over s, S, and 'm' - is the number of days\n",
    "function simulateOneRun(m, s, S;\n",
    "    h = 0.1, #storage cost\n",
    "    c = 4.0, #unit profit\n",
    "    p = 0.50, #probability of delivery\n",
    "    K = 100, # fixed order cost\n",
    "    k = 1.0, # variable order cost\n",
    "    init_S = 100, #initial warehouse level\n",
    "    average_demand = 20)\n",
    "    Xⱼ = init_S\n",
    "    local Yj\n",
    "    profit = 0.0\n",
    "    lost_orders = 0.0\n",
    "    warehouse_levels = Int[]\n",
    "    pois = Distributions.Poisson(average_demand)\n",
    "    for day in 1:m\n",
    "        if Xⱼ < s  # reorder point\n",
    "            if rand() < p\n",
    "                profit -= K + (S-Xⱼ)*k\n",
    "                Xⱼ = S\n",
    "            end\n",
    "        end\n",
    "        push!(warehouse_levels, Xⱼ)\n",
    "        demand = rand(pois)\n",
    "        sales = min(Xⱼ, demand)\n",
    "        Xⱼ -= sales\n",
    "        @assert Xⱼ >= 0\n",
    "        lost_order = demand - sales # failed to provide\n",
    "        @assert lost_order >= 0 \n",
    "        profit += sales*c - (Xⱼ-sales)*h  # storage costs\n",
    "        lost_orders += lost_order\n",
    "        # can add one_objective = 0.75 * profit + 0.01 * lost_orders\n",
    "         ## or you can multiply by the 'unit cost of stockout' parameter/ k_unit_stockout\n",
    "         ## k_unit_stockout = k_jedn_stockout\n",
    "         ## one_objective = 0.75 * profit + 0.01 *lost_orders * k_unit_stockout\n",
    "    end\n",
    "    \n",
    "    (profit=profit, lost_orders=lost_orders,\n",
    "        warehouse_levels=warehouse_levels)\n",
    "    ## then ....(profit=profit, lost_orders=lost_orders,\n",
    "    ##    warehouse_levels=warehouse_levels, one_objective=one_objective)\n",
    "    \n",
    "end"
   ]
  },
  {
   "cell_type": "code",
   "execution_count": 53,
   "metadata": {},
   "outputs": [
    {
     "data": {
      "text/plain": [
       "(profit = 769.6, lost_orders = 14.0, warehouse_levels = [100, 83, 62, 45, 25, 4, 200, 175, 158, 138, 114, 86, 70, 52, 35, 25, 200, 178, 161, 143])"
      ]
     },
     "execution_count": 53,
     "metadata": {},
     "output_type": "execute_result"
    }
   ],
   "source": [
    "res = simulateOneRun(20,20,200)\n",
    "## exemplary execution of the function\n",
    "## how the warehouse warehouse_levels developed every day - we look at the state of the warehouse and its deliveries\n",
    "## it may not be '200' here -> possible error"
   ]
  },
  {
   "cell_type": "code",
   "execution_count": 54,
   "metadata": {},
   "outputs": [
    {
     "name": "stdout",
     "output_type": "stream",
     "text": [
      "Day 1: 100\n",
      "Day 2: 86\n",
      "Day 3: 62\n",
      "Day 4: 35\n",
      "Day 5: 18\n",
      "Day 6: 6\n",
      "Day 7: 0\n",
      "Day 8: 200\n",
      "Day 9: 177\n",
      "Day 10: 165\n",
      "Day 11: 147\n",
      "Day 12: 120\n",
      "Day 13: 110\n",
      "Day 14: 88\n",
      "Day 15: 73\n",
      "Day 16: 58\n",
      "Day 17: 39\n",
      "Day 18: 26\n",
      "Day 19: 10\n",
      "Day 20: 200\n"
     ]
    }
   ],
   "source": [
    "res = simulateOneRun(20, 20, 200)\n",
    "for (day, level) in enumerate(res.warehouse_levels)\n",
    "    println(\"Day $day: $level\")\n",
    "end"
   ]
  },
  {
   "cell_type": "code",
   "execution_count": 55,
   "metadata": {},
   "outputs": [
    {
     "name": "stdout",
     "output_type": "stream",
     "text": [
      "res.profit = 576.2000000000003\n",
      "res.lost_orders = 43.0\n",
      "res.warehouse_levels = [100, 86, 62, 35, 18, 6, 0, 200, 177, 165, 147, 120, 110, 88, 73, 58, 39, 26, 10, 200]\n"
     ]
    }
   ],
   "source": [
    "@show res.profit\n",
    "@show res.lost_orders\n",
    "@show res.warehouse_levels;"
   ]
  },
  {
   "cell_type": "code",
   "execution_count": 56,
   "metadata": {},
   "outputs": [
    {
     "data": {
      "image/svg+xml": [
       "<?xml version=\"1.0\" encoding=\"utf-8\"?>\n",
       "<svg xmlns=\"http://www.w3.org/2000/svg\" xmlns:xlink=\"http://www.w3.org/1999/xlink\" width=\"600\" height=\"400\" viewBox=\"0 0 2400 1600\">\n",
       "<defs>\n",
       "  <clipPath id=\"clip190\">\n",
       "    <rect x=\"0\" y=\"0\" width=\"2400\" height=\"1600\"/>\n",
       "  </clipPath>\n",
       "</defs>\n",
       "<path clip-path=\"url(#clip190)\" d=\"M0 1600 L2400 1600 L2400 0 L0 0  Z\" fill=\"#ffffff\" fill-rule=\"evenodd\" fill-opacity=\"1\"/>\n",
       "<defs>\n",
       "  <clipPath id=\"clip191\">\n",
       "    <rect x=\"480\" y=\"0\" width=\"1681\" height=\"1600\"/>\n",
       "  </clipPath>\n",
       "</defs>\n",
       "<path clip-path=\"url(#clip190)\" d=\"M170.857 1486.45 L2352.76 1486.45 L2352.76 47.2441 L170.857 47.2441  Z\" fill=\"#ffffff\" fill-rule=\"evenodd\" fill-opacity=\"1\"/>\n",
       "<defs>\n",
       "  <clipPath id=\"clip192\">\n",
       "    <rect x=\"170\" y=\"47\" width=\"2183\" height=\"1440\"/>\n",
       "  </clipPath>\n",
       "</defs>\n",
       "<polyline clip-path=\"url(#clip192)\" style=\"stroke:#000000; stroke-linecap:round; stroke-linejoin:round; stroke-width:2; stroke-opacity:0.1; fill:none\" points=\"516.526,1486.45 516.526,47.2441 \"/>\n",
       "<polyline clip-path=\"url(#clip192)\" style=\"stroke:#000000; stroke-linecap:round; stroke-linejoin:round; stroke-width:2; stroke-opacity:0.1; fill:none\" points=\"871.421,1486.45 871.421,47.2441 \"/>\n",
       "<polyline clip-path=\"url(#clip192)\" style=\"stroke:#000000; stroke-linecap:round; stroke-linejoin:round; stroke-width:2; stroke-opacity:0.1; fill:none\" points=\"1226.32,1486.45 1226.32,47.2441 \"/>\n",
       "<polyline clip-path=\"url(#clip192)\" style=\"stroke:#000000; stroke-linecap:round; stroke-linejoin:round; stroke-width:2; stroke-opacity:0.1; fill:none\" points=\"1581.21,1486.45 1581.21,47.2441 \"/>\n",
       "<polyline clip-path=\"url(#clip192)\" style=\"stroke:#000000; stroke-linecap:round; stroke-linejoin:round; stroke-width:2; stroke-opacity:0.1; fill:none\" points=\"1936.11,1486.45 1936.11,47.2441 \"/>\n",
       "<polyline clip-path=\"url(#clip192)\" style=\"stroke:#000000; stroke-linecap:round; stroke-linejoin:round; stroke-width:2; stroke-opacity:0.1; fill:none\" points=\"2291,1486.45 2291,47.2441 \"/>\n",
       "<polyline clip-path=\"url(#clip190)\" style=\"stroke:#000000; stroke-linecap:round; stroke-linejoin:round; stroke-width:4; stroke-opacity:1; fill:none\" points=\"170.857,1486.45 2352.76,1486.45 \"/>\n",
       "<polyline clip-path=\"url(#clip190)\" style=\"stroke:#000000; stroke-linecap:round; stroke-linejoin:round; stroke-width:4; stroke-opacity:1; fill:none\" points=\"516.526,1486.45 516.526,1467.55 \"/>\n",
       "<polyline clip-path=\"url(#clip190)\" style=\"stroke:#000000; stroke-linecap:round; stroke-linejoin:round; stroke-width:4; stroke-opacity:1; fill:none\" points=\"871.421,1486.45 871.421,1467.55 \"/>\n",
       "<polyline clip-path=\"url(#clip190)\" style=\"stroke:#000000; stroke-linecap:round; stroke-linejoin:round; stroke-width:4; stroke-opacity:1; fill:none\" points=\"1226.32,1486.45 1226.32,1467.55 \"/>\n",
       "<polyline clip-path=\"url(#clip190)\" style=\"stroke:#000000; stroke-linecap:round; stroke-linejoin:round; stroke-width:4; stroke-opacity:1; fill:none\" points=\"1581.21,1486.45 1581.21,1467.55 \"/>\n",
       "<polyline clip-path=\"url(#clip190)\" style=\"stroke:#000000; stroke-linecap:round; stroke-linejoin:round; stroke-width:4; stroke-opacity:1; fill:none\" points=\"1936.11,1486.45 1936.11,1467.55 \"/>\n",
       "<polyline clip-path=\"url(#clip190)\" style=\"stroke:#000000; stroke-linecap:round; stroke-linejoin:round; stroke-width:4; stroke-opacity:1; fill:none\" points=\"2291,1486.45 2291,1467.55 \"/>\n",
       "<path clip-path=\"url(#clip190)\" d=\"M506.804 1514.29 L525.16 1514.29 L525.16 1518.22 L511.086 1518.22 L511.086 1526.7 Q512.105 1526.35 513.123 1526.19 Q514.142 1526 515.16 1526 Q520.947 1526 524.327 1529.17 Q527.706 1532.34 527.706 1537.76 Q527.706 1543.34 524.234 1546.44 Q520.762 1549.52 514.442 1549.52 Q512.267 1549.52 509.998 1549.15 Q507.753 1548.78 505.345 1548.04 L505.345 1543.34 Q507.429 1544.47 509.651 1545.03 Q511.873 1545.58 514.35 1545.58 Q518.354 1545.58 520.692 1543.48 Q523.03 1541.37 523.03 1537.76 Q523.03 1534.15 520.692 1532.04 Q518.354 1529.94 514.35 1529.94 Q512.475 1529.94 510.6 1530.35 Q508.748 1530.77 506.804 1531.65 L506.804 1514.29 Z\" fill=\"#000000\" fill-rule=\"evenodd\" fill-opacity=\"1\" /><path clip-path=\"url(#clip190)\" d=\"M846.109 1544.91 L853.748 1544.91 L853.748 1518.55 L845.438 1520.21 L845.438 1515.95 L853.702 1514.29 L858.378 1514.29 L858.378 1544.91 L866.016 1544.91 L866.016 1548.85 L846.109 1548.85 L846.109 1544.91 Z\" fill=\"#000000\" fill-rule=\"evenodd\" fill-opacity=\"1\" /><path clip-path=\"url(#clip190)\" d=\"M885.461 1517.37 Q881.85 1517.37 880.021 1520.93 Q878.215 1524.47 878.215 1531.6 Q878.215 1538.71 880.021 1542.27 Q881.85 1545.82 885.461 1545.82 Q889.095 1545.82 890.901 1542.27 Q892.729 1538.71 892.729 1531.6 Q892.729 1524.47 890.901 1520.93 Q889.095 1517.37 885.461 1517.37 M885.461 1513.66 Q891.271 1513.66 894.326 1518.27 Q897.405 1522.85 897.405 1531.6 Q897.405 1540.33 894.326 1544.94 Q891.271 1549.52 885.461 1549.52 Q879.651 1549.52 876.572 1544.94 Q873.516 1540.33 873.516 1531.6 Q873.516 1522.85 876.572 1518.27 Q879.651 1513.66 885.461 1513.66 Z\" fill=\"#000000\" fill-rule=\"evenodd\" fill-opacity=\"1\" /><path clip-path=\"url(#clip190)\" d=\"M1201.5 1544.91 L1209.14 1544.91 L1209.14 1518.55 L1200.83 1520.21 L1200.83 1515.95 L1209.09 1514.29 L1213.77 1514.29 L1213.77 1544.91 L1221.41 1544.91 L1221.41 1548.85 L1201.5 1548.85 L1201.5 1544.91 Z\" fill=\"#000000\" fill-rule=\"evenodd\" fill-opacity=\"1\" /><path clip-path=\"url(#clip190)\" d=\"M1230.9 1514.29 L1249.26 1514.29 L1249.26 1518.22 L1235.18 1518.22 L1235.18 1526.7 Q1236.2 1526.35 1237.22 1526.19 Q1238.24 1526 1239.26 1526 Q1245.04 1526 1248.42 1529.17 Q1251.8 1532.34 1251.8 1537.76 Q1251.8 1543.34 1248.33 1546.44 Q1244.86 1549.52 1238.54 1549.52 Q1236.36 1549.52 1234.09 1549.15 Q1231.85 1548.78 1229.44 1548.04 L1229.44 1543.34 Q1231.53 1544.47 1233.75 1545.03 Q1235.97 1545.58 1238.45 1545.58 Q1242.45 1545.58 1244.79 1543.48 Q1247.13 1541.37 1247.13 1537.76 Q1247.13 1534.15 1244.79 1532.04 Q1242.45 1529.94 1238.45 1529.94 Q1236.57 1529.94 1234.7 1530.35 Q1232.84 1530.77 1230.9 1531.65 L1230.9 1514.29 Z\" fill=\"#000000\" fill-rule=\"evenodd\" fill-opacity=\"1\" /><path clip-path=\"url(#clip190)\" d=\"M1559.99 1544.91 L1576.31 1544.91 L1576.31 1548.85 L1554.36 1548.85 L1554.36 1544.91 Q1557.02 1542.16 1561.61 1537.53 Q1566.21 1532.88 1567.39 1531.53 Q1569.64 1529.01 1570.52 1527.27 Q1571.42 1525.51 1571.42 1523.82 Q1571.42 1521.07 1569.48 1519.33 Q1567.56 1517.6 1564.45 1517.6 Q1562.25 1517.6 1559.8 1518.36 Q1557.37 1519.13 1554.59 1520.68 L1554.59 1515.95 Q1557.42 1514.82 1559.87 1514.24 Q1562.32 1513.66 1564.36 1513.66 Q1569.73 1513.66 1572.93 1516.35 Q1576.12 1519.03 1576.12 1523.52 Q1576.12 1525.65 1575.31 1527.57 Q1574.52 1529.47 1572.42 1532.07 Q1571.84 1532.74 1568.74 1535.95 Q1565.63 1539.15 1559.99 1544.91 Z\" fill=\"#000000\" fill-rule=\"evenodd\" fill-opacity=\"1\" /><path clip-path=\"url(#clip190)\" d=\"M1596.12 1517.37 Q1592.51 1517.37 1590.68 1520.93 Q1588.87 1524.47 1588.87 1531.6 Q1588.87 1538.71 1590.68 1542.27 Q1592.51 1545.82 1596.12 1545.82 Q1599.75 1545.82 1601.56 1542.27 Q1603.39 1538.71 1603.39 1531.6 Q1603.39 1524.47 1601.56 1520.93 Q1599.75 1517.37 1596.12 1517.37 M1596.12 1513.66 Q1601.93 1513.66 1604.99 1518.27 Q1608.06 1522.85 1608.06 1531.6 Q1608.06 1540.33 1604.99 1544.94 Q1601.93 1549.52 1596.12 1549.52 Q1590.31 1549.52 1587.23 1544.94 Q1584.18 1540.33 1584.18 1531.6 Q1584.18 1522.85 1587.23 1518.27 Q1590.31 1513.66 1596.12 1513.66 Z\" fill=\"#000000\" fill-rule=\"evenodd\" fill-opacity=\"1\" /><path clip-path=\"url(#clip190)\" d=\"M1915.38 1544.91 L1931.7 1544.91 L1931.7 1548.85 L1909.75 1548.85 L1909.75 1544.91 Q1912.42 1542.16 1917 1537.53 Q1921.61 1532.88 1922.79 1531.53 Q1925.03 1529.01 1925.91 1527.27 Q1926.81 1525.51 1926.81 1523.82 Q1926.81 1521.07 1924.87 1519.33 Q1922.95 1517.6 1919.85 1517.6 Q1917.65 1517.6 1915.19 1518.36 Q1912.76 1519.13 1909.99 1520.68 L1909.99 1515.95 Q1912.81 1514.82 1915.26 1514.24 Q1917.72 1513.66 1919.75 1513.66 Q1925.12 1513.66 1928.32 1516.35 Q1931.51 1519.03 1931.51 1523.52 Q1931.51 1525.65 1930.7 1527.57 Q1929.92 1529.47 1927.81 1532.07 Q1927.23 1532.74 1924.13 1535.95 Q1921.03 1539.15 1915.38 1544.91 Z\" fill=\"#000000\" fill-rule=\"evenodd\" fill-opacity=\"1\" /><path clip-path=\"url(#clip190)\" d=\"M1941.56 1514.29 L1959.92 1514.29 L1959.92 1518.22 L1945.84 1518.22 L1945.84 1526.7 Q1946.86 1526.35 1947.88 1526.19 Q1948.9 1526 1949.92 1526 Q1955.7 1526 1959.08 1529.17 Q1962.46 1532.34 1962.46 1537.76 Q1962.46 1543.34 1958.99 1546.44 Q1955.52 1549.52 1949.2 1549.52 Q1947.02 1549.52 1944.75 1549.15 Q1942.51 1548.78 1940.1 1548.04 L1940.1 1543.34 Q1942.18 1544.47 1944.41 1545.03 Q1946.63 1545.58 1949.11 1545.58 Q1953.11 1545.58 1955.45 1543.48 Q1957.79 1541.37 1957.79 1537.76 Q1957.79 1534.15 1955.45 1532.04 Q1953.11 1529.94 1949.11 1529.94 Q1947.23 1529.94 1945.36 1530.35 Q1943.5 1530.77 1941.56 1531.65 L1941.56 1514.29 Z\" fill=\"#000000\" fill-rule=\"evenodd\" fill-opacity=\"1\" /><path clip-path=\"url(#clip190)\" d=\"M2279.85 1530.21 Q2283.2 1530.93 2285.08 1533.2 Q2286.98 1535.47 2286.98 1538.8 Q2286.98 1543.92 2283.46 1546.72 Q2279.94 1549.52 2273.46 1549.52 Q2271.28 1549.52 2268.97 1549.08 Q2266.68 1548.66 2264.22 1547.81 L2264.22 1543.29 Q2266.17 1544.43 2268.48 1545.01 Q2270.8 1545.58 2273.32 1545.58 Q2277.72 1545.58 2280.01 1543.85 Q2282.32 1542.11 2282.32 1538.8 Q2282.32 1535.75 2280.17 1534.03 Q2278.04 1532.3 2274.22 1532.3 L2270.19 1532.3 L2270.19 1528.45 L2274.41 1528.45 Q2277.86 1528.45 2279.68 1527.09 Q2281.51 1525.7 2281.51 1523.11 Q2281.51 1520.45 2279.62 1519.03 Q2277.74 1517.6 2274.22 1517.6 Q2272.3 1517.6 2270.1 1518.01 Q2267.9 1518.43 2265.26 1519.31 L2265.26 1515.14 Q2267.93 1514.4 2270.24 1514.03 Q2272.58 1513.66 2274.64 1513.66 Q2279.96 1513.66 2283.06 1516.09 Q2286.17 1518.5 2286.17 1522.62 Q2286.17 1525.49 2284.52 1527.48 Q2282.88 1529.45 2279.85 1530.21 Z\" fill=\"#000000\" fill-rule=\"evenodd\" fill-opacity=\"1\" /><path clip-path=\"url(#clip190)\" d=\"M2305.84 1517.37 Q2302.23 1517.37 2300.4 1520.93 Q2298.6 1524.47 2298.6 1531.6 Q2298.6 1538.71 2300.4 1542.27 Q2302.23 1545.82 2305.84 1545.82 Q2309.48 1545.82 2311.28 1542.27 Q2313.11 1538.71 2313.11 1531.6 Q2313.11 1524.47 2311.28 1520.93 Q2309.48 1517.37 2305.84 1517.37 M2305.84 1513.66 Q2311.65 1513.66 2314.71 1518.27 Q2317.79 1522.85 2317.79 1531.6 Q2317.79 1540.33 2314.71 1544.94 Q2311.65 1549.52 2305.84 1549.52 Q2300.03 1549.52 2296.95 1544.94 Q2293.9 1540.33 2293.9 1531.6 Q2293.9 1522.85 2296.95 1518.27 Q2300.03 1513.66 2305.84 1513.66 Z\" fill=\"#000000\" fill-rule=\"evenodd\" fill-opacity=\"1\" /><polyline clip-path=\"url(#clip192)\" style=\"stroke:#000000; stroke-linecap:round; stroke-linejoin:round; stroke-width:2; stroke-opacity:0.1; fill:none\" points=\"170.857,1225.75 2352.76,1225.75 \"/>\n",
       "<polyline clip-path=\"url(#clip192)\" style=\"stroke:#000000; stroke-linecap:round; stroke-linejoin:round; stroke-width:2; stroke-opacity:0.1; fill:none\" points=\"170.857,846.49 2352.76,846.49 \"/>\n",
       "<polyline clip-path=\"url(#clip192)\" style=\"stroke:#000000; stroke-linecap:round; stroke-linejoin:round; stroke-width:2; stroke-opacity:0.1; fill:none\" points=\"170.857,467.233 2352.76,467.233 \"/>\n",
       "<polyline clip-path=\"url(#clip192)\" style=\"stroke:#000000; stroke-linecap:round; stroke-linejoin:round; stroke-width:2; stroke-opacity:0.1; fill:none\" points=\"170.857,87.9763 2352.76,87.9763 \"/>\n",
       "<polyline clip-path=\"url(#clip190)\" style=\"stroke:#000000; stroke-linecap:round; stroke-linejoin:round; stroke-width:4; stroke-opacity:1; fill:none\" points=\"170.857,1486.45 170.857,47.2441 \"/>\n",
       "<polyline clip-path=\"url(#clip190)\" style=\"stroke:#000000; stroke-linecap:round; stroke-linejoin:round; stroke-width:4; stroke-opacity:1; fill:none\" points=\"170.857,1225.75 189.755,1225.75 \"/>\n",
       "<polyline clip-path=\"url(#clip190)\" style=\"stroke:#000000; stroke-linecap:round; stroke-linejoin:round; stroke-width:4; stroke-opacity:1; fill:none\" points=\"170.857,846.49 189.755,846.49 \"/>\n",
       "<polyline clip-path=\"url(#clip190)\" style=\"stroke:#000000; stroke-linecap:round; stroke-linejoin:round; stroke-width:4; stroke-opacity:1; fill:none\" points=\"170.857,467.233 189.755,467.233 \"/>\n",
       "<polyline clip-path=\"url(#clip190)\" style=\"stroke:#000000; stroke-linecap:round; stroke-linejoin:round; stroke-width:4; stroke-opacity:1; fill:none\" points=\"170.857,87.9763 189.755,87.9763 \"/>\n",
       "<path clip-path=\"url(#clip190)\" d=\"M82.7975 1208.47 L101.154 1208.47 L101.154 1212.4 L87.0799 1212.4 L87.0799 1220.87 Q88.0984 1220.53 89.1169 1220.36 Q90.1354 1220.18 91.1539 1220.18 Q96.941 1220.18 100.321 1223.35 Q103.7 1226.52 103.7 1231.94 Q103.7 1237.52 100.228 1240.62 Q96.7558 1243.7 90.4364 1243.7 Q88.2604 1243.7 85.9919 1243.33 Q83.7466 1242.96 81.3392 1242.22 L81.3392 1237.52 Q83.4225 1238.65 85.6447 1239.21 Q87.8669 1239.76 90.3438 1239.76 Q94.3484 1239.76 96.6863 1237.66 Q99.0243 1235.55 99.0243 1231.94 Q99.0243 1228.33 96.6863 1226.22 Q94.3484 1224.11 90.3438 1224.11 Q88.4688 1224.11 86.5938 1224.53 Q84.7419 1224.95 82.7975 1225.83 L82.7975 1208.47 Z\" fill=\"#000000\" fill-rule=\"evenodd\" fill-opacity=\"1\" /><path clip-path=\"url(#clip190)\" d=\"M122.913 1211.55 Q119.302 1211.55 117.473 1215.11 Q115.668 1218.65 115.668 1225.78 Q115.668 1232.89 117.473 1236.45 Q119.302 1239.99 122.913 1239.99 Q126.547 1239.99 128.353 1236.45 Q130.182 1232.89 130.182 1225.78 Q130.182 1218.65 128.353 1215.11 Q126.547 1211.55 122.913 1211.55 M122.913 1207.84 Q128.723 1207.84 131.779 1212.45 Q134.857 1217.03 134.857 1225.78 Q134.857 1234.51 131.779 1239.11 Q128.723 1243.7 122.913 1243.7 Q117.103 1243.7 114.024 1239.11 Q110.969 1234.51 110.969 1225.78 Q110.969 1217.03 114.024 1212.45 Q117.103 1207.84 122.913 1207.84 Z\" fill=\"#000000\" fill-rule=\"evenodd\" fill-opacity=\"1\" /><path clip-path=\"url(#clip190)\" d=\"M53.3995 859.835 L61.0384 859.835 L61.0384 833.469 L52.7282 835.136 L52.7282 830.877 L60.9921 829.21 L65.668 829.21 L65.668 859.835 L73.3068 859.835 L73.3068 863.77 L53.3995 863.77 L53.3995 859.835 Z\" fill=\"#000000\" fill-rule=\"evenodd\" fill-opacity=\"1\" /><path clip-path=\"url(#clip190)\" d=\"M92.7512 832.289 Q89.1401 832.289 87.3114 835.853 Q85.5058 839.395 85.5058 846.525 Q85.5058 853.631 87.3114 857.196 Q89.1401 860.738 92.7512 860.738 Q96.3854 860.738 98.1909 857.196 Q100.02 853.631 100.02 846.525 Q100.02 839.395 98.1909 835.853 Q96.3854 832.289 92.7512 832.289 M92.7512 828.585 Q98.5613 828.585 101.617 833.191 Q104.696 837.775 104.696 846.525 Q104.696 855.251 101.617 859.858 Q98.5613 864.441 92.7512 864.441 Q86.941 864.441 83.8623 859.858 Q80.8068 855.251 80.8068 846.525 Q80.8068 837.775 83.8623 833.191 Q86.941 828.585 92.7512 828.585 Z\" fill=\"#000000\" fill-rule=\"evenodd\" fill-opacity=\"1\" /><path clip-path=\"url(#clip190)\" d=\"M122.913 832.289 Q119.302 832.289 117.473 835.853 Q115.668 839.395 115.668 846.525 Q115.668 853.631 117.473 857.196 Q119.302 860.738 122.913 860.738 Q126.547 860.738 128.353 857.196 Q130.182 853.631 130.182 846.525 Q130.182 839.395 128.353 835.853 Q126.547 832.289 122.913 832.289 M122.913 828.585 Q128.723 828.585 131.779 833.191 Q134.857 837.775 134.857 846.525 Q134.857 855.251 131.779 859.858 Q128.723 864.441 122.913 864.441 Q117.103 864.441 114.024 859.858 Q110.969 855.251 110.969 846.525 Q110.969 837.775 114.024 833.191 Q117.103 828.585 122.913 828.585 Z\" fill=\"#000000\" fill-rule=\"evenodd\" fill-opacity=\"1\" /><path clip-path=\"url(#clip190)\" d=\"M53.3995 480.578 L61.0384 480.578 L61.0384 454.212 L52.7282 455.879 L52.7282 451.62 L60.9921 449.953 L65.668 449.953 L65.668 480.578 L73.3068 480.578 L73.3068 484.513 L53.3995 484.513 L53.3995 480.578 Z\" fill=\"#000000\" fill-rule=\"evenodd\" fill-opacity=\"1\" /><path clip-path=\"url(#clip190)\" d=\"M82.7975 449.953 L101.154 449.953 L101.154 453.888 L87.0799 453.888 L87.0799 462.36 Q88.0984 462.013 89.1169 461.851 Q90.1354 461.666 91.1539 461.666 Q96.941 461.666 100.321 464.837 Q103.7 468.009 103.7 473.425 Q103.7 479.004 100.228 482.106 Q96.7558 485.184 90.4364 485.184 Q88.2604 485.184 85.9919 484.814 Q83.7466 484.444 81.3392 483.703 L81.3392 479.004 Q83.4225 480.138 85.6447 480.694 Q87.8669 481.249 90.3438 481.249 Q94.3484 481.249 96.6863 479.143 Q99.0243 477.036 99.0243 473.425 Q99.0243 469.814 96.6863 467.708 Q94.3484 465.601 90.3438 465.601 Q88.4688 465.601 86.5938 466.018 Q84.7419 466.434 82.7975 467.314 L82.7975 449.953 Z\" fill=\"#000000\" fill-rule=\"evenodd\" fill-opacity=\"1\" /><path clip-path=\"url(#clip190)\" d=\"M122.913 453.032 Q119.302 453.032 117.473 456.597 Q115.668 460.138 115.668 467.268 Q115.668 474.374 117.473 477.939 Q119.302 481.481 122.913 481.481 Q126.547 481.481 128.353 477.939 Q130.182 474.374 130.182 467.268 Q130.182 460.138 128.353 456.597 Q126.547 453.032 122.913 453.032 M122.913 449.328 Q128.723 449.328 131.779 453.935 Q134.857 458.518 134.857 467.268 Q134.857 475.995 131.779 480.601 Q128.723 485.184 122.913 485.184 Q117.103 485.184 114.024 480.601 Q110.969 475.995 110.969 467.268 Q110.969 458.518 114.024 453.935 Q117.103 449.328 122.913 449.328 Z\" fill=\"#000000\" fill-rule=\"evenodd\" fill-opacity=\"1\" /><path clip-path=\"url(#clip190)\" d=\"M56.6171 101.321 L72.9365 101.321 L72.9365 105.256 L50.9921 105.256 L50.9921 101.321 Q53.6541 98.5665 58.2375 93.9369 Q62.8439 89.2841 64.0245 87.9416 Q66.2698 85.4184 67.1494 83.6823 Q68.0522 81.9231 68.0522 80.2333 Q68.0522 77.4786 66.1078 75.7425 Q64.1865 74.0064 61.0847 74.0064 Q58.8856 74.0064 56.4319 74.7703 Q54.0014 75.5342 51.2236 77.0851 L51.2236 72.3629 Q54.0477 71.2287 56.5014 70.65 Q58.955 70.0713 60.9921 70.0713 Q66.3624 70.0713 69.5568 72.7565 Q72.7513 75.4416 72.7513 79.9323 Q72.7513 82.062 71.9411 83.9832 Q71.1541 85.8814 69.0476 88.474 Q68.4689 89.1453 65.367 92.3628 Q62.2652 95.5573 56.6171 101.321 Z\" fill=\"#000000\" fill-rule=\"evenodd\" fill-opacity=\"1\" /><path clip-path=\"url(#clip190)\" d=\"M92.7512 73.775 Q89.1401 73.775 87.3114 77.3398 Q85.5058 80.8814 85.5058 88.011 Q85.5058 95.1174 87.3114 98.6822 Q89.1401 102.224 92.7512 102.224 Q96.3854 102.224 98.1909 98.6822 Q100.02 95.1174 100.02 88.011 Q100.02 80.8814 98.1909 77.3398 Q96.3854 73.775 92.7512 73.775 M92.7512 70.0713 Q98.5613 70.0713 101.617 74.6777 Q104.696 79.261 104.696 88.011 Q104.696 96.7378 101.617 101.344 Q98.5613 105.928 92.7512 105.928 Q86.941 105.928 83.8623 101.344 Q80.8068 96.7378 80.8068 88.011 Q80.8068 79.261 83.8623 74.6777 Q86.941 70.0713 92.7512 70.0713 Z\" fill=\"#000000\" fill-rule=\"evenodd\" fill-opacity=\"1\" /><path clip-path=\"url(#clip190)\" d=\"M122.913 73.775 Q119.302 73.775 117.473 77.3398 Q115.668 80.8814 115.668 88.011 Q115.668 95.1174 117.473 98.6822 Q119.302 102.224 122.913 102.224 Q126.547 102.224 128.353 98.6822 Q130.182 95.1174 130.182 88.011 Q130.182 80.8814 128.353 77.3398 Q126.547 73.775 122.913 73.775 M122.913 70.0713 Q128.723 70.0713 131.779 74.6777 Q134.857 79.261 134.857 88.011 Q134.857 96.7378 131.779 101.344 Q128.723 105.928 122.913 105.928 Q117.103 105.928 114.024 101.344 Q110.969 96.7378 110.969 88.011 Q110.969 79.261 114.024 74.6777 Q117.103 70.0713 122.913 70.0713 Z\" fill=\"#000000\" fill-rule=\"evenodd\" fill-opacity=\"1\" /><polyline clip-path=\"url(#clip192)\" style=\"stroke:#009af9; stroke-linecap:round; stroke-linejoin:round; stroke-width:4; stroke-opacity:1; fill:none\" points=\"232.609,846.49 303.588,1005.78 374.568,1149.9 445.547,87.9763 516.526,209.338 587.505,406.552 658.484,573.425 729.463,679.617 800.442,854.075 871.421,998.193 942.401,1149.9 1013.38,1294.01 1084.36,1445.72 1155.34,87.9763 1226.32,209.338 1297.3,330.701 1368.28,527.914 1439.25,679.617 1510.23,846.49 1581.21,945.097 1652.19,1066.46 1723.17,1202.99 1794.15,87.9763 1865.13,277.605 1936.11,429.307 2007.09,520.329 2078.07,679.617 2149.05,846.49 2220.02,967.852 2291,1119.55 \"/>\n",
       "<path clip-path=\"url(#clip190)\" d=\"M2009.41 1438.47 L2280.03 1438.47 L2280.03 1334.79 L2009.41 1334.79  Z\" fill=\"#ffffff\" fill-rule=\"evenodd\" fill-opacity=\"1\"/>\n",
       "<polyline clip-path=\"url(#clip190)\" style=\"stroke:#000000; stroke-linecap:round; stroke-linejoin:round; stroke-width:4; stroke-opacity:1; fill:none\" points=\"2009.41,1438.47 2280.03,1438.47 2280.03,1334.79 2009.41,1334.79 2009.41,1438.47 \"/>\n",
       "<polyline clip-path=\"url(#clip190)\" style=\"stroke:#009af9; stroke-linecap:round; stroke-linejoin:round; stroke-width:4; stroke-opacity:1; fill:none\" points=\"2033.65,1386.63 2179.11,1386.63 \"/>\n",
       "<path clip-path=\"url(#clip190)\" d=\"M2217.19 1406.32 Q2215.39 1410.95 2213.68 1412.36 Q2211.96 1413.78 2209.09 1413.78 L2205.69 1413.78 L2205.69 1410.21 L2208.19 1410.21 Q2209.95 1410.21 2210.92 1409.38 Q2211.89 1408.54 2213.07 1405.44 L2213.84 1403.5 L2203.35 1377.99 L2207.87 1377.99 L2215.97 1398.27 L2224.07 1377.99 L2228.58 1377.99 L2217.19 1406.32 Z\" fill=\"#000000\" fill-rule=\"evenodd\" fill-opacity=\"1\" /><path clip-path=\"url(#clip190)\" d=\"M2235.88 1399.98 L2243.51 1399.98 L2243.51 1373.61 L2235.2 1375.28 L2235.2 1371.02 L2243.47 1369.35 L2248.14 1369.35 L2248.14 1399.98 L2255.78 1399.98 L2255.78 1403.91 L2235.88 1403.91 L2235.88 1399.98 Z\" fill=\"#000000\" fill-rule=\"evenodd\" fill-opacity=\"1\" /></svg>\n"
      ]
     },
     "execution_count": 56,
     "metadata": {},
     "output_type": "execute_result"
    }
   ],
   "source": [
    "Random.seed!(10)\n",
    "res = simulateOneRun(30,50,200)\n",
    "\n",
    "# using PyPlot\n",
    "# plot(res.warehouse_levels)\n",
    "# show()\n",
    "using Plots\n",
    "plot(res.warehouse_levels)"
   ]
  },
  {
   "cell_type": "code",
   "execution_count": 74,
   "metadata": {},
   "outputs": [
    {
     "data": {
      "text/html": [
       "<div><div style = \"float: left;\"><span>4×3 DataFrame</span></div><div style = \"clear: both;\"></div></div><div class = \"data-frame\" style = \"overflow-x: scroll;\"><table class = \"data-frame\" style = \"margin-bottom: 6px;\"><thead><tr class = \"header\"><th class = \"rowNumber\" style = \"font-weight: bold; text-align: right;\">Row</th><th style = \"text-align: left;\">profit</th><th style = \"text-align: left;\">lost_orders</th><th style = \"text-align: left;\">warehouse_levels</th></tr><tr class = \"subheader headerLastRow\"><th class = \"rowNumber\" style = \"font-weight: bold; text-align: right;\"></th><th title = \"Float64\" style = \"text-align: left;\">Float64</th><th title = \"Float64\" style = \"text-align: left;\">Float64</th><th title = \"Vector{Int64}\" style = \"text-align: left;\">Array…</th></tr></thead><tbody><tr><td class = \"rowNumber\" style = \"font-weight: bold; text-align: right;\">1</td><td style = \"text-align: right;\">255.0</td><td style = \"text-align: right;\">95.0</td><td style = \"text-align: left;\">[100, 80, 57, 26, 7, 10, 10, 0, 0, 0]</td></tr><tr><td class = \"rowNumber\" style = \"font-weight: bold; text-align: right;\">2</td><td style = \"text-align: right;\">317.9</td><td style = \"text-align: right;\">63.0</td><td style = \"text-align: left;\">[100, 85, 66, 47, 27, 6, 0, 0, 0, 10]</td></tr><tr><td class = \"rowNumber\" style = \"font-weight: bold; text-align: right;\">3</td><td style = \"text-align: right;\">238.3</td><td style = \"text-align: right;\">73.0</td><td style = \"text-align: left;\">[100, 81, 60, 43, 25, 10, 0, 0, 0, 10]</td></tr><tr><td class = \"rowNumber\" style = \"font-weight: bold; text-align: right;\">4</td><td style = \"text-align: right;\">252.5</td><td style = \"text-align: right;\">81.0</td><td style = \"text-align: left;\">[100, 80, 62, 40, 13, 0, 0, 0, 10, 10]</td></tr></tbody></table></div>"
      ],
      "text/latex": [
       "\\begin{tabular}{r|ccc}\n",
       "\t& profit & lost\\_orders & warehouse\\_levels\\\\\n",
       "\t\\hline\n",
       "\t& Float64 & Float64 & Array…\\\\\n",
       "\t\\hline\n",
       "\t1 & 255.0 & 95.0 & [100, 80, 57, 26, 7, 10, 10, 0, 0, 0] \\\\\n",
       "\t2 & 317.9 & 63.0 & [100, 85, 66, 47, 27, 6, 0, 0, 0, 10] \\\\\n",
       "\t3 & 238.3 & 73.0 & [100, 81, 60, 43, 25, 10, 0, 0, 0, 10] \\\\\n",
       "\t4 & 252.5 & 81.0 & [100, 80, 62, 40, 13, 0, 0, 0, 10, 10] \\\\\n",
       "\\end{tabular}\n"
      ],
      "text/plain": [
       "\u001b[1m4×3 DataFrame\u001b[0m\n",
       "\u001b[1m Row \u001b[0m│\u001b[1m profit  \u001b[0m\u001b[1m lost_orders \u001b[0m\u001b[1m warehouse_levels                  \u001b[0m\n",
       "     │\u001b[90m Float64 \u001b[0m\u001b[90m Float64     \u001b[0m\u001b[90m Vector{Int64}                     \u001b[0m\n",
       "─────┼─────────────────────────────────────────────────────────\n",
       "   1 │   255.0         95.0  [100, 80, 57, 26, 7, 10, 10, 0, …\n",
       "   2 │   317.9         63.0  [100, 85, 66, 47, 27, 6, 0, 0, 0…\n",
       "   3 │   238.3         73.0  [100, 81, 60, 43, 25, 10, 0, 0, …\n",
       "   4 │   252.5         81.0  [100, 80, 62, 40, 13, 0, 0, 0, 1…"
      ]
     },
     "execution_count": 74,
     "metadata": {},
     "output_type": "execute_result"
    }
   ],
   "source": [
    "using DataFrames\n",
    "res = DataFrame(simulateOneRun(10,5,10) for n in 1:4)"
   ]
  },
  {
   "cell_type": "code",
   "execution_count": 75,
   "metadata": {},
   "outputs": [
    {
     "data": {
      "text/plain": [
       "(m = 30, s = 50, S = 100, N = 100, profit_mean = 949.6369999999998, profit_std = 108.61257963769921, lost_mean = 34.73, lost_std = 34.93742024439317)"
      ]
     },
     "execution_count": 75,
     "metadata": {},
     "output_type": "execute_result"
    }
   ],
   "source": [
    "## average stockouts lost_mean\n",
    "## \n",
    "function run_sims(m,s,S,N=100)\n",
    "    df = DataFrame(simulateOneRun(m,s,S) for n in 1:N)\n",
    "    (\n",
    "        m=m,\n",
    "        s=s,\n",
    "        S=S,\n",
    "        N=N,\n",
    "        profit_mean = mean(df.profit),\n",
    "        profit_std = std(df.profit),\n",
    "        lost_mean = mean(df.lost_orders),\n",
    "        lost_std = std(df.lost_orders)\n",
    "    )\n",
    "end\n",
    "\n",
    "\n",
    "run_sims(30,50,100)"
   ]
  },
  {
   "cell_type": "code",
   "execution_count": 76,
   "metadata": {},
   "outputs": [
    {
     "data": {
      "text/html": [
       "<div><div style = \"float: left;\"><span>90×8 DataFrame</span></div><div style = \"float: right;\"><span style = \"font-style: italic;\">65 rows omitted</span></div><div style = \"clear: both;\"></div></div><div class = \"data-frame\" style = \"overflow-x: scroll;\"><table class = \"data-frame\" style = \"margin-bottom: 6px;\"><thead><tr class = \"header\"><th class = \"rowNumber\" style = \"font-weight: bold; text-align: right;\">Row</th><th style = \"text-align: left;\">m</th><th style = \"text-align: left;\">s</th><th style = \"text-align: left;\">S</th><th style = \"text-align: left;\">N</th><th style = \"text-align: left;\">profit_mean</th><th style = \"text-align: left;\">profit_std</th><th style = \"text-align: left;\">lost_mean</th><th style = \"text-align: left;\">lost_std</th></tr><tr class = \"subheader headerLastRow\"><th class = \"rowNumber\" style = \"font-weight: bold; text-align: right;\"></th><th title = \"Int64\" style = \"text-align: left;\">Int64</th><th title = \"Int64\" style = \"text-align: left;\">Int64</th><th title = \"Int64\" style = \"text-align: left;\">Int64</th><th title = \"Int64\" style = \"text-align: left;\">Int64</th><th title = \"Float64\" style = \"text-align: left;\">Float64</th><th title = \"Float64\" style = \"text-align: left;\">Float64</th><th title = \"Float64\" style = \"text-align: left;\">Float64</th><th title = \"Float64\" style = \"text-align: left;\">Float64</th></tr></thead><tbody><tr><td class = \"rowNumber\" style = \"font-weight: bold; text-align: right;\">1</td><td style = \"text-align: right;\">90</td><td style = \"text-align: right;\">25</td><td style = \"text-align: right;\">100</td><td style = \"text-align: right;\">100</td><td style = \"text-align: right;\">2971.25</td><td style = \"text-align: right;\">187.955</td><td style = \"text-align: right;\">216.66</td><td style = \"text-align: right;\">86.947</td></tr><tr><td class = \"rowNumber\" style = \"font-weight: bold; text-align: right;\">2</td><td style = \"text-align: right;\">90</td><td style = \"text-align: right;\">25</td><td style = \"text-align: right;\">200</td><td style = \"text-align: right;\">100</td><td style = \"text-align: right;\">3579.8</td><td style = \"text-align: right;\">143.172</td><td style = \"text-align: right;\">118.92</td><td style = \"text-align: right;\">62.0491</td></tr><tr><td class = \"rowNumber\" style = \"font-weight: bold; text-align: right;\">3</td><td style = \"text-align: right;\">90</td><td style = \"text-align: right;\">25</td><td style = \"text-align: right;\">300</td><td style = \"text-align: right;\">100</td><td style = \"text-align: right;\">3488.41</td><td style = \"text-align: right;\">233.743</td><td style = \"text-align: right;\">81.2</td><td style = \"text-align: right;\">61.1899</td></tr><tr><td class = \"rowNumber\" style = \"font-weight: bold; text-align: right;\">4</td><td style = \"text-align: right;\">90</td><td style = \"text-align: right;\">25</td><td style = \"text-align: right;\">400</td><td style = \"text-align: right;\">100</td><td style = \"text-align: right;\">3081.23</td><td style = \"text-align: right;\">179.821</td><td style = \"text-align: right;\">60.11</td><td style = \"text-align: right;\">45.8938</td></tr><tr><td class = \"rowNumber\" style = \"font-weight: bold; text-align: right;\">5</td><td style = \"text-align: right;\">90</td><td style = \"text-align: right;\">25</td><td style = \"text-align: right;\">500</td><td style = \"text-align: right;\">100</td><td style = \"text-align: right;\">2630.79</td><td style = \"text-align: right;\">167.024</td><td style = \"text-align: right;\">50.72</td><td style = \"text-align: right;\">46.5774</td></tr><tr><td class = \"rowNumber\" style = \"font-weight: bold; text-align: right;\">6</td><td style = \"text-align: right;\">90</td><td style = \"text-align: right;\">25</td><td style = \"text-align: right;\">600</td><td style = \"text-align: right;\">100</td><td style = \"text-align: right;\">2546.72</td><td style = \"text-align: right;\">258.47</td><td style = \"text-align: right;\">34.57</td><td style = \"text-align: right;\">38.6717</td></tr><tr><td class = \"rowNumber\" style = \"font-weight: bold; text-align: right;\">7</td><td style = \"text-align: right;\">90</td><td style = \"text-align: right;\">25</td><td style = \"text-align: right;\">700</td><td style = \"text-align: right;\">100</td><td style = \"text-align: right;\">1683.64</td><td style = \"text-align: right;\">168.939</td><td style = \"text-align: right;\">33.52</td><td style = \"text-align: right;\">31.9461</td></tr><tr><td class = \"rowNumber\" style = \"font-weight: bold; text-align: right;\">8</td><td style = \"text-align: right;\">90</td><td style = \"text-align: right;\">25</td><td style = \"text-align: right;\">800</td><td style = \"text-align: right;\">100</td><td style = \"text-align: right;\">1200.97</td><td style = \"text-align: right;\">281.166</td><td style = \"text-align: right;\">32.05</td><td style = \"text-align: right;\">34.9673</td></tr><tr><td class = \"rowNumber\" style = \"font-weight: bold; text-align: right;\">9</td><td style = \"text-align: right;\">90</td><td style = \"text-align: right;\">25</td><td style = \"text-align: right;\">900</td><td style = \"text-align: right;\">100</td><td style = \"text-align: right;\">1367.4</td><td style = \"text-align: right;\">302.588</td><td style = \"text-align: right;\">30.45</td><td style = \"text-align: right;\">37.8336</td></tr><tr><td class = \"rowNumber\" style = \"font-weight: bold; text-align: right;\">10</td><td style = \"text-align: right;\">90</td><td style = \"text-align: right;\">25</td><td style = \"text-align: right;\">1000</td><td style = \"text-align: right;\">100</td><td style = \"text-align: right;\">419.791</td><td style = \"text-align: right;\">221.17</td><td style = \"text-align: right;\">24.22</td><td style = \"text-align: right;\">28.7952</td></tr><tr><td class = \"rowNumber\" style = \"font-weight: bold; text-align: right;\">11</td><td style = \"text-align: right;\">90</td><td style = \"text-align: right;\">50</td><td style = \"text-align: right;\">100</td><td style = \"text-align: right;\">100</td><td style = \"text-align: right;\">2661.4</td><td style = \"text-align: right;\">141.737</td><td style = \"text-align: right;\">118.74</td><td style = \"text-align: right;\">73.5476</td></tr><tr><td class = \"rowNumber\" style = \"font-weight: bold; text-align: right;\">12</td><td style = \"text-align: right;\">90</td><td style = \"text-align: right;\">50</td><td style = \"text-align: right;\">200</td><td style = \"text-align: right;\">100</td><td style = \"text-align: right;\">3534.32</td><td style = \"text-align: right;\">159.418</td><td style = \"text-align: right;\">49.21</td><td style = \"text-align: right;\">49.326</td></tr><tr><td class = \"rowNumber\" style = \"font-weight: bold; text-align: right;\">13</td><td style = \"text-align: right;\">90</td><td style = \"text-align: right;\">50</td><td style = \"text-align: right;\">300</td><td style = \"text-align: right;\">100</td><td style = \"text-align: right;\">3394.56</td><td style = \"text-align: right;\">188.263</td><td style = \"text-align: right;\">44.28</td><td style = \"text-align: right;\">55.6025</td></tr><tr><td style = \"text-align: right;\">&vellip;</td><td style = \"text-align: right;\">&vellip;</td><td style = \"text-align: right;\">&vellip;</td><td style = \"text-align: right;\">&vellip;</td><td style = \"text-align: right;\">&vellip;</td><td style = \"text-align: right;\">&vellip;</td><td style = \"text-align: right;\">&vellip;</td><td style = \"text-align: right;\">&vellip;</td><td style = \"text-align: right;\">&vellip;</td></tr><tr><td class = \"rowNumber\" style = \"font-weight: bold; text-align: right;\">79</td><td style = \"text-align: right;\">90</td><td style = \"text-align: right;\">225</td><td style = \"text-align: right;\">700</td><td style = \"text-align: right;\">100</td><td style = \"text-align: right;\">808.23</td><td style = \"text-align: right;\">207.025</td><td style = \"text-align: right;\">0.93</td><td style = \"text-align: right;\">6.2446</td></tr><tr><td class = \"rowNumber\" style = \"font-weight: bold; text-align: right;\">80</td><td style = \"text-align: right;\">90</td><td style = \"text-align: right;\">225</td><td style = \"text-align: right;\">800</td><td style = \"text-align: right;\">100</td><td style = \"text-align: right;\">534.7</td><td style = \"text-align: right;\">304.107</td><td style = \"text-align: right;\">0.1</td><td style = \"text-align: right;\">1.0</td></tr><tr><td class = \"rowNumber\" style = \"font-weight: bold; text-align: right;\">81</td><td style = \"text-align: right;\">90</td><td style = \"text-align: right;\">225</td><td style = \"text-align: right;\">900</td><td style = \"text-align: right;\">100</td><td style = \"text-align: right;\">-243.113</td><td style = \"text-align: right;\">201.205</td><td style = \"text-align: right;\">0.48</td><td style = \"text-align: right;\">4.07128</td></tr><tr><td class = \"rowNumber\" style = \"font-weight: bold; text-align: right;\">82</td><td style = \"text-align: right;\">90</td><td style = \"text-align: right;\">225</td><td style = \"text-align: right;\">1000</td><td style = \"text-align: right;\">100</td><td style = \"text-align: right;\">-954.18</td><td style = \"text-align: right;\">197.85</td><td style = \"text-align: right;\">1.32</td><td style = \"text-align: right;\">7.08517</td></tr><tr><td class = \"rowNumber\" style = \"font-weight: bold; text-align: right;\">83</td><td style = \"text-align: right;\">90</td><td style = \"text-align: right;\">250</td><td style = \"text-align: right;\">300</td><td style = \"text-align: right;\">100</td><td style = \"text-align: right;\">1026.94</td><td style = \"text-align: right;\">254.714</td><td style = \"text-align: right;\">0.4</td><td style = \"text-align: right;\">2.81411</td></tr><tr><td class = \"rowNumber\" style = \"font-weight: bold; text-align: right;\">84</td><td style = \"text-align: right;\">90</td><td style = \"text-align: right;\">250</td><td style = \"text-align: right;\">400</td><td style = \"text-align: right;\">100</td><td style = \"text-align: right;\">1651.14</td><td style = \"text-align: right;\">172.608</td><td style = \"text-align: right;\">0.1</td><td style = \"text-align: right;\">1.0</td></tr><tr><td class = \"rowNumber\" style = \"font-weight: bold; text-align: right;\">85</td><td style = \"text-align: right;\">90</td><td style = \"text-align: right;\">250</td><td style = \"text-align: right;\">500</td><td style = \"text-align: right;\">100</td><td style = \"text-align: right;\">1488.85</td><td style = \"text-align: right;\">226.597</td><td style = \"text-align: right;\">0.21</td><td style = \"text-align: right;\">1.67148</td></tr><tr><td class = \"rowNumber\" style = \"font-weight: bold; text-align: right;\">86</td><td style = \"text-align: right;\">90</td><td style = \"text-align: right;\">250</td><td style = \"text-align: right;\">600</td><td style = \"text-align: right;\">100</td><td style = \"text-align: right;\">1213.38</td><td style = \"text-align: right;\">196.798</td><td style = \"text-align: right;\">2.18</td><td style = \"text-align: right;\">13.8326</td></tr><tr><td class = \"rowNumber\" style = \"font-weight: bold; text-align: right;\">87</td><td style = \"text-align: right;\">90</td><td style = \"text-align: right;\">250</td><td style = \"text-align: right;\">700</td><td style = \"text-align: right;\">100</td><td style = \"text-align: right;\">799.033</td><td style = \"text-align: right;\">176.642</td><td style = \"text-align: right;\">1.76</td><td style = \"text-align: right;\">15.1158</td></tr><tr><td class = \"rowNumber\" style = \"font-weight: bold; text-align: right;\">88</td><td style = \"text-align: right;\">90</td><td style = \"text-align: right;\">250</td><td style = \"text-align: right;\">800</td><td style = \"text-align: right;\">100</td><td style = \"text-align: right;\">168.525</td><td style = \"text-align: right;\">342.23</td><td style = \"text-align: right;\">0.03</td><td style = \"text-align: right;\">0.3</td></tr><tr><td class = \"rowNumber\" style = \"font-weight: bold; text-align: right;\">89</td><td style = \"text-align: right;\">90</td><td style = \"text-align: right;\">250</td><td style = \"text-align: right;\">900</td><td style = \"text-align: right;\">100</td><td style = \"text-align: right;\">-275.165</td><td style = \"text-align: right;\">195.892</td><td style = \"text-align: right;\">0.96</td><td style = \"text-align: right;\">7.12645</td></tr><tr><td class = \"rowNumber\" style = \"font-weight: bold; text-align: right;\">90</td><td style = \"text-align: right;\">90</td><td style = \"text-align: right;\">250</td><td style = \"text-align: right;\">1000</td><td style = \"text-align: right;\">100</td><td style = \"text-align: right;\">-1019.13</td><td style = \"text-align: right;\">171.746</td><td style = \"text-align: right;\">0.0</td><td style = \"text-align: right;\">0.0</td></tr></tbody></table></div>"
      ],
      "text/latex": [
       "\\begin{tabular}{r|cccccccc}\n",
       "\t& m & s & S & N & profit\\_mean & profit\\_std & lost\\_mean & lost\\_std\\\\\n",
       "\t\\hline\n",
       "\t& Int64 & Int64 & Int64 & Int64 & Float64 & Float64 & Float64 & Float64\\\\\n",
       "\t\\hline\n",
       "\t1 & 90 & 25 & 100 & 100 & 2971.25 & 187.955 & 216.66 & 86.947 \\\\\n",
       "\t2 & 90 & 25 & 200 & 100 & 3579.8 & 143.172 & 118.92 & 62.0491 \\\\\n",
       "\t3 & 90 & 25 & 300 & 100 & 3488.41 & 233.743 & 81.2 & 61.1899 \\\\\n",
       "\t4 & 90 & 25 & 400 & 100 & 3081.23 & 179.821 & 60.11 & 45.8938 \\\\\n",
       "\t5 & 90 & 25 & 500 & 100 & 2630.79 & 167.024 & 50.72 & 46.5774 \\\\\n",
       "\t6 & 90 & 25 & 600 & 100 & 2546.72 & 258.47 & 34.57 & 38.6717 \\\\\n",
       "\t7 & 90 & 25 & 700 & 100 & 1683.64 & 168.939 & 33.52 & 31.9461 \\\\\n",
       "\t8 & 90 & 25 & 800 & 100 & 1200.97 & 281.166 & 32.05 & 34.9673 \\\\\n",
       "\t9 & 90 & 25 & 900 & 100 & 1367.4 & 302.588 & 30.45 & 37.8336 \\\\\n",
       "\t10 & 90 & 25 & 1000 & 100 & 419.791 & 221.17 & 24.22 & 28.7952 \\\\\n",
       "\t11 & 90 & 50 & 100 & 100 & 2661.4 & 141.737 & 118.74 & 73.5476 \\\\\n",
       "\t12 & 90 & 50 & 200 & 100 & 3534.32 & 159.418 & 49.21 & 49.326 \\\\\n",
       "\t13 & 90 & 50 & 300 & 100 & 3394.56 & 188.263 & 44.28 & 55.6025 \\\\\n",
       "\t14 & 90 & 50 & 400 & 100 & 3061.3 & 190.877 & 37.86 & 48.1783 \\\\\n",
       "\t15 & 90 & 50 & 500 & 100 & 2721.59 & 214.694 & 21.04 & 31.8712 \\\\\n",
       "\t16 & 90 & 50 & 600 & 100 & 2407.25 & 282.075 & 16.11 & 27.8252 \\\\\n",
       "\t17 & 90 & 50 & 700 & 100 & 1642.6 & 171.263 & 20.11 & 29.2675 \\\\\n",
       "\t18 & 90 & 50 & 800 & 100 & 1014.09 & 189.31 & 18.19 & 32.8248 \\\\\n",
       "\t19 & 90 & 50 & 900 & 100 & 1231.52 & 324.828 & 13.63 & 25.3559 \\\\\n",
       "\t20 & 90 & 50 & 1000 & 100 & 435.771 & 259.244 & 9.96 & 26.4987 \\\\\n",
       "\t21 & 90 & 75 & 100 & 100 & 1855.16 & 251.112 & 74.03 & 56.1464 \\\\\n",
       "\t22 & 90 & 75 & 200 & 100 & 3346.44 & 164.152 & 24.44 & 32.9295 \\\\\n",
       "\t23 & 90 & 75 & 300 & 100 & 3300.2 & 171.811 & 14.97 & 26.3579 \\\\\n",
       "\t24 & 90 & 75 & 400 & 100 & 3035.65 & 209.696 & 6.17 & 14.5914 \\\\\n",
       "\t25 & 90 & 75 & 500 & 100 & 2687.47 & 239.629 & 7.34 & 24.4913 \\\\\n",
       "\t26 & 90 & 75 & 600 & 100 & 2028.08 & 263.902 & 9.68 & 26.7358 \\\\\n",
       "\t27 & 90 & 75 & 700 & 100 & 1678.7 & 207.227 & 7.85 & 21.5418 \\\\\n",
       "\t28 & 90 & 75 & 800 & 100 & 914.724 & 153.534 & 11.43 & 24.3904 \\\\\n",
       "\t29 & 90 & 75 & 900 & 100 & 682.48 & 435.957 & 4.52 & 15.2723 \\\\\n",
       "\t30 & 90 & 75 & 1000 & 100 & 439.681 & 268.444 & 3.27 & 14.6879 \\\\\n",
       "\t$\\dots$ & $\\dots$ & $\\dots$ & $\\dots$ & $\\dots$ & $\\dots$ & $\\dots$ & $\\dots$ & $\\dots$ \\\\\n",
       "\\end{tabular}\n"
      ],
      "text/plain": [
       "\u001b[1m90×8 DataFrame\u001b[0m\n",
       "\u001b[1m Row \u001b[0m│\u001b[1m m     \u001b[0m\u001b[1m s     \u001b[0m\u001b[1m S     \u001b[0m\u001b[1m N     \u001b[0m\u001b[1m profit_mean \u001b[0m\u001b[1m profit_std \u001b[0m\u001b[1m lost_mean \u001b[0m\u001b[1m lost_st\u001b[0m ⋯\n",
       "     │\u001b[90m Int64 \u001b[0m\u001b[90m Int64 \u001b[0m\u001b[90m Int64 \u001b[0m\u001b[90m Int64 \u001b[0m\u001b[90m Float64     \u001b[0m\u001b[90m Float64    \u001b[0m\u001b[90m Float64   \u001b[0m\u001b[90m Float64\u001b[0m ⋯\n",
       "─────┼──────────────────────────────────────────────────────────────────────────\n",
       "   1 │    90     25    100    100     2971.25      187.955     216.66  86.947  ⋯\n",
       "   2 │    90     25    200    100     3579.8       143.172     118.92  62.0491\n",
       "   3 │    90     25    300    100     3488.41      233.743      81.2   61.1899\n",
       "   4 │    90     25    400    100     3081.23      179.821      60.11  45.8938\n",
       "   5 │    90     25    500    100     2630.79      167.024      50.72  46.5774 ⋯\n",
       "   6 │    90     25    600    100     2546.72      258.47       34.57  38.6717\n",
       "   7 │    90     25    700    100     1683.64      168.939      33.52  31.9461\n",
       "   8 │    90     25    800    100     1200.97      281.166      32.05  34.9673\n",
       "   9 │    90     25    900    100     1367.4       302.588      30.45  37.8336 ⋯\n",
       "  10 │    90     25   1000    100      419.791     221.17       24.22  28.7952\n",
       "  11 │    90     50    100    100     2661.4       141.737     118.74  73.5476\n",
       "  ⋮  │   ⋮      ⋮      ⋮      ⋮         ⋮           ⋮           ⋮         ⋮    ⋱\n",
       "  81 │    90    225    900    100     -243.113     201.205       0.48   4.0712\n",
       "  82 │    90    225   1000    100     -954.18      197.85        1.32   7.0851 ⋯\n",
       "  83 │    90    250    300    100     1026.94      254.714       0.4    2.8141\n",
       "  84 │    90    250    400    100     1651.14      172.608       0.1    1.0\n",
       "  85 │    90    250    500    100     1488.85      226.597       0.21   1.6714\n",
       "  86 │    90    250    600    100     1213.38      196.798       2.18  13.8326 ⋯\n",
       "  87 │    90    250    700    100      799.033     176.642       1.76  15.1158\n",
       "  88 │    90    250    800    100      168.525     342.23        0.03   0.3\n",
       "  89 │    90    250    900    100     -275.165     195.892       0.96   7.1264\n",
       "  90 │    90    250   1000    100    -1019.13      171.746       0.0    0.0    ⋯\n",
       "\u001b[36m                                                    1 column and 69 rows omitted\u001b[0m"
      ]
     },
     "execution_count": 76,
     "metadata": {},
     "output_type": "execute_result"
    }
   ],
   "source": [
    "using Random\n",
    "Random.seed!(0)\n",
    "df = DataFrame(run_sims(90,s,S,100) \n",
    "    for S in 100:100:1000, s in 25:25:250 if S > s )"
   ]
  },
  {
   "cell_type": "code",
   "execution_count": 77,
   "metadata": {},
   "outputs": [
    {
     "data": {
      "text/plain": [
       "2"
      ]
     },
     "execution_count": 77,
     "metadata": {},
     "output_type": "execute_result"
    }
   ],
   "source": [
    "best_row = argmax(df.profit_mean)"
   ]
  },
  {
   "cell_type": "code",
   "execution_count": 78,
   "metadata": {},
   "outputs": [
    {
     "data": {
      "text/html": [
       "<div><div style = \"float: left;\"><span>DataFrameRow (8 columns)</span></div><div style = \"clear: both;\"></div></div><div class = \"data-frame\" style = \"overflow-x: scroll;\"><table class = \"data-frame\" style = \"margin-bottom: 6px;\"><thead><tr class = \"header\"><th class = \"rowLabel\" style = \"font-weight: bold; text-align: right;\">Row</th><th style = \"text-align: left;\">m</th><th style = \"text-align: left;\">s</th><th style = \"text-align: left;\">S</th><th style = \"text-align: left;\">N</th><th style = \"text-align: left;\">profit_mean</th><th style = \"text-align: left;\">profit_std</th><th style = \"text-align: left;\">lost_mean</th><th style = \"text-align: left;\">lost_std</th></tr><tr class = \"subheader headerLastRow\"><th class = \"rowLabel\" style = \"font-weight: bold; text-align: right;\"></th><th title = \"Int64\" style = \"text-align: left;\">Int64</th><th title = \"Int64\" style = \"text-align: left;\">Int64</th><th title = \"Int64\" style = \"text-align: left;\">Int64</th><th title = \"Int64\" style = \"text-align: left;\">Int64</th><th title = \"Float64\" style = \"text-align: left;\">Float64</th><th title = \"Float64\" style = \"text-align: left;\">Float64</th><th title = \"Float64\" style = \"text-align: left;\">Float64</th><th title = \"Float64\" style = \"text-align: left;\">Float64</th></tr></thead><tbody><tr><td class = \"rowLabel\" style = \"font-weight: bold; text-align: right;\">2</td><td style = \"text-align: right;\">90</td><td style = \"text-align: right;\">25</td><td style = \"text-align: right;\">200</td><td style = \"text-align: right;\">100</td><td style = \"text-align: right;\">3579.8</td><td style = \"text-align: right;\">143.172</td><td style = \"text-align: right;\">118.92</td><td style = \"text-align: right;\">62.0491</td></tr></tbody></table></div>"
      ],
      "text/latex": [
       "\\begin{tabular}{r|cccccccc}\n",
       "\t& m & s & S & N & profit\\_mean & profit\\_std & lost\\_mean & lost\\_std\\\\\n",
       "\t\\hline\n",
       "\t& Int64 & Int64 & Int64 & Int64 & Float64 & Float64 & Float64 & Float64\\\\\n",
       "\t\\hline\n",
       "\t2 & 90 & 25 & 200 & 100 & 3579.8 & 143.172 & 118.92 & 62.0491 \\\\\n",
       "\\end{tabular}\n"
      ],
      "text/plain": [
       "\u001b[1mDataFrameRow\u001b[0m\n",
       "\u001b[1m Row \u001b[0m│\u001b[1m m     \u001b[0m\u001b[1m s     \u001b[0m\u001b[1m S     \u001b[0m\u001b[1m N     \u001b[0m\u001b[1m profit_mean \u001b[0m\u001b[1m profit_std \u001b[0m\u001b[1m lost_mean \u001b[0m\u001b[1m lost_st\u001b[0m ⋯\n",
       "     │\u001b[90m Int64 \u001b[0m\u001b[90m Int64 \u001b[0m\u001b[90m Int64 \u001b[0m\u001b[90m Int64 \u001b[0m\u001b[90m Float64     \u001b[0m\u001b[90m Float64    \u001b[0m\u001b[90m Float64   \u001b[0m\u001b[90m Float64\u001b[0m ⋯\n",
       "─────┼──────────────────────────────────────────────────────────────────────────\n",
       "   2 │    90     25    200    100       3579.8     143.172     118.92   62.049 ⋯\n",
       "\u001b[36m                                                                1 column omitted\u001b[0m"
      ]
     },
     "execution_count": 78,
     "metadata": {},
     "output_type": "execute_result"
    }
   ],
   "source": [
    "df[best_row,:]"
   ]
  },
  {
   "cell_type": "code",
   "execution_count": 79,
   "metadata": {},
   "outputs": [
    {
     "data": {
      "text/plain": [
       "1×4 adjoint(::Vector{Int64}) with eltype Int64:\n",
       " 66  74  82  90"
      ]
     },
     "execution_count": 79,
     "metadata": {},
     "output_type": "execute_result"
    }
   ],
   "source": [
    "findall(<=(-500), df.profit_mean)'\n"
   ]
  },
  {
   "cell_type": "code",
   "execution_count": 80,
   "metadata": {},
   "outputs": [
    {
     "data": {
      "text/html": [
       "<div><div style = \"float: left;\"><span>DataFrameRow (8 columns)</span></div><div style = \"clear: both;\"></div></div><div class = \"data-frame\" style = \"overflow-x: scroll;\"><table class = \"data-frame\" style = \"margin-bottom: 6px;\"><thead><tr class = \"header\"><th class = \"rowLabel\" style = \"font-weight: bold; text-align: right;\">Row</th><th style = \"text-align: left;\">m</th><th style = \"text-align: left;\">s</th><th style = \"text-align: left;\">S</th><th style = \"text-align: left;\">N</th><th style = \"text-align: left;\">profit_mean</th><th style = \"text-align: left;\">profit_std</th><th style = \"text-align: left;\">lost_mean</th><th style = \"text-align: left;\">lost_std</th></tr><tr class = \"subheader headerLastRow\"><th class = \"rowLabel\" style = \"font-weight: bold; text-align: right;\"></th><th title = \"Int64\" style = \"text-align: left;\">Int64</th><th title = \"Int64\" style = \"text-align: left;\">Int64</th><th title = \"Int64\" style = \"text-align: left;\">Int64</th><th title = \"Int64\" style = \"text-align: left;\">Int64</th><th title = \"Float64\" style = \"text-align: left;\">Float64</th><th title = \"Float64\" style = \"text-align: left;\">Float64</th><th title = \"Float64\" style = \"text-align: left;\">Float64</th><th title = \"Float64\" style = \"text-align: left;\">Float64</th></tr></thead><tbody><tr><td class = \"rowLabel\" style = \"font-weight: bold; text-align: right;\">66</td><td style = \"text-align: right;\">90</td><td style = \"text-align: right;\">175</td><td style = \"text-align: right;\">1000</td><td style = \"text-align: right;\">100</td><td style = \"text-align: right;\">-507.847</td><td style = \"text-align: right;\">446.965</td><td style = \"text-align: right;\">1.49</td><td style = \"text-align: right;\">9.63002</td></tr></tbody></table></div>"
      ],
      "text/latex": [
       "\\begin{tabular}{r|cccccccc}\n",
       "\t& m & s & S & N & profit\\_mean & profit\\_std & lost\\_mean & lost\\_std\\\\\n",
       "\t\\hline\n",
       "\t& Int64 & Int64 & Int64 & Int64 & Float64 & Float64 & Float64 & Float64\\\\\n",
       "\t\\hline\n",
       "\t66 & 90 & 175 & 1000 & 100 & -507.847 & 446.965 & 1.49 & 9.63002 \\\\\n",
       "\\end{tabular}\n"
      ],
      "text/plain": [
       "\u001b[1mDataFrameRow\u001b[0m\n",
       "\u001b[1m Row \u001b[0m│\u001b[1m m     \u001b[0m\u001b[1m s     \u001b[0m\u001b[1m S     \u001b[0m\u001b[1m N     \u001b[0m\u001b[1m profit_mean \u001b[0m\u001b[1m profit_std \u001b[0m\u001b[1m lost_mean \u001b[0m\u001b[1m lost_st\u001b[0m ⋯\n",
       "     │\u001b[90m Int64 \u001b[0m\u001b[90m Int64 \u001b[0m\u001b[90m Int64 \u001b[0m\u001b[90m Int64 \u001b[0m\u001b[90m Float64     \u001b[0m\u001b[90m Float64    \u001b[0m\u001b[90m Float64   \u001b[0m\u001b[90m Float64\u001b[0m ⋯\n",
       "─────┼──────────────────────────────────────────────────────────────────────────\n",
       "  66 │    90    175   1000    100     -507.847     446.965       1.49   9.6300 ⋯\n",
       "\u001b[36m                                                                1 column omitted\u001b[0m"
      ]
     },
     "execution_count": 80,
     "metadata": {},
     "output_type": "execute_result"
    }
   ],
   "source": [
    "df[66,:]"
   ]
  },
  {
   "cell_type": "code",
   "execution_count": 81,
   "metadata": {},
   "outputs": [
    {
     "data": {
      "text/html": [
       "<div><div style = \"float: left;\"><span>4×8 DataFrame</span></div><div style = \"clear: both;\"></div></div><div class = \"data-frame\" style = \"overflow-x: scroll;\"><table class = \"data-frame\" style = \"margin-bottom: 6px;\"><thead><tr class = \"header\"><th class = \"rowNumber\" style = \"font-weight: bold; text-align: right;\">Row</th><th style = \"text-align: left;\">m</th><th style = \"text-align: left;\">s</th><th style = \"text-align: left;\">S</th><th style = \"text-align: left;\">N</th><th style = \"text-align: left;\">profit_mean</th><th style = \"text-align: left;\">profit_std</th><th style = \"text-align: left;\">lost_mean</th><th style = \"text-align: left;\">lost_std</th></tr><tr class = \"subheader headerLastRow\"><th class = \"rowNumber\" style = \"font-weight: bold; text-align: right;\"></th><th title = \"Int64\" style = \"text-align: left;\">Int64</th><th title = \"Int64\" style = \"text-align: left;\">Int64</th><th title = \"Int64\" style = \"text-align: left;\">Int64</th><th title = \"Int64\" style = \"text-align: left;\">Int64</th><th title = \"Float64\" style = \"text-align: left;\">Float64</th><th title = \"Float64\" style = \"text-align: left;\">Float64</th><th title = \"Float64\" style = \"text-align: left;\">Float64</th><th title = \"Float64\" style = \"text-align: left;\">Float64</th></tr></thead><tbody><tr><td class = \"rowNumber\" style = \"font-weight: bold; text-align: right;\">1</td><td style = \"text-align: right;\">90</td><td style = \"text-align: right;\">175</td><td style = \"text-align: right;\">1000</td><td style = \"text-align: right;\">100</td><td style = \"text-align: right;\">-507.847</td><td style = \"text-align: right;\">446.965</td><td style = \"text-align: right;\">1.49</td><td style = \"text-align: right;\">9.63002</td></tr><tr><td class = \"rowNumber\" style = \"font-weight: bold; text-align: right;\">2</td><td style = \"text-align: right;\">90</td><td style = \"text-align: right;\">200</td><td style = \"text-align: right;\">1000</td><td style = \"text-align: right;\">100</td><td style = \"text-align: right;\">-772.374</td><td style = \"text-align: right;\">332.434</td><td style = \"text-align: right;\">0.52</td><td style = \"text-align: right;\">5.2</td></tr><tr><td class = \"rowNumber\" style = \"font-weight: bold; text-align: right;\">3</td><td style = \"text-align: right;\">90</td><td style = \"text-align: right;\">225</td><td style = \"text-align: right;\">1000</td><td style = \"text-align: right;\">100</td><td style = \"text-align: right;\">-954.18</td><td style = \"text-align: right;\">197.85</td><td style = \"text-align: right;\">1.32</td><td style = \"text-align: right;\">7.08517</td></tr><tr><td class = \"rowNumber\" style = \"font-weight: bold; text-align: right;\">4</td><td style = \"text-align: right;\">90</td><td style = \"text-align: right;\">250</td><td style = \"text-align: right;\">1000</td><td style = \"text-align: right;\">100</td><td style = \"text-align: right;\">-1019.13</td><td style = \"text-align: right;\">171.746</td><td style = \"text-align: right;\">0.0</td><td style = \"text-align: right;\">0.0</td></tr></tbody></table></div>"
      ],
      "text/latex": [
       "\\begin{tabular}{r|cccccccc}\n",
       "\t& m & s & S & N & profit\\_mean & profit\\_std & lost\\_mean & lost\\_std\\\\\n",
       "\t\\hline\n",
       "\t& Int64 & Int64 & Int64 & Int64 & Float64 & Float64 & Float64 & Float64\\\\\n",
       "\t\\hline\n",
       "\t1 & 90 & 175 & 1000 & 100 & -507.847 & 446.965 & 1.49 & 9.63002 \\\\\n",
       "\t2 & 90 & 200 & 1000 & 100 & -772.374 & 332.434 & 0.52 & 5.2 \\\\\n",
       "\t3 & 90 & 225 & 1000 & 100 & -954.18 & 197.85 & 1.32 & 7.08517 \\\\\n",
       "\t4 & 90 & 250 & 1000 & 100 & -1019.13 & 171.746 & 0.0 & 0.0 \\\\\n",
       "\\end{tabular}\n"
      ],
      "text/plain": [
       "\u001b[1m4×8 DataFrame\u001b[0m\n",
       "\u001b[1m Row \u001b[0m│\u001b[1m m     \u001b[0m\u001b[1m s     \u001b[0m\u001b[1m S     \u001b[0m\u001b[1m N     \u001b[0m\u001b[1m profit_mean \u001b[0m\u001b[1m profit_std \u001b[0m\u001b[1m lost_mean \u001b[0m\u001b[1m lost_st\u001b[0m ⋯\n",
       "     │\u001b[90m Int64 \u001b[0m\u001b[90m Int64 \u001b[0m\u001b[90m Int64 \u001b[0m\u001b[90m Int64 \u001b[0m\u001b[90m Float64     \u001b[0m\u001b[90m Float64    \u001b[0m\u001b[90m Float64   \u001b[0m\u001b[90m Float64\u001b[0m ⋯\n",
       "─────┼──────────────────────────────────────────────────────────────────────────\n",
       "   1 │    90    175   1000    100     -507.847     446.965       1.49   9.6300 ⋯\n",
       "   2 │    90    200   1000    100     -772.374     332.434       0.52   5.2\n",
       "   3 │    90    225   1000    100     -954.18      197.85        1.32   7.0851\n",
       "   4 │    90    250   1000    100    -1019.13      171.746       0.0    0.0\n",
       "\u001b[36m                                                                1 column omitted\u001b[0m"
      ]
     },
     "execution_count": 81,
     "metadata": {},
     "output_type": "execute_result"
    }
   ],
   "source": [
    "df[[66, 74,82,90],:]"
   ]
  },
  {
   "cell_type": "code",
   "execution_count": 82,
   "metadata": {},
   "outputs": [
    {
     "data": {
      "text/html": [
       "<div><div style = \"float: left;\"><span>4×8 DataFrame</span></div><div style = \"clear: both;\"></div></div><div class = \"data-frame\" style = \"overflow-x: scroll;\"><table class = \"data-frame\" style = \"margin-bottom: 6px;\"><thead><tr class = \"header\"><th class = \"rowNumber\" style = \"font-weight: bold; text-align: right;\">Row</th><th style = \"text-align: left;\">m</th><th style = \"text-align: left;\">s</th><th style = \"text-align: left;\">S</th><th style = \"text-align: left;\">N</th><th style = \"text-align: left;\">profit_mean</th><th style = \"text-align: left;\">profit_std</th><th style = \"text-align: left;\">lost_mean</th><th style = \"text-align: left;\">lost_std</th></tr><tr class = \"subheader headerLastRow\"><th class = \"rowNumber\" style = \"font-weight: bold; text-align: right;\"></th><th title = \"Int64\" style = \"text-align: left;\">Int64</th><th title = \"Int64\" style = \"text-align: left;\">Int64</th><th title = \"Int64\" style = \"text-align: left;\">Int64</th><th title = \"Int64\" style = \"text-align: left;\">Int64</th><th title = \"Float64\" style = \"text-align: left;\">Float64</th><th title = \"Float64\" style = \"text-align: left;\">Float64</th><th title = \"Float64\" style = \"text-align: left;\">Float64</th><th title = \"Float64\" style = \"text-align: left;\">Float64</th></tr></thead><tbody><tr><td class = \"rowNumber\" style = \"font-weight: bold; text-align: right;\">1</td><td style = \"text-align: right;\">90</td><td style = \"text-align: right;\">175</td><td style = \"text-align: right;\">1000</td><td style = \"text-align: right;\">100</td><td style = \"text-align: right;\">-507.847</td><td style = \"text-align: right;\">446.965</td><td style = \"text-align: right;\">1.49</td><td style = \"text-align: right;\">9.63002</td></tr><tr><td class = \"rowNumber\" style = \"font-weight: bold; text-align: right;\">2</td><td style = \"text-align: right;\">90</td><td style = \"text-align: right;\">200</td><td style = \"text-align: right;\">1000</td><td style = \"text-align: right;\">100</td><td style = \"text-align: right;\">-772.374</td><td style = \"text-align: right;\">332.434</td><td style = \"text-align: right;\">0.52</td><td style = \"text-align: right;\">5.2</td></tr><tr><td class = \"rowNumber\" style = \"font-weight: bold; text-align: right;\">3</td><td style = \"text-align: right;\">90</td><td style = \"text-align: right;\">225</td><td style = \"text-align: right;\">1000</td><td style = \"text-align: right;\">100</td><td style = \"text-align: right;\">-954.18</td><td style = \"text-align: right;\">197.85</td><td style = \"text-align: right;\">1.32</td><td style = \"text-align: right;\">7.08517</td></tr><tr><td class = \"rowNumber\" style = \"font-weight: bold; text-align: right;\">4</td><td style = \"text-align: right;\">90</td><td style = \"text-align: right;\">250</td><td style = \"text-align: right;\">1000</td><td style = \"text-align: right;\">100</td><td style = \"text-align: right;\">-1019.13</td><td style = \"text-align: right;\">171.746</td><td style = \"text-align: right;\">0.0</td><td style = \"text-align: right;\">0.0</td></tr></tbody></table></div>"
      ],
      "text/latex": [
       "\\begin{tabular}{r|cccccccc}\n",
       "\t& m & s & S & N & profit\\_mean & profit\\_std & lost\\_mean & lost\\_std\\\\\n",
       "\t\\hline\n",
       "\t& Int64 & Int64 & Int64 & Int64 & Float64 & Float64 & Float64 & Float64\\\\\n",
       "\t\\hline\n",
       "\t1 & 90 & 175 & 1000 & 100 & -507.847 & 446.965 & 1.49 & 9.63002 \\\\\n",
       "\t2 & 90 & 200 & 1000 & 100 & -772.374 & 332.434 & 0.52 & 5.2 \\\\\n",
       "\t3 & 90 & 225 & 1000 & 100 & -954.18 & 197.85 & 1.32 & 7.08517 \\\\\n",
       "\t4 & 90 & 250 & 1000 & 100 & -1019.13 & 171.746 & 0.0 & 0.0 \\\\\n",
       "\\end{tabular}\n"
      ],
      "text/plain": [
       "\u001b[1m4×8 DataFrame\u001b[0m\n",
       "\u001b[1m Row \u001b[0m│\u001b[1m m     \u001b[0m\u001b[1m s     \u001b[0m\u001b[1m S     \u001b[0m\u001b[1m N     \u001b[0m\u001b[1m profit_mean \u001b[0m\u001b[1m profit_std \u001b[0m\u001b[1m lost_mean \u001b[0m\u001b[1m lost_st\u001b[0m ⋯\n",
       "     │\u001b[90m Int64 \u001b[0m\u001b[90m Int64 \u001b[0m\u001b[90m Int64 \u001b[0m\u001b[90m Int64 \u001b[0m\u001b[90m Float64     \u001b[0m\u001b[90m Float64    \u001b[0m\u001b[90m Float64   \u001b[0m\u001b[90m Float64\u001b[0m ⋯\n",
       "─────┼──────────────────────────────────────────────────────────────────────────\n",
       "   1 │    90    175   1000    100     -507.847     446.965       1.49   9.6300 ⋯\n",
       "   2 │    90    200   1000    100     -772.374     332.434       0.52   5.2\n",
       "   3 │    90    225   1000    100     -954.18      197.85        1.32   7.0851\n",
       "   4 │    90    250   1000    100    -1019.13      171.746       0.0    0.0\n",
       "\u001b[36m                                                                1 column omitted\u001b[0m"
      ]
     },
     "execution_count": 82,
     "metadata": {},
     "output_type": "execute_result"
    }
   ],
   "source": [
    "df[findall(<=(-500), df.profit_mean),:]"
   ]
  },
  {
   "cell_type": "code",
   "execution_count": 83,
   "metadata": {},
   "outputs": [
    {
     "data": {
      "text/plain": [
       "1×86 adjoint(::Vector{Int64}) with eltype Int64:\n",
       " 1  2  3  4  5  6  7  8  9  10  11  12  …  80  81  83  84  85  86  87  88  89"
      ]
     },
     "execution_count": 83,
     "metadata": {},
     "output_type": "execute_result"
    }
   ],
   "source": [
    "more500 = findall(>(-500), df.profit_mean)'"
   ]
  },
  {
   "cell_type": "code",
   "execution_count": 84,
   "metadata": {},
   "outputs": [
    {
     "data": {
      "application/vnd.vegalite.v4+json": {
       "data": {
        "values": [
         {
          "N": 100,
          "S": 100,
          "lost_mean": 216.66,
          "lost_std": 86.9470081269173,
          "m": 90,
          "profit_mean": 2971.249,
          "profit_std": 187.95520554621308,
          "s": 25
         },
         {
          "N": 100,
          "S": 200,
          "lost_mean": 118.92,
          "lost_std": 62.04913009426116,
          "m": 90,
          "profit_mean": 3579.7960000000003,
          "profit_std": 143.17221100493074,
          "s": 25
         },
         {
          "N": 100,
          "S": 300,
          "lost_mean": 81.2,
          "lost_std": 61.18988495006359,
          "m": 90,
          "profit_mean": 3488.4050000000007,
          "profit_std": 233.74275784168026,
          "s": 25
         },
         {
          "N": 100,
          "S": 400,
          "lost_mean": 60.11,
          "lost_std": 45.893793731073295,
          "m": 90,
          "profit_mean": 3081.231,
          "profit_std": 179.82085119429956,
          "s": 25
         },
         {
          "N": 100,
          "S": 500,
          "lost_mean": 50.72,
          "lost_std": 46.57742115678112,
          "m": 90,
          "profit_mean": 2630.7940000000003,
          "profit_std": 167.02355959141173,
          "s": 25
         },
         {
          "N": 100,
          "S": 600,
          "lost_mean": 34.57,
          "lost_std": 38.67169638133426,
          "m": 90,
          "profit_mean": 2546.72,
          "profit_std": 258.4702663477147,
          "s": 25
         },
         {
          "N": 100,
          "S": 700,
          "lost_mean": 33.52,
          "lost_std": 31.946128897178628,
          "m": 90,
          "profit_mean": 1683.641,
          "profit_std": 168.93935442559678,
          "s": 25
         },
         {
          "N": 100,
          "S": 800,
          "lost_mean": 32.05,
          "lost_std": 34.9673368511908,
          "m": 90,
          "profit_mean": 1200.9729999999995,
          "profit_std": 281.1663826245624,
          "s": 25
         },
         {
          "N": 100,
          "S": 900,
          "lost_mean": 30.45,
          "lost_std": 37.83360031944242,
          "m": 90,
          "profit_mean": 1367.398,
          "profit_std": 302.58799637711195,
          "s": 25
         },
         {
          "N": 100,
          "S": 1000,
          "lost_mean": 24.22,
          "lost_std": 28.795194604711952,
          "m": 90,
          "profit_mean": 419.79099999999994,
          "profit_std": 221.17033158800362,
          "s": 25
         },
         {
          "N": 100,
          "S": 100,
          "lost_mean": 118.74,
          "lost_std": 73.54756861028683,
          "m": 90,
          "profit_mean": 2661.4039999999995,
          "profit_std": 141.7369971019379,
          "s": 50
         },
         {
          "N": 100,
          "S": 200,
          "lost_mean": 49.21,
          "lost_std": 49.32602218552054,
          "m": 90,
          "profit_mean": 3534.3150000000005,
          "profit_std": 159.41803592055612,
          "s": 50
         },
         {
          "N": 100,
          "S": 300,
          "lost_mean": 44.28,
          "lost_std": 55.60249976213282,
          "m": 90,
          "profit_mean": 3394.5560000000005,
          "profit_std": 188.26334141625162,
          "s": 50
         },
         {
          "N": 100,
          "S": 400,
          "lost_mean": 37.86,
          "lost_std": 48.17833454149198,
          "m": 90,
          "profit_mean": 3061.301,
          "profit_std": 190.8767143996355,
          "s": 50
         },
         {
          "N": 100,
          "S": 500,
          "lost_mean": 21.04,
          "lost_std": 31.871243490271315,
          "m": 90,
          "profit_mean": 2721.5890000000004,
          "profit_std": 214.69375882823894,
          "s": 50
         },
         {
          "N": 100,
          "S": 600,
          "lost_mean": 16.11,
          "lost_std": 27.825173908356856,
          "m": 90,
          "profit_mean": 2407.2490000000003,
          "profit_std": 282.0750023817901,
          "s": 50
         },
         {
          "N": 100,
          "S": 700,
          "lost_mean": 20.11,
          "lost_std": 29.26745184285331,
          "m": 90,
          "profit_mean": 1642.6039999999996,
          "profit_std": 171.262618893625,
          "s": 50
         },
         {
          "N": 100,
          "S": 800,
          "lost_mean": 18.19,
          "lost_std": 32.82481661576475,
          "m": 90,
          "profit_mean": 1014.0949999999997,
          "profit_std": 189.3099048538073,
          "s": 50
         },
         {
          "N": 100,
          "S": 900,
          "lost_mean": 13.63,
          "lost_std": 25.355912983608448,
          "m": 90,
          "profit_mean": 1231.521,
          "profit_std": 324.8279520660658,
          "s": 50
         },
         {
          "N": 100,
          "S": 1000,
          "lost_mean": 9.96,
          "lost_std": 26.49868302425994,
          "m": 90,
          "profit_mean": 435.7709999999998,
          "profit_std": 259.2438944840799,
          "s": 50
         },
         {
          "N": 100,
          "S": 100,
          "lost_mean": 74.03,
          "lost_std": 56.146355467859465,
          "m": 90,
          "profit_mean": 1855.157,
          "profit_std": 251.1118521172137,
          "s": 75
         },
         {
          "N": 100,
          "S": 200,
          "lost_mean": 24.44,
          "lost_std": 32.929468550067725,
          "m": 90,
          "profit_mean": 3346.4440000000004,
          "profit_std": 164.15197769694447,
          "s": 75
         },
         {
          "N": 100,
          "S": 300,
          "lost_mean": 14.97,
          "lost_std": 26.357853946147905,
          "m": 90,
          "profit_mean": 3300.2020000000007,
          "profit_std": 171.81134943285713,
          "s": 75
         },
         {
          "N": 100,
          "S": 400,
          "lost_mean": 6.17,
          "lost_std": 14.591442766916574,
          "m": 90,
          "profit_mean": 3035.6479999999997,
          "profit_std": 209.69590559723002,
          "s": 75
         },
         {
          "N": 100,
          "S": 500,
          "lost_mean": 7.34,
          "lost_std": 24.491276533954412,
          "m": 90,
          "profit_mean": 2687.4680000000003,
          "profit_std": 239.6288636600147,
          "s": 75
         },
         {
          "N": 100,
          "S": 600,
          "lost_mean": 9.68,
          "lost_std": 26.735849651089385,
          "m": 90,
          "profit_mean": 2028.0840000000003,
          "profit_std": 263.90170986313603,
          "s": 75
         },
         {
          "N": 100,
          "S": 700,
          "lost_mean": 7.85,
          "lost_std": 21.5417729028504,
          "m": 90,
          "profit_mean": 1678.705,
          "profit_std": 207.2270415327696,
          "s": 75
         },
         {
          "N": 100,
          "S": 800,
          "lost_mean": 11.43,
          "lost_std": 24.390449778633442,
          "m": 90,
          "profit_mean": 914.724,
          "profit_std": 153.53444592288884,
          "s": 75
         },
         {
          "N": 100,
          "S": 900,
          "lost_mean": 4.52,
          "lost_std": 15.272263100209486,
          "m": 90,
          "profit_mean": 682.4799999999997,
          "profit_std": 435.9574175294989,
          "s": 75
         },
         {
          "N": 100,
          "S": 1000,
          "lost_mean": 3.27,
          "lost_std": 14.687901294754278,
          "m": 90,
          "profit_mean": 439.6809999999997,
          "profit_std": 268.44414639988645,
          "s": 75
         },
         {
          "N": 100,
          "S": 200,
          "lost_mean": 20.08,
          "lost_std": 32.71909213133809,
          "m": 90,
          "profit_mean": 3020.23,
          "profit_std": 160.12806900992885,
          "s": 100
         },
         {
          "N": 100,
          "S": 300,
          "lost_mean": 5.76,
          "lost_std": 15.6276884555793,
          "m": 90,
          "profit_mean": 3120.251,
          "profit_std": 168.18128836635097,
          "s": 100
         },
         {
          "N": 100,
          "S": 400,
          "lost_mean": 6.26,
          "lost_std": 17.33486007262169,
          "m": 90,
          "profit_mean": 2795.2369999999996,
          "profit_std": 187.47999362894984,
          "s": 100
         },
         {
          "N": 100,
          "S": 500,
          "lost_mean": 5.26,
          "lost_std": 26.617993458515535,
          "m": 90,
          "profit_mean": 2386.138,
          "profit_std": 263.08043889520366,
          "s": 100
         },
         {
          "N": 100,
          "S": 600,
          "lost_mean": 2.97,
          "lost_std": 13.148303266500925,
          "m": 90,
          "profit_mean": 1828.5710000000001,
          "profit_std": 170.44090969001425,
          "s": 100
         },
         {
          "N": 100,
          "S": 700,
          "lost_mean": 0.49,
          "lost_std": 2.7135834893246518,
          "m": 90,
          "profit_mean": 1683.693,
          "profit_std": 251.01191378019482,
          "s": 100
         },
         {
          "N": 100,
          "S": 800,
          "lost_mean": 5.79,
          "lost_std": 19.27802695382292,
          "m": 90,
          "profit_mean": 814.0609999999998,
          "profit_std": 186.53830266898606,
          "s": 100
         },
         {
          "N": 100,
          "S": 900,
          "lost_mean": 2.51,
          "lost_std": 7.848946400374996,
          "m": 90,
          "profit_mean": 293.36999999999983,
          "profit_std": 355.2029320392681,
          "s": 100
         },
         {
          "N": 100,
          "S": 1000,
          "lost_mean": 2.53,
          "lost_std": 12.014683777054906,
          "m": 90,
          "profit_mean": 428.6849999999998,
          "profit_std": 255.33067344725794,
          "s": 100
         },
         {
          "N": 100,
          "S": 200,
          "lost_mean": 9.32,
          "lost_std": 21.774268940168533,
          "m": 90,
          "profit_mean": 2615.4799999999996,
          "profit_std": 187.355158870941,
          "s": 125
         },
         {
          "N": 100,
          "S": 300,
          "lost_mean": 2.89,
          "lost_std": 12.867541970541087,
          "m": 90,
          "profit_mean": 2913.112,
          "profit_std": 175.10721811034347,
          "s": 125
         },
         {
          "N": 100,
          "S": 400,
          "lost_mean": 4.37,
          "lost_std": 18.413683427650682,
          "m": 90,
          "profit_mean": 2680.0350000000008,
          "profit_std": 174.42341978268527,
          "s": 125
         },
         {
          "N": 100,
          "S": 500,
          "lost_mean": 3.27,
          "lost_std": 18.34619658929144,
          "m": 90,
          "profit_mean": 2227.969,
          "profit_std": 205.2709747375331,
          "s": 125
         },
         {
          "N": 100,
          "S": 600,
          "lost_mean": 0.92,
          "lost_std": 5.364831231400866,
          "m": 90,
          "profit_mean": 1771.845,
          "profit_std": 161.99935613726643,
          "s": 125
         },
         {
          "N": 100,
          "S": 700,
          "lost_mean": 0.75,
          "lost_std": 6.1272285164607085,
          "m": 90,
          "profit_mean": 1545.7620000000002,
          "profit_std": 273.75956743762646,
          "s": 125
         },
         {
          "N": 100,
          "S": 800,
          "lost_mean": 2.17,
          "lost_std": 11.349413725791825,
          "m": 90,
          "profit_mean": 722.4939999999998,
          "profit_std": 207.39437171288384,
          "s": 125
         },
         {
          "N": 100,
          "S": 900,
          "lost_mean": 1.94,
          "lost_std": 8.282658042103648,
          "m": 90,
          "profit_mean": 59.789999999999836,
          "profit_std": 220.4234160048163,
          "s": 125
         },
         {
          "N": 100,
          "S": 1000,
          "lost_mean": 1.12,
          "lost_std": 8.359691647689191,
          "m": 90,
          "profit_mean": 268.1569999999998,
          "profit_std": 409.5952826963107,
          "s": 125
         },
         {
          "N": 100,
          "S": 200,
          "lost_mean": 1.83,
          "lost_std": 7.363649457526704,
          "m": 90,
          "profit_mean": 1970.987,
          "profit_std": 248.1636767042137,
          "s": 150
         },
         {
          "N": 100,
          "S": 300,
          "lost_mean": 2.02,
          "lost_std": 8.678290573190507,
          "m": 90,
          "profit_mean": 2671.952,
          "profit_std": 166.81307961701663,
          "s": 150
         },
         {
          "N": 100,
          "S": 400,
          "lost_mean": 1.22,
          "lost_std": 6.331865858696413,
          "m": 90,
          "profit_mean": 2497.744,
          "profit_std": 185.28499223486705,
          "s": 150
         },
         {
          "N": 100,
          "S": 500,
          "lost_mean": 0.56,
          "lost_std": 3.30386978489703,
          "m": 90,
          "profit_mean": 2149.314,
          "profit_std": 210.26386982440738,
          "s": 150
         },
         {
          "N": 100,
          "S": 600,
          "lost_mean": 1.99,
          "lost_std": 10.519337652460095,
          "m": 90,
          "profit_mean": 1814.606,
          "profit_std": 190.31460281450927,
          "s": 150
         },
         {
          "N": 100,
          "S": 700,
          "lost_mean": 0.28,
          "lost_std": 1.9698741179080554,
          "m": 90,
          "profit_mean": 1134.7029999999995,
          "profit_std": 327.16855769224566,
          "s": 150
         },
         {
          "N": 100,
          "S": 800,
          "lost_mean": 1.81,
          "lost_std": 10.048061273376836,
          "m": 90,
          "profit_mean": 737.2569999999998,
          "profit_std": 205.53083833347395,
          "s": 150
         },
         {
          "N": 100,
          "S": 900,
          "lost_mean": 0.44,
          "lost_std": 3.2108402248469083,
          "m": 90,
          "profit_mean": -37.010000000000225,
          "profit_std": 181.72357657395006,
          "s": 150
         },
         {
          "N": 100,
          "S": 1000,
          "lost_mean": 1.6,
          "lost_std": 8.836334538755771,
          "m": 90,
          "profit_mean": -236.9160000000002,
          "profit_std": 504.6193942713135,
          "s": 150
         },
         {
          "N": 100,
          "S": 200,
          "lost_mean": 3.27,
          "lost_std": 12.657775986692645,
          "m": 90,
          "profit_mean": 1034.612,
          "profit_std": 341.1812309899212,
          "s": 175
         },
         {
          "N": 100,
          "S": 300,
          "lost_mean": 0.71,
          "lost_std": 3.7180830294846046,
          "m": 90,
          "profit_mean": 2395.3160000000003,
          "profit_std": 204.57018391118135,
          "s": 175
         },
         {
          "N": 100,
          "S": 400,
          "lost_mean": 1.75,
          "lost_std": 12.90632528348919,
          "m": 90,
          "profit_mean": 2297.704,
          "profit_std": 193.6575880206604,
          "s": 175
         },
         {
          "N": 100,
          "S": 500,
          "lost_mean": 0.36,
          "lost_std": 3.5999999999999996,
          "m": 90,
          "profit_mean": 1958.382,
          "profit_std": 253.70202213692272,
          "s": 175
         },
         {
          "N": 100,
          "S": 600,
          "lost_mean": 0.67,
          "lost_std": 4.290122552462986,
          "m": 90,
          "profit_mean": 1649.5899999999997,
          "profit_std": 249.80461192983236,
          "s": 175
         },
         {
          "N": 100,
          "S": 700,
          "lost_mean": 0.02,
          "lost_std": 0.19999999999999998,
          "m": 90,
          "profit_mean": 917.8089999999997,
          "profit_std": 235.50629625287615,
          "s": 175
         },
         {
          "N": 100,
          "S": 800,
          "lost_mean": 1.83,
          "lost_std": 11.84159336125563,
          "m": 90,
          "profit_mean": 725.9579999999999,
          "profit_std": 225.62798745552894,
          "s": 175
         },
         {
          "N": 100,
          "S": 900,
          "lost_mean": 1.06,
          "lost_std": 10.600000000000003,
          "m": 90,
          "profit_mean": -147.6150000000002,
          "profit_std": 192.0369200482453,
          "s": 175
         },
         {
          "N": 100,
          "S": 1000,
          "lost_mean": 1.49,
          "lost_std": 9.630019352383082,
          "m": 90,
          "profit_mean": -507.8470000000002,
          "profit_std": 446.96536585482477,
          "s": 175
         },
         {
          "N": 100,
          "S": 300,
          "lost_mean": 0.68,
          "lost_std": 6.5007847234162455,
          "m": 90,
          "profit_mean": 2051.976,
          "profit_std": 166.18719645829125,
          "s": 200
         },
         {
          "N": 100,
          "S": 400,
          "lost_mean": 0.82,
          "lost_std": 5.341622346528188,
          "m": 90,
          "profit_mean": 2142.9079999999994,
          "profit_std": 205.21167277332017,
          "s": 200
         },
         {
          "N": 100,
          "S": 500,
          "lost_mean": 0.79,
          "lost_std": 4.759456296933951,
          "m": 90,
          "profit_mean": 1773.4129999999998,
          "profit_std": 192.5260631208359,
          "s": 200
         },
         {
          "N": 100,
          "S": 600,
          "lost_mean": 1.25,
          "lost_std": 7.629521345379143,
          "m": 90,
          "profit_mean": 1365.214,
          "profit_std": 268.5887686979988,
          "s": 200
         },
         {
          "N": 100,
          "S": 700,
          "lost_mean": 0.72,
          "lost_std": 4.9991514431466415,
          "m": 90,
          "profit_mean": 807.732,
          "profit_std": 167.06069294502737,
          "s": 200
         },
         {
          "N": 100,
          "S": 800,
          "lost_mean": 0.33,
          "lost_std": 2.074642478631298,
          "m": 90,
          "profit_mean": 690.9069999999998,
          "profit_std": 228.549274688427,
          "s": 200
         },
         {
          "N": 100,
          "S": 900,
          "lost_mean": 0.38,
          "lost_std": 2.643001049083135,
          "m": 90,
          "profit_mean": -141.55000000000027,
          "profit_std": 207.4540837599657,
          "s": 200
         },
         {
          "N": 100,
          "S": 1000,
          "lost_mean": 0.52,
          "lost_std": 5.199999999999998,
          "m": 90,
          "profit_mean": -772.3740000000003,
          "profit_std": 332.43444546149686,
          "s": 200
         },
         {
          "N": 100,
          "S": 300,
          "lost_mean": 1.5,
          "lost_std": 7.6785152184257575,
          "m": 90,
          "profit_mean": 1663.1519999999998,
          "profit_std": 212.2201855801581,
          "s": 225
         },
         {
          "N": 100,
          "S": 400,
          "lost_mean": 0.7,
          "lost_std": 4.924685294770139,
          "m": 90,
          "profit_mean": 1930.973,
          "profit_std": 173.7541569039836,
          "s": 225
         },
         {
          "N": 100,
          "S": 500,
          "lost_mean": 1.65,
          "lost_std": 13.0580483328339,
          "m": 90,
          "profit_mean": 1677.326,
          "profit_std": 206.8589431169819,
          "s": 225
         },
         {
          "N": 100,
          "S": 600,
          "lost_mean": 2.13,
          "lost_std": 12.449214003017588,
          "m": 90,
          "profit_mean": 1233.0069999999998,
          "profit_std": 224.07148492065085,
          "s": 225
         },
         {
          "N": 100,
          "S": 700,
          "lost_mean": 0.93,
          "lost_std": 6.244601709080452,
          "m": 90,
          "profit_mean": 808.2299999999999,
          "profit_std": 207.0249545783837,
          "s": 225
         },
         {
          "N": 100,
          "S": 800,
          "lost_mean": 0.1,
          "lost_std": 1.0000000000000007,
          "m": 90,
          "profit_mean": 534.6999999999999,
          "profit_std": 304.10735478170074,
          "s": 225
         },
         {
          "N": 100,
          "S": 900,
          "lost_mean": 0.48,
          "lost_std": 4.071284015559898,
          "m": 90,
          "profit_mean": -243.1130000000002,
          "profit_std": 201.20523400977746,
          "s": 225
         },
         {
          "N": 100,
          "S": 1000,
          "lost_mean": 1.32,
          "lost_std": 7.085167320508104,
          "m": 90,
          "profit_mean": -954.1800000000002,
          "profit_std": 197.84985992086783,
          "s": 225
         },
         {
          "N": 100,
          "S": 300,
          "lost_mean": 0.4,
          "lost_std": 2.8141058827257948,
          "m": 90,
          "profit_mean": 1026.938,
          "profit_std": 254.7140614235278,
          "s": 250
         },
         {
          "N": 100,
          "S": 400,
          "lost_mean": 0.1,
          "lost_std": 1.0000000000000007,
          "m": 90,
          "profit_mean": 1651.1429999999998,
          "profit_std": 172.60763601622932,
          "s": 250
         },
         {
          "N": 100,
          "S": 500,
          "lost_mean": 0.21,
          "lost_std": 1.6714779040832046,
          "m": 90,
          "profit_mean": 1488.8509999999997,
          "profit_std": 226.5972819360552,
          "s": 250
         },
         {
          "N": 100,
          "S": 600,
          "lost_mean": 2.18,
          "lost_std": 13.832606771719133,
          "m": 90,
          "profit_mean": 1213.382,
          "profit_std": 196.7978249756625,
          "s": 250
         },
         {
          "N": 100,
          "S": 700,
          "lost_mean": 1.76,
          "lost_std": 15.115795471204054,
          "m": 90,
          "profit_mean": 799.0329999999999,
          "profit_std": 176.64162204127808,
          "s": 250
         },
         {
          "N": 100,
          "S": 800,
          "lost_mean": 0.03,
          "lost_std": 0.2999999999999999,
          "m": 90,
          "profit_mean": 168.5249999999998,
          "profit_std": 342.22972507107306,
          "s": 250
         },
         {
          "N": 100,
          "S": 900,
          "lost_mean": 0.96,
          "lost_std": 7.126448107315638,
          "m": 90,
          "profit_mean": -275.16500000000025,
          "profit_std": 195.89202672994028,
          "s": 250
         },
         {
          "N": 100,
          "S": 1000,
          "lost_mean": 0,
          "lost_std": 0,
          "m": 90,
          "profit_mean": -1019.1280000000002,
          "profit_std": 171.74590291380093,
          "s": 250
         }
        ]
       },
       "encoding": {
        "color": {
         "field": "profit_mean",
         "scale": {
          "scheme": "plasma"
         },
         "type": "quantitative"
        },
        "x": {
         "field": "S",
         "type": "quantitative"
        },
        "y": {
         "field": "s",
         "type": "quantitative"
        }
       },
       "mark": "point"
      },
      "image/png": "[encoded data removed]",
      "image/svg+xml": [
       "<?xml version=\"1.0\" encoding=\"utf-8\"?>\n",
       "<!DOCTYPE svg PUBLIC \"-//W3C//DTD SVG 1.1//EN\" \"http://www.w3.org/Graphics/SVG/1.1/DTD/svg11.dtd\">\n",
       "<svg xmlns=\"http://www.w3.org/2000/svg\" xmlns:xlink=\"http://www.w3.org/1999/xlink\" version=\"1.1\" class=\"marks\" width=\"332\" height=\"242\" viewBox=\"0 0 332 242\"><rect width=\"332\" height=\"242\" fill=\"white\"/><g fill=\"none\" stroke-miterlimit=\"10\" transform=\"translate(45,5)\"><g class=\"mark-group role-frame root\" role=\"graphics-object\" aria-roledescription=\"group mark container\"><g transform=\"translate(0,0)\"><path class=\"background\" aria-hidden=\"true\" d=\"M0.5,0.5h200v200h-200Z\" stroke=\"#ddd\"/><g><g class=\"mark-group role-axis\" aria-hidden=\"true\"><g transform=\"translate(0.5,200.5)\"><path class=\"background\" aria-hidden=\"true\" d=\"M0,0h0v0h0Z\" pointer-events=\"none\"/><g><g class=\"mark-rule role-axis-grid\" pointer-events=\"none\"><line transform=\"translate(0,-200)\" x2=\"0\" y2=\"200\" stroke=\"#ddd\" stroke-width=\"1\" opacity=\"1\"/><line transform=\"translate(40,-200)\" x2=\"0\" y2=\"200\" stroke=\"#ddd\" stroke-width=\"1\" opacity=\"1\"/><line transform=\"translate(80,-200)\" x2=\"0\" y2=\"200\" stroke=\"#ddd\" stroke-width=\"1\" opacity=\"1\"/><line transform=\"translate(120,-200)\" x2=\"0\" y2=\"200\" stroke=\"#ddd\" stroke-width=\"1\" opacity=\"1\"/><line transform=\"translate(160,-200)\" x2=\"0\" y2=\"200\" stroke=\"#ddd\" stroke-width=\"1\" opacity=\"1\"/><line transform=\"translate(200,-200)\" x2=\"0\" y2=\"200\" stroke=\"#ddd\" stroke-width=\"1\" opacity=\"1\"/></g></g><path class=\"foreground\" aria-hidden=\"true\" d=\"\" pointer-events=\"none\" display=\"none\"/></g></g><g class=\"mark-group role-axis\" aria-hidden=\"true\"><g transform=\"translate(0.5,0.5)\"><path class=\"background\" aria-hidden=\"true\" d=\"M0,0h0v0h0Z\" pointer-events=\"none\"/><g><g class=\"mark-rule role-axis-grid\" pointer-events=\"none\"><line transform=\"translate(0,200)\" x2=\"200\" y2=\"0\" stroke=\"#ddd\" stroke-width=\"1\" opacity=\"1\"/><line transform=\"translate(0,162)\" x2=\"200\" y2=\"0\" stroke=\"#ddd\" stroke-width=\"1\" opacity=\"1\"/><line transform=\"translate(0,123)\" x2=\"200\" y2=\"0\" stroke=\"#ddd\" stroke-width=\"1\" opacity=\"1\"/><line transform=\"translate(0,85)\" x2=\"200\" y2=\"0\" stroke=\"#ddd\" stroke-width=\"1\" opacity=\"1\"/><line transform=\"translate(0,46)\" x2=\"200\" y2=\"0\" stroke=\"#ddd\" stroke-width=\"1\" opacity=\"1\"/><line transform=\"translate(0,8)\" x2=\"200\" y2=\"0\" stroke=\"#ddd\" stroke-width=\"1\" opacity=\"1\"/></g></g><path class=\"foreground\" aria-hidden=\"true\" d=\"\" pointer-events=\"none\" display=\"none\"/></g></g><g class=\"mark-group role-axis\" role=\"graphics-symbol\" aria-roledescription=\"axis\" aria-label=\"X-axis titled 'S' for a linear scale with values from 0 to 1,000\"><g transform=\"translate(0.5,200.5)\"><path class=\"background\" aria-hidden=\"true\" d=\"M0,0h0v0h0Z\" pointer-events=\"none\"/><g><g class=\"mark-rule role-axis-tick\" pointer-events=\"none\"><line transform=\"translate(0,0)\" x2=\"0\" y2=\"5\" stroke=\"#888\" stroke-width=\"1\" opacity=\"1\"/><line transform=\"translate(40,0)\" x2=\"0\" y2=\"5\" stroke=\"#888\" stroke-width=\"1\" opacity=\"1\"/><line transform=\"translate(80,0)\" x2=\"0\" y2=\"5\" stroke=\"#888\" stroke-width=\"1\" opacity=\"1\"/><line transform=\"translate(120,0)\" x2=\"0\" y2=\"5\" stroke=\"#888\" stroke-width=\"1\" opacity=\"1\"/><line transform=\"translate(160,0)\" x2=\"0\" y2=\"5\" stroke=\"#888\" stroke-width=\"1\" opacity=\"1\"/><line transform=\"translate(200,0)\" x2=\"0\" y2=\"5\" stroke=\"#888\" stroke-width=\"1\" opacity=\"1\"/></g><g class=\"mark-text role-axis-label\" pointer-events=\"none\"><text text-anchor=\"start\" transform=\"translate(0,15)\" font-family=\"sans-serif\" font-size=\"10px\" fill=\"#000\" opacity=\"1\">0</text><text text-anchor=\"middle\" transform=\"translate(40,15)\" font-family=\"sans-serif\" font-size=\"10px\" fill=\"#000\" opacity=\"1\">200</text><text text-anchor=\"middle\" transform=\"translate(80,15)\" font-family=\"sans-serif\" font-size=\"10px\" fill=\"#000\" opacity=\"1\">400</text><text text-anchor=\"middle\" transform=\"translate(120,15)\" font-family=\"sans-serif\" font-size=\"10px\" fill=\"#000\" opacity=\"1\">600</text><text text-anchor=\"middle\" transform=\"translate(160,15)\" font-family=\"sans-serif\" font-size=\"10px\" fill=\"#000\" opacity=\"1\">800</text><text text-anchor=\"end\" transform=\"translate(200,15)\" font-family=\"sans-serif\" font-size=\"10px\" fill=\"#000\" opacity=\"1\">1,000</text></g><g class=\"mark-rule role-axis-domain\" pointer-events=\"none\"><line transform=\"translate(0,0)\" x2=\"200\" y2=\"0\" stroke=\"#888\" stroke-width=\"1\" opacity=\"1\"/></g><g class=\"mark-text role-axis-title\" pointer-events=\"none\"><text text-anchor=\"middle\" transform=\"translate(100,30)\" font-family=\"sans-serif\" font-size=\"11px\" font-weight=\"bold\" fill=\"#000\" opacity=\"1\">S</text></g></g><path class=\"foreground\" aria-hidden=\"true\" d=\"\" pointer-events=\"none\" display=\"none\"/></g></g><g class=\"mark-group role-axis\" role=\"graphics-symbol\" aria-roledescription=\"axis\" aria-label=\"Y-axis titled 's' for a linear scale with values from 0 to 260\"><g transform=\"translate(0.5,0.5)\"><path class=\"background\" aria-hidden=\"true\" d=\"M0,0h0v0h0Z\" pointer-events=\"none\"/><g><g class=\"mark-rule role-axis-tick\" pointer-events=\"none\"><line transform=\"translate(0,200)\" x2=\"-5\" y2=\"0\" stroke=\"#888\" stroke-width=\"1\" opacity=\"1\"/><line transform=\"translate(0,162)\" x2=\"-5\" y2=\"0\" stroke=\"#888\" stroke-width=\"1\" opacity=\"1\"/><line transform=\"translate(0,123)\" x2=\"-5\" y2=\"0\" stroke=\"#888\" stroke-width=\"1\" opacity=\"1\"/><line transform=\"translate(0,85)\" x2=\"-5\" y2=\"0\" stroke=\"#888\" stroke-width=\"1\" opacity=\"1\"/><line transform=\"translate(0,46)\" x2=\"-5\" y2=\"0\" stroke=\"#888\" stroke-width=\"1\" opacity=\"1\"/><line transform=\"translate(0,8)\" x2=\"-5\" y2=\"0\" stroke=\"#888\" stroke-width=\"1\" opacity=\"1\"/></g><g class=\"mark-text role-axis-label\" pointer-events=\"none\"><text text-anchor=\"end\" transform=\"translate(-7,203)\" font-family=\"sans-serif\" font-size=\"10px\" fill=\"#000\" opacity=\"1\">0</text><text text-anchor=\"end\" transform=\"translate(-7,164.53846153846155)\" font-family=\"sans-serif\" font-size=\"10px\" fill=\"#000\" opacity=\"1\">50</text><text text-anchor=\"end\" transform=\"translate(-7,126.07692307692308)\" font-family=\"sans-serif\" font-size=\"10px\" fill=\"#000\" opacity=\"1\">100</text><text text-anchor=\"end\" transform=\"translate(-7,87.61538461538463)\" font-family=\"sans-serif\" font-size=\"10px\" fill=\"#000\" opacity=\"1\">150</text><text text-anchor=\"end\" transform=\"translate(-7,49.153846153846146)\" font-family=\"sans-serif\" font-size=\"10px\" fill=\"#000\" opacity=\"1\">200</text><text text-anchor=\"end\" transform=\"translate(-7,10.692307692307686)\" font-family=\"sans-serif\" font-size=\"10px\" fill=\"#000\" opacity=\"1\">250</text></g><g class=\"mark-rule role-axis-domain\" pointer-events=\"none\"><line transform=\"translate(0,200)\" x2=\"0\" y2=\"-200\" stroke=\"#888\" stroke-width=\"1\" opacity=\"1\"/></g><g class=\"mark-text role-axis-title\" pointer-events=\"none\"><text text-anchor=\"middle\" transform=\"translate(-29,100) rotate(-90) translate(0,-2)\" font-family=\"sans-serif\" font-size=\"11px\" font-weight=\"bold\" fill=\"#000\" opacity=\"1\">s</text></g></g><path class=\"foreground\" aria-hidden=\"true\" d=\"\" pointer-events=\"none\" display=\"none\"/></g></g><g class=\"mark-symbol role-mark marks\" role=\"graphics-object\" aria-roledescription=\"symbol mark container\"><path aria-label=\"S: 100; s: 25; profit_mean: 2971.249\" role=\"graphics-symbol\" aria-roledescription=\"point\" transform=\"translate(20,180.76923076923077)\" d=\"M2.7386127875258306,0A2.7386127875258306,2.7386127875258306,0,1,1,-2.7386127875258306,0A2.7386127875258306,2.7386127875258306,0,1,1,2.7386127875258306,0\" stroke=\"rgb(254, 192, 41)\" stroke-width=\"2\" opacity=\"0.7\"/><path aria-label=\"S: 200; s: 25; profit_mean: 3579.796\" role=\"graphics-symbol\" aria-roledescription=\"point\" transform=\"translate(40,180.76923076923077)\" d=\"M2.7386127875258306,0A2.7386127875258306,2.7386127875258306,0,1,1,-2.7386127875258306,0A2.7386127875258306,2.7386127875258306,0,1,1,2.7386127875258306,0\" stroke=\"rgb(240, 249, 33)\" stroke-width=\"2\" opacity=\"0.7\"/><path aria-label=\"S: 300; s: 25; profit_mean: 3488.405\" role=\"graphics-symbol\" aria-roledescription=\"point\" transform=\"translate(60,180.76923076923077)\" d=\"M2.7386127875258306,0A2.7386127875258306,2.7386127875258306,0,1,1,-2.7386127875258306,0A2.7386127875258306,2.7386127875258306,0,1,1,2.7386127875258306,0\" stroke=\"rgb(243, 240, 37)\" stroke-width=\"2\" opacity=\"0.7\"/><path aria-label=\"S: 400; s: 25; profit_mean: 3081.231\" role=\"graphics-symbol\" aria-roledescription=\"point\" transform=\"translate(80,180.76923076923077)\" d=\"M2.7386127875258306,0A2.7386127875258306,2.7386127875258306,0,1,1,-2.7386127875258306,0A2.7386127875258306,2.7386127875258306,0,1,1,2.7386127875258306,0\" stroke=\"rgb(253, 202, 38)\" stroke-width=\"2\" opacity=\"0.7\"/><path aria-label=\"S: 500; s: 25; profit_mean: 2630.794\" role=\"graphics-symbol\" aria-roledescription=\"point\" transform=\"translate(100,180.76923076923077)\" d=\"M2.7386127875258306,0A2.7386127875258306,2.7386127875258306,0,1,1,-2.7386127875258306,0A2.7386127875258306,2.7386127875258306,0,1,1,2.7386127875258306,0\" stroke=\"rgb(252, 164, 55)\" stroke-width=\"2\" opacity=\"0.7\"/><path aria-label=\"S: 600; s: 25; profit_mean: 2546.72\" role=\"graphics-symbol\" aria-roledescription=\"point\" transform=\"translate(120,180.76923076923077)\" d=\"M2.7386127875258306,0A2.7386127875258306,2.7386127875258306,0,1,1,-2.7386127875258306,0A2.7386127875258306,2.7386127875258306,0,1,1,2.7386127875258306,0\" stroke=\"rgb(251, 157, 59)\" stroke-width=\"2\" opacity=\"0.7\"/><path aria-label=\"S: 700; s: 25; profit_mean: 1683.641\" role=\"graphics-symbol\" aria-roledescription=\"point\" transform=\"translate(140,180.76923076923077)\" d=\"M2.7386127875258306,0A2.7386127875258306,2.7386127875258306,0,1,1,-2.7386127875258306,0A2.7386127875258306,2.7386127875258306,0,1,1,2.7386127875258306,0\" stroke=\"rgb(222, 96, 101)\" stroke-width=\"2\" opacity=\"0.7\"/><path aria-label=\"S: 800; s: 25; profit_mean: 1200.973\" role=\"graphics-symbol\" aria-roledescription=\"point\" transform=\"translate(160,180.76923076923077)\" d=\"M2.7386127875258306,0A2.7386127875258306,2.7386127875258306,0,1,1,-2.7386127875258306,0A2.7386127875258306,2.7386127875258306,0,1,1,2.7386127875258306,0\" stroke=\"rgb(199, 66, 125)\" stroke-width=\"2\" opacity=\"0.7\"/><path aria-label=\"S: 900; s: 25; profit_mean: 1367.398\" role=\"graphics-symbol\" aria-roledescription=\"point\" transform=\"translate(180,180.76923076923077)\" d=\"M2.7386127875258306,0A2.7386127875258306,2.7386127875258306,0,1,1,-2.7386127875258306,0A2.7386127875258306,2.7386127875258306,0,1,1,2.7386127875258306,0\" stroke=\"rgb(208, 77, 116)\" stroke-width=\"2\" opacity=\"0.7\"/><path aria-label=\"S: 1000; s: 25; profit_mean: 419.791\" role=\"graphics-symbol\" aria-roledescription=\"point\" transform=\"translate(200,180.76923076923077)\" d=\"M2.7386127875258306,0A2.7386127875258306,2.7386127875258306,0,1,1,-2.7386127875258306,0A2.7386127875258306,2.7386127875258306,0,1,1,2.7386127875258306,0\" stroke=\"rgb(149, 17, 162)\" stroke-width=\"2\" opacity=\"0.7\"/><path aria-label=\"S: 100; s: 50; profit_mean: 2661.404\" role=\"graphics-symbol\" aria-roledescription=\"point\" transform=\"translate(20,161.53846153846155)\" d=\"M2.7386127875258306,0A2.7386127875258306,2.7386127875258306,0,1,1,-2.7386127875258306,0A2.7386127875258306,2.7386127875258306,0,1,1,2.7386127875258306,0\" stroke=\"rgb(252, 166, 54)\" stroke-width=\"2\" opacity=\"0.7\"/><path aria-label=\"S: 200; s: 50; profit_mean: 3534.315\" role=\"graphics-symbol\" aria-roledescription=\"point\" transform=\"translate(40,161.53846153846155)\" d=\"M2.7386127875258306,0A2.7386127875258306,2.7386127875258306,0,1,1,-2.7386127875258306,0A2.7386127875258306,2.7386127875258306,0,1,1,2.7386127875258306,0\" stroke=\"rgb(241, 245, 35)\" stroke-width=\"2\" opacity=\"0.7\"/><path aria-label=\"S: 300; s: 50; profit_mean: 3394.556\" role=\"graphics-symbol\" aria-roledescription=\"point\" transform=\"translate(60,161.53846153846155)\" d=\"M2.7386127875258306,0A2.7386127875258306,2.7386127875258306,0,1,1,-2.7386127875258306,0A2.7386127875258306,2.7386127875258306,0,1,1,2.7386127875258306,0\" stroke=\"rgb(246, 231, 38)\" stroke-width=\"2\" opacity=\"0.7\"/><path aria-label=\"S: 400; s: 50; profit_mean: 3061.301\" role=\"graphics-symbol\" aria-roledescription=\"point\" transform=\"translate(80,161.53846153846155)\" d=\"M2.7386127875258306,0A2.7386127875258306,2.7386127875258306,0,1,1,-2.7386127875258306,0A2.7386127875258306,2.7386127875258306,0,1,1,2.7386127875258306,0\" stroke=\"rgb(253, 201, 39)\" stroke-width=\"2\" opacity=\"0.7\"/><path aria-label=\"S: 500; s: 50; profit_mean: 2721.589\" role=\"graphics-symbol\" aria-roledescription=\"point\" transform=\"translate(100,161.53846153846155)\" d=\"M2.7386127875258306,0A2.7386127875258306,2.7386127875258306,0,1,1,-2.7386127875258306,0A2.7386127875258306,2.7386127875258306,0,1,1,2.7386127875258306,0\" stroke=\"rgb(252, 171, 51)\" stroke-width=\"2\" opacity=\"0.7\"/><path aria-label=\"S: 600; s: 50; profit_mean: 2407.249\" role=\"graphics-symbol\" aria-roledescription=\"point\" transform=\"translate(120,161.53846153846155)\" d=\"M2.7386127875258306,0A2.7386127875258306,2.7386127875258306,0,1,1,-2.7386127875258306,0A2.7386127875258306,2.7386127875258306,0,1,1,2.7386127875258306,0\" stroke=\"rgb(247, 147, 66)\" stroke-width=\"2\" opacity=\"0.7\"/><path aria-label=\"S: 700; s: 50; profit_mean: 1642.604\" role=\"graphics-symbol\" aria-roledescription=\"point\" transform=\"translate(140,161.53846153846155)\" d=\"M2.7386127875258306,0A2.7386127875258306,2.7386127875258306,0,1,1,-2.7386127875258306,0A2.7386127875258306,2.7386127875258306,0,1,1,2.7386127875258306,0\" stroke=\"rgb(221, 94, 102)\" stroke-width=\"2\" opacity=\"0.7\"/><path aria-label=\"S: 800; s: 50; profit_mean: 1014.095\" role=\"graphics-symbol\" aria-roledescription=\"point\" transform=\"translate(160,161.53846153846155)\" d=\"M2.7386127875258306,0A2.7386127875258306,2.7386127875258306,0,1,1,-2.7386127875258306,0A2.7386127875258306,2.7386127875258306,0,1,1,2.7386127875258306,0\" stroke=\"rgb(188, 54, 134)\" stroke-width=\"2\" opacity=\"0.7\"/><path aria-label=\"S: 900; s: 50; profit_mean: 1231.521\" role=\"graphics-symbol\" aria-roledescription=\"point\" transform=\"translate(180,161.53846153846155)\" d=\"M2.7386127875258306,0A2.7386127875258306,2.7386127875258306,0,1,1,-2.7386127875258306,0A2.7386127875258306,2.7386127875258306,0,1,1,2.7386127875258306,0\" stroke=\"rgb(200, 68, 123)\" stroke-width=\"2\" opacity=\"0.7\"/><path aria-label=\"S: 1000; s: 50; profit_mean: 435.771\" role=\"graphics-symbol\" aria-roledescription=\"point\" transform=\"translate(200,161.53846153846155)\" d=\"M2.7386127875258306,0A2.7386127875258306,2.7386127875258306,0,1,1,-2.7386127875258306,0A2.7386127875258306,2.7386127875258306,0,1,1,2.7386127875258306,0\" stroke=\"rgb(150, 18, 161)\" stroke-width=\"2\" opacity=\"0.7\"/><path aria-label=\"S: 100; s: 75; profit_mean: 1855.157\" role=\"graphics-symbol\" aria-roledescription=\"point\" transform=\"translate(20,142.30769230769232)\" d=\"M2.7386127875258306,0A2.7386127875258306,2.7386127875258306,0,1,1,-2.7386127875258306,0A2.7386127875258306,2.7386127875258306,0,1,1,2.7386127875258306,0\" stroke=\"rgb(229, 107, 93)\" stroke-width=\"2\" opacity=\"0.7\"/><path aria-label=\"S: 200; s: 75; profit_mean: 3346.444\" role=\"graphics-symbol\" aria-roledescription=\"point\" transform=\"translate(40,142.30769230769232)\" d=\"M2.7386127875258306,0A2.7386127875258306,2.7386127875258306,0,1,1,-2.7386127875258306,0A2.7386127875258306,2.7386127875258306,0,1,1,2.7386127875258306,0\" stroke=\"rgb(247, 227, 37)\" stroke-width=\"2\" opacity=\"0.7\"/><path aria-label=\"S: 300; s: 75; profit_mean: 3300.202\" role=\"graphics-symbol\" aria-roledescription=\"point\" transform=\"translate(60,142.30769230769232)\" d=\"M2.7386127875258306,0A2.7386127875258306,2.7386127875258306,0,1,1,-2.7386127875258306,0A2.7386127875258306,2.7386127875258306,0,1,1,2.7386127875258306,0\" stroke=\"rgb(248, 222, 37)\" stroke-width=\"2\" opacity=\"0.7\"/><path aria-label=\"S: 400; s: 75; profit_mean: 3035.648\" role=\"graphics-symbol\" aria-roledescription=\"point\" transform=\"translate(80,142.30769230769232)\" d=\"M2.7386127875258306,0A2.7386127875258306,2.7386127875258306,0,1,1,-2.7386127875258306,0A2.7386127875258306,2.7386127875258306,0,1,1,2.7386127875258306,0\" stroke=\"rgb(253, 198, 39)\" stroke-width=\"2\" opacity=\"0.7\"/><path aria-label=\"S: 500; s: 75; profit_mean: 2687.468\" role=\"graphics-symbol\" aria-roledescription=\"point\" transform=\"translate(100,142.30769230769232)\" d=\"M2.7386127875258306,0A2.7386127875258306,2.7386127875258306,0,1,1,-2.7386127875258306,0A2.7386127875258306,2.7386127875258306,0,1,1,2.7386127875258306,0\" stroke=\"rgb(252, 168, 53)\" stroke-width=\"2\" opacity=\"0.7\"/><path aria-label=\"S: 600; s: 75; profit_mean: 2028.084\" role=\"graphics-symbol\" aria-roledescription=\"point\" transform=\"translate(120,142.30769230769232)\" d=\"M2.7386127875258306,0A2.7386127875258306,2.7386127875258306,0,1,1,-2.7386127875258306,0A2.7386127875258306,2.7386127875258306,0,1,1,2.7386127875258306,0\" stroke=\"rgb(236, 120, 84)\" stroke-width=\"2\" opacity=\"0.7\"/><path aria-label=\"S: 700; s: 75; profit_mean: 1678.705\" role=\"graphics-symbol\" aria-roledescription=\"point\" transform=\"translate(140,142.30769230769232)\" d=\"M2.7386127875258306,0A2.7386127875258306,2.7386127875258306,0,1,1,-2.7386127875258306,0A2.7386127875258306,2.7386127875258306,0,1,1,2.7386127875258306,0\" stroke=\"rgb(222, 96, 101)\" stroke-width=\"2\" opacity=\"0.7\"/><path aria-label=\"S: 800; s: 75; profit_mean: 914.724\" role=\"graphics-symbol\" aria-roledescription=\"point\" transform=\"translate(160,142.30769230769232)\" d=\"M2.7386127875258306,0A2.7386127875258306,2.7386127875258306,0,1,1,-2.7386127875258306,0A2.7386127875258306,2.7386127875258306,0,1,1,2.7386127875258306,0\" stroke=\"rgb(183, 48, 139)\" stroke-width=\"2\" opacity=\"0.7\"/><path aria-label=\"S: 900; s: 75; profit_mean: 682.48\" role=\"graphics-symbol\" aria-roledescription=\"point\" transform=\"translate(180,142.30769230769232)\" d=\"M2.7386127875258306,0A2.7386127875258306,2.7386127875258306,0,1,1,-2.7386127875258306,0A2.7386127875258306,2.7386127875258306,0,1,1,2.7386127875258306,0\" stroke=\"rgb(168, 34, 151)\" stroke-width=\"2\" opacity=\"0.7\"/><path aria-label=\"S: 1000; s: 75; profit_mean: 439.681\" role=\"graphics-symbol\" aria-roledescription=\"point\" transform=\"translate(200,142.30769230769232)\" d=\"M2.7386127875258306,0A2.7386127875258306,2.7386127875258306,0,1,1,-2.7386127875258306,0A2.7386127875258306,2.7386127875258306,0,1,1,2.7386127875258306,0\" stroke=\"rgb(150, 18, 161)\" stroke-width=\"2\" opacity=\"0.7\"/><path aria-label=\"S: 200; s: 100; profit_mean: 3020.23\" role=\"graphics-symbol\" aria-roledescription=\"point\" transform=\"translate(40,123.07692307692308)\" d=\"M2.7386127875258306,0A2.7386127875258306,2.7386127875258306,0,1,1,-2.7386127875258306,0A2.7386127875258306,2.7386127875258306,0,1,1,2.7386127875258306,0\" stroke=\"rgb(253, 197, 40)\" stroke-width=\"2\" opacity=\"0.7\"/><path aria-label=\"S: 300; s: 100; profit_mean: 3120.251\" role=\"graphics-symbol\" aria-roledescription=\"point\" transform=\"translate(60,123.07692307692308)\" d=\"M2.7386127875258306,0A2.7386127875258306,2.7386127875258306,0,1,1,-2.7386127875258306,0A2.7386127875258306,2.7386127875258306,0,1,1,2.7386127875258306,0\" stroke=\"rgb(252, 206, 37)\" stroke-width=\"2\" opacity=\"0.7\"/><path aria-label=\"S: 400; s: 100; profit_mean: 2795.237\" role=\"graphics-symbol\" aria-roledescription=\"point\" transform=\"translate(80,123.07692307692308)\" d=\"M2.7386127875258306,0A2.7386127875258306,2.7386127875258306,0,1,1,-2.7386127875258306,0A2.7386127875258306,2.7386127875258306,0,1,1,2.7386127875258306,0\" stroke=\"rgb(253, 177, 48)\" stroke-width=\"2\" opacity=\"0.7\"/><path aria-label=\"S: 500; s: 100; profit_mean: 2386.138\" role=\"graphics-symbol\" aria-roledescription=\"point\" transform=\"translate(100,123.07692307692308)\" d=\"M2.7386127875258306,0A2.7386127875258306,2.7386127875258306,0,1,1,-2.7386127875258306,0A2.7386127875258306,2.7386127875258306,0,1,1,2.7386127875258306,0\" stroke=\"rgb(247, 145, 67)\" stroke-width=\"2\" opacity=\"0.7\"/><path aria-label=\"S: 600; s: 100; profit_mean: 1828.571\" role=\"graphics-symbol\" aria-roledescription=\"point\" transform=\"translate(120,123.07692307692308)\" d=\"M2.7386127875258306,0A2.7386127875258306,2.7386127875258306,0,1,1,-2.7386127875258306,0A2.7386127875258306,2.7386127875258306,0,1,1,2.7386127875258306,0\" stroke=\"rgb(228, 106, 94)\" stroke-width=\"2\" opacity=\"0.7\"/><path aria-label=\"S: 700; s: 100; profit_mean: 1683.693\" role=\"graphics-symbol\" aria-roledescription=\"point\" transform=\"translate(140,123.07692307692308)\" d=\"M2.7386127875258306,0A2.7386127875258306,2.7386127875258306,0,1,1,-2.7386127875258306,0A2.7386127875258306,2.7386127875258306,0,1,1,2.7386127875258306,0\" stroke=\"rgb(222, 96, 101)\" stroke-width=\"2\" opacity=\"0.7\"/><path aria-label=\"S: 800; s: 100; profit_mean: 814.061\" role=\"graphics-symbol\" aria-roledescription=\"point\" transform=\"translate(160,123.07692307692308)\" d=\"M2.7386127875258306,0A2.7386127875258306,2.7386127875258306,0,1,1,-2.7386127875258306,0A2.7386127875258306,2.7386127875258306,0,1,1,2.7386127875258306,0\" stroke=\"rgb(177, 42, 144)\" stroke-width=\"2\" opacity=\"0.7\"/><path aria-label=\"S: 900; s: 100; profit_mean: 293.37\" role=\"graphics-symbol\" aria-roledescription=\"point\" transform=\"translate(180,123.07692307692308)\" d=\"M2.7386127875258306,0A2.7386127875258306,2.7386127875258306,0,1,1,-2.7386127875258306,0A2.7386127875258306,2.7386127875258306,0,1,1,2.7386127875258306,0\" stroke=\"rgb(139, 9, 165)\" stroke-width=\"2\" opacity=\"0.7\"/><path aria-label=\"S: 1000; s: 100; profit_mean: 428.685\" role=\"graphics-symbol\" aria-roledescription=\"point\" transform=\"translate(200,123.07692307692308)\" d=\"M2.7386127875258306,0A2.7386127875258306,2.7386127875258306,0,1,1,-2.7386127875258306,0A2.7386127875258306,2.7386127875258306,0,1,1,2.7386127875258306,0\" stroke=\"rgb(149, 17, 161)\" stroke-width=\"2\" opacity=\"0.7\"/><path aria-label=\"S: 200; s: 125; profit_mean: 2615.48\" role=\"graphics-symbol\" aria-roledescription=\"point\" transform=\"translate(40,103.84615384615384)\" d=\"M2.7386127875258306,0A2.7386127875258306,2.7386127875258306,0,1,1,-2.7386127875258306,0A2.7386127875258306,2.7386127875258306,0,1,1,2.7386127875258306,0\" stroke=\"rgb(251, 163, 56)\" stroke-width=\"2\" opacity=\"0.7\"/><path aria-label=\"S: 300; s: 125; profit_mean: 2913.112\" role=\"graphics-symbol\" aria-roledescription=\"point\" transform=\"translate(60,103.84615384615384)\" d=\"M2.7386127875258306,0A2.7386127875258306,2.7386127875258306,0,1,1,-2.7386127875258306,0A2.7386127875258306,2.7386127875258306,0,1,1,2.7386127875258306,0\" stroke=\"rgb(254, 187, 43)\" stroke-width=\"2\" opacity=\"0.7\"/><path aria-label=\"S: 400; s: 125; profit_mean: 2680.035\" role=\"graphics-symbol\" aria-roledescription=\"point\" transform=\"translate(80,103.84615384615384)\" d=\"M2.7386127875258306,0A2.7386127875258306,2.7386127875258306,0,1,1,-2.7386127875258306,0A2.7386127875258306,2.7386127875258306,0,1,1,2.7386127875258306,0\" stroke=\"rgb(252, 168, 53)\" stroke-width=\"2\" opacity=\"0.7\"/><path aria-label=\"S: 500; s: 125; profit_mean: 2227.969\" role=\"graphics-symbol\" aria-roledescription=\"point\" transform=\"translate(100,103.84615384615384)\" d=\"M2.7386127875258306,0A2.7386127875258306,2.7386127875258306,0,1,1,-2.7386127875258306,0A2.7386127875258306,2.7386127875258306,0,1,1,2.7386127875258306,0\" stroke=\"rgb(243, 133, 75)\" stroke-width=\"2\" opacity=\"0.7\"/><path aria-label=\"S: 600; s: 125; profit_mean: 1771.845\" role=\"graphics-symbol\" aria-roledescription=\"point\" transform=\"translate(120,103.84615384615384)\" d=\"M2.7386127875258306,0A2.7386127875258306,2.7386127875258306,0,1,1,-2.7386127875258306,0A2.7386127875258306,2.7386127875258306,0,1,1,2.7386127875258306,0\" stroke=\"rgb(226, 102, 97)\" stroke-width=\"2\" opacity=\"0.7\"/><path aria-label=\"S: 700; s: 125; profit_mean: 1545.762\" role=\"graphics-symbol\" aria-roledescription=\"point\" transform=\"translate(140,103.84615384615384)\" d=\"M2.7386127875258306,0A2.7386127875258306,2.7386127875258306,0,1,1,-2.7386127875258306,0A2.7386127875258306,2.7386127875258306,0,1,1,2.7386127875258306,0\" stroke=\"rgb(216, 88, 107)\" stroke-width=\"2\" opacity=\"0.7\"/><path aria-label=\"S: 800; s: 125; profit_mean: 722.494\" role=\"graphics-symbol\" aria-roledescription=\"point\" transform=\"translate(160,103.84615384615384)\" d=\"M2.7386127875258306,0A2.7386127875258306,2.7386127875258306,0,1,1,-2.7386127875258306,0A2.7386127875258306,2.7386127875258306,0,1,1,2.7386127875258306,0\" stroke=\"rgb(171, 36, 149)\" stroke-width=\"2\" opacity=\"0.7\"/><path aria-label=\"S: 900; s: 125; profit_mean: 59.79\" role=\"graphics-symbol\" aria-roledescription=\"point\" transform=\"translate(180,103.84615384615384)\" d=\"M2.7386127875258306,0A2.7386127875258306,2.7386127875258306,0,1,1,-2.7386127875258306,0A2.7386127875258306,2.7386127875258306,0,1,1,2.7386127875258306,0\" stroke=\"rgb(120, 1, 168)\" stroke-width=\"2\" opacity=\"0.7\"/><path aria-label=\"S: 1000; s: 125; profit_mean: 268.157\" role=\"graphics-symbol\" aria-roledescription=\"point\" transform=\"translate(200,103.84615384615384)\" d=\"M2.7386127875258306,0A2.7386127875258306,2.7386127875258306,0,1,1,-2.7386127875258306,0A2.7386127875258306,2.7386127875258306,0,1,1,2.7386127875258306,0\" stroke=\"rgb(137, 8, 166)\" stroke-width=\"2\" opacity=\"0.7\"/><path aria-label=\"S: 200; s: 150; profit_mean: 1970.987\" role=\"graphics-symbol\" aria-roledescription=\"point\" transform=\"translate(40,84.61538461538463)\" d=\"M2.7386127875258306,0A2.7386127875258306,2.7386127875258306,0,1,1,-2.7386127875258306,0A2.7386127875258306,2.7386127875258306,0,1,1,2.7386127875258306,0\" stroke=\"rgb(234, 116, 87)\" stroke-width=\"2\" opacity=\"0.7\"/><path aria-label=\"S: 300; s: 150; profit_mean: 2671.952\" role=\"graphics-symbol\" aria-roledescription=\"point\" transform=\"translate(60,84.61538461538463)\" d=\"M2.7386127875258306,0A2.7386127875258306,2.7386127875258306,0,1,1,-2.7386127875258306,0A2.7386127875258306,2.7386127875258306,0,1,1,2.7386127875258306,0\" stroke=\"rgb(252, 167, 53)\" stroke-width=\"2\" opacity=\"0.7\"/><path aria-label=\"S: 400; s: 150; profit_mean: 2497.744\" role=\"graphics-symbol\" aria-roledescription=\"point\" transform=\"translate(80,84.61538461538463)\" d=\"M2.7386127875258306,0A2.7386127875258306,2.7386127875258306,0,1,1,-2.7386127875258306,0A2.7386127875258306,2.7386127875258306,0,1,1,2.7386127875258306,0\" stroke=\"rgb(250, 153, 61)\" stroke-width=\"2\" opacity=\"0.7\"/><path aria-label=\"S: 500; s: 150; profit_mean: 2149.314\" role=\"graphics-symbol\" aria-roledescription=\"point\" transform=\"translate(100,84.61538461538463)\" d=\"M2.7386127875258306,0A2.7386127875258306,2.7386127875258306,0,1,1,-2.7386127875258306,0A2.7386127875258306,2.7386127875258306,0,1,1,2.7386127875258306,0\" stroke=\"rgb(240, 128, 78)\" stroke-width=\"2\" opacity=\"0.7\"/><path aria-label=\"S: 600; s: 150; profit_mean: 1814.606\" role=\"graphics-symbol\" aria-roledescription=\"point\" transform=\"translate(120,84.61538461538463)\" d=\"M2.7386127875258306,0A2.7386127875258306,2.7386127875258306,0,1,1,-2.7386127875258306,0A2.7386127875258306,2.7386127875258306,0,1,1,2.7386127875258306,0\" stroke=\"rgb(228, 105, 95)\" stroke-width=\"2\" opacity=\"0.7\"/><path aria-label=\"S: 700; s: 150; profit_mean: 1134.703\" role=\"graphics-symbol\" aria-roledescription=\"point\" transform=\"translate(140,84.61538461538463)\" d=\"M2.7386127875258306,0A2.7386127875258306,2.7386127875258306,0,1,1,-2.7386127875258306,0A2.7386127875258306,2.7386127875258306,0,1,1,2.7386127875258306,0\" stroke=\"rgb(195, 62, 128)\" stroke-width=\"2\" opacity=\"0.7\"/><path aria-label=\"S: 800; s: 150; profit_mean: 737.257\" role=\"graphics-symbol\" aria-roledescription=\"point\" transform=\"translate(160,84.61538461538463)\" d=\"M2.7386127875258306,0A2.7386127875258306,2.7386127875258306,0,1,1,-2.7386127875258306,0A2.7386127875258306,2.7386127875258306,0,1,1,2.7386127875258306,0\" stroke=\"rgb(172, 37, 148)\" stroke-width=\"2\" opacity=\"0.7\"/><path aria-label=\"S: 900; s: 150; profit_mean: −37.01\" role=\"graphics-symbol\" aria-roledescription=\"point\" transform=\"translate(180,84.61538461538463)\" d=\"M2.7386127875258306,0A2.7386127875258306,2.7386127875258306,0,1,1,-2.7386127875258306,0A2.7386127875258306,2.7386127875258306,0,1,1,2.7386127875258306,0\" stroke=\"rgb(112, 0, 168)\" stroke-width=\"2\" opacity=\"0.7\"/><path aria-label=\"S: 1000; s: 150; profit_mean: −236.916\" role=\"graphics-symbol\" aria-roledescription=\"point\" transform=\"translate(200,84.61538461538463)\" d=\"M2.7386127875258306,0A2.7386127875258306,2.7386127875258306,0,1,1,-2.7386127875258306,0A2.7386127875258306,2.7386127875258306,0,1,1,2.7386127875258306,0\" stroke=\"rgb(94, 1, 166)\" stroke-width=\"2\" opacity=\"0.7\"/><path aria-label=\"S: 200; s: 175; profit_mean: 1034.612\" role=\"graphics-symbol\" aria-roledescription=\"point\" transform=\"translate(40,65.38461538461537)\" d=\"M2.7386127875258306,0A2.7386127875258306,2.7386127875258306,0,1,1,-2.7386127875258306,0A2.7386127875258306,2.7386127875258306,0,1,1,2.7386127875258306,0\" stroke=\"rgb(190, 56, 133)\" stroke-width=\"2\" opacity=\"0.7\"/><path aria-label=\"S: 300; s: 175; profit_mean: 2395.316\" role=\"graphics-symbol\" aria-roledescription=\"point\" transform=\"translate(60,65.38461538461537)\" d=\"M2.7386127875258306,0A2.7386127875258306,2.7386127875258306,0,1,1,-2.7386127875258306,0A2.7386127875258306,2.7386127875258306,0,1,1,2.7386127875258306,0\" stroke=\"rgb(247, 146, 66)\" stroke-width=\"2\" opacity=\"0.7\"/><path aria-label=\"S: 400; s: 175; profit_mean: 2297.704\" role=\"graphics-symbol\" aria-roledescription=\"point\" transform=\"translate(80,65.38461538461537)\" d=\"M2.7386127875258306,0A2.7386127875258306,2.7386127875258306,0,1,1,-2.7386127875258306,0A2.7386127875258306,2.7386127875258306,0,1,1,2.7386127875258306,0\" stroke=\"rgb(245, 139, 71)\" stroke-width=\"2\" opacity=\"0.7\"/><path aria-label=\"S: 500; s: 175; profit_mean: 1958.382\" role=\"graphics-symbol\" aria-roledescription=\"point\" transform=\"translate(100,65.38461538461537)\" d=\"M2.7386127875258306,0A2.7386127875258306,2.7386127875258306,0,1,1,-2.7386127875258306,0A2.7386127875258306,2.7386127875258306,0,1,1,2.7386127875258306,0\" stroke=\"rgb(234, 115, 88)\" stroke-width=\"2\" opacity=\"0.7\"/><path aria-label=\"S: 600; s: 175; profit_mean: 1649.59\" role=\"graphics-symbol\" aria-roledescription=\"point\" transform=\"translate(120,65.38461538461537)\" d=\"M2.7386127875258306,0A2.7386127875258306,2.7386127875258306,0,1,1,-2.7386127875258306,0A2.7386127875258306,2.7386127875258306,0,1,1,2.7386127875258306,0\" stroke=\"rgb(221, 94, 102)\" stroke-width=\"2\" opacity=\"0.7\"/><path aria-label=\"S: 700; s: 175; profit_mean: 917.809\" role=\"graphics-symbol\" aria-roledescription=\"point\" transform=\"translate(140,65.38461538461537)\" d=\"M2.7386127875258306,0A2.7386127875258306,2.7386127875258306,0,1,1,-2.7386127875258306,0A2.7386127875258306,2.7386127875258306,0,1,1,2.7386127875258306,0\" stroke=\"rgb(183, 48, 139)\" stroke-width=\"2\" opacity=\"0.7\"/><path aria-label=\"S: 800; s: 175; profit_mean: 725.958\" role=\"graphics-symbol\" aria-roledescription=\"point\" transform=\"translate(160,65.38461538461537)\" d=\"M2.7386127875258306,0A2.7386127875258306,2.7386127875258306,0,1,1,-2.7386127875258306,0A2.7386127875258306,2.7386127875258306,0,1,1,2.7386127875258306,0\" stroke=\"rgb(171, 36, 149)\" stroke-width=\"2\" opacity=\"0.7\"/><path aria-label=\"S: 900; s: 175; profit_mean: −147.615\" role=\"graphics-symbol\" aria-roledescription=\"point\" transform=\"translate(180,65.38461538461537)\" d=\"M2.7386127875258306,0A2.7386127875258306,2.7386127875258306,0,1,1,-2.7386127875258306,0A2.7386127875258306,2.7386127875258306,0,1,1,2.7386127875258306,0\" stroke=\"rgb(102, 0, 167)\" stroke-width=\"2\" opacity=\"0.7\"/><path aria-label=\"S: 1000; s: 175; profit_mean: −507.847\" role=\"graphics-symbol\" aria-roledescription=\"point\" transform=\"translate(200,65.38461538461537)\" d=\"M2.7386127875258306,0A2.7386127875258306,2.7386127875258306,0,1,1,-2.7386127875258306,0A2.7386127875258306,2.7386127875258306,0,1,1,2.7386127875258306,0\" stroke=\"rgb(71, 3, 159)\" stroke-width=\"2\" opacity=\"0.7\"/><path aria-label=\"S: 300; s: 200; profit_mean: 2051.976\" role=\"graphics-symbol\" aria-roledescription=\"point\" transform=\"translate(60,46.153846153846146)\" d=\"M2.7386127875258306,0A2.7386127875258306,2.7386127875258306,0,1,1,-2.7386127875258306,0A2.7386127875258306,2.7386127875258306,0,1,1,2.7386127875258306,0\" stroke=\"rgb(237, 121, 83)\" stroke-width=\"2\" opacity=\"0.7\"/><path aria-label=\"S: 400; s: 200; profit_mean: 2142.908\" role=\"graphics-symbol\" aria-roledescription=\"point\" transform=\"translate(80,46.153846153846146)\" d=\"M2.7386127875258306,0A2.7386127875258306,2.7386127875258306,0,1,1,-2.7386127875258306,0A2.7386127875258306,2.7386127875258306,0,1,1,2.7386127875258306,0\" stroke=\"rgb(240, 127, 79)\" stroke-width=\"2\" opacity=\"0.7\"/><path aria-label=\"S: 500; s: 200; profit_mean: 1773.413\" role=\"graphics-symbol\" aria-roledescription=\"point\" transform=\"translate(100,46.153846153846146)\" d=\"M2.7386127875258306,0A2.7386127875258306,2.7386127875258306,0,1,1,-2.7386127875258306,0A2.7386127875258306,2.7386127875258306,0,1,1,2.7386127875258306,0\" stroke=\"rgb(226, 102, 96)\" stroke-width=\"2\" opacity=\"0.7\"/><path aria-label=\"S: 600; s: 200; profit_mean: 1365.214\" role=\"graphics-symbol\" aria-roledescription=\"point\" transform=\"translate(120,46.153846153846146)\" d=\"M2.7386127875258306,0A2.7386127875258306,2.7386127875258306,0,1,1,-2.7386127875258306,0A2.7386127875258306,2.7386127875258306,0,1,1,2.7386127875258306,0\" stroke=\"rgb(207, 77, 117)\" stroke-width=\"2\" opacity=\"0.7\"/><path aria-label=\"S: 700; s: 200; profit_mean: 807.732\" role=\"graphics-symbol\" aria-roledescription=\"point\" transform=\"translate(140,46.153846153846146)\" d=\"M2.7386127875258306,0A2.7386127875258306,2.7386127875258306,0,1,1,-2.7386127875258306,0A2.7386127875258306,2.7386127875258306,0,1,1,2.7386127875258306,0\" stroke=\"rgb(176, 41, 145)\" stroke-width=\"2\" opacity=\"0.7\"/><path aria-label=\"S: 800; s: 200; profit_mean: 690.907\" role=\"graphics-symbol\" aria-roledescription=\"point\" transform=\"translate(160,46.153846153846146)\" d=\"M2.7386127875258306,0A2.7386127875258306,2.7386127875258306,0,1,1,-2.7386127875258306,0A2.7386127875258306,2.7386127875258306,0,1,1,2.7386127875258306,0\" stroke=\"rgb(169, 34, 151)\" stroke-width=\"2\" opacity=\"0.7\"/><path aria-label=\"S: 900; s: 200; profit_mean: −141.55\" role=\"graphics-symbol\" aria-roledescription=\"point\" transform=\"translate(180,46.153846153846146)\" d=\"M2.7386127875258306,0A2.7386127875258306,2.7386127875258306,0,1,1,-2.7386127875258306,0A2.7386127875258306,2.7386127875258306,0,1,1,2.7386127875258306,0\" stroke=\"rgb(102, 0, 167)\" stroke-width=\"2\" opacity=\"0.7\"/><path aria-label=\"S: 1000; s: 200; profit_mean: −772.374\" role=\"graphics-symbol\" aria-roledescription=\"point\" transform=\"translate(200,46.153846153846146)\" d=\"M2.7386127875258306,0A2.7386127875258306,2.7386127875258306,0,1,1,-2.7386127875258306,0A2.7386127875258306,2.7386127875258306,0,1,1,2.7386127875258306,0\" stroke=\"rgb(45, 5, 148)\" stroke-width=\"2\" opacity=\"0.7\"/><path aria-label=\"S: 300; s: 225; profit_mean: 1663.152\" role=\"graphics-symbol\" aria-roledescription=\"point\" transform=\"translate(60,26.923076923076916)\" d=\"M2.7386127875258306,0A2.7386127875258306,2.7386127875258306,0,1,1,-2.7386127875258306,0A2.7386127875258306,2.7386127875258306,0,1,1,2.7386127875258306,0\" stroke=\"rgb(221, 95, 102)\" stroke-width=\"2\" opacity=\"0.7\"/><path aria-label=\"S: 400; s: 225; profit_mean: 1930.973\" role=\"graphics-symbol\" aria-roledescription=\"point\" transform=\"translate(80,26.923076923076916)\" d=\"M2.7386127875258306,0A2.7386127875258306,2.7386127875258306,0,1,1,-2.7386127875258306,0A2.7386127875258306,2.7386127875258306,0,1,1,2.7386127875258306,0\" stroke=\"rgb(232, 113, 89)\" stroke-width=\"2\" opacity=\"0.7\"/><path aria-label=\"S: 500; s: 225; profit_mean: 1677.326\" role=\"graphics-symbol\" aria-roledescription=\"point\" transform=\"translate(100,26.923076923076916)\" d=\"M2.7386127875258306,0A2.7386127875258306,2.7386127875258306,0,1,1,-2.7386127875258306,0A2.7386127875258306,2.7386127875258306,0,1,1,2.7386127875258306,0\" stroke=\"rgb(222, 96, 101)\" stroke-width=\"2\" opacity=\"0.7\"/><path aria-label=\"S: 600; s: 225; profit_mean: 1233.007\" role=\"graphics-symbol\" aria-roledescription=\"point\" transform=\"translate(120,26.923076923076916)\" d=\"M2.7386127875258306,0A2.7386127875258306,2.7386127875258306,0,1,1,-2.7386127875258306,0A2.7386127875258306,2.7386127875258306,0,1,1,2.7386127875258306,0\" stroke=\"rgb(201, 68, 123)\" stroke-width=\"2\" opacity=\"0.7\"/><path aria-label=\"S: 700; s: 225; profit_mean: 808.23\" role=\"graphics-symbol\" aria-roledescription=\"point\" transform=\"translate(140,26.923076923076916)\" d=\"M2.7386127875258306,0A2.7386127875258306,2.7386127875258306,0,1,1,-2.7386127875258306,0A2.7386127875258306,2.7386127875258306,0,1,1,2.7386127875258306,0\" stroke=\"rgb(176, 41, 145)\" stroke-width=\"2\" opacity=\"0.7\"/><path aria-label=\"S: 800; s: 225; profit_mean: 534.7\" role=\"graphics-symbol\" aria-roledescription=\"point\" transform=\"translate(160,26.923076923076916)\" d=\"M2.7386127875258306,0A2.7386127875258306,2.7386127875258306,0,1,1,-2.7386127875258306,0A2.7386127875258306,2.7386127875258306,0,1,1,2.7386127875258306,0\" stroke=\"rgb(157, 24, 157)\" stroke-width=\"2\" opacity=\"0.7\"/><path aria-label=\"S: 900; s: 225; profit_mean: −243.113\" role=\"graphics-symbol\" aria-roledescription=\"point\" transform=\"translate(180,26.923076923076916)\" d=\"M2.7386127875258306,0A2.7386127875258306,2.7386127875258306,0,1,1,-2.7386127875258306,0A2.7386127875258306,2.7386127875258306,0,1,1,2.7386127875258306,0\" stroke=\"rgb(94, 1, 166)\" stroke-width=\"2\" opacity=\"0.7\"/><path aria-label=\"S: 1000; s: 225; profit_mean: −954.18\" role=\"graphics-symbol\" aria-roledescription=\"point\" transform=\"translate(200,26.923076923076916)\" d=\"M2.7386127875258306,0A2.7386127875258306,2.7386127875258306,0,1,1,-2.7386127875258306,0A2.7386127875258306,2.7386127875258306,0,1,1,2.7386127875258306,0\" stroke=\"rgb(22, 7, 139)\" stroke-width=\"2\" opacity=\"0.7\"/><path aria-label=\"S: 300; s: 250; profit_mean: 1026.938\" role=\"graphics-symbol\" aria-roledescription=\"point\" transform=\"translate(60,7.692307692307687)\" d=\"M2.7386127875258306,0A2.7386127875258306,2.7386127875258306,0,1,1,-2.7386127875258306,0A2.7386127875258306,2.7386127875258306,0,1,1,2.7386127875258306,0\" stroke=\"rgb(189, 55, 133)\" stroke-width=\"2\" opacity=\"0.7\"/><path aria-label=\"S: 400; s: 250; profit_mean: 1651.143\" role=\"graphics-symbol\" aria-roledescription=\"point\" transform=\"translate(80,7.692307692307687)\" d=\"M2.7386127875258306,0A2.7386127875258306,2.7386127875258306,0,1,1,-2.7386127875258306,0A2.7386127875258306,2.7386127875258306,0,1,1,2.7386127875258306,0\" stroke=\"rgb(221, 94, 102)\" stroke-width=\"2\" opacity=\"0.7\"/><path aria-label=\"S: 500; s: 250; profit_mean: 1488.851\" role=\"graphics-symbol\" aria-roledescription=\"point\" transform=\"translate(100,7.692307692307687)\" d=\"M2.7386127875258306,0A2.7386127875258306,2.7386127875258306,0,1,1,-2.7386127875258306,0A2.7386127875258306,2.7386127875258306,0,1,1,2.7386127875258306,0\" stroke=\"rgb(214, 84, 110)\" stroke-width=\"2\" opacity=\"0.7\"/><path aria-label=\"S: 600; s: 250; profit_mean: 1213.382\" role=\"graphics-symbol\" aria-roledescription=\"point\" transform=\"translate(120,7.692307692307687)\" d=\"M2.7386127875258306,0A2.7386127875258306,2.7386127875258306,0,1,1,-2.7386127875258306,0A2.7386127875258306,2.7386127875258306,0,1,1,2.7386127875258306,0\" stroke=\"rgb(200, 67, 124)\" stroke-width=\"2\" opacity=\"0.7\"/><path aria-label=\"S: 700; s: 250; profit_mean: 799.033\" role=\"graphics-symbol\" aria-roledescription=\"point\" transform=\"translate(140,7.692307692307687)\" d=\"M2.7386127875258306,0A2.7386127875258306,2.7386127875258306,0,1,1,-2.7386127875258306,0A2.7386127875258306,2.7386127875258306,0,1,1,2.7386127875258306,0\" stroke=\"rgb(176, 41, 145)\" stroke-width=\"2\" opacity=\"0.7\"/><path aria-label=\"S: 800; s: 250; profit_mean: 168.525\" role=\"graphics-symbol\" aria-roledescription=\"point\" transform=\"translate(160,7.692307692307687)\" d=\"M2.7386127875258306,0A2.7386127875258306,2.7386127875258306,0,1,1,-2.7386127875258306,0A2.7386127875258306,2.7386127875258306,0,1,1,2.7386127875258306,0\" stroke=\"rgb(129, 4, 167)\" stroke-width=\"2\" opacity=\"0.7\"/><path aria-label=\"S: 900; s: 250; profit_mean: −275.165\" role=\"graphics-symbol\" aria-roledescription=\"point\" transform=\"translate(180,7.692307692307687)\" d=\"M2.7386127875258306,0A2.7386127875258306,2.7386127875258306,0,1,1,-2.7386127875258306,0A2.7386127875258306,2.7386127875258306,0,1,1,2.7386127875258306,0\" stroke=\"rgb(91, 1, 165)\" stroke-width=\"2\" opacity=\"0.7\"/><path aria-label=\"S: 1000; s: 250; profit_mean: −1019.128\" role=\"graphics-symbol\" aria-roledescription=\"point\" transform=\"translate(200,7.692307692307687)\" d=\"M2.7386127875258306,0A2.7386127875258306,2.7386127875258306,0,1,1,-2.7386127875258306,0A2.7386127875258306,2.7386127875258306,0,1,1,2.7386127875258306,0\" stroke=\"rgb(13, 8, 135)\" stroke-width=\"2\" opacity=\"0.7\"/></g><g class=\"mark-group role-legend\" role=\"graphics-symbol\" aria-roledescription=\"legend\" aria-label=\"Gradient legend titled 'profit_mean' for stroke color with values from −1,019 to 3,580\"><g transform=\"translate(218,0)\"><path class=\"background\" aria-hidden=\"true\" d=\"M0,0h64v221h-64Z\" pointer-events=\"none\"/><g><g class=\"mark-group role-legend-entry\"><g transform=\"translate(0,16)\"><path class=\"background\" aria-hidden=\"true\" d=\"M0,0h0v0h0Z\" pointer-events=\"none\"/><g><g class=\"mark-rect role-legend-gradient\" pointer-events=\"none\"><path d=\"M0,0h16v200h-16Z\" fill=\"url(#gradient_0)\" stroke=\"#ddd\" stroke-width=\"0\" opacity=\"0.7\"/></g><g class=\"mark-text role-legend-label\" pointer-events=\"none\"><text text-anchor=\"start\" transform=\"translate(18,202.16815324628107)\" font-family=\"sans-serif\" font-size=\"10px\" fill=\"#000\" opacity=\"1\">−1,000</text><text text-anchor=\"start\" transform=\"translate(18,158.67971986490755)\" font-family=\"sans-serif\" font-size=\"10px\" fill=\"#000\" opacity=\"1\">0</text><text text-anchor=\"start\" transform=\"translate(18,115.19128648353399)\" font-family=\"sans-serif\" font-size=\"10px\" fill=\"#000\" opacity=\"1\">1,000</text><text text-anchor=\"start\" transform=\"translate(18,71.70285310216045)\" font-family=\"sans-serif\" font-size=\"10px\" fill=\"#000\" opacity=\"1\">2,000</text><text text-anchor=\"start\" transform=\"translate(18,28.214419720786886)\" font-family=\"sans-serif\" font-size=\"10px\" fill=\"#000\" opacity=\"1\">3,000</text></g></g><path class=\"foreground\" aria-hidden=\"true\" d=\"\" pointer-events=\"none\" display=\"none\"/></g></g><g class=\"mark-text role-legend-title\" pointer-events=\"none\"><text text-anchor=\"start\" transform=\"translate(0,9)\" font-family=\"sans-serif\" font-size=\"11px\" font-weight=\"bold\" fill=\"#000\" opacity=\"1\">profit_mean</text></g></g><path class=\"foreground\" aria-hidden=\"true\" d=\"\" pointer-events=\"none\" display=\"none\"/></g></g></g><path class=\"foreground\" aria-hidden=\"true\" d=\"\" display=\"none\"/></g></g></g><defs><linearGradient id=\"gradient_0\" x1=\"0\" x2=\"0\" y1=\"1\" y2=\"0\"><stop offset=\"0\" stop-color=\"rgb(13, 8, 135)\"/><stop offset=\"0.0041592337685946\" stop-color=\"rgb(16, 8, 136)\"/><stop offset=\"0.04764766714996815\" stop-color=\"rgb(42, 6, 147)\"/><stop offset=\"0.09113610053134169\" stop-color=\"rgb(62, 4, 155)\"/><stop offset=\"0.13462453391271526\" stop-color=\"rgb(81, 2, 162)\"/><stop offset=\"0.1781129672940888\" stop-color=\"rgb(97, 1, 167)\"/><stop offset=\"0.22160140067546233\" stop-color=\"rgb(115, 1, 168)\"/><stop offset=\"0.2650898340568359\" stop-color=\"rgb(131, 5, 167)\"/><stop offset=\"0.30857826743820943\" stop-color=\"rgb(147, 16, 162)\"/><stop offset=\"0.35206670081958297\" stop-color=\"rgb(162, 29, 155)\"/><stop offset=\"0.3955551342009565\" stop-color=\"rgb(176, 41, 145)\"/><stop offset=\"0.4390435675823301\" stop-color=\"rgb(188, 54, 135)\"/><stop offset=\"0.48253200096370363\" stop-color=\"rgb(199, 66, 125)\"/><stop offset=\"0.5260204343450772\" stop-color=\"rgb(209, 79, 115)\"/><stop offset=\"0.5695088677264507\" stop-color=\"rgb(219, 91, 104)\"/><stop offset=\"0.6129973011078242\" stop-color=\"rgb(227, 104, 95)\"/><stop offset=\"0.6564857344891978\" stop-color=\"rgb(235, 118, 85)\"/><stop offset=\"0.6999741678705713\" stop-color=\"rgb(242, 131, 76)\"/><stop offset=\"0.743462601251945\" stop-color=\"rgb(247, 146, 66)\"/><stop offset=\"0.7869510346333185\" stop-color=\"rgb(251, 161, 57)\"/><stop offset=\"0.830439468014692\" stop-color=\"rgb(253, 178, 48)\"/><stop offset=\"0.8739279013960656\" stop-color=\"rgb(254, 195, 40)\"/><stop offset=\"0.9174163347774392\" stop-color=\"rgb(250, 213, 36)\"/><stop offset=\"0.9609047681588128\" stop-color=\"rgb(246, 232, 38)\"/><stop offset=\"1\" stop-color=\"rgb(240, 249, 33)\"/></linearGradient></defs></svg>\n"
      ],
      "text/plain": [
       "@vlplot(\n",
       "    mark=\"point\",\n",
       "    encoding={\n",
       "        x={\n",
       "            field=\"S\"\n",
       "        },\n",
       "        y={\n",
       "            field=\"s\"\n",
       "        },\n",
       "        color={\n",
       "            scale={\n",
       "                scheme=\"plasma\"\n",
       "            },\n",
       "            field=\"profit_mean\"\n",
       "        }\n",
       "    },\n",
       "    data={\n",
       "        values=...\n",
       "    }\n",
       ")"
      ]
     },
     "execution_count": 84,
     "metadata": {},
     "output_type": "execute_result"
    }
   ],
   "source": [
    "# using PyPlot\n",
    "# using PyCall \n",
    "\n",
    "using VegaLite\n",
    "df |> @vlplot(:point, x=:S, y=:s, color={:profit_mean, scale={scheme=:plasma}})\n",
    "\n",
    "# scatter(df.S[more500],\n",
    "#         df.s[more500], \n",
    "#         c=df.profit_mean[more500] )\n",
    "# xlabel(\"S - target wharehouse stock \")\n",
    "# ylabel(\"s - reorder point\")\n",
    "# colorbar()\n",
    "# title(\"Profits\")\n",
    "\n",
    "# scatter(df.S[Not(more500)],\n",
    "#         df.s[Not(more500)], \n",
    "#         c=\"gray\")\n",
    "# show()"
   ]
  },
  {
   "cell_type": "code",
   "execution_count": 85,
   "metadata": {},
   "outputs": [
    {
     "data": {
      "application/vnd.vegalite.v4+json": {
       "data": {
        "values": [
         {
          "N": 100,
          "S": 100,
          "lost_mean": 216.66,
          "lost_std": 86.9470081269173,
          "m": 90,
          "profit_mean": 2971.249,
          "profit_std": 187.95520554621308,
          "s": 25
         },
         {
          "N": 100,
          "S": 200,
          "lost_mean": 118.92,
          "lost_std": 62.04913009426116,
          "m": 90,
          "profit_mean": 3579.7960000000003,
          "profit_std": 143.17221100493074,
          "s": 25
         },
         {
          "N": 100,
          "S": 300,
          "lost_mean": 81.2,
          "lost_std": 61.18988495006359,
          "m": 90,
          "profit_mean": 3488.4050000000007,
          "profit_std": 233.74275784168026,
          "s": 25
         },
         {
          "N": 100,
          "S": 400,
          "lost_mean": 60.11,
          "lost_std": 45.893793731073295,
          "m": 90,
          "profit_mean": 3081.231,
          "profit_std": 179.82085119429956,
          "s": 25
         },
         {
          "N": 100,
          "S": 500,
          "lost_mean": 50.72,
          "lost_std": 46.57742115678112,
          "m": 90,
          "profit_mean": 2630.7940000000003,
          "profit_std": 167.02355959141173,
          "s": 25
         },
         {
          "N": 100,
          "S": 600,
          "lost_mean": 34.57,
          "lost_std": 38.67169638133426,
          "m": 90,
          "profit_mean": 2546.72,
          "profit_std": 258.4702663477147,
          "s": 25
         },
         {
          "N": 100,
          "S": 700,
          "lost_mean": 33.52,
          "lost_std": 31.946128897178628,
          "m": 90,
          "profit_mean": 1683.641,
          "profit_std": 168.93935442559678,
          "s": 25
         },
         {
          "N": 100,
          "S": 800,
          "lost_mean": 32.05,
          "lost_std": 34.9673368511908,
          "m": 90,
          "profit_mean": 1200.9729999999995,
          "profit_std": 281.1663826245624,
          "s": 25
         },
         {
          "N": 100,
          "S": 900,
          "lost_mean": 30.45,
          "lost_std": 37.83360031944242,
          "m": 90,
          "profit_mean": 1367.398,
          "profit_std": 302.58799637711195,
          "s": 25
         },
         {
          "N": 100,
          "S": 1000,
          "lost_mean": 24.22,
          "lost_std": 28.795194604711952,
          "m": 90,
          "profit_mean": 419.79099999999994,
          "profit_std": 221.17033158800362,
          "s": 25
         },
         {
          "N": 100,
          "S": 100,
          "lost_mean": 118.74,
          "lost_std": 73.54756861028683,
          "m": 90,
          "profit_mean": 2661.4039999999995,
          "profit_std": 141.7369971019379,
          "s": 50
         },
         {
          "N": 100,
          "S": 200,
          "lost_mean": 49.21,
          "lost_std": 49.32602218552054,
          "m": 90,
          "profit_mean": 3534.3150000000005,
          "profit_std": 159.41803592055612,
          "s": 50
         },
         {
          "N": 100,
          "S": 300,
          "lost_mean": 44.28,
          "lost_std": 55.60249976213282,
          "m": 90,
          "profit_mean": 3394.5560000000005,
          "profit_std": 188.26334141625162,
          "s": 50
         },
         {
          "N": 100,
          "S": 400,
          "lost_mean": 37.86,
          "lost_std": 48.17833454149198,
          "m": 90,
          "profit_mean": 3061.301,
          "profit_std": 190.8767143996355,
          "s": 50
         },
         {
          "N": 100,
          "S": 500,
          "lost_mean": 21.04,
          "lost_std": 31.871243490271315,
          "m": 90,
          "profit_mean": 2721.5890000000004,
          "profit_std": 214.69375882823894,
          "s": 50
         },
         {
          "N": 100,
          "S": 600,
          "lost_mean": 16.11,
          "lost_std": 27.825173908356856,
          "m": 90,
          "profit_mean": 2407.2490000000003,
          "profit_std": 282.0750023817901,
          "s": 50
         },
         {
          "N": 100,
          "S": 700,
          "lost_mean": 20.11,
          "lost_std": 29.26745184285331,
          "m": 90,
          "profit_mean": 1642.6039999999996,
          "profit_std": 171.262618893625,
          "s": 50
         },
         {
          "N": 100,
          "S": 800,
          "lost_mean": 18.19,
          "lost_std": 32.82481661576475,
          "m": 90,
          "profit_mean": 1014.0949999999997,
          "profit_std": 189.3099048538073,
          "s": 50
         },
         {
          "N": 100,
          "S": 900,
          "lost_mean": 13.63,
          "lost_std": 25.355912983608448,
          "m": 90,
          "profit_mean": 1231.521,
          "profit_std": 324.8279520660658,
          "s": 50
         },
         {
          "N": 100,
          "S": 1000,
          "lost_mean": 9.96,
          "lost_std": 26.49868302425994,
          "m": 90,
          "profit_mean": 435.7709999999998,
          "profit_std": 259.2438944840799,
          "s": 50
         },
         {
          "N": 100,
          "S": 100,
          "lost_mean": 74.03,
          "lost_std": 56.146355467859465,
          "m": 90,
          "profit_mean": 1855.157,
          "profit_std": 251.1118521172137,
          "s": 75
         },
         {
          "N": 100,
          "S": 200,
          "lost_mean": 24.44,
          "lost_std": 32.929468550067725,
          "m": 90,
          "profit_mean": 3346.4440000000004,
          "profit_std": 164.15197769694447,
          "s": 75
         },
         {
          "N": 100,
          "S": 300,
          "lost_mean": 14.97,
          "lost_std": 26.357853946147905,
          "m": 90,
          "profit_mean": 3300.2020000000007,
          "profit_std": 171.81134943285713,
          "s": 75
         },
         {
          "N": 100,
          "S": 400,
          "lost_mean": 6.17,
          "lost_std": 14.591442766916574,
          "m": 90,
          "profit_mean": 3035.6479999999997,
          "profit_std": 209.69590559723002,
          "s": 75
         },
         {
          "N": 100,
          "S": 500,
          "lost_mean": 7.34,
          "lost_std": 24.491276533954412,
          "m": 90,
          "profit_mean": 2687.4680000000003,
          "profit_std": 239.6288636600147,
          "s": 75
         },
         {
          "N": 100,
          "S": 600,
          "lost_mean": 9.68,
          "lost_std": 26.735849651089385,
          "m": 90,
          "profit_mean": 2028.0840000000003,
          "profit_std": 263.90170986313603,
          "s": 75
         },
         {
          "N": 100,
          "S": 700,
          "lost_mean": 7.85,
          "lost_std": 21.5417729028504,
          "m": 90,
          "profit_mean": 1678.705,
          "profit_std": 207.2270415327696,
          "s": 75
         },
         {
          "N": 100,
          "S": 800,
          "lost_mean": 11.43,
          "lost_std": 24.390449778633442,
          "m": 90,
          "profit_mean": 914.724,
          "profit_std": 153.53444592288884,
          "s": 75
         },
         {
          "N": 100,
          "S": 900,
          "lost_mean": 4.52,
          "lost_std": 15.272263100209486,
          "m": 90,
          "profit_mean": 682.4799999999997,
          "profit_std": 435.9574175294989,
          "s": 75
         },
         {
          "N": 100,
          "S": 1000,
          "lost_mean": 3.27,
          "lost_std": 14.687901294754278,
          "m": 90,
          "profit_mean": 439.6809999999997,
          "profit_std": 268.44414639988645,
          "s": 75
         },
         {
          "N": 100,
          "S": 200,
          "lost_mean": 20.08,
          "lost_std": 32.71909213133809,
          "m": 90,
          "profit_mean": 3020.23,
          "profit_std": 160.12806900992885,
          "s": 100
         },
         {
          "N": 100,
          "S": 300,
          "lost_mean": 5.76,
          "lost_std": 15.6276884555793,
          "m": 90,
          "profit_mean": 3120.251,
          "profit_std": 168.18128836635097,
          "s": 100
         },
         {
          "N": 100,
          "S": 400,
          "lost_mean": 6.26,
          "lost_std": 17.33486007262169,
          "m": 90,
          "profit_mean": 2795.2369999999996,
          "profit_std": 187.47999362894984,
          "s": 100
         },
         {
          "N": 100,
          "S": 500,
          "lost_mean": 5.26,
          "lost_std": 26.617993458515535,
          "m": 90,
          "profit_mean": 2386.138,
          "profit_std": 263.08043889520366,
          "s": 100
         },
         {
          "N": 100,
          "S": 600,
          "lost_mean": 2.97,
          "lost_std": 13.148303266500925,
          "m": 90,
          "profit_mean": 1828.5710000000001,
          "profit_std": 170.44090969001425,
          "s": 100
         },
         {
          "N": 100,
          "S": 700,
          "lost_mean": 0.49,
          "lost_std": 2.7135834893246518,
          "m": 90,
          "profit_mean": 1683.693,
          "profit_std": 251.01191378019482,
          "s": 100
         },
         {
          "N": 100,
          "S": 800,
          "lost_mean": 5.79,
          "lost_std": 19.27802695382292,
          "m": 90,
          "profit_mean": 814.0609999999998,
          "profit_std": 186.53830266898606,
          "s": 100
         },
         {
          "N": 100,
          "S": 900,
          "lost_mean": 2.51,
          "lost_std": 7.848946400374996,
          "m": 90,
          "profit_mean": 293.36999999999983,
          "profit_std": 355.2029320392681,
          "s": 100
         },
         {
          "N": 100,
          "S": 1000,
          "lost_mean": 2.53,
          "lost_std": 12.014683777054906,
          "m": 90,
          "profit_mean": 428.6849999999998,
          "profit_std": 255.33067344725794,
          "s": 100
         },
         {
          "N": 100,
          "S": 200,
          "lost_mean": 9.32,
          "lost_std": 21.774268940168533,
          "m": 90,
          "profit_mean": 2615.4799999999996,
          "profit_std": 187.355158870941,
          "s": 125
         },
         {
          "N": 100,
          "S": 300,
          "lost_mean": 2.89,
          "lost_std": 12.867541970541087,
          "m": 90,
          "profit_mean": 2913.112,
          "profit_std": 175.10721811034347,
          "s": 125
         },
         {
          "N": 100,
          "S": 400,
          "lost_mean": 4.37,
          "lost_std": 18.413683427650682,
          "m": 90,
          "profit_mean": 2680.0350000000008,
          "profit_std": 174.42341978268527,
          "s": 125
         },
         {
          "N": 100,
          "S": 500,
          "lost_mean": 3.27,
          "lost_std": 18.34619658929144,
          "m": 90,
          "profit_mean": 2227.969,
          "profit_std": 205.2709747375331,
          "s": 125
         },
         {
          "N": 100,
          "S": 600,
          "lost_mean": 0.92,
          "lost_std": 5.364831231400866,
          "m": 90,
          "profit_mean": 1771.845,
          "profit_std": 161.99935613726643,
          "s": 125
         },
         {
          "N": 100,
          "S": 700,
          "lost_mean": 0.75,
          "lost_std": 6.1272285164607085,
          "m": 90,
          "profit_mean": 1545.7620000000002,
          "profit_std": 273.75956743762646,
          "s": 125
         },
         {
          "N": 100,
          "S": 800,
          "lost_mean": 2.17,
          "lost_std": 11.349413725791825,
          "m": 90,
          "profit_mean": 722.4939999999998,
          "profit_std": 207.39437171288384,
          "s": 125
         },
         {
          "N": 100,
          "S": 900,
          "lost_mean": 1.94,
          "lost_std": 8.282658042103648,
          "m": 90,
          "profit_mean": 59.789999999999836,
          "profit_std": 220.4234160048163,
          "s": 125
         },
         {
          "N": 100,
          "S": 1000,
          "lost_mean": 1.12,
          "lost_std": 8.359691647689191,
          "m": 90,
          "profit_mean": 268.1569999999998,
          "profit_std": 409.5952826963107,
          "s": 125
         },
         {
          "N": 100,
          "S": 200,
          "lost_mean": 1.83,
          "lost_std": 7.363649457526704,
          "m": 90,
          "profit_mean": 1970.987,
          "profit_std": 248.1636767042137,
          "s": 150
         },
         {
          "N": 100,
          "S": 300,
          "lost_mean": 2.02,
          "lost_std": 8.678290573190507,
          "m": 90,
          "profit_mean": 2671.952,
          "profit_std": 166.81307961701663,
          "s": 150
         },
         {
          "N": 100,
          "S": 400,
          "lost_mean": 1.22,
          "lost_std": 6.331865858696413,
          "m": 90,
          "profit_mean": 2497.744,
          "profit_std": 185.28499223486705,
          "s": 150
         },
         {
          "N": 100,
          "S": 500,
          "lost_mean": 0.56,
          "lost_std": 3.30386978489703,
          "m": 90,
          "profit_mean": 2149.314,
          "profit_std": 210.26386982440738,
          "s": 150
         },
         {
          "N": 100,
          "S": 600,
          "lost_mean": 1.99,
          "lost_std": 10.519337652460095,
          "m": 90,
          "profit_mean": 1814.606,
          "profit_std": 190.31460281450927,
          "s": 150
         },
         {
          "N": 100,
          "S": 700,
          "lost_mean": 0.28,
          "lost_std": 1.9698741179080554,
          "m": 90,
          "profit_mean": 1134.7029999999995,
          "profit_std": 327.16855769224566,
          "s": 150
         },
         {
          "N": 100,
          "S": 800,
          "lost_mean": 1.81,
          "lost_std": 10.048061273376836,
          "m": 90,
          "profit_mean": 737.2569999999998,
          "profit_std": 205.53083833347395,
          "s": 150
         },
         {
          "N": 100,
          "S": 900,
          "lost_mean": 0.44,
          "lost_std": 3.2108402248469083,
          "m": 90,
          "profit_mean": -37.010000000000225,
          "profit_std": 181.72357657395006,
          "s": 150
         },
         {
          "N": 100,
          "S": 1000,
          "lost_mean": 1.6,
          "lost_std": 8.836334538755771,
          "m": 90,
          "profit_mean": -236.9160000000002,
          "profit_std": 504.6193942713135,
          "s": 150
         },
         {
          "N": 100,
          "S": 200,
          "lost_mean": 3.27,
          "lost_std": 12.657775986692645,
          "m": 90,
          "profit_mean": 1034.612,
          "profit_std": 341.1812309899212,
          "s": 175
         },
         {
          "N": 100,
          "S": 300,
          "lost_mean": 0.71,
          "lost_std": 3.7180830294846046,
          "m": 90,
          "profit_mean": 2395.3160000000003,
          "profit_std": 204.57018391118135,
          "s": 175
         },
         {
          "N": 100,
          "S": 400,
          "lost_mean": 1.75,
          "lost_std": 12.90632528348919,
          "m": 90,
          "profit_mean": 2297.704,
          "profit_std": 193.6575880206604,
          "s": 175
         },
         {
          "N": 100,
          "S": 500,
          "lost_mean": 0.36,
          "lost_std": 3.5999999999999996,
          "m": 90,
          "profit_mean": 1958.382,
          "profit_std": 253.70202213692272,
          "s": 175
         },
         {
          "N": 100,
          "S": 600,
          "lost_mean": 0.67,
          "lost_std": 4.290122552462986,
          "m": 90,
          "profit_mean": 1649.5899999999997,
          "profit_std": 249.80461192983236,
          "s": 175
         },
         {
          "N": 100,
          "S": 700,
          "lost_mean": 0.02,
          "lost_std": 0.19999999999999998,
          "m": 90,
          "profit_mean": 917.8089999999997,
          "profit_std": 235.50629625287615,
          "s": 175
         },
         {
          "N": 100,
          "S": 800,
          "lost_mean": 1.83,
          "lost_std": 11.84159336125563,
          "m": 90,
          "profit_mean": 725.9579999999999,
          "profit_std": 225.62798745552894,
          "s": 175
         },
         {
          "N": 100,
          "S": 900,
          "lost_mean": 1.06,
          "lost_std": 10.600000000000003,
          "m": 90,
          "profit_mean": -147.6150000000002,
          "profit_std": 192.0369200482453,
          "s": 175
         },
         {
          "N": 100,
          "S": 1000,
          "lost_mean": 1.49,
          "lost_std": 9.630019352383082,
          "m": 90,
          "profit_mean": -507.8470000000002,
          "profit_std": 446.96536585482477,
          "s": 175
         },
         {
          "N": 100,
          "S": 300,
          "lost_mean": 0.68,
          "lost_std": 6.5007847234162455,
          "m": 90,
          "profit_mean": 2051.976,
          "profit_std": 166.18719645829125,
          "s": 200
         },
         {
          "N": 100,
          "S": 400,
          "lost_mean": 0.82,
          "lost_std": 5.341622346528188,
          "m": 90,
          "profit_mean": 2142.9079999999994,
          "profit_std": 205.21167277332017,
          "s": 200
         },
         {
          "N": 100,
          "S": 500,
          "lost_mean": 0.79,
          "lost_std": 4.759456296933951,
          "m": 90,
          "profit_mean": 1773.4129999999998,
          "profit_std": 192.5260631208359,
          "s": 200
         },
         {
          "N": 100,
          "S": 600,
          "lost_mean": 1.25,
          "lost_std": 7.629521345379143,
          "m": 90,
          "profit_mean": 1365.214,
          "profit_std": 268.5887686979988,
          "s": 200
         },
         {
          "N": 100,
          "S": 700,
          "lost_mean": 0.72,
          "lost_std": 4.9991514431466415,
          "m": 90,
          "profit_mean": 807.732,
          "profit_std": 167.06069294502737,
          "s": 200
         },
         {
          "N": 100,
          "S": 800,
          "lost_mean": 0.33,
          "lost_std": 2.074642478631298,
          "m": 90,
          "profit_mean": 690.9069999999998,
          "profit_std": 228.549274688427,
          "s": 200
         },
         {
          "N": 100,
          "S": 900,
          "lost_mean": 0.38,
          "lost_std": 2.643001049083135,
          "m": 90,
          "profit_mean": -141.55000000000027,
          "profit_std": 207.4540837599657,
          "s": 200
         },
         {
          "N": 100,
          "S": 1000,
          "lost_mean": 0.52,
          "lost_std": 5.199999999999998,
          "m": 90,
          "profit_mean": -772.3740000000003,
          "profit_std": 332.43444546149686,
          "s": 200
         },
         {
          "N": 100,
          "S": 300,
          "lost_mean": 1.5,
          "lost_std": 7.6785152184257575,
          "m": 90,
          "profit_mean": 1663.1519999999998,
          "profit_std": 212.2201855801581,
          "s": 225
         },
         {
          "N": 100,
          "S": 400,
          "lost_mean": 0.7,
          "lost_std": 4.924685294770139,
          "m": 90,
          "profit_mean": 1930.973,
          "profit_std": 173.7541569039836,
          "s": 225
         },
         {
          "N": 100,
          "S": 500,
          "lost_mean": 1.65,
          "lost_std": 13.0580483328339,
          "m": 90,
          "profit_mean": 1677.326,
          "profit_std": 206.8589431169819,
          "s": 225
         },
         {
          "N": 100,
          "S": 600,
          "lost_mean": 2.13,
          "lost_std": 12.449214003017588,
          "m": 90,
          "profit_mean": 1233.0069999999998,
          "profit_std": 224.07148492065085,
          "s": 225
         },
         {
          "N": 100,
          "S": 700,
          "lost_mean": 0.93,
          "lost_std": 6.244601709080452,
          "m": 90,
          "profit_mean": 808.2299999999999,
          "profit_std": 207.0249545783837,
          "s": 225
         },
         {
          "N": 100,
          "S": 800,
          "lost_mean": 0.1,
          "lost_std": 1.0000000000000007,
          "m": 90,
          "profit_mean": 534.6999999999999,
          "profit_std": 304.10735478170074,
          "s": 225
         },
         {
          "N": 100,
          "S": 900,
          "lost_mean": 0.48,
          "lost_std": 4.071284015559898,
          "m": 90,
          "profit_mean": -243.1130000000002,
          "profit_std": 201.20523400977746,
          "s": 225
         },
         {
          "N": 100,
          "S": 1000,
          "lost_mean": 1.32,
          "lost_std": 7.085167320508104,
          "m": 90,
          "profit_mean": -954.1800000000002,
          "profit_std": 197.84985992086783,
          "s": 225
         },
         {
          "N": 100,
          "S": 300,
          "lost_mean": 0.4,
          "lost_std": 2.8141058827257948,
          "m": 90,
          "profit_mean": 1026.938,
          "profit_std": 254.7140614235278,
          "s": 250
         },
         {
          "N": 100,
          "S": 400,
          "lost_mean": 0.1,
          "lost_std": 1.0000000000000007,
          "m": 90,
          "profit_mean": 1651.1429999999998,
          "profit_std": 172.60763601622932,
          "s": 250
         },
         {
          "N": 100,
          "S": 500,
          "lost_mean": 0.21,
          "lost_std": 1.6714779040832046,
          "m": 90,
          "profit_mean": 1488.8509999999997,
          "profit_std": 226.5972819360552,
          "s": 250
         },
         {
          "N": 100,
          "S": 600,
          "lost_mean": 2.18,
          "lost_std": 13.832606771719133,
          "m": 90,
          "profit_mean": 1213.382,
          "profit_std": 196.7978249756625,
          "s": 250
         },
         {
          "N": 100,
          "S": 700,
          "lost_mean": 1.76,
          "lost_std": 15.115795471204054,
          "m": 90,
          "profit_mean": 799.0329999999999,
          "profit_std": 176.64162204127808,
          "s": 250
         },
         {
          "N": 100,
          "S": 800,
          "lost_mean": 0.03,
          "lost_std": 0.2999999999999999,
          "m": 90,
          "profit_mean": 168.5249999999998,
          "profit_std": 342.22972507107306,
          "s": 250
         },
         {
          "N": 100,
          "S": 900,
          "lost_mean": 0.96,
          "lost_std": 7.126448107315638,
          "m": 90,
          "profit_mean": -275.16500000000025,
          "profit_std": 195.89202672994028,
          "s": 250
         },
         {
          "N": 100,
          "S": 1000,
          "lost_mean": 0,
          "lost_std": 0,
          "m": 90,
          "profit_mean": -1019.1280000000002,
          "profit_std": 171.74590291380093,
          "s": 250
         }
        ]
       },
       "encoding": {
        "color": {
         "field": "lost_mean",
         "scale": {
          "scheme": "plasma"
         },
         "type": "quantitative"
        },
        "x": {
         "field": "S",
         "type": "quantitative"
        },
        "y": {
         "field": "s",
         "type": "quantitative"
        }
       },
       "mark": "point"
      },
      "image/png": "[encoded data removed]",
      "image/svg+xml": [
       "<?xml version=\"1.0\" encoding=\"utf-8\"?>\n",
       "<!DOCTYPE svg PUBLIC \"-//W3C//DTD SVG 1.1//EN\" \"http://www.w3.org/Graphics/SVG/1.1/DTD/svg11.dtd\">\n",
       "<svg xmlns=\"http://www.w3.org/2000/svg\" xmlns:xlink=\"http://www.w3.org/1999/xlink\" version=\"1.1\" class=\"marks\" width=\"323\" height=\"242\" viewBox=\"0 0 323 242\"><rect width=\"323\" height=\"242\" fill=\"white\"/><g fill=\"none\" stroke-miterlimit=\"10\" transform=\"translate(45,5)\"><g class=\"mark-group role-frame root\" role=\"graphics-object\" aria-roledescription=\"group mark container\"><g transform=\"translate(0,0)\"><path class=\"background\" aria-hidden=\"true\" d=\"M0.5,0.5h200v200h-200Z\" stroke=\"#ddd\"/><g><g class=\"mark-group role-axis\" aria-hidden=\"true\"><g transform=\"translate(0.5,200.5)\"><path class=\"background\" aria-hidden=\"true\" d=\"M0,0h0v0h0Z\" pointer-events=\"none\"/><g><g class=\"mark-rule role-axis-grid\" pointer-events=\"none\"><line transform=\"translate(0,-200)\" x2=\"0\" y2=\"200\" stroke=\"#ddd\" stroke-width=\"1\" opacity=\"1\"/><line transform=\"translate(40,-200)\" x2=\"0\" y2=\"200\" stroke=\"#ddd\" stroke-width=\"1\" opacity=\"1\"/><line transform=\"translate(80,-200)\" x2=\"0\" y2=\"200\" stroke=\"#ddd\" stroke-width=\"1\" opacity=\"1\"/><line transform=\"translate(120,-200)\" x2=\"0\" y2=\"200\" stroke=\"#ddd\" stroke-width=\"1\" opacity=\"1\"/><line transform=\"translate(160,-200)\" x2=\"0\" y2=\"200\" stroke=\"#ddd\" stroke-width=\"1\" opacity=\"1\"/><line transform=\"translate(200,-200)\" x2=\"0\" y2=\"200\" stroke=\"#ddd\" stroke-width=\"1\" opacity=\"1\"/></g></g><path class=\"foreground\" aria-hidden=\"true\" d=\"\" pointer-events=\"none\" display=\"none\"/></g></g><g class=\"mark-group role-axis\" aria-hidden=\"true\"><g transform=\"translate(0.5,0.5)\"><path class=\"background\" aria-hidden=\"true\" d=\"M0,0h0v0h0Z\" pointer-events=\"none\"/><g><g class=\"mark-rule role-axis-grid\" pointer-events=\"none\"><line transform=\"translate(0,200)\" x2=\"200\" y2=\"0\" stroke=\"#ddd\" stroke-width=\"1\" opacity=\"1\"/><line transform=\"translate(0,162)\" x2=\"200\" y2=\"0\" stroke=\"#ddd\" stroke-width=\"1\" opacity=\"1\"/><line transform=\"translate(0,123)\" x2=\"200\" y2=\"0\" stroke=\"#ddd\" stroke-width=\"1\" opacity=\"1\"/><line transform=\"translate(0,85)\" x2=\"200\" y2=\"0\" stroke=\"#ddd\" stroke-width=\"1\" opacity=\"1\"/><line transform=\"translate(0,46)\" x2=\"200\" y2=\"0\" stroke=\"#ddd\" stroke-width=\"1\" opacity=\"1\"/><line transform=\"translate(0,8)\" x2=\"200\" y2=\"0\" stroke=\"#ddd\" stroke-width=\"1\" opacity=\"1\"/></g></g><path class=\"foreground\" aria-hidden=\"true\" d=\"\" pointer-events=\"none\" display=\"none\"/></g></g><g class=\"mark-group role-axis\" role=\"graphics-symbol\" aria-roledescription=\"axis\" aria-label=\"X-axis titled 'S' for a linear scale with values from 0 to 1,000\"><g transform=\"translate(0.5,200.5)\"><path class=\"background\" aria-hidden=\"true\" d=\"M0,0h0v0h0Z\" pointer-events=\"none\"/><g><g class=\"mark-rule role-axis-tick\" pointer-events=\"none\"><line transform=\"translate(0,0)\" x2=\"0\" y2=\"5\" stroke=\"#888\" stroke-width=\"1\" opacity=\"1\"/><line transform=\"translate(40,0)\" x2=\"0\" y2=\"5\" stroke=\"#888\" stroke-width=\"1\" opacity=\"1\"/><line transform=\"translate(80,0)\" x2=\"0\" y2=\"5\" stroke=\"#888\" stroke-width=\"1\" opacity=\"1\"/><line transform=\"translate(120,0)\" x2=\"0\" y2=\"5\" stroke=\"#888\" stroke-width=\"1\" opacity=\"1\"/><line transform=\"translate(160,0)\" x2=\"0\" y2=\"5\" stroke=\"#888\" stroke-width=\"1\" opacity=\"1\"/><line transform=\"translate(200,0)\" x2=\"0\" y2=\"5\" stroke=\"#888\" stroke-width=\"1\" opacity=\"1\"/></g><g class=\"mark-text role-axis-label\" pointer-events=\"none\"><text text-anchor=\"start\" transform=\"translate(0,15)\" font-family=\"sans-serif\" font-size=\"10px\" fill=\"#000\" opacity=\"1\">0</text><text text-anchor=\"middle\" transform=\"translate(40,15)\" font-family=\"sans-serif\" font-size=\"10px\" fill=\"#000\" opacity=\"1\">200</text><text text-anchor=\"middle\" transform=\"translate(80,15)\" font-family=\"sans-serif\" font-size=\"10px\" fill=\"#000\" opacity=\"1\">400</text><text text-anchor=\"middle\" transform=\"translate(120,15)\" font-family=\"sans-serif\" font-size=\"10px\" fill=\"#000\" opacity=\"1\">600</text><text text-anchor=\"middle\" transform=\"translate(160,15)\" font-family=\"sans-serif\" font-size=\"10px\" fill=\"#000\" opacity=\"1\">800</text><text text-anchor=\"end\" transform=\"translate(200,15)\" font-family=\"sans-serif\" font-size=\"10px\" fill=\"#000\" opacity=\"1\">1,000</text></g><g class=\"mark-rule role-axis-domain\" pointer-events=\"none\"><line transform=\"translate(0,0)\" x2=\"200\" y2=\"0\" stroke=\"#888\" stroke-width=\"1\" opacity=\"1\"/></g><g class=\"mark-text role-axis-title\" pointer-events=\"none\"><text text-anchor=\"middle\" transform=\"translate(100,30)\" font-family=\"sans-serif\" font-size=\"11px\" font-weight=\"bold\" fill=\"#000\" opacity=\"1\">S</text></g></g><path class=\"foreground\" aria-hidden=\"true\" d=\"\" pointer-events=\"none\" display=\"none\"/></g></g><g class=\"mark-group role-axis\" role=\"graphics-symbol\" aria-roledescription=\"axis\" aria-label=\"Y-axis titled 's' for a linear scale with values from 0 to 260\"><g transform=\"translate(0.5,0.5)\"><path class=\"background\" aria-hidden=\"true\" d=\"M0,0h0v0h0Z\" pointer-events=\"none\"/><g><g class=\"mark-rule role-axis-tick\" pointer-events=\"none\"><line transform=\"translate(0,200)\" x2=\"-5\" y2=\"0\" stroke=\"#888\" stroke-width=\"1\" opacity=\"1\"/><line transform=\"translate(0,162)\" x2=\"-5\" y2=\"0\" stroke=\"#888\" stroke-width=\"1\" opacity=\"1\"/><line transform=\"translate(0,123)\" x2=\"-5\" y2=\"0\" stroke=\"#888\" stroke-width=\"1\" opacity=\"1\"/><line transform=\"translate(0,85)\" x2=\"-5\" y2=\"0\" stroke=\"#888\" stroke-width=\"1\" opacity=\"1\"/><line transform=\"translate(0,46)\" x2=\"-5\" y2=\"0\" stroke=\"#888\" stroke-width=\"1\" opacity=\"1\"/><line transform=\"translate(0,8)\" x2=\"-5\" y2=\"0\" stroke=\"#888\" stroke-width=\"1\" opacity=\"1\"/></g><g class=\"mark-text role-axis-label\" pointer-events=\"none\"><text text-anchor=\"end\" transform=\"translate(-7,203)\" font-family=\"sans-serif\" font-size=\"10px\" fill=\"#000\" opacity=\"1\">0</text><text text-anchor=\"end\" transform=\"translate(-7,164.53846153846155)\" font-family=\"sans-serif\" font-size=\"10px\" fill=\"#000\" opacity=\"1\">50</text><text text-anchor=\"end\" transform=\"translate(-7,126.07692307692308)\" font-family=\"sans-serif\" font-size=\"10px\" fill=\"#000\" opacity=\"1\">100</text><text text-anchor=\"end\" transform=\"translate(-7,87.61538461538463)\" font-family=\"sans-serif\" font-size=\"10px\" fill=\"#000\" opacity=\"1\">150</text><text text-anchor=\"end\" transform=\"translate(-7,49.153846153846146)\" font-family=\"sans-serif\" font-size=\"10px\" fill=\"#000\" opacity=\"1\">200</text><text text-anchor=\"end\" transform=\"translate(-7,10.692307692307686)\" font-family=\"sans-serif\" font-size=\"10px\" fill=\"#000\" opacity=\"1\">250</text></g><g class=\"mark-rule role-axis-domain\" pointer-events=\"none\"><line transform=\"translate(0,200)\" x2=\"0\" y2=\"-200\" stroke=\"#888\" stroke-width=\"1\" opacity=\"1\"/></g><g class=\"mark-text role-axis-title\" pointer-events=\"none\"><text text-anchor=\"middle\" transform=\"translate(-29,100) rotate(-90) translate(0,-2)\" font-family=\"sans-serif\" font-size=\"11px\" font-weight=\"bold\" fill=\"#000\" opacity=\"1\">s</text></g></g><path class=\"foreground\" aria-hidden=\"true\" d=\"\" pointer-events=\"none\" display=\"none\"/></g></g><g class=\"mark-symbol role-mark marks\" role=\"graphics-object\" aria-roledescription=\"symbol mark container\"><path aria-label=\"S: 100; s: 25; lost_mean: 216.66\" role=\"graphics-symbol\" aria-roledescription=\"point\" transform=\"translate(20,180.76923076923077)\" d=\"M2.7386127875258306,0A2.7386127875258306,2.7386127875258306,0,1,1,-2.7386127875258306,0A2.7386127875258306,2.7386127875258306,0,1,1,2.7386127875258306,0\" stroke=\"rgb(240, 249, 33)\" stroke-width=\"2\" opacity=\"0.7\"/><path aria-label=\"S: 200; s: 25; lost_mean: 118.92\" role=\"graphics-symbol\" aria-roledescription=\"point\" transform=\"translate(40,180.76923076923077)\" d=\"M2.7386127875258306,0A2.7386127875258306,2.7386127875258306,0,1,1,-2.7386127875258306,0A2.7386127875258306,2.7386127875258306,0,1,1,2.7386127875258306,0\" stroke=\"rgb(214, 85, 109)\" stroke-width=\"2\" opacity=\"0.7\"/><path aria-label=\"S: 300; s: 25; lost_mean: 81.2\" role=\"graphics-symbol\" aria-roledescription=\"point\" transform=\"translate(60,180.76923076923077)\" d=\"M2.7386127875258306,0A2.7386127875258306,2.7386127875258306,0,1,1,-2.7386127875258306,0A2.7386127875258306,2.7386127875258306,0,1,1,2.7386127875258306,0\" stroke=\"rgb(169, 35, 150)\" stroke-width=\"2\" opacity=\"0.7\"/><path aria-label=\"S: 400; s: 25; lost_mean: 60.11\" role=\"graphics-symbol\" aria-roledescription=\"point\" transform=\"translate(80,180.76923076923077)\" d=\"M2.7386127875258306,0A2.7386127875258306,2.7386127875258306,0,1,1,-2.7386127875258306,0A2.7386127875258306,2.7386127875258306,0,1,1,2.7386127875258306,0\" stroke=\"rgb(136, 8, 166)\" stroke-width=\"2\" opacity=\"0.7\"/><path aria-label=\"S: 500; s: 25; lost_mean: 50.72\" role=\"graphics-symbol\" aria-roledescription=\"point\" transform=\"translate(100,180.76923076923077)\" d=\"M2.7386127875258306,0A2.7386127875258306,2.7386127875258306,0,1,1,-2.7386127875258306,0A2.7386127875258306,2.7386127875258306,0,1,1,2.7386127875258306,0\" stroke=\"rgb(120, 1, 168)\" stroke-width=\"2\" opacity=\"0.7\"/><path aria-label=\"S: 600; s: 25; lost_mean: 34.57\" role=\"graphics-symbol\" aria-roledescription=\"point\" transform=\"translate(120,180.76923076923077)\" d=\"M2.7386127875258306,0A2.7386127875258306,2.7386127875258306,0,1,1,-2.7386127875258306,0A2.7386127875258306,2.7386127875258306,0,1,1,2.7386127875258306,0\" stroke=\"rgb(90, 1, 165)\" stroke-width=\"2\" opacity=\"0.7\"/><path aria-label=\"S: 700; s: 25; lost_mean: 33.52\" role=\"graphics-symbol\" aria-roledescription=\"point\" transform=\"translate(140,180.76923076923077)\" d=\"M2.7386127875258306,0A2.7386127875258306,2.7386127875258306,0,1,1,-2.7386127875258306,0A2.7386127875258306,2.7386127875258306,0,1,1,2.7386127875258306,0\" stroke=\"rgb(88, 1, 165)\" stroke-width=\"2\" opacity=\"0.7\"/><path aria-label=\"S: 800; s: 25; lost_mean: 32.05\" role=\"graphics-symbol\" aria-roledescription=\"point\" transform=\"translate(160,180.76923076923077)\" d=\"M2.7386127875258306,0A2.7386127875258306,2.7386127875258306,0,1,1,-2.7386127875258306,0A2.7386127875258306,2.7386127875258306,0,1,1,2.7386127875258306,0\" stroke=\"rgb(86, 2, 164)\" stroke-width=\"2\" opacity=\"0.7\"/><path aria-label=\"S: 900; s: 25; lost_mean: 30.45\" role=\"graphics-symbol\" aria-roledescription=\"point\" transform=\"translate(180,180.76923076923077)\" d=\"M2.7386127875258306,0A2.7386127875258306,2.7386127875258306,0,1,1,-2.7386127875258306,0A2.7386127875258306,2.7386127875258306,0,1,1,2.7386127875258306,0\" stroke=\"rgb(83, 2, 163)\" stroke-width=\"2\" opacity=\"0.7\"/><path aria-label=\"S: 1000; s: 25; lost_mean: 24.22\" role=\"graphics-symbol\" aria-roledescription=\"point\" transform=\"translate(200,180.76923076923077)\" d=\"M2.7386127875258306,0A2.7386127875258306,2.7386127875258306,0,1,1,-2.7386127875258306,0A2.7386127875258306,2.7386127875258306,0,1,1,2.7386127875258306,0\" stroke=\"rgb(71, 3, 159)\" stroke-width=\"2\" opacity=\"0.7\"/><path aria-label=\"S: 100; s: 50; lost_mean: 118.74\" role=\"graphics-symbol\" aria-roledescription=\"point\" transform=\"translate(20,161.53846153846155)\" d=\"M2.7386127875258306,0A2.7386127875258306,2.7386127875258306,0,1,1,-2.7386127875258306,0A2.7386127875258306,2.7386127875258306,0,1,1,2.7386127875258306,0\" stroke=\"rgb(214, 85, 109)\" stroke-width=\"2\" opacity=\"0.7\"/><path aria-label=\"S: 200; s: 50; lost_mean: 49.21\" role=\"graphics-symbol\" aria-roledescription=\"point\" transform=\"translate(40,161.53846153846155)\" d=\"M2.7386127875258306,0A2.7386127875258306,2.7386127875258306,0,1,1,-2.7386127875258306,0A2.7386127875258306,2.7386127875258306,0,1,1,2.7386127875258306,0\" stroke=\"rgb(117, 1, 168)\" stroke-width=\"2\" opacity=\"0.7\"/><path aria-label=\"S: 300; s: 50; lost_mean: 44.28\" role=\"graphics-symbol\" aria-roledescription=\"point\" transform=\"translate(60,161.53846153846155)\" d=\"M2.7386127875258306,0A2.7386127875258306,2.7386127875258306,0,1,1,-2.7386127875258306,0A2.7386127875258306,2.7386127875258306,0,1,1,2.7386127875258306,0\" stroke=\"rgb(108, 0, 168)\" stroke-width=\"2\" opacity=\"0.7\"/><path aria-label=\"S: 400; s: 50; lost_mean: 37.86\" role=\"graphics-symbol\" aria-roledescription=\"point\" transform=\"translate(80,161.53846153846155)\" d=\"M2.7386127875258306,0A2.7386127875258306,2.7386127875258306,0,1,1,-2.7386127875258306,0A2.7386127875258306,2.7386127875258306,0,1,1,2.7386127875258306,0\" stroke=\"rgb(96, 1, 166)\" stroke-width=\"2\" opacity=\"0.7\"/><path aria-label=\"S: 500; s: 50; lost_mean: 21.04\" role=\"graphics-symbol\" aria-roledescription=\"point\" transform=\"translate(100,161.53846153846155)\" d=\"M2.7386127875258306,0A2.7386127875258306,2.7386127875258306,0,1,1,-2.7386127875258306,0A2.7386127875258306,2.7386127875258306,0,1,1,2.7386127875258306,0\" stroke=\"rgb(65, 3, 156)\" stroke-width=\"2\" opacity=\"0.7\"/><path aria-label=\"S: 600; s: 50; lost_mean: 16.11\" role=\"graphics-symbol\" aria-roledescription=\"point\" transform=\"translate(120,161.53846153846155)\" d=\"M2.7386127875258306,0A2.7386127875258306,2.7386127875258306,0,1,1,-2.7386127875258306,0A2.7386127875258306,2.7386127875258306,0,1,1,2.7386127875258306,0\" stroke=\"rgb(54, 5, 152)\" stroke-width=\"2\" opacity=\"0.7\"/><path aria-label=\"S: 700; s: 50; lost_mean: 20.11\" role=\"graphics-symbol\" aria-roledescription=\"point\" transform=\"translate(140,161.53846153846155)\" d=\"M2.7386127875258306,0A2.7386127875258306,2.7386127875258306,0,1,1,-2.7386127875258306,0A2.7386127875258306,2.7386127875258306,0,1,1,2.7386127875258306,0\" stroke=\"rgb(63, 3, 156)\" stroke-width=\"2\" opacity=\"0.7\"/><path aria-label=\"S: 800; s: 50; lost_mean: 18.19\" role=\"graphics-symbol\" aria-roledescription=\"point\" transform=\"translate(160,161.53846153846155)\" d=\"M2.7386127875258306,0A2.7386127875258306,2.7386127875258306,0,1,1,-2.7386127875258306,0A2.7386127875258306,2.7386127875258306,0,1,1,2.7386127875258306,0\" stroke=\"rgb(59, 4, 154)\" stroke-width=\"2\" opacity=\"0.7\"/><path aria-label=\"S: 900; s: 50; lost_mean: 13.63\" role=\"graphics-symbol\" aria-roledescription=\"point\" transform=\"translate(180,161.53846153846155)\" d=\"M2.7386127875258306,0A2.7386127875258306,2.7386127875258306,0,1,1,-2.7386127875258306,0A2.7386127875258306,2.7386127875258306,0,1,1,2.7386127875258306,0\" stroke=\"rgb(49, 5, 150)\" stroke-width=\"2\" opacity=\"0.7\"/><path aria-label=\"S: 1000; s: 50; lost_mean: 9.96\" role=\"graphics-symbol\" aria-roledescription=\"point\" transform=\"translate(200,161.53846153846155)\" d=\"M2.7386127875258306,0A2.7386127875258306,2.7386127875258306,0,1,1,-2.7386127875258306,0A2.7386127875258306,2.7386127875258306,0,1,1,2.7386127875258306,0\" stroke=\"rgb(41, 6, 147)\" stroke-width=\"2\" opacity=\"0.7\"/><path aria-label=\"S: 100; s: 75; lost_mean: 74.03\" role=\"graphics-symbol\" aria-roledescription=\"point\" transform=\"translate(20,142.30769230769232)\" d=\"M2.7386127875258306,0A2.7386127875258306,2.7386127875258306,0,1,1,-2.7386127875258306,0A2.7386127875258306,2.7386127875258306,0,1,1,2.7386127875258306,0\" stroke=\"rgb(159, 26, 156)\" stroke-width=\"2\" opacity=\"0.7\"/><path aria-label=\"S: 200; s: 75; lost_mean: 24.44\" role=\"graphics-symbol\" aria-roledescription=\"point\" transform=\"translate(40,142.30769230769232)\" d=\"M2.7386127875258306,0A2.7386127875258306,2.7386127875258306,0,1,1,-2.7386127875258306,0A2.7386127875258306,2.7386127875258306,0,1,1,2.7386127875258306,0\" stroke=\"rgb(71, 3, 159)\" stroke-width=\"2\" opacity=\"0.7\"/><path aria-label=\"S: 300; s: 75; lost_mean: 14.97\" role=\"graphics-symbol\" aria-roledescription=\"point\" transform=\"translate(60,142.30769230769232)\" d=\"M2.7386127875258306,0A2.7386127875258306,2.7386127875258306,0,1,1,-2.7386127875258306,0A2.7386127875258306,2.7386127875258306,0,1,1,2.7386127875258306,0\" stroke=\"rgb(52, 5, 151)\" stroke-width=\"2\" opacity=\"0.7\"/><path aria-label=\"S: 400; s: 75; lost_mean: 6.17\" role=\"graphics-symbol\" aria-roledescription=\"point\" transform=\"translate(80,142.30769230769232)\" d=\"M2.7386127875258306,0A2.7386127875258306,2.7386127875258306,0,1,1,-2.7386127875258306,0A2.7386127875258306,2.7386127875258306,0,1,1,2.7386127875258306,0\" stroke=\"rgb(32, 6, 143)\" stroke-width=\"2\" opacity=\"0.7\"/><path aria-label=\"S: 500; s: 75; lost_mean: 7.34\" role=\"graphics-symbol\" aria-roledescription=\"point\" transform=\"translate(100,142.30769230769232)\" d=\"M2.7386127875258306,0A2.7386127875258306,2.7386127875258306,0,1,1,-2.7386127875258306,0A2.7386127875258306,2.7386127875258306,0,1,1,2.7386127875258306,0\" stroke=\"rgb(35, 6, 144)\" stroke-width=\"2\" opacity=\"0.7\"/><path aria-label=\"S: 600; s: 75; lost_mean: 9.68\" role=\"graphics-symbol\" aria-roledescription=\"point\" transform=\"translate(120,142.30769230769232)\" d=\"M2.7386127875258306,0A2.7386127875258306,2.7386127875258306,0,1,1,-2.7386127875258306,0A2.7386127875258306,2.7386127875258306,0,1,1,2.7386127875258306,0\" stroke=\"rgb(40, 6, 146)\" stroke-width=\"2\" opacity=\"0.7\"/><path aria-label=\"S: 700; s: 75; lost_mean: 7.85\" role=\"graphics-symbol\" aria-roledescription=\"point\" transform=\"translate(140,142.30769230769232)\" d=\"M2.7386127875258306,0A2.7386127875258306,2.7386127875258306,0,1,1,-2.7386127875258306,0A2.7386127875258306,2.7386127875258306,0,1,1,2.7386127875258306,0\" stroke=\"rgb(36, 6, 145)\" stroke-width=\"2\" opacity=\"0.7\"/><path aria-label=\"S: 800; s: 75; lost_mean: 11.43\" role=\"graphics-symbol\" aria-roledescription=\"point\" transform=\"translate(160,142.30769230769232)\" d=\"M2.7386127875258306,0A2.7386127875258306,2.7386127875258306,0,1,1,-2.7386127875258306,0A2.7386127875258306,2.7386127875258306,0,1,1,2.7386127875258306,0\" stroke=\"rgb(44, 5, 148)\" stroke-width=\"2\" opacity=\"0.7\"/><path aria-label=\"S: 900; s: 75; lost_mean: 4.52\" role=\"graphics-symbol\" aria-roledescription=\"point\" transform=\"translate(180,142.30769230769232)\" d=\"M2.7386127875258306,0A2.7386127875258306,2.7386127875258306,0,1,1,-2.7386127875258306,0A2.7386127875258306,2.7386127875258306,0,1,1,2.7386127875258306,0\" stroke=\"rgb(27, 7, 141)\" stroke-width=\"2\" opacity=\"0.7\"/><path aria-label=\"S: 1000; s: 75; lost_mean: 3.27\" role=\"graphics-symbol\" aria-roledescription=\"point\" transform=\"translate(200,142.30769230769232)\" d=\"M2.7386127875258306,0A2.7386127875258306,2.7386127875258306,0,1,1,-2.7386127875258306,0A2.7386127875258306,2.7386127875258306,0,1,1,2.7386127875258306,0\" stroke=\"rgb(23, 7, 139)\" stroke-width=\"2\" opacity=\"0.7\"/><path aria-label=\"S: 200; s: 100; lost_mean: 20.08\" role=\"graphics-symbol\" aria-roledescription=\"point\" transform=\"translate(40,123.07692307692308)\" d=\"M2.7386127875258306,0A2.7386127875258306,2.7386127875258306,0,1,1,-2.7386127875258306,0A2.7386127875258306,2.7386127875258306,0,1,1,2.7386127875258306,0\" stroke=\"rgb(63, 3, 156)\" stroke-width=\"2\" opacity=\"0.7\"/><path aria-label=\"S: 300; s: 100; lost_mean: 5.76\" role=\"graphics-symbol\" aria-roledescription=\"point\" transform=\"translate(60,123.07692307692308)\" d=\"M2.7386127875258306,0A2.7386127875258306,2.7386127875258306,0,1,1,-2.7386127875258306,0A2.7386127875258306,2.7386127875258306,0,1,1,2.7386127875258306,0\" stroke=\"rgb(31, 6, 142)\" stroke-width=\"2\" opacity=\"0.7\"/><path aria-label=\"S: 400; s: 100; lost_mean: 6.26\" role=\"graphics-symbol\" aria-roledescription=\"point\" transform=\"translate(80,123.07692307692308)\" d=\"M2.7386127875258306,0A2.7386127875258306,2.7386127875258306,0,1,1,-2.7386127875258306,0A2.7386127875258306,2.7386127875258306,0,1,1,2.7386127875258306,0\" stroke=\"rgb(32, 6, 143)\" stroke-width=\"2\" opacity=\"0.7\"/><path aria-label=\"S: 500; s: 100; lost_mean: 5.26\" role=\"graphics-symbol\" aria-roledescription=\"point\" transform=\"translate(100,123.07692307692308)\" d=\"M2.7386127875258306,0A2.7386127875258306,2.7386127875258306,0,1,1,-2.7386127875258306,0A2.7386127875258306,2.7386127875258306,0,1,1,2.7386127875258306,0\" stroke=\"rgb(29, 7, 142)\" stroke-width=\"2\" opacity=\"0.7\"/><path aria-label=\"S: 600; s: 100; lost_mean: 2.97\" role=\"graphics-symbol\" aria-roledescription=\"point\" transform=\"translate(120,123.07692307692308)\" d=\"M2.7386127875258306,0A2.7386127875258306,2.7386127875258306,0,1,1,-2.7386127875258306,0A2.7386127875258306,2.7386127875258306,0,1,1,2.7386127875258306,0\" stroke=\"rgb(22, 7, 139)\" stroke-width=\"2\" opacity=\"0.7\"/><path aria-label=\"S: 700; s: 100; lost_mean: 0.49\" role=\"graphics-symbol\" aria-roledescription=\"point\" transform=\"translate(140,123.07692307692308)\" d=\"M2.7386127875258306,0A2.7386127875258306,2.7386127875258306,0,1,1,-2.7386127875258306,0A2.7386127875258306,2.7386127875258306,0,1,1,2.7386127875258306,0\" stroke=\"rgb(14, 8, 136)\" stroke-width=\"2\" opacity=\"0.7\"/><path aria-label=\"S: 800; s: 100; lost_mean: 5.79\" role=\"graphics-symbol\" aria-roledescription=\"point\" transform=\"translate(160,123.07692307692308)\" d=\"M2.7386127875258306,0A2.7386127875258306,2.7386127875258306,0,1,1,-2.7386127875258306,0A2.7386127875258306,2.7386127875258306,0,1,1,2.7386127875258306,0\" stroke=\"rgb(31, 6, 142)\" stroke-width=\"2\" opacity=\"0.7\"/><path aria-label=\"S: 900; s: 100; lost_mean: 2.51\" role=\"graphics-symbol\" aria-roledescription=\"point\" transform=\"translate(180,123.07692307692308)\" d=\"M2.7386127875258306,0A2.7386127875258306,2.7386127875258306,0,1,1,-2.7386127875258306,0A2.7386127875258306,2.7386127875258306,0,1,1,2.7386127875258306,0\" stroke=\"rgb(21, 7, 138)\" stroke-width=\"2\" opacity=\"0.7\"/><path aria-label=\"S: 1000; s: 100; lost_mean: 2.53\" role=\"graphics-symbol\" aria-roledescription=\"point\" transform=\"translate(200,123.07692307692308)\" d=\"M2.7386127875258306,0A2.7386127875258306,2.7386127875258306,0,1,1,-2.7386127875258306,0A2.7386127875258306,2.7386127875258306,0,1,1,2.7386127875258306,0\" stroke=\"rgb(21, 7, 138)\" stroke-width=\"2\" opacity=\"0.7\"/><path aria-label=\"S: 200; s: 125; lost_mean: 9.32\" role=\"graphics-symbol\" aria-roledescription=\"point\" transform=\"translate(40,103.84615384615384)\" d=\"M2.7386127875258306,0A2.7386127875258306,2.7386127875258306,0,1,1,-2.7386127875258306,0A2.7386127875258306,2.7386127875258306,0,1,1,2.7386127875258306,0\" stroke=\"rgb(40, 6, 146)\" stroke-width=\"2\" opacity=\"0.7\"/><path aria-label=\"S: 300; s: 125; lost_mean: 2.89\" role=\"graphics-symbol\" aria-roledescription=\"point\" transform=\"translate(60,103.84615384615384)\" d=\"M2.7386127875258306,0A2.7386127875258306,2.7386127875258306,0,1,1,-2.7386127875258306,0A2.7386127875258306,2.7386127875258306,0,1,1,2.7386127875258306,0\" stroke=\"rgb(22, 7, 139)\" stroke-width=\"2\" opacity=\"0.7\"/><path aria-label=\"S: 400; s: 125; lost_mean: 4.37\" role=\"graphics-symbol\" aria-roledescription=\"point\" transform=\"translate(80,103.84615384615384)\" d=\"M2.7386127875258306,0A2.7386127875258306,2.7386127875258306,0,1,1,-2.7386127875258306,0A2.7386127875258306,2.7386127875258306,0,1,1,2.7386127875258306,0\" stroke=\"rgb(26, 7, 140)\" stroke-width=\"2\" opacity=\"0.7\"/><path aria-label=\"S: 500; s: 125; lost_mean: 3.27\" role=\"graphics-symbol\" aria-roledescription=\"point\" transform=\"translate(100,103.84615384615384)\" d=\"M2.7386127875258306,0A2.7386127875258306,2.7386127875258306,0,1,1,-2.7386127875258306,0A2.7386127875258306,2.7386127875258306,0,1,1,2.7386127875258306,0\" stroke=\"rgb(23, 7, 139)\" stroke-width=\"2\" opacity=\"0.7\"/><path aria-label=\"S: 600; s: 125; lost_mean: 0.92\" role=\"graphics-symbol\" aria-roledescription=\"point\" transform=\"translate(120,103.84615384615384)\" d=\"M2.7386127875258306,0A2.7386127875258306,2.7386127875258306,0,1,1,-2.7386127875258306,0A2.7386127875258306,2.7386127875258306,0,1,1,2.7386127875258306,0\" stroke=\"rgb(16, 8, 136)\" stroke-width=\"2\" opacity=\"0.7\"/><path aria-label=\"S: 700; s: 125; lost_mean: 0.75\" role=\"graphics-symbol\" aria-roledescription=\"point\" transform=\"translate(140,103.84615384615384)\" d=\"M2.7386127875258306,0A2.7386127875258306,2.7386127875258306,0,1,1,-2.7386127875258306,0A2.7386127875258306,2.7386127875258306,0,1,1,2.7386127875258306,0\" stroke=\"rgb(15, 8, 136)\" stroke-width=\"2\" opacity=\"0.7\"/><path aria-label=\"S: 800; s: 125; lost_mean: 2.17\" role=\"graphics-symbol\" aria-roledescription=\"point\" transform=\"translate(160,103.84615384615384)\" d=\"M2.7386127875258306,0A2.7386127875258306,2.7386127875258306,0,1,1,-2.7386127875258306,0A2.7386127875258306,2.7386127875258306,0,1,1,2.7386127875258306,0\" stroke=\"rgb(20, 7, 138)\" stroke-width=\"2\" opacity=\"0.7\"/><path aria-label=\"S: 900; s: 125; lost_mean: 1.94\" role=\"graphics-symbol\" aria-roledescription=\"point\" transform=\"translate(180,103.84615384615384)\" d=\"M2.7386127875258306,0A2.7386127875258306,2.7386127875258306,0,1,1,-2.7386127875258306,0A2.7386127875258306,2.7386127875258306,0,1,1,2.7386127875258306,0\" stroke=\"rgb(19, 7, 137)\" stroke-width=\"2\" opacity=\"0.7\"/><path aria-label=\"S: 1000; s: 125; lost_mean: 1.12\" role=\"graphics-symbol\" aria-roledescription=\"point\" transform=\"translate(200,103.84615384615384)\" d=\"M2.7386127875258306,0A2.7386127875258306,2.7386127875258306,0,1,1,-2.7386127875258306,0A2.7386127875258306,2.7386127875258306,0,1,1,2.7386127875258306,0\" stroke=\"rgb(16, 8, 136)\" stroke-width=\"2\" opacity=\"0.7\"/><path aria-label=\"S: 200; s: 150; lost_mean: 1.83\" role=\"graphics-symbol\" aria-roledescription=\"point\" transform=\"translate(40,84.61538461538463)\" d=\"M2.7386127875258306,0A2.7386127875258306,2.7386127875258306,0,1,1,-2.7386127875258306,0A2.7386127875258306,2.7386127875258306,0,1,1,2.7386127875258306,0\" stroke=\"rgb(19, 7, 137)\" stroke-width=\"2\" opacity=\"0.7\"/><path aria-label=\"S: 300; s: 150; lost_mean: 2.02\" role=\"graphics-symbol\" aria-roledescription=\"point\" transform=\"translate(60,84.61538461538463)\" d=\"M2.7386127875258306,0A2.7386127875258306,2.7386127875258306,0,1,1,-2.7386127875258306,0A2.7386127875258306,2.7386127875258306,0,1,1,2.7386127875258306,0\" stroke=\"rgb(19, 7, 138)\" stroke-width=\"2\" opacity=\"0.7\"/><path aria-label=\"S: 400; s: 150; lost_mean: 1.22\" role=\"graphics-symbol\" aria-roledescription=\"point\" transform=\"translate(80,84.61538461538463)\" d=\"M2.7386127875258306,0A2.7386127875258306,2.7386127875258306,0,1,1,-2.7386127875258306,0A2.7386127875258306,2.7386127875258306,0,1,1,2.7386127875258306,0\" stroke=\"rgb(17, 8, 137)\" stroke-width=\"2\" opacity=\"0.7\"/><path aria-label=\"S: 500; s: 150; lost_mean: 0.56\" role=\"graphics-symbol\" aria-roledescription=\"point\" transform=\"translate(100,84.61538461538463)\" d=\"M2.7386127875258306,0A2.7386127875258306,2.7386127875258306,0,1,1,-2.7386127875258306,0A2.7386127875258306,2.7386127875258306,0,1,1,2.7386127875258306,0\" stroke=\"rgb(15, 8, 136)\" stroke-width=\"2\" opacity=\"0.7\"/><path aria-label=\"S: 600; s: 150; lost_mean: 1.99\" role=\"graphics-symbol\" aria-roledescription=\"point\" transform=\"translate(120,84.61538461538463)\" d=\"M2.7386127875258306,0A2.7386127875258306,2.7386127875258306,0,1,1,-2.7386127875258306,0A2.7386127875258306,2.7386127875258306,0,1,1,2.7386127875258306,0\" stroke=\"rgb(19, 7, 137)\" stroke-width=\"2\" opacity=\"0.7\"/><path aria-label=\"S: 700; s: 150; lost_mean: 0.28\" role=\"graphics-symbol\" aria-roledescription=\"point\" transform=\"translate(140,84.61538461538463)\" d=\"M2.7386127875258306,0A2.7386127875258306,2.7386127875258306,0,1,1,-2.7386127875258306,0A2.7386127875258306,2.7386127875258306,0,1,1,2.7386127875258306,0\" stroke=\"rgb(14, 8, 135)\" stroke-width=\"2\" opacity=\"0.7\"/><path aria-label=\"S: 800; s: 150; lost_mean: 1.81\" role=\"graphics-symbol\" aria-roledescription=\"point\" transform=\"translate(160,84.61538461538463)\" d=\"M2.7386127875258306,0A2.7386127875258306,2.7386127875258306,0,1,1,-2.7386127875258306,0A2.7386127875258306,2.7386127875258306,0,1,1,2.7386127875258306,0\" stroke=\"rgb(19, 7, 137)\" stroke-width=\"2\" opacity=\"0.7\"/><path aria-label=\"S: 900; s: 150; lost_mean: 0.44\" role=\"graphics-symbol\" aria-roledescription=\"point\" transform=\"translate(180,84.61538461538463)\" d=\"M2.7386127875258306,0A2.7386127875258306,2.7386127875258306,0,1,1,-2.7386127875258306,0A2.7386127875258306,2.7386127875258306,0,1,1,2.7386127875258306,0\" stroke=\"rgb(14, 8, 136)\" stroke-width=\"2\" opacity=\"0.7\"/><path aria-label=\"S: 1000; s: 150; lost_mean: 1.6\" role=\"graphics-symbol\" aria-roledescription=\"point\" transform=\"translate(200,84.61538461538463)\" d=\"M2.7386127875258306,0A2.7386127875258306,2.7386127875258306,0,1,1,-2.7386127875258306,0A2.7386127875258306,2.7386127875258306,0,1,1,2.7386127875258306,0\" stroke=\"rgb(18, 8, 137)\" stroke-width=\"2\" opacity=\"0.7\"/><path aria-label=\"S: 200; s: 175; lost_mean: 3.27\" role=\"graphics-symbol\" aria-roledescription=\"point\" transform=\"translate(40,65.38461538461537)\" d=\"M2.7386127875258306,0A2.7386127875258306,2.7386127875258306,0,1,1,-2.7386127875258306,0A2.7386127875258306,2.7386127875258306,0,1,1,2.7386127875258306,0\" stroke=\"rgb(23, 7, 139)\" stroke-width=\"2\" opacity=\"0.7\"/><path aria-label=\"S: 300; s: 175; lost_mean: 0.71\" role=\"graphics-symbol\" aria-roledescription=\"point\" transform=\"translate(60,65.38461538461537)\" d=\"M2.7386127875258306,0A2.7386127875258306,2.7386127875258306,0,1,1,-2.7386127875258306,0A2.7386127875258306,2.7386127875258306,0,1,1,2.7386127875258306,0\" stroke=\"rgb(15, 8, 136)\" stroke-width=\"2\" opacity=\"0.7\"/><path aria-label=\"S: 400; s: 175; lost_mean: 1.75\" role=\"graphics-symbol\" aria-roledescription=\"point\" transform=\"translate(80,65.38461538461537)\" d=\"M2.7386127875258306,0A2.7386127875258306,2.7386127875258306,0,1,1,-2.7386127875258306,0A2.7386127875258306,2.7386127875258306,0,1,1,2.7386127875258306,0\" stroke=\"rgb(18, 8, 137)\" stroke-width=\"2\" opacity=\"0.7\"/><path aria-label=\"S: 500; s: 175; lost_mean: 0.36\" role=\"graphics-symbol\" aria-roledescription=\"point\" transform=\"translate(100,65.38461538461537)\" d=\"M2.7386127875258306,0A2.7386127875258306,2.7386127875258306,0,1,1,-2.7386127875258306,0A2.7386127875258306,2.7386127875258306,0,1,1,2.7386127875258306,0\" stroke=\"rgb(14, 8, 135)\" stroke-width=\"2\" opacity=\"0.7\"/><path aria-label=\"S: 600; s: 175; lost_mean: 0.67\" role=\"graphics-symbol\" aria-roledescription=\"point\" transform=\"translate(120,65.38461538461537)\" d=\"M2.7386127875258306,0A2.7386127875258306,2.7386127875258306,0,1,1,-2.7386127875258306,0A2.7386127875258306,2.7386127875258306,0,1,1,2.7386127875258306,0\" stroke=\"rgb(15, 8, 136)\" stroke-width=\"2\" opacity=\"0.7\"/><path aria-label=\"S: 700; s: 175; lost_mean: 0.02\" role=\"graphics-symbol\" aria-roledescription=\"point\" transform=\"translate(140,65.38461538461537)\" d=\"M2.7386127875258306,0A2.7386127875258306,2.7386127875258306,0,1,1,-2.7386127875258306,0A2.7386127875258306,2.7386127875258306,0,1,1,2.7386127875258306,0\" stroke=\"rgb(13, 8, 135)\" stroke-width=\"2\" opacity=\"0.7\"/><path aria-label=\"S: 800; s: 175; lost_mean: 1.83\" role=\"graphics-symbol\" aria-roledescription=\"point\" transform=\"translate(160,65.38461538461537)\" d=\"M2.7386127875258306,0A2.7386127875258306,2.7386127875258306,0,1,1,-2.7386127875258306,0A2.7386127875258306,2.7386127875258306,0,1,1,2.7386127875258306,0\" stroke=\"rgb(19, 7, 137)\" stroke-width=\"2\" opacity=\"0.7\"/><path aria-label=\"S: 900; s: 175; lost_mean: 1.06\" role=\"graphics-symbol\" aria-roledescription=\"point\" transform=\"translate(180,65.38461538461537)\" d=\"M2.7386127875258306,0A2.7386127875258306,2.7386127875258306,0,1,1,-2.7386127875258306,0A2.7386127875258306,2.7386127875258306,0,1,1,2.7386127875258306,0\" stroke=\"rgb(16, 8, 136)\" stroke-width=\"2\" opacity=\"0.7\"/><path aria-label=\"S: 1000; s: 175; lost_mean: 1.49\" role=\"graphics-symbol\" aria-roledescription=\"point\" transform=\"translate(200,65.38461538461537)\" d=\"M2.7386127875258306,0A2.7386127875258306,2.7386127875258306,0,1,1,-2.7386127875258306,0A2.7386127875258306,2.7386127875258306,0,1,1,2.7386127875258306,0\" stroke=\"rgb(18, 8, 137)\" stroke-width=\"2\" opacity=\"0.7\"/><path aria-label=\"S: 300; s: 200; lost_mean: 0.68\" role=\"graphics-symbol\" aria-roledescription=\"point\" transform=\"translate(60,46.153846153846146)\" d=\"M2.7386127875258306,0A2.7386127875258306,2.7386127875258306,0,1,1,-2.7386127875258306,0A2.7386127875258306,2.7386127875258306,0,1,1,2.7386127875258306,0\" stroke=\"rgb(15, 8, 136)\" stroke-width=\"2\" opacity=\"0.7\"/><path aria-label=\"S: 400; s: 200; lost_mean: 0.82\" role=\"graphics-symbol\" aria-roledescription=\"point\" transform=\"translate(80,46.153846153846146)\" d=\"M2.7386127875258306,0A2.7386127875258306,2.7386127875258306,0,1,1,-2.7386127875258306,0A2.7386127875258306,2.7386127875258306,0,1,1,2.7386127875258306,0\" stroke=\"rgb(15, 8, 136)\" stroke-width=\"2\" opacity=\"0.7\"/><path aria-label=\"S: 500; s: 200; lost_mean: 0.79\" role=\"graphics-symbol\" aria-roledescription=\"point\" transform=\"translate(100,46.153846153846146)\" d=\"M2.7386127875258306,0A2.7386127875258306,2.7386127875258306,0,1,1,-2.7386127875258306,0A2.7386127875258306,2.7386127875258306,0,1,1,2.7386127875258306,0\" stroke=\"rgb(15, 8, 136)\" stroke-width=\"2\" opacity=\"0.7\"/><path aria-label=\"S: 600; s: 200; lost_mean: 1.25\" role=\"graphics-symbol\" aria-roledescription=\"point\" transform=\"translate(120,46.153846153846146)\" d=\"M2.7386127875258306,0A2.7386127875258306,2.7386127875258306,0,1,1,-2.7386127875258306,0A2.7386127875258306,2.7386127875258306,0,1,1,2.7386127875258306,0\" stroke=\"rgb(17, 8, 137)\" stroke-width=\"2\" opacity=\"0.7\"/><path aria-label=\"S: 700; s: 200; lost_mean: 0.72\" role=\"graphics-symbol\" aria-roledescription=\"point\" transform=\"translate(140,46.153846153846146)\" d=\"M2.7386127875258306,0A2.7386127875258306,2.7386127875258306,0,1,1,-2.7386127875258306,0A2.7386127875258306,2.7386127875258306,0,1,1,2.7386127875258306,0\" stroke=\"rgb(15, 8, 136)\" stroke-width=\"2\" opacity=\"0.7\"/><path aria-label=\"S: 800; s: 200; lost_mean: 0.33\" role=\"graphics-symbol\" aria-roledescription=\"point\" transform=\"translate(160,46.153846153846146)\" d=\"M2.7386127875258306,0A2.7386127875258306,2.7386127875258306,0,1,1,-2.7386127875258306,0A2.7386127875258306,2.7386127875258306,0,1,1,2.7386127875258306,0\" stroke=\"rgb(14, 8, 135)\" stroke-width=\"2\" opacity=\"0.7\"/><path aria-label=\"S: 900; s: 200; lost_mean: 0.38\" role=\"graphics-symbol\" aria-roledescription=\"point\" transform=\"translate(180,46.153846153846146)\" d=\"M2.7386127875258306,0A2.7386127875258306,2.7386127875258306,0,1,1,-2.7386127875258306,0A2.7386127875258306,2.7386127875258306,0,1,1,2.7386127875258306,0\" stroke=\"rgb(14, 8, 135)\" stroke-width=\"2\" opacity=\"0.7\"/><path aria-label=\"S: 1000; s: 200; lost_mean: 0.52\" role=\"graphics-symbol\" aria-roledescription=\"point\" transform=\"translate(200,46.153846153846146)\" d=\"M2.7386127875258306,0A2.7386127875258306,2.7386127875258306,0,1,1,-2.7386127875258306,0A2.7386127875258306,2.7386127875258306,0,1,1,2.7386127875258306,0\" stroke=\"rgb(15, 8, 136)\" stroke-width=\"2\" opacity=\"0.7\"/><path aria-label=\"S: 300; s: 225; lost_mean: 1.5\" role=\"graphics-symbol\" aria-roledescription=\"point\" transform=\"translate(60,26.923076923076916)\" d=\"M2.7386127875258306,0A2.7386127875258306,2.7386127875258306,0,1,1,-2.7386127875258306,0A2.7386127875258306,2.7386127875258306,0,1,1,2.7386127875258306,0\" stroke=\"rgb(18, 8, 137)\" stroke-width=\"2\" opacity=\"0.7\"/><path aria-label=\"S: 400; s: 225; lost_mean: 0.7\" role=\"graphics-symbol\" aria-roledescription=\"point\" transform=\"translate(80,26.923076923076916)\" d=\"M2.7386127875258306,0A2.7386127875258306,2.7386127875258306,0,1,1,-2.7386127875258306,0A2.7386127875258306,2.7386127875258306,0,1,1,2.7386127875258306,0\" stroke=\"rgb(15, 8, 136)\" stroke-width=\"2\" opacity=\"0.7\"/><path aria-label=\"S: 500; s: 225; lost_mean: 1.65\" role=\"graphics-symbol\" aria-roledescription=\"point\" transform=\"translate(100,26.923076923076916)\" d=\"M2.7386127875258306,0A2.7386127875258306,2.7386127875258306,0,1,1,-2.7386127875258306,0A2.7386127875258306,2.7386127875258306,0,1,1,2.7386127875258306,0\" stroke=\"rgb(18, 8, 137)\" stroke-width=\"2\" opacity=\"0.7\"/><path aria-label=\"S: 600; s: 225; lost_mean: 2.13\" role=\"graphics-symbol\" aria-roledescription=\"point\" transform=\"translate(120,26.923076923076916)\" d=\"M2.7386127875258306,0A2.7386127875258306,2.7386127875258306,0,1,1,-2.7386127875258306,0A2.7386127875258306,2.7386127875258306,0,1,1,2.7386127875258306,0\" stroke=\"rgb(19, 7, 138)\" stroke-width=\"2\" opacity=\"0.7\"/><path aria-label=\"S: 700; s: 225; lost_mean: 0.93\" role=\"graphics-symbol\" aria-roledescription=\"point\" transform=\"translate(140,26.923076923076916)\" d=\"M2.7386127875258306,0A2.7386127875258306,2.7386127875258306,0,1,1,-2.7386127875258306,0A2.7386127875258306,2.7386127875258306,0,1,1,2.7386127875258306,0\" stroke=\"rgb(16, 8, 136)\" stroke-width=\"2\" opacity=\"0.7\"/><path aria-label=\"S: 800; s: 225; lost_mean: 0.1\" role=\"graphics-symbol\" aria-roledescription=\"point\" transform=\"translate(160,26.923076923076916)\" d=\"M2.7386127875258306,0A2.7386127875258306,2.7386127875258306,0,1,1,-2.7386127875258306,0A2.7386127875258306,2.7386127875258306,0,1,1,2.7386127875258306,0\" stroke=\"rgb(13, 8, 135)\" stroke-width=\"2\" opacity=\"0.7\"/><path aria-label=\"S: 900; s: 225; lost_mean: 0.48\" role=\"graphics-symbol\" aria-roledescription=\"point\" transform=\"translate(180,26.923076923076916)\" d=\"M2.7386127875258306,0A2.7386127875258306,2.7386127875258306,0,1,1,-2.7386127875258306,0A2.7386127875258306,2.7386127875258306,0,1,1,2.7386127875258306,0\" stroke=\"rgb(14, 8, 136)\" stroke-width=\"2\" opacity=\"0.7\"/><path aria-label=\"S: 1000; s: 225; lost_mean: 1.32\" role=\"graphics-symbol\" aria-roledescription=\"point\" transform=\"translate(200,26.923076923076916)\" d=\"M2.7386127875258306,0A2.7386127875258306,2.7386127875258306,0,1,1,-2.7386127875258306,0A2.7386127875258306,2.7386127875258306,0,1,1,2.7386127875258306,0\" stroke=\"rgb(17, 8, 137)\" stroke-width=\"2\" opacity=\"0.7\"/><path aria-label=\"S: 300; s: 250; lost_mean: 0.4\" role=\"graphics-symbol\" aria-roledescription=\"point\" transform=\"translate(60,7.692307692307687)\" d=\"M2.7386127875258306,0A2.7386127875258306,2.7386127875258306,0,1,1,-2.7386127875258306,0A2.7386127875258306,2.7386127875258306,0,1,1,2.7386127875258306,0\" stroke=\"rgb(14, 8, 135)\" stroke-width=\"2\" opacity=\"0.7\"/><path aria-label=\"S: 400; s: 250; lost_mean: 0.1\" role=\"graphics-symbol\" aria-roledescription=\"point\" transform=\"translate(80,7.692307692307687)\" d=\"M2.7386127875258306,0A2.7386127875258306,2.7386127875258306,0,1,1,-2.7386127875258306,0A2.7386127875258306,2.7386127875258306,0,1,1,2.7386127875258306,0\" stroke=\"rgb(13, 8, 135)\" stroke-width=\"2\" opacity=\"0.7\"/><path aria-label=\"S: 500; s: 250; lost_mean: 0.21\" role=\"graphics-symbol\" aria-roledescription=\"point\" transform=\"translate(100,7.692307692307687)\" d=\"M2.7386127875258306,0A2.7386127875258306,2.7386127875258306,0,1,1,-2.7386127875258306,0A2.7386127875258306,2.7386127875258306,0,1,1,2.7386127875258306,0\" stroke=\"rgb(14, 8, 135)\" stroke-width=\"2\" opacity=\"0.7\"/><path aria-label=\"S: 600; s: 250; lost_mean: 2.18\" role=\"graphics-symbol\" aria-roledescription=\"point\" transform=\"translate(120,7.692307692307687)\" d=\"M2.7386127875258306,0A2.7386127875258306,2.7386127875258306,0,1,1,-2.7386127875258306,0A2.7386127875258306,2.7386127875258306,0,1,1,2.7386127875258306,0\" stroke=\"rgb(20, 7, 138)\" stroke-width=\"2\" opacity=\"0.7\"/><path aria-label=\"S: 700; s: 250; lost_mean: 1.76\" role=\"graphics-symbol\" aria-roledescription=\"point\" transform=\"translate(140,7.692307692307687)\" d=\"M2.7386127875258306,0A2.7386127875258306,2.7386127875258306,0,1,1,-2.7386127875258306,0A2.7386127875258306,2.7386127875258306,0,1,1,2.7386127875258306,0\" stroke=\"rgb(18, 8, 137)\" stroke-width=\"2\" opacity=\"0.7\"/><path aria-label=\"S: 800; s: 250; lost_mean: 0.03\" role=\"graphics-symbol\" aria-roledescription=\"point\" transform=\"translate(160,7.692307692307687)\" d=\"M2.7386127875258306,0A2.7386127875258306,2.7386127875258306,0,1,1,-2.7386127875258306,0A2.7386127875258306,2.7386127875258306,0,1,1,2.7386127875258306,0\" stroke=\"rgb(13, 8, 135)\" stroke-width=\"2\" opacity=\"0.7\"/><path aria-label=\"S: 900; s: 250; lost_mean: 0.96\" role=\"graphics-symbol\" aria-roledescription=\"point\" transform=\"translate(180,7.692307692307687)\" d=\"M2.7386127875258306,0A2.7386127875258306,2.7386127875258306,0,1,1,-2.7386127875258306,0A2.7386127875258306,2.7386127875258306,0,1,1,2.7386127875258306,0\" stroke=\"rgb(16, 8, 136)\" stroke-width=\"2\" opacity=\"0.7\"/><path aria-label=\"S: 1000; s: 250; lost_mean: 0\" role=\"graphics-symbol\" aria-roledescription=\"point\" transform=\"translate(200,7.692307692307687)\" d=\"M2.7386127875258306,0A2.7386127875258306,2.7386127875258306,0,1,1,-2.7386127875258306,0A2.7386127875258306,2.7386127875258306,0,1,1,2.7386127875258306,0\" stroke=\"rgb(13, 8, 135)\" stroke-width=\"2\" opacity=\"0.7\"/></g><g class=\"mark-group role-legend\" role=\"graphics-symbol\" aria-roledescription=\"legend\" aria-label=\"Gradient legend titled 'lost_mean' for stroke color with values from 0 to 217\"><g transform=\"translate(218,0)\"><path class=\"background\" aria-hidden=\"true\" d=\"M0,0h55v216h-55Z\" pointer-events=\"none\"/><g><g class=\"mark-group role-legend-entry\"><g transform=\"translate(0,16)\"><path class=\"background\" aria-hidden=\"true\" d=\"M0,0h0v0h0Z\" pointer-events=\"none\"/><g><g class=\"mark-rect role-legend-gradient\" pointer-events=\"none\"><path d=\"M0,0h16v200h-16Z\" fill=\"url(#gradient_0)\" stroke=\"#ddd\" stroke-width=\"0\" opacity=\"0.7\"/></g><g class=\"mark-text role-legend-label\" pointer-events=\"none\"><text text-anchor=\"start\" transform=\"translate(18,198)\" font-family=\"sans-serif\" font-size=\"10px\" fill=\"#000\" opacity=\"1\">0</text><text text-anchor=\"start\" transform=\"translate(18,156.84473368411335)\" font-family=\"sans-serif\" font-size=\"10px\" fill=\"#000\" opacity=\"1\">50</text><text text-anchor=\"start\" transform=\"translate(18,110.68946736822672)\" font-family=\"sans-serif\" font-size=\"10px\" fill=\"#000\" opacity=\"1\">100</text><text text-anchor=\"start\" transform=\"translate(18,64.53420105234007)\" font-family=\"sans-serif\" font-size=\"10px\" fill=\"#000\" opacity=\"1\">150</text><text text-anchor=\"start\" transform=\"translate(18,18.37893473645342)\" font-family=\"sans-serif\" font-size=\"10px\" fill=\"#000\" opacity=\"1\">200</text></g></g><path class=\"foreground\" aria-hidden=\"true\" d=\"\" pointer-events=\"none\" display=\"none\"/></g></g><g class=\"mark-text role-legend-title\" pointer-events=\"none\"><text text-anchor=\"start\" transform=\"translate(0,9)\" font-family=\"sans-serif\" font-size=\"11px\" font-weight=\"bold\" fill=\"#000\" opacity=\"1\">lost_mean</text></g></g><path class=\"foreground\" aria-hidden=\"true\" d=\"\" pointer-events=\"none\" display=\"none\"/></g></g></g><path class=\"foreground\" aria-hidden=\"true\" d=\"\" display=\"none\"/></g></g></g><defs><linearGradient id=\"gradient_0\" x1=\"0\" x2=\"0\" y1=\"1\" y2=\"0\"><stop offset=\"0\" stop-color=\"rgb(13, 8, 135)\"/><stop offset=\"0.09231053263177329\" stop-color=\"rgb(63, 3, 156)\"/><stop offset=\"0.18462106526354657\" stop-color=\"rgb(100, 0, 167)\"/><stop offset=\"0.27693159789531985\" stop-color=\"rgb(136, 7, 166)\"/><stop offset=\"0.36924213052709315\" stop-color=\"rgb(168, 34, 151)\"/><stop offset=\"0.46155266315886645\" stop-color=\"rgb(194, 60, 129)\"/><stop offset=\"0.5538631957906397\" stop-color=\"rgb(215, 87, 108)\"/><stop offset=\"0.646173728422413\" stop-color=\"rgb(233, 114, 88)\"/><stop offset=\"0.7384842610541863\" stop-color=\"rgb(247, 145, 67)\"/><stop offset=\"0.8307947936859595\" stop-color=\"rgb(253, 178, 48)\"/><stop offset=\"0.9231053263177329\" stop-color=\"rgb(250, 216, 36)\"/><stop offset=\"1\" stop-color=\"rgb(240, 249, 33)\"/></linearGradient></defs></svg>\n"
      ],
      "text/plain": [
       "@vlplot(\n",
       "    mark=\"point\",\n",
       "    encoding={\n",
       "        x={\n",
       "            field=\"S\"\n",
       "        },\n",
       "        y={\n",
       "            field=\"s\"\n",
       "        },\n",
       "        color={\n",
       "            scale={\n",
       "                scheme=\"plasma\"\n",
       "            },\n",
       "            field=\"lost_mean\"\n",
       "        }\n",
       "    },\n",
       "    data={\n",
       "        values=...\n",
       "    }\n",
       ")"
      ]
     },
     "execution_count": 85,
     "metadata": {},
     "output_type": "execute_result"
    }
   ],
   "source": [
    "# using PyPlot\n",
    "# using PyCall \n",
    "\n",
    "using VegaLite\n",
    "df |> @vlplot(:point, x=:S, y=:s, color={:lost_mean, scale={scheme=:plasma}})\n",
    "\n",
    "        # scatter(df.S[more500],\n",
    "#         df.s[more500], \n",
    "#         c=df.lost_mean[more500] )\n",
    "# xlabel(\"S - target wharehouse stock \")\n",
    "# ylabel(\"s - reorder point\")\n",
    "# colorbar()\n",
    "# title(\"Lost orders\")\n",
    "\n",
    "# scatter(df.S[Not(more500)],\n",
    "#         df.s[Not(more500)], \n",
    "#         c=\"gray\")\n",
    "# show()\n",
    "# savefig(raw\"c:\\temp\\lost_orders.png\")"
   ]
  },
  {
   "cell_type": "code",
   "execution_count": 86,
   "metadata": {
    "scrolled": true
   },
   "outputs": [
    {
     "data": {
      "application/vnd.vegalite.v4+json": {
       "data": {
        "values": [
         {
          "N": 100,
          "S": 100,
          "lost_mean": 216.66,
          "lost_std": 86.9470081269173,
          "m": 90,
          "profit_mean": 2971.249,
          "profit_std": 187.95520554621308,
          "s": 25
         },
         {
          "N": 100,
          "S": 200,
          "lost_mean": 118.92,
          "lost_std": 62.04913009426116,
          "m": 90,
          "profit_mean": 3579.7960000000003,
          "profit_std": 143.17221100493074,
          "s": 25
         },
         {
          "N": 100,
          "S": 300,
          "lost_mean": 81.2,
          "lost_std": 61.18988495006359,
          "m": 90,
          "profit_mean": 3488.4050000000007,
          "profit_std": 233.74275784168026,
          "s": 25
         },
         {
          "N": 100,
          "S": 400,
          "lost_mean": 60.11,
          "lost_std": 45.893793731073295,
          "m": 90,
          "profit_mean": 3081.231,
          "profit_std": 179.82085119429956,
          "s": 25
         },
         {
          "N": 100,
          "S": 500,
          "lost_mean": 50.72,
          "lost_std": 46.57742115678112,
          "m": 90,
          "profit_mean": 2630.7940000000003,
          "profit_std": 167.02355959141173,
          "s": 25
         },
         {
          "N": 100,
          "S": 600,
          "lost_mean": 34.57,
          "lost_std": 38.67169638133426,
          "m": 90,
          "profit_mean": 2546.72,
          "profit_std": 258.4702663477147,
          "s": 25
         },
         {
          "N": 100,
          "S": 700,
          "lost_mean": 33.52,
          "lost_std": 31.946128897178628,
          "m": 90,
          "profit_mean": 1683.641,
          "profit_std": 168.93935442559678,
          "s": 25
         },
         {
          "N": 100,
          "S": 800,
          "lost_mean": 32.05,
          "lost_std": 34.9673368511908,
          "m": 90,
          "profit_mean": 1200.9729999999995,
          "profit_std": 281.1663826245624,
          "s": 25
         },
         {
          "N": 100,
          "S": 900,
          "lost_mean": 30.45,
          "lost_std": 37.83360031944242,
          "m": 90,
          "profit_mean": 1367.398,
          "profit_std": 302.58799637711195,
          "s": 25
         },
         {
          "N": 100,
          "S": 1000,
          "lost_mean": 24.22,
          "lost_std": 28.795194604711952,
          "m": 90,
          "profit_mean": 419.79099999999994,
          "profit_std": 221.17033158800362,
          "s": 25
         },
         {
          "N": 100,
          "S": 100,
          "lost_mean": 118.74,
          "lost_std": 73.54756861028683,
          "m": 90,
          "profit_mean": 2661.4039999999995,
          "profit_std": 141.7369971019379,
          "s": 50
         },
         {
          "N": 100,
          "S": 200,
          "lost_mean": 49.21,
          "lost_std": 49.32602218552054,
          "m": 90,
          "profit_mean": 3534.3150000000005,
          "profit_std": 159.41803592055612,
          "s": 50
         },
         {
          "N": 100,
          "S": 300,
          "lost_mean": 44.28,
          "lost_std": 55.60249976213282,
          "m": 90,
          "profit_mean": 3394.5560000000005,
          "profit_std": 188.26334141625162,
          "s": 50
         },
         {
          "N": 100,
          "S": 400,
          "lost_mean": 37.86,
          "lost_std": 48.17833454149198,
          "m": 90,
          "profit_mean": 3061.301,
          "profit_std": 190.8767143996355,
          "s": 50
         },
         {
          "N": 100,
          "S": 500,
          "lost_mean": 21.04,
          "lost_std": 31.871243490271315,
          "m": 90,
          "profit_mean": 2721.5890000000004,
          "profit_std": 214.69375882823894,
          "s": 50
         },
         {
          "N": 100,
          "S": 600,
          "lost_mean": 16.11,
          "lost_std": 27.825173908356856,
          "m": 90,
          "profit_mean": 2407.2490000000003,
          "profit_std": 282.0750023817901,
          "s": 50
         },
         {
          "N": 100,
          "S": 700,
          "lost_mean": 20.11,
          "lost_std": 29.26745184285331,
          "m": 90,
          "profit_mean": 1642.6039999999996,
          "profit_std": 171.262618893625,
          "s": 50
         },
         {
          "N": 100,
          "S": 800,
          "lost_mean": 18.19,
          "lost_std": 32.82481661576475,
          "m": 90,
          "profit_mean": 1014.0949999999997,
          "profit_std": 189.3099048538073,
          "s": 50
         },
         {
          "N": 100,
          "S": 900,
          "lost_mean": 13.63,
          "lost_std": 25.355912983608448,
          "m": 90,
          "profit_mean": 1231.521,
          "profit_std": 324.8279520660658,
          "s": 50
         },
         {
          "N": 100,
          "S": 1000,
          "lost_mean": 9.96,
          "lost_std": 26.49868302425994,
          "m": 90,
          "profit_mean": 435.7709999999998,
          "profit_std": 259.2438944840799,
          "s": 50
         },
         {
          "N": 100,
          "S": 100,
          "lost_mean": 74.03,
          "lost_std": 56.146355467859465,
          "m": 90,
          "profit_mean": 1855.157,
          "profit_std": 251.1118521172137,
          "s": 75
         },
         {
          "N": 100,
          "S": 200,
          "lost_mean": 24.44,
          "lost_std": 32.929468550067725,
          "m": 90,
          "profit_mean": 3346.4440000000004,
          "profit_std": 164.15197769694447,
          "s": 75
         },
         {
          "N": 100,
          "S": 300,
          "lost_mean": 14.97,
          "lost_std": 26.357853946147905,
          "m": 90,
          "profit_mean": 3300.2020000000007,
          "profit_std": 171.81134943285713,
          "s": 75
         },
         {
          "N": 100,
          "S": 400,
          "lost_mean": 6.17,
          "lost_std": 14.591442766916574,
          "m": 90,
          "profit_mean": 3035.6479999999997,
          "profit_std": 209.69590559723002,
          "s": 75
         },
         {
          "N": 100,
          "S": 500,
          "lost_mean": 7.34,
          "lost_std": 24.491276533954412,
          "m": 90,
          "profit_mean": 2687.4680000000003,
          "profit_std": 239.6288636600147,
          "s": 75
         },
         {
          "N": 100,
          "S": 600,
          "lost_mean": 9.68,
          "lost_std": 26.735849651089385,
          "m": 90,
          "profit_mean": 2028.0840000000003,
          "profit_std": 263.90170986313603,
          "s": 75
         },
         {
          "N": 100,
          "S": 700,
          "lost_mean": 7.85,
          "lost_std": 21.5417729028504,
          "m": 90,
          "profit_mean": 1678.705,
          "profit_std": 207.2270415327696,
          "s": 75
         },
         {
          "N": 100,
          "S": 800,
          "lost_mean": 11.43,
          "lost_std": 24.390449778633442,
          "m": 90,
          "profit_mean": 914.724,
          "profit_std": 153.53444592288884,
          "s": 75
         },
         {
          "N": 100,
          "S": 900,
          "lost_mean": 4.52,
          "lost_std": 15.272263100209486,
          "m": 90,
          "profit_mean": 682.4799999999997,
          "profit_std": 435.9574175294989,
          "s": 75
         },
         {
          "N": 100,
          "S": 1000,
          "lost_mean": 3.27,
          "lost_std": 14.687901294754278,
          "m": 90,
          "profit_mean": 439.6809999999997,
          "profit_std": 268.44414639988645,
          "s": 75
         },
         {
          "N": 100,
          "S": 200,
          "lost_mean": 20.08,
          "lost_std": 32.71909213133809,
          "m": 90,
          "profit_mean": 3020.23,
          "profit_std": 160.12806900992885,
          "s": 100
         },
         {
          "N": 100,
          "S": 300,
          "lost_mean": 5.76,
          "lost_std": 15.6276884555793,
          "m": 90,
          "profit_mean": 3120.251,
          "profit_std": 168.18128836635097,
          "s": 100
         },
         {
          "N": 100,
          "S": 400,
          "lost_mean": 6.26,
          "lost_std": 17.33486007262169,
          "m": 90,
          "profit_mean": 2795.2369999999996,
          "profit_std": 187.47999362894984,
          "s": 100
         },
         {
          "N": 100,
          "S": 500,
          "lost_mean": 5.26,
          "lost_std": 26.617993458515535,
          "m": 90,
          "profit_mean": 2386.138,
          "profit_std": 263.08043889520366,
          "s": 100
         },
         {
          "N": 100,
          "S": 600,
          "lost_mean": 2.97,
          "lost_std": 13.148303266500925,
          "m": 90,
          "profit_mean": 1828.5710000000001,
          "profit_std": 170.44090969001425,
          "s": 100
         },
         {
          "N": 100,
          "S": 700,
          "lost_mean": 0.49,
          "lost_std": 2.7135834893246518,
          "m": 90,
          "profit_mean": 1683.693,
          "profit_std": 251.01191378019482,
          "s": 100
         },
         {
          "N": 100,
          "S": 800,
          "lost_mean": 5.79,
          "lost_std": 19.27802695382292,
          "m": 90,
          "profit_mean": 814.0609999999998,
          "profit_std": 186.53830266898606,
          "s": 100
         },
         {
          "N": 100,
          "S": 900,
          "lost_mean": 2.51,
          "lost_std": 7.848946400374996,
          "m": 90,
          "profit_mean": 293.36999999999983,
          "profit_std": 355.2029320392681,
          "s": 100
         },
         {
          "N": 100,
          "S": 1000,
          "lost_mean": 2.53,
          "lost_std": 12.014683777054906,
          "m": 90,
          "profit_mean": 428.6849999999998,
          "profit_std": 255.33067344725794,
          "s": 100
         },
         {
          "N": 100,
          "S": 200,
          "lost_mean": 9.32,
          "lost_std": 21.774268940168533,
          "m": 90,
          "profit_mean": 2615.4799999999996,
          "profit_std": 187.355158870941,
          "s": 125
         },
         {
          "N": 100,
          "S": 300,
          "lost_mean": 2.89,
          "lost_std": 12.867541970541087,
          "m": 90,
          "profit_mean": 2913.112,
          "profit_std": 175.10721811034347,
          "s": 125
         },
         {
          "N": 100,
          "S": 400,
          "lost_mean": 4.37,
          "lost_std": 18.413683427650682,
          "m": 90,
          "profit_mean": 2680.0350000000008,
          "profit_std": 174.42341978268527,
          "s": 125
         },
         {
          "N": 100,
          "S": 500,
          "lost_mean": 3.27,
          "lost_std": 18.34619658929144,
          "m": 90,
          "profit_mean": 2227.969,
          "profit_std": 205.2709747375331,
          "s": 125
         },
         {
          "N": 100,
          "S": 600,
          "lost_mean": 0.92,
          "lost_std": 5.364831231400866,
          "m": 90,
          "profit_mean": 1771.845,
          "profit_std": 161.99935613726643,
          "s": 125
         },
         {
          "N": 100,
          "S": 700,
          "lost_mean": 0.75,
          "lost_std": 6.1272285164607085,
          "m": 90,
          "profit_mean": 1545.7620000000002,
          "profit_std": 273.75956743762646,
          "s": 125
         },
         {
          "N": 100,
          "S": 800,
          "lost_mean": 2.17,
          "lost_std": 11.349413725791825,
          "m": 90,
          "profit_mean": 722.4939999999998,
          "profit_std": 207.39437171288384,
          "s": 125
         },
         {
          "N": 100,
          "S": 900,
          "lost_mean": 1.94,
          "lost_std": 8.282658042103648,
          "m": 90,
          "profit_mean": 59.789999999999836,
          "profit_std": 220.4234160048163,
          "s": 125
         },
         {
          "N": 100,
          "S": 1000,
          "lost_mean": 1.12,
          "lost_std": 8.359691647689191,
          "m": 90,
          "profit_mean": 268.1569999999998,
          "profit_std": 409.5952826963107,
          "s": 125
         },
         {
          "N": 100,
          "S": 200,
          "lost_mean": 1.83,
          "lost_std": 7.363649457526704,
          "m": 90,
          "profit_mean": 1970.987,
          "profit_std": 248.1636767042137,
          "s": 150
         },
         {
          "N": 100,
          "S": 300,
          "lost_mean": 2.02,
          "lost_std": 8.678290573190507,
          "m": 90,
          "profit_mean": 2671.952,
          "profit_std": 166.81307961701663,
          "s": 150
         },
         {
          "N": 100,
          "S": 400,
          "lost_mean": 1.22,
          "lost_std": 6.331865858696413,
          "m": 90,
          "profit_mean": 2497.744,
          "profit_std": 185.28499223486705,
          "s": 150
         },
         {
          "N": 100,
          "S": 500,
          "lost_mean": 0.56,
          "lost_std": 3.30386978489703,
          "m": 90,
          "profit_mean": 2149.314,
          "profit_std": 210.26386982440738,
          "s": 150
         },
         {
          "N": 100,
          "S": 600,
          "lost_mean": 1.99,
          "lost_std": 10.519337652460095,
          "m": 90,
          "profit_mean": 1814.606,
          "profit_std": 190.31460281450927,
          "s": 150
         },
         {
          "N": 100,
          "S": 700,
          "lost_mean": 0.28,
          "lost_std": 1.9698741179080554,
          "m": 90,
          "profit_mean": 1134.7029999999995,
          "profit_std": 327.16855769224566,
          "s": 150
         },
         {
          "N": 100,
          "S": 800,
          "lost_mean": 1.81,
          "lost_std": 10.048061273376836,
          "m": 90,
          "profit_mean": 737.2569999999998,
          "profit_std": 205.53083833347395,
          "s": 150
         },
         {
          "N": 100,
          "S": 900,
          "lost_mean": 0.44,
          "lost_std": 3.2108402248469083,
          "m": 90,
          "profit_mean": -37.010000000000225,
          "profit_std": 181.72357657395006,
          "s": 150
         },
         {
          "N": 100,
          "S": 1000,
          "lost_mean": 1.6,
          "lost_std": 8.836334538755771,
          "m": 90,
          "profit_mean": -236.9160000000002,
          "profit_std": 504.6193942713135,
          "s": 150
         },
         {
          "N": 100,
          "S": 200,
          "lost_mean": 3.27,
          "lost_std": 12.657775986692645,
          "m": 90,
          "profit_mean": 1034.612,
          "profit_std": 341.1812309899212,
          "s": 175
         },
         {
          "N": 100,
          "S": 300,
          "lost_mean": 0.71,
          "lost_std": 3.7180830294846046,
          "m": 90,
          "profit_mean": 2395.3160000000003,
          "profit_std": 204.57018391118135,
          "s": 175
         },
         {
          "N": 100,
          "S": 400,
          "lost_mean": 1.75,
          "lost_std": 12.90632528348919,
          "m": 90,
          "profit_mean": 2297.704,
          "profit_std": 193.6575880206604,
          "s": 175
         },
         {
          "N": 100,
          "S": 500,
          "lost_mean": 0.36,
          "lost_std": 3.5999999999999996,
          "m": 90,
          "profit_mean": 1958.382,
          "profit_std": 253.70202213692272,
          "s": 175
         },
         {
          "N": 100,
          "S": 600,
          "lost_mean": 0.67,
          "lost_std": 4.290122552462986,
          "m": 90,
          "profit_mean": 1649.5899999999997,
          "profit_std": 249.80461192983236,
          "s": 175
         },
         {
          "N": 100,
          "S": 700,
          "lost_mean": 0.02,
          "lost_std": 0.19999999999999998,
          "m": 90,
          "profit_mean": 917.8089999999997,
          "profit_std": 235.50629625287615,
          "s": 175
         },
         {
          "N": 100,
          "S": 800,
          "lost_mean": 1.83,
          "lost_std": 11.84159336125563,
          "m": 90,
          "profit_mean": 725.9579999999999,
          "profit_std": 225.62798745552894,
          "s": 175
         },
         {
          "N": 100,
          "S": 900,
          "lost_mean": 1.06,
          "lost_std": 10.600000000000003,
          "m": 90,
          "profit_mean": -147.6150000000002,
          "profit_std": 192.0369200482453,
          "s": 175
         },
         {
          "N": 100,
          "S": 1000,
          "lost_mean": 1.49,
          "lost_std": 9.630019352383082,
          "m": 90,
          "profit_mean": -507.8470000000002,
          "profit_std": 446.96536585482477,
          "s": 175
         },
         {
          "N": 100,
          "S": 300,
          "lost_mean": 0.68,
          "lost_std": 6.5007847234162455,
          "m": 90,
          "profit_mean": 2051.976,
          "profit_std": 166.18719645829125,
          "s": 200
         },
         {
          "N": 100,
          "S": 400,
          "lost_mean": 0.82,
          "lost_std": 5.341622346528188,
          "m": 90,
          "profit_mean": 2142.9079999999994,
          "profit_std": 205.21167277332017,
          "s": 200
         },
         {
          "N": 100,
          "S": 500,
          "lost_mean": 0.79,
          "lost_std": 4.759456296933951,
          "m": 90,
          "profit_mean": 1773.4129999999998,
          "profit_std": 192.5260631208359,
          "s": 200
         },
         {
          "N": 100,
          "S": 600,
          "lost_mean": 1.25,
          "lost_std": 7.629521345379143,
          "m": 90,
          "profit_mean": 1365.214,
          "profit_std": 268.5887686979988,
          "s": 200
         },
         {
          "N": 100,
          "S": 700,
          "lost_mean": 0.72,
          "lost_std": 4.9991514431466415,
          "m": 90,
          "profit_mean": 807.732,
          "profit_std": 167.06069294502737,
          "s": 200
         },
         {
          "N": 100,
          "S": 800,
          "lost_mean": 0.33,
          "lost_std": 2.074642478631298,
          "m": 90,
          "profit_mean": 690.9069999999998,
          "profit_std": 228.549274688427,
          "s": 200
         },
         {
          "N": 100,
          "S": 900,
          "lost_mean": 0.38,
          "lost_std": 2.643001049083135,
          "m": 90,
          "profit_mean": -141.55000000000027,
          "profit_std": 207.4540837599657,
          "s": 200
         },
         {
          "N": 100,
          "S": 1000,
          "lost_mean": 0.52,
          "lost_std": 5.199999999999998,
          "m": 90,
          "profit_mean": -772.3740000000003,
          "profit_std": 332.43444546149686,
          "s": 200
         },
         {
          "N": 100,
          "S": 300,
          "lost_mean": 1.5,
          "lost_std": 7.6785152184257575,
          "m": 90,
          "profit_mean": 1663.1519999999998,
          "profit_std": 212.2201855801581,
          "s": 225
         },
         {
          "N": 100,
          "S": 400,
          "lost_mean": 0.7,
          "lost_std": 4.924685294770139,
          "m": 90,
          "profit_mean": 1930.973,
          "profit_std": 173.7541569039836,
          "s": 225
         },
         {
          "N": 100,
          "S": 500,
          "lost_mean": 1.65,
          "lost_std": 13.0580483328339,
          "m": 90,
          "profit_mean": 1677.326,
          "profit_std": 206.8589431169819,
          "s": 225
         },
         {
          "N": 100,
          "S": 600,
          "lost_mean": 2.13,
          "lost_std": 12.449214003017588,
          "m": 90,
          "profit_mean": 1233.0069999999998,
          "profit_std": 224.07148492065085,
          "s": 225
         },
         {
          "N": 100,
          "S": 700,
          "lost_mean": 0.93,
          "lost_std": 6.244601709080452,
          "m": 90,
          "profit_mean": 808.2299999999999,
          "profit_std": 207.0249545783837,
          "s": 225
         },
         {
          "N": 100,
          "S": 800,
          "lost_mean": 0.1,
          "lost_std": 1.0000000000000007,
          "m": 90,
          "profit_mean": 534.6999999999999,
          "profit_std": 304.10735478170074,
          "s": 225
         },
         {
          "N": 100,
          "S": 900,
          "lost_mean": 0.48,
          "lost_std": 4.071284015559898,
          "m": 90,
          "profit_mean": -243.1130000000002,
          "profit_std": 201.20523400977746,
          "s": 225
         },
         {
          "N": 100,
          "S": 1000,
          "lost_mean": 1.32,
          "lost_std": 7.085167320508104,
          "m": 90,
          "profit_mean": -954.1800000000002,
          "profit_std": 197.84985992086783,
          "s": 225
         },
         {
          "N": 100,
          "S": 300,
          "lost_mean": 0.4,
          "lost_std": 2.8141058827257948,
          "m": 90,
          "profit_mean": 1026.938,
          "profit_std": 254.7140614235278,
          "s": 250
         },
         {
          "N": 100,
          "S": 400,
          "lost_mean": 0.1,
          "lost_std": 1.0000000000000007,
          "m": 90,
          "profit_mean": 1651.1429999999998,
          "profit_std": 172.60763601622932,
          "s": 250
         },
         {
          "N": 100,
          "S": 500,
          "lost_mean": 0.21,
          "lost_std": 1.6714779040832046,
          "m": 90,
          "profit_mean": 1488.8509999999997,
          "profit_std": 226.5972819360552,
          "s": 250
         },
         {
          "N": 100,
          "S": 600,
          "lost_mean": 2.18,
          "lost_std": 13.832606771719133,
          "m": 90,
          "profit_mean": 1213.382,
          "profit_std": 196.7978249756625,
          "s": 250
         },
         {
          "N": 100,
          "S": 700,
          "lost_mean": 1.76,
          "lost_std": 15.115795471204054,
          "m": 90,
          "profit_mean": 799.0329999999999,
          "profit_std": 176.64162204127808,
          "s": 250
         },
         {
          "N": 100,
          "S": 800,
          "lost_mean": 0.03,
          "lost_std": 0.2999999999999999,
          "m": 90,
          "profit_mean": 168.5249999999998,
          "profit_std": 342.22972507107306,
          "s": 250
         },
         {
          "N": 100,
          "S": 900,
          "lost_mean": 0.96,
          "lost_std": 7.126448107315638,
          "m": 90,
          "profit_mean": -275.16500000000025,
          "profit_std": 195.89202672994028,
          "s": 250
         },
         {
          "N": 100,
          "S": 1000,
          "lost_mean": 0,
          "lost_std": 0,
          "m": 90,
          "profit_mean": -1019.1280000000002,
          "profit_std": 171.74590291380093,
          "s": 250
         }
        ]
       },
       "encoding": {
        "color": {
         "field": "s",
         "scale": {
          "scheme": "plasma"
         },
         "type": "quantitative"
        },
        "x": {
         "field": "lost_mean",
         "type": "quantitative"
        },
        "y": {
         "field": "profit_mean",
         "type": "quantitative"
        }
       },
       "mark": "point"
      },
      "image/png": "[encoded data removed]",
      "image/svg+xml": [
       "<?xml version=\"1.0\" encoding=\"utf-8\"?>\n",
       "<!DOCTYPE svg PUBLIC \"-//W3C//DTD SVG 1.1//EN\" \"http://www.w3.org/Graphics/SVG/1.1/DTD/svg11.dtd\">\n",
       "<svg xmlns=\"http://www.w3.org/2000/svg\" xmlns:xlink=\"http://www.w3.org/1999/xlink\" version=\"1.1\" class=\"marks\" width=\"319\" height=\"247\" viewBox=\"0 0 319 247\"><rect width=\"319\" height=\"247\" fill=\"white\"/><g fill=\"none\" stroke-miterlimit=\"10\" transform=\"translate(60,10)\"><g class=\"mark-group role-frame root\" role=\"graphics-object\" aria-roledescription=\"group mark container\"><g transform=\"translate(0,0)\"><path class=\"background\" aria-hidden=\"true\" d=\"M0.5,0.5h200v200h-200Z\" stroke=\"#ddd\"/><g><g class=\"mark-group role-axis\" aria-hidden=\"true\"><g transform=\"translate(0.5,200.5)\"><path class=\"background\" aria-hidden=\"true\" d=\"M0,0h0v0h0Z\" pointer-events=\"none\"/><g><g class=\"mark-rule role-axis-grid\" pointer-events=\"none\"><line transform=\"translate(0,-200)\" x2=\"0\" y2=\"200\" stroke=\"#ddd\" stroke-width=\"1\" opacity=\"1\"/><line transform=\"translate(45,-200)\" x2=\"0\" y2=\"200\" stroke=\"#ddd\" stroke-width=\"1\" opacity=\"1\"/><line transform=\"translate(91,-200)\" x2=\"0\" y2=\"200\" stroke=\"#ddd\" stroke-width=\"1\" opacity=\"1\"/><line transform=\"translate(136,-200)\" x2=\"0\" y2=\"200\" stroke=\"#ddd\" stroke-width=\"1\" opacity=\"1\"/><line transform=\"translate(182,-200)\" x2=\"0\" y2=\"200\" stroke=\"#ddd\" stroke-width=\"1\" opacity=\"1\"/></g></g><path class=\"foreground\" aria-hidden=\"true\" d=\"\" pointer-events=\"none\" display=\"none\"/></g></g><g class=\"mark-group role-axis\" aria-hidden=\"true\"><g transform=\"translate(0.5,0.5)\"><path class=\"background\" aria-hidden=\"true\" d=\"M0,0h0v0h0Z\" pointer-events=\"none\"/><g><g class=\"mark-rule role-axis-grid\" pointer-events=\"none\"><line transform=\"translate(0,182)\" x2=\"200\" y2=\"0\" stroke=\"#ddd\" stroke-width=\"1\" opacity=\"1\"/><line transform=\"translate(0,145)\" x2=\"200\" y2=\"0\" stroke=\"#ddd\" stroke-width=\"1\" opacity=\"1\"/><line transform=\"translate(0,109)\" x2=\"200\" y2=\"0\" stroke=\"#ddd\" stroke-width=\"1\" opacity=\"1\"/><line transform=\"translate(0,73)\" x2=\"200\" y2=\"0\" stroke=\"#ddd\" stroke-width=\"1\" opacity=\"1\"/><line transform=\"translate(0,36)\" x2=\"200\" y2=\"0\" stroke=\"#ddd\" stroke-width=\"1\" opacity=\"1\"/><line transform=\"translate(0,0)\" x2=\"200\" y2=\"0\" stroke=\"#ddd\" stroke-width=\"1\" opacity=\"1\"/></g></g><path class=\"foreground\" aria-hidden=\"true\" d=\"\" pointer-events=\"none\" display=\"none\"/></g></g><g class=\"mark-group role-axis\" role=\"graphics-symbol\" aria-roledescription=\"axis\" aria-label=\"X-axis titled 'lost_mean' for a linear scale with values from 0 to 220\"><g transform=\"translate(0.5,200.5)\"><path class=\"background\" aria-hidden=\"true\" d=\"M0,0h0v0h0Z\" pointer-events=\"none\"/><g><g class=\"mark-rule role-axis-tick\" pointer-events=\"none\"><line transform=\"translate(0,0)\" x2=\"0\" y2=\"5\" stroke=\"#888\" stroke-width=\"1\" opacity=\"1\"/><line transform=\"translate(45,0)\" x2=\"0\" y2=\"5\" stroke=\"#888\" stroke-width=\"1\" opacity=\"1\"/><line transform=\"translate(91,0)\" x2=\"0\" y2=\"5\" stroke=\"#888\" stroke-width=\"1\" opacity=\"1\"/><line transform=\"translate(136,0)\" x2=\"0\" y2=\"5\" stroke=\"#888\" stroke-width=\"1\" opacity=\"1\"/><line transform=\"translate(182,0)\" x2=\"0\" y2=\"5\" stroke=\"#888\" stroke-width=\"1\" opacity=\"1\"/></g><g class=\"mark-text role-axis-label\" pointer-events=\"none\"><text text-anchor=\"start\" transform=\"translate(0,15)\" font-family=\"sans-serif\" font-size=\"10px\" fill=\"#000\" opacity=\"1\">0</text><text text-anchor=\"middle\" transform=\"translate(45.45454545454545,15)\" font-family=\"sans-serif\" font-size=\"10px\" fill=\"#000\" opacity=\"1\">50</text><text text-anchor=\"middle\" transform=\"translate(90.9090909090909,15)\" font-family=\"sans-serif\" font-size=\"10px\" fill=\"#000\" opacity=\"1\">100</text><text text-anchor=\"middle\" transform=\"translate(136.36363636363635,15)\" font-family=\"sans-serif\" font-size=\"10px\" fill=\"#000\" opacity=\"1\">150</text><text text-anchor=\"middle\" transform=\"translate(181.8181818181818,15)\" font-family=\"sans-serif\" font-size=\"10px\" fill=\"#000\" opacity=\"1\">200</text></g><g class=\"mark-rule role-axis-domain\" pointer-events=\"none\"><line transform=\"translate(0,0)\" x2=\"200\" y2=\"0\" stroke=\"#888\" stroke-width=\"1\" opacity=\"1\"/></g><g class=\"mark-text role-axis-title\" pointer-events=\"none\"><text text-anchor=\"middle\" transform=\"translate(100,30)\" font-family=\"sans-serif\" font-size=\"11px\" font-weight=\"bold\" fill=\"#000\" opacity=\"1\">lost_mean</text></g></g><path class=\"foreground\" aria-hidden=\"true\" d=\"\" pointer-events=\"none\" display=\"none\"/></g></g><g class=\"mark-group role-axis\" role=\"graphics-symbol\" aria-roledescription=\"axis\" aria-label=\"Y-axis titled 'profit_mean' for a linear scale with values from −1,500 to 4,000\"><g transform=\"translate(0.5,0.5)\"><path class=\"background\" aria-hidden=\"true\" d=\"M0,0h0v0h0Z\" pointer-events=\"none\"/><g><g class=\"mark-rule role-axis-tick\" pointer-events=\"none\"><line transform=\"translate(0,182)\" x2=\"-5\" y2=\"0\" stroke=\"#888\" stroke-width=\"1\" opacity=\"1\"/><line transform=\"translate(0,145)\" x2=\"-5\" y2=\"0\" stroke=\"#888\" stroke-width=\"1\" opacity=\"1\"/><line transform=\"translate(0,109)\" x2=\"-5\" y2=\"0\" stroke=\"#888\" stroke-width=\"1\" opacity=\"1\"/><line transform=\"translate(0,73)\" x2=\"-5\" y2=\"0\" stroke=\"#888\" stroke-width=\"1\" opacity=\"1\"/><line transform=\"translate(0,36)\" x2=\"-5\" y2=\"0\" stroke=\"#888\" stroke-width=\"1\" opacity=\"1\"/><line transform=\"translate(0,0)\" x2=\"-5\" y2=\"0\" stroke=\"#888\" stroke-width=\"1\" opacity=\"1\"/></g><g class=\"mark-text role-axis-label\" pointer-events=\"none\"><text text-anchor=\"end\" transform=\"translate(-7,184.8181818181818)\" font-family=\"sans-serif\" font-size=\"10px\" fill=\"#000\" opacity=\"1\">−1,000</text><text text-anchor=\"end\" transform=\"translate(-7,148.45454545454547)\" font-family=\"sans-serif\" font-size=\"10px\" fill=\"#000\" opacity=\"1\">0</text><text text-anchor=\"end\" transform=\"translate(-7,112.09090909090908)\" font-family=\"sans-serif\" font-size=\"10px\" fill=\"#000\" opacity=\"1\">1,000</text><text text-anchor=\"end\" transform=\"translate(-7,75.72727272727273)\" font-family=\"sans-serif\" font-size=\"10px\" fill=\"#000\" opacity=\"1\">2,000</text><text text-anchor=\"end\" transform=\"translate(-7,39.36363636363635)\" font-family=\"sans-serif\" font-size=\"10px\" fill=\"#000\" opacity=\"1\">3,000</text><text text-anchor=\"end\" transform=\"translate(-7,3)\" font-family=\"sans-serif\" font-size=\"10px\" fill=\"#000\" opacity=\"1\">4,000</text></g><g class=\"mark-rule role-axis-domain\" pointer-events=\"none\"><line transform=\"translate(0,200)\" x2=\"0\" y2=\"-200\" stroke=\"#888\" stroke-width=\"1\" opacity=\"1\"/></g><g class=\"mark-text role-axis-title\" pointer-events=\"none\"><text text-anchor=\"middle\" transform=\"translate(-44,100) rotate(-90) translate(0,-2)\" font-family=\"sans-serif\" font-size=\"11px\" font-weight=\"bold\" fill=\"#000\" opacity=\"1\">profit_mean</text></g></g><path class=\"foreground\" aria-hidden=\"true\" d=\"\" pointer-events=\"none\" display=\"none\"/></g></g><g class=\"mark-symbol role-mark marks\" role=\"graphics-object\" aria-roledescription=\"symbol mark container\"><path aria-label=\"lost_mean: 216.66; profit_mean: 2971.249; s: 25\" role=\"graphics-symbol\" aria-roledescription=\"point\" transform=\"translate(196.96363636363637,37.409127272727275)\" d=\"M2.7386127875258306,0A2.7386127875258306,2.7386127875258306,0,1,1,-2.7386127875258306,0A2.7386127875258306,2.7386127875258306,0,1,1,2.7386127875258306,0\" stroke=\"rgb(13, 8, 135)\" stroke-width=\"2\" opacity=\"0.7\"/><path aria-label=\"lost_mean: 118.92; profit_mean: 3579.796; s: 25\" role=\"graphics-symbol\" aria-roledescription=\"point\" transform=\"translate(108.10909090909091,15.280145454545435)\" d=\"M2.7386127875258306,0A2.7386127875258306,2.7386127875258306,0,1,1,-2.7386127875258306,0A2.7386127875258306,2.7386127875258306,0,1,1,2.7386127875258306,0\" stroke=\"rgb(13, 8, 135)\" stroke-width=\"2\" opacity=\"0.7\"/><path aria-label=\"lost_mean: 81.2; profit_mean: 3488.405; s: 25\" role=\"graphics-symbol\" aria-roledescription=\"point\" transform=\"translate(73.81818181818181,18.60345454545451)\" d=\"M2.7386127875258306,0A2.7386127875258306,2.7386127875258306,0,1,1,-2.7386127875258306,0A2.7386127875258306,2.7386127875258306,0,1,1,2.7386127875258306,0\" stroke=\"rgb(13, 8, 135)\" stroke-width=\"2\" opacity=\"0.7\"/><path aria-label=\"lost_mean: 60.11; profit_mean: 3081.231; s: 25\" role=\"graphics-symbol\" aria-roledescription=\"point\" transform=\"translate(54.64545454545454,33.40978181818181)\" d=\"M2.7386127875258306,0A2.7386127875258306,2.7386127875258306,0,1,1,-2.7386127875258306,0A2.7386127875258306,2.7386127875258306,0,1,1,2.7386127875258306,0\" stroke=\"rgb(13, 8, 135)\" stroke-width=\"2\" opacity=\"0.7\"/><path aria-label=\"lost_mean: 50.72; profit_mean: 2630.794; s: 25\" role=\"graphics-symbol\" aria-roledescription=\"point\" transform=\"translate(46.10909090909091,49.78930909090911)\" d=\"M2.7386127875258306,0A2.7386127875258306,2.7386127875258306,0,1,1,-2.7386127875258306,0A2.7386127875258306,2.7386127875258306,0,1,1,2.7386127875258306,0\" stroke=\"rgb(13, 8, 135)\" stroke-width=\"2\" opacity=\"0.7\"/><path aria-label=\"lost_mean: 34.57; profit_mean: 2546.72; s: 25\" role=\"graphics-symbol\" aria-roledescription=\"point\" transform=\"translate(31.427272727272726,52.846545454545456)\" d=\"M2.7386127875258306,0A2.7386127875258306,2.7386127875258306,0,1,1,-2.7386127875258306,0A2.7386127875258306,2.7386127875258306,0,1,1,2.7386127875258306,0\" stroke=\"rgb(13, 8, 135)\" stroke-width=\"2\" opacity=\"0.7\"/><path aria-label=\"lost_mean: 33.52; profit_mean: 1683.641; s: 25\" role=\"graphics-symbol\" aria-roledescription=\"point\" transform=\"translate(30.472727272727273,84.23123636363637)\" d=\"M2.7386127875258306,0A2.7386127875258306,2.7386127875258306,0,1,1,-2.7386127875258306,0A2.7386127875258306,2.7386127875258306,0,1,1,2.7386127875258306,0\" stroke=\"rgb(13, 8, 135)\" stroke-width=\"2\" opacity=\"0.7\"/><path aria-label=\"lost_mean: 32.05; profit_mean: 1200.973; s: 25\" role=\"graphics-symbol\" aria-roledescription=\"point\" transform=\"translate(29.136363636363633,101.78280000000002)\" d=\"M2.7386127875258306,0A2.7386127875258306,2.7386127875258306,0,1,1,-2.7386127875258306,0A2.7386127875258306,2.7386127875258306,0,1,1,2.7386127875258306,0\" stroke=\"rgb(13, 8, 135)\" stroke-width=\"2\" opacity=\"0.7\"/><path aria-label=\"lost_mean: 30.45; profit_mean: 1367.398; s: 25\" role=\"graphics-symbol\" aria-roledescription=\"point\" transform=\"translate(27.68181818181818,95.7309818181818)\" d=\"M2.7386127875258306,0A2.7386127875258306,2.7386127875258306,0,1,1,-2.7386127875258306,0A2.7386127875258306,2.7386127875258306,0,1,1,2.7386127875258306,0\" stroke=\"rgb(13, 8, 135)\" stroke-width=\"2\" opacity=\"0.7\"/><path aria-label=\"lost_mean: 24.22; profit_mean: 419.791; s: 25\" role=\"graphics-symbol\" aria-roledescription=\"point\" transform=\"translate(22.018181818181816,130.18941818181818)\" d=\"M2.7386127875258306,0A2.7386127875258306,2.7386127875258306,0,1,1,-2.7386127875258306,0A2.7386127875258306,2.7386127875258306,0,1,1,2.7386127875258306,0\" stroke=\"rgb(13, 8, 135)\" stroke-width=\"2\" opacity=\"0.7\"/><path aria-label=\"lost_mean: 118.74; profit_mean: 2661.404; s: 50\" role=\"graphics-symbol\" aria-roledescription=\"point\" transform=\"translate(107.94545454545454,48.6762181818182)\" d=\"M2.7386127875258306,0A2.7386127875258306,2.7386127875258306,0,1,1,-2.7386127875258306,0A2.7386127875258306,2.7386127875258306,0,1,1,2.7386127875258306,0\" stroke=\"rgb(71, 3, 159)\" stroke-width=\"2\" opacity=\"0.7\"/><path aria-label=\"lost_mean: 49.21; profit_mean: 3534.315; s: 50\" role=\"graphics-symbol\" aria-roledescription=\"point\" transform=\"translate(44.736363636363635,16.933999999999983)\" d=\"M2.7386127875258306,0A2.7386127875258306,2.7386127875258306,0,1,1,-2.7386127875258306,0A2.7386127875258306,2.7386127875258306,0,1,1,2.7386127875258306,0\" stroke=\"rgb(71, 3, 159)\" stroke-width=\"2\" opacity=\"0.7\"/><path aria-label=\"lost_mean: 44.28; profit_mean: 3394.556; s: 50\" role=\"graphics-symbol\" aria-roledescription=\"point\" transform=\"translate(40.25454545454545,22.016145454545445)\" d=\"M2.7386127875258306,0A2.7386127875258306,2.7386127875258306,0,1,1,-2.7386127875258306,0A2.7386127875258306,2.7386127875258306,0,1,1,2.7386127875258306,0\" stroke=\"rgb(71, 3, 159)\" stroke-width=\"2\" opacity=\"0.7\"/><path aria-label=\"lost_mean: 37.86; profit_mean: 3061.301; s: 50\" role=\"graphics-symbol\" aria-roledescription=\"point\" transform=\"translate(34.41818181818182,34.13450909090911)\" d=\"M2.7386127875258306,0A2.7386127875258306,2.7386127875258306,0,1,1,-2.7386127875258306,0A2.7386127875258306,2.7386127875258306,0,1,1,2.7386127875258306,0\" stroke=\"rgb(71, 3, 159)\" stroke-width=\"2\" opacity=\"0.7\"/><path aria-label=\"lost_mean: 21.04; profit_mean: 2721.589; s: 50\" role=\"graphics-symbol\" aria-roledescription=\"point\" transform=\"translate(19.127272727272725,46.487672727272724)\" d=\"M2.7386127875258306,0A2.7386127875258306,2.7386127875258306,0,1,1,-2.7386127875258306,0A2.7386127875258306,2.7386127875258306,0,1,1,2.7386127875258306,0\" stroke=\"rgb(71, 3, 159)\" stroke-width=\"2\" opacity=\"0.7\"/><path aria-label=\"lost_mean: 16.11; profit_mean: 2407.249; s: 50\" role=\"graphics-symbol\" aria-roledescription=\"point\" transform=\"translate(14.645454545454545,57.91821818181817)\" d=\"M2.7386127875258306,0A2.7386127875258306,2.7386127875258306,0,1,1,-2.7386127875258306,0A2.7386127875258306,2.7386127875258306,0,1,1,2.7386127875258306,0\" stroke=\"rgb(71, 3, 159)\" stroke-width=\"2\" opacity=\"0.7\"/><path aria-label=\"lost_mean: 20.11; profit_mean: 1642.604; s: 50\" role=\"graphics-symbol\" aria-roledescription=\"point\" transform=\"translate(18.28181818181818,85.72349090909093)\" d=\"M2.7386127875258306,0A2.7386127875258306,2.7386127875258306,0,1,1,-2.7386127875258306,0A2.7386127875258306,2.7386127875258306,0,1,1,2.7386127875258306,0\" stroke=\"rgb(71, 3, 159)\" stroke-width=\"2\" opacity=\"0.7\"/><path aria-label=\"lost_mean: 18.19; profit_mean: 1014.095; s: 50\" role=\"graphics-symbol\" aria-roledescription=\"point\" transform=\"translate(16.53636363636364,108.57836363636363)\" d=\"M2.7386127875258306,0A2.7386127875258306,2.7386127875258306,0,1,1,-2.7386127875258306,0A2.7386127875258306,2.7386127875258306,0,1,1,2.7386127875258306,0\" stroke=\"rgb(71, 3, 159)\" stroke-width=\"2\" opacity=\"0.7\"/><path aria-label=\"lost_mean: 13.63; profit_mean: 1231.521; s: 50\" role=\"graphics-symbol\" aria-roledescription=\"point\" transform=\"translate(12.39090909090909,100.67196363636364)\" d=\"M2.7386127875258306,0A2.7386127875258306,2.7386127875258306,0,1,1,-2.7386127875258306,0A2.7386127875258306,2.7386127875258306,0,1,1,2.7386127875258306,0\" stroke=\"rgb(71, 3, 159)\" stroke-width=\"2\" opacity=\"0.7\"/><path aria-label=\"lost_mean: 9.96; profit_mean: 435.771; s: 50\" role=\"graphics-symbol\" aria-roledescription=\"point\" transform=\"translate(9.054545454545455,129.60832727272728)\" d=\"M2.7386127875258306,0A2.7386127875258306,2.7386127875258306,0,1,1,-2.7386127875258306,0A2.7386127875258306,2.7386127875258306,0,1,1,2.7386127875258306,0\" stroke=\"rgb(71, 3, 159)\" stroke-width=\"2\" opacity=\"0.7\"/><path aria-label=\"lost_mean: 74.03; profit_mean: 1855.157; s: 75\" role=\"graphics-symbol\" aria-roledescription=\"point\" transform=\"translate(67.30000000000001,77.9942909090909)\" d=\"M2.7386127875258306,0A2.7386127875258306,2.7386127875258306,0,1,1,-2.7386127875258306,0A2.7386127875258306,2.7386127875258306,0,1,1,2.7386127875258306,0\" stroke=\"rgb(115, 1, 168)\" stroke-width=\"2\" opacity=\"0.7\"/><path aria-label=\"lost_mean: 24.44; profit_mean: 3346.444; s: 75\" role=\"graphics-symbol\" aria-roledescription=\"point\" transform=\"translate(22.21818181818182,23.7656727272727)\" d=\"M2.7386127875258306,0A2.7386127875258306,2.7386127875258306,0,1,1,-2.7386127875258306,0A2.7386127875258306,2.7386127875258306,0,1,1,2.7386127875258306,0\" stroke=\"rgb(115, 1, 168)\" stroke-width=\"2\" opacity=\"0.7\"/><path aria-label=\"lost_mean: 14.97; profit_mean: 3300.202; s: 75\" role=\"graphics-symbol\" aria-roledescription=\"point\" transform=\"translate(13.60909090909091,25.44719999999996)\" d=\"M2.7386127875258306,0A2.7386127875258306,2.7386127875258306,0,1,1,-2.7386127875258306,0A2.7386127875258306,2.7386127875258306,0,1,1,2.7386127875258306,0\" stroke=\"rgb(115, 1, 168)\" stroke-width=\"2\" opacity=\"0.7\"/><path aria-label=\"lost_mean: 6.17; profit_mean: 3035.648; s: 75\" role=\"graphics-symbol\" aria-roledescription=\"point\" transform=\"translate(5.6090909090909085,35.06734545454548)\" d=\"M2.7386127875258306,0A2.7386127875258306,2.7386127875258306,0,1,1,-2.7386127875258306,0A2.7386127875258306,2.7386127875258306,0,1,1,2.7386127875258306,0\" stroke=\"rgb(115, 1, 168)\" stroke-width=\"2\" opacity=\"0.7\"/><path aria-label=\"lost_mean: 7.34; profit_mean: 2687.468; s: 75\" role=\"graphics-symbol\" aria-roledescription=\"point\" transform=\"translate(6.672727272727273,47.72843636363633)\" d=\"M2.7386127875258306,0A2.7386127875258306,2.7386127875258306,0,1,1,-2.7386127875258306,0A2.7386127875258306,2.7386127875258306,0,1,1,2.7386127875258306,0\" stroke=\"rgb(115, 1, 168)\" stroke-width=\"2\" opacity=\"0.7\"/><path aria-label=\"lost_mean: 9.68; profit_mean: 2028.084; s: 75\" role=\"graphics-symbol\" aria-roledescription=\"point\" transform=\"translate(8.799999999999999,71.70603636363634)\" d=\"M2.7386127875258306,0A2.7386127875258306,2.7386127875258306,0,1,1,-2.7386127875258306,0A2.7386127875258306,2.7386127875258306,0,1,1,2.7386127875258306,0\" stroke=\"rgb(115, 1, 168)\" stroke-width=\"2\" opacity=\"0.7\"/><path aria-label=\"lost_mean: 7.85; profit_mean: 1678.705; s: 75\" role=\"graphics-symbol\" aria-roledescription=\"point\" transform=\"translate(7.136363636363637,84.41072727272727)\" d=\"M2.7386127875258306,0A2.7386127875258306,2.7386127875258306,0,1,1,-2.7386127875258306,0A2.7386127875258306,2.7386127875258306,0,1,1,2.7386127875258306,0\" stroke=\"rgb(115, 1, 168)\" stroke-width=\"2\" opacity=\"0.7\"/><path aria-label=\"lost_mean: 11.43; profit_mean: 914.724; s: 75\" role=\"graphics-symbol\" aria-roledescription=\"point\" transform=\"translate(10.39090909090909,112.19185454545455)\" d=\"M2.7386127875258306,0A2.7386127875258306,2.7386127875258306,0,1,1,-2.7386127875258306,0A2.7386127875258306,2.7386127875258306,0,1,1,2.7386127875258306,0\" stroke=\"rgb(115, 1, 168)\" stroke-width=\"2\" opacity=\"0.7\"/><path aria-label=\"lost_mean: 4.52; profit_mean: 682.48; s: 75\" role=\"graphics-symbol\" aria-roledescription=\"point\" transform=\"translate(4.1090909090909085,120.63709090909094)\" d=\"M2.7386127875258306,0A2.7386127875258306,2.7386127875258306,0,1,1,-2.7386127875258306,0A2.7386127875258306,2.7386127875258306,0,1,1,2.7386127875258306,0\" stroke=\"rgb(115, 1, 168)\" stroke-width=\"2\" opacity=\"0.7\"/><path aria-label=\"lost_mean: 3.27; profit_mean: 439.681; s: 75\" role=\"graphics-symbol\" aria-roledescription=\"point\" transform=\"translate(2.9727272727272727,129.46614545454545)\" d=\"M2.7386127875258306,0A2.7386127875258306,2.7386127875258306,0,1,1,-2.7386127875258306,0A2.7386127875258306,2.7386127875258306,0,1,1,2.7386127875258306,0\" stroke=\"rgb(115, 1, 168)\" stroke-width=\"2\" opacity=\"0.7\"/><path aria-label=\"lost_mean: 20.08; profit_mean: 3020.23; s: 100\" role=\"graphics-symbol\" aria-roledescription=\"point\" transform=\"translate(18.254545454545454,35.628000000000014)\" d=\"M2.7386127875258306,0A2.7386127875258306,2.7386127875258306,0,1,1,-2.7386127875258306,0A2.7386127875258306,2.7386127875258306,0,1,1,2.7386127875258306,0\" stroke=\"rgb(156, 23, 158)\" stroke-width=\"2\" opacity=\"0.7\"/><path aria-label=\"lost_mean: 5.76; profit_mean: 3120.251; s: 100\" role=\"graphics-symbol\" aria-roledescription=\"point\" transform=\"translate(5.236363636363636,31.990872727272723)\" d=\"M2.7386127875258306,0A2.7386127875258306,2.7386127875258306,0,1,1,-2.7386127875258306,0A2.7386127875258306,2.7386127875258306,0,1,1,2.7386127875258306,0\" stroke=\"rgb(156, 23, 158)\" stroke-width=\"2\" opacity=\"0.7\"/><path aria-label=\"lost_mean: 6.26; profit_mean: 2795.237; s: 100\" role=\"graphics-symbol\" aria-roledescription=\"point\" transform=\"translate(5.690909090909091,43.809563636363656)\" d=\"M2.7386127875258306,0A2.7386127875258306,2.7386127875258306,0,1,1,-2.7386127875258306,0A2.7386127875258306,2.7386127875258306,0,1,1,2.7386127875258306,0\" stroke=\"rgb(156, 23, 158)\" stroke-width=\"2\" opacity=\"0.7\"/><path aria-label=\"lost_mean: 5.26; profit_mean: 2386.138; s: 100\" role=\"graphics-symbol\" aria-roledescription=\"point\" transform=\"translate(4.781818181818181,58.68589090909091)\" d=\"M2.7386127875258306,0A2.7386127875258306,2.7386127875258306,0,1,1,-2.7386127875258306,0A2.7386127875258306,2.7386127875258306,0,1,1,2.7386127875258306,0\" stroke=\"rgb(156, 23, 158)\" stroke-width=\"2\" opacity=\"0.7\"/><path aria-label=\"lost_mean: 2.97; profit_mean: 1828.571; s: 100\" role=\"graphics-symbol\" aria-roledescription=\"point\" transform=\"translate(2.7,78.96105454545454)\" d=\"M2.7386127875258306,0A2.7386127875258306,2.7386127875258306,0,1,1,-2.7386127875258306,0A2.7386127875258306,2.7386127875258306,0,1,1,2.7386127875258306,0\" stroke=\"rgb(156, 23, 158)\" stroke-width=\"2\" opacity=\"0.7\"/><path aria-label=\"lost_mean: 0.49; profit_mean: 1683.693; s: 100\" role=\"graphics-symbol\" aria-roledescription=\"point\" transform=\"translate(0.44545454545454544,84.22934545454545)\" d=\"M2.7386127875258306,0A2.7386127875258306,2.7386127875258306,0,1,1,-2.7386127875258306,0A2.7386127875258306,2.7386127875258306,0,1,1,2.7386127875258306,0\" stroke=\"rgb(156, 23, 158)\" stroke-width=\"2\" opacity=\"0.7\"/><path aria-label=\"lost_mean: 5.79; profit_mean: 814.061; s: 100\" role=\"graphics-symbol\" aria-roledescription=\"point\" transform=\"translate(5.263636363636364,115.8523272727273)\" d=\"M2.7386127875258306,0A2.7386127875258306,2.7386127875258306,0,1,1,-2.7386127875258306,0A2.7386127875258306,2.7386127875258306,0,1,1,2.7386127875258306,0\" stroke=\"rgb(156, 23, 158)\" stroke-width=\"2\" opacity=\"0.7\"/><path aria-label=\"lost_mean: 2.51; profit_mean: 293.37; s: 100\" role=\"graphics-symbol\" aria-roledescription=\"point\" transform=\"translate(2.2818181818181817,134.78654545454546)\" d=\"M2.7386127875258306,0A2.7386127875258306,2.7386127875258306,0,1,1,-2.7386127875258306,0A2.7386127875258306,2.7386127875258306,0,1,1,2.7386127875258306,0\" stroke=\"rgb(156, 23, 158)\" stroke-width=\"2\" opacity=\"0.7\"/><path aria-label=\"lost_mean: 2.53; profit_mean: 428.685; s: 100\" role=\"graphics-symbol\" aria-roledescription=\"point\" transform=\"translate(2.3,129.866)\" d=\"M2.7386127875258306,0A2.7386127875258306,2.7386127875258306,0,1,1,-2.7386127875258306,0A2.7386127875258306,2.7386127875258306,0,1,1,2.7386127875258306,0\" stroke=\"rgb(156, 23, 158)\" stroke-width=\"2\" opacity=\"0.7\"/><path aria-label=\"lost_mean: 9.32; profit_mean: 2615.48; s: 125\" role=\"graphics-symbol\" aria-roledescription=\"point\" transform=\"translate(8.472727272727273,50.346181818181826)\" d=\"M2.7386127875258306,0A2.7386127875258306,2.7386127875258306,0,1,1,-2.7386127875258306,0A2.7386127875258306,2.7386127875258306,0,1,1,2.7386127875258306,0\" stroke=\"rgb(189, 55, 133)\" stroke-width=\"2\" opacity=\"0.7\"/><path aria-label=\"lost_mean: 2.89; profit_mean: 2913.112; s: 125\" role=\"graphics-symbol\" aria-roledescription=\"point\" transform=\"translate(2.6272727272727274,39.5232)\" d=\"M2.7386127875258306,0A2.7386127875258306,2.7386127875258306,0,1,1,-2.7386127875258306,0A2.7386127875258306,2.7386127875258306,0,1,1,2.7386127875258306,0\" stroke=\"rgb(189, 55, 133)\" stroke-width=\"2\" opacity=\"0.7\"/><path aria-label=\"lost_mean: 4.37; profit_mean: 2680.035; s: 125\" role=\"graphics-symbol\" aria-roledescription=\"point\" transform=\"translate(3.972727272727273,47.99872727272725)\" d=\"M2.7386127875258306,0A2.7386127875258306,2.7386127875258306,0,1,1,-2.7386127875258306,0A2.7386127875258306,2.7386127875258306,0,1,1,2.7386127875258306,0\" stroke=\"rgb(189, 55, 133)\" stroke-width=\"2\" opacity=\"0.7\"/><path aria-label=\"lost_mean: 3.27; profit_mean: 2227.969; s: 125\" role=\"graphics-symbol\" aria-roledescription=\"point\" transform=\"translate(2.9727272727272727,64.4374909090909)\" d=\"M2.7386127875258306,0A2.7386127875258306,2.7386127875258306,0,1,1,-2.7386127875258306,0A2.7386127875258306,2.7386127875258306,0,1,1,2.7386127875258306,0\" stroke=\"rgb(189, 55, 133)\" stroke-width=\"2\" opacity=\"0.7\"/><path aria-label=\"lost_mean: 0.92; profit_mean: 1771.845; s: 125\" role=\"graphics-symbol\" aria-roledescription=\"point\" transform=\"translate(0.8363636363636364,81.02381818181816)\" d=\"M2.7386127875258306,0A2.7386127875258306,2.7386127875258306,0,1,1,-2.7386127875258306,0A2.7386127875258306,2.7386127875258306,0,1,1,2.7386127875258306,0\" stroke=\"rgb(189, 55, 133)\" stroke-width=\"2\" opacity=\"0.7\"/><path aria-label=\"lost_mean: 0.75; profit_mean: 1545.762; s: 125\" role=\"graphics-symbol\" aria-roledescription=\"point\" transform=\"translate(0.6818181818181818,89.24501818181818)\" d=\"M2.7386127875258306,0A2.7386127875258306,2.7386127875258306,0,1,1,-2.7386127875258306,0A2.7386127875258306,2.7386127875258306,0,1,1,2.7386127875258306,0\" stroke=\"rgb(189, 55, 133)\" stroke-width=\"2\" opacity=\"0.7\"/><path aria-label=\"lost_mean: 2.17; profit_mean: 722.494; s: 125\" role=\"graphics-symbol\" aria-roledescription=\"point\" transform=\"translate(1.9727272727272724,119.18203636363639)\" d=\"M2.7386127875258306,0A2.7386127875258306,2.7386127875258306,0,1,1,-2.7386127875258306,0A2.7386127875258306,2.7386127875258306,0,1,1,2.7386127875258306,0\" stroke=\"rgb(189, 55, 133)\" stroke-width=\"2\" opacity=\"0.7\"/><path aria-label=\"lost_mean: 1.94; profit_mean: 59.79; s: 125\" role=\"graphics-symbol\" aria-roledescription=\"point\" transform=\"translate(1.7636363636363637,143.28036363636366)\" d=\"M2.7386127875258306,0A2.7386127875258306,2.7386127875258306,0,1,1,-2.7386127875258306,0A2.7386127875258306,2.7386127875258306,0,1,1,2.7386127875258306,0\" stroke=\"rgb(189, 55, 133)\" stroke-width=\"2\" opacity=\"0.7\"/><path aria-label=\"lost_mean: 1.12; profit_mean: 268.157; s: 125\" role=\"graphics-symbol\" aria-roledescription=\"point\" transform=\"translate(1.0181818181818183,135.7033818181818)\" d=\"M2.7386127875258306,0A2.7386127875258306,2.7386127875258306,0,1,1,-2.7386127875258306,0A2.7386127875258306,2.7386127875258306,0,1,1,2.7386127875258306,0\" stroke=\"rgb(189, 55, 133)\" stroke-width=\"2\" opacity=\"0.7\"/><path aria-label=\"lost_mean: 1.83; profit_mean: 1970.987; s: 150\" role=\"graphics-symbol\" aria-roledescription=\"point\" transform=\"translate(1.6636363636363636,73.7822909090909)\" d=\"M2.7386127875258306,0A2.7386127875258306,2.7386127875258306,0,1,1,-2.7386127875258306,0A2.7386127875258306,2.7386127875258306,0,1,1,2.7386127875258306,0\" stroke=\"rgb(216, 87, 108)\" stroke-width=\"2\" opacity=\"0.7\"/><path aria-label=\"lost_mean: 2.02; profit_mean: 2671.952; s: 150\" role=\"graphics-symbol\" aria-roledescription=\"point\" transform=\"translate(1.8363636363636364,48.292654545454525)\" d=\"M2.7386127875258306,0A2.7386127875258306,2.7386127875258306,0,1,1,-2.7386127875258306,0A2.7386127875258306,2.7386127875258306,0,1,1,2.7386127875258306,0\" stroke=\"rgb(216, 87, 108)\" stroke-width=\"2\" opacity=\"0.7\"/><path aria-label=\"lost_mean: 1.22; profit_mean: 2497.744; s: 150\" role=\"graphics-symbol\" aria-roledescription=\"point\" transform=\"translate(1.1090909090909091,54.627490909090916)\" d=\"M2.7386127875258306,0A2.7386127875258306,2.7386127875258306,0,1,1,-2.7386127875258306,0A2.7386127875258306,2.7386127875258306,0,1,1,2.7386127875258306,0\" stroke=\"rgb(216, 87, 108)\" stroke-width=\"2\" opacity=\"0.7\"/><path aria-label=\"lost_mean: 0.56; profit_mean: 2149.314; s: 150\" role=\"graphics-symbol\" aria-roledescription=\"point\" transform=\"translate(0.5090909090909091,67.29767272727274)\" d=\"M2.7386127875258306,0A2.7386127875258306,2.7386127875258306,0,1,1,-2.7386127875258306,0A2.7386127875258306,2.7386127875258306,0,1,1,2.7386127875258306,0\" stroke=\"rgb(216, 87, 108)\" stroke-width=\"2\" opacity=\"0.7\"/><path aria-label=\"lost_mean: 1.99; profit_mean: 1814.606; s: 150\" role=\"graphics-symbol\" aria-roledescription=\"point\" transform=\"translate(1.809090909090909,79.46887272727274)\" d=\"M2.7386127875258306,0A2.7386127875258306,2.7386127875258306,0,1,1,-2.7386127875258306,0A2.7386127875258306,2.7386127875258306,0,1,1,2.7386127875258306,0\" stroke=\"rgb(216, 87, 108)\" stroke-width=\"2\" opacity=\"0.7\"/><path aria-label=\"lost_mean: 0.28; profit_mean: 1134.703; s: 150\" role=\"graphics-symbol\" aria-roledescription=\"point\" transform=\"translate(0.2545454545454546,104.1926181818182)\" d=\"M2.7386127875258306,0A2.7386127875258306,2.7386127875258306,0,1,1,-2.7386127875258306,0A2.7386127875258306,2.7386127875258306,0,1,1,2.7386127875258306,0\" stroke=\"rgb(216, 87, 108)\" stroke-width=\"2\" opacity=\"0.7\"/><path aria-label=\"lost_mean: 1.81; profit_mean: 737.257; s: 150\" role=\"graphics-symbol\" aria-roledescription=\"point\" transform=\"translate(1.6454545454545455,118.6452)\" d=\"M2.7386127875258306,0A2.7386127875258306,2.7386127875258306,0,1,1,-2.7386127875258306,0A2.7386127875258306,2.7386127875258306,0,1,1,2.7386127875258306,0\" stroke=\"rgb(216, 87, 108)\" stroke-width=\"2\" opacity=\"0.7\"/><path aria-label=\"lost_mean: 0.44; profit_mean: −37.01; s: 150\" role=\"graphics-symbol\" aria-roledescription=\"point\" transform=\"translate(0.4,146.80036363636364)\" d=\"M2.7386127875258306,0A2.7386127875258306,2.7386127875258306,0,1,1,-2.7386127875258306,0A2.7386127875258306,2.7386127875258306,0,1,1,2.7386127875258306,0\" stroke=\"rgb(216, 87, 108)\" stroke-width=\"2\" opacity=\"0.7\"/><path aria-label=\"lost_mean: 1.6; profit_mean: −236.916; s: 150\" role=\"graphics-symbol\" aria-roledescription=\"point\" transform=\"translate(1.4545454545454546,154.06967272727275)\" d=\"M2.7386127875258306,0A2.7386127875258306,2.7386127875258306,0,1,1,-2.7386127875258306,0A2.7386127875258306,2.7386127875258306,0,1,1,2.7386127875258306,0\" stroke=\"rgb(216, 87, 108)\" stroke-width=\"2\" opacity=\"0.7\"/><path aria-label=\"lost_mean: 3.27; profit_mean: 1034.612; s: 175\" role=\"graphics-symbol\" aria-roledescription=\"point\" transform=\"translate(2.9727272727272727,107.83229090909091)\" d=\"M2.7386127875258306,0A2.7386127875258306,2.7386127875258306,0,1,1,-2.7386127875258306,0A2.7386127875258306,2.7386127875258306,0,1,1,2.7386127875258306,0\" stroke=\"rgb(237, 121, 83)\" stroke-width=\"2\" opacity=\"0.7\"/><path aria-label=\"lost_mean: 0.71; profit_mean: 2395.316; s: 175\" role=\"graphics-symbol\" aria-roledescription=\"point\" transform=\"translate(0.6454545454545454,58.352145454545436)\" d=\"M2.7386127875258306,0A2.7386127875258306,2.7386127875258306,0,1,1,-2.7386127875258306,0A2.7386127875258306,2.7386127875258306,0,1,1,2.7386127875258306,0\" stroke=\"rgb(237, 121, 83)\" stroke-width=\"2\" opacity=\"0.7\"/><path aria-label=\"lost_mean: 1.75; profit_mean: 2297.704; s: 175\" role=\"graphics-symbol\" aria-roledescription=\"point\" transform=\"translate(1.5909090909090908,61.90167272727272)\" d=\"M2.7386127875258306,0A2.7386127875258306,2.7386127875258306,0,1,1,-2.7386127875258306,0A2.7386127875258306,2.7386127875258306,0,1,1,2.7386127875258306,0\" stroke=\"rgb(237, 121, 83)\" stroke-width=\"2\" opacity=\"0.7\"/><path aria-label=\"lost_mean: 0.36; profit_mean: 1958.382; s: 175\" role=\"graphics-symbol\" aria-roledescription=\"point\" transform=\"translate(0.32727272727272727,74.24065454545455)\" d=\"M2.7386127875258306,0A2.7386127875258306,2.7386127875258306,0,1,1,-2.7386127875258306,0A2.7386127875258306,2.7386127875258306,0,1,1,2.7386127875258306,0\" stroke=\"rgb(237, 121, 83)\" stroke-width=\"2\" opacity=\"0.7\"/><path aria-label=\"lost_mean: 0.67; profit_mean: 1649.59; s: 175\" role=\"graphics-symbol\" aria-roledescription=\"point\" transform=\"translate(0.6090909090909091,85.46945454545455)\" d=\"M2.7386127875258306,0A2.7386127875258306,2.7386127875258306,0,1,1,-2.7386127875258306,0A2.7386127875258306,2.7386127875258306,0,1,1,2.7386127875258306,0\" stroke=\"rgb(237, 121, 83)\" stroke-width=\"2\" opacity=\"0.7\"/><path aria-label=\"lost_mean: 0.02; profit_mean: 917.809; s: 175\" role=\"graphics-symbol\" aria-roledescription=\"point\" transform=\"translate(0.018181818181818184,112.07967272727272)\" d=\"M2.7386127875258306,0A2.7386127875258306,2.7386127875258306,0,1,1,-2.7386127875258306,0A2.7386127875258306,2.7386127875258306,0,1,1,2.7386127875258306,0\" stroke=\"rgb(237, 121, 83)\" stroke-width=\"2\" opacity=\"0.7\"/><path aria-label=\"lost_mean: 1.83; profit_mean: 725.958; s: 175\" role=\"graphics-symbol\" aria-roledescription=\"point\" transform=\"translate(1.6636363636363636,119.05607272727275)\" d=\"M2.7386127875258306,0A2.7386127875258306,2.7386127875258306,0,1,1,-2.7386127875258306,0A2.7386127875258306,2.7386127875258306,0,1,1,2.7386127875258306,0\" stroke=\"rgb(237, 121, 83)\" stroke-width=\"2\" opacity=\"0.7\"/><path aria-label=\"lost_mean: 1.06; profit_mean: −147.615; s: 175\" role=\"graphics-symbol\" aria-roledescription=\"point\" transform=\"translate(0.9636363636363637,150.82236363636366)\" d=\"M2.7386127875258306,0A2.7386127875258306,2.7386127875258306,0,1,1,-2.7386127875258306,0A2.7386127875258306,2.7386127875258306,0,1,1,2.7386127875258306,0\" stroke=\"rgb(237, 121, 83)\" stroke-width=\"2\" opacity=\"0.7\"/><path aria-label=\"lost_mean: 1.49; profit_mean: −507.847; s: 175\" role=\"graphics-symbol\" aria-roledescription=\"point\" transform=\"translate(1.3545454545454545,163.92170909090908)\" d=\"M2.7386127875258306,0A2.7386127875258306,2.7386127875258306,0,1,1,-2.7386127875258306,0A2.7386127875258306,2.7386127875258306,0,1,1,2.7386127875258306,0\" stroke=\"rgb(237, 121, 83)\" stroke-width=\"2\" opacity=\"0.7\"/><path aria-label=\"lost_mean: 0.68; profit_mean: 2051.976; s: 200\" role=\"graphics-symbol\" aria-roledescription=\"point\" transform=\"translate(0.6181818181818183,70.83723636363636)\" d=\"M2.7386127875258306,0A2.7386127875258306,2.7386127875258306,0,1,1,-2.7386127875258306,0A2.7386127875258306,2.7386127875258306,0,1,1,2.7386127875258306,0\" stroke=\"rgb(251, 158, 59)\" stroke-width=\"2\" opacity=\"0.7\"/><path aria-label=\"lost_mean: 0.82; profit_mean: 2142.908; s: 200\" role=\"graphics-symbol\" aria-roledescription=\"point\" transform=\"translate(0.7454545454545454,67.5306181818182)\" d=\"M2.7386127875258306,0A2.7386127875258306,2.7386127875258306,0,1,1,-2.7386127875258306,0A2.7386127875258306,2.7386127875258306,0,1,1,2.7386127875258306,0\" stroke=\"rgb(251, 158, 59)\" stroke-width=\"2\" opacity=\"0.7\"/><path aria-label=\"lost_mean: 0.79; profit_mean: 1773.413; s: 200\" role=\"graphics-symbol\" aria-roledescription=\"point\" transform=\"translate(0.7181818181818183,80.9668)\" d=\"M2.7386127875258306,0A2.7386127875258306,2.7386127875258306,0,1,1,-2.7386127875258306,0A2.7386127875258306,2.7386127875258306,0,1,1,2.7386127875258306,0\" stroke=\"rgb(251, 158, 59)\" stroke-width=\"2\" opacity=\"0.7\"/><path aria-label=\"lost_mean: 1.25; profit_mean: 1365.214; s: 200\" role=\"graphics-symbol\" aria-roledescription=\"point\" transform=\"translate(1.1363636363636365,95.8104)\" d=\"M2.7386127875258306,0A2.7386127875258306,2.7386127875258306,0,1,1,-2.7386127875258306,0A2.7386127875258306,2.7386127875258306,0,1,1,2.7386127875258306,0\" stroke=\"rgb(251, 158, 59)\" stroke-width=\"2\" opacity=\"0.7\"/><path aria-label=\"lost_mean: 0.72; profit_mean: 807.732; s: 200\" role=\"graphics-symbol\" aria-roledescription=\"point\" transform=\"translate(0.6545454545454545,116.08247272727272)\" d=\"M2.7386127875258306,0A2.7386127875258306,2.7386127875258306,0,1,1,-2.7386127875258306,0A2.7386127875258306,2.7386127875258306,0,1,1,2.7386127875258306,0\" stroke=\"rgb(251, 158, 59)\" stroke-width=\"2\" opacity=\"0.7\"/><path aria-label=\"lost_mean: 0.33; profit_mean: 690.907; s: 200\" role=\"graphics-symbol\" aria-roledescription=\"point\" transform=\"translate(0.3,120.33065454545455)\" d=\"M2.7386127875258306,0A2.7386127875258306,2.7386127875258306,0,1,1,-2.7386127875258306,0A2.7386127875258306,2.7386127875258306,0,1,1,2.7386127875258306,0\" stroke=\"rgb(251, 158, 59)\" stroke-width=\"2\" opacity=\"0.7\"/><path aria-label=\"lost_mean: 0.38; profit_mean: −141.55; s: 200\" role=\"graphics-symbol\" aria-roledescription=\"point\" transform=\"translate(0.34545454545454546,150.6018181818182)\" d=\"M2.7386127875258306,0A2.7386127875258306,2.7386127875258306,0,1,1,-2.7386127875258306,0A2.7386127875258306,2.7386127875258306,0,1,1,2.7386127875258306,0\" stroke=\"rgb(251, 158, 59)\" stroke-width=\"2\" opacity=\"0.7\"/><path aria-label=\"lost_mean: 0.52; profit_mean: −772.374; s: 200\" role=\"graphics-symbol\" aria-roledescription=\"point\" transform=\"translate(0.4727272727272728,173.54087272727276)\" d=\"M2.7386127875258306,0A2.7386127875258306,2.7386127875258306,0,1,1,-2.7386127875258306,0A2.7386127875258306,2.7386127875258306,0,1,1,2.7386127875258306,0\" stroke=\"rgb(251, 158, 59)\" stroke-width=\"2\" opacity=\"0.7\"/><path aria-label=\"lost_mean: 1.5; profit_mean: 1663.152; s: 225\" role=\"graphics-symbol\" aria-roledescription=\"point\" transform=\"translate(1.3636363636363635,84.9762909090909)\" d=\"M2.7386127875258306,0A2.7386127875258306,2.7386127875258306,0,1,1,-2.7386127875258306,0A2.7386127875258306,2.7386127875258306,0,1,1,2.7386127875258306,0\" stroke=\"rgb(253, 201, 38)\" stroke-width=\"2\" opacity=\"0.7\"/><path aria-label=\"lost_mean: 0.7; profit_mean: 1930.973; s: 225\" role=\"graphics-symbol\" aria-roledescription=\"point\" transform=\"translate(0.6363636363636362,75.23734545454546)\" d=\"M2.7386127875258306,0A2.7386127875258306,2.7386127875258306,0,1,1,-2.7386127875258306,0A2.7386127875258306,2.7386127875258306,0,1,1,2.7386127875258306,0\" stroke=\"rgb(253, 201, 38)\" stroke-width=\"2\" opacity=\"0.7\"/><path aria-label=\"lost_mean: 1.65; profit_mean: 1677.326; s: 225\" role=\"graphics-symbol\" aria-roledescription=\"point\" transform=\"translate(1.5,84.46087272727272)\" d=\"M2.7386127875258306,0A2.7386127875258306,2.7386127875258306,0,1,1,-2.7386127875258306,0A2.7386127875258306,2.7386127875258306,0,1,1,2.7386127875258306,0\" stroke=\"rgb(253, 201, 38)\" stroke-width=\"2\" opacity=\"0.7\"/><path aria-label=\"lost_mean: 2.13; profit_mean: 1233.007; s: 225\" role=\"graphics-symbol\" aria-roledescription=\"point\" transform=\"translate(1.9363636363636365,100.61792727272729)\" d=\"M2.7386127875258306,0A2.7386127875258306,2.7386127875258306,0,1,1,-2.7386127875258306,0A2.7386127875258306,2.7386127875258306,0,1,1,2.7386127875258306,0\" stroke=\"rgb(253, 201, 38)\" stroke-width=\"2\" opacity=\"0.7\"/><path aria-label=\"lost_mean: 0.93; profit_mean: 808.23; s: 225\" role=\"graphics-symbol\" aria-roledescription=\"point\" transform=\"translate(0.8454545454545455,116.06436363636364)\" d=\"M2.7386127875258306,0A2.7386127875258306,2.7386127875258306,0,1,1,-2.7386127875258306,0A2.7386127875258306,2.7386127875258306,0,1,1,2.7386127875258306,0\" stroke=\"rgb(253, 201, 38)\" stroke-width=\"2\" opacity=\"0.7\"/><path aria-label=\"lost_mean: 0.1; profit_mean: 534.7; s: 225\" role=\"graphics-symbol\" aria-roledescription=\"point\" transform=\"translate(0.09090909090909091,126.01090909090908)\" d=\"M2.7386127875258306,0A2.7386127875258306,2.7386127875258306,0,1,1,-2.7386127875258306,0A2.7386127875258306,2.7386127875258306,0,1,1,2.7386127875258306,0\" stroke=\"rgb(253, 201, 38)\" stroke-width=\"2\" opacity=\"0.7\"/><path aria-label=\"lost_mean: 0.48; profit_mean: −243.113; s: 225\" role=\"graphics-symbol\" aria-roledescription=\"point\" transform=\"translate(0.4363636363636364,154.2950181818182)\" d=\"M2.7386127875258306,0A2.7386127875258306,2.7386127875258306,0,1,1,-2.7386127875258306,0A2.7386127875258306,2.7386127875258306,0,1,1,2.7386127875258306,0\" stroke=\"rgb(253, 201, 38)\" stroke-width=\"2\" opacity=\"0.7\"/><path aria-label=\"lost_mean: 1.32; profit_mean: −954.18; s: 225\" role=\"graphics-symbol\" aria-roledescription=\"point\" transform=\"translate(1.2,180.152)\" d=\"M2.7386127875258306,0A2.7386127875258306,2.7386127875258306,0,1,1,-2.7386127875258306,0A2.7386127875258306,2.7386127875258306,0,1,1,2.7386127875258306,0\" stroke=\"rgb(253, 201, 38)\" stroke-width=\"2\" opacity=\"0.7\"/><path aria-label=\"lost_mean: 0.4; profit_mean: 1026.938; s: 250\" role=\"graphics-symbol\" aria-roledescription=\"point\" transform=\"translate(0.36363636363636365,108.11134545454544)\" d=\"M2.7386127875258306,0A2.7386127875258306,2.7386127875258306,0,1,1,-2.7386127875258306,0A2.7386127875258306,2.7386127875258306,0,1,1,2.7386127875258306,0\" stroke=\"rgb(240, 249, 33)\" stroke-width=\"2\" opacity=\"0.7\"/><path aria-label=\"lost_mean: 0.1; profit_mean: 1651.143; s: 250\" role=\"graphics-symbol\" aria-roledescription=\"point\" transform=\"translate(0.09090909090909091,85.41298181818182)\" d=\"M2.7386127875258306,0A2.7386127875258306,2.7386127875258306,0,1,1,-2.7386127875258306,0A2.7386127875258306,2.7386127875258306,0,1,1,2.7386127875258306,0\" stroke=\"rgb(240, 249, 33)\" stroke-width=\"2\" opacity=\"0.7\"/><path aria-label=\"lost_mean: 0.21; profit_mean: 1488.851; s: 250\" role=\"graphics-symbol\" aria-roledescription=\"point\" transform=\"translate(0.19090909090909092,91.3145090909091)\" d=\"M2.7386127875258306,0A2.7386127875258306,2.7386127875258306,0,1,1,-2.7386127875258306,0A2.7386127875258306,2.7386127875258306,0,1,1,2.7386127875258306,0\" stroke=\"rgb(240, 249, 33)\" stroke-width=\"2\" opacity=\"0.7\"/><path aria-label=\"lost_mean: 2.18; profit_mean: 1213.382; s: 250\" role=\"graphics-symbol\" aria-roledescription=\"point\" transform=\"translate(1.981818181818182,101.33156363636364)\" d=\"M2.7386127875258306,0A2.7386127875258306,2.7386127875258306,0,1,1,-2.7386127875258306,0A2.7386127875258306,2.7386127875258306,0,1,1,2.7386127875258306,0\" stroke=\"rgb(240, 249, 33)\" stroke-width=\"2\" opacity=\"0.7\"/><path aria-label=\"lost_mean: 1.76; profit_mean: 799.033; s: 250\" role=\"graphics-symbol\" aria-roledescription=\"point\" transform=\"translate(1.6,116.39880000000001)\" d=\"M2.7386127875258306,0A2.7386127875258306,2.7386127875258306,0,1,1,-2.7386127875258306,0A2.7386127875258306,2.7386127875258306,0,1,1,2.7386127875258306,0\" stroke=\"rgb(240, 249, 33)\" stroke-width=\"2\" opacity=\"0.7\"/><path aria-label=\"lost_mean: 0.03; profit_mean: 168.525; s: 250\" role=\"graphics-symbol\" aria-roledescription=\"point\" transform=\"translate(0.027272727272727275,139.32636363636362)\" d=\"M2.7386127875258306,0A2.7386127875258306,2.7386127875258306,0,1,1,-2.7386127875258306,0A2.7386127875258306,2.7386127875258306,0,1,1,2.7386127875258306,0\" stroke=\"rgb(240, 249, 33)\" stroke-width=\"2\" opacity=\"0.7\"/><path aria-label=\"lost_mean: 0.96; profit_mean: −275.165; s: 250\" role=\"graphics-symbol\" aria-roledescription=\"point\" transform=\"translate(0.8727272727272728,155.46054545454547)\" d=\"M2.7386127875258306,0A2.7386127875258306,2.7386127875258306,0,1,1,-2.7386127875258306,0A2.7386127875258306,2.7386127875258306,0,1,1,2.7386127875258306,0\" stroke=\"rgb(240, 249, 33)\" stroke-width=\"2\" opacity=\"0.7\"/><path aria-label=\"lost_mean: 0; profit_mean: −1019.128; s: 250\" role=\"graphics-symbol\" aria-roledescription=\"point\" transform=\"translate(0,182.51374545454547)\" d=\"M2.7386127875258306,0A2.7386127875258306,2.7386127875258306,0,1,1,-2.7386127875258306,0A2.7386127875258306,2.7386127875258306,0,1,1,2.7386127875258306,0\" stroke=\"rgb(240, 249, 33)\" stroke-width=\"2\" opacity=\"0.7\"/></g><g class=\"mark-group role-legend\" role=\"graphics-symbol\" aria-roledescription=\"legend\" aria-label=\"Gradient legend titled 's' for stroke color with values from 25 to 250\"><g transform=\"translate(218,0)\"><path class=\"background\" aria-hidden=\"true\" d=\"M0,0h36v216h-36Z\" pointer-events=\"none\"/><g><g class=\"mark-group role-legend-entry\"><g transform=\"translate(0,16)\"><path class=\"background\" aria-hidden=\"true\" d=\"M0,0h0v0h0Z\" pointer-events=\"none\"/><g><g class=\"mark-rect role-legend-gradient\" pointer-events=\"none\"><path d=\"M0,0h16v200h-16Z\" fill=\"url(#gradient_0)\" stroke=\"#ddd\" stroke-width=\"0\" opacity=\"0.7\"/></g><g class=\"mark-text role-legend-label\" pointer-events=\"none\"><text text-anchor=\"start\" transform=\"translate(18,180.77777777777777)\" font-family=\"sans-serif\" font-size=\"10px\" fill=\"#000\" opacity=\"1\">50</text><text text-anchor=\"start\" transform=\"translate(18,136.33333333333334)\" font-family=\"sans-serif\" font-size=\"10px\" fill=\"#000\" opacity=\"1\">100</text><text text-anchor=\"start\" transform=\"translate(18,91.88888888888889)\" font-family=\"sans-serif\" font-size=\"10px\" fill=\"#000\" opacity=\"1\">150</text><text text-anchor=\"start\" transform=\"translate(18,47.44444444444444)\" font-family=\"sans-serif\" font-size=\"10px\" fill=\"#000\" opacity=\"1\">200</text><text text-anchor=\"start\" transform=\"translate(18,8)\" font-family=\"sans-serif\" font-size=\"10px\" fill=\"#000\" opacity=\"1\">250</text></g></g><path class=\"foreground\" aria-hidden=\"true\" d=\"\" pointer-events=\"none\" display=\"none\"/></g></g><g class=\"mark-text role-legend-title\" pointer-events=\"none\"><text text-anchor=\"start\" transform=\"translate(0,9)\" font-family=\"sans-serif\" font-size=\"11px\" font-weight=\"bold\" fill=\"#000\" opacity=\"1\">s</text></g></g><path class=\"foreground\" aria-hidden=\"true\" d=\"\" pointer-events=\"none\" display=\"none\"/></g></g></g><path class=\"foreground\" aria-hidden=\"true\" d=\"\" display=\"none\"/></g></g></g><defs><linearGradient id=\"gradient_0\" x1=\"0\" x2=\"0\" y1=\"1\" y2=\"0\"><stop offset=\"0\" stop-color=\"rgb(13, 8, 135)\"/><stop offset=\"0.06666666666666667\" stop-color=\"rgb(51, 5, 151)\"/><stop offset=\"0.15555555555555556\" stop-color=\"rgb(89, 1, 165)\"/><stop offset=\"0.24444444444444444\" stop-color=\"rgb(124, 2, 168)\"/><stop offset=\"0.3333333333333333\" stop-color=\"rgb(156, 23, 158)\"/><stop offset=\"0.4222222222222222\" stop-color=\"rgb(183, 49, 139)\"/><stop offset=\"0.5111111111111111\" stop-color=\"rgb(206, 74, 118)\"/><stop offset=\"0.6\" stop-color=\"rgb(225, 100, 98)\"/><stop offset=\"0.6888888888888889\" stop-color=\"rgb(240, 128, 78)\"/><stop offset=\"0.7777777777777778\" stop-color=\"rgb(251, 158, 59)\"/><stop offset=\"0.8666666666666667\" stop-color=\"rgb(254, 192, 41)\"/><stop offset=\"0.9555555555555556\" stop-color=\"rgb(246, 229, 38)\"/><stop offset=\"1\" stop-color=\"rgb(240, 249, 33)\"/></linearGradient></defs></svg>\n"
      ],
      "text/plain": [
       "@vlplot(\n",
       "    mark=\"point\",\n",
       "    encoding={\n",
       "        x={\n",
       "            field=\"lost_mean\"\n",
       "        },\n",
       "        y={\n",
       "            field=\"profit_mean\"\n",
       "        },\n",
       "        color={\n",
       "            scale={\n",
       "                scheme=\"plasma\"\n",
       "            },\n",
       "            field=\"s\"\n",
       "        }\n",
       "    },\n",
       "    data={\n",
       "        values=...\n",
       "    }\n",
       ")"
      ]
     },
     "execution_count": 86,
     "metadata": {},
     "output_type": "execute_result"
    }
   ],
   "source": [
    "using VegaLite\n",
    "df |> @vlplot(:point, x=:lost_mean, y=:profit_mean, color={:s, scale={scheme=:plasma}})"
   ]
  },
  {
   "cell_type": "code",
   "execution_count": 87,
   "metadata": {},
   "outputs": [
    {
     "data": {
      "application/vnd.vegalite.v4+json": {
       "data": {
        "values": [
         {
          "N": 100,
          "S": 100,
          "lost_mean": 216.66,
          "lost_std": 86.9470081269173,
          "m": 90,
          "profit_mean": 2971.249,
          "profit_std": 187.95520554621308,
          "s": 25
         },
         {
          "N": 100,
          "S": 200,
          "lost_mean": 118.92,
          "lost_std": 62.04913009426116,
          "m": 90,
          "profit_mean": 3579.7960000000003,
          "profit_std": 143.17221100493074,
          "s": 25
         },
         {
          "N": 100,
          "S": 300,
          "lost_mean": 81.2,
          "lost_std": 61.18988495006359,
          "m": 90,
          "profit_mean": 3488.4050000000007,
          "profit_std": 233.74275784168026,
          "s": 25
         },
         {
          "N": 100,
          "S": 400,
          "lost_mean": 60.11,
          "lost_std": 45.893793731073295,
          "m": 90,
          "profit_mean": 3081.231,
          "profit_std": 179.82085119429956,
          "s": 25
         },
         {
          "N": 100,
          "S": 500,
          "lost_mean": 50.72,
          "lost_std": 46.57742115678112,
          "m": 90,
          "profit_mean": 2630.7940000000003,
          "profit_std": 167.02355959141173,
          "s": 25
         },
         {
          "N": 100,
          "S": 600,
          "lost_mean": 34.57,
          "lost_std": 38.67169638133426,
          "m": 90,
          "profit_mean": 2546.72,
          "profit_std": 258.4702663477147,
          "s": 25
         },
         {
          "N": 100,
          "S": 700,
          "lost_mean": 33.52,
          "lost_std": 31.946128897178628,
          "m": 90,
          "profit_mean": 1683.641,
          "profit_std": 168.93935442559678,
          "s": 25
         },
         {
          "N": 100,
          "S": 800,
          "lost_mean": 32.05,
          "lost_std": 34.9673368511908,
          "m": 90,
          "profit_mean": 1200.9729999999995,
          "profit_std": 281.1663826245624,
          "s": 25
         },
         {
          "N": 100,
          "S": 900,
          "lost_mean": 30.45,
          "lost_std": 37.83360031944242,
          "m": 90,
          "profit_mean": 1367.398,
          "profit_std": 302.58799637711195,
          "s": 25
         },
         {
          "N": 100,
          "S": 1000,
          "lost_mean": 24.22,
          "lost_std": 28.795194604711952,
          "m": 90,
          "profit_mean": 419.79099999999994,
          "profit_std": 221.17033158800362,
          "s": 25
         },
         {
          "N": 100,
          "S": 100,
          "lost_mean": 118.74,
          "lost_std": 73.54756861028683,
          "m": 90,
          "profit_mean": 2661.4039999999995,
          "profit_std": 141.7369971019379,
          "s": 50
         },
         {
          "N": 100,
          "S": 200,
          "lost_mean": 49.21,
          "lost_std": 49.32602218552054,
          "m": 90,
          "profit_mean": 3534.3150000000005,
          "profit_std": 159.41803592055612,
          "s": 50
         },
         {
          "N": 100,
          "S": 300,
          "lost_mean": 44.28,
          "lost_std": 55.60249976213282,
          "m": 90,
          "profit_mean": 3394.5560000000005,
          "profit_std": 188.26334141625162,
          "s": 50
         },
         {
          "N": 100,
          "S": 400,
          "lost_mean": 37.86,
          "lost_std": 48.17833454149198,
          "m": 90,
          "profit_mean": 3061.301,
          "profit_std": 190.8767143996355,
          "s": 50
         },
         {
          "N": 100,
          "S": 500,
          "lost_mean": 21.04,
          "lost_std": 31.871243490271315,
          "m": 90,
          "profit_mean": 2721.5890000000004,
          "profit_std": 214.69375882823894,
          "s": 50
         },
         {
          "N": 100,
          "S": 600,
          "lost_mean": 16.11,
          "lost_std": 27.825173908356856,
          "m": 90,
          "profit_mean": 2407.2490000000003,
          "profit_std": 282.0750023817901,
          "s": 50
         },
         {
          "N": 100,
          "S": 700,
          "lost_mean": 20.11,
          "lost_std": 29.26745184285331,
          "m": 90,
          "profit_mean": 1642.6039999999996,
          "profit_std": 171.262618893625,
          "s": 50
         },
         {
          "N": 100,
          "S": 800,
          "lost_mean": 18.19,
          "lost_std": 32.82481661576475,
          "m": 90,
          "profit_mean": 1014.0949999999997,
          "profit_std": 189.3099048538073,
          "s": 50
         },
         {
          "N": 100,
          "S": 900,
          "lost_mean": 13.63,
          "lost_std": 25.355912983608448,
          "m": 90,
          "profit_mean": 1231.521,
          "profit_std": 324.8279520660658,
          "s": 50
         },
         {
          "N": 100,
          "S": 1000,
          "lost_mean": 9.96,
          "lost_std": 26.49868302425994,
          "m": 90,
          "profit_mean": 435.7709999999998,
          "profit_std": 259.2438944840799,
          "s": 50
         },
         {
          "N": 100,
          "S": 100,
          "lost_mean": 74.03,
          "lost_std": 56.146355467859465,
          "m": 90,
          "profit_mean": 1855.157,
          "profit_std": 251.1118521172137,
          "s": 75
         },
         {
          "N": 100,
          "S": 200,
          "lost_mean": 24.44,
          "lost_std": 32.929468550067725,
          "m": 90,
          "profit_mean": 3346.4440000000004,
          "profit_std": 164.15197769694447,
          "s": 75
         },
         {
          "N": 100,
          "S": 300,
          "lost_mean": 14.97,
          "lost_std": 26.357853946147905,
          "m": 90,
          "profit_mean": 3300.2020000000007,
          "profit_std": 171.81134943285713,
          "s": 75
         },
         {
          "N": 100,
          "S": 400,
          "lost_mean": 6.17,
          "lost_std": 14.591442766916574,
          "m": 90,
          "profit_mean": 3035.6479999999997,
          "profit_std": 209.69590559723002,
          "s": 75
         },
         {
          "N": 100,
          "S": 500,
          "lost_mean": 7.34,
          "lost_std": 24.491276533954412,
          "m": 90,
          "profit_mean": 2687.4680000000003,
          "profit_std": 239.6288636600147,
          "s": 75
         },
         {
          "N": 100,
          "S": 600,
          "lost_mean": 9.68,
          "lost_std": 26.735849651089385,
          "m": 90,
          "profit_mean": 2028.0840000000003,
          "profit_std": 263.90170986313603,
          "s": 75
         },
         {
          "N": 100,
          "S": 700,
          "lost_mean": 7.85,
          "lost_std": 21.5417729028504,
          "m": 90,
          "profit_mean": 1678.705,
          "profit_std": 207.2270415327696,
          "s": 75
         },
         {
          "N": 100,
          "S": 800,
          "lost_mean": 11.43,
          "lost_std": 24.390449778633442,
          "m": 90,
          "profit_mean": 914.724,
          "profit_std": 153.53444592288884,
          "s": 75
         },
         {
          "N": 100,
          "S": 900,
          "lost_mean": 4.52,
          "lost_std": 15.272263100209486,
          "m": 90,
          "profit_mean": 682.4799999999997,
          "profit_std": 435.9574175294989,
          "s": 75
         },
         {
          "N": 100,
          "S": 1000,
          "lost_mean": 3.27,
          "lost_std": 14.687901294754278,
          "m": 90,
          "profit_mean": 439.6809999999997,
          "profit_std": 268.44414639988645,
          "s": 75
         },
         {
          "N": 100,
          "S": 200,
          "lost_mean": 20.08,
          "lost_std": 32.71909213133809,
          "m": 90,
          "profit_mean": 3020.23,
          "profit_std": 160.12806900992885,
          "s": 100
         },
         {
          "N": 100,
          "S": 300,
          "lost_mean": 5.76,
          "lost_std": 15.6276884555793,
          "m": 90,
          "profit_mean": 3120.251,
          "profit_std": 168.18128836635097,
          "s": 100
         },
         {
          "N": 100,
          "S": 400,
          "lost_mean": 6.26,
          "lost_std": 17.33486007262169,
          "m": 90,
          "profit_mean": 2795.2369999999996,
          "profit_std": 187.47999362894984,
          "s": 100
         },
         {
          "N": 100,
          "S": 500,
          "lost_mean": 5.26,
          "lost_std": 26.617993458515535,
          "m": 90,
          "profit_mean": 2386.138,
          "profit_std": 263.08043889520366,
          "s": 100
         },
         {
          "N": 100,
          "S": 600,
          "lost_mean": 2.97,
          "lost_std": 13.148303266500925,
          "m": 90,
          "profit_mean": 1828.5710000000001,
          "profit_std": 170.44090969001425,
          "s": 100
         },
         {
          "N": 100,
          "S": 700,
          "lost_mean": 0.49,
          "lost_std": 2.7135834893246518,
          "m": 90,
          "profit_mean": 1683.693,
          "profit_std": 251.01191378019482,
          "s": 100
         },
         {
          "N": 100,
          "S": 800,
          "lost_mean": 5.79,
          "lost_std": 19.27802695382292,
          "m": 90,
          "profit_mean": 814.0609999999998,
          "profit_std": 186.53830266898606,
          "s": 100
         },
         {
          "N": 100,
          "S": 900,
          "lost_mean": 2.51,
          "lost_std": 7.848946400374996,
          "m": 90,
          "profit_mean": 293.36999999999983,
          "profit_std": 355.2029320392681,
          "s": 100
         },
         {
          "N": 100,
          "S": 1000,
          "lost_mean": 2.53,
          "lost_std": 12.014683777054906,
          "m": 90,
          "profit_mean": 428.6849999999998,
          "profit_std": 255.33067344725794,
          "s": 100
         },
         {
          "N": 100,
          "S": 200,
          "lost_mean": 9.32,
          "lost_std": 21.774268940168533,
          "m": 90,
          "profit_mean": 2615.4799999999996,
          "profit_std": 187.355158870941,
          "s": 125
         },
         {
          "N": 100,
          "S": 300,
          "lost_mean": 2.89,
          "lost_std": 12.867541970541087,
          "m": 90,
          "profit_mean": 2913.112,
          "profit_std": 175.10721811034347,
          "s": 125
         },
         {
          "N": 100,
          "S": 400,
          "lost_mean": 4.37,
          "lost_std": 18.413683427650682,
          "m": 90,
          "profit_mean": 2680.0350000000008,
          "profit_std": 174.42341978268527,
          "s": 125
         },
         {
          "N": 100,
          "S": 500,
          "lost_mean": 3.27,
          "lost_std": 18.34619658929144,
          "m": 90,
          "profit_mean": 2227.969,
          "profit_std": 205.2709747375331,
          "s": 125
         },
         {
          "N": 100,
          "S": 600,
          "lost_mean": 0.92,
          "lost_std": 5.364831231400866,
          "m": 90,
          "profit_mean": 1771.845,
          "profit_std": 161.99935613726643,
          "s": 125
         },
         {
          "N": 100,
          "S": 700,
          "lost_mean": 0.75,
          "lost_std": 6.1272285164607085,
          "m": 90,
          "profit_mean": 1545.7620000000002,
          "profit_std": 273.75956743762646,
          "s": 125
         },
         {
          "N": 100,
          "S": 800,
          "lost_mean": 2.17,
          "lost_std": 11.349413725791825,
          "m": 90,
          "profit_mean": 722.4939999999998,
          "profit_std": 207.39437171288384,
          "s": 125
         },
         {
          "N": 100,
          "S": 900,
          "lost_mean": 1.94,
          "lost_std": 8.282658042103648,
          "m": 90,
          "profit_mean": 59.789999999999836,
          "profit_std": 220.4234160048163,
          "s": 125
         },
         {
          "N": 100,
          "S": 1000,
          "lost_mean": 1.12,
          "lost_std": 8.359691647689191,
          "m": 90,
          "profit_mean": 268.1569999999998,
          "profit_std": 409.5952826963107,
          "s": 125
         },
         {
          "N": 100,
          "S": 200,
          "lost_mean": 1.83,
          "lost_std": 7.363649457526704,
          "m": 90,
          "profit_mean": 1970.987,
          "profit_std": 248.1636767042137,
          "s": 150
         },
         {
          "N": 100,
          "S": 300,
          "lost_mean": 2.02,
          "lost_std": 8.678290573190507,
          "m": 90,
          "profit_mean": 2671.952,
          "profit_std": 166.81307961701663,
          "s": 150
         },
         {
          "N": 100,
          "S": 400,
          "lost_mean": 1.22,
          "lost_std": 6.331865858696413,
          "m": 90,
          "profit_mean": 2497.744,
          "profit_std": 185.28499223486705,
          "s": 150
         },
         {
          "N": 100,
          "S": 500,
          "lost_mean": 0.56,
          "lost_std": 3.30386978489703,
          "m": 90,
          "profit_mean": 2149.314,
          "profit_std": 210.26386982440738,
          "s": 150
         },
         {
          "N": 100,
          "S": 600,
          "lost_mean": 1.99,
          "lost_std": 10.519337652460095,
          "m": 90,
          "profit_mean": 1814.606,
          "profit_std": 190.31460281450927,
          "s": 150
         },
         {
          "N": 100,
          "S": 700,
          "lost_mean": 0.28,
          "lost_std": 1.9698741179080554,
          "m": 90,
          "profit_mean": 1134.7029999999995,
          "profit_std": 327.16855769224566,
          "s": 150
         },
         {
          "N": 100,
          "S": 800,
          "lost_mean": 1.81,
          "lost_std": 10.048061273376836,
          "m": 90,
          "profit_mean": 737.2569999999998,
          "profit_std": 205.53083833347395,
          "s": 150
         },
         {
          "N": 100,
          "S": 900,
          "lost_mean": 0.44,
          "lost_std": 3.2108402248469083,
          "m": 90,
          "profit_mean": -37.010000000000225,
          "profit_std": 181.72357657395006,
          "s": 150
         },
         {
          "N": 100,
          "S": 1000,
          "lost_mean": 1.6,
          "lost_std": 8.836334538755771,
          "m": 90,
          "profit_mean": -236.9160000000002,
          "profit_std": 504.6193942713135,
          "s": 150
         },
         {
          "N": 100,
          "S": 200,
          "lost_mean": 3.27,
          "lost_std": 12.657775986692645,
          "m": 90,
          "profit_mean": 1034.612,
          "profit_std": 341.1812309899212,
          "s": 175
         },
         {
          "N": 100,
          "S": 300,
          "lost_mean": 0.71,
          "lost_std": 3.7180830294846046,
          "m": 90,
          "profit_mean": 2395.3160000000003,
          "profit_std": 204.57018391118135,
          "s": 175
         },
         {
          "N": 100,
          "S": 400,
          "lost_mean": 1.75,
          "lost_std": 12.90632528348919,
          "m": 90,
          "profit_mean": 2297.704,
          "profit_std": 193.6575880206604,
          "s": 175
         },
         {
          "N": 100,
          "S": 500,
          "lost_mean": 0.36,
          "lost_std": 3.5999999999999996,
          "m": 90,
          "profit_mean": 1958.382,
          "profit_std": 253.70202213692272,
          "s": 175
         },
         {
          "N": 100,
          "S": 600,
          "lost_mean": 0.67,
          "lost_std": 4.290122552462986,
          "m": 90,
          "profit_mean": 1649.5899999999997,
          "profit_std": 249.80461192983236,
          "s": 175
         },
         {
          "N": 100,
          "S": 700,
          "lost_mean": 0.02,
          "lost_std": 0.19999999999999998,
          "m": 90,
          "profit_mean": 917.8089999999997,
          "profit_std": 235.50629625287615,
          "s": 175
         },
         {
          "N": 100,
          "S": 800,
          "lost_mean": 1.83,
          "lost_std": 11.84159336125563,
          "m": 90,
          "profit_mean": 725.9579999999999,
          "profit_std": 225.62798745552894,
          "s": 175
         },
         {
          "N": 100,
          "S": 900,
          "lost_mean": 1.06,
          "lost_std": 10.600000000000003,
          "m": 90,
          "profit_mean": -147.6150000000002,
          "profit_std": 192.0369200482453,
          "s": 175
         },
         {
          "N": 100,
          "S": 1000,
          "lost_mean": 1.49,
          "lost_std": 9.630019352383082,
          "m": 90,
          "profit_mean": -507.8470000000002,
          "profit_std": 446.96536585482477,
          "s": 175
         },
         {
          "N": 100,
          "S": 300,
          "lost_mean": 0.68,
          "lost_std": 6.5007847234162455,
          "m": 90,
          "profit_mean": 2051.976,
          "profit_std": 166.18719645829125,
          "s": 200
         },
         {
          "N": 100,
          "S": 400,
          "lost_mean": 0.82,
          "lost_std": 5.341622346528188,
          "m": 90,
          "profit_mean": 2142.9079999999994,
          "profit_std": 205.21167277332017,
          "s": 200
         },
         {
          "N": 100,
          "S": 500,
          "lost_mean": 0.79,
          "lost_std": 4.759456296933951,
          "m": 90,
          "profit_mean": 1773.4129999999998,
          "profit_std": 192.5260631208359,
          "s": 200
         },
         {
          "N": 100,
          "S": 600,
          "lost_mean": 1.25,
          "lost_std": 7.629521345379143,
          "m": 90,
          "profit_mean": 1365.214,
          "profit_std": 268.5887686979988,
          "s": 200
         },
         {
          "N": 100,
          "S": 700,
          "lost_mean": 0.72,
          "lost_std": 4.9991514431466415,
          "m": 90,
          "profit_mean": 807.732,
          "profit_std": 167.06069294502737,
          "s": 200
         },
         {
          "N": 100,
          "S": 800,
          "lost_mean": 0.33,
          "lost_std": 2.074642478631298,
          "m": 90,
          "profit_mean": 690.9069999999998,
          "profit_std": 228.549274688427,
          "s": 200
         },
         {
          "N": 100,
          "S": 900,
          "lost_mean": 0.38,
          "lost_std": 2.643001049083135,
          "m": 90,
          "profit_mean": -141.55000000000027,
          "profit_std": 207.4540837599657,
          "s": 200
         },
         {
          "N": 100,
          "S": 1000,
          "lost_mean": 0.52,
          "lost_std": 5.199999999999998,
          "m": 90,
          "profit_mean": -772.3740000000003,
          "profit_std": 332.43444546149686,
          "s": 200
         },
         {
          "N": 100,
          "S": 300,
          "lost_mean": 1.5,
          "lost_std": 7.6785152184257575,
          "m": 90,
          "profit_mean": 1663.1519999999998,
          "profit_std": 212.2201855801581,
          "s": 225
         },
         {
          "N": 100,
          "S": 400,
          "lost_mean": 0.7,
          "lost_std": 4.924685294770139,
          "m": 90,
          "profit_mean": 1930.973,
          "profit_std": 173.7541569039836,
          "s": 225
         },
         {
          "N": 100,
          "S": 500,
          "lost_mean": 1.65,
          "lost_std": 13.0580483328339,
          "m": 90,
          "profit_mean": 1677.326,
          "profit_std": 206.8589431169819,
          "s": 225
         },
         {
          "N": 100,
          "S": 600,
          "lost_mean": 2.13,
          "lost_std": 12.449214003017588,
          "m": 90,
          "profit_mean": 1233.0069999999998,
          "profit_std": 224.07148492065085,
          "s": 225
         },
         {
          "N": 100,
          "S": 700,
          "lost_mean": 0.93,
          "lost_std": 6.244601709080452,
          "m": 90,
          "profit_mean": 808.2299999999999,
          "profit_std": 207.0249545783837,
          "s": 225
         },
         {
          "N": 100,
          "S": 800,
          "lost_mean": 0.1,
          "lost_std": 1.0000000000000007,
          "m": 90,
          "profit_mean": 534.6999999999999,
          "profit_std": 304.10735478170074,
          "s": 225
         },
         {
          "N": 100,
          "S": 900,
          "lost_mean": 0.48,
          "lost_std": 4.071284015559898,
          "m": 90,
          "profit_mean": -243.1130000000002,
          "profit_std": 201.20523400977746,
          "s": 225
         },
         {
          "N": 100,
          "S": 1000,
          "lost_mean": 1.32,
          "lost_std": 7.085167320508104,
          "m": 90,
          "profit_mean": -954.1800000000002,
          "profit_std": 197.84985992086783,
          "s": 225
         },
         {
          "N": 100,
          "S": 300,
          "lost_mean": 0.4,
          "lost_std": 2.8141058827257948,
          "m": 90,
          "profit_mean": 1026.938,
          "profit_std": 254.7140614235278,
          "s": 250
         },
         {
          "N": 100,
          "S": 400,
          "lost_mean": 0.1,
          "lost_std": 1.0000000000000007,
          "m": 90,
          "profit_mean": 1651.1429999999998,
          "profit_std": 172.60763601622932,
          "s": 250
         },
         {
          "N": 100,
          "S": 500,
          "lost_mean": 0.21,
          "lost_std": 1.6714779040832046,
          "m": 90,
          "profit_mean": 1488.8509999999997,
          "profit_std": 226.5972819360552,
          "s": 250
         },
         {
          "N": 100,
          "S": 600,
          "lost_mean": 2.18,
          "lost_std": 13.832606771719133,
          "m": 90,
          "profit_mean": 1213.382,
          "profit_std": 196.7978249756625,
          "s": 250
         },
         {
          "N": 100,
          "S": 700,
          "lost_mean": 1.76,
          "lost_std": 15.115795471204054,
          "m": 90,
          "profit_mean": 799.0329999999999,
          "profit_std": 176.64162204127808,
          "s": 250
         },
         {
          "N": 100,
          "S": 800,
          "lost_mean": 0.03,
          "lost_std": 0.2999999999999999,
          "m": 90,
          "profit_mean": 168.5249999999998,
          "profit_std": 342.22972507107306,
          "s": 250
         },
         {
          "N": 100,
          "S": 900,
          "lost_mean": 0.96,
          "lost_std": 7.126448107315638,
          "m": 90,
          "profit_mean": -275.16500000000025,
          "profit_std": 195.89202672994028,
          "s": 250
         },
         {
          "N": 100,
          "S": 1000,
          "lost_mean": 0,
          "lost_std": 0,
          "m": 90,
          "profit_mean": -1019.1280000000002,
          "profit_std": 171.74590291380093,
          "s": 250
         }
        ]
       },
       "encoding": {
        "color": {
         "field": "S",
         "scale": {
          "scheme": "plasma"
         },
         "type": "quantitative"
        },
        "x": {
         "field": "lost_mean",
         "type": "quantitative"
        },
        "y": {
         "field": "profit_mean",
         "type": "quantitative"
        }
       },
       "mark": "point"
      },
      "image/png": "[encoded data removed]",
      "image/svg+xml": [
       "<?xml version=\"1.0\" encoding=\"utf-8\"?>\n",
       "<!DOCTYPE svg PUBLIC \"-//W3C//DTD SVG 1.1//EN\" \"http://www.w3.org/Graphics/SVG/1.1/DTD/svg11.dtd\">\n",
       "<svg xmlns=\"http://www.w3.org/2000/svg\" xmlns:xlink=\"http://www.w3.org/1999/xlink\" version=\"1.1\" class=\"marks\" width=\"328\" height=\"247\" viewBox=\"0 0 328 247\"><rect width=\"328\" height=\"247\" fill=\"white\"/><g fill=\"none\" stroke-miterlimit=\"10\" transform=\"translate(60,10)\"><g class=\"mark-group role-frame root\" role=\"graphics-object\" aria-roledescription=\"group mark container\"><g transform=\"translate(0,0)\"><path class=\"background\" aria-hidden=\"true\" d=\"M0.5,0.5h200v200h-200Z\" stroke=\"#ddd\"/><g><g class=\"mark-group role-axis\" aria-hidden=\"true\"><g transform=\"translate(0.5,200.5)\"><path class=\"background\" aria-hidden=\"true\" d=\"M0,0h0v0h0Z\" pointer-events=\"none\"/><g><g class=\"mark-rule role-axis-grid\" pointer-events=\"none\"><line transform=\"translate(0,-200)\" x2=\"0\" y2=\"200\" stroke=\"#ddd\" stroke-width=\"1\" opacity=\"1\"/><line transform=\"translate(45,-200)\" x2=\"0\" y2=\"200\" stroke=\"#ddd\" stroke-width=\"1\" opacity=\"1\"/><line transform=\"translate(91,-200)\" x2=\"0\" y2=\"200\" stroke=\"#ddd\" stroke-width=\"1\" opacity=\"1\"/><line transform=\"translate(136,-200)\" x2=\"0\" y2=\"200\" stroke=\"#ddd\" stroke-width=\"1\" opacity=\"1\"/><line transform=\"translate(182,-200)\" x2=\"0\" y2=\"200\" stroke=\"#ddd\" stroke-width=\"1\" opacity=\"1\"/></g></g><path class=\"foreground\" aria-hidden=\"true\" d=\"\" pointer-events=\"none\" display=\"none\"/></g></g><g class=\"mark-group role-axis\" aria-hidden=\"true\"><g transform=\"translate(0.5,0.5)\"><path class=\"background\" aria-hidden=\"true\" d=\"M0,0h0v0h0Z\" pointer-events=\"none\"/><g><g class=\"mark-rule role-axis-grid\" pointer-events=\"none\"><line transform=\"translate(0,182)\" x2=\"200\" y2=\"0\" stroke=\"#ddd\" stroke-width=\"1\" opacity=\"1\"/><line transform=\"translate(0,145)\" x2=\"200\" y2=\"0\" stroke=\"#ddd\" stroke-width=\"1\" opacity=\"1\"/><line transform=\"translate(0,109)\" x2=\"200\" y2=\"0\" stroke=\"#ddd\" stroke-width=\"1\" opacity=\"1\"/><line transform=\"translate(0,73)\" x2=\"200\" y2=\"0\" stroke=\"#ddd\" stroke-width=\"1\" opacity=\"1\"/><line transform=\"translate(0,36)\" x2=\"200\" y2=\"0\" stroke=\"#ddd\" stroke-width=\"1\" opacity=\"1\"/><line transform=\"translate(0,0)\" x2=\"200\" y2=\"0\" stroke=\"#ddd\" stroke-width=\"1\" opacity=\"1\"/></g></g><path class=\"foreground\" aria-hidden=\"true\" d=\"\" pointer-events=\"none\" display=\"none\"/></g></g><g class=\"mark-group role-axis\" role=\"graphics-symbol\" aria-roledescription=\"axis\" aria-label=\"X-axis titled 'lost_mean' for a linear scale with values from 0 to 220\"><g transform=\"translate(0.5,200.5)\"><path class=\"background\" aria-hidden=\"true\" d=\"M0,0h0v0h0Z\" pointer-events=\"none\"/><g><g class=\"mark-rule role-axis-tick\" pointer-events=\"none\"><line transform=\"translate(0,0)\" x2=\"0\" y2=\"5\" stroke=\"#888\" stroke-width=\"1\" opacity=\"1\"/><line transform=\"translate(45,0)\" x2=\"0\" y2=\"5\" stroke=\"#888\" stroke-width=\"1\" opacity=\"1\"/><line transform=\"translate(91,0)\" x2=\"0\" y2=\"5\" stroke=\"#888\" stroke-width=\"1\" opacity=\"1\"/><line transform=\"translate(136,0)\" x2=\"0\" y2=\"5\" stroke=\"#888\" stroke-width=\"1\" opacity=\"1\"/><line transform=\"translate(182,0)\" x2=\"0\" y2=\"5\" stroke=\"#888\" stroke-width=\"1\" opacity=\"1\"/></g><g class=\"mark-text role-axis-label\" pointer-events=\"none\"><text text-anchor=\"start\" transform=\"translate(0,15)\" font-family=\"sans-serif\" font-size=\"10px\" fill=\"#000\" opacity=\"1\">0</text><text text-anchor=\"middle\" transform=\"translate(45.45454545454545,15)\" font-family=\"sans-serif\" font-size=\"10px\" fill=\"#000\" opacity=\"1\">50</text><text text-anchor=\"middle\" transform=\"translate(90.9090909090909,15)\" font-family=\"sans-serif\" font-size=\"10px\" fill=\"#000\" opacity=\"1\">100</text><text text-anchor=\"middle\" transform=\"translate(136.36363636363635,15)\" font-family=\"sans-serif\" font-size=\"10px\" fill=\"#000\" opacity=\"1\">150</text><text text-anchor=\"middle\" transform=\"translate(181.8181818181818,15)\" font-family=\"sans-serif\" font-size=\"10px\" fill=\"#000\" opacity=\"1\">200</text></g><g class=\"mark-rule role-axis-domain\" pointer-events=\"none\"><line transform=\"translate(0,0)\" x2=\"200\" y2=\"0\" stroke=\"#888\" stroke-width=\"1\" opacity=\"1\"/></g><g class=\"mark-text role-axis-title\" pointer-events=\"none\"><text text-anchor=\"middle\" transform=\"translate(100,30)\" font-family=\"sans-serif\" font-size=\"11px\" font-weight=\"bold\" fill=\"#000\" opacity=\"1\">lost_mean</text></g></g><path class=\"foreground\" aria-hidden=\"true\" d=\"\" pointer-events=\"none\" display=\"none\"/></g></g><g class=\"mark-group role-axis\" role=\"graphics-symbol\" aria-roledescription=\"axis\" aria-label=\"Y-axis titled 'profit_mean' for a linear scale with values from −1,500 to 4,000\"><g transform=\"translate(0.5,0.5)\"><path class=\"background\" aria-hidden=\"true\" d=\"M0,0h0v0h0Z\" pointer-events=\"none\"/><g><g class=\"mark-rule role-axis-tick\" pointer-events=\"none\"><line transform=\"translate(0,182)\" x2=\"-5\" y2=\"0\" stroke=\"#888\" stroke-width=\"1\" opacity=\"1\"/><line transform=\"translate(0,145)\" x2=\"-5\" y2=\"0\" stroke=\"#888\" stroke-width=\"1\" opacity=\"1\"/><line transform=\"translate(0,109)\" x2=\"-5\" y2=\"0\" stroke=\"#888\" stroke-width=\"1\" opacity=\"1\"/><line transform=\"translate(0,73)\" x2=\"-5\" y2=\"0\" stroke=\"#888\" stroke-width=\"1\" opacity=\"1\"/><line transform=\"translate(0,36)\" x2=\"-5\" y2=\"0\" stroke=\"#888\" stroke-width=\"1\" opacity=\"1\"/><line transform=\"translate(0,0)\" x2=\"-5\" y2=\"0\" stroke=\"#888\" stroke-width=\"1\" opacity=\"1\"/></g><g class=\"mark-text role-axis-label\" pointer-events=\"none\"><text text-anchor=\"end\" transform=\"translate(-7,184.8181818181818)\" font-family=\"sans-serif\" font-size=\"10px\" fill=\"#000\" opacity=\"1\">−1,000</text><text text-anchor=\"end\" transform=\"translate(-7,148.45454545454547)\" font-family=\"sans-serif\" font-size=\"10px\" fill=\"#000\" opacity=\"1\">0</text><text text-anchor=\"end\" transform=\"translate(-7,112.09090909090908)\" font-family=\"sans-serif\" font-size=\"10px\" fill=\"#000\" opacity=\"1\">1,000</text><text text-anchor=\"end\" transform=\"translate(-7,75.72727272727273)\" font-family=\"sans-serif\" font-size=\"10px\" fill=\"#000\" opacity=\"1\">2,000</text><text text-anchor=\"end\" transform=\"translate(-7,39.36363636363635)\" font-family=\"sans-serif\" font-size=\"10px\" fill=\"#000\" opacity=\"1\">3,000</text><text text-anchor=\"end\" transform=\"translate(-7,3)\" font-family=\"sans-serif\" font-size=\"10px\" fill=\"#000\" opacity=\"1\">4,000</text></g><g class=\"mark-rule role-axis-domain\" pointer-events=\"none\"><line transform=\"translate(0,200)\" x2=\"0\" y2=\"-200\" stroke=\"#888\" stroke-width=\"1\" opacity=\"1\"/></g><g class=\"mark-text role-axis-title\" pointer-events=\"none\"><text text-anchor=\"middle\" transform=\"translate(-44,100) rotate(-90) translate(0,-2)\" font-family=\"sans-serif\" font-size=\"11px\" font-weight=\"bold\" fill=\"#000\" opacity=\"1\">profit_mean</text></g></g><path class=\"foreground\" aria-hidden=\"true\" d=\"\" pointer-events=\"none\" display=\"none\"/></g></g><g class=\"mark-symbol role-mark marks\" role=\"graphics-object\" aria-roledescription=\"symbol mark container\"><path aria-label=\"lost_mean: 216.66; profit_mean: 2971.249; S: 100\" role=\"graphics-symbol\" aria-roledescription=\"point\" transform=\"translate(196.96363636363637,37.409127272727275)\" d=\"M2.7386127875258306,0A2.7386127875258306,2.7386127875258306,0,1,1,-2.7386127875258306,0A2.7386127875258306,2.7386127875258306,0,1,1,2.7386127875258306,0\" stroke=\"rgb(13, 8, 135)\" stroke-width=\"2\" opacity=\"0.7\"/><path aria-label=\"lost_mean: 118.92; profit_mean: 3579.796; S: 200\" role=\"graphics-symbol\" aria-roledescription=\"point\" transform=\"translate(108.10909090909091,15.280145454545435)\" d=\"M2.7386127875258306,0A2.7386127875258306,2.7386127875258306,0,1,1,-2.7386127875258306,0A2.7386127875258306,2.7386127875258306,0,1,1,2.7386127875258306,0\" stroke=\"rgb(71, 3, 159)\" stroke-width=\"2\" opacity=\"0.7\"/><path aria-label=\"lost_mean: 81.2; profit_mean: 3488.405; S: 300\" role=\"graphics-symbol\" aria-roledescription=\"point\" transform=\"translate(73.81818181818181,18.60345454545451)\" d=\"M2.7386127875258306,0A2.7386127875258306,2.7386127875258306,0,1,1,-2.7386127875258306,0A2.7386127875258306,2.7386127875258306,0,1,1,2.7386127875258306,0\" stroke=\"rgb(115, 1, 168)\" stroke-width=\"2\" opacity=\"0.7\"/><path aria-label=\"lost_mean: 60.11; profit_mean: 3081.231; S: 400\" role=\"graphics-symbol\" aria-roledescription=\"point\" transform=\"translate(54.64545454545454,33.40978181818181)\" d=\"M2.7386127875258306,0A2.7386127875258306,2.7386127875258306,0,1,1,-2.7386127875258306,0A2.7386127875258306,2.7386127875258306,0,1,1,2.7386127875258306,0\" stroke=\"rgb(156, 23, 158)\" stroke-width=\"2\" opacity=\"0.7\"/><path aria-label=\"lost_mean: 50.72; profit_mean: 2630.794; S: 500\" role=\"graphics-symbol\" aria-roledescription=\"point\" transform=\"translate(46.10909090909091,49.78930909090911)\" d=\"M2.7386127875258306,0A2.7386127875258306,2.7386127875258306,0,1,1,-2.7386127875258306,0A2.7386127875258306,2.7386127875258306,0,1,1,2.7386127875258306,0\" stroke=\"rgb(189, 55, 133)\" stroke-width=\"2\" opacity=\"0.7\"/><path aria-label=\"lost_mean: 34.57; profit_mean: 2546.72; S: 600\" role=\"graphics-symbol\" aria-roledescription=\"point\" transform=\"translate(31.427272727272726,52.846545454545456)\" d=\"M2.7386127875258306,0A2.7386127875258306,2.7386127875258306,0,1,1,-2.7386127875258306,0A2.7386127875258306,2.7386127875258306,0,1,1,2.7386127875258306,0\" stroke=\"rgb(216, 87, 108)\" stroke-width=\"2\" opacity=\"0.7\"/><path aria-label=\"lost_mean: 33.52; profit_mean: 1683.641; S: 700\" role=\"graphics-symbol\" aria-roledescription=\"point\" transform=\"translate(30.472727272727273,84.23123636363637)\" d=\"M2.7386127875258306,0A2.7386127875258306,2.7386127875258306,0,1,1,-2.7386127875258306,0A2.7386127875258306,2.7386127875258306,0,1,1,2.7386127875258306,0\" stroke=\"rgb(237, 121, 83)\" stroke-width=\"2\" opacity=\"0.7\"/><path aria-label=\"lost_mean: 32.05; profit_mean: 1200.973; S: 800\" role=\"graphics-symbol\" aria-roledescription=\"point\" transform=\"translate(29.136363636363633,101.78280000000002)\" d=\"M2.7386127875258306,0A2.7386127875258306,2.7386127875258306,0,1,1,-2.7386127875258306,0A2.7386127875258306,2.7386127875258306,0,1,1,2.7386127875258306,0\" stroke=\"rgb(251, 158, 59)\" stroke-width=\"2\" opacity=\"0.7\"/><path aria-label=\"lost_mean: 30.45; profit_mean: 1367.398; S: 900\" role=\"graphics-symbol\" aria-roledescription=\"point\" transform=\"translate(27.68181818181818,95.7309818181818)\" d=\"M2.7386127875258306,0A2.7386127875258306,2.7386127875258306,0,1,1,-2.7386127875258306,0A2.7386127875258306,2.7386127875258306,0,1,1,2.7386127875258306,0\" stroke=\"rgb(253, 201, 38)\" stroke-width=\"2\" opacity=\"0.7\"/><path aria-label=\"lost_mean: 24.22; profit_mean: 419.791; S: 1000\" role=\"graphics-symbol\" aria-roledescription=\"point\" transform=\"translate(22.018181818181816,130.18941818181818)\" d=\"M2.7386127875258306,0A2.7386127875258306,2.7386127875258306,0,1,1,-2.7386127875258306,0A2.7386127875258306,2.7386127875258306,0,1,1,2.7386127875258306,0\" stroke=\"rgb(240, 249, 33)\" stroke-width=\"2\" opacity=\"0.7\"/><path aria-label=\"lost_mean: 118.74; profit_mean: 2661.404; S: 100\" role=\"graphics-symbol\" aria-roledescription=\"point\" transform=\"translate(107.94545454545454,48.6762181818182)\" d=\"M2.7386127875258306,0A2.7386127875258306,2.7386127875258306,0,1,1,-2.7386127875258306,0A2.7386127875258306,2.7386127875258306,0,1,1,2.7386127875258306,0\" stroke=\"rgb(13, 8, 135)\" stroke-width=\"2\" opacity=\"0.7\"/><path aria-label=\"lost_mean: 49.21; profit_mean: 3534.315; S: 200\" role=\"graphics-symbol\" aria-roledescription=\"point\" transform=\"translate(44.736363636363635,16.933999999999983)\" d=\"M2.7386127875258306,0A2.7386127875258306,2.7386127875258306,0,1,1,-2.7386127875258306,0A2.7386127875258306,2.7386127875258306,0,1,1,2.7386127875258306,0\" stroke=\"rgb(71, 3, 159)\" stroke-width=\"2\" opacity=\"0.7\"/><path aria-label=\"lost_mean: 44.28; profit_mean: 3394.556; S: 300\" role=\"graphics-symbol\" aria-roledescription=\"point\" transform=\"translate(40.25454545454545,22.016145454545445)\" d=\"M2.7386127875258306,0A2.7386127875258306,2.7386127875258306,0,1,1,-2.7386127875258306,0A2.7386127875258306,2.7386127875258306,0,1,1,2.7386127875258306,0\" stroke=\"rgb(115, 1, 168)\" stroke-width=\"2\" opacity=\"0.7\"/><path aria-label=\"lost_mean: 37.86; profit_mean: 3061.301; S: 400\" role=\"graphics-symbol\" aria-roledescription=\"point\" transform=\"translate(34.41818181818182,34.13450909090911)\" d=\"M2.7386127875258306,0A2.7386127875258306,2.7386127875258306,0,1,1,-2.7386127875258306,0A2.7386127875258306,2.7386127875258306,0,1,1,2.7386127875258306,0\" stroke=\"rgb(156, 23, 158)\" stroke-width=\"2\" opacity=\"0.7\"/><path aria-label=\"lost_mean: 21.04; profit_mean: 2721.589; S: 500\" role=\"graphics-symbol\" aria-roledescription=\"point\" transform=\"translate(19.127272727272725,46.487672727272724)\" d=\"M2.7386127875258306,0A2.7386127875258306,2.7386127875258306,0,1,1,-2.7386127875258306,0A2.7386127875258306,2.7386127875258306,0,1,1,2.7386127875258306,0\" stroke=\"rgb(189, 55, 133)\" stroke-width=\"2\" opacity=\"0.7\"/><path aria-label=\"lost_mean: 16.11; profit_mean: 2407.249; S: 600\" role=\"graphics-symbol\" aria-roledescription=\"point\" transform=\"translate(14.645454545454545,57.91821818181817)\" d=\"M2.7386127875258306,0A2.7386127875258306,2.7386127875258306,0,1,1,-2.7386127875258306,0A2.7386127875258306,2.7386127875258306,0,1,1,2.7386127875258306,0\" stroke=\"rgb(216, 87, 108)\" stroke-width=\"2\" opacity=\"0.7\"/><path aria-label=\"lost_mean: 20.11; profit_mean: 1642.604; S: 700\" role=\"graphics-symbol\" aria-roledescription=\"point\" transform=\"translate(18.28181818181818,85.72349090909093)\" d=\"M2.7386127875258306,0A2.7386127875258306,2.7386127875258306,0,1,1,-2.7386127875258306,0A2.7386127875258306,2.7386127875258306,0,1,1,2.7386127875258306,0\" stroke=\"rgb(237, 121, 83)\" stroke-width=\"2\" opacity=\"0.7\"/><path aria-label=\"lost_mean: 18.19; profit_mean: 1014.095; S: 800\" role=\"graphics-symbol\" aria-roledescription=\"point\" transform=\"translate(16.53636363636364,108.57836363636363)\" d=\"M2.7386127875258306,0A2.7386127875258306,2.7386127875258306,0,1,1,-2.7386127875258306,0A2.7386127875258306,2.7386127875258306,0,1,1,2.7386127875258306,0\" stroke=\"rgb(251, 158, 59)\" stroke-width=\"2\" opacity=\"0.7\"/><path aria-label=\"lost_mean: 13.63; profit_mean: 1231.521; S: 900\" role=\"graphics-symbol\" aria-roledescription=\"point\" transform=\"translate(12.39090909090909,100.67196363636364)\" d=\"M2.7386127875258306,0A2.7386127875258306,2.7386127875258306,0,1,1,-2.7386127875258306,0A2.7386127875258306,2.7386127875258306,0,1,1,2.7386127875258306,0\" stroke=\"rgb(253, 201, 38)\" stroke-width=\"2\" opacity=\"0.7\"/><path aria-label=\"lost_mean: 9.96; profit_mean: 435.771; S: 1000\" role=\"graphics-symbol\" aria-roledescription=\"point\" transform=\"translate(9.054545454545455,129.60832727272728)\" d=\"M2.7386127875258306,0A2.7386127875258306,2.7386127875258306,0,1,1,-2.7386127875258306,0A2.7386127875258306,2.7386127875258306,0,1,1,2.7386127875258306,0\" stroke=\"rgb(240, 249, 33)\" stroke-width=\"2\" opacity=\"0.7\"/><path aria-label=\"lost_mean: 74.03; profit_mean: 1855.157; S: 100\" role=\"graphics-symbol\" aria-roledescription=\"point\" transform=\"translate(67.30000000000001,77.9942909090909)\" d=\"M2.7386127875258306,0A2.7386127875258306,2.7386127875258306,0,1,1,-2.7386127875258306,0A2.7386127875258306,2.7386127875258306,0,1,1,2.7386127875258306,0\" stroke=\"rgb(13, 8, 135)\" stroke-width=\"2\" opacity=\"0.7\"/><path aria-label=\"lost_mean: 24.44; profit_mean: 3346.444; S: 200\" role=\"graphics-symbol\" aria-roledescription=\"point\" transform=\"translate(22.21818181818182,23.7656727272727)\" d=\"M2.7386127875258306,0A2.7386127875258306,2.7386127875258306,0,1,1,-2.7386127875258306,0A2.7386127875258306,2.7386127875258306,0,1,1,2.7386127875258306,0\" stroke=\"rgb(71, 3, 159)\" stroke-width=\"2\" opacity=\"0.7\"/><path aria-label=\"lost_mean: 14.97; profit_mean: 3300.202; S: 300\" role=\"graphics-symbol\" aria-roledescription=\"point\" transform=\"translate(13.60909090909091,25.44719999999996)\" d=\"M2.7386127875258306,0A2.7386127875258306,2.7386127875258306,0,1,1,-2.7386127875258306,0A2.7386127875258306,2.7386127875258306,0,1,1,2.7386127875258306,0\" stroke=\"rgb(115, 1, 168)\" stroke-width=\"2\" opacity=\"0.7\"/><path aria-label=\"lost_mean: 6.17; profit_mean: 3035.648; S: 400\" role=\"graphics-symbol\" aria-roledescription=\"point\" transform=\"translate(5.6090909090909085,35.06734545454548)\" d=\"M2.7386127875258306,0A2.7386127875258306,2.7386127875258306,0,1,1,-2.7386127875258306,0A2.7386127875258306,2.7386127875258306,0,1,1,2.7386127875258306,0\" stroke=\"rgb(156, 23, 158)\" stroke-width=\"2\" opacity=\"0.7\"/><path aria-label=\"lost_mean: 7.34; profit_mean: 2687.468; S: 500\" role=\"graphics-symbol\" aria-roledescription=\"point\" transform=\"translate(6.672727272727273,47.72843636363633)\" d=\"M2.7386127875258306,0A2.7386127875258306,2.7386127875258306,0,1,1,-2.7386127875258306,0A2.7386127875258306,2.7386127875258306,0,1,1,2.7386127875258306,0\" stroke=\"rgb(189, 55, 133)\" stroke-width=\"2\" opacity=\"0.7\"/><path aria-label=\"lost_mean: 9.68; profit_mean: 2028.084; S: 600\" role=\"graphics-symbol\" aria-roledescription=\"point\" transform=\"translate(8.799999999999999,71.70603636363634)\" d=\"M2.7386127875258306,0A2.7386127875258306,2.7386127875258306,0,1,1,-2.7386127875258306,0A2.7386127875258306,2.7386127875258306,0,1,1,2.7386127875258306,0\" stroke=\"rgb(216, 87, 108)\" stroke-width=\"2\" opacity=\"0.7\"/><path aria-label=\"lost_mean: 7.85; profit_mean: 1678.705; S: 700\" role=\"graphics-symbol\" aria-roledescription=\"point\" transform=\"translate(7.136363636363637,84.41072727272727)\" d=\"M2.7386127875258306,0A2.7386127875258306,2.7386127875258306,0,1,1,-2.7386127875258306,0A2.7386127875258306,2.7386127875258306,0,1,1,2.7386127875258306,0\" stroke=\"rgb(237, 121, 83)\" stroke-width=\"2\" opacity=\"0.7\"/><path aria-label=\"lost_mean: 11.43; profit_mean: 914.724; S: 800\" role=\"graphics-symbol\" aria-roledescription=\"point\" transform=\"translate(10.39090909090909,112.19185454545455)\" d=\"M2.7386127875258306,0A2.7386127875258306,2.7386127875258306,0,1,1,-2.7386127875258306,0A2.7386127875258306,2.7386127875258306,0,1,1,2.7386127875258306,0\" stroke=\"rgb(251, 158, 59)\" stroke-width=\"2\" opacity=\"0.7\"/><path aria-label=\"lost_mean: 4.52; profit_mean: 682.48; S: 900\" role=\"graphics-symbol\" aria-roledescription=\"point\" transform=\"translate(4.1090909090909085,120.63709090909094)\" d=\"M2.7386127875258306,0A2.7386127875258306,2.7386127875258306,0,1,1,-2.7386127875258306,0A2.7386127875258306,2.7386127875258306,0,1,1,2.7386127875258306,0\" stroke=\"rgb(253, 201, 38)\" stroke-width=\"2\" opacity=\"0.7\"/><path aria-label=\"lost_mean: 3.27; profit_mean: 439.681; S: 1000\" role=\"graphics-symbol\" aria-roledescription=\"point\" transform=\"translate(2.9727272727272727,129.46614545454545)\" d=\"M2.7386127875258306,0A2.7386127875258306,2.7386127875258306,0,1,1,-2.7386127875258306,0A2.7386127875258306,2.7386127875258306,0,1,1,2.7386127875258306,0\" stroke=\"rgb(240, 249, 33)\" stroke-width=\"2\" opacity=\"0.7\"/><path aria-label=\"lost_mean: 20.08; profit_mean: 3020.23; S: 200\" role=\"graphics-symbol\" aria-roledescription=\"point\" transform=\"translate(18.254545454545454,35.628000000000014)\" d=\"M2.7386127875258306,0A2.7386127875258306,2.7386127875258306,0,1,1,-2.7386127875258306,0A2.7386127875258306,2.7386127875258306,0,1,1,2.7386127875258306,0\" stroke=\"rgb(71, 3, 159)\" stroke-width=\"2\" opacity=\"0.7\"/><path aria-label=\"lost_mean: 5.76; profit_mean: 3120.251; S: 300\" role=\"graphics-symbol\" aria-roledescription=\"point\" transform=\"translate(5.236363636363636,31.990872727272723)\" d=\"M2.7386127875258306,0A2.7386127875258306,2.7386127875258306,0,1,1,-2.7386127875258306,0A2.7386127875258306,2.7386127875258306,0,1,1,2.7386127875258306,0\" stroke=\"rgb(115, 1, 168)\" stroke-width=\"2\" opacity=\"0.7\"/><path aria-label=\"lost_mean: 6.26; profit_mean: 2795.237; S: 400\" role=\"graphics-symbol\" aria-roledescription=\"point\" transform=\"translate(5.690909090909091,43.809563636363656)\" d=\"M2.7386127875258306,0A2.7386127875258306,2.7386127875258306,0,1,1,-2.7386127875258306,0A2.7386127875258306,2.7386127875258306,0,1,1,2.7386127875258306,0\" stroke=\"rgb(156, 23, 158)\" stroke-width=\"2\" opacity=\"0.7\"/><path aria-label=\"lost_mean: 5.26; profit_mean: 2386.138; S: 500\" role=\"graphics-symbol\" aria-roledescription=\"point\" transform=\"translate(4.781818181818181,58.68589090909091)\" d=\"M2.7386127875258306,0A2.7386127875258306,2.7386127875258306,0,1,1,-2.7386127875258306,0A2.7386127875258306,2.7386127875258306,0,1,1,2.7386127875258306,0\" stroke=\"rgb(189, 55, 133)\" stroke-width=\"2\" opacity=\"0.7\"/><path aria-label=\"lost_mean: 2.97; profit_mean: 1828.571; S: 600\" role=\"graphics-symbol\" aria-roledescription=\"point\" transform=\"translate(2.7,78.96105454545454)\" d=\"M2.7386127875258306,0A2.7386127875258306,2.7386127875258306,0,1,1,-2.7386127875258306,0A2.7386127875258306,2.7386127875258306,0,1,1,2.7386127875258306,0\" stroke=\"rgb(216, 87, 108)\" stroke-width=\"2\" opacity=\"0.7\"/><path aria-label=\"lost_mean: 0.49; profit_mean: 1683.693; S: 700\" role=\"graphics-symbol\" aria-roledescription=\"point\" transform=\"translate(0.44545454545454544,84.22934545454545)\" d=\"M2.7386127875258306,0A2.7386127875258306,2.7386127875258306,0,1,1,-2.7386127875258306,0A2.7386127875258306,2.7386127875258306,0,1,1,2.7386127875258306,0\" stroke=\"rgb(237, 121, 83)\" stroke-width=\"2\" opacity=\"0.7\"/><path aria-label=\"lost_mean: 5.79; profit_mean: 814.061; S: 800\" role=\"graphics-symbol\" aria-roledescription=\"point\" transform=\"translate(5.263636363636364,115.8523272727273)\" d=\"M2.7386127875258306,0A2.7386127875258306,2.7386127875258306,0,1,1,-2.7386127875258306,0A2.7386127875258306,2.7386127875258306,0,1,1,2.7386127875258306,0\" stroke=\"rgb(251, 158, 59)\" stroke-width=\"2\" opacity=\"0.7\"/><path aria-label=\"lost_mean: 2.51; profit_mean: 293.37; S: 900\" role=\"graphics-symbol\" aria-roledescription=\"point\" transform=\"translate(2.2818181818181817,134.78654545454546)\" d=\"M2.7386127875258306,0A2.7386127875258306,2.7386127875258306,0,1,1,-2.7386127875258306,0A2.7386127875258306,2.7386127875258306,0,1,1,2.7386127875258306,0\" stroke=\"rgb(253, 201, 38)\" stroke-width=\"2\" opacity=\"0.7\"/><path aria-label=\"lost_mean: 2.53; profit_mean: 428.685; S: 1000\" role=\"graphics-symbol\" aria-roledescription=\"point\" transform=\"translate(2.3,129.866)\" d=\"M2.7386127875258306,0A2.7386127875258306,2.7386127875258306,0,1,1,-2.7386127875258306,0A2.7386127875258306,2.7386127875258306,0,1,1,2.7386127875258306,0\" stroke=\"rgb(240, 249, 33)\" stroke-width=\"2\" opacity=\"0.7\"/><path aria-label=\"lost_mean: 9.32; profit_mean: 2615.48; S: 200\" role=\"graphics-symbol\" aria-roledescription=\"point\" transform=\"translate(8.472727272727273,50.346181818181826)\" d=\"M2.7386127875258306,0A2.7386127875258306,2.7386127875258306,0,1,1,-2.7386127875258306,0A2.7386127875258306,2.7386127875258306,0,1,1,2.7386127875258306,0\" stroke=\"rgb(71, 3, 159)\" stroke-width=\"2\" opacity=\"0.7\"/><path aria-label=\"lost_mean: 2.89; profit_mean: 2913.112; S: 300\" role=\"graphics-symbol\" aria-roledescription=\"point\" transform=\"translate(2.6272727272727274,39.5232)\" d=\"M2.7386127875258306,0A2.7386127875258306,2.7386127875258306,0,1,1,-2.7386127875258306,0A2.7386127875258306,2.7386127875258306,0,1,1,2.7386127875258306,0\" stroke=\"rgb(115, 1, 168)\" stroke-width=\"2\" opacity=\"0.7\"/><path aria-label=\"lost_mean: 4.37; profit_mean: 2680.035; S: 400\" role=\"graphics-symbol\" aria-roledescription=\"point\" transform=\"translate(3.972727272727273,47.99872727272725)\" d=\"M2.7386127875258306,0A2.7386127875258306,2.7386127875258306,0,1,1,-2.7386127875258306,0A2.7386127875258306,2.7386127875258306,0,1,1,2.7386127875258306,0\" stroke=\"rgb(156, 23, 158)\" stroke-width=\"2\" opacity=\"0.7\"/><path aria-label=\"lost_mean: 3.27; profit_mean: 2227.969; S: 500\" role=\"graphics-symbol\" aria-roledescription=\"point\" transform=\"translate(2.9727272727272727,64.4374909090909)\" d=\"M2.7386127875258306,0A2.7386127875258306,2.7386127875258306,0,1,1,-2.7386127875258306,0A2.7386127875258306,2.7386127875258306,0,1,1,2.7386127875258306,0\" stroke=\"rgb(189, 55, 133)\" stroke-width=\"2\" opacity=\"0.7\"/><path aria-label=\"lost_mean: 0.92; profit_mean: 1771.845; S: 600\" role=\"graphics-symbol\" aria-roledescription=\"point\" transform=\"translate(0.8363636363636364,81.02381818181816)\" d=\"M2.7386127875258306,0A2.7386127875258306,2.7386127875258306,0,1,1,-2.7386127875258306,0A2.7386127875258306,2.7386127875258306,0,1,1,2.7386127875258306,0\" stroke=\"rgb(216, 87, 108)\" stroke-width=\"2\" opacity=\"0.7\"/><path aria-label=\"lost_mean: 0.75; profit_mean: 1545.762; S: 700\" role=\"graphics-symbol\" aria-roledescription=\"point\" transform=\"translate(0.6818181818181818,89.24501818181818)\" d=\"M2.7386127875258306,0A2.7386127875258306,2.7386127875258306,0,1,1,-2.7386127875258306,0A2.7386127875258306,2.7386127875258306,0,1,1,2.7386127875258306,0\" stroke=\"rgb(237, 121, 83)\" stroke-width=\"2\" opacity=\"0.7\"/><path aria-label=\"lost_mean: 2.17; profit_mean: 722.494; S: 800\" role=\"graphics-symbol\" aria-roledescription=\"point\" transform=\"translate(1.9727272727272724,119.18203636363639)\" d=\"M2.7386127875258306,0A2.7386127875258306,2.7386127875258306,0,1,1,-2.7386127875258306,0A2.7386127875258306,2.7386127875258306,0,1,1,2.7386127875258306,0\" stroke=\"rgb(251, 158, 59)\" stroke-width=\"2\" opacity=\"0.7\"/><path aria-label=\"lost_mean: 1.94; profit_mean: 59.79; S: 900\" role=\"graphics-symbol\" aria-roledescription=\"point\" transform=\"translate(1.7636363636363637,143.28036363636366)\" d=\"M2.7386127875258306,0A2.7386127875258306,2.7386127875258306,0,1,1,-2.7386127875258306,0A2.7386127875258306,2.7386127875258306,0,1,1,2.7386127875258306,0\" stroke=\"rgb(253, 201, 38)\" stroke-width=\"2\" opacity=\"0.7\"/><path aria-label=\"lost_mean: 1.12; profit_mean: 268.157; S: 1000\" role=\"graphics-symbol\" aria-roledescription=\"point\" transform=\"translate(1.0181818181818183,135.7033818181818)\" d=\"M2.7386127875258306,0A2.7386127875258306,2.7386127875258306,0,1,1,-2.7386127875258306,0A2.7386127875258306,2.7386127875258306,0,1,1,2.7386127875258306,0\" stroke=\"rgb(240, 249, 33)\" stroke-width=\"2\" opacity=\"0.7\"/><path aria-label=\"lost_mean: 1.83; profit_mean: 1970.987; S: 200\" role=\"graphics-symbol\" aria-roledescription=\"point\" transform=\"translate(1.6636363636363636,73.7822909090909)\" d=\"M2.7386127875258306,0A2.7386127875258306,2.7386127875258306,0,1,1,-2.7386127875258306,0A2.7386127875258306,2.7386127875258306,0,1,1,2.7386127875258306,0\" stroke=\"rgb(71, 3, 159)\" stroke-width=\"2\" opacity=\"0.7\"/><path aria-label=\"lost_mean: 2.02; profit_mean: 2671.952; S: 300\" role=\"graphics-symbol\" aria-roledescription=\"point\" transform=\"translate(1.8363636363636364,48.292654545454525)\" d=\"M2.7386127875258306,0A2.7386127875258306,2.7386127875258306,0,1,1,-2.7386127875258306,0A2.7386127875258306,2.7386127875258306,0,1,1,2.7386127875258306,0\" stroke=\"rgb(115, 1, 168)\" stroke-width=\"2\" opacity=\"0.7\"/><path aria-label=\"lost_mean: 1.22; profit_mean: 2497.744; S: 400\" role=\"graphics-symbol\" aria-roledescription=\"point\" transform=\"translate(1.1090909090909091,54.627490909090916)\" d=\"M2.7386127875258306,0A2.7386127875258306,2.7386127875258306,0,1,1,-2.7386127875258306,0A2.7386127875258306,2.7386127875258306,0,1,1,2.7386127875258306,0\" stroke=\"rgb(156, 23, 158)\" stroke-width=\"2\" opacity=\"0.7\"/><path aria-label=\"lost_mean: 0.56; profit_mean: 2149.314; S: 500\" role=\"graphics-symbol\" aria-roledescription=\"point\" transform=\"translate(0.5090909090909091,67.29767272727274)\" d=\"M2.7386127875258306,0A2.7386127875258306,2.7386127875258306,0,1,1,-2.7386127875258306,0A2.7386127875258306,2.7386127875258306,0,1,1,2.7386127875258306,0\" stroke=\"rgb(189, 55, 133)\" stroke-width=\"2\" opacity=\"0.7\"/><path aria-label=\"lost_mean: 1.99; profit_mean: 1814.606; S: 600\" role=\"graphics-symbol\" aria-roledescription=\"point\" transform=\"translate(1.809090909090909,79.46887272727274)\" d=\"M2.7386127875258306,0A2.7386127875258306,2.7386127875258306,0,1,1,-2.7386127875258306,0A2.7386127875258306,2.7386127875258306,0,1,1,2.7386127875258306,0\" stroke=\"rgb(216, 87, 108)\" stroke-width=\"2\" opacity=\"0.7\"/><path aria-label=\"lost_mean: 0.28; profit_mean: 1134.703; S: 700\" role=\"graphics-symbol\" aria-roledescription=\"point\" transform=\"translate(0.2545454545454546,104.1926181818182)\" d=\"M2.7386127875258306,0A2.7386127875258306,2.7386127875258306,0,1,1,-2.7386127875258306,0A2.7386127875258306,2.7386127875258306,0,1,1,2.7386127875258306,0\" stroke=\"rgb(237, 121, 83)\" stroke-width=\"2\" opacity=\"0.7\"/><path aria-label=\"lost_mean: 1.81; profit_mean: 737.257; S: 800\" role=\"graphics-symbol\" aria-roledescription=\"point\" transform=\"translate(1.6454545454545455,118.6452)\" d=\"M2.7386127875258306,0A2.7386127875258306,2.7386127875258306,0,1,1,-2.7386127875258306,0A2.7386127875258306,2.7386127875258306,0,1,1,2.7386127875258306,0\" stroke=\"rgb(251, 158, 59)\" stroke-width=\"2\" opacity=\"0.7\"/><path aria-label=\"lost_mean: 0.44; profit_mean: −37.01; S: 900\" role=\"graphics-symbol\" aria-roledescription=\"point\" transform=\"translate(0.4,146.80036363636364)\" d=\"M2.7386127875258306,0A2.7386127875258306,2.7386127875258306,0,1,1,-2.7386127875258306,0A2.7386127875258306,2.7386127875258306,0,1,1,2.7386127875258306,0\" stroke=\"rgb(253, 201, 38)\" stroke-width=\"2\" opacity=\"0.7\"/><path aria-label=\"lost_mean: 1.6; profit_mean: −236.916; S: 1000\" role=\"graphics-symbol\" aria-roledescription=\"point\" transform=\"translate(1.4545454545454546,154.06967272727275)\" d=\"M2.7386127875258306,0A2.7386127875258306,2.7386127875258306,0,1,1,-2.7386127875258306,0A2.7386127875258306,2.7386127875258306,0,1,1,2.7386127875258306,0\" stroke=\"rgb(240, 249, 33)\" stroke-width=\"2\" opacity=\"0.7\"/><path aria-label=\"lost_mean: 3.27; profit_mean: 1034.612; S: 200\" role=\"graphics-symbol\" aria-roledescription=\"point\" transform=\"translate(2.9727272727272727,107.83229090909091)\" d=\"M2.7386127875258306,0A2.7386127875258306,2.7386127875258306,0,1,1,-2.7386127875258306,0A2.7386127875258306,2.7386127875258306,0,1,1,2.7386127875258306,0\" stroke=\"rgb(71, 3, 159)\" stroke-width=\"2\" opacity=\"0.7\"/><path aria-label=\"lost_mean: 0.71; profit_mean: 2395.316; S: 300\" role=\"graphics-symbol\" aria-roledescription=\"point\" transform=\"translate(0.6454545454545454,58.352145454545436)\" d=\"M2.7386127875258306,0A2.7386127875258306,2.7386127875258306,0,1,1,-2.7386127875258306,0A2.7386127875258306,2.7386127875258306,0,1,1,2.7386127875258306,0\" stroke=\"rgb(115, 1, 168)\" stroke-width=\"2\" opacity=\"0.7\"/><path aria-label=\"lost_mean: 1.75; profit_mean: 2297.704; S: 400\" role=\"graphics-symbol\" aria-roledescription=\"point\" transform=\"translate(1.5909090909090908,61.90167272727272)\" d=\"M2.7386127875258306,0A2.7386127875258306,2.7386127875258306,0,1,1,-2.7386127875258306,0A2.7386127875258306,2.7386127875258306,0,1,1,2.7386127875258306,0\" stroke=\"rgb(156, 23, 158)\" stroke-width=\"2\" opacity=\"0.7\"/><path aria-label=\"lost_mean: 0.36; profit_mean: 1958.382; S: 500\" role=\"graphics-symbol\" aria-roledescription=\"point\" transform=\"translate(0.32727272727272727,74.24065454545455)\" d=\"M2.7386127875258306,0A2.7386127875258306,2.7386127875258306,0,1,1,-2.7386127875258306,0A2.7386127875258306,2.7386127875258306,0,1,1,2.7386127875258306,0\" stroke=\"rgb(189, 55, 133)\" stroke-width=\"2\" opacity=\"0.7\"/><path aria-label=\"lost_mean: 0.67; profit_mean: 1649.59; S: 600\" role=\"graphics-symbol\" aria-roledescription=\"point\" transform=\"translate(0.6090909090909091,85.46945454545455)\" d=\"M2.7386127875258306,0A2.7386127875258306,2.7386127875258306,0,1,1,-2.7386127875258306,0A2.7386127875258306,2.7386127875258306,0,1,1,2.7386127875258306,0\" stroke=\"rgb(216, 87, 108)\" stroke-width=\"2\" opacity=\"0.7\"/><path aria-label=\"lost_mean: 0.02; profit_mean: 917.809; S: 700\" role=\"graphics-symbol\" aria-roledescription=\"point\" transform=\"translate(0.018181818181818184,112.07967272727272)\" d=\"M2.7386127875258306,0A2.7386127875258306,2.7386127875258306,0,1,1,-2.7386127875258306,0A2.7386127875258306,2.7386127875258306,0,1,1,2.7386127875258306,0\" stroke=\"rgb(237, 121, 83)\" stroke-width=\"2\" opacity=\"0.7\"/><path aria-label=\"lost_mean: 1.83; profit_mean: 725.958; S: 800\" role=\"graphics-symbol\" aria-roledescription=\"point\" transform=\"translate(1.6636363636363636,119.05607272727275)\" d=\"M2.7386127875258306,0A2.7386127875258306,2.7386127875258306,0,1,1,-2.7386127875258306,0A2.7386127875258306,2.7386127875258306,0,1,1,2.7386127875258306,0\" stroke=\"rgb(251, 158, 59)\" stroke-width=\"2\" opacity=\"0.7\"/><path aria-label=\"lost_mean: 1.06; profit_mean: −147.615; S: 900\" role=\"graphics-symbol\" aria-roledescription=\"point\" transform=\"translate(0.9636363636363637,150.82236363636366)\" d=\"M2.7386127875258306,0A2.7386127875258306,2.7386127875258306,0,1,1,-2.7386127875258306,0A2.7386127875258306,2.7386127875258306,0,1,1,2.7386127875258306,0\" stroke=\"rgb(253, 201, 38)\" stroke-width=\"2\" opacity=\"0.7\"/><path aria-label=\"lost_mean: 1.49; profit_mean: −507.847; S: 1000\" role=\"graphics-symbol\" aria-roledescription=\"point\" transform=\"translate(1.3545454545454545,163.92170909090908)\" d=\"M2.7386127875258306,0A2.7386127875258306,2.7386127875258306,0,1,1,-2.7386127875258306,0A2.7386127875258306,2.7386127875258306,0,1,1,2.7386127875258306,0\" stroke=\"rgb(240, 249, 33)\" stroke-width=\"2\" opacity=\"0.7\"/><path aria-label=\"lost_mean: 0.68; profit_mean: 2051.976; S: 300\" role=\"graphics-symbol\" aria-roledescription=\"point\" transform=\"translate(0.6181818181818183,70.83723636363636)\" d=\"M2.7386127875258306,0A2.7386127875258306,2.7386127875258306,0,1,1,-2.7386127875258306,0A2.7386127875258306,2.7386127875258306,0,1,1,2.7386127875258306,0\" stroke=\"rgb(115, 1, 168)\" stroke-width=\"2\" opacity=\"0.7\"/><path aria-label=\"lost_mean: 0.82; profit_mean: 2142.908; S: 400\" role=\"graphics-symbol\" aria-roledescription=\"point\" transform=\"translate(0.7454545454545454,67.5306181818182)\" d=\"M2.7386127875258306,0A2.7386127875258306,2.7386127875258306,0,1,1,-2.7386127875258306,0A2.7386127875258306,2.7386127875258306,0,1,1,2.7386127875258306,0\" stroke=\"rgb(156, 23, 158)\" stroke-width=\"2\" opacity=\"0.7\"/><path aria-label=\"lost_mean: 0.79; profit_mean: 1773.413; S: 500\" role=\"graphics-symbol\" aria-roledescription=\"point\" transform=\"translate(0.7181818181818183,80.9668)\" d=\"M2.7386127875258306,0A2.7386127875258306,2.7386127875258306,0,1,1,-2.7386127875258306,0A2.7386127875258306,2.7386127875258306,0,1,1,2.7386127875258306,0\" stroke=\"rgb(189, 55, 133)\" stroke-width=\"2\" opacity=\"0.7\"/><path aria-label=\"lost_mean: 1.25; profit_mean: 1365.214; S: 600\" role=\"graphics-symbol\" aria-roledescription=\"point\" transform=\"translate(1.1363636363636365,95.8104)\" d=\"M2.7386127875258306,0A2.7386127875258306,2.7386127875258306,0,1,1,-2.7386127875258306,0A2.7386127875258306,2.7386127875258306,0,1,1,2.7386127875258306,0\" stroke=\"rgb(216, 87, 108)\" stroke-width=\"2\" opacity=\"0.7\"/><path aria-label=\"lost_mean: 0.72; profit_mean: 807.732; S: 700\" role=\"graphics-symbol\" aria-roledescription=\"point\" transform=\"translate(0.6545454545454545,116.08247272727272)\" d=\"M2.7386127875258306,0A2.7386127875258306,2.7386127875258306,0,1,1,-2.7386127875258306,0A2.7386127875258306,2.7386127875258306,0,1,1,2.7386127875258306,0\" stroke=\"rgb(237, 121, 83)\" stroke-width=\"2\" opacity=\"0.7\"/><path aria-label=\"lost_mean: 0.33; profit_mean: 690.907; S: 800\" role=\"graphics-symbol\" aria-roledescription=\"point\" transform=\"translate(0.3,120.33065454545455)\" d=\"M2.7386127875258306,0A2.7386127875258306,2.7386127875258306,0,1,1,-2.7386127875258306,0A2.7386127875258306,2.7386127875258306,0,1,1,2.7386127875258306,0\" stroke=\"rgb(251, 158, 59)\" stroke-width=\"2\" opacity=\"0.7\"/><path aria-label=\"lost_mean: 0.38; profit_mean: −141.55; S: 900\" role=\"graphics-symbol\" aria-roledescription=\"point\" transform=\"translate(0.34545454545454546,150.6018181818182)\" d=\"M2.7386127875258306,0A2.7386127875258306,2.7386127875258306,0,1,1,-2.7386127875258306,0A2.7386127875258306,2.7386127875258306,0,1,1,2.7386127875258306,0\" stroke=\"rgb(253, 201, 38)\" stroke-width=\"2\" opacity=\"0.7\"/><path aria-label=\"lost_mean: 0.52; profit_mean: −772.374; S: 1000\" role=\"graphics-symbol\" aria-roledescription=\"point\" transform=\"translate(0.4727272727272728,173.54087272727276)\" d=\"M2.7386127875258306,0A2.7386127875258306,2.7386127875258306,0,1,1,-2.7386127875258306,0A2.7386127875258306,2.7386127875258306,0,1,1,2.7386127875258306,0\" stroke=\"rgb(240, 249, 33)\" stroke-width=\"2\" opacity=\"0.7\"/><path aria-label=\"lost_mean: 1.5; profit_mean: 1663.152; S: 300\" role=\"graphics-symbol\" aria-roledescription=\"point\" transform=\"translate(1.3636363636363635,84.9762909090909)\" d=\"M2.7386127875258306,0A2.7386127875258306,2.7386127875258306,0,1,1,-2.7386127875258306,0A2.7386127875258306,2.7386127875258306,0,1,1,2.7386127875258306,0\" stroke=\"rgb(115, 1, 168)\" stroke-width=\"2\" opacity=\"0.7\"/><path aria-label=\"lost_mean: 0.7; profit_mean: 1930.973; S: 400\" role=\"graphics-symbol\" aria-roledescription=\"point\" transform=\"translate(0.6363636363636362,75.23734545454546)\" d=\"M2.7386127875258306,0A2.7386127875258306,2.7386127875258306,0,1,1,-2.7386127875258306,0A2.7386127875258306,2.7386127875258306,0,1,1,2.7386127875258306,0\" stroke=\"rgb(156, 23, 158)\" stroke-width=\"2\" opacity=\"0.7\"/><path aria-label=\"lost_mean: 1.65; profit_mean: 1677.326; S: 500\" role=\"graphics-symbol\" aria-roledescription=\"point\" transform=\"translate(1.5,84.46087272727272)\" d=\"M2.7386127875258306,0A2.7386127875258306,2.7386127875258306,0,1,1,-2.7386127875258306,0A2.7386127875258306,2.7386127875258306,0,1,1,2.7386127875258306,0\" stroke=\"rgb(189, 55, 133)\" stroke-width=\"2\" opacity=\"0.7\"/><path aria-label=\"lost_mean: 2.13; profit_mean: 1233.007; S: 600\" role=\"graphics-symbol\" aria-roledescription=\"point\" transform=\"translate(1.9363636363636365,100.61792727272729)\" d=\"M2.7386127875258306,0A2.7386127875258306,2.7386127875258306,0,1,1,-2.7386127875258306,0A2.7386127875258306,2.7386127875258306,0,1,1,2.7386127875258306,0\" stroke=\"rgb(216, 87, 108)\" stroke-width=\"2\" opacity=\"0.7\"/><path aria-label=\"lost_mean: 0.93; profit_mean: 808.23; S: 700\" role=\"graphics-symbol\" aria-roledescription=\"point\" transform=\"translate(0.8454545454545455,116.06436363636364)\" d=\"M2.7386127875258306,0A2.7386127875258306,2.7386127875258306,0,1,1,-2.7386127875258306,0A2.7386127875258306,2.7386127875258306,0,1,1,2.7386127875258306,0\" stroke=\"rgb(237, 121, 83)\" stroke-width=\"2\" opacity=\"0.7\"/><path aria-label=\"lost_mean: 0.1; profit_mean: 534.7; S: 800\" role=\"graphics-symbol\" aria-roledescription=\"point\" transform=\"translate(0.09090909090909091,126.01090909090908)\" d=\"M2.7386127875258306,0A2.7386127875258306,2.7386127875258306,0,1,1,-2.7386127875258306,0A2.7386127875258306,2.7386127875258306,0,1,1,2.7386127875258306,0\" stroke=\"rgb(251, 158, 59)\" stroke-width=\"2\" opacity=\"0.7\"/><path aria-label=\"lost_mean: 0.48; profit_mean: −243.113; S: 900\" role=\"graphics-symbol\" aria-roledescription=\"point\" transform=\"translate(0.4363636363636364,154.2950181818182)\" d=\"M2.7386127875258306,0A2.7386127875258306,2.7386127875258306,0,1,1,-2.7386127875258306,0A2.7386127875258306,2.7386127875258306,0,1,1,2.7386127875258306,0\" stroke=\"rgb(253, 201, 38)\" stroke-width=\"2\" opacity=\"0.7\"/><path aria-label=\"lost_mean: 1.32; profit_mean: −954.18; S: 1000\" role=\"graphics-symbol\" aria-roledescription=\"point\" transform=\"translate(1.2,180.152)\" d=\"M2.7386127875258306,0A2.7386127875258306,2.7386127875258306,0,1,1,-2.7386127875258306,0A2.7386127875258306,2.7386127875258306,0,1,1,2.7386127875258306,0\" stroke=\"rgb(240, 249, 33)\" stroke-width=\"2\" opacity=\"0.7\"/><path aria-label=\"lost_mean: 0.4; profit_mean: 1026.938; S: 300\" role=\"graphics-symbol\" aria-roledescription=\"point\" transform=\"translate(0.36363636363636365,108.11134545454544)\" d=\"M2.7386127875258306,0A2.7386127875258306,2.7386127875258306,0,1,1,-2.7386127875258306,0A2.7386127875258306,2.7386127875258306,0,1,1,2.7386127875258306,0\" stroke=\"rgb(115, 1, 168)\" stroke-width=\"2\" opacity=\"0.7\"/><path aria-label=\"lost_mean: 0.1; profit_mean: 1651.143; S: 400\" role=\"graphics-symbol\" aria-roledescription=\"point\" transform=\"translate(0.09090909090909091,85.41298181818182)\" d=\"M2.7386127875258306,0A2.7386127875258306,2.7386127875258306,0,1,1,-2.7386127875258306,0A2.7386127875258306,2.7386127875258306,0,1,1,2.7386127875258306,0\" stroke=\"rgb(156, 23, 158)\" stroke-width=\"2\" opacity=\"0.7\"/><path aria-label=\"lost_mean: 0.21; profit_mean: 1488.851; S: 500\" role=\"graphics-symbol\" aria-roledescription=\"point\" transform=\"translate(0.19090909090909092,91.3145090909091)\" d=\"M2.7386127875258306,0A2.7386127875258306,2.7386127875258306,0,1,1,-2.7386127875258306,0A2.7386127875258306,2.7386127875258306,0,1,1,2.7386127875258306,0\" stroke=\"rgb(189, 55, 133)\" stroke-width=\"2\" opacity=\"0.7\"/><path aria-label=\"lost_mean: 2.18; profit_mean: 1213.382; S: 600\" role=\"graphics-symbol\" aria-roledescription=\"point\" transform=\"translate(1.981818181818182,101.33156363636364)\" d=\"M2.7386127875258306,0A2.7386127875258306,2.7386127875258306,0,1,1,-2.7386127875258306,0A2.7386127875258306,2.7386127875258306,0,1,1,2.7386127875258306,0\" stroke=\"rgb(216, 87, 108)\" stroke-width=\"2\" opacity=\"0.7\"/><path aria-label=\"lost_mean: 1.76; profit_mean: 799.033; S: 700\" role=\"graphics-symbol\" aria-roledescription=\"point\" transform=\"translate(1.6,116.39880000000001)\" d=\"M2.7386127875258306,0A2.7386127875258306,2.7386127875258306,0,1,1,-2.7386127875258306,0A2.7386127875258306,2.7386127875258306,0,1,1,2.7386127875258306,0\" stroke=\"rgb(237, 121, 83)\" stroke-width=\"2\" opacity=\"0.7\"/><path aria-label=\"lost_mean: 0.03; profit_mean: 168.525; S: 800\" role=\"graphics-symbol\" aria-roledescription=\"point\" transform=\"translate(0.027272727272727275,139.32636363636362)\" d=\"M2.7386127875258306,0A2.7386127875258306,2.7386127875258306,0,1,1,-2.7386127875258306,0A2.7386127875258306,2.7386127875258306,0,1,1,2.7386127875258306,0\" stroke=\"rgb(251, 158, 59)\" stroke-width=\"2\" opacity=\"0.7\"/><path aria-label=\"lost_mean: 0.96; profit_mean: −275.165; S: 900\" role=\"graphics-symbol\" aria-roledescription=\"point\" transform=\"translate(0.8727272727272728,155.46054545454547)\" d=\"M2.7386127875258306,0A2.7386127875258306,2.7386127875258306,0,1,1,-2.7386127875258306,0A2.7386127875258306,2.7386127875258306,0,1,1,2.7386127875258306,0\" stroke=\"rgb(253, 201, 38)\" stroke-width=\"2\" opacity=\"0.7\"/><path aria-label=\"lost_mean: 0; profit_mean: −1019.128; S: 1000\" role=\"graphics-symbol\" aria-roledescription=\"point\" transform=\"translate(0,182.51374545454547)\" d=\"M2.7386127875258306,0A2.7386127875258306,2.7386127875258306,0,1,1,-2.7386127875258306,0A2.7386127875258306,2.7386127875258306,0,1,1,2.7386127875258306,0\" stroke=\"rgb(240, 249, 33)\" stroke-width=\"2\" opacity=\"0.7\"/></g><g class=\"mark-group role-legend\" role=\"graphics-symbol\" aria-roledescription=\"legend\" aria-label=\"Gradient legend titled 'S' for stroke color with values from 100 to 1,000\"><g transform=\"translate(218,0)\"><path class=\"background\" aria-hidden=\"true\" d=\"M0,0h45v216h-45Z\" pointer-events=\"none\"/><g><g class=\"mark-group role-legend-entry\"><g transform=\"translate(0,16)\"><path class=\"background\" aria-hidden=\"true\" d=\"M0,0h0v0h0Z\" pointer-events=\"none\"/><g><g class=\"mark-rect role-legend-gradient\" pointer-events=\"none\"><path d=\"M0,0h16v200h-16Z\" fill=\"url(#gradient_0)\" stroke=\"#ddd\" stroke-width=\"0\" opacity=\"0.7\"/></g><g class=\"mark-text role-legend-label\" pointer-events=\"none\"><text text-anchor=\"start\" transform=\"translate(18,180.77777777777777)\" font-family=\"sans-serif\" font-size=\"10px\" fill=\"#000\" opacity=\"1\">200</text><text text-anchor=\"start\" transform=\"translate(18,136.33333333333334)\" font-family=\"sans-serif\" font-size=\"10px\" fill=\"#000\" opacity=\"1\">400</text><text text-anchor=\"start\" transform=\"translate(18,91.88888888888889)\" font-family=\"sans-serif\" font-size=\"10px\" fill=\"#000\" opacity=\"1\">600</text><text text-anchor=\"start\" transform=\"translate(18,47.44444444444444)\" font-family=\"sans-serif\" font-size=\"10px\" fill=\"#000\" opacity=\"1\">800</text><text text-anchor=\"start\" transform=\"translate(18,8)\" font-family=\"sans-serif\" font-size=\"10px\" fill=\"#000\" opacity=\"1\">1,000</text></g></g><path class=\"foreground\" aria-hidden=\"true\" d=\"\" pointer-events=\"none\" display=\"none\"/></g></g><g class=\"mark-text role-legend-title\" pointer-events=\"none\"><text text-anchor=\"start\" transform=\"translate(0,9)\" font-family=\"sans-serif\" font-size=\"11px\" font-weight=\"bold\" fill=\"#000\" opacity=\"1\">S</text></g></g><path class=\"foreground\" aria-hidden=\"true\" d=\"\" pointer-events=\"none\" display=\"none\"/></g></g></g><path class=\"foreground\" aria-hidden=\"true\" d=\"\" display=\"none\"/></g></g></g><defs><linearGradient id=\"gradient_0\" x1=\"0\" x2=\"0\" y1=\"1\" y2=\"0\"><stop offset=\"0\" stop-color=\"rgb(13, 8, 135)\"/><stop offset=\"0.05555555555555555\" stop-color=\"rgb(46, 5, 149)\"/><stop offset=\"0.1111111111111111\" stop-color=\"rgb(71, 3, 159)\"/><stop offset=\"0.16666666666666666\" stop-color=\"rgb(93, 1, 166)\"/><stop offset=\"0.2222222222222222\" stop-color=\"rgb(115, 1, 168)\"/><stop offset=\"0.2777777777777778\" stop-color=\"rgb(136, 8, 166)\"/><stop offset=\"0.3333333333333333\" stop-color=\"rgb(156, 23, 158)\"/><stop offset=\"0.3888888888888889\" stop-color=\"rgb(174, 39, 147)\"/><stop offset=\"0.4444444444444444\" stop-color=\"rgb(189, 55, 133)\"/><stop offset=\"0.5\" stop-color=\"rgb(203, 71, 121)\"/><stop offset=\"0.5555555555555556\" stop-color=\"rgb(216, 87, 108)\"/><stop offset=\"0.6111111111111112\" stop-color=\"rgb(227, 103, 96)\"/><stop offset=\"0.6666666666666666\" stop-color=\"rgb(237, 121, 83)\"/><stop offset=\"0.7222222222222222\" stop-color=\"rgb(245, 139, 71)\"/><stop offset=\"0.7777777777777778\" stop-color=\"rgb(251, 158, 59)\"/><stop offset=\"0.8333333333333334\" stop-color=\"rgb(253, 179, 47)\"/><stop offset=\"0.8888888888888888\" stop-color=\"rgb(253, 201, 38)\"/><stop offset=\"0.9444444444444444\" stop-color=\"rgb(248, 225, 37)\"/><stop offset=\"1\" stop-color=\"rgb(240, 249, 33)\"/></linearGradient></defs></svg>\n"
      ],
      "text/plain": [
       "@vlplot(\n",
       "    mark=\"point\",\n",
       "    encoding={\n",
       "        x={\n",
       "            field=\"lost_mean\"\n",
       "        },\n",
       "        y={\n",
       "            field=\"profit_mean\"\n",
       "        },\n",
       "        color={\n",
       "            scale={\n",
       "                scheme=\"plasma\"\n",
       "            },\n",
       "            field=\"S\"\n",
       "        }\n",
       "    },\n",
       "    data={\n",
       "        values=...\n",
       "    }\n",
       ")"
      ]
     },
     "execution_count": 87,
     "metadata": {},
     "output_type": "execute_result"
    }
   ],
   "source": [
    "using VegaLite\n",
    "df |> @vlplot(:point, x=:lost_mean, y=:profit_mean, color={:S, scale={scheme=:plasma}})"
   ]
  },
  {
   "cell_type": "markdown",
   "metadata": {},
   "source": [
    "# SIMULATION approach"
   ]
  },
  {
   "cell_type": "code",
   "execution_count": null,
   "metadata": {},
   "outputs": [],
   "source": [
    "# code which simulates the operation of the warehouse system and optimizes the level of the minimum and maximum order:"
   ]
  },
  {
   "cell_type": "code",
   "execution_count": 24,
   "metadata": {},
   "outputs": [
    {
     "data": {
      "text/plain": [
       "simulateOneRun (generic function with 1 method)"
      ]
     },
     "execution_count": 24,
     "metadata": {},
     "output_type": "execute_result"
    }
   ],
   "source": [
    "using Distributions\n",
    "\n",
    "function simulateOneRun(m, s, S;\n",
    "    h = 0.1, #koszt przechowywania jednostki towaru\n",
    "    c = 2.0, #jednostkowy zysk ze sprzedaży\n",
    "    p = 0.50, #prawdopodobieństwo dostawy\n",
    "    K = 40, #koszt stałego zamówienia\n",
    "    k = 1.0, #koszt zmiennej ilości zamówionego towaru\n",
    "    init_S = 100, #początkowa ilość towaru w magazynie\n",
    "    average_demand = 20) #średnie dzienne zapotrzebowanie\n",
    "    \n",
    "    Xⱼ = init_S #ilość towaru w magazynie\n",
    "    profit = 0.0 #początkowy zysk\n",
    "    lost_orders = 0.0 #ilość utraconych zamówień\n",
    "    warehouse_levels = Int[] #historia stanu magazynu\n",
    "    pois = Distributions.Poisson(average_demand) #rozkład Poissona dla dziennej liczby sprzedaży\n",
    "    for day in 1:m #iterujemy po dniach\n",
    "        if Xⱼ < s #jeśli ilość towaru w magazynie jest mniejsza niż minimalny poziom zamówienia s\n",
    "            if rand() < p #jeśli dostawa zostanie dostarczona\n",
    "                profit -= K + (S-Xⱼ)*k #koszt zamówienia\n",
    "                Xⱼ = S #dodajemy ilość towaru odpowiadającą docelowemu poziomowi magazynu S\n",
    "            end\n",
    "        end\n",
    "        push!(warehouse_levels, Xⱼ) #zapisujemy aktualny stan magazynu\n",
    "        demand = rand(pois) #losujemy dzienne zapotrzebowanie na towar\n",
    "        sales = min(Xⱼ, demand) #sprzedajemy towar, który jest dostępny w magazynie\n",
    "        Xⱼ -= sales #zmniejszamy stan magazynu o sprzedaną ilość\n",
    "        @assert Xⱼ >= 0 #sprawdzamy, czy ilość towaru w magazynie nie jest ujemna\n",
    "        lost_order = demand - sales #liczymy ilość utraconych zamówień\n",
    "        @assert lost_order >= 0 #sprawdzamy, czy ilość utraconych zamówień nie jest ujemna\n",
    "        profit += sales*c - (Xⱼ-sales)*h #dodajemy zysk ze sprzedaży i koszty przechowywania\n",
    "        lost_orders += lost_order #dodajemy ilość utraconych zamówień\n",
    "    end\n",
    "    \n",
    "    (profit=profit, lost_orders=lost_orders, warehouse_levels=warehouse_levels)\n",
    "end\n"
   ]
  },
  {
   "cell_type": "code",
   "execution_count": 25,
   "metadata": {},
   "outputs": [
    {
     "data": {
      "text/plain": [
       "simulateManyRuns (generic function with 1 method)"
      ]
     },
     "execution_count": 25,
     "metadata": {},
     "output_type": "execute_result"
    }
   ],
   "source": [
    "#The simulateManyRuns function takes in the same arguments as simulateOneRun, but also takes additional arguments:\n",
    "\n",
    "#n: number of runs to simulate for each combination of s and S\n",
    "#s_min and s_max: range of values for s to simulate over\n",
    "#S_min and S_max: range of values for S to simulate over\n",
    "#It then iterates over all combinations of s and S within the given ranges, \n",
    "#and simulates n runs for each combination using the simulateOneRun function. \n",
    "#The results for each run are stored in separate vectors, which are returned as a tuple.\n",
    "function simulateManyRuns(n, m, s_range, S_range; kwargs...)\n",
    "    profits = Float64[]\n",
    "    lost_orders = Float64[]\n",
    "    s_values = Int[]\n",
    "    S_values = Int[]\n",
    "    warehouse_levels = Vector{Int}[]\n",
    "    \n",
    "    for s in s_range\n",
    "        for S in S_range\n",
    "            for run in 1:n\n",
    "                res = simulateOneRun(m, s, S; kwargs...)\n",
    "                push!(profits, res.profit)\n",
    "                push!(lost_orders, res.lost_orders)\n",
    "                push!(warehouse_levels, res.warehouse_levels)\n",
    "                push!(s_values, s)\n",
    "                push!(S_values, S)\n",
    "            end\n",
    "        end\n",
    "    end\n",
    "    \n",
    "    return (profits=profits,\n",
    "            lost_orders=lost_orders,\n",
    "            s_values=s_values,\n",
    "            S_values=S_values,\n",
    "            warehouse_levels=warehouse_levels)\n",
    "end\n"
   ]
  },
  {
   "cell_type": "code",
   "execution_count": 30,
   "metadata": {},
   "outputs": [
    {
     "data": {
      "text/plain": [
       "(profits = [1008.8, 1250.8999999999999, 1136.7, 1115.5, 1204.7, 1194.9000000000003, 1150.6, 1023.9000000000001, 1049.2, 1054.3999999999999  …  1235.9, 1094.0, 975.0000000000002, 1230.3000000000002, 1182.0000000000002, 1139.2, 1182.9, 1242.5000000000002, 1252.6000000000001, 1374.8999999999999], lost_orders = [107.0, 41.0, 23.0, 122.0, 42.0, 33.0, 86.0, 75.0, 69.0, 123.0  …  0.0, 0.0, 0.0, 0.0, 11.0, 0.0, 0.0, 29.0, 0.0, 0.0], s_values = [20, 20, 20, 20, 20, 20, 20, 20, 20, 20  …  50, 50, 50, 50, 50, 50, 50, 50, 50, 50], S_values = [100, 100, 100, 100, 100, 100, 100, 100, 100, 100  …  300, 300, 300, 300, 300, 300, 300, 300, 300, 300], warehouse_levels = [[100, 79, 60, 38, 20, 4, 0, 0, 100, 81  …  32, 14, 100, 75, 55, 43, 22, 100, 74, 54], [100, 81, 62, 39, 12, 100, 74, 63, 48, 27  …  56, 32, 16, 0, 100, 77, 52, 27, 100, 76], [100, 82, 52, 34, 12, 0, 100, 82, 60, 42  …  23, 100, 86, 67, 42, 21, 100, 74, 58, 38], [100, 78, 51, 36, 17, 100, 72, 50, 26, 100  …  48, 27, 6, 0, 0, 100, 85, 65, 45, 21], [100, 81, 66, 47, 35, 100, 75, 60, 39, 22  …  10, 100, 69, 50, 33, 9, 100, 76, 59, 38], [100, 81, 67, 45, 19, 100, 87, 65, 43, 100  …  49, 35, 10, 100, 87, 71, 53, 32, 10, 0], [100, 81, 60, 32, 100, 78, 57, 35, 13, 0  …  46, 20, 100, 70, 44, 26, 100, 83, 70, 50], [100, 78, 55, 34, 100, 84, 60, 40, 24, 7  …  26, 11, 0, 100, 84, 75, 50, 31, 100, 83], [100, 68, 43, 22, 100, 75, 61, 43, 100, 82  …  36, 22, 2, 0, 0, 100, 84, 62, 39, 100], [100, 86, 68, 46, 24, 100, 84, 64, 38, 100  …  0, 0, 0, 100, 85, 61, 47, 35, 17, 0]  …  [100, 81, 54, 300, 287, 272, 249, 231, 210, 194  …  252, 242, 223, 208, 179, 151, 131, 114, 93, 78], [100, 74, 51, 31, 300, 278, 248, 230, 207, 190  …  207, 187, 164, 149, 128, 116, 94, 71, 300, 276], [100, 78, 300, 288, 268, 252, 233, 215, 196, 179  …  244, 222, 200, 172, 153, 128, 109, 94, 73, 300], [100, 79, 61, 300, 279, 261, 239, 218, 205, 189  …  242, 223, 207, 190, 168, 146, 131, 114, 90, 74], [100, 87, 69, 54, 300, 284, 269, 241, 217, 198  …  282, 265, 249, 225, 209, 189, 165, 144, 125, 101], [100, 84, 69, 46, 300, 279, 263, 250, 232, 215  …  275, 255, 240, 225, 207, 189, 168, 146, 124, 102], [100, 84, 62, 44, 300, 280, 258, 237, 226, 208  …  246, 230, 208, 189, 170, 149, 136, 112, 93, 73], [100, 76, 52, 37, 17, 0, 300, 273, 247, 228  …  300, 282, 257, 236, 214, 200, 182, 163, 142, 124], [100, 74, 50, 33, 300, 290, 269, 252, 237, 211  …  278, 265, 244, 227, 206, 186, 164, 138, 119, 106], [100, 81, 54, 33, 300, 282, 263, 241, 220, 201  …  250, 234, 201, 184, 163, 148, 129, 110, 87, 55]])"
      ]
     },
     "execution_count": 30,
     "metadata": {},
     "output_type": "execute_result"
    }
   ],
   "source": [
    "# parametry symulacji\n",
    "m = 30 # liczba dni\n",
    "n = 10 # liczba powtórzeń dla każdej kombinacji s i S\n",
    "s_range = 20:5:50 # zakres poziomu minimalnego zamówienia\n",
    "S_range = 100:50:300 # zakres poziomu maksymalnego zamówienia\n",
    "kwargs = Dict(\n",
    "    :h => 0.1,\n",
    "    :c => 4.0,\n",
    "    :p => 0.50,\n",
    "    :K => 100,\n",
    "    :k => 1.0,\n",
    "    :init_S => 100,\n",
    "    :average_demand => 20\n",
    ")\n",
    "\n",
    "# wykonanie symulacji\n",
    "Random.seed!(10)\n",
    "avg_payoffs = simulateManyRuns(n, m, s_range, S_range; kwargs...)"
   ]
  },
  {
   "cell_type": "code",
   "execution_count": 35,
   "metadata": {},
   "outputs": [
    {
     "data": {
      "image/svg+xml": [
       "<?xml version=\"1.0\" encoding=\"utf-8\"?>\n",
       "<svg xmlns=\"http://www.w3.org/2000/svg\" xmlns:xlink=\"http://www.w3.org/1999/xlink\" width=\"600\" height=\"400\" viewBox=\"0 0 2400 1600\">\n",
       "<defs>\n",
       "  <clipPath id=\"clip030\">\n",
       "    <rect x=\"0\" y=\"0\" width=\"2400\" height=\"1600\"/>\n",
       "  </clipPath>\n",
       "</defs>\n",
       "<path clip-path=\"url(#clip030)\" d=\"M0 1600 L2400 1600 L2400 0 L0 0  Z\" fill=\"#ffffff\" fill-rule=\"evenodd\" fill-opacity=\"1\"/>\n",
       "<defs>\n",
       "  <clipPath id=\"clip031\">\n",
       "    <rect x=\"480\" y=\"0\" width=\"1681\" height=\"1600\"/>\n",
       "  </clipPath>\n",
       "</defs>\n",
       "<path clip-path=\"url(#clip030)\" d=\"M199.283 1486.45 L2352.76 1486.45 L2352.76 47.2441 L199.283 47.2441  Z\" fill=\"#ffffff\" fill-rule=\"evenodd\" fill-opacity=\"1\"/>\n",
       "<defs>\n",
       "  <clipPath id=\"clip032\">\n",
       "    <rect x=\"199\" y=\"47\" width=\"2154\" height=\"1440\"/>\n",
       "  </clipPath>\n",
       "</defs>\n",
       "<polyline clip-path=\"url(#clip032)\" style=\"stroke:#000000; stroke-linecap:round; stroke-linejoin:round; stroke-width:2; stroke-opacity:0.1; fill:none\" points=\"254.409,1486.45 254.409,47.2441 \"/>\n",
       "<polyline clip-path=\"url(#clip032)\" style=\"stroke:#000000; stroke-linecap:round; stroke-linejoin:round; stroke-width:2; stroke-opacity:0.1; fill:none\" points=\"836.523,1486.45 836.523,47.2441 \"/>\n",
       "<polyline clip-path=\"url(#clip032)\" style=\"stroke:#000000; stroke-linecap:round; stroke-linejoin:round; stroke-width:2; stroke-opacity:0.1; fill:none\" points=\"1418.64,1486.45 1418.64,47.2441 \"/>\n",
       "<polyline clip-path=\"url(#clip032)\" style=\"stroke:#000000; stroke-linecap:round; stroke-linejoin:round; stroke-width:2; stroke-opacity:0.1; fill:none\" points=\"2000.75,1486.45 2000.75,47.2441 \"/>\n",
       "<polyline clip-path=\"url(#clip030)\" style=\"stroke:#000000; stroke-linecap:round; stroke-linejoin:round; stroke-width:4; stroke-opacity:1; fill:none\" points=\"199.283,1486.45 2352.76,1486.45 \"/>\n",
       "<polyline clip-path=\"url(#clip030)\" style=\"stroke:#000000; stroke-linecap:round; stroke-linejoin:round; stroke-width:4; stroke-opacity:1; fill:none\" points=\"254.409,1486.45 254.409,1467.55 \"/>\n",
       "<polyline clip-path=\"url(#clip030)\" style=\"stroke:#000000; stroke-linecap:round; stroke-linejoin:round; stroke-width:4; stroke-opacity:1; fill:none\" points=\"836.523,1486.45 836.523,1467.55 \"/>\n",
       "<polyline clip-path=\"url(#clip030)\" style=\"stroke:#000000; stroke-linecap:round; stroke-linejoin:round; stroke-width:4; stroke-opacity:1; fill:none\" points=\"1418.64,1486.45 1418.64,1467.55 \"/>\n",
       "<polyline clip-path=\"url(#clip030)\" style=\"stroke:#000000; stroke-linecap:round; stroke-linejoin:round; stroke-width:4; stroke-opacity:1; fill:none\" points=\"2000.75,1486.45 2000.75,1467.55 \"/>\n",
       "<path clip-path=\"url(#clip030)\" d=\"M254.409 1517.37 Q250.798 1517.37 248.97 1520.93 Q247.164 1524.47 247.164 1531.6 Q247.164 1538.71 248.97 1542.27 Q250.798 1545.82 254.409 1545.82 Q258.044 1545.82 259.849 1542.27 Q261.678 1538.71 261.678 1531.6 Q261.678 1524.47 259.849 1520.93 Q258.044 1517.37 254.409 1517.37 M254.409 1513.66 Q260.22 1513.66 263.275 1518.27 Q266.354 1522.85 266.354 1531.6 Q266.354 1540.33 263.275 1544.94 Q260.22 1549.52 254.409 1549.52 Q248.599 1549.52 245.521 1544.94 Q242.465 1540.33 242.465 1531.6 Q242.465 1522.85 245.521 1518.27 Q248.599 1513.66 254.409 1513.66 Z\" fill=\"#000000\" fill-rule=\"evenodd\" fill-opacity=\"1\" /><path clip-path=\"url(#clip030)\" d=\"M796.13 1544.91 L803.769 1544.91 L803.769 1518.55 L795.459 1520.21 L795.459 1515.95 L803.723 1514.29 L808.399 1514.29 L808.399 1544.91 L816.037 1544.91 L816.037 1548.85 L796.13 1548.85 L796.13 1544.91 Z\" fill=\"#000000\" fill-rule=\"evenodd\" fill-opacity=\"1\" /><path clip-path=\"url(#clip030)\" d=\"M835.482 1517.37 Q831.871 1517.37 830.042 1520.93 Q828.236 1524.47 828.236 1531.6 Q828.236 1538.71 830.042 1542.27 Q831.871 1545.82 835.482 1545.82 Q839.116 1545.82 840.922 1542.27 Q842.75 1538.71 842.75 1531.6 Q842.75 1524.47 840.922 1520.93 Q839.116 1517.37 835.482 1517.37 M835.482 1513.66 Q841.292 1513.66 844.347 1518.27 Q847.426 1522.85 847.426 1531.6 Q847.426 1540.33 844.347 1544.94 Q841.292 1549.52 835.482 1549.52 Q829.672 1549.52 826.593 1544.94 Q823.537 1540.33 823.537 1531.6 Q823.537 1522.85 826.593 1518.27 Q829.672 1513.66 835.482 1513.66 Z\" fill=\"#000000\" fill-rule=\"evenodd\" fill-opacity=\"1\" /><path clip-path=\"url(#clip030)\" d=\"M865.644 1517.37 Q862.033 1517.37 860.204 1520.93 Q858.398 1524.47 858.398 1531.6 Q858.398 1538.71 860.204 1542.27 Q862.033 1545.82 865.644 1545.82 Q869.278 1545.82 871.083 1542.27 Q872.912 1538.71 872.912 1531.6 Q872.912 1524.47 871.083 1520.93 Q869.278 1517.37 865.644 1517.37 M865.644 1513.66 Q871.454 1513.66 874.509 1518.27 Q877.588 1522.85 877.588 1531.6 Q877.588 1540.33 874.509 1544.94 Q871.454 1549.52 865.644 1549.52 Q859.834 1549.52 856.755 1544.94 Q853.699 1540.33 853.699 1531.6 Q853.699 1522.85 856.755 1518.27 Q859.834 1513.66 865.644 1513.66 Z\" fill=\"#000000\" fill-rule=\"evenodd\" fill-opacity=\"1\" /><path clip-path=\"url(#clip030)\" d=\"M1382.33 1544.91 L1398.65 1544.91 L1398.65 1548.85 L1376.7 1548.85 L1376.7 1544.91 Q1379.37 1542.16 1383.95 1537.53 Q1388.56 1532.88 1389.74 1531.53 Q1391.98 1529.01 1392.86 1527.27 Q1393.76 1525.51 1393.76 1523.82 Q1393.76 1521.07 1391.82 1519.33 Q1389.9 1517.6 1386.8 1517.6 Q1384.6 1517.6 1382.14 1518.36 Q1379.71 1519.13 1376.94 1520.68 L1376.94 1515.95 Q1379.76 1514.82 1382.21 1514.24 Q1384.67 1513.66 1386.7 1513.66 Q1392.08 1513.66 1395.27 1516.35 Q1398.46 1519.03 1398.46 1523.52 Q1398.46 1525.65 1397.65 1527.57 Q1396.87 1529.47 1394.76 1532.07 Q1394.18 1532.74 1391.08 1535.95 Q1387.98 1539.15 1382.33 1544.91 Z\" fill=\"#000000\" fill-rule=\"evenodd\" fill-opacity=\"1\" /><path clip-path=\"url(#clip030)\" d=\"M1418.46 1517.37 Q1414.85 1517.37 1413.02 1520.93 Q1411.22 1524.47 1411.22 1531.6 Q1411.22 1538.71 1413.02 1542.27 Q1414.85 1545.82 1418.46 1545.82 Q1422.1 1545.82 1423.9 1542.27 Q1425.73 1538.71 1425.73 1531.6 Q1425.73 1524.47 1423.9 1520.93 Q1422.1 1517.37 1418.46 1517.37 M1418.46 1513.66 Q1424.27 1513.66 1427.33 1518.27 Q1430.41 1522.85 1430.41 1531.6 Q1430.41 1540.33 1427.33 1544.94 Q1424.27 1549.52 1418.46 1549.52 Q1412.65 1549.52 1409.58 1544.94 Q1406.52 1540.33 1406.52 1531.6 Q1406.52 1522.85 1409.58 1518.27 Q1412.65 1513.66 1418.46 1513.66 Z\" fill=\"#000000\" fill-rule=\"evenodd\" fill-opacity=\"1\" /><path clip-path=\"url(#clip030)\" d=\"M1448.63 1517.37 Q1445.01 1517.37 1443.19 1520.93 Q1441.38 1524.47 1441.38 1531.6 Q1441.38 1538.71 1443.19 1542.27 Q1445.01 1545.82 1448.63 1545.82 Q1452.26 1545.82 1454.07 1542.27 Q1455.89 1538.71 1455.89 1531.6 Q1455.89 1524.47 1454.07 1520.93 Q1452.26 1517.37 1448.63 1517.37 M1448.63 1513.66 Q1454.44 1513.66 1457.49 1518.27 Q1460.57 1522.85 1460.57 1531.6 Q1460.57 1540.33 1457.49 1544.94 Q1454.44 1549.52 1448.63 1549.52 Q1442.82 1549.52 1439.74 1544.94 Q1436.68 1540.33 1436.68 1531.6 Q1436.68 1522.85 1439.74 1518.27 Q1442.82 1513.66 1448.63 1513.66 Z\" fill=\"#000000\" fill-rule=\"evenodd\" fill-opacity=\"1\" /><path clip-path=\"url(#clip030)\" d=\"M1974.51 1530.21 Q1977.87 1530.93 1979.74 1533.2 Q1981.64 1535.47 1981.64 1538.8 Q1981.64 1543.92 1978.12 1546.72 Q1974.61 1549.52 1968.12 1549.52 Q1965.95 1549.52 1963.63 1549.08 Q1961.34 1548.66 1958.89 1547.81 L1958.89 1543.29 Q1960.83 1544.43 1963.15 1545.01 Q1965.46 1545.58 1967.99 1545.58 Q1972.38 1545.58 1974.68 1543.85 Q1976.99 1542.11 1976.99 1538.8 Q1976.99 1535.75 1974.84 1534.03 Q1972.71 1532.3 1968.89 1532.3 L1964.86 1532.3 L1964.86 1528.45 L1969.07 1528.45 Q1972.52 1528.45 1974.35 1527.09 Q1976.18 1525.7 1976.18 1523.11 Q1976.18 1520.45 1974.28 1519.03 Q1972.41 1517.6 1968.89 1517.6 Q1966.97 1517.6 1964.77 1518.01 Q1962.57 1518.43 1959.93 1519.31 L1959.93 1515.14 Q1962.59 1514.4 1964.91 1514.03 Q1967.24 1513.66 1969.3 1513.66 Q1974.63 1513.66 1977.73 1516.09 Q1980.83 1518.5 1980.83 1522.62 Q1980.83 1525.49 1979.19 1527.48 Q1977.55 1529.45 1974.51 1530.21 Z\" fill=\"#000000\" fill-rule=\"evenodd\" fill-opacity=\"1\" /><path clip-path=\"url(#clip030)\" d=\"M2000.51 1517.37 Q1996.9 1517.37 1995.07 1520.93 Q1993.26 1524.47 1993.26 1531.6 Q1993.26 1538.71 1995.07 1542.27 Q1996.9 1545.82 2000.51 1545.82 Q2004.14 1545.82 2005.95 1542.27 Q2007.78 1538.71 2007.78 1531.6 Q2007.78 1524.47 2005.95 1520.93 Q2004.14 1517.37 2000.51 1517.37 M2000.51 1513.66 Q2006.32 1513.66 2009.37 1518.27 Q2012.45 1522.85 2012.45 1531.6 Q2012.45 1540.33 2009.37 1544.94 Q2006.32 1549.52 2000.51 1549.52 Q1994.7 1549.52 1991.62 1544.94 Q1988.56 1540.33 1988.56 1531.6 Q1988.56 1522.85 1991.62 1518.27 Q1994.7 1513.66 2000.51 1513.66 Z\" fill=\"#000000\" fill-rule=\"evenodd\" fill-opacity=\"1\" /><path clip-path=\"url(#clip030)\" d=\"M2030.67 1517.37 Q2027.06 1517.37 2025.23 1520.93 Q2023.43 1524.47 2023.43 1531.6 Q2023.43 1538.71 2025.23 1542.27 Q2027.06 1545.82 2030.67 1545.82 Q2034.3 1545.82 2036.11 1542.27 Q2037.94 1538.71 2037.94 1531.6 Q2037.94 1524.47 2036.11 1520.93 Q2034.3 1517.37 2030.67 1517.37 M2030.67 1513.66 Q2036.48 1513.66 2039.54 1518.27 Q2042.61 1522.85 2042.61 1531.6 Q2042.61 1540.33 2039.54 1544.94 Q2036.48 1549.52 2030.67 1549.52 Q2024.86 1549.52 2021.78 1544.94 Q2018.73 1540.33 2018.73 1531.6 Q2018.73 1522.85 2021.78 1518.27 Q2024.86 1513.66 2030.67 1513.66 Z\" fill=\"#000000\" fill-rule=\"evenodd\" fill-opacity=\"1\" /><polyline clip-path=\"url(#clip032)\" style=\"stroke:#000000; stroke-linecap:round; stroke-linejoin:round; stroke-width:2; stroke-opacity:0.1; fill:none\" points=\"199.283,1311.89 2352.76,1311.89 \"/>\n",
       "<polyline clip-path=\"url(#clip032)\" style=\"stroke:#000000; stroke-linecap:round; stroke-linejoin:round; stroke-width:2; stroke-opacity:0.1; fill:none\" points=\"199.283,1128.06 2352.76,1128.06 \"/>\n",
       "<polyline clip-path=\"url(#clip032)\" style=\"stroke:#000000; stroke-linecap:round; stroke-linejoin:round; stroke-width:2; stroke-opacity:0.1; fill:none\" points=\"199.283,944.238 2352.76,944.238 \"/>\n",
       "<polyline clip-path=\"url(#clip032)\" style=\"stroke:#000000; stroke-linecap:round; stroke-linejoin:round; stroke-width:2; stroke-opacity:0.1; fill:none\" points=\"199.283,760.412 2352.76,760.412 \"/>\n",
       "<polyline clip-path=\"url(#clip032)\" style=\"stroke:#000000; stroke-linecap:round; stroke-linejoin:round; stroke-width:2; stroke-opacity:0.1; fill:none\" points=\"199.283,576.586 2352.76,576.586 \"/>\n",
       "<polyline clip-path=\"url(#clip032)\" style=\"stroke:#000000; stroke-linecap:round; stroke-linejoin:round; stroke-width:2; stroke-opacity:0.1; fill:none\" points=\"199.283,392.76 2352.76,392.76 \"/>\n",
       "<polyline clip-path=\"url(#clip032)\" style=\"stroke:#000000; stroke-linecap:round; stroke-linejoin:round; stroke-width:2; stroke-opacity:0.1; fill:none\" points=\"199.283,208.934 2352.76,208.934 \"/>\n",
       "<polyline clip-path=\"url(#clip030)\" style=\"stroke:#000000; stroke-linecap:round; stroke-linejoin:round; stroke-width:4; stroke-opacity:1; fill:none\" points=\"199.283,1486.45 199.283,47.2441 \"/>\n",
       "<polyline clip-path=\"url(#clip030)\" style=\"stroke:#000000; stroke-linecap:round; stroke-linejoin:round; stroke-width:4; stroke-opacity:1; fill:none\" points=\"199.283,1311.89 218.181,1311.89 \"/>\n",
       "<polyline clip-path=\"url(#clip030)\" style=\"stroke:#000000; stroke-linecap:round; stroke-linejoin:round; stroke-width:4; stroke-opacity:1; fill:none\" points=\"199.283,1128.06 218.181,1128.06 \"/>\n",
       "<polyline clip-path=\"url(#clip030)\" style=\"stroke:#000000; stroke-linecap:round; stroke-linejoin:round; stroke-width:4; stroke-opacity:1; fill:none\" points=\"199.283,944.238 218.181,944.238 \"/>\n",
       "<polyline clip-path=\"url(#clip030)\" style=\"stroke:#000000; stroke-linecap:round; stroke-linejoin:round; stroke-width:4; stroke-opacity:1; fill:none\" points=\"199.283,760.412 218.181,760.412 \"/>\n",
       "<polyline clip-path=\"url(#clip030)\" style=\"stroke:#000000; stroke-linecap:round; stroke-linejoin:round; stroke-width:4; stroke-opacity:1; fill:none\" points=\"199.283,576.586 218.181,576.586 \"/>\n",
       "<polyline clip-path=\"url(#clip030)\" style=\"stroke:#000000; stroke-linecap:round; stroke-linejoin:round; stroke-width:4; stroke-opacity:1; fill:none\" points=\"199.283,392.76 218.181,392.76 \"/>\n",
       "<polyline clip-path=\"url(#clip030)\" style=\"stroke:#000000; stroke-linecap:round; stroke-linejoin:round; stroke-width:4; stroke-opacity:1; fill:none\" points=\"199.283,208.934 218.181,208.934 \"/>\n",
       "<path clip-path=\"url(#clip030)\" d=\"M91.0151 1312.76 Q87.6817 1312.76 85.7605 1314.54 Q83.8623 1316.32 83.8623 1319.45 Q83.8623 1322.57 85.7605 1324.36 Q87.6817 1326.14 91.0151 1326.14 Q94.3484 1326.14 96.2697 1324.36 Q98.1909 1322.55 98.1909 1319.45 Q98.1909 1316.32 96.2697 1314.54 Q94.3715 1312.76 91.0151 1312.76 M86.3392 1310.77 Q83.3299 1310.03 81.6401 1307.97 Q79.9735 1305.91 79.9735 1302.94 Q79.9735 1298.8 82.9133 1296.39 Q85.8762 1293.99 91.0151 1293.99 Q96.1771 1293.99 99.1169 1296.39 Q102.057 1298.8 102.057 1302.94 Q102.057 1305.91 100.367 1307.97 Q98.7002 1310.03 95.7141 1310.77 Q99.0937 1311.55 100.969 1313.85 Q102.867 1316.14 102.867 1319.45 Q102.867 1324.47 99.7882 1327.16 Q96.7326 1329.84 91.0151 1329.84 Q85.2975 1329.84 82.2188 1327.16 Q79.1633 1324.47 79.1633 1319.45 Q79.1633 1316.14 81.0614 1313.85 Q82.9595 1311.55 86.3392 1310.77 M84.6262 1303.38 Q84.6262 1306.07 86.2929 1307.57 Q87.9827 1309.08 91.0151 1309.08 Q94.0243 1309.08 95.7141 1307.57 Q97.4271 1306.07 97.4271 1303.38 Q97.4271 1300.7 95.7141 1299.19 Q94.0243 1297.69 91.0151 1297.69 Q87.9827 1297.69 86.2929 1299.19 Q84.6262 1300.7 84.6262 1303.38 Z\" fill=\"#000000\" fill-rule=\"evenodd\" fill-opacity=\"1\" /><path clip-path=\"url(#clip030)\" d=\"M121.177 1297.69 Q117.566 1297.69 115.737 1301.25 Q113.932 1304.8 113.932 1311.93 Q113.932 1319.03 115.737 1322.6 Q117.566 1326.14 121.177 1326.14 Q124.811 1326.14 126.617 1322.6 Q128.445 1319.03 128.445 1311.93 Q128.445 1304.8 126.617 1301.25 Q124.811 1297.69 121.177 1297.69 M121.177 1293.99 Q126.987 1293.99 130.043 1298.59 Q133.121 1303.18 133.121 1311.93 Q133.121 1320.65 130.043 1325.26 Q126.987 1329.84 121.177 1329.84 Q115.367 1329.84 112.288 1325.26 Q109.233 1320.65 109.233 1311.93 Q109.233 1303.18 112.288 1298.59 Q115.367 1293.99 121.177 1293.99 Z\" fill=\"#000000\" fill-rule=\"evenodd\" fill-opacity=\"1\" /><path clip-path=\"url(#clip030)\" d=\"M151.339 1297.69 Q147.728 1297.69 145.899 1301.25 Q144.093 1304.8 144.093 1311.93 Q144.093 1319.03 145.899 1322.6 Q147.728 1326.14 151.339 1326.14 Q154.973 1326.14 156.779 1322.6 Q158.607 1319.03 158.607 1311.93 Q158.607 1304.8 156.779 1301.25 Q154.973 1297.69 151.339 1297.69 M151.339 1293.99 Q157.149 1293.99 160.205 1298.59 Q163.283 1303.18 163.283 1311.93 Q163.283 1320.65 160.205 1325.26 Q157.149 1329.84 151.339 1329.84 Q145.529 1329.84 142.45 1325.26 Q139.394 1320.65 139.394 1311.93 Q139.394 1303.18 142.45 1298.59 Q145.529 1293.99 151.339 1293.99 Z\" fill=\"#000000\" fill-rule=\"evenodd\" fill-opacity=\"1\" /><path clip-path=\"url(#clip030)\" d=\"M81.154 1144.63 L81.154 1140.37 Q82.9133 1141.2 84.7188 1141.64 Q86.5243 1142.08 88.2604 1142.08 Q92.89 1142.08 95.3206 1138.98 Q97.7743 1135.85 98.1215 1129.51 Q96.7789 1131.5 94.7187 1132.57 Q92.6586 1133.63 90.1586 1133.63 Q84.9734 1133.63 81.941 1130.51 Q78.9318 1127.36 78.9318 1121.92 Q78.9318 1116.59 82.0799 1113.38 Q85.2281 1110.16 90.4595 1110.16 Q96.4548 1110.16 99.603 1114.77 Q102.774 1119.35 102.774 1128.1 Q102.774 1136.27 98.8854 1141.15 Q95.0197 1146.02 88.4688 1146.02 Q86.7095 1146.02 84.904 1145.67 Q83.0984 1145.32 81.154 1144.63 M90.4595 1129.97 Q93.6076 1129.97 95.4363 1127.82 Q97.2882 1125.67 97.2882 1121.92 Q97.2882 1118.19 95.4363 1116.04 Q93.6076 1113.86 90.4595 1113.86 Q87.3114 1113.86 85.4595 1116.04 Q83.6308 1118.19 83.6308 1121.92 Q83.6308 1125.67 85.4595 1127.82 Q87.3114 1129.97 90.4595 1129.97 Z\" fill=\"#000000\" fill-rule=\"evenodd\" fill-opacity=\"1\" /><path clip-path=\"url(#clip030)\" d=\"M121.177 1113.86 Q117.566 1113.86 115.737 1117.43 Q113.932 1120.97 113.932 1128.1 Q113.932 1135.21 115.737 1138.77 Q117.566 1142.31 121.177 1142.31 Q124.811 1142.31 126.617 1138.77 Q128.445 1135.21 128.445 1128.1 Q128.445 1120.97 126.617 1117.43 Q124.811 1113.86 121.177 1113.86 M121.177 1110.16 Q126.987 1110.16 130.043 1114.77 Q133.121 1119.35 133.121 1128.1 Q133.121 1136.83 130.043 1141.43 Q126.987 1146.02 121.177 1146.02 Q115.367 1146.02 112.288 1141.43 Q109.233 1136.83 109.233 1128.1 Q109.233 1119.35 112.288 1114.77 Q115.367 1110.16 121.177 1110.16 Z\" fill=\"#000000\" fill-rule=\"evenodd\" fill-opacity=\"1\" /><path clip-path=\"url(#clip030)\" d=\"M151.339 1113.86 Q147.728 1113.86 145.899 1117.43 Q144.093 1120.97 144.093 1128.1 Q144.093 1135.21 145.899 1138.77 Q147.728 1142.31 151.339 1142.31 Q154.973 1142.31 156.779 1138.77 Q158.607 1135.21 158.607 1128.1 Q158.607 1120.97 156.779 1117.43 Q154.973 1113.86 151.339 1113.86 M151.339 1110.16 Q157.149 1110.16 160.205 1114.77 Q163.283 1119.35 163.283 1128.1 Q163.283 1136.83 160.205 1141.43 Q157.149 1146.02 151.339 1146.02 Q145.529 1146.02 142.45 1141.43 Q139.394 1136.83 139.394 1128.1 Q139.394 1119.35 142.45 1114.77 Q145.529 1110.16 151.339 1110.16 Z\" fill=\"#000000\" fill-rule=\"evenodd\" fill-opacity=\"1\" /><path clip-path=\"url(#clip030)\" d=\"M51.6634 957.583 L59.3023 957.583 L59.3023 931.217 L50.9921 932.884 L50.9921 928.625 L59.256 926.958 L63.9319 926.958 L63.9319 957.583 L71.5707 957.583 L71.5707 961.518 L51.6634 961.518 L51.6634 957.583 Z\" fill=\"#000000\" fill-rule=\"evenodd\" fill-opacity=\"1\" /><path clip-path=\"url(#clip030)\" d=\"M91.0151 930.037 Q87.404 930.037 85.5753 933.602 Q83.7697 937.143 83.7697 944.273 Q83.7697 951.379 85.5753 954.944 Q87.404 958.486 91.0151 958.486 Q94.6493 958.486 96.4548 954.944 Q98.2835 951.379 98.2835 944.273 Q98.2835 937.143 96.4548 933.602 Q94.6493 930.037 91.0151 930.037 M91.0151 926.333 Q96.8252 926.333 99.8808 930.94 Q102.959 935.523 102.959 944.273 Q102.959 953 99.8808 957.606 Q96.8252 962.189 91.0151 962.189 Q85.2049 962.189 82.1262 957.606 Q79.0707 953 79.0707 944.273 Q79.0707 935.523 82.1262 930.94 Q85.2049 926.333 91.0151 926.333 Z\" fill=\"#000000\" fill-rule=\"evenodd\" fill-opacity=\"1\" /><path clip-path=\"url(#clip030)\" d=\"M121.177 930.037 Q117.566 930.037 115.737 933.602 Q113.932 937.143 113.932 944.273 Q113.932 951.379 115.737 954.944 Q117.566 958.486 121.177 958.486 Q124.811 958.486 126.617 954.944 Q128.445 951.379 128.445 944.273 Q128.445 937.143 126.617 933.602 Q124.811 930.037 121.177 930.037 M121.177 926.333 Q126.987 926.333 130.043 930.94 Q133.121 935.523 133.121 944.273 Q133.121 953 130.043 957.606 Q126.987 962.189 121.177 962.189 Q115.367 962.189 112.288 957.606 Q109.233 953 109.233 944.273 Q109.233 935.523 112.288 930.94 Q115.367 926.333 121.177 926.333 Z\" fill=\"#000000\" fill-rule=\"evenodd\" fill-opacity=\"1\" /><path clip-path=\"url(#clip030)\" d=\"M151.339 930.037 Q147.728 930.037 145.899 933.602 Q144.093 937.143 144.093 944.273 Q144.093 951.379 145.899 954.944 Q147.728 958.486 151.339 958.486 Q154.973 958.486 156.779 954.944 Q158.607 951.379 158.607 944.273 Q158.607 937.143 156.779 933.602 Q154.973 930.037 151.339 930.037 M151.339 926.333 Q157.149 926.333 160.205 930.94 Q163.283 935.523 163.283 944.273 Q163.283 953 160.205 957.606 Q157.149 962.189 151.339 962.189 Q145.529 962.189 142.45 957.606 Q139.394 953 139.394 944.273 Q139.394 935.523 142.45 930.94 Q145.529 926.333 151.339 926.333 Z\" fill=\"#000000\" fill-rule=\"evenodd\" fill-opacity=\"1\" /><path clip-path=\"url(#clip030)\" d=\"M51.6634 773.757 L59.3023 773.757 L59.3023 747.391 L50.9921 749.058 L50.9921 744.799 L59.256 743.132 L63.9319 743.132 L63.9319 773.757 L71.5707 773.757 L71.5707 777.692 L51.6634 777.692 L51.6634 773.757 Z\" fill=\"#000000\" fill-rule=\"evenodd\" fill-opacity=\"1\" /><path clip-path=\"url(#clip030)\" d=\"M81.8253 773.757 L89.4641 773.757 L89.4641 747.391 L81.154 749.058 L81.154 744.799 L89.4178 743.132 L94.0937 743.132 L94.0937 773.757 L101.733 773.757 L101.733 777.692 L81.8253 777.692 L81.8253 773.757 Z\" fill=\"#000000\" fill-rule=\"evenodd\" fill-opacity=\"1\" /><path clip-path=\"url(#clip030)\" d=\"M121.177 746.211 Q117.566 746.211 115.737 749.776 Q113.932 753.317 113.932 760.447 Q113.932 767.553 115.737 771.118 Q117.566 774.66 121.177 774.66 Q124.811 774.66 126.617 771.118 Q128.445 767.553 128.445 760.447 Q128.445 753.317 126.617 749.776 Q124.811 746.211 121.177 746.211 M121.177 742.507 Q126.987 742.507 130.043 747.114 Q133.121 751.697 133.121 760.447 Q133.121 769.174 130.043 773.78 Q126.987 778.363 121.177 778.363 Q115.367 778.363 112.288 773.78 Q109.233 769.174 109.233 760.447 Q109.233 751.697 112.288 747.114 Q115.367 742.507 121.177 742.507 Z\" fill=\"#000000\" fill-rule=\"evenodd\" fill-opacity=\"1\" /><path clip-path=\"url(#clip030)\" d=\"M151.339 746.211 Q147.728 746.211 145.899 749.776 Q144.093 753.317 144.093 760.447 Q144.093 767.553 145.899 771.118 Q147.728 774.66 151.339 774.66 Q154.973 774.66 156.779 771.118 Q158.607 767.553 158.607 760.447 Q158.607 753.317 156.779 749.776 Q154.973 746.211 151.339 746.211 M151.339 742.507 Q157.149 742.507 160.205 747.114 Q163.283 751.697 163.283 760.447 Q163.283 769.174 160.205 773.78 Q157.149 778.363 151.339 778.363 Q145.529 778.363 142.45 773.78 Q139.394 769.174 139.394 760.447 Q139.394 751.697 142.45 747.114 Q145.529 742.507 151.339 742.507 Z\" fill=\"#000000\" fill-rule=\"evenodd\" fill-opacity=\"1\" /><path clip-path=\"url(#clip030)\" d=\"M51.6634 589.931 L59.3023 589.931 L59.3023 563.565 L50.9921 565.232 L50.9921 560.973 L59.256 559.306 L63.9319 559.306 L63.9319 589.931 L71.5707 589.931 L71.5707 593.866 L51.6634 593.866 L51.6634 589.931 Z\" fill=\"#000000\" fill-rule=\"evenodd\" fill-opacity=\"1\" /><path clip-path=\"url(#clip030)\" d=\"M85.0429 589.931 L101.362 589.931 L101.362 593.866 L79.4179 593.866 L79.4179 589.931 Q82.0799 587.176 86.6632 582.547 Q91.2697 577.894 92.4502 576.551 Q94.6956 574.028 95.5752 572.292 Q96.478 570.533 96.478 568.843 Q96.478 566.088 94.5336 564.352 Q92.6123 562.616 89.5104 562.616 Q87.3114 562.616 84.8577 563.38 Q82.4271 564.144 79.6494 565.695 L79.6494 560.973 Q82.4734 559.838 84.9271 559.26 Q87.3808 558.681 89.4178 558.681 Q94.7882 558.681 97.9826 561.366 Q101.177 564.051 101.177 568.542 Q101.177 570.672 100.367 572.593 Q99.5798 574.491 97.4734 577.084 Q96.8947 577.755 93.7928 580.973 Q90.691 584.167 85.0429 589.931 Z\" fill=\"#000000\" fill-rule=\"evenodd\" fill-opacity=\"1\" /><path clip-path=\"url(#clip030)\" d=\"M121.177 562.385 Q117.566 562.385 115.737 565.949 Q113.932 569.491 113.932 576.621 Q113.932 583.727 115.737 587.292 Q117.566 590.834 121.177 590.834 Q124.811 590.834 126.617 587.292 Q128.445 583.727 128.445 576.621 Q128.445 569.491 126.617 565.949 Q124.811 562.385 121.177 562.385 M121.177 558.681 Q126.987 558.681 130.043 563.287 Q133.121 567.871 133.121 576.621 Q133.121 585.348 130.043 589.954 Q126.987 594.537 121.177 594.537 Q115.367 594.537 112.288 589.954 Q109.233 585.348 109.233 576.621 Q109.233 567.871 112.288 563.287 Q115.367 558.681 121.177 558.681 Z\" fill=\"#000000\" fill-rule=\"evenodd\" fill-opacity=\"1\" /><path clip-path=\"url(#clip030)\" d=\"M151.339 562.385 Q147.728 562.385 145.899 565.949 Q144.093 569.491 144.093 576.621 Q144.093 583.727 145.899 587.292 Q147.728 590.834 151.339 590.834 Q154.973 590.834 156.779 587.292 Q158.607 583.727 158.607 576.621 Q158.607 569.491 156.779 565.949 Q154.973 562.385 151.339 562.385 M151.339 558.681 Q157.149 558.681 160.205 563.287 Q163.283 567.871 163.283 576.621 Q163.283 585.348 160.205 589.954 Q157.149 594.537 151.339 594.537 Q145.529 594.537 142.45 589.954 Q139.394 585.348 139.394 576.621 Q139.394 567.871 142.45 563.287 Q145.529 558.681 151.339 558.681 Z\" fill=\"#000000\" fill-rule=\"evenodd\" fill-opacity=\"1\" /><path clip-path=\"url(#clip030)\" d=\"M51.6634 406.105 L59.3023 406.105 L59.3023 379.739 L50.9921 381.406 L50.9921 377.147 L59.256 375.48 L63.9319 375.48 L63.9319 406.105 L71.5707 406.105 L71.5707 410.04 L51.6634 410.04 L51.6634 406.105 Z\" fill=\"#000000\" fill-rule=\"evenodd\" fill-opacity=\"1\" /><path clip-path=\"url(#clip030)\" d=\"M95.1817 391.406 Q98.5382 392.123 100.413 394.392 Q102.311 396.66 102.311 399.994 Q102.311 405.109 98.7928 407.91 Q95.2743 410.711 88.7928 410.711 Q86.6169 410.711 84.3021 410.271 Q82.0105 409.855 79.5568 408.998 L79.5568 404.484 Q81.5012 405.619 83.816 406.197 Q86.1308 406.776 88.654 406.776 Q93.0521 406.776 95.3437 405.04 Q97.6585 403.304 97.6585 399.994 Q97.6585 396.938 95.5058 395.225 Q93.3762 393.489 89.5567 393.489 L85.529 393.489 L85.529 389.647 L89.7419 389.647 Q93.191 389.647 95.0197 388.281 Q96.8484 386.892 96.8484 384.299 Q96.8484 381.637 94.9502 380.225 Q93.0752 378.79 89.5567 378.79 Q87.6354 378.79 85.4364 379.207 Q83.2373 379.623 80.5984 380.503 L80.5984 376.336 Q83.2605 375.596 85.5753 375.225 Q87.9132 374.855 89.9734 374.855 Q95.2974 374.855 98.3993 377.285 Q101.501 379.693 101.501 383.813 Q101.501 386.684 99.8576 388.674 Q98.2141 390.642 95.1817 391.406 Z\" fill=\"#000000\" fill-rule=\"evenodd\" fill-opacity=\"1\" /><path clip-path=\"url(#clip030)\" d=\"M121.177 378.559 Q117.566 378.559 115.737 382.123 Q113.932 385.665 113.932 392.795 Q113.932 399.901 115.737 403.466 Q117.566 407.008 121.177 407.008 Q124.811 407.008 126.617 403.466 Q128.445 399.901 128.445 392.795 Q128.445 385.665 126.617 382.123 Q124.811 378.559 121.177 378.559 M121.177 374.855 Q126.987 374.855 130.043 379.461 Q133.121 384.045 133.121 392.795 Q133.121 401.521 130.043 406.128 Q126.987 410.711 121.177 410.711 Q115.367 410.711 112.288 406.128 Q109.233 401.521 109.233 392.795 Q109.233 384.045 112.288 379.461 Q115.367 374.855 121.177 374.855 Z\" fill=\"#000000\" fill-rule=\"evenodd\" fill-opacity=\"1\" /><path clip-path=\"url(#clip030)\" d=\"M151.339 378.559 Q147.728 378.559 145.899 382.123 Q144.093 385.665 144.093 392.795 Q144.093 399.901 145.899 403.466 Q147.728 407.008 151.339 407.008 Q154.973 407.008 156.779 403.466 Q158.607 399.901 158.607 392.795 Q158.607 385.665 156.779 382.123 Q154.973 378.559 151.339 378.559 M151.339 374.855 Q157.149 374.855 160.205 379.461 Q163.283 384.045 163.283 392.795 Q163.283 401.521 160.205 406.128 Q157.149 410.711 151.339 410.711 Q145.529 410.711 142.45 406.128 Q139.394 401.521 139.394 392.795 Q139.394 384.045 142.45 379.461 Q145.529 374.855 151.339 374.855 Z\" fill=\"#000000\" fill-rule=\"evenodd\" fill-opacity=\"1\" /><path clip-path=\"url(#clip030)\" d=\"M51.6634 222.279 L59.3023 222.279 L59.3023 195.913 L50.9921 197.58 L50.9921 193.32 L59.256 191.654 L63.9319 191.654 L63.9319 222.279 L71.5707 222.279 L71.5707 226.214 L51.6634 226.214 L51.6634 222.279 Z\" fill=\"#000000\" fill-rule=\"evenodd\" fill-opacity=\"1\" /><path clip-path=\"url(#clip030)\" d=\"M93.8623 195.728 L82.0568 214.177 L93.8623 214.177 L93.8623 195.728 M92.6354 191.654 L98.515 191.654 L98.515 214.177 L103.446 214.177 L103.446 218.066 L98.515 218.066 L98.515 226.214 L93.8623 226.214 L93.8623 218.066 L78.2605 218.066 L78.2605 213.552 L92.6354 191.654 Z\" fill=\"#000000\" fill-rule=\"evenodd\" fill-opacity=\"1\" /><path clip-path=\"url(#clip030)\" d=\"M121.177 194.733 Q117.566 194.733 115.737 198.297 Q113.932 201.839 113.932 208.969 Q113.932 216.075 115.737 219.64 Q117.566 223.181 121.177 223.181 Q124.811 223.181 126.617 219.64 Q128.445 216.075 128.445 208.969 Q128.445 201.839 126.617 198.297 Q124.811 194.733 121.177 194.733 M121.177 191.029 Q126.987 191.029 130.043 195.635 Q133.121 200.219 133.121 208.969 Q133.121 217.695 130.043 222.302 Q126.987 226.885 121.177 226.885 Q115.367 226.885 112.288 222.302 Q109.233 217.695 109.233 208.969 Q109.233 200.219 112.288 195.635 Q115.367 191.029 121.177 191.029 Z\" fill=\"#000000\" fill-rule=\"evenodd\" fill-opacity=\"1\" /><path clip-path=\"url(#clip030)\" d=\"M151.339 194.733 Q147.728 194.733 145.899 198.297 Q144.093 201.839 144.093 208.969 Q144.093 216.075 145.899 219.64 Q147.728 223.181 151.339 223.181 Q154.973 223.181 156.779 219.64 Q158.607 216.075 158.607 208.969 Q158.607 201.839 156.779 198.297 Q154.973 194.733 151.339 194.733 M151.339 191.029 Q157.149 191.029 160.205 195.635 Q163.283 200.219 163.283 208.969 Q163.283 217.695 160.205 222.302 Q157.149 226.885 151.339 226.885 Q145.529 226.885 142.45 222.302 Q139.394 217.695 139.394 208.969 Q139.394 200.219 142.45 195.635 Q145.529 191.029 151.339 191.029 Z\" fill=\"#000000\" fill-rule=\"evenodd\" fill-opacity=\"1\" /><polyline clip-path=\"url(#clip032)\" style=\"stroke:#009af9; stroke-linecap:round; stroke-linejoin:round; stroke-width:4; stroke-opacity:1; fill:none\" points=\"260.231,928.061 266.052,483.019 271.873,692.948 277.694,731.919 283.515,567.946 289.336,585.961 295.157,667.396 300.979,900.304 306.8,853.796 312.621,844.237 318.442,719.603 324.263,299.376 330.084,468.496 335.905,738.353 341.726,1074.2 347.548,484.305 353.369,421.804 359.19,474.563 365.011,342.575 370.832,479.71 376.653,548.093 382.474,381.73 388.296,893.135 394.117,787.802 399.938,659.308 405.759,1082.29 411.58,331.178 417.401,1026.78 423.222,587.616 429.044,955.268 434.865,660.778 440.686,458.202 446.507,534.306 452.328,109.668 458.149,841.847 463.97,340.002 469.792,405.076 475.613,976.04 481.434,447.908 487.255,334.119 493.076,885.23 498.897,127.315 504.718,1116.48 510.54,597.91 516.361,291.104 522.182,654.712 528.003,517.762 533.824,720.154 539.645,467.209 545.466,377.87 551.288,1156.74 557.109,673.646 562.93,692.58 568.751,748.463 574.572,863.722 580.393,430.628 586.214,754.162 592.036,831.553 597.857,1343.88 603.678,848.281 609.499,484.121 615.32,412.245 621.141,621.44 626.962,582.285 632.784,374.929 638.605,616.292 644.426,597.726 650.247,445.15 656.068,410.407 661.889,435.775 667.71,1086.15 673.532,146.801 679.353,364.267 685.174,619.05 690.995,971.444 696.816,721.625 702.637,683.94 708.458,658.94 714.279,646.072 720.101,87.9763 725.922,599.564 731.743,643.315 737.564,813.905 743.385,636.881 749.206,341.84 755.027,203.971 760.849,371.62 766.67,887.62 772.491,430.444 778.312,522.909 784.133,596.623 789.954,660.595 795.775,499.563 801.597,926.407 807.418,727.507 813.239,975.489 819.06,449.378 824.881,626.403 830.702,512.615 836.523,815.928 842.345,1033.21 848.166,820.891 853.987,569.417 859.808,1158.03 865.629,442.577 871.45,873.833 877.271,591.476 883.093,1345.53 888.914,636.513 894.735,741.478 900.556,534.122 906.377,889.274 912.198,1062.81 918.019,801.957 923.841,444.783 929.662,860.597 935.483,669.786 941.304,922.73 947.125,486.327 952.946,542.946 958.767,311.325 964.589,683.021 970.41,649.013 976.231,635.594 982.052,495.151 987.873,449.011 993.694,338.899 999.515,985.967 1005.34,272.538 1011.16,757.655 1016.98,874.017 1022.8,599.564 1028.62,651.036 1034.44,206.912 1040.26,426.4 1046.08,583.388 1051.91,842.399 1057.73,625.484 1063.55,569.601 1069.37,492.394 1075.19,382.649 1081.01,155.257 1086.83,729.529 1092.65,480.996 1098.47,513.35 1104.3,186.691 1110.12,697.911 1115.94,701.404 1121.76,1007.11 1127.58,928.981 1133.4,750.485 1139.22,728.426 1145.04,410.407 1150.87,589.821 1156.69,931.922 1162.51,621.807 1168.33,1044.61 1174.15,782.655 1179.97,1344.43 1185.79,1007.11 1191.61,712.433 1197.43,513.534 1203.26,496.254 1209.08,665.006 1214.9,417.76 1220.72,677.323 1226.54,499.011 1232.36,402.87 1238.18,741.478 1244,356.362 1249.82,549.747 1255.65,877.325 1261.47,890.193 1267.29,409.856 1273.11,445.886 1278.93,906.554 1284.75,114.263 1290.57,380.811 1296.39,577.137 1302.21,611.513 1308.04,568.13 1313.86,177.5 1319.68,312.06 1325.5,450.665 1331.32,344.046 1337.14,674.014 1342.96,515.004 1348.78,753.978 1354.6,524.196 1360.43,432.65 1366.25,687.985 1372.07,542.946 1377.89,542.211 1383.71,525.482 1389.53,735.779 1395.35,596.807 1401.17,1036.89 1407,301.215 1412.82,455.996 1418.64,363.532 1424.46,945.341 1430.28,546.99 1436.1,901.59 1441.92,592.211 1447.74,792.214 1453.56,933.944 1459.39,1309.13 1465.21,914.091 1471.03,918.319 1476.85,1220.34 1482.67,911.333 1488.49,684.308 1494.31,444.415 1500.13,575.299 1505.95,639.455 1511.78,426.216 1517.6,638.168 1523.42,547.358 1529.24,107.646 1535.06,912.988 1540.88,313.163 1546.7,860.23 1552.52,373.091 1558.34,559.49 1564.17,232.647 1569.99,611.329 1575.81,789.273 1581.63,539.637 1587.45,424.01 1593.27,244.412 1599.09,787.251 1604.91,421.437 1610.74,986.15 1616.56,839.641 1622.38,462.246 1628.2,819.42 1634.02,578.424 1639.84,937.988 1645.66,618.866 1651.48,382.282 1657.3,737.801 1663.13,269.964 1668.95,374.929 1674.77,684.676 1680.59,627.138 1686.41,336.877 1692.23,627.138 1698.05,434.488 1703.87,1445.72 1709.69,503.423 1715.52,869.053 1721.34,883.392 1727.16,978.981 1732.98,893.686 1738.8,654.344 1744.62,988.356 1750.44,1223.47 1756.26,1244.24 1762.08,1188.18 1767.91,1090.75 1773.73,433.753 1779.55,613.719 1785.37,916.664 1791.19,843.318 1797.01,843.318 1802.83,461.879 1808.65,508.938 1814.48,385.958 1820.3,654.896 1826.12,840.376 1831.94,347.723 1837.76,607.101 1843.58,398.091 1849.4,651.587 1855.22,915.01 1861.04,475.482 1866.87,603.792 1872.69,494.967 1878.51,819.053 1884.33,660.411 1890.15,918.686 1895.97,730.632 1901.79,835.045 1907.61,248.456 1913.43,970.341 1919.26,375.664 1925.08,760.964 1930.9,842.582 1936.72,740.927 1942.54,856.921 1948.36,661.881 1954.18,451.217 1960,322.722 1965.82,672.911 1971.65,331.362 1977.47,212.794 1983.29,204.706 1989.11,458.202 1994.93,595.888 2000.75,899.385 2006.57,1091.85 2012.39,1266.12 2018.21,1234.32 2024.04,1045.34 2029.86,895.524 2035.68,1095.71 2041.5,965.194 2047.32,734.493 2053.14,948.65 2058.96,1088.36 2064.78,908.208 2070.61,641.109 2076.43,658.572 2082.25,534.122 2088.07,780.449 2093.89,683.021 2099.71,503.239 2105.53,294.964 2111.35,805.082 2117.17,879.164 2123,665.006 2128.82,329.156 2134.64,433.202 2140.46,976.775 2146.28,530.446 2152.1,1010.05 2157.92,668.499 2163.74,364.083 2169.56,283.567 2175.39,582.652 2181.21,911.149 2187.03,914.826 2192.85,881.737 2198.67,962.069 2204.49,593.498 2210.31,1001.41 2216.13,782.287 2221.95,1036.52 2227.78,989.276 2233.6,994.974 2239.42,510.592 2245.24,771.442 2251.06,990.195 2256.88,520.887 2262.7,609.675 2268.52,688.352 2274.35,608.02 2280.17,498.46 2285.99,479.893 2291.81,255.074 \"/>\n",
       "<path clip-path=\"url(#clip030)\" d=\"M271.066 1438.47 L538.843 1438.47 L538.843 1334.79 L271.066 1334.79  Z\" fill=\"#ffffff\" fill-rule=\"evenodd\" fill-opacity=\"1\"/>\n",
       "<polyline clip-path=\"url(#clip030)\" style=\"stroke:#000000; stroke-linecap:round; stroke-linejoin:round; stroke-width:4; stroke-opacity:1; fill:none\" points=\"271.066,1438.47 538.843,1438.47 538.843,1334.79 271.066,1334.79 271.066,1438.47 \"/>\n",
       "<polyline clip-path=\"url(#clip030)\" style=\"stroke:#009af9; stroke-linecap:round; stroke-linejoin:round; stroke-width:4; stroke-opacity:1; fill:none\" points=\"294.993,1386.63 438.558,1386.63 \"/>\n",
       "<path clip-path=\"url(#clip030)\" d=\"M476.328 1406.32 Q474.522 1410.95 472.809 1412.36 Q471.096 1413.78 468.226 1413.78 L464.823 1413.78 L464.823 1410.21 L467.323 1410.21 Q469.083 1410.21 470.055 1409.38 Q471.027 1408.54 472.208 1405.44 L472.971 1403.5 L462.485 1377.99 L466.999 1377.99 L475.101 1398.27 L483.203 1377.99 L487.717 1377.99 L476.328 1406.32 Z\" fill=\"#000000\" fill-rule=\"evenodd\" fill-opacity=\"1\" /><path clip-path=\"url(#clip030)\" d=\"M495.008 1399.98 L502.647 1399.98 L502.647 1373.61 L494.337 1375.28 L494.337 1371.02 L502.601 1369.35 L507.277 1369.35 L507.277 1399.98 L514.916 1399.98 L514.916 1403.91 L495.008 1403.91 L495.008 1399.98 Z\" fill=\"#000000\" fill-rule=\"evenodd\" fill-opacity=\"1\" /></svg>\n"
      ]
     },
     "execution_count": 35,
     "metadata": {},
     "output_type": "execute_result"
    }
   ],
   "source": [
    "plot(avg_payoffs.profits)"
   ]
  },
  {
   "cell_type": "code",
   "execution_count": 36,
   "metadata": {},
   "outputs": [
    {
     "data": {
      "image/svg+xml": [
       "<?xml version=\"1.0\" encoding=\"utf-8\"?>\n",
       "<svg xmlns=\"http://www.w3.org/2000/svg\" xmlns:xlink=\"http://www.w3.org/1999/xlink\" width=\"600\" height=\"400\" viewBox=\"0 0 2400 1600\">\n",
       "<defs>\n",
       "  <clipPath id=\"clip070\">\n",
       "    <rect x=\"0\" y=\"0\" width=\"2400\" height=\"1600\"/>\n",
       "  </clipPath>\n",
       "</defs>\n",
       "<path clip-path=\"url(#clip070)\" d=\"M0 1600 L2400 1600 L2400 0 L0 0  Z\" fill=\"#ffffff\" fill-rule=\"evenodd\" fill-opacity=\"1\"/>\n",
       "<defs>\n",
       "  <clipPath id=\"clip071\">\n",
       "    <rect x=\"480\" y=\"0\" width=\"1681\" height=\"1600\"/>\n",
       "  </clipPath>\n",
       "</defs>\n",
       "<path clip-path=\"url(#clip070)\" d=\"M170.857 1486.45 L2352.76 1486.45 L2352.76 47.2441 L170.857 47.2441  Z\" fill=\"#ffffff\" fill-rule=\"evenodd\" fill-opacity=\"1\"/>\n",
       "<defs>\n",
       "  <clipPath id=\"clip072\">\n",
       "    <rect x=\"170\" y=\"47\" width=\"2183\" height=\"1440\"/>\n",
       "  </clipPath>\n",
       "</defs>\n",
       "<polyline clip-path=\"url(#clip072)\" style=\"stroke:#000000; stroke-linecap:round; stroke-linejoin:round; stroke-width:2; stroke-opacity:0.1; fill:none\" points=\"226.711,1486.45 226.711,47.2441 \"/>\n",
       "<polyline clip-path=\"url(#clip072)\" style=\"stroke:#000000; stroke-linecap:round; stroke-linejoin:round; stroke-width:2; stroke-opacity:0.1; fill:none\" points=\"816.509,1486.45 816.509,47.2441 \"/>\n",
       "<polyline clip-path=\"url(#clip072)\" style=\"stroke:#000000; stroke-linecap:round; stroke-linejoin:round; stroke-width:2; stroke-opacity:0.1; fill:none\" points=\"1406.31,1486.45 1406.31,47.2441 \"/>\n",
       "<polyline clip-path=\"url(#clip072)\" style=\"stroke:#000000; stroke-linecap:round; stroke-linejoin:round; stroke-width:2; stroke-opacity:0.1; fill:none\" points=\"1996.11,1486.45 1996.11,47.2441 \"/>\n",
       "<polyline clip-path=\"url(#clip070)\" style=\"stroke:#000000; stroke-linecap:round; stroke-linejoin:round; stroke-width:4; stroke-opacity:1; fill:none\" points=\"170.857,1486.45 2352.76,1486.45 \"/>\n",
       "<polyline clip-path=\"url(#clip070)\" style=\"stroke:#000000; stroke-linecap:round; stroke-linejoin:round; stroke-width:4; stroke-opacity:1; fill:none\" points=\"226.711,1486.45 226.711,1467.55 \"/>\n",
       "<polyline clip-path=\"url(#clip070)\" style=\"stroke:#000000; stroke-linecap:round; stroke-linejoin:round; stroke-width:4; stroke-opacity:1; fill:none\" points=\"816.509,1486.45 816.509,1467.55 \"/>\n",
       "<polyline clip-path=\"url(#clip070)\" style=\"stroke:#000000; stroke-linecap:round; stroke-linejoin:round; stroke-width:4; stroke-opacity:1; fill:none\" points=\"1406.31,1486.45 1406.31,1467.55 \"/>\n",
       "<polyline clip-path=\"url(#clip070)\" style=\"stroke:#000000; stroke-linecap:round; stroke-linejoin:round; stroke-width:4; stroke-opacity:1; fill:none\" points=\"1996.11,1486.45 1996.11,1467.55 \"/>\n",
       "<path clip-path=\"url(#clip070)\" d=\"M226.711 1517.37 Q223.1 1517.37 221.271 1520.93 Q219.466 1524.47 219.466 1531.6 Q219.466 1538.71 221.271 1542.27 Q223.1 1545.82 226.711 1545.82 Q230.346 1545.82 232.151 1542.27 Q233.98 1538.71 233.98 1531.6 Q233.98 1524.47 232.151 1520.93 Q230.346 1517.37 226.711 1517.37 M226.711 1513.66 Q232.521 1513.66 235.577 1518.27 Q238.656 1522.85 238.656 1531.6 Q238.656 1540.33 235.577 1544.94 Q232.521 1549.52 226.711 1549.52 Q220.901 1549.52 217.822 1544.94 Q214.767 1540.33 214.767 1531.6 Q214.767 1522.85 217.822 1518.27 Q220.901 1513.66 226.711 1513.66 Z\" fill=\"#000000\" fill-rule=\"evenodd\" fill-opacity=\"1\" /><path clip-path=\"url(#clip070)\" d=\"M776.116 1544.91 L783.755 1544.91 L783.755 1518.55 L775.445 1520.21 L775.445 1515.95 L783.708 1514.29 L788.384 1514.29 L788.384 1544.91 L796.023 1544.91 L796.023 1548.85 L776.116 1548.85 L776.116 1544.91 Z\" fill=\"#000000\" fill-rule=\"evenodd\" fill-opacity=\"1\" /><path clip-path=\"url(#clip070)\" d=\"M815.468 1517.37 Q811.856 1517.37 810.028 1520.93 Q808.222 1524.47 808.222 1531.6 Q808.222 1538.71 810.028 1542.27 Q811.856 1545.82 815.468 1545.82 Q819.102 1545.82 820.907 1542.27 Q822.736 1538.71 822.736 1531.6 Q822.736 1524.47 820.907 1520.93 Q819.102 1517.37 815.468 1517.37 M815.468 1513.66 Q821.278 1513.66 824.333 1518.27 Q827.412 1522.85 827.412 1531.6 Q827.412 1540.33 824.333 1544.94 Q821.278 1549.52 815.468 1549.52 Q809.657 1549.52 806.579 1544.94 Q803.523 1540.33 803.523 1531.6 Q803.523 1522.85 806.579 1518.27 Q809.657 1513.66 815.468 1513.66 Z\" fill=\"#000000\" fill-rule=\"evenodd\" fill-opacity=\"1\" /><path clip-path=\"url(#clip070)\" d=\"M845.629 1517.37 Q842.018 1517.37 840.19 1520.93 Q838.384 1524.47 838.384 1531.6 Q838.384 1538.71 840.19 1542.27 Q842.018 1545.82 845.629 1545.82 Q849.264 1545.82 851.069 1542.27 Q852.898 1538.71 852.898 1531.6 Q852.898 1524.47 851.069 1520.93 Q849.264 1517.37 845.629 1517.37 M845.629 1513.66 Q851.44 1513.66 854.495 1518.27 Q857.574 1522.85 857.574 1531.6 Q857.574 1540.33 854.495 1544.94 Q851.44 1549.52 845.629 1549.52 Q839.819 1549.52 836.741 1544.94 Q833.685 1540.33 833.685 1531.6 Q833.685 1522.85 836.741 1518.27 Q839.819 1513.66 845.629 1513.66 Z\" fill=\"#000000\" fill-rule=\"evenodd\" fill-opacity=\"1\" /><path clip-path=\"url(#clip070)\" d=\"M1370 1544.91 L1386.32 1544.91 L1386.32 1548.85 L1364.37 1548.85 L1364.37 1544.91 Q1367.04 1542.16 1371.62 1537.53 Q1376.23 1532.88 1377.41 1531.53 Q1379.65 1529.01 1380.53 1527.27 Q1381.43 1525.51 1381.43 1523.82 Q1381.43 1521.07 1379.49 1519.33 Q1377.57 1517.6 1374.47 1517.6 Q1372.27 1517.6 1369.81 1518.36 Q1367.38 1519.13 1364.61 1520.68 L1364.61 1515.95 Q1367.43 1514.82 1369.88 1514.24 Q1372.34 1513.66 1374.37 1513.66 Q1379.74 1513.66 1382.94 1516.35 Q1386.13 1519.03 1386.13 1523.52 Q1386.13 1525.65 1385.32 1527.57 Q1384.54 1529.47 1382.43 1532.07 Q1381.85 1532.74 1378.75 1535.95 Q1375.65 1539.15 1370 1544.91 Z\" fill=\"#000000\" fill-rule=\"evenodd\" fill-opacity=\"1\" /><path clip-path=\"url(#clip070)\" d=\"M1406.13 1517.37 Q1402.52 1517.37 1400.69 1520.93 Q1398.89 1524.47 1398.89 1531.6 Q1398.89 1538.71 1400.69 1542.27 Q1402.52 1545.82 1406.13 1545.82 Q1409.77 1545.82 1411.57 1542.27 Q1413.4 1538.71 1413.4 1531.6 Q1413.4 1524.47 1411.57 1520.93 Q1409.77 1517.37 1406.13 1517.37 M1406.13 1513.66 Q1411.94 1513.66 1415 1518.27 Q1418.08 1522.85 1418.08 1531.6 Q1418.08 1540.33 1415 1544.94 Q1411.94 1549.52 1406.13 1549.52 Q1400.32 1549.52 1397.24 1544.94 Q1394.19 1540.33 1394.19 1531.6 Q1394.19 1522.85 1397.24 1518.27 Q1400.32 1513.66 1406.13 1513.66 Z\" fill=\"#000000\" fill-rule=\"evenodd\" fill-opacity=\"1\" /><path clip-path=\"url(#clip070)\" d=\"M1436.3 1517.37 Q1432.68 1517.37 1430.86 1520.93 Q1429.05 1524.47 1429.05 1531.6 Q1429.05 1538.71 1430.86 1542.27 Q1432.68 1545.82 1436.3 1545.82 Q1439.93 1545.82 1441.74 1542.27 Q1443.56 1538.71 1443.56 1531.6 Q1443.56 1524.47 1441.74 1520.93 Q1439.93 1517.37 1436.3 1517.37 M1436.3 1513.66 Q1442.11 1513.66 1445.16 1518.27 Q1448.24 1522.85 1448.24 1531.6 Q1448.24 1540.33 1445.16 1544.94 Q1442.11 1549.52 1436.3 1549.52 Q1430.49 1549.52 1427.41 1544.94 Q1424.35 1540.33 1424.35 1531.6 Q1424.35 1522.85 1427.41 1518.27 Q1430.49 1513.66 1436.3 1513.66 Z\" fill=\"#000000\" fill-rule=\"evenodd\" fill-opacity=\"1\" /><path clip-path=\"url(#clip070)\" d=\"M1969.87 1530.21 Q1973.22 1530.93 1975.1 1533.2 Q1977 1535.47 1977 1538.8 Q1977 1543.92 1973.48 1546.72 Q1969.96 1549.52 1963.48 1549.52 Q1961.3 1549.52 1958.99 1549.08 Q1956.7 1548.66 1954.24 1547.81 L1954.24 1543.29 Q1956.19 1544.43 1958.5 1545.01 Q1960.82 1545.58 1963.34 1545.58 Q1967.74 1545.58 1970.03 1543.85 Q1972.34 1542.11 1972.34 1538.8 Q1972.34 1535.75 1970.19 1534.03 Q1968.06 1532.3 1964.24 1532.3 L1960.21 1532.3 L1960.21 1528.45 L1964.43 1528.45 Q1967.88 1528.45 1969.7 1527.09 Q1971.53 1525.7 1971.53 1523.11 Q1971.53 1520.45 1969.64 1519.03 Q1967.76 1517.6 1964.24 1517.6 Q1962.32 1517.6 1960.12 1518.01 Q1957.92 1518.43 1955.28 1519.31 L1955.28 1515.14 Q1957.95 1514.4 1960.26 1514.03 Q1962.6 1513.66 1964.66 1513.66 Q1969.98 1513.66 1973.08 1516.09 Q1976.19 1518.5 1976.19 1522.62 Q1976.19 1525.49 1974.54 1527.48 Q1972.9 1529.45 1969.87 1530.21 Z\" fill=\"#000000\" fill-rule=\"evenodd\" fill-opacity=\"1\" /><path clip-path=\"url(#clip070)\" d=\"M1995.86 1517.37 Q1992.25 1517.37 1990.42 1520.93 Q1988.62 1524.47 1988.62 1531.6 Q1988.62 1538.71 1990.42 1542.27 Q1992.25 1545.82 1995.86 1545.82 Q1999.5 1545.82 2001.3 1542.27 Q2003.13 1538.71 2003.13 1531.6 Q2003.13 1524.47 2001.3 1520.93 Q1999.5 1517.37 1995.86 1517.37 M1995.86 1513.66 Q2001.67 1513.66 2004.73 1518.27 Q2007.81 1522.85 2007.81 1531.6 Q2007.81 1540.33 2004.73 1544.94 Q2001.67 1549.52 1995.86 1549.52 Q1990.05 1549.52 1986.97 1544.94 Q1983.92 1540.33 1983.92 1531.6 Q1983.92 1522.85 1986.97 1518.27 Q1990.05 1513.66 1995.86 1513.66 Z\" fill=\"#000000\" fill-rule=\"evenodd\" fill-opacity=\"1\" /><path clip-path=\"url(#clip070)\" d=\"M2026.02 1517.37 Q2022.41 1517.37 2020.58 1520.93 Q2018.78 1524.47 2018.78 1531.6 Q2018.78 1538.71 2020.58 1542.27 Q2022.41 1545.82 2026.02 1545.82 Q2029.66 1545.82 2031.46 1542.27 Q2033.29 1538.71 2033.29 1531.6 Q2033.29 1524.47 2031.46 1520.93 Q2029.66 1517.37 2026.02 1517.37 M2026.02 1513.66 Q2031.83 1513.66 2034.89 1518.27 Q2037.97 1522.85 2037.97 1531.6 Q2037.97 1540.33 2034.89 1544.94 Q2031.83 1549.52 2026.02 1549.52 Q2020.21 1549.52 2017.14 1544.94 Q2014.08 1540.33 2014.08 1531.6 Q2014.08 1522.85 2017.14 1518.27 Q2020.21 1513.66 2026.02 1513.66 Z\" fill=\"#000000\" fill-rule=\"evenodd\" fill-opacity=\"1\" /><polyline clip-path=\"url(#clip072)\" style=\"stroke:#000000; stroke-linecap:round; stroke-linejoin:round; stroke-width:2; stroke-opacity:0.1; fill:none\" points=\"170.857,1445.72 2352.76,1445.72 \"/>\n",
       "<polyline clip-path=\"url(#clip072)\" style=\"stroke:#000000; stroke-linecap:round; stroke-linejoin:round; stroke-width:2; stroke-opacity:0.1; fill:none\" points=\"170.857,1153.1 2352.76,1153.1 \"/>\n",
       "<polyline clip-path=\"url(#clip072)\" style=\"stroke:#000000; stroke-linecap:round; stroke-linejoin:round; stroke-width:2; stroke-opacity:0.1; fill:none\" points=\"170.857,860.483 2352.76,860.483 \"/>\n",
       "<polyline clip-path=\"url(#clip072)\" style=\"stroke:#000000; stroke-linecap:round; stroke-linejoin:round; stroke-width:2; stroke-opacity:0.1; fill:none\" points=\"170.857,567.867 2352.76,567.867 \"/>\n",
       "<polyline clip-path=\"url(#clip072)\" style=\"stroke:#000000; stroke-linecap:round; stroke-linejoin:round; stroke-width:2; stroke-opacity:0.1; fill:none\" points=\"170.857,275.251 2352.76,275.251 \"/>\n",
       "<polyline clip-path=\"url(#clip070)\" style=\"stroke:#000000; stroke-linecap:round; stroke-linejoin:round; stroke-width:4; stroke-opacity:1; fill:none\" points=\"170.857,1486.45 170.857,47.2441 \"/>\n",
       "<polyline clip-path=\"url(#clip070)\" style=\"stroke:#000000; stroke-linecap:round; stroke-linejoin:round; stroke-width:4; stroke-opacity:1; fill:none\" points=\"170.857,1445.72 189.755,1445.72 \"/>\n",
       "<polyline clip-path=\"url(#clip070)\" style=\"stroke:#000000; stroke-linecap:round; stroke-linejoin:round; stroke-width:4; stroke-opacity:1; fill:none\" points=\"170.857,1153.1 189.755,1153.1 \"/>\n",
       "<polyline clip-path=\"url(#clip070)\" style=\"stroke:#000000; stroke-linecap:round; stroke-linejoin:round; stroke-width:4; stroke-opacity:1; fill:none\" points=\"170.857,860.483 189.755,860.483 \"/>\n",
       "<polyline clip-path=\"url(#clip070)\" style=\"stroke:#000000; stroke-linecap:round; stroke-linejoin:round; stroke-width:4; stroke-opacity:1; fill:none\" points=\"170.857,567.867 189.755,567.867 \"/>\n",
       "<polyline clip-path=\"url(#clip070)\" style=\"stroke:#000000; stroke-linecap:round; stroke-linejoin:round; stroke-width:4; stroke-opacity:1; fill:none\" points=\"170.857,275.251 189.755,275.251 \"/>\n",
       "<path clip-path=\"url(#clip070)\" d=\"M122.913 1431.51 Q119.302 1431.51 117.473 1435.08 Q115.668 1438.62 115.668 1445.75 Q115.668 1452.86 117.473 1456.42 Q119.302 1459.96 122.913 1459.96 Q126.547 1459.96 128.353 1456.42 Q130.182 1452.86 130.182 1445.75 Q130.182 1438.62 128.353 1435.08 Q126.547 1431.51 122.913 1431.51 M122.913 1427.81 Q128.723 1427.81 131.779 1432.42 Q134.857 1437 134.857 1445.75 Q134.857 1454.48 131.779 1459.08 Q128.723 1463.67 122.913 1463.67 Q117.103 1463.67 114.024 1459.08 Q110.969 1454.48 110.969 1445.75 Q110.969 1437 114.024 1432.42 Q117.103 1427.81 122.913 1427.81 Z\" fill=\"#000000\" fill-rule=\"evenodd\" fill-opacity=\"1\" /><path clip-path=\"url(#clip070)\" d=\"M82.7975 1135.82 L101.154 1135.82 L101.154 1139.75 L87.0799 1139.75 L87.0799 1148.23 Q88.0984 1147.88 89.1169 1147.72 Q90.1354 1147.53 91.1539 1147.53 Q96.941 1147.53 100.321 1150.7 Q103.7 1153.87 103.7 1159.29 Q103.7 1164.87 100.228 1167.97 Q96.7558 1171.05 90.4364 1171.05 Q88.2604 1171.05 85.9919 1170.68 Q83.7466 1170.31 81.3392 1169.57 L81.3392 1164.87 Q83.4225 1166 85.6447 1166.56 Q87.8669 1167.12 90.3438 1167.12 Q94.3484 1167.12 96.6863 1165.01 Q99.0243 1162.9 99.0243 1159.29 Q99.0243 1155.68 96.6863 1153.57 Q94.3484 1151.47 90.3438 1151.47 Q88.4688 1151.47 86.5938 1151.88 Q84.7419 1152.3 82.7975 1153.18 L82.7975 1135.82 Z\" fill=\"#000000\" fill-rule=\"evenodd\" fill-opacity=\"1\" /><path clip-path=\"url(#clip070)\" d=\"M122.913 1138.9 Q119.302 1138.9 117.473 1142.46 Q115.668 1146 115.668 1153.13 Q115.668 1160.24 117.473 1163.81 Q119.302 1167.35 122.913 1167.35 Q126.547 1167.35 128.353 1163.81 Q130.182 1160.24 130.182 1153.13 Q130.182 1146 128.353 1142.46 Q126.547 1138.9 122.913 1138.9 M122.913 1135.19 Q128.723 1135.19 131.779 1139.8 Q134.857 1144.38 134.857 1153.13 Q134.857 1161.86 131.779 1166.47 Q128.723 1171.05 122.913 1171.05 Q117.103 1171.05 114.024 1166.47 Q110.969 1161.86 110.969 1153.13 Q110.969 1144.38 114.024 1139.8 Q117.103 1135.19 122.913 1135.19 Z\" fill=\"#000000\" fill-rule=\"evenodd\" fill-opacity=\"1\" /><path clip-path=\"url(#clip070)\" d=\"M53.3995 873.828 L61.0384 873.828 L61.0384 847.462 L52.7282 849.129 L52.7282 844.87 L60.9921 843.203 L65.668 843.203 L65.668 873.828 L73.3068 873.828 L73.3068 877.763 L53.3995 877.763 L53.3995 873.828 Z\" fill=\"#000000\" fill-rule=\"evenodd\" fill-opacity=\"1\" /><path clip-path=\"url(#clip070)\" d=\"M92.7512 846.282 Q89.1401 846.282 87.3114 849.847 Q85.5058 853.388 85.5058 860.518 Q85.5058 867.624 87.3114 871.189 Q89.1401 874.731 92.7512 874.731 Q96.3854 874.731 98.1909 871.189 Q100.02 867.624 100.02 860.518 Q100.02 853.388 98.1909 849.847 Q96.3854 846.282 92.7512 846.282 M92.7512 842.578 Q98.5613 842.578 101.617 847.185 Q104.696 851.768 104.696 860.518 Q104.696 869.245 101.617 873.851 Q98.5613 878.434 92.7512 878.434 Q86.941 878.434 83.8623 873.851 Q80.8068 869.245 80.8068 860.518 Q80.8068 851.768 83.8623 847.185 Q86.941 842.578 92.7512 842.578 Z\" fill=\"#000000\" fill-rule=\"evenodd\" fill-opacity=\"1\" /><path clip-path=\"url(#clip070)\" d=\"M122.913 846.282 Q119.302 846.282 117.473 849.847 Q115.668 853.388 115.668 860.518 Q115.668 867.624 117.473 871.189 Q119.302 874.731 122.913 874.731 Q126.547 874.731 128.353 871.189 Q130.182 867.624 130.182 860.518 Q130.182 853.388 128.353 849.847 Q126.547 846.282 122.913 846.282 M122.913 842.578 Q128.723 842.578 131.779 847.185 Q134.857 851.768 134.857 860.518 Q134.857 869.245 131.779 873.851 Q128.723 878.434 122.913 878.434 Q117.103 878.434 114.024 873.851 Q110.969 869.245 110.969 860.518 Q110.969 851.768 114.024 847.185 Q117.103 842.578 122.913 842.578 Z\" fill=\"#000000\" fill-rule=\"evenodd\" fill-opacity=\"1\" /><path clip-path=\"url(#clip070)\" d=\"M53.3995 581.212 L61.0384 581.212 L61.0384 554.846 L52.7282 556.513 L52.7282 552.254 L60.9921 550.587 L65.668 550.587 L65.668 581.212 L73.3068 581.212 L73.3068 585.147 L53.3995 585.147 L53.3995 581.212 Z\" fill=\"#000000\" fill-rule=\"evenodd\" fill-opacity=\"1\" /><path clip-path=\"url(#clip070)\" d=\"M82.7975 550.587 L101.154 550.587 L101.154 554.522 L87.0799 554.522 L87.0799 562.994 Q88.0984 562.647 89.1169 562.485 Q90.1354 562.3 91.1539 562.3 Q96.941 562.3 100.321 565.471 Q103.7 568.642 103.7 574.059 Q103.7 579.638 100.228 582.74 Q96.7558 585.818 90.4364 585.818 Q88.2604 585.818 85.9919 585.448 Q83.7466 585.077 81.3392 584.337 L81.3392 579.638 Q83.4225 580.772 85.6447 581.328 Q87.8669 581.883 90.3438 581.883 Q94.3484 581.883 96.6863 579.777 Q99.0243 577.67 99.0243 574.059 Q99.0243 570.448 96.6863 568.341 Q94.3484 566.235 90.3438 566.235 Q88.4688 566.235 86.5938 566.652 Q84.7419 567.068 82.7975 567.948 L82.7975 550.587 Z\" fill=\"#000000\" fill-rule=\"evenodd\" fill-opacity=\"1\" /><path clip-path=\"url(#clip070)\" d=\"M122.913 553.666 Q119.302 553.666 117.473 557.23 Q115.668 560.772 115.668 567.902 Q115.668 575.008 117.473 578.573 Q119.302 582.115 122.913 582.115 Q126.547 582.115 128.353 578.573 Q130.182 575.008 130.182 567.902 Q130.182 560.772 128.353 557.23 Q126.547 553.666 122.913 553.666 M122.913 549.962 Q128.723 549.962 131.779 554.568 Q134.857 559.152 134.857 567.902 Q134.857 576.628 131.779 581.235 Q128.723 585.818 122.913 585.818 Q117.103 585.818 114.024 581.235 Q110.969 576.628 110.969 567.902 Q110.969 559.152 114.024 554.568 Q117.103 549.962 122.913 549.962 Z\" fill=\"#000000\" fill-rule=\"evenodd\" fill-opacity=\"1\" /><path clip-path=\"url(#clip070)\" d=\"M56.6171 288.596 L72.9365 288.596 L72.9365 292.531 L50.9921 292.531 L50.9921 288.596 Q53.6541 285.841 58.2375 281.211 Q62.8439 276.559 64.0245 275.216 Q66.2698 272.693 67.1494 270.957 Q68.0522 269.197 68.0522 267.508 Q68.0522 264.753 66.1078 263.017 Q64.1865 261.281 61.0847 261.281 Q58.8856 261.281 56.4319 262.045 Q54.0014 262.809 51.2236 264.36 L51.2236 259.637 Q54.0477 258.503 56.5014 257.924 Q58.955 257.346 60.9921 257.346 Q66.3624 257.346 69.5568 260.031 Q72.7513 262.716 72.7513 267.207 Q72.7513 269.336 71.9411 271.258 Q71.1541 273.156 69.0476 275.748 Q68.4689 276.42 65.367 279.637 Q62.2652 282.832 56.6171 288.596 Z\" fill=\"#000000\" fill-rule=\"evenodd\" fill-opacity=\"1\" /><path clip-path=\"url(#clip070)\" d=\"M92.7512 261.049 Q89.1401 261.049 87.3114 264.614 Q85.5058 268.156 85.5058 275.285 Q85.5058 282.392 87.3114 285.957 Q89.1401 289.498 92.7512 289.498 Q96.3854 289.498 98.1909 285.957 Q100.02 282.392 100.02 275.285 Q100.02 268.156 98.1909 264.614 Q96.3854 261.049 92.7512 261.049 M92.7512 257.346 Q98.5613 257.346 101.617 261.952 Q104.696 266.535 104.696 275.285 Q104.696 284.012 101.617 288.619 Q98.5613 293.202 92.7512 293.202 Q86.941 293.202 83.8623 288.619 Q80.8068 284.012 80.8068 275.285 Q80.8068 266.535 83.8623 261.952 Q86.941 257.346 92.7512 257.346 Z\" fill=\"#000000\" fill-rule=\"evenodd\" fill-opacity=\"1\" /><path clip-path=\"url(#clip070)\" d=\"M122.913 261.049 Q119.302 261.049 117.473 264.614 Q115.668 268.156 115.668 275.285 Q115.668 282.392 117.473 285.957 Q119.302 289.498 122.913 289.498 Q126.547 289.498 128.353 285.957 Q130.182 282.392 130.182 275.285 Q130.182 268.156 128.353 264.614 Q126.547 261.049 122.913 261.049 M122.913 257.346 Q128.723 257.346 131.779 261.952 Q134.857 266.535 134.857 275.285 Q134.857 284.012 131.779 288.619 Q128.723 293.202 122.913 293.202 Q117.103 293.202 114.024 288.619 Q110.969 284.012 110.969 275.285 Q110.969 266.535 114.024 261.952 Q117.103 257.346 122.913 257.346 Z\" fill=\"#000000\" fill-rule=\"evenodd\" fill-opacity=\"1\" /><polyline clip-path=\"url(#clip072)\" style=\"stroke:#009af9; stroke-linecap:round; stroke-linejoin:round; stroke-width:4; stroke-opacity:1; fill:none\" points=\"232.609,819.517 238.507,1205.77 244.405,1311.11 250.303,731.732 256.201,1199.92 262.099,1252.59 267.997,942.416 273.895,1006.79 279.793,1041.91 285.691,725.88 291.589,1369.64 297.487,1445.72 303.385,1422.31 309.283,1340.37 315.181,509.344 321.079,1305.26 326.977,1223.33 332.875,1147.25 338.773,1000.94 344.671,1188.21 350.569,1445.72 356.467,1445.72 362.365,971.677 368.263,1012.64 374.161,1334.52 380.059,1158.95 385.957,1381.34 391.855,1182.36 397.753,778.551 403.651,883.892 409.549,1346.23 415.447,1445.72 421.345,1246.74 427.243,1246.74 433.141,1088.72 439.039,1369.64 444.937,995.087 450.834,796.108 456.732,1369.64 462.63,1434.01 468.528,1416.45 474.426,1445.72 480.324,1211.62 486.222,1194.07 492.12,1445.72 498.018,1012.64 503.916,1270.15 509.814,1445.72 515.712,1387.19 521.61,1445.72 527.508,930.711 533.406,1346.23 539.304,1018.5 545.202,632.243 551.1,889.745 556.998,1270.15 562.896,1445.72 568.794,643.947 574.692,497.639 580.59,772.698 586.488,1305.26 592.386,1305.26 598.284,1445.72 604.182,1410.6 610.08,1276 615.978,1176.51 621.876,1299.41 627.774,1428.16 633.672,1100.43 639.57,1135.54 645.468,983.382 651.366,1375.49 657.264,1357.93 663.162,1369.64 669.06,1036.05 674.958,977.53 680.856,1176.51 686.754,1135.54 692.652,1182.36 698.55,1369.64 704.448,1369.64 710.346,1305.26 716.244,1404.75 722.142,1445.72 728.04,1112.13 733.938,1240.88 739.835,1328.67 745.733,1346.23 751.631,1445.72 757.529,1018.5 763.427,1445.72 769.325,1258.44 775.223,1252.59 781.121,1240.88 787.019,1357.93 792.917,1006.79 798.815,1410.6 804.713,1363.78 810.611,1170.66 816.509,895.597 822.407,1445.72 828.305,743.437 834.203,1428.16 840.101,439.116 845.999,1088.72 851.897,977.53 857.795,1445.72 863.693,368.888 869.591,1199.92 875.489,1088.72 881.387,1164.8 887.285,942.416 893.183,608.833 899.081,1287.7 904.979,1416.45 910.877,1047.76 916.775,878.04 922.673,760.994 928.571,1000.94 934.469,737.584 940.367,1363.78 946.265,1445.72 952.163,1170.66 958.061,1410.6 963.959,1305.26 969.857,1322.82 975.755,1428.16 981.653,842.926 987.551,1445.72 993.449,1340.37 999.347,1445.72 1005.24,1158.95 1011.14,1434.01 1017.04,1357.93 1022.94,1164.8 1028.84,1077.02 1034.73,1047.76 1040.63,1141.39 1046.53,731.732 1052.43,1147.25 1058.33,1393.04 1064.22,1445.72 1070.12,1428.16 1076.02,1445.72 1081.92,1369.64 1087.82,1287.7 1093.71,1387.19 1099.61,1422.31 1105.51,1445.72 1111.41,1117.99 1117.31,1393.04 1123.2,1182.36 1129.1,1439.86 1135,1357.93 1140.9,1030.2 1146.8,1164.8 1152.69,1071.17 1158.59,995.087 1164.49,439.116 1170.39,1217.48 1176.29,1445.72 1182.18,1158.95 1188.08,1445.72 1193.98,1369.64 1199.88,1445.72 1205.78,1287.7 1211.67,1352.08 1217.57,883.892 1223.47,1071.17 1229.37,1445.72 1235.27,1422.31 1241.16,1188.21 1247.06,919.006 1252.96,1445.72 1258.86,1445.72 1264.76,690.766 1270.65,1445.72 1276.55,1434.01 1282.45,696.618 1288.35,1445.72 1294.25,1199.92 1300.14,1393.04 1306.04,1246.74 1311.94,1334.52 1317.84,1445.72 1323.74,1445.72 1329.63,1445.72 1335.53,1439.86 1341.43,1445.72 1347.33,1205.77 1353.23,1445.72 1359.12,1387.19 1365.02,1445.72 1370.92,1445.72 1376.82,1316.96 1382.72,1445.72 1388.61,1381.34 1394.51,1445.72 1400.41,1410.6 1406.31,1445.72 1412.21,1077.02 1418.1,1053.61 1424,1445.72 1429.9,1410.6 1435.8,1445.72 1441.7,1036.05 1447.59,983.382 1453.49,1293.56 1459.39,1217.48 1465.29,87.9763 1471.18,1088.72 1477.08,1445.72 1482.98,1445.72 1488.88,1357.93 1494.78,1445.72 1500.67,1293.56 1506.57,1445.72 1512.47,1123.84 1518.37,1316.96 1524.27,1065.31 1530.16,1404.75 1536.06,1445.72 1541.96,1439.86 1547.86,1229.18 1553.76,1434.01 1559.65,1445.72 1565.55,1071.17 1571.45,1445.72 1577.35,1357.93 1583.25,1445.72 1589.14,1445.72 1595.04,1445.72 1600.94,1445.72 1606.84,1445.72 1612.74,1281.85 1618.63,1445.72 1624.53,1352.08 1630.43,1240.88 1636.33,1445.72 1642.23,1117.99 1648.12,1316.96 1654.02,1334.52 1659.92,1445.72 1665.82,1287.7 1671.72,1416.45 1677.61,1445.72 1683.51,1357.93 1689.41,1363.78 1695.31,433.263 1701.21,1322.82 1707.1,1123.84 1713,1112.13 1718.9,1264.29 1724.8,1235.03 1730.7,1340.37 1736.59,1404.75 1742.49,1281.85 1748.39,790.255 1754.29,1369.64 1760.19,1252.59 1766.08,1305.26 1771.98,913.154 1777.88,1445.72 1783.78,1334.52 1789.68,1252.59 1795.57,1445.72 1801.47,1281.85 1807.37,889.745 1813.27,1445.72 1819.17,1153.1 1825.06,1357.93 1830.96,1416.45 1836.86,1416.45 1842.76,1217.48 1848.66,1445.72 1854.55,1387.19 1860.45,1445.72 1866.35,1270.15 1872.25,1445.72 1878.15,1445.72 1884.04,1445.72 1889.94,1445.72 1895.84,1445.72 1901.74,1258.44 1907.64,1305.26 1913.53,1381.34 1919.43,1445.72 1925.33,1445.72 1931.23,1445.72 1937.13,1445.72 1943.02,1445.72 1948.92,1445.72 1954.82,1445.72 1960.72,1199.92 1966.62,1410.6 1972.51,1445.72 1978.41,1445.72 1984.31,1445.72 1990.21,1445.72 1996.11,1445.72 2002,1281.85 2007.9,1270.15 2013.8,1445.72 2019.7,1404.75 2025.59,919.006 2031.49,1071.17 2037.39,1340.37 2043.29,1410.6 2049.19,948.268 2055.08,1322.82 2060.98,1445.72 2066.88,1428.16 2072.78,1328.67 2078.68,1445.72 2084.57,1445.72 2090.47,1445.72 2096.37,1445.72 2102.27,1352.08 2108.17,1276 2114.06,1445.72 2119.96,1445.72 2125.86,1445.72 2131.76,1393.04 2137.66,1270.15 2143.55,1194.07 2149.45,901.449 2155.35,1322.82 2161.25,1445.72 2167.15,1334.52 2173.04,1445.72 2178.94,1445.72 2184.84,1217.48 2190.74,1176.51 2196.64,1445.72 2202.53,1445.72 2208.43,1445.72 2214.33,1164.8 2220.23,1445.72 2226.13,1445.72 2232.02,1363.78 2237.92,1445.72 2243.82,1445.72 2249.72,1445.72 2255.62,1445.72 2261.51,1381.34 2267.41,1445.72 2273.31,1445.72 2279.21,1276 2285.11,1445.72 2291,1445.72 \"/>\n",
       "<path clip-path=\"url(#clip070)\" d=\"M2009.41 198.898 L2280.03 198.898 L2280.03 95.2176 L2009.41 95.2176  Z\" fill=\"#ffffff\" fill-rule=\"evenodd\" fill-opacity=\"1\"/>\n",
       "<polyline clip-path=\"url(#clip070)\" style=\"stroke:#000000; stroke-linecap:round; stroke-linejoin:round; stroke-width:4; stroke-opacity:1; fill:none\" points=\"2009.41,198.898 2280.03,198.898 2280.03,95.2176 2009.41,95.2176 2009.41,198.898 \"/>\n",
       "<polyline clip-path=\"url(#clip070)\" style=\"stroke:#009af9; stroke-linecap:round; stroke-linejoin:round; stroke-width:4; stroke-opacity:1; fill:none\" points=\"2033.65,147.058 2179.11,147.058 \"/>\n",
       "<path clip-path=\"url(#clip070)\" d=\"M2217.19 166.745 Q2215.39 171.375 2213.68 172.787 Q2211.96 174.199 2209.09 174.199 L2205.69 174.199 L2205.69 170.634 L2208.19 170.634 Q2209.95 170.634 2210.92 169.8 Q2211.89 168.967 2213.07 165.865 L2213.84 163.921 L2203.35 138.412 L2207.87 138.412 L2215.97 158.689 L2224.07 138.412 L2228.58 138.412 L2217.19 166.745 Z\" fill=\"#000000\" fill-rule=\"evenodd\" fill-opacity=\"1\" /><path clip-path=\"url(#clip070)\" d=\"M2235.88 160.402 L2243.51 160.402 L2243.51 134.037 L2235.2 135.703 L2235.2 131.444 L2243.47 129.778 L2248.14 129.778 L2248.14 160.402 L2255.78 160.402 L2255.78 164.338 L2235.88 164.338 L2235.88 160.402 Z\" fill=\"#000000\" fill-rule=\"evenodd\" fill-opacity=\"1\" /></svg>\n"
      ]
     },
     "execution_count": 36,
     "metadata": {},
     "output_type": "execute_result"
    }
   ],
   "source": [
    "plot(avg_payoffs.lost_orders)"
   ]
  },
  {
   "cell_type": "code",
   "execution_count": 37,
   "metadata": {},
   "outputs": [
    {
     "data": {
      "image/svg+xml": [
       "<?xml version=\"1.0\" encoding=\"utf-8\"?>\n",
       "<svg xmlns=\"http://www.w3.org/2000/svg\" xmlns:xlink=\"http://www.w3.org/1999/xlink\" width=\"600\" height=\"400\" viewBox=\"0 0 2400 1600\">\n",
       "<defs>\n",
       "  <clipPath id=\"clip110\">\n",
       "    <rect x=\"0\" y=\"0\" width=\"2400\" height=\"1600\"/>\n",
       "  </clipPath>\n",
       "</defs>\n",
       "<path clip-path=\"url(#clip110)\" d=\"M0 1600 L2400 1600 L2400 0 L0 0  Z\" fill=\"#ffffff\" fill-rule=\"evenodd\" fill-opacity=\"1\"/>\n",
       "<defs>\n",
       "  <clipPath id=\"clip111\">\n",
       "    <rect x=\"480\" y=\"0\" width=\"1681\" height=\"1600\"/>\n",
       "  </clipPath>\n",
       "</defs>\n",
       "<path clip-path=\"url(#clip110)\" d=\"M141.853 1486.45 L2352.76 1486.45 L2352.76 47.2441 L141.853 47.2441  Z\" fill=\"#ffffff\" fill-rule=\"evenodd\" fill-opacity=\"1\"/>\n",
       "<defs>\n",
       "  <clipPath id=\"clip112\">\n",
       "    <rect x=\"141\" y=\"47\" width=\"2212\" height=\"1440\"/>\n",
       "  </clipPath>\n",
       "</defs>\n",
       "<polyline clip-path=\"url(#clip112)\" style=\"stroke:#000000; stroke-linecap:round; stroke-linejoin:round; stroke-width:2; stroke-opacity:0.1; fill:none\" points=\"198.449,1486.45 198.449,47.2441 \"/>\n",
       "<polyline clip-path=\"url(#clip112)\" style=\"stroke:#000000; stroke-linecap:round; stroke-linejoin:round; stroke-width:2; stroke-opacity:0.1; fill:none\" points=\"796.088,1486.45 796.088,47.2441 \"/>\n",
       "<polyline clip-path=\"url(#clip112)\" style=\"stroke:#000000; stroke-linecap:round; stroke-linejoin:round; stroke-width:2; stroke-opacity:0.1; fill:none\" points=\"1393.73,1486.45 1393.73,47.2441 \"/>\n",
       "<polyline clip-path=\"url(#clip112)\" style=\"stroke:#000000; stroke-linecap:round; stroke-linejoin:round; stroke-width:2; stroke-opacity:0.1; fill:none\" points=\"1991.36,1486.45 1991.36,47.2441 \"/>\n",
       "<polyline clip-path=\"url(#clip110)\" style=\"stroke:#000000; stroke-linecap:round; stroke-linejoin:round; stroke-width:4; stroke-opacity:1; fill:none\" points=\"141.853,1486.45 2352.76,1486.45 \"/>\n",
       "<polyline clip-path=\"url(#clip110)\" style=\"stroke:#000000; stroke-linecap:round; stroke-linejoin:round; stroke-width:4; stroke-opacity:1; fill:none\" points=\"198.449,1486.45 198.449,1467.55 \"/>\n",
       "<polyline clip-path=\"url(#clip110)\" style=\"stroke:#000000; stroke-linecap:round; stroke-linejoin:round; stroke-width:4; stroke-opacity:1; fill:none\" points=\"796.088,1486.45 796.088,1467.55 \"/>\n",
       "<polyline clip-path=\"url(#clip110)\" style=\"stroke:#000000; stroke-linecap:round; stroke-linejoin:round; stroke-width:4; stroke-opacity:1; fill:none\" points=\"1393.73,1486.45 1393.73,1467.55 \"/>\n",
       "<polyline clip-path=\"url(#clip110)\" style=\"stroke:#000000; stroke-linecap:round; stroke-linejoin:round; stroke-width:4; stroke-opacity:1; fill:none\" points=\"1991.36,1486.45 1991.36,1467.55 \"/>\n",
       "<path clip-path=\"url(#clip110)\" d=\"M198.449 1517.37 Q194.838 1517.37 193.01 1520.93 Q191.204 1524.47 191.204 1531.6 Q191.204 1538.71 193.01 1542.27 Q194.838 1545.82 198.449 1545.82 Q202.084 1545.82 203.889 1542.27 Q205.718 1538.71 205.718 1531.6 Q205.718 1524.47 203.889 1520.93 Q202.084 1517.37 198.449 1517.37 M198.449 1513.66 Q204.259 1513.66 207.315 1518.27 Q210.394 1522.85 210.394 1531.6 Q210.394 1540.33 207.315 1544.94 Q204.259 1549.52 198.449 1549.52 Q192.639 1549.52 189.56 1544.94 Q186.505 1540.33 186.505 1531.6 Q186.505 1522.85 189.56 1518.27 Q192.639 1513.66 198.449 1513.66 Z\" fill=\"#000000\" fill-rule=\"evenodd\" fill-opacity=\"1\" /><path clip-path=\"url(#clip110)\" d=\"M755.694 1544.91 L763.333 1544.91 L763.333 1518.55 L755.023 1520.21 L755.023 1515.95 L763.287 1514.29 L767.963 1514.29 L767.963 1544.91 L775.602 1544.91 L775.602 1548.85 L755.694 1548.85 L755.694 1544.91 Z\" fill=\"#000000\" fill-rule=\"evenodd\" fill-opacity=\"1\" /><path clip-path=\"url(#clip110)\" d=\"M795.046 1517.37 Q791.435 1517.37 789.606 1520.93 Q787.801 1524.47 787.801 1531.6 Q787.801 1538.71 789.606 1542.27 Q791.435 1545.82 795.046 1545.82 Q798.68 1545.82 800.486 1542.27 Q802.314 1538.71 802.314 1531.6 Q802.314 1524.47 800.486 1520.93 Q798.68 1517.37 795.046 1517.37 M795.046 1513.66 Q800.856 1513.66 803.912 1518.27 Q806.99 1522.85 806.99 1531.6 Q806.99 1540.33 803.912 1544.94 Q800.856 1549.52 795.046 1549.52 Q789.236 1549.52 786.157 1544.94 Q783.101 1540.33 783.101 1531.6 Q783.101 1522.85 786.157 1518.27 Q789.236 1513.66 795.046 1513.66 Z\" fill=\"#000000\" fill-rule=\"evenodd\" fill-opacity=\"1\" /><path clip-path=\"url(#clip110)\" d=\"M825.208 1517.37 Q821.597 1517.37 819.768 1520.93 Q817.962 1524.47 817.962 1531.6 Q817.962 1538.71 819.768 1542.27 Q821.597 1545.82 825.208 1545.82 Q828.842 1545.82 830.648 1542.27 Q832.476 1538.71 832.476 1531.6 Q832.476 1524.47 830.648 1520.93 Q828.842 1517.37 825.208 1517.37 M825.208 1513.66 Q831.018 1513.66 834.073 1518.27 Q837.152 1522.85 837.152 1531.6 Q837.152 1540.33 834.073 1544.94 Q831.018 1549.52 825.208 1549.52 Q819.398 1549.52 816.319 1544.94 Q813.263 1540.33 813.263 1531.6 Q813.263 1522.85 816.319 1518.27 Q819.398 1513.66 825.208 1513.66 Z\" fill=\"#000000\" fill-rule=\"evenodd\" fill-opacity=\"1\" /><path clip-path=\"url(#clip110)\" d=\"M1357.42 1544.91 L1373.74 1544.91 L1373.74 1548.85 L1351.79 1548.85 L1351.79 1544.91 Q1354.46 1542.16 1359.04 1537.53 Q1363.64 1532.88 1364.83 1531.53 Q1367.07 1529.01 1367.95 1527.27 Q1368.85 1525.51 1368.85 1523.82 Q1368.85 1521.07 1366.91 1519.33 Q1364.99 1517.6 1361.89 1517.6 Q1359.69 1517.6 1357.23 1518.36 Q1354.8 1519.13 1352.02 1520.68 L1352.02 1515.95 Q1354.85 1514.82 1357.3 1514.24 Q1359.76 1513.66 1361.79 1513.66 Q1367.16 1513.66 1370.36 1516.35 Q1373.55 1519.03 1373.55 1523.52 Q1373.55 1525.65 1372.74 1527.57 Q1371.96 1529.47 1369.85 1532.07 Q1369.27 1532.74 1366.17 1535.95 Q1363.07 1539.15 1357.42 1544.91 Z\" fill=\"#000000\" fill-rule=\"evenodd\" fill-opacity=\"1\" /><path clip-path=\"url(#clip110)\" d=\"M1393.55 1517.37 Q1389.94 1517.37 1388.11 1520.93 Q1386.31 1524.47 1386.31 1531.6 Q1386.31 1538.71 1388.11 1542.27 Q1389.94 1545.82 1393.55 1545.82 Q1397.19 1545.82 1398.99 1542.27 Q1400.82 1538.71 1400.82 1531.6 Q1400.82 1524.47 1398.99 1520.93 Q1397.19 1517.37 1393.55 1517.37 M1393.55 1513.66 Q1399.36 1513.66 1402.42 1518.27 Q1405.5 1522.85 1405.5 1531.6 Q1405.5 1540.33 1402.42 1544.94 Q1399.36 1549.52 1393.55 1549.52 Q1387.74 1549.52 1384.66 1544.94 Q1381.61 1540.33 1381.61 1531.6 Q1381.61 1522.85 1384.66 1518.27 Q1387.74 1513.66 1393.55 1513.66 Z\" fill=\"#000000\" fill-rule=\"evenodd\" fill-opacity=\"1\" /><path clip-path=\"url(#clip110)\" d=\"M1423.71 1517.37 Q1420.1 1517.37 1418.27 1520.93 Q1416.47 1524.47 1416.47 1531.6 Q1416.47 1538.71 1418.27 1542.27 Q1420.1 1545.82 1423.71 1545.82 Q1427.35 1545.82 1429.15 1542.27 Q1430.98 1538.71 1430.98 1531.6 Q1430.98 1524.47 1429.15 1520.93 Q1427.35 1517.37 1423.71 1517.37 M1423.71 1513.66 Q1429.52 1513.66 1432.58 1518.27 Q1435.66 1522.85 1435.66 1531.6 Q1435.66 1540.33 1432.58 1544.94 Q1429.52 1549.52 1423.71 1549.52 Q1417.9 1549.52 1414.83 1544.94 Q1411.77 1540.33 1411.77 1531.6 Q1411.77 1522.85 1414.83 1518.27 Q1417.9 1513.66 1423.71 1513.66 Z\" fill=\"#000000\" fill-rule=\"evenodd\" fill-opacity=\"1\" /><path clip-path=\"url(#clip110)\" d=\"M1965.13 1530.21 Q1968.48 1530.93 1970.36 1533.2 Q1972.26 1535.47 1972.26 1538.8 Q1972.26 1543.92 1968.74 1546.72 Q1965.22 1549.52 1958.74 1549.52 Q1956.56 1549.52 1954.25 1549.08 Q1951.95 1548.66 1949.5 1547.81 L1949.5 1543.29 Q1951.45 1544.43 1953.76 1545.01 Q1956.07 1545.58 1958.6 1545.58 Q1963 1545.58 1965.29 1543.85 Q1967.6 1542.11 1967.6 1538.8 Q1967.6 1535.75 1965.45 1534.03 Q1963.32 1532.3 1959.5 1532.3 L1955.47 1532.3 L1955.47 1528.45 L1959.69 1528.45 Q1963.14 1528.45 1964.96 1527.09 Q1966.79 1525.7 1966.79 1523.11 Q1966.79 1520.45 1964.89 1519.03 Q1963.02 1517.6 1959.5 1517.6 Q1957.58 1517.6 1955.38 1518.01 Q1953.18 1518.43 1950.54 1519.31 L1950.54 1515.14 Q1953.2 1514.4 1955.52 1514.03 Q1957.86 1513.66 1959.92 1513.66 Q1965.24 1513.66 1968.34 1516.09 Q1971.45 1518.5 1971.45 1522.62 Q1971.45 1525.49 1969.8 1527.48 Q1968.16 1529.45 1965.13 1530.21 Z\" fill=\"#000000\" fill-rule=\"evenodd\" fill-opacity=\"1\" /><path clip-path=\"url(#clip110)\" d=\"M1991.12 1517.37 Q1987.51 1517.37 1985.68 1520.93 Q1983.88 1524.47 1983.88 1531.6 Q1983.88 1538.71 1985.68 1542.27 Q1987.51 1545.82 1991.12 1545.82 Q1994.76 1545.82 1996.56 1542.27 Q1998.39 1538.71 1998.39 1531.6 Q1998.39 1524.47 1996.56 1520.93 Q1994.76 1517.37 1991.12 1517.37 M1991.12 1513.66 Q1996.93 1513.66 1999.99 1518.27 Q2003.07 1522.85 2003.07 1531.6 Q2003.07 1540.33 1999.99 1544.94 Q1996.93 1549.52 1991.12 1549.52 Q1985.31 1549.52 1982.23 1544.94 Q1979.18 1540.33 1979.18 1531.6 Q1979.18 1522.85 1982.23 1518.27 Q1985.31 1513.66 1991.12 1513.66 Z\" fill=\"#000000\" fill-rule=\"evenodd\" fill-opacity=\"1\" /><path clip-path=\"url(#clip110)\" d=\"M2021.28 1517.37 Q2017.67 1517.37 2015.84 1520.93 Q2014.04 1524.47 2014.04 1531.6 Q2014.04 1538.71 2015.84 1542.27 Q2017.67 1545.82 2021.28 1545.82 Q2024.92 1545.82 2026.72 1542.27 Q2028.55 1538.71 2028.55 1531.6 Q2028.55 1524.47 2026.72 1520.93 Q2024.92 1517.37 2021.28 1517.37 M2021.28 1513.66 Q2027.09 1513.66 2030.15 1518.27 Q2033.23 1522.85 2033.23 1531.6 Q2033.23 1540.33 2030.15 1544.94 Q2027.09 1549.52 2021.28 1549.52 Q2015.47 1549.52 2012.39 1544.94 Q2009.34 1540.33 2009.34 1531.6 Q2009.34 1522.85 2012.39 1518.27 Q2015.47 1513.66 2021.28 1513.66 Z\" fill=\"#000000\" fill-rule=\"evenodd\" fill-opacity=\"1\" /><polyline clip-path=\"url(#clip112)\" style=\"stroke:#000000; stroke-linecap:round; stroke-linejoin:round; stroke-width:2; stroke-opacity:0.1; fill:none\" points=\"141.853,1445.72 2352.76,1445.72 \"/>\n",
       "<polyline clip-path=\"url(#clip112)\" style=\"stroke:#000000; stroke-linecap:round; stroke-linejoin:round; stroke-width:2; stroke-opacity:0.1; fill:none\" points=\"141.853,993.136 2352.76,993.136 \"/>\n",
       "<polyline clip-path=\"url(#clip112)\" style=\"stroke:#000000; stroke-linecap:round; stroke-linejoin:round; stroke-width:2; stroke-opacity:0.1; fill:none\" points=\"141.853,540.556 2352.76,540.556 \"/>\n",
       "<polyline clip-path=\"url(#clip112)\" style=\"stroke:#000000; stroke-linecap:round; stroke-linejoin:round; stroke-width:2; stroke-opacity:0.1; fill:none\" points=\"141.853,87.9763 2352.76,87.9763 \"/>\n",
       "<polyline clip-path=\"url(#clip110)\" style=\"stroke:#000000; stroke-linecap:round; stroke-linejoin:round; stroke-width:4; stroke-opacity:1; fill:none\" points=\"141.853,1486.45 141.853,47.2441 \"/>\n",
       "<polyline clip-path=\"url(#clip110)\" style=\"stroke:#000000; stroke-linecap:round; stroke-linejoin:round; stroke-width:4; stroke-opacity:1; fill:none\" points=\"141.853,1445.72 160.751,1445.72 \"/>\n",
       "<polyline clip-path=\"url(#clip110)\" style=\"stroke:#000000; stroke-linecap:round; stroke-linejoin:round; stroke-width:4; stroke-opacity:1; fill:none\" points=\"141.853,993.136 160.751,993.136 \"/>\n",
       "<polyline clip-path=\"url(#clip110)\" style=\"stroke:#000000; stroke-linecap:round; stroke-linejoin:round; stroke-width:4; stroke-opacity:1; fill:none\" points=\"141.853,540.556 160.751,540.556 \"/>\n",
       "<polyline clip-path=\"url(#clip110)\" style=\"stroke:#000000; stroke-linecap:round; stroke-linejoin:round; stroke-width:4; stroke-opacity:1; fill:none\" points=\"141.853,87.9763 160.751,87.9763 \"/>\n",
       "<path clip-path=\"url(#clip110)\" d=\"M57.7745 1459.06 L74.0939 1459.06 L74.0939 1463 L52.1495 1463 L52.1495 1459.06 Q54.8115 1456.31 59.3949 1451.68 Q64.0013 1447.02 65.1819 1445.68 Q67.4272 1443.16 68.3068 1441.42 Q69.2096 1439.66 69.2096 1437.97 Q69.2096 1435.22 67.2652 1433.48 Q65.3439 1431.75 62.2421 1431.75 Q60.043 1431.75 57.5893 1432.51 Q55.1588 1433.27 52.381 1434.82 L52.381 1430.1 Q55.2051 1428.97 57.6588 1428.39 Q60.1124 1427.81 62.1495 1427.81 Q67.5198 1427.81 70.7142 1430.5 Q73.9087 1433.18 73.9087 1437.67 Q73.9087 1439.8 73.0985 1441.72 Q72.3115 1443.62 70.205 1446.21 Q69.6263 1446.88 66.5245 1450.1 Q63.4226 1453.3 57.7745 1459.06 Z\" fill=\"#000000\" fill-rule=\"evenodd\" fill-opacity=\"1\" /><path clip-path=\"url(#clip110)\" d=\"M93.9086 1431.51 Q90.2975 1431.51 88.4688 1435.08 Q86.6632 1438.62 86.6632 1445.75 Q86.6632 1452.86 88.4688 1456.42 Q90.2975 1459.96 93.9086 1459.96 Q97.5428 1459.96 99.3483 1456.42 Q101.177 1452.86 101.177 1445.75 Q101.177 1438.62 99.3483 1435.08 Q97.5428 1431.51 93.9086 1431.51 M93.9086 1427.81 Q99.7187 1427.81 102.774 1432.42 Q105.853 1437 105.853 1445.75 Q105.853 1454.48 102.774 1459.08 Q99.7187 1463.67 93.9086 1463.67 Q88.0984 1463.67 85.0197 1459.08 Q81.9642 1454.48 81.9642 1445.75 Q81.9642 1437 85.0197 1432.42 Q88.0984 1427.81 93.9086 1427.81 Z\" fill=\"#000000\" fill-rule=\"evenodd\" fill-opacity=\"1\" /><path clip-path=\"url(#clip110)\" d=\"M67.9133 991.782 Q71.2698 992.499 73.1448 994.768 Q75.0429 997.036 75.0429 1000.37 Q75.0429 1005.49 71.5244 1008.29 Q68.0059 1011.09 61.5245 1011.09 Q59.3486 1011.09 57.0338 1010.65 Q54.7421 1010.23 52.2884 1009.37 L52.2884 1004.86 Q54.2328 1005.99 56.5477 1006.57 Q58.8625 1007.15 61.3856 1007.15 Q65.7837 1007.15 68.0754 1005.42 Q70.3902 1003.68 70.3902 1000.37 Q70.3902 997.314 68.2374 995.601 Q66.1078 993.865 62.2884 993.865 L58.2606 993.865 L58.2606 990.022 L62.4735 990.022 Q65.9226 990.022 67.7513 988.657 Q69.58 987.268 69.58 984.675 Q69.58 982.013 67.6819 980.601 Q65.8069 979.166 62.2884 979.166 Q60.3671 979.166 58.168 979.583 Q55.969 979.999 53.3301 980.879 L53.3301 976.712 Q55.9921 975.972 58.3069 975.601 Q60.6449 975.231 62.705 975.231 Q68.0291 975.231 71.1309 977.661 Q74.2327 980.069 74.2327 984.189 Q74.2327 987.06 72.5892 989.05 Q70.9457 991.018 67.9133 991.782 Z\" fill=\"#000000\" fill-rule=\"evenodd\" fill-opacity=\"1\" /><path clip-path=\"url(#clip110)\" d=\"M93.9086 978.935 Q90.2975 978.935 88.4688 982.499 Q86.6632 986.041 86.6632 993.171 Q86.6632 1000.28 88.4688 1003.84 Q90.2975 1007.38 93.9086 1007.38 Q97.5428 1007.38 99.3483 1003.84 Q101.177 1000.28 101.177 993.171 Q101.177 986.041 99.3483 982.499 Q97.5428 978.935 93.9086 978.935 M93.9086 975.231 Q99.7187 975.231 102.774 979.837 Q105.853 984.421 105.853 993.171 Q105.853 1001.9 102.774 1006.5 Q99.7187 1011.09 93.9086 1011.09 Q88.0984 1011.09 85.0197 1006.5 Q81.9642 1001.9 81.9642 993.171 Q81.9642 984.421 85.0197 979.837 Q88.0984 975.231 93.9086 975.231 Z\" fill=\"#000000\" fill-rule=\"evenodd\" fill-opacity=\"1\" /><path clip-path=\"url(#clip110)\" d=\"M66.5939 527.35 L54.7884 545.799 L66.5939 545.799 L66.5939 527.35 M65.367 523.276 L71.2466 523.276 L71.2466 545.799 L76.1772 545.799 L76.1772 549.688 L71.2466 549.688 L71.2466 557.836 L66.5939 557.836 L66.5939 549.688 L50.9921 549.688 L50.9921 545.174 L65.367 523.276 Z\" fill=\"#000000\" fill-rule=\"evenodd\" fill-opacity=\"1\" /><path clip-path=\"url(#clip110)\" d=\"M93.9086 526.355 Q90.2975 526.355 88.4688 529.92 Q86.6632 533.461 86.6632 540.591 Q86.6632 547.697 88.4688 551.262 Q90.2975 554.804 93.9086 554.804 Q97.5428 554.804 99.3483 551.262 Q101.177 547.697 101.177 540.591 Q101.177 533.461 99.3483 529.92 Q97.5428 526.355 93.9086 526.355 M93.9086 522.651 Q99.7187 522.651 102.774 527.258 Q105.853 531.841 105.853 540.591 Q105.853 549.318 102.774 553.924 Q99.7187 558.507 93.9086 558.507 Q88.0984 558.507 85.0197 553.924 Q81.9642 549.318 81.9642 540.591 Q81.9642 531.841 85.0197 527.258 Q88.0984 522.651 93.9086 522.651 Z\" fill=\"#000000\" fill-rule=\"evenodd\" fill-opacity=\"1\" /><path clip-path=\"url(#clip110)\" d=\"M53.793 70.6963 L72.1494 70.6963 L72.1494 74.6314 L58.0754 74.6314 L58.0754 83.1036 Q59.0939 82.7564 60.1124 82.5944 Q61.131 82.4092 62.1495 82.4092 Q67.9365 82.4092 71.3161 85.5805 Q74.6957 88.7517 74.6957 94.1684 Q74.6957 99.747 71.2235 102.849 Q67.7513 105.928 61.4319 105.928 Q59.256 105.928 56.9875 105.557 Q54.7421 105.187 52.3347 104.446 L52.3347 99.747 Q54.418 100.881 56.6402 101.437 Q58.8625 101.992 61.3393 101.992 Q65.3439 101.992 67.6819 99.8859 Q70.0198 97.7795 70.0198 94.1684 Q70.0198 90.5573 67.6819 88.4508 Q65.3439 86.3443 61.3393 86.3443 Q59.4643 86.3443 57.5893 86.761 Q55.7375 87.1777 53.793 88.0573 L53.793 70.6963 Z\" fill=\"#000000\" fill-rule=\"evenodd\" fill-opacity=\"1\" /><path clip-path=\"url(#clip110)\" d=\"M93.9086 73.775 Q90.2975 73.775 88.4688 77.3398 Q86.6632 80.8814 86.6632 88.011 Q86.6632 95.1174 88.4688 98.6822 Q90.2975 102.224 93.9086 102.224 Q97.5428 102.224 99.3483 98.6822 Q101.177 95.1174 101.177 88.011 Q101.177 80.8814 99.3483 77.3398 Q97.5428 73.775 93.9086 73.775 M93.9086 70.0713 Q99.7187 70.0713 102.774 74.6777 Q105.853 79.261 105.853 88.011 Q105.853 96.7378 102.774 101.344 Q99.7187 105.928 93.9086 105.928 Q88.0984 105.928 85.0197 101.344 Q81.9642 96.7378 81.9642 88.011 Q81.9642 79.261 85.0197 74.6777 Q88.0984 70.0713 93.9086 70.0713 Z\" fill=\"#000000\" fill-rule=\"evenodd\" fill-opacity=\"1\" /><polyline clip-path=\"url(#clip112)\" style=\"stroke:#009af9; stroke-linecap:round; stroke-linejoin:round; stroke-width:4; stroke-opacity:1; fill:none\" points=\"204.426,1445.72 210.402,1445.72 216.378,1445.72 222.355,1445.72 228.331,1445.72 234.308,1445.72 240.284,1445.72 246.26,1445.72 252.237,1445.72 258.213,1445.72 264.189,1445.72 270.166,1445.72 276.142,1445.72 282.119,1445.72 288.095,1445.72 294.071,1445.72 300.048,1445.72 306.024,1445.72 312.001,1445.72 317.977,1445.72 323.953,1445.72 329.93,1445.72 335.906,1445.72 341.882,1445.72 347.859,1445.72 353.835,1445.72 359.812,1445.72 365.788,1445.72 371.764,1445.72 377.741,1445.72 383.717,1445.72 389.694,1445.72 395.67,1445.72 401.646,1445.72 407.623,1445.72 413.599,1445.72 419.575,1445.72 425.552,1445.72 431.528,1445.72 437.505,1445.72 443.481,1445.72 449.457,1445.72 455.434,1445.72 461.41,1445.72 467.387,1445.72 473.363,1445.72 479.339,1445.72 485.316,1445.72 491.292,1445.72 497.268,1445.72 503.245,1219.43 509.221,1219.43 515.198,1219.43 521.174,1219.43 527.15,1219.43 533.127,1219.43 539.103,1219.43 545.079,1219.43 551.056,1219.43 557.032,1219.43 563.009,1219.43 568.985,1219.43 574.961,1219.43 580.938,1219.43 586.914,1219.43 592.891,1219.43 598.867,1219.43 604.843,1219.43 610.82,1219.43 616.796,1219.43 622.772,1219.43 628.749,1219.43 634.725,1219.43 640.702,1219.43 646.678,1219.43 652.654,1219.43 658.631,1219.43 664.607,1219.43 670.584,1219.43 676.56,1219.43 682.536,1219.43 688.513,1219.43 694.489,1219.43 700.465,1219.43 706.442,1219.43 712.418,1219.43 718.395,1219.43 724.371,1219.43 730.347,1219.43 736.324,1219.43 742.3,1219.43 748.276,1219.43 754.253,1219.43 760.229,1219.43 766.206,1219.43 772.182,1219.43 778.158,1219.43 784.135,1219.43 790.111,1219.43 796.088,1219.43 802.064,993.136 808.04,993.136 814.017,993.136 819.993,993.136 825.969,993.136 831.946,993.136 837.922,993.136 843.899,993.136 849.875,993.136 855.851,993.136 861.828,993.136 867.804,993.136 873.781,993.136 879.757,993.136 885.733,993.136 891.71,993.136 897.686,993.136 903.662,993.136 909.639,993.136 915.615,993.136 921.592,993.136 927.568,993.136 933.544,993.136 939.521,993.136 945.497,993.136 951.473,993.136 957.45,993.136 963.426,993.136 969.403,993.136 975.379,993.136 981.355,993.136 987.332,993.136 993.308,993.136 999.285,993.136 1005.26,993.136 1011.24,993.136 1017.21,993.136 1023.19,993.136 1029.17,993.136 1035.14,993.136 1041.12,993.136 1047.1,993.136 1053.07,993.136 1059.05,993.136 1065.02,993.136 1071,993.136 1076.98,993.136 1082.95,993.136 1088.93,993.136 1094.91,993.136 1100.88,766.846 1106.86,766.846 1112.84,766.846 1118.81,766.846 1124.79,766.846 1130.76,766.846 1136.74,766.846 1142.72,766.846 1148.69,766.846 1154.67,766.846 1160.65,766.846 1166.62,766.846 1172.6,766.846 1178.58,766.846 1184.55,766.846 1190.53,766.846 1196.51,766.846 1202.48,766.846 1208.46,766.846 1214.43,766.846 1220.41,766.846 1226.39,766.846 1232.36,766.846 1238.34,766.846 1244.32,766.846 1250.29,766.846 1256.27,766.846 1262.25,766.846 1268.22,766.846 1274.2,766.846 1280.17,766.846 1286.15,766.846 1292.13,766.846 1298.1,766.846 1304.08,766.846 1310.06,766.846 1316.03,766.846 1322.01,766.846 1327.99,766.846 1333.96,766.846 1339.94,766.846 1345.91,766.846 1351.89,766.846 1357.87,766.846 1363.84,766.846 1369.82,766.846 1375.8,766.846 1381.77,766.846 1387.75,766.846 1393.73,766.846 1399.7,540.556 1405.68,540.556 1411.65,540.556 1417.63,540.556 1423.61,540.556 1429.58,540.556 1435.56,540.556 1441.54,540.556 1447.51,540.556 1453.49,540.556 1459.47,540.556 1465.44,540.556 1471.42,540.556 1477.4,540.556 1483.37,540.556 1489.35,540.556 1495.32,540.556 1501.3,540.556 1507.28,540.556 1513.25,540.556 1519.23,540.556 1525.21,540.556 1531.18,540.556 1537.16,540.556 1543.14,540.556 1549.11,540.556 1555.09,540.556 1561.06,540.556 1567.04,540.556 1573.02,540.556 1578.99,540.556 1584.97,540.556 1590.95,540.556 1596.92,540.556 1602.9,540.556 1608.88,540.556 1614.85,540.556 1620.83,540.556 1626.8,540.556 1632.78,540.556 1638.76,540.556 1644.73,540.556 1650.71,540.556 1656.69,540.556 1662.66,540.556 1668.64,540.556 1674.62,540.556 1680.59,540.556 1686.57,540.556 1692.54,540.556 1698.52,314.266 1704.5,314.266 1710.47,314.266 1716.45,314.266 1722.43,314.266 1728.4,314.266 1734.38,314.266 1740.36,314.266 1746.33,314.266 1752.31,314.266 1758.29,314.266 1764.26,314.266 1770.24,314.266 1776.21,314.266 1782.19,314.266 1788.17,314.266 1794.14,314.266 1800.12,314.266 1806.1,314.266 1812.07,314.266 1818.05,314.266 1824.03,314.266 1830,314.266 1835.98,314.266 1841.95,314.266 1847.93,314.266 1853.91,314.266 1859.88,314.266 1865.86,314.266 1871.84,314.266 1877.81,314.266 1883.79,314.266 1889.77,314.266 1895.74,314.266 1901.72,314.266 1907.69,314.266 1913.67,314.266 1919.65,314.266 1925.62,314.266 1931.6,314.266 1937.58,314.266 1943.55,314.266 1949.53,314.266 1955.51,314.266 1961.48,314.266 1967.46,314.266 1973.43,314.266 1979.41,314.266 1985.39,314.266 1991.36,314.266 1997.34,87.9763 2003.32,87.9763 2009.29,87.9763 2015.27,87.9763 2021.25,87.9763 2027.22,87.9763 2033.2,87.9763 2039.18,87.9763 2045.15,87.9763 2051.13,87.9763 2057.1,87.9763 2063.08,87.9763 2069.06,87.9763 2075.03,87.9763 2081.01,87.9763 2086.99,87.9763 2092.96,87.9763 2098.94,87.9763 2104.92,87.9763 2110.89,87.9763 2116.87,87.9763 2122.84,87.9763 2128.82,87.9763 2134.8,87.9763 2140.77,87.9763 2146.75,87.9763 2152.73,87.9763 2158.7,87.9763 2164.68,87.9763 2170.66,87.9763 2176.63,87.9763 2182.61,87.9763 2188.58,87.9763 2194.56,87.9763 2200.54,87.9763 2206.51,87.9763 2212.49,87.9763 2218.47,87.9763 2224.44,87.9763 2230.42,87.9763 2236.4,87.9763 2242.37,87.9763 2248.35,87.9763 2254.32,87.9763 2260.3,87.9763 2266.28,87.9763 2272.25,87.9763 2278.23,87.9763 2284.21,87.9763 2290.18,87.9763 \"/>\n",
       "<path clip-path=\"url(#clip110)\" d=\"M215.55 198.898 L489.07 198.898 L489.07 95.2176 L215.55 95.2176  Z\" fill=\"#ffffff\" fill-rule=\"evenodd\" fill-opacity=\"1\"/>\n",
       "<polyline clip-path=\"url(#clip110)\" style=\"stroke:#000000; stroke-linecap:round; stroke-linejoin:round; stroke-width:4; stroke-opacity:1; fill:none\" points=\"215.55,198.898 489.07,198.898 489.07,95.2176 215.55,95.2176 215.55,198.898 \"/>\n",
       "<polyline clip-path=\"url(#clip110)\" style=\"stroke:#009af9; stroke-linecap:round; stroke-linejoin:round; stroke-width:4; stroke-opacity:1; fill:none\" points=\"240.115,147.058 387.509,147.058 \"/>\n",
       "<path clip-path=\"url(#clip110)\" d=\"M425.917 166.745 Q424.111 171.375 422.398 172.787 Q420.685 174.199 417.815 174.199 L414.412 174.199 L414.412 170.634 L416.912 170.634 Q418.672 170.634 419.644 169.8 Q420.616 168.967 421.797 165.865 L422.56 163.921 L412.074 138.412 L416.588 138.412 L424.69 158.689 L432.792 138.412 L437.306 138.412 L425.917 166.745 Z\" fill=\"#000000\" fill-rule=\"evenodd\" fill-opacity=\"1\" /><path clip-path=\"url(#clip110)\" d=\"M444.597 160.402 L452.236 160.402 L452.236 134.037 L443.926 135.703 L443.926 131.444 L452.19 129.778 L456.866 129.778 L456.866 160.402 L464.505 160.402 L464.505 164.338 L444.597 164.338 L444.597 160.402 Z\" fill=\"#000000\" fill-rule=\"evenodd\" fill-opacity=\"1\" /></svg>\n"
      ]
     },
     "execution_count": 37,
     "metadata": {},
     "output_type": "execute_result"
    }
   ],
   "source": [
    "plot(avg_payoffs.s_values)"
   ]
  },
  {
   "cell_type": "code",
   "execution_count": 38,
   "metadata": {},
   "outputs": [
    {
     "data": {
      "image/svg+xml": [
       "<?xml version=\"1.0\" encoding=\"utf-8\"?>\n",
       "<svg xmlns=\"http://www.w3.org/2000/svg\" xmlns:xlink=\"http://www.w3.org/1999/xlink\" width=\"600\" height=\"400\" viewBox=\"0 0 2400 1600\">\n",
       "<defs>\n",
       "  <clipPath id=\"clip150\">\n",
       "    <rect x=\"0\" y=\"0\" width=\"2400\" height=\"1600\"/>\n",
       "  </clipPath>\n",
       "</defs>\n",
       "<path clip-path=\"url(#clip150)\" d=\"M0 1600 L2400 1600 L2400 0 L0 0  Z\" fill=\"#ffffff\" fill-rule=\"evenodd\" fill-opacity=\"1\"/>\n",
       "<defs>\n",
       "  <clipPath id=\"clip151\">\n",
       "    <rect x=\"480\" y=\"0\" width=\"1681\" height=\"1600\"/>\n",
       "  </clipPath>\n",
       "</defs>\n",
       "<path clip-path=\"url(#clip150)\" d=\"M170.857 1486.45 L2352.76 1486.45 L2352.76 47.2441 L170.857 47.2441  Z\" fill=\"#ffffff\" fill-rule=\"evenodd\" fill-opacity=\"1\"/>\n",
       "<defs>\n",
       "  <clipPath id=\"clip152\">\n",
       "    <rect x=\"170\" y=\"47\" width=\"2183\" height=\"1440\"/>\n",
       "  </clipPath>\n",
       "</defs>\n",
       "<polyline clip-path=\"url(#clip152)\" style=\"stroke:#000000; stroke-linecap:round; stroke-linejoin:round; stroke-width:2; stroke-opacity:0.1; fill:none\" points=\"226.711,1486.45 226.711,47.2441 \"/>\n",
       "<polyline clip-path=\"url(#clip152)\" style=\"stroke:#000000; stroke-linecap:round; stroke-linejoin:round; stroke-width:2; stroke-opacity:0.1; fill:none\" points=\"816.509,1486.45 816.509,47.2441 \"/>\n",
       "<polyline clip-path=\"url(#clip152)\" style=\"stroke:#000000; stroke-linecap:round; stroke-linejoin:round; stroke-width:2; stroke-opacity:0.1; fill:none\" points=\"1406.31,1486.45 1406.31,47.2441 \"/>\n",
       "<polyline clip-path=\"url(#clip152)\" style=\"stroke:#000000; stroke-linecap:round; stroke-linejoin:round; stroke-width:2; stroke-opacity:0.1; fill:none\" points=\"1996.11,1486.45 1996.11,47.2441 \"/>\n",
       "<polyline clip-path=\"url(#clip150)\" style=\"stroke:#000000; stroke-linecap:round; stroke-linejoin:round; stroke-width:4; stroke-opacity:1; fill:none\" points=\"170.857,1486.45 2352.76,1486.45 \"/>\n",
       "<polyline clip-path=\"url(#clip150)\" style=\"stroke:#000000; stroke-linecap:round; stroke-linejoin:round; stroke-width:4; stroke-opacity:1; fill:none\" points=\"226.711,1486.45 226.711,1467.55 \"/>\n",
       "<polyline clip-path=\"url(#clip150)\" style=\"stroke:#000000; stroke-linecap:round; stroke-linejoin:round; stroke-width:4; stroke-opacity:1; fill:none\" points=\"816.509,1486.45 816.509,1467.55 \"/>\n",
       "<polyline clip-path=\"url(#clip150)\" style=\"stroke:#000000; stroke-linecap:round; stroke-linejoin:round; stroke-width:4; stroke-opacity:1; fill:none\" points=\"1406.31,1486.45 1406.31,1467.55 \"/>\n",
       "<polyline clip-path=\"url(#clip150)\" style=\"stroke:#000000; stroke-linecap:round; stroke-linejoin:round; stroke-width:4; stroke-opacity:1; fill:none\" points=\"1996.11,1486.45 1996.11,1467.55 \"/>\n",
       "<path clip-path=\"url(#clip150)\" d=\"M226.711 1517.37 Q223.1 1517.37 221.271 1520.93 Q219.466 1524.47 219.466 1531.6 Q219.466 1538.71 221.271 1542.27 Q223.1 1545.82 226.711 1545.82 Q230.346 1545.82 232.151 1542.27 Q233.98 1538.71 233.98 1531.6 Q233.98 1524.47 232.151 1520.93 Q230.346 1517.37 226.711 1517.37 M226.711 1513.66 Q232.521 1513.66 235.577 1518.27 Q238.656 1522.85 238.656 1531.6 Q238.656 1540.33 235.577 1544.94 Q232.521 1549.52 226.711 1549.52 Q220.901 1549.52 217.822 1544.94 Q214.767 1540.33 214.767 1531.6 Q214.767 1522.85 217.822 1518.27 Q220.901 1513.66 226.711 1513.66 Z\" fill=\"#000000\" fill-rule=\"evenodd\" fill-opacity=\"1\" /><path clip-path=\"url(#clip150)\" d=\"M776.116 1544.91 L783.755 1544.91 L783.755 1518.55 L775.445 1520.21 L775.445 1515.95 L783.708 1514.29 L788.384 1514.29 L788.384 1544.91 L796.023 1544.91 L796.023 1548.85 L776.116 1548.85 L776.116 1544.91 Z\" fill=\"#000000\" fill-rule=\"evenodd\" fill-opacity=\"1\" /><path clip-path=\"url(#clip150)\" d=\"M815.468 1517.37 Q811.856 1517.37 810.028 1520.93 Q808.222 1524.47 808.222 1531.6 Q808.222 1538.71 810.028 1542.27 Q811.856 1545.82 815.468 1545.82 Q819.102 1545.82 820.907 1542.27 Q822.736 1538.71 822.736 1531.6 Q822.736 1524.47 820.907 1520.93 Q819.102 1517.37 815.468 1517.37 M815.468 1513.66 Q821.278 1513.66 824.333 1518.27 Q827.412 1522.85 827.412 1531.6 Q827.412 1540.33 824.333 1544.94 Q821.278 1549.52 815.468 1549.52 Q809.657 1549.52 806.579 1544.94 Q803.523 1540.33 803.523 1531.6 Q803.523 1522.85 806.579 1518.27 Q809.657 1513.66 815.468 1513.66 Z\" fill=\"#000000\" fill-rule=\"evenodd\" fill-opacity=\"1\" /><path clip-path=\"url(#clip150)\" d=\"M845.629 1517.37 Q842.018 1517.37 840.19 1520.93 Q838.384 1524.47 838.384 1531.6 Q838.384 1538.71 840.19 1542.27 Q842.018 1545.82 845.629 1545.82 Q849.264 1545.82 851.069 1542.27 Q852.898 1538.71 852.898 1531.6 Q852.898 1524.47 851.069 1520.93 Q849.264 1517.37 845.629 1517.37 M845.629 1513.66 Q851.44 1513.66 854.495 1518.27 Q857.574 1522.85 857.574 1531.6 Q857.574 1540.33 854.495 1544.94 Q851.44 1549.52 845.629 1549.52 Q839.819 1549.52 836.741 1544.94 Q833.685 1540.33 833.685 1531.6 Q833.685 1522.85 836.741 1518.27 Q839.819 1513.66 845.629 1513.66 Z\" fill=\"#000000\" fill-rule=\"evenodd\" fill-opacity=\"1\" /><path clip-path=\"url(#clip150)\" d=\"M1370 1544.91 L1386.32 1544.91 L1386.32 1548.85 L1364.37 1548.85 L1364.37 1544.91 Q1367.04 1542.16 1371.62 1537.53 Q1376.23 1532.88 1377.41 1531.53 Q1379.65 1529.01 1380.53 1527.27 Q1381.43 1525.51 1381.43 1523.82 Q1381.43 1521.07 1379.49 1519.33 Q1377.57 1517.6 1374.47 1517.6 Q1372.27 1517.6 1369.81 1518.36 Q1367.38 1519.13 1364.61 1520.68 L1364.61 1515.95 Q1367.43 1514.82 1369.88 1514.24 Q1372.34 1513.66 1374.37 1513.66 Q1379.74 1513.66 1382.94 1516.35 Q1386.13 1519.03 1386.13 1523.52 Q1386.13 1525.65 1385.32 1527.57 Q1384.54 1529.47 1382.43 1532.07 Q1381.85 1532.74 1378.75 1535.95 Q1375.65 1539.15 1370 1544.91 Z\" fill=\"#000000\" fill-rule=\"evenodd\" fill-opacity=\"1\" /><path clip-path=\"url(#clip150)\" d=\"M1406.13 1517.37 Q1402.52 1517.37 1400.69 1520.93 Q1398.89 1524.47 1398.89 1531.6 Q1398.89 1538.71 1400.69 1542.27 Q1402.52 1545.82 1406.13 1545.82 Q1409.77 1545.82 1411.57 1542.27 Q1413.4 1538.71 1413.4 1531.6 Q1413.4 1524.47 1411.57 1520.93 Q1409.77 1517.37 1406.13 1517.37 M1406.13 1513.66 Q1411.94 1513.66 1415 1518.27 Q1418.08 1522.85 1418.08 1531.6 Q1418.08 1540.33 1415 1544.94 Q1411.94 1549.52 1406.13 1549.52 Q1400.32 1549.52 1397.24 1544.94 Q1394.19 1540.33 1394.19 1531.6 Q1394.19 1522.85 1397.24 1518.27 Q1400.32 1513.66 1406.13 1513.66 Z\" fill=\"#000000\" fill-rule=\"evenodd\" fill-opacity=\"1\" /><path clip-path=\"url(#clip150)\" d=\"M1436.3 1517.37 Q1432.68 1517.37 1430.86 1520.93 Q1429.05 1524.47 1429.05 1531.6 Q1429.05 1538.71 1430.86 1542.27 Q1432.68 1545.82 1436.3 1545.82 Q1439.93 1545.82 1441.74 1542.27 Q1443.56 1538.71 1443.56 1531.6 Q1443.56 1524.47 1441.74 1520.93 Q1439.93 1517.37 1436.3 1517.37 M1436.3 1513.66 Q1442.11 1513.66 1445.16 1518.27 Q1448.24 1522.85 1448.24 1531.6 Q1448.24 1540.33 1445.16 1544.94 Q1442.11 1549.52 1436.3 1549.52 Q1430.49 1549.52 1427.41 1544.94 Q1424.35 1540.33 1424.35 1531.6 Q1424.35 1522.85 1427.41 1518.27 Q1430.49 1513.66 1436.3 1513.66 Z\" fill=\"#000000\" fill-rule=\"evenodd\" fill-opacity=\"1\" /><path clip-path=\"url(#clip150)\" d=\"M1969.87 1530.21 Q1973.22 1530.93 1975.1 1533.2 Q1977 1535.47 1977 1538.8 Q1977 1543.92 1973.48 1546.72 Q1969.96 1549.52 1963.48 1549.52 Q1961.3 1549.52 1958.99 1549.08 Q1956.7 1548.66 1954.24 1547.81 L1954.24 1543.29 Q1956.19 1544.43 1958.5 1545.01 Q1960.82 1545.58 1963.34 1545.58 Q1967.74 1545.58 1970.03 1543.85 Q1972.34 1542.11 1972.34 1538.8 Q1972.34 1535.75 1970.19 1534.03 Q1968.06 1532.3 1964.24 1532.3 L1960.21 1532.3 L1960.21 1528.45 L1964.43 1528.45 Q1967.88 1528.45 1969.7 1527.09 Q1971.53 1525.7 1971.53 1523.11 Q1971.53 1520.45 1969.64 1519.03 Q1967.76 1517.6 1964.24 1517.6 Q1962.32 1517.6 1960.12 1518.01 Q1957.92 1518.43 1955.28 1519.31 L1955.28 1515.14 Q1957.95 1514.4 1960.26 1514.03 Q1962.6 1513.66 1964.66 1513.66 Q1969.98 1513.66 1973.08 1516.09 Q1976.19 1518.5 1976.19 1522.62 Q1976.19 1525.49 1974.54 1527.48 Q1972.9 1529.45 1969.87 1530.21 Z\" fill=\"#000000\" fill-rule=\"evenodd\" fill-opacity=\"1\" /><path clip-path=\"url(#clip150)\" d=\"M1995.86 1517.37 Q1992.25 1517.37 1990.42 1520.93 Q1988.62 1524.47 1988.62 1531.6 Q1988.62 1538.71 1990.42 1542.27 Q1992.25 1545.82 1995.86 1545.82 Q1999.5 1545.82 2001.3 1542.27 Q2003.13 1538.71 2003.13 1531.6 Q2003.13 1524.47 2001.3 1520.93 Q1999.5 1517.37 1995.86 1517.37 M1995.86 1513.66 Q2001.67 1513.66 2004.73 1518.27 Q2007.81 1522.85 2007.81 1531.6 Q2007.81 1540.33 2004.73 1544.94 Q2001.67 1549.52 1995.86 1549.52 Q1990.05 1549.52 1986.97 1544.94 Q1983.92 1540.33 1983.92 1531.6 Q1983.92 1522.85 1986.97 1518.27 Q1990.05 1513.66 1995.86 1513.66 Z\" fill=\"#000000\" fill-rule=\"evenodd\" fill-opacity=\"1\" /><path clip-path=\"url(#clip150)\" d=\"M2026.02 1517.37 Q2022.41 1517.37 2020.58 1520.93 Q2018.78 1524.47 2018.78 1531.6 Q2018.78 1538.71 2020.58 1542.27 Q2022.41 1545.82 2026.02 1545.82 Q2029.66 1545.82 2031.46 1542.27 Q2033.29 1538.71 2033.29 1531.6 Q2033.29 1524.47 2031.46 1520.93 Q2029.66 1517.37 2026.02 1517.37 M2026.02 1513.66 Q2031.83 1513.66 2034.89 1518.27 Q2037.97 1522.85 2037.97 1531.6 Q2037.97 1540.33 2034.89 1544.94 Q2031.83 1549.52 2026.02 1549.52 Q2020.21 1549.52 2017.14 1544.94 Q2014.08 1540.33 2014.08 1531.6 Q2014.08 1522.85 2017.14 1518.27 Q2020.21 1513.66 2026.02 1513.66 Z\" fill=\"#000000\" fill-rule=\"evenodd\" fill-opacity=\"1\" /><polyline clip-path=\"url(#clip152)\" style=\"stroke:#000000; stroke-linecap:round; stroke-linejoin:round; stroke-width:2; stroke-opacity:0.1; fill:none\" points=\"170.857,1445.72 2352.76,1445.72 \"/>\n",
       "<polyline clip-path=\"url(#clip152)\" style=\"stroke:#000000; stroke-linecap:round; stroke-linejoin:round; stroke-width:2; stroke-opacity:0.1; fill:none\" points=\"170.857,1106.28 2352.76,1106.28 \"/>\n",
       "<polyline clip-path=\"url(#clip152)\" style=\"stroke:#000000; stroke-linecap:round; stroke-linejoin:round; stroke-width:2; stroke-opacity:0.1; fill:none\" points=\"170.857,766.846 2352.76,766.846 \"/>\n",
       "<polyline clip-path=\"url(#clip152)\" style=\"stroke:#000000; stroke-linecap:round; stroke-linejoin:round; stroke-width:2; stroke-opacity:0.1; fill:none\" points=\"170.857,427.411 2352.76,427.411 \"/>\n",
       "<polyline clip-path=\"url(#clip152)\" style=\"stroke:#000000; stroke-linecap:round; stroke-linejoin:round; stroke-width:2; stroke-opacity:0.1; fill:none\" points=\"170.857,87.9763 2352.76,87.9763 \"/>\n",
       "<polyline clip-path=\"url(#clip150)\" style=\"stroke:#000000; stroke-linecap:round; stroke-linejoin:round; stroke-width:4; stroke-opacity:1; fill:none\" points=\"170.857,1486.45 170.857,47.2441 \"/>\n",
       "<polyline clip-path=\"url(#clip150)\" style=\"stroke:#000000; stroke-linecap:round; stroke-linejoin:round; stroke-width:4; stroke-opacity:1; fill:none\" points=\"170.857,1445.72 189.755,1445.72 \"/>\n",
       "<polyline clip-path=\"url(#clip150)\" style=\"stroke:#000000; stroke-linecap:round; stroke-linejoin:round; stroke-width:4; stroke-opacity:1; fill:none\" points=\"170.857,1106.28 189.755,1106.28 \"/>\n",
       "<polyline clip-path=\"url(#clip150)\" style=\"stroke:#000000; stroke-linecap:round; stroke-linejoin:round; stroke-width:4; stroke-opacity:1; fill:none\" points=\"170.857,766.846 189.755,766.846 \"/>\n",
       "<polyline clip-path=\"url(#clip150)\" style=\"stroke:#000000; stroke-linecap:round; stroke-linejoin:round; stroke-width:4; stroke-opacity:1; fill:none\" points=\"170.857,427.411 189.755,427.411 \"/>\n",
       "<polyline clip-path=\"url(#clip150)\" style=\"stroke:#000000; stroke-linecap:round; stroke-linejoin:round; stroke-width:4; stroke-opacity:1; fill:none\" points=\"170.857,87.9763 189.755,87.9763 \"/>\n",
       "<path clip-path=\"url(#clip150)\" d=\"M53.3995 1459.06 L61.0384 1459.06 L61.0384 1432.69 L52.7282 1434.36 L52.7282 1430.1 L60.9921 1428.44 L65.668 1428.44 L65.668 1459.06 L73.3068 1459.06 L73.3068 1463 L53.3995 1463 L53.3995 1459.06 Z\" fill=\"#000000\" fill-rule=\"evenodd\" fill-opacity=\"1\" /><path clip-path=\"url(#clip150)\" d=\"M92.7512 1431.51 Q89.1401 1431.51 87.3114 1435.08 Q85.5058 1438.62 85.5058 1445.75 Q85.5058 1452.86 87.3114 1456.42 Q89.1401 1459.96 92.7512 1459.96 Q96.3854 1459.96 98.1909 1456.42 Q100.02 1452.86 100.02 1445.75 Q100.02 1438.62 98.1909 1435.08 Q96.3854 1431.51 92.7512 1431.51 M92.7512 1427.81 Q98.5613 1427.81 101.617 1432.42 Q104.696 1437 104.696 1445.75 Q104.696 1454.48 101.617 1459.08 Q98.5613 1463.67 92.7512 1463.67 Q86.941 1463.67 83.8623 1459.08 Q80.8068 1454.48 80.8068 1445.75 Q80.8068 1437 83.8623 1432.42 Q86.941 1427.81 92.7512 1427.81 Z\" fill=\"#000000\" fill-rule=\"evenodd\" fill-opacity=\"1\" /><path clip-path=\"url(#clip150)\" d=\"M122.913 1431.51 Q119.302 1431.51 117.473 1435.08 Q115.668 1438.62 115.668 1445.75 Q115.668 1452.86 117.473 1456.42 Q119.302 1459.96 122.913 1459.96 Q126.547 1459.96 128.353 1456.42 Q130.182 1452.86 130.182 1445.75 Q130.182 1438.62 128.353 1435.08 Q126.547 1431.51 122.913 1431.51 M122.913 1427.81 Q128.723 1427.81 131.779 1432.42 Q134.857 1437 134.857 1445.75 Q134.857 1454.48 131.779 1459.08 Q128.723 1463.67 122.913 1463.67 Q117.103 1463.67 114.024 1459.08 Q110.969 1454.48 110.969 1445.75 Q110.969 1437 114.024 1432.42 Q117.103 1427.81 122.913 1427.81 Z\" fill=\"#000000\" fill-rule=\"evenodd\" fill-opacity=\"1\" /><path clip-path=\"url(#clip150)\" d=\"M53.3995 1119.63 L61.0384 1119.63 L61.0384 1093.26 L52.7282 1094.93 L52.7282 1090.67 L60.9921 1089 L65.668 1089 L65.668 1119.63 L73.3068 1119.63 L73.3068 1123.56 L53.3995 1123.56 L53.3995 1119.63 Z\" fill=\"#000000\" fill-rule=\"evenodd\" fill-opacity=\"1\" /><path clip-path=\"url(#clip150)\" d=\"M82.7975 1089 L101.154 1089 L101.154 1092.94 L87.0799 1092.94 L87.0799 1101.41 Q88.0984 1101.06 89.1169 1100.9 Q90.1354 1100.71 91.1539 1100.71 Q96.941 1100.71 100.321 1103.89 Q103.7 1107.06 103.7 1112.47 Q103.7 1118.05 100.228 1121.15 Q96.7558 1124.23 90.4364 1124.23 Q88.2604 1124.23 85.9919 1123.86 Q83.7466 1123.49 81.3392 1122.75 L81.3392 1118.05 Q83.4225 1119.19 85.6447 1119.74 Q87.8669 1120.3 90.3438 1120.3 Q94.3484 1120.3 96.6863 1118.19 Q99.0243 1116.08 99.0243 1112.47 Q99.0243 1108.86 96.6863 1106.76 Q94.3484 1104.65 90.3438 1104.65 Q88.4688 1104.65 86.5938 1105.07 Q84.7419 1105.48 82.7975 1106.36 L82.7975 1089 Z\" fill=\"#000000\" fill-rule=\"evenodd\" fill-opacity=\"1\" /><path clip-path=\"url(#clip150)\" d=\"M122.913 1092.08 Q119.302 1092.08 117.473 1095.64 Q115.668 1099.19 115.668 1106.32 Q115.668 1113.42 117.473 1116.99 Q119.302 1120.53 122.913 1120.53 Q126.547 1120.53 128.353 1116.99 Q130.182 1113.42 130.182 1106.32 Q130.182 1099.19 128.353 1095.64 Q126.547 1092.08 122.913 1092.08 M122.913 1088.38 Q128.723 1088.38 131.779 1092.98 Q134.857 1097.57 134.857 1106.32 Q134.857 1115.04 131.779 1119.65 Q128.723 1124.23 122.913 1124.23 Q117.103 1124.23 114.024 1119.65 Q110.969 1115.04 110.969 1106.32 Q110.969 1097.57 114.024 1092.98 Q117.103 1088.38 122.913 1088.38 Z\" fill=\"#000000\" fill-rule=\"evenodd\" fill-opacity=\"1\" /><path clip-path=\"url(#clip150)\" d=\"M56.6171 780.191 L72.9365 780.191 L72.9365 784.126 L50.9921 784.126 L50.9921 780.191 Q53.6541 777.436 58.2375 772.807 Q62.8439 768.154 64.0245 766.811 Q66.2698 764.288 67.1494 762.552 Q68.0522 760.793 68.0522 759.103 Q68.0522 756.348 66.1078 754.612 Q64.1865 752.876 61.0847 752.876 Q58.8856 752.876 56.4319 753.64 Q54.0014 754.404 51.2236 755.955 L51.2236 751.233 Q54.0477 750.098 56.5014 749.52 Q58.955 748.941 60.9921 748.941 Q66.3624 748.941 69.5568 751.626 Q72.7513 754.311 72.7513 758.802 Q72.7513 760.932 71.9411 762.853 Q71.1541 764.751 69.0476 767.344 Q68.4689 768.015 65.367 771.233 Q62.2652 774.427 56.6171 780.191 Z\" fill=\"#000000\" fill-rule=\"evenodd\" fill-opacity=\"1\" /><path clip-path=\"url(#clip150)\" d=\"M92.7512 752.645 Q89.1401 752.645 87.3114 756.209 Q85.5058 759.751 85.5058 766.881 Q85.5058 773.987 87.3114 777.552 Q89.1401 781.094 92.7512 781.094 Q96.3854 781.094 98.1909 777.552 Q100.02 773.987 100.02 766.881 Q100.02 759.751 98.1909 756.209 Q96.3854 752.645 92.7512 752.645 M92.7512 748.941 Q98.5613 748.941 101.617 753.547 Q104.696 758.131 104.696 766.881 Q104.696 775.608 101.617 780.214 Q98.5613 784.797 92.7512 784.797 Q86.941 784.797 83.8623 780.214 Q80.8068 775.608 80.8068 766.881 Q80.8068 758.131 83.8623 753.547 Q86.941 748.941 92.7512 748.941 Z\" fill=\"#000000\" fill-rule=\"evenodd\" fill-opacity=\"1\" /><path clip-path=\"url(#clip150)\" d=\"M122.913 752.645 Q119.302 752.645 117.473 756.209 Q115.668 759.751 115.668 766.881 Q115.668 773.987 117.473 777.552 Q119.302 781.094 122.913 781.094 Q126.547 781.094 128.353 777.552 Q130.182 773.987 130.182 766.881 Q130.182 759.751 128.353 756.209 Q126.547 752.645 122.913 752.645 M122.913 748.941 Q128.723 748.941 131.779 753.547 Q134.857 758.131 134.857 766.881 Q134.857 775.608 131.779 780.214 Q128.723 784.797 122.913 784.797 Q117.103 784.797 114.024 780.214 Q110.969 775.608 110.969 766.881 Q110.969 758.131 114.024 753.547 Q117.103 748.941 122.913 748.941 Z\" fill=\"#000000\" fill-rule=\"evenodd\" fill-opacity=\"1\" /><path clip-path=\"url(#clip150)\" d=\"M56.6171 440.756 L72.9365 440.756 L72.9365 444.691 L50.9921 444.691 L50.9921 440.756 Q53.6541 438.001 58.2375 433.372 Q62.8439 428.719 64.0245 427.376 Q66.2698 424.853 67.1494 423.117 Q68.0522 421.358 68.0522 419.668 Q68.0522 416.914 66.1078 415.177 Q64.1865 413.441 61.0847 413.441 Q58.8856 413.441 56.4319 414.205 Q54.0014 414.969 51.2236 416.52 L51.2236 411.798 Q54.0477 410.664 56.5014 410.085 Q58.955 409.506 60.9921 409.506 Q66.3624 409.506 69.5568 412.191 Q72.7513 414.876 72.7513 419.367 Q72.7513 421.497 71.9411 423.418 Q71.1541 425.316 69.0476 427.909 Q68.4689 428.58 65.367 431.798 Q62.2652 434.992 56.6171 440.756 Z\" fill=\"#000000\" fill-rule=\"evenodd\" fill-opacity=\"1\" /><path clip-path=\"url(#clip150)\" d=\"M82.7975 410.131 L101.154 410.131 L101.154 414.066 L87.0799 414.066 L87.0799 422.538 Q88.0984 422.191 89.1169 422.029 Q90.1354 421.844 91.1539 421.844 Q96.941 421.844 100.321 425.015 Q103.7 428.187 103.7 433.603 Q103.7 439.182 100.228 442.284 Q96.7558 445.362 90.4364 445.362 Q88.2604 445.362 85.9919 444.992 Q83.7466 444.622 81.3392 443.881 L81.3392 439.182 Q83.4225 440.316 85.6447 440.872 Q87.8669 441.427 90.3438 441.427 Q94.3484 441.427 96.6863 439.321 Q99.0243 437.214 99.0243 433.603 Q99.0243 429.992 96.6863 427.886 Q94.3484 425.779 90.3438 425.779 Q88.4688 425.779 86.5938 426.196 Q84.7419 426.613 82.7975 427.492 L82.7975 410.131 Z\" fill=\"#000000\" fill-rule=\"evenodd\" fill-opacity=\"1\" /><path clip-path=\"url(#clip150)\" d=\"M122.913 413.21 Q119.302 413.21 117.473 416.775 Q115.668 420.316 115.668 427.446 Q115.668 434.552 117.473 438.117 Q119.302 441.659 122.913 441.659 Q126.547 441.659 128.353 438.117 Q130.182 434.552 130.182 427.446 Q130.182 420.316 128.353 416.775 Q126.547 413.21 122.913 413.21 M122.913 409.506 Q128.723 409.506 131.779 414.113 Q134.857 418.696 134.857 427.446 Q134.857 436.173 131.779 440.779 Q128.723 445.362 122.913 445.362 Q117.103 445.362 114.024 440.779 Q110.969 436.173 110.969 427.446 Q110.969 418.696 114.024 414.113 Q117.103 409.506 122.913 409.506 Z\" fill=\"#000000\" fill-rule=\"evenodd\" fill-opacity=\"1\" /><path clip-path=\"url(#clip150)\" d=\"M66.7559 86.6221 Q70.1124 87.3397 71.9874 89.6082 Q73.8855 91.8767 73.8855 95.21 Q73.8855 100.326 70.367 103.127 Q66.8485 105.928 60.3671 105.928 Q58.1912 105.928 55.8764 105.488 Q53.5847 105.071 51.131 104.215 L51.131 99.7008 Q53.0754 100.835 55.3903 101.414 Q57.7051 101.992 60.2282 101.992 Q64.6263 101.992 66.918 100.256 Q69.2328 98.5202 69.2328 95.21 Q69.2328 92.1545 67.08 90.4415 Q64.9504 88.7054 61.131 88.7054 L57.1032 88.7054 L57.1032 84.8629 L61.3161 84.8629 Q64.7652 84.8629 66.5939 83.4971 Q68.4226 82.1083 68.4226 79.5157 Q68.4226 76.8537 66.5245 75.4416 Q64.6495 74.0064 61.131 74.0064 Q59.2097 74.0064 57.0106 74.4231 Q54.8115 74.8398 52.1727 75.7194 L52.1727 71.5528 Q54.8347 70.812 57.1495 70.4416 Q59.4875 70.0713 61.5476 70.0713 Q66.8717 70.0713 69.9735 72.5018 Q73.0753 74.9092 73.0753 79.0296 Q73.0753 81.8999 71.4318 83.8907 Q69.7883 85.8582 66.7559 86.6221 Z\" fill=\"#000000\" fill-rule=\"evenodd\" fill-opacity=\"1\" /><path clip-path=\"url(#clip150)\" d=\"M92.7512 73.775 Q89.1401 73.775 87.3114 77.3398 Q85.5058 80.8814 85.5058 88.011 Q85.5058 95.1174 87.3114 98.6822 Q89.1401 102.224 92.7512 102.224 Q96.3854 102.224 98.1909 98.6822 Q100.02 95.1174 100.02 88.011 Q100.02 80.8814 98.1909 77.3398 Q96.3854 73.775 92.7512 73.775 M92.7512 70.0713 Q98.5613 70.0713 101.617 74.6777 Q104.696 79.261 104.696 88.011 Q104.696 96.7378 101.617 101.344 Q98.5613 105.928 92.7512 105.928 Q86.941 105.928 83.8623 101.344 Q80.8068 96.7378 80.8068 88.011 Q80.8068 79.261 83.8623 74.6777 Q86.941 70.0713 92.7512 70.0713 Z\" fill=\"#000000\" fill-rule=\"evenodd\" fill-opacity=\"1\" /><path clip-path=\"url(#clip150)\" d=\"M122.913 73.775 Q119.302 73.775 117.473 77.3398 Q115.668 80.8814 115.668 88.011 Q115.668 95.1174 117.473 98.6822 Q119.302 102.224 122.913 102.224 Q126.547 102.224 128.353 98.6822 Q130.182 95.1174 130.182 88.011 Q130.182 80.8814 128.353 77.3398 Q126.547 73.775 122.913 73.775 M122.913 70.0713 Q128.723 70.0713 131.779 74.6777 Q134.857 79.261 134.857 88.011 Q134.857 96.7378 131.779 101.344 Q128.723 105.928 122.913 105.928 Q117.103 105.928 114.024 101.344 Q110.969 96.7378 110.969 88.011 Q110.969 79.261 114.024 74.6777 Q117.103 70.0713 122.913 70.0713 Z\" fill=\"#000000\" fill-rule=\"evenodd\" fill-opacity=\"1\" /><polyline clip-path=\"url(#clip152)\" style=\"stroke:#009af9; stroke-linecap:round; stroke-linejoin:round; stroke-width:4; stroke-opacity:1; fill:none\" points=\"232.609,1445.72 238.507,1445.72 244.405,1445.72 250.303,1445.72 256.201,1445.72 262.099,1445.72 267.997,1445.72 273.895,1445.72 279.793,1445.72 285.691,1445.72 291.589,1106.28 297.487,1106.28 303.385,1106.28 309.283,1106.28 315.181,1106.28 321.079,1106.28 326.977,1106.28 332.875,1106.28 338.773,1106.28 344.671,1106.28 350.569,766.846 356.467,766.846 362.365,766.846 368.263,766.846 374.161,766.846 380.059,766.846 385.957,766.846 391.855,766.846 397.753,766.846 403.651,766.846 409.549,427.411 415.447,427.411 421.345,427.411 427.243,427.411 433.141,427.411 439.039,427.411 444.937,427.411 450.834,427.411 456.732,427.411 462.63,427.411 468.528,87.9763 474.426,87.9763 480.324,87.9763 486.222,87.9763 492.12,87.9763 498.018,87.9763 503.916,87.9763 509.814,87.9763 515.712,87.9763 521.61,87.9763 527.508,1445.72 533.406,1445.72 539.304,1445.72 545.202,1445.72 551.1,1445.72 556.998,1445.72 562.896,1445.72 568.794,1445.72 574.692,1445.72 580.59,1445.72 586.488,1106.28 592.386,1106.28 598.284,1106.28 604.182,1106.28 610.08,1106.28 615.978,1106.28 621.876,1106.28 627.774,1106.28 633.672,1106.28 639.57,1106.28 645.468,766.846 651.366,766.846 657.264,766.846 663.162,766.846 669.06,766.846 674.958,766.846 680.856,766.846 686.754,766.846 692.652,766.846 698.55,766.846 704.448,427.411 710.346,427.411 716.244,427.411 722.142,427.411 728.04,427.411 733.938,427.411 739.835,427.411 745.733,427.411 751.631,427.411 757.529,427.411 763.427,87.9763 769.325,87.9763 775.223,87.9763 781.121,87.9763 787.019,87.9763 792.917,87.9763 798.815,87.9763 804.713,87.9763 810.611,87.9763 816.509,87.9763 822.407,1445.72 828.305,1445.72 834.203,1445.72 840.101,1445.72 845.999,1445.72 851.897,1445.72 857.795,1445.72 863.693,1445.72 869.591,1445.72 875.489,1445.72 881.387,1106.28 887.285,1106.28 893.183,1106.28 899.081,1106.28 904.979,1106.28 910.877,1106.28 916.775,1106.28 922.673,1106.28 928.571,1106.28 934.469,1106.28 940.367,766.846 946.265,766.846 952.163,766.846 958.061,766.846 963.959,766.846 969.857,766.846 975.755,766.846 981.653,766.846 987.551,766.846 993.449,766.846 999.347,427.411 1005.24,427.411 1011.14,427.411 1017.04,427.411 1022.94,427.411 1028.84,427.411 1034.73,427.411 1040.63,427.411 1046.53,427.411 1052.43,427.411 1058.33,87.9763 1064.22,87.9763 1070.12,87.9763 1076.02,87.9763 1081.92,87.9763 1087.82,87.9763 1093.71,87.9763 1099.61,87.9763 1105.51,87.9763 1111.41,87.9763 1117.31,1445.72 1123.2,1445.72 1129.1,1445.72 1135,1445.72 1140.9,1445.72 1146.8,1445.72 1152.69,1445.72 1158.59,1445.72 1164.49,1445.72 1170.39,1445.72 1176.29,1106.28 1182.18,1106.28 1188.08,1106.28 1193.98,1106.28 1199.88,1106.28 1205.78,1106.28 1211.67,1106.28 1217.57,1106.28 1223.47,1106.28 1229.37,1106.28 1235.27,766.846 1241.16,766.846 1247.06,766.846 1252.96,766.846 1258.86,766.846 1264.76,766.846 1270.65,766.846 1276.55,766.846 1282.45,766.846 1288.35,766.846 1294.25,427.411 1300.14,427.411 1306.04,427.411 1311.94,427.411 1317.84,427.411 1323.74,427.411 1329.63,427.411 1335.53,427.411 1341.43,427.411 1347.33,427.411 1353.23,87.9763 1359.12,87.9763 1365.02,87.9763 1370.92,87.9763 1376.82,87.9763 1382.72,87.9763 1388.61,87.9763 1394.51,87.9763 1400.41,87.9763 1406.31,87.9763 1412.21,1445.72 1418.1,1445.72 1424,1445.72 1429.9,1445.72 1435.8,1445.72 1441.7,1445.72 1447.59,1445.72 1453.49,1445.72 1459.39,1445.72 1465.29,1445.72 1471.18,1106.28 1477.08,1106.28 1482.98,1106.28 1488.88,1106.28 1494.78,1106.28 1500.67,1106.28 1506.57,1106.28 1512.47,1106.28 1518.37,1106.28 1524.27,1106.28 1530.16,766.846 1536.06,766.846 1541.96,766.846 1547.86,766.846 1553.76,766.846 1559.65,766.846 1565.55,766.846 1571.45,766.846 1577.35,766.846 1583.25,766.846 1589.14,427.411 1595.04,427.411 1600.94,427.411 1606.84,427.411 1612.74,427.411 1618.63,427.411 1624.53,427.411 1630.43,427.411 1636.33,427.411 1642.23,427.411 1648.12,87.9763 1654.02,87.9763 1659.92,87.9763 1665.82,87.9763 1671.72,87.9763 1677.61,87.9763 1683.51,87.9763 1689.41,87.9763 1695.31,87.9763 1701.21,87.9763 1707.1,1445.72 1713,1445.72 1718.9,1445.72 1724.8,1445.72 1730.7,1445.72 1736.59,1445.72 1742.49,1445.72 1748.39,1445.72 1754.29,1445.72 1760.19,1445.72 1766.08,1106.28 1771.98,1106.28 1777.88,1106.28 1783.78,1106.28 1789.68,1106.28 1795.57,1106.28 1801.47,1106.28 1807.37,1106.28 1813.27,1106.28 1819.17,1106.28 1825.06,766.846 1830.96,766.846 1836.86,766.846 1842.76,766.846 1848.66,766.846 1854.55,766.846 1860.45,766.846 1866.35,766.846 1872.25,766.846 1878.15,766.846 1884.04,427.411 1889.94,427.411 1895.84,427.411 1901.74,427.411 1907.64,427.411 1913.53,427.411 1919.43,427.411 1925.33,427.411 1931.23,427.411 1937.13,427.411 1943.02,87.9763 1948.92,87.9763 1954.82,87.9763 1960.72,87.9763 1966.62,87.9763 1972.51,87.9763 1978.41,87.9763 1984.31,87.9763 1990.21,87.9763 1996.11,87.9763 2002,1445.72 2007.9,1445.72 2013.8,1445.72 2019.7,1445.72 2025.59,1445.72 2031.49,1445.72 2037.39,1445.72 2043.29,1445.72 2049.19,1445.72 2055.08,1445.72 2060.98,1106.28 2066.88,1106.28 2072.78,1106.28 2078.68,1106.28 2084.57,1106.28 2090.47,1106.28 2096.37,1106.28 2102.27,1106.28 2108.17,1106.28 2114.06,1106.28 2119.96,766.846 2125.86,766.846 2131.76,766.846 2137.66,766.846 2143.55,766.846 2149.45,766.846 2155.35,766.846 2161.25,766.846 2167.15,766.846 2173.04,766.846 2178.94,427.411 2184.84,427.411 2190.74,427.411 2196.64,427.411 2202.53,427.411 2208.43,427.411 2214.33,427.411 2220.23,427.411 2226.13,427.411 2232.02,427.411 2237.92,87.9763 2243.82,87.9763 2249.72,87.9763 2255.62,87.9763 2261.51,87.9763 2267.41,87.9763 2273.31,87.9763 2279.21,87.9763 2285.11,87.9763 2291,87.9763 \"/>\n",
       "<path clip-path=\"url(#clip150)\" d=\"M243.587 198.898 L514.207 198.898 L514.207 95.2176 L243.587 95.2176  Z\" fill=\"#ffffff\" fill-rule=\"evenodd\" fill-opacity=\"1\"/>\n",
       "<polyline clip-path=\"url(#clip150)\" style=\"stroke:#000000; stroke-linecap:round; stroke-linejoin:round; stroke-width:4; stroke-opacity:1; fill:none\" points=\"243.587,198.898 514.207,198.898 514.207,95.2176 243.587,95.2176 243.587,198.898 \"/>\n",
       "<polyline clip-path=\"url(#clip150)\" style=\"stroke:#009af9; stroke-linecap:round; stroke-linejoin:round; stroke-width:4; stroke-opacity:1; fill:none\" points=\"267.831,147.058 413.291,147.058 \"/>\n",
       "<path clip-path=\"url(#clip150)\" d=\"M451.376 166.745 Q449.571 171.375 447.858 172.787 Q446.145 174.199 443.275 174.199 L439.872 174.199 L439.872 170.634 L442.372 170.634 Q444.131 170.634 445.103 169.8 Q446.076 168.967 447.256 165.865 L448.02 163.921 L437.534 138.412 L442.048 138.412 L450.15 158.689 L458.251 138.412 L462.765 138.412 L451.376 166.745 Z\" fill=\"#000000\" fill-rule=\"evenodd\" fill-opacity=\"1\" /><path clip-path=\"url(#clip150)\" d=\"M470.057 160.402 L477.696 160.402 L477.696 134.037 L469.386 135.703 L469.386 131.444 L477.649 129.778 L482.325 129.778 L482.325 160.402 L489.964 160.402 L489.964 164.338 L470.057 164.338 L470.057 160.402 Z\" fill=\"#000000\" fill-rule=\"evenodd\" fill-opacity=\"1\" /></svg>\n"
      ]
     },
     "execution_count": 38,
     "metadata": {},
     "output_type": "execute_result"
    }
   ],
   "source": [
    "plot(avg_payoffs.S_values)"
   ]
  },
  {
   "cell_type": "code",
   "execution_count": 93,
   "metadata": {},
   "outputs": [
    {
     "data": {
      "image/svg+xml": [
       "<?xml version=\"1.0\" encoding=\"utf-8\"?>\n",
       "<svg xmlns=\"http://www.w3.org/2000/svg\" xmlns:xlink=\"http://www.w3.org/1999/xlink\" width=\"800\" height=\"500\" viewBox=\"0 0 3200 2000\">\n",
       "<defs>\n",
       "  <clipPath id=\"clip310\">\n",
       "    <rect x=\"0\" y=\"0\" width=\"3200\" height=\"2000\"/>\n",
       "  </clipPath>\n",
       "</defs>\n",
       "<path clip-path=\"url(#clip310)\" d=\"M0 2000 L3200 2000 L3200 0 L0 0  Z\" fill=\"#ffffff\" fill-rule=\"evenodd\" fill-opacity=\"1\"/>\n",
       "<defs>\n",
       "  <clipPath id=\"clip311\">\n",
       "    <rect x=\"640\" y=\"0\" width=\"2241\" height=\"2000\"/>\n",
       "  </clipPath>\n",
       "</defs>\n",
       "<path clip-path=\"url(#clip310)\" d=\"M239.155 1824.31 L3152.76 1824.31 L3152.76 47.2441 L239.155 47.2441  Z\" fill=\"#ffffff\" fill-rule=\"evenodd\" fill-opacity=\"1\"/>\n",
       "<defs>\n",
       "  <clipPath id=\"clip312\">\n",
       "    <rect x=\"239\" y=\"47\" width=\"2915\" height=\"1778\"/>\n",
       "  </clipPath>\n",
       "</defs>\n",
       "<polyline clip-path=\"url(#clip312)\" style=\"stroke:#000000; stroke-linecap:round; stroke-linejoin:round; stroke-width:2; stroke-opacity:0.1; fill:none\" points=\"700.744,1824.31 700.744,47.2441 \"/>\n",
       "<polyline clip-path=\"url(#clip312)\" style=\"stroke:#000000; stroke-linecap:round; stroke-linejoin:round; stroke-width:2; stroke-opacity:0.1; fill:none\" points=\"1174.65,1824.31 1174.65,47.2441 \"/>\n",
       "<polyline clip-path=\"url(#clip312)\" style=\"stroke:#000000; stroke-linecap:round; stroke-linejoin:round; stroke-width:2; stroke-opacity:0.1; fill:none\" points=\"1648.56,1824.31 1648.56,47.2441 \"/>\n",
       "<polyline clip-path=\"url(#clip312)\" style=\"stroke:#000000; stroke-linecap:round; stroke-linejoin:round; stroke-width:2; stroke-opacity:0.1; fill:none\" points=\"2122.47,1824.31 2122.47,47.2441 \"/>\n",
       "<polyline clip-path=\"url(#clip312)\" style=\"stroke:#000000; stroke-linecap:round; stroke-linejoin:round; stroke-width:2; stroke-opacity:0.1; fill:none\" points=\"2596.39,1824.31 2596.39,47.2441 \"/>\n",
       "<polyline clip-path=\"url(#clip312)\" style=\"stroke:#000000; stroke-linecap:round; stroke-linejoin:round; stroke-width:2; stroke-opacity:0.1; fill:none\" points=\"3070.3,1824.31 3070.3,47.2441 \"/>\n",
       "<polyline clip-path=\"url(#clip310)\" style=\"stroke:#000000; stroke-linecap:round; stroke-linejoin:round; stroke-width:4; stroke-opacity:1; fill:none\" points=\"239.155,1824.31 3152.76,1824.31 \"/>\n",
       "<polyline clip-path=\"url(#clip310)\" style=\"stroke:#000000; stroke-linecap:round; stroke-linejoin:round; stroke-width:4; stroke-opacity:1; fill:none\" points=\"700.744,1824.31 700.744,1805.41 \"/>\n",
       "<polyline clip-path=\"url(#clip310)\" style=\"stroke:#000000; stroke-linecap:round; stroke-linejoin:round; stroke-width:4; stroke-opacity:1; fill:none\" points=\"1174.65,1824.31 1174.65,1805.41 \"/>\n",
       "<polyline clip-path=\"url(#clip310)\" style=\"stroke:#000000; stroke-linecap:round; stroke-linejoin:round; stroke-width:4; stroke-opacity:1; fill:none\" points=\"1648.56,1824.31 1648.56,1805.41 \"/>\n",
       "<polyline clip-path=\"url(#clip310)\" style=\"stroke:#000000; stroke-linecap:round; stroke-linejoin:round; stroke-width:4; stroke-opacity:1; fill:none\" points=\"2122.47,1824.31 2122.47,1805.41 \"/>\n",
       "<polyline clip-path=\"url(#clip310)\" style=\"stroke:#000000; stroke-linecap:round; stroke-linejoin:round; stroke-width:4; stroke-opacity:1; fill:none\" points=\"2596.39,1824.31 2596.39,1805.41 \"/>\n",
       "<polyline clip-path=\"url(#clip310)\" style=\"stroke:#000000; stroke-linecap:round; stroke-linejoin:round; stroke-width:4; stroke-opacity:1; fill:none\" points=\"3070.3,1824.31 3070.3,1805.41 \"/>\n",
       "<path clip-path=\"url(#clip310)\" d=\"M691.022 1858.55 L709.378 1858.55 L709.378 1862.49 L695.304 1862.49 L695.304 1870.96 Q696.323 1870.61 697.341 1870.45 Q698.36 1870.26 699.378 1870.26 Q705.165 1870.26 708.545 1873.43 Q711.925 1876.61 711.925 1882.02 Q711.925 1887.6 708.452 1890.7 Q704.98 1893.78 698.661 1893.78 Q696.485 1893.78 694.216 1893.41 Q691.971 1893.04 689.564 1892.3 L689.564 1887.6 Q691.647 1888.73 693.869 1889.29 Q696.091 1889.85 698.568 1889.85 Q702.573 1889.85 704.911 1887.74 Q707.249 1885.63 707.249 1882.02 Q707.249 1878.41 704.911 1876.3 Q702.573 1874.2 698.568 1874.2 Q696.693 1874.2 694.818 1874.61 Q692.966 1875.03 691.022 1875.91 L691.022 1858.55 Z\" fill=\"#000000\" fill-rule=\"evenodd\" fill-opacity=\"1\" /><path clip-path=\"url(#clip310)\" d=\"M1149.34 1889.17 L1156.98 1889.17 L1156.98 1862.81 L1148.67 1864.48 L1148.67 1860.22 L1156.93 1858.55 L1161.61 1858.55 L1161.61 1889.17 L1169.25 1889.17 L1169.25 1893.11 L1149.34 1893.11 L1149.34 1889.17 Z\" fill=\"#000000\" fill-rule=\"evenodd\" fill-opacity=\"1\" /><path clip-path=\"url(#clip310)\" d=\"M1188.69 1861.63 Q1185.08 1861.63 1183.25 1865.19 Q1181.45 1868.73 1181.45 1875.86 Q1181.45 1882.97 1183.25 1886.54 Q1185.08 1890.08 1188.69 1890.08 Q1192.33 1890.08 1194.13 1886.54 Q1195.96 1882.97 1195.96 1875.86 Q1195.96 1868.73 1194.13 1865.19 Q1192.33 1861.63 1188.69 1861.63 M1188.69 1857.92 Q1194.5 1857.92 1197.56 1862.53 Q1200.64 1867.11 1200.64 1875.86 Q1200.64 1884.59 1197.56 1889.2 Q1194.5 1893.78 1188.69 1893.78 Q1182.88 1893.78 1179.8 1889.2 Q1176.75 1884.59 1176.75 1875.86 Q1176.75 1867.11 1179.8 1862.53 Q1182.88 1857.92 1188.69 1857.92 Z\" fill=\"#000000\" fill-rule=\"evenodd\" fill-opacity=\"1\" /><path clip-path=\"url(#clip310)\" d=\"M1623.75 1889.17 L1631.39 1889.17 L1631.39 1862.81 L1623.08 1864.48 L1623.08 1860.22 L1631.34 1858.55 L1636.02 1858.55 L1636.02 1889.17 L1643.66 1889.17 L1643.66 1893.11 L1623.75 1893.11 L1623.75 1889.17 Z\" fill=\"#000000\" fill-rule=\"evenodd\" fill-opacity=\"1\" /><path clip-path=\"url(#clip310)\" d=\"M1653.15 1858.55 L1671.5 1858.55 L1671.5 1862.49 L1657.43 1862.49 L1657.43 1870.96 Q1658.45 1870.61 1659.47 1870.45 Q1660.49 1870.26 1661.5 1870.26 Q1667.29 1870.26 1670.67 1873.43 Q1674.05 1876.61 1674.05 1882.02 Q1674.05 1887.6 1670.58 1890.7 Q1667.11 1893.78 1660.79 1893.78 Q1658.61 1893.78 1656.34 1893.41 Q1654.1 1893.04 1651.69 1892.3 L1651.69 1887.6 Q1653.77 1888.73 1656 1889.29 Q1658.22 1889.85 1660.69 1889.85 Q1664.7 1889.85 1667.04 1887.74 Q1669.37 1885.63 1669.37 1882.02 Q1669.37 1878.41 1667.04 1876.3 Q1664.7 1874.2 1660.69 1874.2 Q1658.82 1874.2 1656.94 1874.61 Q1655.09 1875.03 1653.15 1875.91 L1653.15 1858.55 Z\" fill=\"#000000\" fill-rule=\"evenodd\" fill-opacity=\"1\" /><path clip-path=\"url(#clip310)\" d=\"M2101.25 1889.17 L2117.57 1889.17 L2117.57 1893.11 L2095.62 1893.11 L2095.62 1889.17 Q2098.29 1886.42 2102.87 1881.79 Q2107.48 1877.14 2108.66 1875.8 Q2110.9 1873.27 2111.78 1871.54 Q2112.68 1869.78 2112.68 1868.09 Q2112.68 1865.33 2110.74 1863.6 Q2108.82 1861.86 2105.72 1861.86 Q2103.52 1861.86 2101.06 1862.62 Q2098.63 1863.39 2095.85 1864.94 L2095.85 1860.22 Q2098.68 1859.08 2101.13 1858.5 Q2103.59 1857.92 2105.62 1857.92 Q2110.99 1857.92 2114.19 1860.61 Q2117.38 1863.3 2117.38 1867.79 Q2117.38 1869.92 2116.57 1871.84 Q2115.79 1873.73 2113.68 1876.33 Q2113.1 1877 2110 1880.22 Q2106.9 1883.41 2101.25 1889.17 Z\" fill=\"#000000\" fill-rule=\"evenodd\" fill-opacity=\"1\" /><path clip-path=\"url(#clip310)\" d=\"M2137.38 1861.63 Q2133.77 1861.63 2131.94 1865.19 Q2130.14 1868.73 2130.14 1875.86 Q2130.14 1882.97 2131.94 1886.54 Q2133.77 1890.08 2137.38 1890.08 Q2141.02 1890.08 2142.82 1886.54 Q2144.65 1882.97 2144.65 1875.86 Q2144.65 1868.73 2142.82 1865.19 Q2141.02 1861.63 2137.38 1861.63 M2137.38 1857.92 Q2143.19 1857.92 2146.25 1862.53 Q2149.33 1867.11 2149.33 1875.86 Q2149.33 1884.59 2146.25 1889.2 Q2143.19 1893.78 2137.38 1893.78 Q2131.57 1893.78 2128.49 1889.2 Q2125.44 1884.59 2125.44 1875.86 Q2125.44 1867.11 2128.49 1862.53 Q2131.57 1857.92 2137.38 1857.92 Z\" fill=\"#000000\" fill-rule=\"evenodd\" fill-opacity=\"1\" /><path clip-path=\"url(#clip310)\" d=\"M2575.66 1889.17 L2591.98 1889.17 L2591.98 1893.11 L2570.03 1893.11 L2570.03 1889.17 Q2572.69 1886.42 2577.28 1881.79 Q2581.88 1877.14 2583.06 1875.8 Q2585.31 1873.27 2586.19 1871.54 Q2587.09 1869.78 2587.09 1868.09 Q2587.09 1865.33 2585.15 1863.6 Q2583.23 1861.86 2580.12 1861.86 Q2577.92 1861.86 2575.47 1862.62 Q2573.04 1863.39 2570.26 1864.94 L2570.26 1860.22 Q2573.09 1859.08 2575.54 1858.5 Q2577.99 1857.92 2580.03 1857.92 Q2585.4 1857.92 2588.6 1860.61 Q2591.79 1863.3 2591.79 1867.79 Q2591.79 1869.92 2590.98 1871.84 Q2590.19 1873.73 2588.09 1876.33 Q2587.51 1877 2584.41 1880.22 Q2581.3 1883.41 2575.66 1889.17 Z\" fill=\"#000000\" fill-rule=\"evenodd\" fill-opacity=\"1\" /><path clip-path=\"url(#clip310)\" d=\"M2601.84 1858.55 L2620.19 1858.55 L2620.19 1862.49 L2606.12 1862.49 L2606.12 1870.96 Q2607.14 1870.61 2608.16 1870.45 Q2609.17 1870.26 2610.19 1870.26 Q2615.98 1870.26 2619.36 1873.43 Q2622.74 1876.61 2622.74 1882.02 Q2622.74 1887.6 2619.27 1890.7 Q2615.79 1893.78 2609.48 1893.78 Q2607.3 1893.78 2605.03 1893.41 Q2602.79 1893.04 2600.38 1892.3 L2600.38 1887.6 Q2602.46 1888.73 2604.68 1889.29 Q2606.91 1889.85 2609.38 1889.85 Q2613.39 1889.85 2615.73 1887.74 Q2618.06 1885.63 2618.06 1882.02 Q2618.06 1878.41 2615.73 1876.3 Q2613.39 1874.2 2609.38 1874.2 Q2607.51 1874.2 2605.63 1874.61 Q2603.78 1875.03 2601.84 1875.91 L2601.84 1858.55 Z\" fill=\"#000000\" fill-rule=\"evenodd\" fill-opacity=\"1\" /><path clip-path=\"url(#clip310)\" d=\"M3059.14 1874.48 Q3062.49 1875.19 3064.37 1877.46 Q3066.27 1879.73 3066.27 1883.06 Q3066.27 1888.18 3062.75 1890.98 Q3059.23 1893.78 3052.75 1893.78 Q3050.57 1893.78 3048.26 1893.34 Q3045.97 1892.92 3043.51 1892.07 L3043.51 1887.55 Q3045.46 1888.69 3047.77 1889.27 Q3050.09 1889.85 3052.61 1889.85 Q3057.01 1889.85 3059.3 1888.11 Q3061.62 1886.37 3061.62 1883.06 Q3061.62 1880.01 3059.46 1878.3 Q3057.33 1876.56 3053.51 1876.56 L3049.49 1876.56 L3049.49 1872.72 L3053.7 1872.72 Q3057.15 1872.72 3058.98 1871.35 Q3060.8 1869.96 3060.8 1867.37 Q3060.8 1864.71 3058.91 1863.3 Q3057.03 1861.86 3053.51 1861.86 Q3051.59 1861.86 3049.39 1862.28 Q3047.19 1862.69 3044.55 1863.57 L3044.55 1859.41 Q3047.22 1858.67 3049.53 1858.3 Q3051.87 1857.92 3053.93 1857.92 Q3059.25 1857.92 3062.36 1860.36 Q3065.46 1862.76 3065.46 1866.88 Q3065.46 1869.75 3063.81 1871.74 Q3062.17 1873.71 3059.14 1874.48 Z\" fill=\"#000000\" fill-rule=\"evenodd\" fill-opacity=\"1\" /><path clip-path=\"url(#clip310)\" d=\"M3085.13 1861.63 Q3081.52 1861.63 3079.69 1865.19 Q3077.89 1868.73 3077.89 1875.86 Q3077.89 1882.97 3079.69 1886.54 Q3081.52 1890.08 3085.13 1890.08 Q3088.77 1890.08 3090.57 1886.54 Q3092.4 1882.97 3092.4 1875.86 Q3092.4 1868.73 3090.57 1865.19 Q3088.77 1861.63 3085.13 1861.63 M3085.13 1857.92 Q3090.94 1857.92 3094 1862.53 Q3097.08 1867.11 3097.08 1875.86 Q3097.08 1884.59 3094 1889.2 Q3090.94 1893.78 3085.13 1893.78 Q3079.32 1893.78 3076.24 1889.2 Q3073.19 1884.59 3073.19 1875.86 Q3073.19 1867.11 3076.24 1862.53 Q3079.32 1857.92 3085.13 1857.92 Z\" fill=\"#000000\" fill-rule=\"evenodd\" fill-opacity=\"1\" /><path clip-path=\"url(#clip310)\" d=\"M1689.96 1959.66 L1689.96 1981.17 L1684.1 1981.17 L1684.1 1959.85 Q1684.1 1954.79 1682.13 1952.27 Q1680.15 1949.76 1676.21 1949.76 Q1671.46 1949.76 1668.73 1952.78 Q1665.99 1955.81 1665.99 1961.03 L1665.99 1981.17 L1660.1 1981.17 L1660.1 1945.53 L1665.99 1945.53 L1665.99 1951.06 Q1668.09 1947.85 1670.92 1946.26 Q1673.79 1944.67 1677.51 1944.67 Q1683.65 1944.67 1686.8 1948.49 Q1689.96 1952.27 1689.96 1959.66 Z\" fill=\"#000000\" fill-rule=\"evenodd\" fill-opacity=\"1\" /><path clip-path=\"url(#clip310)\" d=\"M1715.45 1949.63 Q1710.74 1949.63 1708 1953.32 Q1705.27 1956.98 1705.27 1963.38 Q1705.27 1969.78 1707.97 1973.47 Q1710.71 1977.13 1715.45 1977.13 Q1720.13 1977.13 1722.87 1973.44 Q1725.6 1969.75 1725.6 1963.38 Q1725.6 1957.05 1722.87 1953.36 Q1720.13 1949.63 1715.45 1949.63 M1715.45 1944.67 Q1723.09 1944.67 1727.45 1949.63 Q1731.81 1954.6 1731.81 1963.38 Q1731.81 1972.13 1727.45 1977.13 Q1723.09 1982.1 1715.45 1982.1 Q1707.78 1982.1 1703.42 1977.13 Q1699.09 1972.13 1699.09 1963.38 Q1699.09 1954.6 1703.42 1949.63 Q1707.78 1944.67 1715.45 1944.67 Z\" fill=\"#000000\" fill-rule=\"evenodd\" fill-opacity=\"1\" /><polyline clip-path=\"url(#clip312)\" style=\"stroke:#000000; stroke-linecap:round; stroke-linejoin:round; stroke-width:2; stroke-opacity:0.1; fill:none\" points=\"239.155,1774.02 3152.76,1774.02 \"/>\n",
       "<polyline clip-path=\"url(#clip312)\" style=\"stroke:#000000; stroke-linecap:round; stroke-linejoin:round; stroke-width:2; stroke-opacity:0.1; fill:none\" points=\"239.155,1215.19 3152.76,1215.19 \"/>\n",
       "<polyline clip-path=\"url(#clip312)\" style=\"stroke:#000000; stroke-linecap:round; stroke-linejoin:round; stroke-width:2; stroke-opacity:0.1; fill:none\" points=\"239.155,656.364 3152.76,656.364 \"/>\n",
       "<polyline clip-path=\"url(#clip312)\" style=\"stroke:#000000; stroke-linecap:round; stroke-linejoin:round; stroke-width:2; stroke-opacity:0.1; fill:none\" points=\"239.155,97.5384 3152.76,97.5384 \"/>\n",
       "<polyline clip-path=\"url(#clip310)\" style=\"stroke:#000000; stroke-linecap:round; stroke-linejoin:round; stroke-width:4; stroke-opacity:1; fill:none\" points=\"239.155,1824.31 239.155,47.2441 \"/>\n",
       "<polyline clip-path=\"url(#clip310)\" style=\"stroke:#000000; stroke-linecap:round; stroke-linejoin:round; stroke-width:4; stroke-opacity:1; fill:none\" points=\"239.155,1774.02 258.053,1774.02 \"/>\n",
       "<polyline clip-path=\"url(#clip310)\" style=\"stroke:#000000; stroke-linecap:round; stroke-linejoin:round; stroke-width:4; stroke-opacity:1; fill:none\" points=\"239.155,1215.19 258.053,1215.19 \"/>\n",
       "<polyline clip-path=\"url(#clip310)\" style=\"stroke:#000000; stroke-linecap:round; stroke-linejoin:round; stroke-width:4; stroke-opacity:1; fill:none\" points=\"239.155,656.364 258.053,656.364 \"/>\n",
       "<polyline clip-path=\"url(#clip310)\" style=\"stroke:#000000; stroke-linecap:round; stroke-linejoin:round; stroke-width:4; stroke-opacity:1; fill:none\" points=\"239.155,97.5384 258.053,97.5384 \"/>\n",
       "<path clip-path=\"url(#clip310)\" d=\"M179.211 1759.81 Q175.6 1759.81 173.771 1763.38 Q171.966 1766.92 171.966 1774.05 Q171.966 1781.16 173.771 1784.72 Q175.6 1788.26 179.211 1788.26 Q182.845 1788.26 184.651 1784.72 Q186.48 1781.16 186.48 1774.05 Q186.48 1766.92 184.651 1763.38 Q182.845 1759.81 179.211 1759.81 M179.211 1756.11 Q185.021 1756.11 188.077 1760.72 Q191.155 1765.3 191.155 1774.05 Q191.155 1782.78 188.077 1787.38 Q185.021 1791.97 179.211 1791.97 Q173.401 1791.97 170.322 1787.38 Q167.267 1782.78 167.267 1774.05 Q167.267 1765.3 170.322 1760.72 Q173.401 1756.11 179.211 1756.11 Z\" fill=\"#000000\" fill-rule=\"evenodd\" fill-opacity=\"1\" /><path clip-path=\"url(#clip310)\" d=\"M109.698 1228.53 L117.336 1228.53 L117.336 1202.17 L109.026 1203.84 L109.026 1199.58 L117.29 1197.91 L121.966 1197.91 L121.966 1228.53 L129.605 1228.53 L129.605 1232.47 L109.698 1232.47 L109.698 1228.53 Z\" fill=\"#000000\" fill-rule=\"evenodd\" fill-opacity=\"1\" /><path clip-path=\"url(#clip310)\" d=\"M149.049 1200.99 Q145.438 1200.99 143.609 1204.55 Q141.804 1208.09 141.804 1215.22 Q141.804 1222.33 143.609 1225.9 Q145.438 1229.44 149.049 1229.44 Q152.683 1229.44 154.489 1225.9 Q156.318 1222.33 156.318 1215.22 Q156.318 1208.09 154.489 1204.55 Q152.683 1200.99 149.049 1200.99 M149.049 1197.28 Q154.859 1197.28 157.915 1201.89 Q160.994 1206.47 160.994 1215.22 Q160.994 1223.95 157.915 1228.56 Q154.859 1233.14 149.049 1233.14 Q143.239 1233.14 140.16 1228.56 Q137.105 1223.95 137.105 1215.22 Q137.105 1206.47 140.16 1201.89 Q143.239 1197.28 149.049 1197.28 Z\" fill=\"#000000\" fill-rule=\"evenodd\" fill-opacity=\"1\" /><path clip-path=\"url(#clip310)\" d=\"M179.211 1200.99 Q175.6 1200.99 173.771 1204.55 Q171.966 1208.09 171.966 1215.22 Q171.966 1222.33 173.771 1225.9 Q175.6 1229.44 179.211 1229.44 Q182.845 1229.44 184.651 1225.9 Q186.48 1222.33 186.48 1215.22 Q186.48 1208.09 184.651 1204.55 Q182.845 1200.99 179.211 1200.99 M179.211 1197.28 Q185.021 1197.28 188.077 1201.89 Q191.155 1206.47 191.155 1215.22 Q191.155 1223.95 188.077 1228.56 Q185.021 1233.14 179.211 1233.14 Q173.401 1233.14 170.322 1228.56 Q167.267 1223.95 167.267 1215.22 Q167.267 1206.47 170.322 1201.89 Q173.401 1197.28 179.211 1197.28 Z\" fill=\"#000000\" fill-rule=\"evenodd\" fill-opacity=\"1\" /><path clip-path=\"url(#clip310)\" d=\"M112.915 669.709 L129.234 669.709 L129.234 673.644 L107.29 673.644 L107.29 669.709 Q109.952 666.954 114.535 662.325 Q119.142 657.672 120.322 656.329 Q122.568 653.806 123.447 652.07 Q124.35 650.311 124.35 648.621 Q124.35 645.866 122.406 644.13 Q120.485 642.394 117.383 642.394 Q115.184 642.394 112.73 643.158 Q110.299 643.922 107.522 645.473 L107.522 640.751 Q110.346 639.617 112.799 639.038 Q115.253 638.459 117.29 638.459 Q122.66 638.459 125.855 641.144 Q129.049 643.829 129.049 648.32 Q129.049 650.45 128.239 652.371 Q127.452 654.269 125.346 656.862 Q124.767 657.533 121.665 660.751 Q118.563 663.945 112.915 669.709 Z\" fill=\"#000000\" fill-rule=\"evenodd\" fill-opacity=\"1\" /><path clip-path=\"url(#clip310)\" d=\"M149.049 642.163 Q145.438 642.163 143.609 645.728 Q141.804 649.269 141.804 656.399 Q141.804 663.505 143.609 667.07 Q145.438 670.612 149.049 670.612 Q152.683 670.612 154.489 667.07 Q156.318 663.505 156.318 656.399 Q156.318 649.269 154.489 645.728 Q152.683 642.163 149.049 642.163 M149.049 638.459 Q154.859 638.459 157.915 643.066 Q160.994 647.649 160.994 656.399 Q160.994 665.126 157.915 669.732 Q154.859 674.315 149.049 674.315 Q143.239 674.315 140.16 669.732 Q137.105 665.126 137.105 656.399 Q137.105 647.649 140.16 643.066 Q143.239 638.459 149.049 638.459 Z\" fill=\"#000000\" fill-rule=\"evenodd\" fill-opacity=\"1\" /><path clip-path=\"url(#clip310)\" d=\"M179.211 642.163 Q175.6 642.163 173.771 645.728 Q171.966 649.269 171.966 656.399 Q171.966 663.505 173.771 667.07 Q175.6 670.612 179.211 670.612 Q182.845 670.612 184.651 667.07 Q186.48 663.505 186.48 656.399 Q186.48 649.269 184.651 645.728 Q182.845 642.163 179.211 642.163 M179.211 638.459 Q185.021 638.459 188.077 643.066 Q191.155 647.649 191.155 656.399 Q191.155 665.126 188.077 669.732 Q185.021 674.315 179.211 674.315 Q173.401 674.315 170.322 669.732 Q167.267 665.126 167.267 656.399 Q167.267 647.649 170.322 643.066 Q173.401 638.459 179.211 638.459 Z\" fill=\"#000000\" fill-rule=\"evenodd\" fill-opacity=\"1\" /><path clip-path=\"url(#clip310)\" d=\"M123.054 96.1842 Q126.41 96.9018 128.285 99.1703 Q130.184 101.439 130.184 104.772 Q130.184 109.888 126.665 112.689 Q123.147 115.49 116.665 115.49 Q114.489 115.49 112.174 115.05 Q109.883 114.633 107.429 113.777 L107.429 109.263 Q109.373 110.397 111.688 110.976 Q114.003 111.555 116.526 111.555 Q120.924 111.555 123.216 109.818 Q125.531 108.082 125.531 104.772 Q125.531 101.717 123.378 100.004 Q121.248 98.2676 117.429 98.2676 L113.401 98.2676 L113.401 94.425 L117.614 94.425 Q121.063 94.425 122.892 93.0593 Q124.721 91.6704 124.721 89.0778 Q124.721 86.4158 122.822 85.0038 Q120.947 83.5686 117.429 83.5686 Q115.508 83.5686 113.309 83.9852 Q111.11 84.4019 108.471 85.2815 L108.471 81.1149 Q111.133 80.3741 113.448 80.0038 Q115.785 79.6334 117.846 79.6334 Q123.17 79.6334 126.272 82.064 Q129.373 84.4713 129.373 88.5917 Q129.373 91.4621 127.73 93.4528 Q126.086 95.4204 123.054 96.1842 Z\" fill=\"#000000\" fill-rule=\"evenodd\" fill-opacity=\"1\" /><path clip-path=\"url(#clip310)\" d=\"M149.049 83.3371 Q145.438 83.3371 143.609 86.9019 Q141.804 90.4435 141.804 97.5731 Q141.804 104.68 143.609 108.244 Q145.438 111.786 149.049 111.786 Q152.683 111.786 154.489 108.244 Q156.318 104.68 156.318 97.5731 Q156.318 90.4435 154.489 86.9019 Q152.683 83.3371 149.049 83.3371 M149.049 79.6334 Q154.859 79.6334 157.915 84.2399 Q160.994 88.8232 160.994 97.5731 Q160.994 106.3 157.915 110.906 Q154.859 115.49 149.049 115.49 Q143.239 115.49 140.16 110.906 Q137.105 106.3 137.105 97.5731 Q137.105 88.8232 140.16 84.2399 Q143.239 79.6334 149.049 79.6334 Z\" fill=\"#000000\" fill-rule=\"evenodd\" fill-opacity=\"1\" /><path clip-path=\"url(#clip310)\" d=\"M179.211 83.3371 Q175.6 83.3371 173.771 86.9019 Q171.966 90.4435 171.966 97.5731 Q171.966 104.68 173.771 108.244 Q175.6 111.786 179.211 111.786 Q182.845 111.786 184.651 108.244 Q186.48 104.68 186.48 97.5731 Q186.48 90.4435 184.651 86.9019 Q182.845 83.3371 179.211 83.3371 M179.211 79.6334 Q185.021 79.6334 188.077 84.2399 Q191.155 88.8232 191.155 97.5731 Q191.155 106.3 188.077 110.906 Q185.021 115.49 179.211 115.49 Q173.401 115.49 170.322 110.906 Q167.267 106.3 167.267 97.5731 Q167.267 88.8232 170.322 84.2399 Q173.401 79.6334 179.211 79.6334 Z\" fill=\"#000000\" fill-rule=\"evenodd\" fill-opacity=\"1\" /><path clip-path=\"url(#clip310)\" d=\"M9.3862 1202.8 L9.3862 1196.95 L37.2043 1189.63 L9.3862 1182.34 L9.3862 1175.43 L37.2043 1168.11 L9.3862 1160.82 L9.3862 1154.96 L45.0342 1164.29 L45.0342 1171.2 L15.8156 1178.87 L45.0342 1186.57 L45.0342 1193.48 L9.3862 1202.8 Z\" fill=\"#000000\" fill-rule=\"evenodd\" fill-opacity=\"1\" /><path clip-path=\"url(#clip310)\" d=\"M27.1147 1129.88 Q27.1147 1136.98 28.7379 1139.72 Q30.3612 1142.46 34.2761 1142.46 Q37.3953 1142.46 39.2414 1140.42 Q41.0556 1138.35 41.0556 1134.82 Q41.0556 1129.95 37.6181 1127.02 Q34.1488 1124.06 28.4197 1124.06 L27.1147 1124.06 L27.1147 1129.88 M24.6957 1118.2 L45.0342 1118.2 L45.0342 1124.06 L39.6233 1124.06 Q42.8698 1126.06 44.4294 1129.06 Q45.9572 1132.05 45.9572 1136.38 Q45.9572 1141.85 42.9016 1145.1 Q39.8143 1148.31 34.6581 1148.31 Q28.6425 1148.31 25.5869 1144.3 Q22.5314 1140.26 22.5314 1132.27 L22.5314 1124.06 L21.9585 1124.06 Q17.9162 1124.06 15.7201 1126.73 Q13.4921 1129.37 13.4921 1134.18 Q13.4921 1137.24 14.2241 1140.13 Q14.9562 1143.03 16.4203 1145.7 L11.0095 1145.7 Q9.76814 1142.49 9.1634 1139.46 Q8.52683 1136.44 8.52683 1133.58 Q8.52683 1125.84 12.5372 1122.02 Q16.5476 1118.2 24.6957 1118.2 Z\" fill=\"#000000\" fill-rule=\"evenodd\" fill-opacity=\"1\" /><path clip-path=\"url(#clip310)\" d=\"M14.8607 1085.48 Q14.2878 1086.47 14.0332 1087.65 Q13.7467 1088.79 13.7467 1090.19 Q13.7467 1095.16 16.9932 1097.83 Q20.2079 1100.47 26.2553 1100.47 L45.0342 1100.47 L45.0342 1106.36 L9.3862 1106.36 L9.3862 1100.47 L14.9244 1100.47 Q11.6779 1098.63 10.1183 1095.67 Q8.52683 1092.71 8.52683 1088.47 Q8.52683 1087.87 8.62232 1087.14 Q8.68597 1086.41 8.84512 1085.51 L14.8607 1085.48 Z\" fill=\"#000000\" fill-rule=\"evenodd\" fill-opacity=\"1\" /><path clip-path=\"url(#clip310)\" d=\"M25.7461 1050.28 L28.6106 1050.28 L28.6106 1077.21 Q34.6581 1076.83 37.8409 1073.58 Q40.9919 1070.3 40.9919 1064.48 Q40.9919 1061.1 40.1644 1057.95 Q39.3369 1054.77 37.6818 1051.65 L43.2199 1051.65 Q44.5567 1054.8 45.257 1058.11 Q45.9572 1061.42 45.9572 1064.83 Q45.9572 1073.36 40.9919 1078.35 Q36.0267 1083.32 27.5603 1083.32 Q18.8074 1083.32 13.6831 1078.61 Q8.52683 1073.87 8.52683 1065.84 Q8.52683 1058.65 13.1738 1054.48 Q17.7889 1050.28 25.7461 1050.28 M24.0273 1056.14 Q19.2212 1056.2 16.3566 1058.84 Q13.4921 1061.45 13.4921 1065.78 Q13.4921 1070.68 16.2612 1073.64 Q19.0302 1076.57 24.0592 1077.02 L24.0273 1056.14 Z\" fill=\"#000000\" fill-rule=\"evenodd\" fill-opacity=\"1\" /><path clip-path=\"url(#clip310)\" d=\"M23.5181 1011.04 L45.0342 1011.04 L45.0342 1016.89 L23.709 1016.89 Q18.6483 1016.89 16.1338 1018.87 Q13.6194 1020.84 13.6194 1024.79 Q13.6194 1029.53 16.6431 1032.27 Q19.6668 1035 24.8867 1035 L45.0342 1035 L45.0342 1040.89 L-4.49104 1040.89 L-4.49104 1035 L14.9244 1035 Q11.7097 1032.9 10.1183 1030.07 Q8.52683 1027.2 8.52683 1023.48 Q8.52683 1017.34 12.3463 1014.19 Q16.1338 1011.04 23.5181 1011.04 Z\" fill=\"#000000\" fill-rule=\"evenodd\" fill-opacity=\"1\" /><path clip-path=\"url(#clip310)\" d=\"M13.4921 985.541 Q13.4921 990.252 17.1842 992.989 Q20.8445 995.726 27.242 995.726 Q33.6395 995.726 37.3317 993.021 Q40.9919 990.283 40.9919 985.541 Q40.9919 980.862 37.2998 978.125 Q33.6077 975.388 27.242 975.388 Q20.9081 975.388 17.216 978.125 Q13.4921 980.862 13.4921 985.541 M8.52683 985.541 Q8.52683 977.902 13.4921 973.542 Q18.4573 969.181 27.242 969.181 Q35.9949 969.181 40.9919 973.542 Q45.9572 977.902 45.9572 985.541 Q45.9572 993.212 40.9919 997.572 Q35.9949 1001.9 27.242 1001.9 Q18.4573 1001.9 13.4921 997.572 Q8.52683 993.212 8.52683 985.541 Z\" fill=\"#000000\" fill-rule=\"evenodd\" fill-opacity=\"1\" /><path clip-path=\"url(#clip310)\" d=\"M30.9659 960.078 L9.3862 960.078 L9.3862 954.222 L30.7431 954.222 Q35.8039 954.222 38.3502 952.248 Q40.8646 950.275 40.8646 946.328 Q40.8646 941.586 37.8409 938.848 Q34.8172 936.079 29.5973 936.079 L9.3862 936.079 L9.3862 930.223 L45.0342 930.223 L45.0342 936.079 L39.5596 936.079 Q42.8062 938.212 44.3976 941.045 Q45.9572 943.846 45.9572 947.569 Q45.9572 953.712 42.1378 956.895 Q38.3183 960.078 30.9659 960.078 M8.52683 945.341 L8.52683 945.341 Z\" fill=\"#000000\" fill-rule=\"evenodd\" fill-opacity=\"1\" /><path clip-path=\"url(#clip310)\" d=\"M10.4365 895.434 L15.9747 895.434 Q14.7016 897.917 14.065 900.591 Q13.4284 903.264 13.4284 906.129 Q13.4284 910.489 14.7652 912.685 Q16.102 914.85 18.7756 914.85 Q20.8126 914.85 21.9903 913.29 Q23.1361 911.731 24.1865 907.02 L24.6321 905.015 Q25.9689 898.776 28.4197 896.166 Q30.8386 893.525 35.1991 893.525 Q40.1644 893.525 43.0608 897.471 Q45.9572 901.386 45.9572 908.261 Q45.9572 911.126 45.3843 914.245 Q44.8432 917.332 43.7292 920.77 L37.6818 920.77 Q39.3687 917.523 40.228 914.372 Q41.0556 911.221 41.0556 908.134 Q41.0556 903.996 39.6551 901.768 Q38.2229 899.54 35.6447 899.54 Q33.2576 899.54 31.9845 901.163 Q30.7113 902.755 29.5337 908.198 L29.0562 910.235 Q27.9104 915.677 25.5551 918.096 Q23.168 920.515 19.0302 920.515 Q14.0013 920.515 11.2641 916.95 Q8.52683 913.386 8.52683 906.829 Q8.52683 903.582 9.00426 900.718 Q9.48169 897.853 10.4365 895.434 Z\" fill=\"#000000\" fill-rule=\"evenodd\" fill-opacity=\"1\" /><path clip-path=\"url(#clip310)\" d=\"M25.7461 853.707 L28.6106 853.707 L28.6106 880.634 Q34.6581 880.252 37.8409 877.006 Q40.9919 873.727 40.9919 867.903 Q40.9919 864.529 40.1644 861.378 Q39.3369 858.195 37.6818 855.076 L43.2199 855.076 Q44.5567 858.227 45.257 861.537 Q45.9572 864.847 45.9572 868.253 Q45.9572 876.783 40.9919 881.78 Q36.0267 886.745 27.5603 886.745 Q18.8074 886.745 13.6831 882.034 Q8.52683 877.292 8.52683 869.271 Q8.52683 862.078 13.1738 857.908 Q17.7889 853.707 25.7461 853.707 M24.0273 859.564 Q19.2212 859.627 16.3566 862.269 Q13.4921 864.879 13.4921 869.208 Q13.4921 874.109 16.2612 877.069 Q19.0302 879.997 24.0592 880.443 L24.0273 859.564 Z\" fill=\"#000000\" fill-rule=\"evenodd\" fill-opacity=\"1\" /><path clip-path=\"url(#clip310)\" d=\"M55.8559 817.009 L60.4073 817.009 L60.4073 850.874 L55.8559 850.874 L55.8559 817.009 Z\" fill=\"#000000\" fill-rule=\"evenodd\" fill-opacity=\"1\" /><path clip-path=\"url(#clip310)\" d=\"M-4.49104 811.502 L-4.49104 805.646 L45.0342 805.646 L45.0342 811.502 L-4.49104 811.502 Z\" fill=\"#000000\" fill-rule=\"evenodd\" fill-opacity=\"1\" /><path clip-path=\"url(#clip310)\" d=\"M25.7461 762.9 L28.6106 762.9 L28.6106 789.827 Q34.6581 789.445 37.8409 786.199 Q40.9919 782.92 40.9919 777.096 Q40.9919 773.722 40.1644 770.571 Q39.3369 767.388 37.6818 764.269 L43.2199 764.269 Q44.5567 767.42 45.257 770.73 Q45.9572 774.04 45.9572 777.446 Q45.9572 785.976 40.9919 790.973 Q36.0267 795.938 27.5603 795.938 Q18.8074 795.938 13.6831 791.228 Q8.52683 786.485 8.52683 778.464 Q8.52683 771.271 13.1738 767.102 Q17.7889 762.9 25.7461 762.9 M24.0273 768.757 Q19.2212 768.82 16.3566 771.462 Q13.4921 774.072 13.4921 778.401 Q13.4921 783.302 16.2612 786.262 Q19.0302 789.191 24.0592 789.636 L24.0273 768.757 Z\" fill=\"#000000\" fill-rule=\"evenodd\" fill-opacity=\"1\" /><path clip-path=\"url(#clip310)\" d=\"M9.3862 757.489 L9.3862 751.283 L39.305 740.143 L9.3862 729.003 L9.3862 722.796 L45.0342 736.164 L45.0342 744.121 L9.3862 757.489 Z\" fill=\"#000000\" fill-rule=\"evenodd\" fill-opacity=\"1\" /><path clip-path=\"url(#clip310)\" d=\"M25.7461 684.22 L28.6106 684.22 L28.6106 711.147 Q34.6581 710.765 37.8409 707.519 Q40.9919 704.24 40.9919 698.416 Q40.9919 695.042 40.1644 691.891 Q39.3369 688.708 37.6818 685.589 L43.2199 685.589 Q44.5567 688.74 45.257 692.05 Q45.9572 695.36 45.9572 698.766 Q45.9572 707.296 40.9919 712.293 Q36.0267 717.258 27.5603 717.258 Q18.8074 717.258 13.6831 712.548 Q8.52683 707.805 8.52683 699.784 Q8.52683 692.591 13.1738 688.422 Q17.7889 684.22 25.7461 684.22 M24.0273 690.077 Q19.2212 690.14 16.3566 692.782 Q13.4921 695.392 13.4921 699.721 Q13.4921 704.622 16.2612 707.582 Q19.0302 710.511 24.0592 710.956 L24.0273 690.077 Z\" fill=\"#000000\" fill-rule=\"evenodd\" fill-opacity=\"1\" /><path clip-path=\"url(#clip310)\" d=\"M-4.49104 674.608 L-4.49104 668.751 L45.0342 668.751 L45.0342 674.608 L-4.49104 674.608 Z\" fill=\"#000000\" fill-rule=\"evenodd\" fill-opacity=\"1\" /><polyline clip-path=\"url(#clip312)\" style=\"stroke:#009af9; stroke-linecap:round; stroke-linejoin:round; stroke-width:4; stroke-opacity:1; fill:none\" points=\"321.616,1215.19 416.398,1332.54 511.18,1438.72 605.962,1561.66 700.744,1662.25 795.526,1751.66 890.308,1774.02 985.09,1774.02 1079.87,1215.19 1174.65,1321.37 1269.44,1405.19 1364.22,1466.66 1459,1561.66 1553.78,1662.25 1648.56,1751.66 1743.35,1774.02 1838.13,1215.19 1932.91,1310.19 2027.69,1433.13 2122.47,1505.78 2217.26,1595.19 2312.04,1695.78 2406.82,1215.19 2501.6,1354.9 2596.39,1466.66 2691.17,1533.72 2785.95,1651.07 2880.73,1215.19 2975.51,1360.48 3070.3,1472.25 \"/>\n",
       "<polyline clip-path=\"url(#clip312)\" style=\"stroke:#e26f46; stroke-linecap:round; stroke-linejoin:round; stroke-width:4; stroke-opacity:1; fill:none\" points=\"321.616,1215.19 416.398,1321.37 511.18,1427.54 605.962,1556.07 700.744,1706.96 795.526,1215.19 890.308,1360.48 985.09,1421.96 1079.87,1505.78 1174.65,1623.13 1269.44,1215.19 1364.22,1321.37 1459,1449.9 1553.78,1589.6 1648.56,1215.19 1743.35,1315.78 1838.13,1427.54 1932.91,1567.25 2027.69,1215.19 2122.47,1326.95 2217.26,1461.07 2312.04,1595.19 2406.82,1684.6 2501.6,1774.02 2596.39,1215.19 2691.17,1343.72 2785.95,1483.43 2880.73,1623.13 2975.51,1215.19 3070.3,1349.31 \"/>\n",
       "<polyline clip-path=\"url(#clip312)\" style=\"stroke:#3da44d; stroke-linecap:round; stroke-linejoin:round; stroke-width:4; stroke-opacity:1; fill:none\" points=\"321.616,1215.19 416.398,1315.78 511.18,1483.43 605.962,1584.01 700.744,1706.96 795.526,1774.02 890.308,1215.19 985.09,1315.78 1079.87,1438.72 1174.65,1539.31 1269.44,1623.13 1364.22,1215.19 1459,1310.19 1553.78,1433.13 1648.56,1494.6 1743.35,1611.96 1838.13,1215.19 1932.91,1299.01 2027.69,1410.78 2122.47,1505.78 2217.26,1645.49 2312.04,1215.19 2406.82,1293.43 2501.6,1399.6 2596.39,1539.31 2691.17,1656.66 2785.95,1215.19 2880.73,1360.48 2975.51,1449.9 3070.3,1561.66 \"/>\n",
       "<polyline clip-path=\"url(#clip312)\" style=\"stroke:#c271d2; stroke-linecap:round; stroke-linejoin:round; stroke-width:4; stroke-opacity:1; fill:none\" points=\"321.616,1215.19 416.398,1338.13 511.18,1489.01 605.962,1572.84 700.744,1679.02 795.526,1215.19 890.308,1371.66 985.09,1494.6 1079.87,1628.72 1174.65,1215.19 1269.44,1326.95 1364.22,1449.9 1459,1600.78 1553.78,1729.31 1648.56,1774.02 1743.35,1774.02 1838.13,1774.02 1932.91,1215.19 2027.69,1310.19 2122.47,1405.19 2217.26,1505.78 2312.04,1623.13 2406.82,1740.49 2501.6,1774.02 2596.39,1774.02 2691.17,1215.19 2785.95,1299.01 2880.73,1410.78 2975.51,1522.54 3070.3,1656.66 \"/>\n",
       "<polyline clip-path=\"url(#clip312)\" style=\"stroke:#ac8d18; stroke-linecap:round; stroke-linejoin:round; stroke-width:4; stroke-opacity:1; fill:none\" points=\"321.616,1215.19 416.398,1321.37 511.18,1405.19 605.962,1511.37 700.744,1578.43 795.526,1215.19 890.308,1354.9 985.09,1438.72 1079.87,1556.07 1174.65,1651.07 1269.44,1215.19 1364.22,1304.6 1459,1438.72 1553.78,1567.25 1648.56,1684.6 1743.35,1774.02 1838.13,1215.19 1932.91,1326.95 2027.69,1438.72 2122.47,1578.43 2217.26,1718.13 2312.04,1215.19 2406.82,1388.43 2501.6,1494.6 2596.39,1589.6 2691.17,1723.72 2785.95,1215.19 2880.73,1349.31 2975.51,1444.31 3070.3,1561.66 \"/>\n",
       "<polyline clip-path=\"url(#clip312)\" style=\"stroke:#00a9ad; stroke-linecap:round; stroke-linejoin:round; stroke-width:4; stroke-opacity:1; fill:none\" points=\"321.616,1215.19 416.398,1321.37 511.18,1399.6 605.962,1522.54 700.744,1667.84 795.526,1215.19 890.308,1287.84 985.09,1410.78 1079.87,1533.72 1174.65,1215.19 1269.44,1343.72 1364.22,1505.78 1459,1617.54 1553.78,1215.19 1648.56,1315.78 1743.35,1410.78 1838.13,1539.31 1932.91,1215.19 2027.69,1310.19 2122.47,1416.37 2217.26,1500.19 2312.04,1578.43 2406.82,1718.13 2501.6,1215.19 2596.39,1287.84 2691.17,1377.25 2785.95,1477.84 2880.73,1595.19 2975.51,1718.13 3070.3,1774.02 \"/>\n",
       "<polyline clip-path=\"url(#clip312)\" style=\"stroke:#ed5d92; stroke-linecap:round; stroke-linejoin:round; stroke-width:4; stroke-opacity:1; fill:none\" points=\"321.616,1215.19 416.398,1321.37 511.18,1438.72 605.962,1595.19 700.744,1215.19 795.526,1338.13 890.308,1455.48 985.09,1578.43 1079.87,1701.37 1174.65,1774.02 1269.44,1215.19 1364.22,1338.13 1459,1466.66 1553.78,1600.78 1648.56,1718.13 1743.35,1774.02 1838.13,1774.02 1932.91,1215.19 2027.69,1276.66 2122.47,1371.66 2217.26,1516.96 2312.04,1662.25 2406.82,1215.19 2501.6,1382.84 2596.39,1528.13 2691.17,1628.72 2785.95,1215.19 2880.73,1310.19 2975.51,1382.84 3070.3,1494.6 \"/>\n",
       "<polyline clip-path=\"url(#clip312)\" style=\"stroke:#c68125; stroke-linecap:round; stroke-linejoin:round; stroke-width:4; stroke-opacity:1; fill:none\" points=\"321.616,1215.19 416.398,1338.13 511.18,1466.66 605.962,1584.01 700.744,1215.19 795.526,1304.6 890.308,1438.72 985.09,1550.49 1079.87,1639.9 1174.65,1734.9 1269.44,1215.19 1364.22,1371.66 1459,1494.6 1553.78,1589.6 1648.56,1667.84 1743.35,1774.02 1838.13,1774.02 1932.91,1215.19 2027.69,1388.43 2122.47,1494.6 2217.26,1628.72 2312.04,1712.54 2406.82,1774.02 2501.6,1215.19 2596.39,1304.6 2691.17,1354.9 2785.95,1494.6 2880.73,1600.78 2975.51,1215.19 3070.3,1310.19 \"/>\n",
       "<polyline clip-path=\"url(#clip312)\" style=\"stroke:#00a98d; stroke-linecap:round; stroke-linejoin:round; stroke-width:4; stroke-opacity:1; fill:none\" points=\"321.616,1215.19 416.398,1394.01 511.18,1533.72 605.962,1651.07 700.744,1215.19 795.526,1354.9 890.308,1433.13 985.09,1533.72 1079.87,1215.19 1174.65,1315.78 1269.44,1444.31 1364.22,1567.25 1459,1215.19 1553.78,1310.19 1648.56,1438.72 1743.35,1539.31 1838.13,1617.54 1932.91,1215.19 2027.69,1366.07 2122.47,1455.48 2217.26,1572.84 2312.04,1651.07 2406.82,1762.84 2501.6,1774.02 2596.39,1774.02 2691.17,1215.19 2785.95,1304.6 2880.73,1427.54 2975.51,1556.07 3070.3,1215.19 \"/>\n",
       "<polyline clip-path=\"url(#clip312)\" style=\"stroke:#8e971d; stroke-linecap:round; stroke-linejoin:round; stroke-width:4; stroke-opacity:1; fill:none\" points=\"321.616,1215.19 416.398,1293.43 511.18,1394.01 605.962,1516.96 700.744,1639.9 795.526,1215.19 890.308,1304.6 985.09,1416.37 1079.87,1561.66 1174.65,1215.19 1269.44,1304.6 1364.22,1399.6 1459,1528.13 1553.78,1656.66 1648.56,1215.19 1743.35,1315.78 1838.13,1399.6 1932.91,1528.13 2027.69,1617.54 2122.47,1774.02 2217.26,1774.02 2312.04,1774.02 2406.82,1774.02 2501.6,1215.19 2596.39,1299.01 2691.17,1433.13 2785.95,1511.37 2880.73,1578.43 2975.51,1679.02 3070.3,1774.02 \"/>\n",
       "<polyline clip-path=\"url(#clip312)\" style=\"stroke:#00a8cb; stroke-linecap:round; stroke-linejoin:round; stroke-width:4; stroke-opacity:1; fill:none\" points=\"321.616,1215.19 416.398,1310.19 511.18,1405.19 605.962,1522.54 700.744,1623.13 795.526,935.777 890.308,1025.19 985.09,1153.72 1079.87,1243.13 1174.65,1326.95 1269.44,1388.43 1364.22,1500.19 1459,1584.01 1553.78,1729.31 1648.56,935.777 1743.35,1064.31 1838.13,1148.13 1932.91,1237.54 2027.69,1315.78 2122.47,1449.9 2217.26,1584.01 2312.04,935.777 2406.82,997.248 2501.6,1125.78 2596.39,1265.48 2691.17,1343.72 2785.95,1494.6 2880.73,1578.43 2975.51,935.777 3070.3,1036.37 \"/>\n",
       "<polyline clip-path=\"url(#clip312)\" style=\"stroke:#9b7fe8; stroke-linecap:round; stroke-linejoin:round; stroke-width:4; stroke-opacity:1; fill:none\" points=\"321.616,1215.19 416.398,1394.01 511.18,1500.19 605.962,1639.9 700.744,935.777 795.526,1086.66 890.308,1164.9 985.09,1271.07 1079.87,1388.43 1174.65,1500.19 1269.44,935.777 1364.22,1058.72 1459,1192.84 1553.78,1310.19 1648.56,1399.6 1743.35,1494.6 1838.13,1595.19 1932.91,935.777 2027.69,1025.19 2122.47,1097.84 2217.26,1198.43 2312.04,1338.13 2406.82,1427.54 2501.6,1528.13 2596.39,935.777 2691.17,1069.9 2785.95,1142.54 2880.73,1259.9 2975.51,1360.48 3070.3,1449.9 \"/>\n",
       "<polyline clip-path=\"url(#clip312)\" style=\"stroke:#608cf6; stroke-linecap:round; stroke-linejoin:round; stroke-width:4; stroke-opacity:1; fill:none\" points=\"321.616,1215.19 416.398,1332.54 511.18,1416.37 605.962,1522.54 700.744,1690.19 795.526,935.777 890.308,1069.9 985.09,1142.54 1079.87,1299.01 1174.65,1427.54 1269.44,1500.19 1364.22,1623.13 1459,935.777 1553.78,1064.31 1648.56,1198.43 1743.35,1310.19 1838.13,1461.07 1932.91,1533.72 2027.69,935.777 2122.47,1041.95 2217.26,1131.37 2312.04,1276.66 2406.82,1366.07 2501.6,1466.66 2596.39,1556.07 2691.17,935.777 2785.95,1036.37 2880.73,1114.6 2975.51,1209.6 3070.3,1293.43 \"/>\n",
       "<polyline clip-path=\"url(#clip312)\" style=\"stroke:#f05f73; stroke-linecap:round; stroke-linejoin:round; stroke-width:4; stroke-opacity:1; fill:none\" points=\"321.616,1215.19 416.398,1354.9 511.18,1455.48 605.962,1556.07 700.744,1673.43 795.526,935.777 890.308,1008.42 985.09,1136.95 1079.87,1282.25 1174.65,1360.48 1269.44,1472.25 1364.22,1578.43 1459,1673.43 1553.78,1774.02 1648.56,935.777 1743.35,997.248 1838.13,1114.6 1932.91,1192.84 2027.69,1293.43 2122.47,1405.19 2217.26,1528.13 2312.04,1639.9 2406.82,935.777 2501.6,1058.72 2596.39,1170.48 2691.17,1287.84 2785.95,1377.25 2880.73,1477.84 2975.51,1600.78 3070.3,935.777 \"/>\n",
       "<polyline clip-path=\"url(#clip312)\" style=\"stroke:#dd64b5; stroke-linecap:round; stroke-linejoin:round; stroke-width:4; stroke-opacity:1; fill:none\" points=\"321.616,1215.19 416.398,1310.19 511.18,1394.01 605.962,1489.01 700.744,1578.43 795.526,1639.9 890.308,935.777 985.09,1019.6 1079.87,1142.54 1174.65,1271.07 1269.44,1399.6 1364.22,1477.84 1459,1567.25 1553.78,1684.6 1648.56,1774.02 1743.35,1774.02 1838.13,1774.02 1932.91,1774.02 2027.69,1774.02 2122.47,1774.02 2217.26,1774.02 2312.04,1774.02 2406.82,935.777 2501.6,1025.19 2596.39,1125.78 2691.17,1248.72 2785.95,1315.78 2880.73,1405.19 2975.51,1500.19 3070.3,1584.01 \"/>\n",
       "<polyline clip-path=\"url(#clip312)\" style=\"stroke:#6b9e32; stroke-linecap:round; stroke-linejoin:round; stroke-width:4; stroke-opacity:1; fill:none\" points=\"321.616,1215.19 416.398,1332.54 511.18,1449.9 605.962,1550.49 700.744,935.777 795.526,1081.07 890.308,1237.54 985.09,1349.31 1079.87,1455.48 1174.65,1578.43 1269.44,1634.31 1364.22,1723.72 1459,935.777 1553.78,1036.37 1648.56,1142.54 1743.35,1271.07 1838.13,1366.07 1932.91,1516.96 2027.69,1651.07 2122.47,935.777 2217.26,1019.6 2312.04,1142.54 2406.82,1226.37 2501.6,1360.48 2596.39,1477.84 2691.17,1572.84 2785.95,1690.19 2880.73,935.777 2975.51,1036.37 3070.3,1142.54 \"/>\n",
       "<polyline clip-path=\"url(#clip312)\" style=\"stroke:#009af9; stroke-linecap:round; stroke-linejoin:round; stroke-width:4; stroke-opacity:1; fill:none\" points=\"321.616,1215.19 416.398,1321.37 511.18,1405.19 605.962,1511.37 700.744,1600.78 795.526,935.777 890.308,1019.6 985.09,1131.37 1079.87,1282.25 1174.65,1388.43 1269.44,1483.43 1364.22,1578.43 1459,935.777 1553.78,1030.78 1648.56,1153.72 1743.35,1299.01 1838.13,1394.01 1932.91,1483.43 2027.69,1589.6 2122.47,1695.78 2217.26,1774.02 2312.04,935.777 2406.82,1030.78 2501.6,1125.78 2596.39,1237.54 2691.17,1321.37 2785.95,1466.66 2880.73,1567.25 2975.51,1645.49 3070.3,1751.66 \"/>\n",
       "<polyline clip-path=\"url(#clip312)\" style=\"stroke:#e26f46; stroke-linecap:round; stroke-linejoin:round; stroke-width:4; stroke-opacity:1; fill:none\" points=\"321.616,1215.19 416.398,1338.13 511.18,1410.78 605.962,1500.19 700.744,1628.72 795.526,935.777 890.308,1025.19 985.09,1170.48 1079.87,1259.9 1174.65,1377.25 1269.44,1438.72 1364.22,1584.01 1459,935.777 1553.78,1041.95 1648.56,1204.01 1743.35,1343.72 1838.13,1427.54 1932.91,1539.31 2027.69,1623.13 2122.47,935.777 2217.26,1030.78 2312.04,1153.72 2406.82,1248.72 2501.6,1338.13 2596.39,1449.9 2691.17,1550.49 2785.95,1656.66 2880.73,1762.84 2975.51,1774.02 3070.3,1774.02 \"/>\n",
       "<polyline clip-path=\"url(#clip312)\" style=\"stroke:#3da44d; stroke-linecap:round; stroke-linejoin:round; stroke-width:4; stroke-opacity:1; fill:none\" points=\"321.616,1215.19 416.398,1338.13 511.18,1427.54 605.962,1544.9 700.744,1673.43 795.526,1774.02 890.308,1774.02 985.09,935.777 1079.87,1064.31 1174.65,1187.25 1269.44,1343.72 1364.22,1421.96 1459,1561.66 1553.78,1701.37 1648.56,935.777 1743.35,1053.13 1838.13,1181.66 1932.91,1276.66 2027.69,1377.25 2122.47,1477.84 2217.26,1600.78 2312.04,935.777 2406.82,1075.48 2501.6,1181.66 2596.39,1299.01 2691.17,1405.19 2785.95,1556.07 2880.73,1634.31 2975.51,1740.49 3070.3,1774.02 \"/>\n",
       "<polyline clip-path=\"url(#clip312)\" style=\"stroke:#c271d2; stroke-linecap:round; stroke-linejoin:round; stroke-width:4; stroke-opacity:1; fill:none\" points=\"321.616,1215.19 416.398,1304.6 511.18,1427.54 605.962,1561.66 700.744,935.777 795.526,1064.31 890.308,1148.13 985.09,1282.25 1079.87,1354.9 1174.65,1438.72 1269.44,1528.13 1364.22,1617.54 1459,935.777 1553.78,1047.54 1648.56,1159.31 1743.35,1259.9 1838.13,1366.07 1932.91,1466.66 2027.69,1595.19 2122.47,1673.43 2217.26,1774.02 2312.04,1774.02 2406.82,935.777 2501.6,1014.01 2596.39,1125.78 2691.17,1231.95 2785.95,1354.9 2880.73,1466.66 2975.51,1578.43 3070.3,1701.37 \"/>\n",
       "<polyline clip-path=\"url(#clip312)\" style=\"stroke:#ac8d18; stroke-linecap:round; stroke-linejoin:round; stroke-width:4; stroke-opacity:1; fill:none\" points=\"321.616,1215.19 416.398,1326.95 511.18,1449.9 605.962,1572.84 700.744,656.364 795.526,706.658 890.308,818.424 985.09,924.6 1079.87,1041.95 1174.65,1142.54 1269.44,1282.25 1364.22,1377.25 1459,1472.25 1553.78,1600.78 1648.56,656.364 1743.35,762.541 1838.13,879.894 1932.91,997.248 2027.69,1125.78 2122.47,1243.13 2217.26,1349.31 2312.04,1461.07 2406.82,1561.66 2501.6,1656.66 2596.39,656.364 2691.17,768.129 2785.95,840.777 2880.73,997.248 2975.51,1125.78 3070.3,1220.78 \"/>\n",
       "<polyline clip-path=\"url(#clip312)\" style=\"stroke:#00a9ad; stroke-linecap:round; stroke-linejoin:round; stroke-width:4; stroke-opacity:1; fill:none\" points=\"321.616,1215.19 416.398,1315.78 511.18,1382.84 605.962,1539.31 700.744,656.364 795.526,717.835 890.308,846.365 985.09,958.13 1079.87,1047.54 1174.65,1136.95 1269.44,1265.48 1364.22,1366.07 1459,1522.54 1553.78,1645.49 1648.56,656.364 1743.35,768.129 1838.13,851.953 1932.91,969.307 2027.69,1041.95 2122.47,1153.72 2217.26,1226.37 2312.04,1349.31 2406.82,1455.48 2501.6,1550.49 2596.39,656.364 2691.17,779.306 2785.95,885.483 2880.73,1058.72 2975.51,1192.84 3070.3,1338.13 \"/>\n",
       "<polyline clip-path=\"url(#clip312)\" style=\"stroke:#ed5d92; stroke-linecap:round; stroke-linejoin:round; stroke-width:4; stroke-opacity:1; fill:none\" points=\"321.616,1215.19 416.398,1304.6 511.18,1416.37 605.962,1522.54 700.744,1656.66 795.526,656.364 890.308,751.364 985.09,840.777 1079.87,935.777 1174.65,1069.9 1269.44,1170.48 1364.22,1299.01 1459,1377.25 1553.78,1461.07 1648.56,1561.66 1743.35,1639.9 1838.13,656.364 1932.91,773.718 2027.69,902.247 2122.47,1058.72 2217.26,1204.01 2312.04,1287.84 2406.82,1382.84 2501.6,1466.66 2596.39,1628.72 2691.17,1757.25 2785.95,1774.02 2880.73,1774.02 2975.51,1774.02 3070.3,656.364 \"/>\n",
       "<polyline clip-path=\"url(#clip312)\" style=\"stroke:#c68125; stroke-linecap:round; stroke-linejoin:round; stroke-width:4; stroke-opacity:1; fill:none\" points=\"321.616,1215.19 416.398,1332.54 511.18,1477.84 605.962,1617.54 700.744,656.364 795.526,745.776 890.308,879.894 985.09,969.307 1079.87,1103.42 1174.65,1164.9 1269.44,1276.66 1364.22,1405.19 1459,1539.31 1553.78,1684.6 1648.56,1774.02 1743.35,1774.02 1838.13,656.364 1932.91,734.6 2027.69,812.835 2122.47,913.424 2217.26,1014.01 2312.04,1114.6 2406.82,1237.54 2501.6,1382.84 2596.39,1472.25 2691.17,1584.01 2785.95,1673.43 2880.73,1757.25 2975.51,656.364 3070.3,812.835 \"/>\n",
       "<polyline clip-path=\"url(#clip312)\" style=\"stroke:#00a98d; stroke-linecap:round; stroke-linejoin:round; stroke-width:4; stroke-opacity:1; fill:none\" points=\"321.616,1215.19 416.398,1304.6 511.18,1388.43 605.962,1500.19 700.744,1617.54 795.526,656.364 890.308,779.306 985.09,874.306 1079.87,1030.78 1174.65,1103.42 1269.44,1243.13 1364.22,1388.43 1459,1533.72 1553.78,1656.66 1648.56,1757.25 1743.35,656.364 1838.13,756.953 1932.91,846.365 2027.69,902.247 2122.47,1030.78 2217.26,1148.13 2312.04,1243.13 2406.82,1326.95 2501.6,1433.13 2596.39,1578.43 2691.17,1662.25 2785.95,656.364 2880.73,768.129 2975.51,896.659 3070.3,980.483 \"/>\n",
       "<polyline clip-path=\"url(#clip312)\" style=\"stroke:#8e971d; stroke-linecap:round; stroke-linejoin:round; stroke-width:4; stroke-opacity:1; fill:none\" points=\"321.616,1215.19 416.398,1326.95 511.18,1494.6 605.962,1606.37 700.744,1718.13 795.526,1774.02 890.308,656.364 985.09,740.188 1079.87,840.777 1174.65,935.777 1269.44,1030.78 1364.22,1142.54 1459,1265.48 1553.78,1377.25 1648.56,1455.48 1743.35,1533.72 1838.13,1595.19 1932.91,1679.02 2027.69,1768.43 2122.47,656.364 2217.26,829.6 2312.04,919.012 2406.82,980.483 2501.6,1075.48 2596.39,1220.78 2691.17,1310.19 2785.95,1399.6 2880.73,1500.19 2975.51,1595.19 3070.3,656.364 \"/>\n",
       "<polyline clip-path=\"url(#clip312)\" style=\"stroke:#00a8cb; stroke-linecap:round; stroke-linejoin:round; stroke-width:4; stroke-opacity:1; fill:none\" points=\"321.616,1215.19 416.398,1343.72 511.18,1489.01 605.962,1623.13 700.744,1718.13 795.526,656.364 890.308,768.129 985.09,879.894 1079.87,1008.42 1174.65,1109.01 1269.44,1226.37 1364.22,1343.72 1459,1416.37 1553.78,1595.19 1648.56,656.364 1743.35,745.776 1838.13,840.777 1932.91,952.542 2027.69,1092.25 2122.47,1220.78 2217.26,1382.84 2312.04,1500.19 2406.82,1595.19 2501.6,1712.54 2596.39,656.364 2691.17,729.011 2785.95,863.13 2880.73,1002.84 2975.51,1103.42 3070.3,1226.37 \"/>\n",
       "<polyline clip-path=\"url(#clip312)\" style=\"stroke:#9b7fe8; stroke-linecap:round; stroke-linejoin:round; stroke-width:4; stroke-opacity:1; fill:none\" points=\"321.616,1215.19 416.398,1282.25 511.18,1394.01 605.962,1489.01 700.744,1606.37 795.526,656.364 890.308,801.659 985.09,930.189 1079.87,1047.54 1174.65,1159.31 1269.44,1231.95 1364.22,1287.84 1459,1394.01 1553.78,1494.6 1648.56,1589.6 1743.35,1673.43 1838.13,656.364 1932.91,723.423 2027.69,874.306 2122.47,1002.84 2217.26,1058.72 2312.04,1148.13 2406.82,1271.07 2501.6,1338.13 2596.39,1438.72 2691.17,1561.66 2785.95,1645.49 2880.73,1751.66 2975.51,1774.02 3070.3,656.364 \"/>\n",
       "<polyline clip-path=\"url(#clip312)\" style=\"stroke:#608cf6; stroke-linecap:round; stroke-linejoin:round; stroke-width:4; stroke-opacity:1; fill:none\" points=\"321.616,1215.19 416.398,1299.01 511.18,1410.78 605.962,1539.31 700.744,1623.13 795.526,1757.25 890.308,656.364 985.09,784.894 1079.87,857.541 1174.65,946.953 1269.44,1053.13 1364.22,1181.66 1459,1315.78 1553.78,1388.43 1648.56,1522.54 1743.35,1673.43 1838.13,1774.02 1932.91,1774.02 2027.69,1774.02 2122.47,1774.02 2217.26,1774.02 2312.04,656.364 2406.82,723.423 2501.6,846.365 2596.39,958.13 2691.17,1064.31 2785.95,1220.78 2880.73,1343.72 2975.51,1449.9 3070.3,1578.43 \"/>\n",
       "<polyline clip-path=\"url(#clip312)\" style=\"stroke:#f05f73; stroke-linecap:round; stroke-linejoin:round; stroke-width:4; stroke-opacity:1; fill:none\" points=\"321.616,1215.19 416.398,1371.66 511.18,1528.13 605.962,1639.9 700.744,656.364 795.526,790.482 890.308,879.894 985.09,958.13 1079.87,1025.19 1174.65,1136.95 1269.44,1226.37 1364.22,1310.19 1459,1394.01 1553.78,1500.19 1648.56,1623.13 1743.35,1757.25 1838.13,1774.02 1932.91,656.364 2027.69,768.129 2122.47,857.541 2217.26,974.895 2312.04,1125.78 2406.82,1254.31 2501.6,1382.84 2596.39,1511.37 2691.17,1656.66 2785.95,1774.02 2880.73,1774.02 2975.51,1774.02 3070.3,656.364 \"/>\n",
       "<polyline clip-path=\"url(#clip312)\" style=\"stroke:#dd64b5; stroke-linecap:round; stroke-linejoin:round; stroke-width:4; stroke-opacity:1; fill:none\" points=\"321.616,1215.19 416.398,1332.54 511.18,1466.66 605.962,1606.37 700.744,1706.96 795.526,376.951 890.308,522.246 985.09,611.658 1079.87,673.129 1174.65,779.306 1269.44,896.659 1364.22,1041.95 1459,1136.95 1553.78,1271.07 1648.56,1377.25 1743.35,1494.6 1838.13,1628.72 1932.91,376.951 2027.69,527.834 2122.47,678.717 2217.26,807.247 2312.04,930.189 2406.82,1064.31 2501.6,1164.9 2596.39,1271.07 2691.17,1377.25 2785.95,1505.78 2880.73,1634.31 2975.51,1734.9 3070.3,376.951 \"/>\n",
       "<polyline clip-path=\"url(#clip312)\" style=\"stroke:#6b9e32; stroke-linecap:round; stroke-linejoin:round; stroke-width:4; stroke-opacity:1; fill:none\" points=\"321.616,1215.19 416.398,1310.19 511.18,1394.01 605.962,1483.43 700.744,1584.01 795.526,376.951 890.308,499.893 985.09,634.011 1079.87,756.953 1174.65,840.777 1269.44,952.542 1364.22,1075.48 1459,1170.48 1553.78,1271.07 1648.56,1399.6 1743.35,1505.78 1838.13,1578.43 1932.91,376.951 2027.69,488.716 2122.47,583.717 2217.26,673.129 2312.04,762.541 2406.82,868.718 2501.6,1030.78 2596.39,1131.37 2691.17,1237.54 2785.95,1304.6 2880.73,1382.84 2975.51,1472.25 3070.3,1578.43 \"/>\n",
       "<polyline clip-path=\"url(#clip312)\" style=\"stroke:#009af9; stroke-linecap:round; stroke-linejoin:round; stroke-width:4; stroke-opacity:1; fill:none\" points=\"321.616,1215.19 416.398,1332.54 511.18,1433.13 605.962,1550.49 700.744,1695.78 795.526,376.951 890.308,466.363 985.09,589.305 1079.87,706.658 1174.65,812.835 1269.44,907.836 1364.22,997.248 1459,1109.01 1553.78,1237.54 1648.56,1321.37 1743.35,1421.96 1838.13,1533.72 1932.91,1589.6 2027.69,1651.07 2122.47,1774.02 2217.26,376.951 2312.04,483.128 2406.82,589.305 2501.6,701.07 2596.39,784.894 2691.17,913.424 2785.95,1008.42 2880.73,1131.37 2975.51,1231.95 3070.3,1354.9 \"/>\n",
       "<polyline clip-path=\"url(#clip312)\" style=\"stroke:#e26f46; stroke-linecap:round; stroke-linejoin:round; stroke-width:4; stroke-opacity:1; fill:none\" points=\"321.616,1215.19 416.398,1349.31 511.18,1494.6 605.962,1584.01 700.744,1706.96 795.526,1774.02 890.308,376.951 985.09,505.481 1079.87,572.54 1174.65,650.776 1269.44,768.129 1364.22,885.483 1459,1014.01 1553.78,1120.19 1648.56,1220.78 1743.35,1310.19 1838.13,1427.54 1932.91,1589.6 2027.69,376.951 2122.47,511.069 2217.26,661.952 2312.04,807.247 2406.82,946.953 2501.6,1064.31 2596.39,1181.66 2691.17,1304.6 2785.95,1399.6 2880.73,1483.43 2975.51,1623.13 3070.3,1734.9 \"/>\n",
       "<polyline clip-path=\"url(#clip312)\" style=\"stroke:#3da44d; stroke-linecap:round; stroke-linejoin:round; stroke-width:4; stroke-opacity:1; fill:none\" points=\"321.616,1215.19 416.398,1299.01 511.18,1377.25 605.962,1477.84 700.744,1556.07 795.526,1667.84 890.308,1774.02 985.09,1774.02 1079.87,1774.02 1174.65,376.951 1269.44,494.305 1364.22,611.658 1459,723.423 1553.78,818.424 1648.56,919.012 1743.35,1008.42 1838.13,1114.6 1932.91,1220.78 2027.69,1360.48 2122.47,1461.07 2217.26,1611.96 2312.04,376.951 2406.82,494.305 2501.6,600.482 2596.39,689.894 2691.17,784.894 2785.95,879.894 2880.73,974.895 2975.51,1086.66 3070.3,1192.84 \"/>\n",
       "<polyline clip-path=\"url(#clip312)\" style=\"stroke:#c271d2; stroke-linecap:round; stroke-linejoin:round; stroke-width:4; stroke-opacity:1; fill:none\" points=\"321.616,1215.19 416.398,1349.31 511.18,1455.48 605.962,1578.43 700.744,376.951 795.526,471.952 890.308,566.952 985.09,661.952 1079.87,768.129 1174.65,868.718 1269.44,946.953 1364.22,1058.72 1459,1153.72 1553.78,1248.72 1648.56,1371.66 1743.35,1466.66 1838.13,1561.66 1932.91,376.951 2027.69,471.952 2122.47,589.305 2217.26,701.07 2312.04,874.306 2406.82,980.483 2501.6,1109.01 2596.39,1192.84 2691.17,1276.66 2785.95,1405.19 2880.73,1533.72 2975.51,1628.72 3070.3,1762.84 \"/>\n",
       "<polyline clip-path=\"url(#clip312)\" style=\"stroke:#ac8d18; stroke-linecap:round; stroke-linejoin:round; stroke-width:4; stroke-opacity:1; fill:none\" points=\"321.616,1215.19 416.398,1321.37 511.18,1405.19 605.962,1483.43 700.744,1595.19 795.526,1723.72 890.308,1774.02 985.09,1774.02 1079.87,376.951 1174.65,533.422 1269.44,606.07 1364.22,751.364 1459,907.836 1553.78,1047.54 1648.56,1159.31 1743.35,1237.54 1838.13,1310.19 1932.91,1394.01 2027.69,1500.19 2122.47,1595.19 2217.26,1706.96 2312.04,376.951 2406.82,477.54 2501.6,628.423 2596.39,729.011 2691.17,857.541 2785.95,952.542 2880.73,1120.19 2975.51,1226.37 3070.3,1326.95 \"/>\n",
       "<polyline clip-path=\"url(#clip312)\" style=\"stroke:#00a9ad; stroke-linecap:round; stroke-linejoin:round; stroke-width:4; stroke-opacity:1; fill:none\" points=\"321.616,1215.19 416.398,1282.25 511.18,1410.78 605.962,1533.72 700.744,1611.96 795.526,1774.02 890.308,1774.02 985.09,376.951 1079.87,471.952 1174.65,555.775 1269.44,656.364 1364.22,762.541 1459,896.659 1553.78,1002.84 1648.56,1120.19 1743.35,1226.37 1838.13,1304.6 1932.91,1433.13 2027.69,1567.25 2122.47,1662.25 2217.26,1774.02 2312.04,1774.02 2406.82,1774.02 2501.6,376.951 2596.39,499.893 2691.17,583.717 2785.95,706.658 2880.73,829.6 2975.51,913.424 3070.3,1019.6 \"/>\n",
       "<polyline clip-path=\"url(#clip312)\" style=\"stroke:#ed5d92; stroke-linecap:round; stroke-linejoin:round; stroke-width:4; stroke-opacity:1; fill:none\" points=\"321.616,1215.19 416.398,1354.9 511.18,1466.66 605.962,1589.6 700.744,1740.49 795.526,376.951 890.308,438.422 985.09,617.246 1079.87,745.776 1174.65,868.718 1269.44,958.13 1364.22,1053.13 1459,1153.72 1553.78,1254.31 1648.56,1377.25 1743.35,1483.43 1838.13,1584.01 1932.91,376.951 2027.69,539.011 2122.47,650.776 2217.26,807.247 2312.04,919.012 2406.82,1019.6 2501.6,1170.48 2596.39,1293.43 2691.17,1461.07 2785.95,1578.43 2880.73,376.951 2975.51,488.716 3070.3,606.07 \"/>\n",
       "<polyline clip-path=\"url(#clip312)\" style=\"stroke:#c68125; stroke-linecap:round; stroke-linejoin:round; stroke-width:4; stroke-opacity:1; fill:none\" points=\"321.616,1215.19 416.398,1321.37 511.18,1427.54 605.962,1483.43 700.744,1550.49 795.526,1673.43 890.308,376.951 985.09,460.775 1079.87,539.011 1174.65,639.599 1269.44,756.953 1364.22,868.718 1459,930.189 1553.78,1053.13 1648.56,1159.31 1743.35,1265.48 1838.13,1338.13 1932.91,1438.72 2027.69,1561.66 2122.47,376.951 2217.26,477.54 2312.04,578.129 2406.82,723.423 2501.6,851.953 2596.39,980.483 2691.17,1120.19 2785.95,1226.37 2880.73,1338.13 2975.51,1455.48 3070.3,1600.78 \"/>\n",
       "<polyline clip-path=\"url(#clip312)\" style=\"stroke:#00a98d; stroke-linecap:round; stroke-linejoin:round; stroke-width:4; stroke-opacity:1; fill:none\" points=\"321.616,1215.19 416.398,1338.13 511.18,1421.96 605.962,1505.78 700.744,1623.13 795.526,1690.19 890.308,97.5384 985.09,175.774 1079.87,281.951 1174.65,376.951 1269.44,499.893 1364.22,572.54 1459,695.482 1553.78,818.424 1648.56,946.953 1743.35,1047.54 1838.13,1148.13 1932.91,1254.31 2027.69,1377.25 2122.47,1505.78 2217.26,1628.72 2312.04,97.5384 2406.82,198.127 2501.6,298.716 2596.39,404.893 2691.17,477.54 2785.95,566.952 2880.73,706.658 2975.51,824.012 3070.3,913.424 \"/>\n",
       "<polyline clip-path=\"url(#clip312)\" style=\"stroke:#8e971d; stroke-linecap:round; stroke-linejoin:round; stroke-width:4; stroke-opacity:1; fill:none\" points=\"321.616,1215.19 416.398,1360.48 511.18,1477.84 605.962,1623.13 700.744,97.5384 795.526,192.539 890.308,298.716 985.09,438.422 1079.87,555.775 1174.65,678.717 1269.44,790.482 1364.22,930.189 1459,1053.13 1553.78,1192.84 1648.56,1293.43 1743.35,1399.6 1838.13,1528.13 1932.91,97.5384 2027.69,220.48 2122.47,326.657 2217.26,444.01 2312.04,566.952 2406.82,673.129 2501.6,773.718 2596.39,913.424 2691.17,1025.19 2785.95,1142.54 2880.73,1231.95 2975.51,1366.07 3070.3,1489.01 \"/>\n",
       "<polyline clip-path=\"url(#clip312)\" style=\"stroke:#00a8cb; stroke-linecap:round; stroke-linejoin:round; stroke-width:4; stroke-opacity:1; fill:none\" points=\"321.616,1215.19 416.398,1293.43 511.18,1399.6 605.962,1483.43 700.744,1623.13 795.526,97.5384 890.308,186.951 985.09,337.833 1079.87,404.893 1174.65,505.481 1269.44,622.835 1364.22,706.658 1459,790.482 1553.78,868.718 1648.56,1002.84 1743.35,1058.72 1838.13,1181.66 1932.91,1293.43 2027.69,1427.54 2122.47,1522.54 2217.26,1606.37 2312.04,1673.43 2406.82,1774.02 2501.6,1774.02 2596.39,97.5384 2691.17,192.539 2785.95,326.657 2880.73,471.952 2975.51,583.717 3070.3,678.717 \"/>\n",
       "<polyline clip-path=\"url(#clip312)\" style=\"stroke:#9b7fe8; stroke-linecap:round; stroke-linejoin:round; stroke-width:4; stroke-opacity:1; fill:none\" points=\"321.616,1215.19 416.398,1388.43 511.18,1505.78 605.962,1611.96 700.744,1701.37 795.526,97.5384 890.308,186.951 985.09,276.363 1079.87,354.598 1174.65,471.952 1269.44,606.07 1364.22,751.364 1459,868.718 1553.78,991.66 1648.56,1114.6 1743.35,1248.72 1838.13,1360.48 1932.91,1477.84 2027.69,1561.66 2122.47,1701.37 2217.26,1774.02 2312.04,97.5384 2406.82,214.892 2501.6,365.775 2596.39,483.128 2691.17,600.482 2785.95,706.658 2880.73,829.6 2975.51,919.012 3070.3,1019.6 \"/>\n",
       "<polyline clip-path=\"url(#clip312)\" style=\"stroke:#608cf6; stroke-linecap:round; stroke-linejoin:round; stroke-width:4; stroke-opacity:1; fill:none\" points=\"321.616,1215.19 416.398,1310.19 511.18,1444.31 605.962,1561.66 700.744,1662.25 795.526,97.5384 890.308,214.892 985.09,354.598 1079.87,471.952 1174.65,578.129 1269.44,729.011 1364.22,796.071 1459,913.424 1553.78,1036.37 1648.56,1148.13 1743.35,1243.13 1838.13,1388.43 1932.91,1516.96 2027.69,1584.01 2122.47,97.5384 2217.26,209.304 2312.04,354.598 2406.82,466.363 2501.6,639.599 2596.39,762.541 2691.17,913.424 2785.95,1019.6 2880.73,1136.95 2975.51,1231.95 3070.3,1287.84 \"/>\n",
       "<polyline clip-path=\"url(#clip312)\" style=\"stroke:#f05f73; stroke-linecap:round; stroke-linejoin:round; stroke-width:4; stroke-opacity:1; fill:none\" points=\"321.616,1215.19 416.398,1299.01 511.18,1410.78 605.962,1567.25 700.744,1684.6 795.526,1774.02 890.308,1774.02 985.09,97.5384 1079.87,231.657 1174.65,371.363 1269.44,477.54 1364.22,600.482 1459,723.423 1553.78,829.6 1648.56,924.6 1743.35,1053.13 1838.13,1187.25 1932.91,1321.37 2027.69,1500.19 2122.47,1639.9 2217.26,1762.84 2312.04,97.5384 2406.82,220.48 2501.6,354.598 2596.39,494.305 2691.17,527.834 2785.95,628.423 2880.73,717.835 2975.51,868.718 3070.3,1002.84 \"/>\n",
       "<polyline clip-path=\"url(#clip312)\" style=\"stroke:#dd64b5; stroke-linecap:round; stroke-linejoin:round; stroke-width:4; stroke-opacity:1; fill:none\" points=\"321.616,1215.19 416.398,1326.95 511.18,1416.37 605.962,1522.54 700.744,1595.19 795.526,1774.02 890.308,97.5384 985.09,231.657 1079.87,354.598 1174.65,460.775 1269.44,555.775 1364.22,689.894 1459,807.247 1553.78,919.012 1648.56,1047.54 1743.35,1181.66 1838.13,1310.19 1932.91,1483.43 2027.69,97.5384 2122.47,237.245 2217.26,326.657 2312.04,449.599 2406.82,539.011 2501.6,645.188 2596.39,745.776 2691.17,784.894 2785.95,885.483 2880.73,1014.01 2975.51,1136.95 3070.3,1209.6 \"/>\n",
       "<polyline clip-path=\"url(#clip312)\" style=\"stroke:#6b9e32; stroke-linecap:round; stroke-linejoin:round; stroke-width:4; stroke-opacity:1; fill:none\" points=\"321.616,1215.19 416.398,1377.25 511.18,1483.43 605.962,1600.78 700.744,1690.19 795.526,97.5384 890.308,186.951 985.09,254.01 1079.87,332.245 1174.65,444.01 1269.44,555.775 1364.22,678.717 1459,773.718 1553.78,896.659 1648.56,997.248 1743.35,1086.66 1838.13,1176.07 1932.91,1276.66 2027.69,1388.43 2122.47,1505.78 2217.26,1600.78 2312.04,97.5384 2406.82,181.362 2501.6,281.951 2596.39,376.951 2691.17,483.128 2785.95,594.893 2880.73,706.658 2975.51,874.306 3070.3,1002.84 \"/>\n",
       "<polyline clip-path=\"url(#clip312)\" style=\"stroke:#009af9; stroke-linecap:round; stroke-linejoin:round; stroke-width:4; stroke-opacity:1; fill:none\" points=\"321.616,1215.19 416.398,1326.95 511.18,1444.31 605.962,1572.84 700.744,1701.37 795.526,97.5384 890.308,175.774 985.09,281.951 1079.87,393.716 1174.65,499.893 1269.44,622.835 1364.22,745.776 1459,857.541 1553.78,980.483 1648.56,1103.42 1743.35,1231.95 1838.13,1343.72 1932.91,1477.84 2027.69,1606.37 2122.47,97.5384 2217.26,237.245 2312.04,354.598 2406.82,455.187 2501.6,511.069 2596.39,578.129 2691.17,673.129 2785.95,762.541 2880.73,885.483 2975.51,1030.78 3070.3,1187.25 \"/>\n",
       "<polyline clip-path=\"url(#clip312)\" style=\"stroke:#e26f46; stroke-linecap:round; stroke-linejoin:round; stroke-width:4; stroke-opacity:1; fill:none\" points=\"321.616,1215.19 416.398,1332.54 511.18,1489.01 605.962,1611.96 700.744,97.5384 795.526,226.068 890.308,321.069 985.09,410.481 1079.87,460.775 1174.65,583.717 1269.44,706.658 1364.22,863.13 1459,919.012 1553.78,1047.54 1648.56,1120.19 1743.35,1231.95 1838.13,1326.95 1932.91,1421.96 2027.69,1544.9 2122.47,97.5384 2217.26,242.833 2312.04,371.363 2406.82,488.716 2501.6,617.246 2596.39,695.482 2691.17,796.071 2785.95,924.6 2880.73,1025.19 2975.51,1125.78 3070.3,1248.72 \"/>\n",
       "<polyline clip-path=\"url(#clip312)\" style=\"stroke:#3da44d; stroke-linecap:round; stroke-linejoin:round; stroke-width:4; stroke-opacity:1; fill:none\" points=\"321.616,1215.19 416.398,1332.54 511.18,1399.6 605.962,1500.19 700.744,1611.96 795.526,1695.78 890.308,1774.02 985.09,1774.02 1079.87,1774.02 1174.65,1215.19 1269.44,1338.13 1364.22,1461.07 1459,1544.9 1553.78,1215.19 1648.56,1310.19 1743.35,1444.31 1838.13,1539.31 1932.91,1215.19 2027.69,1321.37 2122.47,1438.72 2217.26,1617.54 2312.04,1734.9 2406.82,1774.02 2501.6,1215.19 2596.39,1315.78 2691.17,1416.37 2785.95,1477.84 2880.73,1550.49 2975.51,1215.19 3070.3,1304.6 \"/>\n",
       "<polyline clip-path=\"url(#clip312)\" style=\"stroke:#c271d2; stroke-linecap:round; stroke-linejoin:round; stroke-width:4; stroke-opacity:1; fill:none\" points=\"321.616,1215.19 416.398,1321.37 511.18,1399.6 605.962,1522.54 700.744,1628.72 795.526,1215.19 890.308,1315.78 985.09,1427.54 1079.87,1528.13 1174.65,1215.19 1269.44,1343.72 1364.22,1455.48 1459,1578.43 1553.78,1757.25 1648.56,1215.19 1743.35,1299.01 1838.13,1382.84 1932.91,1489.01 2027.69,1589.6 2122.47,1651.07 2217.26,1215.19 2312.04,1299.01 2406.82,1394.01 2501.6,1533.72 2596.39,1673.43 2691.17,1215.19 2785.95,1293.43 2880.73,1421.96 2975.51,1589.6 3070.3,1215.19 \"/>\n",
       "<polyline clip-path=\"url(#clip312)\" style=\"stroke:#ac8d18; stroke-linecap:round; stroke-linejoin:round; stroke-width:4; stroke-opacity:1; fill:none\" points=\"321.616,1215.19 416.398,1299.01 511.18,1421.96 605.962,1528.13 700.744,1589.6 795.526,1215.19 890.308,1310.19 985.09,1416.37 1079.87,1539.31 1174.65,1215.19 1269.44,1332.54 1364.22,1438.72 1459,1556.07 1553.78,1628.72 1648.56,1774.02 1743.35,1774.02 1838.13,1774.02 1932.91,1215.19 2027.69,1321.37 2122.47,1433.13 2217.26,1528.13 2312.04,1662.25 2406.82,1215.19 2501.6,1310.19 2596.39,1433.13 2691.17,1611.96 2785.95,1718.13 2880.73,1215.19 2975.51,1354.9 3070.3,1455.48 \"/>\n",
       "<polyline clip-path=\"url(#clip312)\" style=\"stroke:#00a9ad; stroke-linecap:round; stroke-linejoin:round; stroke-width:4; stroke-opacity:1; fill:none\" points=\"321.616,1215.19 416.398,1276.66 511.18,1394.01 605.962,1511.37 700.744,1600.78 795.526,1768.43 890.308,1774.02 985.09,1774.02 1079.87,1774.02 1174.65,1215.19 1269.44,1332.54 1364.22,1494.6 1459,1589.6 1553.78,1690.19 1648.56,1215.19 1743.35,1315.78 1838.13,1477.84 1932.91,1595.19 2027.69,1215.19 2122.47,1310.19 2217.26,1416.37 2312.04,1556.07 2406.82,1667.84 2501.6,1774.02 2596.39,1774.02 2691.17,1215.19 2785.95,1293.43 2880.73,1410.78 2975.51,1556.07 3070.3,1706.96 \"/>\n",
       "<polyline clip-path=\"url(#clip312)\" style=\"stroke:#ed5d92; stroke-linecap:round; stroke-linejoin:round; stroke-width:4; stroke-opacity:1; fill:none\" points=\"321.616,1215.19 416.398,1366.07 511.18,1477.84 605.962,1589.6 700.744,1684.6 795.526,1774.02 890.308,1774.02 985.09,1215.19 1079.87,1310.19 1174.65,1399.6 1269.44,1500.19 1364.22,1595.19 1459,1215.19 1553.78,1354.9 1648.56,1455.48 1743.35,1561.66 1838.13,1617.54 1932.91,1215.19 2027.69,1326.95 2122.47,1461.07 2217.26,1572.84 2312.04,1673.43 2406.82,1751.66 2501.6,1215.19 2596.39,1377.25 2691.17,1511.37 2785.95,1611.96 2880.73,1774.02 2975.51,1215.19 3070.3,1354.9 \"/>\n",
       "<polyline clip-path=\"url(#clip312)\" style=\"stroke:#c68125; stroke-linecap:round; stroke-linejoin:round; stroke-width:4; stroke-opacity:1; fill:none\" points=\"321.616,1215.19 416.398,1321.37 511.18,1405.19 605.962,1500.19 700.744,1628.72 795.526,1215.19 890.308,1299.01 985.09,1371.66 1079.87,1539.31 1174.65,1639.9 1269.44,1215.19 1364.22,1349.31 1459,1455.48 1553.78,1572.84 1648.56,1215.19 1743.35,1332.54 1838.13,1455.48 1932.91,1595.19 2027.69,1701.37 2122.47,1215.19 2217.26,1304.6 2312.04,1444.31 2406.82,1544.9 2501.6,1623.13 2596.39,1215.19 2691.17,1326.95 2785.95,1444.31 2880.73,1572.84 2975.51,1679.02 3070.3,1774.02 \"/>\n",
       "<polyline clip-path=\"url(#clip312)\" style=\"stroke:#00a98d; stroke-linecap:round; stroke-linejoin:round; stroke-width:4; stroke-opacity:1; fill:none\" points=\"321.616,1215.19 416.398,1388.43 511.18,1494.6 605.962,1589.6 700.744,1215.19 795.526,1310.19 890.308,1410.78 985.09,1539.31 1079.87,1215.19 1174.65,1338.13 1269.44,1427.54 1364.22,1544.9 1459,1623.13 1553.78,1215.19 1648.56,1326.95 1743.35,1388.43 1838.13,1511.37 1932.91,1215.19 2027.69,1287.84 2122.47,1394.01 2217.26,1500.19 2312.04,1623.13 2406.82,1215.19 2501.6,1332.54 2596.39,1449.9 2691.17,1584.01 2785.95,1662.25 2880.73,1215.19 2975.51,1310.19 3070.3,1444.31 \"/>\n",
       "<polyline clip-path=\"url(#clip312)\" style=\"stroke:#8e971d; stroke-linecap:round; stroke-linejoin:round; stroke-width:4; stroke-opacity:1; fill:none\" points=\"321.616,1215.19 416.398,1354.9 511.18,1449.9 605.962,1539.31 700.744,1662.25 795.526,1774.02 890.308,1774.02 985.09,1774.02 1079.87,1774.02 1174.65,1774.02 1269.44,1215.19 1364.22,1310.19 1459,1438.72 1553.78,1561.66 1648.56,1706.96 1743.35,1774.02 1838.13,1215.19 1932.91,1354.9 2027.69,1494.6 2122.47,1595.19 2217.26,1706.96 2312.04,1215.19 2406.82,1338.13 2501.6,1516.96 2596.39,1215.19 2691.17,1326.95 2785.95,1410.78 2880.73,1483.43 2975.51,1561.66 3070.3,1623.13 \"/>\n",
       "<polyline clip-path=\"url(#clip312)\" style=\"stroke:#00a8cb; stroke-linecap:round; stroke-linejoin:round; stroke-width:4; stroke-opacity:1; fill:none\" points=\"321.616,1215.19 416.398,1321.37 511.18,1449.9 605.962,1544.9 700.744,1667.84 795.526,1751.66 890.308,1774.02 985.09,1774.02 1079.87,1774.02 1174.65,1774.02 1269.44,1774.02 1364.22,1215.19 1459,1315.78 1553.78,1388.43 1648.56,1511.37 1743.35,1561.66 1838.13,1215.19 1932.91,1315.78 2027.69,1410.78 2122.47,1466.66 2217.26,1589.6 2312.04,1729.31 2406.82,1774.02 2501.6,1774.02 2596.39,1215.19 2691.17,1343.72 2785.95,1489.01 2880.73,1584.01 2975.51,1215.19 3070.3,1282.25 \"/>\n",
       "<polyline clip-path=\"url(#clip312)\" style=\"stroke:#9b7fe8; stroke-linecap:round; stroke-linejoin:round; stroke-width:4; stroke-opacity:1; fill:none\" points=\"321.616,1215.19 416.398,1338.13 511.18,1461.07 605.962,1606.37 700.744,1701.37 795.526,1774.02 890.308,1774.02 985.09,1215.19 1079.87,1315.78 1174.65,1394.01 1269.44,1522.54 1364.22,1651.07 1459,1215.19 1553.78,1287.84 1648.56,1433.13 1743.35,1611.96 1838.13,1706.96 1932.91,1215.19 2027.69,1343.72 2122.47,1466.66 2217.26,1600.78 2312.04,1712.54 2406.82,1774.02 2501.6,1774.02 2596.39,1774.02 2691.17,1215.19 2785.95,1338.13 2880.73,1427.54 2975.51,1516.96 3070.3,1589.6 \"/>\n",
       "<polyline clip-path=\"url(#clip312)\" style=\"stroke:#608cf6; stroke-linecap:round; stroke-linejoin:round; stroke-width:4; stroke-opacity:1; fill:none\" points=\"321.616,1215.19 416.398,1315.78 511.18,1483.43 605.962,1567.25 700.744,935.777 795.526,1030.78 890.308,1198.43 985.09,1271.07 1079.87,1388.43 1174.65,1505.78 1269.44,1617.54 1364.22,1723.72 1459,935.777 1553.78,1036.37 1648.56,1131.37 1743.35,1226.37 1838.13,1405.19 1932.91,1489.01 2027.69,1634.31 2122.47,935.777 2217.26,1081.07 2312.04,1164.9 2406.82,1271.07 2501.6,1421.96 2596.39,1550.49 2691.17,1623.13 2785.95,1751.66 2880.73,935.777 2975.51,1064.31 3070.3,1142.54 \"/>\n",
       "<polyline clip-path=\"url(#clip312)\" style=\"stroke:#f05f73; stroke-linecap:round; stroke-linejoin:round; stroke-width:4; stroke-opacity:1; fill:none\" points=\"321.616,1215.19 416.398,1321.37 511.18,1416.37 605.962,1533.72 700.744,1639.9 795.526,1768.43 890.308,935.777 985.09,1036.37 1079.87,1103.42 1174.65,1209.6 1269.44,1287.84 1364.22,1394.01 1459,1494.6 1553.78,1567.25 1648.56,1701.37 1743.35,935.777 1838.13,1041.95 1932.91,1120.19 2027.69,1259.9 2122.47,1354.9 2217.26,1461.07 2312.04,1584.01 2406.82,935.777 2501.6,1053.13 2596.39,1153.72 2691.17,1265.48 2785.95,1371.66 2880.73,1466.66 2975.51,1550.49 3070.3,1639.9 \"/>\n",
       "<polyline clip-path=\"url(#clip312)\" style=\"stroke:#dd64b5; stroke-linecap:round; stroke-linejoin:round; stroke-width:4; stroke-opacity:1; fill:none\" points=\"321.616,1215.19 416.398,1304.6 511.18,1371.66 605.962,1494.6 700.744,935.777 795.526,1030.78 890.308,1159.31 985.09,1271.07 1079.87,1377.25 1174.65,1516.96 1269.44,935.777 1364.22,1053.13 1459,1164.9 1553.78,1237.54 1648.56,1299.01 1743.35,1421.96 1838.13,1533.72 1932.91,1634.31 2027.69,935.777 2122.47,980.483 2217.26,1058.72 2312.04,1204.01 2406.82,1326.95 2501.6,1405.19 2596.39,1505.78 2691.17,1623.13 2785.95,935.777 2880.73,1053.13 2975.51,1176.07 3070.3,1254.31 \"/>\n",
       "<polyline clip-path=\"url(#clip312)\" style=\"stroke:#6b9e32; stroke-linecap:round; stroke-linejoin:round; stroke-width:4; stroke-opacity:1; fill:none\" points=\"321.616,1215.19 416.398,1354.9 511.18,1433.13 605.962,1595.19 700.744,1718.13 795.526,935.777 890.308,1030.78 985.09,1092.25 1079.87,1192.84 1174.65,1304.6 1269.44,1410.78 1364.22,1528.13 1459,935.777 1553.78,1030.78 1648.56,1136.95 1743.35,1282.25 1838.13,1394.01 1932.91,1489.01 2027.69,1589.6 2122.47,935.777 2217.26,1081.07 2312.04,1181.66 2406.82,1271.07 2501.6,1394.01 2596.39,1466.66 2691.17,1595.19 2785.95,935.777 2880.73,1019.6 2975.51,1125.78 3070.3,1259.9 \"/>\n",
       "<polyline clip-path=\"url(#clip312)\" style=\"stroke:#009af9; stroke-linecap:round; stroke-linejoin:round; stroke-width:4; stroke-opacity:1; fill:none\" points=\"321.616,1215.19 416.398,1310.19 511.18,1466.66 605.962,1544.9 700.744,935.777 795.526,1025.19 890.308,1148.13 985.09,1243.13 1079.87,1310.19 1174.65,1388.43 1269.44,1505.78 1364.22,935.777 1459,1103.42 1553.78,1259.9 1648.56,1360.48 1743.35,1444.31 1838.13,1589.6 1932.91,1673.43 2027.69,935.777 2122.47,1081.07 2217.26,1209.6 2312.04,1304.6 2406.82,1377.25 2501.6,1494.6 2596.39,1600.78 2691.17,1768.43 2785.95,935.777 2880.73,1041.95 2975.51,1159.31 3070.3,1326.95 \"/>\n",
       "<polyline clip-path=\"url(#clip312)\" style=\"stroke:#e26f46; stroke-linecap:round; stroke-linejoin:round; stroke-width:4; stroke-opacity:1; fill:none\" points=\"321.616,1215.19 416.398,1343.72 511.18,1433.13 605.962,1511.37 700.744,1595.19 795.526,935.777 890.308,1008.42 985.09,1148.13 1079.87,1220.78 1174.65,1343.72 1269.44,1444.31 1364.22,1595.19 1459,1656.66 1553.78,935.777 1648.56,1081.07 1743.35,1259.9 1838.13,1399.6 1932.91,1533.72 2027.69,935.777 2122.47,1058.72 2217.26,1187.25 2312.04,1299.01 2406.82,1416.37 2501.6,1522.54 2596.39,1634.31 2691.17,1740.49 2785.95,1774.02 2880.73,935.777 2975.51,1030.78 3070.3,1109.01 \"/>\n",
       "<polyline clip-path=\"url(#clip312)\" style=\"stroke:#3da44d; stroke-linecap:round; stroke-linejoin:round; stroke-width:4; stroke-opacity:1; fill:none\" points=\"321.616,1215.19 416.398,1326.95 511.18,1444.31 605.962,1584.01 700.744,1706.96 795.526,935.777 890.308,1092.25 985.09,1181.66 1079.87,1271.07 1174.65,1366.07 1269.44,1466.66 1364.22,1556.07 1459,1651.07 1553.78,935.777 1648.56,1014.01 1743.35,1125.78 1838.13,1215.19 1932.91,1315.78 2027.69,1427.54 2122.47,1589.6 2217.26,1695.78 2312.04,935.777 2406.82,1047.54 2501.6,1148.13 2596.39,1243.13 2691.17,1349.31 2785.95,1489.01 2880.73,1611.96 2975.51,935.777 3070.3,1053.13 \"/>\n",
       "<polyline clip-path=\"url(#clip312)\" style=\"stroke:#c271d2; stroke-linecap:round; stroke-linejoin:round; stroke-width:4; stroke-opacity:1; fill:none\" points=\"321.616,1215.19 416.398,1276.66 511.18,1382.84 605.962,1489.01 700.744,1623.13 795.526,935.777 890.308,1041.95 985.09,1181.66 1079.87,1254.31 1174.65,1354.9 1269.44,1472.25 1364.22,1584.01 1459,935.777 1553.78,1030.78 1648.56,1125.78 1743.35,1248.72 1838.13,1382.84 1932.91,1505.78 2027.69,1578.43 2122.47,1690.19 2217.26,935.777 2312.04,1075.48 2406.82,1192.84 2501.6,1254.31 2596.39,1354.9 2691.17,1483.43 2785.95,1556.07 2880.73,935.777 2975.51,1103.42 3070.3,1226.37 \"/>\n",
       "<polyline clip-path=\"url(#clip312)\" style=\"stroke:#ac8d18; stroke-linecap:round; stroke-linejoin:round; stroke-width:4; stroke-opacity:1; fill:none\" points=\"321.616,1215.19 416.398,1293.43 511.18,1416.37 605.962,1539.31 700.744,1662.25 795.526,1757.25 890.308,1774.02 985.09,935.777 1079.87,1030.78 1174.65,1131.37 1269.44,1265.48 1364.22,1349.31 1459,1455.48 1553.78,1550.49 1648.56,1673.43 1743.35,935.777 1838.13,1036.37 1932.91,1181.66 2027.69,1304.6 2122.47,1438.72 2217.26,1516.96 2312.04,1584.01 2406.82,935.777 2501.6,1002.84 2596.39,1181.66 2691.17,1293.43 2785.95,1371.66 2880.73,1511.37 2975.51,1600.78 3070.3,1712.54 \"/>\n",
       "<polyline clip-path=\"url(#clip312)\" style=\"stroke:#00a9ad; stroke-linecap:round; stroke-linejoin:round; stroke-width:4; stroke-opacity:1; fill:none\" points=\"321.616,1215.19 416.398,1338.13 511.18,1461.07 605.962,1567.25 700.744,1706.96 795.526,1774.02 890.308,935.777 985.09,1041.95 1079.87,1170.48 1174.65,1276.66 1269.44,1366.07 1364.22,1449.9 1459,1606.37 1553.78,1706.96 1648.56,935.777 1743.35,1036.37 1838.13,1125.78 1932.91,1259.9 2027.69,1354.9 2122.47,1444.31 2217.26,1567.25 2312.04,1673.43 2406.82,1774.02 2501.6,935.777 2596.39,1025.19 2691.17,1125.78 2785.95,1209.6 2880.73,1315.78 2975.51,1438.72 3070.3,1595.19 \"/>\n",
       "<polyline clip-path=\"url(#clip312)\" style=\"stroke:#ed5d92; stroke-linecap:round; stroke-linejoin:round; stroke-width:4; stroke-opacity:1; fill:none\" points=\"321.616,1215.19 416.398,1315.78 511.18,1427.54 605.962,1533.72 700.744,656.364 795.526,807.247 890.308,885.483 985.09,1053.13 1079.87,1142.54 1174.65,1254.31 1269.44,1310.19 1364.22,1438.72 1459,1572.84 1553.78,656.364 1648.56,768.129 1743.35,868.718 1838.13,980.483 1932.91,1053.13 2027.69,1170.48 2122.47,1326.95 2217.26,1427.54 2312.04,1511.37 2406.82,1600.78 2501.6,1673.43 2596.39,1762.84 2691.17,1774.02 2785.95,1774.02 2880.73,1774.02 2975.51,656.364 3070.3,723.423 \"/>\n",
       "<polyline clip-path=\"url(#clip312)\" style=\"stroke:#c68125; stroke-linecap:round; stroke-linejoin:round; stroke-width:4; stroke-opacity:1; fill:none\" points=\"321.616,1215.19 416.398,1343.72 511.18,1466.66 605.962,1567.25 700.744,1667.84 795.526,656.364 890.308,790.482 985.09,930.189 1079.87,1019.6 1174.65,1114.6 1269.44,1220.78 1364.22,1360.48 1459,1449.9 1553.78,1567.25 1648.56,656.364 1743.35,779.306 1838.13,902.247 1932.91,1014.01 2027.69,1153.72 2122.47,1265.48 2217.26,1349.31 2312.04,1461.07 2406.82,1572.84 2501.6,1662.25 2596.39,656.364 2691.17,796.071 2785.95,896.659 2880.73,1103.42 2975.51,1220.78 3070.3,1310.19 \"/>\n",
       "<polyline clip-path=\"url(#clip312)\" style=\"stroke:#00a98d; stroke-linecap:round; stroke-linejoin:round; stroke-width:4; stroke-opacity:1; fill:none\" points=\"321.616,1215.19 416.398,1349.31 511.18,1466.66 605.962,1589.6 700.744,656.364 795.526,751.364 890.308,885.483 985.09,1030.78 1079.87,1109.01 1174.65,1204.01 1269.44,1321.37 1364.22,1461.07 1459,1589.6 1553.78,656.364 1648.56,768.129 1743.35,851.953 1838.13,997.248 1932.91,1086.66 2027.69,1181.66 2122.47,1287.84 2217.26,1377.25 2312.04,1494.6 2406.82,1611.96 2501.6,1729.31 2596.39,656.364 2691.17,773.718 2785.95,879.894 2880.73,1008.42 2975.51,1131.37 3070.3,1271.07 \"/>\n",
       "<polyline clip-path=\"url(#clip312)\" style=\"stroke:#8e971d; stroke-linecap:round; stroke-linejoin:round; stroke-width:4; stroke-opacity:1; fill:none\" points=\"321.616,1215.19 416.398,1326.95 511.18,1449.9 605.962,1539.31 700.744,1634.31 795.526,1734.9 890.308,656.364 985.09,762.541 1079.87,824.012 1174.65,924.6 1269.44,1047.54 1364.22,1148.13 1459,1254.31 1553.78,1371.66 1648.56,1433.13 1743.35,1528.13 1838.13,1628.72 1932.91,656.364 2027.69,762.541 2122.47,863.13 2217.26,1002.84 2312.04,1103.42 2406.82,1198.43 2501.6,1304.6 2596.39,1433.13 2691.17,1556.07 2785.95,656.364 2880.73,829.6 2975.51,924.6 3070.3,1047.54 \"/>\n",
       "<polyline clip-path=\"url(#clip312)\" style=\"stroke:#00a8cb; stroke-linecap:round; stroke-linejoin:round; stroke-width:4; stroke-opacity:1; fill:none\" points=\"321.616,1215.19 416.398,1354.9 511.18,1472.25 605.962,1567.25 700.744,1645.49 795.526,1774.02 890.308,1774.02 985.09,1774.02 1079.87,656.364 1174.65,740.188 1269.44,835.188 1364.22,969.307 1459,1086.66 1553.78,1170.48 1648.56,1321.37 1743.35,1405.19 1838.13,1505.78 1932.91,1628.72 2027.69,656.364 2122.47,723.423 2217.26,784.894 2312.04,907.836 2406.82,1014.01 2501.6,1114.6 2596.39,1209.6 2691.17,1321.37 2785.95,1461.07 2880.73,1600.78 2975.51,1723.72 3070.3,656.364 \"/>\n",
       "<polyline clip-path=\"url(#clip312)\" style=\"stroke:#9b7fe8; stroke-linecap:round; stroke-linejoin:round; stroke-width:4; stroke-opacity:1; fill:none\" points=\"321.616,1215.19 416.398,1315.78 511.18,1410.78 605.962,1533.72 700.744,1628.72 795.526,1746.07 890.308,1774.02 985.09,656.364 1079.87,751.364 1174.65,891.071 1269.44,1036.37 1364.22,1164.9 1459,1265.48 1553.78,1399.6 1648.56,1533.72 1743.35,656.364 1838.13,756.953 1932.91,846.365 2027.69,969.307 2122.47,1086.66 2217.26,1170.48 2312.04,1299.01 2406.82,1427.54 2501.6,1550.49 2596.39,1617.54 2691.17,1757.25 2785.95,1774.02 2880.73,656.364 2975.51,779.306 3070.3,879.894 \"/>\n",
       "<polyline clip-path=\"url(#clip312)\" style=\"stroke:#608cf6; stroke-linecap:round; stroke-linejoin:round; stroke-width:4; stroke-opacity:1; fill:none\" points=\"321.616,1215.19 416.398,1354.9 511.18,1433.13 605.962,1589.6 700.744,1684.6 795.526,1774.02 890.308,1774.02 985.09,656.364 1079.87,740.188 1174.65,851.953 1269.44,969.307 1364.22,1075.48 1459,1164.9 1553.78,1248.72 1648.56,1360.48 1743.35,1421.96 1838.13,1522.54 1932.91,656.364 2027.69,740.188 2122.47,879.894 2217.26,991.66 2312.04,1131.37 2406.82,1259.9 2501.6,1371.66 2596.39,1466.66 2691.17,1561.66 2785.95,656.364 2880.73,779.306 2975.51,935.777 3070.3,1081.07 \"/>\n",
       "<polyline clip-path=\"url(#clip312)\" style=\"stroke:#f05f73; stroke-linecap:round; stroke-linejoin:round; stroke-width:4; stroke-opacity:1; fill:none\" points=\"321.616,1215.19 416.398,1326.95 511.18,1433.13 605.962,1572.84 700.744,1701.37 795.526,1774.02 890.308,656.364 985.09,812.835 1079.87,885.483 1174.65,991.66 1269.44,1114.6 1364.22,1237.54 1459,1343.72 1553.78,1472.25 1648.56,1611.96 1743.35,656.364 1838.13,762.541 1932.91,891.071 2027.69,986.071 2122.47,1069.9 2217.26,1204.01 2312.04,1366.07 2406.82,1472.25 2501.6,1572.84 2596.39,1667.84 2691.17,1774.02 2785.95,656.364 2880.73,734.6 2975.51,857.541 3070.3,974.895 \"/>\n",
       "<polyline clip-path=\"url(#clip312)\" style=\"stroke:#dd64b5; stroke-linecap:round; stroke-linejoin:round; stroke-width:4; stroke-opacity:1; fill:none\" points=\"321.616,1215.19 416.398,1338.13 511.18,1421.96 605.962,1550.49 700.744,1600.78 795.526,1723.72 890.308,656.364 985.09,756.953 1079.87,835.188 1174.65,969.307 1269.44,1097.84 1364.22,1220.78 1459,1293.43 1553.78,1410.78 1648.56,1505.78 1743.35,1628.72 1838.13,1734.9 1932.91,1774.02 2027.69,656.364 2122.47,824.012 2217.26,930.189 2312.04,1064.31 2406.82,1153.72 2501.6,1271.07 2596.39,1388.43 2691.17,1556.07 2785.95,656.364 2880.73,773.718 2975.51,891.071 3070.3,997.248 \"/>\n",
       "<polyline clip-path=\"url(#clip312)\" style=\"stroke:#6b9e32; stroke-linecap:round; stroke-linejoin:round; stroke-width:4; stroke-opacity:1; fill:none\" points=\"321.616,1215.19 416.398,1360.48 511.18,1455.48 605.962,1589.6 700.744,1723.72 795.526,656.364 890.308,779.306 985.09,907.836 1079.87,1025.19 1174.65,1159.31 1269.44,1259.9 1364.22,1371.66 1459,1444.31 1553.78,1572.84 1648.56,656.364 1743.35,762.541 1838.13,913.424 1932.91,1058.72 2027.69,1159.31 2122.47,1282.25 2217.26,1416.37 2312.04,1516.96 2406.82,1645.49 2501.6,656.364 2596.39,790.482 2691.17,913.424 2785.95,1019.6 2880.73,1148.13 2975.51,1299.01 3070.3,1388.43 \"/>\n",
       "<polyline clip-path=\"url(#clip312)\" style=\"stroke:#009af9; stroke-linecap:round; stroke-linejoin:round; stroke-width:4; stroke-opacity:1; fill:none\" points=\"321.616,1215.19 416.398,1304.6 511.18,1433.13 605.962,1561.66 700.744,376.951 795.526,471.952 890.308,600.482 985.09,717.835 1079.87,868.718 1174.65,997.248 1269.44,1109.01 1364.22,1226.37 1459,1343.72 1553.78,1483.43 1648.56,1567.25 1743.35,1684.6 1838.13,376.951 1932.91,488.716 2027.69,645.188 2122.47,729.011 2217.26,885.483 2312.04,1008.42 2406.82,1120.19 2501.6,1243.13 2596.39,1338.13 2691.17,1489.01 2785.95,1645.49 2880.73,1746.07 2975.51,376.951 3070.3,499.893 \"/>\n",
       "<polyline clip-path=\"url(#clip312)\" style=\"stroke:#e26f46; stroke-linecap:round; stroke-linejoin:round; stroke-width:4; stroke-opacity:1; fill:none\" points=\"321.616,1215.19 416.398,1354.9 511.18,1444.31 605.962,1572.84 700.744,1684.6 795.526,1774.02 890.308,376.951 985.09,494.305 1079.87,634.011 1174.65,779.306 1269.44,919.012 1364.22,1030.78 1459,1131.37 1553.78,1231.95 1648.56,1354.9 1743.35,1483.43 1838.13,1584.01 1932.91,376.951 2027.69,494.305 2122.47,561.364 2217.26,684.305 2312.04,835.188 2406.82,958.13 2501.6,1064.31 2596.39,1170.48 2691.17,1349.31 2785.95,1455.48 2880.73,1584.01 2975.51,376.951 3070.3,533.422 \"/>\n",
       "<polyline clip-path=\"url(#clip312)\" style=\"stroke:#3da44d; stroke-linecap:round; stroke-linejoin:round; stroke-width:4; stroke-opacity:1; fill:none\" points=\"321.616,1215.19 416.398,1304.6 511.18,1444.31 605.962,1584.01 700.744,1679.02 795.526,376.951 890.308,466.363 985.09,611.658 1079.87,706.658 1174.65,812.835 1269.44,907.836 1364.22,1041.95 1459,1148.13 1553.78,1237.54 1648.56,1377.25 1743.35,1483.43 1838.13,376.951 1932.91,449.599 2027.69,555.775 2122.47,639.599 2217.26,740.188 2312.04,868.718 2406.82,980.483 2501.6,1092.25 2596.39,1204.01 2691.17,1315.78 2785.95,1466.66 2880.73,1572.84 2975.51,376.951 3070.3,460.775 \"/>\n",
       "<polyline clip-path=\"url(#clip312)\" style=\"stroke:#c271d2; stroke-linecap:round; stroke-linejoin:round; stroke-width:4; stroke-opacity:1; fill:none\" points=\"321.616,1215.19 416.398,1321.37 511.18,1472.25 605.962,1567.25 700.744,376.951 795.526,460.775 890.308,645.188 985.09,762.541 1079.87,846.365 1174.65,997.248 1269.44,1092.25 1364.22,1187.25 1459,1265.48 1553.78,1394.01 1648.56,1461.07 1743.35,1617.54 1838.13,376.951 1932.91,516.658 2027.69,661.952 2122.47,824.012 2217.26,935.777 2312.04,1008.42 2406.82,1142.54 2501.6,1248.72 2596.39,1338.13 2691.17,1433.13 2785.95,1516.96 2880.73,1617.54 2975.51,376.951 3070.3,522.246 \"/>\n",
       "<polyline clip-path=\"url(#clip312)\" style=\"stroke:#ac8d18; stroke-linecap:round; stroke-linejoin:round; stroke-width:4; stroke-opacity:1; fill:none\" points=\"321.616,1215.19 416.398,1343.72 511.18,1466.66 605.962,1584.01 700.744,376.951 795.526,505.481 890.308,600.482 985.09,723.423 1079.87,818.424 1174.65,946.953 1269.44,1030.78 1364.22,1131.37 1459,1265.48 1553.78,1416.37 1648.56,1539.31 1743.35,1651.07 1838.13,1718.13 1932.91,1774.02 2027.69,1774.02 2122.47,376.951 2217.26,511.069 2312.04,628.423 2406.82,745.776 2501.6,824.012 2596.39,935.777 2691.17,1030.78 2785.95,1148.13 2880.73,1231.95 2975.51,1360.48 3070.3,1511.37 \"/>\n",
       "<polyline clip-path=\"url(#clip312)\" style=\"stroke:#00a9ad; stroke-linecap:round; stroke-linejoin:round; stroke-width:4; stroke-opacity:1; fill:none\" points=\"321.616,1215.19 416.398,1366.07 511.18,1444.31 605.962,1544.9 700.744,1651.07 795.526,1774.02 890.308,376.951 985.09,516.658 1079.87,661.952 1174.65,734.6 1269.44,846.365 1364.22,980.483 1459,1142.54 1553.78,1271.07 1648.56,1360.48 1743.35,1455.48 1838.13,1533.72 1932.91,1645.49 2027.69,1746.07 2122.47,376.951 2217.26,488.716 2312.04,600.482 2406.82,745.776 2501.6,851.953 2596.39,969.307 2691.17,1058.72 2785.95,1192.84 2880.73,1338.13 2975.51,1449.9 3070.3,1550.49 \"/>\n",
       "<polyline clip-path=\"url(#clip312)\" style=\"stroke:#ed5d92; stroke-linecap:round; stroke-linejoin:round; stroke-width:4; stroke-opacity:1; fill:none\" points=\"321.616,1215.19 416.398,1332.54 511.18,1433.13 605.962,1494.6 700.744,1600.78 795.526,376.951 890.308,483.128 985.09,600.482 1079.87,740.188 1174.65,885.483 1269.44,1002.84 1364.22,1097.84 1459,1192.84 1553.78,1315.78 1648.56,1410.78 1743.35,1500.19 1838.13,1634.31 1932.91,1751.66 2027.69,376.951 2122.47,477.54 2217.26,606.07 2312.04,729.011 2406.82,846.365 2501.6,946.953 2596.39,1019.6 2691.17,1136.95 2785.95,1231.95 2880.73,1310.19 2975.51,1427.54 3070.3,1528.13 \"/>\n",
       "<polyline clip-path=\"url(#clip312)\" style=\"stroke:#c68125; stroke-linecap:round; stroke-linejoin:round; stroke-width:4; stroke-opacity:1; fill:none\" points=\"321.616,1215.19 416.398,1304.6 511.18,1405.19 605.962,1533.72 700.744,376.951 795.526,438.422 890.308,566.952 985.09,678.717 1079.87,807.247 1174.65,902.247 1269.44,980.483 1364.22,1075.48 1459,1209.6 1553.78,1332.54 1648.56,1494.6 1743.35,1617.54 1838.13,1712.54 1932.91,376.951 2027.69,488.716 2122.47,611.658 2217.26,729.011 2312.04,868.718 2406.82,963.718 2501.6,1058.72 2596.39,1181.66 2691.17,1321.37 2785.95,1438.72 2880.73,1489.01 2975.51,1567.25 3070.3,376.951 \"/>\n",
       "<polyline clip-path=\"url(#clip312)\" style=\"stroke:#00a98d; stroke-linecap:round; stroke-linejoin:round; stroke-width:4; stroke-opacity:1; fill:none\" points=\"321.616,1215.19 416.398,1360.48 511.18,1461.07 605.962,1533.72 700.744,1595.19 795.526,376.951 890.308,455.187 985.09,566.952 1079.87,695.482 1174.65,818.424 1269.44,930.189 1364.22,1025.19 1459,1114.6 1553.78,1259.9 1648.56,1338.13 1743.35,1455.48 1838.13,1611.96 1932.91,376.951 2027.69,471.952 2122.47,589.305 2217.26,678.717 2312.04,768.129 2406.82,868.718 2501.6,986.071 2596.39,1041.95 2691.17,1159.31 2785.95,1259.9 2880.73,1371.66 2975.51,1472.25 3070.3,1561.66 \"/>\n",
       "<polyline clip-path=\"url(#clip312)\" style=\"stroke:#8e971d; stroke-linecap:round; stroke-linejoin:round; stroke-width:4; stroke-opacity:1; fill:none\" points=\"321.616,1215.19 416.398,1326.95 511.18,1444.31 605.962,1544.9 700.744,376.951 795.526,505.481 890.308,600.482 985.09,729.011 1079.87,863.13 1174.65,930.189 1269.44,1086.66 1364.22,1254.31 1459,1394.01 1553.78,1483.43 1648.56,1628.72 1743.35,1762.84 1838.13,376.951 1932.91,539.011 2027.69,684.305 2122.47,779.306 2217.26,902.247 2312.04,1081.07 2406.82,1259.9 2501.6,1371.66 2596.39,1494.6 2691.17,1623.13 2785.95,1757.25 2880.73,1774.02 2975.51,376.951 3070.3,488.716 \"/>\n",
       "<polyline clip-path=\"url(#clip312)\" style=\"stroke:#00a8cb; stroke-linecap:round; stroke-linejoin:round; stroke-width:4; stroke-opacity:1; fill:none\" points=\"321.616,1215.19 416.398,1332.54 511.18,1433.13 605.962,1567.25 700.744,97.5384 795.526,198.127 890.308,337.833 985.09,427.246 1079.87,505.481 1174.65,572.54 1269.44,667.541 1364.22,790.482 1459,919.012 1553.78,1069.9 1648.56,1159.31 1743.35,1299.01 1838.13,1388.43 1932.91,1489.01 2027.69,1572.84 2122.47,97.5384 2217.26,203.715 2312.04,343.422 2406.82,444.01 2501.6,505.481 2596.39,650.776 2691.17,773.718 2785.95,935.777 2880.73,991.66 2975.51,1120.19 3070.3,1254.31 \"/>\n",
       "<polyline clip-path=\"url(#clip312)\" style=\"stroke:#9b7fe8; stroke-linecap:round; stroke-linejoin:round; stroke-width:4; stroke-opacity:1; fill:none\" points=\"321.616,1215.19 416.398,1338.13 511.18,1433.13 605.962,1522.54 700.744,1651.07 795.526,1774.02 890.308,97.5384 985.09,226.068 1079.87,332.245 1174.65,444.01 1269.44,555.775 1364.22,661.952 1459,756.953 1553.78,885.483 1648.56,974.895 1743.35,1064.31 1838.13,1176.07 1932.91,1343.72 2027.69,1438.72 2122.47,1611.96 2217.26,1679.02 2312.04,97.5384 2406.82,231.657 2501.6,365.775 2596.39,449.599 2691.17,561.364 2785.95,689.894 2880.73,779.306 2975.51,885.483 3070.3,997.248 \"/>\n",
       "<polyline clip-path=\"url(#clip312)\" style=\"stroke:#608cf6; stroke-linecap:round; stroke-linejoin:round; stroke-width:4; stroke-opacity:1; fill:none\" points=\"321.616,1215.19 416.398,1304.6 511.18,1394.01 605.962,1533.72 700.744,1595.19 795.526,1701.37 890.308,97.5384 985.09,259.598 1079.87,388.128 1174.65,471.952 1269.44,527.834 1364.22,645.188 1459,729.011 1553.78,829.6 1648.56,958.13 1743.35,1086.66 1838.13,1192.84 1932.91,1321.37 2027.69,1444.31 2122.47,1572.84 2217.26,1690.19 2312.04,1774.02 2406.82,97.5384 2501.6,248.421 2596.39,349.01 2691.17,505.481 2785.95,661.952 2880.73,812.835 2975.51,930.189 3070.3,1041.95 \"/>\n",
       "<polyline clip-path=\"url(#clip312)\" style=\"stroke:#f05f73; stroke-linecap:round; stroke-linejoin:round; stroke-width:4; stroke-opacity:1; fill:none\" points=\"321.616,1215.19 416.398,1321.37 511.18,1399.6 605.962,1500.19 700.744,1584.01 795.526,97.5384 890.308,153.421 985.09,248.421 1079.87,360.186 1174.65,455.187 1269.44,611.658 1364.22,673.129 1459,762.541 1553.78,885.483 1648.56,974.895 1743.35,1086.66 1838.13,1204.01 1932.91,1310.19 2027.69,1444.31 2122.47,1556.07 2217.26,1701.37 2312.04,1774.02 2406.82,97.5384 2501.6,231.657 2596.39,321.069 2691.17,438.422 2785.95,550.187 2880.73,634.011 2975.51,729.011 3070.3,846.365 \"/>\n",
       "<polyline clip-path=\"url(#clip312)\" style=\"stroke:#dd64b5; stroke-linecap:round; stroke-linejoin:round; stroke-width:4; stroke-opacity:1; fill:none\" points=\"321.616,1215.19 416.398,1349.31 511.18,1489.01 605.962,1589.6 700.744,97.5384 795.526,198.127 890.308,304.304 985.09,416.069 1079.87,522.246 1174.65,628.423 1269.44,779.306 1364.22,863.13 1459,974.895 1553.78,1086.66 1648.56,1170.48 1743.35,1287.84 1838.13,1438.72 1932.91,1516.96 2027.69,1667.84 2122.47,1774.02 2217.26,97.5384 2312.04,203.715 2406.82,259.598 2501.6,354.598 2596.39,432.834 2691.17,527.834 2785.95,639.599 2880.73,740.188 2975.51,846.365 3070.3,1002.84 \"/>\n",
       "<polyline clip-path=\"url(#clip312)\" style=\"stroke:#6b9e32; stroke-linecap:round; stroke-linejoin:round; stroke-width:4; stroke-opacity:1; fill:none\" points=\"321.616,1215.19 416.398,1315.78 511.18,1444.31 605.962,1584.01 700.744,97.5384 795.526,237.245 890.308,376.951 985.09,483.128 1079.87,594.893 1174.65,673.129 1269.44,779.306 1364.22,874.306 1459,1008.42 1553.78,1125.78 1648.56,1198.43 1743.35,1299.01 1838.13,1388.43 1932.91,1522.54 2027.69,1623.13 2122.47,1740.49 2217.26,1774.02 2312.04,1774.02 2406.82,1774.02 2501.6,97.5384 2596.39,181.362 2691.17,298.716 2785.95,421.657 2880.73,561.364 2975.51,673.129 3070.3,796.071 \"/>\n",
       "<polyline clip-path=\"url(#clip312)\" style=\"stroke:#009af9; stroke-linecap:round; stroke-linejoin:round; stroke-width:4; stroke-opacity:1; fill:none\" points=\"321.616,1215.19 416.398,1338.13 511.18,1461.07 605.962,1656.66 700.744,97.5384 795.526,220.48 890.308,315.48 985.09,455.187 1079.87,566.952 1174.65,667.541 1269.44,779.306 1364.22,846.365 1459,974.895 1553.78,1053.13 1648.56,1159.31 1743.35,1282.25 1838.13,1354.9 1932.91,1461.07 2027.69,1556.07 2122.47,97.5384 2217.26,192.539 2312.04,332.245 2406.82,466.363 2501.6,600.482 2596.39,695.482 2691.17,779.306 2785.95,907.836 2880.73,1008.42 2975.51,1092.25 3070.3,1226.37 \"/>\n",
       "<polyline clip-path=\"url(#clip312)\" style=\"stroke:#e26f46; stroke-linecap:round; stroke-linejoin:round; stroke-width:4; stroke-opacity:1; fill:none\" points=\"321.616,1215.19 416.398,1293.43 511.18,1399.6 605.962,1511.37 700.744,97.5384 795.526,164.597 890.308,259.598 985.09,371.363 1079.87,455.187 1174.65,572.54 1269.44,678.717 1364.22,807.247 1459,885.483 1553.78,969.307 1648.56,1114.6 1743.35,1226.37 1838.13,1349.31 1932.91,1472.25 2027.69,1572.84 2122.47,1712.54 2217.26,97.5384 2312.04,214.892 2406.82,321.069 2501.6,444.01 2596.39,533.422 2691.17,645.188 2785.95,779.306 2880.73,879.894 2975.51,997.248 3070.3,1120.19 \"/>\n",
       "<polyline clip-path=\"url(#clip312)\" style=\"stroke:#3da44d; stroke-linecap:round; stroke-linejoin:round; stroke-width:4; stroke-opacity:1; fill:none\" points=\"321.616,1215.19 416.398,1338.13 511.18,1461.07 605.962,1595.19 700.744,1701.37 795.526,1774.02 890.308,1774.02 985.09,97.5384 1079.87,220.48 1174.65,332.245 1269.44,455.187 1364.22,572.54 1459,689.894 1553.78,824.012 1648.56,913.424 1743.35,1019.6 1838.13,1114.6 1932.91,1198.43 2027.69,1315.78 2122.47,1444.31 2217.26,1567.25 2312.04,97.5384 2406.82,203.715 2501.6,315.48 2596.39,455.187 2691.17,622.835 2785.95,729.011 2880.73,840.777 2975.51,907.836 3070.3,1041.95 \"/>\n",
       "<polyline clip-path=\"url(#clip312)\" style=\"stroke:#c271d2; stroke-linecap:round; stroke-linejoin:round; stroke-width:4; stroke-opacity:1; fill:none\" points=\"321.616,1215.19 416.398,1338.13 511.18,1505.78 605.962,1656.66 700.744,97.5384 795.526,259.598 890.308,326.657 985.09,471.952 1079.87,561.364 1174.65,684.305 1269.44,773.718 1364.22,907.836 1459,1014.01 1553.78,1170.48 1648.56,1237.54 1743.35,1388.43 1838.13,1472.25 1932.91,1595.19 2027.69,1723.72 2122.47,1774.02 2217.26,1774.02 2312.04,1774.02 2406.82,1774.02 2501.6,97.5384 2596.39,237.245 2691.17,365.775 2785.95,516.658 2880.73,650.776 2975.51,762.541 3070.3,868.718 \"/>\n",
       "<polyline clip-path=\"url(#clip312)\" style=\"stroke:#ac8d18; stroke-linecap:round; stroke-linejoin:round; stroke-width:4; stroke-opacity:1; fill:none\" points=\"321.616,1215.19 416.398,1326.95 511.18,1394.01 605.962,1466.66 700.744,1567.25 795.526,1215.19 890.308,1299.01 985.09,1366.07 1079.87,1416.37 1174.65,1533.72 1269.44,1645.49 1364.22,1215.19 1459,1315.78 1553.78,1433.13 1648.56,1550.49 1743.35,1215.19 1838.13,1321.37 1932.91,1421.96 2027.69,1516.96 2122.47,1656.66 2217.26,1215.19 2312.04,1360.48 2406.82,1455.48 2501.6,1572.84 2596.39,1215.19 2691.17,1315.78 2785.95,1427.54 2880.73,1522.54 2975.51,1215.19 3070.3,1304.6 \"/>\n",
       "<polyline clip-path=\"url(#clip312)\" style=\"stroke:#00a9ad; stroke-linecap:round; stroke-linejoin:round; stroke-width:4; stroke-opacity:1; fill:none\" points=\"321.616,1215.19 416.398,1349.31 511.18,1472.25 605.962,1539.31 700.744,1215.19 795.526,1326.95 890.308,1444.31 985.09,1600.78 1079.87,1695.78 1174.65,1774.02 1269.44,1774.02 1364.22,1774.02 1459,1774.02 1553.78,1774.02 1648.56,1215.19 1743.35,1315.78 1838.13,1433.13 1932.91,1522.54 2027.69,1215.19 2122.47,1338.13 2217.26,1433.13 2312.04,1528.13 2406.82,1645.49 2501.6,1215.19 2596.39,1321.37 2691.17,1382.84 2785.95,1466.66 2880.73,1623.13 2975.51,1695.78 3070.3,1774.02 \"/>\n",
       "<polyline clip-path=\"url(#clip312)\" style=\"stroke:#ed5d92; stroke-linecap:round; stroke-linejoin:round; stroke-width:4; stroke-opacity:1; fill:none\" points=\"321.616,1215.19 416.398,1366.07 511.18,1494.6 605.962,1639.9 700.744,1215.19 795.526,1349.31 890.308,1489.01 985.09,1600.78 1079.87,1215.19 1174.65,1315.78 1269.44,1421.96 1364.22,1522.54 1459,1595.19 1553.78,1215.19 1648.56,1338.13 1743.35,1449.9 1838.13,1533.72 1932.91,1215.19 2027.69,1354.9 2122.47,1438.72 2217.26,1544.9 2312.04,1215.19 2406.82,1254.31 2501.6,1377.25 2596.39,1483.43 2691.17,1215.19 2785.95,1293.43 2880.73,1421.96 2975.51,1494.6 3070.3,1606.37 \"/>\n",
       "<polyline clip-path=\"url(#clip312)\" style=\"stroke:#c68125; stroke-linecap:round; stroke-linejoin:round; stroke-width:4; stroke-opacity:1; fill:none\" points=\"321.616,1215.19 416.398,1360.48 511.18,1489.01 605.962,1589.6 700.744,1729.31 795.526,1215.19 890.308,1371.66 985.09,1472.25 1079.87,1561.66 1174.65,1751.66 1269.44,1215.19 1364.22,1349.31 1459,1483.43 1553.78,1584.01 1648.56,1656.66 1743.35,1746.07 1838.13,1774.02 1932.91,1774.02 2027.69,1215.19 2122.47,1304.6 2217.26,1399.6 2312.04,1494.6 2406.82,1589.6 2501.6,1712.54 2596.39,1774.02 2691.17,1774.02 2785.95,1774.02 2880.73,1774.02 2975.51,1215.19 3070.3,1315.78 \"/>\n",
       "<polyline clip-path=\"url(#clip312)\" style=\"stroke:#00a98d; stroke-linecap:round; stroke-linejoin:round; stroke-width:4; stroke-opacity:1; fill:none\" points=\"321.616,1215.19 416.398,1304.6 511.18,1421.96 605.962,1522.54 700.744,1651.07 795.526,1757.25 890.308,1774.02 985.09,1215.19 1079.87,1310.19 1174.65,1449.9 1269.44,1561.66 1364.22,1215.19 1459,1315.78 1553.78,1427.54 1648.56,1511.37 1743.35,1639.9 1838.13,1215.19 1932.91,1332.54 2027.69,1410.78 2122.47,1606.37 2217.26,1215.19 2312.04,1349.31 2406.82,1466.66 2501.6,1584.01 2596.39,1215.19 2691.17,1343.72 2785.95,1455.48 2880.73,1567.25 2975.51,1695.78 3070.3,1774.02 \"/>\n",
       "<polyline clip-path=\"url(#clip312)\" style=\"stroke:#8e971d; stroke-linecap:round; stroke-linejoin:round; stroke-width:4; stroke-opacity:1; fill:none\" points=\"321.616,1215.19 416.398,1343.72 511.18,1449.9 605.962,1572.84 700.744,1690.19 795.526,1774.02 890.308,1774.02 985.09,1215.19 1079.87,1321.37 1174.65,1382.84 1269.44,1466.66 1364.22,1556.07 1459,1706.96 1553.78,1757.25 1648.56,1774.02 1743.35,1215.19 1838.13,1299.01 1932.91,1394.01 2027.69,1500.19 2122.47,1600.78 2217.26,1734.9 2312.04,1215.19 2406.82,1315.78 2501.6,1421.96 2596.39,1516.96 2691.17,1617.54 2785.95,1215.19 2880.73,1310.19 2975.51,1449.9 3070.3,1567.25 \"/>\n",
       "<polyline clip-path=\"url(#clip312)\" style=\"stroke:#00a8cb; stroke-linecap:round; stroke-linejoin:round; stroke-width:4; stroke-opacity:1; fill:none\" points=\"321.616,1215.19 416.398,1304.6 511.18,1433.13 605.962,1539.31 700.744,1215.19 795.526,1326.95 890.308,1449.9 985.09,1611.96 1079.87,1215.19 1174.65,1354.9 1269.44,1455.48 1364.22,1567.25 1459,1215.19 1553.78,1321.37 1648.56,1455.48 1743.35,1539.31 1838.13,1651.07 1932.91,1215.19 2027.69,1282.25 2122.47,1399.6 2217.26,1516.96 2312.04,1639.9 2406.82,1215.19 2501.6,1332.54 2596.39,1399.6 2691.17,1511.37 2785.95,1673.43 2880.73,1215.19 2975.51,1326.95 3070.3,1461.07 \"/>\n",
       "<polyline clip-path=\"url(#clip312)\" style=\"stroke:#9b7fe8; stroke-linecap:round; stroke-linejoin:round; stroke-width:4; stroke-opacity:1; fill:none\" points=\"321.616,1215.19 416.398,1299.01 511.18,1410.78 605.962,1567.25 700.744,1628.72 795.526,1215.19 890.308,1343.72 985.09,1477.84 1079.87,1595.19 1174.65,1723.72 1269.44,1774.02 1364.22,1774.02 1459,1774.02 1553.78,1774.02 1648.56,1774.02 1743.35,1774.02 1838.13,1215.19 1932.91,1338.13 2027.69,1433.13 2122.47,1511.37 2217.26,1634.31 2312.04,1706.96 2406.82,1774.02 2501.6,1215.19 2596.39,1343.72 2691.17,1516.96 2785.95,1606.37 2880.73,1712.54 2975.51,1774.02 3070.3,1215.19 \"/>\n",
       "<polyline clip-path=\"url(#clip312)\" style=\"stroke:#608cf6; stroke-linecap:round; stroke-linejoin:round; stroke-width:4; stroke-opacity:1; fill:none\" points=\"321.616,1215.19 416.398,1332.54 511.18,1455.48 605.962,1572.84 700.744,1679.02 795.526,1774.02 890.308,1215.19 985.09,1343.72 1079.87,1421.96 1174.65,1528.13 1269.44,1611.96 1364.22,1215.19 1459,1299.01 1553.78,1399.6 1648.56,1533.72 1743.35,1634.31 1838.13,1215.19 1932.91,1377.25 2027.69,1489.01 2122.47,1533.72 2217.26,1215.19 2312.04,1299.01 2406.82,1427.54 2501.6,1539.31 2596.39,1215.19 2691.17,1343.72 2785.95,1461.07 2880.73,1556.07 2975.51,1673.43 3070.3,1774.02 \"/>\n",
       "<polyline clip-path=\"url(#clip312)\" style=\"stroke:#f05f73; stroke-linecap:round; stroke-linejoin:round; stroke-width:4; stroke-opacity:1; fill:none\" points=\"321.616,1215.19 416.398,1315.78 511.18,1433.13 605.962,1533.72 700.744,1589.6 795.526,1673.43 890.308,1215.19 985.09,1304.6 1079.87,1399.6 1174.65,1505.78 1269.44,1617.54 1364.22,1762.84 1459,1774.02 1553.78,1215.19 1648.56,1343.72 1743.35,1483.43 1838.13,1595.19 1932.91,1215.19 2027.69,1377.25 2122.47,1489.01 2217.26,1578.43 2312.04,1667.84 2406.82,1215.19 2501.6,1354.9 2596.39,1461.07 2691.17,1572.84 2785.95,1215.19 2880.73,1360.48 2975.51,1421.96 3070.3,1550.49 \"/>\n",
       "<polyline clip-path=\"url(#clip312)\" style=\"stroke:#dd64b5; stroke-linecap:round; stroke-linejoin:round; stroke-width:4; stroke-opacity:1; fill:none\" points=\"321.616,1215.19 416.398,1349.31 511.18,1489.01 605.962,935.777 700.744,1014.01 795.526,1103.42 890.308,1243.13 985.09,1338.13 1079.87,1477.84 1174.65,1561.66 1269.44,1679.02 1364.22,1774.02 1459,1774.02 1553.78,935.777 1648.56,1081.07 1743.35,1164.9 1838.13,1259.9 1932.91,1394.01 2027.69,1444.31 2122.47,1561.66 2217.26,935.777 2312.04,1086.66 2406.82,1198.43 2501.6,1315.78 2596.39,1433.13 2691.17,1539.31 2785.95,935.777 2880.73,1047.54 2975.51,1187.25 3070.3,1310.19 \"/>\n",
       "<polyline clip-path=\"url(#clip312)\" style=\"stroke:#6b9e32; stroke-linecap:round; stroke-linejoin:round; stroke-width:4; stroke-opacity:1; fill:none\" points=\"321.616,1215.19 416.398,1315.78 511.18,1421.96 605.962,1528.13 700.744,1651.07 795.526,1774.02 890.308,935.777 985.09,1030.78 1079.87,1153.72 1174.65,1248.72 1269.44,1310.19 1364.22,1371.66 1459,1483.43 1553.78,1595.19 1648.56,1757.25 1743.35,1774.02 1838.13,1774.02 1932.91,935.777 2027.69,1103.42 2122.47,1170.48 2217.26,1254.31 2312.04,1366.07 2406.82,1483.43 2501.6,935.777 2596.39,1053.13 2691.17,1187.25 2785.95,1310.19 2880.73,1416.37 2975.51,1500.19 3070.3,935.777 \"/>\n",
       "<polyline clip-path=\"url(#clip312)\" style=\"stroke:#009af9; stroke-linecap:round; stroke-linejoin:round; stroke-width:4; stroke-opacity:1; fill:none\" points=\"321.616,1215.19 416.398,1315.78 511.18,1427.54 605.962,1528.13 700.744,1634.31 795.526,1751.66 890.308,1774.02 985.09,1774.02 1079.87,1774.02 1174.65,1774.02 1269.44,935.777 1364.22,1053.13 1459,1159.31 1553.78,1254.31 1648.56,1394.01 1743.35,1472.25 1838.13,1589.6 1932.91,935.777 2027.69,1041.95 2122.47,1114.6 2217.26,1198.43 2312.04,1360.48 2406.82,1455.48 2501.6,1556.07 2596.39,1684.6 2691.17,1774.02 2785.95,1774.02 2880.73,935.777 2975.51,1019.6 3070.3,1159.31 \"/>\n",
       "<polyline clip-path=\"url(#clip312)\" style=\"stroke:#e26f46; stroke-linecap:round; stroke-linejoin:round; stroke-width:4; stroke-opacity:1; fill:none\" points=\"321.616,1215.19 416.398,1338.13 511.18,1416.37 605.962,1539.31 700.744,1651.07 795.526,935.777 890.308,1030.78 985.09,1131.37 1079.87,1243.13 1174.65,1366.07 1269.44,1505.78 1364.22,935.777 1459,1019.6 1553.78,1103.42 1648.56,1192.84 1743.35,1293.43 1838.13,1410.78 1932.91,1533.72 2027.69,935.777 2122.47,1047.54 2217.26,1204.01 2312.04,1299.01 2406.82,1399.6 2501.6,1466.66 2596.39,1556.07 2691.17,1679.02 2785.95,1774.02 2880.73,935.777 2975.51,1036.37 3070.3,1125.78 \"/>\n",
       "<polyline clip-path=\"url(#clip312)\" style=\"stroke:#3da44d; stroke-linecap:round; stroke-linejoin:round; stroke-width:4; stroke-opacity:1; fill:none\" points=\"321.616,1215.19 416.398,1299.01 511.18,1427.54 605.962,1516.96 700.744,1584.01 795.526,1690.19 890.308,935.777 985.09,1036.37 1079.87,1125.78 1174.65,1254.31 1269.44,1427.54 1364.22,1533.72 1459,935.777 1553.78,1041.95 1648.56,1198.43 1743.35,1293.43 1838.13,1405.19 1932.91,1477.84 2027.69,1600.78 2122.47,935.777 2217.26,1053.13 2312.04,1142.54 2406.82,1248.72 2501.6,1349.31 2596.39,1489.01 2691.17,1606.37 2785.95,935.777 2880.73,1053.13 2975.51,1176.07 3070.3,1282.25 \"/>\n",
       "<polyline clip-path=\"url(#clip312)\" style=\"stroke:#c271d2; stroke-linecap:round; stroke-linejoin:round; stroke-width:4; stroke-opacity:1; fill:none\" points=\"321.616,1215.19 416.398,1326.95 511.18,1466.66 605.962,1544.9 700.744,1639.9 795.526,1740.49 890.308,935.777 985.09,1047.54 1079.87,1131.37 1174.65,1220.78 1269.44,1310.19 1364.22,1388.43 1459,1494.6 1553.78,1600.78 1648.56,1701.37 1743.35,1774.02 1838.13,1774.02 1932.91,935.777 2027.69,1036.37 2122.47,1159.31 2217.26,1276.66 2312.04,1388.43 2406.82,1505.78 2501.6,1611.96 2596.39,1695.78 2691.17,935.777 2785.95,1036.37 2880.73,1081.07 2975.51,1176.07 3070.3,1276.66 \"/>\n",
       "<polyline clip-path=\"url(#clip312)\" style=\"stroke:#ac8d18; stroke-linecap:round; stroke-linejoin:round; stroke-width:4; stroke-opacity:1; fill:none\" points=\"321.616,1215.19 416.398,1321.37 511.18,1438.72 605.962,1561.66 700.744,935.777 795.526,1030.78 890.308,1187.25 985.09,1237.54 1079.87,1349.31 1174.65,1522.54 1269.44,1623.13 1364.22,1718.13 1459,1774.02 1553.78,1774.02 1648.56,1774.02 1743.35,935.777 1838.13,1008.42 1932.91,1131.37 2027.69,1254.31 2122.47,1315.78 2217.26,1455.48 2312.04,1572.84 2406.82,1645.49 2501.6,1774.02 2596.39,935.777 2691.17,1041.95 2785.95,1148.13 2880.73,1282.25 2975.51,1377.25 3070.3,1489.01 \"/>\n",
       "<polyline clip-path=\"url(#clip312)\" style=\"stroke:#00a9ad; stroke-linecap:round; stroke-linejoin:round; stroke-width:4; stroke-opacity:1; fill:none\" points=\"321.616,1215.19 416.398,1360.48 511.18,1511.37 605.962,1628.72 700.744,1774.02 795.526,1774.02 890.308,1774.02 985.09,935.777 1079.87,1041.95 1174.65,1159.31 1269.44,1293.43 1364.22,1416.37 1459,1505.78 1553.78,1617.54 1648.56,1729.31 1743.35,1774.02 1838.13,1774.02 1932.91,935.777 2027.69,1064.31 2122.47,1148.13 2217.26,1293.43 2312.04,1394.01 2406.82,1489.01 2501.6,935.777 2596.39,1058.72 2691.17,1159.31 2785.95,1299.01 2880.73,1427.54 2975.51,1539.31 3070.3,935.777 \"/>\n",
       "<polyline clip-path=\"url(#clip312)\" style=\"stroke:#ed5d92; stroke-linecap:round; stroke-linejoin:round; stroke-width:4; stroke-opacity:1; fill:none\" points=\"321.616,1215.19 416.398,1332.54 511.18,1444.31 605.962,1572.84 700.744,1634.31 795.526,935.777 890.308,1075.48 985.09,1187.25 1079.87,1315.78 1174.65,1399.6 1269.44,1483.43 1364.22,1578.43 1459,1651.07 1553.78,1746.07 1648.56,1774.02 1743.35,1774.02 1838.13,935.777 1932.91,1019.6 2027.69,1131.37 2122.47,1265.48 2217.26,1405.19 2312.04,1522.54 2406.82,1651.07 2501.6,935.777 2596.39,1081.07 2691.17,1209.6 2785.95,1326.95 2880.73,1416.37 2975.51,1489.01 3070.3,1578.43 \"/>\n",
       "<polyline clip-path=\"url(#clip312)\" style=\"stroke:#c68125; stroke-linecap:round; stroke-linejoin:round; stroke-width:4; stroke-opacity:1; fill:none\" points=\"321.616,1215.19 416.398,1332.54 511.18,1438.72 605.962,1572.84 700.744,935.777 795.526,1058.72 890.308,1204.01 985.09,1326.95 1079.87,1438.72 1174.65,1556.07 1269.44,935.777 1364.22,1053.13 1459,1136.95 1553.78,1254.31 1648.56,1399.6 1743.35,1533.72 1838.13,1645.49 1932.91,1751.66 2027.69,1774.02 2122.47,1774.02 2217.26,1774.02 2312.04,1774.02 2406.82,935.777 2501.6,1097.84 2596.39,1187.25 2691.17,1354.9 2785.95,1444.31 2880.73,1522.54 2975.51,1656.66 3070.3,1729.31 \"/>\n",
       "<polyline clip-path=\"url(#clip312)\" style=\"stroke:#00a98d; stroke-linecap:round; stroke-linejoin:round; stroke-width:4; stroke-opacity:1; fill:none\" points=\"321.616,1215.19 416.398,1366.07 511.18,1539.31 605.962,1673.43 700.744,656.364 795.526,796.071 890.308,919.012 985.09,1053.13 1079.87,1176.07 1174.65,1248.72 1269.44,1332.54 1364.22,1444.31 1459,1595.19 1553.78,1701.37 1648.56,656.364 1743.35,751.364 1838.13,907.836 1932.91,974.895 2027.69,1092.25 2122.47,1176.07 2217.26,1315.78 2312.04,1483.43 2406.82,1572.84 2501.6,656.364 2596.39,756.953 2691.17,835.188 2785.95,941.365 2880.73,1075.48 2975.51,1164.9 3070.3,1271.07 \"/>\n",
       "<polyline clip-path=\"url(#clip312)\" style=\"stroke:#8e971d; stroke-linecap:round; stroke-linejoin:round; stroke-width:4; stroke-opacity:1; fill:none\" points=\"321.616,1215.19 416.398,1293.43 511.18,1377.25 605.962,1477.84 700.744,1550.49 795.526,656.364 890.308,740.188 985.09,885.483 1079.87,1030.78 1174.65,1131.37 1269.44,1209.6 1364.22,1310.19 1459,1399.6 1553.78,1494.6 1648.56,1606.37 1743.35,656.364 1838.13,756.953 1932.91,857.541 2027.69,958.13 2122.47,1058.72 2217.26,1215.19 2312.04,1321.37 2406.82,1410.78 2501.6,1472.25 2596.39,1522.54 2691.17,656.364 2785.95,784.894 2880.73,896.659 2975.51,1030.78 3070.3,1136.95 \"/>\n",
       "<polyline clip-path=\"url(#clip312)\" style=\"stroke:#00a8cb; stroke-linecap:round; stroke-linejoin:round; stroke-width:4; stroke-opacity:1; fill:none\" points=\"321.616,1215.19 416.398,1282.25 511.18,1416.37 605.962,1556.07 700.744,1729.31 795.526,1774.02 890.308,656.364 985.09,745.776 1079.87,818.424 1174.65,913.424 1269.44,1025.19 1364.22,1187.25 1459,1310.19 1553.78,1438.72 1648.56,1539.31 1743.35,656.364 1838.13,784.894 1932.91,891.071 2027.69,1002.84 2122.47,1120.19 2217.26,1231.95 2312.04,1343.72 2406.82,1438.72 2501.6,1578.43 2596.39,1690.19 2691.17,656.364 2785.95,773.718 2880.73,885.483 2975.51,974.895 3070.3,1086.66 \"/>\n",
       "<polyline clip-path=\"url(#clip312)\" style=\"stroke:#9b7fe8; stroke-linecap:round; stroke-linejoin:round; stroke-width:4; stroke-opacity:1; fill:none\" points=\"321.616,1215.19 416.398,1343.72 511.18,1427.54 605.962,1556.07 700.744,1695.78 795.526,656.364 890.308,812.835 985.09,891.071 1079.87,1025.19 1174.65,1153.72 1269.44,1299.01 1364.22,1416.37 1459,1505.78 1553.78,1611.96 1648.56,656.364 1743.35,740.188 1838.13,874.306 1932.91,991.66 2027.69,1064.31 2122.47,1142.54 2217.26,1209.6 2312.04,1326.95 2406.82,1405.19 2501.6,1578.43 2596.39,1662.25 2691.17,656.364 2785.95,712.247 2880.73,807.247 2975.51,935.777 3070.3,997.248 \"/>\n",
       "<polyline clip-path=\"url(#clip312)\" style=\"stroke:#608cf6; stroke-linecap:round; stroke-linejoin:round; stroke-width:4; stroke-opacity:1; fill:none\" points=\"321.616,1215.19 416.398,1282.25 511.18,1388.43 605.962,1516.96 700.744,656.364 795.526,796.071 890.308,924.6 985.09,1064.31 1079.87,1164.9 1174.65,1282.25 1269.44,1388.43 1364.22,1483.43 1459,656.364 1553.78,745.776 1648.56,851.953 1743.35,980.483 1838.13,1081.07 1932.91,1181.66 2027.69,1237.54 2122.47,1321.37 2217.26,1438.72 2312.04,1550.49 2406.82,1701.37 2501.6,1774.02 2596.39,656.364 2691.17,745.776 2785.95,857.541 2880.73,969.307 2975.51,1103.42 3070.3,1231.95 \"/>\n",
       "<polyline clip-path=\"url(#clip312)\" style=\"stroke:#f05f73; stroke-linecap:round; stroke-linejoin:round; stroke-width:4; stroke-opacity:1; fill:none\" points=\"321.616,1215.19 416.398,1360.48 511.18,1494.6 605.962,1662.25 700.744,1774.02 795.526,656.364 890.308,796.071 985.09,874.306 1079.87,1030.78 1174.65,1148.13 1269.44,1248.72 1364.22,1377.25 1459,1489.01 1553.78,1606.37 1648.56,656.364 1743.35,784.894 1838.13,941.365 1932.91,1036.37 2027.69,1103.42 2122.47,1243.13 2217.26,1343.72 2312.04,1444.31 2406.82,1544.9 2501.6,656.364 2596.39,796.071 2691.17,885.483 2785.95,980.483 2880.73,1053.13 2975.51,1142.54 3070.3,1287.84 \"/>\n",
       "<polyline clip-path=\"url(#clip312)\" style=\"stroke:#dd64b5; stroke-linecap:round; stroke-linejoin:round; stroke-width:4; stroke-opacity:1; fill:none\" points=\"321.616,1215.19 416.398,1366.07 511.18,1483.43 605.962,656.364 700.744,773.718 795.526,885.483 890.308,991.66 985.09,1069.9 1079.87,1192.84 1174.65,1304.6 1269.44,1449.9 1364.22,1528.13 1459,1623.13 1553.78,656.364 1648.56,773.718 1743.35,851.953 1838.13,997.248 1932.91,1103.42 2027.69,1192.84 2122.47,1304.6 2217.26,1449.9 2312.04,1611.96 2406.82,1684.6 2501.6,656.364 2596.39,807.247 2691.17,902.247 2785.95,986.071 2880.73,1114.6 2975.51,1226.37 3070.3,1332.54 \"/>\n",
       "<polyline clip-path=\"url(#clip312)\" style=\"stroke:#6b9e32; stroke-linecap:round; stroke-linejoin:round; stroke-width:4; stroke-opacity:1; fill:none\" points=\"321.616,1215.19 416.398,1343.72 511.18,1427.54 605.962,1533.72 700.744,1623.13 795.526,656.364 890.308,740.188 985.09,885.483 1079.87,1008.42 1174.65,1125.78 1269.44,1209.6 1364.22,1354.9 1459,1483.43 1553.78,1578.43 1648.56,1667.84 1743.35,1746.07 1838.13,656.364 1932.91,768.129 2027.69,885.483 2122.47,969.307 2217.26,1114.6 2312.04,1243.13 2406.82,1354.9 2501.6,1455.48 2596.39,1606.37 2691.17,1695.78 2785.95,1774.02 2880.73,1774.02 2975.51,1774.02 3070.3,656.364 \"/>\n",
       "<polyline clip-path=\"url(#clip312)\" style=\"stroke:#009af9; stroke-linecap:round; stroke-linejoin:round; stroke-width:4; stroke-opacity:1; fill:none\" points=\"321.616,1215.19 416.398,1349.31 511.18,1472.25 605.962,1589.6 700.744,656.364 795.526,762.541 890.308,879.894 985.09,969.307 1079.87,1069.9 1174.65,1164.9 1269.44,1265.48 1364.22,1394.01 1459,1539.31 1553.78,656.364 1648.56,740.188 1743.35,835.188 1838.13,907.836 1932.91,1053.13 2027.69,1187.25 2122.47,1271.07 2217.26,1394.01 2312.04,1516.96 2406.82,656.364 2501.6,762.541 2596.39,891.071 2691.17,991.66 2785.95,1086.66 2880.73,1209.6 2975.51,1332.54 3070.3,1427.54 \"/>\n",
       "<polyline clip-path=\"url(#clip312)\" style=\"stroke:#e26f46; stroke-linecap:round; stroke-linejoin:round; stroke-width:4; stroke-opacity:1; fill:none\" points=\"321.616,1215.19 416.398,1315.78 511.18,1444.31 605.962,1556.07 700.744,656.364 795.526,756.953 890.308,885.483 985.09,980.483 1079.87,1081.07 1174.65,1243.13 1269.44,1354.9 1364.22,1444.31 1459,1567.25 1553.78,1684.6 1648.56,656.364 1743.35,762.541 1838.13,846.365 1932.91,941.365 2027.69,1041.95 2122.47,1136.95 2217.26,1220.78 2312.04,1315.78 2406.82,1416.37 2501.6,1539.31 2596.39,1662.25 2691.17,1757.25 2785.95,656.364 2880.73,740.188 2975.51,846.365 3070.3,958.13 \"/>\n",
       "<polyline clip-path=\"url(#clip312)\" style=\"stroke:#3da44d; stroke-linecap:round; stroke-linejoin:round; stroke-width:4; stroke-opacity:1; fill:none\" points=\"321.616,1215.19 416.398,1310.19 511.18,1427.54 605.962,1511.37 700.744,1595.19 795.526,376.951 890.308,460.775 985.09,578.129 1079.87,673.129 1174.65,796.071 1269.44,907.836 1364.22,1008.42 1459,1125.78 1553.78,1254.31 1648.56,1360.48 1743.35,1466.66 1838.13,1589.6 1932.91,376.951 2027.69,488.716 2122.47,589.305 2217.26,740.188 2312.04,824.012 2406.82,935.777 2501.6,1053.13 2596.39,1153.72 2691.17,1299.01 2785.95,1371.66 2880.73,1489.01 2975.51,1589.6 3070.3,376.951 \"/>\n",
       "<polyline clip-path=\"url(#clip312)\" style=\"stroke:#c271d2; stroke-linecap:round; stroke-linejoin:round; stroke-width:4; stroke-opacity:1; fill:none\" points=\"321.616,1215.19 416.398,1343.72 511.18,1427.54 605.962,1550.49 700.744,1634.31 795.526,1774.02 890.308,376.951 985.09,511.069 1079.87,645.188 1174.65,768.129 1269.44,863.13 1364.22,963.718 1459,1069.9 1553.78,1198.43 1648.56,1293.43 1743.35,1371.66 1838.13,1489.01 1932.91,1606.37 2027.69,1723.72 2122.47,1774.02 2217.26,376.951 2312.04,499.893 2406.82,600.482 2501.6,673.129 2596.39,762.541 2691.17,874.306 2785.95,952.542 2880.73,1075.48 2975.51,1187.25 3070.3,1293.43 \"/>\n",
       "<polyline clip-path=\"url(#clip312)\" style=\"stroke:#ac8d18; stroke-linecap:round; stroke-linejoin:round; stroke-width:4; stroke-opacity:1; fill:none\" points=\"321.616,1215.19 416.398,1377.25 511.18,1500.19 605.962,1606.37 700.744,376.951 795.526,466.363 890.308,566.952 985.09,656.364 1079.87,790.482 1174.65,891.071 1269.44,980.483 1364.22,1097.84 1459,1220.78 1553.78,1310.19 1648.56,1455.48 1743.35,1567.25 1838.13,376.951 1932.91,483.128 2027.69,606.07 2122.47,712.247 2217.26,879.894 2312.04,974.895 2406.82,1075.48 2501.6,1204.01 2596.39,1299.01 2691.17,1410.78 2785.95,1556.07 2880.73,1662.25 2975.51,376.951 3070.3,505.481 \"/>\n",
       "<polyline clip-path=\"url(#clip312)\" style=\"stroke:#00a9ad; stroke-linecap:round; stroke-linejoin:round; stroke-width:4; stroke-opacity:1; fill:none\" points=\"321.616,1215.19 416.398,1338.13 511.18,1472.25 605.962,1567.25 700.744,1690.19 795.526,376.951 890.308,466.363 985.09,594.893 1079.87,723.423 1174.65,807.247 1269.44,958.13 1364.22,1109.01 1459,1231.95 1553.78,1326.95 1648.56,1421.96 1743.35,1528.13 1838.13,1606.37 1932.91,1706.96 2027.69,376.951 2122.47,499.893 2217.26,589.305 2312.04,673.129 2406.82,762.541 2501.6,846.365 2596.39,963.718 2691.17,1120.19 2785.95,1237.54 2880.73,1354.9 2975.51,1461.07 3070.3,1600.78 \"/>\n",
       "<polyline clip-path=\"url(#clip312)\" style=\"stroke:#ed5d92; stroke-linecap:round; stroke-linejoin:round; stroke-width:4; stroke-opacity:1; fill:none\" points=\"321.616,1215.19 416.398,1326.95 511.18,1444.31 605.962,1550.49 700.744,1695.78 795.526,1774.02 890.308,376.951 985.09,488.716 1079.87,611.658 1174.65,701.07 1269.44,835.188 1364.22,974.895 1459,1086.66 1553.78,1198.43 1648.56,1326.95 1743.35,1399.6 1838.13,1567.25 1932.91,1645.49 2027.69,1740.49 2122.47,376.951 2217.26,455.187 2312.04,561.364 2406.82,661.952 2501.6,740.188 2596.39,835.188 2691.17,919.012 2785.95,1014.01 2880.73,1164.9 2975.51,1243.13 3070.3,1360.48 \"/>\n",
       "<polyline clip-path=\"url(#clip312)\" style=\"stroke:#c68125; stroke-linecap:round; stroke-linejoin:round; stroke-width:4; stroke-opacity:1; fill:none\" points=\"321.616,1215.19 416.398,1304.6 511.18,1444.31 605.962,1522.54 700.744,1656.66 795.526,1774.02 890.308,376.951 985.09,449.599 1079.87,550.187 1174.65,650.776 1269.44,768.129 1364.22,874.306 1459,991.66 1553.78,1125.78 1648.56,1304.6 1743.35,1427.54 1838.13,1544.9 1932.91,1662.25 2027.69,1734.9 2122.47,1774.02 2217.26,1774.02 2312.04,376.951 2406.82,494.305 2501.6,639.599 2596.39,756.953 2691.17,885.483 2785.95,991.66 2880.73,1081.07 2975.51,1170.48 3070.3,1299.01 \"/>\n",
       "<polyline clip-path=\"url(#clip312)\" style=\"stroke:#00a98d; stroke-linecap:round; stroke-linejoin:round; stroke-width:4; stroke-opacity:1; fill:none\" points=\"321.616,1215.19 416.398,1310.19 511.18,1405.19 605.962,1511.37 700.744,1639.9 795.526,1751.66 890.308,1774.02 985.09,1774.02 1079.87,1774.02 1174.65,376.951 1269.44,544.599 1364.22,628.423 1459,723.423 1553.78,824.012 1648.56,958.13 1743.35,1041.95 1838.13,1148.13 1932.91,1293.43 2027.69,1416.37 2122.47,1522.54 2217.26,376.951 2312.04,432.834 2406.82,522.246 2501.6,650.776 2596.39,762.541 2691.17,835.188 2785.95,946.953 2880.73,1069.9 2975.51,1153.72 3070.3,1248.72 \"/>\n",
       "<polyline clip-path=\"url(#clip312)\" style=\"stroke:#8e971d; stroke-linecap:round; stroke-linejoin:round; stroke-width:4; stroke-opacity:1; fill:none\" points=\"321.616,1215.19 416.398,1366.07 511.18,1483.43 605.962,1645.49 700.744,1762.84 795.526,376.951 890.308,499.893 985.09,639.599 1079.87,723.423 1174.65,851.953 1269.44,997.248 1364.22,1131.37 1459,1237.54 1553.78,1315.78 1648.56,1455.48 1743.35,1645.49 1838.13,1774.02 1932.91,376.951 2027.69,511.069 2122.47,645.188 2217.26,729.011 2312.04,857.541 2406.82,991.66 2501.6,1103.42 2596.39,1226.37 2691.17,1360.48 2785.95,1466.66 2880.73,1595.19 2975.51,1762.84 3070.3,376.951 \"/>\n",
       "<polyline clip-path=\"url(#clip312)\" style=\"stroke:#00a8cb; stroke-linecap:round; stroke-linejoin:round; stroke-width:4; stroke-opacity:1; fill:none\" points=\"321.616,1215.19 416.398,1310.19 511.18,1444.31 605.962,1584.01 700.744,1667.84 795.526,1774.02 890.308,1774.02 985.09,1774.02 1079.87,376.951 1174.65,471.952 1269.44,600.482 1364.22,723.423 1459,857.541 1553.78,980.483 1648.56,1069.9 1743.35,1187.25 1838.13,1276.66 1932.91,1371.66 2027.69,1489.01 2122.47,1567.25 2217.26,1695.78 2312.04,1774.02 2406.82,376.951 2501.6,555.775 2596.39,656.364 2691.17,790.482 2785.95,913.424 2880.73,1008.42 2975.51,1164.9 3070.3,1293.43 \"/>\n",
       "<polyline clip-path=\"url(#clip312)\" style=\"stroke:#9b7fe8; stroke-linecap:round; stroke-linejoin:round; stroke-width:4; stroke-opacity:1; fill:none\" points=\"321.616,1215.19 416.398,1343.72 511.18,1483.43 605.962,1567.25 700.744,1729.31 795.526,376.951 890.308,505.481 985.09,639.599 1079.87,762.541 1174.65,891.071 1269.44,1008.42 1364.22,1058.72 1459,1170.48 1553.78,1282.25 1648.56,1394.01 1743.35,1489.01 1838.13,1595.19 1932.91,1751.66 2027.69,1774.02 2122.47,376.951 2217.26,438.422 2312.04,522.246 2406.82,634.011 2501.6,751.364 2596.39,846.365 2691.17,963.718 2785.95,1041.95 2880.73,1148.13 2975.51,1271.07 3070.3,1366.07 \"/>\n",
       "<polyline clip-path=\"url(#clip312)\" style=\"stroke:#608cf6; stroke-linecap:round; stroke-linejoin:round; stroke-width:4; stroke-opacity:1; fill:none\" points=\"321.616,1215.19 416.398,1349.31 511.18,1455.48 605.962,1544.9 700.744,97.5384 795.526,181.362 890.308,304.304 985.09,421.657 1079.87,555.775 1174.65,673.129 1269.44,835.188 1364.22,946.953 1459,1081.07 1553.78,1215.19 1648.56,1321.37 1743.35,1388.43 1838.13,1511.37 1932.91,1600.78 2027.69,1690.19 2122.47,97.5384 2217.26,214.892 2312.04,349.01 2406.82,471.952 2501.6,611.658 2596.39,740.188 2691.17,879.894 2785.95,969.307 2880.73,1086.66 2975.51,1198.43 3070.3,1287.84 \"/>\n",
       "<polyline clip-path=\"url(#clip312)\" style=\"stroke:#f05f73; stroke-linecap:round; stroke-linejoin:round; stroke-width:4; stroke-opacity:1; fill:none\" points=\"321.616,1215.19 416.398,1310.19 511.18,1421.96 605.962,1522.54 700.744,1651.07 795.526,97.5384 890.308,226.068 985.09,309.892 1079.87,438.422 1174.65,617.246 1269.44,734.6 1364.22,835.188 1459,941.365 1553.78,1064.31 1648.56,1148.13 1743.35,1304.6 1838.13,1433.13 1932.91,1561.66 2027.69,97.5384 2122.47,226.068 2217.26,321.069 2312.04,444.01 2406.82,550.187 2501.6,656.364 2596.39,824.012 2691.17,958.13 2785.95,1103.42 2880.73,1192.84 2975.51,1321.37 3070.3,1394.01 \"/>\n",
       "<polyline clip-path=\"url(#clip312)\" style=\"stroke:#dd64b5; stroke-linecap:round; stroke-linejoin:round; stroke-width:4; stroke-opacity:1; fill:none\" points=\"321.616,1215.19 416.398,1366.07 511.18,1494.6 605.962,1606.37 700.744,1690.19 795.526,97.5384 890.308,214.892 985.09,293.127 1079.87,376.951 1174.65,483.128 1269.44,578.129 1364.22,678.717 1459,796.071 1553.78,902.247 1648.56,1025.19 1743.35,1153.72 1838.13,1282.25 1932.91,1343.72 2027.69,1416.37 2122.47,1539.31 2217.26,1600.78 2312.04,97.5384 2406.82,242.833 2501.6,360.186 2596.39,460.775 2691.17,566.952 2785.95,684.305 2880.73,790.482 2975.51,891.071 3070.3,991.66 \"/>\n",
       "<polyline clip-path=\"url(#clip312)\" style=\"stroke:#6b9e32; stroke-linecap:round; stroke-linejoin:round; stroke-width:4; stroke-opacity:1; fill:none\" points=\"321.616,1215.19 416.398,1343.72 511.18,1427.54 605.962,1516.96 700.744,97.5384 795.526,214.892 890.308,332.245 985.09,438.422 1079.87,550.187 1174.65,645.188 1269.44,751.364 1364.22,863.13 1459,997.248 1553.78,1069.9 1648.56,1220.78 1743.35,1338.13 1838.13,1461.07 1932.91,1578.43 2027.69,97.5384 2122.47,242.833 2217.26,343.422 2312.04,438.422 2406.82,544.599 2501.6,673.129 2596.39,812.835 2691.17,958.13 2785.95,1047.54 2880.73,1153.72 2975.51,1248.72 3070.3,1326.95 \"/>\n",
       "<polyline clip-path=\"url(#clip312)\" style=\"stroke:#009af9; stroke-linecap:round; stroke-linejoin:round; stroke-width:4; stroke-opacity:1; fill:none\" points=\"321.616,1215.19 416.398,1326.95 511.18,1421.96 605.962,1556.07 700.744,1679.02 795.526,97.5384 890.308,186.951 985.09,259.598 1079.87,360.186 1174.65,488.716 1269.44,606.07 1364.22,729.011 1459,801.659 1553.78,941.365 1648.56,1047.54 1743.35,1192.84 1838.13,1326.95 1932.91,1444.31 2027.69,1600.78 2122.47,1656.66 2217.26,1762.84 2312.04,97.5384 2406.82,237.245 2501.6,354.598 2596.39,471.952 2691.17,561.364 2785.95,673.129 2880.73,846.365 2975.51,958.13 3070.3,1131.37 \"/>\n",
       "<polyline clip-path=\"url(#clip312)\" style=\"stroke:#e26f46; stroke-linecap:round; stroke-linejoin:round; stroke-width:4; stroke-opacity:1; fill:none\" points=\"321.616,1215.19 416.398,1360.48 511.18,1494.6 605.962,1578.43 700.744,1729.31 795.526,97.5384 890.308,220.48 985.09,371.363 1079.87,544.599 1174.65,678.717 1269.44,812.835 1364.22,946.953 1459,1025.19 1553.78,1142.54 1648.56,1287.84 1743.35,1416.37 1838.13,1483.43 1932.91,1550.49 2027.69,1723.72 2122.47,97.5384 2217.26,209.304 2312.04,337.833 2406.82,455.187 2501.6,566.952 2596.39,712.247 2691.17,840.777 2785.95,941.365 2880.73,1025.19 2975.51,1142.54 3070.3,1259.9 \"/>\n",
       "<polyline clip-path=\"url(#clip312)\" style=\"stroke:#3da44d; stroke-linecap:round; stroke-linejoin:round; stroke-width:4; stroke-opacity:1; fill:none\" points=\"321.616,1215.19 416.398,1310.19 511.18,1416.37 605.962,1528.13 700.744,1645.49 795.526,1746.07 890.308,97.5384 985.09,248.421 1079.87,332.245 1174.65,460.775 1269.44,561.364 1364.22,684.305 1459,784.894 1553.78,868.718 1648.56,969.307 1743.35,1097.84 1838.13,1204.01 1932.91,1321.37 2027.69,1405.19 2122.47,1483.43 2217.26,97.5384 2312.04,220.48 2406.82,281.951 2501.6,399.304 2596.39,505.481 2691.17,617.246 2785.95,756.953 2880.73,840.777 2975.51,958.13 3070.3,1069.9 \"/>\n",
       "<polyline clip-path=\"url(#clip312)\" style=\"stroke:#c271d2; stroke-linecap:round; stroke-linejoin:round; stroke-width:4; stroke-opacity:1; fill:none\" points=\"321.616,1215.19 416.398,1287.84 511.18,1416.37 605.962,1539.31 700.744,1690.19 795.526,97.5384 890.308,242.833 985.09,365.775 1079.87,460.775 1174.65,539.011 1269.44,650.776 1364.22,762.541 1459,863.13 1553.78,997.248 1648.56,1114.6 1743.35,1209.6 1838.13,1332.54 1932.91,1416.37 2027.69,1522.54 2122.47,97.5384 2217.26,153.421 2312.04,237.245 2406.82,349.01 2501.6,438.422 2596.39,499.893 2691.17,600.482 2785.95,706.658 2880.73,840.777 2975.51,958.13 3070.3,1120.19 \"/>\n",
       "<polyline clip-path=\"url(#clip312)\" style=\"stroke:#ac8d18; stroke-linecap:round; stroke-linejoin:round; stroke-width:4; stroke-opacity:1; fill:none\" points=\"321.616,1215.19 416.398,1304.6 511.18,1382.84 605.962,1522.54 700.744,1628.72 795.526,97.5384 890.308,220.48 985.09,304.304 1079.87,416.069 1174.65,494.305 1269.44,600.482 1364.22,695.482 1459,784.894 1553.78,851.953 1648.56,991.66 1743.35,1125.78 1838.13,1215.19 1932.91,1326.95 2027.69,1438.72 2122.47,1528.13 2217.26,97.5384 2312.04,198.127 2406.82,304.304 2501.6,388.128 2596.39,483.128 2691.17,578.129 2785.95,667.541 2880.73,773.718 2975.51,857.541 3070.3,935.777 \"/>\n",
       "<polyline clip-path=\"url(#clip312)\" style=\"stroke:#00a9ad; stroke-linecap:round; stroke-linejoin:round; stroke-width:4; stroke-opacity:1; fill:none\" points=\"321.616,1215.19 416.398,1310.19 511.18,1416.37 605.962,1511.37 700.744,1578.43 795.526,1667.84 890.308,1774.02 985.09,1774.02 1079.87,1774.02 1174.65,97.5384 1269.44,198.127 1364.22,309.892 1459,438.422 1553.78,527.834 1648.56,622.835 1743.35,723.423 1838.13,857.541 1932.91,958.13 2027.69,1103.42 2122.47,1204.01 2217.26,1360.48 2312.04,1466.66 2406.82,1572.84 2501.6,97.5384 2596.39,237.245 2691.17,343.422 2785.95,483.128 2880.73,606.07 2975.51,717.835 3070.3,812.835 \"/>\n",
       "<polyline clip-path=\"url(#clip312)\" style=\"stroke:#ed5d92; stroke-linecap:round; stroke-linejoin:round; stroke-width:4; stroke-opacity:1; fill:none\" points=\"321.616,1215.19 416.398,1343.72 511.18,1477.84 605.962,1215.19 700.744,1371.66 795.526,1483.43 890.308,1215.19 985.09,1315.78 1079.87,1405.19 1174.65,1544.9 1269.44,1656.66 1364.22,1215.19 1459,1310.19 1553.78,1427.54 1648.56,1595.19 1743.35,1215.19 1838.13,1326.95 1932.91,1416.37 2027.69,1544.9 2122.47,1215.19 2217.26,1321.37 2312.04,1421.96 2406.82,1544.9 2501.6,1673.43 2596.39,1215.19 2691.17,1315.78 2785.95,1433.13 2880.73,1578.43 2975.51,1215.19 3070.3,1310.19 \"/>\n",
       "<polyline clip-path=\"url(#clip312)\" style=\"stroke:#c68125; stroke-linecap:round; stroke-linejoin:round; stroke-width:4; stroke-opacity:1; fill:none\" points=\"321.616,1215.19 416.398,1293.43 511.18,1416.37 605.962,1477.84 700.744,1215.19 795.526,1299.01 890.308,1449.9 985.09,1516.96 1079.87,1651.07 1174.65,1740.49 1269.44,1215.19 1364.22,1282.25 1459,1349.31 1553.78,1472.25 1648.56,1617.54 1743.35,1215.19 1838.13,1321.37 1932.91,1438.72 2027.69,1584.01 2122.47,1690.19 2217.26,1774.02 2312.04,1215.19 2406.82,1315.78 2501.6,1410.78 2596.39,1494.6 2691.17,1215.19 2785.95,1326.95 2880.73,1427.54 2975.51,1539.31 3070.3,1690.19 \"/>\n",
       "<polyline clip-path=\"url(#clip312)\" style=\"stroke:#00a98d; stroke-linecap:round; stroke-linejoin:round; stroke-width:4; stroke-opacity:1; fill:none\" points=\"321.616,1215.19 416.398,1321.37 511.18,1427.54 605.962,1539.31 700.744,1679.02 795.526,1215.19 890.308,1315.78 985.09,1449.9 1079.87,1584.01 1174.65,1215.19 1269.44,1360.48 1364.22,1455.48 1459,1561.66 1553.78,1215.19 1648.56,1304.6 1743.35,1427.54 1838.13,1556.07 1932.91,1215.19 2027.69,1377.25 2122.47,1466.66 2217.26,1215.19 2312.04,1332.54 2406.82,1483.43 2501.6,1556.07 2596.39,1639.9 2691.17,1215.19 2785.95,1315.78 2880.73,1410.78 2975.51,1522.54 3070.3,1628.72 \"/>\n",
       "<polyline clip-path=\"url(#clip312)\" style=\"stroke:#8e971d; stroke-linecap:round; stroke-linejoin:round; stroke-width:4; stroke-opacity:1; fill:none\" points=\"321.616,1215.19 416.398,1338.13 511.18,1466.66 605.962,1600.78 700.744,1215.19 795.526,1315.78 890.308,1427.54 985.09,1556.07 1079.87,1673.43 1174.65,1215.19 1269.44,1321.37 1364.22,1421.96 1459,1528.13 1553.78,1628.72 1648.56,1751.66 1743.35,1215.19 1838.13,1338.13 1932.91,1461.07 2027.69,1567.25 2122.47,1656.66 2217.26,1215.19 2312.04,1366.07 2406.82,1444.31 2501.6,1528.13 2596.39,1215.19 2691.17,1354.9 2785.95,1449.9 2880.73,1215.19 2975.51,1326.95 3070.3,1461.07 \"/>\n",
       "<polyline clip-path=\"url(#clip312)\" style=\"stroke:#00a8cb; stroke-linecap:round; stroke-linejoin:round; stroke-width:4; stroke-opacity:1; fill:none\" points=\"321.616,1215.19 416.398,1304.6 511.18,1421.96 605.962,1522.54 700.744,1684.6 795.526,1774.02 890.308,1774.02 985.09,1215.19 1079.87,1293.43 1174.65,1388.43 1269.44,1472.25 1364.22,1572.84 1459,1673.43 1553.78,1215.19 1648.56,1371.66 1743.35,1466.66 1838.13,1578.43 1932.91,1701.37 2027.69,1768.43 2122.47,1215.19 2217.26,1299.01 2312.04,1433.13 2406.82,1522.54 2501.6,1215.19 2596.39,1299.01 2691.17,1416.37 2785.95,1561.66 2880.73,1215.19 2975.51,1315.78 3070.3,1405.19 \"/>\n",
       "<polyline clip-path=\"url(#clip312)\" style=\"stroke:#9b7fe8; stroke-linecap:round; stroke-linejoin:round; stroke-width:4; stroke-opacity:1; fill:none\" points=\"321.616,1215.19 416.398,1349.31 511.18,1477.84 605.962,1215.19 700.744,1338.13 795.526,1489.01 890.308,1215.19 985.09,1360.48 1079.87,1500.19 1174.65,1617.54 1269.44,1215.19 1364.22,1343.72 1459,1461.07 1553.78,1589.6 1648.56,1215.19 1743.35,1338.13 1838.13,1438.72 1932.91,1516.96 2027.69,1606.37 2122.47,1684.6 2217.26,1774.02 2312.04,1774.02 2406.82,1215.19 2501.6,1299.01 2596.39,1416.37 2691.17,1516.96 2785.95,1215.19 2880.73,1299.01 2975.51,1427.54 3070.3,1556.07 \"/>\n",
       "<polyline clip-path=\"url(#clip312)\" style=\"stroke:#608cf6; stroke-linecap:round; stroke-linejoin:round; stroke-width:4; stroke-opacity:1; fill:none\" points=\"321.616,1215.19 416.398,1304.6 511.18,1449.9 605.962,1584.01 700.744,1706.96 795.526,1215.19 890.308,1287.84 985.09,1349.31 1079.87,1472.25 1174.65,1215.19 1269.44,1310.19 1364.22,1416.37 1459,1556.07 1553.78,1215.19 1648.56,1304.6 1743.35,1421.96 1838.13,1589.6 1932.91,1706.96 2027.69,1774.02 2122.47,1774.02 2217.26,1774.02 2312.04,1215.19 2406.82,1338.13 2501.6,1449.9 2596.39,1215.19 2691.17,1326.95 2785.95,1438.72 2880.73,1561.66 2975.51,1215.19 3070.3,1321.37 \"/>\n",
       "<polyline clip-path=\"url(#clip312)\" style=\"stroke:#f05f73; stroke-linecap:round; stroke-linejoin:round; stroke-width:4; stroke-opacity:1; fill:none\" points=\"321.616,1215.19 416.398,1338.13 511.18,1461.07 605.962,1600.78 700.744,1706.96 795.526,1215.19 890.308,1354.9 985.09,1449.9 1079.87,1561.66 1174.65,1215.19 1269.44,1293.43 1364.22,1410.78 1459,1489.01 1553.78,1215.19 1648.56,1377.25 1743.35,1489.01 1838.13,1550.49 1932.91,1667.84 2027.69,1774.02 2122.47,1215.19 2217.26,1326.95 2312.04,1377.25 2406.82,1516.96 2501.6,1623.13 2596.39,1774.02 2691.17,1774.02 2785.95,1215.19 2880.73,1299.01 2975.51,1382.84 3070.3,1500.19 \"/>\n",
       "<polyline clip-path=\"url(#clip312)\" style=\"stroke:#dd64b5; stroke-linecap:round; stroke-linejoin:round; stroke-width:4; stroke-opacity:1; fill:none\" points=\"321.616,1215.19 416.398,1343.72 511.18,1466.66 605.962,1544.9 700.744,1215.19 795.526,1326.95 890.308,1433.13 985.09,1556.07 1079.87,1215.19 1174.65,1338.13 1269.44,1416.37 1364.22,1528.13 1459,1215.19 1553.78,1366.07 1648.56,1466.66 1743.35,1550.49 1838.13,1215.19 1932.91,1321.37 2027.69,1416.37 2122.47,1550.49 2217.26,1651.07 2312.04,1774.02 2406.82,1774.02 2501.6,1774.02 2596.39,1774.02 2691.17,1774.02 2785.95,1774.02 2880.73,1774.02 2975.51,1215.19 3070.3,1321.37 \"/>\n",
       "<polyline clip-path=\"url(#clip312)\" style=\"stroke:#6b9e32; stroke-linecap:round; stroke-linejoin:round; stroke-width:4; stroke-opacity:1; fill:none\" points=\"321.616,1215.19 416.398,1343.72 511.18,1421.96 605.962,1528.13 700.744,1215.19 795.526,1332.54 890.308,1410.78 985.09,1528.13 1079.87,1215.19 1174.65,1338.13 1269.44,1449.9 1364.22,1550.49 1459,1706.96 1553.78,1774.02 1648.56,1215.19 1743.35,1287.84 1838.13,1371.66 1932.91,1472.25 2027.69,1572.84 2122.47,1673.43 2217.26,1215.19 2312.04,1315.78 2406.82,1382.84 2501.6,1461.07 2596.39,1567.25 2691.17,1639.9 2785.95,1690.19 2880.73,1215.19 2975.51,1299.01 3070.3,1382.84 \"/>\n",
       "<polyline clip-path=\"url(#clip312)\" style=\"stroke:#009af9; stroke-linecap:round; stroke-linejoin:round; stroke-width:4; stroke-opacity:1; fill:none\" points=\"321.616,1215.19 416.398,1287.84 511.18,1388.43 605.962,1533.72 700.744,935.777 795.526,1036.37 890.308,1170.48 985.09,1304.6 1079.87,1399.6 1174.65,1522.54 1269.44,935.777 1364.22,1064.31 1459,1170.48 1553.78,1282.25 1648.56,1444.31 1743.35,1550.49 1838.13,935.777 1932.91,1014.01 2027.69,1148.13 2122.47,1259.9 2217.26,1354.9 2312.04,1483.43 2406.82,935.777 2501.6,1069.9 2596.39,1164.9 2691.17,1282.25 2785.95,1399.6 2880.73,1489.01 2975.51,1572.84 3070.3,935.777 \"/>\n",
       "<polyline clip-path=\"url(#clip312)\" style=\"stroke:#e26f46; stroke-linecap:round; stroke-linejoin:round; stroke-width:4; stroke-opacity:1; fill:none\" points=\"321.616,1215.19 416.398,1315.78 511.18,1377.25 605.962,1500.19 700.744,1690.19 795.526,1768.43 890.308,1774.02 985.09,935.777 1079.87,1025.19 1174.65,1103.42 1269.44,1187.25 1364.22,1310.19 1459,1433.13 1553.78,1556.07 1648.56,935.777 1743.35,1041.95 1838.13,1120.19 1932.91,1237.54 2027.69,1371.66 2122.47,1489.01 2217.26,1595.19 2312.04,1718.13 2406.82,935.777 2501.6,1025.19 2596.39,1153.72 2691.17,1265.48 2785.95,1354.9 2880.73,1477.84 2975.51,1572.84 3070.3,1639.9 \"/>\n",
       "<polyline clip-path=\"url(#clip312)\" style=\"stroke:#3da44d; stroke-linecap:round; stroke-linejoin:round; stroke-width:4; stroke-opacity:1; fill:none\" points=\"321.616,1215.19 416.398,1354.9 511.18,1505.78 605.962,935.777 700.744,1081.07 795.526,1215.19 890.308,1287.84 985.09,1416.37 1079.87,1483.43 1174.65,935.777 1269.44,1041.95 1364.22,1159.31 1459,1276.66 1553.78,1377.25 1648.56,1461.07 1743.35,1572.84 1838.13,935.777 1932.91,1069.9 2027.69,1136.95 2122.47,1198.43 2217.26,1343.72 2312.04,1416.37 2406.82,1533.72 2501.6,935.777 2596.39,1002.84 2691.17,1086.66 2785.95,1148.13 2880.73,1276.66 2975.51,1405.19 3070.3,1544.9 \"/>\n",
       "<polyline clip-path=\"url(#clip312)\" style=\"stroke:#c271d2; stroke-linecap:round; stroke-linejoin:round; stroke-width:4; stroke-opacity:1; fill:none\" points=\"321.616,1215.19 416.398,1304.6 511.18,1416.37 605.962,1494.6 700.744,1600.78 795.526,935.777 890.308,1081.07 985.09,1215.19 1079.87,1354.9 1174.65,1477.84 1269.44,1589.6 1364.22,1729.31 1459,935.777 1553.78,1025.19 1648.56,1125.78 1743.35,1259.9 1838.13,1343.72 1932.91,1433.13 2027.69,1533.72 2122.47,1595.19 2217.26,935.777 2312.04,1036.37 2406.82,1136.95 2501.6,1231.95 2596.39,1366.07 2691.17,1477.84 2785.95,1539.31 2880.73,935.777 2975.51,1053.13 3070.3,1125.78 \"/>\n",
       "<polyline clip-path=\"url(#clip312)\" style=\"stroke:#ac8d18; stroke-linecap:round; stroke-linejoin:round; stroke-width:4; stroke-opacity:1; fill:none\" points=\"321.616,1215.19 416.398,1315.78 511.18,1438.72 605.962,1556.07 700.744,935.777 795.526,1064.31 890.308,1159.31 985.09,1265.48 1079.87,1343.72 1174.65,1483.43 1269.44,935.777 1364.22,1064.31 1459,1209.6 1553.78,1310.19 1648.56,1394.01 1743.35,1494.6 1838.13,1578.43 1932.91,935.777 2027.69,1053.13 2122.47,1181.66 2217.26,1243.13 2312.04,1399.6 2406.82,1572.84 2501.6,935.777 2596.39,1025.19 2691.17,1114.6 2785.95,1181.66 2880.73,1276.66 2975.51,1382.84 3070.3,1483.43 \"/>\n",
       "<polyline clip-path=\"url(#clip312)\" style=\"stroke:#00a9ad; stroke-linecap:round; stroke-linejoin:round; stroke-width:4; stroke-opacity:1; fill:none\" points=\"321.616,1215.19 416.398,1371.66 511.18,1489.01 605.962,1561.66 700.744,1695.78 795.526,1774.02 890.308,935.777 985.09,1030.78 1079.87,1159.31 1174.65,1254.31 1269.44,1349.31 1364.22,1410.78 1459,1522.54 1553.78,935.777 1648.56,1075.48 1743.35,1164.9 1838.13,1293.43 1932.91,1366.07 2027.69,1461.07 2122.47,935.777 2217.26,1025.19 2312.04,1153.72 2406.82,1293.43 2501.6,1405.19 2596.39,1516.96 2691.17,935.777 2785.95,1036.37 2880.73,1109.01 2975.51,1254.31 3070.3,1354.9 \"/>\n",
       "<polyline clip-path=\"url(#clip312)\" style=\"stroke:#ed5d92; stroke-linecap:round; stroke-linejoin:round; stroke-width:4; stroke-opacity:1; fill:none\" points=\"321.616,1215.19 416.398,1315.78 511.18,1405.19 605.962,1477.84 700.744,1617.54 795.526,935.777 890.308,1019.6 985.09,1153.72 1079.87,1248.72 1174.65,1366.07 1269.44,1472.25 1364.22,935.777 1459,1064.31 1553.78,1153.72 1648.56,1254.31 1743.35,1377.25 1838.13,1489.01 1932.91,1606.37 2027.69,1740.49 2122.47,935.777 2217.26,1041.95 2312.04,1204.01 2406.82,1349.31 2501.6,1472.25 2596.39,1516.96 2691.17,1628.72 2785.95,935.777 2880.73,1030.78 2975.51,1114.6 3070.3,1254.31 \"/>\n",
       "<polyline clip-path=\"url(#clip312)\" style=\"stroke:#c68125; stroke-linecap:round; stroke-linejoin:round; stroke-width:4; stroke-opacity:1; fill:none\" points=\"321.616,1215.19 416.398,1326.95 511.18,1455.48 605.962,1578.43 700.744,1679.02 795.526,935.777 890.308,1058.72 985.09,1164.9 1079.87,1220.78 1174.65,1360.48 1269.44,1449.9 1364.22,1544.9 1459,1667.84 1553.78,1746.07 1648.56,935.777 1743.35,1041.95 1838.13,1159.31 1932.91,1282.25 2027.69,1433.13 2122.47,1584.01 2217.26,935.777 2312.04,1014.01 2406.82,1142.54 2501.6,1271.07 2596.39,1427.54 2691.17,1567.25 2785.95,1723.72 2880.73,1774.02 2975.51,1774.02 3070.3,1774.02 \"/>\n",
       "<polyline clip-path=\"url(#clip312)\" style=\"stroke:#00a98d; stroke-linecap:round; stroke-linejoin:round; stroke-width:4; stroke-opacity:1; fill:none\" points=\"321.616,1215.19 416.398,1343.72 511.18,1433.13 605.962,1522.54 700.744,1634.31 795.526,1774.02 890.308,935.777 985.09,1069.9 1079.87,1176.07 1174.65,1304.6 1269.44,1410.78 1364.22,1516.96 1459,935.777 1553.78,1047.54 1648.56,1204.01 1743.35,1315.78 1838.13,1466.66 1932.91,1578.43 2027.69,935.777 2122.47,1019.6 2217.26,1131.37 2312.04,1226.37 2406.82,1338.13 2501.6,1444.31 2596.39,1550.49 2691.17,1651.07 2785.95,1740.49 2880.73,1774.02 2975.51,935.777 3070.3,1081.07 \"/>\n",
       "<polyline clip-path=\"url(#clip312)\" style=\"stroke:#8e971d; stroke-linecap:round; stroke-linejoin:round; stroke-width:4; stroke-opacity:1; fill:none\" points=\"321.616,1215.19 416.398,1349.31 511.18,1455.48 605.962,1556.07 700.744,935.777 795.526,1047.54 890.308,1198.43 985.09,1321.37 1079.87,1444.31 1174.65,935.777 1269.44,1036.37 1364.22,1125.78 1459,1220.78 1553.78,1287.84 1648.56,1388.43 1743.35,1483.43 1838.13,935.777 1932.91,1075.48 2027.69,1215.19 2122.47,1326.95 2217.26,1461.07 2312.04,1561.66 2406.82,935.777 2501.6,1053.13 2596.39,1176.07 2691.17,1315.78 2785.95,1366.07 2880.73,1421.96 2975.51,1578.43 3070.3,1651.07 \"/>\n",
       "<polyline clip-path=\"url(#clip312)\" style=\"stroke:#00a8cb; stroke-linecap:round; stroke-linejoin:round; stroke-width:4; stroke-opacity:1; fill:none\" points=\"321.616,1215.19 416.398,1315.78 511.18,1416.37 605.962,1528.13 700.744,656.364 795.526,745.776 890.308,868.718 985.09,997.248 1079.87,1103.42 1174.65,1204.01 1269.44,1265.48 1364.22,1377.25 1459,1550.49 1553.78,1673.43 1648.56,656.364 1743.35,740.188 1838.13,868.718 1932.91,1014.01 2027.69,1125.78 2122.47,1259.9 2217.26,1343.72 2312.04,1461.07 2406.82,1550.49 2501.6,1679.02 2596.39,656.364 2691.17,740.188 2785.95,824.012 2880.73,919.012 2975.51,1036.37 3070.3,1136.95 \"/>\n",
       "<polyline clip-path=\"url(#clip312)\" style=\"stroke:#9b7fe8; stroke-linecap:round; stroke-linejoin:round; stroke-width:4; stroke-opacity:1; fill:none\" points=\"321.616,1215.19 416.398,1315.78 511.18,1388.43 605.962,1500.19 700.744,1584.01 795.526,1684.6 890.308,656.364 985.09,779.306 1079.87,885.483 1174.65,997.248 1269.44,1103.42 1364.22,1237.54 1459,1332.54 1553.78,1388.43 1648.56,1472.25 1743.35,1611.96 1838.13,656.364 1932.91,801.659 2027.69,907.836 2122.47,1014.01 2217.26,1153.72 2312.04,1254.31 2406.82,1354.9 2501.6,1444.31 2596.39,1561.66 2691.17,1718.13 2785.95,1774.02 2880.73,1774.02 2975.51,656.364 3070.3,801.659 \"/>\n",
       "<polyline clip-path=\"url(#clip312)\" style=\"stroke:#608cf6; stroke-linecap:round; stroke-linejoin:round; stroke-width:4; stroke-opacity:1; fill:none\" points=\"321.616,1215.19 416.398,1354.9 511.18,1466.66 605.962,1623.13 700.744,1729.31 795.526,1774.02 890.308,1774.02 985.09,1774.02 1079.87,1774.02 1174.65,656.364 1269.44,801.659 1364.22,907.836 1459,986.071 1553.78,1109.01 1648.56,1226.37 1743.35,1377.25 1838.13,1533.72 1932.91,656.364 2027.69,734.6 2122.47,851.953 2217.26,952.542 2312.04,1120.19 2406.82,1231.95 2501.6,1343.72 2596.39,1438.72 2691.17,1561.66 2785.95,1645.49 2880.73,1712.54 2975.51,656.364 3070.3,784.894 \"/>\n",
       "<polyline clip-path=\"url(#clip312)\" style=\"stroke:#f05f73; stroke-linecap:round; stroke-linejoin:round; stroke-width:4; stroke-opacity:1; fill:none\" points=\"321.616,1215.19 416.398,1299.01 511.18,1438.72 605.962,1550.49 700.744,656.364 795.526,756.953 890.308,935.777 985.09,1008.42 1079.87,1136.95 1174.65,1276.66 1269.44,1382.84 1364.22,1483.43 1459,1578.43 1553.78,656.364 1648.56,734.6 1743.35,840.777 1838.13,946.953 1932.91,1053.13 2027.69,1181.66 2122.47,1287.84 2217.26,1410.78 2312.04,1522.54 2406.82,656.364 2501.6,779.306 2596.39,907.836 2691.17,991.66 2785.95,1109.01 2880.73,1231.95 2975.51,1315.78 3070.3,1399.6 \"/>\n",
       "<polyline clip-path=\"url(#clip312)\" style=\"stroke:#dd64b5; stroke-linecap:round; stroke-linejoin:round; stroke-width:4; stroke-opacity:1; fill:none\" points=\"321.616,1215.19 416.398,1299.01 511.18,1394.01 605.962,1511.37 700.744,1662.25 795.526,656.364 890.308,745.776 985.09,868.718 1079.87,1025.19 1174.65,1114.6 1269.44,1192.84 1364.22,1332.54 1459,1449.9 1553.78,1567.25 1648.56,1645.49 1743.35,656.364 1838.13,768.129 1932.91,874.306 2027.69,963.718 2122.47,1064.31 2217.26,1204.01 2312.04,1321.37 2406.82,1494.6 2501.6,1606.37 2596.39,656.364 2691.17,734.6 2785.95,857.541 2880.73,952.542 2975.51,1092.25 3070.3,1198.43 \"/>\n",
       "<polyline clip-path=\"url(#clip312)\" style=\"stroke:#6b9e32; stroke-linecap:round; stroke-linejoin:round; stroke-width:4; stroke-opacity:1; fill:none\" points=\"321.616,1215.19 416.398,1315.78 511.18,1421.96 605.962,1494.6 700.744,1617.54 795.526,1712.54 890.308,1774.02 985.09,1774.02 1079.87,656.364 1174.65,773.718 1269.44,846.365 1364.22,941.365 1459,1092.25 1553.78,1231.95 1648.56,1377.25 1743.35,1511.37 1838.13,1634.31 1932.91,1774.02 2027.69,1774.02 2122.47,1774.02 2217.26,656.364 2312.04,790.482 2406.82,974.895 2501.6,1097.84 2596.39,1215.19 2691.17,1287.84 2785.95,1416.37 2880.73,1522.54 2975.51,656.364 3070.3,751.364 \"/>\n",
       "<polyline clip-path=\"url(#clip312)\" style=\"stroke:#009af9; stroke-linecap:round; stroke-linejoin:round; stroke-width:4; stroke-opacity:1; fill:none\" points=\"321.616,1215.19 416.398,1360.48 511.18,1461.07 605.962,1567.25 700.744,656.364 795.526,779.306 890.308,907.836 985.09,1075.48 1079.87,1164.9 1174.65,1304.6 1269.44,1449.9 1364.22,1544.9 1459,656.364 1553.78,768.129 1648.56,846.365 1743.35,930.189 1838.13,1103.42 1932.91,1226.37 2027.69,1349.31 2122.47,1494.6 2217.26,656.364 2312.04,768.129 2406.82,879.894 2501.6,952.542 2596.39,1047.54 2691.17,1164.9 2785.95,1282.25 2880.73,1388.43 2975.51,1522.54 3070.3,1656.66 \"/>\n",
       "<polyline clip-path=\"url(#clip312)\" style=\"stroke:#e26f46; stroke-linecap:round; stroke-linejoin:round; stroke-width:4; stroke-opacity:1; fill:none\" points=\"321.616,1215.19 416.398,1326.95 511.18,1438.72 605.962,1550.49 700.744,656.364 795.526,784.894 890.308,874.306 985.09,1064.31 1079.87,1170.48 1174.65,1282.25 1269.44,1371.66 1364.22,1489.01 1459,656.364 1553.78,717.835 1648.56,784.894 1743.35,907.836 1838.13,974.895 1932.91,1114.6 2027.69,1254.31 2122.47,1332.54 2217.26,1449.9 2312.04,1556.07 2406.82,1673.43 2501.6,656.364 2596.39,796.071 2691.17,963.718 2785.95,1058.72 2880.73,1164.9 2975.51,1248.72 3070.3,1366.07 \"/>\n",
       "<polyline clip-path=\"url(#clip312)\" style=\"stroke:#3da44d; stroke-linecap:round; stroke-linejoin:round; stroke-width:4; stroke-opacity:1; fill:none\" points=\"321.616,1215.19 416.398,1338.13 511.18,1416.37 605.962,1522.54 700.744,1617.54 795.526,1746.07 890.308,1774.02 985.09,1774.02 1079.87,1774.02 1174.65,1774.02 1269.44,656.364 1364.22,756.953 1459,885.483 1553.78,1025.19 1648.56,1170.48 1743.35,1293.43 1838.13,1405.19 1932.91,1511.37 2027.69,1639.9 2122.47,1768.43 2217.26,656.364 2312.04,756.953 2406.82,879.894 2501.6,986.071 2596.39,1103.42 2691.17,1226.37 2785.95,1315.78 2880.73,1388.43 2975.51,1505.78 3070.3,1606.37 \"/>\n",
       "<polyline clip-path=\"url(#clip312)\" style=\"stroke:#c271d2; stroke-linecap:round; stroke-linejoin:round; stroke-width:4; stroke-opacity:1; fill:none\" points=\"321.616,1215.19 416.398,1326.95 511.18,1438.72 605.962,1533.72 700.744,656.364 795.526,818.424 890.308,919.012 985.09,1041.95 1079.87,1125.78 1174.65,1220.78 1269.44,1287.84 1364.22,1399.6 1459,1466.66 1553.78,1584.01 1648.56,656.364 1743.35,773.718 1838.13,874.306 1932.91,924.6 2027.69,1036.37 2122.47,1131.37 2217.26,1248.72 2312.04,1338.13 2406.82,1455.48 2501.6,1611.96 2596.39,656.364 2691.17,784.894 2785.95,896.659 2880.73,991.66 2975.51,1097.84 3070.3,1226.37 \"/>\n",
       "<polyline clip-path=\"url(#clip312)\" style=\"stroke:#ac8d18; stroke-linecap:round; stroke-linejoin:round; stroke-width:4; stroke-opacity:1; fill:none\" points=\"321.616,1215.19 416.398,1354.9 511.18,1472.25 605.962,376.951 700.744,483.128 795.526,583.717 890.308,695.482 985.09,801.659 1079.87,874.306 1174.65,974.895 1269.44,1036.37 1364.22,1125.78 1459,1237.54 1553.78,1321.37 1648.56,1444.31 1743.35,1567.25 1838.13,1684.6 1932.91,1774.02 2027.69,1774.02 2122.47,376.951 2217.26,494.305 2312.04,617.246 2406.82,734.6 2501.6,824.012 2596.39,958.13 2691.17,1075.48 2785.95,1153.72 2880.73,1243.13 2975.51,1349.31 3070.3,1427.54 \"/>\n",
       "<polyline clip-path=\"url(#clip312)\" style=\"stroke:#00a9ad; stroke-linecap:round; stroke-linejoin:round; stroke-width:4; stroke-opacity:1; fill:none\" points=\"321.616,1215.19 416.398,1293.43 511.18,1399.6 605.962,1489.01 700.744,1584.01 795.526,1712.54 890.308,376.951 985.09,449.599 1079.87,539.011 1174.65,622.835 1269.44,706.658 1364.22,835.188 1459,991.66 1553.78,1142.54 1648.56,1271.07 1743.35,1416.37 1838.13,1522.54 1932.91,1611.96 2027.69,376.951 2122.47,527.834 2217.26,695.482 2312.04,779.306 2406.82,879.894 2501.6,986.071 2596.39,1064.31 2691.17,1248.72 2785.95,1332.54 2880.73,1416.37 2975.51,1533.72 3070.3,1651.07 \"/>\n",
       "<polyline clip-path=\"url(#clip312)\" style=\"stroke:#ed5d92; stroke-linecap:round; stroke-linejoin:round; stroke-width:4; stroke-opacity:1; fill:none\" points=\"321.616,1215.19 416.398,1332.54 511.18,1405.19 605.962,1522.54 700.744,1634.31 795.526,1757.25 890.308,1774.02 985.09,376.951 1079.87,494.305 1174.65,622.835 1269.44,684.305 1364.22,790.482 1459,974.895 1553.78,1136.95 1648.56,1231.95 1743.35,1293.43 1838.13,1416.37 1932.91,1584.01 2027.69,376.951 2122.47,516.658 2217.26,639.599 2312.04,745.776 2406.82,857.541 2501.6,963.718 2596.39,1041.95 2691.17,1125.78 2785.95,1215.19 2880.73,1304.6 2975.51,1410.78 3070.3,1505.78 \"/>\n",
       "<polyline clip-path=\"url(#clip312)\" style=\"stroke:#c68125; stroke-linecap:round; stroke-linejoin:round; stroke-width:4; stroke-opacity:1; fill:none\" points=\"321.616,1215.19 416.398,1321.37 511.18,1461.07 605.962,1533.72 700.744,1645.49 795.526,376.951 890.308,460.775 985.09,561.364 1079.87,695.482 1174.65,812.835 1269.44,907.836 1364.22,969.307 1459,1103.42 1553.78,1187.25 1648.56,1293.43 1743.35,1421.96 1838.13,1556.07 1932.91,1673.43 2027.69,1768.43 2122.47,376.951 2217.26,494.305 2312.04,617.246 2406.82,717.835 2501.6,796.071 2596.39,896.659 2691.17,1047.54 2785.95,1142.54 2880.73,1259.9 2975.51,1332.54 3070.3,1444.31 \"/>\n",
       "<polyline clip-path=\"url(#clip312)\" style=\"stroke:#00a98d; stroke-linecap:round; stroke-linejoin:round; stroke-width:4; stroke-opacity:1; fill:none\" points=\"321.616,1215.19 416.398,1326.95 511.18,1433.13 605.962,1539.31 700.744,1651.07 795.526,376.951 890.308,466.363 985.09,606.07 1079.87,689.894 1174.65,779.306 1269.44,930.189 1364.22,1030.78 1459,1136.95 1553.78,1248.72 1648.56,1366.07 1743.35,1500.19 1838.13,1611.96 1932.91,376.951 2027.69,460.775 2122.47,566.952 2217.26,656.364 2312.04,796.071 2406.82,919.012 2501.6,1036.37 2596.39,1136.95 2691.17,1226.37 2785.95,1299.01 2880.73,1399.6 2975.51,1522.54 3070.3,1595.19 \"/>\n",
       "<polyline clip-path=\"url(#clip312)\" style=\"stroke:#8e971d; stroke-linecap:round; stroke-linejoin:round; stroke-width:4; stroke-opacity:1; fill:none\" points=\"321.616,1215.19 416.398,1304.6 511.18,1438.72 605.962,1561.66 700.744,1690.19 795.526,376.951 890.308,505.481 985.09,634.011 1079.87,790.482 1174.65,896.659 1269.44,974.895 1364.22,1120.19 1459,1220.78 1553.78,1332.54 1648.56,1438.72 1743.35,1600.78 1838.13,376.951 1932.91,516.658 2027.69,622.835 2122.47,717.835 2217.26,801.659 2312.04,913.424 2406.82,1041.95 2501.6,1114.6 2596.39,1248.72 2691.17,1321.37 2785.95,1455.48 2880.73,1550.49 2975.51,376.951 3070.3,505.481 \"/>\n",
       "<polyline clip-path=\"url(#clip312)\" style=\"stroke:#00a8cb; stroke-linecap:round; stroke-linejoin:round; stroke-width:4; stroke-opacity:1; fill:none\" points=\"321.616,1215.19 416.398,1321.37 511.18,1421.96 605.962,1505.78 700.744,1667.84 795.526,376.951 890.308,527.834 985.09,634.011 1079.87,695.482 1174.65,801.659 1269.44,969.307 1364.22,1064.31 1459,1220.78 1553.78,1315.78 1648.56,1416.37 1743.35,376.951 1838.13,494.305 1932.91,645.188 2027.69,740.188 2122.47,857.541 2217.26,1008.42 2312.04,1114.6 2406.82,1271.07 2501.6,1421.96 2596.39,1505.78 2691.17,1600.78 2785.95,376.951 2880.73,477.54 2975.51,606.07 3070.3,779.306 \"/>\n",
       "<polyline clip-path=\"url(#clip312)\" style=\"stroke:#9b7fe8; stroke-linecap:round; stroke-linejoin:round; stroke-width:4; stroke-opacity:1; fill:none\" points=\"321.616,1215.19 416.398,1338.13 511.18,1427.54 605.962,1539.31 700.744,376.951 795.526,477.54 890.308,594.893 985.09,695.482 1079.87,857.541 1174.65,941.365 1269.44,1058.72 1364.22,1248.72 1459,1360.48 1553.78,1427.54 1648.56,1567.25 1743.35,1639.9 1838.13,376.951 1932.91,499.893 2027.69,634.011 2122.47,740.188 2217.26,840.777 2312.04,930.189 2406.82,1030.78 2501.6,1159.31 2596.39,1237.54 2691.17,1382.84 2785.95,1466.66 2880.73,1611.96 2975.51,376.951 3070.3,483.128 \"/>\n",
       "<polyline clip-path=\"url(#clip312)\" style=\"stroke:#608cf6; stroke-linecap:round; stroke-linejoin:round; stroke-width:4; stroke-opacity:1; fill:none\" points=\"321.616,1215.19 416.398,1343.72 511.18,1500.19 605.962,1578.43 700.744,376.951 795.526,511.069 890.308,661.952 985.09,768.129 1079.87,879.894 1174.65,952.542 1269.44,1103.42 1364.22,1231.95 1459,1326.95 1553.78,1405.19 1648.56,1528.13 1743.35,376.951 1838.13,516.658 1932.91,667.541 2027.69,851.953 2122.47,919.012 2217.26,1014.01 2312.04,1109.01 2406.82,1187.25 2501.6,1310.19 2596.39,1444.31 2691.17,1600.78 2785.95,376.951 2880.73,477.54 2975.51,617.246 3070.3,756.953 \"/>\n",
       "<polyline clip-path=\"url(#clip312)\" style=\"stroke:#f05f73; stroke-linecap:round; stroke-linejoin:round; stroke-width:4; stroke-opacity:1; fill:none\" points=\"321.616,1215.19 416.398,1360.48 511.18,1466.66 605.962,376.951 700.744,477.54 795.526,594.893 890.308,701.07 985.09,829.6 1079.87,974.895 1174.65,1064.31 1269.44,1159.31 1364.22,1231.95 1459,1332.54 1553.78,1410.78 1648.56,1522.54 1743.35,1634.31 1838.13,1768.43 1932.91,1774.02 2027.69,376.951 2122.47,477.54 2217.26,544.599 2312.04,650.776 2406.82,779.306 2501.6,891.071 2596.39,963.718 2691.17,1086.66 2785.95,1187.25 2880.73,1293.43 2975.51,1444.31 3070.3,1544.9 \"/>\n",
       "<polyline clip-path=\"url(#clip312)\" style=\"stroke:#dd64b5; stroke-linecap:round; stroke-linejoin:round; stroke-width:4; stroke-opacity:1; fill:none\" points=\"321.616,1215.19 416.398,1326.95 511.18,1416.37 605.962,1505.78 700.744,97.5384 795.526,198.127 890.308,293.127 985.09,354.598 1079.87,471.952 1174.65,544.599 1269.44,650.776 1364.22,762.541 1459,846.365 1553.78,991.66 1648.56,1109.01 1743.35,1254.31 1838.13,1360.48 1932.91,1483.43 2027.69,97.5384 2122.47,209.304 2217.26,281.951 2312.04,449.599 2406.82,566.952 2501.6,673.129 2596.39,790.482 2691.17,885.483 2785.95,958.13 2880.73,1047.54 2975.51,1170.48 3070.3,1259.9 \"/>\n",
       "<polyline clip-path=\"url(#clip312)\" style=\"stroke:#6b9e32; stroke-linecap:round; stroke-linejoin:round; stroke-width:4; stroke-opacity:1; fill:none\" points=\"321.616,1215.19 416.398,1332.54 511.18,1444.31 605.962,1528.13 700.744,1611.96 795.526,1734.9 890.308,97.5384 985.09,226.068 1079.87,343.422 1174.65,416.069 1269.44,477.54 1364.22,606.07 1459,717.835 1553.78,840.777 1648.56,958.13 1743.35,1064.31 1838.13,1181.66 1932.91,1287.84 2027.69,1421.96 2122.47,1522.54 2217.26,1651.07 2312.04,97.5384 2406.82,209.304 2501.6,326.657 2596.39,494.305 2691.17,589.305 2785.95,706.658 2880.73,818.424 2975.51,935.777 3070.3,1092.25 \"/>\n",
       "<polyline clip-path=\"url(#clip312)\" style=\"stroke:#009af9; stroke-linecap:round; stroke-linejoin:round; stroke-width:4; stroke-opacity:1; fill:none\" points=\"321.616,1215.19 416.398,1304.6 511.18,1399.6 605.962,1539.31 700.744,97.5384 795.526,220.48 890.308,349.01 985.09,477.54 1079.87,589.305 1174.65,684.305 1269.44,779.306 1364.22,868.718 1459,952.542 1553.78,1075.48 1648.56,1209.6 1743.35,1276.66 1838.13,1433.13 1932.91,1572.84 2027.69,97.5384 2122.47,203.715 2217.26,293.127 2312.04,421.657 2406.82,488.716 2501.6,583.717 2596.39,740.188 2691.17,840.777 2785.95,913.424 2880.73,1041.95 2975.51,1148.13 3070.3,1265.48 \"/>\n",
       "<polyline clip-path=\"url(#clip312)\" style=\"stroke:#e26f46; stroke-linecap:round; stroke-linejoin:round; stroke-width:4; stroke-opacity:1; fill:none\" points=\"321.616,1215.19 416.398,1315.78 511.18,1377.25 605.962,1494.6 700.744,1595.19 795.526,97.5384 890.308,198.127 985.09,315.48 1079.87,460.775 1174.65,589.305 1269.44,751.364 1364.22,879.894 1459,958.13 1553.78,1030.78 1648.56,1164.9 1743.35,1315.78 1838.13,1421.96 1932.91,1556.07 2027.69,97.5384 2122.47,181.362 2217.26,270.774 2312.04,343.422 2406.82,432.834 2501.6,544.599 2596.39,673.129 2691.17,784.894 2785.95,902.247 2880.73,1014.01 2975.51,1142.54 3070.3,1265.48 \"/>\n",
       "<polyline clip-path=\"url(#clip312)\" style=\"stroke:#3da44d; stroke-linecap:round; stroke-linejoin:round; stroke-width:4; stroke-opacity:1; fill:none\" points=\"321.616,1215.19 416.398,1338.13 511.18,1472.25 605.962,1595.19 700.744,1679.02 795.526,1757.25 890.308,97.5384 985.09,203.715 1079.87,343.422 1174.65,449.599 1269.44,550.187 1364.22,628.423 1459,745.776 1553.78,874.306 1648.56,991.66 1743.35,1097.84 1838.13,1176.07 1932.91,1287.84 2027.69,1394.01 2122.47,1533.72 2217.26,97.5384 2312.04,209.304 2406.82,309.892 2501.6,404.893 2596.39,499.893 2691.17,606.07 2785.95,729.011 2880.73,835.188 2975.51,919.012 3070.3,1019.6 \"/>\n",
       "<polyline clip-path=\"url(#clip312)\" style=\"stroke:#c271d2; stroke-linecap:round; stroke-linejoin:round; stroke-width:4; stroke-opacity:1; fill:none\" points=\"321.616,1215.19 416.398,1343.72 511.18,1466.66 605.962,1567.25 700.744,97.5384 795.526,164.597 890.308,242.833 985.09,432.834 1079.87,533.422 1174.65,639.599 1269.44,773.718 1364.22,935.777 1459,991.66 1553.78,1092.25 1648.56,1170.48 1743.35,1248.72 1838.13,1377.25 1932.91,1477.84 2027.69,97.5384 2122.47,181.362 2217.26,309.892 2312.04,404.893 2406.82,527.834 2501.6,661.952 2596.39,779.306 2691.17,857.541 2785.95,963.718 2880.73,1064.31 2975.51,1187.25 3070.3,1293.43 \"/>\n",
       "<polyline clip-path=\"url(#clip312)\" style=\"stroke:#ac8d18; stroke-linecap:round; stroke-linejoin:round; stroke-width:4; stroke-opacity:1; fill:none\" points=\"321.616,1215.19 416.398,1332.54 511.18,1410.78 605.962,1489.01 700.744,1567.25 795.526,1656.66 890.308,1751.66 985.09,97.5384 1079.87,198.127 1174.65,287.539 1269.44,349.01 1364.22,499.893 1459,606.07 1553.78,740.188 1648.56,824.012 1743.35,935.777 1838.13,1075.48 1932.91,1176.07 2027.69,1299.01 2122.47,1388.43 2217.26,1489.01 2312.04,97.5384 2406.82,175.774 2501.6,270.774 2596.39,376.951 2691.17,499.893 2785.95,578.129 2880.73,661.952 2975.51,745.776 3070.3,896.659 \"/>\n",
       "<polyline clip-path=\"url(#clip312)\" style=\"stroke:#00a9ad; stroke-linecap:round; stroke-linejoin:round; stroke-width:4; stroke-opacity:1; fill:none\" points=\"321.616,1215.19 416.398,1338.13 511.18,1427.54 605.962,1544.9 700.744,97.5384 795.526,209.304 890.308,326.657 985.09,449.599 1079.87,533.422 1174.65,634.011 1269.44,729.011 1364.22,790.482 1459,868.718 1553.78,974.895 1648.56,1097.84 1743.35,1243.13 1838.13,1349.31 1932.91,1477.84 2027.69,97.5384 2122.47,242.833 2217.26,337.833 2312.04,449.599 2406.82,583.717 2501.6,695.482 2596.39,824.012 2691.17,958.13 2785.95,1058.72 2880.73,1215.19 2975.51,1382.84 3070.3,1494.6 \"/>\n",
       "<polyline clip-path=\"url(#clip312)\" style=\"stroke:#ed5d92; stroke-linecap:round; stroke-linejoin:round; stroke-width:4; stroke-opacity:1; fill:none\" points=\"321.616,1215.19 416.398,1332.54 511.18,1433.13 605.962,1578.43 700.744,1673.43 795.526,97.5384 890.308,209.304 985.09,326.657 1079.87,432.834 1174.65,539.011 1269.44,639.599 1364.22,706.658 1459,818.424 1553.78,930.189 1648.56,1041.95 1743.35,1148.13 1838.13,1231.95 1932.91,1366.07 2027.69,1483.43 2122.47,97.5384 2217.26,209.304 2312.04,343.422 2406.82,455.187 2501.6,561.364 2596.39,673.129 2691.17,762.541 2785.95,902.247 2880.73,991.66 2975.51,1159.31 3070.3,1265.48 \"/>\n",
       "<polyline clip-path=\"url(#clip312)\" style=\"stroke:#c68125; stroke-linecap:round; stroke-linejoin:round; stroke-width:4; stroke-opacity:1; fill:none\" points=\"321.616,1215.19 416.398,1310.19 511.18,1466.66 605.962,1572.84 700.744,97.5384 795.526,198.127 890.308,326.657 985.09,432.834 1079.87,561.364 1174.65,667.541 1269.44,762.541 1364.22,874.306 1459,991.66 1553.78,1086.66 1648.56,1237.54 1743.35,1377.25 1838.13,1455.48 1932.91,1556.07 2027.69,1656.66 2122.47,97.5384 2217.26,254.01 2312.04,337.833 2406.82,444.01 2501.6,583.717 2596.39,723.423 2691.17,801.659 2785.95,891.071 2880.73,1014.01 2975.51,1153.72 3070.3,1243.13 \"/>\n",
       "<polyline clip-path=\"url(#clip312)\" style=\"stroke:#00a98d; stroke-linecap:round; stroke-linejoin:round; stroke-width:4; stroke-opacity:1; fill:none\" points=\"321.616,1215.19 416.398,1343.72 511.18,1449.9 605.962,1215.19 700.744,1321.37 795.526,1433.13 890.308,1533.72 985.09,1634.31 1079.87,1768.43 1174.65,1774.02 1269.44,1215.19 1364.22,1293.43 1459,1382.84 1553.78,1466.66 1648.56,1600.78 1743.35,1215.19 1838.13,1338.13 1932.91,1444.31 2027.69,1556.07 2122.47,1662.25 2217.26,1762.84 2312.04,1215.19 2406.82,1304.6 2501.6,1455.48 2596.39,1556.07 2691.17,1215.19 2785.95,1332.54 2880.73,1466.66 2975.51,1215.19 3070.3,1326.95 \"/>\n",
       "<polyline clip-path=\"url(#clip312)\" style=\"stroke:#8e971d; stroke-linecap:round; stroke-linejoin:round; stroke-width:4; stroke-opacity:1; fill:none\" points=\"321.616,1215.19 416.398,1310.19 511.18,1399.6 605.962,1561.66 700.744,1695.78 795.526,1215.19 890.308,1332.54 985.09,1438.72 1079.87,1533.72 1174.65,1215.19 1269.44,1293.43 1364.22,1382.84 1459,1505.78 1553.78,1215.19 1648.56,1349.31 1743.35,1427.54 1838.13,1550.49 1932.91,1651.07 2027.69,1751.66 2122.47,1774.02 2217.26,1215.19 2312.04,1366.07 2406.82,1489.01 2501.6,1628.72 2596.39,1768.43 2691.17,1215.19 2785.95,1332.54 2880.73,1466.66 2975.51,1578.43 3070.3,1690.19 \"/>\n",
       "<polyline clip-path=\"url(#clip312)\" style=\"stroke:#00a8cb; stroke-linecap:round; stroke-linejoin:round; stroke-width:4; stroke-opacity:1; fill:none\" points=\"321.616,1215.19 416.398,1321.37 511.18,1466.66 605.962,1215.19 700.744,1349.31 795.526,1494.6 890.308,1215.19 985.09,1321.37 1079.87,1427.54 1174.65,1500.19 1269.44,1611.96 1364.22,1215.19 1459,1332.54 1553.78,1427.54 1648.56,1215.19 1743.35,1310.19 1838.13,1421.96 1932.91,1528.13 2027.69,1628.72 2122.47,1215.19 2217.26,1338.13 2312.04,1444.31 2406.82,1511.37 2501.6,1215.19 2596.39,1343.72 2691.17,1421.96 2785.95,1533.72 2880.73,1215.19 2975.51,1304.6 3070.3,1421.96 \"/>\n",
       "<polyline clip-path=\"url(#clip312)\" style=\"stroke:#9b7fe8; stroke-linecap:round; stroke-linejoin:round; stroke-width:4; stroke-opacity:1; fill:none\" points=\"321.616,1215.19 416.398,1388.43 511.18,1489.01 605.962,1567.25 700.744,1215.19 795.526,1315.78 890.308,1416.37 985.09,1494.6 1079.87,1215.19 1174.65,1310.19 1269.44,1405.19 1364.22,1539.31 1459,1623.13 1553.78,1215.19 1648.56,1366.07 1743.35,1461.07 1838.13,1511.37 1932.91,1215.19 2027.69,1310.19 2122.47,1405.19 2217.26,1505.78 2312.04,1215.19 2406.82,1299.01 2501.6,1399.6 2596.39,1505.78 2691.17,1215.19 2785.95,1332.54 2880.73,1444.31 2975.51,1578.43 3070.3,1706.96 \"/>\n",
       "<polyline clip-path=\"url(#clip312)\" style=\"stroke:#608cf6; stroke-linecap:round; stroke-linejoin:round; stroke-width:4; stroke-opacity:1; fill:none\" points=\"321.616,1215.19 416.398,1354.9 511.18,1472.25 605.962,1215.19 700.744,1321.37 795.526,1483.43 890.308,1584.01 985.09,1215.19 1079.87,1360.48 1174.65,1466.66 1269.44,1215.19 1364.22,1354.9 1459,1483.43 1553.78,1215.19 1648.56,1343.72 1743.35,1399.6 1838.13,1494.6 1932.91,1589.6 2027.69,1215.19 2122.47,1332.54 2217.26,1466.66 2312.04,1215.19 2406.82,1326.95 2501.6,1483.43 2596.39,1215.19 2691.17,1332.54 2785.95,1461.07 2880.73,1539.31 2975.51,1215.19 3070.3,1332.54 \"/>\n",
       "<polyline clip-path=\"url(#clip312)\" style=\"stroke:#f05f73; stroke-linecap:round; stroke-linejoin:round; stroke-width:4; stroke-opacity:1; fill:none\" points=\"321.616,1215.19 416.398,1304.6 511.18,1433.13 605.962,1522.54 700.744,1634.31 795.526,1768.43 890.308,1215.19 985.09,1271.07 1079.87,1332.54 1174.65,1444.31 1269.44,1539.31 1364.22,1634.31 1459,1215.19 1553.78,1310.19 1648.56,1433.13 1743.35,1539.31 1838.13,1215.19 1932.91,1310.19 2027.69,1410.78 2122.47,1533.72 2217.26,1667.84 2312.04,1762.84 2406.82,1774.02 2501.6,1215.19 2596.39,1338.13 2691.17,1438.72 2785.95,1589.6 2880.73,1729.31 2975.51,1215.19 3070.3,1304.6 \"/>\n",
       "<polyline clip-path=\"url(#clip312)\" style=\"stroke:#dd64b5; stroke-linecap:round; stroke-linejoin:round; stroke-width:4; stroke-opacity:1; fill:none\" points=\"321.616,1215.19 416.398,1343.72 511.18,1455.48 605.962,1572.84 700.744,1215.19 795.526,1354.9 890.308,1472.25 985.09,1611.96 1079.87,1215.19 1174.65,1349.31 1269.44,1466.66 1364.22,1215.19 1459,1338.13 1553.78,1489.01 1648.56,1215.19 1743.35,1310.19 1838.13,1438.72 1932.91,1494.6 2027.69,1567.25 2122.47,1215.19 2217.26,1310.19 2312.04,1382.84 2406.82,1483.43 2501.6,1606.37 2596.39,1729.31 2691.17,1774.02 2785.95,1774.02 2880.73,1774.02 2975.51,1774.02 3070.3,1215.19 \"/>\n",
       "<polyline clip-path=\"url(#clip312)\" style=\"stroke:#6b9e32; stroke-linecap:round; stroke-linejoin:round; stroke-width:4; stroke-opacity:1; fill:none\" points=\"321.616,1215.19 416.398,1299.01 511.18,1371.66 605.962,1461.07 700.744,1578.43 795.526,1734.9 890.308,1215.19 985.09,1360.48 1079.87,1489.01 1174.65,1656.66 1269.44,1757.25 1364.22,1215.19 1459,1304.6 1553.78,1444.31 1648.56,1544.9 1743.35,1215.19 1838.13,1321.37 1932.91,1466.66 2027.69,1215.19 2122.47,1282.25 2217.26,1382.84 2312.04,1472.25 2406.82,1215.19 2501.6,1310.19 2596.39,1427.54 2691.17,1589.6 2785.95,1215.19 2880.73,1287.84 2975.51,1416.37 3070.3,1522.54 \"/>\n",
       "<polyline clip-path=\"url(#clip312)\" style=\"stroke:#009af9; stroke-linecap:round; stroke-linejoin:round; stroke-width:4; stroke-opacity:1; fill:none\" points=\"321.616,1215.19 416.398,1354.9 511.18,1516.96 605.962,1215.19 700.744,1354.9 795.526,1444.31 890.308,1528.13 985.09,1215.19 1079.87,1360.48 1174.65,1494.6 1269.44,1215.19 1364.22,1276.66 1459,1405.19 1553.78,1505.78 1648.56,1634.31 1743.35,1215.19 1838.13,1360.48 1932.91,1444.31 2027.69,1544.9 2122.47,1628.72 2217.26,1774.02 2312.04,1774.02 2406.82,1215.19 2501.6,1349.31 2596.39,1466.66 2691.17,1215.19 2785.95,1304.6 2880.73,1394.01 2975.51,1511.37 3070.3,1215.19 \"/>\n",
       "<polyline clip-path=\"url(#clip312)\" style=\"stroke:#e26f46; stroke-linecap:round; stroke-linejoin:round; stroke-width:4; stroke-opacity:1; fill:none\" points=\"321.616,1215.19 416.398,1371.66 511.18,1472.25 605.962,1595.19 700.744,1723.72 795.526,1774.02 890.308,1774.02 985.09,1774.02 1079.87,1774.02 1174.65,1774.02 1269.44,1774.02 1364.22,1215.19 1459,1371.66 1553.78,1539.31 1648.56,1662.25 1743.35,1774.02 1838.13,1774.02 1932.91,1774.02 2027.69,1774.02 2122.47,1215.19 2217.26,1371.66 2312.04,1494.6 2406.82,1215.19 2501.6,1349.31 2596.39,1455.48 2691.17,1578.43 2785.95,1215.19 2880.73,1304.6 2975.51,1360.48 3070.3,1455.48 \"/>\n",
       "<polyline clip-path=\"url(#clip312)\" style=\"stroke:#3da44d; stroke-linecap:round; stroke-linejoin:round; stroke-width:4; stroke-opacity:1; fill:none\" points=\"321.616,1215.19 416.398,1282.25 511.18,1405.19 605.962,1500.19 700.744,935.777 795.526,1092.25 890.308,1187.25 985.09,1276.66 1079.87,1360.48 1174.65,1544.9 1269.44,1651.07 1364.22,1774.02 1459,935.777 1553.78,1036.37 1648.56,1164.9 1743.35,1299.01 1838.13,1388.43 1932.91,1516.96 2027.69,935.777 2122.47,1041.95 2217.26,1148.13 2312.04,1259.9 2406.82,1332.54 2501.6,1455.48 2596.39,1572.84 2691.17,1690.19 2785.95,1774.02 2880.73,1774.02 2975.51,935.777 3070.3,1047.54 \"/>\n",
       "<polyline clip-path=\"url(#clip312)\" style=\"stroke:#c271d2; stroke-linecap:round; stroke-linejoin:round; stroke-width:4; stroke-opacity:1; fill:none\" points=\"321.616,1215.19 416.398,1326.95 511.18,1449.9 605.962,935.777 700.744,1058.72 795.526,1204.01 890.308,1282.25 985.09,1416.37 1079.87,1528.13 1174.65,935.777 1269.44,1058.72 1364.22,1198.43 1459,1282.25 1553.78,1416.37 1648.56,1516.96 1743.35,1595.19 1838.13,935.777 1932.91,1036.37 2027.69,1114.6 2122.47,1192.84 2217.26,1315.78 2312.04,1382.84 2406.82,1466.66 2501.6,935.777 2596.39,1086.66 2691.17,1237.54 2785.95,1382.84 2880.73,1477.84 2975.51,935.777 3070.3,1025.19 \"/>\n",
       "<polyline clip-path=\"url(#clip312)\" style=\"stroke:#ac8d18; stroke-linecap:round; stroke-linejoin:round; stroke-width:4; stroke-opacity:1; fill:none\" points=\"321.616,1215.19 416.398,1338.13 511.18,1416.37 605.962,1494.6 700.744,935.777 795.526,1053.13 890.308,1148.13 985.09,1271.07 1079.87,1416.37 1174.65,1528.13 1269.44,1617.54 1364.22,935.777 1459,1081.07 1553.78,1198.43 1648.56,1338.13 1743.35,1427.54 1838.13,1528.13 1932.91,1606.37 2027.69,935.777 2122.47,1064.31 2217.26,1181.66 2312.04,1315.78 2406.82,1455.48 2501.6,1544.9 2596.39,935.777 2691.17,1058.72 2785.95,1159.31 2880.73,1248.72 2975.51,1354.9 3070.3,1489.01 \"/>\n",
       "<polyline clip-path=\"url(#clip312)\" style=\"stroke:#00a9ad; stroke-linecap:round; stroke-linejoin:round; stroke-width:4; stroke-opacity:1; fill:none\" points=\"321.616,1215.19 416.398,1315.78 511.18,1449.9 605.962,1516.96 700.744,1611.96 795.526,935.777 890.308,1081.07 985.09,1209.6 1079.87,1310.19 1174.65,1466.66 1269.44,935.777 1364.22,1030.78 1459,1136.95 1553.78,1282.25 1648.56,1421.96 1743.35,1539.31 1838.13,1656.66 1932.91,935.777 2027.69,1019.6 2122.47,1125.78 2217.26,1176.07 2312.04,1265.48 2406.82,1360.48 2501.6,1461.07 2596.39,1533.72 2691.17,1673.43 2785.95,1751.66 2880.73,935.777 2975.51,1092.25 3070.3,1226.37 \"/>\n",
       "<polyline clip-path=\"url(#clip312)\" style=\"stroke:#ed5d92; stroke-linecap:round; stroke-linejoin:round; stroke-width:4; stroke-opacity:1; fill:none\" points=\"321.616,1215.19 416.398,1354.9 511.18,1489.01 605.962,1656.66 700.744,935.777 795.526,1086.66 890.308,1153.72 985.09,1237.54 1079.87,1366.07 1174.65,1522.54 1269.44,935.777 1364.22,1058.72 1459,1187.25 1553.78,1304.6 1648.56,1410.78 1743.35,1516.96 1838.13,935.777 1932.91,1053.13 2027.69,1170.48 2122.47,1265.48 2217.26,1394.01 2312.04,1528.13 2406.82,935.777 2501.6,1047.54 2596.39,1142.54 2691.17,1265.48 2785.95,1377.25 2880.73,1461.07 2975.51,1595.19 3070.3,935.777 \"/>\n",
       "<polyline clip-path=\"url(#clip312)\" style=\"stroke:#c68125; stroke-linecap:round; stroke-linejoin:round; stroke-width:4; stroke-opacity:1; fill:none\" points=\"321.616,1215.19 416.398,1304.6 511.18,1438.72 605.962,1544.9 700.744,935.777 795.526,1030.78 890.308,1131.37 985.09,1187.25 1079.87,1287.84 1174.65,1427.54 1269.44,1561.66 1364.22,1701.37 1459,1774.02 1553.78,935.777 1648.56,1053.13 1743.35,1170.48 1838.13,1299.01 1932.91,1388.43 2027.69,1539.31 2122.47,935.777 2217.26,1019.6 2312.04,1181.66 2406.82,1287.84 2501.6,1421.96 2596.39,935.777 2691.17,1069.9 2785.95,1204.01 2880.73,1265.48 2975.51,1371.66 3070.3,1455.48 \"/>\n",
       "<polyline clip-path=\"url(#clip312)\" style=\"stroke:#00a98d; stroke-linecap:round; stroke-linejoin:round; stroke-width:4; stroke-opacity:1; fill:none\" points=\"321.616,1215.19 416.398,1282.25 511.18,1382.84 605.962,1472.25 700.744,1589.6 795.526,935.777 890.308,1036.37 985.09,1069.9 1079.87,1181.66 1174.65,1321.37 1269.44,1416.37 1364.22,1500.19 1459,935.777 1553.78,1008.42 1648.56,1109.01 1743.35,1243.13 1838.13,1321.37 1932.91,1399.6 2027.69,1483.43 2122.47,935.777 2217.26,1036.37 2312.04,1204.01 2406.82,1299.01 2501.6,1405.19 2596.39,935.777 2691.17,1019.6 2785.95,1131.37 2880.73,1243.13 2975.51,1366.07 3070.3,1483.43 \"/>\n",
       "<polyline clip-path=\"url(#clip312)\" style=\"stroke:#8e971d; stroke-linecap:round; stroke-linejoin:round; stroke-width:4; stroke-opacity:1; fill:none\" points=\"321.616,1215.19 416.398,1315.78 511.18,1455.48 605.962,1556.07 700.744,1656.66 795.526,1774.02 890.308,1774.02 985.09,935.777 1079.87,1025.19 1174.65,1170.48 1269.44,1310.19 1364.22,1399.6 1459,1494.6 1553.78,935.777 1648.56,1036.37 1743.35,1125.78 1838.13,1209.6 1932.91,1321.37 2027.69,1438.72 2122.47,1561.66 2217.26,1651.07 2312.04,935.777 2406.82,1008.42 2501.6,1103.42 2596.39,1198.43 2691.17,1326.95 2785.95,1472.25 2880.73,1572.84 2975.51,1673.43 3070.3,1774.02 \"/>\n",
       "<polyline clip-path=\"url(#clip312)\" style=\"stroke:#00a8cb; stroke-linecap:round; stroke-linejoin:round; stroke-width:4; stroke-opacity:1; fill:none\" points=\"321.616,1215.19 416.398,1299.01 511.18,1416.37 605.962,1550.49 700.744,1712.54 795.526,935.777 890.308,1053.13 985.09,1131.37 1079.87,1293.43 1174.65,1360.48 1269.44,1505.78 1364.22,1611.96 1459,935.777 1553.78,1064.31 1648.56,1131.37 1743.35,1276.66 1838.13,1433.13 1932.91,935.777 2027.69,1030.78 2122.47,1092.25 2217.26,1254.31 2312.04,1360.48 2406.82,1455.48 2501.6,935.777 2596.39,1114.6 2691.17,1237.54 2785.95,1304.6 2880.73,1410.78 2975.51,1544.9 3070.3,1679.02 \"/>\n",
       "<polyline clip-path=\"url(#clip312)\" style=\"stroke:#9b7fe8; stroke-linecap:round; stroke-linejoin:round; stroke-width:4; stroke-opacity:1; fill:none\" points=\"321.616,1215.19 416.398,1332.54 511.18,1427.54 605.962,1528.13 700.744,1645.49 795.526,1734.9 890.308,935.777 985.09,1064.31 1079.87,1198.43 1174.65,1332.54 1269.44,1427.54 1364.22,1528.13 1459,935.777 1553.78,1041.95 1648.56,1159.31 1743.35,1254.31 1838.13,1354.9 1932.91,1472.25 2027.69,935.777 2122.47,1081.07 2217.26,1192.84 2312.04,1287.84 2406.82,1438.72 2501.6,1567.25 2596.39,1651.07 2691.17,1751.66 2785.95,1774.02 2880.73,1774.02 2975.51,935.777 3070.3,1041.95 \"/>\n",
       "<polyline clip-path=\"url(#clip312)\" style=\"stroke:#608cf6; stroke-linecap:round; stroke-linejoin:round; stroke-width:4; stroke-opacity:1; fill:none\" points=\"321.616,1215.19 416.398,1321.37 511.18,1438.72 605.962,1522.54 700.744,656.364 795.526,751.364 890.308,874.306 985.09,986.071 1079.87,1097.84 1174.65,1209.6 1269.44,1349.31 1364.22,1427.54 1459,1561.66 1553.78,1690.19 1648.56,656.364 1743.35,829.6 1838.13,930.189 1932.91,1086.66 2027.69,1153.72 2122.47,1259.9 2217.26,1405.19 2312.04,1494.6 2406.82,656.364 2501.6,762.541 2596.39,874.306 2691.17,963.718 2785.95,1058.72 2880.73,1170.48 2975.51,1276.66 3070.3,1399.6 \"/>\n",
       "<polyline clip-path=\"url(#clip312)\" style=\"stroke:#f05f73; stroke-linecap:round; stroke-linejoin:round; stroke-width:4; stroke-opacity:1; fill:none\" points=\"321.616,1215.19 416.398,1332.54 511.18,1455.48 605.962,656.364 700.744,751.364 795.526,857.541 890.308,980.483 985.09,1109.01 1079.87,1231.95 1174.65,1366.07 1269.44,1500.19 1364.22,656.364 1459,762.541 1553.78,907.836 1648.56,986.071 1743.35,1120.19 1838.13,1259.9 1932.91,1377.25 2027.69,1477.84 2122.47,656.364 2217.26,740.188 2312.04,824.012 2406.82,935.777 2501.6,1030.78 2596.39,1142.54 2691.17,1265.48 2785.95,1321.37 2880.73,1388.43 2975.51,1494.6 3070.3,656.364 \"/>\n",
       "<polyline clip-path=\"url(#clip312)\" style=\"stroke:#dd64b5; stroke-linecap:round; stroke-linejoin:round; stroke-width:4; stroke-opacity:1; fill:none\" points=\"321.616,1215.19 416.398,1315.78 511.18,1410.78 605.962,1533.72 700.744,656.364 795.526,773.718 890.308,891.071 985.09,986.071 1079.87,1103.42 1174.65,1226.37 1269.44,1349.31 1364.22,1410.78 1459,1578.43 1553.78,656.364 1648.56,745.776 1743.35,851.953 1838.13,986.071 1932.91,1081.07 2027.69,1187.25 2122.47,1287.84 2217.26,1388.43 2312.04,1494.6 2406.82,1651.07 2501.6,656.364 2596.39,779.306 2691.17,935.777 2785.95,1014.01 2880.73,1131.37 2975.51,1254.31 3070.3,1326.95 \"/>\n",
       "<polyline clip-path=\"url(#clip312)\" style=\"stroke:#6b9e32; stroke-linecap:round; stroke-linejoin:round; stroke-width:4; stroke-opacity:1; fill:none\" points=\"321.616,1215.19 416.398,1310.19 511.18,1405.19 605.962,656.364 700.744,740.188 795.526,846.365 890.308,941.365 985.09,1081.07 1079.87,1181.66 1174.65,1265.48 1269.44,1343.72 1364.22,1477.84 1459,656.364 1553.78,812.835 1648.56,980.483 1743.35,1125.78 1838.13,1237.54 1932.91,1338.13 2027.69,1455.48 2122.47,1578.43 2217.26,1673.43 2312.04,1774.02 2406.82,1774.02 2501.6,656.364 2596.39,790.482 2691.17,885.483 2785.95,952.542 2880.73,1053.13 2975.51,1170.48 3070.3,1304.6 \"/>\n",
       "<polyline clip-path=\"url(#clip312)\" style=\"stroke:#009af9; stroke-linecap:round; stroke-linejoin:round; stroke-width:4; stroke-opacity:1; fill:none\" points=\"321.616,1215.19 416.398,1276.66 511.18,1349.31 605.962,1449.9 700.744,1589.6 795.526,1679.02 890.308,656.364 985.09,796.071 1079.87,924.6 1174.65,991.66 1269.44,1142.54 1364.22,1271.07 1459,1377.25 1553.78,1489.01 1648.56,656.364 1743.35,824.012 1838.13,902.247 1932.91,1002.84 2027.69,1142.54 2122.47,1271.07 2217.26,1388.43 2312.04,1522.54 2406.82,656.364 2501.6,762.541 2596.39,902.247 2691.17,1002.84 2785.95,1153.72 2880.73,1248.72 2975.51,1343.72 3070.3,1461.07 \"/>\n",
       "<polyline clip-path=\"url(#clip312)\" style=\"stroke:#e26f46; stroke-linecap:round; stroke-linejoin:round; stroke-width:4; stroke-opacity:1; fill:none\" points=\"321.616,1215.19 416.398,1349.31 511.18,1455.48 605.962,1539.31 700.744,656.364 795.526,768.129 890.308,907.836 985.09,1058.72 1079.87,1176.07 1174.65,1310.19 1269.44,1399.6 1364.22,656.364 1459,762.541 1553.78,863.13 1648.56,974.895 1743.35,1086.66 1838.13,1198.43 1932.91,1326.95 2027.69,1511.37 2122.47,1617.54 2217.26,656.364 2312.04,784.894 2406.82,924.6 2501.6,1014.01 2596.39,1109.01 2691.17,1204.01 2785.95,1315.78 2880.73,1421.96 2975.51,1522.54 3070.3,656.364 \"/>\n",
       "<polyline clip-path=\"url(#clip312)\" style=\"stroke:#3da44d; stroke-linecap:round; stroke-linejoin:round; stroke-width:4; stroke-opacity:1; fill:none\" points=\"321.616,1215.19 416.398,1332.54 511.18,1438.72 605.962,1550.49 700.744,656.364 795.526,740.188 890.308,874.306 985.09,935.777 1079.87,1053.13 1174.65,1164.9 1269.44,1237.54 1364.22,1349.31 1459,1505.78 1553.78,1606.37 1648.56,1701.37 1743.35,1774.02 1838.13,656.364 1932.91,818.424 2027.69,997.248 2122.47,1109.01 2217.26,1204.01 2312.04,1321.37 2406.82,1410.78 2501.6,1522.54 2596.39,1634.31 2691.17,1734.9 2785.95,1774.02 2880.73,656.364 2975.51,745.776 3070.3,863.13 \"/>\n",
       "<polyline clip-path=\"url(#clip312)\" style=\"stroke:#c271d2; stroke-linecap:round; stroke-linejoin:round; stroke-width:4; stroke-opacity:1; fill:none\" points=\"321.616,1215.19 416.398,1354.9 511.18,1500.19 605.962,1628.72 700.744,656.364 795.526,773.718 890.308,874.306 985.09,991.66 1079.87,1131.37 1174.65,1271.07 1269.44,1421.96 1364.22,1528.13 1459,656.364 1553.78,706.658 1648.56,801.659 1743.35,907.836 1838.13,1086.66 1932.91,1204.01 2027.69,1326.95 2122.47,1455.48 2217.26,656.364 2312.04,751.364 2406.82,874.306 2501.6,946.953 2596.39,1058.72 2691.17,1192.84 2785.95,1287.84 2880.73,1427.54 2975.51,1550.49 3070.3,656.364 \"/>\n",
       "<polyline clip-path=\"url(#clip312)\" style=\"stroke:#ac8d18; stroke-linecap:round; stroke-linejoin:round; stroke-width:4; stroke-opacity:1; fill:none\" points=\"321.616,1215.19 416.398,1321.37 511.18,1416.37 605.962,1528.13 700.744,656.364 795.526,734.6 890.308,840.777 985.09,946.953 1079.87,1058.72 1174.65,1170.48 1269.44,1321.37 1364.22,1466.66 1459,1561.66 1553.78,1684.6 1648.56,656.364 1743.35,779.306 1838.13,840.777 1932.91,919.012 2027.69,1064.31 2122.47,1148.13 2217.26,1282.25 2312.04,1366.07 2406.82,1483.43 2501.6,1584.01 2596.39,1723.72 2691.17,656.364 2785.95,773.718 2880.73,891.071 2975.51,1036.37 3070.3,1181.66 \"/>\n",
       "<polyline clip-path=\"url(#clip312)\" style=\"stroke:#00a9ad; stroke-linecap:round; stroke-linejoin:round; stroke-width:4; stroke-opacity:1; fill:none\" points=\"321.616,1215.19 416.398,1360.48 511.18,1466.66 605.962,656.364 700.744,762.541 795.526,840.777 890.308,935.777 985.09,1069.9 1079.87,1159.31 1174.65,1259.9 1269.44,1371.66 1364.22,1483.43 1459,1600.78 1553.78,656.364 1648.56,756.953 1743.35,868.718 1838.13,1019.6 1932.91,1170.48 2027.69,1315.78 2122.47,1416.37 2217.26,1550.49 2312.04,656.364 2406.82,745.776 2501.6,835.188 2596.39,924.6 2691.17,1047.54 2785.95,1181.66 2880.73,1243.13 2975.51,1304.6 3070.3,1433.13 \"/>\n",
       "<polyline clip-path=\"url(#clip312)\" style=\"stroke:#ed5d92; stroke-linecap:round; stroke-linejoin:round; stroke-width:4; stroke-opacity:1; fill:none\" points=\"321.616,1215.19 416.398,1354.9 511.18,1455.48 605.962,1567.25 700.744,376.951 795.526,432.834 890.308,527.834 985.09,622.835 1079.87,756.953 1174.65,879.894 1269.44,1002.84 1364.22,1153.72 1459,1259.9 1553.78,1399.6 1648.56,1489.01 1743.35,376.951 1838.13,460.775 1932.91,578.129 2027.69,639.599 2122.47,762.541 2217.26,857.541 2312.04,974.895 2406.82,1120.19 2501.6,1226.37 2596.39,1416.37 2691.17,1516.96 2785.95,1634.31 2880.73,376.951 2975.51,505.481 3070.3,634.011 \"/>\n",
       "<polyline clip-path=\"url(#clip312)\" style=\"stroke:#c68125; stroke-linecap:round; stroke-linejoin:round; stroke-width:4; stroke-opacity:1; fill:none\" points=\"321.616,1215.19 416.398,1304.6 511.18,1438.72 605.962,1584.01 700.744,376.951 795.526,483.128 890.308,589.305 985.09,645.188 1079.87,717.835 1174.65,829.6 1269.44,952.542 1364.22,1081.07 1459,1170.48 1553.78,1259.9 1648.56,1366.07 1743.35,1466.66 1838.13,1589.6 1932.91,376.951 2027.69,494.305 2122.47,566.952 2217.26,701.07 2312.04,779.306 2406.82,879.894 2501.6,997.248 2596.39,1131.37 2691.17,1215.19 2785.95,1338.13 2880.73,1399.6 2975.51,1533.72 3070.3,1639.9 \"/>\n",
       "<polyline clip-path=\"url(#clip312)\" style=\"stroke:#00a98d; stroke-linecap:round; stroke-linejoin:round; stroke-width:4; stroke-opacity:1; fill:none\" points=\"321.616,1215.19 416.398,1282.25 511.18,1427.54 605.962,1511.37 700.744,376.951 795.526,488.716 890.308,583.717 985.09,673.129 1079.87,835.188 1174.65,941.365 1269.44,1025.19 1364.22,1136.95 1459,1231.95 1553.78,1310.19 1648.56,1410.78 1743.35,1528.13 1838.13,376.951 1932.91,499.893 2027.69,639.599 2122.47,712.247 2217.26,796.071 2312.04,868.718 2406.82,941.365 2501.6,1075.48 2596.39,1159.31 2691.17,1326.95 2785.95,1444.31 2880.73,1544.9 2975.51,376.951 3070.3,483.128 \"/>\n",
       "<polyline clip-path=\"url(#clip312)\" style=\"stroke:#8e971d; stroke-linecap:round; stroke-linejoin:round; stroke-width:4; stroke-opacity:1; fill:none\" points=\"321.616,1215.19 416.398,1315.78 511.18,1427.54 605.962,1522.54 700.744,376.951 795.526,499.893 890.308,606.07 985.09,723.423 1079.87,840.777 1174.65,941.365 1269.44,1036.37 1364.22,1125.78 1459,1215.19 1553.78,1310.19 1648.56,1455.48 1743.35,376.951 1838.13,505.481 1932.91,600.482 2027.69,734.6 2122.47,885.483 2217.26,963.718 2312.04,1064.31 2406.82,1204.01 2501.6,1338.13 2596.39,1405.19 2691.17,1477.84 2785.95,376.951 2880.73,505.481 2975.51,611.658 3070.3,695.482 \"/>\n",
       "<polyline clip-path=\"url(#clip312)\" style=\"stroke:#00a8cb; stroke-linecap:round; stroke-linejoin:round; stroke-width:4; stroke-opacity:1; fill:none\" points=\"321.616,1215.19 416.398,1332.54 511.18,1394.01 605.962,1516.96 700.744,1589.6 795.526,376.951 890.308,455.187 985.09,578.129 1079.87,706.658 1174.65,790.482 1269.44,919.012 1364.22,1014.01 1459,1109.01 1553.78,1209.6 1648.56,1326.95 1743.35,1461.07 1838.13,1606.37 1932.91,1695.78 2027.69,1774.02 2122.47,376.951 2217.26,460.775 2312.04,566.952 2406.82,689.894 2501.6,790.482 2596.39,891.071 2691.17,1036.37 2785.95,1142.54 2880.73,1237.54 2975.51,1354.9 3070.3,1500.19 \"/>\n",
       "<polyline clip-path=\"url(#clip312)\" style=\"stroke:#9b7fe8; stroke-linecap:round; stroke-linejoin:round; stroke-width:4; stroke-opacity:1; fill:none\" points=\"321.616,1215.19 416.398,1326.95 511.18,1433.13 605.962,1522.54 700.744,376.951 795.526,471.952 890.308,594.893 985.09,673.129 1079.87,768.129 1174.65,896.659 1269.44,1002.84 1364.22,1109.01 1459,1237.54 1553.78,1321.37 1648.56,1438.72 1743.35,1528.13 1838.13,376.951 1932.91,460.775 2027.69,600.482 2122.47,695.482 2217.26,790.482 2312.04,907.836 2406.82,1025.19 2501.6,1148.13 2596.39,1287.84 2691.17,1382.84 2785.95,1483.43 2880.73,1556.07 2975.51,376.951 3070.3,488.716 \"/>\n",
       "<polyline clip-path=\"url(#clip312)\" style=\"stroke:#608cf6; stroke-linecap:round; stroke-linejoin:round; stroke-width:4; stroke-opacity:1; fill:none\" points=\"321.616,1215.19 416.398,1377.25 511.18,1483.43 605.962,376.951 700.744,466.363 795.526,544.599 890.308,606.07 985.09,740.188 1079.87,868.718 1174.65,1036.37 1269.44,1142.54 1364.22,1259.9 1459,1394.01 1553.78,1477.84 1648.56,376.951 1743.35,511.069 1838.13,645.188 1932.91,779.306 2027.69,874.306 2122.47,997.248 2217.26,1148.13 2312.04,1282.25 2406.82,1427.54 2501.6,1567.25 2596.39,1740.49 2691.17,376.951 2785.95,466.363 2880.73,606.07 2975.51,745.776 3070.3,818.424 \"/>\n",
       "<polyline clip-path=\"url(#clip312)\" style=\"stroke:#f05f73; stroke-linecap:round; stroke-linejoin:round; stroke-width:4; stroke-opacity:1; fill:none\" points=\"321.616,1215.19 416.398,1310.19 511.18,1377.25 605.962,1500.19 700.744,1561.66 795.526,376.951 890.308,460.775 985.09,511.069 1079.87,611.658 1174.65,751.364 1269.44,891.071 1364.22,986.071 1459,1075.48 1553.78,1220.78 1648.56,1310.19 1743.35,1427.54 1838.13,376.951 1932.91,539.011 2027.69,622.835 2122.47,762.541 2217.26,913.424 2312.04,1036.37 2406.82,1114.6 2501.6,1181.66 2596.39,1332.54 2691.17,1444.31 2785.95,1572.84 2880.73,1712.54 2975.51,1774.02 3070.3,376.951 \"/>\n",
       "<polyline clip-path=\"url(#clip312)\" style=\"stroke:#dd64b5; stroke-linecap:round; stroke-linejoin:round; stroke-width:4; stroke-opacity:1; fill:none\" points=\"321.616,1215.19 416.398,1332.54 511.18,1449.9 605.962,1489.01 700.744,1561.66 795.526,376.951 890.308,516.658 985.09,661.952 1079.87,779.306 1174.65,935.777 1269.44,1064.31 1364.22,1209.6 1459,1321.37 1553.78,1455.48 1648.56,1572.84 1743.35,376.951 1838.13,494.305 1932.91,650.776 2027.69,729.011 2122.47,840.777 2217.26,952.542 2312.04,1008.42 2406.82,1086.66 2501.6,1215.19 2596.39,1371.66 2691.17,1477.84 2785.95,376.951 2880.73,494.305 2975.51,622.835 3070.3,762.541 \"/>\n",
       "<polyline clip-path=\"url(#clip312)\" style=\"stroke:#6b9e32; stroke-linecap:round; stroke-linejoin:round; stroke-width:4; stroke-opacity:1; fill:none\" points=\"321.616,1215.19 416.398,1282.25 511.18,1399.6 605.962,1455.48 700.744,1556.07 795.526,1712.54 890.308,376.951 985.09,466.363 1079.87,589.305 1174.65,712.247 1269.44,863.13 1364.22,1019.6 1459,1109.01 1553.78,1226.37 1648.56,1343.72 1743.35,1461.07 1838.13,1561.66 1932.91,1673.43 2027.69,1774.02 2122.47,1774.02 2217.26,376.951 2312.04,471.952 2406.82,566.952 2501.6,729.011 2596.39,835.188 2691.17,952.542 2785.95,1047.54 2880.73,1120.19 2975.51,1287.84 3070.3,1438.72 \"/>\n",
       "<polyline clip-path=\"url(#clip312)\" style=\"stroke:#009af9; stroke-linecap:round; stroke-linejoin:round; stroke-width:4; stroke-opacity:1; fill:none\" points=\"321.616,1215.19 416.398,1315.78 511.18,1427.54 605.962,1505.78 700.744,1606.37 795.526,97.5384 890.308,231.657 985.09,365.775 1079.87,511.069 1174.65,589.305 1269.44,678.717 1364.22,812.835 1459,907.836 1553.78,1002.84 1648.56,1148.13 1743.35,1243.13 1838.13,1338.13 1932.91,1511.37 2027.69,1623.13 2122.47,1751.66 2217.26,97.5384 2312.04,220.48 2406.82,326.657 2501.6,421.657 2596.39,511.069 2691.17,583.717 2785.95,684.305 2880.73,779.306 2975.51,891.071 3070.3,991.66 \"/>\n",
       "<polyline clip-path=\"url(#clip312)\" style=\"stroke:#e26f46; stroke-linecap:round; stroke-linejoin:round; stroke-width:4; stroke-opacity:1; fill:none\" points=\"321.616,1215.19 416.398,1343.72 511.18,1466.66 605.962,1628.72 700.744,1740.49 795.526,97.5384 890.308,175.774 985.09,304.304 1079.87,416.069 1174.65,511.069 1269.44,661.952 1364.22,740.188 1459,868.718 1553.78,1025.19 1648.56,1153.72 1743.35,1271.07 1838.13,1388.43 1932.91,1511.37 2027.69,97.5384 2122.47,192.539 2217.26,332.245 2312.04,460.775 2406.82,578.129 2501.6,706.658 2596.39,779.306 2691.17,913.424 2785.95,1030.78 2880.73,1176.07 2975.51,1271.07 3070.3,1394.01 \"/>\n",
       "<polyline clip-path=\"url(#clip312)\" style=\"stroke:#3da44d; stroke-linecap:round; stroke-linejoin:round; stroke-width:4; stroke-opacity:1; fill:none\" points=\"321.616,1215.19 416.398,1326.95 511.18,1461.07 605.962,1539.31 700.744,97.5384 795.526,203.715 890.308,321.069 985.09,449.599 1079.87,544.599 1174.65,661.952 1269.44,801.659 1364.22,919.012 1459,1025.19 1553.78,1103.42 1648.56,1248.72 1743.35,1326.95 1838.13,1438.72 1932.91,97.5384 2027.69,220.48 2122.47,326.657 2217.26,449.599 2312.04,583.717 2406.82,678.717 2501.6,773.718 2596.39,868.718 2691.17,991.66 2785.95,1136.95 2880.73,1271.07 2975.51,1349.31 3070.3,1433.13 \"/>\n",
       "<polyline clip-path=\"url(#clip312)\" style=\"stroke:#c271d2; stroke-linecap:round; stroke-linejoin:round; stroke-width:4; stroke-opacity:1; fill:none\" points=\"321.616,1215.19 416.398,1315.78 511.18,1438.72 605.962,1539.31 700.744,1706.96 795.526,1774.02 890.308,97.5384 985.09,198.127 1079.87,309.892 1174.65,404.893 1269.44,516.658 1364.22,622.835 1459,756.953 1553.78,913.424 1648.56,1036.37 1743.35,1136.95 1838.13,1265.48 1932.91,1349.31 2027.69,1444.31 2122.47,1544.9 2217.26,1617.54 2312.04,1695.78 2406.82,97.5384 2501.6,226.068 2596.39,343.422 2691.17,488.716 2785.95,628.423 2880.73,729.011 2975.51,818.424 3070.3,919.012 \"/>\n",
       "<polyline clip-path=\"url(#clip312)\" style=\"stroke:#ac8d18; stroke-linecap:round; stroke-linejoin:round; stroke-width:4; stroke-opacity:1; fill:none\" points=\"321.616,1215.19 416.398,1349.31 511.18,1449.9 605.962,1522.54 700.744,97.5384 795.526,181.362 890.308,304.304 985.09,376.951 1079.87,505.481 1174.65,606.07 1269.44,762.541 1364.22,857.541 1459,952.542 1553.78,1041.95 1648.56,1153.72 1743.35,1259.9 1838.13,1394.01 1932.91,1494.6 2027.69,1589.6 2122.47,1679.02 2217.26,97.5384 2312.04,209.304 2406.82,349.01 2501.6,466.363 2596.39,589.305 2691.17,689.894 2785.95,773.718 2880.73,919.012 2975.51,1019.6 3070.3,1136.95 \"/>\n",
       "<polyline clip-path=\"url(#clip312)\" style=\"stroke:#00a9ad; stroke-linecap:round; stroke-linejoin:round; stroke-width:4; stroke-opacity:1; fill:none\" points=\"321.616,1215.19 416.398,1321.37 511.18,1416.37 605.962,1528.13 700.744,97.5384 795.526,186.951 890.308,281.951 985.09,466.363 1079.87,606.07 1174.65,751.364 1269.44,851.953 1364.22,969.307 1459,1125.78 1553.78,1248.72 1648.56,1332.54 1743.35,1444.31 1838.13,1533.72 1932.91,1645.49 2027.69,97.5384 2122.47,242.833 2217.26,321.069 2312.04,416.069 2406.82,505.481 2501.6,611.658 2596.39,712.247 2691.17,851.953 2785.95,1019.6 2880.73,1114.6 2975.51,1209.6 3070.3,1338.13 \"/>\n",
       "<polyline clip-path=\"url(#clip312)\" style=\"stroke:#ed5d92; stroke-linecap:round; stroke-linejoin:round; stroke-width:4; stroke-opacity:1; fill:none\" points=\"321.616,1215.19 416.398,1304.6 511.18,1382.84 605.962,1528.13 700.744,97.5384 795.526,192.539 890.308,309.892 985.09,421.657 1079.87,516.658 1174.65,684.305 1269.44,829.6 1364.22,935.777 1459,1058.72 1553.78,1159.31 1648.56,1276.66 1743.35,1349.31 1838.13,1444.31 1932.91,1634.31 2027.69,1751.66 2122.47,97.5384 2217.26,186.951 2312.04,281.951 2406.82,393.716 2501.6,511.069 2596.39,600.482 2691.17,689.894 2785.95,790.482 2880.73,902.247 2975.51,1014.01 3070.3,1125.78 \"/>\n",
       "<polyline clip-path=\"url(#clip312)\" style=\"stroke:#c68125; stroke-linecap:round; stroke-linejoin:round; stroke-width:4; stroke-opacity:1; fill:none\" points=\"321.616,1215.19 416.398,1310.19 511.18,1416.37 605.962,1511.37 700.744,97.5384 795.526,220.48 890.308,304.304 985.09,399.304 1079.87,539.011 1174.65,656.364 1269.44,762.541 1364.22,896.659 1459,1008.42 1553.78,1114.6 1648.56,1231.95 1743.35,1366.07 1838.13,1421.96 1932.91,1567.25 2027.69,1706.96 2122.47,97.5384 2217.26,237.245 2312.04,371.363 2406.82,505.481 2501.6,639.599 2596.39,773.718 2691.17,891.071 2785.95,986.071 2880.73,1075.48 2975.51,1153.72 3070.3,1271.07 \"/>\n",
       "<polyline clip-path=\"url(#clip312)\" style=\"stroke:#00a98d; stroke-linecap:round; stroke-linejoin:round; stroke-width:4; stroke-opacity:1; fill:none\" points=\"321.616,1215.19 416.398,1343.72 511.18,1444.31 605.962,1589.6 700.744,1723.72 795.526,1774.02 890.308,1774.02 985.09,1774.02 1079.87,1774.02 1174.65,1774.02 1269.44,1774.02 1364.22,97.5384 1459,186.951 1553.78,259.598 1648.56,354.598 1743.35,505.481 1838.13,639.599 1932.91,729.011 2027.69,851.953 2122.47,952.542 2217.26,1036.37 2312.04,1170.48 2406.82,1271.07 2501.6,1388.43 2596.39,1494.6 2691.17,1611.96 2785.95,1712.54 2880.73,1774.02 2975.51,97.5384 3070.3,259.598 \"/>\n",
       "<polyline clip-path=\"url(#clip312)\" style=\"stroke:#8e971d; stroke-linecap:round; stroke-linejoin:round; stroke-width:4; stroke-opacity:1; fill:none\" points=\"321.616,1215.19 416.398,1326.95 511.18,1449.9 605.962,1595.19 700.744,1723.72 795.526,1774.02 890.308,97.5384 985.09,231.657 1079.87,360.186 1174.65,483.128 1269.44,617.246 1364.22,734.6 1459,835.188 1553.78,924.6 1648.56,1036.37 1743.35,1142.54 1838.13,1259.9 1932.91,1349.31 2027.69,1461.07 2122.47,97.5384 2217.26,192.539 2312.04,298.716 2406.82,393.716 2501.6,544.599 2596.39,650.776 2691.17,790.482 2785.95,924.6 2880.73,1014.01 2975.51,1148.13 3070.3,1215.19 \"/>\n",
       "<polyline clip-path=\"url(#clip312)\" style=\"stroke:#00a8cb; stroke-linecap:round; stroke-linejoin:round; stroke-width:4; stroke-opacity:1; fill:none\" points=\"321.616,1215.19 416.398,1338.13 511.18,1449.9 605.962,1215.19 700.744,1343.72 795.526,1472.25 890.308,1215.19 985.09,1349.31 1079.87,1433.13 1174.65,1561.66 1269.44,1679.02 1364.22,1774.02 1459,1774.02 1553.78,1215.19 1648.56,1343.72 1743.35,1449.9 1838.13,1215.19 1932.91,1343.72 2027.69,1438.72 2122.47,1556.07 2217.26,1215.19 2312.04,1338.13 2406.82,1466.66 2501.6,1522.54 2596.39,1215.19 2691.17,1304.6 2785.95,1416.37 2880.73,1516.96 2975.51,1639.9 3070.3,1746.07 \"/>\n",
       "<polyline clip-path=\"url(#clip312)\" style=\"stroke:#9b7fe8; stroke-linecap:round; stroke-linejoin:round; stroke-width:4; stroke-opacity:1; fill:none\" points=\"321.616,1215.19 416.398,1366.07 511.18,1489.01 605.962,1600.78 700.744,1215.19 795.526,1332.54 890.308,1416.37 985.09,1516.96 1079.87,1617.54 1174.65,1712.54 1269.44,1774.02 1364.22,1215.19 1459,1304.6 1553.78,1433.13 1648.56,1578.43 1743.35,1215.19 1838.13,1293.43 1932.91,1399.6 2027.69,1522.54 2122.47,1215.19 2217.26,1310.19 2312.04,1449.9 2406.82,1215.19 2501.6,1326.95 2596.39,1416.37 2691.17,1550.49 2785.95,1667.84 2880.73,1774.02 2975.51,1215.19 3070.3,1360.48 \"/>\n",
       "<polyline clip-path=\"url(#clip312)\" style=\"stroke:#608cf6; stroke-linecap:round; stroke-linejoin:round; stroke-width:4; stroke-opacity:1; fill:none\" points=\"321.616,1215.19 416.398,1304.6 511.18,1477.84 605.962,1215.19 700.744,1332.54 795.526,1427.54 890.308,1215.19 985.09,1315.78 1079.87,1410.78 1174.65,1528.13 1269.44,1215.19 1364.22,1310.19 1459,1394.01 1553.78,1516.96 1648.56,1623.13 1743.35,1215.19 1838.13,1304.6 1932.91,1410.78 2027.69,1516.96 2122.47,1623.13 2217.26,1215.19 2312.04,1304.6 2406.82,1399.6 2501.6,1215.19 2596.39,1310.19 2691.17,1483.43 2785.95,1584.01 2880.73,1729.31 2975.51,1774.02 3070.3,1215.19 \"/>\n",
       "<polyline clip-path=\"url(#clip312)\" style=\"stroke:#f05f73; stroke-linecap:round; stroke-linejoin:round; stroke-width:4; stroke-opacity:1; fill:none\" points=\"321.616,1215.19 416.398,1304.6 511.18,1405.19 605.962,1511.37 700.744,1634.31 795.526,1215.19 890.308,1310.19 985.09,1399.6 1079.87,1215.19 1174.65,1343.72 1269.44,1427.54 1364.22,1215.19 1459,1382.84 1553.78,1516.96 1648.56,1215.19 1743.35,1349.31 1838.13,1421.96 1932.91,1494.6 2027.69,1215.19 2122.47,1315.78 2217.26,1433.13 2312.04,1215.19 2406.82,1299.01 2501.6,1416.37 2596.39,1215.19 2691.17,1366.07 2785.95,1455.48 2880.73,1572.84 2975.51,1667.84 3070.3,1774.02 \"/>\n",
       "<polyline clip-path=\"url(#clip312)\" style=\"stroke:#dd64b5; stroke-linecap:round; stroke-linejoin:round; stroke-width:4; stroke-opacity:1; fill:none\" points=\"321.616,1215.19 416.398,1299.01 511.18,1461.07 605.962,1561.66 700.744,1215.19 795.526,1293.43 890.308,1394.01 985.09,1215.19 1079.87,1299.01 1174.65,1388.43 1269.44,1472.25 1364.22,1215.19 1459,1343.72 1553.78,1494.6 1648.56,1634.31 1743.35,1757.25 1838.13,1215.19 1932.91,1326.95 2027.69,1466.66 2122.47,1595.19 2217.26,1679.02 2312.04,1215.19 2406.82,1332.54 2501.6,1461.07 2596.39,1556.07 2691.17,1673.43 2785.95,1215.19 2880.73,1338.13 2975.51,1455.48 3070.3,1572.84 \"/>\n",
       "<polyline clip-path=\"url(#clip312)\" style=\"stroke:#6b9e32; stroke-linecap:round; stroke-linejoin:round; stroke-width:4; stroke-opacity:1; fill:none\" points=\"321.616,1215.19 416.398,1315.78 511.18,1433.13 605.962,1511.37 700.744,1673.43 795.526,1215.19 890.308,1326.95 985.09,1394.01 1079.87,1505.78 1174.65,1645.49 1269.44,1723.72 1364.22,1215.19 1459,1310.19 1553.78,1377.25 1648.56,1472.25 1743.35,1215.19 1838.13,1343.72 1932.91,1438.72 2027.69,1511.37 2122.47,1215.19 2217.26,1299.01 2312.04,1416.37 2406.82,1215.19 2501.6,1338.13 2596.39,1416.37 2691.17,1550.49 2785.95,1215.19 2880.73,1299.01 2975.51,1405.19 3070.3,1483.43 \"/>\n",
       "<polyline clip-path=\"url(#clip312)\" style=\"stroke:#009af9; stroke-linecap:round; stroke-linejoin:round; stroke-width:4; stroke-opacity:1; fill:none\" points=\"321.616,1215.19 416.398,1360.48 511.18,1511.37 605.962,1606.37 700.744,1684.6 795.526,1774.02 890.308,1215.19 985.09,1287.84 1079.87,1377.25 1174.65,1461.07 1269.44,1561.66 1364.22,1215.19 1459,1338.13 1553.78,1410.78 1648.56,1500.19 1743.35,1215.19 1838.13,1276.66 1932.91,1371.66 2027.69,1483.43 2122.47,1215.19 2217.26,1299.01 2312.04,1416.37 2406.82,1215.19 2501.6,1343.72 2596.39,1449.9 2691.17,1215.19 2785.95,1326.95 2880.73,1455.48 2975.51,1550.49 3070.3,1215.19 \"/>\n",
       "<polyline clip-path=\"url(#clip312)\" style=\"stroke:#e26f46; stroke-linecap:round; stroke-linejoin:round; stroke-width:4; stroke-opacity:1; fill:none\" points=\"321.616,1215.19 416.398,1338.13 511.18,1449.9 605.962,1584.01 700.744,1215.19 795.526,1299.01 890.308,1416.37 985.09,1516.96 1079.87,1611.96 1174.65,1740.49 1269.44,1215.19 1364.22,1343.72 1459,1461.07 1553.78,1215.19 1648.56,1349.31 1743.35,1477.84 1838.13,1215.19 1932.91,1332.54 2027.69,1416.37 2122.47,1215.19 2217.26,1321.37 2312.04,1444.31 2406.82,1528.13 2501.6,1645.49 2596.39,1751.66 2691.17,1774.02 2785.95,1774.02 2880.73,1774.02 2975.51,1774.02 3070.3,1215.19 \"/>\n",
       "<polyline clip-path=\"url(#clip312)\" style=\"stroke:#3da44d; stroke-linecap:round; stroke-linejoin:round; stroke-width:4; stroke-opacity:1; fill:none\" points=\"321.616,1215.19 416.398,1388.43 511.18,1511.37 605.962,1623.13 700.744,1718.13 795.526,1215.19 890.308,1326.95 985.09,1455.48 1079.87,1215.19 1174.65,1338.13 1269.44,1449.9 1364.22,1215.19 1459,1326.95 1553.78,1444.31 1648.56,1561.66 1743.35,1215.19 1838.13,1293.43 1932.91,1416.37 2027.69,1589.6 2122.47,1215.19 2217.26,1310.19 2312.04,1427.54 2406.82,1215.19 2501.6,1349.31 2596.39,1455.48 2691.17,1215.19 2785.95,1299.01 2880.73,1377.25 2975.51,1500.19 3070.3,1215.19 \"/>\n",
       "<polyline clip-path=\"url(#clip312)\" style=\"stroke:#c271d2; stroke-linecap:round; stroke-linejoin:round; stroke-width:4; stroke-opacity:1; fill:none\" points=\"321.616,1215.19 416.398,1343.72 511.18,1511.37 605.962,1679.02 700.744,1215.19 795.526,1299.01 890.308,1416.37 985.09,1500.19 1079.87,1600.78 1174.65,1768.43 1269.44,1774.02 1364.22,1215.19 1459,1366.07 1553.78,1461.07 1648.56,1215.19 1743.35,1321.37 1838.13,1433.13 1932.91,1215.19 2027.69,1321.37 2122.47,1449.9 2217.26,1215.19 2312.04,1299.01 2406.82,1410.78 2501.6,1516.96 2596.39,1215.19 2691.17,1366.07 2785.95,1449.9 2880.73,1522.54 2975.51,1215.19 3070.3,1304.6 \"/>\n",
       "<polyline clip-path=\"url(#clip312)\" style=\"stroke:#ac8d18; stroke-linecap:round; stroke-linejoin:round; stroke-width:4; stroke-opacity:1; fill:none\" points=\"321.616,1215.19 416.398,1326.95 511.18,1427.54 605.962,1544.9 700.744,1662.25 795.526,1774.02 890.308,935.777 985.09,1064.31 1079.87,1181.66 1174.65,1321.37 1269.44,1449.9 1364.22,935.777 1459,1069.9 1553.78,1192.84 1648.56,1332.54 1743.35,1500.19 1838.13,1595.19 1932.91,935.777 2027.69,1081.07 2122.47,1192.84 2217.26,1282.25 2312.04,1399.6 2406.82,1533.72 2501.6,1628.72 2596.39,935.777 2691.17,1075.48 2785.95,1237.54 2880.73,1366.07 2975.51,1472.25 3070.3,935.777 \"/>\n",
       "<polyline clip-path=\"url(#clip312)\" style=\"stroke:#00a9ad; stroke-linecap:round; stroke-linejoin:round; stroke-width:4; stroke-opacity:1; fill:none\" points=\"321.616,1215.19 416.398,1287.84 511.18,1405.19 605.962,1505.78 700.744,1584.01 795.526,1695.78 890.308,1774.02 985.09,1774.02 1079.87,1774.02 1174.65,1774.02 1269.44,935.777 1364.22,1075.48 1459,1237.54 1553.78,1360.48 1648.56,1489.01 1743.35,935.777 1838.13,1053.13 1932.91,1136.95 2027.69,1231.95 2122.47,1354.9 2217.26,1461.07 2312.04,1561.66 2406.82,1679.02 2501.6,935.777 2596.39,1053.13 2691.17,1198.43 2785.95,1304.6 2880.73,1410.78 2975.51,1522.54 3070.3,1645.49 \"/>\n",
       "<polyline clip-path=\"url(#clip312)\" style=\"stroke:#ed5d92; stroke-linecap:round; stroke-linejoin:round; stroke-width:4; stroke-opacity:1; fill:none\" points=\"321.616,1215.19 416.398,1321.37 511.18,1410.78 605.962,935.777 700.744,1025.19 795.526,1097.84 890.308,1226.37 985.09,1326.95 1079.87,1449.9 1174.65,1511.37 1269.44,935.777 1364.22,1075.48 1459,1215.19 1553.78,1360.48 1648.56,1483.43 1743.35,935.777 1838.13,1047.54 1932.91,1103.42 2027.69,1215.19 2122.47,1315.78 2217.26,1438.72 2312.04,1539.31 2406.82,935.777 2501.6,1069.9 2596.39,1159.31 2691.17,1271.07 2785.95,1421.96 2880.73,1528.13 2975.51,935.777 3070.3,1025.19 \"/>\n",
       "<polyline clip-path=\"url(#clip312)\" style=\"stroke:#c68125; stroke-linecap:round; stroke-linejoin:round; stroke-width:4; stroke-opacity:1; fill:none\" points=\"321.616,1215.19 416.398,1282.25 511.18,1377.25 605.962,1483.43 700.744,935.777 795.526,1058.72 890.308,1215.19 985.09,1299.01 1079.87,1394.01 1174.65,1500.19 1269.44,935.777 1364.22,1047.54 1459,1170.48 1553.78,1293.43 1648.56,1427.54 1743.35,935.777 1838.13,1053.13 1932.91,1164.9 2027.69,1271.07 2122.47,1394.01 2217.26,1489.01 2312.04,1617.54 2406.82,1751.66 2501.6,935.777 2596.39,1097.84 2691.17,1226.37 2785.95,1349.31 2880.73,1421.96 2975.51,1522.54 3070.3,935.777 \"/>\n",
       "<polyline clip-path=\"url(#clip312)\" style=\"stroke:#00a98d; stroke-linecap:round; stroke-linejoin:round; stroke-width:4; stroke-opacity:1; fill:none\" points=\"321.616,1215.19 416.398,1326.95 511.18,1466.66 605.962,1589.6 700.744,1690.19 795.526,1774.02 890.308,935.777 985.09,1036.37 1079.87,1153.72 1174.65,1248.72 1269.44,1360.48 1364.22,1466.66 1459,935.777 1553.78,1019.6 1648.56,1097.84 1743.35,1192.84 1838.13,1315.78 1932.91,1388.43 2027.69,1472.25 2122.47,935.777 2217.26,1030.78 2312.04,1125.78 2406.82,1215.19 2501.6,1354.9 2596.39,1477.84 2691.17,935.777 2785.95,1008.42 2880.73,1125.78 2975.51,1259.9 3070.3,1332.54 \"/>\n",
       "<polyline clip-path=\"url(#clip312)\" style=\"stroke:#8e971d; stroke-linecap:round; stroke-linejoin:round; stroke-width:4; stroke-opacity:1; fill:none\" points=\"321.616,1215.19 416.398,1377.25 511.18,1500.19 605.962,935.777 700.744,1019.6 795.526,1114.6 890.308,1198.43 985.09,1315.78 1079.87,1438.72 1174.65,1533.72 1269.44,935.777 1364.22,1047.54 1459,1159.31 1553.78,1271.07 1648.56,1354.9 1743.35,1477.84 1838.13,935.777 1932.91,1086.66 2027.69,1243.13 2122.47,1354.9 2217.26,1500.19 2312.04,935.777 2406.82,1086.66 2501.6,1220.78 2596.39,1332.54 2691.17,1438.72 2785.95,1595.19 2880.73,935.777 2975.51,1047.54 3070.3,1181.66 \"/>\n",
       "<polyline clip-path=\"url(#clip312)\" style=\"stroke:#00a8cb; stroke-linecap:round; stroke-linejoin:round; stroke-width:4; stroke-opacity:1; fill:none\" points=\"321.616,1215.19 416.398,1326.95 511.18,1410.78 605.962,1477.84 700.744,935.777 795.526,997.248 890.308,1125.78 985.09,1248.72 1079.87,1349.31 1174.65,1494.6 1269.44,1589.6 1364.22,1684.6 1459,1774.02 1553.78,935.777 1648.56,1036.37 1743.35,1159.31 1838.13,1271.07 1932.91,1377.25 2027.69,1533.72 2122.47,935.777 2217.26,1064.31 2312.04,1198.43 2406.82,1338.13 2501.6,1433.13 2596.39,1600.78 2691.17,935.777 2785.95,1047.54 2880.73,1176.07 2975.51,1299.01 3070.3,1371.66 \"/>\n",
       "<polyline clip-path=\"url(#clip312)\" style=\"stroke:#9b7fe8; stroke-linecap:round; stroke-linejoin:round; stroke-width:4; stroke-opacity:1; fill:none\" points=\"321.616,1215.19 416.398,1338.13 511.18,1444.31 605.962,1556.07 700.744,1656.66 795.526,935.777 890.308,1086.66 985.09,1204.01 1079.87,1349.31 1174.65,1472.25 1269.44,1578.43 1364.22,935.777 1459,1047.54 1553.78,1159.31 1648.56,1231.95 1743.35,1377.25 1838.13,1472.25 1932.91,1595.19 2027.69,1734.9 2122.47,1774.02 2217.26,1774.02 2312.04,1774.02 2406.82,935.777 2501.6,1069.9 2596.39,1204.01 2691.17,1310.19 2785.95,1382.84 2880.73,1449.9 2975.51,1617.54 3070.3,1718.13 \"/>\n",
       "<polyline clip-path=\"url(#clip312)\" style=\"stroke:#608cf6; stroke-linecap:round; stroke-linejoin:round; stroke-width:4; stroke-opacity:1; fill:none\" points=\"321.616,1215.19 416.398,1349.31 511.18,1444.31 605.962,1595.19 700.744,935.777 795.526,1064.31 890.308,1153.72 985.09,1248.72 1079.87,1343.72 1174.65,1433.13 1269.44,1511.37 1364.22,935.777 1459,1075.48 1553.78,1204.01 1648.56,1315.78 1743.35,1427.54 1838.13,935.777 1932.91,1081.07 2027.69,1181.66 2122.47,1299.01 2217.26,1410.78 2312.04,935.777 2406.82,1008.42 2501.6,1120.19 2596.39,1215.19 2691.17,1332.54 2785.95,1461.07 2880.73,935.777 2975.51,1047.54 3070.3,1159.31 \"/>\n",
       "<polyline clip-path=\"url(#clip312)\" style=\"stroke:#f05f73; stroke-linecap:round; stroke-linejoin:round; stroke-width:4; stroke-opacity:1; fill:none\" points=\"321.616,1215.19 416.398,1338.13 511.18,1449.9 605.962,1572.84 700.744,1673.43 795.526,1774.02 890.308,1774.02 985.09,935.777 1079.87,1014.01 1174.65,1131.37 1269.44,1226.37 1364.22,1332.54 1459,1421.96 1553.78,1477.84 1648.56,935.777 1743.35,1036.37 1838.13,1136.95 1932.91,1220.78 2027.69,1310.19 2122.47,1494.6 2217.26,935.777 2312.04,1036.37 2406.82,1170.48 2501.6,1282.25 2596.39,1394.01 2691.17,1505.78 2785.95,935.777 2880.73,1047.54 2975.51,1170.48 3070.3,1265.48 \"/>\n",
       "<polyline clip-path=\"url(#clip312)\" style=\"stroke:#dd64b5; stroke-linecap:round; stroke-linejoin:round; stroke-width:4; stroke-opacity:1; fill:none\" points=\"321.616,1215.19 416.398,1299.01 511.18,1399.6 605.962,1511.37 700.744,656.364 795.526,756.953 890.308,902.247 985.09,997.248 1079.87,1125.78 1174.65,1220.78 1269.44,1315.78 1364.22,1416.37 1459,1494.6 1553.78,1606.37 1648.56,1751.66 1743.35,656.364 1838.13,790.482 1932.91,874.306 2027.69,1019.6 2122.47,1181.66 2217.26,1326.95 2312.04,1427.54 2406.82,1516.96 2501.6,656.364 2596.39,773.718 2691.17,902.247 2785.95,1014.01 2880.73,1114.6 2975.51,1259.9 3070.3,1354.9 \"/>\n",
       "<polyline clip-path=\"url(#clip312)\" style=\"stroke:#6b9e32; stroke-linecap:round; stroke-linejoin:round; stroke-width:4; stroke-opacity:1; fill:none\" points=\"321.616,1215.19 416.398,1310.19 511.18,1444.31 605.962,656.364 700.744,801.659 795.526,863.13 890.308,930.189 985.09,1025.19 1079.87,1086.66 1174.65,1181.66 1269.44,1321.37 1364.22,1416.37 1459,1516.96 1553.78,1617.54 1648.56,1718.13 1743.35,656.364 1838.13,790.482 1932.91,885.483 2027.69,1036.37 2122.47,1159.31 2217.26,1271.07 2312.04,1354.9 2406.82,1477.84 2501.6,656.364 2596.39,729.011 2691.17,807.247 2785.95,902.247 2880.73,1019.6 2975.51,1142.54 3070.3,1276.66 \"/>\n",
       "<polyline clip-path=\"url(#clip312)\" style=\"stroke:#009af9; stroke-linecap:round; stroke-linejoin:round; stroke-width:4; stroke-opacity:1; fill:none\" points=\"321.616,1215.19 416.398,1366.07 511.18,1477.84 605.962,656.364 700.744,723.423 795.526,846.365 890.308,952.542 985.09,1047.54 1079.87,1170.48 1174.65,1304.6 1269.44,1371.66 1364.22,1533.72 1459,1712.54 1553.78,656.364 1648.56,796.071 1743.35,946.953 1838.13,1069.9 1932.91,1125.78 2027.69,1271.07 2122.47,1332.54 2217.26,1438.72 2312.04,1556.07 2406.82,1651.07 2501.6,656.364 2596.39,745.776 2691.17,840.777 2785.95,969.307 2880.73,1075.48 2975.51,1136.95 3070.3,1265.48 \"/>\n",
       "<polyline clip-path=\"url(#clip312)\" style=\"stroke:#e26f46; stroke-linecap:round; stroke-linejoin:round; stroke-width:4; stroke-opacity:1; fill:none\" points=\"321.616,1215.19 416.398,1299.01 511.18,1427.54 605.962,1539.31 700.744,656.364 795.526,779.306 890.308,840.777 985.09,919.012 1079.87,1008.42 1174.65,1086.66 1269.44,1204.01 1364.22,1349.31 1459,1449.9 1553.78,1561.66 1648.56,656.364 1743.35,762.541 1838.13,879.894 1932.91,980.483 2027.69,1131.37 2122.47,1231.95 2217.26,1388.43 2312.04,1522.54 2406.82,1634.31 2501.6,1768.43 2596.39,1774.02 2691.17,656.364 2785.95,762.541 2880.73,868.718 2975.51,980.483 3070.3,1120.19 \"/>\n",
       "<polyline clip-path=\"url(#clip312)\" style=\"stroke:#3da44d; stroke-linecap:round; stroke-linejoin:round; stroke-width:4; stroke-opacity:1; fill:none\" points=\"321.616,1215.19 416.398,1366.07 511.18,1500.19 605.962,656.364 700.744,790.482 795.526,874.306 890.308,969.307 985.09,1097.84 1079.87,1187.25 1174.65,1310.19 1269.44,1421.96 1364.22,656.364 1459,779.306 1553.78,902.247 1648.56,1002.84 1743.35,1164.9 1838.13,1259.9 1932.91,1338.13 2027.69,1455.48 2122.47,656.364 2217.26,762.541 2312.04,857.541 2406.82,941.365 2501.6,1030.78 2596.39,1142.54 2691.17,1276.66 2785.95,1338.13 2880.73,1472.25 2975.51,656.364 3070.3,740.188 \"/>\n",
       "<polyline clip-path=\"url(#clip312)\" style=\"stroke:#c271d2; stroke-linecap:round; stroke-linejoin:round; stroke-width:4; stroke-opacity:1; fill:none\" points=\"321.616,1215.19 416.398,1338.13 511.18,1472.25 605.962,1550.49 700.744,656.364 795.526,745.776 890.308,879.894 985.09,991.66 1079.87,1092.25 1174.65,1204.01 1269.44,1287.84 1364.22,1377.25 1459,1472.25 1553.78,656.364 1648.56,751.364 1743.35,896.659 1838.13,1041.95 1932.91,1159.31 2027.69,1354.9 2122.47,1455.48 2217.26,1544.9 2312.04,1639.9 2406.82,1757.25 2501.6,656.364 2596.39,768.129 2691.17,891.071 2785.95,1002.84 2880.73,1097.84 2975.51,1226.37 3070.3,1293.43 \"/>\n",
       "<polyline clip-path=\"url(#clip312)\" style=\"stroke:#ac8d18; stroke-linecap:round; stroke-linejoin:round; stroke-width:4; stroke-opacity:1; fill:none\" points=\"321.616,1215.19 416.398,1310.19 511.18,1438.72 605.962,1522.54 700.744,1656.66 795.526,656.364 890.308,740.188 985.09,868.718 1079.87,986.071 1174.65,1097.84 1269.44,1215.19 1364.22,1299.01 1459,1455.48 1553.78,656.364 1648.56,745.776 1743.35,818.424 1838.13,941.365 1932.91,1002.84 2027.69,1086.66 2122.47,1187.25 2217.26,1293.43 2312.04,1388.43 2406.82,1511.37 2501.6,1634.31 2596.39,656.364 2691.17,762.541 2785.95,896.659 2880.73,1008.42 2975.51,1103.42 3070.3,1237.54 \"/>\n",
       "<polyline clip-path=\"url(#clip312)\" style=\"stroke:#00a9ad; stroke-linecap:round; stroke-linejoin:round; stroke-width:4; stroke-opacity:1; fill:none\" points=\"321.616,1215.19 416.398,1338.13 511.18,1438.72 605.962,1500.19 700.744,656.364 795.526,807.247 890.308,885.483 985.09,1025.19 1079.87,1176.07 1174.65,1276.66 1269.44,1382.84 1364.22,1477.84 1459,1600.78 1553.78,656.364 1648.56,762.541 1743.35,868.718 1838.13,1002.84 1932.91,1148.13 2027.69,1265.48 2122.47,1360.48 2217.26,1477.84 2312.04,1617.54 2406.82,1706.96 2501.6,1774.02 2596.39,656.364 2691.17,723.423 2785.95,857.541 2880.73,963.718 2975.51,1103.42 3070.3,1187.25 \"/>\n",
       "<polyline clip-path=\"url(#clip312)\" style=\"stroke:#ed5d92; stroke-linecap:round; stroke-linejoin:round; stroke-width:4; stroke-opacity:1; fill:none\" points=\"321.616,1215.19 416.398,1332.54 511.18,1416.37 605.962,1511.37 700.744,656.364 795.526,779.306 890.308,913.424 985.09,997.248 1079.87,1103.42 1174.65,1287.84 1269.44,1388.43 1364.22,1489.01 1459,656.364 1553.78,773.718 1648.56,874.306 1743.35,991.66 1838.13,1109.01 1932.91,1237.54 2027.69,1343.72 2122.47,1427.54 2217.26,1522.54 2312.04,656.364 2406.82,762.541 2501.6,879.894 2596.39,1014.01 2691.17,1142.54 2785.95,1259.9 2880.73,1371.66 2975.51,1505.78 3070.3,656.364 \"/>\n",
       "<polyline clip-path=\"url(#clip312)\" style=\"stroke:#c68125; stroke-linecap:round; stroke-linejoin:round; stroke-width:4; stroke-opacity:1; fill:none\" points=\"321.616,1215.19 416.398,1332.54 511.18,1405.19 605.962,1528.13 700.744,1628.72 795.526,656.364 890.308,779.306 985.09,919.012 1079.87,1047.54 1174.65,1142.54 1269.44,1293.43 1364.22,1405.19 1459,1489.01 1553.78,1600.78 1648.56,656.364 1743.35,762.541 1838.13,879.894 1932.91,1008.42 2027.69,1176.07 2122.47,1321.37 2217.26,1421.96 2312.04,656.364 2406.82,773.718 2501.6,868.718 2596.39,974.895 2691.17,1064.31 2785.95,1164.9 2880.73,1276.66 2975.51,1399.6 3070.3,656.364 \"/>\n",
       "<polyline clip-path=\"url(#clip312)\" style=\"stroke:#00a98d; stroke-linecap:round; stroke-linejoin:round; stroke-width:4; stroke-opacity:1; fill:none\" points=\"321.616,1215.19 416.398,1321.37 511.18,1405.19 605.962,1494.6 700.744,376.951 795.526,505.481 890.308,661.952 985.09,779.306 1079.87,851.953 1174.65,974.895 1269.44,1047.54 1364.22,1148.13 1459,1282.25 1553.78,1410.78 1648.56,1489.01 1743.35,376.951 1838.13,466.363 1932.91,539.011 2027.69,701.07 2122.47,812.835 2217.26,919.012 2312.04,974.895 2406.82,1075.48 2501.6,1187.25 2596.39,1321.37 2691.17,1449.9 2785.95,376.951 2880.73,444.01 2975.51,606.07 3070.3,661.952 \"/>\n",
       "<polyline clip-path=\"url(#clip312)\" style=\"stroke:#8e971d; stroke-linecap:round; stroke-linejoin:round; stroke-width:4; stroke-opacity:1; fill:none\" points=\"321.616,1215.19 416.398,1304.6 511.18,1421.96 605.962,376.951 700.744,477.54 795.526,617.246 890.308,734.6 985.09,835.188 1079.87,930.189 1174.65,1075.48 1269.44,1164.9 1364.22,1259.9 1459,1388.43 1553.78,1505.78 1648.56,1617.54 1743.35,376.951 1838.13,477.54 1932.91,634.011 2027.69,773.718 2122.47,879.894 2217.26,952.542 2312.04,1069.9 2406.82,1170.48 2501.6,1248.72 2596.39,1338.13 2691.17,1421.96 2785.95,1511.37 2880.73,1628.72 2975.51,376.951 3070.3,511.069 \"/>\n",
       "<polyline clip-path=\"url(#clip312)\" style=\"stroke:#00a8cb; stroke-linecap:round; stroke-linejoin:round; stroke-width:4; stroke-opacity:1; fill:none\" points=\"321.616,1215.19 416.398,1338.13 511.18,1449.9 605.962,1578.43 700.744,376.951 795.526,511.069 890.308,622.835 985.09,745.776 1079.87,796.071 1174.65,885.483 1269.44,958.13 1364.22,1120.19 1459,1254.31 1553.78,1349.31 1648.56,1416.37 1743.35,1483.43 1838.13,376.951 1932.91,505.481 2027.69,611.658 2122.47,706.658 2217.26,784.894 2312.04,885.483 2406.82,1075.48 2501.6,1159.31 2596.39,1254.31 2691.17,1371.66 2785.95,1466.66 2880.73,376.951 2975.51,455.187 3070.3,600.482 \"/>\n",
       "<polyline clip-path=\"url(#clip312)\" style=\"stroke:#9b7fe8; stroke-linecap:round; stroke-linejoin:round; stroke-width:4; stroke-opacity:1; fill:none\" points=\"321.616,1215.19 416.398,1360.48 511.18,1505.78 605.962,1617.54 700.744,1751.66 795.526,376.951 890.308,460.775 985.09,544.599 1079.87,661.952 1174.65,762.541 1269.44,907.836 1364.22,1014.01 1459,1187.25 1553.78,1248.72 1648.56,1338.13 1743.35,1455.48 1838.13,1539.31 1932.91,376.951 2027.69,494.305 2122.47,600.482 2217.26,712.247 2312.04,824.012 2406.82,958.13 2501.6,1064.31 2596.39,1148.13 2691.17,1265.48 2785.95,1416.37 2880.73,1472.25 2975.51,1623.13 3070.3,1757.25 \"/>\n",
       "<polyline clip-path=\"url(#clip312)\" style=\"stroke:#608cf6; stroke-linecap:round; stroke-linejoin:round; stroke-width:4; stroke-opacity:1; fill:none\" points=\"321.616,1215.19 416.398,1377.25 511.18,1489.01 605.962,1589.6 700.744,1690.19 795.526,1774.02 890.308,376.951 985.09,516.658 1079.87,611.658 1174.65,751.364 1269.44,824.012 1364.22,896.659 1459,997.248 1553.78,1142.54 1648.56,1259.9 1743.35,1382.84 1838.13,1494.6 1932.91,376.951 2027.69,505.481 2122.47,611.658 2217.26,684.305 2312.04,768.129 2406.82,868.718 2501.6,991.66 2596.39,1109.01 2691.17,1209.6 2785.95,1321.37 2880.73,1416.37 2975.51,1505.78 3070.3,376.951 \"/>\n",
       "<polyline clip-path=\"url(#clip312)\" style=\"stroke:#f05f73; stroke-linecap:round; stroke-linejoin:round; stroke-width:4; stroke-opacity:1; fill:none\" points=\"321.616,1215.19 416.398,1338.13 511.18,1427.54 605.962,1500.19 700.744,1600.78 795.526,376.951 890.308,466.363 985.09,566.952 1079.87,656.364 1174.65,762.541 1269.44,891.071 1364.22,974.895 1459,1103.42 1553.78,1164.9 1648.56,1248.72 1743.35,1382.84 1838.13,1494.6 1932.91,376.951 2027.69,483.128 2122.47,555.775 2217.26,706.658 2312.04,846.365 2406.82,958.13 2501.6,1075.48 2596.39,1187.25 2691.17,1271.07 2785.95,1382.84 2880.73,1489.01 2975.51,1623.13 3070.3,1706.96 \"/>\n",
       "<polyline clip-path=\"url(#clip312)\" style=\"stroke:#dd64b5; stroke-linecap:round; stroke-linejoin:round; stroke-width:4; stroke-opacity:1; fill:none\" points=\"321.616,1215.19 416.398,1326.95 511.18,1433.13 605.962,1516.96 700.744,376.951 795.526,511.069 890.308,628.423 985.09,729.011 1079.87,840.777 1174.65,946.953 1269.44,1109.01 1364.22,1187.25 1459,1287.84 1553.78,1405.19 1648.56,1500.19 1743.35,376.951 1838.13,488.716 1932.91,594.893 2027.69,740.188 2122.47,863.13 2217.26,952.542 2312.04,1047.54 2406.82,1120.19 2501.6,1226.37 2596.39,1293.43 2691.17,1416.37 2785.95,376.951 2880.73,471.952 2975.51,645.188 3070.3,751.364 \"/>\n",
       "<polyline clip-path=\"url(#clip312)\" style=\"stroke:#6b9e32; stroke-linecap:round; stroke-linejoin:round; stroke-width:4; stroke-opacity:1; fill:none\" points=\"321.616,1215.19 416.398,1276.66 511.18,1377.25 605.962,1466.66 700.744,376.951 795.526,483.128 890.308,600.482 985.09,734.6 1079.87,874.306 1174.65,974.895 1269.44,1075.48 1364.22,1142.54 1459,1282.25 1553.78,1427.54 1648.56,1511.37 1743.35,1589.6 1838.13,376.951 1932.91,477.54 2027.69,566.952 2122.47,706.658 2217.26,790.482 2312.04,907.836 2406.82,1075.48 2501.6,1176.07 2596.39,1304.6 2691.17,1438.72 2785.95,1516.96 2880.73,376.951 2975.51,522.246 3070.3,639.599 \"/>\n",
       "<polyline clip-path=\"url(#clip312)\" style=\"stroke:#009af9; stroke-linecap:round; stroke-linejoin:round; stroke-width:4; stroke-opacity:1; fill:none\" points=\"321.616,1215.19 416.398,1287.84 511.18,1349.31 605.962,1489.01 700.744,376.951 795.526,499.893 890.308,572.54 985.09,717.835 1079.87,818.424 1174.65,924.6 1269.44,980.483 1364.22,1109.01 1459,1243.13 1553.78,1382.84 1648.56,1516.96 1743.35,376.951 1838.13,522.246 1932.91,656.364 2027.69,796.071 2122.47,874.306 2217.26,963.718 2312.04,1081.07 2406.82,1237.54 2501.6,1371.66 2596.39,1500.19 2691.17,376.951 2785.95,460.775 2880.73,566.952 2975.51,684.305 3070.3,796.071 \"/>\n",
       "<polyline clip-path=\"url(#clip312)\" style=\"stroke:#e26f46; stroke-linecap:round; stroke-linejoin:round; stroke-width:4; stroke-opacity:1; fill:none\" points=\"321.616,1215.19 416.398,1371.66 511.18,1466.66 605.962,376.951 700.744,477.54 795.526,600.482 890.308,695.482 985.09,801.659 1079.87,952.542 1174.65,1075.48 1269.44,1192.84 1364.22,1349.31 1459,1438.72 1553.78,1528.13 1648.56,1639.9 1743.35,376.951 1838.13,488.716 1932.91,594.893 2027.69,684.305 2122.47,762.541 2217.26,835.188 2312.04,924.6 2406.82,1064.31 2501.6,1170.48 2596.39,1293.43 2691.17,1433.13 2785.95,376.951 2880.73,477.54 2975.51,583.717 3070.3,661.952 \"/>\n",
       "<polyline clip-path=\"url(#clip312)\" style=\"stroke:#3da44d; stroke-linecap:round; stroke-linejoin:round; stroke-width:4; stroke-opacity:1; fill:none\" points=\"321.616,1215.19 416.398,1343.72 511.18,1466.66 605.962,1556.07 700.744,97.5384 795.526,175.774 890.308,281.951 985.09,388.128 1079.87,483.128 1174.65,594.893 1269.44,712.247 1364.22,835.188 1459,946.953 1553.78,1030.78 1648.56,1148.13 1743.35,1265.48 1838.13,1371.66 1932.91,1516.96 2027.69,97.5384 2122.47,214.892 2217.26,332.245 2312.04,449.599 2406.82,583.717 2501.6,678.717 2596.39,740.188 2691.17,824.012 2785.95,913.424 2880.73,1014.01 2975.51,1092.25 3070.3,1192.84 \"/>\n",
       "<polyline clip-path=\"url(#clip312)\" style=\"stroke:#c271d2; stroke-linecap:round; stroke-linejoin:round; stroke-width:4; stroke-opacity:1; fill:none\" points=\"321.616,1215.19 416.398,1287.84 511.18,1366.07 605.962,1505.78 700.744,1645.49 795.526,97.5384 890.308,175.774 985.09,276.363 1079.87,354.598 1174.65,455.187 1269.44,544.599 1364.22,650.776 1459,779.306 1553.78,919.012 1648.56,1036.37 1743.35,1131.37 1838.13,1215.19 1932.91,1343.72 2027.69,1489.01 2122.47,97.5384 2217.26,181.362 2312.04,298.716 2406.82,421.657 2501.6,522.246 2596.39,650.776 2691.17,824.012 2785.95,969.307 2880.73,1109.01 2975.51,1237.54 3070.3,1354.9 \"/>\n",
       "<polyline clip-path=\"url(#clip312)\" style=\"stroke:#ac8d18; stroke-linecap:round; stroke-linejoin:round; stroke-width:4; stroke-opacity:1; fill:none\" points=\"321.616,1215.19 416.398,1315.78 511.18,1416.37 605.962,97.5384 700.744,220.48 795.526,337.833 890.308,438.422 985.09,578.129 1079.87,701.07 1174.65,835.188 1269.44,924.6 1364.22,1047.54 1459,1170.48 1553.78,1265.48 1648.56,1349.31 1743.35,1421.96 1838.13,1511.37 1932.91,1584.01 2027.69,97.5384 2122.47,198.127 2217.26,287.539 2312.04,393.716 2406.82,516.658 2501.6,650.776 2596.39,779.306 2691.17,902.247 2785.95,1008.42 2880.73,1136.95 2975.51,1254.31 3070.3,1366.07 \"/>\n",
       "<polyline clip-path=\"url(#clip312)\" style=\"stroke:#00a9ad; stroke-linecap:round; stroke-linejoin:round; stroke-width:4; stroke-opacity:1; fill:none\" points=\"321.616,1215.19 416.398,1304.6 511.18,1405.19 605.962,1505.78 700.744,1651.07 795.526,97.5384 890.308,276.363 985.09,399.304 1079.87,505.481 1174.65,600.482 1269.44,717.835 1364.22,863.13 1459,958.13 1553.78,1064.31 1648.56,1192.84 1743.35,1293.43 1838.13,1405.19 1932.91,1500.19 2027.69,1662.25 2122.47,1751.66 2217.26,1774.02 2312.04,97.5384 2406.82,209.304 2501.6,293.127 2596.39,427.246 2691.17,533.422 2785.95,589.305 2880.73,689.894 2975.51,818.424 3070.3,958.13 \"/>\n",
       "<polyline clip-path=\"url(#clip312)\" style=\"stroke:#ed5d92; stroke-linecap:round; stroke-linejoin:round; stroke-width:4; stroke-opacity:1; fill:none\" points=\"321.616,1215.19 416.398,1371.66 511.18,1477.84 605.962,1556.07 700.744,1673.43 795.526,97.5384 890.308,214.892 985.09,399.304 1079.87,483.128 1174.65,606.07 1269.44,734.6 1364.22,846.365 1459,986.071 1553.78,1114.6 1648.56,1254.31 1743.35,1354.9 1838.13,1427.54 1932.91,1522.54 2027.69,97.5384 2122.47,198.127 2217.26,315.48 2312.04,416.069 2406.82,566.952 2501.6,667.541 2596.39,801.659 2691.17,885.483 2785.95,974.895 2880.73,1081.07 2975.51,1176.07 3070.3,1293.43 \"/>\n",
       "<polyline clip-path=\"url(#clip312)\" style=\"stroke:#c68125; stroke-linecap:round; stroke-linejoin:round; stroke-width:4; stroke-opacity:1; fill:none\" points=\"321.616,1215.19 416.398,1349.31 511.18,1410.78 605.962,1556.07 700.744,1651.07 795.526,97.5384 890.308,198.127 985.09,304.304 1079.87,416.069 1174.65,527.834 1269.44,645.188 1364.22,745.776 1459,851.953 1553.78,974.895 1648.56,1109.01 1743.35,1209.6 1838.13,1310.19 1932.91,1394.01 2027.69,97.5384 2122.47,287.539 2217.26,393.716 2312.04,488.716 2406.82,617.246 2501.6,729.011 2596.39,863.13 2691.17,974.895 2785.95,1081.07 2880.73,1220.78 2975.51,1343.72 3070.3,1483.43 \"/>\n",
       "<polyline clip-path=\"url(#clip312)\" style=\"stroke:#00a98d; stroke-linecap:round; stroke-linejoin:round; stroke-width:4; stroke-opacity:1; fill:none\" points=\"321.616,1215.19 416.398,1310.19 511.18,1399.6 605.962,1578.43 700.744,97.5384 795.526,175.774 890.308,265.186 985.09,444.01 1079.87,561.364 1174.65,684.305 1269.44,807.247 1364.22,974.895 1459,1053.13 1553.78,1164.9 1648.56,1276.66 1743.35,1394.01 1838.13,1500.19 1932.91,97.5384 2027.69,248.421 2122.47,399.304 2217.26,477.54 2312.04,606.07 2406.82,684.305 2501.6,824.012 2596.39,952.542 2691.17,1064.31 2785.95,1176.07 2880.73,1287.84 2975.51,1438.72 3070.3,1511.37 \"/>\n",
       "<polyline clip-path=\"url(#clip312)\" style=\"stroke:#8e971d; stroke-linecap:round; stroke-linejoin:round; stroke-width:4; stroke-opacity:1; fill:none\" points=\"321.616,1215.19 416.398,1338.13 511.18,1382.84 605.962,1505.78 700.744,97.5384 795.526,220.48 890.308,349.01 985.09,477.54 1079.87,645.188 1174.65,762.541 1269.44,891.071 1364.22,997.248 1459,1092.25 1553.78,1215.19 1648.56,1360.48 1743.35,1516.96 1838.13,97.5384 1932.91,175.774 2027.69,270.774 2122.47,354.598 2217.26,438.422 2312.04,561.364 2406.82,628.423 2501.6,784.894 2596.39,879.894 2691.17,974.895 2785.95,1148.13 2880.73,1243.13 2975.51,1354.9 3070.3,1444.31 \"/>\n",
       "<polyline clip-path=\"url(#clip312)\" style=\"stroke:#00a8cb; stroke-linecap:round; stroke-linejoin:round; stroke-width:4; stroke-opacity:1; fill:none\" points=\"321.616,1215.19 416.398,1315.78 511.18,1433.13 605.962,97.5384 700.744,226.068 795.526,354.598 890.308,483.128 985.09,594.893 1079.87,723.423 1174.65,807.247 1269.44,913.424 1364.22,1008.42 1459,1125.78 1553.78,1226.37 1648.56,1326.95 1743.35,1444.31 1838.13,97.5384 1932.91,186.951 2027.69,287.539 2122.47,376.951 2217.26,471.952 2312.04,589.305 2406.82,729.011 2501.6,846.365 2596.39,941.365 2691.17,980.483 2785.95,1086.66 2880.73,1187.25 2975.51,1332.54 3070.3,1438.72 \"/>\n",
       "<polyline clip-path=\"url(#clip312)\" style=\"stroke:#9b7fe8; stroke-linecap:round; stroke-linejoin:round; stroke-width:4; stroke-opacity:1; fill:none\" points=\"321.616,1215.19 416.398,1282.25 511.18,1360.48 605.962,1449.9 700.744,1544.9 795.526,1634.31 890.308,97.5384 985.09,209.304 1079.87,315.48 1174.65,460.775 1269.44,555.775 1364.22,706.658 1459,818.424 1553.78,941.365 1648.56,1103.42 1743.35,1243.13 1838.13,1310.19 1932.91,1438.72 2027.69,97.5384 2122.47,276.363 2217.26,410.481 2312.04,533.422 2406.82,656.364 2501.6,807.247 2596.39,952.542 2691.17,1036.37 2785.95,1148.13 2880.73,1282.25 2975.51,1410.78 3070.3,97.5384 \"/>\n",
       "<polyline clip-path=\"url(#clip312)\" style=\"stroke:#608cf6; stroke-linecap:round; stroke-linejoin:round; stroke-width:4; stroke-opacity:1; fill:none\" points=\"321.616,1215.19 416.398,1310.19 511.18,1455.48 605.962,1550.49 700.744,1215.19 795.526,1360.48 890.308,1466.66 985.09,1556.07 1079.87,1215.19 1174.65,1299.01 1269.44,1382.84 1364.22,1215.19 1459,1366.07 1553.78,1477.84 1648.56,1589.6 1743.35,1215.19 1838.13,1343.72 1932.91,1489.01 2027.69,1611.96 2122.47,1215.19 2217.26,1360.48 2312.04,1505.78 2406.82,1645.49 2501.6,1762.84 2596.39,1774.02 2691.17,1215.19 2785.95,1304.6 2880.73,1416.37 2975.51,1215.19 3070.3,1287.84 \"/>\n",
       "<polyline clip-path=\"url(#clip312)\" style=\"stroke:#f05f73; stroke-linecap:round; stroke-linejoin:round; stroke-width:4; stroke-opacity:1; fill:none\" points=\"321.616,1215.19 416.398,1366.07 511.18,1494.6 605.962,1215.19 700.744,1360.48 795.526,1455.48 890.308,1572.84 985.09,1645.49 1079.87,1734.9 1174.65,1774.02 1269.44,1215.19 1364.22,1360.48 1459,1449.9 1553.78,1215.19 1648.56,1321.37 1743.35,1449.9 1838.13,1215.19 1932.91,1366.07 2027.69,1489.01 2122.47,1215.19 2217.26,1299.01 2312.04,1371.66 2406.82,1466.66 2501.6,1215.19 2596.39,1304.6 2691.17,1433.13 2785.95,1215.19 2880.73,1299.01 2975.51,1371.66 3070.3,1215.19 \"/>\n",
       "<polyline clip-path=\"url(#clip312)\" style=\"stroke:#dd64b5; stroke-linecap:round; stroke-linejoin:round; stroke-width:4; stroke-opacity:1; fill:none\" points=\"321.616,1215.19 416.398,1332.54 511.18,1444.31 605.962,1215.19 700.744,1282.25 795.526,1377.25 890.308,1215.19 985.09,1315.78 1079.87,1438.72 1174.65,1215.19 1269.44,1326.95 1364.22,1421.96 1459,1522.54 1553.78,1215.19 1648.56,1315.78 1743.35,1444.31 1838.13,1215.19 1932.91,1293.43 2027.69,1382.84 2122.47,1461.07 2217.26,1215.19 2312.04,1354.9 2406.82,1438.72 2501.6,1215.19 2596.39,1343.72 2691.17,1477.84 2785.95,1215.19 2880.73,1293.43 2975.51,1338.13 3070.3,1489.01 \"/>\n",
       "<polyline clip-path=\"url(#clip312)\" style=\"stroke:#6b9e32; stroke-linecap:round; stroke-linejoin:round; stroke-width:4; stroke-opacity:1; fill:none\" points=\"321.616,1215.19 416.398,1326.95 511.18,1416.37 605.962,1528.13 700.744,1215.19 795.526,1338.13 890.308,1444.31 985.09,1572.84 1079.87,1215.19 1174.65,1338.13 1269.44,1438.72 1364.22,1215.19 1459,1332.54 1553.78,1483.43 1648.56,1215.19 1743.35,1321.37 1838.13,1444.31 1932.91,1215.19 2027.69,1310.19 2122.47,1399.6 2217.26,1215.19 2312.04,1349.31 2406.82,1466.66 2501.6,1578.43 2596.39,1667.84 2691.17,1740.49 2785.95,1215.19 2880.73,1326.95 2975.51,1511.37 3070.3,1215.19 \"/>\n",
       "<polyline clip-path=\"url(#clip312)\" style=\"stroke:#009af9; stroke-linecap:round; stroke-linejoin:round; stroke-width:4; stroke-opacity:1; fill:none\" points=\"321.616,1215.19 416.398,1315.78 511.18,1433.13 605.962,1215.19 700.744,1332.54 795.526,1449.9 890.308,1561.66 985.09,1656.66 1079.87,1774.02 1174.65,1215.19 1269.44,1299.01 1364.22,1410.78 1459,1215.19 1553.78,1354.9 1648.56,1516.96 1743.35,1600.78 1838.13,1695.78 1932.91,1774.02 2027.69,1215.19 2122.47,1354.9 2217.26,1483.43 2312.04,1600.78 2406.82,1723.72 2501.6,1774.02 2596.39,1215.19 2691.17,1321.37 2785.95,1455.48 2880.73,1589.6 2975.51,1215.19 3070.3,1338.13 \"/>\n",
       "<polyline clip-path=\"url(#clip312)\" style=\"stroke:#e26f46; stroke-linecap:round; stroke-linejoin:round; stroke-width:4; stroke-opacity:1; fill:none\" points=\"321.616,1215.19 416.398,1315.78 511.18,1444.31 605.962,1561.66 700.744,1679.02 795.526,1774.02 890.308,1774.02 985.09,1215.19 1079.87,1321.37 1174.65,1466.66 1269.44,1556.07 1364.22,1662.25 1459,1215.19 1553.78,1299.01 1648.56,1433.13 1743.35,1215.19 1838.13,1332.54 1932.91,1477.84 2027.69,1578.43 2122.47,1734.9 2217.26,1215.19 2312.04,1321.37 2406.82,1466.66 2501.6,1215.19 2596.39,1310.19 2691.17,1394.01 2785.95,1215.19 2880.73,1343.72 2975.51,1444.31 3070.3,1215.19 \"/>\n",
       "<polyline clip-path=\"url(#clip312)\" style=\"stroke:#3da44d; stroke-linecap:round; stroke-linejoin:round; stroke-width:4; stroke-opacity:1; fill:none\" points=\"321.616,1215.19 416.398,1326.95 511.18,1399.6 605.962,1215.19 700.744,1343.72 795.526,1449.9 890.308,1215.19 985.09,1338.13 1079.87,1410.78 1174.65,1489.01 1269.44,1215.19 1364.22,1332.54 1459,1449.9 1553.78,1215.19 1648.56,1343.72 1743.35,1461.07 1838.13,1550.49 1932.91,1215.19 2027.69,1349.31 2122.47,1215.19 2217.26,1366.07 2312.04,1472.25 2406.82,1617.54 2501.6,1740.49 2596.39,1215.19 2691.17,1321.37 2785.95,1444.31 2880.73,1215.19 2975.51,1332.54 3070.3,1449.9 \"/>\n",
       "<polyline clip-path=\"url(#clip312)\" style=\"stroke:#c271d2; stroke-linecap:round; stroke-linejoin:round; stroke-width:4; stroke-opacity:1; fill:none\" points=\"321.616,1215.19 416.398,1332.54 511.18,1455.48 605.962,1544.9 700.744,1215.19 795.526,1332.54 890.308,1472.25 985.09,1215.19 1079.87,1338.13 1174.65,1444.31 1269.44,1550.49 1364.22,1215.19 1459,1338.13 1553.78,1215.19 1648.56,1332.54 1743.35,1438.72 1838.13,1522.54 1932.91,1617.54 2027.69,1215.19 2122.47,1349.31 2217.26,1461.07 2312.04,1578.43 2406.82,1706.96 2501.6,1215.19 2596.39,1354.9 2691.17,1477.84 2785.95,1617.54 2880.73,1215.19 2975.51,1321.37 3070.3,1427.54 \"/>\n",
       "<polyline clip-path=\"url(#clip312)\" style=\"stroke:#ac8d18; stroke-linecap:round; stroke-linejoin:round; stroke-width:4; stroke-opacity:1; fill:none\" points=\"321.616,1215.19 416.398,1343.72 511.18,1444.31 605.962,1578.43 700.744,1667.84 795.526,1215.19 890.308,1354.9 985.09,1449.9 1079.87,1556.07 1174.65,1651.07 1269.44,1734.9 1364.22,1774.02 1459,1215.19 1553.78,1315.78 1648.56,1427.54 1743.35,1215.19 1838.13,1315.78 1932.91,1405.19 2027.69,1215.19 2122.47,1321.37 2217.26,1444.31 2312.04,1539.31 2406.82,1611.96 2501.6,1695.78 2596.39,1774.02 2691.17,1774.02 2785.95,1215.19 2880.73,1304.6 2975.51,1427.54 3070.3,1528.13 \"/>\n",
       "<polyline clip-path=\"url(#clip312)\" style=\"stroke:#00a9ad; stroke-linecap:round; stroke-linejoin:round; stroke-width:4; stroke-opacity:1; fill:none\" points=\"321.616,1215.19 416.398,1315.78 511.18,1461.07 605.962,1595.19 700.744,1667.84 795.526,1762.84 890.308,1215.19 985.09,1321.37 1079.87,1421.96 1174.65,1516.96 1269.44,1215.19 1364.22,1321.37 1459,1444.31 1553.78,1215.19 1648.56,1310.19 1743.35,1410.78 1838.13,1511.37 1932.91,1684.6 2027.69,1215.19 2122.47,1360.48 2217.26,1494.6 2312.04,1215.19 2406.82,1338.13 2501.6,1438.72 2596.39,1215.19 2691.17,1304.6 2785.95,1394.01 2880.73,1455.48 2975.51,1600.78 3070.3,1215.19 \"/>\n",
       "<polyline clip-path=\"url(#clip312)\" style=\"stroke:#ed5d92; stroke-linecap:round; stroke-linejoin:round; stroke-width:4; stroke-opacity:1; fill:none\" points=\"321.616,1215.19 416.398,1310.19 511.18,1410.78 605.962,1494.6 700.744,935.777 795.526,1069.9 890.308,1215.19 985.09,1282.25 1079.87,1360.48 1174.65,1483.43 1269.44,935.777 1364.22,1075.48 1459,1170.48 1553.78,1254.31 1648.56,1371.66 1743.35,1466.66 1838.13,935.777 1932.91,1014.01 2027.69,1109.01 2122.47,1187.25 2217.26,1321.37 2312.04,1410.78 2406.82,935.777 2501.6,1086.66 2596.39,1226.37 2691.17,1354.9 2785.95,1483.43 2880.73,935.777 2975.51,1025.19 3070.3,1131.37 \"/>\n",
       "<polyline clip-path=\"url(#clip312)\" style=\"stroke:#c68125; stroke-linecap:round; stroke-linejoin:round; stroke-width:4; stroke-opacity:1; fill:none\" points=\"321.616,1215.19 416.398,1326.95 511.18,1405.19 605.962,935.777 700.744,1103.42 795.526,1198.43 890.308,1338.13 985.09,1477.84 1079.87,1561.66 1174.65,1684.6 1269.44,935.777 1364.22,1081.07 1459,1271.07 1553.78,1349.31 1648.56,1416.37 1743.35,935.777 1838.13,1030.78 1932.91,1153.72 2027.69,1243.13 2122.47,1332.54 2217.26,1444.31 2312.04,935.777 2406.82,1069.9 2501.6,1220.78 2596.39,1315.78 2691.17,1399.6 2785.95,1494.6 2880.73,1561.66 2975.51,935.777 3070.3,1092.25 \"/>\n",
       "<polyline clip-path=\"url(#clip312)\" style=\"stroke:#00a98d; stroke-linecap:round; stroke-linejoin:round; stroke-width:4; stroke-opacity:1; fill:none\" points=\"321.616,1215.19 416.398,1299.01 511.18,1394.01 605.962,1522.54 700.744,1634.31 795.526,935.777 890.308,1047.54 985.09,1159.31 1079.87,1293.43 1174.65,1399.6 1269.44,1483.43 1364.22,1611.96 1459,1740.49 1553.78,935.777 1648.56,1041.95 1743.35,1153.72 1838.13,1299.01 1932.91,1461.07 2027.69,1572.84 2122.47,935.777 2217.26,1002.84 2312.04,1086.66 2406.82,1148.13 2501.6,1248.72 2596.39,1366.07 2691.17,1477.84 2785.95,1556.07 2880.73,1667.84 2975.51,935.777 3070.3,1086.66 \"/>\n",
       "<polyline clip-path=\"url(#clip312)\" style=\"stroke:#8e971d; stroke-linecap:round; stroke-linejoin:round; stroke-width:4; stroke-opacity:1; fill:none\" points=\"321.616,1215.19 416.398,1343.72 511.18,1455.48 605.962,1567.25 700.744,935.777 795.526,1069.9 890.308,1198.43 985.09,1293.43 1079.87,1399.6 1174.65,1477.84 1269.44,935.777 1364.22,1092.25 1459,1237.54 1553.78,1354.9 1648.56,1444.31 1743.35,935.777 1838.13,1064.31 1932.91,1192.84 2027.69,1282.25 2122.47,1377.25 2217.26,1494.6 2312.04,935.777 2406.82,1036.37 2501.6,1131.37 2596.39,1265.48 2691.17,1410.78 2785.95,1516.96 2880.73,1645.49 2975.51,935.777 3070.3,1053.13 \"/>\n",
       "<polyline clip-path=\"url(#clip312)\" style=\"stroke:#00a8cb; stroke-linecap:round; stroke-linejoin:round; stroke-width:4; stroke-opacity:1; fill:none\" points=\"321.616,1215.19 416.398,1343.72 511.18,1438.72 605.962,1528.13 700.744,935.777 795.526,1008.42 890.308,1086.66 985.09,1170.48 1079.87,1304.6 1174.65,1416.37 1269.44,1544.9 1364.22,935.777 1459,1041.95 1553.78,1153.72 1648.56,1310.19 1743.35,1433.13 1838.13,935.777 1932.91,1058.72 2027.69,1148.13 2122.47,1237.54 2217.26,1332.54 2312.04,1438.72 2406.82,935.777 2501.6,1047.54 2596.39,1176.07 2691.17,1276.66 2785.95,1388.43 2880.73,935.777 2975.51,1081.07 3070.3,1164.9 \"/>\n",
       "<polyline clip-path=\"url(#clip312)\" style=\"stroke:#9b7fe8; stroke-linecap:round; stroke-linejoin:round; stroke-width:4; stroke-opacity:1; fill:none\" points=\"321.616,1215.19 416.398,1293.43 511.18,1416.37 605.962,935.777 700.744,1069.9 795.526,1198.43 890.308,1299.01 985.09,1394.01 1079.87,1511.37 1174.65,935.777 1269.44,1014.01 1364.22,1103.42 1459,1192.84 1553.78,1304.6 1648.56,1382.84 1743.35,1505.78 1838.13,1634.31 1932.91,935.777 2027.69,1075.48 2122.47,1220.78 2217.26,1315.78 2312.04,1405.19 2406.82,935.777 2501.6,1008.42 2596.39,1131.37 2691.17,1237.54 2785.95,1377.25 2880.73,1461.07 2975.51,935.777 3070.3,1058.72 \"/>\n",
       "<polyline clip-path=\"url(#clip312)\" style=\"stroke:#608cf6; stroke-linecap:round; stroke-linejoin:round; stroke-width:4; stroke-opacity:1; fill:none\" points=\"321.616,1215.19 416.398,1315.78 511.18,1421.96 605.962,1544.9 700.744,935.777 795.526,1064.31 890.308,1170.48 985.09,1304.6 1079.87,1405.19 1174.65,935.777 1269.44,1075.48 1364.22,1176.07 1459,1259.9 1553.78,1410.78 1648.56,1483.43 1743.35,935.777 1838.13,1036.37 1932.91,1209.6 2027.69,1304.6 2122.47,1394.01 2217.26,935.777 2312.04,1053.13 2406.82,1176.07 2501.6,1326.95 2596.39,1427.54 2691.17,935.777 2785.95,1041.95 2880.73,1153.72 2975.51,1276.66 3070.3,1377.25 \"/>\n",
       "<polyline clip-path=\"url(#clip312)\" style=\"stroke:#f05f73; stroke-linecap:round; stroke-linejoin:round; stroke-width:4; stroke-opacity:1; fill:none\" points=\"321.616,1215.19 416.398,1326.95 511.18,1455.48 605.962,1539.31 700.744,1684.6 795.526,1751.66 890.308,935.777 985.09,1064.31 1079.87,1153.72 1174.65,1254.31 1269.44,1360.48 1364.22,1489.01 1459,1584.01 1553.78,935.777 1648.56,991.66 1743.35,1136.95 1838.13,1226.37 1932.91,1354.9 2027.69,1466.66 2122.47,1595.19 2217.26,935.777 2312.04,1047.54 2406.82,1192.84 2501.6,1354.9 2596.39,1494.6 2691.17,1628.72 2785.95,935.777 2880.73,1092.25 2975.51,1215.19 3070.3,1338.13 \"/>\n",
       "<polyline clip-path=\"url(#clip312)\" style=\"stroke:#dd64b5; stroke-linecap:round; stroke-linejoin:round; stroke-width:4; stroke-opacity:1; fill:none\" points=\"321.616,1215.19 416.398,1326.95 511.18,1433.13 605.962,1528.13 700.744,1634.31 795.526,1740.49 890.308,1774.02 985.09,935.777 1079.87,1025.19 1174.65,1148.13 1269.44,1259.9 1364.22,1338.13 1459,1433.13 1553.78,1544.9 1648.56,935.777 1743.35,1030.78 1838.13,1092.25 1932.91,1215.19 2027.69,1338.13 2122.47,1455.48 2217.26,935.777 2312.04,1019.6 2406.82,1114.6 2501.6,1265.48 2596.39,1405.19 2691.17,1472.25 2785.95,1589.6 2880.73,935.777 2975.51,1041.95 3070.3,1120.19 \"/>\n",
       "<polyline clip-path=\"url(#clip312)\" style=\"stroke:#6b9e32; stroke-linecap:round; stroke-linejoin:round; stroke-width:4; stroke-opacity:1; fill:none\" points=\"321.616,1215.19 416.398,1326.95 511.18,1466.66 605.962,935.777 700.744,1036.37 795.526,1125.78 890.308,1209.6 985.09,1338.13 1079.87,1461.07 1174.65,935.777 1269.44,1030.78 1364.22,1131.37 1459,1215.19 1553.78,1310.19 1648.56,1371.66 1743.35,1494.6 1838.13,935.777 1932.91,1036.37 2027.69,1125.78 2122.47,1226.37 2217.26,1326.95 2312.04,1455.48 2406.82,935.777 2501.6,1002.84 2596.39,1097.84 2691.17,1215.19 2785.95,1321.37 2880.73,1461.07 2975.51,1584.01 3070.3,935.777 \"/>\n",
       "<polyline clip-path=\"url(#clip312)\" style=\"stroke:#009af9; stroke-linecap:round; stroke-linejoin:round; stroke-width:4; stroke-opacity:1; fill:none\" points=\"321.616,1215.19 416.398,1360.48 511.18,1489.01 605.962,656.364 700.744,756.953 795.526,857.541 890.308,969.307 985.09,1097.84 1079.87,1226.37 1174.65,1338.13 1269.44,1472.25 1364.22,656.364 1459,762.541 1553.78,840.777 1648.56,969.307 1743.35,1114.6 1838.13,1231.95 1932.91,1321.37 2027.69,1427.54 2122.47,656.364 2217.26,768.129 2312.04,896.659 2406.82,986.071 2501.6,1109.01 2596.39,1192.84 2691.17,1315.78 2785.95,1449.9 2880.73,656.364 2975.51,762.541 3070.3,863.13 \"/>\n",
       "<polyline clip-path=\"url(#clip312)\" style=\"stroke:#e26f46; stroke-linecap:round; stroke-linejoin:round; stroke-width:4; stroke-opacity:1; fill:none\" points=\"321.616,1215.19 416.398,1315.78 511.18,1433.13 605.962,656.364 700.744,801.659 795.526,919.012 890.308,1030.78 985.09,1148.13 1079.87,1248.72 1174.65,1382.84 1269.44,1477.84 1364.22,656.364 1459,796.071 1553.78,935.777 1648.56,1053.13 1743.35,1159.31 1838.13,1287.84 1932.91,1405.19 2027.69,1505.78 2122.47,1584.01 2217.26,656.364 2312.04,801.659 2406.82,896.659 2501.6,980.483 2596.39,1081.07 2691.17,1170.48 2785.95,1248.72 2880.73,1354.9 2975.51,1477.84 3070.3,1639.9 \"/>\n",
       "<polyline clip-path=\"url(#clip312)\" style=\"stroke:#3da44d; stroke-linecap:round; stroke-linejoin:round; stroke-width:4; stroke-opacity:1; fill:none\" points=\"321.616,1215.19 416.398,1382.84 511.18,1494.6 605.962,1623.13 700.744,656.364 795.526,779.306 890.308,896.659 985.09,1025.19 1079.87,1086.66 1174.65,1192.84 1269.44,1315.78 1364.22,1433.13 1459,1522.54 1553.78,1651.07 1648.56,1762.84 1743.35,656.364 1838.13,762.541 1932.91,851.953 2027.69,941.365 2122.47,1053.13 2217.26,1170.48 2312.04,1293.43 2406.82,1433.13 2501.6,656.364 2596.39,751.364 2691.17,891.071 2785.95,1019.6 2880.73,1142.54 2975.51,1243.13 3070.3,1338.13 \"/>\n",
       "<polyline clip-path=\"url(#clip312)\" style=\"stroke:#c271d2; stroke-linecap:round; stroke-linejoin:round; stroke-width:4; stroke-opacity:1; fill:none\" points=\"321.616,1215.19 416.398,1332.54 511.18,1421.96 605.962,1511.37 700.744,656.364 795.526,740.188 890.308,851.953 985.09,930.189 1079.87,1075.48 1174.65,1148.13 1269.44,1282.25 1364.22,1354.9 1459,1461.07 1553.78,1578.43 1648.56,1706.96 1743.35,1774.02 1838.13,1774.02 1932.91,656.364 2027.69,751.364 2122.47,879.894 2217.26,986.071 2312.04,1103.42 2406.82,1226.37 2501.6,1332.54 2596.39,1444.31 2691.17,1550.49 2785.95,1656.66 2880.73,656.364 2975.51,740.188 3070.3,824.012 \"/>\n",
       "<polyline clip-path=\"url(#clip312)\" style=\"stroke:#ac8d18; stroke-linecap:round; stroke-linejoin:round; stroke-width:4; stroke-opacity:1; fill:none\" points=\"321.616,1215.19 416.398,1321.37 511.18,1444.31 605.962,1572.84 700.744,1667.84 795.526,1751.66 890.308,1774.02 985.09,656.364 1079.87,790.482 1174.65,891.071 1269.44,1008.42 1364.22,1170.48 1459,1265.48 1553.78,1371.66 1648.56,1494.6 1743.35,656.364 1838.13,745.776 1932.91,846.365 2027.69,924.6 2122.47,1041.95 2217.26,1204.01 2312.04,1326.95 2406.82,1444.31 2501.6,656.364 2596.39,784.894 2691.17,891.071 2785.95,1008.42 2880.73,1120.19 2975.51,1237.54 3070.3,1377.25 \"/>\n",
       "<polyline clip-path=\"url(#clip312)\" style=\"stroke:#00a9ad; stroke-linecap:round; stroke-linejoin:round; stroke-width:4; stroke-opacity:1; fill:none\" points=\"321.616,1215.19 416.398,1338.13 511.18,1427.54 605.962,656.364 700.744,745.776 795.526,857.541 890.308,980.483 985.09,1097.84 1079.87,1209.6 1174.65,1338.13 1269.44,1433.13 1364.22,656.364 1459,807.247 1553.78,868.718 1648.56,969.307 1743.35,1058.72 1838.13,1187.25 1932.91,1265.48 2027.69,1405.19 2122.47,1489.01 2217.26,1617.54 2312.04,1746.07 2406.82,1774.02 2501.6,1774.02 2596.39,1774.02 2691.17,1774.02 2785.95,656.364 2880.73,790.482 2975.51,868.718 3070.3,958.13 \"/>\n",
       "<polyline clip-path=\"url(#clip312)\" style=\"stroke:#ed5d92; stroke-linecap:round; stroke-linejoin:round; stroke-width:4; stroke-opacity:1; fill:none\" points=\"321.616,1215.19 416.398,1310.19 511.18,1382.84 605.962,1505.78 700.744,1589.6 795.526,1690.19 890.308,1751.66 985.09,656.364 1079.87,756.953 1174.65,829.6 1269.44,935.777 1364.22,1064.31 1459,1192.84 1553.78,1343.72 1648.56,1449.9 1743.35,1595.19 1838.13,1690.19 1932.91,656.364 2027.69,773.718 2122.47,885.483 2217.26,986.071 2312.04,1109.01 2406.82,1176.07 2501.6,1299.01 2596.39,1438.72 2691.17,1533.72 2785.95,656.364 2880.73,751.364 2975.51,863.13 3070.3,969.307 \"/>\n",
       "<polyline clip-path=\"url(#clip312)\" style=\"stroke:#c68125; stroke-linecap:round; stroke-linejoin:round; stroke-width:4; stroke-opacity:1; fill:none\" points=\"321.616,1215.19 416.398,1326.95 511.18,1433.13 605.962,656.364 700.744,745.776 795.526,874.306 890.308,952.542 985.09,1081.07 1079.87,1159.31 1174.65,1254.31 1269.44,1366.07 1364.22,1489.01 1459,656.364 1553.78,801.659 1648.56,891.071 1743.35,1002.84 1838.13,1092.25 1932.91,1226.37 2027.69,1326.95 2122.47,1438.72 2217.26,1505.78 2312.04,1667.84 2406.82,656.364 2501.6,745.776 2596.39,851.953 2691.17,913.424 2785.95,1036.37 2880.73,1164.9 2975.51,1354.9 3070.3,1449.9 \"/>\n",
       "<polyline clip-path=\"url(#clip312)\" style=\"stroke:#00a98d; stroke-linecap:round; stroke-linejoin:round; stroke-width:4; stroke-opacity:1; fill:none\" points=\"321.616,1215.19 416.398,1321.37 511.18,1427.54 605.962,656.364 700.744,807.247 795.526,896.659 890.308,1041.95 985.09,1198.43 1079.87,1293.43 1174.65,1377.25 1269.44,1461.07 1364.22,656.364 1459,768.129 1553.78,924.6 1648.56,1030.78 1743.35,1153.72 1838.13,1259.9 1932.91,1388.43 2027.69,1511.37 2122.47,656.364 2217.26,790.482 2312.04,863.13 2406.82,980.483 2501.6,1114.6 2596.39,1248.72 2691.17,1354.9 2785.95,1461.07 2880.73,1584.01 2975.51,1651.07 3070.3,1762.84 \"/>\n",
       "<polyline clip-path=\"url(#clip312)\" style=\"stroke:#8e971d; stroke-linecap:round; stroke-linejoin:round; stroke-width:4; stroke-opacity:1; fill:none\" points=\"321.616,1215.19 416.398,1349.31 511.18,1444.31 605.962,656.364 700.744,762.541 795.526,919.012 890.308,1014.01 985.09,1159.31 1079.87,1282.25 1174.65,1427.54 1269.44,656.364 1364.22,756.953 1459,924.6 1553.78,1002.84 1648.56,1058.72 1743.35,1159.31 1838.13,1299.01 1932.91,1416.37 2027.69,656.364 2122.47,801.659 2217.26,924.6 2312.04,1047.54 2406.82,1159.31 2501.6,1243.13 2596.39,1388.43 2691.17,1489.01 2785.95,656.364 2880.73,779.306 2975.51,907.836 3070.3,1019.6 \"/>\n",
       "<polyline clip-path=\"url(#clip312)\" style=\"stroke:#00a8cb; stroke-linecap:round; stroke-linejoin:round; stroke-width:4; stroke-opacity:1; fill:none\" points=\"321.616,1215.19 416.398,1299.01 511.18,1382.84 605.962,1516.96 700.744,376.951 795.526,449.599 890.308,516.658 985.09,645.188 1079.87,768.129 1174.65,868.718 1269.44,1014.01 1364.22,1114.6 1459,1226.37 1553.78,1343.72 1648.56,1427.54 1743.35,1500.19 1838.13,1606.37 1932.91,376.951 2027.69,539.011 2122.47,673.129 2217.26,768.129 2312.04,868.718 2406.82,935.777 2501.6,1058.72 2596.39,1215.19 2691.17,1343.72 2785.95,1438.72 2880.73,376.951 2975.51,499.893 3070.3,578.129 \"/>\n",
       "<polyline clip-path=\"url(#clip312)\" style=\"stroke:#9b7fe8; stroke-linecap:round; stroke-linejoin:round; stroke-width:4; stroke-opacity:1; fill:none\" points=\"321.616,1215.19 416.398,1343.72 511.18,1466.66 605.962,1600.78 700.744,1712.54 795.526,1774.02 890.308,376.951 985.09,449.599 1079.87,600.482 1174.65,701.07 1269.44,807.247 1364.22,907.836 1459,991.66 1553.78,1125.78 1648.56,1198.43 1743.35,1321.37 1838.13,1410.78 1932.91,1505.78 2027.69,376.951 2122.47,494.305 2217.26,622.835 2312.04,729.011 2406.82,885.483 2501.6,986.071 2596.39,1153.72 2691.17,1259.9 2785.95,1315.78 2880.73,1461.07 2975.51,376.951 3070.3,471.952 \"/>\n",
       "<polyline clip-path=\"url(#clip312)\" style=\"stroke:#608cf6; stroke-linecap:round; stroke-linejoin:round; stroke-width:4; stroke-opacity:1; fill:none\" points=\"321.616,1215.19 416.398,1332.54 511.18,1433.13 605.962,1539.31 700.744,376.951 795.526,494.305 890.308,639.599 985.09,756.953 1079.87,857.541 1174.65,986.071 1269.44,1109.01 1364.22,1209.6 1459,1332.54 1553.78,1427.54 1648.56,376.951 1743.35,483.128 1838.13,594.893 1932.91,729.011 2027.69,812.835 2122.47,974.895 2217.26,1081.07 2312.04,1220.78 2406.82,1371.66 2501.6,1438.72 2596.39,1522.54 2691.17,1662.25 2785.95,1774.02 2880.73,1774.02 2975.51,376.951 3070.3,477.54 \"/>\n",
       "<polyline clip-path=\"url(#clip312)\" style=\"stroke:#f05f73; stroke-linecap:round; stroke-linejoin:round; stroke-width:4; stroke-opacity:1; fill:none\" points=\"321.616,1215.19 416.398,1332.54 511.18,1405.19 605.962,376.951 700.744,483.128 795.526,606.07 890.308,779.306 985.09,846.365 1079.87,919.012 1174.65,1036.37 1269.44,1109.01 1364.22,1198.43 1459,1293.43 1553.78,1438.72 1648.56,376.951 1743.35,444.01 1838.13,578.129 1932.91,745.776 2027.69,885.483 2122.47,991.66 2217.26,1064.31 2312.04,1131.37 2406.82,1315.78 2501.6,1472.25 2596.39,376.951 2691.17,466.363 2785.95,583.717 2880.73,650.776 2975.51,701.07 3070.3,812.835 \"/>\n",
       "<polyline clip-path=\"url(#clip312)\" style=\"stroke:#dd64b5; stroke-linecap:round; stroke-linejoin:round; stroke-width:4; stroke-opacity:1; fill:none\" points=\"321.616,1215.19 416.398,1338.13 511.18,1433.13 605.962,376.951 700.744,505.481 795.526,617.246 890.308,784.894 985.09,907.836 1079.87,1025.19 1174.65,1164.9 1269.44,1310.19 1364.22,1410.78 1459,376.951 1553.78,483.128 1648.56,566.952 1743.35,689.894 1838.13,801.659 1932.91,963.718 2027.69,1086.66 2122.47,1209.6 2217.26,1287.84 2312.04,1382.84 2406.82,1466.66 2501.6,376.951 2596.39,488.716 2691.17,622.835 2785.95,734.6 2880.73,818.424 2975.51,941.365 3070.3,1014.01 \"/>\n",
       "<polyline clip-path=\"url(#clip312)\" style=\"stroke:#6b9e32; stroke-linecap:round; stroke-linejoin:round; stroke-width:4; stroke-opacity:1; fill:none\" points=\"321.616,1215.19 416.398,1326.95 511.18,1405.19 605.962,1477.84 700.744,376.951 795.526,455.187 890.308,550.187 985.09,656.364 1079.87,807.247 1174.65,902.247 1269.44,1053.13 1364.22,1153.72 1459,1254.31 1553.78,1388.43 1648.56,376.951 1743.35,471.952 1838.13,606.07 1932.91,689.894 2027.69,790.482 2122.47,874.306 2217.26,969.307 2312.04,1047.54 2406.82,1120.19 2501.6,1192.84 2596.39,1287.84 2691.17,1394.01 2785.95,1516.96 2880.73,376.951 2975.51,494.305 3070.3,622.835 \"/>\n",
       "<polyline clip-path=\"url(#clip312)\" style=\"stroke:#009af9; stroke-linecap:round; stroke-linejoin:round; stroke-width:4; stroke-opacity:1; fill:none\" points=\"321.616,1215.19 416.398,1321.37 511.18,1438.72 605.962,1572.84 700.744,1712.54 795.526,1774.02 890.308,376.951 985.09,527.834 1079.87,695.482 1174.65,790.482 1269.44,863.13 1364.22,969.307 1459,1125.78 1553.78,1243.13 1648.56,1366.07 1743.35,1472.25 1838.13,376.951 1932.91,466.363 2027.69,572.54 2122.47,667.541 2217.26,818.424 2312.04,974.895 2406.82,1092.25 2501.6,1226.37 2596.39,1366.07 2691.17,1477.84 2785.95,1617.54 2880.73,1723.72 2975.51,376.951 3070.3,477.54 \"/>\n",
       "<polyline clip-path=\"url(#clip312)\" style=\"stroke:#e26f46; stroke-linecap:round; stroke-linejoin:round; stroke-width:4; stroke-opacity:1; fill:none\" points=\"321.616,1215.19 416.398,1354.9 511.18,1455.48 605.962,376.951 700.744,477.54 795.526,527.834 890.308,634.011 985.09,745.776 1079.87,851.953 1174.65,930.189 1269.44,1041.95 1364.22,1176.07 1459,1276.66 1553.78,1388.43 1648.56,1461.07 1743.35,376.951 1838.13,466.363 1932.91,550.187 2027.69,656.364 2122.47,762.541 2217.26,879.894 2312.04,980.483 2406.82,1081.07 2501.6,1198.43 2596.39,1315.78 2691.17,1466.66 2785.95,1556.07 2880.73,376.951 2975.51,488.716 3070.3,589.305 \"/>\n",
       "<polyline clip-path=\"url(#clip312)\" style=\"stroke:#3da44d; stroke-linecap:round; stroke-linejoin:round; stroke-width:4; stroke-opacity:1; fill:none\" points=\"321.616,1215.19 416.398,1360.48 511.18,1483.43 605.962,376.951 700.744,511.069 795.526,628.423 890.308,656.364 985.09,768.129 1079.87,863.13 1174.65,991.66 1269.44,1086.66 1364.22,1176.07 1459,1276.66 1553.78,1354.9 1648.56,1489.01 1743.35,376.951 1838.13,511.069 1932.91,566.952 2027.69,667.541 2122.47,812.835 2217.26,919.012 2312.04,1041.95 2406.82,1153.72 2501.6,1299.01 2596.39,1399.6 2691.17,1489.01 2785.95,376.951 2880.73,483.128 2975.51,611.658 3070.3,695.482 \"/>\n",
       "<polyline clip-path=\"url(#clip312)\" style=\"stroke:#c271d2; stroke-linecap:round; stroke-linejoin:round; stroke-width:4; stroke-opacity:1; fill:none\" points=\"321.616,1215.19 416.398,1304.6 511.18,1405.19 605.962,376.951 700.744,488.716 795.526,600.482 890.308,745.776 985.09,863.13 1079.87,974.895 1174.65,1047.54 1269.44,1170.48 1364.22,1271.07 1459,1388.43 1553.78,1466.66 1648.56,1561.66 1743.35,376.951 1838.13,477.54 1932.91,589.305 2027.69,706.658 2122.47,824.012 2217.26,963.718 2312.04,1086.66 2406.82,1198.43 2501.6,1293.43 2596.39,1427.54 2691.17,1516.96 2785.95,1628.72 2880.73,1768.43 2975.51,376.951 3070.3,483.128 \"/>\n",
       "<polyline clip-path=\"url(#clip312)\" style=\"stroke:#ac8d18; stroke-linecap:round; stroke-linejoin:round; stroke-width:4; stroke-opacity:1; fill:none\" points=\"321.616,1215.19 416.398,1321.37 511.18,1472.25 605.962,97.5384 700.744,170.186 795.526,254.01 890.308,382.54 985.09,483.128 1079.87,600.482 1174.65,689.894 1269.44,812.835 1364.22,930.189 1459,1058.72 1553.78,1148.13 1648.56,1254.31 1743.35,1338.13 1838.13,1472.25 1932.91,1595.19 2027.69,97.5384 2122.47,220.48 2217.26,365.775 2312.04,421.657 2406.82,527.834 2501.6,611.658 2596.39,773.718 2691.17,930.189 2785.95,1041.95 2880.73,1136.95 2975.51,1254.31 3070.3,1338.13 \"/>\n",
       "<polyline clip-path=\"url(#clip312)\" style=\"stroke:#00a9ad; stroke-linecap:round; stroke-linejoin:round; stroke-width:4; stroke-opacity:1; fill:none\" points=\"321.616,1215.19 416.398,1360.48 511.18,1489.01 605.962,1600.78 700.744,97.5384 795.526,220.48 890.308,388.128 985.09,488.716 1079.87,617.246 1174.65,712.247 1269.44,824.012 1364.22,930.189 1459,1075.48 1553.78,1148.13 1648.56,1254.31 1743.35,1388.43 1838.13,97.5384 1932.91,220.48 2027.69,343.422 2122.47,516.658 2217.26,617.246 2312.04,729.011 2406.82,857.541 2501.6,941.365 2596.39,1058.72 2691.17,1125.78 2785.95,1248.72 2880.73,1377.25 2975.51,97.5384 3070.3,231.657 \"/>\n",
       "<polyline clip-path=\"url(#clip312)\" style=\"stroke:#ed5d92; stroke-linecap:round; stroke-linejoin:round; stroke-width:4; stroke-opacity:1; fill:none\" points=\"321.616,1215.19 416.398,1338.13 511.18,97.5384 605.962,164.597 700.744,276.363 795.526,365.775 890.308,471.952 985.09,572.54 1079.87,678.717 1174.65,773.718 1269.44,907.836 1364.22,1025.19 1459,1136.95 1553.78,1259.9 1648.56,1366.07 1743.35,1477.84 1838.13,1617.54 1932.91,97.5384 2027.69,203.715 2122.47,287.539 2217.26,410.481 2312.04,533.422 2406.82,656.364 2501.6,812.835 2596.39,919.012 2691.17,1058.72 2785.95,1164.9 2880.73,1248.72 2975.51,1366.07 3070.3,97.5384 \"/>\n",
       "<polyline clip-path=\"url(#clip312)\" style=\"stroke:#c68125; stroke-linecap:round; stroke-linejoin:round; stroke-width:4; stroke-opacity:1; fill:none\" points=\"321.616,1215.19 416.398,1332.54 511.18,1433.13 605.962,97.5384 700.744,214.892 795.526,315.48 890.308,438.422 985.09,555.775 1079.87,628.423 1174.65,717.835 1269.44,846.365 1364.22,969.307 1459,1036.37 1553.78,1164.9 1648.56,1310.19 1743.35,1449.9 1838.13,1561.66 1932.91,97.5384 2027.69,198.127 2122.47,304.304 2217.26,421.657 2312.04,527.834 2406.82,617.246 2501.6,712.247 2596.39,835.188 2691.17,958.13 2785.95,1041.95 2880.73,1136.95 2975.51,1271.07 3070.3,1360.48 \"/>\n",
       "<polyline clip-path=\"url(#clip312)\" style=\"stroke:#00a98d; stroke-linecap:round; stroke-linejoin:round; stroke-width:4; stroke-opacity:1; fill:none\" points=\"321.616,1215.19 416.398,1287.84 511.18,1388.43 605.962,1472.25 700.744,97.5384 795.526,186.951 890.308,270.774 985.09,427.246 1079.87,561.364 1174.65,667.541 1269.44,756.953 1364.22,891.071 1459,1002.84 1553.78,1120.19 1648.56,1259.9 1743.35,1388.43 1838.13,1477.84 1932.91,1628.72 2027.69,1706.96 2122.47,97.5384 2217.26,198.127 2312.04,293.127 2406.82,382.54 2501.6,516.658 2596.39,606.07 2691.17,717.835 2785.95,851.953 2880.73,969.307 2975.51,1075.48 3070.3,1209.6 \"/>\n",
       "<polyline clip-path=\"url(#clip312)\" style=\"stroke:#8e971d; stroke-linecap:round; stroke-linejoin:round; stroke-width:4; stroke-opacity:1; fill:none\" points=\"321.616,1215.19 416.398,1304.6 511.18,1388.43 605.962,1516.96 700.744,97.5384 795.526,214.892 890.308,304.304 985.09,376.951 1079.87,477.54 1174.65,572.54 1269.44,689.894 1364.22,818.424 1459,980.483 1553.78,1086.66 1648.56,1220.78 1743.35,1332.54 1838.13,1410.78 1932.91,1528.13 2027.69,1628.72 2122.47,97.5384 2217.26,237.245 2312.04,349.01 2406.82,432.834 2501.6,516.658 2596.39,617.246 2691.17,717.835 2785.95,835.188 2880.73,958.13 2975.51,1081.07 3070.3,1204.01 \"/>\n",
       "<polyline clip-path=\"url(#clip312)\" style=\"stroke:#00a8cb; stroke-linecap:round; stroke-linejoin:round; stroke-width:4; stroke-opacity:1; fill:none\" points=\"321.616,1215.19 416.398,1304.6 511.18,1427.54 605.962,1528.13 700.744,97.5384 795.526,209.304 890.308,332.245 985.09,449.599 1079.87,511.069 1174.65,611.658 1269.44,723.423 1364.22,851.953 1459,969.307 1553.78,1131.37 1648.56,1204.01 1743.35,1271.07 1838.13,1366.07 1932.91,97.5384 2027.69,181.362 2122.47,287.539 2217.26,399.304 2312.04,488.716 2406.82,611.658 2501.6,717.835 2596.39,824.012 2691.17,941.365 2785.95,1014.01 2880.73,1148.13 2975.51,1254.31 3070.3,1366.07 \"/>\n",
       "<polyline clip-path=\"url(#clip312)\" style=\"stroke:#9b7fe8; stroke-linecap:round; stroke-linejoin:round; stroke-width:4; stroke-opacity:1; fill:none\" points=\"321.616,1215.19 416.398,1349.31 511.18,1483.43 605.962,1567.25 700.744,1679.02 795.526,1774.02 890.308,97.5384 985.09,248.421 1079.87,393.716 1174.65,499.893 1269.44,650.776 1364.22,801.659 1459,851.953 1553.78,963.718 1648.56,1109.01 1743.35,1209.6 1838.13,1338.13 1932.91,1466.66 2027.69,1567.25 2122.47,1673.43 2217.26,97.5384 2312.04,198.127 2406.82,337.833 2501.6,455.187 2596.39,578.129 2691.17,656.364 2785.95,756.953 2880.73,863.13 2975.51,980.483 3070.3,1081.07 \"/>\n",
       "<polyline clip-path=\"url(#clip312)\" style=\"stroke:#608cf6; stroke-linecap:round; stroke-linejoin:round; stroke-width:4; stroke-opacity:1; fill:none\" points=\"321.616,1215.19 416.398,1360.48 511.18,1494.6 605.962,1589.6 700.744,97.5384 795.526,153.421 890.308,270.774 985.09,365.775 1079.87,449.599 1174.65,594.893 1269.44,678.717 1364.22,807.247 1459,913.424 1553.78,1075.48 1648.56,1164.9 1743.35,1265.48 1838.13,1366.07 1932.91,1477.84 2027.69,1589.6 2122.47,97.5384 2217.26,220.48 2312.04,293.127 2406.82,410.481 2501.6,505.481 2596.39,622.835 2691.17,734.6 2785.95,857.541 2880.73,1002.84 2975.51,1109.01 3070.3,1181.66 \"/>\n",
       "<polyline clip-path=\"url(#clip312)\" style=\"stroke:#f05f73; stroke-linecap:round; stroke-linejoin:round; stroke-width:4; stroke-opacity:1; fill:none\" points=\"321.616,1215.19 416.398,1321.37 511.18,1472.25 605.962,1589.6 700.744,97.5384 795.526,198.127 890.308,304.304 985.09,427.246 1079.87,544.599 1174.65,650.776 1269.44,768.129 1364.22,868.718 1459,963.718 1553.78,1064.31 1648.56,1204.01 1743.35,1321.37 1838.13,1410.78 1932.91,1533.72 2027.69,97.5384 2122.47,231.657 2217.26,376.951 2312.04,466.363 2406.82,650.776 2501.6,745.776 2596.39,863.13 2691.17,946.953 2785.95,1053.13 2880.73,1159.31 2975.51,1287.84 3070.3,1466.66 \"/>\n",
       "</svg>\n"
      ]
     },
     "execution_count": 93,
     "metadata": {},
     "output_type": "execute_result"
    }
   ],
   "source": [
    "using Plots\n",
    "p=plot(size=(800,500)) # set size to i x j pixels\n",
    "i=0\n",
    "for warehouse_level in avg_payoffs.warehouse_levels\n",
    "    plot!(warehouse_level, label=\"lvl $i\", legend=false)\n",
    "    i+=1\n",
    "end\n",
    "\n",
    "xlabel!(\"number\")\n",
    "ylabel!(\"warehouse_level\")"
   ]
  },
  {
   "cell_type": "markdown",
   "metadata": {},
   "source": [
    "# OPTIMIZATION approach"
   ]
  },
  {
   "cell_type": "markdown",
   "metadata": {},
   "source": [
    "### profit maximization "
   ]
  },
  {
   "cell_type": "code",
   "execution_count": 88,
   "metadata": {},
   "outputs": [
    {
     "data": {
      "text/plain": [
       "20"
      ]
     },
     "execution_count": 88,
     "metadata": {},
     "output_type": "execute_result"
    }
   ],
   "source": [
    "#assumptions\n",
    "h = 0.1 #koszt przechowywania jednostki towaru    \n",
    "c = 2.0 #jednostkowy zysk ze sprzedaży\n",
    "p = 0.50 #prawdopodobieństwo dostawy\n",
    "K = 40 #koszt stałego zamówienia\n",
    "k = 1.0 #koszt zmiennej ilości zamówionego towaru\n",
    "init_S = 100 #początkowa ilość towaru w magazynie\n",
    "average_demand = 20 #średnie dzienne zapotrzebowanie"
   ]
  },
  {
   "cell_type": "code",
   "execution_count": null,
   "metadata": {},
   "outputs": [],
   "source": [
    "using Optim\n",
    "\n",
    "# Define the objective function to be maximized\n",
    "function objective_function(x)\n",
    "    s = x[1]\n",
    "    S = x[2]\n",
    "    results = simulateManyRuns(100, 365, s:s+10, S:S+50, init_S = S, s_min = s, s_max = s+10, S_min = S, S_max = S+50)\n",
    "    return -mean(results.profits)\n",
    "end\n",
    "\n",
    "# Set up the optimization problem\n",
    "initial_guess = [20, 100] # initial guess for s and S\n",
    "lower_bounds = [0, 0] # lower bounds for s and S\n",
    "upper_bounds = [100, 500] # upper bounds for s and S\n",
    "opt = optimize(objective_function, lower_bounds, upper_bounds, initial_guess)\n",
    "\n",
    "# Print the optimal values of s and S, as well as the maximum profit\n",
    "println(\"Optimal s: \", opt.minimizer[1])\n",
    "println(\"Optimal S: \", opt.minimizer[2])\n",
    "println(\"Maximum profit: \", -opt.minimum)\n"
   ]
  },
  {
   "cell_type": "code",
   "execution_count": null,
   "metadata": {},
   "outputs": [],
   "source": []
  },
  {
   "cell_type": "markdown",
   "metadata": {},
   "source": [
    "### cost minimization"
   ]
  },
  {
   "cell_type": "code",
   "execution_count": null,
   "metadata": {},
   "outputs": [],
   "source": []
  },
  {
   "cell_type": "code",
   "execution_count": null,
   "metadata": {},
   "outputs": [],
   "source": []
  },
  {
   "cell_type": "code",
   "execution_count": null,
   "metadata": {},
   "outputs": [],
   "source": []
  }
 ],
 "metadata": {
  "kernelspec": {
   "display_name": "Julia 1.8.5",
   "language": "julia",
   "name": "julia-1.8"
  },
  "language_info": {
   "file_extension": ".jl",
   "mimetype": "application/julia",
   "name": "julia",
   "version": "1.8.5"
  }
 },
 "nbformat": 4,
 "nbformat_minor": 2
}
